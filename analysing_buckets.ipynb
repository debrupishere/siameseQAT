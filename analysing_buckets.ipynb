{
 "cells": [
  {
   "cell_type": "markdown",
   "metadata": {},
   "source": [
    "### Analysing masters present in bug reports"
   ]
  },
  {
   "cell_type": "code",
   "execution_count": 1,
   "metadata": {},
   "outputs": [
    {
     "name": "stdout",
     "output_type": "stream",
     "text": [
      "Requirement already satisfied: networkx in /usr/local/lib/python3.5/dist-packages (2.4)\n",
      "Requirement already satisfied: decorator>=4.3.0 in /usr/local/lib/python3.5/dist-packages (from networkx) (4.3.0)\n",
      "\u001b[33mWARNING: You are using pip version 20.0.2; however, version 20.2.3 is available.\n",
      "You should consider upgrading via the '/usr/bin/python3 -m pip install --upgrade pip' command.\u001b[0m\n"
     ]
    }
   ],
   "source": [
    "!pip install networkx"
   ]
  },
  {
   "cell_type": "code",
   "execution_count": 2,
   "metadata": {},
   "outputs": [],
   "source": [
    "import networkx as nx\n",
    "import matplotlib.pyplot as plt\n",
    "import _pickle as pickle"
   ]
  },
  {
   "cell_type": "code",
   "execution_count": 3,
   "metadata": {},
   "outputs": [],
   "source": [
    "import re\n",
    "import numpy as np\n",
    "import pandas as pd\n",
    "\n",
    "import os\n",
    "from tqdm import tqdm_notebook as tqdm\n",
    "import matplotlib.pyplot as plt\n",
    "import sys\n",
    "from annoy import AnnoyIndex\n",
    "nb_dir = os.path.split(os.getcwd())[0]\n",
    "if nb_dir not in sys.path:\n",
    "    sys.path.append(nb_dir)\n",
    "    \n",
    "%matplotlib inline"
   ]
  },
  {
   "cell_type": "code",
   "execution_count": 4,
   "metadata": {},
   "outputs": [],
   "source": [
    "MAX_SEQUENCE_LENGTH_T = 20 # 20\n",
    "MAX_SEQUENCE_LENGTH_D = 20 # 80\n",
    "EMBEDDING_DIM = 300\n",
    "MAX_NB_WORDS = 20000\n",
    "\n",
    "'''\n",
    "    Configuration\n",
    "'''\n",
    "epochs = 100\n",
    "best_loss = 1\n",
    "best_epoch = 0\n",
    "verbose = 0\n",
    "loss = 1"
   ]
  },
  {
   "cell_type": "code",
   "execution_count": 34,
   "metadata": {},
   "outputs": [],
   "source": [
    "# Domain to use\n",
    "DOMAIN = 'openoffice'\n",
    "'''\n",
    "    propose_centroid_bert_\n",
    "    propose_bert_triplet_\n",
    "    propose_bert_\n",
    "    deepQL_trainable_\n",
    "    deepQL_no_trainable_\n",
    "    baseline_dwen_\n",
    "    baseline_\n",
    "'''\n",
    "METHOD = 'deepQL_trainable_{}'.format(epochs)\n",
    "EMBED_METHOD='bert'\n",
    "TOKEN = 'bert'\n",
    "ONLY_BUCKETS = False\n",
    "# Dataset paths\n",
    "DIR = 'data/processed/{}'.format(DOMAIN)\n",
    "DIR_PAIRS = 'data/normalized/{}'.format(DOMAIN)\n",
    "DATASET = os.path.join('data/normalized/{}'.format(DOMAIN), '{}.csv'.format(DOMAIN))\n",
    "# Path embeddings\n",
    "EMBED_DIR='data/embed'\n",
    "# Save model\n",
    "SAVE_PATH = '{}_feature@number_of_epochs@epochs_64batch({})'.format(METHOD, DOMAIN)\n",
    "SAVE_PATH_FEATURE = '{}_feature_@number_of_epochs@epochs_64batch({})'.format(METHOD, DOMAIN)\n",
    "\n",
    "# Extract CORPUs\n",
    "EXTRACT_CORPUS = False"
   ]
  },
  {
   "cell_type": "code",
   "execution_count": 6,
   "metadata": {},
   "outputs": [],
   "source": [
    "path_buckets = 'data/normalized/{}/{}.csv'.format(DOMAIN, DOMAIN)\n",
    "\n",
    "df = pd.read_csv(path_buckets)"
   ]
  },
  {
   "cell_type": "code",
   "execution_count": 7,
   "metadata": {},
   "outputs": [
    {
     "data": {
      "text/html": [
       "<div>\n",
       "<style scoped>\n",
       "    .dataframe tbody tr th:only-of-type {\n",
       "        vertical-align: middle;\n",
       "    }\n",
       "\n",
       "    .dataframe tbody tr th {\n",
       "        vertical-align: top;\n",
       "    }\n",
       "\n",
       "    .dataframe thead th {\n",
       "        text-align: right;\n",
       "    }\n",
       "</style>\n",
       "<table border=\"1\" class=\"dataframe\">\n",
       "  <thead>\n",
       "    <tr style=\"text-align: right;\">\n",
       "      <th></th>\n",
       "      <th>bug_id</th>\n",
       "      <th>bug_severity</th>\n",
       "      <th>bug_status</th>\n",
       "      <th>component</th>\n",
       "      <th>creation_ts</th>\n",
       "      <th>delta_ts</th>\n",
       "      <th>description</th>\n",
       "      <th>dup_id</th>\n",
       "      <th>priority</th>\n",
       "      <th>product</th>\n",
       "      <th>resolution</th>\n",
       "      <th>short_desc</th>\n",
       "      <th>version</th>\n",
       "    </tr>\n",
       "  </thead>\n",
       "  <tbody>\n",
       "    <tr>\n",
       "      <th>0</th>\n",
       "      <td>14</td>\n",
       "      <td>trivial</td>\n",
       "      <td>CLOSED</td>\n",
       "      <td>Website general issues</td>\n",
       "      <td>2000-10-17 19:40:00 +0000</td>\n",
       "      <td>2006-02-07 22:23:55 +0000</td>\n",
       "      <td>it would be nice if the combination of OpenOff...</td>\n",
       "      <td>[]</td>\n",
       "      <td>P3</td>\n",
       "      <td>Infrastructure</td>\n",
       "      <td>FIXED</td>\n",
       "      <td>openoffice.org issuezillla URL's display a hor...</td>\n",
       "      <td>current</td>\n",
       "    </tr>\n",
       "    <tr>\n",
       "      <th>1</th>\n",
       "      <td>15</td>\n",
       "      <td>trivial</td>\n",
       "      <td>CLOSED</td>\n",
       "      <td>Bugzilla</td>\n",
       "      <td>2000-10-19 11:49:00 +0000</td>\n",
       "      <td>2003-12-27 10:23:17 +0000</td>\n",
       "      <td>this task is just a test\\nthis task is just at...</td>\n",
       "      <td>[]</td>\n",
       "      <td>P5</td>\n",
       "      <td>Infrastructure</td>\n",
       "      <td>FIXED</td>\n",
       "      <td>test task</td>\n",
       "      <td>current</td>\n",
       "    </tr>\n",
       "    <tr>\n",
       "      <th>2</th>\n",
       "      <td>16</td>\n",
       "      <td>trivial</td>\n",
       "      <td>CLOSED</td>\n",
       "      <td>_openoffice.org administrative interface (obso...</td>\n",
       "      <td>2000-10-20 15:06:00 +0000</td>\n",
       "      <td>2003-12-06 14:52:32 +0000</td>\n",
       "      <td>Using the ADMIN link on the main page leads to...</td>\n",
       "      <td>[]</td>\n",
       "      <td>P1</td>\n",
       "      <td>Infrastructure</td>\n",
       "      <td>FIXED</td>\n",
       "      <td>Administrative Interface not available</td>\n",
       "      <td>current</td>\n",
       "    </tr>\n",
       "    <tr>\n",
       "      <th>3</th>\n",
       "      <td>17</td>\n",
       "      <td>trivial</td>\n",
       "      <td>CLOSED</td>\n",
       "      <td>_openoffice.org CVS (obsolete)</td>\n",
       "      <td>2000-10-20 18:46:00 +0000</td>\n",
       "      <td>2003-12-06 14:52:32 +0000</td>\n",
       "      <td>Entered into Issuezilla for tracking purposes....</td>\n",
       "      <td>[]</td>\n",
       "      <td>P3</td>\n",
       "      <td>Infrastructure</td>\n",
       "      <td>FIXED</td>\n",
       "      <td>update modules file.</td>\n",
       "      <td>current</td>\n",
       "    </tr>\n",
       "    <tr>\n",
       "      <th>4</th>\n",
       "      <td>19</td>\n",
       "      <td>trivial</td>\n",
       "      <td>CLOSED</td>\n",
       "      <td>definition</td>\n",
       "      <td>2000-10-20 22:54:00 +0000</td>\n",
       "      <td>2007-09-22 22:15:55 +0000</td>\n",
       "      <td>&lt;text:quo-vadis&gt;&lt;/text:quo-vadis&gt;\\n   &lt;text:er...</td>\n",
       "      <td>[]</td>\n",
       "      <td>P2</td>\n",
       "      <td>xml</td>\n",
       "      <td>FIXED</td>\n",
       "      <td>text:quo-vadis, text:ergo-sum</td>\n",
       "      <td>605</td>\n",
       "    </tr>\n",
       "  </tbody>\n",
       "</table>\n",
       "</div>"
      ],
      "text/plain": [
       "   bug_id bug_severity bug_status  \\\n",
       "0      14      trivial     CLOSED   \n",
       "1      15      trivial     CLOSED   \n",
       "2      16      trivial     CLOSED   \n",
       "3      17      trivial     CLOSED   \n",
       "4      19      trivial     CLOSED   \n",
       "\n",
       "                                           component  \\\n",
       "0                             Website general issues   \n",
       "1                                           Bugzilla   \n",
       "2  _openoffice.org administrative interface (obso...   \n",
       "3                     _openoffice.org CVS (obsolete)   \n",
       "4                                         definition   \n",
       "\n",
       "                 creation_ts                   delta_ts  \\\n",
       "0  2000-10-17 19:40:00 +0000  2006-02-07 22:23:55 +0000   \n",
       "1  2000-10-19 11:49:00 +0000  2003-12-27 10:23:17 +0000   \n",
       "2  2000-10-20 15:06:00 +0000  2003-12-06 14:52:32 +0000   \n",
       "3  2000-10-20 18:46:00 +0000  2003-12-06 14:52:32 +0000   \n",
       "4  2000-10-20 22:54:00 +0000  2007-09-22 22:15:55 +0000   \n",
       "\n",
       "                                         description dup_id priority  \\\n",
       "0  it would be nice if the combination of OpenOff...     []       P3   \n",
       "1  this task is just a test\\nthis task is just at...     []       P5   \n",
       "2  Using the ADMIN link on the main page leads to...     []       P1   \n",
       "3  Entered into Issuezilla for tracking purposes....     []       P3   \n",
       "4  <text:quo-vadis></text:quo-vadis>\\n   <text:er...     []       P2   \n",
       "\n",
       "          product resolution  \\\n",
       "0  Infrastructure      FIXED   \n",
       "1  Infrastructure      FIXED   \n",
       "2  Infrastructure      FIXED   \n",
       "3  Infrastructure      FIXED   \n",
       "4             xml      FIXED   \n",
       "\n",
       "                                          short_desc  version  \n",
       "0  openoffice.org issuezillla URL's display a hor...  current  \n",
       "1                                          test task  current  \n",
       "2             Administrative Interface not available  current  \n",
       "3                               update modules file.  current  \n",
       "4                      text:quo-vadis, text:ergo-sum      605  "
      ]
     },
     "execution_count": 7,
     "metadata": {},
     "output_type": "execute_result"
    }
   ],
   "source": [
    "df.head()"
   ]
  },
  {
   "cell_type": "code",
   "execution_count": 8,
   "metadata": {},
   "outputs": [],
   "source": [
    "G=nx.Graph()\n",
    "for row in df.iterrows():\n",
    "    bug_id = row[1]['bug_id']\n",
    "    dup_id = row[1]['dup_id']\n",
    "    if dup_id == '[]':\n",
    "        G.add_node(dup_id)\n",
    "    else:\n",
    "        G.add_edges_from([(int(bug_id), int(dup_id))])"
   ]
  },
  {
   "cell_type": "code",
   "execution_count": 9,
   "metadata": {},
   "outputs": [],
   "source": [
    "# for r in nx.connected_components(G):\n",
    "#     print(r)"
   ]
  },
  {
   "cell_type": "code",
   "execution_count": 10,
   "metadata": {},
   "outputs": [],
   "source": [
    "# nx.degree(G)"
   ]
  },
  {
   "cell_type": "code",
   "execution_count": 11,
   "metadata": {},
   "outputs": [],
   "source": [
    "#nx.draw(G)"
   ]
  },
  {
   "cell_type": "code",
   "execution_count": 12,
   "metadata": {},
   "outputs": [],
   "source": [
    "stats = {}\n",
    "for r in nx.connected_components(G):\n",
    "    group_size = len(r)\n",
    "    if group_size in stats:\n",
    "        stats[group_size] += 1\n",
    "    else:\n",
    "        stats[group_size] = 1"
   ]
  },
  {
   "cell_type": "code",
   "execution_count": 13,
   "metadata": {},
   "outputs": [
    {
     "data": {
      "text/html": [
       "<div>\n",
       "<style scoped>\n",
       "    .dataframe tbody tr th:only-of-type {\n",
       "        vertical-align: middle;\n",
       "    }\n",
       "\n",
       "    .dataframe tbody tr th {\n",
       "        vertical-align: top;\n",
       "    }\n",
       "\n",
       "    .dataframe thead th {\n",
       "        text-align: right;\n",
       "    }\n",
       "</style>\n",
       "<table border=\"1\" class=\"dataframe\">\n",
       "  <thead>\n",
       "    <tr style=\"text-align: right;\">\n",
       "      <th></th>\n",
       "      <th>group</th>\n",
       "      <th>size_group</th>\n",
       "    </tr>\n",
       "  </thead>\n",
       "  <tbody>\n",
       "    <tr>\n",
       "      <th>0</th>\n",
       "      <td>2</td>\n",
       "      <td>4412</td>\n",
       "    </tr>\n",
       "    <tr>\n",
       "      <th>1</th>\n",
       "      <td>3</td>\n",
       "      <td>1109</td>\n",
       "    </tr>\n",
       "    <tr>\n",
       "      <th>2</th>\n",
       "      <td>4</td>\n",
       "      <td>436</td>\n",
       "    </tr>\n",
       "    <tr>\n",
       "      <th>3</th>\n",
       "      <td>5</td>\n",
       "      <td>265</td>\n",
       "    </tr>\n",
       "    <tr>\n",
       "      <th>4</th>\n",
       "      <td>6</td>\n",
       "      <td>153</td>\n",
       "    </tr>\n",
       "    <tr>\n",
       "      <th>5</th>\n",
       "      <td>7</td>\n",
       "      <td>101</td>\n",
       "    </tr>\n",
       "    <tr>\n",
       "      <th>6</th>\n",
       "      <td>8</td>\n",
       "      <td>69</td>\n",
       "    </tr>\n",
       "    <tr>\n",
       "      <th>7</th>\n",
       "      <td>9</td>\n",
       "      <td>49</td>\n",
       "    </tr>\n",
       "    <tr>\n",
       "      <th>8</th>\n",
       "      <td>11</td>\n",
       "      <td>29</td>\n",
       "    </tr>\n",
       "    <tr>\n",
       "      <th>9</th>\n",
       "      <td>10</td>\n",
       "      <td>25</td>\n",
       "    </tr>\n",
       "    <tr>\n",
       "      <th>10</th>\n",
       "      <td>12</td>\n",
       "      <td>24</td>\n",
       "    </tr>\n",
       "    <tr>\n",
       "      <th>11</th>\n",
       "      <td>13</td>\n",
       "      <td>21</td>\n",
       "    </tr>\n",
       "    <tr>\n",
       "      <th>12</th>\n",
       "      <td>14</td>\n",
       "      <td>20</td>\n",
       "    </tr>\n",
       "    <tr>\n",
       "      <th>13</th>\n",
       "      <td>16</td>\n",
       "      <td>15</td>\n",
       "    </tr>\n",
       "    <tr>\n",
       "      <th>14</th>\n",
       "      <td>15</td>\n",
       "      <td>14</td>\n",
       "    </tr>\n",
       "    <tr>\n",
       "      <th>15</th>\n",
       "      <td>17</td>\n",
       "      <td>7</td>\n",
       "    </tr>\n",
       "    <tr>\n",
       "      <th>16</th>\n",
       "      <td>21</td>\n",
       "      <td>7</td>\n",
       "    </tr>\n",
       "    <tr>\n",
       "      <th>17</th>\n",
       "      <td>19</td>\n",
       "      <td>6</td>\n",
       "    </tr>\n",
       "    <tr>\n",
       "      <th>18</th>\n",
       "      <td>24</td>\n",
       "      <td>4</td>\n",
       "    </tr>\n",
       "    <tr>\n",
       "      <th>19</th>\n",
       "      <td>18</td>\n",
       "      <td>4</td>\n",
       "    </tr>\n",
       "    <tr>\n",
       "      <th>20</th>\n",
       "      <td>20</td>\n",
       "      <td>4</td>\n",
       "    </tr>\n",
       "    <tr>\n",
       "      <th>21</th>\n",
       "      <td>22</td>\n",
       "      <td>3</td>\n",
       "    </tr>\n",
       "    <tr>\n",
       "      <th>22</th>\n",
       "      <td>23</td>\n",
       "      <td>3</td>\n",
       "    </tr>\n",
       "    <tr>\n",
       "      <th>23</th>\n",
       "      <td>25</td>\n",
       "      <td>3</td>\n",
       "    </tr>\n",
       "    <tr>\n",
       "      <th>24</th>\n",
       "      <td>29</td>\n",
       "      <td>3</td>\n",
       "    </tr>\n",
       "    <tr>\n",
       "      <th>25</th>\n",
       "      <td>26</td>\n",
       "      <td>2</td>\n",
       "    </tr>\n",
       "    <tr>\n",
       "      <th>26</th>\n",
       "      <td>28</td>\n",
       "      <td>2</td>\n",
       "    </tr>\n",
       "    <tr>\n",
       "      <th>27</th>\n",
       "      <td>39</td>\n",
       "      <td>2</td>\n",
       "    </tr>\n",
       "    <tr>\n",
       "      <th>28</th>\n",
       "      <td>32</td>\n",
       "      <td>2</td>\n",
       "    </tr>\n",
       "    <tr>\n",
       "      <th>29</th>\n",
       "      <td>36</td>\n",
       "      <td>2</td>\n",
       "    </tr>\n",
       "    <tr>\n",
       "      <th>30</th>\n",
       "      <td>35</td>\n",
       "      <td>1</td>\n",
       "    </tr>\n",
       "    <tr>\n",
       "      <th>31</th>\n",
       "      <td>55</td>\n",
       "      <td>1</td>\n",
       "    </tr>\n",
       "    <tr>\n",
       "      <th>32</th>\n",
       "      <td>47</td>\n",
       "      <td>1</td>\n",
       "    </tr>\n",
       "    <tr>\n",
       "      <th>33</th>\n",
       "      <td>37</td>\n",
       "      <td>1</td>\n",
       "    </tr>\n",
       "    <tr>\n",
       "      <th>34</th>\n",
       "      <td>1</td>\n",
       "      <td>1</td>\n",
       "    </tr>\n",
       "    <tr>\n",
       "      <th>35</th>\n",
       "      <td>34</td>\n",
       "      <td>1</td>\n",
       "    </tr>\n",
       "    <tr>\n",
       "      <th>36</th>\n",
       "      <td>33</td>\n",
       "      <td>1</td>\n",
       "    </tr>\n",
       "    <tr>\n",
       "      <th>37</th>\n",
       "      <td>31</td>\n",
       "      <td>1</td>\n",
       "    </tr>\n",
       "    <tr>\n",
       "      <th>38</th>\n",
       "      <td>30</td>\n",
       "      <td>1</td>\n",
       "    </tr>\n",
       "    <tr>\n",
       "      <th>39</th>\n",
       "      <td>27</td>\n",
       "      <td>1</td>\n",
       "    </tr>\n",
       "    <tr>\n",
       "      <th>40</th>\n",
       "      <td>99</td>\n",
       "      <td>1</td>\n",
       "    </tr>\n",
       "  </tbody>\n",
       "</table>\n",
       "</div>"
      ],
      "text/plain": [
       "    group  size_group\n",
       "0       2        4412\n",
       "1       3        1109\n",
       "2       4         436\n",
       "3       5         265\n",
       "4       6         153\n",
       "5       7         101\n",
       "6       8          69\n",
       "7       9          49\n",
       "8      11          29\n",
       "9      10          25\n",
       "10     12          24\n",
       "11     13          21\n",
       "12     14          20\n",
       "13     16          15\n",
       "14     15          14\n",
       "15     17           7\n",
       "16     21           7\n",
       "17     19           6\n",
       "18     24           4\n",
       "19     18           4\n",
       "20     20           4\n",
       "21     22           3\n",
       "22     23           3\n",
       "23     25           3\n",
       "24     29           3\n",
       "25     26           2\n",
       "26     28           2\n",
       "27     39           2\n",
       "28     32           2\n",
       "29     36           2\n",
       "30     35           1\n",
       "31     55           1\n",
       "32     47           1\n",
       "33     37           1\n",
       "34      1           1\n",
       "35     34           1\n",
       "36     33           1\n",
       "37     31           1\n",
       "38     30           1\n",
       "39     27           1\n",
       "40     99           1"
      ]
     },
     "execution_count": 13,
     "metadata": {},
     "output_type": "execute_result"
    }
   ],
   "source": [
    "pd.DataFrame(stats, index=[1]).transpose().rename(columns={1 : 'size_group'})\\\n",
    "    .sort_values(by='size_group', ascending=False).reset_index().rename(columns={'index' : 'group'})"
   ]
  },
  {
   "cell_type": "code",
   "execution_count": 19,
   "metadata": {},
   "outputs": [],
   "source": [
    "def create_bucket(df):\n",
    "        print(\"Creating the buckets...\")\n",
    "        buckets = {}\n",
    "        G=nx.Graph()\n",
    "        for row in tqdm(df.iterrows()):\n",
    "            bug_id = row[1]['bug_id']\n",
    "            dup_id = row[1]['dup_id']\n",
    "            if dup_id == '[]':\n",
    "                G.add_node(bug_id)\n",
    "            else:\n",
    "                G.add_edges_from([(int(bug_id), int(dup_id))])\n",
    "        for g in tqdm(nx.connected_components(G)):\n",
    "            group = set(g)\n",
    "            for bug in g:\n",
    "                master = int(bug)\n",
    "                query = df[df['bug_id'] == master]\n",
    "                if query.shape[0] <= 0:\n",
    "                    group.remove(master)\n",
    "                    master = np.random.choice(list(group), 1)\n",
    "            buckets[int(master)] = group\n",
    "        return buckets"
   ]
  },
  {
   "cell_type": "code",
   "execution_count": 20,
   "metadata": {},
   "outputs": [
    {
     "name": "stdout",
     "output_type": "stream",
     "text": [
      "Creating the buckets...\n"
     ]
    },
    {
     "data": {
      "application/vnd.jupyter.widget-view+json": {
       "model_id": "57423f188a8748ff847876ab2aef40de",
       "version_major": 2,
       "version_minor": 0
      },
      "text/plain": [
       "HBox(children=(IntProgress(value=1, bar_style='info', max=1), HTML(value='')))"
      ]
     },
     "metadata": {},
     "output_type": "display_data"
    },
    {
     "name": "stdout",
     "output_type": "stream",
     "text": [
      "\n"
     ]
    },
    {
     "data": {
      "application/vnd.jupyter.widget-view+json": {
       "model_id": "7c90e53e8dc2413b9c498844a1ead231",
       "version_major": 2,
       "version_minor": 0
      },
      "text/plain": [
       "HBox(children=(IntProgress(value=1, bar_style='info', max=1), HTML(value='')))"
      ]
     },
     "metadata": {},
     "output_type": "display_data"
    },
    {
     "name": "stdout",
     "output_type": "stream",
     "text": [
      "\n"
     ]
    }
   ],
   "source": [
    "buckets = create_bucket(df)"
   ]
  },
  {
   "cell_type": "code",
   "execution_count": 21,
   "metadata": {},
   "outputs": [
    {
     "data": {
      "text/plain": [
       "58572"
      ]
     },
     "execution_count": 21,
     "metadata": {},
     "output_type": "execute_result"
    }
   ],
   "source": [
    "len(buckets)"
   ]
  },
  {
   "cell_type": "code",
   "execution_count": 35,
   "metadata": {},
   "outputs": [
    {
     "data": {
      "text/plain": [
       "'data/processed/openoffice/bert/openoffice_buckets.pkl'"
      ]
     },
     "execution_count": 35,
     "metadata": {},
     "output_type": "execute_result"
    }
   ],
   "source": [
    "os.path.join(DIR, TOKEN, DOMAIN + '_buckets.pkl')"
   ]
  },
  {
   "cell_type": "code",
   "execution_count": 37,
   "metadata": {},
   "outputs": [
    {
     "name": "stdout",
     "output_type": "stream",
     "text": [
      "Buckets saved\n"
     ]
    }
   ],
   "source": [
    "with open(os.path.join(DIR, TOKEN, DOMAIN + '_buckets.pkl'), 'wb') as f:\n",
    "    pickle.dump(buckets, f)\n",
    "print(\"Buckets saved\")"
   ]
  }
 ],
 "metadata": {
  "kernelspec": {
   "display_name": "Python 3",
   "language": "python",
   "name": "python3"
  },
  "language_info": {
   "codemirror_mode": {
    "name": "ipython",
    "version": 3
   },
   "file_extension": ".py",
   "mimetype": "text/x-python",
   "name": "python",
   "nbconvert_exporter": "python",
   "pygments_lexer": "ipython3",
   "version": "3.5.2"
  }
 },
 "nbformat": 4,
 "nbformat_minor": 2
}
