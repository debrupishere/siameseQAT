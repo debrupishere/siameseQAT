{
 "cells": [
  {
   "cell_type": "markdown",
   "id": "631a3d19",
   "metadata": {},
   "source": [
    "https://eugeneyan.com/writing/experimentation-workflow-with-jupyter-papermill-mlflow/"
   ]
  },
  {
   "cell_type": "code",
   "execution_count": 6,
   "id": "d46de95a",
   "metadata": {},
   "outputs": [
    {
     "data": {
      "application/vnd.jupyter.widget-view+json": {
       "model_id": "8293262606e04453ad8b039a94b4d9cb",
       "version_major": 2,
       "version_minor": 0
      },
      "text/plain": [
       "Executing:   0%|          | 0/3 [00:00<?, ?cell/s]"
      ]
     },
     "metadata": {},
     "output_type": "display_data"
    },
    {
     "data": {
      "text/plain": [
       "{'cells': [{'cell_type': 'code',\n",
       "   'execution_count': 1,\n",
       "   'id': '0e82e9d7',\n",
       "   'metadata': {'tags': ['parameters'],\n",
       "    'papermill': {'exception': False,\n",
       "     'start_time': '2021-06-24T21:14:47.524662',\n",
       "     'end_time': '2021-06-24T21:14:47.594712',\n",
       "     'duration': 0.07005,\n",
       "     'status': 'completed'},\n",
       "    'execution': {'iopub.status.busy': '2021-06-24T21:14:47.571695Z',\n",
       "     'iopub.execute_input': '2021-06-24T21:14:47.578699Z',\n",
       "     'iopub.status.idle': '2021-06-24T21:14:47.586706Z',\n",
       "     'shell.execute_reply': '2021-06-24T21:14:47.593711Z'}},\n",
       "   'outputs': [],\n",
       "   'source': \"INDEX = 'test'\"},\n",
       "  {'id': '3042739a',\n",
       "   'cell_type': 'code',\n",
       "   'metadata': {'tags': ['injected-parameters'],\n",
       "    'papermill': {'exception': False,\n",
       "     'start_time': '2021-06-24T21:14:47.685776',\n",
       "     'end_time': '2021-06-24T21:14:47.808863',\n",
       "     'duration': 0.123087,\n",
       "     'status': 'completed'},\n",
       "    'execution': {'iopub.status.busy': '2021-06-24T21:14:47.782845Z',\n",
       "     'iopub.execute_input': '2021-06-24T21:14:47.793854Z',\n",
       "     'shell.execute_reply': '2021-06-24T21:14:47.803861Z',\n",
       "     'iopub.status.idle': '2021-06-24T21:14:47.807863Z'}},\n",
       "   'execution_count': 2,\n",
       "   'source': '# Parameters\\nINDEX = \"papermill\"\\n',\n",
       "   'outputs': []},\n",
       "  {'cell_type': 'code',\n",
       "   'execution_count': 3,\n",
       "   'id': 'e326db8f',\n",
       "   'metadata': {'tags': [],\n",
       "    'papermill': {'exception': False,\n",
       "     'start_time': '2021-06-24T21:14:47.884916',\n",
       "     'end_time': '2021-06-24T21:14:48.030027',\n",
       "     'duration': 0.145111,\n",
       "     'status': 'completed'},\n",
       "    'execution': {'iopub.status.busy': '2021-06-24T21:14:47.996997Z',\n",
       "     'iopub.execute_input': '2021-06-24T21:14:48.002001Z',\n",
       "     'iopub.status.idle': '2021-06-24T21:14:48.027026Z',\n",
       "     'shell.execute_reply': '2021-06-24T21:14:48.029026Z'}},\n",
       "   'outputs': [{'output_type': 'stream',\n",
       "     'name': 'stdout',\n",
       "     'text': 'papermill\\n'}],\n",
       "   'source': 'print(INDEX)'}],\n",
       " 'metadata': {'celltoolbar': 'Tags',\n",
       "  'kernelspec': {'display_name': 'Python 3',\n",
       "   'language': 'python',\n",
       "   'name': 'python3'},\n",
       "  'language_info': {'name': 'python',\n",
       "   'version': '3.8.8',\n",
       "   'mimetype': 'text/x-python',\n",
       "   'codemirror_mode': {'name': 'ipython', 'version': 3},\n",
       "   'pygments_lexer': 'ipython3',\n",
       "   'nbconvert_exporter': 'python',\n",
       "   'file_extension': '.py'},\n",
       "  'papermill': {'default_parameters': {},\n",
       "   'parameters': {'INDEX': 'papermill'},\n",
       "   'environment_variables': {},\n",
       "   'version': '2.3.3',\n",
       "   'input_path': 'parameter.ipynb',\n",
       "   'output_path': 'basic_papermill.ipynb',\n",
       "   'start_time': '2021-06-24T21:14:38.989632',\n",
       "   'end_time': '2021-06-24T21:14:48.530396',\n",
       "   'duration': 9.540764,\n",
       "   'exception': None}},\n",
       " 'nbformat': 4,\n",
       " 'nbformat_minor': 5}"
      ]
     },
     "execution_count": 6,
     "metadata": {},
     "output_type": "execute_result"
    }
   ],
   "source": [
    "import papermill as pm\n",
    "pm.execute_notebook(input_path='parameter.ipynb',\n",
    "                  parameters={'INDEX': 'papermill'},\n",
    "                  output_path='basic_{}.ipynb'.format('papermill'))"
   ]
  }
 ],
 "metadata": {
  "kernelspec": {
   "display_name": "Python 3",
   "language": "python",
   "name": "python3"
  },
  "language_info": {
   "codemirror_mode": {
    "name": "ipython",
    "version": 3
   },
   "file_extension": ".py",
   "mimetype": "text/x-python",
   "name": "python",
   "nbconvert_exporter": "python",
   "pygments_lexer": "ipython3",
   "version": "3.8.8"
  }
 },
 "nbformat": 4,
 "nbformat_minor": 5
}
