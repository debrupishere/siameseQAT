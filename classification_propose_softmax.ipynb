{
 "cells": [
  {
   "cell_type": "markdown",
   "metadata": {},
   "source": [
    "## Classification using siamese model propose softmax"
   ]
  },
  {
   "cell_type": "code",
   "execution_count": 1,
   "metadata": {},
   "outputs": [
    {
     "name": "stderr",
     "output_type": "stream",
     "text": [
      "Using TensorFlow backend.\n"
     ]
    }
   ],
   "source": [
    "import keras"
   ]
  },
  {
   "cell_type": "code",
   "execution_count": 2,
   "metadata": {},
   "outputs": [],
   "source": [
    "import re\n",
    "import numpy as np\n",
    "import pandas as pd\n",
    "\n",
    "import os\n",
    "from tqdm import tqdm_notebook as tqdm\n",
    "import matplotlib.pyplot as plt\n",
    "import sys\n",
    "nb_dir = os.path.split(os.getcwd())[0]\n",
    "if nb_dir not in sys.path:\n",
    "    sys.path.append(nb_dir)\n",
    "    \n",
    "%matplotlib inline"
   ]
  },
  {
   "cell_type": "code",
   "execution_count": 3,
   "metadata": {},
   "outputs": [],
   "source": [
    "from methods.baseline import Baseline\n",
    "from methods.experiments import Experiment\n",
    "from methods.evaluation import Evaluation\n",
    "from methods.retrieval import Retrieval"
   ]
  },
  {
   "cell_type": "code",
   "execution_count": 4,
   "metadata": {},
   "outputs": [],
   "source": [
    "from keras.layers import Conv1D, Input, Add, Activation, Dropout, Embedding, MaxPooling1D, GlobalMaxPool1D, Flatten, Dense, Concatenate, BatchNormalization\n",
    "from keras.models import Model"
   ]
  },
  {
   "cell_type": "markdown",
   "metadata": {},
   "source": [
    "## Configurações Globais"
   ]
  },
  {
   "cell_type": "code",
   "execution_count": 5,
   "metadata": {},
   "outputs": [],
   "source": [
    "EMBEDDING_DIM = 300\n",
    "MAX_NB_WORDS = 2000"
   ]
  },
  {
   "cell_type": "code",
   "execution_count": 6,
   "metadata": {},
   "outputs": [],
   "source": [
    "DOMAIN = 'openoffice'\n",
    "METHOD = 'propose_softmax'\n",
    "DIR = 'data/processed/{}'.format(DOMAIN)\n",
    "DATASET = os.path.join('data/normalized/{}'.format(DOMAIN), '{}.csv'.format(DOMAIN))\n",
    "DIR_PAIRS = 'data/normalized/{}'.format(DOMAIN)\n",
    "SAVE_PATH = '{}_classification({})'.format(METHOD, DOMAIN)\n",
    "PRETRAINED_MODEL = 'modelos/model_{}_feature_100epochs_64batch({}).h5'.format(METHOD, DOMAIN)"
   ]
  },
  {
   "cell_type": "code",
   "execution_count": 7,
   "metadata": {},
   "outputs": [
    {
     "data": {
      "text/plain": [
       "'modelos/model_propose_softmax_feature_100epochs_64batch(openoffice).h5'"
      ]
     },
     "execution_count": 7,
     "metadata": {},
     "output_type": "execute_result"
    }
   ],
   "source": [
    "PRETRAINED_MODEL"
   ]
  },
  {
   "cell_type": "code",
   "execution_count": 8,
   "metadata": {
    "scrolled": true
   },
   "outputs": [
    {
     "name": "stderr",
     "output_type": "stream",
     "text": [
      "/usr/local/lib/python3.5/dist-packages/keras/engine/saving.py:292: UserWarning: No training configuration found in save file: the model was *not* compiled. Compile it manually.\n",
      "  warnings.warn('No training configuration found in save file: '\n"
     ]
    }
   ],
   "source": [
    "import keras\n",
    "from keras.models import Model\n",
    "from keras.layers import Input\n",
    "from keras.models import load_model\n",
    "import keras.backend as K\n",
    "\n",
    "K.clear_session()\n",
    "\n",
    "\"\"\"\n",
    "    A lista de modelos estar disponível no diretorio /modelos\n",
    "        name:\n",
    "            - model_baseline_{X}epoch_{Y}steps_({dataset}).h5\n",
    "            - model_baseline_{X}epoch_{Y}steps_({dataset}).json\n",
    "    \n",
    "        Informações adicionais:\n",
    "            {X} - total de épocas treinada. Ex: 100, 1000\n",
    "            {Y} - total de steps validados no treino. Ex: 10, 16\n",
    "            {dataset} - Nome da base testada. Ex: Eclipse, Netbeans, OpenOffice\n",
    "\"\"\"\n",
    "similarity_model = load_model(PRETRAINED_MODEL)"
   ]
  },
  {
   "cell_type": "code",
   "execution_count": 9,
   "metadata": {},
   "outputs": [
    {
     "name": "stdout",
     "output_type": "stream",
     "text": [
      "__________________________________________________________________________________________________\n",
      "Layer (type)                    Output Shape         Param #     Connected to                     \n",
      "==================================================================================================\n",
      "info_in (InputLayer)            (None, 729)          0                                            \n",
      "__________________________________________________________________________________________________\n",
      "title_in (InputLayer)           (None, 100)          0                                            \n",
      "__________________________________________________________________________________________________\n",
      "desc_in (InputLayer)            (None, 500)          0                                            \n",
      "__________________________________________________________________________________________________\n",
      "FeatureMlpGenerationModel (Mode (None, 300)          219000      info_in[0][0]                    \n",
      "__________________________________________________________________________________________________\n",
      "FeatureLstmGenerationModel (Mod (None, 300)          31992100    title_in[0][0]                   \n",
      "__________________________________________________________________________________________________\n",
      "FeatureCNNGenerationModel (Mode (None, 300)          30651492    desc_in[0][0]                    \n",
      "__________________________________________________________________________________________________\n",
      "merge_features_in (Concatenate) (None, 900)          0           FeatureMlpGenerationModel[1][0]  \n",
      "                                                                 FeatureLstmGenerationModel[1][0] \n",
      "                                                                 FeatureCNNGenerationModel[1][0]  \n",
      "==================================================================================================\n",
      "Total params: 62,862,592\n",
      "Trainable params: 2,059,792\n",
      "Non-trainable params: 60,802,800\n",
      "__________________________________________________________________________________________________\n"
     ]
    }
   ],
   "source": [
    "similarity_model.summary()"
   ]
  },
  {
   "cell_type": "code",
   "execution_count": 10,
   "metadata": {},
   "outputs": [
    {
     "data": {
      "text/plain": [
       "(100, 500, 729)"
      ]
     },
     "execution_count": 10,
     "metadata": {},
     "output_type": "execute_result"
    }
   ],
   "source": [
    "import keras.backend as K\n",
    "\n",
    "MAX_SEQUENCE_LENGTH_T = K.int_shape(similarity_model.input[0])[1]\n",
    "MAX_SEQUENCE_LENGTH_D = K.int_shape(similarity_model.input[1])[1]\n",
    "MAX_SEQUENCE_LENGTH_I = K.int_shape(similarity_model.input[2])[1]\n",
    "\n",
    "MAX_SEQUENCE_LENGTH_T, MAX_SEQUENCE_LENGTH_D, MAX_SEQUENCE_LENGTH_I"
   ]
  },
  {
   "cell_type": "code",
   "execution_count": 11,
   "metadata": {},
   "outputs": [],
   "source": [
    "baseline = Baseline(DIR, DATASET, MAX_SEQUENCE_LENGTH_T, MAX_SEQUENCE_LENGTH_D)\n",
    "evaluation = Evaluation(verbose=0)\n",
    "retrieval = Retrieval()\n",
    "experiment = Experiment(baseline, evaluation)"
   ]
  },
  {
   "cell_type": "code",
   "execution_count": 12,
   "metadata": {},
   "outputs": [
    {
     "data": {
      "text/plain": [
       "{'bug_severity': 6,\n",
       " 'bug_status': 3,\n",
       " 'component': 137,\n",
       " 'priority': 5,\n",
       " 'product': 41,\n",
       " 'version': 537}"
      ]
     },
     "execution_count": 12,
     "metadata": {},
     "output_type": "execute_result"
    }
   ],
   "source": [
    "baseline.info_dict"
   ]
  },
  {
   "cell_type": "code",
   "execution_count": 13,
   "metadata": {},
   "outputs": [
    {
     "name": "stdout",
     "output_type": "stream",
     "text": [
      "Creating the buckets...\n"
     ]
    },
    {
     "data": {
      "application/vnd.jupyter.widget-view+json": {
       "model_id": "897aa8fecf8145d6897cbbadcdf99c02",
       "version_major": 2,
       "version_minor": 0
      },
      "text/plain": [
       "HBox(children=(IntProgress(value=0, max=57667), HTML(value='')))"
      ]
     },
     "metadata": {},
     "output_type": "display_data"
    },
    {
     "name": "stdout",
     "output_type": "stream",
     "text": [
      "\n"
     ]
    },
    {
     "data": {
      "application/vnd.jupyter.widget-view+json": {
       "model_id": "a59a047329b145178638ebd90f91748f",
       "version_major": 2,
       "version_minor": 0
      },
      "text/plain": [
       "HBox(children=(IntProgress(value=0, max=14567), HTML(value='')))"
      ]
     },
     "metadata": {},
     "output_type": "display_data"
    },
    {
     "name": "stdout",
     "output_type": "stream",
     "text": [
      "\n"
     ]
    }
   ],
   "source": [
    "experiment.set_retrieval(retrieval, baseline, DOMAIN)"
   ]
  },
  {
   "cell_type": "markdown",
   "metadata": {},
   "source": [
    "#### Loading bug ids in memory"
   ]
  },
  {
   "cell_type": "code",
   "execution_count": 14,
   "metadata": {},
   "outputs": [
    {
     "name": "stdout",
     "output_type": "stream",
     "text": [
      "Reading bug ids\n"
     ]
    },
    {
     "data": {
      "text/plain": [
       "72234"
      ]
     },
     "execution_count": 14,
     "metadata": {},
     "output_type": "execute_result"
    }
   ],
   "source": [
    "experiment.load_ids()\n",
    "len(baseline.bug_ids)"
   ]
  },
  {
   "cell_type": "markdown",
   "metadata": {},
   "source": [
    "#### Loading train bugs"
   ]
  },
  {
   "cell_type": "code",
   "execution_count": 15,
   "metadata": {},
   "outputs": [
    {
     "data": {
      "application/vnd.jupyter.widget-view+json": {
       "model_id": "52631de3e20d4c089baba6eeeda96042",
       "version_major": 2,
       "version_minor": 0
      },
      "text/plain": [
       "HBox(children=(IntProgress(value=0, max=72234), HTML(value='')))"
      ]
     },
     "metadata": {},
     "output_type": "display_data"
    },
    {
     "name": "stdout",
     "output_type": "stream",
     "text": [
      "\n"
     ]
    },
    {
     "data": {
      "application/vnd.jupyter.widget-view+json": {
       "model_id": "a264a80660c94dc6bf5bcfb80bf69b89",
       "version_major": 2,
       "version_minor": 0
      },
      "text/plain": [
       "HBox(children=(IntProgress(value=1, bar_style='info', max=1), HTML(value='')))"
      ]
     },
     "metadata": {},
     "output_type": "display_data"
    },
    {
     "name": "stdout",
     "output_type": "stream",
     "text": [
      "\n",
      "CPU times: user 29.1 s, sys: 1.01 s, total: 30.1 s\n",
      "Wall time: 29 s\n"
     ]
    }
   ],
   "source": [
    "%%time\n",
    "\n",
    "experiment.load_bugs()"
   ]
  },
  {
   "cell_type": "code",
   "execution_count": 16,
   "metadata": {},
   "outputs": [
    {
     "data": {
      "application/vnd.jupyter.widget-view+json": {
       "model_id": "0d3ccbdac71b4b97b3c64db4c0ec4e0a",
       "version_major": 2,
       "version_minor": 0
      },
      "text/plain": [
       "HBox(children=(IntProgress(value=0, max=58572), HTML(value='')))"
      ]
     },
     "metadata": {},
     "output_type": "display_data"
    },
    {
     "name": "stdout",
     "output_type": "stream",
     "text": [
      "\n",
      "Reading train data\n",
      "Reading bug ids\n",
      "CPU times: user 19.6 s, sys: 13.1 ms, total: 19.7 s\n",
      "Wall time: 19.7 s\n"
     ]
    }
   ],
   "source": [
    "%%time\n",
    "issues_by_buckets = experiment.get_buckets_for_bugs()\n",
    "experiment.prepare_dataset(issues_by_buckets, path_train='train_chronological', path_test='test_chronological')"
   ]
  },
  {
   "cell_type": "code",
   "execution_count": 17,
   "metadata": {},
   "outputs": [
    {
     "name": "stdout",
     "output_type": "stream",
     "text": [
      "CPU times: user 8.16 ms, sys: 0 ns, total: 8.16 ms\n",
      "Wall time: 8.12 ms\n"
     ]
    }
   ],
   "source": [
    "%%time\n",
    "\n",
    "bug_train_ids = experiment.get_train_ids(baseline.train_data)\n",
    "len(bug_train_ids)"
   ]
  },
  {
   "cell_type": "code",
   "execution_count": 18,
   "metadata": {},
   "outputs": [
    {
     "name": "stdout",
     "output_type": "stream",
     "text": [
      "Reading test data for classification\n",
      "CPU times: user 4.98 s, sys: 0 ns, total: 4.98 s\n",
      "Wall time: 4.97 s\n"
     ]
    }
   ],
   "source": [
    "%%time\n",
    "\n",
    "baseline.test_data, baseline.dup_sets_test = experiment.read_test_data_classification(DIR, baseline.bug_set, bug_train_ids)"
   ]
  },
  {
   "cell_type": "code",
   "execution_count": 19,
   "metadata": {},
   "outputs": [],
   "source": [
    "bug_test_ids = experiment.get_test_ids(baseline.test_data)"
   ]
  },
  {
   "cell_type": "markdown",
   "metadata": {},
   "source": [
    "## Siamese  model"
   ]
  },
  {
   "cell_type": "code",
   "execution_count": 20,
   "metadata": {},
   "outputs": [],
   "source": [
    "# Freeze weights\n",
    "for layer in similarity_model.layers:\n",
    "    layer.trainable = False"
   ]
  },
  {
   "cell_type": "code",
   "execution_count": 21,
   "metadata": {},
   "outputs": [
    {
     "name": "stdout",
     "output_type": "stream",
     "text": [
      "__________________________________________________________________________________________________\n",
      "Layer (type)                    Output Shape         Param #     Connected to                     \n",
      "==================================================================================================\n",
      "info_a (InputLayer)             (None, 729)          0                                            \n",
      "__________________________________________________________________________________________________\n",
      "title_a (InputLayer)            (None, 100)          0                                            \n",
      "__________________________________________________________________________________________________\n",
      "desc_a (InputLayer)             (None, 500)          0                                            \n",
      "__________________________________________________________________________________________________\n",
      "info_b (InputLayer)             (None, 729)          0                                            \n",
      "__________________________________________________________________________________________________\n",
      "title_b (InputLayer)            (None, 100)          0                                            \n",
      "__________________________________________________________________________________________________\n",
      "desc_b (InputLayer)             (None, 500)          0                                            \n",
      "__________________________________________________________________________________________________\n",
      "FeatureMlpGenerationModel (Mode (None, 300)          219000      info_a[0][0]                     \n",
      "                                                                 info_b[0][0]                     \n",
      "__________________________________________________________________________________________________\n",
      "FeatureLstmGenerationModel (Mod (None, 300)          31992100    title_a[0][0]                    \n",
      "                                                                 title_b[0][0]                    \n",
      "__________________________________________________________________________________________________\n",
      "FeatureCNNGenerationModel (Mode (None, 300)          30651492    desc_a[0][0]                     \n",
      "                                                                 desc_b[0][0]                     \n",
      "__________________________________________________________________________________________________\n",
      "merge_features_in (Concatenate) (None, 900)          0           FeatureMlpGenerationModel[2][0]  \n",
      "                                                                 FeatureLstmGenerationModel[2][0] \n",
      "                                                                 FeatureCNNGenerationModel[2][0]  \n",
      "                                                                 FeatureMlpGenerationModel[3][0]  \n",
      "                                                                 FeatureLstmGenerationModel[3][0] \n",
      "                                                                 FeatureCNNGenerationModel[3][0]  \n",
      "__________________________________________________________________________________________________\n",
      "bugs (Concatenate)              (None, 1800)         0           merge_features_in[1][0]          \n",
      "                                                                 merge_features_in[2][0]          \n",
      "__________________________________________________________________________________________________\n",
      "dense_1 (Dense)                 (None, 128)          230528      bugs[0][0]                       \n",
      "__________________________________________________________________________________________________\n",
      "activation_1 (Activation)       (None, 128)          0           dense_1[0][0]                    \n",
      "__________________________________________________________________________________________________\n",
      "batch_normalization_1 (BatchNor (None, 128)          512         activation_1[0][0]               \n",
      "__________________________________________________________________________________________________\n",
      "dense_2 (Dense)                 (None, 128)          16512       batch_normalization_1[0][0]      \n",
      "__________________________________________________________________________________________________\n",
      "activation_2 (Activation)       (None, 128)          0           dense_2[0][0]                    \n",
      "__________________________________________________________________________________________________\n",
      "batch_normalization_2 (BatchNor (None, 128)          512         activation_2[0][0]               \n",
      "__________________________________________________________________________________________________\n",
      "output (Dense)                  (None, 2)            258         batch_normalization_2[0][0]      \n",
      "==================================================================================================\n",
      "Total params: 63,110,914\n",
      "Trainable params: 247,810\n",
      "Non-trainable params: 62,863,104\n",
      "__________________________________________________________________________________________________\n"
     ]
    }
   ],
   "source": [
    "from keras.layers import concatenate, Dropout, Add, Flatten\n",
    "\n",
    "bug_t_a = Input(shape = (MAX_SEQUENCE_LENGTH_T, ), name = 'title_a')\n",
    "bug_t_b = Input(shape = (MAX_SEQUENCE_LENGTH_T, ), name = 'title_b')\n",
    "\n",
    "bug_d_a = Input(shape = (MAX_SEQUENCE_LENGTH_D, ), name = 'desc_a')\n",
    "bug_d_b = Input(shape = (MAX_SEQUENCE_LENGTH_D, ), name = 'desc_b')\n",
    "\n",
    "bug_i_a = Input(shape = (MAX_SEQUENCE_LENGTH_I, ), name = 'info_a')\n",
    "bug_i_b = Input(shape = (MAX_SEQUENCE_LENGTH_I, ), name = 'info_b')\n",
    "\n",
    "title_encoder = similarity_model.get_layer('FeatureLstmGenerationModel')\n",
    "desc_encoder = similarity_model.get_layer('FeatureCNNGenerationModel')\n",
    "info_encoder = similarity_model.get_layer('FeatureMlpGenerationModel')\n",
    "\n",
    "model = similarity_model.get_layer('merge_features_in')\n",
    "\n",
    "# Bug A\n",
    "bugt_t_a = title_encoder(bug_t_a)\n",
    "bugt_d_a = desc_encoder(bug_d_a)\n",
    "bugt_i_a = info_encoder(bug_i_a)\n",
    "# Bug B\n",
    "bugt_t_b = title_encoder(bug_t_b)\n",
    "bugt_d_b = desc_encoder(bug_d_b)\n",
    "bugt_i_b = info_encoder(bug_i_b)\n",
    "\n",
    "bug_a = model([bugt_i_a, bugt_t_a, bugt_d_a])\n",
    "bug_b = model([bugt_i_b, bugt_t_b, bugt_d_b])\n",
    "\n",
    "x = concatenate([bug_a, bug_b], name='bugs') # \n",
    "\n",
    "for _ in range(2):\n",
    "    x = Dense(128)(x)\n",
    "#     x = Dropout(0.5)(x)\n",
    "    x = Activation('relu')(x)\n",
    "    x = BatchNormalization()(x)\n",
    "\n",
    "output = Dense(2, activation = 'softmax', name = 'output')(x)\n",
    "\n",
    "model_clf = Model(inputs=[bug_t_a, bug_t_b, bug_d_a, bug_d_b, bug_i_a, bug_i_b], outputs=[output])\n",
    "\n",
    "#adam = keras.optimizers.Adam(lr=0.005, beta_1=0.9, beta_2=0.999, epsilon=None, decay=0.1, amsgrad=False)\n",
    "\n",
    "model_clf.compile(optimizer='adam', loss='binary_crossentropy', metrics = ['accuracy'])\n",
    "model_clf.summary()"
   ]
  },
  {
   "cell_type": "code",
   "execution_count": 22,
   "metadata": {},
   "outputs": [],
   "source": [
    "from keras.utils import to_categorical\n",
    "from sklearn.preprocessing import LabelEncoder\n",
    "\n",
    "def batch_classification(train, dup_sets, bug_ids, batch_size, n_neg):\n",
    "    encoder = LabelEncoder()\n",
    "    batch_size_normalized = batch_size // 2\n",
    "    batch_triplet, input_sample, input_pos, input_neg, sim = baseline.batch_iterator(train, dup_sets, \n",
    "                                                                                     bug_ids, \n",
    "                                                                                     batch_size_normalized, n_neg)\n",
    "    \n",
    "    pos = np.full((1, batch_size_normalized), 1)\n",
    "    neg = np.full((1, batch_size_normalized), 0)\n",
    "    sim = np.concatenate([pos, neg], -1)[0]\n",
    "    \n",
    "    sim = encoder.fit_transform(sim)\n",
    "    sim = to_categorical(sim)\n",
    "\n",
    "    title_a = np.concatenate([input_sample['title'], input_sample['title']])\n",
    "    title_b = np.concatenate([input_pos['title'], input_neg['title']])\n",
    "    desc_a = np.concatenate([input_sample['description'], input_sample['description']])\n",
    "    desc_b = np.concatenate([input_pos['description'], input_neg['description']])\n",
    "    info_a = np.concatenate([input_sample['info'], input_sample['info']])\n",
    "    info_b = np.concatenate([input_pos['info'], input_neg['info']])\n",
    "    \n",
    "    return title_a, title_b, desc_a, desc_b, info_a, info_b, sim\n",
    "\n",
    "def batch_classification_siamese(train, dup_sets, bug_ids, batch_size, n_neg):\n",
    "    while True:\n",
    "        title_a, title_b, desc_a, desc_b, info_a, info_b, sim = batch_classification(train, dup_sets, \n",
    "                                                                                     bug_ids, batch_size, n_neg)\n",
    "        \n",
    "        yield ({ 'title_a' : title_a, 'title_b': title_b, \n",
    "        'desc_a' : desc_a, 'desc_b' : desc_b, 'info_a' : info_a, 'info_b' : info_b }, sim)"
   ]
  },
  {
   "cell_type": "code",
   "execution_count": 23,
   "metadata": {},
   "outputs": [],
   "source": [
    "title_a, title_b, desc_a, desc_b, info_a, info_b, sim = batch_classification(baseline.train_data, \n",
    "                                                                             baseline.dup_sets_train,\n",
    "                                                                             bug_train_ids, 512, 1)\n",
    "test_validation = ({ 'title_a' : title_a, 'title_b': title_b, \n",
    "        'desc_a' : desc_a, 'desc_b' : desc_b, 'info_a' : info_a, 'info_b' : info_b }, sim)"
   ]
  },
  {
   "cell_type": "code",
   "execution_count": 24,
   "metadata": {
    "scrolled": true
   },
   "outputs": [
    {
     "name": "stdout",
     "output_type": "stream",
     "text": [
      "Epoch 1/100\n",
      "10/10 [==============================] - 5s 472ms/step - loss: 0.6861 - acc: 0.6481 - val_loss: 0.6163 - val_acc: 0.7109\n",
      "Epoch 2/100\n",
      "10/10 [==============================] - 3s 262ms/step - loss: 0.5223 - acc: 0.7500 - val_loss: 0.5068 - val_acc: 0.7520\n",
      "Epoch 3/100\n",
      "10/10 [==============================] - 3s 265ms/step - loss: 0.4751 - acc: 0.7797 - val_loss: 0.4729 - val_acc: 0.7910\n",
      "Epoch 4/100\n",
      "10/10 [==============================] - 3s 258ms/step - loss: 0.4684 - acc: 0.7870 - val_loss: 0.4602 - val_acc: 0.7773\n",
      "Epoch 5/100\n",
      "10/10 [==============================] - 3s 267ms/step - loss: 0.4606 - acc: 0.7899 - val_loss: 0.4644 - val_acc: 0.7871\n",
      "Epoch 6/100\n",
      "10/10 [==============================] - 3s 273ms/step - loss: 0.4377 - acc: 0.8004 - val_loss: 0.4523 - val_acc: 0.7969\n",
      "Epoch 7/100\n",
      "10/10 [==============================] - 3s 268ms/step - loss: 0.4250 - acc: 0.8082 - val_loss: 0.4406 - val_acc: 0.8105\n",
      "Epoch 8/100\n",
      "10/10 [==============================] - 3s 268ms/step - loss: 0.4250 - acc: 0.8089 - val_loss: 0.4430 - val_acc: 0.7969\n",
      "Epoch 9/100\n",
      "10/10 [==============================] - 3s 284ms/step - loss: 0.4080 - acc: 0.8184 - val_loss: 0.4346 - val_acc: 0.7910\n",
      "Epoch 10/100\n",
      "10/10 [==============================] - 3s 285ms/step - loss: 0.4058 - acc: 0.8202 - val_loss: 0.4170 - val_acc: 0.8027\n",
      "Epoch 11/100\n",
      "10/10 [==============================] - 3s 272ms/step - loss: 0.3901 - acc: 0.8275 - val_loss: 0.4142 - val_acc: 0.8145\n",
      "Epoch 12/100\n",
      "10/10 [==============================] - 3s 267ms/step - loss: 0.4014 - acc: 0.8230 - val_loss: 0.4078 - val_acc: 0.8223\n",
      "Epoch 13/100\n",
      "10/10 [==============================] - 3s 276ms/step - loss: 0.3951 - acc: 0.8249 - val_loss: 0.4031 - val_acc: 0.8164\n",
      "Epoch 14/100\n",
      "10/10 [==============================] - 3s 271ms/step - loss: 0.3850 - acc: 0.8302 - val_loss: 0.3975 - val_acc: 0.8105\n",
      "Epoch 15/100\n",
      "10/10 [==============================] - 3s 260ms/step - loss: 0.3850 - acc: 0.8305 - val_loss: 0.3917 - val_acc: 0.8223\n",
      "Epoch 16/100\n",
      "10/10 [==============================] - 3s 270ms/step - loss: 0.3852 - acc: 0.8306 - val_loss: 0.4057 - val_acc: 0.8086\n",
      "Epoch 17/100\n",
      "10/10 [==============================] - 3s 280ms/step - loss: 0.3832 - acc: 0.8323 - val_loss: 0.4096 - val_acc: 0.8027\n",
      "Epoch 18/100\n",
      "10/10 [==============================] - 3s 266ms/step - loss: 0.3700 - acc: 0.8400 - val_loss: 0.3963 - val_acc: 0.8047\n",
      "Epoch 19/100\n",
      "10/10 [==============================] - 3s 285ms/step - loss: 0.3787 - acc: 0.8331 - val_loss: 0.3833 - val_acc: 0.8262\n",
      "Epoch 20/100\n",
      "10/10 [==============================] - 3s 278ms/step - loss: 0.3733 - acc: 0.8387 - val_loss: 0.3972 - val_acc: 0.8184\n",
      "Epoch 21/100\n",
      "10/10 [==============================] - 3s 273ms/step - loss: 0.3697 - acc: 0.8354 - val_loss: 0.4010 - val_acc: 0.8223\n",
      "Epoch 22/100\n",
      "10/10 [==============================] - 3s 269ms/step - loss: 0.3654 - acc: 0.8396 - val_loss: 0.3803 - val_acc: 0.8418\n",
      "Epoch 23/100\n",
      "10/10 [==============================] - 3s 272ms/step - loss: 0.3621 - acc: 0.8450 - val_loss: 0.3873 - val_acc: 0.8301\n",
      "Epoch 24/100\n",
      "10/10 [==============================] - 3s 277ms/step - loss: 0.3583 - acc: 0.8406 - val_loss: 0.3851 - val_acc: 0.8203\n",
      "Epoch 25/100\n",
      "10/10 [==============================] - 3s 274ms/step - loss: 0.3542 - acc: 0.8470 - val_loss: 0.3718 - val_acc: 0.8379\n",
      "Epoch 26/100\n",
      "10/10 [==============================] - 3s 265ms/step - loss: 0.3592 - acc: 0.8443 - val_loss: 0.3973 - val_acc: 0.8223\n",
      "Epoch 27/100\n",
      "10/10 [==============================] - 3s 273ms/step - loss: 0.3520 - acc: 0.8501 - val_loss: 0.3753 - val_acc: 0.8223\n",
      "Epoch 28/100\n",
      "10/10 [==============================] - 3s 269ms/step - loss: 0.3423 - acc: 0.8550 - val_loss: 0.3699 - val_acc: 0.8281\n",
      "Epoch 29/100\n",
      "10/10 [==============================] - 3s 265ms/step - loss: 0.3500 - acc: 0.8468 - val_loss: 0.3794 - val_acc: 0.8203\n",
      "Epoch 30/100\n",
      "10/10 [==============================] - 3s 279ms/step - loss: 0.3439 - acc: 0.8548 - val_loss: 0.3797 - val_acc: 0.8242\n",
      "Epoch 31/100\n",
      "10/10 [==============================] - 3s 270ms/step - loss: 0.3420 - acc: 0.8521 - val_loss: 0.3684 - val_acc: 0.8301\n",
      "Epoch 32/100\n",
      "10/10 [==============================] - 3s 274ms/step - loss: 0.3312 - acc: 0.8588 - val_loss: 0.3558 - val_acc: 0.8398\n",
      "Epoch 33/100\n",
      "10/10 [==============================] - 3s 259ms/step - loss: 0.3387 - acc: 0.8552 - val_loss: 0.3484 - val_acc: 0.8555\n",
      "Epoch 34/100\n",
      "10/10 [==============================] - 3s 278ms/step - loss: 0.3378 - acc: 0.8549 - val_loss: 0.3573 - val_acc: 0.8320\n",
      "Epoch 35/100\n",
      "10/10 [==============================] - 3s 269ms/step - loss: 0.3270 - acc: 0.8605 - val_loss: 0.3531 - val_acc: 0.8398\n",
      "Epoch 36/100\n",
      "10/10 [==============================] - 3s 273ms/step - loss: 0.3340 - acc: 0.8588 - val_loss: 0.3540 - val_acc: 0.8398\n",
      "Epoch 37/100\n",
      "10/10 [==============================] - 3s 257ms/step - loss: 0.3252 - acc: 0.8636 - val_loss: 0.3546 - val_acc: 0.8496\n",
      "Epoch 38/100\n",
      "10/10 [==============================] - 3s 281ms/step - loss: 0.3273 - acc: 0.8604 - val_loss: 0.3711 - val_acc: 0.8457\n",
      "Epoch 39/100\n",
      "10/10 [==============================] - 3s 277ms/step - loss: 0.3296 - acc: 0.8597 - val_loss: 0.3548 - val_acc: 0.8359\n",
      "Epoch 40/100\n",
      "10/10 [==============================] - 3s 273ms/step - loss: 0.3306 - acc: 0.8587 - val_loss: 0.3452 - val_acc: 0.8496\n",
      "Epoch 41/100\n",
      "10/10 [==============================] - 3s 280ms/step - loss: 0.3232 - acc: 0.8659 - val_loss: 0.3573 - val_acc: 0.8418\n",
      "Epoch 42/100\n",
      "10/10 [==============================] - 3s 272ms/step - loss: 0.3168 - acc: 0.8655 - val_loss: 0.3620 - val_acc: 0.8398\n",
      "Epoch 43/100\n",
      "10/10 [==============================] - 3s 273ms/step - loss: 0.3247 - acc: 0.8667 - val_loss: 0.3458 - val_acc: 0.8340\n",
      "Epoch 44/100\n",
      "10/10 [==============================] - 3s 262ms/step - loss: 0.3262 - acc: 0.8647 - val_loss: 0.3632 - val_acc: 0.8223\n",
      "Epoch 45/100\n",
      "10/10 [==============================] - 3s 278ms/step - loss: 0.3172 - acc: 0.8676 - val_loss: 0.3556 - val_acc: 0.8301\n",
      "Epoch 46/100\n",
      "10/10 [==============================] - 3s 280ms/step - loss: 0.3196 - acc: 0.8665 - val_loss: 0.3438 - val_acc: 0.8477\n",
      "Epoch 47/100\n",
      "10/10 [==============================] - 3s 280ms/step - loss: 0.3139 - acc: 0.8675 - val_loss: 0.3423 - val_acc: 0.8496\n",
      "Epoch 48/100\n",
      "10/10 [==============================] - 3s 265ms/step - loss: 0.3215 - acc: 0.8641 - val_loss: 0.3352 - val_acc: 0.8535\n",
      "Epoch 49/100\n",
      "10/10 [==============================] - 3s 272ms/step - loss: 0.3176 - acc: 0.8692 - val_loss: 0.3707 - val_acc: 0.8457\n",
      "Epoch 50/100\n",
      "10/10 [==============================] - 3s 274ms/step - loss: 0.3146 - acc: 0.8710 - val_loss: 0.3737 - val_acc: 0.8438\n",
      "Epoch 51/100\n",
      "10/10 [==============================] - 3s 270ms/step - loss: 0.3132 - acc: 0.8690 - val_loss: 0.3219 - val_acc: 0.8594\n",
      "Epoch 52/100\n",
      "10/10 [==============================] - 3s 275ms/step - loss: 0.3187 - acc: 0.8663 - val_loss: 0.3224 - val_acc: 0.8555\n",
      "Epoch 53/100\n",
      "10/10 [==============================] - 3s 272ms/step - loss: 0.3306 - acc: 0.8604 - val_loss: 0.3367 - val_acc: 0.8379\n",
      "Epoch 54/100\n",
      "10/10 [==============================] - 3s 272ms/step - loss: 0.3166 - acc: 0.8676 - val_loss: 0.3132 - val_acc: 0.8750\n",
      "Epoch 55/100\n",
      "10/10 [==============================] - 3s 277ms/step - loss: 0.3153 - acc: 0.8664 - val_loss: 0.3226 - val_acc: 0.8613\n",
      "Epoch 56/100\n",
      "10/10 [==============================] - 3s 265ms/step - loss: 0.3055 - acc: 0.8735 - val_loss: 0.3474 - val_acc: 0.8457\n",
      "Epoch 57/100\n",
      "10/10 [==============================] - 3s 270ms/step - loss: 0.3132 - acc: 0.8725 - val_loss: 0.3480 - val_acc: 0.8262\n",
      "Epoch 58/100\n",
      "10/10 [==============================] - 3s 273ms/step - loss: 0.3121 - acc: 0.8709 - val_loss: 0.3265 - val_acc: 0.8594\n",
      "Epoch 59/100\n",
      "10/10 [==============================] - 3s 268ms/step - loss: 0.3137 - acc: 0.8692 - val_loss: 0.3211 - val_acc: 0.8594\n",
      "Epoch 60/100\n",
      "10/10 [==============================] - 3s 270ms/step - loss: 0.3151 - acc: 0.8694 - val_loss: 0.3329 - val_acc: 0.8496\n",
      "Epoch 61/100\n",
      "10/10 [==============================] - 3s 277ms/step - loss: 0.3025 - acc: 0.8756 - val_loss: 0.3309 - val_acc: 0.8594\n",
      "Epoch 62/100\n"
     ]
    },
    {
     "name": "stdout",
     "output_type": "stream",
     "text": [
      "10/10 [==============================] - 2s 250ms/step - loss: 0.3147 - acc: 0.8657 - val_loss: 0.3227 - val_acc: 0.8457\n",
      "Epoch 63/100\n",
      "10/10 [==============================] - 3s 257ms/step - loss: 0.3049 - acc: 0.8737 - val_loss: 0.3257 - val_acc: 0.8555\n",
      "Epoch 64/100\n",
      "10/10 [==============================] - 3s 262ms/step - loss: 0.2939 - acc: 0.8770 - val_loss: 0.3242 - val_acc: 0.8613\n",
      "Epoch 65/100\n",
      "10/10 [==============================] - 3s 273ms/step - loss: 0.2941 - acc: 0.8801 - val_loss: 0.3290 - val_acc: 0.8516\n",
      "Epoch 66/100\n",
      "10/10 [==============================] - 3s 272ms/step - loss: 0.3024 - acc: 0.8745 - val_loss: 0.3261 - val_acc: 0.8633\n",
      "Epoch 67/100\n",
      "10/10 [==============================] - 3s 267ms/step - loss: 0.2952 - acc: 0.8771 - val_loss: 0.3383 - val_acc: 0.8418\n",
      "Epoch 68/100\n",
      "10/10 [==============================] - 3s 274ms/step - loss: 0.3037 - acc: 0.8738 - val_loss: 0.3714 - val_acc: 0.8301\n",
      "Epoch 69/100\n",
      "10/10 [==============================] - 3s 280ms/step - loss: 0.3017 - acc: 0.8753 - val_loss: 0.3300 - val_acc: 0.8594\n",
      "Epoch 70/100\n",
      "10/10 [==============================] - 3s 273ms/step - loss: 0.3065 - acc: 0.8733 - val_loss: 0.3021 - val_acc: 0.8750\n",
      "Epoch 71/100\n",
      "10/10 [==============================] - 3s 275ms/step - loss: 0.2919 - acc: 0.8807 - val_loss: 0.3585 - val_acc: 0.8359\n",
      "Epoch 72/100\n",
      "10/10 [==============================] - 3s 271ms/step - loss: 0.3003 - acc: 0.8766 - val_loss: 0.3137 - val_acc: 0.8594\n",
      "Epoch 73/100\n",
      "10/10 [==============================] - 3s 275ms/step - loss: 0.2930 - acc: 0.8763 - val_loss: 0.3432 - val_acc: 0.8398\n",
      "Epoch 74/100\n",
      "10/10 [==============================] - 3s 280ms/step - loss: 0.2892 - acc: 0.8826 - val_loss: 0.3430 - val_acc: 0.8457\n",
      "Epoch 75/100\n",
      "10/10 [==============================] - 3s 265ms/step - loss: 0.3002 - acc: 0.8748 - val_loss: 0.3009 - val_acc: 0.8633\n",
      "Epoch 76/100\n",
      "10/10 [==============================] - 3s 263ms/step - loss: 0.2871 - acc: 0.8842 - val_loss: 0.3118 - val_acc: 0.8613\n",
      "Epoch 77/100\n",
      "10/10 [==============================] - 3s 274ms/step - loss: 0.2937 - acc: 0.8759 - val_loss: 0.3161 - val_acc: 0.8633\n",
      "Epoch 78/100\n",
      "10/10 [==============================] - 3s 271ms/step - loss: 0.2888 - acc: 0.8821 - val_loss: 0.3116 - val_acc: 0.8711\n",
      "Epoch 79/100\n",
      "10/10 [==============================] - 3s 271ms/step - loss: 0.2980 - acc: 0.8745 - val_loss: 0.2996 - val_acc: 0.8809\n",
      "Epoch 80/100\n",
      "10/10 [==============================] - 3s 274ms/step - loss: 0.2861 - acc: 0.8826 - val_loss: 0.2932 - val_acc: 0.8672\n",
      "Epoch 81/100\n",
      "10/10 [==============================] - 3s 267ms/step - loss: 0.2802 - acc: 0.8830 - val_loss: 0.2910 - val_acc: 0.8711\n",
      "Epoch 82/100\n",
      "10/10 [==============================] - 3s 270ms/step - loss: 0.2846 - acc: 0.8823 - val_loss: 0.3452 - val_acc: 0.8457\n",
      "Epoch 83/100\n",
      "10/10 [==============================] - 3s 268ms/step - loss: 0.2767 - acc: 0.8881 - val_loss: 0.3014 - val_acc: 0.8770\n",
      "Epoch 84/100\n",
      "10/10 [==============================] - 3s 267ms/step - loss: 0.2938 - acc: 0.8792 - val_loss: 0.3034 - val_acc: 0.8535\n",
      "Epoch 85/100\n",
      "10/10 [==============================] - 3s 272ms/step - loss: 0.2868 - acc: 0.8800 - val_loss: 0.3034 - val_acc: 0.8711\n",
      "Epoch 86/100\n",
      "10/10 [==============================] - 3s 272ms/step - loss: 0.2788 - acc: 0.8861 - val_loss: 0.3129 - val_acc: 0.8438\n",
      "Epoch 87/100\n",
      "10/10 [==============================] - 3s 263ms/step - loss: 0.2924 - acc: 0.8766 - val_loss: 0.3013 - val_acc: 0.8633\n",
      "Epoch 88/100\n",
      "10/10 [==============================] - 3s 276ms/step - loss: 0.2888 - acc: 0.8793 - val_loss: 0.3189 - val_acc: 0.8496\n",
      "Epoch 89/100\n",
      "10/10 [==============================] - 3s 277ms/step - loss: 0.2819 - acc: 0.8843 - val_loss: 0.3035 - val_acc: 0.8633\n",
      "Epoch 90/100\n",
      "10/10 [==============================] - 3s 271ms/step - loss: 0.2812 - acc: 0.8837 - val_loss: 0.2869 - val_acc: 0.8633\n",
      "Epoch 91/100\n",
      "10/10 [==============================] - 3s 271ms/step - loss: 0.2796 - acc: 0.8840 - val_loss: 0.3079 - val_acc: 0.8652\n",
      "Epoch 92/100\n",
      "10/10 [==============================] - 3s 260ms/step - loss: 0.2833 - acc: 0.8837 - val_loss: 0.3009 - val_acc: 0.8652\n",
      "Epoch 93/100\n",
      "10/10 [==============================] - 3s 272ms/step - loss: 0.2826 - acc: 0.8837 - val_loss: 0.3252 - val_acc: 0.8594\n",
      "Epoch 94/100\n",
      "10/10 [==============================] - 3s 265ms/step - loss: 0.2758 - acc: 0.8887 - val_loss: 0.3178 - val_acc: 0.8750\n",
      "Epoch 95/100\n",
      "10/10 [==============================] - 3s 271ms/step - loss: 0.2726 - acc: 0.8888 - val_loss: 0.3342 - val_acc: 0.8691\n",
      "Epoch 96/100\n",
      "10/10 [==============================] - 3s 279ms/step - loss: 0.2752 - acc: 0.8876 - val_loss: 0.3147 - val_acc: 0.8555\n",
      "Epoch 97/100\n",
      "10/10 [==============================] - 3s 270ms/step - loss: 0.2794 - acc: 0.8883 - val_loss: 0.3156 - val_acc: 0.8652\n",
      "Epoch 98/100\n",
      "10/10 [==============================] - 3s 275ms/step - loss: 0.2699 - acc: 0.8883 - val_loss: 0.2706 - val_acc: 0.8926\n",
      "Epoch 99/100\n",
      "10/10 [==============================] - 3s 278ms/step - loss: 0.2708 - acc: 0.8914 - val_loss: 0.2831 - val_acc: 0.8828\n",
      "Epoch 100/100\n",
      "10/10 [==============================] - 3s 272ms/step - loss: 0.2718 - acc: 0.8884 - val_loss: 0.3187 - val_acc: 0.8711\n",
      "CPU times: user 7min 26s, sys: 1min 12s, total: 8min 39s\n",
      "Wall time: 4min 33s\n"
     ]
    }
   ],
   "source": [
    "%%time\n",
    "\n",
    "early = keras.callbacks.EarlyStopping(monitor='val_loss', patience=15, verbose=1, mode='auto')\n",
    "\n",
    "h_clf = model_clf.fit_generator(batch_classification_siamese(baseline.train_data, \n",
    "                                                             baseline.dup_sets_train, bug_train_ids, 1024, 1), \n",
    "                               steps_per_epoch = 10,\n",
    "                               validation_data=test_validation,\n",
    "                                             epochs = 100,\n",
    "#                                              callbacks=[early],\n",
    "                                             verbose = True) "
   ]
  },
  {
   "cell_type": "code",
   "execution_count": 25,
   "metadata": {
    "scrolled": false
   },
   "outputs": [
    {
     "data": {
      "image/png": "[encoded data removed]",
      "text/plain": [
       "<Figure size 432x288 with 1 Axes>"
      ]
     },
     "metadata": {
      "needs_background": "light"
     },
     "output_type": "display_data"
    },
    {
     "data": {
      "image/png": "[encoded data removed]",
      "text/plain": [
       "<Figure size 432x288 with 1 Axes>"
      ]
     },
     "metadata": {
      "needs_background": "light"
     },
     "output_type": "display_data"
    }
   ],
   "source": [
    "Baseline.validation_accuracy_loss(h_clf)"
   ]
  },
  {
   "cell_type": "markdown",
   "metadata": {},
   "source": [
    "### Accuracy"
   ]
  },
  {
   "cell_type": "code",
   "execution_count": 26,
   "metadata": {},
   "outputs": [],
   "source": [
    "result = { }"
   ]
  },
  {
   "cell_type": "markdown",
   "metadata": {},
   "source": [
    "#### train"
   ]
  },
  {
   "cell_type": "code",
   "execution_count": 27,
   "metadata": {},
   "outputs": [
    {
     "data": {
      "text/plain": [
       "0.87109375"
      ]
     },
     "execution_count": 27,
     "metadata": {},
     "output_type": "execute_result"
    }
   ],
   "source": [
    "from sklearn.metrics import accuracy_score\n",
    "\n",
    "title_a, title_b, desc_a, desc_b, info_a, info_b, sim = batch_classification(baseline.train_data, \n",
    "                                                                             baseline.dup_sets_train, bug_train_ids, 512, 1)\n",
    "\n",
    "y_true = sim\n",
    "y_scores = model_clf.predict([title_a, title_b, desc_a, desc_b, info_a, info_b])\n",
    "\n",
    "def normalize(row):\n",
    "    return [1 if(r > 0.5) else 0 for r in row]\n",
    "\n",
    "y_scores = list(map(normalize, y_scores))\n",
    "# y_scores\n",
    "def decode_ohe(row):\n",
    "    return 0 if(row[0] == 1) else 1\n",
    "y_scores = [ decode_ohe(r) for r in y_scores ]\n",
    "y_true = [ decode_ohe(r) for r in y_true ]\n",
    "acc_train = accuracy_score(y_true, y_scores)\n",
    "acc_train"
   ]
  },
  {
   "cell_type": "markdown",
   "metadata": {},
   "source": [
    "#### test"
   ]
  },
  {
   "cell_type": "code",
   "execution_count": 28,
   "metadata": {},
   "outputs": [
    {
     "data": {
      "text/plain": [
       "0.9288079470198676"
      ]
     },
     "execution_count": 28,
     "metadata": {},
     "output_type": "execute_result"
    }
   ],
   "source": [
    "from sklearn.metrics import accuracy_score\n",
    "\n",
    "number_of_pairs = len(baseline.test_data)\n",
    "\n",
    "title_a, title_b, desc_a, desc_b, info_a, info_b, sim = batch_classification(baseline.test_data,  \n",
    "                                                                             baseline.dup_sets_test,\n",
    "                                                                             bug_test_ids, number_of_pairs, 1)\n",
    "\n",
    "y_true = sim\n",
    "y_scores = model_clf.predict([title_a, title_b, desc_a, desc_b, info_a, info_b])\n",
    "\n",
    "def normalize(row):\n",
    "    return [1 if(r > 0.5) else 0 for r in row]\n",
    "\n",
    "y_scores = list(map(normalize, y_scores))\n",
    "# y_scores\n",
    "def decode_ohe(row):\n",
    "    return 0 if(row[0] == 1) else 1\n",
    "y_scores = [ decode_ohe(r) for r in y_scores ]\n",
    "y_true = [ decode_ohe(r) for r in y_true ]\n",
    "acc_test = accuracy_score(y_true, y_scores)\n",
    "acc_test"
   ]
  },
  {
   "cell_type": "markdown",
   "metadata": {},
   "source": [
    "### Roc AUC/SCORE"
   ]
  },
  {
   "cell_type": "markdown",
   "metadata": {},
   "source": [
    "#### train"
   ]
  },
  {
   "cell_type": "code",
   "execution_count": 29,
   "metadata": {},
   "outputs": [
    {
     "data": {
      "text/plain": [
       "0.953338623046875"
      ]
     },
     "execution_count": 29,
     "metadata": {},
     "output_type": "execute_result"
    }
   ],
   "source": [
    "from sklearn.metrics import roc_auc_score\n",
    "\n",
    "title_a, title_b, desc_a, desc_b, info_a, info_b, sim = batch_classification(baseline.train_data, \n",
    "                                                                             baseline.dup_sets_train,\n",
    "                                                                             bug_train_ids, 512, 1)\n",
    "\n",
    "y_true = sim\n",
    "y_scores = model_clf.predict([title_a, title_b, desc_a, desc_b, info_a, info_b])\n",
    "\n",
    "roc_train = roc_auc_score(y_true, y_scores)\n",
    "roc_train"
   ]
  },
  {
   "cell_type": "markdown",
   "metadata": {},
   "source": [
    "#### test"
   ]
  },
  {
   "cell_type": "code",
   "execution_count": 30,
   "metadata": {},
   "outputs": [
    {
     "data": {
      "text/plain": [
       "0.9782465681329766"
      ]
     },
     "execution_count": 30,
     "metadata": {},
     "output_type": "execute_result"
    }
   ],
   "source": [
    "from sklearn.metrics import roc_auc_score\n",
    "\n",
    "number_of_pairs = len(baseline.test_data)\n",
    "\n",
    "title_a, title_b, desc_a, desc_b, info_a, info_b, sim = batch_classification(baseline.test_data, \n",
    "                                                                             baseline.dup_sets_test,\n",
    "                                                                             bug_test_ids, number_of_pairs, 1)\n",
    "\n",
    "y_true = sim\n",
    "y_scores = model_clf.predict([title_a, title_b, desc_a, desc_b, info_a, info_b])\n",
    "\n",
    "roc_test = roc_auc_score(y_true, y_scores)\n",
    "roc_test"
   ]
  },
  {
   "cell_type": "markdown",
   "metadata": {},
   "source": [
    "#### Save the model"
   ]
  },
  {
   "cell_type": "code",
   "execution_count": 31,
   "metadata": {},
   "outputs": [],
   "source": [
    "experiment.save_model(model_clf, SAVE_PATH)"
   ]
  },
  {
   "cell_type": "markdown",
   "metadata": {},
   "source": [
    "#### Saving the accuracy and roc/auc"
   ]
  },
  {
   "cell_type": "code",
   "execution_count": 32,
   "metadata": {},
   "outputs": [
    {
     "name": "stdout",
     "output_type": "stream",
     "text": [
      "All saved.\n"
     ]
    }
   ],
   "source": [
    "import _pickle as pickle\n",
    "\n",
    "CLASSIFICATION_PATH = 'classification_{}.pkl'.format(METHOD)\n",
    "\n",
    "def save_result(result):\n",
    "    result = {\n",
    "        'acc_train' : acc_train,\n",
    "        'acc_test' : acc_test,\n",
    "        'roc_train' : roc_train,\n",
    "        'roc_test' : roc_test,\n",
    "        'method' : METHOD\n",
    "    }\n",
    "\n",
    "    with open(os.path.join(DIR, CLASSIFICATION_PATH), 'wb') as f:\n",
    "        pickle.dump(result, f)\n",
    "\n",
    "try:\n",
    "    with open(os.path.join(DIR, CLASSIFICATION_PATH), 'rb') as f:\n",
    "        result = pickle.load(f)\n",
    "    save_result(result)\n",
    "except:\n",
    "    save_result(result)\n",
    "    \n",
    "print(\"All saved.\")"
   ]
  }
 ],
 "metadata": {
  "kernelspec": {
   "display_name": "Python 3",
   "language": "python",
   "name": "python3"
  },
  "language_info": {
   "codemirror_mode": {
    "name": "ipython",
    "version": 3
   },
   "file_extension": ".py",
   "mimetype": "text/x-python",
   "name": "python",
   "nbconvert_exporter": "python",
   "pygments_lexer": "ipython3",
   "version": "3.5.2"
  }
 },
 "nbformat": 4,
 "nbformat_minor": 2
}
