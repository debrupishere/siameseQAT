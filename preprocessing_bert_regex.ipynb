{
 "cells": [
  {
   "cell_type": "markdown",
   "metadata": {},
   "source": [
    "## Preprocessing"
   ]
  },
  {
   "cell_type": "code",
   "execution_count": 1,
   "metadata": {},
   "outputs": [],
   "source": [
    "import os\n",
    "\n",
    "# Domain to use\n",
    "DOMAIN = 'firefox'\n",
    "\n",
    "DATASET = os.path.join('data/normalized/{}'.format(DOMAIN), '{}.csv'.format(DOMAIN))"
   ]
  },
  {
   "cell_type": "code",
   "execution_count": 2,
   "metadata": {},
   "outputs": [],
   "source": [
    "import os\n",
    "\n",
    "pretrained_path = 'uncased_L-12_H-768_A-12'\n",
    "config_path = os.path.join(pretrained_path, 'bert_config.json')\n",
    "model_path = os.path.join(pretrained_path, 'bert_model.ckpt')\n",
    "vocab_path = os.path.join(pretrained_path, 'vocab.txt')"
   ]
  },
  {
   "cell_type": "code",
   "execution_count": 3,
   "metadata": {},
   "outputs": [
    {
     "name": "stderr",
     "output_type": "stream",
     "text": [
      "Using TensorFlow backend.\n"
     ]
    }
   ],
   "source": [
    "from keras_bert import load_vocabulary\n",
    "\n",
    "token_dict = load_vocabulary(vocab_path)"
   ]
  },
  {
   "cell_type": "code",
   "execution_count": 4,
   "metadata": {},
   "outputs": [
    {
     "data": {
      "text/plain": [
       "'Total vocabulary: 30522'"
      ]
     },
     "execution_count": 4,
     "metadata": {},
     "output_type": "execute_result"
    }
   ],
   "source": [
    "\"Total vocabulary: {}\".format(len(token_dict))"
   ]
  },
  {
   "cell_type": "code",
   "execution_count": 5,
   "metadata": {},
   "outputs": [],
   "source": [
    "import pandas as pd"
   ]
  },
  {
   "cell_type": "code",
   "execution_count": 6,
   "metadata": {},
   "outputs": [],
   "source": [
    "df_train = pd.read_csv('{}'.format(DATASET))"
   ]
  },
  {
   "cell_type": "code",
   "execution_count": 7,
   "metadata": {},
   "outputs": [
    {
     "data": {
      "text/html": [
       "<div>\n",
       "<style scoped>\n",
       "    .dataframe tbody tr th:only-of-type {\n",
       "        vertical-align: middle;\n",
       "    }\n",
       "\n",
       "    .dataframe tbody tr th {\n",
       "        vertical-align: top;\n",
       "    }\n",
       "\n",
       "    .dataframe thead th {\n",
       "        text-align: right;\n",
       "    }\n",
       "</style>\n",
       "<table border=\"1\" class=\"dataframe\">\n",
       "  <thead>\n",
       "    <tr style=\"text-align: right;\">\n",
       "      <th></th>\n",
       "      <th>bug_id</th>\n",
       "      <th>priority</th>\n",
       "      <th>component</th>\n",
       "      <th>dup_id</th>\n",
       "      <th>short_desc</th>\n",
       "      <th>description</th>\n",
       "      <th>bug_status</th>\n",
       "      <th>resolution</th>\n",
       "      <th>version</th>\n",
       "      <th>creation_ts</th>\n",
       "      <th>delta_ts</th>\n",
       "    </tr>\n",
       "  </thead>\n",
       "  <tbody>\n",
       "    <tr>\n",
       "      <th>0</th>\n",
       "      <td>10954</td>\n",
       "      <td>P3</td>\n",
       "      <td>Preferences</td>\n",
       "      <td>[]</td>\n",
       "      <td>Dialup properties needs to be exposed in prefs</td>\n",
       "      <td>The dialup properties of the profile should be...</td>\n",
       "      <td>RESOLVED</td>\n",
       "      <td>WONTFIX</td>\n",
       "      <td>Trunk</td>\n",
       "      <td>1999-07-30 15:55:51 -0700</td>\n",
       "      <td>2008-05-14 11:44:15 -0700</td>\n",
       "    </tr>\n",
       "    <tr>\n",
       "      <th>1</th>\n",
       "      <td>14871</td>\n",
       "      <td>--</td>\n",
       "      <td>General</td>\n",
       "      <td>269442</td>\n",
       "      <td>[Find] Find whole word only</td>\n",
       "      <td>Please add Match Whole Word Only option to bro...</td>\n",
       "      <td>RESOLVED</td>\n",
       "      <td>DUPLICATE</td>\n",
       "      <td>Trunk</td>\n",
       "      <td>1999-09-24 14:49:34 -0700</td>\n",
       "      <td>2011-10-05 16:35:31 -0700</td>\n",
       "    </tr>\n",
       "    <tr>\n",
       "      <th>2</th>\n",
       "      <td>19118</td>\n",
       "      <td>--</td>\n",
       "      <td>Preferences</td>\n",
       "      <td>[]</td>\n",
       "      <td>Plug-In Manager (ui for choosing mimetype-plug...</td>\n",
       "      <td>I would really like a plug-in manager for my b...</td>\n",
       "      <td>RESOLVED</td>\n",
       "      <td>WONTFIX</td>\n",
       "      <td>Trunk</td>\n",
       "      <td>1999-11-17 14:58:26 -0800</td>\n",
       "      <td>2013-01-29 11:48:39 -0800</td>\n",
       "    </tr>\n",
       "    <tr>\n",
       "      <th>3</th>\n",
       "      <td>54746</td>\n",
       "      <td>P3</td>\n",
       "      <td>Preferences</td>\n",
       "      <td>[]</td>\n",
       "      <td>Language encodings in font prefs dialog not so...</td>\n",
       "      <td>Language encodings are listed in a seemingly r...</td>\n",
       "      <td>RESOLVED</td>\n",
       "      <td>WORKSFORME</td>\n",
       "      <td>Trunk</td>\n",
       "      <td>2000-09-29 14:12:11 -0700</td>\n",
       "      <td>2013-02-27 15:47:29 -0800</td>\n",
       "    </tr>\n",
       "    <tr>\n",
       "      <th>4</th>\n",
       "      <td>56892</td>\n",
       "      <td>P3</td>\n",
       "      <td>General</td>\n",
       "      <td>[]</td>\n",
       "      <td>Synaptics touchpad scrolling not working</td>\n",
       "      <td>From Bugzilla Helper:; User-Agent: Mozilla/5.0...</td>\n",
       "      <td>RESOLVED</td>\n",
       "      <td>WORKSFORME</td>\n",
       "      <td>unspecified</td>\n",
       "      <td>2000-10-16 14:48:15 -0700</td>\n",
       "      <td>2009-10-14 11:38:29 -0700</td>\n",
       "    </tr>\n",
       "  </tbody>\n",
       "</table>\n",
       "</div>"
      ],
      "text/plain": [
       "   bug_id priority    component  dup_id  \\\n",
       "0   10954       P3  Preferences      []   \n",
       "1   14871       --      General  269442   \n",
       "2   19118       --  Preferences      []   \n",
       "3   54746       P3  Preferences      []   \n",
       "4   56892       P3      General      []   \n",
       "\n",
       "                                          short_desc  \\\n",
       "0     Dialup properties needs to be exposed in prefs   \n",
       "1                        [Find] Find whole word only   \n",
       "2  Plug-In Manager (ui for choosing mimetype-plug...   \n",
       "3  Language encodings in font prefs dialog not so...   \n",
       "4           Synaptics touchpad scrolling not working   \n",
       "\n",
       "                                         description bug_status  resolution  \\\n",
       "0  The dialup properties of the profile should be...   RESOLVED     WONTFIX   \n",
       "1  Please add Match Whole Word Only option to bro...   RESOLVED   DUPLICATE   \n",
       "2  I would really like a plug-in manager for my b...   RESOLVED     WONTFIX   \n",
       "3  Language encodings are listed in a seemingly r...   RESOLVED  WORKSFORME   \n",
       "4  From Bugzilla Helper:; User-Agent: Mozilla/5.0...   RESOLVED  WORKSFORME   \n",
       "\n",
       "       version                creation_ts                   delta_ts  \n",
       "0        Trunk  1999-07-30 15:55:51 -0700  2008-05-14 11:44:15 -0700  \n",
       "1        Trunk  1999-09-24 14:49:34 -0700  2011-10-05 16:35:31 -0700  \n",
       "2        Trunk  1999-11-17 14:58:26 -0800  2013-01-29 11:48:39 -0800  \n",
       "3        Trunk  2000-09-29 14:12:11 -0700  2013-02-27 15:47:29 -0800  \n",
       "4  unspecified  2000-10-16 14:48:15 -0700  2009-10-14 11:38:29 -0700  "
      ]
     },
     "execution_count": 7,
     "metadata": {},
     "output_type": "execute_result"
    }
   ],
   "source": [
    "df_train.head()"
   ]
  },
  {
   "cell_type": "code",
   "execution_count": 8,
   "metadata": {
    "scrolled": true
   },
   "outputs": [
    {
     "data": {
      "text/plain": [
       "115814"
      ]
     },
     "execution_count": 8,
     "metadata": {},
     "output_type": "execute_result"
    }
   ],
   "source": [
    "bug_ids = df_train['bug_id'].values\n",
    "\n",
    "len(bug_ids)"
   ]
  },
  {
   "cell_type": "code",
   "execution_count": 60,
   "metadata": {},
   "outputs": [
    {
     "data": {
      "text/plain": [
       "'test ; ; test'"
      ]
     },
     "execution_count": 60,
     "metadata": {},
     "output_type": "execute_result"
    }
   ],
   "source": [
    "\"Test ; ; Test\".lower()"
   ]
  },
  {
   "cell_type": "code",
   "execution_count": 124,
   "metadata": {},
   "outputs": [
    {
     "data": {
      "text/plain": [
       "829674"
      ]
     },
     "execution_count": 124,
     "metadata": {},
     "output_type": "execute_result"
    }
   ],
   "source": [
    "idx"
   ]
  },
  {
   "cell_type": "code",
   "execution_count": 200,
   "metadata": {},
   "outputs": [
    {
     "data": {
      "text/plain": [
       "{'description': ' 1.; 2.; 3.',\n",
       " 'title': 'The buttons are not able to be clicked that is in the area of flash menu.'}"
      ]
     },
     "execution_count": 200,
     "metadata": {},
     "output_type": "execute_result"
    }
   ],
   "source": [
    "import numpy as np\n",
    "idx = np.random.choice(bug_ids, 1)[0]\n",
    "# idx = 944459\n",
    "# 944459, 829674\n",
    "bug_df = df_train[df_train['bug_id'] == idx]\n",
    "\n",
    "\n",
    "desc_reg = str(bug_df['description'].values[0])\n",
    "\n",
    "def first_regex(text):\n",
    "    text_lower = text.lower()\n",
    "    return text[ int(text.find('; ; ')) + 4 : ] if 'user-agent:' in text_lower else text\n",
    "\n",
    "def second_regex(text):\n",
    "    text_lower = text.lower()\n",
    "    return text[ int(text_lower.find('steps to reproduce')) + 20 : ] if 'steps to reproduce' in text_lower else text\n",
    "\n",
    "bug = {\n",
    "    'description' : second_regex(first_regex(desc_reg)),\n",
    "#     'description_regex' : second_regex(first_regex(desc_reg)),\n",
    "    'title' : bug_df['short_desc'].values[0]\n",
    "}\n",
    "\n",
    "# print(bug['description'])\n",
    "# print(\"#############################################\")\n",
    "# print(bug['description_regex'])\n",
    "\n",
    "bug"
   ]
  },
  {
   "cell_type": "markdown",
   "metadata": {},
   "source": [
    "### REGEX\n",
    "\n",
    "Regex to process the Firefox dataset"
   ]
  },
  {
   "cell_type": "code",
   "execution_count": 213,
   "metadata": {},
   "outputs": [],
   "source": [
    "MAX_SEQUENCE_LENGTH_T = 20 # 40\n",
    "MAX_SEQUENCE_LENGTH_D = 20 # 200"
   ]
  },
  {
   "cell_type": "code",
   "execution_count": 203,
   "metadata": {},
   "outputs": [],
   "source": [
    "from keras_bert import Tokenizer\n",
    "tokenizer = Tokenizer(token_dict)"
   ]
  },
  {
   "cell_type": "code",
   "execution_count": 201,
   "metadata": {
    "scrolled": true
   },
   "outputs": [
    {
     "data": {
      "text/plain": [
       "('Title ',\n",
       " 'The buttons are not able to be clicked that is in the area of flash menu.')"
      ]
     },
     "execution_count": 201,
     "metadata": {},
     "output_type": "execute_result"
    }
   ],
   "source": [
    "\"Title \", bug['title']"
   ]
  },
  {
   "cell_type": "code",
   "execution_count": 231,
   "metadata": {},
   "outputs": [
    {
     "data": {
      "text/plain": [
       "['[CLS]', '[', 'cl', '##s', ']', '1', '.', '[SEP]']"
      ]
     },
     "execution_count": 231,
     "metadata": {},
     "output_type": "execute_result"
    }
   ],
   "source": [
    "tokenizer.tokenize(\"[CLS] 1 .\")"
   ]
  },
  {
   "cell_type": "code",
   "execution_count": 230,
   "metadata": {},
   "outputs": [
    {
     "data": {
      "text/plain": [
       "([101,\n",
       "  1031,\n",
       "  18856,\n",
       "  2015,\n",
       "  1033,\n",
       "  1015,\n",
       "  1012,\n",
       "  102,\n",
       "  0,\n",
       "  0,\n",
       "  0,\n",
       "  0,\n",
       "  0,\n",
       "  0,\n",
       "  0,\n",
       "  0,\n",
       "  0,\n",
       "  0,\n",
       "  0,\n",
       "  0],\n",
       " [0, 0, 0, 0, 0, 0, 0, 0, 0, 0, 0, 0, 0, 0, 0, 0, 0, 0, 0, 0])"
      ]
     },
     "execution_count": 230,
     "metadata": {},
     "output_type": "execute_result"
    }
   ],
   "source": [
    "tokenizer.encode(\"[CLS] 1 .\", max_len=MAX_SEQUENCE_LENGTH_T)"
   ]
  },
  {
   "cell_type": "code",
   "execution_count": 224,
   "metadata": {},
   "outputs": [
    {
     "name": "stdout",
     "output_type": "stream",
     "text": [
      "[CLS] after an update loaded automatically this afternoon ; all my book ##marks disappeared . its as if the slate has been wiped clean . ; ; rep ##rod ##ucible : didn ##t try [SEP]\n",
      "([101, 1031, 18856, 2015, 1033, 2044, 2019, 10651, 8209, 8073, 2023, 5027, 1025, 2035, 2026, 2338, 1001, 1001, 6017, 102], [0, 0, 0, 0, 0, 0, 0, 0, 0, 0, 0, 0, 0, 0, 0, 0, 0, 0, 0, 0])\n",
      "[CLS] 1 . select book ##marks ; 2 . hove ##r mouse over one of the links ( not folder ##s ) ; 3 . black box appears on top of book ##mark link icon . ; actual results : ; black box appeared . ; ; expected results : ; not shown the black box . [SEP]\n",
      "([101, 1031, 18856, 2015, 1033, 1015, 1012, 7276, 2338, 1001, 1001, 6017, 1025, 1016, 1012, 25215, 1001, 1001, 1054, 102], [0, 0, 0, 0, 0, 0, 0, 0, 0, 0, 0, 0, 0, 0, 0, 0, 0, 0, 0, 0])\n"
     ]
    }
   ],
   "source": [
    "import _pickle as pickle\n",
    "\n",
    "fixes = ['351892', '556144']\n",
    "\n",
    "for bug_id in fixes:\n",
    "    bug = pickle.load(open(os.path.join('data/processed/firefox', 'bugs', '{}.pkl'.format(bug_id)), 'rb'))\n",
    "    print(bug['description_bert'])\n",
    "    print(tokenizer.encode(bug['description_bert'], max_len=MAX_SEQUENCE_LENGTH_T))"
   ]
  },
  {
   "cell_type": "code",
   "execution_count": 204,
   "metadata": {
    "scrolled": true
   },
   "outputs": [
    {
     "data": {
      "text/plain": [
       "['[CLS]',\n",
       " 'the',\n",
       " 'buttons',\n",
       " 'are',\n",
       " 'not',\n",
       " 'able',\n",
       " 'to',\n",
       " 'be',\n",
       " 'clicked',\n",
       " 'that',\n",
       " 'is',\n",
       " 'in',\n",
       " 'the',\n",
       " 'area',\n",
       " 'of',\n",
       " 'flash',\n",
       " 'menu',\n",
       " '.',\n",
       " '[SEP]']"
      ]
     },
     "execution_count": 204,
     "metadata": {},
     "output_type": "execute_result"
    }
   ],
   "source": [
    "text = tokenizer.tokenize(bug['title'], max_len=MAX_SEQUENCE_LENGTH_T)\n",
    "text"
   ]
  },
  {
   "cell_type": "code",
   "execution_count": 207,
   "metadata": {},
   "outputs": [],
   "source": [
    "ids, segments = tokenizer.encode(bug['title'], max_len=MAX_SEQUENCE_LENGTH_T)"
   ]
  },
  {
   "cell_type": "code",
   "execution_count": 209,
   "metadata": {},
   "outputs": [
    {
     "data": {
      "text/plain": [
       "[101,\n",
       " 1996,\n",
       " 11287,\n",
       " 2024,\n",
       " 2025,\n",
       " 2583,\n",
       " 2000,\n",
       " 2022,\n",
       " 13886,\n",
       " 2008,\n",
       " 2003,\n",
       " 1999,\n",
       " 1996,\n",
       " 2181,\n",
       " 1997,\n",
       " 5956,\n",
       " 12183,\n",
       " 1012,\n",
       " 102,\n",
       " 0]"
      ]
     },
     "execution_count": 209,
     "metadata": {},
     "output_type": "execute_result"
    }
   ],
   "source": [
    "ids"
   ]
  },
  {
   "cell_type": "code",
   "execution_count": 210,
   "metadata": {},
   "outputs": [
    {
     "data": {
      "text/plain": [
       "['the',\n",
       " 'buttons',\n",
       " 'are',\n",
       " 'not',\n",
       " 'able',\n",
       " 'to',\n",
       " 'be',\n",
       " 'clicked',\n",
       " 'that',\n",
       " 'is',\n",
       " 'in',\n",
       " 'the',\n",
       " 'area',\n",
       " 'of',\n",
       " 'flash',\n",
       " 'menu',\n",
       " '.']"
      ]
     },
     "execution_count": 210,
     "metadata": {},
     "output_type": "execute_result"
    }
   ],
   "source": [
    "tokenizer.decode(ids)"
   ]
  }
 ],
 "metadata": {
  "kernelspec": {
   "display_name": "Python 3",
   "language": "python",
   "name": "python3"
  },
  "language_info": {
   "codemirror_mode": {
    "name": "ipython",
    "version": 3
   },
   "file_extension": ".py",
   "mimetype": "text/x-python",
   "name": "python",
   "nbconvert_exporter": "python",
   "pygments_lexer": "ipython3",
   "version": "3.5.2"
  }
 },
 "nbformat": 4,
 "nbformat_minor": 2
}
