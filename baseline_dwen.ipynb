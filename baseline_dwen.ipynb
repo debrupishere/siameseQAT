{
 "cells": [
  {
   "cell_type": "markdown",
   "metadata": {
    "colab_type": "text",
    "id": "PtdA1qs_UQP1"
   },
   "source": [
    "# DWEN"
   ]
  },
  {
   "cell_type": "code",
   "execution_count": 1,
   "metadata": {},
   "outputs": [
    {
     "name": "stderr",
     "output_type": "stream",
     "text": [
      "Using TensorFlow backend.\n"
     ]
    }
   ],
   "source": [
    "import keras"
   ]
  },
  {
   "cell_type": "code",
   "execution_count": 2,
   "metadata": {
    "colab": {},
    "colab_type": "code",
    "id": "qnSCLmiomFE1"
   },
   "outputs": [],
   "source": [
    "from __future__ import print_function, division"
   ]
  },
  {
   "cell_type": "code",
   "execution_count": 3,
   "metadata": {
    "colab": {},
    "colab_type": "code",
    "id": "OIha-SERnD72"
   },
   "outputs": [],
   "source": [
    "import re\n",
    "import numpy as np\n",
    "import pandas as pd\n",
    "\n",
    "import os\n",
    "from tqdm import tqdm_notebook as tqdm\n",
    "import matplotlib.pyplot as plt\n",
    "import sys\n",
    "from annoy import AnnoyIndex\n",
    "nb_dir = os.path.split(os.getcwd())[0]\n",
    "if nb_dir not in sys.path:\n",
    "    sys.path.append(nb_dir)\n",
    "    \n",
    "%matplotlib inline"
   ]
  },
  {
   "cell_type": "code",
   "execution_count": 4,
   "metadata": {
    "colab": {
     "base_uri": "https://localhost:8080/",
     "height": 34
    },
    "colab_type": "code",
    "id": "c57gQiuAnJAe",
    "outputId": "9eaf2d3f-619a-492d-f40b-6ba2c48426fa"
   },
   "outputs": [],
   "source": [
    "from keras.layers import Conv1D, Input, Add, Activation, Dropout, Embedding, MaxPooling1D, \\\n",
    "    GlobalMaxPool1D, Flatten, Dense, Concatenate, BatchNormalization\n",
    "from keras.models import Sequential, Model\n",
    "from keras.regularizers import l2\n",
    "from keras.initializers import TruncatedNormal\n",
    "from keras.layers.advanced_activations import LeakyReLU, ELU\n",
    "from keras import optimizers"
   ]
  },
  {
   "cell_type": "code",
   "execution_count": 5,
   "metadata": {},
   "outputs": [],
   "source": [
    "from methods.baseline import Baseline\n",
    "from methods.experiments import Experiment\n",
    "from methods.evaluation import Evaluation\n",
    "from methods.retrieval import Retrieval"
   ]
  },
  {
   "cell_type": "markdown",
   "metadata": {
    "colab_type": "text",
    "id": "3VUZ6oG1gb91"
   },
   "source": [
    "## Auxiliary methods"
   ]
  },
  {
   "cell_type": "markdown",
   "metadata": {
    "colab_type": "text",
    "id": "8uQou7m2-bFO"
   },
   "source": [
    "## Configurações Globais"
   ]
  },
  {
   "cell_type": "code",
   "execution_count": 6,
   "metadata": {
    "colab": {},
    "colab_type": "code",
    "id": "G-Kn3x_K-aZj"
   },
   "outputs": [],
   "source": [
    "MAX_SEQUENCE_LENGTH_T = 20 # 100\n",
    "MAX_SEQUENCE_LENGTH_D = 20 # 500\n",
    "EMBEDDING_DIM = 300\n",
    "MAX_NB_WORDS = 20000\n",
    "'''\n",
    "    Configuration\n",
    "'''\n",
    "epochs = 1000\n",
    "freeze_train = .1 # 10% with freeze weights\n",
    "best_loss = float('inf')\n",
    "best_epoch = 0\n",
    "verbose = 0\n",
    "loss = 0"
   ]
  },
  {
   "cell_type": "markdown",
   "metadata": {},
   "source": [
    "### Parse bugs preproprecessed"
   ]
  },
  {
   "cell_type": "code",
   "execution_count": 7,
   "metadata": {},
   "outputs": [],
   "source": [
    "# Domain to use\n",
    "DOMAIN = 'netbeans'\n",
    "METHOD = 'baseline_dwen_{}'.format(epochs)\n",
    "PREPROCESSING = 'bert'\n",
    "TOKEN = 'bert'\n",
    "# Dataset paths\n",
    "DIR = 'data/processed/{}/{}'.format(DOMAIN, PREPROCESSING)\n",
    "DIR_PAIRS = 'data/normalized/{}'.format(DOMAIN)\n",
    "DATASET = os.path.join('data/normalized/{}'.format(DOMAIN), '{}.csv'.format(DOMAIN))\n",
    "# Path embeddings\n",
    "GLOVE_DIR='data/embed'\n",
    "# Save model\n",
    "SAVE_PATH = '{}_preprocessing_{}_feature@number_of_epochs@epochs_64batch({})'.format(PREPROCESSING, METHOD, DOMAIN)\n",
    "SAVE_PATH_FEATURE = '{}_preprocessing_{}_feature_@number_of_epochs@epochs_64batch({})'.format(PREPROCESSING, METHOD, DOMAIN)\n",
    "\n",
    "# Extract CORPUs\n",
    "EXTRACT_CORPUS = False"
   ]
  },
  {
   "cell_type": "code",
   "execution_count": 8,
   "metadata": {},
   "outputs": [],
   "source": [
    "import os\n",
    "\n",
    "pretrained_path = 'uncased_L-12_H-768_A-12'\n",
    "config_path = os.path.join(pretrained_path, 'bert_config.json')\n",
    "model_path = os.path.join(pretrained_path, 'bert_model.ckpt')\n",
    "vocab_path = os.path.join(pretrained_path, 'vocab.txt')"
   ]
  },
  {
   "cell_type": "code",
   "execution_count": 9,
   "metadata": {},
   "outputs": [],
   "source": [
    "from keras_bert import load_vocabulary\n",
    "\n",
    "token_dict = load_vocabulary(vocab_path)"
   ]
  },
  {
   "cell_type": "code",
   "execution_count": 10,
   "metadata": {},
   "outputs": [],
   "source": [
    "baseline = Baseline(DOMAIN, DIR, DATASET, MAX_SEQUENCE_LENGTH_T, MAX_SEQUENCE_LENGTH_D,\n",
    "                   token_dict['[CLS]'], token_dict['[SEP]'])\n",
    "evaluation = Evaluation(verbose=0)\n",
    "retrieval = Retrieval()\n",
    "experiment = Experiment(baseline, evaluation)"
   ]
  },
  {
   "cell_type": "code",
   "execution_count": 11,
   "metadata": {},
   "outputs": [],
   "source": [
    "experiment.set_retrieval(retrieval, baseline, DOMAIN)"
   ]
  },
  {
   "cell_type": "markdown",
   "metadata": {},
   "source": [
    "#### Loading bug ids in memory"
   ]
  },
  {
   "cell_type": "code",
   "execution_count": 12,
   "metadata": {
    "scrolled": true
   },
   "outputs": [
    {
     "name": "stdout",
     "output_type": "stream",
     "text": [
      "Reading bug ids\n"
     ]
    },
    {
     "data": {
      "text/plain": [
       "216715"
      ]
     },
     "execution_count": 12,
     "metadata": {},
     "output_type": "execute_result"
    }
   ],
   "source": [
    "experiment.load_ids()\n",
    "len(baseline.bug_ids)"
   ]
  },
  {
   "cell_type": "markdown",
   "metadata": {
    "colab_type": "text",
    "id": "vqzt5EKzqzcI"
   },
   "source": [
    "#### Dicionário de títulos e descrições"
   ]
  },
  {
   "cell_type": "code",
   "execution_count": 13,
   "metadata": {
    "scrolled": true
   },
   "outputs": [
    {
     "data": {
      "application/vnd.jupyter.widget-view+json": {
       "model_id": "6cfd652d203347b1b9f88ddd4ee3f45c",
       "version_major": 2,
       "version_minor": 0
      },
      "text/plain": [
       "HBox(children=(IntProgress(value=0, max=216715), HTML(value='')))"
      ]
     },
     "metadata": {},
     "output_type": "display_data"
    },
    {
     "name": "stdout",
     "output_type": "stream",
     "text": [
      "\n"
     ]
    },
    {
     "data": {
      "application/vnd.jupyter.widget-view+json": {
       "model_id": "9806dbd0ab7a4c75adc1752835645290",
       "version_major": 2,
       "version_minor": 0
      },
      "text/plain": [
       "HBox(children=(IntProgress(value=1, bar_style='info', max=1), HTML(value='')))"
      ]
     },
     "metadata": {},
     "output_type": "display_data"
    },
    {
     "name": "stdout",
     "output_type": "stream",
     "text": [
      "\n",
      "CPU times: user 31.8 s, sys: 7.88 s, total: 39.7 s\n",
      "Wall time: 1min 7s\n"
     ]
    }
   ],
   "source": [
    "%%time\n",
    "\n",
    "experiment.load_bugs(TOKEN)\n",
    "len(baseline.sentence_dict)"
   ]
  },
  {
   "cell_type": "markdown",
   "metadata": {},
   "source": [
    "#### Hashing bugs by buckets"
   ]
  },
  {
   "cell_type": "code",
   "execution_count": 14,
   "metadata": {},
   "outputs": [
    {
     "data": {
      "application/vnd.jupyter.widget-view+json": {
       "model_id": "7c89cb9e523e4879a86dd053e4fc69d2",
       "version_major": 2,
       "version_minor": 0
      },
      "text/plain": [
       "HBox(children=(IntProgress(value=0, max=216715), HTML(value='')))"
      ]
     },
     "metadata": {},
     "output_type": "display_data"
    },
    {
     "name": "stdout",
     "output_type": "stream",
     "text": [
      "\n"
     ]
    }
   ],
   "source": [
    "issues_by_buckets = experiment.get_buckets_for_bugs()"
   ]
  },
  {
   "cell_type": "markdown",
   "metadata": {
    "colab_type": "text",
    "id": "a6Obtop6UIVD"
   },
   "source": [
    "#### Prepare the train and test"
   ]
  },
  {
   "cell_type": "code",
   "execution_count": 15,
   "metadata": {
    "colab": {},
    "colab_type": "code",
    "id": "vvyMGBD4IhB-",
    "scrolled": true
   },
   "outputs": [],
   "source": [
    "experiment.prepare_dataset(issues_by_buckets, path_train='train_chronological', path_test='test_chronological')\n",
    "# Read and create the test queries duplicates\n",
    "retrieval.create_queries()"
   ]
  },
  {
   "cell_type": "code",
   "execution_count": 16,
   "metadata": {},
   "outputs": [
    {
     "data": {
      "text/plain": [
       "[[23370, 26780],\n",
       " [103239, 105067],\n",
       " [61954, 73016],\n",
       " [204317, 202674],\n",
       " [220178, 220147],\n",
       " [195089, 195269],\n",
       " [221186, 219028],\n",
       " [102315, 105397],\n",
       " [196611, 193682],\n",
       " [50448, 50450]]"
      ]
     },
     "execution_count": 16,
     "metadata": {},
     "output_type": "execute_result"
    }
   ],
   "source": [
    "baseline.train_data[:10]"
   ]
  },
  {
   "cell_type": "code",
   "execution_count": 17,
   "metadata": {},
   "outputs": [],
   "source": [
    "bug_train_ids = experiment.get_train_ids(baseline.train_data)"
   ]
  },
  {
   "cell_type": "code",
   "execution_count": 18,
   "metadata": {
    "scrolled": true
   },
   "outputs": [
    {
     "data": {
      "text/plain": [
       "{'bug_severity': '0\\n',\n",
       " 'bug_status': '1\\n',\n",
       " 'component': '138\\n',\n",
       " 'creation_ts': '2008-07-29 19:18:00 +0000',\n",
       " 'delta_ts': '2008-08-01 15:51:38 +0000',\n",
       " 'description': '[CLS] results of accessibility test , window with title \" sv ##gi ##mage [ sv ##gi ##mage ] - resource path \" no accessible name : class : java ##x . swing . j ##text ##field { | } class : java ##x . swing . j ##text ##field { | } no accessible description : class : java ##x . swing . j ##bu ##tton { . . . | } class : java ##x . swing . jr ##adi ##ob ##ut ##ton { sv ##g image resource path : | } class : java ##x . swing . j ##text ##field { | } class : java ##x . swing . j ##text ##field { | } components with no label _ for pointing to it : class : java ##x . swing . jedi ##tor ##pan ##e { user code for obtaining sv ##g image | user code for obtaining sv ##g image } class : java ##x . swing . j ##text ##field { | } class : java ##x . swing . j ##text ##field { | } components with no mn ##emon ##ic : class : java ##x . swing . j ##bu ##tton { . . . | } [SEP]',\n",
       " 'description_segment': [0,\n",
       "  0,\n",
       "  0,\n",
       "  0,\n",
       "  0,\n",
       "  0,\n",
       "  0,\n",
       "  0,\n",
       "  0,\n",
       "  0,\n",
       "  0,\n",
       "  0,\n",
       "  0,\n",
       "  0,\n",
       "  0,\n",
       "  0,\n",
       "  0,\n",
       "  0,\n",
       "  0,\n",
       "  0,\n",
       "  0,\n",
       "  0,\n",
       "  0,\n",
       "  0,\n",
       "  0,\n",
       "  0,\n",
       "  0,\n",
       "  0,\n",
       "  0,\n",
       "  0,\n",
       "  0,\n",
       "  0,\n",
       "  0,\n",
       "  0,\n",
       "  0,\n",
       "  0,\n",
       "  0,\n",
       "  0,\n",
       "  0,\n",
       "  0,\n",
       "  0,\n",
       "  0,\n",
       "  0,\n",
       "  0,\n",
       "  0,\n",
       "  0,\n",
       "  0,\n",
       "  0,\n",
       "  0,\n",
       "  0,\n",
       "  0,\n",
       "  0,\n",
       "  0,\n",
       "  0,\n",
       "  0,\n",
       "  0,\n",
       "  0,\n",
       "  0,\n",
       "  0,\n",
       "  0,\n",
       "  0,\n",
       "  0,\n",
       "  0,\n",
       "  0,\n",
       "  0,\n",
       "  0,\n",
       "  0,\n",
       "  0,\n",
       "  0,\n",
       "  0,\n",
       "  0,\n",
       "  0,\n",
       "  0,\n",
       "  0,\n",
       "  0,\n",
       "  0,\n",
       "  0,\n",
       "  0,\n",
       "  0,\n",
       "  0,\n",
       "  0,\n",
       "  0,\n",
       "  0,\n",
       "  0,\n",
       "  0,\n",
       "  0,\n",
       "  0,\n",
       "  0,\n",
       "  0,\n",
       "  0,\n",
       "  0,\n",
       "  0,\n",
       "  0,\n",
       "  0,\n",
       "  0,\n",
       "  0,\n",
       "  0,\n",
       "  0,\n",
       "  0,\n",
       "  0,\n",
       "  0,\n",
       "  0,\n",
       "  0,\n",
       "  0,\n",
       "  0,\n",
       "  0,\n",
       "  0,\n",
       "  0,\n",
       "  0,\n",
       "  0,\n",
       "  0,\n",
       "  0,\n",
       "  0,\n",
       "  0,\n",
       "  0,\n",
       "  0,\n",
       "  0,\n",
       "  0,\n",
       "  0,\n",
       "  0,\n",
       "  0,\n",
       "  0,\n",
       "  0,\n",
       "  0,\n",
       "  0,\n",
       "  0,\n",
       "  0,\n",
       "  0,\n",
       "  0,\n",
       "  0,\n",
       "  0,\n",
       "  0,\n",
       "  0,\n",
       "  0,\n",
       "  0,\n",
       "  0,\n",
       "  0,\n",
       "  0,\n",
       "  0,\n",
       "  0,\n",
       "  0,\n",
       "  0,\n",
       "  0,\n",
       "  0,\n",
       "  0,\n",
       "  0,\n",
       "  0,\n",
       "  0,\n",
       "  0,\n",
       "  0],\n",
       " 'description_token': array([  101,  3463,  1997, 23661,  3231,  1010,  3332,  2007,  2516,\n",
       "         1000, 17917,  5856, 26860,  1031, 17917,  5856, 26860,  1033,\n",
       "         1011,   102]),\n",
       " 'dup_id': '[]',\n",
       " 'issue_id': 142122,\n",
       " 'priority': '1\\n',\n",
       " 'product': '37\\n',\n",
       " 'resolution': 'FIXED',\n",
       " 'textual_token': array([  101,  1031, 17350,  2487,  2100,  1033,  3314,  2007,  1031,\n",
       "        17917,  5856, 26860,  1033,  1011,  7692,  4130,  7661,  3200,\n",
       "         3559,   102,   101,  3463,  1997, 23661,  3231,  1010,  3332,\n",
       "         2007,  2516,  1000, 17917,  5856, 26860,  1031, 17917,  5856,\n",
       "        26860,  1033,  1011,   102]),\n",
       " 'title': '[CLS] [ a1 ##1 ##y ] issues with [ sv ##gi ##mage ] - resource path custom property editor [SEP]',\n",
       " 'title_segment': [0,\n",
       "  0,\n",
       "  0,\n",
       "  0,\n",
       "  0,\n",
       "  0,\n",
       "  0,\n",
       "  0,\n",
       "  0,\n",
       "  0,\n",
       "  0,\n",
       "  0,\n",
       "  0,\n",
       "  0,\n",
       "  0,\n",
       "  0,\n",
       "  0,\n",
       "  0,\n",
       "  0,\n",
       "  0,\n",
       "  0,\n",
       "  0,\n",
       "  0,\n",
       "  0,\n",
       "  0,\n",
       "  0,\n",
       "  0,\n",
       "  0,\n",
       "  0,\n",
       "  0,\n",
       "  0,\n",
       "  0,\n",
       "  0,\n",
       "  0,\n",
       "  0,\n",
       "  0,\n",
       "  0,\n",
       "  0,\n",
       "  0,\n",
       "  0,\n",
       "  0,\n",
       "  0,\n",
       "  0,\n",
       "  0,\n",
       "  0,\n",
       "  0,\n",
       "  0,\n",
       "  0,\n",
       "  0,\n",
       "  0],\n",
       " 'title_token': array([  101,  1031, 17350,  2487,  2100,  1033,  3314,  2007,  1031,\n",
       "        17917,  5856, 26860,  1033,  1011,  7692,  4130,  7661,  3200,\n",
       "         3559,   102]),\n",
       " 'version': '17\\n'}"
      ]
     },
     "execution_count": 18,
     "metadata": {},
     "output_type": "execute_result"
    }
   ],
   "source": [
    "idx = np.random.choice(baseline.bug_ids, 1)[0]\n",
    "baseline.bug_set[idx]"
   ]
  },
  {
   "cell_type": "markdown",
   "metadata": {},
   "source": [
    "### Generating the batch test"
   ]
  },
  {
   "cell_type": "code",
   "execution_count": 19,
   "metadata": {},
   "outputs": [
    {
     "data": {
      "text/plain": [
       "('Train ', 34596)"
      ]
     },
     "execution_count": 19,
     "metadata": {},
     "output_type": "execute_result"
    }
   ],
   "source": [
    "\"Train \", len(baseline.dup_sets_train)"
   ]
  },
  {
   "cell_type": "code",
   "execution_count": 20,
   "metadata": {},
   "outputs": [
    {
     "data": {
      "text/plain": [
       "8836"
      ]
     },
     "execution_count": 20,
     "metadata": {},
     "output_type": "execute_result"
    }
   ],
   "source": [
    "import random\n",
    "random.choice(list(issues_by_buckets))"
   ]
  },
  {
   "cell_type": "code",
   "execution_count": 21,
   "metadata": {},
   "outputs": [
    {
     "data": {
      "text/plain": [
       "True"
      ]
     },
     "execution_count": 21,
     "metadata": {},
     "output_type": "execute_result"
    }
   ],
   "source": [
    "110647 in experiment.baseline.bug_set"
   ]
  },
  {
   "cell_type": "code",
   "execution_count": 22,
   "metadata": {
    "colab": {
     "base_uri": "https://localhost:8080/",
     "height": 51
    },
    "colab_type": "code",
    "id": "PA5CIhgz7odW",
    "outputId": "ae98fdec-1d54-4b1f-ee0e-4c5633802a18",
    "scrolled": true
   },
   "outputs": [
    {
     "name": "stdout",
     "output_type": "stream",
     "text": [
      "CPU times: user 774 ms, sys: 0 ns, total: 774 ms\n",
      "Wall time: 774 ms\n"
     ]
    }
   ],
   "source": [
    "%%time\n",
    "\n",
    "batch_size = 64\n",
    "batch_size_test = 128\n",
    "\n",
    "# we want a constant validation group to have a frame of reference for model performance\n",
    "batch_triplets_valid, valid_input_sample, valid_input_pos, valid_input_neg, valid_sim = experiment.batch_iterator(None, \n",
    "                                                                                          baseline.train_data, \n",
    "                                                                                          baseline.dup_sets_train,\n",
    "                                                                                          bug_train_ids,\n",
    "                                                                                          batch_size_test, 1,\n",
    "                                                                                          issues_by_buckets)\n",
    "\n",
    "pos = np.full((1, batch_size_test), 1)\n",
    "neg = np.full((1, batch_size_test), 0)\n",
    "valid_sim = np.concatenate([pos, neg], -1)[0]\n",
    "\n",
    "valid_title_sample_a = np.concatenate([valid_input_sample['title'], valid_input_sample['title']], 0)\n",
    "valid_title_sample_b = np.concatenate([valid_input_pos['title'], valid_input_neg['title']], 0)\n",
    "valid_desc_sample_a = np.concatenate([valid_input_sample['description'], valid_input_sample['description']], 0)\n",
    "valid_desc_sample_b = np.concatenate([valid_input_pos['description'], valid_input_neg['description']], 0)\n",
    "\n",
    "validation_sample = [valid_title_sample_a, valid_title_sample_b, valid_desc_sample_a, valid_desc_sample_b]\n",
    "\n",
    "# Max sequence title\n",
    "MAX_SEQUENCE_LENGTH_T = valid_input_sample['title'].shape[1]\n",
    "MAX_SEQUENCE_LENGTH_D = valid_input_sample['description'].shape[1]"
   ]
  },
  {
   "cell_type": "code",
   "execution_count": 23,
   "metadata": {},
   "outputs": [
    {
     "data": {
      "text/plain": [
       "(256, 256)"
      ]
     },
     "execution_count": 23,
     "metadata": {},
     "output_type": "execute_result"
    }
   ],
   "source": [
    "len(valid_title_sample_a), len(valid_sim)"
   ]
  },
  {
   "cell_type": "code",
   "execution_count": 24,
   "metadata": {},
   "outputs": [
    {
     "data": {
      "text/plain": [
       "((128, 20), (128, 20), (256,))"
      ]
     },
     "execution_count": 24,
     "metadata": {},
     "output_type": "execute_result"
    }
   ],
   "source": [
    "valid_input_sample['title'].shape, valid_input_sample['description'].shape, valid_sim.shape"
   ]
  },
  {
   "cell_type": "markdown",
   "metadata": {
    "colab_type": "text",
    "id": "24mY22BGnkqp"
   },
   "source": [
    "### Validar entrada"
   ]
  },
  {
   "cell_type": "code",
   "execution_count": 25,
   "metadata": {
    "colab": {
     "base_uri": "https://localhost:8080/",
     "height": 796
    },
    "colab_type": "code",
    "id": "OhTbr3a5nmrh",
    "outputId": "a2d73e0f-e9ce-4d12-a5c8-f0008d2402d0",
    "scrolled": true
   },
   "outputs": [],
   "source": [
    "# %%time \n",
    "\n",
    "#baseline.display_batch(baseline.train_data, baseline.dup_sets_train, bug_train_ids, 5)"
   ]
  },
  {
   "cell_type": "markdown",
   "metadata": {
    "colab_type": "text",
    "id": "XPrsLs4Kg4Pa"
   },
   "source": [
    "## Pre-trained embeddings\n",
    "\n",
    "Loading pretrained word vectors"
   ]
  },
  {
   "cell_type": "markdown",
   "metadata": {
    "colab_type": "text",
    "id": "6p9eE5TWoH7p"
   },
   "source": [
    "### Fasttext"
   ]
  },
  {
   "cell_type": "code",
   "execution_count": 26,
   "metadata": {},
   "outputs": [
    {
     "name": "stdout",
     "output_type": "stream",
     "text": [
      "vocabulary loaded\n"
     ]
    }
   ],
   "source": [
    "vocab = baseline.load_vocabulary(os.path.join(DIR, 'vocab_embed.pkl'))\n",
    "#print(np.random.choice(vocab, 10))\n",
    "# for token in vocab:\n",
    "#     print(token)"
   ]
  },
  {
   "cell_type": "code",
   "execution_count": 27,
   "metadata": {},
   "outputs": [
    {
     "data": {
      "text/plain": [
       "'Total vocabulary: 19061'"
      ]
     },
     "execution_count": 27,
     "metadata": {},
     "output_type": "execute_result"
    }
   ],
   "source": [
    "\"Total vocabulary: {}\".format(len(vocab))"
   ]
  },
  {
   "cell_type": "code",
   "execution_count": 28,
   "metadata": {},
   "outputs": [],
   "source": [
    "def generating_embed(baseline, GLOVE_DIR, EMBEDDING_DIM):\n",
    "    embeddings_index = {}\n",
    "    embed_path = os.path.join(GLOVE_DIR, 'glove.42B.300d.txt')\n",
    "    \n",
    "    f2 = open(embed_path, 'rb')\n",
    "    num_lines = sum(1 for line in f2)\n",
    "    f2.close()\n",
    "    \n",
    "    f = open(embed_path, 'rb')\n",
    "    vocab = baseline.load_vocabulary(os.path.join(baseline.DIR, 'vocab_embed.pkl'))\n",
    "    vocab_size = len(vocab) \n",
    "\n",
    "    # Initialize uniform the vector considering the Tanh activation\n",
    "    embedding_matrix = np.random.uniform(-1.0, 1.0, (num_lines + vocab_size, EMBEDDING_DIM))\n",
    "    embedding_matrix[0, :] = np.zeros(EMBEDDING_DIM)\n",
    "\n",
    "    loop = tqdm(f)\n",
    "    loop.set_description(\"Loading Glove\")\n",
    "    i = 0\n",
    "    for line in loop:\n",
    "        tokens = line.split()\n",
    "        word = tokens[0]\n",
    "        embed = np.asarray(tokens[1:], dtype='float32')\n",
    "        embeddings_index[word] = embed\n",
    "        embedding_matrix[i] = embed\n",
    "        loop.update(1)\n",
    "        i+=1\n",
    "    f.close()\n",
    "    loop.close()\n",
    "\n",
    "    print('Total %s word vectors in Glove 42B 300d.' % len(embeddings_index))\n",
    "\n",
    "    loop = tqdm(total=vocab_size)\n",
    "    loop.set_description('Loading embedding from dataset pretrained')\n",
    "    \n",
    "    for word, embed in vocab.items():\n",
    "        if word in embeddings_index:\n",
    "            embedding_matrix[i] = embeddings_index[word]\n",
    "        else:\n",
    "            embedding_matrix[i] = np.asarray(embed, dtype='float32')\n",
    "        loop.update(1)\n",
    "        i+=1\n",
    "    loop.close()\n",
    "    baseline.embedding_matrix = embedding_matrix"
   ]
  },
  {
   "cell_type": "code",
   "execution_count": 29,
   "metadata": {
    "colab": {
     "base_uri": "https://localhost:8080/",
     "height": 85
    },
    "colab_type": "code",
    "id": "QY-ef3OGoIiq",
    "outputId": "55f4c93c-98bb-4bac-92f2-76bd3b777605"
   },
   "outputs": [
    {
     "name": "stdout",
     "output_type": "stream",
     "text": [
      "vocabulary loaded\n"
     ]
    },
    {
     "data": {
      "application/vnd.jupyter.widget-view+json": {
       "model_id": "cc9e84bdd06543bfbc2d7251e46d74b7",
       "version_major": 2,
       "version_minor": 0
      },
      "text/plain": [
       "HBox(children=(IntProgress(value=1, bar_style='info', max=1), HTML(value='')))"
      ]
     },
     "metadata": {},
     "output_type": "display_data"
    },
    {
     "name": "stdout",
     "output_type": "stream",
     "text": [
      "\n",
      "Total 1917494 word vectors in Glove 42B 300d.\n"
     ]
    },
    {
     "data": {
      "application/vnd.jupyter.widget-view+json": {
       "model_id": "d8071be2038f45bbb2d86d4e7fb1dc28",
       "version_major": 2,
       "version_minor": 0
      },
      "text/plain": [
       "HBox(children=(IntProgress(value=0, max=19061), HTML(value='')))"
      ]
     },
     "metadata": {},
     "output_type": "display_data"
    },
    {
     "name": "stdout",
     "output_type": "stream",
     "text": [
      "\n",
      "CPU times: user 1min 32s, sys: 3.04 s, total: 1min 35s\n",
      "Wall time: 1min 35s\n"
     ]
    }
   ],
   "source": [
    "%%time\n",
    "\n",
    "generating_embed(baseline, GLOVE_DIR=GLOVE_DIR, EMBEDDING_DIM=EMBEDDING_DIM) # MAX_NB_WORDS=MAX_NB_WORDS"
   ]
  },
  {
   "cell_type": "markdown",
   "metadata": {},
   "source": [
    "## Experiment"
   ]
  },
  {
   "cell_type": "markdown",
   "metadata": {
    "colab_type": "text",
    "id": "Lev5Y7oaFQBd"
   },
   "source": [
    "## Propose\n",
    "\n",
    "https://github.com/tqtg/DuplicateBugFinder"
   ]
  },
  {
   "cell_type": "code",
   "execution_count": 30,
   "metadata": {},
   "outputs": [],
   "source": [
    "from keras.initializers import RandomUniform, RandomNormal, Ones"
   ]
  },
  {
   "cell_type": "markdown",
   "metadata": {},
   "source": [
    "### Embedding layer"
   ]
  },
  {
   "cell_type": "code",
   "execution_count": 31,
   "metadata": {},
   "outputs": [],
   "source": [
    "from keras.constraints import MaxNorm\n",
    "from keras.initializers import TruncatedNormal, RandomUniform\n",
    "\n",
    "# Is missing the padding_idx used in pytorch\n",
    "# https://pytorch.org/docs/stable/_modules/torch/nn/modules/sparse.html\n",
    "# https://stackoverflow.com/questions/54824768/rnn-model-gru-of-word2vec-to-regression-not-learning\n",
    "def embedding_layer(embeddings, num_words, embedding_dim, max_sequence_length, trainable, name):\n",
    "    embedding_layer = Embedding(num_words,\n",
    "                                  embedding_dim,\n",
    "                                  name='embedding_layer_{}'.format(name),\n",
    "                                  weights=[embeddings],\n",
    "                                  #input_length=max_sequence_length,\n",
    "                                  input_length=None,\n",
    "                                  trainable=trainable)\n",
    "    return embedding_layer"
   ]
  },
  {
   "cell_type": "markdown",
   "metadata": {
    "colab_type": "text",
    "id": "TEedCg5AaTf2"
   },
   "source": [
    "### DWEN model"
   ]
  },
  {
   "cell_type": "code",
   "execution_count": 32,
   "metadata": {},
   "outputs": [],
   "source": [
    "from keras.layers import concatenate, Add, Lambda, merge, Average, Maximum, Subtract, \\\n",
    "    Average, GlobalAveragePooling1D, BatchNormalization, Activation\n",
    "from keras.optimizers import Adam, Nadam\n",
    "import keras.backend as K\n",
    "\n",
    "def dwen_feature(title_feature_model, desc_feature_model, \\\n",
    "                  sequence_length_t, sequence_length_d, name):\n",
    "    bug_t = Input(shape = (sequence_length_t, ), name = 'title_{}'.format(name))\n",
    "    bug_d = Input(shape = (sequence_length_d, ), name = 'desc_{}'.format(name))\n",
    "    \n",
    "    # Embedding feature\n",
    "    bug_t_feat = title_feature_model(bug_t)\n",
    "    bug_d_feat = desc_feature_model(bug_d)\n",
    "    \n",
    "    bug_t_feat = GlobalAveragePooling1D()(bug_t_feat)\n",
    "    bug_d_feat = GlobalAveragePooling1D()(bug_d_feat)\n",
    "    \n",
    "    #bug_feature_output = Add(name = 'merge_features_{}'.format(name))([bug_i_feat, bug_t_feat, bug_d_feat])\n",
    "    bug_feature_output = Average(name = 'merge_features_{}'.format(name))([bug_t_feat, bug_d_feat])\n",
    "    \n",
    "    bug_feature_model = Model(inputs=[bug_t, bug_d], outputs=[bug_feature_output], name = 'merge_features_{}'.format(name))\n",
    "    \n",
    "    return bug_feature_model\n",
    "\n",
    "def dwen_model(bug_feature_output_a, bug_feature_output_b, name):\n",
    "    \n",
    "    inputs = np.concatenate([bug_feature_output_a.input, bug_feature_output_b.input], -1).tolist()\n",
    "    \n",
    "    bug_feature_output_a = bug_feature_output_a.output\n",
    "    bug_feature_output_b = bug_feature_output_b.output\n",
    "    \n",
    "    # 2D concatenate feature\n",
    "    bug_feature_output = concatenate([bug_feature_output_a, bug_feature_output_b])\n",
    "    \n",
    "    hidden_layers = 2\n",
    "    \n",
    "    # Deep Hidden MLPs\n",
    "    for _ in range(hidden_layers):\n",
    "        number_of_units = K.int_shape(bug_feature_output)[1]\n",
    "        bug_feature_output = Dense(number_of_units // 2)(bug_feature_output)\n",
    "#         bug_feature_output = BatchNormalization()(bug_feature_output)\n",
    "        bug_feature_output = Activation('relu')(bug_feature_output)\n",
    "        #bug_feature_output = Dropout(.5)(bug_feature_output)\n",
    "    \n",
    "     # Sigmoid\n",
    "    output = Dense(1, activation='sigmoid')(bug_feature_output)\n",
    "\n",
    "    similarity_model = Model(inputs=inputs, outputs=[output], name = 'dwen_output')\n",
    "\n",
    "    #optimizer = Nadam(lr=1e-3, beta_1=0.9, beta_2=0.999, epsilon=K.epsilon(), schedule_decay=0.01)\n",
    "    optimizer = Adam(lr=1e-3, beta_1=0.9, beta_2=0.999, epsilon=None, decay=0.0, amsgrad=True)\n",
    "\n",
    "    # setup the optimization process \n",
    "    similarity_model.compile(optimizer='adam', loss='binary_crossentropy', metrics=['acc'])\n",
    "    \n",
    "    return similarity_model"
   ]
  },
  {
   "cell_type": "code",
   "execution_count": 33,
   "metadata": {},
   "outputs": [],
   "source": [
    "import _pickle as pickle\n",
    "def save_loss(result):\n",
    "    with open(os.path.join(DIR,'{}_log.pkl'.format(METHOD)), 'wb') as f:\n",
    "        pickle.dump(result, f)\n",
    "    print(\"=> result saved!\")"
   ]
  },
  {
   "cell_type": "code",
   "execution_count": 34,
   "metadata": {},
   "outputs": [],
   "source": [
    "# Domain to use\n",
    "limit_train = int(epochs * freeze_train) # 10% de 1000 , 100 epocas\n",
    "METHOD = 'baseline_dwen_{}'.format(limit_train)\n",
    "SAVE_PATH = '{}_preprocessing_{}_feature@number_of_epochs@epochs_64batch({})'.format(PREPROCESSING, METHOD, DOMAIN)\n",
    "SAVE_PATH_FEATURE = '{}_preprocessing_{}_feature_@number_of_epochs@epochs_64batch({})'.format(PREPROCESSING, METHOD, DOMAIN)"
   ]
  },
  {
   "cell_type": "code",
   "execution_count": 35,
   "metadata": {
    "scrolled": true
   },
   "outputs": [
    {
     "name": "stdout",
     "output_type": "stream",
     "text": [
      "WARNING:tensorflow:From /usr/local/lib/python3.5/dist-packages/keras/backend/tensorflow_backend.py:95: The name tf.reset_default_graph is deprecated. Please use tf.compat.v1.reset_default_graph instead.\n",
      "\n",
      "WARNING:tensorflow:From /usr/local/lib/python3.5/dist-packages/keras/backend/tensorflow_backend.py:98: The name tf.placeholder_with_default is deprecated. Please use tf.compat.v1.placeholder_with_default instead.\n",
      "\n",
      "WARNING:tensorflow:From /usr/local/lib/python3.5/dist-packages/keras/backend/tensorflow_backend.py:102: The name tf.get_default_graph is deprecated. Please use tf.compat.v1.get_default_graph instead.\n",
      "\n",
      "WARNING:tensorflow:From /usr/local/lib/python3.5/dist-packages/keras/backend/tensorflow_backend.py:517: The name tf.placeholder is deprecated. Please use tf.compat.v1.placeholder instead.\n",
      "\n",
      "WARNING:tensorflow:From /usr/local/lib/python3.5/dist-packages/keras/backend/tensorflow_backend.py:4138: The name tf.random_uniform is deprecated. Please use tf.random.uniform instead.\n",
      "\n",
      "WARNING:tensorflow:From /usr/local/lib/python3.5/dist-packages/keras/backend/tensorflow_backend.py:174: The name tf.get_default_session is deprecated. Please use tf.compat.v1.get_default_session instead.\n",
      "\n",
      "WARNING:tensorflow:From /usr/local/lib/python3.5/dist-packages/keras/backend/tensorflow_backend.py:181: The name tf.ConfigProto is deprecated. Please use tf.compat.v1.ConfigProto instead.\n",
      "\n",
      "WARNING:tensorflow:From /usr/local/lib/python3.5/dist-packages/keras/backend/tensorflow_backend.py:186: The name tf.Session is deprecated. Please use tf.compat.v1.Session instead.\n",
      "\n",
      "WARNING:tensorflow:From /usr/local/lib/python3.5/dist-packages/keras/backend/tensorflow_backend.py:190: The name tf.global_variables is deprecated. Please use tf.compat.v1.global_variables instead.\n",
      "\n",
      "WARNING:tensorflow:From /usr/local/lib/python3.5/dist-packages/keras/backend/tensorflow_backend.py:199: The name tf.is_variable_initialized is deprecated. Please use tf.compat.v1.is_variable_initialized instead.\n",
      "\n",
      "WARNING:tensorflow:From /usr/local/lib/python3.5/dist-packages/keras/backend/tensorflow_backend.py:206: The name tf.variables_initializer is deprecated. Please use tf.compat.v1.variables_initializer instead.\n",
      "\n",
      "WARNING:tensorflow:From /usr/local/lib/python3.5/dist-packages/keras/optimizers.py:790: The name tf.train.Optimizer is deprecated. Please use tf.compat.v1.train.Optimizer instead.\n",
      "\n",
      "WARNING:tensorflow:From /usr/local/lib/python3.5/dist-packages/keras/backend/tensorflow_backend.py:3376: The name tf.log is deprecated. Please use tf.math.log instead.\n",
      "\n",
      "WARNING:tensorflow:From /usr/local/lib/python3.5/dist-packages/tensorflow_core/python/ops/nn_impl.py:183: where (from tensorflow.python.ops.array_ops) is deprecated and will be removed in a future version.\n",
      "Instructions for updating:\n",
      "Use tf.where in 2.0, which has the same broadcast rule as np.where\n",
      "__________________________________________________________________________________________________\n",
      "Layer (type)                    Output Shape         Param #     Connected to                     \n",
      "==================================================================================================\n",
      "title_dwen_a (InputLayer)       (None, 20)           0                                            \n",
      "__________________________________________________________________________________________________\n",
      "desc_dwen_a (InputLayer)        (None, 20)           0                                            \n",
      "__________________________________________________________________________________________________\n",
      "title_dwen_b (InputLayer)       (None, 20)           0                                            \n",
      "__________________________________________________________________________________________________\n",
      "desc_dwen_b (InputLayer)        (None, 20)           0                                            \n",
      "__________________________________________________________________________________________________\n",
      "embedding_layer_title (Embeddin (None, 20, 300)      580966500   title_dwen_a[0][0]               \n",
      "                                                                 title_dwen_b[0][0]               \n",
      "__________________________________________________________________________________________________\n",
      "embedding_layer_desc (Embedding (None, 20, 300)      580966500   desc_dwen_a[0][0]                \n",
      "                                                                 desc_dwen_b[0][0]                \n",
      "__________________________________________________________________________________________________\n",
      "global_average_pooling1d_1 (Glo (None, 300)          0           embedding_layer_title[0][0]      \n",
      "__________________________________________________________________________________________________\n",
      "global_average_pooling1d_2 (Glo (None, 300)          0           embedding_layer_desc[0][0]       \n",
      "__________________________________________________________________________________________________\n",
      "global_average_pooling1d_3 (Glo (None, 300)          0           embedding_layer_title[1][0]      \n",
      "__________________________________________________________________________________________________\n",
      "global_average_pooling1d_4 (Glo (None, 300)          0           embedding_layer_desc[1][0]       \n",
      "__________________________________________________________________________________________________\n",
      "merge_features_dwen_a (Average) (None, 300)          0           global_average_pooling1d_1[0][0] \n",
      "                                                                 global_average_pooling1d_2[0][0] \n",
      "__________________________________________________________________________________________________\n",
      "merge_features_dwen_b (Average) (None, 300)          0           global_average_pooling1d_3[0][0] \n",
      "                                                                 global_average_pooling1d_4[0][0] \n",
      "__________________________________________________________________________________________________\n",
      "concatenate_1 (Concatenate)     (None, 600)          0           merge_features_dwen_a[0][0]      \n",
      "                                                                 merge_features_dwen_b[0][0]      \n",
      "__________________________________________________________________________________________________\n",
      "dense_1 (Dense)                 (None, 300)          180300      concatenate_1[0][0]              \n",
      "__________________________________________________________________________________________________\n",
      "activation_1 (Activation)       (None, 300)          0           dense_1[0][0]                    \n",
      "__________________________________________________________________________________________________\n",
      "dense_2 (Dense)                 (None, 150)          45150       activation_1[0][0]               \n",
      "__________________________________________________________________________________________________\n",
      "activation_2 (Activation)       (None, 150)          0           dense_2[0][0]                    \n",
      "__________________________________________________________________________________________________\n",
      "dense_3 (Dense)                 (None, 1)            151         activation_2[0][0]               \n",
      "==================================================================================================\n",
      "Total params: 1,162,158,601\n",
      "Trainable params: 225,601\n",
      "Non-trainable params: 1,161,933,000\n",
      "__________________________________________________________________________________________________\n",
      "Total of  100\n",
      "WARNING:tensorflow:From /usr/local/lib/python3.5/dist-packages/keras/backend/tensorflow_backend.py:986: The name tf.assign_add is deprecated. Please use tf.compat.v1.assign_add instead.\n",
      "\n",
      "WARNING:tensorflow:From /usr/local/lib/python3.5/dist-packages/keras/backend/tensorflow_backend.py:973: The name tf.assign is deprecated. Please use tf.compat.v1.assign instead.\n",
      "\n",
      "Epoch: 1 Loss: 0.71, Loss_test: 0.70, acc: 0.50, acc_test: 0.50\n",
      "Epoch: 2 Loss: 0.70, Loss_test: 0.70, acc: 0.49, acc_test: 0.50\n",
      "Epoch: 3 Loss: 0.70, Loss_test: 0.69, acc: 0.50, acc_test: 0.50\n",
      "Epoch: 4 Loss: 0.69, Loss_test: 0.69, acc: 0.54, acc_test: 0.56\n",
      "Epoch: 5 Loss: 0.68, Loss_test: 0.69, acc: 0.59, acc_test: 0.50\n",
      "Epoch: 6 Loss: 0.69, Loss_test: 0.70, acc: 0.45, acc_test: 0.50\n",
      "Epoch: 7 Loss: 0.69, Loss_test: 0.70, acc: 0.52, acc_test: 0.50\n"
     ]
    },
    {
     "name": "stdout",
     "output_type": "stream",
     "text": [
      "Epoch: 8 Loss: 0.67, Loss_test: 0.69, acc: 0.50, acc_test: 0.50\n",
      "Epoch: 9 Loss: 0.68, Loss_test: 0.69, acc: 0.59, acc_test: 0.51\n",
      "=> result saved!\n",
      "Epoch: 10 Loss: 0.69, Loss_test: 0.68, acc: 0.48, acc_test: 0.51\n",
      "Epoch: 11 Loss: 0.67, Loss_test: 0.68, acc: 0.65, acc_test: 0.56\n",
      "Epoch: 12 Loss: 0.67, Loss_test: 0.68, acc: 0.55, acc_test: 0.57\n",
      "Epoch: 13 Loss: 0.67, Loss_test: 0.68, acc: 0.56, acc_test: 0.55\n",
      "Epoch: 14 Loss: 0.66, Loss_test: 0.68, acc: 0.61, acc_test: 0.52\n",
      "Epoch: 15 Loss: 0.67, Loss_test: 0.68, acc: 0.60, acc_test: 0.50\n",
      "Epoch: 16 Loss: 0.65, Loss_test: 0.68, acc: 0.64, acc_test: 0.50\n",
      "Epoch: 17 Loss: 0.67, Loss_test: 0.68, acc: 0.55, acc_test: 0.50\n",
      "Epoch: 18 Loss: 0.66, Loss_test: 0.68, acc: 0.57, acc_test: 0.49\n",
      "Epoch: 19 Loss: 0.64, Loss_test: 0.67, acc: 0.68, acc_test: 0.57\n",
      "=> result saved!\n",
      "Epoch: 20 Loss: 0.64, Loss_test: 0.67, acc: 0.73, acc_test: 0.60\n",
      "Epoch: 21 Loss: 0.62, Loss_test: 0.66, acc: 0.70, acc_test: 0.59\n",
      "Epoch: 22 Loss: 0.65, Loss_test: 0.66, acc: 0.63, acc_test: 0.59\n",
      "Epoch: 23 Loss: 0.65, Loss_test: 0.66, acc: 0.59, acc_test: 0.59\n",
      "Epoch: 24 Loss: 0.63, Loss_test: 0.66, acc: 0.70, acc_test: 0.61\n",
      "Epoch: 25 Loss: 0.63, Loss_test: 0.66, acc: 0.67, acc_test: 0.59\n",
      "Epoch: 26 Loss: 0.66, Loss_test: 0.66, acc: 0.61, acc_test: 0.60\n",
      "Epoch: 27 Loss: 0.64, Loss_test: 0.66, acc: 0.60, acc_test: 0.59\n",
      "Epoch: 28 Loss: 0.60, Loss_test: 0.66, acc: 0.64, acc_test: 0.59\n",
      "Epoch: 29 Loss: 0.61, Loss_test: 0.66, acc: 0.66, acc_test: 0.58\n",
      "=> result saved!\n",
      "Epoch: 30 Loss: 0.64, Loss_test: 0.66, acc: 0.59, acc_test: 0.58\n",
      "Epoch: 31 Loss: 0.58, Loss_test: 0.66, acc: 0.70, acc_test: 0.57\n",
      "Epoch: 32 Loss: 0.62, Loss_test: 0.66, acc: 0.62, acc_test: 0.59\n",
      "Epoch: 33 Loss: 0.59, Loss_test: 0.66, acc: 0.68, acc_test: 0.59\n",
      "Epoch: 34 Loss: 0.63, Loss_test: 0.66, acc: 0.62, acc_test: 0.59\n",
      "Epoch: 35 Loss: 0.58, Loss_test: 0.66, acc: 0.69, acc_test: 0.59\n",
      "Epoch: 36 Loss: 0.61, Loss_test: 0.67, acc: 0.66, acc_test: 0.59\n",
      "Epoch: 37 Loss: 0.54, Loss_test: 0.67, acc: 0.77, acc_test: 0.59\n",
      "Epoch: 38 Loss: 0.64, Loss_test: 0.67, acc: 0.62, acc_test: 0.59\n",
      "Epoch: 39 Loss: 0.59, Loss_test: 0.67, acc: 0.66, acc_test: 0.58\n",
      "=> result saved!\n",
      "Epoch: 40 Loss: 0.53, Loss_test: 0.66, acc: 0.75, acc_test: 0.57\n",
      "Epoch: 41 Loss: 0.58, Loss_test: 0.67, acc: 0.71, acc_test: 0.58\n",
      "Epoch: 42 Loss: 0.59, Loss_test: 0.67, acc: 0.66, acc_test: 0.59\n",
      "Epoch: 43 Loss: 0.50, Loss_test: 0.68, acc: 0.77, acc_test: 0.59\n",
      "Epoch: 44 Loss: 0.54, Loss_test: 0.67, acc: 0.74, acc_test: 0.59\n",
      "Epoch: 45 Loss: 0.57, Loss_test: 0.68, acc: 0.69, acc_test: 0.57\n",
      "Epoch: 46 Loss: 0.58, Loss_test: 0.70, acc: 0.70, acc_test: 0.56\n",
      "Epoch: 47 Loss: 0.60, Loss_test: 0.68, acc: 0.60, acc_test: 0.57\n",
      "Epoch: 48 Loss: 0.56, Loss_test: 0.67, acc: 0.69, acc_test: 0.57\n",
      "Epoch: 49 Loss: 0.63, Loss_test: 0.68, acc: 0.60, acc_test: 0.58\n",
      "=> result saved!\n",
      "Epoch: 50 Loss: 0.67, Loss_test: 0.68, acc: 0.60, acc_test: 0.60\n",
      "Epoch: 51 Loss: 0.53, Loss_test: 0.68, acc: 0.77, acc_test: 0.59\n",
      "Epoch: 52 Loss: 0.56, Loss_test: 0.70, acc: 0.72, acc_test: 0.56\n",
      "Epoch: 53 Loss: 0.49, Loss_test: 0.73, acc: 0.77, acc_test: 0.55\n",
      "Epoch: 54 Loss: 0.60, Loss_test: 0.75, acc: 0.68, acc_test: 0.55\n",
      "Epoch: 55 Loss: 0.59, Loss_test: 0.74, acc: 0.70, acc_test: 0.57\n",
      "Epoch: 56 Loss: 0.59, Loss_test: 0.73, acc: 0.72, acc_test: 0.56\n",
      "Epoch: 57 Loss: 0.61, Loss_test: 0.70, acc: 0.63, acc_test: 0.58\n",
      "Epoch: 58 Loss: 0.57, Loss_test: 0.68, acc: 0.73, acc_test: 0.58\n",
      "Epoch: 59 Loss: 0.55, Loss_test: 0.68, acc: 0.73, acc_test: 0.60\n",
      "=> result saved!\n",
      "Epoch: 60 Loss: 0.56, Loss_test: 0.67, acc: 0.71, acc_test: 0.61\n",
      "Epoch: 61 Loss: 0.53, Loss_test: 0.66, acc: 0.70, acc_test: 0.60\n",
      "Epoch: 62 Loss: 0.50, Loss_test: 0.66, acc: 0.76, acc_test: 0.60\n",
      "Epoch: 63 Loss: 0.57, Loss_test: 0.69, acc: 0.64, acc_test: 0.57\n",
      "Epoch: 64 Loss: 0.62, Loss_test: 0.71, acc: 0.67, acc_test: 0.52\n",
      "Epoch: 65 Loss: 0.58, Loss_test: 0.69, acc: 0.66, acc_test: 0.55\n",
      "Epoch: 66 Loss: 0.58, Loss_test: 0.66, acc: 0.65, acc_test: 0.60\n",
      "Epoch: 67 Loss: 0.63, Loss_test: 0.66, acc: 0.62, acc_test: 0.62\n",
      "Epoch: 68 Loss: 0.55, Loss_test: 0.66, acc: 0.76, acc_test: 0.61\n",
      "Epoch: 69 Loss: 0.54, Loss_test: 0.65, acc: 0.70, acc_test: 0.57\n",
      "=> result saved!\n",
      "Epoch: 70 Loss: 0.50, Loss_test: 0.66, acc: 0.76, acc_test: 0.59\n",
      "Epoch: 71 Loss: 0.58, Loss_test: 0.66, acc: 0.70, acc_test: 0.60\n",
      "Epoch: 72 Loss: 0.55, Loss_test: 0.68, acc: 0.73, acc_test: 0.60\n",
      "Epoch: 73 Loss: 0.55, Loss_test: 0.68, acc: 0.74, acc_test: 0.61\n",
      "Epoch: 74 Loss: 0.65, Loss_test: 0.68, acc: 0.57, acc_test: 0.60\n",
      "Epoch: 75 Loss: 0.59, Loss_test: 0.67, acc: 0.61, acc_test: 0.61\n",
      "Epoch: 76 Loss: 0.63, Loss_test: 0.68, acc: 0.67, acc_test: 0.60\n",
      "Epoch: 77 Loss: 0.53, Loss_test: 0.69, acc: 0.70, acc_test: 0.61\n",
      "Epoch: 78 Loss: 0.53, Loss_test: 0.71, acc: 0.72, acc_test: 0.61\n",
      "Epoch: 79 Loss: 0.54, Loss_test: 0.70, acc: 0.73, acc_test: 0.61\n",
      "=> result saved!\n",
      "Epoch: 80 Loss: 0.52, Loss_test: 0.68, acc: 0.76, acc_test: 0.61\n",
      "Epoch: 81 Loss: 0.53, Loss_test: 0.66, acc: 0.75, acc_test: 0.61\n",
      "Epoch: 82 Loss: 0.49, Loss_test: 0.65, acc: 0.76, acc_test: 0.60\n",
      "Epoch: 83 Loss: 0.54, Loss_test: 0.65, acc: 0.73, acc_test: 0.62\n",
      "Epoch: 84 Loss: 0.53, Loss_test: 0.65, acc: 0.73, acc_test: 0.62\n",
      "Epoch: 85 Loss: 0.59, Loss_test: 0.65, acc: 0.64, acc_test: 0.61\n",
      "Epoch: 86 Loss: 0.61, Loss_test: 0.66, acc: 0.70, acc_test: 0.61\n",
      "Epoch: 87 Loss: 0.53, Loss_test: 0.66, acc: 0.76, acc_test: 0.62\n",
      "Epoch: 88 Loss: 0.56, Loss_test: 0.65, acc: 0.70, acc_test: 0.61\n",
      "Epoch: 89 Loss: 0.55, Loss_test: 0.66, acc: 0.70, acc_test: 0.61\n",
      "=> result saved!\n",
      "Epoch: 90 Loss: 0.55, Loss_test: 0.67, acc: 0.73, acc_test: 0.61\n",
      "Epoch: 91 Loss: 0.51, Loss_test: 0.69, acc: 0.71, acc_test: 0.61\n",
      "Epoch: 92 Loss: 0.53, Loss_test: 0.73, acc: 0.73, acc_test: 0.62\n",
      "Epoch: 93 Loss: 0.58, Loss_test: 0.70, acc: 0.62, acc_test: 0.62\n",
      "Epoch: 94 Loss: 0.52, Loss_test: 0.66, acc: 0.74, acc_test: 0.61\n",
      "Epoch: 95 Loss: 0.53, Loss_test: 0.66, acc: 0.72, acc_test: 0.61\n",
      "Epoch: 96 Loss: 0.55, Loss_test: 0.66, acc: 0.70, acc_test: 0.62\n",
      "Epoch: 97 Loss: 0.53, Loss_test: 0.67, acc: 0.72, acc_test: 0.62\n",
      "Epoch: 98 Loss: 0.51, Loss_test: 0.66, acc: 0.75, acc_test: 0.62\n",
      "Epoch: 99 Loss: 0.51, Loss_test: 0.64, acc: 0.69, acc_test: 0.62\n",
      "=> result saved!\n",
      "Epoch: 100 Loss: 0.45, Loss_test: 0.64, acc: 0.78, acc_tets: 0.61, recall@25: 0.23\n",
      "Best_epoch=100, Best_loss=0.45, Recall@25=0.23\n",
      "CPU times: user 1min 58s, sys: 6.38 s, total: 2min 5s\n",
      "Wall time: 1min 47s\n"
     ]
    }
   ],
   "source": [
    "%%time\n",
    "\n",
    "# Inspired on https://'pastebin.com/TaGFdcBA\n",
    "# TODO: https://stackoverflow.com/questions/49941903/keras-compute-cosine-distance-between-two-flattened-outputs\n",
    "keras.backend.clear_session()\n",
    "\n",
    "# Clear GPU memory\n",
    "# from numba import cuda\n",
    "# cuda.select_device(0)\n",
    "# cuda.close()\n",
    "\n",
    "# Embeddings\n",
    "desc_embedding_layer = embedding_layer(embeddings=baseline.embedding_matrix, \n",
    "                              num_words=len(baseline.embedding_matrix), \n",
    "                              embedding_dim=EMBEDDING_DIM, \n",
    "                              max_sequence_length=MAX_SEQUENCE_LENGTH_D, \n",
    "                              trainable=False, name='desc')\n",
    "title_embedding_layer = embedding_layer(embeddings=baseline.embedding_matrix, \n",
    "                              num_words=len(baseline.embedding_matrix), \n",
    "                              embedding_dim=EMBEDDING_DIM, \n",
    "                              max_sequence_length=MAX_SEQUENCE_LENGTH_T, \n",
    "                              trainable=False, name='title')\n",
    "\n",
    "# Similarity model\n",
    "bug_feature_output_a = dwen_feature(title_embedding_layer, desc_embedding_layer, \n",
    "                                    MAX_SEQUENCE_LENGTH_T, MAX_SEQUENCE_LENGTH_D, 'dwen_a')\n",
    "bug_feature_output_b = dwen_feature(title_embedding_layer, desc_embedding_layer, \n",
    "                                    MAX_SEQUENCE_LENGTH_T, MAX_SEQUENCE_LENGTH_D, 'dwen_b')\n",
    "similarity_model = dwen_model(bug_feature_output_a, bug_feature_output_b, 'dwen')\n",
    "\n",
    "# cnn_feature_model.summary()\n",
    "# lstm_feature_model.summary()\n",
    "similarity_model.summary()\n",
    "\n",
    "\n",
    "'''\n",
    "    Experiment\n",
    "'''\n",
    "result = { 'train' : [], 'test' : [] }\n",
    "print(\"Total of \", limit_train)\n",
    "for epoch in range(limit_train):\n",
    "    batch_triplet_train, \\\n",
    "        train_input_sample, train_input_pos, train_input_neg, \\\n",
    "            train_sim = experiment.batch_iterator(None, baseline.train_data, baseline.dup_sets_train, \n",
    "                                                  bug_train_ids, batch_size, 1, issues_by_buckets, TRIPLET_HARD=False)\n",
    "    \n",
    "    num_batch = train_input_sample['title'].shape[0]\n",
    "    pos = np.full((1, num_batch), 1)\n",
    "    neg = np.full((1, num_batch), 0)\n",
    "    train_sim = np.concatenate([pos, neg], -1)[0]\n",
    "    \n",
    "    title_sample_a = np.concatenate([train_input_sample['title'], train_input_sample['title']], 0)\n",
    "    title_sample_b = np.concatenate([train_input_pos['title'], train_input_neg['title']], 0)\n",
    "    desc_sample_a = np.concatenate([train_input_sample['description'], train_input_sample['description']], 0)\n",
    "    desc_sample_b = np.concatenate([train_input_pos['description'], train_input_neg['description']], 0)\n",
    "    train_batch = [title_sample_a, desc_sample_a, title_sample_b, desc_sample_b]\n",
    "    \n",
    "    \n",
    "    h = similarity_model.train_on_batch(x=train_batch, y=train_sim)\n",
    "    h_validation = similarity_model.test_on_batch(x=validation_sample, y=valid_sim)\n",
    "    \n",
    "    # save results\n",
    "    result['train'].append(h)\n",
    "    result['test'].append(h_validation)\n",
    "    \n",
    "    if( (epoch+1) % 10 == 0 or (epoch+1 == limit_train) ):\n",
    "        save_loss(result)\n",
    "    \n",
    "    if (epoch+1 == limit_train): #(epoch > 1 and epoch % 10 == 0) or (epoch+1 == epochs):\n",
    "        recall, exported_rank, debug = experiment.evaluate_validation_test(retrieval, verbose, bug_feature_output_a, issues_by_buckets, \n",
    "                                                        bug_train_ids, 'dwen')\n",
    "        print(\"Epoch: {} Loss: {:.2f}, Loss_test: {:.2f}, acc: {:.2f}, acc_tets: {:.2f}, recall@25: {:.2f}\".format(epoch+1, h[0], h_validation[0],  h[1], h_validation[1], recall))\n",
    "    else:\n",
    "        print(\"Epoch: {} Loss: {:.2f}, Loss_test: {:.2f}, acc: {:.2f}, acc_test: {:.2f}\".format(epoch+1, h[0], h_validation[0], h[1], h_validation[1]))\n",
    "    \n",
    "    loss = h[0]\n",
    "    \n",
    "    if loss < best_loss:\n",
    "        best_loss = loss\n",
    "        best_epoch = epoch+1\n",
    "\n",
    "#experiment.save_model(similarity_model, SAVE_PATH.replace('@number_of_epochs@', str(epochs)))\n",
    "#experiment.save_model(bug_feature_output_a, SAVE_PATH_FEATURE.replace('@number_of_epochs@', str(epochs)), verbose=1)\n",
    "print('Best_epoch={}, Best_loss={:.2f}, Recall@25={:.2f}'.format(best_epoch, best_loss, recall))"
   ]
  },
  {
   "cell_type": "code",
   "execution_count": 36,
   "metadata": {},
   "outputs": [
    {
     "data": {
      "text/plain": [
       "'data/processed/netbeans/bert/exported_rank_baseline_dwen_100.txt'"
      ]
     },
     "execution_count": 36,
     "metadata": {},
     "output_type": "execute_result"
    }
   ],
   "source": [
    "EXPORT_RANK_PATH = os.path.join(DIR, 'exported_rank_{}.txt'.format(METHOD))\n",
    "EXPORT_RANK_PATH"
   ]
  },
  {
   "cell_type": "code",
   "execution_count": 37,
   "metadata": {},
   "outputs": [],
   "source": [
    "with open(EXPORT_RANK_PATH, 'w') as file_out:\n",
    "    for row in exported_rank:\n",
    "        file_out.write(row + \"\\n\")"
   ]
  },
  {
   "cell_type": "code",
   "execution_count": 38,
   "metadata": {},
   "outputs": [
    {
     "name": "stdout",
     "output_type": "stream",
     "text": [
      "Saved model 'modelos/model_bert_preprocessing_baseline_dwen_100_feature_100epochs_64batch(netbeans).h5' to disk\n"
     ]
    }
   ],
   "source": [
    "experiment.save_model(similarity_model, SAVE_PATH.replace('@number_of_epochs@', str(limit_train)))\n",
    "experiment.save_model(bug_feature_output_a, SAVE_PATH_FEATURE.replace('@number_of_epochs@', str(limit_train)), verbose=1)"
   ]
  },
  {
   "cell_type": "code",
   "execution_count": 39,
   "metadata": {},
   "outputs": [
    {
     "data": {
      "text/plain": [
       "(100, 100)"
      ]
     },
     "execution_count": 39,
     "metadata": {},
     "output_type": "execute_result"
    }
   ],
   "source": [
    "len(result['train']), len(result['test'])"
   ]
  },
  {
   "cell_type": "code",
   "execution_count": 40,
   "metadata": {},
   "outputs": [
    {
     "name": "stdout",
     "output_type": "stream",
     "text": [
      "__________________________________________________________________________________________________\n",
      "Layer (type)                    Output Shape         Param #     Connected to                     \n",
      "==================================================================================================\n",
      "title_dwen_a (InputLayer)       (None, 20)           0                                            \n",
      "__________________________________________________________________________________________________\n",
      "desc_dwen_a (InputLayer)        (None, 20)           0                                            \n",
      "__________________________________________________________________________________________________\n",
      "title_dwen_b (InputLayer)       (None, 20)           0                                            \n",
      "__________________________________________________________________________________________________\n",
      "desc_dwen_b (InputLayer)        (None, 20)           0                                            \n",
      "__________________________________________________________________________________________________\n",
      "embedding_layer_title (Embeddin (None, 20, 300)      580966500   title_dwen_a[0][0]               \n",
      "                                                                 title_dwen_b[0][0]               \n",
      "__________________________________________________________________________________________________\n",
      "embedding_layer_desc (Embedding (None, 20, 300)      580966500   desc_dwen_a[0][0]                \n",
      "                                                                 desc_dwen_b[0][0]                \n",
      "__________________________________________________________________________________________________\n",
      "global_average_pooling1d_1 (Glo (None, 300)          0           embedding_layer_title[0][0]      \n",
      "__________________________________________________________________________________________________\n",
      "global_average_pooling1d_2 (Glo (None, 300)          0           embedding_layer_desc[0][0]       \n",
      "__________________________________________________________________________________________________\n",
      "global_average_pooling1d_3 (Glo (None, 300)          0           embedding_layer_title[1][0]      \n",
      "__________________________________________________________________________________________________\n",
      "global_average_pooling1d_4 (Glo (None, 300)          0           embedding_layer_desc[1][0]       \n",
      "__________________________________________________________________________________________________\n",
      "merge_features_dwen_a (Average) (None, 300)          0           global_average_pooling1d_1[0][0] \n",
      "                                                                 global_average_pooling1d_2[0][0] \n",
      "__________________________________________________________________________________________________\n",
      "merge_features_dwen_b (Average) (None, 300)          0           global_average_pooling1d_3[0][0] \n",
      "                                                                 global_average_pooling1d_4[0][0] \n",
      "__________________________________________________________________________________________________\n",
      "concatenate_1 (Concatenate)     (None, 600)          0           merge_features_dwen_a[0][0]      \n",
      "                                                                 merge_features_dwen_b[0][0]      \n",
      "__________________________________________________________________________________________________\n",
      "dense_1 (Dense)                 (None, 300)          180300      concatenate_1[0][0]              \n",
      "__________________________________________________________________________________________________\n",
      "activation_1 (Activation)       (None, 300)          0           dense_1[0][0]                    \n",
      "__________________________________________________________________________________________________\n",
      "dense_2 (Dense)                 (None, 150)          45150       activation_1[0][0]               \n",
      "__________________________________________________________________________________________________\n",
      "activation_2 (Activation)       (None, 150)          0           dense_2[0][0]                    \n",
      "__________________________________________________________________________________________________\n",
      "dense_3 (Dense)                 (None, 1)            151         activation_2[0][0]               \n",
      "==================================================================================================\n",
      "Total params: 1,162,158,601\n",
      "Trainable params: 225,601\n",
      "Non-trainable params: 1,161,933,000\n",
      "__________________________________________________________________________________________________\n"
     ]
    }
   ],
   "source": [
    "model = similarity_model.get_layer('dense_3')\n",
    "output = model.output\n",
    "inputs = similarity_model.inputs\n",
    "model = Model(inputs = inputs, outputs = output, name = 'Similarity_Model')\n",
    "\n",
    "# setup the optimization process \n",
    "model.compile(optimizer='adam', loss='binary_crossentropy', metrics=['acc'])\n",
    "model.summary()"
   ]
  },
  {
   "cell_type": "code",
   "execution_count": 41,
   "metadata": {},
   "outputs": [],
   "source": [
    "# Domain to use\n",
    "METHOD = 'baseline_dwen_{}'.format(epochs)\n",
    "SAVE_PATH = '{}_preprocessing_{}_feature@number_of_epochs@epochs_64batch({})'.format(PREPROCESSING, METHOD, DOMAIN)\n",
    "SAVE_PATH_FEATURE = '{}_preprocessing_{}_feature_@number_of_epochs@epochs_64batch({})'.format(PREPROCESSING, METHOD, DOMAIN)"
   ]
  },
  {
   "cell_type": "code",
   "execution_count": 42,
   "metadata": {
    "scrolled": true
   },
   "outputs": [
    {
     "name": "stdout",
     "output_type": "stream",
     "text": [
      "Epoch: 101 Loss: 0.51, Loss_test: 0.64, acc: 0.70, acc_test: 0.62\n",
      "Epoch: 102 Loss: 0.51, Loss_test: 0.64, acc: 0.73, acc_test: 0.62\n",
      "Epoch: 103 Loss: 0.54, Loss_test: 0.64, acc: 0.73, acc_test: 0.63\n",
      "Epoch: 104 Loss: 0.50, Loss_test: 0.65, acc: 0.71, acc_test: 0.63\n",
      "Epoch: 105 Loss: 0.53, Loss_test: 0.65, acc: 0.73, acc_test: 0.63\n",
      "Epoch: 106 Loss: 0.53, Loss_test: 0.65, acc: 0.72, acc_test: 0.62\n",
      "Epoch: 107 Loss: 0.56, Loss_test: 0.65, acc: 0.73, acc_test: 0.63\n",
      "Epoch: 108 Loss: 0.44, Loss_test: 0.66, acc: 0.79, acc_test: 0.62\n",
      "Epoch: 109 Loss: 0.51, Loss_test: 0.67, acc: 0.76, acc_test: 0.62\n",
      "=> result saved!\n",
      "Epoch: 110 Loss: 0.49, Loss_test: 0.71, acc: 0.73, acc_test: 0.61\n",
      "Epoch: 111 Loss: 0.55, Loss_test: 0.73, acc: 0.73, acc_test: 0.62\n",
      "Epoch: 112 Loss: 0.52, Loss_test: 0.69, acc: 0.74, acc_test: 0.62\n",
      "Epoch: 113 Loss: 0.53, Loss_test: 0.67, acc: 0.76, acc_test: 0.62\n",
      "Epoch: 114 Loss: 0.51, Loss_test: 0.66, acc: 0.76, acc_test: 0.62\n",
      "Epoch: 115 Loss: 0.47, Loss_test: 0.66, acc: 0.81, acc_test: 0.62\n",
      "Epoch: 116 Loss: 0.46, Loss_test: 0.66, acc: 0.75, acc_test: 0.62\n",
      "Epoch: 117 Loss: 0.43, Loss_test: 0.67, acc: 0.82, acc_test: 0.65\n",
      "Epoch: 118 Loss: 0.51, Loss_test: 0.66, acc: 0.73, acc_test: 0.63\n",
      "Epoch: 119 Loss: 0.52, Loss_test: 0.65, acc: 0.73, acc_test: 0.62\n",
      "=> result saved!\n",
      "Epoch: 120 Loss: 0.54, Loss_test: 0.65, acc: 0.73, acc_test: 0.62\n",
      "Epoch: 121 Loss: 0.48, Loss_test: 0.64, acc: 0.77, acc_test: 0.62\n",
      "Epoch: 122 Loss: 0.50, Loss_test: 0.65, acc: 0.70, acc_test: 0.62\n",
      "Epoch: 123 Loss: 0.44, Loss_test: 0.65, acc: 0.78, acc_test: 0.62\n",
      "Epoch: 124 Loss: 0.47, Loss_test: 0.65, acc: 0.79, acc_test: 0.63\n",
      "Epoch: 125 Loss: 0.52, Loss_test: 0.64, acc: 0.72, acc_test: 0.62\n",
      "Epoch: 126 Loss: 0.51, Loss_test: 0.64, acc: 0.73, acc_test: 0.62\n",
      "Epoch: 127 Loss: 0.50, Loss_test: 0.65, acc: 0.73, acc_test: 0.62\n",
      "Epoch: 128 Loss: 0.56, Loss_test: 0.67, acc: 0.71, acc_test: 0.62\n",
      "Epoch: 129 Loss: 0.56, Loss_test: 0.69, acc: 0.72, acc_test: 0.63\n",
      "=> result saved!\n",
      "Epoch: 130 Loss: 0.53, Loss_test: 0.68, acc: 0.72, acc_test: 0.62\n",
      "Epoch: 131 Loss: 0.47, Loss_test: 0.67, acc: 0.79, acc_test: 0.62\n",
      "Epoch: 132 Loss: 0.48, Loss_test: 0.67, acc: 0.82, acc_test: 0.62\n",
      "Epoch: 133 Loss: 0.61, Loss_test: 0.68, acc: 0.70, acc_test: 0.64\n",
      "Epoch: 134 Loss: 0.42, Loss_test: 0.71, acc: 0.83, acc_test: 0.64\n",
      "Epoch: 135 Loss: 0.53, Loss_test: 0.72, acc: 0.73, acc_test: 0.62\n",
      "Epoch: 136 Loss: 0.43, Loss_test: 0.71, acc: 0.80, acc_test: 0.63\n",
      "Epoch: 137 Loss: 0.54, Loss_test: 0.68, acc: 0.76, acc_test: 0.62\n",
      "Epoch: 138 Loss: 0.56, Loss_test: 0.66, acc: 0.67, acc_test: 0.63\n",
      "Epoch: 139 Loss: 0.52, Loss_test: 0.65, acc: 0.73, acc_test: 0.63\n",
      "=> result saved!\n",
      "Epoch: 140 Loss: 0.45, Loss_test: 0.65, acc: 0.77, acc_test: 0.62\n",
      "Epoch: 141 Loss: 0.49, Loss_test: 0.65, acc: 0.77, acc_test: 0.62\n",
      "Epoch: 142 Loss: 0.48, Loss_test: 0.66, acc: 0.77, acc_test: 0.63\n",
      "Epoch: 143 Loss: 0.51, Loss_test: 0.64, acc: 0.76, acc_test: 0.63\n",
      "Epoch: 144 Loss: 0.55, Loss_test: 0.64, acc: 0.70, acc_test: 0.62\n",
      "Epoch: 145 Loss: 0.48, Loss_test: 0.65, acc: 0.77, acc_test: 0.63\n",
      "Epoch: 146 Loss: 0.52, Loss_test: 0.65, acc: 0.77, acc_test: 0.62\n",
      "Epoch: 147 Loss: 0.46, Loss_test: 0.64, acc: 0.77, acc_test: 0.64\n",
      "Epoch: 148 Loss: 0.48, Loss_test: 0.65, acc: 0.77, acc_test: 0.62\n",
      "Epoch: 149 Loss: 0.53, Loss_test: 0.65, acc: 0.73, acc_test: 0.63\n",
      "=> result saved!\n",
      "Epoch: 150 Loss: 0.50, Loss_test: 0.65, acc: 0.70, acc_test: 0.62\n",
      "Epoch: 151 Loss: 0.51, Loss_test: 0.66, acc: 0.73, acc_test: 0.62\n",
      "Epoch: 152 Loss: 0.55, Loss_test: 0.67, acc: 0.70, acc_test: 0.63\n",
      "Epoch: 153 Loss: 0.41, Loss_test: 0.69, acc: 0.82, acc_test: 0.63\n",
      "Epoch: 154 Loss: 0.45, Loss_test: 0.68, acc: 0.78, acc_test: 0.64\n",
      "Epoch: 155 Loss: 0.50, Loss_test: 0.65, acc: 0.73, acc_test: 0.63\n",
      "Epoch: 156 Loss: 0.51, Loss_test: 0.65, acc: 0.75, acc_test: 0.61\n",
      "Epoch: 157 Loss: 0.52, Loss_test: 0.64, acc: 0.74, acc_test: 0.62\n",
      "Epoch: 158 Loss: 0.44, Loss_test: 0.64, acc: 0.77, acc_test: 0.62\n",
      "Epoch: 159 Loss: 0.52, Loss_test: 0.64, acc: 0.72, acc_test: 0.62\n",
      "=> result saved!\n",
      "Epoch: 160 Loss: 0.47, Loss_test: 0.64, acc: 0.76, acc_test: 0.63\n",
      "Epoch: 161 Loss: 0.52, Loss_test: 0.65, acc: 0.73, acc_test: 0.62\n",
      "Epoch: 162 Loss: 0.36, Loss_test: 0.66, acc: 0.90, acc_test: 0.60\n",
      "Epoch: 163 Loss: 0.55, Loss_test: 0.64, acc: 0.71, acc_test: 0.64\n",
      "Epoch: 164 Loss: 0.51, Loss_test: 0.64, acc: 0.71, acc_test: 0.63\n",
      "Epoch: 165 Loss: 0.54, Loss_test: 0.66, acc: 0.66, acc_test: 0.64\n",
      "Epoch: 166 Loss: 0.53, Loss_test: 0.66, acc: 0.76, acc_test: 0.64\n",
      "Epoch: 167 Loss: 0.54, Loss_test: 0.64, acc: 0.72, acc_test: 0.63\n",
      "Epoch: 168 Loss: 0.59, Loss_test: 0.64, acc: 0.70, acc_test: 0.63\n",
      "Epoch: 169 Loss: 0.49, Loss_test: 0.64, acc: 0.73, acc_test: 0.62\n",
      "=> result saved!\n",
      "Epoch: 170 Loss: 0.50, Loss_test: 0.67, acc: 0.73, acc_test: 0.64\n",
      "Epoch: 171 Loss: 0.50, Loss_test: 0.72, acc: 0.72, acc_test: 0.64\n",
      "Epoch: 172 Loss: 0.48, Loss_test: 0.72, acc: 0.78, acc_test: 0.63\n",
      "Epoch: 173 Loss: 0.49, Loss_test: 0.68, acc: 0.72, acc_test: 0.64\n",
      "Epoch: 174 Loss: 0.49, Loss_test: 0.65, acc: 0.71, acc_test: 0.63\n",
      "Epoch: 175 Loss: 0.51, Loss_test: 0.64, acc: 0.73, acc_test: 0.62\n",
      "Epoch: 176 Loss: 0.50, Loss_test: 0.64, acc: 0.74, acc_test: 0.63\n",
      "Epoch: 177 Loss: 0.55, Loss_test: 0.64, acc: 0.70, acc_test: 0.62\n",
      "Epoch: 178 Loss: 0.48, Loss_test: 0.65, acc: 0.80, acc_test: 0.63\n",
      "Epoch: 179 Loss: 0.50, Loss_test: 0.66, acc: 0.74, acc_test: 0.62\n",
      "=> result saved!\n",
      "Epoch: 180 Loss: 0.39, Loss_test: 0.65, acc: 0.82, acc_test: 0.62\n",
      "Epoch: 181 Loss: 0.43, Loss_test: 0.64, acc: 0.81, acc_test: 0.62\n",
      "Epoch: 182 Loss: 0.60, Loss_test: 0.64, acc: 0.67, acc_test: 0.61\n",
      "Epoch: 183 Loss: 0.51, Loss_test: 0.65, acc: 0.73, acc_test: 0.61\n",
      "Epoch: 184 Loss: 0.50, Loss_test: 0.64, acc: 0.75, acc_test: 0.61\n",
      "Epoch: 185 Loss: 0.54, Loss_test: 0.63, acc: 0.70, acc_test: 0.62\n",
      "Epoch: 186 Loss: 0.44, Loss_test: 0.64, acc: 0.81, acc_test: 0.64\n",
      "Epoch: 187 Loss: 0.48, Loss_test: 0.65, acc: 0.73, acc_test: 0.65\n",
      "Epoch: 188 Loss: 0.51, Loss_test: 0.64, acc: 0.74, acc_test: 0.65\n",
      "Epoch: 189 Loss: 0.53, Loss_test: 0.63, acc: 0.77, acc_test: 0.64\n",
      "=> result saved!\n",
      "Epoch: 190 Loss: 0.47, Loss_test: 0.63, acc: 0.78, acc_test: 0.63\n",
      "Epoch: 191 Loss: 0.50, Loss_test: 0.64, acc: 0.74, acc_test: 0.63\n",
      "Epoch: 192 Loss: 0.53, Loss_test: 0.64, acc: 0.73, acc_test: 0.64\n",
      "Epoch: 193 Loss: 0.51, Loss_test: 0.65, acc: 0.70, acc_test: 0.65\n",
      "Epoch: 194 Loss: 0.43, Loss_test: 0.65, acc: 0.81, acc_test: 0.66\n",
      "Epoch: 195 Loss: 0.42, Loss_test: 0.65, acc: 0.84, acc_test: 0.66\n",
      "Epoch: 196 Loss: 0.45, Loss_test: 0.64, acc: 0.77, acc_test: 0.63\n",
      "Epoch: 197 Loss: 0.51, Loss_test: 0.63, acc: 0.71, acc_test: 0.62\n",
      "Epoch: 198 Loss: 0.47, Loss_test: 0.63, acc: 0.74, acc_test: 0.61\n",
      "Epoch: 199 Loss: 0.38, Loss_test: 0.64, acc: 0.86, acc_test: 0.62\n",
      "=> result saved!\n",
      "Epoch: 200 Loss: 0.53, Loss_test: 0.65, acc: 0.75, acc_test: 0.61\n",
      "Epoch: 201 Loss: 0.51, Loss_test: 0.63, acc: 0.77, acc_test: 0.62\n",
      "Epoch: 202 Loss: 0.60, Loss_test: 0.62, acc: 0.67, acc_test: 0.62\n",
      "Epoch: 203 Loss: 0.43, Loss_test: 0.63, acc: 0.75, acc_test: 0.64\n",
      "Epoch: 204 Loss: 0.50, Loss_test: 0.62, acc: 0.69, acc_test: 0.62\n",
      "Epoch: 205 Loss: 0.44, Loss_test: 0.62, acc: 0.79, acc_test: 0.62\n",
      "Epoch: 206 Loss: 0.41, Loss_test: 0.63, acc: 0.77, acc_test: 0.62\n",
      "Epoch: 207 Loss: 0.52, Loss_test: 0.63, acc: 0.68, acc_test: 0.62\n",
      "Epoch: 208 Loss: 0.49, Loss_test: 0.63, acc: 0.76, acc_test: 0.62\n",
      "Epoch: 209 Loss: 0.41, Loss_test: 0.62, acc: 0.80, acc_test: 0.63\n",
      "=> result saved!\n",
      "Epoch: 210 Loss: 0.49, Loss_test: 0.62, acc: 0.73, acc_test: 0.63\n",
      "Epoch: 211 Loss: 0.47, Loss_test: 0.63, acc: 0.78, acc_test: 0.64\n",
      "Epoch: 212 Loss: 0.51, Loss_test: 0.63, acc: 0.74, acc_test: 0.63\n",
      "Epoch: 213 Loss: 0.43, Loss_test: 0.63, acc: 0.82, acc_test: 0.64\n",
      "Epoch: 214 Loss: 0.50, Loss_test: 0.64, acc: 0.73, acc_test: 0.64\n",
      "Epoch: 215 Loss: 0.46, Loss_test: 0.64, acc: 0.80, acc_test: 0.64\n",
      "Epoch: 216 Loss: 0.55, Loss_test: 0.64, acc: 0.73, acc_test: 0.63\n",
      "Epoch: 217 Loss: 0.47, Loss_test: 0.65, acc: 0.73, acc_test: 0.64\n",
      "Epoch: 218 Loss: 0.46, Loss_test: 0.67, acc: 0.79, acc_test: 0.66\n",
      "Epoch: 219 Loss: 0.53, Loss_test: 0.67, acc: 0.75, acc_test: 0.63\n",
      "=> result saved!\n",
      "Epoch: 220 Loss: 0.59, Loss_test: 0.65, acc: 0.69, acc_test: 0.62\n",
      "Epoch: 221 Loss: 0.50, Loss_test: 0.66, acc: 0.77, acc_test: 0.63\n",
      "Epoch: 222 Loss: 0.44, Loss_test: 0.66, acc: 0.78, acc_test: 0.64\n"
     ]
    },
    {
     "name": "stdout",
     "output_type": "stream",
     "text": [
      "Epoch: 223 Loss: 0.42, Loss_test: 0.66, acc: 0.80, acc_test: 0.59\n",
      "Epoch: 224 Loss: 0.48, Loss_test: 0.65, acc: 0.75, acc_test: 0.61\n",
      "Epoch: 225 Loss: 0.48, Loss_test: 0.64, acc: 0.74, acc_test: 0.67\n",
      "Epoch: 226 Loss: 0.50, Loss_test: 0.65, acc: 0.77, acc_test: 0.65\n",
      "Epoch: 227 Loss: 0.49, Loss_test: 0.66, acc: 0.71, acc_test: 0.62\n",
      "Epoch: 228 Loss: 0.52, Loss_test: 0.63, acc: 0.72, acc_test: 0.63\n",
      "Epoch: 229 Loss: 0.45, Loss_test: 0.62, acc: 0.79, acc_test: 0.64\n",
      "=> result saved!\n",
      "Epoch: 230 Loss: 0.49, Loss_test: 0.62, acc: 0.77, acc_test: 0.64\n",
      "Epoch: 231 Loss: 0.55, Loss_test: 0.63, acc: 0.69, acc_test: 0.64\n",
      "Epoch: 232 Loss: 0.45, Loss_test: 0.64, acc: 0.77, acc_test: 0.61\n",
      "Epoch: 233 Loss: 0.54, Loss_test: 0.63, acc: 0.73, acc_test: 0.62\n",
      "Epoch: 234 Loss: 0.46, Loss_test: 0.63, acc: 0.79, acc_test: 0.65\n",
      "Epoch: 235 Loss: 0.44, Loss_test: 0.62, acc: 0.77, acc_test: 0.66\n",
      "Epoch: 236 Loss: 0.47, Loss_test: 0.63, acc: 0.77, acc_test: 0.65\n",
      "Epoch: 237 Loss: 0.40, Loss_test: 0.63, acc: 0.87, acc_test: 0.65\n",
      "Epoch: 238 Loss: 0.48, Loss_test: 0.63, acc: 0.73, acc_test: 0.64\n",
      "Epoch: 239 Loss: 0.47, Loss_test: 0.64, acc: 0.75, acc_test: 0.65\n",
      "=> result saved!\n",
      "Epoch: 240 Loss: 0.47, Loss_test: 0.65, acc: 0.78, acc_test: 0.66\n",
      "Epoch: 241 Loss: 0.48, Loss_test: 0.64, acc: 0.78, acc_test: 0.65\n",
      "Epoch: 242 Loss: 0.58, Loss_test: 0.64, acc: 0.72, acc_test: 0.63\n",
      "Epoch: 243 Loss: 0.41, Loss_test: 0.64, acc: 0.80, acc_test: 0.64\n",
      "Epoch: 244 Loss: 0.44, Loss_test: 0.64, acc: 0.80, acc_test: 0.62\n",
      "Epoch: 245 Loss: 0.55, Loss_test: 0.64, acc: 0.70, acc_test: 0.65\n",
      "Epoch: 246 Loss: 0.47, Loss_test: 0.65, acc: 0.76, acc_test: 0.64\n",
      "Epoch: 247 Loss: 0.37, Loss_test: 0.65, acc: 0.83, acc_test: 0.66\n",
      "Epoch: 248 Loss: 0.53, Loss_test: 0.64, acc: 0.77, acc_test: 0.64\n",
      "Epoch: 249 Loss: 0.52, Loss_test: 0.65, acc: 0.76, acc_test: 0.64\n",
      "=> result saved!\n",
      "Epoch: 250 Loss: 0.54, Loss_test: 0.66, acc: 0.71, acc_test: 0.64\n",
      "Epoch: 251 Loss: 0.42, Loss_test: 0.65, acc: 0.79, acc_test: 0.65\n",
      "Epoch: 252 Loss: 0.45, Loss_test: 0.65, acc: 0.74, acc_test: 0.65\n",
      "Epoch: 253 Loss: 0.46, Loss_test: 0.67, acc: 0.78, acc_test: 0.58\n",
      "Epoch: 254 Loss: 0.44, Loss_test: 0.65, acc: 0.82, acc_test: 0.66\n",
      "Epoch: 255 Loss: 0.53, Loss_test: 0.63, acc: 0.73, acc_test: 0.64\n",
      "Epoch: 256 Loss: 0.52, Loss_test: 0.64, acc: 0.74, acc_test: 0.61\n",
      "Epoch: 257 Loss: 0.45, Loss_test: 0.64, acc: 0.82, acc_test: 0.60\n",
      "Epoch: 258 Loss: 0.52, Loss_test: 0.63, acc: 0.70, acc_test: 0.63\n",
      "Epoch: 259 Loss: 0.45, Loss_test: 0.64, acc: 0.81, acc_test: 0.65\n",
      "=> result saved!\n",
      "Epoch: 260 Loss: 0.54, Loss_test: 0.63, acc: 0.72, acc_test: 0.66\n",
      "Epoch: 261 Loss: 0.51, Loss_test: 0.63, acc: 0.77, acc_test: 0.65\n",
      "Epoch: 262 Loss: 0.45, Loss_test: 0.65, acc: 0.78, acc_test: 0.65\n",
      "Epoch: 263 Loss: 0.47, Loss_test: 0.65, acc: 0.76, acc_test: 0.61\n",
      "Epoch: 264 Loss: 0.50, Loss_test: 0.65, acc: 0.77, acc_test: 0.61\n",
      "Epoch: 265 Loss: 0.54, Loss_test: 0.65, acc: 0.70, acc_test: 0.61\n",
      "Epoch: 266 Loss: 0.39, Loss_test: 0.64, acc: 0.82, acc_test: 0.61\n",
      "Epoch: 267 Loss: 0.45, Loss_test: 0.63, acc: 0.78, acc_test: 0.62\n",
      "Epoch: 268 Loss: 0.51, Loss_test: 0.63, acc: 0.77, acc_test: 0.66\n",
      "Epoch: 269 Loss: 0.59, Loss_test: 0.62, acc: 0.70, acc_test: 0.66\n",
      "=> result saved!\n",
      "Epoch: 270 Loss: 0.48, Loss_test: 0.62, acc: 0.74, acc_test: 0.65\n",
      "Epoch: 271 Loss: 0.49, Loss_test: 0.63, acc: 0.75, acc_test: 0.62\n",
      "Epoch: 272 Loss: 0.43, Loss_test: 0.63, acc: 0.80, acc_test: 0.64\n",
      "Epoch: 273 Loss: 0.46, Loss_test: 0.64, acc: 0.76, acc_test: 0.63\n",
      "Epoch: 274 Loss: 0.48, Loss_test: 0.63, acc: 0.77, acc_test: 0.63\n",
      "Epoch: 275 Loss: 0.41, Loss_test: 0.64, acc: 0.80, acc_test: 0.62\n",
      "Epoch: 276 Loss: 0.41, Loss_test: 0.65, acc: 0.80, acc_test: 0.60\n",
      "Epoch: 277 Loss: 0.52, Loss_test: 0.67, acc: 0.71, acc_test: 0.56\n",
      "Epoch: 278 Loss: 0.49, Loss_test: 0.67, acc: 0.69, acc_test: 0.56\n",
      "Epoch: 279 Loss: 0.40, Loss_test: 0.66, acc: 0.84, acc_test: 0.57\n",
      "=> result saved!\n",
      "Epoch: 280 Loss: 0.43, Loss_test: 0.64, acc: 0.78, acc_test: 0.62\n",
      "Epoch: 281 Loss: 0.45, Loss_test: 0.63, acc: 0.80, acc_test: 0.63\n",
      "Epoch: 282 Loss: 0.48, Loss_test: 0.63, acc: 0.78, acc_test: 0.64\n",
      "Epoch: 283 Loss: 0.44, Loss_test: 0.63, acc: 0.80, acc_test: 0.62\n",
      "Epoch: 284 Loss: 0.47, Loss_test: 0.66, acc: 0.75, acc_test: 0.60\n",
      "Epoch: 285 Loss: 0.48, Loss_test: 0.69, acc: 0.74, acc_test: 0.60\n",
      "Epoch: 286 Loss: 0.42, Loss_test: 0.66, acc: 0.77, acc_test: 0.61\n",
      "Epoch: 287 Loss: 0.43, Loss_test: 0.63, acc: 0.81, acc_test: 0.62\n",
      "Epoch: 288 Loss: 0.38, Loss_test: 0.64, acc: 0.86, acc_test: 0.62\n",
      "Epoch: 289 Loss: 0.53, Loss_test: 0.64, acc: 0.69, acc_test: 0.62\n",
      "=> result saved!\n",
      "Epoch: 290 Loss: 0.45, Loss_test: 0.64, acc: 0.77, acc_test: 0.62\n",
      "Epoch: 291 Loss: 0.38, Loss_test: 0.64, acc: 0.84, acc_test: 0.63\n",
      "Epoch: 292 Loss: 0.44, Loss_test: 0.65, acc: 0.81, acc_test: 0.63\n",
      "Epoch: 293 Loss: 0.54, Loss_test: 0.64, acc: 0.73, acc_test: 0.62\n",
      "Epoch: 294 Loss: 0.40, Loss_test: 0.66, acc: 0.78, acc_test: 0.63\n",
      "Epoch: 295 Loss: 0.39, Loss_test: 0.68, acc: 0.80, acc_test: 0.64\n",
      "Epoch: 296 Loss: 0.39, Loss_test: 0.68, acc: 0.82, acc_test: 0.64\n",
      "Epoch: 297 Loss: 0.47, Loss_test: 0.66, acc: 0.73, acc_test: 0.64\n",
      "Epoch: 298 Loss: 0.43, Loss_test: 0.66, acc: 0.82, acc_test: 0.62\n",
      "Epoch: 299 Loss: 0.50, Loss_test: 0.66, acc: 0.71, acc_test: 0.63\n",
      "=> result saved!\n",
      "Epoch: 300 Loss: 0.41, Loss_test: 0.67, acc: 0.79, acc_test: 0.61\n",
      "Epoch: 301 Loss: 0.44, Loss_test: 0.69, acc: 0.81, acc_test: 0.59\n",
      "Epoch: 302 Loss: 0.49, Loss_test: 0.69, acc: 0.77, acc_test: 0.59\n",
      "Epoch: 303 Loss: 0.50, Loss_test: 0.69, acc: 0.73, acc_test: 0.61\n",
      "Epoch: 304 Loss: 0.48, Loss_test: 0.70, acc: 0.73, acc_test: 0.59\n",
      "Epoch: 305 Loss: 0.47, Loss_test: 0.68, acc: 0.76, acc_test: 0.60\n",
      "Epoch: 306 Loss: 0.53, Loss_test: 0.68, acc: 0.76, acc_test: 0.61\n",
      "Epoch: 307 Loss: 0.45, Loss_test: 0.66, acc: 0.76, acc_test: 0.61\n",
      "Epoch: 308 Loss: 0.48, Loss_test: 0.66, acc: 0.78, acc_test: 0.59\n",
      "Epoch: 309 Loss: 0.43, Loss_test: 0.65, acc: 0.80, acc_test: 0.59\n",
      "=> result saved!\n",
      "Epoch: 310 Loss: 0.45, Loss_test: 0.65, acc: 0.77, acc_test: 0.60\n",
      "Epoch: 311 Loss: 0.46, Loss_test: 0.66, acc: 0.76, acc_test: 0.60\n",
      "Epoch: 312 Loss: 0.48, Loss_test: 0.65, acc: 0.77, acc_test: 0.61\n",
      "Epoch: 313 Loss: 0.46, Loss_test: 0.65, acc: 0.75, acc_test: 0.60\n",
      "Epoch: 314 Loss: 0.48, Loss_test: 0.65, acc: 0.82, acc_test: 0.61\n",
      "Epoch: 315 Loss: 0.43, Loss_test: 0.65, acc: 0.81, acc_test: 0.61\n",
      "Epoch: 316 Loss: 0.45, Loss_test: 0.66, acc: 0.80, acc_test: 0.62\n",
      "Epoch: 317 Loss: 0.46, Loss_test: 0.66, acc: 0.71, acc_test: 0.60\n",
      "Epoch: 318 Loss: 0.46, Loss_test: 0.66, acc: 0.77, acc_test: 0.62\n",
      "Epoch: 319 Loss: 0.43, Loss_test: 0.66, acc: 0.80, acc_test: 0.61\n",
      "=> result saved!\n",
      "Epoch: 320 Loss: 0.42, Loss_test: 0.67, acc: 0.75, acc_test: 0.60\n",
      "Epoch: 321 Loss: 0.40, Loss_test: 0.67, acc: 0.83, acc_test: 0.59\n",
      "Epoch: 322 Loss: 0.47, Loss_test: 0.68, acc: 0.80, acc_test: 0.61\n",
      "Epoch: 323 Loss: 0.47, Loss_test: 0.66, acc: 0.76, acc_test: 0.59\n",
      "Epoch: 324 Loss: 0.44, Loss_test: 0.65, acc: 0.78, acc_test: 0.64\n",
      "Epoch: 325 Loss: 0.42, Loss_test: 0.66, acc: 0.80, acc_test: 0.64\n",
      "Epoch: 326 Loss: 0.48, Loss_test: 0.65, acc: 0.74, acc_test: 0.64\n",
      "Epoch: 327 Loss: 0.39, Loss_test: 0.63, acc: 0.80, acc_test: 0.64\n",
      "Epoch: 328 Loss: 0.40, Loss_test: 0.62, acc: 0.81, acc_test: 0.64\n",
      "Epoch: 329 Loss: 0.49, Loss_test: 0.62, acc: 0.77, acc_test: 0.65\n",
      "=> result saved!\n",
      "Epoch: 330 Loss: 0.48, Loss_test: 0.64, acc: 0.73, acc_test: 0.63\n",
      "Epoch: 331 Loss: 0.52, Loss_test: 0.65, acc: 0.71, acc_test: 0.64\n",
      "Epoch: 332 Loss: 0.47, Loss_test: 0.63, acc: 0.80, acc_test: 0.61\n",
      "Epoch: 333 Loss: 0.45, Loss_test: 0.62, acc: 0.80, acc_test: 0.64\n",
      "Epoch: 334 Loss: 0.46, Loss_test: 0.62, acc: 0.71, acc_test: 0.65\n",
      "Epoch: 335 Loss: 0.44, Loss_test: 0.63, acc: 0.77, acc_test: 0.64\n",
      "Epoch: 336 Loss: 0.50, Loss_test: 0.65, acc: 0.74, acc_test: 0.65\n",
      "Epoch: 337 Loss: 0.50, Loss_test: 0.67, acc: 0.80, acc_test: 0.64\n",
      "Epoch: 338 Loss: 0.54, Loss_test: 0.67, acc: 0.71, acc_test: 0.63\n",
      "Epoch: 339 Loss: 0.42, Loss_test: 0.66, acc: 0.77, acc_test: 0.62\n",
      "=> result saved!\n",
      "Epoch: 340 Loss: 0.41, Loss_test: 0.66, acc: 0.81, acc_test: 0.64\n",
      "Epoch: 341 Loss: 0.40, Loss_test: 0.66, acc: 0.80, acc_test: 0.63\n",
      "Epoch: 342 Loss: 0.52, Loss_test: 0.66, acc: 0.73, acc_test: 0.61\n",
      "Epoch: 343 Loss: 0.49, Loss_test: 0.66, acc: 0.80, acc_test: 0.62\n",
      "Epoch: 344 Loss: 0.42, Loss_test: 0.65, acc: 0.82, acc_test: 0.64\n"
     ]
    },
    {
     "name": "stdout",
     "output_type": "stream",
     "text": [
      "Epoch: 345 Loss: 0.46, Loss_test: 0.64, acc: 0.78, acc_test: 0.66\n",
      "Epoch: 346 Loss: 0.39, Loss_test: 0.64, acc: 0.84, acc_test: 0.67\n",
      "Epoch: 347 Loss: 0.45, Loss_test: 0.64, acc: 0.77, acc_test: 0.64\n",
      "Epoch: 348 Loss: 0.46, Loss_test: 0.63, acc: 0.79, acc_test: 0.64\n",
      "Epoch: 349 Loss: 0.46, Loss_test: 0.64, acc: 0.79, acc_test: 0.60\n",
      "=> result saved!\n",
      "Epoch: 350 Loss: 0.48, Loss_test: 0.64, acc: 0.77, acc_test: 0.59\n",
      "Epoch: 351 Loss: 0.46, Loss_test: 0.64, acc: 0.74, acc_test: 0.63\n",
      "Epoch: 352 Loss: 0.44, Loss_test: 0.64, acc: 0.80, acc_test: 0.65\n",
      "Epoch: 353 Loss: 0.39, Loss_test: 0.64, acc: 0.80, acc_test: 0.64\n",
      "Epoch: 354 Loss: 0.37, Loss_test: 0.65, acc: 0.86, acc_test: 0.59\n",
      "Epoch: 355 Loss: 0.44, Loss_test: 0.65, acc: 0.77, acc_test: 0.59\n",
      "Epoch: 356 Loss: 0.39, Loss_test: 0.65, acc: 0.81, acc_test: 0.63\n",
      "Epoch: 357 Loss: 0.41, Loss_test: 0.65, acc: 0.80, acc_test: 0.64\n",
      "Epoch: 358 Loss: 0.45, Loss_test: 0.65, acc: 0.77, acc_test: 0.63\n",
      "Epoch: 359 Loss: 0.50, Loss_test: 0.65, acc: 0.73, acc_test: 0.64\n",
      "=> result saved!\n",
      "Epoch: 360 Loss: 0.38, Loss_test: 0.65, acc: 0.78, acc_test: 0.61\n",
      "Epoch: 361 Loss: 0.44, Loss_test: 0.65, acc: 0.78, acc_test: 0.59\n",
      "Epoch: 362 Loss: 0.45, Loss_test: 0.66, acc: 0.83, acc_test: 0.62\n",
      "Epoch: 363 Loss: 0.37, Loss_test: 0.65, acc: 0.84, acc_test: 0.62\n",
      "Epoch: 364 Loss: 0.38, Loss_test: 0.66, acc: 0.81, acc_test: 0.61\n",
      "Epoch: 365 Loss: 0.46, Loss_test: 0.68, acc: 0.78, acc_test: 0.60\n",
      "Epoch: 366 Loss: 0.50, Loss_test: 0.67, acc: 0.73, acc_test: 0.60\n",
      "Epoch: 367 Loss: 0.55, Loss_test: 0.66, acc: 0.69, acc_test: 0.59\n",
      "Epoch: 368 Loss: 0.44, Loss_test: 0.65, acc: 0.78, acc_test: 0.60\n",
      "Epoch: 369 Loss: 0.39, Loss_test: 0.67, acc: 0.80, acc_test: 0.61\n",
      "=> result saved!\n",
      "Epoch: 370 Loss: 0.49, Loss_test: 0.70, acc: 0.73, acc_test: 0.60\n",
      "Epoch: 371 Loss: 0.53, Loss_test: 0.71, acc: 0.70, acc_test: 0.60\n",
      "Epoch: 372 Loss: 0.48, Loss_test: 0.70, acc: 0.77, acc_test: 0.60\n",
      "Epoch: 373 Loss: 0.46, Loss_test: 0.70, acc: 0.74, acc_test: 0.60\n",
      "Epoch: 374 Loss: 0.46, Loss_test: 0.73, acc: 0.80, acc_test: 0.58\n",
      "Epoch: 375 Loss: 0.45, Loss_test: 0.75, acc: 0.74, acc_test: 0.57\n",
      "Epoch: 376 Loss: 0.39, Loss_test: 0.78, acc: 0.80, acc_test: 0.57\n",
      "Epoch: 377 Loss: 0.46, Loss_test: 0.78, acc: 0.73, acc_test: 0.58\n",
      "Epoch: 378 Loss: 0.46, Loss_test: 0.77, acc: 0.79, acc_test: 0.57\n",
      "Epoch: 379 Loss: 0.40, Loss_test: 0.75, acc: 0.81, acc_test: 0.59\n",
      "=> result saved!\n",
      "Epoch: 380 Loss: 0.50, Loss_test: 0.73, acc: 0.72, acc_test: 0.59\n",
      "Epoch: 381 Loss: 0.40, Loss_test: 0.69, acc: 0.80, acc_test: 0.60\n",
      "Epoch: 382 Loss: 0.41, Loss_test: 0.65, acc: 0.81, acc_test: 0.62\n",
      "Epoch: 383 Loss: 0.48, Loss_test: 0.64, acc: 0.80, acc_test: 0.62\n",
      "Epoch: 384 Loss: 0.44, Loss_test: 0.63, acc: 0.77, acc_test: 0.64\n",
      "Epoch: 385 Loss: 0.44, Loss_test: 0.63, acc: 0.74, acc_test: 0.61\n",
      "Epoch: 386 Loss: 0.37, Loss_test: 0.63, acc: 0.83, acc_test: 0.63\n",
      "Epoch: 387 Loss: 0.44, Loss_test: 0.63, acc: 0.81, acc_test: 0.62\n",
      "Epoch: 388 Loss: 0.46, Loss_test: 0.64, acc: 0.73, acc_test: 0.63\n",
      "Epoch: 389 Loss: 0.41, Loss_test: 0.64, acc: 0.84, acc_test: 0.61\n",
      "=> result saved!\n",
      "Epoch: 390 Loss: 0.41, Loss_test: 0.65, acc: 0.82, acc_test: 0.59\n",
      "Epoch: 391 Loss: 0.34, Loss_test: 0.66, acc: 0.85, acc_test: 0.59\n",
      "Epoch: 392 Loss: 0.36, Loss_test: 0.67, acc: 0.84, acc_test: 0.58\n",
      "Epoch: 393 Loss: 0.41, Loss_test: 0.67, acc: 0.80, acc_test: 0.59\n",
      "Epoch: 394 Loss: 0.45, Loss_test: 0.66, acc: 0.73, acc_test: 0.59\n",
      "Epoch: 395 Loss: 0.46, Loss_test: 0.66, acc: 0.80, acc_test: 0.61\n",
      "Epoch: 396 Loss: 0.41, Loss_test: 0.66, acc: 0.82, acc_test: 0.57\n",
      "Epoch: 397 Loss: 0.47, Loss_test: 0.68, acc: 0.82, acc_test: 0.60\n",
      "Epoch: 398 Loss: 0.39, Loss_test: 0.68, acc: 0.80, acc_test: 0.61\n",
      "Epoch: 399 Loss: 0.41, Loss_test: 0.67, acc: 0.79, acc_test: 0.60\n",
      "=> result saved!\n",
      "Epoch: 400 Loss: 0.45, Loss_test: 0.68, acc: 0.79, acc_test: 0.59\n",
      "Epoch: 401 Loss: 0.43, Loss_test: 0.70, acc: 0.82, acc_test: 0.61\n",
      "Epoch: 402 Loss: 0.45, Loss_test: 0.76, acc: 0.74, acc_test: 0.59\n",
      "Epoch: 403 Loss: 0.46, Loss_test: 0.76, acc: 0.78, acc_test: 0.60\n",
      "Epoch: 404 Loss: 0.43, Loss_test: 0.72, acc: 0.78, acc_test: 0.58\n",
      "Epoch: 405 Loss: 0.47, Loss_test: 0.71, acc: 0.75, acc_test: 0.62\n",
      "Epoch: 406 Loss: 0.38, Loss_test: 0.72, acc: 0.83, acc_test: 0.61\n",
      "Epoch: 407 Loss: 0.50, Loss_test: 0.72, acc: 0.74, acc_test: 0.61\n",
      "Epoch: 408 Loss: 0.55, Loss_test: 0.72, acc: 0.71, acc_test: 0.61\n",
      "Epoch: 409 Loss: 0.38, Loss_test: 0.74, acc: 0.84, acc_test: 0.60\n",
      "=> result saved!\n",
      "Epoch: 410 Loss: 0.42, Loss_test: 0.74, acc: 0.81, acc_test: 0.60\n",
      "Epoch: 411 Loss: 0.55, Loss_test: 0.71, acc: 0.72, acc_test: 0.62\n",
      "Epoch: 412 Loss: 0.39, Loss_test: 0.70, acc: 0.84, acc_test: 0.61\n",
      "Epoch: 413 Loss: 0.39, Loss_test: 0.69, acc: 0.82, acc_test: 0.61\n",
      "Epoch: 414 Loss: 0.45, Loss_test: 0.68, acc: 0.78, acc_test: 0.62\n",
      "Epoch: 415 Loss: 0.44, Loss_test: 0.67, acc: 0.78, acc_test: 0.61\n",
      "Epoch: 416 Loss: 0.37, Loss_test: 0.69, acc: 0.80, acc_test: 0.61\n",
      "Epoch: 417 Loss: 0.39, Loss_test: 0.70, acc: 0.80, acc_test: 0.61\n",
      "Epoch: 418 Loss: 0.44, Loss_test: 0.68, acc: 0.80, acc_test: 0.62\n",
      "Epoch: 419 Loss: 0.36, Loss_test: 0.67, acc: 0.85, acc_test: 0.63\n",
      "=> result saved!\n",
      "Epoch: 420 Loss: 0.46, Loss_test: 0.66, acc: 0.76, acc_test: 0.61\n",
      "Epoch: 421 Loss: 0.48, Loss_test: 0.65, acc: 0.77, acc_test: 0.62\n",
      "Epoch: 422 Loss: 0.41, Loss_test: 0.65, acc: 0.80, acc_test: 0.61\n",
      "Epoch: 423 Loss: 0.37, Loss_test: 0.65, acc: 0.82, acc_test: 0.61\n",
      "Epoch: 424 Loss: 0.42, Loss_test: 0.66, acc: 0.83, acc_test: 0.62\n",
      "Epoch: 425 Loss: 0.51, Loss_test: 0.67, acc: 0.70, acc_test: 0.63\n",
      "Epoch: 426 Loss: 0.48, Loss_test: 0.67, acc: 0.75, acc_test: 0.63\n",
      "Epoch: 427 Loss: 0.60, Loss_test: 0.67, acc: 0.68, acc_test: 0.62\n",
      "Epoch: 428 Loss: 0.44, Loss_test: 0.67, acc: 0.75, acc_test: 0.61\n",
      "Epoch: 429 Loss: 0.41, Loss_test: 0.68, acc: 0.80, acc_test: 0.61\n",
      "=> result saved!\n",
      "Epoch: 430 Loss: 0.45, Loss_test: 0.68, acc: 0.78, acc_test: 0.61\n",
      "Epoch: 431 Loss: 0.44, Loss_test: 0.67, acc: 0.75, acc_test: 0.61\n",
      "Epoch: 432 Loss: 0.39, Loss_test: 0.67, acc: 0.83, acc_test: 0.59\n",
      "Epoch: 433 Loss: 0.46, Loss_test: 0.68, acc: 0.78, acc_test: 0.60\n",
      "Epoch: 434 Loss: 0.45, Loss_test: 0.68, acc: 0.76, acc_test: 0.62\n",
      "Epoch: 435 Loss: 0.46, Loss_test: 0.68, acc: 0.73, acc_test: 0.62\n",
      "Epoch: 436 Loss: 0.48, Loss_test: 0.68, acc: 0.75, acc_test: 0.61\n",
      "Epoch: 437 Loss: 0.43, Loss_test: 0.68, acc: 0.78, acc_test: 0.60\n",
      "Epoch: 438 Loss: 0.52, Loss_test: 0.66, acc: 0.72, acc_test: 0.62\n",
      "Epoch: 439 Loss: 0.42, Loss_test: 0.65, acc: 0.78, acc_test: 0.63\n",
      "=> result saved!\n",
      "Epoch: 440 Loss: 0.41, Loss_test: 0.64, acc: 0.80, acc_test: 0.64\n",
      "Epoch: 441 Loss: 0.43, Loss_test: 0.65, acc: 0.79, acc_test: 0.63\n",
      "Epoch: 442 Loss: 0.44, Loss_test: 0.67, acc: 0.77, acc_test: 0.64\n",
      "Epoch: 443 Loss: 0.45, Loss_test: 0.71, acc: 0.79, acc_test: 0.64\n",
      "Epoch: 444 Loss: 0.51, Loss_test: 0.66, acc: 0.71, acc_test: 0.64\n",
      "Epoch: 445 Loss: 0.46, Loss_test: 0.64, acc: 0.77, acc_test: 0.64\n",
      "Epoch: 446 Loss: 0.43, Loss_test: 0.64, acc: 0.80, acc_test: 0.65\n",
      "Epoch: 447 Loss: 0.42, Loss_test: 0.65, acc: 0.81, acc_test: 0.64\n",
      "Epoch: 448 Loss: 0.46, Loss_test: 0.65, acc: 0.76, acc_test: 0.60\n",
      "Epoch: 449 Loss: 0.39, Loss_test: 0.65, acc: 0.79, acc_test: 0.61\n",
      "=> result saved!\n",
      "Epoch: 450 Loss: 0.44, Loss_test: 0.66, acc: 0.80, acc_test: 0.61\n",
      "Epoch: 451 Loss: 0.45, Loss_test: 0.66, acc: 0.82, acc_test: 0.61\n",
      "Epoch: 452 Loss: 0.54, Loss_test: 0.66, acc: 0.70, acc_test: 0.62\n",
      "Epoch: 453 Loss: 0.32, Loss_test: 0.66, acc: 0.84, acc_test: 0.66\n",
      "Epoch: 454 Loss: 0.46, Loss_test: 0.65, acc: 0.76, acc_test: 0.64\n",
      "Epoch: 455 Loss: 0.41, Loss_test: 0.68, acc: 0.79, acc_test: 0.66\n",
      "Epoch: 456 Loss: 0.44, Loss_test: 0.73, acc: 0.79, acc_test: 0.60\n",
      "Epoch: 457 Loss: 0.44, Loss_test: 0.71, acc: 0.79, acc_test: 0.62\n",
      "Epoch: 458 Loss: 0.44, Loss_test: 0.67, acc: 0.73, acc_test: 0.61\n",
      "Epoch: 459 Loss: 0.38, Loss_test: 0.66, acc: 0.83, acc_test: 0.61\n",
      "=> result saved!\n",
      "Epoch: 460 Loss: 0.42, Loss_test: 0.66, acc: 0.77, acc_test: 0.61\n",
      "Epoch: 461 Loss: 0.41, Loss_test: 0.70, acc: 0.77, acc_test: 0.60\n",
      "Epoch: 462 Loss: 0.38, Loss_test: 0.79, acc: 0.77, acc_test: 0.61\n",
      "Epoch: 463 Loss: 0.44, Loss_test: 0.84, acc: 0.78, acc_test: 0.59\n",
      "Epoch: 464 Loss: 0.45, Loss_test: 0.79, acc: 0.80, acc_test: 0.59\n",
      "Epoch: 465 Loss: 0.41, Loss_test: 0.75, acc: 0.77, acc_test: 0.59\n",
      "Epoch: 466 Loss: 0.47, Loss_test: 0.74, acc: 0.77, acc_test: 0.62\n"
     ]
    },
    {
     "name": "stdout",
     "output_type": "stream",
     "text": [
      "Epoch: 467 Loss: 0.55, Loss_test: 0.74, acc: 0.70, acc_test: 0.62\n",
      "Epoch: 468 Loss: 0.51, Loss_test: 0.73, acc: 0.75, acc_test: 0.61\n",
      "Epoch: 469 Loss: 0.46, Loss_test: 0.75, acc: 0.77, acc_test: 0.60\n",
      "=> result saved!\n",
      "Epoch: 470 Loss: 0.39, Loss_test: 0.77, acc: 0.82, acc_test: 0.60\n",
      "Epoch: 471 Loss: 0.44, Loss_test: 0.74, acc: 0.75, acc_test: 0.62\n",
      "Epoch: 472 Loss: 0.47, Loss_test: 0.68, acc: 0.79, acc_test: 0.61\n",
      "Epoch: 473 Loss: 0.49, Loss_test: 0.68, acc: 0.77, acc_test: 0.63\n",
      "Epoch: 474 Loss: 0.40, Loss_test: 0.69, acc: 0.77, acc_test: 0.62\n",
      "Epoch: 475 Loss: 0.45, Loss_test: 0.69, acc: 0.77, acc_test: 0.62\n",
      "Epoch: 476 Loss: 0.36, Loss_test: 0.69, acc: 0.83, acc_test: 0.61\n",
      "Epoch: 477 Loss: 0.41, Loss_test: 0.71, acc: 0.80, acc_test: 0.62\n",
      "Epoch: 478 Loss: 0.45, Loss_test: 0.73, acc: 0.76, acc_test: 0.62\n",
      "Epoch: 479 Loss: 0.45, Loss_test: 0.73, acc: 0.81, acc_test: 0.61\n",
      "=> result saved!\n",
      "Epoch: 480 Loss: 0.47, Loss_test: 0.71, acc: 0.75, acc_test: 0.63\n",
      "Epoch: 481 Loss: 0.40, Loss_test: 0.70, acc: 0.79, acc_test: 0.62\n",
      "Epoch: 482 Loss: 0.40, Loss_test: 0.70, acc: 0.79, acc_test: 0.62\n",
      "Epoch: 483 Loss: 0.40, Loss_test: 0.70, acc: 0.85, acc_test: 0.62\n",
      "Epoch: 484 Loss: 0.42, Loss_test: 0.70, acc: 0.79, acc_test: 0.63\n",
      "Epoch: 485 Loss: 0.38, Loss_test: 0.70, acc: 0.87, acc_test: 0.62\n",
      "Epoch: 486 Loss: 0.46, Loss_test: 0.70, acc: 0.77, acc_test: 0.62\n",
      "Epoch: 487 Loss: 0.46, Loss_test: 0.71, acc: 0.79, acc_test: 0.61\n",
      "Epoch: 488 Loss: 0.43, Loss_test: 0.71, acc: 0.80, acc_test: 0.62\n",
      "Epoch: 489 Loss: 0.44, Loss_test: 0.71, acc: 0.79, acc_test: 0.63\n",
      "=> result saved!\n",
      "Epoch: 490 Loss: 0.41, Loss_test: 0.71, acc: 0.79, acc_test: 0.64\n",
      "Epoch: 491 Loss: 0.42, Loss_test: 0.72, acc: 0.79, acc_test: 0.61\n",
      "Epoch: 492 Loss: 0.42, Loss_test: 0.73, acc: 0.81, acc_test: 0.59\n",
      "Epoch: 493 Loss: 0.39, Loss_test: 0.74, acc: 0.77, acc_test: 0.59\n",
      "Epoch: 494 Loss: 0.39, Loss_test: 0.75, acc: 0.83, acc_test: 0.59\n",
      "Epoch: 495 Loss: 0.39, Loss_test: 0.73, acc: 0.79, acc_test: 0.60\n",
      "Epoch: 496 Loss: 0.45, Loss_test: 0.69, acc: 0.78, acc_test: 0.59\n",
      "Epoch: 497 Loss: 0.41, Loss_test: 0.67, acc: 0.80, acc_test: 0.61\n",
      "Epoch: 498 Loss: 0.48, Loss_test: 0.67, acc: 0.77, acc_test: 0.64\n",
      "Epoch: 499 Loss: 0.41, Loss_test: 0.70, acc: 0.83, acc_test: 0.59\n",
      "=> result saved!\n",
      "Epoch: 500 Loss: 0.51, Loss_test: 0.74, acc: 0.78, acc_test: 0.58\n",
      "Epoch: 501 Loss: 0.47, Loss_test: 0.75, acc: 0.80, acc_test: 0.58\n",
      "Epoch: 502 Loss: 0.49, Loss_test: 0.71, acc: 0.70, acc_test: 0.59\n",
      "Epoch: 503 Loss: 0.43, Loss_test: 0.69, acc: 0.78, acc_test: 0.61\n",
      "Epoch: 504 Loss: 0.50, Loss_test: 0.68, acc: 0.70, acc_test: 0.62\n",
      "Epoch: 505 Loss: 0.44, Loss_test: 0.68, acc: 0.80, acc_test: 0.63\n",
      "Epoch: 506 Loss: 0.47, Loss_test: 0.70, acc: 0.75, acc_test: 0.62\n",
      "Epoch: 507 Loss: 0.40, Loss_test: 0.72, acc: 0.82, acc_test: 0.59\n",
      "Epoch: 508 Loss: 0.45, Loss_test: 0.73, acc: 0.73, acc_test: 0.59\n",
      "Epoch: 509 Loss: 0.36, Loss_test: 0.73, acc: 0.84, acc_test: 0.59\n",
      "=> result saved!\n",
      "Epoch: 510 Loss: 0.41, Loss_test: 0.73, acc: 0.83, acc_test: 0.61\n",
      "Epoch: 511 Loss: 0.46, Loss_test: 0.72, acc: 0.78, acc_test: 0.64\n",
      "Epoch: 512 Loss: 0.51, Loss_test: 0.70, acc: 0.70, acc_test: 0.62\n",
      "Epoch: 513 Loss: 0.39, Loss_test: 0.68, acc: 0.83, acc_test: 0.63\n",
      "Epoch: 514 Loss: 0.39, Loss_test: 0.67, acc: 0.85, acc_test: 0.62\n",
      "Epoch: 515 Loss: 0.43, Loss_test: 0.67, acc: 0.77, acc_test: 0.63\n",
      "Epoch: 516 Loss: 0.36, Loss_test: 0.67, acc: 0.86, acc_test: 0.63\n",
      "Epoch: 517 Loss: 0.35, Loss_test: 0.68, acc: 0.85, acc_test: 0.63\n",
      "Epoch: 518 Loss: 0.58, Loss_test: 0.68, acc: 0.71, acc_test: 0.63\n",
      "Epoch: 519 Loss: 0.46, Loss_test: 0.70, acc: 0.80, acc_test: 0.62\n",
      "=> result saved!\n",
      "Epoch: 520 Loss: 0.34, Loss_test: 0.71, acc: 0.86, acc_test: 0.63\n",
      "Epoch: 521 Loss: 0.50, Loss_test: 0.72, acc: 0.75, acc_test: 0.61\n",
      "Epoch: 522 Loss: 0.45, Loss_test: 0.73, acc: 0.80, acc_test: 0.59\n",
      "Epoch: 523 Loss: 0.39, Loss_test: 0.75, acc: 0.79, acc_test: 0.58\n",
      "Epoch: 524 Loss: 0.38, Loss_test: 0.75, acc: 0.80, acc_test: 0.60\n",
      "Epoch: 525 Loss: 0.40, Loss_test: 0.73, acc: 0.81, acc_test: 0.61\n",
      "Epoch: 526 Loss: 0.35, Loss_test: 0.74, acc: 0.87, acc_test: 0.60\n",
      "Epoch: 527 Loss: 0.41, Loss_test: 0.75, acc: 0.83, acc_test: 0.61\n",
      "Epoch: 528 Loss: 0.44, Loss_test: 0.72, acc: 0.76, acc_test: 0.61\n",
      "Epoch: 529 Loss: 0.40, Loss_test: 0.71, acc: 0.80, acc_test: 0.60\n",
      "=> result saved!\n",
      "Epoch: 530 Loss: 0.42, Loss_test: 0.75, acc: 0.82, acc_test: 0.58\n",
      "Epoch: 531 Loss: 0.44, Loss_test: 0.75, acc: 0.77, acc_test: 0.59\n",
      "Epoch: 532 Loss: 0.46, Loss_test: 0.70, acc: 0.77, acc_test: 0.62\n",
      "Epoch: 533 Loss: 0.44, Loss_test: 0.68, acc: 0.78, acc_test: 0.61\n",
      "Epoch: 534 Loss: 0.44, Loss_test: 0.68, acc: 0.79, acc_test: 0.61\n",
      "Epoch: 535 Loss: 0.45, Loss_test: 0.68, acc: 0.79, acc_test: 0.62\n",
      "Epoch: 536 Loss: 0.45, Loss_test: 0.70, acc: 0.80, acc_test: 0.62\n",
      "Epoch: 537 Loss: 0.39, Loss_test: 0.71, acc: 0.79, acc_test: 0.61\n",
      "Epoch: 538 Loss: 0.45, Loss_test: 0.72, acc: 0.77, acc_test: 0.59\n",
      "Epoch: 539 Loss: 0.39, Loss_test: 0.73, acc: 0.83, acc_test: 0.59\n",
      "=> result saved!\n",
      "Epoch: 540 Loss: 0.41, Loss_test: 0.71, acc: 0.80, acc_test: 0.61\n",
      "Epoch: 541 Loss: 0.40, Loss_test: 0.69, acc: 0.80, acc_test: 0.61\n",
      "Epoch: 542 Loss: 0.39, Loss_test: 0.68, acc: 0.83, acc_test: 0.61\n",
      "Epoch: 543 Loss: 0.47, Loss_test: 0.68, acc: 0.77, acc_test: 0.60\n",
      "Epoch: 544 Loss: 0.45, Loss_test: 0.67, acc: 0.79, acc_test: 0.60\n",
      "Epoch: 545 Loss: 0.35, Loss_test: 0.67, acc: 0.84, acc_test: 0.60\n",
      "Epoch: 546 Loss: 0.48, Loss_test: 0.68, acc: 0.72, acc_test: 0.59\n",
      "Epoch: 547 Loss: 0.44, Loss_test: 0.68, acc: 0.76, acc_test: 0.61\n",
      "Epoch: 548 Loss: 0.36, Loss_test: 0.69, acc: 0.81, acc_test: 0.60\n",
      "Epoch: 549 Loss: 0.40, Loss_test: 0.69, acc: 0.80, acc_test: 0.60\n",
      "=> result saved!\n",
      "Epoch: 550 Loss: 0.41, Loss_test: 0.69, acc: 0.78, acc_test: 0.64\n",
      "Epoch: 551 Loss: 0.38, Loss_test: 0.69, acc: 0.84, acc_test: 0.66\n",
      "Epoch: 552 Loss: 0.46, Loss_test: 0.69, acc: 0.77, acc_test: 0.65\n",
      "Epoch: 553 Loss: 0.45, Loss_test: 0.70, acc: 0.80, acc_test: 0.64\n",
      "Epoch: 554 Loss: 0.47, Loss_test: 0.71, acc: 0.74, acc_test: 0.65\n",
      "Epoch: 555 Loss: 0.40, Loss_test: 0.70, acc: 0.80, acc_test: 0.64\n",
      "Epoch: 556 Loss: 0.37, Loss_test: 0.70, acc: 0.78, acc_test: 0.64\n",
      "Epoch: 557 Loss: 0.42, Loss_test: 0.69, acc: 0.81, acc_test: 0.64\n",
      "Epoch: 558 Loss: 0.40, Loss_test: 0.69, acc: 0.80, acc_test: 0.64\n",
      "Epoch: 559 Loss: 0.44, Loss_test: 0.69, acc: 0.78, acc_test: 0.63\n",
      "=> result saved!\n",
      "Epoch: 560 Loss: 0.43, Loss_test: 0.71, acc: 0.79, acc_test: 0.59\n",
      "Epoch: 561 Loss: 0.48, Loss_test: 0.73, acc: 0.76, acc_test: 0.60\n",
      "Epoch: 562 Loss: 0.45, Loss_test: 0.71, acc: 0.77, acc_test: 0.61\n",
      "Epoch: 563 Loss: 0.45, Loss_test: 0.68, acc: 0.73, acc_test: 0.60\n",
      "Epoch: 564 Loss: 0.44, Loss_test: 0.66, acc: 0.77, acc_test: 0.64\n",
      "Epoch: 565 Loss: 0.54, Loss_test: 0.66, acc: 0.70, acc_test: 0.65\n",
      "Epoch: 566 Loss: 0.40, Loss_test: 0.67, acc: 0.76, acc_test: 0.64\n",
      "Epoch: 567 Loss: 0.41, Loss_test: 0.66, acc: 0.79, acc_test: 0.61\n",
      "Epoch: 568 Loss: 0.38, Loss_test: 0.67, acc: 0.84, acc_test: 0.59\n",
      "Epoch: 569 Loss: 0.48, Loss_test: 0.67, acc: 0.77, acc_test: 0.60\n",
      "=> result saved!\n",
      "Epoch: 570 Loss: 0.43, Loss_test: 0.68, acc: 0.79, acc_test: 0.59\n",
      "Epoch: 571 Loss: 0.37, Loss_test: 0.68, acc: 0.82, acc_test: 0.58\n",
      "Epoch: 572 Loss: 0.46, Loss_test: 0.68, acc: 0.77, acc_test: 0.58\n",
      "Epoch: 573 Loss: 0.43, Loss_test: 0.68, acc: 0.76, acc_test: 0.57\n",
      "Epoch: 574 Loss: 0.42, Loss_test: 0.69, acc: 0.78, acc_test: 0.60\n",
      "Epoch: 575 Loss: 0.38, Loss_test: 0.70, acc: 0.80, acc_test: 0.59\n",
      "Epoch: 576 Loss: 0.37, Loss_test: 0.72, acc: 0.79, acc_test: 0.60\n",
      "Epoch: 577 Loss: 0.33, Loss_test: 0.73, acc: 0.82, acc_test: 0.58\n",
      "Epoch: 578 Loss: 0.36, Loss_test: 0.72, acc: 0.86, acc_test: 0.61\n",
      "Epoch: 579 Loss: 0.38, Loss_test: 0.71, acc: 0.79, acc_test: 0.61\n",
      "=> result saved!\n",
      "Epoch: 580 Loss: 0.37, Loss_test: 0.70, acc: 0.80, acc_test: 0.62\n",
      "Epoch: 581 Loss: 0.41, Loss_test: 0.72, acc: 0.77, acc_test: 0.60\n",
      "Epoch: 582 Loss: 0.45, Loss_test: 0.76, acc: 0.77, acc_test: 0.61\n",
      "Epoch: 583 Loss: 0.43, Loss_test: 0.78, acc: 0.82, acc_test: 0.59\n",
      "Epoch: 584 Loss: 0.39, Loss_test: 0.81, acc: 0.80, acc_test: 0.60\n",
      "Epoch: 585 Loss: 0.43, Loss_test: 0.81, acc: 0.77, acc_test: 0.59\n",
      "Epoch: 586 Loss: 0.49, Loss_test: 0.79, acc: 0.77, acc_test: 0.59\n",
      "Epoch: 587 Loss: 0.44, Loss_test: 0.77, acc: 0.76, acc_test: 0.59\n",
      "Epoch: 588 Loss: 0.38, Loss_test: 0.75, acc: 0.79, acc_test: 0.57\n"
     ]
    },
    {
     "name": "stdout",
     "output_type": "stream",
     "text": [
      "Epoch: 589 Loss: 0.48, Loss_test: 0.74, acc: 0.77, acc_test: 0.57\n",
      "=> result saved!\n",
      "Epoch: 590 Loss: 0.45, Loss_test: 0.76, acc: 0.76, acc_test: 0.58\n",
      "Epoch: 591 Loss: 0.41, Loss_test: 0.78, acc: 0.80, acc_test: 0.56\n",
      "Epoch: 592 Loss: 0.34, Loss_test: 0.78, acc: 0.84, acc_test: 0.55\n",
      "Epoch: 593 Loss: 0.44, Loss_test: 0.79, acc: 0.80, acc_test: 0.55\n",
      "Epoch: 594 Loss: 0.37, Loss_test: 0.75, acc: 0.83, acc_test: 0.55\n",
      "Epoch: 595 Loss: 0.40, Loss_test: 0.73, acc: 0.82, acc_test: 0.55\n",
      "Epoch: 596 Loss: 0.51, Loss_test: 0.72, acc: 0.70, acc_test: 0.59\n",
      "Epoch: 597 Loss: 0.40, Loss_test: 0.71, acc: 0.83, acc_test: 0.61\n",
      "Epoch: 598 Loss: 0.46, Loss_test: 0.70, acc: 0.80, acc_test: 0.60\n",
      "Epoch: 599 Loss: 0.41, Loss_test: 0.70, acc: 0.77, acc_test: 0.58\n",
      "=> result saved!\n",
      "Epoch: 600 Loss: 0.41, Loss_test: 0.69, acc: 0.80, acc_test: 0.59\n",
      "Epoch: 601 Loss: 0.45, Loss_test: 0.68, acc: 0.78, acc_test: 0.59\n",
      "Epoch: 602 Loss: 0.39, Loss_test: 0.67, acc: 0.84, acc_test: 0.63\n",
      "Epoch: 603 Loss: 0.45, Loss_test: 0.68, acc: 0.81, acc_test: 0.62\n",
      "Epoch: 604 Loss: 0.39, Loss_test: 0.69, acc: 0.83, acc_test: 0.60\n",
      "Epoch: 605 Loss: 0.42, Loss_test: 0.71, acc: 0.80, acc_test: 0.58\n",
      "Epoch: 606 Loss: 0.42, Loss_test: 0.74, acc: 0.82, acc_test: 0.59\n",
      "Epoch: 607 Loss: 0.41, Loss_test: 0.79, acc: 0.78, acc_test: 0.57\n",
      "Epoch: 608 Loss: 0.43, Loss_test: 0.82, acc: 0.77, acc_test: 0.57\n",
      "Epoch: 609 Loss: 0.40, Loss_test: 0.80, acc: 0.85, acc_test: 0.57\n",
      "=> result saved!\n",
      "Epoch: 610 Loss: 0.42, Loss_test: 0.77, acc: 0.82, acc_test: 0.58\n",
      "Epoch: 611 Loss: 0.43, Loss_test: 0.74, acc: 0.79, acc_test: 0.59\n",
      "Epoch: 612 Loss: 0.41, Loss_test: 0.72, acc: 0.79, acc_test: 0.59\n",
      "Epoch: 613 Loss: 0.42, Loss_test: 0.71, acc: 0.82, acc_test: 0.56\n",
      "Epoch: 614 Loss: 0.45, Loss_test: 0.70, acc: 0.79, acc_test: 0.57\n",
      "Epoch: 615 Loss: 0.46, Loss_test: 0.70, acc: 0.77, acc_test: 0.59\n",
      "Epoch: 616 Loss: 0.42, Loss_test: 0.69, acc: 0.80, acc_test: 0.63\n",
      "Epoch: 617 Loss: 0.39, Loss_test: 0.68, acc: 0.85, acc_test: 0.63\n",
      "Epoch: 618 Loss: 0.37, Loss_test: 0.69, acc: 0.81, acc_test: 0.61\n",
      "Epoch: 619 Loss: 0.37, Loss_test: 0.70, acc: 0.82, acc_test: 0.62\n",
      "=> result saved!\n",
      "Epoch: 620 Loss: 0.44, Loss_test: 0.72, acc: 0.79, acc_test: 0.62\n",
      "Epoch: 621 Loss: 0.45, Loss_test: 0.70, acc: 0.74, acc_test: 0.62\n",
      "Epoch: 622 Loss: 0.48, Loss_test: 0.69, acc: 0.74, acc_test: 0.63\n",
      "Epoch: 623 Loss: 0.45, Loss_test: 0.69, acc: 0.77, acc_test: 0.61\n",
      "Epoch: 624 Loss: 0.43, Loss_test: 0.69, acc: 0.79, acc_test: 0.61\n",
      "Epoch: 625 Loss: 0.41, Loss_test: 0.70, acc: 0.80, acc_test: 0.61\n",
      "Epoch: 626 Loss: 0.45, Loss_test: 0.72, acc: 0.79, acc_test: 0.59\n",
      "Epoch: 627 Loss: 0.40, Loss_test: 0.77, acc: 0.84, acc_test: 0.57\n",
      "Epoch: 628 Loss: 0.46, Loss_test: 0.79, acc: 0.76, acc_test: 0.57\n",
      "Epoch: 629 Loss: 0.47, Loss_test: 0.78, acc: 0.77, acc_test: 0.58\n",
      "=> result saved!\n",
      "Epoch: 630 Loss: 0.35, Loss_test: 0.76, acc: 0.85, acc_test: 0.58\n",
      "Epoch: 631 Loss: 0.33, Loss_test: 0.76, acc: 0.84, acc_test: 0.57\n",
      "Epoch: 632 Loss: 0.44, Loss_test: 0.76, acc: 0.80, acc_test: 0.55\n",
      "Epoch: 633 Loss: 0.53, Loss_test: 0.76, acc: 0.73, acc_test: 0.57\n",
      "Epoch: 634 Loss: 0.34, Loss_test: 0.77, acc: 0.88, acc_test: 0.58\n",
      "Epoch: 635 Loss: 0.52, Loss_test: 0.78, acc: 0.75, acc_test: 0.59\n",
      "Epoch: 636 Loss: 0.44, Loss_test: 0.76, acc: 0.81, acc_test: 0.59\n",
      "Epoch: 637 Loss: 0.39, Loss_test: 0.74, acc: 0.82, acc_test: 0.59\n",
      "Epoch: 638 Loss: 0.44, Loss_test: 0.71, acc: 0.77, acc_test: 0.61\n",
      "Epoch: 639 Loss: 0.47, Loss_test: 0.70, acc: 0.80, acc_test: 0.60\n",
      "=> result saved!\n",
      "Epoch: 640 Loss: 0.44, Loss_test: 0.69, acc: 0.82, acc_test: 0.60\n",
      "Epoch: 641 Loss: 0.41, Loss_test: 0.68, acc: 0.81, acc_test: 0.61\n",
      "Epoch: 642 Loss: 0.47, Loss_test: 0.68, acc: 0.71, acc_test: 0.63\n",
      "Epoch: 643 Loss: 0.37, Loss_test: 0.71, acc: 0.77, acc_test: 0.59\n",
      "Epoch: 644 Loss: 0.42, Loss_test: 0.74, acc: 0.80, acc_test: 0.59\n",
      "Epoch: 645 Loss: 0.47, Loss_test: 0.72, acc: 0.77, acc_test: 0.60\n",
      "Epoch: 646 Loss: 0.38, Loss_test: 0.69, acc: 0.82, acc_test: 0.60\n",
      "Epoch: 647 Loss: 0.40, Loss_test: 0.69, acc: 0.82, acc_test: 0.62\n",
      "Epoch: 648 Loss: 0.45, Loss_test: 0.69, acc: 0.74, acc_test: 0.63\n",
      "Epoch: 649 Loss: 0.49, Loss_test: 0.69, acc: 0.75, acc_test: 0.62\n",
      "=> result saved!\n",
      "Epoch: 650 Loss: 0.43, Loss_test: 0.69, acc: 0.81, acc_test: 0.62\n",
      "Epoch: 651 Loss: 0.44, Loss_test: 0.69, acc: 0.76, acc_test: 0.61\n",
      "Epoch: 652 Loss: 0.35, Loss_test: 0.70, acc: 0.86, acc_test: 0.62\n",
      "Epoch: 653 Loss: 0.47, Loss_test: 0.68, acc: 0.78, acc_test: 0.62\n",
      "Epoch: 654 Loss: 0.43, Loss_test: 0.67, acc: 0.80, acc_test: 0.60\n",
      "Epoch: 655 Loss: 0.37, Loss_test: 0.68, acc: 0.81, acc_test: 0.61\n",
      "Epoch: 656 Loss: 0.38, Loss_test: 0.67, acc: 0.81, acc_test: 0.60\n",
      "Epoch: 657 Loss: 0.42, Loss_test: 0.69, acc: 0.81, acc_test: 0.62\n",
      "Epoch: 658 Loss: 0.43, Loss_test: 0.74, acc: 0.81, acc_test: 0.59\n",
      "Epoch: 659 Loss: 0.34, Loss_test: 0.80, acc: 0.88, acc_test: 0.57\n",
      "=> result saved!\n",
      "Epoch: 660 Loss: 0.36, Loss_test: 0.78, acc: 0.87, acc_test: 0.58\n",
      "Epoch: 661 Loss: 0.38, Loss_test: 0.74, acc: 0.83, acc_test: 0.58\n",
      "Epoch: 662 Loss: 0.43, Loss_test: 0.71, acc: 0.75, acc_test: 0.65\n",
      "Epoch: 663 Loss: 0.41, Loss_test: 0.71, acc: 0.77, acc_test: 0.64\n",
      "Epoch: 664 Loss: 0.44, Loss_test: 0.73, acc: 0.76, acc_test: 0.61\n",
      "Epoch: 665 Loss: 0.32, Loss_test: 0.78, acc: 0.86, acc_test: 0.58\n",
      "Epoch: 666 Loss: 0.37, Loss_test: 0.81, acc: 0.82, acc_test: 0.58\n",
      "Epoch: 667 Loss: 0.39, Loss_test: 0.75, acc: 0.79, acc_test: 0.59\n",
      "Epoch: 668 Loss: 0.34, Loss_test: 0.71, acc: 0.83, acc_test: 0.62\n",
      "Epoch: 669 Loss: 0.36, Loss_test: 0.69, acc: 0.86, acc_test: 0.63\n",
      "=> result saved!\n",
      "Epoch: 670 Loss: 0.40, Loss_test: 0.68, acc: 0.80, acc_test: 0.62\n",
      "Epoch: 671 Loss: 0.50, Loss_test: 0.68, acc: 0.71, acc_test: 0.61\n",
      "Epoch: 672 Loss: 0.39, Loss_test: 0.68, acc: 0.82, acc_test: 0.66\n",
      "Epoch: 673 Loss: 0.36, Loss_test: 0.68, acc: 0.82, acc_test: 0.62\n",
      "Epoch: 674 Loss: 0.45, Loss_test: 0.73, acc: 0.77, acc_test: 0.61\n",
      "Epoch: 675 Loss: 0.37, Loss_test: 0.79, acc: 0.80, acc_test: 0.61\n",
      "Epoch: 676 Loss: 0.47, Loss_test: 0.79, acc: 0.77, acc_test: 0.61\n",
      "Epoch: 677 Loss: 0.46, Loss_test: 0.74, acc: 0.74, acc_test: 0.61\n",
      "Epoch: 678 Loss: 0.44, Loss_test: 0.70, acc: 0.82, acc_test: 0.63\n",
      "Epoch: 679 Loss: 0.40, Loss_test: 0.70, acc: 0.81, acc_test: 0.63\n",
      "=> result saved!\n",
      "Epoch: 680 Loss: 0.45, Loss_test: 0.71, acc: 0.80, acc_test: 0.61\n",
      "Epoch: 681 Loss: 0.43, Loss_test: 0.76, acc: 0.76, acc_test: 0.60\n",
      "Epoch: 682 Loss: 0.37, Loss_test: 0.83, acc: 0.82, acc_test: 0.58\n",
      "Epoch: 683 Loss: 0.47, Loss_test: 0.85, acc: 0.76, acc_test: 0.58\n",
      "Epoch: 684 Loss: 0.37, Loss_test: 0.79, acc: 0.82, acc_test: 0.58\n",
      "Epoch: 685 Loss: 0.33, Loss_test: 0.72, acc: 0.85, acc_test: 0.60\n",
      "Epoch: 686 Loss: 0.46, Loss_test: 0.71, acc: 0.78, acc_test: 0.59\n",
      "Epoch: 687 Loss: 0.41, Loss_test: 0.72, acc: 0.77, acc_test: 0.58\n",
      "Epoch: 688 Loss: 0.40, Loss_test: 0.71, acc: 0.77, acc_test: 0.60\n",
      "Epoch: 689 Loss: 0.36, Loss_test: 0.70, acc: 0.84, acc_test: 0.60\n",
      "=> result saved!\n",
      "Epoch: 690 Loss: 0.35, Loss_test: 0.73, acc: 0.90, acc_test: 0.59\n",
      "Epoch: 691 Loss: 0.39, Loss_test: 0.78, acc: 0.80, acc_test: 0.57\n",
      "Epoch: 692 Loss: 0.37, Loss_test: 0.80, acc: 0.88, acc_test: 0.59\n",
      "Epoch: 693 Loss: 0.34, Loss_test: 0.76, acc: 0.84, acc_test: 0.59\n",
      "Epoch: 694 Loss: 0.44, Loss_test: 0.72, acc: 0.74, acc_test: 0.61\n",
      "Epoch: 695 Loss: 0.46, Loss_test: 0.69, acc: 0.78, acc_test: 0.60\n",
      "Epoch: 696 Loss: 0.41, Loss_test: 0.69, acc: 0.81, acc_test: 0.61\n",
      "Epoch: 697 Loss: 0.45, Loss_test: 0.69, acc: 0.79, acc_test: 0.62\n",
      "Epoch: 698 Loss: 0.36, Loss_test: 0.69, acc: 0.81, acc_test: 0.62\n",
      "Epoch: 699 Loss: 0.38, Loss_test: 0.69, acc: 0.80, acc_test: 0.61\n",
      "=> result saved!\n",
      "Epoch: 700 Loss: 0.44, Loss_test: 0.67, acc: 0.80, acc_test: 0.59\n",
      "Epoch: 701 Loss: 0.35, Loss_test: 0.66, acc: 0.83, acc_test: 0.65\n",
      "Epoch: 702 Loss: 0.44, Loss_test: 0.66, acc: 0.77, acc_test: 0.66\n",
      "Epoch: 703 Loss: 0.33, Loss_test: 0.67, acc: 0.86, acc_test: 0.66\n",
      "Epoch: 704 Loss: 0.35, Loss_test: 0.67, acc: 0.84, acc_test: 0.66\n",
      "Epoch: 705 Loss: 0.44, Loss_test: 0.67, acc: 0.83, acc_test: 0.65\n",
      "Epoch: 706 Loss: 0.30, Loss_test: 0.67, acc: 0.87, acc_test: 0.61\n",
      "Epoch: 707 Loss: 0.42, Loss_test: 0.68, acc: 0.81, acc_test: 0.62\n",
      "Epoch: 708 Loss: 0.42, Loss_test: 0.69, acc: 0.78, acc_test: 0.60\n",
      "Epoch: 709 Loss: 0.43, Loss_test: 0.71, acc: 0.80, acc_test: 0.60\n",
      "=> result saved!\n",
      "Epoch: 710 Loss: 0.39, Loss_test: 0.78, acc: 0.82, acc_test: 0.59\n"
     ]
    },
    {
     "name": "stdout",
     "output_type": "stream",
     "text": [
      "Epoch: 711 Loss: 0.38, Loss_test: 0.85, acc: 0.83, acc_test: 0.56\n",
      "Epoch: 712 Loss: 0.44, Loss_test: 0.89, acc: 0.79, acc_test: 0.56\n",
      "Epoch: 713 Loss: 0.39, Loss_test: 0.82, acc: 0.80, acc_test: 0.58\n",
      "Epoch: 714 Loss: 0.40, Loss_test: 0.77, acc: 0.82, acc_test: 0.58\n",
      "Epoch: 715 Loss: 0.40, Loss_test: 0.72, acc: 0.82, acc_test: 0.60\n",
      "Epoch: 716 Loss: 0.36, Loss_test: 0.70, acc: 0.83, acc_test: 0.60\n",
      "Epoch: 717 Loss: 0.36, Loss_test: 0.71, acc: 0.81, acc_test: 0.59\n",
      "Epoch: 718 Loss: 0.33, Loss_test: 0.74, acc: 0.80, acc_test: 0.59\n",
      "Epoch: 719 Loss: 0.47, Loss_test: 0.76, acc: 0.77, acc_test: 0.59\n",
      "=> result saved!\n",
      "Epoch: 720 Loss: 0.41, Loss_test: 0.76, acc: 0.82, acc_test: 0.58\n",
      "Epoch: 721 Loss: 0.36, Loss_test: 0.75, acc: 0.80, acc_test: 0.59\n",
      "Epoch: 722 Loss: 0.40, Loss_test: 0.73, acc: 0.80, acc_test: 0.58\n",
      "Epoch: 723 Loss: 0.36, Loss_test: 0.72, acc: 0.80, acc_test: 0.58\n",
      "Epoch: 724 Loss: 0.42, Loss_test: 0.71, acc: 0.79, acc_test: 0.58\n",
      "Epoch: 725 Loss: 0.47, Loss_test: 0.71, acc: 0.72, acc_test: 0.59\n",
      "Epoch: 726 Loss: 0.40, Loss_test: 0.72, acc: 0.83, acc_test: 0.58\n",
      "Epoch: 727 Loss: 0.43, Loss_test: 0.73, acc: 0.84, acc_test: 0.57\n",
      "Epoch: 728 Loss: 0.37, Loss_test: 0.73, acc: 0.81, acc_test: 0.57\n",
      "Epoch: 729 Loss: 0.40, Loss_test: 0.70, acc: 0.80, acc_test: 0.58\n",
      "=> result saved!\n",
      "Epoch: 730 Loss: 0.40, Loss_test: 0.67, acc: 0.79, acc_test: 0.61\n",
      "Epoch: 731 Loss: 0.44, Loss_test: 0.67, acc: 0.73, acc_test: 0.63\n",
      "Epoch: 732 Loss: 0.38, Loss_test: 0.67, acc: 0.79, acc_test: 0.63\n",
      "Epoch: 733 Loss: 0.40, Loss_test: 0.67, acc: 0.76, acc_test: 0.61\n",
      "Epoch: 734 Loss: 0.40, Loss_test: 0.70, acc: 0.82, acc_test: 0.61\n",
      "Epoch: 735 Loss: 0.34, Loss_test: 0.74, acc: 0.82, acc_test: 0.59\n",
      "Epoch: 736 Loss: 0.44, Loss_test: 0.78, acc: 0.77, acc_test: 0.57\n",
      "Epoch: 737 Loss: 0.38, Loss_test: 0.78, acc: 0.82, acc_test: 0.57\n",
      "Epoch: 738 Loss: 0.35, Loss_test: 0.78, acc: 0.83, acc_test: 0.56\n",
      "Epoch: 739 Loss: 0.37, Loss_test: 0.77, acc: 0.85, acc_test: 0.57\n",
      "=> result saved!\n",
      "Epoch: 740 Loss: 0.37, Loss_test: 0.75, acc: 0.84, acc_test: 0.58\n",
      "Epoch: 741 Loss: 0.36, Loss_test: 0.73, acc: 0.80, acc_test: 0.61\n",
      "Epoch: 742 Loss: 0.42, Loss_test: 0.72, acc: 0.81, acc_test: 0.60\n",
      "Epoch: 743 Loss: 0.32, Loss_test: 0.71, acc: 0.86, acc_test: 0.61\n",
      "Epoch: 744 Loss: 0.51, Loss_test: 0.70, acc: 0.76, acc_test: 0.61\n",
      "Epoch: 745 Loss: 0.42, Loss_test: 0.71, acc: 0.79, acc_test: 0.61\n",
      "Epoch: 746 Loss: 0.42, Loss_test: 0.72, acc: 0.78, acc_test: 0.60\n",
      "Epoch: 747 Loss: 0.49, Loss_test: 0.73, acc: 0.80, acc_test: 0.59\n",
      "Epoch: 748 Loss: 0.35, Loss_test: 0.74, acc: 0.87, acc_test: 0.59\n",
      "Epoch: 749 Loss: 0.39, Loss_test: 0.77, acc: 0.81, acc_test: 0.59\n",
      "=> result saved!\n",
      "Epoch: 750 Loss: 0.35, Loss_test: 0.83, acc: 0.86, acc_test: 0.55\n",
      "Epoch: 751 Loss: 0.39, Loss_test: 0.89, acc: 0.86, acc_test: 0.55\n",
      "Epoch: 752 Loss: 0.43, Loss_test: 0.89, acc: 0.80, acc_test: 0.55\n",
      "Epoch: 753 Loss: 0.48, Loss_test: 0.88, acc: 0.77, acc_test: 0.56\n",
      "Epoch: 754 Loss: 0.46, Loss_test: 0.85, acc: 0.79, acc_test: 0.57\n",
      "Epoch: 755 Loss: 0.48, Loss_test: 0.81, acc: 0.73, acc_test: 0.57\n",
      "Epoch: 756 Loss: 0.46, Loss_test: 0.77, acc: 0.79, acc_test: 0.57\n",
      "Epoch: 757 Loss: 0.34, Loss_test: 0.76, acc: 0.84, acc_test: 0.57\n",
      "Epoch: 758 Loss: 0.40, Loss_test: 0.74, acc: 0.84, acc_test: 0.57\n",
      "Epoch: 759 Loss: 0.44, Loss_test: 0.72, acc: 0.79, acc_test: 0.58\n",
      "=> result saved!\n",
      "Epoch: 760 Loss: 0.39, Loss_test: 0.71, acc: 0.80, acc_test: 0.58\n",
      "Epoch: 761 Loss: 0.51, Loss_test: 0.70, acc: 0.80, acc_test: 0.58\n",
      "Epoch: 762 Loss: 0.38, Loss_test: 0.71, acc: 0.79, acc_test: 0.58\n",
      "Epoch: 763 Loss: 0.40, Loss_test: 0.72, acc: 0.84, acc_test: 0.57\n",
      "Epoch: 764 Loss: 0.40, Loss_test: 0.73, acc: 0.82, acc_test: 0.57\n",
      "Epoch: 765 Loss: 0.37, Loss_test: 0.73, acc: 0.78, acc_test: 0.56\n",
      "Epoch: 766 Loss: 0.35, Loss_test: 0.74, acc: 0.84, acc_test: 0.57\n",
      "Epoch: 767 Loss: 0.39, Loss_test: 0.74, acc: 0.83, acc_test: 0.61\n",
      "Epoch: 768 Loss: 0.31, Loss_test: 0.75, acc: 0.86, acc_test: 0.58\n",
      "Epoch: 769 Loss: 0.50, Loss_test: 0.77, acc: 0.77, acc_test: 0.59\n",
      "=> result saved!\n",
      "Epoch: 770 Loss: 0.44, Loss_test: 0.76, acc: 0.82, acc_test: 0.59\n",
      "Epoch: 771 Loss: 0.37, Loss_test: 0.74, acc: 0.84, acc_test: 0.61\n",
      "Epoch: 772 Loss: 0.37, Loss_test: 0.71, acc: 0.83, acc_test: 0.62\n",
      "Epoch: 773 Loss: 0.35, Loss_test: 0.70, acc: 0.80, acc_test: 0.63\n",
      "Epoch: 774 Loss: 0.40, Loss_test: 0.70, acc: 0.84, acc_test: 0.62\n",
      "Epoch: 775 Loss: 0.44, Loss_test: 0.72, acc: 0.77, acc_test: 0.62\n",
      "Epoch: 776 Loss: 0.49, Loss_test: 0.73, acc: 0.75, acc_test: 0.62\n",
      "Epoch: 777 Loss: 0.43, Loss_test: 0.75, acc: 0.80, acc_test: 0.61\n",
      "Epoch: 778 Loss: 0.43, Loss_test: 0.75, acc: 0.80, acc_test: 0.61\n",
      "Epoch: 779 Loss: 0.45, Loss_test: 0.75, acc: 0.74, acc_test: 0.61\n",
      "=> result saved!\n",
      "Epoch: 780 Loss: 0.40, Loss_test: 0.75, acc: 0.80, acc_test: 0.59\n",
      "Epoch: 781 Loss: 0.37, Loss_test: 0.77, acc: 0.82, acc_test: 0.59\n",
      "Epoch: 782 Loss: 0.41, Loss_test: 0.77, acc: 0.81, acc_test: 0.59\n",
      "Epoch: 783 Loss: 0.46, Loss_test: 0.76, acc: 0.78, acc_test: 0.60\n",
      "Epoch: 784 Loss: 0.35, Loss_test: 0.77, acc: 0.85, acc_test: 0.59\n",
      "Epoch: 785 Loss: 0.38, Loss_test: 0.81, acc: 0.84, acc_test: 0.59\n",
      "Epoch: 786 Loss: 0.36, Loss_test: 0.84, acc: 0.85, acc_test: 0.57\n",
      "Epoch: 787 Loss: 0.44, Loss_test: 0.82, acc: 0.74, acc_test: 0.57\n",
      "Epoch: 788 Loss: 0.42, Loss_test: 0.78, acc: 0.86, acc_test: 0.59\n",
      "Epoch: 789 Loss: 0.36, Loss_test: 0.76, acc: 0.84, acc_test: 0.61\n",
      "=> result saved!\n",
      "Epoch: 790 Loss: 0.36, Loss_test: 0.76, acc: 0.83, acc_test: 0.59\n",
      "Epoch: 791 Loss: 0.37, Loss_test: 0.76, acc: 0.81, acc_test: 0.59\n",
      "Epoch: 792 Loss: 0.43, Loss_test: 0.78, acc: 0.73, acc_test: 0.59\n",
      "Epoch: 793 Loss: 0.34, Loss_test: 0.80, acc: 0.84, acc_test: 0.58\n",
      "Epoch: 794 Loss: 0.33, Loss_test: 0.79, acc: 0.84, acc_test: 0.59\n",
      "Epoch: 795 Loss: 0.39, Loss_test: 0.79, acc: 0.81, acc_test: 0.58\n",
      "Epoch: 796 Loss: 0.38, Loss_test: 0.80, acc: 0.80, acc_test: 0.56\n",
      "Epoch: 797 Loss: 0.33, Loss_test: 0.80, acc: 0.82, acc_test: 0.55\n",
      "Epoch: 798 Loss: 0.44, Loss_test: 0.79, acc: 0.82, acc_test: 0.57\n",
      "Epoch: 799 Loss: 0.41, Loss_test: 0.78, acc: 0.80, acc_test: 0.56\n",
      "=> result saved!\n",
      "Epoch: 800 Loss: 0.37, Loss_test: 0.79, acc: 0.82, acc_test: 0.56\n",
      "Epoch: 801 Loss: 0.48, Loss_test: 0.80, acc: 0.77, acc_test: 0.59\n",
      "Epoch: 802 Loss: 0.40, Loss_test: 0.82, acc: 0.80, acc_test: 0.59\n",
      "Epoch: 803 Loss: 0.31, Loss_test: 0.83, acc: 0.88, acc_test: 0.59\n",
      "Epoch: 804 Loss: 0.37, Loss_test: 0.82, acc: 0.83, acc_test: 0.59\n",
      "Epoch: 805 Loss: 0.41, Loss_test: 0.81, acc: 0.84, acc_test: 0.58\n",
      "Epoch: 806 Loss: 0.41, Loss_test: 0.79, acc: 0.80, acc_test: 0.60\n",
      "Epoch: 807 Loss: 0.34, Loss_test: 0.77, acc: 0.86, acc_test: 0.61\n",
      "Epoch: 808 Loss: 0.47, Loss_test: 0.76, acc: 0.77, acc_test: 0.61\n",
      "Epoch: 809 Loss: 0.39, Loss_test: 0.75, acc: 0.81, acc_test: 0.61\n",
      "=> result saved!\n",
      "Epoch: 810 Loss: 0.38, Loss_test: 0.78, acc: 0.76, acc_test: 0.59\n",
      "Epoch: 811 Loss: 0.42, Loss_test: 0.76, acc: 0.80, acc_test: 0.59\n",
      "Epoch: 812 Loss: 0.46, Loss_test: 0.73, acc: 0.77, acc_test: 0.61\n",
      "Epoch: 813 Loss: 0.37, Loss_test: 0.69, acc: 0.81, acc_test: 0.63\n",
      "Epoch: 814 Loss: 0.41, Loss_test: 0.69, acc: 0.79, acc_test: 0.62\n",
      "Epoch: 815 Loss: 0.36, Loss_test: 0.68, acc: 0.82, acc_test: 0.62\n",
      "Epoch: 816 Loss: 0.42, Loss_test: 0.67, acc: 0.79, acc_test: 0.63\n",
      "Epoch: 817 Loss: 0.37, Loss_test: 0.67, acc: 0.87, acc_test: 0.64\n",
      "Epoch: 818 Loss: 0.36, Loss_test: 0.69, acc: 0.82, acc_test: 0.61\n",
      "Epoch: 819 Loss: 0.42, Loss_test: 0.69, acc: 0.80, acc_test: 0.64\n",
      "=> result saved!\n",
      "Epoch: 820 Loss: 0.39, Loss_test: 0.68, acc: 0.78, acc_test: 0.60\n",
      "Epoch: 821 Loss: 0.40, Loss_test: 0.69, acc: 0.78, acc_test: 0.63\n",
      "Epoch: 822 Loss: 0.41, Loss_test: 0.70, acc: 0.80, acc_test: 0.62\n",
      "Epoch: 823 Loss: 0.39, Loss_test: 0.70, acc: 0.81, acc_test: 0.62\n",
      "Epoch: 824 Loss: 0.42, Loss_test: 0.68, acc: 0.77, acc_test: 0.64\n",
      "Epoch: 825 Loss: 0.40, Loss_test: 0.67, acc: 0.77, acc_test: 0.64\n",
      "Epoch: 826 Loss: 0.33, Loss_test: 0.68, acc: 0.84, acc_test: 0.61\n",
      "Epoch: 827 Loss: 0.39, Loss_test: 0.68, acc: 0.82, acc_test: 0.62\n",
      "Epoch: 828 Loss: 0.53, Loss_test: 0.66, acc: 0.75, acc_test: 0.64\n",
      "Epoch: 829 Loss: 0.48, Loss_test: 0.66, acc: 0.82, acc_test: 0.64\n",
      "=> result saved!\n",
      "Epoch: 830 Loss: 0.39, Loss_test: 0.66, acc: 0.79, acc_test: 0.65\n",
      "Epoch: 831 Loss: 0.41, Loss_test: 0.67, acc: 0.76, acc_test: 0.64\n",
      "Epoch: 832 Loss: 0.35, Loss_test: 0.70, acc: 0.85, acc_test: 0.61\n"
     ]
    },
    {
     "name": "stdout",
     "output_type": "stream",
     "text": [
      "Epoch: 833 Loss: 0.38, Loss_test: 0.76, acc: 0.81, acc_test: 0.59\n",
      "Epoch: 834 Loss: 0.40, Loss_test: 0.80, acc: 0.82, acc_test: 0.58\n",
      "Epoch: 835 Loss: 0.41, Loss_test: 0.81, acc: 0.82, acc_test: 0.58\n",
      "Epoch: 836 Loss: 0.44, Loss_test: 0.78, acc: 0.79, acc_test: 0.59\n",
      "Epoch: 837 Loss: 0.44, Loss_test: 0.77, acc: 0.78, acc_test: 0.61\n",
      "Epoch: 838 Loss: 0.44, Loss_test: 0.78, acc: 0.83, acc_test: 0.59\n",
      "Epoch: 839 Loss: 0.45, Loss_test: 0.78, acc: 0.81, acc_test: 0.59\n",
      "=> result saved!\n",
      "Epoch: 840 Loss: 0.39, Loss_test: 0.77, acc: 0.80, acc_test: 0.59\n",
      "Epoch: 841 Loss: 0.34, Loss_test: 0.76, acc: 0.82, acc_test: 0.60\n",
      "Epoch: 842 Loss: 0.40, Loss_test: 0.77, acc: 0.80, acc_test: 0.60\n",
      "Epoch: 843 Loss: 0.35, Loss_test: 0.76, acc: 0.83, acc_test: 0.60\n",
      "Epoch: 844 Loss: 0.37, Loss_test: 0.75, acc: 0.86, acc_test: 0.60\n",
      "Epoch: 845 Loss: 0.33, Loss_test: 0.75, acc: 0.88, acc_test: 0.60\n",
      "Epoch: 846 Loss: 0.35, Loss_test: 0.75, acc: 0.84, acc_test: 0.61\n",
      "Epoch: 847 Loss: 0.44, Loss_test: 0.75, acc: 0.74, acc_test: 0.61\n",
      "Epoch: 848 Loss: 0.37, Loss_test: 0.76, acc: 0.87, acc_test: 0.60\n",
      "Epoch: 849 Loss: 0.49, Loss_test: 0.75, acc: 0.74, acc_test: 0.59\n",
      "=> result saved!\n",
      "Epoch: 850 Loss: 0.42, Loss_test: 0.75, acc: 0.80, acc_test: 0.59\n",
      "Epoch: 851 Loss: 0.46, Loss_test: 0.75, acc: 0.73, acc_test: 0.60\n",
      "Epoch: 852 Loss: 0.41, Loss_test: 0.75, acc: 0.80, acc_test: 0.60\n",
      "Epoch: 853 Loss: 0.38, Loss_test: 0.74, acc: 0.81, acc_test: 0.62\n",
      "Epoch: 854 Loss: 0.39, Loss_test: 0.74, acc: 0.81, acc_test: 0.62\n",
      "Epoch: 855 Loss: 0.41, Loss_test: 0.74, acc: 0.77, acc_test: 0.62\n",
      "Epoch: 856 Loss: 0.47, Loss_test: 0.75, acc: 0.79, acc_test: 0.63\n",
      "Epoch: 857 Loss: 0.33, Loss_test: 0.76, acc: 0.79, acc_test: 0.63\n",
      "Epoch: 858 Loss: 0.33, Loss_test: 0.77, acc: 0.86, acc_test: 0.61\n",
      "Epoch: 859 Loss: 0.42, Loss_test: 0.78, acc: 0.80, acc_test: 0.61\n",
      "=> result saved!\n",
      "Epoch: 860 Loss: 0.35, Loss_test: 0.78, acc: 0.87, acc_test: 0.61\n",
      "Epoch: 861 Loss: 0.48, Loss_test: 0.79, acc: 0.77, acc_test: 0.62\n",
      "Epoch: 862 Loss: 0.48, Loss_test: 0.80, acc: 0.77, acc_test: 0.60\n",
      "Epoch: 863 Loss: 0.36, Loss_test: 0.80, acc: 0.83, acc_test: 0.59\n",
      "Epoch: 864 Loss: 0.32, Loss_test: 0.79, acc: 0.83, acc_test: 0.58\n",
      "Epoch: 865 Loss: 0.35, Loss_test: 0.78, acc: 0.81, acc_test: 0.59\n",
      "Epoch: 866 Loss: 0.31, Loss_test: 0.77, acc: 0.86, acc_test: 0.61\n",
      "Epoch: 867 Loss: 0.45, Loss_test: 0.76, acc: 0.76, acc_test: 0.62\n",
      "Epoch: 868 Loss: 0.40, Loss_test: 0.76, acc: 0.77, acc_test: 0.64\n",
      "Epoch: 869 Loss: 0.38, Loss_test: 0.76, acc: 0.82, acc_test: 0.65\n",
      "=> result saved!\n",
      "Epoch: 870 Loss: 0.33, Loss_test: 0.77, acc: 0.84, acc_test: 0.64\n",
      "Epoch: 871 Loss: 0.43, Loss_test: 0.77, acc: 0.80, acc_test: 0.64\n",
      "Epoch: 872 Loss: 0.41, Loss_test: 0.79, acc: 0.80, acc_test: 0.61\n",
      "Epoch: 873 Loss: 0.39, Loss_test: 0.85, acc: 0.80, acc_test: 0.58\n",
      "Epoch: 874 Loss: 0.39, Loss_test: 0.83, acc: 0.79, acc_test: 0.58\n",
      "Epoch: 875 Loss: 0.36, Loss_test: 0.82, acc: 0.84, acc_test: 0.59\n",
      "Epoch: 876 Loss: 0.43, Loss_test: 0.80, acc: 0.81, acc_test: 0.61\n",
      "Epoch: 877 Loss: 0.35, Loss_test: 0.79, acc: 0.86, acc_test: 0.59\n",
      "Epoch: 878 Loss: 0.32, Loss_test: 0.80, acc: 0.87, acc_test: 0.59\n",
      "Epoch: 879 Loss: 0.44, Loss_test: 0.80, acc: 0.77, acc_test: 0.60\n",
      "=> result saved!\n",
      "Epoch: 880 Loss: 0.41, Loss_test: 0.77, acc: 0.78, acc_test: 0.60\n",
      "Epoch: 881 Loss: 0.44, Loss_test: 0.76, acc: 0.75, acc_test: 0.60\n",
      "Epoch: 882 Loss: 0.46, Loss_test: 0.78, acc: 0.77, acc_test: 0.59\n",
      "Epoch: 883 Loss: 0.46, Loss_test: 0.79, acc: 0.76, acc_test: 0.59\n",
      "Epoch: 884 Loss: 0.41, Loss_test: 0.77, acc: 0.80, acc_test: 0.59\n",
      "Epoch: 885 Loss: 0.40, Loss_test: 0.75, acc: 0.79, acc_test: 0.61\n",
      "Epoch: 886 Loss: 0.32, Loss_test: 0.74, acc: 0.83, acc_test: 0.63\n",
      "Epoch: 887 Loss: 0.41, Loss_test: 0.74, acc: 0.78, acc_test: 0.62\n",
      "Epoch: 888 Loss: 0.42, Loss_test: 0.75, acc: 0.81, acc_test: 0.62\n",
      "Epoch: 889 Loss: 0.44, Loss_test: 0.76, acc: 0.76, acc_test: 0.61\n",
      "=> result saved!\n",
      "Epoch: 890 Loss: 0.39, Loss_test: 0.78, acc: 0.80, acc_test: 0.61\n",
      "Epoch: 891 Loss: 0.41, Loss_test: 0.78, acc: 0.77, acc_test: 0.62\n",
      "Epoch: 892 Loss: 0.33, Loss_test: 0.80, acc: 0.84, acc_test: 0.59\n",
      "Epoch: 893 Loss: 0.35, Loss_test: 0.84, acc: 0.84, acc_test: 0.57\n",
      "Epoch: 894 Loss: 0.45, Loss_test: 0.87, acc: 0.74, acc_test: 0.59\n",
      "Epoch: 895 Loss: 0.39, Loss_test: 0.88, acc: 0.85, acc_test: 0.58\n",
      "Epoch: 896 Loss: 0.36, Loss_test: 0.88, acc: 0.82, acc_test: 0.58\n",
      "Epoch: 897 Loss: 0.40, Loss_test: 0.87, acc: 0.83, acc_test: 0.58\n",
      "Epoch: 898 Loss: 0.37, Loss_test: 0.85, acc: 0.85, acc_test: 0.58\n",
      "Epoch: 899 Loss: 0.46, Loss_test: 0.83, acc: 0.80, acc_test: 0.59\n",
      "=> result saved!\n",
      "Epoch: 900 Loss: 0.31, Loss_test: 0.79, acc: 0.88, acc_test: 0.61\n"
     ]
    }
   ],
   "source": [
    "end_train = epochs - limit_train\n",
    "for epoch in range(limit_train, end_train):\n",
    "    batch_triplet_train, \\\n",
    "        train_input_sample, train_input_pos, train_input_neg, \\\n",
    "            train_sim = experiment.batch_iterator(None, baseline.train_data, baseline.dup_sets_train, \n",
    "                                                  bug_train_ids, batch_size, 1, issues_by_buckets, TRIPLET_HARD=False)\n",
    "    \n",
    "    num_batch = train_input_sample['title'].shape[0]\n",
    "    pos = np.full((1, num_batch), 1)\n",
    "    neg = np.full((1, num_batch), 0)\n",
    "    train_sim = np.concatenate([pos, neg], -1)[0]\n",
    "    \n",
    "    title_sample_a = np.concatenate([train_input_sample['title'], train_input_sample['title']], 0)\n",
    "    title_sample_b = np.concatenate([train_input_pos['title'], train_input_neg['title']], 0)\n",
    "    desc_sample_a = np.concatenate([train_input_sample['description'], train_input_sample['description']], 0)\n",
    "    desc_sample_b = np.concatenate([train_input_pos['description'], train_input_neg['description']], 0)\n",
    "    train_batch = [title_sample_a, desc_sample_a, title_sample_b, desc_sample_b]\n",
    "    \n",
    "    \n",
    "    h = similarity_model.train_on_batch(x=train_batch, y=train_sim)\n",
    "    h_validation = similarity_model.test_on_batch(x=validation_sample, y=valid_sim)\n",
    "    \n",
    "    # save results\n",
    "    result['train'].append(h)\n",
    "    result['test'].append(h_validation)\n",
    "    \n",
    "    if( (epoch+1) % 10 == 0 or (epoch+1 == limit_train) ):\n",
    "        save_loss(result)\n",
    "    \n",
    "    if (epoch+1 == epochs): #(epoch > 1 and epoch % 10 == 0) or (epoch+1 == epochs):\n",
    "        recall, exported_rank, debug = experiment.evaluate_validation_test(retrieval, verbose, bug_feature_output_a, issues_by_buckets, bug_train_ids, 'dwen')\n",
    "        print(\"Epoch: {} Loss: {:.2f}, Loss_test: {:.2f}, acc: {:.2f}, acc_tets: {:.2f}, recall@25: {:.2f}\".format(epoch+1, h[0], h_validation[0],  h[1], h_validation[1], recall))\n",
    "    else:\n",
    "        print(\"Epoch: {} Loss: {:.2f}, Loss_test: {:.2f}, acc: {:.2f}, acc_test: {:.2f}\".format(epoch+1, h[0], h_validation[0], h[1], h_validation[1]))"
   ]
  },
  {
   "cell_type": "code",
   "execution_count": 43,
   "metadata": {},
   "outputs": [
    {
     "data": {
      "text/plain": [
       "(900, 900)"
      ]
     },
     "execution_count": 43,
     "metadata": {},
     "output_type": "execute_result"
    }
   ],
   "source": [
    "len(result['train']), len(result['test'])"
   ]
  },
  {
   "cell_type": "code",
   "execution_count": 44,
   "metadata": {},
   "outputs": [],
   "source": [
    "encoded = model.get_layer('merge_features_dwen_a')\n",
    "output = encoded.output\n",
    "inputs = similarity_model.inputs[:-2]\n",
    "bug_feature_output_a = Model(inputs = inputs, outputs = output, name = 'Similarity_Model')"
   ]
  },
  {
   "cell_type": "code",
   "execution_count": 45,
   "metadata": {},
   "outputs": [
    {
     "data": {
      "text/plain": [
       "[<tf.Tensor 'title_dwen_a:0' shape=(?, 20) dtype=float32>,\n",
       " <tf.Tensor 'desc_dwen_a:0' shape=(?, 20) dtype=float32>]"
      ]
     },
     "execution_count": 45,
     "metadata": {},
     "output_type": "execute_result"
    }
   ],
   "source": [
    "inputs"
   ]
  },
  {
   "cell_type": "code",
   "execution_count": 46,
   "metadata": {},
   "outputs": [
    {
     "data": {
      "text/plain": [
       "'bert_preprocessing_baseline_dwen_1000_feature1000epochs_64batch(netbeans)'"
      ]
     },
     "execution_count": 46,
     "metadata": {},
     "output_type": "execute_result"
    }
   ],
   "source": [
    "SAVE_PATH.replace('@number_of_epochs@', str(epochs))"
   ]
  },
  {
   "cell_type": "code",
   "execution_count": 47,
   "metadata": {},
   "outputs": [
    {
     "name": "stdout",
     "output_type": "stream",
     "text": [
      "Saved model 'modelos/model_bert_preprocessing_baseline_dwen_1000_feature_1000epochs_64batch(netbeans).h5' to disk\n"
     ]
    },
    {
     "data": {
      "text/plain": [
       "'Model saved'"
      ]
     },
     "execution_count": 47,
     "metadata": {},
     "output_type": "execute_result"
    }
   ],
   "source": [
    "experiment.save_model(model, SAVE_PATH.replace('@number_of_epochs@', str(epochs)))\n",
    "experiment.save_model(bug_feature_output_a, SAVE_PATH_FEATURE.replace('@number_of_epochs@', str(epochs)), verbose=1)\n",
    "\"Model saved\""
   ]
  },
  {
   "cell_type": "code",
   "execution_count": 48,
   "metadata": {},
   "outputs": [
    {
     "name": "stdout",
     "output_type": "stream",
     "text": [
      "Epoch: 900 Loss: 0.31, Loss_test: 0.79, acc: 0.88, acc_tets: 0.61, recall@25: 0.23\n"
     ]
    }
   ],
   "source": [
    "recall, exported_rank, debug = experiment.evaluate_validation_test(retrieval, verbose, bug_feature_output_a, issues_by_buckets, bug_train_ids, 'dwen')\n",
    "print(\"Epoch: {} Loss: {:.2f}, Loss_test: {:.2f}, acc: {:.2f}, acc_tets: {:.2f}, recall@25: {:.2f}\".format(epoch+1, h[0], h_validation[0],  h[1], h_validation[1], recall))"
   ]
  },
  {
   "cell_type": "code",
   "execution_count": 49,
   "metadata": {
    "scrolled": true
   },
   "outputs": [
    {
     "data": {
      "text/plain": [
       "['131079:124863|129961:0.7989051789045334,201793:0.7869485169649124,142421:0.7846411168575287,131151:0.782379686832428,146813:0.7813627570867538,204428:0.7802116572856903,163897:0.7784573584794998,207415:0.7750187069177628,115219:0.7750032246112823,222706:0.7749059200286865,230723:0.7737482935190201,146549:0.773649737238884,48693:0.7728879749774933,210703:0.7708368897438049,181724:0.7693006545305252,114084:0.7675549238920212,212622:0.7667965888977051,213550:0.7658711075782776,145546:0.7641908824443817,195199:0.7638437449932098,211376:0.7634271383285522,139164:0.7633820474147797,205437:0.7633325904607773,132527:0.7632665634155273,188043:0.7632172405719757,137423:0.7631542533636093,96286:0.7625838369131088,179730:0.7618635296821594,42756:0.7617106586694717',\n",
       " '131082:131085|131085:0.9998834215148236,104686:0.7657334953546524,80052:0.7571474611759186,80053:0.7571474611759186,67851:0.7543981075286865,24585:0.7525992393493652,138536:0.7477124035358429,24210:0.747286856174469,67552:0.7465974688529968,192847:0.7462927401065826,124473:0.7455607354640961,168433:0.7455217838287354,29607:0.7448496520519257,40713:0.7445688843727112,149879:0.7444621920585632,110929:0.7439551651477814,115917:0.7438977658748627,93566:0.7430006563663483,65326:0.742565929889679,77055:0.7425633668899536,138795:0.7422904670238495,142998:0.7415926456451416,190710:0.7412824332714081,131166:0.7401305139064789,82930:0.7399264276027679,33480:0.7395452857017517,102826:0.7388452291488647,43395:0.7387847900390625,98052:0.7387051284313202',\n",
       " '131083:145537,124867,144649,131084,132247,129785,129786,145533,145534,143327|131084:0.9998330979724415,132247:0.9998330979724415,145533:0.9998330979724415,145534:0.9998330979724415,131086:0.9165966138243675,130059:0.8851719126105309,144649:0.8775447309017181,147776:0.8775447309017181,143148:0.8634893745183945,212976:0.8543178737163544,132512:0.853695422410965,136214:0.8529132902622223,144603:0.8515169322490692,171411:0.8509096950292587,191647:0.8501689285039902,160524:0.8493824005126953,160583:0.8493824005126953,160834:0.8493824005126953,193719:0.8489439338445663,134180:0.8483360707759857,147765:0.8478551805019379,147766:0.8478551805019379,147777:0.8478551805019379,148297:0.8478551805019379,149374:0.8478551805019379,214376:0.847695991396904,214378:0.847695991396904,139901:0.8476246297359467,193784:0.8461752831935883',\n",
       " '131084:145537,124867,144649,131083,132247,129785,129786,145533,145534,143327|131083:0.9998330979724415,132247:0.9998330979724415,145533:0.9998330979724415,145534:0.9998330979724415,131086:0.9165966138243675,130059:0.8851719126105309,144649:0.8775447309017181,147776:0.8775447309017181,143148:0.8634893745183945,212976:0.8543178737163544,132512:0.853695422410965,136214:0.8529132902622223,144603:0.8515169322490692,171411:0.8509096950292587,191647:0.8501689285039902,160524:0.8493824005126953,160583:0.8493824005126953,160834:0.8493824005126953,193719:0.8489439338445663,134180:0.8483360707759857,147765:0.8478551805019379,147766:0.8478551805019379,147777:0.8478551805019379,148297:0.8478551805019379,149374:0.8478551805019379,214376:0.847695991396904,214378:0.847695991396904,139901:0.8476246297359467,193784:0.8461752831935883',\n",
       " '131085:131082|131082:0.9998834215148236,104686:0.7657334953546524,80052:0.7571474611759186,80053:0.7571474611759186,67851:0.7543981075286865,24585:0.7525992393493652,138536:0.7477124035358429,24210:0.747286856174469,67552:0.7465974688529968,192847:0.7462927401065826,124473:0.7455607354640961,168433:0.7455217838287354,29607:0.7448496520519257,40713:0.7445688843727112,149879:0.7444621920585632,110929:0.7439551651477814,115917:0.7438977658748627,93566:0.7430006563663483,65326:0.742565929889679,77055:0.7425633668899536,138795:0.7422904670238495,142998:0.7415926456451416,190710:0.7412824332714081,131166:0.7401305139064789,82930:0.7399264276027679,33480:0.7395452857017517,102826:0.7388452291488647,43395:0.7387847900390625,98052:0.7387051284313202',\n",
       " '131086:118825,117035|131083:0.9165966138243675,131084:0.9165966138243675,132247:0.9165966138243675,145533:0.9165966138243675,145534:0.9165966138243675,130059:0.8882116675376892,213177:0.8590268641710281,212976:0.8566255271434784,143148:0.8548728078603745,132512:0.8543390780687332,139901:0.8530124872922897,214376:0.8516317307949066,214378:0.8516317307949066,144649:0.8500380516052246,147776:0.8500380516052246,136214:0.8488527238368988,142296:0.8481081426143646,144603:0.8480861932039261,134180:0.8477754145860672,160524:0.8451933115720749,160583:0.8451933115720749,160834:0.8451933115720749,172124:0.845061868429184,191647:0.8438833951950073,134189:0.8436087220907211,139640:0.8423159718513489,147264:0.8423159718513489,219391:0.8422463983297348,214550:0.8418594598770142',\n",
       " '131103:129349,131439,130960,130033,132127|225128:0.7490826845169067,46913:0.7487771511077881,202455:0.7453502118587494,17337:0.7441708445549011,44079:0.742965042591095,52918:0.7421693801879883,184066:0.7391208112239838,216322:0.7389545142650604,75953:0.7372639179229736,99477:0.736934095621109,65519:0.7347618043422699,63049:0.734520435333252,105951:0.7326134741306305,89307:0.7320201992988586,153094:0.7317114770412445,139247:0.7316690385341644,15292:0.7311153411865234,200736:0.7304992377758026,8383:0.7277118861675262,101713:0.7270118296146393,52173:0.725236177444458,79309:0.7250671982765198,45359:0.7246828675270081,160480:0.7243713438510895,72406:0.7240258157253265,115838:0.7240122556686401,57857:0.7239852845668793,178615:0.7238286435604095,162878:0.7230091989040375',\n",
       " '131126:117856,118467,118468,118469,126180,116295,116680,118634,117003,103531,131983,118351,118735,109177,129907,117299,104665,117274,117981|99569:0.7925421446561813,18659:0.7655087411403656,67988:0.7637688666582108,11723:0.7624547630548477,47031:0.7610164135694504,190503:0.7574567347764969,49691:0.7545777559280396,29430:0.7510933429002762,166648:0.7499122321605682,129943:0.7487705945968628,24201:0.7468737661838531,121494:0.7459132671356201,189257:0.7456019520759583,134723:0.7443746328353882,141032:0.7439636290073395,31919:0.7439305484294891,197115:0.7420730888843536,45850:0.7418200373649597,41087:0.7414188086986542,198447:0.7406212687492371,171782:0.740108072757721,184301:0.7393845617771149,166482:0.739287406206131,104018:0.7389816343784332,195912:0.7387346029281616,51036:0.7385276556015015,56107:0.7378580272197723,156835:0.7374199032783508,122355:0.7374071478843689',\n",
       " '131145:131146|168058:0.80716972053051,176120:0.7872942090034485,16650:0.7840344309806824,93545:0.7824612706899643,17182:0.7780600488185883,67326:0.7745738625526428,29584:0.772989884018898,8990:0.772770345211029,35233:0.7720249891281128,30235:0.7708475440740585,95936:0.7705921828746796,152129:0.7704664915800095,162148:0.7688831239938736,148723:0.7680570334196091,41828:0.7677915692329407,64613:0.7671092301607132,13377:0.7666560113430023,49285:0.7649137675762177,167375:0.7641341686248779,202526:0.7640408426523209,124418:0.7637478113174438,172139:0.763495996594429,24898:0.7630722224712372,25115:0.7626294493675232,25118:0.7626294493675232,17927:0.761808767914772,150633:0.7616380304098129,184604:0.7610677033662796,214497:0.7604220360517502',\n",
       " '131146:131145|41309:0.748362123966217,30531:0.747717410326004,97579:0.7463758289813995,39449:0.7437140941619873,143346:0.7425028681755066,82763:0.7411085069179535,190233:0.7390170097351074,69337:0.739003986120224,126858:0.7369763255119324,99674:0.7360569834709167,205380:0.7353073060512543,186897:0.7340748310089111,46062:0.7325097918510437,157751:0.7324178814888,65206:0.7320366501808167,26780:0.7316394150257111,107712:0.7299372553825378,114244:0.7297042310237885,105197:0.7292255163192749,70181:0.7285563349723816,70321:0.7285153865814209,163432:0.7282795608043671,13171:0.7274266183376312,20373:0.7271873652935028,45562:0.727157473564148,147740:0.7260885238647461,25377:0.7260851562023163,43135:0.7260773777961731,33484:0.7255609035491943',\n",
       " '131148:130987|161272:0.7891403585672379,206127:0.7816495448350906,158459:0.7809861749410629,158613:0.7809861749410629,166577:0.7809861749410629,183312:0.7770710289478302,155233:0.7765621095895767,154857:0.775216206908226,166854:0.775053009390831,183746:0.7741712927818298,89434:0.7720650136470795,149830:0.7702625393867493,117498:0.7681969404220581,156369:0.7674500793218613,124867:0.7669617235660553,129785:0.7669617235660553,129786:0.7669617235660553,154585:0.7665913701057434,155835:0.7665913701057434,68882:0.7648261040449142,158637:0.7645798921585083,157215:0.7643377780914307,157226:0.7643377780914307,159258:0.7630669921636581,160099:0.7630669921636581,155100:0.7624770998954773,158409:0.7624770998954773,162950:0.7624770998954773,160439:0.762341633439064',\n",
       " '131149:131359,131335,131153,132377,130783|136735:0.7247102558612823,236351:0.7144418656826019,144970:0.7121235430240631,102640:0.7092230319976807,120358:0.7087790668010712,74380:0.7074334919452667,183987:0.7073750793933868,195654:0.7063718736171722,58550:0.7056659758090973,183889:0.7037695944309235,217982:0.7030485272407532,212935:0.7027203142642975,91246:0.7023733556270599,141129:0.7017257809638977,214797:0.7011521458625793,215342:0.7011521458625793,49437:0.7010310292243958,49438:0.7010310292243958,206672:0.700612485408783,119432:0.7000268697738647,42171:0.6996958553791046,197815:0.6996576488018036,159764:0.6995480954647064,135202:0.6991746127605438,136457:0.6988661289215088,188738:0.6987929940223694,27912:0.6987610757350922,183381:0.6984117925167084,15795:0.6981257796287537',\n",
       " '131151:132544,131236|154199:0.8037666231393814,204428:0.8014995157718658,141992:0.7987269908189774,106827:0.7964047342538834,213443:0.795318990945816,210703:0.7930719405412674,175585:0.7917564958333969,125286:0.7909810692071915,29769:0.78984035551548,202250:0.7888877093791962,146549:0.7861235439777374,129163:0.7860084474086761,110540:0.7855069041252136,144593:0.7853814512491226,121389:0.785327360033989,149333:0.7842050939798355,125570:0.7839637100696564,233516:0.7834915220737457,175655:0.7832156866788864,152475:0.7831439673900604,218606:0.7830682396888733,109711:0.78267802298069,212622:0.7825093269348145,131079:0.782379686832428,200347:0.7821128666400909,112274:0.7806284725666046,110514:0.7806146144866943,130534:0.7801438271999359,164180:0.7795546501874924',\n",
       " '131153:131359,131335,131149,132377,130783|130783:0.8170664310455322,148458:0.8006283640861511,141497:0.7992557287216187,208369:0.7844111770391464,182993:0.7789433300495148,209650:0.771803617477417,161409:0.7689066529273987,200064:0.7676334083080292,227498:0.7655727863311768,144005:0.7651929706335068,210396:0.7642182111740112,159593:0.7639604955911636,235403:0.7639211863279343,164313:0.7592521607875824,164425:0.7592521607875824,164426:0.7592521607875824,211293:0.7582111358642578,95041:0.7579246461391449,129951:0.757492184638977,145416:0.7572243362665176,146026:0.7571351379156113,159764:0.7550252228975296,187971:0.7522091269493103,235263:0.7517815083265305,150264:0.7516499161720276,183317:0.7508212774991989,160754:0.7505966871976852,148619:0.7495509386062622,169839:0.748911589384079',\n",
       " '131166:131594|24585:0.7870745658874512,145480:0.7839494943618774,225549:0.7795686721801758,80052:0.7749527543783188,80053:0.7749527543783188,115355:0.7743789702653885,77335:0.7724614143371582,96959:0.7718940824270248,138795:0.7704497426748276,12245:0.7643439620733261,225706:0.764006033539772,15170:0.7601285874843597,32002:0.7599214315414429,214997:0.7598655074834824,149879:0.7584814131259918,225512:0.757882609963417,27997:0.7570504546165466,225618:0.7565761655569077,77055:0.756251648068428,74959:0.7561284601688385,35373:0.755050390958786,234806:0.754945307970047,38204:0.7548347264528275,18364:0.7547354251146317,63038:0.7538261562585831,24252:0.7536522299051285,178821:0.7535267323255539,168433:0.7528756856918335,175794:0.7524446099996567',\n",
       " '131170:127369,125195,113747,143350|155550:0.7267042398452759,63564:0.7031818330287933,26072:0.6984314918518066,184971:0.6976631283760071,151855:0.6962546408176422,210626:0.694538027048111,191211:0.6920566856861115,31719:0.6917558312416077,200603:0.6913809180259705,47424:0.6912485659122467,129596:0.6888233423233032,102640:0.6882922053337097,209977:0.6876426339149475,88194:0.6867738664150238,68183:0.6857108771800995,110358:0.6855885088443756,81777:0.6854847371578217,71224:0.6843973696231842,204182:0.6839872002601624,67635:0.6832182705402374,12594:0.6827306151390076,192273:0.6815932393074036,221745:0.6814188957214355,213491:0.6806980073451996,68783:0.6799858212471008,66391:0.6798160076141357,125195:0.6797864437103271,29558:0.6794124245643616,73753:0.6794105172157288',\n",
       " '131180:129163|204843:0.790424108505249,73762:0.7739729434251785,72144:0.7717408835887909,47593:0.7644916772842407,53700:0.759624570608139,220078:0.7591909617185593,123366:0.7574524432420731,17649:0.7564871609210968,175566:0.7555414587259293,180173:0.7545789033174515,192643:0.7543856799602509,29883:0.7536262422800064,157602:0.7533494979143143,72038:0.7530467212200165,72039:0.7530467212200165,124473:0.7511849850416183,116904:0.7475536167621613,76810:0.7474226951599121,161395:0.7468721568584442,91288:0.7463907599449158,88825:0.7463025450706482,25173:0.7451777458190918,114979:0.7449258267879486,34727:0.7440270483493805,15183:0.7435728311538696,84445:0.7435613870620728,74543:0.7431207597255707,221286:0.7427957355976105,69337:0.7426958680152893',\n",
       " '131192:133635,131782,131306,131759,130869,130934,131293|214556:0.8012286722660065,149105:0.7998613268136978,61586:0.7969649285078049,136477:0.793267548084259,28760:0.7906994223594666,215519:0.7903461307287216,20282:0.7900295108556747,103938:0.789588138461113,7751:0.7895332276821136,49755:0.7888408899307251,190595:0.7885082066059113,101650:0.7882189899682999,159390:0.7880324721336365,11468:0.7873998135328293,134723:0.787175863981247,134765:0.786481961607933,158549:0.7853184342384338,124418:0.7850965857505798,43393:0.7849995195865631,20281:0.7848833948373795,147620:0.784598633646965,59031:0.7843813002109528,119482:0.784149780869484,131970:0.7839848399162292,162607:0.7839455753564835,75129:0.7830680906772614,171176:0.78299380838871,19993:0.7827735841274261,64294:0.7825395911931992',\n",
       " '131197:119617,131970,127169,123908,155137,126563,120745,167562,176395,126057,122219,120880,32755,136212,126260,187290,170110|173292:0.7976526170969009,213656:0.7888970375061035,125952:0.783463329076767,190649:0.7824280709028244,186057:0.7821256518363953,34443:0.7806411981582642,177029:0.7791251838207245,34513:0.7772967219352722,190503:0.7766920328140259,81306:0.7745722979307175,116638:0.7723250687122345,67777:0.7722372859716415,16125:0.7715819180011749,31002:0.7707237154245377,192272:0.770509660243988,52628:0.7703858762979507,77739:0.769026905298233,43766:0.7687224298715591,76518:0.7686343640089035,44723:0.7680218517780304,127259:0.7677653282880783,175646:0.767594188451767,68556:0.7675401121377945,67552:0.7670574486255646,37928:0.7661626636981964,79642:0.7654053717851639,72773:0.7651278972625732,165268:0.7644859403371811,8990:0.7642568051815033',\n",
       " '131209:177304|102188:0.7555637806653976,91246:0.7412955462932587,40751:0.7408961057662964,112506:0.7308524549007416,62586:0.7304149270057678,135356:0.7291059494018555,103644:0.7273150086402893,129596:0.7270073890686035,206468:0.7247754037380219,32861:0.724654346704483,47424:0.7243579030036926,19558:0.7220510840415955,106048:0.7206920981407166,107606:0.7195903956890106,211161:0.7191389203071594,63427:0.7187061607837677,198343:0.718059778213501,232430:0.7166208028793335,63044:0.7162576913833618,73753:0.7157359719276428,178860:0.7153507769107819,14059:0.7152422368526459,71882:0.7146568298339844,18936:0.7137324512004852,176885:0.7136010229587555,26965:0.712428629398346,126164:0.7123697400093079,34824:0.7114974856376648,104428:0.7114288210868835']"
      ]
     },
     "execution_count": 49,
     "metadata": {},
     "output_type": "execute_result"
    }
   ],
   "source": [
    "exported_rank[:20]"
   ]
  },
  {
   "cell_type": "markdown",
   "metadata": {},
   "source": [
    "### Retrieval evaluation"
   ]
  },
  {
   "cell_type": "code",
   "execution_count": 50,
   "metadata": {},
   "outputs": [
    {
     "name": "stdout",
     "output_type": "stream",
     "text": [
      "Total of queries: 17002\n"
     ]
    }
   ],
   "source": [
    "print(\"Total of queries:\", len(retrieval.test))"
   ]
  },
  {
   "cell_type": "markdown",
   "metadata": {},
   "source": [
    "#### Getting the model trained"
   ]
  },
  {
   "cell_type": "code",
   "execution_count": 51,
   "metadata": {},
   "outputs": [
    {
     "data": {
      "text/plain": [
       "'bert_preprocessing_baseline_dwen_1000_feature_1000epochs_64batch(netbeans)'"
      ]
     },
     "execution_count": 51,
     "metadata": {},
     "output_type": "execute_result"
    }
   ],
   "source": [
    "SAVE_PATH_FEATURE.replace('@number_of_epochs@', str(epochs))"
   ]
  },
  {
   "cell_type": "code",
   "execution_count": 52,
   "metadata": {},
   "outputs": [
    {
     "name": "stdout",
     "output_type": "stream",
     "text": [
      "__________________________________________________________________________________________________\n",
      "Layer (type)                    Output Shape         Param #     Connected to                     \n",
      "==================================================================================================\n",
      "title_dwen_a (InputLayer)       (None, 20)           0                                            \n",
      "__________________________________________________________________________________________________\n",
      "desc_dwen_a (InputLayer)        (None, 20)           0                                            \n",
      "__________________________________________________________________________________________________\n",
      "embedding_layer_title (Embeddin (None, 20, 300)      580966500   title_dwen_a[0][0]               \n",
      "__________________________________________________________________________________________________\n",
      "embedding_layer_desc (Embedding (None, 20, 300)      580966500   desc_dwen_a[0][0]                \n",
      "__________________________________________________________________________________________________\n",
      "global_average_pooling1d_1 (Glo (None, 300)          0           embedding_layer_title[0][0]      \n",
      "__________________________________________________________________________________________________\n",
      "global_average_pooling1d_2 (Glo (None, 300)          0           embedding_layer_desc[0][0]       \n",
      "__________________________________________________________________________________________________\n",
      "merge_features_dwen_a (Average) (None, 300)          0           global_average_pooling1d_1[0][0] \n",
      "                                                                 global_average_pooling1d_2[0][0] \n",
      "==================================================================================================\n",
      "Total params: 1,161,933,000\n",
      "Trainable params: 0\n",
      "Non-trainable params: 1,161,933,000\n",
      "__________________________________________________________________________________________________\n"
     ]
    }
   ],
   "source": [
    "bug_feature_output_a.summary()"
   ]
  },
  {
   "cell_type": "code",
   "execution_count": 53,
   "metadata": {},
   "outputs": [
    {
     "data": {
      "text/plain": [
       "'data/processed/netbeans/bert/exported_rank_baseline_dwen_1000.txt'"
      ]
     },
     "execution_count": 53,
     "metadata": {},
     "output_type": "execute_result"
    }
   ],
   "source": [
    "EXPORT_RANK_PATH = os.path.join(DIR, 'exported_rank_{}.txt'.format(METHOD))\n",
    "EXPORT_RANK_PATH"
   ]
  },
  {
   "cell_type": "code",
   "execution_count": 54,
   "metadata": {},
   "outputs": [],
   "source": [
    "with open(EXPORT_RANK_PATH, 'w') as file_out:\n",
    "    for row in exported_rank:\n",
    "        file_out.write(row + \"\\n\")"
   ]
  },
  {
   "cell_type": "code",
   "execution_count": 55,
   "metadata": {},
   "outputs": [
    {
     "data": {
      "text/plain": [
       "{'1 - recall_at_5': 0.2,\n",
       " '2 - recall_at_10': 0.21,\n",
       " '3 - recall_at_15': 0.22,\n",
       " '4 - recall_at_20': 0.23,\n",
       " '5 - recall_at_25': 0.23}"
      ]
     },
     "execution_count": 55,
     "metadata": {},
     "output_type": "execute_result"
    }
   ],
   "source": [
    "report = experiment.evaluation.evaluate(EXPORT_RANK_PATH)\n",
    "report"
   ]
  }
 ],
 "metadata": {
  "accelerator": "GPU",
  "colab": {
   "collapsed_sections": [],
   "name": "[baseline] Bug triage with Deep Learning.ipynb",
   "provenance": [],
   "toc_visible": true,
   "version": "0.3.2"
  },
  "kernelspec": {
   "display_name": "Python 3",
   "language": "python",
   "name": "python3"
  },
  "language_info": {
   "codemirror_mode": {
    "name": "ipython",
    "version": 3
   },
   "file_extension": ".py",
   "mimetype": "text/x-python",
   "name": "python",
   "nbconvert_exporter": "python",
   "pygments_lexer": "ipython3",
   "version": "3.5.2"
  }
 },
 "nbformat": 4,
 "nbformat_minor": 1
}
