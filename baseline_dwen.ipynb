{
 "cells": [
  {
   "cell_type": "markdown",
   "metadata": {
    "colab_type": "text",
    "id": "PtdA1qs_UQP1"
   },
   "source": [
    "# Bug triage with Deep Learning - DWEN"
   ]
  },
  {
   "cell_type": "code",
   "execution_count": 1,
   "metadata": {},
   "outputs": [
    {
     "name": "stderr",
     "output_type": "stream",
     "text": [
      "Using TensorFlow backend.\n"
     ]
    }
   ],
   "source": [
    "import keras"
   ]
  },
  {
   "cell_type": "code",
   "execution_count": 2,
   "metadata": {
    "colab": {},
    "colab_type": "code",
    "id": "qnSCLmiomFE1"
   },
   "outputs": [],
   "source": [
    "from __future__ import print_function, division"
   ]
  },
  {
   "cell_type": "code",
   "execution_count": 3,
   "metadata": {
    "colab": {},
    "colab_type": "code",
    "id": "OIha-SERnD72"
   },
   "outputs": [],
   "source": [
    "import re\n",
    "import numpy as np\n",
    "import pandas as pd\n",
    "\n",
    "import os\n",
    "from tqdm import tqdm_notebook as tqdm\n",
    "import matplotlib.pyplot as plt\n",
    "import sys\n",
    "from annoy import AnnoyIndex\n",
    "nb_dir = os.path.split(os.getcwd())[0]\n",
    "if nb_dir not in sys.path:\n",
    "    sys.path.append(nb_dir)\n",
    "    \n",
    "%matplotlib inline"
   ]
  },
  {
   "cell_type": "code",
   "execution_count": 4,
   "metadata": {
    "colab": {
     "base_uri": "https://localhost:8080/",
     "height": 34
    },
    "colab_type": "code",
    "id": "c57gQiuAnJAe",
    "outputId": "9eaf2d3f-619a-492d-f40b-6ba2c48426fa"
   },
   "outputs": [],
   "source": [
    "from keras.layers import Conv1D, Input, Add, Activation, Dropout, Embedding, MaxPooling1D, \\\n",
    "    GlobalMaxPool1D, Flatten, Dense, Concatenate, BatchNormalization\n",
    "from keras.models import Sequential, Model\n",
    "from keras.regularizers import l2\n",
    "from keras.initializers import TruncatedNormal\n",
    "from keras.layers.advanced_activations import LeakyReLU, ELU\n",
    "from keras import optimizers"
   ]
  },
  {
   "cell_type": "code",
   "execution_count": 5,
   "metadata": {},
   "outputs": [],
   "source": [
    "from methods.baseline import Baseline\n",
    "from methods.experiments import Experiment\n",
    "from methods.evaluation import Evaluation\n",
    "from methods.retrieval import Retrieval"
   ]
  },
  {
   "cell_type": "markdown",
   "metadata": {
    "colab_type": "text",
    "id": "3VUZ6oG1gb91"
   },
   "source": [
    "## Auxiliary methods"
   ]
  },
  {
   "cell_type": "markdown",
   "metadata": {
    "colab_type": "text",
    "id": "8uQou7m2-bFO"
   },
   "source": [
    "## Configurações Globais"
   ]
  },
  {
   "cell_type": "code",
   "execution_count": 6,
   "metadata": {
    "colab": {},
    "colab_type": "code",
    "id": "G-Kn3x_K-aZj"
   },
   "outputs": [],
   "source": [
    "MAX_SEQUENCE_LENGTH_T = 20 # 40\n",
    "MAX_SEQUENCE_LENGTH_D = 100 # 200\n",
    "EMBEDDING_DIM = 300\n",
    "MAX_NB_WORDS = 20000"
   ]
  },
  {
   "cell_type": "markdown",
   "metadata": {},
   "source": [
    "### Parse bugs preproprecessed"
   ]
  },
  {
   "cell_type": "code",
   "execution_count": 7,
   "metadata": {},
   "outputs": [],
   "source": [
    "# Domain to use\n",
    "DOMAIN = 'openoffice'\n",
    "METHOD = 'baseline_dwen'\n",
    "# Dataset paths\n",
    "DIR = 'data/processed/{}'.format(DOMAIN)\n",
    "DIR_PAIRS = 'data/normalized/{}'.format(DOMAIN)\n",
    "DATASET = os.path.join('data/normalized/{}'.format(DOMAIN), '{}.csv'.format(DOMAIN))\n",
    "# Path embeddings\n",
    "EMBED_DIR='data/embed'\n",
    "# Save model\n",
    "SAVE_PATH = '{}_feature@number_of_epochs@epochs_64batch({})'.format(METHOD, DOMAIN)\n",
    "SAVE_PATH_FEATURE = '{}_feature_@number_of_epochs@epochs_64batch({})'.format(METHOD, DOMAIN)\n",
    "\n",
    "# Extract CORPUs\n",
    "EXTRACT_CORPUS = False"
   ]
  },
  {
   "cell_type": "code",
   "execution_count": 8,
   "metadata": {},
   "outputs": [],
   "source": [
    "baseline = Baseline(DIR, DATASET, MAX_SEQUENCE_LENGTH_T, MAX_SEQUENCE_LENGTH_D)\n",
    "evaluation = Evaluation(verbose=0)\n",
    "retrieval = Retrieval()\n",
    "experiment = Experiment(baseline, evaluation)"
   ]
  },
  {
   "cell_type": "code",
   "execution_count": 9,
   "metadata": {},
   "outputs": [
    {
     "name": "stdout",
     "output_type": "stream",
     "text": [
      "Creating the buckets...\n"
     ]
    },
    {
     "data": {
      "application/vnd.jupyter.widget-view+json": {
       "model_id": "d0fb860274094d5985fe239569cdbf9d",
       "version_major": 2,
       "version_minor": 0
      },
      "text/plain": [
       "HBox(children=(IntProgress(value=0, max=83503), HTML(value='')))"
      ]
     },
     "metadata": {},
     "output_type": "display_data"
    },
    {
     "name": "stdout",
     "output_type": "stream",
     "text": [
      "\n"
     ]
    },
    {
     "data": {
      "application/vnd.jupyter.widget-view+json": {
       "model_id": "d0549f39edd443399598475167a2d82c",
       "version_major": 2,
       "version_minor": 0
      },
      "text/plain": [
       "HBox(children=(IntProgress(value=0, max=14567), HTML(value='')))"
      ]
     },
     "metadata": {},
     "output_type": "display_data"
    },
    {
     "name": "stdout",
     "output_type": "stream",
     "text": [
      "\n"
     ]
    }
   ],
   "source": [
    "experiment.set_retrieval(retrieval, baseline, DOMAIN)"
   ]
  },
  {
   "cell_type": "markdown",
   "metadata": {},
   "source": [
    "#### Loading bug ids in memory"
   ]
  },
  {
   "cell_type": "code",
   "execution_count": 10,
   "metadata": {
    "scrolled": true
   },
   "outputs": [
    {
     "name": "stdout",
     "output_type": "stream",
     "text": [
      "Reading bug ids\n"
     ]
    },
    {
     "data": {
      "text/plain": [
       "98070"
      ]
     },
     "execution_count": 10,
     "metadata": {},
     "output_type": "execute_result"
    }
   ],
   "source": [
    "experiment.load_ids()\n",
    "len(baseline.bug_ids)"
   ]
  },
  {
   "cell_type": "markdown",
   "metadata": {
    "colab_type": "text",
    "id": "vqzt5EKzqzcI"
   },
   "source": [
    "#### Dicionário de títulos e descrições"
   ]
  },
  {
   "cell_type": "code",
   "execution_count": 11,
   "metadata": {
    "scrolled": true
   },
   "outputs": [
    {
     "data": {
      "application/vnd.jupyter.widget-view+json": {
       "model_id": "eeb68b1479f74d82ab3455da8e48984c",
       "version_major": 2,
       "version_minor": 0
      },
      "text/plain": [
       "HBox(children=(IntProgress(value=0, max=98070), HTML(value='')))"
      ]
     },
     "metadata": {},
     "output_type": "display_data"
    },
    {
     "name": "stdout",
     "output_type": "stream",
     "text": [
      "\n"
     ]
    },
    {
     "data": {
      "application/vnd.jupyter.widget-view+json": {
       "model_id": "2748f9b9678c4f1ca2e56ba8eba191ba",
       "version_major": 2,
       "version_minor": 0
      },
      "text/plain": [
       "HBox(children=(IntProgress(value=1, bar_style='info', max=1), HTML(value='')))"
      ]
     },
     "metadata": {},
     "output_type": "display_data"
    },
    {
     "name": "stdout",
     "output_type": "stream",
     "text": [
      "\n",
      "CPU times: user 11.8 s, sys: 858 ms, total: 12.7 s\n",
      "Wall time: 12.6 s\n"
     ]
    }
   ],
   "source": [
    "%%time\n",
    "\n",
    "experiment.load_bugs()\n",
    "len(baseline.sentence_dict)"
   ]
  },
  {
   "cell_type": "markdown",
   "metadata": {},
   "source": [
    "#### Hashing bugs by buckets"
   ]
  },
  {
   "cell_type": "code",
   "execution_count": 12,
   "metadata": {},
   "outputs": [
    {
     "data": {
      "application/vnd.jupyter.widget-view+json": {
       "model_id": "075d322995b7408dbc38495b7005bdcb",
       "version_major": 2,
       "version_minor": 0
      },
      "text/plain": [
       "HBox(children=(IntProgress(value=0, max=83503), HTML(value='')))"
      ]
     },
     "metadata": {},
     "output_type": "display_data"
    },
    {
     "name": "stdout",
     "output_type": "stream",
     "text": [
      "\n"
     ]
    }
   ],
   "source": [
    "issues_by_buckets = experiment.get_buckets_for_bugs()"
   ]
  },
  {
   "cell_type": "markdown",
   "metadata": {
    "colab_type": "text",
    "id": "a6Obtop6UIVD"
   },
   "source": [
    "#### Prepare the train and test"
   ]
  },
  {
   "cell_type": "code",
   "execution_count": 13,
   "metadata": {
    "colab": {},
    "colab_type": "code",
    "id": "vvyMGBD4IhB-",
    "scrolled": true
   },
   "outputs": [
    {
     "name": "stdout",
     "output_type": "stream",
     "text": [
      "Reading train data\n",
      "Reading bug ids\n"
     ]
    }
   ],
   "source": [
    "experiment.prepare_dataset(issues_by_buckets, path_train='train_chronological', path_test='test_chronological')\n",
    "# Read and create the test queries duplicates\n",
    "retrieval.create_queries()"
   ]
  },
  {
   "cell_type": "code",
   "execution_count": 14,
   "metadata": {},
   "outputs": [],
   "source": [
    "bug_train_ids = experiment.get_train_ids(baseline.train_data)"
   ]
  },
  {
   "cell_type": "code",
   "execution_count": 15,
   "metadata": {
    "scrolled": true
   },
   "outputs": [
    {
     "data": {
      "text/plain": [
       "{'bug_severity': '4\\n',\n",
       " 'bug_status': '2\\n',\n",
       " 'component': '129\\n',\n",
       " 'creation_ts': '2007-12-13 15:42:00 +0000',\n",
       " 'delta_ts': '2013-08-07 14:43:03 +0000',\n",
       " 'description': 'the fix of issue lets a wrong string in the undo menu appear open the organization and formatting window if not already open switch to list organization right click organization modify change anything here for example apply a bullet the undo menu shows insert organization it should be change numbering style style name',\n",
       " 'description_word': array([   2,  402,   11,   93, 3108,    4,  171,  231,    6,    2,  744,\n",
       "         145,  436,   40,    2,    3,    9,  468,  131,   42,   16,  451,\n",
       "          40,  717,    5,  147,    3,  143,  102,    3,  977,  146,  842,\n",
       "         317,   18,  214,  814,    4, 1092,    2,  744,  145,  370,  161,\n",
       "           3,   15,   65,   25,  146,  448,  167,  167,   67,    0,    0,\n",
       "           0,    0,    0,    0,    0,    0,    0,    0,    0,    0,    0,\n",
       "           0,    0,    0,    0,    0,    0,    0,    0,    0,    0,    0,\n",
       "           0,    0,    0,    0,    0,    0,    0,    0,    0,    0,    0,\n",
       "           0,    0,    0,    0,    0,    0,    0,    0,    0,    0,    0,\n",
       "           0]),\n",
       " 'dup_id': '[]',\n",
       " 'issue_id': 84546,\n",
       " 'priority': '3\\n',\n",
       " 'product': '0\\n',\n",
       " 'resolution': 'FIXED',\n",
       " 'title': 'modification of list styles shows a wrong string the undo menu',\n",
       " 'title_word': array([2836,   11,  147,  560,  370,    4,  171,  231,    2,  744,  145,\n",
       "           0,    0,    0,    0,    0,    0,    0,    0,    0]),\n",
       " 'version': '376\\n'}"
      ]
     },
     "execution_count": 15,
     "metadata": {},
     "output_type": "execute_result"
    }
   ],
   "source": [
    "idx = np.random.choice(baseline.bug_ids, 1)[0]\n",
    "baseline.bug_set[idx]"
   ]
  },
  {
   "cell_type": "markdown",
   "metadata": {},
   "source": [
    "### Generating the batch test"
   ]
  },
  {
   "cell_type": "code",
   "execution_count": 16,
   "metadata": {},
   "outputs": [
    {
     "data": {
      "text/plain": [
       "('Train ', 12268)"
      ]
     },
     "execution_count": 16,
     "metadata": {},
     "output_type": "execute_result"
    }
   ],
   "source": [
    "\"Train \", len(baseline.dup_sets_train)"
   ]
  },
  {
   "cell_type": "code",
   "execution_count": 17,
   "metadata": {
    "colab": {
     "base_uri": "https://localhost:8080/",
     "height": 51
    },
    "colab_type": "code",
    "id": "PA5CIhgz7odW",
    "outputId": "ae98fdec-1d54-4b1f-ee0e-4c5633802a18",
    "scrolled": true
   },
   "outputs": [
    {
     "name": "stdout",
     "output_type": "stream",
     "text": [
      "CPU times: user 34.7 ms, sys: 0 ns, total: 34.7 ms\n",
      "Wall time: 34.2 ms\n"
     ]
    }
   ],
   "source": [
    "%%time\n",
    "\n",
    "batch_size = 64\n",
    "batch_size_test = 128\n",
    "\n",
    "# we want a constant validation group to have a frame of reference for model performance\n",
    "batch_triplets_valid, valid_input_sample, valid_input_pos, valid_input_neg, valid_sim = baseline.batch_iterator(baseline.train_data, \n",
    "                                                                                          baseline.dup_sets_train,\n",
    "                                                                                          bug_train_ids,\n",
    "                                                                                          batch_size_test, 1)\n",
    "\n",
    "valid_title_sample_a = np.concatenate([valid_input_sample['title'], valid_input_sample['title']], 0)\n",
    "valid_title_sample_b = np.concatenate([valid_input_pos['title'], valid_input_neg['title']], 0)\n",
    "valid_desc_sample_a = np.concatenate([valid_input_sample['description'], valid_input_sample['description']], 0)\n",
    "valid_desc_sample_b = np.concatenate([valid_input_pos['description'], valid_input_neg['description']], 0)\n",
    "\n",
    "test_gen = ([valid_title_sample_a, valid_title_sample_b, valid_desc_sample_a, valid_desc_sample_b], valid_sim)\n",
    "\n",
    "# Max sequence title\n",
    "MAX_SEQUENCE_LENGTH_T = valid_input_sample['title'].shape[1]\n",
    "MAX_SEQUENCE_LENGTH_D = valid_input_sample['description'].shape[1]"
   ]
  },
  {
   "cell_type": "code",
   "execution_count": 18,
   "metadata": {},
   "outputs": [
    {
     "data": {
      "text/plain": [
       "((128, 20), (128, 100), (128,))"
      ]
     },
     "execution_count": 18,
     "metadata": {},
     "output_type": "execute_result"
    }
   ],
   "source": [
    "valid_input_sample['title'].shape, valid_input_sample['description'].shape, valid_sim.shape"
   ]
  },
  {
   "cell_type": "markdown",
   "metadata": {
    "colab_type": "text",
    "id": "24mY22BGnkqp"
   },
   "source": [
    "### Validar entrada"
   ]
  },
  {
   "cell_type": "code",
   "execution_count": 19,
   "metadata": {
    "colab": {
     "base_uri": "https://localhost:8080/",
     "height": 796
    },
    "colab_type": "code",
    "id": "OhTbr3a5nmrh",
    "outputId": "a2d73e0f-e9ce-4d12-a5c8-f0008d2402d0",
    "scrolled": true
   },
   "outputs": [
    {
     "name": "stdout",
     "output_type": "stream",
     "text": [
      "***Title***: organization is missing\n",
      "***Title***: person do not import correcty\n",
      "***Description***: look at url above autoshape is missing on ooo\n",
      "***Description***: person do not import correctly in this document from plan maker competitive comparison http www softmaker de pmwcomp en htm\n",
      "***similar = 1\n",
      "########################\n",
      "***Title***: basing autofiltering on the result set not all rows\n",
      "***Title***: list of choices from country does not update\n",
      "***Description***: this is another behavioural difference between oo and product that you may or may not wish to emulate the behaviour relates to autofiltering take as an example a sheet with number columns labeled number and number both columns have number rows containing numbers number number activate autofilter on the column headers for column number select from the autofilter dropdown list now only number row is displayed in the sheet examine the autofilter dropdown list for column number notice that all number values are displayed even though logically there is only number row in the active result set and only number possible choice for the value of column number the value given the active filtering on column number selecting anything other than the value in the number column dropdown list results in a null result no matching rows in product autofilter dropdown lists only show the possible values based on already active filtering so that it is not possible to return a null set for example in the above demonstration clicking on the number column autofilter dropdown arrow would present a list with only number item in other words product bases its autofiltering on the active result set not the original dataset table cheers person\n",
      "***Description***: i have confirmed this issue with versions and the current version as of the problem is that the autofilter result list does not update upon filtering like product does to demonstrate run the autofilter and click the combo box for column and select a filter criteria now click on the combo box for column to further filter this list now if we were using product the list of options would be limited to what remains in the filtered portion not the entire list which is unfortunately what artwork does for small spreadsheets this is not a problem but when working with a large spreadsheet and you want to see what options for column b remain after filtering by columns a in which case you would only need to look at what entries are in the combo box for column you will not be able to do so without manually skimming the cell entries this should be a relatively easy fix but one that i feel needs to be done thank you for your help person\n",
      "***similar = 1\n",
      "########################\n",
      "***Title***: impress files come up with a blank password\n",
      "***Title***: i need more than rows\n",
      "***Description***: converted a simple ppt file to ooo impress with product version of b and then made some edits saved it again and then tried to open it on a different pc running organization with b impress asked for a password hit ok and the file opened however the blank password doesn t seem to open with organization on windows i know this sounds really weird but trust me it really happend\n",
      "***Description***: i need more than rows\n",
      "***similar = 0\n",
      "########################\n",
      "***Title***: failed to load a organization document\n",
      "***Title***: losing graphics in documents\n",
      "***Description***: have a document attached as a xls created in product it is a regular sheet with some information formulas and stuff this sheet is locked when i try to open it with ooo organizationnative cz i get failed to load document document is protected with a password error message translated from nationality to language the document is not protected by password it has only a locked sheet and when i unlock the sheet in mso attached as b xls ooo opens the document ok\n",
      "***Description***: losing graphics in documents\n",
      "***similar = 0\n",
      "########################\n",
      "CPU times: user 39.8 ms, sys: 0 ns, total: 39.8 ms\n",
      "Wall time: 39.1 ms\n"
     ]
    }
   ],
   "source": [
    "%%time \n",
    "\n",
    "baseline.display_batch(baseline.train_data, baseline.dup_sets_train, bug_train_ids, 5)"
   ]
  },
  {
   "cell_type": "markdown",
   "metadata": {
    "colab_type": "text",
    "id": "XPrsLs4Kg4Pa"
   },
   "source": [
    "## Pre-trained embeddings\n",
    "\n",
    "Loading pretrained word vectors"
   ]
  },
  {
   "cell_type": "markdown",
   "metadata": {
    "colab_type": "text",
    "id": "6p9eE5TWoH7p"
   },
   "source": [
    "### Fasttext"
   ]
  },
  {
   "cell_type": "code",
   "execution_count": 20,
   "metadata": {},
   "outputs": [
    {
     "name": "stdout",
     "output_type": "stream",
     "text": [
      "vocabulary loaded\n"
     ]
    }
   ],
   "source": [
    "vocab = baseline.load_vocabulary(os.path.join(DIR, 'vocab_embed_fasttext.pkl'))\n",
    "#print(np.random.choice(vocab, 10))\n",
    "# for token in vocab:\n",
    "#     print(token)"
   ]
  },
  {
   "cell_type": "code",
   "execution_count": 21,
   "metadata": {},
   "outputs": [
    {
     "data": {
      "text/plain": [
       "'Total vocabulary: 131563'"
      ]
     },
     "execution_count": 21,
     "metadata": {},
     "output_type": "execute_result"
    }
   ],
   "source": [
    "\"Total vocabulary: {}\".format(len(vocab))"
   ]
  },
  {
   "cell_type": "code",
   "execution_count": 22,
   "metadata": {},
   "outputs": [],
   "source": [
    "import io\n",
    "\n",
    "def generating_embed(baseline, EMBED_DIR, EMBEDDING_DIM):\n",
    "    embeddings_index = {}\n",
    "    embed_path = os.path.join(EMBED_DIR, 'crawl-300d-2M.vec')\n",
    "    f = open(embed_path, 'rb')\n",
    "    f = io.open(embed_path, 'r', encoding='utf-8', newline='\\n', errors='ignore')\n",
    "    n, d = map(int, f.readline().split())\n",
    "\n",
    "    vocab = baseline.load_vocabulary(os.path.join(baseline.DIR, 'vocab_embed_fasttext.pkl'))\n",
    "    vocab_size = len(vocab) \n",
    "\n",
    "    # Initialize uniform the vector considering the Tanh activation\n",
    "    embedding_matrix = np.random.uniform(-1.0, 1.0, (vocab_size, EMBEDDING_DIM))\n",
    "    embedding_matrix[0, :] = np.zeros(EMBEDDING_DIM)\n",
    "\n",
    "    loop = tqdm(f)\n",
    "    loop.set_description(\"Loading FastText\")\n",
    "    for line in loop:\n",
    "        tokens = line.rstrip().split(' ')\n",
    "        embed = list(map(float, tokens[1:]))\n",
    "        word = tokens[0]\n",
    "        embeddings_index[word] = np.asarray(embed, dtype='float32')\n",
    "        loop.update(1)\n",
    "    f.close()\n",
    "    loop.close()\n",
    "\n",
    "    print('Total %s word vectors in FastText 42B 300d.' % len(embeddings_index))\n",
    "\n",
    "    loop = tqdm(total=vocab_size)\n",
    "    loop.set_description('Loading embedding from dataset pretrained')\n",
    "    i = 0\n",
    "    for word, embed in vocab.items():\n",
    "        if word in embeddings_index:\n",
    "            embedding_matrix[i] = embeddings_index[word]\n",
    "        else:\n",
    "            embedding_matrix[i] = np.asarray(embed, dtype='float32')\n",
    "        loop.update(1)\n",
    "        i+=1\n",
    "    loop.close()\n",
    "    baseline.embedding_matrix = embedding_matrix"
   ]
  },
  {
   "cell_type": "code",
   "execution_count": 23,
   "metadata": {
    "colab": {
     "base_uri": "https://localhost:8080/",
     "height": 85
    },
    "colab_type": "code",
    "id": "QY-ef3OGoIiq",
    "outputId": "55f4c93c-98bb-4bac-92f2-76bd3b777605"
   },
   "outputs": [
    {
     "name": "stdout",
     "output_type": "stream",
     "text": [
      "vocabulary loaded\n"
     ]
    },
    {
     "data": {
      "application/vnd.jupyter.widget-view+json": {
       "model_id": "8e6355ce05444647b3739d450f1ed192",
       "version_major": 2,
       "version_minor": 0
      },
      "text/plain": [
       "HBox(children=(IntProgress(value=1, bar_style='info', max=1), HTML(value='')))"
      ]
     },
     "metadata": {},
     "output_type": "display_data"
    },
    {
     "name": "stdout",
     "output_type": "stream",
     "text": [
      "\n",
      "Total 1999995 word vectors in FastText 42B 300d.\n"
     ]
    },
    {
     "data": {
      "application/vnd.jupyter.widget-view+json": {
       "model_id": "f927c8d271bf461c8b53afe185fa5bd0",
       "version_major": 2,
       "version_minor": 0
      },
      "text/plain": [
       "HBox(children=(IntProgress(value=0, max=131563), HTML(value='')))"
      ]
     },
     "metadata": {},
     "output_type": "display_data"
    },
    {
     "name": "stdout",
     "output_type": "stream",
     "text": [
      "\n",
      "CPU times: user 2min 10s, sys: 4.72 s, total: 2min 15s\n",
      "Wall time: 2min 12s\n"
     ]
    }
   ],
   "source": [
    "%%time\n",
    "\n",
    "generating_embed(baseline, EMBED_DIR=EMBED_DIR, EMBEDDING_DIM=EMBEDDING_DIM) # MAX_NB_WORDS=MAX_NB_WORDS"
   ]
  },
  {
   "cell_type": "markdown",
   "metadata": {},
   "source": [
    "## Experiment"
   ]
  },
  {
   "cell_type": "markdown",
   "metadata": {
    "colab_type": "text",
    "id": "Lev5Y7oaFQBd"
   },
   "source": [
    "## Propose\n",
    "\n",
    "https://github.com/tqtg/DuplicateBugFinder"
   ]
  },
  {
   "cell_type": "code",
   "execution_count": 24,
   "metadata": {},
   "outputs": [],
   "source": [
    "from keras.initializers import RandomUniform, RandomNormal, Ones"
   ]
  },
  {
   "cell_type": "markdown",
   "metadata": {},
   "source": [
    "### Embedding layer"
   ]
  },
  {
   "cell_type": "code",
   "execution_count": 25,
   "metadata": {},
   "outputs": [],
   "source": [
    "from keras.constraints import MaxNorm\n",
    "from keras.initializers import TruncatedNormal, RandomUniform\n",
    "\n",
    "# Is missing the padding_idx used in pytorch\n",
    "# https://pytorch.org/docs/stable/_modules/torch/nn/modules/sparse.html\n",
    "# https://stackoverflow.com/questions/54824768/rnn-model-gru-of-word2vec-to-regression-not-learning\n",
    "def embedding_layer(embeddings, num_words, embedding_dim, max_sequence_length, trainable, name):\n",
    "    embedding_layer = Embedding(num_words,\n",
    "                                  embedding_dim,\n",
    "                                  name='embedding_layer_{}'.format(name),\n",
    "                                  weights=[embeddings],\n",
    "                                  #input_length=max_sequence_length,\n",
    "                                  input_length=None,\n",
    "                                  trainable=trainable)\n",
    "    return embedding_layer"
   ]
  },
  {
   "cell_type": "markdown",
   "metadata": {
    "colab_type": "text",
    "id": "TEedCg5AaTf2"
   },
   "source": [
    "### DWEN model"
   ]
  },
  {
   "cell_type": "code",
   "execution_count": 26,
   "metadata": {},
   "outputs": [],
   "source": [
    "from keras.layers import concatenate, Add, Lambda, merge, Average, Maximum, Subtract, \\\n",
    "    Average, GlobalAveragePooling1D, BatchNormalization, Activation\n",
    "from keras.optimizers import Adam, Nadam\n",
    "import keras.backend as K\n",
    "\n",
    "def dwen_feature(title_feature_model, desc_feature_model, \\\n",
    "                  sequence_length_t, sequence_length_d, name):\n",
    "    bug_t = Input(shape = (sequence_length_t, ), name = 'title_{}'.format(name))\n",
    "    bug_d = Input(shape = (sequence_length_d, ), name = 'desc_{}'.format(name))\n",
    "    \n",
    "    # Embedding feature\n",
    "    bug_t_feat = title_feature_model(bug_t)\n",
    "    bug_d_feat = desc_feature_model(bug_d)\n",
    "    \n",
    "    bug_t_feat = GlobalAveragePooling1D()(bug_t_feat)\n",
    "    bug_d_feat = GlobalAveragePooling1D()(bug_d_feat)\n",
    "    \n",
    "    #bug_feature_output = Add(name = 'merge_features_{}'.format(name))([bug_i_feat, bug_t_feat, bug_d_feat])\n",
    "    bug_feature_output = Average(name = 'merge_features_{}'.format(name))([bug_t_feat, bug_d_feat])\n",
    "    \n",
    "    bug_feature_model = Model(inputs=[bug_t, bug_d], outputs=[bug_feature_output], name = 'merge_features_{}'.format(name))\n",
    "    \n",
    "    return bug_feature_model\n",
    "\n",
    "def dwen_model(bug_feature_output_a, bug_feature_output_b, name):\n",
    "    \n",
    "    inputs = np.concatenate([bug_feature_output_a.input, bug_feature_output_b.input], -1).tolist()\n",
    "    \n",
    "    bug_feature_output_a = bug_feature_output_a.output\n",
    "    bug_feature_output_b = bug_feature_output_b.output\n",
    "    \n",
    "    # 2D concatenate feature\n",
    "    bug_feature_output = concatenate([bug_feature_output_a, bug_feature_output_b])\n",
    "    \n",
    "    hidden_layers = 2\n",
    "    \n",
    "    # Deep Hidden MLPs\n",
    "    for _ in range(hidden_layers):\n",
    "        number_of_units = K.int_shape(bug_feature_output)[1]\n",
    "        bug_feature_output = Dense(number_of_units // 2)(bug_feature_output)\n",
    "#         bug_feature_output = BatchNormalization()(bug_feature_output)\n",
    "        bug_feature_output = Activation('relu')(bug_feature_output)\n",
    "        #bug_feature_output = Dropout(.5)(bug_feature_output)\n",
    "    \n",
    "     # Sigmoid\n",
    "    output = Dense(1, activation='sigmoid')(bug_feature_output)\n",
    "\n",
    "    similarity_model = Model(inputs=inputs, outputs=[output], name = 'dwen_output')\n",
    "\n",
    "    #optimizer = Nadam(lr=1e-3, beta_1=0.9, beta_2=0.999, epsilon=K.epsilon(), schedule_decay=0.01)\n",
    "    optimizer = Adam(lr=1e-3, beta_1=0.9, beta_2=0.999, epsilon=None, decay=0.0, amsgrad=True)\n",
    "\n",
    "    # setup the optimization process \n",
    "    similarity_model.compile(optimizer=optimizer, loss='binary_crossentropy', metrics=['acc'])\n",
    "    \n",
    "    return similarity_model"
   ]
  },
  {
   "cell_type": "code",
   "execution_count": 27,
   "metadata": {
    "scrolled": true
   },
   "outputs": [
    {
     "name": "stdout",
     "output_type": "stream",
     "text": [
      "__________________________________________________________________________________________________\n",
      "Layer (type)                    Output Shape         Param #     Connected to                     \n",
      "==================================================================================================\n",
      "title_dwen_a (InputLayer)       (None, 20)           0                                            \n",
      "__________________________________________________________________________________________________\n",
      "desc_dwen_a (InputLayer)        (None, 100)          0                                            \n",
      "__________________________________________________________________________________________________\n",
      "title_dwen_b (InputLayer)       (None, 20)           0                                            \n",
      "__________________________________________________________________________________________________\n",
      "desc_dwen_b (InputLayer)        (None, 100)          0                                            \n",
      "__________________________________________________________________________________________________\n",
      "embedding_layer_title (Embeddin (None, 20, 300)      39468900    title_dwen_a[0][0]               \n",
      "                                                                 title_dwen_b[0][0]               \n",
      "__________________________________________________________________________________________________\n",
      "embedding_layer_desc (Embedding (None, 100, 300)     39468900    desc_dwen_a[0][0]                \n",
      "                                                                 desc_dwen_b[0][0]                \n",
      "__________________________________________________________________________________________________\n",
      "global_average_pooling1d_1 (Glo (None, 300)          0           embedding_layer_title[0][0]      \n",
      "__________________________________________________________________________________________________\n",
      "global_average_pooling1d_2 (Glo (None, 300)          0           embedding_layer_desc[0][0]       \n",
      "__________________________________________________________________________________________________\n",
      "global_average_pooling1d_3 (Glo (None, 300)          0           embedding_layer_title[1][0]      \n",
      "__________________________________________________________________________________________________\n",
      "global_average_pooling1d_4 (Glo (None, 300)          0           embedding_layer_desc[1][0]       \n",
      "__________________________________________________________________________________________________\n",
      "merge_features_dwen_a (Average) (None, 300)          0           global_average_pooling1d_1[0][0] \n",
      "                                                                 global_average_pooling1d_2[0][0] \n",
      "__________________________________________________________________________________________________\n",
      "merge_features_dwen_b (Average) (None, 300)          0           global_average_pooling1d_3[0][0] \n",
      "                                                                 global_average_pooling1d_4[0][0] \n",
      "__________________________________________________________________________________________________\n",
      "concatenate_1 (Concatenate)     (None, 600)          0           merge_features_dwen_a[0][0]      \n",
      "                                                                 merge_features_dwen_b[0][0]      \n",
      "__________________________________________________________________________________________________\n",
      "dense_1 (Dense)                 (None, 300)          180300      concatenate_1[0][0]              \n",
      "__________________________________________________________________________________________________\n",
      "activation_1 (Activation)       (None, 300)          0           dense_1[0][0]                    \n",
      "__________________________________________________________________________________________________\n",
      "dense_2 (Dense)                 (None, 150)          45150       activation_1[0][0]               \n",
      "__________________________________________________________________________________________________\n",
      "activation_2 (Activation)       (None, 150)          0           dense_2[0][0]                    \n",
      "__________________________________________________________________________________________________\n",
      "dense_3 (Dense)                 (None, 1)            151         activation_2[0][0]               \n",
      "==================================================================================================\n",
      "Total params: 79,163,401\n",
      "Trainable params: 79,163,401\n",
      "Non-trainable params: 0\n",
      "__________________________________________________________________________________________________\n",
      "Epoch: 1 Loss: 0.69, acc: 0.55\n",
      "Epoch: 2 Loss: 0.71, acc: 0.51\n",
      "Epoch: 3 Loss: 0.71, acc: 0.49\n",
      "Epoch: 4 Loss: 0.69, acc: 0.53\n",
      "Epoch: 5 Loss: 0.69, acc: 0.50\n",
      "Epoch: 6 Loss: 0.69, acc: 0.50\n",
      "Epoch: 7 Loss: 0.69, acc: 0.52\n",
      "Epoch: 8 Loss: 0.70, acc: 0.48\n",
      "Epoch: 9 Loss: 0.69, acc: 0.51\n",
      "Epoch: 10 Loss: 0.70, acc: 0.45\n",
      "Epoch: 11 Loss: 0.69, acc: 0.49\n",
      "Epoch: 12 Loss: 0.70, acc: 0.50\n",
      "Epoch: 13 Loss: 0.69, acc: 0.55\n",
      "Epoch: 14 Loss: 0.69, acc: 0.51\n",
      "Epoch: 15 Loss: 0.68, acc: 0.57\n",
      "Epoch: 16 Loss: 0.70, acc: 0.48\n",
      "Epoch: 17 Loss: 0.69, acc: 0.50\n",
      "Epoch: 18 Loss: 0.70, acc: 0.49\n",
      "Epoch: 19 Loss: 0.69, acc: 0.51\n",
      "Epoch: 20 Loss: 0.70, acc: 0.45\n",
      "Epoch: 21 Loss: 0.69, acc: 0.46\n",
      "Epoch: 22 Loss: 0.69, acc: 0.55\n",
      "Epoch: 23 Loss: 0.70, acc: 0.51\n",
      "Epoch: 24 Loss: 0.69, acc: 0.48\n",
      "Epoch: 25 Loss: 0.69, acc: 0.52\n",
      "Epoch: 26 Loss: 0.70, acc: 0.42\n",
      "Epoch: 27 Loss: 0.69, acc: 0.52\n",
      "Epoch: 28 Loss: 0.69, acc: 0.54\n",
      "Epoch: 29 Loss: 0.69, acc: 0.54\n",
      "Epoch: 30 Loss: 0.69, acc: 0.53\n",
      "Epoch: 31 Loss: 0.69, acc: 0.55\n",
      "Epoch: 32 Loss: 0.69, acc: 0.56\n",
      "Epoch: 33 Loss: 0.69, acc: 0.52\n",
      "Epoch: 34 Loss: 0.69, acc: 0.52\n",
      "Epoch: 35 Loss: 0.70, acc: 0.51\n",
      "Epoch: 36 Loss: 0.69, acc: 0.53\n",
      "Epoch: 37 Loss: 0.70, acc: 0.52\n",
      "Epoch: 38 Loss: 0.69, acc: 0.48\n",
      "Epoch: 39 Loss: 0.69, acc: 0.45\n",
      "Epoch: 40 Loss: 0.69, acc: 0.51\n",
      "Epoch: 41 Loss: 0.69, acc: 0.59\n",
      "Epoch: 42 Loss: 0.70, acc: 0.49\n",
      "Epoch: 43 Loss: 0.69, acc: 0.54\n",
      "Epoch: 44 Loss: 0.69, acc: 0.52\n",
      "Epoch: 45 Loss: 0.70, acc: 0.50\n",
      "Epoch: 46 Loss: 0.69, acc: 0.44\n",
      "Epoch: 47 Loss: 0.69, acc: 0.55\n",
      "Epoch: 48 Loss: 0.69, acc: 0.52\n",
      "Epoch: 49 Loss: 0.69, acc: 0.51\n",
      "Epoch: 50 Loss: 0.69, acc: 0.52\n",
      "Epoch: 51 Loss: 0.69, acc: 0.52\n",
      "Epoch: 52 Loss: 0.69, acc: 0.55\n",
      "Epoch: 53 Loss: 0.69, acc: 0.56\n",
      "Epoch: 54 Loss: 0.69, acc: 0.55\n",
      "Epoch: 55 Loss: 0.68, acc: 0.55\n",
      "Epoch: 56 Loss: 0.70, acc: 0.46\n",
      "Epoch: 57 Loss: 0.68, acc: 0.57\n",
      "Epoch: 58 Loss: 0.68, acc: 0.53\n",
      "Epoch: 59 Loss: 0.69, acc: 0.55\n",
      "Epoch: 60 Loss: 0.69, acc: 0.58\n",
      "Epoch: 61 Loss: 0.68, acc: 0.58\n",
      "Epoch: 62 Loss: 0.69, acc: 0.52\n",
      "Epoch: 63 Loss: 0.69, acc: 0.55\n",
      "Epoch: 64 Loss: 0.70, acc: 0.50\n",
      "Epoch: 65 Loss: 0.69, acc: 0.55\n",
      "Epoch: 66 Loss: 0.69, acc: 0.51\n",
      "Epoch: 67 Loss: 0.69, acc: 0.59\n",
      "Epoch: 68 Loss: 0.68, acc: 0.56\n",
      "Epoch: 69 Loss: 0.68, acc: 0.59\n",
      "Epoch: 70 Loss: 0.68, acc: 0.56\n",
      "Epoch: 71 Loss: 0.70, acc: 0.50\n",
      "Epoch: 72 Loss: 0.67, acc: 0.59\n",
      "Epoch: 73 Loss: 0.69, acc: 0.51\n",
      "Epoch: 74 Loss: 0.69, acc: 0.54\n",
      "Epoch: 75 Loss: 0.69, acc: 0.56\n",
      "Epoch: 76 Loss: 0.69, acc: 0.50\n",
      "Epoch: 77 Loss: 0.69, acc: 0.55\n",
      "Epoch: 78 Loss: 0.68, acc: 0.53\n",
      "Epoch: 79 Loss: 0.70, acc: 0.48\n",
      "Epoch: 80 Loss: 0.69, acc: 0.48\n",
      "Epoch: 81 Loss: 0.70, acc: 0.50\n",
      "Epoch: 82 Loss: 0.69, acc: 0.52\n",
      "Epoch: 83 Loss: 0.70, acc: 0.46\n",
      "Epoch: 84 Loss: 0.69, acc: 0.50\n",
      "Epoch: 85 Loss: 0.70, acc: 0.51\n",
      "Epoch: 86 Loss: 0.70, acc: 0.48\n",
      "Epoch: 87 Loss: 0.69, acc: 0.52\n",
      "Epoch: 88 Loss: 0.69, acc: 0.49\n",
      "Epoch: 89 Loss: 0.69, acc: 0.48\n",
      "Epoch: 90 Loss: 0.69, acc: 0.49\n",
      "Epoch: 91 Loss: 0.70, acc: 0.48\n",
      "Epoch: 92 Loss: 0.69, acc: 0.53\n",
      "Epoch: 93 Loss: 0.70, acc: 0.50\n",
      "Epoch: 94 Loss: 0.69, acc: 0.53\n",
      "Epoch: 95 Loss: 0.69, acc: 0.50\n",
      "Epoch: 96 Loss: 0.69, acc: 0.49\n",
      "Epoch: 97 Loss: 0.69, acc: 0.57\n",
      "Epoch: 98 Loss: 0.69, acc: 0.46\n",
      "Epoch: 99 Loss: 0.69, acc: 0.52\n",
      "Epoch: 100 Loss: 0.70, acc: 0.48, recall@25: 0.22\n",
      "Saved model 'modelos/model_baseline_dwen_feature_100epochs_64batch(openoffice).h5' to disk\n",
      "Best_epoch=72, Best_loss=0.67, Recall@25=0.22\n",
      "CPU times: user 1min 22s, sys: 5.48 s, total: 1min 27s\n",
      "Wall time: 1min 29s\n"
     ]
    }
   ],
   "source": [
    "%%time\n",
    "\n",
    "# Inspired on https://'pastebin.com/TaGFdcBA\n",
    "# TODO: https://stackoverflow.com/questions/49941903/keras-compute-cosine-distance-between-two-flattened-outputs\n",
    "keras.backend.clear_session()\n",
    "\n",
    "# Clear GPU memory\n",
    "# from numba import cuda\n",
    "# cuda.select_device(0)\n",
    "# cuda.close()\n",
    "\n",
    "# Embeddings\n",
    "desc_embedding_layer = embedding_layer(embeddings=baseline.embedding_matrix, \n",
    "                              num_words=len(baseline.embedding_matrix), \n",
    "                              embedding_dim=EMBEDDING_DIM, \n",
    "                              max_sequence_length=MAX_SEQUENCE_LENGTH_D, \n",
    "                              trainable=True, name='desc')\n",
    "title_embedding_layer = embedding_layer(embeddings=baseline.embedding_matrix, \n",
    "                              num_words=len(baseline.embedding_matrix), \n",
    "                              embedding_dim=EMBEDDING_DIM, \n",
    "                              max_sequence_length=MAX_SEQUENCE_LENGTH_T, \n",
    "                              trainable=True, name='title')\n",
    "\n",
    "# Similarity model\n",
    "bug_feature_output_a = dwen_feature(title_embedding_layer, desc_embedding_layer, \n",
    "                                    MAX_SEQUENCE_LENGTH_T, MAX_SEQUENCE_LENGTH_D, 'dwen_a')\n",
    "bug_feature_output_b = dwen_feature(title_embedding_layer, desc_embedding_layer, \n",
    "                                    MAX_SEQUENCE_LENGTH_T, MAX_SEQUENCE_LENGTH_D, 'dwen_b')\n",
    "similarity_model = dwen_model(bug_feature_output_a, bug_feature_output_b, 'dwen')\n",
    "\n",
    "# cnn_feature_model.summary()\n",
    "# lstm_feature_model.summary()\n",
    "similarity_model.summary()\n",
    "\n",
    "\n",
    "'''\n",
    "    Configuration\n",
    "'''\n",
    "epochs = 100\n",
    "best_loss = float('inf')\n",
    "best_epoch = 0\n",
    "verbose = 0\n",
    "loss = 0\n",
    "\n",
    "'''\n",
    "    Experiment\n",
    "'''\n",
    "for epoch in range(epochs):\n",
    "    batch_triplet_train, \\\n",
    "        train_input_sample, train_input_pos, train_input_neg, \\\n",
    "            train_sim = baseline.batch_iterator(baseline.train_data, baseline.dup_sets_train, bug_train_ids, batch_size, 1)\n",
    "    \n",
    "    num_batch = train_input_sample['title'].shape[0]\n",
    "    pos = np.full((1, num_batch), 1)\n",
    "    neg = np.full((1, num_batch), 0)\n",
    "    train_sim = np.concatenate([pos, neg], -1)[0]\n",
    "    \n",
    "    title_sample_a = np.concatenate([train_input_sample['title'], train_input_sample['title']], 0)\n",
    "    title_sample_b = np.concatenate([train_input_pos['title'], train_input_neg['title']], 0)\n",
    "    desc_sample_a = np.concatenate([train_input_sample['description'], train_input_sample['description']], 0)\n",
    "    desc_sample_b = np.concatenate([train_input_pos['description'], train_input_neg['description']], 0)\n",
    "    train_batch = [title_sample_a, desc_sample_a, title_sample_b, desc_sample_b]\n",
    "    \n",
    "    \n",
    "    h = similarity_model.train_on_batch(x=train_batch, y=train_sim)\n",
    "    \n",
    "    if (epoch+1 == epochs): #(epoch > 1 and epoch % 10 == 0) or (epoch+1 == epochs):\n",
    "        recall, _, debug = experiment.evaluate_validation_test(retrieval, verbose, bug_feature_output_a, issues_by_buckets, \n",
    "                                                        bug_train_ids, 'dwen')\n",
    "        print(\"Epoch: {} Loss: {:.2f}, acc: {:.2f}, recall@25: {:.2f}\".format(epoch+1, h[0],  h[1], recall))\n",
    "    else:\n",
    "        print(\"Epoch: {} Loss: {:.2f}, acc: {:.2f}\".format(epoch+1, h[0],  h[1]))\n",
    "    \n",
    "    loss = h[0]\n",
    "    \n",
    "    if loss < best_loss:\n",
    "        best_loss = loss\n",
    "        best_epoch = epoch+1\n",
    "\n",
    "experiment.save_model(similarity_model, SAVE_PATH.replace('@number_of_epochs@', str(epochs)))\n",
    "experiment.save_model(bug_feature_output_a, SAVE_PATH_FEATURE.replace('@number_of_epochs@', str(epochs)), verbose=1)\n",
    "print('Best_epoch={}, Best_loss={:.2f}, Recall@25={:.2f}'.format(best_epoch, best_loss, recall))"
   ]
  },
  {
   "cell_type": "code",
   "execution_count": 28,
   "metadata": {
    "scrolled": true
   },
   "outputs": [
    {
     "data": {
      "text/plain": [
       "['108544:111059,109674,108379,109366|94463:0.9235278144478798,96739:0.9233247712254524,93900:0.919052854180336,112422:0.9171351566910744,93307:0.9164236932992935,98768:0.9138113707304001,106589:0.9129436984658241,94948:0.9126986116170883,100511:0.9125041961669922,112201:0.9121172726154327,120337:0.9120121374726295,88894:0.911839947104454,117110:0.9115798324346542,115685:0.9115658849477768,123556:0.9115334823727608,91543:0.9106948152184486,94308:0.9100524485111237,123600:0.9099359810352325,90843:0.9098626524209976,97014:0.908508837223053,115634:0.9080507159233093,122613:0.9079797193408012,103821:0.9073458760976791,119585:0.9059890434145927,97095:0.9059795364737511,123045:0.9058895781636238,113219:0.905673585832119,91883:0.9053450971841812,115520:0.9037442803382874',\n",
       " '109674:108544,111059,108379,109366|110709:0.8292494714260101,115201:0.8244704157114029,110692:0.8200980722904205,111193:0.8181802928447723,108745:0.8159425556659698,110230:0.8156526535749435,114166:0.8145855516195297,93076:0.8136516362428665,122148:0.8113022595643997,115569:0.8101410418748856,92890:0.8096095621585846,45851:0.8080688565969467,120563:0.8076000362634659,118846:0.8071965426206589,123087:0.8070837110280991,105955:0.8061684519052505,113089:0.8061545044183731,93719:0.8061375916004181,115898:0.806103453040123,101837:0.8057350069284439,115180:0.8055952489376068,101633:0.8039696216583252,102000:0.8027470409870148,119738:0.8025772869586945,93913:0.8024203330278397,97918:0.8015012592077255,96317:0.8011380583047867,99047:0.8004268556833267,117027:0.8004266172647476',\n",
       " '111059:108544,109674,108379,109366|102106:0.7330749332904816,97736:0.7151831388473511,114786:0.7146759331226349,109366:0.7129884362220764,120037:0.7129531502723694,108943:0.7120253443717957,89453:0.7118457555770874,94253:0.7118089497089386,110958:0.7111194431781769,98549:0.7096463441848755,90198:0.7096308767795563,116986:0.706695944070816,105209:0.7058911621570587,121783:0.7054799199104309,113149:0.7050862610340118,100281:0.7044506669044495,116505:0.7044200897216797,108035:0.7038968801498413,111583:0.7029106020927429,103478:0.702663004398346,100149:0.7021219432353973,105461:0.7000245749950409,112598:0.6990940272808075,103043:0.6990149021148682,89314:0.6989086270332336,101783:0.69819176197052,92270:0.6974540948867798,90967:0.6971447467803955,98287:0.6970615386962891',\n",
       " '108379:108544,111059,109674,109366|108544:0.930170550942421,96739:0.9159742668271065,93900:0.9141423851251602,112422:0.909788466989994,93307:0.9086538925766945,117110:0.9065707176923752,100511:0.9065250679850578,94463:0.9043420553207397,106589:0.9031925275921822,115685:0.9026621878147125,88894:0.9012683928012848,97014:0.9008365198969841,123556:0.9007060080766678,98768:0.9004695788025856,112201:0.8996056094765663,120337:0.8990851640701294,122613:0.8986786678433418,119585:0.8983563408255577,91543:0.8973726630210876,95380:0.8968289270997047,94308:0.8966203704476357,91495:0.8965655565261841,93607:0.8964476585388184,97095:0.8950924426317215,103821:0.8950769379734993,115634:0.894947960972786,105230:0.8948828130960464,90843:0.8945968821644783,91883:0.894566185772419,106713:0.8935929834842682',\n",
       " '109366:108544,111059,109674,108379|98287:0.7606171220541,92672:0.7603351920843124,95028:0.7595999538898468,117159:0.7594340145587921,102632:0.7587161660194397,94253:0.7580278515815735,97736:0.7577800154685974,108002:0.757223829627037,116986:0.7536680996417999,120037:0.7535914182662964,106568:0.7524074167013168,105527:0.7521249949932098,95268:0.7520777732133865,119993:0.7495345175266266,90742:0.749168872833252,91390:0.7484990358352661,103633:0.7482940554618835,102921:0.7480320036411285,100281:0.7455767095088959,108035:0.745483011007309,99842:0.7449298799037933,103043:0.7439427077770233,102106:0.7436952292919159,102484:0.7425664067268372,90198:0.7409951686859131,90612:0.7395699620246887,110958:0.7389170527458191,110922:0.738864004611969,106234:0.7378365397453308',\n",
       " '110594:107073,108355,108453,109162,111761,111800|111761:0.7236970961093903,107073:0.699580043554306,90949:0.6966935694217682,93562:0.6963410079479218,95854:0.694915384054184,94253:0.6940288245677948,123025:0.6936856508255005,109853:0.6898989379405975,95341:0.6893822550773621,87935:0.6891039311885834,114786:0.6890924870967865,100604:0.6890915334224701,110637:0.6874465048313141,97956:0.6870006620883942,104564:0.686258465051651,102225:0.6861967742443085,121629:0.685277909040451,94007:0.6848491728305817,92385:0.6846192479133606,113585:0.6843046247959137,119437:0.6841934323310852,123017:0.6838691532611847,107249:0.6828913390636444,99842:0.682843416929245,108138:0.6827082931995392,89851:0.6823035180568695,107209:0.682300865650177,113047:0.6821430623531342,97568:0.6819715797901154',\n",
       " '111800:107073,110594,108355,108453,109162,111761|102978:0.8395979553461075,102522:0.839005172252655,106625:0.8383785784244537,99082:0.8328222930431366,122864:0.8316764831542969,108423:0.8312636613845825,102832:0.8294738680124283,99672:0.828400045633316,108390:0.8276404738426208,114810:0.8271042704582214,103502:0.8266602903604507,94512:0.826138436794281,112272:0.8260333389043808,104278:0.823706179857254,94542:0.8234520107507706,105084:0.8233029842376709,114938:0.8228158801794052,103387:0.8223316371440887,120059:0.8220668584108353,118155:0.8218540400266647,123322:0.821769192814827,89371:0.8217039406299591,122345:0.8205042034387589,105739:0.8204838186502457,98033:0.8203629702329636,109568:0.8201322853565216,96452:0.819926381111145,111908:0.8193439245223999,89143:0.8192857056856155,113440:0.8192153871059418',\n",
       " '111761:107073,110594,108355,108453,109162,111800|107073:0.7305865287780762,110594:0.7236970961093903,123025:0.7214964628219604,103423:0.7199888229370117,97809:0.7177586555480957,122567:0.7170079052448273,95341:0.7168022692203522,97568:0.7136609256267548,92385:0.7131389677524567,101114:0.7129303514957428,106520:0.7124146223068237,92432:0.7120625078678131,119354:0.7112700045108795,104237:0.7107111513614655,108591:0.7101283967494965,102081:0.709542840719223,91552:0.7084814012050629,122951:0.7082563042640686,103110:0.7079899907112122,100091:0.7073487639427185,122093:0.7073267698287964,99182:0.7070029973983765,110637:0.7066582143306732,119255:0.7061423659324646,87935:0.705886960029602,104098:0.7057785391807556,123005:0.7051932513713837,94007:0.7043457925319672,114596:0.7043456137180328',\n",
       " '109162:107073,110594,108355,108453,111761,111800|95240:0.8413827270269394,97337:0.8314442038536072,122148:0.8280858397483826,97918:0.8274184465408325,99915:0.8266156762838364,113856:0.8258593678474426,92000:0.8247008621692657,100827:0.8246969729661942,117356:0.8244157284498215,120360:0.8232688158750534,108624:0.8219079077243805,92613:0.8218881785869598,91063:0.8214789032936096,100934:0.8212199360132217,102342:0.820902094244957,112572:0.818526566028595,98169:0.8168925642967224,101159:0.8167437613010406,117642:0.8158726692199707,34543:0.8157804161310196,119177:0.8156875371932983,117405:0.8156114369630814,105166:0.8150146007537842,95007:0.8136113286018372,102454:0.8132152110338211,99603:0.8130371272563934,113739:0.8130012452602386,92582:0.8128679543733597,107741:0.8127006739377975',\n",
       " '108355:107073,110594,108453,109162,111761,111800|122345:0.8063893765211105,114810:0.8046742379665375,123322:0.799651026725769,123343:0.7996339797973633,123752:0.7979140132665634,90306:0.7953353822231293,103502:0.7952653467655182,118155:0.7941649109125137,120059:0.7936740964651108,99954:0.7935263365507126,92543:0.7922243475914001,110657:0.792028471827507,123556:0.7916163355112076,94308:0.7906031608581543,103810:0.7904723733663559,109568:0.7901259362697601,96950:0.7900870442390442,103992:0.7900332063436508,105149:0.7898039817810059,116991:0.7897617965936661,99082:0.789569765329361,99672:0.7891375869512558,98729:0.7889678180217743,105739:0.7887225598096848,108423:0.7877246737480164,113351:0.7876688241958618,104856:0.7875780165195465,104278:0.7875195294618607,102978:0.7873781323432922,122146:0.7872297614812851',\n",
       " '108453:107073,110594,108355,109162,111761,111800|99672:0.8535090982913971,104278:0.8530218303203583,120059:0.8525703549385071,94542:0.851158082485199,122864:0.8500363528728485,99082:0.8480439186096191,109568:0.8473182767629623,105149:0.8463600277900696,103992:0.8456302732229233,115520:0.8454224616289139,113915:0.8451014906167984,103387:0.8450159579515457,106721:0.843511700630188,97707:0.8433972895145416,105739:0.8425168991088867,123343:0.8421919792890549,57538:0.8411001265048981,71739:0.8410343676805496,106625:0.8402773588895798,104170:0.8402386903762817,102522:0.8400712162256241,98033:0.8398603647947311,113351:0.8396575152873993,118155:0.8392339795827866,102978:0.8390108793973923,112272:0.8388368189334869,96452:0.8386655002832413,108423:0.8385696709156036,118163:0.8378704190254211,105084:0.8373610526323318',\n",
       " '114705:114676|115520:0.8369819819927216,123322:0.8351459354162216,100609:0.8298482149839401,116991:0.8297787010669708,100010:0.8293738961219788,106962:0.8293711841106415,118155:0.8291391283273697,105084:0.8288135081529617,103502:0.8283148258924484,96787:0.8261906504631042,108390:0.8260423839092255,95114:0.8260144144296646,105931:0.8259326815605164,98768:0.824889600276947,109568:0.8246575146913528,100023:0.8244277238845825,94308:0.8243635594844818,100715:0.8233407884836197,103992:0.8232745379209518,91883:0.8231198489665985,123600:0.8230226784944534,96739:0.8223109096288681,123556:0.8220496326684952,118163:0.822043240070343,122864:0.8220314532518387,114123:0.8216933310031891,105739:0.8215087801218033,104278:0.8214795291423798,90306:0.8211797028779984,94542:0.8207902014255524',\n",
       " '114676:114705|115685:0.8945540189743042,105230:0.8941206634044647,112422:0.8934146389365196,96739:0.8932520225644112,94308:0.892554759979248,111908:0.8924196735024452,100511:0.8918824046850204,88894:0.8914692997932434,94463:0.8912820890545845,105931:0.889714702963829,117110:0.88865577429533,120337:0.8878119140863419,120944:0.8876749128103256,95380:0.887583538889885,90843:0.8873892202973366,93307:0.8872542977333069,123556:0.8871695026755333,93900:0.8871470093727112,123045:0.8866591081023216,123343:0.886159710586071,102386:0.8859001845121384,94948:0.8858602568507195,91543:0.8858012408018112,108544:0.8848214522004128,115520:0.8847675621509552,91883:0.8844920843839645,115634:0.883798636496067,108390:0.8836474418640137,106713:0.8832849785685539,97095:0.883150689303875',\n",
       " '110593:110618|95191:0.4280998706817627,106903:0.39693403244018555,94900:0.37439656257629395,88636:0.36701804399490356,98753:0.3645845055580139,109081:0.35427409410476685,109535:0.3517880439758301,99428:0.3514876961708069,123265:0.34970927238464355,111452:0.3489317297935486,113724:0.3475916385650635,92710:0.3463935852050781,121504:0.34603381156921387,99640:0.34580475091934204,102298:0.3456267714500427,103541:0.3446996212005615,114525:0.3446546792984009,91195:0.3413836359977722,100342:0.340912401676178,99847:0.3400699496269226,107779:0.33820027112960815,107395:0.3371165990829468,103007:0.33596301078796387,110444:0.3357965350151062,98331:0.3354974389076233,102483:0.3349645733833313,95892:0.3342874050140381,115636:0.3332245945930481,111202:0.3329744338989258',\n",
       " '110618:110593|95122:0.7376410961151123,102380:0.7156941294670105,111521:0.7074276208877563,91661:0.705879271030426,115636:0.6990535259246826,94373:0.6916603147983551,91990:0.6912310421466827,97221:0.6900739967823029,102580:0.6889156699180603,106929:0.6856323182582855,56891:0.6855027675628662,107293:0.6846967041492462,92735:0.6838943958282471,104195:0.6838615536689758,101552:0.6826238036155701,111502:0.6825173199176788,113631:0.6821155846118927,116263:0.6789978444576263,99162:0.6766031384468079,112744:0.6763664782047272,121551:0.675683468580246,111673:0.6755257546901703,114440:0.6732220947742462,110274:0.6726864874362946,96187:0.6721702516078949,88677:0.6685374081134796,98686:0.6683897078037262,115825:0.6682293713092804,91179:0.6676336824893951',\n",
       " '102409:102053|118155:0.8292919546365738,117454:0.8245217055082321,113271:0.8236632347106934,97503:0.8229458332061768,120059:0.821259081363678,105739:0.8209230154752731,104170:0.8207918703556061,106625:0.8205262720584869,94557:0.8195028752088547,71739:0.8189603984355927,123343:0.8182887732982635,90306:0.8180563747882843,102978:0.8176952600479126,97707:0.8175900280475616,108544:0.8173128217458725,106962:0.8169662058353424,112272:0.8166903108358383,102522:0.8165639638900757,123322:0.815749391913414,115520:0.8150606602430344,105149:0.8148463517427444,118163:0.8140356689691544,101179:0.813927486538887,94542:0.813697338104248,91883:0.8135823905467987,99082:0.8133408278226852,98768:0.8130930811166763,111104:0.8123392909765244,113219:0.8122943192720413,99874:0.8121120482683182',\n",
       " '102053:102409|123548:0.8640925288200378,103951:0.8508587032556534,103387:0.8416738063097,114280:0.8370534032583237,108961:0.8366375714540482,102755:0.8360703587532043,113440:0.8352380394935608,106625:0.8343404829502106,105739:0.8334719687700272,119438:0.8328494429588318,119634:0.831596702337265,99874:0.8304846882820129,120340:0.8287735134363174,105961:0.8263903558254242,101930:0.8263634443283081,102595:0.8263483047485352,115237:0.8246651291847229,115182:0.8243631422519684,113219:0.8242966532707214,95114:0.822440892457962,113258:0.8214492648839951,123899:0.8209349364042282,120176:0.8204008787870407,96888:0.8198038637638092,108423:0.8191564232110977,111104:0.8171922862529755,95421:0.8168728351593018,103575:0.8163433521986008,121770:0.8160936683416367,98147:0.8159699589014053',\n",
       " '110604:110612|112422:0.9144752323627472,93900:0.9127924740314484,117110:0.9112218543887138,96739:0.908851757645607,94463:0.9083407670259476,91543:0.907491609454155,100511:0.9074862524867058,93307:0.9067772030830383,123556:0.9066070541739464,88894:0.9062714204192162,122613:0.9059552103281021,120337:0.9045969769358635,106713:0.9044220298528671,98768:0.9042097926139832,94308:0.9039337188005447,95380:0.9034314826130867,112201:0.9031858816742897,119585:0.9025055766105652,115685:0.902363084256649,94953:0.901537761092186,97095:0.9015184715390205,105230:0.9009858593344688,108544:0.8997099250555038,123343:0.8995139375329018,94924:0.8989965692162514,91883:0.8985386043787003,94948:0.8979572206735611,106589:0.8976443111896515,115520:0.8972502946853638',\n",
       " '110612:110604|108675:0.8663510978221893,95380:0.8651658892631531,108390:0.86321721971035,121770:0.8631306290626526,94308:0.8618747144937515,106713:0.8595455437898636,106143:0.8590306043624878,98768:0.8586613237857819,94953:0.8584972769021988,102595:0.8580984175205231,123045:0.8578674793243408,90843:0.8556927144527435,105511:0.8545924872159958,119585:0.85434490442276,117572:0.8539583683013916,119438:0.8539424538612366,102883:0.8536381721496582,123600:0.8535998612642288,100511:0.8530076742172241,117110:0.8526318371295929,96888:0.852037712931633,115520:0.8509632349014282,110604:0.8507537692785263,97095:0.8507067561149597,97142:0.8506713509559631,93900:0.8499190807342529,105230:0.8498490899801254,99254:0.8497581481933594,112422:0.8496355265378952,88894:0.849626436829567',\n",
       " '116738:116938,117027|112039:0.8656795918941498,100147:0.8593343794345856,100715:0.8561378568410873,93311:0.8549538105726242,115520:0.8541988283395767,118057:0.8502686768770218,105931:0.8500753492116928,122864:0.8496024012565613,114280:0.8491287082433701,97142:0.8491146266460419,114123:0.848762258887291,94308:0.8486858159303665,90843:0.8478963971138,100010:0.8478725701570511,94924:0.8470847010612488,119438:0.8469392359256744,57538:0.8468733429908752,106713:0.8468726128339767,106962:0.8466384410858154,121770:0.8466351181268692,113219:0.8465027958154678,91883:0.8458256274461746,123165:0.8456642925739288,102883:0.8456316739320755,102595:0.8455552160739899,112422:0.8453696519136429,115685:0.8445049971342087,105739:0.8436407297849655,101930:0.8432410061359406,99414:0.8429695665836334']"
      ]
     },
     "execution_count": 28,
     "metadata": {},
     "output_type": "execute_result"
    }
   ],
   "source": [
    "_[:20]"
   ]
  },
  {
   "cell_type": "code",
   "execution_count": 29,
   "metadata": {},
   "outputs": [
    {
     "data": {
      "text/plain": [
       "('recall@25 last epoch:', 0.22)"
      ]
     },
     "execution_count": 29,
     "metadata": {},
     "output_type": "execute_result"
    }
   ],
   "source": [
    "recall, exported_rank, debug = experiment.evaluate_validation_test(retrieval, verbose, bug_feature_output_a, issues_by_buckets, \n",
    "                                                            bug_train_ids, method='dwen')\n",
    "\n",
    "\"recall@25 last epoch:\", recall"
   ]
  },
  {
   "cell_type": "markdown",
   "metadata": {},
   "source": [
    "### Retrieval evaluation"
   ]
  },
  {
   "cell_type": "code",
   "execution_count": 30,
   "metadata": {},
   "outputs": [
    {
     "name": "stdout",
     "output_type": "stream",
     "text": [
      "Total of queries: 2299\n"
     ]
    }
   ],
   "source": [
    "print(\"Total of queries:\", len(retrieval.test))"
   ]
  },
  {
   "cell_type": "markdown",
   "metadata": {},
   "source": [
    "#### Getting the model trained"
   ]
  },
  {
   "cell_type": "code",
   "execution_count": 31,
   "metadata": {},
   "outputs": [
    {
     "data": {
      "text/plain": [
       "'baseline_dwen_feature_100epochs_64batch(openoffice)'"
      ]
     },
     "execution_count": 31,
     "metadata": {},
     "output_type": "execute_result"
    }
   ],
   "source": [
    "SAVE_PATH_FEATURE.replace('@number_of_epochs@', str(epochs))"
   ]
  },
  {
   "cell_type": "code",
   "execution_count": 32,
   "metadata": {},
   "outputs": [
    {
     "name": "stderr",
     "output_type": "stream",
     "text": [
      "/usr/local/lib/python3.5/dist-packages/keras/engine/saving.py:292: UserWarning: No training configuration found in save file: the model was *not* compiled. Compile it manually.\n",
      "  warnings.warn('No training configuration found in save file: '\n"
     ]
    }
   ],
   "source": [
    "model = experiment.get_model_vectorizer(path=SAVE_PATH_FEATURE.replace('@number_of_epochs@', str(epochs)))"
   ]
  },
  {
   "cell_type": "code",
   "execution_count": 33,
   "metadata": {},
   "outputs": [
    {
     "name": "stdout",
     "output_type": "stream",
     "text": [
      "__________________________________________________________________________________________________\n",
      "Layer (type)                    Output Shape         Param #     Connected to                     \n",
      "==================================================================================================\n",
      "title_dwen_a (InputLayer)       (None, 20)           0                                            \n",
      "__________________________________________________________________________________________________\n",
      "desc_dwen_a (InputLayer)        (None, 100)          0                                            \n",
      "__________________________________________________________________________________________________\n",
      "embedding_layer_title (Embeddin (None, 20, 300)      39468900    title_dwen_a[0][0]               \n",
      "__________________________________________________________________________________________________\n",
      "embedding_layer_desc (Embedding (None, 100, 300)     39468900    desc_dwen_a[0][0]                \n",
      "__________________________________________________________________________________________________\n",
      "global_average_pooling1d_1 (Glo (None, 300)          0           embedding_layer_title[0][0]      \n",
      "__________________________________________________________________________________________________\n",
      "global_average_pooling1d_2 (Glo (None, 300)          0           embedding_layer_desc[0][0]       \n",
      "__________________________________________________________________________________________________\n",
      "merge_features_dwen_a (Average) (None, 300)          0           global_average_pooling1d_1[0][0] \n",
      "                                                                 global_average_pooling1d_2[0][0] \n",
      "==================================================================================================\n",
      "Total params: 78,937,800\n",
      "Trainable params: 78,937,800\n",
      "Non-trainable params: 0\n",
      "__________________________________________________________________________________________________\n"
     ]
    }
   ],
   "source": [
    "model.summary()"
   ]
  },
  {
   "cell_type": "code",
   "execution_count": 34,
   "metadata": {},
   "outputs": [],
   "source": [
    "recall, exported_rank, debug = experiment.evaluate_validation_test(retrieval, 0, model, issues_by_buckets, \n",
    "                                                                   bug_train_ids, method='dwen')"
   ]
  },
  {
   "cell_type": "code",
   "execution_count": 35,
   "metadata": {},
   "outputs": [
    {
     "data": {
      "text/plain": [
       "'data/processed/openoffice/exported_rank_baseline_dwen.txt'"
      ]
     },
     "execution_count": 35,
     "metadata": {},
     "output_type": "execute_result"
    }
   ],
   "source": [
    "EXPORT_RANK_PATH = os.path.join(DIR, 'exported_rank_{}.txt'.format(METHOD))\n",
    "EXPORT_RANK_PATH"
   ]
  },
  {
   "cell_type": "code",
   "execution_count": 36,
   "metadata": {},
   "outputs": [],
   "source": [
    "with open(EXPORT_RANK_PATH, 'w') as file_out:\n",
    "    for row in exported_rank:\n",
    "        file_out.write(row + \"\\n\")"
   ]
  },
  {
   "cell_type": "code",
   "execution_count": 37,
   "metadata": {},
   "outputs": [
    {
     "data": {
      "text/plain": [
       "{'1 - recall_at_5': 0.13,\n",
       " '2 - recall_at_10': 0.17,\n",
       " '3 - recall_at_15': 0.19,\n",
       " '4 - recall_at_20': 0.2,\n",
       " '5 - recall_at_25': 0.22}"
      ]
     },
     "execution_count": 37,
     "metadata": {},
     "output_type": "execute_result"
    }
   ],
   "source": [
    "report = experiment.evaluation.evaluate(EXPORT_RANK_PATH)\n",
    "report"
   ]
  }
 ],
 "metadata": {
  "accelerator": "GPU",
  "colab": {
   "collapsed_sections": [],
   "name": "[baseline] Bug triage with Deep Learning.ipynb",
   "provenance": [],
   "toc_visible": true,
   "version": "0.3.2"
  },
  "kernelspec": {
   "display_name": "Python 3",
   "language": "python",
   "name": "python3"
  },
  "language_info": {
   "codemirror_mode": {
    "name": "ipython",
    "version": 3
   },
   "file_extension": ".py",
   "mimetype": "text/x-python",
   "name": "python",
   "nbconvert_exporter": "python",
   "pygments_lexer": "ipython3",
   "version": "3.5.2"
  }
 },
 "nbformat": 4,
 "nbformat_minor": 1
}
