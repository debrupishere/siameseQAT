{
 "cells": [
  {
   "cell_type": "markdown",
   "metadata": {
    "colab_type": "text",
    "id": "PtdA1qs_UQP1"
   },
   "source": [
    "# DWEN"
   ]
  },
  {
   "cell_type": "code",
   "execution_count": 1,
   "metadata": {},
   "outputs": [
    {
     "name": "stderr",
     "output_type": "stream",
     "text": [
      "Using TensorFlow backend.\n"
     ]
    }
   ],
   "source": [
    "import keras"
   ]
  },
  {
   "cell_type": "code",
   "execution_count": 2,
   "metadata": {
    "colab": {},
    "colab_type": "code",
    "id": "qnSCLmiomFE1"
   },
   "outputs": [],
   "source": [
    "from __future__ import print_function, division"
   ]
  },
  {
   "cell_type": "code",
   "execution_count": 3,
   "metadata": {
    "colab": {},
    "colab_type": "code",
    "id": "OIha-SERnD72"
   },
   "outputs": [],
   "source": [
    "import re\n",
    "import numpy as np\n",
    "import pandas as pd\n",
    "\n",
    "import os\n",
    "from tqdm import tqdm_notebook as tqdm\n",
    "import matplotlib.pyplot as plt\n",
    "import sys\n",
    "from annoy import AnnoyIndex\n",
    "nb_dir = os.path.split(os.getcwd())[0]\n",
    "if nb_dir not in sys.path:\n",
    "    sys.path.append(nb_dir)\n",
    "    \n",
    "%matplotlib inline"
   ]
  },
  {
   "cell_type": "code",
   "execution_count": 4,
   "metadata": {
    "colab": {
     "base_uri": "https://localhost:8080/",
     "height": 34
    },
    "colab_type": "code",
    "id": "c57gQiuAnJAe",
    "outputId": "9eaf2d3f-619a-492d-f40b-6ba2c48426fa"
   },
   "outputs": [],
   "source": [
    "from keras.layers import Conv1D, Input, Add, Activation, Dropout, Embedding, MaxPooling1D, \\\n",
    "    GlobalMaxPool1D, Flatten, Dense, Concatenate, BatchNormalization\n",
    "from keras.models import Sequential, Model\n",
    "from keras.regularizers import l2\n",
    "from keras.initializers import TruncatedNormal\n",
    "from keras.layers.advanced_activations import LeakyReLU, ELU\n",
    "from keras import optimizers"
   ]
  },
  {
   "cell_type": "code",
   "execution_count": 5,
   "metadata": {},
   "outputs": [],
   "source": [
    "from methods.baseline import Baseline\n",
    "from methods.experiments import Experiment\n",
    "from methods.evaluation import Evaluation\n",
    "from methods.retrieval import Retrieval"
   ]
  },
  {
   "cell_type": "markdown",
   "metadata": {
    "colab_type": "text",
    "id": "3VUZ6oG1gb91"
   },
   "source": [
    "## Auxiliary methods"
   ]
  },
  {
   "cell_type": "markdown",
   "metadata": {
    "colab_type": "text",
    "id": "8uQou7m2-bFO"
   },
   "source": [
    "## Configurações Globais"
   ]
  },
  {
   "cell_type": "code",
   "execution_count": 6,
   "metadata": {
    "colab": {},
    "colab_type": "code",
    "id": "G-Kn3x_K-aZj"
   },
   "outputs": [],
   "source": [
    "MAX_SEQUENCE_LENGTH_T = 20 # 100\n",
    "MAX_SEQUENCE_LENGTH_D = 20 # 500\n",
    "EMBEDDING_DIM = 300\n",
    "MAX_NB_WORDS = 20000\n",
    "'''\n",
    "    Configuration\n",
    "'''\n",
    "epochs = 1000\n",
    "freeze_train = .1 # 10% with freeze weights\n",
    "best_loss = float('inf')\n",
    "best_epoch = 0\n",
    "verbose = 0\n",
    "loss = 0"
   ]
  },
  {
   "cell_type": "markdown",
   "metadata": {},
   "source": [
    "### Parse bugs preproprecessed"
   ]
  },
  {
   "cell_type": "code",
   "execution_count": 7,
   "metadata": {},
   "outputs": [],
   "source": [
    "# Domain to use\n",
    "DOMAIN = 'eclipse'\n",
    "METHOD = 'baseline_dwen_{}'.format(epochs)\n",
    "PREPROCESSING = 'bert'\n",
    "TOKEN = 'bert'\n",
    "# Dataset paths\n",
    "DIR = 'data/processed/{}/{}'.format(DOMAIN, PREPROCESSING)\n",
    "DIR_PAIRS = 'data/normalized/{}'.format(DOMAIN)\n",
    "DATASET = os.path.join('data/normalized/{}'.format(DOMAIN), '{}.csv'.format(DOMAIN))\n",
    "# Path embeddings\n",
    "GLOVE_DIR='data/embed'\n",
    "# Save model\n",
    "SAVE_PATH = '{}_preprocessing_{}_feature@number_of_epochs@epochs_64batch({})'.format(PREPROCESSING, METHOD, DOMAIN)\n",
    "SAVE_PATH_FEATURE = '{}_preprocessing_{}_feature_@number_of_epochs@epochs_64batch({})'.format(PREPROCESSING, METHOD, DOMAIN)\n",
    "\n",
    "# Extract CORPUs\n",
    "EXTRACT_CORPUS = False"
   ]
  },
  {
   "cell_type": "code",
   "execution_count": 8,
   "metadata": {},
   "outputs": [],
   "source": [
    "import os\n",
    "\n",
    "pretrained_path = 'uncased_L-12_H-768_A-12'\n",
    "config_path = os.path.join(pretrained_path, 'bert_config.json')\n",
    "model_path = os.path.join(pretrained_path, 'bert_model.ckpt')\n",
    "vocab_path = os.path.join(pretrained_path, 'vocab.txt')"
   ]
  },
  {
   "cell_type": "code",
   "execution_count": 9,
   "metadata": {},
   "outputs": [],
   "source": [
    "from keras_bert import load_vocabulary\n",
    "\n",
    "token_dict = load_vocabulary(vocab_path)"
   ]
  },
  {
   "cell_type": "code",
   "execution_count": 10,
   "metadata": {},
   "outputs": [],
   "source": [
    "baseline = Baseline(DOMAIN, DIR, DATASET, MAX_SEQUENCE_LENGTH_T, MAX_SEQUENCE_LENGTH_D,\n",
    "                   token_dict['[CLS]'], token_dict['[SEP]'])\n",
    "evaluation = Evaluation(verbose=0)\n",
    "retrieval = Retrieval()\n",
    "experiment = Experiment(baseline, evaluation)"
   ]
  },
  {
   "cell_type": "code",
   "execution_count": 11,
   "metadata": {},
   "outputs": [],
   "source": [
    "experiment.set_retrieval(retrieval, baseline, DOMAIN)"
   ]
  },
  {
   "cell_type": "markdown",
   "metadata": {},
   "source": [
    "#### Loading bug ids in memory"
   ]
  },
  {
   "cell_type": "code",
   "execution_count": 12,
   "metadata": {
    "scrolled": true
   },
   "outputs": [
    {
     "name": "stdout",
     "output_type": "stream",
     "text": [
      "Reading bug ids\n"
     ]
    },
    {
     "data": {
      "text/plain": [
       "361006"
      ]
     },
     "execution_count": 12,
     "metadata": {},
     "output_type": "execute_result"
    }
   ],
   "source": [
    "experiment.load_ids()\n",
    "len(baseline.bug_ids)"
   ]
  },
  {
   "cell_type": "markdown",
   "metadata": {
    "colab_type": "text",
    "id": "vqzt5EKzqzcI"
   },
   "source": [
    "#### Dicionário de títulos e descrições"
   ]
  },
  {
   "cell_type": "code",
   "execution_count": 13,
   "metadata": {
    "scrolled": true
   },
   "outputs": [
    {
     "data": {
      "application/vnd.jupyter.widget-view+json": {
       "model_id": "3b413b122a9d471bac111ac1555c2b17",
       "version_major": 2,
       "version_minor": 0
      },
      "text/plain": [
       "HBox(children=(IntProgress(value=0, max=361006), HTML(value='')))"
      ]
     },
     "metadata": {},
     "output_type": "display_data"
    },
    {
     "name": "stdout",
     "output_type": "stream",
     "text": [
      "\n"
     ]
    },
    {
     "data": {
      "application/vnd.jupyter.widget-view+json": {
       "model_id": "c04d9a6707f64e43bddeb263955b7a8c",
       "version_major": 2,
       "version_minor": 0
      },
      "text/plain": [
       "HBox(children=(IntProgress(value=1, bar_style='info', max=1), HTML(value='')))"
      ]
     },
     "metadata": {},
     "output_type": "display_data"
    },
    {
     "name": "stdout",
     "output_type": "stream",
     "text": [
      "\n",
      "CPU times: user 34.9 s, sys: 3.7 s, total: 38.6 s\n",
      "Wall time: 37.9 s\n"
     ]
    }
   ],
   "source": [
    "%%time\n",
    "\n",
    "experiment.load_bugs(TOKEN)\n",
    "len(baseline.sentence_dict)"
   ]
  },
  {
   "cell_type": "markdown",
   "metadata": {},
   "source": [
    "#### Hashing bugs by buckets"
   ]
  },
  {
   "cell_type": "code",
   "execution_count": 14,
   "metadata": {},
   "outputs": [
    {
     "data": {
      "application/vnd.jupyter.widget-view+json": {
       "model_id": "520a6bf1f17c4edd93f33ffebdbb48b6",
       "version_major": 2,
       "version_minor": 0
      },
      "text/plain": [
       "HBox(children=(IntProgress(value=0, max=361006), HTML(value='')))"
      ]
     },
     "metadata": {},
     "output_type": "display_data"
    },
    {
     "name": "stdout",
     "output_type": "stream",
     "text": [
      "\n"
     ]
    }
   ],
   "source": [
    "issues_by_buckets = experiment.get_buckets_for_bugs()"
   ]
  },
  {
   "cell_type": "markdown",
   "metadata": {
    "colab_type": "text",
    "id": "a6Obtop6UIVD"
   },
   "source": [
    "#### Prepare the train and test"
   ]
  },
  {
   "cell_type": "code",
   "execution_count": 15,
   "metadata": {
    "colab": {},
    "colab_type": "code",
    "id": "vvyMGBD4IhB-",
    "scrolled": true
   },
   "outputs": [],
   "source": [
    "experiment.prepare_dataset(issues_by_buckets, path_train='train_chronological', path_test='test_chronological')\n",
    "# Read and create the test queries duplicates\n",
    "retrieval.create_queries()"
   ]
  },
  {
   "cell_type": "code",
   "execution_count": 16,
   "metadata": {},
   "outputs": [
    {
     "data": {
      "text/plain": [
       "[[275492, 218812],\n",
       " [288296, 264093],\n",
       " [273286, 293887],\n",
       " [57162, 62059],\n",
       " [82146, 67997],\n",
       " [56777, 61857],\n",
       " [169445, 165179],\n",
       " [250521, 273893],\n",
       " [247266, 241461],\n",
       " [36781, 38338]]"
      ]
     },
     "execution_count": 16,
     "metadata": {},
     "output_type": "execute_result"
    }
   ],
   "source": [
    "baseline.train_data[:10]"
   ]
  },
  {
   "cell_type": "code",
   "execution_count": 17,
   "metadata": {},
   "outputs": [],
   "source": [
    "bug_train_ids = experiment.get_train_ids(baseline.train_data)"
   ]
  },
  {
   "cell_type": "code",
   "execution_count": 18,
   "metadata": {
    "scrolled": true
   },
   "outputs": [
    {
     "data": {
      "text/plain": [
       "{'bug_severity': '4\\n',\n",
       " 'bug_status': '1\\n',\n",
       " 'component': '864\\n',\n",
       " 'creation_ts': '2010-10-08 14:07:00 -0400',\n",
       " 'delta_ts': '2011-05-13 10:58:50 -0400',\n",
       " 'description': '[CLS] created attachment 1805 ##0 ##9 fix . when using this preference , if i press and hold the step - over key , i see that in my variables views the view updates after every few steps , instead of after every step . the faulty part is the logic that calculate ##s how many updates are supposed to be completed after every step . instead , i tried a different method , where a view listener waits for the \" view updates complete \" event from the viewer . using this listener in the past was not possible because it would issue multiple such events before the view was actually finished up ##dating . [SEP]',\n",
       " 'description_segment': [0,\n",
       "  0,\n",
       "  0,\n",
       "  0,\n",
       "  0,\n",
       "  0,\n",
       "  0,\n",
       "  0,\n",
       "  0,\n",
       "  0,\n",
       "  0,\n",
       "  0,\n",
       "  0,\n",
       "  0,\n",
       "  0,\n",
       "  0,\n",
       "  0,\n",
       "  0,\n",
       "  0,\n",
       "  0,\n",
       "  0,\n",
       "  0,\n",
       "  0,\n",
       "  0,\n",
       "  0,\n",
       "  0,\n",
       "  0,\n",
       "  0,\n",
       "  0,\n",
       "  0,\n",
       "  0,\n",
       "  0,\n",
       "  0,\n",
       "  0,\n",
       "  0,\n",
       "  0,\n",
       "  0,\n",
       "  0,\n",
       "  0,\n",
       "  0,\n",
       "  0,\n",
       "  0,\n",
       "  0,\n",
       "  0,\n",
       "  0,\n",
       "  0,\n",
       "  0,\n",
       "  0,\n",
       "  0,\n",
       "  0,\n",
       "  0,\n",
       "  0,\n",
       "  0,\n",
       "  0,\n",
       "  0,\n",
       "  0,\n",
       "  0,\n",
       "  0,\n",
       "  0,\n",
       "  0,\n",
       "  0,\n",
       "  0,\n",
       "  0,\n",
       "  0,\n",
       "  0,\n",
       "  0,\n",
       "  0,\n",
       "  0,\n",
       "  0,\n",
       "  0,\n",
       "  0,\n",
       "  0,\n",
       "  0,\n",
       "  0,\n",
       "  0,\n",
       "  0,\n",
       "  0,\n",
       "  0,\n",
       "  0,\n",
       "  0,\n",
       "  0,\n",
       "  0,\n",
       "  0,\n",
       "  0,\n",
       "  0,\n",
       "  0,\n",
       "  0,\n",
       "  0,\n",
       "  0,\n",
       "  0,\n",
       "  0,\n",
       "  0,\n",
       "  0,\n",
       "  0,\n",
       "  0,\n",
       "  0,\n",
       "  0,\n",
       "  0,\n",
       "  0,\n",
       "  0,\n",
       "  0,\n",
       "  0,\n",
       "  0,\n",
       "  0,\n",
       "  0,\n",
       "  0,\n",
       "  0,\n",
       "  0,\n",
       "  0,\n",
       "  0,\n",
       "  0,\n",
       "  0,\n",
       "  0,\n",
       "  0,\n",
       "  0,\n",
       "  0,\n",
       "  0,\n",
       "  0,\n",
       "  0,\n",
       "  0,\n",
       "  0,\n",
       "  0,\n",
       "  0,\n",
       "  0,\n",
       "  0,\n",
       "  0,\n",
       "  0,\n",
       "  0,\n",
       "  0,\n",
       "  0,\n",
       "  0,\n",
       "  0,\n",
       "  0,\n",
       "  0,\n",
       "  0,\n",
       "  0,\n",
       "  0,\n",
       "  0,\n",
       "  0,\n",
       "  0,\n",
       "  0,\n",
       "  0,\n",
       "  0,\n",
       "  0,\n",
       "  0,\n",
       "  0,\n",
       "  0,\n",
       "  0,\n",
       "  0,\n",
       "  0],\n",
       " 'description_token': array([  101,  2580, 14449, 13126,  2692,  2683,  8081,  1012,  2043,\n",
       "         2478,  2023, 12157,  1010,  2065,  1045,  2811,  1998,  2907,\n",
       "         1996,   102]),\n",
       " 'dup_id': '[]',\n",
       " 'issue_id': 327358,\n",
       " 'priority': '1\\n',\n",
       " 'product': '159\\n',\n",
       " 'resolution': 'FIXED',\n",
       " 'textual_token': array([  101,  1031, 10857,  1033,  1031,  1058,  2213,  1033,  1000,\n",
       "         3524,  2005,  5328,  2000, 10651,  2044,  2296,  3357,  1000,\n",
       "        12157,   102,   101,  2580, 14449, 13126,  2692,  2683,  8081,\n",
       "         1012,  2043,  2478,  2023, 12157,  1010,  2065,  1045,  2811,\n",
       "         1998,  2907,  1996,   102]),\n",
       " 'title': '[CLS] [ variables ] [ v ##m ] \" wait for views to update after every step \" preference doesn \\' t always work . [SEP]',\n",
       " 'title_segment': [0,\n",
       "  0,\n",
       "  0,\n",
       "  0,\n",
       "  0,\n",
       "  0,\n",
       "  0,\n",
       "  0,\n",
       "  0,\n",
       "  0,\n",
       "  0,\n",
       "  0,\n",
       "  0,\n",
       "  0,\n",
       "  0,\n",
       "  0,\n",
       "  0,\n",
       "  0,\n",
       "  0,\n",
       "  0,\n",
       "  0,\n",
       "  0,\n",
       "  0,\n",
       "  0,\n",
       "  0,\n",
       "  0,\n",
       "  0,\n",
       "  0,\n",
       "  0,\n",
       "  0,\n",
       "  0,\n",
       "  0,\n",
       "  0,\n",
       "  0,\n",
       "  0,\n",
       "  0,\n",
       "  0,\n",
       "  0,\n",
       "  0,\n",
       "  0,\n",
       "  0,\n",
       "  0,\n",
       "  0,\n",
       "  0,\n",
       "  0,\n",
       "  0,\n",
       "  0,\n",
       "  0,\n",
       "  0,\n",
       "  0],\n",
       " 'title_token': array([  101,  1031, 10857,  1033,  1031,  1058,  2213,  1033,  1000,\n",
       "         3524,  2005,  5328,  2000, 10651,  2044,  2296,  3357,  1000,\n",
       "        12157,   102]),\n",
       " 'version': '376\\n'}"
      ]
     },
     "execution_count": 18,
     "metadata": {},
     "output_type": "execute_result"
    }
   ],
   "source": [
    "idx = np.random.choice(baseline.bug_ids, 1)[0]\n",
    "baseline.bug_set[idx]"
   ]
  },
  {
   "cell_type": "markdown",
   "metadata": {},
   "source": [
    "### Generating the batch test"
   ]
  },
  {
   "cell_type": "code",
   "execution_count": 19,
   "metadata": {},
   "outputs": [
    {
     "data": {
      "text/plain": [
       "('Train ', 39339)"
      ]
     },
     "execution_count": 19,
     "metadata": {},
     "output_type": "execute_result"
    }
   ],
   "source": [
    "\"Train \", len(baseline.dup_sets_train)"
   ]
  },
  {
   "cell_type": "code",
   "execution_count": 20,
   "metadata": {},
   "outputs": [
    {
     "data": {
      "text/plain": [
       "10640"
      ]
     },
     "execution_count": 20,
     "metadata": {},
     "output_type": "execute_result"
    }
   ],
   "source": [
    "import random\n",
    "random.choice(list(issues_by_buckets))"
   ]
  },
  {
   "cell_type": "code",
   "execution_count": 21,
   "metadata": {},
   "outputs": [
    {
     "data": {
      "text/plain": [
       "True"
      ]
     },
     "execution_count": 21,
     "metadata": {},
     "output_type": "execute_result"
    }
   ],
   "source": [
    "110647 in experiment.baseline.bug_set"
   ]
  },
  {
   "cell_type": "code",
   "execution_count": 22,
   "metadata": {
    "colab": {
     "base_uri": "https://localhost:8080/",
     "height": 51
    },
    "colab_type": "code",
    "id": "PA5CIhgz7odW",
    "outputId": "ae98fdec-1d54-4b1f-ee0e-4c5633802a18",
    "scrolled": true
   },
   "outputs": [
    {
     "name": "stdout",
     "output_type": "stream",
     "text": [
      "CPU times: user 471 ms, sys: 0 ns, total: 471 ms\n",
      "Wall time: 471 ms\n"
     ]
    }
   ],
   "source": [
    "%%time\n",
    "\n",
    "batch_size = 64\n",
    "batch_size_test = 128\n",
    "\n",
    "# we want a constant validation group to have a frame of reference for model performance\n",
    "batch_triplets_valid, valid_input_sample, valid_input_pos, valid_input_neg, valid_sim = experiment.batch_iterator(None, \n",
    "                                                                                          baseline.train_data, \n",
    "                                                                                          baseline.dup_sets_train,\n",
    "                                                                                          bug_train_ids,\n",
    "                                                                                          batch_size_test, 1,\n",
    "                                                                                          issues_by_buckets)\n",
    "\n",
    "pos = np.full((1, batch_size_test), 1)\n",
    "neg = np.full((1, batch_size_test), 0)\n",
    "valid_sim = np.concatenate([pos, neg], -1)[0]\n",
    "\n",
    "valid_title_sample_a = np.concatenate([valid_input_sample['title'], valid_input_sample['title']], 0)\n",
    "valid_title_sample_b = np.concatenate([valid_input_pos['title'], valid_input_neg['title']], 0)\n",
    "valid_desc_sample_a = np.concatenate([valid_input_sample['description'], valid_input_sample['description']], 0)\n",
    "valid_desc_sample_b = np.concatenate([valid_input_pos['description'], valid_input_neg['description']], 0)\n",
    "\n",
    "validation_sample = [valid_title_sample_a, valid_title_sample_b, valid_desc_sample_a, valid_desc_sample_b]\n",
    "\n",
    "# Max sequence title\n",
    "MAX_SEQUENCE_LENGTH_T = valid_input_sample['title'].shape[1]\n",
    "MAX_SEQUENCE_LENGTH_D = valid_input_sample['description'].shape[1]"
   ]
  },
  {
   "cell_type": "code",
   "execution_count": 23,
   "metadata": {},
   "outputs": [
    {
     "data": {
      "text/plain": [
       "(256, 256)"
      ]
     },
     "execution_count": 23,
     "metadata": {},
     "output_type": "execute_result"
    }
   ],
   "source": [
    "len(valid_title_sample_a), len(valid_sim)"
   ]
  },
  {
   "cell_type": "code",
   "execution_count": 24,
   "metadata": {},
   "outputs": [
    {
     "data": {
      "text/plain": [
       "((128, 20), (128, 20), (256,))"
      ]
     },
     "execution_count": 24,
     "metadata": {},
     "output_type": "execute_result"
    }
   ],
   "source": [
    "valid_input_sample['title'].shape, valid_input_sample['description'].shape, valid_sim.shape"
   ]
  },
  {
   "cell_type": "markdown",
   "metadata": {
    "colab_type": "text",
    "id": "24mY22BGnkqp"
   },
   "source": [
    "### Validar entrada"
   ]
  },
  {
   "cell_type": "code",
   "execution_count": 25,
   "metadata": {
    "colab": {
     "base_uri": "https://localhost:8080/",
     "height": 796
    },
    "colab_type": "code",
    "id": "OhTbr3a5nmrh",
    "outputId": "a2d73e0f-e9ce-4d12-a5c8-f0008d2402d0",
    "scrolled": true
   },
   "outputs": [],
   "source": [
    "# %%time \n",
    "\n",
    "#baseline.display_batch(baseline.train_data, baseline.dup_sets_train, bug_train_ids, 5)"
   ]
  },
  {
   "cell_type": "markdown",
   "metadata": {
    "colab_type": "text",
    "id": "XPrsLs4Kg4Pa"
   },
   "source": [
    "## Pre-trained embeddings\n",
    "\n",
    "Loading pretrained word vectors"
   ]
  },
  {
   "cell_type": "markdown",
   "metadata": {
    "colab_type": "text",
    "id": "6p9eE5TWoH7p"
   },
   "source": [
    "### Fasttext"
   ]
  },
  {
   "cell_type": "code",
   "execution_count": 26,
   "metadata": {},
   "outputs": [
    {
     "name": "stdout",
     "output_type": "stream",
     "text": [
      "vocabulary loaded\n"
     ]
    }
   ],
   "source": [
    "vocab = baseline.load_vocabulary(os.path.join(DIR, 'vocab_embed.pkl'))\n",
    "#print(np.random.choice(vocab, 10))\n",
    "# for token in vocab:\n",
    "#     print(token)"
   ]
  },
  {
   "cell_type": "code",
   "execution_count": 27,
   "metadata": {},
   "outputs": [
    {
     "data": {
      "text/plain": [
       "'Total vocabulary: 21175'"
      ]
     },
     "execution_count": 27,
     "metadata": {},
     "output_type": "execute_result"
    }
   ],
   "source": [
    "\"Total vocabulary: {}\".format(len(vocab))"
   ]
  },
  {
   "cell_type": "code",
   "execution_count": 28,
   "metadata": {},
   "outputs": [],
   "source": [
    "def generating_embed(baseline, GLOVE_DIR, EMBEDDING_DIM):\n",
    "    embeddings_index = {}\n",
    "    embed_path = os.path.join(GLOVE_DIR, 'glove.42B.300d.txt')\n",
    "    \n",
    "    f2 = open(embed_path, 'rb')\n",
    "    num_lines = sum(1 for line in f2)\n",
    "    f2.close()\n",
    "    \n",
    "    f = open(embed_path, 'rb')\n",
    "    vocab = baseline.load_vocabulary(os.path.join(baseline.DIR, 'vocab_embed.pkl'))\n",
    "    vocab_size = len(vocab) \n",
    "\n",
    "    # Initialize uniform the vector considering the Tanh activation\n",
    "    embedding_matrix = np.random.uniform(-1.0, 1.0, (num_lines + vocab_size, EMBEDDING_DIM))\n",
    "    embedding_matrix[0, :] = np.zeros(EMBEDDING_DIM)\n",
    "\n",
    "    loop = tqdm(f)\n",
    "    loop.set_description(\"Loading Glove\")\n",
    "    i = 0\n",
    "    for line in loop:\n",
    "        tokens = line.split()\n",
    "        word = tokens[0]\n",
    "        embed = np.asarray(tokens[1:], dtype='float32')\n",
    "        embeddings_index[word] = embed\n",
    "        embedding_matrix[i] = embed\n",
    "        loop.update(1)\n",
    "    f.close()\n",
    "    loop.close()\n",
    "\n",
    "    print('Total %s word vectors in Glove 42B 300d.' % len(embeddings_index))\n",
    "\n",
    "    loop = tqdm(total=vocab_size)\n",
    "    loop.set_description('Loading embedding from dataset pretrained')\n",
    "    \n",
    "    for word, embed in vocab.items():\n",
    "        if word in embeddings_index:\n",
    "            embedding_matrix[i] = embeddings_index[word]\n",
    "        else:\n",
    "            embedding_matrix[i] = np.asarray(embed, dtype='float32')\n",
    "        loop.update(1)\n",
    "        i+=1\n",
    "    loop.close()\n",
    "    baseline.embedding_matrix = embedding_matrix"
   ]
  },
  {
   "cell_type": "code",
   "execution_count": 29,
   "metadata": {
    "colab": {
     "base_uri": "https://localhost:8080/",
     "height": 85
    },
    "colab_type": "code",
    "id": "QY-ef3OGoIiq",
    "outputId": "55f4c93c-98bb-4bac-92f2-76bd3b777605"
   },
   "outputs": [
    {
     "name": "stdout",
     "output_type": "stream",
     "text": [
      "vocabulary loaded\n"
     ]
    },
    {
     "data": {
      "application/vnd.jupyter.widget-view+json": {
       "model_id": "259fa6733c1d4d798c71bd9073b14eb6",
       "version_major": 2,
       "version_minor": 0
      },
      "text/plain": [
       "HBox(children=(IntProgress(value=1, bar_style='info', max=1), HTML(value='')))"
      ]
     },
     "metadata": {},
     "output_type": "display_data"
    },
    {
     "name": "stdout",
     "output_type": "stream",
     "text": [
      "\n",
      "Total 1917494 word vectors in Glove 42B 300d.\n"
     ]
    },
    {
     "data": {
      "application/vnd.jupyter.widget-view+json": {
       "model_id": "ae290bcf646d45e5991e00e94c80a960",
       "version_major": 2,
       "version_minor": 0
      },
      "text/plain": [
       "HBox(children=(IntProgress(value=0, max=21175), HTML(value='')))"
      ]
     },
     "metadata": {},
     "output_type": "display_data"
    },
    {
     "name": "stdout",
     "output_type": "stream",
     "text": [
      "\n",
      "CPU times: user 1min 37s, sys: 3.33 s, total: 1min 40s\n",
      "Wall time: 1min 40s\n"
     ]
    }
   ],
   "source": [
    "%%time\n",
    "\n",
    "generating_embed(baseline, GLOVE_DIR=GLOVE_DIR, EMBEDDING_DIM=EMBEDDING_DIM) # MAX_NB_WORDS=MAX_NB_WORDS"
   ]
  },
  {
   "cell_type": "markdown",
   "metadata": {},
   "source": [
    "## Experiment"
   ]
  },
  {
   "cell_type": "markdown",
   "metadata": {
    "colab_type": "text",
    "id": "Lev5Y7oaFQBd"
   },
   "source": [
    "## Propose\n",
    "\n",
    "https://github.com/tqtg/DuplicateBugFinder"
   ]
  },
  {
   "cell_type": "code",
   "execution_count": 30,
   "metadata": {},
   "outputs": [],
   "source": [
    "from keras.initializers import RandomUniform, RandomNormal, Ones"
   ]
  },
  {
   "cell_type": "markdown",
   "metadata": {},
   "source": [
    "### Embedding layer"
   ]
  },
  {
   "cell_type": "code",
   "execution_count": 31,
   "metadata": {},
   "outputs": [],
   "source": [
    "from keras.constraints import MaxNorm\n",
    "from keras.initializers import TruncatedNormal, RandomUniform\n",
    "\n",
    "# Is missing the padding_idx used in pytorch\n",
    "# https://pytorch.org/docs/stable/_modules/torch/nn/modules/sparse.html\n",
    "# https://stackoverflow.com/questions/54824768/rnn-model-gru-of-word2vec-to-regression-not-learning\n",
    "def embedding_layer(embeddings, num_words, embedding_dim, max_sequence_length, trainable, name):\n",
    "    embedding_layer = Embedding(num_words,\n",
    "                                  embedding_dim,\n",
    "                                  name='embedding_layer_{}'.format(name),\n",
    "                                  weights=[embeddings],\n",
    "                                  #input_length=max_sequence_length,\n",
    "                                  input_length=None,\n",
    "                                  trainable=trainable)\n",
    "    return embedding_layer"
   ]
  },
  {
   "cell_type": "markdown",
   "metadata": {
    "colab_type": "text",
    "id": "TEedCg5AaTf2"
   },
   "source": [
    "### DWEN model"
   ]
  },
  {
   "cell_type": "code",
   "execution_count": 32,
   "metadata": {},
   "outputs": [],
   "source": [
    "from keras.layers import concatenate, Add, Lambda, merge, Average, Maximum, Subtract, \\\n",
    "    Average, GlobalAveragePooling1D, BatchNormalization, Activation\n",
    "from keras.optimizers import Adam, Nadam\n",
    "import keras.backend as K\n",
    "\n",
    "def dwen_feature(title_feature_model, desc_feature_model, \\\n",
    "                  sequence_length_t, sequence_length_d, name):\n",
    "    bug_t = Input(shape = (sequence_length_t, ), name = 'title_{}'.format(name))\n",
    "    bug_d = Input(shape = (sequence_length_d, ), name = 'desc_{}'.format(name))\n",
    "    \n",
    "    # Embedding feature\n",
    "    bug_t_feat = title_feature_model(bug_t)\n",
    "    bug_d_feat = desc_feature_model(bug_d)\n",
    "    \n",
    "    bug_t_feat = GlobalAveragePooling1D()(bug_t_feat)\n",
    "    bug_d_feat = GlobalAveragePooling1D()(bug_d_feat)\n",
    "    \n",
    "    #bug_feature_output = Add(name = 'merge_features_{}'.format(name))([bug_i_feat, bug_t_feat, bug_d_feat])\n",
    "    bug_feature_output = Average(name = 'merge_features_{}'.format(name))([bug_t_feat, bug_d_feat])\n",
    "    \n",
    "    bug_feature_model = Model(inputs=[bug_t, bug_d], outputs=[bug_feature_output], name = 'merge_features_{}'.format(name))\n",
    "    \n",
    "    return bug_feature_model\n",
    "\n",
    "def dwen_model(bug_feature_output_a, bug_feature_output_b, name):\n",
    "    \n",
    "    inputs = np.concatenate([bug_feature_output_a.input, bug_feature_output_b.input], -1).tolist()\n",
    "    \n",
    "    bug_feature_output_a = bug_feature_output_a.output\n",
    "    bug_feature_output_b = bug_feature_output_b.output\n",
    "    \n",
    "    # 2D concatenate feature\n",
    "    bug_feature_output = concatenate([bug_feature_output_a, bug_feature_output_b])\n",
    "    \n",
    "    hidden_layers = 2\n",
    "    \n",
    "    # Deep Hidden MLPs\n",
    "    for _ in range(hidden_layers):\n",
    "        number_of_units = K.int_shape(bug_feature_output)[1]\n",
    "        bug_feature_output = Dense(number_of_units // 2)(bug_feature_output)\n",
    "#         bug_feature_output = BatchNormalization()(bug_feature_output)\n",
    "        bug_feature_output = Activation('relu')(bug_feature_output)\n",
    "        #bug_feature_output = Dropout(.5)(bug_feature_output)\n",
    "    \n",
    "     # Sigmoid\n",
    "    output = Dense(1, activation='sigmoid')(bug_feature_output)\n",
    "\n",
    "    similarity_model = Model(inputs=inputs, outputs=[output], name = 'dwen_output')\n",
    "\n",
    "    #optimizer = Nadam(lr=1e-3, beta_1=0.9, beta_2=0.999, epsilon=K.epsilon(), schedule_decay=0.01)\n",
    "    optimizer = Adam(lr=1e-3, beta_1=0.9, beta_2=0.999, epsilon=None, decay=0.0, amsgrad=True)\n",
    "\n",
    "    # setup the optimization process \n",
    "    similarity_model.compile(optimizer='adam', loss='binary_crossentropy', metrics=['acc'])\n",
    "    \n",
    "    return similarity_model"
   ]
  },
  {
   "cell_type": "code",
   "execution_count": 33,
   "metadata": {},
   "outputs": [],
   "source": [
    "import _pickle as pickle\n",
    "def save_loss(result):\n",
    "    with open(os.path.join(DIR,'{}_log.pkl'.format(METHOD)), 'wb') as f:\n",
    "        pickle.dump(result, f)\n",
    "    print(\"=> result saved!\")"
   ]
  },
  {
   "cell_type": "code",
   "execution_count": 34,
   "metadata": {},
   "outputs": [],
   "source": [
    "# Domain to use\n",
    "limit_train = int(epochs * freeze_train) # 10% de 1000 , 100 epocas\n",
    "METHOD = 'baseline_dwen_{}'.format(limit_train)\n",
    "SAVE_PATH = '{}_preprocessing_{}_feature@number_of_epochs@epochs_64batch({})'.format(PREPROCESSING, METHOD, DOMAIN)\n",
    "SAVE_PATH_FEATURE = '{}_preprocessing_{}_feature_@number_of_epochs@epochs_64batch({})'.format(PREPROCESSING, METHOD, DOMAIN)"
   ]
  },
  {
   "cell_type": "code",
   "execution_count": 35,
   "metadata": {
    "scrolled": true
   },
   "outputs": [
    {
     "name": "stdout",
     "output_type": "stream",
     "text": [
      "WARNING:tensorflow:From /usr/local/lib/python3.5/dist-packages/keras/backend/tensorflow_backend.py:95: The name tf.reset_default_graph is deprecated. Please use tf.compat.v1.reset_default_graph instead.\n",
      "\n",
      "WARNING:tensorflow:From /usr/local/lib/python3.5/dist-packages/keras/backend/tensorflow_backend.py:98: The name tf.placeholder_with_default is deprecated. Please use tf.compat.v1.placeholder_with_default instead.\n",
      "\n",
      "WARNING:tensorflow:From /usr/local/lib/python3.5/dist-packages/keras/backend/tensorflow_backend.py:102: The name tf.get_default_graph is deprecated. Please use tf.compat.v1.get_default_graph instead.\n",
      "\n",
      "WARNING:tensorflow:From /usr/local/lib/python3.5/dist-packages/keras/backend/tensorflow_backend.py:517: The name tf.placeholder is deprecated. Please use tf.compat.v1.placeholder instead.\n",
      "\n",
      "WARNING:tensorflow:From /usr/local/lib/python3.5/dist-packages/keras/backend/tensorflow_backend.py:4138: The name tf.random_uniform is deprecated. Please use tf.random.uniform instead.\n",
      "\n",
      "WARNING:tensorflow:From /usr/local/lib/python3.5/dist-packages/keras/backend/tensorflow_backend.py:174: The name tf.get_default_session is deprecated. Please use tf.compat.v1.get_default_session instead.\n",
      "\n",
      "WARNING:tensorflow:From /usr/local/lib/python3.5/dist-packages/keras/backend/tensorflow_backend.py:181: The name tf.ConfigProto is deprecated. Please use tf.compat.v1.ConfigProto instead.\n",
      "\n",
      "WARNING:tensorflow:From /usr/local/lib/python3.5/dist-packages/keras/backend/tensorflow_backend.py:186: The name tf.Session is deprecated. Please use tf.compat.v1.Session instead.\n",
      "\n",
      "WARNING:tensorflow:From /usr/local/lib/python3.5/dist-packages/keras/backend/tensorflow_backend.py:190: The name tf.global_variables is deprecated. Please use tf.compat.v1.global_variables instead.\n",
      "\n",
      "WARNING:tensorflow:From /usr/local/lib/python3.5/dist-packages/keras/backend/tensorflow_backend.py:199: The name tf.is_variable_initialized is deprecated. Please use tf.compat.v1.is_variable_initialized instead.\n",
      "\n",
      "WARNING:tensorflow:From /usr/local/lib/python3.5/dist-packages/keras/backend/tensorflow_backend.py:206: The name tf.variables_initializer is deprecated. Please use tf.compat.v1.variables_initializer instead.\n",
      "\n",
      "WARNING:tensorflow:From /usr/local/lib/python3.5/dist-packages/keras/optimizers.py:790: The name tf.train.Optimizer is deprecated. Please use tf.compat.v1.train.Optimizer instead.\n",
      "\n",
      "WARNING:tensorflow:From /usr/local/lib/python3.5/dist-packages/keras/backend/tensorflow_backend.py:3376: The name tf.log is deprecated. Please use tf.math.log instead.\n",
      "\n",
      "WARNING:tensorflow:From /usr/local/lib/python3.5/dist-packages/tensorflow_core/python/ops/nn_impl.py:183: where (from tensorflow.python.ops.array_ops) is deprecated and will be removed in a future version.\n",
      "Instructions for updating:\n",
      "Use tf.where in 2.0, which has the same broadcast rule as np.where\n",
      "__________________________________________________________________________________________________\n",
      "Layer (type)                    Output Shape         Param #     Connected to                     \n",
      "==================================================================================================\n",
      "title_dwen_a (InputLayer)       (None, 20)           0                                            \n",
      "__________________________________________________________________________________________________\n",
      "desc_dwen_a (InputLayer)        (None, 20)           0                                            \n",
      "__________________________________________________________________________________________________\n",
      "title_dwen_b (InputLayer)       (None, 20)           0                                            \n",
      "__________________________________________________________________________________________________\n",
      "desc_dwen_b (InputLayer)        (None, 20)           0                                            \n",
      "__________________________________________________________________________________________________\n",
      "embedding_layer_title (Embeddin (None, 20, 300)      581600700   title_dwen_a[0][0]               \n",
      "                                                                 title_dwen_b[0][0]               \n",
      "__________________________________________________________________________________________________\n",
      "embedding_layer_desc (Embedding (None, 20, 300)      581600700   desc_dwen_a[0][0]                \n",
      "                                                                 desc_dwen_b[0][0]                \n",
      "__________________________________________________________________________________________________\n",
      "global_average_pooling1d_1 (Glo (None, 300)          0           embedding_layer_title[0][0]      \n",
      "__________________________________________________________________________________________________\n",
      "global_average_pooling1d_2 (Glo (None, 300)          0           embedding_layer_desc[0][0]       \n",
      "__________________________________________________________________________________________________\n",
      "global_average_pooling1d_3 (Glo (None, 300)          0           embedding_layer_title[1][0]      \n",
      "__________________________________________________________________________________________________\n",
      "global_average_pooling1d_4 (Glo (None, 300)          0           embedding_layer_desc[1][0]       \n",
      "__________________________________________________________________________________________________\n",
      "merge_features_dwen_a (Average) (None, 300)          0           global_average_pooling1d_1[0][0] \n",
      "                                                                 global_average_pooling1d_2[0][0] \n",
      "__________________________________________________________________________________________________\n",
      "merge_features_dwen_b (Average) (None, 300)          0           global_average_pooling1d_3[0][0] \n",
      "                                                                 global_average_pooling1d_4[0][0] \n",
      "__________________________________________________________________________________________________\n",
      "concatenate_1 (Concatenate)     (None, 600)          0           merge_features_dwen_a[0][0]      \n",
      "                                                                 merge_features_dwen_b[0][0]      \n",
      "__________________________________________________________________________________________________\n",
      "dense_1 (Dense)                 (None, 300)          180300      concatenate_1[0][0]              \n",
      "__________________________________________________________________________________________________\n",
      "activation_1 (Activation)       (None, 300)          0           dense_1[0][0]                    \n",
      "__________________________________________________________________________________________________\n",
      "dense_2 (Dense)                 (None, 150)          45150       activation_1[0][0]               \n",
      "__________________________________________________________________________________________________\n",
      "activation_2 (Activation)       (None, 150)          0           dense_2[0][0]                    \n",
      "__________________________________________________________________________________________________\n",
      "dense_3 (Dense)                 (None, 1)            151         activation_2[0][0]               \n",
      "==================================================================================================\n",
      "Total params: 1,163,427,001\n",
      "Trainable params: 225,601\n",
      "Non-trainable params: 1,163,201,400\n",
      "__________________________________________________________________________________________________\n",
      "Total of  100\n",
      "WARNING:tensorflow:From /usr/local/lib/python3.5/dist-packages/keras/backend/tensorflow_backend.py:986: The name tf.assign_add is deprecated. Please use tf.compat.v1.assign_add instead.\n",
      "\n",
      "WARNING:tensorflow:From /usr/local/lib/python3.5/dist-packages/keras/backend/tensorflow_backend.py:973: The name tf.assign is deprecated. Please use tf.compat.v1.assign instead.\n",
      "\n",
      "Epoch: 1 Loss: 0.69, Loss_test: 0.69, acc: 0.48, acc_test: 0.52\n",
      "Epoch: 2 Loss: 0.69, Loss_test: 0.69, acc: 0.47, acc_test: 0.52\n",
      "Epoch: 3 Loss: 0.69, Loss_test: 0.69, acc: 0.55, acc_test: 0.54\n",
      "Epoch: 4 Loss: 0.69, Loss_test: 0.69, acc: 0.59, acc_test: 0.56\n",
      "Epoch: 5 Loss: 0.69, Loss_test: 0.69, acc: 0.63, acc_test: 0.59\n",
      "Epoch: 6 Loss: 0.69, Loss_test: 0.69, acc: 0.57, acc_test: 0.55\n",
      "Epoch: 7 Loss: 0.69, Loss_test: 0.69, acc: 0.55, acc_test: 0.53\n"
     ]
    },
    {
     "name": "stdout",
     "output_type": "stream",
     "text": [
      "Epoch: 8 Loss: 0.68, Loss_test: 0.69, acc: 0.66, acc_test: 0.53\n",
      "Epoch: 9 Loss: 0.68, Loss_test: 0.69, acc: 0.57, acc_test: 0.54\n",
      "=> result saved!\n",
      "Epoch: 10 Loss: 0.69, Loss_test: 0.69, acc: 0.54, acc_test: 0.54\n",
      "Epoch: 11 Loss: 0.67, Loss_test: 0.69, acc: 0.64, acc_test: 0.55\n",
      "Epoch: 12 Loss: 0.67, Loss_test: 0.69, acc: 0.59, acc_test: 0.55\n",
      "Epoch: 13 Loss: 0.67, Loss_test: 0.69, acc: 0.62, acc_test: 0.55\n",
      "Epoch: 14 Loss: 0.68, Loss_test: 0.69, acc: 0.61, acc_test: 0.53\n",
      "Epoch: 15 Loss: 0.67, Loss_test: 0.69, acc: 0.55, acc_test: 0.55\n",
      "Epoch: 16 Loss: 0.68, Loss_test: 0.69, acc: 0.55, acc_test: 0.53\n",
      "Epoch: 17 Loss: 0.68, Loss_test: 0.69, acc: 0.55, acc_test: 0.53\n",
      "Epoch: 18 Loss: 0.67, Loss_test: 0.69, acc: 0.63, acc_test: 0.53\n",
      "Epoch: 19 Loss: 0.67, Loss_test: 0.69, acc: 0.59, acc_test: 0.54\n",
      "=> result saved!\n",
      "Epoch: 20 Loss: 0.67, Loss_test: 0.69, acc: 0.59, acc_test: 0.54\n",
      "Epoch: 21 Loss: 0.67, Loss_test: 0.69, acc: 0.55, acc_test: 0.55\n",
      "Epoch: 22 Loss: 0.66, Loss_test: 0.69, acc: 0.59, acc_test: 0.55\n",
      "Epoch: 23 Loss: 0.67, Loss_test: 0.69, acc: 0.59, acc_test: 0.54\n",
      "Epoch: 24 Loss: 0.65, Loss_test: 0.69, acc: 0.62, acc_test: 0.55\n",
      "Epoch: 25 Loss: 0.64, Loss_test: 0.69, acc: 0.63, acc_test: 0.55\n",
      "Epoch: 26 Loss: 0.65, Loss_test: 0.69, acc: 0.56, acc_test: 0.54\n",
      "Epoch: 27 Loss: 0.65, Loss_test: 0.69, acc: 0.66, acc_test: 0.55\n",
      "Epoch: 28 Loss: 0.61, Loss_test: 0.69, acc: 0.64, acc_test: 0.54\n",
      "Epoch: 29 Loss: 0.61, Loss_test: 0.69, acc: 0.66, acc_test: 0.56\n",
      "=> result saved!\n",
      "Epoch: 30 Loss: 0.64, Loss_test: 0.70, acc: 0.62, acc_test: 0.55\n",
      "Epoch: 31 Loss: 0.67, Loss_test: 0.70, acc: 0.55, acc_test: 0.57\n",
      "Epoch: 32 Loss: 0.65, Loss_test: 0.70, acc: 0.58, acc_test: 0.57\n",
      "Epoch: 33 Loss: 0.62, Loss_test: 0.70, acc: 0.67, acc_test: 0.57\n",
      "Epoch: 34 Loss: 0.63, Loss_test: 0.70, acc: 0.66, acc_test: 0.56\n",
      "Epoch: 35 Loss: 0.63, Loss_test: 0.71, acc: 0.62, acc_test: 0.56\n",
      "Epoch: 36 Loss: 0.61, Loss_test: 0.70, acc: 0.67, acc_test: 0.55\n",
      "Epoch: 37 Loss: 0.61, Loss_test: 0.70, acc: 0.63, acc_test: 0.54\n",
      "Epoch: 38 Loss: 0.61, Loss_test: 0.70, acc: 0.63, acc_test: 0.54\n",
      "Epoch: 39 Loss: 0.64, Loss_test: 0.70, acc: 0.60, acc_test: 0.56\n",
      "=> result saved!\n",
      "Epoch: 40 Loss: 0.62, Loss_test: 0.71, acc: 0.65, acc_test: 0.55\n",
      "Epoch: 41 Loss: 0.60, Loss_test: 0.72, acc: 0.66, acc_test: 0.56\n",
      "Epoch: 42 Loss: 0.62, Loss_test: 0.71, acc: 0.69, acc_test: 0.55\n",
      "Epoch: 43 Loss: 0.59, Loss_test: 0.71, acc: 0.70, acc_test: 0.55\n",
      "Epoch: 44 Loss: 0.58, Loss_test: 0.71, acc: 0.68, acc_test: 0.55\n",
      "Epoch: 45 Loss: 0.59, Loss_test: 0.72, acc: 0.64, acc_test: 0.56\n",
      "Epoch: 46 Loss: 0.66, Loss_test: 0.74, acc: 0.57, acc_test: 0.54\n",
      "Epoch: 47 Loss: 0.62, Loss_test: 0.73, acc: 0.60, acc_test: 0.56\n",
      "Epoch: 48 Loss: 0.61, Loss_test: 0.71, acc: 0.65, acc_test: 0.54\n",
      "Epoch: 49 Loss: 0.62, Loss_test: 0.71, acc: 0.68, acc_test: 0.53\n",
      "=> result saved!\n",
      "Epoch: 50 Loss: 0.62, Loss_test: 0.71, acc: 0.62, acc_test: 0.54\n",
      "Epoch: 51 Loss: 0.61, Loss_test: 0.74, acc: 0.70, acc_test: 0.57\n",
      "Epoch: 52 Loss: 0.59, Loss_test: 0.76, acc: 0.65, acc_test: 0.52\n",
      "Epoch: 53 Loss: 0.58, Loss_test: 0.73, acc: 0.69, acc_test: 0.57\n",
      "Epoch: 54 Loss: 0.63, Loss_test: 0.71, acc: 0.63, acc_test: 0.56\n",
      "Epoch: 55 Loss: 0.59, Loss_test: 0.71, acc: 0.68, acc_test: 0.53\n",
      "Epoch: 56 Loss: 0.64, Loss_test: 0.71, acc: 0.59, acc_test: 0.52\n",
      "Epoch: 57 Loss: 0.57, Loss_test: 0.71, acc: 0.67, acc_test: 0.55\n",
      "Epoch: 58 Loss: 0.63, Loss_test: 0.72, acc: 0.65, acc_test: 0.55\n",
      "Epoch: 59 Loss: 0.61, Loss_test: 0.73, acc: 0.65, acc_test: 0.55\n",
      "=> result saved!\n",
      "Epoch: 60 Loss: 0.62, Loss_test: 0.73, acc: 0.68, acc_test: 0.54\n",
      "Epoch: 61 Loss: 0.57, Loss_test: 0.72, acc: 0.69, acc_test: 0.55\n",
      "Epoch: 62 Loss: 0.61, Loss_test: 0.71, acc: 0.61, acc_test: 0.55\n",
      "Epoch: 63 Loss: 0.68, Loss_test: 0.71, acc: 0.54, acc_test: 0.54\n",
      "Epoch: 64 Loss: 0.56, Loss_test: 0.71, acc: 0.72, acc_test: 0.55\n",
      "Epoch: 65 Loss: 0.60, Loss_test: 0.71, acc: 0.63, acc_test: 0.57\n",
      "Epoch: 66 Loss: 0.51, Loss_test: 0.71, acc: 0.72, acc_test: 0.57\n",
      "Epoch: 67 Loss: 0.63, Loss_test: 0.71, acc: 0.62, acc_test: 0.57\n",
      "Epoch: 68 Loss: 0.53, Loss_test: 0.71, acc: 0.74, acc_test: 0.57\n",
      "Epoch: 69 Loss: 0.59, Loss_test: 0.71, acc: 0.61, acc_test: 0.55\n",
      "=> result saved!\n",
      "Epoch: 70 Loss: 0.59, Loss_test: 0.71, acc: 0.66, acc_test: 0.55\n",
      "Epoch: 71 Loss: 0.59, Loss_test: 0.71, acc: 0.66, acc_test: 0.57\n",
      "Epoch: 72 Loss: 0.59, Loss_test: 0.71, acc: 0.69, acc_test: 0.57\n",
      "Epoch: 73 Loss: 0.63, Loss_test: 0.71, acc: 0.66, acc_test: 0.57\n",
      "Epoch: 74 Loss: 0.58, Loss_test: 0.71, acc: 0.68, acc_test: 0.60\n",
      "Epoch: 75 Loss: 0.61, Loss_test: 0.71, acc: 0.62, acc_test: 0.59\n",
      "Epoch: 76 Loss: 0.58, Loss_test: 0.71, acc: 0.67, acc_test: 0.58\n",
      "Epoch: 77 Loss: 0.60, Loss_test: 0.71, acc: 0.67, acc_test: 0.58\n",
      "Epoch: 78 Loss: 0.57, Loss_test: 0.70, acc: 0.66, acc_test: 0.59\n",
      "Epoch: 79 Loss: 0.62, Loss_test: 0.70, acc: 0.61, acc_test: 0.59\n",
      "=> result saved!\n",
      "Epoch: 80 Loss: 0.57, Loss_test: 0.70, acc: 0.70, acc_test: 0.59\n",
      "Epoch: 81 Loss: 0.55, Loss_test: 0.70, acc: 0.71, acc_test: 0.59\n",
      "Epoch: 82 Loss: 0.58, Loss_test: 0.70, acc: 0.72, acc_test: 0.60\n",
      "Epoch: 83 Loss: 0.57, Loss_test: 0.70, acc: 0.70, acc_test: 0.59\n",
      "Epoch: 84 Loss: 0.54, Loss_test: 0.70, acc: 0.78, acc_test: 0.58\n",
      "Epoch: 85 Loss: 0.63, Loss_test: 0.70, acc: 0.56, acc_test: 0.57\n",
      "Epoch: 86 Loss: 0.54, Loss_test: 0.71, acc: 0.70, acc_test: 0.56\n",
      "Epoch: 87 Loss: 0.56, Loss_test: 0.72, acc: 0.70, acc_test: 0.55\n",
      "Epoch: 88 Loss: 0.64, Loss_test: 0.71, acc: 0.61, acc_test: 0.56\n",
      "Epoch: 89 Loss: 0.55, Loss_test: 0.70, acc: 0.69, acc_test: 0.57\n",
      "=> result saved!\n",
      "Epoch: 90 Loss: 0.61, Loss_test: 0.70, acc: 0.66, acc_test: 0.57\n",
      "Epoch: 91 Loss: 0.62, Loss_test: 0.70, acc: 0.68, acc_test: 0.56\n",
      "Epoch: 92 Loss: 0.54, Loss_test: 0.70, acc: 0.73, acc_test: 0.56\n",
      "Epoch: 93 Loss: 0.58, Loss_test: 0.71, acc: 0.70, acc_test: 0.56\n",
      "Epoch: 94 Loss: 0.59, Loss_test: 0.71, acc: 0.62, acc_test: 0.56\n",
      "Epoch: 95 Loss: 0.57, Loss_test: 0.70, acc: 0.70, acc_test: 0.57\n",
      "Epoch: 96 Loss: 0.56, Loss_test: 0.70, acc: 0.70, acc_test: 0.57\n",
      "Epoch: 97 Loss: 0.62, Loss_test: 0.70, acc: 0.65, acc_test: 0.57\n",
      "Epoch: 98 Loss: 0.56, Loss_test: 0.71, acc: 0.68, acc_test: 0.58\n",
      "Epoch: 99 Loss: 0.63, Loss_test: 0.71, acc: 0.64, acc_test: 0.57\n",
      "=> result saved!\n",
      "Epoch: 100 Loss: 0.56, Loss_test: 0.71, acc: 0.70, acc_tets: 0.57, recall@25: 0.16\n",
      "Best_epoch=66, Best_loss=0.51, Recall@25=0.16\n",
      "CPU times: user 1min 26s, sys: 3.28 s, total: 1min 29s\n",
      "Wall time: 1min 11s\n"
     ]
    }
   ],
   "source": [
    "%%time\n",
    "\n",
    "# Inspired on https://'pastebin.com/TaGFdcBA\n",
    "# TODO: https://stackoverflow.com/questions/49941903/keras-compute-cosine-distance-between-two-flattened-outputs\n",
    "keras.backend.clear_session()\n",
    "\n",
    "# Clear GPU memory\n",
    "# from numba import cuda\n",
    "# cuda.select_device(0)\n",
    "# cuda.close()\n",
    "\n",
    "# Embeddings\n",
    "desc_embedding_layer = embedding_layer(embeddings=baseline.embedding_matrix, \n",
    "                              num_words=len(baseline.embedding_matrix), \n",
    "                              embedding_dim=EMBEDDING_DIM, \n",
    "                              max_sequence_length=MAX_SEQUENCE_LENGTH_D, \n",
    "                              trainable=False, name='desc')\n",
    "title_embedding_layer = embedding_layer(embeddings=baseline.embedding_matrix, \n",
    "                              num_words=len(baseline.embedding_matrix), \n",
    "                              embedding_dim=EMBEDDING_DIM, \n",
    "                              max_sequence_length=MAX_SEQUENCE_LENGTH_T, \n",
    "                              trainable=False, name='title')\n",
    "\n",
    "# Similarity model\n",
    "bug_feature_output_a = dwen_feature(title_embedding_layer, desc_embedding_layer, \n",
    "                                    MAX_SEQUENCE_LENGTH_T, MAX_SEQUENCE_LENGTH_D, 'dwen_a')\n",
    "bug_feature_output_b = dwen_feature(title_embedding_layer, desc_embedding_layer, \n",
    "                                    MAX_SEQUENCE_LENGTH_T, MAX_SEQUENCE_LENGTH_D, 'dwen_b')\n",
    "similarity_model = dwen_model(bug_feature_output_a, bug_feature_output_b, 'dwen')\n",
    "\n",
    "# cnn_feature_model.summary()\n",
    "# lstm_feature_model.summary()\n",
    "similarity_model.summary()\n",
    "\n",
    "\n",
    "'''\n",
    "    Experiment\n",
    "'''\n",
    "result = { 'train' : [], 'test' : [] }\n",
    "print(\"Total of \", limit_train)\n",
    "for epoch in range(limit_train):\n",
    "    batch_triplet_train, \\\n",
    "        train_input_sample, train_input_pos, train_input_neg, \\\n",
    "            train_sim = experiment.batch_iterator(None, baseline.train_data, baseline.dup_sets_train, \n",
    "                                                  bug_train_ids, batch_size, 1, issues_by_buckets, TRIPLET_HARD=False)\n",
    "    \n",
    "    num_batch = train_input_sample['title'].shape[0]\n",
    "    pos = np.full((1, num_batch), 1)\n",
    "    neg = np.full((1, num_batch), 0)\n",
    "    train_sim = np.concatenate([pos, neg], -1)[0]\n",
    "    \n",
    "    title_sample_a = np.concatenate([train_input_sample['title'], train_input_sample['title']], 0)\n",
    "    title_sample_b = np.concatenate([train_input_pos['title'], train_input_neg['title']], 0)\n",
    "    desc_sample_a = np.concatenate([train_input_sample['description'], train_input_sample['description']], 0)\n",
    "    desc_sample_b = np.concatenate([train_input_pos['description'], train_input_neg['description']], 0)\n",
    "    train_batch = [title_sample_a, desc_sample_a, title_sample_b, desc_sample_b]\n",
    "    \n",
    "    \n",
    "    h = similarity_model.train_on_batch(x=train_batch, y=train_sim)\n",
    "    h_validation = similarity_model.test_on_batch(x=validation_sample, y=valid_sim)\n",
    "    \n",
    "    # save results\n",
    "    result['train'].append(h)\n",
    "    result['test'].append(h_validation)\n",
    "    \n",
    "    if( (epoch+1) % 10 == 0 or (epoch+1 == limit_train) ):\n",
    "        save_loss(result)\n",
    "    \n",
    "    if (epoch+1 == limit_train): #(epoch > 1 and epoch % 10 == 0) or (epoch+1 == epochs):\n",
    "        recall, exported_rank, debug = experiment.evaluate_validation_test(retrieval, verbose, bug_feature_output_a, issues_by_buckets, \n",
    "                                                        bug_train_ids, 'dwen')\n",
    "        print(\"Epoch: {} Loss: {:.2f}, Loss_test: {:.2f}, acc: {:.2f}, acc_tets: {:.2f}, recall@25: {:.2f}\".format(epoch+1, h[0], h_validation[0],  h[1], h_validation[1], recall))\n",
    "    else:\n",
    "        print(\"Epoch: {} Loss: {:.2f}, Loss_test: {:.2f}, acc: {:.2f}, acc_test: {:.2f}\".format(epoch+1, h[0], h_validation[0], h[1], h_validation[1]))\n",
    "    \n",
    "    loss = h[0]\n",
    "    \n",
    "    if loss < best_loss:\n",
    "        best_loss = loss\n",
    "        best_epoch = epoch+1\n",
    "\n",
    "#experiment.save_model(similarity_model, SAVE_PATH.replace('@number_of_epochs@', str(epochs)))\n",
    "#experiment.save_model(bug_feature_output_a, SAVE_PATH_FEATURE.replace('@number_of_epochs@', str(epochs)), verbose=1)\n",
    "print('Best_epoch={}, Best_loss={:.2f}, Recall@25={:.2f}'.format(best_epoch, best_loss, recall))"
   ]
  },
  {
   "cell_type": "code",
   "execution_count": 36,
   "metadata": {},
   "outputs": [
    {
     "data": {
      "text/plain": [
       "'data/processed/eclipse/bert/exported_rank_baseline_dwen_100.txt'"
      ]
     },
     "execution_count": 36,
     "metadata": {},
     "output_type": "execute_result"
    }
   ],
   "source": [
    "EXPORT_RANK_PATH = os.path.join(DIR, 'exported_rank_{}.txt'.format(METHOD))\n",
    "EXPORT_RANK_PATH"
   ]
  },
  {
   "cell_type": "code",
   "execution_count": 37,
   "metadata": {},
   "outputs": [],
   "source": [
    "with open(EXPORT_RANK_PATH, 'w') as file_out:\n",
    "    for row in exported_rank:\n",
    "        file_out.write(row + \"\\n\")"
   ]
  },
  {
   "cell_type": "code",
   "execution_count": 38,
   "metadata": {},
   "outputs": [
    {
     "name": "stdout",
     "output_type": "stream",
     "text": [
      "Saved model 'modelos/model_bert_preprocessing_baseline_dwen_100_feature_100epochs_64batch(eclipse).h5' to disk\n"
     ]
    }
   ],
   "source": [
    "experiment.save_model(similarity_model, SAVE_PATH.replace('@number_of_epochs@', str(limit_train)))\n",
    "experiment.save_model(bug_feature_output_a, SAVE_PATH_FEATURE.replace('@number_of_epochs@', str(limit_train)), verbose=1)"
   ]
  },
  {
   "cell_type": "code",
   "execution_count": 39,
   "metadata": {},
   "outputs": [
    {
     "data": {
      "text/plain": [
       "(100, 100)"
      ]
     },
     "execution_count": 39,
     "metadata": {},
     "output_type": "execute_result"
    }
   ],
   "source": [
    "len(result['train']), len(result['test'])"
   ]
  },
  {
   "cell_type": "code",
   "execution_count": 40,
   "metadata": {},
   "outputs": [
    {
     "name": "stdout",
     "output_type": "stream",
     "text": [
      "__________________________________________________________________________________________________\n",
      "Layer (type)                    Output Shape         Param #     Connected to                     \n",
      "==================================================================================================\n",
      "title_dwen_a (InputLayer)       (None, 20)           0                                            \n",
      "__________________________________________________________________________________________________\n",
      "desc_dwen_a (InputLayer)        (None, 20)           0                                            \n",
      "__________________________________________________________________________________________________\n",
      "title_dwen_b (InputLayer)       (None, 20)           0                                            \n",
      "__________________________________________________________________________________________________\n",
      "desc_dwen_b (InputLayer)        (None, 20)           0                                            \n",
      "__________________________________________________________________________________________________\n",
      "embedding_layer_title (Embeddin (None, 20, 300)      581600700   title_dwen_a[0][0]               \n",
      "                                                                 title_dwen_b[0][0]               \n",
      "__________________________________________________________________________________________________\n",
      "embedding_layer_desc (Embedding (None, 20, 300)      581600700   desc_dwen_a[0][0]                \n",
      "                                                                 desc_dwen_b[0][0]                \n",
      "__________________________________________________________________________________________________\n",
      "global_average_pooling1d_1 (Glo (None, 300)          0           embedding_layer_title[0][0]      \n",
      "__________________________________________________________________________________________________\n",
      "global_average_pooling1d_2 (Glo (None, 300)          0           embedding_layer_desc[0][0]       \n",
      "__________________________________________________________________________________________________\n",
      "global_average_pooling1d_3 (Glo (None, 300)          0           embedding_layer_title[1][0]      \n",
      "__________________________________________________________________________________________________\n",
      "global_average_pooling1d_4 (Glo (None, 300)          0           embedding_layer_desc[1][0]       \n",
      "__________________________________________________________________________________________________\n",
      "merge_features_dwen_a (Average) (None, 300)          0           global_average_pooling1d_1[0][0] \n",
      "                                                                 global_average_pooling1d_2[0][0] \n",
      "__________________________________________________________________________________________________\n",
      "merge_features_dwen_b (Average) (None, 300)          0           global_average_pooling1d_3[0][0] \n",
      "                                                                 global_average_pooling1d_4[0][0] \n",
      "__________________________________________________________________________________________________\n",
      "concatenate_1 (Concatenate)     (None, 600)          0           merge_features_dwen_a[0][0]      \n",
      "                                                                 merge_features_dwen_b[0][0]      \n",
      "__________________________________________________________________________________________________\n",
      "dense_1 (Dense)                 (None, 300)          180300      concatenate_1[0][0]              \n",
      "__________________________________________________________________________________________________\n",
      "activation_1 (Activation)       (None, 300)          0           dense_1[0][0]                    \n",
      "__________________________________________________________________________________________________\n",
      "dense_2 (Dense)                 (None, 150)          45150       activation_1[0][0]               \n",
      "__________________________________________________________________________________________________\n",
      "activation_2 (Activation)       (None, 150)          0           dense_2[0][0]                    \n",
      "__________________________________________________________________________________________________\n",
      "dense_3 (Dense)                 (None, 1)            151         activation_2[0][0]               \n",
      "==================================================================================================\n",
      "Total params: 1,163,427,001\n",
      "Trainable params: 225,601\n",
      "Non-trainable params: 1,163,201,400\n",
      "__________________________________________________________________________________________________\n"
     ]
    }
   ],
   "source": [
    "model = similarity_model.get_layer('dense_3')\n",
    "output = model.output\n",
    "inputs = similarity_model.inputs\n",
    "model = Model(inputs = inputs, outputs = output, name = 'Similarity_Model')\n",
    "\n",
    "# setup the optimization process \n",
    "model.compile(optimizer='adam', loss='binary_crossentropy', metrics=['acc'])\n",
    "model.summary()"
   ]
  },
  {
   "cell_type": "code",
   "execution_count": 41,
   "metadata": {},
   "outputs": [],
   "source": [
    "# Domain to use\n",
    "METHOD = 'baseline_dwen_{}'.format(epochs)\n",
    "SAVE_PATH = '{}_preprocessing_{}_feature@number_of_epochs@epochs_64batch({})'.format(PREPROCESSING, METHOD, DOMAIN)\n",
    "SAVE_PATH_FEATURE = '{}_preprocessing_{}_feature_@number_of_epochs@epochs_64batch({})'.format(PREPROCESSING, METHOD, DOMAIN)"
   ]
  },
  {
   "cell_type": "code",
   "execution_count": 42,
   "metadata": {
    "scrolled": true
   },
   "outputs": [
    {
     "name": "stdout",
     "output_type": "stream",
     "text": [
      "Epoch: 101 Loss: 0.59, Loss_test: 0.72, acc: 0.64, acc_test: 0.54\n",
      "Epoch: 102 Loss: 0.56, Loss_test: 0.73, acc: 0.71, acc_test: 0.54\n",
      "Epoch: 103 Loss: 0.58, Loss_test: 0.72, acc: 0.63, acc_test: 0.54\n",
      "Epoch: 104 Loss: 0.62, Loss_test: 0.71, acc: 0.61, acc_test: 0.57\n",
      "Epoch: 105 Loss: 0.60, Loss_test: 0.72, acc: 0.65, acc_test: 0.56\n",
      "Epoch: 106 Loss: 0.58, Loss_test: 0.71, acc: 0.64, acc_test: 0.55\n",
      "Epoch: 107 Loss: 0.58, Loss_test: 0.72, acc: 0.70, acc_test: 0.54\n",
      "Epoch: 108 Loss: 0.57, Loss_test: 0.73, acc: 0.72, acc_test: 0.55\n",
      "Epoch: 109 Loss: 0.65, Loss_test: 0.72, acc: 0.60, acc_test: 0.54\n",
      "=> result saved!\n",
      "Epoch: 110 Loss: 0.62, Loss_test: 0.71, acc: 0.61, acc_test: 0.57\n",
      "Epoch: 111 Loss: 0.53, Loss_test: 0.71, acc: 0.72, acc_test: 0.54\n",
      "Epoch: 112 Loss: 0.58, Loss_test: 0.71, acc: 0.66, acc_test: 0.54\n",
      "Epoch: 113 Loss: 0.58, Loss_test: 0.71, acc: 0.68, acc_test: 0.58\n",
      "Epoch: 114 Loss: 0.54, Loss_test: 0.72, acc: 0.72, acc_test: 0.56\n",
      "Epoch: 115 Loss: 0.61, Loss_test: 0.72, acc: 0.66, acc_test: 0.55\n",
      "Epoch: 116 Loss: 0.59, Loss_test: 0.72, acc: 0.66, acc_test: 0.55\n",
      "Epoch: 117 Loss: 0.53, Loss_test: 0.71, acc: 0.74, acc_test: 0.55\n",
      "Epoch: 118 Loss: 0.52, Loss_test: 0.71, acc: 0.74, acc_test: 0.52\n",
      "Epoch: 119 Loss: 0.59, Loss_test: 0.71, acc: 0.66, acc_test: 0.54\n",
      "=> result saved!\n",
      "Epoch: 120 Loss: 0.54, Loss_test: 0.71, acc: 0.71, acc_test: 0.54\n",
      "Epoch: 121 Loss: 0.58, Loss_test: 0.71, acc: 0.73, acc_test: 0.56\n",
      "Epoch: 122 Loss: 0.54, Loss_test: 0.72, acc: 0.71, acc_test: 0.57\n",
      "Epoch: 123 Loss: 0.54, Loss_test: 0.72, acc: 0.70, acc_test: 0.55\n",
      "Epoch: 124 Loss: 0.61, Loss_test: 0.72, acc: 0.67, acc_test: 0.54\n",
      "Epoch: 125 Loss: 0.52, Loss_test: 0.72, acc: 0.73, acc_test: 0.55\n",
      "Epoch: 126 Loss: 0.56, Loss_test: 0.72, acc: 0.70, acc_test: 0.54\n",
      "Epoch: 127 Loss: 0.44, Loss_test: 0.72, acc: 0.81, acc_test: 0.55\n",
      "Epoch: 128 Loss: 0.54, Loss_test: 0.73, acc: 0.70, acc_test: 0.56\n",
      "Epoch: 129 Loss: 0.60, Loss_test: 0.74, acc: 0.69, acc_test: 0.55\n",
      "=> result saved!\n",
      "Epoch: 130 Loss: 0.55, Loss_test: 0.73, acc: 0.70, acc_test: 0.56\n",
      "Epoch: 131 Loss: 0.60, Loss_test: 0.72, acc: 0.65, acc_test: 0.55\n",
      "Epoch: 132 Loss: 0.60, Loss_test: 0.72, acc: 0.67, acc_test: 0.55\n",
      "Epoch: 133 Loss: 0.64, Loss_test: 0.72, acc: 0.59, acc_test: 0.55\n",
      "Epoch: 134 Loss: 0.52, Loss_test: 0.72, acc: 0.72, acc_test: 0.55\n",
      "Epoch: 135 Loss: 0.56, Loss_test: 0.72, acc: 0.73, acc_test: 0.55\n",
      "Epoch: 136 Loss: 0.61, Loss_test: 0.72, acc: 0.63, acc_test: 0.54\n",
      "Epoch: 137 Loss: 0.61, Loss_test: 0.71, acc: 0.67, acc_test: 0.53\n",
      "Epoch: 138 Loss: 0.56, Loss_test: 0.72, acc: 0.72, acc_test: 0.55\n",
      "Epoch: 139 Loss: 0.59, Loss_test: 0.71, acc: 0.70, acc_test: 0.55\n",
      "=> result saved!\n",
      "Epoch: 140 Loss: 0.62, Loss_test: 0.71, acc: 0.69, acc_test: 0.53\n",
      "Epoch: 141 Loss: 0.59, Loss_test: 0.71, acc: 0.68, acc_test: 0.54\n",
      "Epoch: 142 Loss: 0.62, Loss_test: 0.71, acc: 0.63, acc_test: 0.54\n",
      "Epoch: 143 Loss: 0.60, Loss_test: 0.71, acc: 0.67, acc_test: 0.53\n",
      "Epoch: 144 Loss: 0.54, Loss_test: 0.71, acc: 0.72, acc_test: 0.52\n",
      "Epoch: 145 Loss: 0.54, Loss_test: 0.71, acc: 0.77, acc_test: 0.54\n",
      "Epoch: 146 Loss: 0.60, Loss_test: 0.71, acc: 0.67, acc_test: 0.55\n",
      "Epoch: 147 Loss: 0.55, Loss_test: 0.71, acc: 0.67, acc_test: 0.53\n",
      "Epoch: 148 Loss: 0.53, Loss_test: 0.71, acc: 0.72, acc_test: 0.54\n",
      "Epoch: 149 Loss: 0.58, Loss_test: 0.71, acc: 0.69, acc_test: 0.55\n",
      "=> result saved!\n",
      "Epoch: 150 Loss: 0.55, Loss_test: 0.72, acc: 0.73, acc_test: 0.56\n",
      "Epoch: 151 Loss: 0.53, Loss_test: 0.72, acc: 0.73, acc_test: 0.56\n",
      "Epoch: 152 Loss: 0.60, Loss_test: 0.72, acc: 0.66, acc_test: 0.55\n",
      "Epoch: 153 Loss: 0.56, Loss_test: 0.72, acc: 0.75, acc_test: 0.53\n",
      "Epoch: 154 Loss: 0.52, Loss_test: 0.72, acc: 0.76, acc_test: 0.54\n",
      "Epoch: 155 Loss: 0.50, Loss_test: 0.71, acc: 0.75, acc_test: 0.55\n",
      "Epoch: 156 Loss: 0.53, Loss_test: 0.72, acc: 0.68, acc_test: 0.55\n",
      "Epoch: 157 Loss: 0.50, Loss_test: 0.72, acc: 0.75, acc_test: 0.54\n",
      "Epoch: 158 Loss: 0.52, Loss_test: 0.72, acc: 0.75, acc_test: 0.55\n",
      "Epoch: 159 Loss: 0.56, Loss_test: 0.72, acc: 0.73, acc_test: 0.55\n",
      "=> result saved!\n",
      "Epoch: 160 Loss: 0.56, Loss_test: 0.72, acc: 0.70, acc_test: 0.55\n",
      "Epoch: 161 Loss: 0.59, Loss_test: 0.72, acc: 0.67, acc_test: 0.55\n",
      "Epoch: 162 Loss: 0.60, Loss_test: 0.72, acc: 0.69, acc_test: 0.56\n",
      "Epoch: 163 Loss: 0.49, Loss_test: 0.72, acc: 0.80, acc_test: 0.56\n",
      "Epoch: 164 Loss: 0.53, Loss_test: 0.72, acc: 0.74, acc_test: 0.55\n",
      "Epoch: 165 Loss: 0.55, Loss_test: 0.72, acc: 0.67, acc_test: 0.54\n",
      "Epoch: 166 Loss: 0.58, Loss_test: 0.72, acc: 0.68, acc_test: 0.55\n",
      "Epoch: 167 Loss: 0.51, Loss_test: 0.72, acc: 0.74, acc_test: 0.54\n",
      "Epoch: 168 Loss: 0.53, Loss_test: 0.72, acc: 0.71, acc_test: 0.55\n",
      "Epoch: 169 Loss: 0.56, Loss_test: 0.72, acc: 0.70, acc_test: 0.55\n",
      "=> result saved!\n",
      "Epoch: 170 Loss: 0.55, Loss_test: 0.72, acc: 0.70, acc_test: 0.54\n",
      "Epoch: 171 Loss: 0.56, Loss_test: 0.73, acc: 0.70, acc_test: 0.56\n",
      "Epoch: 172 Loss: 0.57, Loss_test: 0.73, acc: 0.70, acc_test: 0.55\n",
      "Epoch: 173 Loss: 0.58, Loss_test: 0.73, acc: 0.69, acc_test: 0.55\n",
      "Epoch: 174 Loss: 0.52, Loss_test: 0.73, acc: 0.73, acc_test: 0.53\n",
      "Epoch: 175 Loss: 0.50, Loss_test: 0.73, acc: 0.73, acc_test: 0.53\n",
      "Epoch: 176 Loss: 0.54, Loss_test: 0.73, acc: 0.71, acc_test: 0.52\n",
      "Epoch: 177 Loss: 0.53, Loss_test: 0.74, acc: 0.76, acc_test: 0.54\n",
      "Epoch: 178 Loss: 0.54, Loss_test: 0.74, acc: 0.77, acc_test: 0.53\n",
      "Epoch: 179 Loss: 0.59, Loss_test: 0.73, acc: 0.66, acc_test: 0.54\n",
      "=> result saved!\n",
      "Epoch: 180 Loss: 0.49, Loss_test: 0.74, acc: 0.80, acc_test: 0.55\n",
      "Epoch: 181 Loss: 0.58, Loss_test: 0.73, acc: 0.73, acc_test: 0.55\n",
      "Epoch: 182 Loss: 0.56, Loss_test: 0.74, acc: 0.67, acc_test: 0.52\n",
      "Epoch: 183 Loss: 0.62, Loss_test: 0.74, acc: 0.66, acc_test: 0.53\n",
      "Epoch: 184 Loss: 0.55, Loss_test: 0.75, acc: 0.70, acc_test: 0.54\n",
      "Epoch: 185 Loss: 0.53, Loss_test: 0.74, acc: 0.73, acc_test: 0.53\n",
      "Epoch: 186 Loss: 0.60, Loss_test: 0.74, acc: 0.70, acc_test: 0.54\n",
      "Epoch: 187 Loss: 0.56, Loss_test: 0.73, acc: 0.71, acc_test: 0.54\n",
      "Epoch: 188 Loss: 0.53, Loss_test: 0.74, acc: 0.73, acc_test: 0.54\n",
      "Epoch: 189 Loss: 0.51, Loss_test: 0.73, acc: 0.74, acc_test: 0.54\n",
      "=> result saved!\n",
      "Epoch: 190 Loss: 0.50, Loss_test: 0.73, acc: 0.76, acc_test: 0.54\n",
      "Epoch: 191 Loss: 0.53, Loss_test: 0.73, acc: 0.71, acc_test: 0.54\n",
      "Epoch: 192 Loss: 0.55, Loss_test: 0.74, acc: 0.70, acc_test: 0.54\n",
      "Epoch: 193 Loss: 0.51, Loss_test: 0.74, acc: 0.77, acc_test: 0.53\n",
      "Epoch: 194 Loss: 0.57, Loss_test: 0.74, acc: 0.70, acc_test: 0.54\n",
      "Epoch: 195 Loss: 0.58, Loss_test: 0.73, acc: 0.71, acc_test: 0.55\n",
      "Epoch: 196 Loss: 0.54, Loss_test: 0.73, acc: 0.72, acc_test: 0.54\n",
      "Epoch: 197 Loss: 0.55, Loss_test: 0.73, acc: 0.66, acc_test: 0.55\n",
      "Epoch: 198 Loss: 0.54, Loss_test: 0.73, acc: 0.73, acc_test: 0.54\n",
      "Epoch: 199 Loss: 0.51, Loss_test: 0.75, acc: 0.73, acc_test: 0.55\n",
      "=> result saved!\n",
      "Epoch: 200 Loss: 0.53, Loss_test: 0.76, acc: 0.77, acc_test: 0.56\n",
      "Epoch: 201 Loss: 0.49, Loss_test: 0.74, acc: 0.76, acc_test: 0.54\n",
      "Epoch: 202 Loss: 0.54, Loss_test: 0.73, acc: 0.74, acc_test: 0.53\n",
      "Epoch: 203 Loss: 0.58, Loss_test: 0.73, acc: 0.64, acc_test: 0.54\n",
      "Epoch: 204 Loss: 0.50, Loss_test: 0.73, acc: 0.75, acc_test: 0.53\n",
      "Epoch: 205 Loss: 0.47, Loss_test: 0.73, acc: 0.77, acc_test: 0.52\n",
      "Epoch: 206 Loss: 0.48, Loss_test: 0.73, acc: 0.82, acc_test: 0.52\n",
      "Epoch: 207 Loss: 0.60, Loss_test: 0.74, acc: 0.66, acc_test: 0.50\n",
      "Epoch: 208 Loss: 0.55, Loss_test: 0.73, acc: 0.70, acc_test: 0.51\n",
      "Epoch: 209 Loss: 0.50, Loss_test: 0.73, acc: 0.73, acc_test: 0.54\n",
      "=> result saved!\n",
      "Epoch: 210 Loss: 0.49, Loss_test: 0.74, acc: 0.78, acc_test: 0.57\n",
      "Epoch: 211 Loss: 0.54, Loss_test: 0.73, acc: 0.73, acc_test: 0.57\n",
      "Epoch: 212 Loss: 0.55, Loss_test: 0.73, acc: 0.70, acc_test: 0.54\n",
      "Epoch: 213 Loss: 0.46, Loss_test: 0.73, acc: 0.80, acc_test: 0.54\n",
      "Epoch: 214 Loss: 0.53, Loss_test: 0.74, acc: 0.72, acc_test: 0.54\n",
      "Epoch: 215 Loss: 0.61, Loss_test: 0.73, acc: 0.69, acc_test: 0.55\n",
      "Epoch: 216 Loss: 0.52, Loss_test: 0.74, acc: 0.71, acc_test: 0.54\n",
      "Epoch: 217 Loss: 0.54, Loss_test: 0.75, acc: 0.70, acc_test: 0.55\n",
      "Epoch: 218 Loss: 0.59, Loss_test: 0.74, acc: 0.67, acc_test: 0.55\n",
      "Epoch: 219 Loss: 0.51, Loss_test: 0.73, acc: 0.69, acc_test: 0.54\n",
      "=> result saved!\n",
      "Epoch: 220 Loss: 0.53, Loss_test: 0.73, acc: 0.76, acc_test: 0.54\n",
      "Epoch: 221 Loss: 0.55, Loss_test: 0.73, acc: 0.69, acc_test: 0.53\n",
      "Epoch: 222 Loss: 0.53, Loss_test: 0.72, acc: 0.70, acc_test: 0.54\n"
     ]
    },
    {
     "name": "stdout",
     "output_type": "stream",
     "text": [
      "Epoch: 223 Loss: 0.53, Loss_test: 0.72, acc: 0.74, acc_test: 0.55\n",
      "Epoch: 224 Loss: 0.59, Loss_test: 0.72, acc: 0.69, acc_test: 0.54\n",
      "Epoch: 225 Loss: 0.54, Loss_test: 0.72, acc: 0.70, acc_test: 0.55\n",
      "Epoch: 226 Loss: 0.56, Loss_test: 0.72, acc: 0.67, acc_test: 0.55\n",
      "Epoch: 227 Loss: 0.49, Loss_test: 0.73, acc: 0.78, acc_test: 0.54\n",
      "Epoch: 228 Loss: 0.53, Loss_test: 0.73, acc: 0.70, acc_test: 0.55\n",
      "Epoch: 229 Loss: 0.57, Loss_test: 0.72, acc: 0.71, acc_test: 0.54\n",
      "=> result saved!\n",
      "Epoch: 230 Loss: 0.51, Loss_test: 0.72, acc: 0.75, acc_test: 0.55\n",
      "Epoch: 231 Loss: 0.55, Loss_test: 0.72, acc: 0.70, acc_test: 0.55\n",
      "Epoch: 232 Loss: 0.50, Loss_test: 0.72, acc: 0.76, acc_test: 0.54\n",
      "Epoch: 233 Loss: 0.50, Loss_test: 0.72, acc: 0.76, acc_test: 0.54\n",
      "Epoch: 234 Loss: 0.53, Loss_test: 0.72, acc: 0.74, acc_test: 0.54\n",
      "Epoch: 235 Loss: 0.47, Loss_test: 0.72, acc: 0.73, acc_test: 0.54\n",
      "Epoch: 236 Loss: 0.48, Loss_test: 0.73, acc: 0.77, acc_test: 0.55\n",
      "Epoch: 237 Loss: 0.52, Loss_test: 0.73, acc: 0.76, acc_test: 0.57\n",
      "Epoch: 238 Loss: 0.54, Loss_test: 0.73, acc: 0.71, acc_test: 0.56\n",
      "Epoch: 239 Loss: 0.51, Loss_test: 0.73, acc: 0.77, acc_test: 0.54\n",
      "=> result saved!\n",
      "Epoch: 240 Loss: 0.49, Loss_test: 0.74, acc: 0.74, acc_test: 0.54\n",
      "Epoch: 241 Loss: 0.51, Loss_test: 0.74, acc: 0.71, acc_test: 0.52\n",
      "Epoch: 242 Loss: 0.54, Loss_test: 0.74, acc: 0.66, acc_test: 0.54\n",
      "Epoch: 243 Loss: 0.49, Loss_test: 0.74, acc: 0.73, acc_test: 0.54\n",
      "Epoch: 244 Loss: 0.53, Loss_test: 0.74, acc: 0.73, acc_test: 0.54\n",
      "Epoch: 245 Loss: 0.48, Loss_test: 0.74, acc: 0.79, acc_test: 0.54\n",
      "Epoch: 246 Loss: 0.46, Loss_test: 0.73, acc: 0.78, acc_test: 0.55\n",
      "Epoch: 247 Loss: 0.55, Loss_test: 0.73, acc: 0.73, acc_test: 0.54\n",
      "Epoch: 248 Loss: 0.55, Loss_test: 0.74, acc: 0.74, acc_test: 0.54\n",
      "Epoch: 249 Loss: 0.49, Loss_test: 0.77, acc: 0.73, acc_test: 0.56\n",
      "=> result saved!\n",
      "Epoch: 250 Loss: 0.61, Loss_test: 0.76, acc: 0.63, acc_test: 0.55\n",
      "Epoch: 251 Loss: 0.53, Loss_test: 0.73, acc: 0.73, acc_test: 0.52\n",
      "Epoch: 252 Loss: 0.47, Loss_test: 0.73, acc: 0.73, acc_test: 0.57\n",
      "Epoch: 253 Loss: 0.48, Loss_test: 0.74, acc: 0.77, acc_test: 0.57\n",
      "Epoch: 254 Loss: 0.55, Loss_test: 0.73, acc: 0.68, acc_test: 0.54\n",
      "Epoch: 255 Loss: 0.57, Loss_test: 0.74, acc: 0.72, acc_test: 0.53\n",
      "Epoch: 256 Loss: 0.61, Loss_test: 0.74, acc: 0.70, acc_test: 0.54\n",
      "Epoch: 257 Loss: 0.51, Loss_test: 0.73, acc: 0.73, acc_test: 0.54\n",
      "Epoch: 258 Loss: 0.60, Loss_test: 0.73, acc: 0.66, acc_test: 0.55\n",
      "Epoch: 259 Loss: 0.48, Loss_test: 0.73, acc: 0.75, acc_test: 0.55\n",
      "=> result saved!\n",
      "Epoch: 260 Loss: 0.59, Loss_test: 0.73, acc: 0.68, acc_test: 0.55\n",
      "Epoch: 261 Loss: 0.46, Loss_test: 0.73, acc: 0.76, acc_test: 0.52\n",
      "Epoch: 262 Loss: 0.55, Loss_test: 0.75, acc: 0.66, acc_test: 0.54\n",
      "Epoch: 263 Loss: 0.53, Loss_test: 0.75, acc: 0.73, acc_test: 0.54\n",
      "Epoch: 264 Loss: 0.55, Loss_test: 0.74, acc: 0.72, acc_test: 0.53\n",
      "Epoch: 265 Loss: 0.51, Loss_test: 0.73, acc: 0.77, acc_test: 0.54\n",
      "Epoch: 266 Loss: 0.53, Loss_test: 0.73, acc: 0.72, acc_test: 0.53\n",
      "Epoch: 267 Loss: 0.53, Loss_test: 0.73, acc: 0.68, acc_test: 0.52\n",
      "Epoch: 268 Loss: 0.49, Loss_test: 0.73, acc: 0.80, acc_test: 0.51\n",
      "Epoch: 269 Loss: 0.54, Loss_test: 0.73, acc: 0.71, acc_test: 0.55\n",
      "=> result saved!\n",
      "Epoch: 270 Loss: 0.59, Loss_test: 0.73, acc: 0.67, acc_test: 0.55\n",
      "Epoch: 271 Loss: 0.57, Loss_test: 0.72, acc: 0.69, acc_test: 0.57\n",
      "Epoch: 272 Loss: 0.50, Loss_test: 0.72, acc: 0.76, acc_test: 0.56\n",
      "Epoch: 273 Loss: 0.50, Loss_test: 0.72, acc: 0.77, acc_test: 0.54\n",
      "Epoch: 274 Loss: 0.47, Loss_test: 0.73, acc: 0.80, acc_test: 0.54\n",
      "Epoch: 275 Loss: 0.51, Loss_test: 0.73, acc: 0.71, acc_test: 0.54\n",
      "Epoch: 276 Loss: 0.49, Loss_test: 0.72, acc: 0.73, acc_test: 0.55\n",
      "Epoch: 277 Loss: 0.51, Loss_test: 0.74, acc: 0.73, acc_test: 0.56\n",
      "Epoch: 278 Loss: 0.52, Loss_test: 0.75, acc: 0.74, acc_test: 0.58\n",
      "Epoch: 279 Loss: 0.56, Loss_test: 0.73, acc: 0.73, acc_test: 0.57\n",
      "=> result saved!\n",
      "Epoch: 280 Loss: 0.48, Loss_test: 0.72, acc: 0.77, acc_test: 0.53\n",
      "Epoch: 281 Loss: 0.57, Loss_test: 0.73, acc: 0.67, acc_test: 0.53\n",
      "Epoch: 282 Loss: 0.52, Loss_test: 0.72, acc: 0.73, acc_test: 0.54\n",
      "Epoch: 283 Loss: 0.56, Loss_test: 0.72, acc: 0.70, acc_test: 0.57\n",
      "Epoch: 284 Loss: 0.50, Loss_test: 0.75, acc: 0.74, acc_test: 0.59\n",
      "Epoch: 285 Loss: 0.57, Loss_test: 0.73, acc: 0.68, acc_test: 0.57\n",
      "Epoch: 286 Loss: 0.58, Loss_test: 0.72, acc: 0.68, acc_test: 0.52\n",
      "Epoch: 287 Loss: 0.53, Loss_test: 0.73, acc: 0.72, acc_test: 0.56\n",
      "Epoch: 288 Loss: 0.47, Loss_test: 0.73, acc: 0.78, acc_test: 0.56\n",
      "Epoch: 289 Loss: 0.59, Loss_test: 0.71, acc: 0.66, acc_test: 0.54\n",
      "=> result saved!\n",
      "Epoch: 290 Loss: 0.51, Loss_test: 0.72, acc: 0.75, acc_test: 0.57\n",
      "Epoch: 291 Loss: 0.51, Loss_test: 0.73, acc: 0.72, acc_test: 0.59\n",
      "Epoch: 292 Loss: 0.59, Loss_test: 0.71, acc: 0.66, acc_test: 0.57\n",
      "Epoch: 293 Loss: 0.48, Loss_test: 0.71, acc: 0.76, acc_test: 0.53\n",
      "Epoch: 294 Loss: 0.57, Loss_test: 0.73, acc: 0.73, acc_test: 0.57\n",
      "Epoch: 295 Loss: 0.58, Loss_test: 0.72, acc: 0.70, acc_test: 0.57\n",
      "Epoch: 296 Loss: 0.48, Loss_test: 0.71, acc: 0.77, acc_test: 0.55\n",
      "Epoch: 297 Loss: 0.53, Loss_test: 0.71, acc: 0.72, acc_test: 0.59\n",
      "Epoch: 298 Loss: 0.43, Loss_test: 0.72, acc: 0.82, acc_test: 0.58\n",
      "Epoch: 299 Loss: 0.54, Loss_test: 0.71, acc: 0.68, acc_test: 0.58\n",
      "=> result saved!\n",
      "Epoch: 300 Loss: 0.54, Loss_test: 0.71, acc: 0.75, acc_test: 0.54\n",
      "Epoch: 301 Loss: 0.43, Loss_test: 0.72, acc: 0.80, acc_test: 0.57\n",
      "Epoch: 302 Loss: 0.56, Loss_test: 0.72, acc: 0.68, acc_test: 0.55\n",
      "Epoch: 303 Loss: 0.50, Loss_test: 0.71, acc: 0.76, acc_test: 0.55\n",
      "Epoch: 304 Loss: 0.53, Loss_test: 0.72, acc: 0.74, acc_test: 0.56\n",
      "Epoch: 305 Loss: 0.54, Loss_test: 0.73, acc: 0.72, acc_test: 0.56\n",
      "Epoch: 306 Loss: 0.58, Loss_test: 0.71, acc: 0.66, acc_test: 0.57\n",
      "Epoch: 307 Loss: 0.53, Loss_test: 0.72, acc: 0.71, acc_test: 0.56\n",
      "Epoch: 308 Loss: 0.50, Loss_test: 0.75, acc: 0.76, acc_test: 0.55\n",
      "Epoch: 309 Loss: 0.54, Loss_test: 0.74, acc: 0.69, acc_test: 0.55\n",
      "=> result saved!\n",
      "Epoch: 310 Loss: 0.56, Loss_test: 0.72, acc: 0.66, acc_test: 0.54\n",
      "Epoch: 311 Loss: 0.45, Loss_test: 0.72, acc: 0.77, acc_test: 0.55\n",
      "Epoch: 312 Loss: 0.51, Loss_test: 0.74, acc: 0.72, acc_test: 0.55\n",
      "Epoch: 313 Loss: 0.54, Loss_test: 0.73, acc: 0.71, acc_test: 0.54\n",
      "Epoch: 314 Loss: 0.55, Loss_test: 0.71, acc: 0.70, acc_test: 0.54\n",
      "Epoch: 315 Loss: 0.50, Loss_test: 0.73, acc: 0.73, acc_test: 0.57\n",
      "Epoch: 316 Loss: 0.56, Loss_test: 0.74, acc: 0.70, acc_test: 0.56\n",
      "Epoch: 317 Loss: 0.66, Loss_test: 0.72, acc: 0.66, acc_test: 0.55\n",
      "Epoch: 318 Loss: 0.46, Loss_test: 0.71, acc: 0.79, acc_test: 0.56\n",
      "Epoch: 319 Loss: 0.44, Loss_test: 0.71, acc: 0.80, acc_test: 0.54\n",
      "=> result saved!\n",
      "Epoch: 320 Loss: 0.49, Loss_test: 0.71, acc: 0.76, acc_test: 0.55\n",
      "Epoch: 321 Loss: 0.55, Loss_test: 0.71, acc: 0.72, acc_test: 0.55\n",
      "Epoch: 322 Loss: 0.51, Loss_test: 0.71, acc: 0.73, acc_test: 0.57\n",
      "Epoch: 323 Loss: 0.48, Loss_test: 0.71, acc: 0.80, acc_test: 0.58\n",
      "Epoch: 324 Loss: 0.49, Loss_test: 0.72, acc: 0.76, acc_test: 0.58\n",
      "Epoch: 325 Loss: 0.52, Loss_test: 0.72, acc: 0.73, acc_test: 0.57\n",
      "Epoch: 326 Loss: 0.49, Loss_test: 0.71, acc: 0.74, acc_test: 0.57\n",
      "Epoch: 327 Loss: 0.56, Loss_test: 0.71, acc: 0.70, acc_test: 0.56\n",
      "Epoch: 328 Loss: 0.50, Loss_test: 0.71, acc: 0.80, acc_test: 0.54\n",
      "Epoch: 329 Loss: 0.56, Loss_test: 0.71, acc: 0.69, acc_test: 0.55\n",
      "=> result saved!\n",
      "Epoch: 330 Loss: 0.51, Loss_test: 0.71, acc: 0.73, acc_test: 0.57\n",
      "Epoch: 331 Loss: 0.41, Loss_test: 0.71, acc: 0.80, acc_test: 0.56\n",
      "Epoch: 332 Loss: 0.49, Loss_test: 0.71, acc: 0.71, acc_test: 0.56\n",
      "Epoch: 333 Loss: 0.56, Loss_test: 0.71, acc: 0.73, acc_test: 0.55\n",
      "Epoch: 334 Loss: 0.51, Loss_test: 0.71, acc: 0.73, acc_test: 0.56\n",
      "Epoch: 335 Loss: 0.56, Loss_test: 0.72, acc: 0.69, acc_test: 0.56\n",
      "Epoch: 336 Loss: 0.54, Loss_test: 0.72, acc: 0.70, acc_test: 0.55\n",
      "Epoch: 337 Loss: 0.48, Loss_test: 0.72, acc: 0.75, acc_test: 0.55\n",
      "Epoch: 338 Loss: 0.61, Loss_test: 0.72, acc: 0.66, acc_test: 0.55\n",
      "Epoch: 339 Loss: 0.55, Loss_test: 0.71, acc: 0.71, acc_test: 0.57\n",
      "=> result saved!\n",
      "Epoch: 340 Loss: 0.46, Loss_test: 0.72, acc: 0.80, acc_test: 0.56\n",
      "Epoch: 341 Loss: 0.45, Loss_test: 0.73, acc: 0.73, acc_test: 0.58\n",
      "Epoch: 342 Loss: 0.50, Loss_test: 0.72, acc: 0.72, acc_test: 0.59\n",
      "Epoch: 343 Loss: 0.48, Loss_test: 0.71, acc: 0.77, acc_test: 0.59\n",
      "Epoch: 344 Loss: 0.50, Loss_test: 0.71, acc: 0.74, acc_test: 0.59\n"
     ]
    },
    {
     "name": "stdout",
     "output_type": "stream",
     "text": [
      "Epoch: 345 Loss: 0.41, Loss_test: 0.71, acc: 0.84, acc_test: 0.58\n",
      "Epoch: 346 Loss: 0.50, Loss_test: 0.71, acc: 0.76, acc_test: 0.57\n",
      "Epoch: 347 Loss: 0.50, Loss_test: 0.70, acc: 0.75, acc_test: 0.58\n",
      "Epoch: 348 Loss: 0.46, Loss_test: 0.70, acc: 0.75, acc_test: 0.59\n",
      "Epoch: 349 Loss: 0.48, Loss_test: 0.71, acc: 0.75, acc_test: 0.58\n",
      "=> result saved!\n",
      "Epoch: 350 Loss: 0.56, Loss_test: 0.71, acc: 0.68, acc_test: 0.58\n",
      "Epoch: 351 Loss: 0.45, Loss_test: 0.70, acc: 0.79, acc_test: 0.56\n",
      "Epoch: 352 Loss: 0.52, Loss_test: 0.70, acc: 0.75, acc_test: 0.55\n",
      "Epoch: 353 Loss: 0.51, Loss_test: 0.70, acc: 0.75, acc_test: 0.56\n",
      "Epoch: 354 Loss: 0.51, Loss_test: 0.71, acc: 0.79, acc_test: 0.55\n",
      "Epoch: 355 Loss: 0.44, Loss_test: 0.72, acc: 0.80, acc_test: 0.56\n",
      "Epoch: 356 Loss: 0.48, Loss_test: 0.73, acc: 0.77, acc_test: 0.55\n",
      "Epoch: 357 Loss: 0.49, Loss_test: 0.74, acc: 0.78, acc_test: 0.56\n",
      "Epoch: 358 Loss: 0.42, Loss_test: 0.74, acc: 0.80, acc_test: 0.55\n",
      "Epoch: 359 Loss: 0.51, Loss_test: 0.73, acc: 0.77, acc_test: 0.55\n",
      "=> result saved!\n",
      "Epoch: 360 Loss: 0.42, Loss_test: 0.72, acc: 0.77, acc_test: 0.54\n",
      "Epoch: 361 Loss: 0.49, Loss_test: 0.72, acc: 0.76, acc_test: 0.54\n",
      "Epoch: 362 Loss: 0.49, Loss_test: 0.72, acc: 0.77, acc_test: 0.53\n",
      "Epoch: 363 Loss: 0.49, Loss_test: 0.72, acc: 0.76, acc_test: 0.55\n",
      "Epoch: 364 Loss: 0.51, Loss_test: 0.73, acc: 0.75, acc_test: 0.55\n",
      "Epoch: 365 Loss: 0.40, Loss_test: 0.74, acc: 0.84, acc_test: 0.56\n",
      "Epoch: 366 Loss: 0.40, Loss_test: 0.75, acc: 0.78, acc_test: 0.57\n",
      "Epoch: 367 Loss: 0.54, Loss_test: 0.73, acc: 0.71, acc_test: 0.57\n",
      "Epoch: 368 Loss: 0.56, Loss_test: 0.72, acc: 0.72, acc_test: 0.54\n",
      "Epoch: 369 Loss: 0.52, Loss_test: 0.71, acc: 0.77, acc_test: 0.55\n",
      "=> result saved!\n",
      "Epoch: 370 Loss: 0.48, Loss_test: 0.71, acc: 0.73, acc_test: 0.55\n",
      "Epoch: 371 Loss: 0.49, Loss_test: 0.71, acc: 0.73, acc_test: 0.55\n",
      "Epoch: 372 Loss: 0.52, Loss_test: 0.72, acc: 0.68, acc_test: 0.56\n",
      "Epoch: 373 Loss: 0.56, Loss_test: 0.72, acc: 0.76, acc_test: 0.56\n",
      "Epoch: 374 Loss: 0.45, Loss_test: 0.71, acc: 0.80, acc_test: 0.55\n",
      "Epoch: 375 Loss: 0.57, Loss_test: 0.72, acc: 0.72, acc_test: 0.57\n",
      "Epoch: 376 Loss: 0.42, Loss_test: 0.73, acc: 0.78, acc_test: 0.60\n",
      "Epoch: 377 Loss: 0.53, Loss_test: 0.73, acc: 0.68, acc_test: 0.60\n",
      "Epoch: 378 Loss: 0.55, Loss_test: 0.72, acc: 0.70, acc_test: 0.60\n",
      "Epoch: 379 Loss: 0.50, Loss_test: 0.71, acc: 0.77, acc_test: 0.56\n",
      "=> result saved!\n",
      "Epoch: 380 Loss: 0.50, Loss_test: 0.71, acc: 0.76, acc_test: 0.57\n",
      "Epoch: 381 Loss: 0.51, Loss_test: 0.71, acc: 0.73, acc_test: 0.57\n",
      "Epoch: 382 Loss: 0.48, Loss_test: 0.72, acc: 0.81, acc_test: 0.57\n",
      "Epoch: 383 Loss: 0.46, Loss_test: 0.73, acc: 0.81, acc_test: 0.59\n",
      "Epoch: 384 Loss: 0.53, Loss_test: 0.72, acc: 0.73, acc_test: 0.58\n",
      "Epoch: 385 Loss: 0.44, Loss_test: 0.71, acc: 0.80, acc_test: 0.57\n",
      "Epoch: 386 Loss: 0.55, Loss_test: 0.72, acc: 0.66, acc_test: 0.58\n",
      "Epoch: 387 Loss: 0.42, Loss_test: 0.72, acc: 0.80, acc_test: 0.58\n",
      "Epoch: 388 Loss: 0.61, Loss_test: 0.71, acc: 0.68, acc_test: 0.57\n",
      "Epoch: 389 Loss: 0.49, Loss_test: 0.71, acc: 0.79, acc_test: 0.57\n",
      "=> result saved!\n",
      "Epoch: 390 Loss: 0.45, Loss_test: 0.71, acc: 0.80, acc_test: 0.57\n",
      "Epoch: 391 Loss: 0.50, Loss_test: 0.71, acc: 0.76, acc_test: 0.57\n",
      "Epoch: 392 Loss: 0.46, Loss_test: 0.71, acc: 0.75, acc_test: 0.58\n",
      "Epoch: 393 Loss: 0.56, Loss_test: 0.71, acc: 0.68, acc_test: 0.57\n",
      "Epoch: 394 Loss: 0.52, Loss_test: 0.71, acc: 0.74, acc_test: 0.56\n",
      "Epoch: 395 Loss: 0.48, Loss_test: 0.71, acc: 0.74, acc_test: 0.55\n",
      "Epoch: 396 Loss: 0.48, Loss_test: 0.71, acc: 0.77, acc_test: 0.56\n",
      "Epoch: 397 Loss: 0.47, Loss_test: 0.71, acc: 0.77, acc_test: 0.59\n",
      "Epoch: 398 Loss: 0.50, Loss_test: 0.72, acc: 0.76, acc_test: 0.58\n",
      "Epoch: 399 Loss: 0.47, Loss_test: 0.72, acc: 0.78, acc_test: 0.56\n",
      "=> result saved!\n",
      "Epoch: 400 Loss: 0.42, Loss_test: 0.73, acc: 0.83, acc_test: 0.55\n",
      "Epoch: 401 Loss: 0.50, Loss_test: 0.73, acc: 0.74, acc_test: 0.55\n",
      "Epoch: 402 Loss: 0.50, Loss_test: 0.73, acc: 0.73, acc_test: 0.58\n",
      "Epoch: 403 Loss: 0.53, Loss_test: 0.74, acc: 0.74, acc_test: 0.61\n",
      "Epoch: 404 Loss: 0.41, Loss_test: 0.74, acc: 0.80, acc_test: 0.61\n",
      "Epoch: 405 Loss: 0.48, Loss_test: 0.74, acc: 0.75, acc_test: 0.57\n",
      "Epoch: 406 Loss: 0.37, Loss_test: 0.75, acc: 0.87, acc_test: 0.57\n",
      "Epoch: 407 Loss: 0.54, Loss_test: 0.74, acc: 0.73, acc_test: 0.58\n",
      "Epoch: 408 Loss: 0.51, Loss_test: 0.74, acc: 0.70, acc_test: 0.60\n",
      "Epoch: 409 Loss: 0.45, Loss_test: 0.74, acc: 0.80, acc_test: 0.59\n",
      "=> result saved!\n",
      "Epoch: 410 Loss: 0.47, Loss_test: 0.73, acc: 0.77, acc_test: 0.59\n",
      "Epoch: 411 Loss: 0.53, Loss_test: 0.73, acc: 0.72, acc_test: 0.60\n",
      "Epoch: 412 Loss: 0.43, Loss_test: 0.73, acc: 0.81, acc_test: 0.59\n",
      "Epoch: 413 Loss: 0.46, Loss_test: 0.72, acc: 0.76, acc_test: 0.58\n",
      "Epoch: 414 Loss: 0.40, Loss_test: 0.72, acc: 0.84, acc_test: 0.60\n",
      "Epoch: 415 Loss: 0.56, Loss_test: 0.72, acc: 0.70, acc_test: 0.59\n",
      "Epoch: 416 Loss: 0.51, Loss_test: 0.72, acc: 0.77, acc_test: 0.58\n",
      "Epoch: 417 Loss: 0.41, Loss_test: 0.72, acc: 0.77, acc_test: 0.60\n",
      "Epoch: 418 Loss: 0.50, Loss_test: 0.72, acc: 0.73, acc_test: 0.60\n",
      "Epoch: 419 Loss: 0.47, Loss_test: 0.73, acc: 0.73, acc_test: 0.60\n",
      "=> result saved!\n",
      "Epoch: 420 Loss: 0.44, Loss_test: 0.73, acc: 0.80, acc_test: 0.61\n",
      "Epoch: 421 Loss: 0.53, Loss_test: 0.73, acc: 0.77, acc_test: 0.59\n",
      "Epoch: 422 Loss: 0.46, Loss_test: 0.73, acc: 0.80, acc_test: 0.57\n",
      "Epoch: 423 Loss: 0.46, Loss_test: 0.72, acc: 0.79, acc_test: 0.58\n",
      "Epoch: 424 Loss: 0.43, Loss_test: 0.72, acc: 0.77, acc_test: 0.58\n",
      "Epoch: 425 Loss: 0.47, Loss_test: 0.72, acc: 0.79, acc_test: 0.57\n",
      "Epoch: 426 Loss: 0.53, Loss_test: 0.71, acc: 0.77, acc_test: 0.59\n",
      "Epoch: 427 Loss: 0.52, Loss_test: 0.71, acc: 0.75, acc_test: 0.59\n",
      "Epoch: 428 Loss: 0.54, Loss_test: 0.71, acc: 0.77, acc_test: 0.58\n",
      "Epoch: 429 Loss: 0.45, Loss_test: 0.71, acc: 0.80, acc_test: 0.57\n",
      "=> result saved!\n",
      "Epoch: 430 Loss: 0.42, Loss_test: 0.72, acc: 0.81, acc_test: 0.56\n",
      "Epoch: 431 Loss: 0.47, Loss_test: 0.72, acc: 0.74, acc_test: 0.57\n",
      "Epoch: 432 Loss: 0.53, Loss_test: 0.72, acc: 0.71, acc_test: 0.59\n",
      "Epoch: 433 Loss: 0.50, Loss_test: 0.73, acc: 0.75, acc_test: 0.58\n",
      "Epoch: 434 Loss: 0.49, Loss_test: 0.73, acc: 0.76, acc_test: 0.58\n",
      "Epoch: 435 Loss: 0.48, Loss_test: 0.73, acc: 0.73, acc_test: 0.59\n",
      "Epoch: 436 Loss: 0.53, Loss_test: 0.74, acc: 0.66, acc_test: 0.58\n",
      "Epoch: 437 Loss: 0.41, Loss_test: 0.73, acc: 0.84, acc_test: 0.59\n",
      "Epoch: 438 Loss: 0.45, Loss_test: 0.73, acc: 0.81, acc_test: 0.60\n",
      "Epoch: 439 Loss: 0.49, Loss_test: 0.73, acc: 0.73, acc_test: 0.59\n",
      "=> result saved!\n",
      "Epoch: 440 Loss: 0.46, Loss_test: 0.74, acc: 0.77, acc_test: 0.59\n",
      "Epoch: 441 Loss: 0.51, Loss_test: 0.73, acc: 0.73, acc_test: 0.59\n",
      "Epoch: 442 Loss: 0.44, Loss_test: 0.73, acc: 0.81, acc_test: 0.58\n",
      "Epoch: 443 Loss: 0.49, Loss_test: 0.73, acc: 0.73, acc_test: 0.57\n",
      "Epoch: 444 Loss: 0.55, Loss_test: 0.72, acc: 0.68, acc_test: 0.57\n",
      "Epoch: 445 Loss: 0.46, Loss_test: 0.72, acc: 0.77, acc_test: 0.56\n",
      "Epoch: 446 Loss: 0.47, Loss_test: 0.72, acc: 0.77, acc_test: 0.56\n",
      "Epoch: 447 Loss: 0.48, Loss_test: 0.72, acc: 0.76, acc_test: 0.57\n",
      "Epoch: 448 Loss: 0.50, Loss_test: 0.72, acc: 0.76, acc_test: 0.56\n",
      "Epoch: 449 Loss: 0.51, Loss_test: 0.72, acc: 0.72, acc_test: 0.58\n",
      "=> result saved!\n",
      "Epoch: 450 Loss: 0.46, Loss_test: 0.72, acc: 0.76, acc_test: 0.59\n",
      "Epoch: 451 Loss: 0.46, Loss_test: 0.71, acc: 0.84, acc_test: 0.57\n",
      "Epoch: 452 Loss: 0.44, Loss_test: 0.71, acc: 0.76, acc_test: 0.55\n",
      "Epoch: 453 Loss: 0.47, Loss_test: 0.71, acc: 0.79, acc_test: 0.54\n",
      "Epoch: 454 Loss: 0.49, Loss_test: 0.71, acc: 0.76, acc_test: 0.54\n",
      "Epoch: 455 Loss: 0.48, Loss_test: 0.71, acc: 0.75, acc_test: 0.56\n",
      "Epoch: 456 Loss: 0.49, Loss_test: 0.72, acc: 0.81, acc_test: 0.58\n",
      "Epoch: 457 Loss: 0.44, Loss_test: 0.72, acc: 0.79, acc_test: 0.58\n",
      "Epoch: 458 Loss: 0.46, Loss_test: 0.74, acc: 0.73, acc_test: 0.57\n",
      "Epoch: 459 Loss: 0.50, Loss_test: 0.78, acc: 0.76, acc_test: 0.58\n",
      "=> result saved!\n",
      "Epoch: 460 Loss: 0.51, Loss_test: 0.77, acc: 0.74, acc_test: 0.57\n",
      "Epoch: 461 Loss: 0.51, Loss_test: 0.75, acc: 0.75, acc_test: 0.57\n",
      "Epoch: 462 Loss: 0.40, Loss_test: 0.73, acc: 0.83, acc_test: 0.57\n",
      "Epoch: 463 Loss: 0.50, Loss_test: 0.73, acc: 0.77, acc_test: 0.57\n",
      "Epoch: 464 Loss: 0.43, Loss_test: 0.72, acc: 0.78, acc_test: 0.58\n",
      "Epoch: 465 Loss: 0.54, Loss_test: 0.73, acc: 0.66, acc_test: 0.57\n",
      "Epoch: 466 Loss: 0.37, Loss_test: 0.75, acc: 0.84, acc_test: 0.58\n"
     ]
    },
    {
     "name": "stdout",
     "output_type": "stream",
     "text": [
      "Epoch: 467 Loss: 0.45, Loss_test: 0.73, acc: 0.77, acc_test: 0.56\n",
      "Epoch: 468 Loss: 0.41, Loss_test: 0.72, acc: 0.76, acc_test: 0.57\n",
      "Epoch: 469 Loss: 0.36, Loss_test: 0.72, acc: 0.84, acc_test: 0.58\n",
      "=> result saved!\n",
      "Epoch: 470 Loss: 0.62, Loss_test: 0.72, acc: 0.66, acc_test: 0.56\n",
      "Epoch: 471 Loss: 0.57, Loss_test: 0.72, acc: 0.71, acc_test: 0.57\n",
      "Epoch: 472 Loss: 0.51, Loss_test: 0.72, acc: 0.74, acc_test: 0.57\n",
      "Epoch: 473 Loss: 0.54, Loss_test: 0.73, acc: 0.77, acc_test: 0.57\n",
      "Epoch: 474 Loss: 0.46, Loss_test: 0.72, acc: 0.77, acc_test: 0.55\n",
      "Epoch: 475 Loss: 0.39, Loss_test: 0.72, acc: 0.84, acc_test: 0.56\n",
      "Epoch: 476 Loss: 0.46, Loss_test: 0.72, acc: 0.78, acc_test: 0.53\n",
      "Epoch: 477 Loss: 0.51, Loss_test: 0.72, acc: 0.74, acc_test: 0.55\n",
      "Epoch: 478 Loss: 0.47, Loss_test: 0.72, acc: 0.77, acc_test: 0.57\n",
      "Epoch: 479 Loss: 0.39, Loss_test: 0.73, acc: 0.80, acc_test: 0.58\n",
      "=> result saved!\n",
      "Epoch: 480 Loss: 0.47, Loss_test: 0.72, acc: 0.74, acc_test: 0.57\n",
      "Epoch: 481 Loss: 0.41, Loss_test: 0.72, acc: 0.81, acc_test: 0.54\n",
      "Epoch: 482 Loss: 0.48, Loss_test: 0.72, acc: 0.75, acc_test: 0.55\n",
      "Epoch: 483 Loss: 0.41, Loss_test: 0.72, acc: 0.80, acc_test: 0.54\n",
      "Epoch: 484 Loss: 0.52, Loss_test: 0.72, acc: 0.72, acc_test: 0.55\n",
      "Epoch: 485 Loss: 0.47, Loss_test: 0.72, acc: 0.73, acc_test: 0.54\n",
      "Epoch: 486 Loss: 0.42, Loss_test: 0.72, acc: 0.80, acc_test: 0.56\n",
      "Epoch: 487 Loss: 0.44, Loss_test: 0.73, acc: 0.78, acc_test: 0.57\n",
      "Epoch: 488 Loss: 0.51, Loss_test: 0.74, acc: 0.70, acc_test: 0.58\n",
      "Epoch: 489 Loss: 0.43, Loss_test: 0.73, acc: 0.84, acc_test: 0.58\n",
      "=> result saved!\n",
      "Epoch: 490 Loss: 0.47, Loss_test: 0.72, acc: 0.78, acc_test: 0.55\n",
      "Epoch: 491 Loss: 0.45, Loss_test: 0.72, acc: 0.75, acc_test: 0.55\n",
      "Epoch: 492 Loss: 0.41, Loss_test: 0.72, acc: 0.80, acc_test: 0.56\n",
      "Epoch: 493 Loss: 0.45, Loss_test: 0.72, acc: 0.80, acc_test: 0.56\n",
      "Epoch: 494 Loss: 0.48, Loss_test: 0.73, acc: 0.80, acc_test: 0.57\n",
      "Epoch: 495 Loss: 0.46, Loss_test: 0.75, acc: 0.78, acc_test: 0.56\n",
      "Epoch: 496 Loss: 0.49, Loss_test: 0.72, acc: 0.77, acc_test: 0.57\n",
      "Epoch: 497 Loss: 0.51, Loss_test: 0.74, acc: 0.76, acc_test: 0.59\n",
      "Epoch: 498 Loss: 0.42, Loss_test: 0.78, acc: 0.84, acc_test: 0.58\n",
      "Epoch: 499 Loss: 0.49, Loss_test: 0.76, acc: 0.76, acc_test: 0.60\n",
      "=> result saved!\n",
      "Epoch: 500 Loss: 0.45, Loss_test: 0.74, acc: 0.75, acc_test: 0.57\n",
      "Epoch: 501 Loss: 0.44, Loss_test: 0.78, acc: 0.79, acc_test: 0.57\n",
      "Epoch: 502 Loss: 0.42, Loss_test: 0.80, acc: 0.80, acc_test: 0.55\n",
      "Epoch: 503 Loss: 0.51, Loss_test: 0.75, acc: 0.73, acc_test: 0.58\n",
      "Epoch: 504 Loss: 0.43, Loss_test: 0.74, acc: 0.77, acc_test: 0.59\n",
      "Epoch: 505 Loss: 0.64, Loss_test: 0.76, acc: 0.64, acc_test: 0.60\n",
      "Epoch: 506 Loss: 0.48, Loss_test: 0.75, acc: 0.77, acc_test: 0.59\n",
      "Epoch: 507 Loss: 0.45, Loss_test: 0.72, acc: 0.79, acc_test: 0.60\n",
      "Epoch: 508 Loss: 0.48, Loss_test: 0.72, acc: 0.80, acc_test: 0.58\n",
      "Epoch: 509 Loss: 0.43, Loss_test: 0.73, acc: 0.78, acc_test: 0.56\n",
      "=> result saved!\n",
      "Epoch: 510 Loss: 0.42, Loss_test: 0.72, acc: 0.81, acc_test: 0.59\n",
      "Epoch: 511 Loss: 0.52, Loss_test: 0.72, acc: 0.73, acc_test: 0.58\n",
      "Epoch: 512 Loss: 0.40, Loss_test: 0.75, acc: 0.83, acc_test: 0.57\n",
      "Epoch: 513 Loss: 0.46, Loss_test: 0.75, acc: 0.77, acc_test: 0.57\n",
      "Epoch: 514 Loss: 0.43, Loss_test: 0.73, acc: 0.77, acc_test: 0.56\n",
      "Epoch: 515 Loss: 0.44, Loss_test: 0.71, acc: 0.75, acc_test: 0.60\n",
      "Epoch: 516 Loss: 0.43, Loss_test: 0.71, acc: 0.80, acc_test: 0.59\n",
      "Epoch: 517 Loss: 0.51, Loss_test: 0.72, acc: 0.77, acc_test: 0.59\n",
      "Epoch: 518 Loss: 0.51, Loss_test: 0.71, acc: 0.75, acc_test: 0.60\n",
      "Epoch: 519 Loss: 0.47, Loss_test: 0.71, acc: 0.75, acc_test: 0.57\n",
      "=> result saved!\n",
      "Epoch: 520 Loss: 0.42, Loss_test: 0.72, acc: 0.78, acc_test: 0.56\n",
      "Epoch: 521 Loss: 0.45, Loss_test: 0.73, acc: 0.79, acc_test: 0.57\n",
      "Epoch: 522 Loss: 0.52, Loss_test: 0.72, acc: 0.70, acc_test: 0.55\n",
      "Epoch: 523 Loss: 0.50, Loss_test: 0.73, acc: 0.70, acc_test: 0.60\n",
      "Epoch: 524 Loss: 0.58, Loss_test: 0.76, acc: 0.69, acc_test: 0.59\n",
      "Epoch: 525 Loss: 0.52, Loss_test: 0.75, acc: 0.75, acc_test: 0.60\n",
      "Epoch: 526 Loss: 0.50, Loss_test: 0.72, acc: 0.75, acc_test: 0.60\n",
      "Epoch: 527 Loss: 0.50, Loss_test: 0.72, acc: 0.76, acc_test: 0.56\n",
      "Epoch: 528 Loss: 0.46, Loss_test: 0.72, acc: 0.81, acc_test: 0.56\n",
      "Epoch: 529 Loss: 0.48, Loss_test: 0.72, acc: 0.75, acc_test: 0.55\n",
      "=> result saved!\n",
      "Epoch: 530 Loss: 0.46, Loss_test: 0.72, acc: 0.79, acc_test: 0.57\n",
      "Epoch: 531 Loss: 0.42, Loss_test: 0.72, acc: 0.81, acc_test: 0.57\n",
      "Epoch: 532 Loss: 0.41, Loss_test: 0.73, acc: 0.82, acc_test: 0.56\n",
      "Epoch: 533 Loss: 0.45, Loss_test: 0.73, acc: 0.77, acc_test: 0.55\n",
      "Epoch: 534 Loss: 0.49, Loss_test: 0.73, acc: 0.71, acc_test: 0.57\n",
      "Epoch: 535 Loss: 0.40, Loss_test: 0.74, acc: 0.82, acc_test: 0.55\n",
      "Epoch: 536 Loss: 0.52, Loss_test: 0.74, acc: 0.74, acc_test: 0.56\n",
      "Epoch: 537 Loss: 0.40, Loss_test: 0.73, acc: 0.81, acc_test: 0.55\n",
      "Epoch: 538 Loss: 0.46, Loss_test: 0.73, acc: 0.81, acc_test: 0.56\n",
      "Epoch: 539 Loss: 0.42, Loss_test: 0.73, acc: 0.77, acc_test: 0.56\n",
      "=> result saved!\n",
      "Epoch: 540 Loss: 0.40, Loss_test: 0.73, acc: 0.84, acc_test: 0.57\n",
      "Epoch: 541 Loss: 0.35, Loss_test: 0.74, acc: 0.87, acc_test: 0.56\n",
      "Epoch: 542 Loss: 0.51, Loss_test: 0.74, acc: 0.70, acc_test: 0.56\n",
      "Epoch: 543 Loss: 0.48, Loss_test: 0.74, acc: 0.75, acc_test: 0.55\n",
      "Epoch: 544 Loss: 0.51, Loss_test: 0.74, acc: 0.73, acc_test: 0.55\n",
      "Epoch: 545 Loss: 0.39, Loss_test: 0.73, acc: 0.78, acc_test: 0.56\n",
      "Epoch: 546 Loss: 0.40, Loss_test: 0.73, acc: 0.80, acc_test: 0.57\n",
      "Epoch: 547 Loss: 0.43, Loss_test: 0.72, acc: 0.78, acc_test: 0.56\n",
      "Epoch: 548 Loss: 0.44, Loss_test: 0.72, acc: 0.82, acc_test: 0.58\n",
      "Epoch: 549 Loss: 0.49, Loss_test: 0.72, acc: 0.73, acc_test: 0.57\n",
      "=> result saved!\n",
      "Epoch: 550 Loss: 0.54, Loss_test: 0.72, acc: 0.71, acc_test: 0.55\n",
      "Epoch: 551 Loss: 0.42, Loss_test: 0.71, acc: 0.83, acc_test: 0.56\n",
      "Epoch: 552 Loss: 0.46, Loss_test: 0.71, acc: 0.78, acc_test: 0.59\n",
      "Epoch: 553 Loss: 0.50, Loss_test: 0.71, acc: 0.69, acc_test: 0.59\n",
      "Epoch: 554 Loss: 0.37, Loss_test: 0.71, acc: 0.80, acc_test: 0.59\n",
      "Epoch: 555 Loss: 0.47, Loss_test: 0.71, acc: 0.73, acc_test: 0.58\n",
      "Epoch: 556 Loss: 0.42, Loss_test: 0.70, acc: 0.78, acc_test: 0.59\n",
      "Epoch: 557 Loss: 0.51, Loss_test: 0.71, acc: 0.73, acc_test: 0.57\n",
      "Epoch: 558 Loss: 0.44, Loss_test: 0.71, acc: 0.79, acc_test: 0.56\n",
      "Epoch: 559 Loss: 0.51, Loss_test: 0.71, acc: 0.71, acc_test: 0.58\n",
      "=> result saved!\n",
      "Epoch: 560 Loss: 0.44, Loss_test: 0.70, acc: 0.80, acc_test: 0.60\n",
      "Epoch: 561 Loss: 0.50, Loss_test: 0.72, acc: 0.74, acc_test: 0.60\n",
      "Epoch: 562 Loss: 0.45, Loss_test: 0.71, acc: 0.78, acc_test: 0.61\n",
      "Epoch: 563 Loss: 0.52, Loss_test: 0.70, acc: 0.74, acc_test: 0.58\n",
      "Epoch: 564 Loss: 0.46, Loss_test: 0.72, acc: 0.80, acc_test: 0.59\n",
      "Epoch: 565 Loss: 0.48, Loss_test: 0.71, acc: 0.79, acc_test: 0.60\n",
      "Epoch: 566 Loss: 0.46, Loss_test: 0.70, acc: 0.78, acc_test: 0.58\n",
      "Epoch: 567 Loss: 0.41, Loss_test: 0.70, acc: 0.84, acc_test: 0.59\n",
      "Epoch: 568 Loss: 0.43, Loss_test: 0.71, acc: 0.80, acc_test: 0.59\n",
      "Epoch: 569 Loss: 0.41, Loss_test: 0.71, acc: 0.80, acc_test: 0.60\n",
      "=> result saved!\n",
      "Epoch: 570 Loss: 0.53, Loss_test: 0.71, acc: 0.77, acc_test: 0.59\n",
      "Epoch: 571 Loss: 0.48, Loss_test: 0.71, acc: 0.79, acc_test: 0.57\n",
      "Epoch: 572 Loss: 0.44, Loss_test: 0.72, acc: 0.77, acc_test: 0.58\n",
      "Epoch: 573 Loss: 0.48, Loss_test: 0.72, acc: 0.77, acc_test: 0.57\n",
      "Epoch: 574 Loss: 0.43, Loss_test: 0.72, acc: 0.79, acc_test: 0.57\n",
      "Epoch: 575 Loss: 0.46, Loss_test: 0.72, acc: 0.84, acc_test: 0.55\n",
      "Epoch: 576 Loss: 0.48, Loss_test: 0.72, acc: 0.78, acc_test: 0.57\n",
      "Epoch: 577 Loss: 0.45, Loss_test: 0.72, acc: 0.76, acc_test: 0.56\n",
      "Epoch: 578 Loss: 0.43, Loss_test: 0.73, acc: 0.77, acc_test: 0.58\n",
      "Epoch: 579 Loss: 0.47, Loss_test: 0.73, acc: 0.77, acc_test: 0.57\n",
      "=> result saved!\n",
      "Epoch: 580 Loss: 0.45, Loss_test: 0.72, acc: 0.74, acc_test: 0.58\n",
      "Epoch: 581 Loss: 0.44, Loss_test: 0.72, acc: 0.77, acc_test: 0.57\n",
      "Epoch: 582 Loss: 0.46, Loss_test: 0.72, acc: 0.79, acc_test: 0.56\n",
      "Epoch: 583 Loss: 0.46, Loss_test: 0.73, acc: 0.78, acc_test: 0.57\n",
      "Epoch: 584 Loss: 0.46, Loss_test: 0.73, acc: 0.80, acc_test: 0.58\n",
      "Epoch: 585 Loss: 0.59, Loss_test: 0.75, acc: 0.70, acc_test: 0.56\n",
      "Epoch: 586 Loss: 0.48, Loss_test: 0.73, acc: 0.77, acc_test: 0.58\n",
      "Epoch: 587 Loss: 0.39, Loss_test: 0.72, acc: 0.84, acc_test: 0.59\n",
      "Epoch: 588 Loss: 0.51, Loss_test: 0.72, acc: 0.74, acc_test: 0.59\n"
     ]
    },
    {
     "name": "stdout",
     "output_type": "stream",
     "text": [
      "Epoch: 589 Loss: 0.44, Loss_test: 0.71, acc: 0.77, acc_test: 0.57\n",
      "=> result saved!\n",
      "Epoch: 590 Loss: 0.50, Loss_test: 0.72, acc: 0.72, acc_test: 0.58\n",
      "Epoch: 591 Loss: 0.46, Loss_test: 0.72, acc: 0.80, acc_test: 0.58\n",
      "Epoch: 592 Loss: 0.38, Loss_test: 0.72, acc: 0.88, acc_test: 0.59\n",
      "Epoch: 593 Loss: 0.49, Loss_test: 0.72, acc: 0.78, acc_test: 0.60\n",
      "Epoch: 594 Loss: 0.54, Loss_test: 0.73, acc: 0.67, acc_test: 0.57\n",
      "Epoch: 595 Loss: 0.40, Loss_test: 0.73, acc: 0.83, acc_test: 0.57\n",
      "Epoch: 596 Loss: 0.54, Loss_test: 0.72, acc: 0.74, acc_test: 0.60\n",
      "Epoch: 597 Loss: 0.51, Loss_test: 0.72, acc: 0.72, acc_test: 0.62\n",
      "Epoch: 598 Loss: 0.46, Loss_test: 0.71, acc: 0.78, acc_test: 0.62\n",
      "Epoch: 599 Loss: 0.39, Loss_test: 0.71, acc: 0.83, acc_test: 0.60\n",
      "=> result saved!\n",
      "Epoch: 600 Loss: 0.37, Loss_test: 0.71, acc: 0.84, acc_test: 0.59\n",
      "Epoch: 601 Loss: 0.47, Loss_test: 0.71, acc: 0.78, acc_test: 0.58\n",
      "Epoch: 602 Loss: 0.45, Loss_test: 0.71, acc: 0.80, acc_test: 0.56\n",
      "Epoch: 603 Loss: 0.41, Loss_test: 0.71, acc: 0.85, acc_test: 0.56\n",
      "Epoch: 604 Loss: 0.46, Loss_test: 0.72, acc: 0.77, acc_test: 0.60\n",
      "Epoch: 605 Loss: 0.49, Loss_test: 0.74, acc: 0.74, acc_test: 0.59\n",
      "Epoch: 606 Loss: 0.41, Loss_test: 0.73, acc: 0.81, acc_test: 0.59\n",
      "Epoch: 607 Loss: 0.40, Loss_test: 0.72, acc: 0.82, acc_test: 0.56\n",
      "Epoch: 608 Loss: 0.48, Loss_test: 0.72, acc: 0.72, acc_test: 0.56\n",
      "Epoch: 609 Loss: 0.38, Loss_test: 0.72, acc: 0.84, acc_test: 0.56\n",
      "=> result saved!\n",
      "Epoch: 610 Loss: 0.44, Loss_test: 0.72, acc: 0.79, acc_test: 0.56\n",
      "Epoch: 611 Loss: 0.41, Loss_test: 0.73, acc: 0.80, acc_test: 0.60\n",
      "Epoch: 612 Loss: 0.52, Loss_test: 0.74, acc: 0.73, acc_test: 0.59\n",
      "Epoch: 613 Loss: 0.40, Loss_test: 0.74, acc: 0.84, acc_test: 0.61\n",
      "Epoch: 614 Loss: 0.50, Loss_test: 0.73, acc: 0.76, acc_test: 0.59\n",
      "Epoch: 615 Loss: 0.45, Loss_test: 0.73, acc: 0.77, acc_test: 0.57\n",
      "Epoch: 616 Loss: 0.49, Loss_test: 0.74, acc: 0.73, acc_test: 0.55\n",
      "Epoch: 617 Loss: 0.43, Loss_test: 0.74, acc: 0.82, acc_test: 0.56\n",
      "Epoch: 618 Loss: 0.47, Loss_test: 0.74, acc: 0.77, acc_test: 0.55\n",
      "Epoch: 619 Loss: 0.47, Loss_test: 0.75, acc: 0.76, acc_test: 0.57\n",
      "=> result saved!\n",
      "Epoch: 620 Loss: 0.46, Loss_test: 0.75, acc: 0.77, acc_test: 0.56\n",
      "Epoch: 621 Loss: 0.42, Loss_test: 0.74, acc: 0.75, acc_test: 0.56\n",
      "Epoch: 622 Loss: 0.47, Loss_test: 0.75, acc: 0.77, acc_test: 0.56\n",
      "Epoch: 623 Loss: 0.43, Loss_test: 0.76, acc: 0.77, acc_test: 0.57\n",
      "Epoch: 624 Loss: 0.49, Loss_test: 0.75, acc: 0.75, acc_test: 0.55\n",
      "Epoch: 625 Loss: 0.47, Loss_test: 0.73, acc: 0.79, acc_test: 0.57\n",
      "Epoch: 626 Loss: 0.41, Loss_test: 0.73, acc: 0.81, acc_test: 0.57\n",
      "Epoch: 627 Loss: 0.47, Loss_test: 0.73, acc: 0.78, acc_test: 0.56\n",
      "Epoch: 628 Loss: 0.46, Loss_test: 0.73, acc: 0.81, acc_test: 0.57\n",
      "Epoch: 629 Loss: 0.38, Loss_test: 0.73, acc: 0.83, acc_test: 0.56\n",
      "=> result saved!\n",
      "Epoch: 630 Loss: 0.42, Loss_test: 0.74, acc: 0.79, acc_test: 0.58\n",
      "Epoch: 631 Loss: 0.47, Loss_test: 0.73, acc: 0.77, acc_test: 0.55\n",
      "Epoch: 632 Loss: 0.46, Loss_test: 0.73, acc: 0.79, acc_test: 0.55\n",
      "Epoch: 633 Loss: 0.43, Loss_test: 0.73, acc: 0.77, acc_test: 0.57\n",
      "Epoch: 634 Loss: 0.47, Loss_test: 0.73, acc: 0.74, acc_test: 0.59\n",
      "Epoch: 635 Loss: 0.44, Loss_test: 0.74, acc: 0.80, acc_test: 0.59\n",
      "Epoch: 636 Loss: 0.41, Loss_test: 0.75, acc: 0.80, acc_test: 0.55\n",
      "Epoch: 637 Loss: 0.46, Loss_test: 0.75, acc: 0.77, acc_test: 0.55\n",
      "Epoch: 638 Loss: 0.33, Loss_test: 0.74, acc: 0.83, acc_test: 0.57\n",
      "Epoch: 639 Loss: 0.50, Loss_test: 0.74, acc: 0.78, acc_test: 0.57\n",
      "=> result saved!\n",
      "Epoch: 640 Loss: 0.40, Loss_test: 0.74, acc: 0.80, acc_test: 0.57\n",
      "Epoch: 641 Loss: 0.41, Loss_test: 0.74, acc: 0.81, acc_test: 0.56\n",
      "Epoch: 642 Loss: 0.44, Loss_test: 0.74, acc: 0.77, acc_test: 0.57\n",
      "Epoch: 643 Loss: 0.46, Loss_test: 0.75, acc: 0.76, acc_test: 0.57\n",
      "Epoch: 644 Loss: 0.43, Loss_test: 0.75, acc: 0.76, acc_test: 0.56\n",
      "Epoch: 645 Loss: 0.42, Loss_test: 0.74, acc: 0.76, acc_test: 0.57\n",
      "Epoch: 646 Loss: 0.48, Loss_test: 0.73, acc: 0.75, acc_test: 0.57\n",
      "Epoch: 647 Loss: 0.40, Loss_test: 0.75, acc: 0.84, acc_test: 0.57\n",
      "Epoch: 648 Loss: 0.45, Loss_test: 0.76, acc: 0.79, acc_test: 0.58\n",
      "Epoch: 649 Loss: 0.48, Loss_test: 0.74, acc: 0.75, acc_test: 0.59\n",
      "=> result saved!\n",
      "Epoch: 650 Loss: 0.46, Loss_test: 0.73, acc: 0.78, acc_test: 0.57\n",
      "Epoch: 651 Loss: 0.43, Loss_test: 0.73, acc: 0.77, acc_test: 0.57\n",
      "Epoch: 652 Loss: 0.48, Loss_test: 0.73, acc: 0.77, acc_test: 0.58\n",
      "Epoch: 653 Loss: 0.34, Loss_test: 0.73, acc: 0.87, acc_test: 0.61\n",
      "Epoch: 654 Loss: 0.44, Loss_test: 0.74, acc: 0.77, acc_test: 0.61\n",
      "Epoch: 655 Loss: 0.39, Loss_test: 0.73, acc: 0.82, acc_test: 0.61\n",
      "Epoch: 656 Loss: 0.49, Loss_test: 0.73, acc: 0.75, acc_test: 0.58\n",
      "Epoch: 657 Loss: 0.43, Loss_test: 0.74, acc: 0.79, acc_test: 0.57\n",
      "Epoch: 658 Loss: 0.43, Loss_test: 0.73, acc: 0.79, acc_test: 0.59\n",
      "Epoch: 659 Loss: 0.48, Loss_test: 0.73, acc: 0.78, acc_test: 0.60\n",
      "=> result saved!\n",
      "Epoch: 660 Loss: 0.47, Loss_test: 0.76, acc: 0.76, acc_test: 0.58\n",
      "Epoch: 661 Loss: 0.43, Loss_test: 0.78, acc: 0.79, acc_test: 0.57\n",
      "Epoch: 662 Loss: 0.57, Loss_test: 0.73, acc: 0.65, acc_test: 0.59\n",
      "Epoch: 663 Loss: 0.37, Loss_test: 0.72, acc: 0.80, acc_test: 0.59\n",
      "Epoch: 664 Loss: 0.41, Loss_test: 0.73, acc: 0.82, acc_test: 0.57\n",
      "Epoch: 665 Loss: 0.50, Loss_test: 0.72, acc: 0.71, acc_test: 0.57\n",
      "Epoch: 666 Loss: 0.49, Loss_test: 0.72, acc: 0.76, acc_test: 0.59\n",
      "Epoch: 667 Loss: 0.48, Loss_test: 0.74, acc: 0.79, acc_test: 0.58\n",
      "Epoch: 668 Loss: 0.46, Loss_test: 0.74, acc: 0.77, acc_test: 0.57\n",
      "Epoch: 669 Loss: 0.39, Loss_test: 0.72, acc: 0.80, acc_test: 0.57\n",
      "=> result saved!\n",
      "Epoch: 670 Loss: 0.48, Loss_test: 0.71, acc: 0.77, acc_test: 0.57\n",
      "Epoch: 671 Loss: 0.42, Loss_test: 0.72, acc: 0.80, acc_test: 0.56\n",
      "Epoch: 672 Loss: 0.46, Loss_test: 0.72, acc: 0.74, acc_test: 0.57\n",
      "Epoch: 673 Loss: 0.46, Loss_test: 0.69, acc: 0.77, acc_test: 0.59\n",
      "Epoch: 674 Loss: 0.44, Loss_test: 0.69, acc: 0.84, acc_test: 0.59\n",
      "Epoch: 675 Loss: 0.39, Loss_test: 0.70, acc: 0.80, acc_test: 0.59\n",
      "Epoch: 676 Loss: 0.49, Loss_test: 0.69, acc: 0.71, acc_test: 0.60\n",
      "Epoch: 677 Loss: 0.50, Loss_test: 0.69, acc: 0.76, acc_test: 0.59\n",
      "Epoch: 678 Loss: 0.43, Loss_test: 0.70, acc: 0.78, acc_test: 0.59\n",
      "Epoch: 679 Loss: 0.49, Loss_test: 0.70, acc: 0.77, acc_test: 0.59\n",
      "=> result saved!\n",
      "Epoch: 680 Loss: 0.48, Loss_test: 0.69, acc: 0.77, acc_test: 0.59\n",
      "Epoch: 681 Loss: 0.40, Loss_test: 0.70, acc: 0.83, acc_test: 0.61\n",
      "Epoch: 682 Loss: 0.36, Loss_test: 0.70, acc: 0.84, acc_test: 0.60\n",
      "Epoch: 683 Loss: 0.46, Loss_test: 0.71, acc: 0.77, acc_test: 0.56\n",
      "Epoch: 684 Loss: 0.44, Loss_test: 0.72, acc: 0.81, acc_test: 0.56\n",
      "Epoch: 685 Loss: 0.51, Loss_test: 0.72, acc: 0.79, acc_test: 0.56\n",
      "Epoch: 686 Loss: 0.41, Loss_test: 0.72, acc: 0.78, acc_test: 0.57\n",
      "Epoch: 687 Loss: 0.48, Loss_test: 0.71, acc: 0.79, acc_test: 0.58\n",
      "Epoch: 688 Loss: 0.37, Loss_test: 0.71, acc: 0.84, acc_test: 0.56\n",
      "Epoch: 689 Loss: 0.38, Loss_test: 0.71, acc: 0.84, acc_test: 0.56\n",
      "=> result saved!\n",
      "Epoch: 690 Loss: 0.48, Loss_test: 0.71, acc: 0.79, acc_test: 0.59\n",
      "Epoch: 691 Loss: 0.42, Loss_test: 0.71, acc: 0.81, acc_test: 0.59\n",
      "Epoch: 692 Loss: 0.42, Loss_test: 0.71, acc: 0.76, acc_test: 0.61\n",
      "Epoch: 693 Loss: 0.46, Loss_test: 0.71, acc: 0.80, acc_test: 0.59\n",
      "Epoch: 694 Loss: 0.39, Loss_test: 0.71, acc: 0.82, acc_test: 0.61\n",
      "Epoch: 695 Loss: 0.42, Loss_test: 0.72, acc: 0.81, acc_test: 0.61\n",
      "Epoch: 696 Loss: 0.36, Loss_test: 0.73, acc: 0.83, acc_test: 0.62\n",
      "Epoch: 697 Loss: 0.45, Loss_test: 0.74, acc: 0.76, acc_test: 0.64\n",
      "Epoch: 698 Loss: 0.38, Loss_test: 0.77, acc: 0.82, acc_test: 0.59\n",
      "Epoch: 699 Loss: 0.41, Loss_test: 0.77, acc: 0.81, acc_test: 0.59\n",
      "=> result saved!\n",
      "Epoch: 700 Loss: 0.47, Loss_test: 0.73, acc: 0.78, acc_test: 0.62\n",
      "Epoch: 701 Loss: 0.45, Loss_test: 0.73, acc: 0.77, acc_test: 0.58\n",
      "Epoch: 702 Loss: 0.51, Loss_test: 0.73, acc: 0.73, acc_test: 0.59\n",
      "Epoch: 703 Loss: 0.45, Loss_test: 0.72, acc: 0.79, acc_test: 0.62\n",
      "Epoch: 704 Loss: 0.49, Loss_test: 0.72, acc: 0.76, acc_test: 0.61\n",
      "Epoch: 705 Loss: 0.34, Loss_test: 0.72, acc: 0.82, acc_test: 0.62\n",
      "Epoch: 706 Loss: 0.45, Loss_test: 0.72, acc: 0.80, acc_test: 0.59\n",
      "Epoch: 707 Loss: 0.41, Loss_test: 0.73, acc: 0.78, acc_test: 0.56\n",
      "Epoch: 708 Loss: 0.38, Loss_test: 0.73, acc: 0.84, acc_test: 0.57\n",
      "Epoch: 709 Loss: 0.42, Loss_test: 0.72, acc: 0.80, acc_test: 0.57\n",
      "=> result saved!\n",
      "Epoch: 710 Loss: 0.41, Loss_test: 0.71, acc: 0.83, acc_test: 0.61\n"
     ]
    },
    {
     "name": "stdout",
     "output_type": "stream",
     "text": [
      "Epoch: 711 Loss: 0.49, Loss_test: 0.71, acc: 0.76, acc_test: 0.61\n",
      "Epoch: 712 Loss: 0.39, Loss_test: 0.71, acc: 0.81, acc_test: 0.62\n",
      "Epoch: 713 Loss: 0.39, Loss_test: 0.73, acc: 0.85, acc_test: 0.56\n",
      "Epoch: 714 Loss: 0.38, Loss_test: 0.78, acc: 0.79, acc_test: 0.57\n",
      "Epoch: 715 Loss: 0.42, Loss_test: 0.76, acc: 0.78, acc_test: 0.57\n",
      "Epoch: 716 Loss: 0.48, Loss_test: 0.73, acc: 0.78, acc_test: 0.61\n",
      "Epoch: 717 Loss: 0.38, Loss_test: 0.74, acc: 0.80, acc_test: 0.61\n",
      "Epoch: 718 Loss: 0.42, Loss_test: 0.76, acc: 0.81, acc_test: 0.60\n",
      "Epoch: 719 Loss: 0.37, Loss_test: 0.75, acc: 0.82, acc_test: 0.62\n",
      "=> result saved!\n",
      "Epoch: 720 Loss: 0.53, Loss_test: 0.73, acc: 0.70, acc_test: 0.57\n",
      "Epoch: 721 Loss: 0.49, Loss_test: 0.79, acc: 0.75, acc_test: 0.57\n",
      "Epoch: 722 Loss: 0.47, Loss_test: 0.82, acc: 0.74, acc_test: 0.54\n",
      "Epoch: 723 Loss: 0.46, Loss_test: 0.78, acc: 0.78, acc_test: 0.57\n",
      "Epoch: 724 Loss: 0.41, Loss_test: 0.72, acc: 0.79, acc_test: 0.56\n",
      "Epoch: 725 Loss: 0.44, Loss_test: 0.71, acc: 0.81, acc_test: 0.60\n",
      "Epoch: 726 Loss: 0.40, Loss_test: 0.71, acc: 0.77, acc_test: 0.59\n",
      "Epoch: 727 Loss: 0.42, Loss_test: 0.71, acc: 0.79, acc_test: 0.58\n",
      "Epoch: 728 Loss: 0.58, Loss_test: 0.70, acc: 0.68, acc_test: 0.58\n",
      "Epoch: 729 Loss: 0.38, Loss_test: 0.71, acc: 0.85, acc_test: 0.57\n",
      "=> result saved!\n",
      "Epoch: 730 Loss: 0.42, Loss_test: 0.73, acc: 0.79, acc_test: 0.59\n",
      "Epoch: 731 Loss: 0.46, Loss_test: 0.72, acc: 0.78, acc_test: 0.59\n",
      "Epoch: 732 Loss: 0.46, Loss_test: 0.70, acc: 0.78, acc_test: 0.59\n",
      "Epoch: 733 Loss: 0.42, Loss_test: 0.69, acc: 0.81, acc_test: 0.59\n",
      "Epoch: 734 Loss: 0.42, Loss_test: 0.68, acc: 0.78, acc_test: 0.59\n",
      "Epoch: 735 Loss: 0.45, Loss_test: 0.68, acc: 0.77, acc_test: 0.59\n",
      "Epoch: 736 Loss: 0.43, Loss_test: 0.68, acc: 0.76, acc_test: 0.59\n",
      "Epoch: 737 Loss: 0.37, Loss_test: 0.68, acc: 0.80, acc_test: 0.61\n",
      "Epoch: 738 Loss: 0.45, Loss_test: 0.69, acc: 0.77, acc_test: 0.60\n",
      "Epoch: 739 Loss: 0.40, Loss_test: 0.70, acc: 0.83, acc_test: 0.62\n",
      "=> result saved!\n",
      "Epoch: 740 Loss: 0.47, Loss_test: 0.69, acc: 0.80, acc_test: 0.62\n",
      "Epoch: 741 Loss: 0.40, Loss_test: 0.70, acc: 0.85, acc_test: 0.62\n",
      "Epoch: 742 Loss: 0.38, Loss_test: 0.70, acc: 0.83, acc_test: 0.61\n",
      "Epoch: 743 Loss: 0.37, Loss_test: 0.71, acc: 0.85, acc_test: 0.61\n",
      "Epoch: 744 Loss: 0.50, Loss_test: 0.70, acc: 0.76, acc_test: 0.62\n",
      "Epoch: 745 Loss: 0.40, Loss_test: 0.70, acc: 0.80, acc_test: 0.61\n",
      "Epoch: 746 Loss: 0.42, Loss_test: 0.70, acc: 0.80, acc_test: 0.61\n",
      "Epoch: 747 Loss: 0.38, Loss_test: 0.71, acc: 0.84, acc_test: 0.59\n",
      "Epoch: 748 Loss: 0.45, Loss_test: 0.70, acc: 0.80, acc_test: 0.60\n",
      "Epoch: 749 Loss: 0.50, Loss_test: 0.70, acc: 0.73, acc_test: 0.62\n",
      "=> result saved!\n",
      "Epoch: 750 Loss: 0.48, Loss_test: 0.71, acc: 0.78, acc_test: 0.61\n",
      "Epoch: 751 Loss: 0.47, Loss_test: 0.72, acc: 0.73, acc_test: 0.60\n",
      "Epoch: 752 Loss: 0.39, Loss_test: 0.71, acc: 0.84, acc_test: 0.60\n",
      "Epoch: 753 Loss: 0.55, Loss_test: 0.71, acc: 0.72, acc_test: 0.60\n",
      "Epoch: 754 Loss: 0.46, Loss_test: 0.72, acc: 0.78, acc_test: 0.57\n",
      "Epoch: 755 Loss: 0.39, Loss_test: 0.74, acc: 0.82, acc_test: 0.58\n",
      "Epoch: 756 Loss: 0.47, Loss_test: 0.72, acc: 0.74, acc_test: 0.57\n",
      "Epoch: 757 Loss: 0.35, Loss_test: 0.70, acc: 0.84, acc_test: 0.59\n",
      "Epoch: 758 Loss: 0.42, Loss_test: 0.70, acc: 0.79, acc_test: 0.60\n",
      "Epoch: 759 Loss: 0.42, Loss_test: 0.71, acc: 0.79, acc_test: 0.60\n",
      "=> result saved!\n",
      "Epoch: 760 Loss: 0.48, Loss_test: 0.71, acc: 0.76, acc_test: 0.59\n",
      "Epoch: 761 Loss: 0.41, Loss_test: 0.70, acc: 0.80, acc_test: 0.60\n",
      "Epoch: 762 Loss: 0.47, Loss_test: 0.70, acc: 0.80, acc_test: 0.59\n",
      "Epoch: 763 Loss: 0.38, Loss_test: 0.71, acc: 0.80, acc_test: 0.58\n",
      "Epoch: 764 Loss: 0.51, Loss_test: 0.71, acc: 0.74, acc_test: 0.58\n",
      "Epoch: 765 Loss: 0.38, Loss_test: 0.70, acc: 0.83, acc_test: 0.60\n",
      "Epoch: 766 Loss: 0.37, Loss_test: 0.70, acc: 0.80, acc_test: 0.60\n",
      "Epoch: 767 Loss: 0.43, Loss_test: 0.70, acc: 0.77, acc_test: 0.60\n",
      "Epoch: 768 Loss: 0.41, Loss_test: 0.70, acc: 0.82, acc_test: 0.59\n",
      "Epoch: 769 Loss: 0.42, Loss_test: 0.70, acc: 0.82, acc_test: 0.60\n",
      "=> result saved!\n",
      "Epoch: 770 Loss: 0.39, Loss_test: 0.71, acc: 0.84, acc_test: 0.59\n",
      "Epoch: 771 Loss: 0.44, Loss_test: 0.71, acc: 0.80, acc_test: 0.60\n",
      "Epoch: 772 Loss: 0.44, Loss_test: 0.71, acc: 0.77, acc_test: 0.61\n",
      "Epoch: 773 Loss: 0.47, Loss_test: 0.71, acc: 0.74, acc_test: 0.62\n",
      "Epoch: 774 Loss: 0.36, Loss_test: 0.72, acc: 0.84, acc_test: 0.61\n",
      "Epoch: 775 Loss: 0.45, Loss_test: 0.72, acc: 0.80, acc_test: 0.62\n",
      "Epoch: 776 Loss: 0.36, Loss_test: 0.72, acc: 0.84, acc_test: 0.64\n",
      "Epoch: 777 Loss: 0.48, Loss_test: 0.72, acc: 0.77, acc_test: 0.64\n",
      "Epoch: 778 Loss: 0.40, Loss_test: 0.73, acc: 0.80, acc_test: 0.62\n",
      "Epoch: 779 Loss: 0.47, Loss_test: 0.74, acc: 0.78, acc_test: 0.61\n",
      "=> result saved!\n",
      "Epoch: 780 Loss: 0.42, Loss_test: 0.73, acc: 0.81, acc_test: 0.61\n",
      "Epoch: 781 Loss: 0.48, Loss_test: 0.74, acc: 0.75, acc_test: 0.61\n",
      "Epoch: 782 Loss: 0.45, Loss_test: 0.74, acc: 0.78, acc_test: 0.60\n",
      "Epoch: 783 Loss: 0.43, Loss_test: 0.74, acc: 0.82, acc_test: 0.59\n",
      "Epoch: 784 Loss: 0.43, Loss_test: 0.74, acc: 0.81, acc_test: 0.59\n",
      "Epoch: 785 Loss: 0.47, Loss_test: 0.75, acc: 0.76, acc_test: 0.59\n",
      "Epoch: 786 Loss: 0.42, Loss_test: 0.75, acc: 0.77, acc_test: 0.59\n",
      "Epoch: 787 Loss: 0.51, Loss_test: 0.75, acc: 0.72, acc_test: 0.58\n",
      "Epoch: 788 Loss: 0.47, Loss_test: 0.74, acc: 0.75, acc_test: 0.59\n",
      "Epoch: 789 Loss: 0.47, Loss_test: 0.73, acc: 0.75, acc_test: 0.61\n",
      "=> result saved!\n",
      "Epoch: 790 Loss: 0.41, Loss_test: 0.74, acc: 0.80, acc_test: 0.58\n",
      "Epoch: 791 Loss: 0.35, Loss_test: 0.73, acc: 0.84, acc_test: 0.57\n",
      "Epoch: 792 Loss: 0.42, Loss_test: 0.72, acc: 0.83, acc_test: 0.60\n",
      "Epoch: 793 Loss: 0.48, Loss_test: 0.70, acc: 0.81, acc_test: 0.60\n",
      "Epoch: 794 Loss: 0.43, Loss_test: 0.70, acc: 0.77, acc_test: 0.61\n",
      "Epoch: 795 Loss: 0.46, Loss_test: 0.70, acc: 0.80, acc_test: 0.59\n",
      "Epoch: 796 Loss: 0.50, Loss_test: 0.71, acc: 0.74, acc_test: 0.59\n",
      "Epoch: 797 Loss: 0.36, Loss_test: 0.74, acc: 0.84, acc_test: 0.57\n",
      "Epoch: 798 Loss: 0.45, Loss_test: 0.75, acc: 0.75, acc_test: 0.57\n",
      "Epoch: 799 Loss: 0.46, Loss_test: 0.73, acc: 0.75, acc_test: 0.55\n",
      "=> result saved!\n",
      "Epoch: 800 Loss: 0.48, Loss_test: 0.71, acc: 0.73, acc_test: 0.60\n",
      "Epoch: 801 Loss: 0.37, Loss_test: 0.72, acc: 0.84, acc_test: 0.58\n",
      "Epoch: 802 Loss: 0.46, Loss_test: 0.73, acc: 0.76, acc_test: 0.58\n",
      "Epoch: 803 Loss: 0.42, Loss_test: 0.71, acc: 0.83, acc_test: 0.59\n",
      "Epoch: 804 Loss: 0.37, Loss_test: 0.71, acc: 0.84, acc_test: 0.59\n",
      "Epoch: 805 Loss: 0.38, Loss_test: 0.72, acc: 0.84, acc_test: 0.60\n",
      "Epoch: 806 Loss: 0.37, Loss_test: 0.72, acc: 0.84, acc_test: 0.58\n",
      "Epoch: 807 Loss: 0.43, Loss_test: 0.71, acc: 0.81, acc_test: 0.58\n",
      "Epoch: 808 Loss: 0.40, Loss_test: 0.72, acc: 0.79, acc_test: 0.58\n",
      "Epoch: 809 Loss: 0.41, Loss_test: 0.73, acc: 0.80, acc_test: 0.57\n",
      "=> result saved!\n",
      "Epoch: 810 Loss: 0.43, Loss_test: 0.73, acc: 0.77, acc_test: 0.57\n",
      "Epoch: 811 Loss: 0.37, Loss_test: 0.72, acc: 0.83, acc_test: 0.58\n",
      "Epoch: 812 Loss: 0.44, Loss_test: 0.72, acc: 0.79, acc_test: 0.58\n",
      "Epoch: 813 Loss: 0.31, Loss_test: 0.72, acc: 0.88, acc_test: 0.58\n",
      "Epoch: 814 Loss: 0.42, Loss_test: 0.72, acc: 0.77, acc_test: 0.58\n",
      "Epoch: 815 Loss: 0.43, Loss_test: 0.71, acc: 0.79, acc_test: 0.58\n",
      "Epoch: 816 Loss: 0.37, Loss_test: 0.72, acc: 0.80, acc_test: 0.59\n",
      "Epoch: 817 Loss: 0.55, Loss_test: 0.72, acc: 0.71, acc_test: 0.59\n",
      "Epoch: 818 Loss: 0.40, Loss_test: 0.71, acc: 0.80, acc_test: 0.59\n",
      "Epoch: 819 Loss: 0.44, Loss_test: 0.71, acc: 0.77, acc_test: 0.57\n",
      "=> result saved!\n",
      "Epoch: 820 Loss: 0.46, Loss_test: 0.72, acc: 0.79, acc_test: 0.60\n",
      "Epoch: 821 Loss: 0.44, Loss_test: 0.71, acc: 0.84, acc_test: 0.60\n",
      "Epoch: 822 Loss: 0.46, Loss_test: 0.70, acc: 0.77, acc_test: 0.59\n",
      "Epoch: 823 Loss: 0.40, Loss_test: 0.71, acc: 0.84, acc_test: 0.60\n",
      "Epoch: 824 Loss: 0.51, Loss_test: 0.72, acc: 0.76, acc_test: 0.60\n",
      "Epoch: 825 Loss: 0.42, Loss_test: 0.70, acc: 0.80, acc_test: 0.61\n",
      "Epoch: 826 Loss: 0.40, Loss_test: 0.71, acc: 0.83, acc_test: 0.59\n",
      "Epoch: 827 Loss: 0.42, Loss_test: 0.72, acc: 0.78, acc_test: 0.59\n",
      "Epoch: 828 Loss: 0.42, Loss_test: 0.72, acc: 0.77, acc_test: 0.59\n",
      "Epoch: 829 Loss: 0.44, Loss_test: 0.70, acc: 0.78, acc_test: 0.60\n",
      "=> result saved!\n",
      "Epoch: 830 Loss: 0.45, Loss_test: 0.71, acc: 0.78, acc_test: 0.61\n",
      "Epoch: 831 Loss: 0.45, Loss_test: 0.72, acc: 0.77, acc_test: 0.60\n",
      "Epoch: 832 Loss: 0.42, Loss_test: 0.71, acc: 0.82, acc_test: 0.62\n"
     ]
    },
    {
     "name": "stdout",
     "output_type": "stream",
     "text": [
      "Epoch: 833 Loss: 0.42, Loss_test: 0.70, acc: 0.78, acc_test: 0.61\n",
      "Epoch: 834 Loss: 0.37, Loss_test: 0.71, acc: 0.80, acc_test: 0.59\n",
      "Epoch: 835 Loss: 0.41, Loss_test: 0.73, acc: 0.81, acc_test: 0.57\n",
      "Epoch: 836 Loss: 0.40, Loss_test: 0.72, acc: 0.78, acc_test: 0.59\n",
      "Epoch: 837 Loss: 0.39, Loss_test: 0.70, acc: 0.84, acc_test: 0.62\n",
      "Epoch: 838 Loss: 0.40, Loss_test: 0.72, acc: 0.84, acc_test: 0.62\n",
      "Epoch: 839 Loss: 0.41, Loss_test: 0.72, acc: 0.78, acc_test: 0.60\n",
      "=> result saved!\n",
      "Epoch: 840 Loss: 0.40, Loss_test: 0.71, acc: 0.83, acc_test: 0.63\n",
      "Epoch: 841 Loss: 0.46, Loss_test: 0.70, acc: 0.82, acc_test: 0.64\n",
      "Epoch: 842 Loss: 0.43, Loss_test: 0.72, acc: 0.81, acc_test: 0.59\n",
      "Epoch: 843 Loss: 0.39, Loss_test: 0.72, acc: 0.81, acc_test: 0.61\n",
      "Epoch: 844 Loss: 0.43, Loss_test: 0.70, acc: 0.77, acc_test: 0.62\n",
      "Epoch: 845 Loss: 0.45, Loss_test: 0.71, acc: 0.76, acc_test: 0.60\n",
      "Epoch: 846 Loss: 0.36, Loss_test: 0.71, acc: 0.84, acc_test: 0.60\n",
      "Epoch: 847 Loss: 0.47, Loss_test: 0.71, acc: 0.75, acc_test: 0.61\n",
      "Epoch: 848 Loss: 0.38, Loss_test: 0.70, acc: 0.82, acc_test: 0.61\n",
      "Epoch: 849 Loss: 0.44, Loss_test: 0.71, acc: 0.75, acc_test: 0.61\n",
      "=> result saved!\n",
      "Epoch: 850 Loss: 0.41, Loss_test: 0.71, acc: 0.74, acc_test: 0.61\n",
      "Epoch: 851 Loss: 0.46, Loss_test: 0.72, acc: 0.77, acc_test: 0.61\n",
      "Epoch: 852 Loss: 0.38, Loss_test: 0.72, acc: 0.82, acc_test: 0.61\n",
      "Epoch: 853 Loss: 0.38, Loss_test: 0.71, acc: 0.80, acc_test: 0.61\n",
      "Epoch: 854 Loss: 0.38, Loss_test: 0.71, acc: 0.83, acc_test: 0.61\n",
      "Epoch: 855 Loss: 0.49, Loss_test: 0.71, acc: 0.73, acc_test: 0.61\n",
      "Epoch: 856 Loss: 0.45, Loss_test: 0.71, acc: 0.82, acc_test: 0.62\n",
      "Epoch: 857 Loss: 0.47, Loss_test: 0.71, acc: 0.77, acc_test: 0.62\n",
      "Epoch: 858 Loss: 0.39, Loss_test: 0.71, acc: 0.83, acc_test: 0.61\n",
      "Epoch: 859 Loss: 0.40, Loss_test: 0.71, acc: 0.80, acc_test: 0.61\n",
      "=> result saved!\n",
      "Epoch: 860 Loss: 0.40, Loss_test: 0.71, acc: 0.80, acc_test: 0.61\n",
      "Epoch: 861 Loss: 0.43, Loss_test: 0.70, acc: 0.80, acc_test: 0.61\n",
      "Epoch: 862 Loss: 0.38, Loss_test: 0.70, acc: 0.88, acc_test: 0.59\n",
      "Epoch: 863 Loss: 0.47, Loss_test: 0.70, acc: 0.74, acc_test: 0.60\n",
      "Epoch: 864 Loss: 0.41, Loss_test: 0.70, acc: 0.78, acc_test: 0.59\n",
      "Epoch: 865 Loss: 0.34, Loss_test: 0.70, acc: 0.87, acc_test: 0.59\n",
      "Epoch: 866 Loss: 0.41, Loss_test: 0.70, acc: 0.80, acc_test: 0.60\n",
      "Epoch: 867 Loss: 0.41, Loss_test: 0.70, acc: 0.80, acc_test: 0.61\n",
      "Epoch: 868 Loss: 0.37, Loss_test: 0.71, acc: 0.83, acc_test: 0.61\n",
      "Epoch: 869 Loss: 0.43, Loss_test: 0.70, acc: 0.77, acc_test: 0.61\n",
      "=> result saved!\n",
      "Epoch: 870 Loss: 0.42, Loss_test: 0.70, acc: 0.77, acc_test: 0.60\n",
      "Epoch: 871 Loss: 0.39, Loss_test: 0.70, acc: 0.81, acc_test: 0.60\n",
      "Epoch: 872 Loss: 0.46, Loss_test: 0.70, acc: 0.74, acc_test: 0.60\n",
      "Epoch: 873 Loss: 0.46, Loss_test: 0.70, acc: 0.78, acc_test: 0.61\n",
      "Epoch: 874 Loss: 0.40, Loss_test: 0.71, acc: 0.84, acc_test: 0.59\n",
      "Epoch: 875 Loss: 0.43, Loss_test: 0.72, acc: 0.82, acc_test: 0.59\n",
      "Epoch: 876 Loss: 0.41, Loss_test: 0.71, acc: 0.79, acc_test: 0.58\n",
      "Epoch: 877 Loss: 0.35, Loss_test: 0.70, acc: 0.82, acc_test: 0.62\n",
      "Epoch: 878 Loss: 0.32, Loss_test: 0.72, acc: 0.89, acc_test: 0.62\n",
      "Epoch: 879 Loss: 0.47, Loss_test: 0.72, acc: 0.74, acc_test: 0.62\n",
      "=> result saved!\n",
      "Epoch: 880 Loss: 0.50, Loss_test: 0.72, acc: 0.76, acc_test: 0.57\n",
      "Epoch: 881 Loss: 0.33, Loss_test: 0.76, acc: 0.86, acc_test: 0.59\n",
      "Epoch: 882 Loss: 0.45, Loss_test: 0.77, acc: 0.80, acc_test: 0.58\n",
      "Epoch: 883 Loss: 0.48, Loss_test: 0.74, acc: 0.75, acc_test: 0.59\n",
      "Epoch: 884 Loss: 0.35, Loss_test: 0.74, acc: 0.84, acc_test: 0.59\n",
      "Epoch: 885 Loss: 0.45, Loss_test: 0.77, acc: 0.79, acc_test: 0.58\n",
      "Epoch: 886 Loss: 0.35, Loss_test: 0.76, acc: 0.80, acc_test: 0.59\n",
      "Epoch: 887 Loss: 0.32, Loss_test: 0.74, acc: 0.82, acc_test: 0.59\n",
      "Epoch: 888 Loss: 0.44, Loss_test: 0.75, acc: 0.79, acc_test: 0.59\n",
      "Epoch: 889 Loss: 0.46, Loss_test: 0.75, acc: 0.75, acc_test: 0.59\n",
      "=> result saved!\n",
      "Epoch: 890 Loss: 0.50, Loss_test: 0.75, acc: 0.78, acc_test: 0.58\n",
      "Epoch: 891 Loss: 0.46, Loss_test: 0.74, acc: 0.77, acc_test: 0.56\n",
      "Epoch: 892 Loss: 0.46, Loss_test: 0.74, acc: 0.73, acc_test: 0.56\n",
      "Epoch: 893 Loss: 0.36, Loss_test: 0.75, acc: 0.83, acc_test: 0.57\n",
      "Epoch: 894 Loss: 0.45, Loss_test: 0.74, acc: 0.80, acc_test: 0.57\n",
      "Epoch: 895 Loss: 0.33, Loss_test: 0.74, acc: 0.85, acc_test: 0.55\n",
      "Epoch: 896 Loss: 0.44, Loss_test: 0.74, acc: 0.80, acc_test: 0.58\n",
      "Epoch: 897 Loss: 0.42, Loss_test: 0.74, acc: 0.84, acc_test: 0.59\n",
      "Epoch: 898 Loss: 0.31, Loss_test: 0.75, acc: 0.88, acc_test: 0.59\n",
      "Epoch: 899 Loss: 0.40, Loss_test: 0.74, acc: 0.78, acc_test: 0.59\n",
      "=> result saved!\n",
      "Epoch: 900 Loss: 0.34, Loss_test: 0.74, acc: 0.84, acc_test: 0.61\n"
     ]
    }
   ],
   "source": [
    "end_train = epochs - limit_train\n",
    "for epoch in range(limit_train, end_train):\n",
    "    batch_triplet_train, \\\n",
    "        train_input_sample, train_input_pos, train_input_neg, \\\n",
    "            train_sim = experiment.batch_iterator(None, baseline.train_data, baseline.dup_sets_train, \n",
    "                                                  bug_train_ids, batch_size, 1, issues_by_buckets, TRIPLET_HARD=False)\n",
    "    \n",
    "    num_batch = train_input_sample['title'].shape[0]\n",
    "    pos = np.full((1, num_batch), 1)\n",
    "    neg = np.full((1, num_batch), 0)\n",
    "    train_sim = np.concatenate([pos, neg], -1)[0]\n",
    "    \n",
    "    title_sample_a = np.concatenate([train_input_sample['title'], train_input_sample['title']], 0)\n",
    "    title_sample_b = np.concatenate([train_input_pos['title'], train_input_neg['title']], 0)\n",
    "    desc_sample_a = np.concatenate([train_input_sample['description'], train_input_sample['description']], 0)\n",
    "    desc_sample_b = np.concatenate([train_input_pos['description'], train_input_neg['description']], 0)\n",
    "    train_batch = [title_sample_a, desc_sample_a, title_sample_b, desc_sample_b]\n",
    "    \n",
    "    \n",
    "    h = similarity_model.train_on_batch(x=train_batch, y=train_sim)\n",
    "    h_validation = similarity_model.test_on_batch(x=validation_sample, y=valid_sim)\n",
    "    \n",
    "    # save results\n",
    "    result['train'].append(h)\n",
    "    result['test'].append(h_validation)\n",
    "    \n",
    "    if( (epoch+1) % 10 == 0 or (epoch+1 == limit_train) ):\n",
    "        save_loss(result)\n",
    "    \n",
    "    if (epoch+1 == epochs): #(epoch > 1 and epoch % 10 == 0) or (epoch+1 == epochs):\n",
    "        recall, exported_rank, debug = experiment.evaluate_validation_test(retrieval, verbose, bug_feature_output_a, issues_by_buckets, bug_train_ids, 'dwen')\n",
    "        print(\"Epoch: {} Loss: {:.2f}, Loss_test: {:.2f}, acc: {:.2f}, acc_tets: {:.2f}, recall@25: {:.2f}\".format(epoch+1, h[0], h_validation[0],  h[1], h_validation[1], recall))\n",
    "    else:\n",
    "        print(\"Epoch: {} Loss: {:.2f}, Loss_test: {:.2f}, acc: {:.2f}, acc_test: {:.2f}\".format(epoch+1, h[0], h_validation[0], h[1], h_validation[1]))"
   ]
  },
  {
   "cell_type": "code",
   "execution_count": 43,
   "metadata": {},
   "outputs": [
    {
     "data": {
      "text/plain": [
       "(900, 900)"
      ]
     },
     "execution_count": 43,
     "metadata": {},
     "output_type": "execute_result"
    }
   ],
   "source": [
    "len(result['train']), len(result['test'])"
   ]
  },
  {
   "cell_type": "code",
   "execution_count": 44,
   "metadata": {},
   "outputs": [],
   "source": [
    "encoded = model.get_layer('merge_features_dwen_a')\n",
    "output = encoded.output\n",
    "inputs = similarity_model.inputs[:-2]\n",
    "bug_feature_output_a = Model(inputs = inputs, outputs = output, name = 'Similarity_Model')"
   ]
  },
  {
   "cell_type": "code",
   "execution_count": 45,
   "metadata": {},
   "outputs": [
    {
     "data": {
      "text/plain": [
       "[<tf.Tensor 'title_dwen_a:0' shape=(?, 20) dtype=float32>,\n",
       " <tf.Tensor 'desc_dwen_a:0' shape=(?, 20) dtype=float32>]"
      ]
     },
     "execution_count": 45,
     "metadata": {},
     "output_type": "execute_result"
    }
   ],
   "source": [
    "inputs"
   ]
  },
  {
   "cell_type": "code",
   "execution_count": 46,
   "metadata": {},
   "outputs": [
    {
     "data": {
      "text/plain": [
       "'bert_preprocessing_baseline_dwen_1000_feature1000epochs_64batch(eclipse)'"
      ]
     },
     "execution_count": 46,
     "metadata": {},
     "output_type": "execute_result"
    }
   ],
   "source": [
    "SAVE_PATH.replace('@number_of_epochs@', str(epochs))"
   ]
  },
  {
   "cell_type": "code",
   "execution_count": 47,
   "metadata": {},
   "outputs": [
    {
     "name": "stdout",
     "output_type": "stream",
     "text": [
      "Saved model 'modelos/model_bert_preprocessing_baseline_dwen_1000_feature_1000epochs_64batch(eclipse).h5' to disk\n"
     ]
    },
    {
     "data": {
      "text/plain": [
       "'Model saved'"
      ]
     },
     "execution_count": 47,
     "metadata": {},
     "output_type": "execute_result"
    }
   ],
   "source": [
    "experiment.save_model(model, SAVE_PATH.replace('@number_of_epochs@', str(epochs)))\n",
    "experiment.save_model(bug_feature_output_a, SAVE_PATH_FEATURE.replace('@number_of_epochs@', str(epochs)), verbose=1)\n",
    "\"Model saved\""
   ]
  },
  {
   "cell_type": "code",
   "execution_count": 48,
   "metadata": {},
   "outputs": [
    {
     "name": "stdout",
     "output_type": "stream",
     "text": [
      "Epoch: 900 Loss: 0.34, Loss_test: 0.74, acc: 0.84, acc_tets: 0.61, recall@25: 0.16\n"
     ]
    }
   ],
   "source": [
    "recall, exported_rank, debug = experiment.evaluate_validation_test(retrieval, verbose, bug_feature_output_a, issues_by_buckets, bug_train_ids, 'dwen')\n",
    "print(\"Epoch: {} Loss: {:.2f}, Loss_test: {:.2f}, acc: {:.2f}, acc_tets: {:.2f}, recall@25: {:.2f}\".format(epoch+1, h[0], h_validation[0],  h[1], h_validation[1], recall))"
   ]
  },
  {
   "cell_type": "code",
   "execution_count": 49,
   "metadata": {
    "scrolled": true
   },
   "outputs": [
    {
     "data": {
      "text/plain": [
       "['2:15392,9779,94|387108:0.47366011142730713,396638:0.42618709802627563,271242:0.42618048191070557,307723:0.39547091722488403,167697:0.39304739236831665,45583:0.3848111629486084,208090:0.3832539916038513,171:0.35479652881622314,153780:0.3529524803161621,14751:0.3467496633529663,274173:0.32306307554244995,317885:0.31425559520721436,2939:0.30586034059524536,150663:0.2966539263725281,359474:0.29371416568756104,251907:0.2873278260231018,227324:0.27639782428741455,27244:0.27262425422668457,42884:0.26375865936279297,23728:0.260738730430603,347699:0.2584395408630371,202311:0.2565629482269287,394703:0.24644291400909424,47020:0.243586003780365,386952:0.24335312843322754,67074:0.2412591576576233,64081:0.24061650037765503,32202:0.23618894815444946,23264:0.23561573028564453',\n",
       " '393232:393282,390667,383388|393282:0.5613614618778229,146301:0.2514530420303345,196411:0.24373668432235718,102885:0.2353416085243225,64146:0.23315370082855225,82121:0.23052126169204712,164395:0.22540080547332764,148834:0.22376692295074463,97563:0.21630460023880005,65146:0.199543297290802,142815:0.198294997215271,72641:0.19018465280532837,79550:0.19017845392227173,34270:0.18837207555770874,356328:0.18770956993103027,134531:0.18634319305419922,134533:0.18634319305419922,97592:0.185924232006073,343932:0.18033063411712646,35682:0.18000727891921997,32645:0.1792396903038025,144207:0.17418599128723145,233449:0.17281246185302734,85149:0.17166757583618164,97148:0.17157679796218872,147051:0.1707058548927307,270178:0.1693861484527588,178842:0.16800379753112793,52056:0.16449910402297974',\n",
       " '30:205979,38236,99332,71263|38236:0.3871980309486389,99332:0.3370121717453003,88718:0.33313095569610596,205979:0.2732950448989868,71263:0.2622566819190979,49952:0.23108285665512085,35669:0.21471619606018066,22835:0.19671034812927246,128612:0.19624674320220947,90205:0.18600142002105713,34441:0.1842958927154541,82960:0.1839960217475891,28903:0.17974740266799927,50288:0.17949211597442627,21963:0.17735284566879272,21128:0.17728328704833984,14639:0.17050093412399292,15490:0.1671333909034729,36483:0.16492557525634766,51276:0.16394490003585815,52560:0.16335880756378174,22337:0.16318446397781372,53235:0.15508931875228882,28091:0.15399545431137085,335963:0.14117014408111572,25411:0.14114564657211304,25435:0.13208061456680298,21577:0.12767493724822998,319663:0.12682920694351196',\n",
       " '131123:234849|122238:0.4906577467918396,23728:0.48070740699768066,173930:0.47465282678604126,338882:0.46745502948760986,7040:0.4646541476249695,202311:0.4581925868988037,7129:0.45752543210983276,8441:0.4562845230102539,64081:0.45456886291503906,32202:0.4522504210472107,245874:0.4489942193031311,77454:0.44882261753082275,17169:0.446586012840271,105088:0.44535088539123535,193981:0.44320088624954224,193989:0.44320088624954224,193990:0.44320088624954224,193994:0.44320088624954224,148318:0.44292521476745605,27244:0.4393259286880493,239779:0.4391971230506897,42884:0.4386743903160095,322333:0.43415963649749756,67074:0.4324353337287903,393974:0.4291699528694153,268248:0.4249292016029358,363019:0.4245612621307373,97976:0.42264115810394287,123172:0.42219167947769165',\n",
       " '393277:393864,400436|23409:0.420795202255249,66555:0.4099006652832031,246406:0.3763139247894287,18808:0.31680166721343994,73985:0.2655442953109741,379023:0.2539386749267578,70666:0.24265837669372559,202219:0.24240827560424805,43047:0.24054080247879028,319651:0.23410671949386597,103383:0.2294425368309021,356862:0.2202361822128296,254956:0.21896636486053467,424650:0.2182289958000183,64263:0.21584808826446533,293680:0.21277284622192383,153261:0.20516031980514526,88249:0.20418089628219604,348368:0.20252549648284912,295327:0.19931429624557495,37944:0.19847285747528076,168064:0.19668328762054443,102421:0.19580292701721191,274640:0.19528019428253174,78810:0.19253599643707275,396558:0.19030159711837769,154566:0.1901128888130188,105875:0.18977439403533936,412210:0.18963336944580078',\n",
       " '131136:150817,149868,145937,65841,102812|299538:0.3897647261619568,28826:0.38023895025253296,246739:0.3767961263656616,116727:0.36487865447998047,417907:0.36237311363220215,138569:0.35960471630096436,291736:0.3549373149871826,76522:0.3514558672904968,416882:0.35078930854797363,217882:0.35033637285232544,259429:0.3496556282043457,131947:0.34955066442489624,32140:0.3493727445602417,233624:0.34853261709213257,312585:0.3482102155685425,320403:0.3473249673843384,290696:0.34278494119644165,349632:0.34227079153060913,350860:0.34200263023376465,422384:0.34139764308929443,191958:0.3406866788864136,338228:0.33972877264022827,267118:0.3396921157836914,164220:0.33948391675949097,176118:0.337520956993103,139669:0.3364957571029663,10293:0.33492034673690796,208607:0.33474934101104736,150415:0.3315921425819397',\n",
       " '393282:393232,390667,383388|393232:0.5613614618778229,129689:0.49995625019073486,102885:0.45718854665756226,164395:0.4569532871246338,97563:0.45309990644454956,146301:0.4461783170700073,65146:0.4397504925727844,280186:0.4372847080230713,148834:0.4299315810203552,72641:0.4297062158584595,82121:0.42229247093200684,356328:0.40732258558273315,52056:0.40615934133529663,97592:0.4045236110687256,50242:0.3979322910308838,50246:0.3979322910308838,50247:0.3979322910308838,34270:0.38648611307144165,69387:0.38407033681869507,110911:0.3800303339958191,35682:0.37675464153289795,222586:0.36917853355407715,32645:0.36780375242233276,142815:0.36001795530319214,99678:0.34990763664245605,110909:0.338509202003479,129765:0.3367135524749756,99672:0.3321545124053955,145492:0.32994651794433594',\n",
       " '262212:292851,292845,291839|165179:0.5066185295581818,106207:0.5003086924552917,106008:0.4937715530395508,154735:0.4844369888305664,319260:0.47500312328338623,21516:0.4749506115913391,40628:0.47474128007888794,337208:0.47470593452453613,74035:0.4718952775001526,48498:0.4696226119995117,58960:0.4682852029800415,47815:0.4631739854812622,106017:0.45292842388153076,79942:0.4516385793685913,69964:0.4478042721748352,31933:0.4450230002403259,106164:0.44456130266189575,69241:0.4356840252876282,76503:0.4356301426887512,152789:0.43467170000076294,35206:0.4283410906791687,71762:0.4280703067779541,54439:0.42576509714126587,356444:0.42528313398361206,38153:0.4232821464538574,36943:0.4215259552001953,122567:0.41915690898895264,110594:0.41763103008270264,72017:0.4164469242095947',\n",
       " '131143:135599|275976:0.24868619441986084,275978:0.24868619441986084,223756:0.23142629861831665,6252:0.2226390838623047,75105:0.21978861093521118,229290:0.21788328886032104,135009:0.21578580141067505,16528:0.21246838569641113,42603:0.2110273838043213,44674:0.2081264853477478,40345:0.2056635022163391,51535:0.19952315092086792,70650:0.1991690993309021,308741:0.1984010934829712,7324:0.19354337453842163,7006:0.19216513633728027,5036:0.18941998481750488,229617:0.18815726041793823,45306:0.18455129861831665,33391:0.1796952486038208,50322:0.17948180437088013,34605:0.17870181798934937,37912:0.17805695533752441,406789:0.17783582210540771,82414:0.1748252511024475,47261:0.17311567068099976,240254:0.17287999391555786,43390:0.172610342502594,27666:0.1723204255104065',\n",
       " '71:256,228|49617:0.3174981474876404,249179:0.3144831657409668,89558:0.3025100827217102,97330:0.2964729070663452,153100:0.29584628343582153,63753:0.2925049066543579,47381:0.2923398017883301,38430:0.2674012780189514,17191:0.26038503646850586,133510:0.25854772329330444,338975:0.25432467460632324,104407:0.24192726612091064,85:0.237848162651062,168719:0.23750513792037964,69676:0.23493045568466187,47487:0.22884124517440796,111252:0.2278534173965454,63859:0.22711139917373657,128761:0.222057044506073,130425:0.2141798734664917,11660:0.2121308445930481,148777:0.21054410934448242,148779:0.21054410934448242,148780:0.21054410934448242,44114:0.20782583951950073,105882:0.206709086894989,82837:0.2055029273033142,95545:0.2052016258239746,22020:0.20207130908966064',\n",
       " '85:247,10959|153100:0.43239647150039673,26718:0.3610740303993225,133510:0.34993791580200195,128761:0.3294893503189087,165198:0.32833951711654663,89981:0.328222393989563,128782:0.3183246850967407,117049:0.3160651922225952,250645:0.31432491540908813,339106:0.2995843291282654,332021:0.2992836833000183,27288:0.2992236614227295,8915:0.29841989278793335,151996:0.29478222131729126,22020:0.2904505729675293,230027:0.289497435092926,63753:0.287910521030426,132047:0.28290122747421265,17160:0.2818620800971985,45306:0.2809605598449707,38382:0.2807968258857727,117048:0.2773647904396057,70415:0.27647000551223755,24493:0.2747870087623596,168719:0.2738525867462158,44114:0.2726609706878662,75440:0.2722961902618408,58948:0.27174460887908936,23155:0.27122706174850464',\n",
       " '88:6099,14116|116576:0.39539778232574463,116578:0.39539778232574463,116579:0.39539778232574463,358600:0.3290426731109619,203473:0.3274899125099182,1536:0.3212953209877014,108812:0.30866193771362305,27667:0.3080959916114807,6916:0.3071860671043396,49160:0.2962605953216553,75100:0.2949950695037842,83156:0.29428935050964355,281841:0.2908779978752136,9051:0.2889944314956665,14290:0.2889140248298645,35429:0.28825217485427856,136848:0.28722578287124634,93312:0.2841492295265198,16528:0.2827972173690796,20155:0.27731192111968994,214021:0.27588939666748047,1608:0.27560317516326904,284271:0.27525514364242554,134281:0.2736281156539917,69862:0.27339786291122437,38970:0.27314943075180054,199441:0.27302461862564087,266245:0.2728402614593506,29266:0.2705644965171814',\n",
       " '131161:44438,103374,98057|166983:0.18572062253952026,223857:0.13318192958831787,97110:0.10614269971847534,60811:0.07423186302185059,76065:0.06859058141708374,164964:0.06800192594528198,25411:0.05410104990005493,121353:0.04882824420928955,14639:0.041449785232543945,83373:0.03645116090774536,327415:0.03557395935058594,23319:0.033140361309051514,19669:0.03313976526260376,319663:0.03212440013885498,52236:0.031370699405670166,150:0.02323228120803833,58122:0.020183801651000977,60131:0.020079851150512695,243283:0.01627594232559204,49952:0.012875199317932129,82960:0.012559771537780762,25435:0.012059688568115234,39321:0.0070081353187561035,31487:0.006245672702789307,207908:0.005895137786865234,22337:0.005526483058929443,148945:0.004459023475646973,33619:0.003783285617828369,36483:0.0028288960456848145',\n",
       " '262235:260098,263611|272795:0.4184305667877197,53466:0.41203856468200684,295411:0.38684147596359253,123466:0.38175928592681885,284673:0.3694269061088562,94220:0.36877816915512085,258105:0.3543744683265686,266510:0.3464691638946533,196785:0.3462340235710144,237250:0.3459906578063965,180119:0.34226661920547485,264093:0.33811962604522705,53380:0.33595359325408936,201665:0.3336353898048401,66357:0.3281545639038086,51724:0.327805757522583,153913:0.3266860246658325,52643:0.32638925313949585,124326:0.325949490070343,226294:0.3258553743362427,166999:0.32452166080474854,85522:0.3240765929222107,170095:0.3236873149871826,90850:0.3233514428138733,53716:0.3232117295265198,43926:0.3226267695426941,93673:0.32241660356521606,32127:0.3214837312698364,84506:0.3212568759918213',\n",
       " '94:15392,2,9779|337332:0.4804191589355469,412063:0.2509944438934326,214236:0.20931100845336914,138610:0.20550823211669922,335976:0.18645906448364258,12021:0.17773467302322388,43769:0.17352330684661865,61578:0.17322784662246704,42092:0.16854941844940186,49507:0.16498148441314697,19579:0.16317516565322876,410114:0.16249686479568481,128762:0.15445274114608765,14771:0.14924967288970947,191288:0.14814192056655884,111047:0.14450275897979736,87901:0.1413782835006714,37974:0.14019620418548584,66617:0.1373879313468933,389770:0.13475120067596436,188990:0.13099592924118042,42696:0.12750554084777832,70755:0.12686634063720703,12018:0.12612682580947876,66697:0.124173104763031,57419:0.11979949474334717,108462:0.11863797903060913,121044:0.11631572246551514,53666:0.11626267433166504',\n",
       " '131171:202560,96651,172374|52786:0.5798667073249817,33717:0.550767332315445,94259:0.537287563085556,53027:0.5328889489173889,157831:0.519115537405014,303018:0.5162938833236694,231567:0.5075043141841888,94751:0.5074119865894318,91365:0.5063633918762207,274461:0.5017266571521759,31197:0.49818360805511475,252592:0.4967459440231323,127079:0.49614113569259644,186989:0.4950750470161438,83992:0.49217021465301514,260063:0.4862613081932068,274282:0.485567569732666,84288:0.4851014018058777,98747:0.4840192198753357,41930:0.48357725143432617,183592:0.48163938522338867,153071:0.47828829288482666,94302:0.4782755970954895,167783:0.47754621505737305,94666:0.4768680930137634,274016:0.46284544467926025,124850:0.4617314338684082,46894:0.4590241312980652,83289:0.4574505090713501',\n",
       " '393320:394988|209405:0.34866905212402344,209406:0.34866905212402344,124937:0.3344501852989197,58233:0.3146321773529053,55693:0.31003695726394653,273575:0.3096434473991394,22301:0.3086949586868286,36245:0.3039039373397827,58690:0.30363744497299194,213740:0.30027103424072266,37153:0.29674696922302246,236905:0.29176104068756104,408804:0.2914270758628845,29763:0.288776695728302,165320:0.28865861892700195,313291:0.2864665389060974,30963:0.2856632471084595,23057:0.2841677665710449,98218:0.2833966612815857,193542:0.28166693449020386,122326:0.2802843451499939,244150:0.2751317024230957,37423:0.27459949254989624,161310:0.27348238229751587,17840:0.2731357216835022,44721:0.2723610997200012,44722:0.2723610997200012,209407:0.26875197887420654,52393:0.26778799295425415',\n",
       " '131180:134058,132491,131646|32551:0.35330963134765625,358668:0.3479973077774048,79975:0.34412211179733276,337671:0.3351796865463257,35970:0.3221622705459595,67430:0.3201776146888733,38736:0.31787431240081787,55526:0.30995601415634155,21689:0.29609018564224243,47774:0.2955241799354553,60022:0.2954621911048889,376860:0.2949028015136719,59757:0.2860361337661743,10502:0.2821141481399536,250760:0.28106623888015747,15955:0.2805916666984558,19444:0.28029870986938477,151780:0.2772592306137085,151447:0.27721261978149414,90286:0.2760251760482788,61654:0.27205443382263184,47376:0.2701457142829895,349352:0.26827627420425415,152500:0.2668929100036621,152509:0.2668929100036621,247407:0.26687026023864746,25440:0.26626402139663696,12847:0.2632158398628235,25760:0.26078760623931885',\n",
       " '393332:405833,414629|79849:0.33321624994277954,69307:0.32808351516723633,18721:0.3257746696472168,77430:0.3199206590652466,49201:0.31898123025894165,52553:0.31238192319869995,34052:0.31202197074890137,103383:0.31178349256515503,24658:0.30300962924957275,150478:0.2991732358932495,77004:0.2886720299720764,16675:0.286518394947052,32287:0.28578484058380127,183169:0.28496813774108887,213000:0.2848294973373413,28059:0.2842167615890503,163947:0.283993124961853,324863:0.28359389305114746,126161:0.2830543518066406,189477:0.28186285495758057,223655:0.28092432022094727,52061:0.27904319763183594,102901:0.27779603004455566,18945:0.27695369720458984,168494:0.27586424350738525,19178:0.2746099829673767,406700:0.27434301376342773,156115:0.27304279804229736,120210:0.27250975370407104',\n",
       " '262266:262871|313212:0.5366573333740234,215650:0.16639059782028198,323454:0.0737953782081604,356309:0.06828105449676514,43365:0.06467264890670776,22801:0.06251460313796997,61027:0.05571109056472778,116210:0.04659754037857056,52643:0.034738779067993164,66080:0.030474066734313965,85522:0.028307080268859863,131205:0.02772831916809082,52855:0.021267056465148926,64710:0.01870560646057129,325031:0.016307353973388672,28580:0.011240005493164062,24252:0.01051342487335205,57715:0.008487701416015625,23794:0.00797414779663086,206586:0.005885720252990723,5669:0.005060315132141113,235923:0.004206180572509766,414631:0.0036818981170654297,125446:0.0036318302154541016,29805:0.003247499465942383,320679:0.002996087074279785,5961:0.0009071826934814453,9897:0.000518798828125,123466:0.0']"
      ]
     },
     "execution_count": 49,
     "metadata": {},
     "output_type": "execute_result"
    }
   ],
   "source": [
    "exported_rank[:20]"
   ]
  },
  {
   "cell_type": "markdown",
   "metadata": {},
   "source": [
    "### Retrieval evaluation"
   ]
  },
  {
   "cell_type": "code",
   "execution_count": 50,
   "metadata": {},
   "outputs": [
    {
     "name": "stdout",
     "output_type": "stream",
     "text": [
      "Total of queries: 16995\n"
     ]
    }
   ],
   "source": [
    "print(\"Total of queries:\", len(retrieval.test))"
   ]
  },
  {
   "cell_type": "markdown",
   "metadata": {},
   "source": [
    "#### Getting the model trained"
   ]
  },
  {
   "cell_type": "code",
   "execution_count": 51,
   "metadata": {},
   "outputs": [
    {
     "data": {
      "text/plain": [
       "'bert_preprocessing_baseline_dwen_1000_feature_1000epochs_64batch(eclipse)'"
      ]
     },
     "execution_count": 51,
     "metadata": {},
     "output_type": "execute_result"
    }
   ],
   "source": [
    "SAVE_PATH_FEATURE.replace('@number_of_epochs@', str(epochs))"
   ]
  },
  {
   "cell_type": "code",
   "execution_count": 52,
   "metadata": {},
   "outputs": [
    {
     "name": "stdout",
     "output_type": "stream",
     "text": [
      "__________________________________________________________________________________________________\n",
      "Layer (type)                    Output Shape         Param #     Connected to                     \n",
      "==================================================================================================\n",
      "title_dwen_a (InputLayer)       (None, 20)           0                                            \n",
      "__________________________________________________________________________________________________\n",
      "desc_dwen_a (InputLayer)        (None, 20)           0                                            \n",
      "__________________________________________________________________________________________________\n",
      "embedding_layer_title (Embeddin (None, 20, 300)      581600700   title_dwen_a[0][0]               \n",
      "__________________________________________________________________________________________________\n",
      "embedding_layer_desc (Embedding (None, 20, 300)      581600700   desc_dwen_a[0][0]                \n",
      "__________________________________________________________________________________________________\n",
      "global_average_pooling1d_1 (Glo (None, 300)          0           embedding_layer_title[0][0]      \n",
      "__________________________________________________________________________________________________\n",
      "global_average_pooling1d_2 (Glo (None, 300)          0           embedding_layer_desc[0][0]       \n",
      "__________________________________________________________________________________________________\n",
      "merge_features_dwen_a (Average) (None, 300)          0           global_average_pooling1d_1[0][0] \n",
      "                                                                 global_average_pooling1d_2[0][0] \n",
      "==================================================================================================\n",
      "Total params: 1,163,201,400\n",
      "Trainable params: 0\n",
      "Non-trainable params: 1,163,201,400\n",
      "__________________________________________________________________________________________________\n"
     ]
    }
   ],
   "source": [
    "bug_feature_output_a.summary()"
   ]
  },
  {
   "cell_type": "code",
   "execution_count": 53,
   "metadata": {},
   "outputs": [
    {
     "data": {
      "text/plain": [
       "'data/processed/eclipse/bert/exported_rank_baseline_dwen_1000.txt'"
      ]
     },
     "execution_count": 53,
     "metadata": {},
     "output_type": "execute_result"
    }
   ],
   "source": [
    "EXPORT_RANK_PATH = os.path.join(DIR, 'exported_rank_{}.txt'.format(METHOD))\n",
    "EXPORT_RANK_PATH"
   ]
  },
  {
   "cell_type": "code",
   "execution_count": 54,
   "metadata": {},
   "outputs": [],
   "source": [
    "with open(EXPORT_RANK_PATH, 'w') as file_out:\n",
    "    for row in exported_rank:\n",
    "        file_out.write(row + \"\\n\")"
   ]
  },
  {
   "cell_type": "code",
   "execution_count": 55,
   "metadata": {},
   "outputs": [
    {
     "data": {
      "text/plain": [
       "{'1 - recall_at_5': 0.13,\n",
       " '2 - recall_at_10': 0.14,\n",
       " '3 - recall_at_15': 0.15,\n",
       " '4 - recall_at_20': 0.16,\n",
       " '5 - recall_at_25': 0.16}"
      ]
     },
     "execution_count": 55,
     "metadata": {},
     "output_type": "execute_result"
    }
   ],
   "source": [
    "report = experiment.evaluation.evaluate(EXPORT_RANK_PATH)\n",
    "report"
   ]
  }
 ],
 "metadata": {
  "accelerator": "GPU",
  "colab": {
   "collapsed_sections": [],
   "name": "[baseline] Bug triage with Deep Learning.ipynb",
   "provenance": [],
   "toc_visible": true,
   "version": "0.3.2"
  },
  "kernelspec": {
   "display_name": "Python 3",
   "language": "python",
   "name": "python3"
  },
  "language_info": {
   "codemirror_mode": {
    "name": "ipython",
    "version": 3
   },
   "file_extension": ".py",
   "mimetype": "text/x-python",
   "name": "python",
   "nbconvert_exporter": "python",
   "pygments_lexer": "ipython3",
   "version": "3.5.2"
  }
 },
 "nbformat": 4,
 "nbformat_minor": 1
}
