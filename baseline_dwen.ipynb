{
 "cells": [
  {
   "cell_type": "markdown",
   "metadata": {
    "colab_type": "text",
    "id": "PtdA1qs_UQP1"
   },
   "source": [
    "# DWEN"
   ]
  },
  {
   "cell_type": "code",
   "execution_count": 1,
   "metadata": {},
   "outputs": [
    {
     "name": "stderr",
     "output_type": "stream",
     "text": [
      "Using TensorFlow backend.\n"
     ]
    }
   ],
   "source": [
    "import keras"
   ]
  },
  {
   "cell_type": "code",
   "execution_count": 2,
   "metadata": {
    "colab": {},
    "colab_type": "code",
    "id": "qnSCLmiomFE1"
   },
   "outputs": [],
   "source": [
    "from __future__ import print_function, division"
   ]
  },
  {
   "cell_type": "code",
   "execution_count": 3,
   "metadata": {
    "colab": {},
    "colab_type": "code",
    "id": "OIha-SERnD72"
   },
   "outputs": [],
   "source": [
    "import re\n",
    "import numpy as np\n",
    "import pandas as pd\n",
    "\n",
    "import os\n",
    "from tqdm import tqdm_notebook as tqdm\n",
    "import matplotlib.pyplot as plt\n",
    "import sys\n",
    "from annoy import AnnoyIndex\n",
    "nb_dir = os.path.split(os.getcwd())[0]\n",
    "if nb_dir not in sys.path:\n",
    "    sys.path.append(nb_dir)\n",
    "    \n",
    "%matplotlib inline"
   ]
  },
  {
   "cell_type": "code",
   "execution_count": 4,
   "metadata": {
    "colab": {
     "base_uri": "https://localhost:8080/",
     "height": 34
    },
    "colab_type": "code",
    "id": "c57gQiuAnJAe",
    "outputId": "9eaf2d3f-619a-492d-f40b-6ba2c48426fa"
   },
   "outputs": [],
   "source": [
    "from keras.layers import Conv1D, Input, Add, Activation, Dropout, Embedding, MaxPooling1D, \\\n",
    "    GlobalMaxPool1D, Flatten, Dense, Concatenate, BatchNormalization\n",
    "from keras.models import Sequential, Model\n",
    "from keras.regularizers import l2\n",
    "from keras.initializers import TruncatedNormal\n",
    "from keras.layers.advanced_activations import LeakyReLU, ELU\n",
    "from keras import optimizers"
   ]
  },
  {
   "cell_type": "code",
   "execution_count": 5,
   "metadata": {},
   "outputs": [],
   "source": [
    "from methods.baseline import Baseline\n",
    "from methods.experiments import Experiment\n",
    "from methods.evaluation import Evaluation\n",
    "from methods.retrieval import Retrieval"
   ]
  },
  {
   "cell_type": "markdown",
   "metadata": {
    "colab_type": "text",
    "id": "3VUZ6oG1gb91"
   },
   "source": [
    "## Auxiliary methods"
   ]
  },
  {
   "cell_type": "markdown",
   "metadata": {
    "colab_type": "text",
    "id": "8uQou7m2-bFO"
   },
   "source": [
    "## Configurações Globais"
   ]
  },
  {
   "cell_type": "code",
   "execution_count": 6,
   "metadata": {
    "colab": {},
    "colab_type": "code",
    "id": "G-Kn3x_K-aZj"
   },
   "outputs": [],
   "source": [
    "MAX_SEQUENCE_LENGTH_T = 20 # 100\n",
    "MAX_SEQUENCE_LENGTH_D = 20 # 500\n",
    "EMBEDDING_DIM = 300\n",
    "MAX_NB_WORDS = 20000\n",
    "'''\n",
    "    Configuration\n",
    "'''\n",
    "epochs = 1000\n",
    "freeze_train = .1 # 10% with freeze weights\n",
    "best_loss = float('inf')\n",
    "best_epoch = 0\n",
    "verbose = 0\n",
    "loss = 0"
   ]
  },
  {
   "cell_type": "markdown",
   "metadata": {},
   "source": [
    "### Parse bugs preproprecessed"
   ]
  },
  {
   "cell_type": "code",
   "execution_count": 7,
   "metadata": {},
   "outputs": [],
   "source": [
    "# Domain to use\n",
    "DOMAIN = 'openoffice'\n",
    "METHOD = 'baseline_dwen_{}'.format(epochs)\n",
    "PREPROCESSING = 'bert'\n",
    "TOKEN = 'bert'\n",
    "# Dataset paths\n",
    "DIR = 'data/processed/{}/{}'.format(DOMAIN, PREPROCESSING)\n",
    "DIR_PAIRS = 'data/normalized/{}'.format(DOMAIN)\n",
    "DATASET = os.path.join('data/normalized/{}'.format(DOMAIN), '{}.csv'.format(DOMAIN))\n",
    "# Path embeddings\n",
    "GLOVE_DIR='data/embed'\n",
    "# Save model\n",
    "SAVE_PATH = '{}_preprocessing_{}_feature@number_of_epochs@epochs_64batch({})'.format(PREPROCESSING, METHOD, DOMAIN)\n",
    "SAVE_PATH_FEATURE = '{}_preprocessing_{}_feature_@number_of_epochs@epochs_64batch({})'.format(PREPROCESSING, METHOD, DOMAIN)\n",
    "\n",
    "# Extract CORPUs\n",
    "EXTRACT_CORPUS = False"
   ]
  },
  {
   "cell_type": "code",
   "execution_count": 8,
   "metadata": {},
   "outputs": [],
   "source": [
    "import os\n",
    "\n",
    "pretrained_path = 'uncased_L-12_H-768_A-12'\n",
    "config_path = os.path.join(pretrained_path, 'bert_config.json')\n",
    "model_path = os.path.join(pretrained_path, 'bert_model.ckpt')\n",
    "vocab_path = os.path.join(pretrained_path, 'vocab.txt')"
   ]
  },
  {
   "cell_type": "code",
   "execution_count": 9,
   "metadata": {},
   "outputs": [],
   "source": [
    "from keras_bert import load_vocabulary\n",
    "\n",
    "token_dict = load_vocabulary(vocab_path)"
   ]
  },
  {
   "cell_type": "code",
   "execution_count": 10,
   "metadata": {},
   "outputs": [],
   "source": [
    "baseline = Baseline(DOMAIN, DIR, DATASET, MAX_SEQUENCE_LENGTH_T, MAX_SEQUENCE_LENGTH_D,\n",
    "                   token_dict['[CLS]'], token_dict['[SEP]'])\n",
    "evaluation = Evaluation(verbose=0)\n",
    "retrieval = Retrieval()\n",
    "experiment = Experiment(baseline, evaluation)"
   ]
  },
  {
   "cell_type": "code",
   "execution_count": 11,
   "metadata": {},
   "outputs": [],
   "source": [
    "experiment.set_retrieval(retrieval, baseline, DOMAIN)"
   ]
  },
  {
   "cell_type": "markdown",
   "metadata": {},
   "source": [
    "#### Loading bug ids in memory"
   ]
  },
  {
   "cell_type": "code",
   "execution_count": 12,
   "metadata": {
    "scrolled": true
   },
   "outputs": [
    {
     "name": "stdout",
     "output_type": "stream",
     "text": [
      "Reading bug ids\n"
     ]
    },
    {
     "data": {
      "text/plain": [
       "98070"
      ]
     },
     "execution_count": 12,
     "metadata": {},
     "output_type": "execute_result"
    }
   ],
   "source": [
    "experiment.load_ids()\n",
    "len(baseline.bug_ids)"
   ]
  },
  {
   "cell_type": "markdown",
   "metadata": {
    "colab_type": "text",
    "id": "vqzt5EKzqzcI"
   },
   "source": [
    "#### Dicionário de títulos e descrições"
   ]
  },
  {
   "cell_type": "code",
   "execution_count": 13,
   "metadata": {
    "scrolled": true
   },
   "outputs": [
    {
     "data": {
      "application/vnd.jupyter.widget-view+json": {
       "model_id": "77ce3c06a5904e78928fa4651f218d80",
       "version_major": 2,
       "version_minor": 0
      },
      "text/plain": [
       "HBox(children=(IntProgress(value=0, max=98070), HTML(value='')))"
      ]
     },
     "metadata": {},
     "output_type": "display_data"
    },
    {
     "name": "stdout",
     "output_type": "stream",
     "text": [
      "\n"
     ]
    },
    {
     "data": {
      "application/vnd.jupyter.widget-view+json": {
       "model_id": "f615e18215c8488d9ccb43011048c0b9",
       "version_major": 2,
       "version_minor": 0
      },
      "text/plain": [
       "HBox(children=(IntProgress(value=1, bar_style='info', max=1), HTML(value='')))"
      ]
     },
     "metadata": {},
     "output_type": "display_data"
    },
    {
     "name": "stdout",
     "output_type": "stream",
     "text": [
      "\n",
      "CPU times: user 17.6 s, sys: 5.18 s, total: 22.8 s\n",
      "Wall time: 41.6 s\n"
     ]
    }
   ],
   "source": [
    "%%time\n",
    "\n",
    "experiment.load_bugs(TOKEN)\n",
    "len(baseline.sentence_dict)"
   ]
  },
  {
   "cell_type": "markdown",
   "metadata": {},
   "source": [
    "#### Hashing bugs by buckets"
   ]
  },
  {
   "cell_type": "code",
   "execution_count": 14,
   "metadata": {},
   "outputs": [
    {
     "data": {
      "application/vnd.jupyter.widget-view+json": {
       "model_id": "1c442049616944df91a6bd263a87bce8",
       "version_major": 2,
       "version_minor": 0
      },
      "text/plain": [
       "HBox(children=(IntProgress(value=0, max=98070), HTML(value='')))"
      ]
     },
     "metadata": {},
     "output_type": "display_data"
    },
    {
     "name": "stdout",
     "output_type": "stream",
     "text": [
      "\n"
     ]
    }
   ],
   "source": [
    "issues_by_buckets = experiment.get_buckets_for_bugs()"
   ]
  },
  {
   "cell_type": "markdown",
   "metadata": {
    "colab_type": "text",
    "id": "a6Obtop6UIVD"
   },
   "source": [
    "#### Prepare the train and test"
   ]
  },
  {
   "cell_type": "code",
   "execution_count": 15,
   "metadata": {
    "colab": {},
    "colab_type": "code",
    "id": "vvyMGBD4IhB-",
    "scrolled": true
   },
   "outputs": [],
   "source": [
    "experiment.prepare_dataset(issues_by_buckets, path_train='train_chronological', path_test='test_chronological')\n",
    "# Read and create the test queries duplicates\n",
    "retrieval.create_queries()"
   ]
  },
  {
   "cell_type": "code",
   "execution_count": 16,
   "metadata": {},
   "outputs": [
    {
     "data": {
      "text/plain": [
       "[[6036, 35039],\n",
       " [26311, 15091],\n",
       " [5142, 34523],\n",
       " [8323, 9594],\n",
       " [76676, 88775],\n",
       " [59725, 71546],\n",
       " [121756, 116964],\n",
       " [32936, 30911],\n",
       " [15257, 16297],\n",
       " [99719, 106395]]"
      ]
     },
     "execution_count": 16,
     "metadata": {},
     "output_type": "execute_result"
    }
   ],
   "source": [
    "baseline.train_data[:10]"
   ]
  },
  {
   "cell_type": "code",
   "execution_count": 17,
   "metadata": {},
   "outputs": [],
   "source": [
    "bug_train_ids = experiment.get_train_ids(baseline.train_data)"
   ]
  },
  {
   "cell_type": "code",
   "execution_count": 18,
   "metadata": {
    "scrolled": true
   },
   "outputs": [
    {
     "data": {
      "text/plain": [
       "{'bug_severity': '2\\n',\n",
       " 'bug_status': '1\\n',\n",
       " 'component': '72\\n',\n",
       " 'creation_ts': '2008-05-14 09:43:00 +0000',\n",
       " 'delta_ts': '2008-05-14 09:55:24 +0000',\n",
       " 'description': '[CLS] the file extensions such as . o ##dt and more are not assigned on windows ; it \\' s impossible to assign them manually with the \" open with . . . \" context ##ual menu . [SEP]',\n",
       " 'description_segment': [0,\n",
       "  0,\n",
       "  0,\n",
       "  0,\n",
       "  0,\n",
       "  0,\n",
       "  0,\n",
       "  0,\n",
       "  0,\n",
       "  0,\n",
       "  0,\n",
       "  0,\n",
       "  0,\n",
       "  0,\n",
       "  0,\n",
       "  0,\n",
       "  0,\n",
       "  0,\n",
       "  0,\n",
       "  0,\n",
       "  0,\n",
       "  0,\n",
       "  0,\n",
       "  0,\n",
       "  0,\n",
       "  0,\n",
       "  0,\n",
       "  0,\n",
       "  0,\n",
       "  0,\n",
       "  0,\n",
       "  0,\n",
       "  0,\n",
       "  0,\n",
       "  0,\n",
       "  0,\n",
       "  0,\n",
       "  0,\n",
       "  0,\n",
       "  0,\n",
       "  0,\n",
       "  0,\n",
       "  0,\n",
       "  0,\n",
       "  0,\n",
       "  0,\n",
       "  0,\n",
       "  0,\n",
       "  0,\n",
       "  0,\n",
       "  0,\n",
       "  0,\n",
       "  0,\n",
       "  0,\n",
       "  0,\n",
       "  0,\n",
       "  0,\n",
       "  0,\n",
       "  0,\n",
       "  0,\n",
       "  0,\n",
       "  0,\n",
       "  0,\n",
       "  0,\n",
       "  0,\n",
       "  0,\n",
       "  0,\n",
       "  0,\n",
       "  0,\n",
       "  0,\n",
       "  0,\n",
       "  0,\n",
       "  0,\n",
       "  0,\n",
       "  0,\n",
       "  0,\n",
       "  0,\n",
       "  0,\n",
       "  0,\n",
       "  0,\n",
       "  0,\n",
       "  0,\n",
       "  0,\n",
       "  0,\n",
       "  0,\n",
       "  0,\n",
       "  0,\n",
       "  0,\n",
       "  0,\n",
       "  0,\n",
       "  0,\n",
       "  0,\n",
       "  0,\n",
       "  0,\n",
       "  0,\n",
       "  0,\n",
       "  0,\n",
       "  0,\n",
       "  0,\n",
       "  0,\n",
       "  0,\n",
       "  0,\n",
       "  0,\n",
       "  0,\n",
       "  0,\n",
       "  0,\n",
       "  0,\n",
       "  0,\n",
       "  0,\n",
       "  0,\n",
       "  0,\n",
       "  0,\n",
       "  0,\n",
       "  0,\n",
       "  0,\n",
       "  0,\n",
       "  0,\n",
       "  0,\n",
       "  0,\n",
       "  0,\n",
       "  0,\n",
       "  0,\n",
       "  0,\n",
       "  0,\n",
       "  0,\n",
       "  0,\n",
       "  0,\n",
       "  0,\n",
       "  0,\n",
       "  0,\n",
       "  0,\n",
       "  0,\n",
       "  0,\n",
       "  0,\n",
       "  0,\n",
       "  0,\n",
       "  0,\n",
       "  0,\n",
       "  0,\n",
       "  0,\n",
       "  0,\n",
       "  0,\n",
       "  0,\n",
       "  0,\n",
       "  0,\n",
       "  0,\n",
       "  0,\n",
       "  0,\n",
       "  0,\n",
       "  0],\n",
       " 'description_token': array([  101,  1996,  5371, 14305,  2107,  2004,  1012,  1051, 11927,\n",
       "         1998,  2062,  2024,  2025,  4137,  2006,  3645,  1025,  2009,\n",
       "         1005,   102]),\n",
       " 'dup_id': '88051',\n",
       " 'issue_id': 89443,\n",
       " 'priority': '3\\n',\n",
       " 'product': '35\\n',\n",
       " 'resolution': 'DUPLICATE',\n",
       " 'textual_token': array([  101, 14305,  2025,  4137,     0,     0,     0,     0,     0,\n",
       "            0,     0,     0,     0,     0,     0,     0,     0,     0,\n",
       "            0,   102,   101,  1996,  5371, 14305,  2107,  2004,  1012,\n",
       "         1051, 11927,  1998,  2062,  2024,  2025,  4137,  2006,  3645,\n",
       "         1025,  2009,  1005,   102]),\n",
       " 'title': '[CLS] extensions not assigned [SEP]',\n",
       " 'title_segment': [0,\n",
       "  0,\n",
       "  0,\n",
       "  0,\n",
       "  0,\n",
       "  0,\n",
       "  0,\n",
       "  0,\n",
       "  0,\n",
       "  0,\n",
       "  0,\n",
       "  0,\n",
       "  0,\n",
       "  0,\n",
       "  0,\n",
       "  0,\n",
       "  0,\n",
       "  0,\n",
       "  0,\n",
       "  0,\n",
       "  0,\n",
       "  0,\n",
       "  0,\n",
       "  0,\n",
       "  0,\n",
       "  0,\n",
       "  0,\n",
       "  0,\n",
       "  0,\n",
       "  0,\n",
       "  0,\n",
       "  0,\n",
       "  0,\n",
       "  0,\n",
       "  0,\n",
       "  0,\n",
       "  0,\n",
       "  0,\n",
       "  0,\n",
       "  0,\n",
       "  0,\n",
       "  0,\n",
       "  0,\n",
       "  0,\n",
       "  0,\n",
       "  0,\n",
       "  0,\n",
       "  0,\n",
       "  0,\n",
       "  0],\n",
       " 'title_token': array([  101, 14305,  2025,  4137,     0,     0,     0,     0,     0,\n",
       "            0,     0,     0,     0,     0,     0,     0,     0,     0,\n",
       "            0,   102]),\n",
       " 'version': '382\\n'}"
      ]
     },
     "execution_count": 18,
     "metadata": {},
     "output_type": "execute_result"
    }
   ],
   "source": [
    "idx = np.random.choice(baseline.bug_ids, 1)[0]\n",
    "baseline.bug_set[idx]"
   ]
  },
  {
   "cell_type": "markdown",
   "metadata": {},
   "source": [
    "### Generating the batch test"
   ]
  },
  {
   "cell_type": "code",
   "execution_count": 19,
   "metadata": {},
   "outputs": [
    {
     "data": {
      "text/plain": [
       "('Train ', 14508)"
      ]
     },
     "execution_count": 19,
     "metadata": {},
     "output_type": "execute_result"
    }
   ],
   "source": [
    "\"Train \", len(baseline.dup_sets_train)"
   ]
  },
  {
   "cell_type": "code",
   "execution_count": 20,
   "metadata": {},
   "outputs": [
    {
     "data": {
      "text/plain": [
       "2002"
      ]
     },
     "execution_count": 20,
     "metadata": {},
     "output_type": "execute_result"
    }
   ],
   "source": [
    "import random\n",
    "random.choice(list(issues_by_buckets))"
   ]
  },
  {
   "cell_type": "code",
   "execution_count": 21,
   "metadata": {},
   "outputs": [
    {
     "data": {
      "text/plain": [
       "True"
      ]
     },
     "execution_count": 21,
     "metadata": {},
     "output_type": "execute_result"
    }
   ],
   "source": [
    "110647 in experiment.baseline.bug_set"
   ]
  },
  {
   "cell_type": "code",
   "execution_count": 22,
   "metadata": {
    "colab": {
     "base_uri": "https://localhost:8080/",
     "height": 51
    },
    "colab_type": "code",
    "id": "PA5CIhgz7odW",
    "outputId": "ae98fdec-1d54-4b1f-ee0e-4c5633802a18",
    "scrolled": true
   },
   "outputs": [
    {
     "name": "stdout",
     "output_type": "stream",
     "text": [
      "CPU times: user 704 ms, sys: 0 ns, total: 704 ms\n",
      "Wall time: 716 ms\n"
     ]
    }
   ],
   "source": [
    "%%time\n",
    "\n",
    "batch_size = 64\n",
    "batch_size_test = 128\n",
    "\n",
    "# we want a constant validation group to have a frame of reference for model performance\n",
    "batch_triplets_valid, valid_input_sample, valid_input_pos, valid_input_neg, valid_sim = experiment.batch_iterator(None, \n",
    "                                                                                          baseline.train_data, \n",
    "                                                                                          baseline.dup_sets_train,\n",
    "                                                                                          bug_train_ids,\n",
    "                                                                                          batch_size_test, 1,\n",
    "                                                                                          issues_by_buckets)\n",
    "\n",
    "pos = np.full((1, batch_size_test), 1)\n",
    "neg = np.full((1, batch_size_test), 0)\n",
    "valid_sim = np.concatenate([pos, neg], -1)[0]\n",
    "\n",
    "valid_title_sample_a = np.concatenate([valid_input_sample['title'], valid_input_sample['title']], 0)\n",
    "valid_title_sample_b = np.concatenate([valid_input_pos['title'], valid_input_neg['title']], 0)\n",
    "valid_desc_sample_a = np.concatenate([valid_input_sample['description'], valid_input_sample['description']], 0)\n",
    "valid_desc_sample_b = np.concatenate([valid_input_pos['description'], valid_input_neg['description']], 0)\n",
    "\n",
    "validation_sample = [valid_title_sample_a, valid_title_sample_b, valid_desc_sample_a, valid_desc_sample_b]\n",
    "\n",
    "# Max sequence title\n",
    "MAX_SEQUENCE_LENGTH_T = valid_input_sample['title'].shape[1]\n",
    "MAX_SEQUENCE_LENGTH_D = valid_input_sample['description'].shape[1]"
   ]
  },
  {
   "cell_type": "code",
   "execution_count": 23,
   "metadata": {},
   "outputs": [
    {
     "data": {
      "text/plain": [
       "(256, 256)"
      ]
     },
     "execution_count": 23,
     "metadata": {},
     "output_type": "execute_result"
    }
   ],
   "source": [
    "len(valid_title_sample_a), len(valid_sim)"
   ]
  },
  {
   "cell_type": "code",
   "execution_count": 24,
   "metadata": {},
   "outputs": [
    {
     "data": {
      "text/plain": [
       "((128, 20), (128, 20), (256,))"
      ]
     },
     "execution_count": 24,
     "metadata": {},
     "output_type": "execute_result"
    }
   ],
   "source": [
    "valid_input_sample['title'].shape, valid_input_sample['description'].shape, valid_sim.shape"
   ]
  },
  {
   "cell_type": "markdown",
   "metadata": {
    "colab_type": "text",
    "id": "24mY22BGnkqp"
   },
   "source": [
    "### Validar entrada"
   ]
  },
  {
   "cell_type": "code",
   "execution_count": 25,
   "metadata": {
    "colab": {
     "base_uri": "https://localhost:8080/",
     "height": 796
    },
    "colab_type": "code",
    "id": "OhTbr3a5nmrh",
    "outputId": "a2d73e0f-e9ce-4d12-a5c8-f0008d2402d0",
    "scrolled": true
   },
   "outputs": [],
   "source": [
    "# %%time \n",
    "\n",
    "#baseline.display_batch(baseline.train_data, baseline.dup_sets_train, bug_train_ids, 5)"
   ]
  },
  {
   "cell_type": "markdown",
   "metadata": {
    "colab_type": "text",
    "id": "XPrsLs4Kg4Pa"
   },
   "source": [
    "## Pre-trained embeddings\n",
    "\n",
    "Loading pretrained word vectors"
   ]
  },
  {
   "cell_type": "markdown",
   "metadata": {
    "colab_type": "text",
    "id": "6p9eE5TWoH7p"
   },
   "source": [
    "### Fasttext"
   ]
  },
  {
   "cell_type": "code",
   "execution_count": 26,
   "metadata": {},
   "outputs": [
    {
     "name": "stdout",
     "output_type": "stream",
     "text": [
      "vocabulary loaded\n"
     ]
    }
   ],
   "source": [
    "vocab = baseline.load_vocabulary(os.path.join(DIR, 'vocab_embed.pkl'))\n",
    "#print(np.random.choice(vocab, 10))\n",
    "# for token in vocab:\n",
    "#     print(token)"
   ]
  },
  {
   "cell_type": "code",
   "execution_count": 27,
   "metadata": {},
   "outputs": [
    {
     "data": {
      "text/plain": [
       "'Total vocabulary: 20031'"
      ]
     },
     "execution_count": 27,
     "metadata": {},
     "output_type": "execute_result"
    }
   ],
   "source": [
    "\"Total vocabulary: {}\".format(len(vocab))"
   ]
  },
  {
   "cell_type": "code",
   "execution_count": 28,
   "metadata": {},
   "outputs": [],
   "source": [
    "def generating_embed(baseline, GLOVE_DIR, EMBEDDING_DIM):\n",
    "    embeddings_index = {}\n",
    "    embed_path = os.path.join(GLOVE_DIR, 'glove.42B.300d.txt')\n",
    "    \n",
    "    f2 = open(embed_path, 'rb')\n",
    "    num_lines = sum(1 for line in f2)\n",
    "    f2.close()\n",
    "    \n",
    "    f = open(embed_path, 'rb')\n",
    "    vocab = baseline.load_vocabulary(os.path.join(baseline.DIR, 'vocab_embed.pkl'))\n",
    "    vocab_size = len(vocab) \n",
    "\n",
    "    # Initialize uniform the vector considering the Tanh activation\n",
    "    embedding_matrix = np.random.uniform(-1.0, 1.0, (num_lines + vocab_size, EMBEDDING_DIM))\n",
    "    embedding_matrix[0, :] = np.zeros(EMBEDDING_DIM)\n",
    "\n",
    "    loop = tqdm(f)\n",
    "    loop.set_description(\"Loading Glove\")\n",
    "    i = 0\n",
    "    for line in loop:\n",
    "        tokens = line.split()\n",
    "        word = tokens[0]\n",
    "        embed = np.asarray(tokens[1:], dtype='float32')\n",
    "        embeddings_index[word] = embed\n",
    "        embedding_matrix[i] = embed\n",
    "        loop.update(1)\n",
    "    f.close()\n",
    "    loop.close()\n",
    "\n",
    "    print('Total %s word vectors in Glove 42B 300d.' % len(embeddings_index))\n",
    "\n",
    "    loop = tqdm(total=vocab_size)\n",
    "    loop.set_description('Loading embedding from dataset pretrained')\n",
    "    \n",
    "    for word, embed in vocab.items():\n",
    "        if word in embeddings_index:\n",
    "            embedding_matrix[i] = embeddings_index[word]\n",
    "        else:\n",
    "            embedding_matrix[i] = np.asarray(embed, dtype='float32')\n",
    "        loop.update(1)\n",
    "        i+=1\n",
    "    loop.close()\n",
    "    baseline.embedding_matrix = embedding_matrix"
   ]
  },
  {
   "cell_type": "code",
   "execution_count": 29,
   "metadata": {
    "colab": {
     "base_uri": "https://localhost:8080/",
     "height": 85
    },
    "colab_type": "code",
    "id": "QY-ef3OGoIiq",
    "outputId": "55f4c93c-98bb-4bac-92f2-76bd3b777605"
   },
   "outputs": [
    {
     "name": "stdout",
     "output_type": "stream",
     "text": [
      "vocabulary loaded\n"
     ]
    },
    {
     "data": {
      "application/vnd.jupyter.widget-view+json": {
       "model_id": "f30c630fe58f45929629d7692a2d17ff",
       "version_major": 2,
       "version_minor": 0
      },
      "text/plain": [
       "HBox(children=(IntProgress(value=1, bar_style='info', max=1), HTML(value='')))"
      ]
     },
     "metadata": {},
     "output_type": "display_data"
    },
    {
     "name": "stdout",
     "output_type": "stream",
     "text": [
      "\n",
      "Total 1917494 word vectors in Glove 42B 300d.\n"
     ]
    },
    {
     "data": {
      "application/vnd.jupyter.widget-view+json": {
       "model_id": "e3765359183840da857842b475d22bd3",
       "version_major": 2,
       "version_minor": 0
      },
      "text/plain": [
       "HBox(children=(IntProgress(value=0, max=20031), HTML(value='')))"
      ]
     },
     "metadata": {},
     "output_type": "display_data"
    },
    {
     "name": "stdout",
     "output_type": "stream",
     "text": [
      "\n",
      "CPU times: user 1min 34s, sys: 3.88 s, total: 1min 37s\n",
      "Wall time: 1min 36s\n"
     ]
    }
   ],
   "source": [
    "%%time\n",
    "\n",
    "generating_embed(baseline, GLOVE_DIR=GLOVE_DIR, EMBEDDING_DIM=EMBEDDING_DIM) # MAX_NB_WORDS=MAX_NB_WORDS"
   ]
  },
  {
   "cell_type": "markdown",
   "metadata": {},
   "source": [
    "## Experiment"
   ]
  },
  {
   "cell_type": "markdown",
   "metadata": {
    "colab_type": "text",
    "id": "Lev5Y7oaFQBd"
   },
   "source": [
    "## Propose\n",
    "\n",
    "https://github.com/tqtg/DuplicateBugFinder"
   ]
  },
  {
   "cell_type": "code",
   "execution_count": 30,
   "metadata": {},
   "outputs": [],
   "source": [
    "from keras.initializers import RandomUniform, RandomNormal, Ones"
   ]
  },
  {
   "cell_type": "markdown",
   "metadata": {},
   "source": [
    "### Embedding layer"
   ]
  },
  {
   "cell_type": "code",
   "execution_count": 31,
   "metadata": {},
   "outputs": [],
   "source": [
    "from keras.constraints import MaxNorm\n",
    "from keras.initializers import TruncatedNormal, RandomUniform\n",
    "\n",
    "# Is missing the padding_idx used in pytorch\n",
    "# https://pytorch.org/docs/stable/_modules/torch/nn/modules/sparse.html\n",
    "# https://stackoverflow.com/questions/54824768/rnn-model-gru-of-word2vec-to-regression-not-learning\n",
    "def embedding_layer(embeddings, num_words, embedding_dim, max_sequence_length, trainable, name):\n",
    "    embedding_layer = Embedding(num_words,\n",
    "                                  embedding_dim,\n",
    "                                  name='embedding_layer_{}'.format(name),\n",
    "                                  weights=[embeddings],\n",
    "                                  #input_length=max_sequence_length,\n",
    "                                  input_length=None,\n",
    "                                  trainable=trainable)\n",
    "    return embedding_layer"
   ]
  },
  {
   "cell_type": "markdown",
   "metadata": {
    "colab_type": "text",
    "id": "TEedCg5AaTf2"
   },
   "source": [
    "### DWEN model"
   ]
  },
  {
   "cell_type": "code",
   "execution_count": 32,
   "metadata": {},
   "outputs": [],
   "source": [
    "from keras.layers import concatenate, Add, Lambda, merge, Average, Maximum, Subtract, \\\n",
    "    Average, GlobalAveragePooling1D, BatchNormalization, Activation\n",
    "from keras.optimizers import Adam, Nadam\n",
    "import keras.backend as K\n",
    "\n",
    "def dwen_feature(title_feature_model, desc_feature_model, \\\n",
    "                  sequence_length_t, sequence_length_d, name):\n",
    "    bug_t = Input(shape = (sequence_length_t, ), name = 'title_{}'.format(name))\n",
    "    bug_d = Input(shape = (sequence_length_d, ), name = 'desc_{}'.format(name))\n",
    "    \n",
    "    # Embedding feature\n",
    "    bug_t_feat = title_feature_model(bug_t)\n",
    "    bug_d_feat = desc_feature_model(bug_d)\n",
    "    \n",
    "    bug_t_feat = GlobalAveragePooling1D()(bug_t_feat)\n",
    "    bug_d_feat = GlobalAveragePooling1D()(bug_d_feat)\n",
    "    \n",
    "    #bug_feature_output = Add(name = 'merge_features_{}'.format(name))([bug_i_feat, bug_t_feat, bug_d_feat])\n",
    "    bug_feature_output = Average(name = 'merge_features_{}'.format(name))([bug_t_feat, bug_d_feat])\n",
    "    \n",
    "    bug_feature_model = Model(inputs=[bug_t, bug_d], outputs=[bug_feature_output], name = 'merge_features_{}'.format(name))\n",
    "    \n",
    "    return bug_feature_model\n",
    "\n",
    "def dwen_model(bug_feature_output_a, bug_feature_output_b, name):\n",
    "    \n",
    "    inputs = np.concatenate([bug_feature_output_a.input, bug_feature_output_b.input], -1).tolist()\n",
    "    \n",
    "    bug_feature_output_a = bug_feature_output_a.output\n",
    "    bug_feature_output_b = bug_feature_output_b.output\n",
    "    \n",
    "    # 2D concatenate feature\n",
    "    bug_feature_output = concatenate([bug_feature_output_a, bug_feature_output_b])\n",
    "    \n",
    "    hidden_layers = 2\n",
    "    \n",
    "    # Deep Hidden MLPs\n",
    "    for _ in range(hidden_layers):\n",
    "        number_of_units = K.int_shape(bug_feature_output)[1]\n",
    "        bug_feature_output = Dense(number_of_units // 2)(bug_feature_output)\n",
    "#         bug_feature_output = BatchNormalization()(bug_feature_output)\n",
    "        bug_feature_output = Activation('relu')(bug_feature_output)\n",
    "        #bug_feature_output = Dropout(.5)(bug_feature_output)\n",
    "    \n",
    "     # Sigmoid\n",
    "    output = Dense(1, activation='sigmoid')(bug_feature_output)\n",
    "\n",
    "    similarity_model = Model(inputs=inputs, outputs=[output], name = 'dwen_output')\n",
    "\n",
    "    #optimizer = Nadam(lr=1e-3, beta_1=0.9, beta_2=0.999, epsilon=K.epsilon(), schedule_decay=0.01)\n",
    "    optimizer = Adam(lr=1e-3, beta_1=0.9, beta_2=0.999, epsilon=None, decay=0.0, amsgrad=True)\n",
    "\n",
    "    # setup the optimization process \n",
    "    similarity_model.compile(optimizer='adam', loss='binary_crossentropy', metrics=['acc'])\n",
    "    \n",
    "    return similarity_model"
   ]
  },
  {
   "cell_type": "code",
   "execution_count": 33,
   "metadata": {},
   "outputs": [],
   "source": [
    "import _pickle as pickle\n",
    "def save_loss(result):\n",
    "    with open(os.path.join(DIR,'{}_log.pkl'.format(METHOD)), 'wb') as f:\n",
    "        pickle.dump(result, f)\n",
    "    print(\"=> result saved!\")"
   ]
  },
  {
   "cell_type": "code",
   "execution_count": 34,
   "metadata": {},
   "outputs": [],
   "source": [
    "# Domain to use\n",
    "limit_train = int(epochs * freeze_train) # 10% de 1000 , 100 epocas\n",
    "METHOD = 'baseline_dwen_{}'.format(limit_train)\n",
    "SAVE_PATH = '{}_preprocessing_{}_feature@number_of_epochs@epochs_64batch({})'.format(PREPROCESSING, METHOD, DOMAIN)\n",
    "SAVE_PATH_FEATURE = '{}_preprocessing_{}_feature_@number_of_epochs@epochs_64batch({})'.format(PREPROCESSING, METHOD, DOMAIN)"
   ]
  },
  {
   "cell_type": "code",
   "execution_count": 35,
   "metadata": {
    "scrolled": true
   },
   "outputs": [
    {
     "name": "stdout",
     "output_type": "stream",
     "text": [
      "WARNING:tensorflow:From /usr/local/lib/python3.5/dist-packages/keras/backend/tensorflow_backend.py:95: The name tf.reset_default_graph is deprecated. Please use tf.compat.v1.reset_default_graph instead.\n",
      "\n",
      "WARNING:tensorflow:From /usr/local/lib/python3.5/dist-packages/keras/backend/tensorflow_backend.py:98: The name tf.placeholder_with_default is deprecated. Please use tf.compat.v1.placeholder_with_default instead.\n",
      "\n",
      "WARNING:tensorflow:From /usr/local/lib/python3.5/dist-packages/keras/backend/tensorflow_backend.py:102: The name tf.get_default_graph is deprecated. Please use tf.compat.v1.get_default_graph instead.\n",
      "\n",
      "WARNING:tensorflow:From /usr/local/lib/python3.5/dist-packages/keras/backend/tensorflow_backend.py:517: The name tf.placeholder is deprecated. Please use tf.compat.v1.placeholder instead.\n",
      "\n",
      "WARNING:tensorflow:From /usr/local/lib/python3.5/dist-packages/keras/backend/tensorflow_backend.py:4138: The name tf.random_uniform is deprecated. Please use tf.random.uniform instead.\n",
      "\n",
      "WARNING:tensorflow:From /usr/local/lib/python3.5/dist-packages/keras/backend/tensorflow_backend.py:174: The name tf.get_default_session is deprecated. Please use tf.compat.v1.get_default_session instead.\n",
      "\n",
      "WARNING:tensorflow:From /usr/local/lib/python3.5/dist-packages/keras/backend/tensorflow_backend.py:181: The name tf.ConfigProto is deprecated. Please use tf.compat.v1.ConfigProto instead.\n",
      "\n",
      "WARNING:tensorflow:From /usr/local/lib/python3.5/dist-packages/keras/backend/tensorflow_backend.py:186: The name tf.Session is deprecated. Please use tf.compat.v1.Session instead.\n",
      "\n",
      "WARNING:tensorflow:From /usr/local/lib/python3.5/dist-packages/keras/backend/tensorflow_backend.py:190: The name tf.global_variables is deprecated. Please use tf.compat.v1.global_variables instead.\n",
      "\n",
      "WARNING:tensorflow:From /usr/local/lib/python3.5/dist-packages/keras/backend/tensorflow_backend.py:199: The name tf.is_variable_initialized is deprecated. Please use tf.compat.v1.is_variable_initialized instead.\n",
      "\n",
      "WARNING:tensorflow:From /usr/local/lib/python3.5/dist-packages/keras/backend/tensorflow_backend.py:206: The name tf.variables_initializer is deprecated. Please use tf.compat.v1.variables_initializer instead.\n",
      "\n",
      "WARNING:tensorflow:From /usr/local/lib/python3.5/dist-packages/keras/optimizers.py:790: The name tf.train.Optimizer is deprecated. Please use tf.compat.v1.train.Optimizer instead.\n",
      "\n",
      "WARNING:tensorflow:From /usr/local/lib/python3.5/dist-packages/keras/backend/tensorflow_backend.py:3376: The name tf.log is deprecated. Please use tf.math.log instead.\n",
      "\n",
      "WARNING:tensorflow:From /usr/local/lib/python3.5/dist-packages/tensorflow_core/python/ops/nn_impl.py:183: where (from tensorflow.python.ops.array_ops) is deprecated and will be removed in a future version.\n",
      "Instructions for updating:\n",
      "Use tf.where in 2.0, which has the same broadcast rule as np.where\n",
      "__________________________________________________________________________________________________\n",
      "Layer (type)                    Output Shape         Param #     Connected to                     \n",
      "==================================================================================================\n",
      "title_dwen_a (InputLayer)       (None, 20)           0                                            \n",
      "__________________________________________________________________________________________________\n",
      "desc_dwen_a (InputLayer)        (None, 20)           0                                            \n",
      "__________________________________________________________________________________________________\n",
      "title_dwen_b (InputLayer)       (None, 20)           0                                            \n",
      "__________________________________________________________________________________________________\n",
      "desc_dwen_b (InputLayer)        (None, 20)           0                                            \n",
      "__________________________________________________________________________________________________\n",
      "embedding_layer_title (Embeddin (None, 20, 300)      581257500   title_dwen_a[0][0]               \n",
      "                                                                 title_dwen_b[0][0]               \n",
      "__________________________________________________________________________________________________\n",
      "embedding_layer_desc (Embedding (None, 20, 300)      581257500   desc_dwen_a[0][0]                \n",
      "                                                                 desc_dwen_b[0][0]                \n",
      "__________________________________________________________________________________________________\n",
      "global_average_pooling1d_1 (Glo (None, 300)          0           embedding_layer_title[0][0]      \n",
      "__________________________________________________________________________________________________\n",
      "global_average_pooling1d_2 (Glo (None, 300)          0           embedding_layer_desc[0][0]       \n",
      "__________________________________________________________________________________________________\n",
      "global_average_pooling1d_3 (Glo (None, 300)          0           embedding_layer_title[1][0]      \n",
      "__________________________________________________________________________________________________\n",
      "global_average_pooling1d_4 (Glo (None, 300)          0           embedding_layer_desc[1][0]       \n",
      "__________________________________________________________________________________________________\n",
      "merge_features_dwen_a (Average) (None, 300)          0           global_average_pooling1d_1[0][0] \n",
      "                                                                 global_average_pooling1d_2[0][0] \n",
      "__________________________________________________________________________________________________\n",
      "merge_features_dwen_b (Average) (None, 300)          0           global_average_pooling1d_3[0][0] \n",
      "                                                                 global_average_pooling1d_4[0][0] \n",
      "__________________________________________________________________________________________________\n",
      "concatenate_1 (Concatenate)     (None, 600)          0           merge_features_dwen_a[0][0]      \n",
      "                                                                 merge_features_dwen_b[0][0]      \n",
      "__________________________________________________________________________________________________\n",
      "dense_1 (Dense)                 (None, 300)          180300      concatenate_1[0][0]              \n",
      "__________________________________________________________________________________________________\n",
      "activation_1 (Activation)       (None, 300)          0           dense_1[0][0]                    \n",
      "__________________________________________________________________________________________________\n",
      "dense_2 (Dense)                 (None, 150)          45150       activation_1[0][0]               \n",
      "__________________________________________________________________________________________________\n",
      "activation_2 (Activation)       (None, 150)          0           dense_2[0][0]                    \n",
      "__________________________________________________________________________________________________\n",
      "dense_3 (Dense)                 (None, 1)            151         activation_2[0][0]               \n",
      "==================================================================================================\n",
      "Total params: 1,162,740,601\n",
      "Trainable params: 225,601\n",
      "Non-trainable params: 1,162,515,000\n",
      "__________________________________________________________________________________________________\n",
      "Total of  100\n",
      "WARNING:tensorflow:From /usr/local/lib/python3.5/dist-packages/keras/backend/tensorflow_backend.py:986: The name tf.assign_add is deprecated. Please use tf.compat.v1.assign_add instead.\n",
      "\n",
      "WARNING:tensorflow:From /usr/local/lib/python3.5/dist-packages/keras/backend/tensorflow_backend.py:973: The name tf.assign is deprecated. Please use tf.compat.v1.assign instead.\n",
      "\n",
      "Epoch: 1 Loss: 0.69, Loss_test: 0.69, acc: 0.52, acc_test: 0.54\n",
      "Epoch: 2 Loss: 0.69, Loss_test: 0.69, acc: 0.54, acc_test: 0.52\n",
      "Epoch: 3 Loss: 0.69, Loss_test: 0.69, acc: 0.56, acc_test: 0.50\n",
      "Epoch: 4 Loss: 0.69, Loss_test: 0.70, acc: 0.58, acc_test: 0.49\n",
      "Epoch: 5 Loss: 0.69, Loss_test: 0.70, acc: 0.55, acc_test: 0.50\n",
      "Epoch: 6 Loss: 0.68, Loss_test: 0.70, acc: 0.61, acc_test: 0.50\n",
      "Epoch: 7 Loss: 0.68, Loss_test: 0.70, acc: 0.60, acc_test: 0.51\n"
     ]
    },
    {
     "name": "stdout",
     "output_type": "stream",
     "text": [
      "Epoch: 8 Loss: 0.68, Loss_test: 0.70, acc: 0.62, acc_test: 0.51\n",
      "Epoch: 9 Loss: 0.67, Loss_test: 0.70, acc: 0.70, acc_test: 0.50\n",
      "=> result saved!\n",
      "Epoch: 10 Loss: 0.68, Loss_test: 0.70, acc: 0.56, acc_test: 0.50\n",
      "Epoch: 11 Loss: 0.68, Loss_test: 0.70, acc: 0.59, acc_test: 0.50\n",
      "Epoch: 12 Loss: 0.67, Loss_test: 0.70, acc: 0.60, acc_test: 0.50\n",
      "Epoch: 13 Loss: 0.67, Loss_test: 0.71, acc: 0.61, acc_test: 0.50\n",
      "Epoch: 14 Loss: 0.67, Loss_test: 0.71, acc: 0.63, acc_test: 0.51\n",
      "Epoch: 15 Loss: 0.67, Loss_test: 0.72, acc: 0.65, acc_test: 0.50\n",
      "Epoch: 16 Loss: 0.65, Loss_test: 0.73, acc: 0.65, acc_test: 0.50\n",
      "Epoch: 17 Loss: 0.66, Loss_test: 0.73, acc: 0.62, acc_test: 0.51\n",
      "Epoch: 18 Loss: 0.64, Loss_test: 0.73, acc: 0.66, acc_test: 0.51\n",
      "Epoch: 19 Loss: 0.66, Loss_test: 0.72, acc: 0.68, acc_test: 0.51\n",
      "=> result saved!\n",
      "Epoch: 20 Loss: 0.64, Loss_test: 0.72, acc: 0.66, acc_test: 0.50\n",
      "Epoch: 21 Loss: 0.63, Loss_test: 0.72, acc: 0.67, acc_test: 0.51\n",
      "Epoch: 22 Loss: 0.63, Loss_test: 0.72, acc: 0.69, acc_test: 0.51\n",
      "Epoch: 23 Loss: 0.64, Loss_test: 0.73, acc: 0.68, acc_test: 0.52\n",
      "Epoch: 24 Loss: 0.64, Loss_test: 0.72, acc: 0.62, acc_test: 0.52\n",
      "Epoch: 25 Loss: 0.61, Loss_test: 0.72, acc: 0.77, acc_test: 0.52\n",
      "Epoch: 26 Loss: 0.64, Loss_test: 0.70, acc: 0.66, acc_test: 0.54\n",
      "Epoch: 27 Loss: 0.58, Loss_test: 0.71, acc: 0.77, acc_test: 0.54\n",
      "Epoch: 28 Loss: 0.64, Loss_test: 0.73, acc: 0.61, acc_test: 0.52\n",
      "Epoch: 29 Loss: 0.64, Loss_test: 0.71, acc: 0.61, acc_test: 0.54\n",
      "=> result saved!\n",
      "Epoch: 30 Loss: 0.63, Loss_test: 0.67, acc: 0.69, acc_test: 0.52\n",
      "Epoch: 31 Loss: 0.58, Loss_test: 0.67, acc: 0.70, acc_test: 0.59\n",
      "Epoch: 32 Loss: 0.62, Loss_test: 0.68, acc: 0.67, acc_test: 0.58\n",
      "Epoch: 33 Loss: 0.62, Loss_test: 0.66, acc: 0.67, acc_test: 0.61\n",
      "Epoch: 34 Loss: 0.60, Loss_test: 0.66, acc: 0.67, acc_test: 0.57\n",
      "Epoch: 35 Loss: 0.58, Loss_test: 0.67, acc: 0.69, acc_test: 0.55\n",
      "Epoch: 36 Loss: 0.60, Loss_test: 0.66, acc: 0.67, acc_test: 0.61\n",
      "Epoch: 37 Loss: 0.60, Loss_test: 0.67, acc: 0.67, acc_test: 0.61\n",
      "Epoch: 38 Loss: 0.56, Loss_test: 0.68, acc: 0.73, acc_test: 0.54\n",
      "Epoch: 39 Loss: 0.61, Loss_test: 0.70, acc: 0.66, acc_test: 0.55\n",
      "=> result saved!\n",
      "Epoch: 40 Loss: 0.62, Loss_test: 0.71, acc: 0.70, acc_test: 0.57\n",
      "Epoch: 41 Loss: 0.62, Loss_test: 0.70, acc: 0.66, acc_test: 0.54\n",
      "Epoch: 42 Loss: 0.54, Loss_test: 0.69, acc: 0.73, acc_test: 0.52\n",
      "Epoch: 43 Loss: 0.60, Loss_test: 0.67, acc: 0.70, acc_test: 0.55\n",
      "Epoch: 44 Loss: 0.60, Loss_test: 0.67, acc: 0.65, acc_test: 0.59\n",
      "Epoch: 45 Loss: 0.57, Loss_test: 0.67, acc: 0.71, acc_test: 0.56\n",
      "Epoch: 46 Loss: 0.53, Loss_test: 0.69, acc: 0.70, acc_test: 0.51\n",
      "Epoch: 47 Loss: 0.63, Loss_test: 0.69, acc: 0.64, acc_test: 0.52\n",
      "Epoch: 48 Loss: 0.60, Loss_test: 0.69, acc: 0.67, acc_test: 0.52\n",
      "Epoch: 49 Loss: 0.50, Loss_test: 0.69, acc: 0.79, acc_test: 0.51\n",
      "=> result saved!\n",
      "Epoch: 50 Loss: 0.56, Loss_test: 0.69, acc: 0.71, acc_test: 0.53\n",
      "Epoch: 51 Loss: 0.60, Loss_test: 0.69, acc: 0.65, acc_test: 0.53\n",
      "Epoch: 52 Loss: 0.54, Loss_test: 0.69, acc: 0.75, acc_test: 0.53\n",
      "Epoch: 53 Loss: 0.58, Loss_test: 0.67, acc: 0.64, acc_test: 0.64\n",
      "Epoch: 54 Loss: 0.60, Loss_test: 0.68, acc: 0.70, acc_test: 0.62\n",
      "Epoch: 55 Loss: 0.48, Loss_test: 0.68, acc: 0.78, acc_test: 0.63\n",
      "Epoch: 56 Loss: 0.53, Loss_test: 0.69, acc: 0.75, acc_test: 0.56\n",
      "Epoch: 57 Loss: 0.59, Loss_test: 0.73, acc: 0.66, acc_test: 0.55\n",
      "Epoch: 58 Loss: 0.61, Loss_test: 0.73, acc: 0.64, acc_test: 0.56\n",
      "Epoch: 59 Loss: 0.53, Loss_test: 0.73, acc: 0.73, acc_test: 0.57\n",
      "=> result saved!\n",
      "Epoch: 60 Loss: 0.48, Loss_test: 0.75, acc: 0.79, acc_test: 0.56\n",
      "Epoch: 61 Loss: 0.55, Loss_test: 0.76, acc: 0.70, acc_test: 0.55\n",
      "Epoch: 62 Loss: 0.53, Loss_test: 0.76, acc: 0.75, acc_test: 0.55\n",
      "Epoch: 63 Loss: 0.51, Loss_test: 0.77, acc: 0.73, acc_test: 0.55\n",
      "Epoch: 64 Loss: 0.58, Loss_test: 0.84, acc: 0.71, acc_test: 0.55\n",
      "Epoch: 65 Loss: 0.58, Loss_test: 0.87, acc: 0.69, acc_test: 0.55\n",
      "Epoch: 66 Loss: 0.53, Loss_test: 0.82, acc: 0.72, acc_test: 0.54\n",
      "Epoch: 67 Loss: 0.53, Loss_test: 0.76, acc: 0.74, acc_test: 0.55\n",
      "Epoch: 68 Loss: 0.61, Loss_test: 0.72, acc: 0.65, acc_test: 0.53\n",
      "Epoch: 69 Loss: 0.51, Loss_test: 0.71, acc: 0.77, acc_test: 0.54\n",
      "=> result saved!\n",
      "Epoch: 70 Loss: 0.56, Loss_test: 0.69, acc: 0.66, acc_test: 0.57\n",
      "Epoch: 71 Loss: 0.50, Loss_test: 0.69, acc: 0.72, acc_test: 0.59\n",
      "Epoch: 72 Loss: 0.55, Loss_test: 0.70, acc: 0.70, acc_test: 0.56\n",
      "Epoch: 73 Loss: 0.56, Loss_test: 0.71, acc: 0.75, acc_test: 0.55\n",
      "Epoch: 74 Loss: 0.53, Loss_test: 0.74, acc: 0.73, acc_test: 0.54\n",
      "Epoch: 75 Loss: 0.55, Loss_test: 0.91, acc: 0.77, acc_test: 0.54\n",
      "Epoch: 76 Loss: 0.55, Loss_test: 0.98, acc: 0.71, acc_test: 0.54\n",
      "Epoch: 77 Loss: 0.56, Loss_test: 0.92, acc: 0.71, acc_test: 0.53\n",
      "Epoch: 78 Loss: 0.53, Loss_test: 0.86, acc: 0.70, acc_test: 0.54\n",
      "Epoch: 79 Loss: 0.53, Loss_test: 0.82, acc: 0.77, acc_test: 0.54\n",
      "=> result saved!\n",
      "Epoch: 80 Loss: 0.53, Loss_test: 0.84, acc: 0.74, acc_test: 0.53\n",
      "Epoch: 81 Loss: 0.50, Loss_test: 0.81, acc: 0.77, acc_test: 0.54\n",
      "Epoch: 82 Loss: 0.63, Loss_test: 0.70, acc: 0.67, acc_test: 0.54\n",
      "Epoch: 83 Loss: 0.50, Loss_test: 0.67, acc: 0.74, acc_test: 0.62\n",
      "Epoch: 84 Loss: 0.64, Loss_test: 0.67, acc: 0.59, acc_test: 0.63\n",
      "Epoch: 85 Loss: 0.59, Loss_test: 0.68, acc: 0.67, acc_test: 0.63\n",
      "Epoch: 86 Loss: 0.60, Loss_test: 0.67, acc: 0.63, acc_test: 0.64\n",
      "Epoch: 87 Loss: 0.60, Loss_test: 0.67, acc: 0.64, acc_test: 0.64\n",
      "Epoch: 88 Loss: 0.58, Loss_test: 0.67, acc: 0.67, acc_test: 0.62\n",
      "Epoch: 89 Loss: 0.64, Loss_test: 0.68, acc: 0.62, acc_test: 0.61\n",
      "=> result saved!\n",
      "Epoch: 90 Loss: 0.55, Loss_test: 0.68, acc: 0.70, acc_test: 0.59\n",
      "Epoch: 91 Loss: 0.62, Loss_test: 0.72, acc: 0.66, acc_test: 0.59\n",
      "Epoch: 92 Loss: 0.59, Loss_test: 0.82, acc: 0.65, acc_test: 0.56\n",
      "Epoch: 93 Loss: 0.56, Loss_test: 0.84, acc: 0.72, acc_test: 0.54\n",
      "Epoch: 94 Loss: 0.62, Loss_test: 0.78, acc: 0.64, acc_test: 0.56\n",
      "Epoch: 95 Loss: 0.58, Loss_test: 0.72, acc: 0.72, acc_test: 0.54\n",
      "Epoch: 96 Loss: 0.58, Loss_test: 0.71, acc: 0.70, acc_test: 0.54\n",
      "Epoch: 97 Loss: 0.52, Loss_test: 0.70, acc: 0.75, acc_test: 0.56\n",
      "Epoch: 98 Loss: 0.47, Loss_test: 0.68, acc: 0.78, acc_test: 0.58\n",
      "Epoch: 99 Loss: 0.56, Loss_test: 0.66, acc: 0.69, acc_test: 0.62\n",
      "=> result saved!\n",
      "Epoch: 100 Loss: 0.57, Loss_test: 0.66, acc: 0.71, acc_tets: 0.62, recall@25: 0.14\n",
      "Best_epoch=98, Best_loss=0.47, Recall@25=0.14\n",
      "CPU times: user 1min 42s, sys: 3.87 s, total: 1min 46s\n",
      "Wall time: 1min 28s\n"
     ]
    }
   ],
   "source": [
    "%%time\n",
    "\n",
    "# Inspired on https://'pastebin.com/TaGFdcBA\n",
    "# TODO: https://stackoverflow.com/questions/49941903/keras-compute-cosine-distance-between-two-flattened-outputs\n",
    "keras.backend.clear_session()\n",
    "\n",
    "# Clear GPU memory\n",
    "# from numba import cuda\n",
    "# cuda.select_device(0)\n",
    "# cuda.close()\n",
    "\n",
    "# Embeddings\n",
    "desc_embedding_layer = embedding_layer(embeddings=baseline.embedding_matrix, \n",
    "                              num_words=len(baseline.embedding_matrix), \n",
    "                              embedding_dim=EMBEDDING_DIM, \n",
    "                              max_sequence_length=MAX_SEQUENCE_LENGTH_D, \n",
    "                              trainable=False, name='desc')\n",
    "title_embedding_layer = embedding_layer(embeddings=baseline.embedding_matrix, \n",
    "                              num_words=len(baseline.embedding_matrix), \n",
    "                              embedding_dim=EMBEDDING_DIM, \n",
    "                              max_sequence_length=MAX_SEQUENCE_LENGTH_T, \n",
    "                              trainable=False, name='title')\n",
    "\n",
    "# Similarity model\n",
    "bug_feature_output_a = dwen_feature(title_embedding_layer, desc_embedding_layer, \n",
    "                                    MAX_SEQUENCE_LENGTH_T, MAX_SEQUENCE_LENGTH_D, 'dwen_a')\n",
    "bug_feature_output_b = dwen_feature(title_embedding_layer, desc_embedding_layer, \n",
    "                                    MAX_SEQUENCE_LENGTH_T, MAX_SEQUENCE_LENGTH_D, 'dwen_b')\n",
    "similarity_model = dwen_model(bug_feature_output_a, bug_feature_output_b, 'dwen')\n",
    "\n",
    "# cnn_feature_model.summary()\n",
    "# lstm_feature_model.summary()\n",
    "similarity_model.summary()\n",
    "\n",
    "\n",
    "'''\n",
    "    Experiment\n",
    "'''\n",
    "result = { 'train' : [], 'test' : [] }\n",
    "print(\"Total of \", limit_train)\n",
    "for epoch in range(limit_train):\n",
    "    batch_triplet_train, \\\n",
    "        train_input_sample, train_input_pos, train_input_neg, \\\n",
    "            train_sim = experiment.batch_iterator(None, baseline.train_data, baseline.dup_sets_train, \n",
    "                                                  bug_train_ids, batch_size, 1, issues_by_buckets, TRIPLET_HARD=False)\n",
    "    \n",
    "    num_batch = train_input_sample['title'].shape[0]\n",
    "    pos = np.full((1, num_batch), 1)\n",
    "    neg = np.full((1, num_batch), 0)\n",
    "    train_sim = np.concatenate([pos, neg], -1)[0]\n",
    "    \n",
    "    title_sample_a = np.concatenate([train_input_sample['title'], train_input_sample['title']], 0)\n",
    "    title_sample_b = np.concatenate([train_input_pos['title'], train_input_neg['title']], 0)\n",
    "    desc_sample_a = np.concatenate([train_input_sample['description'], train_input_sample['description']], 0)\n",
    "    desc_sample_b = np.concatenate([train_input_pos['description'], train_input_neg['description']], 0)\n",
    "    train_batch = [title_sample_a, desc_sample_a, title_sample_b, desc_sample_b]\n",
    "    \n",
    "    \n",
    "    h = similarity_model.train_on_batch(x=train_batch, y=train_sim)\n",
    "    h_validation = similarity_model.test_on_batch(x=validation_sample, y=valid_sim)\n",
    "    \n",
    "    # save results\n",
    "    result['train'].append(h)\n",
    "    result['test'].append(h_validation)\n",
    "    \n",
    "    if( (epoch+1) % 10 == 0 or (epoch+1 == limit_train) ):\n",
    "        save_loss(result)\n",
    "    \n",
    "    if (epoch+1 == limit_train): #(epoch > 1 and epoch % 10 == 0) or (epoch+1 == epochs):\n",
    "        recall, exported_rank, debug = experiment.evaluate_validation_test(retrieval, verbose, bug_feature_output_a, issues_by_buckets, \n",
    "                                                        bug_train_ids, 'dwen')\n",
    "        print(\"Epoch: {} Loss: {:.2f}, Loss_test: {:.2f}, acc: {:.2f}, acc_tets: {:.2f}, recall@25: {:.2f}\".format(epoch+1, h[0], h_validation[0],  h[1], h_validation[1], recall))\n",
    "    else:\n",
    "        print(\"Epoch: {} Loss: {:.2f}, Loss_test: {:.2f}, acc: {:.2f}, acc_test: {:.2f}\".format(epoch+1, h[0], h_validation[0], h[1], h_validation[1]))\n",
    "    \n",
    "    loss = h[0]\n",
    "    \n",
    "    if loss < best_loss:\n",
    "        best_loss = loss\n",
    "        best_epoch = epoch+1\n",
    "\n",
    "#experiment.save_model(similarity_model, SAVE_PATH.replace('@number_of_epochs@', str(epochs)))\n",
    "#experiment.save_model(bug_feature_output_a, SAVE_PATH_FEATURE.replace('@number_of_epochs@', str(epochs)), verbose=1)\n",
    "print('Best_epoch={}, Best_loss={:.2f}, Recall@25={:.2f}'.format(best_epoch, best_loss, recall))"
   ]
  },
  {
   "cell_type": "code",
   "execution_count": 36,
   "metadata": {},
   "outputs": [
    {
     "data": {
      "text/plain": [
       "'data/processed/openoffice/bert/exported_rank_baseline_dwen_100.txt'"
      ]
     },
     "execution_count": 36,
     "metadata": {},
     "output_type": "execute_result"
    }
   ],
   "source": [
    "EXPORT_RANK_PATH = os.path.join(DIR, 'exported_rank_{}.txt'.format(METHOD))\n",
    "EXPORT_RANK_PATH"
   ]
  },
  {
   "cell_type": "code",
   "execution_count": 37,
   "metadata": {},
   "outputs": [],
   "source": [
    "with open(EXPORT_RANK_PATH, 'w') as file_out:\n",
    "    for row in exported_rank:\n",
    "        file_out.write(row + \"\\n\")"
   ]
  },
  {
   "cell_type": "code",
   "execution_count": 38,
   "metadata": {},
   "outputs": [
    {
     "name": "stdout",
     "output_type": "stream",
     "text": [
      "Saved model 'modelos/model_bert_preprocessing_baseline_dwen_100_feature_100epochs_64batch(openoffice).h5' to disk\n"
     ]
    }
   ],
   "source": [
    "experiment.save_model(similarity_model, SAVE_PATH.replace('@number_of_epochs@', str(limit_train)))\n",
    "experiment.save_model(bug_feature_output_a, SAVE_PATH_FEATURE.replace('@number_of_epochs@', str(limit_train)), verbose=1)"
   ]
  },
  {
   "cell_type": "code",
   "execution_count": 39,
   "metadata": {},
   "outputs": [
    {
     "data": {
      "text/plain": [
       "(100, 100)"
      ]
     },
     "execution_count": 39,
     "metadata": {},
     "output_type": "execute_result"
    }
   ],
   "source": [
    "len(result['train']), len(result['test'])"
   ]
  },
  {
   "cell_type": "code",
   "execution_count": 40,
   "metadata": {},
   "outputs": [
    {
     "name": "stdout",
     "output_type": "stream",
     "text": [
      "__________________________________________________________________________________________________\n",
      "Layer (type)                    Output Shape         Param #     Connected to                     \n",
      "==================================================================================================\n",
      "title_dwen_a (InputLayer)       (None, 20)           0                                            \n",
      "__________________________________________________________________________________________________\n",
      "desc_dwen_a (InputLayer)        (None, 20)           0                                            \n",
      "__________________________________________________________________________________________________\n",
      "title_dwen_b (InputLayer)       (None, 20)           0                                            \n",
      "__________________________________________________________________________________________________\n",
      "desc_dwen_b (InputLayer)        (None, 20)           0                                            \n",
      "__________________________________________________________________________________________________\n",
      "embedding_layer_title (Embeddin (None, 20, 300)      581257500   title_dwen_a[0][0]               \n",
      "                                                                 title_dwen_b[0][0]               \n",
      "__________________________________________________________________________________________________\n",
      "embedding_layer_desc (Embedding (None, 20, 300)      581257500   desc_dwen_a[0][0]                \n",
      "                                                                 desc_dwen_b[0][0]                \n",
      "__________________________________________________________________________________________________\n",
      "global_average_pooling1d_1 (Glo (None, 300)          0           embedding_layer_title[0][0]      \n",
      "__________________________________________________________________________________________________\n",
      "global_average_pooling1d_2 (Glo (None, 300)          0           embedding_layer_desc[0][0]       \n",
      "__________________________________________________________________________________________________\n",
      "global_average_pooling1d_3 (Glo (None, 300)          0           embedding_layer_title[1][0]      \n",
      "__________________________________________________________________________________________________\n",
      "global_average_pooling1d_4 (Glo (None, 300)          0           embedding_layer_desc[1][0]       \n",
      "__________________________________________________________________________________________________\n",
      "merge_features_dwen_a (Average) (None, 300)          0           global_average_pooling1d_1[0][0] \n",
      "                                                                 global_average_pooling1d_2[0][0] \n",
      "__________________________________________________________________________________________________\n",
      "merge_features_dwen_b (Average) (None, 300)          0           global_average_pooling1d_3[0][0] \n",
      "                                                                 global_average_pooling1d_4[0][0] \n",
      "__________________________________________________________________________________________________\n",
      "concatenate_1 (Concatenate)     (None, 600)          0           merge_features_dwen_a[0][0]      \n",
      "                                                                 merge_features_dwen_b[0][0]      \n",
      "__________________________________________________________________________________________________\n",
      "dense_1 (Dense)                 (None, 300)          180300      concatenate_1[0][0]              \n",
      "__________________________________________________________________________________________________\n",
      "activation_1 (Activation)       (None, 300)          0           dense_1[0][0]                    \n",
      "__________________________________________________________________________________________________\n",
      "dense_2 (Dense)                 (None, 150)          45150       activation_1[0][0]               \n",
      "__________________________________________________________________________________________________\n",
      "activation_2 (Activation)       (None, 150)          0           dense_2[0][0]                    \n",
      "__________________________________________________________________________________________________\n",
      "dense_3 (Dense)                 (None, 1)            151         activation_2[0][0]               \n",
      "==================================================================================================\n",
      "Total params: 1,162,740,601\n",
      "Trainable params: 225,601\n",
      "Non-trainable params: 1,162,515,000\n",
      "__________________________________________________________________________________________________\n"
     ]
    }
   ],
   "source": [
    "model = similarity_model.get_layer('dense_3')\n",
    "output = model.output\n",
    "inputs = similarity_model.inputs\n",
    "model = Model(inputs = inputs, outputs = output, name = 'Similarity_Model')\n",
    "\n",
    "# setup the optimization process \n",
    "model.compile(optimizer='adam', loss='binary_crossentropy', metrics=['acc'])\n",
    "model.summary()"
   ]
  },
  {
   "cell_type": "code",
   "execution_count": 41,
   "metadata": {},
   "outputs": [],
   "source": [
    "# Domain to use\n",
    "METHOD = 'baseline_dwen_{}'.format(epochs)\n",
    "SAVE_PATH = '{}_preprocessing_{}_feature@number_of_epochs@epochs_64batch({})'.format(PREPROCESSING, METHOD, DOMAIN)\n",
    "SAVE_PATH_FEATURE = '{}_preprocessing_{}_feature_@number_of_epochs@epochs_64batch({})'.format(PREPROCESSING, METHOD, DOMAIN)"
   ]
  },
  {
   "cell_type": "code",
   "execution_count": 42,
   "metadata": {
    "scrolled": true
   },
   "outputs": [
    {
     "name": "stdout",
     "output_type": "stream",
     "text": [
      "Epoch: 101 Loss: 0.63, Loss_test: 0.66, acc: 0.62, acc_test: 0.62\n",
      "Epoch: 102 Loss: 0.51, Loss_test: 0.66, acc: 0.79, acc_test: 0.61\n",
      "Epoch: 103 Loss: 0.59, Loss_test: 0.66, acc: 0.69, acc_test: 0.62\n",
      "Epoch: 104 Loss: 0.59, Loss_test: 0.65, acc: 0.69, acc_test: 0.62\n",
      "Epoch: 105 Loss: 0.55, Loss_test: 0.66, acc: 0.68, acc_test: 0.63\n",
      "Epoch: 106 Loss: 0.52, Loss_test: 0.66, acc: 0.74, acc_test: 0.63\n",
      "Epoch: 107 Loss: 0.58, Loss_test: 0.66, acc: 0.70, acc_test: 0.64\n",
      "Epoch: 108 Loss: 0.52, Loss_test: 0.66, acc: 0.76, acc_test: 0.62\n",
      "Epoch: 109 Loss: 0.47, Loss_test: 0.67, acc: 0.78, acc_test: 0.61\n",
      "=> result saved!\n",
      "Epoch: 110 Loss: 0.56, Loss_test: 0.66, acc: 0.73, acc_test: 0.62\n",
      "Epoch: 111 Loss: 0.52, Loss_test: 0.66, acc: 0.74, acc_test: 0.64\n",
      "Epoch: 112 Loss: 0.57, Loss_test: 0.66, acc: 0.74, acc_test: 0.64\n",
      "Epoch: 113 Loss: 0.52, Loss_test: 0.66, acc: 0.73, acc_test: 0.63\n",
      "Epoch: 114 Loss: 0.52, Loss_test: 0.66, acc: 0.76, acc_test: 0.62\n",
      "Epoch: 115 Loss: 0.58, Loss_test: 0.66, acc: 0.69, acc_test: 0.62\n",
      "Epoch: 116 Loss: 0.53, Loss_test: 0.66, acc: 0.77, acc_test: 0.62\n",
      "Epoch: 117 Loss: 0.56, Loss_test: 0.66, acc: 0.75, acc_test: 0.62\n",
      "Epoch: 118 Loss: 0.58, Loss_test: 0.65, acc: 0.71, acc_test: 0.61\n",
      "Epoch: 119 Loss: 0.55, Loss_test: 0.65, acc: 0.76, acc_test: 0.62\n",
      "=> result saved!\n",
      "Epoch: 120 Loss: 0.52, Loss_test: 0.65, acc: 0.72, acc_test: 0.62\n",
      "Epoch: 121 Loss: 0.50, Loss_test: 0.65, acc: 0.73, acc_test: 0.62\n",
      "Epoch: 122 Loss: 0.55, Loss_test: 0.68, acc: 0.66, acc_test: 0.61\n",
      "Epoch: 123 Loss: 0.55, Loss_test: 0.67, acc: 0.74, acc_test: 0.62\n",
      "Epoch: 124 Loss: 0.52, Loss_test: 0.65, acc: 0.73, acc_test: 0.64\n",
      "Epoch: 125 Loss: 0.60, Loss_test: 0.66, acc: 0.63, acc_test: 0.63\n",
      "Epoch: 126 Loss: 0.51, Loss_test: 0.67, acc: 0.73, acc_test: 0.64\n",
      "Epoch: 127 Loss: 0.48, Loss_test: 0.66, acc: 0.75, acc_test: 0.63\n",
      "Epoch: 128 Loss: 0.50, Loss_test: 0.69, acc: 0.77, acc_test: 0.57\n",
      "Epoch: 129 Loss: 0.53, Loss_test: 0.77, acc: 0.71, acc_test: 0.59\n",
      "=> result saved!\n",
      "Epoch: 130 Loss: 0.55, Loss_test: 0.78, acc: 0.73, acc_test: 0.58\n",
      "Epoch: 131 Loss: 0.60, Loss_test: 0.71, acc: 0.68, acc_test: 0.56\n",
      "Epoch: 132 Loss: 0.55, Loss_test: 0.69, acc: 0.71, acc_test: 0.57\n",
      "Epoch: 133 Loss: 0.52, Loss_test: 0.69, acc: 0.76, acc_test: 0.57\n",
      "Epoch: 134 Loss: 0.49, Loss_test: 0.69, acc: 0.76, acc_test: 0.57\n",
      "Epoch: 135 Loss: 0.61, Loss_test: 0.67, acc: 0.64, acc_test: 0.61\n",
      "Epoch: 136 Loss: 0.59, Loss_test: 0.67, acc: 0.67, acc_test: 0.62\n",
      "Epoch: 137 Loss: 0.61, Loss_test: 0.67, acc: 0.68, acc_test: 0.62\n",
      "Epoch: 138 Loss: 0.56, Loss_test: 0.67, acc: 0.70, acc_test: 0.61\n",
      "Epoch: 139 Loss: 0.55, Loss_test: 0.66, acc: 0.73, acc_test: 0.64\n",
      "=> result saved!\n",
      "Epoch: 140 Loss: 0.54, Loss_test: 0.67, acc: 0.72, acc_test: 0.62\n",
      "Epoch: 141 Loss: 0.47, Loss_test: 0.69, acc: 0.80, acc_test: 0.61\n",
      "Epoch: 142 Loss: 0.53, Loss_test: 0.68, acc: 0.70, acc_test: 0.63\n",
      "Epoch: 143 Loss: 0.64, Loss_test: 0.67, acc: 0.68, acc_test: 0.61\n",
      "Epoch: 144 Loss: 0.52, Loss_test: 0.71, acc: 0.74, acc_test: 0.59\n",
      "Epoch: 145 Loss: 0.45, Loss_test: 0.72, acc: 0.79, acc_test: 0.58\n",
      "Epoch: 146 Loss: 0.54, Loss_test: 0.70, acc: 0.70, acc_test: 0.56\n",
      "Epoch: 147 Loss: 0.51, Loss_test: 0.71, acc: 0.76, acc_test: 0.59\n",
      "Epoch: 148 Loss: 0.54, Loss_test: 0.76, acc: 0.73, acc_test: 0.57\n",
      "Epoch: 149 Loss: 0.53, Loss_test: 0.81, acc: 0.75, acc_test: 0.55\n",
      "=> result saved!\n",
      "Epoch: 150 Loss: 0.54, Loss_test: 0.79, acc: 0.69, acc_test: 0.56\n",
      "Epoch: 151 Loss: 0.59, Loss_test: 0.70, acc: 0.66, acc_test: 0.58\n",
      "Epoch: 152 Loss: 0.54, Loss_test: 0.67, acc: 0.74, acc_test: 0.62\n",
      "Epoch: 153 Loss: 0.60, Loss_test: 0.68, acc: 0.73, acc_test: 0.61\n",
      "Epoch: 154 Loss: 0.54, Loss_test: 0.66, acc: 0.72, acc_test: 0.61\n",
      "Epoch: 155 Loss: 0.52, Loss_test: 0.66, acc: 0.72, acc_test: 0.63\n",
      "Epoch: 156 Loss: 0.54, Loss_test: 0.67, acc: 0.74, acc_test: 0.64\n",
      "Epoch: 157 Loss: 0.57, Loss_test: 0.66, acc: 0.70, acc_test: 0.62\n",
      "Epoch: 158 Loss: 0.48, Loss_test: 0.66, acc: 0.77, acc_test: 0.63\n",
      "Epoch: 159 Loss: 0.53, Loss_test: 0.67, acc: 0.69, acc_test: 0.64\n",
      "=> result saved!\n",
      "Epoch: 160 Loss: 0.51, Loss_test: 0.66, acc: 0.72, acc_test: 0.62\n",
      "Epoch: 161 Loss: 0.60, Loss_test: 0.70, acc: 0.65, acc_test: 0.59\n",
      "Epoch: 162 Loss: 0.56, Loss_test: 0.77, acc: 0.72, acc_test: 0.57\n",
      "Epoch: 163 Loss: 0.55, Loss_test: 0.77, acc: 0.68, acc_test: 0.56\n",
      "Epoch: 164 Loss: 0.58, Loss_test: 0.74, acc: 0.66, acc_test: 0.56\n",
      "Epoch: 165 Loss: 0.51, Loss_test: 0.72, acc: 0.77, acc_test: 0.59\n",
      "Epoch: 166 Loss: 0.54, Loss_test: 0.72, acc: 0.72, acc_test: 0.59\n",
      "Epoch: 167 Loss: 0.51, Loss_test: 0.69, acc: 0.71, acc_test: 0.60\n",
      "Epoch: 168 Loss: 0.51, Loss_test: 0.67, acc: 0.73, acc_test: 0.61\n",
      "Epoch: 169 Loss: 0.63, Loss_test: 0.65, acc: 0.64, acc_test: 0.61\n",
      "=> result saved!\n",
      "Epoch: 170 Loss: 0.54, Loss_test: 0.65, acc: 0.73, acc_test: 0.61\n",
      "Epoch: 171 Loss: 0.49, Loss_test: 0.67, acc: 0.76, acc_test: 0.62\n",
      "Epoch: 172 Loss: 0.53, Loss_test: 0.68, acc: 0.71, acc_test: 0.59\n",
      "Epoch: 173 Loss: 0.50, Loss_test: 0.68, acc: 0.77, acc_test: 0.60\n",
      "Epoch: 174 Loss: 0.52, Loss_test: 0.66, acc: 0.73, acc_test: 0.61\n",
      "Epoch: 175 Loss: 0.53, Loss_test: 0.67, acc: 0.71, acc_test: 0.62\n",
      "Epoch: 176 Loss: 0.54, Loss_test: 0.71, acc: 0.71, acc_test: 0.60\n",
      "Epoch: 177 Loss: 0.53, Loss_test: 0.73, acc: 0.70, acc_test: 0.59\n",
      "Epoch: 178 Loss: 0.50, Loss_test: 0.69, acc: 0.71, acc_test: 0.61\n",
      "Epoch: 179 Loss: 0.46, Loss_test: 0.67, acc: 0.80, acc_test: 0.62\n",
      "=> result saved!\n",
      "Epoch: 180 Loss: 0.51, Loss_test: 0.66, acc: 0.77, acc_test: 0.63\n",
      "Epoch: 181 Loss: 0.49, Loss_test: 0.66, acc: 0.78, acc_test: 0.62\n",
      "Epoch: 182 Loss: 0.60, Loss_test: 0.66, acc: 0.65, acc_test: 0.63\n",
      "Epoch: 183 Loss: 0.57, Loss_test: 0.67, acc: 0.71, acc_test: 0.61\n",
      "Epoch: 184 Loss: 0.51, Loss_test: 0.67, acc: 0.72, acc_test: 0.63\n",
      "Epoch: 185 Loss: 0.58, Loss_test: 0.66, acc: 0.71, acc_test: 0.62\n",
      "Epoch: 186 Loss: 0.54, Loss_test: 0.66, acc: 0.73, acc_test: 0.63\n",
      "Epoch: 187 Loss: 0.48, Loss_test: 0.66, acc: 0.73, acc_test: 0.62\n",
      "Epoch: 188 Loss: 0.47, Loss_test: 0.67, acc: 0.80, acc_test: 0.62\n",
      "Epoch: 189 Loss: 0.45, Loss_test: 0.68, acc: 0.77, acc_test: 0.63\n",
      "=> result saved!\n",
      "Epoch: 190 Loss: 0.55, Loss_test: 0.69, acc: 0.73, acc_test: 0.61\n",
      "Epoch: 191 Loss: 0.59, Loss_test: 0.68, acc: 0.71, acc_test: 0.63\n",
      "Epoch: 192 Loss: 0.53, Loss_test: 0.67, acc: 0.73, acc_test: 0.62\n",
      "Epoch: 193 Loss: 0.50, Loss_test: 0.66, acc: 0.77, acc_test: 0.62\n",
      "Epoch: 194 Loss: 0.48, Loss_test: 0.66, acc: 0.75, acc_test: 0.62\n",
      "Epoch: 195 Loss: 0.52, Loss_test: 0.67, acc: 0.72, acc_test: 0.62\n",
      "Epoch: 196 Loss: 0.48, Loss_test: 0.68, acc: 0.78, acc_test: 0.62\n",
      "Epoch: 197 Loss: 0.53, Loss_test: 0.67, acc: 0.70, acc_test: 0.62\n",
      "Epoch: 198 Loss: 0.53, Loss_test: 0.67, acc: 0.71, acc_test: 0.59\n",
      "Epoch: 199 Loss: 0.60, Loss_test: 0.67, acc: 0.70, acc_test: 0.60\n",
      "=> result saved!\n",
      "Epoch: 200 Loss: 0.54, Loss_test: 0.67, acc: 0.70, acc_test: 0.61\n",
      "Epoch: 201 Loss: 0.52, Loss_test: 0.69, acc: 0.70, acc_test: 0.61\n",
      "Epoch: 202 Loss: 0.60, Loss_test: 0.68, acc: 0.65, acc_test: 0.62\n",
      "Epoch: 203 Loss: 0.48, Loss_test: 0.67, acc: 0.75, acc_test: 0.61\n",
      "Epoch: 204 Loss: 0.56, Loss_test: 0.69, acc: 0.70, acc_test: 0.60\n",
      "Epoch: 205 Loss: 0.55, Loss_test: 0.69, acc: 0.70, acc_test: 0.60\n",
      "Epoch: 206 Loss: 0.57, Loss_test: 0.68, acc: 0.74, acc_test: 0.61\n",
      "Epoch: 207 Loss: 0.49, Loss_test: 0.67, acc: 0.73, acc_test: 0.63\n",
      "Epoch: 208 Loss: 0.53, Loss_test: 0.66, acc: 0.69, acc_test: 0.61\n",
      "Epoch: 209 Loss: 0.47, Loss_test: 0.67, acc: 0.78, acc_test: 0.61\n",
      "=> result saved!\n",
      "Epoch: 210 Loss: 0.54, Loss_test: 0.67, acc: 0.75, acc_test: 0.61\n",
      "Epoch: 211 Loss: 0.52, Loss_test: 0.66, acc: 0.77, acc_test: 0.60\n",
      "Epoch: 212 Loss: 0.52, Loss_test: 0.66, acc: 0.76, acc_test: 0.63\n",
      "Epoch: 213 Loss: 0.54, Loss_test: 0.66, acc: 0.70, acc_test: 0.63\n",
      "Epoch: 214 Loss: 0.63, Loss_test: 0.65, acc: 0.67, acc_test: 0.62\n",
      "Epoch: 215 Loss: 0.50, Loss_test: 0.67, acc: 0.77, acc_test: 0.62\n",
      "Epoch: 216 Loss: 0.58, Loss_test: 0.70, acc: 0.66, acc_test: 0.57\n",
      "Epoch: 217 Loss: 0.59, Loss_test: 0.69, acc: 0.71, acc_test: 0.57\n",
      "Epoch: 218 Loss: 0.60, Loss_test: 0.66, acc: 0.70, acc_test: 0.62\n",
      "Epoch: 219 Loss: 0.55, Loss_test: 0.67, acc: 0.66, acc_test: 0.62\n",
      "=> result saved!\n",
      "Epoch: 220 Loss: 0.47, Loss_test: 0.68, acc: 0.74, acc_test: 0.62\n",
      "Epoch: 221 Loss: 0.55, Loss_test: 0.66, acc: 0.73, acc_test: 0.62\n",
      "Epoch: 222 Loss: 0.61, Loss_test: 0.65, acc: 0.66, acc_test: 0.64\n"
     ]
    },
    {
     "name": "stdout",
     "output_type": "stream",
     "text": [
      "Epoch: 223 Loss: 0.51, Loss_test: 0.65, acc: 0.76, acc_test: 0.62\n",
      "Epoch: 224 Loss: 0.52, Loss_test: 0.65, acc: 0.73, acc_test: 0.63\n",
      "Epoch: 225 Loss: 0.51, Loss_test: 0.65, acc: 0.77, acc_test: 0.63\n",
      "Epoch: 226 Loss: 0.47, Loss_test: 0.65, acc: 0.76, acc_test: 0.62\n",
      "Epoch: 227 Loss: 0.49, Loss_test: 0.68, acc: 0.77, acc_test: 0.60\n",
      "Epoch: 228 Loss: 0.56, Loss_test: 0.69, acc: 0.71, acc_test: 0.60\n",
      "Epoch: 229 Loss: 0.52, Loss_test: 0.70, acc: 0.74, acc_test: 0.60\n",
      "=> result saved!\n",
      "Epoch: 230 Loss: 0.49, Loss_test: 0.67, acc: 0.79, acc_test: 0.62\n",
      "Epoch: 231 Loss: 0.54, Loss_test: 0.65, acc: 0.73, acc_test: 0.64\n",
      "Epoch: 232 Loss: 0.54, Loss_test: 0.67, acc: 0.69, acc_test: 0.62\n",
      "Epoch: 233 Loss: 0.50, Loss_test: 0.67, acc: 0.74, acc_test: 0.61\n",
      "Epoch: 234 Loss: 0.58, Loss_test: 0.66, acc: 0.71, acc_test: 0.64\n",
      "Epoch: 235 Loss: 0.51, Loss_test: 0.65, acc: 0.73, acc_test: 0.63\n",
      "Epoch: 236 Loss: 0.54, Loss_test: 0.65, acc: 0.77, acc_test: 0.62\n",
      "Epoch: 237 Loss: 0.53, Loss_test: 0.66, acc: 0.72, acc_test: 0.64\n",
      "Epoch: 238 Loss: 0.54, Loss_test: 0.67, acc: 0.68, acc_test: 0.62\n",
      "Epoch: 239 Loss: 0.44, Loss_test: 0.67, acc: 0.80, acc_test: 0.63\n",
      "=> result saved!\n",
      "Epoch: 240 Loss: 0.48, Loss_test: 0.66, acc: 0.76, acc_test: 0.61\n",
      "Epoch: 241 Loss: 0.46, Loss_test: 0.68, acc: 0.79, acc_test: 0.62\n",
      "Epoch: 242 Loss: 0.44, Loss_test: 0.72, acc: 0.80, acc_test: 0.60\n",
      "Epoch: 243 Loss: 0.63, Loss_test: 0.70, acc: 0.59, acc_test: 0.61\n",
      "Epoch: 244 Loss: 0.53, Loss_test: 0.67, acc: 0.74, acc_test: 0.64\n",
      "Epoch: 245 Loss: 0.53, Loss_test: 0.67, acc: 0.79, acc_test: 0.64\n",
      "Epoch: 246 Loss: 0.53, Loss_test: 0.67, acc: 0.73, acc_test: 0.63\n",
      "Epoch: 247 Loss: 0.46, Loss_test: 0.67, acc: 0.78, acc_test: 0.63\n",
      "Epoch: 248 Loss: 0.47, Loss_test: 0.67, acc: 0.75, acc_test: 0.62\n",
      "Epoch: 249 Loss: 0.45, Loss_test: 0.68, acc: 0.77, acc_test: 0.61\n",
      "=> result saved!\n",
      "Epoch: 250 Loss: 0.49, Loss_test: 0.72, acc: 0.77, acc_test: 0.60\n",
      "Epoch: 251 Loss: 0.49, Loss_test: 0.75, acc: 0.76, acc_test: 0.59\n",
      "Epoch: 252 Loss: 0.50, Loss_test: 0.73, acc: 0.78, acc_test: 0.60\n",
      "Epoch: 253 Loss: 0.61, Loss_test: 0.68, acc: 0.69, acc_test: 0.62\n",
      "Epoch: 254 Loss: 0.52, Loss_test: 0.71, acc: 0.73, acc_test: 0.62\n",
      "Epoch: 255 Loss: 0.52, Loss_test: 0.74, acc: 0.73, acc_test: 0.61\n",
      "Epoch: 256 Loss: 0.58, Loss_test: 0.70, acc: 0.70, acc_test: 0.60\n",
      "Epoch: 257 Loss: 0.49, Loss_test: 0.70, acc: 0.76, acc_test: 0.62\n",
      "Epoch: 258 Loss: 0.51, Loss_test: 0.71, acc: 0.72, acc_test: 0.61\n",
      "Epoch: 259 Loss: 0.48, Loss_test: 0.70, acc: 0.77, acc_test: 0.61\n",
      "=> result saved!\n",
      "Epoch: 260 Loss: 0.49, Loss_test: 0.69, acc: 0.77, acc_test: 0.59\n",
      "Epoch: 261 Loss: 0.48, Loss_test: 0.71, acc: 0.72, acc_test: 0.61\n",
      "Epoch: 262 Loss: 0.52, Loss_test: 0.70, acc: 0.72, acc_test: 0.60\n",
      "Epoch: 263 Loss: 0.52, Loss_test: 0.69, acc: 0.71, acc_test: 0.60\n",
      "Epoch: 264 Loss: 0.48, Loss_test: 0.71, acc: 0.77, acc_test: 0.60\n",
      "Epoch: 265 Loss: 0.51, Loss_test: 0.72, acc: 0.78, acc_test: 0.61\n",
      "Epoch: 266 Loss: 0.53, Loss_test: 0.71, acc: 0.74, acc_test: 0.60\n",
      "Epoch: 267 Loss: 0.53, Loss_test: 0.70, acc: 0.71, acc_test: 0.61\n",
      "Epoch: 268 Loss: 0.54, Loss_test: 0.69, acc: 0.70, acc_test: 0.61\n",
      "Epoch: 269 Loss: 0.53, Loss_test: 0.69, acc: 0.70, acc_test: 0.62\n",
      "=> result saved!\n",
      "Epoch: 270 Loss: 0.53, Loss_test: 0.70, acc: 0.70, acc_test: 0.61\n",
      "Epoch: 271 Loss: 0.49, Loss_test: 0.71, acc: 0.77, acc_test: 0.60\n",
      "Epoch: 272 Loss: 0.45, Loss_test: 0.70, acc: 0.79, acc_test: 0.61\n",
      "Epoch: 273 Loss: 0.44, Loss_test: 0.69, acc: 0.79, acc_test: 0.59\n",
      "Epoch: 274 Loss: 0.55, Loss_test: 0.71, acc: 0.70, acc_test: 0.61\n",
      "Epoch: 275 Loss: 0.51, Loss_test: 0.71, acc: 0.77, acc_test: 0.60\n",
      "Epoch: 276 Loss: 0.55, Loss_test: 0.71, acc: 0.73, acc_test: 0.61\n",
      "Epoch: 277 Loss: 0.54, Loss_test: 0.70, acc: 0.73, acc_test: 0.61\n",
      "Epoch: 278 Loss: 0.53, Loss_test: 0.68, acc: 0.74, acc_test: 0.60\n",
      "Epoch: 279 Loss: 0.47, Loss_test: 0.68, acc: 0.81, acc_test: 0.62\n",
      "=> result saved!\n",
      "Epoch: 280 Loss: 0.53, Loss_test: 0.68, acc: 0.73, acc_test: 0.62\n",
      "Epoch: 281 Loss: 0.55, Loss_test: 0.67, acc: 0.76, acc_test: 0.61\n",
      "Epoch: 282 Loss: 0.55, Loss_test: 0.67, acc: 0.69, acc_test: 0.60\n",
      "Epoch: 283 Loss: 0.50, Loss_test: 0.68, acc: 0.74, acc_test: 0.61\n",
      "Epoch: 284 Loss: 0.55, Loss_test: 0.67, acc: 0.71, acc_test: 0.59\n",
      "Epoch: 285 Loss: 0.54, Loss_test: 0.68, acc: 0.74, acc_test: 0.59\n",
      "Epoch: 286 Loss: 0.45, Loss_test: 0.69, acc: 0.81, acc_test: 0.60\n",
      "Epoch: 287 Loss: 0.58, Loss_test: 0.68, acc: 0.66, acc_test: 0.60\n",
      "Epoch: 288 Loss: 0.47, Loss_test: 0.67, acc: 0.78, acc_test: 0.60\n",
      "Epoch: 289 Loss: 0.45, Loss_test: 0.69, acc: 0.78, acc_test: 0.61\n",
      "=> result saved!\n",
      "Epoch: 290 Loss: 0.55, Loss_test: 0.69, acc: 0.67, acc_test: 0.61\n",
      "Epoch: 291 Loss: 0.52, Loss_test: 0.68, acc: 0.76, acc_test: 0.61\n",
      "Epoch: 292 Loss: 0.48, Loss_test: 0.67, acc: 0.78, acc_test: 0.60\n",
      "Epoch: 293 Loss: 0.58, Loss_test: 0.67, acc: 0.68, acc_test: 0.59\n",
      "Epoch: 294 Loss: 0.51, Loss_test: 0.67, acc: 0.74, acc_test: 0.61\n",
      "Epoch: 295 Loss: 0.47, Loss_test: 0.68, acc: 0.76, acc_test: 0.61\n",
      "Epoch: 296 Loss: 0.51, Loss_test: 0.69, acc: 0.73, acc_test: 0.62\n",
      "Epoch: 297 Loss: 0.52, Loss_test: 0.68, acc: 0.73, acc_test: 0.61\n",
      "Epoch: 298 Loss: 0.52, Loss_test: 0.66, acc: 0.68, acc_test: 0.59\n",
      "Epoch: 299 Loss: 0.45, Loss_test: 0.68, acc: 0.78, acc_test: 0.61\n",
      "=> result saved!\n",
      "Epoch: 300 Loss: 0.55, Loss_test: 0.68, acc: 0.74, acc_test: 0.61\n",
      "Epoch: 301 Loss: 0.56, Loss_test: 0.67, acc: 0.72, acc_test: 0.63\n",
      "Epoch: 302 Loss: 0.51, Loss_test: 0.67, acc: 0.72, acc_test: 0.61\n",
      "Epoch: 303 Loss: 0.51, Loss_test: 0.70, acc: 0.73, acc_test: 0.59\n",
      "Epoch: 304 Loss: 0.56, Loss_test: 0.72, acc: 0.71, acc_test: 0.59\n",
      "Epoch: 305 Loss: 0.48, Loss_test: 0.71, acc: 0.74, acc_test: 0.58\n",
      "Epoch: 306 Loss: 0.53, Loss_test: 0.70, acc: 0.74, acc_test: 0.60\n",
      "Epoch: 307 Loss: 0.52, Loss_test: 0.69, acc: 0.75, acc_test: 0.59\n",
      "Epoch: 308 Loss: 0.46, Loss_test: 0.69, acc: 0.80, acc_test: 0.59\n",
      "Epoch: 309 Loss: 0.47, Loss_test: 0.71, acc: 0.77, acc_test: 0.57\n",
      "=> result saved!\n",
      "Epoch: 310 Loss: 0.52, Loss_test: 0.73, acc: 0.77, acc_test: 0.57\n",
      "Epoch: 311 Loss: 0.53, Loss_test: 0.71, acc: 0.70, acc_test: 0.58\n",
      "Epoch: 312 Loss: 0.58, Loss_test: 0.69, acc: 0.68, acc_test: 0.59\n",
      "Epoch: 313 Loss: 0.46, Loss_test: 0.69, acc: 0.80, acc_test: 0.59\n",
      "Epoch: 314 Loss: 0.49, Loss_test: 0.69, acc: 0.77, acc_test: 0.59\n",
      "Epoch: 315 Loss: 0.49, Loss_test: 0.70, acc: 0.79, acc_test: 0.59\n",
      "Epoch: 316 Loss: 0.57, Loss_test: 0.70, acc: 0.73, acc_test: 0.58\n",
      "Epoch: 317 Loss: 0.45, Loss_test: 0.72, acc: 0.82, acc_test: 0.56\n",
      "Epoch: 318 Loss: 0.56, Loss_test: 0.74, acc: 0.70, acc_test: 0.58\n",
      "Epoch: 319 Loss: 0.49, Loss_test: 0.73, acc: 0.79, acc_test: 0.58\n",
      "=> result saved!\n",
      "Epoch: 320 Loss: 0.46, Loss_test: 0.71, acc: 0.76, acc_test: 0.58\n",
      "Epoch: 321 Loss: 0.43, Loss_test: 0.70, acc: 0.81, acc_test: 0.60\n",
      "Epoch: 322 Loss: 0.50, Loss_test: 0.70, acc: 0.75, acc_test: 0.60\n",
      "Epoch: 323 Loss: 0.51, Loss_test: 0.71, acc: 0.76, acc_test: 0.59\n",
      "Epoch: 324 Loss: 0.52, Loss_test: 0.71, acc: 0.73, acc_test: 0.59\n",
      "Epoch: 325 Loss: 0.49, Loss_test: 0.71, acc: 0.73, acc_test: 0.60\n",
      "Epoch: 326 Loss: 0.56, Loss_test: 0.70, acc: 0.65, acc_test: 0.60\n",
      "Epoch: 327 Loss: 0.59, Loss_test: 0.68, acc: 0.69, acc_test: 0.62\n",
      "Epoch: 328 Loss: 0.50, Loss_test: 0.68, acc: 0.76, acc_test: 0.61\n",
      "Epoch: 329 Loss: 0.52, Loss_test: 0.69, acc: 0.73, acc_test: 0.61\n",
      "=> result saved!\n",
      "Epoch: 330 Loss: 0.45, Loss_test: 0.68, acc: 0.80, acc_test: 0.61\n",
      "Epoch: 331 Loss: 0.46, Loss_test: 0.68, acc: 0.78, acc_test: 0.60\n",
      "Epoch: 332 Loss: 0.56, Loss_test: 0.68, acc: 0.70, acc_test: 0.62\n",
      "Epoch: 333 Loss: 0.51, Loss_test: 0.67, acc: 0.73, acc_test: 0.61\n",
      "Epoch: 334 Loss: 0.51, Loss_test: 0.68, acc: 0.75, acc_test: 0.63\n",
      "Epoch: 335 Loss: 0.51, Loss_test: 0.68, acc: 0.70, acc_test: 0.64\n",
      "Epoch: 336 Loss: 0.51, Loss_test: 0.67, acc: 0.74, acc_test: 0.61\n",
      "Epoch: 337 Loss: 0.47, Loss_test: 0.67, acc: 0.78, acc_test: 0.61\n",
      "Epoch: 338 Loss: 0.52, Loss_test: 0.66, acc: 0.73, acc_test: 0.61\n",
      "Epoch: 339 Loss: 0.51, Loss_test: 0.66, acc: 0.80, acc_test: 0.62\n",
      "=> result saved!\n",
      "Epoch: 340 Loss: 0.50, Loss_test: 0.66, acc: 0.77, acc_test: 0.62\n",
      "Epoch: 341 Loss: 0.47, Loss_test: 0.67, acc: 0.79, acc_test: 0.64\n",
      "Epoch: 342 Loss: 0.52, Loss_test: 0.68, acc: 0.73, acc_test: 0.64\n",
      "Epoch: 343 Loss: 0.41, Loss_test: 0.67, acc: 0.86, acc_test: 0.64\n",
      "Epoch: 344 Loss: 0.47, Loss_test: 0.67, acc: 0.80, acc_test: 0.63\n"
     ]
    },
    {
     "name": "stdout",
     "output_type": "stream",
     "text": [
      "Epoch: 345 Loss: 0.49, Loss_test: 0.68, acc: 0.77, acc_test: 0.64\n",
      "Epoch: 346 Loss: 0.58, Loss_test: 0.68, acc: 0.70, acc_test: 0.63\n",
      "Epoch: 347 Loss: 0.55, Loss_test: 0.71, acc: 0.77, acc_test: 0.59\n",
      "Epoch: 348 Loss: 0.43, Loss_test: 0.75, acc: 0.81, acc_test: 0.58\n",
      "Epoch: 349 Loss: 0.44, Loss_test: 0.73, acc: 0.82, acc_test: 0.59\n",
      "=> result saved!\n",
      "Epoch: 350 Loss: 0.47, Loss_test: 0.68, acc: 0.77, acc_test: 0.62\n",
      "Epoch: 351 Loss: 0.43, Loss_test: 0.67, acc: 0.80, acc_test: 0.60\n",
      "Epoch: 352 Loss: 0.45, Loss_test: 0.68, acc: 0.79, acc_test: 0.60\n",
      "Epoch: 353 Loss: 0.48, Loss_test: 0.68, acc: 0.77, acc_test: 0.60\n",
      "Epoch: 354 Loss: 0.45, Loss_test: 0.69, acc: 0.80, acc_test: 0.59\n",
      "Epoch: 355 Loss: 0.58, Loss_test: 0.69, acc: 0.66, acc_test: 0.60\n",
      "Epoch: 356 Loss: 0.63, Loss_test: 0.69, acc: 0.66, acc_test: 0.60\n",
      "Epoch: 357 Loss: 0.44, Loss_test: 0.68, acc: 0.81, acc_test: 0.60\n",
      "Epoch: 358 Loss: 0.55, Loss_test: 0.69, acc: 0.67, acc_test: 0.60\n",
      "Epoch: 359 Loss: 0.48, Loss_test: 0.68, acc: 0.73, acc_test: 0.59\n",
      "=> result saved!\n",
      "Epoch: 360 Loss: 0.42, Loss_test: 0.68, acc: 0.83, acc_test: 0.60\n",
      "Epoch: 361 Loss: 0.46, Loss_test: 0.69, acc: 0.79, acc_test: 0.58\n",
      "Epoch: 362 Loss: 0.55, Loss_test: 0.70, acc: 0.70, acc_test: 0.58\n",
      "Epoch: 363 Loss: 0.54, Loss_test: 0.73, acc: 0.76, acc_test: 0.59\n",
      "Epoch: 364 Loss: 0.48, Loss_test: 0.72, acc: 0.73, acc_test: 0.58\n",
      "Epoch: 365 Loss: 0.51, Loss_test: 0.69, acc: 0.73, acc_test: 0.57\n",
      "Epoch: 366 Loss: 0.45, Loss_test: 0.68, acc: 0.79, acc_test: 0.61\n",
      "Epoch: 367 Loss: 0.46, Loss_test: 0.68, acc: 0.77, acc_test: 0.60\n",
      "Epoch: 368 Loss: 0.45, Loss_test: 0.69, acc: 0.80, acc_test: 0.59\n",
      "Epoch: 369 Loss: 0.53, Loss_test: 0.70, acc: 0.75, acc_test: 0.59\n",
      "=> result saved!\n",
      "Epoch: 370 Loss: 0.52, Loss_test: 0.69, acc: 0.66, acc_test: 0.59\n",
      "Epoch: 371 Loss: 0.61, Loss_test: 0.68, acc: 0.67, acc_test: 0.61\n",
      "Epoch: 372 Loss: 0.47, Loss_test: 0.69, acc: 0.75, acc_test: 0.61\n",
      "Epoch: 373 Loss: 0.51, Loss_test: 0.72, acc: 0.71, acc_test: 0.61\n",
      "Epoch: 374 Loss: 0.46, Loss_test: 0.74, acc: 0.78, acc_test: 0.61\n",
      "Epoch: 375 Loss: 0.49, Loss_test: 0.72, acc: 0.76, acc_test: 0.57\n",
      "Epoch: 376 Loss: 0.50, Loss_test: 0.70, acc: 0.73, acc_test: 0.59\n",
      "Epoch: 377 Loss: 0.49, Loss_test: 0.69, acc: 0.73, acc_test: 0.59\n",
      "Epoch: 378 Loss: 0.50, Loss_test: 0.69, acc: 0.73, acc_test: 0.60\n",
      "Epoch: 379 Loss: 0.44, Loss_test: 0.70, acc: 0.77, acc_test: 0.60\n",
      "=> result saved!\n",
      "Epoch: 380 Loss: 0.46, Loss_test: 0.71, acc: 0.79, acc_test: 0.61\n",
      "Epoch: 381 Loss: 0.51, Loss_test: 0.70, acc: 0.71, acc_test: 0.59\n",
      "Epoch: 382 Loss: 0.48, Loss_test: 0.68, acc: 0.74, acc_test: 0.61\n",
      "Epoch: 383 Loss: 0.48, Loss_test: 0.69, acc: 0.77, acc_test: 0.62\n",
      "Epoch: 384 Loss: 0.52, Loss_test: 0.69, acc: 0.71, acc_test: 0.61\n",
      "Epoch: 385 Loss: 0.53, Loss_test: 0.68, acc: 0.71, acc_test: 0.62\n",
      "Epoch: 386 Loss: 0.43, Loss_test: 0.69, acc: 0.78, acc_test: 0.63\n",
      "Epoch: 387 Loss: 0.48, Loss_test: 0.70, acc: 0.80, acc_test: 0.63\n",
      "Epoch: 388 Loss: 0.50, Loss_test: 0.68, acc: 0.71, acc_test: 0.62\n",
      "Epoch: 389 Loss: 0.51, Loss_test: 0.67, acc: 0.75, acc_test: 0.62\n",
      "=> result saved!\n",
      "Epoch: 390 Loss: 0.46, Loss_test: 0.68, acc: 0.75, acc_test: 0.62\n",
      "Epoch: 391 Loss: 0.61, Loss_test: 0.67, acc: 0.62, acc_test: 0.62\n",
      "Epoch: 392 Loss: 0.49, Loss_test: 0.67, acc: 0.79, acc_test: 0.61\n",
      "Epoch: 393 Loss: 0.47, Loss_test: 0.67, acc: 0.77, acc_test: 0.62\n",
      "Epoch: 394 Loss: 0.50, Loss_test: 0.67, acc: 0.73, acc_test: 0.61\n",
      "Epoch: 395 Loss: 0.40, Loss_test: 0.66, acc: 0.83, acc_test: 0.62\n",
      "Epoch: 396 Loss: 0.42, Loss_test: 0.66, acc: 0.84, acc_test: 0.62\n",
      "Epoch: 397 Loss: 0.52, Loss_test: 0.67, acc: 0.76, acc_test: 0.64\n",
      "Epoch: 398 Loss: 0.51, Loss_test: 0.67, acc: 0.71, acc_test: 0.64\n",
      "Epoch: 399 Loss: 0.46, Loss_test: 0.67, acc: 0.79, acc_test: 0.62\n",
      "=> result saved!\n",
      "Epoch: 400 Loss: 0.52, Loss_test: 0.67, acc: 0.73, acc_test: 0.64\n",
      "Epoch: 401 Loss: 0.44, Loss_test: 0.67, acc: 0.82, acc_test: 0.64\n",
      "Epoch: 402 Loss: 0.40, Loss_test: 0.68, acc: 0.82, acc_test: 0.64\n",
      "Epoch: 403 Loss: 0.54, Loss_test: 0.68, acc: 0.72, acc_test: 0.64\n",
      "Epoch: 404 Loss: 0.50, Loss_test: 0.69, acc: 0.76, acc_test: 0.64\n",
      "Epoch: 405 Loss: 0.49, Loss_test: 0.69, acc: 0.79, acc_test: 0.64\n",
      "Epoch: 406 Loss: 0.47, Loss_test: 0.72, acc: 0.80, acc_test: 0.63\n",
      "Epoch: 407 Loss: 0.51, Loss_test: 0.72, acc: 0.77, acc_test: 0.62\n",
      "Epoch: 408 Loss: 0.59, Loss_test: 0.71, acc: 0.69, acc_test: 0.61\n",
      "Epoch: 409 Loss: 0.42, Loss_test: 0.71, acc: 0.78, acc_test: 0.61\n",
      "=> result saved!\n",
      "Epoch: 410 Loss: 0.49, Loss_test: 0.72, acc: 0.75, acc_test: 0.61\n",
      "Epoch: 411 Loss: 0.43, Loss_test: 0.71, acc: 0.81, acc_test: 0.61\n",
      "Epoch: 412 Loss: 0.41, Loss_test: 0.72, acc: 0.80, acc_test: 0.62\n",
      "Epoch: 413 Loss: 0.48, Loss_test: 0.73, acc: 0.76, acc_test: 0.61\n",
      "Epoch: 414 Loss: 0.48, Loss_test: 0.72, acc: 0.76, acc_test: 0.62\n",
      "Epoch: 415 Loss: 0.38, Loss_test: 0.71, acc: 0.80, acc_test: 0.62\n",
      "Epoch: 416 Loss: 0.48, Loss_test: 0.71, acc: 0.79, acc_test: 0.61\n",
      "Epoch: 417 Loss: 0.44, Loss_test: 0.71, acc: 0.80, acc_test: 0.62\n",
      "Epoch: 418 Loss: 0.43, Loss_test: 0.71, acc: 0.83, acc_test: 0.61\n",
      "Epoch: 419 Loss: 0.55, Loss_test: 0.71, acc: 0.70, acc_test: 0.62\n",
      "=> result saved!\n",
      "Epoch: 420 Loss: 0.42, Loss_test: 0.73, acc: 0.80, acc_test: 0.60\n",
      "Epoch: 421 Loss: 0.50, Loss_test: 0.77, acc: 0.73, acc_test: 0.59\n",
      "Epoch: 422 Loss: 0.44, Loss_test: 0.78, acc: 0.80, acc_test: 0.59\n",
      "Epoch: 423 Loss: 0.59, Loss_test: 0.77, acc: 0.73, acc_test: 0.59\n",
      "Epoch: 424 Loss: 0.48, Loss_test: 0.73, acc: 0.79, acc_test: 0.59\n",
      "Epoch: 425 Loss: 0.53, Loss_test: 0.73, acc: 0.70, acc_test: 0.59\n",
      "Epoch: 426 Loss: 0.45, Loss_test: 0.76, acc: 0.76, acc_test: 0.59\n",
      "Epoch: 427 Loss: 0.48, Loss_test: 0.76, acc: 0.77, acc_test: 0.57\n",
      "Epoch: 428 Loss: 0.47, Loss_test: 0.74, acc: 0.77, acc_test: 0.57\n",
      "Epoch: 429 Loss: 0.48, Loss_test: 0.72, acc: 0.77, acc_test: 0.58\n",
      "=> result saved!\n",
      "Epoch: 430 Loss: 0.42, Loss_test: 0.71, acc: 0.80, acc_test: 0.57\n",
      "Epoch: 431 Loss: 0.48, Loss_test: 0.72, acc: 0.76, acc_test: 0.58\n",
      "Epoch: 432 Loss: 0.55, Loss_test: 0.74, acc: 0.75, acc_test: 0.60\n",
      "Epoch: 433 Loss: 0.48, Loss_test: 0.75, acc: 0.77, acc_test: 0.58\n",
      "Epoch: 434 Loss: 0.54, Loss_test: 0.72, acc: 0.70, acc_test: 0.59\n",
      "Epoch: 435 Loss: 0.48, Loss_test: 0.70, acc: 0.76, acc_test: 0.59\n",
      "Epoch: 436 Loss: 0.51, Loss_test: 0.70, acc: 0.75, acc_test: 0.59\n",
      "Epoch: 437 Loss: 0.47, Loss_test: 0.70, acc: 0.75, acc_test: 0.59\n",
      "Epoch: 438 Loss: 0.51, Loss_test: 0.70, acc: 0.73, acc_test: 0.60\n",
      "Epoch: 439 Loss: 0.49, Loss_test: 0.70, acc: 0.70, acc_test: 0.60\n",
      "=> result saved!\n",
      "Epoch: 440 Loss: 0.41, Loss_test: 0.71, acc: 0.82, acc_test: 0.61\n",
      "Epoch: 441 Loss: 0.43, Loss_test: 0.74, acc: 0.80, acc_test: 0.59\n",
      "Epoch: 442 Loss: 0.42, Loss_test: 0.75, acc: 0.83, acc_test: 0.59\n",
      "Epoch: 443 Loss: 0.47, Loss_test: 0.73, acc: 0.77, acc_test: 0.59\n",
      "Epoch: 444 Loss: 0.51, Loss_test: 0.71, acc: 0.78, acc_test: 0.61\n",
      "Epoch: 445 Loss: 0.46, Loss_test: 0.69, acc: 0.75, acc_test: 0.61\n",
      "Epoch: 446 Loss: 0.48, Loss_test: 0.69, acc: 0.77, acc_test: 0.62\n",
      "Epoch: 447 Loss: 0.45, Loss_test: 0.69, acc: 0.81, acc_test: 0.62\n",
      "Epoch: 448 Loss: 0.51, Loss_test: 0.69, acc: 0.75, acc_test: 0.61\n",
      "Epoch: 449 Loss: 0.50, Loss_test: 0.69, acc: 0.73, acc_test: 0.60\n",
      "=> result saved!\n",
      "Epoch: 450 Loss: 0.45, Loss_test: 0.69, acc: 0.77, acc_test: 0.62\n",
      "Epoch: 451 Loss: 0.49, Loss_test: 0.71, acc: 0.74, acc_test: 0.63\n",
      "Epoch: 452 Loss: 0.40, Loss_test: 0.73, acc: 0.81, acc_test: 0.62\n",
      "Epoch: 453 Loss: 0.48, Loss_test: 0.71, acc: 0.77, acc_test: 0.63\n",
      "Epoch: 454 Loss: 0.42, Loss_test: 0.69, acc: 0.79, acc_test: 0.64\n",
      "Epoch: 455 Loss: 0.52, Loss_test: 0.69, acc: 0.79, acc_test: 0.62\n",
      "Epoch: 456 Loss: 0.50, Loss_test: 0.70, acc: 0.73, acc_test: 0.63\n",
      "Epoch: 457 Loss: 0.46, Loss_test: 0.73, acc: 0.77, acc_test: 0.62\n",
      "Epoch: 458 Loss: 0.49, Loss_test: 0.79, acc: 0.76, acc_test: 0.56\n",
      "Epoch: 459 Loss: 0.48, Loss_test: 0.83, acc: 0.75, acc_test: 0.55\n",
      "=> result saved!\n",
      "Epoch: 460 Loss: 0.49, Loss_test: 0.84, acc: 0.77, acc_test: 0.55\n",
      "Epoch: 461 Loss: 0.43, Loss_test: 0.78, acc: 0.78, acc_test: 0.57\n",
      "Epoch: 462 Loss: 0.50, Loss_test: 0.72, acc: 0.75, acc_test: 0.62\n",
      "Epoch: 463 Loss: 0.43, Loss_test: 0.70, acc: 0.81, acc_test: 0.64\n",
      "Epoch: 464 Loss: 0.49, Loss_test: 0.69, acc: 0.77, acc_test: 0.61\n",
      "Epoch: 465 Loss: 0.43, Loss_test: 0.70, acc: 0.82, acc_test: 0.61\n",
      "Epoch: 466 Loss: 0.49, Loss_test: 0.70, acc: 0.80, acc_test: 0.60\n"
     ]
    },
    {
     "name": "stdout",
     "output_type": "stream",
     "text": [
      "Epoch: 467 Loss: 0.53, Loss_test: 0.70, acc: 0.73, acc_test: 0.61\n",
      "Epoch: 468 Loss: 0.54, Loss_test: 0.70, acc: 0.71, acc_test: 0.61\n",
      "Epoch: 469 Loss: 0.54, Loss_test: 0.70, acc: 0.77, acc_test: 0.62\n",
      "=> result saved!\n",
      "Epoch: 470 Loss: 0.48, Loss_test: 0.69, acc: 0.73, acc_test: 0.61\n",
      "Epoch: 471 Loss: 0.48, Loss_test: 0.68, acc: 0.77, acc_test: 0.61\n",
      "Epoch: 472 Loss: 0.49, Loss_test: 0.68, acc: 0.79, acc_test: 0.62\n",
      "Epoch: 473 Loss: 0.43, Loss_test: 0.68, acc: 0.78, acc_test: 0.62\n",
      "Epoch: 474 Loss: 0.43, Loss_test: 0.68, acc: 0.84, acc_test: 0.62\n",
      "Epoch: 475 Loss: 0.57, Loss_test: 0.68, acc: 0.71, acc_test: 0.61\n",
      "Epoch: 476 Loss: 0.50, Loss_test: 0.68, acc: 0.75, acc_test: 0.61\n",
      "Epoch: 477 Loss: 0.49, Loss_test: 0.68, acc: 0.75, acc_test: 0.62\n",
      "Epoch: 478 Loss: 0.51, Loss_test: 0.68, acc: 0.72, acc_test: 0.61\n",
      "Epoch: 479 Loss: 0.46, Loss_test: 0.69, acc: 0.80, acc_test: 0.61\n",
      "=> result saved!\n",
      "Epoch: 480 Loss: 0.39, Loss_test: 0.71, acc: 0.82, acc_test: 0.60\n",
      "Epoch: 481 Loss: 0.44, Loss_test: 0.70, acc: 0.78, acc_test: 0.61\n",
      "Epoch: 482 Loss: 0.54, Loss_test: 0.68, acc: 0.76, acc_test: 0.62\n",
      "Epoch: 483 Loss: 0.53, Loss_test: 0.68, acc: 0.74, acc_test: 0.62\n",
      "Epoch: 484 Loss: 0.46, Loss_test: 0.69, acc: 0.79, acc_test: 0.64\n",
      "Epoch: 485 Loss: 0.39, Loss_test: 0.68, acc: 0.80, acc_test: 0.62\n",
      "Epoch: 486 Loss: 0.44, Loss_test: 0.67, acc: 0.80, acc_test: 0.62\n",
      "Epoch: 487 Loss: 0.44, Loss_test: 0.68, acc: 0.81, acc_test: 0.61\n",
      "Epoch: 488 Loss: 0.50, Loss_test: 0.68, acc: 0.72, acc_test: 0.60\n",
      "Epoch: 489 Loss: 0.41, Loss_test: 0.70, acc: 0.84, acc_test: 0.60\n",
      "=> result saved!\n",
      "Epoch: 490 Loss: 0.47, Loss_test: 0.70, acc: 0.73, acc_test: 0.59\n",
      "Epoch: 491 Loss: 0.49, Loss_test: 0.70, acc: 0.75, acc_test: 0.60\n",
      "Epoch: 492 Loss: 0.44, Loss_test: 0.70, acc: 0.77, acc_test: 0.60\n",
      "Epoch: 493 Loss: 0.45, Loss_test: 0.70, acc: 0.80, acc_test: 0.60\n",
      "Epoch: 494 Loss: 0.43, Loss_test: 0.71, acc: 0.84, acc_test: 0.61\n",
      "Epoch: 495 Loss: 0.41, Loss_test: 0.71, acc: 0.84, acc_test: 0.59\n",
      "Epoch: 496 Loss: 0.46, Loss_test: 0.71, acc: 0.83, acc_test: 0.59\n",
      "Epoch: 497 Loss: 0.44, Loss_test: 0.71, acc: 0.79, acc_test: 0.59\n",
      "Epoch: 498 Loss: 0.42, Loss_test: 0.72, acc: 0.77, acc_test: 0.59\n",
      "Epoch: 499 Loss: 0.50, Loss_test: 0.72, acc: 0.74, acc_test: 0.59\n",
      "=> result saved!\n",
      "Epoch: 500 Loss: 0.36, Loss_test: 0.73, acc: 0.86, acc_test: 0.61\n",
      "Epoch: 501 Loss: 0.53, Loss_test: 0.71, acc: 0.73, acc_test: 0.61\n",
      "Epoch: 502 Loss: 0.46, Loss_test: 0.72, acc: 0.79, acc_test: 0.60\n",
      "Epoch: 503 Loss: 0.46, Loss_test: 0.73, acc: 0.79, acc_test: 0.60\n",
      "Epoch: 504 Loss: 0.42, Loss_test: 0.72, acc: 0.79, acc_test: 0.61\n",
      "Epoch: 505 Loss: 0.43, Loss_test: 0.71, acc: 0.77, acc_test: 0.61\n",
      "Epoch: 506 Loss: 0.54, Loss_test: 0.71, acc: 0.77, acc_test: 0.61\n",
      "Epoch: 507 Loss: 0.46, Loss_test: 0.74, acc: 0.78, acc_test: 0.64\n",
      "Epoch: 508 Loss: 0.47, Loss_test: 0.74, acc: 0.78, acc_test: 0.62\n",
      "Epoch: 509 Loss: 0.44, Loss_test: 0.74, acc: 0.78, acc_test: 0.62\n",
      "=> result saved!\n",
      "Epoch: 510 Loss: 0.37, Loss_test: 0.74, acc: 0.82, acc_test: 0.62\n",
      "Epoch: 511 Loss: 0.45, Loss_test: 0.71, acc: 0.75, acc_test: 0.60\n",
      "Epoch: 512 Loss: 0.49, Loss_test: 0.70, acc: 0.77, acc_test: 0.61\n",
      "Epoch: 513 Loss: 0.49, Loss_test: 0.70, acc: 0.77, acc_test: 0.60\n",
      "Epoch: 514 Loss: 0.48, Loss_test: 0.71, acc: 0.76, acc_test: 0.59\n",
      "Epoch: 515 Loss: 0.45, Loss_test: 0.73, acc: 0.74, acc_test: 0.61\n",
      "Epoch: 516 Loss: 0.50, Loss_test: 0.76, acc: 0.75, acc_test: 0.61\n",
      "Epoch: 517 Loss: 0.38, Loss_test: 0.74, acc: 0.84, acc_test: 0.61\n",
      "Epoch: 518 Loss: 0.45, Loss_test: 0.71, acc: 0.81, acc_test: 0.60\n",
      "Epoch: 519 Loss: 0.44, Loss_test: 0.70, acc: 0.80, acc_test: 0.61\n",
      "=> result saved!\n",
      "Epoch: 520 Loss: 0.41, Loss_test: 0.72, acc: 0.80, acc_test: 0.61\n",
      "Epoch: 521 Loss: 0.47, Loss_test: 0.72, acc: 0.77, acc_test: 0.59\n",
      "Epoch: 522 Loss: 0.42, Loss_test: 0.72, acc: 0.82, acc_test: 0.60\n",
      "Epoch: 523 Loss: 0.60, Loss_test: 0.71, acc: 0.69, acc_test: 0.59\n",
      "Epoch: 524 Loss: 0.48, Loss_test: 0.70, acc: 0.75, acc_test: 0.59\n",
      "Epoch: 525 Loss: 0.46, Loss_test: 0.71, acc: 0.80, acc_test: 0.59\n",
      "Epoch: 526 Loss: 0.39, Loss_test: 0.72, acc: 0.80, acc_test: 0.56\n",
      "Epoch: 527 Loss: 0.50, Loss_test: 0.73, acc: 0.75, acc_test: 0.58\n",
      "Epoch: 528 Loss: 0.45, Loss_test: 0.73, acc: 0.77, acc_test: 0.58\n",
      "Epoch: 529 Loss: 0.51, Loss_test: 0.72, acc: 0.73, acc_test: 0.57\n",
      "=> result saved!\n",
      "Epoch: 530 Loss: 0.47, Loss_test: 0.71, acc: 0.74, acc_test: 0.59\n",
      "Epoch: 531 Loss: 0.46, Loss_test: 0.71, acc: 0.80, acc_test: 0.58\n",
      "Epoch: 532 Loss: 0.42, Loss_test: 0.71, acc: 0.81, acc_test: 0.59\n",
      "Epoch: 533 Loss: 0.47, Loss_test: 0.71, acc: 0.74, acc_test: 0.59\n",
      "Epoch: 534 Loss: 0.42, Loss_test: 0.70, acc: 0.81, acc_test: 0.59\n",
      "Epoch: 535 Loss: 0.48, Loss_test: 0.69, acc: 0.77, acc_test: 0.61\n",
      "Epoch: 536 Loss: 0.50, Loss_test: 0.69, acc: 0.74, acc_test: 0.62\n",
      "Epoch: 537 Loss: 0.60, Loss_test: 0.70, acc: 0.69, acc_test: 0.61\n",
      "Epoch: 538 Loss: 0.53, Loss_test: 0.68, acc: 0.71, acc_test: 0.62\n",
      "Epoch: 539 Loss: 0.49, Loss_test: 0.67, acc: 0.73, acc_test: 0.61\n",
      "=> result saved!\n",
      "Epoch: 540 Loss: 0.43, Loss_test: 0.69, acc: 0.79, acc_test: 0.60\n",
      "Epoch: 541 Loss: 0.43, Loss_test: 0.70, acc: 0.80, acc_test: 0.59\n",
      "Epoch: 542 Loss: 0.55, Loss_test: 0.68, acc: 0.70, acc_test: 0.60\n",
      "Epoch: 543 Loss: 0.50, Loss_test: 0.66, acc: 0.69, acc_test: 0.60\n",
      "Epoch: 544 Loss: 0.44, Loss_test: 0.69, acc: 0.80, acc_test: 0.61\n",
      "Epoch: 545 Loss: 0.52, Loss_test: 0.72, acc: 0.73, acc_test: 0.57\n",
      "Epoch: 546 Loss: 0.46, Loss_test: 0.71, acc: 0.76, acc_test: 0.58\n",
      "Epoch: 547 Loss: 0.42, Loss_test: 0.68, acc: 0.81, acc_test: 0.61\n",
      "Epoch: 548 Loss: 0.52, Loss_test: 0.67, acc: 0.70, acc_test: 0.62\n",
      "Epoch: 549 Loss: 0.46, Loss_test: 0.70, acc: 0.77, acc_test: 0.59\n",
      "=> result saved!\n",
      "Epoch: 550 Loss: 0.49, Loss_test: 0.69, acc: 0.73, acc_test: 0.62\n",
      "Epoch: 551 Loss: 0.51, Loss_test: 0.67, acc: 0.73, acc_test: 0.59\n",
      "Epoch: 552 Loss: 0.46, Loss_test: 0.69, acc: 0.80, acc_test: 0.61\n",
      "Epoch: 553 Loss: 0.45, Loss_test: 0.70, acc: 0.77, acc_test: 0.58\n",
      "Epoch: 554 Loss: 0.48, Loss_test: 0.69, acc: 0.74, acc_test: 0.61\n",
      "Epoch: 555 Loss: 0.40, Loss_test: 0.67, acc: 0.83, acc_test: 0.60\n",
      "Epoch: 556 Loss: 0.44, Loss_test: 0.68, acc: 0.80, acc_test: 0.63\n",
      "Epoch: 557 Loss: 0.45, Loss_test: 0.72, acc: 0.77, acc_test: 0.61\n",
      "Epoch: 558 Loss: 0.49, Loss_test: 0.71, acc: 0.79, acc_test: 0.62\n",
      "Epoch: 559 Loss: 0.49, Loss_test: 0.68, acc: 0.77, acc_test: 0.63\n",
      "=> result saved!\n",
      "Epoch: 560 Loss: 0.44, Loss_test: 0.67, acc: 0.77, acc_test: 0.61\n",
      "Epoch: 561 Loss: 0.45, Loss_test: 0.68, acc: 0.80, acc_test: 0.61\n",
      "Epoch: 562 Loss: 0.52, Loss_test: 0.67, acc: 0.72, acc_test: 0.62\n",
      "Epoch: 563 Loss: 0.47, Loss_test: 0.67, acc: 0.73, acc_test: 0.62\n",
      "Epoch: 564 Loss: 0.46, Loss_test: 0.67, acc: 0.75, acc_test: 0.61\n",
      "Epoch: 565 Loss: 0.46, Loss_test: 0.70, acc: 0.78, acc_test: 0.61\n",
      "Epoch: 566 Loss: 0.51, Loss_test: 0.69, acc: 0.72, acc_test: 0.61\n",
      "Epoch: 567 Loss: 0.50, Loss_test: 0.67, acc: 0.73, acc_test: 0.62\n",
      "Epoch: 568 Loss: 0.41, Loss_test: 0.70, acc: 0.78, acc_test: 0.60\n",
      "Epoch: 569 Loss: 0.51, Loss_test: 0.71, acc: 0.71, acc_test: 0.59\n",
      "=> result saved!\n",
      "Epoch: 570 Loss: 0.56, Loss_test: 0.68, acc: 0.70, acc_test: 0.61\n",
      "Epoch: 571 Loss: 0.46, Loss_test: 0.69, acc: 0.77, acc_test: 0.59\n",
      "Epoch: 572 Loss: 0.51, Loss_test: 0.72, acc: 0.74, acc_test: 0.61\n",
      "Epoch: 573 Loss: 0.44, Loss_test: 0.73, acc: 0.77, acc_test: 0.59\n",
      "Epoch: 574 Loss: 0.53, Loss_test: 0.70, acc: 0.70, acc_test: 0.60\n",
      "Epoch: 575 Loss: 0.42, Loss_test: 0.68, acc: 0.84, acc_test: 0.59\n",
      "Epoch: 576 Loss: 0.47, Loss_test: 0.68, acc: 0.73, acc_test: 0.59\n",
      "Epoch: 577 Loss: 0.44, Loss_test: 0.68, acc: 0.75, acc_test: 0.59\n",
      "Epoch: 578 Loss: 0.46, Loss_test: 0.68, acc: 0.75, acc_test: 0.59\n",
      "Epoch: 579 Loss: 0.44, Loss_test: 0.69, acc: 0.77, acc_test: 0.60\n",
      "=> result saved!\n",
      "Epoch: 580 Loss: 0.46, Loss_test: 0.69, acc: 0.77, acc_test: 0.59\n",
      "Epoch: 581 Loss: 0.52, Loss_test: 0.69, acc: 0.72, acc_test: 0.61\n",
      "Epoch: 582 Loss: 0.43, Loss_test: 0.69, acc: 0.80, acc_test: 0.60\n",
      "Epoch: 583 Loss: 0.45, Loss_test: 0.70, acc: 0.77, acc_test: 0.60\n",
      "Epoch: 584 Loss: 0.44, Loss_test: 0.71, acc: 0.79, acc_test: 0.59\n",
      "Epoch: 585 Loss: 0.52, Loss_test: 0.73, acc: 0.73, acc_test: 0.60\n",
      "Epoch: 586 Loss: 0.35, Loss_test: 0.72, acc: 0.85, acc_test: 0.59\n",
      "Epoch: 587 Loss: 0.43, Loss_test: 0.72, acc: 0.80, acc_test: 0.59\n",
      "Epoch: 588 Loss: 0.40, Loss_test: 0.74, acc: 0.82, acc_test: 0.57\n"
     ]
    },
    {
     "name": "stdout",
     "output_type": "stream",
     "text": [
      "Epoch: 589 Loss: 0.46, Loss_test: 0.77, acc: 0.77, acc_test: 0.59\n",
      "=> result saved!\n",
      "Epoch: 590 Loss: 0.52, Loss_test: 0.75, acc: 0.73, acc_test: 0.59\n",
      "Epoch: 591 Loss: 0.40, Loss_test: 0.73, acc: 0.85, acc_test: 0.60\n",
      "Epoch: 592 Loss: 0.47, Loss_test: 0.73, acc: 0.77, acc_test: 0.60\n",
      "Epoch: 593 Loss: 0.50, Loss_test: 0.73, acc: 0.75, acc_test: 0.59\n",
      "Epoch: 594 Loss: 0.42, Loss_test: 0.73, acc: 0.82, acc_test: 0.59\n",
      "Epoch: 595 Loss: 0.45, Loss_test: 0.72, acc: 0.78, acc_test: 0.59\n",
      "Epoch: 596 Loss: 0.47, Loss_test: 0.72, acc: 0.79, acc_test: 0.60\n",
      "Epoch: 597 Loss: 0.54, Loss_test: 0.73, acc: 0.73, acc_test: 0.59\n",
      "Epoch: 598 Loss: 0.41, Loss_test: 0.75, acc: 0.81, acc_test: 0.61\n",
      "Epoch: 599 Loss: 0.51, Loss_test: 0.75, acc: 0.72, acc_test: 0.59\n",
      "=> result saved!\n",
      "Epoch: 600 Loss: 0.53, Loss_test: 0.73, acc: 0.73, acc_test: 0.60\n",
      "Epoch: 601 Loss: 0.41, Loss_test: 0.73, acc: 0.80, acc_test: 0.59\n",
      "Epoch: 602 Loss: 0.48, Loss_test: 0.73, acc: 0.78, acc_test: 0.59\n",
      "Epoch: 603 Loss: 0.44, Loss_test: 0.72, acc: 0.76, acc_test: 0.60\n",
      "Epoch: 604 Loss: 0.49, Loss_test: 0.73, acc: 0.77, acc_test: 0.61\n",
      "Epoch: 605 Loss: 0.44, Loss_test: 0.72, acc: 0.76, acc_test: 0.60\n",
      "Epoch: 606 Loss: 0.53, Loss_test: 0.71, acc: 0.74, acc_test: 0.59\n",
      "Epoch: 607 Loss: 0.47, Loss_test: 0.70, acc: 0.78, acc_test: 0.60\n",
      "Epoch: 608 Loss: 0.40, Loss_test: 0.70, acc: 0.80, acc_test: 0.60\n",
      "Epoch: 609 Loss: 0.45, Loss_test: 0.72, acc: 0.80, acc_test: 0.61\n",
      "=> result saved!\n",
      "Epoch: 610 Loss: 0.38, Loss_test: 0.72, acc: 0.84, acc_test: 0.62\n",
      "Epoch: 611 Loss: 0.42, Loss_test: 0.70, acc: 0.80, acc_test: 0.60\n",
      "Epoch: 612 Loss: 0.43, Loss_test: 0.70, acc: 0.77, acc_test: 0.60\n",
      "Epoch: 613 Loss: 0.46, Loss_test: 0.70, acc: 0.75, acc_test: 0.60\n",
      "Epoch: 614 Loss: 0.40, Loss_test: 0.71, acc: 0.78, acc_test: 0.60\n",
      "Epoch: 615 Loss: 0.43, Loss_test: 0.73, acc: 0.77, acc_test: 0.63\n",
      "Epoch: 616 Loss: 0.48, Loss_test: 0.74, acc: 0.75, acc_test: 0.62\n",
      "Epoch: 617 Loss: 0.49, Loss_test: 0.73, acc: 0.74, acc_test: 0.62\n",
      "Epoch: 618 Loss: 0.39, Loss_test: 0.72, acc: 0.84, acc_test: 0.60\n",
      "Epoch: 619 Loss: 0.42, Loss_test: 0.72, acc: 0.76, acc_test: 0.61\n",
      "=> result saved!\n",
      "Epoch: 620 Loss: 0.40, Loss_test: 0.72, acc: 0.79, acc_test: 0.62\n",
      "Epoch: 621 Loss: 0.48, Loss_test: 0.72, acc: 0.76, acc_test: 0.62\n",
      "Epoch: 622 Loss: 0.46, Loss_test: 0.73, acc: 0.80, acc_test: 0.62\n",
      "Epoch: 623 Loss: 0.43, Loss_test: 0.73, acc: 0.79, acc_test: 0.62\n",
      "Epoch: 624 Loss: 0.46, Loss_test: 0.73, acc: 0.77, acc_test: 0.62\n",
      "Epoch: 625 Loss: 0.45, Loss_test: 0.72, acc: 0.74, acc_test: 0.62\n",
      "Epoch: 626 Loss: 0.32, Loss_test: 0.73, acc: 0.90, acc_test: 0.58\n",
      "Epoch: 627 Loss: 0.51, Loss_test: 0.75, acc: 0.76, acc_test: 0.58\n",
      "Epoch: 628 Loss: 0.40, Loss_test: 0.76, acc: 0.80, acc_test: 0.58\n",
      "Epoch: 629 Loss: 0.40, Loss_test: 0.76, acc: 0.82, acc_test: 0.58\n",
      "=> result saved!\n",
      "Epoch: 630 Loss: 0.45, Loss_test: 0.74, acc: 0.77, acc_test: 0.59\n",
      "Epoch: 631 Loss: 0.43, Loss_test: 0.74, acc: 0.79, acc_test: 0.59\n",
      "Epoch: 632 Loss: 0.47, Loss_test: 0.74, acc: 0.80, acc_test: 0.59\n",
      "Epoch: 633 Loss: 0.41, Loss_test: 0.74, acc: 0.80, acc_test: 0.59\n",
      "Epoch: 634 Loss: 0.41, Loss_test: 0.74, acc: 0.80, acc_test: 0.58\n",
      "Epoch: 635 Loss: 0.46, Loss_test: 0.73, acc: 0.77, acc_test: 0.59\n",
      "Epoch: 636 Loss: 0.46, Loss_test: 0.71, acc: 0.76, acc_test: 0.57\n",
      "Epoch: 637 Loss: 0.49, Loss_test: 0.78, acc: 0.73, acc_test: 0.58\n",
      "Epoch: 638 Loss: 0.44, Loss_test: 0.85, acc: 0.77, acc_test: 0.56\n",
      "Epoch: 639 Loss: 0.40, Loss_test: 0.87, acc: 0.81, acc_test: 0.56\n",
      "=> result saved!\n",
      "Epoch: 640 Loss: 0.46, Loss_test: 0.84, acc: 0.77, acc_test: 0.56\n",
      "Epoch: 641 Loss: 0.40, Loss_test: 0.78, acc: 0.85, acc_test: 0.59\n",
      "Epoch: 642 Loss: 0.47, Loss_test: 0.72, acc: 0.73, acc_test: 0.60\n",
      "Epoch: 643 Loss: 0.47, Loss_test: 0.75, acc: 0.77, acc_test: 0.60\n",
      "Epoch: 644 Loss: 0.53, Loss_test: 0.83, acc: 0.70, acc_test: 0.58\n",
      "Epoch: 645 Loss: 0.42, Loss_test: 0.89, acc: 0.79, acc_test: 0.57\n",
      "Epoch: 646 Loss: 0.39, Loss_test: 0.93, acc: 0.80, acc_test: 0.56\n",
      "Epoch: 647 Loss: 0.49, Loss_test: 0.90, acc: 0.77, acc_test: 0.56\n",
      "Epoch: 648 Loss: 0.42, Loss_test: 0.83, acc: 0.82, acc_test: 0.57\n",
      "Epoch: 649 Loss: 0.45, Loss_test: 0.76, acc: 0.80, acc_test: 0.61\n",
      "=> result saved!\n",
      "Epoch: 650 Loss: 0.43, Loss_test: 0.72, acc: 0.79, acc_test: 0.60\n",
      "Epoch: 651 Loss: 0.43, Loss_test: 0.71, acc: 0.79, acc_test: 0.59\n",
      "Epoch: 652 Loss: 0.39, Loss_test: 0.71, acc: 0.82, acc_test: 0.62\n",
      "Epoch: 653 Loss: 0.46, Loss_test: 0.71, acc: 0.79, acc_test: 0.62\n",
      "Epoch: 654 Loss: 0.39, Loss_test: 0.71, acc: 0.82, acc_test: 0.61\n",
      "Epoch: 655 Loss: 0.46, Loss_test: 0.71, acc: 0.75, acc_test: 0.60\n",
      "Epoch: 656 Loss: 0.49, Loss_test: 0.72, acc: 0.75, acc_test: 0.61\n",
      "Epoch: 657 Loss: 0.52, Loss_test: 0.72, acc: 0.72, acc_test: 0.61\n",
      "Epoch: 658 Loss: 0.41, Loss_test: 0.73, acc: 0.80, acc_test: 0.59\n",
      "Epoch: 659 Loss: 0.44, Loss_test: 0.72, acc: 0.80, acc_test: 0.59\n",
      "=> result saved!\n",
      "Epoch: 660 Loss: 0.39, Loss_test: 0.73, acc: 0.80, acc_test: 0.58\n",
      "Epoch: 661 Loss: 0.46, Loss_test: 0.73, acc: 0.77, acc_test: 0.58\n",
      "Epoch: 662 Loss: 0.41, Loss_test: 0.73, acc: 0.80, acc_test: 0.58\n",
      "Epoch: 663 Loss: 0.41, Loss_test: 0.73, acc: 0.83, acc_test: 0.59\n",
      "Epoch: 664 Loss: 0.42, Loss_test: 0.74, acc: 0.79, acc_test: 0.58\n",
      "Epoch: 665 Loss: 0.39, Loss_test: 0.75, acc: 0.83, acc_test: 0.59\n",
      "Epoch: 666 Loss: 0.43, Loss_test: 0.75, acc: 0.82, acc_test: 0.58\n",
      "Epoch: 667 Loss: 0.38, Loss_test: 0.76, acc: 0.83, acc_test: 0.58\n",
      "Epoch: 668 Loss: 0.50, Loss_test: 0.76, acc: 0.74, acc_test: 0.58\n",
      "Epoch: 669 Loss: 0.43, Loss_test: 0.77, acc: 0.75, acc_test: 0.58\n",
      "=> result saved!\n",
      "Epoch: 670 Loss: 0.35, Loss_test: 0.76, acc: 0.87, acc_test: 0.58\n",
      "Epoch: 671 Loss: 0.48, Loss_test: 0.76, acc: 0.79, acc_test: 0.58\n",
      "Epoch: 672 Loss: 0.39, Loss_test: 0.77, acc: 0.80, acc_test: 0.58\n",
      "Epoch: 673 Loss: 0.43, Loss_test: 0.76, acc: 0.83, acc_test: 0.57\n",
      "Epoch: 674 Loss: 0.44, Loss_test: 0.77, acc: 0.82, acc_test: 0.57\n",
      "Epoch: 675 Loss: 0.44, Loss_test: 0.78, acc: 0.72, acc_test: 0.57\n",
      "Epoch: 676 Loss: 0.41, Loss_test: 0.81, acc: 0.83, acc_test: 0.57\n",
      "Epoch: 677 Loss: 0.41, Loss_test: 0.87, acc: 0.81, acc_test: 0.55\n",
      "Epoch: 678 Loss: 0.42, Loss_test: 0.93, acc: 0.78, acc_test: 0.57\n",
      "Epoch: 679 Loss: 0.45, Loss_test: 0.96, acc: 0.80, acc_test: 0.58\n",
      "=> result saved!\n",
      "Epoch: 680 Loss: 0.46, Loss_test: 0.92, acc: 0.73, acc_test: 0.56\n",
      "Epoch: 681 Loss: 0.41, Loss_test: 0.85, acc: 0.84, acc_test: 0.55\n",
      "Epoch: 682 Loss: 0.42, Loss_test: 0.81, acc: 0.81, acc_test: 0.56\n",
      "Epoch: 683 Loss: 0.39, Loss_test: 0.81, acc: 0.80, acc_test: 0.57\n",
      "Epoch: 684 Loss: 0.47, Loss_test: 0.81, acc: 0.72, acc_test: 0.55\n",
      "Epoch: 685 Loss: 0.46, Loss_test: 0.84, acc: 0.83, acc_test: 0.55\n",
      "Epoch: 686 Loss: 0.52, Loss_test: 0.84, acc: 0.75, acc_test: 0.57\n",
      "Epoch: 687 Loss: 0.43, Loss_test: 0.81, acc: 0.79, acc_test: 0.56\n",
      "Epoch: 688 Loss: 0.45, Loss_test: 0.79, acc: 0.80, acc_test: 0.54\n",
      "Epoch: 689 Loss: 0.48, Loss_test: 0.79, acc: 0.74, acc_test: 0.57\n",
      "=> result saved!\n",
      "Epoch: 690 Loss: 0.46, Loss_test: 0.81, acc: 0.75, acc_test: 0.55\n",
      "Epoch: 691 Loss: 0.51, Loss_test: 0.86, acc: 0.72, acc_test: 0.56\n",
      "Epoch: 692 Loss: 0.53, Loss_test: 0.88, acc: 0.70, acc_test: 0.55\n",
      "Epoch: 693 Loss: 0.53, Loss_test: 0.87, acc: 0.70, acc_test: 0.57\n",
      "Epoch: 694 Loss: 0.38, Loss_test: 0.86, acc: 0.83, acc_test: 0.57\n",
      "Epoch: 695 Loss: 0.44, Loss_test: 0.79, acc: 0.77, acc_test: 0.57\n",
      "Epoch: 696 Loss: 0.45, Loss_test: 0.73, acc: 0.80, acc_test: 0.58\n",
      "Epoch: 697 Loss: 0.43, Loss_test: 0.72, acc: 0.80, acc_test: 0.59\n",
      "Epoch: 698 Loss: 0.50, Loss_test: 0.73, acc: 0.73, acc_test: 0.59\n",
      "Epoch: 699 Loss: 0.40, Loss_test: 0.74, acc: 0.88, acc_test: 0.59\n",
      "=> result saved!\n",
      "Epoch: 700 Loss: 0.45, Loss_test: 0.74, acc: 0.77, acc_test: 0.57\n",
      "Epoch: 701 Loss: 0.47, Loss_test: 0.73, acc: 0.75, acc_test: 0.58\n",
      "Epoch: 702 Loss: 0.44, Loss_test: 0.74, acc: 0.77, acc_test: 0.57\n",
      "Epoch: 703 Loss: 0.44, Loss_test: 0.74, acc: 0.77, acc_test: 0.57\n",
      "Epoch: 704 Loss: 0.37, Loss_test: 0.74, acc: 0.83, acc_test: 0.58\n",
      "Epoch: 705 Loss: 0.35, Loss_test: 0.76, acc: 0.85, acc_test: 0.58\n",
      "Epoch: 706 Loss: 0.40, Loss_test: 0.77, acc: 0.83, acc_test: 0.59\n",
      "Epoch: 707 Loss: 0.45, Loss_test: 0.76, acc: 0.73, acc_test: 0.58\n",
      "Epoch: 708 Loss: 0.40, Loss_test: 0.75, acc: 0.77, acc_test: 0.59\n",
      "Epoch: 709 Loss: 0.37, Loss_test: 0.77, acc: 0.80, acc_test: 0.59\n",
      "=> result saved!\n",
      "Epoch: 710 Loss: 0.41, Loss_test: 0.77, acc: 0.80, acc_test: 0.59\n"
     ]
    },
    {
     "name": "stdout",
     "output_type": "stream",
     "text": [
      "Epoch: 711 Loss: 0.41, Loss_test: 0.76, acc: 0.80, acc_test: 0.57\n",
      "Epoch: 712 Loss: 0.43, Loss_test: 0.75, acc: 0.79, acc_test: 0.57\n",
      "Epoch: 713 Loss: 0.59, Loss_test: 0.75, acc: 0.66, acc_test: 0.58\n",
      "Epoch: 714 Loss: 0.37, Loss_test: 0.75, acc: 0.83, acc_test: 0.59\n",
      "Epoch: 715 Loss: 0.38, Loss_test: 0.74, acc: 0.80, acc_test: 0.57\n",
      "Epoch: 716 Loss: 0.37, Loss_test: 0.74, acc: 0.80, acc_test: 0.59\n",
      "Epoch: 717 Loss: 0.45, Loss_test: 0.74, acc: 0.78, acc_test: 0.59\n",
      "Epoch: 718 Loss: 0.37, Loss_test: 0.74, acc: 0.83, acc_test: 0.58\n",
      "Epoch: 719 Loss: 0.52, Loss_test: 0.74, acc: 0.73, acc_test: 0.60\n",
      "=> result saved!\n",
      "Epoch: 720 Loss: 0.37, Loss_test: 0.74, acc: 0.81, acc_test: 0.62\n",
      "Epoch: 721 Loss: 0.42, Loss_test: 0.74, acc: 0.84, acc_test: 0.61\n",
      "Epoch: 722 Loss: 0.42, Loss_test: 0.73, acc: 0.78, acc_test: 0.59\n",
      "Epoch: 723 Loss: 0.39, Loss_test: 0.72, acc: 0.84, acc_test: 0.60\n",
      "Epoch: 724 Loss: 0.43, Loss_test: 0.73, acc: 0.80, acc_test: 0.61\n",
      "Epoch: 725 Loss: 0.36, Loss_test: 0.74, acc: 0.84, acc_test: 0.60\n",
      "Epoch: 726 Loss: 0.46, Loss_test: 0.75, acc: 0.82, acc_test: 0.61\n",
      "Epoch: 727 Loss: 0.46, Loss_test: 0.72, acc: 0.77, acc_test: 0.61\n",
      "Epoch: 728 Loss: 0.49, Loss_test: 0.71, acc: 0.76, acc_test: 0.62\n",
      "Epoch: 729 Loss: 0.35, Loss_test: 0.71, acc: 0.85, acc_test: 0.61\n",
      "=> result saved!\n",
      "Epoch: 730 Loss: 0.42, Loss_test: 0.71, acc: 0.77, acc_test: 0.61\n",
      "Epoch: 731 Loss: 0.39, Loss_test: 0.71, acc: 0.82, acc_test: 0.62\n",
      "Epoch: 732 Loss: 0.44, Loss_test: 0.72, acc: 0.75, acc_test: 0.62\n",
      "Epoch: 733 Loss: 0.39, Loss_test: 0.73, acc: 0.84, acc_test: 0.62\n",
      "Epoch: 734 Loss: 0.47, Loss_test: 0.72, acc: 0.77, acc_test: 0.61\n",
      "Epoch: 735 Loss: 0.39, Loss_test: 0.73, acc: 0.81, acc_test: 0.60\n",
      "Epoch: 736 Loss: 0.41, Loss_test: 0.75, acc: 0.84, acc_test: 0.62\n",
      "Epoch: 737 Loss: 0.42, Loss_test: 0.74, acc: 0.77, acc_test: 0.61\n",
      "Epoch: 738 Loss: 0.41, Loss_test: 0.73, acc: 0.81, acc_test: 0.60\n",
      "Epoch: 739 Loss: 0.52, Loss_test: 0.74, acc: 0.70, acc_test: 0.59\n",
      "=> result saved!\n",
      "Epoch: 740 Loss: 0.48, Loss_test: 0.73, acc: 0.73, acc_test: 0.59\n",
      "Epoch: 741 Loss: 0.45, Loss_test: 0.73, acc: 0.80, acc_test: 0.59\n",
      "Epoch: 742 Loss: 0.40, Loss_test: 0.74, acc: 0.82, acc_test: 0.61\n",
      "Epoch: 743 Loss: 0.49, Loss_test: 0.73, acc: 0.72, acc_test: 0.59\n",
      "Epoch: 744 Loss: 0.42, Loss_test: 0.74, acc: 0.78, acc_test: 0.59\n",
      "Epoch: 745 Loss: 0.40, Loss_test: 0.74, acc: 0.83, acc_test: 0.59\n",
      "Epoch: 746 Loss: 0.39, Loss_test: 0.74, acc: 0.81, acc_test: 0.59\n",
      "Epoch: 747 Loss: 0.42, Loss_test: 0.76, acc: 0.84, acc_test: 0.57\n",
      "Epoch: 748 Loss: 0.44, Loss_test: 0.76, acc: 0.78, acc_test: 0.59\n",
      "Epoch: 749 Loss: 0.41, Loss_test: 0.74, acc: 0.80, acc_test: 0.59\n",
      "=> result saved!\n",
      "Epoch: 750 Loss: 0.43, Loss_test: 0.74, acc: 0.77, acc_test: 0.59\n",
      "Epoch: 751 Loss: 0.37, Loss_test: 0.74, acc: 0.85, acc_test: 0.58\n",
      "Epoch: 752 Loss: 0.47, Loss_test: 0.74, acc: 0.75, acc_test: 0.59\n",
      "Epoch: 753 Loss: 0.44, Loss_test: 0.81, acc: 0.79, acc_test: 0.58\n",
      "Epoch: 754 Loss: 0.47, Loss_test: 0.79, acc: 0.76, acc_test: 0.59\n",
      "Epoch: 755 Loss: 0.43, Loss_test: 0.77, acc: 0.82, acc_test: 0.59\n",
      "Epoch: 756 Loss: 0.35, Loss_test: 0.78, acc: 0.84, acc_test: 0.59\n",
      "Epoch: 757 Loss: 0.43, Loss_test: 0.74, acc: 0.77, acc_test: 0.59\n",
      "Epoch: 758 Loss: 0.42, Loss_test: 0.74, acc: 0.79, acc_test: 0.59\n",
      "Epoch: 759 Loss: 0.44, Loss_test: 0.77, acc: 0.82, acc_test: 0.58\n",
      "=> result saved!\n",
      "Epoch: 760 Loss: 0.42, Loss_test: 0.83, acc: 0.80, acc_test: 0.59\n",
      "Epoch: 761 Loss: 0.43, Loss_test: 0.80, acc: 0.81, acc_test: 0.59\n",
      "Epoch: 762 Loss: 0.41, Loss_test: 0.77, acc: 0.81, acc_test: 0.60\n",
      "Epoch: 763 Loss: 0.35, Loss_test: 0.75, acc: 0.81, acc_test: 0.61\n",
      "Epoch: 764 Loss: 0.44, Loss_test: 0.75, acc: 0.78, acc_test: 0.59\n",
      "Epoch: 765 Loss: 0.36, Loss_test: 0.77, acc: 0.84, acc_test: 0.57\n",
      "Epoch: 766 Loss: 0.40, Loss_test: 0.85, acc: 0.82, acc_test: 0.59\n",
      "Epoch: 767 Loss: 0.45, Loss_test: 0.83, acc: 0.77, acc_test: 0.58\n",
      "Epoch: 768 Loss: 0.48, Loss_test: 0.76, acc: 0.75, acc_test: 0.59\n",
      "Epoch: 769 Loss: 0.43, Loss_test: 0.82, acc: 0.79, acc_test: 0.58\n",
      "=> result saved!\n",
      "Epoch: 770 Loss: 0.50, Loss_test: 0.86, acc: 0.75, acc_test: 0.57\n",
      "Epoch: 771 Loss: 0.46, Loss_test: 0.81, acc: 0.78, acc_test: 0.57\n",
      "Epoch: 772 Loss: 0.41, Loss_test: 0.78, acc: 0.75, acc_test: 0.58\n",
      "Epoch: 773 Loss: 0.43, Loss_test: 0.81, acc: 0.86, acc_test: 0.57\n",
      "Epoch: 774 Loss: 0.41, Loss_test: 0.84, acc: 0.80, acc_test: 0.55\n",
      "Epoch: 775 Loss: 0.40, Loss_test: 0.85, acc: 0.82, acc_test: 0.55\n",
      "Epoch: 776 Loss: 0.41, Loss_test: 0.84, acc: 0.79, acc_test: 0.56\n",
      "Epoch: 777 Loss: 0.43, Loss_test: 0.82, acc: 0.76, acc_test: 0.56\n",
      "Epoch: 778 Loss: 0.38, Loss_test: 0.86, acc: 0.80, acc_test: 0.54\n",
      "Epoch: 779 Loss: 0.39, Loss_test: 0.89, acc: 0.81, acc_test: 0.55\n",
      "=> result saved!\n",
      "Epoch: 780 Loss: 0.36, Loss_test: 0.94, acc: 0.84, acc_test: 0.56\n",
      "Epoch: 781 Loss: 0.52, Loss_test: 0.90, acc: 0.73, acc_test: 0.57\n",
      "Epoch: 782 Loss: 0.46, Loss_test: 0.83, acc: 0.82, acc_test: 0.57\n",
      "Epoch: 783 Loss: 0.38, Loss_test: 0.77, acc: 0.82, acc_test: 0.56\n",
      "Epoch: 784 Loss: 0.43, Loss_test: 0.75, acc: 0.80, acc_test: 0.58\n",
      "Epoch: 785 Loss: 0.45, Loss_test: 0.76, acc: 0.78, acc_test: 0.58\n",
      "Epoch: 786 Loss: 0.47, Loss_test: 0.75, acc: 0.76, acc_test: 0.59\n",
      "Epoch: 787 Loss: 0.40, Loss_test: 0.76, acc: 0.80, acc_test: 0.57\n",
      "Epoch: 788 Loss: 0.44, Loss_test: 0.75, acc: 0.78, acc_test: 0.57\n",
      "Epoch: 789 Loss: 0.45, Loss_test: 0.74, acc: 0.80, acc_test: 0.59\n",
      "=> result saved!\n",
      "Epoch: 790 Loss: 0.43, Loss_test: 0.74, acc: 0.81, acc_test: 0.56\n",
      "Epoch: 791 Loss: 0.44, Loss_test: 0.73, acc: 0.79, acc_test: 0.58\n",
      "Epoch: 792 Loss: 0.41, Loss_test: 0.72, acc: 0.77, acc_test: 0.57\n",
      "Epoch: 793 Loss: 0.48, Loss_test: 0.73, acc: 0.75, acc_test: 0.57\n",
      "Epoch: 794 Loss: 0.37, Loss_test: 0.75, acc: 0.84, acc_test: 0.55\n",
      "Epoch: 795 Loss: 0.47, Loss_test: 0.75, acc: 0.75, acc_test: 0.55\n",
      "Epoch: 796 Loss: 0.51, Loss_test: 0.72, acc: 0.73, acc_test: 0.57\n",
      "Epoch: 797 Loss: 0.38, Loss_test: 0.70, acc: 0.83, acc_test: 0.58\n",
      "Epoch: 798 Loss: 0.55, Loss_test: 0.70, acc: 0.72, acc_test: 0.59\n",
      "Epoch: 799 Loss: 0.43, Loss_test: 0.71, acc: 0.80, acc_test: 0.56\n",
      "=> result saved!\n",
      "Epoch: 800 Loss: 0.47, Loss_test: 0.71, acc: 0.80, acc_test: 0.59\n",
      "Epoch: 801 Loss: 0.43, Loss_test: 0.70, acc: 0.77, acc_test: 0.57\n",
      "Epoch: 802 Loss: 0.39, Loss_test: 0.69, acc: 0.84, acc_test: 0.58\n",
      "Epoch: 803 Loss: 0.39, Loss_test: 0.69, acc: 0.80, acc_test: 0.57\n",
      "Epoch: 804 Loss: 0.39, Loss_test: 0.70, acc: 0.83, acc_test: 0.58\n",
      "Epoch: 805 Loss: 0.38, Loss_test: 0.70, acc: 0.84, acc_test: 0.58\n",
      "Epoch: 806 Loss: 0.36, Loss_test: 0.70, acc: 0.81, acc_test: 0.59\n",
      "Epoch: 807 Loss: 0.39, Loss_test: 0.72, acc: 0.82, acc_test: 0.61\n",
      "Epoch: 808 Loss: 0.38, Loss_test: 0.75, acc: 0.85, acc_test: 0.61\n",
      "Epoch: 809 Loss: 0.37, Loss_test: 0.77, acc: 0.81, acc_test: 0.61\n",
      "=> result saved!\n",
      "Epoch: 810 Loss: 0.43, Loss_test: 0.77, acc: 0.76, acc_test: 0.60\n",
      "Epoch: 811 Loss: 0.46, Loss_test: 0.75, acc: 0.73, acc_test: 0.60\n",
      "Epoch: 812 Loss: 0.44, Loss_test: 0.76, acc: 0.80, acc_test: 0.60\n",
      "Epoch: 813 Loss: 0.51, Loss_test: 0.78, acc: 0.76, acc_test: 0.62\n",
      "Epoch: 814 Loss: 0.42, Loss_test: 0.77, acc: 0.81, acc_test: 0.61\n",
      "Epoch: 815 Loss: 0.39, Loss_test: 0.76, acc: 0.80, acc_test: 0.61\n",
      "Epoch: 816 Loss: 0.38, Loss_test: 0.77, acc: 0.82, acc_test: 0.59\n",
      "Epoch: 817 Loss: 0.50, Loss_test: 0.79, acc: 0.72, acc_test: 0.59\n",
      "Epoch: 818 Loss: 0.53, Loss_test: 0.80, acc: 0.77, acc_test: 0.59\n",
      "Epoch: 819 Loss: 0.36, Loss_test: 0.79, acc: 0.84, acc_test: 0.57\n",
      "=> result saved!\n",
      "Epoch: 820 Loss: 0.47, Loss_test: 0.79, acc: 0.73, acc_test: 0.55\n",
      "Epoch: 821 Loss: 0.47, Loss_test: 0.92, acc: 0.79, acc_test: 0.57\n",
      "Epoch: 822 Loss: 0.40, Loss_test: 1.00, acc: 0.81, acc_test: 0.57\n",
      "Epoch: 823 Loss: 0.49, Loss_test: 0.97, acc: 0.74, acc_test: 0.57\n",
      "Epoch: 824 Loss: 0.47, Loss_test: 0.84, acc: 0.75, acc_test: 0.56\n",
      "Epoch: 825 Loss: 0.45, Loss_test: 0.74, acc: 0.80, acc_test: 0.58\n",
      "Epoch: 826 Loss: 0.45, Loss_test: 0.72, acc: 0.80, acc_test: 0.59\n",
      "Epoch: 827 Loss: 0.44, Loss_test: 0.71, acc: 0.77, acc_test: 0.60\n",
      "Epoch: 828 Loss: 0.39, Loss_test: 0.70, acc: 0.83, acc_test: 0.62\n",
      "Epoch: 829 Loss: 0.44, Loss_test: 0.69, acc: 0.77, acc_test: 0.61\n",
      "=> result saved!\n",
      "Epoch: 830 Loss: 0.49, Loss_test: 0.68, acc: 0.74, acc_test: 0.62\n",
      "Epoch: 831 Loss: 0.42, Loss_test: 0.68, acc: 0.80, acc_test: 0.64\n",
      "Epoch: 832 Loss: 0.42, Loss_test: 0.76, acc: 0.79, acc_test: 0.57\n"
     ]
    },
    {
     "name": "stdout",
     "output_type": "stream",
     "text": [
      "Epoch: 833 Loss: 0.42, Loss_test: 0.80, acc: 0.80, acc_test: 0.57\n",
      "Epoch: 834 Loss: 0.40, Loss_test: 0.78, acc: 0.80, acc_test: 0.56\n",
      "Epoch: 835 Loss: 0.37, Loss_test: 0.71, acc: 0.82, acc_test: 0.62\n",
      "Epoch: 836 Loss: 0.37, Loss_test: 0.69, acc: 0.83, acc_test: 0.62\n",
      "Epoch: 837 Loss: 0.46, Loss_test: 0.70, acc: 0.77, acc_test: 0.61\n",
      "Epoch: 838 Loss: 0.42, Loss_test: 0.70, acc: 0.79, acc_test: 0.58\n",
      "Epoch: 839 Loss: 0.44, Loss_test: 0.70, acc: 0.77, acc_test: 0.59\n",
      "=> result saved!\n",
      "Epoch: 840 Loss: 0.35, Loss_test: 0.72, acc: 0.89, acc_test: 0.60\n",
      "Epoch: 841 Loss: 0.45, Loss_test: 0.73, acc: 0.78, acc_test: 0.59\n",
      "Epoch: 842 Loss: 0.37, Loss_test: 0.73, acc: 0.84, acc_test: 0.57\n",
      "Epoch: 843 Loss: 0.42, Loss_test: 0.75, acc: 0.77, acc_test: 0.57\n",
      "Epoch: 844 Loss: 0.38, Loss_test: 0.77, acc: 0.81, acc_test: 0.55\n",
      "Epoch: 845 Loss: 0.30, Loss_test: 0.79, acc: 0.89, acc_test: 0.56\n",
      "Epoch: 846 Loss: 0.45, Loss_test: 0.78, acc: 0.81, acc_test: 0.55\n",
      "Epoch: 847 Loss: 0.39, Loss_test: 0.76, acc: 0.81, acc_test: 0.56\n",
      "Epoch: 848 Loss: 0.42, Loss_test: 0.75, acc: 0.79, acc_test: 0.57\n",
      "Epoch: 849 Loss: 0.44, Loss_test: 0.75, acc: 0.77, acc_test: 0.57\n",
      "=> result saved!\n",
      "Epoch: 850 Loss: 0.41, Loss_test: 0.77, acc: 0.80, acc_test: 0.56\n",
      "Epoch: 851 Loss: 0.51, Loss_test: 0.81, acc: 0.78, acc_test: 0.56\n",
      "Epoch: 852 Loss: 0.45, Loss_test: 0.80, acc: 0.78, acc_test: 0.56\n",
      "Epoch: 853 Loss: 0.41, Loss_test: 0.77, acc: 0.80, acc_test: 0.56\n",
      "Epoch: 854 Loss: 0.47, Loss_test: 0.74, acc: 0.76, acc_test: 0.57\n",
      "Epoch: 855 Loss: 0.41, Loss_test: 0.74, acc: 0.80, acc_test: 0.56\n",
      "Epoch: 856 Loss: 0.38, Loss_test: 0.75, acc: 0.79, acc_test: 0.56\n",
      "Epoch: 857 Loss: 0.37, Loss_test: 0.74, acc: 0.82, acc_test: 0.57\n",
      "Epoch: 858 Loss: 0.45, Loss_test: 0.75, acc: 0.81, acc_test: 0.56\n",
      "Epoch: 859 Loss: 0.41, Loss_test: 0.74, acc: 0.80, acc_test: 0.57\n",
      "=> result saved!\n",
      "Epoch: 860 Loss: 0.42, Loss_test: 0.72, acc: 0.82, acc_test: 0.59\n",
      "Epoch: 861 Loss: 0.38, Loss_test: 0.71, acc: 0.80, acc_test: 0.59\n",
      "Epoch: 862 Loss: 0.47, Loss_test: 0.71, acc: 0.80, acc_test: 0.61\n",
      "Epoch: 863 Loss: 0.46, Loss_test: 0.70, acc: 0.79, acc_test: 0.59\n",
      "Epoch: 864 Loss: 0.41, Loss_test: 0.71, acc: 0.83, acc_test: 0.58\n",
      "Epoch: 865 Loss: 0.44, Loss_test: 0.71, acc: 0.78, acc_test: 0.59\n",
      "Epoch: 866 Loss: 0.43, Loss_test: 0.71, acc: 0.78, acc_test: 0.59\n",
      "Epoch: 867 Loss: 0.45, Loss_test: 0.71, acc: 0.80, acc_test: 0.57\n",
      "Epoch: 868 Loss: 0.44, Loss_test: 0.70, acc: 0.83, acc_test: 0.57\n",
      "Epoch: 869 Loss: 0.40, Loss_test: 0.70, acc: 0.80, acc_test: 0.57\n",
      "=> result saved!\n",
      "Epoch: 870 Loss: 0.35, Loss_test: 0.72, acc: 0.83, acc_test: 0.59\n",
      "Epoch: 871 Loss: 0.38, Loss_test: 0.77, acc: 0.83, acc_test: 0.59\n",
      "Epoch: 872 Loss: 0.38, Loss_test: 0.83, acc: 0.86, acc_test: 0.59\n",
      "Epoch: 873 Loss: 0.55, Loss_test: 0.78, acc: 0.69, acc_test: 0.59\n",
      "Epoch: 874 Loss: 0.31, Loss_test: 0.73, acc: 0.89, acc_test: 0.59\n",
      "Epoch: 875 Loss: 0.39, Loss_test: 0.73, acc: 0.82, acc_test: 0.55\n",
      "Epoch: 876 Loss: 0.38, Loss_test: 0.77, acc: 0.80, acc_test: 0.55\n",
      "Epoch: 877 Loss: 0.45, Loss_test: 0.78, acc: 0.77, acc_test: 0.57\n",
      "Epoch: 878 Loss: 0.40, Loss_test: 0.77, acc: 0.83, acc_test: 0.57\n",
      "Epoch: 879 Loss: 0.37, Loss_test: 0.79, acc: 0.78, acc_test: 0.56\n",
      "=> result saved!\n",
      "Epoch: 880 Loss: 0.43, Loss_test: 0.82, acc: 0.80, acc_test: 0.56\n",
      "Epoch: 881 Loss: 0.36, Loss_test: 0.84, acc: 0.82, acc_test: 0.56\n",
      "Epoch: 882 Loss: 0.46, Loss_test: 0.88, acc: 0.76, acc_test: 0.57\n",
      "Epoch: 883 Loss: 0.36, Loss_test: 0.94, acc: 0.82, acc_test: 0.56\n",
      "Epoch: 884 Loss: 0.39, Loss_test: 1.00, acc: 0.82, acc_test: 0.55\n",
      "Epoch: 885 Loss: 0.45, Loss_test: 0.92, acc: 0.74, acc_test: 0.56\n",
      "Epoch: 886 Loss: 0.45, Loss_test: 0.85, acc: 0.77, acc_test: 0.54\n",
      "Epoch: 887 Loss: 0.48, Loss_test: 0.81, acc: 0.77, acc_test: 0.55\n",
      "Epoch: 888 Loss: 0.34, Loss_test: 0.80, acc: 0.86, acc_test: 0.55\n",
      "Epoch: 889 Loss: 0.40, Loss_test: 0.85, acc: 0.84, acc_test: 0.55\n",
      "=> result saved!\n",
      "Epoch: 890 Loss: 0.38, Loss_test: 0.97, acc: 0.83, acc_test: 0.57\n",
      "Epoch: 891 Loss: 0.44, Loss_test: 1.07, acc: 0.75, acc_test: 0.57\n",
      "Epoch: 892 Loss: 0.37, Loss_test: 1.02, acc: 0.83, acc_test: 0.57\n",
      "Epoch: 893 Loss: 0.50, Loss_test: 0.91, acc: 0.75, acc_test: 0.56\n",
      "Epoch: 894 Loss: 0.43, Loss_test: 0.83, acc: 0.77, acc_test: 0.55\n",
      "Epoch: 895 Loss: 0.41, Loss_test: 0.77, acc: 0.79, acc_test: 0.55\n",
      "Epoch: 896 Loss: 0.45, Loss_test: 0.76, acc: 0.77, acc_test: 0.55\n",
      "Epoch: 897 Loss: 0.37, Loss_test: 0.74, acc: 0.83, acc_test: 0.57\n",
      "Epoch: 898 Loss: 0.43, Loss_test: 0.74, acc: 0.84, acc_test: 0.57\n",
      "Epoch: 899 Loss: 0.45, Loss_test: 0.71, acc: 0.77, acc_test: 0.58\n",
      "=> result saved!\n",
      "Epoch: 900 Loss: 0.38, Loss_test: 0.69, acc: 0.81, acc_test: 0.61\n"
     ]
    }
   ],
   "source": [
    "end_train = epochs - limit_train\n",
    "for epoch in range(limit_train, end_train):\n",
    "    batch_triplet_train, \\\n",
    "        train_input_sample, train_input_pos, train_input_neg, \\\n",
    "            train_sim = experiment.batch_iterator(None, baseline.train_data, baseline.dup_sets_train, \n",
    "                                                  bug_train_ids, batch_size, 1, issues_by_buckets, TRIPLET_HARD=False)\n",
    "    \n",
    "    num_batch = train_input_sample['title'].shape[0]\n",
    "    pos = np.full((1, num_batch), 1)\n",
    "    neg = np.full((1, num_batch), 0)\n",
    "    train_sim = np.concatenate([pos, neg], -1)[0]\n",
    "    \n",
    "    title_sample_a = np.concatenate([train_input_sample['title'], train_input_sample['title']], 0)\n",
    "    title_sample_b = np.concatenate([train_input_pos['title'], train_input_neg['title']], 0)\n",
    "    desc_sample_a = np.concatenate([train_input_sample['description'], train_input_sample['description']], 0)\n",
    "    desc_sample_b = np.concatenate([train_input_pos['description'], train_input_neg['description']], 0)\n",
    "    train_batch = [title_sample_a, desc_sample_a, title_sample_b, desc_sample_b]\n",
    "    \n",
    "    \n",
    "    h = similarity_model.train_on_batch(x=train_batch, y=train_sim)\n",
    "    h_validation = similarity_model.test_on_batch(x=validation_sample, y=valid_sim)\n",
    "    \n",
    "    # save results\n",
    "    result['train'].append(h)\n",
    "    result['test'].append(h_validation)\n",
    "    \n",
    "    if( (epoch+1) % 10 == 0 or (epoch+1 == limit_train) ):\n",
    "        save_loss(result)\n",
    "    \n",
    "    if (epoch+1 == epochs): #(epoch > 1 and epoch % 10 == 0) or (epoch+1 == epochs):\n",
    "        recall, exported_rank, debug = experiment.evaluate_validation_test(retrieval, verbose, bug_feature_output_a, issues_by_buckets, bug_train_ids, 'dwen')\n",
    "        print(\"Epoch: {} Loss: {:.2f}, Loss_test: {:.2f}, acc: {:.2f}, acc_tets: {:.2f}, recall@25: {:.2f}\".format(epoch+1, h[0], h_validation[0],  h[1], h_validation[1], recall))\n",
    "    else:\n",
    "        print(\"Epoch: {} Loss: {:.2f}, Loss_test: {:.2f}, acc: {:.2f}, acc_test: {:.2f}\".format(epoch+1, h[0], h_validation[0], h[1], h_validation[1]))"
   ]
  },
  {
   "cell_type": "code",
   "execution_count": 43,
   "metadata": {},
   "outputs": [
    {
     "data": {
      "text/plain": [
       "(900, 900)"
      ]
     },
     "execution_count": 43,
     "metadata": {},
     "output_type": "execute_result"
    }
   ],
   "source": [
    "len(result['train']), len(result['test'])"
   ]
  },
  {
   "cell_type": "code",
   "execution_count": 44,
   "metadata": {},
   "outputs": [],
   "source": [
    "encoded = model.get_layer('merge_features_dwen_a')\n",
    "output = encoded.output\n",
    "inputs = similarity_model.inputs[:-2]\n",
    "bug_feature_output_a = Model(inputs = inputs, outputs = output, name = 'Similarity_Model')"
   ]
  },
  {
   "cell_type": "code",
   "execution_count": 45,
   "metadata": {},
   "outputs": [
    {
     "data": {
      "text/plain": [
       "[<tf.Tensor 'title_dwen_a:0' shape=(?, 20) dtype=float32>,\n",
       " <tf.Tensor 'desc_dwen_a:0' shape=(?, 20) dtype=float32>]"
      ]
     },
     "execution_count": 45,
     "metadata": {},
     "output_type": "execute_result"
    }
   ],
   "source": [
    "inputs"
   ]
  },
  {
   "cell_type": "code",
   "execution_count": 46,
   "metadata": {},
   "outputs": [
    {
     "data": {
      "text/plain": [
       "'bert_preprocessing_baseline_dwen_1000_feature1000epochs_64batch(openoffice)'"
      ]
     },
     "execution_count": 46,
     "metadata": {},
     "output_type": "execute_result"
    }
   ],
   "source": [
    "SAVE_PATH.replace('@number_of_epochs@', str(epochs))"
   ]
  },
  {
   "cell_type": "code",
   "execution_count": 47,
   "metadata": {},
   "outputs": [
    {
     "name": "stdout",
     "output_type": "stream",
     "text": [
      "Saved model 'modelos/model_bert_preprocessing_baseline_dwen_1000_feature_1000epochs_64batch(openoffice).h5' to disk\n"
     ]
    },
    {
     "data": {
      "text/plain": [
       "'Model saved'"
      ]
     },
     "execution_count": 47,
     "metadata": {},
     "output_type": "execute_result"
    }
   ],
   "source": [
    "experiment.save_model(model, SAVE_PATH.replace('@number_of_epochs@', str(epochs)))\n",
    "experiment.save_model(bug_feature_output_a, SAVE_PATH_FEATURE.replace('@number_of_epochs@', str(epochs)), verbose=1)\n",
    "\"Model saved\""
   ]
  },
  {
   "cell_type": "code",
   "execution_count": 48,
   "metadata": {},
   "outputs": [
    {
     "name": "stdout",
     "output_type": "stream",
     "text": [
      "Epoch: 900 Loss: 0.38, Loss_test: 0.69, acc: 0.81, acc_tets: 0.61, recall@25: 0.14\n"
     ]
    }
   ],
   "source": [
    "recall, exported_rank, debug = experiment.evaluate_validation_test(retrieval, verbose, bug_feature_output_a, issues_by_buckets, bug_train_ids, 'dwen')\n",
    "print(\"Epoch: {} Loss: {:.2f}, Loss_test: {:.2f}, acc: {:.2f}, acc_tets: {:.2f}, recall@25: {:.2f}\".format(epoch+1, h[0], h_validation[0],  h[1], h_validation[1], recall))"
   ]
  },
  {
   "cell_type": "code",
   "execution_count": 49,
   "metadata": {
    "scrolled": true
   },
   "outputs": [
    {
     "data": {
      "text/plain": [
       "['98306:88871,50853,33630,90791|37690:0.689149796962738,82625:0.6882102787494659,63058:0.6875112652778625,28932:0.6802183091640472,85232:0.6791001856327057,71296:0.6770583689212799,40912:0.6766392886638641,38428:0.6759094595909119,5995:0.6719009280204773,5185:0.6663793325424194,20920:0.6662217378616333,19429:0.6656196713447571,51770:0.6651827991008759,6581:0.6625263392925262,6582:0.6625263392925262,33418:0.6612298786640167,25714:0.6582044959068298,75571:0.6581788957118988,27734:0.6550680994987488,89452:0.6547760963439941,105371:0.6538099646568298,27530:0.6537301540374756,73166:0.6518651247024536,22064:0.6507384181022644,69912:0.6479991674423218,69134:0.6479941606521606,58116:0.6477810740470886,32448:0.6451376676559448,9139:0.6438058912754059',\n",
       " '32771:32490,33548,32560,33879,32699|19576:0.6586389243602753,27794:0.6551100611686707,26661:0.6402080357074738,23123:0.6370585262775421,43957:0.6366059482097626,121345:0.6342608332633972,90626:0.632786750793457,6342:0.6284623742103577,4174:0.6278620958328247,14429:0.6274555027484894,4945:0.6267765164375305,13636:0.6267314255237579,97062:0.6221888661384583,89265:0.6220907866954803,49687:0.6211341321468353,97719:0.6194478869438171,92755:0.6167384386062622,31744:0.616409033536911,4648:0.61280956864357,71730:0.6126814782619476,13081:0.612397700548172,29112:0.6101535558700562,5767:0.6100938618183136,86060:0.6100152730941772,24068:0.6096217334270477,2733:0.6093193292617798,116506:0.6092071235179901,29075:0.6084544658660889,74240:0.6056511104106903,36309:0.6051391661167145',\n",
       " '32772:22694,36970,39820,34488,33298,36760,34911|36272:0.5346904397010803,35567:0.531231552362442,19255:0.5285781621932983,109038:0.5278664231300354,107738:0.5235602855682373,30841:0.5154520571231842,94432:0.5032301843166351,54466:0.49714750051498413,43245:0.49482452869415283,9605:0.4943782687187195,98878:0.49312078952789307,28573:0.49213141202926636,6954:0.4881601929664612,6955:0.4881601929664612,29754:0.48568427562713623,81655:0.4856637716293335,61175:0.48479539155960083,61177:0.48479539155960083,98554:0.48265278339385986,89006:0.4818907380104065,98577:0.48135650157928467,54054:0.4811881184577942,86508:0.47895365953445435,12914:0.4779835343360901,60457:0.4772326350212097,55550:0.475597620010376,45451:0.4735870957374573,24093:0.4734206199645996,42140:0.4731130599975586,53766:0.47261375188827515',\n",
       " '32776:30241,33762,31134,33183|54466:0.5111192166805267,6954:0.5073611736297607,6955:0.5073611736297607,55550:0.4974329471588135,109038:0.4968107342720032,36272:0.4922836422920227,52843:0.48849576711654663,88488:0.4884868264198303,61175:0.48773640394210815,61177:0.48773640394210815,29754:0.48592931032180786,59833:0.4843600392341614,19289:0.48412662744522095,66910:0.4834746718406677,24093:0.4816440939903259,107738:0.48118990659713745,54054:0.4811497926712036,98878:0.4785146713256836,94432:0.4771498441696167,81655:0.47620099782943726,60457:0.47590434551239014,43245:0.4737039804458618,5687:0.47342586517333984,62710:0.47282886505126953,89006:0.472464382648468,9605:0.4714503884315491,35567:0.471230685710907,17402:0.46884822845458984,40467:0.4665883779525757,4995:0.4654809236526489',\n",
       " '65545:55967|52977:0.43026626110076904,64968:0.2770087718963623,11867:0.2753729224205017,77422:0.2529063820838928,65088:0.25194936990737915,68004:0.24267590045928955,39040:0.21694684028625488,78767:0.2008528709411621,52326:0.1942846179008484,52317:0.1896686553955078,1766:0.18204617500305176,43235:0.15425044298171997,41821:0.14604592323303223,38723:0.14373821020126343,61523:0.13595890998840332,98137:0.1330086588859558,42331:0.13295626640319824,50160:0.1322752833366394,95237:0.13194388151168823,20817:0.1262444257736206,61334:0.12097686529159546,49076:0.11972326040267944,77661:0.11766964197158813,47528:0.11354327201843262,46536:0.10825824737548828,3939:0.10788613557815552,47060:0.10756587982177734,80274:0.10143387317657471,78512:0.09965354204177856',\n",
       " '65549:26122,62365,3411,74204,94365|100941:0.33722400665283203,46799:0.31104207038879395,22350:0.305189311504364,9396:0.29792165756225586,85670:0.2946227192878723,85671:0.2946227192878723,94539:0.29282045364379883,21652:0.2923142910003662,1605:0.28380638360977173,53118:0.28351759910583496,83610:0.2800408601760864,22311:0.2798435688018799,18619:0.2782643437385559,21882:0.275926411151886,44573:0.2757214307785034,2236:0.2729766368865967,45854:0.2727314829826355,1731:0.270582914352417,44164:0.26530027389526367,44168:0.26530027389526367,15575:0.26258695125579834,76037:0.26255518198013306,47764:0.260059118270874,92997:0.2546911835670471,90792:0.25169849395751953,78683:0.2500554323196411,27944:0.2459346055984497,9019:0.24566179513931274,104349:0.24515777826309204',\n",
       " '98318:98570|102378:0.5788500308990479,101869:0.5780906975269318,40628:0.5348450541496277,93799:0.5300948619842529,90732:0.5286130607128143,1556:0.5234932601451874,70530:0.4988897442817688,55623:0.4982956051826477,45376:0.4938974976539612,22488:0.4935911297798157,84823:0.49064767360687256,52558:0.48705774545669556,21450:0.47466641664505005,88580:0.47062718868255615,109879:0.469293475151062,35459:0.46635329723358154,12429:0.4658917188644409,52126:0.4619320034980774,88249:0.46051961183547974,14040:0.46038901805877686,42189:0.45360445976257324,89496:0.4447442293167114,37232:0.44393301010131836,4568:0.44329720735549927,61275:0.4375646114349365,113107:0.4340169429779053,39492:0.4339665174484253,24775:0.4339137673377991,49580:0.431864857673645',\n",
       " '98319:107242,102941|122921:0.15315991640090942,29667:0.12913745641708374,36188:0.12895864248275757,98673:0.12624132633209229,41060:0.1244734525680542,47847:0.12199926376342773,67348:0.11871349811553955,91862:0.11797481775283813,59647:0.11639642715454102,8436:0.1127825379371643,37498:0.1117016077041626,53922:0.10505133867263794,96437:0.10154765844345093,15794:0.10065227746963501,21535:0.09642499685287476,5026:0.09609109163284302,5027:0.09609109163284302,5028:0.09609109163284302,5029:0.09609109163284302,41760:0.0934290885925293,32038:0.09056073427200317,116639:0.0883873701095581,95909:0.08593755960464478,77105:0.08524572849273682,15972:0.08497071266174316,15973:0.08497071266174316,15975:0.08497071266174316,93719:0.08463811874389648,51549:0.08434957265853882',\n",
       " '18:100,271|39734:0.3427419662475586,5221:0.3330462574958801,40507:0.3213331699371338,29229:0.3202606439590454,3845:0.3145752549171448,35492:0.31400787830352783,18477:0.31274324655532837,7957:0.31218159198760986,69199:0.310599148273468,28980:0.30943024158477783,62590:0.3084838390350342,103056:0.305841863155365,30017:0.3047832250595093,34378:0.3031655550003052,25546:0.30264532566070557,8877:0.30243468284606934,56815:0.3002632260322571,54382:0.2986055016517639,27919:0.2985501289367676,88061:0.29825711250305176,9888:0.2966897487640381,22767:0.2956297993659973,47357:0.29445743560791016,13906:0.2933000326156616,17517:0.2912772297859192,7599:0.29075926542282104,16536:0.2905276417732239,3151:0.29017388820648193,42461:0.2901408076286316',\n",
       " '32788:31681,32789,31726|32789:0.9998044707026565,78886:0.34952080249786377,79393:0.28212404251098633,65743:0.275229811668396,49603:0.2741331458091736,100719:0.24944764375686646,100720:0.24944764375686646,100721:0.24944764375686646,100722:0.24944764375686646,118661:0.24626493453979492,15203:0.235704243183136,88511:0.23361706733703613,78874:0.23168665170669556,7276:0.2306097149848938,50020:0.22790449857711792,6259:0.22788232564926147,76673:0.22306138277053833,87857:0.21946793794631958,3411:0.21908271312713623,50370:0.21819722652435303,94179:0.21749019622802734,18619:0.20878946781158447,56570:0.20696526765823364,46339:0.2055966854095459,39791:0.19972151517868042,61339:0.19970279932022095,19753:0.19633162021636963,100941:0.19400668144226074,93408:0.19370973110198975',\n",
       " '32789:31681,32788,31726|32788:0.9998044707026565,78886:0.34952080249786377,79393:0.28212404251098633,65743:0.275229811668396,49603:0.2741331458091736,100719:0.24944764375686646,100720:0.24944764375686646,100721:0.24944764375686646,100722:0.24944764375686646,118661:0.24626493453979492,15203:0.235704243183136,88511:0.23361706733703613,78874:0.23168665170669556,7276:0.2306097149848938,50020:0.22790449857711792,6259:0.22788232564926147,76673:0.22306138277053833,87857:0.21946793794631958,3411:0.21908271312713623,50370:0.21819722652435303,94179:0.21749019622802734,18619:0.20878946781158447,56570:0.20696526765823364,46339:0.2055966854095459,39791:0.19972151517868042,61339:0.19970279932022095,19753:0.19633162021636963,100941:0.19400668144226074,93408:0.19370973110198975',\n",
       " '65561:27520,50753,21280,85187,51168,35298,83046,27630,81041,46738,46739,46740,103094,48951,55995,76895|30564:0.7787919491529465,14760:0.7503618150949478,55995:0.705125242471695,29112:0.7032430469989777,31741:0.7028763592243195,97719:0.7005907297134399,11031:0.6928335428237915,49687:0.6888284087181091,20979:0.6834083199501038,90626:0.6827344596385956,116506:0.6804519295692444,4945:0.6782583892345428,95132:0.6772112250328064,39332:0.674083411693573,27794:0.6732937097549438,2733:0.6721917986869812,19576:0.6717033982276917,6342:0.6708438396453857,31948:0.6699739098548889,12052:0.6692296266555786,65643:0.6677650809288025,71730:0.6655400395393372,94896:0.6644701957702637,29075:0.6636596918106079,4174:0.6628162860870361,48951:0.6627845764160156,13081:0.6621515452861786,43957:0.6614428758621216,14429:0.6599069535732269,9954:0.6590642035007477',\n",
       " '27:59,92|43957:0.5819537937641144,13081:0.5748609006404877,2733:0.5746459066867828,12998:0.5712848007678986,6342:0.5691076517105103,20979:0.5680966377258301,14429:0.5668369233608246,29112:0.5668100416660309,71730:0.5659184157848358,9954:0.5651812851428986,97719:0.5642878115177155,95132:0.5625198483467102,25278:0.560465395450592,7720:0.5602431893348694,14469:0.5584903657436371,13636:0.5580666959285736,22613:0.5562232136726379,116506:0.5559492409229279,16928:0.5553720891475677,49687:0.5531947016716003,39332:0.5522589087486267,4945:0.5521192252635956,83425:0.5502143502235413,71813:0.5499736964702606,55975:0.5499139130115509,83285:0.549297422170639,90626:0.5488602221012115,4174:0.5475316345691681,76591:0.5469339787960052,12936:0.5467216074466705',\n",
       " '32:42944,6342,3207,18886,32905,54854,54855,67697,4756,23861,18648,58138,40286|1145:0.18842875957489014,25707:0.16981422901153564,6693:0.16378146409988403,31876:0.1455640196800232,61272:0.1272994875907898,90045:0.12577277421951294,65941:0.12260836362838745,89961:0.12212413549423218,62385:0.1210293173789978,29123:0.11651235818862915,25841:0.1145123839378357,8316:0.11295759677886963,89453:0.11066538095474243,53421:0.10447323322296143,94164:0.10405361652374268,6283:0.10211431980133057,84059:0.10183960199356079,31362:0.10110634565353394,47273:0.10035169124603271,29469:0.09948712587356567,42423:0.09832936525344849,20880:0.09651327133178711,101632:0.09642541408538818,61275:0.0956081748008728,9665:0.09415310621261597,87534:0.09365034103393555,22739:0.09198880195617676,37949:0.09184569120407104,45629:0.08851677179336548',\n",
       " '32813:33041|89144:0.4433631896972656,40489:0.4340193271636963,53849:0.4219391942024231,19307:0.41582298278808594,19308:0.41582298278808594,67286:0.4152678847312927,38535:0.41349196434020996,38539:0.41349196434020996,38538:0.41349196434020996,38540:0.41349196434020996,82604:0.41347771883010864,19289:0.4115554094314575,41925:0.40690845251083374,57003:0.406602680683136,75948:0.4034179449081421,68865:0.4024239778518677,4995:0.400424063205719,30691:0.3993833065032959,54466:0.3950784206390381,92543:0.3949151039123535,39009:0.39401960372924805,118879:0.3937498927116394,66222:0.39244914054870605,39325:0.3913382291793823,59686:0.38992005586624146,39535:0.38820719718933105,69388:0.3879895806312561,93307:0.387744665145874,2172:0.3877071142196655',\n",
       " '32814:37274,38852,37357|111297:0.2022608518600464,22867:0.1979641318321228,59546:0.18167680501937866,41448:0.17792117595672607,41449:0.17792117595672607,44404:0.17780476808547974,5759:0.17739540338516235,10067:0.17246222496032715,90355:0.171073317527771,82780:0.16743957996368408,4587:0.16489166021347046,43242:0.162803053855896,82664:0.16248351335525513,46892:0.16163474321365356,100749:0.1607305407524109,100750:0.1607305407524109,100751:0.1607305407524109,7631:0.15912318229675293,58404:0.15891480445861816,104268:0.1588994860649109,100606:0.15676218271255493,100607:0.15676218271255493,100608:0.15676218271255493,100609:0.15676218271255493,44130:0.1567610502243042,123885:0.15463101863861084,14427:0.153766930103302,43451:0.15297651290893555,26342:0.1525060534477234',\n",
       " '32815:32033,31362,31874,33062,31550|32703:0.5158665478229523,50871:0.385780394077301,41876:0.3743656873703003,42189:0.3699103593826294,50325:0.3655116558074951,14040:0.35915154218673706,52126:0.34734344482421875,4568:0.3433588743209839,49580:0.33709895610809326,84823:0.3335687518119812,4183:0.3316536545753479,62393:0.33133018016815186,13242:0.33097273111343384,96771:0.32975471019744873,89663:0.32702362537384033,7981:0.3269200325012207,56458:0.3259701728820801,89961:0.32363373041152954,17955:0.32356399297714233,88249:0.32286763191223145,6986:0.32158154249191284,48195:0.3213846683502197,13189:0.3213658928871155,45376:0.3192947506904602,15418:0.31690293550491333,45605:0.31683701276779175,54387:0.31674450635910034,1939:0.3160940408706665,55623:0.3156834840774536',\n",
       " '65586:71849,67371,67476,83252,88157,67642,71099,69789,81630|69411:0.6364991366863251,56926:0.5819900333881378,43033:0.5143779516220093,16308:0.5100542306900024,115767:0.509563148021698,59402:0.4968588948249817,36543:0.48975396156311035,32494:0.4835681915283203,10023:0.4774683713912964,17443:0.4707897901535034,96142:0.4675665497779846,38091:0.46471184492111206,89265:0.46327054500579834,24068:0.46300673484802246,15393:0.4628639817237854,2306:0.46186745166778564,94896:0.46053552627563477,4718:0.45943349599838257,70691:0.45939069986343384,71356:0.45832449197769165,5038:0.45811742544174194,116506:0.45755869150161743,18738:0.4571729302406311,74240:0.45684266090393066,117201:0.4556198716163635,44942:0.45560580492019653,16928:0.45490992069244385,21653:0.45443546772003174,3709:0.45407813787460327,45889:0.4536516070365906',\n",
       " '51:52|33529:0.5236955285072327,65643:0.34835970401763916,83296:0.34810829162597656,70756:0.3478280305862427,10023:0.3466774821281433,4648:0.33855193853378296,4945:0.3352237343788147,4174:0.33520448207855225,36309:0.3345634341239929,95999:0.3318158984184265,91531:0.3312165141105652,19510:0.3307138681411743,13636:0.3299211859703064,94896:0.3292478919029236,90626:0.32863008975982666,16832:0.32845526933670044,20979:0.32822316884994507,102855:0.3280841112136841,68801:0.32799601554870605,71730:0.32665836811065674,67254:0.3265880346298218,92755:0.3262975215911865,83511:0.32483482360839844,37130:0.32405734062194824,9410:0.32366347312927246,6063:0.32354265451431274,29112:0.32335740327835083,14617:0.3230213522911072,108379:0.32287275791168213,116506:0.32283681631088257',\n",
       " '52:51|33529:0.5135617852210999,65643:0.34178876876831055,70756:0.3413531184196472,83296:0.3397643566131592,10023:0.3389744162559509,4648:0.33408546447753906,4174:0.3288949728012085,36309:0.3282487392425537,4945:0.3264169692993164,95999:0.32604092359542847,91531:0.3240963816642761,90626:0.32252126932144165,13636:0.32246071100234985,94896:0.3216571807861328,102855:0.32163357734680176,83511:0.32126903533935547,20979:0.3210194706916809,19510:0.32050657272338867,68801:0.3201429843902588,71730:0.31996285915374756,16832:0.3196266293525696,92755:0.3190099596977234,67254:0.31851017475128174,6063:0.31709563732147217,14617:0.3169744610786438,37130:0.31675493717193604,9410:0.31585824489593506,25278:0.31564682722091675,29112:0.31561851501464844,76591:0.315463125705719']"
      ]
     },
     "execution_count": 49,
     "metadata": {},
     "output_type": "execute_result"
    }
   ],
   "source": [
    "exported_rank[:20]"
   ]
  },
  {
   "cell_type": "markdown",
   "metadata": {},
   "source": [
    "### Retrieval evaluation"
   ]
  },
  {
   "cell_type": "code",
   "execution_count": 50,
   "metadata": {},
   "outputs": [
    {
     "name": "stdout",
     "output_type": "stream",
     "text": [
      "Total of queries: 8265\n"
     ]
    }
   ],
   "source": [
    "print(\"Total of queries:\", len(retrieval.test))"
   ]
  },
  {
   "cell_type": "markdown",
   "metadata": {},
   "source": [
    "#### Getting the model trained"
   ]
  },
  {
   "cell_type": "code",
   "execution_count": 51,
   "metadata": {},
   "outputs": [
    {
     "data": {
      "text/plain": [
       "'bert_preprocessing_baseline_dwen_1000_feature_1000epochs_64batch(openoffice)'"
      ]
     },
     "execution_count": 51,
     "metadata": {},
     "output_type": "execute_result"
    }
   ],
   "source": [
    "SAVE_PATH_FEATURE.replace('@number_of_epochs@', str(epochs))"
   ]
  },
  {
   "cell_type": "code",
   "execution_count": 52,
   "metadata": {},
   "outputs": [
    {
     "name": "stdout",
     "output_type": "stream",
     "text": [
      "__________________________________________________________________________________________________\n",
      "Layer (type)                    Output Shape         Param #     Connected to                     \n",
      "==================================================================================================\n",
      "title_dwen_a (InputLayer)       (None, 20)           0                                            \n",
      "__________________________________________________________________________________________________\n",
      "desc_dwen_a (InputLayer)        (None, 20)           0                                            \n",
      "__________________________________________________________________________________________________\n",
      "embedding_layer_title (Embeddin (None, 20, 300)      581257500   title_dwen_a[0][0]               \n",
      "__________________________________________________________________________________________________\n",
      "embedding_layer_desc (Embedding (None, 20, 300)      581257500   desc_dwen_a[0][0]                \n",
      "__________________________________________________________________________________________________\n",
      "global_average_pooling1d_1 (Glo (None, 300)          0           embedding_layer_title[0][0]      \n",
      "__________________________________________________________________________________________________\n",
      "global_average_pooling1d_2 (Glo (None, 300)          0           embedding_layer_desc[0][0]       \n",
      "__________________________________________________________________________________________________\n",
      "merge_features_dwen_a (Average) (None, 300)          0           global_average_pooling1d_1[0][0] \n",
      "                                                                 global_average_pooling1d_2[0][0] \n",
      "==================================================================================================\n",
      "Total params: 1,162,515,000\n",
      "Trainable params: 0\n",
      "Non-trainable params: 1,162,515,000\n",
      "__________________________________________________________________________________________________\n"
     ]
    }
   ],
   "source": [
    "bug_feature_output_a.summary()"
   ]
  },
  {
   "cell_type": "code",
   "execution_count": 53,
   "metadata": {},
   "outputs": [
    {
     "data": {
      "text/plain": [
       "'data/processed/openoffice/bert/exported_rank_baseline_dwen_1000.txt'"
      ]
     },
     "execution_count": 53,
     "metadata": {},
     "output_type": "execute_result"
    }
   ],
   "source": [
    "EXPORT_RANK_PATH = os.path.join(DIR, 'exported_rank_{}.txt'.format(METHOD))\n",
    "EXPORT_RANK_PATH"
   ]
  },
  {
   "cell_type": "code",
   "execution_count": 54,
   "metadata": {},
   "outputs": [],
   "source": [
    "with open(EXPORT_RANK_PATH, 'w') as file_out:\n",
    "    for row in exported_rank:\n",
    "        file_out.write(row + \"\\n\")"
   ]
  },
  {
   "cell_type": "code",
   "execution_count": 55,
   "metadata": {},
   "outputs": [
    {
     "data": {
      "text/plain": [
       "{'1 - recall_at_5': 0.11,\n",
       " '2 - recall_at_10': 0.12,\n",
       " '3 - recall_at_15': 0.13,\n",
       " '4 - recall_at_20': 0.14,\n",
       " '5 - recall_at_25': 0.14}"
      ]
     },
     "execution_count": 55,
     "metadata": {},
     "output_type": "execute_result"
    }
   ],
   "source": [
    "report = experiment.evaluation.evaluate(EXPORT_RANK_PATH)\n",
    "report"
   ]
  }
 ],
 "metadata": {
  "accelerator": "GPU",
  "colab": {
   "collapsed_sections": [],
   "name": "[baseline] Bug triage with Deep Learning.ipynb",
   "provenance": [],
   "toc_visible": true,
   "version": "0.3.2"
  },
  "kernelspec": {
   "display_name": "Python 3",
   "language": "python",
   "name": "python3"
  },
  "language_info": {
   "codemirror_mode": {
    "name": "ipython",
    "version": 3
   },
   "file_extension": ".py",
   "mimetype": "text/x-python",
   "name": "python",
   "nbconvert_exporter": "python",
   "pygments_lexer": "ipython3",
   "version": "3.5.2"
  }
 },
 "nbformat": 4,
 "nbformat_minor": 1
}
