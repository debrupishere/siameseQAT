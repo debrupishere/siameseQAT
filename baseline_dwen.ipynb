{
 "cells": [
  {
   "cell_type": "markdown",
   "metadata": {
    "colab_type": "text",
    "id": "PtdA1qs_UQP1"
   },
   "source": [
    "# DWEN"
   ]
  },
  {
   "cell_type": "code",
   "execution_count": 1,
   "metadata": {},
   "outputs": [
    {
     "name": "stderr",
     "output_type": "stream",
     "text": [
      "Using TensorFlow backend.\n"
     ]
    }
   ],
   "source": [
    "import keras"
   ]
  },
  {
   "cell_type": "code",
   "execution_count": 2,
   "metadata": {
    "colab": {},
    "colab_type": "code",
    "id": "qnSCLmiomFE1"
   },
   "outputs": [],
   "source": [
    "from __future__ import print_function, division"
   ]
  },
  {
   "cell_type": "code",
   "execution_count": 3,
   "metadata": {
    "colab": {},
    "colab_type": "code",
    "id": "OIha-SERnD72"
   },
   "outputs": [],
   "source": [
    "import re\n",
    "import numpy as np\n",
    "import pandas as pd\n",
    "\n",
    "import os\n",
    "from tqdm import tqdm_notebook as tqdm\n",
    "import matplotlib.pyplot as plt\n",
    "import sys\n",
    "from annoy import AnnoyIndex\n",
    "nb_dir = os.path.split(os.getcwd())[0]\n",
    "if nb_dir not in sys.path:\n",
    "    sys.path.append(nb_dir)\n",
    "    \n",
    "%matplotlib inline"
   ]
  },
  {
   "cell_type": "code",
   "execution_count": 4,
   "metadata": {
    "colab": {
     "base_uri": "https://localhost:8080/",
     "height": 34
    },
    "colab_type": "code",
    "id": "c57gQiuAnJAe",
    "outputId": "9eaf2d3f-619a-492d-f40b-6ba2c48426fa"
   },
   "outputs": [],
   "source": [
    "from keras.layers import Conv1D, Input, Add, Activation, Dropout, Embedding, MaxPooling1D, \\\n",
    "    GlobalMaxPool1D, Flatten, Dense, Concatenate, BatchNormalization\n",
    "from keras.models import Sequential, Model\n",
    "from keras.regularizers import l2\n",
    "from keras.initializers import TruncatedNormal\n",
    "from keras.layers.advanced_activations import LeakyReLU, ELU\n",
    "from keras import optimizers"
   ]
  },
  {
   "cell_type": "code",
   "execution_count": 5,
   "metadata": {},
   "outputs": [],
   "source": [
    "from methods.baseline import Baseline\n",
    "from methods.experiments import Experiment\n",
    "from methods.evaluation import Evaluation\n",
    "from methods.retrieval import Retrieval"
   ]
  },
  {
   "cell_type": "markdown",
   "metadata": {
    "colab_type": "text",
    "id": "3VUZ6oG1gb91"
   },
   "source": [
    "## Auxiliary methods"
   ]
  },
  {
   "cell_type": "markdown",
   "metadata": {
    "colab_type": "text",
    "id": "8uQou7m2-bFO"
   },
   "source": [
    "## Configurações Globais"
   ]
  },
  {
   "cell_type": "code",
   "execution_count": 6,
   "metadata": {
    "colab": {},
    "colab_type": "code",
    "id": "G-Kn3x_K-aZj"
   },
   "outputs": [],
   "source": [
    "MAX_SEQUENCE_LENGTH_T = 20 # 100\n",
    "MAX_SEQUENCE_LENGTH_D = 20 # 500\n",
    "EMBEDDING_DIM = 300\n",
    "MAX_NB_WORDS = 20000\n",
    "'''\n",
    "    Configuration\n",
    "'''\n",
    "epochs = 1000\n",
    "best_loss = float('inf')\n",
    "best_epoch = 0\n",
    "verbose = 0\n",
    "loss = 0"
   ]
  },
  {
   "cell_type": "markdown",
   "metadata": {},
   "source": [
    "### Parse bugs preproprecessed"
   ]
  },
  {
   "cell_type": "code",
   "execution_count": 7,
   "metadata": {},
   "outputs": [],
   "source": [
    "# Domain to use\n",
    "DOMAIN = 'eclipse'\n",
    "METHOD = 'baseline_dwen_{}'.format(epochs)\n",
    "# Dataset paths\n",
    "DIR = 'data/processed/{}'.format(DOMAIN)\n",
    "DIR_PAIRS = 'data/normalized/{}'.format(DOMAIN)\n",
    "DATASET = os.path.join('data/normalized/{}'.format(DOMAIN), '{}.csv'.format(DOMAIN))\n",
    "# Path embeddings\n",
    "EMBED_DIR='data/embed'\n",
    "# Save model\n",
    "SAVE_PATH = '{}_feature@number_of_epochs@epochs_64batch({})'.format(METHOD, DOMAIN)\n",
    "SAVE_PATH_FEATURE = '{}_feature_@number_of_epochs@epochs_64batch({})'.format(METHOD, DOMAIN)\n",
    "\n",
    "# Extract CORPUs\n",
    "EXTRACT_CORPUS = False"
   ]
  },
  {
   "cell_type": "code",
   "execution_count": 8,
   "metadata": {},
   "outputs": [],
   "source": [
    "import os\n",
    "\n",
    "pretrained_path = 'uncased_L-12_H-768_A-12'\n",
    "config_path = os.path.join(pretrained_path, 'bert_config.json')\n",
    "model_path = os.path.join(pretrained_path, 'bert_model.ckpt')\n",
    "vocab_path = os.path.join(pretrained_path, 'vocab.txt')"
   ]
  },
  {
   "cell_type": "code",
   "execution_count": 9,
   "metadata": {},
   "outputs": [],
   "source": [
    "from keras_bert import load_vocabulary\n",
    "\n",
    "token_dict = load_vocabulary(vocab_path)"
   ]
  },
  {
   "cell_type": "code",
   "execution_count": 10,
   "metadata": {},
   "outputs": [],
   "source": [
    "baseline = Baseline(DOMAIN, DIR, DATASET, MAX_SEQUENCE_LENGTH_T, MAX_SEQUENCE_LENGTH_D,\n",
    "                   token_dict['[CLS]'], token_dict['[SEP]'])\n",
    "evaluation = Evaluation(verbose=0)\n",
    "retrieval = Retrieval()\n",
    "experiment = Experiment(baseline, evaluation)"
   ]
  },
  {
   "cell_type": "code",
   "execution_count": 11,
   "metadata": {},
   "outputs": [
    {
     "name": "stdout",
     "output_type": "stream",
     "text": [
      "Creating the buckets...\n"
     ]
    },
    {
     "data": {
      "application/vnd.jupyter.widget-view+json": {
       "model_id": "ad1c858e2e5746ee9af197ead3f7d67b",
       "version_major": 2,
       "version_minor": 0
      },
      "text/plain": [
       "HBox(children=(IntProgress(value=0, max=322339), HTML(value='')))"
      ]
     },
     "metadata": {},
     "output_type": "display_data"
    },
    {
     "name": "stdout",
     "output_type": "stream",
     "text": [
      "\n"
     ]
    },
    {
     "data": {
      "application/vnd.jupyter.widget-view+json": {
       "model_id": "5dc6861f0f38453b9a90d31df2396ba6",
       "version_major": 2,
       "version_minor": 0
      },
      "text/plain": [
       "HBox(children=(IntProgress(value=0, max=39545), HTML(value='')))"
      ]
     },
     "metadata": {},
     "output_type": "display_data"
    },
    {
     "name": "stdout",
     "output_type": "stream",
     "text": [
      "\n"
     ]
    }
   ],
   "source": [
    "experiment.set_retrieval(retrieval, baseline, DOMAIN)"
   ]
  },
  {
   "cell_type": "markdown",
   "metadata": {},
   "source": [
    "#### Loading bug ids in memory"
   ]
  },
  {
   "cell_type": "code",
   "execution_count": 12,
   "metadata": {
    "scrolled": true
   },
   "outputs": [
    {
     "name": "stdout",
     "output_type": "stream",
     "text": [
      "Reading bug ids\n"
     ]
    },
    {
     "data": {
      "text/plain": [
       "361006"
      ]
     },
     "execution_count": 12,
     "metadata": {},
     "output_type": "execute_result"
    }
   ],
   "source": [
    "experiment.load_ids()\n",
    "len(baseline.bug_ids)"
   ]
  },
  {
   "cell_type": "markdown",
   "metadata": {
    "colab_type": "text",
    "id": "vqzt5EKzqzcI"
   },
   "source": [
    "#### Dicionário de títulos e descrições"
   ]
  },
  {
   "cell_type": "code",
   "execution_count": 13,
   "metadata": {
    "scrolled": true
   },
   "outputs": [
    {
     "data": {
      "application/vnd.jupyter.widget-view+json": {
       "model_id": "5946e01b800b441484956b4ba2d576c7",
       "version_major": 2,
       "version_minor": 0
      },
      "text/plain": [
       "HBox(children=(IntProgress(value=0, max=361006), HTML(value='')))"
      ]
     },
     "metadata": {},
     "output_type": "display_data"
    },
    {
     "name": "stdout",
     "output_type": "stream",
     "text": [
      "\n"
     ]
    },
    {
     "data": {
      "application/vnd.jupyter.widget-view+json": {
       "model_id": "fae4cc6fe1224eb4a465bea6062eaa1c",
       "version_major": 2,
       "version_minor": 0
      },
      "text/plain": [
       "HBox(children=(IntProgress(value=1, bar_style='info', max=1), HTML(value='')))"
      ]
     },
     "metadata": {},
     "output_type": "display_data"
    },
    {
     "name": "stdout",
     "output_type": "stream",
     "text": [
      "\n",
      "CPU times: user 31.2 s, sys: 2.95 s, total: 34.1 s\n",
      "Wall time: 33.9 s\n"
     ]
    }
   ],
   "source": [
    "%%time\n",
    "\n",
    "experiment.load_bugs()\n",
    "len(baseline.sentence_dict)"
   ]
  },
  {
   "cell_type": "markdown",
   "metadata": {},
   "source": [
    "#### Hashing bugs by buckets"
   ]
  },
  {
   "cell_type": "code",
   "execution_count": 14,
   "metadata": {},
   "outputs": [
    {
     "data": {
      "application/vnd.jupyter.widget-view+json": {
       "model_id": "b0a7b589268c42f88e7a07a0f55d1334",
       "version_major": 2,
       "version_minor": 0
      },
      "text/plain": [
       "HBox(children=(IntProgress(value=0, max=321536), HTML(value='')))"
      ]
     },
     "metadata": {},
     "output_type": "display_data"
    },
    {
     "name": "stdout",
     "output_type": "stream",
     "text": [
      "\n"
     ]
    }
   ],
   "source": [
    "issues_by_buckets = experiment.get_buckets_for_bugs()"
   ]
  },
  {
   "cell_type": "markdown",
   "metadata": {
    "colab_type": "text",
    "id": "a6Obtop6UIVD"
   },
   "source": [
    "#### Prepare the train and test"
   ]
  },
  {
   "cell_type": "code",
   "execution_count": 15,
   "metadata": {
    "colab": {},
    "colab_type": "code",
    "id": "vvyMGBD4IhB-",
    "scrolled": true
   },
   "outputs": [
    {
     "name": "stdout",
     "output_type": "stream",
     "text": [
      "Reading train data\n",
      "Reading bug ids\n"
     ]
    }
   ],
   "source": [
    "experiment.prepare_dataset(issues_by_buckets, path_train='train_chronological', path_test='test_chronological')\n",
    "# Read and create the test queries duplicates\n",
    "retrieval.create_queries()"
   ]
  },
  {
   "cell_type": "code",
   "execution_count": 16,
   "metadata": {},
   "outputs": [
    {
     "data": {
      "text/plain": [
       "[[1, 183],\n",
       " [15392, 2],\n",
       " [15392, 9779],\n",
       " [15392, 94],\n",
       " [2, 9779],\n",
       " [2, 94],\n",
       " [9779, 94],\n",
       " [42962, 7],\n",
       " [10, 121067],\n",
       " [40, 20]]"
      ]
     },
     "execution_count": 16,
     "metadata": {},
     "output_type": "execute_result"
    }
   ],
   "source": [
    "baseline.train_data[:10]"
   ]
  },
  {
   "cell_type": "code",
   "execution_count": 17,
   "metadata": {},
   "outputs": [],
   "source": [
    "bug_train_ids = experiment.get_train_ids(baseline.train_data)"
   ]
  },
  {
   "cell_type": "code",
   "execution_count": 18,
   "metadata": {
    "scrolled": true
   },
   "outputs": [
    {
     "data": {
      "text/plain": [
       "{'bug_severity': '2\\n',\n",
       " 'bug_status': '2\\n',\n",
       " 'component': '338\\n',\n",
       " 'creation_ts': '2007-08-28 13:37:00 -0400',\n",
       " 'delta_ts': '2007-08-30 09:36:04 -0400',\n",
       " 'description': \"[CLS] arm spec validation for java apps doesn ' t always apply . java apps have extremely long package . class . method ( methods ##ign ##at ##ure ) declaration ##s . arm spec calls for tr ##un ##cation to 127 , which loses information for the transaction . create a - dar ##m ##40 . validation = true switch for arm imp ##l to strictly obey arm validation rules , otherwise turn off validation by default . [SEP]\",\n",
       " 'description_bert': \"[CLS] arm spec validation for java apps doesn ' t always apply . java apps have extremely long package . class . method ( methods ##ign ##at ##ure ) declaration ##s . arm spec calls for tr ##un ##cation to 127 , which loses information for the transaction . create a - dar ##m ##40 . validation = true switch for arm imp ##l to strictly obey arm validation rules , otherwise turn off validation by default . [SEP]\",\n",
       " 'description_word': array([  101,  2849, 28699, 27354,  2005,  9262, 18726,  2987,  1005,\n",
       "         1056,  2467,  6611,  1012,  9262, 18726,  2031,  5186,  2146,\n",
       "         7427,   102]),\n",
       " 'description_word_bert': [101,\n",
       "  2849,\n",
       "  28699,\n",
       "  27354,\n",
       "  2005,\n",
       "  9262,\n",
       "  18726,\n",
       "  2987,\n",
       "  1005,\n",
       "  1056,\n",
       "  2467,\n",
       "  6611,\n",
       "  1012,\n",
       "  9262,\n",
       "  18726,\n",
       "  2031,\n",
       "  5186,\n",
       "  2146,\n",
       "  7427,\n",
       "  1012,\n",
       "  2465,\n",
       "  1012,\n",
       "  4118,\n",
       "  1006,\n",
       "  4725,\n",
       "  23773,\n",
       "  4017,\n",
       "  5397,\n",
       "  1007,\n",
       "  8170,\n",
       "  2015,\n",
       "  1012,\n",
       "  2849,\n",
       "  28699,\n",
       "  4455,\n",
       "  2005,\n",
       "  19817,\n",
       "  4609,\n",
       "  10719,\n",
       "  2000,\n",
       "  13029,\n",
       "  1010,\n",
       "  2029,\n",
       "  12386,\n",
       "  2592,\n",
       "  2005,\n",
       "  1996,\n",
       "  12598,\n",
       "  1012,\n",
       "  3443,\n",
       "  1037,\n",
       "  1011,\n",
       "  18243,\n",
       "  2213,\n",
       "  12740,\n",
       "  1012,\n",
       "  27354,\n",
       "  1027,\n",
       "  2995,\n",
       "  6942,\n",
       "  2005,\n",
       "  2849,\n",
       "  17727,\n",
       "  2140,\n",
       "  2000,\n",
       "  9975,\n",
       "  15470,\n",
       "  2849,\n",
       "  27354,\n",
       "  3513,\n",
       "  1010,\n",
       "  4728,\n",
       "  2735,\n",
       "  2125,\n",
       "  27354,\n",
       "  2011,\n",
       "  12398,\n",
       "  1012,\n",
       "  102,\n",
       "  0,\n",
       "  0,\n",
       "  0,\n",
       "  0,\n",
       "  0,\n",
       "  0,\n",
       "  0,\n",
       "  0,\n",
       "  0,\n",
       "  0,\n",
       "  0,\n",
       "  0,\n",
       "  0,\n",
       "  0,\n",
       "  0,\n",
       "  0,\n",
       "  0,\n",
       "  0,\n",
       "  0,\n",
       "  0,\n",
       "  0,\n",
       "  0,\n",
       "  0,\n",
       "  0,\n",
       "  0,\n",
       "  0,\n",
       "  0,\n",
       "  0,\n",
       "  0,\n",
       "  0,\n",
       "  0,\n",
       "  0,\n",
       "  0,\n",
       "  0,\n",
       "  0,\n",
       "  0,\n",
       "  0,\n",
       "  0,\n",
       "  0,\n",
       "  0,\n",
       "  0,\n",
       "  0,\n",
       "  0,\n",
       "  0,\n",
       "  0,\n",
       "  0,\n",
       "  0,\n",
       "  0,\n",
       "  0,\n",
       "  0,\n",
       "  0,\n",
       "  0,\n",
       "  0,\n",
       "  0,\n",
       "  0,\n",
       "  0,\n",
       "  0,\n",
       "  0,\n",
       "  0,\n",
       "  0,\n",
       "  0,\n",
       "  0,\n",
       "  0,\n",
       "  0,\n",
       "  0,\n",
       "  0,\n",
       "  0,\n",
       "  0,\n",
       "  0,\n",
       "  0,\n",
       "  0],\n",
       " 'dup_id': '[]',\n",
       " 'issue_id': 201452,\n",
       " 'priority': '4\\n',\n",
       " 'product': '120\\n',\n",
       " 'resolution': 'FIXED',\n",
       " 'textual_word': array([  101,  2849, 28699, 27354,  2005,  9262, 18726,  2987,  1005,\n",
       "         1056,  2467,  6611,     0,     0,     0,     0,     0,     0,\n",
       "            0,   102,   101,  2849, 28699, 27354,  2005,  9262, 18726,\n",
       "         2987,  1005,  1056,  2467,  6611,  1012,  9262, 18726,  2031,\n",
       "         5186,  2146,  7427,   102]),\n",
       " 'title': \"[CLS] arm spec validation for java apps doesn ' t always apply [SEP]\",\n",
       " 'title_bert': \"[CLS] arm spec validation for java apps doesn ' t always apply [SEP]\",\n",
       " 'title_word': array([  101,  2849, 28699, 27354,  2005,  9262, 18726,  2987,  1005,\n",
       "         1056,  2467,  6611,     0,     0,     0,     0,     0,     0,\n",
       "            0,   102]),\n",
       " 'title_word_bert': [101,\n",
       "  2849,\n",
       "  28699,\n",
       "  27354,\n",
       "  2005,\n",
       "  9262,\n",
       "  18726,\n",
       "  2987,\n",
       "  1005,\n",
       "  1056,\n",
       "  2467,\n",
       "  6611,\n",
       "  102,\n",
       "  0,\n",
       "  0,\n",
       "  0,\n",
       "  0,\n",
       "  0,\n",
       "  0,\n",
       "  0,\n",
       "  0,\n",
       "  0,\n",
       "  0,\n",
       "  0,\n",
       "  0,\n",
       "  0,\n",
       "  0,\n",
       "  0,\n",
       "  0,\n",
       "  0,\n",
       "  0,\n",
       "  0,\n",
       "  0,\n",
       "  0,\n",
       "  0,\n",
       "  0,\n",
       "  0,\n",
       "  0,\n",
       "  0,\n",
       "  0,\n",
       "  0,\n",
       "  0,\n",
       "  0,\n",
       "  0,\n",
       "  0,\n",
       "  0,\n",
       "  0,\n",
       "  0,\n",
       "  0,\n",
       "  0],\n",
       " 'version': '70\\n'}"
      ]
     },
     "execution_count": 18,
     "metadata": {},
     "output_type": "execute_result"
    }
   ],
   "source": [
    "idx = np.random.choice(baseline.bug_ids, 1)[0]\n",
    "baseline.bug_set[idx]"
   ]
  },
  {
   "cell_type": "markdown",
   "metadata": {},
   "source": [
    "### Generating the batch test"
   ]
  },
  {
   "cell_type": "code",
   "execution_count": 19,
   "metadata": {},
   "outputs": [
    {
     "data": {
      "text/plain": [
       "('Train ', 34882)"
      ]
     },
     "execution_count": 19,
     "metadata": {},
     "output_type": "execute_result"
    }
   ],
   "source": [
    "\"Train \", len(baseline.dup_sets_train)"
   ]
  },
  {
   "cell_type": "code",
   "execution_count": 20,
   "metadata": {},
   "outputs": [
    {
     "data": {
      "text/plain": [
       "338450"
      ]
     },
     "execution_count": 20,
     "metadata": {},
     "output_type": "execute_result"
    }
   ],
   "source": [
    "import random\n",
    "random.choice(list(issues_by_buckets))"
   ]
  },
  {
   "cell_type": "code",
   "execution_count": 21,
   "metadata": {},
   "outputs": [
    {
     "data": {
      "text/plain": [
       "True"
      ]
     },
     "execution_count": 21,
     "metadata": {},
     "output_type": "execute_result"
    }
   ],
   "source": [
    "110647 in experiment.baseline.bug_set"
   ]
  },
  {
   "cell_type": "code",
   "execution_count": 22,
   "metadata": {
    "colab": {
     "base_uri": "https://localhost:8080/",
     "height": 51
    },
    "colab_type": "code",
    "id": "PA5CIhgz7odW",
    "outputId": "ae98fdec-1d54-4b1f-ee0e-4c5633802a18",
    "scrolled": true
   },
   "outputs": [
    {
     "name": "stdout",
     "output_type": "stream",
     "text": [
      "CPU times: user 50.7 ms, sys: 0 ns, total: 50.7 ms\n",
      "Wall time: 50.4 ms\n"
     ]
    }
   ],
   "source": [
    "%%time\n",
    "\n",
    "batch_size = 64\n",
    "batch_size_test = 128\n",
    "\n",
    "# we want a constant validation group to have a frame of reference for model performance\n",
    "batch_triplets_valid, valid_input_sample, valid_input_pos, valid_input_neg, valid_sim = experiment.batch_iterator(None, \n",
    "                                                                                          baseline.train_data, \n",
    "                                                                                          baseline.dup_sets_train,\n",
    "                                                                                          bug_train_ids,\n",
    "                                                                                          batch_size_test, 1,\n",
    "                                                                                          issues_by_buckets)\n",
    "\n",
    "valid_title_sample_a = np.concatenate([valid_input_sample['title'], valid_input_sample['title']], 0)\n",
    "valid_title_sample_b = np.concatenate([valid_input_pos['title'], valid_input_neg['title']], 0)\n",
    "valid_desc_sample_a = np.concatenate([valid_input_sample['description'], valid_input_sample['description']], 0)\n",
    "valid_desc_sample_b = np.concatenate([valid_input_pos['description'], valid_input_neg['description']], 0)\n",
    "\n",
    "test_gen = ([valid_title_sample_a, valid_title_sample_b, valid_desc_sample_a, valid_desc_sample_b], valid_sim)\n",
    "\n",
    "# Max sequence title\n",
    "MAX_SEQUENCE_LENGTH_T = valid_input_sample['title'].shape[1]\n",
    "MAX_SEQUENCE_LENGTH_D = valid_input_sample['description'].shape[1]"
   ]
  },
  {
   "cell_type": "code",
   "execution_count": 23,
   "metadata": {},
   "outputs": [
    {
     "data": {
      "text/plain": [
       "((128, 20), (128, 20), (128,))"
      ]
     },
     "execution_count": 23,
     "metadata": {},
     "output_type": "execute_result"
    }
   ],
   "source": [
    "valid_input_sample['title'].shape, valid_input_sample['description'].shape, valid_sim.shape"
   ]
  },
  {
   "cell_type": "markdown",
   "metadata": {
    "colab_type": "text",
    "id": "24mY22BGnkqp"
   },
   "source": [
    "### Validar entrada"
   ]
  },
  {
   "cell_type": "code",
   "execution_count": 24,
   "metadata": {
    "colab": {
     "base_uri": "https://localhost:8080/",
     "height": 796
    },
    "colab_type": "code",
    "id": "OhTbr3a5nmrh",
    "outputId": "a2d73e0f-e9ce-4d12-a5c8-f0008d2402d0",
    "scrolled": true
   },
   "outputs": [],
   "source": [
    "# %%time \n",
    "\n",
    "#baseline.display_batch(baseline.train_data, baseline.dup_sets_train, bug_train_ids, 5)"
   ]
  },
  {
   "cell_type": "markdown",
   "metadata": {
    "colab_type": "text",
    "id": "XPrsLs4Kg4Pa"
   },
   "source": [
    "## Pre-trained embeddings\n",
    "\n",
    "Loading pretrained word vectors"
   ]
  },
  {
   "cell_type": "markdown",
   "metadata": {
    "colab_type": "text",
    "id": "6p9eE5TWoH7p"
   },
   "source": [
    "### Fasttext"
   ]
  },
  {
   "cell_type": "code",
   "execution_count": 25,
   "metadata": {},
   "outputs": [
    {
     "name": "stdout",
     "output_type": "stream",
     "text": [
      "vocabulary loaded\n"
     ]
    }
   ],
   "source": [
    "vocab = baseline.load_vocabulary(os.path.join(DIR, 'vocab_embed.pkl'))\n",
    "#print(np.random.choice(vocab, 10))\n",
    "# for token in vocab:\n",
    "#     print(token)"
   ]
  },
  {
   "cell_type": "code",
   "execution_count": 26,
   "metadata": {},
   "outputs": [
    {
     "data": {
      "text/plain": [
       "'Total vocabulary: 21175'"
      ]
     },
     "execution_count": 26,
     "metadata": {},
     "output_type": "execute_result"
    }
   ],
   "source": [
    "\"Total vocabulary: {}\".format(len(vocab))"
   ]
  },
  {
   "cell_type": "code",
   "execution_count": 27,
   "metadata": {},
   "outputs": [],
   "source": [
    "# import io\n",
    "\n",
    "# def generating_embed(baseline, EMBED_DIR, EMBEDDING_DIM):\n",
    "#     embeddings_index = {}\n",
    "#     embed_path = os.path.join(EMBED_DIR, 'crawl-300d-2M.vec')\n",
    "#     f = open(embed_path, 'rb')\n",
    "#     f = io.open(embed_path, 'r', encoding='utf-8', newline='\\n', errors='ignore')\n",
    "#     n, d = map(int, f.readline().split())\n",
    "\n",
    "#     vocab = baseline.load_vocabulary(os.path.join(baseline.DIR, 'vocab_embed_fasttext.pkl'))\n",
    "#     vocab_size = len(vocab) \n",
    "\n",
    "#     # Initialize uniform the vector considering the Tanh activation\n",
    "#     embedding_matrix = np.random.uniform(-1.0, 1.0, (vocab_size, EMBEDDING_DIM))\n",
    "#     embedding_matrix[0, :] = np.zeros(EMBEDDING_DIM)\n",
    "\n",
    "#     loop = tqdm(f)\n",
    "#     loop.set_description(\"Loading FastText\")\n",
    "#     for line in loop:\n",
    "#         tokens = line.rstrip().split(' ')\n",
    "#         embed = list(map(float, tokens[1:]))\n",
    "#         word = tokens[0]\n",
    "#         embeddings_index[word] = np.asarray(embed, dtype='float32')\n",
    "#         loop.update(1)\n",
    "#     f.close()\n",
    "#     loop.close()\n",
    "\n",
    "#     print('Total %s word vectors in FastText 42B 300d.' % len(embeddings_index))\n",
    "\n",
    "#     loop = tqdm(total=vocab_size)\n",
    "#     loop.set_description('Loading embedding from dataset pretrained')\n",
    "#     i = 0\n",
    "#     for word, embed in vocab.items():\n",
    "#         if word in embeddings_index:\n",
    "#             embedding_matrix[i] = embeddings_index[word]\n",
    "#         else:\n",
    "#             embedding_matrix[i] = np.asarray(embed, dtype='float32')\n",
    "#         loop.update(1)\n",
    "#         i+=1\n",
    "#     loop.close()\n",
    "#     baseline.embedding_matrix = embedding_matrix"
   ]
  },
  {
   "cell_type": "code",
   "execution_count": 28,
   "metadata": {},
   "outputs": [],
   "source": [
    "def generating_embed(baseline, EMBED_DIR, EMBEDDING_DIM):\n",
    "    embeddings_index = {}\n",
    "    embed_path = os.path.join(EMBED_DIR, 'glove.42B.300d.txt')\n",
    "    f = open(embed_path, 'rb')\n",
    "    #num_lines = sum(1 for line in open(embed_path, 'rb'))\n",
    "\n",
    "    vocab = baseline.load_vocabulary(os.path.join(baseline.DIR, 'vocab_embed.pkl'))\n",
    "    vocab_size = len(vocab) \n",
    "\n",
    "    # Initialize uniform the vector considering the Tanh activation\n",
    "    embedding_matrix = np.random.uniform(-1.0, 1.0, (vocab_size, EMBEDDING_DIM))\n",
    "    embedding_matrix[0, :] = np.zeros(EMBEDDING_DIM)\n",
    "\n",
    "    loop = tqdm(f)\n",
    "    loop.set_description(\"Loading Glove\")\n",
    "    for line in loop:\n",
    "        tokens = line.split()\n",
    "        word = tokens[0]\n",
    "        embeddings_index[word] = np.asarray(tokens[1:], dtype='float32')\n",
    "        loop.update(1)\n",
    "    f.close()\n",
    "    loop.close()\n",
    "\n",
    "    print('Total %s word vectors in Glove 42B 300d.' % len(embeddings_index))\n",
    "\n",
    "    loop = tqdm(total=vocab_size)\n",
    "    loop.set_description('Loading embedding from dataset pretrained')\n",
    "    i = 0\n",
    "    for word, embed in vocab.items():\n",
    "        if word in embeddings_index:\n",
    "            embedding_matrix[i] = embeddings_index[word]\n",
    "        else:\n",
    "            embedding_matrix[i] = np.asarray(embed, dtype='float32')\n",
    "        loop.update(1)\n",
    "        i+=1\n",
    "    loop.close()\n",
    "    baseline.embedding_matrix = embedding_matrix"
   ]
  },
  {
   "cell_type": "code",
   "execution_count": 29,
   "metadata": {
    "colab": {
     "base_uri": "https://localhost:8080/",
     "height": 85
    },
    "colab_type": "code",
    "id": "QY-ef3OGoIiq",
    "outputId": "55f4c93c-98bb-4bac-92f2-76bd3b777605"
   },
   "outputs": [
    {
     "name": "stdout",
     "output_type": "stream",
     "text": [
      "vocabulary loaded\n"
     ]
    },
    {
     "data": {
      "application/vnd.jupyter.widget-view+json": {
       "model_id": "e5a71e24244c40fab7a7aab2147449c8",
       "version_major": 2,
       "version_minor": 0
      },
      "text/plain": [
       "HBox(children=(IntProgress(value=1, bar_style='info', max=1), HTML(value='')))"
      ]
     },
     "metadata": {},
     "output_type": "display_data"
    },
    {
     "name": "stdout",
     "output_type": "stream",
     "text": [
      "\n",
      "Total 1917494 word vectors in Glove 42B 300d.\n"
     ]
    },
    {
     "data": {
      "application/vnd.jupyter.widget-view+json": {
       "model_id": "875a952391f3422782e4ddaf1d13e644",
       "version_major": 2,
       "version_minor": 0
      },
      "text/plain": [
       "HBox(children=(IntProgress(value=0, max=21175), HTML(value='')))"
      ]
     },
     "metadata": {},
     "output_type": "display_data"
    },
    {
     "name": "stdout",
     "output_type": "stream",
     "text": [
      "\n",
      "CPU times: user 1min 21s, sys: 2.69 s, total: 1min 23s\n",
      "Wall time: 1min 22s\n"
     ]
    }
   ],
   "source": [
    "%%time\n",
    "\n",
    "generating_embed(baseline, EMBED_DIR=EMBED_DIR, EMBEDDING_DIM=EMBEDDING_DIM) # MAX_NB_WORDS=MAX_NB_WORDS"
   ]
  },
  {
   "cell_type": "markdown",
   "metadata": {},
   "source": [
    "## Experiment"
   ]
  },
  {
   "cell_type": "markdown",
   "metadata": {
    "colab_type": "text",
    "id": "Lev5Y7oaFQBd"
   },
   "source": [
    "## Propose\n",
    "\n",
    "https://github.com/tqtg/DuplicateBugFinder"
   ]
  },
  {
   "cell_type": "code",
   "execution_count": 30,
   "metadata": {},
   "outputs": [],
   "source": [
    "from keras.initializers import RandomUniform, RandomNormal, Ones"
   ]
  },
  {
   "cell_type": "markdown",
   "metadata": {},
   "source": [
    "### Embedding layer"
   ]
  },
  {
   "cell_type": "code",
   "execution_count": 31,
   "metadata": {},
   "outputs": [],
   "source": [
    "from keras.constraints import MaxNorm\n",
    "from keras.initializers import TruncatedNormal, RandomUniform\n",
    "\n",
    "# Is missing the padding_idx used in pytorch\n",
    "# https://pytorch.org/docs/stable/_modules/torch/nn/modules/sparse.html\n",
    "# https://stackoverflow.com/questions/54824768/rnn-model-gru-of-word2vec-to-regression-not-learning\n",
    "def embedding_layer(embeddings, num_words, embedding_dim, max_sequence_length, trainable, name):\n",
    "    embedding_layer = Embedding(num_words,\n",
    "                                  embedding_dim,\n",
    "                                  name='embedding_layer_{}'.format(name),\n",
    "                                  weights=[embeddings],\n",
    "                                  #input_length=max_sequence_length,\n",
    "                                  input_length=None,\n",
    "                                  trainable=trainable)\n",
    "    return embedding_layer"
   ]
  },
  {
   "cell_type": "markdown",
   "metadata": {
    "colab_type": "text",
    "id": "TEedCg5AaTf2"
   },
   "source": [
    "### DWEN model"
   ]
  },
  {
   "cell_type": "code",
   "execution_count": 32,
   "metadata": {},
   "outputs": [],
   "source": [
    "from keras.layers import concatenate, Add, Lambda, merge, Average, Maximum, Subtract, \\\n",
    "    Average, GlobalAveragePooling1D, BatchNormalization, Activation\n",
    "from keras.optimizers import Adam, Nadam\n",
    "import keras.backend as K\n",
    "\n",
    "def dwen_feature(title_feature_model, desc_feature_model, \\\n",
    "                  sequence_length_t, sequence_length_d, name):\n",
    "    bug_t = Input(shape = (sequence_length_t, ), name = 'title_{}'.format(name))\n",
    "    bug_d = Input(shape = (sequence_length_d, ), name = 'desc_{}'.format(name))\n",
    "    \n",
    "    # Embedding feature\n",
    "    bug_t_feat = title_feature_model(bug_t)\n",
    "    bug_d_feat = desc_feature_model(bug_d)\n",
    "    \n",
    "    bug_t_feat = GlobalAveragePooling1D()(bug_t_feat)\n",
    "    bug_d_feat = GlobalAveragePooling1D()(bug_d_feat)\n",
    "    \n",
    "    #bug_feature_output = Add(name = 'merge_features_{}'.format(name))([bug_i_feat, bug_t_feat, bug_d_feat])\n",
    "    bug_feature_output = Average(name = 'merge_features_{}'.format(name))([bug_t_feat, bug_d_feat])\n",
    "    \n",
    "    bug_feature_model = Model(inputs=[bug_t, bug_d], outputs=[bug_feature_output], name = 'merge_features_{}'.format(name))\n",
    "    \n",
    "    return bug_feature_model\n",
    "\n",
    "def dwen_model(bug_feature_output_a, bug_feature_output_b, name):\n",
    "    \n",
    "    inputs = np.concatenate([bug_feature_output_a.input, bug_feature_output_b.input], -1).tolist()\n",
    "    \n",
    "    bug_feature_output_a = bug_feature_output_a.output\n",
    "    bug_feature_output_b = bug_feature_output_b.output\n",
    "    \n",
    "    # 2D concatenate feature\n",
    "    bug_feature_output = concatenate([bug_feature_output_a, bug_feature_output_b])\n",
    "    \n",
    "    hidden_layers = 2\n",
    "    \n",
    "    # Deep Hidden MLPs\n",
    "    for _ in range(hidden_layers):\n",
    "        number_of_units = K.int_shape(bug_feature_output)[1]\n",
    "        bug_feature_output = Dense(number_of_units // 2)(bug_feature_output)\n",
    "#         bug_feature_output = BatchNormalization()(bug_feature_output)\n",
    "        bug_feature_output = Activation('relu')(bug_feature_output)\n",
    "        #bug_feature_output = Dropout(.5)(bug_feature_output)\n",
    "    \n",
    "     # Sigmoid\n",
    "    output = Dense(1, activation='sigmoid')(bug_feature_output)\n",
    "\n",
    "    similarity_model = Model(inputs=inputs, outputs=[output], name = 'dwen_output')\n",
    "\n",
    "    #optimizer = Nadam(lr=1e-3, beta_1=0.9, beta_2=0.999, epsilon=K.epsilon(), schedule_decay=0.01)\n",
    "    optimizer = Adam(lr=1e-3, beta_1=0.9, beta_2=0.999, epsilon=None, decay=0.0, amsgrad=True)\n",
    "\n",
    "    # setup the optimization process \n",
    "    similarity_model.compile(optimizer='adam', loss='binary_crossentropy', metrics=['acc'])\n",
    "    \n",
    "    return similarity_model"
   ]
  },
  {
   "cell_type": "code",
   "execution_count": 33,
   "metadata": {
    "scrolled": true
   },
   "outputs": [
    {
     "name": "stdout",
     "output_type": "stream",
     "text": [
      "__________________________________________________________________________________________________\n",
      "Layer (type)                    Output Shape         Param #     Connected to                     \n",
      "==================================================================================================\n",
      "title_dwen_a (InputLayer)       (None, 20)           0                                            \n",
      "__________________________________________________________________________________________________\n",
      "desc_dwen_a (InputLayer)        (None, 20)           0                                            \n",
      "__________________________________________________________________________________________________\n",
      "title_dwen_b (InputLayer)       (None, 20)           0                                            \n",
      "__________________________________________________________________________________________________\n",
      "desc_dwen_b (InputLayer)        (None, 20)           0                                            \n",
      "__________________________________________________________________________________________________\n",
      "embedding_layer_title (Embeddin (None, 20, 300)      6352500     title_dwen_a[0][0]               \n",
      "                                                                 title_dwen_b[0][0]               \n",
      "__________________________________________________________________________________________________\n",
      "embedding_layer_desc (Embedding (None, 20, 300)      6352500     desc_dwen_a[0][0]                \n",
      "                                                                 desc_dwen_b[0][0]                \n",
      "__________________________________________________________________________________________________\n",
      "global_average_pooling1d_1 (Glo (None, 300)          0           embedding_layer_title[0][0]      \n",
      "__________________________________________________________________________________________________\n",
      "global_average_pooling1d_2 (Glo (None, 300)          0           embedding_layer_desc[0][0]       \n",
      "__________________________________________________________________________________________________\n",
      "global_average_pooling1d_3 (Glo (None, 300)          0           embedding_layer_title[1][0]      \n",
      "__________________________________________________________________________________________________\n",
      "global_average_pooling1d_4 (Glo (None, 300)          0           embedding_layer_desc[1][0]       \n",
      "__________________________________________________________________________________________________\n",
      "merge_features_dwen_a (Average) (None, 300)          0           global_average_pooling1d_1[0][0] \n",
      "                                                                 global_average_pooling1d_2[0][0] \n",
      "__________________________________________________________________________________________________\n",
      "merge_features_dwen_b (Average) (None, 300)          0           global_average_pooling1d_3[0][0] \n",
      "                                                                 global_average_pooling1d_4[0][0] \n",
      "__________________________________________________________________________________________________\n",
      "concatenate_1 (Concatenate)     (None, 600)          0           merge_features_dwen_a[0][0]      \n",
      "                                                                 merge_features_dwen_b[0][0]      \n",
      "__________________________________________________________________________________________________\n",
      "dense_1 (Dense)                 (None, 300)          180300      concatenate_1[0][0]              \n",
      "__________________________________________________________________________________________________\n",
      "activation_1 (Activation)       (None, 300)          0           dense_1[0][0]                    \n",
      "__________________________________________________________________________________________________\n",
      "dense_2 (Dense)                 (None, 150)          45150       activation_1[0][0]               \n",
      "__________________________________________________________________________________________________\n",
      "activation_2 (Activation)       (None, 150)          0           dense_2[0][0]                    \n",
      "__________________________________________________________________________________________________\n",
      "dense_3 (Dense)                 (None, 1)            151         activation_2[0][0]               \n",
      "==================================================================================================\n",
      "Total params: 12,930,601\n",
      "Trainable params: 225,601\n",
      "Non-trainable params: 12,705,000\n",
      "__________________________________________________________________________________________________\n",
      "Epoch: 1 Loss: 0.69, acc: 0.52, recall@25: 0.14\n",
      "Saved model 'modelos/model_baseline_dwen_1_feature_1epochs_64batch(eclipse).h5' to disk\n",
      "Best_epoch=1, Best_loss=0.69, Recall@25=0.14\n",
      "CPU times: user 5.8 s, sys: 468 ms, total: 6.27 s\n",
      "Wall time: 6.07 s\n"
     ]
    }
   ],
   "source": [
    "%%time\n",
    "\n",
    "# Inspired on https://'pastebin.com/TaGFdcBA\n",
    "# TODO: https://stackoverflow.com/questions/49941903/keras-compute-cosine-distance-between-two-flattened-outputs\n",
    "keras.backend.clear_session()\n",
    "\n",
    "# Clear GPU memory\n",
    "# from numba import cuda\n",
    "# cuda.select_device(0)\n",
    "# cuda.close()\n",
    "\n",
    "# Embeddings\n",
    "desc_embedding_layer = embedding_layer(embeddings=baseline.embedding_matrix, \n",
    "                              num_words=len(baseline.embedding_matrix), \n",
    "                              embedding_dim=EMBEDDING_DIM, \n",
    "                              max_sequence_length=MAX_SEQUENCE_LENGTH_D, \n",
    "                              trainable=False, name='desc')\n",
    "title_embedding_layer = embedding_layer(embeddings=baseline.embedding_matrix, \n",
    "                              num_words=len(baseline.embedding_matrix), \n",
    "                              embedding_dim=EMBEDDING_DIM, \n",
    "                              max_sequence_length=MAX_SEQUENCE_LENGTH_T, \n",
    "                              trainable=False, name='title')\n",
    "\n",
    "# Similarity model\n",
    "bug_feature_output_a = dwen_feature(title_embedding_layer, desc_embedding_layer, \n",
    "                                    MAX_SEQUENCE_LENGTH_T, MAX_SEQUENCE_LENGTH_D, 'dwen_a')\n",
    "bug_feature_output_b = dwen_feature(title_embedding_layer, desc_embedding_layer, \n",
    "                                    MAX_SEQUENCE_LENGTH_T, MAX_SEQUENCE_LENGTH_D, 'dwen_b')\n",
    "similarity_model = dwen_model(bug_feature_output_a, bug_feature_output_b, 'dwen')\n",
    "\n",
    "# cnn_feature_model.summary()\n",
    "# lstm_feature_model.summary()\n",
    "similarity_model.summary()\n",
    "\n",
    "\n",
    "'''\n",
    "    Experiment\n",
    "'''\n",
    "for epoch in range(epochs):\n",
    "    batch_triplet_train, \\\n",
    "        train_input_sample, train_input_pos, train_input_neg, \\\n",
    "            train_sim = experiment.batch_iterator(None, baseline.train_data, baseline.dup_sets_train, \n",
    "                                                  bug_train_ids, batch_size, 1, issues_by_buckets, TRIPLET_HARD=False)\n",
    "    \n",
    "    num_batch = train_input_sample['title'].shape[0]\n",
    "    pos = np.full((1, num_batch), 1)\n",
    "    neg = np.full((1, num_batch), 0)\n",
    "    train_sim = np.concatenate([pos, neg], -1)[0]\n",
    "    \n",
    "    title_sample_a = np.concatenate([train_input_sample['title'], train_input_sample['title']], 0)\n",
    "    title_sample_b = np.concatenate([train_input_pos['title'], train_input_neg['title']], 0)\n",
    "    desc_sample_a = np.concatenate([train_input_sample['description'], train_input_sample['description']], 0)\n",
    "    desc_sample_b = np.concatenate([train_input_pos['description'], train_input_neg['description']], 0)\n",
    "    train_batch = [title_sample_a, desc_sample_a, title_sample_b, desc_sample_b]\n",
    "    \n",
    "    \n",
    "    h = similarity_model.train_on_batch(x=train_batch, y=train_sim)\n",
    "    \n",
    "    if (epoch+1 == epochs): #(epoch > 1 and epoch % 10 == 0) or (epoch+1 == epochs):\n",
    "        recall, _, debug = experiment.evaluate_validation_test(retrieval, verbose, bug_feature_output_a, issues_by_buckets, \n",
    "                                                        bug_train_ids, 'dwen')\n",
    "        print(\"Epoch: {} Loss: {:.2f}, acc: {:.2f}, recall@25: {:.2f}\".format(epoch+1, h[0],  h[1], recall))\n",
    "    else:\n",
    "        print(\"Epoch: {} Loss: {:.2f}, acc: {:.2f}\".format(epoch+1, h[0],  h[1]))\n",
    "    \n",
    "    loss = h[0]\n",
    "    \n",
    "    if loss < best_loss:\n",
    "        best_loss = loss\n",
    "        best_epoch = epoch+1\n",
    "\n",
    "experiment.save_model(similarity_model, SAVE_PATH.replace('@number_of_epochs@', str(epochs)))\n",
    "experiment.save_model(bug_feature_output_a, SAVE_PATH_FEATURE.replace('@number_of_epochs@', str(epochs)), verbose=1)\n",
    "print('Best_epoch={}, Best_loss={:.2f}, Recall@25={:.2f}'.format(best_epoch, best_loss, recall))"
   ]
  },
  {
   "cell_type": "code",
   "execution_count": 34,
   "metadata": {
    "scrolled": true
   },
   "outputs": [
    {
     "data": {
      "text/plain": [
       "['327681:324658|357979:0.5434475839138031,351967:0.5126149952411652,412105:0.5118793547153473,343152:0.5052992105484009,372954:0.49758756160736084,417907:0.4941100478172302,344802:0.49327749013900757,400656:0.489538311958313,323006:0.4812842011451721,396804:0.4753396511077881,411730:0.46296507120132446,412069:0.4589686393737793,341700:0.44551247358322144,329593:0.44288331270217896,390530:0.4385116696357727,349454:0.4377601742744446,394189:0.43688809871673584,294321:0.43467217683792114,414924:0.4321684241294861,376460:0.43132728338241577,340964:0.431077241897583,320735:0.4310005307197571,371621:0.43041926622390747,421402:0.43037790060043335,379818:0.42978423833847046,417468:0.4280635714530945,345086:0.4276507496833801,416980:0.4259791970252991,345317:0.4255560636520386',\n",
       " '360457:362252|371292:0.47903674840927124,348507:0.475436806678772,325924:0.4715566039085388,313545:0.4664747714996338,384319:0.4649447202682495,352990:0.46427273750305176,382487:0.46374034881591797,325828:0.462837278842926,386076:0.46263784170150757,324378:0.46188056468963623,349887:0.46109461784362793,334606:0.4589530825614929,381149:0.4579656720161438,383780:0.4579547047615051,341232:0.4578290581703186,321116:0.4569486975669861,355856:0.4544147849082947,340197:0.4484304189682007,342114:0.4481043219566345,330996:0.4478842616081238,370099:0.4476974606513977,328924:0.44694584608078003,346430:0.44465744495391846,356309:0.44418245553970337,379465:0.44282662868499756,320640:0.441257119178772,361181:0.439497172832489,328541:0.4374329447746277,350139:0.43707096576690674',\n",
       " '393230:393054|361740:0.7179155051708221,361739:0.6981358528137207,361734:0.6887963712215424,329232:0.680263102054596,350988:0.6711127460002899,340755:0.6695313453674316,339622:0.6544536650180817,319932:0.6531084775924683,355910:0.6440274715423584,378785:0.6360444128513336,340237:0.6346202194690704,367666:0.6312348246574402,350958:0.6243875920772552,401588:0.6227288246154785,402128:0.6196061968803406,392198:0.6137605905532837,351958:0.611537903547287,341146:0.6093250513076782,342332:0.6086849868297577,327394:0.6068716645240784,347555:0.6023306250572205,329134:0.6003881394863129,327392:0.5989733040332794,343576:0.5926537215709686,411816:0.5881858468055725,419048:0.586732417345047,335502:0.5832788050174713,409961:0.5814128816127777,420031:0.5783104002475739',\n",
       " '393232:393282,390667,383388|342648:0.29860442876815796,333041:0.2742161750793457,389454:0.2659679651260376,405711:0.25534600019454956,366674:0.25134116411209106,423214:0.24964040517807007,375519:0.24952876567840576,355056:0.245589017868042,407960:0.2408047914505005,354483:0.2405606508255005,373070:0.23933172225952148,417537:0.23803383111953735,342617:0.23724162578582764,407864:0.23712259531021118,358328:0.2360263466835022,370212:0.23294281959533691,360384:0.23274332284927368,332276:0.23242682218551636,417523:0.23219460248947144,384147:0.2319018840789795,413026:0.23107343912124634,331555:0.23020410537719727,355148:0.2296738624572754,347667:0.22885584831237793,397264:0.22841548919677734,379217:0.22699129581451416,303715:0.2264639139175415,405714:0.22311431169509888,388999:0.22268682718276978',\n",
       " '393247:401563,396542|381495:0.421042263507843,372182:0.4190581440925598,393962:0.400884211063385,369278:0.3939163088798523,401677:0.39198827743530273,341076:0.3889893889427185,384102:0.38795679807662964,388419:0.38274335861206055,338250:0.3797495365142822,280360:0.37912243604660034,395217:0.3724779486656189,397281:0.3705694079399109,346156:0.36958444118499756,318262:0.3682643175125122,360862:0.3638114333152771,356871:0.3629907965660095,379628:0.3619486689567566,326298:0.36119675636291504,379128:0.361028790473938,376166:0.3607948422431946,396990:0.3588206171989441,358624:0.3583492040634155,418827:0.3574991226196289,347699:0.3570617437362671,375106:0.3569953441619873,354062:0.3554622530937195,349182:0.3546096682548523,328507:0.3528599739074707,359886:0.35182487964630127',\n",
       " '360484:359237|365863:0.6319240033626556,336435:0.5873880684375763,399971:0.563629686832428,416008:0.5630379617214203,327040:0.5627409815788269,270108:0.5372547209262848,340249:0.5369796752929688,392163:0.5366909801959991,412908:0.5315501689910889,381477:0.5281830728054047,323102:0.5276735723018646,393864:0.5242910981178284,404546:0.520520806312561,339593:0.5131758451461792,407153:0.5131743848323822,340565:0.512286901473999,332088:0.5119538307189941,350933:0.5103137791156769,261627:0.5082111656665802,362311:0.5061393976211548,401023:0.503778725862503,357040:0.5029675662517548,382112:0.5027301907539368,385983:0.5015838146209717,403897:0.499977707862854,389961:0.49810951948165894,339527:0.4961201548576355,383035:0.4950328469276428,362874:0.4949263334274292',\n",
       " '360489:358624,354593,355714,357219,358267,362534,356295,356871,355722,356717,356973,358774,360214,356122,355803,356413|421216:0.7814885079860687,358624:0.7455738186836243,356871:0.7300985157489777,343369:0.7267427444458008,343370:0.7267427444458008,395858:0.7252194583415985,397797:0.7106819450855255,347768:0.6812556087970734,382534:0.6758733987808228,326979:0.6741172969341278,328379:0.6625890135765076,351988:0.6518782377243042,340642:0.6446663737297058,340643:0.6446663737297058,372164:0.6385612487792969,392719:0.6325661838054657,332522:0.6310722231864929,360016:0.630542516708374,321483:0.6233380138874054,332088:0.6192843317985535,331441:0.6164400577545166,415600:0.6130299866199493,391030:0.6097702980041504,319655:0.608670711517334,381398:0.6068850457668304,350583:0.6047553718090057,400627:0.6030290424823761,318410:0.5993878245353699,391011:0.5980328023433685',\n",
       " '262194:331909|372098:0.43193745613098145,362629:0.4244508743286133,399893:0.4055238366127014,388899:0.4015311598777771,366101:0.39594531059265137,378922:0.39534562826156616,351434:0.3952571153640747,369524:0.39353662729263306,380864:0.392581045627594,389108:0.38577818870544434,371713:0.38447290658950806,325643:0.3834185004234314,338114:0.38271379470825195,374591:0.3821260333061218,342715:0.380485475063324,351444:0.3800622820854187,381035:0.3772852420806885,377654:0.3769766092300415,369780:0.376680850982666,372187:0.3763488531112671,377849:0.37563055753707886,375150:0.3734129071235657,321795:0.3727695941925049,364895:0.3709803819656372,379989:0.37089425325393677,413096:0.37087082862854004,318855:0.3696903586387634,408194:0.36645668745040894,379668:0.3625950813293457',\n",
       " '327731:328902|389024:0.4861564636230469,330820:0.47585397958755493,364660:0.4699377417564392,332294:0.46057814359664917,319808:0.4560292363166809,325743:0.44752174615859985,329555:0.44707852602005005,384125:0.44446760416030884,360390:0.4368319511413574,361651:0.4352090358734131,317460:0.43485838174819946,342610:0.4329755902290344,375668:0.42505645751953125,359849:0.4212791323661804,392168:0.4175484776496887,372298:0.41551339626312256,367112:0.4142810106277466,344865:0.4138410687446594,421431:0.4111836552619934,387845:0.41102802753448486,345286:0.41047239303588867,338198:0.4098277688026428,345695:0.40704596042633057,319131:0.40554141998291016,383606:0.4008609652519226,317609:0.4002184271812439,319176:0.39816218614578247,420526:0.39799678325653076,360073:0.3976050019264221',\n",
       " '393277:393864,400436|321602:0.6353614628314972,376461:0.6333642601966858,357414:0.6231698989868164,374516:0.6195748746395111,326258:0.6005553901195526,351536:0.6004838347434998,389491:0.5910083651542664,342375:0.5886009335517883,366282:0.5839830935001373,409792:0.5828701555728912,324002:0.5813862383365631,283274:0.580275297164917,339459:0.5797496140003204,344053:0.578962653875351,361393:0.5762636363506317,324363:0.5756165981292725,364063:0.5750311315059662,395683:0.5700236558914185,348439:0.5694437921047211,348440:0.5694437921047211,391902:0.5681684613227844,408095:0.5666116774082184,379336:0.5657749772071838,404334:0.5646244883537292,329381:0.5623561143875122,320660:0.5622894763946533,373557:0.5615356862545013,373558:0.5615356862545013,321609:0.561520904302597',\n",
       " '393282:393232,390667,383388|376036:0.41210782527923584,356391:0.3836265206336975,319846:0.3684433698654175,411452:0.35626935958862305,367268:0.35385817289352417,407953:0.35111528635025024,368699:0.34937089681625366,337327:0.345279335975647,369806:0.3391997218132019,413590:0.33830076456069946,401461:0.33814454078674316,373671:0.3357604742050171,341807:0.33444875478744507,320183:0.33426278829574585,396552:0.33258330821990967,419000:0.3307872414588928,344051:0.3279808759689331,380438:0.3262764811515808,386912:0.3207002282142639,320478:0.3198331594467163,384814:0.3186960816383362,413106:0.31844156980514526,413107:0.31844156980514526,399396:0.31794285774230957,382112:0.31747686862945557,347054:0.3157155513763428,356626:0.3132527470588684,353780:0.3126679062843323,412793:0.31061822175979614',\n",
       " '327748:330466|356829:0.7331242859363556,330466:0.6915967464447021,411599:0.5996432900428772,391078:0.5480508804321289,376011:0.5393063426017761,391088:0.5358421206474304,366653:0.5250042676925659,322362:0.5168522894382477,419869:0.5151421129703522,394576:0.5077269971370697,416235:0.5029682517051697,351957:0.5019444227218628,386640:0.49545568227767944,389572:0.4946253299713135,374869:0.4930025339126587,354359:0.492037296295166,416539:0.4892107844352722,323913:0.48730891942977905,414797:0.48067575693130493,404266:0.4757500886917114,409686:0.4757457375526428,320293:0.4671176075935364,409751:0.4570366144180298,403607:0.4545665383338928,418680:0.453413724899292,329382:0.45195472240448,365487:0.45060503482818604,320884:0.44614821672439575,405942:0.44503819942474365',\n",
       " '327754:330209,331297,332294,327303,327528,329166,329232,330705,326194,329778,331186,332594,333917,327415,327548,333341,333342,332927|419578:0.584898978471756,413480:0.5240932106971741,353374:0.48864221572875977,365060:0.4796619415283203,347233:0.4778199791908264,336246:0.4773605465888977,346590:0.47568196058273315,382251:0.47419482469558716,376439:0.47257357835769653,381398:0.46672993898391724,412219:0.46158409118652344,323681:0.4607999920845032,409513:0.4588215947151184,401635:0.4586091637611389,394469:0.4565035104751587,399570:0.45508676767349243,366107:0.4540189504623413,330264:0.4537699818611145,380090:0.45329588651657104,392163:0.4532092809677124,362471:0.45083391666412354,332522:0.4504891037940979,422534:0.44954532384872437,338274:0.4462796449661255,393974:0.4451782703399658,318838:0.4448714256286621,392214:0.4417530298233032,345162:0.4409395456314087,359819:0.44078248739242554',\n",
       " '360529:354495,343276,347031|361542:0.680022656917572,407506:0.5611861646175385,328379:0.5605833232402802,413479:0.5447461903095245,345121:0.5344360768795013,415312:0.5280337333679199,387484:0.5239166915416718,371662:0.5162621736526489,322103:0.5137641131877899,342430:0.5134506225585938,401635:0.511372983455658,338274:0.5077457129955292,381398:0.5076227188110352,358624:0.506065309047699,365335:0.5058515071868896,332522:0.5025640726089478,393974:0.5018928945064545,391030:0.5014704167842865,379590:0.4997142553329468,361963:0.4995180368423462,356871:0.49831169843673706,391255:0.4928147792816162,347233:0.49064141511917114,412314:0.4905704855918884,324536:0.4887567162513733,421474:0.48836588859558105,335204:0.4874233603477478,320792:0.4860716462135315,365236:0.48598265647888184',\n",
       " '393303:392707|402240:0.44622671604156494,321498:0.3670175075531006,345554:0.35042667388916016,321881:0.35042357444763184,399790:0.34724533557891846,320633:0.34210240840911865,412728:0.34150177240371704,345402:0.3340912461280823,372926:0.33385682106018066,382569:0.32782578468322754,421611:0.32484084367752075,356765:0.31998205184936523,372227:0.3187229037284851,390915:0.3177183270454407,414434:0.3091158866882324,398371:0.3079334497451782,359952:0.30743080377578735,393641:0.3060681223869324,415080:0.3057771325111389,385046:0.3044247627258301,346806:0.30349862575531006,350438:0.3032712936401367,390495:0.30122530460357666,345712:0.2996455430984497,331874:0.29905468225479126,378780:0.29820460081100464,363351:0.2980117201805115,366822:0.29617226123809814,349243:0.29536890983581543',\n",
       " '327769:177756,329721|355989:0.5317912101745605,339777:0.5260204672813416,400689:0.5172122120857239,395661:0.5109298527240753,404532:0.5008260309696198,329721:0.4991092085838318,318979:0.4988899230957031,349238:0.49486875534057617,372460:0.48843270540237427,415220:0.4859299659729004,327511:0.48124128580093384,374378:0.4795173406600952,378771:0.47571873664855957,421946:0.4745156764984131,418858:0.4739634394645691,317609:0.4708937406539917,364063:0.4640677571296692,348288:0.4637252688407898,411006:0.4631770849227905,337010:0.46124136447906494,377346:0.4608754515647888,339691:0.46056127548217773,370831:0.4574049115180969,374968:0.45362740755081177,336302:0.4536207318305969,320420:0.45094233751296997,330580:0.4503464698791504,373451:0.44878333806991577,324306:0.44779765605926514',\n",
       " '393305:381846|414231:0.3594682216644287,379605:0.33002787828445435,369078:0.31459951400756836,350866:0.31255680322647095,320190:0.3066236972808838,404331:0.3028607964515686,331716:0.3018280863761902,407464:0.2954663634300232,417481:0.2953487038612366,386912:0.294924795627594,411847:0.2872326374053955,382112:0.28564250469207764,415508:0.2824755907058716,414460:0.28187382221221924,373094:0.2816341519355774,340818:0.27796071767807007,346806:0.27332621812820435,330427:0.26958322525024414,372926:0.2655644416809082,350711:0.2646753191947937,366574:0.2645612955093384,395160:0.26376956701278687,380690:0.262992799282074,348162:0.26187413930892944,346680:0.26140809059143066,337419:0.2608994245529175,318410:0.26079118251800537,322475:0.2601829767227173,358045:0.2600681185722351',\n",
       " '360540:355108|381396:0.655614823102951,336261:0.6416388750076294,374573:0.6223493814468384,360163:0.6172792315483093,359609:0.6155373752117157,348439:0.6126254498958588,348440:0.6126254498958588,382174:0.6054961383342743,411396:0.6053332686424255,372456:0.6040448546409607,320791:0.5978045761585236,348892:0.5976404845714569,347561:0.5967102348804474,340304:0.5953895747661591,376461:0.5948664844036102,419048:0.5934355556964874,365313:0.5927246510982513,406669:0.5921056866645813,358759:0.5905614197254181,358103:0.5899360775947571,411816:0.5894314348697662,358505:0.5887002050876617,342015:0.5886107981204987,398308:0.586126834154129,412628:0.5859396457672119,345000:0.5852698981761932,350471:0.5851399004459381,406239:0.5847099721431732,359268:0.5834930539131165',\n",
       " '327772:326427|327233:0.6025363504886627,414179:0.5748874545097351,375114:0.5708269476890564,350336:0.5701365172863007,329382:0.5628803968429565,322685:0.5613404512405396,346147:0.5612120032310486,403040:0.5555090308189392,383893:0.5553451180458069,405513:0.5520481467247009,411891:0.5518534779548645,329475:0.5512566864490509,351875:0.5501519441604614,359619:0.5493001043796539,405942:0.5471236109733582,393566:0.5465365052223206,411675:0.5465226173400879,422451:0.5462600886821747,423426:0.5448307991027832,423427:0.5448307991027832,343126:0.5443548262119293,342022:0.5442175269126892,382011:0.541423887014389,329245:0.5412333011627197,353171:0.5405342280864716,404943:0.5383403599262238,348787:0.538099855184555,413006:0.5377923846244812,387616:0.5363453328609467',\n",
       " '360547:360548,360549|360548:1.0,360549:1.0,346531:0.41510093212127686,325672:0.410091757774353,322001:0.4071601629257202,331441:0.4059285521507263,356113:0.4034234881401062,342368:0.40301698446273804,337913:0.401836633682251,421875:0.4014376401901245,318410:0.4012584686279297,344192:0.40002137422561646,376318:0.39960771799087524,330752:0.3980332612991333,320931:0.39801478385925293,344504:0.397788405418396,421216:0.3949580788612366,373094:0.3926580548286438,378666:0.39254230260849,352289:0.3924669623374939,317757:0.3922935724258423,345249:0.3866499662399292,325666:0.3857707381248474,416802:0.3854600787162781,403411:0.38544827699661255,312670:0.3850167393684387,362969:0.3848995566368103,350559:0.3848150968551636,350516:0.38348615169525146']"
      ]
     },
     "execution_count": 34,
     "metadata": {},
     "output_type": "execute_result"
    }
   ],
   "source": [
    "_[:20]"
   ]
  },
  {
   "cell_type": "code",
   "execution_count": 35,
   "metadata": {},
   "outputs": [
    {
     "data": {
      "text/plain": [
       "('recall@25 last epoch:', 0.14)"
      ]
     },
     "execution_count": 35,
     "metadata": {},
     "output_type": "execute_result"
    }
   ],
   "source": [
    "recall, exported_rank, debug = experiment.evaluate_validation_test(retrieval, verbose, bug_feature_output_a, issues_by_buckets, \n",
    "                                                            bug_train_ids, method='dwen')\n",
    "\n",
    "\"recall@25 last epoch:\", recall"
   ]
  },
  {
   "cell_type": "markdown",
   "metadata": {},
   "source": [
    "### Retrieval evaluation"
   ]
  },
  {
   "cell_type": "code",
   "execution_count": 36,
   "metadata": {},
   "outputs": [
    {
     "name": "stdout",
     "output_type": "stream",
     "text": [
      "Total of queries: 4641\n"
     ]
    }
   ],
   "source": [
    "print(\"Total of queries:\", len(retrieval.test))"
   ]
  },
  {
   "cell_type": "markdown",
   "metadata": {},
   "source": [
    "#### Getting the model trained"
   ]
  },
  {
   "cell_type": "code",
   "execution_count": 37,
   "metadata": {},
   "outputs": [
    {
     "data": {
      "text/plain": [
       "'baseline_dwen_1_feature_1epochs_64batch(eclipse)'"
      ]
     },
     "execution_count": 37,
     "metadata": {},
     "output_type": "execute_result"
    }
   ],
   "source": [
    "SAVE_PATH_FEATURE.replace('@number_of_epochs@', str(epochs))"
   ]
  },
  {
   "cell_type": "code",
   "execution_count": 38,
   "metadata": {},
   "outputs": [],
   "source": [
    "model = bug_feature_output_a\n",
    "#model = experiment.get_model_vectorizer(path=SAVE_PATH_FEATURE.replace('@number_of_epochs@', str(epochs)))"
   ]
  },
  {
   "cell_type": "code",
   "execution_count": 39,
   "metadata": {},
   "outputs": [
    {
     "name": "stdout",
     "output_type": "stream",
     "text": [
      "__________________________________________________________________________________________________\n",
      "Layer (type)                    Output Shape         Param #     Connected to                     \n",
      "==================================================================================================\n",
      "title_dwen_a (InputLayer)       (None, 20)           0                                            \n",
      "__________________________________________________________________________________________________\n",
      "desc_dwen_a (InputLayer)        (None, 20)           0                                            \n",
      "__________________________________________________________________________________________________\n",
      "embedding_layer_title (Embeddin (None, 20, 300)      6352500     title_dwen_a[0][0]               \n",
      "__________________________________________________________________________________________________\n",
      "embedding_layer_desc (Embedding (None, 20, 300)      6352500     desc_dwen_a[0][0]                \n",
      "__________________________________________________________________________________________________\n",
      "global_average_pooling1d_1 (Glo (None, 300)          0           embedding_layer_title[0][0]      \n",
      "__________________________________________________________________________________________________\n",
      "global_average_pooling1d_2 (Glo (None, 300)          0           embedding_layer_desc[0][0]       \n",
      "__________________________________________________________________________________________________\n",
      "merge_features_dwen_a (Average) (None, 300)          0           global_average_pooling1d_1[0][0] \n",
      "                                                                 global_average_pooling1d_2[0][0] \n",
      "==================================================================================================\n",
      "Total params: 12,705,000\n",
      "Trainable params: 0\n",
      "Non-trainable params: 12,705,000\n",
      "__________________________________________________________________________________________________\n"
     ]
    }
   ],
   "source": [
    "model.summary()"
   ]
  },
  {
   "cell_type": "code",
   "execution_count": 40,
   "metadata": {},
   "outputs": [],
   "source": [
    "recall, exported_rank, debug = experiment.evaluate_validation_test(retrieval, 0, model, issues_by_buckets, \n",
    "                                                                   bug_train_ids, method='dwen')"
   ]
  },
  {
   "cell_type": "code",
   "execution_count": 41,
   "metadata": {},
   "outputs": [
    {
     "data": {
      "text/plain": [
       "'data/processed/eclipse/exported_rank_baseline_dwen_1.txt'"
      ]
     },
     "execution_count": 41,
     "metadata": {},
     "output_type": "execute_result"
    }
   ],
   "source": [
    "EXPORT_RANK_PATH = os.path.join(DIR, 'exported_rank_{}.txt'.format(METHOD))\n",
    "EXPORT_RANK_PATH"
   ]
  },
  {
   "cell_type": "code",
   "execution_count": 42,
   "metadata": {},
   "outputs": [],
   "source": [
    "with open(EXPORT_RANK_PATH, 'w') as file_out:\n",
    "    for row in exported_rank:\n",
    "        file_out.write(row + \"\\n\")"
   ]
  },
  {
   "cell_type": "code",
   "execution_count": 43,
   "metadata": {},
   "outputs": [
    {
     "data": {
      "text/plain": [
       "{'1 - recall_at_5': 0.1,\n",
       " '2 - recall_at_10': 0.12,\n",
       " '3 - recall_at_15': 0.13,\n",
       " '4 - recall_at_20': 0.13,\n",
       " '5 - recall_at_25': 0.14}"
      ]
     },
     "execution_count": 43,
     "metadata": {},
     "output_type": "execute_result"
    }
   ],
   "source": [
    "report = experiment.evaluation.evaluate(EXPORT_RANK_PATH)\n",
    "report"
   ]
  }
 ],
 "metadata": {
  "accelerator": "GPU",
  "colab": {
   "collapsed_sections": [],
   "name": "[baseline] Bug triage with Deep Learning.ipynb",
   "provenance": [],
   "toc_visible": true,
   "version": "0.3.2"
  },
  "kernelspec": {
   "display_name": "Python 3",
   "language": "python",
   "name": "python3"
  },
  "language_info": {
   "codemirror_mode": {
    "name": "ipython",
    "version": 3
   },
   "file_extension": ".py",
   "mimetype": "text/x-python",
   "name": "python",
   "nbconvert_exporter": "python",
   "pygments_lexer": "ipython3",
   "version": "3.5.2"
  }
 },
 "nbformat": 4,
 "nbformat_minor": 1
}
