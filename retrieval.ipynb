{
 "cells": [
  {
   "cell_type": "code",
   "execution_count": 1,
   "metadata": {},
   "outputs": [],
   "source": [
    "import pandas as pd\n",
    "import os\n",
    "from tqdm import tqdm_notebook as tqdm\n",
    "import matplotlib.pyplot as plt\n",
    "import sys\n",
    "from operator import itemgetter\n",
    "nb_dir = os.path.split(os.getcwd())[0]\n",
    "if nb_dir not in sys.path:\n",
    "    sys.path.append(nb_dir)"
   ]
  },
  {
   "cell_type": "code",
   "execution_count": 2,
   "metadata": {},
   "outputs": [
    {
     "name": "stderr",
     "output_type": "stream",
     "text": [
      "Using TensorFlow backend.\n"
     ]
    }
   ],
   "source": [
    "from methods.baseline import Baseline\n",
    "from methods.retrieval import Retrieval\n",
    "from annoy import AnnoyIndex\n",
    "import numpy as np"
   ]
  },
  {
   "cell_type": "code",
   "execution_count": 3,
   "metadata": {},
   "outputs": [
    {
     "name": "stderr",
     "output_type": "stream",
     "text": [
      "\r",
      "0it [00:00, ?it/s]"
     ]
    },
    {
     "name": "stdout",
     "output_type": "stream",
     "text": [
      "Reading train data\n",
      "Reading the test...\n"
     ]
    },
    {
     "name": "stderr",
     "output_type": "stream",
     "text": [
      "12798it [00:00, 67128.42it/s]\n",
      "  1%|          | 2019/212512 [00:00<00:10, 20182.80it/s]"
     ]
    },
    {
     "name": "stdout",
     "output_type": "stream",
     "text": [
      "Reading test data\n"
     ]
    },
    {
     "name": "stderr",
     "output_type": "stream",
     "text": [
      "100%|██████████| 212512/212512 [00:11<00:00, 19019.06it/s]\n",
      "  0%|          | 585/321483 [00:00<00:54, 5848.23it/s]"
     ]
    },
    {
     "name": "stdout",
     "output_type": "stream",
     "text": [
      "Creating the buckets...\n"
     ]
    },
    {
     "name": "stderr",
     "output_type": "stream",
     "text": [
      "100%|██████████| 321483/321483 [00:16<00:00, 19736.82it/s]\n",
      "100%|██████████| 39523/39523 [00:01<00:00, 35146.78it/s]\n",
      "12798it [00:00, 125703.89it/s]"
     ]
    },
    {
     "name": "stdout",
     "output_type": "stream",
     "text": [
      "Creating the queries...\n"
     ]
    },
    {
     "name": "stderr",
     "output_type": "stream",
     "text": [
      "\n"
     ]
    }
   ],
   "source": [
    "retrieval = Retrieval()\n",
    "\n",
    "path = 'data/processed/eclipse'\n",
    "path_buckets = 'data/normalized/eclipse/eclipse.csv'\n",
    "path_train = 'data/processed/eclipse/train.txt'\n",
    "path_test = 'data/processed/eclipse/test.txt'\n",
    "\n",
    "MAX_SEQUENCE_LENGTH_T = 20 # Title\n",
    "MAX_SEQUENCE_LENGTH_D = 200 # Description\n",
    "MAX_SEQUENCE_LENGTH_I = 1682 # Status, Severity, Version, Component, Module\n",
    "\n",
    "# Create the instance from baseline\n",
    "retrieval.baseline = Baseline(path, path_buckets, MAX_SEQUENCE_LENGTH_T, MAX_SEQUENCE_LENGTH_D)\n",
    "\n",
    "df = pd.read_csv(path_buckets)\n",
    "\n",
    "# Load bug ids\n",
    "retrieval.load_bugs(path, path_train)\n",
    "# Create the buckets\n",
    "retrieval.create_bucket(df)\n",
    "# Read and create the test queries duplicate\n",
    "retrieval.create_queries(path_test)"
   ]
  },
  {
   "cell_type": "code",
   "execution_count": 4,
   "metadata": {},
   "outputs": [
    {
     "data": {
      "application/vnd.jupyter.widget-view+json": {
       "model_id": "6e85e16b4700441286f7b87809b8f066",
       "version_major": 2,
       "version_minor": 0
      },
      "text/plain": [
       "HBox(children=(IntProgress(value=0, max=321483), HTML(value='')))"
      ]
     },
     "metadata": {},
     "output_type": "display_data"
    },
    {
     "name": "stdout",
     "output_type": "stream",
     "text": [
      "\n"
     ]
    }
   ],
   "source": [
    "issues_by_buckets = {}\n",
    "for bucket in tqdm(retrieval.buckets):\n",
    "    issues_by_buckets[bucket] = bucket\n",
    "    for issue in np.array(retrieval.buckets[bucket]).tolist():\n",
    "        issues_by_buckets[issue] = bucket"
   ]
  },
  {
   "cell_type": "code",
   "execution_count": 5,
   "metadata": {
    "scrolled": false
   },
   "outputs": [],
   "source": [
    "retrieval.train_vectorized, retrieval.test_result = [], []\n",
    "# Infer vector to all train\n",
    "retrieval.read_train(path_train)"
   ]
  },
  {
   "cell_type": "code",
   "execution_count": 6,
   "metadata": {},
   "outputs": [
    {
     "name": "stdout",
     "output_type": "stream",
     "text": [
      "Total of queries: 12798\n"
     ]
    }
   ],
   "source": [
    "print(\"Total of queries:\", len(retrieval.test))"
   ]
  },
  {
   "cell_type": "markdown",
   "metadata": {},
   "source": [
    "## Search"
   ]
  },
  {
   "cell_type": "markdown",
   "metadata": {},
   "source": [
    "#### Filtering the bugs from train"
   ]
  },
  {
   "cell_type": "code",
   "execution_count": 7,
   "metadata": {
    "scrolled": true
   },
   "outputs": [
    {
     "data": {
      "application/vnd.jupyter.widget-view+json": {
       "model_id": "363fed096a8c4882ba4e44a7eed5d5c4",
       "version_major": 2,
       "version_minor": 0
      },
      "text/plain": [
       "HBox(children=(IntProgress(value=0, max=70287), HTML(value='')))"
      ]
     },
     "metadata": {},
     "output_type": "display_data"
    },
    {
     "name": "stdout",
     "output_type": "stream",
     "text": [
      "\n"
     ]
    }
   ],
   "source": [
    "retrieval.train_vectorized = []\n",
    "bug_set = retrieval.baseline.get_bug_set()\n",
    "bug_unique = set()\n",
    "for row in tqdm(retrieval.train):\n",
    "    dup_a_id, dup_b_id = row\n",
    "    bug_unique.add(dup_a_id)\n",
    "    bug_unique.add(dup_b_id)\n",
    "retrieval.bugs_train = bug_unique"
   ]
  },
  {
   "cell_type": "markdown",
   "metadata": {},
   "source": [
    "#### Seleecting buckets from train"
   ]
  },
  {
   "cell_type": "code",
   "execution_count": 8,
   "metadata": {
    "scrolled": true
   },
   "outputs": [
    {
     "data": {
      "application/vnd.jupyter.widget-view+json": {
       "model_id": "48788aa582e64db19ff0d9614173da15",
       "version_major": 2,
       "version_minor": 0
      },
      "text/plain": [
       "HBox(children=(IntProgress(value=0, max=321483), HTML(value='')))"
      ]
     },
     "metadata": {},
     "output_type": "display_data"
    },
    {
     "name": "stdout",
     "output_type": "stream",
     "text": [
      "\n",
      "Selecting only buckets from train...\n"
     ]
    },
    {
     "data": {
      "application/vnd.jupyter.widget-view+json": {
       "model_id": "f3d78729878743a2ace9ff045803cfe6",
       "version_major": 2,
       "version_minor": 0
      },
      "text/plain": [
       "HBox(children=(IntProgress(value=0, max=70287), HTML(value='')))"
      ]
     },
     "metadata": {},
     "output_type": "display_data"
    },
    {
     "name": "stdout",
     "output_type": "stream",
     "text": [
      "\n"
     ]
    }
   ],
   "source": [
    "buckets_duplicates = set([key for key in tqdm(retrieval.buckets) if len(retrieval.buckets[key]) > 1])\n",
    "print(\"Selecting only buckets from train...\")\n",
    "buckets_train = set()\n",
    "for row in tqdm(retrieval.train):\n",
    "    dup_a_id, dup_b_id = row\n",
    "    buckets_train.add(issues_by_buckets[dup_a_id])\n",
    "    buckets_train.add(issues_by_buckets[dup_b_id])"
   ]
  },
  {
   "cell_type": "markdown",
   "metadata": {},
   "source": [
    "#### Buckets with at least 2 duplicates"
   ]
  },
  {
   "cell_type": "code",
   "execution_count": 9,
   "metadata": {},
   "outputs": [
    {
     "name": "stdout",
     "output_type": "stream",
     "text": [
      "Buckets train: 20938\n",
      "Buckets test: 3475\n",
      "All Buckets: 24413\n"
     ]
    }
   ],
   "source": [
    "print(\"Buckets train:\", len(buckets_train))\n",
    "print(\"Buckets test:\", len(buckets_duplicates) - len(buckets_train))\n",
    "print(\"All Buckets:\", len(buckets_duplicates))"
   ]
  },
  {
   "cell_type": "markdown",
   "metadata": {},
   "source": [
    "#### Model to vectorizer all buckets"
   ]
  },
  {
   "cell_type": "code",
   "execution_count": 10,
   "metadata": {},
   "outputs": [
    {
     "name": "stdout",
     "output_type": "stream",
     "text": [
      "Loaded model from disk\n"
     ]
    }
   ],
   "source": [
    "import keras\n",
    "from keras.models import Model\n",
    "from keras.layers import Input\n",
    "\n",
    "name = 'baseline_classification_100epoch_10steps(eclipse)'\n",
    "similarity_model = Baseline.load_model('', name, {'l2_normalize' : Baseline.l2_normalize})\n",
    "\n",
    "bug_title = Input(shape = (MAX_SEQUENCE_LENGTH_T, ), name = 'title') #similarity_model.get_layer('title_in').input\n",
    "bug_desc = Input(shape = (MAX_SEQUENCE_LENGTH_D, ), name = 'desc') # similarity_model.get_layer('desc_in').input\n",
    "bug_info = Input(shape = (MAX_SEQUENCE_LENGTH_I, ), name = 'info') # similarity_model.get_layer('info_in').input\n",
    "\n",
    "title_encoder = similarity_model.get_layer('FeatureLstmGenerationModel')\n",
    "desc_encoder = similarity_model.get_layer('FeatureCNNGenerationModel')\n",
    "info_encoder = similarity_model.get_layer('FeatureMlpGenerationModel')\n",
    "\n",
    "bug_t = title_encoder(bug_title)\n",
    "bug_d = desc_encoder(bug_desc)\n",
    "bug_i = info_encoder(bug_info)\n",
    "# Representation layer\n",
    "model = similarity_model.get_layer('merge_features_in')\n",
    "output = model([bug_i, bug_t, bug_d])\n",
    "# Classification layer\n",
    "for layer in ['dense_2', 'activation_2', 'batch_normalization_2']:\n",
    "    clf_layer = similarity_model.get_layer(layer)\n",
    "    output = clf_layer(output)\n",
    "\n",
    "model = Model(inputs=[bug_title, bug_desc, bug_info], outputs=[output])\n",
    "\n",
    "model.compile(optimizer='adam', loss='categorical_crossentropy', metrics = ['accuracy'])"
   ]
  },
  {
   "cell_type": "code",
   "execution_count": 11,
   "metadata": {},
   "outputs": [
    {
     "name": "stdout",
     "output_type": "stream",
     "text": [
      "__________________________________________________________________________________________________\n",
      "Layer (type)                    Output Shape         Param #     Connected to                     \n",
      "==================================================================================================\n",
      "info (InputLayer)               (None, 1682)         0                                            \n",
      "__________________________________________________________________________________________________\n",
      "title (InputLayer)              (None, 20)           0                                            \n",
      "__________________________________________________________________________________________________\n",
      "desc (InputLayer)               (None, 200)          0                                            \n",
      "__________________________________________________________________________________________________\n",
      "FeatureMlpGenerationModel (Mode (None, 256)          4471853     info[0][0]                       \n",
      "__________________________________________________________________________________________________\n",
      "FeatureLstmGenerationModel (Mod (None, 50)           38628600    title[0][0]                      \n",
      "__________________________________________________________________________________________________\n",
      "FeatureCNNGenerationModel (Mode (None, 256)          39047944    desc[0][0]                       \n",
      "__________________________________________________________________________________________________\n",
      "merge_features_in (Concatenate) (None, 562)          0           FeatureMlpGenerationModel[3][0]  \n",
      "                                                                 FeatureLstmGenerationModel[3][0] \n",
      "                                                                 FeatureCNNGenerationModel[3][0]  \n",
      "__________________________________________________________________________________________________\n",
      "dense_2 (Dense)                 (None, 562)          316406      merge_features_in[2][0]          \n",
      "__________________________________________________________________________________________________\n",
      "activation_2 (Activation)       (None, 562)          0           dense_2[1][0]                    \n",
      "__________________________________________________________________________________________________\n",
      "batch_normalization_2 (BatchNor (None, 562)          2248        activation_2[1][0]               \n",
      "==================================================================================================\n",
      "Total params: 82,467,051\n",
      "Trainable params: 5,484,481\n",
      "Non-trainable params: 76,982,570\n",
      "__________________________________________________________________________________________________\n"
     ]
    }
   ],
   "source": [
    "model.summary()"
   ]
  },
  {
   "cell_type": "markdown",
   "metadata": {},
   "source": [
    "#### Vectorizing all buckets from train"
   ]
  },
  {
   "cell_type": "code",
   "execution_count": 12,
   "metadata": {
    "scrolled": true
   },
   "outputs": [],
   "source": [
    "def vectorizer_buckets_train(buckets_train):\n",
    "    bug_set = retrieval.baseline.get_bug_set()\n",
    "    buckets_train_vectorized = []\n",
    "    for bug_id in tqdm(buckets_train): # retrieval.bugs_train\n",
    "        bug = bug_set[bug_id]\n",
    "        bug_vector = model.predict([ [bug['title_word']], [bug['description_word']], [retrieval.get_info(bug)] ])[0]\n",
    "        buckets_train_vectorized.append({ 'bug_id' : bug_id, 'vector' : bug_vector })\n",
    "    return buckets_train_vectorized"
   ]
  },
  {
   "cell_type": "code",
   "execution_count": 13,
   "metadata": {},
   "outputs": [
    {
     "data": {
      "application/vnd.jupyter.widget-view+json": {
       "model_id": "26067690515844e5a361b45566e59d74",
       "version_major": 2,
       "version_minor": 0
      },
      "text/plain": [
       "HBox(children=(IntProgress(value=0, max=20938), HTML(value='')))"
      ]
     },
     "metadata": {},
     "output_type": "display_data"
    },
    {
     "name": "stdout",
     "output_type": "stream",
     "text": [
      "\n"
     ]
    }
   ],
   "source": [
    "buckets_train_vectorized = vectorizer_buckets_train(buckets_train)"
   ]
  },
  {
   "cell_type": "markdown",
   "metadata": {},
   "source": [
    "#### Vectorizing all test"
   ]
  },
  {
   "cell_type": "code",
   "execution_count": 40,
   "metadata": {
    "scrolled": true
   },
   "outputs": [
    {
     "data": {
      "application/vnd.jupyter.widget-view+json": {
       "model_id": "76580deac4714a2e8b033aad4e85ca42",
       "version_major": 2,
       "version_minor": 0
      },
      "text/plain": [
       "HBox(children=(IntProgress(value=0, max=12798), HTML(value='')))"
      ]
     },
     "metadata": {},
     "output_type": "display_data"
    },
    {
     "name": "stdout",
     "output_type": "stream",
     "text": [
      "\n"
     ]
    }
   ],
   "source": [
    "bug_set = retrieval.baseline.get_bug_set()\n",
    "queries_test_vectorized = []\n",
    "for row in tqdm(retrieval.test):\n",
    "    bug_id, ground_truth = row\n",
    "    if issues_by_buckets[bug_id] == bug_id: continue\n",
    "    bug = bug_set[bug_id]\n",
    "    bug_vector = model.predict([ [bug['title_word']], [bug['description_word']], [retrieval.get_info(bug)] ])[0]\n",
    "    queries_test_vectorized.append({ 'bug_id' : bug_id, 'vector' : bug_vector, 'ground_truth': ground_truth })"
   ]
  },
  {
   "cell_type": "markdown",
   "metadata": {},
   "source": [
    "### Indexing all vectors"
   ]
  },
  {
   "cell_type": "code",
   "execution_count": 41,
   "metadata": {},
   "outputs": [],
   "source": [
    "# Indexing all train\n",
    "def indexing_train(buckets_train_vectorized):\n",
    "    X = np.array(buckets_train_vectorized)\n",
    "    annoy = AnnoyIndex(X[0]['vector'].shape[0])  # Length of item vector that will be indexed\n",
    "\n",
    "    loop = tqdm(total=len(X))\n",
    "    for index, row in enumerate(X):\n",
    "        vector = row['vector']\n",
    "        annoy.add_item(index, vector)\n",
    "        loop.update(1)\n",
    "    loop.close()\n",
    "    annoy.build(10) # 10 trees\n",
    "    return annoy"
   ]
  },
  {
   "cell_type": "code",
   "execution_count": 42,
   "metadata": {},
   "outputs": [
    {
     "data": {
      "application/vnd.jupyter.widget-view+json": {
       "model_id": "701577b7c2144a038cedd18c4447bacd",
       "version_major": 2,
       "version_minor": 0
      },
      "text/plain": [
       "HBox(children=(IntProgress(value=0, max=24413), HTML(value='')))"
      ]
     },
     "metadata": {},
     "output_type": "display_data"
    },
    {
     "name": "stdout",
     "output_type": "stream",
     "text": [
      "\n"
     ]
    }
   ],
   "source": [
    "annoy = indexing_train(buckets_train_vectorized)"
   ]
  },
  {
   "cell_type": "markdown",
   "metadata": {},
   "source": [
    "## Retrieval using classication model"
   ]
  },
  {
   "cell_type": "code",
   "execution_count": 43,
   "metadata": {},
   "outputs": [],
   "source": [
    "def indexing_test(queries_test_vectorized):\n",
    "    X_test = queries_test_vectorized\n",
    "    distance_test, indices_test = [], []\n",
    "    for index, row in tqdm(enumerate(X_test)):\n",
    "        vector = row['vector']\n",
    "        rank, dist = annoy.get_nns_by_vector(vector, 30, include_distances=True)\n",
    "        indices_test.append(rank)\n",
    "        distance_test.append(dist)\n",
    "    return X_test, distance_test, indices_test"
   ]
  },
  {
   "cell_type": "code",
   "execution_count": 44,
   "metadata": {},
   "outputs": [
    {
     "data": {
      "application/vnd.jupyter.widget-view+json": {
       "model_id": "c7dfb49cbe8742d7860bd7f0b6d8d6cc",
       "version_major": 2,
       "version_minor": 0
      },
      "text/plain": [
       "HBox(children=(IntProgress(value=1, bar_style='info', max=1), HTML(value='')))"
      ]
     },
     "metadata": {},
     "output_type": "display_data"
    },
    {
     "name": "stdout",
     "output_type": "stream",
     "text": [
      "\n"
     ]
    }
   ],
   "source": [
    "X_test, distance_test, indices_test = indexing_test(queries_test_vectorized)"
   ]
  },
  {
   "cell_type": "code",
   "execution_count": 45,
   "metadata": {},
   "outputs": [
    {
     "data": {
      "text/plain": [
       "'Total buckets train vectorized: 24413'"
      ]
     },
     "execution_count": 45,
     "metadata": {},
     "output_type": "execute_result"
    }
   ],
   "source": [
    "\"Total buckets train vectorized: {}\".format(len(buckets_train_vectorized))"
   ]
  },
  {
   "cell_type": "markdown",
   "metadata": {},
   "source": [
    "#### Removing queries that appear in the train"
   ]
  },
  {
   "cell_type": "code",
   "execution_count": 46,
   "metadata": {},
   "outputs": [
    {
     "data": {
      "text/plain": [
       "'Total queries vectorized: 0'"
      ]
     },
     "execution_count": 46,
     "metadata": {},
     "output_type": "execute_result"
    }
   ],
   "source": [
    "\"Total queries vectorized: {}\".format(len(queries_test_vectorized))"
   ]
  },
  {
   "cell_type": "code",
   "execution_count": 21,
   "metadata": {},
   "outputs": [],
   "source": [
    "def removing_queries_appear_train_or_buckets_querie_test(queries_test_vectorized, indices_test):\n",
    "    queries_test_vectorized_clean = []\n",
    "    for row, index in zip(queries_test_vectorized, indices_test):\n",
    "        if row['bug_id'] == buckets_train_vectorized[index[0]]['bug_id']: continue\n",
    "        queries_test_vectorized_clean.append(row)\n",
    "    queries_test_vectorized = queries_test_vectorized_clean\n",
    "    return queries_test_vectorized"
   ]
  },
  {
   "cell_type": "code",
   "execution_count": 22,
   "metadata": {},
   "outputs": [],
   "source": [
    "queries_test_vectorized = removing_queries_appear_train_or_buckets_querie_test(queries_test_vectorized, indices_test)"
   ]
  },
  {
   "cell_type": "code",
   "execution_count": 23,
   "metadata": {},
   "outputs": [
    {
     "data": {
      "text/plain": [
       "'Total queries vectorized: 11057'"
      ]
     },
     "execution_count": 23,
     "metadata": {},
     "output_type": "execute_result"
    }
   ],
   "source": [
    "\"Total queries vectorized: {}\".format(len(queries_test_vectorized))"
   ]
  },
  {
   "cell_type": "markdown",
   "metadata": {},
   "source": [
    "#### Adding the ground_truth in the train"
   ]
  },
  {
   "cell_type": "code",
   "execution_count": 24,
   "metadata": {},
   "outputs": [
    {
     "data": {
      "application/vnd.jupyter.widget-view+json": {
       "model_id": "d949412073bd447cb251900c9ef9b6a9",
       "version_major": 2,
       "version_minor": 0
      },
      "text/plain": [
       "HBox(children=(IntProgress(value=0, max=11057), HTML(value='')))"
      ]
     },
     "metadata": {},
     "output_type": "display_data"
    },
    {
     "name": "stdout",
     "output_type": "stream",
     "text": [
      "\n"
     ]
    },
    {
     "data": {
      "application/vnd.jupyter.widget-view+json": {
       "model_id": "df5da77589244e6e8ad4f9adf8bb9e9f",
       "version_major": 2,
       "version_minor": 0
      },
      "text/plain": [
       "HBox(children=(IntProgress(value=0, max=15414), HTML(value='')))"
      ]
     },
     "metadata": {},
     "output_type": "display_data"
    },
    {
     "name": "stdout",
     "output_type": "stream",
     "text": [
      "\n"
     ]
    },
    {
     "data": {
      "application/vnd.jupyter.widget-view+json": {
       "model_id": "a2660840aa6646a88c0154b6da5d4aba",
       "version_major": 2,
       "version_minor": 0
      },
      "text/plain": [
       "HBox(children=(IntProgress(value=0, max=24413), HTML(value='')))"
      ]
     },
     "metadata": {},
     "output_type": "display_data"
    },
    {
     "name": "stdout",
     "output_type": "stream",
     "text": [
      "\n"
     ]
    }
   ],
   "source": [
    "bug_set = retrieval.baseline.get_bug_set()\n",
    "ground_truth_ids = []\n",
    "for row in tqdm(queries_test_vectorized):\n",
    "    ground_truth_ids += row['ground_truth']\n",
    "for bug_id in tqdm(ground_truth_ids):\n",
    "    buckets_train.add(issues_by_buckets[bug_id])\n",
    "buckets_train_vectorized = vectorizer_buckets_train(buckets_train)"
   ]
  },
  {
   "cell_type": "markdown",
   "metadata": {},
   "source": [
    "#### Rebuilding train and test after modifications"
   ]
  },
  {
   "cell_type": "code",
   "execution_count": 25,
   "metadata": {},
   "outputs": [
    {
     "data": {
      "application/vnd.jupyter.widget-view+json": {
       "model_id": "9b17c3cce0f74bdd8ba2be0ea5889926",
       "version_major": 2,
       "version_minor": 0
      },
      "text/plain": [
       "HBox(children=(IntProgress(value=0, max=24413), HTML(value='')))"
      ]
     },
     "metadata": {},
     "output_type": "display_data"
    },
    {
     "name": "stdout",
     "output_type": "stream",
     "text": [
      "\n"
     ]
    }
   ],
   "source": [
    "annoy = indexing_train(buckets_train_vectorized)"
   ]
  },
  {
   "cell_type": "code",
   "execution_count": 26,
   "metadata": {},
   "outputs": [
    {
     "data": {
      "application/vnd.jupyter.widget-view+json": {
       "model_id": "6e70e2a040c84dc89d28040b95e67bde",
       "version_major": 2,
       "version_minor": 0
      },
      "text/plain": [
       "HBox(children=(IntProgress(value=1, bar_style='info', max=1), HTML(value='')))"
      ]
     },
     "metadata": {},
     "output_type": "display_data"
    },
    {
     "name": "stdout",
     "output_type": "stream",
     "text": [
      "\n"
     ]
    }
   ],
   "source": [
    "X_test, distance_test, indices_test = indexing_test(queries_test_vectorized)"
   ]
  },
  {
   "cell_type": "code",
   "execution_count": 27,
   "metadata": {
    "scrolled": true
   },
   "outputs": [
    {
     "name": "stdout",
     "output_type": "stream",
     "text": [
      "Total buckets train vectorized: 24413\n",
      "Total queries vectorized: 11057\n"
     ]
    }
   ],
   "source": [
    "print(\"Total buckets train vectorized: {}\".format(len(buckets_train_vectorized)))\n",
    "print(\"Total queries vectorized: {}\".format(len(queries_test_vectorized)))"
   ]
  },
  {
   "cell_type": "markdown",
   "metadata": {},
   "source": [
    "## Rank result"
   ]
  },
  {
   "cell_type": "code",
   "execution_count": 28,
   "metadata": {},
   "outputs": [
    {
     "data": {
      "application/vnd.jupyter.widget-view+json": {
       "model_id": "1baf2a21977c45d5b71236e41ed2fb39",
       "version_major": 2,
       "version_minor": 0
      },
      "text/plain": [
       "HBox(children=(IntProgress(value=1, bar_style='info', max=1), HTML(value='')))"
      ]
     },
     "metadata": {},
     "output_type": "display_data"
    },
    {
     "name": "stdout",
     "output_type": "stream",
     "text": [
      "\n"
     ]
    }
   ],
   "source": [
    "formated_rank = []\n",
    "for row_index, row_sim in tqdm(zip(indices_test, distance_test)):\n",
    "    row_index, row_sim = row_index[:20], row_sim[:20]\n",
    "    formated_rank.append(\",\".join([\"{}:{}\".format(buckets_train_vectorized[index]['bug_id'], sim) \n",
    "                                   for index, sim in zip(row_index, row_sim)]))"
   ]
  },
  {
   "cell_type": "markdown",
   "metadata": {},
   "source": [
    "#### Queries "
   ]
  },
  {
   "cell_type": "code",
   "execution_count": 29,
   "metadata": {
    "scrolled": true
   },
   "outputs": [
    {
     "data": {
      "application/vnd.jupyter.widget-view+json": {
       "model_id": "f164e2f5f2d94e60a1d117641610f411",
       "version_major": 2,
       "version_minor": 0
      },
      "text/plain": [
       "HBox(children=(IntProgress(value=1, bar_style='info', max=1), HTML(value='')))"
      ]
     },
     "metadata": {},
     "output_type": "display_data"
    },
    {
     "name": "stdout",
     "output_type": "stream",
     "text": [
      "\n"
     ]
    }
   ],
   "source": [
    "# Generating the rank result\n",
    "rank_queries = []\n",
    "\n",
    "for index, row in tqdm(enumerate(X_test)):\n",
    "    dup_a, ground_truth = row['bug_id'], row['ground_truth']\n",
    "    ground_truth = \",\".join(np.array(ground_truth, str))\n",
    "    rank_queries.append(\"{}:{}\".format(dup_a, issues_by_buckets[dup_a]))"
   ]
  },
  {
   "cell_type": "code",
   "execution_count": 30,
   "metadata": {},
   "outputs": [
    {
     "data": {
      "application/vnd.jupyter.widget-view+json": {
       "model_id": "bbd9750fcf194582b528b38eb1d4b2f8",
       "version_major": 2,
       "version_minor": 0
      },
      "text/plain": [
       "HBox(children=(IntProgress(value=0, max=11057), HTML(value='')))"
      ]
     },
     "metadata": {},
     "output_type": "display_data"
    },
    {
     "name": "stdout",
     "output_type": "stream",
     "text": [
      "\n"
     ]
    }
   ],
   "source": [
    "exported_rank = []\n",
    "loop = tqdm(total=len(rank_queries))\n",
    "\n",
    "for query, rank in zip(rank_queries, formated_rank):\n",
    "    exported_rank.append(\"{}|{}\".format(query, rank))\n",
    "    loop.update(1)\n",
    "loop.close()"
   ]
  },
  {
   "cell_type": "code",
   "execution_count": 31,
   "metadata": {},
   "outputs": [
    {
     "data": {
      "text/plain": [
       "['98309:128463|139517:0.043819282203912735,147492:0.049943216145038605,41111:0.0519556999206543,135926:0.05506506189703941,88362:0.055887047201395035,82662:0.060155875980854034,331517:0.062186349183321,85971:0.062262751162052155,214041:0.06308712810277939,145060:0.06330885738134384,314489:0.0633108988404274,81997:0.06562544405460358,241440:0.06670304387807846,155442:0.06953224539756775,339214:0.07030508667230606,339607:0.07107843458652496,352463:0.07228773832321167,281709:0.07645438611507416,141220:0.07749004662036896,150097:0.07779340445995331',\n",
       " '10:10|10:0.0,4931:0.052450090646743774,4882:0.05384274944663048,7519:0.061163727194070816,10509:0.061429060995578766,11279:0.06479943543672562,7564:0.06737362593412399,11208:0.07220620661973953,12369:0.07266508042812347,71:0.07679548114538193,76326:0.07857028394937515,5568:0.0802750363945961,4904:0.08480124920606613,15406:0.08745533972978592,35609:0.09133847057819366,41376:0.09153779596090317,111250:0.09198561310768127,151861:0.09227538853883743,7820:0.0923328846693039,119996:0.09287405759096146',\n",
       " '294924:239825|311234:0.02496042475104332,294985:0.04965323582291603,246211:0.05455494672060013,318883:0.058284830302000046,296744:0.058964285999536514,296961:0.05896677076816559,383924:0.059153806418180466,351559:0.05925898998975754,381811:0.05978832393884659,355989:0.060150183737277985,362861:0.0606604628264904,296606:0.0628325343132019,416446:0.06311783939599991,389907:0.0642135739326477,354861:0.06427128612995148,357573:0.06534789502620697,367592:0.0654689148068428,363889:0.06579040735960007,391608:0.06582053750753403,291838:0.0660504549741745',\n",
       " '163858:184976|112838:0.05183088034391403,142637:0.051847316324710846,159323:0.0694531723856926,146425:0.07173733413219452,162636:0.07631917297840118,82663:0.07898503541946411,385096:0.07917116582393646,322049:0.08145017921924591,82665:0.08179699629545212,277420:0.08335999399423599,144037:0.08414194732904434,282531:0.08474870771169662,109443:0.08560068905353546,95392:0.0860854759812355,111202:0.08666306734085083,155458:0.08670008182525635,176435:0.0889655128121376,171112:0.09026698023080826,164319:0.09219992905855179,167859:0.09304706752300262',\n",
       " '25:28126|8560:0.01829739846289158,12887:0.018564995378255844,18662:0.02041272260248661,12843:0.021235723048448563,21128:0.022893697023391724,12345:0.02587481029331684,22806:0.03027045540511608,16161:0.03171266242861748,8289:0.03187849372625351,12077:0.033112168312072754,10754:0.03497618809342384,23777:0.036683447659015656,14167:0.03683672472834587,12381:0.03832909092307091,14052:0.038577720522880554,7143:0.03985608369112015,22:0.04099419713020325,11295:0.0410270020365715,12301:0.04142119362950325,23776:0.04201824963092804',\n",
       " '196634:71268|63930:0.056306708604097366,67562:0.0661247968673706,175246:0.06758692860603333,43536:0.06780023127794266,105699:0.06871690601110458,33666:0.07021055370569229,38829:0.07067811489105225,40632:0.07204782962799072,32529:0.07271018624305725,53649:0.07298897206783295,32982:0.07371853291988373,145049:0.07379507273435593,52129:0.07430975139141083,32962:0.07494290173053741,76059:0.07501053810119629,139939:0.07543537765741348,52617:0.07546495646238327,26404:0.07547411322593689,37909:0.07564528286457062,59045:0.07581357657909393',\n",
       " '229403:229403|229403:5.9803314798045903e-05,224425:0.05898532271385193,219048:0.06199897825717926,228946:0.06609693914651871,228903:0.06769856810569763,247377:0.07731850445270538,226052:0.07923019677400589,220240:0.08292622864246368,232805:0.08575738221406937,209544:0.0892573669552803,233596:0.09138225018978119,231642:0.0925116091966629,232440:0.09306706488132477,207802:0.09400341659784317,232191:0.10086525976657867,229305:0.10192863643169403,224004:0.10254007577896118,228686:0.10300476849079132,203323:0.10708443820476532,231200:0.1102318987250328',\n",
       " '229404:224096|226036:0.04468754678964615,174207:0.053247157484292984,165707:0.05431074649095535,233939:0.05519506707787514,178736:0.05731101334095001,244145:0.06050347164273262,221340:0.06067793816328049,223122:0.06079486384987831,184666:0.060951437801122665,223259:0.06211256980895996,208434:0.06263349950313568,22035:0.06419237703084946,182018:0.06443574279546738,131139:0.06650044769048691,134750:0.06721939891576767,80894:0.06810218095779419,261147:0.0684422180056572,139211:0.06907913088798523,130630:0.0691339299082756,10712:0.0710812583565712',\n",
       " '229406:222494|350685:0.2020515501499176,174763:0.2253490686416626,151369:0.22692807018756866,212572:0.23785129189491272,346575:0.24071381986141205,181113:0.25443994998931885,217563:0.25520753860473633,155207:0.25785744190216064,217066:0.26441246271133423,261759:0.2737458646297455,172636:0.28755831718444824,121960:0.30316123366355896,234598:0.3031928539276123,330996:0.30766528844833374,268240:0.31476569175720215,103665:0.3268531262874603,236780:0.35794395208358765,117675:0.3615899980068207,231238:0.3689899146556854,213128:0.3751293122768402',\n",
       " '229381:229381|229381:0.0,142103:0.08663175255060196,79115:0.08908220380544662,227779:0.09253831207752228,274362:0.0927656888961792,120002:0.09522143006324768,399726:0.09587878733873367,303965:0.09644816070795059,97257:0.09689614921808243,216999:0.09694886207580566,216575:0.10333620756864548,82748:0.10384052991867065,229500:0.10420998185873032,217155:0.10533033311367035,146072:0.10555844008922577,195846:0.10685701668262482,141098:0.1068822517991066,147718:0.10732214897871017,174643:0.10761426389217377,229053:0.108054518699646',\n",
       " '32800:32204|32223:0.05548374727368355,47679:0.05721642076969147,38605:0.0578635074198246,134227:0.057923588901758194,89911:0.05851507931947708,28940:0.06336765736341476,75904:0.06343908607959747,126159:0.06383377313613892,65985:0.06462331116199493,99411:0.06468894332647324,77928:0.06575971841812134,89761:0.0660000666975975,35861:0.06615660339593887,59785:0.06691581755876541,142715:0.06735283136367798,89665:0.06765958666801453,62612:0.06768646091222763,67428:0.06803571432828903,32204:0.06847985088825226,35826:0.06858465075492859',\n",
       " '32804:32551|25862:0.06174381449818611,37612:0.06300043314695358,81344:0.06834371387958527,80309:0.06967941671609879,26100:0.0701952651143074,31779:0.07378705590963364,117748:0.07433339208364487,39287:0.07469846308231354,30002:0.0748765766620636,33976:0.07520421594381332,148631:0.07568337023258209,141745:0.0758156031370163,36216:0.07595106959342957,34466:0.07605041563510895,1631:0.07638433575630188,43168:0.07675465196371078,25496:0.07684957981109619,27450:0.07691887021064758,37929:0.07731384038925171,29346:0.07777276635169983',\n",
       " '229413:229240|236139:0.08528589457273483,247058:0.108272485435009,227383:0.10945295542478561,225313:0.1174948513507843,223991:0.12451813369989395,236437:0.13040225207805634,215569:0.14111517369747162,225250:0.14204858243465424,233059:0.14412237703800201,234633:0.1471068561077118,229191:0.1572488695383072,233469:0.15836195647716522,369402:0.16687804460525513,121201:0.16863560676574707,236762:0.16960832476615906,231178:0.17044539749622345,237049:0.17466531693935394,247566:0.17814414203166962,229877:0.1790103316307068,229938:0.17922358214855194',\n",
       " '65575:49686|47695:0.039635077118873596,30776:0.04334085434675217,62855:0.04349949210882187,60532:0.04486466944217682,65196:0.04520164057612419,60385:0.04803615063428879,47278:0.04825308173894882,124182:0.0491228923201561,40356:0.04925655573606491,50331:0.04944569244980812,40066:0.04978194832801819,70410:0.04979245364665985,49265:0.05041179805994034,61488:0.05057699233293533,23949:0.0516899935901165,45700:0.05220978334546089,59906:0.05278279259800911,105738:0.052892055362463,41192:0.05349591374397278,70529:0.05473082512617111',\n",
       " '196648:50607|125455:0.05192795395851135,115463:0.053672127425670624,163192:0.05829513445496559,148373:0.06132623925805092,153264:0.06216995045542717,189398:0.0632956251502037,39064:0.06455074995756149,134090:0.066529281437397,163789:0.06660189479589462,108558:0.06676468998193741,185764:0.06710408627986908,165784:0.07048526406288147,200680:0.07131756097078323,190188:0.07135453075170517,128763:0.07147516310214996,126473:0.07219208031892776,189682:0.07299778610467911,119849:0.07368052005767822,154851:0.07382282614707947,140214:0.07472403347492218',\n",
       " '360489:354593|361054:0.07067102938890457,311802:0.20539303123950958,327394:0.20761704444885254,285438:0.21319030225276947,289777:0.21522390842437744,349500:0.22251741588115692,342957:0.2254427820444107,297741:0.22860907018184662,335043:0.24121733009815216,295021:0.2486947774887085,338594:0.24919016659259796,331301:0.24953384697437286,319958:0.2537662386894226,342369:0.2556852698326111,251373:0.2564616799354553,404846:0.2566666603088379,236747:0.25769683718681335,188524:0.2658284902572632,251377:0.26612067222595215,201819:0.2697012722492218',\n",
       " '163882:187860|272780:0.05531845986843109,165674:0.07265704870223999,138743:0.087330162525177,216858:0.09006234258413315,401288:0.09340732544660568,408204:0.09559554606676102,138706:0.09821783006191254,205528:0.10693787783384323,225650:0.10995782166719437,218847:0.1118086501955986,222270:0.1138681098818779,249245:0.11524371057748795,238609:0.11609641462564468,237661:0.11814867705106735,239159:0.11915594339370728,400311:0.12206850945949554,237616:0.12463729828596115,231964:0.12612397968769073,410051:0.12751321494579315,236039:0.12779688835144043',\n",
       " '305843:228695|69977:0.16439487040042877,344029:0.16865722835063934,178172:0.180472269654274,26017:0.18511666357517242,122805:0.1921781301498413,9927:0.19457636773586273,241209:0.19485215842723846,26366:0.1962405890226364,178130:0.1971469521522522,7654:0.1979612559080124,320478:0.197994664311409,77918:0.19943919777870178,269424:0.20087429881095886,7647:0.2009800374507904,296573:0.2022479921579361,58558:0.20245115458965302,25634:0.20365867018699646,107204:0.20616118609905243,50316:0.2097851037979126,84328:0.21145473420619965',\n",
       " '294964:291257|57693:0.1009228453040123,222582:0.10305752605199814,302861:0.10484729707241058,231951:0.11424098908901215,308329:0.11487558484077454,271326:0.11667846143245697,57698:0.11843863874673843,303372:0.11958286166191101,68013:0.121638223528862,384665:0.12264259159564972,41561:0.12403662502765656,57439:0.12601198256015778,35183:0.12605318427085876,63635:0.1264784336090088,123118:0.1279468983411789,45943:0.1285877227783203,30352:0.13051378726959229,292981:0.13135641813278198,52989:0.13322046399116516,51484:0.1334303468465805',\n",
       " '229430:229435|159288:0.0761672779917717,228417:0.0864482894539833,229435:0.0870288535952568,174687:0.08769442141056061,130033:0.08849184960126877,196051:0.09472373872995377,169381:0.09976767748594284,290796:0.1015656515955925,248699:0.10230816155672073,94010:0.1083468347787857,99369:0.1094069853425026,399933:0.10949484258890152,103796:0.10956429690122604,159186:0.11003541946411133,340091:0.11054828017950058,359043:0.11069914698600769,196173:0.11112876236438751,142575:0.11125876754522324,148264:0.11180522292852402,135132:0.11315679550170898']"
      ]
     },
     "execution_count": 31,
     "metadata": {},
     "output_type": "execute_result"
    }
   ],
   "source": [
    "exported_rank[:20]"
   ]
  },
  {
   "cell_type": "code",
   "execution_count": 32,
   "metadata": {},
   "outputs": [],
   "source": [
    "with open(os.path.join(path, 'exported_rank.txt'), 'w') as file_out:\n",
    "    for row in exported_rank:\n",
    "        file_out.write(row + \"\\n\")"
   ]
  },
  {
   "cell_type": "code",
   "execution_count": 33,
   "metadata": {},
   "outputs": [],
   "source": [
    "class Evaluation():\n",
    "    def __init__(self):\n",
    "        pass\n",
    "    \n",
    "    \"\"\"\n",
    "        Rank recall_rate_@k\n",
    "        rank = \"query:master|master:id:sim,master:id:sim\"\n",
    "    \"\"\"\n",
    "    def top_k_recall(self, rank, k):\n",
    "        query, rank = rank.split('|')\n",
    "        query_dup_id, query_master = query.split(\":\")\n",
    "        query_master = int(query_master)\n",
    "        rank_masters = [int(item.split(':')[0]) for pos, item in enumerate(rank.split(\",\")[:20])]\n",
    "        corrects = len(set([query_master]) & set(rank_masters[:k]))\n",
    "        #total = len(retrieval.buckets[issues_by_buckets[query_master]])\n",
    "        total = 1 if corrects <= 0 else corrects\n",
    "        return float(corrects), total\n",
    "\n",
    "    def evaluate(self, path):\n",
    "        recall_at_5_corrects_sum, recall_at_10_corrects_sum, recall_at_15_corrects_sum, recall_at_20_corrects_sum = 0, 0, 0, 0\n",
    "        recall_at_5_total_sum, recall_at_10_total_sum, recall_at_15_total_sum, recall_at_20_total_sum = 0, 0, 0, 0\n",
    "        print(\"Evaluating...\")\n",
    "        with open(path, 'r') as file_input:\n",
    "            for row in file_input:\n",
    "                #if row == '': continue\n",
    "                recall_at_5_corrects, recall_at_5_total = self.top_k_recall(row, k=5)\n",
    "                recall_at_10_corrects, recall_at_10_total = self.top_k_recall(row, k=10)\n",
    "                recall_at_15_corrects, recall_at_15_total = self.top_k_recall(row, k=15)\n",
    "                recall_at_20_corrects, recall_at_20_total = self.top_k_recall(row, k=20)\n",
    "                \n",
    "                recall_at_5_corrects_sum += recall_at_5_corrects\n",
    "                recall_at_10_corrects_sum += recall_at_10_corrects\n",
    "                recall_at_15_corrects_sum += recall_at_15_corrects\n",
    "                recall_at_20_corrects_sum += recall_at_20_corrects\n",
    "                recall_at_5_total_sum += recall_at_5_total\n",
    "                recall_at_10_total_sum += recall_at_10_total\n",
    "                recall_at_15_total_sum += recall_at_15_total\n",
    "                recall_at_20_total_sum += recall_at_20_total\n",
    "        \n",
    "        report = {\n",
    "            '1 - recall_at_5' : round(recall_at_5_corrects_sum / recall_at_5_total_sum, 2),\n",
    "            '2 - recall_at_10' : round(recall_at_10_corrects_sum / recall_at_10_total_sum, 2),\n",
    "            '3 - recall_at_15' : round(recall_at_15_corrects_sum / recall_at_15_total_sum, 2),\n",
    "            '4 - recall_at_20' : round(recall_at_20_corrects_sum / recall_at_20_total_sum, 2)\n",
    "        }\n",
    "\n",
    "        return report"
   ]
  },
  {
   "cell_type": "code",
   "execution_count": 34,
   "metadata": {},
   "outputs": [
    {
     "name": "stdout",
     "output_type": "stream",
     "text": [
      "Evaluating...\n"
     ]
    },
    {
     "data": {
      "text/plain": [
       "{'1 - recall_at_5': 0.21,\n",
       " '2 - recall_at_10': 0.22,\n",
       " '3 - recall_at_15': 0.24,\n",
       " '4 - recall_at_20': 0.25}"
      ]
     },
     "execution_count": 34,
     "metadata": {},
     "output_type": "execute_result"
    }
   ],
   "source": [
    "#from methods.evaluation import Evaluation\n",
    "evaluation = Evaluation()\n",
    "report = evaluation.evaluate(os.path.join(path, 'exported_rank.txt'))\n",
    "report"
   ]
  },
  {
   "cell_type": "markdown",
   "metadata": {},
   "source": [
    "### Visualizing the rank"
   ]
  },
  {
   "cell_type": "code",
   "execution_count": 35,
   "metadata": {},
   "outputs": [],
   "source": [
    "def get_similar_bugs_rank(index):\n",
    "    query, rank = exported_rank[index].split('|')\n",
    "    similar_ids = []\n",
    "    for row in rank.split(','):\n",
    "        master_id, bug_id, sim = row.split(':')\n",
    "        similar_ids.append(bug_id)\n",
    "    df_query = df[df['bug_id'] == int(query.split(':')[0])]\n",
    "    df_similar = df[df['bug_id'].isin(similar_ids)]\n",
    "    return df_query, df_similar"
   ]
  },
  {
   "cell_type": "code",
   "execution_count": 36,
   "metadata": {},
   "outputs": [],
   "source": [
    "def plot_rank(test_labels, tsne_features):\n",
    "    obj_categories = ['anchor', 'positive', 'negative']\n",
    "    groups = [0, 1, 2]\n",
    "    colors = plt.cm.rainbow(np.linspace(0, 1, 3))\n",
    "    plt.figure(figsize=(10, 10))\n",
    "\n",
    "    for c_group, (c_color, c_label) in enumerate(zip(colors, obj_categories)):\n",
    "        plt.scatter(tsne_features[np.where(test_labels == c_group), 0],\n",
    "                    tsne_features[np.where(test_labels == c_group), 1],\n",
    "                    marker='o',\n",
    "                    color=c_color,\n",
    "                    linewidth='1',\n",
    "                    alpha=0.8,\n",
    "                    label=c_label)\n",
    "    plt.xlabel('Dimension 1')\n",
    "    plt.ylabel('Dimension 2')\n",
    "    plt.title('t-SNE on Testing Samples')\n",
    "    plt.legend(loc='best')\n",
    "    #plt.savefig('clothes-dist.png')\n",
    "    plt.show(block=False)\n",
    "\n",
    "def display_rank_at_position(index):\n",
    "    query, rank = exported_rank[index].split('|')\n",
    "    query_bug_id = int(query.split(':')[0])\n",
    "    x_test_features = []\n",
    "    x_test_features.append()\n",
    "    tsne_features = Baseline.create_features(x_test_features)\n",
    "    Baseline.plot_2d(valid_sim, tsne_features)"
   ]
  },
  {
   "cell_type": "code",
   "execution_count": 37,
   "metadata": {},
   "outputs": [],
   "source": [
    "#df_query, df_similar = get_similar_bugs_rank(19)"
   ]
  },
  {
   "cell_type": "code",
   "execution_count": 38,
   "metadata": {
    "scrolled": true
   },
   "outputs": [],
   "source": [
    "#df_query"
   ]
  },
  {
   "cell_type": "code",
   "execution_count": 39,
   "metadata": {
    "scrolled": true
   },
   "outputs": [],
   "source": [
    "#df_similar"
   ]
  }
 ],
 "metadata": {
  "kernelspec": {
   "display_name": "Python 3",
   "language": "python",
   "name": "python3"
  },
  "language_info": {
   "codemirror_mode": {
    "name": "ipython",
    "version": 3
   },
   "file_extension": ".py",
   "mimetype": "text/x-python",
   "name": "python",
   "nbconvert_exporter": "python",
   "pygments_lexer": "ipython3",
   "version": "3.5.2"
  }
 },
 "nbformat": 4,
 "nbformat_minor": 2
}
