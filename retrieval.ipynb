{
 "cells": [
  {
   "cell_type": "code",
   "execution_count": 1,
   "metadata": {},
   "outputs": [],
   "source": [
    "import pandas as pd\n",
    "import os\n",
    "from tqdm import tqdm\n",
    "import matplotlib.pyplot as plt\n",
    "import sys\n",
    "nb_dir = os.path.split(os.getcwd())[0]\n",
    "if nb_dir not in sys.path:\n",
    "    sys.path.append(nb_dir)"
   ]
  },
  {
   "cell_type": "code",
   "execution_count": 2,
   "metadata": {},
   "outputs": [
    {
     "name": "stderr",
     "output_type": "stream",
     "text": [
      "C:\\Users\\Thiago\\Anaconda3\\lib\\site-packages\\h5py\\__init__.py:36: FutureWarning: Conversion of the second argument of issubdtype from `float` to `np.floating` is deprecated. In future, it will be treated as `np.float64 == np.dtype(float).type`.\n",
      "  from ._conv import register_converters as _register_converters\n",
      "Using TensorFlow backend.\n"
     ]
    }
   ],
   "source": [
    "from methods.baseline import Baseline\n",
    "from methods.retrieval import Retrieval"
   ]
  },
  {
   "cell_type": "code",
   "execution_count": 3,
   "metadata": {},
   "outputs": [
    {
     "name": "stdout",
     "output_type": "stream",
     "text": [
      "Reading train data\n"
     ]
    },
    {
     "name": "stderr",
     "output_type": "stream",
     "text": [
      "100%|█████████████████████████████████| 212512/212512 [17:34<00:00, 201.56it/s]\n"
     ]
    },
    {
     "name": "stdout",
     "output_type": "stream",
     "text": [
      "Creating the buckets...\n"
     ]
    },
    {
     "name": "stderr",
     "output_type": "stream",
     "text": [
      "100%|████████████████████████████████| 193599/193599 [01:36<00:00, 2005.16it/s]\n"
     ]
    },
    {
     "name": "stdout",
     "output_type": "stream",
     "text": [
      "Creating the queries...\n"
     ]
    },
    {
     "name": "stderr",
     "output_type": "stream",
     "text": [
      "12859it [00:00, 16974.74it/s]\n"
     ]
    },
    {
     "name": "stdout",
     "output_type": "stream",
     "text": [
      "Loaded model from disk\n"
     ]
    }
   ],
   "source": [
    "retrieval = Retrieval()\n",
    "\n",
    "path = 'data/processed/eclipse'\n",
    "path_buckets = 'data/normalized/eclipse/eclipse_pairs.csv'\n",
    "path_train = 'data/processed/eclipse/train.txt'\n",
    "path_test = 'data/processed/eclipse/test.txt'\n",
    "\n",
    "MAX_SEQUENCE_LENGTH_T = 100 # Title\n",
    "MAX_SEQUENCE_LENGTH_D = 100 # Description\n",
    "\n",
    "# Create the instance from baseline\n",
    "retrieval.baseline = Baseline(path, MAX_SEQUENCE_LENGTH_T, MAX_SEQUENCE_LENGTH_D)\n",
    "\n",
    "df = pd.read_csv(path_buckets)\n",
    "\n",
    "# Load bug ids\n",
    "retrieval.load_bugs(path, path_train)\n",
    "# Create the buckets\n",
    "retrieval.create_bucket(df)\n",
    "# Read and create the test queries duplicate\n",
    "retrieval.create_queries(path_test)\n",
    "# Read the siamese model\n",
    "retrieval.read_model(MAX_SEQUENCE_LENGTH_T, MAX_SEQUENCE_LENGTH_D)"
   ]
  },
  {
   "cell_type": "code",
   "execution_count": 4,
   "metadata": {},
   "outputs": [],
   "source": [
    "retrieval.train_vectorized, retrieval.test_vectorized = [], []\n",
    "# Infer vector to all train\n",
    "retrieval.read_train(path_train)\n",
    "retrieval.infer_vector(retrieval.train, retrieval.train_vectorized)\n",
    "# Infer vector to all test\n",
    "retrieval.infer_vector(retrieval.test, retrieval.test_vectorized)"
   ]
  },
  {
   "cell_type": "code",
   "execution_count": 7,
   "metadata": {},
   "outputs": [],
   "source": [
    "from sklearn.neighbors import NearestNeighbors\n",
    "import numpy as np\n",
    "# inpired on https://www.kaggle.com/mauricedw22/k-nearest-neighbor-recommendation-system\n",
    "# Indexing all train in KNN method\n",
    "X = np.array(retrieval.train_vectorized)\n",
    "nbrs = NearestNeighbors(n_neighbors=20, algorithm='ball_tree').fit(X)"
   ]
  },
  {
   "cell_type": "code",
   "execution_count": 14,
   "metadata": {},
   "outputs": [],
   "source": [
    "# Next we find k nearest neighbor for each point in object X.\n",
    "distances, indices = nbrs.kneighbors(X)"
   ]
  },
  {
   "cell_type": "code",
   "execution_count": 38,
   "metadata": {},
   "outputs": [
    {
     "name": "stderr",
     "output_type": "stream",
     "text": [
      "100%|█████████████████████████████████| 70287/70287 [00:04<00:00, 17031.28it/s]\n"
     ]
    }
   ],
   "source": [
    "# Creating a hash from the train to index the clusters indices\n",
    "bug_set_cluster = {}\n",
    "index = 0\n",
    "for row in tqdm(retrieval.train):\n",
    "    dup_a_id, dup_b_id = row\n",
    "    # if dup_a_id not in bug_set or dup_b_id not in bug_set: continue\n",
    "    bug_set_cluster[indices[index][:1][0]] = dup_a_id\n",
    "    bug_set_cluster[indices[index+1][:1][0]] = dup_b_id\n",
    "    index += 2"
   ]
  },
  {
   "cell_type": "code",
   "execution_count": 39,
   "metadata": {},
   "outputs": [],
   "source": [
    "X_test = [retrieval.test_vectorized[1]]\n",
    "distances_test, indices_test = nbrs.kneighbors(X_test)"
   ]
  },
  {
   "cell_type": "code",
   "execution_count": 43,
   "metadata": {},
   "outputs": [
    {
     "data": {
      "text/plain": [
       "101443"
      ]
     },
     "execution_count": 43,
     "metadata": {},
     "output_type": "execute_result"
    }
   ],
   "source": [
    "bug_set_cluster[indices_test[0][:1][0]]"
   ]
  },
  {
   "cell_type": "code",
   "execution_count": null,
   "metadata": {},
   "outputs": [],
   "source": [
    "# Recommend neighborhood instances from test sample\n",
    "X_test = retrieval.test_vectorized\n",
    "distances_test, indices_test = nbrs.kneighbors(X_test)\n",
    "# Generating the rank result"
   ]
  }
 ],
 "metadata": {
  "kernelspec": {
   "display_name": "Python 3",
   "language": "python",
   "name": "python3"
  },
  "language_info": {
   "codemirror_mode": {
    "name": "ipython",
    "version": 3
   },
   "file_extension": ".py",
   "mimetype": "text/x-python",
   "name": "python",
   "nbconvert_exporter": "python",
   "pygments_lexer": "ipython3",
   "version": "3.6.5"
  }
 },
 "nbformat": 4,
 "nbformat_minor": 2
}
