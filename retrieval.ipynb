{
 "cells": [
  {
   "cell_type": "code",
   "execution_count": 1,
   "metadata": {},
   "outputs": [],
   "source": [
    "import pandas as pd\n",
    "import os\n",
    "from tqdm import tqdm_notebook as tqdm\n",
    "import matplotlib.pyplot as plt\n",
    "import sys\n",
    "from operator import itemgetter\n",
    "nb_dir = os.path.split(os.getcwd())[0]\n",
    "if nb_dir not in sys.path:\n",
    "    sys.path.append(nb_dir)"
   ]
  },
  {
   "cell_type": "code",
   "execution_count": 2,
   "metadata": {},
   "outputs": [
    {
     "name": "stderr",
     "output_type": "stream",
     "text": [
      "Using TensorFlow backend.\n"
     ]
    }
   ],
   "source": [
    "from methods.baseline import Baseline\n",
    "from methods.retrieval import Retrieval\n",
    "from annoy import AnnoyIndex\n",
    "import numpy as np"
   ]
  },
  {
   "cell_type": "code",
   "execution_count": 3,
   "metadata": {},
   "outputs": [
    {
     "name": "stdout",
     "output_type": "stream",
     "text": [
      "Reading train data\n",
      "Reading the test...\n"
     ]
    },
    {
     "data": {
      "application/vnd.jupyter.widget-view+json": {
       "model_id": "893c2f7f38e94f34a9174f77d3b69f57",
       "version_major": 2,
       "version_minor": 0
      },
      "text/plain": [
       "HBox(children=(IntProgress(value=1, bar_style='info', max=1), HTML(value='')))"
      ]
     },
     "metadata": {},
     "output_type": "display_data"
    },
    {
     "name": "stdout",
     "output_type": "stream",
     "text": [
      "\n",
      "Reading test data\n"
     ]
    },
    {
     "data": {
      "application/vnd.jupyter.widget-view+json": {
       "model_id": "b8305b2b32cb4771bfb84506c1f4190d",
       "version_major": 2,
       "version_minor": 0
      },
      "text/plain": [
       "HBox(children=(IntProgress(value=0, max=212512), HTML(value='')))"
      ]
     },
     "metadata": {},
     "output_type": "display_data"
    },
    {
     "name": "stdout",
     "output_type": "stream",
     "text": [
      "\n",
      "Creating the buckets...\n"
     ]
    },
    {
     "data": {
      "application/vnd.jupyter.widget-view+json": {
       "model_id": "a33378fdf1fd4809912a8edda6034c8c",
       "version_major": 2,
       "version_minor": 0
      },
      "text/plain": [
       "HBox(children=(IntProgress(value=0, max=321483), HTML(value='')))"
      ]
     },
     "metadata": {},
     "output_type": "display_data"
    },
    {
     "name": "stdout",
     "output_type": "stream",
     "text": [
      "\n"
     ]
    },
    {
     "data": {
      "application/vnd.jupyter.widget-view+json": {
       "model_id": "62b95deeedc848009f9995a4ad43aac2",
       "version_major": 2,
       "version_minor": 0
      },
      "text/plain": [
       "HBox(children=(IntProgress(value=0, max=39523), HTML(value='')))"
      ]
     },
     "metadata": {},
     "output_type": "display_data"
    },
    {
     "name": "stdout",
     "output_type": "stream",
     "text": [
      "\n",
      "Creating the queries...\n"
     ]
    },
    {
     "data": {
      "application/vnd.jupyter.widget-view+json": {
       "model_id": "b08debe7f62c44fb8918981f609e5584",
       "version_major": 2,
       "version_minor": 0
      },
      "text/plain": [
       "HBox(children=(IntProgress(value=1, bar_style='info', max=1), HTML(value='')))"
      ]
     },
     "metadata": {},
     "output_type": "display_data"
    },
    {
     "name": "stdout",
     "output_type": "stream",
     "text": [
      "\n"
     ]
    }
   ],
   "source": [
    "retrieval = Retrieval()\n",
    "\n",
    "DOMAIN = 'eclipse'\n",
    "path = 'data/processed/{}'.format(DOMAIN)\n",
    "path_buckets = 'data/normalized/{}/{}.csv'.format(DOMAIN, DOMAIN)\n",
    "path_train = 'data/processed/{}/train.txt'.format(DOMAIN)\n",
    "path_test = 'data/processed/{}/test.txt'.format(DOMAIN)\n",
    "\n",
    "MAX_SEQUENCE_LENGTH_T = 20 # Title\n",
    "MAX_SEQUENCE_LENGTH_D = 200 # Description\n",
    "MAX_SEQUENCE_LENGTH_I = 1682 # Status, Severity, Version, Component, Module\n",
    "\n",
    "# Create the instance from baseline\n",
    "retrieval.baseline = Baseline(path, path_buckets, MAX_SEQUENCE_LENGTH_T, MAX_SEQUENCE_LENGTH_D)\n",
    "\n",
    "df = pd.read_csv(path_buckets)\n",
    "\n",
    "# Load bug ids\n",
    "retrieval.load_bugs(path, path_train)\n",
    "# Create the buckets\n",
    "retrieval.create_bucket(df)\n",
    "# Read and create the test queries duplicate\n",
    "retrieval.create_queries(path_test)"
   ]
  },
  {
   "cell_type": "code",
   "execution_count": 4,
   "metadata": {},
   "outputs": [
    {
     "data": {
      "application/vnd.jupyter.widget-view+json": {
       "model_id": "a6756a45d49f4a2ba069cf8c2b8c95b1",
       "version_major": 2,
       "version_minor": 0
      },
      "text/plain": [
       "HBox(children=(IntProgress(value=0, max=321483), HTML(value='')))"
      ]
     },
     "metadata": {},
     "output_type": "display_data"
    },
    {
     "name": "stdout",
     "output_type": "stream",
     "text": [
      "\n"
     ]
    }
   ],
   "source": [
    "issues_by_buckets = {}\n",
    "for bucket in tqdm(retrieval.buckets):\n",
    "    issues_by_buckets[bucket] = bucket\n",
    "    for issue in np.array(retrieval.buckets[bucket]).tolist():\n",
    "        issues_by_buckets[issue] = bucket"
   ]
  },
  {
   "cell_type": "code",
   "execution_count": 5,
   "metadata": {
    "scrolled": false
   },
   "outputs": [],
   "source": [
    "retrieval.train_vectorized, retrieval.test_result = [], []\n",
    "# Infer vector to all train\n",
    "retrieval.read_train(path_train)"
   ]
  },
  {
   "cell_type": "code",
   "execution_count": 6,
   "metadata": {},
   "outputs": [
    {
     "name": "stdout",
     "output_type": "stream",
     "text": [
      "Total of queries: 12659\n"
     ]
    }
   ],
   "source": [
    "print(\"Total of queries:\", len(retrieval.test))"
   ]
  },
  {
   "cell_type": "markdown",
   "metadata": {},
   "source": [
    "## Search"
   ]
  },
  {
   "cell_type": "markdown",
   "metadata": {},
   "source": [
    "#### Selecting buckets from train"
   ]
  },
  {
   "cell_type": "code",
   "execution_count": 8,
   "metadata": {
    "scrolled": true
   },
   "outputs": [
    {
     "data": {
      "application/vnd.jupyter.widget-view+json": {
       "model_id": "40133db925394596a4ffc7acfe3c43e3",
       "version_major": 2,
       "version_minor": 0
      },
      "text/plain": [
       "HBox(children=(IntProgress(value=0, max=321483), HTML(value='')))"
      ]
     },
     "metadata": {},
     "output_type": "display_data"
    },
    {
     "name": "stdout",
     "output_type": "stream",
     "text": [
      "\n"
     ]
    }
   ],
   "source": [
    "buckets_duplicates = set([key for key in tqdm(retrieval.buckets) if len(retrieval.buckets[key]) > 1])"
   ]
  },
  {
   "cell_type": "markdown",
   "metadata": {},
   "source": [
    "##### Selecting buckets from test"
   ]
  },
  {
   "cell_type": "code",
   "execution_count": 9,
   "metadata": {},
   "outputs": [
    {
     "data": {
      "application/vnd.jupyter.widget-view+json": {
       "model_id": "c2c1a6313f374cc6a8aa13392e242931",
       "version_major": 2,
       "version_minor": 0
      },
      "text/plain": [
       "HBox(children=(IntProgress(value=0, max=12659), HTML(value='')))"
      ]
     },
     "metadata": {},
     "output_type": "display_data"
    },
    {
     "name": "stdout",
     "output_type": "stream",
     "text": [
      "\n"
     ]
    }
   ],
   "source": [
    "buckets_train = set()\n",
    "for row in tqdm(retrieval.test):\n",
    "    bug_id, ground_truth = row\n",
    "    #if issues_by_buckets[bug_id] == bug_id: continue # if the bug is the master\n",
    "    vectorizer = [bug_id] \n",
    "    vectorizer += ground_truth\n",
    "    for test_bug_id in vectorizer:\n",
    "        buckets_train.add(issues_by_buckets[test_bug_id])"
   ]
  },
  {
   "cell_type": "markdown",
   "metadata": {},
   "source": [
    "#### Buckets with at least 2 duplicates"
   ]
  },
  {
   "cell_type": "code",
   "execution_count": 10,
   "metadata": {},
   "outputs": [
    {
     "name": "stdout",
     "output_type": "stream",
     "text": [
      "Buckets train: 7875\n",
      "Buckets test: 16538\n",
      "All Buckets: 24413\n"
     ]
    }
   ],
   "source": [
    "print(\"Buckets train:\", len(buckets_train))\n",
    "print(\"Buckets test:\", len(buckets_duplicates) - len(buckets_train))\n",
    "print(\"All Buckets:\", len(buckets_duplicates))"
   ]
  },
  {
   "cell_type": "markdown",
   "metadata": {},
   "source": [
    "#### Model to vectorizer all buckets"
   ]
  },
  {
   "cell_type": "code",
   "execution_count": 11,
   "metadata": {},
   "outputs": [],
   "source": [
    "import keras\n",
    "from keras.models import Model\n",
    "from keras.layers import Input\n",
    "from keras.models import load_model\n",
    "\n",
    "name = 'modelos/model_baseline_1000epoch_10steps_1024batch({}).h5'.format(DOMAIN)\n",
    "similarity_model = load_model(name, {'l2_normalize' : Baseline.l2_normalize, \n",
    "                                     'margin_loss' : Baseline.margin_loss,\n",
    "                                    'pos_distance' : Baseline.pos_distance,\n",
    "                                    'neg_distance' : Baseline.neg_distance,\n",
    "                                    'stack_tensors': Baseline.stack_tensors})\n",
    "\n",
    "bug_title =  similarity_model.get_layer('title_in').input # Input(shape = (MAX_SEQUENCE_LENGTH_T, ), name = 'title')\n",
    "bug_desc =  similarity_model.get_layer('desc_in').input # Input(shape = (MAX_SEQUENCE_LENGTH_D, ), name = 'desc')\n",
    "bug_info = similarity_model.get_layer('info_in').input # Input(shape = (MAX_SEQUENCE_LENGTH_I, ), name = 'info') # \n",
    "\n",
    "title_encoder = similarity_model.get_layer('FeatureLstmGenerationModel')\n",
    "desc_encoder = similarity_model.get_layer('FeatureCNNGenerationModel')\n",
    "info_encoder = similarity_model.get_layer('FeatureMlpGenerationModel')\n",
    "\n",
    "bug_t = title_encoder(bug_title)\n",
    "bug_d = desc_encoder(bug_desc)\n",
    "bug_i = info_encoder(bug_info)\n",
    "# Representation layer\n",
    "model = similarity_model.get_layer('merge_features_in')\n",
    "output = model([bug_i, bug_t, bug_d])\n",
    "# Normalization\n",
    "# model_normalized = similarity_model.get_layer('normalize_encoded_anchor')\n",
    "# output = model_normalized(output)\n",
    "\n",
    "model = Model(inputs=[bug_title, bug_desc, bug_info], outputs=[output])\n",
    "\n",
    "model.compile(optimizer='adam', loss='categorical_crossentropy', metrics = ['accuracy'])"
   ]
  },
  {
   "cell_type": "code",
   "execution_count": 12,
   "metadata": {},
   "outputs": [
    {
     "name": "stdout",
     "output_type": "stream",
     "text": [
      "__________________________________________________________________________________________________\n",
      "Layer (type)                    Output Shape         Param #     Connected to                     \n",
      "==================================================================================================\n",
      "info_in (InputLayer)            (None, 1682)         0                                            \n",
      "__________________________________________________________________________________________________\n",
      "title_in (InputLayer)           (None, 20)           0                                            \n",
      "__________________________________________________________________________________________________\n",
      "desc_in (InputLayer)            (None, 200)          0                                            \n",
      "__________________________________________________________________________________________________\n",
      "FeatureMlpGenerationModel (Mode (None, 128)          232768      info_in[0][0]                    \n",
      "__________________________________________________________________________________________________\n",
      "FeatureLstmGenerationModel (Mod (None, 20)           38513760    title_in[0][0]                   \n",
      "__________________________________________________________________________________________________\n",
      "FeatureCNNGenerationModel (Mode (None, 256)          39022144    desc_in[0][0]                    \n",
      "__________________________________________________________________________________________________\n",
      "merge_features_in (Concatenate) (None, 404)          0           FeatureMlpGenerationModel[4][0]  \n",
      "                                                                 FeatureLstmGenerationModel[4][0] \n",
      "                                                                 FeatureCNNGenerationModel[4][0]  \n",
      "==================================================================================================\n",
      "Total params: 77,768,672\n",
      "Trainable params: 843,488\n",
      "Non-trainable params: 76,925,184\n",
      "__________________________________________________________________________________________________\n"
     ]
    }
   ],
   "source": [
    "model.summary()"
   ]
  },
  {
   "cell_type": "markdown",
   "metadata": {},
   "source": [
    "#### Vectorizing all buckets from train"
   ]
  },
  {
   "cell_type": "code",
   "execution_count": 13,
   "metadata": {
    "scrolled": true
   },
   "outputs": [],
   "source": [
    "def vectorizer_buckets_train(buckets_train):\n",
    "    bug_set = retrieval.baseline.get_bug_set()\n",
    "    buckets_train_vectorized = []\n",
    "    for bug_id in tqdm(buckets_train): # retrieval.bugs_train\n",
    "        bug = bug_set[bug_id]\n",
    "        bug_vector = model.predict([ [bug['title_word']], [bug['description_word']], [retrieval.get_info(bug)] ])[0]\n",
    "        buckets_train_vectorized.append({ 'bug_id' : bug_id, 'vector' : bug_vector })\n",
    "    return buckets_train_vectorized"
   ]
  },
  {
   "cell_type": "code",
   "execution_count": 14,
   "metadata": {},
   "outputs": [
    {
     "data": {
      "application/vnd.jupyter.widget-view+json": {
       "model_id": "95c4ab595ca447298c332c6cd0bfbabf",
       "version_major": 2,
       "version_minor": 0
      },
      "text/plain": [
       "HBox(children=(IntProgress(value=0, max=7875), HTML(value='')))"
      ]
     },
     "metadata": {},
     "output_type": "display_data"
    },
    {
     "name": "stdout",
     "output_type": "stream",
     "text": [
      "\n"
     ]
    }
   ],
   "source": [
    "buckets_train_vectorized = vectorizer_buckets_train(buckets_train)"
   ]
  },
  {
   "cell_type": "markdown",
   "metadata": {},
   "source": [
    "#### Vectorizing all test"
   ]
  },
  {
   "cell_type": "code",
   "execution_count": 15,
   "metadata": {
    "scrolled": true
   },
   "outputs": [
    {
     "data": {
      "application/vnd.jupyter.widget-view+json": {
       "model_id": "9cf9e82fe8be4b2e957afd541a35df85",
       "version_major": 2,
       "version_minor": 0
      },
      "text/plain": [
       "HBox(children=(IntProgress(value=0, max=12659), HTML(value='')))"
      ]
     },
     "metadata": {},
     "output_type": "display_data"
    },
    {
     "name": "stdout",
     "output_type": "stream",
     "text": [
      "\n"
     ]
    }
   ],
   "source": [
    "bug_set = retrieval.baseline.get_bug_set()\n",
    "queries_test_vectorized = []\n",
    "for row in tqdm(retrieval.test):\n",
    "    bug_id, ground_truth = row\n",
    "    vectorizer = [bug_id] \n",
    "    vectorizer += ground_truth\n",
    "    for test_bug_id in vectorizer:\n",
    "        if issues_by_buckets[test_bug_id] == test_bug_id: continue # if the bug is the master\n",
    "        bug = bug_set[test_bug_id]\n",
    "        bug_vector = model.predict([ [bug['title_word']], [bug['description_word']], [retrieval.get_info(bug)] ])[0]\n",
    "        queries_test_vectorized.append({ 'bug_id' : test_bug_id, 'vector' : bug_vector,\n",
    "                                        'ground_truth': issues_by_buckets[test_bug_id] })"
   ]
  },
  {
   "cell_type": "markdown",
   "metadata": {},
   "source": [
    "### Indexing all vectors"
   ]
  },
  {
   "cell_type": "code",
   "execution_count": 16,
   "metadata": {},
   "outputs": [],
   "source": [
    "# Indexing all train\n",
    "def indexing_train(buckets_train_vectorized):\n",
    "    X = np.array(buckets_train_vectorized)\n",
    "    annoy = AnnoyIndex(X[0]['vector'].shape[0])  # Length of item vector that will be indexed\n",
    "\n",
    "    loop = tqdm(total=len(X))\n",
    "    for index, row in enumerate(X):\n",
    "        vector = row['vector']\n",
    "        annoy.add_item(index, vector)\n",
    "        loop.update(1)\n",
    "    loop.close()\n",
    "    annoy.build(10) # 10 trees\n",
    "    return annoy"
   ]
  },
  {
   "cell_type": "code",
   "execution_count": 17,
   "metadata": {},
   "outputs": [
    {
     "data": {
      "application/vnd.jupyter.widget-view+json": {
       "model_id": "70af5ecc95894af79829eb6466db48d3",
       "version_major": 2,
       "version_minor": 0
      },
      "text/plain": [
       "HBox(children=(IntProgress(value=0, max=7875), HTML(value='')))"
      ]
     },
     "metadata": {},
     "output_type": "display_data"
    },
    {
     "name": "stdout",
     "output_type": "stream",
     "text": [
      "\n"
     ]
    }
   ],
   "source": [
    "annoy = indexing_train(buckets_train_vectorized)"
   ]
  },
  {
   "cell_type": "markdown",
   "metadata": {},
   "source": [
    "## Retrieval using classication model"
   ]
  },
  {
   "cell_type": "code",
   "execution_count": 18,
   "metadata": {},
   "outputs": [],
   "source": [
    "def indexing_test(queries_test_vectorized):\n",
    "    X_test = queries_test_vectorized\n",
    "    distance_test, indices_test = [], []\n",
    "    for index, row in tqdm(enumerate(X_test)):\n",
    "        vector = row['vector']\n",
    "        rank, dist = annoy.get_nns_by_vector(vector, 30, include_distances=True)\n",
    "        indices_test.append(rank)\n",
    "        distance_test.append(1 - np.array(dist)) # normalize the similarity between 0 and 1\n",
    "    return X_test, distance_test, indices_test"
   ]
  },
  {
   "cell_type": "code",
   "execution_count": 19,
   "metadata": {},
   "outputs": [
    {
     "data": {
      "application/vnd.jupyter.widget-view+json": {
       "model_id": "fd558a2d50a84cb8b103cd28c1990669",
       "version_major": 2,
       "version_minor": 0
      },
      "text/plain": [
       "HBox(children=(IntProgress(value=1, bar_style='info', max=1), HTML(value='')))"
      ]
     },
     "metadata": {},
     "output_type": "display_data"
    },
    {
     "name": "stdout",
     "output_type": "stream",
     "text": [
      "\n"
     ]
    }
   ],
   "source": [
    "X_test, distance_test, indices_test = indexing_test(queries_test_vectorized)"
   ]
  },
  {
   "cell_type": "code",
   "execution_count": 20,
   "metadata": {
    "scrolled": true
   },
   "outputs": [
    {
     "name": "stdout",
     "output_type": "stream",
     "text": [
      "Total buckets train vectorized: 7875\n",
      "Total queries vectorized: 22740\n"
     ]
    }
   ],
   "source": [
    "print(\"Total buckets train vectorized: {}\".format(len(buckets_train_vectorized)))\n",
    "print(\"Total queries vectorized: {}\".format(len(queries_test_vectorized)))"
   ]
  },
  {
   "cell_type": "markdown",
   "metadata": {},
   "source": [
    "## Rank result"
   ]
  },
  {
   "cell_type": "code",
   "execution_count": 21,
   "metadata": {},
   "outputs": [
    {
     "data": {
      "application/vnd.jupyter.widget-view+json": {
       "model_id": "4bcd85d752f94291a6ebb5eb512b4f91",
       "version_major": 2,
       "version_minor": 0
      },
      "text/plain": [
       "HBox(children=(IntProgress(value=1, bar_style='info', max=1), HTML(value='')))"
      ]
     },
     "metadata": {},
     "output_type": "display_data"
    },
    {
     "name": "stdout",
     "output_type": "stream",
     "text": [
      "\n"
     ]
    }
   ],
   "source": [
    "formated_rank = []\n",
    "for row_index, row_sim in tqdm(zip(indices_test, distance_test)):\n",
    "    row_index, row_sim = row_index[:20], row_sim[:20]\n",
    "    formated_rank.append(\",\".join([\"{}:{}\".format(buckets_train_vectorized[index]['bug_id'], sim) \n",
    "                                   for index, sim in zip(row_index, row_sim)]))"
   ]
  },
  {
   "cell_type": "markdown",
   "metadata": {},
   "source": [
    "#### Queries "
   ]
  },
  {
   "cell_type": "code",
   "execution_count": 22,
   "metadata": {
    "scrolled": true
   },
   "outputs": [
    {
     "data": {
      "application/vnd.jupyter.widget-view+json": {
       "model_id": "172a875b4a8b4f3287d73db752071a45",
       "version_major": 2,
       "version_minor": 0
      },
      "text/plain": [
       "HBox(children=(IntProgress(value=1, bar_style='info', max=1), HTML(value='')))"
      ]
     },
     "metadata": {},
     "output_type": "display_data"
    },
    {
     "name": "stdout",
     "output_type": "stream",
     "text": [
      "\n"
     ]
    }
   ],
   "source": [
    "# Generating the rank result\n",
    "rank_queries = []\n",
    "\n",
    "for index, row in tqdm(enumerate(X_test)):\n",
    "    dup_a, ground_truth = row['bug_id'], row['ground_truth']\n",
    "    rank_queries.append(\"{}:{}\".format(dup_a, ground_truth))"
   ]
  },
  {
   "cell_type": "code",
   "execution_count": 23,
   "metadata": {
    "scrolled": true
   },
   "outputs": [
    {
     "data": {
      "application/vnd.jupyter.widget-view+json": {
       "model_id": "c378bebe57e241d8bbd5d2b2f1b681d5",
       "version_major": 2,
       "version_minor": 0
      },
      "text/plain": [
       "HBox(children=(IntProgress(value=0, max=22740), HTML(value='')))"
      ]
     },
     "metadata": {},
     "output_type": "display_data"
    },
    {
     "name": "stdout",
     "output_type": "stream",
     "text": [
      "\n"
     ]
    }
   ],
   "source": [
    "exported_rank = []\n",
    "loop = tqdm(total=len(rank_queries))\n",
    "\n",
    "for query, rank in zip(rank_queries, formated_rank):\n",
    "    exported_rank.append(\"{}|{}\".format(query, rank))\n",
    "    loop.update(1)\n",
    "loop.close()"
   ]
  },
  {
   "cell_type": "code",
   "execution_count": 24,
   "metadata": {},
   "outputs": [
    {
     "data": {
      "text/plain": [
       "{131097, 135876, 140026}"
      ]
     },
     "execution_count": 24,
     "metadata": {},
     "output_type": "execute_result"
    }
   ],
   "source": [
    "retrieval.buckets[140026]"
   ]
  },
  {
   "cell_type": "code",
   "execution_count": 25,
   "metadata": {},
   "outputs": [
    {
     "data": {
      "text/plain": [
       "['324658:327681|110979:1.0,192526:1.0,111302:1.0,222921:1.0,213804:1.0,155214:1.0,146427:1.0,238361:1.0,196922:1.0,69892:1.0,124762:1.0,105668:1.0,85005:1.0,57777:1.0,120336:1.0,269269:1.0,77717:1.0,3385:1.0,174762:1.0,16114:1.0',\n",
       " '327682:307170|110979:1.0,222921:1.0,213804:1.0,192526:1.0,155214:1.0,111302:1.0,146427:1.0,328982:1.0,85005:1.0,14937:1.0,120336:1.0,42514:1.0,178749:1.0,179031:1.0,43547:1.0,353535:1.0,269269:1.0,23239:1.0,227213:1.0,31529:1.0',\n",
       " '345437:360073|146427:1.0,222921:1.0,213397:1.0,213804:1.0,182486:1.0,365936:0.9996946740429848,165056:0.9996165417251177,238361:0.999563439458143,229829:0.9995552628242876,213128:0.9995355346472934,35037:0.9994747602031566,49265:0.9994725179276429,181718:0.9994725179276429,24538:0.9994725179276429,107744:0.9994723624549806,276562:0.9994706338620745,41641:0.9994685830897652,225018:0.9994685830897652,93528:0.9994684139965102,29524:0.9994665404665284',\n",
       " '294924:239825|110979:1.0,213804:1.0,192526:1.0,222921:1.0,155214:1.0,146427:1.0,328982:1.0,111302:1.0,42514:1.0,178749:1.0,179031:1.0,43547:1.0,353535:1.0,269269:1.0,23239:1.0,227213:1.0,31529:1.0,30974:1.0,358600:1.0,34107:1.0',\n",
       " '56787:32789|110979:1.0,222921:1.0,213804:1.0,192526:1.0,155214:1.0,146427:1.0,82166:1.0,8762:1.0,293588:1.0,328982:1.0,213128:1.0,93528:1.0,59157:1.0,5700:1.0,35776:1.0,10207:1.0,13932:1.0,235348:1.0,112780:1.0,84056:1.0',\n",
       " '131097:140026|110979:1.0,192526:1.0,111302:1.0,222921:1.0,213804:1.0,238361:1.0,49724:1.0,197025:1.0,124762:1.0,155214:1.0,77717:1.0,35393:1.0,285325:1.0,128990:1.0,18598:1.0,50592:1.0,139658:1.0,12047:1.0,113136:1.0,22301:1.0',\n",
       " '196634:71268|213804:1.0,110979:1.0,192526:1.0,222921:1.0,155214:1.0,328982:1.0,43547:1.0,23239:1.0,227213:1.0,31529:1.0,30974:1.0,358600:1.0,146427:1.0,269371:1.0,205235:1.0,180035:1.0,50975:1.0,123764:1.0,77640:1.0,19870:1.0',\n",
       " '76737:71268|222921:1.0,213804:1.0,110979:1.0,192526:1.0,155214:1.0,146427:1.0,50975:1.0,94482:1.0,89911:1.0,261675:1.0,69164:1.0,8640:1.0,93520:1.0,401321:1.0,337332:1.0,11207:1.0,143849:1.0,55519:1.0,319050:1.0,157698:1.0',\n",
       " '94273:93017|222921:1.0,213804:1.0,110979:1.0,192526:1.0,155214:1.0,146427:1.0,50975:1.0,261675:1.0,401321:1.0,337332:1.0,11207:1.0,143849:1.0,55519:1.0,319050:1.0,157698:1.0,29444:1.0,127873:1.0,79919:1.0,77894:1.0,82166:1.0',\n",
       " '108870:93017|111302:1.0,192526:1.0,110979:1.0,149883:1.0,222921:1.0,238361:1.0,180031:1.0,312947:1.0,293938:1.0,49724:1.0,197025:1.0,50913:1.0,213804:1.0,196922:1.0,69892:1.0,124762:1.0,104441:1.0,155214:1.0,49610:0.9999644102827006,93348:0.9998895340686431',\n",
       " '229404:224096|110979:1.0,213804:1.0,192526:1.0,222921:1.0,155214:1.0,213128:1.0,328982:1.0,29524:1.0,59157:1.0,5700:1.0,182734:1.0,35776:1.0,73500:1.0,235348:1.0,112780:1.0,207188:1.0,9262:1.0,279887:1.0,149413:1.0,66378:1.0',\n",
       " '228508:224096|222921:1.0,213804:1.0,110979:1.0,192526:1.0,155214:1.0,146427:1.0,111302:1.0,50975:1.0,9262:1.0,279887:1.0,136036:1.0,147044:1.0,19036:1.0,416980:1.0,123917:1.0,97124:1.0,151683:1.0,6518:1.0,51473:1.0,102972:1.0',\n",
       " '98334:77102|213804:1.0,110979:1.0,192526:1.0,222921:1.0,155214:1.0,146427:1.0,50975:1.0,401321:1.0,337332:1.0,11207:1.0,143849:1.0,55519:1.0,319050:1.0,157698:1.0,29444:1.0,127873:1.0,79919:1.0,71003:1.0,77894:1.0,82166:1.0',\n",
       " '75995:77102|192526:1.0,213804:1.0,110979:1.0,222921:1.0,111302:1.0,155214:1.0,353535:1.0,269269:1.0,34107:1.0,101628:1.0,58073:1.0,77717:1.0,146427:1.0,3385:1.0,174762:1.0,16114:1.0,89672:1.0,150994:1.0,203252:1.0,210025:1.0',\n",
       " '32800:32204|213804:1.0,110979:1.0,222921:1.0,155214:1.0,192526:1.0,146427:1.0,269371:1.0,50975:1.0,205235:1.0,180035:1.0,123764:1.0,77640:1.0,19870:1.0,186034:1.0,246198:1.0,61010:1.0,136860:1.0,236472:1.0,47100:1.0,46894:1.0',\n",
       " '68953:65571|213804:1.0,110979:1.0,222921:1.0,155214:1.0,192526:1.0,328982:1.0,146427:1.0,50975:1.0,200515:1.0,61010:1.0,136860:1.0,236472:1.0,348346:1.0,233469:1.0,96565:1.0,280932:1.0,196308:1.0,47100:1.0,388299:1.0,208062:1.0',\n",
       " '39450:65571|213804:1.0,110979:1.0,192526:1.0,222921:1.0,155214:1.0,146427:1.0,328982:1.0,44627:1.0,111302:1.0,178749:1.0,43547:1.0,68938:1.0,144811:1.0,353535:1.0,23239:1.0,227213:1.0,31529:1.0,30974:1.0,358600:1.0,34107:1.0',\n",
       " '32805:32858|192526:1.0,110979:1.0,222921:1.0,213804:1.0,111302:1.0,155214:1.0,146427:1.0,328982:1.0,238361:1.0,28288:1.0,4776:1.0,84455:1.0,61715:1.0,353740:1.0,125094:1.0,45078:1.0,144225:1.0,26902:1.0,85005:1.0,142825:1.0',\n",
       " '33267:32858|110979:1.0,192526:1.0,213804:1.0,222921:1.0,155214:1.0,111302:1.0,146427:1.0,50975:1.0,218304:1.0,125094:1.0,28950:1.0,142639:1.0,292468:1.0,36574:1.0,10207:1.0,197678:1.0,5813:1.0,45078:1.0,144225:1.0,25298:1.0',\n",
       " '33420:32858|222921:1.0,213804:1.0,110979:1.0,192526:1.0,111302:1.0,155214:1.0,146427:1.0,269269:1.0,34107:1.0,101628:1.0,58073:1.0,77717:1.0,3385:1.0,174762:1.0,16114:1.0,150994:1.0,203252:1.0,210025:1.0,285325:1.0,50975:1.0']"
      ]
     },
     "execution_count": 25,
     "metadata": {},
     "output_type": "execute_result"
    }
   ],
   "source": [
    "exported_rank[:20]"
   ]
  },
  {
   "cell_type": "code",
   "execution_count": 26,
   "metadata": {},
   "outputs": [],
   "source": [
    "with open(os.path.join(path, 'exported_rank.txt'), 'w') as file_out:\n",
    "    for row in exported_rank:\n",
    "        file_out.write(row + \"\\n\")"
   ]
  },
  {
   "cell_type": "code",
   "execution_count": 27,
   "metadata": {},
   "outputs": [],
   "source": [
    "class Evaluation():\n",
    "    def __init__(self):\n",
    "        pass\n",
    "    \n",
    "    \"\"\"\n",
    "        Rank recall_rate_@k\n",
    "        rank = \"query:master|master:id:sim,master:id:sim\"\n",
    "    \"\"\"\n",
    "    def top_k_recall(self, rank, k):\n",
    "        query, rank = rank.split('|')\n",
    "        query_dup_id, query_master = query.split(\":\")\n",
    "        query_master = int(query_master)\n",
    "        rank_masters = [int(item.split(':')[0]) for pos, item in enumerate(rank.split(\",\")[:20])]\n",
    "        corrects = len(set([query_master]) & set(rank_masters[:k]))\n",
    "        #total = len(retrieval.buckets[issues_by_buckets[query_master]])\n",
    "        total = 1 if corrects <= 0 else corrects\n",
    "        return float(corrects), total\n",
    "\n",
    "    def evaluate(self, path):\n",
    "        recall_at_5_corrects_sum, recall_at_10_corrects_sum, recall_at_15_corrects_sum, recall_at_20_corrects_sum = 0, 0, 0, 0\n",
    "        recall_at_5_total_sum, recall_at_10_total_sum, recall_at_15_total_sum, recall_at_20_total_sum = 0, 0, 0, 0\n",
    "        print(\"Evaluating...\")\n",
    "        with open(path, 'r') as file_input:\n",
    "            for row in file_input:\n",
    "                #if row == '': continue\n",
    "                recall_at_5_corrects, recall_at_5_total = self.top_k_recall(row, k=5)\n",
    "                recall_at_10_corrects, recall_at_10_total = self.top_k_recall(row, k=10)\n",
    "                recall_at_15_corrects, recall_at_15_total = self.top_k_recall(row, k=15)\n",
    "                recall_at_20_corrects, recall_at_20_total = self.top_k_recall(row, k=20)\n",
    "                \n",
    "                recall_at_5_corrects_sum += recall_at_5_corrects\n",
    "                recall_at_10_corrects_sum += recall_at_10_corrects\n",
    "                recall_at_15_corrects_sum += recall_at_15_corrects\n",
    "                recall_at_20_corrects_sum += recall_at_20_corrects\n",
    "                recall_at_5_total_sum += recall_at_5_total\n",
    "                recall_at_10_total_sum += recall_at_10_total\n",
    "                recall_at_15_total_sum += recall_at_15_total\n",
    "                recall_at_20_total_sum += recall_at_20_total\n",
    "        \n",
    "        report = {\n",
    "            '1 - recall_at_5' : round(recall_at_5_corrects_sum / recall_at_5_total_sum, 2),\n",
    "            '2 - recall_at_10' : round(recall_at_10_corrects_sum / recall_at_10_total_sum, 2),\n",
    "            '3 - recall_at_15' : round(recall_at_15_corrects_sum / recall_at_15_total_sum, 2),\n",
    "            '4 - recall_at_20' : round(recall_at_20_corrects_sum / recall_at_20_total_sum, 2)\n",
    "        }\n",
    "\n",
    "        return report"
   ]
  },
  {
   "cell_type": "code",
   "execution_count": 28,
   "metadata": {},
   "outputs": [
    {
     "name": "stdout",
     "output_type": "stream",
     "text": [
      "Evaluating...\n"
     ]
    },
    {
     "data": {
      "text/plain": [
       "{'1 - recall_at_5': 0.01,\n",
       " '2 - recall_at_10': 0.01,\n",
       " '3 - recall_at_15': 0.01,\n",
       " '4 - recall_at_20': 0.01}"
      ]
     },
     "execution_count": 28,
     "metadata": {},
     "output_type": "execute_result"
    }
   ],
   "source": [
    "#from methods.evaluation import Evaluation\n",
    "\n",
    "\"\"\"\n",
    "    Siamese model\n",
    "    {'1 - recall_at_5': 0.08,\n",
    "     '2 - recall_at_10': 0.11,\n",
    "     '3 - recall_at_15': 0.12,\n",
    "     '4 - recall_at_20': 0.13}\n",
    "    Classification model\n",
    "    {'1 - recall_at_5': 0.1,\n",
    "     '2 - recall_at_10': 0.15,\n",
    "     '3 - recall_at_15': 0.18,\n",
    "     '4 - recall_at_20': 0.21}\n",
    "\"\"\"\n",
    "\n",
    "evaluation = Evaluation()\n",
    "report = evaluation.evaluate(os.path.join(path, 'exported_rank.txt'))\n",
    "report"
   ]
  },
  {
   "cell_type": "markdown",
   "metadata": {},
   "source": [
    "### Visualizing the rank"
   ]
  },
  {
   "cell_type": "code",
   "execution_count": 29,
   "metadata": {},
   "outputs": [],
   "source": [
    "def get_similar_bugs_rank(index):\n",
    "    query, rank = exported_rank[index].split('|')\n",
    "    similar_ids = []\n",
    "    for row in rank.split(','):\n",
    "        master_id, bug_id, sim = row.split(':')\n",
    "        similar_ids.append(bug_id)\n",
    "    df_query = df[df['bug_id'] == int(query.split(':')[0])]\n",
    "    df_similar = df[df['bug_id'].isin(similar_ids)]\n",
    "    return df_query, df_similar"
   ]
  },
  {
   "cell_type": "code",
   "execution_count": 30,
   "metadata": {},
   "outputs": [],
   "source": [
    "def plot_rank(test_labels, tsne_features):\n",
    "    obj_categories = ['anchor', 'positive', 'negative']\n",
    "    groups = [0, 1, 2]\n",
    "    colors = plt.cm.rainbow(np.linspace(0, 1, 3))\n",
    "    plt.figure(figsize=(10, 10))\n",
    "\n",
    "    for c_group, (c_color, c_label) in enumerate(zip(colors, obj_categories)):\n",
    "        plt.scatter(tsne_features[np.where(test_labels == c_group), 0],\n",
    "                    tsne_features[np.where(test_labels == c_group), 1],\n",
    "                    marker='o',\n",
    "                    color=c_color,\n",
    "                    linewidth='1',\n",
    "                    alpha=0.8,\n",
    "                    label=c_label)\n",
    "    plt.xlabel('Dimension 1')\n",
    "    plt.ylabel('Dimension 2')\n",
    "    plt.title('t-SNE on Testing Samples')\n",
    "    plt.legend(loc='best')\n",
    "    #plt.savefig('clothes-dist.png')\n",
    "    plt.show(block=False)\n",
    "\n",
    "def display_rank_at_position(index):\n",
    "    query, rank = exported_rank[index].split('|')\n",
    "    query_bug_id = int(query.split(':')[0])\n",
    "    x_test_features = []\n",
    "    x_test_features.append()\n",
    "    tsne_features = Baseline.create_features(x_test_features)\n",
    "    Baseline.plot_2d(valid_sim, tsne_features)"
   ]
  },
  {
   "cell_type": "code",
   "execution_count": 31,
   "metadata": {},
   "outputs": [],
   "source": [
    "#df_query, df_similar = get_similar_bugs_rank(19)"
   ]
  },
  {
   "cell_type": "code",
   "execution_count": 32,
   "metadata": {
    "scrolled": true
   },
   "outputs": [],
   "source": [
    "#df_query"
   ]
  },
  {
   "cell_type": "code",
   "execution_count": 33,
   "metadata": {
    "scrolled": true
   },
   "outputs": [],
   "source": [
    "#df_similar"
   ]
  }
 ],
 "metadata": {
  "kernelspec": {
   "display_name": "Python 3",
   "language": "python",
   "name": "python3"
  },
  "language_info": {
   "codemirror_mode": {
    "name": "ipython",
    "version": 3
   },
   "file_extension": ".py",
   "mimetype": "text/x-python",
   "name": "python",
   "nbconvert_exporter": "python",
   "pygments_lexer": "ipython3",
   "version": "3.5.2"
  }
 },
 "nbformat": 4,
 "nbformat_minor": 2
}
