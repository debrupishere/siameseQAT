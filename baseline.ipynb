{
 "cells": [
  {
   "cell_type": "markdown",
   "metadata": {
    "colab_type": "text",
    "id": "PtdA1qs_UQP1"
   },
   "source": [
    "# Bug triage with Deep Learning"
   ]
  },
  {
   "cell_type": "code",
   "execution_count": 1,
   "metadata": {},
   "outputs": [
    {
     "name": "stderr",
     "output_type": "stream",
     "text": [
      "C:\\Users\\Thiago\\Anaconda3\\lib\\site-packages\\h5py\\__init__.py:36: FutureWarning: Conversion of the second argument of issubdtype from `float` to `np.floating` is deprecated. In future, it will be treated as `np.float64 == np.dtype(float).type`.\n",
      "  from ._conv import register_converters as _register_converters\n",
      "Using TensorFlow backend.\n"
     ]
    }
   ],
   "source": [
    "import keras\n",
    "from tensorflow.contrib.tensorboard.plugins import projector"
   ]
  },
  {
   "cell_type": "code",
   "execution_count": 2,
   "metadata": {
    "colab": {},
    "colab_type": "code",
    "id": "qnSCLmiomFE1"
   },
   "outputs": [],
   "source": [
    "from __future__ import print_function, division"
   ]
  },
  {
   "cell_type": "code",
   "execution_count": 3,
   "metadata": {
    "colab": {},
    "colab_type": "code",
    "id": "OIha-SERnD72"
   },
   "outputs": [],
   "source": [
    "import re\n",
    "import numpy as np\n",
    "import pandas as pd\n",
    "\n",
    "import os\n",
    "from tqdm import tqdm\n",
    "import matplotlib.pyplot as plt\n",
    "import sys\n",
    "nb_dir = os.path.split(os.getcwd())[0]\n",
    "if nb_dir not in sys.path:\n",
    "    sys.path.append(nb_dir)\n",
    "    \n",
    "%matplotlib inline"
   ]
  },
  {
   "cell_type": "code",
   "execution_count": 4,
   "metadata": {
    "colab": {
     "base_uri": "https://localhost:8080/",
     "height": 34
    },
    "colab_type": "code",
    "id": "c57gQiuAnJAe",
    "outputId": "9eaf2d3f-619a-492d-f40b-6ba2c48426fa"
   },
   "outputs": [],
   "source": [
    "from keras.layers import Conv1D, Input, Add, Activation, Dropout, Embedding, MaxPooling1D, GlobalMaxPool1D, Flatten, Dense, Concatenate, BatchNormalization\n",
    "from keras.models import Sequential, Model\n",
    "from keras.regularizers import l2\n",
    "from keras.initializers import TruncatedNormal\n",
    "from keras.layers.advanced_activations import LeakyReLU, ELU\n",
    "from keras import optimizers"
   ]
  },
  {
   "cell_type": "code",
   "execution_count": 5,
   "metadata": {},
   "outputs": [],
   "source": [
    "from methods.baseline import Baseline"
   ]
  },
  {
   "cell_type": "markdown",
   "metadata": {
    "colab_type": "text",
    "id": "3VUZ6oG1gb91"
   },
   "source": [
    "## Auxiliary methods"
   ]
  },
  {
   "cell_type": "markdown",
   "metadata": {
    "colab_type": "text",
    "id": "19Oo5yKCrXYG"
   },
   "source": [
    "## Dataset bugs"
   ]
  },
  {
   "cell_type": "code",
   "execution_count": 6,
   "metadata": {
    "colab": {
     "base_uri": "https://localhost:8080/",
     "height": 122
    },
    "colab_type": "code",
    "id": "CxFKGhm9repF",
    "outputId": "d78a02ef-882f-4202-d1ea-7d709171b992"
   },
   "outputs": [],
   "source": [
    "#from google.colab import drive\n",
    "#drive.mount('/content/drive')"
   ]
  },
  {
   "cell_type": "markdown",
   "metadata": {
    "colab_type": "text",
    "id": "8uQou7m2-bFO"
   },
   "source": [
    "## Configurações Globais"
   ]
  },
  {
   "cell_type": "code",
   "execution_count": 7,
   "metadata": {
    "colab": {},
    "colab_type": "code",
    "id": "G-Kn3x_K-aZj"
   },
   "outputs": [],
   "source": [
    "MAX_SEQUENCE_LENGTH_T = 100 # 40\n",
    "MAX_SEQUENCE_LENGTH_D = 100 # 200\n",
    "EMBEDDING_DIM = 300\n",
    "MAX_NB_WORDS = 2000"
   ]
  },
  {
   "cell_type": "markdown",
   "metadata": {},
   "source": [
    "### Parse bugs preproprecessed"
   ]
  },
  {
   "cell_type": "code",
   "execution_count": 8,
   "metadata": {},
   "outputs": [],
   "source": [
    "DIR = 'data/processed/eclipse'\n",
    "DIR_PAIRS = 'data/normalized/eclipse'"
   ]
  },
  {
   "cell_type": "code",
   "execution_count": 9,
   "metadata": {},
   "outputs": [],
   "source": [
    "df_train_pair = pd.read_csv(os.path.join(DIR_PAIRS, 'eclipse_pairs.csv'))\n",
    "baseline = Baseline(DIR, MAX_SEQUENCE_LENGTH_T, MAX_SEQUENCE_LENGTH_D)"
   ]
  },
  {
   "cell_type": "code",
   "execution_count": 10,
   "metadata": {},
   "outputs": [],
   "source": [
    "baseline.load_ids(DIR)"
   ]
  },
  {
   "cell_type": "code",
   "execution_count": 11,
   "metadata": {},
   "outputs": [
    {
     "data": {
      "text/plain": [
       "212512"
      ]
     },
     "execution_count": 11,
     "metadata": {},
     "output_type": "execute_result"
    }
   ],
   "source": [
    "len(baseline.bug_ids)"
   ]
  },
  {
   "cell_type": "markdown",
   "metadata": {
    "colab_type": "text",
    "id": "vqzt5EKzqzcI"
   },
   "source": [
    "### Dicionário de títulos e descrições"
   ]
  },
  {
   "cell_type": "code",
   "execution_count": 12,
   "metadata": {
    "scrolled": false
   },
   "outputs": [
    {
     "name": "stderr",
     "output_type": "stream",
     "text": [
      "100%|█████████████████████████████████| 212512/212512 [22:03<00:00, 200.31it/s]\n"
     ]
    },
    {
     "name": "stdout",
     "output_type": "stream",
     "text": [
      "Wall time: 22min 3s\n"
     ]
    }
   ],
   "source": [
    "%%time\n",
    "\n",
    "baseline.load_preprocess()"
   ]
  },
  {
   "cell_type": "code",
   "execution_count": 13,
   "metadata": {
    "colab": {
     "base_uri": "https://localhost:8080/",
     "height": 34
    },
    "colab_type": "code",
    "id": "8RdOXdw8q6rN",
    "outputId": "d98e260f-d633-44db-d1ff-50f0a2ae7cd5",
    "scrolled": true
   },
   "outputs": [
    {
     "data": {
      "text/plain": [
       "242718"
      ]
     },
     "execution_count": 13,
     "metadata": {},
     "output_type": "execute_result"
    }
   ],
   "source": [
    "len(baseline.sentence_dict)"
   ]
  },
  {
   "cell_type": "markdown",
   "metadata": {
    "colab_type": "text",
    "id": "J0WZNngemNM8"
   },
   "source": [
    "## Geração de batches"
   ]
  },
  {
   "cell_type": "markdown",
   "metadata": {
    "colab_type": "text",
    "id": "a6Obtop6UIVD"
   },
   "source": [
    "### Generating tiple of batches"
   ]
  },
  {
   "cell_type": "code",
   "execution_count": 14,
   "metadata": {
    "colab": {},
    "colab_type": "code",
    "id": "vvyMGBD4IhB-"
   },
   "outputs": [
    {
     "name": "stdout",
     "output_type": "stream",
     "text": [
      "Reading train data\n",
      "Wall time: 1.28 s\n"
     ]
    }
   ],
   "source": [
    "%%time\n",
    "\n",
    "bug_dir = os.path.join(DIR)\n",
    "baseline.prepare_dataset(bug_dir)"
   ]
  },
  {
   "cell_type": "code",
   "execution_count": 15,
   "metadata": {
    "scrolled": true
   },
   "outputs": [
    {
     "name": "stderr",
     "output_type": "stream",
     "text": [
      "100%|█████████████████████████████████| 212512/212512 [05:33<00:00, 637.35it/s]\n"
     ]
    }
   ],
   "source": [
    "baseline.load_bugs()"
   ]
  },
  {
   "cell_type": "code",
   "execution_count": 16,
   "metadata": {
    "colab": {
     "base_uri": "https://localhost:8080/",
     "height": 51
    },
    "colab_type": "code",
    "id": "PA5CIhgz7odW",
    "outputId": "ae98fdec-1d54-4b1f-ee0e-4c5633802a18",
    "scrolled": true
   },
   "outputs": [
    {
     "name": "stdout",
     "output_type": "stream",
     "text": [
      "Wall time: 274 ms\n"
     ]
    }
   ],
   "source": [
    "%%time\n",
    "\n",
    "batch_size = 1\n",
    "batch_size_test = 512\n",
    "\n",
    "# we want a constant validation group to have a frame of reference for model performance\n",
    "train_gen = baseline.siam_gen(bug_dir, batch_size, 1)\n",
    "valid_input_sample, valid_input_pos, valid_input_neg, valid_sim = baseline.batch_iterator(bug_dir, batch_size_test, 1)\n",
    "test_gen = ([valid_input_sample['title'], valid_input_pos['title'], valid_input_neg['title'], \n",
    "             valid_input_sample['description'], valid_input_pos['description'], valid_input_neg['description']], valid_sim)"
   ]
  },
  {
   "cell_type": "code",
   "execution_count": 17,
   "metadata": {},
   "outputs": [
    {
     "data": {
      "text/plain": [
       "((512, 100), (512, 100), (512,))"
      ]
     },
     "execution_count": 17,
     "metadata": {},
     "output_type": "execute_result"
    }
   ],
   "source": [
    "valid_input_sample['title'].shape, valid_input_sample['description'].shape, valid_sim.shape"
   ]
  },
  {
   "cell_type": "markdown",
   "metadata": {
    "colab_type": "text",
    "id": "24mY22BGnkqp"
   },
   "source": [
    "### Validar entrada"
   ]
  },
  {
   "cell_type": "code",
   "execution_count": 18,
   "metadata": {
    "colab": {
     "base_uri": "https://localhost:8080/",
     "height": 796
    },
    "colab_type": "code",
    "id": "OhTbr3a5nmrh",
    "outputId": "a2d73e0f-e9ce-4d12-a5c8-f0008d2402d0",
    "scrolled": true
   },
   "outputs": [
    {
     "name": "stdout",
     "output_type": "stream",
     "text": [
      "Title: \n",
      "global sea\n",
      "Title: \n",
      "created at\n",
      "Description: \n",
      "global search result lists up all the matched lines in a file we should highlight all the matches inside the matched line as well it is helpful when multiple matches happen in a single line\n",
      "Description: \n",
      "created attachment number screenshot when the line containing a search result is long and if there are many results it can be hard to find the hit can we bold the hit\n",
      "similar = 1\n",
      "########################\n",
      "Title: \n",
      "fnumber th\n",
      "Title: \n",
      "fnumber ot\n",
      "Description: \n",
      "fnumber these actions take a while on large files thhey seem to scale with the size of the file not the selection so they should show a busy cursor otherwise the ui feels unresponsive\n",
      "Description: \n",
      "fnumber otherwise i m never sure when it s done and the ui feels less responsive\n",
      "similar = 1\n",
      "########################\n",
      "Title: \n",
      "in number \n",
      "Title: \n",
      "code compl\n",
      "Description: \n",
      "in number mnumber str number create a java project with number classes mainnumber mainnumber show outline view number detach mainnumber from main window number click to switch between the number editors make sure to click the title bars of the editors not the text area inside number in a few tries usually number you will notice that the outline view will not update when the detached editor mainnumber is activated this does not happen for eclipse number\n",
      "Description: \n",
      "code compl\n",
      "similar = 0\n",
      "########################\n",
      "Title: \n",
      "in a jsp f\n",
      "Title: \n",
      "inumber an\n",
      "Description: \n",
      "in a jsp form i have the html code not scriptlet code option value option in all the jsp scriptlet areas behind this html code i get the validation error variable can not be resolved for every variable usage simple html code should never ever have any influence on the validation of jsp scriptlet areas\n",
      "Description: \n",
      "inumber an\n",
      "similar = 0\n",
      "########################\n",
      "Wall time: 345 ms\n"
     ]
    }
   ],
   "source": [
    "%%time \n",
    "\n",
    "baseline.display_batch(bug_dir, 5)"
   ]
  },
  {
   "cell_type": "markdown",
   "metadata": {
    "colab_type": "text",
    "id": "XPrsLs4Kg4Pa"
   },
   "source": [
    "## Pre-trained embeddings\n",
    "\n",
    "Loading pretrained word vectors"
   ]
  },
  {
   "cell_type": "markdown",
   "metadata": {
    "colab_type": "text",
    "id": "6p9eE5TWoH7p"
   },
   "source": [
    "### Glove"
   ]
  },
  {
   "cell_type": "code",
   "execution_count": 19,
   "metadata": {
    "colab": {
     "base_uri": "https://localhost:8080/",
     "height": 85
    },
    "colab_type": "code",
    "id": "QY-ef3OGoIiq",
    "outputId": "55f4c93c-98bb-4bac-92f2-76bd3b777605"
   },
   "outputs": [
    {
     "name": "stderr",
     "output_type": "stream",
     "text": [
      "1917494it [08:02, 3970.22it/s] \n"
     ]
    },
    {
     "name": "stdout",
     "output_type": "stream",
     "text": [
      "Total 1917494 word vectors in Glove 42B 300d.\n",
      "Found 154042 unique tokens.\n"
     ]
    },
    {
     "name": "stderr",
     "output_type": "stream",
     "text": [
      "100%|██████████████████████████████| 154042/154042 [00:00<00:00, 243950.12it/s]\n"
     ]
    },
    {
     "name": "stdout",
     "output_type": "stream",
     "text": [
      "Wall time: 9min 59s\n"
     ]
    }
   ],
   "source": [
    "%%time\n",
    "\n",
    "baseline.generating_embed(GLOVE_DIR='data/embed', EMBEDDING_DIM=EMBEDDING_DIM, MAX_NB_WORDS=MAX_NB_WORDS)"
   ]
  },
  {
   "cell_type": "markdown",
   "metadata": {
    "colab_type": "text",
    "id": "Lev5Y7oaFQBd"
   },
   "source": [
    "## Towards Accurate Duplicate Bug Retrieval Using Deep Learning Techniques\n",
    "\n",
    "https://github.com/tqtg/DuplicateBugFinder"
   ]
  },
  {
   "cell_type": "markdown",
   "metadata": {
    "colab_type": "text",
    "id": "sI074wU4Y13y"
   },
   "source": [
    "### CNN with filter 3,4,5"
   ]
  },
  {
   "cell_type": "code",
   "execution_count": 37,
   "metadata": {
    "colab": {
     "base_uri": "https://localhost:8080/",
     "height": 493
    },
    "colab_type": "code",
    "id": "h6YJU9GtFTyq",
    "outputId": "f85cf105-1fd6-491d-d969-7e6936f32739",
    "scrolled": false
   },
   "outputs": [],
   "source": [
    "import keras\n",
    "from keras.layers import GlobalMaxPooling1D \n",
    "\n",
    "keras.backend.clear_session()\n",
    "\n",
    "def cnn_model(embeddings, num_words, embedding_dim, max_sequence_length, trainable):\n",
    "\n",
    "  embedding_layer = Embedding(num_words,\n",
    "                              embedding_dim,\n",
    "                              weights=[embeddings],\n",
    "                              input_length=max_sequence_length,\n",
    "                              trainable=trainable)\n",
    "\n",
    "  sequence_input = Input(shape=(max_sequence_length,), name='Feature_BugInput')\n",
    "  embedded_sequences = embedding_layer(sequence_input)\n",
    "\n",
    "  # Yoon Kim model (https://arxiv.org/abs/1408.5882)\n",
    "  convs = []\n",
    "  filter_sizes = [3,4,5]\n",
    "\n",
    "  for filter_size in filter_sizes:\n",
    "      l_conv = Conv1D(filters=32, kernel_size=filter_size, activation='relu')(embedded_sequences)\n",
    "      l_pool = MaxPooling1D(pool_size=3)(l_conv)\n",
    "      convs.append(l_pool)\n",
    "\n",
    "  # l_merge = Merge(mode='concat', concat_axis=1)(convs)\n",
    "\n",
    "  l_merge = Concatenate(axis=1)(convs)\n",
    "\n",
    "  # add a 1D convnet with global maxpooling, instead of Yoon Kim model\n",
    "  conv = Conv1D(filters=64, kernel_size=3, activation='relu')(l_merge)\n",
    "  layer = GlobalMaxPooling1D()(conv) # pool_size=3\n",
    "  # Original Yoon Kim model\n",
    "  #x = Flatten()(pool)\n",
    "  #x = Dropout(0.5)(x)\n",
    "  #layer = Activation('relu')(pool)\n",
    "\n",
    "  cnn_feature_model = Model(inputs=[sequence_input], outputs=[layer], name = 'FeatureCNNGenerationModel') # inputs=visible\n",
    "  \n",
    "  return cnn_feature_model"
   ]
  },
  {
   "cell_type": "markdown",
   "metadata": {
    "colab_type": "text",
    "id": "wr6ObTXiaALH"
   },
   "source": [
    "### Bi-LSTM"
   ]
  },
  {
   "cell_type": "code",
   "execution_count": 38,
   "metadata": {
    "colab": {
     "base_uri": "https://localhost:8080/",
     "height": 306
    },
    "colab_type": "code",
    "id": "vC7MQXEsaCeG",
    "outputId": "65e647a9-c5d3-4009-b8a4-2e2d97b52684"
   },
   "outputs": [],
   "source": [
    "from keras.layers import Dense, Input, LSTM, Dropout, Bidirectional\n",
    "\n",
    "def lstm_model(embeddings, num_words, embedding_dim, max_sequence_length, trainable):\n",
    "  number_lstm_units = 100\n",
    "  rate_drop_lstm = 0\n",
    "  recurrent_dropout = 0\n",
    "\n",
    "  embedding_layer = Embedding(num_words,\n",
    "                          embedding_dim,\n",
    "                          weights=[embeddings],\n",
    "                          input_length=max_sequence_length,\n",
    "                          trainable=trainable)\n",
    "\n",
    "  sequence_input = Input(shape=(max_sequence_length, ), name='Feature_BugInput')\n",
    "  embedded_sequences = embedding_layer(sequence_input)\n",
    "\n",
    "   # Creating LSTM Encoder\n",
    "  lstm_layer = Bidirectional(LSTM(number_lstm_units, dropout=rate_drop_lstm, recurrent_dropout=rate_drop_lstm), merge_mode='sum')\n",
    "\n",
    "  layer = lstm_layer(embedded_sequences)\n",
    "\n",
    "  #layer = Activation('relu')(x)\n",
    "\n",
    "  lstm_feature_model = Model(inputs=[sequence_input], outputs=[layer], name = 'FeatureLstmGenerationModel') # inputs=visible\n",
    "  \n",
    "  return lstm_feature_model"
   ]
  },
  {
   "cell_type": "markdown",
   "metadata": {
    "colab_type": "text",
    "id": "TEedCg5AaTf2"
   },
   "source": [
    "### Siamese model"
   ]
  },
  {
   "cell_type": "code",
   "execution_count": 40,
   "metadata": {
    "colab": {},
    "colab_type": "code",
    "id": "dGx3qyWhmLMF"
   },
   "outputs": [],
   "source": [
    "from keras import backend as K\n",
    "import tensorflow as tf\n",
    "\n",
    "# https://stackoverflow.com/questions/50673196/keras-triplet-loss-crashes-when-training\n",
    "# https://github.com/keras-team/keras/issues/8335\n",
    "class MarginLoss(keras.layers.Layer):\n",
    "  def call(self, inputs):\n",
    "    bug_in, bug_pos, bug_neg = inputs\n",
    "    loss, dis_pos, dis_neg = self.triplet(bug_in, bug_pos, bug_neg)\n",
    "    self.add_loss(loss, inputs=inputs)\n",
    "    return  K.stack(inputs)\n",
    "\n",
    "  def compute_output_shape(self, input_shape):\n",
    "    return (None, 1)\n",
    "\n",
    "  def triplet(self, bug_in, bug_pos, bug_neg):\n",
    "    dis_pos, dis_neg = self.cos_distance(bug_in, bug_pos), self.cos_distance(bug_in, bug_neg)\n",
    "    ep = K.constant(1)\n",
    "    d1 = K.maximum(K.constant(0), ep - dis_pos + dis_neg)\n",
    "    return K.mean(d1), K.mean(dis_pos), K.mean(dis_neg)\n",
    "    \n",
    "  def l2_normalize(self, x, axis):\n",
    "    norm = K.sqrt(K.sum(K.square(x), axis=axis, keepdims=True))\n",
    "    return K.maximum(x, K.epsilon()) / K.maximum(norm, K.epsilon())\n",
    "\n",
    "  # https://github.com/keras-team/keras/issues/3031\n",
    "  def cos_distance(self, x, y):\n",
    "    x = self.l2_normalize(x, axis=-1)\n",
    "    y = self.l2_normalize(y, axis=-1)\n",
    "    similarity = K.batch_dot(x, y, axes=1)\n",
    "    distance = K.constant(1) - similarity\n",
    "    # Distance goes from 0 to 2 in theory, but from 0 to 1 if x and y are both\n",
    "    # positive (which is the case after ReLU activation).\n",
    "    return K.mean(distance, axis=-1)"
   ]
  },
  {
   "cell_type": "code",
   "execution_count": 42,
   "metadata": {
    "colab": {
     "base_uri": "https://localhost:8080/",
     "height": 561
    },
    "colab_type": "code",
    "id": "VWBkSIYVaXyP",
    "outputId": "ed2a3d37-b8ec-4960-ef45-2909a87c8fa5"
   },
   "outputs": [],
   "source": [
    "from keras.layers import concatenate, Add, Lambda, merge\n",
    "from keras.optimizers import Adam\n",
    "\n",
    "def siamese_model(lstm_feature_model, cnn_feature_model, max_sequence_length_t, max_sequence_length_d):\n",
    "  \n",
    "  bug_t_in = Input(shape = (max_sequence_length_t, ), name = 'title_in')\n",
    "  bug_t_pos = Input(shape = (max_sequence_length_t, ), name = 'title_pos')\n",
    "  bug_t_neg = Input(shape = (max_sequence_length_t, ), name = 'title_neg')\n",
    "  \n",
    "  bug_d_in = Input(shape = (max_sequence_length_d, ), name = 'desc_in')\n",
    "  bug_d_pos = Input(shape = (max_sequence_length_d, ), name = 'desc_pos')\n",
    "  bug_d_neg = Input(shape = (max_sequence_length_d, ), name = 'desc_neg')\n",
    "\n",
    "  bug_t_in_feat_lstm = lstm_feature_model(bug_t_in)\n",
    "  bug_t_pos_feat_lstm = lstm_feature_model(bug_t_pos)\n",
    "  bug_t_neg_feat_lstm = lstm_feature_model(bug_t_neg)\n",
    "  \n",
    "  bug_d_in_feat_cnn = cnn_feature_model(bug_d_in)\n",
    "  bug_d_pos_feat_cnn = cnn_feature_model(bug_d_pos)\n",
    "  bug_d_neg_feat_cnn = cnn_feature_model(bug_d_neg)\n",
    "\n",
    "  encoded_anchor = concatenate([bug_t_in_feat_lstm, bug_d_in_feat_cnn], name = 'merge_features_in')\n",
    "  encoded_positive = concatenate([bug_t_pos_feat_lstm, bug_d_pos_feat_cnn], name = 'merge_features_pos')\n",
    "  encoded_negative = concatenate([bug_t_neg_feat_lstm, bug_d_neg_feat_cnn], name = 'merge_features_neg')\n",
    "  \n",
    "  loss = MarginLoss()([encoded_anchor, encoded_positive, encoded_negative])\n",
    "    \n",
    "  #output = concatenate([encoded_anchor, encoded_positive, encoded_negative], name = 'merge_bugs')\n",
    "  #output = Dense(1, activation='sigmoid')(output)\n",
    "    \n",
    "  #distance_pos = merge([encoded_anchor, encoded_positive], mode=\"cos\", dot_axes=1)\n",
    "  #distance_neg = merge([encoded_anchor, encoded_negative], mode=\"cos\", dot_axes=1)\n",
    "    \n",
    "  #positive_d = Lambda(cosine_distance)([encoded_anchor, encoded_positive])\n",
    "  #negative_d = Lambda(cosine_distance)([encoded_anchor, encoded_negative])\n",
    "    \n",
    "  # Loss function only works with a single output\n",
    "  #stacked_ds = Lambda(stack_tensors, name='stack-distances')([positive_d, negative_d])\n",
    "    \n",
    "#   distance_pos = merge([encoded_anchor, encoded_positive], mode='cos', dot_axes=0)\n",
    "#   distance_neg = merge([encoded_anchor, encoded_negative], mode='cos', dot_axes=0)\n",
    "\n",
    "  #adam = Adam(lr=0.01, beta_1=0.9, beta_2=0.999, epsilon=None, decay=0.01, amsgrad=False)\n",
    "  \n",
    "  similarity_model = Model(inputs = [bug_t_in, bug_t_pos, bug_t_neg, bug_d_in, bug_d_pos, bug_d_neg], \n",
    "                           outputs = loss, name = 'Similarity_Model')\n",
    "\n",
    "  # setup the optimization process \n",
    "  similarity_model.compile(optimizer='adam', loss=None) # 'categorical_crossentropy' metrics = ['accuracy']\n",
    "  \n",
    "  return similarity_model"
   ]
  },
  {
   "cell_type": "code",
   "execution_count": 121,
   "metadata": {},
   "outputs": [],
   "source": [
    "input_sample, input_pos, input_neg, sim = baseline.batch_iterator(bug_dir, 1, 1)"
   ]
  },
  {
   "cell_type": "code",
   "execution_count": 126,
   "metadata": {},
   "outputs": [],
   "source": [
    "def siam_gen_clf(data, batch_size, n_neg):\n",
    "        while True:\n",
    "            input_sample, input_pos, input_neg, sim = baseline.batch_iterator(data, batch_size, n_neg)\n",
    "            sim = np.full((1, batch_size), 0)\n",
    "            #pos = np.full((1, total), 1)\n",
    "            #neg = np.full((1, total), 0)\n",
    "            yield ({ 'title_in' : input_sample['title'], 'title_pos': input_pos['title'], 'title_neg' : input_neg['title'],\n",
    "            'desc_in' : input_sample['description'], 'desc_pos' : input_pos['description'], 'desc_neg' : input_neg['description'] }, sim)"
   ]
  },
  {
   "cell_type": "code",
   "execution_count": 134,
   "metadata": {},
   "outputs": [],
   "source": [
    "def l2_normalize(x, axis):\n",
    "    norm = K.sqrt(K.sum(K.square(x), axis=axis, keepdims=True))\n",
    "    return K.maximum(x, K.epsilon()) / K.maximum(norm, K.epsilon())\n",
    "\n",
    "# https://github.com/keras-team/keras/issues/3031\n",
    "# https://github.com/keras-team/keras/issues/8335\n",
    "def cosine_distance(inputs):\n",
    "    x, y = inputs\n",
    "    x = l2_normalize(x, axis=-1)\n",
    "    y = l2_normalize(y, axis=-1)\n",
    "    similarity = K.batch_dot(x, y, axes=1)\n",
    "    distance = K.constant(1) - similarity\n",
    "    # Distance goes from 0 to 2 in theory, but from 0 to 1 if x and y are both\n",
    "    # positive (which is the case after ReLU activation).\n",
    "    return K.mean(distance, axis=-1)\n",
    "\n",
    "def margin_loss(y_true, y_pred):\n",
    "    margin = K.constant(1.0)\n",
    "    return K.mean(K.maximum(0.0, margin - y_pred[0] + y_pred[1]))\n",
    "\n",
    "def pos_distance(y_true, y_pred):\n",
    "    return K.mean(y_pred[0])\n",
    "\n",
    "def neg_distance(y_true, y_pred):\n",
    "    return K.mean(y_pred[1])\n",
    "\n",
    "def stack_tensors(vects):\n",
    "    return K.squeeze(K.stack(vects),axis=1) # stack adds a new dim. So squeeze it\n",
    "    # better method is to use concatenate\n",
    "    return K.concatenate(vects,axis=1)\n",
    "\n",
    "def siamese_model(lstm_feature_model, cnn_feature_model, max_sequence_length_t, max_sequence_length_d):\n",
    "  \n",
    "    bug_t_in = Input(shape = (max_sequence_length_t, ), name = 'title_in')\n",
    "    bug_t_pos = Input(shape = (max_sequence_length_t, ), name = 'title_pos')\n",
    "    bug_t_neg = Input(shape = (max_sequence_length_t, ), name = 'title_neg')\n",
    "\n",
    "    bug_d_in = Input(shape = (max_sequence_length_d, ), name = 'desc_in')\n",
    "    bug_d_pos = Input(shape = (max_sequence_length_d, ), name = 'desc_pos')\n",
    "    bug_d_neg = Input(shape = (max_sequence_length_d, ), name = 'desc_neg')\n",
    "\n",
    "    bug_t_in_feat_lstm = lstm_feature_model(bug_t_in)\n",
    "    bug_t_pos_feat_lstm = lstm_feature_model(bug_t_pos)\n",
    "    bug_t_neg_feat_lstm = lstm_feature_model(bug_t_neg)\n",
    "\n",
    "    bug_d_in_feat_cnn = cnn_feature_model(bug_d_in)\n",
    "    bug_d_pos_feat_cnn = cnn_feature_model(bug_d_pos)\n",
    "    bug_d_neg_feat_cnn = cnn_feature_model(bug_d_neg)\n",
    "\n",
    "    encoded_anchor = concatenate([bug_t_in_feat_lstm, bug_d_in_feat_cnn], name = 'merge_features_in')\n",
    "    encoded_positive = concatenate([bug_t_pos_feat_lstm, bug_d_pos_feat_cnn], name = 'merge_features_pos')\n",
    "    encoded_negative = concatenate([bug_t_neg_feat_lstm, bug_d_neg_feat_cnn], name = 'merge_features_neg')\n",
    "\n",
    "    positive_d = Lambda(cosine_distance)([encoded_anchor, encoded_positive])\n",
    "    negative_d = Lambda(cosine_distance)([encoded_anchor, encoded_negative])\n",
    "    \n",
    "    # Loss function only works with a single output\n",
    "    output = Lambda(\n",
    "        lambda vects: K.stack(vects),\n",
    "        name='stack-distances',\n",
    "    )([positive_d, negative_d])\n",
    "  \n",
    "    similarity_model = Model(inputs = [bug_t_in, bug_t_pos, bug_t_neg, bug_d_in, bug_d_pos, bug_d_neg], \n",
    "                           outputs = output, name = 'Similarity_Model')\n",
    "\n",
    "    # setup the optimization process \n",
    "    similarity_model.compile(optimizer='adam', loss=margin_loss, metrics=[margin_loss, pos_distance, neg_distance]) # 'categorical_crossentropy' \n",
    "\n",
    "    return similarity_model"
   ]
  },
  {
   "cell_type": "markdown",
   "metadata": {},
   "source": [
    "## Experiment"
   ]
  },
  {
   "cell_type": "code",
   "execution_count": 131,
   "metadata": {
    "scrolled": true
   },
   "outputs": [
    {
     "name": "stdout",
     "output_type": "stream",
     "text": [
      "__________________________________________________________________________________________________\n",
      "Layer (type)                    Output Shape         Param #     Connected to                     \n",
      "==================================================================================================\n",
      "title_in (InputLayer)           (None, 100)          0                                            \n",
      "__________________________________________________________________________________________________\n",
      "desc_in (InputLayer)            (None, 100)          0                                            \n",
      "__________________________________________________________________________________________________\n",
      "title_pos (InputLayer)          (None, 100)          0                                            \n",
      "__________________________________________________________________________________________________\n",
      "desc_pos (InputLayer)           (None, 100)          0                                            \n",
      "__________________________________________________________________________________________________\n",
      "title_neg (InputLayer)          (None, 100)          0                                            \n",
      "__________________________________________________________________________________________________\n",
      "desc_neg (InputLayer)           (None, 100)          0                                            \n",
      "__________________________________________________________________________________________________\n",
      "FeatureLstmGenerationModel (Mod (None, 100)          46533700    title_in[0][0]                   \n",
      "                                                                 title_pos[0][0]                  \n",
      "                                                                 title_neg[0][0]                  \n",
      "__________________________________________________________________________________________________\n",
      "FeatureCNNGenerationModel (Mode (None, 64)           46334404    desc_in[0][0]                    \n",
      "                                                                 desc_pos[0][0]                   \n",
      "                                                                 desc_neg[0][0]                   \n",
      "__________________________________________________________________________________________________\n",
      "merge_features_in (Concatenate) (None, 164)          0           FeatureLstmGenerationModel[1][0] \n",
      "                                                                 FeatureCNNGenerationModel[1][0]  \n",
      "__________________________________________________________________________________________________\n",
      "merge_features_pos (Concatenate (None, 164)          0           FeatureLstmGenerationModel[2][0] \n",
      "                                                                 FeatureCNNGenerationModel[2][0]  \n",
      "__________________________________________________________________________________________________\n",
      "merge_features_neg (Concatenate (None, 164)          0           FeatureLstmGenerationModel[3][0] \n",
      "                                                                 FeatureCNNGenerationModel[3][0]  \n",
      "__________________________________________________________________________________________________\n",
      "lambda_1 (Lambda)               (None,)              0           merge_features_in[0][0]          \n",
      "                                                                 merge_features_pos[0][0]         \n",
      "__________________________________________________________________________________________________\n",
      "lambda_2 (Lambda)               (None,)              0           merge_features_in[0][0]          \n",
      "                                                                 merge_features_neg[0][0]         \n",
      "__________________________________________________________________________________________________\n",
      "stack-distances (Lambda)        (2, None)            0           lambda_1[0][0]                   \n",
      "                                                                 lambda_2[0][0]                   \n",
      "==================================================================================================\n",
      "Total params: 92,868,104\n",
      "Trainable params: 442,304\n",
      "Non-trainable params: 92,425,800\n",
      "__________________________________________________________________________________________________\n",
      "Epoch 1/100\n",
      "16/16 [==============================] - ETA: 1:39 - loss: 1.010 - ETA: 56s - loss: 1.007 - ETA: 39s - loss: 1.00 - ETA: 29s - loss: 1.00 - ETA: 23s - loss: 1.00 - ETA: 18s - loss: 1.00 - ETA: 14s - loss: 1.00 - ETA: 12s - loss: 1.00 - ETA: 9s - loss: 1.0007 - ETA: 7s - loss: 1.002 - ETA: 6s - loss: 1.002 - ETA: 4s - loss: 1.001 - ETA: 3s - loss: 1.003 - ETA: 2s - loss: 1.002 - ETA: 1s - loss: 1.003 - 16s 972ms/step - loss: 1.0035\n",
      "Epoch 2/100\n",
      "16/16 [==============================] - ETA: 6s - loss: 0.993 - ETA: 5s - loss: 0.998 - ETA: 5s - loss: 0.999 - ETA: 5s - loss: 0.999 - ETA: 4s - loss: 0.999 - ETA: 4s - loss: 0.999 - ETA: 3s - loss: 0.999 - ETA: 3s - loss: 0.999 - ETA: 2s - loss: 0.999 - ETA: 2s - loss: 0.999 - ETA: 2s - loss: 1.000 - ETA: 1s - loss: 1.000 - ETA: 1s - loss: 1.000 - ETA: 0s - loss: 1.000 - ETA: 0s - loss: 1.000 - 7s 417ms/step - loss: 1.0005\n",
      "Epoch 3/100\n",
      "16/16 [==============================] - ETA: 6s - loss: 1.000 - ETA: 5s - loss: 1.000 - ETA: 5s - loss: 1.000 - ETA: 4s - loss: 0.999 - ETA: 4s - loss: 0.999 - ETA: 4s - loss: 0.999 - ETA: 3s - loss: 0.999 - ETA: 3s - loss: 0.999 - ETA: 2s - loss: 1.000 - ETA: 2s - loss: 1.000 - ETA: 2s - loss: 1.000 - ETA: 1s - loss: 1.000 - ETA: 1s - loss: 1.000 - ETA: 0s - loss: 1.000 - ETA: 0s - loss: 1.000 - 7s 416ms/step - loss: 1.0003\n",
      "Epoch 4/100\n",
      "16/16 [==============================] - ETA: 5s - loss: 1.000 - ETA: 5s - loss: 0.999 - ETA: 5s - loss: 0.999 - ETA: 4s - loss: 0.999 - ETA: 4s - loss: 0.999 - ETA: 4s - loss: 0.999 - ETA: 3s - loss: 0.999 - ETA: 3s - loss: 0.999 - ETA: 2s - loss: 0.999 - ETA: 2s - loss: 0.999 - ETA: 2s - loss: 0.999 - ETA: 1s - loss: 0.999 - ETA: 1s - loss: 0.999 - ETA: 0s - loss: 0.999 - ETA: 0s - loss: 0.999 - 7s 414ms/step - loss: 0.9998\n",
      "Epoch 5/100\n",
      "16/16 [==============================] - ETA: 6s - loss: 0.999 - ETA: 5s - loss: 0.999 - ETA: 5s - loss: 0.999 - ETA: 5s - loss: 0.999 - ETA: 4s - loss: 1.000 - ETA: 4s - loss: 1.000 - ETA: 3s - loss: 0.999 - ETA: 3s - loss: 1.000 - ETA: 2s - loss: 1.000 - ETA: 2s - loss: 0.999 - ETA: 2s - loss: 1.000 - ETA: 1s - loss: 1.000 - ETA: 1s - loss: 1.000 - ETA: 0s - loss: 1.000 - ETA: 0s - loss: 1.000 - 7s 419ms/step - loss: 1.0002\n",
      "Epoch 6/100\n",
      "16/16 [==============================] - ETA: 7s - loss: 0.999 - ETA: 6s - loss: 0.999 - ETA: 5s - loss: 1.000 - ETA: 5s - loss: 0.999 - ETA: 4s - loss: 0.999 - ETA: 4s - loss: 0.999 - ETA: 3s - loss: 0.999 - ETA: 3s - loss: 1.000 - ETA: 2s - loss: 1.000 - ETA: 2s - loss: 0.999 - ETA: 2s - loss: 1.000 - ETA: 1s - loss: 1.000 - ETA: 1s - loss: 1.000 - ETA: 0s - loss: 1.000 - ETA: 0s - loss: 1.000 - 7s 421ms/step - loss: 1.0000\n",
      "Epoch 7/100\n",
      "16/16 [==============================] - ETA: 5s - loss: 1.001 - ETA: 5s - loss: 1.001 - ETA: 5s - loss: 1.001 - ETA: 4s - loss: 1.000 - ETA: 4s - loss: 1.000 - ETA: 4s - loss: 1.000 - ETA: 3s - loss: 1.000 - ETA: 3s - loss: 1.000 - ETA: 2s - loss: 1.000 - ETA: 2s - loss: 1.000 - ETA: 2s - loss: 1.000 - ETA: 1s - loss: 1.000 - ETA: 1s - loss: 1.000 - ETA: 0s - loss: 1.000 - ETA: 0s - loss: 1.000 - 7s 418ms/step - loss: 1.0003\n",
      "Epoch 8/100\n",
      "16/16 [==============================] - ETA: 6s - loss: 1.000 - ETA: 5s - loss: 0.999 - ETA: 5s - loss: 1.000 - ETA: 4s - loss: 1.000 - ETA: 4s - loss: 1.000 - ETA: 4s - loss: 1.000 - ETA: 3s - loss: 0.999 - ETA: 3s - loss: 1.000 - ETA: 2s - loss: 1.000 - ETA: 2s - loss: 1.000 - ETA: 2s - loss: 1.000 - ETA: 1s - loss: 1.000 - ETA: 1s - loss: 1.000 - ETA: 0s - loss: 1.000 - ETA: 0s - loss: 1.000 - 7s 428ms/step - loss: 1.0000\n",
      "Epoch 9/100\n"
     ]
    },
    {
     "name": "stdout",
     "output_type": "stream",
     "text": [
      "16/16 [==============================] - ETA: 6s - loss: 1.000 - ETA: 6s - loss: 1.000 - ETA: 5s - loss: 1.000 - ETA: 5s - loss: 1.000 - ETA: 4s - loss: 1.000 - ETA: 4s - loss: 1.000 - ETA: 3s - loss: 1.000 - ETA: 3s - loss: 1.000 - ETA: 3s - loss: 1.000 - ETA: 2s - loss: 1.000 - ETA: 2s - loss: 1.000 - ETA: 1s - loss: 1.000 - ETA: 1s - loss: 1.000 - ETA: 0s - loss: 1.000 - ETA: 0s - loss: 1.000 - 7s 455ms/step - loss: 1.0001\n",
      "Epoch 10/100\n",
      "16/16 [==============================] - ETA: 6s - loss: 0.999 - ETA: 6s - loss: 0.999 - ETA: 5s - loss: 0.999 - ETA: 5s - loss: 0.999 - ETA: 4s - loss: 1.000 - ETA: 4s - loss: 1.000 - ETA: 3s - loss: 1.000 - ETA: 3s - loss: 1.000 - ETA: 3s - loss: 0.999 - ETA: 2s - loss: 1.000 - ETA: 2s - loss: 1.000 - ETA: 1s - loss: 1.000 - ETA: 1s - loss: 0.999 - ETA: 0s - loss: 1.000 - ETA: 0s - loss: 0.999 - 7s 437ms/step - loss: 1.0000\n",
      "Epoch 11/100\n",
      "16/16 [==============================] - ETA: 6s - loss: 0.999 - ETA: 6s - loss: 0.999 - ETA: 5s - loss: 0.999 - ETA: 5s - loss: 0.999 - ETA: 4s - loss: 0.999 - ETA: 4s - loss: 0.999 - ETA: 3s - loss: 0.999 - ETA: 3s - loss: 0.999 - ETA: 3s - loss: 0.999 - ETA: 2s - loss: 0.999 - ETA: 2s - loss: 0.999 - ETA: 1s - loss: 0.999 - ETA: 1s - loss: 0.999 - ETA: 0s - loss: 0.999 - ETA: 0s - loss: 0.999 - 7s 436ms/step - loss: 0.9998\n",
      "Epoch 12/100\n",
      "16/16 [==============================] - ETA: 6s - loss: 0.999 - ETA: 6s - loss: 0.999 - ETA: 5s - loss: 0.999 - ETA: 5s - loss: 0.999 - ETA: 4s - loss: 0.999 - ETA: 4s - loss: 1.000 - ETA: 3s - loss: 0.999 - ETA: 3s - loss: 0.999 - ETA: 3s - loss: 1.000 - ETA: 2s - loss: 1.000 - ETA: 2s - loss: 1.000 - ETA: 1s - loss: 0.999 - ETA: 1s - loss: 0.999 - ETA: 0s - loss: 0.999 - ETA: 0s - loss: 0.999 - 7s 434ms/step - loss: 1.0001\n",
      "Epoch 13/100\n",
      "16/16 [==============================] - ETA: 6s - loss: 0.998 - ETA: 6s - loss: 0.998 - ETA: 5s - loss: 0.999 - ETA: 5s - loss: 0.999 - ETA: 4s - loss: 0.999 - ETA: 4s - loss: 0.999 - ETA: 3s - loss: 0.999 - ETA: 3s - loss: 0.999 - ETA: 3s - loss: 0.999 - ETA: 2s - loss: 0.999 - ETA: 2s - loss: 0.999 - ETA: 1s - loss: 0.999 - ETA: 1s - loss: 0.999 - ETA: 0s - loss: 0.999 - ETA: 0s - loss: 1.000 - 7s 435ms/step - loss: 0.9999\n",
      "Epoch 14/100\n",
      "16/16 [==============================] - ETA: 6s - loss: 0.999 - ETA: 5s - loss: 0.998 - ETA: 5s - loss: 0.998 - ETA: 5s - loss: 0.998 - ETA: 4s - loss: 0.998 - ETA: 4s - loss: 0.999 - ETA: 3s - loss: 0.999 - ETA: 3s - loss: 0.999 - ETA: 2s - loss: 0.998 - ETA: 2s - loss: 0.999 - ETA: 2s - loss: 0.998 - ETA: 1s - loss: 0.998 - ETA: 1s - loss: 0.999 - ETA: 0s - loss: 0.999 - ETA: 0s - loss: 0.999 - 7s 430ms/step - loss: 0.9989\n",
      "Epoch 15/100\n",
      "16/16 [==============================] - ETA: 6s - loss: 0.998 - ETA: 5s - loss: 0.997 - ETA: 5s - loss: 0.996 - ETA: 5s - loss: 0.997 - ETA: 4s - loss: 0.997 - ETA: 4s - loss: 0.997 - ETA: 3s - loss: 0.995 - ETA: 3s - loss: 0.998 - ETA: 3s - loss: 0.998 - ETA: 2s - loss: 0.998 - ETA: 2s - loss: 0.999 - ETA: 1s - loss: 0.998 - ETA: 1s - loss: 0.998 - ETA: 0s - loss: 0.998 - ETA: 0s - loss: 0.997 - 7s 434ms/step - loss: 0.9958\n",
      "Epoch 16/100\n",
      "16/16 [==============================] - ETA: 6s - loss: 0.995 - ETA: 5s - loss: 0.996 - ETA: 5s - loss: 0.986 - ETA: 5s - loss: 0.987 - ETA: 4s - loss: 1.014 - ETA: 4s - loss: 1.011 - ETA: 3s - loss: 1.010 - ETA: 3s - loss: 1.007 - ETA: 3s - loss: 1.006 - ETA: 2s - loss: 1.005 - ETA: 2s - loss: 1.004 - ETA: 1s - loss: 1.006 - ETA: 1s - loss: 1.005 - ETA: 0s - loss: 1.006 - ETA: 0s - loss: 1.006 - 7s 429ms/step - loss: 1.0056\n",
      "Epoch 17/100\n",
      "16/16 [==============================] - ETA: 6s - loss: 0.989 - ETA: 6s - loss: 0.994 - ETA: 5s - loss: 0.995 - ETA: 5s - loss: 0.993 - ETA: 4s - loss: 0.994 - ETA: 4s - loss: 0.994 - ETA: 3s - loss: 0.995 - ETA: 3s - loss: 0.995 - ETA: 3s - loss: 0.995 - ETA: 2s - loss: 0.995 - ETA: 2s - loss: 0.995 - ETA: 1s - loss: 0.995 - ETA: 1s - loss: 0.994 - ETA: 0s - loss: 0.994 - ETA: 0s - loss: 0.994 - 7s 435ms/step - loss: 0.9960\n",
      "Epoch 18/100\n",
      "16/16 [==============================] - ETA: 6s - loss: 0.995 - ETA: 5s - loss: 1.007 - ETA: 5s - loss: 1.006 - ETA: 5s - loss: 1.004 - ETA: 4s - loss: 1.003 - ETA: 4s - loss: 1.000 - ETA: 3s - loss: 0.999 - ETA: 3s - loss: 1.002 - ETA: 2s - loss: 1.004 - ETA: 2s - loss: 1.002 - ETA: 2s - loss: 1.002 - ETA: 1s - loss: 1.000 - ETA: 1s - loss: 1.000 - ETA: 0s - loss: 1.000 - ETA: 0s - loss: 1.000 - 7s 426ms/step - loss: 0.9998\n",
      "Epoch 19/100\n",
      "16/16 [==============================] - ETA: 6s - loss: 0.999 - ETA: 5s - loss: 0.999 - ETA: 5s - loss: 1.000 - ETA: 5s - loss: 0.996 - ETA: 4s - loss: 0.996 - ETA: 4s - loss: 1.001 - ETA: 3s - loss: 1.002 - ETA: 3s - loss: 1.001 - ETA: 3s - loss: 1.000 - ETA: 2s - loss: 1.000 - ETA: 2s - loss: 0.998 - ETA: 1s - loss: 0.999 - ETA: 1s - loss: 1.000 - ETA: 0s - loss: 0.998 - ETA: 0s - loss: 0.999 - 7s 431ms/step - loss: 0.9982\n",
      "Epoch 20/100\n",
      "16/16 [==============================] - ETA: 6s - loss: 0.974 - ETA: 5s - loss: 0.989 - ETA: 5s - loss: 0.995 - ETA: 5s - loss: 0.989 - ETA: 4s - loss: 0.993 - ETA: 4s - loss: 0.989 - ETA: 3s - loss: 0.998 - ETA: 3s - loss: 0.997 - ETA: 3s - loss: 1.004 - ETA: 2s - loss: 1.007 - ETA: 2s - loss: 1.005 - ETA: 1s - loss: 1.004 - ETA: 1s - loss: 1.001 - ETA: 0s - loss: 1.000 - ETA: 0s - loss: 0.998 - 7s 431ms/step - loss: 0.9984\n",
      "Epoch 21/100\n",
      "16/16 [==============================] - ETA: 7s - loss: 1.041 - ETA: 6s - loss: 1.019 - ETA: 5s - loss: 1.015 - ETA: 5s - loss: 1.011 - ETA: 4s - loss: 1.002 - ETA: 4s - loss: 1.006 - ETA: 3s - loss: 1.004 - ETA: 3s - loss: 1.003 - ETA: 3s - loss: 1.006 - ETA: 2s - loss: 1.005 - ETA: 2s - loss: 1.005 - ETA: 1s - loss: 1.002 - ETA: 1s - loss: 1.002 - ETA: 0s - loss: 1.001 - ETA: 0s - loss: 1.000 - 7s 430ms/step - loss: 1.0005\n",
      "Epoch 22/100\n",
      "16/16 [==============================] - ETA: 6s - loss: 1.015 - ETA: 5s - loss: 0.995 - ETA: 5s - loss: 0.997 - ETA: 5s - loss: 0.996 - ETA: 4s - loss: 0.989 - ETA: 4s - loss: 0.991 - ETA: 3s - loss: 0.993 - ETA: 3s - loss: 0.989 - ETA: 2s - loss: 0.989 - ETA: 2s - loss: 0.991 - ETA: 2s - loss: 0.987 - ETA: 1s - loss: 0.980 - ETA: 1s - loss: 0.982 - ETA: 0s - loss: 0.975 - ETA: 0s - loss: 0.977 - 7s 430ms/step - loss: 0.9642\n",
      "Epoch 23/100\n",
      "16/16 [==============================] - ETA: 6s - loss: 0.996 - ETA: 5s - loss: 0.994 - ETA: 5s - loss: 0.995 - ETA: 5s - loss: 0.996 - ETA: 4s - loss: 1.046 - ETA: 4s - loss: 1.041 - ETA: 3s - loss: 1.039 - ETA: 3s - loss: 1.034 - ETA: 3s - loss: 1.036 - ETA: 2s - loss: 1.034 - ETA: 2s - loss: 1.032 - ETA: 1s - loss: 1.029 - ETA: 1s - loss: 1.026 - ETA: 0s - loss: 1.023 - ETA: 0s - loss: 1.024 - 7s 430ms/step - loss: 1.0231\n",
      "Epoch 24/100\n",
      "16/16 [==============================] - ETA: 6s - loss: 1.044 - ETA: 5s - loss: 1.022 - ETA: 5s - loss: 1.011 - ETA: 5s - loss: 1.001 - ETA: 4s - loss: 1.000 - ETA: 4s - loss: 0.995 - ETA: 3s - loss: 0.996 - ETA: 3s - loss: 0.996 - ETA: 2s - loss: 0.993 - ETA: 2s - loss: 0.990 - ETA: 2s - loss: 0.988 - ETA: 1s - loss: 0.993 - ETA: 1s - loss: 0.993 - ETA: 0s - loss: 0.994 - ETA: 0s - loss: 0.994 - 7s 425ms/step - loss: 0.9950\n",
      "Epoch 25/100\n",
      "16/16 [==============================] - ETA: 7s - loss: 1.041 - ETA: 6s - loss: 0.995 - ETA: 5s - loss: 0.994 - ETA: 5s - loss: 1.010 - ETA: 4s - loss: 1.008 - ETA: 4s - loss: 1.009 - ETA: 3s - loss: 1.007 - ETA: 3s - loss: 1.001 - ETA: 3s - loss: 1.001 - ETA: 2s - loss: 0.998 - ETA: 2s - loss: 1.003 - ETA: 1s - loss: 1.003 - ETA: 1s - loss: 1.003 - ETA: 0s - loss: 1.003 - ETA: 0s - loss: 1.002 - 7s 433ms/step - loss: 1.0000\n",
      "Epoch 26/100\n",
      "16/16 [==============================] - ETA: 6s - loss: 1.000 - ETA: 5s - loss: 1.000 - ETA: 5s - loss: 1.017 - ETA: 5s - loss: 1.012 - ETA: 4s - loss: 1.001 - ETA: 4s - loss: 1.007 - ETA: 3s - loss: 1.012 - ETA: 3s - loss: 1.005 - ETA: 3s - loss: 1.009 - ETA: 2s - loss: 1.012 - ETA: 2s - loss: 1.011 - ETA: 1s - loss: 1.013 - ETA: 1s - loss: 1.012 - ETA: 0s - loss: 1.013 - ETA: 0s - loss: 1.012 - 7s 432ms/step - loss: 1.0116\n",
      "Epoch 27/100\n"
     ]
    },
    {
     "name": "stdout",
     "output_type": "stream",
     "text": [
      "16/16 [==============================] - ETA: 6s - loss: 0.997 - ETA: 5s - loss: 0.995 - ETA: 5s - loss: 1.003 - ETA: 5s - loss: 1.002 - ETA: 4s - loss: 1.005 - ETA: 4s - loss: 1.004 - ETA: 3s - loss: 1.003 - ETA: 3s - loss: 1.003 - ETA: 3s - loss: 1.001 - ETA: 2s - loss: 1.002 - ETA: 2s - loss: 1.000 - ETA: 1s - loss: 0.999 - ETA: 1s - loss: 0.999 - ETA: 0s - loss: 0.998 - ETA: 0s - loss: 0.999 - 7s 444ms/step - loss: 0.9993\n",
      "Epoch 28/100\n",
      "16/16 [==============================] - ETA: 6s - loss: 1.001 - ETA: 6s - loss: 1.000 - ETA: 6s - loss: 1.000 - ETA: 5s - loss: 0.997 - ETA: 5s - loss: 0.997 - ETA: 4s - loss: 0.998 - ETA: 4s - loss: 1.000 - ETA: 3s - loss: 1.002 - ETA: 3s - loss: 1.001 - ETA: 2s - loss: 1.001 - ETA: 2s - loss: 1.000 - ETA: 1s - loss: 1.000 - ETA: 1s - loss: 1.000 - ETA: 0s - loss: 1.001 - ETA: 0s - loss: 1.001 - 7s 455ms/step - loss: 1.0009\n",
      "Epoch 29/100\n",
      "16/16 [==============================] - ETA: 7s - loss: 0.999 - ETA: 6s - loss: 0.999 - ETA: 6s - loss: 1.003 - ETA: 5s - loss: 1.005 - ETA: 5s - loss: 1.002 - ETA: 4s - loss: 1.000 - ETA: 4s - loss: 0.998 - ETA: 3s - loss: 0.998 - ETA: 3s - loss: 0.999 - ETA: 2s - loss: 0.998 - ETA: 2s - loss: 0.999 - ETA: 1s - loss: 0.999 - ETA: 1s - loss: 0.998 - ETA: 0s - loss: 0.998 - ETA: 0s - loss: 0.998 - 7s 457ms/step - loss: 0.9989\n",
      "Epoch 30/100\n",
      "16/16 [==============================] - ETA: 6s - loss: 0.997 - ETA: 6s - loss: 0.992 - ETA: 5s - loss: 0.995 - ETA: 5s - loss: 0.996 - ETA: 4s - loss: 0.997 - ETA: 4s - loss: 0.999 - ETA: 4s - loss: 0.998 - ETA: 3s - loss: 0.998 - ETA: 3s - loss: 0.998 - ETA: 2s - loss: 0.998 - ETA: 2s - loss: 0.998 - ETA: 1s - loss: 0.999 - ETA: 1s - loss: 1.000 - ETA: 0s - loss: 1.001 - ETA: 0s - loss: 1.000 - 7s 445ms/step - loss: 1.0005\n",
      "Epoch 31/100\n",
      "16/16 [==============================] - ETA: 6s - loss: 0.987 - ETA: 5s - loss: 0.993 - ETA: 5s - loss: 0.995 - ETA: 5s - loss: 0.996 - ETA: 4s - loss: 0.997 - ETA: 4s - loss: 0.997 - ETA: 3s - loss: 0.998 - ETA: 3s - loss: 0.998 - ETA: 3s - loss: 0.997 - ETA: 2s - loss: 0.997 - ETA: 2s - loss: 0.997 - ETA: 1s - loss: 0.997 - ETA: 1s - loss: 0.998 - ETA: 0s - loss: 0.998 - ETA: 0s - loss: 0.998 - 7s 437ms/step - loss: 0.9984\n",
      "Epoch 32/100\n",
      "16/16 [==============================] - ETA: 6s - loss: 0.999 - ETA: 6s - loss: 1.000 - ETA: 5s - loss: 0.995 - ETA: 5s - loss: 0.993 - ETA: 4s - loss: 0.991 - ETA: 4s - loss: 0.992 - ETA: 4s - loss: 0.991 - ETA: 3s - loss: 0.990 - ETA: 3s - loss: 0.993 - ETA: 2s - loss: 0.994 - ETA: 2s - loss: 0.996 - ETA: 1s - loss: 0.995 - ETA: 1s - loss: 0.995 - ETA: 0s - loss: 0.994 - ETA: 0s - loss: 0.993 - 7s 456ms/step - loss: 0.9940\n",
      "Epoch 33/100\n",
      "16/16 [==============================] - ETA: 6s - loss: 1.021 - ETA: 6s - loss: 1.023 - ETA: 5s - loss: 1.023 - ETA: 5s - loss: 1.017 - ETA: 5s - loss: 1.010 - ETA: 4s - loss: 1.008 - ETA: 4s - loss: 1.007 - ETA: 3s - loss: 1.003 - ETA: 3s - loss: 1.003 - ETA: 2s - loss: 1.002 - ETA: 2s - loss: 1.004 - ETA: 1s - loss: 1.005 - ETA: 1s - loss: 1.006 - ETA: 0s - loss: 1.007 - ETA: 0s - loss: 1.008 - 7s 456ms/step - loss: 1.0092\n",
      "Epoch 34/100\n",
      "16/16 [==============================] - ETA: 6s - loss: 1.000 - ETA: 6s - loss: 0.991 - ETA: 5s - loss: 0.994 - ETA: 5s - loss: 0.992 - ETA: 5s - loss: 0.993 - ETA: 4s - loss: 0.994 - ETA: 4s - loss: 0.995 - ETA: 3s - loss: 0.995 - ETA: 3s - loss: 0.996 - ETA: 2s - loss: 0.995 - ETA: 2s - loss: 0.995 - ETA: 1s - loss: 0.996 - ETA: 1s - loss: 0.996 - ETA: 0s - loss: 0.995 - ETA: 0s - loss: 0.996 - 8s 471ms/step - loss: 0.9971\n",
      "Epoch 35/100\n",
      "16/16 [==============================] - ETA: 7s - loss: 1.013 - ETA: 7s - loss: 1.000 - ETA: 6s - loss: 1.000 - ETA: 5s - loss: 1.003 - ETA: 5s - loss: 0.999 - ETA: 5s - loss: 0.997 - ETA: 4s - loss: 0.995 - ETA: 4s - loss: 0.996 - ETA: 3s - loss: 0.995 - ETA: 3s - loss: 0.997 - ETA: 2s - loss: 0.996 - ETA: 2s - loss: 0.995 - ETA: 1s - loss: 0.997 - ETA: 1s - loss: 0.996 - ETA: 0s - loss: 0.997 - 8s 519ms/step - loss: 0.9975\n",
      "Epoch 36/100\n",
      "16/16 [==============================] - ETA: 7s - loss: 1.000 - ETA: 6s - loss: 0.991 - ETA: 6s - loss: 0.999 - ETA: 5s - loss: 1.000 - ETA: 5s - loss: 1.000 - ETA: 4s - loss: 0.998 - ETA: 4s - loss: 0.998 - ETA: 3s - loss: 0.996 - ETA: 3s - loss: 0.994 - ETA: 2s - loss: 0.995 - ETA: 2s - loss: 0.995 - ETA: 1s - loss: 0.994 - ETA: 1s - loss: 0.994 - ETA: 0s - loss: 0.996 - ETA: 0s - loss: 0.998 - 7s 447ms/step - loss: 0.9969\n",
      "Epoch 37/100\n",
      "16/16 [==============================] - ETA: 6s - loss: 1.000 - ETA: 6s - loss: 1.012 - ETA: 5s - loss: 1.017 - ETA: 5s - loss: 1.013 - ETA: 4s - loss: 1.015 - ETA: 4s - loss: 1.008 - ETA: 3s - loss: 1.004 - ETA: 3s - loss: 1.003 - ETA: 3s - loss: 1.000 - ETA: 2s - loss: 1.002 - ETA: 2s - loss: 1.004 - ETA: 1s - loss: 1.004 - ETA: 1s - loss: 1.003 - ETA: 0s - loss: 1.001 - ETA: 0s - loss: 1.001 - 7s 438ms/step - loss: 0.9999\n",
      "Epoch 38/100\n",
      "16/16 [==============================] - ETA: 6s - loss: 0.979 - ETA: 6s - loss: 1.002 - ETA: 5s - loss: 0.993 - ETA: 5s - loss: 0.995 - ETA: 4s - loss: 0.991 - ETA: 4s - loss: 0.988 - ETA: 3s - loss: 0.985 - ETA: 3s - loss: 0.983 - ETA: 3s - loss: 0.984 - ETA: 2s - loss: 0.986 - ETA: 2s - loss: 0.984 - ETA: 1s - loss: 0.985 - ETA: 1s - loss: 0.983 - ETA: 0s - loss: 0.984 - ETA: 0s - loss: 0.981 - 7s 439ms/step - loss: 0.9829\n",
      "Epoch 39/100\n",
      "16/16 [==============================] - ETA: 6s - loss: 1.084 - ETA: 6s - loss: 1.042 - ETA: 5s - loss: 1.028 - ETA: 5s - loss: 1.021 - ETA: 4s - loss: 1.000 - ETA: 4s - loss: 1.000 - ETA: 3s - loss: 1.000 - ETA: 3s - loss: 1.000 - ETA: 3s - loss: 1.000 - ETA: 2s - loss: 1.000 - ETA: 2s - loss: 1.000 - ETA: 1s - loss: 1.000 - ETA: 1s - loss: 1.010 - ETA: 0s - loss: 1.009 - ETA: 0s - loss: 1.007 - 7s 446ms/step - loss: 1.0002\n",
      "Epoch 40/100\n",
      "16/16 [==============================] - ETA: 6s - loss: 1.137 - ETA: 6s - loss: 1.067 - ETA: 5s - loss: 1.079 - ETA: 5s - loss: 1.059 - ETA: 4s - loss: 1.028 - ETA: 4s - loss: 1.036 - ETA: 4s - loss: 1.018 - ETA: 3s - loss: 1.005 - ETA: 3s - loss: 1.005 - ETA: 2s - loss: 0.996 - ETA: 2s - loss: 0.987 - ETA: 1s - loss: 0.995 - ETA: 1s - loss: 1.003 - ETA: 0s - loss: 0.996 - ETA: 0s - loss: 1.003 - 7s 441ms/step - loss: 1.0032\n",
      "Epoch 41/100\n",
      "16/16 [==============================] - ETA: 7s - loss: 0.998 - ETA: 6s - loss: 0.933 - ETA: 5s - loss: 0.911 - ETA: 5s - loss: 0.931 - ETA: 4s - loss: 0.922 - ETA: 4s - loss: 0.935 - ETA: 3s - loss: 0.973 - ETA: 3s - loss: 0.975 - ETA: 3s - loss: 0.955 - ETA: 2s - loss: 0.960 - ETA: 2s - loss: 0.956 - ETA: 1s - loss: 0.949 - ETA: 1s - loss: 0.953 - ETA: 0s - loss: 0.947 - ETA: 0s - loss: 0.950 - 7s 440ms/step - loss: 0.9533\n",
      "Epoch 42/100\n",
      "16/16 [==============================] - ETA: 6s - loss: 1.011 - ETA: 6s - loss: 1.005 - ETA: 5s - loss: 1.001 - ETA: 5s - loss: 1.010 - ETA: 4s - loss: 0.974 - ETA: 4s - loss: 0.926 - ETA: 3s - loss: 0.885 - ETA: 3s - loss: 0.881 - ETA: 3s - loss: 0.894 - ETA: 2s - loss: 0.915 - ETA: 2s - loss: 0.917 - ETA: 1s - loss: 0.923 - ETA: 1s - loss: 0.923 - ETA: 0s - loss: 0.895 - ETA: 0s - loss: 0.898 - 7s 436ms/step - loss: 0.9049\n",
      "Epoch 43/100\n",
      "16/16 [==============================] - ETA: 6s - loss: 1.475 - ETA: 5s - loss: 1.322 - ETA: 5s - loss: 1.262 - ETA: 5s - loss: 1.196 - ETA: 4s - loss: 1.156 - ETA: 4s - loss: 1.118 - ETA: 3s - loss: 1.101 - ETA: 3s - loss: 1.072 - ETA: 3s - loss: 1.050 - ETA: 2s - loss: 1.045 - ETA: 2s - loss: 1.041 - ETA: 1s - loss: 1.032 - ETA: 1s - loss: 1.035 - ETA: 0s - loss: 1.019 - ETA: 0s - loss: 1.018 - 7s 435ms/step - loss: 1.0169\n",
      "Epoch 44/100\n",
      "16/16 [==============================] - ETA: 6s - loss: 1.000 - ETA: 6s - loss: 1.131 - ETA: 6s - loss: 1.088 - ETA: 5s - loss: 1.066 - ETA: 4s - loss: 1.058 - ETA: 4s - loss: 1.087 - ETA: 3s - loss: 1.073 - ETA: 3s - loss: 1.064 - ETA: 3s - loss: 1.039 - ETA: 2s - loss: 1.052 - ETA: 2s - loss: 1.047 - ETA: 1s - loss: 1.038 - ETA: 1s - loss: 1.029 - ETA: 0s - loss: 1.036 - ETA: 0s - loss: 1.034 - 7s 441ms/step - loss: 1.0391\n",
      "Epoch 45/100\n"
     ]
    },
    {
     "name": "stdout",
     "output_type": "stream",
     "text": [
      "16/16 [==============================] - ETA: 6s - loss: 0.985 - ETA: 6s - loss: 0.992 - ETA: 5s - loss: 0.972 - ETA: 5s - loss: 0.977 - ETA: 4s - loss: 0.973 - ETA: 4s - loss: 0.990 - ETA: 3s - loss: 0.991 - ETA: 3s - loss: 0.983 - ETA: 3s - loss: 0.993 - ETA: 2s - loss: 0.986 - ETA: 2s - loss: 0.993 - ETA: 1s - loss: 0.999 - ETA: 1s - loss: 1.000 - ETA: 0s - loss: 1.000 - ETA: 0s - loss: 0.999 - 7s 438ms/step - loss: 1.0032\n",
      "Epoch 46/100\n",
      "16/16 [==============================] - ETA: 6s - loss: 1.061 - ETA: 5s - loss: 1.058 - ETA: 5s - loss: 1.038 - ETA: 5s - loss: 1.018 - ETA: 4s - loss: 1.015 - ETA: 4s - loss: 1.007 - ETA: 3s - loss: 1.000 - ETA: 3s - loss: 1.000 - ETA: 2s - loss: 1.000 - ETA: 2s - loss: 0.997 - ETA: 2s - loss: 0.993 - ETA: 1s - loss: 0.994 - ETA: 1s - loss: 0.991 - ETA: 0s - loss: 0.992 - ETA: 0s - loss: 0.992 - 7s 426ms/step - loss: 0.9905\n",
      "Epoch 47/100\n",
      "16/16 [==============================] - ETA: 6s - loss: 0.955 - ETA: 5s - loss: 0.978 - ETA: 5s - loss: 0.984 - ETA: 5s - loss: 1.001 - ETA: 4s - loss: 0.990 - ETA: 4s - loss: 0.992 - ETA: 3s - loss: 0.993 - ETA: 3s - loss: 0.994 - ETA: 3s - loss: 0.994 - ETA: 2s - loss: 0.988 - ETA: 2s - loss: 0.994 - ETA: 1s - loss: 0.995 - ETA: 1s - loss: 0.995 - ETA: 0s - loss: 0.991 - ETA: 0s - loss: 0.992 - 7s 444ms/step - loss: 0.9929\n",
      "Epoch 48/100\n",
      "16/16 [==============================] - ETA: 8s - loss: 1.000 - ETA: 6s - loss: 0.964 - ETA: 6s - loss: 0.950 - ETA: 5s - loss: 0.961 - ETA: 5s - loss: 0.976 - ETA: 4s - loss: 0.966 - ETA: 4s - loss: 0.971 - ETA: 3s - loss: 0.975 - ETA: 3s - loss: 0.967 - ETA: 2s - loss: 0.969 - ETA: 2s - loss: 0.961 - ETA: 1s - loss: 0.955 - ETA: 1s - loss: 0.948 - ETA: 0s - loss: 0.965 - ETA: 0s - loss: 0.960 - 7s 463ms/step - loss: 0.9639\n",
      "Epoch 49/100\n",
      "16/16 [==============================] - ETA: 6s - loss: 0.769 - ETA: 5s - loss: 0.880 - ETA: 5s - loss: 0.920 - ETA: 5s - loss: 0.940 - ETA: 4s - loss: 0.886 - ETA: 4s - loss: 0.838 - ETA: 3s - loss: 0.797 - ETA: 3s - loss: 0.822 - ETA: 3s - loss: 0.842 - ETA: 2s - loss: 0.858 - ETA: 2s - loss: 0.871 - ETA: 1s - loss: 0.888 - ETA: 1s - loss: 0.891 - ETA: 0s - loss: 0.929 - ETA: 0s - loss: 0.956 - 7s 454ms/step - loss: 0.9739\n",
      "Epoch 50/100\n",
      "16/16 [==============================] - ETA: 6s - loss: 1.090 - ETA: 6s - loss: 1.027 - ETA: 5s - loss: 1.029 - ETA: 5s - loss: 1.020 - ETA: 5s - loss: 1.025 - ETA: 4s - loss: 1.015 - ETA: 4s - loss: 1.007 - ETA: 3s - loss: 1.010 - ETA: 3s - loss: 1.006 - ETA: 2s - loss: 1.002 - ETA: 2s - loss: 0.999 - ETA: 1s - loss: 0.999 - ETA: 1s - loss: 0.998 - ETA: 0s - loss: 1.000 - ETA: 0s - loss: 1.001 - 7s 455ms/step - loss: 1.0008\n",
      "Epoch 51/100\n",
      "16/16 [==============================] - ETA: 7s - loss: 0.958 - ETA: 6s - loss: 0.979 - ETA: 5s - loss: 1.002 - ETA: 5s - loss: 1.002 - ETA: 4s - loss: 1.000 - ETA: 4s - loss: 1.003 - ETA: 3s - loss: 1.003 - ETA: 3s - loss: 1.002 - ETA: 3s - loss: 1.002 - ETA: 2s - loss: 1.006 - ETA: 2s - loss: 1.005 - ETA: 1s - loss: 1.002 - ETA: 1s - loss: 0.998 - ETA: 0s - loss: 0.995 - ETA: 0s - loss: 0.993 - 7s 433ms/step - loss: 0.9933\n",
      "Epoch 52/100\n",
      "16/16 [==============================] - ETA: 6s - loss: 0.950 - ETA: 6s - loss: 0.949 - ETA: 5s - loss: 0.966 - ETA: 5s - loss: 0.962 - ETA: 4s - loss: 0.979 - ETA: 4s - loss: 0.972 - ETA: 4s - loss: 0.976 - ETA: 3s - loss: 0.970 - ETA: 3s - loss: 0.974 - ETA: 2s - loss: 0.968 - ETA: 2s - loss: 0.966 - ETA: 1s - loss: 0.967 - ETA: 1s - loss: 0.970 - ETA: 0s - loss: 0.966 - ETA: 0s - loss: 0.975 - 7s 438ms/step - loss: 0.9741\n",
      "Epoch 53/100\n",
      "16/16 [==============================] - ETA: 6s - loss: 0.999 - ETA: 6s - loss: 0.999 - ETA: 5s - loss: 1.029 - ETA: 5s - loss: 1.051 - ETA: 4s - loss: 1.016 - ETA: 4s - loss: 0.987 - ETA: 3s - loss: 0.987 - ETA: 3s - loss: 1.000 - ETA: 3s - loss: 1.000 - ETA: 2s - loss: 1.000 - ETA: 2s - loss: 1.000 - ETA: 1s - loss: 1.009 - ETA: 1s - loss: 0.998 - ETA: 0s - loss: 0.998 - ETA: 0s - loss: 1.009 - 7s 432ms/step - loss: 1.0097\n",
      "Epoch 54/100\n",
      "16/16 [==============================] - ETA: 6s - loss: 0.998 - ETA: 6s - loss: 0.995 - ETA: 5s - loss: 0.951 - ETA: 5s - loss: 0.989 - ETA: 4s - loss: 0.989 - ETA: 4s - loss: 0.990 - ETA: 3s - loss: 0.978 - ETA: 3s - loss: 0.982 - ETA: 3s - loss: 0.984 - ETA: 2s - loss: 1.000 - ETA: 2s - loss: 1.000 - ETA: 1s - loss: 1.000 - ETA: 1s - loss: 1.011 - ETA: 0s - loss: 1.020 - ETA: 0s - loss: 1.020 - 7s 450ms/step - loss: 1.0194\n",
      "Epoch 55/100\n",
      "16/16 [==============================] - ETA: 6s - loss: 0.890 - ETA: 6s - loss: 0.931 - ETA: 5s - loss: 0.954 - ETA: 5s - loss: 0.966 - ETA: 5s - loss: 0.957 - ETA: 4s - loss: 0.949 - ETA: 4s - loss: 0.957 - ETA: 3s - loss: 0.975 - ETA: 3s - loss: 0.985 - ETA: 2s - loss: 0.986 - ETA: 2s - loss: 0.976 - ETA: 1s - loss: 0.976 - ETA: 1s - loss: 0.971 - ETA: 0s - loss: 0.966 - ETA: 0s - loss: 0.968 - 7s 452ms/step - loss: 0.9649\n",
      "Epoch 56/100\n",
      "16/16 [==============================] - ETA: 6s - loss: 1.000 - ETA: 6s - loss: 1.063 - ETA: 5s - loss: 1.045 - ETA: 5s - loss: 1.035 - ETA: 4s - loss: 1.024 - ETA: 4s - loss: 1.020 - ETA: 3s - loss: 1.037 - ETA: 3s - loss: 1.033 - ETA: 3s - loss: 1.043 - ETA: 2s - loss: 1.026 - ETA: 2s - loss: 1.024 - ETA: 1s - loss: 1.022 - ETA: 1s - loss: 1.021 - ETA: 0s - loss: 1.014 - ETA: 0s - loss: 1.007 - 7s 455ms/step - loss: 1.0056\n",
      "Epoch 57/100\n",
      "16/16 [==============================] - ETA: 6s - loss: 0.995 - ETA: 6s - loss: 0.991 - ETA: 5s - loss: 0.994 - ETA: 5s - loss: 0.995 - ETA: 4s - loss: 1.018 - ETA: 4s - loss: 0.999 - ETA: 4s - loss: 1.013 - ETA: 3s - loss: 1.023 - ETA: 3s - loss: 1.021 - ETA: 2s - loss: 1.028 - ETA: 2s - loss: 1.016 - ETA: 1s - loss: 1.015 - ETA: 1s - loss: 1.014 - ETA: 0s - loss: 1.007 - ETA: 0s - loss: 1.015 - 7s 445ms/step - loss: 1.0142\n",
      "Epoch 58/100\n",
      "16/16 [==============================] - ETA: 6s - loss: 1.101 - ETA: 6s - loss: 1.049 - ETA: 5s - loss: 1.057 - ETA: 5s - loss: 1.024 - ETA: 4s - loss: 1.019 - ETA: 4s - loss: 1.004 - ETA: 3s - loss: 1.014 - ETA: 3s - loss: 1.012 - ETA: 3s - loss: 1.011 - ETA: 2s - loss: 1.010 - ETA: 2s - loss: 1.001 - ETA: 1s - loss: 1.001 - ETA: 1s - loss: 0.996 - ETA: 0s - loss: 0.996 - ETA: 0s - loss: 0.991 - 7s 435ms/step - loss: 0.9862\n",
      "Epoch 59/100\n",
      "16/16 [==============================] - ETA: 6s - loss: 0.918 - ETA: 5s - loss: 0.961 - ETA: 5s - loss: 0.944 - ETA: 5s - loss: 0.954 - ETA: 4s - loss: 0.963 - ETA: 4s - loss: 0.953 - ETA: 3s - loss: 0.945 - ETA: 3s - loss: 0.969 - ETA: 3s - loss: 0.972 - ETA: 2s - loss: 0.965 - ETA: 2s - loss: 0.961 - ETA: 1s - loss: 0.974 - ETA: 1s - loss: 0.975 - ETA: 0s - loss: 0.966 - ETA: 0s - loss: 0.963 - 7s 432ms/step - loss: 0.9651\n",
      "Epoch 60/100\n",
      "16/16 [==============================] - ETA: 6s - loss: 1.118 - ETA: 6s - loss: 1.049 - ETA: 5s - loss: 1.000 - ETA: 5s - loss: 1.042 - ETA: 5s - loss: 1.008 - ETA: 4s - loss: 1.024 - ETA: 4s - loss: 1.020 - ETA: 3s - loss: 1.017 - ETA: 3s - loss: 1.003 - ETA: 2s - loss: 0.993 - ETA: 2s - loss: 0.978 - ETA: 1s - loss: 0.980 - ETA: 1s - loss: 0.982 - ETA: 0s - loss: 0.974 - ETA: 0s - loss: 0.976 - 7s 463ms/step - loss: 0.9780\n",
      "Epoch 61/100\n",
      "16/16 [==============================] - ETA: 7s - loss: 1.177 - ETA: 6s - loss: 1.091 - ETA: 5s - loss: 0.992 - ETA: 5s - loss: 0.993 - ETA: 4s - loss: 0.993 - ETA: 4s - loss: 0.963 - ETA: 4s - loss: 0.950 - ETA: 3s - loss: 0.957 - ETA: 3s - loss: 0.986 - ETA: 2s - loss: 0.975 - ETA: 2s - loss: 0.977 - ETA: 1s - loss: 0.978 - ETA: 1s - loss: 0.980 - ETA: 0s - loss: 0.970 - ETA: 0s - loss: 0.972 - 7s 457ms/step - loss: 0.9656\n",
      "Epoch 62/100\n",
      "16/16 [==============================] - ETA: 6s - loss: 1.000 - ETA: 6s - loss: 0.924 - ETA: 5s - loss: 0.898 - ETA: 5s - loss: 0.988 - ETA: 5s - loss: 0.990 - ETA: 4s - loss: 0.992 - ETA: 4s - loss: 0.993 - ETA: 3s - loss: 0.975 - ETA: 3s - loss: 0.978 - ETA: 2s - loss: 0.979 - ETA: 2s - loss: 0.981 - ETA: 1s - loss: 0.982 - ETA: 1s - loss: 0.983 - ETA: 0s - loss: 0.985 - ETA: 0s - loss: 1.000 - 7s 455ms/step - loss: 0.9872\n",
      "Epoch 63/100\n"
     ]
    },
    {
     "name": "stdout",
     "output_type": "stream",
     "text": [
      "16/16 [==============================] - ETA: 6s - loss: 0.854 - ETA: 5s - loss: 1.036 - ETA: 5s - loss: 1.020 - ETA: 5s - loss: 0.989 - ETA: 5s - loss: 0.991 - ETA: 4s - loss: 0.995 - ETA: 4s - loss: 0.995 - ETA: 3s - loss: 0.980 - ETA: 3s - loss: 0.982 - ETA: 2s - loss: 0.984 - ETA: 2s - loss: 0.970 - ETA: 1s - loss: 0.984 - ETA: 1s - loss: 0.969 - ETA: 0s - loss: 0.977 - ETA: 0s - loss: 0.979 - 7s 454ms/step - loss: 0.9701\n",
      "Epoch 64/100\n",
      "16/16 [==============================] - ETA: 6s - loss: 0.995 - ETA: 6s - loss: 0.923 - ETA: 5s - loss: 0.892 - ETA: 5s - loss: 0.856 - ETA: 5s - loss: 0.852 - ETA: 4s - loss: 0.830 - ETA: 4s - loss: 0.831 - ETA: 3s - loss: 0.831 - ETA: 3s - loss: 0.825 - ETA: 2s - loss: 0.843 - ETA: 2s - loss: 0.857 - ETA: 1s - loss: 0.855 - ETA: 1s - loss: 0.866 - ETA: 0s - loss: 0.904 - ETA: 0s - loss: 0.910 - 7s 446ms/step - loss: 0.9396\n",
      "Epoch 65/100\n",
      "16/16 [==============================] - ETA: 6s - loss: 1.337 - ETA: 5s - loss: 1.083 - ETA: 5s - loss: 1.056 - ETA: 5s - loss: 1.054 - ETA: 4s - loss: 1.043 - ETA: 4s - loss: 1.036 - ETA: 3s - loss: 1.031 - ETA: 3s - loss: 1.001 - ETA: 2s - loss: 1.000 - ETA: 2s - loss: 0.983 - ETA: 2s - loss: 0.971 - ETA: 1s - loss: 0.959 - ETA: 1s - loss: 0.952 - ETA: 0s - loss: 0.955 - ETA: 0s - loss: 0.973 - 7s 431ms/step - loss: 0.9873\n",
      "Epoch 66/100\n",
      "16/16 [==============================] - ETA: 6s - loss: 1.000 - ETA: 6s - loss: 0.999 - ETA: 5s - loss: 0.951 - ETA: 5s - loss: 0.898 - ETA: 4s - loss: 0.966 - ETA: 4s - loss: 0.973 - ETA: 3s - loss: 1.000 - ETA: 3s - loss: 1.000 - ETA: 3s - loss: 0.982 - ETA: 2s - loss: 0.963 - ETA: 2s - loss: 0.950 - ETA: 1s - loss: 0.940 - ETA: 1s - loss: 0.932 - ETA: 0s - loss: 0.937 - ETA: 0s - loss: 0.939 - 7s 434ms/step - loss: 0.9325\n",
      "Epoch 67/100\n",
      "16/16 [==============================] - ETA: 6s - loss: 1.001 - ETA: 5s - loss: 1.001 - ETA: 5s - loss: 0.933 - ETA: 5s - loss: 0.950 - ETA: 4s - loss: 1.025 - ETA: 4s - loss: 0.969 - ETA: 3s - loss: 1.023 - ETA: 3s - loss: 1.000 - ETA: 3s - loss: 1.033 - ETA: 2s - loss: 1.029 - ETA: 2s - loss: 1.027 - ETA: 1s - loss: 1.019 - ETA: 1s - loss: 1.004 - ETA: 0s - loss: 1.005 - ETA: 0s - loss: 0.987 - 7s 429ms/step - loss: 1.0016\n",
      "Epoch 68/100\n",
      "16/16 [==============================] - ETA: 6s - loss: 0.999 - ETA: 6s - loss: 0.999 - ETA: 5s - loss: 0.944 - ETA: 5s - loss: 1.027 - ETA: 4s - loss: 1.066 - ETA: 4s - loss: 1.025 - ETA: 3s - loss: 1.021 - ETA: 3s - loss: 1.049 - ETA: 2s - loss: 1.042 - ETA: 2s - loss: 1.022 - ETA: 2s - loss: 1.002 - ETA: 1s - loss: 1.002 - ETA: 1s - loss: 1.002 - ETA: 0s - loss: 1.002 - ETA: 0s - loss: 1.002 - 7s 429ms/step - loss: 1.0108\n",
      "Epoch 69/100\n",
      "16/16 [==============================] - ETA: 6s - loss: 1.000 - ETA: 5s - loss: 0.999 - ETA: 5s - loss: 1.059 - ETA: 5s - loss: 1.091 - ETA: 4s - loss: 1.074 - ETA: 4s - loss: 1.084 - ETA: 3s - loss: 1.051 - ETA: 3s - loss: 1.031 - ETA: 2s - loss: 1.027 - ETA: 2s - loss: 1.024 - ETA: 2s - loss: 1.021 - ETA: 1s - loss: 1.011 - ETA: 1s - loss: 1.002 - ETA: 0s - loss: 1.002 - ETA: 0s - loss: 1.009 - 7s 427ms/step - loss: 1.0091\n",
      "Epoch 70/100\n",
      "16/16 [==============================] - ETA: 6s - loss: 0.900 - ETA: 6s - loss: 0.966 - ETA: 5s - loss: 0.977 - ETA: 5s - loss: 0.984 - ETA: 4s - loss: 0.987 - ETA: 4s - loss: 0.990 - ETA: 3s - loss: 0.992 - ETA: 3s - loss: 0.993 - ETA: 3s - loss: 0.991 - ETA: 2s - loss: 0.993 - ETA: 2s - loss: 0.993 - ETA: 1s - loss: 1.002 - ETA: 1s - loss: 1.002 - ETA: 0s - loss: 1.002 - ETA: 0s - loss: 1.003 - 7s 431ms/step - loss: 1.0021\n",
      "Epoch 71/100\n",
      "16/16 [==============================] - ETA: 6s - loss: 1.000 - ETA: 5s - loss: 0.987 - ETA: 5s - loss: 1.010 - ETA: 5s - loss: 1.001 - ETA: 4s - loss: 1.001 - ETA: 4s - loss: 1.001 - ETA: 3s - loss: 1.012 - ETA: 3s - loss: 1.012 - ETA: 3s - loss: 1.000 - ETA: 2s - loss: 1.000 - ETA: 2s - loss: 1.009 - ETA: 1s - loss: 1.008 - ETA: 1s - loss: 1.006 - ETA: 0s - loss: 1.005 - ETA: 0s - loss: 1.000 - 7s 435ms/step - loss: 0.9945\n",
      "Epoch 72/100\n",
      "16/16 [==============================] - ETA: 6s - loss: 0.889 - ETA: 5s - loss: 0.939 - ETA: 5s - loss: 0.959 - ETA: 5s - loss: 0.969 - ETA: 4s - loss: 0.955 - ETA: 4s - loss: 0.947 - ETA: 3s - loss: 0.953 - ETA: 3s - loss: 0.972 - ETA: 2s - loss: 0.961 - ETA: 2s - loss: 0.952 - ETA: 2s - loss: 0.953 - ETA: 1s - loss: 0.956 - ETA: 1s - loss: 0.949 - ETA: 0s - loss: 0.943 - ETA: 0s - loss: 0.947 - 7s 431ms/step - loss: 0.9623\n",
      "Epoch 73/100\n",
      "16/16 [==============================] - ETA: 6s - loss: 0.915 - ETA: 5s - loss: 0.970 - ETA: 5s - loss: 0.981 - ETA: 5s - loss: 0.986 - ETA: 4s - loss: 0.988 - ETA: 4s - loss: 0.992 - ETA: 3s - loss: 1.023 - ETA: 3s - loss: 1.020 - ETA: 2s - loss: 1.015 - ETA: 2s - loss: 1.013 - ETA: 2s - loss: 0.993 - ETA: 1s - loss: 0.981 - ETA: 1s - loss: 0.998 - ETA: 0s - loss: 0.985 - ETA: 0s - loss: 0.986 - 7s 428ms/step - loss: 0.9804\n",
      "Epoch 74/100\n",
      "16/16 [==============================] - ETA: 6s - loss: 1.227 - ETA: 6s - loss: 1.114 - ETA: 5s - loss: 0.998 - ETA: 5s - loss: 0.998 - ETA: 4s - loss: 0.998 - ETA: 4s - loss: 1.039 - ETA: 3s - loss: 1.008 - ETA: 3s - loss: 0.978 - ETA: 3s - loss: 0.980 - ETA: 2s - loss: 0.956 - ETA: 2s - loss: 0.976 - ETA: 1s - loss: 0.979 - ETA: 1s - loss: 0.976 - ETA: 0s - loss: 0.998 - ETA: 0s - loss: 0.998 - 7s 433ms/step - loss: 0.9985\n",
      "Epoch 75/100\n",
      "16/16 [==============================] - ETA: 6s - loss: 0.821 - ETA: 5s - loss: 0.910 - ETA: 5s - loss: 0.878 - ETA: 5s - loss: 0.908 - ETA: 4s - loss: 0.932 - ETA: 4s - loss: 0.974 - ETA: 3s - loss: 0.962 - ETA: 3s - loss: 0.968 - ETA: 3s - loss: 0.950 - ETA: 2s - loss: 0.980 - ETA: 2s - loss: 0.954 - ETA: 1s - loss: 0.934 - ETA: 1s - loss: 0.924 - ETA: 0s - loss: 0.910 - ETA: 0s - loss: 0.936 - 7s 435ms/step - loss: 0.9405\n",
      "Epoch 76/100\n",
      "16/16 [==============================] - ETA: 6s - loss: 1.147 - ETA: 5s - loss: 1.077 - ETA: 5s - loss: 1.052 - ETA: 5s - loss: 0.993 - ETA: 4s - loss: 0.994 - ETA: 4s - loss: 1.027 - ETA: 3s - loss: 1.023 - ETA: 3s - loss: 0.998 - ETA: 2s - loss: 0.975 - ETA: 2s - loss: 0.978 - ETA: 2s - loss: 0.948 - ETA: 1s - loss: 0.952 - ETA: 1s - loss: 0.958 - ETA: 0s - loss: 0.948 - ETA: 0s - loss: 0.952 - 7s 432ms/step - loss: 0.9554\n",
      "Epoch 77/100\n",
      "16/16 [==============================] - ETA: 6s - loss: 1.375 - ETA: 6s - loss: 1.378 - ETA: 5s - loss: 1.322 - ETA: 5s - loss: 1.201 - ETA: 4s - loss: 1.099 - ETA: 4s - loss: 1.055 - ETA: 3s - loss: 1.046 - ETA: 3s - loss: 1.017 - ETA: 3s - loss: 1.050 - ETA: 2s - loss: 1.045 - ETA: 2s - loss: 1.041 - ETA: 1s - loss: 1.053 - ETA: 1s - loss: 1.052 - ETA: 0s - loss: 1.035 - ETA: 0s - loss: 1.033 - 7s 433ms/step - loss: 1.0206\n",
      "Epoch 78/100\n",
      "16/16 [==============================] - ETA: 6s - loss: 0.968 - ETA: 5s - loss: 0.895 - ETA: 5s - loss: 0.926 - ETA: 5s - loss: 0.889 - ETA: 4s - loss: 0.911 - ETA: 4s - loss: 0.957 - ETA: 3s - loss: 0.963 - ETA: 3s - loss: 0.965 - ETA: 3s - loss: 0.969 - ETA: 2s - loss: 0.971 - ETA: 2s - loss: 0.974 - ETA: 1s - loss: 0.961 - ETA: 1s - loss: 0.976 - ETA: 0s - loss: 0.978 - ETA: 0s - loss: 0.979 - 7s 443ms/step - loss: 0.9809\n",
      "Epoch 79/100\n",
      "16/16 [==============================] - ETA: 6s - loss: 1.001 - ETA: 6s - loss: 0.919 - ETA: 6s - loss: 0.923 - ETA: 5s - loss: 0.942 - ETA: 5s - loss: 1.011 - ETA: 4s - loss: 1.010 - ETA: 4s - loss: 0.965 - ETA: 3s - loss: 1.007 - ETA: 3s - loss: 1.006 - ETA: 2s - loss: 1.003 - ETA: 2s - loss: 1.003 - ETA: 1s - loss: 0.986 - ETA: 1s - loss: 0.965 - ETA: 0s - loss: 0.968 - ETA: 0s - loss: 0.970 - 7s 467ms/step - loss: 0.9720\n",
      "Epoch 80/100\n",
      "16/16 [==============================] - ETA: 6s - loss: 0.812 - ETA: 5s - loss: 0.913 - ETA: 5s - loss: 1.002 - ETA: 5s - loss: 0.954 - ETA: 4s - loss: 0.963 - ETA: 4s - loss: 0.945 - ETA: 3s - loss: 0.953 - ETA: 3s - loss: 0.949 - ETA: 3s - loss: 0.955 - ETA: 2s - loss: 0.941 - ETA: 2s - loss: 0.946 - ETA: 1s - loss: 0.979 - ETA: 1s - loss: 0.961 - ETA: 0s - loss: 0.979 - ETA: 0s - loss: 0.994 - 7s 434ms/step - loss: 0.9941\n",
      "Epoch 81/100\n"
     ]
    },
    {
     "name": "stdout",
     "output_type": "stream",
     "text": [
      "16/16 [==============================] - ETA: 6s - loss: 0.986 - ETA: 6s - loss: 0.908 - ETA: 5s - loss: 0.924 - ETA: 5s - loss: 0.936 - ETA: 4s - loss: 0.907 - ETA: 4s - loss: 0.923 - ETA: 3s - loss: 0.934 - ETA: 3s - loss: 0.906 - ETA: 3s - loss: 0.916 - ETA: 2s - loss: 0.925 - ETA: 2s - loss: 0.914 - ETA: 1s - loss: 0.906 - ETA: 1s - loss: 0.912 - ETA: 0s - loss: 0.896 - ETA: 0s - loss: 0.916 - 7s 428ms/step - loss: 0.9326\n",
      "Epoch 82/100\n",
      "16/16 [==============================] - ETA: 6s - loss: 1.377 - ETA: 5s - loss: 1.188 - ETA: 5s - loss: 1.125 - ETA: 5s - loss: 1.146 - ETA: 4s - loss: 1.082 - ETA: 4s - loss: 1.038 - ETA: 3s - loss: 1.032 - ETA: 3s - loss: 1.006 - ETA: 2s - loss: 1.005 - ETA: 2s - loss: 0.983 - ETA: 2s - loss: 0.985 - ETA: 1s - loss: 0.986 - ETA: 1s - loss: 0.962 - ETA: 0s - loss: 0.964 - ETA: 0s - loss: 0.968 - 7s 427ms/step - loss: 0.9707\n",
      "Epoch 83/100\n",
      "16/16 [==============================] - ETA: 6s - loss: 1.354 - ETA: 5s - loss: 1.348 - ETA: 5s - loss: 1.235 - ETA: 5s - loss: 1.231 - ETA: 4s - loss: 1.185 - ETA: 4s - loss: 1.154 - ETA: 3s - loss: 1.105 - ETA: 3s - loss: 1.058 - ETA: 2s - loss: 1.052 - ETA: 2s - loss: 1.047 - ETA: 2s - loss: 1.025 - ETA: 1s - loss: 1.047 - ETA: 1s - loss: 1.043 - ETA: 0s - loss: 1.030 - ETA: 0s - loss: 1.016 - 7s 424ms/step - loss: 1.0329\n",
      "Epoch 84/100\n",
      "16/16 [==============================] - ETA: 6s - loss: 0.831 - ETA: 5s - loss: 0.907 - ETA: 5s - loss: 0.937 - ETA: 5s - loss: 0.953 - ETA: 4s - loss: 0.930 - ETA: 4s - loss: 0.988 - ETA: 3s - loss: 1.022 - ETA: 3s - loss: 1.041 - ETA: 2s - loss: 1.036 - ETA: 2s - loss: 1.033 - ETA: 2s - loss: 1.027 - ETA: 1s - loss: 1.025 - ETA: 1s - loss: 1.035 - ETA: 0s - loss: 1.024 - ETA: 0s - loss: 1.022 - 7s 426ms/step - loss: 1.0210\n",
      "Epoch 85/100\n",
      "16/16 [==============================] - ETA: 6s - loss: 0.848 - ETA: 5s - loss: 0.923 - ETA: 5s - loss: 0.949 - ETA: 5s - loss: 0.928 - ETA: 4s - loss: 0.970 - ETA: 4s - loss: 0.974 - ETA: 3s - loss: 0.977 - ETA: 3s - loss: 0.980 - ETA: 2s - loss: 0.982 - ETA: 2s - loss: 0.984 - ETA: 2s - loss: 0.972 - ETA: 1s - loss: 0.984 - ETA: 1s - loss: 0.974 - ETA: 0s - loss: 0.977 - ETA: 0s - loss: 0.978 - 7s 425ms/step - loss: 0.9798\n",
      "Epoch 86/100\n",
      "16/16 [==============================] - ETA: 6s - loss: 0.871 - ETA: 5s - loss: 0.936 - ETA: 5s - loss: 0.957 - ETA: 5s - loss: 0.968 - ETA: 4s - loss: 0.974 - ETA: 4s - loss: 0.978 - ETA: 3s - loss: 0.982 - ETA: 3s - loss: 0.984 - ETA: 2s - loss: 0.986 - ETA: 2s - loss: 1.002 - ETA: 2s - loss: 1.019 - ETA: 1s - loss: 1.017 - ETA: 1s - loss: 1.005 - ETA: 0s - loss: 1.004 - ETA: 0s - loss: 1.004 - 7s 426ms/step - loss: 0.9956\n",
      "Epoch 87/100\n",
      "16/16 [==============================] - ETA: 6s - loss: 0.999 - ETA: 5s - loss: 0.929 - ETA: 5s - loss: 0.905 - ETA: 5s - loss: 0.929 - ETA: 4s - loss: 0.943 - ETA: 4s - loss: 0.924 - ETA: 3s - loss: 0.964 - ETA: 3s - loss: 0.979 - ETA: 2s - loss: 0.981 - ETA: 2s - loss: 0.983 - ETA: 2s - loss: 0.985 - ETA: 1s - loss: 0.974 - ETA: 1s - loss: 0.979 - ETA: 0s - loss: 0.970 - ETA: 0s - loss: 0.961 - 7s 428ms/step - loss: 0.9711\n",
      "Epoch 88/100\n",
      "16/16 [==============================] - ETA: 6s - loss: 1.000 - ETA: 5s - loss: 0.920 - ETA: 5s - loss: 0.877 - ETA: 5s - loss: 0.915 - ETA: 4s - loss: 0.932 - ETA: 4s - loss: 0.932 - ETA: 3s - loss: 0.942 - ETA: 3s - loss: 0.920 - ETA: 2s - loss: 0.958 - ETA: 2s - loss: 0.960 - ETA: 2s - loss: 0.982 - ETA: 1s - loss: 0.983 - ETA: 1s - loss: 0.984 - ETA: 0s - loss: 0.973 - ETA: 0s - loss: 0.975 - 7s 424ms/step - loss: 0.9660\n",
      "Epoch 89/100\n",
      "16/16 [==============================] - ETA: 6s - loss: 0.804 - ETA: 5s - loss: 0.893 - ETA: 5s - loss: 0.991 - ETA: 5s - loss: 0.990 - ETA: 4s - loss: 0.992 - ETA: 4s - loss: 0.940 - ETA: 3s - loss: 0.914 - ETA: 3s - loss: 0.929 - ETA: 3s - loss: 0.936 - ETA: 2s - loss: 0.942 - ETA: 2s - loss: 0.978 - ETA: 1s - loss: 1.006 - ETA: 1s - loss: 1.026 - ETA: 0s - loss: 1.003 - ETA: 0s - loss: 1.003 - 7s 438ms/step - loss: 1.0032\n",
      "Epoch 90/100\n",
      "16/16 [==============================] - ETA: 6s - loss: 0.825 - ETA: 6s - loss: 1.089 - ETA: 5s - loss: 1.068 - ETA: 5s - loss: 1.051 - ETA: 4s - loss: 1.103 - ETA: 4s - loss: 1.086 - ETA: 3s - loss: 1.074 - ETA: 3s - loss: 1.064 - ETA: 3s - loss: 1.057 - ETA: 2s - loss: 1.048 - ETA: 2s - loss: 1.045 - ETA: 1s - loss: 1.028 - ETA: 1s - loss: 1.014 - ETA: 0s - loss: 1.001 - ETA: 0s - loss: 1.012 - 7s 431ms/step - loss: 0.9981\n",
      "Epoch 91/100\n",
      "16/16 [==============================] - ETA: 6s - loss: 0.966 - ETA: 6s - loss: 0.983 - ETA: 6s - loss: 0.988 - ETA: 5s - loss: 0.991 - ETA: 5s - loss: 0.993 - ETA: 4s - loss: 1.020 - ETA: 4s - loss: 0.997 - ETA: 3s - loss: 0.997 - ETA: 3s - loss: 0.997 - ETA: 2s - loss: 0.973 - ETA: 2s - loss: 0.960 - ETA: 1s - loss: 0.944 - ETA: 1s - loss: 0.969 - ETA: 0s - loss: 0.971 - ETA: 0s - loss: 0.961 - 7s 448ms/step - loss: 0.9624\n",
      "Epoch 92/100\n",
      "16/16 [==============================] - ETA: 6s - loss: 1.005 - ETA: 5s - loss: 1.002 - ETA: 5s - loss: 1.056 - ETA: 5s - loss: 1.042 - ETA: 4s - loss: 1.032 - ETA: 4s - loss: 1.027 - ETA: 3s - loss: 0.996 - ETA: 3s - loss: 0.995 - ETA: 3s - loss: 0.961 - ETA: 2s - loss: 0.965 - ETA: 2s - loss: 0.967 - ETA: 1s - loss: 0.999 - ETA: 1s - loss: 0.985 - ETA: 0s - loss: 0.986 - ETA: 0s - loss: 0.986 - 7s 428ms/step - loss: 1.0056\n",
      "Epoch 93/100\n",
      "16/16 [==============================] - ETA: 6s - loss: 1.042 - ETA: 5s - loss: 1.022 - ETA: 5s - loss: 1.014 - ETA: 5s - loss: 0.968 - ETA: 4s - loss: 0.939 - ETA: 4s - loss: 0.949 - ETA: 3s - loss: 0.926 - ETA: 3s - loss: 0.935 - ETA: 3s - loss: 0.908 - ETA: 2s - loss: 0.887 - ETA: 2s - loss: 0.925 - ETA: 1s - loss: 0.957 - ETA: 1s - loss: 0.959 - ETA: 0s - loss: 0.961 - ETA: 0s - loss: 0.965 - 7s 433ms/step - loss: 0.9473\n",
      "Epoch 94/100\n",
      "16/16 [==============================] - ETA: 6s - loss: 1.177 - ETA: 6s - loss: 0.990 - ETA: 5s - loss: 0.926 - ETA: 5s - loss: 0.943 - ETA: 4s - loss: 0.912 - ETA: 4s - loss: 0.927 - ETA: 3s - loss: 0.934 - ETA: 3s - loss: 0.943 - ETA: 3s - loss: 0.949 - ETA: 2s - loss: 0.954 - ETA: 2s - loss: 0.941 - ETA: 1s - loss: 0.963 - ETA: 1s - loss: 0.957 - ETA: 0s - loss: 0.960 - ETA: 0s - loss: 0.961 - 7s 438ms/step - loss: 0.9523\n",
      "Epoch 95/100\n",
      "16/16 [==============================] - ETA: 6s - loss: 0.624 - ETA: 6s - loss: 0.813 - ETA: 5s - loss: 0.875 - ETA: 5s - loss: 0.998 - ETA: 5s - loss: 1.033 - ETA: 4s - loss: 1.059 - ETA: 4s - loss: 1.055 - ETA: 3s - loss: 1.051 - ETA: 3s - loss: 1.048 - ETA: 2s - loss: 1.047 - ETA: 2s - loss: 1.077 - ETA: 1s - loss: 1.058 - ETA: 1s - loss: 1.053 - ETA: 0s - loss: 1.049 - ETA: 0s - loss: 1.045 - 7s 450ms/step - loss: 1.0532\n",
      "Epoch 96/100\n",
      "16/16 [==============================] - ETA: 6s - loss: 1.289 - ETA: 5s - loss: 1.037 - ETA: 5s - loss: 1.122 - ETA: 5s - loss: 1.137 - ETA: 4s - loss: 1.059 - ETA: 4s - loss: 1.007 - ETA: 3s - loss: 1.006 - ETA: 3s - loss: 0.984 - ETA: 3s - loss: 0.985 - ETA: 2s - loss: 0.987 - ETA: 2s - loss: 0.991 - ETA: 1s - loss: 0.977 - ETA: 1s - loss: 0.980 - ETA: 0s - loss: 0.978 - ETA: 0s - loss: 0.969 - 7s 454ms/step - loss: 0.9554\n",
      "Epoch 97/100\n",
      "16/16 [==============================] - ETA: 6s - loss: 0.705 - ETA: 6s - loss: 0.852 - ETA: 6s - loss: 0.901 - ETA: 5s - loss: 0.927 - ETA: 5s - loss: 0.903 - ETA: 4s - loss: 0.974 - ETA: 4s - loss: 0.978 - ETA: 3s - loss: 0.957 - ETA: 3s - loss: 0.986 - ETA: 2s - loss: 0.987 - ETA: 2s - loss: 0.989 - ETA: 1s - loss: 1.021 - ETA: 1s - loss: 1.018 - ETA: 0s - loss: 1.001 - ETA: 0s - loss: 0.978 - 8s 480ms/step - loss: 0.9769\n",
      "Epoch 98/100\n",
      "16/16 [==============================] - ETA: 6s - loss: 1.352 - ETA: 6s - loss: 1.176 - ETA: 5s - loss: 1.117 - ETA: 5s - loss: 1.167 - ETA: 4s - loss: 1.137 - ETA: 4s - loss: 1.082 - ETA: 3s - loss: 1.044 - ETA: 3s - loss: 1.034 - ETA: 3s - loss: 1.058 - ETA: 2s - loss: 1.053 - ETA: 2s - loss: 1.022 - ETA: 1s - loss: 1.005 - ETA: 1s - loss: 0.990 - ETA: 0s - loss: 0.978 - ETA: 0s - loss: 0.998 - 7s 460ms/step - loss: 0.9867\n",
      "Epoch 99/100\n"
     ]
    },
    {
     "name": "stdout",
     "output_type": "stream",
     "text": [
      "16/16 [==============================] - ETA: 6s - loss: 1.288 - ETA: 6s - loss: 1.144 - ETA: 5s - loss: 1.096 - ETA: 5s - loss: 1.007 - ETA: 5s - loss: 1.005 - ETA: 5s - loss: 1.000 - ETA: 4s - loss: 1.000 - ETA: 4s - loss: 1.000 - ETA: 3s - loss: 1.000 - ETA: 3s - loss: 1.000 - ETA: 2s - loss: 0.985 - ETA: 1s - loss: 0.963 - ETA: 1s - loss: 0.953 - ETA: 0s - loss: 0.957 - ETA: 0s - loss: 0.960 - 8s 484ms/step - loss: 0.9628\n",
      "Epoch 100/100\n",
      "16/16 [==============================] - ETA: 8s - loss: 1.297 - ETA: 6s - loss: 1.139 - ETA: 6s - loss: 1.149 - ETA: 5s - loss: 1.112 - ETA: 5s - loss: 1.023 - ETA: 4s - loss: 1.051 - ETA: 4s - loss: 1.044 - ETA: 3s - loss: 1.038 - ETA: 3s - loss: 1.012 - ETA: 2s - loss: 0.992 - ETA: 2s - loss: 0.993 - ETA: 1s - loss: 0.977 - ETA: 1s - loss: 0.965 - ETA: 0s - loss: 0.942 - ETA: 0s - loss: 0.933 - 7s 447ms/step - loss: 0.9593\n",
      "Wall time: 12min 10s\n"
     ]
    }
   ],
   "source": [
    "%%time\n",
    "import keras\n",
    "\n",
    "# Inspired on https://pastebin.com/TaGFdcBA\n",
    "\n",
    "# TODO: https://stackoverflow.com/questions/49941903/keras-compute-cosine-distance-between-two-flattened-outputs\n",
    "\n",
    "keras.backend.clear_session()\n",
    "\n",
    "cnn_feature_model = cnn_model(embeddings=baseline.embedding_matrix, \n",
    "                              num_words=len(baseline.word_index) + 1, \n",
    "                              embedding_dim=EMBEDDING_DIM, \n",
    "                              max_sequence_length=MAX_SEQUENCE_LENGTH_D, \n",
    "                              trainable=False)\n",
    "\n",
    "lstm_feature_model = lstm_model(embeddings=baseline.embedding_matrix, \n",
    "                              num_words=len(baseline.word_index) + 1, \n",
    "                              embedding_dim=EMBEDDING_DIM, \n",
    "                              max_sequence_length=MAX_SEQUENCE_LENGTH_T, \n",
    "                              trainable=False)\n",
    "\n",
    "similarity_model = siamese_model(lstm_feature_model, cnn_feature_model, MAX_SEQUENCE_LENGTH_T, MAX_SEQUENCE_LENGTH_D)\n",
    "\n",
    "# cnn_feature_model.summary()\n",
    "# lstm_feature_model.summary()\n",
    "similarity_model.summary()\n",
    "\n",
    "tbCallBack = keras.callbacks.TensorBoard(log_dir='logs/training', histogram_freq=0, write_graph=True, write_images=True)\n",
    "\n",
    "h = similarity_model.fit_generator(siam_gen_clf(bug_dir, 1, 1), \n",
    "                               steps_per_epoch = 16,\n",
    "                               #validation_data=test_gen, # \n",
    "                                             epochs = 100,\n",
    "                                             verbose = True,\n",
    "                                               callbacks=[tbCallBack]\n",
    "                                              )  # "
   ]
  },
  {
   "cell_type": "code",
   "execution_count": 132,
   "metadata": {
    "scrolled": false
   },
   "outputs": [
    {
     "data": {
      "image/png": "[encoded data removed]",
      "text/plain": [
       "<Figure size 432x288 with 1 Axes>"
      ]
     },
     "metadata": {},
     "output_type": "display_data"
    }
   ],
   "source": [
    "loss=h.history['loss']\n",
    "\n",
    "plt.plot(loss, label='loss')\n",
    "plt.title('model loss')\n",
    "plt.ylabel('loss')\n",
    "plt.xlabel('epoch')\n",
    "plt.legend(['train'], loc='upper left')\n",
    "plt.show()"
   ]
  },
  {
   "cell_type": "code",
   "execution_count": 133,
   "metadata": {},
   "outputs": [
    {
     "data": {
      "image/png": "[encoded data removed]",
      "text/plain": [
       "<Figure size 720x720 with 1 Axes>"
      ]
     },
     "metadata": {},
     "output_type": "display_data"
    },
    {
     "name": "stdout",
     "output_type": "stream",
     "text": [
      "Wall time: 17 s\n"
     ]
    }
   ],
   "source": [
    "%%time\n",
    "\n",
    "baseline.display_embed_space(similarity_model, 128)"
   ]
  },
  {
   "cell_type": "code",
   "execution_count": 130,
   "metadata": {
    "scrolled": false
   },
   "outputs": [
    {
     "data": {
      "image/png": "[encoded data removed]",
      "text/plain": [
       "<Figure size 720x720 with 1 Axes>"
      ]
     },
     "metadata": {},
     "output_type": "display_data"
    },
    {
     "name": "stdout",
     "output_type": "stream",
     "text": [
      "Wall time: 32.5 s\n"
     ]
    }
   ],
   "source": [
    "%%time\n",
    "\n",
    "baseline.display_embed_space(similarity_model, 128)"
   ]
  },
  {
   "cell_type": "code",
   "execution_count": null,
   "metadata": {},
   "outputs": [],
   "source": [
    "name = 'baseline_100epoch_16steps_(eclipse)'\n",
    "Baseline.save_model('', similarity_model, name)\n",
    "Baseline.save_result('', h, name)"
   ]
  },
  {
   "cell_type": "code",
   "execution_count": null,
   "metadata": {},
   "outputs": [],
   "source": [
    "name = 'baseline_100epoch_16steps_(eclipse)'\n",
    "Baseline.load_model('', name)"
   ]
  },
  {
   "cell_type": "markdown",
   "metadata": {},
   "source": [
    "## Classification"
   ]
  },
  {
   "cell_type": "code",
   "execution_count": null,
   "metadata": {},
   "outputs": [],
   "source": [
    "for layer in similarity_model.layers:\n",
    "    print(layer.name)"
   ]
  },
  {
   "cell_type": "code",
   "execution_count": null,
   "metadata": {},
   "outputs": [],
   "source": [
    "## Freeze weights\n",
    "for layer in similarity_model.layers:\n",
    "    layer.trainable = False\n",
    "    \n",
    "# Model 1\n",
    "model_in = similarity_model.get_layer('merge_features_in')\n",
    "model_pos = similarity_model.get_layer('merge_features_pos')\n",
    "x_in = model_in.output\n",
    "x_pos = model_pos.output\n",
    "x = Concatenate()([x_in, x_pos])\n",
    "x = Dense(64, activation = 'relu')(x)\n",
    "#x = Dense(32, activation = 'relu')(x)\n",
    "output_1 = Dense(2, activation = 'softmax', name = 'output')(x)\n",
    "\n",
    "# Model 2\n",
    "model_in = similarity_model.get_layer('merge_features_in')\n",
    "model_neg = similarity_model.get_layer('merge_features_neg')\n",
    "x_in = model_in.output\n",
    "x_neg = model_neg.output\n",
    "x = Concatenate()([x_in, x_neg])\n",
    "x = Dense(64, activation = 'relu')(x)\n",
    "#x = Dense(32, activation = 'relu')(x)\n",
    "output_2 = Dense(2, activation = 'softmax', name = 'output')(x)\n",
    "\n",
    "model_clf = Model(inputs=similarity_model.input, outputs=[output_1, output_2])\n",
    "model_clf.compile(optimizer='adam', loss='categorical_crossentropy', metrics = ['accuracy'])\n",
    "model_clf.summary()"
   ]
  },
  {
   "cell_type": "code",
   "execution_count": null,
   "metadata": {
    "scrolled": true
   },
   "outputs": [],
   "source": [
    "%%time\n",
    "\n",
    "from keras.utils import to_categorical\n",
    "from sklearn.preprocessing import LabelEncoder\n",
    "\n",
    "encoder = LabelEncoder()\n",
    "\n",
    "valid_labels = encoder.fit_transform(test_gen[1])\n",
    "valid_labels = to_categorical(valid_labels)\n",
    "test_validation = (test_gen[0], valid_labels)\n",
    "\n",
    "h_clf = model_clf.fit_generator(baseline.siam_gen_classification(bug_dir, 512, 1), \n",
    "                               steps_per_epoch = 16,\n",
    "                               validation_data=test_validation, # \n",
    "                                             epochs = 100,\n",
    "                                             verbose = True) # callbacks=[early]"
   ]
  },
  {
   "cell_type": "code",
   "execution_count": null,
   "metadata": {},
   "outputs": [],
   "source": [
    "Baseline.validation_accuracy_loss(h_clf)"
   ]
  },
  {
   "cell_type": "code",
   "execution_count": null,
   "metadata": {},
   "outputs": [],
   "source": [
    "name = 'baseline_classification_100epoch_16steps(eclipse)'\n",
    "save_model(similarity_model, name)\n",
    "save_result(h, name)"
   ]
  }
 ],
 "metadata": {
  "accelerator": "GPU",
  "colab": {
   "collapsed_sections": [],
   "name": "[baseline] Bug triage with Deep Learning.ipynb",
   "provenance": [],
   "toc_visible": true,
   "version": "0.3.2"
  },
  "kernelspec": {
   "display_name": "Python 3",
   "language": "python",
   "name": "python3"
  }
 },
 "nbformat": 4,
 "nbformat_minor": 1
}
