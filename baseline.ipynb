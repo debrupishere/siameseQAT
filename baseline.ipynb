{
 "cells": [
  {
   "cell_type": "markdown",
   "metadata": {
    "colab_type": "text",
    "id": "PtdA1qs_UQP1"
   },
   "source": [
    "# Bug triage with Deep Learning"
   ]
  },
  {
   "cell_type": "code",
   "execution_count": 1,
   "metadata": {},
   "outputs": [
    {
     "name": "stderr",
     "output_type": "stream",
     "text": [
      "Using TensorFlow backend.\n"
     ]
    }
   ],
   "source": [
    "import keras"
   ]
  },
  {
   "cell_type": "code",
   "execution_count": 2,
   "metadata": {
    "colab": {},
    "colab_type": "code",
    "id": "qnSCLmiomFE1"
   },
   "outputs": [],
   "source": [
    "from __future__ import print_function, division"
   ]
  },
  {
   "cell_type": "code",
   "execution_count": 3,
   "metadata": {
    "colab": {},
    "colab_type": "code",
    "id": "OIha-SERnD72"
   },
   "outputs": [],
   "source": [
    "import re\n",
    "import numpy as np\n",
    "import pandas as pd\n",
    "\n",
    "import os\n",
    "from tqdm import tqdm\n",
    "import matplotlib.pyplot as plt\n",
    "import sys\n",
    "nb_dir = os.path.split(os.getcwd())[0]\n",
    "if nb_dir not in sys.path:\n",
    "    sys.path.append(nb_dir)\n",
    "    \n",
    "%matplotlib inline"
   ]
  },
  {
   "cell_type": "code",
   "execution_count": 4,
   "metadata": {
    "colab": {
     "base_uri": "https://localhost:8080/",
     "height": 34
    },
    "colab_type": "code",
    "id": "c57gQiuAnJAe",
    "outputId": "9eaf2d3f-619a-492d-f40b-6ba2c48426fa"
   },
   "outputs": [],
   "source": [
    "from keras.layers import Conv1D, Input, Add, Activation, Dropout, Embedding, MaxPooling1D, GlobalMaxPool1D, Flatten, Dense, Concatenate, BatchNormalization\n",
    "from keras.models import Sequential, Model\n",
    "from keras.regularizers import l2\n",
    "from keras.initializers import TruncatedNormal\n",
    "from keras.layers.advanced_activations import LeakyReLU, ELU\n",
    "from keras import optimizers"
   ]
  },
  {
   "cell_type": "code",
   "execution_count": 5,
   "metadata": {},
   "outputs": [],
   "source": [
    "from methods.baseline import Baseline"
   ]
  },
  {
   "cell_type": "markdown",
   "metadata": {
    "colab_type": "text",
    "id": "3VUZ6oG1gb91"
   },
   "source": [
    "## Auxiliary methods"
   ]
  },
  {
   "cell_type": "markdown",
   "metadata": {
    "colab_type": "text",
    "id": "8uQou7m2-bFO"
   },
   "source": [
    "## Configurações Globais"
   ]
  },
  {
   "cell_type": "code",
   "execution_count": 6,
   "metadata": {
    "colab": {},
    "colab_type": "code",
    "id": "G-Kn3x_K-aZj"
   },
   "outputs": [],
   "source": [
    "MAX_SEQUENCE_LENGTH_T = 20 # 40\n",
    "MAX_SEQUENCE_LENGTH_D = 200 # 200\n",
    "EMBEDDING_DIM = 300\n",
    "MAX_NB_WORDS = 2000"
   ]
  },
  {
   "cell_type": "markdown",
   "metadata": {},
   "source": [
    "### Parse bugs preproprecessed"
   ]
  },
  {
   "cell_type": "code",
   "execution_count": 7,
   "metadata": {},
   "outputs": [],
   "source": [
    "DIR = 'data/processed/eclipse'\n",
    "DIR_PAIRS = 'data/normalized/eclipse'"
   ]
  },
  {
   "cell_type": "code",
   "execution_count": 8,
   "metadata": {},
   "outputs": [],
   "source": [
    "df_train_pair = pd.read_csv(os.path.join(DIR_PAIRS, 'eclipse_pairs.csv'))\n",
    "baseline = Baseline(DIR, 'eclipse.csv', MAX_SEQUENCE_LENGTH_T, MAX_SEQUENCE_LENGTH_D)"
   ]
  },
  {
   "cell_type": "markdown",
   "metadata": {},
   "source": [
    "#### Loading bug ids in memory"
   ]
  },
  {
   "cell_type": "code",
   "execution_count": 9,
   "metadata": {},
   "outputs": [
    {
     "data": {
      "text/plain": [
       "212512"
      ]
     },
     "execution_count": 9,
     "metadata": {},
     "output_type": "execute_result"
    }
   ],
   "source": [
    "baseline.load_ids(DIR)\n",
    "len(baseline.bug_ids)"
   ]
  },
  {
   "cell_type": "markdown",
   "metadata": {
    "colab_type": "text",
    "id": "vqzt5EKzqzcI"
   },
   "source": [
    "### Dicionário de títulos e descrições"
   ]
  },
  {
   "cell_type": "code",
   "execution_count": 10,
   "metadata": {
    "scrolled": false
   },
   "outputs": [
    {
     "name": "stderr",
     "output_type": "stream",
     "text": [
      "100%|██████████| 212512/212512 [00:37<00:00, 5687.72it/s]"
     ]
    },
    {
     "name": "stdout",
     "output_type": "stream",
     "text": [
      "CPU times: user 36 s, sys: 1.52 s, total: 37.5 s\n",
      "Wall time: 37.4 s\n"
     ]
    },
    {
     "name": "stderr",
     "output_type": "stream",
     "text": [
      "\n"
     ]
    }
   ],
   "source": [
    "%%time\n",
    "\n",
    "baseline.load_preprocess()\n",
    "len(baseline.sentence_dict)"
   ]
  },
  {
   "cell_type": "markdown",
   "metadata": {
    "colab_type": "text",
    "id": "J0WZNngemNM8"
   },
   "source": [
    "## Geração de batches"
   ]
  },
  {
   "cell_type": "markdown",
   "metadata": {
    "colab_type": "text",
    "id": "a6Obtop6UIVD"
   },
   "source": [
    "### Generating tiple of batches"
   ]
  },
  {
   "cell_type": "code",
   "execution_count": 11,
   "metadata": {
    "colab": {},
    "colab_type": "code",
    "id": "vvyMGBD4IhB-"
   },
   "outputs": [
    {
     "name": "stdout",
     "output_type": "stream",
     "text": [
      "Reading train data\n",
      "CPU times: user 181 ms, sys: 4.03 ms, total: 185 ms\n",
      "Wall time: 182 ms\n"
     ]
    }
   ],
   "source": [
    "%%time\n",
    "baseline.prepare_dataset()"
   ]
  },
  {
   "cell_type": "code",
   "execution_count": 12,
   "metadata": {
    "scrolled": false
   },
   "outputs": [
    {
     "name": "stderr",
     "output_type": "stream",
     "text": [
      "100%|██████████| 212512/212512 [00:10<00:00, 19405.51it/s]\n"
     ]
    }
   ],
   "source": [
    "baseline.load_bugs()"
   ]
  },
  {
   "cell_type": "code",
   "execution_count": 13,
   "metadata": {},
   "outputs": [
    {
     "data": {
      "text/plain": [
       "{'bug_severity': '6\\n',\n",
       " 'bug_status': '1\\n',\n",
       " 'component': '227\\n',\n",
       " 'creation_ts': '2001-10-10 22:38:00 -0400',\n",
       " 'delta_ts': '2005-05-10 14:55:51 -0400',\n",
       " 'description': 'steps minimize all your windows go to any window and select the window menu pick any window notice that it only gets selected and not maximized this happens in country as well notes',\n",
       " 'description_word': array([   0,    0,    0,    0,    0,    0,    0,    0,    0,    0,    0,\n",
       "           0,    0,    0,    0,    0,    0,    0,    0,    0,    0,    0,\n",
       "           0,    0,    0,    0,    0,    0,    0,    0,    0,    0,    0,\n",
       "           0,    0,    0,    0,    0,    0,    0,    0,    0,    0,    0,\n",
       "           0,    0,    0,    0,    0,    0,    0,    0,    0,    0,    0,\n",
       "           0,    0,    0,    0,    0,    0,    0,    0,    0,    0,    0,\n",
       "           0,    0,    0,    0,    0,    0,    0,    0,    0,    0,    0,\n",
       "           0,    0,    0,    0,    0,    0,    0,    0,    0,    0,    0,\n",
       "           0,    0,    0,    0,    0,    0,    0,    0,    0,    0,    0,\n",
       "           0,    0,    0,    0,    0,    0,    0,    0,    0,    0,    0,\n",
       "           0,    0,    0,    0,    0,    0,    0,    0,    0,    0,    0,\n",
       "           0,    0,    0,    0,    0,    0,    0,    0,    0,    0,    0,\n",
       "           0,    0,    0,    0,    0,    0,    0,    0,    0,    0,    0,\n",
       "           0,    0,    0,    0,    0,    0,    0,    0,    0,    0,    0,\n",
       "           0,    0,    0,    0,    0,    0,    0,    0,    0,    0,    0,\n",
       "           0,    0,  288, 3294,  110,  664,  304,  483,    8,  251,   71,\n",
       "          17,  164,    6,   71,  216, 2091,  251,   71, 1021,   31,   24,\n",
       "         176,  891,  310,   17,   21, 3619,   25,  723,   12,   81,   53,\n",
       "         680, 1329]),\n",
       " 'dup_id': '[]',\n",
       " 'issue_id': 2521,\n",
       " 'priority': '0\\n',\n",
       " 'product': '102\\n',\n",
       " 'resolution': 'FIXED',\n",
       " 'title': 'selecting a window in the window menu does not maximize window gfitic',\n",
       " 'title_word': array([   0,    0,    0,    0,    0,    0,    0,    0, 1149,   11,   71,\n",
       "          12,    6,   71,  216,  138,   21, 3342,   71,    1]),\n",
       " 'version': '491\\n'}"
      ]
     },
     "execution_count": 13,
     "metadata": {},
     "output_type": "execute_result"
    }
   ],
   "source": [
    "baseline.bug_set[2521]"
   ]
  },
  {
   "cell_type": "code",
   "execution_count": 14,
   "metadata": {
    "colab": {
     "base_uri": "https://localhost:8080/",
     "height": 51
    },
    "colab_type": "code",
    "id": "PA5CIhgz7odW",
    "outputId": "ae98fdec-1d54-4b1f-ee0e-4c5633802a18",
    "scrolled": true
   },
   "outputs": [
    {
     "name": "stdout",
     "output_type": "stream",
     "text": [
      "CPU times: user 62.3 ms, sys: 4.2 ms, total: 66.5 ms\n",
      "Wall time: 66.2 ms\n"
     ]
    }
   ],
   "source": [
    "%%time\n",
    "\n",
    "batch_size = 1024\n",
    "batch_size_test = 512\n",
    "\n",
    "# we want a constant validation group to have a frame of reference for model performance\n",
    "train_gen = baseline.siam_gen(batch_size, 1)\n",
    "valid_input_sample, valid_input_pos, valid_input_neg, valid_sim = baseline.batch_iterator(baseline.DIR, batch_size_test, 1)\n",
    "test_gen = ([valid_input_sample['title'], valid_input_pos['title'], valid_input_neg['title'], \n",
    "             valid_input_sample['description'], valid_input_pos['description'], valid_input_neg['description']], valid_sim)"
   ]
  },
  {
   "cell_type": "code",
   "execution_count": 15,
   "metadata": {},
   "outputs": [
    {
     "data": {
      "text/plain": [
       "((512, 20), (512, 200), (512, 1682), (512,))"
      ]
     },
     "execution_count": 15,
     "metadata": {},
     "output_type": "execute_result"
    }
   ],
   "source": [
    "valid_input_sample['title'].shape, valid_input_sample['description'].shape, valid_input_sample['info'].shape, valid_sim.shape"
   ]
  },
  {
   "cell_type": "markdown",
   "metadata": {
    "colab_type": "text",
    "id": "24mY22BGnkqp"
   },
   "source": [
    "### Validar entrada"
   ]
  },
  {
   "cell_type": "code",
   "execution_count": 16,
   "metadata": {
    "colab": {
     "base_uri": "https://localhost:8080/",
     "height": 796
    },
    "colab_type": "code",
    "id": "OhTbr3a5nmrh",
    "outputId": "a2d73e0f-e9ce-4d12-a5c8-f0008d2402d0",
    "scrolled": true
   },
   "outputs": [
    {
     "name": "stdout",
     "output_type": "stream",
     "text": [
      "***Title***: when a file is edited and saved with ctrl s eclipse crashes\n",
      "***Title***: eclipse organization crashes after saving file\n",
      "***Description***: organization person x u country x en country rv person organization el firefox person when a file is edited and saved with ctrl s eclipse crashes it is very deterministic as it happens every time an edited file is saved with ctrl s it can be reproduced very easily organization also crashes if an edited file is saved by clicking on the save button however this does not happen every time but occurs most of the times reproducible always person to person open a artwork project in eclipse edit a file press ctrl s to save the edited file\n",
      "***Description***: organization anytime i save a java source file organization crashes after the file is saved the ordinal couple of lines from the log file are money an unexpected error has been detected by person money sigsegv xb at pc xadeca pid tid money person person bit organization b mixed mode linux amd cardinal organization frame cardinal v libjvm so xfa money if you would like to submit a bug report please visit cardinal http java sun com webapps bugreport crash jsp cardinal the crash happened outside facility in native code cardinal see problematic frame for where to report the bug money t h r e a d current thread x java thread organization daemon thre ad in native id stack xad xae siginfo si signo sigsegv si errno si code segv maperr si addr x reproducible always person to person run organization edit a java source file add or remove a space save the file organization will close and a log file will be present in my home directory\n",
      "***similar = 1\n",
      "########################\n",
      "***Title***: organization can not import a project with a tag\n",
      "***Title***: psf import should also support checking out tags not only branches\n",
      "***Description***: when trying to import a project referenced with a organization url like this scm git git git eclipse org gitroot platform eclipse platform releng git path bundles org eclipse releng tools tag v the git project set capability will fail for some reason v is treated as a branch reference and passed to organization as the initial branch to check out however this doesn t work failed to read project description file from location organization failed to read project description file from location organization organization the system can not find the path specified checkout fails so the eclipse platform releng folder contains only git subfolder no sign of bundles and org eclipse releng tools\n",
      "***Description***: created attachment organization if i try to import the attached organization the import will fail see screenshot could reproduce with organization\n",
      "***similar = 1\n",
      "########################\n",
      "***Title***: tree table improve tree table performance and feedback\n",
      "***Title***: code generation error while converting rules\n",
      "***Description***: the nationality implementation still has room for improvement regarding usability i would especially like to investivgate options to improve performance for fast scrolling in big trees cells that are not visible horizontally could not be rendered until the scrollbar knob is dropped a row rendering very similar items in succession could only render the differences the scrollevent merge behavior could be optimized\n",
      "***Description***: code generation error while converting rules\n",
      "***similar = 0\n",
      "########################\n",
      "***Title***: ielement changed listener not being properly notified when person changes\n",
      "***Title***: build galileo build can t find buckminster feature\n",
      "***Description***: i have an ielement changed listener which i am trying to use to see when an annotation on a person method is modified by checking the iperson element delta f modifiers flag if i add remove a deprecated annotation on a method the iperson element delta will correctly have a modifiers changed event however if i add modify a custom annotation or even suppress warnings unchecked in this case the iperson element delta will have working copy f java primary resource it does not have the iperson element delta f modifiers flag set for the person so i can not use ielement changed listener to listen to changes in my own custom annotations which is my end goal i realize this probably isn t the best way to do what i m looking for but there doesn t seem to be a better way yet and changing any type of annotation really is modifying a method s modifiers so this should be able to be relied upon\n",
      "***Description***: build galileo build can t find buckminster feature\n",
      "***similar = 0\n",
      "########################\n",
      "CPU times: user 36 ms, sys: 0 ns, total: 36 ms\n",
      "Wall time: 35.6 ms\n"
     ]
    }
   ],
   "source": [
    "%%time \n",
    "\n",
    "baseline.display_batch(5)"
   ]
  },
  {
   "cell_type": "markdown",
   "metadata": {
    "colab_type": "text",
    "id": "XPrsLs4Kg4Pa"
   },
   "source": [
    "## Pre-trained embeddings\n",
    "\n",
    "Loading pretrained word vectors"
   ]
  },
  {
   "cell_type": "markdown",
   "metadata": {
    "colab_type": "text",
    "id": "6p9eE5TWoH7p"
   },
   "source": [
    "### Glove"
   ]
  },
  {
   "cell_type": "code",
   "execution_count": 17,
   "metadata": {
    "colab": {
     "base_uri": "https://localhost:8080/",
     "height": 85
    },
    "colab_type": "code",
    "id": "QY-ef3OGoIiq",
    "outputId": "55f4c93c-98bb-4bac-92f2-76bd3b777605"
   },
   "outputs": [
    {
     "name": "stderr",
     "output_type": "stream",
     "text": [
      "1917494it [01:17, 24775.51it/s]\n"
     ]
    },
    {
     "name": "stdout",
     "output_type": "stream",
     "text": [
      "Total 1917494 word vectors in Glove 42B 300d.\n",
      "Found 128293 unique tokens.\n"
     ]
    },
    {
     "name": "stderr",
     "output_type": "stream",
     "text": [
      "100%|██████████| 128293/128293 [00:00<00:00, 1672218.49it/s]\n"
     ]
    },
    {
     "name": "stdout",
     "output_type": "stream",
     "text": [
      "CPU times: user 1min 34s, sys: 2.97 s, total: 1min 37s\n",
      "Wall time: 1min 36s\n"
     ]
    }
   ],
   "source": [
    "%%time\n",
    "\n",
    "baseline.generating_embed(GLOVE_DIR='data/embed', EMBEDDING_DIM=EMBEDDING_DIM, MAX_NB_WORDS=MAX_NB_WORDS)"
   ]
  },
  {
   "cell_type": "markdown",
   "metadata": {
    "colab_type": "text",
    "id": "Lev5Y7oaFQBd"
   },
   "source": [
    "## Towards Accurate Duplicate Bug Retrieval Using Deep Learning Techniques\n",
    "\n",
    "https://github.com/tqtg/DuplicateBugFinder"
   ]
  },
  {
   "cell_type": "markdown",
   "metadata": {
    "colab_type": "text",
    "id": "sI074wU4Y13y"
   },
   "source": [
    "### CNN with filter 3,4,5"
   ]
  },
  {
   "cell_type": "code",
   "execution_count": 18,
   "metadata": {
    "colab": {
     "base_uri": "https://localhost:8080/",
     "height": 493
    },
    "colab_type": "code",
    "id": "h6YJU9GtFTyq",
    "outputId": "f85cf105-1fd6-491d-d969-7e6936f32739",
    "scrolled": false
   },
   "outputs": [],
   "source": [
    "import keras\n",
    "from keras.layers import GlobalMaxPooling1D \n",
    "\n",
    "keras.backend.clear_session()\n",
    "\n",
    "def cnn_model(embeddings, num_words, embedding_dim, max_sequence_length, trainable):\n",
    "\n",
    "  embedding_layer = Embedding(num_words,\n",
    "                              embedding_dim,\n",
    "                              weights=[embeddings],\n",
    "                              input_length=max_sequence_length,\n",
    "                              trainable=trainable)\n",
    "\n",
    "  sequence_input = Input(shape=(max_sequence_length,), name='Feature_BugInput')\n",
    "  embedded_sequences = embedding_layer(sequence_input)\n",
    "\n",
    "  # Yoon Kim model (https://arxiv.org/abs/1408.5882)\n",
    "  # best combination filter (3, 4, 5) e 128 e 256\n",
    "  convs = []\n",
    "  filter_sizes = [3, 4, 5]\n",
    "\n",
    "  for filter_size in filter_sizes:\n",
    "      l_conv = Conv1D(filters=128, kernel_size=filter_size, activation='relu')(embedded_sequences)\n",
    "      l_pool = MaxPooling1D(pool_size=3)(l_conv)\n",
    "      convs.append(l_pool)\n",
    "\n",
    "  # l_merge = Merge(mode='concat', concat_axis=1)(convs)\n",
    "\n",
    "  l_merge = Concatenate(axis=1)(convs)\n",
    "\n",
    "  # add a 1D convnet with global maxpooling, instead of Yoon Kim model\n",
    "  conv = Conv1D(filters=256, kernel_size=3, activation='relu')(l_merge)\n",
    "  layer = GlobalMaxPooling1D()(conv) # pool_size=3\n",
    "  # Original Yoon Kim model\n",
    "  #x = Flatten()(pool)\n",
    "  #x = Dropout(0.5)(x)\n",
    "  #layer = Activation('relu')(pool)\n",
    "\n",
    "  cnn_feature_model = Model(inputs=[sequence_input], outputs=[layer], name = 'FeatureCNNGenerationModel') # inputs=visible\n",
    "  \n",
    "  return cnn_feature_model"
   ]
  },
  {
   "cell_type": "markdown",
   "metadata": {
    "colab_type": "text",
    "id": "wr6ObTXiaALH"
   },
   "source": [
    "### Bi-LSTM"
   ]
  },
  {
   "cell_type": "code",
   "execution_count": 19,
   "metadata": {
    "colab": {
     "base_uri": "https://localhost:8080/",
     "height": 306
    },
    "colab_type": "code",
    "id": "vC7MQXEsaCeG",
    "outputId": "65e647a9-c5d3-4009-b8a4-2e2d97b52684"
   },
   "outputs": [],
   "source": [
    "from keras.layers import Dense, Input, LSTM, Dropout, Bidirectional\n",
    "\n",
    "def lstm_model(embeddings, num_words, embedding_dim, max_sequence_length, trainable):\n",
    "  number_lstm_units = 50\n",
    "  rate_drop_lstm = 0\n",
    "  recurrent_dropout = 0\n",
    "\n",
    "  embedding_layer = Embedding(num_words,\n",
    "                          embedding_dim,\n",
    "                          weights=[embeddings],\n",
    "                          input_length=max_sequence_length,\n",
    "                          trainable=trainable)\n",
    "\n",
    "  sequence_input = Input(shape=(max_sequence_length, ), name='Feature_BugInput')\n",
    "  embedded_sequences = embedding_layer(sequence_input)\n",
    "\n",
    "   # Creating LSTM Encoder\n",
    "  lstm_layer = Bidirectional(LSTM(number_lstm_units, dropout=rate_drop_lstm, recurrent_dropout=rate_drop_lstm), merge_mode='sum')\n",
    "\n",
    "  layer = lstm_layer(embedded_sequences)\n",
    "\n",
    "  #layer = Activation('relu')(x)\n",
    "\n",
    "  lstm_feature_model = Model(inputs=[sequence_input], outputs=[layer], name = 'FeatureLstmGenerationModel') # inputs=visible\n",
    "  \n",
    "  return lstm_feature_model"
   ]
  },
  {
   "cell_type": "markdown",
   "metadata": {},
   "source": [
    "### MLP"
   ]
  },
  {
   "cell_type": "code",
   "execution_count": 20,
   "metadata": {},
   "outputs": [],
   "source": [
    "def mlp_model(input_size):\n",
    "    info_input = Input(shape=(input_size, ), name='Feature_BugInput')\n",
    "    \n",
    "    x = Dense(input_size)(info_input)\n",
    "    x = Dense(input_size // 2)(x)\n",
    "    \n",
    "    layer = Dense(256)(x)\n",
    "    \n",
    "    mlp_feature_model = Model(inputs=[info_input], outputs=[layer], name = 'FeatureMlpGenerationModel')\n",
    "    \n",
    "    return mlp_feature_model"
   ]
  },
  {
   "cell_type": "markdown",
   "metadata": {
    "colab_type": "text",
    "id": "TEedCg5AaTf2"
   },
   "source": [
    "### Siamese model"
   ]
  },
  {
   "cell_type": "code",
   "execution_count": 21,
   "metadata": {
    "colab": {
     "base_uri": "https://localhost:8080/",
     "height": 561
    },
    "colab_type": "code",
    "id": "VWBkSIYVaXyP",
    "outputId": "ed2a3d37-b8ec-4960-ef45-2909a87c8fa5"
   },
   "outputs": [],
   "source": [
    "from keras import backend as K\n",
    "import tensorflow as tf\n",
    "\n",
    "def l2_normalize(x, axis):\n",
    "    norm = K.sqrt(K.sum(K.square(x), axis=axis, keepdims=True))\n",
    "    return K.maximum(x, K.epsilon()) / K.maximum(norm, K.epsilon())\n",
    "\n",
    "# https://github.com/keras-team/keras/issues/3031\n",
    "# https://github.com/keras-team/keras/issues/8335\n",
    "def cosine_distance(inputs):\n",
    "    x, y = inputs\n",
    "    x = l2_normalize(x, axis=-1)\n",
    "    y = l2_normalize(y, axis=-1)\n",
    "    similarity = K.batch_dot(x, y, axes=1)\n",
    "    distance = K.constant(1) - similarity\n",
    "    # Distance goes from 0 to 2 in theory, but from 0 to 1 if x and y are both\n",
    "    # positive (which is the case after ReLU activation).\n",
    "    return K.mean(distance, axis=-1)\n",
    "\n",
    "def margin_loss(y_true, y_pred):\n",
    "    margin = K.constant(1.0)\n",
    "    return K.mean(K.maximum(0.0, margin - y_pred[0] + y_pred[1]))\n",
    "\n",
    "def pos_distance(y_true, y_pred):\n",
    "    return K.mean(y_pred[0])\n",
    "\n",
    "def neg_distance(y_true, y_pred):\n",
    "    return K.mean(y_pred[1])\n",
    "\n",
    "def stack_tensors(vects):\n",
    "    return K.squeeze(K.stack(vects),axis=1) # stack adds a new dim. So squeeze it\n",
    "    # better method is to use concatenate\n",
    "    return K.concatenate(vects,axis=1)"
   ]
  },
  {
   "cell_type": "code",
   "execution_count": 22,
   "metadata": {},
   "outputs": [],
   "source": [
    "from keras.layers import concatenate, Add, Lambda, merge\n",
    "from keras.optimizers import Adam\n",
    "\n",
    "def siamese_model(lstm_feature_model, cnn_feature_model, mlp_feature_model, sequence_length_info, max_sequence_length_t, max_sequence_length_d):\n",
    "  \n",
    "    bug_t_in = Input(shape = (max_sequence_length_t, ), name = 'title_in')\n",
    "    bug_t_pos = Input(shape = (max_sequence_length_t, ), name = 'title_pos')\n",
    "    bug_t_neg = Input(shape = (max_sequence_length_t, ), name = 'title_neg')\n",
    "\n",
    "    bug_d_in = Input(shape = (max_sequence_length_d, ), name = 'desc_in')\n",
    "    bug_d_pos = Input(shape = (max_sequence_length_d, ), name = 'desc_pos')\n",
    "    bug_d_neg = Input(shape = (max_sequence_length_d, ), name = 'desc_neg')\n",
    "    \n",
    "    bug_i_in = Input(shape = (sequence_length_info, ), name = 'info_in')\n",
    "    bug_i_pos = Input(shape = (sequence_length_info, ), name = 'info_pos')\n",
    "    bug_i_neg = Input(shape = (sequence_length_info, ), name = 'info_neg')\n",
    "\n",
    "    bug_t_in_feat_lstm = lstm_feature_model(bug_t_in)\n",
    "    bug_t_pos_feat_lstm = lstm_feature_model(bug_t_pos)\n",
    "    bug_t_neg_feat_lstm = lstm_feature_model(bug_t_neg)\n",
    "\n",
    "    bug_d_in_feat_cnn = cnn_feature_model(bug_d_in)\n",
    "    bug_d_pos_feat_cnn = cnn_feature_model(bug_d_pos)\n",
    "    bug_d_neg_feat_cnn = cnn_feature_model(bug_d_neg)\n",
    "    \n",
    "    bug_i_in_feat_mlp = mlp_feature_model(bug_i_in)\n",
    "    bug_i_pos_feat_mlp = mlp_feature_model(bug_i_pos)\n",
    "    bug_i_neg_feat_mlp = mlp_feature_model(bug_i_neg)\n",
    "\n",
    "    encoded_anchor = concatenate([bug_i_in_feat_mlp, bug_t_in_feat_lstm, bug_d_in_feat_cnn], name = 'merge_features_in')\n",
    "    encoded_positive = concatenate([bug_i_pos_feat_mlp, bug_t_pos_feat_lstm, bug_d_pos_feat_cnn], name = 'merge_features_pos')\n",
    "    encoded_negative = concatenate([bug_i_neg_feat_mlp, bug_t_neg_feat_lstm, bug_d_neg_feat_cnn], name = 'merge_features_neg')\n",
    "\n",
    "    positive_d = Lambda(cosine_distance)([encoded_anchor, encoded_positive])\n",
    "    negative_d = Lambda(cosine_distance)([encoded_anchor, encoded_negative])\n",
    "    \n",
    "    # Loss function only works with a single output\n",
    "    output = Lambda(\n",
    "        lambda vects: K.stack(vects),\n",
    "        name='stack-distances',\n",
    "    )([positive_d, negative_d])\n",
    "  \n",
    "    similarity_model = Model(inputs = [bug_t_in, bug_t_pos, bug_t_neg, \n",
    "                                       bug_d_in, bug_d_pos, bug_d_neg, \n",
    "                                       bug_i_in, bug_i_pos, bug_i_neg], \n",
    "                           outputs = output, name = 'Similarity_Model')\n",
    "\n",
    "    # setup the optimization process \n",
    "    similarity_model.compile(optimizer='adam', loss=margin_loss, metrics=[pos_distance, neg_distance]) # 'categorical_crossentropy' \n",
    "\n",
    "    return similarity_model"
   ]
  },
  {
   "cell_type": "markdown",
   "metadata": {},
   "source": [
    "## Experiment"
   ]
  },
  {
   "cell_type": "code",
   "execution_count": null,
   "metadata": {
    "scrolled": true
   },
   "outputs": [
    {
     "name": "stdout",
     "output_type": "stream",
     "text": [
      "__________________________________________________________________________________________________\n",
      "Layer (type)                    Output Shape         Param #     Connected to                     \n",
      "==================================================================================================\n",
      "info_in (InputLayer)            (None, 1682)         0                                            \n",
      "__________________________________________________________________________________________________\n",
      "title_in (InputLayer)           (None, 20)           0                                            \n",
      "__________________________________________________________________________________________________\n",
      "desc_in (InputLayer)            (None, 200)          0                                            \n",
      "__________________________________________________________________________________________________\n",
      "info_pos (InputLayer)           (None, 1682)         0                                            \n",
      "__________________________________________________________________________________________________\n",
      "title_pos (InputLayer)          (None, 20)           0                                            \n",
      "__________________________________________________________________________________________________\n",
      "desc_pos (InputLayer)           (None, 200)          0                                            \n",
      "__________________________________________________________________________________________________\n",
      "info_neg (InputLayer)           (None, 1682)         0                                            \n",
      "__________________________________________________________________________________________________\n",
      "title_neg (InputLayer)          (None, 20)           0                                            \n",
      "__________________________________________________________________________________________________\n",
      "desc_neg (InputLayer)           (None, 200)          0                                            \n",
      "__________________________________________________________________________________________________\n",
      "FeatureMlpGenerationModel (Mode (None, 256)          4461761     info_in[0][0]                    \n",
      "                                                                 info_pos[0][0]                   \n",
      "                                                                 info_neg[0][0]                   \n",
      "__________________________________________________________________________________________________\n",
      "FeatureLstmGenerationModel (Mod (None, 50)           38628600    title_in[0][0]                   \n",
      "                                                                 title_pos[0][0]                  \n",
      "                                                                 title_neg[0][0]                  \n",
      "__________________________________________________________________________________________________\n",
      "FeatureCNNGenerationModel (Mode (None, 256)          39047944    desc_in[0][0]                    \n",
      "                                                                 desc_pos[0][0]                   \n",
      "                                                                 desc_neg[0][0]                   \n",
      "__________________________________________________________________________________________________\n",
      "merge_features_in (Concatenate) (None, 562)          0           FeatureMlpGenerationModel[1][0]  \n",
      "                                                                 FeatureLstmGenerationModel[1][0] \n",
      "                                                                 FeatureCNNGenerationModel[1][0]  \n",
      "__________________________________________________________________________________________________\n",
      "merge_features_pos (Concatenate (None, 562)          0           FeatureMlpGenerationModel[2][0]  \n",
      "                                                                 FeatureLstmGenerationModel[2][0] \n",
      "                                                                 FeatureCNNGenerationModel[2][0]  \n",
      "__________________________________________________________________________________________________\n",
      "merge_features_neg (Concatenate (None, 562)          0           FeatureMlpGenerationModel[3][0]  \n",
      "                                                                 FeatureLstmGenerationModel[3][0] \n",
      "                                                                 FeatureCNNGenerationModel[3][0]  \n",
      "__________________________________________________________________________________________________\n",
      "lambda_1 (Lambda)               (None,)              0           merge_features_in[0][0]          \n",
      "                                                                 merge_features_pos[0][0]         \n",
      "__________________________________________________________________________________________________\n",
      "lambda_2 (Lambda)               (None,)              0           merge_features_in[0][0]          \n",
      "                                                                 merge_features_neg[0][0]         \n",
      "__________________________________________________________________________________________________\n",
      "stack-distances (Lambda)        (2, None)            0           lambda_1[0][0]                   \n",
      "                                                                 lambda_2[0][0]                   \n",
      "==================================================================================================\n",
      "Total params: 82,138,305\n",
      "Trainable params: 5,161,905\n",
      "Non-trainable params: 76,976,400\n",
      "__________________________________________________________________________________________________\n",
      "Epoch 1/1000\n",
      "10/10 [==============================] - 8s 813ms/step - loss: 0.9852 - pos_distance: 0.2153 - neg_distance: 0.2006\n",
      "\n",
      "Epoch 00001: loss improved from inf to 0.98525, saving model to baseline_1000epoch_10steps_1024batch(eclipse).hdf5\n",
      "Epoch 2/1000\n",
      "10/10 [==============================] - 5s 471ms/step - loss: 0.9360 - pos_distance: 0.5032 - neg_distance: 0.4392\n",
      "\n",
      "Epoch 00002: loss improved from 0.98525 to 0.93599, saving model to baseline_1000epoch_10steps_1024batch(eclipse).hdf5\n",
      "Epoch 3/1000\n",
      "10/10 [==============================] - 5s 471ms/step - loss: 0.9291 - pos_distance: 0.5098 - neg_distance: 0.4389\n",
      "\n",
      "Epoch 00003: loss improved from 0.93599 to 0.92915, saving model to baseline_1000epoch_10steps_1024batch(eclipse).hdf5\n",
      "Epoch 4/1000\n",
      "10/10 [==============================] - 5s 473ms/step - loss: 0.9230 - pos_distance: 0.5322 - neg_distance: 0.4551\n",
      "\n",
      "Epoch 00004: loss improved from 0.92915 to 0.92297, saving model to baseline_1000epoch_10steps_1024batch(eclipse).hdf5\n",
      "Epoch 5/1000\n",
      "10/10 [==============================] - 5s 471ms/step - loss: 0.9217 - pos_distance: 0.5344 - neg_distance: 0.4560\n",
      "\n",
      "Epoch 00005: loss improved from 0.92297 to 0.92167, saving model to baseline_1000epoch_10steps_1024batch(eclipse).hdf5\n",
      "Epoch 6/1000\n",
      "10/10 [==============================] - 5s 472ms/step - loss: 0.9192 - pos_distance: 0.5425 - neg_distance: 0.4617\n",
      "\n",
      "Epoch 00006: loss improved from 0.92167 to 0.91915, saving model to baseline_1000epoch_10steps_1024batch(eclipse).hdf5\n",
      "Epoch 7/1000\n",
      "10/10 [==============================] - 5s 474ms/step - loss: 0.9210 - pos_distance: 0.5341 - neg_distance: 0.4550\n",
      "\n",
      "Epoch 00007: loss did not improve from 0.91915\n",
      "Epoch 8/1000\n",
      "10/10 [==============================] - 5s 475ms/step - loss: 0.9202 - pos_distance: 0.5367 - neg_distance: 0.4569\n",
      "\n",
      "Epoch 00008: loss did not improve from 0.91915\n",
      "Epoch 9/1000\n",
      "10/10 [==============================] - 5s 471ms/step - loss: 0.9239 - pos_distance: 0.5468 - neg_distance: 0.4707\n",
      "\n",
      "Epoch 00009: loss did not improve from 0.91915\n",
      "Epoch 10/1000\n",
      "10/10 [==============================] - 5s 474ms/step - loss: 0.9211 - pos_distance: 0.5410 - neg_distance: 0.4622\n",
      "\n",
      "Epoch 00010: loss did not improve from 0.91915\n",
      "Epoch 11/1000\n",
      "10/10 [==============================] - 5s 471ms/step - loss: 0.9222 - pos_distance: 0.5385 - neg_distance: 0.4606\n",
      "\n",
      "Epoch 00011: loss did not improve from 0.91915\n",
      "Epoch 12/1000\n",
      "10/10 [==============================] - 5s 471ms/step - loss: 0.9215 - pos_distance: 0.5413 - neg_distance: 0.4628\n",
      "\n",
      "Epoch 00012: loss did not improve from 0.91915\n",
      "Epoch 13/1000\n"
     ]
    },
    {
     "name": "stdout",
     "output_type": "stream",
     "text": [
      "10/10 [==============================] - 5s 473ms/step - loss: 0.9167 - pos_distance: 0.5547 - neg_distance: 0.4713\n",
      "\n",
      "Epoch 00013: loss improved from 0.91915 to 0.91667, saving model to baseline_1000epoch_10steps_1024batch(eclipse).hdf5\n",
      "Epoch 14/1000\n",
      "10/10 [==============================] - 5s 468ms/step - loss: 0.9190 - pos_distance: 0.5491 - neg_distance: 0.4681\n",
      "\n",
      "Epoch 00014: loss did not improve from 0.91667\n",
      "Epoch 15/1000\n",
      "10/10 [==============================] - 5s 473ms/step - loss: 0.9189 - pos_distance: 0.5566 - neg_distance: 0.4755\n",
      "\n",
      "Epoch 00015: loss did not improve from 0.91667\n",
      "Epoch 16/1000\n",
      "10/10 [==============================] - 5s 471ms/step - loss: 0.9193 - pos_distance: 0.5471 - neg_distance: 0.4664\n",
      "\n",
      "Epoch 00016: loss did not improve from 0.91667\n",
      "Epoch 17/1000\n",
      "10/10 [==============================] - 5s 474ms/step - loss: 0.9180 - pos_distance: 0.5430 - neg_distance: 0.4610\n",
      "\n",
      "Epoch 00017: loss did not improve from 0.91667\n",
      "Epoch 18/1000\n",
      "10/10 [==============================] - 5s 472ms/step - loss: 0.9165 - pos_distance: 0.5483 - neg_distance: 0.4648\n",
      "\n",
      "Epoch 00018: loss improved from 0.91667 to 0.91652, saving model to baseline_1000epoch_10steps_1024batch(eclipse).hdf5\n",
      "Epoch 19/1000\n",
      "10/10 [==============================] - 5s 472ms/step - loss: 0.9163 - pos_distance: 0.5531 - neg_distance: 0.4693\n",
      "\n",
      "Epoch 00019: loss improved from 0.91652 to 0.91626, saving model to baseline_1000epoch_10steps_1024batch(eclipse).hdf5\n",
      "Epoch 20/1000\n",
      "10/10 [==============================] - 5s 473ms/step - loss: 0.9174 - pos_distance: 0.5448 - neg_distance: 0.4622\n",
      "\n",
      "Epoch 00020: loss did not improve from 0.91626\n",
      "Epoch 21/1000\n",
      "10/10 [==============================] - 5s 475ms/step - loss: 0.9150 - pos_distance: 0.5485 - neg_distance: 0.4635\n",
      "\n",
      "Epoch 00021: loss improved from 0.91626 to 0.91499, saving model to baseline_1000epoch_10steps_1024batch(eclipse).hdf5\n",
      "Epoch 22/1000\n",
      "10/10 [==============================] - 5s 476ms/step - loss: 0.9174 - pos_distance: 0.5433 - neg_distance: 0.4608\n",
      "\n",
      "Epoch 00022: loss did not improve from 0.91499\n",
      "Epoch 23/1000\n",
      "10/10 [==============================] - 5s 474ms/step - loss: 0.9155 - pos_distance: 0.5557 - neg_distance: 0.4712\n",
      "\n",
      "Epoch 00023: loss did not improve from 0.91499\n",
      "Epoch 24/1000\n",
      "10/10 [==============================] - 5s 467ms/step - loss: 0.9143 - pos_distance: 0.5431 - neg_distance: 0.4575\n",
      "\n",
      "Epoch 00024: loss improved from 0.91499 to 0.91432, saving model to baseline_1000epoch_10steps_1024batch(eclipse).hdf5\n",
      "Epoch 25/1000\n",
      "10/10 [==============================] - 5s 475ms/step - loss: 0.9151 - pos_distance: 0.5404 - neg_distance: 0.4556\n",
      "\n",
      "Epoch 00025: loss did not improve from 0.91432\n",
      "Epoch 26/1000\n",
      "10/10 [==============================] - 5s 468ms/step - loss: 0.9148 - pos_distance: 0.5481 - neg_distance: 0.4630\n",
      "\n",
      "Epoch 00026: loss did not improve from 0.91432\n",
      "Epoch 27/1000\n",
      "10/10 [==============================] - 5s 473ms/step - loss: 0.9077 - pos_distance: 0.5648 - neg_distance: 0.4725\n",
      "\n",
      "Epoch 00027: loss improved from 0.91432 to 0.90766, saving model to baseline_1000epoch_10steps_1024batch(eclipse).hdf5\n",
      "Epoch 28/1000\n",
      "10/10 [==============================] - 5s 476ms/step - loss: 0.9068 - pos_distance: 0.5446 - neg_distance: 0.4514\n",
      "\n",
      "Epoch 00028: loss improved from 0.90766 to 0.90680, saving model to baseline_1000epoch_10steps_1024batch(eclipse).hdf5\n",
      "Epoch 29/1000\n",
      "10/10 [==============================] - 5s 466ms/step - loss: 0.9141 - pos_distance: 0.5325 - neg_distance: 0.4466\n",
      "\n",
      "Epoch 00029: loss did not improve from 0.90680\n",
      "Epoch 30/1000\n",
      "10/10 [==============================] - 5s 472ms/step - loss: 0.9095 - pos_distance: 0.5742 - neg_distance: 0.4837\n",
      "\n",
      "Epoch 00030: loss did not improve from 0.90680\n",
      "Epoch 31/1000\n",
      "10/10 [==============================] - 5s 472ms/step - loss: 0.9081 - pos_distance: 0.5425 - neg_distance: 0.4506\n",
      "\n",
      "Epoch 00031: loss did not improve from 0.90680\n",
      "Epoch 32/1000\n",
      "10/10 [==============================] - 5s 469ms/step - loss: 0.9024 - pos_distance: 0.5358 - neg_distance: 0.4382\n",
      "\n",
      "Epoch 00032: loss improved from 0.90680 to 0.90238, saving model to baseline_1000epoch_10steps_1024batch(eclipse).hdf5\n",
      "Epoch 33/1000\n",
      "10/10 [==============================] - 5s 472ms/step - loss: 0.9109 - pos_distance: 0.5314 - neg_distance: 0.4423\n",
      "\n",
      "Epoch 00033: loss did not improve from 0.90238\n",
      "Epoch 34/1000\n",
      "10/10 [==============================] - 5s 469ms/step - loss: 0.9030 - pos_distance: 0.5461 - neg_distance: 0.4491\n",
      "\n",
      "Epoch 00034: loss did not improve from 0.90238\n",
      "Epoch 35/1000\n",
      "10/10 [==============================] - 5s 472ms/step - loss: 0.8933 - pos_distance: 0.5373 - neg_distance: 0.4306\n",
      "\n",
      "Epoch 00035: loss improved from 0.90238 to 0.89334, saving model to baseline_1000epoch_10steps_1024batch(eclipse).hdf5\n",
      "Epoch 36/1000\n",
      "10/10 [==============================] - 5s 470ms/step - loss: 0.8965 - pos_distance: 0.5280 - neg_distance: 0.4244\n",
      "\n",
      "Epoch 00036: loss did not improve from 0.89334\n",
      "Epoch 37/1000\n",
      "10/10 [==============================] - 5s 464ms/step - loss: 0.9008 - pos_distance: 0.5285 - neg_distance: 0.4293\n",
      "\n",
      "Epoch 00037: loss did not improve from 0.89334\n",
      "Epoch 38/1000\n",
      "10/10 [==============================] - 5s 469ms/step - loss: 0.8953 - pos_distance: 0.5375 - neg_distance: 0.4328\n",
      "\n",
      "Epoch 00038: loss did not improve from 0.89334\n",
      "Epoch 39/1000\n",
      "10/10 [==============================] - 5s 469ms/step - loss: 0.8928 - pos_distance: 0.5205 - neg_distance: 0.4134\n",
      "\n",
      "Epoch 00039: loss improved from 0.89334 to 0.89282, saving model to baseline_1000epoch_10steps_1024batch(eclipse).hdf5\n",
      "Epoch 40/1000\n",
      "10/10 [==============================] - 5s 471ms/step - loss: 0.8826 - pos_distance: 0.5236 - neg_distance: 0.4062\n",
      "\n",
      "Epoch 00040: loss improved from 0.89282 to 0.88263, saving model to baseline_1000epoch_10steps_1024batch(eclipse).hdf5\n",
      "Epoch 41/1000\n",
      "10/10 [==============================] - 5s 466ms/step - loss: 0.8922 - pos_distance: 0.5206 - neg_distance: 0.4128\n",
      "\n",
      "Epoch 00041: loss did not improve from 0.88263\n",
      "Epoch 42/1000\n",
      "10/10 [==============================] - 5s 465ms/step - loss: 0.8881 - pos_distance: 0.5131 - neg_distance: 0.4012\n",
      "\n",
      "Epoch 00042: loss did not improve from 0.88263\n",
      "Epoch 43/1000\n",
      "10/10 [==============================] - 5s 469ms/step - loss: 0.8803 - pos_distance: 0.5268 - neg_distance: 0.4071\n",
      "\n",
      "Epoch 00043: loss improved from 0.88263 to 0.88026, saving model to baseline_1000epoch_10steps_1024batch(eclipse).hdf5\n",
      "Epoch 44/1000\n",
      "10/10 [==============================] - 5s 468ms/step - loss: 0.8859 - pos_distance: 0.5468 - neg_distance: 0.4326\n",
      "\n",
      "Epoch 00052: loss did not improve from 0.87127\n",
      "Epoch 53/1000\n",
      "10/10 [==============================] - 5s 467ms/step - loss: 0.8672 - pos_distance: 0.5193 - neg_distance: 0.3865\n",
      "\n",
      "Epoch 00053: loss improved from 0.87127 to 0.86723, saving model to baseline_1000epoch_10steps_1024batch(eclipse).hdf5\n",
      "Epoch 54/1000\n",
      "10/10 [==============================] - 5s 468ms/step - loss: 0.8618 - pos_distance: 0.4885 - neg_distance: 0.3503\n",
      "\n",
      "Epoch 00054: loss improved from 0.86723 to 0.86182, saving model to baseline_1000epoch_10steps_1024batch(eclipse).hdf5\n",
      "Epoch 55/1000\n",
      "10/10 [==============================] - 5s 471ms/step - loss: 0.8537 - pos_distance: 0.5149 - neg_distance: 0.3686\n",
      "\n",
      "Epoch 00055: loss improved from 0.86182 to 0.85366, saving model to baseline_1000epoch_10steps_1024batch(eclipse).hdf5\n",
      "Epoch 56/1000\n",
      "10/10 [==============================] - 5s 473ms/step - loss: 0.8687 - pos_distance: 0.4939 - neg_distance: 0.3626\n",
      "\n",
      "Epoch 00056: loss did not improve from 0.85366\n",
      "Epoch 57/1000\n",
      "10/10 [==============================] - 5s 471ms/step - loss: 0.8590 - pos_distance: 0.4829 - neg_distance: 0.3419\n",
      "\n",
      "Epoch 00057: loss did not improve from 0.85366\n",
      "Epoch 58/1000\n",
      "10/10 [==============================] - 5s 469ms/step - loss: 0.8607 - pos_distance: 0.4860 - neg_distance: 0.3466\n",
      "\n",
      "Epoch 00058: loss did not improve from 0.85366\n",
      "Epoch 59/1000\n",
      "10/10 [==============================] - 5s 471ms/step - loss: 0.8665 - pos_distance: 0.5049 - neg_distance: 0.3714\n",
      "\n",
      "Epoch 00059: loss did not improve from 0.85366\n",
      "Epoch 60/1000\n",
      "10/10 [==============================] - 5s 469ms/step - loss: 0.8685 - pos_distance: 0.4923 - neg_distance: 0.3608\n",
      "\n",
      "Epoch 00060: loss did not improve from 0.85366\n",
      "Epoch 61/1000\n"
     ]
    },
    {
     "name": "stdout",
     "output_type": "stream",
     "text": [
      "10/10 [==============================] - 5s 473ms/step - loss: 0.8578 - pos_distance: 0.4854 - neg_distance: 0.3432\n",
      "\n",
      "Epoch 00061: loss did not improve from 0.85366\n",
      "Epoch 62/1000\n",
      "10/10 [==============================] - 5s 469ms/step - loss: 0.8563 - pos_distance: 0.4804 - neg_distance: 0.3367\n",
      "\n",
      "Epoch 00062: loss did not improve from 0.85366\n",
      "Epoch 63/1000\n",
      "10/10 [==============================] - 5s 471ms/step - loss: 0.8619 - pos_distance: 0.4859 - neg_distance: 0.3479\n",
      "\n",
      "Epoch 00063: loss did not improve from 0.85366\n",
      "Epoch 64/1000\n",
      "10/10 [==============================] - 5s 471ms/step - loss: 0.8521 - pos_distance: 0.4975 - neg_distance: 0.3496\n",
      "\n",
      "Epoch 00064: loss improved from 0.85366 to 0.85209, saving model to baseline_1000epoch_10steps_1024batch(eclipse).hdf5\n",
      "Epoch 65/1000\n",
      "10/10 [==============================] - 5s 473ms/step - loss: 0.8503 - pos_distance: 0.4798 - neg_distance: 0.3302\n",
      "\n",
      "Epoch 00065: loss improved from 0.85209 to 0.85033, saving model to baseline_1000epoch_10steps_1024batch(eclipse).hdf5\n",
      "Epoch 66/1000\n",
      "10/10 [==============================] - 5s 472ms/step - loss: 0.8435 - pos_distance: 0.5003 - neg_distance: 0.3438\n",
      "\n",
      "Epoch 00066: loss improved from 0.85033 to 0.84352, saving model to baseline_1000epoch_10steps_1024batch(eclipse).hdf5\n",
      "Epoch 67/1000\n",
      "10/10 [==============================] - 5s 475ms/step - loss: 0.8523 - pos_distance: 0.4730 - neg_distance: 0.3253\n",
      "\n",
      "Epoch 00067: loss did not improve from 0.84352\n",
      "Epoch 68/1000\n",
      "10/10 [==============================] - 5s 472ms/step - loss: 0.8496 - pos_distance: 0.4795 - neg_distance: 0.3291\n",
      "\n",
      "Epoch 00068: loss did not improve from 0.84352\n",
      "Epoch 69/1000\n",
      "10/10 [==============================] - 5s 470ms/step - loss: 0.8438 - pos_distance: 0.4917 - neg_distance: 0.3355\n",
      "\n",
      "Epoch 00069: loss did not improve from 0.84352\n",
      "Epoch 70/1000\n",
      "10/10 [==============================] - 5s 471ms/step - loss: 0.8359 - pos_distance: 0.5039 - neg_distance: 0.3398\n",
      "\n",
      "Epoch 00070: loss improved from 0.84352 to 0.83591, saving model to baseline_1000epoch_10steps_1024batch(eclipse).hdf5\n",
      "Epoch 71/1000\n",
      "10/10 [==============================] - 5s 473ms/step - loss: 0.8443 - pos_distance: 0.4789 - neg_distance: 0.3232\n",
      "\n",
      "Epoch 00071: loss did not improve from 0.83591\n",
      "Epoch 72/1000\n",
      "10/10 [==============================] - 5s 472ms/step - loss: 0.8497 - pos_distance: 0.4990 - neg_distance: 0.3487\n",
      "\n",
      "Epoch 00072: loss did not improve from 0.83591\n",
      "Epoch 73/1000\n",
      "10/10 [==============================] - 5s 469ms/step - loss: 0.8376 - pos_distance: 0.4972 - neg_distance: 0.3348\n",
      "\n",
      "Epoch 00073: loss did not improve from 0.83591\n",
      "Epoch 74/1000\n",
      "10/10 [==============================] - 5s 467ms/step - loss: 0.8489 - pos_distance: 0.4869 - neg_distance: 0.3359\n",
      "\n",
      "Epoch 00074: loss did not improve from 0.83591\n",
      "Epoch 75/1000\n",
      "10/10 [==============================] - 5s 472ms/step - loss: 0.8454 - pos_distance: 0.4804 - neg_distance: 0.3258\n",
      "\n",
      "Epoch 00075: loss did not improve from 0.83591\n",
      "Epoch 76/1000\n",
      "10/10 [==============================] - 5s 472ms/step - loss: 0.8391 - pos_distance: 0.4972 - neg_distance: 0.3363\n",
      "\n",
      "Epoch 00076: loss did not improve from 0.83591\n",
      "Epoch 77/1000\n",
      "10/10 [==============================] - 5s 471ms/step - loss: 0.8403 - pos_distance: 0.4763 - neg_distance: 0.3166\n",
      "\n",
      "Epoch 00077: loss did not improve from 0.83591\n",
      "Epoch 78/1000\n",
      "10/10 [==============================] - 5s 472ms/step - loss: 0.8306 - pos_distance: 0.4837 - neg_distance: 0.3143\n",
      "\n",
      "Epoch 00078: loss improved from 0.83591 to 0.83059, saving model to baseline_1000epoch_10steps_1024batch(eclipse).hdf5\n",
      "Epoch 79/1000\n",
      "10/10 [==============================] - 5s 474ms/step - loss: 0.8286 - pos_distance: 0.4769 - neg_distance: 0.3055\n",
      "\n",
      "Epoch 00079: loss improved from 0.83059 to 0.82856, saving model to baseline_1000epoch_10steps_1024batch(eclipse).hdf5\n",
      "Epoch 80/1000\n",
      "10/10 [==============================] - 5s 474ms/step - loss: 0.8283 - pos_distance: 0.4794 - neg_distance: 0.3077\n",
      "\n",
      "Epoch 00080: loss improved from 0.82856 to 0.82831, saving model to baseline_1000epoch_10steps_1024batch(eclipse).hdf5\n",
      "Epoch 81/1000\n",
      "10/10 [==============================] - 5s 471ms/step - loss: 0.8251 - pos_distance: 0.4649 - neg_distance: 0.2899\n",
      "\n",
      "Epoch 00081: loss improved from 0.82831 to 0.82508, saving model to baseline_1000epoch_10steps_1024batch(eclipse).hdf5\n",
      "Epoch 82/1000\n",
      "10/10 [==============================] - 5s 473ms/step - loss: 0.8232 - pos_distance: 0.4932 - neg_distance: 0.3163\n",
      "\n",
      "Epoch 00082: loss improved from 0.82508 to 0.82316, saving model to baseline_1000epoch_10steps_1024batch(eclipse).hdf5\n",
      "Epoch 83/1000\n",
      "10/10 [==============================] - 5s 469ms/step - loss: 0.8264 - pos_distance: 0.4798 - neg_distance: 0.3062\n",
      "\n",
      "Epoch 00083: loss did not improve from 0.82316\n",
      "Epoch 84/1000\n",
      "10/10 [==============================] - 5s 473ms/step - loss: 0.8340 - pos_distance: 0.4783 - neg_distance: 0.3122\n",
      "\n",
      "Epoch 00084: loss did not improve from 0.82316\n",
      "Epoch 85/1000\n",
      "10/10 [==============================] - 5s 468ms/step - loss: 0.8319 - pos_distance: 0.4702 - neg_distance: 0.3021\n",
      "\n",
      "Epoch 00085: loss did not improve from 0.82316\n",
      "Epoch 86/1000\n",
      "10/10 [==============================] - 5s 470ms/step - loss: 0.8309 - pos_distance: 0.4752 - neg_distance: 0.3061\n",
      "\n",
      "Epoch 00086: loss did not improve from 0.82316\n",
      "Epoch 87/1000\n",
      "10/10 [==============================] - 5s 475ms/step - loss: 0.8233 - pos_distance: 0.4581 - neg_distance: 0.2814\n",
      "\n",
      "Epoch 00087: loss did not improve from 0.82316\n",
      "Epoch 88/1000\n",
      "10/10 [==============================] - 5s 470ms/step - loss: 0.8257 - pos_distance: 0.4722 - neg_distance: 0.2978\n",
      "\n",
      "Epoch 00088: loss did not improve from 0.82316\n",
      "Epoch 89/1000\n",
      "10/10 [==============================] - 5s 471ms/step - loss: 0.8274 - pos_distance: 0.4586 - neg_distance: 0.2860\n",
      "\n",
      "Epoch 00089: loss did not improve from 0.82316\n",
      "Epoch 90/1000\n",
      "10/10 [==============================] - 5s 471ms/step - loss: 0.8310 - pos_distance: 0.4807 - neg_distance: 0.3118\n",
      "\n",
      "Epoch 00090: loss did not improve from 0.82316\n",
      "Epoch 91/1000\n",
      "10/10 [==============================] - 5s 470ms/step - loss: 0.8263 - pos_distance: 0.4736 - neg_distance: 0.2999\n",
      "\n",
      "Epoch 00091: loss did not improve from 0.82316\n",
      "Epoch 92/1000\n",
      "10/10 [==============================] - 5s 471ms/step - loss: 0.8226 - pos_distance: 0.4785 - neg_distance: 0.3010\n",
      "\n",
      "Epoch 00092: loss improved from 0.82316 to 0.82258, saving model to baseline_1000epoch_10steps_1024batch(eclipse).hdf5\n",
      "Epoch 93/1000\n",
      "10/10 [==============================] - 5s 472ms/step - loss: 0.8107 - pos_distance: 0.4719 - neg_distance: 0.2827\n",
      "\n",
      "Epoch 00093: loss improved from 0.82258 to 0.81072, saving model to baseline_1000epoch_10steps_1024batch(eclipse).hdf5\n",
      "Epoch 94/1000\n",
      "10/10 [==============================] - 5s 471ms/step - loss: 0.8305 - pos_distance: 0.4898 - neg_distance: 0.3204\n",
      "\n",
      "Epoch 00094: loss did not improve from 0.81072\n",
      "Epoch 95/1000\n",
      "10/10 [==============================] - 5s 468ms/step - loss: 0.8305 - pos_distance: 0.5150 - neg_distance: 0.3455\n",
      "\n",
      "Epoch 00095: loss did not improve from 0.81072\n",
      "Epoch 96/1000\n",
      "10/10 [==============================] - 5s 470ms/step - loss: 0.8207 - pos_distance: 0.4794 - neg_distance: 0.3000\n",
      "\n",
      "Epoch 00096: loss did not improve from 0.81072\n",
      "Epoch 97/1000\n",
      "10/10 [==============================] - 5s 472ms/step - loss: 0.8073 - pos_distance: 0.4670 - neg_distance: 0.2743\n",
      "\n",
      "Epoch 00097: loss improved from 0.81072 to 0.80733, saving model to baseline_1000epoch_10steps_1024batch(eclipse).hdf5\n",
      "Epoch 98/1000\n",
      "10/10 [==============================] - 5s 472ms/step - loss: 0.8216 - pos_distance: 0.4709 - neg_distance: 0.2925\n",
      "\n",
      "Epoch 00098: loss did not improve from 0.80733\n",
      "Epoch 99/1000\n",
      "10/10 [==============================] - 5s 471ms/step - loss: 0.8129 - pos_distance: 0.4815 - neg_distance: 0.2944\n",
      "\n",
      "Epoch 00099: loss did not improve from 0.80733\n",
      "Epoch 100/1000\n",
      "10/10 [==============================] - 5s 471ms/step - loss: 0.8127 - pos_distance: 0.4604 - neg_distance: 0.2732\n",
      "\n",
      "Epoch 00100: loss did not improve from 0.80733\n",
      "Epoch 101/1000\n",
      "10/10 [==============================] - 5s 471ms/step - loss: 0.8120 - pos_distance: 0.4583 - neg_distance: 0.2704\n",
      "\n",
      "Epoch 00101: loss did not improve from 0.80733\n",
      "Epoch 102/1000\n"
     ]
    },
    {
     "name": "stdout",
     "output_type": "stream",
     "text": [
      "10/10 [==============================] - 5s 473ms/step - loss: 0.8148 - pos_distance: 0.4790 - neg_distance: 0.2937\n",
      "\n",
      "Epoch 00102: loss did not improve from 0.80733\n",
      "Epoch 103/1000\n",
      "10/10 [==============================] - 5s 472ms/step - loss: 0.8147 - pos_distance: 0.4765 - neg_distance: 0.2912\n",
      "\n",
      "Epoch 00103: loss did not improve from 0.80733\n",
      "Epoch 104/1000\n",
      "10/10 [==============================] - 5s 472ms/step - loss: 0.8212 - pos_distance: 0.4561 - neg_distance: 0.2773\n",
      "\n",
      "Epoch 00104: loss did not improve from 0.80733\n",
      "Epoch 105/1000\n",
      "10/10 [==============================] - 5s 468ms/step - loss: 0.8066 - pos_distance: 0.4704 - neg_distance: 0.2769\n",
      "\n",
      "Epoch 00105: loss improved from 0.80733 to 0.80655, saving model to baseline_1000epoch_10steps_1024batch(eclipse).hdf5\n",
      "Epoch 106/1000\n",
      "10/10 [==============================] - 5s 471ms/step - loss: 0.8039 - pos_distance: 0.4603 - neg_distance: 0.2641\n",
      "\n",
      "Epoch 00106: loss improved from 0.80655 to 0.80389, saving model to baseline_1000epoch_10steps_1024batch(eclipse).hdf5\n",
      "Epoch 107/1000\n",
      "10/10 [==============================] - 5s 472ms/step - loss: 0.8114 - pos_distance: 0.4633 - neg_distance: 0.2746\n",
      "\n",
      "Epoch 00107: loss did not improve from 0.80389\n",
      "Epoch 108/1000\n",
      "10/10 [==============================] - 5s 468ms/step - loss: 0.8028 - pos_distance: 0.4822 - neg_distance: 0.2850\n",
      "\n",
      "Epoch 00108: loss improved from 0.80389 to 0.80277, saving model to baseline_1000epoch_10steps_1024batch(eclipse).hdf5\n",
      "Epoch 109/1000\n",
      "10/10 [==============================] - 5s 466ms/step - loss: 0.8019 - pos_distance: 0.4591 - neg_distance: 0.2611\n",
      "\n",
      "Epoch 00109: loss improved from 0.80277 to 0.80195, saving model to baseline_1000epoch_10steps_1024batch(eclipse).hdf5\n",
      "Epoch 110/1000\n",
      "10/10 [==============================] - 5s 474ms/step - loss: 0.8025 - pos_distance: 0.4740 - neg_distance: 0.2765\n",
      "\n",
      "Epoch 00110: loss did not improve from 0.80195\n",
      "Epoch 111/1000\n",
      "10/10 [==============================] - 5s 470ms/step - loss: 0.8097 - pos_distance: 0.4570 - neg_distance: 0.2667\n",
      "\n",
      "Epoch 00111: loss did not improve from 0.80195\n",
      "Epoch 112/1000\n",
      "10/10 [==============================] - 5s 467ms/step - loss: 0.8053 - pos_distance: 0.4781 - neg_distance: 0.2833\n",
      "\n",
      "Epoch 00112: loss did not improve from 0.80195\n",
      "Epoch 113/1000\n",
      "10/10 [==============================] - 5s 470ms/step - loss: 0.7987 - pos_distance: 0.4690 - neg_distance: 0.2677\n",
      "\n",
      "Epoch 00113: loss improved from 0.80195 to 0.79871, saving model to baseline_1000epoch_10steps_1024batch(eclipse).hdf5\n",
      "Epoch 114/1000\n",
      "10/10 [==============================] - 5s 468ms/step - loss: 0.8012 - pos_distance: 0.4562 - neg_distance: 0.2574\n",
      "\n",
      "Epoch 00114: loss did not improve from 0.79871\n",
      "Epoch 115/1000\n",
      "10/10 [==============================] - 5s 469ms/step - loss: 0.8287 - pos_distance: 0.4699 - neg_distance: 0.2986\n",
      "\n",
      "Epoch 00115: loss did not improve from 0.79871\n",
      "Epoch 116/1000\n",
      "10/10 [==============================] - 5s 472ms/step - loss: 0.8138 - pos_distance: 0.4673 - neg_distance: 0.2811\n",
      "\n",
      "Epoch 00116: loss did not improve from 0.79871\n",
      "Epoch 117/1000\n",
      "10/10 [==============================] - 5s 468ms/step - loss: 0.8041 - pos_distance: 0.4734 - neg_distance: 0.2775\n",
      "\n",
      "Epoch 00117: loss did not improve from 0.79871\n",
      "Epoch 118/1000\n",
      "10/10 [==============================] - 5s 470ms/step - loss: 0.7985 - pos_distance: 0.4644 - neg_distance: 0.2629\n",
      "\n",
      "Epoch 00118: loss improved from 0.79871 to 0.79851, saving model to baseline_1000epoch_10steps_1024batch(eclipse).hdf5\n",
      "Epoch 119/1000\n",
      "10/10 [==============================] - 5s 467ms/step - loss: 0.8128 - pos_distance: 0.4383 - neg_distance: 0.2511\n",
      "\n",
      "Epoch 00119: loss did not improve from 0.79851\n",
      "Epoch 120/1000\n",
      "10/10 [==============================] - 5s 470ms/step - loss: 0.7924 - pos_distance: 0.4799 - neg_distance: 0.2723\n",
      "\n",
      "Epoch 00120: loss improved from 0.79851 to 0.79238, saving model to baseline_1000epoch_10steps_1024batch(eclipse).hdf5\n",
      "Epoch 121/1000\n",
      "10/10 [==============================] - 5s 467ms/step - loss: 0.7928 - pos_distance: 0.4666 - neg_distance: 0.2594\n",
      "\n",
      "Epoch 00121: loss did not improve from 0.79238\n",
      "Epoch 122/1000\n",
      "10/10 [==============================] - 5s 470ms/step - loss: 0.8013 - pos_distance: 0.4747 - neg_distance: 0.2759\n",
      "\n",
      "Epoch 00122: loss did not improve from 0.79238\n",
      "Epoch 123/1000\n",
      "10/10 [==============================] - 5s 467ms/step - loss: 0.7952 - pos_distance: 0.4752 - neg_distance: 0.2704\n",
      "\n",
      "Epoch 00123: loss did not improve from 0.79238\n",
      "Epoch 124/1000\n",
      "10/10 [==============================] - 5s 470ms/step - loss: 0.7965 - pos_distance: 0.4538 - neg_distance: 0.2503\n",
      "\n",
      "Epoch 00124: loss did not improve from 0.79238\n",
      "Epoch 125/1000\n",
      "10/10 [==============================] - 5s 470ms/step - loss: 0.8012 - pos_distance: 0.4680 - neg_distance: 0.2692\n",
      "\n",
      "Epoch 00125: loss did not improve from 0.79238\n",
      "Epoch 126/1000\n",
      "10/10 [==============================] - 5s 469ms/step - loss: 0.7901 - pos_distance: 0.4772 - neg_distance: 0.2673\n",
      "\n",
      "Epoch 00126: loss improved from 0.79238 to 0.79009, saving model to baseline_1000epoch_10steps_1024batch(eclipse).hdf5\n",
      "Epoch 127/1000\n",
      "10/10 [==============================] - 5s 469ms/step - loss: 0.7949 - pos_distance: 0.4713 - neg_distance: 0.2662\n",
      "\n",
      "Epoch 00127: loss did not improve from 0.79009\n",
      "Epoch 128/1000\n",
      "10/10 [==============================] - 5s 466ms/step - loss: 0.7936 - pos_distance: 0.4582 - neg_distance: 0.2518\n",
      "\n",
      "Epoch 00128: loss did not improve from 0.79009\n",
      "Epoch 129/1000\n",
      "10/10 [==============================] - 5s 468ms/step - loss: 0.7989 - pos_distance: 0.4769 - neg_distance: 0.2758\n",
      "\n",
      "Epoch 00129: loss did not improve from 0.79009\n",
      "Epoch 130/1000\n",
      "10/10 [==============================] - 5s 469ms/step - loss: 0.8049 - pos_distance: 0.4772 - neg_distance: 0.2822\n",
      "\n",
      "Epoch 00130: loss did not improve from 0.79009\n",
      "Epoch 131/1000\n",
      "10/10 [==============================] - 5s 468ms/step - loss: 0.7905 - pos_distance: 0.4662 - neg_distance: 0.2567\n",
      "\n",
      "Epoch 00131: loss did not improve from 0.79009\n",
      "Epoch 132/1000\n",
      "10/10 [==============================] - 5s 467ms/step - loss: 0.7953 - pos_distance: 0.4674 - neg_distance: 0.2627\n",
      "\n",
      "Epoch 00132: loss did not improve from 0.79009\n",
      "Epoch 133/1000\n",
      "10/10 [==============================] - 5s 466ms/step - loss: 0.7887 - pos_distance: 0.4776 - neg_distance: 0.2663\n",
      "\n",
      "Epoch 00133: loss improved from 0.79009 to 0.78872, saving model to baseline_1000epoch_10steps_1024batch(eclipse).hdf5\n",
      "Epoch 134/1000\n",
      "10/10 [==============================] - 5s 467ms/step - loss: 0.7954 - pos_distance: 0.4620 - neg_distance: 0.2574\n",
      "\n",
      "Epoch 00134: loss did not improve from 0.78872\n",
      "Epoch 135/1000\n",
      "10/10 [==============================] - 5s 472ms/step - loss: 0.7876 - pos_distance: 0.4511 - neg_distance: 0.2387\n",
      "\n",
      "Epoch 00135: loss improved from 0.78872 to 0.78763, saving model to baseline_1000epoch_10steps_1024batch(eclipse).hdf5\n",
      "Epoch 136/1000\n",
      "10/10 [==============================] - 5s 471ms/step - loss: 0.7807 - pos_distance: 0.4613 - neg_distance: 0.2420\n",
      "\n",
      "Epoch 00136: loss improved from 0.78763 to 0.78069, saving model to baseline_1000epoch_10steps_1024batch(eclipse).hdf5\n",
      "Epoch 137/1000\n",
      "10/10 [==============================] - 5s 470ms/step - loss: 0.7855 - pos_distance: 0.4715 - neg_distance: 0.2570\n",
      "\n",
      "Epoch 00137: loss did not improve from 0.78069\n",
      "Epoch 138/1000\n",
      "10/10 [==============================] - 5s 466ms/step - loss: 0.7916 - pos_distance: 0.4639 - neg_distance: 0.2555\n",
      "\n",
      "Epoch 00138: loss did not improve from 0.78069\n",
      "Epoch 139/1000\n",
      "10/10 [==============================] - 5s 469ms/step - loss: 0.7882 - pos_distance: 0.4707 - neg_distance: 0.2589\n",
      "\n",
      "Epoch 00139: loss did not improve from 0.78069\n",
      "Epoch 140/1000\n",
      "10/10 [==============================] - 5s 467ms/step - loss: 0.7940 - pos_distance: 0.4439 - neg_distance: 0.2379\n",
      "\n",
      "Epoch 00140: loss did not improve from 0.78069\n",
      "Epoch 141/1000\n",
      "10/10 [==============================] - 5s 470ms/step - loss: 0.7824 - pos_distance: 0.4609 - neg_distance: 0.2433\n",
      "\n",
      "Epoch 00141: loss did not improve from 0.78069\n",
      "Epoch 142/1000\n",
      "10/10 [==============================] - 5s 466ms/step - loss: 0.7847 - pos_distance: 0.4626 - neg_distance: 0.2473\n",
      "\n",
      "Epoch 00142: loss did not improve from 0.78069\n",
      "Epoch 143/1000\n"
     ]
    },
    {
     "name": "stdout",
     "output_type": "stream",
     "text": [
      "10/10 [==============================] - 5s 467ms/step - loss: 0.7914 - pos_distance: 0.4726 - neg_distance: 0.2641\n",
      "\n",
      "Epoch 00143: loss did not improve from 0.78069\n",
      "Epoch 144/1000\n",
      "10/10 [==============================] - 5s 472ms/step - loss: 0.7926 - pos_distance: 0.4650 - neg_distance: 0.2576\n",
      "\n",
      "Epoch 00144: loss did not improve from 0.78069\n",
      "Epoch 145/1000\n",
      "10/10 [==============================] - 5s 465ms/step - loss: 0.7972 - pos_distance: 0.4701 - neg_distance: 0.2673\n",
      "\n",
      "Epoch 00145: loss did not improve from 0.78069\n",
      "Epoch 146/1000\n",
      "10/10 [==============================] - 5s 469ms/step - loss: 0.7830 - pos_distance: 0.4873 - neg_distance: 0.2703\n",
      "\n",
      "Epoch 00146: loss did not improve from 0.78069\n",
      "Epoch 147/1000\n",
      "10/10 [==============================] - 5s 470ms/step - loss: 0.8176 - pos_distance: 0.4856 - neg_distance: 0.3032\n",
      "\n",
      "Epoch 00147: loss did not improve from 0.78069\n",
      "Epoch 148/1000\n",
      "10/10 [==============================] - 5s 469ms/step - loss: 0.7915 - pos_distance: 0.4824 - neg_distance: 0.2739\n",
      "\n",
      "Epoch 00148: loss did not improve from 0.78069\n",
      "Epoch 149/1000\n",
      "10/10 [==============================] - 5s 470ms/step - loss: 0.7858 - pos_distance: 0.4839 - neg_distance: 0.2697\n",
      "\n",
      "Epoch 00149: loss did not improve from 0.78069\n",
      "Epoch 150/1000\n",
      "10/10 [==============================] - 5s 468ms/step - loss: 0.7967 - pos_distance: 0.4665 - neg_distance: 0.2632\n",
      "\n",
      "Epoch 00150: loss did not improve from 0.78069\n",
      "Epoch 151/1000\n",
      "10/10 [==============================] - 5s 466ms/step - loss: 0.7870 - pos_distance: 0.4708 - neg_distance: 0.2578\n",
      "\n",
      "Epoch 00151: loss did not improve from 0.78069\n",
      "Epoch 152/1000\n",
      "10/10 [==============================] - 5s 466ms/step - loss: 0.7834 - pos_distance: 0.4750 - neg_distance: 0.2585\n",
      "\n",
      "Epoch 00152: loss did not improve from 0.78069\n",
      "Epoch 153/1000\n",
      "10/10 [==============================] - 5s 468ms/step - loss: 0.7853 - pos_distance: 0.4682 - neg_distance: 0.2535\n",
      "\n",
      "Epoch 00153: loss did not improve from 0.78069\n",
      "Epoch 154/1000\n",
      "10/10 [==============================] - 5s 467ms/step - loss: 0.7876 - pos_distance: 0.4755 - neg_distance: 0.2631\n",
      "\n",
      "Epoch 00154: loss did not improve from 0.78069\n",
      "Epoch 155/1000\n",
      "10/10 [==============================] - 5s 468ms/step - loss: 0.7894 - pos_distance: 0.4667 - neg_distance: 0.2561\n",
      "\n",
      "Epoch 00155: loss did not improve from 0.78069\n",
      "Epoch 156/1000\n",
      "10/10 [==============================] - 5s 470ms/step - loss: 0.7943 - pos_distance: 0.4639 - neg_distance: 0.2582\n",
      "\n",
      "Epoch 00156: loss did not improve from 0.78069\n",
      "Epoch 157/1000\n",
      "10/10 [==============================] - 5s 468ms/step - loss: 0.7820 - pos_distance: 0.4798 - neg_distance: 0.2617\n",
      "\n",
      "Epoch 00157: loss did not improve from 0.78069\n",
      "Epoch 158/1000\n",
      "10/10 [==============================] - 5s 469ms/step - loss: 0.7837 - pos_distance: 0.4517 - neg_distance: 0.2354\n",
      "\n",
      "Epoch 00158: loss did not improve from 0.78069\n",
      "Epoch 159/1000\n",
      "10/10 [==============================] - 5s 467ms/step - loss: 0.7898 - pos_distance: 0.4787 - neg_distance: 0.2685\n",
      "\n",
      "Epoch 00159: loss did not improve from 0.78069\n",
      "Epoch 160/1000\n",
      "10/10 [==============================] - 5s 471ms/step - loss: 0.7857 - pos_distance: 0.4765 - neg_distance: 0.2622\n",
      "\n",
      "Epoch 00160: loss did not improve from 0.78069\n",
      "Epoch 161/1000\n",
      "10/10 [==============================] - 5s 465ms/step - loss: 0.7756 - pos_distance: 0.4600 - neg_distance: 0.2356\n",
      "\n",
      "Epoch 00161: loss improved from 0.78069 to 0.77556, saving model to baseline_1000epoch_10steps_1024batch(eclipse).hdf5\n",
      "Epoch 162/1000\n",
      "10/10 [==============================] - 5s 468ms/step - loss: 0.7797 - pos_distance: 0.4686 - neg_distance: 0.2483\n",
      "\n",
      "Epoch 00162: loss did not improve from 0.77556\n",
      "Epoch 163/1000\n",
      "10/10 [==============================] - 5s 470ms/step - loss: 0.7725 - pos_distance: 0.4657 - neg_distance: 0.2382\n",
      "\n",
      "Epoch 00163: loss improved from 0.77556 to 0.77248, saving model to baseline_1000epoch_10steps_1024batch(eclipse).hdf5\n",
      "Epoch 164/1000\n",
      "10/10 [==============================] - 5s 470ms/step - loss: 0.7731 - pos_distance: 0.4592 - neg_distance: 0.2324\n",
      "\n",
      "Epoch 00164: loss did not improve from 0.77248\n",
      "Epoch 165/1000\n",
      "10/10 [==============================] - 5s 468ms/step - loss: 0.7780 - pos_distance: 0.4780 - neg_distance: 0.2560\n",
      "\n",
      "Epoch 00165: loss did not improve from 0.77248\n",
      "Epoch 166/1000\n",
      "10/10 [==============================] - 5s 471ms/step - loss: 0.7720 - pos_distance: 0.4619 - neg_distance: 0.2338\n",
      "\n",
      "Epoch 00166: loss improved from 0.77248 to 0.77195, saving model to baseline_1000epoch_10steps_1024batch(eclipse).hdf5\n",
      "Epoch 167/1000\n",
      "10/10 [==============================] - 5s 470ms/step - loss: 0.7783 - pos_distance: 0.4722 - neg_distance: 0.2505\n",
      "\n",
      "Epoch 00167: loss did not improve from 0.77195\n",
      "Epoch 168/1000\n",
      "10/10 [==============================] - 5s 462ms/step - loss: 0.7747 - pos_distance: 0.4801 - neg_distance: 0.2548\n",
      "\n",
      "Epoch 00168: loss did not improve from 0.77195\n",
      "Epoch 169/1000\n",
      "10/10 [==============================] - 5s 471ms/step - loss: 0.7773 - pos_distance: 0.4698 - neg_distance: 0.2471\n",
      "\n",
      "Epoch 00169: loss did not improve from 0.77195\n",
      "Epoch 170/1000\n",
      "10/10 [==============================] - 5s 471ms/step - loss: 0.8003 - pos_distance: 0.4774 - neg_distance: 0.2778\n",
      "\n",
      "Epoch 00170: loss did not improve from 0.77195\n",
      "Epoch 171/1000\n",
      "10/10 [==============================] - 5s 461ms/step - loss: 0.7997 - pos_distance: 0.4763 - neg_distance: 0.2760\n",
      "\n",
      "Epoch 00171: loss did not improve from 0.77195\n",
      "Epoch 172/1000\n",
      "10/10 [==============================] - 5s 471ms/step - loss: 0.7892 - pos_distance: 0.4638 - neg_distance: 0.2530\n",
      "\n",
      "Epoch 00172: loss did not improve from 0.77195\n",
      "Epoch 173/1000\n",
      "10/10 [==============================] - 5s 469ms/step - loss: 0.7883 - pos_distance: 0.4617 - neg_distance: 0.2500\n",
      "\n",
      "Epoch 00173: loss did not improve from 0.77195\n",
      "Epoch 174/1000\n",
      "10/10 [==============================] - 5s 469ms/step - loss: 0.8060 - pos_distance: 0.4853 - neg_distance: 0.2913\n",
      "\n",
      "Epoch 00174: loss did not improve from 0.77195\n",
      "Epoch 175/1000\n",
      "10/10 [==============================] - 5s 468ms/step - loss: 0.8075 - pos_distance: 0.4757 - neg_distance: 0.2832\n",
      "\n",
      "Epoch 00175: loss did not improve from 0.77195\n",
      "Epoch 176/1000\n",
      "10/10 [==============================] - 5s 469ms/step - loss: 0.7859 - pos_distance: 0.4946 - neg_distance: 0.2805\n",
      "\n",
      "Epoch 00176: loss did not improve from 0.77195\n",
      "Epoch 177/1000\n",
      "10/10 [==============================] - 5s 468ms/step - loss: 0.7843 - pos_distance: 0.4753 - neg_distance: 0.2596\n",
      "\n",
      "Epoch 00177: loss did not improve from 0.77195\n",
      "Epoch 178/1000\n",
      "10/10 [==============================] - 5s 469ms/step - loss: 0.7853 - pos_distance: 0.4711 - neg_distance: 0.2564\n",
      "\n",
      "Epoch 00178: loss did not improve from 0.77195\n",
      "Epoch 179/1000\n",
      "10/10 [==============================] - 5s 470ms/step - loss: 0.7708 - pos_distance: 0.4838 - neg_distance: 0.2547\n",
      "\n",
      "Epoch 00179: loss improved from 0.77195 to 0.77082, saving model to baseline_1000epoch_10steps_1024batch(eclipse).hdf5\n",
      "Epoch 180/1000\n",
      "10/10 [==============================] - 5s 465ms/step - loss: 0.7714 - pos_distance: 0.4755 - neg_distance: 0.2469\n",
      "\n",
      "Epoch 00180: loss did not improve from 0.77082\n",
      "Epoch 181/1000\n",
      "10/10 [==============================] - 5s 469ms/step - loss: 0.7712 - pos_distance: 0.4808 - neg_distance: 0.2520\n",
      "\n",
      "Epoch 00181: loss did not improve from 0.77082\n",
      "Epoch 182/1000\n",
      "10/10 [==============================] - 5s 467ms/step - loss: 0.7671 - pos_distance: 0.4732 - neg_distance: 0.2404\n",
      "\n",
      "Epoch 00182: loss improved from 0.77082 to 0.76714, saving model to baseline_1000epoch_10steps_1024batch(eclipse).hdf5\n",
      "Epoch 183/1000\n",
      "10/10 [==============================] - 5s 467ms/step - loss: 0.7661 - pos_distance: 0.4709 - neg_distance: 0.2370\n",
      "\n",
      "Epoch 00183: loss improved from 0.76714 to 0.76614, saving model to baseline_1000epoch_10steps_1024batch(eclipse).hdf5\n",
      "Epoch 184/1000\n",
      "10/10 [==============================] - 5s 473ms/step - loss: 0.7706 - pos_distance: 0.4665 - neg_distance: 0.2371\n",
      "\n",
      "Epoch 00184: loss did not improve from 0.76614\n",
      "Epoch 185/1000\n",
      "10/10 [==============================] - 5s 468ms/step - loss: 0.7709 - pos_distance: 0.4594 - neg_distance: 0.2303\n",
      "\n",
      "Epoch 00185: loss did not improve from 0.76614\n",
      "Epoch 186/1000\n"
     ]
    },
    {
     "name": "stdout",
     "output_type": "stream",
     "text": [
      "10/10 [==============================] - 5s 470ms/step - loss: 0.7774 - pos_distance: 0.4732 - neg_distance: 0.2506\n",
      "\n",
      "Epoch 00186: loss did not improve from 0.76614\n",
      "Epoch 187/1000\n",
      "10/10 [==============================] - 5s 466ms/step - loss: 0.7654 - pos_distance: 0.4632 - neg_distance: 0.2286\n",
      "\n",
      "Epoch 00187: loss improved from 0.76614 to 0.76541, saving model to baseline_1000epoch_10steps_1024batch(eclipse).hdf5\n",
      "Epoch 188/1000\n",
      "10/10 [==============================] - 5s 471ms/step - loss: 0.7821 - pos_distance: 0.4705 - neg_distance: 0.2526\n",
      "\n",
      "Epoch 00188: loss did not improve from 0.76541\n",
      "Epoch 189/1000\n",
      "10/10 [==============================] - 5s 468ms/step - loss: 0.7741 - pos_distance: 0.4832 - neg_distance: 0.2573\n",
      "\n",
      "Epoch 00189: loss did not improve from 0.76541\n",
      "Epoch 190/1000\n",
      "10/10 [==============================] - 5s 471ms/step - loss: 0.7636 - pos_distance: 0.4709 - neg_distance: 0.2345\n",
      "\n",
      "Epoch 00190: loss improved from 0.76541 to 0.76361, saving model to baseline_1000epoch_10steps_1024batch(eclipse).hdf5\n",
      "Epoch 191/1000\n",
      "10/10 [==============================] - 5s 468ms/step - loss: 0.7656 - pos_distance: 0.4659 - neg_distance: 0.2315\n",
      "\n",
      "Epoch 00191: loss did not improve from 0.76361\n",
      "Epoch 192/1000\n",
      "10/10 [==============================] - 5s 470ms/step - loss: 0.7641 - pos_distance: 0.4867 - neg_distance: 0.2507\n",
      "\n",
      "Epoch 00192: loss did not improve from 0.76361\n",
      "Epoch 193/1000\n",
      "10/10 [==============================] - 5s 469ms/step - loss: 0.7674 - pos_distance: 0.4805 - neg_distance: 0.2479\n",
      "\n",
      "Epoch 00193: loss did not improve from 0.76361\n",
      "Epoch 194/1000\n",
      "10/10 [==============================] - 5s 470ms/step - loss: 0.7711 - pos_distance: 0.4648 - neg_distance: 0.2359\n",
      "\n",
      "Epoch 00194: loss did not improve from 0.76361\n",
      "Epoch 195/1000\n",
      "10/10 [==============================] - 5s 470ms/step - loss: 0.7748 - pos_distance: 0.4796 - neg_distance: 0.2544\n",
      "\n",
      "Epoch 00195: loss did not improve from 0.76361\n",
      "Epoch 196/1000\n",
      "10/10 [==============================] - 5s 466ms/step - loss: 0.7654 - pos_distance: 0.4782 - neg_distance: 0.2436\n",
      "\n",
      "Epoch 00196: loss did not improve from 0.76361\n",
      "Epoch 197/1000\n",
      "10/10 [==============================] - 5s 469ms/step - loss: 0.7655 - pos_distance: 0.4621 - neg_distance: 0.2276\n",
      "\n",
      "Epoch 00197: loss did not improve from 0.76361\n",
      "Epoch 198/1000\n",
      "10/10 [==============================] - 5s 470ms/step - loss: 0.7756 - pos_distance: 0.4823 - neg_distance: 0.2580\n",
      "\n",
      "Epoch 00198: loss did not improve from 0.76361\n",
      "Epoch 199/1000\n",
      "10/10 [==============================] - 5s 467ms/step - loss: 0.7666 - pos_distance: 0.4759 - neg_distance: 0.2425\n",
      "\n",
      "Epoch 00199: loss did not improve from 0.76361\n",
      "Epoch 200/1000\n",
      " 7/10 [====================>.........] - ETA: 1s - loss: 0.7772 - pos_distance: 0.4876 - neg_distance: 0.2648"
     ]
    }
   ],
   "source": [
    "%%time\n",
    "import keras\n",
    "from keras.callbacks import ModelCheckpoint\n",
    "\n",
    "# Inspired on https://pastebin.com/TaGFdcBA\n",
    "# TODO: https://stackoverflow.com/questions/49941903/keras-compute-cosine-distance-between-two-flattened-outputs\n",
    "keras.backend.clear_session()\n",
    "\n",
    "number_of_columns_info = valid_input_sample['info'].shape[1]\n",
    "\n",
    "cnn_feature_model = cnn_model(embeddings=baseline.embedding_matrix, \n",
    "                              num_words=len(baseline.word_index) + 1, \n",
    "                              embedding_dim=EMBEDDING_DIM, \n",
    "                              max_sequence_length=MAX_SEQUENCE_LENGTH_D, \n",
    "                              trainable=False)\n",
    "\n",
    "lstm_feature_model = lstm_model(embeddings=baseline.embedding_matrix, \n",
    "                              num_words=len(baseline.word_index) + 1, \n",
    "                              embedding_dim=EMBEDDING_DIM, \n",
    "                              max_sequence_length=MAX_SEQUENCE_LENGTH_T, \n",
    "                              trainable=False)\n",
    "\n",
    "mlp_feature_model = mlp_model(number_of_columns_info)\n",
    "\n",
    "similarity_model = siamese_model(lstm_feature_model, cnn_feature_model, mlp_feature_model, \n",
    "                                     number_of_columns_info, MAX_SEQUENCE_LENGTH_T, MAX_SEQUENCE_LENGTH_D)\n",
    "\n",
    "# cnn_feature_model.summary()\n",
    "# lstm_feature_model.summary()\n",
    "similarity_model.summary()\n",
    "\n",
    "tbCallBack = keras.callbacks.TensorBoard(log_dir='logs/training', histogram_freq=0, write_graph=True, write_images=True)\n",
    "# checkpoint\n",
    "filepath=\"baseline_1000epoch_10steps_1024batch(eclipse).hdf5\"\n",
    "checkpoint = ModelCheckpoint(filepath, monitor='loss', verbose=1, save_best_only=True, mode='min')\n",
    "\n",
    "h = similarity_model.fit_generator(train_gen, \n",
    "                               steps_per_epoch = 10,\n",
    "                               #validation_data=test_gen, # \n",
    "                                             epochs = 1000,\n",
    "                                             verbose = True,\n",
    "                                               callbacks=[tbCallBack, checkpoint]\n",
    "                                              )  # "
   ]
  },
  {
   "cell_type": "code",
   "execution_count": 25,
   "metadata": {
    "scrolled": true
   },
   "outputs": [
    {
     "data": {
      "image/png": "[encoded data removed]",
      "text/plain": [
       "<Figure size 432x288 with 1 Axes>"
      ]
     },
     "metadata": {
      "needs_background": "light"
     },
     "output_type": "display_data"
    }
   ],
   "source": [
    "loss=h.history['loss']\n",
    "\n",
    "plt.plot(loss, label='loss')\n",
    "plt.title('model loss')\n",
    "plt.ylabel('loss')\n",
    "plt.xlabel('epoch')\n",
    "plt.legend(['train'], loc='upper left')\n",
    "plt.show()"
   ]
  },
  {
   "cell_type": "code",
   "execution_count": 26,
   "metadata": {
    "scrolled": false
   },
   "outputs": [
    {
     "data": {
      "image/png": "[encoded data removed]",
      "text/plain": [
       "<Figure size 720x720 with 1 Axes>"
      ]
     },
     "metadata": {
      "needs_background": "light"
     },
     "output_type": "display_data"
    },
    {
     "name": "stdout",
     "output_type": "stream",
     "text": [
      "CPU times: user 2.91 s, sys: 1.37 s, total: 4.28 s\n",
      "Wall time: 3.15 s\n"
     ]
    }
   ],
   "source": [
    "%%time\n",
    "baseline.display_embed_space(similarity_model, 128)"
   ]
  },
  {
   "cell_type": "code",
   "execution_count": 27,
   "metadata": {},
   "outputs": [
    {
     "name": "stdout",
     "output_type": "stream",
     "text": [
      "Saved model to disk\n"
     ]
    }
   ],
   "source": [
    "name = 'baseline_1000epoch_10steps_1024batch(eclipse)'\n",
    "Baseline.save_model('', similarity_model, name)"
   ]
  }
 ],
 "metadata": {
  "accelerator": "GPU",
  "colab": {
   "collapsed_sections": [],
   "name": "[baseline] Bug triage with Deep Learning.ipynb",
   "provenance": [],
   "toc_visible": true,
   "version": "0.3.2"
  },
  "kernelspec": {
   "display_name": "Python 3",
   "language": "python",
   "name": "python3"
  },
  "language_info": {
   "codemirror_mode": {
    "name": "ipython",
    "version": 3
   },
   "file_extension": ".py",
   "mimetype": "text/x-python",
   "name": "python",
   "nbconvert_exporter": "python",
   "pygments_lexer": "ipython3",
   "version": "3.5.2"
  }
 },
 "nbformat": 4,
 "nbformat_minor": 1
}
