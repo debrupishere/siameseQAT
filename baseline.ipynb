{
 "cells": [
  {
   "cell_type": "markdown",
   "metadata": {
    "colab_type": "text",
    "id": "PtdA1qs_UQP1"
   },
   "source": [
    "# Bug triage with Deep Learning"
   ]
  },
  {
   "cell_type": "code",
   "execution_count": 1,
   "metadata": {},
   "outputs": [
    {
     "name": "stderr",
     "output_type": "stream",
     "text": [
      "Using TensorFlow backend.\n"
     ]
    }
   ],
   "source": [
    "import keras"
   ]
  },
  {
   "cell_type": "code",
   "execution_count": 2,
   "metadata": {
    "colab": {},
    "colab_type": "code",
    "id": "qnSCLmiomFE1"
   },
   "outputs": [],
   "source": [
    "from __future__ import print_function, division"
   ]
  },
  {
   "cell_type": "code",
   "execution_count": 3,
   "metadata": {
    "colab": {},
    "colab_type": "code",
    "id": "OIha-SERnD72"
   },
   "outputs": [],
   "source": [
    "import re\n",
    "import numpy as np\n",
    "import pandas as pd\n",
    "\n",
    "import os\n",
    "from tqdm import tqdm\n",
    "import matplotlib.pyplot as plt\n",
    "import sys\n",
    "nb_dir = os.path.split(os.getcwd())[0]\n",
    "if nb_dir not in sys.path:\n",
    "    sys.path.append(nb_dir)\n",
    "    \n",
    "%matplotlib inline"
   ]
  },
  {
   "cell_type": "code",
   "execution_count": 4,
   "metadata": {
    "colab": {
     "base_uri": "https://localhost:8080/",
     "height": 34
    },
    "colab_type": "code",
    "id": "c57gQiuAnJAe",
    "outputId": "9eaf2d3f-619a-492d-f40b-6ba2c48426fa"
   },
   "outputs": [],
   "source": [
    "from keras.layers import Conv1D, Input, Add, Activation, Dropout, Embedding, MaxPooling1D, GlobalMaxPool1D, Flatten, Dense, Concatenate, BatchNormalization\n",
    "from keras.models import Sequential, Model\n",
    "from keras.regularizers import l2\n",
    "from keras.initializers import TruncatedNormal\n",
    "from keras.layers.advanced_activations import LeakyReLU, ELU\n",
    "from keras import optimizers"
   ]
  },
  {
   "cell_type": "code",
   "execution_count": 5,
   "metadata": {},
   "outputs": [],
   "source": [
    "from methods.baseline import Baseline"
   ]
  },
  {
   "cell_type": "markdown",
   "metadata": {
    "colab_type": "text",
    "id": "3VUZ6oG1gb91"
   },
   "source": [
    "## Auxiliary methods"
   ]
  },
  {
   "cell_type": "markdown",
   "metadata": {
    "colab_type": "text",
    "id": "8uQou7m2-bFO"
   },
   "source": [
    "## Configurações Globais"
   ]
  },
  {
   "cell_type": "code",
   "execution_count": 6,
   "metadata": {
    "colab": {},
    "colab_type": "code",
    "id": "G-Kn3x_K-aZj"
   },
   "outputs": [],
   "source": [
    "MAX_SEQUENCE_LENGTH_T = 20 # 40\n",
    "MAX_SEQUENCE_LENGTH_D = 200 # 200\n",
    "EMBEDDING_DIM = 300\n",
    "MAX_NB_WORDS = 2000"
   ]
  },
  {
   "cell_type": "markdown",
   "metadata": {},
   "source": [
    "### Parse bugs preproprecessed"
   ]
  },
  {
   "cell_type": "code",
   "execution_count": 7,
   "metadata": {},
   "outputs": [],
   "source": [
    "# Domain to use\n",
    "DOMAIN = 'eclipse'\n",
    "# Dataset paths\n",
    "DIR = 'data/processed/{}'.format(DOMAIN)\n",
    "DIR_PAIRS = 'data/normalized/{}'.format(DOMAIN)\n",
    "DATASET = os.path.join('data/normalized/{}'.format(DOMAIN), '{}.csv'.format(DOMAIN))\n",
    "# Glove embeddings\n",
    "GLOVE_DIR='data/embed'\n",
    "# Log keras\n",
    "LOG_DIR='logs/training'\n",
    "# Checkpoint keras\n",
    "FILE_PATH = \"checkpoint_baseline_1000epoch_10steps_1024batch({})\".format(DOMAIN)\n",
    "# Save model\n",
    "SAVE_PATH = 'baseline_1000epoch_10steps_1024batch({})'.format(DOMAIN)"
   ]
  },
  {
   "cell_type": "code",
   "execution_count": 8,
   "metadata": {},
   "outputs": [],
   "source": [
    "baseline = Baseline(DIR, DATASET, MAX_SEQUENCE_LENGTH_T, MAX_SEQUENCE_LENGTH_D)"
   ]
  },
  {
   "cell_type": "markdown",
   "metadata": {},
   "source": [
    "#### Loading bug ids in memory"
   ]
  },
  {
   "cell_type": "code",
   "execution_count": 9,
   "metadata": {},
   "outputs": [
    {
     "data": {
      "text/plain": [
       "212512"
      ]
     },
     "execution_count": 9,
     "metadata": {},
     "output_type": "execute_result"
    }
   ],
   "source": [
    "baseline.load_ids(DIR)\n",
    "len(baseline.bug_ids)"
   ]
  },
  {
   "cell_type": "markdown",
   "metadata": {
    "colab_type": "text",
    "id": "vqzt5EKzqzcI"
   },
   "source": [
    "### Dicionário de títulos e descrições"
   ]
  },
  {
   "cell_type": "code",
   "execution_count": 10,
   "metadata": {
    "scrolled": false
   },
   "outputs": [
    {
     "data": {
      "application/vnd.jupyter.widget-view+json": {
       "model_id": "c4254df0be3142208a525d6808100650",
       "version_major": 2,
       "version_minor": 0
      },
      "text/plain": [
       "HBox(children=(IntProgress(value=0, max=212512), HTML(value='')))"
      ]
     },
     "metadata": {},
     "output_type": "display_data"
    },
    {
     "name": "stdout",
     "output_type": "stream",
     "text": [
      "\n",
      "Wall time: 2h 52min 37s\n"
     ]
    }
   ],
   "source": [
    "%%time\n",
    "\n",
    "baseline.load_preprocess()\n",
    "len(baseline.sentence_dict)"
   ]
  },
  {
   "cell_type": "markdown",
   "metadata": {
    "colab_type": "text",
    "id": "J0WZNngemNM8"
   },
   "source": [
    "## Geração de batches"
   ]
  },
  {
   "cell_type": "markdown",
   "metadata": {
    "colab_type": "text",
    "id": "a6Obtop6UIVD"
   },
   "source": [
    "### Generating tiple of batches"
   ]
  },
  {
   "cell_type": "code",
   "execution_count": 11,
   "metadata": {
    "colab": {},
    "colab_type": "code",
    "id": "vvyMGBD4IhB-"
   },
   "outputs": [
    {
     "name": "stdout",
     "output_type": "stream",
     "text": [
      "Reading train data\n",
      "Reading the test...\n"
     ]
    },
    {
     "data": {
      "application/vnd.jupyter.widget-view+json": {
       "model_id": "23160cd7c3ad48db949a3235db3fc9b7",
       "version_major": 2,
       "version_minor": 0
      },
      "text/plain": [
       "HBox(children=(IntProgress(value=1, bar_style='info', max=1), HTML(value='')))"
      ]
     },
     "metadata": {},
     "output_type": "display_data"
    },
    {
     "name": "stdout",
     "output_type": "stream",
     "text": [
      "\n",
      "Reading test data\n",
      "Wall time: 3.55 s\n"
     ]
    }
   ],
   "source": [
    "%%time\n",
    "baseline.prepare_dataset()"
   ]
  },
  {
   "cell_type": "code",
   "execution_count": 12,
   "metadata": {
    "scrolled": false
   },
   "outputs": [
    {
     "data": {
      "application/vnd.jupyter.widget-view+json": {
       "model_id": "1ec265a061a14390a37311f8ea11ec65",
       "version_major": 2,
       "version_minor": 0
      },
      "text/plain": [
       "HBox(children=(IntProgress(value=0, max=212512), HTML(value='')))"
      ]
     },
     "metadata": {},
     "output_type": "display_data"
    },
    {
     "name": "stdout",
     "output_type": "stream",
     "text": [
      "\n"
     ]
    }
   ],
   "source": [
    "baseline.load_bugs()"
   ]
  },
  {
   "cell_type": "code",
   "execution_count": 13,
   "metadata": {},
   "outputs": [
    {
     "data": {
      "text/plain": [
       "{'bug_severity': '6\\n',\n",
       " 'bug_status': '1\\n',\n",
       " 'component': '227\\n',\n",
       " 'creation_ts': '2001-10-10 22:38:00 -0400',\n",
       " 'delta_ts': '2005-05-10 14:55:51 -0400',\n",
       " 'description': 'steps minimize all your windows go to any window and select the window menu pick any window notice that it only gets selected and not maximized this happens in country as well notes',\n",
       " 'description_word': array([   0,    0,    0,    0,    0,    0,    0,    0,    0,    0,    0,\n",
       "           0,    0,    0,    0,    0,    0,    0,    0,    0,    0,    0,\n",
       "           0,    0,    0,    0,    0,    0,    0,    0,    0,    0,    0,\n",
       "           0,    0,    0,    0,    0,    0,    0,    0,    0,    0,    0,\n",
       "           0,    0,    0,    0,    0,    0,    0,    0,    0,    0,    0,\n",
       "           0,    0,    0,    0,    0,    0,    0,    0,    0,    0,    0,\n",
       "           0,    0,    0,    0,    0,    0,    0,    0,    0,    0,    0,\n",
       "           0,    0,    0,    0,    0,    0,    0,    0,    0,    0,    0,\n",
       "           0,    0,    0,    0,    0,    0,    0,    0,    0,    0,    0,\n",
       "           0,    0,    0,    0,    0,    0,    0,    0,    0,    0,    0,\n",
       "           0,    0,    0,    0,    0,    0,    0,    0,    0,    0,    0,\n",
       "           0,    0,    0,    0,    0,    0,    0,    0,    0,    0,    0,\n",
       "           0,    0,    0,    0,    0,    0,    0,    0,    0,    0,    0,\n",
       "           0,    0,    0,    0,    0,    0,    0,    0,    0,    0,    0,\n",
       "           0,    0,    0,    0,    0,    0,    0,    0,    0,    0,    0,\n",
       "           0,    0,  288, 3294,  110,  664,  304,  483,    8,  251,   71,\n",
       "          17,  164,    6,   71,  216, 2091,  251,   71, 1021,   31,   24,\n",
       "         176,  891,  310,   17,   21, 3619,   25,  723,   12,   81,   53,\n",
       "         680, 1329]),\n",
       " 'dup_id': '[]',\n",
       " 'issue_id': 2521,\n",
       " 'priority': '0\\n',\n",
       " 'product': '102\\n',\n",
       " 'resolution': 'FIXED',\n",
       " 'title': 'selecting a window in the window menu does not maximize window gfitic',\n",
       " 'title_word': array([   0,    0,    0,    0,    0,    0,    0,    0, 1149,   11,   71,\n",
       "          12,    6,   71,  216,  138,   21, 3342,   71,    1]),\n",
       " 'version': '491\\n'}"
      ]
     },
     "execution_count": 13,
     "metadata": {},
     "output_type": "execute_result"
    }
   ],
   "source": [
    "baseline.bug_set[2521]"
   ]
  },
  {
   "cell_type": "code",
   "execution_count": 14,
   "metadata": {
    "colab": {
     "base_uri": "https://localhost:8080/",
     "height": 51
    },
    "colab_type": "code",
    "id": "PA5CIhgz7odW",
    "outputId": "ae98fdec-1d54-4b1f-ee0e-4c5633802a18",
    "scrolled": true
   },
   "outputs": [
    {
     "name": "stdout",
     "output_type": "stream",
     "text": [
      "Wall time: 256 ms\n"
     ]
    }
   ],
   "source": [
    "%%time\n",
    "\n",
    "batch_size = 1024\n",
    "batch_size_test = 512\n",
    "\n",
    "# we want a constant validation group to have a frame of reference for model performance\n",
    "train_gen = baseline.siam_gen(baseline.train_data, baseline.dup_sets_train, batch_size, 1)\n",
    "valid_input_sample, valid_input_pos, valid_input_neg, valid_sim = baseline.batch_iterator(baseline.train_data, \n",
    "                                                                                          baseline.dup_sets_train, \n",
    "                                                                                          batch_size_test, 1)\n",
    "test_gen = ([valid_input_sample['title'], valid_input_pos['title'], valid_input_neg['title'], \n",
    "             valid_input_sample['description'], valid_input_pos['description'], valid_input_neg['description']], valid_sim)"
   ]
  },
  {
   "cell_type": "code",
   "execution_count": 15,
   "metadata": {},
   "outputs": [
    {
     "data": {
      "text/plain": [
       "((512, 20), (512, 200), (512, 1682), (512,))"
      ]
     },
     "execution_count": 15,
     "metadata": {},
     "output_type": "execute_result"
    }
   ],
   "source": [
    "valid_input_sample['title'].shape, valid_input_sample['description'].shape, valid_input_sample['info'].shape, valid_sim.shape"
   ]
  },
  {
   "cell_type": "markdown",
   "metadata": {
    "colab_type": "text",
    "id": "24mY22BGnkqp"
   },
   "source": [
    "### Validar entrada"
   ]
  },
  {
   "cell_type": "code",
   "execution_count": 16,
   "metadata": {
    "colab": {
     "base_uri": "https://localhost:8080/",
     "height": 796
    },
    "colab_type": "code",
    "id": "OhTbr3a5nmrh",
    "outputId": "a2d73e0f-e9ce-4d12-a5c8-f0008d2402d0",
    "scrolled": true
   },
   "outputs": [
    {
     "name": "stdout",
     "output_type": "stream",
     "text": [
      "***Title***: the editor does not set the archive attribute\n",
      "***Title***: ressource changes leave archive bit unaffected\n",
      "***Description***: the file system in organization offers a functionality for the taking of incremental backups files created and modified get the archive attribute set organization backup tools in general including organization can take incremental backups based on the archive attribute if set the file is backed up and the attribute is cleared it turns out that organization s editor modifies files without setting the archive attribute this is probably a typical organization feature and i know your aim at implementing features on an operating system independent level which i highly respect however i use this attribute for my record of files that should be checked in to organization in date i reset the bit after the daily morning organization checkout and can look for files dir aa s java that have been modified or created when summarizing date s work in date organization build best regards gunnar mj ã berg\n",
      "***Description***: on the target plat person the archive bit of file system resources is used to determine if resource should be included into a backup during the course of a backup this archive bit is reset applications that modify a resource should always set this archive bit indicating that the file needs to be included into the next backup my observation with resources in the person workspace is that the archive bit is set only when a resource is created but not when the resource is changed subsequently when running incremental backups on a periodical base this causes only new workspace resource to be backed up but not modified resources in my case this left me with an inconsistent workspace after restoring the complete workspace after a disk failure\n",
      "***similar = 1\n",
      "########################\n",
      "***Title***: could not open the editor argument not valid when opening a organization\n",
      "***Title***: organization editor throws an illegal argument exception\n"
     ]
    },
    {
     "name": "stdout",
     "output_type": "stream",
     "text": [
      "***Description***: build id i steps to reproduce open a organization file using organization organization editor the organization file contains jsp use bean scriptlet javascript organization etc more information the following exception was printed out on organization java lang illegal argument exception argument not valid at org eclipse swt swt error swt java at org eclipse swt swt error swt java at org eclipse swt swt error swt java at org eclipse swt custom styled text set style ranges styled text java at org eclipse swt custom styled text replace style ranges styled text java at org eclipse jface text text viewer add presentation text viewer java at org eclipse jface text text viewer change text presentation text viewer java at org eclipse wst sse ui internal provisional style structured presentation reconciler apply text region collection structured presentation reconciler java at org eclipse wst sse ui internal provisional style structured presentation reconciler process damage structured presentation reconciler java at org eclipse wst sse ui internal provisional style structured presentation reconciler internal listener input document changed structured presentation reconciler java at org eclipse wst sse ui internal provisional style structured presentation reconciler install structured presentation reconciler java at org eclipse wst sse ui internal structured text viewer update highlighter structured text viewer java at org eclipse wst sse ui internal structured text viewer set document structured text viewer java at org eclipse jface text source source viewer set document source viewer java at org eclipse ui texteditor abstract text editor initialize source viewer abstract text editor java at org eclipse ui texteditor abstract text editor create part control abstract text editor java at org eclipse ui texteditor status text editor create part control status text editor java at org eclipse ui texteditor abstract decorated text editor create part control abstract decorated text editor java at org eclipse wst sse ui structured text editor create part control structured text editor java at org eclipse ui internal editor reference create part helper editor reference java at org eclipse ui internal editor reference create part editor reference java at org eclipse ui internal workbench part reference get part workbench part reference java at org eclipse ui internal part pane set visible part pane java at org eclipse ui internal presentations presentable part set visible presentable part java at org eclipse ui internal presentations util presentable part folder select presentable part folder java at org eclipse ui internal presentations util left to right tab order select left to right tab order java at org eclipse ui internal presentations util tabbed stack presentation select part tabbed stack presentation java at org eclipse ui internal part stack refresh presentation selection part stack java at org eclipse ui internal part stack set selection part stack java at org eclipse ui internal part stack show part part stack java at org eclipse ui internal part stack add part stack java at org eclipse ui internal editor stack add editor stack java at org eclipse ui internal part stack add part stack java at org eclipse ui internal editor stack add editor stack java at org eclipse ui internal editor sash container add editor editor sash container java at org eclipse ui internal editor area helper add to layout editor area helper java at org eclipse ui internal editor area helper add editor editor area helper java at org eclipse ui internal editor manager create editor tab editor manager java at org eclipse ui internal editor manager open editor from descriptor editor manager java at org eclipse ui internal editor manager open editor editor manager java at org eclipse ui internal workbench page busy open editor batched workbench page java at org eclipse ui internal workbench page busy open editor workbench page java at org eclipse ui internal workbench page access workbench page java at org eclipse ui internal workbench page run workbench page java at org eclipse swt custom busy indicator show while busy indicator java at org eclipse ui internal workbench page open editor workbench page java at org eclipse ui internal workbench page open editor workbench page java at org eclipse ui internal workbench page open editor workbench page java at org eclipse ui ide ide open editor ide java at org eclipse ui ide ide open editor ide java at org eclipse jdt internal ui javaeditor editor utility open in editor editor utility java at org eclipse jdt internal ui javaeditor editor utility open in editor editor utility java at org eclipse jdt ui actions open action run open action java at org eclipse jdt ui actions open action run open action java at org eclipse jdt ui actions selection dispatch action dispatch run selection dispatch action java at org eclipse jdt ui actions selection dispatch action run selection dispatch action java at org eclipse jdt internal ui navigator open and expand run open and expand java at org eclipse ui actions retarget action run retarget action java at org eclipse ui internal navigator common navigator manager open common navigator manager java at org eclipse jface viewers structured viewer run structured viewer java at org eclipse core runtime safe runner run safe runner java at org eclipse core runtime platform run platform java at org eclipse ui internal jface util run jface util java at org eclipse jface util safe runnable run safe runnable java at org eclipse jface viewers structured viewer fire open structured viewer java at org eclipse jface viewers structured viewer handle open structured viewer java at org eclipse ui navigator common viewer handle open common viewer java at org eclipse jface viewers structured viewer handle open structured viewer java at org eclipse jface util open strategy fire open event open strategy java at org eclipse jface util open strategy access open strategy java at organization at org eclipse swt widgets event table send event event table java at org eclipse swt widgets widget send event widget java at org eclipse swt widgets display run deferred events display java at org eclipse swt widgets display read and dispatch display java at org eclipse ui internal workbench run event loop workbench java at org eclipse ui internal workbench run ui workbench java at org eclipse ui internal workbench access workbench java at org eclipse ui internal workbench run workbench java at org eclipse core databinding observable realm run with default realm java at org eclipse ui internal workbench create and run workbench workbench java at org eclipse ui platform ui create and run workbench platform ui java at org eclipse ui internal ide application ideapplication start ideapplication java at org eclipse equinox internal app organization app handle run organization app handle java at org eclipse core runtime internal adaptor organization app launcher run application organization app launcher java at org eclipse core runtime internal adaptor organization app launcher start organization app launcher java at org eclipse core runtime adaptor organization starter run organization starter java at org eclipse core runtime adaptor organization starter run organization starter java at sun reflect native method accessor impl invoke native method at sun reflect native method accessor impl invoke unknown source at sun reflect delegating method accessor impl invoke unknown source at java lang reflect method invoke unknown source at org eclipse equinox launcher main invoke framework main java at org eclipse equinox launcher main basic run main java at org eclipse equinox launcher main run main java\n"
     ]
    },
    {
     "name": "stdout",
     "output_type": "stream",
     "text": [
      "***Description***: build id i steps to reproduce create a new file test jsp with the following content style foo background image url image path img gif style open it with the organization editor more information i have verified this issue on organization and country person is the stack trace java lang illegal argument exception argument not valid at org eclipse swt swt error swt java at org eclipse swt swt error swt java at org eclipse swt swt error swt java at org eclipse swt custom styled text set style ranges styled text java at org eclipse swt custom styled text replace style ranges styled text java at org eclipse jface text text viewer add presentation text viewer java at org eclipse jface text text viewer change text presentation text viewer java at org eclipse wst sse ui internal provisional style structured presentation reconciler apply text region collection structured presentation reconciler java at org eclipse wst sse ui internal provisional style structured presentation reconciler process damage structured presentation reconciler java at org eclipse wst sse ui internal provisional style structured presentation reconciler internal listener input document changed structured presentation reconciler java at org eclipse wst sse ui internal provisional style structured presentation reconciler install structured presentation reconciler java at org eclipse wst sse ui internal structured text viewer update highlighter structured text viewer java at org eclipse wst sse ui internal structured text viewer set document structured text viewer java at org eclipse jface text source nationality viewer set document nationality viewer java at org eclipse ui texteditor abstract text editor initializenationality viewer abstract text editor java at org eclipse ui texteditor abstract text editor create part control abstract text editor java at org eclipse ui texteditor status text editor create part control status text editor java at org eclipse ui texteditor abstract decorated text editor create part control abstract decorated text editor java at org eclipse wst sse ui structured text editor create part control structured text editor java at org eclipse ui internal editor reference create part helper editor reference java at org eclipse ui internal editor reference create part editor reference java at org eclipse ui internal workbench part reference get part workbench part reference java at org eclipse ui internal editor reference get editor editor reference java at org eclipse ui internal workbench page busy open editor batched workbench page java at org eclipse ui internal workbench page busy open editor workbench page java at org eclipse ui internal workbench page access workbench page java at org eclipse ui internal workbench page run workbench page java at org eclipse swt custom busy indicator show while busy indicator java at org eclipse ui internal workbench page open editor workbench page java at org eclipse ui internal workbench page open editor workbench page java at org eclipse ui actions open with menu open editor open with menu java at org eclipse ui actions open with menu access open with menu java at org eclipse ui actions open with menu handle event open with menu java at org eclipse swt widgets event table send event event table java at org eclipse swt widgets widget send event widget java at org eclipse swt widgets display run deferred events display java at org eclipse swt widgets display read and dispatch display java at org eclipse ui internal workbench run event loop workbench java at org eclipse ui internal workbench run ui workbench java at org eclipse ui internal workbench access workbench java at org eclipse ui internal workbench run workbench java at org eclipse core databinding observable realm run with default realm java at org eclipse ui internal workbench create and run workbench workbench java at org eclipse ui platform ui create and run workbench platform ui java at org eclipse ui internal ide application ideapplication start ideapplication java at org eclipse equinox internal app eclipse app handle run eclipse app handle java at org eclipse core runtime internal adaptor eclipse app launcher run application eclipse app launcher java at org eclipse core runtime internal adaptor eclipse app launcher start eclipse app launcher java at org eclipse core runtime adaptor eclipse starter run eclipse starter java at org eclipse core runtime adaptor eclipse starter run eclipse starter java at sun reflect nativeperson accessor impl invoke native person at sun reflect nativeperson accessor impl invoke unknown nationality at sun reflect delegatingperson accessor impl invoke unknown nationality at java lang reflect person invoke unknown nationality at org eclipse equinox launcher main invoke framework main java at org eclipse equinox launcher main basic run main java at org eclipse equinox launcher main run main java\n",
      "***similar = 1\n",
      "########################\n",
      "***Title***: typing string literal splitting should use formatter preferences\n",
      "***Title***: content assist is broken in organization\n",
      "***Description***: currently we have this public final string str aaaaaaa aaaaaa instead of public final string str aaaaaaa aaaaaa see artwork item\n",
      "***Description***: content assist is broken in organization\n",
      "***similar = 0\n",
      "########################\n",
      "***Title***: proxy dialog opens often during edit\n",
      "***Title***: lttng control flow view zoom in some times does not show the state\n",
      "***Description***: build id m steps to reproduce use network connection via proxy https proxy port while coding the proxy dialog pops up especially when activating the context sensitive help strg space and requests user name and password when pressing cancel the dialog will appear time later again when using the context sensitive help again more information the dialog does not open in every session it depends on the session of eclipse there are good and bad sessions when providing a save password option it could be very helpful\n",
      "***Description***: lttng control flow view zoom in some times does not show the state\n",
      "***similar = 0\n",
      "########################\n",
      "Wall time: 179 ms\n"
     ]
    }
   ],
   "source": [
    "%%time \n",
    "\n",
    "baseline.display_batch(baseline.train_data, baseline.dup_sets_train, 5)"
   ]
  },
  {
   "cell_type": "markdown",
   "metadata": {
    "colab_type": "text",
    "id": "XPrsLs4Kg4Pa"
   },
   "source": [
    "## Pre-trained embeddings\n",
    "\n",
    "Loading pretrained word vectors"
   ]
  },
  {
   "cell_type": "markdown",
   "metadata": {
    "colab_type": "text",
    "id": "6p9eE5TWoH7p"
   },
   "source": [
    "### Glove"
   ]
  },
  {
   "cell_type": "code",
   "execution_count": 17,
   "metadata": {
    "colab": {
     "base_uri": "https://localhost:8080/",
     "height": 85
    },
    "colab_type": "code",
    "id": "QY-ef3OGoIiq",
    "outputId": "55f4c93c-98bb-4bac-92f2-76bd3b777605"
   },
   "outputs": [
    {
     "data": {
      "application/vnd.jupyter.widget-view+json": {
       "model_id": "31dd7491fec5463eb974ef0d164c7f15",
       "version_major": 2,
       "version_minor": 0
      },
      "text/plain": [
       "HBox(children=(IntProgress(value=1, bar_style='info', max=1), HTML(value='')))"
      ]
     },
     "metadata": {},
     "output_type": "display_data"
    },
    {
     "name": "stdout",
     "output_type": "stream",
     "text": [
      "\n",
      "Total 1917494 word vectors in Glove 42B 300d.\n",
      "Found 128293 unique tokens.\n"
     ]
    },
    {
     "data": {
      "application/vnd.jupyter.widget-view+json": {
       "model_id": "d74201c97d684460a7df8fec9c6bd28c",
       "version_major": 2,
       "version_minor": 0
      },
      "text/plain": [
       "HBox(children=(IntProgress(value=0, max=128293), HTML(value='')))"
      ]
     },
     "metadata": {},
     "output_type": "display_data"
    },
    {
     "name": "stdout",
     "output_type": "stream",
     "text": [
      "\n",
      "Wall time: 14min 12s\n"
     ]
    }
   ],
   "source": [
    "%%time\n",
    "\n",
    "baseline.generating_embed(GLOVE_DIR=GLOVE_DIR, EMBEDDING_DIM=EMBEDDING_DIM, MAX_NB_WORDS=MAX_NB_WORDS)"
   ]
  },
  {
   "cell_type": "markdown",
   "metadata": {
    "colab_type": "text",
    "id": "Lev5Y7oaFQBd"
   },
   "source": [
    "## Towards Accurate Duplicate Bug Retrieval Using Deep Learning Techniques\n",
    "\n",
    "https://github.com/tqtg/DuplicateBugFinder"
   ]
  },
  {
   "cell_type": "markdown",
   "metadata": {
    "colab_type": "text",
    "id": "sI074wU4Y13y"
   },
   "source": [
    "### CNN with filter 3,4,5"
   ]
  },
  {
   "cell_type": "code",
   "execution_count": 18,
   "metadata": {
    "colab": {
     "base_uri": "https://localhost:8080/",
     "height": 493
    },
    "colab_type": "code",
    "id": "h6YJU9GtFTyq",
    "outputId": "f85cf105-1fd6-491d-d969-7e6936f32739",
    "scrolled": false
   },
   "outputs": [],
   "source": [
    "import keras\n",
    "from keras.layers import GlobalMaxPooling1D\n",
    "\n",
    "def cnn_model(embeddings, num_words, embedding_dim, max_sequence_length, trainable):\n",
    "\n",
    "  embedding_layer = Embedding(num_words,\n",
    "                              embedding_dim,\n",
    "                              weights=[embeddings],\n",
    "                              input_length=max_sequence_length,\n",
    "                              trainable=trainable)\n",
    "\n",
    "  sequence_input = Input(shape=(max_sequence_length,), name='Feature_BugInput')\n",
    "  embedded_sequences = embedding_layer(sequence_input)\n",
    "\n",
    "  # Yoon Kim model (https://arxiv.org/abs/1408.5882)\n",
    "  # best combination filter (3, 4, 5) e 128 e 256\n",
    "  convs = []\n",
    "  filter_sizes = [3, 4, 5]\n",
    "\n",
    "  for filter_size in filter_sizes:\n",
    "      l_conv = Conv1D(filters=128, kernel_size=filter_size, activation='relu')(embedded_sequences)\n",
    "      l_pool = MaxPooling1D(pool_size=3)(l_conv)\n",
    "      convs.append(l_pool)\n",
    "\n",
    "  # l_merge = Merge(mode='concat', concat_axis=1)(convs)\n",
    "\n",
    "  l_merge = Concatenate(axis=1)(convs)\n",
    "\n",
    "  # add a 1D convnet with global maxpooling, instead of Yoon Kim model\n",
    "  conv = Conv1D(filters=256, kernel_size=3, activation='relu')(l_merge)\n",
    "  layer = GlobalMaxPooling1D()(conv) # pool_size=3\n",
    "  # Original Yoon Kim model\n",
    "  #x = Flatten()(pool)\n",
    "  #x = Dropout(0.5)(x)\n",
    "  #layer = Activation('relu')(pool)\n",
    "\n",
    "  cnn_feature_model = Model(inputs=[sequence_input], outputs=[layer], name = 'FeatureCNNGenerationModel') # inputs=visible\n",
    "  \n",
    "  return cnn_feature_model"
   ]
  },
  {
   "cell_type": "markdown",
   "metadata": {
    "colab_type": "text",
    "id": "wr6ObTXiaALH"
   },
   "source": [
    "### Bi-LSTM"
   ]
  },
  {
   "cell_type": "code",
   "execution_count": 93,
   "metadata": {
    "colab": {
     "base_uri": "https://localhost:8080/",
     "height": 306
    },
    "colab_type": "code",
    "id": "vC7MQXEsaCeG",
    "outputId": "65e647a9-c5d3-4009-b8a4-2e2d97b52684"
   },
   "outputs": [],
   "source": [
    "from keras.layers import Dense, Input, LSTM, Dropout, Bidirectional\n",
    "\n",
    "def lstm_model(embeddings, num_words, embedding_dim, max_sequence_length, trainable):\n",
    "  number_lstm_units = 50\n",
    "  rate_drop_lstm = 0\n",
    "  recurrent_dropout = 0\n",
    "\n",
    "  embedding_layer = Embedding(num_words,\n",
    "                          embedding_dim,\n",
    "                          weights=[embeddings],\n",
    "                          input_length=max_sequence_length,\n",
    "                          trainable=trainable)\n",
    "\n",
    "  sequence_input = Input(shape=(max_sequence_length, ), name='Feature_BugInput')\n",
    "  embedded_sequences = embedding_layer(sequence_input)\n",
    "\n",
    "   # Creating LSTM Encoder\n",
    "  lstm_layer = Bidirectional(LSTM(number_lstm_units, dropout=rate_drop_lstm, recurrent_dropout=rate_drop_lstm), merge_mode='sum')\n",
    "\n",
    "  layer = lstm_layer(embedded_sequences)\n",
    "\n",
    "  #layer = Activation('relu')(x)\n",
    "\n",
    "  lstm_feature_model = Model(inputs=[sequence_input], outputs=[layer], name = 'FeatureLstmGenerationModel') # inputs=visible\n",
    "  \n",
    "  return lstm_feature_model"
   ]
  },
  {
   "cell_type": "markdown",
   "metadata": {},
   "source": [
    "### MLP"
   ]
  },
  {
   "cell_type": "code",
   "execution_count": 20,
   "metadata": {},
   "outputs": [],
   "source": [
    "def mlp_model(input_size):\n",
    "    info_input = Input(shape=(input_size, ), name='Feature_BugInput')\n",
    "    \n",
    "    x = Dense(input_size)(info_input)\n",
    "    x = Activation('tanh')(x)\n",
    "    x = BatchNormalization()(x)\n",
    "    x = Dense(input_size // 2)(x)\n",
    "    x = Activation('tanh')(x)\n",
    "    x = BatchNormalization()(x)\n",
    "    \n",
    "    layer = Dense(256)(x)\n",
    "    \n",
    "    mlp_feature_model = Model(inputs=[info_input], outputs=[layer], name = 'FeatureMlpGenerationModel')\n",
    "    \n",
    "    return mlp_feature_model"
   ]
  },
  {
   "cell_type": "markdown",
   "metadata": {
    "colab_type": "text",
    "id": "TEedCg5AaTf2"
   },
   "source": [
    "### Siamese model"
   ]
  },
  {
   "cell_type": "code",
   "execution_count": 21,
   "metadata": {
    "colab": {
     "base_uri": "https://localhost:8080/",
     "height": 561
    },
    "colab_type": "code",
    "id": "VWBkSIYVaXyP",
    "outputId": "ed2a3d37-b8ec-4960-ef45-2909a87c8fa5"
   },
   "outputs": [],
   "source": [
    "from keras import backend as K\n",
    "import tensorflow as tf\n",
    "\n",
    "def l2_normalize(x, axis):\n",
    "    norm = K.sqrt(K.sum(K.square(x), axis=axis, keepdims=True))\n",
    "    return K.maximum(x, K.epsilon()) / K.maximum(norm, K.epsilon())\n",
    "\n",
    "# https://github.com/keras-team/keras/issues/3031\n",
    "# https://github.com/keras-team/keras/issues/8335\n",
    "def cosine_distance(inputs):\n",
    "    x, y = inputs\n",
    "    x = l2_normalize(x, axis=-1)\n",
    "    y = l2_normalize(y, axis=-1)\n",
    "    similarity = K.batch_dot(x, y, axes=1)\n",
    "    distance = K.constant(1) - similarity\n",
    "    # Distance goes from 0 to 2 in theory, but from 0 to 1 if x and y are both\n",
    "    # positive (which is the case after ReLU activation).\n",
    "    return K.mean(distance, axis=-1)\n",
    "\n",
    "def margin_loss(y_true, y_pred):\n",
    "    margin = K.constant(1.0)\n",
    "    return K.mean(K.maximum(0.0, margin - y_pred[0] + y_pred[1]))\n",
    "\n",
    "def pos_distance(y_true, y_pred):\n",
    "    return K.mean(y_pred[0])\n",
    "\n",
    "def neg_distance(y_true, y_pred):\n",
    "    return K.mean(y_pred[1])\n",
    "\n",
    "def stack_tensors(vects):\n",
    "    return K.squeeze(K.stack(vects),axis=1) # stack adds a new dim. So squeeze it\n",
    "    # better method is to use concatenate\n",
    "    return K.concatenate(vects,axis=1)"
   ]
  },
  {
   "cell_type": "code",
   "execution_count": 22,
   "metadata": {},
   "outputs": [],
   "source": [
    "from keras.layers import concatenate, Add, Lambda, merge\n",
    "from keras.optimizers import Adam\n",
    "\n",
    "def siamese_model(lstm_feature_model, cnn_feature_model, mlp_feature_model, sequence_length_info, \n",
    "                  max_sequence_length_t, max_sequence_length_d):\n",
    "  \n",
    "    bug_t_in = Input(shape = (max_sequence_length_t, ), name = 'title_in')\n",
    "    bug_t_pos = Input(shape = (max_sequence_length_t, ), name = 'title_pos')\n",
    "    bug_t_neg = Input(shape = (max_sequence_length_t, ), name = 'title_neg')\n",
    "\n",
    "    bug_d_in = Input(shape = (max_sequence_length_d, ), name = 'desc_in')\n",
    "    bug_d_pos = Input(shape = (max_sequence_length_d, ), name = 'desc_pos')\n",
    "    bug_d_neg = Input(shape = (max_sequence_length_d, ), name = 'desc_neg')\n",
    "    \n",
    "    bug_i_in = Input(shape = (sequence_length_info, ), name = 'info_in')\n",
    "    bug_i_pos = Input(shape = (sequence_length_info, ), name = 'info_pos')\n",
    "    bug_i_neg = Input(shape = (sequence_length_info, ), name = 'info_neg')\n",
    "\n",
    "    bug_t_in_feat_lstm = lstm_feature_model(bug_t_in)\n",
    "    bug_t_pos_feat_lstm = lstm_feature_model(bug_t_pos)\n",
    "    bug_t_neg_feat_lstm = lstm_feature_model(bug_t_neg)\n",
    "\n",
    "    bug_d_in_feat_cnn = cnn_feature_model(bug_d_in)\n",
    "    bug_d_pos_feat_cnn = cnn_feature_model(bug_d_pos)\n",
    "    bug_d_neg_feat_cnn = cnn_feature_model(bug_d_neg)\n",
    "    \n",
    "    bug_i_in_feat_mlp = mlp_feature_model(bug_i_in)\n",
    "    bug_i_pos_feat_mlp = mlp_feature_model(bug_i_pos)\n",
    "    bug_i_neg_feat_mlp = mlp_feature_model(bug_i_neg)\n",
    "\n",
    "    encoded_anchor = concatenate([bug_i_in_feat_mlp, bug_t_in_feat_lstm, bug_d_in_feat_cnn], name = 'merge_features_in')\n",
    "    encoded_positive = concatenate([bug_i_pos_feat_mlp, bug_t_pos_feat_lstm, bug_d_pos_feat_cnn], name = 'merge_features_pos')\n",
    "    encoded_negative = concatenate([bug_i_neg_feat_mlp, bug_t_neg_feat_lstm, bug_d_neg_feat_cnn], name = 'merge_features_neg')\n",
    "\n",
    "    positive_d = Lambda(cosine_distance)([encoded_anchor, encoded_positive])\n",
    "    negative_d = Lambda(cosine_distance)([encoded_anchor, encoded_negative])\n",
    "    \n",
    "    # Loss function only works with a single output\n",
    "    output = Lambda(\n",
    "        lambda vects: K.stack(vects),\n",
    "        name='stack-distances',\n",
    "    )([positive_d, negative_d])\n",
    "  \n",
    "    similarity_model = Model(inputs = [bug_t_in, bug_t_pos, bug_t_neg, \n",
    "                                       bug_d_in, bug_d_pos, bug_d_neg, \n",
    "                                       bug_i_in, bug_i_pos, bug_i_neg], \n",
    "                           outputs = output, name = 'Similarity_Model')\n",
    "\n",
    "    # setup the optimization process \n",
    "    similarity_model.compile(optimizer='adam', loss=margin_loss, metrics=[pos_distance, neg_distance]) # 'categorical_crossentropy' \n",
    "\n",
    "    return similarity_model"
   ]
  },
  {
   "cell_type": "markdown",
   "metadata": {},
   "source": [
    "## Experiment"
   ]
  },
  {
   "cell_type": "markdown",
   "metadata": {},
   "source": [
    "##### Logs"
   ]
  },
  {
   "cell_type": "code",
   "execution_count": 23,
   "metadata": {},
   "outputs": [],
   "source": [
    "tbCallBack = keras.callbacks.TensorBoard(log_dir=LOG_DIR, histogram_freq=0, write_graph=True, write_images=True)"
   ]
  },
  {
   "cell_type": "markdown",
   "metadata": {},
   "source": [
    "##### Checkpoint"
   ]
  },
  {
   "cell_type": "code",
   "execution_count": 24,
   "metadata": {},
   "outputs": [],
   "source": [
    "from keras.callbacks import ModelCheckpoint\n",
    "\n",
    "def checkpoint_model(name):\n",
    "    m_dir = os.path.join('checkpoint')\n",
    "    if not os.path.exists(m_dir):\n",
    "        os.mkdir(m_dir)\n",
    "    return ModelCheckpoint(os.path.join(m_dir, \"{}.hdf5\".format(name)), monitor='loss', \\\n",
    "                                        verbose=1, save_best_only=False, mode='min', period=1)\n",
    "\n",
    "# checkpoint\n",
    "checkpoint = checkpoint_model(FILE_PATH)"
   ]
  },
  {
   "cell_type": "code",
   "execution_count": 131,
   "metadata": {
    "scrolled": true
   },
   "outputs": [
    {
     "name": "stdout",
     "output_type": "stream",
     "text": [
      "__________________________________________________________________________________________________\n",
      "Layer (type)                    Output Shape         Param #     Connected to                     \n",
      "==================================================================================================\n",
      "info_in (InputLayer)            (None, 1682)         0                                            \n",
      "__________________________________________________________________________________________________\n",
      "title_in (InputLayer)           (None, 20)           0                                            \n",
      "__________________________________________________________________________________________________\n",
      "desc_in (InputLayer)            (None, 200)          0                                            \n",
      "__________________________________________________________________________________________________\n",
      "info_pos (InputLayer)           (None, 1682)         0                                            \n",
      "__________________________________________________________________________________________________\n",
      "title_pos (InputLayer)          (None, 20)           0                                            \n",
      "__________________________________________________________________________________________________\n",
      "desc_pos (InputLayer)           (None, 200)          0                                            \n",
      "__________________________________________________________________________________________________\n",
      "info_neg (InputLayer)           (None, 1682)         0                                            \n",
      "__________________________________________________________________________________________________\n",
      "title_neg (InputLayer)          (None, 20)           0                                            \n",
      "__________________________________________________________________________________________________\n",
      "desc_neg (InputLayer)           (None, 200)          0                                            \n",
      "__________________________________________________________________________________________________\n",
      "FeatureMlpGenerationModel (Mode (None, 256)          4471853     info_in[0][0]                    \n",
      "                                                                 info_pos[0][0]                   \n",
      "                                                                 info_neg[0][0]                   \n",
      "__________________________________________________________________________________________________\n",
      "FeatureLstmGenerationModel (Mod (None, 50)           38628600    title_in[0][0]                   \n",
      "                                                                 title_pos[0][0]                  \n",
      "                                                                 title_neg[0][0]                  \n",
      "__________________________________________________________________________________________________\n",
      "FeatureCNNGenerationModel (Mode (None, 256)          39047944    desc_in[0][0]                    \n",
      "                                                                 desc_pos[0][0]                   \n",
      "                                                                 desc_neg[0][0]                   \n",
      "__________________________________________________________________________________________________\n",
      "merge_features_in (Concatenate) (None, 562)          0           FeatureMlpGenerationModel[1][0]  \n",
      "                                                                 FeatureLstmGenerationModel[1][0] \n",
      "                                                                 FeatureCNNGenerationModel[1][0]  \n",
      "__________________________________________________________________________________________________\n",
      "merge_features_pos (Concatenate (None, 562)          0           FeatureMlpGenerationModel[2][0]  \n",
      "                                                                 FeatureLstmGenerationModel[2][0] \n",
      "                                                                 FeatureCNNGenerationModel[2][0]  \n",
      "__________________________________________________________________________________________________\n",
      "merge_features_neg (Concatenate (None, 562)          0           FeatureMlpGenerationModel[3][0]  \n",
      "                                                                 FeatureLstmGenerationModel[3][0] \n",
      "                                                                 FeatureCNNGenerationModel[3][0]  \n",
      "__________________________________________________________________________________________________\n",
      "lambda_1 (Lambda)               (None,)              0           merge_features_in[0][0]          \n",
      "                                                                 merge_features_pos[0][0]         \n",
      "__________________________________________________________________________________________________\n",
      "lambda_2 (Lambda)               (None,)              0           merge_features_in[0][0]          \n",
      "                                                                 merge_features_neg[0][0]         \n",
      "__________________________________________________________________________________________________\n",
      "stack-distances (Lambda)        (2, None)            0           lambda_1[0][0]                   \n",
      "                                                                 lambda_2[0][0]                   \n",
      "==================================================================================================\n",
      "Total params: 82,148,397\n",
      "Trainable params: 5,166,951\n",
      "Non-trainable params: 76,981,446\n",
      "__________________________________________________________________________________________________\n",
      "Epoch 1/1\n",
      "10/10 [==============================] - ETA: 48:02 - loss: 1.1188 - pos_distance: 0.4897 - neg_distance: 0.60 - ETA: 29:14 - loss: 1.0846 - pos_distance: 0.4156 - neg_distance: 0.50 - ETA: 21:53 - loss: 1.0634 - pos_distance: 0.3491 - neg_distance: 0.41 - ETA: 16:52 - loss: 1.0483 - pos_distance: 0.2964 - neg_distance: 0.34 - ETA: 13:10 - loss: 1.0390 - pos_distance: 0.2566 - neg_distance: 0.29 - ETA: 10:03 - loss: 1.0323 - pos_distance: 0.2257 - neg_distance: 0.25 - ETA: 7:15 - loss: 1.0277 - pos_distance: 0.2013 - neg_distance: 0.2290 - ETA: 4:42 - loss: 1.0240 - pos_distance: 0.1818 - neg_distance: 0.205 - ETA: 2:17 - loss: 1.0211 - pos_distance: 0.1658 - neg_distance: 0.187 - 1356s 136s/step - loss: 1.0188 - pos_distance: 0.1527 - neg_distance: 0.1715\n",
      "\n",
      "Epoch 00001: saving model to checkpoint\\checkpoint_baseline_1000epoch_10steps_1024batch(eclipse).hdf5\n",
      "Wall time: 24min 32s\n"
     ]
    }
   ],
   "source": [
    "%%time\n",
    "import keras\n",
    "\n",
    "# Inspired on https://'pastebin.com/TaGFdcBA\n",
    "# TODO: https://stackoverflow.com/questions/49941903/keras-compute-cosine-distance-between-two-flattened-outputs\n",
    "keras.backend.clear_session()\n",
    "\n",
    "number_of_columns_info = valid_input_sample['info'].shape[1]\n",
    "\n",
    "cnn_feature_model = cnn_model(embeddings=baseline.embedding_matrix, \n",
    "                              num_words=len(baseline.word_index) + 1, \n",
    "                              embedding_dim=EMBEDDING_DIM, \n",
    "                              max_sequence_length=MAX_SEQUENCE_LENGTH_D, \n",
    "                              trainable=False)\n",
    "\n",
    "lstm_feature_model = lstm_model(embeddings=baseline.embedding_matrix, \n",
    "                              num_words=len(baseline.word_index) + 1, \n",
    "                              embedding_dim=EMBEDDING_DIM, \n",
    "                              max_sequence_length=MAX_SEQUENCE_LENGTH_T, \n",
    "                              trainable=False)\n",
    "\n",
    "mlp_feature_model = mlp_model(number_of_columns_info)\n",
    "\n",
    "similarity_model = siamese_model(lstm_feature_model, cnn_feature_model, mlp_feature_model, \n",
    "                                     number_of_columns_info, MAX_SEQUENCE_LENGTH_T, MAX_SEQUENCE_LENGTH_D)\n",
    "\n",
    "# cnn_feature_model.summary()\n",
    "# lstm_feature_model.summary()\n",
    "similarity_model.summary()\n",
    "\n",
    "'''\n",
    "    Experiments log\n",
    "    * baseline = mlp + cnn + bilstm\n",
    "    \n",
    "    - training with 1000 epochs in 20 had loss 0.91 (baseline)\n",
    "    - training with 20 epohcs had loss 0.91 (batch normalization and activation tahn in MLP model)\n",
    "    - training with 1000 epochs had loss 0.2 (batch normalization and activation tahn in MLP model)\n",
    "    - training with 300 epochs had loss 0.2 (batch normalization and activation tahn in MLP model)\n",
    "    - training with 100 epochs had loss 0.4 (batch normalization and activation tahn in MLP model)\n",
    "'''\n",
    "h = similarity_model.fit_generator(train_gen, \n",
    "                               steps_per_epoch = 10,\n",
    "                                             epochs = 300,\n",
    "                                             verbose = True,\n",
    "                                               callbacks=[tbCallBack, checkpoint]\n",
    "                                              )  # "
   ]
  },
  {
   "cell_type": "code",
   "execution_count": 97,
   "metadata": {
    "scrolled": false
   },
   "outputs": [
    {
     "data": {
      "image/png": "[encoded data removed]",
      "text/plain": [
       "<Figure size 432x288 with 1 Axes>"
      ]
     },
     "metadata": {},
     "output_type": "display_data"
    }
   ],
   "source": [
    "loss=h.history['loss']\n",
    "\n",
    "plt.plot(loss, label='loss')\n",
    "plt.title('model loss')\n",
    "plt.ylabel('loss')\n",
    "plt.xlabel('epoch')\n",
    "plt.legend(['train'], loc='upper left')\n",
    "plt.show()"
   ]
  },
  {
   "cell_type": "code",
   "execution_count": 27,
   "metadata": {},
   "outputs": [],
   "source": [
    "def save_model(model, name):\n",
    "    m_dir = os.path.join('modelos')\n",
    "    if not os.path.exists(m_dir):\n",
    "        os.mkdir(m_dir)\n",
    "    model.save(os.path.join(m_dir, \"model_{}.h5\".format(name)))\n",
    "    print(\"Saved model to disk\")"
   ]
  },
  {
   "cell_type": "code",
   "execution_count": 219,
   "metadata": {},
   "outputs": [
    {
     "name": "stdout",
     "output_type": "stream",
     "text": [
      "Saved model to disk\n"
     ]
    }
   ],
   "source": [
    "save_model(similarity_model, SAVE_PATH)"
   ]
  },
  {
   "cell_type": "markdown",
   "metadata": {},
   "source": [
    "### Using the feature layers"
   ]
  },
  {
   "cell_type": "code",
   "execution_count": 30,
   "metadata": {},
   "outputs": [],
   "source": [
    "def get_info(baseline, bug):\n",
    "    info = np.concatenate((\n",
    "        baseline.to_one_hot(bug['bug_severity'], baseline.info_dict['bug_severity']),\n",
    "        baseline.to_one_hot(bug['bug_status'], baseline.info_dict['bug_status']),\n",
    "        baseline.to_one_hot(bug['component'], baseline.info_dict['component']),\n",
    "        baseline.to_one_hot(bug['priority'], baseline.info_dict['priority']),\n",
    "        baseline.to_one_hot(bug['product'], baseline.info_dict['product']),\n",
    "        baseline.to_one_hot(bug['version'], baseline.info_dict['version']))\n",
    "    )\n",
    "    return info"
   ]
  },
  {
   "cell_type": "code",
   "execution_count": 220,
   "metadata": {
    "scrolled": false
   },
   "outputs": [],
   "source": [
    "from scipy import spatial\n",
    "bug_id = [96204, 2]# [269536, 2]\n",
    "bug_set = baseline.get_bug_set()\n",
    "dup_a, dup_b = bug_id\n",
    "bug_a = bug_set[dup_a]\n",
    "bug_b = bug_set[dup_b]"
   ]
  },
  {
   "cell_type": "markdown",
   "metadata": {},
   "source": [
    "#### LSTM feature"
   ]
  },
  {
   "cell_type": "code",
   "execution_count": 221,
   "metadata": {},
   "outputs": [
    {
     "data": {
      "text/plain": [
       "0.9941076040267944"
      ]
     },
     "execution_count": 221,
     "metadata": {},
     "output_type": "execute_result"
    }
   ],
   "source": [
    "bug_vector_a_t = lstm_feature_model.predict(np.array([bug_a['title_word']]))\n",
    "bug_vector_b_t = lstm_feature_model.predict(np.array([bug_b['title_word']]))\n",
    "result = 1 - spatial.distance.cosine(bug_vector_a_t, bug_vector_b_t)\n",
    "result"
   ]
  },
  {
   "cell_type": "code",
   "execution_count": 199,
   "metadata": {},
   "outputs": [
    {
     "data": {
      "text/plain": [
       "(array([[-0.56330323,  1.1621387 ,  0.30166683,  0.6682679 ,  0.50840724,\n",
       "         -0.5736087 , -0.03571591, -1.0374614 ,  0.9104828 ,  1.1263161 ,\n",
       "          0.01986182, -1.0691348 , -0.5593003 ,  0.63369286,  0.86244226,\n",
       "         -0.0208185 ,  0.88220704,  0.86501396, -1.0443859 , -1.2505665 ,\n",
       "          1.1631598 ,  1.2496418 ,  1.3722248 ,  1.2677189 , -0.57093096,\n",
       "         -0.2661015 ,  1.0392275 , -1.1979573 ,  0.4718321 , -0.21939963,\n",
       "         -1.2715449 ,  1.6430686 ,  0.97248286, -0.00434712, -1.035367  ,\n",
       "          1.1876817 ,  1.5709381 , -1.676405  ,  1.4266727 ,  1.276109  ,\n",
       "          0.32117975, -1.3292586 , -0.7819005 , -0.372718  , -1.014836  ,\n",
       "          1.3030291 , -0.47162652, -0.83890694, -1.1547184 , -1.3851432 ]],\n",
       "       dtype=float32),\n",
       " array([[-0.64417   ,  1.3253757 ,  0.35075915,  0.66156936,  0.45631412,\n",
       "         -0.57823247, -0.12719405, -1.0578524 ,  0.7371274 ,  1.0944518 ,\n",
       "          0.02875525, -1.1362019 , -0.81066227,  0.7479145 ,  0.8920927 ,\n",
       "         -0.04302746,  0.79257846,  0.91446877, -1.0404348 , -1.2990496 ,\n",
       "          1.237395  ,  1.1447722 ,  1.5307019 ,  1.2854098 , -0.6144832 ,\n",
       "         -0.23268312,  1.0386904 , -1.2276248 ,  0.4160384 , -0.07109523,\n",
       "         -1.1222746 ,  1.5465362 ,  1.0439796 , -0.06167886, -1.0491265 ,\n",
       "          1.2140634 ,  1.5875373 , -1.4153597 ,  1.4536715 ,  1.1825776 ,\n",
       "          0.30987573, -1.2507077 , -0.8794627 , -0.30666387, -1.0549829 ,\n",
       "          1.2183571 , -0.51122594, -0.8372587 , -1.0871984 , -1.6000144 ]],\n",
       "       dtype=float32))"
      ]
     },
     "execution_count": 199,
     "metadata": {},
     "output_type": "execute_result"
    }
   ],
   "source": [
    "bug_vector_a_t, bug_vector_b_t"
   ]
  },
  {
   "cell_type": "markdown",
   "metadata": {},
   "source": [
    "#### CNN feature"
   ]
  },
  {
   "cell_type": "code",
   "execution_count": 222,
   "metadata": {},
   "outputs": [
    {
     "data": {
      "text/plain": [
       "0.9998556971549988"
      ]
     },
     "execution_count": 222,
     "metadata": {},
     "output_type": "execute_result"
    }
   ],
   "source": [
    "bug_vector_a_d = cnn_feature_model.predict(np.array([bug_a['description_word']]))\n",
    "bug_vector_b_d = cnn_feature_model.predict(np.array([bug_b['description_word']]))\n",
    "result = 1 - spatial.distance.cosine(bug_vector_a_d, bug_vector_b_d)\n",
    "result"
   ]
  },
  {
   "cell_type": "code",
   "execution_count": 201,
   "metadata": {
    "scrolled": true
   },
   "outputs": [
    {
     "data": {
      "text/plain": [
       "(array([[10.07147   , 10.912041  ,  9.032252  ,  4.9383106 , 13.140688  ,\n",
       "          6.768425  , 11.187926  , 10.696349  ,  8.561165  , 11.836345  ,\n",
       "          8.314423  ,  6.7781916 ,  5.9566298 , 13.284679  , 11.04214   ,\n",
       "         11.091284  , 10.409637  , 10.38621   ,  9.942392  ,  8.893408  ,\n",
       "         12.744414  , -1.4912491 , -4.8088455 ,  6.649752  ,  9.029418  ,\n",
       "          9.408507  , 10.988234  , -0.4908635 , 10.580982  , -0.48465863,\n",
       "         12.244207  , 10.554687  ,  7.9546947 , 10.784753  ,  9.512853  ,\n",
       "          7.4624276 ,  9.4706135 ,  4.606911  ,  9.362631  , 10.879543  ,\n",
       "         11.787706  , 11.476833  , 13.8656845 ,  9.27706   , 10.051373  ,\n",
       "         -0.88210356,  6.9138923 ,  6.8094807 ,  7.7781205 ,  9.019117  ,\n",
       "          8.282433  , 17.4465    , -1.1300299 ,  6.2239494 ,  6.3990335 ,\n",
       "         13.500481  ,  5.037914  , 11.567809  ,  9.777412  , 12.066111  ,\n",
       "          7.1972017 , 13.018527  ,  7.086965  ,  9.922598  , 16.145233  ,\n",
       "          9.995081  , 12.866392  , 10.388524  ,  9.240948  ,  7.906679  ,\n",
       "          2.890477  , 12.760403  ,  6.320464  ,  2.615949  , 15.7672415 ,\n",
       "          8.996687  ,  8.426962  , 15.369906  , 12.6304035 ,  8.138058  ,\n",
       "          7.9161696 , 11.078812  ,  7.8217287 , 15.313007  , 11.000814  ,\n",
       "         12.670662  , 11.819785  ,  7.1969438 , -3.595157  , -1.4767139 ,\n",
       "         11.609815  ,  6.752811  , 16.905434  , 14.689557  , 10.044372  ,\n",
       "         11.260227  ,  5.996571  ,  6.1015844 ,  9.11976   , 12.795788  ,\n",
       "          9.125486  , 13.837939  ,  9.669137  , 10.518042  ,  6.371038  ,\n",
       "         11.778066  ,  7.6224446 , 15.910757  ,  8.782717  , 11.056504  ,\n",
       "          7.490532  ,  9.714515  , 10.162315  , 15.570585  , 13.34579   ,\n",
       "         11.2085705 ,  5.846595  , 13.182411  , -3.4152365 ,  6.809361  ,\n",
       "          5.473913  , -0.32494825,  7.708172  ,  6.5765414 ,  8.504027  ,\n",
       "         11.788744  , 13.285761  , 16.384119  ,  7.948247  ,  9.480701  ,\n",
       "         -3.1784077 ,  7.01148   ,  9.064251  ,  7.8922834 , 10.662692  ,\n",
       "          5.109254  , 10.701557  ,  7.7269535 ,  7.484864  ,  7.88686   ,\n",
       "         13.82602   , -2.2842505 , 14.479984  , 16.66766   ,  7.643838  ,\n",
       "          7.176369  , 11.259829  , 15.414621  , 13.961509  ,  9.256128  ,\n",
       "         12.0003605 ,  7.0310636 ,  5.5747724 , -0.36598933,  0.97340477,\n",
       "          9.583514  ,  7.7376285 , -2.0499895 ,  8.165756  , 11.074354  ,\n",
       "          7.2158847 ,  5.8761244 ,  9.389102  , 11.982814  ,  5.5655603 ,\n",
       "          8.414382  ,  9.2435    , 12.25724   , -2.9738758 , 11.423398  ,\n",
       "          9.816614  , 15.610946  , -4.586242  ,  8.410122  , -0.02384983,\n",
       "         -0.57134134, -0.27242416,  8.553469  , 11.568034  ,  6.7702866 ,\n",
       "         12.122645  , 10.686734  , 13.824414  , 11.692458  , 12.4213915 ,\n",
       "          9.222749  , 17.564007  , 12.597296  , 11.433241  ,  9.129997  ,\n",
       "         10.046608  ,  7.564161  , -3.3003454 , 13.48459   , 10.77406   ,\n",
       "          8.682188  , 11.277365  ,  6.3854117 , 18.552452  ,  6.2151628 ,\n",
       "          7.665844  , -0.5401744 , 11.900398  ,  8.522485  , 11.509876  ,\n",
       "          5.571987  ,  7.83939   ,  5.1875443 ,  9.47223   ,  7.4894066 ,\n",
       "         12.026611  , 11.155093  ,  9.003565  ,  8.751663  , 15.419743  ,\n",
       "         15.520046  ,  8.989785  ,  5.1638384 ,  8.400714  ,  3.9070349 ,\n",
       "         -1.4952244 ,  7.368104  ,  9.250923  , 10.93065   ,  9.752364  ,\n",
       "          8.535291  ,  7.9229064 ,  8.168239  , -1.9251301 ,  5.9863586 ,\n",
       "         11.706718  ,  8.660526  , 17.722181  , 10.822089  , -1.2978531 ,\n",
       "          7.6825    ,  7.738331  ,  5.8647294 ,  5.9509573 ,  4.022954  ,\n",
       "         12.6765    ,  8.7713375 ,  8.812538  , 10.773613  , -1.008117  ,\n",
       "         11.457635  ,  9.184845  ,  3.7694345 ,  4.69435   ,  6.101218  ,\n",
       "          9.737483  , 12.634705  ,  5.500236  ,  7.945752  ,  8.240928  ,\n",
       "          0.5818132 ]], dtype=float32),\n",
       " array([[ 9.631641  , 10.834396  ,  9.22071   ,  4.9540644 , 13.020749  ,\n",
       "          6.3767295 , 11.252378  , 10.294208  ,  8.531736  , 11.620782  ,\n",
       "          8.483564  ,  6.39572   ,  5.9912405 , 13.061687  , 10.759255  ,\n",
       "         10.979482  , 10.411886  , 10.23083   ,  9.677771  ,  8.714135  ,\n",
       "         12.845045  , -1.5182983 , -4.2029943 ,  5.975287  ,  8.849363  ,\n",
       "          9.450148  , 10.88305   , -0.535436  ,  9.9034    , -0.23812053,\n",
       "         12.13117   , 10.423663  ,  7.734296  , 10.702057  ,  9.33241   ,\n",
       "          7.29213   ,  9.296261  ,  4.627115  ,  9.6547575 , 10.816168  ,\n",
       "         11.5482855 , 11.162752  , 13.822491  ,  8.862759  , 10.183465  ,\n",
       "         -0.6792159 ,  7.058589  ,  6.7752285 ,  7.721598  ,  8.74003   ,\n",
       "          8.116575  , 17.394346  , -1.1250033 ,  6.4202266 ,  6.370823  ,\n",
       "         13.417955  ,  4.84707   , 11.389711  ,  9.469666  , 11.779459  ,\n",
       "          7.308387  , 12.641699  ,  6.9305434 ,  9.864358  , 16.190788  ,\n",
       "          9.631025  , 12.736733  , 10.386815  ,  9.0401125 ,  7.800322  ,\n",
       "          3.208668  , 12.466627  ,  6.1788936 ,  2.9083152 , 15.301025  ,\n",
       "          8.69731   ,  8.313611  , 15.250346  , 12.327033  ,  8.188498  ,\n",
       "          7.8685336 , 10.970056  ,  7.803921  , 15.003801  , 10.464691  ,\n",
       "         12.698317  , 11.59889   ,  6.8888593 , -3.7006748 , -1.8943962 ,\n",
       "         11.374793  ,  6.403206  , 16.84143   , 14.439421  ,  9.823926  ,\n",
       "         11.314551  ,  5.885477  ,  5.976545  ,  8.53345   , 12.522784  ,\n",
       "          9.11442   , 13.413201  ,  9.53366   , 10.36972   ,  6.0297465 ,\n",
       "         11.920713  ,  7.540711  , 15.814623  ,  8.327931  , 10.996797  ,\n",
       "          6.7037253 ,  9.420756  ,  9.950226  , 15.41467   , 13.239735  ,\n",
       "         11.132804  ,  5.8686314 , 12.974885  , -3.3172402 ,  7.0691185 ,\n",
       "          5.5707207 , -0.36591667,  7.598595  ,  6.5426164 ,  7.999775  ,\n",
       "         11.797469  , 13.287159  , 16.25678   ,  7.7562966 ,  9.063816  ,\n",
       "         -3.5922256 ,  7.1635714 ,  8.706083  ,  7.8055625 , 10.536188  ,\n",
       "          5.20152   , 10.397899  ,  7.7344923 ,  7.1564374 ,  7.519771  ,\n",
       "         13.732814  , -2.2871091 , 14.378002  , 16.238432  ,  7.7273455 ,\n",
       "          7.0464687 , 10.960456  , 15.112885  , 13.787992  ,  9.335348  ,\n",
       "         12.076123  ,  6.8575416 ,  5.4033    , -0.3790778 ,  1.124355  ,\n",
       "          9.290917  ,  7.572279  , -1.9538907 ,  8.018717  , 10.578083  ,\n",
       "          6.913148  ,  5.72678   ,  9.467421  , 12.241423  ,  5.4620395 ,\n",
       "          8.318872  ,  9.091474  , 12.037532  , -3.0122917 , 11.4313345 ,\n",
       "          9.589649  , 15.047027  , -4.0145626 ,  8.474713  ,  0.11458613,\n",
       "         -0.25975934, -0.66290355,  8.456217  , 11.231718  ,  6.72229   ,\n",
       "         11.490729  , 10.887785  , 13.679224  , 11.587251  , 12.394397  ,\n",
       "          9.131366  , 17.348156  , 12.24921   , 11.364527  ,  9.199389  ,\n",
       "          9.79789   ,  7.4054685 , -3.2910674 , 13.358606  , 10.565694  ,\n",
       "          8.515197  , 10.933657  ,  6.577352  , 18.259216  ,  5.8903074 ,\n",
       "          7.5935307 , -0.73274374, 11.808989  ,  8.37803   , 11.282297  ,\n",
       "          5.56437   ,  7.8437214 ,  5.02409   ,  9.338038  ,  7.598122  ,\n",
       "         11.974036  , 11.114133  ,  8.765183  ,  8.595505  , 15.113185  ,\n",
       "         15.176731  ,  8.924564  ,  5.176979  ,  8.066981  ,  3.8000834 ,\n",
       "         -1.4278067 ,  7.2052226 ,  9.335661  , 11.038248  ,  9.545651  ,\n",
       "          8.287098  ,  7.7735386 ,  8.102845  , -1.3095909 ,  6.1111274 ,\n",
       "         11.414271  ,  9.178976  , 17.491112  , 10.630379  , -1.4347572 ,\n",
       "          7.4038544 ,  7.4794483 ,  6.152838  ,  5.8278522 ,  3.916     ,\n",
       "         12.299987  ,  8.535625  ,  8.904152  , 10.865097  , -0.86078453,\n",
       "         11.138632  ,  9.232176  ,  3.8984807 ,  4.7245703 ,  5.8791447 ,\n",
       "          9.975306  , 12.981629  ,  5.5290656 ,  7.6238503 ,  8.098549  ,\n",
       "          0.5691551 ]], dtype=float32))"
      ]
     },
     "execution_count": 201,
     "metadata": {},
     "output_type": "execute_result"
    }
   ],
   "source": [
    "bug_vector_a_d, bug_vector_b_d"
   ]
  },
  {
   "cell_type": "markdown",
   "metadata": {},
   "source": [
    "#### MLP feature"
   ]
  },
  {
   "cell_type": "code",
   "execution_count": 223,
   "metadata": {},
   "outputs": [
    {
     "data": {
      "text/plain": [
       "0.18021604418754578"
      ]
     },
     "execution_count": 223,
     "metadata": {},
     "output_type": "execute_result"
    }
   ],
   "source": [
    "bug_vector_a_i = mlp_feature_model.predict(np.array([get_info(baseline, bug_a)]))\n",
    "bug_vector_b_i = mlp_feature_model.predict(np.array([get_info(baseline, bug_b)]))\n",
    "result = 1 - spatial.distance.cosine(bug_vector_a_i, bug_vector_b_i)\n",
    "result"
   ]
  },
  {
   "cell_type": "code",
   "execution_count": 204,
   "metadata": {
    "scrolled": true
   },
   "outputs": [
    {
     "data": {
      "text/plain": [
       "(array([[-0.9450885 , -1.8798165 ,  0.79883826,  0.5185874 ,  0.33421737,\n",
       "         -1.242396  , -0.5265256 , -0.803     ,  0.0318373 , -0.91021645,\n",
       "         -1.5274704 , -1.5173157 ,  1.2560936 ,  0.32772243, -0.54364175,\n",
       "          3.3362563 , -1.1896609 ,  1.8684098 ,  0.18955332, -4.40448   ,\n",
       "         -5.816929  ,  0.24000752, -5.769896  , -1.5679039 , -5.9977775 ,\n",
       "         -0.5520679 ,  0.4380633 , -0.82048506,  1.8269652 , -0.13862886,\n",
       "          1.0038466 , -3.557904  ,  1.0256451 , -0.5178889 , -0.16052175,\n",
       "          1.5630014 , -5.805288  , -0.63498825, -0.10015874, -0.35224092,\n",
       "         -0.29583004, -0.08083088, -0.73366994, -1.2414439 , -0.3343113 ,\n",
       "         -0.99561167,  0.40882584, -2.5945487 , -3.028087  , -0.2437438 ,\n",
       "          0.07530952, -2.679733  , -0.93167406, -0.4818062 , -0.4637776 ,\n",
       "          0.32792282,  0.34870887,  1.7013679 , -0.3394085 , -1.2017105 ,\n",
       "         -4.233526  , -3.4726975 , -2.6310892 ,  0.5733873 ,  0.5036938 ,\n",
       "         -3.8623326 , -1.2614491 , -1.2793051 , -2.0817435 , -3.7498465 ,\n",
       "          1.6554159 , -1.0018289 , -3.883996  , -0.9838923 ,  0.8818682 ,\n",
       "         -2.5748963 , -0.52970964,  0.87328714, -1.0222366 ,  0.1645978 ,\n",
       "         -1.5787461 , -1.8487742 , -1.9941025 , -2.6612601 , -1.4115819 ,\n",
       "         -2.0851963 ,  0.16156952,  0.280109  ,  1.3990588 ,  2.011163  ,\n",
       "         -1.0805639 ,  0.40325153,  1.1315551 , -2.585493  , -1.8802209 ,\n",
       "          0.37850896, -0.30997398, -0.6003744 ,  1.3744683 , -4.9009156 ,\n",
       "          1.0923653 , -0.39969882, -2.7430894 , -4.4392867 ,  0.7289113 ,\n",
       "         -0.5718882 ,  0.25937814, -2.3196669 ,  0.27017486,  0.7662486 ,\n",
       "         -1.5774813 , -4.7905827 , -1.9781966 , -0.5545034 ,  0.14745332,\n",
       "         -2.6486275 , -1.617959  , -1.5209844 ,  1.7778647 ,  0.28500956,\n",
       "          0.6630725 , -3.3091385 ,  1.2429311 , -4.473493  , -1.1886452 ,\n",
       "         -0.18819398, -1.5813423 , -0.7863733 , -0.13456237, -1.4029944 ,\n",
       "         -0.69964975, -3.331643  , -3.0175028 , -1.8912867 ,  0.12521668,\n",
       "          0.14815906, -0.14642414, -0.19221435, -1.1717056 ,  2.3122404 ,\n",
       "         -1.2870064 ,  0.6560227 ,  0.8354365 ,  1.584933  , -1.2947803 ,\n",
       "         -1.0779923 ,  2.501889  , -4.000944  , -1.3859864 , -1.700073  ,\n",
       "         -1.1007152 , -1.3266283 , -2.0882623 , -0.41925624, -2.4088953 ,\n",
       "          1.02286   , -2.425814  ,  0.04688063,  0.98278713,  0.24691792,\n",
       "         -1.4388587 ,  1.5474805 ,  0.4776774 ,  0.71736324, -1.8510319 ,\n",
       "         -0.41384864, -2.1198208 , -1.8627264 ,  0.4622923 ,  0.2607389 ,\n",
       "          0.67241585, -7.2881994 , -4.0414643 ,  0.6610897 , -3.0749748 ,\n",
       "         -1.0884953 , -1.747009  , -0.29299238,  0.7665645 , -0.60239553,\n",
       "         -5.6974535 ,  0.9485109 , -4.5095124 , -1.5601752 ,  0.96865356,\n",
       "         -2.7752595 , -0.82442933, -0.1026786 ,  0.2549444 ,  0.30568916,\n",
       "          0.83281773, -1.9853646 , -1.3703917 , -0.38221171,  0.3092977 ,\n",
       "          0.710271  ,  1.6881965 , -0.87309057, -0.4061809 , -1.2564826 ,\n",
       "         -2.4102159 , -0.85587436, -1.3793604 ,  0.33829314, -3.7696507 ,\n",
       "         -7.8643246 , -1.5212066 , -0.93220335, -1.9765165 ,  0.8083014 ,\n",
       "         -3.2075598 , -3.8012357 ,  0.09895703, -0.12128313, -0.18304476,\n",
       "          0.02691871,  1.2951733 , -0.91144997, -2.3018086 , -4.194791  ,\n",
       "          0.5106955 , -2.2696402 , -0.84812015, -0.68666524, -1.4796557 ,\n",
       "         -4.4423003 , -2.915481  , -2.0723937 , -1.0279835 ,  1.3395678 ,\n",
       "          1.0711728 , -1.6238366 , -0.17038332, -5.266273  ,  0.8571779 ,\n",
       "          1.435733  ,  0.980603  ,  0.82925653, -0.38206065, -2.9414895 ,\n",
       "         -4.645332  , -1.0270444 , -2.1551201 , -0.73962086,  0.5608189 ,\n",
       "         -2.6269405 ,  0.44151887, -2.956057  ,  1.0711277 ,  0.18039629,\n",
       "          0.1858428 , -0.59713805, -5.0871587 , -0.4547735 , -0.15151824,\n",
       "         -1.9518827 ]], dtype=float32),\n",
       " array([[ 8.2043149e-02, -1.8032851e+00, -3.5349286e-01, -1.1362221e+00,\n",
       "         -2.2642102e+00, -6.4460194e-01, -7.9163539e-01, -1.3491666e-01,\n",
       "          2.2537508e-03, -3.2097220e-01, -2.2393867e-01, -1.4490478e+00,\n",
       "          1.7416399e+00,  3.3700943e-01, -5.0129664e-01,  3.3933096e+00,\n",
       "         -7.5765193e-01,  4.1188583e-01, -3.4923112e+00, -2.2174146e+00,\n",
       "         -8.7687927e-01, -1.2918622e+00, -2.3522382e+00, -7.3118567e-01,\n",
       "         -4.8661286e-01, -1.1870333e+00, -2.4747632e-01, -5.3663397e-01,\n",
       "          1.3127668e+00, -1.4246048e+00,  1.6268996e+00, -4.7543001e-01,\n",
       "          8.7218088e-01, -6.3369304e-02, -2.7751610e+00,  1.5539207e+00,\n",
       "         -1.7816468e+00, -3.8903835e-01, -7.5977668e-02, -2.0432296e+00,\n",
       "         -2.3747728e+00, -5.3963065e-01, -2.2858618e-02,  8.6082262e-01,\n",
       "         -5.1794648e-01, -2.4360169e-02,  7.0702964e-01, -2.7018275e+00,\n",
       "         -1.6946895e+00,  1.7889120e-01, -1.3994200e+00, -2.8329930e+00,\n",
       "          1.3828275e+00,  2.2636847e+00, -8.1452507e-01, -1.2739253e+00,\n",
       "          6.1171806e-01, -3.9690219e-02,  1.8833190e-01, -1.0913548e+00,\n",
       "         -1.5036025e+00, -3.0759239e-01,  3.6943766e-01,  7.6326501e-01,\n",
       "          1.0909070e+00, -3.0003738e+00, -2.3398330e+00, -1.0041151e+00,\n",
       "         -1.5114596e+00, -3.2374327e+00,  1.6667211e-01, -1.4690994e-01,\n",
       "         -4.8414320e-01, -1.8078179e+00, -5.7540387e-01, -5.6009191e-01,\n",
       "         -1.4164683e+00,  2.4063735e+00, -2.9112482e-01,  9.7651249e-03,\n",
       "         -8.5137534e-01, -1.3294919e+00, -5.3694266e-01, -1.5543851e+00,\n",
       "         -1.5724967e+00, -7.7143252e-01,  1.8151477e-01, -5.9044391e-01,\n",
       "          1.9505854e+00,  1.4112382e+00, -5.9897959e-01, -2.2050256e-01,\n",
       "          8.0398327e-01, -3.8788898e+00, -1.5851516e+00,  1.8776551e-01,\n",
       "          3.4274200e-01, -1.2611667e+00,  5.6669813e-01, -1.1592726e+00,\n",
       "          5.6996459e-01, -5.6145930e-01, -9.5523089e-01, -3.0507457e+00,\n",
       "          8.5029608e-01, -1.3164696e+00, -1.7866695e+00, -1.3518640e-01,\n",
       "          8.5592024e-02, -2.0771604e+00, -8.1523097e-01, -3.3980846e+00,\n",
       "         -1.7878323e+00,  5.9300566e-01, -3.7561268e-01, -2.5199990e+00,\n",
       "         -8.9080894e-01, -2.7601640e+00,  2.6330869e+00, -7.5293928e-02,\n",
       "         -8.1546432e-01, -1.7445878e+00, -3.1917462e-01, -3.3308394e+00,\n",
       "         -9.1390371e-02, -1.2570168e+00,  4.5474315e-01, -2.8617666e+00,\n",
       "          7.7687567e-01, -1.1280619e+00, -2.1420529e+00, -2.2389879e+00,\n",
       "         -5.5688161e-01, -1.0546272e+00, -4.7654191e-01, -1.9608156e-01,\n",
       "          1.3729262e+00,  4.5188424e-01, -5.1914567e-01,  8.7185401e-01,\n",
       "         -1.7465714e+00, -1.3953767e+00,  1.5048851e+00,  1.9100794e+00,\n",
       "          2.0687260e-01,  1.9253674e-01,  1.6589167e+00, -2.8985887e+00,\n",
       "         -6.0389370e-01,  4.9183887e-01, -2.3412552e-01, -1.1791549e+00,\n",
       "         -1.2202820e+00, -4.0061772e-02, -6.8424791e-01,  1.5674374e+00,\n",
       "         -1.6604918e+00, -1.3533524e+00,  4.3726566e-01, -1.9101411e+00,\n",
       "         -1.3750592e+00,  8.6142832e-01,  1.3396137e+00, -2.6920068e-01,\n",
       "         -3.8202324e+00,  5.5982340e-02, -1.3286227e+00, -1.7048891e+00,\n",
       "          2.0051403e-01,  1.1419131e+00, -6.8851873e-02, -1.5112724e+00,\n",
       "         -2.4546270e+00,  2.7902275e-01, -2.4374347e+00, -4.2769615e-02,\n",
       "         -3.2542173e-02, -6.7505914e-01,  1.5102175e+00, -1.9999157e+00,\n",
       "         -5.4650292e+00,  4.5741743e-01, -8.2805264e-01, -5.1036787e-01,\n",
       "          1.4349533e+00, -5.4963255e-01, -5.3867495e-01, -1.1622212e+00,\n",
       "         -6.8192989e-01,  1.0983822e+00, -8.7842293e-02,  5.2470293e-02,\n",
       "         -3.7726864e-01,  7.5865775e-02, -1.7603918e+00, -1.1246341e+00,\n",
       "          3.5416111e-01, -2.9318577e-01,  2.3083811e-01, -1.4362932e+00,\n",
       "          5.0743628e-01, -1.8530750e+00,  2.2755304e-01, -1.4920375e+00,\n",
       "         -1.0137644e+00, -1.9360862e+00, -2.0927118e-02,  1.3449593e+00,\n",
       "         -6.3104868e-01, -4.2569837e-01, -1.1653153e+00, -8.2323933e-01,\n",
       "         -8.1188327e-01,  4.8014411e-01, -1.1673297e+00, -3.2790968e-01,\n",
       "          1.0416611e+00, -1.0572088e+00, -9.3605334e-01, -2.9922981e+00,\n",
       "         -7.8123826e-01, -3.6929095e-01,  1.6567871e-01, -3.0202690e-01,\n",
       "         -2.5061223e-01, -3.7909415e+00,  4.1302970e-01, -2.1873496e-01,\n",
       "         -1.6141574e+00,  7.0092392e-01,  1.9000422e+00, -1.6365075e+00,\n",
       "         -2.1784403e+00, -3.5986195e+00,  6.4746994e-01,  1.4667907e+00,\n",
       "          2.4287169e-01,  1.2519692e+00, -1.8539022e+00,  5.0566387e-01,\n",
       "         -2.0527415e+00, -1.9354241e-01, -1.9194850e+00, -1.2079856e+00,\n",
       "          2.4268821e-01, -2.0276318e+00,  1.1309224e+00, -1.7418876e+00,\n",
       "          7.5040460e-01,  6.4986223e-01,  1.5053567e-02,  6.9943629e-02,\n",
       "         -1.5071932e+00, -3.5285511e+00, -9.6754503e-01, -9.3592155e-01]],\n",
       "       dtype=float32))"
      ]
     },
     "execution_count": 204,
     "metadata": {},
     "output_type": "execute_result"
    }
   ],
   "source": [
    "bug_vector_a_i, bug_vector_b_i"
   ]
  },
  {
   "cell_type": "markdown",
   "metadata": {},
   "source": [
    "#### Merge features"
   ]
  },
  {
   "cell_type": "code",
   "execution_count": 224,
   "metadata": {},
   "outputs": [
    {
     "data": {
      "text/plain": [
       "0.9728338122367859"
      ]
     },
     "execution_count": 224,
     "metadata": {},
     "output_type": "execute_result"
    }
   ],
   "source": [
    "bug_vector_a = np.concatenate([ bug_vector_a_t, bug_vector_a_d, bug_vector_a_i ], -1)\n",
    "bug_vector_b = np.concatenate([ bug_vector_b_t, bug_vector_b_d, bug_vector_b_i ], -1)\n",
    "result = 1 - spatial.distance.cosine(bug_vector_a, bug_vector_b)\n",
    "result"
   ]
  },
  {
   "cell_type": "code",
   "execution_count": 168,
   "metadata": {},
   "outputs": [
    {
     "data": {
      "text/plain": [
       "(array([[-5.49278259e-01,  1.31407785e+00,  2.83172548e-01,\n",
       "          5.89546442e-01,  5.07808089e-01, -6.40580893e-01,\n",
       "         -8.83755833e-02, -9.29789841e-01,  8.12460124e-01,\n",
       "          1.00836492e+00,  9.22579765e-02, -1.11150980e+00,\n",
       "         -6.53047323e-01,  6.82515919e-01,  1.00490701e+00,\n",
       "         -1.74727440e-02,  7.74475932e-01,  1.04853523e+00,\n",
       "         -9.35471117e-01, -1.23540640e+00,  1.11561608e+00,\n",
       "          1.19126105e+00,  1.39715195e+00,  1.29854727e+00,\n",
       "         -5.78902543e-01, -3.54912907e-01,  1.04247332e+00,\n",
       "         -1.05129468e+00,  4.41390932e-01, -4.81649280e-01,\n",
       "         -1.21474957e+00,  1.53239155e+00,  1.04760051e+00,\n",
       "         -2.11642385e-02, -1.06009364e+00,  1.12979412e+00,\n",
       "          1.66827226e+00, -1.48328722e+00,  1.31184781e+00,\n",
       "          1.26487303e+00,  3.68861854e-01, -1.18984520e+00,\n",
       "         -8.58213067e-01, -2.65749097e-01, -1.11707973e+00,\n",
       "          1.37413788e+00, -5.33074677e-01, -7.88415849e-01,\n",
       "         -1.20018566e+00, -1.43692434e+00,  9.60080719e+00,\n",
       "          1.08675356e+01,  9.25973892e+00,  5.06933212e+00,\n",
       "          1.29203939e+01,  6.52934599e+00,  1.09312792e+01,\n",
       "          1.04649363e+01,  8.43632221e+00,  1.14907713e+01,\n",
       "          8.35471249e+00,  6.51800776e+00,  5.78576851e+00,\n",
       "          1.27867107e+01,  1.10422430e+01,  1.05881615e+01,\n",
       "          1.02477036e+01,  9.98762798e+00,  9.55061722e+00,\n",
       "          8.89009094e+00,  1.24969912e+01, -1.66730714e+00,\n",
       "         -4.30273819e+00,  6.19048405e+00,  8.74740124e+00,\n",
       "          9.44725323e+00,  1.08777952e+01, -5.49645960e-01,\n",
       "          1.00897884e+01, -3.64178687e-01,  1.19172029e+01,\n",
       "          1.01098633e+01,  7.45639658e+00,  1.04937077e+01,\n",
       "          9.22535038e+00,  7.28311872e+00,  9.26897812e+00,\n",
       "          4.33669519e+00,  9.55961132e+00,  1.05525703e+01,\n",
       "          1.13799486e+01,  1.14287195e+01,  1.33260126e+01,\n",
       "          8.78271675e+00,  1.00489378e+01, -9.65804458e-01,\n",
       "          6.89614630e+00,  6.82258415e+00,  7.85253382e+00,\n",
       "          8.78028584e+00,  7.90147257e+00,  1.71893063e+01,\n",
       "         -1.14865804e+00,  6.50252771e+00,  6.35635900e+00,\n",
       "          1.33402328e+01,  4.79248476e+00,  1.12347326e+01,\n",
       "          9.55410671e+00,  1.18859797e+01,  7.26541901e+00,\n",
       "          1.26686296e+01,  6.60887766e+00,  9.49694443e+00,\n",
       "          1.64603329e+01,  9.74634647e+00,  1.28004303e+01,\n",
       "          1.03068953e+01,  9.01007843e+00,  7.78700399e+00,\n",
       "          3.06441522e+00,  1.24205799e+01,  6.01731682e+00,\n",
       "          2.66928530e+00,  1.53402843e+01,  8.86191082e+00,\n",
       "          8.28464031e+00,  1.53229380e+01,  1.24514275e+01,\n",
       "          8.00557613e+00,  7.51276636e+00,  1.08663492e+01,\n",
       "          7.64767694e+00,  1.50258017e+01,  1.04684153e+01,\n",
       "          1.29023733e+01,  1.12101097e+01,  6.83835363e+00,\n",
       "         -3.55151629e+00, -1.97368038e+00,  1.12535391e+01,\n",
       "          6.54796171e+00,  1.66786442e+01,  1.40497875e+01,\n",
       "          9.57321930e+00,  1.13528185e+01,  5.80797052e+00,\n",
       "          6.00626421e+00,  8.29588890e+00,  1.23584194e+01,\n",
       "          8.87400055e+00,  1.31829958e+01,  9.24141026e+00,\n",
       "          1.02345028e+01,  6.10588026e+00,  1.21007280e+01,\n",
       "          7.39266062e+00,  1.56766891e+01,  8.40375710e+00,\n",
       "          1.10162306e+01,  6.89365053e+00,  9.32369232e+00,\n",
       "          1.00713530e+01,  1.54477262e+01,  1.30432529e+01,\n",
       "          1.10298748e+01,  5.95485878e+00,  1.27244158e+01,\n",
       "         -3.36567402e+00,  6.99395370e+00,  5.71390343e+00,\n",
       "         -3.48765314e-01,  7.92227221e+00,  6.16264820e+00,\n",
       "          8.23556519e+00,  1.16485729e+01,  1.30506611e+01,\n",
       "          1.60328541e+01,  7.79819250e+00,  9.16618919e+00,\n",
       "         -3.64989662e+00,  7.04402685e+00,  8.68287277e+00,\n",
       "          7.64283657e+00,  1.03712912e+01,  5.38017845e+00,\n",
       "          1.05590334e+01,  7.66865158e+00,  7.20894909e+00,\n",
       "          7.49152899e+00,  1.33378601e+01, -2.05427957e+00,\n",
       "          1.41784554e+01,  1.62893887e+01,  8.00312424e+00,\n",
       "          6.90878868e+00,  1.07639656e+01,  1.50410738e+01,\n",
       "          1.33747282e+01,  9.30772972e+00,  1.18206415e+01,\n",
       "          6.63036346e+00,  5.37987947e+00, -6.19540274e-01,\n",
       "          1.03487909e+00,  9.44674587e+00,  7.50825405e+00,\n",
       "         -1.95389068e+00,  7.83239603e+00,  1.06136208e+01,\n",
       "          6.94632053e+00,  6.04233408e+00,  9.64212227e+00,\n",
       "          1.20805683e+01,  5.45091486e+00,  8.40635014e+00,\n",
       "          9.22752285e+00,  1.20308342e+01, -3.06133008e+00,\n",
       "          1.10992241e+01,  9.62814236e+00,  1.49824142e+01,\n",
       "         -4.20213079e+00,  8.29739189e+00, -2.67152279e-03,\n",
       "         -3.53228837e-01, -5.34866333e-01,  8.23131275e+00,\n",
       "          1.12417173e+01,  6.46201849e+00,  1.15437384e+01,\n",
       "          1.08084049e+01,  1.38696413e+01,  1.14701061e+01,\n",
       "          1.21887980e+01,  9.12289047e+00,  1.71743469e+01,\n",
       "          1.22758799e+01,  1.13394222e+01,  9.25786304e+00,\n",
       "          9.94428635e+00,  7.31000853e+00, -3.36476302e+00,\n",
       "          1.32375669e+01,  1.04276676e+01,  8.36537838e+00,\n",
       "          1.09275475e+01,  6.35551834e+00,  1.80803528e+01,\n",
       "          6.17552948e+00,  7.65003347e+00, -8.46552014e-01,\n",
       "          1.16820173e+01,  8.33239841e+00,  1.11805611e+01,\n",
       "          5.27377796e+00,  7.90584373e+00,  4.85013199e+00,\n",
       "          9.40004349e+00,  7.45729971e+00,  1.19306097e+01,\n",
       "          1.10766687e+01,  8.74454403e+00,  8.57371235e+00,\n",
       "          1.50714941e+01,  1.50849686e+01,  8.70254135e+00,\n",
       "          5.17425299e+00,  8.08684349e+00,  3.45545840e+00,\n",
       "         -1.51278174e+00,  7.21901083e+00,  9.33566093e+00,\n",
       "          1.11498785e+01,  9.70613480e+00,  8.27379608e+00,\n",
       "          7.58513069e+00,  7.95623064e+00, -1.34445679e+00,\n",
       "          6.09790897e+00,  1.15492191e+01,  9.23967171e+00,\n",
       "          1.73806725e+01,  1.07018576e+01, -1.50507689e+00,\n",
       "          7.11553574e+00,  7.45427179e+00,  6.11324692e+00,\n",
       "          5.89830875e+00,  3.85421419e+00,  1.23955164e+01,\n",
       "          8.32255554e+00,  8.92502689e+00,  1.07066889e+01,\n",
       "         -8.11480522e-01,  1.10833597e+01,  8.95878315e+00,\n",
       "          3.99799466e+00,  4.51579332e+00,  5.79946709e+00,\n",
       "          9.88193512e+00,  1.28795824e+01,  5.46485186e+00,\n",
       "          7.45682573e+00,  8.20185184e+00,  6.33498430e-01,\n",
       "          3.54706526e-01,  6.99467421e-01,  6.99366033e-01,\n",
       "         -3.11548138e+00, -1.59468722e+00, -2.12154612e-01,\n",
       "         -2.42585945e+00,  2.17918944e+00, -1.10049856e+00,\n",
       "         -2.34463334e-01, -1.81770138e-02, -1.34221053e+00,\n",
       "          2.11999249e+00,  2.64510059e+00,  1.23467088e+00,\n",
       "          3.90661001e+00, -3.97138625e-01, -3.16166312e-01,\n",
       "         -4.21927214e+00, -1.96076155e+00,  5.30908287e-01,\n",
       "         -2.33832121e+00, -2.22575116e+00, -1.42525351e+00,\n",
       "         -1.16581106e+00, -1.66912007e+00, -5.18242002e-01,\n",
       "         -2.20916972e-01,  1.22645855e+00, -1.94032431e+00,\n",
       "          3.49850106e+00, -1.71391463e+00,  7.25397095e-02,\n",
       "          2.32524857e-01, -2.25145483e+00,  1.52250826e+00,\n",
       "         -1.07437360e+00, -9.96296555e-02,  1.05172470e-01,\n",
       "         -2.16970873e+00, -4.08023357e+00, -3.22936130e+00,\n",
       "          2.01457262e+00, -3.19568068e-01,  1.04438253e-01,\n",
       "          9.07311857e-01,  2.59437585e+00, -1.46018934e+00,\n",
       "         -1.34634781e+00,  1.48671675e+00, -3.57932949e+00,\n",
       "          1.43416488e+00,  1.22933769e+00,  2.41976237e+00,\n",
       "          6.28241360e-01, -2.78395414e+00, -1.08849239e+00,\n",
       "         -5.02533495e-01,  3.16268653e-01, -1.54256392e+00,\n",
       "          4.00506973e-01,  1.02081132e+00,  2.76864320e-01,\n",
       "         -1.65235198e+00,  1.76087093e+00,  8.53615165e-01,\n",
       "         -3.18270159e+00, -9.58154619e-01, -1.56010067e+00,\n",
       "         -1.54891402e-01,  2.12496066e+00,  1.23762226e+00,\n",
       "          1.12379938e-01, -1.53846455e+00, -4.61225398e-02,\n",
       "         -4.00340414e+00, -2.06426024e+00,  1.65730989e+00,\n",
       "         -1.98502505e+00,  1.00343406e+00, -1.03796303e+00,\n",
       "         -2.00566006e+00, -2.68066835e+00, -2.05880475e+00,\n",
       "         -1.68117213e+00, -1.55336130e+00, -3.57598400e+00,\n",
       "         -1.05919373e+00,  3.18231964e+00, -1.40874654e-01,\n",
       "         -1.68006575e+00, -2.41203475e+00, -3.84082556e-01,\n",
       "         -7.89567411e-01, -1.68474603e+00,  7.16804981e-01,\n",
       "         -3.77313828e+00, -4.65188646e+00, -3.85990596e+00,\n",
       "         -6.04794174e-02, -3.30887723e+00, -4.19665545e-01,\n",
       "          6.73705116e-02, -1.16766608e+00,  1.38904190e+00,\n",
       "         -4.46155024e+00,  3.42166498e-02,  3.09877008e-01,\n",
       "         -1.77593017e+00, -1.99257171e+00, -3.02823156e-01,\n",
       "         -3.75324041e-01, -2.78827190e+00,  1.99930930e+00,\n",
       "         -5.39461255e-01, -1.05305165e-01,  3.29614133e-01,\n",
       "         -4.33037376e+00, -1.16408157e+00, -1.43221200e+00,\n",
       "         -8.24533880e-01,  9.76587653e-01, -9.01522338e-01,\n",
       "         -2.29659367e+00,  4.23788279e-02, -1.09564805e+00,\n",
       "         -7.75517106e-01, -8.65821660e-01,  2.64233279e+00,\n",
       "         -5.31226754e-01, -2.90707374e+00, -9.28805411e-01,\n",
       "          1.49323968e-02, -2.02439141e+00,  8.59975278e-01,\n",
       "         -1.41219378e+00,  2.74692202e+00,  1.01925564e+00,\n",
       "         -4.75789428e-01,  1.11746812e+00, -6.64603949e-01,\n",
       "         -3.30935836e+00, -2.54720479e-01,  1.98424184e+00,\n",
       "          3.55587825e-02,  2.43094063e+00,  1.65514052e+00,\n",
       "          1.26073885e+00,  1.53187287e+00, -9.37761009e-01,\n",
       "          9.04051363e-01, -5.58993280e-01, -1.66828847e+00,\n",
       "         -6.54928446e-01,  1.23251903e+00, -1.32693326e+00,\n",
       "         -2.90490746e+00, -6.85020328e-01,  8.00744176e-01,\n",
       "         -2.63121295e+00, -1.97404110e+00, -4.80760913e-03,\n",
       "          1.85657933e-01,  9.05460417e-01, -2.90259337e+00,\n",
       "         -7.65244424e-01, -1.31809974e+00, -4.85476553e-01,\n",
       "         -6.25756311e+00,  1.36689746e+00,  3.17990661e-01,\n",
       "         -8.80631804e-01, -2.14427769e-01,  8.46714735e-01,\n",
       "         -2.47782707e+00, -1.21660483e+00,  9.73327398e-01,\n",
       "         -1.98635972e+00,  1.02022004e+00, -2.50822186e+00,\n",
       "         -1.79440749e+00,  1.69192803e+00,  4.07926142e-01,\n",
       "          1.90455258e-01,  1.62145638e+00, -1.27448571e+00,\n",
       "         -9.39383447e-01, -1.26876462e+00, -1.42188537e+00,\n",
       "         -2.64948845e+00,  1.22110307e+00,  6.55032635e-01,\n",
       "         -8.01327527e-01,  2.96497881e-01, -3.28554034e+00,\n",
       "          1.46918476e-01, -1.10110998e-01, -2.78703308e+00,\n",
       "          1.12229019e-01, -5.09800136e-01,  7.24202022e-02,\n",
       "         -4.74679708e-01,  1.05798542e+00, -3.22456193e+00,\n",
       "         -4.42902416e-01, -7.17723083e+00,  1.33964396e+00,\n",
       "         -3.86728668e+00, -6.64431930e-01, -1.64963543e+00,\n",
       "          6.42764568e-01, -5.36375582e-01, -1.37403214e+00,\n",
       "         -2.82132030e+00, -1.40586627e+00,  6.03891909e-01,\n",
       "          1.32555556e+00, -3.47936535e+00, -1.03691459e+00,\n",
       "         -1.29633749e+00, -3.65560323e-01, -1.35998344e+00,\n",
       "         -9.96142700e-02, -1.70322156e+00,  1.73329383e-01,\n",
       "         -2.13474974e-01,  8.65636110e-01, -3.98984253e-01,\n",
       "         -1.18540838e-01,  1.30983567e+00,  1.22663915e+00,\n",
       "         -1.26478362e+00, -1.39786816e+00, -4.91301894e-01,\n",
       "         -7.09544942e-02,  1.19595146e+00,  1.31802678e+00,\n",
       "          7.17228234e-01, -2.93758631e+00,  7.31414557e-01,\n",
       "         -1.54216349e+00, -2.30754089e+00, -2.10060763e+00,\n",
       "         -3.73829675e+00, -6.62378669e-01, -1.20040810e+00,\n",
       "         -1.90133229e-02,  1.23037755e-01,  1.12207651e+00,\n",
       "          7.45277703e-01, -2.29832816e+00, -3.01100874e+00,\n",
       "         -1.75347221e+00, -2.37977099e+00, -1.86682534e+00,\n",
       "         -9.79275286e-01]], dtype=float32),\n",
       " array([[-5.61291873e-01,  1.40549636e+00,  2.96059966e-01,\n",
       "          5.46804547e-01,  5.91178775e-01, -5.39183497e-01,\n",
       "         -3.23550403e-02, -9.86000419e-01,  8.03769112e-01,\n",
       "          1.17614436e+00,  4.48751450e-03, -1.09482586e+00,\n",
       "         -6.43429637e-01,  6.59052730e-01,  9.80303764e-01,\n",
       "         -1.46000683e-02,  8.15581679e-01,  8.54727626e-01,\n",
       "         -9.18527007e-01, -1.30964744e+00,  1.20839500e+00,\n",
       "          1.30802870e+00,  1.28024089e+00,  1.39312971e+00,\n",
       "         -6.21971548e-01, -4.45976146e-02,  1.04793584e+00,\n",
       "         -1.06883538e+00,  3.93953919e-01, -8.17606091e-01,\n",
       "         -1.14532852e+00,  1.65966928e+00,  9.07124639e-01,\n",
       "          9.95960832e-03, -1.19261694e+00,  1.15872145e+00,\n",
       "          1.58516788e+00, -1.56399393e+00,  1.45666194e+00,\n",
       "          1.16226745e+00,  3.80697101e-01, -1.25352597e+00,\n",
       "         -9.10908163e-01, -2.73387790e-01, -1.12602973e+00,\n",
       "          1.34053707e+00, -3.32115769e-01, -8.43481064e-01,\n",
       "         -1.08780158e+00, -1.43433380e+00,  9.57804871e+00,\n",
       "          1.10218620e+01,  9.28223515e+00,  4.94035530e+00,\n",
       "          1.26986961e+01,  6.54440737e+00,  1.10088339e+01,\n",
       "          1.06802826e+01,  8.45435429e+00,  1.13008537e+01,\n",
       "          8.41278458e+00,  6.60518026e+00,  5.98388481e+00,\n",
       "          1.26971493e+01,  1.06043243e+01,  1.04688177e+01,\n",
       "          1.03703413e+01,  9.99614334e+00,  9.42280006e+00,\n",
       "          8.98199081e+00,  1.25534582e+01, -1.59304380e+00,\n",
       "         -4.22419071e+00,  6.05757809e+00,  8.65102959e+00,\n",
       "          9.52556515e+00,  1.09279556e+01, -7.53255427e-01,\n",
       "          1.00040684e+01, -3.64178687e-01,  1.18700886e+01,\n",
       "          9.85690212e+00,  7.69067764e+00,  1.06175299e+01,\n",
       "          9.48985958e+00,  7.28864431e+00,  9.09583092e+00,\n",
       "          4.42780876e+00,  9.54903793e+00,  1.06383753e+01,\n",
       "          1.12786016e+01,  1.10097570e+01,  1.36812906e+01,\n",
       "          8.89564323e+00,  9.57745361e+00, -9.65804458e-01,\n",
       "          6.76219368e+00,  6.73335600e+00,  7.85444117e+00,\n",
       "          8.63782597e+00,  8.17624950e+00,  1.70270767e+01,\n",
       "         -1.15873909e+00,  6.45051908e+00,  6.34325790e+00,\n",
       "          1.34761171e+01,  4.83113909e+00,  1.12132616e+01,\n",
       "          9.51359081e+00,  1.15992556e+01,  7.23562479e+00,\n",
       "          1.24341660e+01,  6.80077028e+00,  9.58034515e+00,\n",
       "          1.64797707e+01,  9.84096909e+00,  1.28897476e+01,\n",
       "          1.01744719e+01,  8.85724068e+00,  7.69959736e+00,\n",
       "          3.04606891e+00,  1.24087257e+01,  5.99995089e+00,\n",
       "          2.59407520e+00,  1.52495461e+01,  8.80133629e+00,\n",
       "          8.29416084e+00,  1.49925184e+01,  1.23023500e+01,\n",
       "          8.16369915e+00,  7.74347067e+00,  1.10589037e+01,\n",
       "          7.65633154e+00,  1.49522161e+01,  1.02324419e+01,\n",
       "          1.26594419e+01,  1.10924635e+01,  6.84841776e+00,\n",
       "         -3.54515052e+00, -1.77536237e+00,  1.11585836e+01,\n",
       "          6.36962986e+00,  1.68079090e+01,  1.38323669e+01,\n",
       "          9.62774563e+00,  1.14990559e+01,  5.83405352e+00,\n",
       "          5.97577810e+00,  8.18722534e+00,  1.22604647e+01,\n",
       "          8.87011433e+00,  1.34052954e+01,  9.21032619e+00,\n",
       "          9.91191101e+00,  6.10926771e+00,  1.18880539e+01,\n",
       "          7.11064625e+00,  1.55708351e+01,  8.51260376e+00,\n",
       "          1.13463717e+01,  7.26241732e+00,  9.17426586e+00,\n",
       "          9.93436146e+00,  1.54099646e+01,  1.34685974e+01,\n",
       "          1.10549021e+01,  5.98590612e+00,  1.27208109e+01,\n",
       "         -3.52557826e+00,  7.10379791e+00,  5.70796299e+00,\n",
       "         -4.64820229e-02,  7.63380384e+00,  6.31592846e+00,\n",
       "          7.78543806e+00,  1.12460413e+01,  1.31892977e+01,\n",
       "          1.58824482e+01,  7.49292803e+00,  9.36231613e+00,\n",
       "         -3.41385913e+00,  6.73205948e+00,  8.57526875e+00,\n",
       "          7.90365314e+00,  1.04180689e+01,  5.35935211e+00,\n",
       "          1.05513144e+01,  7.81873322e+00,  7.08968544e+00,\n",
       "          7.60159969e+00,  1.33596039e+01, -2.03241038e+00,\n",
       "          1.39887514e+01,  1.64888153e+01,  7.62797976e+00,\n",
       "          6.81743765e+00,  1.05941811e+01,  1.48823099e+01,\n",
       "          1.38685389e+01,  9.38173008e+00,  1.18222771e+01,\n",
       "          6.79107809e+00,  5.39867258e+00, -5.64138114e-01,\n",
       "          1.10578167e+00,  9.40117931e+00,  7.33371210e+00,\n",
       "         -1.89064014e+00,  7.87342119e+00,  1.07359161e+01,\n",
       "          6.90404606e+00,  5.69864464e+00,  9.57395077e+00,\n",
       "          1.20010824e+01,  5.35764694e+00,  8.20360947e+00,\n",
       "          8.87682724e+00,  1.18048363e+01, -2.98039007e+00,\n",
       "          1.13814640e+01,  9.28792667e+00,  1.50745173e+01,\n",
       "         -4.08613920e+00,  8.30170631e+00,  1.04835048e-01,\n",
       "         -7.14170039e-02, -3.70273590e-01,  8.43117332e+00,\n",
       "          1.08741169e+01,  6.33586216e+00,  1.15768394e+01,\n",
       "          1.09268007e+01,  1.36475983e+01,  1.14963083e+01,\n",
       "          1.20914783e+01,  9.17241669e+00,  1.70839615e+01,\n",
       "          1.21958923e+01,  1.14342937e+01,  9.20790386e+00,\n",
       "          9.78298092e+00,  7.14046621e+00, -3.31621361e+00,\n",
       "          1.33192196e+01,  1.04361238e+01,  8.63685226e+00,\n",
       "          1.06724358e+01,  6.22293901e+00,  1.80396023e+01,\n",
       "          6.28648376e+00,  7.43460274e+00, -7.22961605e-01,\n",
       "          1.16496706e+01,  8.24626923e+00,  1.11566343e+01,\n",
       "          5.30413246e+00,  7.76619625e+00,  4.85097265e+00,\n",
       "          9.33669472e+00,  7.68103647e+00,  1.17456598e+01,\n",
       "          1.10457621e+01,  8.90136623e+00,  8.83008575e+00,\n",
       "          1.48039732e+01,  1.50281763e+01,  8.65704727e+00,\n",
       "          5.08344555e+00,  8.10779285e+00,  3.49528337e+00,\n",
       "         -1.37084270e+00,  6.99992895e+00,  9.36817551e+00,\n",
       "          1.07946205e+01,  9.45372963e+00,  8.22468567e+00,\n",
       "          7.73679543e+00,  7.81267834e+00, -1.56945479e+00,\n",
       "          6.19746685e+00,  1.13853178e+01,  9.20167828e+00,\n",
       "          1.73574791e+01,  1.04151964e+01, -1.52292693e+00,\n",
       "          7.22800112e+00,  7.31858301e+00,  6.22806549e+00,\n",
       "          5.85136414e+00,  3.97994494e+00,  1.25142450e+01,\n",
       "          8.39787197e+00,  9.02135563e+00,  1.04676180e+01,\n",
       "         -9.29759502e-01,  1.09585266e+01,  8.81670856e+00,\n",
       "          3.86026788e+00,  4.43772745e+00,  5.78736591e+00,\n",
       "          9.84714890e+00,  1.30236492e+01,  5.58799934e+00,\n",
       "          7.50963736e+00,  8.05853939e+00,  6.38836145e-01,\n",
       "          2.31613183e+00,  7.94709027e-01,  5.23398697e-01,\n",
       "         -2.68216729e-01,  2.29843473e+00,  1.91123053e-01,\n",
       "         -2.97015786e+00,  9.78910804e-01, -3.54096323e-01,\n",
       "          3.74975371e+00,  4.19598997e-01, -9.13658977e-01,\n",
       "         -2.51457620e+00,  3.96462154e+00,  1.73403096e+00,\n",
       "         -2.93240047e+00,  2.32339525e+00, -2.72645593e+00,\n",
       "         -1.60448003e+00,  2.75919485e+00,  4.27957344e+00,\n",
       "         -3.08907962e+00, -1.23095036e+00, -6.75306797e-01,\n",
       "         -9.03557092e-02,  1.42990172e+00,  4.72542048e-01,\n",
       "          2.13963091e-01, -1.71097779e+00,  1.08194984e-01,\n",
       "         -5.35600781e-01, -9.06645596e-01, -1.77454221e+00,\n",
       "         -1.01005363e+00,  2.43691713e-01,  1.02663198e-02,\n",
       "          1.68444502e+00,  1.82840884e-01,  7.06289172e-01,\n",
       "          3.32537937e+00, -4.00137424e+00, -2.73299360e+00,\n",
       "          2.66759419e+00,  1.30867040e+00,  2.27193907e-01,\n",
       "          2.20990896e+00,  2.08786869e+00, -1.67260692e-01,\n",
       "         -2.37286949e+00, -6.99204564e-01, -2.30282497e+00,\n",
       "          1.49877548e+00, -3.94699752e-01,  1.80986792e-01,\n",
       "          1.77077854e+00, -2.15564680e+00, -3.94921565e+00,\n",
       "         -1.52128994e+00,  1.06876159e+00,  6.21124089e-01,\n",
       "          3.46288204e+00,  3.22182250e+00,  2.04861999e+00,\n",
       "         -1.62817442e+00,  1.57548916e+00,  1.19906589e-01,\n",
       "         -1.18436790e+00,  2.00404739e+00,  1.65219593e+00,\n",
       "          2.84266520e+00,  9.15262401e-01,  3.44229460e+00,\n",
       "          2.96944046e+00, -9.95706439e-01, -1.53207287e-01,\n",
       "         -3.04928255e+00,  4.80284661e-01, -3.11963409e-01,\n",
       "         -6.19033813e-01, -7.39588976e-01, -6.46446109e-01,\n",
       "         -1.12575006e+00,  1.19458234e+00,  5.05633414e-01,\n",
       "          1.05161536e+00, -4.65523779e-01, -1.53882885e+00,\n",
       "         -5.21398783e-01, -1.09951305e+00, -2.86472511e+00,\n",
       "         -9.97535884e-02,  7.15809464e-01,  1.80954099e+00,\n",
       "          3.00492549e+00,  1.52606118e+00,  2.05493975e+00,\n",
       "         -2.14689398e+00, -2.23882914e+00, -2.89198494e+00,\n",
       "          8.12073290e-01, -4.05797672e+00,  1.40693808e+00,\n",
       "          2.73308039e+00,  2.04062486e+00,  2.75077224e-01,\n",
       "         -3.55560112e+00,  2.41627455e+00,  1.50612593e-01,\n",
       "         -3.76306236e-01, -7.05569983e-01,  1.83473253e+00,\n",
       "          6.76247299e-01,  6.85561955e-01,  1.63422668e+00,\n",
       "         -1.16853678e+00,  1.46689475e+00, -4.58552212e-01,\n",
       "         -7.13535845e-01, -4.93531179e+00,  8.68441284e-01,\n",
       "         -1.86529577e+00,  2.99836898e+00, -6.94585025e-01,\n",
       "          1.91700768e+00,  1.67215276e+00,  1.25099277e+00,\n",
       "          9.44102228e-01,  7.37262741e-02,  1.67435098e+00,\n",
       "          1.28347719e+00,  4.59701151e-01,  4.36084366e+00,\n",
       "          1.59187531e+00, -3.34149688e-01, -1.38002408e+00,\n",
       "         -1.34585395e-01,  2.91041613e-01, -1.26974690e+00,\n",
       "          1.87336636e+00,  2.19613957e+00,  4.10851687e-01,\n",
       "         -9.18613791e-01, -3.02152896e+00,  7.87668675e-03,\n",
       "         -6.26906991e-01,  7.50649452e-01, -1.95449674e+00,\n",
       "          3.54406089e-01,  3.82407963e-01, -1.28103541e-02,\n",
       "          1.99245048e+00, -3.67436469e-01, -1.35629869e+00,\n",
       "         -2.64302278e+00,  2.06879210e+00, -3.61729717e+00,\n",
       "          1.51714933e+00,  3.10463810e+00, -2.41810727e+00,\n",
       "         -5.12147307e-01, -2.56600827e-01,  7.60523200e-01,\n",
       "         -2.42199257e-01,  7.09629774e-01,  1.24753036e-01,\n",
       "          2.37361145e+00,  1.04210162e+00,  3.31760073e+00,\n",
       "         -5.64990473e+00, -1.67757124e-01,  1.95733833e+00,\n",
       "          2.94141531e+00,  6.61751270e-01,  2.42556667e+00,\n",
       "          1.76152873e+00, -4.94116753e-01,  3.21158320e-01,\n",
       "         -1.69575834e+00, -1.76889813e+00, -4.16397035e-01,\n",
       "          1.41888869e+00, -7.24186242e-01, -5.90921938e-02,\n",
       "          3.21968722e+00, -1.57348916e-01,  1.13375425e+00,\n",
       "          1.01649010e+00, -3.51721197e-01,  1.82303578e-01,\n",
       "         -1.50116265e+00, -2.23419279e-01,  2.39727950e+00,\n",
       "          2.68374711e-01, -7.28818655e-01,  1.53843164e+00,\n",
       "          1.44203818e+00, -7.07698226e-01, -1.86597061e+00,\n",
       "          1.27176070e+00,  1.26300168e+00, -1.02108431e+00,\n",
       "         -1.04952085e+00,  1.01033378e+00, -2.48900485e+00,\n",
       "          1.20362306e+00, -1.95834148e+00,  9.64539826e-01,\n",
       "         -3.73319435e+00,  8.79883587e-01, -1.41002274e+00,\n",
       "          3.72673392e+00,  1.91456270e+00, -1.11490023e+00,\n",
       "         -3.18616986e+00, -8.40392709e-01, -1.00390577e+00,\n",
       "          6.90846622e-01, -7.72862494e-01,  3.33086371e+00,\n",
       "          5.77734649e-01, -4.68217343e-01,  6.82462394e-01,\n",
       "          2.68805742e-01,  8.35290194e-01,  4.11046475e-01,\n",
       "          3.80736637e+00,  3.17790437e+00, -2.81076217e+00,\n",
       "         -1.99445081e+00,  1.72262549e-01, -2.77841520e+00,\n",
       "          1.85224473e+00,  1.24108255e+00,  2.86403966e+00,\n",
       "         -2.45680952e+00, -2.19892311e+00, -7.00883493e-02,\n",
       "         -2.36907029e+00, -4.35557663e-01,  6.14895225e-01,\n",
       "          3.98973763e-01,  5.89824438e-01, -1.08598721e+00,\n",
       "          4.19055298e-02, -1.44163620e+00,  2.66759419e+00,\n",
       "          3.34522694e-01,  2.30434728e+00, -8.84669185e-01,\n",
       "          8.85218740e-01, -2.46176481e+00, -4.02042329e-01,\n",
       "          1.25694647e-02,  9.42451060e-01, -1.42485929e+00,\n",
       "          4.22729790e-01]], dtype=float32))"
      ]
     },
     "execution_count": 168,
     "metadata": {},
     "output_type": "execute_result"
    }
   ],
   "source": [
    "bug_vector_a, bug_vector_b"
   ]
  },
  {
   "cell_type": "markdown",
   "metadata": {},
   "source": [
    "#### Validating a batch"
   ]
  },
  {
   "cell_type": "code",
   "execution_count": 225,
   "metadata": {},
   "outputs": [],
   "source": [
    "batch_size_test=512\n",
    "valid_input_sample, valid_input_pos, valid_input_neg, valid_sim = baseline.batch_iterator(baseline.train_data, \n",
    "                                                                                          baseline.dup_sets_train, \n",
    "                                                                                          batch_size_test, 1)"
   ]
  },
  {
   "cell_type": "code",
   "execution_count": 226,
   "metadata": {},
   "outputs": [],
   "source": [
    "bug_set = baseline.get_bug_set()\n",
    "cos_pos_median = []\n",
    "cos_neg_median = []\n",
    "\n",
    "for bug_anchor_title, bug_pos_title, bug_neg_title,\\\n",
    "    bug_anchor_desc, bug_pos_desc, bug_neg_desc,\\\n",
    "    bug_anchor_info, bug_pos_info, bug_neg_info, sim in zip(valid_input_sample['title'], valid_input_pos['title'], valid_input_neg['title'],\\\n",
    "                                             valid_input_sample['description'], valid_input_pos['description'], valid_input_neg['description'],\\\n",
    "                                             valid_input_sample['info'], valid_input_pos['info'], valid_input_neg['info'], \n",
    "                                            valid_sim):\n",
    "    \n",
    "    bug_vector_anchor_t = lstm_feature_model.predict( np.array([bug_anchor_title]) )\n",
    "    bug_vector_pos_t = lstm_feature_model.predict( np.array([bug_pos_title]) )\n",
    "    bug_vector_neg_t = lstm_feature_model.predict( np.array([bug_pos_title]) )\n",
    "    \n",
    "    \n",
    "    bug_vector_anchor_d = cnn_feature_model.predict( np.array([bug_anchor_desc]) )\n",
    "    bug_vector_pos_d = cnn_feature_model.predict( np.array([bug_pos_desc]) )\n",
    "    bug_vector_neg_d = cnn_feature_model.predict( np.array([bug_neg_desc]) )\n",
    "    \n",
    "    bug_vector_anchor_i = mlp_feature_model.predict( np.array([bug_anchor_info]) )\n",
    "    bug_vector_pos_i = mlp_feature_model.predict( np.array([bug_pos_info]) )\n",
    "    bug_vector_neg_i = mlp_feature_model.predict( np.array([bug_neg_info]) )\n",
    "    \n",
    "    bug_vector_anchor = np.concatenate([bug_vector_anchor_t, bug_vector_anchor_d, bug_vector_anchor_i], -1)                                     \n",
    "    bug_vector_pos = np.concatenate([bug_vector_pos_t, bug_vector_pos_d, bug_vector_pos_i], -1)\n",
    "    bug_vector_neg = np.concatenate([bug_vector_neg_t, bug_vector_neg_d, bug_vector_neg_i], -1)\n",
    "    \n",
    "    cosine_pos = 1 - spatial.distance.cosine(bug_vector_anchor, bug_vector_pos)\n",
    "    cosine_neg = 1 - spatial.distance.cosine(bug_vector_anchor, bug_vector_neg)\n",
    "    \n",
    "    cos_pos_median.append(cosine_pos)\n",
    "    cos_neg_median.append(cosine_neg)\n",
    "    #print(\"cosine_pos\", cosine_pos, \"cosine_neg\", cosine_neg)"
   ]
  },
  {
   "cell_type": "code",
   "execution_count": 227,
   "metadata": {},
   "outputs": [
    {
     "data": {
      "text/plain": [
       "(0.9673614536877722, 0.9582778076874092)"
      ]
     },
     "execution_count": 227,
     "metadata": {},
     "output_type": "execute_result"
    }
   ],
   "source": [
    "import numpy as np\n",
    "np.mean(cos_pos_median), np.mean(cos_neg_median)"
   ]
  }
 ],
 "metadata": {
  "accelerator": "GPU",
  "colab": {
   "collapsed_sections": [],
   "name": "[baseline] Bug triage with Deep Learning.ipynb",
   "provenance": [],
   "toc_visible": true,
   "version": "0.3.2"
  },
  "kernelspec": {
   "display_name": "Python 3",
   "language": "python",
   "name": "python3"
  },
  "language_info": {
   "codemirror_mode": {
    "name": "ipython",
    "version": 3
   },
   "file_extension": ".py",
   "mimetype": "text/x-python",
   "name": "python",
   "nbconvert_exporter": "python",
   "pygments_lexer": "ipython3",
   "version": "3.5.2"
  }
 },
 "nbformat": 4,
 "nbformat_minor": 1
}
