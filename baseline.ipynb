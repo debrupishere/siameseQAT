{
 "cells": [
  {
   "cell_type": "markdown",
   "metadata": {
    "colab_type": "text",
    "id": "PtdA1qs_UQP1"
   },
   "source": [
    "# Bug triage with Deep Learning"
   ]
  },
  {
   "cell_type": "code",
   "execution_count": 4,
   "metadata": {},
   "outputs": [
    {
     "name": "stderr",
     "output_type": "stream",
     "text": [
      "Using TensorFlow backend.\n"
     ]
    }
   ],
   "source": [
    "import keras"
   ]
  },
  {
   "cell_type": "code",
   "execution_count": 5,
   "metadata": {
    "colab": {},
    "colab_type": "code",
    "id": "qnSCLmiomFE1"
   },
   "outputs": [],
   "source": [
    "from __future__ import print_function, division"
   ]
  },
  {
   "cell_type": "code",
   "execution_count": 6,
   "metadata": {
    "colab": {},
    "colab_type": "code",
    "id": "OIha-SERnD72"
   },
   "outputs": [],
   "source": [
    "import re\n",
    "import numpy as np\n",
    "import pandas as pd\n",
    "\n",
    "import os\n",
    "from tqdm import tqdm_notebook as tqdm\n",
    "import matplotlib.pyplot as plt\n",
    "import sys\n",
    "nb_dir = os.path.split(os.getcwd())[0]\n",
    "if nb_dir not in sys.path:\n",
    "    sys.path.append(nb_dir)\n",
    "    \n",
    "%matplotlib inline"
   ]
  },
  {
   "cell_type": "code",
   "execution_count": 7,
   "metadata": {
    "colab": {
     "base_uri": "https://localhost:8080/",
     "height": 34
    },
    "colab_type": "code",
    "id": "c57gQiuAnJAe",
    "outputId": "9eaf2d3f-619a-492d-f40b-6ba2c48426fa"
   },
   "outputs": [],
   "source": [
    "from keras.layers import Conv1D, Input, Add, Activation, Dropout, Embedding, MaxPooling1D, \\\n",
    "    GlobalMaxPool1D, Flatten, Dense, Concatenate, BatchNormalization\n",
    "from keras.models import Sequential, Model\n",
    "from keras.regularizers import l2\n",
    "from keras.initializers import TruncatedNormal\n",
    "from keras.layers.advanced_activations import LeakyReLU, ELU\n",
    "from keras import optimizers"
   ]
  },
  {
   "cell_type": "code",
   "execution_count": 8,
   "metadata": {},
   "outputs": [],
   "source": [
    "from methods.baseline import Baseline"
   ]
  },
  {
   "cell_type": "markdown",
   "metadata": {
    "colab_type": "text",
    "id": "3VUZ6oG1gb91"
   },
   "source": [
    "## Auxiliary methods"
   ]
  },
  {
   "cell_type": "markdown",
   "metadata": {
    "colab_type": "text",
    "id": "8uQou7m2-bFO"
   },
   "source": [
    "## Configurações Globais"
   ]
  },
  {
   "cell_type": "code",
   "execution_count": 9,
   "metadata": {
    "colab": {},
    "colab_type": "code",
    "id": "G-Kn3x_K-aZj"
   },
   "outputs": [],
   "source": [
    "MAX_SEQUENCE_LENGTH_T = 100 # 40\n",
    "MAX_SEQUENCE_LENGTH_D = 500 # 200\n",
    "EMBEDDING_DIM = 300\n",
    "MAX_NB_WORDS = 2000"
   ]
  },
  {
   "cell_type": "markdown",
   "metadata": {},
   "source": [
    "### Parse bugs preproprecessed"
   ]
  },
  {
   "cell_type": "code",
   "execution_count": 10,
   "metadata": {},
   "outputs": [],
   "source": [
    "# Domain to use\n",
    "DOMAIN = 'eclipse'\n",
    "# Dataset paths\n",
    "DIR = 'data/processed/{}'.format(DOMAIN)\n",
    "DIR_PAIRS = 'data/normalized/{}'.format(DOMAIN)\n",
    "DATASET = os.path.join('data/normalized/{}'.format(DOMAIN), '{}.csv'.format(DOMAIN))\n",
    "# Glove embeddings\n",
    "GLOVE_DIR='data/embed'\n",
    "# Save model\n",
    "SAVE_PATH = 'baseline_feature@number_of_epochs@epochs_64batch({})'.format(DOMAIN)\n",
    "SAVE_PATH_FEATURE = 'baseline_feature_@number_of_epochs@epochs_64batch({})'.format(DOMAIN)"
   ]
  },
  {
   "cell_type": "code",
   "execution_count": 11,
   "metadata": {},
   "outputs": [],
   "source": [
    "baseline = Baseline(DIR, DATASET, MAX_SEQUENCE_LENGTH_T, MAX_SEQUENCE_LENGTH_D)"
   ]
  },
  {
   "cell_type": "markdown",
   "metadata": {},
   "source": [
    "#### Loading bug ids in memory"
   ]
  },
  {
   "cell_type": "code",
   "execution_count": 12,
   "metadata": {
    "scrolled": true
   },
   "outputs": [
    {
     "name": "stdout",
     "output_type": "stream",
     "text": [
      "Reading bug ids\n"
     ]
    },
    {
     "data": {
      "text/plain": [
       "212512"
      ]
     },
     "execution_count": 12,
     "metadata": {},
     "output_type": "execute_result"
    }
   ],
   "source": [
    "baseline.load_ids(DIR)\n",
    "len(baseline.bug_ids)"
   ]
  },
  {
   "cell_type": "markdown",
   "metadata": {
    "colab_type": "text",
    "id": "vqzt5EKzqzcI"
   },
   "source": [
    "### Dicionário de títulos e descrições"
   ]
  },
  {
   "cell_type": "code",
   "execution_count": 13,
   "metadata": {},
   "outputs": [],
   "source": [
    "def data_padding_bug(seq, max_seq_length):\n",
    "    seq = seq[:max_seq_length]\n",
    "    padding = max_seq_length - len(seq)\n",
    "    if padding > 0:\n",
    "        embed = np.empty(padding)\n",
    "        embed.fill(0)\n",
    "        return np.concatenate([seq, embed], -1).astype(int)\n",
    "    else:\n",
    "        return np.array(seq).astype(int)"
   ]
  },
  {
   "cell_type": "code",
   "execution_count": 14,
   "metadata": {},
   "outputs": [],
   "source": [
    "def data_padding(data, max_seq_length):\n",
    "    seq_lengths = [len(seq) for seq in data]\n",
    "    seq_lengths.append(6)\n",
    "    max_seq_length = min(max(seq_lengths), max_seq_length)\n",
    "    padded_data = np.zeros(shape=[len(data), max_seq_length])\n",
    "    for i, seq in enumerate(data):\n",
    "        seq = seq[:max_seq_length]\n",
    "        for j, token in enumerate(seq):\n",
    "            padded_data[i, j] = int(token)\n",
    "    return padded_data.astype(np.int)"
   ]
  },
  {
   "cell_type": "code",
   "execution_count": 16,
   "metadata": {},
   "outputs": [],
   "source": [
    "import _pickle as pickle\n",
    "\n",
    "def load_bugs(baseline):   \n",
    "    removed = []\n",
    "    baseline.corpus = []\n",
    "    baseline.sentence_dict = {}\n",
    "    baseline.bug_set = {}\n",
    "    title_padding, desc_padding = [], []\n",
    "    for bug_id in tqdm(baseline.bug_ids):\n",
    "        try:\n",
    "            bug = pickle.load(open(os.path.join(baseline.DIR, 'bugs', '{}.pkl'.format(bug_id)), 'rb'))\n",
    "            title_padding.append(bug['title_word'])\n",
    "            desc_padding.append(bug['description_word'])\n",
    "            baseline.bug_set[bug_id] = bug\n",
    "            #break\n",
    "        except:\n",
    "            removed.append(bug_id)\n",
    "    \n",
    "    # Padding\n",
    "    title_padding = data_padding(title_padding, 100)\n",
    "    desc_padding = data_padding(desc_padding, 500)\n",
    "    \n",
    "    for bug_id, bug_title, bug_desc in tqdm(zip(baseline.bug_ids, title_padding, desc_padding)):\n",
    "        baseline.bug_set[bug_id]['title_word'] = bug_title\n",
    "        baseline.bug_set[bug_id]['description_word'] = bug_desc\n",
    "        bug = baseline.bug_set[bug_id]\n",
    "        baseline.sentence_dict[\",\".join(bug_title.astype(str))] = bug['title']\n",
    "        baseline.sentence_dict[\",\".join(bug_desc.astype(str))] = bug['description']\n",
    "    \n",
    "    if len(removed) > 0:\n",
    "        for x in removed:\n",
    "            baseline.bug_ids.remove(x)\n",
    "        baseline.removed = removed\n",
    "        print(\"{} were removed. To see the list call self.removed\".format(len(removed)))"
   ]
  },
  {
   "cell_type": "code",
   "execution_count": 17,
   "metadata": {
    "scrolled": true
   },
   "outputs": [
    {
     "data": {
      "application/vnd.jupyter.widget-view+json": {
       "model_id": "e7b96274609b4b7ba81ab8c57ef2655b",
       "version_major": 2,
       "version_minor": 0
      },
      "text/plain": [
       "HBox(children=(IntProgress(value=0, max=212512), HTML(value='')))"
      ]
     },
     "metadata": {},
     "output_type": "display_data"
    },
    {
     "name": "stdout",
     "output_type": "stream",
     "text": [
      "\n"
     ]
    },
    {
     "data": {
      "application/vnd.jupyter.widget-view+json": {
       "model_id": "48d1cb2324834264a88ca0286a933bfd",
       "version_major": 2,
       "version_minor": 0
      },
      "text/plain": [
       "HBox(children=(IntProgress(value=1, bar_style='info', max=1), HTML(value='')))"
      ]
     },
     "metadata": {},
     "output_type": "display_data"
    },
    {
     "name": "stdout",
     "output_type": "stream",
     "text": [
      "\n",
      "Wall time: 10min 2s\n"
     ]
    }
   ],
   "source": [
    "%%time\n",
    "\n",
    "load_bugs(baseline)\n",
    "len(baseline.sentence_dict)"
   ]
  },
  {
   "cell_type": "markdown",
   "metadata": {
    "colab_type": "text",
    "id": "J0WZNngemNM8"
   },
   "source": [
    "## Geração de batches"
   ]
  },
  {
   "cell_type": "markdown",
   "metadata": {
    "colab_type": "text",
    "id": "a6Obtop6UIVD"
   },
   "source": [
    "# Generating tiple of batches"
   ]
  },
  {
   "cell_type": "code",
   "execution_count": 18,
   "metadata": {
    "colab": {},
    "colab_type": "code",
    "id": "vvyMGBD4IhB-",
    "scrolled": true
   },
   "outputs": [
    {
     "name": "stdout",
     "output_type": "stream",
     "text": [
      "Reading train data\n",
      "Wall time: 1.25 s\n"
     ]
    }
   ],
   "source": [
    "%%time\n",
    "baseline.prepare_dataset()"
   ]
  },
  {
   "cell_type": "code",
   "execution_count": 19,
   "metadata": {},
   "outputs": [],
   "source": [
    "if 2521 in baseline.bug_set:\n",
    "    baseline.bug_set[2521]"
   ]
  },
  {
   "cell_type": "code",
   "execution_count": 20,
   "metadata": {
    "colab": {
     "base_uri": "https://localhost:8080/",
     "height": 51
    },
    "colab_type": "code",
    "id": "PA5CIhgz7odW",
    "outputId": "ae98fdec-1d54-4b1f-ee0e-4c5633802a18",
    "scrolled": true
   },
   "outputs": [
    {
     "name": "stdout",
     "output_type": "stream",
     "text": [
      "Wall time: 116 ms\n"
     ]
    }
   ],
   "source": [
    "%%time\n",
    "\n",
    "batch_size = 64\n",
    "batch_size_test = 128\n",
    "\n",
    "# we want a constant validation group to have a frame of reference for model performance\n",
    "train_gen = baseline.siam_gen(baseline.train_data, baseline.dup_sets_train, batch_size, 1)\n",
    "batch_triplets_valid, valid_input_sample, valid_input_pos, valid_input_neg, valid_sim = baseline.batch_iterator(baseline.train_data, \n",
    "                                                                                          baseline.dup_sets_train, \n",
    "                                                                                          batch_size_test, 1)\n",
    "test_gen = ([valid_input_sample['title'], valid_input_pos['title'], valid_input_neg['title'], \n",
    "             valid_input_sample['description'], valid_input_pos['description'], valid_input_neg['description'],\n",
    "            valid_input_sample['info'], valid_input_pos['info'], valid_input_neg['info']], valid_sim)\n",
    "\n",
    "# Categorical columns\n",
    "number_of_columns_info = valid_input_sample['info'].shape[1]\n",
    "# Max sequence title\n",
    "MAX_SEQUENCE_LENGTH_T = valid_input_sample['title'].shape[1]\n",
    "MAX_SEQUENCE_LENGTH_D = valid_input_sample['description'].shape[1]"
   ]
  },
  {
   "cell_type": "code",
   "execution_count": 21,
   "metadata": {},
   "outputs": [
    {
     "data": {
      "text/plain": [
       "((128, 43), (128, 500), (128, 1682), (128,))"
      ]
     },
     "execution_count": 21,
     "metadata": {},
     "output_type": "execute_result"
    }
   ],
   "source": [
    "valid_input_sample['title'].shape, valid_input_sample['description'].shape, valid_input_sample['info'].shape, valid_sim.shape"
   ]
  },
  {
   "cell_type": "markdown",
   "metadata": {
    "colab_type": "text",
    "id": "24mY22BGnkqp"
   },
   "source": [
    "### Validar entrada"
   ]
  },
  {
   "cell_type": "code",
   "execution_count": 22,
   "metadata": {
    "colab": {
     "base_uri": "https://localhost:8080/",
     "height": 796
    },
    "colab_type": "code",
    "id": "OhTbr3a5nmrh",
    "outputId": "a2d73e0f-e9ce-4d12-a5c8-f0008d2402d0",
    "scrolled": true
   },
   "outputs": [
    {
     "name": "stdout",
     "output_type": "stream",
     "text": [
      "***Title***: error when connecting to my project kenai com bugzilla\n",
      "***Title***: can not query tasks or access bugzilla raw html in log file unknown repository error\n",
      "***Description***: person log date sat personist message person updating repository attributes for https kenai com bugzilla buglist cgi product eclipse organization org eclipse mylyn bugzilla ui person org eclipse core runtime event repository error has occurred at org eclipse mylyn internal bugzilla core organization parse html person organization java at org eclipse mylyn internal bugzilla core organization get repository configuration organization java at org eclipse mylyn internal bugzilla core organization repository configuration organization java at org eclipse mylyn internal bugzilla core organization update attributes organization java at org eclipse mylyn internal bugzilla ui wizard organization run organization java at org eclipse jface operation organization run organization java person log date sat personist message repository error has occurred organization org eclipse mylyn bugzilla person no stack trace available\n",
      "***Description***: can not query tasks or access bugzilla via person running bugzilla version on person to query bugzilla results in raw html in log file see attached\n",
      "***similar = 1\n",
      "########################\n",
      "***Title***: organization condition\n",
      "***Title***: unhandled event loop exception and backward text\n"
     ]
    },
    {
     "name": "stdout",
     "output_type": "stream",
     "text": [
      "***Description***: date suddenly the person editor go crazy by change source code by just clicking in the editor with the mouse tried to undo the trash via organization and then got law dialog closed organization and found this in the log organization org eclipse ui message law stack java lang organization at org eclipse ui internal texteditor quickdiff compare rangedifferencer country rencer find person countryrencer java at org eclipse ui internal texteditor quickdiff compare rangedifferencer country rencer find differences countryrencer java at org eclipse ui internal texteditor quickdiff compare rangedifferencer country rencer find ranges countryrencer java at org eclipse ui internal texteditor quickdiff compare rangedifferencer country rencer find ranges countryrencer java at org eclipse ui internal texteditor quickdiff organization handle changed organization java at org eclipse ui internal texteditor quickdiff organization document changed organization java at org eclipse jface text abstract document do fire document changed abstract document java at org eclipse jface text abstract document do fire document changed abstract document java at org eclipse jface text abstract document do fire document changed abstract document java at org eclipse jface text abstract document fire document changed abstract document java at org eclipse jface text abstract document replace abstract document java at org eclipse jdt internal ui javaeditor person replace person java at org eclipse jface text organization manager organization undo text change organization manager java at org eclipse jface text organization manager organization undo organization manager java at org eclipse core commands operations organization do undo organization java at org eclipse core commands operations organization undo organization java at org eclipse ui operations organization run organization java at org eclipse jface action action run with organization java at org eclipse ui actions organization run with event organization java at org eclipse jface commands organization execute organization java at org eclipse core commands organization execute organization java at org eclipse core commands parameterized organization execute parameterized organization java at org eclipse ui internal keys organization execute organization organization java at org eclipse ui internal keys organization press organization java at org eclipse ui internal keys organization process key event organization java at org eclipse ui internal keys organization filter key sequence bindings organization java at org eclipse ui internal keys organization access organization java at org eclipse ui internal keys organization key down filter handle event organization java at org eclipse swt widgets organization send event organization java at org eclipse swt widgets person java at org eclipse swt widgets person send event person java at org eclipse swt widgets person send event person java at org eclipse swt widgets person send event person java at org eclipse swt widgets person send key event person java at org eclipse swt widgets person send key event person java at org eclipse swt widgets person wm char person java at org eclipse swt widgets organization char organization java at org eclipse swt widgets organization window proc organization java at org eclipse swt widgets person window proc person java at org eclipse swt internal win organization dispatch message nationality person at org eclipse swt internal win organization dispatch message organization java at org eclipse swt widgets person read and dispatch person java at org eclipse ui internal nationality run event loop nationality java at org eclipse ui internal nationality run organization nationality java at org eclipse ui internal nationality create and run nationality nationality java at org eclipse ui platform organization create and run nationality platform organization java at org eclipse ui internal ide product run product java at org eclipse core internal runtime organization run organization java at org eclipse core runtime adaptor organization starter run organization starter java at org eclipse core runtime adaptor organization starter run organization starter java at sun reflect nationality person person invoke nationality person at sun reflect nationality person person invoke nationality person person java at sun reflect delegating person person invoke delegating person person java at java lang reflect person invoke person java at org eclipse core launcher person invoke organization person java at org eclipse core launcher person basic run person java at org eclipse core launcher person run person java at org eclipse core launcher person main person java organization org eclipse ui message unhandled event loop exception organization org eclipse ui message failed to execute runnable java lang event stack org eclipse swt swtexception failed to execute runnable java lang event at org eclipse swt swt error swt java at org eclipse swt swt error swt java at org eclipse swt widgets nationality run async messages nationality java at org eclipse swt widgets person run async messages person java at org eclipse swt widgets person read and dispatch person java at org eclipse jface window location run location java at org eclipse jface window location open location java at org eclipse jface dialogs person open person java at org eclipse jface dialogs person open person person java at org eclipse jface dialogs person open person person java at org eclipse ui operations operation history organization report exception operation history organization java at org eclipse ui operations organization run organization java at org eclipse jface action action run with organization java at org eclipse ui actions organization run with event organization java at org eclipse jface commands organization execute organization java at org eclipse core commands organization execute organization java at org eclipse core commands parameterized organization execute parameterized organization java at org eclipse ui internal keys organization execute organization organization java at org eclipse ui internal keys organization press organization java at org eclipse ui internal keys organization process key event organization java at org eclipse ui internal keys organization filter key sequence bindings organization java at org eclipse ui internal keys organization access organization java at org eclipse ui internal keys organization key down filter handle event organization java at org eclipse swt widgets organization send event organization java at org eclipse swt widgets person java at org eclipse swt widgets person send event person java at org eclipse swt widgets person send event person java at org eclipse swt widgets person send event person java at org eclipse swt widgets person send key event person java at org eclipse swt widgets person send key event person java at org eclipse swt widgets person wm char person java at org eclipse swt widgets organization char organization java at org eclipse swt widgets organization window proc organization java at org eclipse swt widgets person window proc person java at org eclipse swt internal win organization dispatch message nationality person at org eclipse swt internal win organization dispatch message organization java at org eclipse swt widgets person read and dispatch person java at org eclipse ui internal nationality run event loop nationality java at org eclipse ui internal nationality run organization nationality java at org eclipse ui internal nationality create and run nationality nationality java at org eclipse ui platform organization create and run nationality platform organization java at org eclipse ui internal ide product run product java at org eclipse core internal runtime organization run organization java at org eclipse core runtime adaptor organization starter run organization starter java at org eclipse core runtime adaptor organization starter run organization starter java at sun reflect nationality person person invoke nationality person at sun reflect nationality person person invoke nationality person person java at sun reflect delegating person person invoke delegating person person java at java lang reflect person invoke person java at org eclipse core launcher person invoke organization person java at org eclipse core launcher person basic run person java at org eclipse core launcher person run person java at org eclipse core launcher person main person java caused by java lang event at org eclipse jface text projection person to image organization person java at org eclipse jface text person model organization person organization person java at org eclipse jface text source artwork do paint artwork java at org eclipse jface text source artwork double buffer paint artwork java at org eclipse jface text source artwork redraw artwork java at org eclipse jface text source artwork run artwork java at org eclipse swt widgets product run product java at org eclipse swt widgets nationality run async messages nationality java more organization org eclipse ui message unhandled event loop exception organization org eclipse ui message failed to execute runnable java lang event stack org eclipse swt swtexception failed to execute runnable java lang event at org eclipse swt swt error swt java at org eclipse swt swt error swt java at org eclipse swt widgets nationality run async messages nationality java at org eclipse swt widgets person run async messages person java at org eclipse swt widgets person read and dispatch person java at org eclipse jface window location run location java at org eclipse jface window location open location java at org eclipse jface dialogs person open person java at org eclipse jface dialogs person open person person java at org eclipse jface dialogs person open person person java at org eclipse ui operations operation history organization report exception operation history organization java at org eclipse ui operations organization run organization java at org eclipse jface action action run with organization java at org eclipse ui actions organization run with event organization java at org eclipse jface commands organization execute organization java at org eclipse core commands organization execute organization java at org eclipse core commands parameterized organization execute parameterized organization java at org eclipse ui internal keys organization execute organization organization java at org eclipse ui internal keys organization press organization java at org eclipse ui internal keys organization process key event organization java at org eclipse ui internal keys organization filter key sequence bindings organization java at org eclipse ui internal keys organization access organization java at org eclipse ui internal keys organization key down filter handle event organization java at org eclipse swt widgets organization send event organization java at org eclipse swt widgets person java at org eclipse swt widgets person send event person java at org eclipse swt widgets person send event person java at org eclipse swt widgets person send event person java at org eclipse swt widgets person send key event person java at org eclipse swt widgets person send key event person java at org eclipse swt widgets person wm char person java at org eclipse swt widgets organization char organization java at org eclipse swt widgets organization window proc organization java at org eclipse swt widgets person window proc person java at org eclipse swt internal win organization dispatch message nationality person at org eclipse swt internal win organization dispatch message organization java at org eclipse swt widgets person read and dispatch person java at org eclipse ui internal nationality run event loop nationality java at org eclipse ui internal nationality run organization nationality java at org eclipse ui internal nationality create and run nationality nationality java at org eclipse ui platform organization create and run nationality platform organization java at org eclipse ui internal ide product run product java at org eclipse core internal runtime organization run organization java at org eclipse core runtime adaptor organization starter run organization starter java at org eclipse core runtime adaptor organization starter run organization starter java at sun reflect nationality person person invoke nationality person at sun reflect nationality person person invoke nationality person person java at sun reflect delegating person person invoke delegating person person java at java lang reflect person invoke person java at org eclipse core launcher person invoke organization person java at org eclipse core launcher person basic run person java at org eclipse core launcher person run person java at org eclipse core launcher person main person java caused by java lang event at org eclipse jface text projection person to image organization person java at org eclipse jface text person model organization person organization person java at org eclipse jface text source artwork do paint artwork java at org eclipse jface text source artwork double buffer paint artwork java at org eclipse jface text source artwork redraw artwork java at org eclipse jface text source artwork run artwork java at org eclipse swt widgets product run product java at org eclipse swt widgets nationality run async messages nationality java more organization org eclipse ui message unhandled event loop exception organization org eclipse ui message failed to execute runnable java lang event stack org eclipse swt swtexception failed to execute runnable java lang event at org eclipse swt swt error swt java at org eclipse swt swt error swt java at org eclipse swt widgets nationality run async messages nationality java at org eclipse swt widgets person run async messages person java at org eclipse swt widgets person read and dispatch person java at org eclipse jface window location run location java at org eclipse jface window location open location java at org eclipse jface dialogs person open person java at org eclipse jface dialogs person open person person java at org eclipse jface dialogs person open person person java at org eclipse ui operations operation history organization report exception operation history organization java at org eclipse ui operations organization run organization java at org eclipse jface action action run with organization java at org eclipse ui actions organization run with event organization java at org eclipse jface commands organization execute organization java at org eclipse core commands organization execute organization java at org eclipse core commands parameterized organization execute parameterized organization java at org eclipse ui internal keys organization execute organization organization java at org eclipse ui internal keys organization press organization java at org eclipse ui internal keys organization process key event organization java at org eclipse ui internal keys organization filter key sequence bindings organization java at org eclipse ui internal keys organization access organization java at org eclipse ui internal keys organization key down filter handle event organization java at org eclipse swt widgets organization send event organization java at org eclipse swt widgets person java at org eclipse swt widgets person send event person java at org eclipse swt widgets person send event person java at org eclipse swt widgets person send event person java at org eclipse swt widgets person send key event person java at org eclipse swt widgets person send key event person java at org eclipse swt widgets person wm char person java at org eclipse swt widgets organization char organization java at org eclipse swt widgets organization window proc organization java at org eclipse swt widgets person window proc person java at org eclipse swt internal win organization dispatch message nationality person at org eclipse swt internal win organization dispatch message organization java at org eclipse swt widgets person read and dispatch person java at org eclipse ui internal nationality run event loop nationality java at org eclipse ui internal nationality run organization nationality java at org eclipse ui internal nationality create and run nationality nationality java at org eclipse ui platform organization create and run nationality platform organization java at org eclipse ui internal ide product run product java at org eclipse core internal runtime organization run organization java at org eclipse core runtime adaptor organization starter run organization starter java at org eclipse core runtime adaptor organization starter run organization starter java at sun reflect nationality person person invoke nationality person at sun reflect nationality person person invoke nationality person person java at sun reflect delegating person person invoke delegating person person java at java lang reflect person invoke person java at org eclipse core launcher person invoke organization person java at org eclipse core launcher person basic run person java at org eclipse core launcher person run person java at org eclipse core launcher person main person java caused by java lang event at org eclipse jface text projection person to image organization person java at org eclipse jface text person model organization person organization person java at org eclipse jface text source artwork do paint artwork java at org eclipse jface text source artwork double buffer paint artwork java at org eclipse jface text source artwork redraw artwork java at org eclipse jface text source artwork run artwork java at org eclipse swt widgets product run product java at org eclipse swt widgets nationality run async messages nationality java more organization org eclipse ui message unhandled event loop exception organization org eclipse ui message failed to execute runnable java lang event stack org eclipse swt swtexception failed to execute runnable java lang event at org eclipse swt swt error swt java at org eclipse swt swt error swt java at org eclipse swt widgets nationality run async messages nationality java at org eclipse swt widgets person run async messages person java at org eclipse swt widgets person read and dispatch person java at org eclipse jface window location run location java at org eclipse jface window location open location java at org eclipse jface dialogs person open person java at org eclipse jface dialogs person open person person java at org eclipse jface dialogs person open person person java at org eclipse ui operations operation history organization report exception operation history organization java at org eclipse ui operations organization run organization java at org eclipse jface action action run with organization java at org eclipse ui actions organization run with event organization java at org eclipse jface commands organization execute organization java at org eclipse core commands organization execute organization java at org eclipse core commands parameterized organization execute parameterized organization java at org eclipse ui internal keys organization execute organization organization java at org eclipse ui internal keys organization press organization java at org eclipse ui internal keys organization process key event organization java at org eclipse ui internal keys organization filter key sequence bindings organization java at org eclipse ui internal keys organization access organization java at org eclipse ui internal keys organization key down filter handle event organization java at org eclipse swt widgets organization send event organization java at org eclipse swt widgets person java at org eclipse swt widgets person send event person java at org eclipse swt widgets person send event person java at org eclipse swt widgets person send event person java at org eclipse swt widgets person send key event person java at org eclipse swt widgets person send key event person java at org eclipse swt widgets person wm char person java at org eclipse swt widgets organization char organization java at org eclipse swt widgets organization window proc organization java at org eclipse swt widgets person window proc person java at org eclipse swt internal win organization dispatch message nationality person at org eclipse swt internal win organization dispatch message organization java at org eclipse swt widgets person read and dispatch person java at org eclipse ui internal nationality run event loop nationality java at org eclipse ui internal nationality run organization nationality java at org eclipse ui internal nationality create and run nationality nationality java at org eclipse ui platform organization create and run nationality platform organization java at org eclipse ui internal ide product run product java at org eclipse core internal runtime organization run organization java at org eclipse core runtime adaptor organization starter run organization starter java at org eclipse core runtime adaptor organization starter run organization starter java at sun reflect nationality person person invoke nationality person at sun reflect nationality person person invoke nationality person person java at sun reflect delegating person person invoke delegating person person java at java lang reflect person invoke person java at org eclipse core launcher person invoke organization person java at org eclipse core launcher person basic run person java at org eclipse core launcher person run person java at org eclipse core launcher person main person java caused by java lang event at org eclipse jface text projection person to image organization person java at org eclipse jface text person model organization person organization person java at org eclipse jface text source artwork do paint artwork java at org eclipse jface text source artwork double buffer paint artwork java at org eclipse jface text source artwork redraw artwork java at org eclipse jface text source artwork run artwork java at org eclipse swt widgets product run product java at org eclipse swt widgets nationality run async messages nationality java more organization org eclipse ui message unhandled event loop exception organization org eclipse ui message failed to execute runnable java lang event stack org eclipse swt swtexception failed to execute runnable java lang event at org eclipse swt swt error swt java at org eclipse swt swt error swt java at org eclipse swt widgets nationality run async messages nationality java at org eclipse swt widgets person run async messages person java at org eclipse swt widgets person read and dispatch person java at org eclipse jface window location run location java at org eclipse jface window location open location java at org eclipse jface dialogs person open person java at org eclipse jface dialogs person open person person java at org eclipse jface dialogs person open person person java at org eclipse ui operations operation history organization report exception operation history organization java at org eclipse ui operations organization run organization java at org eclipse jface action action run with organization java at org eclipse ui actions organization run with event organization java at org eclipse jface commands organization execute organization java at org eclipse core commands organization execute organization java at org eclipse core commands parameterized organization execute parameterized organization java at org eclipse ui internal keys organization execute organization organization java at org eclipse ui internal keys organization press organization java at org eclipse ui internal keys organization process key event organization java at org eclipse ui internal keys organization filter key sequence bindings organization java at org eclipse ui internal keys organization access organization java at org eclipse ui internal keys organization key down filter handle event organization java at org eclipse swt widgets organization send event organization java at org eclipse swt widgets person java at org eclipse swt widgets person send event person java at org eclipse swt widgets person send event person java at org eclipse swt widgets person send event person java at org eclipse swt widgets person send key event person java at org eclipse swt widgets person send key event person java at org eclipse swt widgets person wm char person java at org eclipse swt widgets organization char organization java at org eclipse swt widgets organization window proc organization java at org eclipse swt widgets person window proc person java at org eclipse swt internal win organization dispatch message nationality person at org eclipse swt internal win organization dispatch message organization java at org eclipse swt widgets person read and dispatch person java at org eclipse ui internal nationality run event loop nationality java at org eclipse ui internal nationality run organization nationality java at org eclipse ui internal nationality create and run nationality nationality java at org eclipse ui platform organization create and run nationality platform organization java at org eclipse ui internal ide product run product java at org eclipse core internal runtime organization run organization java at org eclipse core runtime adaptor organization starter run organization starter java at org eclipse core runtime adaptor organization starter run organization starter java at sun reflect nationality person person invoke nationality person at sun reflect nationality person person invoke nationality person person java at sun reflect delegating person person invoke delegating person person java at java lang reflect person invoke person java at org eclipse core launcher person invoke organization person java at org eclipse core launcher person basic run person java at org eclipse core launcher person run person java at org eclipse core launcher person main person java caused by java lang event at org eclipse jface text projection person to image organization person java at org eclipse jface text person model organization person organization person java at org eclipse jface text source artwork do paint artwork java at org eclipse jface text source artwork double buffer paint artwork java at org eclipse jface text source artwork redraw artwork java at org eclipse jface text source artwork run artwork java at org eclipse swt widgets product run product java at org eclipse swt widgets nationality run async messages nationality java more organization org eclipse osgi message person while stopping org eclipse pde core stack org osgi framework organization in org eclipse pde internal core pdecore stop of bundle org eclipse pde core at org eclipse osgi framework internal core person stop person java at org eclipse osgi framework internal core location stop worker location java at org eclipse osgi framework internal core abstract bundle stop abstract bundle java at org eclipse core runtime adaptor person basic stop bundles person java at org eclipse core runtime adaptor person stop bundles person java at org eclipse core runtime adaptor organization adaptor framework stopping organization adaptor java at org eclipse osgi framework internal core organization shutdown organization java at org eclipse osgi framework internal core product run product java at java lang organization run organization java caused by java lang organization at org eclipse pde internal core external nationality manager clear stale states external nationality manager java at org eclipse pde internal core external nationality manager shutdown external nationality manager java at org eclipse pde internal core pdecore stop pdecore java at org eclipse osgi framework internal core person run person java at java security access organizationler do privileged nationality person at org eclipse osgi framework internal core person stop person java more root exception java lang organization at org eclipse pde internal core external nationality manager clear stale states external nationality manager java at org eclipse pde internal core external nationality manager shutdown external nationality manager java at org eclipse pde internal core pdecore stop pdecore java at org eclipse osgi framework internal core person run person java at java security access organizationler do privileged nationality person at org eclipse osgi framework internal core person stop person java at org eclipse osgi framework internal core location stop worker location java at org eclipse osgi framework internal core abstract bundle stop abstract bundle java at org eclipse core runtime adaptor person basic stop bundles person java at org eclipse core runtime adaptor person stop bundles person java at org eclipse core runtime adaptor organization adaptor framework stopping organization adaptor java at org eclipse osgi framework internal core organization shutdown organization java at org eclipse osgi framework internal core product run product java at java lang organization run organization java\n"
     ]
    },
    {
     "name": "stdout",
     "output_type": "stream",
     "text": [
      "***Description***: during normal development work went to properties file to update value after selecting and deleting text started to type the text was being written backwards the cursor stays in static position and every new letter is added to the right of the cursor moving the rest of the line along so entering true appears as eurt time error log view notice that every letter typed causes java lang organization and an organization event loop exception eclipse build ipersonthe organization stack trace is personjava lang organization java lang organization at org eclipse ui internal texteditor quickdiff compare rangedifferencer person find person person java at org eclipse ui internal texteditor quickdiff compare rangedifferencer person find differences person java at org eclipse ui internal texteditor quickdiff compare rangedifferencer person find ranges person java at org eclipse ui internal texteditor quickdiff compare rangedifferencer person find ranges person java at org eclipse ui internal texteditor quickdiff organization handle changed organization java at org eclipse ui internal texteditor quickdiff organization document changed organization java at org eclipse jface text abstract document do fire document changed abstract document java at org eclipse jface text abstract document do fire document changed abstract document java at org eclipse jface text abstract document do fire document changed abstract document java at org eclipse jface text abstract document fire document changed abstract document java at org eclipse jface text abstract document replace abstract document java at org eclipse jface text abstract document replace abstract document java at org eclipse jface text organization document adapter replace text range organization document adapter java at org eclipse swt custom person modify content person java at org eclipse swt custom person send key event person java at org eclipse swt custom person do content person java at org eclipse swt custom person handle key person java at org eclipse swt custom person handle key down person java at org eclipse swt custom person handle event person java at org eclipse swt widgets artwork send event artwork java at org eclipse swt widgets person send event person java at org eclipse swt widgets person send event person java at org eclipse swt widgets person send event person java at org eclipse swt widgets person send key event person java at org eclipse swt widgets person send key event person java at org eclipse swt widgets person wm char person java at org eclipse swt widgets organization char organization java at org eclipse swt widgets organization window proc organization java at org eclipse swt widgets person window proc person java at org eclipse swt internal win organization dispatch message nationality person at org eclipse swt internal win organization dispatch message organization java at org eclipse swt widgets person read and dispatch person java at org eclipse ui internal nationality run event loop nationality java at org eclipse ui internal nationality run organization nationality java at org eclipse ui internal nationality create and run nationality nationality java at org eclipse ui platform organization create and run nationality platform organization java at org eclipse ui internal ide product run product java at org eclipse core internal runtime organization run organization java at org eclipse core runtime adaptor organization run organization java at org eclipse core runtime adaptor organization run organization java at sun reflect nationality person person invoke nationality person at sun reflect nationality person person invoke unknown source at sun reflect delegating person person invoke unknown source at java lang reflect person invoke unknown source at org eclipse core launcher person invoke framework person java at org eclipse core launcher person basic run person java at org eclipse core launcher person run person java at org eclipse core launcher person main person java when trying to delete the text get an organization dialogue and the same stack trace as above but with the following session data eclipse build ipersonjava version java vendor organization constants organization win arch organization win nl en organization line arguments os win ws win arch when closed and re opened the properties file the problem went away and have been unable to re produce the problem again\n",
      "***similar = 1\n",
      "########################\n",
      "***Title***: help inaccurate extension point schemas with respect to min max element occurrences\n",
      "***Title***: organization option to make organization truncate from the right\n",
      "***Description***: hi this bug is follow up to this note http dev eclipse org mhonarc lists eclipse dev msg html organization point schema org eclipse help base browser the browser element requires number factoryclass element however in practice the factoryclass element can be omitted and the factoryclass attribute may be used instead location maximum element occurrence violations detected in the following location organization plug ins org eclipse help base org eclipse help ui extension point schema org eclipse ui browser browsers the browser element requires number location element however the element description specifies number or more locations can be specified perhaps meant number or more locations should be specified within number browser element location maximum element occurrence violations detected in the following location organization plug ins org eclipse team ui extension removed from latest code in head please see attached patch and feel free to let me know of any questions or concerns\n",
      "***Description***: organization option to make organization truncate from the right\n",
      "***similar = 0\n",
      "########################\n",
      "***Title***: compiler annotation code compiles by organization compiler but not by organization compiler\n",
      "***Title***: infinite loop in console\n",
      "***Description***: code below compiles without any error in organization but failing to compile with organization organization version and with following error nationality java illegal start of expression error note extra colon in annotations list in nationality java organization java organization public interface organization foo value foo java organization public interface person value nationality java organization foo foo public class nationality\n",
      "***Description***: infinite loop in console\n",
      "***similar = 0\n",
      "########################\n",
      "Wall time: 209 ms\n"
     ]
    }
   ],
   "source": [
    "%%time \n",
    "\n",
    "baseline.display_batch(baseline.train_data, baseline.dup_sets_train, 5)"
   ]
  },
  {
   "cell_type": "markdown",
   "metadata": {
    "colab_type": "text",
    "id": "XPrsLs4Kg4Pa"
   },
   "source": [
    "## Pre-trained embeddings\n",
    "\n",
    "Loading pretrained word vectors"
   ]
  },
  {
   "cell_type": "markdown",
   "metadata": {
    "colab_type": "text",
    "id": "6p9eE5TWoH7p"
   },
   "source": [
    "### Glove"
   ]
  },
  {
   "cell_type": "code",
   "execution_count": null,
   "metadata": {},
   "outputs": [],
   "source": [
    "vocab = baseline.load_vocabulary(os.path.join(DIR, 'word_vocab.pkl'))\n",
    "#print(np.random.choice(vocab, 10))\n",
    "# for token in vocab:\n",
    "#     print(token)"
   ]
  },
  {
   "cell_type": "code",
   "execution_count": 24,
   "metadata": {},
   "outputs": [
    {
     "data": {
      "text/plain": [
       "'Total vocabulary: 19998'"
      ]
     },
     "execution_count": 24,
     "metadata": {},
     "output_type": "execute_result"
    }
   ],
   "source": [
    "\"Total vocabulary: {}\".format(len(vocab))"
   ]
  },
  {
   "cell_type": "code",
   "execution_count": 25,
   "metadata": {
    "colab": {
     "base_uri": "https://localhost:8080/",
     "height": 85
    },
    "colab_type": "code",
    "id": "QY-ef3OGoIiq",
    "outputId": "55f4c93c-98bb-4bac-92f2-76bd3b777605"
   },
   "outputs": [
    {
     "data": {
      "application/vnd.jupyter.widget-view+json": {
       "model_id": "d1e59d4c5f5a4b508d9821875c3a900d",
       "version_major": 2,
       "version_minor": 0
      },
      "text/plain": [
       "HBox(children=(IntProgress(value=1, bar_style='info', max=1), HTML(value='')))"
      ]
     },
     "metadata": {},
     "output_type": "display_data"
    },
    {
     "name": "stdout",
     "output_type": "stream",
     "text": [
      "\n",
      "Total 1917494 word vectors in Glove 42B 300d.\n",
      "vocabulary loaded\n",
      "Number of OOV words: 19998\n",
      "Wall time: 4min 37s\n"
     ]
    }
   ],
   "source": [
    "%%time\n",
    "\n",
    "baseline.generating_embed(GLOVE_DIR=GLOVE_DIR, EMBEDDING_DIM=EMBEDDING_DIM) # MAX_NB_WORDS=MAX_NB_WORDS"
   ]
  },
  {
   "cell_type": "markdown",
   "metadata": {},
   "source": [
    "## Experiment"
   ]
  },
  {
   "cell_type": "markdown",
   "metadata": {},
   "source": [
    "### Training and evaluating for each epoch at same time"
   ]
  },
  {
   "cell_type": "markdown",
   "metadata": {},
   "source": [
    "#### Auxiliary methods train experiment siamese"
   ]
  },
  {
   "cell_type": "code",
   "execution_count": 26,
   "metadata": {},
   "outputs": [],
   "source": [
    "from methods.retrieval import Retrieval\n",
    "from annoy import AnnoyIndex\n",
    "import numpy as np"
   ]
  },
  {
   "cell_type": "code",
   "execution_count": 27,
   "metadata": {
    "scrolled": true
   },
   "outputs": [
    {
     "name": "stdout",
     "output_type": "stream",
     "text": [
      "Creating the buckets...\n"
     ]
    },
    {
     "data": {
      "application/vnd.jupyter.widget-view+json": {
       "model_id": "18054179b2f54552bff05cf747842512",
       "version_major": 2,
       "version_minor": 0
      },
      "text/plain": [
       "HBox(children=(IntProgress(value=0, max=321483), HTML(value='')))"
      ]
     },
     "metadata": {},
     "output_type": "display_data"
    },
    {
     "name": "stdout",
     "output_type": "stream",
     "text": [
      "\n"
     ]
    },
    {
     "data": {
      "application/vnd.jupyter.widget-view+json": {
       "model_id": "bc6d17840849484c8347482d2c814962",
       "version_major": 2,
       "version_minor": 0
      },
      "text/plain": [
       "HBox(children=(IntProgress(value=0, max=39523), HTML(value='')))"
      ]
     },
     "metadata": {},
     "output_type": "display_data"
    },
    {
     "name": "stdout",
     "output_type": "stream",
     "text": [
      "\n",
      "Creating the queries...\n"
     ]
    },
    {
     "data": {
      "application/vnd.jupyter.widget-view+json": {
       "model_id": "95cd8adf452b4c549656ec2c1ad156b1",
       "version_major": 2,
       "version_minor": 0
      },
      "text/plain": [
       "HBox(children=(IntProgress(value=1, bar_style='info', max=1), HTML(value='')))"
      ]
     },
     "metadata": {},
     "output_type": "display_data"
    },
    {
     "name": "stdout",
     "output_type": "stream",
     "text": [
      "\n"
     ]
    }
   ],
   "source": [
    "retrieval = Retrieval()\n",
    "\n",
    "path = 'data/processed/{}'.format(DOMAIN)\n",
    "path_buckets = 'data/normalized/{}/{}.csv'.format(DOMAIN, DOMAIN)\n",
    "path_train = 'data/processed/{}/train.txt'.format(DOMAIN)\n",
    "path_test = 'data/processed/{}/test.txt'.format(DOMAIN)\n",
    "\n",
    "MAX_SEQUENCE_LENGTH_I = number_of_columns_info # Status, Severity, Version, Component, Module\n",
    "\n",
    "# Create the instance from baseline\n",
    "#retrieval.baseline = Baseline(path, path_buckets, MAX_SEQUENCE_LENGTH_T, MAX_SEQUENCE_LENGTH_D)\n",
    "retrieval.baseline = baseline\n",
    "\n",
    "df = pd.read_csv(path_buckets)\n",
    "\n",
    "# Load bug ids\n",
    "#retrieval.load_bugs(path, path_train)\n",
    "# Create the buckets\n",
    "retrieval.create_bucket(df)\n",
    "# Read and create the test queries duplicate\n",
    "retrieval.create_queries(path_test)"
   ]
  },
  {
   "cell_type": "markdown",
   "metadata": {},
   "source": [
    "#### Hashing bugs by buckets"
   ]
  },
  {
   "cell_type": "code",
   "execution_count": 28,
   "metadata": {},
   "outputs": [
    {
     "data": {
      "application/vnd.jupyter.widget-view+json": {
       "model_id": "3ee8189b9c3a4f568d526c59e66c9e41",
       "version_major": 2,
       "version_minor": 0
      },
      "text/plain": [
       "HBox(children=(IntProgress(value=0, max=321483), HTML(value='')))"
      ]
     },
     "metadata": {},
     "output_type": "display_data"
    },
    {
     "name": "stdout",
     "output_type": "stream",
     "text": [
      "\n"
     ]
    }
   ],
   "source": [
    "issues_by_buckets = {}\n",
    "for bucket in tqdm(retrieval.buckets):\n",
    "    issues_by_buckets[bucket] = bucket\n",
    "    for issue in np.array(retrieval.buckets[bucket]).tolist():\n",
    "        issues_by_buckets[issue] = bucket"
   ]
  },
  {
   "cell_type": "markdown",
   "metadata": {},
   "source": [
    "#### Model to vectorize"
   ]
  },
  {
   "cell_type": "code",
   "execution_count": 29,
   "metadata": {},
   "outputs": [],
   "source": [
    "from keras.models import Model\n",
    "from keras.layers import Input\n",
    "from keras.models import load_model\n",
    "\n",
    "def get_model_vectorizer(path=None, loaded_model=None):\n",
    "    if(path):\n",
    "        loaded_model = load_model(os.path.join(\"modelos\", \"model_{}.h5\".format(path)))\n",
    "        \n",
    "        '''\n",
    "            {'l2_normalize' : l2_normalize, \n",
    "                                     'margin_loss' : margin_loss,\n",
    "                                     'pos_distance' : pos_distance,\n",
    "                                     'neg_distance' : neg_distance,\n",
    "                                     'stack_tensors': stack_tensors}\n",
    "        '''\n",
    "    \n",
    "    return loaded_model"
   ]
  },
  {
   "cell_type": "markdown",
   "metadata": {},
   "source": [
    "#### Getting the list of candidates"
   ]
  },
  {
   "cell_type": "code",
   "execution_count": 30,
   "metadata": {},
   "outputs": [],
   "source": [
    "def indexing_query(annoy, queries_test_vectorized, verbose=1):\n",
    "    X_test = queries_test_vectorized\n",
    "    distance_test, indices_test = [], []\n",
    "    loop = enumerate(X_test)\n",
    "    if(verbose):\n",
    "        loop = tqdm(enumerate(X_test))\n",
    "        loop.set_description('Getting the list of candidates from queries')\n",
    "    for index, row in loop:\n",
    "        vector = row['vector']\n",
    "        rank, dist = annoy.get_nns_by_vector(vector, 30, include_distances=True)\n",
    "        indices_test.append(rank)\n",
    "        distance_test.append(1 - np.array(dist)) # normalize the similarity between 0 and 1\n",
    "    if(verbose): loop.close()\n",
    "    return X_test, distance_test, indices_test"
   ]
  },
  {
   "cell_type": "markdown",
   "metadata": {},
   "source": [
    "#### Indexing bugs"
   ]
  },
  {
   "cell_type": "code",
   "execution_count": 31,
   "metadata": {},
   "outputs": [],
   "source": [
    "# Indexing all train\n",
    "def indexing_test(buckets_train_vectorized, verbose=1):\n",
    "    X = np.array(buckets_train_vectorized)\n",
    "    annoy = AnnoyIndex(X[0]['vector'].shape[0])  # Length of item vector that will be indexed\n",
    "\n",
    "    loop = total=len(X)\n",
    "    if(verbose):\n",
    "        loop = tqdm(total=len(X))\n",
    "        loop.set_description(\"Indexing test in annoy\")\n",
    "    for index, row in enumerate(X):\n",
    "        vector = row['vector']\n",
    "        annoy.add_item(index, vector)\n",
    "        if(verbose): loop.update(1)\n",
    "    if(verbose): loop.close()\n",
    "    annoy.build(10) # 10 trees\n",
    "    return annoy"
   ]
  },
  {
   "cell_type": "markdown",
   "metadata": {},
   "source": [
    "#### Rank result"
   ]
  },
  {
   "cell_type": "code",
   "execution_count": 162,
   "metadata": {},
   "outputs": [],
   "source": [
    "def rank_result(test_vectorized, indices_test, distance_test, verbose=1):\n",
    "    formated_rank = []\n",
    "    loop = zip(indices_test, distance_test)\n",
    "    if(verbose):\n",
    "        loop = tqdm(zip(indices_test, distance_test))\n",
    "        loop.set_description('Generating the rank')\n",
    "    for row_index, row_sim in loop:\n",
    "        row_index, row_sim = row_index[:25], row_sim[:25]\n",
    "        formated_rank.append(\",\".join([\"{}:{}\".format(test_vectorized[index]['bug_id'], sim) \n",
    "                                       for index, sim in zip(row_index, row_sim)]))\n",
    "    if(verbose): loop.close()\n",
    "    return formated_rank"
   ]
  },
  {
   "cell_type": "markdown",
   "metadata": {},
   "source": [
    "#### Vectorizer "
   ]
  },
  {
   "cell_type": "code",
   "execution_count": 172,
   "metadata": {},
   "outputs": [],
   "source": [
    "def vectorizer_test(model, test, issues_by_buckets, verbose=1):\n",
    "    bug_set = retrieval.baseline.get_bug_set()\n",
    "    test_vectorized = []\n",
    "    title_data, desc_data, info_data = [], [], []\n",
    "    loop = test\n",
    "    if(verbose):\n",
    "        loop = tqdm(test)\n",
    "        loop.set_description('Vectorizing buckets')\n",
    "    buckets = set()\n",
    "    for row in loop: # retrieval.bugs_train\n",
    "        query, ground_truth = row\n",
    "        bugs = [query]\n",
    "        bugs += ground_truth\n",
    "        for bug_id in bugs:\n",
    "            buckets.add(issues_by_buckets[bug_id])\n",
    "    for bucket_id in buckets:\n",
    "        bug = bug_set[bucket_id]\n",
    "        title_data.append(bug['title_word'])\n",
    "        desc_data.append(bug['description_word'])\n",
    "        info_data.append(retrieval.get_info(bug))\n",
    "        test_vectorized.append({ 'bug_id' : bucket_id })\n",
    "    if(verbose):\n",
    "        loop.close()\n",
    "    # Get embedding of all buckets\n",
    "    embed_test = model.predict([ np.array(title_data), np.array(desc_data), np.array(info_data) ])\n",
    "    # Fill the buckets array\n",
    "    for index, vector in enumerate(embed_test):\n",
    "        test_vectorized[index]['vector'] = vector\n",
    "    \n",
    "    return test_vectorized"
   ]
  },
  {
   "cell_type": "code",
   "execution_count": 178,
   "metadata": {},
   "outputs": [],
   "source": [
    "def vectorize_queries(model, test, issues_by_buckets, verbose=1):\n",
    "    bug_set = retrieval.baseline.get_bug_set()\n",
    "    queries_test_vectorized = []\n",
    "    title_data, desc_data, info_data = [], [], []\n",
    "    loop = test\n",
    "    if(verbose):\n",
    "        loop = tqdm(test)\n",
    "    for row in loop:\n",
    "        test_bug_id, ground_truth = row\n",
    "        if issues_by_buckets[test_bug_id] == test_bug_id: # if the bug is the master\n",
    "            test_bug_id = np.random.choice(ground_truth)\n",
    "        bug = bug_set[test_bug_id]\n",
    "        title_data.append(bug['title_word'])\n",
    "        desc_data.append(bug['description_word'])\n",
    "        info_data.append(retrieval.get_info(bug))\n",
    "        queries_test_vectorized.append({ 'bug_id' : test_bug_id, 'ground_truth': issues_by_buckets[test_bug_id] })\n",
    "\n",
    "    # Get embedding of all buckets\n",
    "    embed_queries = model.predict([ np.array(title_data), np.array(desc_data), np.array(info_data) ])\n",
    "    # Fill the queries array    \n",
    "    for index, vector in enumerate(embed_queries):\n",
    "        queries_test_vectorized[index]['vector'] = vector\n",
    "    \n",
    "    return queries_test_vectorized"
   ]
  },
  {
   "cell_type": "markdown",
   "metadata": {},
   "source": [
    "#### Queries"
   ]
  },
  {
   "cell_type": "code",
   "execution_count": 155,
   "metadata": {},
   "outputs": [],
   "source": [
    "# Generating the rank result\n",
    "def formating_rank(X_test, verbose=1):\n",
    "    rank_queries = []\n",
    "    loop = enumerate(X_test)\n",
    "    if(verbose):\n",
    "        loop = tqdm(enumerate(X_test))\n",
    "        loop.set_description('Generating the queries from rank')\n",
    "    for index, row in loop:\n",
    "        dup_a, ground_truth = row['bug_id'], row['ground_truth']\n",
    "        rank_queries.append(\"{}:{}\".format(dup_a, ground_truth))\n",
    "    if(verbose): loop.close()\n",
    "    return rank_queries"
   ]
  },
  {
   "cell_type": "code",
   "execution_count": 159,
   "metadata": {},
   "outputs": [],
   "source": [
    "def export_rank(rank_queries, formated_rank, verbose=1):\n",
    "    exported_rank = []\n",
    "    loop = len(rank_queries)\n",
    "    if(verbose):\n",
    "        loop = tqdm(total=len(rank_queries))\n",
    "        loop.set_description('Exporting the rank')\n",
    "    for query, rank in zip(rank_queries, formated_rank):\n",
    "        exported_rank.append(\"{}|{}\".format(query, rank))\n",
    "        if(verbose): loop.update(1)\n",
    "    if(verbose): loop.close()\n",
    "    return exported_rank"
   ]
  },
  {
   "cell_type": "markdown",
   "metadata": {},
   "source": [
    "#### Methods to evaluate each epoch"
   ]
  },
  {
   "cell_type": "code",
   "execution_count": 174,
   "metadata": {},
   "outputs": [],
   "source": [
    "def evaluate_validation_test(verbose, loaded_model, test, issues_by_buckets):\n",
    "    # Get model\n",
    "    model = get_model_vectorizer(loaded_model=loaded_model)\n",
    "    \n",
    "    # Test \n",
    "    test_vectorized = vectorizer_test(model, test, issues_by_buckets, verbose)\n",
    "    queries_test_vectorized = vectorize_queries(model, test, issues_by_buckets, verbose)\n",
    "    annoy = indexing_test(test_vectorized, verbose)\n",
    "    X_test, distance_test, indices_test = indexing_query(annoy, queries_test_vectorized, verbose)\n",
    "    formated_rank = rank_result(test_vectorized, indices_test, distance_test, verbose)\n",
    "    rank_queries = formating_rank(X_test, verbose)\n",
    "    exported_rank = export_rank(rank_queries, formated_rank, verbose)\n",
    "    evaluation = Evaluation(verbose)\n",
    "    recall = evaluation.evaluate(exported_rank)['5 - recall_at_25']\n",
    "    \n",
    "    # recall@25, loss, cosine_positive, cosine_negative\n",
    "    return recall, exported_rank\n",
    "    #return report['5 - recall_at_25'], evaluation_test_batch[0], evaluation_test_batch[1], evaluation_test_batch[2] "
   ]
  },
  {
   "cell_type": "markdown",
   "metadata": {},
   "source": [
    "#### Evaluation method"
   ]
  },
  {
   "cell_type": "code",
   "execution_count": 192,
   "metadata": {},
   "outputs": [],
   "source": [
    "class Evaluation():\n",
    "    def __init__(self, verbose=1):\n",
    "        self.verbose = verbose\n",
    "        self.MAX_RANK = 25\n",
    "    \n",
    "    \"\"\"\n",
    "        Rank recall_rate_@k\n",
    "        rank = \"query:master|master:id:sim,master:id:sim\"\n",
    "    \"\"\"\n",
    "    def top_k_recall(self, row, k):\n",
    "        query, rank = row.split('|')\n",
    "        query_dup_id, ground_truth = query.split(\":\")\n",
    "        candidates = [int(item.split(':')[0]) for pos, item in enumerate(rank.split(\",\")[:self.MAX_RANK])]\n",
    "        corrects = len(set([int(ground_truth)]) & set(candidates[:k]))\n",
    "        total = len([ground_truth]) # only one master from query\n",
    "        return float(corrects), total\n",
    "\n",
    "    def evaluate(self, path):\n",
    "        self.recall_at_5_corrects_sum, self.recall_at_10_corrects_sum, \\\n",
    "        self.recall_at_15_corrects_sum, self.recall_at_20_corrects_sum, self.recall_at_25_corrects_sum = 0, 0, 0, 0, 0\n",
    "        self.recall_at_5_total_sum, self.recall_at_10_total_sum, self.recall_at_15_total_sum, \\\n",
    "        self.recall_at_20_total_sum, self.recall_at_25_total_sum = 0, 0, 0, 0, 0 \n",
    "        if(self.verbose):\n",
    "            print(\"Evaluating...\")\n",
    "        if type(path) == str:\n",
    "            with open(path, 'r') as file_input:\n",
    "                for row in file_input:\n",
    "                    self.recall(row)\n",
    "        else:\n",
    "            for row in path:\n",
    "                self.recall(row)\n",
    "        \n",
    "        report = {\n",
    "            '1 - recall_at_5' : round(self.recall_at_5_corrects_sum / self.recall_at_5_total_sum, 2),\n",
    "            '2 - recall_at_10' : round(self.recall_at_10_corrects_sum / self.recall_at_10_total_sum, 2),\n",
    "            '3 - recall_at_15' : round(self.recall_at_15_corrects_sum / self.recall_at_15_total_sum, 2),\n",
    "            '4 - recall_at_20' : round(self.recall_at_20_corrects_sum / self.recall_at_20_total_sum, 2),\n",
    "            '5 - recall_at_25' : round(self.recall_at_25_corrects_sum / self.recall_at_25_total_sum, 2)\n",
    "        }\n",
    "\n",
    "        return report\n",
    "    def recall(self, row):\n",
    "        #if row == '': continue\n",
    "        self.recall_at_5_corrects, self.recall_at_5_total = self.top_k_recall(row, k=5)\n",
    "        self.recall_at_10_corrects, self.recall_at_10_total = self.top_k_recall(row, k=10)\n",
    "        self.recall_at_15_corrects, self.recall_at_15_total = self.top_k_recall(row, k=15)\n",
    "        self.recall_at_20_corrects, self.recall_at_20_total = self.top_k_recall(row, k=20)\n",
    "        self.recall_at_25_corrects, self.recall_at_25_total = self.top_k_recall(row, k=25)\n",
    "\n",
    "        self.recall_at_5_corrects_sum += self.recall_at_5_corrects\n",
    "        self.recall_at_10_corrects_sum += self.recall_at_10_corrects\n",
    "        self.recall_at_15_corrects_sum += self.recall_at_15_corrects\n",
    "        self.recall_at_20_corrects_sum += self.recall_at_20_corrects\n",
    "        self.recall_at_25_corrects_sum += self.recall_at_25_corrects\n",
    "\n",
    "        self.recall_at_5_total_sum += self.recall_at_5_total\n",
    "        self.recall_at_10_total_sum += self.recall_at_10_total\n",
    "        self.recall_at_15_total_sum += self.recall_at_15_total\n",
    "        self.recall_at_20_total_sum += self.recall_at_20_total\n",
    "        self.recall_at_25_total_sum += self.recall_at_25_total"
   ]
  },
  {
   "cell_type": "markdown",
   "metadata": {},
   "source": [
    "#### Save the model"
   ]
  },
  {
   "cell_type": "code",
   "execution_count": 37,
   "metadata": {},
   "outputs": [],
   "source": [
    "def save_model(model, name, verbose=0):\n",
    "    m_dir = os.path.join('modelos')\n",
    "    if not os.path.exists(m_dir):\n",
    "        os.mkdir(m_dir)\n",
    "    export = os.path.join(m_dir, \"model_{}.h5\".format(name))\n",
    "    model.save(export)\n",
    "    if(verbose):\n",
    "        print(\"Saved model '{}' to disk\".format(export))"
   ]
  },
  {
   "cell_type": "markdown",
   "metadata": {
    "colab_type": "text",
    "id": "Lev5Y7oaFQBd"
   },
   "source": [
    "## Towards Accurate Duplicate Bug Retrieval Using Deep Learning Techniques\n",
    "\n",
    "https://github.com/tqtg/DuplicateBugFinder"
   ]
  },
  {
   "cell_type": "markdown",
   "metadata": {},
   "source": [
    "### Embedding layer"
   ]
  },
  {
   "cell_type": "code",
   "execution_count": 38,
   "metadata": {},
   "outputs": [],
   "source": [
    "from keras.constraints import MaxNorm\n",
    "from keras.initializers import TruncatedNormal, RandomUniform\n",
    "\n",
    "# Is missing the padding_idx used in pytorch\n",
    "# https://pytorch.org/docs/stable/_modules/torch/nn/modules/sparse.html\n",
    "# https://stackoverflow.com/questions/54824768/rnn-model-gru-of-word2vec-to-regression-not-learning\n",
    "def embedding_layer(embeddings, num_words, embedding_dim, max_sequence_length, trainable):\n",
    "    embedding_layer = Embedding(num_words,\n",
    "                                  embedding_dim,\n",
    "                                  name='embedding_layer',\n",
    "                                  weights=[embeddings],\n",
    "                                  embeddings_constraint=MaxNorm(max_value=1, axis=0),\n",
    "                                  #input_length=max_sequence_length,\n",
    "                                  input_length=None,\n",
    "                                  trainable=trainable)\n",
    "    return embedding_layer"
   ]
  },
  {
   "cell_type": "markdown",
   "metadata": {
    "colab_type": "text",
    "id": "sI074wU4Y13y"
   },
   "source": [
    "### CNN with filter 3,4,5"
   ]
  },
  {
   "cell_type": "code",
   "execution_count": 131,
   "metadata": {
    "colab": {
     "base_uri": "https://localhost:8080/",
     "height": 493
    },
    "colab_type": "code",
    "id": "h6YJU9GtFTyq",
    "outputId": "f85cf105-1fd6-491d-d969-7e6936f32739",
    "scrolled": false
   },
   "outputs": [],
   "source": [
    "import keras\n",
    "from keras.layers import GlobalMaxPooling1D, GlobalAveragePooling1D\n",
    "\n",
    "def cnn_model(embedding_layer, max_sequence_length):\n",
    "\n",
    "    #sequence_input = Input(shape=(max_sequence_length,), name='Feature_BugInput')\n",
    "    sequence_input = Input(shape=(None,), name='Feature_BugInput')\n",
    "    embedded_sequences = embedding_layer(sequence_input)\n",
    "\n",
    "    # Yoon Kim model (https://arxiv.org/abs/1408.5882)\n",
    "    # best combination filter (3, 4, 5) e 128 e 256\n",
    "    convs = []\n",
    "    filter_sizes = [3, 4, 5]\n",
    "    n_filters = 64\n",
    "\n",
    "    for index, filter_size in enumerate(filter_sizes):\n",
    "        l_conv = Conv1D(filters=n_filters, kernel_size=filter_size)(embedded_sequences)\n",
    "        l_pool = MaxPooling1D(pool_size=filter_size)(l_conv) # index+1\n",
    "        convs.append(l_pool)\n",
    "\n",
    "    l_merge = Concatenate(axis=1)(convs)\n",
    "\n",
    "    # add a 1D convnet with global maxpooling, instead of Yoon Kim model\n",
    "    #conv = Conv1D(filters=n_filters * 3, kernel_size=3)(l_merge)\n",
    "    layer = GlobalAveragePooling1D()(l_merge)\n",
    "    #layer = Flatten()(l_merge)\n",
    "    layer = Dense(300, activation='tanh')(layer)\n",
    "    #layer = LeakyReLU()(layer)\n",
    "\n",
    "    cnn_feature_model = Model(inputs=[sequence_input], outputs=[layer], name = 'FeatureCNNGenerationModel') # inputs=visible\n",
    "\n",
    "    return cnn_feature_model"
   ]
  },
  {
   "cell_type": "markdown",
   "metadata": {
    "colab_type": "text",
    "id": "wr6ObTXiaALH"
   },
   "source": [
    "### Bi-LSTM"
   ]
  },
  {
   "cell_type": "code",
   "execution_count": 130,
   "metadata": {
    "colab": {
     "base_uri": "https://localhost:8080/",
     "height": 306
    },
    "colab_type": "code",
    "id": "vC7MQXEsaCeG",
    "outputId": "65e647a9-c5d3-4009-b8a4-2e2d97b52684"
   },
   "outputs": [],
   "source": [
    "from keras.layers import Dense, Input, LSTM, GRU, Dropout, Bidirectional, GlobalAveragePooling1D\n",
    "\n",
    "def lstm_model(embedding_layer, max_sequence_length):\n",
    "    number_lstm_units = 50\n",
    "    rate_drop_lstm = 0\n",
    "    recurrent_dropout = 0\n",
    "\n",
    "    #sequence_input = Input(shape=(max_sequence_length, ), name='Feature_BugInput')\n",
    "    sequence_input = Input(shape=(None, ), name='Feature_BugInput')\n",
    "    embedded_sequences = embedding_layer(sequence_input)\n",
    "\n",
    "    # Creating LSTM Encoder\n",
    "#     lstm_layer = Bidirectional(LSTM(number_lstm_units, return_sequences=True), # dropout=rate_drop_lstm, recurrent_dropout=rate_drop_lstm \n",
    "#                                merge_mode='ave')\n",
    "\n",
    "    lstm_layer = LSTM(number_lstm_units, return_sequences=True)(embedded_sequences)\n",
    "    layer = LSTM(number_lstm_units)(lstm_layer)\n",
    "\n",
    "    #layer = lstm_layer(embedded_sequences)\n",
    "    #layer = GlobalAveragePooling1D()(layer)\n",
    "    layer = Dense(300, activation='tanh')(layer)\n",
    "\n",
    "    lstm_feature_model = Model(inputs=[sequence_input], outputs=[layer], name = 'FeatureLstmGenerationModel') # inputs=visible\n",
    "\n",
    "    return lstm_feature_model"
   ]
  },
  {
   "cell_type": "markdown",
   "metadata": {},
   "source": [
    "### MLP"
   ]
  },
  {
   "cell_type": "code",
   "execution_count": 132,
   "metadata": {},
   "outputs": [],
   "source": [
    "def mlp_model(input_size):\n",
    "    info_input = Input(shape=(input_size, ), name='Feature_BugInput')\n",
    "    input_size = 300\n",
    "    \n",
    "    layer = Dense(input_size, activation='tanh')(info_input)\n",
    "    \n",
    "    mlp_feature_model = Model(inputs=[info_input], outputs=[layer], name = 'FeatureMlpGenerationModel')\n",
    "    \n",
    "    return mlp_feature_model"
   ]
  },
  {
   "cell_type": "markdown",
   "metadata": {
    "colab_type": "text",
    "id": "TEedCg5AaTf2"
   },
   "source": [
    "### Siamese model"
   ]
  },
  {
   "cell_type": "code",
   "execution_count": 124,
   "metadata": {
    "colab": {
     "base_uri": "https://localhost:8080/",
     "height": 561
    },
    "colab_type": "code",
    "id": "VWBkSIYVaXyP",
    "outputId": "ed2a3d37-b8ec-4960-ef45-2909a87c8fa5"
   },
   "outputs": [],
   "source": [
    "from keras import backend as K\n",
    "import tensorflow as tf\n",
    "\n",
    "def l2_normalize(x, axis):\n",
    "    norm = K.sqrt(K.sum(K.square(x), axis=axis, keepdims=False))\n",
    "    return x, K.maximum(norm, K.epsilon())\n",
    "\n",
    "def normalize(x):\n",
    "    return l2_normalize(x, axis=-1)\n",
    "    \n",
    "# https://github.com/keras-team/keras/issues/3031\n",
    "# https://github.com/keras-team/keras/issues/8335\n",
    "def cosine_distance(inputs):\n",
    "    x, y = inputs\n",
    "    x, x_norm = l2_normalize(x, axis=-1)\n",
    "    y, y_norm = l2_normalize(y, axis=-1)\n",
    "    distance = K.sum( x * y, axis=-1) / (x_norm * y_norm)\n",
    "    distance = (distance + K.constant(1)) / K.constant(2)\n",
    "    # Distance goes from 0 to 2 in theory, but from 0 to 1 if x and y are both\n",
    "    # positive (which is the case after ReLU activation).\n",
    "    return distance\n",
    "\n",
    "def margin_loss(y_true, y_pred):\n",
    "    margin = K.constant(1.0)\n",
    "    loss = K.maximum(0.0, margin - y_pred[0] +  y_pred[1])\n",
    "    return K.mean(loss)\n",
    "\n",
    "def pos_distance(y_true, y_pred):\n",
    "    return K.mean(y_pred[0])\n",
    "\n",
    "def neg_distance(y_true, y_pred):\n",
    "    return K.mean(y_pred[1])\n",
    "\n",
    "def stack_tensors(vects):\n",
    "    return K.stack(vects)"
   ]
  },
  {
   "cell_type": "markdown",
   "metadata": {},
   "source": [
    "#### Propose"
   ]
  },
  {
   "cell_type": "code",
   "execution_count": 125,
   "metadata": {},
   "outputs": [],
   "source": [
    "from keras.initializers import TruncatedNormal\n",
    "from keras.regularizers import l2\n",
    "\n",
    "def residual_bug():\n",
    "    def block(block_input):\n",
    "        shape_size = K.int_shape(block_input)[1]\n",
    "        \n",
    "        residual =  block_input\n",
    "        \n",
    "        layer_out = Dense(shape_size // 2, activation='tanh')(block_input)\n",
    "        \n",
    "        skip_out =  Dense(shape_size, activation='linear', use_bias=False)(layer_out)\n",
    "        # kernel_initializer=TruncatedNormal(mean=0.0, stddev=0.05, \n",
    "         #             seed=42), kernel_regularizer=l2(0.01)\n",
    "        \n",
    "        dense_out =  Dense(shape_size, activation='linear', use_bias=False)(layer_out)\n",
    "        \n",
    "        block_out =   Add()([residual, dense_out])\n",
    "        return block_out, skip_out\n",
    "    return block"
   ]
  },
  {
   "cell_type": "code",
   "execution_count": 136,
   "metadata": {},
   "outputs": [],
   "source": [
    "from keras.layers import concatenate, Add, Lambda, merge, Average, Maximum\n",
    "from keras.optimizers import Adam, Nadam\n",
    "\n",
    "def siamese_model(lstm_feature_model, cnn_feature_model, mlp_feature_model, sequence_length_info, \n",
    "                  sequence_length_t, sequence_length_d, name):\n",
    "  \n",
    "    bug_t = Input(shape = (sequence_length_t, ), name = 'title_{}'.format(name))\n",
    "    bug_d = Input(shape = (sequence_length_d, ), name = 'desc_{}'.format(name))\n",
    "    bug_i = Input(shape = (sequence_length_info, ), name = 'info_{}'.format(name))\n",
    "    \n",
    "    bug_t_feat_lstm = lstm_feature_model(bug_t)\n",
    "    bug_d_feat_cnn = cnn_feature_model(bug_d)\n",
    "    bug_i_feat_mlp = mlp_feature_model(bug_i)\n",
    "    \n",
    "    #bug_feature_output = Add(name = 'merge_features_{}'.format(name))([bug_i_feat_mlp, bug_t_feat_lstm, bug_d_feat_cnn])\n",
    "    bug_feature_output = concatenate([bug_i_feat_mlp, bug_t_feat_lstm, bug_d_feat_cnn], name = 'merge_features_{}'.format(name))\n",
    "    \n",
    "    #     encoded_1a, encoded_1b  = residual_bug()(bug_feature_output)\n",
    "    #     encoded_2a, encoded_2b  = residual_bug()(encoded_1a)\n",
    "    \n",
    "    #     bug_feature_output = Add()([encoded_1b, encoded_2b])\n",
    "    #     bug_feature_output = Activation('tanh')(bug_feature_output)\n",
    "    \n",
    "    # Bug representation layer\n",
    "    # bug_feature_output = Dense(300, activation='tanh')(bug_feature_output)\n",
    "    \n",
    "    bug_feature_model = Model(inputs=[bug_t, bug_d, bug_i], outputs=[bug_feature_output], name = 'merge_features_{}'.format(name))\n",
    "    \n",
    "    return bug_feature_model"
   ]
  },
  {
   "cell_type": "code",
   "execution_count": 134,
   "metadata": {},
   "outputs": [],
   "source": [
    "def max_margin_objective(encoded_anchor, encoded_positive, encoded_negative, decay_lr=1):\n",
    "    \n",
    "    inputs = np.concatenate([encoded_anchor.input, encoded_positive.input, encoded_negative.input], -1).tolist()\n",
    "    \n",
    "    encoded_anchor = encoded_anchor.output\n",
    "    encoded_positive = encoded_positive.output\n",
    "    encoded_negative = encoded_negative.output\n",
    "    \n",
    "    # Cosine\n",
    "    positive_d = Lambda(cosine_distance, name='pos_cosine_distance', output_shape=[1])([encoded_anchor, encoded_positive])\n",
    "    negative_d = Lambda(cosine_distance, name='neg_cosine_distance', output_shape=[1])([encoded_anchor, encoded_negative])\n",
    "\n",
    "    # Loss function only works with a single output\n",
    "    output = Lambda(\n",
    "        lambda vects: stack_tensors(vects),\n",
    "        name='stack-distances',\n",
    "        output_shape=(2, 1)\n",
    "    )([positive_d, negative_d])\n",
    "\n",
    "    similarity_model = Model(inputs = inputs, outputs = output, name = 'Similarity_Model')\n",
    "\n",
    "    #optimizer = Nadam(lr=1e-3, beta_1=0.9, beta_2=0.999, epsilon=K.epsilon(), schedule_decay=0.01)\n",
    "    optimizer = Adam(lr=1e-3 * decay_lr, beta_1=0.9, beta_2=0.999, epsilon=None, decay=0.0, amsgrad=True)\n",
    "\n",
    "    # setup the optimization process \n",
    "    similarity_model.compile(optimizer=optimizer, loss=margin_loss, metrics=[pos_distance, neg_distance])\n",
    "\n",
    "    return similarity_model"
   ]
  },
  {
   "cell_type": "code",
   "execution_count": null,
   "metadata": {
    "scrolled": true
   },
   "outputs": [
    {
     "name": "stdout",
     "output_type": "stream",
     "text": [
      "__________________________________________________________________________________________________\n",
      "Layer (type)                    Output Shape         Param #     Connected to                     \n",
      "==================================================================================================\n",
      "info_in (InputLayer)            (None, 1682)         0                                            \n",
      "__________________________________________________________________________________________________\n",
      "title_in (InputLayer)           (None, 43)           0                                            \n",
      "__________________________________________________________________________________________________\n",
      "desc_in (InputLayer)            (None, 500)          0                                            \n",
      "__________________________________________________________________________________________________\n",
      "info_pos (InputLayer)           (None, 1682)         0                                            \n",
      "__________________________________________________________________________________________________\n",
      "title_pos (InputLayer)          (None, 43)           0                                            \n",
      "__________________________________________________________________________________________________\n",
      "desc_pos (InputLayer)           (None, 500)          0                                            \n",
      "__________________________________________________________________________________________________\n",
      "info_neg (InputLayer)           (None, 1682)         0                                            \n",
      "__________________________________________________________________________________________________\n",
      "title_neg (InputLayer)          (None, 43)           0                                            \n",
      "__________________________________________________________________________________________________\n",
      "desc_neg (InputLayer)           (None, 500)          0                                            \n",
      "__________________________________________________________________________________________________\n",
      "FeatureMlpGenerationModel (Mode (None, 300)          504900      info_in[0][0]                    \n",
      "                                                                 info_pos[0][0]                   \n",
      "                                                                 info_neg[0][0]                   \n",
      "__________________________________________________________________________________________________\n",
      "FeatureLstmGenerationModel (Mod (None, 300)          6105100     title_in[0][0]                   \n",
      "                                                                 title_pos[0][0]                  \n",
      "                                                                 title_neg[0][0]                  \n",
      "__________________________________________________________________________________________________\n",
      "FeatureCNNGenerationModel (Mode (None, 300)          6249492     desc_in[0][0]                    \n",
      "                                                                 desc_pos[0][0]                   \n",
      "                                                                 desc_neg[0][0]                   \n",
      "__________________________________________________________________________________________________\n",
      "merge_features_in (Concatenate) (None, 900)          0           FeatureMlpGenerationModel[1][0]  \n",
      "                                                                 FeatureLstmGenerationModel[1][0] \n",
      "                                                                 FeatureCNNGenerationModel[1][0]  \n",
      "__________________________________________________________________________________________________\n",
      "merge_features_pos (Concatenate (None, 900)          0           FeatureMlpGenerationModel[2][0]  \n",
      "                                                                 FeatureLstmGenerationModel[2][0] \n",
      "                                                                 FeatureCNNGenerationModel[2][0]  \n",
      "__________________________________________________________________________________________________\n",
      "merge_features_neg (Concatenate (None, 900)          0           FeatureMlpGenerationModel[3][0]  \n",
      "                                                                 FeatureLstmGenerationModel[3][0] \n",
      "                                                                 FeatureCNNGenerationModel[3][0]  \n",
      "__________________________________________________________________________________________________\n",
      "pos_cosine_distance (Lambda)    (None, 1)            0           merge_features_in[0][0]          \n",
      "                                                                 merge_features_pos[0][0]         \n",
      "__________________________________________________________________________________________________\n",
      "neg_cosine_distance (Lambda)    (None, 1)            0           merge_features_in[0][0]          \n",
      "                                                                 merge_features_neg[0][0]         \n",
      "__________________________________________________________________________________________________\n",
      "stack-distances (Lambda)        (None, 2, 1)         0           pos_cosine_distance[0][0]        \n",
      "                                                                 neg_cosine_distance[0][0]        \n",
      "==================================================================================================\n",
      "Total params: 12,859,492\n",
      "Trainable params: 12,859,492\n",
      "Non-trainable params: 0\n",
      "__________________________________________________________________________________________________\n",
      "Epoch: 1 - Loss: 0.86, positive_cosine: 0.89, negative_cosine: 0.75, recall@25: 0.30\n",
      "Saved model 'modelos\\model_baseline_feature_100epochs_64batch(eclipse).h5' to disk\n",
      "Epoch: 2 - Loss: 0.80, positive_cosine: 0.83, negative_cosine: 0.64\n",
      "Epoch: 3 - Loss: 0.79, positive_cosine: 0.84, negative_cosine: 0.64\n",
      "Epoch: 4 - Loss: 0.76, positive_cosine: 0.84, negative_cosine: 0.60\n",
      "Epoch: 5 - Loss: 0.77, positive_cosine: 0.83, negative_cosine: 0.60\n",
      "Epoch: 6 - Loss: 0.71, positive_cosine: 0.85, negative_cosine: 0.56, recall@25: 0.33\n",
      "Saved model 'modelos\\model_baseline_feature_100epochs_64batch(eclipse).h5' to disk\n",
      "Epoch: 7 - Loss: 0.71, positive_cosine: 0.83, negative_cosine: 0.54\n",
      "Epoch: 8 - Loss: 0.74, positive_cosine: 0.82, negative_cosine: 0.56\n",
      "Epoch: 9 - Loss: 0.75, positive_cosine: 0.80, negative_cosine: 0.54\n",
      "Epoch: 10 - Loss: 0.69, positive_cosine: 0.84, negative_cosine: 0.53\n",
      "Epoch: 11 - Loss: 0.68, positive_cosine: 0.84, negative_cosine: 0.53, recall@25: 0.35\n",
      "Saved model 'modelos\\model_baseline_feature_100epochs_64batch(eclipse).h5' to disk\n",
      "Epoch: 12 - Loss: 0.73, positive_cosine: 0.82, negative_cosine: 0.54\n",
      "Epoch: 13 - Loss: 0.71, positive_cosine: 0.81, negative_cosine: 0.52\n",
      "Epoch: 14 - Loss: 0.69, positive_cosine: 0.81, negative_cosine: 0.50\n",
      "Epoch: 15 - Loss: 0.70, positive_cosine: 0.82, negative_cosine: 0.51\n",
      "Epoch: 16 - Loss: 0.66, positive_cosine: 0.84, negative_cosine: 0.50, recall@25: 0.36\n",
      "Saved model 'modelos\\model_baseline_feature_100epochs_64batch(eclipse).h5' to disk\n",
      "Epoch: 17 - Loss: 0.70, positive_cosine: 0.82, negative_cosine: 0.51\n",
      "Epoch: 18 - Loss: 0.69, positive_cosine: 0.83, negative_cosine: 0.52\n",
      "Epoch: 19 - Loss: 0.66, positive_cosine: 0.85, negative_cosine: 0.51\n",
      "Epoch: 20 - Loss: 0.66, positive_cosine: 0.83, negative_cosine: 0.49\n",
      "Epoch: 21 - Loss: 0.63, positive_cosine: 0.87, negative_cosine: 0.50, recall@25: 0.38\n",
      "Saved model 'modelos\\model_baseline_feature_100epochs_64batch(eclipse).h5' to disk\n",
      "Epoch: 22 - Loss: 0.68, positive_cosine: 0.84, negative_cosine: 0.52\n",
      "Epoch: 23 - Loss: 0.65, positive_cosine: 0.84, negative_cosine: 0.49\n",
      "Epoch: 24 - Loss: 0.65, positive_cosine: 0.83, negative_cosine: 0.48\n",
      "Epoch: 25 - Loss: 0.64, positive_cosine: 0.85, negative_cosine: 0.49\n",
      "Epoch: 26 - Loss: 0.65, positive_cosine: 0.84, negative_cosine: 0.49, recall@25: 0.38\n",
      "Epoch: 27 - Loss: 0.65, positive_cosine: 0.85, negative_cosine: 0.49\n",
      "Epoch: 28 - Loss: 0.63, positive_cosine: 0.84, negative_cosine: 0.48\n",
      "Epoch: 29 - Loss: 0.60, positive_cosine: 0.89, negative_cosine: 0.48\n",
      "Epoch: 30 - Loss: 0.67, positive_cosine: 0.86, negative_cosine: 0.53\n",
      "Epoch: 31 - Loss: 0.66, positive_cosine: 0.86, negative_cosine: 0.51, recall@25: 0.40\n"
     ]
    },
    {
     "name": "stdout",
     "output_type": "stream",
     "text": [
      "Saved model 'modelos\\model_baseline_feature_100epochs_64batch(eclipse).h5' to disk\n",
      "Epoch: 32 - Loss: 0.64, positive_cosine: 0.86, negative_cosine: 0.50\n",
      "Epoch: 33 - Loss: 0.62, positive_cosine: 0.89, negative_cosine: 0.51\n",
      "Epoch: 34 - Loss: 0.71, positive_cosine: 0.83, negative_cosine: 0.54\n",
      "Epoch: 35 - Loss: 0.60, positive_cosine: 0.90, negative_cosine: 0.50\n",
      "Epoch: 36 - Loss: 0.67, positive_cosine: 0.83, negative_cosine: 0.51, recall@25: 0.40\n",
      "Epoch: 37 - Loss: 0.62, positive_cosine: 0.87, negative_cosine: 0.49\n",
      "Epoch: 38 - Loss: 0.62, positive_cosine: 0.86, negative_cosine: 0.48\n",
      "Epoch: 39 - Loss: 0.63, positive_cosine: 0.87, negative_cosine: 0.50\n",
      "Epoch: 40 - Loss: 0.65, positive_cosine: 0.86, negative_cosine: 0.51\n",
      "Epoch: 41 - Loss: 0.64, positive_cosine: 0.87, negative_cosine: 0.52, recall@25: 0.41\n",
      "Saved model 'modelos\\model_baseline_feature_100epochs_64batch(eclipse).h5' to disk\n",
      "Epoch: 42 - Loss: 0.63, positive_cosine: 0.88, negative_cosine: 0.51\n",
      "Epoch: 43 - Loss: 0.63, positive_cosine: 0.86, negative_cosine: 0.49\n",
      "Epoch: 44 - Loss: 0.63, positive_cosine: 0.85, negative_cosine: 0.48\n",
      "Epoch: 45 - Loss: 0.58, positive_cosine: 0.86, negative_cosine: 0.44\n",
      "Epoch: 46 - Loss: 0.61, positive_cosine: 0.89, negative_cosine: 0.50, recall@25: 0.42\n",
      "Saved model 'modelos\\model_baseline_feature_100epochs_64batch(eclipse).h5' to disk\n",
      "Epoch: 47 - Loss: 0.60, positive_cosine: 0.88, negative_cosine: 0.48\n",
      "Epoch: 48 - Loss: 0.62, positive_cosine: 0.87, negative_cosine: 0.49\n",
      "Epoch: 49 - Loss: 0.60, positive_cosine: 0.88, negative_cosine: 0.48\n",
      "Epoch: 50 - Loss: 0.64, positive_cosine: 0.86, negative_cosine: 0.50\n",
      "Epoch: 51 - Loss: 0.59, positive_cosine: 0.90, negative_cosine: 0.49, recall@25: 0.42\n",
      "Epoch: 52 - Loss: 0.66, positive_cosine: 0.88, negative_cosine: 0.54\n",
      "Epoch: 53 - Loss: 0.61, positive_cosine: 0.87, negative_cosine: 0.47\n",
      "Epoch: 54 - Loss: 0.57, positive_cosine: 0.91, negative_cosine: 0.48\n",
      "Epoch: 55 - Loss: 0.60, positive_cosine: 0.91, negative_cosine: 0.51\n",
      "Epoch: 56 - Loss: 0.64, positive_cosine: 0.89, negative_cosine: 0.53, recall@25: 0.43\n",
      "Saved model 'modelos\\model_baseline_feature_100epochs_64batch(eclipse).h5' to disk\n",
      "Epoch: 57 - Loss: 0.63, positive_cosine: 0.90, negative_cosine: 0.53\n",
      "Epoch: 58 - Loss: 0.59, positive_cosine: 0.89, negative_cosine: 0.48\n",
      "Epoch: 59 - Loss: 0.56, positive_cosine: 0.90, negative_cosine: 0.46\n",
      "Epoch: 60 - Loss: 0.59, positive_cosine: 0.88, negative_cosine: 0.47\n",
      "Epoch: 61 - Loss: 0.64, positive_cosine: 0.88, negative_cosine: 0.52, recall@25: 0.43\n",
      "Epoch: 62 - Loss: 0.62, positive_cosine: 0.87, negative_cosine: 0.49\n",
      "Epoch: 63 - Loss: 0.57, positive_cosine: 0.91, negative_cosine: 0.49\n",
      "Epoch: 64 - Loss: 0.60, positive_cosine: 0.89, negative_cosine: 0.49\n",
      "Epoch: 65 - Loss: 0.59, positive_cosine: 0.90, negative_cosine: 0.50\n",
      "Epoch: 66 - Loss: 0.55, positive_cosine: 0.90, negative_cosine: 0.45, recall@25: 0.43\n",
      "Epoch: 67 - Loss: 0.63, positive_cosine: 0.90, negative_cosine: 0.53\n",
      "Epoch: 68 - Loss: 0.56, positive_cosine: 0.92, negative_cosine: 0.47\n",
      "Epoch: 69 - Loss: 0.64, positive_cosine: 0.88, negative_cosine: 0.52\n",
      "Epoch: 70 - Loss: 0.64, positive_cosine: 0.91, negative_cosine: 0.54\n",
      "Epoch: 71 - Loss: 0.57, positive_cosine: 0.91, negative_cosine: 0.48, recall@25: 0.44\n",
      "Saved model 'modelos\\model_baseline_feature_100epochs_64batch(eclipse).h5' to disk\n",
      "Epoch: 72 - Loss: 0.68, positive_cosine: 0.89, negative_cosine: 0.56\n",
      "Epoch: 73 - Loss: 0.57, positive_cosine: 0.91, negative_cosine: 0.48\n",
      "Epoch: 74 - Loss: 0.58, positive_cosine: 0.90, negative_cosine: 0.48\n",
      "Epoch: 75 - Loss: 0.60, positive_cosine: 0.89, negative_cosine: 0.49\n",
      "Epoch: 76 - Loss: 0.58, positive_cosine: 0.90, negative_cosine: 0.47, recall@25: 0.44\n",
      "Epoch: 77 - Loss: 0.66, positive_cosine: 0.86, negative_cosine: 0.52\n",
      "Epoch: 78 - Loss: 0.55, positive_cosine: 0.93, negative_cosine: 0.48\n",
      "Epoch: 79 - Loss: 0.59, positive_cosine: 0.90, negative_cosine: 0.49\n",
      "Epoch: 80 - Loss: 0.60, positive_cosine: 0.89, negative_cosine: 0.50\n"
     ]
    }
   ],
   "source": [
    "%%time\n",
    "import keras\n",
    "\n",
    "# Inspired on https://'pastebin.com/TaGFdcBA\n",
    "# TODO: https://stackoverflow.com/questions/49941903/keras-compute-cosine-distance-between-two-flattened-outputs\n",
    "keras.backend.clear_session()\n",
    "\n",
    "# Embeddings\n",
    "cnn_embedding_layer = embedding_layer(embeddings=baseline.embedding_matrix, \n",
    "                              num_words=len(vocab), \n",
    "                              embedding_dim=EMBEDDING_DIM, \n",
    "                              max_sequence_length=MAX_SEQUENCE_LENGTH_D, \n",
    "                              trainable=True)\n",
    "lstm_embedding_layer = embedding_layer(embeddings=baseline.embedding_matrix, \n",
    "                              num_words=len(vocab), \n",
    "                              embedding_dim=EMBEDDING_DIM, \n",
    "                              max_sequence_length=MAX_SEQUENCE_LENGTH_T, \n",
    "                              trainable=True)\n",
    "\n",
    "# Feature models\n",
    "cnn_feature_model = cnn_model(cnn_embedding_layer, MAX_SEQUENCE_LENGTH_D)\n",
    "lstm_feature_model = lstm_model(lstm_embedding_layer, MAX_SEQUENCE_LENGTH_T)\n",
    "mlp_feature_model = mlp_model(number_of_columns_info)\n",
    "\n",
    "# Similarity model\n",
    "encoded_anchor = siamese_model(lstm_feature_model, cnn_feature_model, mlp_feature_model, \n",
    "                                     number_of_columns_info, MAX_SEQUENCE_LENGTH_T, MAX_SEQUENCE_LENGTH_D, 'in')\n",
    "encoded_positive = siamese_model(lstm_feature_model, cnn_feature_model, mlp_feature_model, \n",
    "                                     number_of_columns_info, MAX_SEQUENCE_LENGTH_T, MAX_SEQUENCE_LENGTH_D, 'pos')\n",
    "\n",
    "encoded_negative = siamese_model(lstm_feature_model, cnn_feature_model, mlp_feature_model, \n",
    "                                     number_of_columns_info, MAX_SEQUENCE_LENGTH_T, MAX_SEQUENCE_LENGTH_D, 'neg')\n",
    "\n",
    "similarity_model = max_margin_objective(encoded_anchor, encoded_positive, encoded_negative, decay_lr=1)\n",
    "\n",
    "# cnn_feature_model.summary()\n",
    "# lstm_feature_model.summary()\n",
    "similarity_model.summary()\n",
    "\n",
    "\n",
    "'''\n",
    "    Configuration\n",
    "'''\n",
    "epochs = 100\n",
    "best_recall = 0\n",
    "best_epoch = 0\n",
    "verbose = 0\n",
    "recall = 0\n",
    "\n",
    "'''\n",
    "    Experiment\n",
    "'''\n",
    "for epoch in range(epochs):\n",
    "    batch_triplet_train, \\\n",
    "        train_input_sample, train_input_pos, train_input_neg, \\\n",
    "            train_sim = baseline.batch_iterator(baseline.train_data, baseline.dup_sets_train, batch_size, 1)\n",
    "    train_batch = [train_input_sample['title'], train_input_sample['description'], train_input_sample['info'],\n",
    "                   train_input_pos['title'], train_input_pos['description'], train_input_pos['info'], \n",
    "                   train_input_neg['title'], train_input_neg['description'], train_input_neg['info']]\n",
    "    \n",
    "#     if epoch == 10:\n",
    "#         similarity_model = max_margin_objective(encoded_anchor, encoded_positive, encoded_negative, decay_lr=0.1)\n",
    "    \n",
    "    h = similarity_model.train_on_batch(train_batch, train_sim)\n",
    "    \n",
    "    if epoch % 5 == 0:\n",
    "        recall, _ = evaluate_validation_test(verbose, encoded_anchor, retrieval.test, issues_by_buckets)\n",
    "        print(\"Epoch: {} - Loss: {:.2f}, positive_cosine: {:.2f}, negative_cosine: {:.2f}, recall@25: {:.2f}\".format(\n",
    "            epoch+1, h[0], h[1], h[2], recall))\n",
    "    else:\n",
    "        print(\"Epoch: {} - Loss: {:.2f}, positive_cosine: {:.2f}, negative_cosine: {:.2f}\".format(\n",
    "            epoch+1, h[0], h[1], h[2]))\n",
    "    \n",
    "    if recall > best_recall:\n",
    "        save_model(similarity_model, SAVE_PATH.replace('@number_of_epochs@', str(epochs)))\n",
    "        save_model(encoded_anchor, SAVE_PATH_FEATURE.replace('@number_of_epochs@', str(epochs)), verbose=1)\n",
    "        best_recall = recall\n",
    "        best_epoch = epoch+1\n",
    "print('Best_epoch={}, Best_recall={:.2f}'.format(best_epoch, best_recall))"
   ]
  },
  {
   "cell_type": "code",
   "execution_count": 180,
   "metadata": {},
   "outputs": [
    {
     "data": {
      "text/plain": [
       "('recall@25 last epoch:', 0.0)"
      ]
     },
     "execution_count": 180,
     "metadata": {},
     "output_type": "execute_result"
    }
   ],
   "source": [
    "'''\n",
    "    Between 0-10 epochs recall@25 = 0.30\n",
    "    Between 0-20 epochs recall@25 = 0.36\n",
    "    Between 0-100 epochs recall@25 = ?\n",
    "'''\n",
    "recall, exported_rank = evaluate_validation_test(verbose, encoded_anchor, retrieval.test, issues_by_buckets)\n",
    "\n",
    "\"recall@25 last epoch:\", recall"
   ]
  },
  {
   "cell_type": "code",
   "execution_count": 181,
   "metadata": {},
   "outputs": [
    {
     "data": {
      "text/plain": [
       "['114688:44627|84944:0.9982178141362965,90879:0.9979556775651872,81618:0.9973189139273018,78018:0.9971969365142286,79798:0.9971673563122749,102422:0.9971090159378946,101380:0.9971089300233871,92451:0.9970517391338944,95056:0.9965547213796526,92821:0.996252918150276,99507:0.9959734035655856,95394:0.9958709483034909,110336:0.995770966168493,84496:0.995596713386476,94260:0.9955966384150088,76313:0.9953565378673375,97220:0.9952498055063188,82349:0.9945609150454402,81971:0.9943499215878546,92264:0.9941038563847542,77894:0.9935230924747884,82208:0.9932452375069261,110030:0.9926413740031421,99738:0.9925735811702907,92315:0.9913666294887662',\n",
       " '229443:229377|200743:0.9930955045856535,181864:0.9825895186513662,199350:0.9222425743937492,161533:0.9200382381677628,184878:0.43333423137664795,169698:0.4333316683769226,164131:0.4333292245864868,213278:0.4333255887031555,166483:0.4333217740058899,184414:0.4333192706108093,216482:0.4333155155181885,70579:0.43331050872802734,165251:0.4333025813102722,199661:0.4332992434501648,162411:0.43329399824142456,165468:0.4332883954048157,164437:0.43328630924224854,181410:0.43323636054992676,196884:0.4332082271575928,194143:0.43320709466934204,206432:0.43276137113571167,216431:0.4322165250778198,171909:0.4295036792755127,187125:0.4292728900909424,190254:0.42053407430648804',\n",
       " '9779:2|22337:0.9978098296560347,23777:0.9971411486621946,22172:0.9963742564432323,14533:0.9959572926163673,15724:0.9957224186509848,14056:0.9949423465877771,16373:0.9942211485467851,9336:0.9940994717180729,21128:0.9936640518717468,7327:0.9934707595966756,22923:0.9930363912135363,18559:0.992897498421371,18647:0.9924473995342851,8355:0.9918496143072844,85:0.9905361318960786,15490:0.46270114183425903,17366:0.46266478300094604,30:0.46100854873657227,9295:0.4609905481338501,4876:0.46091240644454956,14306:0.4608704447746277,2:0.4608253836631775,231:0.46082019805908203,203:0.460574746131897,15133:0.367354154586792',\n",
       " '98309:128463|128463:0.42480313777923584,129065:0.42473238706588745,197541:0.4209452271461487,163100:0.4208688735961914,81997:0.4060027003288269,90100:0.4042696952819824,139517:0.40307682752609253,102450:0.21982628107070923,138119:0.1976613998413086,161801:0.19761651754379272,184319:0.18829816579818726,222350:0.17457973957061768,110414:0.1718839406967163,100817:0.16673803329467773,185875:0.1618453860282898,220218:0.15733569860458374,251955:0.15455621480941772,178602:0.14977961778640747,118245:0.13193005323410034,339910:0.12162023782730103,244124:0.11896145343780518,405513:0.11860698461532593,125885:0.11752229928970337,283184:0.11421197652816772,251565:0.11352920532226562',\n",
       " '376838:376841|376841:1.0,107955:0.16243112087249756,134574:0.16241401433944702,143219:0.1623169183731079,100974:0.15482181310653687,49955:0.12906783819198608,65532:0.129055917263031,65528:0.12905240058898926,61439:0.12905168533325195,76716:0.12903237342834473,66790:0.1290287971496582,72118:0.12901842594146729,99594:0.12901711463928223,84052:0.12895935773849487,65470:0.1289350390434265,59464:0.12889933586120605,71181:0.12888062000274658,47134:0.12885934114456177,73881:0.128834068775177,54146:0.12883198261260986,85758:0.1286923885345459,73614:0.12861591577529907,46357:0.1271824836730957,91948:0.1258872151374817,54363:0.12548279762268066',\n",
       " '278537:274618|291245:0.4072025418281555,283555:0.3965398073196411,56369:0.3924214839935303,261398:0.3917670249938965,97610:0.38963860273361206,274618:0.387148916721344,283204:0.38403499126434326,241208:0.3833400011062622,239141:0.3794759511947632,10560:0.3783360719680786,300056:0.22468823194503784,47296:0.2024032473564148,126162:0.18942856788635254,2338:0.18927568197250366,94470:0.18749183416366577,295803:0.1817096471786499,237830:0.16365045309066772,64612:0.16361546516418457,38829:0.15631437301635742,62482:0.15518999099731445,53605:0.15436875820159912,61247:0.15391194820404053,22761:0.1493513584136963,44152:0.14888936281204224,37681:0.1488214135169983',\n",
       " '121067:10|297248:0.132931649684906,78491:0.1327992081642151,81850:0.13268953561782837,341232:0.12688392400741577,125296:0.10464489459991455,48962:0.10423773527145386,21794:0.10376083850860596,23420:0.10360074043273926,20928:0.1034957766532898,74035:0.10028523206710815,114950:0.09999245405197144,248163:0.09998708963394165,129689:0.09417641162872314,113294:0.09106624126434326,44977:0.08206605911254883,73226:0.08184069395065308,66836:0.08014810085296631,39242:0.015695512294769287,39708:0.015197813510894775,8441:-0.008602023124694824,138377:-0.012208223342895508,20115:-0.017434000968933105,9909:-0.017443418502807617,6457:-0.01745021343231201,45465:-0.018399834632873535',\n",
       " '114702:182662|101336:0.24505609273910522,110436:0.24186187982559204,241087:0.18090909719467163,132409:0.17659229040145874,214788:0.1739349365234375,131423:0.15354317426681519,240677:0.06806975603103638,149500:0.05927091836929321,210199:0.05045270919799805,190903:0.046185076236724854,107785:0.038645386695861816,171623:0.038306593894958496,140783:0.035567283630371094,117152:0.03459572792053223,167962:0.03055816888809204,146618:0.030556201934814453,110733:0.028500497341156006,179367:0.027939975261688232,119571:0.017163395881652832,310759:0.01532435417175293,161565:0.006201267242431641,105364:-0.000377655029296875,160861:-0.000457763671875,146072:-0.0008157491683959961,112780:-0.0008754730224609375',\n",
       " '393232:390667|402073:0.3585274815559387,418254:0.35617566108703613,178235:0.34470272064208984,207188:0.3321567177772522,381845:0.30708152055740356,367948:0.30695462226867676,18518:0.30550944805145264,70125:0.3054850101470947,24407:0.3054765462875366,12329:0.3054335117340088,9559:0.3053780198097229,28922:0.2966724634170532,25999:0.29651951789855957,33085:0.29636818170547485,41644:0.2774835228919983,46958:0.2774661183357239,63635:0.27726393938064575,56749:0.27725672721862793,41245:0.2772546410560608,54226:0.27721452713012695,56437:0.27720707654953003,52861:0.2771996855735779,52629:0.27718061208724976,53612:0.27716171741485596,44320:0.2771570682525635',\n",
       " '98399:98321|98321:0.40636467933654785,105908:0.3742995858192444,100070:0.1961066722869873,122107:0.17917269468307495,91294:0.17832225561141968,91857:0.14879316091537476,186627:0.13541936874389648,203159:0.13541823625564575,126745:0.12971627712249756,138474:0.12208342552185059,104308:0.11569994688034058,121444:0.03550511598587036,147306:0.025493502616882324,102487:0.024432122707366943,144023:0.021841764450073242,97756:0.0158616304397583,110817:0.010525941848754883,113886:0.01041412353515625,121305:0.00805598497390747,92426:0.0043909549713134766,181334:0.004276692867279053,147469:-0.0026177167892456055,136954:-0.007307648658752441,104503:-0.010423660278320312,115682:-0.011368274688720703',\n",
       " '49170:47296|47267:0.9860241776332259,60649:0.9856951106339693,62586:0.9561375640332699,57758:0.935822956264019,42080:0.9272645637392998,42511:0.926307700574398,68026:0.9255235493183136,60114:0.43250560760498047,63298:0.4266993999481201,44610:0.42664217948913574,62046:0.41844642162323,46889:0.4181213974952698,68696:0.41478192806243896,70226:0.3876684904098511,65675:0.38565564155578613,55723:0.38379234075546265,76312:0.35549432039260864,84196:0.35500019788742065,53260:0.35476040840148926,83342:0.35352611541748047,60805:0.3532736897468567,61175:0.35251671075820923,59373:0.3525123596191406,70672:0.34954190254211426,40123:0.34899234771728516',\n",
       " '311317:304182|304182:0.3318047523498535,78331:0.10511571168899536,379605:0.09780538082122803,346351:0.09636688232421875,331301:0.08267873525619507,320013:0.08065950870513916,217088:0.068919837474823,349788:0.06852149963378906,105639:0.032270967960357666,389409:0.005500435829162598,214452:-0.01672995090484619,265183:-0.02647221088409424,191987:-0.026947855949401855,351068:-0.030110478401184082,144825:-0.03247511386871338,353389:-0.035886406898498535,132699:-0.0375981330871582,250560:-0.03885519504547119,234147:-0.042333364486694336,216011:-0.0438920259475708,147866:-0.04842579364776611,281601:-0.04909014701843262,121990:-0.0490950345993042,188524:-0.04988265037536621,117666:-0.05428111553192139',\n",
       " '81942:81997|90100:0.411895215511322,110920:0.3888509273529053,81997:0.35830581188201904,125364:0.33219969272613525,149425:0.20851361751556396,110972:0.20803886651992798,148901:0.20741361379623413,139517:0.19869667291641235,103705:0.1840696930885315,101189:0.1449887752532959,128041:0.14228999614715576,110414:0.13956677913665771,223911:0.138413667678833,342369:0.1215447187423706,327394:0.12106591463088989,342957:0.12071496248245239,360613:0.11929291486740112,138119:0.11694967746734619,161801:0.11692500114440918,112884:0.11355423927307129,380274:0.11260426044464111,397043:0.10969424247741699,185875:0.1070985198020935,117387:0.10476166009902954,153525:0.09452998638153076',\n",
       " '245784:214092|83598:0.41780704259872437,207827:0.40283751487731934,92250:0.36736613512039185,124762:0.36195361614227295,248908:0.25507867336273193,90255:0.1995055079460144,128952:0.18394732475280762,369177:0.18379253149032593,144499:0.18288469314575195,149121:0.1811084747314453,91547:0.1662093997001648,97696:0.1661357879638672,246309:0.16591674089431763,236324:0.1578879952430725,238544:0.1564205288887024,102454:0.15584522485733032,105302:0.1558370590209961,89428:0.15582454204559326,106396:0.1557788848876953,82146:0.155767023563385,142815:0.15561240911483765,150994:0.15542221069335938,95876:0.15536195039749146,79808:0.1553562879562378,144876:0.15501683950424194',\n",
       " '32793:32633|38515:0.5067508220672607,33733:0.4610745906829834,29093:0.46107059717178345,38016:0.4607561230659485,297248:0.4061800241470337,341232:0.4045696258544922,30483:0.3877795338630676,39242:0.30860286951065063,39708:0.3077799081802368,32206:0.2853637933731079,138377:0.27564406394958496,279137:0.20869570970535278,33936:0.2062894105911255,8441:0.20261693000793457,120661:0.1969059705734253,133149:0.19687974452972412,151487:0.1968645453453064,127158:0.1968277096748352,148109:0.19673919677734375,126629:0.1963304877281189,32688:0.1962772011756897,34095:0.1930132508277893,31921:0.1911056637763977,372030:0.19024574756622314,27408:0.1857922077178955',\n",
       " '32794:32199|38750:0.9986157855018973,51679:0.9982293462380767,33524:0.9979554312303662,33136:0.9976389962248504,28438:0.9975664825178683,27154:0.997461243532598,28538:0.9974271731916815,31954:0.9973937422037125,33070:0.9968766369856894,40394:0.9912941670045257,32199:0.9820589702576399,36389:0.9692133851349354,30002:0.9575200900435448,31700:0.465290367603302,30024:0.46519285440444946,27190:0.42624884843826294,38829:0.4231458902359009,30397:0.36939525604248047,38615:0.36937862634658813,31004:0.369371235370636,36968:0.3693358302116394,26781:0.3693031072616577,33908:0.3691914677619934,54012:0.3690388798713684,340695:0.3578696846961975',\n",
       " '229404:224096|261147:0.9980514076305553,228717:0.9978214323054999,244145:0.9962264550849795,230082:0.4305042028427124,274751:0.33165669441223145,305739:0.3315827250480652,90971:0.3288987874984741,86329:0.32889801263809204,96336:0.3288952708244324,101205:0.3288922905921936,95071:0.3288884162902832,129829:0.3288378119468689,100918:0.3287656903266907,54012:0.32588517665863037,81001:0.3208501935005188,177507:0.31510186195373535,190213:0.315099835395813,241208:0.3147151470184326,283204:0.31459492444992065,274618:0.3137718439102173,146713:0.3080947995185852,261398:0.30765897035598755,31954:0.3056337237358093,28438:0.30561530590057373,33524:0.30561381578445435',\n",
       " '274709:262173|126162:0.43307793140411377,27190:0.38128185272216797,291245:0.36848872900009155,295803:0.3606095314025879,156357:0.35677826404571533,237830:0.34518522024154663,376011:0.3284541368484497,16023:0.2634499669075012,18775:0.26342886686325073,33111:0.20412087440490723,25892:0.2041146159172058,32528:0.19778305292129517,28655:0.19777005910873413,28955:0.19775104522705078,27672:0.1977241039276123,29452:0.19765299558639526,86703:0.18753039836883545,27320:0.18643122911453247,317912:0.18015682697296143,33210:0.17017585039138794,34441:0.17015039920806885,108066:0.16604340076446533,323681:0.1642991304397583,38937:0.16227930784225464,34270:0.1622462272644043',\n",
       " '311326:173732|403418:0.3706289529800415,264712:0.3379228711128235,338936:0.1442069411277771,282314:0.14405274391174316,80253:0.13975262641906738,303900:0.12893617153167725,134608:0.12788152694702148,135761:0.1275010108947754,317226:0.12493693828582764,385144:0.12110990285873413,76452:0.12086254358291626,348387:0.12018543481826782,349420:0.10923796892166138,387428:0.10800331830978394,328867:0.10452741384506226,259768:0.10322761535644531,239462:0.09932088851928711,233432:0.0992463231086731,39701:0.09570395946502686,197989:0.09236866235733032,216443:0.09120529890060425,339708:0.08776915073394775,156504:0.08455687761306763,186170:0.08445489406585693,364733:0.08385610580444336',\n",
       " '218157:229381|235609:0.4487968683242798,194503:0.25330132246017456,182374:0.22070223093032837,212037:0.06754189729690552,241087:-0.0245896577835083,312947:-0.034876465797424316,213344:-0.04335165023803711,82333:-0.04790186882019043,209200:-0.053621888160705566,161397:-0.05884861946105957,391971:-0.060412049293518066,209909:-0.06321954727172852,90527:-0.06330692768096924,85296:-0.06332123279571533,93107:-0.06332719326019287,135855:-0.06637847423553467,104036:-0.07380449771881104,116783:-0.07396793365478516,157816:-0.07457363605499268,341709:-0.07717835903167725,171288:-0.07728123664855957,186043:-0.07824289798736572,263806:-0.07989680767059326,117876:-0.08212411403656006,86337:-0.08706212043762207']"
      ]
     },
     "execution_count": 181,
     "metadata": {},
     "output_type": "execute_result"
    }
   ],
   "source": [
    "exported_rank[:20]"
   ]
  },
  {
   "cell_type": "code",
   "execution_count": 43,
   "metadata": {
    "scrolled": false
   },
   "outputs": [],
   "source": [
    "# loss=h.history['loss']\n",
    "# val_loss=h.history['val_loss']\n",
    "\n",
    "# plt.plot(loss, label='loss')\n",
    "# plt.plot(val_loss, label='val_loss')\n",
    "# plt.title('Model loss')\n",
    "# plt.ylabel('loss')\n",
    "# plt.xlabel('epoch')\n",
    "# plt.legend(['train', 'validation'], loc='upper left')\n",
    "# plt.show()"
   ]
  },
  {
   "cell_type": "markdown",
   "metadata": {},
   "source": [
    "### Using the feature layers"
   ]
  },
  {
   "cell_type": "code",
   "execution_count": 63,
   "metadata": {},
   "outputs": [],
   "source": [
    "def cosine_normalized(a, b): # Cosine used in the siamese model\n",
    "    a = K.variable(a)\n",
    "    b = K.variable(b)\n",
    "    return K.eval(cosine_distance([a, b]))"
   ]
  },
  {
   "cell_type": "markdown",
   "metadata": {},
   "source": [
    "#### Loading bugs of test"
   ]
  },
  {
   "cell_type": "code",
   "execution_count": 64,
   "metadata": {},
   "outputs": [],
   "source": [
    "test = 'eclipse'"
   ]
  },
  {
   "cell_type": "code",
   "execution_count": 65,
   "metadata": {
    "scrolled": false
   },
   "outputs": [
    {
     "name": "stdout",
     "output_type": "stream",
     "text": [
      "96204 113046\n"
     ]
    }
   ],
   "source": [
    "from scipy import spatial\n",
    "if (DOMAIN == test):\n",
    "    bug_set = baseline.get_bug_set()\n",
    "    # Eclipse test\n",
    "    bug_id = [96204, np.random.choice(list(bug_set))] # non-duplicate {15196, 2}\n",
    "    # bug_id = [96204, 85581] # duplicate {85581, 96204, 106979}\n",
    "    dup_a, dup_b = bug_id\n",
    "    bug_a = bug_set[dup_a]\n",
    "    bug_b = bug_set[dup_b]\n",
    "\n",
    "    print(dup_a, dup_b)"
   ]
  },
  {
   "cell_type": "markdown",
   "metadata": {},
   "source": [
    "#### LSTM feature"
   ]
  },
  {
   "cell_type": "code",
   "execution_count": 66,
   "metadata": {
    "scrolled": true
   },
   "outputs": [
    {
     "name": "stdout",
     "output_type": "stream",
     "text": [
      "preferences filter text cut off using default fonts on organization\n",
      "nationality strings on launch organization\n"
     ]
    }
   ],
   "source": [
    "if (DOMAIN == test):\n",
    "    print(bug_a['title'])\n",
    "    print(bug_b['title'])"
   ]
  },
  {
   "cell_type": "code",
   "execution_count": 67,
   "metadata": {},
   "outputs": [
    {
     "name": "stdout",
     "output_type": "stream",
     "text": [
      "0.80127084\n"
     ]
    }
   ],
   "source": [
    "if (DOMAIN == test):\n",
    "    bug_vector_a_t = lstm_feature_model.predict(np.array([bug_a['title_word']]))[0]\n",
    "    bug_vector_b_t = lstm_feature_model.predict(np.array([bug_b['title_word']]))[0]\n",
    "    result = cosine_normalized(bug_vector_a_t, bug_vector_b_t)\n",
    "    print(result)"
   ]
  },
  {
   "cell_type": "code",
   "execution_count": 68,
   "metadata": {
    "scrolled": true
   },
   "outputs": [],
   "source": [
    "if (DOMAIN == test):\n",
    "    bug_vector_a_t, bug_vector_b_t"
   ]
  },
  {
   "cell_type": "markdown",
   "metadata": {},
   "source": [
    "#### CNN feature"
   ]
  },
  {
   "cell_type": "code",
   "execution_count": 69,
   "metadata": {},
   "outputs": [
    {
     "name": "stdout",
     "output_type": "stream",
     "text": [
      "the standard default font size for organization desktops is points at dpi at this size the message type filter text in the preferences dialog is being cut off\n",
      "product ibm web sphere integration developer toolkit file eclipse plugins org eclipse core runtime org eclipse core internal runtime messages properties message jobs internal person an internal error occurred during language string an internal error occurred during is displayed on nationality os for messages ko properties in the nl folder this seems translated\n"
     ]
    }
   ],
   "source": [
    "if (DOMAIN == test):\n",
    "    print(bug_a['description'])\n",
    "    print(bug_b['description'])"
   ]
  },
  {
   "cell_type": "code",
   "execution_count": 70,
   "metadata": {},
   "outputs": [
    {
     "name": "stdout",
     "output_type": "stream",
     "text": [
      "0.65530145\n"
     ]
    }
   ],
   "source": [
    "if (DOMAIN == test):\n",
    "    bug_vector_a_d = cnn_feature_model.predict(np.array([bug_a['description_word']]))[0]\n",
    "    bug_vector_b_d = cnn_feature_model.predict(np.array([bug_b['description_word']]))[0]\n",
    "    result = cosine_normalized(bug_vector_a_d, bug_vector_b_d)\n",
    "    print(result)"
   ]
  },
  {
   "cell_type": "code",
   "execution_count": 71,
   "metadata": {
    "scrolled": true
   },
   "outputs": [],
   "source": [
    "if (DOMAIN == test):\n",
    "    bug_vector_a_d, bug_vector_b_d"
   ]
  },
  {
   "cell_type": "markdown",
   "metadata": {},
   "source": [
    "#### MLP feature"
   ]
  },
  {
   "cell_type": "code",
   "execution_count": 72,
   "metadata": {},
   "outputs": [
    {
     "name": "stdout",
     "output_type": "stream",
     "text": [
      "0.9743171\n"
     ]
    }
   ],
   "source": [
    "if (DOMAIN == test):\n",
    "    bug_vector_a_i = mlp_feature_model.predict(np.array([retrieval.get_info(bug_a)]))[0]\n",
    "    bug_vector_b_i = mlp_feature_model.predict(np.array([retrieval.get_info(bug_b)]))[0]\n",
    "    result = cosine_normalized(bug_vector_a_i, bug_vector_b_i)\n",
    "    print(result)"
   ]
  },
  {
   "cell_type": "code",
   "execution_count": 73,
   "metadata": {
    "scrolled": true
   },
   "outputs": [],
   "source": [
    "if (DOMAIN == test):\n",
    "    bug_vector_a_i, bug_vector_b_i"
   ]
  },
  {
   "cell_type": "markdown",
   "metadata": {},
   "source": [
    "#### Merge features"
   ]
  },
  {
   "cell_type": "code",
   "execution_count": 74,
   "metadata": {},
   "outputs": [
    {
     "name": "stdout",
     "output_type": "stream",
     "text": [
      "0.97426474\n"
     ]
    }
   ],
   "source": [
    "if (DOMAIN == test):\n",
    "    bug_vector_a = np.concatenate([ bug_vector_a_i, bug_vector_a_t, bug_vector_a_d ], -1)\n",
    "    bug_vector_b = np.concatenate([ bug_vector_b_i, bug_vector_b_t, bug_vector_b_d ], -1)\n",
    "    result = cosine_normalized(bug_vector_a, bug_vector_b)\n",
    "    print(result)"
   ]
  },
  {
   "cell_type": "code",
   "execution_count": 75,
   "metadata": {
    "scrolled": true
   },
   "outputs": [],
   "source": [
    "if (DOMAIN == test):\n",
    "    bug_vector_a, bug_vector_b"
   ]
  },
  {
   "cell_type": "markdown",
   "metadata": {},
   "source": [
    "### Retrieval evaluation"
   ]
  },
  {
   "cell_type": "code",
   "execution_count": 77,
   "metadata": {},
   "outputs": [
    {
     "name": "stdout",
     "output_type": "stream",
     "text": [
      "Total of queries: 7253\n"
     ]
    }
   ],
   "source": [
    "print(\"Total of queries:\", len(retrieval.test))"
   ]
  },
  {
   "cell_type": "markdown",
   "metadata": {},
   "source": [
    "#### Getting the model trained"
   ]
  },
  {
   "cell_type": "code",
   "execution_count": 79,
   "metadata": {},
   "outputs": [
    {
     "data": {
      "text/plain": [
       "'baseline_feature_1000epochs_64batch(eclipse)'"
      ]
     },
     "execution_count": 79,
     "metadata": {},
     "output_type": "execute_result"
    }
   ],
   "source": [
    "SAVE_PATH_FEATURE.replace('@number_of_epochs@', str(epochs))"
   ]
  },
  {
   "cell_type": "code",
   "execution_count": 80,
   "metadata": {},
   "outputs": [
    {
     "name": "stderr",
     "output_type": "stream",
     "text": [
      "/usr/local/lib/python3.5/dist-packages/keras/engine/saving.py:292: UserWarning: No training configuration found in save file: the model was *not* compiled. Compile it manually.\n",
      "  warnings.warn('No training configuration found in save file: '\n"
     ]
    }
   ],
   "source": [
    "model = get_model_vectorizer(path=SAVE_PATH_FEATURE.replace('@number_of_epochs@', str(epochs)))"
   ]
  },
  {
   "cell_type": "code",
   "execution_count": 81,
   "metadata": {},
   "outputs": [
    {
     "name": "stdout",
     "output_type": "stream",
     "text": [
      "__________________________________________________________________________________________________\n",
      "Layer (type)                    Output Shape         Param #     Connected to                     \n",
      "==================================================================================================\n",
      "info_in (InputLayer)            (None, 1682)         0                                            \n",
      "__________________________________________________________________________________________________\n",
      "title_in (InputLayer)           (None, 100)          0                                            \n",
      "__________________________________________________________________________________________________\n",
      "desc_in (InputLayer)            (None, 500)          0                                            \n",
      "__________________________________________________________________________________________________\n",
      "FeatureMlpGenerationModel (Mode (None, 100)          168300      info_in[0][0]                    \n",
      "__________________________________________________________________________________________________\n",
      "FeatureLstmGenerationModel (Mod (None, 100)          6094900     title_in[0][0]                   \n",
      "__________________________________________________________________________________________________\n",
      "FeatureCNNGenerationModel (Mode (None, 100)          6236492     desc_in[0][0]                    \n",
      "__________________________________________________________________________________________________\n",
      "merge_features_in (Concatenate) (None, 300)          0           FeatureMlpGenerationModel[1][0]  \n",
      "                                                                 FeatureLstmGenerationModel[1][0] \n",
      "                                                                 FeatureCNNGenerationModel[1][0]  \n",
      "==================================================================================================\n",
      "Total params: 12,499,692\n",
      "Trainable params: 12,499,692\n",
      "Non-trainable params: 0\n",
      "__________________________________________________________________________________________________\n"
     ]
    }
   ],
   "source": [
    "model.summary()"
   ]
  },
  {
   "cell_type": "code",
   "execution_count": null,
   "metadata": {},
   "outputs": [],
   "source": [
    "recall, exported_rank = evaluate_validation_test(0, model, retrieval.test, issues_by_buckets)"
   ]
  },
  {
   "cell_type": "code",
   "execution_count": 90,
   "metadata": {
    "scrolled": true
   },
   "outputs": [
    {
     "data": {
      "text/plain": [
       "['196609:241619|241619:0.52336385846138,262205:0.41768878698349,155910:0.3742402195930481,227934:0.37237876653671265,143213:0.3714207410812378,233488:0.36550360918045044,233488:0.36550360918045044,131460:0.3614521622657776,104562:0.35157716274261475,217687:0.34195518493652344,217687:0.34195518493652344,122051:0.34140855073928833,233478:0.31976503133773804,131205:0.3188438415527344,153462:0.31850576400756836,153462:0.31850576400756836,174780:0.3182111978530884,72099:0.31591111421585083,233959:0.3156222701072693,139843:0.3105807900428772,314670:0.3104843497276306,112988:0.3104636073112488,183812:0.31046104431152344,115461:0.3104591965675354,118042:0.3104437589645386',\n",
       " '38230:35946|35743:0.9958942388184369,39844:0.9919578023254871,38928:0.9895349992439151,39563:0.988163392059505,34940:0.9858370963484049,35281:0.9804082587361336,35946:0.9771349858492613,36464:0.9533985070884228,38301:0.952718872576952,33828:0.9526794888079166,26761:0.9525624178349972,25616:0.9504369832575321,37994:0.9504120908677578,29566:0.9503281749784946,28351:0.9502629488706589,26396:0.9502394050359726,36118:0.9501425921916962,37202:0.9501275531947613,37202:0.9501275531947613,37202:0.9501275531947613,37950:0.9500622861087322,28485:0.9499906972050667,38390:0.9498862624168396,38390:0.9498862624168396,31267:0.9497850574553013',\n",
       " '245769:279566|266998:0.9892622269690037,286748:0.9845861829817295,279466:0.9741005823016167,285735:0.9534477964043617,264535:0.9083853289484978,269182:0.8981674164533615,275486:0.8970403969287872,297611:0.8737709224224091,206747:0.869586706161499,206747:0.869586706161499,217034:0.8682873249053955,235623:0.8672998547554016,225662:0.8672727197408676,212622:0.8670086562633514,278146:0.8587587922811508,278146:0.8587587922811508,325499:0.8584459275007248,213918:0.8484143316745758,234769:0.8439755588769913,283712:0.8389255851507187,283712:0.8389255851507187,329720:0.8109597861766815,303362:0.7861138582229614,318544:0.7857698798179626,195100:0.7771056890487671',\n",
       " '49163:44876|60812:0.9869148572906852,69713:0.9865672746673226,45591:0.9860104033723474,75525:0.9854919873178005,40979:0.98523925896734,64962:0.9851051941514015,72069:0.9850096665322781,51614:0.9849919397383928,60571:0.9847694747149944,55279:0.9847076022997499,70812:0.9846942583099008,70812:0.9846942583099008,40734:0.9843692202121019,73375:0.9839149191975594,65374:0.9834557808935642,71536:0.9834501892328262,39693:0.9833942577242851,70784:0.9833648651838303,54013:0.9830321539193392,52834:0.9826435968279839,70981:0.9823134057223797,72739:0.982187207788229,63432:0.982155691832304,64716:0.9821103885769844,73848:0.9816981554031372',\n",
       " '32783:32777|32777:0.9998167610756354,31051:0.992367472499609,31522:0.9913029754534364,33497:0.9906936017796397,28915:0.9906347496435046,35457:0.9906189627945423,38863:0.9902280038222671,35451:0.989335329271853,35451:0.989335329271853,35451:0.989335329271853,35451:0.989335329271853,35451:0.989335329271853,31422:0.9891810091212392,30335:0.9891566978767514,29904:0.9890845669433475,35941:0.988879426382482,38750:0.9888760289177299,25267:0.9884830750524998,27436:0.9882703851908445,32617:0.9875404480844736,30292:0.9872632343322039,30292:0.9872632343322039,30292:0.9872632343322039,33070:0.9871721416711807,33070:0.9871721416711807',\n",
       " '49170:49608|49170:0.9998158510279609,49608:0.9951027547940612,49608:0.9951027547940612,49608:0.9951027547940612,49608:0.9951027547940612,49499:0.9947389937005937,49517:0.9946936359629035,49517:0.9946936359629035,48011:0.9944708240218461,49415:0.9942176090553403,49415:0.9942176090553403,59767:0.9941275343298912,49586:0.9937691488303244,55963:0.99360555363819,55963:0.99360555363819,64277:0.9934767442755401,52609:0.9933722116984427,44895:0.9931085659191012,45346:0.9927934003062546,45346:0.9927934003062546,50346:0.9927392117679119,46456:0.9925970886833966,44259:0.9925026609562337,44259:0.9925026609562337,44259:0.9925026609562337',\n",
       " '51886:5813|43073:0.9958923496305943,53829:0.9952701926231384,62612:0.9950988171622157,58833:0.9949846253730357,65683:0.9949690233916044,65683:0.9949690233916044,65683:0.9949690233916044,75363:0.9949685148894787,75363:0.9949685148894787,77248:0.9947943277657032,55644:0.994480901863426,55644:0.994480901863426,56156:0.9944099406711757,56009:0.9943115222267807,58341:0.9939360511489213,58341:0.9939360511489213,49940:0.9939117301255465,73617:0.99389414396137,65841:0.9938013507053256,65841:0.9938013507053256,64096:0.993773365393281,64096:0.993773365393281,45556:0.9937209426425397,42332:0.9935772507451475,42332:0.9935772507451475',\n",
       " '245782:219343|249310:0.8817708864808083,272348:0.8815814182162285,272348:0.8815814182162285,263108:0.8815281465649605,264119:0.8814455941319466,277559:0.8809733390808105,269001:0.8805898576974869,266183:0.8794825300574303,263774:0.8787294179201126,273575:0.8740605115890503,274678:0.8577439934015274,207861:0.8039949089288712,207861:0.8039949089288712,238383:0.8038521856069565,238383:0.8038521856069565,208638:0.8037113696336746,260850:0.7981429398059845,249066:0.7808730602264404,220425:0.7665768414735794,240449:0.7664218097925186,241099:0.7662664502859116,205834:0.7662379890680313,209347:0.7662224024534225,219343:0.7661998271942139,237476:0.7660078853368759',\n",
       " '147479:128424|147479:1.0,128424:0.9332932457327843,129228:0.6406753957271576,163978:0.6393290460109711,175147:0.5930113196372986,185157:0.5830015540122986,216958:0.5722501575946808,162407:0.5721552073955536,83087:0.562006413936615,75012:0.5619816482067108,83784:0.5619271099567413,130144:0.5587950646877289,78260:0.557261198759079,117144:0.5544838309288025,166025:0.5512902140617371,143844:0.5506736636161804,229435:0.548915684223175,95586:0.5484086871147156,112781:0.5458956062793732,74136:0.544935017824173,74926:0.5443460047245026,126345:0.5229690968990326,185363:0.5187031030654907,205293:0.5173026025295258,131689:0.5105256140232086',\n",
       " '245784:242965,229882,281586,238557|227665:0.9963796981610358,227665:0.9963796981610358,235759:0.9356039240956306,235759:0.9356039240956306,243073:0.9355424717068672,243073:0.9355424717068672,243073:0.9355424717068672,243073:0.9355424717068672,243073:0.9355424717068672,243073:0.9355424717068672,250521:0.9354229047894478,250521:0.9354229047894478,260772:0.8979668840765953,246301:0.8977895230054855,246301:0.8977895230054855,246301:0.8977895230054855,246301:0.8977895230054855,246301:0.8977895230054855,238873:0.8304353654384613,238873:0.8304353654384613,238873:0.8304353654384613,238873:0.8304353654384613,238873:0.8304353654384613,275492:0.8255078047513962,275492:0.8255078047513962',\n",
       " '196634:76737|67562:0.9894812237471342,133733:0.986706268042326,139721:0.9377533458173275,181652:0.9376339577138424,141546:0.937563095241785,141546:0.937563095241785,119607:0.9375629089772701,139917:0.9375362694263458,120427:0.9374130070209503,134840:0.9374066516757011,111101:0.9373744577169418,110068:0.9373093768954277,132354:0.9370037466287613,159977:0.93694619089365,112761:0.9369066953659058,108562:0.9367880150675774,149795:0.9366018697619438,149795:0.9366018697619438,130803:0.9362772032618523,141005:0.9350402429699898,150334:0.9188000932335854,135378:0.9184129908680916,95713:0.9126180112361908,92343:0.9124774932861328,122737:0.9119485914707184',\n",
       " '196635:200017|185102:0.9742209874093533,188485:0.9370298832654953,186311:0.8881866186857224,201434:0.8878456354141235,195834:0.886826753616333,266979:0.8867830708622932,115277:0.8849203214049339,114555:0.884534552693367,185457:0.8822003081440926,127474:0.879200704395771,200017:0.8777682781219482,170070:0.877669133245945,164156:0.8770673647522926,205313:0.8761579766869545,190678:0.875788040459156,154618:0.8757875636219978,181165:0.8757196441292763,186377:0.8756848126649857,175234:0.875677227973938,164325:0.8756373003125191,171991:0.8751977011561394,154851:0.8751969784498215,207280:0.8741410821676254,189311:0.8737430423498154,135565:0.8726104646921158',\n",
       " '229405:233845|255065:0.9935847269371152,267849:0.9925473844632506,247212:0.9911562679335475,230806:0.9902235781773925,239492:0.9897774094715714,226513:0.9883495634421706,303622:0.9877188540995121,240791:0.9872764991596341,274681:0.9856582945212722,262065:0.9839682299643755,242520:0.9561711177229881,225762:0.9561059586703777,317885:0.9548938907682896,272945:0.9541673436760902,264978:0.9224985092878342,273776:0.8820088133215904,327165:0.8709082156419754,327165:0.8709082156419754,289777:0.8704924881458282,342369:0.8471441566944122,293923:0.8471051007509232,343513:0.8469318151473999,285438:0.8463375866413116,322138:0.8390776515007019,271995:0.8340753316879272',\n",
       " '98334:75995|97241:0.9875031933188438,154943:0.9572216235101223,118911:0.9461346454918385,135037:0.941471453756094,107142:0.9025110527873039,89063:0.8792188763618469,96909:0.8780772686004639,96909:0.8780772686004639,99245:0.8745171576738358,98087:0.8743984997272491,98894:0.8743134588003159,99458:0.8743062019348145,98383:0.8742979764938354,82657:0.8742861598730087,91828:0.8740906566381454,94811:0.8737235814332962,92825:0.8730176240205765,116881:0.8729091882705688,81564:0.8724812865257263,81564:0.8724812865257263,58595:0.8721707314252853,61857:0.8721171021461487,65889:0.872084230184555,59443:0.8717519193887711,64597:0.8714027851819992',\n",
       " '360484:359237|381257:0.9809268917888403,378916:0.9689152427017689,413006:0.6965199708938599,396213:0.683569461107254,323102:0.6287316381931305,235953:0.08430647850036621,369917:0.0796467661857605,354844:0.07793188095092773,354844:0.07793188095092773,378868:0.077828049659729,301640:0.0682336688041687,301640:0.0682336688041687,228228:0.055516183376312256,345001:0.029652893543243408,347391:0.02417081594467163,320153:0.02417045831680298,357486:0.024140477180480957,350645:0.018366515636444092,325470:0.017628848552703857,225762:0.01424497365951538,242520:0.014228522777557373,272945:0.014153778553009033,317885:0.014113903045654297,322056:0.013935625553131104,317716:0.013740122318267822',\n",
       " '163877:159212|231373:0.8913968652486801,152808:0.5718335807323456,293768:0.5258046686649323,322362:0.48086249828338623,336417:0.4576350450515747,323692:0.4194979667663574,383116:0.4192968010902405,353534:0.41919761896133423,290895:0.4181419610977173,422691:0.41548073291778564,325870:0.41540247201919556,314926:0.4135398268699646,165266:0.41297000646591187,347218:0.4124881625175476,347218:0.4124881625175476,177147:0.4119013547897339,385442:0.41135138273239136,157536:0.4111103415489197,107955:0.41109442710876465,157682:0.4110857844352722,104295:0.4110562801361084,327528:0.4095969796180725,152511:0.40951722860336304,162393:0.40898191928863525,148156:0.40579289197921753',\n",
       " '213031:211881|202152:0.9822601247578859,211897:0.9726555049419403,195823:0.9227925911545753,204257:0.9227045923471451,211881:0.9222481325268745,169330:0.922206811606884,196124:0.9221800267696381,164091:0.9221711680293083,185079:0.9221539869904518,173725:0.9221192076802254,197155:0.9214788675308228,197084:0.9214322343468666,167743:0.9204122498631477,199392:0.9193810746073723,158526:0.872392013669014,201109:0.8664116859436035,195894:0.8599060624837875,112433:0.8485294133424759,121130:0.8478106111288071,157540:0.847709983587265,157540:0.847709983587265,157540:0.847709983587265,157540:0.847709983587265,126330:0.8476354032754898,154027:0.8476311415433884',\n",
       " '196648:89942|164325:0.9842908810824156,181165:0.9839702676981688,205313:0.9819475524127483,171991:0.9818906392902136,164156:0.9818648546934128,154851:0.9810476433485746,190678:0.9807667955756187,175234:0.9800966996699572,154618:0.9800344742834568,207280:0.9793072454631329,200017:0.9784677010029554,189311:0.9778943210840225,186377:0.9776408225297928,170070:0.9709937963634729,195834:0.954186100512743,185302:0.9474448822438717,173454:0.9457528814673424,186311:0.941427793353796,201434:0.9387403428554535,188485:0.9104103371500969,127646:0.901251532137394,119849:0.9012427926063538,125455:0.9012159034609795,157771:0.9011849462985992,129478:0.9011545404791832',\n",
       " '360489:356413|350887:0.9965955764055252,350887:0.9965955764055252,352802:0.9957678653299809,352802:0.9957678653299809,350207:0.9949435433372855,350207:0.9949435433372855,350815:0.9927344215102494,351306:0.9919873075559735,356973:0.9916274361312389,350902:0.9913942916318774,355714:0.9912044135853648,355722:0.990731448866427,354189:0.9902266217395663,354189:0.9902266217395663,354189:0.9902266217395663,355169:0.989521917887032,355169:0.989521917887032,355169:0.989521917887032,355169:0.989521917887032,368796:0.9893984440714121,368796:0.9893984440714121,368796:0.9893984440714121,363005:0.9887385927140713,363005:0.9887385927140713,363005:0.9887385927140713',\n",
       " '327722:329308|329308:0.9929668116383255,341575:0.671425461769104,336080:0.6616824269294739,342271:0.6494365334510803,340906:0.6395922303199768,381975:0.6286135017871857,309251:0.6233517229557037,304766:0.6213050484657288,310395:0.6209824979305267,310395:0.6209824979305267,7306:0.6197638511657715,376176:0.6132882535457611,87331:0.6035094261169434,375588:0.6030666530132294,375588:0.6030666530132294,316078:0.6012667417526245,235420:0.6002084910869598,290634:0.5942289531230927,77284:0.5904695689678192,162021:0.5794330537319183,286049:0.5758974552154541,21587:0.5733883082866669,278431:0.5688028335571289,250446:0.5687015950679779,273809:0.5611303746700287']"
      ]
     },
     "execution_count": 90,
     "metadata": {},
     "output_type": "execute_result"
    }
   ],
   "source": [
    "exported_rank[:20]"
   ]
  },
  {
   "cell_type": "code",
   "execution_count": 91,
   "metadata": {},
   "outputs": [],
   "source": [
    "with open(os.path.join(path, 'exported_rank.txt'), 'w') as file_out:\n",
    "    for row in exported_rank:\n",
    "        file_out.write(row + \"\\n\")"
   ]
  },
  {
   "cell_type": "code",
   "execution_count": 92,
   "metadata": {},
   "outputs": [
    {
     "name": "stdout",
     "output_type": "stream",
     "text": [
      "Evaluating...\n"
     ]
    },
    {
     "data": {
      "text/plain": [
       "{'1 - recall_at_5': 0.19,\n",
       " '2 - recall_at_10': 0.25,\n",
       " '3 - recall_at_15': 0.3,\n",
       " '4 - recall_at_20': 0.33,\n",
       " '5 - recall_at_25': 0.37}"
      ]
     },
     "execution_count": 92,
     "metadata": {},
     "output_type": "execute_result"
    }
   ],
   "source": [
    "'''\n",
    "# Eclipse\n",
    "    With CNN print all embeddings zero and 2 epochs\n",
    "    {'1 - recall_at_5': 0.13,\n",
    "     '2 - recall_at_10': 0.18,\n",
    "     '3 - recall_at_15': 0.22,\n",
    "     '4 - recall_at_20': 0.24}\n",
    "     Without relu activation for each feature siamese in 100 epochs\n",
    "     {'1 - recall_at_5': 0.16,\n",
    "     '2 - recall_at_10': 0.23,\n",
    "     '3 - recall_at_15': 0.27,\n",
    "     '4 - recall_at_20': 0.31}\n",
    "     Without dense in the last layer with 100 epochs with embed trainable\n",
    "     {'1 - recall_at_5': 0.16,\n",
    "     '2 - recall_at_10': 0.22,\n",
    "     '3 - recall_at_15': 0.26,\n",
    "     '4 - recall_at_20': 0.3}\n",
    "      \n",
    "      {'1 - recall_at_5': 0.16,\n",
    "         '2 - recall_at_10': 0.22,\n",
    "         '3 - recall_at_15': 0.26,\n",
    "         '4 - recall_at_20': 0.29,\n",
    "         '5 - recall_at_25': 0.29}\n",
    "    With title (100 padding) and desc (500 padding) and batch refactored\n",
    "        {'1 - recall_at_5': 0.2,\n",
    "         '2 - recall_at_10': 0.26,\n",
    "         '3 - recall_at_15': 0.3,\n",
    "         '4 - recall_at_20': 0.33,\n",
    "         '5 - recall_at_25': 0.33}\n",
    "         \n",
    "         {'1 - recall_at_5': 0.2,\n",
    "         '2 - recall_at_10': 0.27,\n",
    "         '3 - recall_at_15': 0.31,\n",
    "         '4 - recall_at_20': 0.34,\n",
    "         '5 - recall_at_25': 0.34}\n",
    "         With recall in validation step and split 90 train 10 to test\n",
    "         {'1 - recall_at_5': 0.25,\n",
    "         '2 - recall_at_10': 0.32,\n",
    "         '3 - recall_at_15': 0.37,\n",
    "         '4 - recall_at_20': 0.4,\n",
    "         '5 - recall_at_25': 0.4}\n",
    "         With 200 epochs validation_recall@25 = 58, optimizer=Nadam\n",
    "         {'1 - recall_at_5': 0.26,\n",
    "         '2 - recall_at_10': 0.34,\n",
    "         '3 - recall_at_15': 0.39,\n",
    "         '4 - recall_at_20': 0.42,\n",
    "         '5 - recall_at_25': 0.42}\n",
    "         With 100 epochs validation_recall@25 = 52, optimizer=Adam\n",
    "         {'1 - recall_at_5': 0.23,\n",
    "         '2 - recall_at_10': 0.3,\n",
    "         '3 - recall_at_15': 0.34,\n",
    "         '4 - recall_at_20': 0.37,\n",
    "         '5 - recall_at_25': 0.37}\n",
    "        With 1000 epochs validation_recall@25=60, optimizer=Nadam\n",
    "        {'1 - recall_at_5': 0.24,\n",
    "         '2 - recall_at_10': 0.32,\n",
    "         '3 - recall_at_15': 0.37,\n",
    "         '4 - recall_at_20': 0.41,\n",
    "         '5 - recall_at_25': 0.41}\n",
    "         With 1000 epochs validation_recall@25=64, optimizer=Nadam\n",
    "         {'1 - recall_at_5': 0.28,\n",
    "         '2 - recall_at_10': 0.36,\n",
    "         '3 - recall_at_15': 0.41,\n",
    "         '4 - recall_at_20': 0.45,\n",
    "         '5 - recall_at_25': 0.45}\n",
    "         Withou change the distance x when calculate the cosine\n",
    "         {'1 - recall_at_5': 0.18,\n",
    "         '2 - recall_at_10': 0.24,\n",
    "         '3 - recall_at_15': 0.28,\n",
    "         '4 - recall_at_20': 0.31,\n",
    "         '5 - recall_at_25': 0.31}\n",
    "         With concatenation\n",
    "         {'1 - recall_at_5': 0.23,\n",
    "         '2 - recall_at_10': 0.31,\n",
    "         '3 - recall_at_15': 0.36,\n",
    "         '4 - recall_at_20': 0.4,\n",
    "         '5 - recall_at_25': 0.43}\n",
    "             \n",
    "    # Open Office\n",
    "    {'1 - recall_at_5': 0.2,\n",
    "     '2 - recall_at_10': 0.27,\n",
    "     '3 - recall_at_15': 0.31,\n",
    "     '4 - recall_at_20': 0.34,\n",
    "     '5 - recall_at_25': 0.34}\n",
    "'''\n",
    "evaluation = Evaluation()\n",
    "report = evaluation.evaluate(os.path.join(path, 'exported_rank.txt'))\n",
    "report"
   ]
  }
 ],
 "metadata": {
  "accelerator": "GPU",
  "colab": {
   "collapsed_sections": [],
   "name": "[baseline] Bug triage with Deep Learning.ipynb",
   "provenance": [],
   "toc_visible": true,
   "version": "0.3.2"
  },
  "kernelspec": {
   "display_name": "Python 3",
   "language": "python",
   "name": "python3"
  },
  "language_info": {
   "codemirror_mode": {
    "name": "ipython",
    "version": 3
   },
   "file_extension": ".py",
   "mimetype": "text/x-python",
   "name": "python",
   "nbconvert_exporter": "python",
   "pygments_lexer": "ipython3",
   "version": "3.5.2"
  }
 },
 "nbformat": 4,
 "nbformat_minor": 1
}
