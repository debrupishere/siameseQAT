{
 "cells": [
  {
   "cell_type": "markdown",
   "metadata": {
    "colab_type": "text",
    "id": "PtdA1qs_UQP1"
   },
   "source": [
    "# Bug triage with Deep Learning"
   ]
  },
  {
   "cell_type": "code",
   "execution_count": 2,
   "metadata": {},
   "outputs": [
    {
     "name": "stderr",
     "output_type": "stream",
     "text": [
      "Using TensorFlow backend.\n"
     ]
    }
   ],
   "source": [
    "import keras"
   ]
  },
  {
   "cell_type": "code",
   "execution_count": 3,
   "metadata": {
    "colab": {},
    "colab_type": "code",
    "id": "qnSCLmiomFE1"
   },
   "outputs": [],
   "source": [
    "from __future__ import print_function, division"
   ]
  },
  {
   "cell_type": "code",
   "execution_count": 4,
   "metadata": {
    "colab": {},
    "colab_type": "code",
    "id": "OIha-SERnD72"
   },
   "outputs": [],
   "source": [
    "import re\n",
    "import numpy as np\n",
    "import pandas as pd\n",
    "\n",
    "import os\n",
    "from tqdm import tqdm_notebook as tqdm\n",
    "import matplotlib.pyplot as plt\n",
    "import sys\n",
    "nb_dir = os.path.split(os.getcwd())[0]\n",
    "if nb_dir not in sys.path:\n",
    "    sys.path.append(nb_dir)\n",
    "    \n",
    "%matplotlib inline"
   ]
  },
  {
   "cell_type": "code",
   "execution_count": 5,
   "metadata": {
    "colab": {
     "base_uri": "https://localhost:8080/",
     "height": 34
    },
    "colab_type": "code",
    "id": "c57gQiuAnJAe",
    "outputId": "9eaf2d3f-619a-492d-f40b-6ba2c48426fa"
   },
   "outputs": [],
   "source": [
    "from keras.layers import Conv1D, Input, Add, Activation, Dropout, Embedding, MaxPooling1D, \\\n",
    "    GlobalMaxPool1D, Flatten, Dense, Concatenate, BatchNormalization\n",
    "from keras.models import Sequential, Model\n",
    "from keras.regularizers import l2\n",
    "from keras.initializers import TruncatedNormal\n",
    "from keras.layers.advanced_activations import LeakyReLU, ELU\n",
    "from keras import optimizers"
   ]
  },
  {
   "cell_type": "code",
   "execution_count": 6,
   "metadata": {},
   "outputs": [],
   "source": [
    "from methods.baseline import Baseline"
   ]
  },
  {
   "cell_type": "markdown",
   "metadata": {
    "colab_type": "text",
    "id": "3VUZ6oG1gb91"
   },
   "source": [
    "## Auxiliary methods"
   ]
  },
  {
   "cell_type": "markdown",
   "metadata": {
    "colab_type": "text",
    "id": "8uQou7m2-bFO"
   },
   "source": [
    "## Configurações Globais"
   ]
  },
  {
   "cell_type": "code",
   "execution_count": 7,
   "metadata": {
    "colab": {},
    "colab_type": "code",
    "id": "G-Kn3x_K-aZj"
   },
   "outputs": [],
   "source": [
    "MAX_SEQUENCE_LENGTH_T = 100 # 40\n",
    "MAX_SEQUENCE_LENGTH_D = 500 # 200\n",
    "EMBEDDING_DIM = 300\n",
    "MAX_NB_WORDS = 2000"
   ]
  },
  {
   "cell_type": "markdown",
   "metadata": {},
   "source": [
    "### Parse bugs preproprecessed"
   ]
  },
  {
   "cell_type": "code",
   "execution_count": 8,
   "metadata": {},
   "outputs": [],
   "source": [
    "# Domain to use\n",
    "DOMAIN = 'eclipse'\n",
    "# Dataset paths\n",
    "DIR = 'data/processed/{}'.format(DOMAIN)\n",
    "DIR_PAIRS = 'data/normalized/{}'.format(DOMAIN)\n",
    "DATASET = os.path.join('data/normalized/{}'.format(DOMAIN), '{}.csv'.format(DOMAIN))\n",
    "# Glove embeddings\n",
    "GLOVE_DIR='data/embed'\n",
    "# Save model\n",
    "SAVE_PATH = 'baseline_feature@number_of_epochs@epochs_64batch({})'.format(DOMAIN)\n",
    "SAVE_PATH_FEATURE = 'baseline_feature_@number_of_epochs@epochs_64batch({})'.format(DOMAIN)"
   ]
  },
  {
   "cell_type": "code",
   "execution_count": 9,
   "metadata": {},
   "outputs": [],
   "source": [
    "baseline = Baseline(DIR, DATASET, MAX_SEQUENCE_LENGTH_T, MAX_SEQUENCE_LENGTH_D)"
   ]
  },
  {
   "cell_type": "markdown",
   "metadata": {},
   "source": [
    "#### Loading bug ids in memory"
   ]
  },
  {
   "cell_type": "code",
   "execution_count": 10,
   "metadata": {
    "scrolled": true
   },
   "outputs": [
    {
     "name": "stdout",
     "output_type": "stream",
     "text": [
      "Reading bug ids\n"
     ]
    },
    {
     "data": {
      "text/plain": [
       "212512"
      ]
     },
     "execution_count": 10,
     "metadata": {},
     "output_type": "execute_result"
    }
   ],
   "source": [
    "baseline.load_ids(DIR)\n",
    "len(baseline.bug_ids)"
   ]
  },
  {
   "cell_type": "markdown",
   "metadata": {
    "colab_type": "text",
    "id": "vqzt5EKzqzcI"
   },
   "source": [
    "### Dicionário de títulos e descrições"
   ]
  },
  {
   "cell_type": "code",
   "execution_count": 11,
   "metadata": {},
   "outputs": [],
   "source": [
    "def data_padding(data, max_seq_length):\n",
    "    seq_lengths = [len(seq) for seq in data]\n",
    "    seq_lengths.append(6)\n",
    "    max_seq_length = min(max(seq_lengths), max_seq_length)\n",
    "    padded_data = np.zeros(shape=[len(data), max_seq_length])\n",
    "    for i, seq in enumerate(data):\n",
    "        seq = seq[:max_seq_length]\n",
    "        for j, token in enumerate(seq):\n",
    "            padded_data[i, j] = int(token)\n",
    "    return padded_data.astype(np.int)"
   ]
  },
  {
   "cell_type": "code",
   "execution_count": 12,
   "metadata": {},
   "outputs": [],
   "source": [
    "import _pickle as pickle\n",
    "\n",
    "def load_bugs(baseline):   \n",
    "    removed = []\n",
    "    baseline.corpus = []\n",
    "    baseline.sentence_dict = {}\n",
    "    baseline.bug_set = {}\n",
    "    title_padding, desc_padding = [], []\n",
    "    for bug_id in tqdm(baseline.bug_ids):\n",
    "        try:\n",
    "            bug = pickle.load(open(os.path.join(baseline.DIR, 'bugs', '{}.pkl'.format(bug_id)), 'rb'))\n",
    "            title_padding.append(bug['title_word'])\n",
    "            desc_padding.append(bug['description_word'])\n",
    "            baseline.bug_set[bug_id] = bug\n",
    "            #break\n",
    "        except:\n",
    "            removed.append(bug_id)\n",
    "    \n",
    "    # Padding\n",
    "    title_padding = data_padding(title_padding, 100)\n",
    "    desc_padding = data_padding(desc_padding, 500)\n",
    "    \n",
    "    for bug_id, bug_title, bug_desc in tqdm(zip(baseline.bug_ids, title_padding, desc_padding)):\n",
    "        baseline.bug_set[bug_id]['title_word'] = bug_title\n",
    "        baseline.bug_set[bug_id]['description_word'] = bug_desc\n",
    "        bug = baseline.bug_set[bug_id]\n",
    "        baseline.sentence_dict[\",\".join(bug_title.astype(str))] = bug['title']\n",
    "        baseline.sentence_dict[\",\".join(bug_desc.astype(str))] = bug['description']\n",
    "    \n",
    "    if len(removed) > 0:\n",
    "        for x in removed:\n",
    "            baseline.bug_ids.remove(x)\n",
    "        baseline.removed = removed\n",
    "        print(\"{} were removed. To see the list call self.removed\".format(len(removed)))"
   ]
  },
  {
   "cell_type": "code",
   "execution_count": 13,
   "metadata": {
    "scrolled": true
   },
   "outputs": [
    {
     "data": {
      "application/vnd.jupyter.widget-view+json": {
       "model_id": "313191c1edb24d77992e9d6e573dfe5f",
       "version_major": 2,
       "version_minor": 0
      },
      "text/plain": [
       "HBox(children=(IntProgress(value=0, max=212512), HTML(value='')))"
      ]
     },
     "metadata": {},
     "output_type": "display_data"
    },
    {
     "name": "stdout",
     "output_type": "stream",
     "text": [
      "\n"
     ]
    },
    {
     "data": {
      "application/vnd.jupyter.widget-view+json": {
       "model_id": "0e9ec430ea8b40b99562c2786e0c1a9c",
       "version_major": 2,
       "version_minor": 0
      },
      "text/plain": [
       "HBox(children=(IntProgress(value=1, bar_style='info', max=1), HTML(value='')))"
      ]
     },
     "metadata": {},
     "output_type": "display_data"
    },
    {
     "name": "stdout",
     "output_type": "stream",
     "text": [
      "\n",
      "Wall time: 36min 16s\n"
     ]
    }
   ],
   "source": [
    "%%time\n",
    "\n",
    "load_bugs(baseline)\n",
    "len(baseline.sentence_dict)"
   ]
  },
  {
   "cell_type": "markdown",
   "metadata": {
    "colab_type": "text",
    "id": "J0WZNngemNM8"
   },
   "source": [
    "## Geração de batches"
   ]
  },
  {
   "cell_type": "markdown",
   "metadata": {
    "colab_type": "text",
    "id": "a6Obtop6UIVD"
   },
   "source": [
    "# Generating tiple of batches"
   ]
  },
  {
   "cell_type": "code",
   "execution_count": 14,
   "metadata": {
    "colab": {},
    "colab_type": "code",
    "id": "vvyMGBD4IhB-",
    "scrolled": true
   },
   "outputs": [
    {
     "name": "stdout",
     "output_type": "stream",
     "text": [
      "Reading train data\n",
      "Wall time: 606 ms\n"
     ]
    }
   ],
   "source": [
    "%%time\n",
    "baseline.prepare_dataset()"
   ]
  },
  {
   "cell_type": "code",
   "execution_count": 15,
   "metadata": {},
   "outputs": [],
   "source": [
    "if 2521 in baseline.bug_set:\n",
    "    baseline.bug_set[2521]"
   ]
  },
  {
   "cell_type": "code",
   "execution_count": 16,
   "metadata": {
    "colab": {
     "base_uri": "https://localhost:8080/",
     "height": 51
    },
    "colab_type": "code",
    "id": "PA5CIhgz7odW",
    "outputId": "ae98fdec-1d54-4b1f-ee0e-4c5633802a18",
    "scrolled": true
   },
   "outputs": [
    {
     "name": "stdout",
     "output_type": "stream",
     "text": [
      "Wall time: 172 ms\n"
     ]
    }
   ],
   "source": [
    "%%time\n",
    "\n",
    "batch_size = 64\n",
    "batch_size_test = 128\n",
    "\n",
    "# we want a constant validation group to have a frame of reference for model performance\n",
    "train_gen = baseline.siam_gen(baseline.train_data, baseline.dup_sets_train, batch_size, 1)\n",
    "batch_triplets_valid, valid_input_sample, valid_input_pos, valid_input_neg, valid_sim = baseline.batch_iterator(baseline.train_data, \n",
    "                                                                                          baseline.dup_sets_train, \n",
    "                                                                                          batch_size_test, 1)\n",
    "test_gen = ([valid_input_sample['title'], valid_input_pos['title'], valid_input_neg['title'], \n",
    "             valid_input_sample['description'], valid_input_pos['description'], valid_input_neg['description'],\n",
    "            valid_input_sample['info'], valid_input_pos['info'], valid_input_neg['info']], valid_sim)\n",
    "\n",
    "# Categorical columns\n",
    "number_of_columns_info = valid_input_sample['info'].shape[1]\n",
    "# Max sequence title\n",
    "MAX_SEQUENCE_LENGTH_T = valid_input_sample['title'].shape[1]\n",
    "MAX_SEQUENCE_LENGTH_D = valid_input_sample['description'].shape[1]"
   ]
  },
  {
   "cell_type": "code",
   "execution_count": 17,
   "metadata": {},
   "outputs": [
    {
     "data": {
      "text/plain": [
       "((128, 43), (128, 500), (128, 1682), (128,))"
      ]
     },
     "execution_count": 17,
     "metadata": {},
     "output_type": "execute_result"
    }
   ],
   "source": [
    "valid_input_sample['title'].shape, valid_input_sample['description'].shape, valid_input_sample['info'].shape, valid_sim.shape"
   ]
  },
  {
   "cell_type": "markdown",
   "metadata": {
    "colab_type": "text",
    "id": "24mY22BGnkqp"
   },
   "source": [
    "### Validar entrada"
   ]
  },
  {
   "cell_type": "code",
   "execution_count": 18,
   "metadata": {
    "colab": {
     "base_uri": "https://localhost:8080/",
     "height": 796
    },
    "colab_type": "code",
    "id": "OhTbr3a5nmrh",
    "outputId": "a2d73e0f-e9ce-4d12-a5c8-f0008d2402d0",
    "scrolled": true
   },
   "outputs": [
    {
     "name": "stdout",
     "output_type": "stream",
     "text": [
      "***Title***: nationality fonts no longer display correctly\n",
      "***Title***: organization texts can not be shown in the editor\n",
      "***Description***: in eclipse settings text fonts to organization or trebuchet ms is very desirable because it gives easy reading nationality fonts and nationality fonts but in selecting the above fonts displays only nationality characters and no more nationality characters\n",
      "***Description***: my comments are all in nationality but it shows squares when the encoding format is set at organization had no problems viewing these nationality characters previously in the builds under the organization encoding\n",
      "***similar = 1\n",
      "########################\n",
      "***Title***: propagation of build artifacts to sites causes missing updates\n",
      "***Title***: no repository found messages attempting to update from\n",
      "***Description***: was updating my maintenance build to the build date and received bunch of missing artifact errors pasted below assuming this is because of the way the builds are pushed to the sites that the metadata appears before the artifacts are actually there is there some way we could change the order in which this happens so that users don find updates until the content is actually there if we figure this out it would also be good to publish advice for others on how to do this otherwise it makes the update process look super flaky builds distrust of update sorry if this is duplicate did quick search on platform releng and didn find anything although sure this has been discussed in the past here the errors an error occurred while collecting items to be installed no repository found containing org eclipse core databinding osgi bundle no repository found containing org eclipse core databinding beans osgi bundle no repository found containing org eclipse core databinding beans source osgi bundle no repository found containing org eclipse core databinding source osgi bundle no repository found containing org eclipse core resources osgi bundle no repository found containing org eclipse core resources source osgi bundle no repository found containing org eclipse cvs org eclipse update feature jd aw no repository found containing org eclipse cvs source org eclipse update feature jd aw no repository found containing org eclipse equinox engine osgi bundle no repository found containing org eclipse equinox engine source osgi bundle no repository found containing org eclipse equinox extensionlocation osgi bundle no repository found containing org eclipse equinox extensionlocation source osgi bundle no repository found containing org eclipse equinox reconciler dropins osgi bundle no repository found containing org eclipse equinox reconciler dropins source osgi bundle no repository found containing org eclipse equinox user ui org eclipse update feature keno ph jlbhkaff hm no repository found containing org eclipse equinox user ui source org eclipse update feature keno ph jlbhkaff hm no repository found containing org eclipse help org eclipse update feature eix ei person eb ubp ckbht no repository found containing org eclipse help source org eclipse update feature eix ei person eb ubp ckbht no repository found containing org eclipse jdt apt core osgi bundle no repository found containing org eclipse jdt apt core source osgi bundle no repository found containing org eclipse jdt compiler tool osgi bundle no repository found containing org eclipse jdt compiler tool source osgi bundle no repository found containing org eclipse jdt core osgi bundle no repository found containing org eclipse jdt core source osgi bundle no repository found containing org eclipse jdt org eclipse update feature eaf ef qy ugrb hap no repository found containing org eclipse jdt source org eclipse update feature eaf ef qy ugrb hap no repository found containing org eclipse jdt ui osgi bundle no repository found containing org eclipse jdt ui source osgi bundle no repository found containing org eclipse jface osgi bundle no repository found containing org eclipse jface databinding osgi bundle no repository found containing org eclipse jface databinding source osgi bundle no repository found containing org eclipse jface source osgi bundle no repository found containing org eclipse jface text osgi bundle no repository found containing org eclipse jface text source osgi bundle no repository found containing org eclipse osgi osgi bundle no repository found containing org eclipse osgi source osgi bundle no repository found containing org eclipse platform osgi bundle no repository found containing org eclipse platform doc isv osgi bundle no repository found containing org eclipse platform org eclipse update feature ei del yevwvp zzx person agz iu no repository found containing org eclipse platform source osgi bundle no repository found containing org eclipse platform source org eclipse update feature ei del yevwvp zzx person agz iu no repository found containing org eclipse rcp org eclipse update feature jes person dxsw no repository found containing org eclipse rcp source org eclipse update feature jes person dxsw no repository found containing org eclipse sdk osgi bundle no repository found containing org eclipse sdk org eclipse update feature mc country ieu efi iswc organization no repository found containing org eclipse swt osgi bundle no repository found containing org eclipse swt win win osgi bundle no repository found containing org eclipse swt win win source osgi bundle no repository found containing org eclipse team core osgi bundle no repository found containing org eclipse team core source osgi bundle no repository found containing org eclipse team cvs core osgi bundle no repository found containing org eclipse team cvs core source osgi bundle no repository found containing org eclipse team ui osgi bundle no repository found containing org eclipse team ui source osgi bundle no repository found containing org eclipse ui osgi bundle no repository found containing org eclipse ui ide osgi bundle no repository found containing org eclipse ui ide source osgi bundle no repository found containing org eclipse ui navigator osgi bundle no repository found containing org eclipse ui navigator resources osgi bundle no repository found containing org eclipse ui navigator resources source osgi bundle no repository found containing org eclipse ui navigator source osgi bundle no repository found containing org eclipse ui source osgi bundle no repository found containing org eclipse ui workbench osgi bundle no repository found containing org eclipse ui workbench source osgi bundle no repository found containing org eclipse ui workbench texteditor osgi bundle no repository found containing org eclipse ui workbench texteditor source osgi bundle no repository found containing org eclipse sdk ide launcher win win binary\n"
     ]
    },
    {
     "name": "stdout",
     "output_type": "stream",
     "text": [
      "***Description***: help check for updates select eclipse sdk finish observe got country dialog with the following details an error occurred while collecting items to be installed no repository found containing org eclipse ant ui osgi bundle no repository found containing org eclipse ant ui source osgi bundle no repository found containing org eclipse core contenttype osgi bundle no repository found containing org eclipse core contenttype source osgi bundle no repository found containing org eclipse core databinding osgi bundle no repository found containing org eclipse core databinding beans osgi bundle no repository found containing org eclipse core databinding beans source osgi bundle no repository found containing org eclipse core databinding source osgi bundle no repository found containing org eclipse core expressions osgi bundle no repository found containing org eclipse core expressions source osgi bundle no repository found containing org eclipse core filebuffers osgi bundle no repository found containing org eclipse core filebuffers source osgi bundle no repository found containing org eclipse core jobs osgi bundle no repository found containing org eclipse core jobs source osgi bundle no repository found containing org eclipse core net osgi bundle no repository found containing org eclipse core net source osgi bundle no repository found containing org eclipse core resources osgi bundle no repository found containing org eclipse core resources source osgi bundle no repository found containing org eclipse core resources win osgi bundle no repository found containing org eclipse debug core osgi bundle no repository found containing org eclipse debug core source osgi bundle no repository found containing org eclipse ecf osgi bundle no repository found containing org eclipse ecf filetransfer osgi bundle no repository found containing org eclipse ecf identity osgi bundle no repository found containing org eclipse ecf provider filetransfer osgi bundle no repository found containing org eclipse ecf provider filetransfer httpclient osgi bundle no repository found containing org eclipse ecf provider filetransfer httpclient ssl osgi bundle no repository found containing org eclipse ecf provider filetransfer ssl osgi bundle no repository found containing org eclipse ecf ssl osgi bundle no repository found containing org eclipse equinox frameworkadmin osgi bundle no repository found containing org eclipse equinox frameworkadmin source osgi bundle no repository found containing org eclipse equinox artifact repository osgi bundle no repository found containing org eclipse equinox artifact repository source osgi bundle no repository found containing org eclipse equinox core osgi bundle no repository found containing org eclipse equinox core source osgi bundle no repository found containing org eclipse equinox director osgi bundle no repository found containing org eclipse equinox director source osgi bundle no repository found containing org eclipse equinox engine osgi bundle no repository found containing org eclipse equinox engine source osgi bundle no repository found containing org eclipse equinox extensionlocation osgi bundle no repository found containing org eclipse equinox extensionlocation source osgi bundle no repository found containing org eclipse equinox garbagecollector osgi bundle no repository found containing org eclipse equinox garbagecollector source osgi bundle no repository found containing org eclipse equinox metadata osgi bundle no repository found containing org eclipse equinox metadata generator osgi bundle no repository found containing org eclipse equinox metadata generator source osgi bundle no repository found containing org eclipse equinox metadata repository osgi bundle no repository found containing org eclipse equinox metadata repository source osgi bundle no repository found containing org eclipse equinox metadata source osgi bundle no repository found containing org eclipse equinox publisher osgi bundle no repository found containing org eclipse equinox publisher source osgi bundle no repository found containing org eclipse equinox reconciler dropins osgi bundle no repository found containing org eclipse equinox reconciler dropins source osgi bundle no repository found containing org eclipse equinox touchpoint eclipse osgi bundle no repository found containing org eclipse equinox touchpoint eclipse source osgi bundle no repository found containing org eclipse equinox touchpoint natives osgi bundle no repository found containing org eclipse equinox touchpoint natives source osgi bundle no repository found containing org eclipse equinox ui osgi bundle no repository found containing org eclipse equinox ui source osgi bundle no repository found containing org eclipse equinox updatesite osgi bundle no repository found containing org eclipse equinox updatesite source osgi bundle no repository found containing org eclipse equinox user ui org eclipse update feature etfeya pch ez rxvfc no repository found containing org eclipse equinox user ui source org eclipse update feature etfeya pch ez rxvfc no repository found containing org eclipse help osgi bundle no repository found containing org eclipse help base osgi bundle no repository found containing org eclipse help base source osgi bundle no repository found containing org eclipse help org eclipse update feature ehkeio person dmc fn no repository found containing org eclipse help source osgi bundle no repository found containing org eclipse help source org eclipse update feature ehkeio person dmc fn no repository found containing org eclipse help ui osgi bundle no repository found containing org eclipse help ui source osgi bundle no repository found containing org eclipse help webapp osgi bundle no repository found containing org eclipse help webapp source osgi bundle no repository found containing org eclipse jdt osgi bundle no repository found containing org eclipse jdt compiler tool osgi bundle no repository found containing org eclipse jdt compiler tool source osgi bundle no repository found containing org eclipse jdt core osgi bundle no repository found containing org eclipse jdt core manipulation osgi bundle no repository found containing org eclipse jdt core manipulation source osgi bundle no repository found containing org eclipse jdt core source osgi bundle no repository found containing org eclipse jdt debug osgi bundle no repository found containing org eclipse jdt debug source osgi bundle no repository found containing org eclipse jdt debug ui osgi bundle no repository found containing org eclipse jdt debug ui source osgi bundle no repository found containing org eclipse jdt doc isv osgi bundle no repository found containing org eclipse jdt doc user osgi bundle no repository found containing org eclipse jdt org eclipse update feature ede egl tuh aqleo no repository found containing org eclipse jdt junit osgi bundle no repository found containing org eclipse jdt junit runtime osgi bundle no repository found containing org eclipse jdt junit runtime source osgi bundle no repository found containing org eclipse jdt junit source osgi bundle no repository found containing org eclipse jdt junit runtime osgi bundle no repository found containing org eclipse jdt junit runtime source osgi bundle no repository found containing org eclipse jdt source osgi bundle no repository found containing org eclipse jdt source org eclipse update feature ede egl tuh aqleo no repository found containing org eclipse jdt ui osgi bundle no repository found containing org eclipse jdt ui source osgi bundle no repository found containing org eclipse jface databinding osgi bundle no repository found containing org eclipse jface databinding source osgi bundle no repository found containing org eclipse jface text osgi bundle no repository found containing org eclipse jface text source osgi bundle no repository found containing org eclipse ltk core refactoring osgi bundle no repository found containing org eclipse ltk core refactoring source osgi bundle no repository found containing org eclipse ltk ui refactoring osgi bundle no repository found containing org eclipse ltk ui refactoring source osgi bundle no repository found containing org eclipse osgi osgi bundle no repository found containing org eclipse osgi source osgi bundle no repository found containing org eclipse pde osgi bundle no repository found containing org eclipse pde api tools osgi bundle no repository found containing org eclipse pde api tools source osgi bundle no repository found containing org eclipse pde api tools ui osgi bundle no repository found containing org eclipse pde api tools ui source osgi bundle no repository found containing org eclipse pde build osgi bundle no repository found containing org eclipse pde build source osgi bundle no repository found containing org eclipse pde core osgi bundle no repository found containing org eclipse pde core source osgi bundle no repository found containing org eclipse pde ds core osgi bundle no repository found containing org eclipse pde ds core source osgi bundle no repository found containing org eclipse pde ds ui osgi bundle no repository found containing org eclipse pde ds ui source osgi bundle no repository found containing org eclipse pde org eclipse update feature xe meb organization aqnv dll um no repository found containing org eclipse pde runtime osgi bundle no repository found containing org eclipse pde runtime source osgi bundle no repository found containing org eclipse pde source osgi bundle no repository found containing org eclipse pde source org eclipse update feature xe meb organization aqnv dll um no repository found containing org eclipse pde ui osgi bundle no repository found containing org eclipse pde ui source osgi bundle no repository found containing org eclipse platform osgi bundle no repository found containing org eclipse platform doc isv osgi bundle no repository found containing org eclipse platform doc user osgi bundle no repository found containing org eclipse platform org eclipse update feature organization kty cj kr qc pwm oc xxx go no repository found containing org eclipse platform source osgi bundle no repository found containing org eclipse platform source org eclipse update feature organization kty cj kr qc pwm oc xxx go no repository found containing org eclipse sdk osgi bundle no repository found containing org eclipse sdk org eclipse update feature bedm nr rex pm person ky py ef ng no repository found containing org eclipse search osgi bundle no repository found containing org eclipse search source osgi bundle no repository found containing org eclipse swt osgi bundle no repository found containing org eclipse swt win win osgi bundle no repository found containing org eclipse swt win win source osgi bundle no repository found containing org eclipse team core osgi bundle no repository found containing org eclipse team core source osgi bundle no repository found containing org eclipse team ui osgi bundle no repository found containing org eclipse team ui source osgi bundle no repository found containing org eclipse text osgi bundle no repository found containing org eclipse text source osgi bundle no repository found containing org eclipse ui cheatsheets osgi bundle no repository found containing org eclipse ui cheatsheets source osgi bundle no repository found containing org eclipse ui console osgi bundle no repository found containing org eclipse ui console source osgi bundle no repository found containing org eclipse ui editors osgi bundle no repository found containing org eclipse ui editors source osgi bundle no repository found containing org eclipse ui forms osgi bundle no repository found containing org eclipse ui forms source osgi bundle no repository found containing org eclipse ui ide osgi bundle no repository found containing org eclipse ui ide source osgi bundle no repository found containing org eclipse ui intro osgi bundle no repository found containing org eclipse ui intro source osgi bundle no repository found containing org eclipse ui intro universal osgi bundle no repository found containing org eclipse ui intro universal source osgi bundle no repository found containing org eclipse ui workbench texteditor osgi bundle no repository found containing org eclipse ui workbench texteditor source osgi bundle no repository found containing org eclipse rcp org eclipse update feature ev nel int em evz no repository found containing org eclipse rcp source org eclipse update feature ev nel int em evz no repository found containing org eclipse sdk ide launcher win win binary no repository found containing org eclipse ui osgi bundle no repository found containing org eclipse ui source osgi bundle no repository found containing org eclipse ui workbench osgi bundle no repository found containing org eclipse ui workbench source osgi bundle\n"
     ]
    },
    {
     "name": "stdout",
     "output_type": "stream",
     "text": [
      "***similar = 1\n",
      "########################\n",
      "***Title***: add decorator to the console view to indicate bad things happened\n",
      "***Title***: severe performance issues with visualiser on\n",
      "***Description***: organizationorganization view usually displays lot of information it would be nic to have scroll bar decorated with coloured marks to indicate sth special is in specific part of console display like exception keyword could be marked as red and warn as yellow see it just like the scroll bar of the person editor it has small yellow grey red pieces that indicates sth in specific place of the file and when you click on that it centralizes view in this place very good for lot of logs in long console view\n",
      "***Description***: severe performance issues with visualiser on\n",
      "***similar = 0\n",
      "########################\n",
      "***Title***: installed jre option bogus\n",
      "***Title***: organization should be provided with an extension of rptlibrary when exporting report item to new library\n",
      "***Description***: since organization does not use ignores the jre home directory which number sets in the appropriate dialog via organization jres we always get complaints from students developers when we update remove jre btw if you are windows developer dont read further but ask developer which has some unix knowledge and sense for enterprise issues to gurantee that every student developer is able to work with the latest software we use symbolic links to accomplish that and thus no number has to waste time to update its settings wrt to person we use the following layout dir usr apps lrwxrwxrwx root root jan sdk sdk lrwxrwxrwx root root jan sdk sdk lrwxrwxrwx root root jan sdk sdk drwxr xr root root mar sdk lrwxrwxrwx root root aug sdk sdk drwxr xr root root dec sdk drwxr xr root root aug sdk drwxrwxr root root aug sdk lrwxrwxrwx root root apr sdk sdk lrwxrwxrwx root root person sdk sdk beta lrwxrwxrwx root root apr sdk beta lrwxrwxrwx root root person sdk beta so usually all users have set their java home to usr apps sdk and if we add new release sdk we just change the link for sdk from sdk to sdk and all users are uptodate without the need of wasting time to adjust their settings furthermore sing this approach developers which insist to use certain person are still able to do that for normal java software this works quite well since date however with the strange behavior of eclipse this is not true anymore so if number sets the jre home directory to certain value eclipse should use this value and not dumb method which resolves links and stores them unconditionally in the prefs\n",
      "***Description***: organization should be provided with an extension of rptlibrary when exporting report item to new library\n",
      "***similar = 0\n",
      "########################\n",
      "Wall time: 202 ms\n"
     ]
    }
   ],
   "source": [
    "%%time \n",
    "\n",
    "baseline.display_batch(baseline.train_data, baseline.dup_sets_train, 5)"
   ]
  },
  {
   "cell_type": "markdown",
   "metadata": {
    "colab_type": "text",
    "id": "XPrsLs4Kg4Pa"
   },
   "source": [
    "## Pre-trained embeddings\n",
    "\n",
    "Loading pretrained word vectors"
   ]
  },
  {
   "cell_type": "markdown",
   "metadata": {
    "colab_type": "text",
    "id": "6p9eE5TWoH7p"
   },
   "source": [
    "### Glove"
   ]
  },
  {
   "cell_type": "code",
   "execution_count": 19,
   "metadata": {},
   "outputs": [
    {
     "name": "stdout",
     "output_type": "stream",
     "text": [
      "vocabulary loaded\n"
     ]
    }
   ],
   "source": [
    "vocab = baseline.load_vocabulary(os.path.join(DIR, 'vocab_embed.pkl'))\n",
    "#print(np.random.choice(vocab, 10))\n",
    "# for token in vocab:\n",
    "#     print(token)"
   ]
  },
  {
   "cell_type": "code",
   "execution_count": 20,
   "metadata": {},
   "outputs": [
    {
     "data": {
      "text/plain": [
       "'Total vocabulary: 113554'"
      ]
     },
     "execution_count": 20,
     "metadata": {},
     "output_type": "execute_result"
    }
   ],
   "source": [
    "\"Total vocabulary: {}\".format(len(vocab))"
   ]
  },
  {
   "cell_type": "code",
   "execution_count": 32,
   "metadata": {},
   "outputs": [],
   "source": [
    "def generating_embed(baseline, GLOVE_DIR, EMBEDDING_DIM):\n",
    "    embeddings_index = {}\n",
    "    embed_path = os.path.join(GLOVE_DIR, 'glove.42B.300d.txt')\n",
    "    f = open(embed_path, 'rb')\n",
    "    #num_lines = sum(1 for line in open(embed_path, 'rb'))\n",
    "\n",
    "    vocab = baseline.load_vocabulary(os.path.join(baseline.DIR, 'vocab_embed.pkl'))\n",
    "    vocab_size = len(vocab) \n",
    "\n",
    "    # Initialize uniform the vector considering the Tanh activation\n",
    "    embedding_matrix = np.random.uniform(-1.0, 1.0, (vocab_size, EMBEDDING_DIM))\n",
    "    embedding_matrix[0, :] = np.zeros(EMBEDDING_DIM)\n",
    "\n",
    "    loop = tqdm(f)\n",
    "    loop.set_description(\"Loading Glove\")\n",
    "    for line in loop:\n",
    "        tokens = line.split()\n",
    "        word = tokens[0]\n",
    "        embeddings_index[word] = np.asarray(tokens[1:], dtype='float32')\n",
    "        loop.update(1)\n",
    "    f.close()\n",
    "    loop.close()\n",
    "\n",
    "    print('Total %s word vectors in Glove 42B 300d.' % len(embeddings_index))\n",
    "\n",
    "    loop = tqdm(total=vocab_size)\n",
    "    loop.set_description('Loading embedding from dataset pretrained')\n",
    "    i = 0\n",
    "    for word, embed in vocab.items():\n",
    "        if word in embeddings_index:\n",
    "            embedding_matrix[i] = embeddings_index[word]\n",
    "        else:\n",
    "            embedding_matrix[i] = np.asarray(embed, dtype='float32')\n",
    "        loop.update(1)\n",
    "        i+=1\n",
    "    loop.close()\n",
    "    baseline.embedding_matrix = embedding_matrix"
   ]
  },
  {
   "cell_type": "code",
   "execution_count": 33,
   "metadata": {
    "colab": {
     "base_uri": "https://localhost:8080/",
     "height": 85
    },
    "colab_type": "code",
    "id": "QY-ef3OGoIiq",
    "outputId": "55f4c93c-98bb-4bac-92f2-76bd3b777605"
   },
   "outputs": [
    {
     "name": "stdout",
     "output_type": "stream",
     "text": [
      "vocabulary loaded\n"
     ]
    },
    {
     "data": {
      "application/vnd.jupyter.widget-view+json": {
       "model_id": "edabb9353c464b2ea3603325316ab43c",
       "version_major": 2,
       "version_minor": 0
      },
      "text/plain": [
       "HBox(children=(IntProgress(value=1, bar_style='info', max=1), HTML(value='')))"
      ]
     },
     "metadata": {},
     "output_type": "display_data"
    },
    {
     "name": "stdout",
     "output_type": "stream",
     "text": [
      "Total 1917494 word vectors in Glove 42B 300d.\n"
     ]
    },
    {
     "data": {
      "application/vnd.jupyter.widget-view+json": {
       "model_id": "794ea0db4f8242a382229d8a37d02fa4",
       "version_major": 2,
       "version_minor": 0
      },
      "text/plain": [
       "HBox(children=(IntProgress(value=0, max=113554), HTML(value='')))"
      ]
     },
     "metadata": {},
     "output_type": "display_data"
    },
    {
     "name": "stdout",
     "output_type": "stream",
     "text": [
      "Wall time: 12min 15s\n"
     ]
    }
   ],
   "source": [
    "%%time\n",
    "\n",
    "generating_embed(baseline, GLOVE_DIR=GLOVE_DIR, EMBEDDING_DIM=EMBEDDING_DIM) # MAX_NB_WORDS=MAX_NB_WORDS"
   ]
  },
  {
   "cell_type": "markdown",
   "metadata": {},
   "source": [
    "## Experiment"
   ]
  },
  {
   "cell_type": "markdown",
   "metadata": {},
   "source": [
    "### Training and evaluating for each epoch at same time"
   ]
  },
  {
   "cell_type": "markdown",
   "metadata": {},
   "source": [
    "#### Auxiliary methods train experiment siamese"
   ]
  },
  {
   "cell_type": "code",
   "execution_count": 34,
   "metadata": {},
   "outputs": [],
   "source": [
    "from methods.retrieval import Retrieval\n",
    "from annoy import AnnoyIndex\n",
    "import numpy as np"
   ]
  },
  {
   "cell_type": "code",
   "execution_count": 35,
   "metadata": {},
   "outputs": [],
   "source": [
    "def create_queries(retrieval, path_test):\n",
    "    print(\"Creating the queries...\")\n",
    "    test = []\n",
    "    with open(path_test, 'r') as file_test:\n",
    "        for row in tqdm(file_test):\n",
    "            tokens = row.strip().split()\n",
    "            test.append([int(tokens[0]), [int(bug) for bug in tokens[1:]]])\n",
    "    retrieval.test = test"
   ]
  },
  {
   "cell_type": "code",
   "execution_count": 36,
   "metadata": {
    "scrolled": true
   },
   "outputs": [
    {
     "name": "stdout",
     "output_type": "stream",
     "text": [
      "Creating the buckets...\n"
     ]
    },
    {
     "data": {
      "application/vnd.jupyter.widget-view+json": {
       "model_id": "2ff68dfd21054f459597705c254ce523",
       "version_major": 2,
       "version_minor": 0
      },
      "text/plain": [
       "HBox(children=(IntProgress(value=0, max=321483), HTML(value='')))"
      ]
     },
     "metadata": {},
     "output_type": "display_data"
    },
    {
     "data": {
      "application/vnd.jupyter.widget-view+json": {
       "model_id": "5bd44cd0cb26414c8bf48716bad0b2c3",
       "version_major": 2,
       "version_minor": 0
      },
      "text/plain": [
       "HBox(children=(IntProgress(value=0, max=39523), HTML(value='')))"
      ]
     },
     "metadata": {},
     "output_type": "display_data"
    }
   ],
   "source": [
    "retrieval = Retrieval()\n",
    "\n",
    "path = 'data/processed/{}'.format(DOMAIN)\n",
    "path_buckets = 'data/normalized/{}/{}.csv'.format(DOMAIN, DOMAIN)\n",
    "path_train = 'data/processed/{}/train.txt'.format(DOMAIN)\n",
    "path_test = 'data/processed/{}/test.txt'.format(DOMAIN)\n",
    "\n",
    "MAX_SEQUENCE_LENGTH_I = number_of_columns_info # Status, Severity, Version, Component, Module\n",
    "\n",
    "# Create the instance from baseline\n",
    "#retrieval.baseline = Baseline(path, path_buckets, MAX_SEQUENCE_LENGTH_T, MAX_SEQUENCE_LENGTH_D)\n",
    "retrieval.baseline = baseline\n",
    "\n",
    "df = pd.read_csv(path_buckets)\n",
    "\n",
    "# Load bug ids\n",
    "#retrieval.load_bugs(path, path_train)\n",
    "# Create the buckets\n",
    "retrieval.create_bucket(df)"
   ]
  },
  {
   "cell_type": "code",
   "execution_count": 37,
   "metadata": {},
   "outputs": [
    {
     "name": "stdout",
     "output_type": "stream",
     "text": [
      "Creating the queries...\n"
     ]
    },
    {
     "data": {
      "application/vnd.jupyter.widget-view+json": {
       "model_id": "960a46b6417340dfb9743d095cb6d68f",
       "version_major": 2,
       "version_minor": 0
      },
      "text/plain": [
       "HBox(children=(IntProgress(value=1, bar_style='info', max=1), HTML(value='')))"
      ]
     },
     "metadata": {},
     "output_type": "display_data"
    }
   ],
   "source": [
    "# Read and create the test queries duplicate\n",
    "create_queries(retrieval, path_test)"
   ]
  },
  {
   "cell_type": "markdown",
   "metadata": {},
   "source": [
    "#### Hashing bugs by buckets"
   ]
  },
  {
   "cell_type": "code",
   "execution_count": 38,
   "metadata": {},
   "outputs": [
    {
     "data": {
      "application/vnd.jupyter.widget-view+json": {
       "model_id": "3859934da74743e49bb4eed081799b08",
       "version_major": 2,
       "version_minor": 0
      },
      "text/plain": [
       "HBox(children=(IntProgress(value=0, max=321483), HTML(value='')))"
      ]
     },
     "metadata": {},
     "output_type": "display_data"
    }
   ],
   "source": [
    "issues_by_buckets = {}\n",
    "for bucket in tqdm(retrieval.buckets):\n",
    "    issues_by_buckets[bucket] = bucket\n",
    "    for issue in np.array(retrieval.buckets[bucket]).tolist():\n",
    "        issues_by_buckets[issue] = bucket"
   ]
  },
  {
   "cell_type": "markdown",
   "metadata": {},
   "source": [
    "#### Model to vectorize"
   ]
  },
  {
   "cell_type": "code",
   "execution_count": 39,
   "metadata": {},
   "outputs": [],
   "source": [
    "from keras.models import Model\n",
    "from keras.layers import Input\n",
    "from keras.models import load_model\n",
    "\n",
    "def get_model_vectorizer(path=None, loaded_model=None):\n",
    "    if(path):\n",
    "        loaded_model = load_model(os.path.join(\"modelos\", \"model_{}.h5\".format(path)))\n",
    "        \n",
    "        '''\n",
    "            {'l2_normalize' : l2_normalize, \n",
    "                                     'margin_loss' : margin_loss,\n",
    "                                     'pos_distance' : pos_distance,\n",
    "                                     'neg_distance' : neg_distance,\n",
    "                                     'stack_tensors': stack_tensors}\n",
    "        '''\n",
    "    \n",
    "    return loaded_model"
   ]
  },
  {
   "cell_type": "markdown",
   "metadata": {},
   "source": [
    "#### Getting the list of candidates"
   ]
  },
  {
   "cell_type": "code",
   "execution_count": 40,
   "metadata": {},
   "outputs": [],
   "source": [
    "def indexing_query(annoy, queries_test_vectorized, verbose=1):\n",
    "    X_test = queries_test_vectorized\n",
    "    distance_test, indices_test = [], []\n",
    "    loop = enumerate(X_test)\n",
    "    if(verbose):\n",
    "        loop = tqdm(enumerate(X_test))\n",
    "        loop.set_description('Getting the list of candidates from queries')\n",
    "    for index, row in loop:\n",
    "        vector = row['vector']\n",
    "        rank, dist = annoy.get_nns_by_vector(vector, 30, include_distances=True)\n",
    "        indices_test.append(rank)\n",
    "        distance_test.append(1 - np.array(dist)) # normalize the similarity between 0 and 1\n",
    "    if(verbose): loop.close()\n",
    "    return X_test, distance_test, indices_test"
   ]
  },
  {
   "cell_type": "markdown",
   "metadata": {},
   "source": [
    "#### Indexing bugs"
   ]
  },
  {
   "cell_type": "code",
   "execution_count": 41,
   "metadata": {},
   "outputs": [],
   "source": [
    "# Indexing all train\n",
    "def indexing_test(buckets_train_vectorized, verbose=1):\n",
    "    X = np.array(buckets_train_vectorized)\n",
    "    annoy = AnnoyIndex(X[0]['vector'].shape[0])  # Length of item vector that will be indexed\n",
    "\n",
    "    loop = total=len(X)\n",
    "    if(verbose):\n",
    "        loop = tqdm(total=len(X))\n",
    "        loop.set_description(\"Indexing test in annoy\")\n",
    "    for index, row in enumerate(X):\n",
    "        vector = row['vector']\n",
    "        annoy.add_item(index, vector)\n",
    "        if(verbose): loop.update(1)\n",
    "    if(verbose): loop.close()\n",
    "    annoy.build(10) # 10 trees\n",
    "    return annoy"
   ]
  },
  {
   "cell_type": "markdown",
   "metadata": {},
   "source": [
    "#### Rank result"
   ]
  },
  {
   "cell_type": "code",
   "execution_count": 42,
   "metadata": {},
   "outputs": [],
   "source": [
    "def rank_result(test_vectorized, indices_test, distance_test, verbose=1):\n",
    "    formated_rank = []\n",
    "    loop = zip(indices_test, distance_test)\n",
    "    if(verbose):\n",
    "        loop = tqdm(zip(indices_test, distance_test))\n",
    "        loop.set_description('Generating the rank')\n",
    "    for row_index, row_sim in loop:\n",
    "        row_index, row_sim = row_index[:25], row_sim[:25]\n",
    "        formated_rank.append(\",\".join([\"{}:{}\".format(test_vectorized[index]['bug_id'], sim) \n",
    "                                       for index, sim in zip(row_index, row_sim)]))\n",
    "    if(verbose): loop.close()\n",
    "    return formated_rank"
   ]
  },
  {
   "cell_type": "markdown",
   "metadata": {},
   "source": [
    "#### Vectorizer "
   ]
  },
  {
   "cell_type": "code",
   "execution_count": 43,
   "metadata": {},
   "outputs": [],
   "source": [
    "def vectorizer_test(bug_set, model, test, issues_by_buckets, verbose=1):\n",
    "    test_vectorized = []\n",
    "    title_data, desc_data, info_data = [], [], []\n",
    "    loop = test\n",
    "    if(verbose):\n",
    "        loop = tqdm(test)\n",
    "        loop.set_description('Vectorizing buckets')\n",
    "    buckets = set()\n",
    "    for row in loop: # retrieval.bugs_train\n",
    "        query, ground_truth = row\n",
    "        bugs = [query]\n",
    "        bugs += ground_truth\n",
    "        for bug_id in bugs:\n",
    "            buckets.add(issues_by_buckets[bug_id])\n",
    "    for bucket_id in buckets:\n",
    "        bug = bug_set[bucket_id]\n",
    "        title_data.append(bug['title_word'])\n",
    "        desc_data.append(bug['description_word'])\n",
    "        info_data.append(retrieval.get_info(bug))\n",
    "        test_vectorized.append({ 'bug_id' : bucket_id })\n",
    "    if(verbose):\n",
    "        loop.close()\n",
    "    # Get embedding of all buckets\n",
    "    embed_test = model.predict([ np.array(title_data), np.array(desc_data), np.array(info_data) ])\n",
    "    # Fill the buckets array\n",
    "    for index, vector in enumerate(embed_test):\n",
    "        test_vectorized[index]['vector'] = vector\n",
    "    \n",
    "    return test_vectorized"
   ]
  },
  {
   "cell_type": "code",
   "execution_count": 44,
   "metadata": {},
   "outputs": [],
   "source": [
    "def vectorize_queries(bug_set, model, test, issues_by_buckets, verbose=1):\n",
    "    queries_test_vectorized = []\n",
    "    title_data, desc_data, info_data = [], [], []\n",
    "    loop = test\n",
    "    if(verbose):\n",
    "        loop = tqdm(test)\n",
    "    for row in loop:\n",
    "        test_bug_id, ground_truth = row\n",
    "        if issues_by_buckets[test_bug_id] == test_bug_id: # if the bug is the master\n",
    "            test_bug_id = np.random.choice(ground_truth, 1)[0]\n",
    "        vectorizer = set()\n",
    "        vectorizer.add(test_bug_id)\n",
    "        if test_bug_id in ground_truth:\n",
    "            ground_truth = list(set(ground_truth) - set([test_bug_id])) # Remove the same bug random choice to change the master\n",
    "        if len(ground_truth) > 0:\n",
    "            for bug in ground_truth:\n",
    "                vectorizer.add(bug)\n",
    "                \n",
    "        for bug_id in vectorizer:\n",
    "            bug = bug_set[bug_id]\n",
    "            title_data.append(bug['title_word'])\n",
    "            desc_data.append(bug['description_word'])\n",
    "            info_data.append(retrieval.get_info(bug))\n",
    "            queries_test_vectorized.append({ 'bug_id' : bug_id, 'ground_truth': issues_by_buckets[bug_id] })\n",
    "\n",
    "    # Get embedding of all buckets\n",
    "    embed_queries = model.predict([ np.array(title_data), np.array(desc_data), np.array(info_data) ])\n",
    "    # Fill the queries array    \n",
    "    for index, vector in enumerate(embed_queries):\n",
    "        queries_test_vectorized[index]['vector'] = vector\n",
    "    \n",
    "    return queries_test_vectorized"
   ]
  },
  {
   "cell_type": "markdown",
   "metadata": {},
   "source": [
    "#### Queries"
   ]
  },
  {
   "cell_type": "code",
   "execution_count": 45,
   "metadata": {},
   "outputs": [],
   "source": [
    "# Generating the rank result\n",
    "def formating_rank(X_test, verbose=1):\n",
    "    rank_queries = []\n",
    "    loop = enumerate(X_test)\n",
    "    if(verbose):\n",
    "        loop = tqdm(enumerate(X_test))\n",
    "        loop.set_description('Generating the queries from rank')\n",
    "    for index, row in loop:\n",
    "        dup_a, ground_truth = row['bug_id'], row['ground_truth']\n",
    "        rank_queries.append(\"{}:{}\".format(dup_a, ground_truth))\n",
    "    if(verbose): loop.close()\n",
    "    return rank_queries"
   ]
  },
  {
   "cell_type": "code",
   "execution_count": 46,
   "metadata": {},
   "outputs": [],
   "source": [
    "def export_rank(rank_queries, formated_rank, verbose=1):\n",
    "    exported_rank = []\n",
    "    loop = len(rank_queries)\n",
    "    if(verbose):\n",
    "        loop = tqdm(total=len(rank_queries))\n",
    "        loop.set_description('Exporting the rank')\n",
    "    for query, rank in zip(rank_queries, formated_rank):\n",
    "        exported_rank.append(\"{}|{}\".format(query, rank))\n",
    "        if(verbose): loop.update(1)\n",
    "    if(verbose): loop.close()\n",
    "    return exported_rank"
   ]
  },
  {
   "cell_type": "markdown",
   "metadata": {},
   "source": [
    "#### Methods to evaluate each epoch"
   ]
  },
  {
   "cell_type": "code",
   "execution_count": 47,
   "metadata": {},
   "outputs": [],
   "source": [
    "def evaluate_validation_test(retrieval, verbose, loaded_model, issues_by_buckets):\n",
    "    \n",
    "    # Load test set\n",
    "    test = retrieval.test\n",
    "    bug_set = retrieval.baseline.get_bug_set()\n",
    "    \n",
    "    # Get model\n",
    "    model = get_model_vectorizer(loaded_model=loaded_model)\n",
    "    \n",
    "    # Test \n",
    "    test_vectorized = vectorizer_test(bug_set, model, test, issues_by_buckets, verbose)\n",
    "    queries_test_vectorized = vectorize_queries(bug_set, model, test, issues_by_buckets, verbose)\n",
    "    annoy = indexing_test(test_vectorized, verbose)\n",
    "    X_test, distance_test, indices_test = indexing_query(annoy, queries_test_vectorized, verbose)\n",
    "    formated_rank = rank_result(test_vectorized, indices_test, distance_test, verbose)\n",
    "    rank_queries = formating_rank(X_test, verbose)\n",
    "    exported_rank = export_rank(rank_queries, formated_rank, verbose)\n",
    "    evaluation = Evaluation(verbose)\n",
    "    recall = evaluation.evaluate(exported_rank)['5 - recall_at_25']\n",
    "    \n",
    "    # recall@25, loss, cosine_positive, cosine_negative\n",
    "    return recall, exported_rank\n",
    "    #return report['5 - recall_at_25'], evaluation_test_batch[0], evaluation_test_batch[1], evaluation_test_batch[2] "
   ]
  },
  {
   "cell_type": "markdown",
   "metadata": {},
   "source": [
    "#### Evaluation method"
   ]
  },
  {
   "cell_type": "code",
   "execution_count": 48,
   "metadata": {},
   "outputs": [],
   "source": [
    "class Evaluation():\n",
    "    def __init__(self, verbose=1):\n",
    "        self.verbose = verbose\n",
    "        self.MAX_RANK = 25\n",
    "    \n",
    "    \"\"\"\n",
    "        Rank recall_rate_@k\n",
    "        rank = \"query:master|master:id:sim,master:id:sim\"\n",
    "    \"\"\"\n",
    "    def top_k_recall(self, row, k):\n",
    "        query, rank = row.split('|')\n",
    "        query_dup_id, ground_truth = query.split(\":\")\n",
    "        candidates = [int(item.split(':')[0]) for pos, item in enumerate(rank.split(\",\")[:self.MAX_RANK])]\n",
    "        corrects = len(set([int(ground_truth)]) & set(candidates[:k]))\n",
    "        total = len([ground_truth]) # only one master from query\n",
    "        return float(corrects), total\n",
    "\n",
    "    def evaluate(self, path):\n",
    "        self.recall_at_5_corrects_sum, self.recall_at_10_corrects_sum, \\\n",
    "        self.recall_at_15_corrects_sum, self.recall_at_20_corrects_sum, self.recall_at_25_corrects_sum = 0, 0, 0, 0, 0\n",
    "        self.recall_at_5_total_sum, self.recall_at_10_total_sum, self.recall_at_15_total_sum, \\\n",
    "        self.recall_at_20_total_sum, self.recall_at_25_total_sum = 0, 0, 0, 0, 0 \n",
    "        if(self.verbose):\n",
    "            print(\"Evaluating...\")\n",
    "        if type(path) == str:\n",
    "            with open(path, 'r') as file_input:\n",
    "                for row in file_input:\n",
    "                    self.recall(row)\n",
    "        else:\n",
    "            for row in path:\n",
    "                self.recall(row)\n",
    "        \n",
    "        report = {\n",
    "            '1 - recall_at_5' : round(self.recall_at_5_corrects_sum / self.recall_at_5_total_sum, 2),\n",
    "            '2 - recall_at_10' : round(self.recall_at_10_corrects_sum / self.recall_at_10_total_sum, 2),\n",
    "            '3 - recall_at_15' : round(self.recall_at_15_corrects_sum / self.recall_at_15_total_sum, 2),\n",
    "            '4 - recall_at_20' : round(self.recall_at_20_corrects_sum / self.recall_at_20_total_sum, 2),\n",
    "            '5 - recall_at_25' : round(self.recall_at_25_corrects_sum / self.recall_at_25_total_sum, 2)\n",
    "        }\n",
    "\n",
    "        return report\n",
    "    def recall(self, row):\n",
    "        #if row == '': continue\n",
    "        self.recall_at_5_corrects, self.recall_at_5_total = self.top_k_recall(row, k=5)\n",
    "        self.recall_at_10_corrects, self.recall_at_10_total = self.top_k_recall(row, k=10)\n",
    "        self.recall_at_15_corrects, self.recall_at_15_total = self.top_k_recall(row, k=15)\n",
    "        self.recall_at_20_corrects, self.recall_at_20_total = self.top_k_recall(row, k=20)\n",
    "        self.recall_at_25_corrects, self.recall_at_25_total = self.top_k_recall(row, k=25)\n",
    "\n",
    "        self.recall_at_5_corrects_sum += self.recall_at_5_corrects\n",
    "        self.recall_at_10_corrects_sum += self.recall_at_10_corrects\n",
    "        self.recall_at_15_corrects_sum += self.recall_at_15_corrects\n",
    "        self.recall_at_20_corrects_sum += self.recall_at_20_corrects\n",
    "        self.recall_at_25_corrects_sum += self.recall_at_25_corrects\n",
    "\n",
    "        self.recall_at_5_total_sum += self.recall_at_5_total\n",
    "        self.recall_at_10_total_sum += self.recall_at_10_total\n",
    "        self.recall_at_15_total_sum += self.recall_at_15_total\n",
    "        self.recall_at_20_total_sum += self.recall_at_20_total\n",
    "        self.recall_at_25_total_sum += self.recall_at_25_total"
   ]
  },
  {
   "cell_type": "markdown",
   "metadata": {},
   "source": [
    "#### Save the model"
   ]
  },
  {
   "cell_type": "code",
   "execution_count": 49,
   "metadata": {},
   "outputs": [],
   "source": [
    "def save_model(model, name, verbose=0):\n",
    "    m_dir = os.path.join('modelos')\n",
    "    if not os.path.exists(m_dir):\n",
    "        os.mkdir(m_dir)\n",
    "    export = os.path.join(m_dir, \"model_{}.h5\".format(name))\n",
    "    model.save(export)\n",
    "    if(verbose):\n",
    "        print(\"Saved model '{}' to disk\".format(export))"
   ]
  },
  {
   "cell_type": "markdown",
   "metadata": {
    "colab_type": "text",
    "id": "Lev5Y7oaFQBd"
   },
   "source": [
    "## Towards Accurate Duplicate Bug Retrieval Using Deep Learning Techniques\n",
    "\n",
    "https://github.com/tqtg/DuplicateBugFinder"
   ]
  },
  {
   "cell_type": "markdown",
   "metadata": {},
   "source": [
    "### Embedding layer"
   ]
  },
  {
   "cell_type": "code",
   "execution_count": 50,
   "metadata": {},
   "outputs": [],
   "source": [
    "from keras.constraints import MaxNorm\n",
    "from keras.initializers import TruncatedNormal, RandomUniform\n",
    "\n",
    "# Is missing the padding_idx used in pytorch\n",
    "# https://pytorch.org/docs/stable/_modules/torch/nn/modules/sparse.html\n",
    "# https://stackoverflow.com/questions/54824768/rnn-model-gru-of-word2vec-to-regression-not-learning\n",
    "def embedding_layer(embeddings, num_words, embedding_dim, max_sequence_length, trainable):\n",
    "    embedding_layer = Embedding(num_words,\n",
    "                                  embedding_dim,\n",
    "                                  name='embedding_layer',\n",
    "                                  weights=[embeddings],\n",
    "                                  embeddings_constraint=MaxNorm(max_value=1, axis=0),\n",
    "                                  #input_length=max_sequence_length,\n",
    "                                  input_length=None,\n",
    "                                  trainable=trainable)\n",
    "    return embedding_layer"
   ]
  },
  {
   "cell_type": "markdown",
   "metadata": {
    "colab_type": "text",
    "id": "sI074wU4Y13y"
   },
   "source": [
    "### CNN with filter 3,4,5"
   ]
  },
  {
   "cell_type": "code",
   "execution_count": 51,
   "metadata": {
    "colab": {
     "base_uri": "https://localhost:8080/",
     "height": 493
    },
    "colab_type": "code",
    "id": "h6YJU9GtFTyq",
    "outputId": "f85cf105-1fd6-491d-d969-7e6936f32739",
    "scrolled": false
   },
   "outputs": [],
   "source": [
    "import keras\n",
    "from keras.layers import GlobalMaxPooling1D, GlobalAveragePooling1D\n",
    "\n",
    "def cnn_model(embedding_layer, max_sequence_length):\n",
    "\n",
    "    #sequence_input = Input(shape=(max_sequence_length,), name='Feature_BugInput')\n",
    "    sequence_input = Input(shape=(None,), name='Feature_BugInput')\n",
    "    embedded_sequences = embedding_layer(sequence_input)\n",
    "\n",
    "    # Yoon Kim model (https://arxiv.org/abs/1408.5882)\n",
    "    # best combination filter (3, 4, 5) e 128 e 256\n",
    "    convs = []\n",
    "    filter_sizes = [3, 4, 5]\n",
    "    n_filters = 64\n",
    "\n",
    "    for index, filter_size in enumerate(filter_sizes):\n",
    "        l_conv = Conv1D(filters=n_filters, kernel_size=filter_size)(embedded_sequences)\n",
    "        l_pool = MaxPooling1D(pool_size=filter_size)(l_conv) # index+1\n",
    "        convs.append(l_pool)\n",
    "\n",
    "    l_merge = Concatenate(axis=1)(convs)\n",
    "\n",
    "    # add a 1D convnet with global maxpooling, instead of Yoon Kim model\n",
    "    #conv = Conv1D(filters=n_filters * 3, kernel_size=3)(l_merge)\n",
    "    layer = GlobalAveragePooling1D()(l_merge)\n",
    "    #layer = Flatten()(l_merge)\n",
    "    layer = Dense(300, activation='tanh')(layer)\n",
    "    #layer = LeakyReLU()(layer)\n",
    "\n",
    "    cnn_feature_model = Model(inputs=[sequence_input], outputs=[layer], name = 'FeatureCNNGenerationModel') # inputs=visible\n",
    "\n",
    "    return cnn_feature_model"
   ]
  },
  {
   "cell_type": "markdown",
   "metadata": {
    "colab_type": "text",
    "id": "wr6ObTXiaALH"
   },
   "source": [
    "### Bi-LSTM"
   ]
  },
  {
   "cell_type": "code",
   "execution_count": 52,
   "metadata": {
    "colab": {
     "base_uri": "https://localhost:8080/",
     "height": 306
    },
    "colab_type": "code",
    "id": "vC7MQXEsaCeG",
    "outputId": "65e647a9-c5d3-4009-b8a4-2e2d97b52684"
   },
   "outputs": [],
   "source": [
    "from keras.layers import Dense, Input, LSTM, GRU, Dropout, Bidirectional, GlobalAveragePooling1D\n",
    "\n",
    "def lstm_model(embedding_layer, max_sequence_length):\n",
    "    number_lstm_units = 50\n",
    "    rate_drop_lstm = 0\n",
    "    recurrent_dropout = 0\n",
    "\n",
    "    #sequence_input = Input(shape=(max_sequence_length, ), name='Feature_BugInput')\n",
    "    sequence_input = Input(shape=(None, ), name='Feature_BugInput')\n",
    "    embedded_sequences = embedding_layer(sequence_input)\n",
    "\n",
    "    # Creating LSTM Encoder\n",
    "#     lstm_layer = Bidirectional(LSTM(number_lstm_units, return_sequences=True), # dropout=rate_drop_lstm, recurrent_dropout=rate_drop_lstm \n",
    "#                                merge_mode='ave')\n",
    "\n",
    "    lstm_layer = LSTM(number_lstm_units, return_sequences=True)(embedded_sequences)\n",
    "    layer = LSTM(number_lstm_units)(lstm_layer)\n",
    "\n",
    "    #layer = lstm_layer(embedded_sequences)\n",
    "    #layer = GlobalAveragePooling1D()(layer)\n",
    "    layer = Dense(300, activation='tanh')(layer)\n",
    "\n",
    "    lstm_feature_model = Model(inputs=[sequence_input], outputs=[layer], name = 'FeatureLstmGenerationModel') # inputs=visible\n",
    "\n",
    "    return lstm_feature_model"
   ]
  },
  {
   "cell_type": "markdown",
   "metadata": {},
   "source": [
    "### MLP"
   ]
  },
  {
   "cell_type": "code",
   "execution_count": 53,
   "metadata": {},
   "outputs": [],
   "source": [
    "def mlp_model(input_size):\n",
    "    info_input = Input(shape=(input_size, ), name='Feature_BugInput')\n",
    "    input_size = 300\n",
    "    \n",
    "    layer = Dense(input_size, activation='tanh')(info_input)\n",
    "    \n",
    "    mlp_feature_model = Model(inputs=[info_input], outputs=[layer], name = 'FeatureMlpGenerationModel')\n",
    "    \n",
    "    return mlp_feature_model"
   ]
  },
  {
   "cell_type": "markdown",
   "metadata": {
    "colab_type": "text",
    "id": "TEedCg5AaTf2"
   },
   "source": [
    "### Siamese model"
   ]
  },
  {
   "cell_type": "code",
   "execution_count": 54,
   "metadata": {
    "colab": {
     "base_uri": "https://localhost:8080/",
     "height": 561
    },
    "colab_type": "code",
    "id": "VWBkSIYVaXyP",
    "outputId": "ed2a3d37-b8ec-4960-ef45-2909a87c8fa5"
   },
   "outputs": [],
   "source": [
    "from keras import backend as K\n",
    "import tensorflow as tf\n",
    "\n",
    "def l2_normalize(x, axis):\n",
    "    norm = K.sqrt(K.sum(K.square(x), axis=axis, keepdims=False))\n",
    "    return x, K.maximum(norm, K.epsilon())\n",
    "\n",
    "def normalize(x):\n",
    "    return l2_normalize(x, axis=-1)\n",
    "    \n",
    "# https://github.com/keras-team/keras/issues/3031\n",
    "# https://github.com/keras-team/keras/issues/8335\n",
    "def cosine_distance(inputs):\n",
    "    x, y = inputs\n",
    "    x, x_norm = l2_normalize(x, axis=-1)\n",
    "    y, y_norm = l2_normalize(y, axis=-1)\n",
    "    distance = K.sum( x * y, axis=-1) / (x_norm * y_norm)\n",
    "    distance = (distance + K.constant(1)) / K.constant(2)\n",
    "    # Distance goes from 0 to 2 in theory, but from 0 to 1 if x and y are both\n",
    "    # positive (which is the case after ReLU activation).\n",
    "    return distance\n",
    "\n",
    "def margin_loss(y_true, y_pred):\n",
    "    margin = K.constant(1.0)\n",
    "    loss = K.maximum(0.0, margin - y_pred[0] +  y_pred[1])\n",
    "    return K.mean(loss)\n",
    "\n",
    "def pos_distance(y_true, y_pred):\n",
    "    return K.mean(y_pred[0])\n",
    "\n",
    "def neg_distance(y_true, y_pred):\n",
    "    return K.mean(y_pred[1])\n",
    "\n",
    "def stack_tensors(vects):\n",
    "    return K.stack(vects)"
   ]
  },
  {
   "cell_type": "markdown",
   "metadata": {},
   "source": [
    "#### Propose"
   ]
  },
  {
   "cell_type": "code",
   "execution_count": 55,
   "metadata": {},
   "outputs": [],
   "source": [
    "from keras.initializers import TruncatedNormal\n",
    "from keras.regularizers import l2\n",
    "\n",
    "def residual_bug():\n",
    "    def block(block_input):\n",
    "        shape_size = K.int_shape(block_input)[1]\n",
    "        \n",
    "        residual =  block_input\n",
    "        \n",
    "        layer_out = Dense(shape_size // 2, activation='tanh')(block_input)\n",
    "        \n",
    "        skip_out =  Dense(shape_size, activation='linear', use_bias=False)(layer_out)\n",
    "        # kernel_initializer=TruncatedNormal(mean=0.0, stddev=0.05, \n",
    "         #             seed=42), kernel_regularizer=l2(0.01)\n",
    "        \n",
    "        dense_out =  Dense(shape_size, activation='linear', use_bias=False)(layer_out)\n",
    "        \n",
    "        block_out =   Add()([residual, dense_out])\n",
    "        return block_out, skip_out\n",
    "    return block"
   ]
  },
  {
   "cell_type": "code",
   "execution_count": 56,
   "metadata": {},
   "outputs": [],
   "source": [
    "from keras.layers import concatenate, Add, Lambda, merge, Average, Maximum\n",
    "from keras.optimizers import Adam, Nadam\n",
    "\n",
    "def siamese_model(lstm_feature_model, cnn_feature_model, mlp_feature_model, sequence_length_info, \n",
    "                  sequence_length_t, sequence_length_d, name):\n",
    "  \n",
    "    bug_t = Input(shape = (sequence_length_t, ), name = 'title_{}'.format(name))\n",
    "    bug_d = Input(shape = (sequence_length_d, ), name = 'desc_{}'.format(name))\n",
    "    bug_i = Input(shape = (sequence_length_info, ), name = 'info_{}'.format(name))\n",
    "    \n",
    "    bug_t_feat_lstm = lstm_feature_model(bug_t)\n",
    "    bug_d_feat_cnn = cnn_feature_model(bug_d)\n",
    "    bug_i_feat_mlp = mlp_feature_model(bug_i)\n",
    "    \n",
    "    #bug_feature_output = Add(name = 'merge_features_{}'.format(name))([bug_i_feat_mlp, bug_t_feat_lstm, bug_d_feat_cnn])\n",
    "    bug_feature_output = concatenate([bug_i_feat_mlp, bug_t_feat_lstm, bug_d_feat_cnn], name = 'merge_features_{}'.format(name))\n",
    "    \n",
    "    #     encoded_1a, encoded_1b  = residual_bug()(bug_feature_output)\n",
    "    #     encoded_2a, encoded_2b  = residual_bug()(encoded_1a)\n",
    "    \n",
    "    #     bug_feature_output = Add()([encoded_1b, encoded_2b])\n",
    "    #     bug_feature_output = Activation('tanh')(bug_feature_output)\n",
    "    \n",
    "    # Bug representation layer\n",
    "    # bug_feature_output = Dense(300, activation='tanh')(bug_feature_output)\n",
    "    \n",
    "    bug_feature_model = Model(inputs=[bug_t, bug_d, bug_i], outputs=[bug_feature_output], name = 'merge_features_{}'.format(name))\n",
    "    \n",
    "    return bug_feature_model"
   ]
  },
  {
   "cell_type": "code",
   "execution_count": 57,
   "metadata": {},
   "outputs": [],
   "source": [
    "def max_margin_objective(encoded_anchor, encoded_positive, encoded_negative, decay_lr=1):\n",
    "    \n",
    "    inputs = np.concatenate([encoded_anchor.input, encoded_positive.input, encoded_negative.input], -1).tolist()\n",
    "    \n",
    "    encoded_anchor = encoded_anchor.output\n",
    "    encoded_positive = encoded_positive.output\n",
    "    encoded_negative = encoded_negative.output\n",
    "    \n",
    "    # Cosine\n",
    "    positive_d = Lambda(cosine_distance, name='pos_cosine_distance', output_shape=[1])([encoded_anchor, encoded_positive])\n",
    "    negative_d = Lambda(cosine_distance, name='neg_cosine_distance', output_shape=[1])([encoded_anchor, encoded_negative])\n",
    "\n",
    "    # Loss function only works with a single output\n",
    "    output = Lambda(\n",
    "        lambda vects: stack_tensors(vects),\n",
    "        name='stack-distances',\n",
    "        output_shape=(2, 1)\n",
    "    )([positive_d, negative_d])\n",
    "\n",
    "    similarity_model = Model(inputs = inputs, outputs = output, name = 'Similarity_Model')\n",
    "\n",
    "    #optimizer = Nadam(lr=1e-3, beta_1=0.9, beta_2=0.999, epsilon=K.epsilon(), schedule_decay=0.01)\n",
    "    optimizer = Adam(lr=1e-3 * decay_lr, beta_1=0.9, beta_2=0.999, epsilon=None, decay=0.0, amsgrad=True)\n",
    "\n",
    "    # setup the optimization process \n",
    "    similarity_model.compile(optimizer=optimizer, loss=margin_loss, metrics=[pos_distance, neg_distance])\n",
    "\n",
    "    return similarity_model"
   ]
  },
  {
   "cell_type": "code",
   "execution_count": 58,
   "metadata": {
    "scrolled": true
   },
   "outputs": [
    {
     "name": "stdout",
     "output_type": "stream",
     "text": [
      "__________________________________________________________________________________________________\n",
      "Layer (type)                    Output Shape         Param #     Connected to                     \n",
      "==================================================================================================\n",
      "info_in (InputLayer)            (None, 1682)         0                                            \n",
      "__________________________________________________________________________________________________\n",
      "title_in (InputLayer)           (None, 43)           0                                            \n",
      "__________________________________________________________________________________________________\n",
      "desc_in (InputLayer)            (None, 500)          0                                            \n",
      "__________________________________________________________________________________________________\n",
      "info_pos (InputLayer)           (None, 1682)         0                                            \n",
      "__________________________________________________________________________________________________\n",
      "title_pos (InputLayer)          (None, 43)           0                                            \n",
      "__________________________________________________________________________________________________\n",
      "desc_pos (InputLayer)           (None, 500)          0                                            \n",
      "__________________________________________________________________________________________________\n",
      "info_neg (InputLayer)           (None, 1682)         0                                            \n",
      "__________________________________________________________________________________________________\n",
      "title_neg (InputLayer)          (None, 43)           0                                            \n",
      "__________________________________________________________________________________________________\n",
      "desc_neg (InputLayer)           (None, 500)          0                                            \n",
      "__________________________________________________________________________________________________\n",
      "FeatureMlpGenerationModel (Mode (None, 300)          504900      info_in[0][0]                    \n",
      "                                                                 info_pos[0][0]                   \n",
      "                                                                 info_neg[0][0]                   \n",
      "__________________________________________________________________________________________________\n",
      "FeatureLstmGenerationModel (Mod (None, 300)          34171900    title_in[0][0]                   \n",
      "                                                                 title_pos[0][0]                  \n",
      "                                                                 title_neg[0][0]                  \n",
      "__________________________________________________________________________________________________\n",
      "FeatureCNNGenerationModel (Mode (None, 300)          34316292    desc_in[0][0]                    \n",
      "                                                                 desc_pos[0][0]                   \n",
      "                                                                 desc_neg[0][0]                   \n",
      "__________________________________________________________________________________________________\n",
      "merge_features_in (Concatenate) (None, 900)          0           FeatureMlpGenerationModel[1][0]  \n",
      "                                                                 FeatureLstmGenerationModel[1][0] \n",
      "                                                                 FeatureCNNGenerationModel[1][0]  \n",
      "__________________________________________________________________________________________________\n",
      "merge_features_pos (Concatenate (None, 900)          0           FeatureMlpGenerationModel[2][0]  \n",
      "                                                                 FeatureLstmGenerationModel[2][0] \n",
      "                                                                 FeatureCNNGenerationModel[2][0]  \n",
      "__________________________________________________________________________________________________\n",
      "merge_features_neg (Concatenate (None, 900)          0           FeatureMlpGenerationModel[3][0]  \n",
      "                                                                 FeatureLstmGenerationModel[3][0] \n",
      "                                                                 FeatureCNNGenerationModel[3][0]  \n",
      "__________________________________________________________________________________________________\n",
      "pos_cosine_distance (Lambda)    (None, 1)            0           merge_features_in[0][0]          \n",
      "                                                                 merge_features_pos[0][0]         \n",
      "__________________________________________________________________________________________________\n",
      "neg_cosine_distance (Lambda)    (None, 1)            0           merge_features_in[0][0]          \n",
      "                                                                 merge_features_neg[0][0]         \n",
      "__________________________________________________________________________________________________\n",
      "stack-distances (Lambda)        (None, 2, 1)         0           pos_cosine_distance[0][0]        \n",
      "                                                                 neg_cosine_distance[0][0]        \n",
      "==================================================================================================\n",
      "Total params: 68,993,092\n",
      "Trainable params: 860,692\n",
      "Non-trainable params: 68,132,400\n",
      "__________________________________________________________________________________________________\n",
      "Epoch: 1 - Loss: 0.81, positive_cosine: 0.84, negative_cosine: 0.65, recall@25: 0.35\n",
      "Saved model 'modelos\\model_baseline_feature_100epochs_64batch(eclipse).h5' to disk\n",
      "Epoch: 2 - Loss: 0.81, positive_cosine: 0.84, negative_cosine: 0.65\n",
      "Epoch: 3 - Loss: 0.75, positive_cosine: 0.86, negative_cosine: 0.61\n",
      "Epoch: 4 - Loss: 0.76, positive_cosine: 0.85, negative_cosine: 0.61\n",
      "Epoch: 5 - Loss: 0.76, positive_cosine: 0.82, negative_cosine: 0.58\n",
      "Epoch: 6 - Loss: 0.76, positive_cosine: 0.82, negative_cosine: 0.58, recall@25: 0.38\n",
      "Saved model 'modelos\\model_baseline_feature_100epochs_64batch(eclipse).h5' to disk\n",
      "Epoch: 7 - Loss: 0.74, positive_cosine: 0.82, negative_cosine: 0.55\n",
      "Epoch: 8 - Loss: 0.72, positive_cosine: 0.81, negative_cosine: 0.54\n",
      "Epoch: 9 - Loss: 0.71, positive_cosine: 0.83, negative_cosine: 0.53\n",
      "Epoch: 10 - Loss: 0.74, positive_cosine: 0.82, negative_cosine: 0.56\n",
      "Epoch: 11 - Loss: 0.74, positive_cosine: 0.81, negative_cosine: 0.55, recall@25: 0.40\n",
      "Saved model 'modelos\\model_baseline_feature_100epochs_64batch(eclipse).h5' to disk\n",
      "Epoch: 12 - Loss: 0.67, positive_cosine: 0.83, negative_cosine: 0.50\n",
      "Epoch: 13 - Loss: 0.73, positive_cosine: 0.79, negative_cosine: 0.52\n",
      "Epoch: 14 - Loss: 0.73, positive_cosine: 0.79, negative_cosine: 0.52\n",
      "Epoch: 15 - Loss: 0.70, positive_cosine: 0.81, negative_cosine: 0.51\n",
      "Epoch: 16 - Loss: 0.69, positive_cosine: 0.81, negative_cosine: 0.51, recall@25: 0.42\n",
      "Saved model 'modelos\\model_baseline_feature_100epochs_64batch(eclipse).h5' to disk\n",
      "Epoch: 17 - Loss: 0.69, positive_cosine: 0.81, negative_cosine: 0.50\n",
      "Epoch: 18 - Loss: 0.69, positive_cosine: 0.81, negative_cosine: 0.50\n",
      "Epoch: 19 - Loss: 0.68, positive_cosine: 0.84, negative_cosine: 0.51\n",
      "Epoch: 20 - Loss: 0.73, positive_cosine: 0.80, negative_cosine: 0.53\n",
      "Epoch: 21 - Loss: 0.63, positive_cosine: 0.87, negative_cosine: 0.50, recall@25: 0.44\n",
      "Saved model 'modelos\\model_baseline_feature_100epochs_64batch(eclipse).h5' to disk\n",
      "Epoch: 22 - Loss: 0.73, positive_cosine: 0.80, negative_cosine: 0.53\n",
      "Epoch: 23 - Loss: 0.72, positive_cosine: 0.83, negative_cosine: 0.54\n",
      "Epoch: 24 - Loss: 0.68, positive_cosine: 0.84, negative_cosine: 0.52\n",
      "Epoch: 25 - Loss: 0.63, positive_cosine: 0.86, negative_cosine: 0.49\n",
      "Epoch: 26 - Loss: 0.67, positive_cosine: 0.84, negative_cosine: 0.51, recall@25: 0.45\n",
      "Saved model 'modelos\\model_baseline_feature_100epochs_64batch(eclipse).h5' to disk\n",
      "Epoch: 27 - Loss: 0.64, positive_cosine: 0.86, negative_cosine: 0.50\n",
      "Epoch: 28 - Loss: 0.62, positive_cosine: 0.86, negative_cosine: 0.48\n",
      "Epoch: 29 - Loss: 0.62, positive_cosine: 0.88, negative_cosine: 0.49\n",
      "Epoch: 30 - Loss: 0.63, positive_cosine: 0.85, negative_cosine: 0.48\n"
     ]
    },
    {
     "name": "stdout",
     "output_type": "stream",
     "text": [
      "Epoch: 31 - Loss: 0.66, positive_cosine: 0.84, negative_cosine: 0.49, recall@25: 0.46\n",
      "Saved model 'modelos\\model_baseline_feature_100epochs_64batch(eclipse).h5' to disk\n",
      "Epoch: 32 - Loss: 0.63, positive_cosine: 0.86, negative_cosine: 0.48\n",
      "Epoch: 33 - Loss: 0.64, positive_cosine: 0.85, negative_cosine: 0.50\n",
      "Epoch: 34 - Loss: 0.62, positive_cosine: 0.86, negative_cosine: 0.48\n",
      "Epoch: 35 - Loss: 0.68, positive_cosine: 0.83, negative_cosine: 0.51\n",
      "Epoch: 36 - Loss: 0.67, positive_cosine: 0.83, negative_cosine: 0.49, recall@25: 0.47\n",
      "Saved model 'modelos\\model_baseline_feature_100epochs_64batch(eclipse).h5' to disk\n",
      "Epoch: 37 - Loss: 0.64, positive_cosine: 0.86, negative_cosine: 0.50\n",
      "Epoch: 38 - Loss: 0.60, positive_cosine: 0.87, negative_cosine: 0.47\n",
      "Epoch: 39 - Loss: 0.60, positive_cosine: 0.87, negative_cosine: 0.47\n",
      "Epoch: 40 - Loss: 0.66, positive_cosine: 0.89, negative_cosine: 0.54\n",
      "Epoch: 41 - Loss: 0.62, positive_cosine: 0.87, negative_cosine: 0.49, recall@25: 0.47\n",
      "Epoch: 42 - Loss: 0.62, positive_cosine: 0.85, negative_cosine: 0.47\n",
      "Epoch: 43 - Loss: 0.63, positive_cosine: 0.86, negative_cosine: 0.49\n",
      "Epoch: 44 - Loss: 0.59, positive_cosine: 0.91, negative_cosine: 0.50\n",
      "Epoch: 45 - Loss: 0.59, positive_cosine: 0.88, negative_cosine: 0.47\n",
      "Epoch: 46 - Loss: 0.66, positive_cosine: 0.85, negative_cosine: 0.52, recall@25: 0.48\n",
      "Saved model 'modelos\\model_baseline_feature_100epochs_64batch(eclipse).h5' to disk\n",
      "Epoch: 47 - Loss: 0.55, positive_cosine: 0.88, negative_cosine: 0.43\n",
      "Epoch: 48 - Loss: 0.64, positive_cosine: 0.86, negative_cosine: 0.50\n",
      "Epoch: 49 - Loss: 0.62, positive_cosine: 0.86, negative_cosine: 0.48\n",
      "Epoch: 50 - Loss: 0.56, positive_cosine: 0.89, negative_cosine: 0.45\n",
      "Epoch: 51 - Loss: 0.60, positive_cosine: 0.89, negative_cosine: 0.49, recall@25: 0.48\n",
      "Epoch: 52 - Loss: 0.63, positive_cosine: 0.87, negative_cosine: 0.50\n",
      "Epoch: 53 - Loss: 0.62, positive_cosine: 0.86, negative_cosine: 0.49\n",
      "Epoch: 54 - Loss: 0.66, positive_cosine: 0.86, negative_cosine: 0.52\n",
      "Epoch: 55 - Loss: 0.60, positive_cosine: 0.89, negative_cosine: 0.48\n",
      "Epoch: 56 - Loss: 0.63, positive_cosine: 0.86, negative_cosine: 0.49, recall@25: 0.49\n",
      "Saved model 'modelos\\model_baseline_feature_100epochs_64batch(eclipse).h5' to disk\n",
      "Epoch: 57 - Loss: 0.56, positive_cosine: 0.91, negative_cosine: 0.47\n",
      "Epoch: 58 - Loss: 0.57, positive_cosine: 0.90, negative_cosine: 0.48\n",
      "Epoch: 59 - Loss: 0.61, positive_cosine: 0.88, negative_cosine: 0.49\n",
      "Epoch: 60 - Loss: 0.62, positive_cosine: 0.91, negative_cosine: 0.53\n",
      "Epoch: 61 - Loss: 0.57, positive_cosine: 0.90, negative_cosine: 0.47, recall@25: 0.50\n",
      "Saved model 'modelos\\model_baseline_feature_100epochs_64batch(eclipse).h5' to disk\n",
      "Epoch: 62 - Loss: 0.65, positive_cosine: 0.89, negative_cosine: 0.55\n",
      "Epoch: 63 - Loss: 0.57, positive_cosine: 0.91, negative_cosine: 0.48\n",
      "Epoch: 64 - Loss: 0.60, positive_cosine: 0.88, negative_cosine: 0.48\n",
      "Epoch: 65 - Loss: 0.50, positive_cosine: 0.91, negative_cosine: 0.41\n",
      "Epoch: 66 - Loss: 0.61, positive_cosine: 0.91, negative_cosine: 0.52, recall@25: 0.50\n",
      "Epoch: 67 - Loss: 0.54, positive_cosine: 0.91, negative_cosine: 0.45\n",
      "Epoch: 68 - Loss: 0.62, positive_cosine: 0.91, negative_cosine: 0.53\n",
      "Epoch: 69 - Loss: 0.56, positive_cosine: 0.91, negative_cosine: 0.47\n",
      "Epoch: 70 - Loss: 0.59, positive_cosine: 0.91, negative_cosine: 0.50\n",
      "Epoch: 71 - Loss: 0.63, positive_cosine: 0.90, negative_cosine: 0.53, recall@25: 0.50\n",
      "Epoch: 72 - Loss: 0.62, positive_cosine: 0.89, negative_cosine: 0.51\n",
      "Epoch: 73 - Loss: 0.57, positive_cosine: 0.90, negative_cosine: 0.46\n",
      "Epoch: 74 - Loss: 0.58, positive_cosine: 0.88, negative_cosine: 0.46\n",
      "Epoch: 75 - Loss: 0.59, positive_cosine: 0.90, negative_cosine: 0.49\n",
      "Epoch: 76 - Loss: 0.55, positive_cosine: 0.91, negative_cosine: 0.46, recall@25: 0.51\n",
      "Saved model 'modelos\\model_baseline_feature_100epochs_64batch(eclipse).h5' to disk\n",
      "Epoch: 77 - Loss: 0.58, positive_cosine: 0.91, negative_cosine: 0.49\n",
      "Epoch: 78 - Loss: 0.53, positive_cosine: 0.94, negative_cosine: 0.47\n",
      "Epoch: 79 - Loss: 0.60, positive_cosine: 0.91, negative_cosine: 0.51\n",
      "Epoch: 80 - Loss: 0.56, positive_cosine: 0.87, negative_cosine: 0.43\n",
      "Epoch: 81 - Loss: 0.53, positive_cosine: 0.90, negative_cosine: 0.43, recall@25: 0.51\n",
      "Epoch: 82 - Loss: 0.55, positive_cosine: 0.92, negative_cosine: 0.47\n",
      "Epoch: 83 - Loss: 0.60, positive_cosine: 0.92, negative_cosine: 0.51\n",
      "Epoch: 84 - Loss: 0.69, positive_cosine: 0.85, negative_cosine: 0.54\n",
      "Epoch: 85 - Loss: 0.57, positive_cosine: 0.92, negative_cosine: 0.48\n",
      "Epoch: 86 - Loss: 0.56, positive_cosine: 0.91, negative_cosine: 0.47, recall@25: 0.51\n",
      "Epoch: 87 - Loss: 0.58, positive_cosine: 0.91, negative_cosine: 0.49\n",
      "Epoch: 88 - Loss: 0.59, positive_cosine: 0.92, negative_cosine: 0.51\n",
      "Epoch: 89 - Loss: 0.56, positive_cosine: 0.93, negative_cosine: 0.49\n",
      "Epoch: 90 - Loss: 0.58, positive_cosine: 0.94, negative_cosine: 0.51\n",
      "Epoch: 91 - Loss: 0.65, positive_cosine: 0.89, negative_cosine: 0.54, recall@25: 0.51\n",
      "Epoch: 92 - Loss: 0.55, positive_cosine: 0.93, negative_cosine: 0.47\n",
      "Epoch: 93 - Loss: 0.61, positive_cosine: 0.91, negative_cosine: 0.51\n",
      "Epoch: 94 - Loss: 0.54, positive_cosine: 0.91, negative_cosine: 0.45\n",
      "Epoch: 95 - Loss: 0.57, positive_cosine: 0.92, negative_cosine: 0.48\n",
      "Epoch: 96 - Loss: 0.54, positive_cosine: 0.92, negative_cosine: 0.46, recall@25: 0.51\n",
      "Epoch: 97 - Loss: 0.58, positive_cosine: 0.92, negative_cosine: 0.50\n",
      "Epoch: 98 - Loss: 0.60, positive_cosine: 0.91, negative_cosine: 0.51\n",
      "Epoch: 99 - Loss: 0.64, positive_cosine: 0.88, negative_cosine: 0.52\n",
      "Epoch: 100 - Loss: 0.55, positive_cosine: 0.91, negative_cosine: 0.46\n",
      "Best_epoch=76, Best_recall=0.51\n",
      "Wall time: 1h 33min 16s\n"
     ]
    }
   ],
   "source": [
    "%%time\n",
    "import keras\n",
    "\n",
    "# Inspired on https://'pastebin.com/TaGFdcBA\n",
    "# TODO: https://stackoverflow.com/questions/49941903/keras-compute-cosine-distance-between-two-flattened-outputs\n",
    "keras.backend.clear_session()\n",
    "\n",
    "# Embeddings\n",
    "cnn_embedding_layer = embedding_layer(embeddings=baseline.embedding_matrix, \n",
    "                              num_words=len(vocab), \n",
    "                              embedding_dim=EMBEDDING_DIM, \n",
    "                              max_sequence_length=MAX_SEQUENCE_LENGTH_D, \n",
    "                              trainable=False)\n",
    "lstm_embedding_layer = embedding_layer(embeddings=baseline.embedding_matrix, \n",
    "                              num_words=len(vocab), \n",
    "                              embedding_dim=EMBEDDING_DIM, \n",
    "                              max_sequence_length=MAX_SEQUENCE_LENGTH_T, \n",
    "                              trainable=False)\n",
    "\n",
    "# Feature models\n",
    "cnn_feature_model = cnn_model(cnn_embedding_layer, MAX_SEQUENCE_LENGTH_D)\n",
    "lstm_feature_model = lstm_model(lstm_embedding_layer, MAX_SEQUENCE_LENGTH_T)\n",
    "mlp_feature_model = mlp_model(number_of_columns_info)\n",
    "\n",
    "# Similarity model\n",
    "encoded_anchor = siamese_model(lstm_feature_model, cnn_feature_model, mlp_feature_model, \n",
    "                                     number_of_columns_info, MAX_SEQUENCE_LENGTH_T, MAX_SEQUENCE_LENGTH_D, 'in')\n",
    "encoded_positive = siamese_model(lstm_feature_model, cnn_feature_model, mlp_feature_model, \n",
    "                                     number_of_columns_info, MAX_SEQUENCE_LENGTH_T, MAX_SEQUENCE_LENGTH_D, 'pos')\n",
    "\n",
    "encoded_negative = siamese_model(lstm_feature_model, cnn_feature_model, mlp_feature_model, \n",
    "                                     number_of_columns_info, MAX_SEQUENCE_LENGTH_T, MAX_SEQUENCE_LENGTH_D, 'neg')\n",
    "\n",
    "similarity_model = max_margin_objective(encoded_anchor, encoded_positive, encoded_negative, decay_lr=1)\n",
    "\n",
    "# cnn_feature_model.summary()\n",
    "# lstm_feature_model.summary()\n",
    "similarity_model.summary()\n",
    "\n",
    "\n",
    "'''\n",
    "    Configuration\n",
    "'''\n",
    "epochs = 100\n",
    "best_recall = 0\n",
    "best_epoch = 0\n",
    "verbose = 0\n",
    "recall = 0\n",
    "\n",
    "'''\n",
    "    Experiment\n",
    "'''\n",
    "for epoch in range(epochs):\n",
    "    batch_triplet_train, \\\n",
    "        train_input_sample, train_input_pos, train_input_neg, \\\n",
    "            train_sim = baseline.batch_iterator(baseline.train_data, baseline.dup_sets_train, batch_size, 1)\n",
    "    train_batch = [train_input_sample['title'], train_input_sample['description'], train_input_sample['info'],\n",
    "                   train_input_pos['title'], train_input_pos['description'], train_input_pos['info'], \n",
    "                   train_input_neg['title'], train_input_neg['description'], train_input_neg['info']]\n",
    "    \n",
    "#     if epoch == 10:\n",
    "#         similarity_model = max_margin_objective(encoded_anchor, encoded_positive, encoded_negative, decay_lr=0.1)\n",
    "    \n",
    "    h = similarity_model.train_on_batch(train_batch, train_sim)\n",
    "    \n",
    "    if epoch % 5 == 0:\n",
    "        recall, _ = evaluate_validation_test(retrieval, verbose, encoded_anchor, issues_by_buckets)\n",
    "        print(\"Epoch: {} - Loss: {:.2f}, positive_cosine: {:.2f}, negative_cosine: {:.2f}, recall@25: {:.2f}\".format(\n",
    "            epoch+1, h[0], h[1], h[2], recall))\n",
    "    else:\n",
    "        print(\"Epoch: {} - Loss: {:.2f}, positive_cosine: {:.2f}, negative_cosine: {:.2f}\".format(\n",
    "            epoch+1, h[0], h[1], h[2]))\n",
    "    \n",
    "    if recall > best_recall:\n",
    "        save_model(similarity_model, SAVE_PATH.replace('@number_of_epochs@', str(epochs)))\n",
    "        save_model(encoded_anchor, SAVE_PATH_FEATURE.replace('@number_of_epochs@', str(epochs)), verbose=1)\n",
    "        best_recall = recall\n",
    "        best_epoch = epoch+1\n",
    "print('Best_epoch={}, Best_recall={:.2f}'.format(best_epoch, best_recall))"
   ]
  },
  {
   "cell_type": "code",
   "execution_count": 126,
   "metadata": {},
   "outputs": [
    {
     "data": {
      "text/plain": [
       "('recall@25 last epoch:', 0.51)"
      ]
     },
     "execution_count": 126,
     "metadata": {},
     "output_type": "execute_result"
    }
   ],
   "source": [
    "'''\n",
    "    Between 0-10 epochs recall@25 = 0.40\n",
    "    Between 0-15 epochs recall@25 = 0.43\n",
    "    Between 0-20 epochs recall@25 = 0.43\n",
    "    Between 0-70 epochs recall@25 = 0.50\n",
    "    Between 0-100 epochs recall@25 = 0.51\n",
    "'''\n",
    "recall, exported_rank = evaluate_validation_test(retrieval, verbose, encoded_anchor, issues_by_buckets)\n",
    "\n",
    "\"recall@25 last epoch:\", recall"
   ]
  },
  {
   "cell_type": "code",
   "execution_count": 127,
   "metadata": {},
   "outputs": [
    {
     "data": {
      "text/plain": [
       "['114688:44627|110336:0.9991994895390235,92451:0.9990528228809126,76313:0.9988679068628699,92264:0.99881265044678,95394:0.99881265044678,97220:0.99881265044678,110030:0.9988126503303647,95056:0.998759854468517,78018:0.9987598543521017,90879:0.9987598538864404,84496:0.9987598537700251,92315:0.9987598537700251,82208:0.9987598536536098,92821:0.9987092149676755,77894:0.9987092149676755,81618:0.9986604900332168,102422:0.9986604891018942,81971:0.9986604889854789,99507:0.9985680029494688,82349:0.9985680026002228,99738:0.9985680024838075,94260:0.9983208342455328,101380:0.9982461694162339,79798:0.9982461688341573,84944:0.9982100038323551',\n",
       " '165444:44627|106466:0.9992614181246608,118217:0.9991742405109107,140156:0.9991742404527031,148010:0.9990229482064024,122610:0.999022948089987,148380:0.9989554878557101,114338:0.9988921275362372,107105:0.9988921273034066,117020:0.9987207391532138,193045:0.9984773753676564,155013:0.9928678986616433,140980:0.9927729186601937,136091:0.9918338740244508,149376:0.9914027228951454,124646:0.9905778374522924,106402:0.8653006255626678,150123:0.8653001040220261,150749:0.8652990460395813,121369:0.8627810031175613,125956:0.862763524055481,132813:0.8626669943332672,156168:0.8313013911247253,132139:0.8294892907142639,143026:0.8294889330863953,145007:0.8294866979122162',\n",
       " '229443:229377|200743:0.9994474860141054,181864:0.9986466232221574,161533:0.9953117896802723,199350:0.9922945671714842,165468:0.9274177625775337,216482:0.9274177551269531,164437:0.9274166226387024,165251:0.9274166226387024,166483:0.9274166226387024,184878:0.9274166226387024,169698:0.9274166226387024,196884:0.9274166151881218,213278:0.9274166151881218,164131:0.9274154826998711,181410:0.9274154826998711,194143:0.9274154826998711,162411:0.9274143576622009,199661:0.927413210272789,184414:0.927413210272789,70579:0.927406407892704,216431:0.9273746535181999,206432:0.9273100569844246,171909:0.9271799102425575,187125:0.926974393427372,190254:0.9074909314513206',\n",
       " '9779:2|14056:0.9989291406236589,18559:0.9989291405072436,7327:0.9989291405072436,21128:0.9988712151534855,8355:0.9988712150370702,14533:0.998816120554693,15724:0.998816120554693,22923:0.9988161203218624,22172:0.9987634782446548,9336:0.9987634780118242,22337:0.9986175264930353,85:0.9985282451380044,16373:0.9985282449051738,23777:0.9982512949500233,18647:0.998077750322409,12217:0.8700763434171677,10509:0.8640566468238831,7564:0.8640566468238831,4386:0.8640000373125076,10:0.8639595806598663,170:0.8639463931322098,3979:0.8418583869934082,12670:0.8418583869934082,19691:0.8140555620193481,19942:0.7715255469083786',\n",
       " '98309:128463|81997:0.8285307437181473,139517:0.7932006567716599,368478:0.730713427066803,354439:0.730699896812439,128463:0.7026897668838501,129065:0.7026893794536591,90100:0.6859088838100433,386195:0.6551388502120972,161801:0.6405067443847656,138119:0.6405067443847656,100817:0.63499915599823,118460:0.6332333087921143,185875:0.5922855138778687,102450:0.5875500738620758,110414:0.5646377503871918,405513:0.5511208772659302,378493:0.550201803445816,125364:0.522422581911087,110920:0.5142541229724884,103705:0.49023330211639404,128041:0.4745568037033081,205829:0.4739680886268616,149425:0.4646729826927185,110972:0.46467000246047974,148901:0.4645874500274658',\n",
       " '128463:128463|128463:1.0,129065:0.9994751149788499,197541:0.6443467140197754,163100:0.6443460881710052,81997:0.6237105429172516,139517:0.6236429214477539,118460:0.6128999292850494,161801:0.6124595403671265,138119:0.6124595403671265,185875:0.5988081395626068,102450:0.5945972800254822,100817:0.593090146780014,184319:0.584778219461441,405513:0.5623946189880371,368478:0.5595517456531525,354439:0.5595437586307526,90100:0.5261811017990112,386195:0.520926833152771,110414:0.49766916036605835,205829:0.48250120878219604,110920:0.4542621374130249,125364:0.4417157769203186,283184:0.43724364042282104,149425:0.426740825176239,110972:0.42673784494400024',\n",
       " '376841:376841|376841:1.0,73881:0.5377984642982483,49955:0.5377983152866364,66790:0.5377983152866364,99594:0.5377983152866364,65528:0.5377983152866364,65532:0.5377983152866364,84052:0.5377983152866364,76716:0.5377983152866364,72118:0.5377983152866364,65470:0.5377983152866364,59464:0.5377981960773468,61439:0.5377981960773468,54146:0.5377979874610901,85758:0.5377979576587677,71181:0.5377968549728394,47134:0.5377968549728394,73614:0.5377932786941528,54363:0.537792831659317,91948:0.5377806425094604,46357:0.5377713739871979,72205:0.5377611517906189,99603:0.5261035561561584,58013:0.5261034667491913,78521:0.5261033177375793',\n",
       " '376838:376841|376841:1.0,73881:0.5377984642982483,49955:0.5377983152866364,66790:0.5377983152866364,99594:0.5377983152866364,65528:0.5377983152866364,65532:0.5377983152866364,84052:0.5377983152866364,76716:0.5377983152866364,72118:0.5377983152866364,65470:0.5377983152866364,59464:0.5377981960773468,61439:0.5377981960773468,54146:0.5377979874610901,85758:0.5377979576587677,71181:0.5377968549728394,47134:0.5377968549728394,73614:0.5377932786941528,54363:0.537792831659317,91948:0.5377806425094604,46357:0.5377713739871979,72205:0.5377611517906189,99603:0.5261035561561584,58013:0.5261034667491913,78521:0.5261033177375793',\n",
       " '278537:274618|274618:0.8470316827297211,261398:0.8470121920108795,241208:0.8470040410757065,283204:0.847003236413002,291245:0.8200341910123825,273047:0.8027493804693222,258679:0.8027464002370834,267425:0.8027403801679611,261619:0.8027395009994507,269079:0.802737221121788,262636:0.8027337342500687,276371:0.8026736229658127,268250:0.7821030616760254,287103:0.7821010649204254,278065:0.7815999835729599,239141:0.7187124788761139,283555:0.708086371421814,258066:0.6936701834201813,257176:0.6790249645709991,284447:0.6790095269680023,249809:0.67899289727211,208456:0.669710636138916,230449:0.6697060763835907,262096:0.6696822345256805,211122:0.6696781516075134',\n",
       " '274618:274618|274618:1.0,241208:0.9979254484642297,283204:0.9977393096778542,261398:0.9954195315949619,291245:0.910240039229393,262636:0.8634162396192551,267425:0.8634157478809357,261619:0.8634152859449387,273047:0.8634047955274582,258679:0.8633946925401688,276371:0.8633784353733063,269079:0.863263264298439,268250:0.8386195451021194,287103:0.8386165648698807,278065:0.8286482840776443,239141:0.7311384677886963,283555:0.7088390588760376,258066:0.6902629435062408,249809:0.6855520009994507,284447:0.6855494976043701,257176:0.6855286061763763,208925:0.6596032977104187,211122:0.6596021950244904,248733:0.659602016210556,241384:0.6596016585826874',\n",
       " '121067:10|248163:0.46555280685424805,60689:0.28039950132369995,72352:0.2803972363471985,119326:0.2778271436691284,72683:0.26845085620880127,50989:0.2684507369995117,53095:0.2684488892555237,40322:0.2684473991394043,44066:0.2684463858604431,57743:0.26844191551208496,43842:0.26844143867492676,44977:0.2625170946121216,73226:0.26251643896102905,66836:0.26223140954971313,113294:0.2580801844596863,49619:0.2537725567817688,41583:0.252669095993042,27294:0.25030815601348877,80918:0.24842572212219238,84215:0.2484225034713745,147024:0.23953014612197876,159325:0.23948746919631958,59638:0.23924046754837036,31398:0.23398470878601074,30946:0.23396116495132446',\n",
       " '182662:182662|182662:1.0,107785:0.5581279098987579,194783:0.5367910265922546,136631:0.5282238721847534,78509:0.5136569738388062,133552:0.5040208399295807,191809:0.4870172142982483,191035:0.4754766821861267,82639:0.4635867476463318,74857:0.4424547553062439,70951:0.43499094247817993,175726:0.41826575994491577,193509:0.395912230014801,87302:0.3958640694618225,142596:0.3926568627357483,212037:0.3874868154525757,164007:0.3802751302719116,178829:0.38027507066726685,100870:0.3782886862754822,62345:0.36963599920272827,70801:0.369634747505188,59918:0.3696245551109314,107955:0.3681439161300659,134574:0.36814385652542114,143219:0.36814385652542114',\n",
       " '114702:182662|131423:0.5760675966739655,132409:0.44185298681259155,241087:0.44136589765548706,210199:0.39629584550857544,107785:0.39007192850112915,240677:0.3797931671142578,134062:0.37623584270477295,119571:0.37262117862701416,190903:0.37225133180618286,158091:0.3598090410232544,214788:0.3559163808822632,179367:0.35560643672943115,101336:0.34252601861953735,93683:0.340465247631073,158672:0.33949416875839233,68111:0.3358733057975769,148603:0.3329731822013855,110436:0.3085483908653259,152468:0.30533361434936523,117152:0.30517977476119995,136631:0.3036768436431885,105364:0.302238404750824,133552:0.29956650733947754,54198:0.29738569259643555,87302:0.2947726845741272',\n",
       " '393232:390667|367948:0.5171902775764465,381845:0.5171117782592773,384665:0.5080254077911377,402073:0.49776774644851685,418254:0.4977352023124695,394517:0.4876956343650818,401709:0.487692654132843,402561:0.487690269947052,409324:0.4876219630241394,402912:0.4283585548400879,410068:0.4283510446548462,178235:0.3819618225097656,269424:0.37577593326568604,216367:0.36679595708847046,207188:0.3642394542694092,390667:0.333304226398468,266604:0.33330368995666504,373529:0.33330339193344116,385046:0.33330273628234863,362522:0.33330267667770386,366568:0.3333015441894531,340771:0.3333011269569397,385987:0.3333008885383606,280825:0.3332924246788025,369973:0.3332849144935608',\n",
       " '390667:390667|390667:1.0,266604:0.9989775518188253,373529:0.9988568680128083,385046:0.9988010730594397,362522:0.9988010729430243,385987:0.9983434450114146,340771:0.9982290678890422,366568:0.9976853353437036,280825:0.9959422941319644,369973:0.9946995391510427,391626:0.902291938662529,358627:0.9022869914770126,382839:0.9022784009575844,385394:0.9022349566221237,370441:0.8627204895019531,376254:0.8626711666584015,383684:0.8507261425256729,376011:0.8392723202705383,386566:0.8333147615194321,375066:0.8333147615194321,375269:0.8333017081022263,378298:0.7408442795276642,379495:0.6214447319507599,395645:0.6214377880096436,378845:0.6038242876529694',\n",
       " '98399:98321|98321:0.8615754991769791,105908:0.5871070921421051,91294:0.5772450566291809,97756:0.5571938455104828,100070:0.540085643529892,104503:0.5113970041275024,102487:0.5069462656974792,91857:0.49488723278045654,136954:0.4882875680923462,80621:0.48816633224487305,92426:0.47882211208343506,147469:0.4733924865722656,80625:0.4706464409828186,82257:0.470619797706604,130571:0.47021782398223877,94602:0.4649065136909485,122107:0.46217918395996094,147306:0.4587132930755615,121305:0.45727109909057617,113886:0.455815851688385,110817:0.45581573247909546,126745:0.4516257047653198,144023:0.4446733593940735,121444:0.4398723840713501,205004:0.4382762312889099',\n",
       " '49170:47296|62586:0.9970014325808734,68026:0.9966341143008322,57758:0.9965030977036804,42511:0.9965030974708498,42080:0.9963520832825452,47267:0.9955930262804031,60649:0.99401791440323,63298:0.9089632481336594,44610:0.9089585766196251,47525:0.8825352564454079,68696:0.8773629814386368,62046:0.8654154390096664,46889:0.8654154390096664,57656:0.8625554144382477,59899:0.8369690775871277,55723:0.8288005292415619,65675:0.828779011964798,70226:0.8272765427827835,44423:0.8057315200567245,49979:0.7871706485748291,46894:0.7871351689100266,60114:0.7781624048948288,107252:0.7775316089391708,60291:0.7775308191776276,65910:0.7323320806026459',\n",
       " '49499:47296|62586:0.9970620148815215,68026:0.9967704410664737,42080:0.996687970822677,42511:0.996687970822677,57758:0.9964774777181447,47267:0.9957382353022695,60649:0.9947718502953649,44610:0.9089650586247444,63298:0.9089641496539116,47525:0.8825488463044167,68696:0.8773375079035759,46889:0.8654213398694992,62046:0.8654193580150604,57656:0.8625623285770416,59899:0.8369645476341248,55723:0.8288037329912186,65675:0.8287584185600281,70226:0.8271367698907852,44423:0.8057330697774887,49979:0.7871748358011246,46894:0.7871211469173431,60114:0.7781646847724915,107252:0.7775353938341141,60291:0.7775330692529678,65910:0.7323085367679596',\n",
       " '311313:304182|331301:0.9982856538845226,353389:0.6535529792308807,343564:0.5916579961776733,347602:0.5916536450386047,329383:0.5653910934925079,324051:0.550071507692337,236797:0.5499327480792999,300819:0.5499309599399567,393957:0.5401098728179932,345289:0.5352078676223755,240753:0.5265653133392334,178602:0.511284589767456,220936:0.5081910789012909,317411:0.5030596852302551,339910:0.47063112258911133,251955:0.46901965141296387,304182:0.4545830488204956,360613:0.45216864347457886,143219:0.44965749979019165,134574:0.4496573805809021,107955:0.449657142162323,355445:0.4482429623603821,415258:0.4405316114425659,125885:0.43940407037734985,222189:0.4393118619918823',\n",
       " '311317:304182|304182:0.7434713542461395,350882:0.684655487537384,313263:0.5332128405570984,336933:0.5332120656967163,331301:0.4382736086845398,349788:0.3967481255531311,353389:0.3820075988769531,379605:0.37743711471557617,321739:0.3286042809486389,357951:0.32498228549957275,358302:0.32492387294769287,355445:0.2951343059539795,217088:0.2859932780265808,126139:0.28432267904281616,142596:0.28373879194259644,117387:0.2753370404243469,107955:0.27515119314193726,134574:0.2751508951187134,143219:0.2751508951187134,164007:0.27401840686798096,178829:0.27401840686798096,222189:0.26871007680892944,222060:0.26870954036712646,222051:0.2687094211578369,225559:0.26870930194854736']"
      ]
     },
     "execution_count": 127,
     "metadata": {},
     "output_type": "execute_result"
    }
   ],
   "source": [
    "exported_rank[:20]"
   ]
  },
  {
   "cell_type": "code",
   "execution_count": 43,
   "metadata": {
    "scrolled": false
   },
   "outputs": [],
   "source": [
    "# loss=h.history['loss']\n",
    "# val_loss=h.history['val_loss']\n",
    "\n",
    "# plt.plot(loss, label='loss')\n",
    "# plt.plot(val_loss, label='val_loss')\n",
    "# plt.title('Model loss')\n",
    "# plt.ylabel('loss')\n",
    "# plt.xlabel('epoch')\n",
    "# plt.legend(['train', 'validation'], loc='upper left')\n",
    "# plt.show()"
   ]
  },
  {
   "cell_type": "markdown",
   "metadata": {},
   "source": [
    "### Using the feature layers"
   ]
  },
  {
   "cell_type": "code",
   "execution_count": 63,
   "metadata": {},
   "outputs": [],
   "source": [
    "def cosine_normalized(a, b): # Cosine used in the siamese model\n",
    "    a = K.variable(a)\n",
    "    b = K.variable(b)\n",
    "    return K.eval(cosine_distance([a, b]))"
   ]
  },
  {
   "cell_type": "markdown",
   "metadata": {},
   "source": [
    "#### Loading bugs of test"
   ]
  },
  {
   "cell_type": "code",
   "execution_count": 64,
   "metadata": {},
   "outputs": [],
   "source": [
    "test = 'eclipse'"
   ]
  },
  {
   "cell_type": "code",
   "execution_count": 65,
   "metadata": {
    "scrolled": false
   },
   "outputs": [
    {
     "name": "stdout",
     "output_type": "stream",
     "text": [
      "96204 113046\n"
     ]
    }
   ],
   "source": [
    "from scipy import spatial\n",
    "if (DOMAIN == test):\n",
    "    bug_set = baseline.get_bug_set()\n",
    "    # Eclipse test\n",
    "    bug_id = [96204, np.random.choice(list(bug_set))] # non-duplicate {15196, 2}\n",
    "    # bug_id = [96204, 85581] # duplicate {85581, 96204, 106979}\n",
    "    dup_a, dup_b = bug_id\n",
    "    bug_a = bug_set[dup_a]\n",
    "    bug_b = bug_set[dup_b]\n",
    "\n",
    "    print(dup_a, dup_b)"
   ]
  },
  {
   "cell_type": "markdown",
   "metadata": {},
   "source": [
    "#### LSTM feature"
   ]
  },
  {
   "cell_type": "code",
   "execution_count": 66,
   "metadata": {
    "scrolled": true
   },
   "outputs": [
    {
     "name": "stdout",
     "output_type": "stream",
     "text": [
      "preferences filter text cut off using default fonts on organization\n",
      "nationality strings on launch organization\n"
     ]
    }
   ],
   "source": [
    "if (DOMAIN == test):\n",
    "    print(bug_a['title'])\n",
    "    print(bug_b['title'])"
   ]
  },
  {
   "cell_type": "code",
   "execution_count": 67,
   "metadata": {},
   "outputs": [
    {
     "name": "stdout",
     "output_type": "stream",
     "text": [
      "0.80127084\n"
     ]
    }
   ],
   "source": [
    "if (DOMAIN == test):\n",
    "    bug_vector_a_t = lstm_feature_model.predict(np.array([bug_a['title_word']]))[0]\n",
    "    bug_vector_b_t = lstm_feature_model.predict(np.array([bug_b['title_word']]))[0]\n",
    "    result = cosine_normalized(bug_vector_a_t, bug_vector_b_t)\n",
    "    print(result)"
   ]
  },
  {
   "cell_type": "code",
   "execution_count": 68,
   "metadata": {
    "scrolled": true
   },
   "outputs": [],
   "source": [
    "if (DOMAIN == test):\n",
    "    bug_vector_a_t, bug_vector_b_t"
   ]
  },
  {
   "cell_type": "markdown",
   "metadata": {},
   "source": [
    "#### CNN feature"
   ]
  },
  {
   "cell_type": "code",
   "execution_count": 69,
   "metadata": {},
   "outputs": [
    {
     "name": "stdout",
     "output_type": "stream",
     "text": [
      "the standard default font size for organization desktops is points at dpi at this size the message type filter text in the preferences dialog is being cut off\n",
      "product ibm web sphere integration developer toolkit file eclipse plugins org eclipse core runtime org eclipse core internal runtime messages properties message jobs internal person an internal error occurred during language string an internal error occurred during is displayed on nationality os for messages ko properties in the nl folder this seems translated\n"
     ]
    }
   ],
   "source": [
    "if (DOMAIN == test):\n",
    "    print(bug_a['description'])\n",
    "    print(bug_b['description'])"
   ]
  },
  {
   "cell_type": "code",
   "execution_count": 70,
   "metadata": {},
   "outputs": [
    {
     "name": "stdout",
     "output_type": "stream",
     "text": [
      "0.65530145\n"
     ]
    }
   ],
   "source": [
    "if (DOMAIN == test):\n",
    "    bug_vector_a_d = cnn_feature_model.predict(np.array([bug_a['description_word']]))[0]\n",
    "    bug_vector_b_d = cnn_feature_model.predict(np.array([bug_b['description_word']]))[0]\n",
    "    result = cosine_normalized(bug_vector_a_d, bug_vector_b_d)\n",
    "    print(result)"
   ]
  },
  {
   "cell_type": "code",
   "execution_count": 71,
   "metadata": {
    "scrolled": true
   },
   "outputs": [],
   "source": [
    "if (DOMAIN == test):\n",
    "    bug_vector_a_d, bug_vector_b_d"
   ]
  },
  {
   "cell_type": "markdown",
   "metadata": {},
   "source": [
    "#### MLP feature"
   ]
  },
  {
   "cell_type": "code",
   "execution_count": 72,
   "metadata": {},
   "outputs": [
    {
     "name": "stdout",
     "output_type": "stream",
     "text": [
      "0.9743171\n"
     ]
    }
   ],
   "source": [
    "if (DOMAIN == test):\n",
    "    bug_vector_a_i = mlp_feature_model.predict(np.array([retrieval.get_info(bug_a)]))[0]\n",
    "    bug_vector_b_i = mlp_feature_model.predict(np.array([retrieval.get_info(bug_b)]))[0]\n",
    "    result = cosine_normalized(bug_vector_a_i, bug_vector_b_i)\n",
    "    print(result)"
   ]
  },
  {
   "cell_type": "code",
   "execution_count": 73,
   "metadata": {
    "scrolled": true
   },
   "outputs": [],
   "source": [
    "if (DOMAIN == test):\n",
    "    bug_vector_a_i, bug_vector_b_i"
   ]
  },
  {
   "cell_type": "markdown",
   "metadata": {},
   "source": [
    "#### Merge features"
   ]
  },
  {
   "cell_type": "code",
   "execution_count": 74,
   "metadata": {},
   "outputs": [
    {
     "name": "stdout",
     "output_type": "stream",
     "text": [
      "0.97426474\n"
     ]
    }
   ],
   "source": [
    "if (DOMAIN == test):\n",
    "    bug_vector_a = np.concatenate([ bug_vector_a_i, bug_vector_a_t, bug_vector_a_d ], -1)\n",
    "    bug_vector_b = np.concatenate([ bug_vector_b_i, bug_vector_b_t, bug_vector_b_d ], -1)\n",
    "    result = cosine_normalized(bug_vector_a, bug_vector_b)\n",
    "    print(result)"
   ]
  },
  {
   "cell_type": "code",
   "execution_count": 75,
   "metadata": {
    "scrolled": true
   },
   "outputs": [],
   "source": [
    "if (DOMAIN == test):\n",
    "    bug_vector_a, bug_vector_b"
   ]
  },
  {
   "cell_type": "markdown",
   "metadata": {},
   "source": [
    "### Retrieval evaluation"
   ]
  },
  {
   "cell_type": "code",
   "execution_count": 77,
   "metadata": {},
   "outputs": [
    {
     "name": "stdout",
     "output_type": "stream",
     "text": [
      "Total of queries: 7253\n"
     ]
    }
   ],
   "source": [
    "print(\"Total of queries:\", len(retrieval.test))"
   ]
  },
  {
   "cell_type": "markdown",
   "metadata": {},
   "source": [
    "#### Getting the model trained"
   ]
  },
  {
   "cell_type": "code",
   "execution_count": 75,
   "metadata": {},
   "outputs": [
    {
     "data": {
      "text/plain": [
       "'baseline_feature_100epochs_64batch(eclipse)'"
      ]
     },
     "execution_count": 75,
     "metadata": {},
     "output_type": "execute_result"
    }
   ],
   "source": [
    "SAVE_PATH_FEATURE.replace('@number_of_epochs@', str(epochs))"
   ]
  },
  {
   "cell_type": "code",
   "execution_count": 76,
   "metadata": {},
   "outputs": [
    {
     "name": "stderr",
     "output_type": "stream",
     "text": [
      "C:\\Users\\Thiago\\Anaconda3\\lib\\site-packages\\keras\\engine\\saving.py:292: UserWarning: No training configuration found in save file: the model was *not* compiled. Compile it manually.\n",
      "  warnings.warn('No training configuration found in save file: '\n"
     ]
    }
   ],
   "source": [
    "model = get_model_vectorizer(path=SAVE_PATH_FEATURE.replace('@number_of_epochs@', str(epochs)))"
   ]
  },
  {
   "cell_type": "code",
   "execution_count": 77,
   "metadata": {},
   "outputs": [
    {
     "name": "stdout",
     "output_type": "stream",
     "text": [
      "__________________________________________________________________________________________________\n",
      "Layer (type)                    Output Shape         Param #     Connected to                     \n",
      "==================================================================================================\n",
      "info_in (InputLayer)            (None, 1682)         0                                            \n",
      "__________________________________________________________________________________________________\n",
      "title_in (InputLayer)           (None, 43)           0                                            \n",
      "__________________________________________________________________________________________________\n",
      "desc_in (InputLayer)            (None, 500)          0                                            \n",
      "__________________________________________________________________________________________________\n",
      "FeatureMlpGenerationModel (Mode (None, 300)          504900      info_in[0][0]                    \n",
      "__________________________________________________________________________________________________\n",
      "FeatureLstmGenerationModel (Mod (None, 300)          6105100     title_in[0][0]                   \n",
      "__________________________________________________________________________________________________\n",
      "FeatureCNNGenerationModel (Mode (None, 300)          6249492     desc_in[0][0]                    \n",
      "__________________________________________________________________________________________________\n",
      "merge_features_in (Concatenate) (None, 900)          0           FeatureMlpGenerationModel[1][0]  \n",
      "                                                                 FeatureLstmGenerationModel[1][0] \n",
      "                                                                 FeatureCNNGenerationModel[1][0]  \n",
      "==================================================================================================\n",
      "Total params: 12,859,492\n",
      "Trainable params: 12,859,492\n",
      "Non-trainable params: 0\n",
      "__________________________________________________________________________________________________\n"
     ]
    }
   ],
   "source": [
    "model.summary()"
   ]
  },
  {
   "cell_type": "code",
   "execution_count": 78,
   "metadata": {},
   "outputs": [],
   "source": [
    "recall, exported_rank = evaluate_validation_test(0, model, retrieval.test, issues_by_buckets)"
   ]
  },
  {
   "cell_type": "code",
   "execution_count": 79,
   "metadata": {
    "scrolled": true
   },
   "outputs": [
    {
     "data": {
      "text/plain": [
       "['114688:44627|82349:0.9990202740300447,92451:0.9987510892096907,76313:0.9987510888604447,92821:0.9986144577851519,94260:0.9986144575523213,92315:0.9986144574359059,99507:0.9985718164825812,79798:0.9985718160169199,110336:0.9985718159005046,97220:0.998571815667674,92264:0.998571815667674,81971:0.9985718148527667,82208:0.9985304103465751,81618:0.9984901420539245,95394:0.9984126618364826,77894:0.9984126614872366,110030:0.9983753071865067,84496:0.9983387927059084,99738:0.9983030635630712,78018:0.9982680731918663,84944:0.9982001266907901,102422:0.9980101643595845,90879:0.9979802411980927,95056:0.9978368219453841,101380:0.9975753044709563',\n",
       " '165444:44627|140156:0.9992925922269933,106466:0.9991336060338654,118217:0.9989388891262934,107105:0.9988814904354513,117020:0.9988268968882039,148010:0.9986301102908328,114338:0.99849936098326,193045:0.9982314808294177,122610:0.9981964591424912,148380:0.9979074650909752,155013:0.9953477885574102,140980:0.9932056656107306,149376:0.9926740881055593,124646:0.9916824726387858,136091:0.9911363245919347,121369:0.8494229912757874,125956:0.8494036942720413,132813:0.8491296470165253,147024:0.7852584421634674,159325:0.7851609885692596,156168:0.7668202072381973,143026:0.7399058043956757,132139:0.7399038672447205,145007:0.7399027347564697,106402:0.7359432876110077',\n",
       " '229443:229377|200743:0.9985380788566545,181864:0.998429645318538,199350:0.9940272010862827,161533:0.9939587791450322,165468:0.9007815644145012,169698:0.90078154951334,196884:0.9007806405425072,164131:0.900780625641346,162411:0.9007797390222549,184878:0.9007797241210938,216482:0.9007788226008415,184414:0.9007779732346535,70579:0.9007779732346535,213278:0.9007779359817505,194143:0.9007770642638206,166483:0.9007770493626595,165251:0.9007762521505356,164437:0.9007761627435684,199661:0.9007744565606117,181410:0.9007707983255386,216431:0.9007281884551048,206432:0.9007154256105423,187125:0.9006213843822479,171909:0.9005920514464378,190254:0.8672978281974792',\n",
       " '229443:229377|200743:0.9985380788566545,181864:0.998429645318538,199350:0.9940272010862827,161533:0.9939587791450322,165468:0.9007815644145012,169698:0.90078154951334,196884:0.9007806405425072,164131:0.900780625641346,162411:0.9007797390222549,184878:0.9007797241210938,216482:0.9007788226008415,184414:0.9007779732346535,70579:0.9007779732346535,213278:0.9007779359817505,194143:0.9007770642638206,166483:0.9007770493626595,165251:0.9007762521505356,164437:0.9007761627435684,199661:0.9007744565606117,181410:0.9007707983255386,216431:0.9007281884551048,206432:0.9007154256105423,187125:0.9006213843822479,171909:0.9005920514464378,190254:0.8672978281974792',\n",
       " '9779:2|14056:0.9991795955575071,18559:0.9990292844595388,14533:0.9989622617140412,16373:0.998899312922731,15724:0.9988993119914085,22923:0.9988397732377052,21128:0.9988397728884593,22172:0.9988397728884593,8355:0.9987831441685557,9336:0.9987831431208178,7327:0.9987290357239544,22337:0.9984007370658219,18647:0.9983591918135062,85:0.9977383022196591,23777:0.9963679192587733,12217:0.8153656125068665,3979:0.7927024811506271,12670:0.7927024662494659,7564:0.733678936958313,10509:0.7336783707141876,4386:0.7336199283599854,170:0.7335411906242371,10:0.7334894239902496,19942:0.7261438965797424,19691:0.7034668028354645',\n",
       " '9779:2|14056:0.9991795955575071,18559:0.9990292844595388,14533:0.9989622617140412,16373:0.998899312922731,15724:0.9988993119914085,22923:0.9988397732377052,21128:0.9988397728884593,22172:0.9988397728884593,8355:0.9987831441685557,9336:0.9987831431208178,7327:0.9987290357239544,22337:0.9984007370658219,18647:0.9983591918135062,85:0.9977383022196591,23777:0.9963679192587733,12217:0.8153656125068665,3979:0.7927024811506271,12670:0.7927024662494659,7564:0.733678936958313,10509:0.7336783707141876,4386:0.7336199283599854,170:0.7335411906242371,10:0.7334894239902496,19942:0.7261438965797424,19691:0.7034668028354645',\n",
       " '98309:128463|81997:0.7182098627090454,139517:0.6682103276252747,128463:0.6373578906059265,129065:0.6373576819896698,90100:0.6285658478736877,368478:0.5760500133037567,354439:0.5760384202003479,138119:0.5105491578578949,161801:0.5105487704277039,118460:0.48559004068374634,102450:0.4743763208389282,100817:0.470628559589386,386195:0.4682750701904297,185875:0.4517451524734497,197541:0.44730961322784424,163100:0.44730955362319946,110414:0.42692112922668457,405513:0.41636091470718384,217303:0.400454580783844,209224:0.4004542827606201,125885:0.39644742012023926,186478:0.3919917345046997,183389:0.3883836269378662,171537:0.38837099075317383,200423:0.384712815284729',\n",
       " '128463:128463|128463:1.0,129065:0.9988258143421263,81997:0.5458340346813202,139517:0.5171822309494019,161801:0.5170420408248901,138119:0.5170412361621857,197541:0.5060972273349762,163100:0.5060940682888031,118460:0.5000967383384705,90100:0.4975586533546448,185875:0.4676940441131592,184319:0.45213431119918823,102450:0.4489367604255676,100817:0.445062518119812,405513:0.4335692524909973,110414:0.4140712022781372,368478:0.4074402451515198,354439:0.4074282646179199,110920:0.40047019720077515,205829:0.38941967487335205,105325:0.3611598610877991,116308:0.3611597418785095,149425:0.3512290120124817,110972:0.3512153625488281,148901:0.35109269618988037',\n",
       " '376838:376841|376841:1.0,155632:0.3707107901573181,281310:0.37071073055267334,203191:0.37071043252944946,118775:0.37071001529693604,131248:0.3707098960876465,128358:0.37070977687835693,284835:0.3707091212272644,117666:0.37070876359939575,104175:0.36810439825057983,260988:0.36810415983200073,292027:0.3680395483970642,176002:0.3622928857803345,153525:0.3606303334236145,81997:0.35987722873687744,281601:0.3562283515930176,121990:0.35622817277908325,305087:0.35582274198532104,186478:0.3542066812515259,332276:0.35096269845962524,139517:0.3442239761352539,183389:0.3414546251296997,171537:0.3414415717124939,230454:0.3390216827392578,146244:0.33739906549453735',\n",
       " '376841:376841|376841:1.0,155632:0.3707107901573181,281310:0.37071073055267334,203191:0.37071043252944946,118775:0.37071001529693604,131248:0.3707098960876465,128358:0.37070977687835693,284835:0.3707091212272644,117666:0.37070876359939575,104175:0.36810439825057983,260988:0.36810415983200073,292027:0.3680395483970642,176002:0.3622928857803345,153525:0.3606303334236145,81997:0.35987722873687744,281601:0.3562283515930176,121990:0.35622817277908325,305087:0.35582274198532104,186478:0.3542066812515259,332276:0.35096269845962524,139517:0.3442239761352539,183389:0.3414546251296997,171537:0.3414415717124939,230454:0.3390216827392578,146244:0.33739906549453735',\n",
       " '278537:274618|261398:0.7815250307321548,274618:0.7815051525831223,241208:0.781345784664154,283204:0.7813272625207901,291245:0.7675973474979401,287103:0.6837289333343506,268250:0.6837246716022491,278065:0.6749734580516815,258679:0.6709906458854675,276371:0.6709688603878021,267425:0.6709492206573486,262636:0.6709330976009369,261619:0.6709320843219757,273047:0.6709146499633789,269079:0.6708532571792603,283555:0.6570938229560852,239141:0.5913482904434204,258066:0.5767949521541595,244145:0.5537267029285431,228717:0.5537232160568237,261147:0.553720235824585,97610:0.539484441280365,249809:0.537240207195282,284447:0.5372316539287567,257176:0.5372287929058075',\n",
       " '274618:274618|274618:1.0,241208:0.9958207639865577,283204:0.9953029477037489,261398:0.9942075610160828,291245:0.8774417415261269,278065:0.7630269974470139,258679:0.7519145607948303,267425:0.7519030719995499,261619:0.7518966048955917,262636:0.7518951296806335,276371:0.7518903464078903,273047:0.7518806606531143,269079:0.751775249838829,287103:0.7492625415325165,268250:0.7492620050907135,283555:0.6610250174999237,239141:0.6481695473194122,249809:0.5853355526924133,284447:0.5853255391120911,257176:0.5853237211704254,244145:0.5843126475811005,228717:0.5843106210231781,261147:0.5843091309070587,258066:0.5722707211971283,256543:0.5644055604934692',\n",
       " '121067:10|248163:0.4225512146949768,119326:0.2833472490310669,129066:0.27638930082321167,136102:0.26502567529678345,113294:0.2533873915672302,128784:0.245378315448761,87170:0.22743433713912964,99578:0.2274324893951416,93061:0.22742575407028198,96294:0.22638583183288574,89932:0.2263578176498413,88181:0.22152096033096313,91616:0.22152048349380493,89636:0.22152018547058105,78503:0.22151780128479004,78534:0.22151583433151245,122746:0.22151052951812744,33475:0.2194104790687561,28750:0.2193877100944519,35731:0.219377338886261,44977:0.21737653017044067,73226:0.2173725962638855,66836:0.21710652112960815,37565:0.21449673175811768,106402:0.21080535650253296',\n",
       " '121067:10|248163:0.4225512146949768,119326:0.2833472490310669,129066:0.27638930082321167,136102:0.26502567529678345,113294:0.2533873915672302,128784:0.245378315448761,87170:0.22743433713912964,99578:0.2274324893951416,93061:0.22742575407028198,96294:0.22638583183288574,89932:0.2263578176498413,88181:0.22152096033096313,91616:0.22152048349380493,89636:0.22152018547058105,78503:0.22151780128479004,78534:0.22151583433151245,122746:0.22151052951812744,33475:0.2194104790687561,28750:0.2193877100944519,35731:0.219377338886261,44977:0.21737653017044067,73226:0.2173725962638855,66836:0.21710652112960815,37565:0.21449673175811768,106402:0.21080535650253296',\n",
       " '114702:182662|131423:0.5242126882076263,132409:0.4090781807899475,210199:0.3403095602989197,119571:0.33656877279281616,241087:0.33047646284103394,54198:0.3030392527580261,134062:0.30152714252471924,110436:0.29512423276901245,93683:0.28948408365249634,240677:0.283222496509552,101336:0.2829623222351074,214788:0.2716665267944336,179367:0.2637638449668884,169989:0.26228195428848267,148272:0.26228171586990356,212040:0.26228123903274536,135531:0.26228106021881104,91952:0.2619839906692505,99378:0.26198357343673706,190903:0.2616592049598694,112780:0.25997036695480347,193509:0.2563101649284363,146072:0.25500375032424927,158091:0.24948465824127197,167535:0.24780595302581787',\n",
       " '182662:182662|182662:1.0,194783:0.4524405598640442,136631:0.449399471282959,133552:0.42268258333206177,107785:0.4187834858894348,191035:0.3958338499069214,82639:0.3822675943374634,175726:0.38099533319473267,191809:0.3655824661254883,78509:0.3643510937690735,70951:0.33288878202438354,74857:0.3328090310096741,161563:0.24380624294281006,159817:0.24380522966384888,161110:0.23089003562927246,212037:0.23078560829162598,152752:0.2257663607597351,288533:0.2230137586593628,142596:0.21993905305862427,117152:0.21831291913986206,146072:0.2157198190689087,158154:0.2114672064781189,87302:0.2053166627883911,152745:0.19920074939727783,193509:0.19610393047332764',\n",
       " '393232:390667|381845:0.5511602461338043,367948:0.5511412620544434,384665:0.5314513444900513,402073:0.48901867866516113,418254:0.48899614810943604,401709:0.4449683427810669,394517:0.44496744871139526,402561:0.4449610114097595,409324:0.4449473023414612,207188:0.4399213194847107,178235:0.43790721893310547,402912:0.414486825466156,410068:0.4144754409790039,216367:0.4011843800544739,86080:0.3966386318206787,105807:0.38640284538269043,56437:0.3618581295013428,41245:0.3618578314781189,54226:0.3618558645248413,56749:0.36185556650161743,63635:0.36185401678085327,44320:0.36185401678085327,53612:0.36185336112976074,41644:0.36185306310653687,52629:0.36185216903686523',\n",
       " '390667:390667|390667:1.0,373529:0.9988931933185086,266604:0.9988260543905199,362522:0.9985890936804935,385046:0.9984844432910904,340771:0.9984844432910904,385987:0.9977182608563453,366568:0.9976849518716335,280825:0.9973172848112881,369973:0.9968694858253002,391626:0.8526332825422287,358627:0.852629542350769,385394:0.8526285141706467,382839:0.8526280373334885,386566:0.7750376760959625,375066:0.7750364989042282,375269:0.7750336080789566,370441:0.747963935136795,376254:0.747934877872467,383684:0.7470241189002991,376011:0.7001194357872009,378298:0.5921225249767303,384665:0.5550360679626465,391868:0.5344107151031494,402073:0.5336687564849854',\n",
       " '98399:98321|98321:0.7739985436201096,105908:0.5198560059070587,91294:0.4686737060546875,97756:0.44479262828826904,91857:0.4170503616333008,82257:0.41288089752197266,100070:0.41282349824905396,80621:0.388860285282135,80625:0.3731845021247864,122107:0.366005003452301,136954:0.36458712816238403,102487:0.36458027362823486,104503:0.36413902044296265,126745:0.35473930835723877,138474:0.3528206944465637,121305:0.3404902219772339,147469:0.3284614682197571,92426:0.3282581567764282,205004:0.32623058557510376,130571:0.3241842985153198,88135:0.3202384114265442,121444:0.31571412086486816,110817:0.3135685324668884,113886:0.313568115234375,94602:0.30969083309173584',\n",
       " '98399:98321|98321:0.7739985436201096,105908:0.5198560059070587,91294:0.4686737060546875,97756:0.44479262828826904,91857:0.4170503616333008,82257:0.41288089752197266,100070:0.41282349824905396,80621:0.388860285282135,80625:0.3731845021247864,122107:0.366005003452301,136954:0.36458712816238403,102487:0.36458027362823486,104503:0.36413902044296265,126745:0.35473930835723877,138474:0.3528206944465637,121305:0.3404902219772339,147469:0.3284614682197571,92426:0.3282581567764282,205004:0.32623058557510376,130571:0.3241842985153198,88135:0.3202384114265442,121444:0.31571412086486816,110817:0.3135685324668884,113886:0.313568115234375,94602:0.30969083309173584']"
      ]
     },
     "execution_count": 79,
     "metadata": {},
     "output_type": "execute_result"
    }
   ],
   "source": [
    "exported_rank[:20]"
   ]
  },
  {
   "cell_type": "code",
   "execution_count": 80,
   "metadata": {},
   "outputs": [],
   "source": [
    "with open(os.path.join(path, 'exported_rank.txt'), 'w') as file_out:\n",
    "    for row in exported_rank:\n",
    "        file_out.write(row + \"\\n\")"
   ]
  },
  {
   "cell_type": "code",
   "execution_count": 81,
   "metadata": {},
   "outputs": [
    {
     "name": "stdout",
     "output_type": "stream",
     "text": [
      "Evaluating...\n"
     ]
    },
    {
     "data": {
      "text/plain": [
       "{'1 - recall_at_5': 0.33,\n",
       " '2 - recall_at_10': 0.39,\n",
       " '3 - recall_at_15': 0.43,\n",
       " '4 - recall_at_20': 0.47,\n",
       " '5 - recall_at_25': 0.5}"
      ]
     },
     "execution_count": 81,
     "metadata": {},
     "output_type": "execute_result"
    }
   ],
   "source": [
    "'''\n",
    "# Eclipse\n",
    "    With CNN print all embeddings zero and 2 epochs\n",
    "    {'1 - recall_at_5': 0.13,\n",
    "     '2 - recall_at_10': 0.18,\n",
    "     '3 - recall_at_15': 0.22,\n",
    "     '4 - recall_at_20': 0.24}\n",
    "     Without relu activation for each feature siamese in 100 epochs\n",
    "     {'1 - recall_at_5': 0.16,\n",
    "     '2 - recall_at_10': 0.23,\n",
    "     '3 - recall_at_15': 0.27,\n",
    "     '4 - recall_at_20': 0.31}\n",
    "     Without dense in the last layer with 100 epochs with embed trainable\n",
    "     {'1 - recall_at_5': 0.16,\n",
    "     '2 - recall_at_10': 0.22,\n",
    "     '3 - recall_at_15': 0.26,\n",
    "     '4 - recall_at_20': 0.3}\n",
    "      \n",
    "      {'1 - recall_at_5': 0.16,\n",
    "         '2 - recall_at_10': 0.22,\n",
    "         '3 - recall_at_15': 0.26,\n",
    "         '4 - recall_at_20': 0.29,\n",
    "         '5 - recall_at_25': 0.29}\n",
    "    With title (100 padding) and desc (500 padding) and batch refactored\n",
    "        {'1 - recall_at_5': 0.2,\n",
    "         '2 - recall_at_10': 0.26,\n",
    "         '3 - recall_at_15': 0.3,\n",
    "         '4 - recall_at_20': 0.33,\n",
    "         '5 - recall_at_25': 0.33}\n",
    "         \n",
    "         {'1 - recall_at_5': 0.2,\n",
    "         '2 - recall_at_10': 0.27,\n",
    "         '3 - recall_at_15': 0.31,\n",
    "         '4 - recall_at_20': 0.34,\n",
    "         '5 - recall_at_25': 0.34}\n",
    "         With recall in validation step and split 90 train 10 to test\n",
    "         {'1 - recall_at_5': 0.25,\n",
    "         '2 - recall_at_10': 0.32,\n",
    "         '3 - recall_at_15': 0.37,\n",
    "         '4 - recall_at_20': 0.4,\n",
    "         '5 - recall_at_25': 0.4}\n",
    "         With 200 epochs validation_recall@25 = 58, optimizer=Nadam\n",
    "         {'1 - recall_at_5': 0.26,\n",
    "         '2 - recall_at_10': 0.34,\n",
    "         '3 - recall_at_15': 0.39,\n",
    "         '4 - recall_at_20': 0.42,\n",
    "         '5 - recall_at_25': 0.42}\n",
    "         With 100 epochs validation_recall@25 = 52, optimizer=Adam\n",
    "         {'1 - recall_at_5': 0.23,\n",
    "         '2 - recall_at_10': 0.3,\n",
    "         '3 - recall_at_15': 0.34,\n",
    "         '4 - recall_at_20': 0.37,\n",
    "         '5 - recall_at_25': 0.37}\n",
    "        With 1000 epochs validation_recall@25=60, optimizer=Nadam\n",
    "        {'1 - recall_at_5': 0.24,\n",
    "         '2 - recall_at_10': 0.32,\n",
    "         '3 - recall_at_15': 0.37,\n",
    "         '4 - recall_at_20': 0.41,\n",
    "         '5 - recall_at_25': 0.41}\n",
    "         With 1000 epochs validation_recall@25=64, optimizer=Nadam\n",
    "         {'1 - recall_at_5': 0.28,\n",
    "         '2 - recall_at_10': 0.36,\n",
    "         '3 - recall_at_15': 0.41,\n",
    "         '4 - recall_at_20': 0.45,\n",
    "         '5 - recall_at_25': 0.45}\n",
    "         Withou change the distance x when calculate the cosine\n",
    "         {'1 - recall_at_5': 0.18,\n",
    "         '2 - recall_at_10': 0.24,\n",
    "         '3 - recall_at_15': 0.28,\n",
    "         '4 - recall_at_20': 0.31,\n",
    "         '5 - recall_at_25': 0.31}\n",
    "         With concatenation\n",
    "         {'1 - recall_at_5': 0.23,\n",
    "         '2 - recall_at_10': 0.31,\n",
    "         '3 - recall_at_15': 0.36,\n",
    "         '4 - recall_at_20': 0.4,\n",
    "         '5 - recall_at_25': 0.43}\n",
    "             \n",
    "    # Open Office\n",
    "    {'1 - recall_at_5': 0.2,\n",
    "     '2 - recall_at_10': 0.27,\n",
    "     '3 - recall_at_15': 0.31,\n",
    "     '4 - recall_at_20': 0.34,\n",
    "     '5 - recall_at_25': 0.34}\n",
    "'''\n",
    "evaluation = Evaluation()\n",
    "report = evaluation.evaluate(os.path.join(path, 'exported_rank.txt'))\n",
    "report"
   ]
  }
 ],
 "metadata": {
  "accelerator": "GPU",
  "colab": {
   "collapsed_sections": [],
   "name": "[baseline] Bug triage with Deep Learning.ipynb",
   "provenance": [],
   "toc_visible": true,
   "version": "0.3.2"
  },
  "kernelspec": {
   "display_name": "Python 3",
   "language": "python",
   "name": "python3"
  },
  "language_info": {
   "codemirror_mode": {
    "name": "ipython",
    "version": 3
   },
   "file_extension": ".py",
   "mimetype": "text/x-python",
   "name": "python",
   "nbconvert_exporter": "python",
   "pygments_lexer": "ipython3",
   "version": "3.5.2"
  }
 },
 "nbformat": 4,
 "nbformat_minor": 1
}
