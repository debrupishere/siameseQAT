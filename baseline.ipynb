{
 "cells": [
  {
   "cell_type": "markdown",
   "metadata": {
    "colab_type": "text",
    "id": "PtdA1qs_UQP1"
   },
   "source": [
    "# Bug triage with Deep Learning"
   ]
  },
  {
   "cell_type": "code",
   "execution_count": 1,
   "metadata": {
    "colab": {},
    "colab_type": "code",
    "id": "qnSCLmiomFE1"
   },
   "outputs": [],
   "source": [
    "from __future__ import print_function, division"
   ]
  },
  {
   "cell_type": "code",
   "execution_count": 13,
   "metadata": {
    "colab": {},
    "colab_type": "code",
    "id": "OIha-SERnD72"
   },
   "outputs": [],
   "source": [
    "import re\n",
    "import numpy as np\n",
    "import pandas as pd\n",
    "import matplotlib.pyplot as plt\n",
    "import os\n",
    "from tqdm import tqdm\n",
    "%matplotlib inline"
   ]
  },
  {
   "cell_type": "code",
   "execution_count": 14,
   "metadata": {
    "colab": {
     "base_uri": "https://localhost:8080/",
     "height": 34
    },
    "colab_type": "code",
    "id": "c57gQiuAnJAe",
    "outputId": "9eaf2d3f-619a-492d-f40b-6ba2c48426fa"
   },
   "outputs": [],
   "source": [
    "from keras.layers import Conv1D, Input, Add, Activation, Dropout, Embedding, MaxPooling1D, GlobalMaxPool1D, Flatten, Dense, Concatenate, BatchNormalization\n",
    "from keras.models import Sequential, Model\n",
    "from keras.regularizers import l2\n",
    "from keras.initializers import TruncatedNormal\n",
    "from keras.layers.advanced_activations import LeakyReLU, ELU\n",
    "from keras import optimizers"
   ]
  },
  {
   "cell_type": "markdown",
   "metadata": {
    "colab_type": "text",
    "id": "3VUZ6oG1gb91"
   },
   "source": [
    "## Auxiliary methods"
   ]
  },
  {
   "cell_type": "markdown",
   "metadata": {
    "colab_type": "text",
    "id": "vLxWmHaU8y7O"
   },
   "source": [
    "### Plot ROC/AUC curve"
   ]
  },
  {
   "cell_type": "markdown",
   "metadata": {
    "colab_type": "text",
    "id": "srKKbyM2ffZm"
   },
   "source": [
    "### Plot validation accuracy and loss"
   ]
  },
  {
   "cell_type": "code",
   "execution_count": 21,
   "metadata": {
    "colab": {},
    "colab_type": "code",
    "id": "ULjGk-eCfT8B"
   },
   "outputs": [],
   "source": [
    "def validation_accuracy_loss(history):\n",
    "  acc=history.history['acc']\n",
    "  val_acc=history.history['val_acc']\n",
    "  loss=history.history['loss']\n",
    "  val_loss=history.history['val_loss']\n",
    "\n",
    "  plt.plot(acc, label='acc')\n",
    "  plt.plot(val_acc, label='val_acc')\n",
    "  plt.title('model accuracy')\n",
    "  plt.ylabel('accuracy')\n",
    "  plt.xlabel('epoch')\n",
    "  plt.legend(['train', 'test'], loc='upper left')\n",
    "  plt.show()\n",
    "\n",
    "  plt.plot(loss, label='acc')\n",
    "  plt.plot(val_loss, label='val_acc')\n",
    "  plt.title('model loss')\n",
    "  plt.ylabel('loss')\n",
    "  plt.xlabel('epoch')\n",
    "  plt.legend(['train', 'test'], loc='upper left')\n",
    "  plt.show()"
   ]
  },
  {
   "cell_type": "code",
   "execution_count": 22,
   "metadata": {
    "colab": {},
    "colab_type": "code",
    "id": "uOOHpF2j6oY8"
   },
   "outputs": [],
   "source": [
    "from sklearn.metrics import roc_auc_score\n",
    "import sklearn.metrics\n",
    "\n",
    "def curve_roc_auc(model, x, y_valid):\n",
    "  y_hat = model.predict(x)\n",
    "  pct_auc = roc_auc_score(y_valid, y_hat) * 100\n",
    "  #print('ROC/AUC: {:0.2f}'.format(pct_auc))\n",
    "\n",
    "  fpr, tpr, _ = sklearn.metrics.roc_curve(y_valid, y_hat)\n",
    "  roc_auc = sklearn.metrics.auc(fpr, tpr)\n",
    "  plt.figure()\n",
    "  lw = 2\n",
    "  plt.plot(fpr, tpr, color='darkorange',\n",
    "           lw=lw, label='ROC curve (area = %0.2f)' % roc_auc)\n",
    "  plt.plot([0, 1], [0, 1], color='navy', lw=lw, linestyle='--')\n",
    "  plt.xlim([0.0, 1.0])\n",
    "  plt.ylim([0.0, 1.05])\n",
    "  plt.xlabel('Taxa de Falsos Positivos')\n",
    "  plt.ylabel('Taxa de Verdadeiros Positivos')\n",
    "  plt.title('Receiver Operating Characteristic (ROC)')\n",
    "  plt.legend(loc=\"lower right\")\n",
    "  plt.show()"
   ]
  },
  {
   "cell_type": "code",
   "execution_count": 23,
   "metadata": {
    "colab": {},
    "colab_type": "code",
    "id": "3zQaDKGoHB_s"
   },
   "outputs": [],
   "source": [
    "def show_model_output(valid_a, valid_b, valid_sim, model, nb_examples = 3):\n",
    "    #pv_a, pv_b, pv_sim = gen_random_batch(test_groups, nb_examples)\n",
    "    pred_sim = model.predict([valid_a, valid_b])\n",
    "#     pred_sim = [1,1,1,1,1,1]\n",
    "    for b_a, b_b, sim, pred in zip(valid_a, valid_b, valid_sim, pred_sim):\n",
    "        key_a = ','.join(b_a.astype(str))\n",
    "        key_b = ','.join(b_b.astype(str))\n",
    "        print(sentence_dict[key_a])\n",
    "        print(sentence_dict[key_b])\n",
    "        print(\"similar=\" + str(sim))\n",
    "        print(\"prediction=\" + str(pred[0]))\n",
    "        print(\"########################\")\n",
    "    return valid_a, valid_b, valid_sim"
   ]
  },
  {
   "cell_type": "code",
   "execution_count": 52,
   "metadata": {},
   "outputs": [],
   "source": [
    "import os\n",
    "import _pickle as pickle\n",
    "\n",
    "def load_model(name):\n",
    "  m_dir = os.path.join(DIR, 'modelos')\n",
    "  # load json and create model\n",
    "  json_file = open(os.path.join(m_dir, \"model_{}.json\".format(name)), 'r')\n",
    "  loaded_model_json = json_file.read()\n",
    "  json_file.close()\n",
    "  loaded_model = model_from_json(loaded_model_json)\n",
    "  # load weights into new model\n",
    "  loaded_model.load_weights(os.path.join(m_dir, \"model_{}.h5\".format(name)))\n",
    "  print(\"Loaded model from disk\")\n",
    "  return loaded_model\n",
    "\n",
    "def save_model(model, name):\n",
    "  m_dir = os.path.join(DIR, 'modelos')\n",
    "  if not os.path.exists(m_dir):\n",
    "    os.mkdir(m_dir)\n",
    "  # serialize model to JSON\n",
    "  model_json = model.to_json()\n",
    "  with open(os.path.join(m_dir, \"model_{}.json\".format(name)), 'w') as json_file:\n",
    "      json_file.write(model_json)\n",
    "  # serialize weights to HDF5\n",
    "  model.save_weights(os.path.join(m_dir, \"model_{}.h5\".format(name)))\n",
    "  print(\"Saved model to disk\")\n",
    "\n",
    "def save_result(h, name):\n",
    "  r_dir = os.path.join(DIR, 'resultados')\n",
    "  if not os.path.exists(r_dir):\n",
    "    os.mkdir(r_dir)\n",
    "  with open(os.path.join(r_dir, name + '.pkl'), 'wb') as f:\n",
    "     pickle.dump(h, f)\n",
    "      \n",
    "def load_result(name):\n",
    "  with open(os.path.join(DIR, 'resultados', name + '.pkl'), 'r') as f:\n",
    "     return pickle.load(f)"
   ]
  },
  {
   "cell_type": "code",
   "execution_count": 53,
   "metadata": {},
   "outputs": [],
   "source": [
    "from sklearn.manifold import TSNE\n",
    "\n",
    "def create_features(x_test_features):\n",
    "  tsne_obj = TSNE(n_components=2,\n",
    "                           init='pca',\n",
    "                           random_state=101,\n",
    "                           method='barnes_hut',\n",
    "                           n_iter=500,\n",
    "                           verbose=2)\n",
    "  tsne_features = tsne_obj.fit_transform(x_test_features)\n",
    "  return tsne_features"
   ]
  },
  {
   "cell_type": "code",
   "execution_count": 54,
   "metadata": {},
   "outputs": [],
   "source": [
    "def decode_to_categorical(datum):\n",
    "    return np.argmax(datum)\n",
    "  \n",
    "\n",
    "def plot_2d(test_labels, tsne_features):\n",
    "  obj_categories = ['non-duplicate', 'duplicate']\n",
    "  colors = plt.cm.rainbow(np.linspace(0, 1, 2))\n",
    "  plt.figure(figsize=(10, 10))\n",
    "\n",
    "  # test_labels = test_bitmap_labels\n",
    "  #test_labels = np.array([ decode_to_categorical(test_labels[i]) for i in range(test_labels.shape[0]) ])\n",
    "\n",
    "  for c_group, (c_color, c_label) in enumerate(zip(colors, obj_categories)):\n",
    "      plt.scatter(tsne_features[np.where(test_labels == c_group), 0],\n",
    "                  tsne_features[np.where(test_labels == c_group), 1],\n",
    "                  marker='o',\n",
    "                  color=c_color,\n",
    "                  linewidth='1',\n",
    "                  alpha=0.8,\n",
    "                  label=c_label)\n",
    "  plt.xlabel('Dimension 1')\n",
    "  plt.ylabel('Dimension 2')\n",
    "  plt.title('t-SNE on Testing Samples')\n",
    "  plt.legend(loc='best')\n",
    "  plt.savefig('clothes-dist.png')\n",
    "  plt.show(block=False)"
   ]
  },
  {
   "cell_type": "markdown",
   "metadata": {
    "colab_type": "text",
    "id": "19Oo5yKCrXYG"
   },
   "source": [
    "## Dataset bugs"
   ]
  },
  {
   "cell_type": "code",
   "execution_count": 4,
   "metadata": {
    "colab": {
     "base_uri": "https://localhost:8080/",
     "height": 122
    },
    "colab_type": "code",
    "id": "CxFKGhm9repF",
    "outputId": "d78a02ef-882f-4202-d1ea-7d709171b992"
   },
   "outputs": [],
   "source": [
    "#from google.colab import drive\n",
    "#drive.mount('/content/drive')"
   ]
  },
  {
   "cell_type": "markdown",
   "metadata": {},
   "source": [
    "### Parse bugs preproprecessed"
   ]
  },
  {
   "cell_type": "code",
   "execution_count": 15,
   "metadata": {},
   "outputs": [],
   "source": [
    "DIR = ''"
   ]
  },
  {
   "cell_type": "code",
   "execution_count": 16,
   "metadata": {},
   "outputs": [],
   "source": [
    "df_train_pair = pd.read_csv('train_mozilla_firefox.csv')"
   ]
  },
  {
   "cell_type": "code",
   "execution_count": 17,
   "metadata": {},
   "outputs": [],
   "source": [
    "bug_ids = []\n",
    "with open(os.path.join(DIR, 'bug_ids.txt'), 'r') as f:\n",
    "    for row in f:\n",
    "        bug_ids.append(int(row))"
   ]
  },
  {
   "cell_type": "markdown",
   "metadata": {
    "colab_type": "text",
    "id": "8uQou7m2-bFO"
   },
   "source": [
    "## Configurações Globais"
   ]
  },
  {
   "cell_type": "code",
   "execution_count": 18,
   "metadata": {
    "colab": {},
    "colab_type": "code",
    "id": "G-Kn3x_K-aZj"
   },
   "outputs": [],
   "source": [
    "MAX_SEQUENCE_LENGTH_T = 100 # 40\n",
    "MAX_SEQUENCE_LENGTH_D = 100 # 200\n",
    "EMBEDDING_DIM = 300\n",
    "MAX_NB_WORDS = 2000"
   ]
  },
  {
   "cell_type": "markdown",
   "metadata": {
    "colab_type": "text",
    "id": "vqzt5EKzqzcI"
   },
   "source": [
    "### Dicionário de títulos e descrições"
   ]
  },
  {
   "cell_type": "code",
   "execution_count": 19,
   "metadata": {
    "scrolled": true
   },
   "outputs": [
    {
     "name": "stderr",
     "output_type": "stream",
     "text": [
      "100%|███████████████████████████████████| 92651/92651 [07:10<00:00, 271.63it/s]\n"
     ]
    },
    {
     "name": "stdout",
     "output_type": "stream",
     "text": [
      "Wall time: 7min 10s\n"
     ]
    }
   ],
   "source": [
    "%%time\n",
    "\n",
    "import pickle as pickle\n",
    "\n",
    "def padding_embed(max_char, field, bug):\n",
    "    n = len(bug[field])\n",
    "    if (max_char - n) > 0: # desc or title\n",
    "        embed = np.empty(max_char - n)\n",
    "        embed.fill(0)\n",
    "        embed = np.concatenate([embed, bug[field]], axis=-1)\n",
    "        embed = embed.astype(int)\n",
    "    else:\n",
    "        embed = np.array(bug[field][:max_char])\n",
    "    return embed\n",
    "\n",
    "sentence_dict = {}\n",
    "corpus = []\n",
    "\n",
    "for bug_id in tqdm(bug_ids):\n",
    "    bug = pickle.load(open(os.path.join('bugs', '{}.pkl'.format(bug_id)), 'rb'))\n",
    "#     print(str(bug['title_word']))\n",
    "    title = padding_embed(MAX_SEQUENCE_LENGTH_T, 'title_word', bug)\n",
    "    desc = padding_embed(MAX_SEQUENCE_LENGTH_D, 'description_word', bug)\n",
    "    #print(len(title), len(desc))\n",
    "    #print(\",\".join(title.astype(str)))\n",
    "    sentence_dict[\",\".join(title.astype(str))] = bug['title']\n",
    "    sentence_dict[\",\".join(desc.astype(str))] = bug['description']\n",
    "    corpus.append(bug['title'])\n",
    "    corpus.append(bug['description'])\n",
    "#     break"
   ]
  },
  {
   "cell_type": "code",
   "execution_count": 20,
   "metadata": {
    "colab": {
     "base_uri": "https://localhost:8080/",
     "height": 34
    },
    "colab_type": "code",
    "id": "8RdOXdw8q6rN",
    "outputId": "d98e260f-d633-44db-d1ff-50f0a2ae7cd5",
    "scrolled": true
   },
   "outputs": [
    {
     "data": {
      "text/plain": [
       "182137"
      ]
     },
     "execution_count": 20,
     "metadata": {},
     "output_type": "execute_result"
    }
   ],
   "source": [
    "len(sentence_dict)"
   ]
  },
  {
   "cell_type": "markdown",
   "metadata": {
    "colab_type": "text",
    "id": "J0WZNngemNM8"
   },
   "source": [
    "## Geração de batches"
   ]
  },
  {
   "cell_type": "markdown",
   "metadata": {
    "colab_type": "text",
    "id": "a6Obtop6UIVD"
   },
   "source": [
    "### Generating tiple of batches"
   ]
  },
  {
   "cell_type": "code",
   "execution_count": 69,
   "metadata": {
    "colab": {},
    "colab_type": "code",
    "id": "vvyMGBD4IhB-"
   },
   "outputs": [],
   "source": [
    "import random\n",
    "import _pickle as pickle\n",
    "import numpy as np\n",
    "import os\n",
    "\n",
    "train_data, bug_ids, dup_sets = None, None, None\n",
    "\n",
    "def get_neg_bug(invalid_bugs, bug_ids):\n",
    "  neg_bug = random.choice(bug_ids)\n",
    "  while neg_bug in invalid_bugs:\n",
    "    neg_bug = random.choice(bug_ids)\n",
    "  return neg_bug\n",
    "\n",
    "def read_train_data(data):\n",
    "  data_pairs = []\n",
    "  data_dup_sets = {}\n",
    "  print('Reading train data')\n",
    "  with open(os.path.join(data, 'train.txt'), 'r') as f:\n",
    "    for line in f:\n",
    "      bug1, bug2 = line.strip().split()\n",
    "      data_pairs.append([int(bug1), int(bug2)])\n",
    "      if int(bug1) not in data_dup_sets.keys():\n",
    "        data_dup_sets[int(bug1)] = set()\n",
    "      data_dup_sets[int(bug1)].add(int(bug2))\n",
    "  return data_pairs, data_dup_sets\n",
    "\n",
    "def read_bug_ids(data):\n",
    "  bug_ids = []\n",
    "  print('Reading bug ids')\n",
    "  with open(os.path.join(data, 'bug_ids.txt'), 'r') as f:\n",
    "    for line in f:\n",
    "      bug_ids.append(int(line.strip()))\n",
    "  return bug_ids\n",
    "\n",
    "# data - path\n",
    "def prepare_dataset(data):\n",
    "  global train_data\n",
    "  global dup_sets\n",
    "  global bug_ids\n",
    "  if not train_data:\n",
    "    train_data, dup_sets = read_train_data(data)\n",
    "    #print(len(train_data))\n",
    "  if not bug_ids:\n",
    "    bug_ids = read_bug_ids(data)\n",
    "\n",
    "def siam_gen(data, batch_size, n_neg):\n",
    "    while True:\n",
    "        input_sample, input_pos, input_neg, sim = batch_iterator(data, batch_size, n_neg)\n",
    "        yield { 'title_in' : input_sample['title'], 'title_pos': input_pos['title'], 'title_neg' : input_neg['title'],\n",
    "        'desc_in' : input_sample['description'], 'desc_pos' : input_pos['description'], 'desc_neg' : input_neg['description'] }, sim"
   ]
  },
  {
   "cell_type": "code",
   "execution_count": 25,
   "metadata": {
    "colab": {},
    "colab_type": "code",
    "id": "9KefeL9y2puC"
   },
   "outputs": [],
   "source": [
    "def read_batch_triplets(batch_triplets, data):\n",
    "  batch_input_bugs = []\n",
    "  batch_pos_bugs = []\n",
    "  batch_neg_bugs = []\n",
    "  batch_bugs_anchor, batch_bugs_pos, batch_bugs_neg = {'title' : [], 'desc' : []}, {'title' : [], 'desc' : []}, {'title' : [], 'desc' : []}\n",
    "  for triplet in batch_triplets:\n",
    "      anchor, pos, neg = triplet\n",
    "      bug_anchor = bug_set[anchor]\n",
    "      bug_pos = bug_set[pos]\n",
    "      bug_neg = bug_set[neg]\n",
    "      batch_bugs_anchor['title'].append(bug_anchor['title_word'])\n",
    "      batch_bugs_anchor['desc'].append(bug_anchor['description_word'])\n",
    "      batch_bugs_pos['title'].append(bug_pos['title_word'])\n",
    "      batch_bugs_pos['desc'].append(bug_pos['description_word'])\n",
    "      batch_bugs_neg['title'].append(bug_neg['title_word'])\n",
    "      batch_bugs_neg['desc'].append(bug_neg['description_word'])\n",
    "\n",
    "  batch_bugs_anchor['title'] = np.array(batch_bugs_anchor['title'])\n",
    "  batch_bugs_anchor['desc'] = np.array(batch_bugs_anchor['desc'])\n",
    "  batch_bugs_pos['title'] = np.array(batch_bugs_pos['title'])\n",
    "  batch_bugs_pos['desc'] = np.array(batch_bugs_pos['desc'])\n",
    "  batch_bugs_neg['title'] = np.array(batch_bugs_neg['title'])\n",
    "  batch_bugs_neg['desc'] = np.array(batch_bugs_neg['desc'])\n",
    "\n",
    "  return batch_bugs_anchor, batch_bugs_pos, batch_bugs_neg\n",
    "\n",
    "def read_batch_bugs(batch_bugs, data):\n",
    "  global bug_set\n",
    "  desc_word = []\n",
    "  short_desc_word = []\n",
    "  for bug_id in batch_bugs:\n",
    "    #bug = pickle.load(open(os.path.join(data, 'bugs', '{}.pkl'.format(bug_id)), 'rb'))\n",
    "    bug = bug_set[bug_id]\n",
    "    desc_word.append(bug['description_word'])\n",
    "    short_desc_word.append(bug['title_word'])\n",
    "    \n",
    "  desc_word = np.array(desc_word)\n",
    "  short_desc_word = np.array(short_desc_word)\n",
    "  batch_bugs = dict()\n",
    "  batch_bugs['desc'] = (desc_word)\n",
    "  batch_bugs['title'] = (short_desc_word)\n",
    "\n",
    "  return batch_bugs\n",
    "\n",
    "def data_padding_bug(seq, max_seq_length):\n",
    "    seq = seq[:max_seq_length]\n",
    "    padding = max_seq_length - len(seq)\n",
    "    if padding > 0:\n",
    "        embed = np.empty(padding)\n",
    "        embed.fill(0)\n",
    "        return np.concatenate([embed, seq], -1).astype(int)\n",
    "    else:\n",
    "        return np.array(seq).astype(int)\n",
    "\n",
    "def data_padding(data, max_seq_length):\n",
    "  padded_data = np.zeros(shape=[len(data), max_seq_length])\n",
    "  for i, seq in enumerate(data):\n",
    "    seq = seq[:max_seq_length]\n",
    "    padding_end = max_seq_length - len(seq)\n",
    "    #print(seq)\n",
    "    embed = np.empty(padding_end)\n",
    "    embed.fill(0)\n",
    "    padded_data[i] = np.concatenate([embed, seq], -1)\n",
    "  return padded_data.astype(np.int)"
   ]
  },
  {
   "cell_type": "code",
   "execution_count": 70,
   "metadata": {
    "colab": {},
    "colab_type": "code",
    "id": "8QWkYiz77MDR"
   },
   "outputs": [],
   "source": [
    "from datetime import datetime\n",
    "\n",
    "# data - path\n",
    "# batch_size - 128\n",
    "# n_neg - 1\n",
    "def batch_iterator(data, batch_size, n_neg):\n",
    "    global train_data\n",
    "    global dup_sets\n",
    "    global bug_ids\n",
    "    global bug_set\n",
    "\n",
    "    random.shuffle(train_data)\n",
    "    num_batches = int(len(train_data) / batch_size)\n",
    "    if len(data) % batch_size > 0:\n",
    "        num_batches += 1\n",
    "    #print(num_batches, batch_size)\n",
    "    # loop = tqdm(range(num_batches))\n",
    "    # loop.set_description('Training')\n",
    "\n",
    "    batch_input, batch_pos, batch_neg = {'title' : [], 'desc' : []}, {'title' : [], 'desc' : []}, {'title' : [], 'desc' : []}\n",
    "\n",
    "    n_train = len(train_data)\n",
    "\n",
    "    batch_triplets = []\n",
    "    \n",
    "    for offset in range(batch_size):\n",
    "        #d_start = datetime.now()\n",
    "        #print(\"Offset\", offset)\n",
    "        neg_bug = get_neg_bug(dup_sets[train_data[offset][0]], bug_ids)\n",
    "        #d_end = datetime.now()\n",
    "        #print(\"Time\", (d_end - d_start).microseconds)\n",
    "        anchor, pos, neg = train_data[offset][0], train_data[offset][1], neg_bug\n",
    "        bug_anchor = bug_set[anchor]\n",
    "        bug_pos = bug_set[pos]\n",
    "        bug_neg = bug_set[neg]\n",
    "        batch_input['title'].append(bug_anchor['title_word'])\n",
    "        batch_input['desc'].append(bug_anchor['description_word'])\n",
    "        batch_pos['title'].append(bug_pos['title_word'])\n",
    "        batch_pos['desc'].append(bug_pos['description_word'])\n",
    "        batch_neg['title'].append(bug_neg['title_word'])\n",
    "        batch_neg['desc'].append(bug_neg['description_word'])\n",
    "        batch_triplets.append([train_data[offset][0], train_data[offset][1], neg_bug])\n",
    "\n",
    "    batch_input['title'] = np.array(batch_input['title'])\n",
    "    batch_input['desc'] = np.array(batch_input['desc'])\n",
    "    batch_pos['title'] = np.array(batch_pos['title'])\n",
    "    batch_pos['desc'] = np.array(batch_pos['desc'])\n",
    "    batch_neg['title'] = np.array(batch_neg['title'])\n",
    "    batch_neg['desc'] = np.array(batch_neg['desc'])\n",
    "\n",
    "    n_half = batch_size // 2\n",
    "    if n_half > 0:\n",
    "        pos = np.full((1, n_half), 1)\n",
    "        neg = np.full((1, n_half), 0)\n",
    "        sim = np.concatenate([pos, neg], -1)[0]\n",
    "    else:\n",
    "        sim = np.array([np.random.choice([0, 1])])\n",
    "\n",
    "    input_sample, input_pos, input_neg = {}, {}, {}\n",
    "\n",
    "    input_sample = { 'title' : batch_input['title'], 'description' : batch_input['desc'] }\n",
    "    input_pos = { 'title' : batch_pos['title'], 'description' : batch_pos['desc'] }\n",
    "    input_neg = { 'title' : batch_neg['title'], 'description' : batch_neg['desc'] }\n",
    "\n",
    "    return input_sample, input_pos, input_neg, sim "
   ]
  },
  {
   "cell_type": "code",
   "execution_count": 71,
   "metadata": {
    "colab": {
     "base_uri": "https://localhost:8080/",
     "height": 51
    },
    "colab_type": "code",
    "id": "WIPZrQ7J8UNc",
    "outputId": "dfefbddf-9fa8-4135-844f-1632522a94df"
   },
   "outputs": [
    {
     "name": "stdout",
     "output_type": "stream",
     "text": [
      "Reading train data\n",
      "Reading bug ids\n",
      "Wall time: 3.02 s\n"
     ]
    }
   ],
   "source": [
    "%%time\n",
    "\n",
    "bug_dir = os.path.join(DIR)\n",
    "\n",
    "prepare_dataset(bug_dir)"
   ]
  },
  {
   "cell_type": "code",
   "execution_count": 28,
   "metadata": {
    "scrolled": true
   },
   "outputs": [
    {
     "name": "stderr",
     "output_type": "stream",
     "text": [
      "100%|███████████████████████████████████| 92651/92651 [02:39<00:00, 580.30it/s]\n"
     ]
    },
    {
     "data": {
      "text/plain": [
       "92651"
      ]
     },
     "execution_count": 28,
     "metadata": {},
     "output_type": "execute_result"
    }
   ],
   "source": [
    "bug_set = {}\n",
    "\n",
    "loop = tqdm(total=len(bug_ids))\n",
    "\n",
    "for bug_id in bug_ids:\n",
    "    bug_set[bug_id] = pickle.load(open(os.path.join(bug_dir, 'bugs', '{}.pkl'.format(bug_id)), 'rb'))\n",
    "    bug_set[bug_id]['description_word'] = data_padding_bug(bug_set[bug_id]['description_word'], MAX_SEQUENCE_LENGTH_D)\n",
    "    bug_set[bug_id]['title_word'] = data_padding_bug(bug_set[bug_id]['title_word'], MAX_SEQUENCE_LENGTH_T)\n",
    "    loop.update(1)\n",
    "loop.close()\n",
    "    \n",
    "len(bug_set)"
   ]
  },
  {
   "cell_type": "code",
   "execution_count": 72,
   "metadata": {
    "colab": {
     "base_uri": "https://localhost:8080/",
     "height": 51
    },
    "colab_type": "code",
    "id": "PA5CIhgz7odW",
    "outputId": "ae98fdec-1d54-4b1f-ee0e-4c5633802a18",
    "scrolled": true
   },
   "outputs": [
    {
     "name": "stdout",
     "output_type": "stream",
     "text": [
      "Wall time: 5.71 s\n"
     ]
    }
   ],
   "source": [
    "%%time\n",
    "\n",
    "batch_size = 1\n",
    "batch_size_test = 512\n",
    "\n",
    "# we want a constant validation group to have a frame of reference for model performance\n",
    "train_gen = siam_gen(bug_dir, batch_size, 1)\n",
    "valid_input_sample, valid_input_pos, valid_input_neg, valid_sim = batch_iterator(bug_dir, batch_size_test, 1)\n",
    "test_gen = ([valid_input_sample['title'], valid_input_pos['title'], valid_input_neg['title'], \n",
    "             valid_input_sample['description'], valid_input_pos['description'], valid_input_neg['description']], valid_sim)"
   ]
  },
  {
   "cell_type": "code",
   "execution_count": 74,
   "metadata": {},
   "outputs": [
    {
     "data": {
      "text/plain": [
       "((512, 100), (512, 100), (512,))"
      ]
     },
     "execution_count": 74,
     "metadata": {},
     "output_type": "execute_result"
    }
   ],
   "source": [
    "valid_input_sample['title'].shape, valid_input_sample['description'].shape, valid_sim.shape"
   ]
  },
  {
   "cell_type": "markdown",
   "metadata": {
    "colab_type": "text",
    "id": "24mY22BGnkqp"
   },
   "source": [
    "### Validar entrada"
   ]
  },
  {
   "cell_type": "code",
   "execution_count": 31,
   "metadata": {
    "colab": {},
    "colab_type": "code",
    "id": "6pnMQT0-Soml"
   },
   "outputs": [],
   "source": [
    "def display_batch(groups, nb):\n",
    "  input_sample, input_pos, input_neg, v_sim = batch_iterator(groups, nb, 1)\n",
    "\n",
    "  t_a, t_b, d_a, d_b = [], [], [], []\n",
    "  \n",
    "  t_a = input_sample['title']\n",
    "  t_b = input_pos['title']\n",
    "  d_a = input_sample['description']\n",
    "  d_b = input_pos['description']\n",
    "  \n",
    "  for t_a, t_b_pos, t_b_neg, d_a, d_b_pos, d_b_neg, sim in zip(input_sample['title'], input_pos['title'], input_neg['title'], \n",
    "                                                         input_sample['description'], input_pos['description'], input_neg['description'], v_sim):\n",
    "    \n",
    "\n",
    "    t_b = t_b_pos if sim == 1 else t_b_neg\n",
    "    d_b = d_b_pos if sim == 1 else t_b_neg\n",
    "    \n",
    "    #print(t_a.shape)\n",
    "    key_t_a = ','.join(t_a.astype(str))\n",
    "    key_t_b = ','.join(t_b.astype(str))\n",
    "    key_d_a = ','.join(d_a.astype(str))\n",
    "    key_d_b = ','.join(d_b.astype(str))\n",
    "    print(\"Title: \\n{}\".format(sentence_dict[key_t_a]))\n",
    "    print(\"Title: \\n{}\".format(sentence_dict[key_t_b]))\n",
    "    print(\"Description: \\n{}\".format(sentence_dict[key_d_a]))\n",
    "    print(\"Description: \\n{}\".format(sentence_dict[key_d_b]))\n",
    "    print(\"similar =\", str(sim))\n",
    "    print(\"########################\")"
   ]
  },
  {
   "cell_type": "code",
   "execution_count": 32,
   "metadata": {
    "colab": {
     "base_uri": "https://localhost:8080/",
     "height": 796
    },
    "colab_type": "code",
    "id": "OhTbr3a5nmrh",
    "outputId": "a2d73e0f-e9ce-4d12-a5c8-f0008d2402d0",
    "scrolled": true
   },
   "outputs": [
    {
     "name": "stdout",
     "output_type": "stream",
     "text": [
      "49660 5\n",
      "Title: \n",
      "opens the page as text and displays its source\n",
      "Title: \n",
      "opens the page as text and displays its source\n",
      "Description: \n",
      "user agent mozilla number windows u winnumber en us rv number gecko number firefox number build identifier mozilla number windows u winnumber en us rv number gecko number firefox number the page is not recognized as web page it displays the source of the page as text not as html file reproducible always steps to reproduce number just open the browser in the specific address actual results it displays the page source instead of content expected results the browser should open it as web page and display its content when i save the page on my p c and then open it by the browser it shows correctly of course after i add base href url after the html tag also i think it may happen in more sites when you enter to the home page or to other parts of the site it works correctly\n",
      "Description: \n",
      "user agent mozilla number windows u winnumber en us rv number gecko number firefox number build identifier mozilla number windows u winnumber en us rv number gecko number firefox number the page is not recognized as web page it displays the source of the page as text not as html file reproducible always steps to reproduce number just open the browser in the specific address http www sakal co il jsp pg product jsp comp number sec number prod number sale no number actual results it displays the page source instead of content expected results the browser should open it as web page and display its content when i save the page on my p c and then open it by the browser it shows correctly of course after i add base href url after the html tag also i think it may happen in more sites when you enter to the home page or to other parts of the site it works correctly\n",
      "similar = 1\n",
      "########################\n",
      "Title: \n",
      "comment ends when commenttag is a single\n",
      "Title: \n",
      "comments containing two contiguous dashes are visible\n",
      "Description: \n",
      "user agent mozilla number xnumber u linux inumber de rv number gecko number ubuntu number intrepid firefox number build identifier mozilla number xnumber u linux inumber de rv number gecko number ubuntu number intrepid firefox number as you can see in the source code of the url above the comment ends when the string is at the end normally this should be aint it reproducible always steps to reproduce number write lorem ipsum number comment some parts out number close one line only with expected results dont comment it out\n",
      "Description: \n",
      "user agent mozilla number xnumber u linux inumber es es rv number gecko number ubuntu number intrepid firefox number build identifier mozilla number xnumber u linux inumber es es rv number gecko number ubuntu number intrepid firefox number when you put two contiguous dashes inside a comment the full comment seems to be visible please take a look at the example url provided also a real world example at http esquivaesto com number esquiva esto number monografico bruce lee html reproducible always steps to reproduce number go to http acdrtux es junk test html number open your eyes actual results comments with inside are visible expected results comments should not be rendered into the webpage\n",
      "similar = 1\n",
      "########################\n",
      "Title: \n",
      "all bookmarks prior to installing latest version of mozilla firefox are gone\n",
      "Title: \n",
      "adobe flash freezes closing videos\n",
      "Description: \n",
      "user agent mozilla number windows u winnumber en us rv number gecko number firefox number build identifier mozilla number windows u winnumber en us rv number gecko number firefox number upon attempting to check on a stored bookmark i found that all bookmarks are gone except for two that i had marked after installing the latest update of mozilla on number i attempted to run go back to undo the problem but when my computer reboots the update enforces the installation again reproducible always steps to reproduce number click on bookmarks number observe that everything except bookmarks toolbar folder and two recent bookmarks are gone number actual results all bookmarks except two added after the update are gone expected results all bookmarks dating back several years should have been available for reference i dont have a lot of savy regarding this type of information other than the computer has windows number amd knumber processor number mb ram\n",
      "Description: \n",
      "adobe flash freezes closing videos\n",
      "similar = 0\n",
      "########################\n",
      "Title: \n",
      "location drop down menu in wrong place\n",
      "Title: \n",
      "cracker used html mhtmlredir exploit to download and ran java class black box class ultimately created program of choice on user computer\n",
      "Description: \n",
      "user agent mozilla number windows u windows nt number en us rv numberb gecko number mozilla firebird number build identifier mozilla number windows u windows nt number en us rv numberb gecko number mozilla firebird number after customizing the toolbar in mozilla firebird the location drop down menu now appears in the wrong place this only happens while maximized reproducible always steps to reproduce number maximize the browser number go into customize to customize the toolbar number remove the search from the toolbar number click done number on the location bar click to show the drop down list actual results the drop down list appears on the wrong side of the screen expected results it doesnt seem to happen when the window is not maximized\n",
      "Description: \n",
      "cracker used html mhtmlredir exploit to download and ran java class black box class ultimately created program of choice on user computer\n",
      "similar = 0\n",
      "########################\n",
      "Wall time: 1.08 s\n"
     ]
    }
   ],
   "source": [
    "%%time \n",
    "\n",
    "display_batch(bug_dir, 5)"
   ]
  },
  {
   "cell_type": "markdown",
   "metadata": {
    "colab_type": "text",
    "id": "ojKT88YudQxO"
   },
   "source": [
    "#### Train"
   ]
  },
  {
   "cell_type": "markdown",
   "metadata": {
    "colab_type": "text",
    "id": "XPrsLs4Kg4Pa"
   },
   "source": [
    "## Pre-trained embeddings\n",
    "\n",
    "Loading pretrained word vectors"
   ]
  },
  {
   "cell_type": "markdown",
   "metadata": {
    "colab_type": "text",
    "id": "6p9eE5TWoH7p"
   },
   "source": [
    "### Glove"
   ]
  },
  {
   "cell_type": "code",
   "execution_count": 33,
   "metadata": {
    "colab": {},
    "colab_type": "code",
    "id": "2S7PiEM7WxGN"
   },
   "outputs": [],
   "source": [
    "import os\n",
    "\n",
    "from keras.preprocessing.text import Tokenizer\n",
    "\n",
    "def word_index_count(corpus):\n",
    "  \n",
    "  tokenizer = Tokenizer(num_words=MAX_NB_WORDS)\n",
    "  tokenizer.fit_on_texts(corpus)\n",
    "  word_index = tokenizer.word_index\n",
    "  print('Found %s unique tokens.' % len(word_index))\n",
    "  \n",
    "  return word_index"
   ]
  },
  {
   "cell_type": "code",
   "execution_count": 34,
   "metadata": {
    "colab": {
     "base_uri": "https://localhost:8080/",
     "height": 85
    },
    "colab_type": "code",
    "id": "QY-ef3OGoIiq",
    "outputId": "55f4c93c-98bb-4bac-92f2-76bd3b777605"
   },
   "outputs": [
    {
     "name": "stderr",
     "output_type": "stream",
     "text": [
      "1917494it [11:48, 2707.81it/s]\n"
     ]
    },
    {
     "name": "stdout",
     "output_type": "stream",
     "text": [
      "Total 1917494 word vectors in Glove 42B 300d.\n",
      "Found 138251 unique tokens.\n"
     ]
    },
    {
     "name": "stderr",
     "output_type": "stream",
     "text": [
      "100%|██████████████████████████████| 138251/138251 [00:00<00:00, 221579.43it/s]\n"
     ]
    },
    {
     "name": "stdout",
     "output_type": "stream",
     "text": [
      "Wall time: 12min 38s\n"
     ]
    }
   ],
   "source": [
    "%%time\n",
    "\n",
    "GLOVE_DIR = \"\"\n",
    "embeddings_index = {}\n",
    "f = open(os.path.join(GLOVE_DIR, 'glove.42B.300d.txt'), 'rb')\n",
    "for line in tqdm(f):\n",
    "    values = line.split()\n",
    "    word = values[0]\n",
    "    coefs = np.asarray(values[1:], dtype='float32')\n",
    "    embeddings_index[word] = coefs\n",
    "f.close()\n",
    "\n",
    "print('Total %s word vectors in Glove 42B 300d.' % len(embeddings_index))\n",
    "\n",
    "word_index = word_index_count(corpus)\n",
    "\n",
    "embedding_matrix = np.random.random((len(word_index) + 1, EMBEDDING_DIM))\n",
    "for word, i in tqdm(word_index.items()):\n",
    "    embedding_vector = embeddings_index.get(word)\n",
    "    if embedding_vector is not None:\n",
    "        # words not found in embedding index will be all-zeros.\n",
    "        embedding_matrix[i] = embedding_vector"
   ]
  },
  {
   "cell_type": "markdown",
   "metadata": {
    "colab_type": "text",
    "id": "Lev5Y7oaFQBd"
   },
   "source": [
    "## Towards Accurate Duplicate Bug Retrieval Using Deep Learning Techniques\n",
    "\n",
    "https://github.com/tqtg/DuplicateBugFinder"
   ]
  },
  {
   "cell_type": "markdown",
   "metadata": {
    "colab_type": "text",
    "id": "sI074wU4Y13y"
   },
   "source": [
    "### CNN with filter 3,4,5"
   ]
  },
  {
   "cell_type": "code",
   "execution_count": 75,
   "metadata": {
    "colab": {
     "base_uri": "https://localhost:8080/",
     "height": 493
    },
    "colab_type": "code",
    "id": "h6YJU9GtFTyq",
    "outputId": "f85cf105-1fd6-491d-d969-7e6936f32739",
    "scrolled": false
   },
   "outputs": [],
   "source": [
    "import keras\n",
    "from keras.layers import GlobalMaxPooling1D \n",
    "\n",
    "keras.backend.clear_session()\n",
    "\n",
    "def cnn_model(embeddings, num_words, embedding_dim, max_sequence_length, trainable):\n",
    "\n",
    "  embedding_layer = Embedding(num_words,\n",
    "                              embedding_dim,\n",
    "                              weights=[embeddings],\n",
    "                              input_length=max_sequence_length,\n",
    "                              trainable=trainable)\n",
    "\n",
    "  sequence_input = Input(shape=(max_sequence_length,), name='Feature_BugInput')\n",
    "  embedded_sequences = embedding_layer(sequence_input)\n",
    "\n",
    "  # Yoon Kim model (https://arxiv.org/abs/1408.5882)\n",
    "  convs = []\n",
    "  filter_sizes = [3,4,5]\n",
    "\n",
    "  for filter_size in filter_sizes:\n",
    "      l_conv = Conv1D(filters=32, kernel_size=filter_size, activation='relu')(embedded_sequences)\n",
    "      l_pool = MaxPooling1D(pool_size=3)(l_conv)\n",
    "      convs.append(l_pool)\n",
    "\n",
    "  # l_merge = Merge(mode='concat', concat_axis=1)(convs)\n",
    "\n",
    "  l_merge = Concatenate(axis=1)(convs)\n",
    "\n",
    "  # add a 1D convnet with global maxpooling, instead of Yoon Kim model\n",
    "  conv = Conv1D(filters=64, kernel_size=3, activation='relu')(l_merge)\n",
    "  pool = GlobalMaxPooling1D()(conv) # pool_size=3\n",
    "  # Original Yoon Kim model\n",
    "  #x = Flatten()(pool)\n",
    "  #x = Dropout(0.5)(x)\n",
    "  layer = Activation('relu')(pool)\n",
    "\n",
    "  cnn_feature_model = Model(inputs=[sequence_input], outputs=[layer], name = 'FeatureCNNGenerationModel') # inputs=visible\n",
    "  \n",
    "  return cnn_feature_model"
   ]
  },
  {
   "cell_type": "markdown",
   "metadata": {
    "colab_type": "text",
    "id": "wr6ObTXiaALH"
   },
   "source": [
    "### Bi-LSTM"
   ]
  },
  {
   "cell_type": "code",
   "execution_count": 76,
   "metadata": {
    "colab": {
     "base_uri": "https://localhost:8080/",
     "height": 306
    },
    "colab_type": "code",
    "id": "vC7MQXEsaCeG",
    "outputId": "65e647a9-c5d3-4009-b8a4-2e2d97b52684"
   },
   "outputs": [
    {
     "name": "stdout",
     "output_type": "stream",
     "text": [
      "Wall time: 0 ns\n"
     ]
    }
   ],
   "source": [
    "%%time\n",
    "\n",
    "from keras.layers import Dense, Input, LSTM, Dropout, Bidirectional\n",
    "\n",
    "def lstm_model(embeddings, num_words, embedding_dim, max_sequence_length, trainable):\n",
    "  number_lstm_units = 100\n",
    "  rate_drop_lstm = 0\n",
    "  recurrent_dropout = 0\n",
    "\n",
    "  embedding_layer = Embedding(num_words,\n",
    "                          embedding_dim,\n",
    "                          weights=[embeddings],\n",
    "                          input_length=max_sequence_length,\n",
    "                          trainable=trainable)\n",
    "\n",
    "  sequence_input = Input(shape=(max_sequence_length, ), name='Feature_BugInput')\n",
    "  embedded_sequences = embedding_layer(sequence_input)\n",
    "\n",
    "   # Creating LSTM Encoder\n",
    "  lstm_layer = Bidirectional(LSTM(number_lstm_units, dropout=rate_drop_lstm, recurrent_dropout=rate_drop_lstm), merge_mode='sum')\n",
    "\n",
    "  x = lstm_layer(embedded_sequences)\n",
    "\n",
    "  layer = Activation('relu')(x)\n",
    "\n",
    "  lstm_feature_model = Model(inputs=[sequence_input], outputs=[layer], name = 'FeatureLstmGenerationModel') # inputs=visible\n",
    "  \n",
    "  return lstm_feature_model"
   ]
  },
  {
   "cell_type": "markdown",
   "metadata": {
    "colab_type": "text",
    "id": "TEedCg5AaTf2"
   },
   "source": [
    "### Siamese model"
   ]
  },
  {
   "cell_type": "code",
   "execution_count": 77,
   "metadata": {
    "colab": {},
    "colab_type": "code",
    "id": "dGx3qyWhmLMF"
   },
   "outputs": [],
   "source": [
    "from keras import backend as K\n",
    "\n",
    "class MarginLoss(keras.layers.Layer):\n",
    "  def call(self, inputs):\n",
    "    bug_in, bug_pos, bug_neg  = inputs\n",
    "    loss = self.distance(bug_in, bug_pos, bug_neg)\n",
    "    self.add_loss(loss, inputs=inputs)\n",
    "    return inputs\n",
    "  def distance(self, bug_in, bug_pos, bug_neg):\n",
    "    dis_pos, dis_neg = self.cos_distance(bug_in, bug_pos), self.cos_distance(bug_in, bug_neg)\n",
    "    ep = 1\n",
    "    d1 = K.maximum(0.0, dis_pos - dis_neg + ep)\n",
    "    return K.mean(d1)\n",
    "  \n",
    "  def euclidean_sim(bug_in, bug_pos, bug_neg):\n",
    "    dis_pos = K.sum(K.square(bug_in - bug_pos), axis=1, keepdims=True)\n",
    "    dis_neg = K.sum(K.square(bug_in - bug_neg), axis=1, keepdims=True)\n",
    "    dis_pos = K.sqrt(dis_pos)\n",
    "    dis_neg = K.sqrt(dis_neg)\n",
    "    return dis_pos, dis_neg\n",
    "  \n",
    "  def l2_normalize(self, x, axis):\n",
    "        norm = K.sqrt(K.sum(K.square(x), axis=axis, keepdims=True))\n",
    "        return K.maximum(x, K.epsilon()) / K.maximum(norm, K.epsilon())\n",
    "  # https://github.com/keras-team/keras/issues/3031\n",
    "  def cos_distance(self, y_true, y_pred):\n",
    "    y_true = self.l2_normalize(y_true, axis=-1)\n",
    "    y_pred = self.l2_normalize(y_pred, axis=-1)\n",
    "    return K.mean(1 - K.sum((y_true * y_pred), axis=-1))\n",
    "  \n",
    "# define the margin loss like hinge loss\n",
    "def margin_loss(y_true, y_pred):\n",
    "    lamb, margin = 0.5, 1\n",
    "    return K.sum(y_true * K.square(K.relu(1 - margin - y_pred)) + lamb * (\n",
    "        1 - y_true) * K.square(K.relu(y_pred - margin)), axis=-1)"
   ]
  },
  {
   "cell_type": "code",
   "execution_count": 78,
   "metadata": {
    "colab": {
     "base_uri": "https://localhost:8080/",
     "height": 561
    },
    "colab_type": "code",
    "id": "VWBkSIYVaXyP",
    "outputId": "ed2a3d37-b8ec-4960-ef45-2909a87c8fa5"
   },
   "outputs": [],
   "source": [
    "from keras.layers import concatenate, Add, Lambda\n",
    "from keras.optimizers import Adam\n",
    "\n",
    "def siamese_model(max_sequence_length_t, max_sequence_length_d):\n",
    "  \n",
    "  bug_t_in = Input(shape = (max_sequence_length_t, ), name = 'title_in')\n",
    "  bug_t_pos = Input(shape = (max_sequence_length_t, ), name = 'title_pos')\n",
    "  bug_t_neg = Input(shape = (max_sequence_length_t, ), name = 'title_neg')\n",
    "  \n",
    "  bug_d_in = Input(shape = (max_sequence_length_d, ), name = 'desc_in')\n",
    "  bug_d_pos = Input(shape = (max_sequence_length_d, ), name = 'desc_pos')\n",
    "  bug_d_neg = Input(shape = (max_sequence_length_d, ), name = 'desc_neg')\n",
    "\n",
    "  bug_t_in_feat_lstm = lstm_feature_model(bug_t_in)\n",
    "  bug_t_pos_feat_lstm = lstm_feature_model(bug_t_pos)\n",
    "  bug_t_neg_feat_lstm = lstm_feature_model(bug_t_neg)\n",
    "  \n",
    "  bug_d_in_feat_cnn = cnn_feature_model(bug_d_in)\n",
    "  bug_d_pos_feat_cnn = cnn_feature_model(bug_d_pos)\n",
    "  bug_d_neg_feat_cnn = cnn_feature_model(bug_d_neg)\n",
    "\n",
    "  encoded_anchor = concatenate([bug_t_in_feat_lstm, bug_d_in_feat_cnn], name = 'merge_features_in')\n",
    "  encoded_positive = concatenate([bug_t_pos_feat_lstm, bug_d_pos_feat_cnn], name = 'merge_features_pos')\n",
    "  encoded_negative = concatenate([bug_t_neg_feat_lstm, bug_d_neg_feat_cnn], name = 'merge_features_neg')\n",
    "\n",
    "  \n",
    "  loss = MarginLoss()([encoded_anchor, encoded_positive, encoded_negative])\n",
    "  \n",
    "  loss = Dense(2, activation = 'softmax')(loss)\n",
    "  \n",
    "  #adam = Adam(lr=0.001, beta_1=0.9, beta_2=0.999, epsilon=None, decay=0.01, amsgrad=False)\n",
    "  \n",
    "  similarity_model = Model(inputs = [bug_t_in, bug_t_pos, bug_t_neg, bug_d_in, bug_d_pos, bug_d_neg], outputs = loss, name = 'Similarity_Model')\n",
    "  # setup the optimization process \n",
    "  similarity_model.compile(optimizer='adam', loss = margin_loss, metrics = ['accuracy']) # 'binary_crossentropy'\n",
    "  \n",
    "  return similarity_model"
   ]
  },
  {
   "cell_type": "markdown",
   "metadata": {},
   "source": [
    "## Experiment"
   ]
  },
  {
   "cell_type": "markdown",
   "metadata": {},
   "source": [
    "### 100 epochs, EarlyingStop 5, batch test 512"
   ]
  },
  {
   "cell_type": "code",
   "execution_count": null,
   "metadata": {},
   "outputs": [],
   "source": [
    "%%time\n",
    "\n",
    "from keras.callbacks import EarlyStopping\n",
    "\n",
    "# early = EarlyStopping(monitor='loss', patience = 5, min_delta=0, verbose=0)\n",
    "\n",
    "keras.backend.clear_session()\n",
    "\n",
    "cnn_feature_model = cnn_model(embeddings=embedding_matrix, \n",
    "                              num_words=len(word_index) + 1, \n",
    "                              embedding_dim=EMBEDDING_DIM, \n",
    "                              max_sequence_length=MAX_SEQUENCE_LENGTH_D, \n",
    "                              trainable=False)\n",
    "\n",
    "lstm_feature_model = lstm_model(embeddings=embedding_matrix, \n",
    "                              num_words=len(word_index) + 1, \n",
    "                              embedding_dim=EMBEDDING_DIM, \n",
    "                              max_sequence_length=MAX_SEQUENCE_LENGTH_T, \n",
    "                              trainable=False)\n",
    "\n",
    "similarity_model = siamese_model(MAX_SEQUENCE_LENGTH_T, MAX_SEQUENCE_LENGTH_D)\n",
    "\n",
    "# cnn_feature_model.summary()\n",
    "# lstm_feature_model.summary()\n",
    "similarity_model.summary()\n",
    "\n",
    "h = similarity_model.fit_generator(train_gen, \n",
    "                               steps_per_epoch = 256,\n",
    "                               validation_data=test_gen,\n",
    "                                             epochs = 100,\n",
    "                                             verbose = True) "
   ]
  },
  {
   "cell_type": "code",
   "execution_count": 49,
   "metadata": {},
   "outputs": [
    {
     "data": {
      "image/png": "[encoded data removed]",
      "text/plain": [
       "<Figure size 432x288 with 1 Axes>"
      ]
     },
     "metadata": {},
     "output_type": "display_data"
    },
    {
     "data": {
      "image/png": "[encoded data removed]",
      "text/plain": [
       "<Figure size 432x288 with 1 Axes>"
      ]
     },
     "metadata": {},
     "output_type": "display_data"
    }
   ],
   "source": [
    "validation_accuracy_loss(h)"
   ]
  },
  {
   "cell_type": "code",
   "execution_count": 60,
   "metadata": {},
   "outputs": [
    {
     "name": "stdout",
     "output_type": "stream",
     "text": [
      "Saved model to disk\n"
     ]
    }
   ],
   "source": [
    "name = 'baseline_20epoch_256steps_512batch(test)'\n",
    "save_model(similarity_model, name)\n",
    "save_result(h, name)"
   ]
  },
  {
   "cell_type": "code",
   "execution_count": 61,
   "metadata": {},
   "outputs": [
    {
     "name": "stdout",
     "output_type": "stream",
     "text": [
      "1024/1024 [==============================] - 9s 9ms/step\n"
     ]
    }
   ],
   "source": [
    "valid_input_sample, valid_input_pos, valid_input_neg, valid_sim = batch_iterator(bug_dir, 1024, 1)\n",
    "\n",
    "model  = similarity_model.get_layer('merge_features_in')\n",
    "\n",
    "model_final = Model(inputs=similarity_model.input, outputs=model.output)\n",
    "\n",
    "x_test_features = model_final.predict([valid_input_sample['title'], valid_input_pos['title'], valid_input_neg['title'], \n",
    "             valid_input_sample['description'], valid_input_pos['description'], valid_input_neg['description']], verbose = True, batch_size=1024)"
   ]
  },
  {
   "cell_type": "code",
   "execution_count": 62,
   "metadata": {},
   "outputs": [
    {
     "name": "stdout",
     "output_type": "stream",
     "text": [
      "[t-SNE] Computing 91 nearest neighbors...\n",
      "[t-SNE] Indexed 1024 samples in 0.008s...\n",
      "[t-SNE] Computed neighbors for 1024 samples in 0.224s...\n",
      "[t-SNE] Computed conditional probabilities for sample 1000 / 1024\n",
      "[t-SNE] Computed conditional probabilities for sample 1024 / 1024\n",
      "[t-SNE] Mean sigma: 0.301273\n",
      "[t-SNE] Computed conditional probabilities in 0.102s\n",
      "[t-SNE] Iteration 50: error = 46.4074631, gradient norm = 0.1910270 (50 iterations in 1.523s)\n",
      "[t-SNE] Iteration 100: error = 47.3500557, gradient norm = 0.1890932 (50 iterations in 3.876s)\n",
      "[t-SNE] Iteration 150: error = 47.6063652, gradient norm = 0.1779163 (50 iterations in 3.017s)\n",
      "[t-SNE] Iteration 200: error = 47.5824242, gradient norm = 0.1766576 (50 iterations in 2.310s)\n",
      "[t-SNE] Iteration 250: error = 47.8739243, gradient norm = 0.1617531 (50 iterations in 3.955s)\n",
      "[t-SNE] KL divergence after 250 iterations with early exaggeration: 47.873924\n",
      "[t-SNE] Iteration 300: error = 0.4042802, gradient norm = 0.0007579 (50 iterations in 2.372s)\n",
      "[t-SNE] Iteration 350: error = 0.3220912, gradient norm = 0.0003327 (50 iterations in 1.738s)\n",
      "[t-SNE] Iteration 400: error = 0.3007498, gradient norm = 0.0002073 (50 iterations in 1.430s)\n",
      "[t-SNE] Iteration 450: error = 0.2916216, gradient norm = 0.0001574 (50 iterations in 1.355s)\n",
      "[t-SNE] Iteration 500: error = 0.2861192, gradient norm = 0.0001302 (50 iterations in 1.348s)\n",
      "[t-SNE] Error after 500 iterations: 0.286119\n",
      "Wall time: 23.3 s\n"
     ]
    }
   ],
   "source": [
    "%%time\n",
    "tsne_features = create_features(x_test_features)"
   ]
  },
  {
   "cell_type": "code",
   "execution_count": 63,
   "metadata": {},
   "outputs": [
    {
     "data": {
      "image/png": "[encoded data removed]",
      "text/plain": [
       "<Figure size 720x720 with 1 Axes>"
      ]
     },
     "metadata": {},
     "output_type": "display_data"
    }
   ],
   "source": [
    "plot_2d(valid_sim, tsne_features)"
   ]
  },
  {
   "cell_type": "markdown",
   "metadata": {},
   "source": [
    "### 100 epochs, batch test 512"
   ]
  },
  {
   "cell_type": "code",
   "execution_count": null,
   "metadata": {
    "colab": {
     "base_uri": "https://localhost:8080/",
     "height": 983
    },
    "colab_type": "code",
    "id": "q8AOthGid3lS",
    "outputId": "95e97ceb-c879-433f-b479-6a8719940891"
   },
   "outputs": [
    {
     "name": "stdout",
     "output_type": "stream",
     "text": [
      "__________________________________________________________________________________________________\n",
      "Layer (type)                    Output Shape         Param #     Connected to                     \n",
      "==================================================================================================\n",
      "title_in (InputLayer)           (None, 100)          0                                            \n",
      "__________________________________________________________________________________________________\n",
      "desc_in (InputLayer)            (None, 100)          0                                            \n",
      "__________________________________________________________________________________________________\n",
      "title_pos (InputLayer)          (None, 100)          0                                            \n",
      "__________________________________________________________________________________________________\n",
      "desc_pos (InputLayer)           (None, 100)          0                                            \n",
      "__________________________________________________________________________________________________\n",
      "title_neg (InputLayer)          (None, 100)          0                                            \n",
      "__________________________________________________________________________________________________\n",
      "desc_neg (InputLayer)           (None, 100)          0                                            \n",
      "__________________________________________________________________________________________________\n",
      "FeatureLstmGenerationModel (Mod (None, 100)          41796400    title_in[0][0]                   \n",
      "                                                                 title_pos[0][0]                  \n",
      "                                                                 title_neg[0][0]                  \n",
      "__________________________________________________________________________________________________\n",
      "FeatureCNNGenerationModel (Mode (None, 64)           41597104    desc_in[0][0]                    \n",
      "                                                                 desc_pos[0][0]                   \n",
      "                                                                 desc_neg[0][0]                   \n",
      "__________________________________________________________________________________________________\n",
      "merge_features_in (Concatenate) (None, 164)          0           FeatureLstmGenerationModel[1][0] \n",
      "                                                                 FeatureCNNGenerationModel[1][0]  \n",
      "__________________________________________________________________________________________________\n",
      "merge_features_pos (Concatenate (None, 164)          0           FeatureLstmGenerationModel[2][0] \n",
      "                                                                 FeatureCNNGenerationModel[2][0]  \n",
      "__________________________________________________________________________________________________\n",
      "merge_features_neg (Concatenate (None, 164)          0           FeatureLstmGenerationModel[3][0] \n",
      "                                                                 FeatureCNNGenerationModel[3][0]  \n",
      "__________________________________________________________________________________________________\n",
      "margin_loss_1 (MarginLoss)      [(None, 164), (None, 0           merge_features_in[0][0]          \n",
      "                                                                 merge_features_pos[0][0]         \n",
      "                                                                 merge_features_neg[0][0]         \n",
      "__________________________________________________________________________________________________\n",
      "dense_1 (Dense)                 (None, 2)            330         margin_loss_1[0][0]              \n",
      "==================================================================================================\n",
      "Total params: 83,393,834\n",
      "Trainable params: 442,634\n",
      "Non-trainable params: 82,951,200\n",
      "__________________________________________________________________________________________________\n",
      "Epoch 1/100\n",
      " 13/256 [>.............................] - ETA: 1:06:41 - loss: 0.9848 - acc: 0.0000e+ - ETA: 35:34 - loss: 0.9944 - acc: 0.0000e+00 - ETA: 25:03 - loss: 0.9987 - acc: 0.0000e+ - ETA: 19:32 - loss: 0.9999 - acc: 0.0000e+ - ETA: 16:24 - loss: 0.9998 - acc: 0.0000e+ - ETA: 14:14 - loss: 0.9985 - acc: 0.0000e+ - ETA: 12:37 - loss: 0.9992 - acc: 0.0000e+ - ETA: 11:29 - loss: 0.9992 - acc: 0.0000e+ - ETA: 10:25 - loss: 0.9999 - acc: 0.0000e+ - ETA: 9:35 - loss: 0.9996 - acc: 0.0000e+00 - ETA: 8:57 - loss: 0.9996 - acc: 0.0000e+0 - ETA: 8:23 - loss: 0.9997 - acc: 0.0000e+0 - ETA: 7:51 - loss: 0.9997 - acc: 0.0000e+00"
     ]
    },
    {
     "name": "stderr",
     "output_type": "stream",
     "text": [
      "C:\\Users\\Thiago\\Anaconda3\\lib\\site-packages\\keras\\callbacks.py:122: UserWarning: Method on_batch_end() is slow compared to the batch update (0.306117). Check your callbacks.\n",
      "  % delta_t_median)\n"
     ]
    },
    {
     "name": "stdout",
     "output_type": "stream",
     "text": [
      " 26/256 [==>...........................] - ETA: 7:32 - loss: 0.9997 - acc: 0.0000e+0 - ETA: 7:12 - loss: 0.9996 - acc: 0.0000e+0 - ETA: 6:51 - loss: 0.9999 - acc: 0.0000e+0 - ETA: 6:46 - loss: 0.9999 - acc: 0.0000e+0 - ETA: 6:42 - loss: 0.9998 - acc: 0.0000e+0 - ETA: 6:33 - loss: 0.9997 - acc: 0.0000e+0 - ETA: 6:21 - loss: 0.9997 - acc: 0.0000e+0 - ETA: 6:21 - loss: 0.9997 - acc: 0.0000e+0 - ETA: 6:16 - loss: 0.9997 - acc: 0.0000e+0 - ETA: 6:08 - loss: 0.9997 - acc: 0.0000e+0 - ETA: 6:03 - loss: 0.9997 - acc: 0.0000e+0 - ETA: 5:54 - loss: 0.9996 - acc: 0.0000e+0 - ETA: 5:46 - loss: 0.9997 - acc: 0.0000e+00"
     ]
    },
    {
     "name": "stderr",
     "output_type": "stream",
     "text": [
      "C:\\Users\\Thiago\\Anaconda3\\lib\\site-packages\\keras\\callbacks.py:122: UserWarning: Method on_batch_end() is slow compared to the batch update (0.407190). Check your callbacks.\n",
      "  % delta_t_median)\n"
     ]
    },
    {
     "name": "stdout",
     "output_type": "stream",
     "text": [
      " 27/256 [==>...........................] - ETA: 5:39 - loss: 0.9997 - acc: 0.0000e+00"
     ]
    },
    {
     "name": "stderr",
     "output_type": "stream",
     "text": [
      "C:\\Users\\Thiago\\Anaconda3\\lib\\site-packages\\keras\\callbacks.py:122: UserWarning: Method on_batch_end() is slow compared to the batch update (0.363185). Check your callbacks.\n",
      "  % delta_t_median)\n"
     ]
    },
    {
     "name": "stdout",
     "output_type": "stream",
     "text": [
      " 44/256 [====>.........................] - ETA: 5:29 - loss: 0.9997 - acc: 0.0000e+0 - ETA: 5:22 - loss: 0.9997 - acc: 0.0000e+0 - ETA: 5:14 - loss: 0.9997 - acc: 0.0000e+0 - ETA: 5:07 - loss: 0.9997 - acc: 0.0000e+0 - ETA: 5:08 - loss: 0.9998 - acc: 0.0000e+0 - ETA: 5:08 - loss: 0.9997 - acc: 0.0000e+0 - ETA: 5:05 - loss: 0.9997 - acc: 0.0000e+0 - ETA: 5:00 - loss: 0.9997 - acc: 0.0000e+0 - ETA: 4:56 - loss: 0.9998 - acc: 0.0000e+0 - ETA: 4:51 - loss: 0.9997 - acc: 0.0000e+0 - ETA: 4:44 - loss: 0.9996 - acc: 0.0000e+0 - ETA: 4:39 - loss: 0.9995 - acc: 0.0000e+0 - ETA: 4:35 - loss: 0.9993 - acc: 0.0000e+0 - ETA: 4:30 - loss: 0.9994 - acc: 0.0000e+0 - ETA: 4:27 - loss: 0.9996 - acc: 0.0000e+0 - ETA: 4:23 - loss: 0.9995 - acc: 0.0000e+0 - ETA: 4:20 - loss: 0.9994 - acc: 0.0000e+00"
     ]
    },
    {
     "name": "stderr",
     "output_type": "stream",
     "text": [
      "C:\\Users\\Thiago\\Anaconda3\\lib\\site-packages\\keras\\callbacks.py:122: UserWarning: Method on_batch_end() is slow compared to the batch update (0.318023). Check your callbacks.\n",
      "  % delta_t_median)\n"
     ]
    },
    {
     "name": "stdout",
     "output_type": "stream",
     "text": [
      "109/256 [===========>..................] - ETA: 4:21 - loss: 0.9994 - acc: 0.0000e+0 - ETA: 4:22 - loss: 0.9993 - acc: 0.0000e+0 - ETA: 4:21 - loss: 0.9993 - acc: 0.0000e+0 - ETA: 4:18 - loss: 0.9993 - acc: 0.0000e+0 - ETA: 4:15 - loss: 0.9990 - acc: 0.0000e+0 - ETA: 4:11 - loss: 0.9989 - acc: 0.0000e+0 - ETA: 4:12 - loss: 0.9985 - acc: 0.0000e+0 - ETA: 4:12 - loss: 0.9976 - acc: 0.0000e+0 - ETA: 4:10 - loss: 0.9977 - acc: 0.0000e+0 - ETA: 4:09 - loss: 0.9980 - acc: 0.0000e+0 - ETA: 4:06 - loss: 0.9980 - acc: 0.0000e+0 - ETA: 4:08 - loss: 1.0001 - acc: 0.0000e+0 - ETA: 4:08 - loss: 1.0001 - acc: 0.0000e+0 - ETA: 4:05 - loss: 1.0000 - acc: 0.0000e+0 - ETA: 4:03 - loss: 0.9992 - acc: 0.0000e+0 - ETA: 4:00 - loss: 0.9992 - acc: 0.0000e+0 - ETA: 3:57 - loss: 0.9993 - acc: 0.0000e+0 - ETA: 3:58 - loss: 1.0001 - acc: 0.0000e+0 - ETA: 3:57 - loss: 1.0001 - acc: 0.0000e+0 - ETA: 3:55 - loss: 0.9993 - acc: 0.0000e+0 - ETA: 3:52 - loss: 0.9993 - acc: 0.0000e+0 - ETA: 3:50 - loss: 0.9992 - acc: 0.0000e+0 - ETA: 3:48 - loss: 0.9991 - acc: 0.0000e+0 - ETA: 3:46 - loss: 1.0000 - acc: 0.0000e+0 - ETA: 3:46 - loss: 1.0007 - acc: 0.0000e+0 - ETA: 3:45 - loss: 1.0006 - acc: 0.0000e+0 - ETA: 3:44 - loss: 1.0001 - acc: 0.0000e+0 - ETA: 3:42 - loss: 1.0001 - acc: 0.0000e+0 - ETA: 3:39 - loss: 0.9994 - acc: 0.0000e+0 - ETA: 3:36 - loss: 0.9994 - acc: 0.0000e+0 - ETA: 3:36 - loss: 0.9996 - acc: 0.0000e+0 - ETA: 3:34 - loss: 0.9995 - acc: 0.0000e+0 - ETA: 3:33 - loss: 0.9997 - acc: 0.0000e+0 - ETA: 3:31 - loss: 1.0001 - acc: 0.0000e+0 - ETA: 3:31 - loss: 1.0001 - acc: 0.0000e+0 - ETA: 3:30 - loss: 1.0001 - acc: 0.0000e+0 - ETA: 3:28 - loss: 1.0001 - acc: 0.0000e+0 - ETA: 3:27 - loss: 1.0001 - acc: 0.0000e+0 - ETA: 3:25 - loss: 1.0005 - acc: 0.0000e+0 - ETA: 3:22 - loss: 1.0007 - acc: 0.0000e+0 - ETA: 3:22 - loss: 1.0003 - acc: 0.0000e+0 - ETA: 3:21 - loss: 1.0002 - acc: 0.0000e+0 - ETA: 3:21 - loss: 1.0003 - acc: 0.0000e+0 - ETA: 3:19 - loss: 1.0002 - acc: 0.0000e+0 - ETA: 3:20 - loss: 1.0002 - acc: 0.0000e+0 - ETA: 3:18 - loss: 1.0000 - acc: 0.0000e+0 - ETA: 3:18 - loss: 1.0001 - acc: 0.0000e+0 - ETA: 3:18 - loss: 1.0001 - acc: 0.0000e+0 - ETA: 3:18 - loss: 1.0001 - acc: 0.0000e+0 - ETA: 3:16 - loss: 1.0001 - acc: 0.0000e+0 - ETA: 3:15 - loss: 0.9995 - acc: 0.0000e+0 - ETA: 3:13 - loss: 0.9994 - acc: 0.0000e+0 - ETA: 3:13 - loss: 0.9989 - acc: 0.0000e+0 - ETA: 3:13 - loss: 0.9988 - acc: 0.0000e+0 - ETA: 3:11 - loss: 0.9989 - acc: 0.0000e+0 - ETA: 3:09 - loss: 0.9989 - acc: 0.0000e+0 - ETA: 3:09 - loss: 0.9983 - acc: 0.0000e+0 - ETA: 3:08 - loss: 0.9977 - acc: 0.0000e+0 - ETA: 3:08 - loss: 0.9977 - acc: 0.0000e+0 - ETA: 3:07 - loss: 0.9976 - acc: 0.0000e+0 - ETA: 3:07 - loss: 0.9971 - acc: 0.0000e+0 - ETA: 3:06 - loss: 0.9967 - acc: 0.0000e+0 - ETA: 3:04 - loss: 0.9968 - acc: 0.0000e+0 - ETA: 3:03 - loss: 0.9964 - acc: 0.0000e+0 - ETA: 3:01 - loss: 0.9955 - acc: 0.0000e+00"
     ]
    },
    {
     "name": "stderr",
     "output_type": "stream",
     "text": [
      "C:\\Users\\Thiago\\Anaconda3\\lib\\site-packages\\keras\\callbacks.py:122: UserWarning: Method on_batch_end() is slow compared to the batch update (0.489348). Check your callbacks.\n",
      "  % delta_t_median)\n"
     ]
    },
    {
     "name": "stdout",
     "output_type": "stream",
     "text": [
      "112/256 [============>.................] - ETA: 3:00 - loss: 0.9954 - acc: 0.0000e+0 - ETA: 2:58 - loss: 0.9941 - acc: 0.0000e+0 - ETA: 2:56 - loss: 0.9943 - acc: 0.0000e+00"
     ]
    },
    {
     "name": "stderr",
     "output_type": "stream",
     "text": [
      "C:\\Users\\Thiago\\Anaconda3\\lib\\site-packages\\keras\\callbacks.py:122: UserWarning: Method on_batch_end() is slow compared to the batch update (0.479744). Check your callbacks.\n",
      "  % delta_t_median)\n"
     ]
    },
    {
     "name": "stdout",
     "output_type": "stream",
     "text": [
      "116/256 [============>.................] - ETA: 2:55 - loss: 0.9940 - acc: 0.0000e+0 - ETA: 2:53 - loss: 0.9942 - acc: 0.0000e+0 - ETA: 2:52 - loss: 0.9932 - acc: 0.0000e+0 - ETA: 2:50 - loss: 0.9929 - acc: 0.0086    "
     ]
    },
    {
     "name": "stderr",
     "output_type": "stream",
     "text": [
      "C:\\Users\\Thiago\\Anaconda3\\lib\\site-packages\\keras\\callbacks.py:122: UserWarning: Method on_batch_end() is slow compared to the batch update (0.419594). Check your callbacks.\n",
      "  % delta_t_median)\n"
     ]
    },
    {
     "name": "stdout",
     "output_type": "stream",
     "text": [
      "121/256 [=============>................] - ETA: 2:49 - loss: 0.9931 - acc: 0.008 - ETA: 2:48 - loss: 0.9958 - acc: 0.008 - ETA: 2:46 - loss: 0.9950 - acc: 0.008 - ETA: 2:45 - loss: 0.9949 - acc: 0.008 - ETA: 2:43 - loss: 0.9950 - acc: 0.0083"
     ]
    },
    {
     "name": "stderr",
     "output_type": "stream",
     "text": [
      "C:\\Users\\Thiago\\Anaconda3\\lib\\site-packages\\keras\\callbacks.py:122: UserWarning: Method on_batch_end() is slow compared to the batch update (0.384383). Check your callbacks.\n",
      "  % delta_t_median)\n"
     ]
    },
    {
     "name": "stdout",
     "output_type": "stream",
     "text": [
      "123/256 [=============>................] - ETA: 2:41 - loss: 0.9943 - acc: 0.008 - ETA: 2:39 - loss: 0.9951 - acc: 0.0081"
     ]
    },
    {
     "name": "stderr",
     "output_type": "stream",
     "text": [
      "C:\\Users\\Thiago\\Anaconda3\\lib\\site-packages\\keras\\callbacks.py:122: UserWarning: Method on_batch_end() is slow compared to the batch update (0.341354). Check your callbacks.\n",
      "  % delta_t_median)\n"
     ]
    },
    {
     "name": "stdout",
     "output_type": "stream",
     "text": [
      "146/256 [================>.............] - ETA: 2:39 - loss: 0.9952 - acc: 0.008 - ETA: 2:37 - loss: 0.9948 - acc: 0.008 - ETA: 2:36 - loss: 0.9950 - acc: 0.007 - ETA: 2:34 - loss: 0.9946 - acc: 0.007 - ETA: 2:32 - loss: 0.9944 - acc: 0.007 - ETA: 2:31 - loss: 0.9945 - acc: 0.007 - ETA: 2:29 - loss: 0.9944 - acc: 0.007 - ETA: 2:28 - loss: 0.9942 - acc: 0.007 - ETA: 2:26 - loss: 0.9939 - acc: 0.007 - ETA: 2:25 - loss: 0.9939 - acc: 0.007 - ETA: 2:23 - loss: 0.9940 - acc: 0.007 - ETA: 2:22 - loss: 0.9940 - acc: 0.007 - ETA: 2:20 - loss: 0.9941 - acc: 0.007 - ETA: 2:20 - loss: 0.9941 - acc: 0.007 - ETA: 2:18 - loss: 0.9942 - acc: 0.014 - ETA: 2:17 - loss: 0.9933 - acc: 0.014 - ETA: 2:16 - loss: 0.9935 - acc: 0.014 - ETA: 2:15 - loss: 0.9933 - acc: 0.014 - ETA: 2:14 - loss: 0.9912 - acc: 0.021 - ETA: 2:13 - loss: 0.9924 - acc: 0.021 - ETA: 2:12 - loss: 0.9917 - acc: 0.027 - ETA: 2:10 - loss: 0.9911 - acc: 0.027 - ETA: 2:09 - loss: 0.9913 - acc: 0.0274"
     ]
    },
    {
     "name": "stderr",
     "output_type": "stream",
     "text": [
      "C:\\Users\\Thiago\\Anaconda3\\lib\\site-packages\\keras\\callbacks.py:122: UserWarning: Method on_batch_end() is slow compared to the batch update (0.412668). Check your callbacks.\n",
      "  % delta_t_median)\n"
     ]
    },
    {
     "name": "stdout",
     "output_type": "stream",
     "text": [
      "195/256 [=====================>........] - ETA: 2:08 - loss: 0.9919 - acc: 0.034 - ETA: 2:07 - loss: 0.9921 - acc: 0.033 - ETA: 2:06 - loss: 0.9920 - acc: 0.033 - ETA: 2:05 - loss: 0.9926 - acc: 0.033 - ETA: 2:03 - loss: 0.9919 - acc: 0.033 - ETA: 2:02 - loss: 0.9919 - acc: 0.032 - ETA: 2:01 - loss: 0.9918 - acc: 0.032 - ETA: 2:00 - loss: 0.9917 - acc: 0.032 - ETA: 1:59 - loss: 0.9917 - acc: 0.032 - ETA: 1:58 - loss: 0.9914 - acc: 0.032 - ETA: 1:56 - loss: 0.9912 - acc: 0.031 - ETA: 1:55 - loss: 0.9908 - acc: 0.031 - ETA: 1:53 - loss: 0.9902 - acc: 0.031 - ETA: 1:53 - loss: 0.9872 - acc: 0.031 - ETA: 1:52 - loss: 0.9876 - acc: 0.031 - ETA: 1:50 - loss: 0.9877 - acc: 0.030 - ETA: 1:49 - loss: 0.9860 - acc: 0.030 - ETA: 1:47 - loss: 0.9861 - acc: 0.030 - ETA: 1:46 - loss: 0.9856 - acc: 0.030 - ETA: 1:45 - loss: 0.9857 - acc: 0.030 - ETA: 1:44 - loss: 0.9833 - acc: 0.029 - ETA: 1:42 - loss: 0.9830 - acc: 0.035 - ETA: 1:41 - loss: 0.9825 - acc: 0.035 - ETA: 1:39 - loss: 0.9822 - acc: 0.041 - ETA: 1:38 - loss: 0.9792 - acc: 0.040 - ETA: 1:37 - loss: 0.9793 - acc: 0.040 - ETA: 1:35 - loss: 0.9790 - acc: 0.046 - ETA: 1:34 - loss: 0.9826 - acc: 0.046 - ETA: 1:33 - loss: 0.9814 - acc: 0.045 - ETA: 1:31 - loss: 0.9796 - acc: 0.045 - ETA: 1:30 - loss: 0.9793 - acc: 0.045 - ETA: 1:28 - loss: 0.9798 - acc: 0.044 - ETA: 1:27 - loss: 0.9795 - acc: 0.044 - ETA: 1:26 - loss: 0.9795 - acc: 0.044 - ETA: 1:24 - loss: 0.9795 - acc: 0.044 - ETA: 1:23 - loss: 0.9796 - acc: 0.044 - ETA: 1:22 - loss: 0.9795 - acc: 0.043 - ETA: 1:21 - loss: 0.9803 - acc: 0.043 - ETA: 1:19 - loss: 0.9786 - acc: 0.043 - ETA: 1:18 - loss: 0.9786 - acc: 0.043 - ETA: 1:17 - loss: 0.9781 - acc: 0.042 - ETA: 1:16 - loss: 0.9784 - acc: 0.042 - ETA: 1:14 - loss: 0.9798 - acc: 0.042 - ETA: 1:13 - loss: 0.9795 - acc: 0.042 - ETA: 1:12 - loss: 0.9795 - acc: 0.041 - ETA: 1:11 - loss: 0.9795 - acc: 0.041 - ETA: 1:09 - loss: 0.9796 - acc: 0.041 - ETA: 1:08 - loss: 0.9797 - acc: 0.041 - ETA: 1:07 - loss: 0.9794 - acc: 0.0410"
     ]
    },
    {
     "name": "stderr",
     "output_type": "stream",
     "text": [
      "C:\\Users\\Thiago\\Anaconda3\\lib\\site-packages\\keras\\callbacks.py:122: UserWarning: Method on_batch_end() is slow compared to the batch update (0.324322). Check your callbacks.\n",
      "  % delta_t_median)\n"
     ]
    },
    {
     "name": "stdout",
     "output_type": "stream",
     "text": [
      "247/256 [===========================>..] - ETA: 1:06 - loss: 0.9787 - acc: 0.040 - ETA: 1:04 - loss: 0.9779 - acc: 0.040 - ETA: 1:03 - loss: 0.9788 - acc: 0.040 - ETA: 1:02 - loss: 0.9801 - acc: 0.040 - ETA: 1:01 - loss: 0.9793 - acc: 0.040 - ETA: 1:00 - loss: 0.9792 - acc: 0.039 - ETA: 59s - loss: 0.9793 - acc: 0.039 - ETA: 58s - loss: 0.9792 - acc: 0.03 - ETA: 57s - loss: 0.9791 - acc: 0.03 - ETA: 56s - loss: 0.9782 - acc: 0.03 - ETA: 55s - loss: 0.9783 - acc: 0.03 - ETA: 54s - loss: 0.9786 - acc: 0.03 - ETA: 53s - loss: 0.9784 - acc: 0.03 - ETA: 52s - loss: 0.9787 - acc: 0.03 - ETA: 51s - loss: 0.9758 - acc: 0.03 - ETA: 50s - loss: 0.9760 - acc: 0.03 - ETA: 49s - loss: 0.9754 - acc: 0.03 - ETA: 48s - loss: 0.9755 - acc: 0.03 - ETA: 47s - loss: 0.9747 - acc: 0.03 - ETA: 46s - loss: 0.9753 - acc: 0.03 - ETA: 45s - loss: 0.9754 - acc: 0.03 - ETA: 44s - loss: 0.9755 - acc: 0.03 - ETA: 43s - loss: 0.9754 - acc: 0.03 - ETA: 41s - loss: 0.9755 - acc: 0.03 - ETA: 40s - loss: 0.9754 - acc: 0.03 - ETA: 39s - loss: 0.9736 - acc: 0.03 - ETA: 38s - loss: 0.9732 - acc: 0.03 - ETA: 37s - loss: 0.9705 - acc: 0.03 - ETA: 36s - loss: 0.9709 - acc: 0.03 - ETA: 35s - loss: 0.9707 - acc: 0.03 - ETA: 34s - loss: 0.9708 - acc: 0.03 - ETA: 33s - loss: 0.9708 - acc: 0.03 - ETA: 32s - loss: 0.9704 - acc: 0.03 - ETA: 31s - loss: 0.9690 - acc: 0.03 - ETA: 29s - loss: 0.9718 - acc: 0.03 - ETA: 28s - loss: 0.9727 - acc: 0.03 - ETA: 27s - loss: 0.9724 - acc: 0.03 - ETA: 26s - loss: 0.9727 - acc: 0.03 - ETA: 25s - loss: 0.9729 - acc: 0.03 - ETA: 24s - loss: 0.9696 - acc: 0.03 - ETA: 23s - loss: 0.9684 - acc: 0.03 - ETA: 21s - loss: 0.9697 - acc: 0.03 - ETA: 20s - loss: 0.9700 - acc: 0.03 - ETA: 19s - loss: 0.9702 - acc: 0.03 - ETA: 18s - loss: 0.9700 - acc: 0.03 - ETA: 17s - loss: 0.9691 - acc: 0.03 - ETA: 16s - loss: 0.9686 - acc: 0.03 - ETA: 14s - loss: 0.9675 - acc: 0.03 - ETA: 13s - loss: 0.9654 - acc: 0.03 - ETA: 12s - loss: 0.9646 - acc: 0.03 - ETA: 11s - loss: 0.9625 - acc: 0.03 - ETA: 10s - loss: 0.9628 - acc: 0.0364"
     ]
    },
    {
     "name": "stderr",
     "output_type": "stream",
     "text": [
      "C:\\Users\\Thiago\\Anaconda3\\lib\\site-packages\\keras\\callbacks.py:122: UserWarning: Method on_batch_end() is slow compared to the batch update (0.398496). Check your callbacks.\n",
      "  % delta_t_median)\n"
     ]
    },
    {
     "name": "stdout",
     "output_type": "stream",
     "text": [
      "256/256 [==============================] - ETA: 9s - loss: 0.9635 - acc: 0.0363 - ETA: 8s - loss: 0.9627 - acc: 0.036 - ETA: 6s - loss: 0.9655 - acc: 0.036 - ETA: 5s - loss: 0.9653 - acc: 0.035 - ETA: 4s - loss: 0.9680 - acc: 0.035 - ETA: 3s - loss: 0.9680 - acc: 0.035 - ETA: 2s - loss: 0.9698 - acc: 0.035 - ETA: 1s - loss: 0.9699 - acc: 0.035 - 320s 1s/step - loss: 0.9724 - acc: 0.0352 - val_loss: 0.9509 - val_acc: 0.0000e+00\n",
      "Epoch 2/100\n",
      " 59/256 [=====>........................] - ETA: 1:22 - loss: 0.4700 - acc: 0.0000e+0 - ETA: 1:59 - loss: 0.9578 - acc: 0.0000e+0 - ETA: 2:12 - loss: 1.1272 - acc: 0.0000e+0 - ETA: 3:24 - loss: 0.9869 - acc: 0.0000e+0 - ETA: 3:31 - loss: 0.9882 - acc: 0.0000e+0 - ETA: 3:33 - loss: 0.9841 - acc: 0.0000e+0 - ETA: 3:26 - loss: 0.9799 - acc: 0.0000e+0 - ETA: 3:19 - loss: 1.0168 - acc: 0.0000e+0 - ETA: 3:07 - loss: 1.0014 - acc: 0.0000e+0 - ETA: 3:04 - loss: 0.9672 - acc: 0.0000e+0 - ETA: 3:03 - loss: 0.9261 - acc: 0.0000e+0 - ETA: 3:03 - loss: 0.9529 - acc: 0.0000e+0 - ETA: 2:59 - loss: 0.9547 - acc: 0.0000e+0 - ETA: 3:00 - loss: 0.9775 - acc: 0.0000e+0 - ETA: 2:58 - loss: 0.9795 - acc: 0.0000e+0 - ETA: 2:53 - loss: 0.9807 - acc: 0.0000e+0 - ETA: 2:49 - loss: 0.9612 - acc: 0.0000e+0 - ETA: 2:45 - loss: 0.9568 - acc: 0.0000e+0 - ETA: 2:44 - loss: 0.9656 - acc: 0.0000e+0 - ETA: 2:40 - loss: 0.9537 - acc: 0.0000e+0 - ETA: 2:38 - loss: 0.9371 - acc: 0.0000e+0 - ETA: 2:47 - loss: 0.9230 - acc: 0.0000e+0 - ETA: 2:53 - loss: 0.9318 - acc: 0.0000e+0 - ETA: 3:01 - loss: 0.9082 - acc: 0.0000e+0 - ETA: 3:09 - loss: 0.9317 - acc: 0.0000e+0 - ETA: 3:19 - loss: 0.9197 - acc: 0.0000e+0 - ETA: 3:25 - loss: 0.9210 - acc: 0.0000e+0 - ETA: 3:31 - loss: 0.9333 - acc: 0.0000e+0 - ETA: 3:36 - loss: 0.9439 - acc: 0.0000e+0 - ETA: 3:39 - loss: 0.9345 - acc: 0.0000e+0 - ETA: 3:40 - loss: 0.9383 - acc: 0.0000e+0 - ETA: 3:44 - loss: 0.9454 - acc: 0.0000e+0 - ETA: 3:51 - loss: 0.9430 - acc: 0.0000e+0 - ETA: 3:51 - loss: 0.9530 - acc: 0.0000e+0 - ETA: 3:52 - loss: 0.9527 - acc: 0.0000e+0 - ETA: 3:56 - loss: 0.9497 - acc: 0.0000e+0 - ETA: 3:59 - loss: 0.9528 - acc: 0.0000e+0 - ETA: 3:58 - loss: 0.9658 - acc: 0.0000e+0 - ETA: 3:55 - loss: 0.9667 - acc: 0.0000e+0 - ETA: 3:51 - loss: 0.9677 - acc: 0.0000e+0 - ETA: 3:47 - loss: 0.9718 - acc: 0.0000e+0 - ETA: 3:43 - loss: 0.9599 - acc: 0.0000e+0 - ETA: 3:39 - loss: 0.9608 - acc: 0.0000e+0 - ETA: 3:37 - loss: 0.9616 - acc: 0.0000e+0 - ETA: 3:34 - loss: 0.9493 - acc: 0.0000e+0 - ETA: 3:31 - loss: 0.9377 - acc: 0.0000e+0 - ETA: 3:28 - loss: 0.9350 - acc: 0.0000e+0 - ETA: 3:24 - loss: 0.9326 - acc: 0.0000e+0 - ETA: 3:22 - loss: 0.9302 - acc: 0.0000e+0 - ETA: 3:20 - loss: 0.9173 - acc: 0.0000e+0 - ETA: 3:17 - loss: 0.9336 - acc: 0.0000e+0 - ETA: 3:16 - loss: 0.9348 - acc: 0.0000e+0 - ETA: 3:17 - loss: 0.9284 - acc: 0.0000e+0 - ETA: 3:17 - loss: 0.9294 - acc: 0.0000e+0 - ETA: 3:17 - loss: 0.9294 - acc: 0.0000e+0 - ETA: 3:16 - loss: 0.9303 - acc: 0.0000e+0 - ETA: 3:15 - loss: 0.9376 - acc: 0.0000e+0 - ETA: 3:13 - loss: 0.9387 - acc: 0.0000e+0 - ETA: 3:11 - loss: 0.9395 - acc: 0.0000e+00"
     ]
    },
    {
     "name": "stderr",
     "output_type": "stream",
     "text": [
      "C:\\Users\\Thiago\\Anaconda3\\lib\\site-packages\\keras\\callbacks.py:122: UserWarning: Method on_batch_end() is slow compared to the batch update (0.379673). Check your callbacks.\n",
      "  % delta_t_median)\n"
     ]
    },
    {
     "name": "stdout",
     "output_type": "stream",
     "text": [
      " 61/256 [======>.......................] - ETA: 3:08 - loss: 0.9405 - acc: 0.0000e+0 - ETA: 3:06 - loss: 0.9423 - acc: 0.0000e+00"
     ]
    },
    {
     "name": "stderr",
     "output_type": "stream",
     "text": [
      "C:\\Users\\Thiago\\Anaconda3\\lib\\site-packages\\keras\\callbacks.py:122: UserWarning: Method on_batch_end() is slow compared to the batch update (0.340663). Check your callbacks.\n",
      "  % delta_t_median)\n"
     ]
    },
    {
     "name": "stdout",
     "output_type": "stream",
     "text": [
      " 72/256 [=======>......................] - ETA: 3:04 - loss: 0.9445 - acc: 0.0000e+0 - ETA: 3:05 - loss: 0.9448 - acc: 0.0000e+0 - ETA: 3:07 - loss: 0.9460 - acc: 0.0000e+0 - ETA: 3:09 - loss: 0.9469 - acc: 0.0000e+0 - ETA: 3:09 - loss: 0.9436 - acc: 0.0000e+0 - ETA: 3:08 - loss: 0.9442 - acc: 0.0000e+0 - ETA: 3:07 - loss: 0.9395 - acc: 0.0000e+0 - ETA: 3:06 - loss: 0.9404 - acc: 0.0000e+0 - ETA: 3:04 - loss: 0.9389 - acc: 0.0000e+0 - ETA: 3:03 - loss: 0.9392 - acc: 0.0000e+0 - ETA: 3:01 - loss: 0.9393 - acc: 0.0000e+00"
     ]
    },
    {
     "name": "stderr",
     "output_type": "stream",
     "text": [
      "C:\\Users\\Thiago\\Anaconda3\\lib\\site-packages\\keras\\callbacks.py:122: UserWarning: Method on_batch_end() is slow compared to the batch update (0.366483). Check your callbacks.\n",
      "  % delta_t_median)\n"
     ]
    },
    {
     "name": "stdout",
     "output_type": "stream",
     "text": [
      " 81/256 [========>.....................] - ETA: 2:59 - loss: 0.9402 - acc: 0.0000e+0 - ETA: 3:01 - loss: 0.9370 - acc: 0.0000e+0 - ETA: 3:01 - loss: 0.9391 - acc: 0.0000e+0 - ETA: 3:01 - loss: 0.9402 - acc: 0.0000e+0 - ETA: 3:02 - loss: 0.9408 - acc: 0.0000e+0 - ETA: 3:02 - loss: 0.9334 - acc: 0.0000e+0 - ETA: 3:02 - loss: 0.9345 - acc: 0.0000e+0 - ETA: 3:01 - loss: 0.9365 - acc: 0.0000e+0 - ETA: 2:58 - loss: 0.9369 - acc: 0.0000e+00"
     ]
    },
    {
     "name": "stderr",
     "output_type": "stream",
     "text": [
      "C:\\Users\\Thiago\\Anaconda3\\lib\\site-packages\\keras\\callbacks.py:122: UserWarning: Method on_batch_end() is slow compared to the batch update (0.518127). Check your callbacks.\n",
      "  % delta_t_median)\n"
     ]
    },
    {
     "name": "stdout",
     "output_type": "stream",
     "text": [
      " 85/256 [========>.....................] - ETA: 2:57 - loss: 0.9309 - acc: 0.0000e+0 - ETA: 2:56 - loss: 0.9317 - acc: 0.0000e+0 - ETA: 2:55 - loss: 0.9411 - acc: 0.0000e+0 - ETA: 2:53 - loss: 0.9410 - acc: 0.0000e+00"
     ]
    },
    {
     "name": "stderr",
     "output_type": "stream",
     "text": [
      "C:\\Users\\Thiago\\Anaconda3\\lib\\site-packages\\keras\\callbacks.py:122: UserWarning: Method on_batch_end() is slow compared to the batch update (0.524201). Check your callbacks.\n",
      "  % delta_t_median)\n"
     ]
    },
    {
     "name": "stdout",
     "output_type": "stream",
     "text": [
      " 97/256 [==========>...................] - ETA: 2:53 - loss: 0.9404 - acc: 0.0000e+0 - ETA: 2:53 - loss: 0.9344 - acc: 0.0000e+0 - ETA: 2:53 - loss: 0.9361 - acc: 0.0000e+0 - ETA: 2:53 - loss: 0.9291 - acc: 0.0000e+0 - ETA: 2:53 - loss: 0.9298 - acc: 0.0000e+0 - ETA: 2:53 - loss: 0.9212 - acc: 0.0000e+0 - ETA: 2:53 - loss: 0.9202 - acc: 0.0000e+0 - ETA: 2:52 - loss: 0.9144 - acc: 0.0000e+0 - ETA: 2:53 - loss: 0.9153 - acc: 0.0000e+0 - ETA: 2:53 - loss: 0.9189 - acc: 0.0000e+0 - ETA: 2:52 - loss: 0.9196 - acc: 0.0000e+0 - ETA: 2:52 - loss: 0.9182 - acc: 0.0000e+00"
     ]
    },
    {
     "name": "stderr",
     "output_type": "stream",
     "text": [
      "C:\\Users\\Thiago\\Anaconda3\\lib\\site-packages\\keras\\callbacks.py:122: UserWarning: Method on_batch_end() is slow compared to the batch update (0.654436). Check your callbacks.\n",
      "  % delta_t_median)\n"
     ]
    },
    {
     "name": "stdout",
     "output_type": "stream",
     "text": [
      "112/256 [============>.................] - ETA: 2:52 - loss: 0.9219 - acc: 0.0000e+0 - ETA: 2:51 - loss: 0.9143 - acc: 0.0000e+0 - ETA: 2:50 - loss: 0.9138 - acc: 0.0000e+0 - ETA: 2:48 - loss: 0.9139 - acc: 0.0000e+0 - ETA: 2:48 - loss: 0.9147 - acc: 0.0000e+0 - ETA: 2:47 - loss: 0.9185 - acc: 0.0000e+0 - ETA: 2:47 - loss: 0.9193 - acc: 0.0000e+0 - ETA: 2:46 - loss: 0.9204 - acc: 0.0000e+0 - ETA: 2:45 - loss: 0.9161 - acc: 0.0000e+0 - ETA: 2:44 - loss: 0.9194 - acc: 0.0000e+0 - ETA: 2:44 - loss: 0.9228 - acc: 0.0000e+0 - ETA: 2:42 - loss: 0.9243 - acc: 0.0000e+0 - ETA: 2:41 - loss: 0.9305 - acc: 0.0000e+0 - ETA: 2:39 - loss: 0.9262 - acc: 0.0000e+0 - ETA: 2:38 - loss: 0.9276 - acc: 0.0000e+00"
     ]
    },
    {
     "name": "stderr",
     "output_type": "stream",
     "text": [
      "C:\\Users\\Thiago\\Anaconda3\\lib\\site-packages\\keras\\callbacks.py:122: UserWarning: Method on_batch_end() is slow compared to the batch update (0.391719). Check your callbacks.\n",
      "  % delta_t_median)\n"
     ]
    },
    {
     "name": "stdout",
     "output_type": "stream",
     "text": [
      "113/256 [============>.................] - ETA: 2:36 - loss: 0.9271 - acc: 0.0000e+00"
     ]
    },
    {
     "name": "stderr",
     "output_type": "stream",
     "text": [
      "C:\\Users\\Thiago\\Anaconda3\\lib\\site-packages\\keras\\callbacks.py:122: UserWarning: Method on_batch_end() is slow compared to the batch update (0.389844). Check your callbacks.\n",
      "  % delta_t_median)\n"
     ]
    },
    {
     "name": "stdout",
     "output_type": "stream",
     "text": [
      "114/256 [============>.................] - ETA: 2:35 - loss: 0.9273 - acc: 0.0000e+00"
     ]
    },
    {
     "name": "stderr",
     "output_type": "stream",
     "text": [
      "C:\\Users\\Thiago\\Anaconda3\\lib\\site-packages\\keras\\callbacks.py:122: UserWarning: Method on_batch_end() is slow compared to the batch update (0.393436). Check your callbacks.\n",
      "  % delta_t_median)\n"
     ]
    },
    {
     "name": "stdout",
     "output_type": "stream",
     "text": [
      "115/256 [============>.................] - ETA: 2:33 - loss: 0.9233 - acc: 0.0000e+00"
     ]
    },
    {
     "name": "stderr",
     "output_type": "stream",
     "text": [
      "C:\\Users\\Thiago\\Anaconda3\\lib\\site-packages\\keras\\callbacks.py:122: UserWarning: Method on_batch_end() is slow compared to the batch update (0.421437). Check your callbacks.\n",
      "  % delta_t_median)\n"
     ]
    },
    {
     "name": "stdout",
     "output_type": "stream",
     "text": [
      "127/256 [=============>................] - ETA: 2:33 - loss: 0.9239 - acc: 0.0000e+0 - ETA: 2:32 - loss: 0.9202 - acc: 0.0000e+0 - ETA: 2:31 - loss: 0.9199 - acc: 0.0000e+0 - ETA: 2:31 - loss: 0.9216 - acc: 0.0000e+0 - ETA: 2:30 - loss: 0.9199 - acc: 0.0000e+0 - ETA: 2:29 - loss: 0.9204 - acc: 0.0000e+0 - ETA: 2:28 - loss: 0.9186 - acc: 0.0000e+0 - ETA: 2:28 - loss: 0.9193 - acc: 0.0000e+0 - ETA: 2:27 - loss: 0.9231 - acc: 0.0000e+0 - ETA: 2:26 - loss: 0.9207 - acc: 0.0000e+0 - ETA: 2:25 - loss: 0.9233 - acc: 0.0000e+0 - ETA: 2:23 - loss: 0.9192 - acc: 0.0000e+00"
     ]
    },
    {
     "name": "stderr",
     "output_type": "stream",
     "text": [
      "C:\\Users\\Thiago\\Anaconda3\\lib\\site-packages\\keras\\callbacks.py:122: UserWarning: Method on_batch_end() is slow compared to the batch update (0.478959). Check your callbacks.\n",
      "  % delta_t_median)\n"
     ]
    },
    {
     "name": "stdout",
     "output_type": "stream",
     "text": [
      "128/256 [==============>...............] - ETA: 2:22 - loss: 0.9219 - acc: 0.0000e+00"
     ]
    },
    {
     "name": "stderr",
     "output_type": "stream",
     "text": [
      "C:\\Users\\Thiago\\Anaconda3\\lib\\site-packages\\keras\\callbacks.py:122: UserWarning: Method on_batch_end() is slow compared to the batch update (0.412385). Check your callbacks.\n",
      "  % delta_t_median)\n"
     ]
    },
    {
     "name": "stdout",
     "output_type": "stream",
     "text": [
      "129/256 [==============>...............] - ETA: 2:20 - loss: 0.9238 - acc: 0.0000e+00"
     ]
    },
    {
     "name": "stderr",
     "output_type": "stream",
     "text": [
      "C:\\Users\\Thiago\\Anaconda3\\lib\\site-packages\\keras\\callbacks.py:122: UserWarning: Method on_batch_end() is slow compared to the batch update (0.458722). Check your callbacks.\n",
      "  % delta_t_median)\n"
     ]
    },
    {
     "name": "stdout",
     "output_type": "stream",
     "text": [
      "130/256 [==============>...............] - ETA: 2:19 - loss: 0.9242 - acc: 0.0000e+00"
     ]
    },
    {
     "name": "stderr",
     "output_type": "stream",
     "text": [
      "C:\\Users\\Thiago\\Anaconda3\\lib\\site-packages\\keras\\callbacks.py:122: UserWarning: Method on_batch_end() is slow compared to the batch update (0.337827). Check your callbacks.\n",
      "  % delta_t_median)\n"
     ]
    },
    {
     "name": "stdout",
     "output_type": "stream",
     "text": [
      "151/256 [================>.............] - ETA: 2:17 - loss: 0.9248 - acc: 0.0000e+0 - ETA: 2:17 - loss: 0.9248 - acc: 0.0000e+0 - ETA: 2:16 - loss: 0.9281 - acc: 0.0000e+0 - ETA: 2:15 - loss: 0.9282 - acc: 0.0000e+0 - ETA: 2:14 - loss: 0.9297 - acc: 0.0000e+0 - ETA: 2:14 - loss: 0.9302 - acc: 0.0000e+0 - ETA: 2:13 - loss: 0.9307 - acc: 0.0000e+0 - ETA: 2:12 - loss: 0.9312 - acc: 0.0000e+0 - ETA: 2:11 - loss: 0.9319 - acc: 0.0000e+0 - ETA: 2:10 - loss: 0.9320 - acc: 0.0000e+0 - ETA: 2:10 - loss: 0.9325 - acc: 0.0000e+0 - ETA: 2:08 - loss: 0.9331 - acc: 0.0000e+0 - ETA: 2:07 - loss: 0.9329 - acc: 0.0000e+0 - ETA: 2:05 - loss: 0.9369 - acc: 0.0000e+0 - ETA: 2:05 - loss: 0.9405 - acc: 0.0000e+0 - ETA: 2:04 - loss: 0.9403 - acc: 0.0000e+0 - ETA: 2:03 - loss: 0.9402 - acc: 0.0000e+0 - ETA: 2:02 - loss: 0.9386 - acc: 0.0000e+0 - ETA: 2:01 - loss: 0.9383 - acc: 0.0000e+0 - ETA: 1:59 - loss: 0.9387 - acc: 0.0000e+0 - ETA: 1:58 - loss: 0.9381 - acc: 0.0000e+00"
     ]
    },
    {
     "name": "stderr",
     "output_type": "stream",
     "text": [
      "C:\\Users\\Thiago\\Anaconda3\\lib\\site-packages\\keras\\callbacks.py:122: UserWarning: Method on_batch_end() is slow compared to the batch update (0.350024). Check your callbacks.\n",
      "  % delta_t_median)\n"
     ]
    },
    {
     "name": "stdout",
     "output_type": "stream",
     "text": [
      "168/256 [==================>...........] - ETA: 1:56 - loss: 0.9385 - acc: 0.0000e+0 - ETA: 1:55 - loss: 0.9388 - acc: 0.0000e+0 - ETA: 1:54 - loss: 0.9388 - acc: 0.0000e+0 - ETA: 1:52 - loss: 0.9402 - acc: 0.0000e+0 - ETA: 1:51 - loss: 0.9394 - acc: 0.0000e+0 - ETA: 1:49 - loss: 0.9386 - acc: 0.0000e+0 - ETA: 1:48 - loss: 0.9358 - acc: 0.0000e+0 - ETA: 1:46 - loss: 0.9354 - acc: 0.0000e+0 - ETA: 1:45 - loss: 0.9353 - acc: 0.0000e+0 - ETA: 1:44 - loss: 0.9348 - acc: 0.0000e+0 - ETA: 1:42 - loss: 0.9355 - acc: 0.0000e+0 - ETA: 1:41 - loss: 0.9353 - acc: 0.0000e+0 - ETA: 1:40 - loss: 0.9357 - acc: 0.0000e+0 - ETA: 1:38 - loss: 0.9357 - acc: 0.0000e+0 - ETA: 1:37 - loss: 0.9361 - acc: 0.0000e+0 - ETA: 1:36 - loss: 0.9367 - acc: 0.0000e+0 - ETA: 1:34 - loss: 0.9366 - acc: 0.0000e+00"
     ]
    },
    {
     "name": "stderr",
     "output_type": "stream",
     "text": [
      "C:\\Users\\Thiago\\Anaconda3\\lib\\site-packages\\keras\\callbacks.py:122: UserWarning: Method on_batch_end() is slow compared to the batch update (0.334025). Check your callbacks.\n",
      "  % delta_t_median)\n"
     ]
    },
    {
     "name": "stdout",
     "output_type": "stream",
     "text": [
      "170/256 [==================>...........] - ETA: 1:33 - loss: 0.9360 - acc: 0.0000e+0 - ETA: 1:32 - loss: 0.9364 - acc: 0.0000e+00"
     ]
    },
    {
     "name": "stderr",
     "output_type": "stream",
     "text": [
      "C:\\Users\\Thiago\\Anaconda3\\lib\\site-packages\\keras\\callbacks.py:122: UserWarning: Method on_batch_end() is slow compared to the batch update (0.358198). Check your callbacks.\n",
      "  % delta_t_median)\n"
     ]
    },
    {
     "name": "stdout",
     "output_type": "stream",
     "text": [
      "171/256 [===================>..........] - ETA: 1:31 - loss: 0.9362 - acc: 0.0000e+00"
     ]
    },
    {
     "name": "stderr",
     "output_type": "stream",
     "text": [
      "C:\\Users\\Thiago\\Anaconda3\\lib\\site-packages\\keras\\callbacks.py:122: UserWarning: Method on_batch_end() is slow compared to the batch update (0.420858). Check your callbacks.\n",
      "  % delta_t_median)\n"
     ]
    },
    {
     "name": "stdout",
     "output_type": "stream",
     "text": [
      "176/256 [===================>..........] - ETA: 1:30 - loss: 0.9349 - acc: 0.0000e+0 - ETA: 1:29 - loss: 0.9357 - acc: 0.0000e+0 - ETA: 1:27 - loss: 0.9360 - acc: 0.0000e+0 - ETA: 1:26 - loss: 0.9378 - acc: 0.0000e+0 - ETA: 1:25 - loss: 0.9378 - acc: 0.0000e+00"
     ]
    },
    {
     "name": "stderr",
     "output_type": "stream",
     "text": [
      "C:\\Users\\Thiago\\Anaconda3\\lib\\site-packages\\keras\\callbacks.py:122: UserWarning: Method on_batch_end() is slow compared to the batch update (0.352195). Check your callbacks.\n",
      "  % delta_t_median)\n"
     ]
    },
    {
     "name": "stdout",
     "output_type": "stream",
     "text": [
      "180/256 [====================>.........] - ETA: 1:23 - loss: 0.9398 - acc: 0.0000e+0 - ETA: 1:22 - loss: 0.9417 - acc: 0.0000e+0 - ETA: 1:21 - loss: 0.9421 - acc: 0.0000e+0 - ETA: 1:20 - loss: 0.9424 - acc: 0.0000e+00"
     ]
    },
    {
     "name": "stderr",
     "output_type": "stream",
     "text": [
      "C:\\Users\\Thiago\\Anaconda3\\lib\\site-packages\\keras\\callbacks.py:122: UserWarning: Method on_batch_end() is slow compared to the batch update (0.372027). Check your callbacks.\n",
      "  % delta_t_median)\n"
     ]
    },
    {
     "name": "stdout",
     "output_type": "stream",
     "text": [
      "215/256 [========================>.....] - ETA: 1:19 - loss: 0.9424 - acc: 0.0000e+0 - ETA: 1:18 - loss: 0.9437 - acc: 0.0000e+0 - ETA: 1:17 - loss: 0.9441 - acc: 0.0000e+0 - ETA: 1:16 - loss: 0.9451 - acc: 0.0000e+0 - ETA: 1:15 - loss: 0.9478 - acc: 0.0000e+0 - ETA: 1:13 - loss: 0.9473 - acc: 0.0000e+0 - ETA: 1:12 - loss: 0.9475 - acc: 0.0000e+0 - ETA: 1:11 - loss: 0.9480 - acc: 0.0000e+0 - ETA: 1:10 - loss: 0.9483 - acc: 0.0000e+0 - ETA: 1:08 - loss: 0.9485 - acc: 0.0000e+0 - ETA: 1:07 - loss: 0.9488 - acc: 0.0000e+0 - ETA: 1:06 - loss: 0.9486 - acc: 0.0000e+0 - ETA: 1:05 - loss: 0.9487 - acc: 0.0000e+0 - ETA: 1:04 - loss: 0.9477 - acc: 0.0000e+0 - ETA: 1:03 - loss: 0.9477 - acc: 0.0000e+0 - ETA: 1:01 - loss: 0.9478 - acc: 0.0000e+0 - ETA: 1:00 - loss: 0.9461 - acc: 0.0000e+0 - ETA: 59s - loss: 0.9473 - acc: 0.0000e+0 - ETA: 58s - loss: 0.9472 - acc: 0.0000e+ - ETA: 57s - loss: 0.9474 - acc: 0.0000e+ - ETA: 56s - loss: 0.9473 - acc: 0.0000e+ - ETA: 56s - loss: 0.9469 - acc: 0.0000e+ - ETA: 55s - loss: 0.9468 - acc: 0.0000e+ - ETA: 54s - loss: 0.9473 - acc: 0.0000e+ - ETA: 53s - loss: 0.9451 - acc: 0.0000e+ - ETA: 52s - loss: 0.9456 - acc: 0.0000e+ - ETA: 51s - loss: 0.9458 - acc: 0.0000e+ - ETA: 50s - loss: 0.9461 - acc: 0.0000e+ - ETA: 49s - loss: 0.9483 - acc: 0.0000e+ - ETA: 48s - loss: 0.9485 - acc: 0.0000e+ - ETA: 47s - loss: 0.9487 - acc: 0.0000e+ - ETA: 47s - loss: 0.9489 - acc: 0.0000e+ - ETA: 46s - loss: 0.9495 - acc: 0.0000e+ - ETA: 45s - loss: 0.9497 - acc: 0.0000e+ - ETA: 44s - loss: 0.9498 - acc: 0.0000e+00"
     ]
    },
    {
     "name": "stderr",
     "output_type": "stream",
     "text": [
      "C:\\Users\\Thiago\\Anaconda3\\lib\\site-packages\\keras\\callbacks.py:122: UserWarning: Method on_batch_end() is slow compared to the batch update (0.746971). Check your callbacks.\n",
      "  % delta_t_median)\n"
     ]
    },
    {
     "name": "stdout",
     "output_type": "stream",
     "text": [
      "217/256 [========================>.....] - ETA: 43s - loss: 0.9496 - acc: 0.0000e+ - ETA: 41s - loss: 0.9499 - acc: 0.0000e+00"
     ]
    },
    {
     "name": "stderr",
     "output_type": "stream",
     "text": [
      "C:\\Users\\Thiago\\Anaconda3\\lib\\site-packages\\keras\\callbacks.py:122: UserWarning: Method on_batch_end() is slow compared to the batch update (0.731072). Check your callbacks.\n",
      "  % delta_t_median)\n"
     ]
    },
    {
     "name": "stdout",
     "output_type": "stream",
     "text": [
      "218/256 [========================>.....] - ETA: 40s - loss: 0.9498 - acc: 0.0000e+00"
     ]
    },
    {
     "name": "stderr",
     "output_type": "stream",
     "text": [
      "C:\\Users\\Thiago\\Anaconda3\\lib\\site-packages\\keras\\callbacks.py:122: UserWarning: Method on_batch_end() is slow compared to the batch update (0.727033). Check your callbacks.\n",
      "  % delta_t_median)\n"
     ]
    },
    {
     "name": "stdout",
     "output_type": "stream",
     "text": [
      "219/256 [========================>.....] - ETA: 39s - loss: 0.9504 - acc: 0.0000e+00"
     ]
    },
    {
     "name": "stderr",
     "output_type": "stream",
     "text": [
      "C:\\Users\\Thiago\\Anaconda3\\lib\\site-packages\\keras\\callbacks.py:122: UserWarning: Method on_batch_end() is slow compared to the batch update (0.631390). Check your callbacks.\n",
      "  % delta_t_median)\n"
     ]
    },
    {
     "name": "stdout",
     "output_type": "stream",
     "text": [
      "220/256 [========================>.....] - ETA: 38s - loss: 0.9505 - acc: 0.0000e+00"
     ]
    },
    {
     "name": "stderr",
     "output_type": "stream",
     "text": [
      "C:\\Users\\Thiago\\Anaconda3\\lib\\site-packages\\keras\\callbacks.py:122: UserWarning: Method on_batch_end() is slow compared to the batch update (0.541674). Check your callbacks.\n",
      "  % delta_t_median)\n"
     ]
    },
    {
     "name": "stdout",
     "output_type": "stream",
     "text": [
      "221/256 [========================>.....] - ETA: 37s - loss: 0.9504 - acc: 0.0000e+00"
     ]
    },
    {
     "name": "stderr",
     "output_type": "stream",
     "text": [
      "C:\\Users\\Thiago\\Anaconda3\\lib\\site-packages\\keras\\callbacks.py:122: UserWarning: Method on_batch_end() is slow compared to the batch update (0.523320). Check your callbacks.\n",
      "  % delta_t_median)\n"
     ]
    },
    {
     "name": "stdout",
     "output_type": "stream",
     "text": [
      "222/256 [=========================>....] - ETA: 36s - loss: 0.9506 - acc: 0.0000e+00"
     ]
    },
    {
     "name": "stderr",
     "output_type": "stream",
     "text": [
      "C:\\Users\\Thiago\\Anaconda3\\lib\\site-packages\\keras\\callbacks.py:122: UserWarning: Method on_batch_end() is slow compared to the batch update (0.449322). Check your callbacks.\n",
      "  % delta_t_median)\n"
     ]
    },
    {
     "name": "stdout",
     "output_type": "stream",
     "text": [
      "224/256 [=========================>....] - ETA: 35s - loss: 0.9508 - acc: 0.0000e+ - ETA: 34s - loss: 0.9504 - acc: 0.0000e+00"
     ]
    },
    {
     "name": "stderr",
     "output_type": "stream",
     "text": [
      "C:\\Users\\Thiago\\Anaconda3\\lib\\site-packages\\keras\\callbacks.py:122: UserWarning: Method on_batch_end() is slow compared to the batch update (0.374200). Check your callbacks.\n",
      "  % delta_t_median)\n"
     ]
    },
    {
     "name": "stdout",
     "output_type": "stream",
     "text": [
      "256/256 [==============================] - ETA: 32s - loss: 0.9510 - acc: 0.0000e+ - ETA: 31s - loss: 0.9512 - acc: 0.0000e+ - ETA: 30s - loss: 0.9513 - acc: 0.0000e+ - ETA: 29s - loss: 0.9515 - acc: 0.0000e+ - ETA: 28s - loss: 0.9519 - acc: 0.0000e+ - ETA: 27s - loss: 0.9523 - acc: 0.0000e+ - ETA: 26s - loss: 0.9523 - acc: 0.0000e+ - ETA: 25s - loss: 0.9526 - acc: 0.0000e+ - ETA: 24s - loss: 0.9523 - acc: 0.0000e+ - ETA: 23s - loss: 0.9525 - acc: 0.0000e+ - ETA: 22s - loss: 0.9526 - acc: 0.0000e+ - ETA: 21s - loss: 0.9530 - acc: 0.0000e+ - ETA: 19s - loss: 0.9530 - acc: 0.0000e+ - ETA: 18s - loss: 0.9532 - acc: 0.0000e+ - ETA: 17s - loss: 0.9532 - acc: 0.0000e+ - ETA: 16s - loss: 0.9534 - acc: 0.0000e+ - ETA: 15s - loss: 0.9537 - acc: 0.0000e+ - ETA: 14s - loss: 0.9539 - acc: 0.0000e+ - ETA: 13s - loss: 0.9538 - acc: 0.0000e+ - ETA: 12s - loss: 0.9542 - acc: 0.0000e+ - ETA: 11s - loss: 0.9541 - acc: 0.0000e+ - ETA: 10s - loss: 0.9543 - acc: 0.0000e+ - ETA: 9s - loss: 0.9547 - acc: 0.0000e+00 - ETA: 8s - loss: 0.9570 - acc: 0.0000e+0 - ETA: 7s - loss: 0.9572 - acc: 0.0000e+0 - ETA: 6s - loss: 0.9574 - acc: 0.0000e+0 - ETA: 5s - loss: 0.9575 - acc: 0.0000e+0 - ETA: 4s - loss: 0.9574 - acc: 0.0000e+0 - ETA: 3s - loss: 0.9577 - acc: 0.0000e+0 - ETA: 2s - loss: 0.9572 - acc: 0.0000e+0 - ETA: 1s - loss: 0.9574 - acc: 0.0000e+0 - 297s 1s/step - loss: 0.9569 - acc: 0.0000e+00 - val_loss: 0.9579 - val_acc: 0.0000e+00\n",
      "Epoch 3/100\n",
      " 90/256 [=========>....................] - ETA: 1:37 - loss: 0.9840 - acc: 0.0000e+0 - ETA: 2:09 - loss: 0.9022 - acc: 0.0000e+0 - ETA: 2:17 - loss: 0.9415 - acc: 0.0000e+0 - ETA: 2:17 - loss: 0.9561 - acc: 0.0000e+0 - ETA: 2:19 - loss: 0.9606 - acc: 0.0000e+0 - ETA: 2:19 - loss: 0.9354 - acc: 0.0000e+0 - ETA: 2:21 - loss: 0.9485 - acc: 0.0000e+0 - ETA: 2:21 - loss: 0.9340 - acc: 0.0000e+0 - ETA: 2:21 - loss: 0.9413 - acc: 0.0000e+0 - ETA: 2:47 - loss: 0.9115 - acc: 0.0000e+0 - ETA: 2:51 - loss: 0.9008 - acc: 0.0000e+0 - ETA: 2:55 - loss: 0.9025 - acc: 0.0000e+0 - ETA: 2:52 - loss: 0.9174 - acc: 0.0000e+0 - ETA: 2:51 - loss: 0.9233 - acc: 0.0000e+0 - ETA: 2:57 - loss: 0.9007 - acc: 0.0000e+0 - ETA: 3:00 - loss: 0.9069 - acc: 0.0000e+0 - ETA: 3:01 - loss: 0.9119 - acc: 0.0000e+0 - ETA: 2:56 - loss: 0.9168 - acc: 0.0000e+0 - ETA: 2:54 - loss: 0.9189 - acc: 0.0000e+0 - ETA: 3:02 - loss: 0.9370 - acc: 0.0000e+0 - ETA: 3:07 - loss: 0.9087 - acc: 0.0000e+0 - ETA: 3:10 - loss: 0.9129 - acc: 0.0000e+0 - ETA: 3:10 - loss: 0.8879 - acc: 0.0000e+0 - ETA: 3:08 - loss: 0.9142 - acc: 0.0000e+0 - ETA: 3:09 - loss: 0.9186 - acc: 0.0000e+0 - ETA: 3:11 - loss: 0.9203 - acc: 0.0000e+0 - ETA: 3:10 - loss: 0.9396 - acc: 0.0000e+0 - ETA: 3:07 - loss: 0.9322 - acc: 0.0000e+0 - ETA: 3:06 - loss: 0.9315 - acc: 0.0000e+0 - ETA: 3:05 - loss: 0.9338 - acc: 0.0000e+0 - ETA: 3:03 - loss: 0.9463 - acc: 0.0000e+0 - ETA: 3:00 - loss: 0.9356 - acc: 0.0000e+0 - ETA: 2:57 - loss: 0.9393 - acc: 0.0000e+0 - ETA: 3:01 - loss: 0.9411 - acc: 0.0000e+0 - ETA: 3:04 - loss: 0.9420 - acc: 0.0000e+0 - ETA: 3:05 - loss: 0.9436 - acc: 0.0000e+0 - ETA: 3:04 - loss: 0.9418 - acc: 0.0000e+0 - ETA: 3:02 - loss: 0.9433 - acc: 0.0000e+0 - ETA: 3:01 - loss: 0.9415 - acc: 0.0000e+0 - ETA: 2:59 - loss: 0.9506 - acc: 0.0000e+0 - ETA: 3:02 - loss: 0.9372 - acc: 0.0000e+0 - ETA: 3:04 - loss: 0.9308 - acc: 0.0000e+0 - ETA: 3:05 - loss: 0.9151 - acc: 0.0000e+0 - ETA: 3:03 - loss: 0.9167 - acc: 0.0000e+0 - ETA: 3:02 - loss: 0.9190 - acc: 0.0000e+0 - ETA: 3:00 - loss: 0.9213 - acc: 0.0000e+0 - ETA: 2:59 - loss: 0.9271 - acc: 0.0000e+0 - ETA: 2:57 - loss: 0.9337 - acc: 0.0000e+0 - ETA: 2:55 - loss: 0.9226 - acc: 0.0000e+0 - ETA: 2:53 - loss: 0.9083 - acc: 0.0000e+0 - ETA: 2:51 - loss: 0.8978 - acc: 0.0000e+0 - ETA: 2:51 - loss: 0.8887 - acc: 0.0000e+0 - ETA: 2:50 - loss: 0.8896 - acc: 0.0000e+0 - ETA: 2:49 - loss: 0.8914 - acc: 0.0000e+0 - ETA: 2:48 - loss: 0.8915 - acc: 0.0000e+0 - ETA: 2:49 - loss: 0.9030 - acc: 0.0000e+0 - ETA: 2:50 - loss: 0.9003 - acc: 0.0000e+0 - ETA: 2:52 - loss: 0.9044 - acc: 0.0000e+0 - ETA: 2:53 - loss: 0.8905 - acc: 0.0000e+0 - ETA: 2:53 - loss: 0.8956 - acc: 0.0000e+0 - ETA: 2:53 - loss: 0.9086 - acc: 0.0000e+0 - ETA: 2:52 - loss: 0.9101 - acc: 0.0000e+0 - ETA: 2:50 - loss: 0.8979 - acc: 0.0000e+0 - ETA: 2:49 - loss: 0.8982 - acc: 0.0000e+0 - ETA: 2:49 - loss: 0.9004 - acc: 0.0000e+0 - ETA: 2:48 - loss: 0.8988 - acc: 0.0000e+0 - ETA: 2:47 - loss: 0.9042 - acc: 0.0000e+0 - ETA: 2:45 - loss: 0.9007 - acc: 0.0000e+0 - ETA: 2:46 - loss: 0.9004 - acc: 0.0000e+0 - ETA: 2:45 - loss: 0.8936 - acc: 0.0000e+0 - ETA: 2:46 - loss: 0.8936 - acc: 0.0000e+0 - ETA: 2:46 - loss: 0.8826 - acc: 0.0000e+0 - ETA: 2:45 - loss: 0.8842 - acc: 0.0000e+0 - ETA: 2:45 - loss: 0.8807 - acc: 0.0000e+0 - ETA: 2:44 - loss: 0.8818 - acc: 0.0000e+0 - ETA: 2:42 - loss: 0.8727 - acc: 0.0000e+0 - ETA: 2:43 - loss: 0.8744 - acc: 0.0000e+0 - ETA: 2:43 - loss: 0.8652 - acc: 0.0000e+0 - ETA: 2:42 - loss: 0.8690 - acc: 0.0000e+0 - ETA: 2:42 - loss: 0.8599 - acc: 0.0000e+0 - ETA: 2:41 - loss: 0.8603 - acc: 0.0000e+0 - ETA: 2:41 - loss: 0.8619 - acc: 0.0000e+0 - ETA: 2:42 - loss: 0.8656 - acc: 0.0000e+0 - ETA: 2:42 - loss: 0.8710 - acc: 0.0000e+0 - ETA: 2:41 - loss: 0.8725 - acc: 0.0000e+0 - ETA: 2:41 - loss: 0.8749 - acc: 0.0000e+0 - ETA: 2:40 - loss: 0.8769 - acc: 0.0000e+0 - ETA: 2:38 - loss: 0.8783 - acc: 0.0114    - ETA: 2:37 - loss: 0.8797 - acc: 0.022 - ETA: 2:35 - loss: 0.8808 - acc: 0.0222"
     ]
    },
    {
     "name": "stderr",
     "output_type": "stream",
     "text": [
      "C:\\Users\\Thiago\\Anaconda3\\lib\\site-packages\\keras\\callbacks.py:122: UserWarning: Method on_batch_end() is slow compared to the batch update (0.344023). Check your callbacks.\n",
      "  % delta_t_median)\n"
     ]
    },
    {
     "name": "stdout",
     "output_type": "stream",
     "text": [
      " 92/256 [=========>....................] - ETA: 2:34 - loss: 0.8808 - acc: 0.022 - ETA: 2:32 - loss: 0.8806 - acc: 0.0217"
     ]
    },
    {
     "name": "stderr",
     "output_type": "stream",
     "text": [
      "C:\\Users\\Thiago\\Anaconda3\\lib\\site-packages\\keras\\callbacks.py:122: UserWarning: Method on_batch_end() is slow compared to the batch update (0.364037). Check your callbacks.\n",
      "  % delta_t_median)\n"
     ]
    },
    {
     "name": "stdout",
     "output_type": "stream",
     "text": [
      "100/256 [==========>...................] - ETA: 2:33 - loss: 0.8813 - acc: 0.021 - ETA: 2:32 - loss: 0.8775 - acc: 0.021 - ETA: 2:32 - loss: 0.8742 - acc: 0.021 - ETA: 2:31 - loss: 0.8753 - acc: 0.031 - ETA: 2:30 - loss: 0.8739 - acc: 0.030 - ETA: 2:29 - loss: 0.8751 - acc: 0.040 - ETA: 2:27 - loss: 0.8764 - acc: 0.050 - ETA: 2:26 - loss: 0.8802 - acc: 0.0500"
     ]
    },
    {
     "name": "stderr",
     "output_type": "stream",
     "text": [
      "C:\\Users\\Thiago\\Anaconda3\\lib\\site-packages\\keras\\callbacks.py:122: UserWarning: Method on_batch_end() is slow compared to the batch update (0.332024). Check your callbacks.\n",
      "  % delta_t_median)\n"
     ]
    },
    {
     "name": "stdout",
     "output_type": "stream",
     "text": [
      "101/256 [==========>...................] - ETA: 2:25 - loss: 0.8760 - acc: 0.0594"
     ]
    },
    {
     "name": "stderr",
     "output_type": "stream",
     "text": [
      "C:\\Users\\Thiago\\Anaconda3\\lib\\site-packages\\keras\\callbacks.py:122: UserWarning: Method on_batch_end() is slow compared to the batch update (0.336025). Check your callbacks.\n",
      "  % delta_t_median)\n"
     ]
    },
    {
     "name": "stdout",
     "output_type": "stream",
     "text": [
      "110/256 [===========>..................] - ETA: 2:24 - loss: 0.8769 - acc: 0.068 - ETA: 2:24 - loss: 0.8781 - acc: 0.077 - ETA: 2:23 - loss: 0.8815 - acc: 0.076 - ETA: 2:23 - loss: 0.8826 - acc: 0.085 - ETA: 2:21 - loss: 0.8817 - acc: 0.094 - ETA: 2:20 - loss: 0.8823 - acc: 0.102 - ETA: 2:19 - loss: 0.8794 - acc: 0.111 - ETA: 2:17 - loss: 0.8734 - acc: 0.119 - ETA: 2:16 - loss: 0.8733 - acc: 0.1182"
     ]
    },
    {
     "name": "stderr",
     "output_type": "stream",
     "text": [
      "C:\\Users\\Thiago\\Anaconda3\\lib\\site-packages\\keras\\callbacks.py:122: UserWarning: Method on_batch_end() is slow compared to the batch update (0.312023). Check your callbacks.\n",
      "  % delta_t_median)\n"
     ]
    },
    {
     "name": "stdout",
     "output_type": "stream",
     "text": [
      "121/256 [=============>................] - ETA: 2:15 - loss: 0.8735 - acc: 0.117 - ETA: 2:14 - loss: 0.8696 - acc: 0.125 - ETA: 2:14 - loss: 0.8703 - acc: 0.123 - ETA: 2:13 - loss: 0.8693 - acc: 0.122 - ETA: 2:12 - loss: 0.8624 - acc: 0.130 - ETA: 2:11 - loss: 0.8627 - acc: 0.129 - ETA: 2:11 - loss: 0.8637 - acc: 0.136 - ETA: 2:09 - loss: 0.8648 - acc: 0.135 - ETA: 2:08 - loss: 0.8651 - acc: 0.134 - ETA: 2:07 - loss: 0.8626 - acc: 0.141 - ETA: 2:06 - loss: 0.8646 - acc: 0.1405"
     ]
    },
    {
     "name": "stderr",
     "output_type": "stream",
     "text": [
      "C:\\Users\\Thiago\\Anaconda3\\lib\\site-packages\\keras\\callbacks.py:122: UserWarning: Method on_batch_end() is slow compared to the batch update (0.358027). Check your callbacks.\n",
      "  % delta_t_median)\n"
     ]
    },
    {
     "name": "stdout",
     "output_type": "stream",
     "text": [
      "122/256 [=============>................] - ETA: 2:05 - loss: 0.8652 - acc: 0.1393"
     ]
    },
    {
     "name": "stderr",
     "output_type": "stream",
     "text": [
      "C:\\Users\\Thiago\\Anaconda3\\lib\\site-packages\\keras\\callbacks.py:122: UserWarning: Method on_batch_end() is slow compared to the batch update (0.346032). Check your callbacks.\n",
      "  % delta_t_median)\n"
     ]
    },
    {
     "name": "stdout",
     "output_type": "stream",
     "text": [
      "256/256 [==============================] - ETA: 2:03 - loss: 0.8648 - acc: 0.146 - ETA: 2:02 - loss: 0.8660 - acc: 0.153 - ETA: 2:02 - loss: 0.8645 - acc: 0.160 - ETA: 2:02 - loss: 0.8657 - acc: 0.158 - ETA: 2:01 - loss: 0.8672 - acc: 0.157 - ETA: 2:01 - loss: 0.8679 - acc: 0.164 - ETA: 2:01 - loss: 0.8679 - acc: 0.170 - ETA: 2:00 - loss: 0.8672 - acc: 0.169 - ETA: 1:59 - loss: 0.8639 - acc: 0.175 - ETA: 1:58 - loss: 0.8624 - acc: 0.181 - ETA: 1:57 - loss: 0.8588 - acc: 0.180 - ETA: 1:56 - loss: 0.8646 - acc: 0.186 - ETA: 1:56 - loss: 0.8669 - acc: 0.192 - ETA: 1:56 - loss: 0.8630 - acc: 0.198 - ETA: 1:55 - loss: 0.8640 - acc: 0.204 - ETA: 1:55 - loss: 0.8646 - acc: 0.210 - ETA: 1:54 - loss: 0.8650 - acc: 0.215 - ETA: 1:54 - loss: 0.8675 - acc: 0.221 - ETA: 1:53 - loss: 0.8722 - acc: 0.227 - ETA: 1:53 - loss: 0.8731 - acc: 0.232 - ETA: 1:52 - loss: 0.8753 - acc: 0.237 - ETA: 1:51 - loss: 0.8812 - acc: 0.243 - ETA: 1:50 - loss: 0.8800 - acc: 0.248 - ETA: 1:49 - loss: 0.8808 - acc: 0.253 - ETA: 1:48 - loss: 0.8815 - acc: 0.258 - ETA: 1:47 - loss: 0.8771 - acc: 0.263 - ETA: 1:46 - loss: 0.8759 - acc: 0.268 - ETA: 1:45 - loss: 0.8729 - acc: 0.273 - ETA: 1:43 - loss: 0.8791 - acc: 0.278 - ETA: 1:43 - loss: 0.8828 - acc: 0.282 - ETA: 1:42 - loss: 0.8832 - acc: 0.287 - ETA: 1:41 - loss: 0.8840 - acc: 0.292 - ETA: 1:40 - loss: 0.8848 - acc: 0.296 - ETA: 1:39 - loss: 0.8830 - acc: 0.301 - ETA: 1:38 - loss: 0.8836 - acc: 0.305 - ETA: 1:38 - loss: 0.8835 - acc: 0.310 - ETA: 1:37 - loss: 0.8840 - acc: 0.314 - ETA: 1:36 - loss: 0.8891 - acc: 0.318 - ETA: 1:35 - loss: 0.8898 - acc: 0.323 - ETA: 1:34 - loss: 0.8879 - acc: 0.327 - ETA: 1:33 - loss: 0.8835 - acc: 0.331 - ETA: 1:32 - loss: 0.8842 - acc: 0.335 - ETA: 1:31 - loss: 0.8826 - acc: 0.339 - ETA: 1:30 - loss: 0.8843 - acc: 0.343 - ETA: 1:29 - loss: 0.8866 - acc: 0.347 - ETA: 1:28 - loss: 0.8872 - acc: 0.351 - ETA: 1:27 - loss: 0.8841 - acc: 0.355 - ETA: 1:27 - loss: 0.8821 - acc: 0.358 - ETA: 1:26 - loss: 0.8805 - acc: 0.362 - ETA: 1:25 - loss: 0.8832 - acc: 0.366 - ETA: 1:25 - loss: 0.8788 - acc: 0.369 - ETA: 1:24 - loss: 0.8795 - acc: 0.373 - ETA: 1:23 - loss: 0.8808 - acc: 0.377 - ETA: 1:22 - loss: 0.8763 - acc: 0.380 - ETA: 1:22 - loss: 0.8742 - acc: 0.384 - ETA: 1:21 - loss: 0.8754 - acc: 0.387 - ETA: 1:20 - loss: 0.8759 - acc: 0.391 - ETA: 1:19 - loss: 0.8766 - acc: 0.394 - ETA: 1:18 - loss: 0.8766 - acc: 0.397 - ETA: 1:17 - loss: 0.8772 - acc: 0.401 - ETA: 1:17 - loss: 0.8761 - acc: 0.404 - ETA: 1:16 - loss: 0.8715 - acc: 0.407 - ETA: 1:15 - loss: 0.8722 - acc: 0.410 - ETA: 1:14 - loss: 0.8718 - acc: 0.414 - ETA: 1:12 - loss: 0.8686 - acc: 0.417 - ETA: 1:11 - loss: 0.8693 - acc: 0.420 - ETA: 1:10 - loss: 0.8704 - acc: 0.423 - ETA: 1:09 - loss: 0.8703 - acc: 0.426 - ETA: 1:08 - loss: 0.8761 - acc: 0.429 - ETA: 1:07 - loss: 0.8774 - acc: 0.432 - ETA: 1:06 - loss: 0.8738 - acc: 0.435 - ETA: 1:05 - loss: 0.8771 - acc: 0.438 - ETA: 1:04 - loss: 0.8786 - acc: 0.435 - ETA: 1:03 - loss: 0.8755 - acc: 0.438 - ETA: 1:02 - loss: 0.8784 - acc: 0.441 - ETA: 1:01 - loss: 0.8790 - acc: 0.444 - ETA: 1:00 - loss: 0.8794 - acc: 0.442 - ETA: 59s - loss: 0.8812 - acc: 0.445 - ETA: 58s - loss: 0.8803 - acc: 0.44 - ETA: 57s - loss: 0.8809 - acc: 0.45 - ETA: 56s - loss: 0.8831 - acc: 0.45 - ETA: 55s - loss: 0.8850 - acc: 0.45 - ETA: 54s - loss: 0.8856 - acc: 0.45 - ETA: 53s - loss: 0.8862 - acc: 0.46 - ETA: 52s - loss: 0.8900 - acc: 0.46 - ETA: 51s - loss: 0.8867 - acc: 0.46 - ETA: 50s - loss: 0.8888 - acc: 0.46 - ETA: 49s - loss: 0.8900 - acc: 0.46 - ETA: 48s - loss: 0.8918 - acc: 0.46 - ETA: 47s - loss: 0.8907 - acc: 0.47 - ETA: 46s - loss: 0.8910 - acc: 0.47 - ETA: 45s - loss: 0.8911 - acc: 0.47 - ETA: 44s - loss: 0.8913 - acc: 0.47 - ETA: 43s - loss: 0.8880 - acc: 0.48 - ETA: 42s - loss: 0.8881 - acc: 0.48 - ETA: 41s - loss: 0.8886 - acc: 0.48 - ETA: 40s - loss: 0.8877 - acc: 0.48 - ETA: 39s - loss: 0.8863 - acc: 0.49 - ETA: 38s - loss: 0.8842 - acc: 0.49 - ETA: 36s - loss: 0.8845 - acc: 0.49 - ETA: 35s - loss: 0.8850 - acc: 0.49 - ETA: 34s - loss: 0.8854 - acc: 0.50 - ETA: 33s - loss: 0.8860 - acc: 0.50 - ETA: 32s - loss: 0.8858 - acc: 0.50 - ETA: 31s - loss: 0.8857 - acc: 0.50 - ETA: 30s - loss: 0.8863 - acc: 0.50 - ETA: 29s - loss: 0.8859 - acc: 0.51 - ETA: 28s - loss: 0.8864 - acc: 0.51 - ETA: 27s - loss: 0.8869 - acc: 0.51 - ETA: 25s - loss: 0.8873 - acc: 0.51 - ETA: 24s - loss: 0.8878 - acc: 0.51 - ETA: 23s - loss: 0.8883 - acc: 0.52 - ETA: 22s - loss: 0.8888 - acc: 0.52 - ETA: 21s - loss: 0.8889 - acc: 0.52 - ETA: 20s - loss: 0.8894 - acc: 0.52 - ETA: 19s - loss: 0.8895 - acc: 0.52 - ETA: 18s - loss: 0.8911 - acc: 0.52 - ETA: 17s - loss: 0.8916 - acc: 0.52 - ETA: 16s - loss: 0.8922 - acc: 0.53 - ETA: 15s - loss: 0.8931 - acc: 0.52 - ETA: 13s - loss: 0.8919 - acc: 0.53 - ETA: 12s - loss: 0.8926 - acc: 0.53 - ETA: 11s - loss: 0.8926 - acc: 0.53 - ETA: 10s - loss: 0.8931 - acc: 0.53 - ETA: 9s - loss: 0.8935 - acc: 0.5385 - ETA: 8s - loss: 0.8939 - acc: 0.540 - ETA: 7s - loss: 0.8941 - acc: 0.542 - ETA: 6s - loss: 0.8924 - acc: 0.544 - ETA: 5s - loss: 0.8930 - acc: 0.545 - ETA: 4s - loss: 0.8958 - acc: 0.547 - ETA: 3s - loss: 0.8929 - acc: 0.549 - ETA: 2s - loss: 0.8911 - acc: 0.547 - ETA: 1s - loss: 0.8915 - acc: 0.545 - 294s 1s/step - loss: 0.8924 - acc: 0.5469 - val_loss: 0.8642 - val_acc: 0.8203\n",
      "Epoch 4/100\n",
      " 28/256 [==>...........................] - ETA: 1:37 - loss: 0.6933 - acc: 1.000 - ETA: 2:05 - loss: 0.7093 - acc: 1.000 - ETA: 2:17 - loss: 0.5069 - acc: 1.000 - ETA: 2:07 - loss: 0.5707 - acc: 1.000 - ETA: 2:23 - loss: 0.6632 - acc: 1.000 - ETA: 2:21 - loss: 0.5658 - acc: 1.000 - ETA: 2:20 - loss: 0.5133 - acc: 1.000 - ETA: 2:21 - loss: 0.4837 - acc: 1.000 - ETA: 2:43 - loss: 0.5413 - acc: 0.888 - ETA: 2:52 - loss: 0.5197 - acc: 0.900 - ETA: 2:51 - loss: 0.5082 - acc: 0.909 - ETA: 2:47 - loss: 0.5470 - acc: 0.916 - ETA: 2:52 - loss: 0.5100 - acc: 0.923 - ETA: 2:48 - loss: 0.5450 - acc: 0.928 - ETA: 2:48 - loss: 0.5609 - acc: 0.933 - ETA: 2:42 - loss: 0.5338 - acc: 0.937 - ETA: 2:40 - loss: 0.5548 - acc: 0.941 - ETA: 2:40 - loss: 0.5241 - acc: 0.944 - ETA: 2:35 - loss: 0.5146 - acc: 0.947 - ETA: 2:35 - loss: 0.5380 - acc: 0.900 - ETA: 2:45 - loss: 0.5791 - acc: 0.904 - ETA: 2:47 - loss: 0.5535 - acc: 0.909 - ETA: 2:50 - loss: 0.5962 - acc: 0.869 - ETA: 2:53 - loss: 0.5969 - acc: 0.875 - ETA: 2:54 - loss: 0.6449 - acc: 0.840 - ETA: 2:55 - loss: 0.6312 - acc: 0.846 - ETA: 2:54 - loss: 0.6181 - acc: 0.814 - ETA: 2:52 - loss: 0.6318 - acc: 0.8214"
     ]
    },
    {
     "name": "stderr",
     "output_type": "stream",
     "text": [
      "C:\\Users\\Thiago\\Anaconda3\\lib\\site-packages\\keras\\callbacks.py:122: UserWarning: Method on_batch_end() is slow compared to the batch update (0.378526). Check your callbacks.\n",
      "  % delta_t_median)\n"
     ]
    },
    {
     "name": "stdout",
     "output_type": "stream",
     "text": [
      " 29/256 [==>...........................] - ETA: 2:52 - loss: 0.6488 - acc: 0.8276"
     ]
    },
    {
     "name": "stderr",
     "output_type": "stream",
     "text": [
      "C:\\Users\\Thiago\\Anaconda3\\lib\\site-packages\\keras\\callbacks.py:122: UserWarning: Method on_batch_end() is slow compared to the batch update (0.355993). Check your callbacks.\n",
      "  % delta_t_median)\n"
     ]
    },
    {
     "name": "stdout",
     "output_type": "stream",
     "text": [
      " 31/256 [==>...........................] - ETA: 2:50 - loss: 0.6893 - acc: 0.800 - ETA: 2:48 - loss: 0.6879 - acc: 0.8065"
     ]
    },
    {
     "name": "stderr",
     "output_type": "stream",
     "text": [
      "C:\\Users\\Thiago\\Anaconda3\\lib\\site-packages\\keras\\callbacks.py:122: UserWarning: Method on_batch_end() is slow compared to the batch update (0.317972). Check your callbacks.\n",
      "  % delta_t_median)\n"
     ]
    },
    {
     "name": "stdout",
     "output_type": "stream",
     "text": [
      " 88/256 [=========>....................] - ETA: 2:46 - loss: 0.6969 - acc: 0.812 - ETA: 2:44 - loss: 0.7061 - acc: 0.787 - ETA: 2:42 - loss: 0.6969 - acc: 0.764 - ETA: 2:40 - loss: 0.7080 - acc: 0.742 - ETA: 2:38 - loss: 0.7064 - acc: 0.722 - ETA: 2:36 - loss: 0.6950 - acc: 0.729 - ETA: 2:34 - loss: 0.7022 - acc: 0.736 - ETA: 2:32 - loss: 0.7130 - acc: 0.717 - ETA: 2:31 - loss: 0.7202 - acc: 0.725 - ETA: 2:29 - loss: 0.7310 - acc: 0.707 - ETA: 2:28 - loss: 0.7364 - acc: 0.714 - ETA: 2:28 - loss: 0.7296 - acc: 0.720 - ETA: 2:27 - loss: 0.7186 - acc: 0.704 - ETA: 2:26 - loss: 0.7249 - acc: 0.711 - ETA: 2:25 - loss: 0.7306 - acc: 0.695 - ETA: 2:24 - loss: 0.7320 - acc: 0.680 - ETA: 2:22 - loss: 0.7287 - acc: 0.687 - ETA: 2:21 - loss: 0.7335 - acc: 0.693 - ETA: 2:20 - loss: 0.7223 - acc: 0.680 - ETA: 2:19 - loss: 0.7218 - acc: 0.686 - ETA: 2:19 - loss: 0.7160 - acc: 0.692 - ETA: 2:17 - loss: 0.7374 - acc: 0.698 - ETA: 2:16 - loss: 0.7571 - acc: 0.685 - ETA: 2:15 - loss: 0.7614 - acc: 0.690 - ETA: 2:14 - loss: 0.7589 - acc: 0.678 - ETA: 2:14 - loss: 0.7631 - acc: 0.684 - ETA: 2:12 - loss: 0.7816 - acc: 0.689 - ETA: 2:11 - loss: 0.7849 - acc: 0.694 - ETA: 2:09 - loss: 0.7761 - acc: 0.683 - ETA: 2:09 - loss: 0.7798 - acc: 0.688 - ETA: 2:09 - loss: 0.7830 - acc: 0.693 - ETA: 2:08 - loss: 0.7750 - acc: 0.698 - ETA: 2:07 - loss: 0.7676 - acc: 0.687 - ETA: 2:06 - loss: 0.7695 - acc: 0.676 - ETA: 2:06 - loss: 0.7673 - acc: 0.681 - ETA: 2:04 - loss: 0.7838 - acc: 0.686 - ETA: 2:04 - loss: 0.7869 - acc: 0.676 - ETA: 2:03 - loss: 0.7991 - acc: 0.681 - ETA: 2:02 - loss: 0.8037 - acc: 0.671 - ETA: 2:02 - loss: 0.8060 - acc: 0.676 - ETA: 2:02 - loss: 0.7996 - acc: 0.680 - ETA: 2:01 - loss: 0.8154 - acc: 0.671 - ETA: 2:03 - loss: 0.8178 - acc: 0.675 - ETA: 2:04 - loss: 0.8230 - acc: 0.666 - ETA: 2:04 - loss: 0.8231 - acc: 0.657 - ETA: 2:04 - loss: 0.8250 - acc: 0.662 - ETA: 2:03 - loss: 0.8173 - acc: 0.666 - ETA: 2:03 - loss: 0.8090 - acc: 0.658 - ETA: 2:02 - loss: 0.8114 - acc: 0.662 - ETA: 2:01 - loss: 0.8138 - acc: 0.654 - ETA: 2:02 - loss: 0.8071 - acc: 0.658 - ETA: 2:03 - loss: 0.8080 - acc: 0.650 - ETA: 2:03 - loss: 0.8202 - acc: 0.654 - ETA: 2:03 - loss: 0.8180 - acc: 0.658 - ETA: 2:02 - loss: 0.8201 - acc: 0.662 - ETA: 2:01 - loss: 0.8138 - acc: 0.655 - ETA: 2:01 - loss: 0.8132 - acc: 0.6591"
     ]
    },
    {
     "name": "stderr",
     "output_type": "stream",
     "text": [
      "C:\\Users\\Thiago\\Anaconda3\\lib\\site-packages\\keras\\callbacks.py:122: UserWarning: Method on_batch_end() is slow compared to the batch update (0.378026). Check your callbacks.\n",
      "  % delta_t_median)\n"
     ]
    },
    {
     "name": "stdout",
     "output_type": "stream",
     "text": [
      " 89/256 [=========>....................] - ETA: 2:00 - loss: 0.8072 - acc: 0.6517"
     ]
    },
    {
     "name": "stderr",
     "output_type": "stream",
     "text": [
      "C:\\Users\\Thiago\\Anaconda3\\lib\\site-packages\\keras\\callbacks.py:122: UserWarning: Method on_batch_end() is slow compared to the batch update (0.384027). Check your callbacks.\n",
      "  % delta_t_median)\n"
     ]
    },
    {
     "name": "stdout",
     "output_type": "stream",
     "text": [
      "154/256 [=================>............] - ETA: 2:01 - loss: 0.8000 - acc: 0.655 - ETA: 2:01 - loss: 0.8036 - acc: 0.648 - ETA: 2:01 - loss: 0.8048 - acc: 0.641 - ETA: 2:01 - loss: 0.8037 - acc: 0.634 - ETA: 2:02 - loss: 0.8047 - acc: 0.627 - ETA: 2:02 - loss: 0.7988 - acc: 0.621 - ETA: 2:01 - loss: 0.7931 - acc: 0.625 - ETA: 2:01 - loss: 0.8030 - acc: 0.628 - ETA: 2:02 - loss: 0.8050 - acc: 0.632 - ETA: 2:02 - loss: 0.7985 - acc: 0.636 - ETA: 2:01 - loss: 0.8067 - acc: 0.630 - ETA: 2:00 - loss: 0.8008 - acc: 0.633 - ETA: 2:00 - loss: 0.7950 - acc: 0.637 - ETA: 1:59 - loss: 0.8033 - acc: 0.631 - ETA: 1:57 - loss: 0.8055 - acc: 0.625 - ETA: 1:56 - loss: 0.8071 - acc: 0.628 - ETA: 1:55 - loss: 0.8082 - acc: 0.622 - ETA: 1:54 - loss: 0.8028 - acc: 0.626 - ETA: 1:53 - loss: 0.8044 - acc: 0.629 - ETA: 1:53 - loss: 0.8062 - acc: 0.633 - ETA: 1:54 - loss: 0.8002 - acc: 0.636 - ETA: 1:54 - loss: 0.7961 - acc: 0.639 - ETA: 1:53 - loss: 0.7979 - acc: 0.633 - ETA: 1:52 - loss: 0.7919 - acc: 0.637 - ETA: 1:51 - loss: 0.7870 - acc: 0.640 - ETA: 1:50 - loss: 0.7888 - acc: 0.634 - ETA: 1:49 - loss: 0.7943 - acc: 0.629 - ETA: 1:48 - loss: 0.7962 - acc: 0.632 - ETA: 1:46 - loss: 0.7897 - acc: 0.627 - ETA: 1:45 - loss: 0.7998 - acc: 0.630 - ETA: 1:45 - loss: 0.8015 - acc: 0.625 - ETA: 1:44 - loss: 0.8100 - acc: 0.619 - ETA: 1:43 - loss: 0.8034 - acc: 0.623 - ETA: 1:42 - loss: 0.8044 - acc: 0.626 - ETA: 1:41 - loss: 0.8106 - acc: 0.621 - ETA: 1:40 - loss: 0.8042 - acc: 0.624 - ETA: 1:40 - loss: 0.8002 - acc: 0.619 - ETA: 1:39 - loss: 0.8012 - acc: 0.614 - ETA: 1:38 - loss: 0.8085 - acc: 0.617 - ETA: 1:37 - loss: 0.8031 - acc: 0.620 - ETA: 1:36 - loss: 0.7978 - acc: 0.623 - ETA: 1:35 - loss: 0.7992 - acc: 0.626 - ETA: 1:35 - loss: 0.7955 - acc: 0.628 - ETA: 1:34 - loss: 0.7966 - acc: 0.631 - ETA: 1:33 - loss: 0.7979 - acc: 0.634 - ETA: 1:32 - loss: 0.7997 - acc: 0.637 - ETA: 1:31 - loss: 0.7939 - acc: 0.632 - ETA: 1:30 - loss: 0.7956 - acc: 0.627 - ETA: 1:29 - loss: 0.7950 - acc: 0.630 - ETA: 1:29 - loss: 0.8001 - acc: 0.625 - ETA: 1:28 - loss: 0.8029 - acc: 0.628 - ETA: 1:27 - loss: 0.8033 - acc: 0.631 - ETA: 1:26 - loss: 0.8019 - acc: 0.633 - ETA: 1:25 - loss: 0.8029 - acc: 0.636 - ETA: 1:24 - loss: 0.8043 - acc: 0.638 - ETA: 1:23 - loss: 0.8054 - acc: 0.641 - ETA: 1:23 - loss: 0.8058 - acc: 0.643 - ETA: 1:22 - loss: 0.8061 - acc: 0.646 - ETA: 1:22 - loss: 0.8072 - acc: 0.648 - ETA: 1:21 - loss: 0.8085 - acc: 0.651 - ETA: 1:21 - loss: 0.8085 - acc: 0.653 - ETA: 1:20 - loss: 0.8099 - acc: 0.655 - ETA: 1:19 - loss: 0.8110 - acc: 0.657 - ETA: 1:18 - loss: 0.8122 - acc: 0.660 - ETA: 1:18 - loss: 0.8162 - acc: 0.6623"
     ]
    },
    {
     "name": "stderr",
     "output_type": "stream",
     "text": [
      "C:\\Users\\Thiago\\Anaconda3\\lib\\site-packages\\keras\\callbacks.py:122: UserWarning: Method on_batch_end() is slow compared to the batch update (0.370983). Check your callbacks.\n",
      "  % delta_t_median)\n"
     ]
    },
    {
     "name": "stdout",
     "output_type": "stream",
     "text": [
      "165/256 [==================>...........] - ETA: 1:17 - loss: 0.8174 - acc: 0.664 - ETA: 1:16 - loss: 0.8186 - acc: 0.666 - ETA: 1:15 - loss: 0.8197 - acc: 0.668 - ETA: 1:15 - loss: 0.8184 - acc: 0.670 - ETA: 1:14 - loss: 0.8195 - acc: 0.673 - ETA: 1:14 - loss: 0.8202 - acc: 0.675 - ETA: 1:13 - loss: 0.8214 - acc: 0.677 - ETA: 1:12 - loss: 0.8215 - acc: 0.679 - ETA: 1:11 - loss: 0.8211 - acc: 0.681 - ETA: 1:11 - loss: 0.8222 - acc: 0.682 - ETA: 1:10 - loss: 0.8233 - acc: 0.6848"
     ]
    },
    {
     "name": "stderr",
     "output_type": "stream",
     "text": [
      "C:\\Users\\Thiago\\Anaconda3\\lib\\site-packages\\keras\\callbacks.py:122: UserWarning: Method on_batch_end() is slow compared to the batch update (0.368289). Check your callbacks.\n",
      "  % delta_t_median)\n"
     ]
    },
    {
     "name": "stdout",
     "output_type": "stream",
     "text": [
      "167/256 [==================>...........] - ETA: 1:09 - loss: 0.8241 - acc: 0.686 - ETA: 1:08 - loss: 0.8256 - acc: 0.6886"
     ]
    },
    {
     "name": "stderr",
     "output_type": "stream",
     "text": [
      "C:\\Users\\Thiago\\Anaconda3\\lib\\site-packages\\keras\\callbacks.py:122: UserWarning: Method on_batch_end() is slow compared to the batch update (0.365497). Check your callbacks.\n",
      "  % delta_t_median)\n"
     ]
    },
    {
     "name": "stdout",
     "output_type": "stream",
     "text": [
      "168/256 [==================>...........] - ETA: 1:07 - loss: 0.8264 - acc: 0.6905"
     ]
    },
    {
     "name": "stderr",
     "output_type": "stream",
     "text": [
      "C:\\Users\\Thiago\\Anaconda3\\lib\\site-packages\\keras\\callbacks.py:122: UserWarning: Method on_batch_end() is slow compared to the batch update (0.381377). Check your callbacks.\n",
      "  % delta_t_median)\n"
     ]
    },
    {
     "name": "stdout",
     "output_type": "stream",
     "text": [
      "175/256 [===================>..........] - ETA: 1:07 - loss: 0.8263 - acc: 0.692 - ETA: 1:06 - loss: 0.8274 - acc: 0.694 - ETA: 1:05 - loss: 0.8284 - acc: 0.695 - ETA: 1:05 - loss: 0.8287 - acc: 0.697 - ETA: 1:04 - loss: 0.8298 - acc: 0.699 - ETA: 1:04 - loss: 0.8296 - acc: 0.701 - ETA: 1:03 - loss: 0.8305 - acc: 0.7029"
     ]
    },
    {
     "name": "stderr",
     "output_type": "stream",
     "text": [
      "C:\\Users\\Thiago\\Anaconda3\\lib\\site-packages\\keras\\callbacks.py:122: UserWarning: Method on_batch_end() is slow compared to the batch update (0.439477). Check your callbacks.\n",
      "  % delta_t_median)\n"
     ]
    },
    {
     "name": "stdout",
     "output_type": "stream",
     "text": [
      "178/256 [===================>..........] - ETA: 1:02 - loss: 0.8311 - acc: 0.704 - ETA: 1:01 - loss: 0.8321 - acc: 0.706 - ETA: 1:00 - loss: 0.8327 - acc: 0.7079"
     ]
    },
    {
     "name": "stderr",
     "output_type": "stream",
     "text": [
      "C:\\Users\\Thiago\\Anaconda3\\lib\\site-packages\\keras\\callbacks.py:122: UserWarning: Method on_batch_end() is slow compared to the batch update (0.392474). Check your callbacks.\n",
      "  % delta_t_median)\n"
     ]
    },
    {
     "name": "stdout",
     "output_type": "stream",
     "text": [
      "197/256 [======================>.......] - ETA: 1:00 - loss: 0.8326 - acc: 0.709 - ETA: 59s - loss: 0.8335 - acc: 0.711 - ETA: 58s - loss: 0.8351 - acc: 0.71 - ETA: 57s - loss: 0.8363 - acc: 0.71 - ETA: 56s - loss: 0.8365 - acc: 0.71 - ETA: 56s - loss: 0.8375 - acc: 0.71 - ETA: 55s - loss: 0.8367 - acc: 0.71 - ETA: 54s - loss: 0.8376 - acc: 0.72 - ETA: 53s - loss: 0.8369 - acc: 0.72 - ETA: 53s - loss: 0.8351 - acc: 0.72 - ETA: 52s - loss: 0.8360 - acc: 0.72 - ETA: 51s - loss: 0.8368 - acc: 0.72 - ETA: 50s - loss: 0.8366 - acc: 0.72 - ETA: 49s - loss: 0.8371 - acc: 0.72 - ETA: 49s - loss: 0.8360 - acc: 0.73 - ETA: 48s - loss: 0.8364 - acc: 0.73 - ETA: 48s - loss: 0.8371 - acc: 0.73 - ETA: 47s - loss: 0.8366 - acc: 0.73 - ETA: 46s - loss: 0.8374 - acc: 0.7360"
     ]
    },
    {
     "name": "stderr",
     "output_type": "stream",
     "text": [
      "C:\\Users\\Thiago\\Anaconda3\\lib\\site-packages\\keras\\callbacks.py:122: UserWarning: Method on_batch_end() is slow compared to the batch update (0.403758). Check your callbacks.\n",
      "  % delta_t_median)\n"
     ]
    },
    {
     "name": "stdout",
     "output_type": "stream",
     "text": [
      "227/256 [=========================>....] - ETA: 45s - loss: 0.8362 - acc: 0.73 - ETA: 44s - loss: 0.8370 - acc: 0.73 - ETA: 43s - loss: 0.8373 - acc: 0.74 - ETA: 43s - loss: 0.8361 - acc: 0.74 - ETA: 42s - loss: 0.8377 - acc: 0.74 - ETA: 41s - loss: 0.8370 - acc: 0.74 - ETA: 40s - loss: 0.8346 - acc: 0.74 - ETA: 39s - loss: 0.8361 - acc: 0.74 - ETA: 38s - loss: 0.8369 - acc: 0.74 - ETA: 37s - loss: 0.8332 - acc: 0.74 - ETA: 37s - loss: 0.8309 - acc: 0.75 - ETA: 36s - loss: 0.8294 - acc: 0.75 - ETA: 35s - loss: 0.8303 - acc: 0.75 - ETA: 35s - loss: 0.8311 - acc: 0.75 - ETA: 34s - loss: 0.8315 - acc: 0.75 - ETA: 33s - loss: 0.8329 - acc: 0.75 - ETA: 32s - loss: 0.8335 - acc: 0.75 - ETA: 32s - loss: 0.8343 - acc: 0.75 - ETA: 31s - loss: 0.8352 - acc: 0.75 - ETA: 30s - loss: 0.8360 - acc: 0.76 - ETA: 29s - loss: 0.8366 - acc: 0.76 - ETA: 28s - loss: 0.8357 - acc: 0.76 - ETA: 28s - loss: 0.8340 - acc: 0.76 - ETA: 27s - loss: 0.8315 - acc: 0.76 - ETA: 26s - loss: 0.8311 - acc: 0.76 - ETA: 26s - loss: 0.8300 - acc: 0.76 - ETA: 25s - loss: 0.8264 - acc: 0.76 - ETA: 24s - loss: 0.8236 - acc: 0.76 - ETA: 23s - loss: 0.8243 - acc: 0.76 - ETA: 22s - loss: 0.8251 - acc: 0.7709"
     ]
    },
    {
     "name": "stderr",
     "output_type": "stream",
     "text": [
      "C:\\Users\\Thiago\\Anaconda3\\lib\\site-packages\\keras\\callbacks.py:122: UserWarning: Method on_batch_end() is slow compared to the batch update (0.428327). Check your callbacks.\n",
      "  % delta_t_median)\n"
     ]
    },
    {
     "name": "stdout",
     "output_type": "stream",
     "text": [
      "228/256 [=========================>....] - ETA: 22s - loss: 0.8235 - acc: 0.7719"
     ]
    },
    {
     "name": "stderr",
     "output_type": "stream",
     "text": [
      "C:\\Users\\Thiago\\Anaconda3\\lib\\site-packages\\keras\\callbacks.py:122: UserWarning: Method on_batch_end() is slow compared to the batch update (0.359947). Check your callbacks.\n",
      "  % delta_t_median)\n"
     ]
    },
    {
     "name": "stdout",
     "output_type": "stream",
     "text": [
      "256/256 [==============================] - ETA: 21s - loss: 0.8212 - acc: 0.77 - ETA: 20s - loss: 0.8221 - acc: 0.77 - ETA: 19s - loss: 0.8204 - acc: 0.77 - ETA: 19s - loss: 0.8169 - acc: 0.77 - ETA: 18s - loss: 0.8177 - acc: 0.77 - ETA: 17s - loss: 0.8182 - acc: 0.77 - ETA: 16s - loss: 0.8160 - acc: 0.77 - ETA: 15s - loss: 0.8188 - acc: 0.77 - ETA: 15s - loss: 0.8231 - acc: 0.77 - ETA: 14s - loss: 0.8226 - acc: 0.77 - ETA: 13s - loss: 0.8233 - acc: 0.77 - ETA: 12s - loss: 0.8213 - acc: 0.77 - ETA: 12s - loss: 0.8210 - acc: 0.77 - ETA: 11s - loss: 0.8217 - acc: 0.77 - ETA: 10s - loss: 0.8228 - acc: 0.77 - ETA: 9s - loss: 0.8224 - acc: 0.7787 - ETA: 8s - loss: 0.8232 - acc: 0.779 - ETA: 8s - loss: 0.8233 - acc: 0.780 - ETA: 7s - loss: 0.8240 - acc: 0.781 - ETA: 6s - loss: 0.8249 - acc: 0.782 - ETA: 5s - loss: 0.8256 - acc: 0.783 - ETA: 4s - loss: 0.8226 - acc: 0.784 - ETA: 4s - loss: 0.8233 - acc: 0.784 - ETA: 3s - loss: 0.8267 - acc: 0.785 - ETA: 2s - loss: 0.8270 - acc: 0.786 - ETA: 1s - loss: 0.8241 - acc: 0.787 - ETA: 0s - loss: 0.8248 - acc: 0.788 - 232s 905ms/step - loss: 0.8255 - acc: 0.7891 - val_loss: 0.8992 - val_acc: 0.9648\n",
      "Epoch 5/100\n",
      " 31/256 [==>...........................] - ETA: 1:31 - loss: 0.9938 - acc: 1.000 - ETA: 1:54 - loss: 0.9764 - acc: 1.000 - ETA: 2:00 - loss: 0.9473 - acc: 1.000 - ETA: 2:08 - loss: 0.9595 - acc: 1.000 - ETA: 2:16 - loss: 0.9688 - acc: 1.000 - ETA: 2:21 - loss: 0.8669 - acc: 1.000 - ETA: 2:23 - loss: 0.8868 - acc: 1.000 - ETA: 2:23 - loss: 0.9008 - acc: 1.000 - ETA: 2:22 - loss: 0.8709 - acc: 1.000 - ETA: 2:20 - loss: 0.8338 - acc: 1.000 - ETA: 2:21 - loss: 0.8532 - acc: 1.000 - ETA: 2:16 - loss: 0.8123 - acc: 1.000 - ETA: 2:21 - loss: 0.8320 - acc: 1.000 - ETA: 2:19 - loss: 0.8715 - acc: 1.000 - ETA: 2:15 - loss: 0.8798 - acc: 1.000 - ETA: 2:16 - loss: 0.8870 - acc: 1.000 - ETA: 2:21 - loss: 0.8388 - acc: 1.000 - ETA: 2:24 - loss: 0.8526 - acc: 1.000 - ETA: 2:27 - loss: 0.8695 - acc: 1.000 - ETA: 2:29 - loss: 0.9131 - acc: 0.950 - ETA: 2:26 - loss: 0.9173 - acc: 0.952 - ETA: 2:28 - loss: 0.9230 - acc: 0.954 - ETA: 2:27 - loss: 0.9205 - acc: 0.956 - ETA: 2:26 - loss: 0.9239 - acc: 0.958 - ETA: 2:24 - loss: 0.9285 - acc: 0.960 - ETA: 2:29 - loss: 0.8990 - acc: 0.961 - ETA: 2:35 - loss: 0.8812 - acc: 0.963 - ETA: 2:40 - loss: 0.8847 - acc: 0.964 - ETA: 2:39 - loss: 0.8866 - acc: 0.965 - ETA: 2:41 - loss: 0.8903 - acc: 0.966 - ETA: 2:42 - loss: 0.8624 - acc: 0.9677"
     ]
    },
    {
     "name": "stderr",
     "output_type": "stream",
     "text": [
      "C:\\Users\\Thiago\\Anaconda3\\lib\\site-packages\\keras\\callbacks.py:122: UserWarning: Method on_batch_end() is slow compared to the batch update (0.316282). Check your callbacks.\n",
      "  % delta_t_median)\n"
     ]
    },
    {
     "name": "stdout",
     "output_type": "stream",
     "text": [
      " 33/256 [==>...........................] - ETA: 2:41 - loss: 0.8661 - acc: 0.937 - ETA: 2:40 - loss: 0.8416 - acc: 0.9394"
     ]
    },
    {
     "name": "stderr",
     "output_type": "stream",
     "text": [
      "C:\\Users\\Thiago\\Anaconda3\\lib\\site-packages\\keras\\callbacks.py:122: UserWarning: Method on_batch_end() is slow compared to the batch update (0.346204). Check your callbacks.\n",
      "  % delta_t_median)\n"
     ]
    },
    {
     "name": "stdout",
     "output_type": "stream",
     "text": [
      " 36/256 [===>..........................] - ETA: 2:39 - loss: 0.8495 - acc: 0.941 - ETA: 2:38 - loss: 0.8499 - acc: 0.942 - ETA: 2:37 - loss: 0.8501 - acc: 0.9444"
     ]
    },
    {
     "name": "stderr",
     "output_type": "stream",
     "text": [
      "C:\\Users\\Thiago\\Anaconda3\\lib\\site-packages\\keras\\callbacks.py:122: UserWarning: Method on_batch_end() is slow compared to the batch update (0.359720). Check your callbacks.\n",
      "  % delta_t_median)\n"
     ]
    },
    {
     "name": "stdout",
     "output_type": "stream",
     "text": [
      " 37/256 [===>..........................] - ETA: 2:36 - loss: 0.8541 - acc: 0.9459"
     ]
    },
    {
     "name": "stderr",
     "output_type": "stream",
     "text": [
      "C:\\Users\\Thiago\\Anaconda3\\lib\\site-packages\\keras\\callbacks.py:122: UserWarning: Method on_batch_end() is slow compared to the batch update (0.340081). Check your callbacks.\n",
      "  % delta_t_median)\n"
     ]
    },
    {
     "name": "stdout",
     "output_type": "stream",
     "text": [
      " 39/256 [===>..........................] - ETA: 2:35 - loss: 0.8511 - acc: 0.947 - ETA: 2:34 - loss: 0.8545 - acc: 0.9487"
     ]
    },
    {
     "name": "stderr",
     "output_type": "stream",
     "text": [
      "C:\\Users\\Thiago\\Anaconda3\\lib\\site-packages\\keras\\callbacks.py:122: UserWarning: Method on_batch_end() is slow compared to the batch update (0.327054). Check your callbacks.\n",
      "  % delta_t_median)\n"
     ]
    },
    {
     "name": "stdout",
     "output_type": "stream",
     "text": [
      " 75/256 [=======>......................] - ETA: 2:33 - loss: 0.8393 - acc: 0.925 - ETA: 2:31 - loss: 0.8410 - acc: 0.926 - ETA: 2:30 - loss: 0.8431 - acc: 0.928 - ETA: 2:29 - loss: 0.8467 - acc: 0.930 - ETA: 2:28 - loss: 0.8329 - acc: 0.931 - ETA: 2:27 - loss: 0.8150 - acc: 0.933 - ETA: 2:26 - loss: 0.8183 - acc: 0.934 - ETA: 2:25 - loss: 0.8222 - acc: 0.914 - ETA: 2:24 - loss: 0.8249 - acc: 0.895 - ETA: 2:23 - loss: 0.8099 - acc: 0.898 - ETA: 2:21 - loss: 0.8139 - acc: 0.900 - ETA: 2:20 - loss: 0.8251 - acc: 0.902 - ETA: 2:19 - loss: 0.8280 - acc: 0.903 - ETA: 2:18 - loss: 0.8172 - acc: 0.886 - ETA: 2:17 - loss: 0.8189 - acc: 0.888 - ETA: 2:17 - loss: 0.8221 - acc: 0.890 - ETA: 2:16 - loss: 0.8244 - acc: 0.892 - ETA: 2:15 - loss: 0.8258 - acc: 0.877 - ETA: 2:14 - loss: 0.8305 - acc: 0.879 - ETA: 2:13 - loss: 0.8435 - acc: 0.864 - ETA: 2:12 - loss: 0.8444 - acc: 0.866 - ETA: 2:11 - loss: 0.8455 - acc: 0.868 - ETA: 2:09 - loss: 0.8472 - acc: 0.871 - ETA: 2:08 - loss: 0.8497 - acc: 0.857 - ETA: 2:08 - loss: 0.8378 - acc: 0.859 - ETA: 2:06 - loss: 0.8300 - acc: 0.861 - ETA: 2:08 - loss: 0.8269 - acc: 0.863 - ETA: 2:09 - loss: 0.8155 - acc: 0.850 - ETA: 2:09 - loss: 0.8064 - acc: 0.852 - ETA: 2:09 - loss: 0.8083 - acc: 0.855 - ETA: 2:09 - loss: 0.8098 - acc: 0.857 - ETA: 2:09 - loss: 0.8107 - acc: 0.859 - ETA: 2:08 - loss: 0.8133 - acc: 0.861 - ETA: 2:08 - loss: 0.8158 - acc: 0.849 - ETA: 2:08 - loss: 0.8061 - acc: 0.837 - ETA: 2:07 - loss: 0.7991 - acc: 0.8400"
     ]
    },
    {
     "name": "stderr",
     "output_type": "stream",
     "text": [
      "C:\\Users\\Thiago\\Anaconda3\\lib\\site-packages\\keras\\callbacks.py:122: UserWarning: Method on_batch_end() is slow compared to the batch update (0.347167). Check your callbacks.\n",
      "  % delta_t_median)\n"
     ]
    },
    {
     "name": "stdout",
     "output_type": "stream",
     "text": [
      "131/256 [==============>...............] - ETA: 2:06 - loss: 0.8032 - acc: 0.842 - ETA: 2:05 - loss: 0.8043 - acc: 0.844 - ETA: 2:04 - loss: 0.8026 - acc: 0.846 - ETA: 2:03 - loss: 0.8031 - acc: 0.848 - ETA: 2:02 - loss: 0.8154 - acc: 0.837 - ETA: 2:01 - loss: 0.8098 - acc: 0.839 - ETA: 2:00 - loss: 0.8086 - acc: 0.829 - ETA: 1:59 - loss: 0.8084 - acc: 0.831 - ETA: 1:59 - loss: 0.8106 - acc: 0.833 - ETA: 1:58 - loss: 0.8090 - acc: 0.835 - ETA: 1:57 - loss: 0.8206 - acc: 0.825 - ETA: 1:56 - loss: 0.8118 - acc: 0.816 - ETA: 1:55 - loss: 0.8139 - acc: 0.818 - ETA: 1:55 - loss: 0.8072 - acc: 0.820 - ETA: 1:54 - loss: 0.7991 - acc: 0.822 - ETA: 1:53 - loss: 0.8012 - acc: 0.813 - ETA: 1:52 - loss: 0.7966 - acc: 0.815 - ETA: 1:51 - loss: 0.7998 - acc: 0.817 - ETA: 1:50 - loss: 0.7997 - acc: 0.819 - ETA: 1:49 - loss: 0.8087 - acc: 0.821 - ETA: 1:48 - loss: 0.8102 - acc: 0.812 - ETA: 1:47 - loss: 0.8168 - acc: 0.814 - ETA: 1:46 - loss: 0.8166 - acc: 0.816 - ETA: 1:46 - loss: 0.8178 - acc: 0.818 - ETA: 1:45 - loss: 0.8125 - acc: 0.820 - ETA: 1:44 - loss: 0.8217 - acc: 0.811 - ETA: 1:43 - loss: 0.8160 - acc: 0.813 - ETA: 1:43 - loss: 0.8087 - acc: 0.815 - ETA: 1:42 - loss: 0.8105 - acc: 0.817 - ETA: 1:41 - loss: 0.8118 - acc: 0.819 - ETA: 1:41 - loss: 0.8054 - acc: 0.820 - ETA: 1:40 - loss: 0.8162 - acc: 0.822 - ETA: 1:39 - loss: 0.8089 - acc: 0.824 - ETA: 1:38 - loss: 0.8096 - acc: 0.825 - ETA: 1:38 - loss: 0.8041 - acc: 0.827 - ETA: 1:37 - loss: 0.8096 - acc: 0.828 - ETA: 1:36 - loss: 0.8051 - acc: 0.830 - ETA: 1:36 - loss: 0.8065 - acc: 0.831 - ETA: 1:35 - loss: 0.8002 - acc: 0.833 - ETA: 1:34 - loss: 0.8002 - acc: 0.826 - ETA: 1:33 - loss: 0.8012 - acc: 0.827 - ETA: 1:33 - loss: 0.8082 - acc: 0.829 - ETA: 1:32 - loss: 0.8081 - acc: 0.830 - ETA: 1:31 - loss: 0.8082 - acc: 0.831 - ETA: 1:31 - loss: 0.8044 - acc: 0.833 - ETA: 1:30 - loss: 0.8075 - acc: 0.834 - ETA: 1:29 - loss: 0.8090 - acc: 0.836 - ETA: 1:28 - loss: 0.8103 - acc: 0.837 - ETA: 1:28 - loss: 0.8112 - acc: 0.838 - ETA: 1:27 - loss: 0.8048 - acc: 0.840 - ETA: 1:26 - loss: 0.8022 - acc: 0.833 - ETA: 1:26 - loss: 0.7994 - acc: 0.834 - ETA: 1:25 - loss: 0.8010 - acc: 0.835 - ETA: 1:24 - loss: 0.7987 - acc: 0.837 - ETA: 1:23 - loss: 0.7960 - acc: 0.838 - ETA: 1:23 - loss: 0.7976 - acc: 0.8397"
     ]
    },
    {
     "name": "stderr",
     "output_type": "stream",
     "text": [
      "C:\\Users\\Thiago\\Anaconda3\\lib\\site-packages\\keras\\callbacks.py:122: UserWarning: Method on_batch_end() is slow compared to the batch update (0.295441). Check your callbacks.\n",
      "  % delta_t_median)\n"
     ]
    },
    {
     "name": "stdout",
     "output_type": "stream",
     "text": [
      "162/256 [=================>............] - ETA: 1:22 - loss: 0.7998 - acc: 0.840 - ETA: 1:21 - loss: 0.8013 - acc: 0.842 - ETA: 1:20 - loss: 0.7967 - acc: 0.843 - ETA: 1:20 - loss: 0.7982 - acc: 0.844 - ETA: 1:19 - loss: 0.8067 - acc: 0.845 - ETA: 1:18 - loss: 0.8085 - acc: 0.846 - ETA: 1:18 - loss: 0.8036 - acc: 0.847 - ETA: 1:17 - loss: 0.7980 - acc: 0.848 - ETA: 1:16 - loss: 0.7995 - acc: 0.842 - ETA: 1:15 - loss: 0.7968 - acc: 0.844 - ETA: 1:15 - loss: 0.7985 - acc: 0.845 - ETA: 1:14 - loss: 0.7999 - acc: 0.846 - ETA: 1:13 - loss: 0.8032 - acc: 0.840 - ETA: 1:13 - loss: 0.8048 - acc: 0.834 - ETA: 1:12 - loss: 0.8062 - acc: 0.835 - ETA: 1:11 - loss: 0.8018 - acc: 0.836 - ETA: 1:10 - loss: 0.8098 - acc: 0.837 - ETA: 1:10 - loss: 0.8103 - acc: 0.832 - ETA: 1:09 - loss: 0.8107 - acc: 0.833 - ETA: 1:08 - loss: 0.8119 - acc: 0.834 - ETA: 1:08 - loss: 0.8113 - acc: 0.828 - ETA: 1:07 - loss: 0.8065 - acc: 0.830 - ETA: 1:06 - loss: 0.8072 - acc: 0.831 - ETA: 1:06 - loss: 0.8046 - acc: 0.825 - ETA: 1:05 - loss: 0.8062 - acc: 0.826 - ETA: 1:04 - loss: 0.8059 - acc: 0.828 - ETA: 1:04 - loss: 0.8059 - acc: 0.829 - ETA: 1:03 - loss: 0.8035 - acc: 0.830 - ETA: 1:02 - loss: 0.8006 - acc: 0.831 - ETA: 1:02 - loss: 0.8047 - acc: 0.832 - ETA: 1:01 - loss: 0.8033 - acc: 0.8272"
     ]
    },
    {
     "name": "stderr",
     "output_type": "stream",
     "text": [
      "C:\\Users\\Thiago\\Anaconda3\\lib\\site-packages\\keras\\callbacks.py:122: UserWarning: Method on_batch_end() is slow compared to the batch update (0.312022). Check your callbacks.\n",
      "  % delta_t_median)\n"
     ]
    },
    {
     "name": "stdout",
     "output_type": "stream",
     "text": [
      "167/256 [==================>...........] - ETA: 1:01 - loss: 0.8086 - acc: 0.822 - ETA: 1:00 - loss: 0.8098 - acc: 0.823 - ETA: 59s - loss: 0.8107 - acc: 0.818 - ETA: 58s - loss: 0.8058 - acc: 0.81 - ETA: 58s - loss: 0.8063 - acc: 0.8144"
     ]
    },
    {
     "name": "stderr",
     "output_type": "stream",
     "text": [
      "C:\\Users\\Thiago\\Anaconda3\\lib\\site-packages\\keras\\callbacks.py:122: UserWarning: Method on_batch_end() is slow compared to the batch update (0.370026). Check your callbacks.\n",
      "  % delta_t_median)\n"
     ]
    },
    {
     "name": "stdout",
     "output_type": "stream",
     "text": [
      "171/256 [===================>..........] - ETA: 57s - loss: 0.8020 - acc: 0.80 - ETA: 57s - loss: 0.8026 - acc: 0.81 - ETA: 56s - loss: 0.8053 - acc: 0.81 - ETA: 55s - loss: 0.8065 - acc: 0.8129"
     ]
    },
    {
     "name": "stderr",
     "output_type": "stream",
     "text": [
      "C:\\Users\\Thiago\\Anaconda3\\lib\\site-packages\\keras\\callbacks.py:122: UserWarning: Method on_batch_end() is slow compared to the batch update (0.338024). Check your callbacks.\n",
      "  % delta_t_median)\n"
     ]
    },
    {
     "name": "stdout",
     "output_type": "stream",
     "text": [
      "175/256 [===================>..........] - ETA: 55s - loss: 0.8086 - acc: 0.80 - ETA: 54s - loss: 0.8102 - acc: 0.80 - ETA: 53s - loss: 0.8083 - acc: 0.80 - ETA: 53s - loss: 0.8151 - acc: 0.8057"
     ]
    },
    {
     "name": "stderr",
     "output_type": "stream",
     "text": [
      "C:\\Users\\Thiago\\Anaconda3\\lib\\site-packages\\keras\\callbacks.py:122: UserWarning: Method on_batch_end() is slow compared to the batch update (0.344024). Check your callbacks.\n",
      "  % delta_t_median)\n"
     ]
    },
    {
     "name": "stdout",
     "output_type": "stream",
     "text": [
      "194/256 [=====================>........] - ETA: 52s - loss: 0.8130 - acc: 0.80 - ETA: 51s - loss: 0.8086 - acc: 0.80 - ETA: 51s - loss: 0.8085 - acc: 0.80 - ETA: 50s - loss: 0.8151 - acc: 0.81 - ETA: 49s - loss: 0.8110 - acc: 0.81 - ETA: 49s - loss: 0.8068 - acc: 0.80 - ETA: 48s - loss: 0.8124 - acc: 0.80 - ETA: 47s - loss: 0.8145 - acc: 0.80 - ETA: 47s - loss: 0.8103 - acc: 0.80 - ETA: 46s - loss: 0.8067 - acc: 0.80 - ETA: 46s - loss: 0.8024 - acc: 0.80 - ETA: 45s - loss: 0.7992 - acc: 0.80 - ETA: 44s - loss: 0.7952 - acc: 0.80 - ETA: 44s - loss: 0.7949 - acc: 0.79 - ETA: 43s - loss: 0.7970 - acc: 0.80 - ETA: 43s - loss: 0.7963 - acc: 0.80 - ETA: 42s - loss: 0.7927 - acc: 0.80 - ETA: 42s - loss: 0.7900 - acc: 0.79 - ETA: 41s - loss: 0.7897 - acc: 0.7990"
     ]
    },
    {
     "name": "stderr",
     "output_type": "stream",
     "text": [
      "C:\\Users\\Thiago\\Anaconda3\\lib\\site-packages\\keras\\callbacks.py:122: UserWarning: Method on_batch_end() is slow compared to the batch update (0.440032). Check your callbacks.\n",
      "  % delta_t_median)\n"
     ]
    },
    {
     "name": "stdout",
     "output_type": "stream",
     "text": [
      "197/256 [======================>.......] - ETA: 41s - loss: 0.7958 - acc: 0.80 - ETA: 40s - loss: 0.7950 - acc: 0.80 - ETA: 39s - loss: 0.7958 - acc: 0.8020"
     ]
    },
    {
     "name": "stderr",
     "output_type": "stream",
     "text": [
      "C:\\Users\\Thiago\\Anaconda3\\lib\\site-packages\\keras\\callbacks.py:122: UserWarning: Method on_batch_end() is slow compared to the batch update (0.432375). Check your callbacks.\n",
      "  % delta_t_median)\n"
     ]
    },
    {
     "name": "stdout",
     "output_type": "stream",
     "text": [
      "199/256 [======================>.......] - ETA: 39s - loss: 0.7961 - acc: 0.80 - ETA: 38s - loss: 0.7971 - acc: 0.8040"
     ]
    },
    {
     "name": "stderr",
     "output_type": "stream",
     "text": [
      "C:\\Users\\Thiago\\Anaconda3\\lib\\site-packages\\keras\\callbacks.py:122: UserWarning: Method on_batch_end() is slow compared to the batch update (0.392371). Check your callbacks.\n",
      "  % delta_t_median)\n"
     ]
    },
    {
     "name": "stdout",
     "output_type": "stream",
     "text": [
      "200/256 [======================>.......] - ETA: 37s - loss: 0.8022 - acc: 0.8000"
     ]
    },
    {
     "name": "stderr",
     "output_type": "stream",
     "text": [
      "C:\\Users\\Thiago\\Anaconda3\\lib\\site-packages\\keras\\callbacks.py:122: UserWarning: Method on_batch_end() is slow compared to the batch update (0.388026). Check your callbacks.\n",
      "  % delta_t_median)\n"
     ]
    },
    {
     "name": "stdout",
     "output_type": "stream",
     "text": [
      "202/256 [======================>.......] - ETA: 37s - loss: 0.8032 - acc: 0.80 - ETA: 36s - loss: 0.8042 - acc: 0.7970"
     ]
    },
    {
     "name": "stderr",
     "output_type": "stream",
     "text": [
      "C:\\Users\\Thiago\\Anaconda3\\lib\\site-packages\\keras\\callbacks.py:122: UserWarning: Method on_batch_end() is slow compared to the batch update (0.332023). Check your callbacks.\n",
      "  % delta_t_median)\n"
     ]
    },
    {
     "name": "stdout",
     "output_type": "stream",
     "text": [
      "208/256 [=======================>......] - ETA: 35s - loss: 0.8052 - acc: 0.79 - ETA: 34s - loss: 0.8098 - acc: 0.79 - ETA: 34s - loss: 0.8100 - acc: 0.79 - ETA: 33s - loss: 0.8110 - acc: 0.79 - ETA: 32s - loss: 0.8119 - acc: 0.79 - ETA: 32s - loss: 0.8129 - acc: 0.7885"
     ]
    },
    {
     "name": "stderr",
     "output_type": "stream",
     "text": [
      "C:\\Users\\Thiago\\Anaconda3\\lib\\site-packages\\keras\\callbacks.py:122: UserWarning: Method on_batch_end() is slow compared to the batch update (0.302021). Check your callbacks.\n",
      "  % delta_t_median)\n"
     ]
    },
    {
     "name": "stdout",
     "output_type": "stream",
     "text": [
      "209/256 [=======================>......] - ETA: 31s - loss: 0.8150 - acc: 0.7895"
     ]
    },
    {
     "name": "stderr",
     "output_type": "stream",
     "text": [
      "C:\\Users\\Thiago\\Anaconda3\\lib\\site-packages\\keras\\callbacks.py:122: UserWarning: Method on_batch_end() is slow compared to the batch update (0.312021). Check your callbacks.\n",
      "  % delta_t_median)\n"
     ]
    },
    {
     "name": "stdout",
     "output_type": "stream",
     "text": [
      "214/256 [========================>.....] - ETA: 30s - loss: 0.8157 - acc: 0.79 - ETA: 30s - loss: 0.8165 - acc: 0.78 - ETA: 29s - loss: 0.8173 - acc: 0.78 - ETA: 28s - loss: 0.8182 - acc: 0.77 - ETA: 28s - loss: 0.8168 - acc: 0.7804"
     ]
    },
    {
     "name": "stderr",
     "output_type": "stream",
     "text": [
      "C:\\Users\\Thiago\\Anaconda3\\lib\\site-packages\\keras\\callbacks.py:122: UserWarning: Method on_batch_end() is slow compared to the batch update (0.306017). Check your callbacks.\n",
      "  % delta_t_median)\n"
     ]
    },
    {
     "name": "stdout",
     "output_type": "stream",
     "text": [
      "216/256 [========================>.....] - ETA: 27s - loss: 0.8176 - acc: 0.78 - ETA: 26s - loss: 0.8184 - acc: 0.7778"
     ]
    },
    {
     "name": "stderr",
     "output_type": "stream",
     "text": [
      "C:\\Users\\Thiago\\Anaconda3\\lib\\site-packages\\keras\\callbacks.py:122: UserWarning: Method on_batch_end() is slow compared to the batch update (0.321848). Check your callbacks.\n",
      "  % delta_t_median)\n"
     ]
    },
    {
     "name": "stdout",
     "output_type": "stream",
     "text": [
      "217/256 [========================>.....] - ETA: 26s - loss: 0.8193 - acc: 0.7788"
     ]
    },
    {
     "name": "stderr",
     "output_type": "stream",
     "text": [
      "C:\\Users\\Thiago\\Anaconda3\\lib\\site-packages\\keras\\callbacks.py:122: UserWarning: Method on_batch_end() is slow compared to the batch update (0.332592). Check your callbacks.\n",
      "  % delta_t_median)\n"
     ]
    },
    {
     "name": "stdout",
     "output_type": "stream",
     "text": [
      "220/256 [========================>.....] - ETA: 25s - loss: 0.8179 - acc: 0.77 - ETA: 24s - loss: 0.8188 - acc: 0.77 - ETA: 24s - loss: 0.8169 - acc: 0.7682"
     ]
    },
    {
     "name": "stderr",
     "output_type": "stream",
     "text": [
      "C:\\Users\\Thiago\\Anaconda3\\lib\\site-packages\\keras\\callbacks.py:122: UserWarning: Method on_batch_end() is slow compared to the batch update (0.306457). Check your callbacks.\n",
      "  % delta_t_median)\n"
     ]
    },
    {
     "name": "stdout",
     "output_type": "stream",
     "text": [
      "223/256 [=========================>....] - ETA: 23s - loss: 0.8177 - acc: 0.76 - ETA: 22s - loss: 0.8185 - acc: 0.76 - ETA: 22s - loss: 0.8193 - acc: 0.7623"
     ]
    },
    {
     "name": "stderr",
     "output_type": "stream",
     "text": [
      "C:\\Users\\Thiago\\Anaconda3\\lib\\site-packages\\keras\\callbacks.py:122: UserWarning: Method on_batch_end() is slow compared to the batch update (0.300587). Check your callbacks.\n",
      "  % delta_t_median)\n"
     ]
    },
    {
     "name": "stdout",
     "output_type": "stream",
     "text": [
      "245/256 [===========================>..] - ETA: 21s - loss: 0.8174 - acc: 0.76 - ETA: 20s - loss: 0.8182 - acc: 0.76 - ETA: 20s - loss: 0.8190 - acc: 0.76 - ETA: 19s - loss: 0.8174 - acc: 0.75 - ETA: 18s - loss: 0.8183 - acc: 0.75 - ETA: 18s - loss: 0.8222 - acc: 0.75 - ETA: 17s - loss: 0.8230 - acc: 0.75 - ETA: 16s - loss: 0.8237 - acc: 0.74 - ETA: 16s - loss: 0.8245 - acc: 0.74 - ETA: 15s - loss: 0.8220 - acc: 0.74 - ETA: 14s - loss: 0.8228 - acc: 0.73 - ETA: 14s - loss: 0.8202 - acc: 0.74 - ETA: 13s - loss: 0.8176 - acc: 0.74 - ETA: 12s - loss: 0.8184 - acc: 0.73 - ETA: 11s - loss: 0.8159 - acc: 0.73 - ETA: 11s - loss: 0.8167 - acc: 0.73 - ETA: 10s - loss: 0.8174 - acc: 0.72 - ETA: 9s - loss: 0.8145 - acc: 0.7303 - ETA: 9s - loss: 0.8153 - acc: 0.727 - ETA: 8s - loss: 0.8126 - acc: 0.724 - ETA: 8s - loss: 0.8130 - acc: 0.721 - ETA: 7s - loss: 0.8138 - acc: 0.7184"
     ]
    },
    {
     "name": "stderr",
     "output_type": "stream",
     "text": [
      "C:\\Users\\Thiago\\Anaconda3\\lib\\site-packages\\keras\\callbacks.py:122: UserWarning: Method on_batch_end() is slow compared to the batch update (0.338023). Check your callbacks.\n",
      "  % delta_t_median)\n"
     ]
    },
    {
     "name": "stdout",
     "output_type": "stream",
     "text": [
      "247/256 [===========================>..] - ETA: 6s - loss: 0.8110 - acc: 0.715 - ETA: 6s - loss: 0.8117 - acc: 0.7166"
     ]
    },
    {
     "name": "stderr",
     "output_type": "stream",
     "text": [
      "C:\\Users\\Thiago\\Anaconda3\\lib\\site-packages\\keras\\callbacks.py:122: UserWarning: Method on_batch_end() is slow compared to the batch update (0.402027). Check your callbacks.\n",
      "  % delta_t_median)\n"
     ]
    },
    {
     "name": "stdout",
     "output_type": "stream",
     "text": [
      "250/256 [============================>.] - ETA: 5s - loss: 0.8091 - acc: 0.717 - ETA: 4s - loss: 0.8099 - acc: 0.714 - ETA: 4s - loss: 0.8106 - acc: 0.7120"
     ]
    },
    {
     "name": "stderr",
     "output_type": "stream",
     "text": [
      "C:\\Users\\Thiago\\Anaconda3\\lib\\site-packages\\keras\\callbacks.py:122: UserWarning: Method on_batch_end() is slow compared to the batch update (0.398028). Check your callbacks.\n",
      "  % delta_t_median)\n"
     ]
    },
    {
     "name": "stdout",
     "output_type": "stream",
     "text": [
      "252/256 [============================>.] - ETA: 3s - loss: 0.8098 - acc: 0.709 - ETA: 2s - loss: 0.8106 - acc: 0.7063"
     ]
    },
    {
     "name": "stderr",
     "output_type": "stream",
     "text": [
      "C:\\Users\\Thiago\\Anaconda3\\lib\\site-packages\\keras\\callbacks.py:122: UserWarning: Method on_batch_end() is slow compared to the batch update (0.348024). Check your callbacks.\n",
      "  % delta_t_median)\n"
     ]
    },
    {
     "name": "stdout",
     "output_type": "stream",
     "text": [
      "256/256 [==============================] - ETA: 2s - loss: 0.8113 - acc: 0.707 - ETA: 1s - loss: 0.8154 - acc: 0.704 - ETA: 0s - loss: 0.8161 - acc: 0.702 - 194s 758ms/step - loss: 0.8135 - acc: 0.6992 - val_loss: 0.9358 - val_acc: 0.2422\n",
      "Epoch 6/100\n",
      " 25/256 [=>............................] - ETA: 1:46 - loss: 1.8503 - acc: 1.000 - ETA: 2:07 - loss: 1.8427 - acc: 0.500 - ETA: 2:01 - loss: 1.8508 - acc: 0.333 - ETA: 2:13 - loss: 1.4213 - acc: 0.500 - ETA: 2:31 - loss: 1.3370 - acc: 0.400 - ETA: 2:35 - loss: 1.1451 - acc: 0.333 - ETA: 2:31 - loss: 1.1244 - acc: 0.285 - ETA: 2:27 - loss: 1.1088 - acc: 0.250 - ETA: 2:20 - loss: 1.0065 - acc: 0.222 - ETA: 2:13 - loss: 0.9233 - acc: 0.200 - ETA: 2:16 - loss: 0.9302 - acc: 0.181 - ETA: 2:14 - loss: 0.8670 - acc: 0.166 - ETA: 2:17 - loss: 0.8772 - acc: 0.153 - ETA: 2:16 - loss: 0.8860 - acc: 0.142 - ETA: 2:14 - loss: 0.8930 - acc: 0.133 - ETA: 2:10 - loss: 0.8473 - acc: 0.125 - ETA: 2:26 - loss: 0.8077 - acc: 0.117 - ETA: 2:34 - loss: 0.8184 - acc: 0.166 - ETA: 2:39 - loss: 0.8279 - acc: 0.157 - ETA: 2:41 - loss: 0.8365 - acc: 0.150 - ETA: 2:42 - loss: 0.8036 - acc: 0.190 - ETA: 2:40 - loss: 0.8125 - acc: 0.181 - ETA: 2:43 - loss: 0.8207 - acc: 0.173 - ETA: 2:42 - loss: 0.8282 - acc: 0.166 - ETA: 2:43 - loss: 0.8350 - acc: 0.1600"
     ]
    },
    {
     "name": "stderr",
     "output_type": "stream",
     "text": [
      "C:\\Users\\Thiago\\Anaconda3\\lib\\site-packages\\keras\\callbacks.py:122: UserWarning: Method on_batch_end() is slow compared to the batch update (0.336023). Check your callbacks.\n",
      "  % delta_t_median)\n"
     ]
    },
    {
     "name": "stdout",
     "output_type": "stream",
     "text": [
      " 26/256 [==>...........................] - ETA: 2:41 - loss: 0.8414 - acc: 0.1538"
     ]
    },
    {
     "name": "stderr",
     "output_type": "stream",
     "text": [
      "C:\\Users\\Thiago\\Anaconda3\\lib\\site-packages\\keras\\callbacks.py:122: UserWarning: Method on_batch_end() is slow compared to the batch update (0.323976). Check your callbacks.\n",
      "  % delta_t_median)\n"
     ]
    },
    {
     "name": "stdout",
     "output_type": "stream",
     "text": [
      " 42/256 [===>..........................] - ETA: 2:41 - loss: 0.8473 - acc: 0.148 - ETA: 2:39 - loss: 0.8531 - acc: 0.142 - ETA: 2:37 - loss: 0.8590 - acc: 0.137 - ETA: 2:35 - loss: 0.8352 - acc: 0.133 - ETA: 2:35 - loss: 0.8127 - acc: 0.161 - ETA: 2:34 - loss: 0.7915 - acc: 0.156 - ETA: 2:32 - loss: 0.8006 - acc: 0.181 - ETA: 2:31 - loss: 0.7811 - acc: 0.176 - ETA: 2:30 - loss: 0.7873 - acc: 0.171 - ETA: 2:28 - loss: 0.7932 - acc: 0.166 - ETA: 2:28 - loss: 0.7988 - acc: 0.162 - ETA: 2:27 - loss: 0.7818 - acc: 0.157 - ETA: 2:28 - loss: 0.7650 - acc: 0.153 - ETA: 2:28 - loss: 0.7709 - acc: 0.175 - ETA: 2:27 - loss: 0.7765 - acc: 0.195 - ETA: 2:27 - loss: 0.7818 - acc: 0.2143"
     ]
    },
    {
     "name": "stderr",
     "output_type": "stream",
     "text": [
      "C:\\Users\\Thiago\\Anaconda3\\lib\\site-packages\\keras\\callbacks.py:122: UserWarning: Method on_batch_end() is slow compared to the batch update (0.358462). Check your callbacks.\n",
      "  % delta_t_median)\n"
     ]
    },
    {
     "name": "stdout",
     "output_type": "stream",
     "text": [
      " 43/256 [====>.........................] - ETA: 2:29 - loss: 0.8061 - acc: 0.2326"
     ]
    },
    {
     "name": "stderr",
     "output_type": "stream",
     "text": [
      "C:\\Users\\Thiago\\Anaconda3\\lib\\site-packages\\keras\\callbacks.py:122: UserWarning: Method on_batch_end() is slow compared to the batch update (0.340326). Check your callbacks.\n",
      "  % delta_t_median)\n"
     ]
    },
    {
     "name": "stdout",
     "output_type": "stream",
     "text": [
      " 44/256 [====>.........................] - ETA: 2:27 - loss: 0.8105 - acc: 0.2273"
     ]
    },
    {
     "name": "stderr",
     "output_type": "stream",
     "text": [
      "C:\\Users\\Thiago\\Anaconda3\\lib\\site-packages\\keras\\callbacks.py:122: UserWarning: Method on_batch_end() is slow compared to the batch update (0.333301). Check your callbacks.\n",
      "  % delta_t_median)\n"
     ]
    },
    {
     "name": "stdout",
     "output_type": "stream",
     "text": [
      "102/256 [==========>...................] - ETA: 2:26 - loss: 0.7964 - acc: 0.222 - ETA: 2:24 - loss: 0.8191 - acc: 0.239 - ETA: 2:26 - loss: 0.8049 - acc: 0.234 - ETA: 2:29 - loss: 0.7917 - acc: 0.229 - ETA: 2:30 - loss: 0.8137 - acc: 0.224 - ETA: 2:30 - loss: 0.8174 - acc: 0.220 - ETA: 2:29 - loss: 0.8210 - acc: 0.215 - ETA: 2:28 - loss: 0.8080 - acc: 0.230 - ETA: 2:27 - loss: 0.8117 - acc: 0.245 - ETA: 2:26 - loss: 0.8151 - acc: 0.240 - ETA: 2:24 - loss: 0.8031 - acc: 0.236 - ETA: 2:23 - loss: 0.8067 - acc: 0.232 - ETA: 2:22 - loss: 0.8206 - acc: 0.245 - ETA: 2:21 - loss: 0.8385 - acc: 0.241 - ETA: 2:20 - loss: 0.8266 - acc: 0.237 - ETA: 2:19 - loss: 0.8295 - acc: 0.233 - ETA: 2:18 - loss: 0.8323 - acc: 0.245 - ETA: 2:16 - loss: 0.8350 - acc: 0.258 - ETA: 2:15 - loss: 0.8376 - acc: 0.254 - ETA: 2:14 - loss: 0.8272 - acc: 0.250 - ETA: 2:14 - loss: 0.8432 - acc: 0.246 - ETA: 2:13 - loss: 0.8586 - acc: 0.242 - ETA: 2:11 - loss: 0.8607 - acc: 0.238 - ETA: 2:10 - loss: 0.8501 - acc: 0.235 - ETA: 2:09 - loss: 0.8403 - acc: 0.231 - ETA: 2:08 - loss: 0.8304 - acc: 0.228 - ETA: 2:07 - loss: 0.8328 - acc: 0.225 - ETA: 2:06 - loss: 0.8269 - acc: 0.236 - ETA: 2:06 - loss: 0.8293 - acc: 0.232 - ETA: 2:05 - loss: 0.8198 - acc: 0.229 - ETA: 2:04 - loss: 0.8222 - acc: 0.240 - ETA: 2:03 - loss: 0.8245 - acc: 0.236 - ETA: 2:02 - loss: 0.8380 - acc: 0.246 - ETA: 2:00 - loss: 0.8335 - acc: 0.243 - ETA: 1:59 - loss: 0.8356 - acc: 0.240 - ETA: 1:59 - loss: 0.8377 - acc: 0.250 - ETA: 1:58 - loss: 0.8397 - acc: 0.246 - ETA: 1:57 - loss: 0.8526 - acc: 0.256 - ETA: 1:56 - loss: 0.8544 - acc: 0.253 - ETA: 1:56 - loss: 0.8561 - acc: 0.250 - ETA: 1:55 - loss: 0.8578 - acc: 0.247 - ETA: 1:53 - loss: 0.8595 - acc: 0.244 - ETA: 1:53 - loss: 0.8505 - acc: 0.241 - ETA: 1:51 - loss: 0.8522 - acc: 0.238 - ETA: 1:52 - loss: 0.8543 - acc: 0.236 - ETA: 1:51 - loss: 0.8560 - acc: 0.233 - ETA: 1:50 - loss: 0.8677 - acc: 0.230 - ETA: 1:49 - loss: 0.8691 - acc: 0.228 - ETA: 1:48 - loss: 0.8705 - acc: 0.225 - ETA: 1:47 - loss: 0.8719 - acc: 0.223 - ETA: 1:47 - loss: 0.8732 - acc: 0.221 - ETA: 1:48 - loss: 0.8746 - acc: 0.229 - ETA: 1:48 - loss: 0.8759 - acc: 0.226 - ETA: 1:48 - loss: 0.8771 - acc: 0.224 - ETA: 1:48 - loss: 0.8784 - acc: 0.222 - ETA: 1:47 - loss: 0.8796 - acc: 0.220 - ETA: 1:46 - loss: 0.8805 - acc: 0.217 - ETA: 1:45 - loss: 0.8817 - acc: 0.2157"
     ]
    },
    {
     "name": "stderr",
     "output_type": "stream",
     "text": [
      "C:\\Users\\Thiago\\Anaconda3\\lib\\site-packages\\keras\\callbacks.py:122: UserWarning: Method on_batch_end() is slow compared to the batch update (0.310230). Check your callbacks.\n",
      "  % delta_t_median)\n"
     ]
    },
    {
     "name": "stdout",
     "output_type": "stream",
     "text": [
      "178/256 [===================>..........] - ETA: 1:44 - loss: 0.8828 - acc: 0.223 - ETA: 1:44 - loss: 0.8929 - acc: 0.230 - ETA: 1:43 - loss: 0.8939 - acc: 0.238 - ETA: 1:42 - loss: 0.8959 - acc: 0.235 - ETA: 1:41 - loss: 0.8968 - acc: 0.233 - ETA: 1:40 - loss: 0.8895 - acc: 0.240 - ETA: 1:40 - loss: 0.8905 - acc: 0.247 - ETA: 1:39 - loss: 0.8830 - acc: 0.254 - ETA: 1:38 - loss: 0.8840 - acc: 0.252 - ETA: 1:37 - loss: 0.8850 - acc: 0.250 - ETA: 1:36 - loss: 0.8930 - acc: 0.247 - ETA: 1:35 - loss: 0.8939 - acc: 0.245 - ETA: 1:35 - loss: 0.9026 - acc: 0.243 - ETA: 1:34 - loss: 0.9034 - acc: 0.241 - ETA: 1:33 - loss: 0.9042 - acc: 0.239 - ETA: 1:32 - loss: 0.9051 - acc: 0.245 - ETA: 1:32 - loss: 0.9137 - acc: 0.252 - ETA: 1:31 - loss: 0.9144 - acc: 0.250 - ETA: 1:30 - loss: 0.9151 - acc: 0.247 - ETA: 1:29 - loss: 0.9082 - acc: 0.245 - ETA: 1:28 - loss: 0.9165 - acc: 0.243 - ETA: 1:28 - loss: 0.9172 - acc: 0.241 - ETA: 1:27 - loss: 0.9238 - acc: 0.248 - ETA: 1:26 - loss: 0.9244 - acc: 0.246 - ETA: 1:25 - loss: 0.9178 - acc: 0.244 - ETA: 1:24 - loss: 0.9257 - acc: 0.242 - ETA: 1:24 - loss: 0.9262 - acc: 0.240 - ETA: 1:23 - loss: 0.9202 - acc: 0.238 - ETA: 1:22 - loss: 0.9207 - acc: 0.236 - ETA: 1:21 - loss: 0.9213 - acc: 0.242 - ETA: 1:21 - loss: 0.9223 - acc: 0.240 - ETA: 1:20 - loss: 0.9294 - acc: 0.246 - ETA: 1:19 - loss: 0.9236 - acc: 0.244 - ETA: 1:18 - loss: 0.9181 - acc: 0.242 - ETA: 1:18 - loss: 0.9187 - acc: 0.240 - ETA: 1:17 - loss: 0.9192 - acc: 0.246 - ETA: 1:16 - loss: 0.9198 - acc: 0.244 - ETA: 1:15 - loss: 0.9218 - acc: 0.250 - ETA: 1:15 - loss: 0.9227 - acc: 0.255 - ETA: 1:14 - loss: 0.9229 - acc: 0.260 - ETA: 1:13 - loss: 0.9235 - acc: 0.258 - ETA: 1:13 - loss: 0.9240 - acc: 0.256 - ETA: 1:12 - loss: 0.9245 - acc: 0.255 - ETA: 1:11 - loss: 0.9191 - acc: 0.253 - ETA: 1:11 - loss: 0.9196 - acc: 0.251 - ETA: 1:10 - loss: 0.9263 - acc: 0.250 - ETA: 1:09 - loss: 0.9267 - acc: 0.255 - ETA: 1:08 - loss: 0.9276 - acc: 0.260 - ETA: 1:08 - loss: 0.9279 - acc: 0.264 - ETA: 1:07 - loss: 0.9224 - acc: 0.263 - ETA: 1:06 - loss: 0.9229 - acc: 0.261 - ETA: 1:06 - loss: 0.9234 - acc: 0.259 - ETA: 1:05 - loss: 0.9240 - acc: 0.258 - ETA: 1:04 - loss: 0.9304 - acc: 0.256 - ETA: 1:04 - loss: 0.9367 - acc: 0.261 - ETA: 1:03 - loss: 0.9371 - acc: 0.259 - ETA: 1:02 - loss: 0.9433 - acc: 0.257 - ETA: 1:02 - loss: 0.9436 - acc: 0.256 - ETA: 1:01 - loss: 0.9383 - acc: 0.254 - ETA: 1:00 - loss: 0.9386 - acc: 0.259 - ETA: 1:00 - loss: 0.9390 - acc: 0.257 - ETA: 59s - loss: 0.9338 - acc: 0.262 - ETA: 58s - loss: 0.9286 - acc: 0.26 - ETA: 58s - loss: 0.9346 - acc: 0.25 - ETA: 57s - loss: 0.9350 - acc: 0.26 - ETA: 57s - loss: 0.9354 - acc: 0.26 - ETA: 56s - loss: 0.9357 - acc: 0.26 - ETA: 56s - loss: 0.9307 - acc: 0.27 - ETA: 56s - loss: 0.9311 - acc: 0.26 - ETA: 56s - loss: 0.9315 - acc: 0.26 - ETA: 55s - loss: 0.9319 - acc: 0.26 - ETA: 54s - loss: 0.9323 - acc: 0.26 - ETA: 54s - loss: 0.9379 - acc: 0.26 - ETA: 54s - loss: 0.9435 - acc: 0.26 - ETA: 54s - loss: 0.9490 - acc: 0.26 - ETA: 53s - loss: 0.9493 - acc: 0.2640"
     ]
    },
    {
     "name": "stderr",
     "output_type": "stream",
     "text": [
      "C:\\Users\\Thiago\\Anaconda3\\lib\\site-packages\\keras\\callbacks.py:122: UserWarning: Method on_batch_end() is slow compared to the batch update (0.587512). Check your callbacks.\n",
      "  % delta_t_median)\n"
     ]
    },
    {
     "name": "stdout",
     "output_type": "stream",
     "text": [
      "180/256 [====================>.........] - ETA: 53s - loss: 0.9544 - acc: 0.26 - ETA: 52s - loss: 0.9498 - acc: 0.2611"
     ]
    },
    {
     "name": "stderr",
     "output_type": "stream",
     "text": [
      "C:\\Users\\Thiago\\Anaconda3\\lib\\site-packages\\keras\\callbacks.py:122: UserWarning: Method on_batch_end() is slow compared to the batch update (0.475926). Check your callbacks.\n",
      "  % delta_t_median)\n"
     ]
    },
    {
     "name": "stdout",
     "output_type": "stream",
     "text": [
      "181/256 [====================>.........] - ETA: 51s - loss: 0.9549 - acc: 0.2597"
     ]
    },
    {
     "name": "stderr",
     "output_type": "stream",
     "text": [
      "C:\\Users\\Thiago\\Anaconda3\\lib\\site-packages\\keras\\callbacks.py:122: UserWarning: Method on_batch_end() is slow compared to the batch update (0.400063). Check your callbacks.\n",
      "  % delta_t_median)\n"
     ]
    },
    {
     "name": "stdout",
     "output_type": "stream",
     "text": [
      "183/256 [====================>.........] - ETA: 50s - loss: 0.9552 - acc: 0.25 - ETA: 50s - loss: 0.9555 - acc: 0.2623"
     ]
    },
    {
     "name": "stderr",
     "output_type": "stream",
     "text": [
      "C:\\Users\\Thiago\\Anaconda3\\lib\\site-packages\\keras\\callbacks.py:122: UserWarning: Method on_batch_end() is slow compared to the batch update (0.359079). Check your callbacks.\n",
      "  % delta_t_median)\n"
     ]
    },
    {
     "name": "stdout",
     "output_type": "stream",
     "text": [
      "210/256 [=======================>......] - ETA: 49s - loss: 0.9557 - acc: 0.26 - ETA: 48s - loss: 0.9559 - acc: 0.26 - ETA: 47s - loss: 0.9562 - acc: 0.26 - ETA: 47s - loss: 0.9564 - acc: 0.26 - ETA: 46s - loss: 0.9522 - acc: 0.26 - ETA: 45s - loss: 0.9526 - acc: 0.26 - ETA: 45s - loss: 0.9487 - acc: 0.26 - ETA: 44s - loss: 0.9448 - acc: 0.26 - ETA: 43s - loss: 0.9408 - acc: 0.26 - ETA: 42s - loss: 0.9383 - acc: 0.25 - ETA: 42s - loss: 0.9386 - acc: 0.25 - ETA: 41s - loss: 0.9389 - acc: 0.26 - ETA: 40s - loss: 0.9347 - acc: 0.26 - ETA: 40s - loss: 0.9351 - acc: 0.25 - ETA: 39s - loss: 0.9354 - acc: 0.25 - ETA: 38s - loss: 0.9312 - acc: 0.25 - ETA: 37s - loss: 0.9315 - acc: 0.25 - ETA: 37s - loss: 0.9311 - acc: 0.25 - ETA: 36s - loss: 0.9270 - acc: 0.25 - ETA: 35s - loss: 0.9273 - acc: 0.25 - ETA: 35s - loss: 0.9232 - acc: 0.25 - ETA: 34s - loss: 0.9190 - acc: 0.24 - ETA: 33s - loss: 0.9240 - acc: 0.24 - ETA: 33s - loss: 0.9249 - acc: 0.25 - ETA: 32s - loss: 0.9252 - acc: 0.25 - ETA: 31s - loss: 0.9215 - acc: 0.24 - ETA: 31s - loss: 0.9219 - acc: 0.2476"
     ]
    },
    {
     "name": "stderr",
     "output_type": "stream",
     "text": [
      "C:\\Users\\Thiago\\Anaconda3\\lib\\site-packages\\keras\\callbacks.py:122: UserWarning: Method on_batch_end() is slow compared to the batch update (0.320316). Check your callbacks.\n",
      "  % delta_t_median)\n"
     ]
    },
    {
     "name": "stdout",
     "output_type": "stream",
     "text": [
      "212/256 [=======================>......] - ETA: 30s - loss: 0.9265 - acc: 0.25 - ETA: 29s - loss: 0.9269 - acc: 0.2500"
     ]
    },
    {
     "name": "stderr",
     "output_type": "stream",
     "text": [
      "C:\\Users\\Thiago\\Anaconda3\\lib\\site-packages\\keras\\callbacks.py:122: UserWarning: Method on_batch_end() is slow compared to the batch update (0.313199). Check your callbacks.\n",
      "  % delta_t_median)\n"
     ]
    },
    {
     "name": "stdout",
     "output_type": "stream",
     "text": [
      "248/256 [============================>.] - ETA: 29s - loss: 0.9273 - acc: 0.24 - ETA: 28s - loss: 0.9235 - acc: 0.25 - ETA: 27s - loss: 0.9198 - acc: 0.25 - ETA: 26s - loss: 0.9166 - acc: 0.25 - ETA: 26s - loss: 0.9170 - acc: 0.25 - ETA: 25s - loss: 0.9174 - acc: 0.25 - ETA: 24s - loss: 0.9136 - acc: 0.25 - ETA: 24s - loss: 0.9139 - acc: 0.25 - ETA: 23s - loss: 0.9103 - acc: 0.25 - ETA: 23s - loss: 0.9107 - acc: 0.25 - ETA: 22s - loss: 0.9111 - acc: 0.26 - ETA: 21s - loss: 0.9114 - acc: 0.25 - ETA: 21s - loss: 0.9077 - acc: 0.26 - ETA: 20s - loss: 0.9039 - acc: 0.26 - ETA: 20s - loss: 0.9004 - acc: 0.25 - ETA: 19s - loss: 0.9008 - acc: 0.25 - ETA: 18s - loss: 0.8972 - acc: 0.25 - ETA: 18s - loss: 0.8936 - acc: 0.25 - ETA: 17s - loss: 0.8941 - acc: 0.25 - ETA: 16s - loss: 0.8945 - acc: 0.25 - ETA: 16s - loss: 0.8950 - acc: 0.25 - ETA: 15s - loss: 0.8914 - acc: 0.25 - ETA: 14s - loss: 0.8959 - acc: 0.25 - ETA: 14s - loss: 0.9003 - acc: 0.25 - ETA: 13s - loss: 0.9047 - acc: 0.25 - ETA: 12s - loss: 0.9051 - acc: 0.26 - ETA: 12s - loss: 0.9055 - acc: 0.26 - ETA: 11s - loss: 0.9020 - acc: 0.26 - ETA: 10s - loss: 0.9024 - acc: 0.26 - ETA: 10s - loss: 0.9067 - acc: 0.26 - ETA: 9s - loss: 0.9057 - acc: 0.2634 - ETA: 8s - loss: 0.9061 - acc: 0.262 - ETA: 8s - loss: 0.9065 - acc: 0.261 - ETA: 7s - loss: 0.9068 - acc: 0.260 - ETA: 6s - loss: 0.9072 - acc: 0.263 - ETA: 5s - loss: 0.9038 - acc: 0.2621"
     ]
    },
    {
     "name": "stderr",
     "output_type": "stream",
     "text": [
      "C:\\Users\\Thiago\\Anaconda3\\lib\\site-packages\\keras\\callbacks.py:122: UserWarning: Method on_batch_end() is slow compared to the batch update (0.594646). Check your callbacks.\n",
      "  % delta_t_median)\n"
     ]
    },
    {
     "name": "stdout",
     "output_type": "stream",
     "text": [
      "251/256 [============================>.] - ETA: 5s - loss: 0.9003 - acc: 0.265 - ETA: 4s - loss: 0.9045 - acc: 0.264 - ETA: 3s - loss: 0.9049 - acc: 0.2629"
     ]
    },
    {
     "name": "stderr",
     "output_type": "stream",
     "text": [
      "C:\\Users\\Thiago\\Anaconda3\\lib\\site-packages\\keras\\callbacks.py:122: UserWarning: Method on_batch_end() is slow compared to the batch update (0.556373). Check your callbacks.\n",
      "  % delta_t_median)\n"
     ]
    },
    {
     "name": "stdout",
     "output_type": "stream",
     "text": [
      "252/256 [============================>.] - ETA: 2s - loss: 0.9052 - acc: 0.2619"
     ]
    },
    {
     "name": "stderr",
     "output_type": "stream",
     "text": [
      "C:\\Users\\Thiago\\Anaconda3\\lib\\site-packages\\keras\\callbacks.py:122: UserWarning: Method on_batch_end() is slow compared to the batch update (0.482143). Check your callbacks.\n",
      "  % delta_t_median)\n"
     ]
    },
    {
     "name": "stdout",
     "output_type": "stream",
     "text": [
      "256/256 [==============================] - ETA: 2s - loss: 0.9092 - acc: 0.260 - ETA: 1s - loss: 0.9062 - acc: 0.259 - ETA: 0s - loss: 0.9066 - acc: 0.258 - 210s 821ms/step - loss: 0.9098 - acc: 0.2578 - val_loss: 0.9340 - val_acc: 0.2754\n",
      "Epoch 7/100\n",
      " 19/256 [=>............................] - ETA: 1:25 - loss: 1.0006 - acc: 0.0000e+0 - ETA: 1:56 - loss: 0.9958 - acc: 0.5000    - ETA: 2:00 - loss: 0.9962 - acc: 0.333 - ETA: 2:58 - loss: 0.9867 - acc: 0.250 - ETA: 3:37 - loss: 0.9894 - acc: 0.200 - ETA: 4:10 - loss: 0.9903 - acc: 0.333 - ETA: 4:29 - loss: 0.9917 - acc: 0.285 - ETA: 4:32 - loss: 1.0392 - acc: 0.250 - ETA: 4:33 - loss: 1.0349 - acc: 0.222 - ETA: 4:35 - loss: 1.0315 - acc: 0.200 - ETA: 4:41 - loss: 1.0287 - acc: 0.272 - ETA: 4:48 - loss: 1.0260 - acc: 0.333 - ETA: 4:55 - loss: 1.0237 - acc: 0.384 - ETA: 5:04 - loss: 1.0220 - acc: 0.357 - ETA: 5:06 - loss: 1.0206 - acc: 0.333 - ETA: 5:13 - loss: 1.0552 - acc: 0.312 - ETA: 5:12 - loss: 1.0278 - acc: 0.352 - ETA: 5:15 - loss: 1.0263 - acc: 0.333 - ETA: 5:03 - loss: 1.0249 - acc: 0.3158"
     ]
    },
    {
     "name": "stderr",
     "output_type": "stream",
     "text": [
      "C:\\Users\\Thiago\\Anaconda3\\lib\\site-packages\\keras\\callbacks.py:122: UserWarning: Method on_batch_end() is slow compared to the batch update (0.489919). Check your callbacks.\n",
      "  % delta_t_median)\n"
     ]
    },
    {
     "name": "stdout",
     "output_type": "stream",
     "text": [
      " 35/256 [===>..........................] - ETA: 4:55 - loss: 0.9898 - acc: 0.300 - ETA: 4:46 - loss: 1.0234 - acc: 0.285 - ETA: 4:50 - loss: 0.9906 - acc: 0.272 - ETA: 4:47 - loss: 0.9910 - acc: 0.260 - ETA: 4:53 - loss: 1.0200 - acc: 0.250 - ETA: 4:55 - loss: 1.0192 - acc: 0.280 - ETA: 4:58 - loss: 1.0183 - acc: 0.307 - ETA: 4:58 - loss: 0.9921 - acc: 0.296 - ETA: 4:55 - loss: 0.9925 - acc: 0.285 - ETA: 4:54 - loss: 0.9686 - acc: 0.275 - ETA: 4:55 - loss: 0.9697 - acc: 0.266 - ETA: 4:55 - loss: 0.9483 - acc: 0.258 - ETA: 4:56 - loss: 0.9499 - acc: 0.250 - ETA: 4:55 - loss: 0.9727 - acc: 0.242 - ETA: 4:54 - loss: 0.9735 - acc: 0.264 - ETA: 4:50 - loss: 0.9743 - acc: 0.2571"
     ]
    },
    {
     "name": "stderr",
     "output_type": "stream",
     "text": [
      "C:\\Users\\Thiago\\Anaconda3\\lib\\site-packages\\keras\\callbacks.py:122: UserWarning: Method on_batch_end() is slow compared to the batch update (0.528417). Check your callbacks.\n",
      "  % delta_t_median)\n"
     ]
    },
    {
     "name": "stdout",
     "output_type": "stream",
     "text": [
      " 44/256 [====>.........................] - ETA: 4:49 - loss: 0.9750 - acc: 0.250 - ETA: 4:49 - loss: 0.9760 - acc: 0.243 - ETA: 4:49 - loss: 0.9766 - acc: 0.236 - ETA: 4:47 - loss: 0.9956 - acc: 0.256 - ETA: 4:48 - loss: 0.9814 - acc: 0.275 - ETA: 4:49 - loss: 0.9819 - acc: 0.268 - ETA: 4:49 - loss: 0.9823 - acc: 0.285 - ETA: 4:46 - loss: 0.9970 - acc: 0.279 - ETA: 4:43 - loss: 0.9972 - acc: 0.2727"
     ]
    },
    {
     "name": "stderr",
     "output_type": "stream",
     "text": [
      "C:\\Users\\Thiago\\Anaconda3\\lib\\site-packages\\keras\\callbacks.py:122: UserWarning: Method on_batch_end() is slow compared to the batch update (0.527025). Check your callbacks.\n",
      "  % delta_t_median)\n"
     ]
    },
    {
     "name": "stdout",
     "output_type": "stream",
     "text": [
      " 46/256 [====>.........................] - ETA: 4:39 - loss: 1.0124 - acc: 0.288 - ETA: 4:35 - loss: 1.0275 - acc: 0.2826"
     ]
    },
    {
     "name": "stderr",
     "output_type": "stream",
     "text": [
      "C:\\Users\\Thiago\\Anaconda3\\lib\\site-packages\\keras\\callbacks.py:122: UserWarning: Method on_batch_end() is slow compared to the batch update (0.413805). Check your callbacks.\n",
      "  % delta_t_median)\n"
     ]
    },
    {
     "name": "stdout",
     "output_type": "stream",
     "text": [
      " 48/256 [====>.........................] - ETA: 4:30 - loss: 1.0269 - acc: 0.297 - ETA: 4:25 - loss: 1.0115 - acc: 0.2917"
     ]
    },
    {
     "name": "stderr",
     "output_type": "stream",
     "text": [
      "C:\\Users\\Thiago\\Anaconda3\\lib\\site-packages\\keras\\callbacks.py:122: UserWarning: Method on_batch_end() is slow compared to the batch update (0.325294). Check your callbacks.\n",
      "  % delta_t_median)\n"
     ]
    },
    {
     "name": "stdout",
     "output_type": "stream",
     "text": [
      " 94/256 [==========>...................] - ETA: 4:24 - loss: 1.0113 - acc: 0.285 - ETA: 4:22 - loss: 1.0109 - acc: 0.280 - ETA: 4:23 - loss: 1.0106 - acc: 0.274 - ETA: 4:22 - loss: 0.9978 - acc: 0.269 - ETA: 4:20 - loss: 0.9983 - acc: 0.283 - ETA: 4:17 - loss: 0.9984 - acc: 0.277 - ETA: 4:14 - loss: 1.0104 - acc: 0.272 - ETA: 4:10 - loss: 1.0218 - acc: 0.267 - ETA: 4:07 - loss: 1.0334 - acc: 0.263 - ETA: 4:03 - loss: 1.0217 - acc: 0.258 - ETA: 4:00 - loss: 1.0307 - acc: 0.271 - ETA: 3:56 - loss: 1.0411 - acc: 0.283 - ETA: 3:53 - loss: 1.0404 - acc: 0.278 - ETA: 3:50 - loss: 1.0397 - acc: 0.274 - ETA: 3:47 - loss: 1.0391 - acc: 0.269 - ETA: 3:44 - loss: 1.0479 - acc: 0.265 - ETA: 3:41 - loss: 1.0473 - acc: 0.276 - ETA: 3:39 - loss: 1.0465 - acc: 0.272 - ETA: 3:36 - loss: 1.0449 - acc: 0.268 - ETA: 3:33 - loss: 1.0359 - acc: 0.264 - ETA: 3:31 - loss: 1.0271 - acc: 0.275 - ETA: 3:28 - loss: 1.0267 - acc: 0.271 - ETA: 3:25 - loss: 1.0264 - acc: 0.267 - ETA: 3:23 - loss: 1.0258 - acc: 0.277 - ETA: 3:20 - loss: 1.0254 - acc: 0.274 - ETA: 3:18 - loss: 1.0251 - acc: 0.270 - ETA: 3:16 - loss: 1.0172 - acc: 0.266 - ETA: 3:15 - loss: 1.0170 - acc: 0.263 - ETA: 3:13 - loss: 1.0243 - acc: 0.259 - ETA: 3:11 - loss: 1.0240 - acc: 0.256 - ETA: 3:09 - loss: 1.0237 - acc: 0.253 - ETA: 3:07 - loss: 1.0283 - acc: 0.250 - ETA: 3:05 - loss: 1.0350 - acc: 0.259 - ETA: 3:04 - loss: 1.0347 - acc: 0.268 - ETA: 3:04 - loss: 1.0342 - acc: 0.265 - ETA: 3:04 - loss: 1.0402 - acc: 0.261 - ETA: 3:03 - loss: 1.0397 - acc: 0.258 - ETA: 3:03 - loss: 1.0394 - acc: 0.267 - ETA: 3:03 - loss: 1.0389 - acc: 0.275 - ETA: 3:03 - loss: 1.0426 - acc: 0.272 - ETA: 3:03 - loss: 1.0478 - acc: 0.269 - ETA: 3:02 - loss: 1.0417 - acc: 0.266 - ETA: 3:02 - loss: 1.0465 - acc: 0.263 - ETA: 3:02 - loss: 1.0460 - acc: 0.260 - ETA: 3:00 - loss: 1.0454 - acc: 0.268 - ETA: 2:58 - loss: 1.0450 - acc: 0.2660"
     ]
    },
    {
     "name": "stderr",
     "output_type": "stream",
     "text": [
      "C:\\Users\\Thiago\\Anaconda3\\lib\\site-packages\\keras\\callbacks.py:122: UserWarning: Method on_batch_end() is slow compared to the batch update (0.577419). Check your callbacks.\n",
      "  % delta_t_median)\n"
     ]
    },
    {
     "name": "stdout",
     "output_type": "stream",
     "text": [
      " 95/256 [==========>...................] - ETA: 2:57 - loss: 1.0444 - acc: 0.2632"
     ]
    },
    {
     "name": "stderr",
     "output_type": "stream",
     "text": [
      "C:\\Users\\Thiago\\Anaconda3\\lib\\site-packages\\keras\\callbacks.py:122: UserWarning: Method on_batch_end() is slow compared to the batch update (0.539364). Check your callbacks.\n",
      "  % delta_t_median)\n"
     ]
    },
    {
     "name": "stdout",
     "output_type": "stream",
     "text": [
      " 96/256 [==========>...................] - ETA: 2:55 - loss: 1.0439 - acc: 0.2604"
     ]
    },
    {
     "name": "stderr",
     "output_type": "stream",
     "text": [
      "C:\\Users\\Thiago\\Anaconda3\\lib\\site-packages\\keras\\callbacks.py:122: UserWarning: Method on_batch_end() is slow compared to the batch update (0.465937). Check your callbacks.\n",
      "  % delta_t_median)\n"
     ]
    },
    {
     "name": "stdout",
     "output_type": "stream",
     "text": [
      " 97/256 [==========>...................] - ETA: 2:53 - loss: 1.0387 - acc: 0.2577"
     ]
    },
    {
     "name": "stderr",
     "output_type": "stream",
     "text": [
      "C:\\Users\\Thiago\\Anaconda3\\lib\\site-packages\\keras\\callbacks.py:122: UserWarning: Method on_batch_end() is slow compared to the batch update (0.376076). Check your callbacks.\n",
      "  % delta_t_median)\n"
     ]
    },
    {
     "name": "stdout",
     "output_type": "stream",
     "text": [
      "130/256 [==============>...............] - ETA: 2:51 - loss: 1.0384 - acc: 0.265 - ETA: 2:50 - loss: 1.0380 - acc: 0.262 - ETA: 2:48 - loss: 1.0331 - acc: 0.260 - ETA: 2:46 - loss: 1.0328 - acc: 0.257 - ETA: 2:44 - loss: 1.0313 - acc: 0.264 - ETA: 2:42 - loss: 1.0310 - acc: 0.271 - ETA: 2:40 - loss: 1.0307 - acc: 0.269 - ETA: 2:38 - loss: 1.0304 - acc: 0.276 - ETA: 2:37 - loss: 1.0270 - acc: 0.273 - ETA: 2:35 - loss: 1.0303 - acc: 0.280 - ETA: 2:34 - loss: 1.0300 - acc: 0.277 - ETA: 2:32 - loss: 1.0298 - acc: 0.275 - ETA: 2:30 - loss: 1.0295 - acc: 0.272 - ETA: 2:29 - loss: 1.0293 - acc: 0.270 - ETA: 2:27 - loss: 1.0290 - acc: 0.267 - ETA: 2:26 - loss: 1.0245 - acc: 0.265 - ETA: 2:24 - loss: 1.0199 - acc: 0.263 - ETA: 2:23 - loss: 1.0197 - acc: 0.269 - ETA: 2:21 - loss: 1.0195 - acc: 0.267 - ETA: 2:20 - loss: 1.0194 - acc: 0.265 - ETA: 2:18 - loss: 1.0187 - acc: 0.262 - ETA: 2:17 - loss: 1.0186 - acc: 0.260 - ETA: 2:15 - loss: 1.0184 - acc: 0.258 - ETA: 2:14 - loss: 1.0183 - acc: 0.256 - ETA: 2:13 - loss: 1.0181 - acc: 0.254 - ETA: 2:13 - loss: 1.0218 - acc: 0.252 - ETA: 2:12 - loss: 1.0216 - acc: 0.250 - ETA: 2:11 - loss: 1.0171 - acc: 0.248 - ETA: 2:10 - loss: 1.0170 - acc: 0.254 - ETA: 2:10 - loss: 1.0168 - acc: 0.252 - ETA: 2:09 - loss: 1.0167 - acc: 0.257 - ETA: 2:08 - loss: 1.0123 - acc: 0.255 - ETA: 2:07 - loss: 1.0122 - acc: 0.2538"
     ]
    },
    {
     "name": "stderr",
     "output_type": "stream",
     "text": [
      "C:\\Users\\Thiago\\Anaconda3\\lib\\site-packages\\keras\\callbacks.py:122: UserWarning: Method on_batch_end() is slow compared to the batch update (0.488312). Check your callbacks.\n",
      "  % delta_t_median)\n"
     ]
    },
    {
     "name": "stdout",
     "output_type": "stream",
     "text": [
      "132/256 [==============>...............] - ETA: 2:06 - loss: 1.0078 - acc: 0.259 - ETA: 2:04 - loss: 1.0077 - acc: 0.2576"
     ]
    },
    {
     "name": "stderr",
     "output_type": "stream",
     "text": [
      "C:\\Users\\Thiago\\Anaconda3\\lib\\site-packages\\keras\\callbacks.py:122: UserWarning: Method on_batch_end() is slow compared to the batch update (0.432701). Check your callbacks.\n",
      "  % delta_t_median)\n"
     ]
    },
    {
     "name": "stdout",
     "output_type": "stream",
     "text": [
      "133/256 [==============>...............] - ETA: 2:03 - loss: 1.0078 - acc: 0.2632"
     ]
    },
    {
     "name": "stderr",
     "output_type": "stream",
     "text": [
      "C:\\Users\\Thiago\\Anaconda3\\lib\\site-packages\\keras\\callbacks.py:122: UserWarning: Method on_batch_end() is slow compared to the batch update (0.367412). Check your callbacks.\n",
      "  % delta_t_median)\n"
     ]
    },
    {
     "name": "stdout",
     "output_type": "stream",
     "text": [
      "170/256 [==================>...........] - ETA: 2:02 - loss: 1.0039 - acc: 0.261 - ETA: 2:00 - loss: 1.0042 - acc: 0.259 - ETA: 1:59 - loss: 0.9998 - acc: 0.257 - ETA: 1:57 - loss: 0.9976 - acc: 0.255 - ETA: 1:56 - loss: 0.9932 - acc: 0.253 - ETA: 1:55 - loss: 0.9933 - acc: 0.251 - ETA: 1:53 - loss: 0.9978 - acc: 0.257 - ETA: 1:52 - loss: 0.9978 - acc: 0.255 - ETA: 1:51 - loss: 0.9978 - acc: 0.253 - ETA: 1:51 - loss: 0.9978 - acc: 0.251 - ETA: 1:50 - loss: 0.9978 - acc: 0.256 - ETA: 1:50 - loss: 0.9978 - acc: 0.255 - ETA: 1:49 - loss: 0.9977 - acc: 0.260 - ETA: 1:48 - loss: 0.9933 - acc: 0.258 - ETA: 1:48 - loss: 0.9977 - acc: 0.256 - ETA: 1:47 - loss: 0.9976 - acc: 0.255 - ETA: 1:46 - loss: 0.9978 - acc: 0.253 - ETA: 1:45 - loss: 0.9978 - acc: 0.251 - ETA: 1:45 - loss: 0.9978 - acc: 0.250 - ETA: 1:44 - loss: 0.9983 - acc: 0.254 - ETA: 1:43 - loss: 0.9983 - acc: 0.253 - ETA: 1:43 - loss: 0.9995 - acc: 0.251 - ETA: 1:42 - loss: 0.9982 - acc: 0.250 - ETA: 1:41 - loss: 0.9982 - acc: 0.248 - ETA: 1:40 - loss: 0.9982 - acc: 0.246 - ETA: 1:40 - loss: 0.9993 - acc: 0.245 - ETA: 1:39 - loss: 0.9985 - acc: 0.250 - ETA: 1:38 - loss: 0.9985 - acc: 0.248 - ETA: 1:37 - loss: 0.9985 - acc: 0.246 - ETA: 1:37 - loss: 0.9991 - acc: 0.245 - ETA: 1:36 - loss: 0.9991 - acc: 0.243 - ETA: 1:35 - loss: 0.9991 - acc: 0.242 - ETA: 1:35 - loss: 0.9988 - acc: 0.241 - ETA: 1:34 - loss: 0.9985 - acc: 0.239 - ETA: 1:33 - loss: 0.9989 - acc: 0.238 - ETA: 1:32 - loss: 0.9985 - acc: 0.236 - ETA: 1:31 - loss: 0.9986 - acc: 0.2353"
     ]
    },
    {
     "name": "stderr",
     "output_type": "stream",
     "text": [
      "C:\\Users\\Thiago\\Anaconda3\\lib\\site-packages\\keras\\callbacks.py:122: UserWarning: Method on_batch_end() is slow compared to the batch update (0.521600). Check your callbacks.\n",
      "  % delta_t_median)\n"
     ]
    },
    {
     "name": "stdout",
     "output_type": "stream",
     "text": [
      "206/256 [=======================>......] - ETA: 1:30 - loss: 0.9983 - acc: 0.233 - ETA: 1:29 - loss: 0.9981 - acc: 0.232 - ETA: 1:28 - loss: 0.9983 - acc: 0.231 - ETA: 1:27 - loss: 0.9986 - acc: 0.229 - ETA: 1:26 - loss: 0.9990 - acc: 0.228 - ETA: 1:25 - loss: 0.9991 - acc: 0.227 - ETA: 1:24 - loss: 0.9991 - acc: 0.226 - ETA: 1:23 - loss: 0.9990 - acc: 0.224 - ETA: 1:22 - loss: 0.9990 - acc: 0.223 - ETA: 1:21 - loss: 0.9988 - acc: 0.222 - ETA: 1:20 - loss: 0.9988 - acc: 0.221 - ETA: 1:19 - loss: 0.9985 - acc: 0.225 - ETA: 1:18 - loss: 0.9984 - acc: 0.224 - ETA: 1:17 - loss: 0.9984 - acc: 0.228 - ETA: 1:16 - loss: 0.9980 - acc: 0.227 - ETA: 1:15 - loss: 0.9977 - acc: 0.231 - ETA: 1:14 - loss: 0.9977 - acc: 0.229 - ETA: 1:13 - loss: 0.9977 - acc: 0.228 - ETA: 1:12 - loss: 0.9977 - acc: 0.232 - ETA: 1:11 - loss: 0.9972 - acc: 0.231 - ETA: 1:10 - loss: 0.9972 - acc: 0.230 - ETA: 1:10 - loss: 0.9972 - acc: 0.229 - ETA: 1:09 - loss: 0.9963 - acc: 0.228 - ETA: 1:08 - loss: 0.9975 - acc: 0.232 - ETA: 1:07 - loss: 0.9974 - acc: 0.230 - ETA: 1:06 - loss: 0.9975 - acc: 0.229 - ETA: 1:04 - loss: 0.9975 - acc: 0.228 - ETA: 1:03 - loss: 0.9975 - acc: 0.227 - ETA: 1:02 - loss: 0.9975 - acc: 0.226 - ETA: 1:01 - loss: 0.9975 - acc: 0.225 - ETA: 1:00 - loss: 0.9960 - acc: 0.228 - ETA: 59s - loss: 0.9961 - acc: 0.227 - ETA: 58s - loss: 0.9961 - acc: 0.22 - ETA: 57s - loss: 0.9964 - acc: 0.23 - ETA: 55s - loss: 0.9964 - acc: 0.23 - ETA: 54s - loss: 0.9965 - acc: 0.2330"
     ]
    },
    {
     "name": "stderr",
     "output_type": "stream",
     "text": [
      "C:\\Users\\Thiago\\Anaconda3\\lib\\site-packages\\keras\\callbacks.py:122: UserWarning: Method on_batch_end() is slow compared to the batch update (0.310922). Check your callbacks.\n",
      "  % delta_t_median)\n"
     ]
    },
    {
     "name": "stdout",
     "output_type": "stream",
     "text": [
      "208/256 [=======================>......] - ETA: 53s - loss: 0.9968 - acc: 0.23 - ETA: 52s - loss: 0.9967 - acc: 0.2308"
     ]
    },
    {
     "name": "stderr",
     "output_type": "stream",
     "text": [
      "C:\\Users\\Thiago\\Anaconda3\\lib\\site-packages\\keras\\callbacks.py:122: UserWarning: Method on_batch_end() is slow compared to the batch update (0.316477). Check your callbacks.\n",
      "  % delta_t_median)\n"
     ]
    },
    {
     "name": "stdout",
     "output_type": "stream",
     "text": [
      "214/256 [========================>.....] - ETA: 51s - loss: 0.9947 - acc: 0.23 - ETA: 50s - loss: 0.9948 - acc: 0.23 - ETA: 48s - loss: 0.9949 - acc: 0.23 - ETA: 47s - loss: 0.9937 - acc: 0.23 - ETA: 46s - loss: 0.9937 - acc: 0.23 - ETA: 45s - loss: 0.9957 - acc: 0.2383"
     ]
    },
    {
     "name": "stderr",
     "output_type": "stream",
     "text": [
      "C:\\Users\\Thiago\\Anaconda3\\lib\\site-packages\\keras\\callbacks.py:122: UserWarning: Method on_batch_end() is slow compared to the batch update (0.299922). Check your callbacks.\n",
      "  % delta_t_median)\n"
     ]
    },
    {
     "name": "stdout",
     "output_type": "stream",
     "text": [
      "238/256 [==========================>...] - ETA: 44s - loss: 0.9926 - acc: 0.24 - ETA: 43s - loss: 0.9927 - acc: 0.24 - ETA: 41s - loss: 0.9906 - acc: 0.23 - ETA: 40s - loss: 0.9906 - acc: 0.23 - ETA: 39s - loss: 0.9883 - acc: 0.23 - ETA: 38s - loss: 0.9852 - acc: 0.23 - ETA: 37s - loss: 0.9871 - acc: 0.23 - ETA: 36s - loss: 0.9872 - acc: 0.23 - ETA: 35s - loss: 0.9872 - acc: 0.23 - ETA: 33s - loss: 0.9852 - acc: 0.24 - ETA: 32s - loss: 0.9884 - acc: 0.24 - ETA: 31s - loss: 0.9915 - acc: 0.24 - ETA: 30s - loss: 0.9915 - acc: 0.24 - ETA: 29s - loss: 0.9916 - acc: 0.24 - ETA: 28s - loss: 0.9916 - acc: 0.24 - ETA: 27s - loss: 0.9916 - acc: 0.24 - ETA: 26s - loss: 0.9887 - acc: 0.24 - ETA: 25s - loss: 0.9888 - acc: 0.25 - ETA: 24s - loss: 0.9858 - acc: 0.24 - ETA: 23s - loss: 0.9889 - acc: 0.24 - ETA: 22s - loss: 0.9889 - acc: 0.24 - ETA: 21s - loss: 0.9889 - acc: 0.24 - ETA: 20s - loss: 0.9890 - acc: 0.24 - ETA: 19s - loss: 0.9911 - acc: 0.2437"
     ]
    },
    {
     "name": "stderr",
     "output_type": "stream",
     "text": [
      "C:\\Users\\Thiago\\Anaconda3\\lib\\site-packages\\keras\\callbacks.py:122: UserWarning: Method on_batch_end() is slow compared to the batch update (0.406889). Check your callbacks.\n",
      "  % delta_t_median)\n"
     ]
    },
    {
     "name": "stdout",
     "output_type": "stream",
     "text": [
      "241/256 [===========================>..] - ETA: 17s - loss: 0.9941 - acc: 0.24 - ETA: 16s - loss: 0.9942 - acc: 0.24 - ETA: 15s - loss: 0.9913 - acc: 0.2407"
     ]
    },
    {
     "name": "stderr",
     "output_type": "stream",
     "text": [
      "C:\\Users\\Thiago\\Anaconda3\\lib\\site-packages\\keras\\callbacks.py:122: UserWarning: Method on_batch_end() is slow compared to the batch update (0.347005). Check your callbacks.\n",
      "  % delta_t_median)\n"
     ]
    },
    {
     "name": "stdout",
     "output_type": "stream",
     "text": [
      "256/256 [==============================] - ETA: 14s - loss: 0.9914 - acc: 0.23 - ETA: 13s - loss: 0.9886 - acc: 0.24 - ETA: 12s - loss: 0.9915 - acc: 0.24 - ETA: 11s - loss: 0.9915 - acc: 0.24 - ETA: 10s - loss: 0.9887 - acc: 0.24 - ETA: 9s - loss: 0.9888 - acc: 0.2429 - ETA: 8s - loss: 0.9906 - acc: 0.241 - ETA: 7s - loss: 0.9907 - acc: 0.245 - ETA: 6s - loss: 0.9907 - acc: 0.248 - ETA: 5s - loss: 0.9880 - acc: 0.247 - ETA: 4s - loss: 0.9881 - acc: 0.246 - ETA: 3s - loss: 0.9881 - acc: 0.249 - ETA: 2s - loss: 0.9882 - acc: 0.248 - ETA: 1s - loss: 0.9882 - acc: 0.247 - 284s 1s/step - loss: 0.9882 - acc: 0.2500 - val_loss: 0.9476 - val_acc: 0.2363\n",
      "Epoch 8/100\n",
      " 63/256 [======>.......................] - ETA: 1:35 - loss: 1.6862 - acc: 0.0000e+0 - ETA: 1:55 - loss: 1.3451 - acc: 0.0000e+0 - ETA: 2:05 - loss: 1.4611 - acc: 0.0000e+0 - ETA: 2:07 - loss: 1.1748 - acc: 0.0000e+0 - ETA: 2:09 - loss: 1.2758 - acc: 0.2000    - ETA: 2:12 - loss: 1.1165 - acc: 0.166 - ETA: 2:14 - loss: 1.1002 - acc: 0.142 - ETA: 2:15 - loss: 1.0878 - acc: 0.125 - ETA: 2:15 - loss: 1.0016 - acc: 0.111 - ETA: 2:18 - loss: 0.9651 - acc: 0.200 - ETA: 2:17 - loss: 0.9683 - acc: 0.181 - ETA: 2:17 - loss: 0.9709 - acc: 0.166 - ETA: 2:17 - loss: 0.9740 - acc: 0.230 - ETA: 2:17 - loss: 0.9760 - acc: 0.214 - ETA: 2:32 - loss: 0.9770 - acc: 0.200 - ETA: 2:50 - loss: 0.9341 - acc: 0.187 - ETA: 2:52 - loss: 0.9380 - acc: 0.176 - ETA: 2:57 - loss: 0.9010 - acc: 0.166 - ETA: 2:53 - loss: 0.9450 - acc: 0.210 - ETA: 2:56 - loss: 0.9477 - acc: 0.200 - ETA: 2:54 - loss: 0.9142 - acc: 0.190 - ETA: 2:51 - loss: 0.9181 - acc: 0.227 - ETA: 2:50 - loss: 0.9215 - acc: 0.217 - ETA: 2:48 - loss: 0.9372 - acc: 0.208 - ETA: 2:46 - loss: 0.9699 - acc: 0.200 - ETA: 2:44 - loss: 0.9712 - acc: 0.192 - ETA: 2:42 - loss: 0.9439 - acc: 0.185 - ETA: 2:40 - loss: 0.9458 - acc: 0.178 - ETA: 2:39 - loss: 0.9504 - acc: 0.172 - ETA: 2:37 - loss: 0.9519 - acc: 0.166 - ETA: 2:36 - loss: 0.9531 - acc: 0.161 - ETA: 2:35 - loss: 0.9545 - acc: 0.187 - ETA: 2:33 - loss: 0.9560 - acc: 0.181 - ETA: 2:32 - loss: 0.9573 - acc: 0.176 - ETA: 2:30 - loss: 0.9371 - acc: 0.171 - ETA: 2:29 - loss: 0.9389 - acc: 0.166 - ETA: 2:27 - loss: 0.9202 - acc: 0.162 - ETA: 2:24 - loss: 0.9222 - acc: 0.157 - ETA: 2:23 - loss: 0.9270 - acc: 0.153 - ETA: 2:26 - loss: 0.9289 - acc: 0.150 - ETA: 2:26 - loss: 0.9305 - acc: 0.146 - ETA: 2:25 - loss: 0.9140 - acc: 0.142 - ETA: 2:27 - loss: 0.9161 - acc: 0.162 - ETA: 2:31 - loss: 0.9179 - acc: 0.159 - ETA: 2:33 - loss: 0.9370 - acc: 0.177 - ETA: 2:33 - loss: 0.9383 - acc: 0.173 - ETA: 2:32 - loss: 0.9234 - acc: 0.170 - ETA: 2:31 - loss: 0.9090 - acc: 0.187 - ETA: 2:32 - loss: 0.8953 - acc: 0.183 - ETA: 2:30 - loss: 0.8974 - acc: 0.180 - ETA: 2:29 - loss: 0.8993 - acc: 0.176 - ETA: 2:28 - loss: 0.9012 - acc: 0.173 - ETA: 2:27 - loss: 0.9031 - acc: 0.169 - ETA: 2:27 - loss: 0.9048 - acc: 0.166 - ETA: 2:28 - loss: 0.9066 - acc: 0.181 - ETA: 2:31 - loss: 0.8937 - acc: 0.178 - ETA: 2:31 - loss: 0.8956 - acc: 0.175 - ETA: 2:32 - loss: 0.9114 - acc: 0.172 - ETA: 2:31 - loss: 0.9266 - acc: 0.169 - ETA: 2:30 - loss: 0.9279 - acc: 0.166 - ETA: 2:29 - loss: 0.9290 - acc: 0.163 - ETA: 2:28 - loss: 0.9170 - acc: 0.177 - ETA: 2:27 - loss: 0.9183 - acc: 0.1746"
     ]
    },
    {
     "name": "stderr",
     "output_type": "stream",
     "text": [
      "C:\\Users\\Thiago\\Anaconda3\\lib\\site-packages\\keras\\callbacks.py:122: UserWarning: Method on_batch_end() is slow compared to the batch update (0.315796). Check your callbacks.\n",
      "  % delta_t_median)\n"
     ]
    },
    {
     "name": "stdout",
     "output_type": "stream",
     "text": [
      " 65/256 [======>.......................] - ETA: 2:25 - loss: 0.9320 - acc: 0.171 - ETA: 2:24 - loss: 0.9330 - acc: 0.1692"
     ]
    },
    {
     "name": "stderr",
     "output_type": "stream",
     "text": [
      "C:\\Users\\Thiago\\Anaconda3\\lib\\site-packages\\keras\\callbacks.py:122: UserWarning: Method on_batch_end() is slow compared to the batch update (0.312505). Check your callbacks.\n",
      "  % delta_t_median)\n"
     ]
    },
    {
     "name": "stdout",
     "output_type": "stream",
     "text": [
      " 87/256 [=========>....................] - ETA: 2:23 - loss: 0.9461 - acc: 0.166 - ETA: 2:22 - loss: 0.9350 - acc: 0.164 - ETA: 2:21 - loss: 0.9242 - acc: 0.161 - ETA: 2:19 - loss: 0.9253 - acc: 0.159 - ETA: 2:18 - loss: 0.9148 - acc: 0.157 - ETA: 2:17 - loss: 0.9160 - acc: 0.154 - ETA: 2:15 - loss: 0.9061 - acc: 0.152 - ETA: 2:15 - loss: 0.8962 - acc: 0.150 - ETA: 2:14 - loss: 0.9088 - acc: 0.148 - ETA: 2:13 - loss: 0.9100 - acc: 0.146 - ETA: 2:12 - loss: 0.9096 - acc: 0.144 - ETA: 2:13 - loss: 0.9107 - acc: 0.142 - ETA: 2:13 - loss: 0.9119 - acc: 0.141 - ETA: 2:12 - loss: 0.9130 - acc: 0.139 - ETA: 2:12 - loss: 0.9038 - acc: 0.137 - ETA: 2:13 - loss: 0.8945 - acc: 0.135 - ETA: 2:13 - loss: 0.8958 - acc: 0.134 - ETA: 2:15 - loss: 0.8969 - acc: 0.132 - ETA: 2:15 - loss: 0.8885 - acc: 0.131 - ETA: 2:16 - loss: 0.8798 - acc: 0.129 - ETA: 2:16 - loss: 0.8811 - acc: 0.127 - ETA: 2:15 - loss: 0.8924 - acc: 0.1264"
     ]
    },
    {
     "name": "stderr",
     "output_type": "stream",
     "text": [
      "C:\\Users\\Thiago\\Anaconda3\\lib\\site-packages\\keras\\callbacks.py:122: UserWarning: Method on_batch_end() is slow compared to the batch update (0.459961). Check your callbacks.\n",
      "  % delta_t_median)\n"
     ]
    },
    {
     "name": "stdout",
     "output_type": "stream",
     "text": [
      " 89/256 [=========>....................] - ETA: 2:14 - loss: 0.8936 - acc: 0.125 - ETA: 2:13 - loss: 0.8948 - acc: 0.1236"
     ]
    },
    {
     "name": "stderr",
     "output_type": "stream",
     "text": [
      "C:\\Users\\Thiago\\Anaconda3\\lib\\site-packages\\keras\\callbacks.py:122: UserWarning: Method on_batch_end() is slow compared to the batch update (0.437954). Check your callbacks.\n",
      "  % delta_t_median)\n"
     ]
    },
    {
     "name": "stdout",
     "output_type": "stream",
     "text": [
      " 90/256 [=========>....................] - ETA: 2:12 - loss: 0.8960 - acc: 0.1222"
     ]
    },
    {
     "name": "stderr",
     "output_type": "stream",
     "text": [
      "C:\\Users\\Thiago\\Anaconda3\\lib\\site-packages\\keras\\callbacks.py:122: UserWarning: Method on_batch_end() is slow compared to the batch update (0.443004). Check your callbacks.\n",
      "  % delta_t_median)\n"
     ]
    },
    {
     "name": "stdout",
     "output_type": "stream",
     "text": [
      " 91/256 [=========>....................] - ETA: 2:11 - loss: 0.8875 - acc: 0.1319"
     ]
    },
    {
     "name": "stderr",
     "output_type": "stream",
     "text": [
      "C:\\Users\\Thiago\\Anaconda3\\lib\\site-packages\\keras\\callbacks.py:122: UserWarning: Method on_batch_end() is slow compared to the batch update (0.375850). Check your callbacks.\n",
      "  % delta_t_median)\n"
     ]
    },
    {
     "name": "stdout",
     "output_type": "stream",
     "text": [
      " 95/256 [==========>...................] - ETA: 2:10 - loss: 0.8887 - acc: 0.141 - ETA: 2:09 - loss: 0.8899 - acc: 0.139 - ETA: 2:08 - loss: 0.8907 - acc: 0.148 - ETA: 2:07 - loss: 0.8918 - acc: 0.1474"
     ]
    },
    {
     "name": "stderr",
     "output_type": "stream",
     "text": [
      "C:\\Users\\Thiago\\Anaconda3\\lib\\site-packages\\keras\\callbacks.py:122: UserWarning: Method on_batch_end() is slow compared to the batch update (0.302164). Check your callbacks.\n",
      "  % delta_t_median)\n"
     ]
    },
    {
     "name": "stdout",
     "output_type": "stream",
     "text": [
      "123/256 [=============>................] - ETA: 2:06 - loss: 0.8929 - acc: 0.145 - ETA: 2:05 - loss: 0.8941 - acc: 0.144 - ETA: 2:04 - loss: 0.9042 - acc: 0.142 - ETA: 2:03 - loss: 0.9050 - acc: 0.151 - ETA: 2:01 - loss: 0.8972 - acc: 0.150 - ETA: 2:01 - loss: 0.8983 - acc: 0.148 - ETA: 2:00 - loss: 0.8905 - acc: 0.147 - ETA: 1:59 - loss: 0.8917 - acc: 0.145 - ETA: 1:58 - loss: 0.8928 - acc: 0.153 - ETA: 1:57 - loss: 0.8879 - acc: 0.161 - ETA: 1:56 - loss: 0.8805 - acc: 0.160 - ETA: 1:55 - loss: 0.8734 - acc: 0.158 - ETA: 1:53 - loss: 0.8678 - acc: 0.157 - ETA: 1:52 - loss: 0.8676 - acc: 0.156 - ETA: 1:53 - loss: 0.8607 - acc: 0.154 - ETA: 1:53 - loss: 0.8620 - acc: 0.153 - ETA: 1:53 - loss: 0.8633 - acc: 0.151 - ETA: 1:53 - loss: 0.8725 - acc: 0.150 - ETA: 1:53 - loss: 0.8736 - acc: 0.149 - ETA: 1:53 - loss: 0.8747 - acc: 0.147 - ETA: 1:53 - loss: 0.8758 - acc: 0.146 - ETA: 1:52 - loss: 0.8848 - acc: 0.153 - ETA: 1:52 - loss: 0.8780 - acc: 0.152 - ETA: 1:51 - loss: 0.8791 - acc: 0.151 - ETA: 1:50 - loss: 0.8878 - acc: 0.150 - ETA: 1:49 - loss: 0.8887 - acc: 0.157 - ETA: 1:48 - loss: 0.8896 - acc: 0.155 - ETA: 1:48 - loss: 0.8980 - acc: 0.1545"
     ]
    },
    {
     "name": "stderr",
     "output_type": "stream",
     "text": [
      "C:\\Users\\Thiago\\Anaconda3\\lib\\site-packages\\keras\\callbacks.py:122: UserWarning: Method on_batch_end() is slow compared to the batch update (0.441415). Check your callbacks.\n",
      "  % delta_t_median)\n"
     ]
    },
    {
     "name": "stdout",
     "output_type": "stream",
     "text": [
      "131/256 [==============>...............] - ETA: 1:48 - loss: 0.8989 - acc: 0.161 - ETA: 1:48 - loss: 0.8997 - acc: 0.160 - ETA: 1:48 - loss: 0.9005 - acc: 0.158 - ETA: 1:48 - loss: 0.8940 - acc: 0.157 - ETA: 1:48 - loss: 0.8948 - acc: 0.156 - ETA: 1:48 - loss: 0.8885 - acc: 0.155 - ETA: 1:47 - loss: 0.8821 - acc: 0.153 - ETA: 1:47 - loss: 0.8830 - acc: 0.1603"
     ]
    },
    {
     "name": "stderr",
     "output_type": "stream",
     "text": [
      "C:\\Users\\Thiago\\Anaconda3\\lib\\site-packages\\keras\\callbacks.py:122: UserWarning: Method on_batch_end() is slow compared to the batch update (0.608526). Check your callbacks.\n",
      "  % delta_t_median)\n"
     ]
    },
    {
     "name": "stdout",
     "output_type": "stream",
     "text": [
      "132/256 [==============>...............] - ETA: 1:46 - loss: 0.8840 - acc: 0.1591"
     ]
    },
    {
     "name": "stderr",
     "output_type": "stream",
     "text": [
      "C:\\Users\\Thiago\\Anaconda3\\lib\\site-packages\\keras\\callbacks.py:122: UserWarning: Method on_batch_end() is slow compared to the batch update (0.581656). Check your callbacks.\n",
      "  % delta_t_median)\n"
     ]
    },
    {
     "name": "stdout",
     "output_type": "stream",
     "text": [
      "133/256 [==============>...............] - ETA: 1:45 - loss: 0.8917 - acc: 0.1579"
     ]
    },
    {
     "name": "stderr",
     "output_type": "stream",
     "text": [
      "C:\\Users\\Thiago\\Anaconda3\\lib\\site-packages\\keras\\callbacks.py:122: UserWarning: Method on_batch_end() is slow compared to the batch update (0.547897). Check your callbacks.\n",
      "  % delta_t_median)\n"
     ]
    },
    {
     "name": "stdout",
     "output_type": "stream",
     "text": [
      "135/256 [==============>...............] - ETA: 1:44 - loss: 0.8924 - acc: 0.156 - ETA: 1:43 - loss: 0.8932 - acc: 0.1556"
     ]
    },
    {
     "name": "stderr",
     "output_type": "stream",
     "text": [
      "C:\\Users\\Thiago\\Anaconda3\\lib\\site-packages\\keras\\callbacks.py:122: UserWarning: Method on_batch_end() is slow compared to the batch update (0.462286). Check your callbacks.\n",
      "  % delta_t_median)\n"
     ]
    },
    {
     "name": "stdout",
     "output_type": "stream",
     "text": [
      "136/256 [==============>...............] - ETA: 1:42 - loss: 0.8940 - acc: 0.1544"
     ]
    },
    {
     "name": "stderr",
     "output_type": "stream",
     "text": [
      "C:\\Users\\Thiago\\Anaconda3\\lib\\site-packages\\keras\\callbacks.py:122: UserWarning: Method on_batch_end() is slow compared to the batch update (0.398143). Check your callbacks.\n",
      "  % delta_t_median)\n"
     ]
    },
    {
     "name": "stdout",
     "output_type": "stream",
     "text": [
      "137/256 [===============>..............] - ETA: 1:41 - loss: 0.8879 - acc: 0.1533"
     ]
    },
    {
     "name": "stderr",
     "output_type": "stream",
     "text": [
      "C:\\Users\\Thiago\\Anaconda3\\lib\\site-packages\\keras\\callbacks.py:122: UserWarning: Method on_batch_end() is slow compared to the batch update (0.360993). Check your callbacks.\n",
      "  % delta_t_median)\n"
     ]
    },
    {
     "name": "stdout",
     "output_type": "stream",
     "text": [
      "138/256 [===============>..............] - ETA: 1:40 - loss: 0.8889 - acc: 0.1594"
     ]
    },
    {
     "name": "stderr",
     "output_type": "stream",
     "text": [
      "C:\\Users\\Thiago\\Anaconda3\\lib\\site-packages\\keras\\callbacks.py:122: UserWarning: Method on_batch_end() is slow compared to the batch update (0.318669). Check your callbacks.\n",
      "  % delta_t_median)\n"
     ]
    },
    {
     "name": "stdout",
     "output_type": "stream",
     "text": [
      "153/256 [================>.............] - ETA: 1:39 - loss: 0.8961 - acc: 0.158 - ETA: 1:38 - loss: 0.8968 - acc: 0.164 - ETA: 1:36 - loss: 0.8975 - acc: 0.163 - ETA: 1:35 - loss: 0.8982 - acc: 0.162 - ETA: 1:34 - loss: 0.8989 - acc: 0.160 - ETA: 1:34 - loss: 0.9061 - acc: 0.166 - ETA: 1:34 - loss: 0.9067 - acc: 0.165 - ETA: 1:33 - loss: 0.9009 - acc: 0.164 - ETA: 1:33 - loss: 0.8952 - acc: 0.170 - ETA: 1:33 - loss: 0.8959 - acc: 0.175 - ETA: 1:32 - loss: 0.8966 - acc: 0.174 - ETA: 1:32 - loss: 0.8973 - acc: 0.173 - ETA: 1:31 - loss: 0.9042 - acc: 0.172 - ETA: 1:31 - loss: 0.9048 - acc: 0.171 - ETA: 1:30 - loss: 0.9054 - acc: 0.1699"
     ]
    },
    {
     "name": "stderr",
     "output_type": "stream",
     "text": [
      "C:\\Users\\Thiago\\Anaconda3\\lib\\site-packages\\keras\\callbacks.py:122: UserWarning: Method on_batch_end() is slow compared to the batch update (0.543002). Check your callbacks.\n",
      "  % delta_t_median)\n"
     ]
    },
    {
     "name": "stdout",
     "output_type": "stream",
     "text": [
      "154/256 [=================>............] - ETA: 1:29 - loss: 0.9060 - acc: 0.1688"
     ]
    },
    {
     "name": "stderr",
     "output_type": "stream",
     "text": [
      "C:\\Users\\Thiago\\Anaconda3\\lib\\site-packages\\keras\\callbacks.py:122: UserWarning: Method on_batch_end() is slow compared to the batch update (0.516068). Check your callbacks.\n",
      "  % delta_t_median)\n"
     ]
    },
    {
     "name": "stdout",
     "output_type": "stream",
     "text": [
      "155/256 [=================>............] - ETA: 1:28 - loss: 0.9067 - acc: 0.1677"
     ]
    },
    {
     "name": "stderr",
     "output_type": "stream",
     "text": [
      "C:\\Users\\Thiago\\Anaconda3\\lib\\site-packages\\keras\\callbacks.py:122: UserWarning: Method on_batch_end() is slow compared to the batch update (0.471141). Check your callbacks.\n",
      "  % delta_t_median)\n"
     ]
    },
    {
     "name": "stdout",
     "output_type": "stream",
     "text": [
      "156/256 [=================>............] - ETA: 1:27 - loss: 0.9073 - acc: 0.1731"
     ]
    },
    {
     "name": "stderr",
     "output_type": "stream",
     "text": [
      "C:\\Users\\Thiago\\Anaconda3\\lib\\site-packages\\keras\\callbacks.py:122: UserWarning: Method on_batch_end() is slow compared to the batch update (0.434531). Check your callbacks.\n",
      "  % delta_t_median)\n"
     ]
    },
    {
     "name": "stdout",
     "output_type": "stream",
     "text": [
      "157/256 [=================>............] - ETA: 1:26 - loss: 0.9020 - acc: 0.1720"
     ]
    },
    {
     "name": "stderr",
     "output_type": "stream",
     "text": [
      "C:\\Users\\Thiago\\Anaconda3\\lib\\site-packages\\keras\\callbacks.py:122: UserWarning: Method on_batch_end() is slow compared to the batch update (0.404694). Check your callbacks.\n",
      "  % delta_t_median)\n"
     ]
    },
    {
     "name": "stdout",
     "output_type": "stream",
     "text": [
      "158/256 [=================>............] - ETA: 1:25 - loss: 0.9083 - acc: 0.1709"
     ]
    },
    {
     "name": "stderr",
     "output_type": "stream",
     "text": [
      "C:\\Users\\Thiago\\Anaconda3\\lib\\site-packages\\keras\\callbacks.py:122: UserWarning: Method on_batch_end() is slow compared to the batch update (0.364115). Check your callbacks.\n",
      "  % delta_t_median)\n"
     ]
    },
    {
     "name": "stdout",
     "output_type": "stream",
     "text": [
      "159/256 [=================>............] - ETA: 1:24 - loss: 0.9088 - acc: 0.1698"
     ]
    },
    {
     "name": "stderr",
     "output_type": "stream",
     "text": [
      "C:\\Users\\Thiago\\Anaconda3\\lib\\site-packages\\keras\\callbacks.py:122: UserWarning: Method on_batch_end() is slow compared to the batch update (0.335906). Check your callbacks.\n",
      "  % delta_t_median)\n"
     ]
    },
    {
     "name": "stdout",
     "output_type": "stream",
     "text": [
      "209/256 [=======================>......] - ETA: 1:23 - loss: 0.9094 - acc: 0.168 - ETA: 1:22 - loss: 0.9099 - acc: 0.173 - ETA: 1:21 - loss: 0.9105 - acc: 0.172 - ETA: 1:20 - loss: 0.9054 - acc: 0.171 - ETA: 1:19 - loss: 0.9117 - acc: 0.170 - ETA: 1:18 - loss: 0.9179 - acc: 0.169 - ETA: 1:17 - loss: 0.9128 - acc: 0.168 - ETA: 1:16 - loss: 0.9133 - acc: 0.167 - ETA: 1:15 - loss: 0.9193 - acc: 0.166 - ETA: 1:14 - loss: 0.9253 - acc: 0.165 - ETA: 1:13 - loss: 0.9203 - acc: 0.164 - ETA: 1:12 - loss: 0.9207 - acc: 0.163 - ETA: 1:11 - loss: 0.9212 - acc: 0.162 - ETA: 1:10 - loss: 0.9163 - acc: 0.161 - ETA: 1:09 - loss: 0.9168 - acc: 0.166 - ETA: 1:08 - loss: 0.9173 - acc: 0.165 - ETA: 1:07 - loss: 0.9177 - acc: 0.164 - ETA: 1:06 - loss: 0.9182 - acc: 0.163 - ETA: 1:05 - loss: 0.9186 - acc: 0.162 - ETA: 1:04 - loss: 0.9139 - acc: 0.167 - ETA: 1:03 - loss: 0.9144 - acc: 0.166 - ETA: 1:02 - loss: 0.9147 - acc: 0.165 - ETA: 1:01 - loss: 0.9152 - acc: 0.164 - ETA: 1:00 - loss: 0.9156 - acc: 0.169 - ETA: 59s - loss: 0.9185 - acc: 0.168 - ETA: 58s - loss: 0.9137 - acc: 0.16 - ETA: 57s - loss: 0.9144 - acc: 0.17 - ETA: 57s - loss: 0.9098 - acc: 0.17 - ETA: 56s - loss: 0.9103 - acc: 0.17 - ETA: 56s - loss: 0.9108 - acc: 0.16 - ETA: 55s - loss: 0.9113 - acc: 0.16 - ETA: 54s - loss: 0.9067 - acc: 0.16 - ETA: 54s - loss: 0.9072 - acc: 0.16 - ETA: 53s - loss: 0.9034 - acc: 0.16 - ETA: 52s - loss: 0.8990 - acc: 0.16 - ETA: 52s - loss: 0.8995 - acc: 0.16 - ETA: 51s - loss: 0.9000 - acc: 0.16 - ETA: 50s - loss: 0.8957 - acc: 0.16 - ETA: 50s - loss: 0.8962 - acc: 0.16 - ETA: 49s - loss: 0.8967 - acc: 0.16 - ETA: 48s - loss: 0.8924 - acc: 0.16 - ETA: 47s - loss: 0.8977 - acc: 0.16 - ETA: 47s - loss: 0.8934 - acc: 0.16 - ETA: 46s - loss: 0.8939 - acc: 0.16 - ETA: 45s - loss: 0.8944 - acc: 0.16 - ETA: 44s - loss: 0.8996 - acc: 0.16 - ETA: 43s - loss: 0.9001 - acc: 0.16 - ETA: 43s - loss: 0.9006 - acc: 0.16 - ETA: 42s - loss: 0.9057 - acc: 0.16 - ETA: 41s - loss: 0.9061 - acc: 0.1675"
     ]
    },
    {
     "name": "stderr",
     "output_type": "stream",
     "text": [
      "C:\\Users\\Thiago\\Anaconda3\\lib\\site-packages\\keras\\callbacks.py:122: UserWarning: Method on_batch_end() is slow compared to the batch update (0.428290). Check your callbacks.\n",
      "  % delta_t_median)\n"
     ]
    },
    {
     "name": "stdout",
     "output_type": "stream",
     "text": [
      "213/256 [=======================>......] - ETA: 40s - loss: 0.9065 - acc: 0.16 - ETA: 39s - loss: 0.9069 - acc: 0.16 - ETA: 38s - loss: 0.9073 - acc: 0.16 - ETA: 37s - loss: 0.9119 - acc: 0.1643"
     ]
    },
    {
     "name": "stderr",
     "output_type": "stream",
     "text": [
      "C:\\Users\\Thiago\\Anaconda3\\lib\\site-packages\\keras\\callbacks.py:122: UserWarning: Method on_batch_end() is slow compared to the batch update (0.326576). Check your callbacks.\n",
      "  % delta_t_median)\n"
     ]
    },
    {
     "name": "stdout",
     "output_type": "stream",
     "text": [
      "215/256 [========================>.....] - ETA: 36s - loss: 0.9167 - acc: 0.16 - ETA: 35s - loss: 0.9171 - acc: 0.1674"
     ]
    },
    {
     "name": "stderr",
     "output_type": "stream",
     "text": [
      "C:\\Users\\Thiago\\Anaconda3\\lib\\site-packages\\keras\\callbacks.py:122: UserWarning: Method on_batch_end() is slow compared to the batch update (0.327207). Check your callbacks.\n",
      "  % delta_t_median)\n"
     ]
    },
    {
     "name": "stdout",
     "output_type": "stream",
     "text": [
      "253/256 [============================>.] - ETA: 34s - loss: 0.9218 - acc: 0.17 - ETA: 34s - loss: 0.9177 - acc: 0.17 - ETA: 33s - loss: 0.9181 - acc: 0.17 - ETA: 32s - loss: 0.9186 - acc: 0.17 - ETA: 31s - loss: 0.9190 - acc: 0.17 - ETA: 30s - loss: 0.9194 - acc: 0.17 - ETA: 29s - loss: 0.9198 - acc: 0.17 - ETA: 28s - loss: 0.9160 - acc: 0.17 - ETA: 27s - loss: 0.9123 - acc: 0.17 - ETA: 26s - loss: 0.9086 - acc: 0.17 - ETA: 25s - loss: 0.9090 - acc: 0.17 - ETA: 25s - loss: 0.9093 - acc: 0.18 - ETA: 24s - loss: 0.9097 - acc: 0.17 - ETA: 23s - loss: 0.9101 - acc: 0.18 - ETA: 22s - loss: 0.9064 - acc: 0.18 - ETA: 21s - loss: 0.9067 - acc: 0.18 - ETA: 20s - loss: 0.9111 - acc: 0.18 - ETA: 19s - loss: 0.9156 - acc: 0.18 - ETA: 18s - loss: 0.9158 - acc: 0.18 - ETA: 17s - loss: 0.9162 - acc: 0.18 - ETA: 17s - loss: 0.9166 - acc: 0.18 - ETA: 16s - loss: 0.9169 - acc: 0.18 - ETA: 15s - loss: 0.9172 - acc: 0.18 - ETA: 14s - loss: 0.9176 - acc: 0.19 - ETA: 13s - loss: 0.9218 - acc: 0.19 - ETA: 12s - loss: 0.9182 - acc: 0.19 - ETA: 11s - loss: 0.9223 - acc: 0.19 - ETA: 11s - loss: 0.9185 - acc: 0.19 - ETA: 10s - loss: 0.9177 - acc: 0.19 - ETA: 9s - loss: 0.9180 - acc: 0.1959 - ETA: 8s - loss: 0.9182 - acc: 0.195 - ETA: 7s - loss: 0.9224 - acc: 0.198 - ETA: 6s - loss: 0.9213 - acc: 0.197 - ETA: 5s - loss: 0.9217 - acc: 0.196 - ETA: 5s - loss: 0.9182 - acc: 0.196 - ETA: 4s - loss: 0.9185 - acc: 0.195 - ETA: 3s - loss: 0.9188 - acc: 0.194 - ETA: 2s - loss: 0.9227 - acc: 0.1937"
     ]
    },
    {
     "name": "stderr",
     "output_type": "stream",
     "text": [
      "C:\\Users\\Thiago\\Anaconda3\\lib\\site-packages\\keras\\callbacks.py:122: UserWarning: Method on_batch_end() is slow compared to the batch update (0.373682). Check your callbacks.\n",
      "  % delta_t_median)\n"
     ]
    },
    {
     "name": "stdout",
     "output_type": "stream",
     "text": [
      "256/256 [==============================] - ETA: 1s - loss: 0.9195 - acc: 0.192 - ETA: 0s - loss: 0.9198 - acc: 0.192 - 239s 934ms/step - loss: 0.9201 - acc: 0.1953 - val_loss: 0.9269 - val_acc: 0.2812\n",
      "Epoch 9/100\n",
      "  1/256 [..............................] - ETA: 1:31 - loss: 1.0032 - acc: 1.0000"
     ]
    },
    {
     "name": "stderr",
     "output_type": "stream",
     "text": [
      "C:\\Users\\Thiago\\Anaconda3\\lib\\site-packages\\keras\\callbacks.py:122: UserWarning: Method on_batch_end() is slow compared to the batch update (0.341270). Check your callbacks.\n",
      "  % delta_t_median)\n"
     ]
    },
    {
     "name": "stdout",
     "output_type": "stream",
     "text": [
      "  9/256 [>.............................] - ETA: 2:12 - loss: 0.9914 - acc: 0.500 - ETA: 2:21 - loss: 0.9944 - acc: 0.333 - ETA: 2:27 - loss: 0.9955 - acc: 0.250 - ETA: 2:26 - loss: 1.0097 - acc: 0.200 - ETA: 2:24 - loss: 1.0093 - acc: 0.166 - ETA: 2:54 - loss: 1.0027 - acc: 0.142 - ETA: 3:10 - loss: 1.0023 - acc: 0.250 - ETA: 3:17 - loss: 0.9026 - acc: 0.2222"
     ]
    }
   ],
   "source": [
    "%%time\n",
    "\n",
    "keras.backend.clear_session()\n",
    "\n",
    "cnn_feature_model = cnn_model(embeddings=embedding_matrix, \n",
    "                              num_words=len(word_index) + 1, \n",
    "                              embedding_dim=EMBEDDING_DIM, \n",
    "                              max_sequence_length=MAX_SEQUENCE_LENGTH_D, \n",
    "                              trainable=False)\n",
    "\n",
    "lstm_feature_model = lstm_model(embeddings=embedding_matrix, \n",
    "                              num_words=len(word_index) + 1, \n",
    "                              embedding_dim=EMBEDDING_DIM, \n",
    "                              max_sequence_length=MAX_SEQUENCE_LENGTH_T, \n",
    "                              trainable=False)\n",
    "\n",
    "similarity_model = siamese_model(MAX_SEQUENCE_LENGTH_T, MAX_SEQUENCE_LENGTH_D)\n",
    "\n",
    "# cnn_feature_model.summary()\n",
    "# lstm_feature_model.summary()\n",
    "similarity_model.summary()\n",
    "\n",
    "h = similarity_model.fit_generator(train_gen, \n",
    "                               steps_per_epoch = 256,\n",
    "                               validation_data=test_gen,\n",
    "                                             epochs = 100,\n",
    "                                             verbose = True) # callbacks=[early]"
   ]
  },
  {
   "cell_type": "code",
   "execution_count": null,
   "metadata": {},
   "outputs": [],
   "source": [
    "validation_accuracy_loss(h)"
   ]
  },
  {
   "cell_type": "code",
   "execution_count": null,
   "metadata": {},
   "outputs": [],
   "source": [
    "name = 'baseline_100epoch_256steps_512batch(test)'\n",
    "save_model(similarity_model, name)\n",
    "save_result(h, name)"
   ]
  }
 ],
 "metadata": {
  "accelerator": "GPU",
  "colab": {
   "collapsed_sections": [],
   "name": "[baseline] Bug triage with Deep Learning.ipynb",
   "provenance": [],
   "toc_visible": true,
   "version": "0.3.2"
  },
  "kernelspec": {
   "display_name": "Python 3",
   "language": "python",
   "name": "python3"
  },
  "language_info": {
   "codemirror_mode": {
    "name": "ipython",
    "version": 3
   },
   "file_extension": ".py",
   "mimetype": "text/x-python",
   "name": "python",
   "nbconvert_exporter": "python",
   "pygments_lexer": "ipython3",
   "version": "3.6.5"
  }
 },
 "nbformat": 4,
 "nbformat_minor": 1
}
