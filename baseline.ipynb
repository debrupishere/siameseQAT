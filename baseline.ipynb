{
 "cells": [
  {
   "cell_type": "markdown",
   "metadata": {
    "colab_type": "text",
    "id": "PtdA1qs_UQP1"
   },
   "source": [
    "# Bug triage with Deep Learning"
   ]
  },
  {
   "cell_type": "code",
   "execution_count": 1,
   "metadata": {},
   "outputs": [
    {
     "name": "stderr",
     "output_type": "stream",
     "text": [
      "C:\\Users\\Thiago\\Anaconda3\\lib\\site-packages\\h5py\\__init__.py:36: FutureWarning: Conversion of the second argument of issubdtype from `float` to `np.floating` is deprecated. In future, it will be treated as `np.float64 == np.dtype(float).type`.\n",
      "  from ._conv import register_converters as _register_converters\n",
      "Using TensorFlow backend.\n"
     ]
    }
   ],
   "source": [
    "import keras\n",
    "from tensorflow.contrib.tensorboard.plugins import projector"
   ]
  },
  {
   "cell_type": "code",
   "execution_count": 2,
   "metadata": {
    "colab": {},
    "colab_type": "code",
    "id": "qnSCLmiomFE1"
   },
   "outputs": [],
   "source": [
    "from __future__ import print_function, division"
   ]
  },
  {
   "cell_type": "code",
   "execution_count": 3,
   "metadata": {
    "colab": {},
    "colab_type": "code",
    "id": "OIha-SERnD72"
   },
   "outputs": [],
   "source": [
    "import re\n",
    "import numpy as np\n",
    "import pandas as pd\n",
    "\n",
    "import os\n",
    "from tqdm import tqdm\n",
    "import sys\n",
    "nb_dir = os.path.split(os.getcwd())[0]\n",
    "if nb_dir not in sys.path:\n",
    "    sys.path.append(nb_dir)\n",
    "    \n",
    "%matplotlib inline"
   ]
  },
  {
   "cell_type": "code",
   "execution_count": 4,
   "metadata": {
    "colab": {
     "base_uri": "https://localhost:8080/",
     "height": 34
    },
    "colab_type": "code",
    "id": "c57gQiuAnJAe",
    "outputId": "9eaf2d3f-619a-492d-f40b-6ba2c48426fa"
   },
   "outputs": [],
   "source": [
    "from keras.layers import Conv1D, Input, Add, Activation, Dropout, Embedding, MaxPooling1D, GlobalMaxPool1D, Flatten, Dense, Concatenate, BatchNormalization\n",
    "from keras.models import Sequential, Model\n",
    "from keras.regularizers import l2\n",
    "from keras.initializers import TruncatedNormal\n",
    "from keras.layers.advanced_activations import LeakyReLU, ELU\n",
    "from keras import optimizers"
   ]
  },
  {
   "cell_type": "code",
   "execution_count": 5,
   "metadata": {},
   "outputs": [],
   "source": [
    "from methods.baseline import Baseline"
   ]
  },
  {
   "cell_type": "markdown",
   "metadata": {
    "colab_type": "text",
    "id": "3VUZ6oG1gb91"
   },
   "source": [
    "## Auxiliary methods"
   ]
  },
  {
   "cell_type": "markdown",
   "metadata": {
    "colab_type": "text",
    "id": "19Oo5yKCrXYG"
   },
   "source": [
    "## Dataset bugs"
   ]
  },
  {
   "cell_type": "code",
   "execution_count": 6,
   "metadata": {
    "colab": {
     "base_uri": "https://localhost:8080/",
     "height": 122
    },
    "colab_type": "code",
    "id": "CxFKGhm9repF",
    "outputId": "d78a02ef-882f-4202-d1ea-7d709171b992"
   },
   "outputs": [],
   "source": [
    "#from google.colab import drive\n",
    "#drive.mount('/content/drive')"
   ]
  },
  {
   "cell_type": "markdown",
   "metadata": {
    "colab_type": "text",
    "id": "8uQou7m2-bFO"
   },
   "source": [
    "## Configurações Globais"
   ]
  },
  {
   "cell_type": "code",
   "execution_count": 6,
   "metadata": {
    "colab": {},
    "colab_type": "code",
    "id": "G-Kn3x_K-aZj"
   },
   "outputs": [],
   "source": [
    "MAX_SEQUENCE_LENGTH_T = 100 # 40\n",
    "MAX_SEQUENCE_LENGTH_D = 100 # 200\n",
    "EMBEDDING_DIM = 300\n",
    "MAX_NB_WORDS = 2000"
   ]
  },
  {
   "cell_type": "markdown",
   "metadata": {},
   "source": [
    "### Parse bugs preproprecessed"
   ]
  },
  {
   "cell_type": "code",
   "execution_count": 7,
   "metadata": {},
   "outputs": [],
   "source": [
    "DIR = 'data/processed/eclipse'\n",
    "DIR_PAIRS = 'data/normalized/eclipse'"
   ]
  },
  {
   "cell_type": "code",
   "execution_count": 8,
   "metadata": {},
   "outputs": [],
   "source": [
    "df_train_pair = pd.read_csv(os.path.join(DIR_PAIRS, 'eclipse_pairs.csv'))\n",
    "baseline = Baseline(DIR, MAX_SEQUENCE_LENGTH_T, MAX_SEQUENCE_LENGTH_D)"
   ]
  },
  {
   "cell_type": "code",
   "execution_count": 9,
   "metadata": {},
   "outputs": [],
   "source": [
    "baseline.load_ids(DIR)"
   ]
  },
  {
   "cell_type": "code",
   "execution_count": 10,
   "metadata": {},
   "outputs": [
    {
     "data": {
      "text/plain": [
       "212512"
      ]
     },
     "execution_count": 10,
     "metadata": {},
     "output_type": "execute_result"
    }
   ],
   "source": [
    "len(baseline.bug_ids)"
   ]
  },
  {
   "cell_type": "markdown",
   "metadata": {
    "colab_type": "text",
    "id": "vqzt5EKzqzcI"
   },
   "source": [
    "### Dicionário de títulos e descrições"
   ]
  },
  {
   "cell_type": "code",
   "execution_count": 11,
   "metadata": {
    "scrolled": true
   },
   "outputs": [
    {
     "name": "stderr",
     "output_type": "stream",
     "text": [
      "100%|█████████████████████████████████| 212512/212512 [09:10<00:00, 385.80it/s]\n"
     ]
    },
    {
     "name": "stdout",
     "output_type": "stream",
     "text": [
      "Wall time: 9min 10s\n"
     ]
    }
   ],
   "source": [
    "%%time\n",
    "\n",
    "baseline.load_preprocess()"
   ]
  },
  {
   "cell_type": "code",
   "execution_count": 12,
   "metadata": {
    "colab": {
     "base_uri": "https://localhost:8080/",
     "height": 34
    },
    "colab_type": "code",
    "id": "8RdOXdw8q6rN",
    "outputId": "d98e260f-d633-44db-d1ff-50f0a2ae7cd5",
    "scrolled": true
   },
   "outputs": [
    {
     "data": {
      "text/plain": [
       "242718"
      ]
     },
     "execution_count": 12,
     "metadata": {},
     "output_type": "execute_result"
    }
   ],
   "source": [
    "len(baseline.sentence_dict)"
   ]
  },
  {
   "cell_type": "markdown",
   "metadata": {
    "colab_type": "text",
    "id": "J0WZNngemNM8"
   },
   "source": [
    "## Geração de batches"
   ]
  },
  {
   "cell_type": "markdown",
   "metadata": {
    "colab_type": "text",
    "id": "a6Obtop6UIVD"
   },
   "source": [
    "### Generating tiple of batches"
   ]
  },
  {
   "cell_type": "code",
   "execution_count": 13,
   "metadata": {
    "colab": {},
    "colab_type": "code",
    "id": "vvyMGBD4IhB-"
   },
   "outputs": [
    {
     "name": "stdout",
     "output_type": "stream",
     "text": [
      "Reading train data\n",
      "Wall time: 642 ms\n"
     ]
    }
   ],
   "source": [
    "%%time\n",
    "\n",
    "bug_dir = os.path.join(DIR)\n",
    "baseline.prepare_dataset(bug_dir)"
   ]
  },
  {
   "cell_type": "code",
   "execution_count": null,
   "metadata": {
    "scrolled": true
   },
   "outputs": [
    {
     "name": "stderr",
     "output_type": "stream",
     "text": [
      " 22%|███████▍                          | 46634/212512 [01:26<04:16, 647.19it/s]"
     ]
    }
   ],
   "source": [
    "baseline.load_bugs()"
   ]
  },
  {
   "cell_type": "code",
   "execution_count": null,
   "metadata": {
    "colab": {
     "base_uri": "https://localhost:8080/",
     "height": 51
    },
    "colab_type": "code",
    "id": "PA5CIhgz7odW",
    "outputId": "ae98fdec-1d54-4b1f-ee0e-4c5633802a18",
    "scrolled": true
   },
   "outputs": [],
   "source": [
    "%%time\n",
    "\n",
    "batch_size = 1\n",
    "batch_size_test = 512\n",
    "\n",
    "# we want a constant validation group to have a frame of reference for model performance\n",
    "train_gen = baseline.siam_gen(bug_dir, batch_size, 1)\n",
    "valid_input_sample, valid_input_pos, valid_input_neg, valid_sim = baseline.batch_iterator(bug_dir, batch_size_test, 1)\n",
    "test_gen = ([valid_input_sample['title'], valid_input_pos['title'], valid_input_neg['title'], \n",
    "             valid_input_sample['description'], valid_input_pos['description'], valid_input_neg['description']], valid_sim)"
   ]
  },
  {
   "cell_type": "code",
   "execution_count": null,
   "metadata": {},
   "outputs": [],
   "source": [
    "valid_input_sample['title'].shape, valid_input_sample['description'].shape, valid_sim.shape"
   ]
  },
  {
   "cell_type": "markdown",
   "metadata": {
    "colab_type": "text",
    "id": "24mY22BGnkqp"
   },
   "source": [
    "### Validar entrada"
   ]
  },
  {
   "cell_type": "code",
   "execution_count": null,
   "metadata": {
    "colab": {
     "base_uri": "https://localhost:8080/",
     "height": 796
    },
    "colab_type": "code",
    "id": "OhTbr3a5nmrh",
    "outputId": "a2d73e0f-e9ce-4d12-a5c8-f0008d2402d0",
    "scrolled": true
   },
   "outputs": [],
   "source": [
    "%%time \n",
    "\n",
    "baseline.display_batch(bug_dir, 5)"
   ]
  },
  {
   "cell_type": "markdown",
   "metadata": {
    "colab_type": "text",
    "id": "ojKT88YudQxO"
   },
   "source": [
    "#### Train"
   ]
  },
  {
   "cell_type": "markdown",
   "metadata": {
    "colab_type": "text",
    "id": "XPrsLs4Kg4Pa"
   },
   "source": [
    "## Pre-trained embeddings\n",
    "\n",
    "Loading pretrained word vectors"
   ]
  },
  {
   "cell_type": "markdown",
   "metadata": {
    "colab_type": "text",
    "id": "6p9eE5TWoH7p"
   },
   "source": [
    "### Glove"
   ]
  },
  {
   "cell_type": "code",
   "execution_count": null,
   "metadata": {
    "colab": {
     "base_uri": "https://localhost:8080/",
     "height": 85
    },
    "colab_type": "code",
    "id": "QY-ef3OGoIiq",
    "outputId": "55f4c93c-98bb-4bac-92f2-76bd3b777605"
   },
   "outputs": [],
   "source": [
    "%%time\n",
    "\n",
    "baseline.generating_embed(GLOVE_DIR='data/embed', EMBEDDING_DIM=EMBEDDING_DIM)"
   ]
  },
  {
   "cell_type": "markdown",
   "metadata": {
    "colab_type": "text",
    "id": "Lev5Y7oaFQBd"
   },
   "source": [
    "## Towards Accurate Duplicate Bug Retrieval Using Deep Learning Techniques\n",
    "\n",
    "https://github.com/tqtg/DuplicateBugFinder"
   ]
  },
  {
   "cell_type": "markdown",
   "metadata": {
    "colab_type": "text",
    "id": "sI074wU4Y13y"
   },
   "source": [
    "### CNN with filter 3,4,5"
   ]
  },
  {
   "cell_type": "code",
   "execution_count": 30,
   "metadata": {
    "colab": {
     "base_uri": "https://localhost:8080/",
     "height": 493
    },
    "colab_type": "code",
    "id": "h6YJU9GtFTyq",
    "outputId": "f85cf105-1fd6-491d-d969-7e6936f32739",
    "scrolled": false
   },
   "outputs": [],
   "source": [
    "import keras\n",
    "from keras.layers import GlobalMaxPooling1D \n",
    "\n",
    "keras.backend.clear_session()\n",
    "\n",
    "def cnn_model(embeddings, num_words, embedding_dim, max_sequence_length, trainable):\n",
    "\n",
    "  embedding_layer = Embedding(num_words,\n",
    "                              embedding_dim,\n",
    "                              weights=[embeddings],\n",
    "                              input_length=max_sequence_length,\n",
    "                              trainable=trainable)\n",
    "\n",
    "  sequence_input = Input(shape=(max_sequence_length,), name='Feature_BugInput')\n",
    "  embedded_sequences = embedding_layer(sequence_input)\n",
    "\n",
    "  # Yoon Kim model (https://arxiv.org/abs/1408.5882)\n",
    "  convs = []\n",
    "  filter_sizes = [3,4,5]\n",
    "\n",
    "  for filter_size in filter_sizes:\n",
    "      l_conv = Conv1D(filters=32, kernel_size=filter_size, activation='relu')(embedded_sequences)\n",
    "      l_pool = MaxPooling1D(pool_size=3)(l_conv)\n",
    "      convs.append(l_pool)\n",
    "\n",
    "  # l_merge = Merge(mode='concat', concat_axis=1)(convs)\n",
    "\n",
    "  l_merge = Concatenate(axis=1)(convs)\n",
    "\n",
    "  # add a 1D convnet with global maxpooling, instead of Yoon Kim model\n",
    "  conv = Conv1D(filters=64, kernel_size=3, activation='relu')(l_merge)\n",
    "  pool = GlobalMaxPooling1D()(conv) # pool_size=3\n",
    "  # Original Yoon Kim model\n",
    "  #x = Flatten()(pool)\n",
    "  #x = Dropout(0.5)(x)\n",
    "  layer = Activation('relu')(pool)\n",
    "\n",
    "  cnn_feature_model = Model(inputs=[sequence_input], outputs=[layer], name = 'FeatureCNNGenerationModel') # inputs=visible\n",
    "  \n",
    "  return cnn_feature_model"
   ]
  },
  {
   "cell_type": "markdown",
   "metadata": {
    "colab_type": "text",
    "id": "wr6ObTXiaALH"
   },
   "source": [
    "### Bi-LSTM"
   ]
  },
  {
   "cell_type": "code",
   "execution_count": 31,
   "metadata": {
    "colab": {
     "base_uri": "https://localhost:8080/",
     "height": 306
    },
    "colab_type": "code",
    "id": "vC7MQXEsaCeG",
    "outputId": "65e647a9-c5d3-4009-b8a4-2e2d97b52684"
   },
   "outputs": [],
   "source": [
    "from keras.layers import Dense, Input, LSTM, Dropout, Bidirectional\n",
    "\n",
    "def lstm_model(embeddings, num_words, embedding_dim, max_sequence_length, trainable):\n",
    "  number_lstm_units = 100\n",
    "  rate_drop_lstm = 0\n",
    "  recurrent_dropout = 0\n",
    "\n",
    "  embedding_layer = Embedding(num_words,\n",
    "                          embedding_dim,\n",
    "                          weights=[embeddings],\n",
    "                          input_length=max_sequence_length,\n",
    "                          trainable=trainable)\n",
    "\n",
    "  sequence_input = Input(shape=(max_sequence_length, ), name='Feature_BugInput')\n",
    "  embedded_sequences = embedding_layer(sequence_input)\n",
    "\n",
    "   # Creating LSTM Encoder\n",
    "  lstm_layer = Bidirectional(LSTM(number_lstm_units, dropout=rate_drop_lstm, recurrent_dropout=rate_drop_lstm), merge_mode='sum')\n",
    "\n",
    "  x = lstm_layer(embedded_sequences)\n",
    "\n",
    "  layer = Activation('relu')(x)\n",
    "\n",
    "  lstm_feature_model = Model(inputs=[sequence_input], outputs=[layer], name = 'FeatureLstmGenerationModel') # inputs=visible\n",
    "  \n",
    "  return lstm_feature_model"
   ]
  },
  {
   "cell_type": "markdown",
   "metadata": {
    "colab_type": "text",
    "id": "TEedCg5AaTf2"
   },
   "source": [
    "### Siamese model"
   ]
  },
  {
   "cell_type": "code",
   "execution_count": 141,
   "metadata": {
    "colab": {},
    "colab_type": "code",
    "id": "dGx3qyWhmLMF"
   },
   "outputs": [],
   "source": [
    "from keras import backend as K\n",
    "import tensorflow as tf\n",
    "\n",
    "# https://stackoverflow.com/questions/50673196/keras-triplet-loss-crashes-when-training\n",
    "class MarginLoss(keras.layers.Layer):\n",
    "  def call(self, inputs):\n",
    "    bug_in, bug_pos, bug_neg  = inputs\n",
    "    loss, dis_pos, dis_neg = self.distance(bug_in, bug_pos, bug_neg)\n",
    "    self.add_loss(loss, inputs=inputs)\n",
    "    return  K.stack(inputs)\n",
    "\n",
    "  def compute_output_shape(self, input_shape):\n",
    "        return (None, 1)\n",
    "\n",
    "  def distance(self, bug_in, bug_pos, bug_neg):\n",
    "    dis_pos, dis_neg = self.cos_distance(bug_in, bug_pos), self.cos_distance(bug_in, bug_neg)\n",
    "    ep = 1\n",
    "    d1 = K.maximum(0.0, ep - dis_pos + dis_neg)\n",
    "    return K.mean(d1), dis_pos, dis_neg\n",
    "    \n",
    "  def l2_normalize(self, x, axis):\n",
    "    norm = K.sqrt(K.sum(K.square(x), axis=axis, keepdims=True))\n",
    "    return K.maximum(x, K.epsilon()) / K.maximum(norm, K.epsilon())\n",
    "\n",
    "  # https://github.com/keras-team/keras/issues/3031\n",
    "  def cos_distance(self, y_true, y_pred):\n",
    "    y_true = self.l2_normalize(y_true, axis=-1)\n",
    "    y_pred = self.l2_normalize(y_pred, axis=-1)\n",
    "    return K.mean(1 - K.sum((y_true * y_pred), axis=-1))\n",
    "    \n",
    "def identity_loss(y_true, y_pred):\n",
    "    return K.mean(y_pred - 0 * y_true)\n",
    "\n",
    "# define the margin loss like hinge loss\n",
    "def margin_loss(y_true, y_pred):\n",
    "    margin = K.constant(1.0)\n",
    "    return K.mean(K.maximum(0, margin - K.square(y_pred[:,0,0])+ K.square(y_pred[:,1,0])))"
   ]
  },
  {
   "cell_type": "code",
   "execution_count": 113,
   "metadata": {},
   "outputs": [],
   "source": [
    "class myCallback(keras.callbacks.Callback):\n",
    "    def __init__(self, log_dir = './logs/', margin_loss=None):\n",
    "        super(myCallback, self).__init__()\n",
    "        training_log_dir = os.path.join(log_dir, 'training')\n",
    "        self.summary_writer = tf.summary.FileWriter(training_log_dir)\n",
    "        self.margin_loss = margin_loss\n",
    "    #def on_batch_end(self, batch, logs = None):\n",
    "        #print(batch)\n",
    "    def on_epoch_end(self, epoch, logs=None):\n",
    "        logs = logs or {}\n",
    "#         print(self.model.get_layer('margin_loss_1'))\n",
    "#         print(dir(self.model.get_layer('margin_loss_1')))\n",
    "        model = self.model.get_layer('margin_loss_1')\n",
    "#         summary = tf.Summary()\n",
    "#         summary_value = summary.value.add()\n",
    "#         summary_value.simple_value = model.distance_pos\n",
    "#         summary_value.tag = 'distance_pos'\n",
    "#         self.summary_writer.add_summary(summary, epoch)\n",
    "#         self.val_writer.flush()\n",
    "        super(myCallback, self).on_epoch_end(epoch, logs)"
   ]
  },
  {
   "cell_type": "code",
   "execution_count": 142,
   "metadata": {
    "colab": {
     "base_uri": "https://localhost:8080/",
     "height": 561
    },
    "colab_type": "code",
    "id": "VWBkSIYVaXyP",
    "outputId": "ed2a3d37-b8ec-4960-ef45-2909a87c8fa5"
   },
   "outputs": [],
   "source": [
    "from keras.layers import concatenate, Add, Lambda\n",
    "from keras.optimizers import Adam\n",
    "\n",
    "def siamese_model(lstm_feature_model, cnn_feature_model, max_sequence_length_t, max_sequence_length_d):\n",
    "  \n",
    "  bug_t_in = Input(shape = (max_sequence_length_t, ), name = 'title_in')\n",
    "  bug_t_pos = Input(shape = (max_sequence_length_t, ), name = 'title_pos')\n",
    "  bug_t_neg = Input(shape = (max_sequence_length_t, ), name = 'title_neg')\n",
    "  \n",
    "  bug_d_in = Input(shape = (max_sequence_length_d, ), name = 'desc_in')\n",
    "  bug_d_pos = Input(shape = (max_sequence_length_d, ), name = 'desc_pos')\n",
    "  bug_d_neg = Input(shape = (max_sequence_length_d, ), name = 'desc_neg')\n",
    "\n",
    "  bug_t_in_feat_lstm = lstm_feature_model(bug_t_in)\n",
    "  bug_t_pos_feat_lstm = lstm_feature_model(bug_t_pos)\n",
    "  bug_t_neg_feat_lstm = lstm_feature_model(bug_t_neg)\n",
    "  \n",
    "  bug_d_in_feat_cnn = cnn_feature_model(bug_d_in)\n",
    "  bug_d_pos_feat_cnn = cnn_feature_model(bug_d_pos)\n",
    "  bug_d_neg_feat_cnn = cnn_feature_model(bug_d_neg)\n",
    "\n",
    "  encoded_anchor = concatenate([bug_t_in_feat_lstm, bug_d_in_feat_cnn], name = 'merge_features_in')\n",
    "  encoded_positive = concatenate([bug_t_pos_feat_lstm, bug_d_pos_feat_cnn], name = 'merge_features_pos')\n",
    "  encoded_negative = concatenate([bug_t_neg_feat_lstm, bug_d_neg_feat_cnn], name = 'merge_features_neg')\n",
    "  \n",
    "  loss = MarginLoss()([encoded_anchor, encoded_positive, encoded_negative])\n",
    "  \n",
    "  #adam = Adam(lr=0.01, beta_1=0.9, beta_2=0.999, epsilon=None, decay=0.01, amsgrad=False)\n",
    "  \n",
    "  similarity_model = Model(inputs = [bug_t_in, bug_t_pos, bug_t_neg, bug_d_in, bug_d_pos, bug_d_neg], \n",
    "                           outputs = loss, name = 'Similarity_Model')\n",
    "\n",
    "  # setup the optimization process \n",
    "  similarity_model.compile(optimizer='adam', loss=None) # metrics = ['accuracy']\n",
    "  \n",
    "  return similarity_model"
   ]
  },
  {
   "cell_type": "markdown",
   "metadata": {},
   "source": [
    "## Experiment"
   ]
  },
  {
   "cell_type": "code",
   "execution_count": 143,
   "metadata": {
    "scrolled": true
   },
   "outputs": [
    {
     "name": "stdout",
     "output_type": "stream",
     "text": [
      "__________________________________________________________________________________________________\n",
      "Layer (type)                    Output Shape         Param #     Connected to                     \n",
      "==================================================================================================\n",
      "title_in (InputLayer)           (None, 100)          0                                            \n",
      "__________________________________________________________________________________________________\n",
      "desc_in (InputLayer)            (None, 100)          0                                            \n",
      "__________________________________________________________________________________________________\n",
      "title_pos (InputLayer)          (None, 100)          0                                            \n",
      "__________________________________________________________________________________________________\n",
      "desc_pos (InputLayer)           (None, 100)          0                                            \n",
      "__________________________________________________________________________________________________\n",
      "title_neg (InputLayer)          (None, 100)          0                                            \n",
      "__________________________________________________________________________________________________\n",
      "desc_neg (InputLayer)           (None, 100)          0                                            \n",
      "__________________________________________________________________________________________________\n",
      "FeatureLstmGenerationModel (Mod (None, 100)          41796400    title_in[0][0]                   \n",
      "                                                                 title_pos[0][0]                  \n",
      "                                                                 title_neg[0][0]                  \n",
      "__________________________________________________________________________________________________\n",
      "FeatureCNNGenerationModel (Mode (None, 64)           41597104    desc_in[0][0]                    \n",
      "                                                                 desc_pos[0][0]                   \n",
      "                                                                 desc_neg[0][0]                   \n",
      "__________________________________________________________________________________________________\n",
      "merge_features_in (Concatenate) (None, 164)          0           FeatureLstmGenerationModel[1][0] \n",
      "                                                                 FeatureCNNGenerationModel[1][0]  \n",
      "__________________________________________________________________________________________________\n",
      "merge_features_pos (Concatenate (None, 164)          0           FeatureLstmGenerationModel[2][0] \n",
      "                                                                 FeatureCNNGenerationModel[2][0]  \n",
      "__________________________________________________________________________________________________\n",
      "merge_features_neg (Concatenate (None, 164)          0           FeatureLstmGenerationModel[3][0] \n",
      "                                                                 FeatureCNNGenerationModel[3][0]  \n",
      "__________________________________________________________________________________________________\n",
      "margin_loss_1 (MarginLoss)      (None, 1)            0           merge_features_in[0][0]          \n",
      "                                                                 merge_features_pos[0][0]         \n",
      "                                                                 merge_features_neg[0][0]         \n",
      "==================================================================================================\n",
      "Total params: 83,393,504\n",
      "Trainable params: 442,304\n",
      "Non-trainable params: 82,951,200\n",
      "__________________________________________________________________________________________________\n",
      "Epoch 1/100\n",
      "16/16 [==============================] - ETA: 1:51 - loss: 1.008 - ETA: 54s - loss: 1.003 - ETA: 35s - loss: 1.00 - ETA: 25s - loss: 1.00 - ETA: 20s - loss: 1.00 - ETA: 16s - loss: 1.00 - ETA: 13s - loss: 1.00 - ETA: 10s - loss: 1.00 - ETA: 8s - loss: 1.0014 - ETA: 7s - loss: 1.001 - ETA: 5s - loss: 1.001 - ETA: 4s - loss: 1.001 - ETA: 3s - loss: 1.001 - ETA: 1s - loss: 1.001 - ETA: 0s - loss: 1.001 - 15s 927ms/step - loss: 1.0009\n",
      "Epoch 2/100\n",
      "16/16 [==============================] - ETA: 4s - loss: 1.000 - ETA: 5s - loss: 1.000 - ETA: 4s - loss: 1.000 - ETA: 4s - loss: 1.000 - ETA: 4s - loss: 1.000 - ETA: 4s - loss: 1.000 - ETA: 3s - loss: 1.000 - ETA: 3s - loss: 1.000 - ETA: 3s - loss: 1.000 - ETA: 2s - loss: 1.000 - ETA: 2s - loss: 1.000 - ETA: 1s - loss: 1.000 - ETA: 1s - loss: 1.000 - ETA: 0s - loss: 1.000 - ETA: 0s - loss: 0.999 - 8s 489ms/step - loss: 0.9999\n",
      "Epoch 3/100\n",
      "16/16 [==============================] - ETA: 4s - loss: 0.999 - ETA: 5s - loss: 1.000 - ETA: 5s - loss: 1.000 - ETA: 6s - loss: 1.001 - ETA: 6s - loss: 1.001 - ETA: 5s - loss: 1.001 - ETA: 5s - loss: 1.000 - ETA: 4s - loss: 1.000 - ETA: 4s - loss: 1.000 - ETA: 3s - loss: 1.000 - ETA: 3s - loss: 1.000 - ETA: 2s - loss: 1.000 - ETA: 1s - loss: 1.000 - ETA: 1s - loss: 1.000 - ETA: 0s - loss: 1.000 - 10s 637ms/step - loss: 1.0007\n",
      "Epoch 4/100\n",
      "16/16 [==============================] - ETA: 7s - loss: 1.000 - ETA: 8s - loss: 1.000 - ETA: 7s - loss: 1.000 - ETA: 7s - loss: 1.000 - ETA: 6s - loss: 1.000 - ETA: 6s - loss: 1.000 - ETA: 5s - loss: 1.000 - ETA: 5s - loss: 1.000 - ETA: 4s - loss: 1.000 - ETA: 3s - loss: 1.000 - ETA: 3s - loss: 1.000 - ETA: 2s - loss: 1.000 - ETA: 1s - loss: 1.000 - ETA: 1s - loss: 1.000 - ETA: 0s - loss: 1.000 - 11s 667ms/step - loss: 1.0002\n",
      "Epoch 5/100\n",
      "16/16 [==============================] - ETA: 6s - loss: 1.000 - ETA: 7s - loss: 0.999 - ETA: 7s - loss: 1.000 - ETA: 7s - loss: 1.000 - ETA: 6s - loss: 1.000 - ETA: 6s - loss: 1.000 - ETA: 5s - loss: 1.000 - ETA: 4s - loss: 1.000 - ETA: 4s - loss: 1.000 - ETA: 3s - loss: 1.000 - ETA: 3s - loss: 1.000 - ETA: 2s - loss: 1.000 - ETA: 1s - loss: 1.000 - ETA: 1s - loss: 1.000 - ETA: 0s - loss: 1.000 - 10s 607ms/step - loss: 1.0005\n",
      "Epoch 6/100\n",
      " 5/16 [========>.....................] - ETA: 4s - loss: 1.000 - ETA: 4s - loss: 1.000 - ETA: 5s - loss: 1.000 - ETA: 5s - loss: 1.000 - ETA: 5s - loss: 1.0002"
     ]
    },
    {
     "name": "stderr",
     "output_type": "stream",
     "text": [
      "C:\\Users\\Thiago\\Anaconda3\\lib\\site-packages\\keras\\callbacks.py:122: UserWarning: Method on_batch_end() is slow compared to the batch update (0.257303). Check your callbacks.\n",
      "  % delta_t_median)\n"
     ]
    },
    {
     "name": "stdout",
     "output_type": "stream",
     "text": [
      "16/16 [==============================] - ETA: 5s - loss: 1.000 - ETA: 5s - loss: 1.000 - ETA: 4s - loss: 1.000 - ETA: 3s - loss: 1.000 - ETA: 3s - loss: 1.000 - ETA: 2s - loss: 1.000 - ETA: 2s - loss: 1.000 - ETA: 1s - loss: 1.000 - ETA: 1s - loss: 1.000 - ETA: 0s - loss: 1.000 - 10s 608ms/step - loss: 1.0003\n",
      "Epoch 7/100\n",
      " 1/16 [>.............................] - ETA: 4s - loss: 1.0002"
     ]
    },
    {
     "name": "stderr",
     "output_type": "stream",
     "text": [
      "C:\\Users\\Thiago\\Anaconda3\\lib\\site-packages\\keras\\callbacks.py:122: UserWarning: Method on_batch_end() is slow compared to the batch update (0.279645). Check your callbacks.\n",
      "  % delta_t_median)\n"
     ]
    },
    {
     "name": "stdout",
     "output_type": "stream",
     "text": [
      "13/16 [=======================>......] - ETA: 6s - loss: 0.999 - ETA: 6s - loss: 1.000 - ETA: 6s - loss: 1.000 - ETA: 6s - loss: 1.000 - ETA: 5s - loss: 1.000 - ETA: 4s - loss: 1.000 - ETA: 4s - loss: 1.000 - ETA: 3s - loss: 1.000 - ETA: 3s - loss: 1.000 - ETA: 2s - loss: 1.000 - ETA: 2s - loss: 1.000 - ETA: 1s - loss: 1.0004"
     ]
    },
    {
     "name": "stderr",
     "output_type": "stream",
     "text": [
      "C:\\Users\\Thiago\\Anaconda3\\lib\\site-packages\\keras\\callbacks.py:122: UserWarning: Method on_batch_end() is slow compared to the batch update (0.278192). Check your callbacks.\n",
      "  % delta_t_median)\n"
     ]
    },
    {
     "name": "stdout",
     "output_type": "stream",
     "text": [
      "16/16 [==============================] - ETA: 1s - loss: 1.000 - ETA: 0s - loss: 1.000 - 9s 548ms/step - loss: 1.0003\n",
      "Epoch 8/100\n",
      " 1/16 [>.............................] - ETA: 5s - loss: 1.0007"
     ]
    },
    {
     "name": "stderr",
     "output_type": "stream",
     "text": [
      "C:\\Users\\Thiago\\Anaconda3\\lib\\site-packages\\keras\\callbacks.py:122: UserWarning: Method on_batch_end() is slow compared to the batch update (0.292989). Check your callbacks.\n",
      "  % delta_t_median)\n"
     ]
    },
    {
     "name": "stdout",
     "output_type": "stream",
     "text": [
      " 2/16 [==>...........................] - ETA: 6s - loss: 1.0003"
     ]
    },
    {
     "name": "stderr",
     "output_type": "stream",
     "text": [
      "C:\\Users\\Thiago\\Anaconda3\\lib\\site-packages\\keras\\callbacks.py:122: UserWarning: Method on_batch_end() is slow compared to the batch update (0.424814). Check your callbacks.\n",
      "  % delta_t_median)\n"
     ]
    },
    {
     "name": "stdout",
     "output_type": "stream",
     "text": [
      " 3/16 [====>.........................] - ETA: 7s - loss: 1.0001"
     ]
    },
    {
     "name": "stderr",
     "output_type": "stream",
     "text": [
      "C:\\Users\\Thiago\\Anaconda3\\lib\\site-packages\\keras\\callbacks.py:122: UserWarning: Method on_batch_end() is slow compared to the batch update (0.328045). Check your callbacks.\n",
      "  % delta_t_median)\n"
     ]
    },
    {
     "name": "stdout",
     "output_type": "stream",
     "text": [
      " 4/16 [======>.......................] - ETA: 7s - loss: 1.0001"
     ]
    },
    {
     "name": "stderr",
     "output_type": "stream",
     "text": [
      "C:\\Users\\Thiago\\Anaconda3\\lib\\site-packages\\keras\\callbacks.py:122: UserWarning: Method on_batch_end() is slow compared to the batch update (0.310517). Check your callbacks.\n",
      "  % delta_t_median)\n"
     ]
    },
    {
     "name": "stdout",
     "output_type": "stream",
     "text": [
      "16/16 [==============================] - ETA: 6s - loss: 1.000 - ETA: 5s - loss: 1.000 - ETA: 5s - loss: 1.000 - ETA: 4s - loss: 1.000 - ETA: 4s - loss: 1.000 - ETA: 3s - loss: 1.000 - ETA: 2s - loss: 1.000 - ETA: 2s - loss: 1.000 - ETA: 1s - loss: 1.000 - ETA: 1s - loss: 1.000 - ETA: 0s - loss: 1.000 - 9s 590ms/step - loss: 1.0001\n",
      "Epoch 9/100\n",
      " 1/16 [>.............................] - ETA: 5s - loss: 1.0001"
     ]
    },
    {
     "name": "stderr",
     "output_type": "stream",
     "text": [
      "C:\\Users\\Thiago\\Anaconda3\\lib\\site-packages\\keras\\callbacks.py:122: UserWarning: Method on_batch_end() is slow compared to the batch update (0.333941). Check your callbacks.\n",
      "  % delta_t_median)\n"
     ]
    },
    {
     "name": "stdout",
     "output_type": "stream",
     "text": [
      " 2/16 [==>...........................] - ETA: 6s - loss: 1.0002"
     ]
    },
    {
     "name": "stderr",
     "output_type": "stream",
     "text": [
      "C:\\Users\\Thiago\\Anaconda3\\lib\\site-packages\\keras\\callbacks.py:122: UserWarning: Method on_batch_end() is slow compared to the batch update (0.383411). Check your callbacks.\n",
      "  % delta_t_median)\n"
     ]
    },
    {
     "name": "stdout",
     "output_type": "stream",
     "text": [
      " 3/16 [====>.........................] - ETA: 7s - loss: 1.0004"
     ]
    },
    {
     "name": "stderr",
     "output_type": "stream",
     "text": [
      "C:\\Users\\Thiago\\Anaconda3\\lib\\site-packages\\keras\\callbacks.py:122: UserWarning: Method on_batch_end() is slow compared to the batch update (0.338176). Check your callbacks.\n",
      "  % delta_t_median)\n"
     ]
    },
    {
     "name": "stdout",
     "output_type": "stream",
     "text": [
      " 4/16 [======>.......................] - ETA: 7s - loss: 1.0003"
     ]
    },
    {
     "name": "stderr",
     "output_type": "stream",
     "text": [
      "C:\\Users\\Thiago\\Anaconda3\\lib\\site-packages\\keras\\callbacks.py:122: UserWarning: Method on_batch_end() is slow compared to the batch update (0.342543). Check your callbacks.\n",
      "  % delta_t_median)\n"
     ]
    },
    {
     "name": "stdout",
     "output_type": "stream",
     "text": [
      " 5/16 [========>.....................] - ETA: 6s - loss: 1.0003"
     ]
    },
    {
     "name": "stderr",
     "output_type": "stream",
     "text": [
      "C:\\Users\\Thiago\\Anaconda3\\lib\\site-packages\\keras\\callbacks.py:122: UserWarning: Method on_batch_end() is slow compared to the batch update (0.346911). Check your callbacks.\n",
      "  % delta_t_median)\n"
     ]
    },
    {
     "name": "stdout",
     "output_type": "stream",
     "text": [
      " 8/16 [==============>...............] - ETA: 6s - loss: 1.000 - ETA: 5s - loss: 1.000 - ETA: 4s - loss: 1.0002"
     ]
    },
    {
     "name": "stderr",
     "output_type": "stream",
     "text": [
      "C:\\Users\\Thiago\\Anaconda3\\lib\\site-packages\\keras\\callbacks.py:122: UserWarning: Method on_batch_end() is slow compared to the batch update (0.336058). Check your callbacks.\n",
      "  % delta_t_median)\n"
     ]
    },
    {
     "name": "stdout",
     "output_type": "stream",
     "text": [
      "15/16 [===========================>..] - ETA: 4s - loss: 1.000 - ETA: 3s - loss: 1.000 - ETA: 3s - loss: 1.000 - ETA: 2s - loss: 1.000 - ETA: 1s - loss: 1.000 - ETA: 1s - loss: 1.000 - ETA: 0s - loss: 1.0001"
     ]
    },
    {
     "name": "stderr",
     "output_type": "stream",
     "text": [
      "C:\\Users\\Thiago\\Anaconda3\\lib\\site-packages\\keras\\callbacks.py:122: UserWarning: Method on_batch_end() is slow compared to the batch update (0.280807). Check your callbacks.\n",
      "  % delta_t_median)\n"
     ]
    },
    {
     "name": "stdout",
     "output_type": "stream",
     "text": [
      "16/16 [==============================] - 9s 592ms/step - loss: 1.0001\n",
      "Epoch 10/100\n",
      "16/16 [==============================] - ETA: 4s - loss: 1.000 - ETA: 6s - loss: 0.999 - ETA: 5s - loss: 1.000 - ETA: 5s - loss: 1.000 - ETA: 4s - loss: 1.000 - ETA: 4s - loss: 1.000 - ETA: 4s - loss: 1.000 - ETA: 4s - loss: 1.000 - ETA: 4s - loss: 1.000 - ETA: 3s - loss: 1.000 - ETA: 3s - loss: 1.000 - ETA: 2s - loss: 1.000 - ETA: 1s - loss: 1.000 - ETA: 1s - loss: 1.000 - ETA: 0s - loss: 1.000 - 10s 626ms/step - loss: 1.0001\n",
      "Epoch 11/100\n",
      "16/16 [==============================] - ETA: 4s - loss: 1.000 - ETA: 5s - loss: 1.000 - ETA: 6s - loss: 1.000 - ETA: 6s - loss: 1.000 - ETA: 6s - loss: 1.000 - ETA: 5s - loss: 1.000 - ETA: 5s - loss: 1.000 - ETA: 4s - loss: 1.000 - ETA: 4s - loss: 1.000 - ETA: 3s - loss: 1.000 - ETA: 3s - loss: 0.999 - ETA: 2s - loss: 1.000 - ETA: 1s - loss: 1.000 - ETA: 1s - loss: 1.000 - ETA: 0s - loss: 1.000 - 10s 631ms/step - loss: 1.0001\n",
      "Epoch 12/100\n",
      "16/16 [==============================] - ETA: 5s - loss: 1.000 - ETA: 7s - loss: 1.000 - ETA: 7s - loss: 0.999 - ETA: 7s - loss: 0.999 - ETA: 6s - loss: 0.999 - ETA: 6s - loss: 0.999 - ETA: 5s - loss: 0.999 - ETA: 5s - loss: 1.000 - ETA: 4s - loss: 0.999 - ETA: 3s - loss: 0.999 - ETA: 3s - loss: 1.000 - ETA: 2s - loss: 1.000 - ETA: 1s - loss: 1.000 - ETA: 1s - loss: 1.000 - ETA: 0s - loss: 1.000 - 10s 645ms/step - loss: 1.0001\n",
      "Epoch 13/100\n",
      "16/16 [==============================] - ETA: 4s - loss: 1.001 - ETA: 6s - loss: 1.000 - ETA: 6s - loss: 1.000 - ETA: 6s - loss: 1.000 - ETA: 6s - loss: 1.000 - ETA: 5s - loss: 1.000 - ETA: 5s - loss: 1.000 - ETA: 4s - loss: 1.000 - ETA: 3s - loss: 1.000 - ETA: 3s - loss: 1.000 - ETA: 2s - loss: 1.000 - ETA: 2s - loss: 1.000 - ETA: 1s - loss: 1.000 - ETA: 1s - loss: 1.000 - ETA: 0s - loss: 1.000 - 9s 567ms/step - loss: 1.0001\n",
      "Epoch 14/100\n",
      " 5/16 [========>.....................] - ETA: 5s - loss: 1.000 - ETA: 5s - loss: 0.999 - ETA: 6s - loss: 0.999 - ETA: 6s - loss: 0.999 - ETA: 5s - loss: 0.9998"
     ]
    },
    {
     "name": "stderr",
     "output_type": "stream",
     "text": [
      "C:\\Users\\Thiago\\Anaconda3\\lib\\site-packages\\keras\\callbacks.py:122: UserWarning: Method on_batch_end() is slow compared to the batch update (0.287718). Check your callbacks.\n",
      "  % delta_t_median)\n"
     ]
    },
    {
     "name": "stdout",
     "output_type": "stream",
     "text": [
      "16/16 [==============================] - ETA: 5s - loss: 0.999 - ETA: 5s - loss: 0.999 - ETA: 4s - loss: 0.999 - ETA: 4s - loss: 0.999 - ETA: 3s - loss: 0.999 - ETA: 2s - loss: 1.000 - ETA: 2s - loss: 1.000 - ETA: 1s - loss: 1.000 - ETA: 1s - loss: 1.000 - ETA: 0s - loss: 1.000 - 9s 577ms/step - loss: 1.0003\n",
      "Epoch 15/100\n",
      " 1/16 [>.............................] - ETA: 4s - loss: 0.9980"
     ]
    },
    {
     "name": "stderr",
     "output_type": "stream",
     "text": [
      "C:\\Users\\Thiago\\Anaconda3\\lib\\site-packages\\keras\\callbacks.py:122: UserWarning: Method on_batch_end() is slow compared to the batch update (0.382772). Check your callbacks.\n",
      "  % delta_t_median)\n"
     ]
    },
    {
     "name": "stdout",
     "output_type": "stream",
     "text": [
      " 9/16 [===============>..............] - ETA: 7s - loss: 1.000 - ETA: 6s - loss: 0.999 - ETA: 6s - loss: 0.999 - ETA: 5s - loss: 0.999 - ETA: 5s - loss: 0.999 - ETA: 4s - loss: 0.999 - ETA: 4s - loss: 1.000 - ETA: 3s - loss: 1.0001"
     ]
    },
    {
     "name": "stderr",
     "output_type": "stream",
     "text": [
      "C:\\Users\\Thiago\\Anaconda3\\lib\\site-packages\\keras\\callbacks.py:122: UserWarning: Method on_batch_end() is slow compared to the batch update (0.278771). Check your callbacks.\n",
      "  % delta_t_median)\n"
     ]
    },
    {
     "name": "stdout",
     "output_type": "stream",
     "text": [
      "16/16 [==============================] - ETA: 3s - loss: 1.000 - ETA: 2s - loss: 1.000 - ETA: 2s - loss: 1.000 - ETA: 1s - loss: 1.000 - ETA: 1s - loss: 1.000 - ETA: 0s - loss: 1.000 - 9s 570ms/step - loss: 1.0000\n",
      "Epoch 16/100\n",
      "16/16 [==============================] - ETA: 4s - loss: 1.000 - ETA: 4s - loss: 1.000 - ETA: 6s - loss: 1.000 - ETA: 5s - loss: 1.000 - ETA: 4s - loss: 1.000 - ETA: 4s - loss: 1.000 - ETA: 4s - loss: 1.000 - ETA: 3s - loss: 1.000 - ETA: 3s - loss: 1.000 - ETA: 2s - loss: 1.000 - ETA: 2s - loss: 0.999 - ETA: 2s - loss: 0.999 - ETA: 1s - loss: 0.999 - ETA: 1s - loss: 0.999 - ETA: 0s - loss: 0.999 - 9s 566ms/step - loss: 0.9999\n",
      "Epoch 17/100\n",
      " 7/16 [============>.................] - ETA: 24s - loss: 0.99 - ETA: 25s - loss: 1.00 - ETA: 20s - loss: 1.00 - ETA: 16s - loss: 1.00 - ETA: 14s - loss: 1.00 - ETA: 11s - loss: 1.00 - ETA: 9s - loss: 1.0004 "
     ]
    },
    {
     "name": "stderr",
     "output_type": "stream",
     "text": [
      "C:\\Users\\Thiago\\Anaconda3\\lib\\site-packages\\keras\\callbacks.py:122: UserWarning: Method on_batch_end() is slow compared to the batch update (0.261188). Check your callbacks.\n",
      "  % delta_t_median)\n"
     ]
    },
    {
     "name": "stdout",
     "output_type": "stream",
     "text": [
      " 9/16 [===============>..............] - ETA: 8s - loss: 1.000 - ETA: 6s - loss: 1.0004"
     ]
    },
    {
     "name": "stderr",
     "output_type": "stream",
     "text": [
      "C:\\Users\\Thiago\\Anaconda3\\lib\\site-packages\\keras\\callbacks.py:122: UserWarning: Method on_batch_end() is slow compared to the batch update (0.250868). Check your callbacks.\n",
      "  % delta_t_median)\n"
     ]
    },
    {
     "name": "stdout",
     "output_type": "stream",
     "text": [
      "16/16 [==============================] - ETA: 5s - loss: 1.000 - ETA: 4s - loss: 1.000 - ETA: 3s - loss: 1.000 - ETA: 2s - loss: 1.000 - ETA: 1s - loss: 1.000 - ETA: 1s - loss: 1.000 - 17s 1s/step - loss: 1.0003\n",
      "Epoch 18/100\n",
      "12/16 [=====================>........] - ETA: 21s - loss: 0.99 - ETA: 19s - loss: 0.99 - ETA: 17s - loss: 0.99 - ETA: 16s - loss: 1.00 - ETA: 16s - loss: 1.00 - ETA: 15s - loss: 1.00 - ETA: 13s - loss: 1.00 - ETA: 11s - loss: 1.00 - ETA: 9s - loss: 1.0000 - ETA: 8s - loss: 1.000 - ETA: 6s - loss: 1.000 - ETA: 4s - loss: 1.0000"
     ]
    },
    {
     "name": "stderr",
     "output_type": "stream",
     "text": [
      "C:\\Users\\Thiago\\Anaconda3\\lib\\site-packages\\keras\\callbacks.py:122: UserWarning: Method on_batch_end() is slow compared to the batch update (0.258811). Check your callbacks.\n",
      "  % delta_t_median)\n"
     ]
    },
    {
     "name": "stdout",
     "output_type": "stream",
     "text": [
      "16/16 [==============================] - ETA: 3s - loss: 1.000 - ETA: 2s - loss: 1.000 - ETA: 1s - loss: 1.000 - 19s 1s/step - loss: 1.0000\n",
      "Epoch 19/100\n",
      "16/16 [==============================] - ETA: 10s - loss: 0.99 - ETA: 10s - loss: 0.99 - ETA: 9s - loss: 0.9998 - ETA: 10s - loss: 1.00 - ETA: 11s - loss: 0.99 - ETA: 10s - loss: 0.99 - ETA: 8s - loss: 0.9999 - ETA: 7s - loss: 0.999 - ETA: 6s - loss: 0.999 - ETA: 5s - loss: 0.999 - ETA: 4s - loss: 0.999 - ETA: 3s - loss: 0.999 - ETA: 2s - loss: 0.999 - ETA: 1s - loss: 1.000 - ETA: 0s - loss: 1.000 - 12s 772ms/step - loss: 1.0000\n",
      "Epoch 20/100\n",
      "16/16 [==============================] - ETA: 4s - loss: 1.000 - ETA: 11s - loss: 1.00 - ETA: 15s - loss: 1.00 - ETA: 15s - loss: 1.00 - ETA: 13s - loss: 1.00 - ETA: 11s - loss: 1.00 - ETA: 9s - loss: 1.0000 - ETA: 8s - loss: 1.000 - ETA: 7s - loss: 1.000 - ETA: 5s - loss: 1.000 - ETA: 4s - loss: 1.000 - ETA: 3s - loss: 1.000 - ETA: 2s - loss: 1.000 - ETA: 1s - loss: 1.000 - ETA: 0s - loss: 1.000 - 14s 855ms/step - loss: 1.0000\n",
      "Epoch 21/100\n",
      "16/16 [==============================] - ETA: 8s - loss: 0.999 - ETA: 8s - loss: 1.000 - ETA: 7s - loss: 1.000 - ETA: 7s - loss: 1.000 - ETA: 6s - loss: 1.000 - ETA: 5s - loss: 1.000 - ETA: 6s - loss: 1.000 - ETA: 6s - loss: 1.000 - ETA: 6s - loss: 1.000 - ETA: 5s - loss: 1.000 - ETA: 4s - loss: 1.000 - ETA: 3s - loss: 1.000 - ETA: 3s - loss: 1.000 - ETA: 2s - loss: 1.000 - ETA: 1s - loss: 1.000 - 17s 1s/step - loss: 1.0001\n",
      "Epoch 22/100\n",
      "16/16 [==============================] - ETA: 14s - loss: 1.00 - ETA: 18s - loss: 1.00 - ETA: 16s - loss: 1.00 - ETA: 14s - loss: 1.00 - ETA: 11s - loss: 1.00 - ETA: 11s - loss: 1.00 - ETA: 11s - loss: 1.00 - ETA: 10s - loss: 1.00 - ETA: 8s - loss: 1.0001 - ETA: 7s - loss: 1.000 - ETA: 5s - loss: 1.000 - ETA: 4s - loss: 1.000 - ETA: 3s - loss: 1.000 - ETA: 2s - loss: 1.000 - ETA: 1s - loss: 1.000 - 17s 1s/step - loss: 1.0000\n",
      "Epoch 23/100\n",
      "16/16 [==============================] - ETA: 25s - loss: 0.99 - ETA: 22s - loss: 0.99 - ETA: 18s - loss: 0.99 - ETA: 15s - loss: 1.00 - ETA: 13s - loss: 1.00 - ETA: 11s - loss: 1.00 - ETA: 9s - loss: 1.0000 - ETA: 7s - loss: 1.000 - ETA: 6s - loss: 1.000 - ETA: 5s - loss: 1.000 - ETA: 4s - loss: 1.000 - ETA: 3s - loss: 1.000 - ETA: 2s - loss: 1.000 - ETA: 1s - loss: 1.000 - ETA: 0s - loss: 1.000 - 12s 765ms/step - loss: 1.0001\n",
      "Epoch 24/100\n",
      "16/16 [==============================] - ETA: 4s - loss: 1.000 - ETA: 6s - loss: 1.000 - ETA: 6s - loss: 1.000 - ETA: 5s - loss: 1.000 - ETA: 5s - loss: 1.000 - ETA: 5s - loss: 1.000 - ETA: 4s - loss: 1.000 - ETA: 4s - loss: 1.000 - ETA: 3s - loss: 1.000 - ETA: 3s - loss: 1.000 - ETA: 2s - loss: 1.000 - ETA: 2s - loss: 1.000 - ETA: 1s - loss: 1.000 - ETA: 1s - loss: 1.000 - ETA: 0s - loss: 1.000 - 9s 548ms/step - loss: 1.0000\n",
      "Epoch 25/100\n",
      "16/16 [==============================] - ETA: 15s - loss: 0.99 - ETA: 20s - loss: 1.00 - ETA: 17s - loss: 1.00 - ETA: 15s - loss: 1.00 - ETA: 12s - loss: 1.00 - ETA: 11s - loss: 1.00 - ETA: 10s - loss: 1.00 - ETA: 9s - loss: 1.0001 - ETA: 8s - loss: 1.000 - ETA: 7s - loss: 1.000 - ETA: 6s - loss: 1.000 - ETA: 4s - loss: 1.000 - ETA: 3s - loss: 1.000 - ETA: 2s - loss: 1.000 - ETA: 1s - loss: 1.000 - 19s 1s/step - loss: 1.0001\n",
      "Epoch 26/100\n",
      "16/16 [==============================] - ETA: 8s - loss: 0.999 - ETA: 14s - loss: 1.00 - ETA: 16s - loss: 0.99 - ETA: 16s - loss: 0.99 - ETA: 14s - loss: 0.99 - ETA: 12s - loss: 1.00 - ETA: 10s - loss: 1.00 - ETA: 9s - loss: 1.0000 - ETA: 8s - loss: 1.000 - ETA: 7s - loss: 0.999 - ETA: 6s - loss: 1.000 - ETA: 5s - loss: 1.000 - ETA: 4s - loss: 1.000 - ETA: 2s - loss: 0.999 - ETA: 1s - loss: 0.999 - 22s 1s/step - loss: 1.0000\n",
      "Epoch 27/100\n",
      "16/16 [==============================] - ETA: 22s - loss: 1.00 - ETA: 22s - loss: 0.99 - ETA: 20s - loss: 0.99 - ETA: 19s - loss: 0.99 - ETA: 18s - loss: 0.99 - ETA: 15s - loss: 0.99 - ETA: 13s - loss: 1.00 - ETA: 11s - loss: 1.00 - ETA: 9s - loss: 1.0000 - ETA: 7s - loss: 1.000 - ETA: 5s - loss: 1.000 - ETA: 4s - loss: 1.000 - ETA: 3s - loss: 1.000 - ETA: 2s - loss: 1.000 - ETA: 1s - loss: 1.000 - 16s 1s/step - loss: 1.0000\n",
      "Epoch 28/100\n",
      "16/16 [==============================] - ETA: 19s - loss: 1.00 - ETA: 19s - loss: 1.00 - ETA: 16s - loss: 1.00 - ETA: 14s - loss: 1.00 - ETA: 11s - loss: 1.00 - ETA: 11s - loss: 1.00 - ETA: 10s - loss: 1.00 - ETA: 9s - loss: 1.0001 - ETA: 8s - loss: 1.000 - ETA: 7s - loss: 1.000 - ETA: 5s - loss: 1.000 - ETA: 4s - loss: 1.000 - ETA: 3s - loss: 1.000 - ETA: 2s - loss: 1.000 - ETA: 1s - loss: 1.000 - 16s 993ms/step - loss: 1.0000\n",
      "Epoch 29/100\n",
      " 6/16 [==========>...................] - ETA: 4s - loss: 1.000 - ETA: 6s - loss: 1.000 - ETA: 6s - loss: 1.000 - ETA: 6s - loss: 1.000 - ETA: 6s - loss: 1.000 - ETA: 5s - loss: 1.0000"
     ]
    },
    {
     "name": "stderr",
     "output_type": "stream",
     "text": [
      "C:\\Users\\Thiago\\Anaconda3\\lib\\site-packages\\keras\\callbacks.py:122: UserWarning: Method on_batch_end() is slow compared to the batch update (0.239672). Check your callbacks.\n",
      "  % delta_t_median)\n"
     ]
    },
    {
     "name": "stdout",
     "output_type": "stream",
     "text": [
      "16/16 [==============================] - ETA: 5s - loss: 1.000 - ETA: 4s - loss: 1.000 - ETA: 3s - loss: 1.000 - ETA: 3s - loss: 1.000 - ETA: 2s - loss: 1.000 - ETA: 2s - loss: 1.000 - ETA: 1s - loss: 1.000 - ETA: 1s - loss: 1.000 - ETA: 0s - loss: 1.000 - 11s 657ms/step - loss: 1.0000\n",
      "Epoch 30/100\n",
      "11/16 [===================>..........] - ETA: 3s - loss: 1.000 - ETA: 4s - loss: 1.000 - ETA: 5s - loss: 1.000 - ETA: 5s - loss: 1.000 - ETA: 4s - loss: 1.000 - ETA: 4s - loss: 1.000 - ETA: 4s - loss: 1.000 - ETA: 3s - loss: 1.000 - ETA: 3s - loss: 1.000 - ETA: 3s - loss: 1.000 - ETA: 2s - loss: 1.0001"
     ]
    },
    {
     "name": "stderr",
     "output_type": "stream",
     "text": [
      "C:\\Users\\Thiago\\Anaconda3\\lib\\site-packages\\keras\\callbacks.py:122: UserWarning: Method on_batch_end() is slow compared to the batch update (0.248682). Check your callbacks.\n",
      "  % delta_t_median)\n"
     ]
    },
    {
     "name": "stdout",
     "output_type": "stream",
     "text": [
      "12/16 [=====================>........] - ETA: 2s - loss: 1.0001"
     ]
    },
    {
     "name": "stderr",
     "output_type": "stream",
     "text": [
      "C:\\Users\\Thiago\\Anaconda3\\lib\\site-packages\\keras\\callbacks.py:122: UserWarning: Method on_batch_end() is slow compared to the batch update (0.268194). Check your callbacks.\n",
      "  % delta_t_median)\n"
     ]
    },
    {
     "name": "stdout",
     "output_type": "stream",
     "text": [
      "15/16 [===========================>..] - ETA: 1s - loss: 1.000 - ETA: 1s - loss: 1.000 - ETA: 0s - loss: 1.0001"
     ]
    },
    {
     "name": "stderr",
     "output_type": "stream",
     "text": [
      "C:\\Users\\Thiago\\Anaconda3\\lib\\site-packages\\keras\\callbacks.py:122: UserWarning: Method on_batch_end() is slow compared to the batch update (0.261687). Check your callbacks.\n",
      "  % delta_t_median)\n"
     ]
    },
    {
     "name": "stdout",
     "output_type": "stream",
     "text": [
      "16/16 [==============================] - 9s 573ms/step - loss: 1.0001\n",
      "Epoch 31/100\n",
      "16/16 [==============================] - ETA: 17s - loss: 0.99 - ETA: 20s - loss: 0.99 - ETA: 19s - loss: 0.99 - ETA: 16s - loss: 0.99 - ETA: 14s - loss: 0.99 - ETA: 12s - loss: 0.99 - ETA: 10s - loss: 1.00 - ETA: 8s - loss: 1.0000 - ETA: 7s - loss: 1.000 - ETA: 6s - loss: 1.000 - ETA: 4s - loss: 1.000 - ETA: 3s - loss: 1.000 - ETA: 2s - loss: 1.000 - ETA: 1s - loss: 1.000 - ETA: 0s - loss: 1.000 - 15s 938ms/step - loss: 1.0000\n",
      "Epoch 32/100\n",
      "16/16 [==============================] - ETA: 24s - loss: 0.99 - ETA: 22s - loss: 0.99 - ETA: 21s - loss: 0.99 - ETA: 20s - loss: 0.99 - ETA: 18s - loss: 0.99 - ETA: 15s - loss: 0.99 - ETA: 14s - loss: 0.99 - ETA: 12s - loss: 0.99 - ETA: 10s - loss: 1.00 - ETA: 8s - loss: 0.9999 - ETA: 7s - loss: 0.999 - ETA: 5s - loss: 0.999 - ETA: 3s - loss: 0.999 - ETA: 2s - loss: 1.000 - ETA: 1s - loss: 1.000 - 19s 1s/step - loss: 0.9999\n",
      "Epoch 33/100\n",
      "16/16 [==============================] - ETA: 15s - loss: 1.00 - ETA: 20s - loss: 1.00 - ETA: 18s - loss: 0.99 - ETA: 15s - loss: 0.99 - ETA: 13s - loss: 0.99 - ETA: 11s - loss: 0.99 - ETA: 9s - loss: 0.9999 - ETA: 7s - loss: 1.000 - ETA: 6s - loss: 1.000 - ETA: 5s - loss: 1.000 - ETA: 4s - loss: 1.000 - ETA: 3s - loss: 1.000 - ETA: 2s - loss: 1.000 - ETA: 1s - loss: 1.000 - ETA: 0s - loss: 1.000 - 12s 759ms/step - loss: 1.0002\n",
      "Epoch 34/100\n",
      "16/16 [==============================] - ETA: 4s - loss: 0.999 - ETA: 5s - loss: 1.000 - ETA: 6s - loss: 1.000 - ETA: 6s - loss: 1.000 - ETA: 6s - loss: 1.000 - ETA: 5s - loss: 1.000 - ETA: 4s - loss: 1.000 - ETA: 4s - loss: 1.000 - ETA: 3s - loss: 1.000 - ETA: 3s - loss: 1.000 - ETA: 2s - loss: 1.000 - ETA: 2s - loss: 1.000 - ETA: 2s - loss: 1.000 - ETA: 1s - loss: 1.000 - ETA: 0s - loss: 1.000 - 13s 782ms/step - loss: 1.0002\n",
      "Epoch 35/100\n",
      "16/16 [==============================] - ETA: 7s - loss: 0.999 - ETA: 7s - loss: 0.999 - ETA: 7s - loss: 0.999 - ETA: 6s - loss: 1.000 - ETA: 5s - loss: 1.000 - ETA: 6s - loss: 1.000 - ETA: 7s - loss: 1.000 - ETA: 7s - loss: 1.000 - ETA: 6s - loss: 1.000 - ETA: 5s - loss: 1.000 - ETA: 4s - loss: 1.000 - ETA: 3s - loss: 1.000 - ETA: 2s - loss: 1.000 - ETA: 1s - loss: 1.000 - ETA: 0s - loss: 1.000 - 14s 872ms/step - loss: 1.0001\n",
      "Epoch 36/100\n",
      " 8/16 [==============>...............] - ETA: 8s - loss: 1.000 - ETA: 7s - loss: 1.000 - ETA: 7s - loss: 0.999 - ETA: 6s - loss: 1.000 - ETA: 6s - loss: 1.000 - ETA: 5s - loss: 1.000 - ETA: 5s - loss: 1.000 - ETA: 4s - loss: 1.0000"
     ]
    },
    {
     "name": "stderr",
     "output_type": "stream",
     "text": [
      "C:\\Users\\Thiago\\Anaconda3\\lib\\site-packages\\keras\\callbacks.py:122: UserWarning: Method on_batch_end() is slow compared to the batch update (0.240672). Check your callbacks.\n",
      "  % delta_t_median)\n"
     ]
    },
    {
     "name": "stdout",
     "output_type": "stream",
     "text": [
      "16/16 [==============================] - ETA: 3s - loss: 1.000 - ETA: 3s - loss: 1.000 - ETA: 2s - loss: 1.000 - ETA: 2s - loss: 1.000 - ETA: 1s - loss: 1.000 - ETA: 1s - loss: 1.000 - ETA: 0s - loss: 1.000 - 13s 790ms/step - loss: 1.0000\n",
      "Epoch 37/100\n",
      "16/16 [==============================] - ETA: 11s - loss: 1.00 - ETA: 10s - loss: 1.00 - ETA: 9s - loss: 1.0001 - ETA: 8s - loss: 1.000 - ETA: 7s - loss: 1.000 - ETA: 6s - loss: 1.000 - ETA: 6s - loss: 1.000 - ETA: 7s - loss: 1.000 - ETA: 6s - loss: 1.000 - ETA: 6s - loss: 1.000 - ETA: 5s - loss: 1.000 - ETA: 3s - loss: 1.000 - ETA: 2s - loss: 1.000 - ETA: 1s - loss: 1.000 - ETA: 0s - loss: 1.000 - 14s 896ms/step - loss: 1.0000\n",
      "Epoch 38/100\n",
      "16/16 [==============================] - ETA: 4s - loss: 0.999 - ETA: 6s - loss: 0.999 - ETA: 6s - loss: 0.999 - ETA: 6s - loss: 0.999 - ETA: 5s - loss: 0.999 - ETA: 6s - loss: 0.999 - ETA: 6s - loss: 0.999 - ETA: 6s - loss: 1.000 - ETA: 5s - loss: 1.000 - ETA: 4s - loss: 1.000 - ETA: 3s - loss: 1.000 - ETA: 3s - loss: 1.000 - ETA: 2s - loss: 1.000 - ETA: 1s - loss: 1.000 - ETA: 0s - loss: 1.000 - 11s 717ms/step - loss: 1.0000\n",
      "Epoch 39/100\n",
      "16/16 [==============================] - ETA: 3s - loss: 1.000 - ETA: 4s - loss: 1.000 - ETA: 5s - loss: 1.000 - ETA: 4s - loss: 0.999 - ETA: 4s - loss: 1.000 - ETA: 4s - loss: 1.000 - ETA: 4s - loss: 0.999 - ETA: 3s - loss: 0.999 - ETA: 3s - loss: 1.000 - ETA: 3s - loss: 1.000 - ETA: 3s - loss: 1.000 - ETA: 2s - loss: 1.000 - ETA: 2s - loss: 1.000 - ETA: 1s - loss: 1.000 - ETA: 0s - loss: 1.000 - 12s 741ms/step - loss: 1.0000\n",
      "Epoch 40/100\n",
      "16/16 [==============================] - ETA: 3s - loss: 1.000 - ETA: 4s - loss: 1.000 - ETA: 5s - loss: 1.000 - ETA: 5s - loss: 1.000 - ETA: 5s - loss: 1.000 - ETA: 4s - loss: 1.000 - ETA: 4s - loss: 1.000 - ETA: 3s - loss: 1.000 - ETA: 3s - loss: 1.000 - ETA: 2s - loss: 1.000 - ETA: 2s - loss: 1.000 - ETA: 1s - loss: 1.000 - ETA: 1s - loss: 1.000 - ETA: 0s - loss: 1.000 - ETA: 0s - loss: 1.000 - 8s 486ms/step - loss: 1.0000\n",
      "Epoch 41/100\n",
      "16/16 [==============================] - ETA: 14s - loss: 1.00 - ETA: 18s - loss: 0.99 - ETA: 18s - loss: 0.99 - ETA: 16s - loss: 0.99 - ETA: 13s - loss: 1.00 - ETA: 11s - loss: 0.99 - ETA: 10s - loss: 0.99 - ETA: 9s - loss: 0.9998 - ETA: 8s - loss: 0.999 - ETA: 7s - loss: 0.999 - ETA: 6s - loss: 0.999 - ETA: 5s - loss: 0.999 - ETA: 3s - loss: 1.000 - ETA: 2s - loss: 1.000 - ETA: 1s - loss: 1.000 - 20s 1s/step - loss: 1.0001\n",
      "Epoch 42/100\n",
      "16/16 [==============================] - ETA: 16s - loss: 0.99 - ETA: 18s - loss: 0.99 - ETA: 17s - loss: 0.99 - ETA: 15s - loss: 0.99 - ETA: 13s - loss: 0.99 - ETA: 11s - loss: 0.99 - ETA: 10s - loss: 0.99 - ETA: 8s - loss: 0.9998 - ETA: 6s - loss: 0.999 - ETA: 6s - loss: 0.999 - ETA: 5s - loss: 0.999 - ETA: 4s - loss: 0.999 - ETA: 3s - loss: 0.999 - ETA: 2s - loss: 0.999 - ETA: 1s - loss: 0.999 - 19s 1s/step - loss: 1.0000\n",
      "Epoch 43/100\n",
      "16/16 [==============================] - ETA: 19s - loss: 1.00 - ETA: 19s - loss: 1.00 - ETA: 18s - loss: 0.99 - ETA: 15s - loss: 1.00 - ETA: 13s - loss: 1.00 - ETA: 11s - loss: 1.00 - ETA: 9s - loss: 1.0000 - ETA: 8s - loss: 1.000 - ETA: 8s - loss: 1.000 - ETA: 7s - loss: 1.000 - ETA: 5s - loss: 1.000 - ETA: 4s - loss: 1.000 - ETA: 3s - loss: 1.000 - ETA: 2s - loss: 1.000 - ETA: 1s - loss: 1.000 - 17s 1s/step - loss: 1.0000\n",
      "Epoch 44/100\n",
      "16/16 [==============================] - ETA: 4s - loss: 1.000 - ETA: 4s - loss: 1.000 - ETA: 5s - loss: 1.000 - ETA: 5s - loss: 1.000 - ETA: 5s - loss: 1.000 - ETA: 4s - loss: 1.000 - ETA: 4s - loss: 1.000 - ETA: 4s - loss: 1.000 - ETA: 3s - loss: 1.000 - ETA: 3s - loss: 1.000 - ETA: 2s - loss: 1.000 - ETA: 1s - loss: 1.000 - ETA: 1s - loss: 1.000 - ETA: 0s - loss: 1.000 - ETA: 0s - loss: 1.000 - 8s 498ms/step - loss: 1.0000\n",
      "Epoch 45/100\n",
      " 6/16 [==========>...................] - ETA: 3s - loss: 1.000 - ETA: 5s - loss: 1.000 - ETA: 5s - loss: 1.000 - ETA: 5s - loss: 1.000 - ETA: 5s - loss: 1.000 - ETA: 4s - loss: 1.0000"
     ]
    },
    {
     "name": "stderr",
     "output_type": "stream",
     "text": [
      "C:\\Users\\Thiago\\Anaconda3\\lib\\site-packages\\keras\\callbacks.py:122: UserWarning: Method on_batch_end() is slow compared to the batch update (0.249678). Check your callbacks.\n",
      "  % delta_t_median)\n"
     ]
    },
    {
     "name": "stdout",
     "output_type": "stream",
     "text": [
      " 7/16 [============>.................] - ETA: 4s - loss: 1.0001"
     ]
    },
    {
     "name": "stderr",
     "output_type": "stream",
     "text": [
      "C:\\Users\\Thiago\\Anaconda3\\lib\\site-packages\\keras\\callbacks.py:122: UserWarning: Method on_batch_end() is slow compared to the batch update (0.259184). Check your callbacks.\n",
      "  % delta_t_median)\n"
     ]
    },
    {
     "name": "stdout",
     "output_type": "stream",
     "text": [
      " 8/16 [==============>...............] - ETA: 4s - loss: 1.0001"
     ]
    },
    {
     "name": "stderr",
     "output_type": "stream",
     "text": [
      "C:\\Users\\Thiago\\Anaconda3\\lib\\site-packages\\keras\\callbacks.py:122: UserWarning: Method on_batch_end() is slow compared to the batch update (0.260188). Check your callbacks.\n",
      "  % delta_t_median)\n"
     ]
    },
    {
     "name": "stdout",
     "output_type": "stream",
     "text": [
      "12/16 [=====================>........] - ETA: 3s - loss: 1.000 - ETA: 3s - loss: 1.000 - ETA: 2s - loss: 1.000 - ETA: 2s - loss: 1.0000"
     ]
    },
    {
     "name": "stderr",
     "output_type": "stream",
     "text": [
      "C:\\Users\\Thiago\\Anaconda3\\lib\\site-packages\\keras\\callbacks.py:122: UserWarning: Method on_batch_end() is slow compared to the batch update (0.262190). Check your callbacks.\n",
      "  % delta_t_median)\n"
     ]
    },
    {
     "name": "stdout",
     "output_type": "stream",
     "text": [
      "15/16 [===========================>..] - ETA: 1s - loss: 1.000 - ETA: 1s - loss: 1.000 - ETA: 0s - loss: 1.0000"
     ]
    },
    {
     "name": "stderr",
     "output_type": "stream",
     "text": [
      "C:\\Users\\Thiago\\Anaconda3\\lib\\site-packages\\keras\\callbacks.py:122: UserWarning: Method on_batch_end() is slow compared to the batch update (0.265191). Check your callbacks.\n",
      "  % delta_t_median)\n",
      "C:\\Users\\Thiago\\Anaconda3\\lib\\site-packages\\keras\\callbacks.py:122: UserWarning: Method on_batch_end() is slow compared to the batch update (0.260689). Check your callbacks.\n",
      "  % delta_t_median)\n"
     ]
    },
    {
     "name": "stdout",
     "output_type": "stream",
     "text": [
      "16/16 [==============================] - 9s 544ms/step - loss: 1.0000\n",
      "Epoch 46/100\n",
      "16/16 [==============================] - ETA: 4s - loss: 0.999 - ETA: 4s - loss: 1.000 - ETA: 8s - loss: 1.000 - ETA: 11s - loss: 1.00 - ETA: 11s - loss: 1.00 - ETA: 11s - loss: 1.00 - ETA: 10s - loss: 1.00 - ETA: 9s - loss: 1.0000 - ETA: 8s - loss: 1.000 - ETA: 6s - loss: 1.000 - ETA: 5s - loss: 1.000 - ETA: 4s - loss: 1.000 - ETA: 3s - loss: 1.000 - ETA: 1s - loss: 1.000 - ETA: 0s - loss: 1.000 - 15s 937ms/step - loss: 1.0000\n",
      "Epoch 47/100\n",
      "16/16 [==============================] - ETA: 6s - loss: 1.000 - ETA: 8s - loss: 1.000 - ETA: 7s - loss: 1.000 - ETA: 7s - loss: 1.000 - ETA: 6s - loss: 1.000 - ETA: 6s - loss: 1.000 - ETA: 7s - loss: 1.000 - ETA: 7s - loss: 1.000 - ETA: 6s - loss: 1.000 - ETA: 6s - loss: 1.000 - ETA: 5s - loss: 1.000 - ETA: 4s - loss: 1.000 - ETA: 3s - loss: 1.000 - ETA: 2s - loss: 1.000 - ETA: 1s - loss: 1.000 - 18s 1s/step - loss: 1.0001\n",
      "Epoch 48/100\n",
      "16/16 [==============================] - ETA: 5s - loss: 0.999 - ETA: 11s - loss: 1.00 - ETA: 14s - loss: 1.00 - ETA: 15s - loss: 1.00 - ETA: 13s - loss: 1.00 - ETA: 11s - loss: 1.00 - ETA: 10s - loss: 0.99 - ETA: 9s - loss: 1.0000 - ETA: 8s - loss: 1.000 - ETA: 7s - loss: 1.000 - ETA: 6s - loss: 1.000 - ETA: 5s - loss: 0.999 - ETA: 3s - loss: 1.000 - ETA: 2s - loss: 1.000 - ETA: 1s - loss: 1.000 - 20s 1s/step - loss: 1.0000\n",
      "Epoch 49/100\n",
      " 6/16 [==========>...................] - ETA: 6s - loss: 1.000 - ETA: 7s - loss: 1.000 - ETA: 7s - loss: 1.000 - ETA: 6s - loss: 1.000 - ETA: 6s - loss: 1.000 - ETA: 5s - loss: 1.0001"
     ]
    },
    {
     "name": "stderr",
     "output_type": "stream",
     "text": [
      "C:\\Users\\Thiago\\Anaconda3\\lib\\site-packages\\keras\\callbacks.py:122: UserWarning: Method on_batch_end() is slow compared to the batch update (0.247667). Check your callbacks.\n",
      "  % delta_t_median)\n"
     ]
    },
    {
     "name": "stdout",
     "output_type": "stream",
     "text": [
      "16/16 [==============================] - ETA: 4s - loss: 1.000 - ETA: 4s - loss: 1.000 - ETA: 3s - loss: 1.000 - ETA: 3s - loss: 1.000 - ETA: 2s - loss: 1.000 - ETA: 2s - loss: 1.000 - ETA: 1s - loss: 1.000 - ETA: 1s - loss: 1.000 - ETA: 0s - loss: 1.000 - 11s 716ms/step - loss: 1.0001\n",
      "Epoch 50/100\n",
      "16/16 [==============================] - ETA: 9s - loss: 0.999 - ETA: 11s - loss: 0.99 - ETA: 10s - loss: 1.00 - ETA: 9s - loss: 0.9999 - ETA: 8s - loss: 0.999 - ETA: 7s - loss: 0.999 - ETA: 6s - loss: 0.999 - ETA: 5s - loss: 0.999 - ETA: 4s - loss: 0.999 - ETA: 3s - loss: 0.999 - ETA: 3s - loss: 0.999 - ETA: 2s - loss: 0.999 - ETA: 2s - loss: 1.000 - ETA: 1s - loss: 1.000 - ETA: 0s - loss: 1.000 - 13s 792ms/step - loss: 1.0000\n",
      "Epoch 51/100\n",
      "16/16 [==============================] - ETA: 17s - loss: 0.99 - ETA: 21s - loss: 1.00 - ETA: 21s - loss: 1.00 - ETA: 18s - loss: 0.99 - ETA: 14s - loss: 0.99 - ETA: 12s - loss: 0.99 - ETA: 10s - loss: 0.99 - ETA: 9s - loss: 1.0000 - ETA: 7s - loss: 1.000 - ETA: 6s - loss: 1.000 - ETA: 5s - loss: 1.000 - ETA: 4s - loss: 1.000 - ETA: 3s - loss: 1.000 - ETA: 2s - loss: 1.000 - ETA: 1s - loss: 1.000 - 18s 1s/step - loss: 1.0000\n",
      "Epoch 52/100\n",
      "16/16 [==============================] - ETA: 6s - loss: 1.000 - ETA: 10s - loss: 1.00 - ETA: 11s - loss: 1.00 - ETA: 10s - loss: 1.00 - ETA: 9s - loss: 0.9999 - ETA: 8s - loss: 0.999 - ETA: 7s - loss: 0.999 - ETA: 5s - loss: 0.999 - ETA: 5s - loss: 1.000 - ETA: 4s - loss: 1.000 - ETA: 4s - loss: 1.000 - ETA: 3s - loss: 1.000 - ETA: 2s - loss: 1.000 - ETA: 1s - loss: 1.000 - ETA: 0s - loss: 1.000 - 14s 856ms/step - loss: 1.0000\n",
      "Epoch 53/100\n",
      "16/16 [==============================] - ETA: 18s - loss: 0.99 - ETA: 20s - loss: 0.99 - ETA: 20s - loss: 0.99 - ETA: 18s - loss: 0.99 - ETA: 17s - loss: 0.99 - ETA: 16s - loss: 0.99 - ETA: 14s - loss: 1.00 - ETA: 13s - loss: 1.00 - ETA: 11s - loss: 1.00 - ETA: 9s - loss: 1.0000 - ETA: 7s - loss: 1.000 - ETA: 6s - loss: 1.000 - ETA: 4s - loss: 1.000 - ETA: 3s - loss: 1.000 - ETA: 1s - loss: 1.000 - 24s 2s/step - loss: 1.0000\n",
      "Epoch 54/100\n",
      "16/16 [==============================] - ETA: 6s - loss: 1.000 - ETA: 11s - loss: 0.99 - ETA: 14s - loss: 1.00 - ETA: 15s - loss: 1.00 - ETA: 14s - loss: 1.00 - ETA: 13s - loss: 1.00 - ETA: 12s - loss: 1.00 - ETA: 11s - loss: 1.00 - ETA: 9s - loss: 1.0000 - ETA: 7s - loss: 1.000 - ETA: 6s - loss: 1.000 - ETA: 5s - loss: 1.000 - ETA: 3s - loss: 1.000 - ETA: 2s - loss: 1.000 - ETA: 1s - loss: 1.000 - 18s 1s/step - loss: 1.0000\n",
      "Epoch 55/100\n",
      "16/16 [==============================] - ETA: 11s - loss: 1.00 - ETA: 10s - loss: 1.00 - ETA: 10s - loss: 1.00 - ETA: 10s - loss: 1.00 - ETA: 10s - loss: 1.00 - ETA: 9s - loss: 1.0001 - ETA: 9s - loss: 1.000 - ETA: 8s - loss: 1.000 - ETA: 8s - loss: 1.000 - ETA: 7s - loss: 1.000 - ETA: 5s - loss: 1.000 - ETA: 4s - loss: 1.000 - ETA: 3s - loss: 1.000 - ETA: 2s - loss: 1.000 - ETA: 1s - loss: 1.000 - 19s 1s/step - loss: 1.0001\n",
      "Epoch 56/100\n",
      " 5/16 [========>.....................] - ETA: 6s - loss: 0.999 - ETA: 7s - loss: 1.000 - ETA: 7s - loss: 0.999 - ETA: 6s - loss: 0.999 - ETA: 6s - loss: 0.9999"
     ]
    },
    {
     "name": "stderr",
     "output_type": "stream",
     "text": [
      "C:\\Users\\Thiago\\Anaconda3\\lib\\site-packages\\keras\\callbacks.py:122: UserWarning: Method on_batch_end() is slow compared to the batch update (0.268191). Check your callbacks.\n",
      "  % delta_t_median)\n"
     ]
    },
    {
     "name": "stdout",
     "output_type": "stream",
     "text": [
      "16/16 [==============================] - ETA: 5s - loss: 0.999 - ETA: 4s - loss: 0.999 - ETA: 4s - loss: 0.999 - ETA: 3s - loss: 0.999 - ETA: 3s - loss: 0.999 - ETA: 2s - loss: 0.999 - ETA: 2s - loss: 1.000 - ETA: 1s - loss: 1.000 - ETA: 1s - loss: 1.000 - ETA: 0s - loss: 1.000 - 13s 792ms/step - loss: 1.0001\n",
      "Epoch 57/100\n",
      "16/16 [==============================] - ETA: 9s - loss: 0.999 - ETA: 10s - loss: 0.99 - ETA: 9s - loss: 0.9997 - ETA: 8s - loss: 0.999 - ETA: 7s - loss: 0.999 - ETA: 6s - loss: 0.999 - ETA: 5s - loss: 0.999 - ETA: 4s - loss: 0.999 - ETA: 4s - loss: 0.999 - ETA: 3s - loss: 0.999 - ETA: 2s - loss: 0.999 - ETA: 2s - loss: 0.999 - ETA: 1s - loss: 0.999 - ETA: 1s - loss: 0.999 - ETA: 0s - loss: 0.999 - 9s 547ms/step - loss: 0.9999\n",
      "Epoch 58/100\n",
      "16/16 [==============================] - ETA: 4s - loss: 1.000 - ETA: 5s - loss: 1.000 - ETA: 5s - loss: 1.000 - ETA: 5s - loss: 1.000 - ETA: 4s - loss: 0.999 - ETA: 4s - loss: 1.000 - ETA: 4s - loss: 1.000 - ETA: 4s - loss: 1.000 - ETA: 4s - loss: 1.000 - ETA: 4s - loss: 1.000 - ETA: 3s - loss: 1.000 - ETA: 3s - loss: 1.000 - ETA: 2s - loss: 1.000 - ETA: 1s - loss: 1.000 - ETA: 0s - loss: 1.000 - 12s 754ms/step - loss: 1.0000\n",
      "Epoch 59/100\n",
      " 2/16 [==>...........................] - ETA: 4s - loss: 0.999 - ETA: 5s - loss: 0.9999"
     ]
    },
    {
     "name": "stderr",
     "output_type": "stream",
     "text": [
      "C:\\Users\\Thiago\\Anaconda3\\lib\\site-packages\\keras\\callbacks.py:122: UserWarning: Method on_batch_end() is slow compared to the batch update (0.284702). Check your callbacks.\n",
      "  % delta_t_median)\n"
     ]
    },
    {
     "name": "stdout",
     "output_type": "stream",
     "text": [
      "16/16 [==============================] - ETA: 6s - loss: 0.999 - ETA: 5s - loss: 0.999 - ETA: 4s - loss: 1.000 - ETA: 5s - loss: 1.000 - ETA: 5s - loss: 0.999 - ETA: 6s - loss: 0.999 - ETA: 6s - loss: 0.999 - ETA: 5s - loss: 0.999 - ETA: 4s - loss: 0.999 - ETA: 3s - loss: 1.000 - ETA: 2s - loss: 1.000 - ETA: 1s - loss: 1.000 - ETA: 0s - loss: 1.000 - 15s 916ms/step - loss: 1.0000\n",
      "Epoch 60/100\n",
      "16/16 [==============================] - ETA: 4s - loss: 1.000 - ETA: 5s - loss: 1.000 - ETA: 5s - loss: 0.999 - ETA: 5s - loss: 1.000 - ETA: 5s - loss: 1.000 - ETA: 5s - loss: 1.000 - ETA: 6s - loss: 0.999 - ETA: 7s - loss: 0.999 - ETA: 6s - loss: 0.999 - ETA: 6s - loss: 0.999 - ETA: 5s - loss: 0.999 - ETA: 4s - loss: 0.999 - ETA: 2s - loss: 0.999 - ETA: 2s - loss: 0.999 - ETA: 1s - loss: 0.999 - 17s 1s/step - loss: 0.9998\n",
      "Epoch 61/100\n",
      "16/16 [==============================] - ETA: 9s - loss: 1.000 - ETA: 11s - loss: 1.00 - ETA: 9s - loss: 1.0007 - ETA: 9s - loss: 0.999 - ETA: 9s - loss: 1.000 - ETA: 8s - loss: 1.000 - ETA: 7s - loss: 1.000 - ETA: 6s - loss: 1.000 - ETA: 5s - loss: 1.000 - ETA: 5s - loss: 1.000 - ETA: 4s - loss: 0.999 - ETA: 3s - loss: 0.999 - ETA: 3s - loss: 0.999 - ETA: 2s - loss: 1.000 - ETA: 1s - loss: 1.000 - 16s 1s/step - loss: 1.0001\n",
      "Epoch 62/100\n",
      "16/16 [==============================] - ETA: 7s - loss: 0.998 - ETA: 8s - loss: 0.999 - ETA: 7s - loss: 0.999 - ETA: 7s - loss: 0.999 - ETA: 6s - loss: 0.999 - ETA: 7s - loss: 0.999 - ETA: 8s - loss: 0.999 - ETA: 7s - loss: 0.999 - ETA: 7s - loss: 0.999 - ETA: 6s - loss: 0.999 - ETA: 4s - loss: 1.000 - ETA: 3s - loss: 1.000 - ETA: 2s - loss: 1.000 - ETA: 1s - loss: 1.000 - ETA: 0s - loss: 1.000 - 14s 884ms/step - loss: 1.0004\n",
      "Epoch 63/100\n",
      "16/16 [==============================] - ETA: 3s - loss: 0.999 - ETA: 5s - loss: 0.999 - ETA: 5s - loss: 0.999 - ETA: 4s - loss: 0.999 - ETA: 4s - loss: 0.999 - ETA: 4s - loss: 1.000 - ETA: 4s - loss: 1.000 - ETA: 3s - loss: 0.999 - ETA: 3s - loss: 0.999 - ETA: 4s - loss: 1.000 - ETA: 3s - loss: 1.000 - ETA: 3s - loss: 1.000 - ETA: 2s - loss: 1.000 - ETA: 1s - loss: 1.000 - ETA: 0s - loss: 1.000 - 16s 993ms/step - loss: 0.9999\n",
      "Epoch 64/100\n",
      "16/16 [==============================] - ETA: 10s - loss: 1.00 - ETA: 10s - loss: 1.00 - ETA: 9s - loss: 1.0004 - ETA: 8s - loss: 1.000 - ETA: 7s - loss: 1.000 - ETA: 6s - loss: 1.000 - ETA: 5s - loss: 1.000 - ETA: 4s - loss: 1.000 - ETA: 4s - loss: 1.000 - ETA: 3s - loss: 1.000 - ETA: 2s - loss: 1.000 - ETA: 2s - loss: 1.000 - ETA: 1s - loss: 1.000 - ETA: 1s - loss: 1.000 - ETA: 0s - loss: 1.000 - 9s 557ms/step - loss: 1.0001\n",
      "Epoch 65/100\n",
      "16/16 [==============================] - ETA: 5s - loss: 1.000 - ETA: 5s - loss: 1.000 - ETA: 5s - loss: 1.000 - ETA: 5s - loss: 1.000 - ETA: 5s - loss: 1.000 - ETA: 6s - loss: 1.000 - ETA: 6s - loss: 1.000 - ETA: 6s - loss: 1.000 - ETA: 6s - loss: 1.000 - ETA: 5s - loss: 1.000 - ETA: 4s - loss: 1.000 - ETA: 4s - loss: 1.000 - ETA: 2s - loss: 1.000 - ETA: 1s - loss: 1.000 - ETA: 0s - loss: 1.000 - 15s 924ms/step - loss: 1.0001\n",
      "Epoch 66/100\n",
      "14/16 [=========================>....] - ETA: 10s - loss: 1.00 - ETA: 15s - loss: 1.00 - ETA: 16s - loss: 1.00 - ETA: 16s - loss: 1.00 - ETA: 16s - loss: 1.00 - ETA: 14s - loss: 1.00 - ETA: 12s - loss: 1.00 - ETA: 10s - loss: 1.00 - ETA: 8s - loss: 1.0001 - ETA: 7s - loss: 1.000 - ETA: 5s - loss: 1.000 - ETA: 4s - loss: 0.999 - ETA: 3s - loss: 0.999 - ETA: 1s - loss: 0.9999"
     ]
    },
    {
     "name": "stderr",
     "output_type": "stream",
     "text": [
      "C:\\Users\\Thiago\\Anaconda3\\lib\\site-packages\\keras\\callbacks.py:122: UserWarning: Method on_batch_end() is slow compared to the batch update (0.235667). Check your callbacks.\n",
      "  % delta_t_median)\n"
     ]
    },
    {
     "name": "stdout",
     "output_type": "stream",
     "text": [
      "15/16 [===========================>..] - ETA: 0s - loss: 0.9999"
     ]
    },
    {
     "name": "stderr",
     "output_type": "stream",
     "text": [
      "C:\\Users\\Thiago\\Anaconda3\\lib\\site-packages\\keras\\callbacks.py:122: UserWarning: Method on_batch_end() is slow compared to the batch update (0.245174). Check your callbacks.\n",
      "  % delta_t_median)\n"
     ]
    },
    {
     "name": "stdout",
     "output_type": "stream",
     "text": [
      "16/16 [==============================] - 15s 942ms/step - loss: 0.9999\n",
      "Epoch 67/100\n",
      "16/16 [==============================] - ETA: 15s - loss: 1.00 - ETA: 15s - loss: 1.00 - ETA: 15s - loss: 1.00 - ETA: 13s - loss: 1.00 - ETA: 13s - loss: 1.00 - ETA: 12s - loss: 1.00 - ETA: 11s - loss: 1.00 - ETA: 10s - loss: 1.00 - ETA: 9s - loss: 1.0002 - ETA: 7s - loss: 1.000 - ETA: 6s - loss: 1.000 - ETA: 5s - loss: 1.000 - ETA: 3s - loss: 1.000 - ETA: 2s - loss: 1.000 - ETA: 1s - loss: 1.000 - 18s 1s/step - loss: 1.0000\n",
      "Epoch 68/100\n",
      " 9/16 [===============>..............] - ETA: 11s - loss: 1.00 - ETA: 11s - loss: 1.00 - ETA: 10s - loss: 1.00 - ETA: 9s - loss: 1.0000 - ETA: 8s - loss: 1.000 - ETA: 7s - loss: 1.000 - ETA: 6s - loss: 1.000 - ETA: 5s - loss: 0.999 - ETA: 4s - loss: 0.9999"
     ]
    },
    {
     "name": "stderr",
     "output_type": "stream",
     "text": [
      "C:\\Users\\Thiago\\Anaconda3\\lib\\site-packages\\keras\\callbacks.py:122: UserWarning: Method on_batch_end() is slow compared to the batch update (0.232146). Check your callbacks.\n",
      "  % delta_t_median)\n"
     ]
    },
    {
     "name": "stdout",
     "output_type": "stream",
     "text": [
      "15/16 [===========================>..] - ETA: 3s - loss: 0.999 - ETA: 3s - loss: 1.000 - ETA: 2s - loss: 0.999 - ETA: 1s - loss: 0.999 - ETA: 1s - loss: 0.999 - ETA: 0s - loss: 0.9999"
     ]
    },
    {
     "name": "stderr",
     "output_type": "stream",
     "text": [
      "C:\\Users\\Thiago\\Anaconda3\\lib\\site-packages\\keras\\callbacks.py:122: UserWarning: Method on_batch_end() is slow compared to the batch update (0.239670). Check your callbacks.\n",
      "  % delta_t_median)\n"
     ]
    },
    {
     "name": "stdout",
     "output_type": "stream",
     "text": [
      "16/16 [==============================] - 10s 603ms/step - loss: 0.9999\n",
      "Epoch 69/100\n",
      "16/16 [==============================] - ETA: 4s - loss: 0.999 - ETA: 10s - loss: 1.00 - ETA: 12s - loss: 1.00 - ETA: 11s - loss: 0.99 - ETA: 10s - loss: 0.99 - ETA: 9s - loss: 0.9999 - ETA: 7s - loss: 0.999 - ETA: 7s - loss: 1.000 - ETA: 7s - loss: 1.000 - ETA: 6s - loss: 1.000 - ETA: 5s - loss: 1.000 - ETA: 4s - loss: 1.000 - ETA: 3s - loss: 1.000 - ETA: 1s - loss: 1.000 - ETA: 0s - loss: 1.000 - 15s 942ms/step - loss: 1.0000\n",
      "Epoch 70/100\n",
      "16/16 [==============================] - ETA: 9s - loss: 1.000 - ETA: 14s - loss: 1.00 - ETA: 16s - loss: 1.00 - ETA: 15s - loss: 1.00 - ETA: 14s - loss: 1.00 - ETA: 12s - loss: 1.00 - ETA: 10s - loss: 1.00 - ETA: 8s - loss: 1.0000 - ETA: 7s - loss: 1.000 - ETA: 6s - loss: 1.000 - ETA: 5s - loss: 1.000 - ETA: 4s - loss: 1.000 - ETA: 3s - loss: 1.000 - ETA: 1s - loss: 1.000 - ETA: 0s - loss: 1.000 - 15s 931ms/step - loss: 1.0000\n",
      "Epoch 71/100\n",
      "13/16 [=======================>......] - ETA: 15s - loss: 1.00 - ETA: 17s - loss: 1.00 - ETA: 14s - loss: 1.00 - ETA: 14s - loss: 1.00 - ETA: 14s - loss: 1.00 - ETA: 13s - loss: 1.00 - ETA: 11s - loss: 1.00 - ETA: 9s - loss: 1.0001 - ETA: 8s - loss: 1.000 - ETA: 6s - loss: 1.000 - ETA: 5s - loss: 1.000 - ETA: 4s - loss: 1.000 - ETA: 3s - loss: 1.0001"
     ]
    },
    {
     "name": "stderr",
     "output_type": "stream",
     "text": [
      "C:\\Users\\Thiago\\Anaconda3\\lib\\site-packages\\keras\\callbacks.py:122: UserWarning: Method on_batch_end() is slow compared to the batch update (0.237670). Check your callbacks.\n",
      "  % delta_t_median)\n"
     ]
    },
    {
     "name": "stdout",
     "output_type": "stream",
     "text": [
      "16/16 [==============================] - ETA: 1s - loss: 1.000 - ETA: 0s - loss: 1.000 - 15s 919ms/step - loss: 1.0001\n",
      "Epoch 72/100\n",
      "16/16 [==============================] - ETA: 4s - loss: 1.000 - ETA: 6s - loss: 1.000 - ETA: 7s - loss: 1.000 - ETA: 7s - loss: 1.000 - ETA: 8s - loss: 1.000 - ETA: 8s - loss: 1.000 - ETA: 8s - loss: 1.000 - ETA: 8s - loss: 1.000 - ETA: 7s - loss: 1.000 - ETA: 7s - loss: 1.000 - ETA: 6s - loss: 1.000 - ETA: 4s - loss: 1.000 - ETA: 3s - loss: 1.000 - ETA: 2s - loss: 1.000 - ETA: 1s - loss: 1.000 - 18s 1s/step - loss: 1.0000\n",
      "Epoch 73/100\n",
      " 9/16 [===============>..............] - ETA: 4s - loss: 1.000 - ETA: 5s - loss: 0.999 - ETA: 5s - loss: 0.999 - ETA: 5s - loss: 0.999 - ETA: 5s - loss: 0.999 - ETA: 4s - loss: 0.999 - ETA: 4s - loss: 0.999 - ETA: 3s - loss: 0.999 - ETA: 3s - loss: 1.0000"
     ]
    },
    {
     "name": "stderr",
     "output_type": "stream",
     "text": [
      "C:\\Users\\Thiago\\Anaconda3\\lib\\site-packages\\keras\\callbacks.py:122: UserWarning: Method on_batch_end() is slow compared to the batch update (0.246193). Check your callbacks.\n",
      "  % delta_t_median)\n"
     ]
    },
    {
     "name": "stdout",
     "output_type": "stream",
     "text": [
      "10/16 [=================>............] - ETA: 2s - loss: 1.0000"
     ]
    },
    {
     "name": "stderr",
     "output_type": "stream",
     "text": [
      "C:\\Users\\Thiago\\Anaconda3\\lib\\site-packages\\keras\\callbacks.py:122: UserWarning: Method on_batch_end() is slow compared to the batch update (0.248686). Check your callbacks.\n",
      "  % delta_t_median)\n"
     ]
    },
    {
     "name": "stdout",
     "output_type": "stream",
     "text": [
      "16/16 [==============================] - ETA: 2s - loss: 1.000 - ETA: 1s - loss: 1.000 - ETA: 1s - loss: 1.000 - ETA: 0s - loss: 1.000 - ETA: 0s - loss: 1.000 - 8s 481ms/step - loss: 0.9999\n",
      "Epoch 74/100\n",
      "14/16 [=========================>....] - ETA: 15s - loss: 1.00 - ETA: 15s - loss: 1.00 - ETA: 17s - loss: 1.00 - ETA: 16s - loss: 1.00 - ETA: 15s - loss: 1.00 - ETA: 14s - loss: 1.00 - ETA: 13s - loss: 1.00 - ETA: 11s - loss: 1.00 - ETA: 10s - loss: 1.00 - ETA: 8s - loss: 1.0001 - ETA: 6s - loss: 1.000 - ETA: 5s - loss: 1.000 - ETA: 3s - loss: 1.000 - ETA: 2s - loss: 1.0001"
     ]
    },
    {
     "name": "stderr",
     "output_type": "stream",
     "text": [
      "C:\\Users\\Thiago\\Anaconda3\\lib\\site-packages\\keras\\callbacks.py:122: UserWarning: Method on_batch_end() is slow compared to the batch update (0.250180). Check your callbacks.\n",
      "  % delta_t_median)\n"
     ]
    },
    {
     "name": "stdout",
     "output_type": "stream",
     "text": [
      "16/16 [==============================] - ETA: 1s - loss: 1.000 - 18s 1s/step - loss: 1.0000\n",
      "Epoch 75/100\n",
      "16/16 [==============================] - ETA: 14s - loss: 1.00 - ETA: 17s - loss: 1.00 - ETA: 16s - loss: 1.00 - ETA: 16s - loss: 1.00 - ETA: 15s - loss: 1.00 - ETA: 14s - loss: 1.00 - ETA: 12s - loss: 1.00 - ETA: 11s - loss: 1.00 - ETA: 10s - loss: 1.00 - ETA: 8s - loss: 1.0002 - ETA: 6s - loss: 1.000 - ETA: 5s - loss: 1.000 - ETA: 3s - loss: 1.000 - ETA: 2s - loss: 1.000 - ETA: 1s - loss: 1.000 - 19s 1s/step - loss: 1.0001\n",
      "Epoch 76/100\n",
      "16/16 [==============================] - ETA: 21s - loss: 0.99 - ETA: 18s - loss: 0.99 - ETA: 17s - loss: 0.99 - ETA: 17s - loss: 0.99 - ETA: 16s - loss: 1.00 - ETA: 14s - loss: 1.00 - ETA: 12s - loss: 1.00 - ETA: 10s - loss: 1.00 - ETA: 8s - loss: 1.0000 - ETA: 6s - loss: 1.000 - ETA: 5s - loss: 1.000 - ETA: 4s - loss: 1.000 - ETA: 3s - loss: 1.000 - ETA: 2s - loss: 1.000 - ETA: 1s - loss: 1.000 - 18s 1s/step - loss: 1.0000\n",
      "Epoch 77/100\n",
      "16/16 [==============================] - ETA: 13s - loss: 1.00 - ETA: 13s - loss: 1.00 - ETA: 12s - loss: 1.00 - ETA: 10s - loss: 1.00 - ETA: 9s - loss: 1.0001 - ETA: 8s - loss: 1.000 - ETA: 7s - loss: 1.000 - ETA: 6s - loss: 1.000 - ETA: 5s - loss: 1.000 - ETA: 4s - loss: 1.000 - ETA: 4s - loss: 1.000 - ETA: 3s - loss: 1.000 - ETA: 2s - loss: 1.000 - ETA: 1s - loss: 1.000 - ETA: 0s - loss: 1.000 - 14s 889ms/step - loss: 1.0000\n",
      "Epoch 78/100\n",
      "16/16 [==============================] - ETA: 9s - loss: 1.000 - ETA: 9s - loss: 1.000 - ETA: 8s - loss: 1.000 - ETA: 8s - loss: 1.000 - ETA: 8s - loss: 0.999 - ETA: 9s - loss: 0.999 - ETA: 9s - loss: 0.999 - ETA: 8s - loss: 0.999 - ETA: 8s - loss: 0.999 - ETA: 7s - loss: 0.999 - ETA: 5s - loss: 0.999 - ETA: 4s - loss: 0.999 - ETA: 3s - loss: 0.999 - ETA: 2s - loss: 0.999 - ETA: 1s - loss: 0.999 - 16s 1s/step - loss: 0.9997\n",
      "Epoch 79/100\n",
      "16/16 [==============================] - ETA: 11s - loss: 1.00 - ETA: 10s - loss: 1.00 - ETA: 12s - loss: 1.00 - ETA: 13s - loss: 1.00 - ETA: 12s - loss: 1.00 - ETA: 11s - loss: 1.00 - ETA: 10s - loss: 1.00 - ETA: 10s - loss: 1.00 - ETA: 9s - loss: 1.0001 - ETA: 7s - loss: 1.000 - ETA: 6s - loss: 0.999 - ETA: 4s - loss: 1.000 - ETA: 3s - loss: 1.000 - ETA: 2s - loss: 1.000 - ETA: 1s - loss: 1.000 - 17s 1s/step - loss: 1.0000\n",
      "Epoch 80/100\n",
      "16/16 [==============================] - ETA: 4s - loss: 0.999 - ETA: 6s - loss: 1.000 - ETA: 5s - loss: 1.000 - ETA: 5s - loss: 1.000 - ETA: 5s - loss: 1.001 - ETA: 6s - loss: 1.000 - ETA: 6s - loss: 1.000 - ETA: 6s - loss: 1.000 - ETA: 5s - loss: 1.000 - ETA: 5s - loss: 1.000 - ETA: 4s - loss: 1.000 - ETA: 3s - loss: 1.000 - ETA: 3s - loss: 1.000 - ETA: 2s - loss: 1.000 - ETA: 1s - loss: 1.000 - 18s 1s/step - loss: 1.0004\n",
      "Epoch 81/100\n",
      "16/16 [==============================] - ETA: 11s - loss: 0.99 - ETA: 12s - loss: 0.99 - ETA: 13s - loss: 0.99 - ETA: 14s - loss: 0.99 - ETA: 13s - loss: 0.99 - ETA: 12s - loss: 0.99 - ETA: 10s - loss: 0.99 - ETA: 9s - loss: 0.9995 - ETA: 8s - loss: 0.999 - ETA: 7s - loss: 0.999 - ETA: 6s - loss: 0.999 - ETA: 5s - loss: 0.999 - ETA: 3s - loss: 0.999 - ETA: 2s - loss: 0.999 - ETA: 1s - loss: 0.999 - 18s 1s/step - loss: 0.9993\n",
      "Epoch 82/100\n",
      "16/16 [==============================] - ETA: 14s - loss: 1.00 - ETA: 16s - loss: 1.00 - ETA: 16s - loss: 1.00 - ETA: 14s - loss: 1.00 - ETA: 12s - loss: 1.00 - ETA: 10s - loss: 1.00 - ETA: 9s - loss: 1.0004 - ETA: 7s - loss: 1.000 - ETA: 6s - loss: 1.000 - ETA: 5s - loss: 1.000 - ETA: 4s - loss: 1.000 - ETA: 3s - loss: 1.000 - ETA: 2s - loss: 1.000 - ETA: 1s - loss: 1.000 - ETA: 0s - loss: 1.000 - 12s 726ms/step - loss: 1.0003\n",
      "Epoch 83/100\n",
      " 4/16 [======>.......................] - ETA: 3s - loss: 0.999 - ETA: 4s - loss: 0.999 - ETA: 4s - loss: 0.999 - ETA: 5s - loss: 0.9998"
     ]
    },
    {
     "name": "stderr",
     "output_type": "stream",
     "text": [
      "C:\\Users\\Thiago\\Anaconda3\\lib\\site-packages\\keras\\callbacks.py:122: UserWarning: Method on_batch_end() is slow compared to the batch update (0.264768). Check your callbacks.\n",
      "  % delta_t_median)\n"
     ]
    },
    {
     "name": "stdout",
     "output_type": "stream",
     "text": [
      "16/16 [==============================] - ETA: 7s - loss: 0.999 - ETA: 8s - loss: 0.999 - ETA: 7s - loss: 0.999 - ETA: 6s - loss: 0.999 - ETA: 5s - loss: 0.999 - ETA: 4s - loss: 0.999 - ETA: 4s - loss: 1.000 - ETA: 3s - loss: 1.000 - ETA: 2s - loss: 1.000 - ETA: 1s - loss: 1.000 - ETA: 0s - loss: 1.000 - 15s 919ms/step - loss: 1.0003\n",
      "Epoch 84/100\n",
      " 3/16 [====>.........................] - ETA: 5s - loss: 1.000 - ETA: 6s - loss: 1.000 - ETA: 6s - loss: 0.9999"
     ]
    },
    {
     "name": "stderr",
     "output_type": "stream",
     "text": [
      "C:\\Users\\Thiago\\Anaconda3\\lib\\site-packages\\keras\\callbacks.py:122: UserWarning: Method on_batch_end() is slow compared to the batch update (0.297211). Check your callbacks.\n",
      "  % delta_t_median)\n"
     ]
    },
    {
     "name": "stdout",
     "output_type": "stream",
     "text": [
      " 5/16 [========>.....................] - ETA: 6s - loss: 0.999 - ETA: 5s - loss: 0.9999"
     ]
    },
    {
     "name": "stderr",
     "output_type": "stream",
     "text": [
      "C:\\Users\\Thiago\\Anaconda3\\lib\\site-packages\\keras\\callbacks.py:122: UserWarning: Method on_batch_end() is slow compared to the batch update (0.282198). Check your callbacks.\n",
      "  % delta_t_median)\n"
     ]
    },
    {
     "name": "stdout",
     "output_type": "stream",
     "text": [
      " 6/16 [==========>...................] - ETA: 5s - loss: 0.9999"
     ]
    },
    {
     "name": "stderr",
     "output_type": "stream",
     "text": [
      "C:\\Users\\Thiago\\Anaconda3\\lib\\site-packages\\keras\\callbacks.py:122: UserWarning: Method on_batch_end() is slow compared to the batch update (0.289705). Check your callbacks.\n",
      "  % delta_t_median)\n"
     ]
    },
    {
     "name": "stdout",
     "output_type": "stream",
     "text": [
      " 9/16 [===============>..............] - ETA: 4s - loss: 0.999 - ETA: 4s - loss: 0.999 - ETA: 3s - loss: 0.9996"
     ]
    },
    {
     "name": "stderr",
     "output_type": "stream",
     "text": [
      "C:\\Users\\Thiago\\Anaconda3\\lib\\site-packages\\keras\\callbacks.py:122: UserWarning: Method on_batch_end() is slow compared to the batch update (0.262185). Check your callbacks.\n",
      "  % delta_t_median)\n"
     ]
    },
    {
     "name": "stdout",
     "output_type": "stream",
     "text": [
      "11/16 [===================>..........] - ETA: 3s - loss: 0.999 - ETA: 2s - loss: 0.9997"
     ]
    },
    {
     "name": "stderr",
     "output_type": "stream",
     "text": [
      "C:\\Users\\Thiago\\Anaconda3\\lib\\site-packages\\keras\\callbacks.py:122: UserWarning: Method on_batch_end() is slow compared to the batch update (0.279698). Check your callbacks.\n",
      "  % delta_t_median)\n"
     ]
    },
    {
     "name": "stdout",
     "output_type": "stream",
     "text": [
      "16/16 [==============================] - ETA: 2s - loss: 0.999 - ETA: 1s - loss: 1.000 - ETA: 1s - loss: 1.000 - ETA: 0s - loss: 1.000 - 11s 696ms/step - loss: 1.0000\n",
      "Epoch 85/100\n",
      "10/16 [=================>............] - ETA: 13s - loss: 1.00 - ETA: 16s - loss: 0.99 - ETA: 17s - loss: 1.00 - ETA: 16s - loss: 1.00 - ETA: 14s - loss: 1.00 - ETA: 12s - loss: 1.00 - ETA: 10s - loss: 1.00 - ETA: 8s - loss: 1.0004 - ETA: 7s - loss: 1.000 - ETA: 5s - loss: 1.0003"
     ]
    },
    {
     "name": "stderr",
     "output_type": "stream",
     "text": [
      "C:\\Users\\Thiago\\Anaconda3\\lib\\site-packages\\keras\\callbacks.py:122: UserWarning: Method on_batch_end() is slow compared to the batch update (0.272194). Check your callbacks.\n",
      "  % delta_t_median)\n"
     ]
    },
    {
     "name": "stdout",
     "output_type": "stream",
     "text": [
      "13/16 [=======================>......] - ETA: 4s - loss: 1.000 - ETA: 3s - loss: 1.000 - ETA: 2s - loss: 1.0003"
     ]
    },
    {
     "name": "stderr",
     "output_type": "stream",
     "text": [
      "C:\\Users\\Thiago\\Anaconda3\\lib\\site-packages\\keras\\callbacks.py:122: UserWarning: Method on_batch_end() is slow compared to the batch update (0.256182). Check your callbacks.\n",
      "  % delta_t_median)\n"
     ]
    },
    {
     "name": "stdout",
     "output_type": "stream",
     "text": [
      "16/16 [==============================] - ETA: 1s - loss: 1.000 - ETA: 0s - loss: 1.000 - 13s 799ms/step - loss: 1.0001\n",
      "Epoch 86/100\n",
      "16/16 [==============================] - ETA: 3s - loss: 0.999 - ETA: 4s - loss: 0.999 - ETA: 5s - loss: 1.000 - ETA: 5s - loss: 1.000 - ETA: 6s - loss: 1.000 - ETA: 7s - loss: 1.000 - ETA: 7s - loss: 1.000 - ETA: 6s - loss: 1.000 - ETA: 5s - loss: 1.000 - ETA: 5s - loss: 1.000 - ETA: 4s - loss: 1.000 - ETA: 3s - loss: 1.000 - ETA: 2s - loss: 1.000 - ETA: 1s - loss: 1.000 - ETA: 0s - loss: 1.000 - 13s 838ms/step - loss: 1.0001\n",
      "Epoch 87/100\n",
      " 3/16 [====>.........................] - ETA: 5s - loss: 0.999 - ETA: 6s - loss: 0.999 - ETA: 6s - loss: 0.9996"
     ]
    },
    {
     "name": "stderr",
     "output_type": "stream",
     "text": [
      "C:\\Users\\Thiago\\Anaconda3\\lib\\site-packages\\keras\\callbacks.py:122: UserWarning: Method on_batch_end() is slow compared to the batch update (0.277199). Check your callbacks.\n",
      "  % delta_t_median)\n"
     ]
    },
    {
     "name": "stdout",
     "output_type": "stream",
     "text": [
      " 6/16 [==========>...................] - ETA: 6s - loss: 0.999 - ETA: 5s - loss: 0.999 - ETA: 5s - loss: 0.9998"
     ]
    },
    {
     "name": "stderr",
     "output_type": "stream",
     "text": [
      "C:\\Users\\Thiago\\Anaconda3\\lib\\site-packages\\keras\\callbacks.py:122: UserWarning: Method on_batch_end() is slow compared to the batch update (0.266691). Check your callbacks.\n",
      "  % delta_t_median)\n"
     ]
    },
    {
     "name": "stdout",
     "output_type": "stream",
     "text": [
      "10/16 [=================>............] - ETA: 4s - loss: 0.999 - ETA: 4s - loss: 0.999 - ETA: 3s - loss: 0.999 - ETA: 3s - loss: 1.0001"
     ]
    },
    {
     "name": "stderr",
     "output_type": "stream",
     "text": [
      "C:\\Users\\Thiago\\Anaconda3\\lib\\site-packages\\keras\\callbacks.py:122: UserWarning: Method on_batch_end() is slow compared to the batch update (0.238163). Check your callbacks.\n",
      "  % delta_t_median)\n"
     ]
    },
    {
     "name": "stdout",
     "output_type": "stream",
     "text": [
      "16/16 [==============================] - ETA: 2s - loss: 1.000 - ETA: 2s - loss: 1.000 - ETA: 1s - loss: 1.000 - ETA: 1s - loss: 0.999 - ETA: 0s - loss: 0.999 - 10s 637ms/step - loss: 0.9999\n",
      "Epoch 88/100\n",
      "13/16 [=======================>......] - ETA: 15s - loss: 1.00 - ETA: 15s - loss: 1.00 - ETA: 16s - loss: 1.00 - ETA: 16s - loss: 1.00 - ETA: 15s - loss: 1.00 - ETA: 13s - loss: 1.00 - ETA: 12s - loss: 1.00 - ETA: 10s - loss: 1.00 - ETA: 8s - loss: 1.0001 - ETA: 7s - loss: 1.000 - ETA: 5s - loss: 1.000 - ETA: 4s - loss: 1.000 - ETA: 3s - loss: 1.0001"
     ]
    },
    {
     "name": "stderr",
     "output_type": "stream",
     "text": [
      "C:\\Users\\Thiago\\Anaconda3\\lib\\site-packages\\keras\\callbacks.py:122: UserWarning: Method on_batch_end() is slow compared to the batch update (0.257183). Check your callbacks.\n",
      "  % delta_t_median)\n"
     ]
    },
    {
     "name": "stdout",
     "output_type": "stream",
     "text": [
      "16/16 [==============================] - ETA: 2s - loss: 1.000 - ETA: 0s - loss: 1.000 - 16s 1s/step - loss: 1.0001\n",
      "Epoch 89/100\n",
      "10/16 [=================>............] - ETA: 19s - loss: 1.00 - ETA: 19s - loss: 1.00 - ETA: 16s - loss: 1.00 - ETA: 14s - loss: 1.00 - ETA: 11s - loss: 1.00 - ETA: 10s - loss: 1.00 - ETA: 8s - loss: 1.0000 - ETA: 7s - loss: 1.000 - ETA: 5s - loss: 1.000 - ETA: 4s - loss: 1.0001"
     ]
    },
    {
     "name": "stderr",
     "output_type": "stream",
     "text": [
      "C:\\Users\\Thiago\\Anaconda3\\lib\\site-packages\\keras\\callbacks.py:122: UserWarning: Method on_batch_end() is slow compared to the batch update (0.233666). Check your callbacks.\n",
      "  % delta_t_median)\n"
     ]
    },
    {
     "name": "stdout",
     "output_type": "stream",
     "text": [
      "16/16 [==============================] - ETA: 3s - loss: 1.000 - ETA: 3s - loss: 1.000 - ETA: 2s - loss: 1.000 - ETA: 1s - loss: 1.000 - ETA: 0s - loss: 1.000 - 14s 899ms/step - loss: 1.0001\n",
      "Epoch 90/100\n",
      "16/16 [==============================] - ETA: 17s - loss: 1.00 - ETA: 15s - loss: 1.00 - ETA: 14s - loss: 1.00 - ETA: 12s - loss: 0.99 - ETA: 10s - loss: 0.99 - ETA: 9s - loss: 0.9999 - ETA: 7s - loss: 0.999 - ETA: 6s - loss: 0.999 - ETA: 5s - loss: 0.999 - ETA: 4s - loss: 0.999 - ETA: 3s - loss: 0.999 - ETA: 2s - loss: 0.999 - ETA: 2s - loss: 0.999 - ETA: 1s - loss: 0.999 - ETA: 0s - loss: 1.000 - 12s 768ms/step - loss: 1.0000\n",
      "Epoch 91/100\n",
      " 9/16 [===============>..............] - ETA: 14s - loss: 1.00 - ETA: 13s - loss: 1.00 - ETA: 12s - loss: 1.00 - ETA: 10s - loss: 1.00 - ETA: 9s - loss: 1.0001 - ETA: 8s - loss: 1.000 - ETA: 7s - loss: 1.000 - ETA: 6s - loss: 1.000 - ETA: 5s - loss: 1.0000"
     ]
    },
    {
     "name": "stderr",
     "output_type": "stream",
     "text": [
      "C:\\Users\\Thiago\\Anaconda3\\lib\\site-packages\\keras\\callbacks.py:122: UserWarning: Method on_batch_end() is slow compared to the batch update (0.252180). Check your callbacks.\n",
      "  % delta_t_median)\n"
     ]
    },
    {
     "name": "stdout",
     "output_type": "stream",
     "text": [
      "11/16 [===================>..........] - ETA: 4s - loss: 1.000 - ETA: 3s - loss: 1.0000"
     ]
    },
    {
     "name": "stderr",
     "output_type": "stream",
     "text": [
      "C:\\Users\\Thiago\\Anaconda3\\lib\\site-packages\\keras\\callbacks.py:122: UserWarning: Method on_batch_end() is slow compared to the batch update (0.258685). Check your callbacks.\n",
      "  % delta_t_median)\n"
     ]
    },
    {
     "name": "stdout",
     "output_type": "stream",
     "text": [
      "14/16 [=========================>....] - ETA: 2s - loss: 1.000 - ETA: 1s - loss: 1.000 - ETA: 1s - loss: 1.0000"
     ]
    },
    {
     "name": "stderr",
     "output_type": "stream",
     "text": [
      "C:\\Users\\Thiago\\Anaconda3\\lib\\site-packages\\keras\\callbacks.py:122: UserWarning: Method on_batch_end() is slow compared to the batch update (0.243173). Check your callbacks.\n",
      "  % delta_t_median)\n"
     ]
    },
    {
     "name": "stdout",
     "output_type": "stream",
     "text": [
      "16/16 [==============================] - ETA: 0s - loss: 1.000 - 10s 623ms/step - loss: 1.0000\n",
      "Epoch 92/100\n",
      " 6/16 [==========>...................] - ETA: 7s - loss: 0.999 - ETA: 8s - loss: 1.000 - ETA: 8s - loss: 1.000 - ETA: 7s - loss: 1.000 - ETA: 6s - loss: 1.000 - ETA: 6s - loss: 1.0003"
     ]
    },
    {
     "name": "stderr",
     "output_type": "stream",
     "text": [
      "C:\\Users\\Thiago\\Anaconda3\\lib\\site-packages\\keras\\callbacks.py:122: UserWarning: Method on_batch_end() is slow compared to the batch update (0.252680). Check your callbacks.\n",
      "  % delta_t_median)\n"
     ]
    },
    {
     "name": "stdout",
     "output_type": "stream",
     "text": [
      " 7/16 [============>.................] - ETA: 5s - loss: 1.0002"
     ]
    },
    {
     "name": "stderr",
     "output_type": "stream",
     "text": [
      "C:\\Users\\Thiago\\Anaconda3\\lib\\site-packages\\keras\\callbacks.py:122: UserWarning: Method on_batch_end() is slow compared to the batch update (0.262188). Check your callbacks.\n",
      "  % delta_t_median)\n"
     ]
    },
    {
     "name": "stdout",
     "output_type": "stream",
     "text": [
      "16/16 [==============================] - ETA: 5s - loss: 1.000 - ETA: 4s - loss: 1.000 - ETA: 4s - loss: 1.000 - ETA: 3s - loss: 1.000 - ETA: 2s - loss: 1.000 - ETA: 2s - loss: 1.000 - ETA: 1s - loss: 1.000 - ETA: 0s - loss: 1.000 - 14s 869ms/step - loss: 1.0002\n",
      "Epoch 93/100\n",
      " 6/16 [==========>...................] - ETA: 9s - loss: 1.000 - ETA: 10s - loss: 0.99 - ETA: 9s - loss: 0.9999 - ETA: 8s - loss: 0.999 - ETA: 7s - loss: 0.999 - ETA: 6s - loss: 0.9998"
     ]
    },
    {
     "name": "stderr",
     "output_type": "stream",
     "text": [
      "C:\\Users\\Thiago\\Anaconda3\\lib\\site-packages\\keras\\callbacks.py:122: UserWarning: Method on_batch_end() is slow compared to the batch update (0.250678). Check your callbacks.\n",
      "  % delta_t_median)\n"
     ]
    },
    {
     "name": "stdout",
     "output_type": "stream",
     "text": [
      " 9/16 [===============>..............] - ETA: 5s - loss: 0.999 - ETA: 5s - loss: 0.999 - ETA: 4s - loss: 0.9998"
     ]
    },
    {
     "name": "stderr",
     "output_type": "stream",
     "text": [
      "C:\\Users\\Thiago\\Anaconda3\\lib\\site-packages\\keras\\callbacks.py:122: UserWarning: Method on_batch_end() is slow compared to the batch update (0.246174). Check your callbacks.\n",
      "  % delta_t_median)\n"
     ]
    },
    {
     "name": "stdout",
     "output_type": "stream",
     "text": [
      "10/16 [=================>............] - ETA: 3s - loss: 0.9999"
     ]
    },
    {
     "name": "stderr",
     "output_type": "stream",
     "text": [
      "C:\\Users\\Thiago\\Anaconda3\\lib\\site-packages\\keras\\callbacks.py:122: UserWarning: Method on_batch_end() is slow compared to the batch update (0.248176). Check your callbacks.\n",
      "  % delta_t_median)\n"
     ]
    },
    {
     "name": "stdout",
     "output_type": "stream",
     "text": [
      "11/16 [===================>..........] - ETA: 2s - loss: 0.9999"
     ]
    },
    {
     "name": "stderr",
     "output_type": "stream",
     "text": [
      "C:\\Users\\Thiago\\Anaconda3\\lib\\site-packages\\keras\\callbacks.py:122: UserWarning: Method on_batch_end() is slow compared to the batch update (0.252681). Check your callbacks.\n",
      "  % delta_t_median)\n"
     ]
    },
    {
     "name": "stdout",
     "output_type": "stream",
     "text": [
      "14/16 [=========================>....] - ETA: 2s - loss: 0.999 - ETA: 1s - loss: 0.999 - ETA: 1s - loss: 0.9999"
     ]
    },
    {
     "name": "stderr",
     "output_type": "stream",
     "text": [
      "C:\\Users\\Thiago\\Anaconda3\\lib\\site-packages\\keras\\callbacks.py:122: UserWarning: Method on_batch_end() is slow compared to the batch update (0.247677). Check your callbacks.\n",
      "  % delta_t_median)\n"
     ]
    },
    {
     "name": "stdout",
     "output_type": "stream",
     "text": [
      "16/16 [==============================] - ETA: 0s - loss: 0.999 - 11s 660ms/step - loss: 1.0000\n",
      "Epoch 94/100\n",
      "14/16 [=========================>....] - ETA: 11s - loss: 0.99 - ETA: 12s - loss: 0.99 - ETA: 11s - loss: 0.99 - ETA: 10s - loss: 0.99 - ETA: 9s - loss: 0.9996 - ETA: 8s - loss: 0.999 - ETA: 7s - loss: 0.999 - ETA: 5s - loss: 0.999 - ETA: 5s - loss: 0.999 - ETA: 4s - loss: 0.999 - ETA: 3s - loss: 0.999 - ETA: 2s - loss: 0.999 - ETA: 1s - loss: 0.999 - ETA: 1s - loss: 0.9999"
     ]
    },
    {
     "name": "stderr",
     "output_type": "stream",
     "text": [
      "C:\\Users\\Thiago\\Anaconda3\\lib\\site-packages\\keras\\callbacks.py:122: UserWarning: Method on_batch_end() is slow compared to the batch update (0.241172). Check your callbacks.\n",
      "  % delta_t_median)\n"
     ]
    },
    {
     "name": "stdout",
     "output_type": "stream",
     "text": [
      "16/16 [==============================] - ETA: 0s - loss: 0.999 - 12s 724ms/step - loss: 0.9999\n",
      "Epoch 95/100\n",
      "16/16 [==============================] - ETA: 10s - loss: 1.00 - ETA: 13s - loss: 0.99 - ETA: 12s - loss: 1.00 - ETA: 11s - loss: 1.00 - ETA: 10s - loss: 0.99 - ETA: 9s - loss: 0.9998 - ETA: 7s - loss: 0.999 - ETA: 6s - loss: 0.999 - ETA: 6s - loss: 0.999 - ETA: 5s - loss: 0.999 - ETA: 5s - loss: 0.999 - ETA: 4s - loss: 0.999 - ETA: 3s - loss: 0.999 - ETA: 2s - loss: 0.999 - ETA: 1s - loss: 0.999 - 16s 1s/step - loss: 0.9998\n",
      "Epoch 96/100\n",
      "16/16 [==============================] - ETA: 5s - loss: 1.000 - ETA: 7s - loss: 1.001 - ETA: 6s - loss: 1.000 - ETA: 6s - loss: 1.000 - ETA: 7s - loss: 1.000 - ETA: 8s - loss: 1.000 - ETA: 8s - loss: 1.000 - ETA: 8s - loss: 1.000 - ETA: 7s - loss: 0.999 - ETA: 6s - loss: 1.000 - ETA: 5s - loss: 1.000 - ETA: 4s - loss: 1.000 - ETA: 3s - loss: 1.000 - ETA: 2s - loss: 1.000 - ETA: 1s - loss: 1.000 - 19s 1s/step - loss: 1.0001\n",
      "Epoch 97/100\n",
      "16/16 [==============================] - ETA: 8s - loss: 0.999 - ETA: 9s - loss: 1.000 - ETA: 9s - loss: 1.000 - ETA: 10s - loss: 1.00 - ETA: 11s - loss: 1.00 - ETA: 10s - loss: 1.00 - ETA: 9s - loss: 1.0004 - ETA: 8s - loss: 1.000 - ETA: 6s - loss: 1.000 - ETA: 5s - loss: 1.000 - ETA: 4s - loss: 1.000 - ETA: 3s - loss: 1.000 - ETA: 2s - loss: 1.000 - ETA: 1s - loss: 1.000 - ETA: 0s - loss: 1.000 - 16s 980ms/step - loss: 1.0003\n",
      "Epoch 98/100\n",
      "16/16 [==============================] - ETA: 13s - loss: 1.00 - ETA: 13s - loss: 0.99 - ETA: 14s - loss: 0.99 - ETA: 14s - loss: 0.99 - ETA: 13s - loss: 0.99 - ETA: 12s - loss: 0.99 - ETA: 10s - loss: 0.99 - ETA: 8s - loss: 0.9998 - ETA: 7s - loss: 0.999 - ETA: 6s - loss: 0.999 - ETA: 5s - loss: 0.999 - ETA: 4s - loss: 0.999 - ETA: 3s - loss: 0.999 - ETA: 2s - loss: 0.999 - ETA: 0s - loss: 0.999 - 15s 967ms/step - loss: 1.0000\n",
      "Epoch 99/100\n",
      "12/16 [=====================>........] - ETA: 16s - loss: 1.00 - ETA: 18s - loss: 1.00 - ETA: 19s - loss: 1.00 - ETA: 17s - loss: 1.00 - ETA: 14s - loss: 1.00 - ETA: 12s - loss: 1.00 - ETA: 11s - loss: 1.00 - ETA: 9s - loss: 1.0000 - ETA: 7s - loss: 1.000 - ETA: 6s - loss: 1.000 - ETA: 5s - loss: 1.000 - ETA: 3s - loss: 1.0000"
     ]
    },
    {
     "name": "stderr",
     "output_type": "stream",
     "text": [
      "C:\\Users\\Thiago\\Anaconda3\\lib\\site-packages\\keras\\callbacks.py:122: UserWarning: Method on_batch_end() is slow compared to the batch update (0.237169). Check your callbacks.\n",
      "  % delta_t_median)\n"
     ]
    },
    {
     "name": "stdout",
     "output_type": "stream",
     "text": [
      "16/16 [==============================] - ETA: 2s - loss: 1.000 - ETA: 1s - loss: 1.000 - ETA: 0s - loss: 1.000 - 15s 950ms/step - loss: 1.0000\n",
      "Epoch 100/100\n",
      "16/16 [==============================] - ETA: 7s - loss: 1.000 - ETA: 8s - loss: 1.000 - ETA: 7s - loss: 1.000 - ETA: 7s - loss: 1.000 - ETA: 6s - loss: 1.000 - ETA: 5s - loss: 1.000 - ETA: 4s - loss: 1.000 - ETA: 4s - loss: 1.000 - ETA: 3s - loss: 1.000 - ETA: 3s - loss: 1.000 - ETA: 2s - loss: 1.000 - ETA: 2s - loss: 1.000 - ETA: 2s - loss: 1.000 - ETA: 1s - loss: 1.000 - ETA: 0s - loss: 1.000 - 13s 837ms/step - loss: 1.0001\n",
      "Wall time: 23min 54s\n"
     ]
    }
   ],
   "source": [
    "%%time\n",
    "import keras\n",
    "\n",
    "# Inspired on https://pastebin.com/TaGFdcBA\n",
    "\n",
    "keras.backend.clear_session()\n",
    "\n",
    "cnn_feature_model = cnn_model(embeddings=embedding_matrix, \n",
    "                              num_words=len(word_index) + 1, \n",
    "                              embedding_dim=EMBEDDING_DIM, \n",
    "                              max_sequence_length=MAX_SEQUENCE_LENGTH_D, \n",
    "                              trainable=False)\n",
    "\n",
    "lstm_feature_model = lstm_model(embeddings=embedding_matrix, \n",
    "                              num_words=len(word_index) + 1, \n",
    "                              embedding_dim=EMBEDDING_DIM, \n",
    "                              max_sequence_length=MAX_SEQUENCE_LENGTH_T, \n",
    "                              trainable=False)\n",
    "\n",
    "similarity_model = siamese_model(lstm_feature_model, cnn_feature_model, MAX_SEQUENCE_LENGTH_T, MAX_SEQUENCE_LENGTH_D)\n",
    "\n",
    "# cnn_feature_model.summary()\n",
    "# lstm_feature_model.summary()\n",
    "similarity_model.summary()\n",
    "\n",
    "#tbCallBack = keras.callbacks.TensorBoard(log_dir='logs/training', histogram_freq=0, write_graph=True, write_images=True)\n",
    "\n",
    "h = similarity_model.fit_generator(train_gen, \n",
    "                               steps_per_epoch = 16,\n",
    "                               #validation_data=test_gen, # \n",
    "                                             epochs = 100,\n",
    "                                             verbose = True\n",
    "                                              )  # callbacks=[tbCallBack]"
   ]
  },
  {
   "cell_type": "code",
   "execution_count": 144,
   "metadata": {},
   "outputs": [
    {
     "data": {
      "image/png": "[encoded data removed]",
      "text/plain": [
       "<Figure size 432x288 with 1 Axes>"
      ]
     },
     "metadata": {},
     "output_type": "display_data"
    }
   ],
   "source": [
    "loss=h.history['loss']\n",
    "\n",
    "plt.plot(loss, label='loss')\n",
    "plt.title('model loss')\n",
    "plt.ylabel('loss')\n",
    "plt.xlabel('epoch')\n",
    "plt.legend(['train'], loc='upper left')\n",
    "plt.show()"
   ]
  },
  {
   "cell_type": "code",
   "execution_count": 147,
   "metadata": {},
   "outputs": [
    {
     "name": "stdout",
     "output_type": "stream",
     "text": [
      "title_in\n",
      "desc_in\n",
      "title_pos\n",
      "desc_pos\n",
      "title_neg\n",
      "desc_neg\n",
      "FeatureLstmGenerationModel\n",
      "FeatureCNNGenerationModel\n",
      "merge_features_in\n",
      "merge_features_pos\n",
      "merge_features_neg\n",
      "margin_loss_1\n"
     ]
    }
   ],
   "source": [
    "for layer in similarity_model.layers:\n",
    "    print(layer.name)"
   ]
  },
  {
   "cell_type": "code",
   "execution_count": 148,
   "metadata": {},
   "outputs": [
    {
     "name": "stdout",
     "output_type": "stream",
     "text": [
      "__________________________________________________________________________________________________\n",
      "Layer (type)                    Output Shape         Param #     Connected to                     \n",
      "==================================================================================================\n",
      "title_in (InputLayer)           (None, 100)          0                                            \n",
      "__________________________________________________________________________________________________\n",
      "desc_in (InputLayer)            (None, 100)          0                                            \n",
      "__________________________________________________________________________________________________\n",
      "title_pos (InputLayer)          (None, 100)          0                                            \n",
      "__________________________________________________________________________________________________\n",
      "desc_pos (InputLayer)           (None, 100)          0                                            \n",
      "__________________________________________________________________________________________________\n",
      "FeatureLstmGenerationModel (Mod (None, 100)          41796400    title_in[0][0]                   \n",
      "                                                                 title_pos[0][0]                  \n",
      "__________________________________________________________________________________________________\n",
      "FeatureCNNGenerationModel (Mode (None, 64)           41597104    desc_in[0][0]                    \n",
      "                                                                 desc_pos[0][0]                   \n",
      "__________________________________________________________________________________________________\n",
      "merge_features_in (Concatenate) (None, 164)          0           FeatureLstmGenerationModel[1][0] \n",
      "                                                                 FeatureCNNGenerationModel[1][0]  \n",
      "__________________________________________________________________________________________________\n",
      "merge_features_pos (Concatenate (None, 164)          0           FeatureLstmGenerationModel[2][0] \n",
      "                                                                 FeatureCNNGenerationModel[2][0]  \n",
      "__________________________________________________________________________________________________\n",
      "concatenate_2 (Concatenate)     (None, 328)          0           merge_features_in[0][0]          \n",
      "                                                                 merge_features_pos[0][0]         \n",
      "__________________________________________________________________________________________________\n",
      "dense_1 (Dense)                 (None, 64)           21056       concatenate_2[0][0]              \n",
      "__________________________________________________________________________________________________\n",
      "dense_2 (Dense)                 (None, 32)           2080        dense_1[0][0]                    \n",
      "__________________________________________________________________________________________________\n",
      "output (Dense)                  (None, 2)            66          dense_2[0][0]                    \n",
      "==================================================================================================\n",
      "Total params: 83,416,706\n",
      "Trainable params: 23,202\n",
      "Non-trainable params: 83,393,504\n",
      "__________________________________________________________________________________________________\n"
     ]
    }
   ],
   "source": [
    "## Freeze weights\n",
    "for layer in similarity_model.layers:\n",
    "    layer.trainable = False\n",
    "    \n",
    "model_in = similarity_model.get_layer('merge_features_in')\n",
    "model_pos = similarity_model.get_layer('merge_features_pos')\n",
    "x_in = model_in.output\n",
    "x_pos = model_pos.output\n",
    "x = Concatenate()([x_in, x_pos])\n",
    "x = Dense(64, activation = 'relu')(x)\n",
    "x = Dense(32, activation = 'relu')(x)\n",
    "output = Dense(2, activation = 'softmax', name = 'output')(x)\n",
    "model_clf = Model(inputs=similarity_model.input, outputs=output)\n",
    "model_clf.compile(optimizer='adam', loss='categorical_crossentropy', metrics = ['accuracy'])\n",
    "model_clf.summary()"
   ]
  },
  {
   "cell_type": "code",
   "execution_count": 151,
   "metadata": {},
   "outputs": [
    {
     "name": "stdout",
     "output_type": "stream",
     "text": [
      "Epoch 1/10\n",
      "16/16 [==============================] - ETA: 13:56 - loss: 3.4186 - acc: 0.50 - ETA: 9:48 - loss: 2.0709 - acc: 0.5000 - ETA: 8:57 - loss: 1.9781 - acc: 0.500 - ETA: 7:30 - loss: 1.9055 - acc: 0.500 - ETA: 6:19 - loss: 1.7549 - acc: 0.500 - ETA: 5:20 - loss: 1.5805 - acc: 0.500 - ETA: 4:29 - loss: 1.4795 - acc: 0.500 - ETA: 3:46 - loss: 1.4331 - acc: 0.500 - ETA: 3:07 - loss: 1.3981 - acc: 0.500 - ETA: 2:33 - loss: 1.3567 - acc: 0.500 - ETA: 2:02 - loss: 1.3073 - acc: 0.500 - ETA: 1:34 - loss: 1.2568 - acc: 0.500 - ETA: 1:07 - loss: 1.2157 - acc: 0.500 - ETA: 43s - loss: 1.1868 - acc: 0.500 - ETA: 20s - loss: 1.1669 - acc: 0.50 - 332s 21s/step - loss: 1.1498 - acc: 0.5002 - val_loss: 0.8362 - val_acc: 0.5000\n",
      "Epoch 2/10\n",
      "16/16 [==============================] - ETA: 54s - loss: 0.8343 - acc: 0.50 - ETA: 1:22 - loss: 0.7957 - acc: 0.500 - ETA: 1:27 - loss: 0.7642 - acc: 0.500 - ETA: 1:13 - loss: 0.7485 - acc: 0.499 - ETA: 1:12 - loss: 0.7466 - acc: 0.499 - ETA: 1:01 - loss: 0.7517 - acc: 0.499 - ETA: 57s - loss: 0.7570 - acc: 0.499 - ETA: 49s - loss: 0.7574 - acc: 0.49 - ETA: 44s - loss: 0.7522 - acc: 0.49 - ETA: 39s - loss: 0.7466 - acc: 0.49 - ETA: 31s - loss: 0.7441 - acc: 0.49 - ETA: 24s - loss: 0.7442 - acc: 0.49 - ETA: 18s - loss: 0.7442 - acc: 0.49 - ETA: 11s - loss: 0.7423 - acc: 0.49 - ETA: 6s - loss: 0.7392 - acc: 0.5003 - 103s 6s/step - loss: 0.7368 - acc: 0.5002 - val_loss: 0.7190 - val_acc: 0.5000\n",
      "Epoch 3/10\n",
      "16/16 [==============================] - ETA: 1:51 - loss: 0.7168 - acc: 0.500 - ETA: 1:21 - loss: 0.7203 - acc: 0.500 - ETA: 1:08 - loss: 0.7199 - acc: 0.500 - ETA: 1:09 - loss: 0.7152 - acc: 0.500 - ETA: 1:00 - loss: 0.7104 - acc: 0.508 - ETA: 52s - loss: 0.7091 - acc: 0.507 - ETA: 45s - loss: 0.7095 - acc: 0.50 - ETA: 39s - loss: 0.7097 - acc: 0.50 - ETA: 34s - loss: 0.7090 - acc: 0.50 - ETA: 29s - loss: 0.7075 - acc: 0.50 - ETA: 23s - loss: 0.7065 - acc: 0.50 - ETA: 18s - loss: 0.7059 - acc: 0.50 - ETA: 14s - loss: 0.7055 - acc: 0.50 - ETA: 9s - loss: 0.7050 - acc: 0.5036 - ETA: 4s - loss: 0.7043 - acc: 0.503 - 77s 5s/step - loss: 0.7035 - acc: 0.5042 - val_loss: 0.6956 - val_acc: 0.5000\n",
      "Epoch 4/10\n",
      "16/16 [==============================] - ETA: 59s - loss: 0.6943 - acc: 0.50 - ETA: 55s - loss: 0.6960 - acc: 0.50 - ETA: 51s - loss: 0.6963 - acc: 0.50 - ETA: 47s - loss: 0.6960 - acc: 0.50 - ETA: 43s - loss: 0.6960 - acc: 0.50 - ETA: 39s - loss: 0.6952 - acc: 0.50 - ETA: 35s - loss: 0.6949 - acc: 0.50 - ETA: 31s - loss: 0.6950 - acc: 0.50 - ETA: 27s - loss: 0.6952 - acc: 0.50 - ETA: 23s - loss: 0.6953 - acc: 0.50 - ETA: 19s - loss: 0.6951 - acc: 0.50 - ETA: 15s - loss: 0.6950 - acc: 0.50 - ETA: 11s - loss: 0.6951 - acc: 0.50 - ETA: 7s - loss: 0.6949 - acc: 0.5046 - ETA: 3s - loss: 0.6948 - acc: 0.505 - 67s 4s/step - loss: 0.6947 - acc: 0.5050 - val_loss: 0.6946 - val_acc: 0.5020\n",
      "Epoch 5/10\n",
      "16/16 [==============================] - ETA: 59s - loss: 0.6971 - acc: 0.45 - ETA: 55s - loss: 0.6960 - acc: 0.46 - ETA: 51s - loss: 0.6953 - acc: 0.47 - ETA: 48s - loss: 0.6951 - acc: 0.48 - ETA: 44s - loss: 0.6943 - acc: 0.49 - ETA: 40s - loss: 0.6941 - acc: 0.49 - ETA: 36s - loss: 0.6941 - acc: 0.49 - ETA: 32s - loss: 0.6940 - acc: 0.49 - ETA: 28s - loss: 0.6939 - acc: 0.49 - ETA: 24s - loss: 0.6939 - acc: 0.49 - ETA: 20s - loss: 0.6939 - acc: 0.50 - ETA: 16s - loss: 0.6940 - acc: 0.49 - ETA: 12s - loss: 0.6941 - acc: 0.50 - ETA: 8s - loss: 0.6941 - acc: 0.5000 - ETA: 4s - loss: 0.6941 - acc: 0.500 - 68s 4s/step - loss: 0.6939 - acc: 0.5031 - val_loss: 0.6945 - val_acc: 0.4824\n",
      "Epoch 6/10\n",
      "16/16 [==============================] - ETA: 59s - loss: 0.6943 - acc: 0.48 - ETA: 55s - loss: 0.6938 - acc: 0.50 - ETA: 52s - loss: 0.6930 - acc: 0.50 - ETA: 48s - loss: 0.6934 - acc: 0.50 - ETA: 44s - loss: 0.6936 - acc: 0.50 - ETA: 40s - loss: 0.6933 - acc: 0.50 - ETA: 36s - loss: 0.6931 - acc: 0.51 - ETA: 32s - loss: 0.6932 - acc: 0.51 - ETA: 28s - loss: 0.6933 - acc: 0.51 - ETA: 24s - loss: 0.6932 - acc: 0.51 - ETA: 20s - loss: 0.6934 - acc: 0.50 - ETA: 16s - loss: 0.6934 - acc: 0.50 - ETA: 12s - loss: 0.6935 - acc: 0.50 - ETA: 8s - loss: 0.6935 - acc: 0.5035 - ETA: 4s - loss: 0.6934 - acc: 0.503 - 69s 4s/step - loss: 0.6934 - acc: 0.5034 - val_loss: 0.6943 - val_acc: 0.4941\n",
      "Epoch 7/10\n",
      "16/16 [==============================] - ETA: 59s - loss: 0.6942 - acc: 0.49 - ETA: 56s - loss: 0.6946 - acc: 0.48 - ETA: 52s - loss: 0.6942 - acc: 0.48 - ETA: 48s - loss: 0.6939 - acc: 0.49 - ETA: 44s - loss: 0.6936 - acc: 0.49 - ETA: 40s - loss: 0.6935 - acc: 0.50 - ETA: 36s - loss: 0.6936 - acc: 0.50 - ETA: 32s - loss: 0.6939 - acc: 0.49 - ETA: 28s - loss: 0.6941 - acc: 0.49 - ETA: 24s - loss: 0.6942 - acc: 0.49 - ETA: 20s - loss: 0.6941 - acc: 0.49 - ETA: 16s - loss: 0.6939 - acc: 0.49 - ETA: 12s - loss: 0.6940 - acc: 0.49 - ETA: 8s - loss: 0.6939 - acc: 0.4920 - ETA: 4s - loss: 0.6938 - acc: 0.493 - 69s 4s/step - loss: 0.6937 - acc: 0.4944 - val_loss: 0.6943 - val_acc: 0.4805\n",
      "Epoch 8/10\n",
      "16/16 [==============================] - ETA: 1:05 - loss: 0.6945 - acc: 0.474 - ETA: 1:00 - loss: 0.6942 - acc: 0.485 - ETA: 55s - loss: 0.6938 - acc: 0.487 - ETA: 50s - loss: 0.6936 - acc: 0.48 - ETA: 46s - loss: 0.6941 - acc: 0.48 - ETA: 42s - loss: 0.6936 - acc: 0.48 - ETA: 37s - loss: 0.6938 - acc: 0.48 - ETA: 33s - loss: 0.6939 - acc: 0.48 - ETA: 29s - loss: 0.6939 - acc: 0.48 - ETA: 25s - loss: 0.6938 - acc: 0.49 - ETA: 20s - loss: 0.6940 - acc: 0.48 - ETA: 16s - loss: 0.6940 - acc: 0.48 - ETA: 12s - loss: 0.6941 - acc: 0.49 - ETA: 8s - loss: 0.6941 - acc: 0.4883 - ETA: 4s - loss: 0.6940 - acc: 0.490 - 76s 5s/step - loss: 0.6939 - acc: 0.4900 - val_loss: 0.6942 - val_acc: 0.4805\n",
      "Epoch 9/10\n",
      "16/16 [==============================] - ETA: 1:17 - loss: 0.6940 - acc: 0.515 - ETA: 1:09 - loss: 0.6935 - acc: 0.515 - ETA: 1:04 - loss: 0.6924 - acc: 0.520 - ETA: 58s - loss: 0.6927 - acc: 0.511 - ETA: 52s - loss: 0.6932 - acc: 0.50 - ETA: 47s - loss: 0.6934 - acc: 0.50 - ETA: 42s - loss: 0.6934 - acc: 0.50 - ETA: 37s - loss: 0.6931 - acc: 0.51 - ETA: 32s - loss: 0.6933 - acc: 0.50 - ETA: 27s - loss: 0.6934 - acc: 0.50 - ETA: 23s - loss: 0.6934 - acc: 0.50 - ETA: 18s - loss: 0.6933 - acc: 0.50 - ETA: 13s - loss: 0.6933 - acc: 0.50 - ETA: 9s - loss: 0.6934 - acc: 0.5043 - ETA: 4s - loss: 0.6933 - acc: 0.503 - 77s 5s/step - loss: 0.6931 - acc: 0.5050 - val_loss: 0.6942 - val_acc: 0.4824\n",
      "Epoch 10/10\n",
      "16/16 [==============================] - ETA: 1:05 - loss: 0.6945 - acc: 0.464 - ETA: 1:00 - loss: 0.6944 - acc: 0.473 - ETA: 55s - loss: 0.6939 - acc: 0.476 - ETA: 51s - loss: 0.6938 - acc: 0.48 - ETA: 47s - loss: 0.6937 - acc: 0.48 - ETA: 42s - loss: 0.6934 - acc: 0.48 - ETA: 38s - loss: 0.6934 - acc: 0.48 - ETA: 34s - loss: 0.6935 - acc: 0.48 - ETA: 30s - loss: 0.6936 - acc: 0.48 - ETA: 25s - loss: 0.6939 - acc: 0.48 - ETA: 21s - loss: 0.6939 - acc: 0.48 - ETA: 17s - loss: 0.6938 - acc: 0.48 - ETA: 12s - loss: 0.6939 - acc: 0.49 - ETA: 8s - loss: 0.6938 - acc: 0.4916 - ETA: 4s - loss: 0.6937 - acc: 0.492 - 73s 5s/step - loss: 0.6939 - acc: 0.4910 - val_loss: 0.6942 - val_acc: 0.4883\n",
      "Wall time: 16min 55s\n"
     ]
    }
   ],
   "source": [
    "%%time\n",
    "\n",
    "from keras.utils import to_categorical\n",
    "from sklearn.preprocessing import LabelEncoder\n",
    "\n",
    "encoder = LabelEncoder()\n",
    "\n",
    "valid_labels = encoder.fit_transform(test_gen[1])\n",
    "valid_labels = to_categorical(valid_labels)\n",
    "test_validation = (test_gen[0], valid_labels)\n",
    "\n",
    "h_clf = model_clf.fit_generator(siam_gen_classification(bug_dir, 512, 1), \n",
    "                               steps_per_epoch = 16,\n",
    "#                                 validation_split=0.2,\n",
    "                               validation_data=test_validation, # \n",
    "                                             epochs = 10,\n",
    "                                             verbose = True) # callbacks=[early]"
   ]
  },
  {
   "cell_type": "code",
   "execution_count": 323,
   "metadata": {},
   "outputs": [
    {
     "data": {
      "image/png": "[encoded data removed]",
      "text/plain": [
       "<Figure size 432x288 with 1 Axes>"
      ]
     },
     "metadata": {},
     "output_type": "display_data"
    },
    {
     "data": {
      "image/png": "[encoded data removed]",
      "text/plain": [
       "<Figure size 432x288 with 1 Axes>"
      ]
     },
     "metadata": {},
     "output_type": "display_data"
    }
   ],
   "source": [
    "validation_accuracy_loss(h_clf)"
   ]
  },
  {
   "cell_type": "code",
   "execution_count": 60,
   "metadata": {},
   "outputs": [
    {
     "name": "stdout",
     "output_type": "stream",
     "text": [
      "Saved model to disk\n"
     ]
    }
   ],
   "source": [
    "name = 'baseline_10epoch_16steps_512batch(test)'\n",
    "save_model(similarity_model, name)\n",
    "save_result(h, name)"
   ]
  }
 ],
 "metadata": {
  "accelerator": "GPU",
  "colab": {
   "collapsed_sections": [],
   "name": "[baseline] Bug triage with Deep Learning.ipynb",
   "provenance": [],
   "toc_visible": true,
   "version": "0.3.2"
  },
  "kernelspec": {
   "display_name": "Python 3",
   "language": "python",
   "name": "python3"
  },
  "language_info": {
   "codemirror_mode": {
    "name": "ipython",
    "version": 3
   },
   "file_extension": ".py",
   "mimetype": "text/x-python",
   "name": "python",
   "nbconvert_exporter": "python",
   "pygments_lexer": "ipython3",
   "version": "3.6.5"
  }
 },
 "nbformat": 4,
 "nbformat_minor": 1
}
