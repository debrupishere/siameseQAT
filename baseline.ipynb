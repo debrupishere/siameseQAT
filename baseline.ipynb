{
 "cells": [
  {
   "cell_type": "markdown",
   "metadata": {
    "colab_type": "text",
    "id": "PtdA1qs_UQP1"
   },
   "source": [
    "# Bug triage with Deep Learning"
   ]
  },
  {
   "cell_type": "code",
   "execution_count": 1,
   "metadata": {
    "colab": {},
    "colab_type": "code",
    "id": "qnSCLmiomFE1"
   },
   "outputs": [],
   "source": [
    "from __future__ import print_function, division"
   ]
  },
  {
   "cell_type": "code",
   "execution_count": 13,
   "metadata": {
    "colab": {},
    "colab_type": "code",
    "id": "OIha-SERnD72"
   },
   "outputs": [],
   "source": [
    "import re\n",
    "import numpy as np\n",
    "import pandas as pd\n",
    "import matplotlib.pyplot as plt\n",
    "import os\n",
    "from tqdm import tqdm\n",
    "%matplotlib inline"
   ]
  },
  {
   "cell_type": "code",
   "execution_count": 14,
   "metadata": {
    "colab": {
     "base_uri": "https://localhost:8080/",
     "height": 34
    },
    "colab_type": "code",
    "id": "c57gQiuAnJAe",
    "outputId": "9eaf2d3f-619a-492d-f40b-6ba2c48426fa"
   },
   "outputs": [],
   "source": [
    "from keras.layers import Conv1D, Input, Add, Activation, Dropout, Embedding, MaxPooling1D, GlobalMaxPool1D, Flatten, Dense, Concatenate, BatchNormalization\n",
    "from keras.models import Sequential, Model\n",
    "from keras.regularizers import l2\n",
    "from keras.initializers import TruncatedNormal\n",
    "from keras.layers.advanced_activations import LeakyReLU, ELU\n",
    "from keras import optimizers"
   ]
  },
  {
   "cell_type": "markdown",
   "metadata": {
    "colab_type": "text",
    "id": "3VUZ6oG1gb91"
   },
   "source": [
    "## Auxiliary methods"
   ]
  },
  {
   "cell_type": "markdown",
   "metadata": {
    "colab_type": "text",
    "id": "vLxWmHaU8y7O"
   },
   "source": [
    "### Plot ROC/AUC curve"
   ]
  },
  {
   "cell_type": "markdown",
   "metadata": {
    "colab_type": "text",
    "id": "srKKbyM2ffZm"
   },
   "source": [
    "### Plot validation accuracy and loss"
   ]
  },
  {
   "cell_type": "code",
   "execution_count": 144,
   "metadata": {
    "colab": {},
    "colab_type": "code",
    "id": "ULjGk-eCfT8B"
   },
   "outputs": [],
   "source": [
    "def validation_accuracy_loss(history):\n",
    "  acc=history.history['acc']\n",
    "  val_acc=history.history['val_acc']\n",
    "  loss=history.history['loss']\n",
    "  val_loss=history.history['val_loss']\n",
    "\n",
    "  plt.plot(acc, label='acc')\n",
    "  plt.plot(val_acc, label='val_acc')\n",
    "  plt.title('model accuracy')\n",
    "  plt.ylabel('accuracy')\n",
    "  plt.xlabel('epoch')\n",
    "  plt.legend(['train', 'test'], loc='upper left')\n",
    "  plt.show()\n",
    "\n",
    "  plt.plot(loss, label='loss')\n",
    "  plt.plot(val_loss, label='val_loss')\n",
    "  plt.title('model loss')\n",
    "  plt.ylabel('loss')\n",
    "  plt.xlabel('epoch')\n",
    "  plt.legend(['train', 'test'], loc='upper left')\n",
    "  plt.show()"
   ]
  },
  {
   "cell_type": "code",
   "execution_count": 22,
   "metadata": {
    "colab": {},
    "colab_type": "code",
    "id": "uOOHpF2j6oY8"
   },
   "outputs": [],
   "source": [
    "from sklearn.metrics import roc_auc_score\n",
    "import sklearn.metrics\n",
    "\n",
    "def curve_roc_auc(model, x, y_valid):\n",
    "  y_hat = model.predict(x)\n",
    "  pct_auc = roc_auc_score(y_valid, y_hat) * 100\n",
    "  #print('ROC/AUC: {:0.2f}'.format(pct_auc))\n",
    "\n",
    "  fpr, tpr, _ = sklearn.metrics.roc_curve(y_valid, y_hat)\n",
    "  roc_auc = sklearn.metrics.auc(fpr, tpr)\n",
    "  plt.figure()\n",
    "  lw = 2\n",
    "  plt.plot(fpr, tpr, color='darkorange',\n",
    "           lw=lw, label='ROC curve (area = %0.2f)' % roc_auc)\n",
    "  plt.plot([0, 1], [0, 1], color='navy', lw=lw, linestyle='--')\n",
    "  plt.xlim([0.0, 1.0])\n",
    "  plt.ylim([0.0, 1.05])\n",
    "  plt.xlabel('Taxa de Falsos Positivos')\n",
    "  plt.ylabel('Taxa de Verdadeiros Positivos')\n",
    "  plt.title('Receiver Operating Characteristic (ROC)')\n",
    "  plt.legend(loc=\"lower right\")\n",
    "  plt.show()"
   ]
  },
  {
   "cell_type": "code",
   "execution_count": 23,
   "metadata": {
    "colab": {},
    "colab_type": "code",
    "id": "3zQaDKGoHB_s"
   },
   "outputs": [],
   "source": [
    "def show_model_output(valid_a, valid_b, valid_sim, model, nb_examples = 3):\n",
    "    #pv_a, pv_b, pv_sim = gen_random_batch(test_groups, nb_examples)\n",
    "    pred_sim = model.predict([valid_a, valid_b])\n",
    "#     pred_sim = [1,1,1,1,1,1]\n",
    "    for b_a, b_b, sim, pred in zip(valid_a, valid_b, valid_sim, pred_sim):\n",
    "        key_a = ','.join(b_a.astype(str))\n",
    "        key_b = ','.join(b_b.astype(str))\n",
    "        print(sentence_dict[key_a])\n",
    "        print(sentence_dict[key_b])\n",
    "        print(\"similar=\" + str(sim))\n",
    "        print(\"prediction=\" + str(pred[0]))\n",
    "        print(\"########################\")\n",
    "    return valid_a, valid_b, valid_sim"
   ]
  },
  {
   "cell_type": "code",
   "execution_count": 52,
   "metadata": {},
   "outputs": [],
   "source": [
    "import os\n",
    "import _pickle as pickle\n",
    "\n",
    "def load_model(name):\n",
    "  m_dir = os.path.join(DIR, 'modelos')\n",
    "  # load json and create model\n",
    "  json_file = open(os.path.join(m_dir, \"model_{}.json\".format(name)), 'r')\n",
    "  loaded_model_json = json_file.read()\n",
    "  json_file.close()\n",
    "  loaded_model = model_from_json(loaded_model_json)\n",
    "  # load weights into new model\n",
    "  loaded_model.load_weights(os.path.join(m_dir, \"model_{}.h5\".format(name)))\n",
    "  print(\"Loaded model from disk\")\n",
    "  return loaded_model\n",
    "\n",
    "def save_model(model, name):\n",
    "  m_dir = os.path.join(DIR, 'modelos')\n",
    "  if not os.path.exists(m_dir):\n",
    "    os.mkdir(m_dir)\n",
    "  # serialize model to JSON\n",
    "  model_json = model.to_json()\n",
    "  with open(os.path.join(m_dir, \"model_{}.json\".format(name)), 'w') as json_file:\n",
    "      json_file.write(model_json)\n",
    "  # serialize weights to HDF5\n",
    "  model.save_weights(os.path.join(m_dir, \"model_{}.h5\".format(name)))\n",
    "  print(\"Saved model to disk\")\n",
    "\n",
    "def save_result(h, name):\n",
    "  r_dir = os.path.join(DIR, 'resultados')\n",
    "  if not os.path.exists(r_dir):\n",
    "    os.mkdir(r_dir)\n",
    "  with open(os.path.join(r_dir, name + '.pkl'), 'wb') as f:\n",
    "     pickle.dump(h, f)\n",
    "      \n",
    "def load_result(name):\n",
    "  with open(os.path.join(DIR, 'resultados', name + '.pkl'), 'r') as f:\n",
    "     return pickle.load(f)"
   ]
  },
  {
   "cell_type": "code",
   "execution_count": 265,
   "metadata": {},
   "outputs": [],
   "source": [
    "from sklearn.manifold import TSNE\n",
    "\n",
    "def create_features(x_test_features):\n",
    "  tsne_obj = TSNE(n_components=2,\n",
    "                           init='pca',\n",
    "                           random_state=101,\n",
    "                           method='barnes_hut',\n",
    "                           n_iter=500,\n",
    "                           verbose=0)\n",
    "  tsne_features = tsne_obj.fit_transform(x_test_features)\n",
    "  return tsne_features"
   ]
  },
  {
   "cell_type": "code",
   "execution_count": 253,
   "metadata": {},
   "outputs": [],
   "source": [
    "def decode_to_categorical(datum):\n",
    "    return np.argmax(datum)\n",
    "  \n",
    "\n",
    "def plot_2d(test_labels, tsne_features):\n",
    "  obj_categories = ['duplicate', 'non-duplicate']\n",
    "  groups = [1, 0]\n",
    "  colors = plt.cm.rainbow(np.linspace(0, 1, 2))\n",
    "  plt.figure(figsize=(10, 10))\n",
    "\n",
    "  # test_labels = test_bitmap_labels\n",
    "  #test_labels = np.array([ decode_to_categorical(test_labels[i]) for i in range(test_labels.shape[0]) ])\n",
    "\n",
    "  for c_group, c_color, c_label in zip(groups, colors, obj_categories):\n",
    "      plt.scatter(tsne_features[np.where(test_labels == c_group), 0],\n",
    "                  tsne_features[np.where(test_labels == c_group), 1],\n",
    "                  marker='o',\n",
    "                  color=c_color,\n",
    "                  linewidth='1',\n",
    "                  alpha=0.8,\n",
    "                  label=c_label)\n",
    "  plt.xlabel('Dimension 1')\n",
    "  plt.ylabel('Dimension 2')\n",
    "  plt.title('t-SNE on Testing Samples')\n",
    "  plt.legend(loc='best')\n",
    "  plt.savefig('clothes-dist.png')\n",
    "  plt.show(block=False)"
   ]
  },
  {
   "cell_type": "code",
   "execution_count": 262,
   "metadata": {},
   "outputs": [],
   "source": [
    "def display_embed_space(similarity_model, layer, batch_size):\n",
    "    valid_input_sample, valid_input_pos, valid_input_neg, valid_sim = batch_iterator(bug_dir, batch_size, 1)\n",
    "    model  = similarity_model.get_layer(layer)\n",
    "    model_final = Model(inputs=similarity_model.input, outputs=model.output)\n",
    "    x_test_features = model_final.predict([valid_input_sample['title'], valid_input_pos['title'], valid_input_neg['title'], \n",
    "                 valid_input_sample['description'], valid_input_pos['description'], valid_input_neg['description']], verbose = False, batch_size=batch_size)\n",
    "\n",
    "    tsne_features = create_features(x_test_features)\n",
    "\n",
    "    plot_2d(valid_sim, tsne_features)"
   ]
  },
  {
   "cell_type": "markdown",
   "metadata": {
    "colab_type": "text",
    "id": "19Oo5yKCrXYG"
   },
   "source": [
    "## Dataset bugs"
   ]
  },
  {
   "cell_type": "code",
   "execution_count": 4,
   "metadata": {
    "colab": {
     "base_uri": "https://localhost:8080/",
     "height": 122
    },
    "colab_type": "code",
    "id": "CxFKGhm9repF",
    "outputId": "d78a02ef-882f-4202-d1ea-7d709171b992"
   },
   "outputs": [],
   "source": [
    "#from google.colab import drive\n",
    "#drive.mount('/content/drive')"
   ]
  },
  {
   "cell_type": "markdown",
   "metadata": {},
   "source": [
    "### Parse bugs preproprecessed"
   ]
  },
  {
   "cell_type": "code",
   "execution_count": 15,
   "metadata": {},
   "outputs": [],
   "source": [
    "DIR = ''"
   ]
  },
  {
   "cell_type": "code",
   "execution_count": 16,
   "metadata": {},
   "outputs": [],
   "source": [
    "df_train_pair = pd.read_csv('train_mozilla_firefox.csv')"
   ]
  },
  {
   "cell_type": "code",
   "execution_count": 17,
   "metadata": {},
   "outputs": [],
   "source": [
    "bug_ids = []\n",
    "with open(os.path.join(DIR, 'bug_ids.txt'), 'r') as f:\n",
    "    for row in f:\n",
    "        bug_ids.append(int(row))"
   ]
  },
  {
   "cell_type": "markdown",
   "metadata": {
    "colab_type": "text",
    "id": "8uQou7m2-bFO"
   },
   "source": [
    "## Configurações Globais"
   ]
  },
  {
   "cell_type": "code",
   "execution_count": 18,
   "metadata": {
    "colab": {},
    "colab_type": "code",
    "id": "G-Kn3x_K-aZj"
   },
   "outputs": [],
   "source": [
    "MAX_SEQUENCE_LENGTH_T = 100 # 40\n",
    "MAX_SEQUENCE_LENGTH_D = 100 # 200\n",
    "EMBEDDING_DIM = 300\n",
    "MAX_NB_WORDS = 2000"
   ]
  },
  {
   "cell_type": "markdown",
   "metadata": {
    "colab_type": "text",
    "id": "vqzt5EKzqzcI"
   },
   "source": [
    "### Dicionário de títulos e descrições"
   ]
  },
  {
   "cell_type": "code",
   "execution_count": 19,
   "metadata": {
    "scrolled": true
   },
   "outputs": [
    {
     "name": "stderr",
     "output_type": "stream",
     "text": [
      "100%|███████████████████████████████████| 92651/92651 [07:10<00:00, 271.63it/s]\n"
     ]
    },
    {
     "name": "stdout",
     "output_type": "stream",
     "text": [
      "Wall time: 7min 10s\n"
     ]
    }
   ],
   "source": [
    "%%time\n",
    "\n",
    "import pickle as pickle\n",
    "\n",
    "def padding_embed(max_char, field, bug):\n",
    "    n = len(bug[field])\n",
    "    if (max_char - n) > 0: # desc or title\n",
    "        embed = np.empty(max_char - n)\n",
    "        embed.fill(0)\n",
    "        embed = np.concatenate([embed, bug[field]], axis=-1)\n",
    "        embed = embed.astype(int)\n",
    "    else:\n",
    "        embed = np.array(bug[field][:max_char])\n",
    "    return embed\n",
    "\n",
    "sentence_dict = {}\n",
    "corpus = []\n",
    "\n",
    "for bug_id in tqdm(bug_ids):\n",
    "    bug = pickle.load(open(os.path.join('bugs', '{}.pkl'.format(bug_id)), 'rb'))\n",
    "#     print(str(bug['title_word']))\n",
    "    title = padding_embed(MAX_SEQUENCE_LENGTH_T, 'title_word', bug)\n",
    "    desc = padding_embed(MAX_SEQUENCE_LENGTH_D, 'description_word', bug)\n",
    "    #print(len(title), len(desc))\n",
    "    #print(\",\".join(title.astype(str)))\n",
    "    sentence_dict[\",\".join(title.astype(str))] = bug['title']\n",
    "    sentence_dict[\",\".join(desc.astype(str))] = bug['description']\n",
    "    corpus.append(bug['title'])\n",
    "    corpus.append(bug['description'])\n",
    "#     break"
   ]
  },
  {
   "cell_type": "code",
   "execution_count": 20,
   "metadata": {
    "colab": {
     "base_uri": "https://localhost:8080/",
     "height": 34
    },
    "colab_type": "code",
    "id": "8RdOXdw8q6rN",
    "outputId": "d98e260f-d633-44db-d1ff-50f0a2ae7cd5",
    "scrolled": true
   },
   "outputs": [
    {
     "data": {
      "text/plain": [
       "182137"
      ]
     },
     "execution_count": 20,
     "metadata": {},
     "output_type": "execute_result"
    }
   ],
   "source": [
    "len(sentence_dict)"
   ]
  },
  {
   "cell_type": "markdown",
   "metadata": {
    "colab_type": "text",
    "id": "J0WZNngemNM8"
   },
   "source": [
    "## Geração de batches"
   ]
  },
  {
   "cell_type": "markdown",
   "metadata": {
    "colab_type": "text",
    "id": "a6Obtop6UIVD"
   },
   "source": [
    "### Generating tiple of batches"
   ]
  },
  {
   "cell_type": "code",
   "execution_count": 231,
   "metadata": {
    "colab": {},
    "colab_type": "code",
    "id": "vvyMGBD4IhB-"
   },
   "outputs": [
    {
     "name": "stdout",
     "output_type": "stream",
     "text": [
      "Reading train data\n",
      "Reading bug ids\n",
      "Wall time: 3.38 s\n"
     ]
    }
   ],
   "source": [
    "%%time\n",
    "\n",
    "import random\n",
    "import _pickle as pickle\n",
    "import numpy as np\n",
    "import os\n",
    "\n",
    "train_data, bug_ids, dup_sets = None, None, None\n",
    "\n",
    "def get_neg_bug(invalid_bugs, bug_ids):\n",
    "  neg_bug = random.choice(bug_ids)\n",
    "  while neg_bug in invalid_bugs:\n",
    "    neg_bug = random.choice(bug_ids)\n",
    "  return neg_bug\n",
    "\n",
    "def read_train_data(data):\n",
    "  data_pairs = []\n",
    "  data_dup_sets = {}\n",
    "  print('Reading train data')\n",
    "  with open(os.path.join(data, 'train.txt'), 'r') as f:\n",
    "    for line in f:\n",
    "      bug1, bug2 = line.strip().split()\n",
    "      data_pairs.append([int(bug1), int(bug2)])\n",
    "      if int(bug1) not in data_dup_sets.keys():\n",
    "        data_dup_sets[int(bug1)] = set()\n",
    "      data_dup_sets[int(bug1)].add(int(bug2))\n",
    "  return data_pairs, data_dup_sets\n",
    "\n",
    "def read_bug_ids(data):\n",
    "  bug_ids = []\n",
    "  print('Reading bug ids')\n",
    "  with open(os.path.join(data, 'bug_ids.txt'), 'r') as f:\n",
    "    for line in f:\n",
    "      bug_ids.append(int(line.strip()))\n",
    "  return bug_ids\n",
    "\n",
    "# data - path\n",
    "def prepare_dataset(data):\n",
    "  global train_data\n",
    "  global dup_sets\n",
    "  global bug_ids\n",
    "  if not train_data:\n",
    "    train_data, dup_sets = read_train_data(data)\n",
    "    #print(len(train_data))\n",
    "  if not bug_ids:\n",
    "    bug_ids = read_bug_ids(data)\n",
    "\n",
    "def siam_gen(data, batch_size, n_neg):\n",
    "    while True:\n",
    "        input_sample, input_pos, input_neg, sim = batch_iterator(data, batch_size, n_neg)\n",
    "        yield ({ 'title_in' : input_sample['title'], 'title_pos': input_pos['title'], 'title_neg' : input_neg['title'],\n",
    "        'desc_in' : input_sample['description'], 'desc_pos' : input_pos['description'], 'desc_neg' : input_neg['description'] }, None)\n",
    "\n",
    "bug_dir = os.path.join(DIR)\n",
    "prepare_dataset(bug_dir)"
   ]
  },
  {
   "cell_type": "code",
   "execution_count": 292,
   "metadata": {},
   "outputs": [],
   "source": [
    "from keras.utils import to_categorical\n",
    "from sklearn.preprocessing import LabelEncoder\n",
    "\n",
    "encoder = LabelEncoder()\n",
    "\n",
    "def siam_gen_classification(data, batch_size, n_neg):\n",
    "    while True:\n",
    "        input_sample, input_pos, input_neg, sim = batch_iterator(data, batch_size, n_neg)\n",
    "        sim = encoder.fit_transform(sim)\n",
    "        sim = to_categorical(sim)\n",
    "        yield ({ 'title_in' : input_sample['title'], 'title_pos': input_pos['title'], 'title_neg' : input_neg['title'],\n",
    "        'desc_in' : input_sample['description'], 'desc_pos' : input_pos['description'], 'desc_neg' : input_neg['description'] }, sim)"
   ]
  },
  {
   "cell_type": "code",
   "execution_count": 232,
   "metadata": {
    "colab": {},
    "colab_type": "code",
    "id": "9KefeL9y2puC"
   },
   "outputs": [],
   "source": [
    "def read_batch_bugs(batch_bugs, data):\n",
    "  global bug_set\n",
    "  desc_word = []\n",
    "  short_desc_word = []\n",
    "  for bug_id in batch_bugs:\n",
    "    #bug = pickle.load(open(os.path.join(data, 'bugs', '{}.pkl'.format(bug_id)), 'rb'))\n",
    "    bug = bug_set[bug_id]\n",
    "    desc_word.append(bug['description_word'])\n",
    "    short_desc_word.append(bug['title_word'])\n",
    "    \n",
    "  desc_word = np.array(desc_word)\n",
    "  short_desc_word = np.array(short_desc_word)\n",
    "  batch_bugs = dict()\n",
    "  batch_bugs['desc'] = (desc_word)\n",
    "  batch_bugs['title'] = (short_desc_word)\n",
    "\n",
    "  return batch_bugs\n",
    "\n",
    "def data_padding_bug(seq, max_seq_length):\n",
    "    seq = seq[:max_seq_length]\n",
    "    padding = max_seq_length - len(seq)\n",
    "    if padding > 0:\n",
    "        embed = np.empty(padding)\n",
    "        embed.fill(0)\n",
    "        return np.concatenate([embed, seq], -1).astype(int)\n",
    "    else:\n",
    "        return np.array(seq).astype(int)\n",
    "\n",
    "def data_padding(data, max_seq_length):\n",
    "  padded_data = np.zeros(shape=[len(data), max_seq_length])\n",
    "  for i, seq in enumerate(data):\n",
    "    seq = seq[:max_seq_length]\n",
    "    padding_end = max_seq_length - len(seq)\n",
    "    #print(seq)\n",
    "    embed = np.empty(padding_end)\n",
    "    embed.fill(0)\n",
    "    padded_data[i] = np.concatenate([embed, seq], -1)\n",
    "  return padded_data.astype(np.int)"
   ]
  },
  {
   "cell_type": "code",
   "execution_count": 233,
   "metadata": {
    "colab": {},
    "colab_type": "code",
    "id": "8QWkYiz77MDR"
   },
   "outputs": [],
   "source": [
    "from datetime import datetime\n",
    "\n",
    "# data - path\n",
    "# batch_size - 128\n",
    "# n_neg - 1\n",
    "def batch_iterator(data, batch_size, n_neg):\n",
    "    global train_data\n",
    "    global dup_sets\n",
    "    global bug_ids\n",
    "    global bug_set\n",
    "\n",
    "    random.shuffle(train_data)\n",
    "    num_batches = int(len(train_data) / batch_size)\n",
    "    if len(data) % batch_size > 0:\n",
    "        num_batches += 1\n",
    "    #print(num_batches, batch_size)\n",
    "    # loop = tqdm(range(num_batches))\n",
    "    # loop.set_description('Training')\n",
    "\n",
    "    batch_input, batch_pos, batch_neg = {'title' : [], 'desc' : []}, {'title' : [], 'desc' : []}, {'title' : [], 'desc' : []}\n",
    "\n",
    "    n_train = len(train_data)\n",
    "\n",
    "    batch_triplets = []\n",
    "    \n",
    "    for offset in range(batch_size):\n",
    "        #d_start = datetime.now()\n",
    "        #print(\"Offset\", offset)\n",
    "        neg_bug = get_neg_bug(dup_sets[train_data[offset][0]], bug_ids)\n",
    "        #d_end = datetime.now()\n",
    "        #print(\"Time\", (d_end - d_start).microseconds)\n",
    "        anchor, pos, neg = train_data[offset][0], train_data[offset][1], neg_bug\n",
    "        bug_anchor = bug_set[anchor]\n",
    "        bug_pos = bug_set[pos]\n",
    "        bug_neg = bug_set[neg]\n",
    "        batch_input['title'].append(bug_anchor['title_word'])\n",
    "        batch_input['desc'].append(bug_anchor['description_word'])\n",
    "        batch_pos['title'].append(bug_pos['title_word'])\n",
    "        batch_pos['desc'].append(bug_pos['description_word'])\n",
    "        batch_neg['title'].append(bug_neg['title_word'])\n",
    "        batch_neg['desc'].append(bug_neg['description_word'])\n",
    "        batch_triplets.append([train_data[offset][0], train_data[offset][1], neg_bug])\n",
    "\n",
    "    batch_input['title'] = np.array(batch_input['title'])\n",
    "    batch_input['desc'] = np.array(batch_input['desc'])\n",
    "    batch_pos['title'] = np.array(batch_pos['title'])\n",
    "    batch_pos['desc'] = np.array(batch_pos['desc'])\n",
    "    batch_neg['title'] = np.array(batch_neg['title'])\n",
    "    batch_neg['desc'] = np.array(batch_neg['desc'])\n",
    "\n",
    "    n_half = batch_size // 2\n",
    "    if n_half > 0:\n",
    "        pos = np.full((1, n_half), 1)\n",
    "        neg = np.full((1, n_half), 0)\n",
    "        sim = np.concatenate([pos, neg], -1)[0]\n",
    "    else:\n",
    "        sim = np.array([np.random.choice([1, 0])])\n",
    "\n",
    "    input_sample, input_pos, input_neg = {}, {}, {}\n",
    "\n",
    "    input_sample = { 'title' : batch_input['title'], 'description' : batch_input['desc'] }\n",
    "    input_pos = { 'title' : batch_pos['title'], 'description' : batch_pos['desc'] }\n",
    "    input_neg = { 'title' : batch_neg['title'], 'description' : batch_neg['desc'] }\n",
    "\n",
    "    return input_sample, input_pos, input_neg, sim #sim "
   ]
  },
  {
   "cell_type": "code",
   "execution_count": 28,
   "metadata": {
    "scrolled": true
   },
   "outputs": [
    {
     "name": "stderr",
     "output_type": "stream",
     "text": [
      "100%|███████████████████████████████████| 92651/92651 [02:39<00:00, 580.30it/s]\n"
     ]
    },
    {
     "data": {
      "text/plain": [
       "92651"
      ]
     },
     "execution_count": 28,
     "metadata": {},
     "output_type": "execute_result"
    }
   ],
   "source": [
    "bug_set = {}\n",
    "\n",
    "loop = tqdm(total=len(bug_ids))\n",
    "\n",
    "for bug_id in bug_ids:\n",
    "    bug_set[bug_id] = pickle.load(open(os.path.join(bug_dir, 'bugs', '{}.pkl'.format(bug_id)), 'rb'))\n",
    "    bug_set[bug_id]['description_word'] = data_padding_bug(bug_set[bug_id]['description_word'], MAX_SEQUENCE_LENGTH_D)\n",
    "    bug_set[bug_id]['title_word'] = data_padding_bug(bug_set[bug_id]['title_word'], MAX_SEQUENCE_LENGTH_T)\n",
    "    loop.update(1)\n",
    "loop.close()\n",
    "    \n",
    "len(bug_set)"
   ]
  },
  {
   "cell_type": "code",
   "execution_count": 234,
   "metadata": {
    "colab": {
     "base_uri": "https://localhost:8080/",
     "height": 51
    },
    "colab_type": "code",
    "id": "PA5CIhgz7odW",
    "outputId": "ae98fdec-1d54-4b1f-ee0e-4c5633802a18",
    "scrolled": true
   },
   "outputs": [
    {
     "name": "stdout",
     "output_type": "stream",
     "text": [
      "Wall time: 19.6 s\n"
     ]
    }
   ],
   "source": [
    "%%time\n",
    "\n",
    "batch_size = 1\n",
    "batch_size_test = 512\n",
    "\n",
    "# we want a constant validation group to have a frame of reference for model performance\n",
    "train_gen = siam_gen(bug_dir, batch_size, 1)\n",
    "valid_input_sample, valid_input_pos, valid_input_neg, valid_sim = batch_iterator(bug_dir, batch_size_test, 1)\n",
    "test_gen = ([valid_input_sample['title'], valid_input_pos['title'], valid_input_neg['title'], \n",
    "             valid_input_sample['description'], valid_input_pos['description'], valid_input_neg['description']], valid_sim)"
   ]
  },
  {
   "cell_type": "code",
   "execution_count": 235,
   "metadata": {},
   "outputs": [
    {
     "data": {
      "text/plain": [
       "((512, 100), (512, 100), (512,))"
      ]
     },
     "execution_count": 235,
     "metadata": {},
     "output_type": "execute_result"
    }
   ],
   "source": [
    "valid_input_sample['title'].shape, valid_input_sample['description'].shape, valid_sim.shape"
   ]
  },
  {
   "cell_type": "markdown",
   "metadata": {
    "colab_type": "text",
    "id": "24mY22BGnkqp"
   },
   "source": [
    "### Validar entrada"
   ]
  },
  {
   "cell_type": "code",
   "execution_count": 31,
   "metadata": {
    "colab": {},
    "colab_type": "code",
    "id": "6pnMQT0-Soml"
   },
   "outputs": [],
   "source": [
    "def display_batch(groups, nb):\n",
    "  input_sample, input_pos, input_neg, v_sim = batch_iterator(groups, nb, 1)\n",
    "\n",
    "  t_a, t_b, d_a, d_b = [], [], [], []\n",
    "  \n",
    "  t_a = input_sample['title']\n",
    "  t_b = input_pos['title']\n",
    "  d_a = input_sample['description']\n",
    "  d_b = input_pos['description']\n",
    "  \n",
    "  for t_a, t_b_pos, t_b_neg, d_a, d_b_pos, d_b_neg, sim in zip(input_sample['title'], input_pos['title'], input_neg['title'], \n",
    "                                                         input_sample['description'], input_pos['description'], input_neg['description'], v_sim):\n",
    "    \n",
    "\n",
    "    t_b = t_b_pos if sim == 1 else t_b_neg\n",
    "    d_b = d_b_pos if sim == 1 else t_b_neg\n",
    "    \n",
    "    #print(t_a.shape)\n",
    "    key_t_a = ','.join(t_a.astype(str))\n",
    "    key_t_b = ','.join(t_b.astype(str))\n",
    "    key_d_a = ','.join(d_a.astype(str))\n",
    "    key_d_b = ','.join(d_b.astype(str))\n",
    "    print(\"Title: \\n{}\".format(sentence_dict[key_t_a]))\n",
    "    print(\"Title: \\n{}\".format(sentence_dict[key_t_b]))\n",
    "    print(\"Description: \\n{}\".format(sentence_dict[key_d_a]))\n",
    "    print(\"Description: \\n{}\".format(sentence_dict[key_d_b]))\n",
    "    print(\"similar =\", str(sim))\n",
    "    print(\"########################\")"
   ]
  },
  {
   "cell_type": "code",
   "execution_count": 32,
   "metadata": {
    "colab": {
     "base_uri": "https://localhost:8080/",
     "height": 796
    },
    "colab_type": "code",
    "id": "OhTbr3a5nmrh",
    "outputId": "a2d73e0f-e9ce-4d12-a5c8-f0008d2402d0",
    "scrolled": true
   },
   "outputs": [
    {
     "name": "stdout",
     "output_type": "stream",
     "text": [
      "49660 5\n",
      "Title: \n",
      "opens the page as text and displays its source\n",
      "Title: \n",
      "opens the page as text and displays its source\n",
      "Description: \n",
      "user agent mozilla number windows u winnumber en us rv number gecko number firefox number build identifier mozilla number windows u winnumber en us rv number gecko number firefox number the page is not recognized as web page it displays the source of the page as text not as html file reproducible always steps to reproduce number just open the browser in the specific address actual results it displays the page source instead of content expected results the browser should open it as web page and display its content when i save the page on my p c and then open it by the browser it shows correctly of course after i add base href url after the html tag also i think it may happen in more sites when you enter to the home page or to other parts of the site it works correctly\n",
      "Description: \n",
      "user agent mozilla number windows u winnumber en us rv number gecko number firefox number build identifier mozilla number windows u winnumber en us rv number gecko number firefox number the page is not recognized as web page it displays the source of the page as text not as html file reproducible always steps to reproduce number just open the browser in the specific address http www sakal co il jsp pg product jsp comp number sec number prod number sale no number actual results it displays the page source instead of content expected results the browser should open it as web page and display its content when i save the page on my p c and then open it by the browser it shows correctly of course after i add base href url after the html tag also i think it may happen in more sites when you enter to the home page or to other parts of the site it works correctly\n",
      "similar = 1\n",
      "########################\n",
      "Title: \n",
      "comment ends when commenttag is a single\n",
      "Title: \n",
      "comments containing two contiguous dashes are visible\n",
      "Description: \n",
      "user agent mozilla number xnumber u linux inumber de rv number gecko number ubuntu number intrepid firefox number build identifier mozilla number xnumber u linux inumber de rv number gecko number ubuntu number intrepid firefox number as you can see in the source code of the url above the comment ends when the string is at the end normally this should be aint it reproducible always steps to reproduce number write lorem ipsum number comment some parts out number close one line only with expected results dont comment it out\n",
      "Description: \n",
      "user agent mozilla number xnumber u linux inumber es es rv number gecko number ubuntu number intrepid firefox number build identifier mozilla number xnumber u linux inumber es es rv number gecko number ubuntu number intrepid firefox number when you put two contiguous dashes inside a comment the full comment seems to be visible please take a look at the example url provided also a real world example at http esquivaesto com number esquiva esto number monografico bruce lee html reproducible always steps to reproduce number go to http acdrtux es junk test html number open your eyes actual results comments with inside are visible expected results comments should not be rendered into the webpage\n",
      "similar = 1\n",
      "########################\n",
      "Title: \n",
      "all bookmarks prior to installing latest version of mozilla firefox are gone\n",
      "Title: \n",
      "adobe flash freezes closing videos\n",
      "Description: \n",
      "user agent mozilla number windows u winnumber en us rv number gecko number firefox number build identifier mozilla number windows u winnumber en us rv number gecko number firefox number upon attempting to check on a stored bookmark i found that all bookmarks are gone except for two that i had marked after installing the latest update of mozilla on number i attempted to run go back to undo the problem but when my computer reboots the update enforces the installation again reproducible always steps to reproduce number click on bookmarks number observe that everything except bookmarks toolbar folder and two recent bookmarks are gone number actual results all bookmarks except two added after the update are gone expected results all bookmarks dating back several years should have been available for reference i dont have a lot of savy regarding this type of information other than the computer has windows number amd knumber processor number mb ram\n",
      "Description: \n",
      "adobe flash freezes closing videos\n",
      "similar = 0\n",
      "########################\n",
      "Title: \n",
      "location drop down menu in wrong place\n",
      "Title: \n",
      "cracker used html mhtmlredir exploit to download and ran java class black box class ultimately created program of choice on user computer\n",
      "Description: \n",
      "user agent mozilla number windows u windows nt number en us rv numberb gecko number mozilla firebird number build identifier mozilla number windows u windows nt number en us rv numberb gecko number mozilla firebird number after customizing the toolbar in mozilla firebird the location drop down menu now appears in the wrong place this only happens while maximized reproducible always steps to reproduce number maximize the browser number go into customize to customize the toolbar number remove the search from the toolbar number click done number on the location bar click to show the drop down list actual results the drop down list appears on the wrong side of the screen expected results it doesnt seem to happen when the window is not maximized\n",
      "Description: \n",
      "cracker used html mhtmlredir exploit to download and ran java class black box class ultimately created program of choice on user computer\n",
      "similar = 0\n",
      "########################\n",
      "Wall time: 1.08 s\n"
     ]
    }
   ],
   "source": [
    "%%time \n",
    "\n",
    "display_batch(bug_dir, 5)"
   ]
  },
  {
   "cell_type": "markdown",
   "metadata": {
    "colab_type": "text",
    "id": "ojKT88YudQxO"
   },
   "source": [
    "#### Train"
   ]
  },
  {
   "cell_type": "markdown",
   "metadata": {
    "colab_type": "text",
    "id": "XPrsLs4Kg4Pa"
   },
   "source": [
    "## Pre-trained embeddings\n",
    "\n",
    "Loading pretrained word vectors"
   ]
  },
  {
   "cell_type": "markdown",
   "metadata": {
    "colab_type": "text",
    "id": "6p9eE5TWoH7p"
   },
   "source": [
    "### Glove"
   ]
  },
  {
   "cell_type": "code",
   "execution_count": 33,
   "metadata": {
    "colab": {},
    "colab_type": "code",
    "id": "2S7PiEM7WxGN"
   },
   "outputs": [],
   "source": [
    "import os\n",
    "\n",
    "from keras.preprocessing.text import Tokenizer\n",
    "\n",
    "def word_index_count(corpus):\n",
    "  \n",
    "  tokenizer = Tokenizer(num_words=MAX_NB_WORDS)\n",
    "  tokenizer.fit_on_texts(corpus)\n",
    "  word_index = tokenizer.word_index\n",
    "  print('Found %s unique tokens.' % len(word_index))\n",
    "  \n",
    "  return word_index"
   ]
  },
  {
   "cell_type": "code",
   "execution_count": 34,
   "metadata": {
    "colab": {
     "base_uri": "https://localhost:8080/",
     "height": 85
    },
    "colab_type": "code",
    "id": "QY-ef3OGoIiq",
    "outputId": "55f4c93c-98bb-4bac-92f2-76bd3b777605"
   },
   "outputs": [
    {
     "name": "stderr",
     "output_type": "stream",
     "text": [
      "1917494it [11:48, 2707.81it/s]\n"
     ]
    },
    {
     "name": "stdout",
     "output_type": "stream",
     "text": [
      "Total 1917494 word vectors in Glove 42B 300d.\n",
      "Found 138251 unique tokens.\n"
     ]
    },
    {
     "name": "stderr",
     "output_type": "stream",
     "text": [
      "100%|██████████████████████████████| 138251/138251 [00:00<00:00, 221579.43it/s]\n"
     ]
    },
    {
     "name": "stdout",
     "output_type": "stream",
     "text": [
      "Wall time: 12min 38s\n"
     ]
    }
   ],
   "source": [
    "%%time\n",
    "\n",
    "GLOVE_DIR = \"\"\n",
    "embeddings_index = {}\n",
    "f = open(os.path.join(GLOVE_DIR, 'glove.42B.300d.txt'), 'rb')\n",
    "for line in tqdm(f):\n",
    "    values = line.split()\n",
    "    word = values[0]\n",
    "    coefs = np.asarray(values[1:], dtype='float32')\n",
    "    embeddings_index[word] = coefs\n",
    "f.close()\n",
    "\n",
    "print('Total %s word vectors in Glove 42B 300d.' % len(embeddings_index))\n",
    "\n",
    "word_index = word_index_count(corpus)\n",
    "\n",
    "embedding_matrix = np.random.random((len(word_index) + 1, EMBEDDING_DIM))\n",
    "for word, i in tqdm(word_index.items()):\n",
    "    embedding_vector = embeddings_index.get(word)\n",
    "    if embedding_vector is not None:\n",
    "        # words not found in embedding index will be all-zeros.\n",
    "        embedding_matrix[i] = embedding_vector"
   ]
  },
  {
   "cell_type": "markdown",
   "metadata": {
    "colab_type": "text",
    "id": "Lev5Y7oaFQBd"
   },
   "source": [
    "## Towards Accurate Duplicate Bug Retrieval Using Deep Learning Techniques\n",
    "\n",
    "https://github.com/tqtg/DuplicateBugFinder"
   ]
  },
  {
   "cell_type": "markdown",
   "metadata": {
    "colab_type": "text",
    "id": "sI074wU4Y13y"
   },
   "source": [
    "### CNN with filter 3,4,5"
   ]
  },
  {
   "cell_type": "code",
   "execution_count": 133,
   "metadata": {
    "colab": {
     "base_uri": "https://localhost:8080/",
     "height": 493
    },
    "colab_type": "code",
    "id": "h6YJU9GtFTyq",
    "outputId": "f85cf105-1fd6-491d-d969-7e6936f32739",
    "scrolled": false
   },
   "outputs": [],
   "source": [
    "import keras\n",
    "from keras.layers import GlobalMaxPooling1D \n",
    "\n",
    "keras.backend.clear_session()\n",
    "\n",
    "def cnn_model(embeddings, num_words, embedding_dim, max_sequence_length, trainable):\n",
    "\n",
    "  embedding_layer = Embedding(num_words,\n",
    "                              embedding_dim,\n",
    "                              weights=[embeddings],\n",
    "                              input_length=max_sequence_length,\n",
    "                              trainable=trainable)\n",
    "\n",
    "  sequence_input = Input(shape=(max_sequence_length,), name='Feature_BugInput')\n",
    "  embedded_sequences = embedding_layer(sequence_input)\n",
    "\n",
    "  # Yoon Kim model (https://arxiv.org/abs/1408.5882)\n",
    "  convs = []\n",
    "  filter_sizes = [3,4,5]\n",
    "\n",
    "  for filter_size in filter_sizes:\n",
    "      l_conv = Conv1D(filters=32, kernel_size=filter_size, activation='relu')(embedded_sequences)\n",
    "      l_pool = MaxPooling1D(pool_size=3)(l_conv)\n",
    "      convs.append(l_pool)\n",
    "\n",
    "  # l_merge = Merge(mode='concat', concat_axis=1)(convs)\n",
    "\n",
    "  l_merge = Concatenate(axis=1)(convs)\n",
    "\n",
    "  # add a 1D convnet with global maxpooling, instead of Yoon Kim model\n",
    "  conv = Conv1D(filters=64, kernel_size=3, activation='relu')(l_merge)\n",
    "  pool = GlobalMaxPooling1D()(conv) # pool_size=3\n",
    "  # Original Yoon Kim model\n",
    "  #x = Flatten()(pool)\n",
    "  #x = Dropout(0.5)(x)\n",
    "  layer = Activation('relu')(pool)\n",
    "\n",
    "  cnn_feature_model = Model(inputs=[sequence_input], outputs=[layer], name = 'FeatureCNNGenerationModel') # inputs=visible\n",
    "  \n",
    "  return cnn_feature_model"
   ]
  },
  {
   "cell_type": "markdown",
   "metadata": {
    "colab_type": "text",
    "id": "wr6ObTXiaALH"
   },
   "source": [
    "### Bi-LSTM"
   ]
  },
  {
   "cell_type": "code",
   "execution_count": 134,
   "metadata": {
    "colab": {
     "base_uri": "https://localhost:8080/",
     "height": 306
    },
    "colab_type": "code",
    "id": "vC7MQXEsaCeG",
    "outputId": "65e647a9-c5d3-4009-b8a4-2e2d97b52684"
   },
   "outputs": [
    {
     "name": "stdout",
     "output_type": "stream",
     "text": [
      "Wall time: 0 ns\n"
     ]
    }
   ],
   "source": [
    "from keras.layers import Dense, Input, LSTM, Dropout, Bidirectional\n",
    "\n",
    "def lstm_model(embeddings, num_words, embedding_dim, max_sequence_length, trainable):\n",
    "  number_lstm_units = 100\n",
    "  rate_drop_lstm = 0\n",
    "  recurrent_dropout = 0\n",
    "\n",
    "  embedding_layer = Embedding(num_words,\n",
    "                          embedding_dim,\n",
    "                          weights=[embeddings],\n",
    "                          input_length=max_sequence_length,\n",
    "                          trainable=trainable)\n",
    "\n",
    "  sequence_input = Input(shape=(max_sequence_length, ), name='Feature_BugInput')\n",
    "  embedded_sequences = embedding_layer(sequence_input)\n",
    "\n",
    "   # Creating LSTM Encoder\n",
    "  lstm_layer = Bidirectional(LSTM(number_lstm_units, dropout=rate_drop_lstm, recurrent_dropout=rate_drop_lstm), merge_mode='sum')\n",
    "\n",
    "  x = lstm_layer(embedded_sequences)\n",
    "\n",
    "  layer = Activation('relu')(x)\n",
    "\n",
    "  lstm_feature_model = Model(inputs=[sequence_input], outputs=[layer], name = 'FeatureLstmGenerationModel') # inputs=visible\n",
    "  \n",
    "  return lstm_feature_model"
   ]
  },
  {
   "cell_type": "markdown",
   "metadata": {
    "colab_type": "text",
    "id": "TEedCg5AaTf2"
   },
   "source": [
    "### Siamese model"
   ]
  },
  {
   "cell_type": "code",
   "execution_count": 240,
   "metadata": {
    "colab": {},
    "colab_type": "code",
    "id": "dGx3qyWhmLMF"
   },
   "outputs": [],
   "source": [
    "from keras import backend as K\n",
    "\n",
    "# https://stackoverflow.com/questions/50673196/keras-triplet-loss-crashes-when-training\n",
    "class MarginLoss(keras.layers.Layer):\n",
    "  def call(self, inputs):\n",
    "    bug_in, bug_pos, bug_neg  = inputs\n",
    "    loss = self.distance(bug_in, bug_pos, bug_neg)\n",
    "    self.add_loss(loss, inputs=inputs)\n",
    "    return inputs\n",
    "  def distance(self, bug_in, bug_pos, bug_neg):\n",
    "    dis_pos, dis_neg = self.cos_distance(bug_in, bug_pos), self.cos_distance(bug_in, bug_neg)\n",
    "    ep = 1\n",
    "    d1 = K.maximum(0.0, ep - dis_pos + dis_neg)\n",
    "    return K.mean(d1)\n",
    "  \n",
    "  def l2_normalize(self, x, axis):\n",
    "    norm = K.sqrt(K.sum(K.square(x), axis=axis, keepdims=True))\n",
    "    return K.maximum(x, K.epsilon()) / K.maximum(norm, K.epsilon())\n",
    "\n",
    "  # https://github.com/keras-team/keras/issues/3031\n",
    "  def cos_distance(self, y_true, y_pred):\n",
    "    y_true = self.l2_normalize(y_true, axis=-1)\n",
    "    y_pred = self.l2_normalize(y_pred, axis=-1)\n",
    "    return K.mean(1 - K.sum((y_true * y_pred), axis=-1))\n",
    "    \n",
    "def identity_loss(y_true, y_pred):\n",
    "    return K.mean(y_pred - 0 * y_true)\n",
    "\n",
    "# define the margin loss like hinge loss\n",
    "def margin_loss(y_true, y_pred):\n",
    "    margin = K.constant(1.0)\n",
    "    return K.mean(K.maximum(0, margin - K.square(y_pred[:,0,0])+ K.square(y_pred[:,1,0])))\n",
    "# def margin_loss(y_true, y_pred):\n",
    "#     lamb, margin = 0.5, 1\n",
    "#     return K.sum(y_true * K.square(K.relu(1 - margin - y_pred)) + lamb * (\n",
    "#         1 - y_true) * K.square(K.relu(y_pred - margin)), axis=-1)"
   ]
  },
  {
   "cell_type": "code",
   "execution_count": 252,
   "metadata": {
    "colab": {
     "base_uri": "https://localhost:8080/",
     "height": 561
    },
    "colab_type": "code",
    "id": "VWBkSIYVaXyP",
    "outputId": "ed2a3d37-b8ec-4960-ef45-2909a87c8fa5"
   },
   "outputs": [],
   "source": [
    "from keras.layers import concatenate, Add, Lambda\n",
    "from keras.optimizers import Adam\n",
    "\n",
    "def siamese_model(lstm_feature_model, cnn_feature_model, max_sequence_length_t, max_sequence_length_d):\n",
    "  \n",
    "  bug_t_in = Input(shape = (max_sequence_length_t, ), name = 'title_in')\n",
    "  bug_t_pos = Input(shape = (max_sequence_length_t, ), name = 'title_pos')\n",
    "  bug_t_neg = Input(shape = (max_sequence_length_t, ), name = 'title_neg')\n",
    "  \n",
    "  bug_d_in = Input(shape = (max_sequence_length_d, ), name = 'desc_in')\n",
    "  bug_d_pos = Input(shape = (max_sequence_length_d, ), name = 'desc_pos')\n",
    "  bug_d_neg = Input(shape = (max_sequence_length_d, ), name = 'desc_neg')\n",
    "\n",
    "  bug_t_in_feat_lstm = lstm_feature_model(bug_t_in)\n",
    "  bug_t_pos_feat_lstm = lstm_feature_model(bug_t_pos)\n",
    "  bug_t_neg_feat_lstm = lstm_feature_model(bug_t_neg)\n",
    "  \n",
    "  bug_d_in_feat_cnn = cnn_feature_model(bug_d_in)\n",
    "  bug_d_pos_feat_cnn = cnn_feature_model(bug_d_pos)\n",
    "  bug_d_neg_feat_cnn = cnn_feature_model(bug_d_neg)\n",
    "\n",
    "  encoded_anchor = concatenate([bug_t_in_feat_lstm, bug_d_in_feat_cnn], name = 'merge_features_in')\n",
    "  encoded_positive = concatenate([bug_t_pos_feat_lstm, bug_d_pos_feat_cnn], name = 'merge_features_pos')\n",
    "  encoded_negative = concatenate([bug_t_neg_feat_lstm, bug_d_neg_feat_cnn], name = 'merge_features_neg')\n",
    "  \n",
    "  loss = MarginLoss()([encoded_anchor, encoded_positive, encoded_negative])\n",
    "  \n",
    "  #loss = Dense(2, activation = 'softmax')(loss)\n",
    "  \n",
    "  #adam = Adam(lr=0.01, beta_1=0.9, beta_2=0.999, epsilon=None, decay=0.01, amsgrad=False)\n",
    "  \n",
    "  similarity_model = Model(inputs = [bug_t_in, bug_t_pos, bug_t_neg, bug_d_in, bug_d_pos, bug_d_neg], \n",
    "                           outputs = loss, name = 'Similarity_Model')\n",
    "\n",
    "  # setup the optimization process \n",
    "  similarity_model.compile(optimizer='adam', loss=None) # 'binary_crossentropy' loss='categorical_crossentropy' metrics = ['accuracy']\n",
    "  \n",
    "  return similarity_model"
   ]
  },
  {
   "cell_type": "markdown",
   "metadata": {},
   "source": [
    "## Experiment"
   ]
  },
  {
   "cell_type": "code",
   "execution_count": 315,
   "metadata": {
    "scrolled": false
   },
   "outputs": [
    {
     "name": "stdout",
     "output_type": "stream",
     "text": [
      "__________________________________________________________________________________________________\n",
      "Layer (type)                    Output Shape         Param #     Connected to                     \n",
      "==================================================================================================\n",
      "title_in (InputLayer)           (None, 100)          0                                            \n",
      "__________________________________________________________________________________________________\n",
      "desc_in (InputLayer)            (None, 100)          0                                            \n",
      "__________________________________________________________________________________________________\n",
      "title_pos (InputLayer)          (None, 100)          0                                            \n",
      "__________________________________________________________________________________________________\n",
      "desc_pos (InputLayer)           (None, 100)          0                                            \n",
      "__________________________________________________________________________________________________\n",
      "title_neg (InputLayer)          (None, 100)          0                                            \n",
      "__________________________________________________________________________________________________\n",
      "desc_neg (InputLayer)           (None, 100)          0                                            \n",
      "__________________________________________________________________________________________________\n",
      "FeatureLstmGenerationModel (Mod (None, 100)          41796400    title_in[0][0]                   \n",
      "                                                                 title_pos[0][0]                  \n",
      "                                                                 title_neg[0][0]                  \n",
      "__________________________________________________________________________________________________\n",
      "FeatureCNNGenerationModel (Mode (None, 64)           41597104    desc_in[0][0]                    \n",
      "                                                                 desc_pos[0][0]                   \n",
      "                                                                 desc_neg[0][0]                   \n",
      "__________________________________________________________________________________________________\n",
      "merge_features_in (Concatenate) (None, 164)          0           FeatureLstmGenerationModel[1][0] \n",
      "                                                                 FeatureCNNGenerationModel[1][0]  \n",
      "__________________________________________________________________________________________________\n",
      "merge_features_pos (Concatenate (None, 164)          0           FeatureLstmGenerationModel[2][0] \n",
      "                                                                 FeatureCNNGenerationModel[2][0]  \n",
      "__________________________________________________________________________________________________\n",
      "merge_features_neg (Concatenate (None, 164)          0           FeatureLstmGenerationModel[3][0] \n",
      "                                                                 FeatureCNNGenerationModel[3][0]  \n",
      "__________________________________________________________________________________________________\n",
      "margin_loss_1 (MarginLoss)      [(None, 164), (None, 0           merge_features_in[0][0]          \n",
      "                                                                 merge_features_pos[0][0]         \n",
      "                                                                 merge_features_neg[0][0]         \n",
      "==================================================================================================\n",
      "Total params: 83,393,504\n",
      "Trainable params: 442,304\n",
      "Non-trainable params: 82,951,200\n",
      "__________________________________________________________________________________________________\n",
      "Epoch 1/10\n",
      "16/16 [==============================] - ETA: 5:05 - loss: 1.002 - ETA: 2:32 - loss: 1.001 - ETA: 1:39 - loss: 1.001 - ETA: 1:11 - loss: 1.003 - ETA: 54s - loss: 1.003 - ETA: 42s - loss: 1.00 - ETA: 33s - loss: 1.00 - ETA: 26s - loss: 1.00 - ETA: 21s - loss: 1.00 - ETA: 16s - loss: 1.00 - ETA: 12s - loss: 1.00 - ETA: 9s - loss: 1.0014 - ETA: 6s - loss: 1.001 - ETA: 4s - loss: 1.000 - ETA: 2s - loss: 1.000 - 32s 2s/step - loss: 1.0005\n",
      "Epoch 2/10\n",
      "16/16 [==============================] - ETA: 6s - loss: 1.001 - ETA: 7s - loss: 1.007 - ETA: 11s - loss: 1.00 - ETA: 12s - loss: 1.00 - ETA: 11s - loss: 1.00 - ETA: 10s - loss: 1.00 - ETA: 9s - loss: 1.0008 - ETA: 8s - loss: 1.000 - ETA: 6s - loss: 1.000 - ETA: 5s - loss: 1.002 - ETA: 4s - loss: 1.002 - ETA: 3s - loss: 1.003 - ETA: 2s - loss: 1.003 - ETA: 1s - loss: 1.002 - ETA: 0s - loss: 1.002 - 13s 836ms/step - loss: 1.0024\n",
      "Epoch 3/10\n",
      "16/16 [==============================] - ETA: 6s - loss: 0.998 - ETA: 7s - loss: 0.999 - ETA: 7s - loss: 1.000 - ETA: 7s - loss: 0.997 - ETA: 6s - loss: 0.997 - ETA: 7s - loss: 0.998 - ETA: 7s - loss: 0.998 - ETA: 7s - loss: 0.999 - ETA: 6s - loss: 0.999 - ETA: 5s - loss: 0.999 - ETA: 4s - loss: 0.999 - ETA: 3s - loss: 0.999 - ETA: 2s - loss: 0.999 - ETA: 1s - loss: 0.999 - ETA: 0s - loss: 0.999 - 13s 796ms/step - loss: 0.9994\n",
      "Epoch 4/10\n",
      "16/16 [==============================] - ETA: 6s - loss: 1.000 - ETA: 7s - loss: 1.000 - ETA: 7s - loss: 1.000 - ETA: 6s - loss: 1.000 - ETA: 6s - loss: 1.000 - ETA: 6s - loss: 1.000 - ETA: 5s - loss: 1.000 - ETA: 5s - loss: 1.000 - ETA: 5s - loss: 1.000 - ETA: 4s - loss: 1.000 - ETA: 4s - loss: 1.000 - ETA: 3s - loss: 1.000 - ETA: 2s - loss: 1.000 - ETA: 1s - loss: 1.000 - ETA: 0s - loss: 1.000 - 14s 874ms/step - loss: 1.0004\n",
      "Epoch 5/10\n",
      "16/16 [==============================] - ETA: 6s - loss: 1.000 - ETA: 7s - loss: 1.000 - ETA: 7s - loss: 1.000 - ETA: 6s - loss: 1.000 - ETA: 6s - loss: 1.000 - ETA: 5s - loss: 1.000 - ETA: 5s - loss: 1.000 - ETA: 5s - loss: 1.000 - ETA: 4s - loss: 1.000 - ETA: 3s - loss: 1.000 - ETA: 3s - loss: 1.000 - ETA: 2s - loss: 1.000 - ETA: 2s - loss: 1.000 - ETA: 1s - loss: 1.000 - ETA: 0s - loss: 1.000 - 11s 664ms/step - loss: 1.0000\n",
      "Epoch 6/10\n",
      "16/16 [==============================] - ETA: 7s - loss: 1.002 - ETA: 6s - loss: 1.001 - ETA: 6s - loss: 1.001 - ETA: 6s - loss: 1.000 - ETA: 6s - loss: 1.000 - ETA: 6s - loss: 1.000 - ETA: 5s - loss: 1.000 - ETA: 5s - loss: 1.000 - ETA: 4s - loss: 1.000 - ETA: 4s - loss: 1.000 - ETA: 3s - loss: 1.000 - ETA: 2s - loss: 1.000 - ETA: 2s - loss: 1.000 - ETA: 1s - loss: 1.000 - ETA: 0s - loss: 1.000 - 11s 693ms/step - loss: 1.0002\n",
      "Epoch 7/10\n",
      "16/16 [==============================] - ETA: 6s - loss: 1.000 - ETA: 7s - loss: 1.000 - ETA: 7s - loss: 1.000 - ETA: 7s - loss: 1.000 - ETA: 6s - loss: 1.000 - ETA: 6s - loss: 1.000 - ETA: 6s - loss: 1.000 - ETA: 5s - loss: 1.000 - ETA: 4s - loss: 1.000 - ETA: 4s - loss: 1.000 - ETA: 3s - loss: 1.000 - ETA: 2s - loss: 1.000 - ETA: 1s - loss: 1.000 - ETA: 1s - loss: 1.000 - ETA: 0s - loss: 1.000 - 11s 658ms/step - loss: 1.0002\n",
      "Epoch 8/10\n",
      "13/16 [=======================>......] - ETA: 6s - loss: 1.000 - ETA: 6s - loss: 1.000 - ETA: 7s - loss: 1.000 - ETA: 6s - loss: 1.000 - ETA: 6s - loss: 1.000 - ETA: 8s - loss: 1.000 - ETA: 8s - loss: 1.000 - ETA: 7s - loss: 1.000 - ETA: 6s - loss: 1.000 - ETA: 5s - loss: 1.000 - ETA: 4s - loss: 1.000 - ETA: 3s - loss: 1.000 - ETA: 2s - loss: 1.0003"
     ]
    },
    {
     "name": "stderr",
     "output_type": "stream",
     "text": [
      "C:\\Users\\Thiago\\Anaconda3\\lib\\site-packages\\keras\\callbacks.py:122: UserWarning: Method on_batch_end() is slow compared to the batch update (0.421647). Check your callbacks.\n",
      "  % delta_t_median)\n"
     ]
    },
    {
     "name": "stdout",
     "output_type": "stream",
     "text": [
      "14/16 [=========================>....] - ETA: 1s - loss: 1.0003"
     ]
    },
    {
     "name": "stderr",
     "output_type": "stream",
     "text": [
      "C:\\Users\\Thiago\\Anaconda3\\lib\\site-packages\\keras\\callbacks.py:122: UserWarning: Method on_batch_end() is slow compared to the batch update (0.412512). Check your callbacks.\n",
      "  % delta_t_median)\n"
     ]
    },
    {
     "name": "stdout",
     "output_type": "stream",
     "text": [
      "16/16 [==============================] - ETA: 0s - loss: 1.000 - 16s 1s/step - loss: 1.0004\n",
      "Epoch 9/10\n",
      "16/16 [==============================] - ETA: 15s - loss: 0.99 - ETA: 14s - loss: 0.99 - ETA: 13s - loss: 1.00 - ETA: 12s - loss: 1.00 - ETA: 10s - loss: 1.00 - ETA: 8s - loss: 1.0001 - ETA: 8s - loss: 1.000 - ETA: 8s - loss: 1.000 - ETA: 7s - loss: 1.000 - ETA: 6s - loss: 1.000 - ETA: 5s - loss: 1.000 - ETA: 4s - loss: 1.000 - ETA: 3s - loss: 1.000 - ETA: 2s - loss: 1.000 - ETA: 1s - loss: 1.000 - 17s 1s/step - loss: 1.0000\n",
      "Epoch 10/10\n",
      "16/16 [==============================] - ETA: 7s - loss: 1.000 - ETA: 8s - loss: 1.000 - ETA: 8s - loss: 1.000 - ETA: 7s - loss: 1.000 - ETA: 7s - loss: 1.000 - ETA: 6s - loss: 1.000 - ETA: 5s - loss: 1.000 - ETA: 5s - loss: 1.000 - ETA: 4s - loss: 1.000 - ETA: 4s - loss: 1.000 - ETA: 3s - loss: 1.000 - ETA: 3s - loss: 1.000 - ETA: 2s - loss: 1.000 - ETA: 1s - loss: 1.000 - ETA: 0s - loss: 1.000 - 13s 837ms/step - loss: 1.0001\n",
      "Wall time: 3min 39s\n"
     ]
    }
   ],
   "source": [
    "%%time\n",
    "\n",
    "# Inspired on https://pastebin.com/TaGFdcBA\n",
    "\n",
    "keras.backend.clear_session()\n",
    "\n",
    "cnn_feature_model = cnn_model(embeddings=embedding_matrix, \n",
    "                              num_words=len(word_index) + 1, \n",
    "                              embedding_dim=EMBEDDING_DIM, \n",
    "                              max_sequence_length=MAX_SEQUENCE_LENGTH_D, \n",
    "                              trainable=False)\n",
    "\n",
    "lstm_feature_model = lstm_model(embeddings=embedding_matrix, \n",
    "                              num_words=len(word_index) + 1, \n",
    "                              embedding_dim=EMBEDDING_DIM, \n",
    "                              max_sequence_length=MAX_SEQUENCE_LENGTH_T, \n",
    "                              trainable=False)\n",
    "\n",
    "similarity_model = siamese_model(lstm_feature_model, cnn_feature_model, MAX_SEQUENCE_LENGTH_T, MAX_SEQUENCE_LENGTH_D)\n",
    "\n",
    "# cnn_feature_model.summary()\n",
    "# lstm_feature_model.summary()\n",
    "similarity_model.summary()\n",
    "\n",
    "h = similarity_model.fit_generator(train_gen, \n",
    "                               steps_per_epoch = 16,\n",
    "                               #validation_data=test_gen, # \n",
    "                                             epochs = 10,\n",
    "                                             verbose = True) # callbacks=[early]"
   ]
  },
  {
   "cell_type": "code",
   "execution_count": 316,
   "metadata": {},
   "outputs": [
    {
     "data": {
      "image/png": "[encoded data removed]",
      "text/plain": [
       "<Figure size 432x288 with 1 Axes>"
      ]
     },
     "metadata": {},
     "output_type": "display_data"
    }
   ],
   "source": [
    "loss=h.history['loss']\n",
    "\n",
    "plt.plot(loss, label='loss')\n",
    "plt.title('model loss')\n",
    "plt.ylabel('loss')\n",
    "plt.xlabel('epoch')\n",
    "plt.legend(['train'], loc='upper left')\n",
    "plt.show()"
   ]
  },
  {
   "cell_type": "markdown",
   "metadata": {},
   "source": [
    "Features from **neg** model "
   ]
  },
  {
   "cell_type": "code",
   "execution_count": 267,
   "metadata": {},
   "outputs": [
    {
     "data": {
      "image/png": "[encoded data removed]",
      "text/plain": [
       "<Figure size 720x720 with 1 Axes>"
      ]
     },
     "metadata": {},
     "output_type": "display_data"
    },
    {
     "name": "stdout",
     "output_type": "stream",
     "text": [
      "Wall time: 41.1 s\n"
     ]
    }
   ],
   "source": [
    "%%time\n",
    "display_embed_space(similarity_model, 'merge_features_neg', 1024)"
   ]
  },
  {
   "cell_type": "markdown",
   "metadata": {},
   "source": [
    "Features from **pos** model "
   ]
  },
  {
   "cell_type": "code",
   "execution_count": 266,
   "metadata": {},
   "outputs": [
    {
     "data": {
      "image/png": "[encoded data removed]",
      "text/plain": [
       "<Figure size 720x720 with 1 Axes>"
      ]
     },
     "metadata": {},
     "output_type": "display_data"
    }
   ],
   "source": [
    "%%time\n",
    "display_embed_space(similarity_model, 'merge_features_pos', 1024)"
   ]
  },
  {
   "cell_type": "markdown",
   "metadata": {},
   "source": [
    "Features from **input** model "
   ]
  },
  {
   "cell_type": "code",
   "execution_count": 254,
   "metadata": {},
   "outputs": [
    {
     "data": {
      "image/png": "[encoded data removed]",
      "text/plain": [
       "<Figure size 720x720 with 1 Axes>"
      ]
     },
     "metadata": {},
     "output_type": "display_data"
    }
   ],
   "source": [
    "%%time\n",
    "display_embed_space(similarity_model, 'merge_features_in', 1024)"
   ]
  },
  {
   "cell_type": "code",
   "execution_count": 301,
   "metadata": {},
   "outputs": [
    {
     "name": "stdout",
     "output_type": "stream",
     "text": [
      "title_in\n",
      "desc_in\n",
      "title_pos\n",
      "desc_pos\n",
      "title_neg\n",
      "desc_neg\n",
      "FeatureLstmGenerationModel\n",
      "FeatureCNNGenerationModel\n",
      "merge_features_in\n",
      "merge_features_pos\n",
      "merge_features_neg\n",
      "margin_loss_1\n"
     ]
    }
   ],
   "source": [
    "for layer in similarity_model.layers:\n",
    "    print(layer.name)"
   ]
  },
  {
   "cell_type": "code",
   "execution_count": 321,
   "metadata": {},
   "outputs": [
    {
     "name": "stdout",
     "output_type": "stream",
     "text": [
      "__________________________________________________________________________________________________\n",
      "Layer (type)                    Output Shape         Param #     Connected to                     \n",
      "==================================================================================================\n",
      "title_in (InputLayer)           (None, 100)          0                                            \n",
      "__________________________________________________________________________________________________\n",
      "desc_in (InputLayer)            (None, 100)          0                                            \n",
      "__________________________________________________________________________________________________\n",
      "title_pos (InputLayer)          (None, 100)          0                                            \n",
      "__________________________________________________________________________________________________\n",
      "desc_pos (InputLayer)           (None, 100)          0                                            \n",
      "__________________________________________________________________________________________________\n",
      "FeatureLstmGenerationModel (Mod (None, 100)          41796400    title_in[0][0]                   \n",
      "                                                                 title_pos[0][0]                  \n",
      "__________________________________________________________________________________________________\n",
      "FeatureCNNGenerationModel (Mode (None, 64)           41597104    desc_in[0][0]                    \n",
      "                                                                 desc_pos[0][0]                   \n",
      "__________________________________________________________________________________________________\n",
      "merge_features_in (Concatenate) (None, 164)          0           FeatureLstmGenerationModel[1][0] \n",
      "                                                                 FeatureCNNGenerationModel[1][0]  \n",
      "__________________________________________________________________________________________________\n",
      "merge_features_pos (Concatenate (None, 164)          0           FeatureLstmGenerationModel[2][0] \n",
      "                                                                 FeatureCNNGenerationModel[2][0]  \n",
      "__________________________________________________________________________________________________\n",
      "concatenate_2 (Concatenate)     (None, 328)          0           merge_features_in[0][0]          \n",
      "                                                                 merge_features_pos[0][0]         \n",
      "__________________________________________________________________________________________________\n",
      "dense_3 (Dense)                 (None, 64)           21056       concatenate_2[0][0]              \n",
      "__________________________________________________________________________________________________\n",
      "dense_4 (Dense)                 (None, 32)           2080        dense_3[0][0]                    \n",
      "__________________________________________________________________________________________________\n",
      "output (Dense)                  (None, 2)            66          dense_4[0][0]                    \n",
      "==================================================================================================\n",
      "Total params: 83,416,706\n",
      "Trainable params: 23,202\n",
      "Non-trainable params: 83,393,504\n",
      "__________________________________________________________________________________________________\n"
     ]
    }
   ],
   "source": [
    "## Freeze weights\n",
    "for layer in similarity_model.layers:\n",
    "    layer.trainable = False\n",
    "    \n",
    "model_in = similarity_model.get_layer('merge_features_in')\n",
    "model_pos = similarity_model.get_layer('merge_features_pos')\n",
    "x_in = model_in.output\n",
    "x_pos = model_pos.output\n",
    "x = Concatenate()([x_in, x_pos])\n",
    "x = Dense(64, activation = 'relu')(x)\n",
    "x = Dense(32, activation = 'relu')(x)\n",
    "output = Dense(2, activation = 'softmax', name = 'output')(x)\n",
    "model_clf = Model(inputs=similarity_model.input, outputs=output)\n",
    "model_clf.compile(optimizer='adam', loss='categorical_crossentropy', metrics = ['accuracy'])\n",
    "model_clf.summary()"
   ]
  },
  {
   "cell_type": "code",
   "execution_count": null,
   "metadata": {},
   "outputs": [
    {
     "name": "stdout",
     "output_type": "stream",
     "text": [
      "Epoch 1/10\n",
      "16/16 [==============================] - ETA: 3:03 - loss: 0.9303 - acc: 0.500 - ETA: 2:02 - loss: 0.8137 - acc: 0.500 - ETA: 1:38 - loss: 0.7838 - acc: 0.500 - ETA: 1:22 - loss: 0.7683 - acc: 0.500 - ETA: 1:10 - loss: 0.7571 - acc: 0.500 - ETA: 1:01 - loss: 0.7475 - acc: 0.500 - ETA: 54s - loss: 0.7399 - acc: 0.499 - ETA: 46s - loss: 0.7343 - acc: 0.49 - ETA: 39s - loss: 0.7301 - acc: 0.49 - ETA: 33s - loss: 0.7269 - acc: 0.49 - ETA: 27s - loss: 0.7238 - acc: 0.49 - ETA: 21s - loss: 0.7211 - acc: 0.50 - ETA: 16s - loss: 0.7192 - acc: 0.50 - ETA: 10s - loss: 0.7175 - acc: 0.50 - ETA: 5s - loss: 0.7158 - acc: 0.5005 - 90s 6s/step - loss: 0.7145 - acc: 0.4994 - val_loss: 0.6923 - val_acc: 0.5117\n",
      "Epoch 2/10\n",
      "16/16 [==============================] - ETA: 1:13 - loss: 0.6938 - acc: 0.498 - ETA: 1:06 - loss: 0.6941 - acc: 0.498 - ETA: 1:01 - loss: 0.6937 - acc: 0.499 - ETA: 56s - loss: 0.6935 - acc: 0.499 - ETA: 51s - loss: 0.6933 - acc: 0.50 - ETA: 47s - loss: 0.6933 - acc: 0.50 - ETA: 42s - loss: 0.6935 - acc: 0.50 - ETA: 37s - loss: 0.6934 - acc: 0.49 - ETA: 32s - loss: 0.6934 - acc: 0.50 - ETA: 28s - loss: 0.6934 - acc: 0.50 - ETA: 23s - loss: 0.6935 - acc: 0.50 - ETA: 18s - loss: 0.6935 - acc: 0.50 - ETA: 14s - loss: 0.6936 - acc: 0.49 - ETA: 9s - loss: 0.6935 - acc: 0.4978 - ETA: 4s - loss: 0.6935 - acc: 0.497 - 80s 5s/step - loss: 0.6934 - acc: 0.4971 - val_loss: 0.6921 - val_acc: 0.5059\n",
      "Epoch 3/10\n",
      "16/16 [==============================] - ETA: 1:09 - loss: 0.6934 - acc: 0.492 - ETA: 1:06 - loss: 0.6932 - acc: 0.498 - ETA: 1:01 - loss: 0.6930 - acc: 0.503 - ETA: 56s - loss: 0.6932 - acc: 0.507 - ETA: 52s - loss: 0.6933 - acc: 0.50 - ETA: 47s - loss: 0.6934 - acc: 0.50 - ETA: 42s - loss: 0.6934 - acc: 0.50 - ETA: 37s - loss: 0.6934 - acc: 0.50 - ETA: 33s - loss: 0.6932 - acc: 0.50 - ETA: 28s - loss: 0.6933 - acc: 0.50 - ETA: 23s - loss: 0.6933 - acc: 0.50 - ETA: 18s - loss: 0.6934 - acc: 0.50 - ETA: 14s - loss: 0.6933 - acc: 0.50 - ETA: 9s - loss: 0.6933 - acc: 0.5052 - ETA: 4s - loss: 0.6932 - acc: 0.504 - 82s 5s/step - loss: 0.6933 - acc: 0.5024 - val_loss: 0.6920 - val_acc: 0.5332\n",
      "Epoch 4/10\n",
      "16/16 [==============================] - ETA: 1:21 - loss: 0.6932 - acc: 0.502 - ETA: 1:16 - loss: 0.6934 - acc: 0.500 - ETA: 1:08 - loss: 0.6929 - acc: 0.505 - ETA: 1:03 - loss: 0.6930 - acc: 0.505 - ETA: 58s - loss: 0.6930 - acc: 0.508 - ETA: 52s - loss: 0.6931 - acc: 0.50 - ETA: 47s - loss: 0.6930 - acc: 0.50 - ETA: 41s - loss: 0.6931 - acc: 0.50 - ETA: 36s - loss: 0.6932 - acc: 0.49 - ETA: 31s - loss: 0.6933 - acc: 0.49 - ETA: 25s - loss: 0.6934 - acc: 0.49 - ETA: 20s - loss: 0.6935 - acc: 0.49 - ETA: 15s - loss: 0.6936 - acc: 0.49 - ETA: 10s - loss: 0.6935 - acc: 0.49 - ETA: 5s - loss: 0.6935 - acc: 0.4953 - 86s 5s/step - loss: 0.6935 - acc: 0.4962 - val_loss: 0.6920 - val_acc: 0.5352\n",
      "Epoch 5/10\n",
      "16/16 [==============================] - ETA: 1:10 - loss: 0.6931 - acc: 0.486 - ETA: 1:07 - loss: 0.6933 - acc: 0.480 - ETA: 1:02 - loss: 0.6936 - acc: 0.478 - ETA: 57s - loss: 0.6932 - acc: 0.500 - ETA: 52s - loss: 0.6930 - acc: 0.51 - ETA: 47s - loss: 0.6928 - acc: 0.51 - ETA: 42s - loss: 0.6929 - acc: 0.51 - ETA: 37s - loss: 0.6930 - acc: 0.51 - ETA: 32s - loss: 0.6930 - acc: 0.51 - ETA: 28s - loss: 0.6930 - acc: 0.50 - ETA: 23s - loss: 0.6930 - acc: 0.50 - ETA: 19s - loss: 0.6931 - acc: 0.50 - ETA: 14s - loss: 0.6931 - acc: 0.50 - ETA: 9s - loss: 0.6931 - acc: 0.5067 - ETA: 4s - loss: 0.6931 - acc: 0.504 - 81s 5s/step - loss: 0.6931 - acc: 0.5050 - val_loss: 0.6920 - val_acc: 0.5332\n",
      "Epoch 6/10\n",
      "16/16 [==============================] - ETA: 1:10 - loss: 0.6931 - acc: 0.492 - ETA: 1:05 - loss: 0.6940 - acc: 0.484 - ETA: 1:00 - loss: 0.6939 - acc: 0.489 - ETA: 56s - loss: 0.6942 - acc: 0.481 - ETA: 52s - loss: 0.6939 - acc: 0.49 - ETA: 47s - loss: 0.6937 - acc: 0.49 - ETA: 43s - loss: 0.6937 - acc: 0.49 - ETA: 38s - loss: 0.6937 - acc: 0.49 - ETA: 33s - loss: 0.6938 - acc: 0.49 - ETA: 28s - loss: 0.6937 - acc: 0.49 - ETA: 24s - loss: 0.6935 - acc: 0.49 - ETA: 19s - loss: 0.6935 - acc: 0.49 - ETA: 14s - loss: 0.6935 - acc: 0.49 - ETA: 9s - loss: 0.6934 - acc: 0.4955 - ETA: 4s - loss: 0.6934 - acc: 0.495 - 82s 5s/step - loss: 0.6935 - acc: 0.4941 - val_loss: 0.6920 - val_acc: 0.5156\n",
      "Epoch 7/10\n",
      "16/16 [==============================] - ETA: 1:12 - loss: 0.6925 - acc: 0.517 - ETA: 1:06 - loss: 0.6923 - acc: 0.513 - ETA: 1:01 - loss: 0.6925 - acc: 0.511 - ETA: 56s - loss: 0.6930 - acc: 0.506 - ETA: 51s - loss: 0.6929 - acc: 0.51 - ETA: 47s - loss: 0.6931 - acc: 0.50 - ETA: 42s - loss: 0.6932 - acc: 0.50 - ETA: 37s - loss: 0.6933 - acc: 0.50 - ETA: 32s - loss: 0.6933 - acc: 0.50 - ETA: 28s - loss: 0.6934 - acc: 0.50 - ETA: 23s - loss: 0.6933 - acc: 0.50 - ETA: 18s - loss: 0.6934 - acc: 0.50 - ETA: 14s - loss: 0.6933 - acc: 0.50 - ETA: 9s - loss: 0.6933 - acc: 0.5050 - ETA: 4s - loss: 0.6933 - acc: 0.504 - 83s 5s/step - loss: 0.6933 - acc: 0.5048 - val_loss: 0.6920 - val_acc: 0.5332\n",
      "Epoch 8/10\n",
      "16/16 [==============================] - ETA: 1:11 - loss: 0.6935 - acc: 0.511 - ETA: 1:06 - loss: 0.6930 - acc: 0.511 - ETA: 1:01 - loss: 0.6934 - acc: 0.503 - ETA: 57s - loss: 0.6933 - acc: 0.501 - ETA: 53s - loss: 0.6931 - acc: 0.50 - ETA: 48s - loss: 0.6932 - acc: 0.50 - ETA: 44s - loss: 0.6932 - acc: 0.50 - ETA: 39s - loss: 0.6933 - acc: 0.50 - ETA: 34s - loss: 0.6932 - acc: 0.50 - ETA: 29s - loss: 0.6932 - acc: 0.50 - ETA: 25s - loss: 0.6933 - acc: 0.49 - ETA: 20s - loss: 0.6933 - acc: 0.49 - ETA: 14s - loss: 0.6932 - acc: 0.49 - ETA: 9s - loss: 0.6932 - acc: 0.5027 - ETA: 4s - loss: 0.6932 - acc: 0.501 - 84s 5s/step - loss: 0.6931 - acc: 0.5015 - val_loss: 0.6920 - val_acc: 0.5273\n",
      "Epoch 9/10\n",
      "16/16 [==============================] - ETA: 1:11 - loss: 0.6937 - acc: 0.494 - ETA: 1:07 - loss: 0.6933 - acc: 0.500 - ETA: 1:04 - loss: 0.6933 - acc: 0.497 - ETA: 1:01 - loss: 0.6933 - acc: 0.506 - ETA: 57s - loss: 0.6933 - acc: 0.505 - ETA: 51s - loss: 0.6933 - acc: 0.50 - ETA: 47s - loss: 0.6934 - acc: 0.50 - ETA: 42s - loss: 0.6933 - acc: 0.50 - ETA: 36s - loss: 0.6934 - acc: 0.50 - ETA: 31s - loss: 0.6933 - acc: 0.50 - ETA: 26s - loss: 0.6933 - acc: 0.50 - ETA: 20s - loss: 0.6933 - acc: 0.50 - ETA: 15s - loss: 0.6933 - acc: 0.50 - ETA: 10s - loss: 0.6933 - acc: 0.50 - ETA: 5s - loss: 0.6934 - acc: 0.5044 - 87s 5s/step - loss: 0.6934 - acc: 0.5051 - val_loss: 0.6920 - val_acc: 0.5234\n",
      "Epoch 10/10\n",
      "15/16 [===========================>..] - ETA: 1:14 - loss: 0.6937 - acc: 0.480 - ETA: 1:09 - loss: 0.6937 - acc: 0.489 - ETA: 1:05 - loss: 0.6937 - acc: 0.485 - ETA: 1:00 - loss: 0.6937 - acc: 0.489 - ETA: 57s - loss: 0.6936 - acc: 0.490 - ETA: 53s - loss: 0.6936 - acc: 0.48 - ETA: 48s - loss: 0.6936 - acc: 0.48 - ETA: 42s - loss: 0.6935 - acc: 0.48 - ETA: 36s - loss: 0.6935 - acc: 0.49 - ETA: 31s - loss: 0.6934 - acc: 0.49 - ETA: 26s - loss: 0.6933 - acc: 0.49 - ETA: 20s - loss: 0.6933 - acc: 0.49 - ETA: 15s - loss: 0.6933 - acc: 0.49 - ETA: 10s - loss: 0.6933 - acc: 0.49 - ETA: 5s - loss: 0.6933 - acc: 0.4939 "
     ]
    }
   ],
   "source": [
    "%%time\n",
    "\n",
    "from keras.utils import to_categorical\n",
    "from sklearn.preprocessing import LabelEncoder\n",
    "\n",
    "encoder = LabelEncoder()\n",
    "\n",
    "valid_labels = encoder.fit_transform(test_gen[1])\n",
    "valid_labels = to_categorical(valid_labels)\n",
    "test_validation = (test_gen[0], valid_labels)\n",
    "\n",
    "h_clf = model_clf.fit_generator(siam_gen_classification(bug_dir, 512, 1), \n",
    "                               steps_per_epoch = 16,\n",
    "                                validation_split=0.2,\n",
    "                               #validation_data=test_validation, # \n",
    "                                             epochs = 10,\n",
    "                                             verbose = True) # callbacks=[early]"
   ]
  },
  {
   "cell_type": "code",
   "execution_count": null,
   "metadata": {},
   "outputs": [],
   "source": [
    "validation_accuracy_loss(h_clf)"
   ]
  },
  {
   "cell_type": "code",
   "execution_count": 60,
   "metadata": {},
   "outputs": [
    {
     "name": "stdout",
     "output_type": "stream",
     "text": [
      "Saved model to disk\n"
     ]
    }
   ],
   "source": [
    "name = 'baseline_10epoch_16steps_512batch(test)'\n",
    "save_model(similarity_model, name)\n",
    "save_result(h, name)"
   ]
  }
 ],
 "metadata": {
  "accelerator": "GPU",
  "colab": {
   "collapsed_sections": [],
   "name": "[baseline] Bug triage with Deep Learning.ipynb",
   "provenance": [],
   "toc_visible": true,
   "version": "0.3.2"
  },
  "kernelspec": {
   "display_name": "Python 3",
   "language": "python",
   "name": "python3"
  },
  "language_info": {
   "codemirror_mode": {
    "name": "ipython",
    "version": 3
   },
   "file_extension": ".py",
   "mimetype": "text/x-python",
   "name": "python",
   "nbconvert_exporter": "python",
   "pygments_lexer": "ipython3",
   "version": "3.6.5"
  }
 },
 "nbformat": 4,
 "nbformat_minor": 1
}
