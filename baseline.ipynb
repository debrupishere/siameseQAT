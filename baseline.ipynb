{
 "cells": [
  {
   "cell_type": "markdown",
   "metadata": {
    "colab_type": "text",
    "id": "PtdA1qs_UQP1"
   },
   "source": [
    "# Bug triage with Deep Learning"
   ]
  },
  {
   "cell_type": "code",
   "execution_count": 1,
   "metadata": {},
   "outputs": [
    {
     "name": "stderr",
     "output_type": "stream",
     "text": [
      "C:\\Users\\Thiago\\Anaconda3\\lib\\site-packages\\h5py\\__init__.py:36: FutureWarning: Conversion of the second argument of issubdtype from `float` to `np.floating` is deprecated. In future, it will be treated as `np.float64 == np.dtype(float).type`.\n",
      "  from ._conv import register_converters as _register_converters\n",
      "Using TensorFlow backend.\n"
     ]
    }
   ],
   "source": [
    "import keras\n",
    "from tensorflow.contrib.tensorboard.plugins import projector"
   ]
  },
  {
   "cell_type": "code",
   "execution_count": 2,
   "metadata": {
    "colab": {},
    "colab_type": "code",
    "id": "qnSCLmiomFE1"
   },
   "outputs": [],
   "source": [
    "from __future__ import print_function, division"
   ]
  },
  {
   "cell_type": "code",
   "execution_count": 3,
   "metadata": {
    "colab": {},
    "colab_type": "code",
    "id": "OIha-SERnD72"
   },
   "outputs": [],
   "source": [
    "import re\n",
    "import numpy as np\n",
    "import pandas as pd\n",
    "\n",
    "import os\n",
    "from tqdm import tqdm\n",
    "import matplotlib.pyplot as plt\n",
    "import sys\n",
    "nb_dir = os.path.split(os.getcwd())[0]\n",
    "if nb_dir not in sys.path:\n",
    "    sys.path.append(nb_dir)\n",
    "    \n",
    "%matplotlib inline"
   ]
  },
  {
   "cell_type": "code",
   "execution_count": 4,
   "metadata": {
    "colab": {
     "base_uri": "https://localhost:8080/",
     "height": 34
    },
    "colab_type": "code",
    "id": "c57gQiuAnJAe",
    "outputId": "9eaf2d3f-619a-492d-f40b-6ba2c48426fa"
   },
   "outputs": [],
   "source": [
    "from keras.layers import Conv1D, Input, Add, Activation, Dropout, Embedding, MaxPooling1D, GlobalMaxPool1D, Flatten, Dense, Concatenate, BatchNormalization\n",
    "from keras.models import Sequential, Model\n",
    "from keras.regularizers import l2\n",
    "from keras.initializers import TruncatedNormal\n",
    "from keras.layers.advanced_activations import LeakyReLU, ELU\n",
    "from keras import optimizers"
   ]
  },
  {
   "cell_type": "code",
   "execution_count": 5,
   "metadata": {},
   "outputs": [],
   "source": [
    "from methods.baseline import Baseline"
   ]
  },
  {
   "cell_type": "markdown",
   "metadata": {
    "colab_type": "text",
    "id": "3VUZ6oG1gb91"
   },
   "source": [
    "## Auxiliary methods"
   ]
  },
  {
   "cell_type": "markdown",
   "metadata": {
    "colab_type": "text",
    "id": "19Oo5yKCrXYG"
   },
   "source": [
    "## Dataset bugs"
   ]
  },
  {
   "cell_type": "code",
   "execution_count": 6,
   "metadata": {
    "colab": {
     "base_uri": "https://localhost:8080/",
     "height": 122
    },
    "colab_type": "code",
    "id": "CxFKGhm9repF",
    "outputId": "d78a02ef-882f-4202-d1ea-7d709171b992"
   },
   "outputs": [],
   "source": [
    "#from google.colab import drive\n",
    "#drive.mount('/content/drive')"
   ]
  },
  {
   "cell_type": "markdown",
   "metadata": {
    "colab_type": "text",
    "id": "8uQou7m2-bFO"
   },
   "source": [
    "## Configurações Globais"
   ]
  },
  {
   "cell_type": "code",
   "execution_count": 6,
   "metadata": {
    "colab": {},
    "colab_type": "code",
    "id": "G-Kn3x_K-aZj"
   },
   "outputs": [],
   "source": [
    "MAX_SEQUENCE_LENGTH_T = 100 # 40\n",
    "MAX_SEQUENCE_LENGTH_D = 100 # 200\n",
    "EMBEDDING_DIM = 300\n",
    "MAX_NB_WORDS = 2000"
   ]
  },
  {
   "cell_type": "markdown",
   "metadata": {},
   "source": [
    "### Parse bugs preproprecessed"
   ]
  },
  {
   "cell_type": "code",
   "execution_count": 7,
   "metadata": {},
   "outputs": [],
   "source": [
    "DIR = 'data/processed/eclipse'\n",
    "DIR_PAIRS = 'data/normalized/eclipse'"
   ]
  },
  {
   "cell_type": "code",
   "execution_count": 8,
   "metadata": {},
   "outputs": [],
   "source": [
    "df_train_pair = pd.read_csv(os.path.join(DIR_PAIRS, 'eclipse_pairs.csv'))\n",
    "baseline = Baseline(DIR, MAX_SEQUENCE_LENGTH_T, MAX_SEQUENCE_LENGTH_D)"
   ]
  },
  {
   "cell_type": "code",
   "execution_count": 9,
   "metadata": {},
   "outputs": [],
   "source": [
    "baseline.load_ids(DIR)"
   ]
  },
  {
   "cell_type": "code",
   "execution_count": 10,
   "metadata": {},
   "outputs": [
    {
     "data": {
      "text/plain": [
       "212512"
      ]
     },
     "execution_count": 10,
     "metadata": {},
     "output_type": "execute_result"
    }
   ],
   "source": [
    "len(baseline.bug_ids)"
   ]
  },
  {
   "cell_type": "markdown",
   "metadata": {
    "colab_type": "text",
    "id": "vqzt5EKzqzcI"
   },
   "source": [
    "### Dicionário de títulos e descrições"
   ]
  },
  {
   "cell_type": "code",
   "execution_count": 11,
   "metadata": {
    "scrolled": false
   },
   "outputs": [
    {
     "name": "stderr",
     "output_type": "stream",
     "text": [
      "100%|█████████████████████████████████| 212512/212512 [19:15<00:00, 183.86it/s]\n"
     ]
    },
    {
     "name": "stdout",
     "output_type": "stream",
     "text": [
      "Wall time: 19min 15s\n"
     ]
    }
   ],
   "source": [
    "%%time\n",
    "\n",
    "baseline.load_preprocess()"
   ]
  },
  {
   "cell_type": "code",
   "execution_count": 12,
   "metadata": {
    "colab": {
     "base_uri": "https://localhost:8080/",
     "height": 34
    },
    "colab_type": "code",
    "id": "8RdOXdw8q6rN",
    "outputId": "d98e260f-d633-44db-d1ff-50f0a2ae7cd5",
    "scrolled": true
   },
   "outputs": [
    {
     "data": {
      "text/plain": [
       "242718"
      ]
     },
     "execution_count": 12,
     "metadata": {},
     "output_type": "execute_result"
    }
   ],
   "source": [
    "len(baseline.sentence_dict)"
   ]
  },
  {
   "cell_type": "markdown",
   "metadata": {
    "colab_type": "text",
    "id": "J0WZNngemNM8"
   },
   "source": [
    "## Geração de batches"
   ]
  },
  {
   "cell_type": "markdown",
   "metadata": {
    "colab_type": "text",
    "id": "a6Obtop6UIVD"
   },
   "source": [
    "### Generating tiple of batches"
   ]
  },
  {
   "cell_type": "code",
   "execution_count": 13,
   "metadata": {
    "colab": {},
    "colab_type": "code",
    "id": "vvyMGBD4IhB-"
   },
   "outputs": [
    {
     "name": "stdout",
     "output_type": "stream",
     "text": [
      "Reading train data\n",
      "Wall time: 1.17 s\n"
     ]
    }
   ],
   "source": [
    "%%time\n",
    "\n",
    "bug_dir = os.path.join(DIR)\n",
    "baseline.prepare_dataset(bug_dir)"
   ]
  },
  {
   "cell_type": "code",
   "execution_count": 14,
   "metadata": {
    "scrolled": true
   },
   "outputs": [
    {
     "name": "stderr",
     "output_type": "stream",
     "text": [
      "100%|█████████████████████████████████| 212512/212512 [04:58<00:00, 711.91it/s]\n"
     ]
    }
   ],
   "source": [
    "baseline.load_bugs()"
   ]
  },
  {
   "cell_type": "code",
   "execution_count": 15,
   "metadata": {
    "colab": {
     "base_uri": "https://localhost:8080/",
     "height": 51
    },
    "colab_type": "code",
    "id": "PA5CIhgz7odW",
    "outputId": "ae98fdec-1d54-4b1f-ee0e-4c5633802a18",
    "scrolled": true
   },
   "outputs": [
    {
     "name": "stdout",
     "output_type": "stream",
     "text": [
      "Wall time: 148 ms\n"
     ]
    }
   ],
   "source": [
    "%%time\n",
    "\n",
    "batch_size = 512\n",
    "batch_size_test = 512\n",
    "\n",
    "# we want a constant validation group to have a frame of reference for model performance\n",
    "train_gen = baseline.siam_gen(bug_dir, batch_size, 1)\n",
    "valid_input_sample, valid_input_pos, valid_input_neg, valid_sim = baseline.batch_iterator(bug_dir, batch_size_test, 1)\n",
    "test_gen = ([valid_input_sample['title'], valid_input_pos['title'], valid_input_neg['title'], \n",
    "             valid_input_sample['description'], valid_input_pos['description'], valid_input_neg['description']], valid_sim)"
   ]
  },
  {
   "cell_type": "code",
   "execution_count": 16,
   "metadata": {},
   "outputs": [
    {
     "data": {
      "text/plain": [
       "((512, 100), (512, 100), (512,))"
      ]
     },
     "execution_count": 16,
     "metadata": {},
     "output_type": "execute_result"
    }
   ],
   "source": [
    "valid_input_sample['title'].shape, valid_input_sample['description'].shape, valid_sim.shape"
   ]
  },
  {
   "cell_type": "markdown",
   "metadata": {
    "colab_type": "text",
    "id": "24mY22BGnkqp"
   },
   "source": [
    "### Validar entrada"
   ]
  },
  {
   "cell_type": "code",
   "execution_count": 17,
   "metadata": {
    "colab": {
     "base_uri": "https://localhost:8080/",
     "height": 796
    },
    "colab_type": "code",
    "id": "OhTbr3a5nmrh",
    "outputId": "a2d73e0f-e9ce-4d12-a5c8-f0008d2402d0",
    "scrolled": true
   },
   "outputs": [
    {
     "name": "stdout",
     "output_type": "stream",
     "text": [
      "Title: \n",
      "following \n",
      "Title: \n",
      "the restor\n",
      "Description: \n",
      "following exception occurs while creating a new task to a trac repository right after pressing the create new button of the trac task editor org eclipse swt swtexception invalid thread access at org eclipse swt swt error swt java number at org eclipse swt swt error swt java number at org eclipse swt swt error swt java number at org eclipse swt widgets widget error widget java number at org eclipse swt widgets widget check widget widget java number at org eclipse swt custom ccombo get selection index ccombo java number at org eclipse mylar internal tasks ui editors abstract new repository task editor get category abstract new repository task editor java number at org eclipse mylar internal trac ui editor new trac task editor access number new trac task editor java number at org eclipse mylar internal trac ui editor new trac task editor number run new trac task editor java number at org eclipse core internal jobs worker run worker java number there seems to be a bunch of these exceptions already fixed but someone else than me may be better at relating this case to those\n",
      "Description: \n",
      "the incoming indicator shows which reports have changed bug there is no way to tell what has changed in the reports since it was last viewed we should highlight the newly added comments and expand them all by default\n",
      "similar = 1\n",
      "########################\n",
      "Title: \n",
      "created at\n",
      "Title: \n",
      "build id i\n",
      "Description: \n",
      "created attachment number call chain for null pointer exception i created a local task some weeks ago and added a finish date for the last week i did not update the finish date and today i wanted to open the task to go on working the context opens correct during activation but the editor throws an null pointer exception it is just an assumption that this error is connected to the elapsed estimated finished date the exception is attached as editor npe txt a workaround is to clone the task to get the information of the task but not the context florian\n",
      "Description: \n",
      "build id inumber steps to reproduce number task due a week ago number more information java lang null pointer exception at org eclipse mylyn internal tasks core date range is week after next date range java number at org eclipse mylyn internal tasks core date range to string date range java number at org eclipse mylyn internal tasks ui schedule date picker update date text schedule date picker java number at org eclipse mylyn internal tasks ui schedule date picker initialize schedule date picker java number at org eclipse mylyn internal tasks ui schedule date picker init schedule date picker java number at org eclipse mylyn internal tasks ui editors task planning editor create planning section task planning editor java number at org eclipse mylyn internal tasks ui editors task planning editor create form content task planning editor java number at org eclipse ui forms editor form page number run form page java number at org eclipse swt custom busy indicator show while busy indicator java number at org eclipse ui forms editor form page create part control form page java number at org eclipse ui forms editor form editor page change form editor java number at org eclipse ui part multi page editor part set active page multi page editor part java number at org eclipse ui forms editor form editor set active page form editor java number at org eclipse ui forms editor shared header form editor create pages shared header form editor java number at org eclipse ui part multi page editor part create part control multi page editor part java number at org eclipse ui internal editor reference create part helper editor reference java number at org eclipse ui internal editor reference create part editor reference java number at org eclipse ui internal workbench part reference get part workbench part reference java number at org eclipse ui internal editor reference get editor editor reference java number at org eclipse ui internal workbench page busy open editor batched workbench page java number at org eclipse ui internal workbench page busy open editor workbench page java number at org eclipse ui internal workbench page access number workbench page java number at org eclipse ui internal workbench page number run workbench page java number at org eclipse swt custom busy indicator show while busy indicator java number at org eclipse ui internal workbench page open editor workbench page java number at org eclipse ui internal workbench page open editor workbench page java number at org eclipse ui internal workbench page open editor workbench page java number at org eclipse mylyn tasks ui tasks ui util open editor tasks ui util java number at org eclipse mylyn tasks ui tasks ui util open task tasks ui util java number at org eclipse mylyn internal tasks ui util tasks ui internal refresh and open task list element tasks ui internal java number at org eclipse mylyn internal tasks ui actions open task list element action run with event open task list element action java number at org eclipse mylyn internal tasks ui actions open task list element action run open task list element action java number at org eclipse mylyn internal tasks ui views task list view number open task list view java number at org eclipse jface viewers structured viewer number run structured viewer java number at org eclipse core runtime safe runner run safe runner java number at org eclipse core runtime platform run platform java number at org eclipse ui internal jface util number run jface util java number at org eclipse jface util safe runnable run safe runnable java number at org eclipse jface viewers structured viewer fire open structured viewer java number at org eclipse jface viewers structured viewer handle open structured viewer java number at org eclipse jface viewers structured viewer number handle open structured viewer java number at org eclipse jface util open strategy fire open event open strategy java number at org eclipse jface util open strategy access number open strategy java number at org eclipse jface util open strategy number handle event open strategy java number at org eclipse swt widgets event table send event event table java number at org eclipse swt widgets widget send event widget java number at org eclipse swt widgets display run deferred events display java number at org eclipse swt widgets display read and dispatch display java number at org eclipse ui internal workbench run event loop workbench java number at org eclipse ui internal workbench run ui workbench java number at org eclipse ui internal workbench access number workbench java number at org eclipse ui internal workbench number run workbench java number at org eclipse core databinding observable realm run with default realm java number at org eclipse ui internal workbench create and run workbench workbench java number at org eclipse ui platform ui create and run workbench platform ui java number at org eclipse ui internal ide application ideapplication start ideapplication java number at org eclipse equinox internal app eclipse app handle run eclipse app handle java number at org eclipse core runtime internal adaptor eclipse app launcher run application eclipse app launcher java number at org eclipse core runtime internal adaptor eclipse app launcher start eclipse app launcher java number at org eclipse core runtime adaptor eclipse starter run eclipse starter java number at org eclipse core runtime adaptor eclipse starter run eclipse starter java number at sun reflect native method accessor impl invokenumber native method at sun reflect native method accessor impl invoke native method accessor impl java number at sun reflect delegating method accessor impl invoke delegating method accessor impl java number at java lang reflect method invoke method java number at org eclipse equinox launcher main invoke framework main java number at org eclipse equinox launcher main basic run main java number at org eclipse equinox launcher main run main java number\n",
      "similar = 1\n",
      "########################\n",
      "Title: \n",
      "build numb\n",
      "Title: \n",
      "number mnu\n",
      "Description: \n"
     ]
    },
    {
     "name": "stdout",
     "output_type": "stream",
     "text": [
      "build inumber the delete key has no effect in text fields in any dialogs i ve seen this in the cvs commit comment prompt the password prompt and the refactor rename prompt\n",
      "Description: \n",
      "number mnu\n",
      "similar = 0\n",
      "########################\n",
      "Title: \n",
      "test cases\n",
      "Title: \n",
      "i get this\n",
      "Description: \n",
      "test cases need to be ported to junit v number from current v number additionally it should be specified whether a test is client side or server side each test must have its specific text xml file with defined test classes conforming to the releng standard\n",
      "Description: \n",
      "i get this\n",
      "similar = 0\n",
      "########################\n",
      "Wall time: 191 ms\n"
     ]
    }
   ],
   "source": [
    "%%time \n",
    "\n",
    "baseline.display_batch(bug_dir, 5)"
   ]
  },
  {
   "cell_type": "markdown",
   "metadata": {
    "colab_type": "text",
    "id": "XPrsLs4Kg4Pa"
   },
   "source": [
    "## Pre-trained embeddings\n",
    "\n",
    "Loading pretrained word vectors"
   ]
  },
  {
   "cell_type": "markdown",
   "metadata": {
    "colab_type": "text",
    "id": "6p9eE5TWoH7p"
   },
   "source": [
    "### Glove"
   ]
  },
  {
   "cell_type": "code",
   "execution_count": 18,
   "metadata": {
    "colab": {
     "base_uri": "https://localhost:8080/",
     "height": 85
    },
    "colab_type": "code",
    "id": "QY-ef3OGoIiq",
    "outputId": "55f4c93c-98bb-4bac-92f2-76bd3b777605"
   },
   "outputs": [
    {
     "name": "stderr",
     "output_type": "stream",
     "text": [
      "1917494it [07:52, 4056.51it/s] \n"
     ]
    },
    {
     "name": "stdout",
     "output_type": "stream",
     "text": [
      "Total 1917494 word vectors in Glove 42B 300d.\n",
      "Found 154042 unique tokens.\n"
     ]
    },
    {
     "name": "stderr",
     "output_type": "stream",
     "text": [
      "100%|██████████████████████████████| 154042/154042 [00:00<00:00, 328915.37it/s]\n"
     ]
    },
    {
     "name": "stdout",
     "output_type": "stream",
     "text": [
      "Wall time: 10min 8s\n"
     ]
    }
   ],
   "source": [
    "%%time\n",
    "\n",
    "baseline.generating_embed(GLOVE_DIR='data/embed', EMBEDDING_DIM=EMBEDDING_DIM, MAX_NB_WORDS=MAX_NB_WORDS)"
   ]
  },
  {
   "cell_type": "markdown",
   "metadata": {
    "colab_type": "text",
    "id": "Lev5Y7oaFQBd"
   },
   "source": [
    "## Towards Accurate Duplicate Bug Retrieval Using Deep Learning Techniques\n",
    "\n",
    "https://github.com/tqtg/DuplicateBugFinder"
   ]
  },
  {
   "cell_type": "markdown",
   "metadata": {
    "colab_type": "text",
    "id": "sI074wU4Y13y"
   },
   "source": [
    "### CNN with filter 3,4,5"
   ]
  },
  {
   "cell_type": "code",
   "execution_count": 19,
   "metadata": {
    "colab": {
     "base_uri": "https://localhost:8080/",
     "height": 493
    },
    "colab_type": "code",
    "id": "h6YJU9GtFTyq",
    "outputId": "f85cf105-1fd6-491d-d969-7e6936f32739",
    "scrolled": false
   },
   "outputs": [],
   "source": [
    "import keras\n",
    "from keras.layers import GlobalMaxPooling1D \n",
    "\n",
    "keras.backend.clear_session()\n",
    "\n",
    "def cnn_model(embeddings, num_words, embedding_dim, max_sequence_length, trainable):\n",
    "\n",
    "  embedding_layer = Embedding(num_words,\n",
    "                              embedding_dim,\n",
    "                              weights=[embeddings],\n",
    "                              input_length=max_sequence_length,\n",
    "                              trainable=trainable)\n",
    "\n",
    "  sequence_input = Input(shape=(max_sequence_length,), name='Feature_BugInput')\n",
    "  embedded_sequences = embedding_layer(sequence_input)\n",
    "\n",
    "  # Yoon Kim model (https://arxiv.org/abs/1408.5882)\n",
    "  convs = []\n",
    "  filter_sizes = [3,4,5]\n",
    "\n",
    "  for filter_size in filter_sizes:\n",
    "      l_conv = Conv1D(filters=32, kernel_size=filter_size, activation='relu')(embedded_sequences)\n",
    "      l_pool = MaxPooling1D(pool_size=3)(l_conv)\n",
    "      convs.append(l_pool)\n",
    "\n",
    "  # l_merge = Merge(mode='concat', concat_axis=1)(convs)\n",
    "\n",
    "  l_merge = Concatenate(axis=1)(convs)\n",
    "\n",
    "  # add a 1D convnet with global maxpooling, instead of Yoon Kim model\n",
    "  conv = Conv1D(filters=64, kernel_size=3, activation='relu')(l_merge)\n",
    "  layer = GlobalMaxPooling1D()(conv) # pool_size=3\n",
    "  # Original Yoon Kim model\n",
    "  #x = Flatten()(pool)\n",
    "  #x = Dropout(0.5)(x)\n",
    "  #layer = Activation('relu')(pool)\n",
    "\n",
    "  cnn_feature_model = Model(inputs=[sequence_input], outputs=[layer], name = 'FeatureCNNGenerationModel') # inputs=visible\n",
    "  \n",
    "  return cnn_feature_model"
   ]
  },
  {
   "cell_type": "markdown",
   "metadata": {
    "colab_type": "text",
    "id": "wr6ObTXiaALH"
   },
   "source": [
    "### Bi-LSTM"
   ]
  },
  {
   "cell_type": "code",
   "execution_count": 20,
   "metadata": {
    "colab": {
     "base_uri": "https://localhost:8080/",
     "height": 306
    },
    "colab_type": "code",
    "id": "vC7MQXEsaCeG",
    "outputId": "65e647a9-c5d3-4009-b8a4-2e2d97b52684"
   },
   "outputs": [],
   "source": [
    "from keras.layers import Dense, Input, LSTM, Dropout, Bidirectional\n",
    "\n",
    "def lstm_model(embeddings, num_words, embedding_dim, max_sequence_length, trainable):\n",
    "  number_lstm_units = 100\n",
    "  rate_drop_lstm = 0\n",
    "  recurrent_dropout = 0\n",
    "\n",
    "  embedding_layer = Embedding(num_words,\n",
    "                          embedding_dim,\n",
    "                          weights=[embeddings],\n",
    "                          input_length=max_sequence_length,\n",
    "                          trainable=trainable)\n",
    "\n",
    "  sequence_input = Input(shape=(max_sequence_length, ), name='Feature_BugInput')\n",
    "  embedded_sequences = embedding_layer(sequence_input)\n",
    "\n",
    "   # Creating LSTM Encoder\n",
    "  lstm_layer = Bidirectional(LSTM(number_lstm_units, dropout=rate_drop_lstm, recurrent_dropout=rate_drop_lstm), merge_mode='sum')\n",
    "\n",
    "  layer = lstm_layer(embedded_sequences)\n",
    "\n",
    "  #layer = Activation('relu')(x)\n",
    "\n",
    "  lstm_feature_model = Model(inputs=[sequence_input], outputs=[layer], name = 'FeatureLstmGenerationModel') # inputs=visible\n",
    "  \n",
    "  return lstm_feature_model"
   ]
  },
  {
   "cell_type": "markdown",
   "metadata": {
    "colab_type": "text",
    "id": "TEedCg5AaTf2"
   },
   "source": [
    "### Siamese model"
   ]
  },
  {
   "cell_type": "code",
   "execution_count": 21,
   "metadata": {
    "colab": {
     "base_uri": "https://localhost:8080/",
     "height": 561
    },
    "colab_type": "code",
    "id": "VWBkSIYVaXyP",
    "outputId": "ed2a3d37-b8ec-4960-ef45-2909a87c8fa5"
   },
   "outputs": [],
   "source": [
    "from keras import backend as K\n",
    "import tensorflow as tf\n",
    "\n",
    "def l2_normalize(x, axis):\n",
    "    norm = K.sqrt(K.sum(K.square(x), axis=axis, keepdims=True))\n",
    "    return K.maximum(x, K.epsilon()) / K.maximum(norm, K.epsilon())\n",
    "\n",
    "# https://github.com/keras-team/keras/issues/3031\n",
    "# https://github.com/keras-team/keras/issues/8335\n",
    "def cosine_distance(inputs):\n",
    "    x, y = inputs\n",
    "    x = l2_normalize(x, axis=-1)\n",
    "    y = l2_normalize(y, axis=-1)\n",
    "    similarity = K.batch_dot(x, y, axes=1)\n",
    "    distance = K.constant(1) - similarity\n",
    "    # Distance goes from 0 to 2 in theory, but from 0 to 1 if x and y are both\n",
    "    # positive (which is the case after ReLU activation).\n",
    "    return K.mean(distance, axis=-1)\n",
    "\n",
    "def margin_loss(y_true, y_pred):\n",
    "    margin = K.constant(1.0)\n",
    "    return K.mean(K.maximum(0.0, margin - y_pred[0] + y_pred[1]))\n",
    "\n",
    "def pos_distance(y_true, y_pred):\n",
    "    return K.mean(y_pred[0])\n",
    "\n",
    "def neg_distance(y_true, y_pred):\n",
    "    return K.mean(y_pred[1])\n",
    "\n",
    "def stack_tensors(vects):\n",
    "    return K.squeeze(K.stack(vects),axis=1) # stack adds a new dim. So squeeze it\n",
    "    # better method is to use concatenate\n",
    "    return K.concatenate(vects,axis=1)"
   ]
  },
  {
   "cell_type": "code",
   "execution_count": 22,
   "metadata": {},
   "outputs": [],
   "source": [
    "from keras.layers import concatenate, Add, Lambda, merge\n",
    "from keras.optimizers import Adam\n",
    "\n",
    "def siamese_model(lstm_feature_model, cnn_feature_model, max_sequence_length_t, max_sequence_length_d):\n",
    "  \n",
    "    bug_t_in = Input(shape = (max_sequence_length_t, ), name = 'title_in')\n",
    "    bug_t_pos = Input(shape = (max_sequence_length_t, ), name = 'title_pos')\n",
    "    bug_t_neg = Input(shape = (max_sequence_length_t, ), name = 'title_neg')\n",
    "\n",
    "    bug_d_in = Input(shape = (max_sequence_length_d, ), name = 'desc_in')\n",
    "    bug_d_pos = Input(shape = (max_sequence_length_d, ), name = 'desc_pos')\n",
    "    bug_d_neg = Input(shape = (max_sequence_length_d, ), name = 'desc_neg')\n",
    "\n",
    "    bug_t_in_feat_lstm = lstm_feature_model(bug_t_in)\n",
    "    bug_t_pos_feat_lstm = lstm_feature_model(bug_t_pos)\n",
    "    bug_t_neg_feat_lstm = lstm_feature_model(bug_t_neg)\n",
    "\n",
    "    bug_d_in_feat_cnn = cnn_feature_model(bug_d_in)\n",
    "    bug_d_pos_feat_cnn = cnn_feature_model(bug_d_pos)\n",
    "    bug_d_neg_feat_cnn = cnn_feature_model(bug_d_neg)\n",
    "\n",
    "    encoded_anchor = concatenate([bug_t_in_feat_lstm, bug_d_in_feat_cnn], name = 'merge_features_in')\n",
    "    encoded_positive = concatenate([bug_t_pos_feat_lstm, bug_d_pos_feat_cnn], name = 'merge_features_pos')\n",
    "    encoded_negative = concatenate([bug_t_neg_feat_lstm, bug_d_neg_feat_cnn], name = 'merge_features_neg')\n",
    "\n",
    "    positive_d = Lambda(cosine_distance)([encoded_anchor, encoded_positive])\n",
    "    negative_d = Lambda(cosine_distance)([encoded_anchor, encoded_negative])\n",
    "    \n",
    "    # Loss function only works with a single output\n",
    "    output = Lambda(\n",
    "        lambda vects: K.stack(vects),\n",
    "        name='stack-distances',\n",
    "    )([positive_d, negative_d])\n",
    "  \n",
    "    similarity_model = Model(inputs = [bug_t_in, bug_t_pos, bug_t_neg, bug_d_in, bug_d_pos, bug_d_neg], \n",
    "                           outputs = output, name = 'Similarity_Model')\n",
    "\n",
    "    # setup the optimization process \n",
    "    similarity_model.compile(optimizer='adam', loss=margin_loss, metrics=[pos_distance, neg_distance]) # 'categorical_crossentropy' \n",
    "\n",
    "    return similarity_model"
   ]
  },
  {
   "cell_type": "markdown",
   "metadata": {},
   "source": [
    "## Experiment"
   ]
  },
  {
   "cell_type": "code",
   "execution_count": null,
   "metadata": {
    "scrolled": true
   },
   "outputs": [
    {
     "name": "stdout",
     "output_type": "stream",
     "text": [
      "__________________________________________________________________________________________________\n",
      "Layer (type)                    Output Shape         Param #     Connected to                     \n",
      "==================================================================================================\n",
      "title_in (InputLayer)           (None, 100)          0                                            \n",
      "__________________________________________________________________________________________________\n",
      "desc_in (InputLayer)            (None, 100)          0                                            \n",
      "__________________________________________________________________________________________________\n",
      "title_pos (InputLayer)          (None, 100)          0                                            \n",
      "__________________________________________________________________________________________________\n",
      "desc_pos (InputLayer)           (None, 100)          0                                            \n",
      "__________________________________________________________________________________________________\n",
      "title_neg (InputLayer)          (None, 100)          0                                            \n",
      "__________________________________________________________________________________________________\n",
      "desc_neg (InputLayer)           (None, 100)          0                                            \n",
      "__________________________________________________________________________________________________\n",
      "FeatureLstmGenerationModel (Mod (None, 100)          46533700    title_in[0][0]                   \n",
      "                                                                 title_pos[0][0]                  \n",
      "                                                                 title_neg[0][0]                  \n",
      "__________________________________________________________________________________________________\n",
      "FeatureCNNGenerationModel (Mode (None, 64)           46334404    desc_in[0][0]                    \n",
      "                                                                 desc_pos[0][0]                   \n",
      "                                                                 desc_neg[0][0]                   \n",
      "__________________________________________________________________________________________________\n",
      "merge_features_in (Concatenate) (None, 164)          0           FeatureLstmGenerationModel[1][0] \n",
      "                                                                 FeatureCNNGenerationModel[1][0]  \n",
      "__________________________________________________________________________________________________\n",
      "merge_features_pos (Concatenate (None, 164)          0           FeatureLstmGenerationModel[2][0] \n",
      "                                                                 FeatureCNNGenerationModel[2][0]  \n",
      "__________________________________________________________________________________________________\n",
      "merge_features_neg (Concatenate (None, 164)          0           FeatureLstmGenerationModel[3][0] \n",
      "                                                                 FeatureCNNGenerationModel[3][0]  \n",
      "__________________________________________________________________________________________________\n",
      "lambda_1 (Lambda)               (None,)              0           merge_features_in[0][0]          \n",
      "                                                                 merge_features_pos[0][0]         \n",
      "__________________________________________________________________________________________________\n",
      "lambda_2 (Lambda)               (None,)              0           merge_features_in[0][0]          \n",
      "                                                                 merge_features_neg[0][0]         \n",
      "__________________________________________________________________________________________________\n",
      "stack-distances (Lambda)        (2, None)            0           lambda_1[0][0]                   \n",
      "                                                                 lambda_2[0][0]                   \n",
      "==================================================================================================\n",
      "Total params: 92,868,104\n",
      "Trainable params: 442,304\n",
      "Non-trainable params: 92,425,800\n",
      "__________________________________________________________________________________________________\n",
      "Epoch 1/1000\n",
      "10/10 [==============================] - ETA: 8:20 - loss: 1.0046 - pos_distance: 0.1294 - neg_distance: 0.134 - ETA: 4:43 - loss: 1.0031 - pos_distance: 0.0925 - neg_distance: 0.095 - ETA: 3:29 - loss: 1.0024 - pos_distance: 0.0729 - neg_distance: 0.075 - ETA: 2:36 - loss: 1.0019 - pos_distance: 0.0611 - neg_distance: 0.063 - ETA: 2:04 - loss: 1.0016 - pos_distance: 0.0533 - neg_distance: 0.054 - ETA: 1:37 - loss: 1.0013 - pos_distance: 0.0478 - neg_distance: 0.049 - ETA: 1:10 - loss: 1.0012 - pos_distance: 0.0438 - neg_distance: 0.045 - ETA: 45s - loss: 1.0010 - pos_distance: 0.0408 - neg_distance: 0.041 - ETA: 22s - loss: 1.0009 - pos_distance: 0.0386 - neg_distance: 0.03 - 218s 22s/step - loss: 1.0008 - pos_distance: 0.0369 - neg_distance: 0.0376\n",
      "Epoch 2/1000\n",
      "10/10 [==============================] - ETA: 2:30 - loss: 0.9998 - pos_distance: 0.0229 - neg_distance: 0.022 - ETA: 2:17 - loss: 0.9997 - pos_distance: 0.0237 - neg_distance: 0.023 - ETA: 2:03 - loss: 0.9997 - pos_distance: 0.0246 - neg_distance: 0.024 - ETA: 1:45 - loss: 0.9996 - pos_distance: 0.0257 - neg_distance: 0.025 - ETA: 1:28 - loss: 0.9996 - pos_distance: 0.0271 - neg_distance: 0.026 - ETA: 1:11 - loss: 0.9995 - pos_distance: 0.0288 - neg_distance: 0.028 - ETA: 54s - loss: 0.9994 - pos_distance: 0.0309 - neg_distance: 0.030 - ETA: 36s - loss: 0.9993 - pos_distance: 0.0330 - neg_distance: 0.03 - ETA: 18s - loss: 0.9993 - pos_distance: 0.0352 - neg_distance: 0.03 - 183s 18s/step - loss: 0.9992 - pos_distance: 0.0385 - neg_distance: 0.0377\n",
      "Epoch 3/1000\n",
      "10/10 [==============================] - ETA: 2:49 - loss: 0.9973 - pos_distance: 0.0905 - neg_distance: 0.087 - ETA: 2:30 - loss: 0.9967 - pos_distance: 0.1013 - neg_distance: 0.098 - ETA: 2:13 - loss: 0.9961 - pos_distance: 0.1134 - neg_distance: 0.109 - ETA: 1:55 - loss: 0.9959 - pos_distance: 0.1284 - neg_distance: 0.124 - ETA: 1:36 - loss: 0.9956 - pos_distance: 0.1476 - neg_distance: 0.143 - ETA: 1:17 - loss: 0.9942 - pos_distance: 0.1647 - neg_distance: 0.158 - ETA: 58s - loss: 0.9943 - pos_distance: 0.1880 - neg_distance: 0.182 - ETA: 39s - loss: 0.9935 - pos_distance: 0.2114 - neg_distance: 0.20 - ETA: 19s - loss: 0.9918 - pos_distance: 0.2353 - neg_distance: 0.22 - 197s 20s/step - loss: 0.9908 - pos_distance: 0.2583 - neg_distance: 0.2491\n",
      "Epoch 4/1000\n",
      "10/10 [==============================] - ETA: 3:23 - loss: 0.9817 - pos_distance: 0.4704 - neg_distance: 0.452 - ETA: 3:02 - loss: 0.9773 - pos_distance: 0.4756 - neg_distance: 0.452 - ETA: 2:36 - loss: 0.9809 - pos_distance: 0.4661 - neg_distance: 0.447 - ETA: 2:12 - loss: 0.9797 - pos_distance: 0.4487 - neg_distance: 0.428 - ETA: 1:50 - loss: 0.9774 - pos_distance: 0.4370 - neg_distance: 0.414 - ETA: 1:27 - loss: 0.9743 - pos_distance: 0.4432 - neg_distance: 0.417 - ETA: 1:05 - loss: 0.9739 - pos_distance: 0.4599 - neg_distance: 0.433 - ETA: 43s - loss: 0.9765 - pos_distance: 0.4741 - neg_distance: 0.450 - ETA: 21s - loss: 0.9772 - pos_distance: 0.4737 - neg_distance: 0.45 - 220s 22s/step - loss: 0.9764 - pos_distance: 0.4611 - neg_distance: 0.4375\n",
      "Epoch 5/1000\n",
      "10/10 [==============================] - ETA: 3:28 - loss: 0.9833 - pos_distance: 0.2782 - neg_distance: 0.261 - ETA: 3:03 - loss: 0.9832 - pos_distance: 0.2725 - neg_distance: 0.255 - ETA: 2:38 - loss: 0.9818 - pos_distance: 0.2798 - neg_distance: 0.261 - ETA: 2:17 - loss: 0.9781 - pos_distance: 0.2984 - neg_distance: 0.276 - ETA: 1:57 - loss: 0.9782 - pos_distance: 0.3228 - neg_distance: 0.301 - ETA: 1:32 - loss: 0.9771 - pos_distance: 0.3469 - neg_distance: 0.324 - ETA: 1:08 - loss: 0.9781 - pos_distance: 0.3622 - neg_distance: 0.340 - ETA: 45s - loss: 0.9771 - pos_distance: 0.3714 - neg_distance: 0.348 - ETA: 22s - loss: 0.9759 - pos_distance: 0.3758 - neg_distance: 0.35 - 228s 23s/step - loss: 0.9767 - pos_distance: 0.3784 - neg_distance: 0.3550\n",
      "Epoch 6/1000\n"
     ]
    },
    {
     "name": "stdout",
     "output_type": "stream",
     "text": [
      "10/10 [==============================] - ETA: 3:17 - loss: 0.9720 - pos_distance: 0.3691 - neg_distance: 0.341 - ETA: 2:56 - loss: 0.9692 - pos_distance: 0.3544 - neg_distance: 0.323 - ETA: 2:38 - loss: 0.9666 - pos_distance: 0.3561 - neg_distance: 0.322 - ETA: 2:18 - loss: 0.9654 - pos_distance: 0.3642 - neg_distance: 0.329 - ETA: 1:55 - loss: 0.9678 - pos_distance: 0.3840 - neg_distance: 0.351 - ETA: 1:32 - loss: 0.9683 - pos_distance: 0.3912 - neg_distance: 0.359 - ETA: 1:09 - loss: 0.9684 - pos_distance: 0.3856 - neg_distance: 0.354 - ETA: 46s - loss: 0.9659 - pos_distance: 0.3731 - neg_distance: 0.338 - ETA: 23s - loss: 0.9636 - pos_distance: 0.3757 - neg_distance: 0.33 - 237s 24s/step - loss: 0.9627 - pos_distance: 0.3891 - neg_distance: 0.3518\n",
      "Epoch 7/1000\n",
      "10/10 [==============================] - ETA: 3:55 - loss: 0.9725 - pos_distance: 0.5352 - neg_distance: 0.507 - ETA: 3:33 - loss: 0.9765 - pos_distance: 0.5206 - neg_distance: 0.497 - ETA: 3:04 - loss: 0.9739 - pos_distance: 0.4753 - neg_distance: 0.449 - ETA: 2:43 - loss: 0.9736 - pos_distance: 0.4251 - neg_distance: 0.398 - ETA: 2:15 - loss: 0.9727 - pos_distance: 0.3921 - neg_distance: 0.364 - ETA: 1:48 - loss: 0.9707 - pos_distance: 0.3717 - neg_distance: 0.342 - ETA: 1:21 - loss: 0.9696 - pos_distance: 0.3669 - neg_distance: 0.336 - ETA: 53s - loss: 0.9678 - pos_distance: 0.3746 - neg_distance: 0.342 - ETA: 26s - loss: 0.9679 - pos_distance: 0.3872 - neg_distance: 0.35 - 267s 27s/step - loss: 0.9692 - pos_distance: 0.4011 - neg_distance: 0.3703\n",
      "Epoch 8/1000\n",
      "10/10 [==============================] - ETA: 3:56 - loss: 0.9757 - pos_distance: 0.5025 - neg_distance: 0.478 - ETA: 3:26 - loss: 0.9742 - pos_distance: 0.4852 - neg_distance: 0.459 - ETA: 3:05 - loss: 0.9785 - pos_distance: 0.4547 - neg_distance: 0.433 - ETA: 2:40 - loss: 0.9770 - pos_distance: 0.4244 - neg_distance: 0.401 - ETA: 2:12 - loss: 0.9764 - pos_distance: 0.3982 - neg_distance: 0.374 - ETA: 1:45 - loss: 0.9752 - pos_distance: 0.3763 - neg_distance: 0.351 - ETA: 1:18 - loss: 0.9732 - pos_distance: 0.3611 - neg_distance: 0.334 - ETA: 52s - loss: 0.9708 - pos_distance: 0.3564 - neg_distance: 0.327 - ETA: 26s - loss: 0.9701 - pos_distance: 0.3562 - neg_distance: 0.32 - 263s 26s/step - loss: 0.9717 - pos_distance: 0.3622 - neg_distance: 0.3339\n",
      "Epoch 9/1000\n",
      "10/10 [==============================] - ETA: 4:02 - loss: 0.9629 - pos_distance: 0.4451 - neg_distance: 0.408 - ETA: 3:35 - loss: 0.9618 - pos_distance: 0.4418 - neg_distance: 0.403 - ETA: 3:08 - loss: 0.9670 - pos_distance: 0.4362 - neg_distance: 0.403 - ETA: 2:40 - loss: 0.9670 - pos_distance: 0.4304 - neg_distance: 0.397 - ETA: 2:13 - loss: 0.9695 - pos_distance: 0.4213 - neg_distance: 0.390 - ETA: 1:46 - loss: 0.9698 - pos_distance: 0.4062 - neg_distance: 0.376 - ETA: 1:19 - loss: 0.9712 - pos_distance: 0.3854 - neg_distance: 0.356 - ETA: 53s - loss: 0.9718 - pos_distance: 0.3641 - neg_distance: 0.335 - ETA: 26s - loss: 0.9716 - pos_distance: 0.3501 - neg_distance: 0.32 - 267s 27s/step - loss: 0.9716 - pos_distance: 0.3440 - neg_distance: 0.3157\n",
      "Epoch 10/1000\n",
      "10/10 [==============================] - ETA: 4:02 - loss: 0.9658 - pos_distance: 0.3666 - neg_distance: 0.332 - ETA: 3:36 - loss: 0.9655 - pos_distance: 0.3825 - neg_distance: 0.348 - ETA: 3:09 - loss: 0.9636 - pos_distance: 0.3935 - neg_distance: 0.357 - ETA: 2:40 - loss: 0.9607 - pos_distance: 0.4020 - neg_distance: 0.362 - ETA: 2:13 - loss: 0.9619 - pos_distance: 0.4014 - neg_distance: 0.363 - ETA: 1:49 - loss: 0.9635 - pos_distance: 0.3880 - neg_distance: 0.351 - ETA: 1:22 - loss: 0.9609 - pos_distance: 0.3785 - neg_distance: 0.339 - ETA: 54s - loss: 0.9620 - pos_distance: 0.3743 - neg_distance: 0.336 - ETA: 27s - loss: 0.9626 - pos_distance: 0.3801 - neg_distance: 0.34 - 271s 27s/step - loss: 0.9640 - pos_distance: 0.3857 - neg_distance: 0.3497\n",
      "Epoch 11/1000\n",
      "10/10 [==============================] - ETA: 4:36 - loss: 0.9614 - pos_distance: 0.4270 - neg_distance: 0.388 - ETA: 3:56 - loss: 0.9681 - pos_distance: 0.4058 - neg_distance: 0.373 - ETA: 3:22 - loss: 0.9682 - pos_distance: 0.3802 - neg_distance: 0.348 - ETA: 2:51 - loss: 0.9660 - pos_distance: 0.3585 - neg_distance: 0.324 - ETA: 2:21 - loss: 0.9660 - pos_distance: 0.3512 - neg_distance: 0.317 - ETA: 1:52 - loss: 0.9626 - pos_distance: 0.3564 - neg_distance: 0.319 - ETA: 1:24 - loss: 0.9621 - pos_distance: 0.3611 - neg_distance: 0.323 - ETA: 55s - loss: 0.9601 - pos_distance: 0.3733 - neg_distance: 0.333 - ETA: 27s - loss: 0.9572 - pos_distance: 0.3812 - neg_distance: 0.33 - 280s 28s/step - loss: 0.9585 - pos_distance: 0.3830 - neg_distance: 0.3415\n",
      "Epoch 12/1000\n",
      "10/10 [==============================] - ETA: 4:22 - loss: 0.9505 - pos_distance: 0.3278 - neg_distance: 0.278 - ETA: 3:48 - loss: 0.9574 - pos_distance: 0.3040 - neg_distance: 0.261 - ETA: 3:21 - loss: 0.9647 - pos_distance: 0.2969 - neg_distance: 0.261 - ETA: 2:52 - loss: 0.9620 - pos_distance: 0.3081 - neg_distance: 0.270 - ETA: 2:23 - loss: 0.9618 - pos_distance: 0.3198 - neg_distance: 0.281 - ETA: 1:53 - loss: 0.9599 - pos_distance: 0.3372 - neg_distance: 0.297 - ETA: 1:25 - loss: 0.9569 - pos_distance: 0.3526 - neg_distance: 0.309 - ETA: 56s - loss: 0.9562 - pos_distance: 0.3607 - neg_distance: 0.316 - ETA: 28s - loss: 0.9555 - pos_distance: 0.3596 - neg_distance: 0.31 - 288s 29s/step - loss: 0.9571 - pos_distance: 0.3580 - neg_distance: 0.3151\n",
      "Epoch 13/1000\n",
      "10/10 [==============================] - ETA: 4:33 - loss: 0.9505 - pos_distance: 0.3524 - neg_distance: 0.302 - ETA: 4:00 - loss: 0.9565 - pos_distance: 0.3849 - neg_distance: 0.341 - ETA: 3:38 - loss: 0.9608 - pos_distance: 0.4053 - neg_distance: 0.366 - ETA: 3:03 - loss: 0.9645 - pos_distance: 0.4057 - neg_distance: 0.370 - ETA: 2:30 - loss: 0.9642 - pos_distance: 0.3956 - neg_distance: 0.359 - ETA: 1:58 - loss: 0.9641 - pos_distance: 0.3815 - neg_distance: 0.345 - ETA: 1:28 - loss: 0.9623 - pos_distance: 0.3758 - neg_distance: 0.338 - ETA: 59s - loss: 0.9665 - pos_distance: 0.3698 - neg_distance: 0.336 - ETA: 29s - loss: 0.9652 - pos_distance: 0.3748 - neg_distance: 0.34 - 296s 30s/step - loss: 0.9656 - pos_distance: 0.3846 - neg_distance: 0.3502\n",
      "Epoch 14/1000\n",
      "10/10 [==============================] - ETA: 4:35 - loss: 0.9824 - pos_distance: 0.5006 - neg_distance: 0.483 - ETA: 3:59 - loss: 0.9743 - pos_distance: 0.4865 - neg_distance: 0.460 - ETA: 3:26 - loss: 0.9712 - pos_distance: 0.4791 - neg_distance: 0.450 - ETA: 2:56 - loss: 0.9705 - pos_distance: 0.4610 - neg_distance: 0.431 - ETA: 2:26 - loss: 0.9668 - pos_distance: 0.4453 - neg_distance: 0.412 - ETA: 1:55 - loss: 0.9621 - pos_distance: 0.4350 - neg_distance: 0.397 - ETA: 1:26 - loss: 0.9624 - pos_distance: 0.4264 - neg_distance: 0.388 - ETA: 57s - loss: 0.9589 - pos_distance: 0.4257 - neg_distance: 0.384 - ETA: 28s - loss: 0.9586 - pos_distance: 0.4270 - neg_distance: 0.38 - 286s 29s/step - loss: 0.9592 - pos_distance: 0.4305 - neg_distance: 0.3897\n",
      "Epoch 15/1000\n",
      "10/10 [==============================] - ETA: 4:39 - loss: 0.9578 - pos_distance: 0.4216 - neg_distance: 0.379 - ETA: 4:02 - loss: 0.9639 - pos_distance: 0.4079 - neg_distance: 0.371 - ETA: 3:29 - loss: 0.9687 - pos_distance: 0.3965 - neg_distance: 0.365 - ETA: 2:57 - loss: 0.9691 - pos_distance: 0.3926 - neg_distance: 0.361 - ETA: 2:28 - loss: 0.9691 - pos_distance: 0.3909 - neg_distance: 0.360 - ETA: 1:58 - loss: 0.9702 - pos_distance: 0.3896 - neg_distance: 0.359 - ETA: 1:28 - loss: 0.9698 - pos_distance: 0.3887 - neg_distance: 0.358 - ETA: 58s - loss: 0.9700 - pos_distance: 0.3889 - neg_distance: 0.358 - ETA: 29s - loss: 0.9676 - pos_distance: 0.3942 - neg_distance: 0.36 - 292s 29s/step - loss: 0.9647 - pos_distance: 0.3972 - neg_distance: 0.3619\n",
      "Epoch 16/1000\n"
     ]
    },
    {
     "name": "stdout",
     "output_type": "stream",
     "text": [
      "10/10 [==============================] - ETA: 4:14 - loss: 0.9643 - pos_distance: 0.3902 - neg_distance: 0.354 - ETA: 3:56 - loss: 0.9589 - pos_distance: 0.3974 - neg_distance: 0.356 - ETA: 3:27 - loss: 0.9598 - pos_distance: 0.4028 - neg_distance: 0.362 - ETA: 2:57 - loss: 0.9545 - pos_distance: 0.4052 - neg_distance: 0.359 - ETA: 2:27 - loss: 0.9562 - pos_distance: 0.3995 - neg_distance: 0.355 - ETA: 1:57 - loss: 0.9574 - pos_distance: 0.3918 - neg_distance: 0.349 - ETA: 1:27 - loss: 0.9570 - pos_distance: 0.3949 - neg_distance: 0.351 - ETA: 58s - loss: 0.9553 - pos_distance: 0.4038 - neg_distance: 0.359 - ETA: 29s - loss: 0.9543 - pos_distance: 0.4101 - neg_distance: 0.36 - 292s 29s/step - loss: 0.9553 - pos_distance: 0.4108 - neg_distance: 0.3662\n",
      "Epoch 17/1000\n",
      "10/10 [==============================] - ETA: 5:53 - loss: 0.9415 - pos_distance: 0.3570 - neg_distance: 0.298 - ETA: 4:35 - loss: 0.9517 - pos_distance: 0.3490 - neg_distance: 0.300 - ETA: 3:47 - loss: 0.9498 - pos_distance: 0.3595 - neg_distance: 0.309 - ETA: 3:08 - loss: 0.9499 - pos_distance: 0.3749 - neg_distance: 0.324 - ETA: 2:35 - loss: 0.9535 - pos_distance: 0.3990 - neg_distance: 0.352 - ETA: 2:03 - loss: 0.9524 - pos_distance: 0.4258 - neg_distance: 0.378 - ETA: 1:31 - loss: 0.9510 - pos_distance: 0.4398 - neg_distance: 0.390 - ETA: 1:00 - loss: 0.9520 - pos_distance: 0.4403 - neg_distance: 0.392 - ETA: 30s - loss: 0.9520 - pos_distance: 0.4333 - neg_distance: 0.385 - 302s 30s/step - loss: 0.9534 - pos_distance: 0.4214 - neg_distance: 0.3748\n",
      "Epoch 18/1000\n",
      "10/10 [==============================] - ETA: 4:48 - loss: 0.9647 - pos_distance: 0.3409 - neg_distance: 0.305 - ETA: 4:08 - loss: 0.9641 - pos_distance: 0.3818 - neg_distance: 0.345 - ETA: 3:33 - loss: 0.9606 - pos_distance: 0.4112 - neg_distance: 0.371 - ETA: 3:00 - loss: 0.9597 - pos_distance: 0.4327 - neg_distance: 0.392 - ETA: 2:29 - loss: 0.9568 - pos_distance: 0.4483 - neg_distance: 0.405 - ETA: 1:59 - loss: 0.9565 - pos_distance: 0.4495 - neg_distance: 0.406 - ETA: 1:29 - loss: 0.9581 - pos_distance: 0.4405 - neg_distance: 0.398 - ETA: 59s - loss: 0.9597 - pos_distance: 0.4303 - neg_distance: 0.390 - ETA: 29s - loss: 0.9587 - pos_distance: 0.4228 - neg_distance: 0.38 - 297s 30s/step - loss: 0.9589 - pos_distance: 0.4165 - neg_distance: 0.3754\n",
      "Epoch 19/1000\n",
      "10/10 [==============================] - ETA: 4:13 - loss: 0.9363 - pos_distance: 0.4238 - neg_distance: 0.360 - ETA: 3:47 - loss: 0.9520 - pos_distance: 0.4337 - neg_distance: 0.385 - ETA: 3:22 - loss: 0.9502 - pos_distance: 0.4428 - neg_distance: 0.393 - ETA: 2:53 - loss: 0.9505 - pos_distance: 0.4395 - neg_distance: 0.390 - ETA: 2:25 - loss: 0.9534 - pos_distance: 0.4270 - neg_distance: 0.380 - ETA: 1:56 - loss: 0.9525 - pos_distance: 0.4250 - neg_distance: 0.377 - ETA: 1:28 - loss: 0.9580 - pos_distance: 0.4183 - neg_distance: 0.376 - ETA: 58s - loss: 0.9585 - pos_distance: 0.4186 - neg_distance: 0.377 - ETA: 29s - loss: 0.9585 - pos_distance: 0.4239 - neg_distance: 0.38 - 296s 30s/step - loss: 0.9582 - pos_distance: 0.4310 - neg_distance: 0.3892\n",
      "Epoch 20/1000\n",
      "10/10 [==============================] - ETA: 4:32 - loss: 0.9439 - pos_distance: 0.4913 - neg_distance: 0.435 - ETA: 3:59 - loss: 0.9501 - pos_distance: 0.4840 - neg_distance: 0.434 - ETA: 3:30 - loss: 0.9507 - pos_distance: 0.4837 - neg_distance: 0.434 - ETA: 3:02 - loss: 0.9519 - pos_distance: 0.4825 - neg_distance: 0.434 - ETA: 2:31 - loss: 0.9542 - pos_distance: 0.4807 - neg_distance: 0.434 - ETA: 2:00 - loss: 0.9553 - pos_distance: 0.4640 - neg_distance: 0.419 - ETA: 1:30 - loss: 0.9547 - pos_distance: 0.4563 - neg_distance: 0.411 - ETA: 1:01 - loss: 0.9536 - pos_distance: 0.4456 - neg_distance: 0.399 - ETA: 30s - loss: 0.9536 - pos_distance: 0.4373 - neg_distance: 0.390 - 305s 30s/step - loss: 0.9530 - pos_distance: 0.4295 - neg_distance: 0.3825\n",
      "Epoch 21/1000\n",
      "10/10 [==============================] - ETA: 4:57 - loss: 0.9423 - pos_distance: 0.4366 - neg_distance: 0.379 - ETA: 4:10 - loss: 0.9523 - pos_distance: 0.4514 - neg_distance: 0.403 - ETA: 3:35 - loss: 0.9523 - pos_distance: 0.4615 - neg_distance: 0.413 - ETA: 3:01 - loss: 0.9534 - pos_distance: 0.4726 - neg_distance: 0.426 - ETA: 2:31 - loss: 0.9530 - pos_distance: 0.4761 - neg_distance: 0.429 - ETA: 2:00 - loss: 0.9516 - pos_distance: 0.4878 - neg_distance: 0.439 - ETA: 1:30 - loss: 0.9512 - pos_distance: 0.4840 - neg_distance: 0.435 - ETA: 1:00 - loss: 0.9539 - pos_distance: 0.4769 - neg_distance: 0.430 - ETA: 29s - loss: 0.9544 - pos_distance: 0.4705 - neg_distance: 0.424 - 299s 30s/step - loss: 0.9548 - pos_distance: 0.4656 - neg_distance: 0.4204\n",
      "Epoch 22/1000\n",
      "10/10 [==============================] - ETA: 4:49 - loss: 0.9570 - pos_distance: 0.4564 - neg_distance: 0.413 - ETA: 4:03 - loss: 0.9520 - pos_distance: 0.4668 - neg_distance: 0.418 - ETA: 3:29 - loss: 0.9532 - pos_distance: 0.4611 - neg_distance: 0.414 - ETA: 2:59 - loss: 0.9506 - pos_distance: 0.4534 - neg_distance: 0.404 - ETA: 2:29 - loss: 0.9528 - pos_distance: 0.4415 - neg_distance: 0.394 - ETA: 2:00 - loss: 0.9535 - pos_distance: 0.4358 - neg_distance: 0.389 - ETA: 1:30 - loss: 0.9543 - pos_distance: 0.4363 - neg_distance: 0.390 - ETA: 59s - loss: 0.9536 - pos_distance: 0.4388 - neg_distance: 0.392 - ETA: 30s - loss: 0.9541 - pos_distance: 0.4394 - neg_distance: 0.39 - 301s 30s/step - loss: 0.9547 - pos_distance: 0.4465 - neg_distance: 0.4012\n",
      "Epoch 23/1000\n",
      "10/10 [==============================] - ETA: 4:59 - loss: 0.9444 - pos_distance: 0.5433 - neg_distance: 0.487 - ETA: 4:14 - loss: 0.9428 - pos_distance: 0.5391 - neg_distance: 0.481 - ETA: 3:39 - loss: 0.9452 - pos_distance: 0.5084 - neg_distance: 0.453 - ETA: 3:06 - loss: 0.9436 - pos_distance: 0.4852 - neg_distance: 0.428 - ETA: 2:33 - loss: 0.9452 - pos_distance: 0.4648 - neg_distance: 0.410 - ETA: 2:02 - loss: 0.9425 - pos_distance: 0.4664 - neg_distance: 0.408 - ETA: 1:31 - loss: 0.9439 - pos_distance: 0.4746 - neg_distance: 0.418 - ETA: 1:01 - loss: 0.9437 - pos_distance: 0.4749 - neg_distance: 0.418 - ETA: 30s - loss: 0.9440 - pos_distance: 0.4682 - neg_distance: 0.412 - 309s 31s/step - loss: 0.9473 - pos_distance: 0.4620 - neg_distance: 0.4093\n",
      "Epoch 24/1000\n",
      "10/10 [==============================] - ETA: 4:23 - loss: 0.9496 - pos_distance: 0.4289 - neg_distance: 0.378 - ETA: 3:58 - loss: 0.9532 - pos_distance: 0.4398 - neg_distance: 0.393 - ETA: 3:31 - loss: 0.9508 - pos_distance: 0.4438 - neg_distance: 0.394 - ETA: 3:02 - loss: 0.9454 - pos_distance: 0.4571 - neg_distance: 0.402 - ETA: 2:30 - loss: 0.9483 - pos_distance: 0.4677 - neg_distance: 0.415 - ETA: 1:59 - loss: 0.9493 - pos_distance: 0.4724 - neg_distance: 0.421 - ETA: 1:31 - loss: 0.9453 - pos_distance: 0.4719 - neg_distance: 0.417 - ETA: 1:01 - loss: 0.9449 - pos_distance: 0.4692 - neg_distance: 0.414 - ETA: 30s - loss: 0.9466 - pos_distance: 0.4658 - neg_distance: 0.412 - 303s 30s/step - loss: 0.9476 - pos_distance: 0.4680 - neg_distance: 0.4156\n",
      "Epoch 25/1000\n",
      "10/10 [==============================] - ETA: 4:58 - loss: 0.9572 - pos_distance: 0.4656 - neg_distance: 0.422 - ETA: 4:12 - loss: 0.9473 - pos_distance: 0.4800 - neg_distance: 0.427 - ETA: 3:34 - loss: 0.9439 - pos_distance: 0.4971 - neg_distance: 0.441 - ETA: 3:02 - loss: 0.9460 - pos_distance: 0.5063 - neg_distance: 0.452 - ETA: 2:31 - loss: 0.9473 - pos_distance: 0.5169 - neg_distance: 0.464 - ETA: 2:01 - loss: 0.9484 - pos_distance: 0.5181 - neg_distance: 0.466 - ETA: 1:30 - loss: 0.9498 - pos_distance: 0.5164 - neg_distance: 0.466 - ETA: 1:00 - loss: 0.9511 - pos_distance: 0.5021 - neg_distance: 0.453 - ETA: 30s - loss: 0.9483 - pos_distance: 0.4930 - neg_distance: 0.441 - 301s 30s/step - loss: 0.9459 - pos_distance: 0.4924 - neg_distance: 0.4382\n",
      "Epoch 26/1000\n"
     ]
    },
    {
     "name": "stdout",
     "output_type": "stream",
     "text": [
      "10/10 [==============================] - ETA: 5:00 - loss: 0.9457 - pos_distance: 0.5668 - neg_distance: 0.512 - ETA: 4:30 - loss: 0.9606 - pos_distance: 0.5655 - neg_distance: 0.526 - ETA: 3:42 - loss: 0.9644 - pos_distance: 0.5526 - neg_distance: 0.517 - ETA: 3:07 - loss: 0.9534 - pos_distance: 0.5371 - neg_distance: 0.490 - ETA: 2:37 - loss: 0.9533 - pos_distance: 0.5283 - neg_distance: 0.481 - ETA: 2:05 - loss: 0.9530 - pos_distance: 0.5137 - neg_distance: 0.466 - ETA: 1:33 - loss: 0.9513 - pos_distance: 0.5054 - neg_distance: 0.456 - ETA: 1:02 - loss: 0.9522 - pos_distance: 0.5031 - neg_distance: 0.455 - ETA: 31s - loss: 0.9511 - pos_distance: 0.4965 - neg_distance: 0.447 - 310s 31s/step - loss: 0.9499 - pos_distance: 0.4950 - neg_distance: 0.4449\n",
      "Epoch 27/1000\n",
      "10/10 [==============================] - ETA: 4:42 - loss: 0.9616 - pos_distance: 0.4767 - neg_distance: 0.438 - ETA: 4:13 - loss: 0.9671 - pos_distance: 0.5066 - neg_distance: 0.473 - ETA: 3:38 - loss: 0.9589 - pos_distance: 0.5171 - neg_distance: 0.476 - ETA: 3:04 - loss: 0.9483 - pos_distance: 0.5183 - neg_distance: 0.466 - ETA: 2:33 - loss: 0.9481 - pos_distance: 0.5013 - neg_distance: 0.449 - ETA: 2:03 - loss: 0.9455 - pos_distance: 0.4891 - neg_distance: 0.434 - ETA: 1:32 - loss: 0.9444 - pos_distance: 0.4851 - neg_distance: 0.429 - ETA: 1:01 - loss: 0.9424 - pos_distance: 0.4913 - neg_distance: 0.433 - ETA: 30s - loss: 0.9459 - pos_distance: 0.4954 - neg_distance: 0.441 - 308s 31s/step - loss: 0.9498 - pos_distance: 0.5028 - neg_distance: 0.4525\n",
      "Epoch 28/1000\n",
      "10/10 [==============================] - ETA: 4:40 - loss: 0.9492 - pos_distance: 0.5821 - neg_distance: 0.531 - ETA: 4:03 - loss: 0.9608 - pos_distance: 0.5607 - neg_distance: 0.521 - ETA: 3:36 - loss: 0.9598 - pos_distance: 0.5317 - neg_distance: 0.491 - ETA: 3:04 - loss: 0.9567 - pos_distance: 0.5023 - neg_distance: 0.459 - ETA: 2:32 - loss: 0.9577 - pos_distance: 0.4856 - neg_distance: 0.443 - ETA: 2:02 - loss: 0.9544 - pos_distance: 0.4780 - neg_distance: 0.432 - ETA: 1:31 - loss: 0.9536 - pos_distance: 0.4805 - neg_distance: 0.434 - ETA: 1:00 - loss: 0.9545 - pos_distance: 0.4871 - neg_distance: 0.441 - ETA: 30s - loss: 0.9534 - pos_distance: 0.4912 - neg_distance: 0.444 - 305s 30s/step - loss: 0.9527 - pos_distance: 0.4882 - neg_distance: 0.4409\n",
      "Epoch 29/1000\n",
      "10/10 [==============================] - ETA: 4:25 - loss: 0.9510 - pos_distance: 0.4230 - neg_distance: 0.374 - ETA: 4:00 - loss: 0.9519 - pos_distance: 0.4350 - neg_distance: 0.387 - ETA: 3:33 - loss: 0.9488 - pos_distance: 0.4488 - neg_distance: 0.397 - ETA: 3:01 - loss: 0.9445 - pos_distance: 0.4645 - neg_distance: 0.409 - ETA: 2:32 - loss: 0.9469 - pos_distance: 0.4733 - neg_distance: 0.420 - ETA: 2:01 - loss: 0.9483 - pos_distance: 0.4659 - neg_distance: 0.414 - ETA: 1:31 - loss: 0.9479 - pos_distance: 0.4568 - neg_distance: 0.404 - ETA: 1:00 - loss: 0.9479 - pos_distance: 0.4540 - neg_distance: 0.401 - ETA: 30s - loss: 0.9464 - pos_distance: 0.4574 - neg_distance: 0.403 - 308s 31s/step - loss: 0.9463 - pos_distance: 0.4638 - neg_distance: 0.4101\n",
      "Epoch 30/1000\n",
      "10/10 [==============================] - ETA: 5:02 - loss: 0.9467 - pos_distance: 0.5269 - neg_distance: 0.473 - ETA: 4:14 - loss: 0.9589 - pos_distance: 0.5152 - neg_distance: 0.474 - ETA: 3:42 - loss: 0.9662 - pos_distance: 0.4744 - neg_distance: 0.440 - ETA: 3:08 - loss: 0.9588 - pos_distance: 0.4489 - neg_distance: 0.407 - ETA: 2:38 - loss: 0.9537 - pos_distance: 0.4392 - neg_distance: 0.392 - ETA: 2:04 - loss: 0.9528 - pos_distance: 0.4452 - neg_distance: 0.398 - ETA: 1:33 - loss: 0.9534 - pos_distance: 0.4666 - neg_distance: 0.420 - ETA: 1:01 - loss: 0.9531 - pos_distance: 0.4860 - neg_distance: 0.439 - ETA: 30s - loss: 0.9544 - pos_distance: 0.4877 - neg_distance: 0.442 - 306s 31s/step - loss: 0.9541 - pos_distance: 0.4816 - neg_distance: 0.4358\n",
      "Epoch 31/1000\n",
      "10/10 [==============================] - ETA: 5:04 - loss: 0.9554 - pos_distance: 0.3677 - neg_distance: 0.323 - ETA: 4:14 - loss: 0.9603 - pos_distance: 0.3612 - neg_distance: 0.321 - ETA: 3:39 - loss: 0.9552 - pos_distance: 0.3616 - neg_distance: 0.316 - ETA: 3:06 - loss: 0.9554 - pos_distance: 0.3782 - neg_distance: 0.333 - ETA: 2:34 - loss: 0.9573 - pos_distance: 0.4106 - neg_distance: 0.368 - ETA: 2:03 - loss: 0.9564 - pos_distance: 0.4400 - neg_distance: 0.396 - ETA: 1:31 - loss: 0.9539 - pos_distance: 0.4610 - neg_distance: 0.415 - ETA: 1:01 - loss: 0.9525 - pos_distance: 0.4645 - neg_distance: 0.417 - ETA: 30s - loss: 0.9501 - pos_distance: 0.4585 - neg_distance: 0.408 - 306s 31s/step - loss: 0.9513 - pos_distance: 0.4510 - neg_distance: 0.4022\n",
      "Epoch 32/1000\n",
      "10/10 [==============================] - ETA: 5:31 - loss: 0.9346 - pos_distance: 0.4165 - neg_distance: 0.351 - ETA: 4:29 - loss: 0.9317 - pos_distance: 0.4422 - neg_distance: 0.373 - ETA: 3:49 - loss: 0.9362 - pos_distance: 0.4676 - neg_distance: 0.403 - ETA: 3:13 - loss: 0.9444 - pos_distance: 0.4837 - neg_distance: 0.428 - ETA: 2:39 - loss: 0.9456 - pos_distance: 0.4924 - neg_distance: 0.438 - ETA: 2:06 - loss: 0.9422 - pos_distance: 0.4965 - neg_distance: 0.438 - ETA: 1:34 - loss: 0.9412 - pos_distance: 0.4924 - neg_distance: 0.433 - ETA: 1:02 - loss: 0.9407 - pos_distance: 0.4979 - neg_distance: 0.438 - ETA: 31s - loss: 0.9407 - pos_distance: 0.5087 - neg_distance: 0.449 - 314s 31s/step - loss: 0.9413 - pos_distance: 0.5167 - neg_distance: 0.4580\n",
      "Epoch 33/1000\n",
      "10/10 [==============================] - ETA: 4:45 - loss: 0.9409 - pos_distance: 0.4539 - neg_distance: 0.394 - ETA: 4:08 - loss: 0.9405 - pos_distance: 0.4207 - neg_distance: 0.361 - ETA: 3:35 - loss: 0.9472 - pos_distance: 0.4038 - neg_distance: 0.351 - ETA: 3:05 - loss: 0.9496 - pos_distance: 0.3959 - neg_distance: 0.345 - ETA: 2:41 - loss: 0.9506 - pos_distance: 0.4118 - neg_distance: 0.362 - ETA: 2:06 - loss: 0.9491 - pos_distance: 0.4394 - neg_distance: 0.388 - ETA: 1:33 - loss: 0.9517 - pos_distance: 0.4623 - neg_distance: 0.414 - ETA: 1:02 - loss: 0.9492 - pos_distance: 0.4800 - neg_distance: 0.429 - ETA: 30s - loss: 0.9460 - pos_distance: 0.4825 - neg_distance: 0.428 - 308s 31s/step - loss: 0.9469 - pos_distance: 0.4751 - neg_distance: 0.4220\n",
      "Epoch 34/1000\n",
      "10/10 [==============================] - ETA: 4:14 - loss: 0.9433 - pos_distance: 0.4313 - neg_distance: 0.374 - ETA: 3:56 - loss: 0.9461 - pos_distance: 0.4232 - neg_distance: 0.369 - ETA: 3:28 - loss: 0.9414 - pos_distance: 0.4438 - neg_distance: 0.385 - ETA: 3:02 - loss: 0.9396 - pos_distance: 0.4696 - neg_distance: 0.409 - ETA: 2:31 - loss: 0.9454 - pos_distance: 0.4872 - neg_distance: 0.432 - ETA: 2:02 - loss: 0.9476 - pos_distance: 0.4914 - neg_distance: 0.439 - ETA: 1:31 - loss: 0.9437 - pos_distance: 0.4832 - neg_distance: 0.426 - ETA: 1:00 - loss: 0.9462 - pos_distance: 0.4672 - neg_distance: 0.413 - ETA: 30s - loss: 0.9452 - pos_distance: 0.4549 - neg_distance: 0.400 - 307s 31s/step - loss: 0.9451 - pos_distance: 0.4473 - neg_distance: 0.3925\n",
      "Epoch 35/1000\n",
      "10/10 [==============================] - ETA: 5:04 - loss: 0.9408 - pos_distance: 0.4562 - neg_distance: 0.396 - ETA: 4:26 - loss: 0.9561 - pos_distance: 0.4845 - neg_distance: 0.440 - ETA: 3:44 - loss: 0.9496 - pos_distance: 0.5164 - neg_distance: 0.466 - ETA: 3:10 - loss: 0.9495 - pos_distance: 0.5287 - neg_distance: 0.478 - ETA: 2:37 - loss: 0.9490 - pos_distance: 0.5387 - neg_distance: 0.487 - ETA: 2:05 - loss: 0.9478 - pos_distance: 0.5400 - neg_distance: 0.487 - ETA: 1:33 - loss: 0.9470 - pos_distance: 0.5250 - neg_distance: 0.472 - ETA: 1:02 - loss: 0.9448 - pos_distance: 0.5047 - neg_distance: 0.449 - ETA: 31s - loss: 0.9455 - pos_distance: 0.4904 - neg_distance: 0.435 - 311s 31s/step - loss: 0.9438 - pos_distance: 0.4885 - neg_distance: 0.4323\n",
      "Epoch 36/1000\n"
     ]
    },
    {
     "name": "stdout",
     "output_type": "stream",
     "text": [
      "10/10 [==============================] - ETA: 4:45 - loss: 0.9239 - pos_distance: 0.5626 - neg_distance: 0.486 - ETA: 4:14 - loss: 0.9379 - pos_distance: 0.5772 - neg_distance: 0.515 - ETA: 3:40 - loss: 0.9423 - pos_distance: 0.5611 - neg_distance: 0.503 - ETA: 3:08 - loss: 0.9457 - pos_distance: 0.5201 - neg_distance: 0.465 - ETA: 2:36 - loss: 0.9448 - pos_distance: 0.4846 - neg_distance: 0.429 - ETA: 2:04 - loss: 0.9436 - pos_distance: 0.4618 - neg_distance: 0.405 - ETA: 1:33 - loss: 0.9480 - pos_distance: 0.4435 - neg_distance: 0.391 - ETA: 1:02 - loss: 0.9488 - pos_distance: 0.4352 - neg_distance: 0.384 - ETA: 31s - loss: 0.9489 - pos_distance: 0.4324 - neg_distance: 0.381 - 310s 31s/step - loss: 0.9481 - pos_distance: 0.4342 - neg_distance: 0.3824\n",
      "Epoch 37/1000\n",
      "10/10 [==============================] - ETA: 4:43 - loss: 0.9404 - pos_distance: 0.5006 - neg_distance: 0.441 - ETA: 4:17 - loss: 0.9515 - pos_distance: 0.4894 - neg_distance: 0.440 - ETA: 3:44 - loss: 0.9536 - pos_distance: 0.4841 - neg_distance: 0.437 - ETA: 3:11 - loss: 0.9533 - pos_distance: 0.4718 - neg_distance: 0.425 - ETA: 2:38 - loss: 0.9495 - pos_distance: 0.4644 - neg_distance: 0.414 - ETA: 2:06 - loss: 0.9504 - pos_distance: 0.4619 - neg_distance: 0.412 - ETA: 1:34 - loss: 0.9514 - pos_distance: 0.4676 - neg_distance: 0.419 - ETA: 1:02 - loss: 0.9508 - pos_distance: 0.4758 - neg_distance: 0.426 - ETA: 31s - loss: 0.9486 - pos_distance: 0.4815 - neg_distance: 0.430 - 315s 32s/step - loss: 0.9467 - pos_distance: 0.4859 - neg_distance: 0.4326\n",
      "Epoch 38/1000\n",
      "10/10 [==============================] - ETA: 4:42 - loss: 0.9413 - pos_distance: 0.4705 - neg_distance: 0.411 - ETA: 4:04 - loss: 0.9380 - pos_distance: 0.4425 - neg_distance: 0.380 - ETA: 3:28 - loss: 0.9409 - pos_distance: 0.4473 - neg_distance: 0.388 - ETA: 2:56 - loss: 0.9399 - pos_distance: 0.4503 - neg_distance: 0.390 - ETA: 2:25 - loss: 0.9415 - pos_distance: 0.4592 - neg_distance: 0.400 - ETA: 1:55 - loss: 0.9394 - pos_distance: 0.4669 - neg_distance: 0.406 - ETA: 1:25 - loss: 0.9397 - pos_distance: 0.4716 - neg_distance: 0.411 - ETA: 57s - loss: 0.9396 - pos_distance: 0.4794 - neg_distance: 0.419 - ETA: 28s - loss: 0.9395 - pos_distance: 0.4854 - neg_distance: 0.42 - 287s 29s/step - loss: 0.9405 - pos_distance: 0.4802 - neg_distance: 0.4207\n",
      "Epoch 39/1000\n",
      "10/10 [==============================] - ETA: 4:07 - loss: 0.9507 - pos_distance: 0.4284 - neg_distance: 0.379 - ETA: 3:39 - loss: 0.9515 - pos_distance: 0.4356 - neg_distance: 0.387 - ETA: 3:14 - loss: 0.9502 - pos_distance: 0.4500 - neg_distance: 0.400 - ETA: 2:46 - loss: 0.9522 - pos_distance: 0.4603 - neg_distance: 0.412 - ETA: 2:19 - loss: 0.9586 - pos_distance: 0.4625 - neg_distance: 0.421 - ETA: 1:51 - loss: 0.9610 - pos_distance: 0.4716 - neg_distance: 0.432 - ETA: 1:23 - loss: 0.9572 - pos_distance: 0.4765 - neg_distance: 0.433 - ETA: 55s - loss: 0.9577 - pos_distance: 0.4788 - neg_distance: 0.436 - ETA: 28s - loss: 0.9563 - pos_distance: 0.4829 - neg_distance: 0.43 - 281s 28s/step - loss: 0.9553 - pos_distance: 0.4871 - neg_distance: 0.4424\n",
      "Epoch 40/1000\n",
      "10/10 [==============================] - ETA: 4:09 - loss: 0.9311 - pos_distance: 0.5353 - neg_distance: 0.466 - ETA: 3:42 - loss: 0.9296 - pos_distance: 0.5108 - neg_distance: 0.440 - ETA: 3:17 - loss: 0.9307 - pos_distance: 0.5014 - neg_distance: 0.432 - ETA: 2:49 - loss: 0.9297 - pos_distance: 0.4940 - neg_distance: 0.423 - ETA: 2:21 - loss: 0.9348 - pos_distance: 0.4854 - neg_distance: 0.420 - ETA: 1:53 - loss: 0.9357 - pos_distance: 0.4854 - neg_distance: 0.421 - ETA: 1:25 - loss: 0.9398 - pos_distance: 0.4940 - neg_distance: 0.433 - ETA: 56s - loss: 0.9393 - pos_distance: 0.4968 - neg_distance: 0.436 - ETA: 28s - loss: 0.9431 - pos_distance: 0.4865 - neg_distance: 0.42 - 285s 28s/step - loss: 0.9444 - pos_distance: 0.4753 - neg_distance: 0.4198\n",
      "Epoch 41/1000\n",
      "10/10 [==============================] - ETA: 4:13 - loss: 0.9708 - pos_distance: 0.3203 - neg_distance: 0.291 - ETA: 3:50 - loss: 0.9603 - pos_distance: 0.3311 - neg_distance: 0.291 - ETA: 3:23 - loss: 0.9513 - pos_distance: 0.3635 - neg_distance: 0.314 - ETA: 2:53 - loss: 0.9510 - pos_distance: 0.4090 - neg_distance: 0.360 - ETA: 2:24 - loss: 0.9519 - pos_distance: 0.4559 - neg_distance: 0.407 - ETA: 1:54 - loss: 0.9517 - pos_distance: 0.4786 - neg_distance: 0.430 - ETA: 1:26 - loss: 0.9512 - pos_distance: 0.4849 - neg_distance: 0.436 - ETA: 57s - loss: 0.9468 - pos_distance: 0.4829 - neg_distance: 0.429 - ETA: 28s - loss: 0.9444 - pos_distance: 0.4849 - neg_distance: 0.42 - 286s 29s/step - loss: 0.9453 - pos_distance: 0.4825 - neg_distance: 0.4278\n",
      "Epoch 42/1000\n",
      "10/10 [==============================] - ETA: 4:28 - loss: 0.9463 - pos_distance: 0.3851 - neg_distance: 0.331 - ETA: 3:54 - loss: 0.9461 - pos_distance: 0.3863 - neg_distance: 0.332 - ETA: 3:24 - loss: 0.9498 - pos_distance: 0.4126 - neg_distance: 0.362 - ETA: 2:55 - loss: 0.9432 - pos_distance: 0.4635 - neg_distance: 0.406 - ETA: 2:26 - loss: 0.9400 - pos_distance: 0.4677 - neg_distance: 0.407 - ETA: 1:56 - loss: 0.9441 - pos_distance: 0.4498 - neg_distance: 0.393 - ETA: 1:27 - loss: 0.9453 - pos_distance: 0.4353 - neg_distance: 0.380 - ETA: 58s - loss: 0.9448 - pos_distance: 0.4266 - neg_distance: 0.371 - ETA: 28s - loss: 0.9464 - pos_distance: 0.4313 - neg_distance: 0.37 - 290s 29s/step - loss: 0.9452 - pos_distance: 0.4471 - neg_distance: 0.3923\n",
      "Epoch 43/1000\n",
      "10/10 [==============================] - ETA: 4:19 - loss: 0.9373 - pos_distance: 0.6261 - neg_distance: 0.563 - ETA: 3:48 - loss: 0.9456 - pos_distance: 0.6034 - neg_distance: 0.549 - ETA: 3:20 - loss: 0.9468 - pos_distance: 0.5596 - neg_distance: 0.506 - ETA: 2:51 - loss: 0.9438 - pos_distance: 0.5244 - neg_distance: 0.468 - ETA: 2:23 - loss: 0.9421 - pos_distance: 0.4967 - neg_distance: 0.438 - ETA: 1:54 - loss: 0.9417 - pos_distance: 0.4817 - neg_distance: 0.423 - ETA: 1:26 - loss: 0.9429 - pos_distance: 0.4834 - neg_distance: 0.426 - ETA: 57s - loss: 0.9438 - pos_distance: 0.4979 - neg_distance: 0.441 - ETA: 28s - loss: 0.9490 - pos_distance: 0.5134 - neg_distance: 0.46 - 286s 29s/step - loss: 0.9500 - pos_distance: 0.5241 - neg_distance: 0.4741\n",
      "Epoch 44/1000\n",
      "10/10 [==============================] - ETA: 4:11 - loss: 0.9372 - pos_distance: 0.5124 - neg_distance: 0.449 - ETA: 3:43 - loss: 0.9366 - pos_distance: 0.4847 - neg_distance: 0.421 - ETA: 3:28 - loss: 0.9408 - pos_distance: 0.4502 - neg_distance: 0.391 - ETA: 2:57 - loss: 0.9408 - pos_distance: 0.4479 - neg_distance: 0.388 - ETA: 2:26 - loss: 0.9404 - pos_distance: 0.4545 - neg_distance: 0.395 - ETA: 1:56 - loss: 0.9443 - pos_distance: 0.4580 - neg_distance: 0.402 - ETA: 1:27 - loss: 0.9406 - pos_distance: 0.4579 - neg_distance: 0.398 - ETA: 58s - loss: 0.9406 - pos_distance: 0.4570 - neg_distance: 0.397 - ETA: 29s - loss: 0.9414 - pos_distance: 0.4588 - neg_distance: 0.40 - 292s 29s/step - loss: 0.9397 - pos_distance: 0.4678 - neg_distance: 0.4075\n",
      "Epoch 45/1000\n",
      "10/10 [==============================] - ETA: 4:55 - loss: 0.9328 - pos_distance: 0.5712 - neg_distance: 0.504 - ETA: 4:04 - loss: 0.9310 - pos_distance: 0.5781 - neg_distance: 0.509 - ETA: 3:27 - loss: 0.9287 - pos_distance: 0.5534 - neg_distance: 0.482 - ETA: 2:57 - loss: 0.9319 - pos_distance: 0.5215 - neg_distance: 0.453 - ETA: 2:26 - loss: 0.9342 - pos_distance: 0.5052 - neg_distance: 0.439 - ETA: 1:57 - loss: 0.9359 - pos_distance: 0.5069 - neg_distance: 0.442 - ETA: 1:28 - loss: 0.9387 - pos_distance: 0.5116 - neg_distance: 0.450 - ETA: 58s - loss: 0.9399 - pos_distance: 0.5133 - neg_distance: 0.453 - ETA: 29s - loss: 0.9399 - pos_distance: 0.5043 - neg_distance: 0.44 - 293s 29s/step - loss: 0.9388 - pos_distance: 0.4970 - neg_distance: 0.4358\n",
      "Epoch 46/1000\n"
     ]
    },
    {
     "name": "stdout",
     "output_type": "stream",
     "text": [
      "10/10 [==============================] - ETA: 4:22 - loss: 0.9113 - pos_distance: 0.5322 - neg_distance: 0.443 - ETA: 3:52 - loss: 0.9252 - pos_distance: 0.5335 - neg_distance: 0.458 - ETA: 3:24 - loss: 0.9297 - pos_distance: 0.5156 - neg_distance: 0.445 - ETA: 2:54 - loss: 0.9255 - pos_distance: 0.5036 - neg_distance: 0.429 - ETA: 2:25 - loss: 0.9254 - pos_distance: 0.5213 - neg_distance: 0.446 - ETA: 1:55 - loss: 0.9281 - pos_distance: 0.5314 - neg_distance: 0.459 - ETA: 1:26 - loss: 0.9318 - pos_distance: 0.5258 - neg_distance: 0.457 - ETA: 57s - loss: 0.9335 - pos_distance: 0.5107 - neg_distance: 0.444 - ETA: 29s - loss: 0.9374 - pos_distance: 0.4928 - neg_distance: 0.43 - 290s 29s/step - loss: 0.9388 - pos_distance: 0.4842 - neg_distance: 0.4231\n",
      "Epoch 47/1000\n",
      "10/10 [==============================] - ETA: 4:32 - loss: 0.9528 - pos_distance: 0.5318 - neg_distance: 0.484 - ETA: 3:57 - loss: 0.9429 - pos_distance: 0.5552 - neg_distance: 0.498 - ETA: 3:27 - loss: 0.9388 - pos_distance: 0.5454 - neg_distance: 0.484 - ETA: 2:55 - loss: 0.9408 - pos_distance: 0.5159 - neg_distance: 0.456 - ETA: 2:25 - loss: 0.9380 - pos_distance: 0.5102 - neg_distance: 0.448 - ETA: 1:56 - loss: 0.9407 - pos_distance: 0.5236 - neg_distance: 0.464 - ETA: 1:27 - loss: 0.9374 - pos_distance: 0.5243 - neg_distance: 0.461 - ETA: 57s - loss: 0.9364 - pos_distance: 0.5210 - neg_distance: 0.457 - ETA: 28s - loss: 0.9336 - pos_distance: 0.5106 - neg_distance: 0.44 - 289s 29s/step - loss: 0.9347 - pos_distance: 0.5103 - neg_distance: 0.4451\n",
      "Epoch 48/1000\n",
      "10/10 [==============================] - ETA: 4:26 - loss: 0.9356 - pos_distance: 0.4106 - neg_distance: 0.346 - ETA: 3:52 - loss: 0.9312 - pos_distance: 0.4178 - neg_distance: 0.349 - ETA: 3:23 - loss: 0.9302 - pos_distance: 0.4955 - neg_distance: 0.425 - ETA: 2:54 - loss: 0.9276 - pos_distance: 0.5238 - neg_distance: 0.451 - ETA: 2:25 - loss: 0.9286 - pos_distance: 0.5022 - neg_distance: 0.430 - ETA: 1:56 - loss: 0.9265 - pos_distance: 0.4798 - neg_distance: 0.406 - ETA: 1:27 - loss: 0.9303 - pos_distance: 0.4953 - neg_distance: 0.425 - ETA: 57s - loss: 0.9301 - pos_distance: 0.5065 - neg_distance: 0.436 - ETA: 29s - loss: 0.9312 - pos_distance: 0.5084 - neg_distance: 0.43 - 289s 29s/step - loss: 0.9297 - pos_distance: 0.4956 - neg_distance: 0.4252\n",
      "Epoch 49/1000\n",
      "10/10 [==============================] - ETA: 4:23 - loss: 0.9424 - pos_distance: 0.3482 - neg_distance: 0.290 - ETA: 3:53 - loss: 0.9419 - pos_distance: 0.4083 - neg_distance: 0.350 - ETA: 3:25 - loss: 0.9451 - pos_distance: 0.4549 - neg_distance: 0.400 - ETA: 2:54 - loss: 0.9385 - pos_distance: 0.4880 - neg_distance: 0.426 - ETA: 2:25 - loss: 0.9383 - pos_distance: 0.4913 - neg_distance: 0.429 - ETA: 1:56 - loss: 0.9378 - pos_distance: 0.4860 - neg_distance: 0.423 - ETA: 1:27 - loss: 0.9364 - pos_distance: 0.4858 - neg_distance: 0.422 - ETA: 58s - loss: 0.9347 - pos_distance: 0.4922 - neg_distance: 0.426 - ETA: 29s - loss: 0.9351 - pos_distance: 0.5019 - neg_distance: 0.43 - 292s 29s/step - loss: 0.9354 - pos_distance: 0.4987 - neg_distance: 0.4341\n",
      "Epoch 50/1000\n",
      "10/10 [==============================] - ETA: 4:29 - loss: 0.9413 - pos_distance: 0.3688 - neg_distance: 0.310 - ETA: 3:53 - loss: 0.9387 - pos_distance: 0.3908 - neg_distance: 0.329 - ETA: 3:23 - loss: 0.9358 - pos_distance: 0.4433 - neg_distance: 0.379 - ETA: 2:55 - loss: 0.9330 - pos_distance: 0.4929 - neg_distance: 0.425 - ETA: 2:25 - loss: 0.9327 - pos_distance: 0.5056 - neg_distance: 0.438 - ETA: 1:56 - loss: 0.9361 - pos_distance: 0.4928 - neg_distance: 0.428 - ETA: 1:27 - loss: 0.9372 - pos_distance: 0.4652 - neg_distance: 0.402 - ETA: 58s - loss: 0.9372 - pos_distance: 0.4519 - neg_distance: 0.389 - ETA: 29s - loss: 0.9364 - pos_distance: 0.4604 - neg_distance: 0.39 - 290s 29s/step - loss: 0.9345 - pos_distance: 0.4797 - neg_distance: 0.4143\n",
      "Epoch 51/1000\n",
      "10/10 [==============================] - ETA: 4:17 - loss: 0.9350 - pos_distance: 0.4365 - neg_distance: 0.371 - ETA: 3:54 - loss: 0.9377 - pos_distance: 0.3960 - neg_distance: 0.333 - ETA: 3:24 - loss: 0.9322 - pos_distance: 0.3957 - neg_distance: 0.327 - ETA: 2:54 - loss: 0.9359 - pos_distance: 0.4340 - neg_distance: 0.369 - ETA: 2:25 - loss: 0.9343 - pos_distance: 0.4587 - neg_distance: 0.392 - ETA: 1:57 - loss: 0.9336 - pos_distance: 0.4805 - neg_distance: 0.414 - ETA: 1:27 - loss: 0.9326 - pos_distance: 0.4901 - neg_distance: 0.422 - ETA: 58s - loss: 0.9321 - pos_distance: 0.4903 - neg_distance: 0.422 - ETA: 28s - loss: 0.9316 - pos_distance: 0.4883 - neg_distance: 0.41 - 291s 29s/step - loss: 0.9315 - pos_distance: 0.4851 - neg_distance: 0.4166\n",
      "Epoch 52/1000\n",
      "10/10 [==============================] - ETA: 4:24 - loss: 0.9179 - pos_distance: 0.4011 - neg_distance: 0.319 - ETA: 3:54 - loss: 0.9306 - pos_distance: 0.4318 - neg_distance: 0.362 - ETA: 3:25 - loss: 0.9317 - pos_distance: 0.4601 - neg_distance: 0.391 - ETA: 2:54 - loss: 0.9306 - pos_distance: 0.4732 - neg_distance: 0.403 - ETA: 2:25 - loss: 0.9299 - pos_distance: 0.4590 - neg_distance: 0.388 - ETA: 1:56 - loss: 0.9310 - pos_distance: 0.4423 - neg_distance: 0.373 - ETA: 1:27 - loss: 0.9335 - pos_distance: 0.4417 - neg_distance: 0.375 - ETA: 57s - loss: 0.9334 - pos_distance: 0.4452 - neg_distance: 0.378 - ETA: 29s - loss: 0.9336 - pos_distance: 0.4435 - neg_distance: 0.37 - 291s 29s/step - loss: 0.9312 - pos_distance: 0.4480 - neg_distance: 0.3792\n",
      "Epoch 53/1000\n",
      "10/10 [==============================] - ETA: 4:19 - loss: 0.9250 - pos_distance: 0.4478 - neg_distance: 0.372 - ETA: 3:49 - loss: 0.9321 - pos_distance: 0.4110 - neg_distance: 0.343 - ETA: 3:19 - loss: 0.9307 - pos_distance: 0.3902 - neg_distance: 0.320 - ETA: 2:52 - loss: 0.9296 - pos_distance: 0.4145 - neg_distance: 0.344 - ETA: 2:24 - loss: 0.9327 - pos_distance: 0.4309 - neg_distance: 0.363 - ETA: 1:56 - loss: 0.9317 - pos_distance: 0.4191 - neg_distance: 0.350 - ETA: 1:27 - loss: 0.9306 - pos_distance: 0.4227 - neg_distance: 0.353 - ETA: 58s - loss: 0.9346 - pos_distance: 0.4545 - neg_distance: 0.389 - ETA: 29s - loss: 0.9374 - pos_distance: 0.4847 - neg_distance: 0.42 - 295s 29s/step - loss: 0.9368 - pos_distance: 0.4948 - neg_distance: 0.4316\n",
      "Epoch 54/1000\n",
      "10/10 [==============================] - ETA: 4:15 - loss: 0.9519 - pos_distance: 0.3453 - neg_distance: 0.297 - ETA: 3:52 - loss: 0.9503 - pos_distance: 0.3110 - neg_distance: 0.261 - ETA: 3:25 - loss: 0.9453 - pos_distance: 0.3294 - neg_distance: 0.274 - ETA: 2:55 - loss: 0.9411 - pos_distance: 0.3981 - neg_distance: 0.339 - ETA: 2:25 - loss: 0.9412 - pos_distance: 0.4535 - neg_distance: 0.394 - ETA: 1:55 - loss: 0.9405 - pos_distance: 0.4809 - neg_distance: 0.421 - ETA: 1:26 - loss: 0.9354 - pos_distance: 0.4900 - neg_distance: 0.425 - ETA: 58s - loss: 0.9336 - pos_distance: 0.4836 - neg_distance: 0.417 - ETA: 29s - loss: 0.9328 - pos_distance: 0.4725 - neg_distance: 0.40 - 293s 29s/step - loss: 0.9322 - pos_distance: 0.4719 - neg_distance: 0.4041\n",
      "Epoch 55/1000\n",
      "10/10 [==============================] - ETA: 4:24 - loss: 0.9334 - pos_distance: 0.5846 - neg_distance: 0.518 - ETA: 3:54 - loss: 0.9357 - pos_distance: 0.5899 - neg_distance: 0.525 - ETA: 3:26 - loss: 0.9281 - pos_distance: 0.5826 - neg_distance: 0.510 - ETA: 2:57 - loss: 0.9268 - pos_distance: 0.5478 - neg_distance: 0.474 - ETA: 2:26 - loss: 0.9294 - pos_distance: 0.5173 - neg_distance: 0.446 - ETA: 1:56 - loss: 0.9289 - pos_distance: 0.5028 - neg_distance: 0.431 - ETA: 1:28 - loss: 0.9251 - pos_distance: 0.4948 - neg_distance: 0.419 - ETA: 58s - loss: 0.9250 - pos_distance: 0.4927 - neg_distance: 0.417 - ETA: 29s - loss: 0.9252 - pos_distance: 0.4865 - neg_distance: 0.41 - 293s 29s/step - loss: 0.9257 - pos_distance: 0.4753 - neg_distance: 0.4010\n",
      "Epoch 56/1000\n"
     ]
    },
    {
     "name": "stdout",
     "output_type": "stream",
     "text": [
      "10/10 [==============================] - ETA: 4:14 - loss: 0.9232 - pos_distance: 0.4026 - neg_distance: 0.325 - ETA: 3:49 - loss: 0.9223 - pos_distance: 0.4332 - neg_distance: 0.355 - ETA: 3:20 - loss: 0.9224 - pos_distance: 0.4579 - neg_distance: 0.380 - ETA: 2:51 - loss: 0.9205 - pos_distance: 0.4706 - neg_distance: 0.391 - ETA: 2:23 - loss: 0.9201 - pos_distance: 0.4621 - neg_distance: 0.382 - ETA: 1:56 - loss: 0.9227 - pos_distance: 0.4562 - neg_distance: 0.378 - ETA: 1:27 - loss: 0.9270 - pos_distance: 0.4736 - neg_distance: 0.400 - ETA: 58s - loss: 0.9267 - pos_distance: 0.4915 - neg_distance: 0.418 - ETA: 29s - loss: 0.9249 - pos_distance: 0.4927 - neg_distance: 0.41 - 293s 29s/step - loss: 0.9257 - pos_distance: 0.4863 - neg_distance: 0.4120\n",
      "Epoch 57/1000\n",
      "10/10 [==============================] - ETA: 4:25 - loss: 0.9229 - pos_distance: 0.4215 - neg_distance: 0.344 - ETA: 3:54 - loss: 0.9230 - pos_distance: 0.4128 - neg_distance: 0.335 - ETA: 3:36 - loss: 0.9312 - pos_distance: 0.4473 - neg_distance: 0.378 - ETA: 3:02 - loss: 0.9276 - pos_distance: 0.4518 - neg_distance: 0.379 - ETA: 2:30 - loss: 0.9242 - pos_distance: 0.4525 - neg_distance: 0.376 - ETA: 2:00 - loss: 0.9250 - pos_distance: 0.4549 - neg_distance: 0.379 - ETA: 1:30 - loss: 0.9246 - pos_distance: 0.4520 - neg_distance: 0.376 - ETA: 59s - loss: 0.9239 - pos_distance: 0.4514 - neg_distance: 0.375 - ETA: 29s - loss: 0.9239 - pos_distance: 0.4522 - neg_distance: 0.37 - 300s 30s/step - loss: 0.9263 - pos_distance: 0.4515 - neg_distance: 0.3778\n",
      "Epoch 58/1000\n",
      "10/10 [==============================] - ETA: 4:25 - loss: 0.9195 - pos_distance: 0.4626 - neg_distance: 0.382 - ETA: 3:54 - loss: 0.9214 - pos_distance: 0.4814 - neg_distance: 0.402 - ETA: 3:28 - loss: 0.9219 - pos_distance: 0.4768 - neg_distance: 0.398 - ETA: 2:59 - loss: 0.9204 - pos_distance: 0.4718 - neg_distance: 0.392 - ETA: 2:29 - loss: 0.9177 - pos_distance: 0.4728 - neg_distance: 0.390 - ETA: 1:58 - loss: 0.9170 - pos_distance: 0.4681 - neg_distance: 0.385 - ETA: 1:28 - loss: 0.9194 - pos_distance: 0.4699 - neg_distance: 0.389 - ETA: 59s - loss: 0.9220 - pos_distance: 0.4697 - neg_distance: 0.391 - ETA: 29s - loss: 0.9225 - pos_distance: 0.4688 - neg_distance: 0.39 - 298s 30s/step - loss: 0.9213 - pos_distance: 0.4666 - neg_distance: 0.3879\n",
      "Epoch 59/1000\n",
      "10/10 [==============================] - ETA: 4:28 - loss: 0.9366 - pos_distance: 0.5833 - neg_distance: 0.520 - ETA: 3:54 - loss: 0.9273 - pos_distance: 0.5737 - neg_distance: 0.501 - ETA: 3:24 - loss: 0.9291 - pos_distance: 0.5467 - neg_distance: 0.475 - ETA: 2:54 - loss: 0.9316 - pos_distance: 0.5156 - neg_distance: 0.447 - ETA: 2:25 - loss: 0.9308 - pos_distance: 0.4927 - neg_distance: 0.423 - ETA: 1:56 - loss: 0.9338 - pos_distance: 0.4742 - neg_distance: 0.408 - ETA: 1:27 - loss: 0.9314 - pos_distance: 0.4733 - neg_distance: 0.404 - ETA: 58s - loss: 0.9291 - pos_distance: 0.4720 - neg_distance: 0.401 - ETA: 29s - loss: 0.9277 - pos_distance: 0.4746 - neg_distance: 0.40 - 295s 30s/step - loss: 0.9269 - pos_distance: 0.4818 - neg_distance: 0.4087\n",
      "Epoch 60/1000\n",
      "10/10 [==============================] - ETA: 4:25 - loss: 0.9177 - pos_distance: 0.5385 - neg_distance: 0.456 - ETA: 3:55 - loss: 0.9303 - pos_distance: 0.4978 - neg_distance: 0.428 - ETA: 3:27 - loss: 0.9251 - pos_distance: 0.4815 - neg_distance: 0.406 - ETA: 2:58 - loss: 0.9272 - pos_distance: 0.4913 - neg_distance: 0.418 - ETA: 2:27 - loss: 0.9254 - pos_distance: 0.4953 - neg_distance: 0.420 - ETA: 1:58 - loss: 0.9242 - pos_distance: 0.4906 - neg_distance: 0.414 - ETA: 1:28 - loss: 0.9266 - pos_distance: 0.4884 - neg_distance: 0.415 - ETA: 59s - loss: 0.9263 - pos_distance: 0.4830 - neg_distance: 0.409 - ETA: 29s - loss: 0.9264 - pos_distance: 0.4773 - neg_distance: 0.40 - 296s 30s/step - loss: 0.9246 - pos_distance: 0.4807 - neg_distance: 0.4053\n",
      "Epoch 61/1000\n",
      "10/10 [==============================] - ETA: 4:34 - loss: 0.9089 - pos_distance: 0.4895 - neg_distance: 0.398 - ETA: 4:00 - loss: 0.9186 - pos_distance: 0.4604 - neg_distance: 0.379 - ETA: 3:31 - loss: 0.9157 - pos_distance: 0.4530 - neg_distance: 0.368 - ETA: 3:00 - loss: 0.9126 - pos_distance: 0.4804 - neg_distance: 0.393 - ETA: 2:30 - loss: 0.9138 - pos_distance: 0.4960 - neg_distance: 0.409 - ETA: 1:59 - loss: 0.9116 - pos_distance: 0.4929 - neg_distance: 0.404 - ETA: 1:30 - loss: 0.9134 - pos_distance: 0.4786 - neg_distance: 0.392 - ETA: 59s - loss: 0.9137 - pos_distance: 0.4845 - neg_distance: 0.398 - ETA: 29s - loss: 0.9151 - pos_distance: 0.4975 - neg_distance: 0.41 - 299s 30s/step - loss: 0.9164 - pos_distance: 0.5039 - neg_distance: 0.4203\n",
      "Epoch 62/1000\n",
      "10/10 [==============================] - ETA: 4:35 - loss: 0.9295 - pos_distance: 0.3775 - neg_distance: 0.306 - ETA: 3:59 - loss: 0.9182 - pos_distance: 0.3645 - neg_distance: 0.282 - ETA: 3:26 - loss: 0.9170 - pos_distance: 0.4251 - neg_distance: 0.342 - ETA: 2:57 - loss: 0.9214 - pos_distance: 0.4724 - neg_distance: 0.393 - ETA: 2:27 - loss: 0.9211 - pos_distance: 0.4885 - neg_distance: 0.409 - ETA: 1:58 - loss: 0.9182 - pos_distance: 0.4850 - neg_distance: 0.403 - ETA: 1:28 - loss: 0.9186 - pos_distance: 0.4772 - neg_distance: 0.395 - ETA: 59s - loss: 0.9208 - pos_distance: 0.4772 - neg_distance: 0.398 - ETA: 29s - loss: 0.9192 - pos_distance: 0.4801 - neg_distance: 0.39 - 296s 30s/step - loss: 0.9210 - pos_distance: 0.4841 - neg_distance: 0.4051\n",
      "Epoch 63/1000\n",
      "10/10 [==============================] - ETA: 4:25 - loss: 0.9238 - pos_distance: 0.4578 - neg_distance: 0.381 - ETA: 3:59 - loss: 0.9318 - pos_distance: 0.4386 - neg_distance: 0.370 - ETA: 3:28 - loss: 0.9275 - pos_distance: 0.4209 - neg_distance: 0.348 - ETA: 2:58 - loss: 0.9260 - pos_distance: 0.4450 - neg_distance: 0.371 - ETA: 2:28 - loss: 0.9272 - pos_distance: 0.4798 - neg_distance: 0.407 - ETA: 1:58 - loss: 0.9279 - pos_distance: 0.5005 - neg_distance: 0.428 - ETA: 1:28 - loss: 0.9267 - pos_distance: 0.5006 - neg_distance: 0.427 - ETA: 58s - loss: 0.9269 - pos_distance: 0.4813 - neg_distance: 0.408 - ETA: 29s - loss: 0.9273 - pos_distance: 0.4694 - neg_distance: 0.39 - 295s 30s/step - loss: 0.9268 - pos_distance: 0.4743 - neg_distance: 0.4011\n",
      "Epoch 64/1000\n",
      "10/10 [==============================] - ETA: 4:34 - loss: 0.9195 - pos_distance: 0.6323 - neg_distance: 0.551 - ETA: 3:56 - loss: 0.9315 - pos_distance: 0.6257 - neg_distance: 0.557 - ETA: 3:27 - loss: 0.9256 - pos_distance: 0.6097 - neg_distance: 0.535 - ETA: 2:58 - loss: 0.9238 - pos_distance: 0.5828 - neg_distance: 0.506 - ETA: 2:28 - loss: 0.9265 - pos_distance: 0.5599 - neg_distance: 0.486 - ETA: 1:59 - loss: 0.9250 - pos_distance: 0.5521 - neg_distance: 0.477 - ETA: 1:29 - loss: 0.9235 - pos_distance: 0.5449 - neg_distance: 0.468 - ETA: 59s - loss: 0.9228 - pos_distance: 0.5354 - neg_distance: 0.458 - ETA: 29s - loss: 0.9212 - pos_distance: 0.5279 - neg_distance: 0.44 - 296s 30s/step - loss: 0.9198 - pos_distance: 0.5250 - neg_distance: 0.4448\n",
      "Epoch 65/1000\n",
      "10/10 [==============================] - ETA: 4:28 - loss: 0.9199 - pos_distance: 0.5376 - neg_distance: 0.457 - ETA: 3:57 - loss: 0.9150 - pos_distance: 0.4919 - neg_distance: 0.406 - ETA: 3:27 - loss: 0.9082 - pos_distance: 0.4849 - neg_distance: 0.393 - ETA: 2:57 - loss: 0.9102 - pos_distance: 0.4824 - neg_distance: 0.392 - ETA: 2:28 - loss: 0.9088 - pos_distance: 0.4874 - neg_distance: 0.396 - ETA: 1:59 - loss: 0.9169 - pos_distance: 0.4812 - neg_distance: 0.398 - ETA: 1:29 - loss: 0.9168 - pos_distance: 0.4679 - neg_distance: 0.384 - ETA: 59s - loss: 0.9190 - pos_distance: 0.4592 - neg_distance: 0.378 - ETA: 29s - loss: 0.9181 - pos_distance: 0.4573 - neg_distance: 0.37 - 298s 30s/step - loss: 0.9171 - pos_distance: 0.4627 - neg_distance: 0.3798\n",
      "Epoch 66/1000\n"
     ]
    },
    {
     "name": "stdout",
     "output_type": "stream",
     "text": [
      "10/10 [==============================] - ETA: 4:18 - loss: 0.9019 - pos_distance: 0.4868 - neg_distance: 0.388 - ETA: 3:54 - loss: 0.9086 - pos_distance: 0.4492 - neg_distance: 0.357 - ETA: 3:26 - loss: 0.9187 - pos_distance: 0.4755 - neg_distance: 0.394 - ETA: 2:55 - loss: 0.9180 - pos_distance: 0.4960 - neg_distance: 0.414 - ETA: 2:28 - loss: 0.9178 - pos_distance: 0.4980 - neg_distance: 0.415 - ETA: 1:58 - loss: 0.9167 - pos_distance: 0.4922 - neg_distance: 0.408 - ETA: 1:28 - loss: 0.9185 - pos_distance: 0.4714 - neg_distance: 0.390 - ETA: 59s - loss: 0.9196 - pos_distance: 0.4593 - neg_distance: 0.378 - ETA: 29s - loss: 0.9177 - pos_distance: 0.4760 - neg_distance: 0.39 - 294s 29s/step - loss: 0.9194 - pos_distance: 0.4871 - neg_distance: 0.4065\n",
      "Epoch 67/1000\n",
      "10/10 [==============================] - ETA: 4:29 - loss: 0.9069 - pos_distance: 0.5291 - neg_distance: 0.435 - ETA: 49:43:33 - loss: 0.9062 - pos_distance: 0.4598 - neg_distance: 0.366 - ETA: 29:01:38 - loss: 0.9118 - pos_distance: 0.4443 - neg_distance: 0.356 - ETA: 18:40:28 - loss: 0.9120 - pos_distance: 0.4452 - neg_distance: 0.357 - ETA: 12:27:32 - loss: 0.9109 - pos_distance: 0.4547 - neg_distance: 0.365 - ETA: 8:18:43 - loss: 0.9132 - pos_distance: 0.4726 - neg_distance: 0.385 - ETA: 5:20:50 - loss: 0.9158 - pos_distance: 0.4778 - neg_distance: 0.39 - ETA: 3:07:17 - loss: 0.9137 - pos_distance: 0.4754 - neg_distance: 0.38 - ETA: 1:23:18 - loss: 0.9148 - pos_distance: 0.4722 - neg_distance: 0.38 - 45024s 4502s/step - loss: 0.9147 - pos_distance: 0.4676 - neg_distance: 0.3823\n",
      "Epoch 68/1000\n",
      "10/10 [==============================] - ETA: 5:08 - loss: 0.9285 - pos_distance: 0.4978 - neg_distance: 0.426 - ETA: 4:28 - loss: 0.9290 - pos_distance: 0.5226 - neg_distance: 0.451 - ETA: 3:51 - loss: 0.9224 - pos_distance: 0.5019 - neg_distance: 0.424 - ETA: 3:18 - loss: 0.9204 - pos_distance: 0.4671 - neg_distance: 0.387 - ETA: 2:44 - loss: 0.9170 - pos_distance: 0.4649 - neg_distance: 0.381 - ETA: 2:11 - loss: 0.9152 - pos_distance: 0.4847 - neg_distance: 0.399 - ETA: 1:39 - loss: 0.9178 - pos_distance: 0.4934 - neg_distance: 0.411 - ETA: 1:06 - loss: 0.9189 - pos_distance: 0.4958 - neg_distance: 0.414 - ETA: 33s - loss: 0.9189 - pos_distance: 0.4887 - neg_distance: 0.407 - 328s 33s/step - loss: 0.9178 - pos_distance: 0.4889 - neg_distance: 0.4067\n",
      "Epoch 69/1000\n",
      "10/10 [==============================] - ETA: 5:06 - loss: 0.9041 - pos_distance: 0.5158 - neg_distance: 0.419 - ETA: 4:33 - loss: 0.9256 - pos_distance: 0.5573 - neg_distance: 0.482 - ETA: 3:55 - loss: 0.9289 - pos_distance: 0.5435 - neg_distance: 0.472 - ETA: 3:20 - loss: 0.9295 - pos_distance: 0.4981 - neg_distance: 0.427 - ETA: 2:46 - loss: 0.9308 - pos_distance: 0.4638 - neg_distance: 0.394 - ETA: 2:12 - loss: 0.9317 - pos_distance: 0.4590 - neg_distance: 0.390 - ETA: 1:38 - loss: 0.9300 - pos_distance: 0.4592 - neg_distance: 0.389 - ETA: 1:05 - loss: 0.9303 - pos_distance: 0.4595 - neg_distance: 0.389 - ETA: 32s - loss: 0.9296 - pos_distance: 0.4598 - neg_distance: 0.389 - 326s 33s/step - loss: 0.9292 - pos_distance: 0.4451 - neg_distance: 0.3743\n",
      "Epoch 70/1000\n",
      "10/10 [==============================] - ETA: 4:59 - loss: 0.9097 - pos_distance: 0.3387 - neg_distance: 0.248 - ETA: 4:17 - loss: 0.9166 - pos_distance: 0.4244 - neg_distance: 0.341 - ETA: 3:43 - loss: 0.9215 - pos_distance: 0.4996 - neg_distance: 0.421 - ETA: 3:13 - loss: 0.9298 - pos_distance: 0.5244 - neg_distance: 0.454 - ETA: 2:41 - loss: 0.9223 - pos_distance: 0.5165 - neg_distance: 0.438 - ETA: 2:08 - loss: 0.9206 - pos_distance: 0.5065 - neg_distance: 0.427 - ETA: 1:37 - loss: 0.9208 - pos_distance: 0.5039 - neg_distance: 0.424 - ETA: 1:05 - loss: 0.9210 - pos_distance: 0.5052 - neg_distance: 0.426 - ETA: 32s - loss: 0.9225 - pos_distance: 0.5081 - neg_distance: 0.430 - 323s 32s/step - loss: 0.9223 - pos_distance: 0.5169 - neg_distance: 0.4392\n",
      "Epoch 71/1000\n",
      "10/10 [==============================] - ETA: 4:59 - loss: 0.9388 - pos_distance: 0.5298 - neg_distance: 0.468 - ETA: 4:14 - loss: 0.9292 - pos_distance: 0.5152 - neg_distance: 0.444 - ETA: 3:36 - loss: 0.9264 - pos_distance: 0.5033 - neg_distance: 0.429 - ETA: 3:06 - loss: 0.9213 - pos_distance: 0.4844 - neg_distance: 0.405 - ETA: 2:34 - loss: 0.9238 - pos_distance: 0.4724 - neg_distance: 0.396 - ETA: 2:02 - loss: 0.9238 - pos_distance: 0.4730 - neg_distance: 0.396 - ETA: 1:31 - loss: 0.9260 - pos_distance: 0.4638 - neg_distance: 0.389 - ETA: 1:01 - loss: 0.9238 - pos_distance: 0.4481 - neg_distance: 0.371 - ETA: 30s - loss: 0.9239 - pos_distance: 0.4354 - neg_distance: 0.359 - 307s 31s/step - loss: 0.9231 - pos_distance: 0.4414 - neg_distance: 0.3645\n",
      "Epoch 72/1000\n",
      "10/10 [==============================] - ETA: 4:19 - loss: 0.9400 - pos_distance: 0.6045 - neg_distance: 0.544 - ETA: 3:53 - loss: 0.9278 - pos_distance: 0.5880 - neg_distance: 0.515 - ETA: 3:27 - loss: 0.9250 - pos_distance: 0.5464 - neg_distance: 0.471 - ETA: 3:00 - loss: 0.9241 - pos_distance: 0.4948 - neg_distance: 0.419 - ETA: 2:33 - loss: 0.9256 - pos_distance: 0.4660 - neg_distance: 0.391 - ETA: 2:04 - loss: 0.9245 - pos_distance: 0.4733 - neg_distance: 0.397 - ETA: 1:33 - loss: 0.9192 - pos_distance: 0.4909 - neg_distance: 0.410 - ETA: 1:02 - loss: 0.9203 - pos_distance: 0.5041 - neg_distance: 0.424 - ETA: 31s - loss: 0.9224 - pos_distance: 0.5007 - neg_distance: 0.423 - 309s 31s/step - loss: 0.9220 - pos_distance: 0.4848 - neg_distance: 0.4068\n",
      "Epoch 73/1000\n",
      "10/10 [==============================] - ETA: 4:35 - loss: 0.9364 - pos_distance: 0.3329 - neg_distance: 0.269 - ETA: 4:14 - loss: 0.9171 - pos_distance: 0.4074 - neg_distance: 0.324 - ETA: 3:56 - loss: 0.9208 - pos_distance: 0.4698 - neg_distance: 0.390 - ETA: 3:27 - loss: 0.9167 - pos_distance: 0.5030 - neg_distance: 0.419 - ETA: 2:52 - loss: 0.9173 - pos_distance: 0.5145 - neg_distance: 0.431 - ETA: 2:15 - loss: 0.9191 - pos_distance: 0.5092 - neg_distance: 0.428 - ETA: 1:42 - loss: 0.9208 - pos_distance: 0.4946 - neg_distance: 0.415 - ETA: 1:07 - loss: 0.9232 - pos_distance: 0.4792 - neg_distance: 0.402 - ETA: 33s - loss: 0.9226 - pos_distance: 0.4717 - neg_distance: 0.394 - 338s 34s/step - loss: 0.9213 - pos_distance: 0.4769 - neg_distance: 0.3982\n",
      "Epoch 74/1000\n",
      "10/10 [==============================] - ETA: 5:08 - loss: 0.9080 - pos_distance: 0.5897 - neg_distance: 0.497 - ETA: 4:31 - loss: 0.9082 - pos_distance: 0.6045 - neg_distance: 0.512 - ETA: 4:07 - loss: 0.9142 - pos_distance: 0.5768 - neg_distance: 0.491 - ETA: 3:27 - loss: 0.9109 - pos_distance: 0.5549 - neg_distance: 0.465 - ETA: 2:50 - loss: 0.9084 - pos_distance: 0.5354 - neg_distance: 0.443 - ETA: 2:13 - loss: 0.9089 - pos_distance: 0.5086 - neg_distance: 0.417 - ETA: 1:40 - loss: 0.9089 - pos_distance: 0.4908 - neg_distance: 0.399 - ETA: 1:06 - loss: 0.9087 - pos_distance: 0.4864 - neg_distance: 0.395 - ETA: 33s - loss: 0.9112 - pos_distance: 0.4917 - neg_distance: 0.402 - 342s 34s/step - loss: 0.9075 - pos_distance: 0.5015 - neg_distance: 0.4091\n",
      "Epoch 75/1000\n",
      "10/10 [==============================] - ETA: 5:07 - loss: 0.9168 - pos_distance: 0.5611 - neg_distance: 0.477 - ETA: 4:24 - loss: 0.9167 - pos_distance: 0.5294 - neg_distance: 0.446 - ETA: 3:46 - loss: 0.9124 - pos_distance: 0.4810 - neg_distance: 0.393 - ETA: 3:13 - loss: 0.9108 - pos_distance: 0.4569 - neg_distance: 0.367 - ETA: 2:40 - loss: 0.9104 - pos_distance: 0.4473 - neg_distance: 0.357 - ETA: 2:09 - loss: 0.9101 - pos_distance: 0.4617 - neg_distance: 0.371 - ETA: 1:38 - loss: 0.9137 - pos_distance: 0.4692 - neg_distance: 0.382 - ETA: 1:05 - loss: 0.9122 - pos_distance: 0.4717 - neg_distance: 0.383 - ETA: 32s - loss: 0.9086 - pos_distance: 0.4705 - neg_distance: 0.379 - 328s 33s/step - loss: 0.9110 - pos_distance: 0.4673 - neg_distance: 0.3783\n",
      "Epoch 76/1000\n"
     ]
    },
    {
     "name": "stdout",
     "output_type": "stream",
     "text": [
      "10/10 [==============================] - ETA: 5:11 - loss: 0.9098 - pos_distance: 0.4403 - neg_distance: 0.350 - ETA: 4:42 - loss: 0.9168 - pos_distance: 0.4484 - neg_distance: 0.365 - ETA: 4:07 - loss: 0.9110 - pos_distance: 0.4695 - neg_distance: 0.380 - ETA: 3:31 - loss: 0.9079 - pos_distance: 0.4849 - neg_distance: 0.392 - ETA: 2:52 - loss: 0.9086 - pos_distance: 0.4845 - neg_distance: 0.393 - ETA: 2:16 - loss: 0.9136 - pos_distance: 0.4848 - neg_distance: 0.398 - ETA: 1:41 - loss: 0.9101 - pos_distance: 0.4851 - neg_distance: 0.395 - ETA: 1:08 - loss: 0.9112 - pos_distance: 0.4782 - neg_distance: 0.389 - ETA: 34s - loss: 0.9104 - pos_distance: 0.4741 - neg_distance: 0.384 - 347s 35s/step - loss: 0.9093 - pos_distance: 0.4755 - neg_distance: 0.3848\n",
      "Epoch 77/1000\n",
      "10/10 [==============================] - ETA: 5:18 - loss: 0.9194 - pos_distance: 0.5305 - neg_distance: 0.449 - ETA: 4:43 - loss: 0.9077 - pos_distance: 0.5114 - neg_distance: 0.419 - ETA: 4:07 - loss: 0.9094 - pos_distance: 0.4621 - neg_distance: 0.371 - ETA: 3:27 - loss: 0.9127 - pos_distance: 0.4463 - neg_distance: 0.359 - ETA: 2:54 - loss: 0.9122 - pos_distance: 0.4493 - neg_distance: 0.361 - ETA: 2:18 - loss: 0.9143 - pos_distance: 0.4537 - neg_distance: 0.367 - ETA: 1:42 - loss: 0.9143 - pos_distance: 0.4528 - neg_distance: 0.367 - ETA: 1:07 - loss: 0.9116 - pos_distance: 0.4504 - neg_distance: 0.362 - ETA: 33s - loss: 0.9127 - pos_distance: 0.4494 - neg_distance: 0.362 - 334s 33s/step - loss: 0.9137 - pos_distance: 0.4513 - neg_distance: 0.3650\n",
      "Epoch 78/1000\n",
      "10/10 [==============================] - ETA: 4:46 - loss: 0.9164 - pos_distance: 0.4355 - neg_distance: 0.351 - ETA: 4:28 - loss: 0.9155 - pos_distance: 0.4284 - neg_distance: 0.343 - ETA: 3:50 - loss: 0.9122 - pos_distance: 0.4490 - neg_distance: 0.361 - ETA: 3:18 - loss: 0.9107 - pos_distance: 0.4700 - neg_distance: 0.380 - ETA: 2:42 - loss: 0.9157 - pos_distance: 0.4693 - neg_distance: 0.384 - ETA: 2:07 - loss: 0.9137 - pos_distance: 0.4782 - neg_distance: 0.391 - ETA: 1:35 - loss: 0.9127 - pos_distance: 0.4858 - neg_distance: 0.398 - ETA: 1:02 - loss: 0.9146 - pos_distance: 0.4947 - neg_distance: 0.409 - ETA: 31s - loss: 0.9158 - pos_distance: 0.5004 - neg_distance: 0.416 - 312s 31s/step - loss: 0.9160 - pos_distance: 0.4961 - neg_distance: 0.4121\n",
      "Epoch 79/1000\n",
      "10/10 [==============================] - ETA: 4:28 - loss: 0.9226 - pos_distance: 0.3470 - neg_distance: 0.269 - ETA: 3:55 - loss: 0.9199 - pos_distance: 0.3658 - neg_distance: 0.285 - ETA: 3:29 - loss: 0.9207 - pos_distance: 0.4191 - neg_distance: 0.339 - ETA: 3:10 - loss: 0.9195 - pos_distance: 0.4611 - neg_distance: 0.380 - ETA: 2:37 - loss: 0.9202 - pos_distance: 0.4975 - neg_distance: 0.417 - ETA: 2:06 - loss: 0.9213 - pos_distance: 0.5170 - neg_distance: 0.438 - ETA: 1:34 - loss: 0.9187 - pos_distance: 0.5164 - neg_distance: 0.435 - ETA: 1:02 - loss: 0.9190 - pos_distance: 0.4924 - neg_distance: 0.411 - ETA: 31s - loss: 0.9175 - pos_distance: 0.4739 - neg_distance: 0.391 - 313s 31s/step - loss: 0.9179 - pos_distance: 0.4782 - neg_distance: 0.3961\n",
      "Epoch 80/1000\n",
      "10/10 [==============================] - ETA: 5:08 - loss: 0.9223 - pos_distance: 0.6694 - neg_distance: 0.591 - ETA: 4:32 - loss: 0.9284 - pos_distance: 0.7015 - neg_distance: 0.629 - ETA: 3:52 - loss: 0.9271 - pos_distance: 0.6964 - neg_distance: 0.623 - ETA: 3:16 - loss: 0.9178 - pos_distance: 0.6762 - neg_distance: 0.594 - ETA: 2:40 - loss: 0.9124 - pos_distance: 0.6419 - neg_distance: 0.554 - ETA: 2:07 - loss: 0.9130 - pos_distance: 0.6047 - neg_distance: 0.517 - ETA: 1:39 - loss: 0.9154 - pos_distance: 0.5784 - neg_distance: 0.493 - ETA: 1:06 - loss: 0.9161 - pos_distance: 0.5620 - neg_distance: 0.478 - ETA: 32s - loss: 0.9178 - pos_distance: 0.5559 - neg_distance: 0.473 - 325s 33s/step - loss: 0.9185 - pos_distance: 0.5508 - neg_distance: 0.4693\n",
      "Epoch 81/1000\n",
      "10/10 [==============================] - ETA: 4:35 - loss: 0.8996 - pos_distance: 0.4969 - neg_distance: 0.396 - ETA: 4:10 - loss: 0.9132 - pos_distance: 0.4462 - neg_distance: 0.359 - ETA: 3:35 - loss: 0.9162 - pos_distance: 0.4329 - neg_distance: 0.349 - ETA: 3:02 - loss: 0.9187 - pos_distance: 0.4403 - neg_distance: 0.359 - ETA: 2:32 - loss: 0.9186 - pos_distance: 0.4547 - neg_distance: 0.373 - ETA: 2:01 - loss: 0.9203 - pos_distance: 0.4659 - neg_distance: 0.386 - ETA: 1:30 - loss: 0.9235 - pos_distance: 0.4632 - neg_distance: 0.386 - ETA: 1:00 - loss: 0.9234 - pos_distance: 0.4466 - neg_distance: 0.370 - ETA: 30s - loss: 0.9234 - pos_distance: 0.4346 - neg_distance: 0.358 - 302s 30s/step - loss: 0.9219 - pos_distance: 0.4306 - neg_distance: 0.3525\n",
      "Epoch 82/1000\n",
      "10/10 [==============================] - ETA: 4:52 - loss: 0.9213 - pos_distance: 0.5008 - neg_distance: 0.422 - ETA: 4:12 - loss: 0.9180 - pos_distance: 0.5434 - neg_distance: 0.461 - ETA: 3:36 - loss: 0.9159 - pos_distance: 0.5603 - neg_distance: 0.476 - ETA: 3:05 - loss: 0.9073 - pos_distance: 0.5356 - neg_distance: 0.442 - ETA: 2:38 - loss: 0.9100 - pos_distance: 0.5025 - neg_distance: 0.412 - ETA: 2:05 - loss: 0.9085 - pos_distance: 0.4772 - neg_distance: 0.385 - ETA: 1:33 - loss: 0.9083 - pos_distance: 0.4617 - neg_distance: 0.370 - ETA: 1:02 - loss: 0.9070 - pos_distance: 0.4630 - neg_distance: 0.370 - ETA: 31s - loss: 0.9065 - pos_distance: 0.4761 - neg_distance: 0.382 - 312s 31s/step - loss: 0.9071 - pos_distance: 0.4896 - neg_distance: 0.3966\n",
      "Epoch 83/1000\n",
      "10/10 [==============================] - ETA: 4:52 - loss: 0.8974 - pos_distance: 0.6386 - neg_distance: 0.536 - ETA: 4:19 - loss: 0.9123 - pos_distance: 0.6297 - neg_distance: 0.542 - ETA: 3:41 - loss: 0.9221 - pos_distance: 0.5841 - neg_distance: 0.506 - ETA: 3:09 - loss: 0.9221 - pos_distance: 0.5354 - neg_distance: 0.457 - ETA: 2:37 - loss: 0.9250 - pos_distance: 0.4932 - neg_distance: 0.418 - ETA: 2:05 - loss: 0.9230 - pos_distance: 0.4775 - neg_distance: 0.400 - ETA: 1:33 - loss: 0.9200 - pos_distance: 0.4799 - neg_distance: 0.400 - ETA: 1:02 - loss: 0.9177 - pos_distance: 0.4927 - neg_distance: 0.410 - ETA: 31s - loss: 0.9178 - pos_distance: 0.4985 - neg_distance: 0.416 - 314s 31s/step - loss: 0.9149 - pos_distance: 0.4974 - neg_distance: 0.4122\n",
      "Epoch 84/1000\n",
      "10/10 [==============================] - ETA: 5:16 - loss: 0.9071 - pos_distance: 0.4251 - neg_distance: 0.332 - ETA: 4:26 - loss: 0.9061 - pos_distance: 0.4467 - neg_distance: 0.352 - ETA: 4:06 - loss: 0.9053 - pos_distance: 0.4637 - neg_distance: 0.369 - ETA: 3:25 - loss: 0.9066 - pos_distance: 0.4595 - neg_distance: 0.366 - ETA: 2:48 - loss: 0.9072 - pos_distance: 0.4487 - neg_distance: 0.355 - ETA: 2:12 - loss: 0.9120 - pos_distance: 0.4437 - neg_distance: 0.355 - ETA: 1:39 - loss: 0.9102 - pos_distance: 0.4494 - neg_distance: 0.359 - ETA: 1:05 - loss: 0.9122 - pos_distance: 0.4584 - neg_distance: 0.370 - ETA: 32s - loss: 0.9091 - pos_distance: 0.4603 - neg_distance: 0.369 - 324s 32s/step - loss: 0.9095 - pos_distance: 0.4645 - neg_distance: 0.3740\n",
      "Epoch 85/1000\n",
      "10/10 [==============================] - ETA: 4:33 - loss: 0.8983 - pos_distance: 0.5190 - neg_distance: 0.417 - ETA: 4:01 - loss: 0.9011 - pos_distance: 0.5089 - neg_distance: 0.410 - ETA: 3:32 - loss: 0.9156 - pos_distance: 0.5013 - neg_distance: 0.416 - ETA: 3:04 - loss: 0.9100 - pos_distance: 0.4958 - neg_distance: 0.405 - ETA: 2:34 - loss: 0.9062 - pos_distance: 0.4945 - neg_distance: 0.400 - ETA: 2:03 - loss: 0.9063 - pos_distance: 0.4881 - neg_distance: 0.394 - ETA: 1:32 - loss: 0.9045 - pos_distance: 0.4882 - neg_distance: 0.392 - ETA: 1:01 - loss: 0.9081 - pos_distance: 0.4895 - neg_distance: 0.397 - ETA: 30s - loss: 0.9095 - pos_distance: 0.4898 - neg_distance: 0.399 - 307s 31s/step - loss: 0.9109 - pos_distance: 0.4896 - neg_distance: 0.4005\n",
      "Epoch 86/1000\n"
     ]
    },
    {
     "name": "stdout",
     "output_type": "stream",
     "text": [
      "10/10 [==============================] - ETA: 4:42 - loss: 0.9263 - pos_distance: 0.4408 - neg_distance: 0.367 - ETA: 4:14 - loss: 0.9173 - pos_distance: 0.4255 - neg_distance: 0.342 - ETA: 3:44 - loss: 0.9135 - pos_distance: 0.4248 - neg_distance: 0.338 - ETA: 3:11 - loss: 0.9153 - pos_distance: 0.4327 - neg_distance: 0.348 - ETA: 2:37 - loss: 0.9150 - pos_distance: 0.4407 - neg_distance: 0.355 - ETA: 2:05 - loss: 0.9157 - pos_distance: 0.4495 - neg_distance: 0.365 - ETA: 1:33 - loss: 0.9171 - pos_distance: 0.4467 - neg_distance: 0.363 - ETA: 1:02 - loss: 0.9190 - pos_distance: 0.4409 - neg_distance: 0.359 - ETA: 31s - loss: 0.9162 - pos_distance: 0.4387 - neg_distance: 0.354 - 310s 31s/step - loss: 0.9164 - pos_distance: 0.4429 - neg_distance: 0.3593\n",
      "Epoch 87/1000\n",
      "10/10 [==============================] - ETA: 4:37 - loss: 0.9049 - pos_distance: 0.5945 - neg_distance: 0.499 - ETA: 4:09 - loss: 0.9173 - pos_distance: 0.6022 - neg_distance: 0.519 - ETA: 3:35 - loss: 0.9140 - pos_distance: 0.6115 - neg_distance: 0.525 - ETA: 3:04 - loss: 0.9075 - pos_distance: 0.5936 - neg_distance: 0.501 - ETA: 2:34 - loss: 0.9090 - pos_distance: 0.5735 - neg_distance: 0.482 - ETA: 2:02 - loss: 0.9074 - pos_distance: 0.5511 - neg_distance: 0.458 - ETA: 1:31 - loss: 0.9020 - pos_distance: 0.5401 - neg_distance: 0.442 - ETA: 1:01 - loss: 0.9048 - pos_distance: 0.5236 - neg_distance: 0.428 - ETA: 31s - loss: 0.9053 - pos_distance: 0.5157 - neg_distance: 0.421 - 312s 31s/step - loss: 0.9050 - pos_distance: 0.5078 - neg_distance: 0.4128\n",
      "Epoch 88/1000\n",
      "10/10 [==============================] - ETA: 4:49 - loss: 0.8945 - pos_distance: 0.4562 - neg_distance: 0.350 - ETA: 5:20:15 - loss: 0.9017 - pos_distance: 0.4460 - neg_distance: 0.34 - ETA: 3:08:06 - loss: 0.9026 - pos_distance: 0.4262 - neg_distance: 0.32 - ETA: 2:01:40 - loss: 0.9036 - pos_distance: 0.4152 - neg_distance: 0.31 - ETA: 1:21:38 - loss: 0.9043 - pos_distance: 0.4087 - neg_distance: 0.31 - ETA: 54:47 - loss: 0.9058 - pos_distance: 0.4037 - neg_distance: 0.3095 - ETA: 35:26 - loss: 0.9095 - pos_distance: 0.4046 - neg_distance: 0.31 - ETA: 20:47 - loss: 0.9115 - pos_distance: 0.4027 - neg_distance: 0.31 - ETA: 9:19 - loss: 0.9103 - pos_distance: 0.3982 - neg_distance: 0.3085 - 5062s 506s/step - loss: 0.9105 - pos_distance: 0.4023 - neg_distance: 0.3129\n",
      "Epoch 89/1000\n",
      "10/10 [==============================] - ETA: 4:30 - loss: 0.9174 - pos_distance: 0.4787 - neg_distance: 0.396 - ETA: 4:10 - loss: 0.9349 - pos_distance: 0.4712 - neg_distance: 0.406 - ETA: 3:42 - loss: 0.9194 - pos_distance: 0.4648 - neg_distance: 0.384 - ETA: 3:10 - loss: 0.9206 - pos_distance: 0.4707 - neg_distance: 0.391 - ETA: 2:37 - loss: 0.9180 - pos_distance: 0.4859 - neg_distance: 0.404 - ETA: 2:05 - loss: 0.9166 - pos_distance: 0.4911 - neg_distance: 0.407 - ETA: 1:33 - loss: 0.9152 - pos_distance: 0.4801 - neg_distance: 0.395 - ETA: 1:02 - loss: 0.9149 - pos_distance: 0.4733 - neg_distance: 0.388 - ETA: 31s - loss: 0.9124 - pos_distance: 0.4735 - neg_distance: 0.386 - 310s 31s/step - loss: 0.9116 - pos_distance: 0.4815 - neg_distance: 0.3930\n",
      "Epoch 90/1000\n",
      "10/10 [==============================] - ETA: 4:33 - loss: 0.8993 - pos_distance: 0.5195 - neg_distance: 0.418 - ETA: 4:03 - loss: 0.9196 - pos_distance: 0.5138 - neg_distance: 0.433 - ETA: 3:28 - loss: 0.9189 - pos_distance: 0.4557 - neg_distance: 0.374 - ETA: 3:01 - loss: 0.9213 - pos_distance: 0.4282 - neg_distance: 0.349 - ETA: 2:30 - loss: 0.9181 - pos_distance: 0.4363 - neg_distance: 0.354 - ETA: 2:04 - loss: 0.9173 - pos_distance: 0.4542 - neg_distance: 0.371 - ETA: 1:32 - loss: 0.9143 - pos_distance: 0.4688 - neg_distance: 0.383 - ETA: 1:01 - loss: 0.9136 - pos_distance: 0.4614 - neg_distance: 0.375 - ETA: 30s - loss: 0.9102 - pos_distance: 0.4529 - neg_distance: 0.363 - 305s 30s/step - loss: 0.9090 - pos_distance: 0.4504 - neg_distance: 0.3594\n",
      "Epoch 91/1000\n",
      "10/10 [==============================] - ETA: 4:28 - loss: 0.9033 - pos_distance: 0.4286 - neg_distance: 0.331 - ETA: 3:47 - loss: 0.9031 - pos_distance: 0.4305 - neg_distance: 0.333 - ETA: 3:17 - loss: 0.9034 - pos_distance: 0.4524 - neg_distance: 0.355 - ETA: 2:47 - loss: 0.9110 - pos_distance: 0.4480 - neg_distance: 0.359 - ETA: 2:25 - loss: 0.9143 - pos_distance: 0.4451 - neg_distance: 0.359 - ETA: 1:58 - loss: 0.9168 - pos_distance: 0.4455 - neg_distance: 0.362 - ETA: 1:28 - loss: 0.9167 - pos_distance: 0.4433 - neg_distance: 0.360 - ETA: 58s - loss: 0.9147 - pos_distance: 0.4348 - neg_distance: 0.349 - ETA: 29s - loss: 0.9154 - pos_distance: 0.4351 - neg_distance: 0.35 - 292s 29s/step - loss: 0.9126 - pos_distance: 0.4402 - neg_distance: 0.3528\n",
      "Epoch 92/1000\n",
      "10/10 [==============================] - ETA: 4:21 - loss: 0.9083 - pos_distance: 0.5141 - neg_distance: 0.422 - ETA: 3:54 - loss: 0.9049 - pos_distance: 0.4835 - neg_distance: 0.388 - ETA: 3:22 - loss: 0.8969 - pos_distance: 0.4599 - neg_distance: 0.356 - ETA: 3:07 - loss: 0.8950 - pos_distance: 0.4463 - neg_distance: 0.341 - ETA: 2:33 - loss: 0.8956 - pos_distance: 0.4505 - neg_distance: 0.346 - ETA: 2:00 - loss: 0.8930 - pos_distance: 0.4634 - neg_distance: 0.356 - ETA: 1:29 - loss: 0.8914 - pos_distance: 0.4769 - neg_distance: 0.368 - ETA: 59s - loss: 0.8886 - pos_distance: 0.4848 - neg_distance: 0.373 - ETA: 29s - loss: 0.8900 - pos_distance: 0.4860 - neg_distance: 0.37 - 294s 29s/step - loss: 0.8918 - pos_distance: 0.4811 - neg_distance: 0.3728\n",
      "Epoch 93/1000\n",
      "10/10 [==============================] - ETA: 4:05 - loss: 0.9182 - pos_distance: 0.4538 - neg_distance: 0.372 - ETA: 4:02 - loss: 0.9155 - pos_distance: 0.4859 - neg_distance: 0.401 - ETA: 3:28 - loss: 0.9080 - pos_distance: 0.4839 - neg_distance: 0.391 - ETA: 2:56 - loss: 0.9028 - pos_distance: 0.4830 - neg_distance: 0.385 - ETA: 2:27 - loss: 0.9034 - pos_distance: 0.4781 - neg_distance: 0.381 - ETA: 1:57 - loss: 0.9046 - pos_distance: 0.4843 - neg_distance: 0.388 - ETA: 1:27 - loss: 0.9075 - pos_distance: 0.4722 - neg_distance: 0.379 - ETA: 58s - loss: 0.9084 - pos_distance: 0.4562 - neg_distance: 0.364 - ETA: 29s - loss: 0.9083 - pos_distance: 0.4529 - neg_distance: 0.36 - 297s 30s/step - loss: 0.9075 - pos_distance: 0.4548 - neg_distance: 0.3624\n",
      "Epoch 94/1000\n",
      "10/10 [==============================] - ETA: 4:15 - loss: 0.9124 - pos_distance: 0.4755 - neg_distance: 0.387 - ETA: 3:55 - loss: 0.9060 - pos_distance: 0.4819 - neg_distance: 0.387 - ETA: 3:24 - loss: 0.9011 - pos_distance: 0.4767 - neg_distance: 0.377 - ETA: 2:56 - loss: 0.9016 - pos_distance: 0.4612 - neg_distance: 0.362 - ETA: 2:26 - loss: 0.9002 - pos_distance: 0.4401 - neg_distance: 0.340 - ETA: 1:57 - loss: 0.8968 - pos_distance: 0.4402 - neg_distance: 0.337 - ETA: 1:28 - loss: 0.8936 - pos_distance: 0.4606 - neg_distance: 0.354 - ETA: 59s - loss: 0.8975 - pos_distance: 0.4743 - neg_distance: 0.371 - ETA: 29s - loss: 0.8962 - pos_distance: 0.4860 - neg_distance: 0.38 - 294s 29s/step - loss: 0.8953 - pos_distance: 0.4824 - neg_distance: 0.3777\n",
      "Epoch 95/1000\n",
      "10/10 [==============================] - ETA: 5:03 - loss: 0.9025 - pos_distance: 0.3933 - neg_distance: 0.295 - ETA: 4:08 - loss: 0.8917 - pos_distance: 0.3864 - neg_distance: 0.278 - ETA: 3:28 - loss: 0.8941 - pos_distance: 0.4073 - neg_distance: 0.301 - ETA: 2:56 - loss: 0.8993 - pos_distance: 0.4316 - neg_distance: 0.330 - ETA: 2:25 - loss: 0.8993 - pos_distance: 0.4485 - neg_distance: 0.347 - ETA: 1:56 - loss: 0.9001 - pos_distance: 0.4456 - neg_distance: 0.345 - ETA: 1:26 - loss: 0.9000 - pos_distance: 0.4368 - neg_distance: 0.336 - ETA: 57s - loss: 0.9007 - pos_distance: 0.4276 - neg_distance: 0.328 - ETA: 28s - loss: 0.9030 - pos_distance: 0.4197 - neg_distance: 0.32 - 290s 29s/step - loss: 0.9008 - pos_distance: 0.4284 - neg_distance: 0.3291\n",
      "Epoch 96/1000\n"
     ]
    },
    {
     "name": "stdout",
     "output_type": "stream",
     "text": [
      "10/10 [==============================] - ETA: 4:17 - loss: 0.9116 - pos_distance: 0.6095 - neg_distance: 0.521 - ETA: 3:54 - loss: 0.9317 - pos_distance: 0.6366 - neg_distance: 0.568 - ETA: 3:34 - loss: 0.9253 - pos_distance: 0.6517 - neg_distance: 0.577 - ETA: 3:01 - loss: 0.9175 - pos_distance: 0.6341 - neg_distance: 0.551 - ETA: 2:30 - loss: 0.9183 - pos_distance: 0.5959 - neg_distance: 0.514 - ETA: 2:00 - loss: 0.9187 - pos_distance: 0.5497 - neg_distance: 0.468 - ETA: 1:29 - loss: 0.9203 - pos_distance: 0.5237 - neg_distance: 0.444 - ETA: 59s - loss: 0.9168 - pos_distance: 0.5188 - neg_distance: 0.435 - ETA: 29s - loss: 0.9178 - pos_distance: 0.5365 - neg_distance: 0.45 - 294s 29s/step - loss: 0.9170 - pos_distance: 0.5480 - neg_distance: 0.4649\n",
      "Epoch 97/1000\n",
      "10/10 [==============================] - ETA: 4:19 - loss: 0.9144 - pos_distance: 0.5779 - neg_distance: 0.492 - ETA: 4:21 - loss: 0.9091 - pos_distance: 0.5442 - neg_distance: 0.453 - ETA: 3:38 - loss: 0.9120 - pos_distance: 0.5042 - neg_distance: 0.416 - ETA: 3:03 - loss: 0.9118 - pos_distance: 0.4906 - neg_distance: 0.402 - ETA: 2:29 - loss: 0.9143 - pos_distance: 0.4865 - neg_distance: 0.400 - ETA: 1:58 - loss: 0.9116 - pos_distance: 0.4949 - neg_distance: 0.406 - ETA: 1:28 - loss: 0.9093 - pos_distance: 0.5002 - neg_distance: 0.409 - ETA: 58s - loss: 0.9051 - pos_distance: 0.5047 - neg_distance: 0.409 - ETA: 29s - loss: 0.9043 - pos_distance: 0.5031 - neg_distance: 0.40 - 294s 29s/step - loss: 0.9049 - pos_distance: 0.5008 - neg_distance: 0.4057\n",
      "Epoch 98/1000\n",
      "10/10 [==============================] - ETA: 4:26 - loss: 0.9096 - pos_distance: 0.4509 - neg_distance: 0.360 - ETA: 3:52 - loss: 0.9084 - pos_distance: 0.4070 - neg_distance: 0.315 - ETA: 3:23 - loss: 0.9117 - pos_distance: 0.3947 - neg_distance: 0.306 - ETA: 2:53 - loss: 0.9077 - pos_distance: 0.4025 - neg_distance: 0.310 - ETA: 2:28 - loss: 0.9070 - pos_distance: 0.4257 - neg_distance: 0.332 - ETA: 1:56 - loss: 0.9082 - pos_distance: 0.4433 - neg_distance: 0.351 - ETA: 1:27 - loss: 0.9109 - pos_distance: 0.4514 - neg_distance: 0.362 - ETA: 58s - loss: 0.9072 - pos_distance: 0.4509 - neg_distance: 0.358 - ETA: 29s - loss: 0.9070 - pos_distance: 0.4418 - neg_distance: 0.34 - 290s 29s/step - loss: 0.9063 - pos_distance: 0.4394 - neg_distance: 0.3456\n",
      "Epoch 99/1000\n",
      "10/10 [==============================] - ETA: 4:15 - loss: 0.8830 - pos_distance: 0.4634 - neg_distance: 0.346 - ETA: 3:40 - loss: 0.8944 - pos_distance: 0.5092 - neg_distance: 0.403 - ETA: 3:14 - loss: 0.9104 - pos_distance: 0.5344 - neg_distance: 0.444 - ETA: 2:46 - loss: 0.9070 - pos_distance: 0.5483 - neg_distance: 0.455 - ETA: 2:18 - loss: 0.9073 - pos_distance: 0.5433 - neg_distance: 0.450 - ETA: 1:51 - loss: 0.9068 - pos_distance: 0.5252 - neg_distance: 0.432 - ETA: 1:23 - loss: 0.9050 - pos_distance: 0.4995 - neg_distance: 0.404 - ETA: 56s - loss: 0.9074 - pos_distance: 0.4730 - neg_distance: 0.380 - ETA: 28s - loss: 0.9088 - pos_distance: 0.4570 - neg_distance: 0.36 - 281s 28s/step - loss: 0.9107 - pos_distance: 0.4531 - neg_distance: 0.3638\n",
      "Epoch 100/1000\n",
      "10/10 [==============================] - ETA: 4:15 - loss: 0.9140 - pos_distance: 0.4482 - neg_distance: 0.362 - ETA: 3:45 - loss: 0.9046 - pos_distance: 0.4586 - neg_distance: 0.363 - ETA: 3:18 - loss: 0.9018 - pos_distance: 0.4717 - neg_distance: 0.373 - ETA: 2:50 - loss: 0.9045 - pos_distance: 0.4709 - neg_distance: 0.375 - ETA: 2:21 - loss: 0.8994 - pos_distance: 0.4706 - neg_distance: 0.370 - ETA: 1:53 - loss: 0.8998 - pos_distance: 0.4652 - neg_distance: 0.365 - ETA: 1:27 - loss: 0.8974 - pos_distance: 0.4620 - neg_distance: 0.359 - ETA: 57s - loss: 0.8981 - pos_distance: 0.4683 - neg_distance: 0.366 - ETA: 29s - loss: 0.8967 - pos_distance: 0.4819 - neg_distance: 0.37 - 294s 29s/step - loss: 0.8960 - pos_distance: 0.4867 - neg_distance: 0.3827\n",
      "Epoch 101/1000\n",
      "10/10 [==============================] - ETA: 4:11 - loss: 0.9070 - pos_distance: 0.4662 - neg_distance: 0.373 - ETA: 3:47 - loss: 0.8953 - pos_distance: 0.4511 - neg_distance: 0.346 - ETA: 3:18 - loss: 0.9023 - pos_distance: 0.4473 - neg_distance: 0.349 - ETA: 2:49 - loss: 0.9045 - pos_distance: 0.4523 - neg_distance: 0.356 - ETA: 2:20 - loss: 0.9029 - pos_distance: 0.4470 - neg_distance: 0.349 - ETA: 1:52 - loss: 0.9049 - pos_distance: 0.4404 - neg_distance: 0.345 - ETA: 1:24 - loss: 0.9048 - pos_distance: 0.4363 - neg_distance: 0.341 - ETA: 56s - loss: 0.9067 - pos_distance: 0.4302 - neg_distance: 0.337 - ETA: 28s - loss: 0.9084 - pos_distance: 0.4227 - neg_distance: 0.33 - 285s 28s/step - loss: 0.9113 - pos_distance: 0.4129 - neg_distance: 0.3242\n",
      "Epoch 102/1000\n",
      "10/10 [==============================] - ETA: 4:16 - loss: 0.8869 - pos_distance: 0.3706 - neg_distance: 0.257 - ETA: 3:59 - loss: 0.8808 - pos_distance: 0.4237 - neg_distance: 0.304 - ETA: 3:30 - loss: 0.8864 - pos_distance: 0.4590 - neg_distance: 0.345 - ETA: 3:10 - loss: 0.8862 - pos_distance: 0.4738 - neg_distance: 0.360 - ETA: 2:37 - loss: 0.8911 - pos_distance: 0.4762 - neg_distance: 0.367 - ETA: 2:05 - loss: 0.9000 - pos_distance: 0.4748 - neg_distance: 0.374 - ETA: 1:36 - loss: 0.9022 - pos_distance: 0.4820 - neg_distance: 0.384 - ETA: 1:03 - loss: 0.9028 - pos_distance: 0.4798 - neg_distance: 0.382 - ETA: 31s - loss: 0.9005 - pos_distance: 0.4748 - neg_distance: 0.375 - 316s 32s/step - loss: 0.8976 - pos_distance: 0.4765 - neg_distance: 0.3740\n",
      "Epoch 103/1000\n",
      "10/10 [==============================] - ETA: 4:31 - loss: 0.9256 - pos_distance: 0.5126 - neg_distance: 0.438 - ETA: 3:56 - loss: 0.9078 - pos_distance: 0.5446 - neg_distance: 0.452 - ETA: 3:37 - loss: 0.9060 - pos_distance: 0.5328 - neg_distance: 0.438 - ETA: 3:00 - loss: 0.9057 - pos_distance: 0.5105 - neg_distance: 0.416 - ETA: 2:28 - loss: 0.9051 - pos_distance: 0.4750 - neg_distance: 0.380 - ETA: 1:57 - loss: 0.9055 - pos_distance: 0.4577 - neg_distance: 0.363 - ETA: 1:28 - loss: 0.9062 - pos_distance: 0.4541 - neg_distance: 0.360 - ETA: 58s - loss: 0.9072 - pos_distance: 0.4543 - neg_distance: 0.361 - ETA: 29s - loss: 0.9067 - pos_distance: 0.4489 - neg_distance: 0.35 - 292s 29s/step - loss: 0.9050 - pos_distance: 0.4453 - neg_distance: 0.3503\n",
      "Epoch 104/1000\n",
      "10/10 [==============================] - ETA: 4:22 - loss: 0.8907 - pos_distance: 0.4285 - neg_distance: 0.319 - ETA: 3:46 - loss: 0.8879 - pos_distance: 0.4540 - neg_distance: 0.341 - ETA: 3:21 - loss: 0.8898 - pos_distance: 0.4801 - neg_distance: 0.369 - ETA: 2:49 - loss: 0.8938 - pos_distance: 0.4978 - neg_distance: 0.391 - ETA: 2:20 - loss: 0.9018 - pos_distance: 0.4956 - neg_distance: 0.397 - ETA: 1:52 - loss: 0.8986 - pos_distance: 0.4904 - neg_distance: 0.389 - ETA: 1:24 - loss: 0.8993 - pos_distance: 0.4800 - neg_distance: 0.379 - ETA: 56s - loss: 0.9008 - pos_distance: 0.4703 - neg_distance: 0.371 - ETA: 28s - loss: 0.8998 - pos_distance: 0.4627 - neg_distance: 0.36 - 282s 28s/step - loss: 0.9003 - pos_distance: 0.4584 - neg_distance: 0.3588\n",
      "Epoch 105/1000\n",
      "10/10 [==============================] - ETA: 4:16 - loss: 0.9090 - pos_distance: 0.4767 - neg_distance: 0.385 - ETA: 3:49 - loss: 0.8901 - pos_distance: 0.4942 - neg_distance: 0.384 - ETA: 3:44 - loss: 0.8889 - pos_distance: 0.4910 - neg_distance: 0.379 - ETA: 3:05 - loss: 0.8930 - pos_distance: 0.4888 - neg_distance: 0.381 - ETA: 2:30 - loss: 0.8907 - pos_distance: 0.4712 - neg_distance: 0.361 - ETA: 1:58 - loss: 0.8954 - pos_distance: 0.4430 - neg_distance: 0.338 - ETA: 1:30 - loss: 0.8973 - pos_distance: 0.4249 - neg_distance: 0.322 - ETA: 59s - loss: 0.8957 - pos_distance: 0.4309 - neg_distance: 0.326 - ETA: 29s - loss: 0.8997 - pos_distance: 0.4484 - neg_distance: 0.34 - 295s 29s/step - loss: 0.8992 - pos_distance: 0.4634 - neg_distance: 0.3626\n",
      "Epoch 106/1000\n"
     ]
    },
    {
     "name": "stdout",
     "output_type": "stream",
     "text": [
      "10/10 [==============================] - ETA: 4:20 - loss: 0.9047 - pos_distance: 0.4450 - neg_distance: 0.349 - ETA: 4:11 - loss: 0.9061 - pos_distance: 0.3817 - neg_distance: 0.287 - ETA: 3:31 - loss: 0.9115 - pos_distance: 0.3476 - neg_distance: 0.259 - ETA: 3:11 - loss: 0.9108 - pos_distance: 0.3651 - neg_distance: 0.275 - ETA: 2:33 - loss: 0.9119 - pos_distance: 0.4049 - neg_distance: 0.316 - ETA: 2:00 - loss: 0.9092 - pos_distance: 0.4552 - neg_distance: 0.364 - ETA: 1:29 - loss: 0.9109 - pos_distance: 0.4817 - neg_distance: 0.392 - ETA: 59s - loss: 0.9089 - pos_distance: 0.4938 - neg_distance: 0.402 - ETA: 29s - loss: 0.9083 - pos_distance: 0.4883 - neg_distance: 0.39 - 292s 29s/step - loss: 0.9077 - pos_distance: 0.4759 - neg_distance: 0.3837\n",
      "Epoch 107/1000\n",
      "10/10 [==============================] - ETA: 5:24 - loss: 0.9228 - pos_distance: 0.3712 - neg_distance: 0.294 - ETA: 4:12 - loss: 0.9134 - pos_distance: 0.3928 - neg_distance: 0.306 - ETA: 3:54 - loss: 0.9104 - pos_distance: 0.4386 - neg_distance: 0.349 - ETA: 3:16 - loss: 0.9096 - pos_distance: 0.4639 - neg_distance: 0.373 - ETA: 2:47 - loss: 0.9111 - pos_distance: 0.4726 - neg_distance: 0.383 - ETA: 2:09 - loss: 0.9044 - pos_distance: 0.4712 - neg_distance: 0.375 - ETA: 1:35 - loss: 0.8997 - pos_distance: 0.4638 - neg_distance: 0.363 - ETA: 1:04 - loss: 0.8998 - pos_distance: 0.4591 - neg_distance: 0.358 - ETA: 31s - loss: 0.9020 - pos_distance: 0.4648 - neg_distance: 0.366 - 311s 31s/step - loss: 0.9018 - pos_distance: 0.4700 - neg_distance: 0.3718\n",
      "Epoch 108/1000\n",
      " 3/10 [========>.....................] - ETA: 5:02 - loss: 0.9056 - pos_distance: 0.4902 - neg_distance: 0.395 - ETA: 4:06 - loss: 0.9004 - pos_distance: 0.4350 - neg_distance: 0.335 - ETA: 3:46 - loss: 0.9071 - pos_distance: 0.3852 - neg_distance: 0.2923"
     ]
    }
   ],
   "source": [
    "%%time\n",
    "import keras\n",
    "\n",
    "# Inspired on https://pastebin.com/TaGFdcBA\n",
    "# TODO: https://stackoverflow.com/questions/49941903/keras-compute-cosine-distance-between-two-flattened-outputs\n",
    "keras.backend.clear_session()\n",
    "\n",
    "cnn_feature_model = cnn_model(embeddings=baseline.embedding_matrix, \n",
    "                              num_words=len(baseline.word_index) + 1, \n",
    "                              embedding_dim=EMBEDDING_DIM, \n",
    "                              max_sequence_length=MAX_SEQUENCE_LENGTH_D, \n",
    "                              trainable=False)\n",
    "\n",
    "lstm_feature_model = lstm_model(embeddings=baseline.embedding_matrix, \n",
    "                              num_words=len(baseline.word_index) + 1, \n",
    "                              embedding_dim=EMBEDDING_DIM, \n",
    "                              max_sequence_length=MAX_SEQUENCE_LENGTH_T, \n",
    "                              trainable=False)\n",
    "\n",
    "similarity_model = siamese_model(lstm_feature_model, cnn_feature_model, MAX_SEQUENCE_LENGTH_T, MAX_SEQUENCE_LENGTH_D)\n",
    "\n",
    "# cnn_feature_model.summary()\n",
    "# lstm_feature_model.summary()\n",
    "similarity_model.summary()\n",
    "\n",
    "tbCallBack = keras.callbacks.TensorBoard(log_dir='logs/training', histogram_freq=0, write_graph=True, write_images=True)\n",
    "\n",
    "h = similarity_model.fit_generator(train_gen, \n",
    "                               steps_per_epoch = 10,\n",
    "                               #validation_data=test_gen, # \n",
    "                                             epochs = 1000,\n",
    "                                             verbose = True,\n",
    "                                               callbacks=[tbCallBack]\n",
    "                                              )  # "
   ]
  },
  {
   "cell_type": "code",
   "execution_count": 132,
   "metadata": {
    "scrolled": false
   },
   "outputs": [
    {
     "data": {
      "image/png": "[encoded data removed]",
      "text/plain": [
       "<Figure size 432x288 with 1 Axes>"
      ]
     },
     "metadata": {},
     "output_type": "display_data"
    }
   ],
   "source": [
    "loss=h.history['loss']\n",
    "\n",
    "plt.plot(loss, label='loss')\n",
    "plt.title('model loss')\n",
    "plt.ylabel('loss')\n",
    "plt.xlabel('epoch')\n",
    "plt.legend(['train'], loc='upper left')\n",
    "plt.show()"
   ]
  },
  {
   "cell_type": "code",
   "execution_count": 133,
   "metadata": {},
   "outputs": [
    {
     "data": {
      "image/png": "[encoded data removed]",
      "text/plain": [
       "<Figure size 720x720 with 1 Axes>"
      ]
     },
     "metadata": {},
     "output_type": "display_data"
    },
    {
     "name": "stdout",
     "output_type": "stream",
     "text": [
      "Wall time: 17 s\n"
     ]
    }
   ],
   "source": [
    "%%time\n",
    "\n",
    "baseline.display_embed_space(similarity_model, 128)"
   ]
  },
  {
   "cell_type": "code",
   "execution_count": null,
   "metadata": {},
   "outputs": [],
   "source": [
    "name = 'baseline_1000epoch_10steps_512batch(eclipse)'\n",
    "Baseline.save_model('', similarity_model, name)\n",
    "Baseline.save_result('', h, name)"
   ]
  },
  {
   "cell_type": "code",
   "execution_count": null,
   "metadata": {},
   "outputs": [],
   "source": [
    "name = 'baseline_1000epoch_10steps_512batch(eclipse)'\n",
    "Baseline.load_model('', name)"
   ]
  },
  {
   "cell_type": "markdown",
   "metadata": {},
   "source": [
    "## Classification"
   ]
  },
  {
   "cell_type": "code",
   "execution_count": null,
   "metadata": {},
   "outputs": [],
   "source": [
    "for layer in similarity_model.layers:\n",
    "    print(layer.name)"
   ]
  },
  {
   "cell_type": "code",
   "execution_count": null,
   "metadata": {},
   "outputs": [],
   "source": [
    "## Freeze weights\n",
    "for layer in similarity_model.layers:\n",
    "    layer.trainable = False\n",
    "    \n",
    "\n",
    "bug_t_a = Input(shape = (max_sequence_length_t, ), name = 'title_a')\n",
    "bug_t_b = Input(shape = (max_sequence_length_t, ), name = 'title_b')\n",
    "\n",
    "bug_d_a = Input(shape = (max_sequence_length_d, ), name = 'desc_a')\n",
    "bug_d_b = Input(shape = (max_sequence_length_d, ), name = 'desc_b')\n",
    "    \n",
    "# Model 1\n",
    "model = similarity_model.get_layer('merge_features_in')\n",
    "\n",
    "bugt_t_a = model(bug_t_a)\n",
    "bugt_d_a = model(bug_d_a)\n",
    "\n",
    "bugt_t_b = model(bug_t_b)\n",
    "bugt_d_b = model(bug_d_b)\n",
    "\n",
    "bug_a = concatenate([bugt_t_a, bugt_d_a], name = 'bug_a')\n",
    "bug_b = concatenate([bugt_t_b, bugt_d_b], name = 'bug_b')\n",
    "\n",
    "x = Concatenate()([x_in, x_pos])\n",
    "x = Dense(64, activation = 'relu')(x)\n",
    "#x = Dense(32, activation = 'relu')(x)\n",
    "output = Dense(2, activation = 'softmax', name = 'output')(x)\n",
    "\n",
    "model_clf = Model(inputs=similarity_model.input, outputs=[output])\n",
    "model_clf.compile(optimizer='adam', loss='categorical_crossentropy', metrics = ['accuracy'])\n",
    "model_clf.summary()"
   ]
  },
  {
   "cell_type": "code",
   "execution_count": null,
   "metadata": {
    "scrolled": true
   },
   "outputs": [],
   "source": [
    "%%time\n",
    "\n",
    "from keras.utils import to_categorical\n",
    "from sklearn.preprocessing import LabelEncoder\n",
    "\n",
    "encoder = LabelEncoder()\n",
    "\n",
    "valid_labels = encoder.fit_transform(test_gen[1])\n",
    "valid_labels = to_categorical(valid_labels)\n",
    "test_validation = (test_gen[0], valid_labels)\n",
    "\n",
    "h_clf = model_clf.fit_generator(baseline.siam_gen_classification(bug_dir, 512, 1), \n",
    "                               steps_per_epoch = 16,\n",
    "                               validation_data=test_validation, # \n",
    "                                             epochs = 100,\n",
    "                                             verbose = True) # callbacks=[early]"
   ]
  },
  {
   "cell_type": "code",
   "execution_count": null,
   "metadata": {},
   "outputs": [],
   "source": [
    "Baseline.validation_accuracy_loss(h_clf)"
   ]
  },
  {
   "cell_type": "code",
   "execution_count": null,
   "metadata": {},
   "outputs": [],
   "source": [
    "name = 'baseline_classification_100epoch_16steps(eclipse)'\n",
    "save_model(similarity_model, name)\n",
    "save_result(h, name)"
   ]
  }
 ],
 "metadata": {
  "accelerator": "GPU",
  "colab": {
   "collapsed_sections": [],
   "name": "[baseline] Bug triage with Deep Learning.ipynb",
   "provenance": [],
   "toc_visible": true,
   "version": "0.3.2"
  },
  "kernelspec": {
   "display_name": "Python 3",
   "language": "python",
   "name": "python3"
  },
  "language_info": {
   "codemirror_mode": {
    "name": "ipython",
    "version": 3
   },
   "file_extension": ".py",
   "mimetype": "text/x-python",
   "name": "python",
   "nbconvert_exporter": "python",
   "pygments_lexer": "ipython3",
   "version": "3.6.5"
  }
 },
 "nbformat": 4,
 "nbformat_minor": 1
}
