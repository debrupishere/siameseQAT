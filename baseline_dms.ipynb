{
 "cells": [
  {
   "cell_type": "markdown",
   "metadata": {
    "colab_type": "text",
    "id": "PtdA1qs_UQP1"
   },
   "source": [
    "# Bug triage with Deep Learning\n",
    "\n",
    "https://github.com/AdrianUng/keras-triplet-loss-mnist/blob/master/Triplet_loss_KERAS_semi_hard_from_TF.ipynb"
   ]
  },
  {
   "cell_type": "code",
   "execution_count": 1,
   "metadata": {},
   "outputs": [
    {
     "name": "stderr",
     "output_type": "stream",
     "text": [
      "Using TensorFlow backend.\n"
     ]
    }
   ],
   "source": [
    "import keras"
   ]
  },
  {
   "cell_type": "code",
   "execution_count": 2,
   "metadata": {
    "colab": {},
    "colab_type": "code",
    "id": "qnSCLmiomFE1"
   },
   "outputs": [],
   "source": [
    "from __future__ import print_function, division"
   ]
  },
  {
   "cell_type": "code",
   "execution_count": 3,
   "metadata": {
    "colab": {},
    "colab_type": "code",
    "id": "OIha-SERnD72"
   },
   "outputs": [],
   "source": [
    "import re\n",
    "import numpy as np\n",
    "import pandas as pd\n",
    "\n",
    "import os\n",
    "from tqdm import tqdm_notebook as tqdm\n",
    "import matplotlib.pyplot as plt\n",
    "import sys\n",
    "from annoy import AnnoyIndex\n",
    "nb_dir = os.path.split(os.getcwd())[0]\n",
    "if nb_dir not in sys.path:\n",
    "    sys.path.append(nb_dir)\n",
    "    \n",
    "%matplotlib inline"
   ]
  },
  {
   "cell_type": "code",
   "execution_count": 4,
   "metadata": {
    "colab": {
     "base_uri": "https://localhost:8080/",
     "height": 34
    },
    "colab_type": "code",
    "id": "c57gQiuAnJAe",
    "outputId": "9eaf2d3f-619a-492d-f40b-6ba2c48426fa"
   },
   "outputs": [],
   "source": [
    "from keras.layers import Conv1D, Input, Add, Activation, Dropout, Embedding, MaxPooling1D, \\\n",
    "    GlobalMaxPool1D, Flatten, Dense, Concatenate, BatchNormalization\n",
    "from keras.models import Sequential, Model\n",
    "from keras.regularizers import l2\n",
    "from keras.initializers import TruncatedNormal\n",
    "from keras.layers.advanced_activations import LeakyReLU, ELU\n",
    "from keras import optimizers"
   ]
  },
  {
   "cell_type": "code",
   "execution_count": 5,
   "metadata": {},
   "outputs": [],
   "source": [
    "from methods.baseline import Baseline\n",
    "from methods.experiments import Experiment\n",
    "from methods.evaluation import Evaluation\n",
    "from methods.retrieval import Retrieval"
   ]
  },
  {
   "cell_type": "markdown",
   "metadata": {
    "colab_type": "text",
    "id": "8uQou7m2-bFO"
   },
   "source": [
    "## Configurações Globais"
   ]
  },
  {
   "cell_type": "code",
   "execution_count": 6,
   "metadata": {
    "colab": {},
    "colab_type": "code",
    "id": "G-Kn3x_K-aZj"
   },
   "outputs": [],
   "source": [
    "MAX_SEQUENCE_LENGTH_T = 20 # 100\n",
    "MAX_SEQUENCE_LENGTH_D = 20 # 500\n",
    "EMBEDDING_DIM = 300\n",
    "MAX_NB_WORDS = 20000\n",
    "'''\n",
    "    Configuration\n",
    "'''\n",
    "epochs = 1000\n",
    "freeze_train = .1 # 10% with freeze weights\n",
    "best_loss = 1\n",
    "best_epoch = 0\n",
    "verbose = 0\n",
    "loss = 1"
   ]
  },
  {
   "cell_type": "markdown",
   "metadata": {},
   "source": [
    "### Parse bugs preproprecessed"
   ]
  },
  {
   "cell_type": "code",
   "execution_count": 7,
   "metadata": {},
   "outputs": [],
   "source": [
    "# Domain to use\n",
    "DOMAIN = 'eclipse'\n",
    "METHOD = 'baseline_{}'.format(epochs)\n",
    "PREPROCESSING = 'bert'\n",
    "TOKEN = 'bert'\n",
    "# Dataset paths\n",
    "DIR = 'data/processed/{}/{}'.format(DOMAIN, PREPROCESSING)\n",
    "DIR_PAIRS = 'data/normalized/{}'.format(DOMAIN)\n",
    "DATASET = os.path.join('data/normalized/{}'.format(DOMAIN), '{}.csv'.format(DOMAIN))\n",
    "# Glove embeddings\n",
    "GLOVE_DIR='data/embed'\n",
    "# Save model\n",
    "SAVE_PATH = '{}_preprocessing_{}_feature@number_of_epochs@epochs_64batch({})'.format(PREPROCESSING, METHOD, DOMAIN)\n",
    "SAVE_PATH_FEATURE = '{}_preprocessing_{}_feature_@number_of_epochs@epochs_64batch({})'.format(PREPROCESSING, METHOD, DOMAIN)\n",
    "\n",
    "# Extract CORPUs\n",
    "EXTRACT_CORPUS = False"
   ]
  },
  {
   "cell_type": "code",
   "execution_count": 8,
   "metadata": {},
   "outputs": [],
   "source": [
    "import os\n",
    "\n",
    "pretrained_path = 'uncased_L-12_H-768_A-12'\n",
    "config_path = os.path.join(pretrained_path, 'bert_config.json')\n",
    "model_path = os.path.join(pretrained_path, 'bert_model.ckpt')\n",
    "vocab_path = os.path.join(pretrained_path, 'vocab.txt')"
   ]
  },
  {
   "cell_type": "code",
   "execution_count": 9,
   "metadata": {},
   "outputs": [],
   "source": [
    "from keras_bert import load_vocabulary\n",
    "\n",
    "token_dict = load_vocabulary(vocab_path)"
   ]
  },
  {
   "cell_type": "code",
   "execution_count": 10,
   "metadata": {},
   "outputs": [],
   "source": [
    "baseline = Baseline(DOMAIN, DIR, DATASET, MAX_SEQUENCE_LENGTH_T, MAX_SEQUENCE_LENGTH_D,\n",
    "                   token_dict['[CLS]'], token_dict['[SEP]'])\n",
    "evaluation = Evaluation(verbose=0)\n",
    "retrieval = Retrieval()\n",
    "experiment = Experiment(baseline, evaluation)"
   ]
  },
  {
   "cell_type": "code",
   "execution_count": 11,
   "metadata": {
    "scrolled": true
   },
   "outputs": [],
   "source": [
    "experiment.set_retrieval(retrieval, baseline, DOMAIN)"
   ]
  },
  {
   "cell_type": "markdown",
   "metadata": {},
   "source": [
    "#### Loading bug ids in memory"
   ]
  },
  {
   "cell_type": "code",
   "execution_count": 12,
   "metadata": {
    "scrolled": true
   },
   "outputs": [
    {
     "name": "stdout",
     "output_type": "stream",
     "text": [
      "Reading bug ids\n"
     ]
    },
    {
     "data": {
      "text/plain": [
       "361006"
      ]
     },
     "execution_count": 12,
     "metadata": {},
     "output_type": "execute_result"
    }
   ],
   "source": [
    "experiment.load_ids()\n",
    "len(baseline.bug_ids)"
   ]
  },
  {
   "cell_type": "markdown",
   "metadata": {
    "colab_type": "text",
    "id": "vqzt5EKzqzcI"
   },
   "source": [
    "#### Dicionário de títulos e descrições"
   ]
  },
  {
   "cell_type": "code",
   "execution_count": 13,
   "metadata": {
    "scrolled": true
   },
   "outputs": [
    {
     "data": {
      "application/vnd.jupyter.widget-view+json": {
       "model_id": "dc3834744bd04eeda0d9a9f20f5b524d",
       "version_major": 2,
       "version_minor": 0
      },
      "text/plain": [
       "HBox(children=(IntProgress(value=0, max=361006), HTML(value='')))"
      ]
     },
     "metadata": {},
     "output_type": "display_data"
    },
    {
     "name": "stdout",
     "output_type": "stream",
     "text": [
      "\n"
     ]
    },
    {
     "data": {
      "application/vnd.jupyter.widget-view+json": {
       "model_id": "d0b9703981c54d3d8e1bcf478cc6b25a",
       "version_major": 2,
       "version_minor": 0
      },
      "text/plain": [
       "HBox(children=(IntProgress(value=1, bar_style='info', max=1), HTML(value='')))"
      ]
     },
     "metadata": {},
     "output_type": "display_data"
    },
    {
     "name": "stdout",
     "output_type": "stream",
     "text": [
      "\n",
      "CPU times: user 35 s, sys: 3.7 s, total: 38.7 s\n",
      "Wall time: 38 s\n"
     ]
    }
   ],
   "source": [
    "%%time\n",
    "\n",
    "experiment.load_bugs(TOKEN)\n",
    "len(baseline.sentence_dict)"
   ]
  },
  {
   "cell_type": "markdown",
   "metadata": {},
   "source": [
    "#### Hashing bugs by buckets"
   ]
  },
  {
   "cell_type": "code",
   "execution_count": 14,
   "metadata": {
    "scrolled": false
   },
   "outputs": [
    {
     "data": {
      "application/vnd.jupyter.widget-view+json": {
       "model_id": "0e3a2a459ee7496681c9cf933f3a48a4",
       "version_major": 2,
       "version_minor": 0
      },
      "text/plain": [
       "HBox(children=(IntProgress(value=0, max=361006), HTML(value='')))"
      ]
     },
     "metadata": {},
     "output_type": "display_data"
    },
    {
     "name": "stdout",
     "output_type": "stream",
     "text": [
      "\n"
     ]
    }
   ],
   "source": [
    "issues_by_buckets = experiment.get_buckets_for_bugs()"
   ]
  },
  {
   "cell_type": "markdown",
   "metadata": {},
   "source": [
    "#### Prepare the train and test"
   ]
  },
  {
   "cell_type": "code",
   "execution_count": 15,
   "metadata": {},
   "outputs": [],
   "source": [
    "# path_train='train_chronological', path_test='test_chronological'\n",
    "experiment.prepare_dataset(issues_by_buckets, path_train='train_chronological', path_test='test_chronological')\n",
    "# Read and create the test queries duplicates\n",
    "retrieval.create_queries()"
   ]
  },
  {
   "cell_type": "code",
   "execution_count": 16,
   "metadata": {},
   "outputs": [
    {
     "data": {
      "text/plain": [
       "[[275492, 218812],\n",
       " [288296, 264093],\n",
       " [273286, 293887],\n",
       " [57162, 62059],\n",
       " [82146, 67997],\n",
       " [56777, 61857],\n",
       " [169445, 165179],\n",
       " [250521, 273893],\n",
       " [247266, 241461],\n",
       " [36781, 38338]]"
      ]
     },
     "execution_count": 16,
     "metadata": {},
     "output_type": "execute_result"
    }
   ],
   "source": [
    "baseline.train_data[:10]"
   ]
  },
  {
   "cell_type": "markdown",
   "metadata": {},
   "source": [
    "#### Recovery bug ids from train"
   ]
  },
  {
   "cell_type": "code",
   "execution_count": 17,
   "metadata": {},
   "outputs": [],
   "source": [
    "bug_train_ids = experiment.get_train_ids(baseline.train_data)"
   ]
  },
  {
   "cell_type": "markdown",
   "metadata": {},
   "source": [
    "### Export the corpus train"
   ]
  },
  {
   "cell_type": "code",
   "execution_count": 18,
   "metadata": {},
   "outputs": [],
   "source": [
    "if EXTRACT_CORPUS:\n",
    "    corpus = []\n",
    "    export_file = open(os.path.join(DIR, 'corpus_train.txt'), 'w')\n",
    "    for bug_id in tqdm(baseline.bug_set):\n",
    "        bug = baseline.bug_set[bug_id]\n",
    "        title = bug['title']\n",
    "        desc = bug['description']\n",
    "        export_file.write(\"{}\\n{}\\n\".format(title, desc))\n",
    "    export_file.close()"
   ]
  },
  {
   "cell_type": "markdown",
   "metadata": {
    "colab_type": "text",
    "id": "a6Obtop6UIVD"
   },
   "source": [
    "# Generating tiple of batches"
   ]
  },
  {
   "cell_type": "code",
   "execution_count": 19,
   "metadata": {
    "scrolled": true
   },
   "outputs": [
    {
     "data": {
      "text/plain": [
       "{'bug_severity': '5\\n',\n",
       " 'bug_status': '2\\n',\n",
       " 'component': '853\\n',\n",
       " 'creation_ts': '2008-02-20 05:04:00 -0500',\n",
       " 'delta_ts': '2008-03-25 03:25:03 -0400',\n",
       " 'description': '[CLS] description : fail to display chart when deploy in was ##6 . 0 . 1 build number : 2 . 3 . 0 . v ##200 ##80 ##22 ##0 steps to reproduce : 1 . deploy bi ##rt in was ##6 . 0 . 1 2 . preview test ##1 . r ##pt ##des ##ign expected result : display table data and chart actual result : only display table data without chart . error log : n / a [SEP]',\n",
       " 'description_segment': [0,\n",
       "  0,\n",
       "  0,\n",
       "  0,\n",
       "  0,\n",
       "  0,\n",
       "  0,\n",
       "  0,\n",
       "  0,\n",
       "  0,\n",
       "  0,\n",
       "  0,\n",
       "  0,\n",
       "  0,\n",
       "  0,\n",
       "  0,\n",
       "  0,\n",
       "  0,\n",
       "  0,\n",
       "  0,\n",
       "  0,\n",
       "  0,\n",
       "  0,\n",
       "  0,\n",
       "  0,\n",
       "  0,\n",
       "  0,\n",
       "  0,\n",
       "  0,\n",
       "  0,\n",
       "  0,\n",
       "  0,\n",
       "  0,\n",
       "  0,\n",
       "  0,\n",
       "  0,\n",
       "  0,\n",
       "  0,\n",
       "  0,\n",
       "  0,\n",
       "  0,\n",
       "  0,\n",
       "  0,\n",
       "  0,\n",
       "  0,\n",
       "  0,\n",
       "  0,\n",
       "  0,\n",
       "  0,\n",
       "  0,\n",
       "  0,\n",
       "  0,\n",
       "  0,\n",
       "  0,\n",
       "  0,\n",
       "  0,\n",
       "  0,\n",
       "  0,\n",
       "  0,\n",
       "  0,\n",
       "  0,\n",
       "  0,\n",
       "  0,\n",
       "  0,\n",
       "  0,\n",
       "  0,\n",
       "  0,\n",
       "  0,\n",
       "  0,\n",
       "  0,\n",
       "  0,\n",
       "  0,\n",
       "  0,\n",
       "  0,\n",
       "  0,\n",
       "  0,\n",
       "  0,\n",
       "  0,\n",
       "  0,\n",
       "  0,\n",
       "  0,\n",
       "  0,\n",
       "  0,\n",
       "  0,\n",
       "  0,\n",
       "  0,\n",
       "  0,\n",
       "  0,\n",
       "  0,\n",
       "  0,\n",
       "  0,\n",
       "  0,\n",
       "  0,\n",
       "  0,\n",
       "  0,\n",
       "  0,\n",
       "  0,\n",
       "  0,\n",
       "  0,\n",
       "  0,\n",
       "  0,\n",
       "  0,\n",
       "  0,\n",
       "  0,\n",
       "  0,\n",
       "  0,\n",
       "  0,\n",
       "  0,\n",
       "  0,\n",
       "  0,\n",
       "  0,\n",
       "  0,\n",
       "  0,\n",
       "  0,\n",
       "  0,\n",
       "  0,\n",
       "  0,\n",
       "  0,\n",
       "  0,\n",
       "  0,\n",
       "  0,\n",
       "  0,\n",
       "  0,\n",
       "  0,\n",
       "  0,\n",
       "  0,\n",
       "  0,\n",
       "  0,\n",
       "  0,\n",
       "  0,\n",
       "  0,\n",
       "  0,\n",
       "  0,\n",
       "  0,\n",
       "  0,\n",
       "  0,\n",
       "  0,\n",
       "  0,\n",
       "  0,\n",
       "  0,\n",
       "  0,\n",
       "  0,\n",
       "  0,\n",
       "  0,\n",
       "  0,\n",
       "  0,\n",
       "  0,\n",
       "  0,\n",
       "  0,\n",
       "  0],\n",
       " 'description_token': array([  101,  6412,  1024,  8246,  2000,  4653,  3673,  2043, 21296,\n",
       "         1999,  2001,  2575,  1012,  1014,  1012,  1015,  3857,  2193,\n",
       "         1024,   102]),\n",
       " 'dup_id': '[]',\n",
       " 'issue_id': 219569,\n",
       " 'priority': '1\\n',\n",
       " 'product': '104\\n',\n",
       " 'resolution': 'INVALID',\n",
       " 'textual_token': array([  101,  1031, 26237,  1033,  8246,  2000,  4653,  3673,  2043,\n",
       "        21296,  1999,  2001,  2575,  1012,  1014,  1012,  1015,  1031,\n",
       "         5757,   102,   101,  6412,  1024,  8246,  2000,  4653,  3673,\n",
       "         2043, 21296,  1999,  2001,  2575,  1012,  1014,  1012,  1015,\n",
       "         3857,  2193,  1024,   102]),\n",
       " 'title': '[CLS] [ regression ] fail to display chart when deploy in was ##6 . 0 . 1 [ 06 ##01 ] [SEP]',\n",
       " 'title_segment': [0,\n",
       "  0,\n",
       "  0,\n",
       "  0,\n",
       "  0,\n",
       "  0,\n",
       "  0,\n",
       "  0,\n",
       "  0,\n",
       "  0,\n",
       "  0,\n",
       "  0,\n",
       "  0,\n",
       "  0,\n",
       "  0,\n",
       "  0,\n",
       "  0,\n",
       "  0,\n",
       "  0,\n",
       "  0,\n",
       "  0,\n",
       "  0,\n",
       "  0,\n",
       "  0,\n",
       "  0,\n",
       "  0,\n",
       "  0,\n",
       "  0,\n",
       "  0,\n",
       "  0,\n",
       "  0,\n",
       "  0,\n",
       "  0,\n",
       "  0,\n",
       "  0,\n",
       "  0,\n",
       "  0,\n",
       "  0,\n",
       "  0,\n",
       "  0,\n",
       "  0,\n",
       "  0,\n",
       "  0,\n",
       "  0,\n",
       "  0,\n",
       "  0,\n",
       "  0,\n",
       "  0,\n",
       "  0,\n",
       "  0],\n",
       " 'title_token': array([  101,  1031, 26237,  1033,  8246,  2000,  4653,  3673,  2043,\n",
       "        21296,  1999,  2001,  2575,  1012,  1014,  1012,  1015,  1031,\n",
       "         5757,   102]),\n",
       " 'version': '387\\n'}"
      ]
     },
     "execution_count": 19,
     "metadata": {},
     "output_type": "execute_result"
    }
   ],
   "source": [
    "idx = np.random.choice(baseline.bug_ids, 1)[0]\n",
    "baseline.bug_set[idx]"
   ]
  },
  {
   "cell_type": "markdown",
   "metadata": {},
   "source": [
    "### Generating the batch test"
   ]
  },
  {
   "cell_type": "code",
   "execution_count": 20,
   "metadata": {},
   "outputs": [
    {
     "data": {
      "text/plain": [
       "('Train ', 39339)"
      ]
     },
     "execution_count": 20,
     "metadata": {},
     "output_type": "execute_result"
    }
   ],
   "source": [
    "\"Train \", len(baseline.dup_sets_train)"
   ]
  },
  {
   "cell_type": "code",
   "execution_count": 21,
   "metadata": {},
   "outputs": [],
   "source": [
    "import random\n",
    "\n",
    "# data - path\n",
    "# batch_size - 128\n",
    "# n_neg - 1\n",
    "def batch_iterator(self, retrieval, model, data, dup_sets, bug_ids, \n",
    "                   batch_size, n_neg, issues_by_buckets, TRIPLET_HARD=False, FLOATING_PADDING=False):\n",
    "    # global train_data\n",
    "    # global self.dup_sets\n",
    "    # global self.bug_ids\n",
    "    # global self.bug_set\n",
    "\n",
    "    random.shuffle(data)\n",
    "\n",
    "    batch_features = {'title' : [], 'desc' : [], 'info' : []}\n",
    "\n",
    "    n_train = len(data)\n",
    "\n",
    "    batch_triplets, batch_bugs_anchor, batch_bugs_pos, batch_bugs_neg, batch_bugs = [], [], [], [], []\n",
    "\n",
    "    all_bugs = list(issues_by_buckets.keys())\n",
    "    buckets = retrieval.buckets\n",
    "\n",
    "    for offset in range(batch_size):\n",
    "        anchor, pos = data[offset][0], data[offset][1]\n",
    "        batch_bugs_anchor.append(anchor)\n",
    "        batch_bugs_pos.append(pos)\n",
    "        batch_bugs.append(anchor)\n",
    "        batch_bugs.append(pos)\n",
    "        #batch_bugs += dup_sets[anchor]\n",
    "\n",
    "    for anchor, pos in zip(batch_bugs_anchor, batch_bugs_pos):\n",
    "        while True:\n",
    "            neg = self.get_neg_bug(anchor, buckets[issues_by_buckets[anchor]], issues_by_buckets, all_bugs)\n",
    "            bug_anchor = self.bug_set[anchor]\n",
    "            bug_pos = self.bug_set[pos]\n",
    "            if neg not in self.bug_set:\n",
    "                continue\n",
    "            batch_bugs.append(neg)\n",
    "            batch_bugs_neg.append(neg)\n",
    "            bug_neg = self.bug_set[neg]\n",
    "            break\n",
    "        \n",
    "        # triplet bug and master\n",
    "        batch_triplets.append([anchor, pos, neg])\n",
    "    \n",
    "    random.shuffle(batch_bugs)\n",
    "    \n",
    "    for bug_id in batch_bugs:\n",
    "        bug = self.bug_set[bug_id]\n",
    "        self.read_batch_bugs(batch_features, bug)\n",
    "\n",
    "    batch_features['title'] = np.array(batch_features['title'])\n",
    "    batch_features['desc'] = np.array(batch_features['desc'])\n",
    "    batch_features['info'] = np.array(batch_features['info'])\n",
    "    \n",
    "    sim = np.asarray([issues_by_buckets[bug_id] for bug_id in batch_bugs])\n",
    "\n",
    "    input_sample = {}\n",
    "\n",
    "    input_sample = { 'title' : batch_features['title'], \n",
    "                        'description' : batch_features['desc'], \n",
    "                            'info' : batch_features['info'] }\n",
    "\n",
    "    return batch_triplets, input_sample, sim #sim"
   ]
  },
  {
   "cell_type": "code",
   "execution_count": 22,
   "metadata": {
    "colab": {
     "base_uri": "https://localhost:8080/",
     "height": 51
    },
    "colab_type": "code",
    "id": "PA5CIhgz7odW",
    "outputId": "ae98fdec-1d54-4b1f-ee0e-4c5633802a18",
    "scrolled": true
   },
   "outputs": [
    {
     "name": "stdout",
     "output_type": "stream",
     "text": [
      "CPU times: user 473 ms, sys: 0 ns, total: 473 ms\n",
      "Wall time: 473 ms\n"
     ]
    }
   ],
   "source": [
    "%%time\n",
    "\n",
    "batch_size = 128\n",
    "batch_size_test = 128\n",
    "\n",
    "# we want a constant validation group to have a frame of reference for model performance\n",
    "batch_triplets_valid, valid_input_sample, valid_sim = batch_iterator(baseline, retrieval, None, \n",
    "                                                                                      baseline.train_data, \n",
    "                                                                                      baseline.dup_sets_train,\n",
    "                                                                                      bug_train_ids,\n",
    "                                                                                      batch_size_test, 1,\n",
    "                                                                                      issues_by_buckets)\n",
    "\n",
    "validation_sample = [valid_input_sample['title'], \n",
    "             valid_input_sample['description'],\n",
    "            valid_input_sample['info'], valid_sim]\n",
    "\n",
    "# Categorical columns\n",
    "number_of_columns_info = valid_input_sample['info'].shape[1]\n",
    "# Max sequence title\n",
    "MAX_SEQUENCE_LENGTH_T = valid_input_sample['title'].shape[1]\n",
    "MAX_SEQUENCE_LENGTH_D = valid_input_sample['description'].shape[1]"
   ]
  },
  {
   "cell_type": "code",
   "execution_count": 23,
   "metadata": {},
   "outputs": [
    {
     "data": {
      "text/plain": [
       "((384, 20), (384, 20), (384, 1682), (384,))"
      ]
     },
     "execution_count": 23,
     "metadata": {},
     "output_type": "execute_result"
    }
   ],
   "source": [
    "valid_input_sample['title'].shape, valid_input_sample['description'].shape, valid_input_sample['info'].shape, valid_sim.shape"
   ]
  },
  {
   "cell_type": "markdown",
   "metadata": {
    "colab_type": "text",
    "id": "24mY22BGnkqp"
   },
   "source": [
    "### Validar entrada"
   ]
  },
  {
   "cell_type": "code",
   "execution_count": 24,
   "metadata": {
    "colab": {
     "base_uri": "https://localhost:8080/",
     "height": 796
    },
    "colab_type": "code",
    "id": "OhTbr3a5nmrh",
    "outputId": "a2d73e0f-e9ce-4d12-a5c8-f0008d2402d0",
    "scrolled": true
   },
   "outputs": [],
   "source": [
    "# %%time \n",
    "\n",
    "#baseline.display_batch(baseline.train_data, baseline.dup_sets_train, bug_train_ids, 5)"
   ]
  },
  {
   "cell_type": "code",
   "execution_count": 25,
   "metadata": {},
   "outputs": [
    {
     "data": {
      "text/plain": [
       "('Test ', 16995)"
      ]
     },
     "execution_count": 25,
     "metadata": {},
     "output_type": "execute_result"
    }
   ],
   "source": [
    "\"Test \", len(baseline.test_data)"
   ]
  },
  {
   "cell_type": "markdown",
   "metadata": {
    "colab_type": "text",
    "id": "XPrsLs4Kg4Pa"
   },
   "source": [
    "## Pre-trained embeddings\n",
    "\n",
    "Loading pretrained word vectors"
   ]
  },
  {
   "cell_type": "markdown",
   "metadata": {
    "colab_type": "text",
    "id": "6p9eE5TWoH7p"
   },
   "source": [
    "### Glove"
   ]
  },
  {
   "cell_type": "code",
   "execution_count": 26,
   "metadata": {},
   "outputs": [
    {
     "name": "stdout",
     "output_type": "stream",
     "text": [
      "vocabulary loaded\n"
     ]
    }
   ],
   "source": [
    "vocab = baseline.load_vocabulary(os.path.join(DIR, 'vocab_embed.pkl'))\n",
    "#print(np.random.choice(vocab, 10))\n",
    "# for token in vocab:\n",
    "#     print(token)"
   ]
  },
  {
   "cell_type": "code",
   "execution_count": 27,
   "metadata": {},
   "outputs": [
    {
     "data": {
      "text/plain": [
       "'Total vocabulary: 21175'"
      ]
     },
     "execution_count": 27,
     "metadata": {},
     "output_type": "execute_result"
    }
   ],
   "source": [
    "\"Total vocabulary: {}\".format(len(vocab))"
   ]
  },
  {
   "cell_type": "code",
   "execution_count": 28,
   "metadata": {},
   "outputs": [],
   "source": [
    "def generating_embed(baseline, GLOVE_DIR, EMBEDDING_DIM):\n",
    "    embeddings_index = {}\n",
    "    embed_path = os.path.join(GLOVE_DIR, 'glove.42B.300d.txt')\n",
    "    f2 = open(embed_path, 'rb')\n",
    "    num_lines = sum(1 for line in f2)\n",
    "    f2.close()\n",
    "    f = open(embed_path, 'rb')\n",
    "    vocab = baseline.load_vocabulary(os.path.join(baseline.DIR, 'vocab_embed.pkl'))\n",
    "    vocab_size = len(vocab) \n",
    "\n",
    "    # Initialize uniform the vector considering the Tanh activation\n",
    "    embedding_matrix = np.random.uniform(-1.0, 1.0, (num_lines + vocab_size, EMBEDDING_DIM))\n",
    "    embedding_matrix[0, :] = np.zeros(EMBEDDING_DIM)\n",
    "\n",
    "    loop = tqdm(f)\n",
    "    loop.set_description(\"Loading Glove\")\n",
    "    i = 0\n",
    "    for line in loop:\n",
    "        tokens = line.split()\n",
    "        word = tokens[0]\n",
    "        embeddings_index[word] = np.asarray(tokens[1:], dtype='float32')\n",
    "        i+=1\n",
    "        loop.update(1)\n",
    "    f.close()\n",
    "    loop.close()\n",
    "\n",
    "    print('Total %s word vectors in Glove 42B 300d.' % len(embeddings_index))\n",
    "    loop = tqdm(total=vocab_size)\n",
    "    loop.set_description('Loading embedding from dataset pretrained')\n",
    "    for word, embed in vocab.items():\n",
    "        if word not in embeddings_index:\n",
    "            embeddings_index[i] = np.asarray(embed, dtype='float32')\n",
    "        loop.update(1)\n",
    "        i+=1\n",
    "    loop.close()\n",
    "    baseline.embedding_matrix = embedding_matrix"
   ]
  },
  {
   "cell_type": "code",
   "execution_count": 29,
   "metadata": {
    "colab": {
     "base_uri": "https://localhost:8080/",
     "height": 85
    },
    "colab_type": "code",
    "id": "QY-ef3OGoIiq",
    "outputId": "55f4c93c-98bb-4bac-92f2-76bd3b777605"
   },
   "outputs": [
    {
     "name": "stdout",
     "output_type": "stream",
     "text": [
      "vocabulary loaded\n"
     ]
    },
    {
     "data": {
      "application/vnd.jupyter.widget-view+json": {
       "model_id": "c710d1d430394fb2861811f6cba8a5ed",
       "version_major": 2,
       "version_minor": 0
      },
      "text/plain": [
       "HBox(children=(IntProgress(value=1, bar_style='info', max=1), HTML(value='')))"
      ]
     },
     "metadata": {},
     "output_type": "display_data"
    },
    {
     "name": "stdout",
     "output_type": "stream",
     "text": [
      "\n",
      "Total 1917494 word vectors in Glove 42B 300d.\n"
     ]
    },
    {
     "data": {
      "application/vnd.jupyter.widget-view+json": {
       "model_id": "847960892a7a4daeb05c9923d49adeb1",
       "version_major": 2,
       "version_minor": 0
      },
      "text/plain": [
       "HBox(children=(IntProgress(value=0, max=21175), HTML(value='')))"
      ]
     },
     "metadata": {},
     "output_type": "display_data"
    },
    {
     "name": "stdout",
     "output_type": "stream",
     "text": [
      "\n",
      "CPU times: user 1min 34s, sys: 3.43 s, total: 1min 37s\n",
      "Wall time: 1min 36s\n"
     ]
    }
   ],
   "source": [
    "%%time\n",
    "\n",
    "generating_embed(baseline, GLOVE_DIR=GLOVE_DIR, EMBEDDING_DIM=EMBEDDING_DIM) # MAX_NB_WORDS=MAX_NB_WORDS"
   ]
  },
  {
   "cell_type": "markdown",
   "metadata": {},
   "source": [
    "## Experiment"
   ]
  },
  {
   "cell_type": "markdown",
   "metadata": {
    "colab_type": "text",
    "id": "Lev5Y7oaFQBd"
   },
   "source": [
    "## Towards Accurate Duplicate Bug Retrieval Using Deep Learning Techniques\n",
    "\n",
    "https://github.com/tqtg/DuplicateBugFinder"
   ]
  },
  {
   "cell_type": "markdown",
   "metadata": {},
   "source": [
    "### Embedding layer"
   ]
  },
  {
   "cell_type": "code",
   "execution_count": 30,
   "metadata": {},
   "outputs": [],
   "source": [
    "from keras.constraints import MaxNorm\n",
    "from keras.initializers import TruncatedNormal, RandomUniform\n",
    "\n",
    "# Is missing the padding_idx used in pytorch\n",
    "# https://pytorch.org/docs/stable/_modules/torch/nn/modules/sparse.html\n",
    "# https://stackoverflow.com/questions/54824768/rnn-model-gru-of-word2vec-to-regression-not-learning\n",
    "def embedding_layer(embeddings, num_words, embedding_dim, max_sequence_length, trainable):\n",
    "    embedding_layer = Embedding(num_words,\n",
    "                                  embedding_dim,\n",
    "                                  name='embedding_layer',\n",
    "                                  weights=[embeddings],\n",
    "                                  embeddings_constraint=MaxNorm(max_value=1, axis=0),\n",
    "                                  #input_length=max_sequence_length,\n",
    "                                  input_length=None,\n",
    "                                  trainable=trainable)\n",
    "    return embedding_layer"
   ]
  },
  {
   "cell_type": "markdown",
   "metadata": {
    "colab_type": "text",
    "id": "sI074wU4Y13y"
   },
   "source": [
    "### CNN with filter 3,4,5"
   ]
  },
  {
   "cell_type": "code",
   "execution_count": 31,
   "metadata": {
    "colab": {
     "base_uri": "https://localhost:8080/",
     "height": 493
    },
    "colab_type": "code",
    "id": "h6YJU9GtFTyq",
    "outputId": "f85cf105-1fd6-491d-d969-7e6936f32739",
    "scrolled": false
   },
   "outputs": [],
   "source": [
    "import keras\n",
    "from keras.layers import GlobalMaxPooling1D, GlobalAveragePooling1D\n",
    "\n",
    "def cnn_model(embedding_layer, max_sequence_length):\n",
    "\n",
    "    sequence_input = Input(shape=(max_sequence_length,), name='Feature_BugInput')\n",
    "    #sequence_input = Input(shape=(None,), name='Feature_BugInput')\n",
    "    embedded_sequences = embedding_layer(sequence_input)\n",
    "\n",
    "    # Yoon Kim model (https://arxiv.org/abs/1408.5882)\n",
    "    # best combination filter (3, 4, 5) e 128 e 256\n",
    "    convs = []\n",
    "    filter_sizes = [3, 4, 5]\n",
    "    n_filters = 64\n",
    "\n",
    "    for index, filter_size in enumerate(filter_sizes):\n",
    "        l_conv = Conv1D(filters=n_filters, kernel_size=filter_size)(embedded_sequences)\n",
    "        l_pool = MaxPooling1D(pool_size=filter_size)(l_conv) # index+1\n",
    "        convs.append(l_pool)\n",
    "\n",
    "    l_merge = Concatenate(axis=1)(convs)\n",
    "\n",
    "    # add a 1D convnet with global maxpooling, instead of Yoon Kim model\n",
    "    #conv = Conv1D(filters=n_filters * 3, kernel_size=3)(l_merge)\n",
    "    layer = GlobalAveragePooling1D()(l_merge)\n",
    "    #layer = Flatten()(l_merge)\n",
    "    layer = Dense(300, activation='tanh')(layer)\n",
    "    #layer = LeakyReLU()(layer)\n",
    "\n",
    "    cnn_feature_model = Model(inputs=[sequence_input], outputs=[layer], name = 'FeatureCNNGenerationModel') # inputs=visible\n",
    "\n",
    "    return cnn_feature_model"
   ]
  },
  {
   "cell_type": "markdown",
   "metadata": {
    "colab_type": "text",
    "id": "wr6ObTXiaALH"
   },
   "source": [
    "### Bi-LSTM"
   ]
  },
  {
   "cell_type": "code",
   "execution_count": 32,
   "metadata": {
    "colab": {
     "base_uri": "https://localhost:8080/",
     "height": 306
    },
    "colab_type": "code",
    "id": "vC7MQXEsaCeG",
    "outputId": "65e647a9-c5d3-4009-b8a4-2e2d97b52684"
   },
   "outputs": [],
   "source": [
    "from keras.layers import Dense, Input, LSTM, GRU, Dropout, Bidirectional, GlobalAveragePooling1D, TimeDistributed\n",
    "\n",
    "def lstm_model(embedding_layer, max_sequence_length):\n",
    "    number_lstm_units = 75\n",
    "    rate_drop_lstm = 0\n",
    "    recurrent_dropout = 0\n",
    "\n",
    "    sequence_input = Input(shape=(max_sequence_length, ), name='Feature_BugInput')\n",
    "    #sequence_input = Input(shape=(None, ), name='Feature_BugInput')\n",
    "    embedded_sequences = embedding_layer(sequence_input)\n",
    "\n",
    "    left_layer = LSTM(number_lstm_units, return_sequences=True)(embedded_sequences)\n",
    "    right_layer = LSTM(number_lstm_units, return_sequences=True, go_backwards=True)(left_layer)\n",
    "    \n",
    "    lstm_layer = Concatenate()([left_layer, right_layer])\n",
    "    \n",
    "    #lstm_layer = TimeDistributed(Dense(50))(lstm_layer)\n",
    "    #layer = Flatten()(lstm_layer)\n",
    "    layer = GlobalAveragePooling1D()(lstm_layer)\n",
    "    layer = Dense(300, activation='tanh')(layer)\n",
    "\n",
    "    lstm_feature_model = Model(inputs=[sequence_input], outputs=[layer], name = 'FeatureLstmGenerationModel') # inputs=visible\n",
    "\n",
    "    return lstm_feature_model"
   ]
  },
  {
   "cell_type": "markdown",
   "metadata": {},
   "source": [
    "### MLP"
   ]
  },
  {
   "cell_type": "code",
   "execution_count": 33,
   "metadata": {},
   "outputs": [],
   "source": [
    "def mlp_model(input_size):\n",
    "    info_input = Input(shape=(input_size, ), name='Feature_BugInput')\n",
    "    input_size = 300\n",
    "    \n",
    "    for units in [64, 32]:\n",
    "        layer = Dense(units, activation='tanh', kernel_initializer='random_uniform')(info_input)\n",
    "    \n",
    "    layer = Dense(input_size, activation='tanh')(info_input)\n",
    "    \n",
    "    mlp_feature_model = Model(inputs=[info_input], outputs=[layer], name = 'FeatureMlpGenerationModel')\n",
    "    \n",
    "    return mlp_feature_model"
   ]
  },
  {
   "cell_type": "markdown",
   "metadata": {
    "colab_type": "text",
    "id": "TEedCg5AaTf2"
   },
   "source": [
    "### Siamese model"
   ]
  },
  {
   "cell_type": "code",
   "execution_count": 34,
   "metadata": {},
   "outputs": [],
   "source": [
    "def pairwise_distance(feature, squared=False):\n",
    "    \"\"\"Computes the pairwise distance matrix with numerical stability.\n",
    "\n",
    "    output[i, j] = || feature[i, :] - feature[j, :] ||_2\n",
    "\n",
    "    Args:\n",
    "      feature: 2-D Tensor of size [number of data, feature dimension].\n",
    "      squared: Boolean, whether or not to square the pairwise distances.\n",
    "\n",
    "    Returns:\n",
    "      pairwise_distances: 2-D Tensor of size [number of data, number of data].\n",
    "    \"\"\"\n",
    "    pairwise_distances_squared = math_ops.add(\n",
    "        math_ops.reduce_sum(math_ops.square(feature), axis=[1], keepdims=True),\n",
    "        math_ops.reduce_sum(\n",
    "            math_ops.square(array_ops.transpose(feature)),\n",
    "            axis=[0],\n",
    "            keepdims=True)) - 2.0 * math_ops.matmul(feature,\n",
    "                                                    array_ops.transpose(feature))\n",
    "\n",
    "    # Deal with numerical inaccuracies. Set small negatives to zero.\n",
    "    pairwise_distances_squared = math_ops.maximum(pairwise_distances_squared, 0.0)\n",
    "    # Get the mask where the zero distances are at.\n",
    "    error_mask = math_ops.less_equal(pairwise_distances_squared, 0.0)\n",
    "\n",
    "    # Optionally take the sqrt.\n",
    "    if squared:\n",
    "        pairwise_distances = pairwise_distances_squared\n",
    "    else:\n",
    "        pairwise_distances = math_ops.sqrt(\n",
    "            pairwise_distances_squared + math_ops.to_float(error_mask) * 1e-16)\n",
    "\n",
    "    # Undo conditionally adding 1e-16.\n",
    "    pairwise_distances = math_ops.multiply(\n",
    "        pairwise_distances, math_ops.to_float(math_ops.logical_not(error_mask)))\n",
    "\n",
    "    num_data = array_ops.shape(feature)[0]\n",
    "    # Explicitly set diagonals to zero.\n",
    "    mask_offdiagonals = array_ops.ones_like(pairwise_distances) - array_ops.diag(\n",
    "        array_ops.ones([num_data]))\n",
    "    pairwise_distances = math_ops.multiply(pairwise_distances, mask_offdiagonals)\n",
    "    return pairwise_distances\n",
    "\n",
    "def masked_maximum(data, mask, dim=1):\n",
    "    \"\"\"Computes the axis wise maximum over chosen elements.\n",
    "\n",
    "    Args:\n",
    "      data: 2-D float `Tensor` of size [n, m].\n",
    "      mask: 2-D Boolean `Tensor` of size [n, m].\n",
    "      dim: The dimension over which to compute the maximum.\n",
    "\n",
    "    Returns:\n",
    "      masked_maximums: N-D `Tensor`.\n",
    "        The maximized dimension is of size 1 after the operation.\n",
    "    \"\"\"\n",
    "    axis_minimums = math_ops.reduce_min(data, dim, keepdims=True)\n",
    "    masked_maximums = math_ops.reduce_max(\n",
    "        math_ops.multiply(data - axis_minimums, mask), dim,\n",
    "        keepdims=True) + axis_minimums\n",
    "    return masked_maximums\n",
    "\n",
    "def masked_minimum(data, mask, dim=1):\n",
    "    \"\"\"Computes the axis wise minimum over chosen elements.\n",
    "\n",
    "    Args:\n",
    "      data: 2-D float `Tensor` of size [n, m].\n",
    "      mask: 2-D Boolean `Tensor` of size [n, m].\n",
    "      dim: The dimension over which to compute the minimum.\n",
    "\n",
    "    Returns:\n",
    "      masked_minimums: N-D `Tensor`.\n",
    "        The minimized dimension is of size 1 after the operation.\n",
    "    \"\"\"\n",
    "    axis_maximums = math_ops.reduce_max(data, dim, keepdims=True)\n",
    "    masked_minimums = math_ops.reduce_min(\n",
    "        math_ops.multiply(data - axis_maximums, mask), dim,\n",
    "        keepdims=True) + axis_maximums\n",
    "    return masked_minimums"
   ]
  },
  {
   "cell_type": "code",
   "execution_count": 35,
   "metadata": {},
   "outputs": [],
   "source": [
    "## required for semi-hard triplet loss:\n",
    "from tensorflow.python.ops import array_ops\n",
    "from tensorflow.python.ops import math_ops\n",
    "from tensorflow.python.framework import dtypes\n",
    "import tensorflow as tf\n",
    "\n",
    "def triplet_loss_adapted_from_tf(y_true, y_pred):\n",
    "    del y_true\n",
    "    margin = 1.\n",
    "    labels = y_pred[:, :1]\n",
    " \n",
    "    labels = tf.cast(labels, dtype='int32')\n",
    "\n",
    "    embeddings = y_pred[:, 1:]\n",
    "\n",
    "    ### Code from Tensorflow function [tf.contrib.losses.metric_learning.triplet_semihard_loss] starts here:\n",
    "    \n",
    "    # Reshape [batch_size] label tensor to a [batch_size, 1] label tensor.\n",
    "    # lshape=array_ops.shape(labels)\n",
    "    # assert lshape.shape == 1\n",
    "    # labels = array_ops.reshape(labels, [lshape[0], 1])\n",
    "\n",
    "    # Build pairwise squared distance matrix.\n",
    "    pdist_matrix = pairwise_distance(embeddings, squared=True)\n",
    "    # Build pairwise binary adjacency matrix.\n",
    "    adjacency = math_ops.equal(labels, array_ops.transpose(labels))\n",
    "    # Invert so we can select negatives only.\n",
    "    adjacency_not = math_ops.logical_not(adjacency)\n",
    "\n",
    "    # global batch_size  \n",
    "    batch_size = array_ops.size(labels) # was 'array_ops.size(labels)'\n",
    "\n",
    "    # Compute the mask.\n",
    "    pdist_matrix_tile = array_ops.tile(pdist_matrix, [batch_size, 1])\n",
    "    mask = math_ops.logical_and(\n",
    "        array_ops.tile(adjacency_not, [batch_size, 1]),\n",
    "        math_ops.greater(\n",
    "            pdist_matrix_tile, array_ops.reshape(\n",
    "                array_ops.transpose(pdist_matrix), [-1, 1])))\n",
    "    mask_final = array_ops.reshape(\n",
    "        math_ops.greater(\n",
    "            math_ops.reduce_sum(\n",
    "                math_ops.cast(mask, dtype=dtypes.float32), 1, keepdims=True),\n",
    "            0.0), [batch_size, batch_size])\n",
    "    mask_final = array_ops.transpose(mask_final)\n",
    "\n",
    "    adjacency_not = math_ops.cast(adjacency_not, dtype=dtypes.float32)\n",
    "    mask = math_ops.cast(mask, dtype=dtypes.float32)\n",
    "\n",
    "    # negatives_outside: smallest D_an where D_an > D_ap.\n",
    "    negatives_outside = array_ops.reshape(\n",
    "        masked_minimum(pdist_matrix_tile, mask), [batch_size, batch_size])\n",
    "    negatives_outside = array_ops.transpose(negatives_outside)\n",
    "\n",
    "    # negatives_inside: largest D_an.\n",
    "    negatives_inside = array_ops.tile(\n",
    "        masked_maximum(pdist_matrix, adjacency_not), [1, batch_size])\n",
    "    semi_hard_negatives = array_ops.where(\n",
    "        mask_final, negatives_outside, negatives_inside)\n",
    "\n",
    "    loss_mat = math_ops.add(margin, pdist_matrix - semi_hard_negatives)\n",
    "\n",
    "    mask_positives = math_ops.cast(\n",
    "        adjacency, dtype=dtypes.float32) - array_ops.diag(\n",
    "        array_ops.ones([batch_size]))\n",
    "\n",
    "    # In lifted-struct, the authors multiply 0.5 for upper triangular\n",
    "    #   in semihard, they take all positive pairs except the diagonal.\n",
    "    num_positives = math_ops.reduce_sum(mask_positives)\n",
    "\n",
    "    semi_hard_triplet_loss_distance = math_ops.truediv(\n",
    "        math_ops.reduce_sum(\n",
    "            math_ops.maximum(\n",
    "                math_ops.multiply(loss_mat, mask_positives), 0.0)),\n",
    "        num_positives,\n",
    "        name='triplet_semihard_loss')\n",
    "    \n",
    "    ### Code from Tensorflow function semi-hard triplet loss ENDS here.\n",
    "    return semi_hard_triplet_loss_distance"
   ]
  },
  {
   "cell_type": "code",
   "execution_count": 36,
   "metadata": {},
   "outputs": [],
   "source": [
    "from keras.layers import concatenate, Add, Lambda, merge, Average, Maximum\n",
    "from keras.optimizers import Adam, Nadam\n",
    "\n",
    "def siamese_model(title_feature_model, desc_feature_model, categorical_feature_model, sequence_length_info, \n",
    "                  sequence_length_t, sequence_length_d, name):\n",
    "  \n",
    "    bug_t = Input(shape = (sequence_length_t, ), name = 'title_{}'.format(name))\n",
    "    bug_d = Input(shape = (sequence_length_d, ), name = 'desc_{}'.format(name))\n",
    "    bug_i = Input(shape = (sequence_length_info, ), name = 'info_{}'.format(name))\n",
    "    \n",
    "    bug_t_feat = title_feature_model(bug_t)\n",
    "    bug_d_feat = desc_feature_model(bug_d)\n",
    "    bug_i_feat = categorical_feature_model(bug_i)\n",
    "    \n",
    "    #bug_feature_output = Add(name = 'merge_features_{}'.format(name))([bug_i_feat, bug_t_feat, bug_d_feat])\n",
    "    bug_feature_output = concatenate([bug_i_feat, bug_t_feat, bug_d_feat], name = 'merge_features_{}'.format(name))\n",
    "    \n",
    "    #     bug_feature_output = Activation('tanh')(bug_feature_output)\n",
    "    \n",
    "    # Bug representation layer\n",
    "    # bug_feature_output = Dense(300, activation='tanh')(bug_feature_output)\n",
    "    \n",
    "    bug_feature_model = Model(inputs=[bug_t, bug_d, bug_i], outputs=[bug_feature_output], name = 'merge_features_{}'.format(name))\n",
    "    \n",
    "    return bug_feature_model"
   ]
  },
  {
   "cell_type": "code",
   "execution_count": 37,
   "metadata": {},
   "outputs": [],
   "source": [
    "def max_margin_objective(encoded_anchor, decay_lr=1):\n",
    "    \n",
    "    input_labels = Input(shape=(1,), name='input_label')    # input layer for labels\n",
    "    inputs = np.concatenate([encoded_anchor.input, [input_labels]], -1).tolist()\n",
    "    \n",
    "    encoded_anchor = encoded_anchor.output\n",
    "    \n",
    "    output = concatenate([input_labels, encoded_anchor])  # concatenating the labels + embeddings\n",
    "    \n",
    "    similarity_model = Model(inputs = inputs, outputs = output, name = 'Similarity_Model')\n",
    "\n",
    "    #optimizer = Nadam(lr=1e-3, beta_1=0.9, beta_2=0.999, epsilon=K.epsilon(), schedule_decay=0.01)\n",
    "    # optimizer = Adam(lr=1e-3 * decay_lr, beta_1=0.9, beta_2=0.999, epsilon=None, decay=0.0, amsgrad=True)\n",
    "\n",
    "    # setup the optimization process \n",
    "    similarity_model.compile(optimizer='adam', loss=triplet_loss_adapted_from_tf) \n",
    "    # metrics=[pos_distance, neg_distance, custom_margin_loss]\n",
    "\n",
    "    return similarity_model"
   ]
  },
  {
   "cell_type": "code",
   "execution_count": 38,
   "metadata": {},
   "outputs": [],
   "source": [
    "# Domain to use\n",
    "limit_train = int(epochs * freeze_train) # 10% de 1000 , 100 epocas\n",
    "METHOD = 'baseline_{}'.format(limit_train)\n",
    "SAVE_PATH = '{}_preprocessing_{}_feature@number_of_epochs@epochs_64batch({})'.format(PREPROCESSING, METHOD, DOMAIN)\n",
    "SAVE_PATH_FEATURE = '{}_preprocessing_{}_feature_@number_of_epochs@epochs_64batch({})'.format(PREPROCESSING, METHOD, DOMAIN)"
   ]
  },
  {
   "cell_type": "code",
   "execution_count": 39,
   "metadata": {},
   "outputs": [],
   "source": [
    "import _pickle as pickle\n",
    "def save_loss(result):\n",
    "    with open(os.path.join(DIR,'{}_log.pkl'.format(METHOD)), 'wb') as f:\n",
    "        pickle.dump(result, f)\n",
    "    print(\"=> result saved!\")"
   ]
  },
  {
   "cell_type": "code",
   "execution_count": 40,
   "metadata": {
    "scrolled": true
   },
   "outputs": [
    {
     "name": "stdout",
     "output_type": "stream",
     "text": [
      "WARNING:tensorflow:From /usr/local/lib/python3.5/dist-packages/keras/backend/tensorflow_backend.py:95: The name tf.reset_default_graph is deprecated. Please use tf.compat.v1.reset_default_graph instead.\n",
      "\n",
      "WARNING:tensorflow:From /usr/local/lib/python3.5/dist-packages/keras/backend/tensorflow_backend.py:98: The name tf.placeholder_with_default is deprecated. Please use tf.compat.v1.placeholder_with_default instead.\n",
      "\n",
      "WARNING:tensorflow:From /usr/local/lib/python3.5/dist-packages/keras/backend/tensorflow_backend.py:102: The name tf.get_default_graph is deprecated. Please use tf.compat.v1.get_default_graph instead.\n",
      "\n",
      "WARNING:tensorflow:From /usr/local/lib/python3.5/dist-packages/keras/backend/tensorflow_backend.py:517: The name tf.placeholder is deprecated. Please use tf.compat.v1.placeholder instead.\n",
      "\n",
      "WARNING:tensorflow:From /usr/local/lib/python3.5/dist-packages/keras/backend/tensorflow_backend.py:4138: The name tf.random_uniform is deprecated. Please use tf.random.uniform instead.\n",
      "\n",
      "WARNING:tensorflow:From /usr/local/lib/python3.5/dist-packages/keras/backend/tensorflow_backend.py:174: The name tf.get_default_session is deprecated. Please use tf.compat.v1.get_default_session instead.\n",
      "\n",
      "WARNING:tensorflow:From /usr/local/lib/python3.5/dist-packages/keras/backend/tensorflow_backend.py:181: The name tf.ConfigProto is deprecated. Please use tf.compat.v1.ConfigProto instead.\n",
      "\n",
      "WARNING:tensorflow:From /usr/local/lib/python3.5/dist-packages/keras/backend/tensorflow_backend.py:186: The name tf.Session is deprecated. Please use tf.compat.v1.Session instead.\n",
      "\n",
      "WARNING:tensorflow:From /usr/local/lib/python3.5/dist-packages/keras/backend/tensorflow_backend.py:190: The name tf.global_variables is deprecated. Please use tf.compat.v1.global_variables instead.\n",
      "\n",
      "WARNING:tensorflow:From /usr/local/lib/python3.5/dist-packages/keras/backend/tensorflow_backend.py:199: The name tf.is_variable_initialized is deprecated. Please use tf.compat.v1.is_variable_initialized instead.\n",
      "\n",
      "WARNING:tensorflow:From /usr/local/lib/python3.5/dist-packages/keras/backend/tensorflow_backend.py:206: The name tf.variables_initializer is deprecated. Please use tf.compat.v1.variables_initializer instead.\n",
      "\n",
      "WARNING:tensorflow:From /usr/local/lib/python3.5/dist-packages/keras/backend/tensorflow_backend.py:3976: The name tf.nn.max_pool is deprecated. Please use tf.nn.max_pool2d instead.\n",
      "\n",
      "WARNING:tensorflow:From /usr/local/lib/python3.5/dist-packages/keras/optimizers.py:790: The name tf.train.Optimizer is deprecated. Please use tf.compat.v1.train.Optimizer instead.\n",
      "\n",
      "WARNING:tensorflow:From <ipython-input-34-cd325db98846>:35: to_float (from tensorflow.python.ops.math_ops) is deprecated and will be removed in a future version.\n",
      "Instructions for updating:\n",
      "Use `tf.cast` instead.\n",
      "WARNING:tensorflow:From <ipython-input-35-3672f63e3254>:59: where (from tensorflow.python.ops.array_ops) is deprecated and will be removed in a future version.\n",
      "Instructions for updating:\n",
      "Use tf.where in 2.0, which has the same broadcast rule as np.where\n",
      "__________________________________________________________________________________________________\n",
      "Layer (type)                    Output Shape         Param #     Connected to                     \n",
      "==================================================================================================\n",
      "info_in (InputLayer)            (None, 1682)         0                                            \n",
      "__________________________________________________________________________________________________\n",
      "title_in (InputLayer)           (None, 20)           0                                            \n",
      "__________________________________________________________________________________________________\n",
      "desc_in (InputLayer)            (None, 20)           0                                            \n",
      "__________________________________________________________________________________________________\n",
      "FeatureMlpGenerationModel (Mode (None, 300)          504900      info_in[0][0]                    \n",
      "__________________________________________________________________________________________________\n",
      "FeatureLstmGenerationModel (Mod (None, 300)          581804100   title_in[0][0]                   \n",
      "__________________________________________________________________________________________________\n",
      "FeatureCNNGenerationModel (Mode (None, 300)          581850792   desc_in[0][0]                    \n",
      "__________________________________________________________________________________________________\n",
      "input_label (InputLayer)        (None, 1)            0                                            \n",
      "__________________________________________________________________________________________________\n",
      "merge_features_in (Concatenate) (None, 900)          0           FeatureMlpGenerationModel[1][0]  \n",
      "                                                                 FeatureLstmGenerationModel[1][0] \n",
      "                                                                 FeatureCNNGenerationModel[1][0]  \n",
      "__________________________________________________________________________________________________\n",
      "concatenate_3 (Concatenate)     (None, 901)          0           input_label[0][0]                \n",
      "                                                                 merge_features_in[0][0]          \n",
      "==================================================================================================\n",
      "Total params: 1,164,159,792\n",
      "Trainable params: 958,392\n",
      "Non-trainable params: 1,163,201,400\n",
      "__________________________________________________________________________________________________\n",
      "Total of  100\n",
      "WARNING:tensorflow:From /usr/local/lib/python3.5/dist-packages/keras/backend/tensorflow_backend.py:986: The name tf.assign_add is deprecated. Please use tf.compat.v1.assign_add instead.\n",
      "\n",
      "WARNING:tensorflow:From /usr/local/lib/python3.5/dist-packages/keras/backend/tensorflow_backend.py:973: The name tf.assign is deprecated. Please use tf.compat.v1.assign instead.\n",
      "\n",
      "Epoch: 1 Loss: 0.64, Loss_test: 0.69\n",
      "Epoch: 2 Loss: 0.79, Loss_test: 0.67\n",
      "Epoch: 3 Loss: 0.71, Loss_test: 0.66\n",
      "Epoch: 4 Loss: 0.65, Loss_test: 0.65\n",
      "Epoch: 5 Loss: 0.73, Loss_test: 0.63\n",
      "Epoch: 6 Loss: 0.61, Loss_test: 0.62\n",
      "Epoch: 7 Loss: 0.65, Loss_test: 0.58\n",
      "Epoch: 8 Loss: 0.52, Loss_test: 0.56\n",
      "Epoch: 9 Loss: 0.66, Loss_test: 0.55\n",
      "=> result saved!\n",
      "Epoch: 10 Loss: 0.52, Loss_test: 0.53\n",
      "Epoch: 11 Loss: 0.50, Loss_test: 0.52\n",
      "Epoch: 12 Loss: 0.42, Loss_test: 0.50\n",
      "Epoch: 13 Loss: 0.46, Loss_test: 0.48\n",
      "Epoch: 14 Loss: 0.59, Loss_test: 0.44\n",
      "Epoch: 15 Loss: 0.52, Loss_test: 0.43\n",
      "Epoch: 16 Loss: 0.58, Loss_test: 0.41\n",
      "Epoch: 17 Loss: 0.30, Loss_test: 0.40\n",
      "Epoch: 18 Loss: 0.45, Loss_test: 0.39\n",
      "Epoch: 19 Loss: 0.42, Loss_test: 0.38\n",
      "=> result saved!\n",
      "Epoch: 20 Loss: 0.35, Loss_test: 0.38\n",
      "Epoch: 21 Loss: 0.27, Loss_test: 0.37\n",
      "Epoch: 22 Loss: 0.29, Loss_test: 0.36\n",
      "Epoch: 23 Loss: 0.33, Loss_test: 0.36\n",
      "Epoch: 24 Loss: 0.23, Loss_test: 0.35\n",
      "Epoch: 25 Loss: 0.17, Loss_test: 0.34\n",
      "Epoch: 26 Loss: 0.26, Loss_test: 0.33\n",
      "Epoch: 27 Loss: 0.25, Loss_test: 0.33\n",
      "Epoch: 28 Loss: 0.35, Loss_test: 0.32\n",
      "Epoch: 29 Loss: 0.11, Loss_test: 0.32\n",
      "=> result saved!\n",
      "Epoch: 30 Loss: 0.17, Loss_test: 0.31\n",
      "Epoch: 31 Loss: 0.27, Loss_test: 0.31\n",
      "Epoch: 32 Loss: 0.25, Loss_test: 0.31\n",
      "Epoch: 33 Loss: 0.17, Loss_test: 0.30\n",
      "Epoch: 34 Loss: 0.11, Loss_test: 0.30\n",
      "Epoch: 35 Loss: 0.20, Loss_test: 0.30\n",
      "Epoch: 36 Loss: 0.17, Loss_test: 0.30\n",
      "Epoch: 37 Loss: 0.29, Loss_test: 0.29\n",
      "Epoch: 38 Loss: 0.21, Loss_test: 0.29\n",
      "Epoch: 39 Loss: 0.14, Loss_test: 0.29\n",
      "=> result saved!\n",
      "Epoch: 40 Loss: 0.21, Loss_test: 0.29\n",
      "Epoch: 41 Loss: 0.28, Loss_test: 0.29\n",
      "Epoch: 42 Loss: 0.18, Loss_test: 0.28\n",
      "Epoch: 43 Loss: 0.26, Loss_test: 0.28\n",
      "Epoch: 44 Loss: 0.21, Loss_test: 0.27\n",
      "Epoch: 45 Loss: 0.21, Loss_test: 0.27\n",
      "Epoch: 46 Loss: 0.24, Loss_test: 0.27\n",
      "Epoch: 47 Loss: 0.20, Loss_test: 0.27\n",
      "Epoch: 48 Loss: 0.15, Loss_test: 0.27\n",
      "Epoch: 49 Loss: 0.19, Loss_test: 0.26\n",
      "=> result saved!\n",
      "Epoch: 50 Loss: 0.23, Loss_test: 0.26\n",
      "Epoch: 51 Loss: 0.18, Loss_test: 0.26\n",
      "Epoch: 52 Loss: 0.17, Loss_test: 0.26\n",
      "Epoch: 53 Loss: 0.12, Loss_test: 0.25\n",
      "Epoch: 54 Loss: 0.15, Loss_test: 0.25\n",
      "Epoch: 55 Loss: 0.12, Loss_test: 0.25\n",
      "Epoch: 56 Loss: 0.18, Loss_test: 0.25\n",
      "Epoch: 57 Loss: 0.18, Loss_test: 0.24\n"
     ]
    },
    {
     "name": "stdout",
     "output_type": "stream",
     "text": [
      "Epoch: 58 Loss: 0.12, Loss_test: 0.24\n",
      "Epoch: 59 Loss: 0.18, Loss_test: 0.24\n",
      "=> result saved!\n",
      "Epoch: 60 Loss: 0.17, Loss_test: 0.24\n",
      "Epoch: 61 Loss: 0.14, Loss_test: 0.23\n",
      "Epoch: 62 Loss: 0.11, Loss_test: 0.23\n",
      "Epoch: 63 Loss: 0.20, Loss_test: 0.23\n",
      "Epoch: 64 Loss: 0.17, Loss_test: 0.23\n",
      "Epoch: 65 Loss: 0.17, Loss_test: 0.23\n",
      "Epoch: 66 Loss: 0.20, Loss_test: 0.23\n",
      "Epoch: 67 Loss: 0.19, Loss_test: 0.23\n",
      "Epoch: 68 Loss: 0.08, Loss_test: 0.22\n",
      "Epoch: 69 Loss: 0.18, Loss_test: 0.22\n",
      "=> result saved!\n",
      "Epoch: 70 Loss: 0.13, Loss_test: 0.22\n",
      "Epoch: 71 Loss: 0.13, Loss_test: 0.21\n",
      "Epoch: 72 Loss: 0.09, Loss_test: 0.21\n",
      "Epoch: 73 Loss: 0.16, Loss_test: 0.21\n",
      "Epoch: 74 Loss: 0.21, Loss_test: 0.20\n",
      "Epoch: 75 Loss: 0.10, Loss_test: 0.20\n",
      "Epoch: 76 Loss: 0.22, Loss_test: 0.20\n",
      "Epoch: 77 Loss: 0.10, Loss_test: 0.20\n",
      "Epoch: 78 Loss: 0.16, Loss_test: 0.20\n",
      "Epoch: 79 Loss: 0.27, Loss_test: 0.20\n",
      "=> result saved!\n",
      "Epoch: 80 Loss: 0.08, Loss_test: 0.19\n",
      "Epoch: 81 Loss: 0.11, Loss_test: 0.20\n",
      "Epoch: 82 Loss: 0.14, Loss_test: 0.20\n",
      "Epoch: 83 Loss: 0.09, Loss_test: 0.19\n",
      "Epoch: 84 Loss: 0.08, Loss_test: 0.19\n",
      "Epoch: 85 Loss: 0.14, Loss_test: 0.19\n",
      "Epoch: 86 Loss: 0.19, Loss_test: 0.19\n",
      "Epoch: 87 Loss: 0.16, Loss_test: 0.18\n",
      "Epoch: 88 Loss: 0.21, Loss_test: 0.18\n",
      "Epoch: 89 Loss: 0.17, Loss_test: 0.18\n",
      "=> result saved!\n",
      "Epoch: 90 Loss: 0.09, Loss_test: 0.18\n",
      "Epoch: 91 Loss: 0.10, Loss_test: 0.17\n",
      "Epoch: 92 Loss: 0.13, Loss_test: 0.17\n",
      "Epoch: 93 Loss: 0.20, Loss_test: 0.17\n",
      "Epoch: 94 Loss: 0.16, Loss_test: 0.17\n",
      "Epoch: 95 Loss: 0.10, Loss_test: 0.17\n",
      "Epoch: 96 Loss: 0.13, Loss_test: 0.16\n",
      "Epoch: 97 Loss: 0.09, Loss_test: 0.16\n",
      "Epoch: 98 Loss: 0.06, Loss_test: 0.16\n",
      "Epoch: 99 Loss: 0.10, Loss_test: 0.15\n",
      "=> result saved!\n",
      "Epoch: 100 Loss: 0.06, Loss_test: 0.16, recall@25: 0.45\n",
      "Best_epoch=100, Best_loss=0.06, Recall@25=0.45\n",
      "CPU times: user 8min 36s, sys: 1min 19s, total: 9min 55s\n",
      "Wall time: 2min 43s\n"
     ]
    }
   ],
   "source": [
    "%%time\n",
    "import keras\n",
    "\n",
    "# Inspired on https://'pastebin.com/TaGFdcBA\n",
    "# TODO: https://stackoverflow.com/questions/49941903/keras-compute-cosine-distance-between-two-flattened-outputs\n",
    "keras.backend.clear_session()\n",
    "\n",
    "# Clear GPU memory\n",
    "# from numba import cuda\n",
    "# cuda.select_device(0)\n",
    "# cuda.close()\n",
    "\n",
    "# Embeddings\n",
    "desc_embedding_layer = embedding_layer(embeddings=baseline.embedding_matrix, \n",
    "                              num_words=len(baseline.embedding_matrix), \n",
    "                              embedding_dim=EMBEDDING_DIM, \n",
    "                              max_sequence_length=MAX_SEQUENCE_LENGTH_D, \n",
    "                              trainable=False)\n",
    "title_embedding_layer = embedding_layer(embeddings=baseline.embedding_matrix, \n",
    "                              num_words=len(baseline.embedding_matrix), \n",
    "                              embedding_dim=EMBEDDING_DIM, \n",
    "                              max_sequence_length=MAX_SEQUENCE_LENGTH_T, \n",
    "                              trainable=False)\n",
    "\n",
    "# Feature models\n",
    "'''\n",
    "    cnn_model\n",
    "    lstm_model\n",
    "    mlp_model\n",
    "'''\n",
    "desc_feature_model = cnn_model(desc_embedding_layer, MAX_SEQUENCE_LENGTH_D)\n",
    "title_feature_model = lstm_model(title_embedding_layer, MAX_SEQUENCE_LENGTH_T)\n",
    "categorical_feature_model = mlp_model(number_of_columns_info)\n",
    "\n",
    "# Similarity model\n",
    "encoded_anchor = siamese_model(title_feature_model, desc_feature_model, categorical_feature_model, \n",
    "                                     number_of_columns_info, MAX_SEQUENCE_LENGTH_T, MAX_SEQUENCE_LENGTH_D, 'in')\n",
    "\n",
    "similarity_model = max_margin_objective(encoded_anchor, decay_lr=1)\n",
    "\n",
    "# cnn_feature_model.summary()\n",
    "# lstm_feature_model.summary()\n",
    "similarity_model.summary()\n",
    "\n",
    "'''\n",
    "    Experiment\n",
    "'''\n",
    "result = { 'train' : [], 'test' : [] }\n",
    "print(\"Total of \", limit_train)\n",
    "for epoch in range(limit_train):\n",
    "    batch_triplet_train, \\\n",
    "        train_input_sample, train_sim = batch_iterator(baseline, retrieval, encoded_anchor, baseline.train_data, \n",
    "                                                       baseline.dup_sets_train, bug_train_ids, \n",
    "                                                           batch_size, 1, issues_by_buckets, TRIPLET_HARD=False)\n",
    "    train_batch = [train_input_sample['title'], train_input_sample['description'], train_input_sample['info'], train_sim]\n",
    "    \n",
    "    h = similarity_model.train_on_batch(x=train_batch, y=train_sim)\n",
    "    h_validation = similarity_model.test_on_batch(x=validation_sample, y=valid_sim)\n",
    "    \n",
    "     # save results\n",
    "    result['train'].append(h)\n",
    "    result['test'].append(h_validation)\n",
    "    \n",
    "    if( (epoch+1) % 10 == 0 or (epoch+1 == limit_train) ):\n",
    "        save_loss(result)\n",
    "    \n",
    "    if (epoch+1 == limit_train): #(epoch > 1 and epoch % 10 == 0) or (epoch+1 == epochs):\n",
    "        recall, exported_rank, debug = experiment.evaluate_validation_test(retrieval, verbose, encoded_anchor, issues_by_buckets, bug_train_ids)\n",
    "        print(\"Epoch: {} Loss: {:.2f}, Loss_test: {:.2f}, recall@25: {:.2f}\".format(epoch+1, h, h_validation, recall))\n",
    "    else:\n",
    "        print(\"Epoch: {} Loss: {:.2f}, Loss_test: {:.2f}\".format(epoch+1, h, h_validation))\n",
    "    loss = h\n",
    "    \n",
    "    if loss < best_loss:\n",
    "        best_loss = loss\n",
    "        best_epoch = epoch+1\n",
    "\n",
    "#experiment.save_model(similarity_model, SAVE_PATH.replace('@number_of_epochs@', str(epochs)))\n",
    "#experiment.save_model(encoded_anchor, SAVE_PATH_FEATURE.replace('@number_of_epochs@', str(epochs)), verbose=1)\n",
    "print('Best_epoch={}, Best_loss={:.2f}, Recall@25={:.2f}'.format(best_epoch, best_loss, recall))"
   ]
  },
  {
   "cell_type": "code",
   "execution_count": 41,
   "metadata": {},
   "outputs": [
    {
     "data": {
      "text/plain": [
       "'data/processed/eclipse/bert/exported_rank_baseline_100.txt'"
      ]
     },
     "execution_count": 41,
     "metadata": {},
     "output_type": "execute_result"
    }
   ],
   "source": [
    "EXPORT_RANK_PATH = os.path.join(DIR, 'exported_rank_{}.txt'.format(METHOD))\n",
    "EXPORT_RANK_PATH"
   ]
  },
  {
   "cell_type": "code",
   "execution_count": 42,
   "metadata": {},
   "outputs": [],
   "source": [
    "with open(EXPORT_RANK_PATH, 'w') as file_out:\n",
    "    for row in exported_rank:\n",
    "        file_out.write(row + \"\\n\")"
   ]
  },
  {
   "cell_type": "code",
   "execution_count": 43,
   "metadata": {},
   "outputs": [
    {
     "name": "stdout",
     "output_type": "stream",
     "text": [
      "Saved model 'modelos/model_bert_preprocessing_baseline_100_feature_100epochs_64batch(eclipse).h5' to disk\n"
     ]
    }
   ],
   "source": [
    "experiment.save_model(similarity_model, SAVE_PATH.replace('@number_of_epochs@', str(limit_train)))\n",
    "experiment.save_model(encoded_anchor, SAVE_PATH_FEATURE.replace('@number_of_epochs@', str(limit_train)), verbose=1)"
   ]
  },
  {
   "cell_type": "code",
   "execution_count": 44,
   "metadata": {},
   "outputs": [
    {
     "data": {
      "text/plain": [
       "(100, 100)"
      ]
     },
     "execution_count": 44,
     "metadata": {},
     "output_type": "execute_result"
    }
   ],
   "source": [
    "len(result['train']), len(result['test'])"
   ]
  },
  {
   "cell_type": "code",
   "execution_count": 45,
   "metadata": {},
   "outputs": [
    {
     "name": "stdout",
     "output_type": "stream",
     "text": [
      "__________________________________________________________________________________________________\n",
      "Layer (type)                    Output Shape         Param #     Connected to                     \n",
      "==================================================================================================\n",
      "info_in (InputLayer)            (None, 1682)         0                                            \n",
      "__________________________________________________________________________________________________\n",
      "title_in (InputLayer)           (None, 20)           0                                            \n",
      "__________________________________________________________________________________________________\n",
      "desc_in (InputLayer)            (None, 20)           0                                            \n",
      "__________________________________________________________________________________________________\n",
      "FeatureMlpGenerationModel (Mode (None, 300)          504900      info_in[0][0]                    \n",
      "__________________________________________________________________________________________________\n",
      "FeatureLstmGenerationModel (Mod (None, 300)          581804100   title_in[0][0]                   \n",
      "__________________________________________________________________________________________________\n",
      "FeatureCNNGenerationModel (Mode (None, 300)          581850792   desc_in[0][0]                    \n",
      "__________________________________________________________________________________________________\n",
      "input_label (InputLayer)        (None, 1)            0                                            \n",
      "__________________________________________________________________________________________________\n",
      "merge_features_in (Concatenate) (None, 900)          0           FeatureMlpGenerationModel[1][0]  \n",
      "                                                                 FeatureLstmGenerationModel[1][0] \n",
      "                                                                 FeatureCNNGenerationModel[1][0]  \n",
      "__________________________________________________________________________________________________\n",
      "concatenate_3 (Concatenate)     (None, 901)          0           input_label[0][0]                \n",
      "                                                                 merge_features_in[0][0]          \n",
      "==================================================================================================\n",
      "Total params: 1,164,159,792\n",
      "Trainable params: 958,392\n",
      "Non-trainable params: 1,163,201,400\n",
      "__________________________________________________________________________________________________\n"
     ]
    }
   ],
   "source": [
    "model = similarity_model.get_layer('concatenate_3')\n",
    "output = model.output\n",
    "inputs = similarity_model.inputs\n",
    "model = Model(inputs = inputs, outputs = output, name = 'Similarity_Model')\n",
    "\n",
    "# setup the optimization process \n",
    "model.compile(optimizer='adam', loss=triplet_loss_adapted_from_tf)\n",
    "model.summary()"
   ]
  },
  {
   "cell_type": "code",
   "execution_count": 46,
   "metadata": {},
   "outputs": [],
   "source": [
    "# Domain to use\n",
    "METHOD = 'baseline_{}'.format(epochs)\n",
    "SAVE_PATH = '{}_preprocessing_{}_feature@number_of_epochs@epochs_64batch({})'.format(PREPROCESSING, METHOD, DOMAIN)\n",
    "SAVE_PATH_FEATURE = '{}_preprocessing_{}_feature_@number_of_epochs@epochs_64batch({})'.format(PREPROCESSING, METHOD, DOMAIN)"
   ]
  },
  {
   "cell_type": "code",
   "execution_count": 47,
   "metadata": {
    "scrolled": true
   },
   "outputs": [
    {
     "name": "stdout",
     "output_type": "stream",
     "text": [
      "Epoch: 101 Loss: 0.10, Loss_test: 0.15\n",
      "Epoch: 102 Loss: 0.14, Loss_test: 0.15\n",
      "Epoch: 103 Loss: 0.11, Loss_test: 0.16\n",
      "Epoch: 104 Loss: 0.09, Loss_test: 0.16\n",
      "Epoch: 105 Loss: 0.13, Loss_test: 0.16\n",
      "Epoch: 106 Loss: 0.08, Loss_test: 0.16\n",
      "Epoch: 107 Loss: 0.11, Loss_test: 0.16\n",
      "Epoch: 108 Loss: 0.17, Loss_test: 0.16\n",
      "Epoch: 109 Loss: 0.18, Loss_test: 0.16\n",
      "=> result saved!\n",
      "Epoch: 110 Loss: 0.09, Loss_test: 0.16\n",
      "Epoch: 111 Loss: 0.11, Loss_test: 0.16\n",
      "Epoch: 112 Loss: 0.12, Loss_test: 0.16\n",
      "Epoch: 113 Loss: 0.13, Loss_test: 0.16\n",
      "Epoch: 114 Loss: 0.13, Loss_test: 0.16\n",
      "Epoch: 115 Loss: 0.07, Loss_test: 0.16\n",
      "Epoch: 116 Loss: 0.10, Loss_test: 0.16\n",
      "Epoch: 117 Loss: 0.09, Loss_test: 0.16\n",
      "Epoch: 118 Loss: 0.11, Loss_test: 0.16\n",
      "Epoch: 119 Loss: 0.10, Loss_test: 0.16\n",
      "=> result saved!\n",
      "Epoch: 120 Loss: 0.13, Loss_test: 0.16\n",
      "Epoch: 121 Loss: 0.09, Loss_test: 0.16\n",
      "Epoch: 122 Loss: 0.14, Loss_test: 0.15\n",
      "Epoch: 123 Loss: 0.11, Loss_test: 0.15\n",
      "Epoch: 124 Loss: 0.11, Loss_test: 0.15\n",
      "Epoch: 125 Loss: 0.13, Loss_test: 0.15\n",
      "Epoch: 126 Loss: 0.20, Loss_test: 0.15\n",
      "Epoch: 127 Loss: 0.13, Loss_test: 0.15\n",
      "Epoch: 128 Loss: 0.16, Loss_test: 0.15\n",
      "Epoch: 129 Loss: 0.15, Loss_test: 0.15\n",
      "=> result saved!\n",
      "Epoch: 130 Loss: 0.11, Loss_test: 0.15\n",
      "Epoch: 131 Loss: 0.09, Loss_test: 0.15\n",
      "Epoch: 132 Loss: 0.09, Loss_test: 0.15\n",
      "Epoch: 133 Loss: 0.12, Loss_test: 0.15\n",
      "Epoch: 134 Loss: 0.10, Loss_test: 0.14\n",
      "Epoch: 135 Loss: 0.10, Loss_test: 0.14\n",
      "Epoch: 136 Loss: 0.10, Loss_test: 0.14\n",
      "Epoch: 137 Loss: 0.13, Loss_test: 0.14\n",
      "Epoch: 138 Loss: 0.11, Loss_test: 0.14\n",
      "Epoch: 139 Loss: 0.08, Loss_test: 0.13\n",
      "=> result saved!\n",
      "Epoch: 140 Loss: 0.11, Loss_test: 0.14\n",
      "Epoch: 141 Loss: 0.09, Loss_test: 0.13\n",
      "Epoch: 142 Loss: 0.09, Loss_test: 0.14\n",
      "Epoch: 143 Loss: 0.15, Loss_test: 0.13\n",
      "Epoch: 144 Loss: 0.11, Loss_test: 0.13\n",
      "Epoch: 145 Loss: 0.07, Loss_test: 0.13\n",
      "Epoch: 146 Loss: 0.10, Loss_test: 0.14\n",
      "Epoch: 147 Loss: 0.11, Loss_test: 0.13\n",
      "Epoch: 148 Loss: 0.10, Loss_test: 0.13\n",
      "Epoch: 149 Loss: 0.06, Loss_test: 0.13\n",
      "=> result saved!\n",
      "Epoch: 150 Loss: 0.08, Loss_test: 0.13\n",
      "Epoch: 151 Loss: 0.10, Loss_test: 0.12\n",
      "Epoch: 152 Loss: 0.09, Loss_test: 0.12\n",
      "Epoch: 153 Loss: 0.09, Loss_test: 0.12\n",
      "Epoch: 154 Loss: 0.09, Loss_test: 0.12\n",
      "Epoch: 155 Loss: 0.09, Loss_test: 0.12\n",
      "Epoch: 156 Loss: 0.08, Loss_test: 0.12\n",
      "Epoch: 157 Loss: 0.07, Loss_test: 0.12\n",
      "Epoch: 158 Loss: 0.12, Loss_test: 0.12\n",
      "Epoch: 159 Loss: 0.10, Loss_test: 0.12\n",
      "=> result saved!\n",
      "Epoch: 160 Loss: 0.08, Loss_test: 0.13\n",
      "Epoch: 161 Loss: 0.13, Loss_test: 0.13\n",
      "Epoch: 162 Loss: 0.10, Loss_test: 0.13\n",
      "Epoch: 163 Loss: 0.08, Loss_test: 0.13\n",
      "Epoch: 164 Loss: 0.12, Loss_test: 0.13\n",
      "Epoch: 165 Loss: 0.06, Loss_test: 0.13\n",
      "Epoch: 166 Loss: 0.10, Loss_test: 0.13\n",
      "Epoch: 167 Loss: 0.09, Loss_test: 0.13\n",
      "Epoch: 168 Loss: 0.05, Loss_test: 0.13\n",
      "Epoch: 169 Loss: 0.08, Loss_test: 0.13\n",
      "=> result saved!\n",
      "Epoch: 170 Loss: 0.12, Loss_test: 0.13\n",
      "Epoch: 171 Loss: 0.07, Loss_test: 0.13\n",
      "Epoch: 172 Loss: 0.07, Loss_test: 0.12\n",
      "Epoch: 173 Loss: 0.08, Loss_test: 0.12\n",
      "Epoch: 174 Loss: 0.10, Loss_test: 0.12\n",
      "Epoch: 175 Loss: 0.06, Loss_test: 0.12\n",
      "Epoch: 176 Loss: 0.07, Loss_test: 0.12\n",
      "Epoch: 177 Loss: 0.06, Loss_test: 0.12\n",
      "Epoch: 178 Loss: 0.08, Loss_test: 0.12\n",
      "Epoch: 179 Loss: 0.14, Loss_test: 0.11\n",
      "=> result saved!\n",
      "Epoch: 180 Loss: 0.06, Loss_test: 0.11\n",
      "Epoch: 181 Loss: 0.07, Loss_test: 0.10\n",
      "Epoch: 182 Loss: 0.06, Loss_test: 0.11\n",
      "Epoch: 183 Loss: 0.07, Loss_test: 0.11\n",
      "Epoch: 184 Loss: 0.06, Loss_test: 0.11\n",
      "Epoch: 185 Loss: 0.12, Loss_test: 0.10\n",
      "Epoch: 186 Loss: 0.07, Loss_test: 0.10\n",
      "Epoch: 187 Loss: 0.09, Loss_test: 0.11\n",
      "Epoch: 188 Loss: 0.05, Loss_test: 0.11\n",
      "Epoch: 189 Loss: 0.09, Loss_test: 0.11\n",
      "=> result saved!\n",
      "Epoch: 190 Loss: 0.04, Loss_test: 0.11\n",
      "Epoch: 191 Loss: 0.06, Loss_test: 0.11\n",
      "Epoch: 192 Loss: 0.11, Loss_test: 0.11\n",
      "Epoch: 193 Loss: 0.12, Loss_test: 0.10\n",
      "Epoch: 194 Loss: 0.08, Loss_test: 0.10\n",
      "Epoch: 195 Loss: 0.10, Loss_test: 0.10\n",
      "Epoch: 196 Loss: 0.05, Loss_test: 0.11\n",
      "Epoch: 197 Loss: 0.07, Loss_test: 0.11\n",
      "Epoch: 198 Loss: 0.06, Loss_test: 0.11\n",
      "Epoch: 199 Loss: 0.09, Loss_test: 0.11\n",
      "=> result saved!\n",
      "Epoch: 200 Loss: 0.07, Loss_test: 0.11\n",
      "Epoch: 201 Loss: 0.06, Loss_test: 0.10\n",
      "Epoch: 202 Loss: 0.12, Loss_test: 0.10\n",
      "Epoch: 203 Loss: 0.09, Loss_test: 0.11\n",
      "Epoch: 204 Loss: 0.08, Loss_test: 0.10\n",
      "Epoch: 205 Loss: 0.09, Loss_test: 0.10\n",
      "Epoch: 206 Loss: 0.03, Loss_test: 0.10\n",
      "Epoch: 207 Loss: 0.04, Loss_test: 0.10\n",
      "Epoch: 208 Loss: 0.12, Loss_test: 0.11\n",
      "Epoch: 209 Loss: 0.06, Loss_test: 0.11\n",
      "=> result saved!\n",
      "Epoch: 210 Loss: 0.06, Loss_test: 0.10\n",
      "Epoch: 211 Loss: 0.09, Loss_test: 0.10\n",
      "Epoch: 212 Loss: 0.07, Loss_test: 0.11\n",
      "Epoch: 213 Loss: 0.05, Loss_test: 0.10\n",
      "Epoch: 214 Loss: 0.10, Loss_test: 0.11\n",
      "Epoch: 215 Loss: 0.08, Loss_test: 0.10\n",
      "Epoch: 216 Loss: 0.10, Loss_test: 0.10\n",
      "Epoch: 217 Loss: 0.07, Loss_test: 0.10\n",
      "Epoch: 218 Loss: 0.04, Loss_test: 0.10\n",
      "Epoch: 219 Loss: 0.05, Loss_test: 0.10\n",
      "=> result saved!\n",
      "Epoch: 220 Loss: 0.05, Loss_test: 0.10\n",
      "Epoch: 221 Loss: 0.08, Loss_test: 0.10\n",
      "Epoch: 222 Loss: 0.06, Loss_test: 0.10\n",
      "Epoch: 223 Loss: 0.07, Loss_test: 0.10\n",
      "Epoch: 224 Loss: 0.07, Loss_test: 0.10\n",
      "Epoch: 225 Loss: 0.09, Loss_test: 0.09\n",
      "Epoch: 226 Loss: 0.03, Loss_test: 0.09\n",
      "Epoch: 227 Loss: 0.09, Loss_test: 0.09\n",
      "Epoch: 228 Loss: 0.07, Loss_test: 0.09\n",
      "Epoch: 229 Loss: 0.05, Loss_test: 0.10\n",
      "=> result saved!\n",
      "Epoch: 230 Loss: 0.06, Loss_test: 0.10\n",
      "Epoch: 231 Loss: 0.10, Loss_test: 0.09\n",
      "Epoch: 232 Loss: 0.08, Loss_test: 0.10\n",
      "Epoch: 233 Loss: 0.05, Loss_test: 0.10\n",
      "Epoch: 234 Loss: 0.06, Loss_test: 0.10\n",
      "Epoch: 235 Loss: 0.04, Loss_test: 0.10\n",
      "Epoch: 236 Loss: 0.07, Loss_test: 0.10\n",
      "Epoch: 237 Loss: 0.08, Loss_test: 0.09\n",
      "Epoch: 238 Loss: 0.04, Loss_test: 0.10\n",
      "Epoch: 239 Loss: 0.08, Loss_test: 0.10\n",
      "=> result saved!\n",
      "Epoch: 240 Loss: 0.10, Loss_test: 0.10\n",
      "Epoch: 241 Loss: 0.11, Loss_test: 0.10\n",
      "Epoch: 242 Loss: 0.08, Loss_test: 0.10\n",
      "Epoch: 243 Loss: 0.07, Loss_test: 0.10\n",
      "Epoch: 244 Loss: 0.05, Loss_test: 0.10\n",
      "Epoch: 245 Loss: 0.06, Loss_test: 0.09\n",
      "Epoch: 246 Loss: 0.09, Loss_test: 0.09\n",
      "Epoch: 247 Loss: 0.05, Loss_test: 0.09\n",
      "Epoch: 248 Loss: 0.06, Loss_test: 0.09\n",
      "Epoch: 249 Loss: 0.08, Loss_test: 0.09\n",
      "=> result saved!\n",
      "Epoch: 250 Loss: 0.06, Loss_test: 0.09\n",
      "Epoch: 251 Loss: 0.05, Loss_test: 0.09\n",
      "Epoch: 252 Loss: 0.05, Loss_test: 0.09\n",
      "Epoch: 253 Loss: 0.04, Loss_test: 0.09\n",
      "Epoch: 254 Loss: 0.07, Loss_test: 0.09\n",
      "Epoch: 255 Loss: 0.04, Loss_test: 0.08\n",
      "Epoch: 256 Loss: 0.11, Loss_test: 0.09\n",
      "Epoch: 257 Loss: 0.06, Loss_test: 0.09\n",
      "Epoch: 258 Loss: 0.04, Loss_test: 0.09\n",
      "Epoch: 259 Loss: 0.06, Loss_test: 0.09\n",
      "=> result saved!\n",
      "Epoch: 260 Loss: 0.06, Loss_test: 0.09\n",
      "Epoch: 261 Loss: 0.06, Loss_test: 0.09\n",
      "Epoch: 262 Loss: 0.05, Loss_test: 0.09\n",
      "Epoch: 263 Loss: 0.04, Loss_test: 0.09\n",
      "Epoch: 264 Loss: 0.08, Loss_test: 0.09\n",
      "Epoch: 265 Loss: 0.03, Loss_test: 0.09\n",
      "Epoch: 266 Loss: 0.07, Loss_test: 0.09\n",
      "Epoch: 267 Loss: 0.03, Loss_test: 0.09\n",
      "Epoch: 268 Loss: 0.07, Loss_test: 0.09\n",
      "Epoch: 269 Loss: 0.06, Loss_test: 0.09\n",
      "=> result saved!\n",
      "Epoch: 270 Loss: 0.07, Loss_test: 0.09\n",
      "Epoch: 271 Loss: 0.06, Loss_test: 0.09\n",
      "Epoch: 272 Loss: 0.07, Loss_test: 0.09\n",
      "Epoch: 273 Loss: 0.10, Loss_test: 0.09\n",
      "Epoch: 274 Loss: 0.05, Loss_test: 0.08\n",
      "Epoch: 275 Loss: 0.07, Loss_test: 0.08\n",
      "Epoch: 276 Loss: 0.04, Loss_test: 0.08\n",
      "Epoch: 277 Loss: 0.05, Loss_test: 0.09\n",
      "Epoch: 278 Loss: 0.06, Loss_test: 0.09\n",
      "Epoch: 279 Loss: 0.07, Loss_test: 0.09\n",
      "=> result saved!\n",
      "Epoch: 280 Loss: 0.08, Loss_test: 0.08\n",
      "Epoch: 281 Loss: 0.04, Loss_test: 0.08\n",
      "Epoch: 282 Loss: 0.09, Loss_test: 0.09\n",
      "Epoch: 283 Loss: 0.04, Loss_test: 0.09\n",
      "Epoch: 284 Loss: 0.08, Loss_test: 0.09\n",
      "Epoch: 285 Loss: 0.06, Loss_test: 0.09\n",
      "Epoch: 286 Loss: 0.03, Loss_test: 0.08\n",
      "Epoch: 287 Loss: 0.06, Loss_test: 0.08\n",
      "Epoch: 288 Loss: 0.03, Loss_test: 0.08\n",
      "Epoch: 289 Loss: 0.05, Loss_test: 0.08\n",
      "=> result saved!\n",
      "Epoch: 290 Loss: 0.05, Loss_test: 0.08\n",
      "Epoch: 291 Loss: 0.06, Loss_test: 0.08\n",
      "Epoch: 292 Loss: 0.08, Loss_test: 0.08\n",
      "Epoch: 293 Loss: 0.08, Loss_test: 0.08\n",
      "Epoch: 294 Loss: 0.04, Loss_test: 0.08\n",
      "Epoch: 295 Loss: 0.07, Loss_test: 0.09\n",
      "Epoch: 296 Loss: 0.08, Loss_test: 0.08\n",
      "Epoch: 297 Loss: 0.05, Loss_test: 0.08\n",
      "Epoch: 298 Loss: 0.08, Loss_test: 0.08\n",
      "Epoch: 299 Loss: 0.06, Loss_test: 0.08\n",
      "=> result saved!\n",
      "Epoch: 300 Loss: 0.05, Loss_test: 0.08\n",
      "Epoch: 301 Loss: 0.12, Loss_test: 0.08\n",
      "Epoch: 302 Loss: 0.05, Loss_test: 0.08\n"
     ]
    },
    {
     "name": "stdout",
     "output_type": "stream",
     "text": [
      "Epoch: 303 Loss: 0.07, Loss_test: 0.08\n",
      "Epoch: 304 Loss: 0.03, Loss_test: 0.08\n",
      "Epoch: 305 Loss: 0.07, Loss_test: 0.08\n",
      "Epoch: 306 Loss: 0.08, Loss_test: 0.08\n",
      "Epoch: 307 Loss: 0.07, Loss_test: 0.08\n",
      "Epoch: 308 Loss: 0.04, Loss_test: 0.08\n",
      "Epoch: 309 Loss: 0.03, Loss_test: 0.08\n",
      "=> result saved!\n",
      "Epoch: 310 Loss: 0.04, Loss_test: 0.08\n",
      "Epoch: 311 Loss: 0.04, Loss_test: 0.08\n",
      "Epoch: 312 Loss: 0.06, Loss_test: 0.08\n",
      "Epoch: 313 Loss: 0.05, Loss_test: 0.08\n",
      "Epoch: 314 Loss: 0.06, Loss_test: 0.08\n",
      "Epoch: 315 Loss: 0.04, Loss_test: 0.08\n",
      "Epoch: 316 Loss: 0.05, Loss_test: 0.08\n",
      "Epoch: 317 Loss: 0.04, Loss_test: 0.08\n",
      "Epoch: 318 Loss: 0.05, Loss_test: 0.08\n",
      "Epoch: 319 Loss: 0.06, Loss_test: 0.08\n",
      "=> result saved!\n",
      "Epoch: 320 Loss: 0.04, Loss_test: 0.08\n",
      "Epoch: 321 Loss: 0.06, Loss_test: 0.07\n",
      "Epoch: 322 Loss: 0.06, Loss_test: 0.07\n",
      "Epoch: 323 Loss: 0.05, Loss_test: 0.07\n",
      "Epoch: 324 Loss: 0.03, Loss_test: 0.08\n",
      "Epoch: 325 Loss: 0.04, Loss_test: 0.08\n",
      "Epoch: 326 Loss: 0.03, Loss_test: 0.08\n",
      "Epoch: 327 Loss: 0.04, Loss_test: 0.07\n",
      "Epoch: 328 Loss: 0.04, Loss_test: 0.07\n",
      "Epoch: 329 Loss: 0.04, Loss_test: 0.07\n",
      "=> result saved!\n",
      "Epoch: 330 Loss: 0.07, Loss_test: 0.07\n",
      "Epoch: 331 Loss: 0.07, Loss_test: 0.07\n",
      "Epoch: 332 Loss: 0.08, Loss_test: 0.07\n",
      "Epoch: 333 Loss: 0.04, Loss_test: 0.07\n",
      "Epoch: 334 Loss: 0.08, Loss_test: 0.07\n",
      "Epoch: 335 Loss: 0.06, Loss_test: 0.07\n",
      "Epoch: 336 Loss: 0.05, Loss_test: 0.07\n",
      "Epoch: 337 Loss: 0.05, Loss_test: 0.07\n",
      "Epoch: 338 Loss: 0.04, Loss_test: 0.07\n",
      "Epoch: 339 Loss: 0.06, Loss_test: 0.07\n",
      "=> result saved!\n",
      "Epoch: 340 Loss: 0.06, Loss_test: 0.07\n",
      "Epoch: 341 Loss: 0.04, Loss_test: 0.07\n",
      "Epoch: 342 Loss: 0.04, Loss_test: 0.07\n",
      "Epoch: 343 Loss: 0.06, Loss_test: 0.07\n",
      "Epoch: 344 Loss: 0.05, Loss_test: 0.07\n",
      "Epoch: 345 Loss: 0.06, Loss_test: 0.07\n",
      "Epoch: 346 Loss: 0.08, Loss_test: 0.07\n",
      "Epoch: 347 Loss: 0.06, Loss_test: 0.07\n",
      "Epoch: 348 Loss: 0.04, Loss_test: 0.07\n",
      "Epoch: 349 Loss: 0.06, Loss_test: 0.07\n",
      "=> result saved!\n",
      "Epoch: 350 Loss: 0.03, Loss_test: 0.07\n",
      "Epoch: 351 Loss: 0.07, Loss_test: 0.07\n",
      "Epoch: 352 Loss: 0.06, Loss_test: 0.07\n",
      "Epoch: 353 Loss: 0.04, Loss_test: 0.07\n",
      "Epoch: 354 Loss: 0.06, Loss_test: 0.07\n",
      "Epoch: 355 Loss: 0.06, Loss_test: 0.08\n",
      "Epoch: 356 Loss: 0.09, Loss_test: 0.08\n",
      "Epoch: 357 Loss: 0.03, Loss_test: 0.08\n",
      "Epoch: 358 Loss: 0.05, Loss_test: 0.08\n",
      "Epoch: 359 Loss: 0.07, Loss_test: 0.08\n",
      "=> result saved!\n",
      "Epoch: 360 Loss: 0.04, Loss_test: 0.08\n",
      "Epoch: 361 Loss: 0.05, Loss_test: 0.07\n",
      "Epoch: 362 Loss: 0.08, Loss_test: 0.07\n",
      "Epoch: 363 Loss: 0.05, Loss_test: 0.07\n",
      "Epoch: 364 Loss: 0.03, Loss_test: 0.07\n",
      "Epoch: 365 Loss: 0.07, Loss_test: 0.07\n",
      "Epoch: 366 Loss: 0.03, Loss_test: 0.07\n",
      "Epoch: 367 Loss: 0.04, Loss_test: 0.07\n",
      "Epoch: 368 Loss: 0.07, Loss_test: 0.07\n",
      "Epoch: 369 Loss: 0.05, Loss_test: 0.07\n",
      "=> result saved!\n",
      "Epoch: 370 Loss: 0.03, Loss_test: 0.07\n",
      "Epoch: 371 Loss: 0.05, Loss_test: 0.07\n",
      "Epoch: 372 Loss: 0.03, Loss_test: 0.06\n",
      "Epoch: 373 Loss: 0.10, Loss_test: 0.07\n",
      "Epoch: 374 Loss: 0.05, Loss_test: 0.07\n",
      "Epoch: 375 Loss: 0.04, Loss_test: 0.07\n",
      "Epoch: 376 Loss: 0.07, Loss_test: 0.07\n",
      "Epoch: 377 Loss: 0.08, Loss_test: 0.07\n",
      "Epoch: 378 Loss: 0.05, Loss_test: 0.06\n",
      "Epoch: 379 Loss: 0.06, Loss_test: 0.07\n",
      "=> result saved!\n",
      "Epoch: 380 Loss: 0.05, Loss_test: 0.07\n",
      "Epoch: 381 Loss: 0.03, Loss_test: 0.07\n",
      "Epoch: 382 Loss: 0.04, Loss_test: 0.07\n",
      "Epoch: 383 Loss: 0.03, Loss_test: 0.07\n",
      "Epoch: 384 Loss: 0.04, Loss_test: 0.07\n",
      "Epoch: 385 Loss: 0.04, Loss_test: 0.07\n",
      "Epoch: 386 Loss: 0.03, Loss_test: 0.07\n",
      "Epoch: 387 Loss: 0.05, Loss_test: 0.07\n",
      "Epoch: 388 Loss: 0.06, Loss_test: 0.07\n",
      "Epoch: 389 Loss: 0.02, Loss_test: 0.06\n",
      "=> result saved!\n",
      "Epoch: 390 Loss: 0.05, Loss_test: 0.06\n",
      "Epoch: 391 Loss: 0.03, Loss_test: 0.06\n",
      "Epoch: 392 Loss: 0.03, Loss_test: 0.07\n",
      "Epoch: 393 Loss: 0.03, Loss_test: 0.07\n",
      "Epoch: 394 Loss: 0.02, Loss_test: 0.07\n",
      "Epoch: 395 Loss: 0.04, Loss_test: 0.07\n",
      "Epoch: 396 Loss: 0.03, Loss_test: 0.07\n",
      "Epoch: 397 Loss: 0.03, Loss_test: 0.07\n",
      "Epoch: 398 Loss: 0.05, Loss_test: 0.07\n",
      "Epoch: 399 Loss: 0.02, Loss_test: 0.07\n",
      "=> result saved!\n",
      "Epoch: 400 Loss: 0.06, Loss_test: 0.07\n",
      "Epoch: 401 Loss: 0.05, Loss_test: 0.07\n",
      "Epoch: 402 Loss: 0.06, Loss_test: 0.07\n",
      "Epoch: 403 Loss: 0.03, Loss_test: 0.07\n",
      "Epoch: 404 Loss: 0.03, Loss_test: 0.07\n",
      "Epoch: 405 Loss: 0.03, Loss_test: 0.07\n",
      "Epoch: 406 Loss: 0.05, Loss_test: 0.07\n",
      "Epoch: 407 Loss: 0.05, Loss_test: 0.07\n",
      "Epoch: 408 Loss: 0.07, Loss_test: 0.07\n",
      "Epoch: 409 Loss: 0.03, Loss_test: 0.07\n",
      "=> result saved!\n",
      "Epoch: 410 Loss: 0.04, Loss_test: 0.07\n",
      "Epoch: 411 Loss: 0.04, Loss_test: 0.07\n",
      "Epoch: 412 Loss: 0.04, Loss_test: 0.07\n",
      "Epoch: 413 Loss: 0.04, Loss_test: 0.07\n",
      "Epoch: 414 Loss: 0.05, Loss_test: 0.07\n",
      "Epoch: 415 Loss: 0.05, Loss_test: 0.07\n",
      "Epoch: 416 Loss: 0.04, Loss_test: 0.06\n",
      "Epoch: 417 Loss: 0.03, Loss_test: 0.06\n",
      "Epoch: 418 Loss: 0.05, Loss_test: 0.06\n",
      "Epoch: 419 Loss: 0.04, Loss_test: 0.07\n",
      "=> result saved!\n",
      "Epoch: 420 Loss: 0.04, Loss_test: 0.07\n",
      "Epoch: 421 Loss: 0.03, Loss_test: 0.06\n",
      "Epoch: 422 Loss: 0.03, Loss_test: 0.07\n",
      "Epoch: 423 Loss: 0.05, Loss_test: 0.06\n",
      "Epoch: 424 Loss: 0.06, Loss_test: 0.07\n",
      "Epoch: 425 Loss: 0.05, Loss_test: 0.06\n",
      "Epoch: 426 Loss: 0.05, Loss_test: 0.06\n",
      "Epoch: 427 Loss: 0.06, Loss_test: 0.06\n",
      "Epoch: 428 Loss: 0.04, Loss_test: 0.07\n",
      "Epoch: 429 Loss: 0.08, Loss_test: 0.07\n",
      "=> result saved!\n",
      "Epoch: 430 Loss: 0.05, Loss_test: 0.07\n",
      "Epoch: 431 Loss: 0.04, Loss_test: 0.07\n",
      "Epoch: 432 Loss: 0.03, Loss_test: 0.07\n",
      "Epoch: 433 Loss: 0.04, Loss_test: 0.07\n",
      "Epoch: 434 Loss: 0.03, Loss_test: 0.07\n",
      "Epoch: 435 Loss: 0.03, Loss_test: 0.07\n",
      "Epoch: 436 Loss: 0.03, Loss_test: 0.07\n",
      "Epoch: 437 Loss: 0.03, Loss_test: 0.06\n",
      "Epoch: 438 Loss: 0.04, Loss_test: 0.07\n",
      "Epoch: 439 Loss: 0.05, Loss_test: 0.07\n",
      "=> result saved!\n",
      "Epoch: 440 Loss: 0.04, Loss_test: 0.06\n",
      "Epoch: 441 Loss: 0.03, Loss_test: 0.07\n",
      "Epoch: 442 Loss: 0.05, Loss_test: 0.07\n",
      "Epoch: 443 Loss: 0.04, Loss_test: 0.06\n",
      "Epoch: 444 Loss: 0.03, Loss_test: 0.06\n",
      "Epoch: 445 Loss: 0.05, Loss_test: 0.06\n",
      "Epoch: 446 Loss: 0.04, Loss_test: 0.06\n",
      "Epoch: 447 Loss: 0.04, Loss_test: 0.06\n",
      "Epoch: 448 Loss: 0.05, Loss_test: 0.06\n",
      "Epoch: 449 Loss: 0.04, Loss_test: 0.06\n",
      "=> result saved!\n",
      "Epoch: 450 Loss: 0.04, Loss_test: 0.06\n",
      "Epoch: 451 Loss: 0.03, Loss_test: 0.06\n",
      "Epoch: 452 Loss: 0.03, Loss_test: 0.06\n",
      "Epoch: 453 Loss: 0.03, Loss_test: 0.06\n",
      "Epoch: 454 Loss: 0.04, Loss_test: 0.06\n",
      "Epoch: 455 Loss: 0.03, Loss_test: 0.06\n",
      "Epoch: 456 Loss: 0.05, Loss_test: 0.06\n",
      "Epoch: 457 Loss: 0.04, Loss_test: 0.06\n",
      "Epoch: 458 Loss: 0.04, Loss_test: 0.06\n",
      "Epoch: 459 Loss: 0.02, Loss_test: 0.06\n",
      "=> result saved!\n",
      "Epoch: 460 Loss: 0.03, Loss_test: 0.06\n",
      "Epoch: 461 Loss: 0.05, Loss_test: 0.06\n",
      "Epoch: 462 Loss: 0.04, Loss_test: 0.06\n",
      "Epoch: 463 Loss: 0.03, Loss_test: 0.06\n",
      "Epoch: 464 Loss: 0.02, Loss_test: 0.06\n",
      "Epoch: 465 Loss: 0.03, Loss_test: 0.06\n",
      "Epoch: 466 Loss: 0.05, Loss_test: 0.06\n",
      "Epoch: 467 Loss: 0.03, Loss_test: 0.06\n",
      "Epoch: 468 Loss: 0.02, Loss_test: 0.06\n",
      "Epoch: 469 Loss: 0.05, Loss_test: 0.06\n",
      "=> result saved!\n",
      "Epoch: 470 Loss: 0.05, Loss_test: 0.06\n",
      "Epoch: 471 Loss: 0.04, Loss_test: 0.06\n",
      "Epoch: 472 Loss: 0.04, Loss_test: 0.06\n",
      "Epoch: 473 Loss: 0.07, Loss_test: 0.06\n",
      "Epoch: 474 Loss: 0.02, Loss_test: 0.06\n",
      "Epoch: 475 Loss: 0.07, Loss_test: 0.06\n",
      "Epoch: 476 Loss: 0.03, Loss_test: 0.06\n",
      "Epoch: 477 Loss: 0.05, Loss_test: 0.06\n",
      "Epoch: 478 Loss: 0.04, Loss_test: 0.06\n",
      "Epoch: 479 Loss: 0.04, Loss_test: 0.06\n",
      "=> result saved!\n",
      "Epoch: 480 Loss: 0.05, Loss_test: 0.06\n",
      "Epoch: 481 Loss: 0.04, Loss_test: 0.06\n",
      "Epoch: 482 Loss: 0.02, Loss_test: 0.06\n",
      "Epoch: 483 Loss: 0.04, Loss_test: 0.06\n",
      "Epoch: 484 Loss: 0.05, Loss_test: 0.07\n",
      "Epoch: 485 Loss: 0.03, Loss_test: 0.06\n",
      "Epoch: 486 Loss: 0.04, Loss_test: 0.06\n",
      "Epoch: 487 Loss: 0.05, Loss_test: 0.06\n",
      "Epoch: 488 Loss: 0.03, Loss_test: 0.06\n",
      "Epoch: 489 Loss: 0.05, Loss_test: 0.06\n",
      "=> result saved!\n",
      "Epoch: 490 Loss: 0.03, Loss_test: 0.06\n",
      "Epoch: 491 Loss: 0.08, Loss_test: 0.06\n",
      "Epoch: 492 Loss: 0.03, Loss_test: 0.06\n",
      "Epoch: 493 Loss: 0.03, Loss_test: 0.06\n",
      "Epoch: 494 Loss: 0.04, Loss_test: 0.06\n",
      "Epoch: 495 Loss: 0.03, Loss_test: 0.06\n",
      "Epoch: 496 Loss: 0.04, Loss_test: 0.06\n",
      "Epoch: 497 Loss: 0.04, Loss_test: 0.06\n",
      "Epoch: 498 Loss: 0.06, Loss_test: 0.06\n",
      "Epoch: 499 Loss: 0.03, Loss_test: 0.06\n",
      "=> result saved!\n",
      "Epoch: 500 Loss: 0.03, Loss_test: 0.06\n",
      "Epoch: 501 Loss: 0.04, Loss_test: 0.06\n",
      "Epoch: 502 Loss: 0.06, Loss_test: 0.06\n",
      "Epoch: 503 Loss: 0.05, Loss_test: 0.06\n",
      "Epoch: 504 Loss: 0.03, Loss_test: 0.06\n"
     ]
    },
    {
     "name": "stdout",
     "output_type": "stream",
     "text": [
      "Epoch: 505 Loss: 0.04, Loss_test: 0.06\n",
      "Epoch: 506 Loss: 0.06, Loss_test: 0.06\n",
      "Epoch: 507 Loss: 0.08, Loss_test: 0.06\n",
      "Epoch: 508 Loss: 0.03, Loss_test: 0.06\n",
      "Epoch: 509 Loss: 0.06, Loss_test: 0.05\n",
      "=> result saved!\n",
      "Epoch: 510 Loss: 0.06, Loss_test: 0.06\n",
      "Epoch: 511 Loss: 0.03, Loss_test: 0.06\n",
      "Epoch: 512 Loss: 0.06, Loss_test: 0.06\n",
      "Epoch: 513 Loss: 0.04, Loss_test: 0.06\n",
      "Epoch: 514 Loss: 0.03, Loss_test: 0.06\n",
      "Epoch: 515 Loss: 0.04, Loss_test: 0.06\n",
      "Epoch: 516 Loss: 0.03, Loss_test: 0.06\n",
      "Epoch: 517 Loss: 0.04, Loss_test: 0.06\n",
      "Epoch: 518 Loss: 0.06, Loss_test: 0.06\n",
      "Epoch: 519 Loss: 0.03, Loss_test: 0.07\n",
      "=> result saved!\n",
      "Epoch: 520 Loss: 0.04, Loss_test: 0.06\n",
      "Epoch: 521 Loss: 0.02, Loss_test: 0.06\n",
      "Epoch: 522 Loss: 0.06, Loss_test: 0.06\n",
      "Epoch: 523 Loss: 0.05, Loss_test: 0.06\n",
      "Epoch: 524 Loss: 0.04, Loss_test: 0.06\n",
      "Epoch: 525 Loss: 0.05, Loss_test: 0.06\n",
      "Epoch: 526 Loss: 0.05, Loss_test: 0.06\n",
      "Epoch: 527 Loss: 0.07, Loss_test: 0.06\n",
      "Epoch: 528 Loss: 0.03, Loss_test: 0.07\n",
      "Epoch: 529 Loss: 0.03, Loss_test: 0.06\n",
      "=> result saved!\n",
      "Epoch: 530 Loss: 0.03, Loss_test: 0.06\n",
      "Epoch: 531 Loss: 0.02, Loss_test: 0.06\n",
      "Epoch: 532 Loss: 0.03, Loss_test: 0.06\n",
      "Epoch: 533 Loss: 0.04, Loss_test: 0.06\n",
      "Epoch: 534 Loss: 0.04, Loss_test: 0.06\n",
      "Epoch: 535 Loss: 0.04, Loss_test: 0.06\n",
      "Epoch: 536 Loss: 0.03, Loss_test: 0.06\n",
      "Epoch: 537 Loss: 0.03, Loss_test: 0.06\n",
      "Epoch: 538 Loss: 0.05, Loss_test: 0.06\n",
      "Epoch: 539 Loss: 0.07, Loss_test: 0.06\n",
      "=> result saved!\n",
      "Epoch: 540 Loss: 0.04, Loss_test: 0.06\n",
      "Epoch: 541 Loss: 0.04, Loss_test: 0.06\n",
      "Epoch: 542 Loss: 0.02, Loss_test: 0.06\n",
      "Epoch: 543 Loss: 0.02, Loss_test: 0.06\n",
      "Epoch: 544 Loss: 0.03, Loss_test: 0.06\n",
      "Epoch: 545 Loss: 0.02, Loss_test: 0.06\n",
      "Epoch: 546 Loss: 0.07, Loss_test: 0.06\n",
      "Epoch: 547 Loss: 0.04, Loss_test: 0.06\n",
      "Epoch: 548 Loss: 0.06, Loss_test: 0.06\n",
      "Epoch: 549 Loss: 0.06, Loss_test: 0.06\n",
      "=> result saved!\n",
      "Epoch: 550 Loss: 0.05, Loss_test: 0.06\n",
      "Epoch: 551 Loss: 0.04, Loss_test: 0.06\n",
      "Epoch: 552 Loss: 0.05, Loss_test: 0.06\n",
      "Epoch: 553 Loss: 0.05, Loss_test: 0.06\n",
      "Epoch: 554 Loss: 0.04, Loss_test: 0.06\n",
      "Epoch: 555 Loss: 0.03, Loss_test: 0.06\n",
      "Epoch: 556 Loss: 0.02, Loss_test: 0.06\n",
      "Epoch: 557 Loss: 0.02, Loss_test: 0.06\n",
      "Epoch: 558 Loss: 0.03, Loss_test: 0.06\n",
      "Epoch: 559 Loss: 0.03, Loss_test: 0.06\n",
      "=> result saved!\n",
      "Epoch: 560 Loss: 0.02, Loss_test: 0.06\n",
      "Epoch: 561 Loss: 0.04, Loss_test: 0.06\n",
      "Epoch: 562 Loss: 0.04, Loss_test: 0.05\n",
      "Epoch: 563 Loss: 0.07, Loss_test: 0.06\n",
      "Epoch: 564 Loss: 0.02, Loss_test: 0.05\n",
      "Epoch: 565 Loss: 0.04, Loss_test: 0.06\n",
      "Epoch: 566 Loss: 0.03, Loss_test: 0.06\n",
      "Epoch: 567 Loss: 0.02, Loss_test: 0.06\n",
      "Epoch: 568 Loss: 0.03, Loss_test: 0.06\n",
      "Epoch: 569 Loss: 0.04, Loss_test: 0.05\n",
      "=> result saved!\n",
      "Epoch: 570 Loss: 0.03, Loss_test: 0.06\n",
      "Epoch: 571 Loss: 0.03, Loss_test: 0.05\n",
      "Epoch: 572 Loss: 0.03, Loss_test: 0.06\n",
      "Epoch: 573 Loss: 0.02, Loss_test: 0.05\n",
      "Epoch: 574 Loss: 0.04, Loss_test: 0.06\n",
      "Epoch: 575 Loss: 0.03, Loss_test: 0.05\n",
      "Epoch: 576 Loss: 0.05, Loss_test: 0.05\n",
      "Epoch: 577 Loss: 0.04, Loss_test: 0.05\n",
      "Epoch: 578 Loss: 0.03, Loss_test: 0.05\n",
      "Epoch: 579 Loss: 0.03, Loss_test: 0.05\n",
      "=> result saved!\n",
      "Epoch: 580 Loss: 0.06, Loss_test: 0.06\n",
      "Epoch: 581 Loss: 0.04, Loss_test: 0.05\n",
      "Epoch: 582 Loss: 0.04, Loss_test: 0.05\n",
      "Epoch: 583 Loss: 0.05, Loss_test: 0.06\n",
      "Epoch: 584 Loss: 0.03, Loss_test: 0.06\n",
      "Epoch: 585 Loss: 0.03, Loss_test: 0.06\n",
      "Epoch: 586 Loss: 0.05, Loss_test: 0.06\n",
      "Epoch: 587 Loss: 0.03, Loss_test: 0.05\n",
      "Epoch: 588 Loss: 0.04, Loss_test: 0.05\n",
      "Epoch: 589 Loss: 0.04, Loss_test: 0.05\n",
      "=> result saved!\n",
      "Epoch: 590 Loss: 0.04, Loss_test: 0.05\n",
      "Epoch: 591 Loss: 0.04, Loss_test: 0.05\n",
      "Epoch: 592 Loss: 0.04, Loss_test: 0.06\n",
      "Epoch: 593 Loss: 0.05, Loss_test: 0.05\n",
      "Epoch: 594 Loss: 0.04, Loss_test: 0.05\n",
      "Epoch: 595 Loss: 0.04, Loss_test: 0.05\n",
      "Epoch: 596 Loss: 0.07, Loss_test: 0.05\n",
      "Epoch: 597 Loss: 0.03, Loss_test: 0.05\n",
      "Epoch: 598 Loss: 0.04, Loss_test: 0.05\n",
      "Epoch: 599 Loss: 0.06, Loss_test: 0.05\n",
      "=> result saved!\n",
      "Epoch: 600 Loss: 0.05, Loss_test: 0.05\n",
      "Epoch: 601 Loss: 0.04, Loss_test: 0.05\n",
      "Epoch: 602 Loss: 0.02, Loss_test: 0.05\n",
      "Epoch: 603 Loss: 0.04, Loss_test: 0.05\n",
      "Epoch: 604 Loss: 0.04, Loss_test: 0.05\n",
      "Epoch: 605 Loss: 0.03, Loss_test: 0.05\n",
      "Epoch: 606 Loss: 0.07, Loss_test: 0.05\n",
      "Epoch: 607 Loss: 0.03, Loss_test: 0.05\n",
      "Epoch: 608 Loss: 0.03, Loss_test: 0.05\n",
      "Epoch: 609 Loss: 0.02, Loss_test: 0.05\n",
      "=> result saved!\n",
      "Epoch: 610 Loss: 0.04, Loss_test: 0.05\n",
      "Epoch: 611 Loss: 0.03, Loss_test: 0.05\n",
      "Epoch: 612 Loss: 0.05, Loss_test: 0.05\n",
      "Epoch: 613 Loss: 0.04, Loss_test: 0.05\n",
      "Epoch: 614 Loss: 0.04, Loss_test: 0.06\n",
      "Epoch: 615 Loss: 0.03, Loss_test: 0.06\n",
      "Epoch: 616 Loss: 0.02, Loss_test: 0.05\n",
      "Epoch: 617 Loss: 0.04, Loss_test: 0.05\n",
      "Epoch: 618 Loss: 0.04, Loss_test: 0.05\n",
      "Epoch: 619 Loss: 0.05, Loss_test: 0.05\n",
      "=> result saved!\n",
      "Epoch: 620 Loss: 0.03, Loss_test: 0.05\n",
      "Epoch: 621 Loss: 0.05, Loss_test: 0.05\n",
      "Epoch: 622 Loss: 0.04, Loss_test: 0.04\n",
      "Epoch: 623 Loss: 0.04, Loss_test: 0.04\n",
      "Epoch: 624 Loss: 0.05, Loss_test: 0.04\n",
      "Epoch: 625 Loss: 0.02, Loss_test: 0.04\n",
      "Epoch: 626 Loss: 0.03, Loss_test: 0.04\n",
      "Epoch: 627 Loss: 0.02, Loss_test: 0.04\n",
      "Epoch: 628 Loss: 0.03, Loss_test: 0.05\n",
      "Epoch: 629 Loss: 0.03, Loss_test: 0.05\n",
      "=> result saved!\n",
      "Epoch: 630 Loss: 0.02, Loss_test: 0.05\n",
      "Epoch: 631 Loss: 0.04, Loss_test: 0.05\n",
      "Epoch: 632 Loss: 0.02, Loss_test: 0.05\n",
      "Epoch: 633 Loss: 0.03, Loss_test: 0.05\n",
      "Epoch: 634 Loss: 0.05, Loss_test: 0.05\n",
      "Epoch: 635 Loss: 0.05, Loss_test: 0.05\n",
      "Epoch: 636 Loss: 0.03, Loss_test: 0.05\n",
      "Epoch: 637 Loss: 0.02, Loss_test: 0.05\n",
      "Epoch: 638 Loss: 0.03, Loss_test: 0.05\n",
      "Epoch: 639 Loss: 0.03, Loss_test: 0.05\n",
      "=> result saved!\n",
      "Epoch: 640 Loss: 0.04, Loss_test: 0.05\n",
      "Epoch: 641 Loss: 0.03, Loss_test: 0.05\n",
      "Epoch: 642 Loss: 0.05, Loss_test: 0.05\n",
      "Epoch: 643 Loss: 0.03, Loss_test: 0.05\n",
      "Epoch: 644 Loss: 0.01, Loss_test: 0.05\n",
      "Epoch: 645 Loss: 0.02, Loss_test: 0.05\n",
      "Epoch: 646 Loss: 0.03, Loss_test: 0.05\n",
      "Epoch: 647 Loss: 0.02, Loss_test: 0.05\n",
      "Epoch: 648 Loss: 0.02, Loss_test: 0.05\n",
      "Epoch: 649 Loss: 0.03, Loss_test: 0.05\n",
      "=> result saved!\n",
      "Epoch: 650 Loss: 0.03, Loss_test: 0.05\n",
      "Epoch: 651 Loss: 0.03, Loss_test: 0.05\n",
      "Epoch: 652 Loss: 0.04, Loss_test: 0.05\n",
      "Epoch: 653 Loss: 0.03, Loss_test: 0.05\n",
      "Epoch: 654 Loss: 0.03, Loss_test: 0.05\n",
      "Epoch: 655 Loss: 0.03, Loss_test: 0.05\n",
      "Epoch: 656 Loss: 0.03, Loss_test: 0.05\n",
      "Epoch: 657 Loss: 0.03, Loss_test: 0.05\n",
      "Epoch: 658 Loss: 0.03, Loss_test: 0.05\n",
      "Epoch: 659 Loss: 0.04, Loss_test: 0.05\n",
      "=> result saved!\n",
      "Epoch: 660 Loss: 0.04, Loss_test: 0.05\n",
      "Epoch: 661 Loss: 0.03, Loss_test: 0.05\n",
      "Epoch: 662 Loss: 0.03, Loss_test: 0.05\n",
      "Epoch: 663 Loss: 0.06, Loss_test: 0.05\n",
      "Epoch: 664 Loss: 0.04, Loss_test: 0.05\n",
      "Epoch: 665 Loss: 0.04, Loss_test: 0.04\n",
      "Epoch: 666 Loss: 0.02, Loss_test: 0.04\n",
      "Epoch: 667 Loss: 0.05, Loss_test: 0.04\n",
      "Epoch: 668 Loss: 0.03, Loss_test: 0.04\n",
      "Epoch: 669 Loss: 0.04, Loss_test: 0.04\n",
      "=> result saved!\n",
      "Epoch: 670 Loss: 0.04, Loss_test: 0.04\n",
      "Epoch: 671 Loss: 0.04, Loss_test: 0.04\n",
      "Epoch: 672 Loss: 0.04, Loss_test: 0.05\n",
      "Epoch: 673 Loss: 0.05, Loss_test: 0.05\n",
      "Epoch: 674 Loss: 0.02, Loss_test: 0.04\n",
      "Epoch: 675 Loss: 0.05, Loss_test: 0.05\n",
      "Epoch: 676 Loss: 0.04, Loss_test: 0.04\n",
      "Epoch: 677 Loss: 0.02, Loss_test: 0.04\n",
      "Epoch: 678 Loss: 0.03, Loss_test: 0.04\n",
      "Epoch: 679 Loss: 0.02, Loss_test: 0.04\n",
      "=> result saved!\n",
      "Epoch: 680 Loss: 0.04, Loss_test: 0.05\n",
      "Epoch: 681 Loss: 0.03, Loss_test: 0.04\n",
      "Epoch: 682 Loss: 0.02, Loss_test: 0.05\n",
      "Epoch: 683 Loss: 0.02, Loss_test: 0.05\n",
      "Epoch: 684 Loss: 0.03, Loss_test: 0.05\n",
      "Epoch: 685 Loss: 0.04, Loss_test: 0.05\n",
      "Epoch: 686 Loss: 0.03, Loss_test: 0.05\n",
      "Epoch: 687 Loss: 0.02, Loss_test: 0.05\n",
      "Epoch: 688 Loss: 0.02, Loss_test: 0.05\n",
      "Epoch: 689 Loss: 0.02, Loss_test: 0.05\n",
      "=> result saved!\n",
      "Epoch: 690 Loss: 0.03, Loss_test: 0.05\n",
      "Epoch: 691 Loss: 0.03, Loss_test: 0.05\n",
      "Epoch: 692 Loss: 0.01, Loss_test: 0.05\n",
      "Epoch: 693 Loss: 0.03, Loss_test: 0.05\n",
      "Epoch: 694 Loss: 0.04, Loss_test: 0.05\n",
      "Epoch: 695 Loss: 0.03, Loss_test: 0.05\n",
      "Epoch: 696 Loss: 0.02, Loss_test: 0.05\n",
      "Epoch: 697 Loss: 0.03, Loss_test: 0.05\n",
      "Epoch: 698 Loss: 0.02, Loss_test: 0.05\n",
      "Epoch: 699 Loss: 0.02, Loss_test: 0.05\n",
      "=> result saved!\n",
      "Epoch: 700 Loss: 0.04, Loss_test: 0.05\n",
      "Epoch: 701 Loss: 0.05, Loss_test: 0.05\n",
      "Epoch: 702 Loss: 0.02, Loss_test: 0.05\n",
      "Epoch: 703 Loss: 0.02, Loss_test: 0.05\n",
      "Epoch: 704 Loss: 0.04, Loss_test: 0.05\n",
      "Epoch: 705 Loss: 0.02, Loss_test: 0.05\n",
      "Epoch: 706 Loss: 0.02, Loss_test: 0.04\n"
     ]
    },
    {
     "name": "stdout",
     "output_type": "stream",
     "text": [
      "Epoch: 707 Loss: 0.03, Loss_test: 0.05\n",
      "Epoch: 708 Loss: 0.02, Loss_test: 0.05\n",
      "Epoch: 709 Loss: 0.02, Loss_test: 0.05\n",
      "=> result saved!\n",
      "Epoch: 710 Loss: 0.02, Loss_test: 0.05\n",
      "Epoch: 711 Loss: 0.02, Loss_test: 0.05\n",
      "Epoch: 712 Loss: 0.05, Loss_test: 0.04\n",
      "Epoch: 713 Loss: 0.04, Loss_test: 0.04\n",
      "Epoch: 714 Loss: 0.03, Loss_test: 0.05\n",
      "Epoch: 715 Loss: 0.04, Loss_test: 0.04\n",
      "Epoch: 716 Loss: 0.05, Loss_test: 0.05\n",
      "Epoch: 717 Loss: 0.02, Loss_test: 0.05\n",
      "Epoch: 718 Loss: 0.01, Loss_test: 0.05\n",
      "Epoch: 719 Loss: 0.03, Loss_test: 0.05\n",
      "=> result saved!\n",
      "Epoch: 720 Loss: 0.04, Loss_test: 0.04\n",
      "Epoch: 721 Loss: 0.03, Loss_test: 0.04\n",
      "Epoch: 722 Loss: 0.04, Loss_test: 0.04\n",
      "Epoch: 723 Loss: 0.02, Loss_test: 0.04\n",
      "Epoch: 724 Loss: 0.03, Loss_test: 0.04\n",
      "Epoch: 725 Loss: 0.02, Loss_test: 0.05\n",
      "Epoch: 726 Loss: 0.01, Loss_test: 0.05\n",
      "Epoch: 727 Loss: 0.05, Loss_test: 0.05\n",
      "Epoch: 728 Loss: 0.02, Loss_test: 0.05\n",
      "Epoch: 729 Loss: 0.03, Loss_test: 0.05\n",
      "=> result saved!\n",
      "Epoch: 730 Loss: 0.03, Loss_test: 0.04\n",
      "Epoch: 731 Loss: 0.02, Loss_test: 0.04\n",
      "Epoch: 732 Loss: 0.04, Loss_test: 0.04\n",
      "Epoch: 733 Loss: 0.04, Loss_test: 0.05\n",
      "Epoch: 734 Loss: 0.04, Loss_test: 0.04\n",
      "Epoch: 735 Loss: 0.04, Loss_test: 0.04\n",
      "Epoch: 736 Loss: 0.02, Loss_test: 0.04\n",
      "Epoch: 737 Loss: 0.03, Loss_test: 0.04\n",
      "Epoch: 738 Loss: 0.02, Loss_test: 0.04\n",
      "Epoch: 739 Loss: 0.03, Loss_test: 0.04\n",
      "=> result saved!\n",
      "Epoch: 740 Loss: 0.02, Loss_test: 0.04\n",
      "Epoch: 741 Loss: 0.03, Loss_test: 0.04\n",
      "Epoch: 742 Loss: 0.03, Loss_test: 0.04\n",
      "Epoch: 743 Loss: 0.03, Loss_test: 0.04\n",
      "Epoch: 744 Loss: 0.03, Loss_test: 0.04\n",
      "Epoch: 745 Loss: 0.02, Loss_test: 0.04\n",
      "Epoch: 746 Loss: 0.02, Loss_test: 0.04\n",
      "Epoch: 747 Loss: 0.02, Loss_test: 0.04\n",
      "Epoch: 748 Loss: 0.05, Loss_test: 0.04\n",
      "Epoch: 749 Loss: 0.04, Loss_test: 0.04\n",
      "=> result saved!\n",
      "Epoch: 750 Loss: 0.02, Loss_test: 0.04\n",
      "Epoch: 751 Loss: 0.02, Loss_test: 0.04\n",
      "Epoch: 752 Loss: 0.01, Loss_test: 0.04\n",
      "Epoch: 753 Loss: 0.05, Loss_test: 0.04\n",
      "Epoch: 754 Loss: 0.03, Loss_test: 0.04\n",
      "Epoch: 755 Loss: 0.04, Loss_test: 0.04\n",
      "Epoch: 756 Loss: 0.01, Loss_test: 0.04\n",
      "Epoch: 757 Loss: 0.03, Loss_test: 0.04\n",
      "Epoch: 758 Loss: 0.02, Loss_test: 0.04\n",
      "Epoch: 759 Loss: 0.03, Loss_test: 0.04\n",
      "=> result saved!\n",
      "Epoch: 760 Loss: 0.02, Loss_test: 0.05\n",
      "Epoch: 761 Loss: 0.04, Loss_test: 0.04\n",
      "Epoch: 762 Loss: 0.04, Loss_test: 0.04\n",
      "Epoch: 763 Loss: 0.02, Loss_test: 0.04\n",
      "Epoch: 764 Loss: 0.02, Loss_test: 0.04\n",
      "Epoch: 765 Loss: 0.03, Loss_test: 0.04\n",
      "Epoch: 766 Loss: 0.04, Loss_test: 0.04\n",
      "Epoch: 767 Loss: 0.03, Loss_test: 0.04\n",
      "Epoch: 768 Loss: 0.02, Loss_test: 0.04\n",
      "Epoch: 769 Loss: 0.03, Loss_test: 0.04\n",
      "=> result saved!\n",
      "Epoch: 770 Loss: 0.03, Loss_test: 0.04\n",
      "Epoch: 771 Loss: 0.02, Loss_test: 0.04\n",
      "Epoch: 772 Loss: 0.02, Loss_test: 0.04\n",
      "Epoch: 773 Loss: 0.03, Loss_test: 0.04\n",
      "Epoch: 774 Loss: 0.03, Loss_test: 0.04\n",
      "Epoch: 775 Loss: 0.03, Loss_test: 0.04\n",
      "Epoch: 776 Loss: 0.03, Loss_test: 0.04\n",
      "Epoch: 777 Loss: 0.01, Loss_test: 0.04\n",
      "Epoch: 778 Loss: 0.03, Loss_test: 0.04\n",
      "Epoch: 779 Loss: 0.01, Loss_test: 0.04\n",
      "=> result saved!\n",
      "Epoch: 780 Loss: 0.04, Loss_test: 0.04\n",
      "Epoch: 781 Loss: 0.03, Loss_test: 0.04\n",
      "Epoch: 782 Loss: 0.02, Loss_test: 0.04\n",
      "Epoch: 783 Loss: 0.02, Loss_test: 0.04\n",
      "Epoch: 784 Loss: 0.01, Loss_test: 0.04\n",
      "Epoch: 785 Loss: 0.02, Loss_test: 0.03\n",
      "Epoch: 786 Loss: 0.03, Loss_test: 0.04\n",
      "Epoch: 787 Loss: 0.04, Loss_test: 0.04\n",
      "Epoch: 788 Loss: 0.01, Loss_test: 0.04\n",
      "Epoch: 789 Loss: 0.02, Loss_test: 0.04\n",
      "=> result saved!\n",
      "Epoch: 790 Loss: 0.02, Loss_test: 0.04\n",
      "Epoch: 791 Loss: 0.03, Loss_test: 0.04\n",
      "Epoch: 792 Loss: 0.04, Loss_test: 0.04\n",
      "Epoch: 793 Loss: 0.03, Loss_test: 0.04\n",
      "Epoch: 794 Loss: 0.02, Loss_test: 0.04\n",
      "Epoch: 795 Loss: 0.03, Loss_test: 0.04\n",
      "Epoch: 796 Loss: 0.02, Loss_test: 0.04\n",
      "Epoch: 797 Loss: 0.03, Loss_test: 0.04\n",
      "Epoch: 798 Loss: 0.04, Loss_test: 0.04\n",
      "Epoch: 799 Loss: 0.02, Loss_test: 0.04\n",
      "=> result saved!\n",
      "Epoch: 800 Loss: 0.04, Loss_test: 0.04\n",
      "Epoch: 801 Loss: 0.03, Loss_test: 0.04\n",
      "Epoch: 802 Loss: 0.01, Loss_test: 0.04\n",
      "Epoch: 803 Loss: 0.02, Loss_test: 0.04\n",
      "Epoch: 804 Loss: 0.02, Loss_test: 0.04\n",
      "Epoch: 805 Loss: 0.02, Loss_test: 0.04\n",
      "Epoch: 806 Loss: 0.01, Loss_test: 0.03\n",
      "Epoch: 807 Loss: 0.02, Loss_test: 0.04\n",
      "Epoch: 808 Loss: 0.03, Loss_test: 0.04\n",
      "Epoch: 809 Loss: 0.03, Loss_test: 0.03\n",
      "=> result saved!\n",
      "Epoch: 810 Loss: 0.03, Loss_test: 0.03\n",
      "Epoch: 811 Loss: 0.04, Loss_test: 0.04\n",
      "Epoch: 812 Loss: 0.02, Loss_test: 0.04\n",
      "Epoch: 813 Loss: 0.03, Loss_test: 0.04\n",
      "Epoch: 814 Loss: 0.03, Loss_test: 0.04\n",
      "Epoch: 815 Loss: 0.02, Loss_test: 0.04\n",
      "Epoch: 816 Loss: 0.02, Loss_test: 0.04\n",
      "Epoch: 817 Loss: 0.02, Loss_test: 0.04\n",
      "Epoch: 818 Loss: 0.02, Loss_test: 0.03\n",
      "Epoch: 819 Loss: 0.03, Loss_test: 0.03\n",
      "=> result saved!\n",
      "Epoch: 820 Loss: 0.04, Loss_test: 0.04\n",
      "Epoch: 821 Loss: 0.02, Loss_test: 0.03\n",
      "Epoch: 822 Loss: 0.02, Loss_test: 0.03\n",
      "Epoch: 823 Loss: 0.02, Loss_test: 0.03\n",
      "Epoch: 824 Loss: 0.03, Loss_test: 0.03\n",
      "Epoch: 825 Loss: 0.02, Loss_test: 0.03\n",
      "Epoch: 826 Loss: 0.03, Loss_test: 0.03\n",
      "Epoch: 827 Loss: 0.01, Loss_test: 0.04\n",
      "Epoch: 828 Loss: 0.03, Loss_test: 0.03\n",
      "Epoch: 829 Loss: 0.02, Loss_test: 0.03\n",
      "=> result saved!\n",
      "Epoch: 830 Loss: 0.02, Loss_test: 0.04\n",
      "Epoch: 831 Loss: 0.03, Loss_test: 0.04\n",
      "Epoch: 832 Loss: 0.02, Loss_test: 0.04\n",
      "Epoch: 833 Loss: 0.03, Loss_test: 0.04\n",
      "Epoch: 834 Loss: 0.02, Loss_test: 0.04\n",
      "Epoch: 835 Loss: 0.03, Loss_test: 0.04\n",
      "Epoch: 836 Loss: 0.01, Loss_test: 0.04\n",
      "Epoch: 837 Loss: 0.02, Loss_test: 0.03\n",
      "Epoch: 838 Loss: 0.03, Loss_test: 0.03\n",
      "Epoch: 839 Loss: 0.02, Loss_test: 0.03\n",
      "=> result saved!\n",
      "Epoch: 840 Loss: 0.01, Loss_test: 0.03\n",
      "Epoch: 841 Loss: 0.04, Loss_test: 0.03\n",
      "Epoch: 842 Loss: 0.03, Loss_test: 0.03\n",
      "Epoch: 843 Loss: 0.01, Loss_test: 0.04\n",
      "Epoch: 844 Loss: 0.03, Loss_test: 0.03\n",
      "Epoch: 845 Loss: 0.03, Loss_test: 0.03\n",
      "Epoch: 846 Loss: 0.03, Loss_test: 0.03\n",
      "Epoch: 847 Loss: 0.01, Loss_test: 0.03\n",
      "Epoch: 848 Loss: 0.02, Loss_test: 0.03\n",
      "Epoch: 849 Loss: 0.03, Loss_test: 0.03\n",
      "=> result saved!\n",
      "Epoch: 850 Loss: 0.04, Loss_test: 0.03\n",
      "Epoch: 851 Loss: 0.02, Loss_test: 0.03\n",
      "Epoch: 852 Loss: 0.02, Loss_test: 0.03\n",
      "Epoch: 853 Loss: 0.05, Loss_test: 0.03\n",
      "Epoch: 854 Loss: 0.03, Loss_test: 0.03\n",
      "Epoch: 855 Loss: 0.03, Loss_test: 0.03\n",
      "Epoch: 856 Loss: 0.02, Loss_test: 0.03\n",
      "Epoch: 857 Loss: 0.02, Loss_test: 0.03\n",
      "Epoch: 858 Loss: 0.03, Loss_test: 0.03\n",
      "Epoch: 859 Loss: 0.05, Loss_test: 0.03\n",
      "=> result saved!\n",
      "Epoch: 860 Loss: 0.02, Loss_test: 0.03\n",
      "Epoch: 861 Loss: 0.05, Loss_test: 0.03\n",
      "Epoch: 862 Loss: 0.05, Loss_test: 0.03\n",
      "Epoch: 863 Loss: 0.01, Loss_test: 0.03\n",
      "Epoch: 864 Loss: 0.04, Loss_test: 0.03\n",
      "Epoch: 865 Loss: 0.03, Loss_test: 0.04\n",
      "Epoch: 866 Loss: 0.03, Loss_test: 0.04\n",
      "Epoch: 867 Loss: 0.03, Loss_test: 0.04\n",
      "Epoch: 868 Loss: 0.01, Loss_test: 0.04\n",
      "Epoch: 869 Loss: 0.06, Loss_test: 0.04\n",
      "=> result saved!\n",
      "Epoch: 870 Loss: 0.03, Loss_test: 0.03\n",
      "Epoch: 871 Loss: 0.03, Loss_test: 0.04\n",
      "Epoch: 872 Loss: 0.01, Loss_test: 0.04\n",
      "Epoch: 873 Loss: 0.03, Loss_test: 0.04\n",
      "Epoch: 874 Loss: 0.03, Loss_test: 0.04\n",
      "Epoch: 875 Loss: 0.02, Loss_test: 0.04\n",
      "Epoch: 876 Loss: 0.03, Loss_test: 0.04\n",
      "Epoch: 877 Loss: 0.03, Loss_test: 0.03\n",
      "Epoch: 878 Loss: 0.04, Loss_test: 0.03\n",
      "Epoch: 879 Loss: 0.02, Loss_test: 0.03\n",
      "=> result saved!\n",
      "Epoch: 880 Loss: 0.03, Loss_test: 0.04\n",
      "Epoch: 881 Loss: 0.02, Loss_test: 0.04\n",
      "Epoch: 882 Loss: 0.03, Loss_test: 0.04\n",
      "Epoch: 883 Loss: 0.01, Loss_test: 0.04\n",
      "Epoch: 884 Loss: 0.01, Loss_test: 0.04\n",
      "Epoch: 885 Loss: 0.01, Loss_test: 0.04\n",
      "Epoch: 886 Loss: 0.03, Loss_test: 0.04\n",
      "Epoch: 887 Loss: 0.04, Loss_test: 0.04\n",
      "Epoch: 888 Loss: 0.01, Loss_test: 0.04\n",
      "Epoch: 889 Loss: 0.03, Loss_test: 0.04\n",
      "=> result saved!\n",
      "Epoch: 890 Loss: 0.03, Loss_test: 0.04\n",
      "Epoch: 891 Loss: 0.01, Loss_test: 0.04\n",
      "Epoch: 892 Loss: 0.02, Loss_test: 0.04\n",
      "Epoch: 893 Loss: 0.02, Loss_test: 0.04\n",
      "Epoch: 894 Loss: 0.03, Loss_test: 0.04\n",
      "Epoch: 895 Loss: 0.03, Loss_test: 0.04\n",
      "Epoch: 896 Loss: 0.02, Loss_test: 0.04\n",
      "Epoch: 897 Loss: 0.02, Loss_test: 0.04\n",
      "Epoch: 898 Loss: 0.02, Loss_test: 0.04\n",
      "Epoch: 899 Loss: 0.02, Loss_test: 0.04\n",
      "=> result saved!\n",
      "Epoch: 900 Loss: 0.02, Loss_test: 0.04\n"
     ]
    }
   ],
   "source": [
    "end_train = epochs - limit_train\n",
    "for epoch in range(limit_train, end_train):\n",
    "    batch_triplet_train, \\\n",
    "        train_input_sample, train_sim = batch_iterator(baseline, retrieval, model, baseline.train_data, \n",
    "                                                       baseline.dup_sets_train, bug_train_ids, \n",
    "                                                           batch_size, 1, issues_by_buckets, TRIPLET_HARD=False)\n",
    "    train_batch = [train_input_sample['title'], train_input_sample['description'], train_input_sample['info'], train_sim]\n",
    "    \n",
    "\n",
    "    h = model.train_on_batch(x=train_batch, y=train_sim)\n",
    "    h_validation = model.test_on_batch(x=validation_sample, y=valid_sim)\n",
    "    \n",
    "    # save results\n",
    "    result['train'].append(h)\n",
    "    result['test'].append(h_validation)\n",
    "    \n",
    "    if( (epoch+1) % 10 == 0 or (epoch+1 == end_train )):\n",
    "        save_loss(result)\n",
    "    \n",
    "    print(\"Epoch: {} Loss: {:.2f}, Loss_test: {:.2f}\".format(epoch+1, h, h_validation))"
   ]
  },
  {
   "cell_type": "code",
   "execution_count": 48,
   "metadata": {},
   "outputs": [
    {
     "data": {
      "text/plain": [
       "(900, 900)"
      ]
     },
     "execution_count": 48,
     "metadata": {},
     "output_type": "execute_result"
    }
   ],
   "source": [
    "len(result['train']), len(result['test'])"
   ]
  },
  {
   "cell_type": "code",
   "execution_count": 49,
   "metadata": {},
   "outputs": [],
   "source": [
    "encoded = model.get_layer('merge_features_in')\n",
    "output = encoded.output\n",
    "inputs = similarity_model.inputs[:-1]\n",
    "encoded_anchor = Model(inputs = inputs, outputs = output, name = 'Similarity_Model')"
   ]
  },
  {
   "cell_type": "code",
   "execution_count": 50,
   "metadata": {},
   "outputs": [
    {
     "data": {
      "text/plain": [
       "'bert_preprocessing_baseline_1000_feature1000epochs_64batch(eclipse)'"
      ]
     },
     "execution_count": 50,
     "metadata": {},
     "output_type": "execute_result"
    }
   ],
   "source": [
    "SAVE_PATH.replace('@number_of_epochs@', str(epochs))"
   ]
  },
  {
   "cell_type": "code",
   "execution_count": 51,
   "metadata": {},
   "outputs": [
    {
     "name": "stdout",
     "output_type": "stream",
     "text": [
      "Saved model 'modelos/model_bert_preprocessing_baseline_1000_feature_1000epochs_64batch(eclipse).h5' to disk\n"
     ]
    },
    {
     "data": {
      "text/plain": [
       "'Model saved'"
      ]
     },
     "execution_count": 51,
     "metadata": {},
     "output_type": "execute_result"
    }
   ],
   "source": [
    "experiment.save_model(model, SAVE_PATH.replace('@number_of_epochs@', str(epochs)))\n",
    "experiment.save_model(encoded_anchor, SAVE_PATH_FEATURE.replace('@number_of_epochs@', str(epochs)), verbose=1)\n",
    "\"Model saved\""
   ]
  },
  {
   "cell_type": "code",
   "execution_count": 52,
   "metadata": {},
   "outputs": [
    {
     "data": {
      "application/vnd.jupyter.widget-view+json": {
       "model_id": "2ea83048525547c6b8e58036b847964b",
       "version_major": 2,
       "version_minor": 0
      },
      "text/plain": [
       "HBox(children=(IntProgress(value=0, max=16995), HTML(value='')))"
      ]
     },
     "metadata": {},
     "output_type": "display_data"
    },
    {
     "name": "stdout",
     "output_type": "stream",
     "text": [
      "\n"
     ]
    },
    {
     "data": {
      "application/vnd.jupyter.widget-view+json": {
       "model_id": "f72d4274719843c1b14f4da2bcb70678",
       "version_major": 2,
       "version_minor": 0
      },
      "text/plain": [
       "HBox(children=(IntProgress(value=0, max=27321), HTML(value='')))"
      ]
     },
     "metadata": {},
     "output_type": "display_data"
    },
    {
     "name": "stdout",
     "output_type": "stream",
     "text": [
      "\n"
     ]
    },
    {
     "data": {
      "application/vnd.jupyter.widget-view+json": {
       "model_id": "f46469630008472c9796d3a7364fb268",
       "version_major": 2,
       "version_minor": 0
      },
      "text/plain": [
       "HBox(children=(IntProgress(value=0, max=30481), HTML(value='')))"
      ]
     },
     "metadata": {},
     "output_type": "display_data"
    },
    {
     "name": "stdout",
     "output_type": "stream",
     "text": [
      "\n"
     ]
    },
    {
     "data": {
      "application/vnd.jupyter.widget-view+json": {
       "model_id": "ddc79471a9034efe92c49da151aca0d4",
       "version_major": 2,
       "version_minor": 0
      },
      "text/plain": [
       "HBox(children=(IntProgress(value=1, bar_style='info', max=1), HTML(value='')))"
      ]
     },
     "metadata": {},
     "output_type": "display_data"
    },
    {
     "name": "stdout",
     "output_type": "stream",
     "text": [
      "\n"
     ]
    },
    {
     "data": {
      "application/vnd.jupyter.widget-view+json": {
       "model_id": "173eadcd1f4a4ecd9aeb1f90ec2432af",
       "version_major": 2,
       "version_minor": 0
      },
      "text/plain": [
       "HBox(children=(IntProgress(value=1, bar_style='info', max=1), HTML(value='')))"
      ]
     },
     "metadata": {},
     "output_type": "display_data"
    },
    {
     "name": "stdout",
     "output_type": "stream",
     "text": [
      "\n"
     ]
    },
    {
     "data": {
      "application/vnd.jupyter.widget-view+json": {
       "model_id": "44a00c3261b640848cf7b247488fa5c7",
       "version_major": 2,
       "version_minor": 0
      },
      "text/plain": [
       "HBox(children=(IntProgress(value=1, bar_style='info', max=1), HTML(value='')))"
      ]
     },
     "metadata": {},
     "output_type": "display_data"
    },
    {
     "name": "stdout",
     "output_type": "stream",
     "text": [
      "\n"
     ]
    },
    {
     "data": {
      "application/vnd.jupyter.widget-view+json": {
       "model_id": "7e522166235a4bc18ffb2fc97ec3c9a2",
       "version_major": 2,
       "version_minor": 0
      },
      "text/plain": [
       "HBox(children=(IntProgress(value=0, max=27321), HTML(value='')))"
      ]
     },
     "metadata": {},
     "output_type": "display_data"
    },
    {
     "name": "stdout",
     "output_type": "stream",
     "text": [
      "\n",
      "Epoch: 900 Loss: 0.02, Loss_test: 0.04, recall@25: 0.59\n"
     ]
    }
   ],
   "source": [
    "recall, exported_rank, debug = experiment.evaluate_validation_test(retrieval, 1, encoded_anchor, issues_by_buckets, bug_train_ids)\n",
    "print(\"Epoch: {} Loss: {:.2f}, Loss_test: {:.2f}, recall@25: {:.2f}\".format(epoch+1, h, h_validation, recall))"
   ]
  },
  {
   "cell_type": "code",
   "execution_count": 53,
   "metadata": {},
   "outputs": [
    {
     "data": {
      "text/plain": [
       "0.59"
      ]
     },
     "execution_count": 53,
     "metadata": {},
     "output_type": "execute_result"
    }
   ],
   "source": [
    "recall"
   ]
  },
  {
   "cell_type": "code",
   "execution_count": 54,
   "metadata": {},
   "outputs": [
    {
     "data": {
      "text/plain": [
       "['2:15392,9779,94|19650:0.5375066101551056,8467:0.5257811546325684,226:0.5008576810359955,12386:0.49663329124450684,8559:0.49230241775512695,12958:0.48904138803482056,13570:0.48606014251708984,10904:0.4831901788711548,15429:0.47844499349594116,13094:0.4780459403991699,12138:0.47527551651000977,23430:0.4729357361793518,4931:0.47200268507003784,11615:0.470650851726532,10739:0.47003990411758423,88:0.46799737215042114,252:0.4673946499824524,10156:0.4645111560821533,21818:0.46412187814712524,122:0.46407318115234375,4895:0.46221649646759033,8560:0.45944833755493164,21276:0.45806920528411865,7522:0.45757240056991577,19233:0.4574287533760071,17942:0.4566250443458557,12254:0.45498454570770264,10909:0.45357632637023926,18596:0.4530262351036072',\n",
       " '393232:393282,390667,383388|408095:0.5154962539672852,405563:0.5145235657691956,415326:0.513690859079361,402824:0.5051060020923615,399354:0.4922345280647278,407288:0.4867260456085205,365253:0.4865543842315674,403605:0.4846609830856323,383309:0.4837096333503723,394705:0.4817865490913391,402526:0.47660475969314575,404887:0.4759286046028137,385247:0.4746006727218628,386001:0.47214245796203613,410955:0.47171300649642944,403690:0.466977059841156,383912:0.4654807448387146,306774:0.4635908007621765,306775:0.4635908007621765,405416:0.4619520306587219,391232:0.4589381217956543,374229:0.4581834673881531,362522:0.4562859535217285,420310:0.4562421441078186,409977:0.45547592639923096,406058:0.45520299673080444,410468:0.4539169669151306,369475:0.45150047540664673,409746:0.44990718364715576',\n",
       " '30:205979,38236,99332,71263|22835:0.5935238897800446,160:0.5859196484088898,21252:0.5845014750957489,23060:0.5787428915500641,4895:0.5781970024108887,12412:0.5697437822818756,19669:0.5469633638858795,21128:0.5434356331825256,17518:0.5424460768699646,22337:0.5392759442329407,19739:0.5356089174747467,252:0.5354237258434296,21240:0.5279176235198975,15490:0.5263542532920837,23452:0.526089996099472,17485:0.5255312025547028,26483:0.5236595273017883,20955:0.5230987668037415,20521:0.5227233469486237,19979:0.5195586383342743,82960:0.5173311531543732,10156:0.5152332186698914,21276:0.514156699180603,11859:0.5124242901802063,17366:0.509864866733551,19666:0.5096629858016968,38303:0.5092656016349792,28903:0.5055826902389526,14751:0.5038823485374451',\n",
       " '131123:234849|94317:0.49763035774230957,115698:0.47466129064559937,14829:0.466530978679657,87217:0.45849061012268066,23356:0.4488159418106079,68905:0.4476171135902405,91594:0.44729387760162354,81645:0.4471522569656372,7879:0.4399154782295227,18528:0.4387497305870056,22041:0.43731826543807983,174625:0.437045156955719,21417:0.43588685989379883,37974:0.4345637559890747,19725:0.4341121315956116,75596:0.43273836374282837,64319:0.4326954483985901,70922:0.43222564458847046,50895:0.4320281744003296,82710:0.43189477920532227,119259:0.42796391248703003,61833:0.4262566566467285,84747:0.4250149726867676,46566:0.42424213886260986,41525:0.42366349697113037,102750:0.42322129011154175,94700:0.4221544861793518,12694:0.4216540455818176,22897:0.42136651277542114',\n",
       " '393277:393864,400436|400084:0.4785858392715454,389659:0.4547896981239319,389738:0.4447776675224304,384204:0.4359200596809387,331818:0.43020468950271606,340374:0.41967636346817017,347183:0.4196540117263794,369917:0.41814684867858887,407076:0.4181182384490967,174642:0.41036999225616455,195675:0.4100976586341858,319435:0.40971410274505615,168978:0.40787166357040405,365392:0.40431004762649536,396897:0.40261632204055786,391573:0.40105241537094116,364824:0.400692880153656,311863:0.3994608521461487,139429:0.39763689041137695,377609:0.39758962392807007,398264:0.3951692581176758,171830:0.3948187828063965,401362:0.3928661346435547,215834:0.3920699954032898,329815:0.3918379545211792,280929:0.39001500606536865,160310:0.3897935152053833,158916:0.3880489468574524,411745:0.38770192861557007',\n",
       " '131136:150817,149868,145937,65841,102812|150817:0.5574784278869629,102812:0.5535051822662354,99027:0.5477242767810822,107833:0.5317428112030029,78257:0.5253214538097382,64080:0.5244103372097015,88825:0.5212449729442596,40906:0.5207014679908752,101195:0.5184862315654755,23579:0.5173031687736511,48236:0.514774888753891,127006:0.5146300792694092,178289:0.5140821635723114,80348:0.5109917223453522,47630:0.509075790643692,41813:0.5086258351802826,49409:0.5084230899810791,49623:0.5078180134296417,50068:0.5073983669281006,45097:0.5043667852878571,71439:0.5038789808750153,37472:0.5000750720500946,144690:0.49938732385635376,97299:0.4991164803504944,232402:0.4980725646018982,85941:0.4979042410850525,46341:0.4963829517364502,76889:0.49619436264038086,52061:0.4938478469848633',\n",
       " '393282:393232,390667,383388|167104:0.4262559413909912,167105:0.4146741032600403,147939:0.41441065073013306,404669:0.41347557306289673,135349:0.4112774133682251,134850:0.4093620181083679,158564:0.40617257356643677,154587:0.4049772620201111,376036:0.4006343483924866,170274:0.399963915348053,186230:0.398215651512146,161326:0.3961021304130554,109286:0.39028775691986084,159331:0.388714075088501,407747:0.3886723518371582,159279:0.3850683569908142,377934:0.38274896144866943,170339:0.38181859254837036,136483:0.37813490629196167,156764:0.3751791715621948,389056:0.3749043345451355,386997:0.372275710105896,173662:0.37220609188079834,389913:0.3718911409378052,161642:0.3716311454772949,135132:0.3710441589355469,129638:0.3708370327949524,143875:0.37080609798431396,171664:0.3704320788383484',\n",
       " '262212:292851,292845,291839|259768:0.5136861205101013,202347:0.4741045832633972,252744:0.4656609296798706,237021:0.46100008487701416,291839:0.4539242386817932,392496:0.4528534412384033,300023:0.45255035161972046,344187:0.4518057107925415,347495:0.45088595151901245,271713:0.4493672847747803,295034:0.4466959834098816,292166:0.444499135017395,192315:0.4439985156059265,192313:0.4433908462524414,192314:0.4433908462524414,235130:0.442268967628479,202346:0.44173556566238403,292851:0.4399681091308594,248591:0.43873536586761475,251316:0.43790102005004883,196813:0.43628138303756714,356686:0.43468981981277466,362574:0.4299888610839844,311873:0.4292612075805664,178063:0.4279153347015381,216609:0.42724448442459106,10106:0.4236963391304016,264447:0.4231051802635193,153952:0.42304885387420654',\n",
       " '131143:135599|156764:0.4911907911300659,173662:0.4617828130722046,134850:0.46110808849334717,196496:0.434009850025177,156740:0.42116981744766235,217128:0.4120250344276428,154587:0.41176581382751465,173136:0.4000247120857239,183419:0.39899730682373047,105364:0.3974955081939697,105365:0.3974955081939697,131689:0.3920537233352661,133552:0.3894316554069519,210203:0.38765645027160645,156270:0.3857467770576477,313517:0.3855372667312622,129628:0.3850036859512329,135043:0.38492321968078613,217479:0.3847964406013489,130371:0.38327860832214355,380041:0.38201969861984253,135548:0.38191455602645874,196499:0.38164186477661133,113958:0.38116616010665894,139779:0.3809930086135864,177070:0.379255473613739,212754:0.3788697123527527,129680:0.37847137451171875,92810:0.3783079981803894',\n",
       " '71:256,228|16399:0.5501607954502106,10095:0.5229983031749725,19339:0.5203927755355835,5743:0.5190251469612122,14674:0.5142340660095215,9908:0.5138734877109528,252:0.5092771947383881,256:0.5047733783721924,4911:0.5045499801635742,13224:0.5034610629081726,17942:0.5024460256099701,19690:0.49896830320358276,12217:0.4964727759361267,5242:0.49352866411209106,4895:0.493105947971344,14835:0.49132823944091797,12545:0.4903913140296936,14673:0.48851412534713745,228:0.4872511029243469,247:0.4870038628578186,15119:0.486882746219635,21128:0.4851580262184143,170:0.4832974076271057,88:0.48112016916275024,85:0.47983604669570923,7561:0.478262722492218,12369:0.4774191975593567,20521:0.47673946619033813,22923:0.47641128301620483',\n",
       " '85:247,10959|11858:0.5435439050197601,7327:0.5118024051189423,7522:0.5111221671104431,7894:0.5105302929878235,7902:0.507510244846344,10909:0.5023367702960968,10095:0.5022609531879425,10011:0.5022357702255249,11615:0.4997514486312866,226:0.497764527797699,5743:0.4955942630767822,28568:0.49555498361587524,15729:0.4945904016494751,12870:0.4927067160606384,21128:0.49221545457839966,252:0.4921784996986389,14639:0.4921281337738037,10959:0.4909350872039795,13224:0.4879763126373291,19648:0.4863189458847046,14290:0.4861541986465454,6739:0.4860285520553589,8461:0.4852759838104248,122:0.4850695729255676,7899:0.48190146684646606,247:0.48140305280685425,12386:0.48073142766952515,71:0.47983604669570923,5937:0.4775770306587219',\n",
       " '88:6099,14116|226:0.5923926532268524,4931:0.5649594962596893,14673:0.5471227467060089,5242:0.5467963516712189,178:0.5437893569469452,7561:0.5410462915897369,175:0.5406336188316345,5743:0.5386546552181244,10095:0.537630021572113,22923:0.536647379398346,8332:0.5362403690814972,12254:0.5325556993484497,15429:0.5290104746818542,23430:0.5266377329826355,12396:0.5261344611644745,7143:0.5258535742759705,14114:0.5253073275089264,21240:0.5240292847156525,20750:0.5229442119598389,232:0.520389050245285,19339:0.5203543603420258,256:0.5201099216938019,122:0.5201048851013184,252:0.5185211300849915,228:0.5177015066146851,5248:0.5173419415950775,12412:0.5172232687473297,17366:0.5170993208885193,12183:0.515941321849823',\n",
       " '131161:44438,103374,98057|129527:0.6380729377269745,129338:0.5624463856220245,148945:0.5586225092411041,137720:0.5563849806785583,82112:0.5171921849250793,116401:0.5156578123569489,209834:0.5131413340568542,149100:0.5108790993690491,165653:0.5066673755645752,18596:0.5022391080856323,58018:0.5021267831325531,154059:0.5020325481891632,21128:0.49872297048568726,12386:0.4972802400588989,7475:0.49460554122924805,247:0.49407076835632324,13224:0.49255597591400146,142283:0.49079108238220215,128188:0.4854964017868042,138024:0.4853624105453491,5743:0.481913685798645,120580:0.48158615827560425,113428:0.48134440183639526,10095:0.4798920750617981,31578:0.47851598262786865,128151:0.47844868898391724,107306:0.4768754839897156,155975:0.47660624980926514,153780:0.4764794707298279',\n",
       " '262235:260098,263611|266592:0.5583446025848389,267921:0.5472792088985443,273664:0.546760231256485,252510:0.542271077632904,277244:0.540469229221344,250987:0.5376806259155273,272250:0.5319875180721283,279091:0.5303395986557007,258461:0.5209315717220306,272795:0.519251674413681,276562:0.5140474736690521,249867:0.5135102272033691,232440:0.5067039430141449,268627:0.5052886307239532,268185:0.5049909949302673,267973:0.5026297271251678,259134:0.49912750720977783,279819:0.49828505516052246,274069:0.49709588289260864,222838:0.4927701950073242,258105:0.4923892617225647,200380:0.491538405418396,218192:0.4894176125526428,252014:0.48937124013900757,208423:0.48855262994766235,246579:0.4875096082687378,265592:0.48646336793899536,233129:0.4850082993507385,276996:0.4848597049713135',\n",
       " '94:15392,2,9779|7247:0.5841489434242249,146:0.5656229257583618,9779:0.537705659866333,17151:0.53440722823143,19246:0.5330432653427124,5335:0.5216357111930847,17809:0.5109526813030243,122:0.5083074271678925,7618:0.5033199787139893,16399:0.4987555146217346,7143:0.49868911504745483,9908:0.48941171169281006,18596:0.4875006079673767,15094:0.4874197244644165,170:0.48472505807876587,20750:0.4846750497817993,23758:0.48022305965423584,17023:0.480127215385437,23921:0.4785252809524536,23581:0.4733157157897949,10475:0.46885937452316284,16888:0.46522170305252075,14673:0.4648444652557373,17696:0.46299952268600464,18908:0.46297574043273926,13103:0.4616197347640991,14523:0.46001553535461426,8989:0.45675432682037354,7282:0.4559858441352844',\n",
       " '131171:202560,96651,172374|155015:0.565584272146225,125648:0.5367052257061005,189051:0.5351463258266449,132174:0.5254625082015991,121062:0.521513819694519,131394:0.5212510228157043,108561:0.5181382298469543,151171:0.5096792280673981,109137:0.5075389742851257,137460:0.5074848830699921,116403:0.5060890913009644,119240:0.5056057870388031,196969:0.5034866631031036,135009:0.499738872051239,133948:0.4986878037452698,111617:0.49789685010910034,151044:0.496370792388916,112907:0.49564164876937866,138124:0.4916880130767822,110019:0.4877369999885559,171474:0.48768556118011475,160241:0.4853881597518921,115231:0.4845438599586487,141777:0.4825923442840576,146042:0.4816818833351135,156111:0.4793735146522522,133332:0.4784233570098877,198641:0.4774026870727539,164395:0.4744494557380676',\n",
       " '393320:394988|338727:0.4970031976699829,330580:0.4905130863189697,402600:0.4793444871902466,247511:0.477580189704895,400601:0.47059333324432373,397772:0.46697837114334106,274431:0.4654637575149536,327940:0.4628816843032837,229140:0.4609065651893616,309464:0.4594845175743103,331538:0.45733654499053955,215865:0.45646119117736816,401393:0.454318642616272,405645:0.45055097341537476,390859:0.44954776763916016,401746:0.4480627179145813,401718:0.4479663372039795,252009:0.447900652885437,402953:0.44687604904174805,289163:0.44354963302612305,250144:0.4425305724143982,355484:0.4397367238998413,370995:0.43883997201919556,329381:0.4371534585952759,296346:0.43659019470214844,336741:0.42758142948150635,210280:0.42691826820373535,337365:0.4246119260787964,337427:0.4228271245956421',\n",
       " '131180:134058,132491,131646|397859:0.46698570251464844,352934:0.432883083820343,395262:0.4291911721229553,322740:0.4270162582397461,365487:0.42159122228622437,317516:0.4207202196121216,346928:0.41937655210494995,322545:0.41274791955947876,80742:0.4124152660369873,328615:0.41196900606155396,182179:0.4100646376609802,305043:0.4059394598007202,97247:0.402334988117218,333552:0.4022716283798218,242666:0.4021035432815552,183942:0.4005467891693115,329739:0.4002532958984375,258746:0.4001810550689697,402455:0.39901232719421387,380048:0.39877355098724365,168167:0.39771366119384766,252492:0.39747923612594604,164091:0.39657455682754517,243692:0.39527833461761475,309127:0.39474523067474365,367221:0.3940364718437195,84215:0.3931847810745239,383643:0.3926389813423157,320899:0.39262497425079346',\n",
       " '393332:405833,414629|347555:0.3677768111228943,361696:0.36540687084198,36060:0.3538210391998291,32164:0.35379523038864136,35731:0.3492463231086731,101186:0.3478972315788269,348524:0.346183717250824,33475:0.34303855895996094,94701:0.34207451343536377,33192:0.33653706312179565,80543:0.3337252140045166,37511:0.33149057626724243,366294:0.32964837551116943,39317:0.3254815340042114,50801:0.3229197859764099,83275:0.32126545906066895,33695:0.3212015628814697,140117:0.3199154734611511,38111:0.3191898465156555,26098:0.3186240792274475,69902:0.3184375762939453,281394:0.317471444606781,37434:0.31676167249679565,381574:0.3159475326538086,161632:0.3141995072364807,69361:0.3127705454826355,106226:0.3127084970474243,67631:0.31247228384017944,67140:0.3123515248298645',\n",
       " '262266:262871|262871:0.5464012026786804,275225:0.49430984258651733,240712:0.45293229818344116,209245:0.44876253604888916,277491:0.4416632056236267,217882:0.4407743215560913,206747:0.4387361407279968,257970:0.4363645315170288,180618:0.43603140115737915,212019:0.43481820821762085,225662:0.42860591411590576,212615:0.42759180068969727,170857:0.42571598291397095,302995:0.4225764870643616,180119:0.42067110538482666,130750:0.41741442680358887,321613:0.4160064458847046,269320:0.41460371017456055,140660:0.41436320543289185,268920:0.41249001026153564,212798:0.4107511043548584,147464:0.41038745641708374,248582:0.40723830461502075,217962:0.4051821827888489,212919:0.4046412706375122,262031:0.40335339307785034,146081:0.4029673933982849,169359:0.39910078048706055,182387:0.3989567756652832']"
      ]
     },
     "execution_count": 54,
     "metadata": {},
     "output_type": "execute_result"
    }
   ],
   "source": [
    "exported_rank[:20]"
   ]
  },
  {
   "cell_type": "markdown",
   "metadata": {},
   "source": [
    "### Retrieval evaluation"
   ]
  },
  {
   "cell_type": "code",
   "execution_count": 55,
   "metadata": {},
   "outputs": [
    {
     "name": "stdout",
     "output_type": "stream",
     "text": [
      "Total of queries: 16995\n"
     ]
    }
   ],
   "source": [
    "print(\"Total of queries:\", len(retrieval.test))"
   ]
  },
  {
   "cell_type": "markdown",
   "metadata": {},
   "source": [
    "#### Getting the model trained"
   ]
  },
  {
   "cell_type": "code",
   "execution_count": 56,
   "metadata": {},
   "outputs": [
    {
     "data": {
      "text/plain": [
       "'bert_preprocessing_baseline_1000_feature_1000epochs_64batch(eclipse)'"
      ]
     },
     "execution_count": 56,
     "metadata": {},
     "output_type": "execute_result"
    }
   ],
   "source": [
    "SAVE_PATH_FEATURE.replace('@number_of_epochs@', str(epochs))"
   ]
  },
  {
   "cell_type": "code",
   "execution_count": 57,
   "metadata": {},
   "outputs": [
    {
     "name": "stdout",
     "output_type": "stream",
     "text": [
      "__________________________________________________________________________________________________\n",
      "Layer (type)                    Output Shape         Param #     Connected to                     \n",
      "==================================================================================================\n",
      "info_in (InputLayer)            (None, 1682)         0                                            \n",
      "__________________________________________________________________________________________________\n",
      "title_in (InputLayer)           (None, 20)           0                                            \n",
      "__________________________________________________________________________________________________\n",
      "desc_in (InputLayer)            (None, 20)           0                                            \n",
      "__________________________________________________________________________________________________\n",
      "FeatureMlpGenerationModel (Mode (None, 300)          504900      info_in[0][0]                    \n",
      "__________________________________________________________________________________________________\n",
      "FeatureLstmGenerationModel (Mod (None, 300)          581804100   title_in[0][0]                   \n",
      "__________________________________________________________________________________________________\n",
      "FeatureCNNGenerationModel (Mode (None, 300)          581850792   desc_in[0][0]                    \n",
      "__________________________________________________________________________________________________\n",
      "merge_features_in (Concatenate) (None, 900)          0           FeatureMlpGenerationModel[1][0]  \n",
      "                                                                 FeatureLstmGenerationModel[1][0] \n",
      "                                                                 FeatureCNNGenerationModel[1][0]  \n",
      "==================================================================================================\n",
      "Total params: 1,164,159,792\n",
      "Trainable params: 958,392\n",
      "Non-trainable params: 1,163,201,400\n",
      "__________________________________________________________________________________________________\n"
     ]
    }
   ],
   "source": [
    "encoded_anchor.summary()"
   ]
  },
  {
   "cell_type": "code",
   "execution_count": 58,
   "metadata": {},
   "outputs": [
    {
     "data": {
      "text/plain": [
       "27321"
      ]
     },
     "execution_count": 58,
     "metadata": {},
     "output_type": "execute_result"
    }
   ],
   "source": [
    "len(exported_rank)"
   ]
  },
  {
   "cell_type": "code",
   "execution_count": 59,
   "metadata": {},
   "outputs": [
    {
     "data": {
      "text/plain": [
       "'data/processed/eclipse/bert/exported_rank_baseline_1000.txt'"
      ]
     },
     "execution_count": 59,
     "metadata": {},
     "output_type": "execute_result"
    }
   ],
   "source": [
    "EXPORT_RANK_PATH = os.path.join(DIR, 'exported_rank_{}.txt'.format(METHOD))\n",
    "EXPORT_RANK_PATH"
   ]
  },
  {
   "cell_type": "code",
   "execution_count": 60,
   "metadata": {},
   "outputs": [],
   "source": [
    "with open(EXPORT_RANK_PATH, 'w') as file_out:\n",
    "    for row in exported_rank:\n",
    "        file_out.write(row + \"\\n\")"
   ]
  },
  {
   "cell_type": "code",
   "execution_count": 61,
   "metadata": {},
   "outputs": [
    {
     "data": {
      "text/plain": [
       "{'1 - recall_at_5': 0.43,\n",
       " '2 - recall_at_10': 0.5,\n",
       " '3 - recall_at_15': 0.54,\n",
       " '4 - recall_at_20': 0.57,\n",
       " '5 - recall_at_25': 0.59}"
      ]
     },
     "execution_count": 61,
     "metadata": {},
     "output_type": "execute_result"
    }
   ],
   "source": [
    "report = experiment.evaluation.evaluate(EXPORT_RANK_PATH)\n",
    "report"
   ]
  },
  {
   "cell_type": "markdown",
   "metadata": {},
   "source": [
    "#### Some ideas to visualizate"
   ]
  },
  {
   "cell_type": "markdown",
   "metadata": {},
   "source": [
    "- https://towardsdatascience.com/building-a-recommendation-system-using-neural-network-embeddings-1ef92e5c80c9"
   ]
  }
 ],
 "metadata": {
  "accelerator": "GPU",
  "colab": {
   "collapsed_sections": [],
   "name": "[baseline] Bug triage with Deep Learning.ipynb",
   "provenance": [],
   "toc_visible": true,
   "version": "0.3.2"
  },
  "kernelspec": {
   "display_name": "Python 3",
   "language": "python",
   "name": "python3"
  },
  "language_info": {
   "codemirror_mode": {
    "name": "ipython",
    "version": 3
   },
   "file_extension": ".py",
   "mimetype": "text/x-python",
   "name": "python",
   "nbconvert_exporter": "python",
   "pygments_lexer": "ipython3",
   "version": "3.5.2"
  }
 },
 "nbformat": 4,
 "nbformat_minor": 1
}
