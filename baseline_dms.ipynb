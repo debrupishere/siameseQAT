{
 "cells": [
  {
   "cell_type": "markdown",
   "metadata": {
    "colab_type": "text",
    "id": "PtdA1qs_UQP1"
   },
   "source": [
    "# Bug triage with Deep Learning\n",
    "\n",
    "https://github.com/AdrianUng/keras-triplet-loss-mnist/blob/master/Triplet_loss_KERAS_semi_hard_from_TF.ipynb"
   ]
  },
  {
   "cell_type": "code",
   "execution_count": 1,
   "metadata": {},
   "outputs": [
    {
     "name": "stderr",
     "output_type": "stream",
     "text": [
      "Using TensorFlow backend.\n"
     ]
    }
   ],
   "source": [
    "import keras"
   ]
  },
  {
   "cell_type": "code",
   "execution_count": 2,
   "metadata": {
    "colab": {},
    "colab_type": "code",
    "id": "qnSCLmiomFE1"
   },
   "outputs": [],
   "source": [
    "from __future__ import print_function, division"
   ]
  },
  {
   "cell_type": "code",
   "execution_count": 3,
   "metadata": {
    "colab": {},
    "colab_type": "code",
    "id": "OIha-SERnD72"
   },
   "outputs": [],
   "source": [
    "import re\n",
    "import numpy as np\n",
    "import pandas as pd\n",
    "\n",
    "import os\n",
    "from tqdm import tqdm_notebook as tqdm\n",
    "import matplotlib.pyplot as plt\n",
    "import sys\n",
    "from annoy import AnnoyIndex\n",
    "nb_dir = os.path.split(os.getcwd())[0]\n",
    "if nb_dir not in sys.path:\n",
    "    sys.path.append(nb_dir)\n",
    "    \n",
    "%matplotlib inline"
   ]
  },
  {
   "cell_type": "code",
   "execution_count": 4,
   "metadata": {
    "colab": {
     "base_uri": "https://localhost:8080/",
     "height": 34
    },
    "colab_type": "code",
    "id": "c57gQiuAnJAe",
    "outputId": "9eaf2d3f-619a-492d-f40b-6ba2c48426fa"
   },
   "outputs": [],
   "source": [
    "from keras.layers import Conv1D, Input, Add, Activation, Dropout, Embedding, MaxPooling1D, \\\n",
    "    GlobalMaxPool1D, Flatten, Dense, Concatenate, BatchNormalization\n",
    "from keras.models import Sequential, Model\n",
    "from keras.regularizers import l2\n",
    "from keras.initializers import TruncatedNormal\n",
    "from keras.layers.advanced_activations import LeakyReLU, ELU\n",
    "from keras import optimizers"
   ]
  },
  {
   "cell_type": "code",
   "execution_count": 5,
   "metadata": {},
   "outputs": [],
   "source": [
    "from methods.baseline import Baseline\n",
    "from methods.experiments import Experiment\n",
    "from methods.evaluation import Evaluation\n",
    "from methods.retrieval import Retrieval"
   ]
  },
  {
   "cell_type": "markdown",
   "metadata": {
    "colab_type": "text",
    "id": "8uQou7m2-bFO"
   },
   "source": [
    "## Configurações Globais"
   ]
  },
  {
   "cell_type": "code",
   "execution_count": 6,
   "metadata": {
    "colab": {},
    "colab_type": "code",
    "id": "G-Kn3x_K-aZj"
   },
   "outputs": [],
   "source": [
    "MAX_SEQUENCE_LENGTH_T = 20 # 100\n",
    "MAX_SEQUENCE_LENGTH_D = 20 # 500\n",
    "EMBEDDING_DIM = 300\n",
    "MAX_NB_WORDS = 20000\n",
    "'''\n",
    "    Configuration\n",
    "'''\n",
    "epochs = 1000\n",
    "freeze_train = .1 # 10% with freeze weights\n",
    "best_loss = 1\n",
    "best_epoch = 0\n",
    "verbose = 0\n",
    "loss = 1"
   ]
  },
  {
   "cell_type": "markdown",
   "metadata": {},
   "source": [
    "### Parse bugs preproprecessed"
   ]
  },
  {
   "cell_type": "code",
   "execution_count": 7,
   "metadata": {},
   "outputs": [],
   "source": [
    "# Domain to use\n",
    "DOMAIN = 'netbeans'\n",
    "METHOD = 'baseline_{}'.format(epochs)\n",
    "PREPROCESSING = 'bert'\n",
    "TOKEN = 'bert'\n",
    "# Dataset paths\n",
    "DIR = 'data/processed/{}/{}'.format(DOMAIN, PREPROCESSING)\n",
    "DIR_PAIRS = 'data/normalized/{}'.format(DOMAIN)\n",
    "DATASET = os.path.join('data/normalized/{}'.format(DOMAIN), '{}.csv'.format(DOMAIN))\n",
    "# Glove embeddings\n",
    "GLOVE_DIR='data/embed'\n",
    "# Save model\n",
    "SAVE_PATH = '{}_preprocessing_{}_feature@number_of_epochs@epochs_64batch({})'.format(PREPROCESSING, METHOD, DOMAIN)\n",
    "SAVE_PATH_FEATURE = '{}_preprocessing_{}_feature_@number_of_epochs@epochs_64batch({})'.format(PREPROCESSING, METHOD, DOMAIN)\n",
    "\n",
    "# Extract CORPUs\n",
    "EXTRACT_CORPUS = False"
   ]
  },
  {
   "cell_type": "code",
   "execution_count": 8,
   "metadata": {},
   "outputs": [],
   "source": [
    "import os\n",
    "\n",
    "pretrained_path = 'uncased_L-12_H-768_A-12'\n",
    "config_path = os.path.join(pretrained_path, 'bert_config.json')\n",
    "model_path = os.path.join(pretrained_path, 'bert_model.ckpt')\n",
    "vocab_path = os.path.join(pretrained_path, 'vocab.txt')"
   ]
  },
  {
   "cell_type": "code",
   "execution_count": 9,
   "metadata": {},
   "outputs": [],
   "source": [
    "from keras_bert import load_vocabulary\n",
    "\n",
    "token_dict = load_vocabulary(vocab_path)"
   ]
  },
  {
   "cell_type": "code",
   "execution_count": 10,
   "metadata": {},
   "outputs": [],
   "source": [
    "baseline = Baseline(DOMAIN, DIR, DATASET, MAX_SEQUENCE_LENGTH_T, MAX_SEQUENCE_LENGTH_D,\n",
    "                   token_dict['[CLS]'], token_dict['[SEP]'])\n",
    "evaluation = Evaluation(verbose=0)\n",
    "retrieval = Retrieval()\n",
    "experiment = Experiment(baseline, evaluation)"
   ]
  },
  {
   "cell_type": "code",
   "execution_count": 11,
   "metadata": {
    "scrolled": true
   },
   "outputs": [],
   "source": [
    "experiment.set_retrieval(retrieval, baseline, DOMAIN)"
   ]
  },
  {
   "cell_type": "markdown",
   "metadata": {},
   "source": [
    "#### Loading bug ids in memory"
   ]
  },
  {
   "cell_type": "code",
   "execution_count": 12,
   "metadata": {
    "scrolled": true
   },
   "outputs": [
    {
     "name": "stdout",
     "output_type": "stream",
     "text": [
      "Reading bug ids\n"
     ]
    },
    {
     "data": {
      "text/plain": [
       "216715"
      ]
     },
     "execution_count": 12,
     "metadata": {},
     "output_type": "execute_result"
    }
   ],
   "source": [
    "experiment.load_ids()\n",
    "len(baseline.bug_ids)"
   ]
  },
  {
   "cell_type": "markdown",
   "metadata": {
    "colab_type": "text",
    "id": "vqzt5EKzqzcI"
   },
   "source": [
    "#### Dicionário de títulos e descrições"
   ]
  },
  {
   "cell_type": "code",
   "execution_count": 13,
   "metadata": {
    "scrolled": true
   },
   "outputs": [
    {
     "data": {
      "application/vnd.jupyter.widget-view+json": {
       "model_id": "396b750fb1434454b01a4ea532bed8bc",
       "version_major": 2,
       "version_minor": 0
      },
      "text/plain": [
       "HBox(children=(IntProgress(value=0, max=216715), HTML(value='')))"
      ]
     },
     "metadata": {},
     "output_type": "display_data"
    },
    {
     "name": "stdout",
     "output_type": "stream",
     "text": [
      "\n"
     ]
    },
    {
     "data": {
      "application/vnd.jupyter.widget-view+json": {
       "model_id": "e9d30cd6d1074b0f8c45206060344544",
       "version_major": 2,
       "version_minor": 0
      },
      "text/plain": [
       "HBox(children=(IntProgress(value=1, bar_style='info', max=1), HTML(value='')))"
      ]
     },
     "metadata": {},
     "output_type": "display_data"
    },
    {
     "name": "stdout",
     "output_type": "stream",
     "text": [
      "\n",
      "CPU times: user 39.9 s, sys: 12 s, total: 51.9 s\n",
      "Wall time: 1min 41s\n"
     ]
    }
   ],
   "source": [
    "%%time\n",
    "\n",
    "experiment.load_bugs(TOKEN)\n",
    "len(baseline.sentence_dict)"
   ]
  },
  {
   "cell_type": "markdown",
   "metadata": {},
   "source": [
    "#### Hashing bugs by buckets"
   ]
  },
  {
   "cell_type": "code",
   "execution_count": 14,
   "metadata": {
    "scrolled": false
   },
   "outputs": [
    {
     "data": {
      "application/vnd.jupyter.widget-view+json": {
       "model_id": "74293c0815794d29a7e743884d15d258",
       "version_major": 2,
       "version_minor": 0
      },
      "text/plain": [
       "HBox(children=(IntProgress(value=0, max=216715), HTML(value='')))"
      ]
     },
     "metadata": {},
     "output_type": "display_data"
    },
    {
     "name": "stdout",
     "output_type": "stream",
     "text": [
      "\n"
     ]
    }
   ],
   "source": [
    "issues_by_buckets = experiment.get_buckets_for_bugs()"
   ]
  },
  {
   "cell_type": "markdown",
   "metadata": {},
   "source": [
    "#### Prepare the train and test"
   ]
  },
  {
   "cell_type": "code",
   "execution_count": 15,
   "metadata": {},
   "outputs": [],
   "source": [
    "# path_train='train_chronological', path_test='test_chronological'\n",
    "experiment.prepare_dataset(issues_by_buckets, path_train='train_chronological', path_test='test_chronological')\n",
    "# Read and create the test queries duplicates\n",
    "retrieval.create_queries()"
   ]
  },
  {
   "cell_type": "code",
   "execution_count": 16,
   "metadata": {},
   "outputs": [
    {
     "data": {
      "text/plain": [
       "[[23370, 26780],\n",
       " [103239, 105067],\n",
       " [61954, 73016],\n",
       " [204317, 202674],\n",
       " [220178, 220147],\n",
       " [195089, 195269],\n",
       " [221186, 219028],\n",
       " [102315, 105397],\n",
       " [196611, 193682],\n",
       " [50448, 50450]]"
      ]
     },
     "execution_count": 16,
     "metadata": {},
     "output_type": "execute_result"
    }
   ],
   "source": [
    "baseline.train_data[:10]"
   ]
  },
  {
   "cell_type": "markdown",
   "metadata": {},
   "source": [
    "#### Recovery bug ids from train"
   ]
  },
  {
   "cell_type": "code",
   "execution_count": 17,
   "metadata": {},
   "outputs": [],
   "source": [
    "bug_train_ids = experiment.get_train_ids(baseline.train_data)"
   ]
  },
  {
   "cell_type": "markdown",
   "metadata": {},
   "source": [
    "### Export the corpus train"
   ]
  },
  {
   "cell_type": "code",
   "execution_count": 18,
   "metadata": {},
   "outputs": [],
   "source": [
    "if EXTRACT_CORPUS:\n",
    "    corpus = []\n",
    "    export_file = open(os.path.join(DIR, 'corpus_train.txt'), 'w')\n",
    "    for bug_id in tqdm(baseline.bug_set):\n",
    "        bug = baseline.bug_set[bug_id]\n",
    "        title = bug['title']\n",
    "        desc = bug['description']\n",
    "        export_file.write(\"{}\\n{}\\n\".format(title, desc))\n",
    "    export_file.close()"
   ]
  },
  {
   "cell_type": "markdown",
   "metadata": {
    "colab_type": "text",
    "id": "a6Obtop6UIVD"
   },
   "source": [
    "# Generating tiple of batches"
   ]
  },
  {
   "cell_type": "code",
   "execution_count": 19,
   "metadata": {
    "scrolled": true
   },
   "outputs": [
    {
     "data": {
      "text/plain": [
       "{'bug_severity': '2\\n',\n",
       " 'bug_status': '0\\n',\n",
       " 'component': '95\\n',\n",
       " 'creation_ts': '2012-10-03 12:07:00 +0000',\n",
       " 'delta_ts': '2012-10-11 09:20:52 +0000',\n",
       " 'description': \"[CLS] consider following case : a node has a property ##set with a property which have a name and a display ##name . i found no way how to force the ps to rep ##aint the property display ##name in the embedded j ##table after its change by the ##pro ##per ##ty . set ##dis ##play ##name ( . . . ) ; the only way i found is to call then ##ode . fire ##pro ##per ##ty ##chang ##e ( the ##pro ##per ##tyn ##ame , null , current ##val ##ue ##oft ##he ##pro ##per ##ty ) ; even this is not enough as it normally causes the ps to rep ##aint the property value only . after i call this and force the component to rep ##aint ( for example by res ##izing the window ) the display ##name is rendered properly . forcing the whole ps to rep ##aint doesn ' t seem a good idea to me so . . . . . . as i found no reasonable way how to force the ps to rep ##aint also the property name so i ' ve modified the ps code a bit so it also ref ##resh ##es the rec ##tangle where the property value is painted . even if this looks quite harmless i ' d be happy if there was more elegant way to do so . for example the property ##su ##pp ##ort could over ##ride the set ##dis ##play ##name ( ) and ensure the cell to be rep ##aint ##ed or something like that . the chang ##set is here : http : / / h ##g . net ##be ##ans . org / web - main / rev / d ##0 ##a ##53 ##bb ##1 ##d ##48 ##7 [SEP]\",\n",
       " 'description_segment': [0,\n",
       "  0,\n",
       "  0,\n",
       "  0,\n",
       "  0,\n",
       "  0,\n",
       "  0,\n",
       "  0,\n",
       "  0,\n",
       "  0,\n",
       "  0,\n",
       "  0,\n",
       "  0,\n",
       "  0,\n",
       "  0,\n",
       "  0,\n",
       "  0,\n",
       "  0,\n",
       "  0,\n",
       "  0,\n",
       "  0,\n",
       "  0,\n",
       "  0,\n",
       "  0,\n",
       "  0,\n",
       "  0,\n",
       "  0,\n",
       "  0,\n",
       "  0,\n",
       "  0,\n",
       "  0,\n",
       "  0,\n",
       "  0,\n",
       "  0,\n",
       "  0,\n",
       "  0,\n",
       "  0,\n",
       "  0,\n",
       "  0,\n",
       "  0,\n",
       "  0,\n",
       "  0,\n",
       "  0,\n",
       "  0,\n",
       "  0,\n",
       "  0,\n",
       "  0,\n",
       "  0,\n",
       "  0,\n",
       "  0,\n",
       "  0,\n",
       "  0,\n",
       "  0,\n",
       "  0,\n",
       "  0,\n",
       "  0,\n",
       "  0,\n",
       "  0,\n",
       "  0,\n",
       "  0,\n",
       "  0,\n",
       "  0,\n",
       "  0,\n",
       "  0,\n",
       "  0,\n",
       "  0,\n",
       "  0,\n",
       "  0,\n",
       "  0,\n",
       "  0,\n",
       "  0,\n",
       "  0,\n",
       "  0,\n",
       "  0,\n",
       "  0,\n",
       "  0,\n",
       "  0,\n",
       "  0,\n",
       "  0,\n",
       "  0,\n",
       "  0,\n",
       "  0,\n",
       "  0,\n",
       "  0,\n",
       "  0,\n",
       "  0,\n",
       "  0,\n",
       "  0,\n",
       "  0,\n",
       "  0,\n",
       "  0,\n",
       "  0,\n",
       "  0,\n",
       "  0,\n",
       "  0,\n",
       "  0,\n",
       "  0,\n",
       "  0,\n",
       "  0,\n",
       "  0,\n",
       "  0,\n",
       "  0,\n",
       "  0,\n",
       "  0,\n",
       "  0,\n",
       "  0,\n",
       "  0,\n",
       "  0,\n",
       "  0,\n",
       "  0,\n",
       "  0,\n",
       "  0,\n",
       "  0,\n",
       "  0,\n",
       "  0,\n",
       "  0,\n",
       "  0,\n",
       "  0,\n",
       "  0,\n",
       "  0,\n",
       "  0,\n",
       "  0,\n",
       "  0,\n",
       "  0,\n",
       "  0,\n",
       "  0,\n",
       "  0,\n",
       "  0,\n",
       "  0,\n",
       "  0,\n",
       "  0,\n",
       "  0,\n",
       "  0,\n",
       "  0,\n",
       "  0,\n",
       "  0,\n",
       "  0,\n",
       "  0,\n",
       "  0,\n",
       "  0,\n",
       "  0,\n",
       "  0,\n",
       "  0,\n",
       "  0,\n",
       "  0,\n",
       "  0,\n",
       "  0,\n",
       "  0,\n",
       "  0,\n",
       "  0],\n",
       " 'description_token': array([  101,  5136,  2206,  2553,  1024,  1037, 13045,  2038,  1037,\n",
       "         3200, 13462,  2007,  1037,  3200,  2029,  2031,  1037,  2171,\n",
       "         1998,   102]),\n",
       " 'dup_id': '[]',\n",
       " 'issue_id': 219443,\n",
       " 'priority': '1\\n',\n",
       " 'product': '16\\n',\n",
       " 'resolution': 'FIXED',\n",
       " 'textual_token': array([  101,  2129,  2000,  2486,  1996,  8827,  2000, 16360, 22325,\n",
       "         3200,  2044,  2049,  4653, 18442,  2689,  1029,     0,     0,\n",
       "            0,   102,   101,  5136,  2206,  2553,  1024,  1037, 13045,\n",
       "         2038,  1037,  3200, 13462,  2007,  1037,  3200,  2029,  2031,\n",
       "         1037,  2171,  1998,   102]),\n",
       " 'title': '[CLS] how to force the ps to rep ##aint property after its display ##name change ? [SEP]',\n",
       " 'title_segment': [0,\n",
       "  0,\n",
       "  0,\n",
       "  0,\n",
       "  0,\n",
       "  0,\n",
       "  0,\n",
       "  0,\n",
       "  0,\n",
       "  0,\n",
       "  0,\n",
       "  0,\n",
       "  0,\n",
       "  0,\n",
       "  0,\n",
       "  0,\n",
       "  0,\n",
       "  0,\n",
       "  0,\n",
       "  0,\n",
       "  0,\n",
       "  0,\n",
       "  0,\n",
       "  0,\n",
       "  0,\n",
       "  0,\n",
       "  0,\n",
       "  0,\n",
       "  0,\n",
       "  0,\n",
       "  0,\n",
       "  0,\n",
       "  0,\n",
       "  0,\n",
       "  0,\n",
       "  0,\n",
       "  0,\n",
       "  0,\n",
       "  0,\n",
       "  0,\n",
       "  0,\n",
       "  0,\n",
       "  0,\n",
       "  0,\n",
       "  0,\n",
       "  0,\n",
       "  0,\n",
       "  0,\n",
       "  0,\n",
       "  0],\n",
       " 'title_token': array([  101,  2129,  2000,  2486,  1996,  8827,  2000, 16360, 22325,\n",
       "         3200,  2044,  2049,  4653, 18442,  2689,  1029,     0,     0,\n",
       "            0,   102]),\n",
       " 'version': '1\\n'}"
      ]
     },
     "execution_count": 19,
     "metadata": {},
     "output_type": "execute_result"
    }
   ],
   "source": [
    "idx = np.random.choice(baseline.bug_ids, 1)[0]\n",
    "baseline.bug_set[idx]"
   ]
  },
  {
   "cell_type": "markdown",
   "metadata": {},
   "source": [
    "### Generating the batch test"
   ]
  },
  {
   "cell_type": "code",
   "execution_count": 20,
   "metadata": {},
   "outputs": [
    {
     "data": {
      "text/plain": [
       "('Train ', 34596)"
      ]
     },
     "execution_count": 20,
     "metadata": {},
     "output_type": "execute_result"
    }
   ],
   "source": [
    "\"Train \", len(baseline.dup_sets_train)"
   ]
  },
  {
   "cell_type": "code",
   "execution_count": 21,
   "metadata": {},
   "outputs": [],
   "source": [
    "import random\n",
    "\n",
    "# data - path\n",
    "# batch_size - 128\n",
    "# n_neg - 1\n",
    "def batch_iterator(self, retrieval, model, data, dup_sets, bug_ids, \n",
    "                   batch_size, n_neg, issues_by_buckets, TRIPLET_HARD=False, FLOATING_PADDING=False):\n",
    "    # global train_data\n",
    "    # global self.dup_sets\n",
    "    # global self.bug_ids\n",
    "    # global self.bug_set\n",
    "\n",
    "    random.shuffle(data)\n",
    "\n",
    "    batch_features = {'title' : [], 'desc' : [], 'info' : []}\n",
    "\n",
    "    n_train = len(data)\n",
    "\n",
    "    batch_triplets, batch_bugs_anchor, batch_bugs_pos, batch_bugs_neg, batch_bugs = [], [], [], [], []\n",
    "\n",
    "    all_bugs = list(issues_by_buckets.keys())\n",
    "    buckets = retrieval.buckets\n",
    "\n",
    "    for offset in range(batch_size):\n",
    "        anchor, pos = data[offset][0], data[offset][1]\n",
    "        batch_bugs_anchor.append(anchor)\n",
    "        batch_bugs_pos.append(pos)\n",
    "        batch_bugs.append(anchor)\n",
    "        batch_bugs.append(pos)\n",
    "        #batch_bugs += dup_sets[anchor]\n",
    "\n",
    "    for anchor, pos in zip(batch_bugs_anchor, batch_bugs_pos):\n",
    "        while True:\n",
    "            neg = self.get_neg_bug(anchor, buckets[issues_by_buckets[anchor]], issues_by_buckets, all_bugs)\n",
    "            bug_anchor = self.bug_set[anchor]\n",
    "            bug_pos = self.bug_set[pos]\n",
    "            if neg not in self.bug_set:\n",
    "                continue\n",
    "            batch_bugs.append(neg)\n",
    "            batch_bugs_neg.append(neg)\n",
    "            bug_neg = self.bug_set[neg]\n",
    "            break\n",
    "        \n",
    "        # triplet bug and master\n",
    "        batch_triplets.append([anchor, pos, neg])\n",
    "    \n",
    "    random.shuffle(batch_bugs)\n",
    "    \n",
    "    for bug_id in batch_bugs:\n",
    "        bug = self.bug_set[bug_id]\n",
    "        self.read_batch_bugs(batch_features, bug)\n",
    "\n",
    "    batch_features['title'] = np.array(batch_features['title'])\n",
    "    batch_features['desc'] = np.array(batch_features['desc'])\n",
    "    batch_features['info'] = np.array(batch_features['info'])\n",
    "    \n",
    "    sim = np.asarray([issues_by_buckets[bug_id] for bug_id in batch_bugs])\n",
    "\n",
    "    input_sample = {}\n",
    "\n",
    "    input_sample = { 'title' : batch_features['title'], \n",
    "                        'description' : batch_features['desc'], \n",
    "                            'info' : batch_features['info'] }\n",
    "\n",
    "    return batch_triplets, input_sample, sim #sim"
   ]
  },
  {
   "cell_type": "code",
   "execution_count": 22,
   "metadata": {
    "colab": {
     "base_uri": "https://localhost:8080/",
     "height": 51
    },
    "colab_type": "code",
    "id": "PA5CIhgz7odW",
    "outputId": "ae98fdec-1d54-4b1f-ee0e-4c5633802a18",
    "scrolled": true
   },
   "outputs": [
    {
     "name": "stdout",
     "output_type": "stream",
     "text": [
      "CPU times: user 761 ms, sys: 2.33 ms, total: 763 ms\n",
      "Wall time: 772 ms\n"
     ]
    }
   ],
   "source": [
    "%%time\n",
    "\n",
    "batch_size = 128\n",
    "batch_size_test = 128\n",
    "\n",
    "# we want a constant validation group to have a frame of reference for model performance\n",
    "batch_triplets_valid, valid_input_sample, valid_sim = batch_iterator(baseline, retrieval, None, \n",
    "                                                                                      baseline.train_data, \n",
    "                                                                                      baseline.dup_sets_train,\n",
    "                                                                                      bug_train_ids,\n",
    "                                                                                      batch_size_test, 1,\n",
    "                                                                                      issues_by_buckets)\n",
    "\n",
    "validation_sample = [valid_input_sample['title'], \n",
    "             valid_input_sample['description'],\n",
    "            valid_input_sample['info'], valid_sim]\n",
    "\n",
    "# Categorical columns\n",
    "number_of_columns_info = valid_input_sample['info'].shape[1]\n",
    "# Max sequence title\n",
    "MAX_SEQUENCE_LENGTH_T = valid_input_sample['title'].shape[1]\n",
    "MAX_SEQUENCE_LENGTH_D = valid_input_sample['description'].shape[1]"
   ]
  },
  {
   "cell_type": "code",
   "execution_count": 23,
   "metadata": {},
   "outputs": [
    {
     "data": {
      "text/plain": [
       "((384, 20), (384, 20), (384, 544), (384,))"
      ]
     },
     "execution_count": 23,
     "metadata": {},
     "output_type": "execute_result"
    }
   ],
   "source": [
    "valid_input_sample['title'].shape, valid_input_sample['description'].shape, valid_input_sample['info'].shape, valid_sim.shape"
   ]
  },
  {
   "cell_type": "markdown",
   "metadata": {
    "colab_type": "text",
    "id": "24mY22BGnkqp"
   },
   "source": [
    "### Validar entrada"
   ]
  },
  {
   "cell_type": "code",
   "execution_count": 24,
   "metadata": {
    "colab": {
     "base_uri": "https://localhost:8080/",
     "height": 796
    },
    "colab_type": "code",
    "id": "OhTbr3a5nmrh",
    "outputId": "a2d73e0f-e9ce-4d12-a5c8-f0008d2402d0",
    "scrolled": true
   },
   "outputs": [],
   "source": [
    "# %%time \n",
    "\n",
    "#baseline.display_batch(baseline.train_data, baseline.dup_sets_train, bug_train_ids, 5)"
   ]
  },
  {
   "cell_type": "code",
   "execution_count": 25,
   "metadata": {},
   "outputs": [
    {
     "data": {
      "text/plain": [
       "('Test ', 17002)"
      ]
     },
     "execution_count": 25,
     "metadata": {},
     "output_type": "execute_result"
    }
   ],
   "source": [
    "\"Test \", len(baseline.test_data)"
   ]
  },
  {
   "cell_type": "markdown",
   "metadata": {
    "colab_type": "text",
    "id": "XPrsLs4Kg4Pa"
   },
   "source": [
    "## Pre-trained embeddings\n",
    "\n",
    "Loading pretrained word vectors"
   ]
  },
  {
   "cell_type": "markdown",
   "metadata": {
    "colab_type": "text",
    "id": "6p9eE5TWoH7p"
   },
   "source": [
    "### Glove"
   ]
  },
  {
   "cell_type": "code",
   "execution_count": 26,
   "metadata": {},
   "outputs": [
    {
     "name": "stdout",
     "output_type": "stream",
     "text": [
      "vocabulary loaded\n"
     ]
    }
   ],
   "source": [
    "vocab = baseline.load_vocabulary(os.path.join(DIR, 'vocab_embed.pkl'))\n",
    "#print(np.random.choice(vocab, 10))\n",
    "# for token in vocab:\n",
    "#     print(token)"
   ]
  },
  {
   "cell_type": "code",
   "execution_count": 27,
   "metadata": {},
   "outputs": [
    {
     "data": {
      "text/plain": [
       "'Total vocabulary: 19061'"
      ]
     },
     "execution_count": 27,
     "metadata": {},
     "output_type": "execute_result"
    }
   ],
   "source": [
    "\"Total vocabulary: {}\".format(len(vocab))"
   ]
  },
  {
   "cell_type": "code",
   "execution_count": 28,
   "metadata": {},
   "outputs": [],
   "source": [
    "def generating_embed(baseline, GLOVE_DIR, EMBEDDING_DIM):\n",
    "    embeddings_index = {}\n",
    "    embed_path = os.path.join(GLOVE_DIR, 'glove.42B.300d.txt')\n",
    "    \n",
    "    f2 = open(embed_path, 'rb')\n",
    "    num_lines = sum(1 for line in f2)\n",
    "    f2.close()\n",
    "    \n",
    "    f = open(embed_path, 'rb')\n",
    "    vocab = baseline.load_vocabulary(os.path.join(baseline.DIR, 'vocab_embed.pkl'))\n",
    "    vocab_size = len(vocab) \n",
    "\n",
    "    # Initialize uniform the vector considering the Tanh activation\n",
    "    embedding_matrix = np.random.uniform(-1.0, 1.0, (num_lines + vocab_size, EMBEDDING_DIM))\n",
    "    embedding_matrix[0, :] = np.zeros(EMBEDDING_DIM)\n",
    "\n",
    "    loop = tqdm(f)\n",
    "    loop.set_description(\"Loading Glove\")\n",
    "    i = 0\n",
    "    for line in loop:\n",
    "        tokens = line.split()\n",
    "        word = tokens[0]\n",
    "        embed = np.asarray(tokens[1:], dtype='float32')\n",
    "        embeddings_index[word] = embed\n",
    "        embedding_matrix[i] = embed\n",
    "        loop.update(1)\n",
    "    f.close()\n",
    "    loop.close()\n",
    "\n",
    "    print('Total %s word vectors in Glove 42B 300d.' % len(embeddings_index))\n",
    "\n",
    "    loop = tqdm(total=vocab_size)\n",
    "    loop.set_description('Loading embedding from dataset pretrained')\n",
    "    \n",
    "    for word, embed in vocab.items():\n",
    "        if word in embeddings_index:\n",
    "            embedding_matrix[i] = embeddings_index[word]\n",
    "        else:\n",
    "            embedding_matrix[i] = np.asarray(embed, dtype='float32')\n",
    "        loop.update(1)\n",
    "        i+=1\n",
    "    loop.close()\n",
    "    baseline.embedding_matrix = embedding_matrix"
   ]
  },
  {
   "cell_type": "code",
   "execution_count": 29,
   "metadata": {
    "colab": {
     "base_uri": "https://localhost:8080/",
     "height": 85
    },
    "colab_type": "code",
    "id": "QY-ef3OGoIiq",
    "outputId": "55f4c93c-98bb-4bac-92f2-76bd3b777605"
   },
   "outputs": [
    {
     "name": "stdout",
     "output_type": "stream",
     "text": [
      "vocabulary loaded\n"
     ]
    },
    {
     "data": {
      "application/vnd.jupyter.widget-view+json": {
       "model_id": "75074cae406545899a1dfd3175a62801",
       "version_major": 2,
       "version_minor": 0
      },
      "text/plain": [
       "HBox(children=(IntProgress(value=1, bar_style='info', max=1), HTML(value='')))"
      ]
     },
     "metadata": {},
     "output_type": "display_data"
    },
    {
     "name": "stdout",
     "output_type": "stream",
     "text": [
      "\n",
      "Total 1917494 word vectors in Glove 42B 300d.\n"
     ]
    },
    {
     "data": {
      "application/vnd.jupyter.widget-view+json": {
       "model_id": "032d9e291f49404b8775d7511c684c83",
       "version_major": 2,
       "version_minor": 0
      },
      "text/plain": [
       "HBox(children=(IntProgress(value=0, max=19061), HTML(value='')))"
      ]
     },
     "metadata": {},
     "output_type": "display_data"
    },
    {
     "name": "stdout",
     "output_type": "stream",
     "text": [
      "\n",
      "CPU times: user 1min 33s, sys: 3.18 s, total: 1min 36s\n",
      "Wall time: 1min 36s\n"
     ]
    }
   ],
   "source": [
    "%%time\n",
    "\n",
    "generating_embed(baseline, GLOVE_DIR=GLOVE_DIR, EMBEDDING_DIM=EMBEDDING_DIM) # MAX_NB_WORDS=MAX_NB_WORDS"
   ]
  },
  {
   "cell_type": "markdown",
   "metadata": {},
   "source": [
    "## Experiment"
   ]
  },
  {
   "cell_type": "markdown",
   "metadata": {
    "colab_type": "text",
    "id": "Lev5Y7oaFQBd"
   },
   "source": [
    "## Towards Accurate Duplicate Bug Retrieval Using Deep Learning Techniques\n",
    "\n",
    "https://github.com/tqtg/DuplicateBugFinder"
   ]
  },
  {
   "cell_type": "markdown",
   "metadata": {},
   "source": [
    "### Embedding layer"
   ]
  },
  {
   "cell_type": "code",
   "execution_count": 30,
   "metadata": {},
   "outputs": [],
   "source": [
    "from keras.constraints import MaxNorm\n",
    "from keras.initializers import TruncatedNormal, RandomUniform\n",
    "\n",
    "# Is missing the padding_idx used in pytorch\n",
    "# https://pytorch.org/docs/stable/_modules/torch/nn/modules/sparse.html\n",
    "# https://stackoverflow.com/questions/54824768/rnn-model-gru-of-word2vec-to-regression-not-learning\n",
    "def embedding_layer(embeddings, num_words, embedding_dim, max_sequence_length, trainable):\n",
    "    embedding_layer = Embedding(num_words,\n",
    "                                  embedding_dim,\n",
    "                                  name='embedding_layer',\n",
    "                                  weights=[embeddings],\n",
    "                                  embeddings_constraint=MaxNorm(max_value=1, axis=0),\n",
    "                                  #input_length=max_sequence_length,\n",
    "                                  input_length=None,\n",
    "                                  trainable=trainable)\n",
    "    return embedding_layer"
   ]
  },
  {
   "cell_type": "markdown",
   "metadata": {
    "colab_type": "text",
    "id": "sI074wU4Y13y"
   },
   "source": [
    "### CNN with filter 3,4,5"
   ]
  },
  {
   "cell_type": "code",
   "execution_count": 31,
   "metadata": {
    "colab": {
     "base_uri": "https://localhost:8080/",
     "height": 493
    },
    "colab_type": "code",
    "id": "h6YJU9GtFTyq",
    "outputId": "f85cf105-1fd6-491d-d969-7e6936f32739",
    "scrolled": false
   },
   "outputs": [],
   "source": [
    "import keras\n",
    "from keras.layers import GlobalMaxPooling1D, GlobalAveragePooling1D\n",
    "\n",
    "def cnn_model(embedding_layer, max_sequence_length):\n",
    "\n",
    "    sequence_input = Input(shape=(max_sequence_length,), name='Feature_BugInput')\n",
    "    #sequence_input = Input(shape=(None,), name='Feature_BugInput')\n",
    "    embedded_sequences = embedding_layer(sequence_input)\n",
    "\n",
    "    # Yoon Kim model (https://arxiv.org/abs/1408.5882)\n",
    "    # best combination filter (3, 4, 5) e 128 e 256\n",
    "    convs = []\n",
    "    filter_sizes = [3, 4, 5]\n",
    "    n_filters = 64\n",
    "\n",
    "    for index, filter_size in enumerate(filter_sizes):\n",
    "        l_conv = Conv1D(filters=n_filters, kernel_size=filter_size)(embedded_sequences)\n",
    "        l_pool = MaxPooling1D(pool_size=filter_size)(l_conv) # index+1\n",
    "        convs.append(l_pool)\n",
    "\n",
    "    l_merge = Concatenate(axis=1)(convs)\n",
    "\n",
    "    # add a 1D convnet with global maxpooling, instead of Yoon Kim model\n",
    "    #conv = Conv1D(filters=n_filters * 3, kernel_size=3)(l_merge)\n",
    "    layer = GlobalAveragePooling1D()(l_merge)\n",
    "    #layer = Flatten()(l_merge)\n",
    "    layer = Dense(300, activation='tanh')(layer)\n",
    "    #layer = LeakyReLU()(layer)\n",
    "\n",
    "    cnn_feature_model = Model(inputs=[sequence_input], outputs=[layer], name = 'FeatureCNNGenerationModel') # inputs=visible\n",
    "\n",
    "    return cnn_feature_model"
   ]
  },
  {
   "cell_type": "markdown",
   "metadata": {
    "colab_type": "text",
    "id": "wr6ObTXiaALH"
   },
   "source": [
    "### Bi-LSTM"
   ]
  },
  {
   "cell_type": "code",
   "execution_count": 32,
   "metadata": {
    "colab": {
     "base_uri": "https://localhost:8080/",
     "height": 306
    },
    "colab_type": "code",
    "id": "vC7MQXEsaCeG",
    "outputId": "65e647a9-c5d3-4009-b8a4-2e2d97b52684"
   },
   "outputs": [],
   "source": [
    "from keras.layers import Dense, Input, LSTM, GRU, Dropout, Bidirectional, GlobalAveragePooling1D, TimeDistributed\n",
    "\n",
    "def lstm_model(embedding_layer, max_sequence_length):\n",
    "    number_lstm_units = 75\n",
    "    rate_drop_lstm = 0\n",
    "    recurrent_dropout = 0\n",
    "\n",
    "    sequence_input = Input(shape=(max_sequence_length, ), name='Feature_BugInput')\n",
    "    #sequence_input = Input(shape=(None, ), name='Feature_BugInput')\n",
    "    embedded_sequences = embedding_layer(sequence_input)\n",
    "\n",
    "    left_layer = LSTM(number_lstm_units, return_sequences=True)(embedded_sequences)\n",
    "    right_layer = LSTM(number_lstm_units, return_sequences=True, go_backwards=True)(left_layer)\n",
    "    \n",
    "    lstm_layer = Concatenate()([left_layer, right_layer])\n",
    "    \n",
    "    #lstm_layer = TimeDistributed(Dense(50))(lstm_layer)\n",
    "    #layer = Flatten()(lstm_layer)\n",
    "    layer = GlobalAveragePooling1D()(lstm_layer)\n",
    "    layer = Dense(300, activation='tanh')(layer)\n",
    "\n",
    "    lstm_feature_model = Model(inputs=[sequence_input], outputs=[layer], name = 'FeatureLstmGenerationModel') # inputs=visible\n",
    "\n",
    "    return lstm_feature_model"
   ]
  },
  {
   "cell_type": "markdown",
   "metadata": {},
   "source": [
    "### MLP"
   ]
  },
  {
   "cell_type": "code",
   "execution_count": 33,
   "metadata": {},
   "outputs": [],
   "source": [
    "def mlp_model(input_size):\n",
    "    info_input = Input(shape=(input_size, ), name='Feature_BugInput')\n",
    "    input_size = 300\n",
    "    \n",
    "    for units in [64, 32]:\n",
    "        layer = Dense(units, activation='tanh', kernel_initializer='random_uniform')(info_input)\n",
    "    \n",
    "    layer = Dense(input_size, activation='tanh')(info_input)\n",
    "    \n",
    "    mlp_feature_model = Model(inputs=[info_input], outputs=[layer], name = 'FeatureMlpGenerationModel')\n",
    "    \n",
    "    return mlp_feature_model"
   ]
  },
  {
   "cell_type": "markdown",
   "metadata": {
    "colab_type": "text",
    "id": "TEedCg5AaTf2"
   },
   "source": [
    "### Siamese model"
   ]
  },
  {
   "cell_type": "code",
   "execution_count": 34,
   "metadata": {},
   "outputs": [],
   "source": [
    "def pairwise_distance(feature, squared=False):\n",
    "    \"\"\"Computes the pairwise distance matrix with numerical stability.\n",
    "\n",
    "    output[i, j] = || feature[i, :] - feature[j, :] ||_2\n",
    "\n",
    "    Args:\n",
    "      feature: 2-D Tensor of size [number of data, feature dimension].\n",
    "      squared: Boolean, whether or not to square the pairwise distances.\n",
    "\n",
    "    Returns:\n",
    "      pairwise_distances: 2-D Tensor of size [number of data, number of data].\n",
    "    \"\"\"\n",
    "    pairwise_distances_squared = math_ops.add(\n",
    "        math_ops.reduce_sum(math_ops.square(feature), axis=[1], keepdims=True),\n",
    "        math_ops.reduce_sum(\n",
    "            math_ops.square(array_ops.transpose(feature)),\n",
    "            axis=[0],\n",
    "            keepdims=True)) - 2.0 * math_ops.matmul(feature,\n",
    "                                                    array_ops.transpose(feature))\n",
    "\n",
    "    # Deal with numerical inaccuracies. Set small negatives to zero.\n",
    "    pairwise_distances_squared = math_ops.maximum(pairwise_distances_squared, 0.0)\n",
    "    # Get the mask where the zero distances are at.\n",
    "    error_mask = math_ops.less_equal(pairwise_distances_squared, 0.0)\n",
    "\n",
    "    # Optionally take the sqrt.\n",
    "    if squared:\n",
    "        pairwise_distances = pairwise_distances_squared\n",
    "    else:\n",
    "        pairwise_distances = math_ops.sqrt(\n",
    "            pairwise_distances_squared + math_ops.to_float(error_mask) * 1e-16)\n",
    "\n",
    "    # Undo conditionally adding 1e-16.\n",
    "    pairwise_distances = math_ops.multiply(\n",
    "        pairwise_distances, math_ops.to_float(math_ops.logical_not(error_mask)))\n",
    "\n",
    "    num_data = array_ops.shape(feature)[0]\n",
    "    # Explicitly set diagonals to zero.\n",
    "    mask_offdiagonals = array_ops.ones_like(pairwise_distances) - array_ops.diag(\n",
    "        array_ops.ones([num_data]))\n",
    "    pairwise_distances = math_ops.multiply(pairwise_distances, mask_offdiagonals)\n",
    "    return pairwise_distances\n",
    "\n",
    "def masked_maximum(data, mask, dim=1):\n",
    "    \"\"\"Computes the axis wise maximum over chosen elements.\n",
    "\n",
    "    Args:\n",
    "      data: 2-D float `Tensor` of size [n, m].\n",
    "      mask: 2-D Boolean `Tensor` of size [n, m].\n",
    "      dim: The dimension over which to compute the maximum.\n",
    "\n",
    "    Returns:\n",
    "      masked_maximums: N-D `Tensor`.\n",
    "        The maximized dimension is of size 1 after the operation.\n",
    "    \"\"\"\n",
    "    axis_minimums = math_ops.reduce_min(data, dim, keepdims=True)\n",
    "    masked_maximums = math_ops.reduce_max(\n",
    "        math_ops.multiply(data - axis_minimums, mask), dim,\n",
    "        keepdims=True) + axis_minimums\n",
    "    return masked_maximums\n",
    "\n",
    "def masked_minimum(data, mask, dim=1):\n",
    "    \"\"\"Computes the axis wise minimum over chosen elements.\n",
    "\n",
    "    Args:\n",
    "      data: 2-D float `Tensor` of size [n, m].\n",
    "      mask: 2-D Boolean `Tensor` of size [n, m].\n",
    "      dim: The dimension over which to compute the minimum.\n",
    "\n",
    "    Returns:\n",
    "      masked_minimums: N-D `Tensor`.\n",
    "        The minimized dimension is of size 1 after the operation.\n",
    "    \"\"\"\n",
    "    axis_maximums = math_ops.reduce_max(data, dim, keepdims=True)\n",
    "    masked_minimums = math_ops.reduce_min(\n",
    "        math_ops.multiply(data - axis_maximums, mask), dim,\n",
    "        keepdims=True) + axis_maximums\n",
    "    return masked_minimums"
   ]
  },
  {
   "cell_type": "code",
   "execution_count": 35,
   "metadata": {},
   "outputs": [],
   "source": [
    "## required for semi-hard triplet loss:\n",
    "from tensorflow.python.ops import array_ops\n",
    "from tensorflow.python.ops import math_ops\n",
    "from tensorflow.python.framework import dtypes\n",
    "import tensorflow as tf\n",
    "\n",
    "def triplet_loss_adapted_from_tf(y_true, y_pred):\n",
    "    del y_true\n",
    "    margin = 1.\n",
    "    labels = y_pred[:, :1]\n",
    " \n",
    "    labels = tf.cast(labels, dtype='int32')\n",
    "\n",
    "    embeddings = y_pred[:, 1:]\n",
    "\n",
    "    ### Code from Tensorflow function [tf.contrib.losses.metric_learning.triplet_semihard_loss] starts here:\n",
    "    \n",
    "    # Reshape [batch_size] label tensor to a [batch_size, 1] label tensor.\n",
    "    # lshape=array_ops.shape(labels)\n",
    "    # assert lshape.shape == 1\n",
    "    # labels = array_ops.reshape(labels, [lshape[0], 1])\n",
    "\n",
    "    # Build pairwise squared distance matrix.\n",
    "    pdist_matrix = pairwise_distance(embeddings, squared=True)\n",
    "    # Build pairwise binary adjacency matrix.\n",
    "    adjacency = math_ops.equal(labels, array_ops.transpose(labels))\n",
    "    # Invert so we can select negatives only.\n",
    "    adjacency_not = math_ops.logical_not(adjacency)\n",
    "\n",
    "    # global batch_size  \n",
    "    batch_size = array_ops.size(labels) # was 'array_ops.size(labels)'\n",
    "\n",
    "    # Compute the mask.\n",
    "    pdist_matrix_tile = array_ops.tile(pdist_matrix, [batch_size, 1])\n",
    "    mask = math_ops.logical_and(\n",
    "        array_ops.tile(adjacency_not, [batch_size, 1]),\n",
    "        math_ops.greater(\n",
    "            pdist_matrix_tile, array_ops.reshape(\n",
    "                array_ops.transpose(pdist_matrix), [-1, 1])))\n",
    "    mask_final = array_ops.reshape(\n",
    "        math_ops.greater(\n",
    "            math_ops.reduce_sum(\n",
    "                math_ops.cast(mask, dtype=dtypes.float32), 1, keepdims=True),\n",
    "            0.0), [batch_size, batch_size])\n",
    "    mask_final = array_ops.transpose(mask_final)\n",
    "\n",
    "    adjacency_not = math_ops.cast(adjacency_not, dtype=dtypes.float32)\n",
    "    mask = math_ops.cast(mask, dtype=dtypes.float32)\n",
    "\n",
    "    # negatives_outside: smallest D_an where D_an > D_ap.\n",
    "    negatives_outside = array_ops.reshape(\n",
    "        masked_minimum(pdist_matrix_tile, mask), [batch_size, batch_size])\n",
    "    negatives_outside = array_ops.transpose(negatives_outside)\n",
    "\n",
    "    # negatives_inside: largest D_an.\n",
    "    negatives_inside = array_ops.tile(\n",
    "        masked_maximum(pdist_matrix, adjacency_not), [1, batch_size])\n",
    "    semi_hard_negatives = array_ops.where(\n",
    "        mask_final, negatives_outside, negatives_inside)\n",
    "\n",
    "    loss_mat = math_ops.add(margin, pdist_matrix - semi_hard_negatives)\n",
    "\n",
    "    mask_positives = math_ops.cast(\n",
    "        adjacency, dtype=dtypes.float32) - array_ops.diag(\n",
    "        array_ops.ones([batch_size]))\n",
    "\n",
    "    # In lifted-struct, the authors multiply 0.5 for upper triangular\n",
    "    #   in semihard, they take all positive pairs except the diagonal.\n",
    "    num_positives = math_ops.reduce_sum(mask_positives)\n",
    "\n",
    "    semi_hard_triplet_loss_distance = math_ops.truediv(\n",
    "        math_ops.reduce_sum(\n",
    "            math_ops.maximum(\n",
    "                math_ops.multiply(loss_mat, mask_positives), 0.0)),\n",
    "        num_positives,\n",
    "        name='triplet_semihard_loss')\n",
    "    \n",
    "    ### Code from Tensorflow function semi-hard triplet loss ENDS here.\n",
    "    return semi_hard_triplet_loss_distance"
   ]
  },
  {
   "cell_type": "code",
   "execution_count": 36,
   "metadata": {},
   "outputs": [],
   "source": [
    "from keras.layers import concatenate, Add, Lambda, merge, Average, Maximum\n",
    "from keras.optimizers import Adam, Nadam\n",
    "\n",
    "def siamese_model(title_feature_model, desc_feature_model, categorical_feature_model, sequence_length_info, \n",
    "                  sequence_length_t, sequence_length_d, name):\n",
    "  \n",
    "    bug_t = Input(shape = (sequence_length_t, ), name = 'title_{}'.format(name))\n",
    "    bug_d = Input(shape = (sequence_length_d, ), name = 'desc_{}'.format(name))\n",
    "    bug_i = Input(shape = (sequence_length_info, ), name = 'info_{}'.format(name))\n",
    "    \n",
    "    bug_t_feat = title_feature_model(bug_t)\n",
    "    bug_d_feat = desc_feature_model(bug_d)\n",
    "    bug_i_feat = categorical_feature_model(bug_i)\n",
    "    \n",
    "    #bug_feature_output = Add(name = 'merge_features_{}'.format(name))([bug_i_feat, bug_t_feat, bug_d_feat])\n",
    "    bug_feature_output = concatenate([bug_i_feat, bug_t_feat, bug_d_feat], name = 'merge_features_{}'.format(name))\n",
    "    \n",
    "    #     bug_feature_output = Activation('tanh')(bug_feature_output)\n",
    "    \n",
    "    # Bug representation layer\n",
    "    # bug_feature_output = Dense(300, activation='tanh')(bug_feature_output)\n",
    "    \n",
    "    bug_feature_model = Model(inputs=[bug_t, bug_d, bug_i], outputs=[bug_feature_output], name = 'merge_features_{}'.format(name))\n",
    "    \n",
    "    return bug_feature_model"
   ]
  },
  {
   "cell_type": "code",
   "execution_count": 37,
   "metadata": {},
   "outputs": [],
   "source": [
    "def max_margin_objective(encoded_anchor, decay_lr=1):\n",
    "    \n",
    "    input_labels = Input(shape=(1,), name='input_label')    # input layer for labels\n",
    "    inputs = np.concatenate([encoded_anchor.input, [input_labels]], -1).tolist()\n",
    "    \n",
    "    encoded_anchor = encoded_anchor.output\n",
    "    \n",
    "    output = concatenate([input_labels, encoded_anchor])  # concatenating the labels + embeddings\n",
    "    \n",
    "    similarity_model = Model(inputs = inputs, outputs = output, name = 'Similarity_Model')\n",
    "\n",
    "    #optimizer = Nadam(lr=1e-3, beta_1=0.9, beta_2=0.999, epsilon=K.epsilon(), schedule_decay=0.01)\n",
    "    # optimizer = Adam(lr=1e-3 * decay_lr, beta_1=0.9, beta_2=0.999, epsilon=None, decay=0.0, amsgrad=True)\n",
    "\n",
    "    # setup the optimization process \n",
    "    similarity_model.compile(optimizer='adam', loss=triplet_loss_adapted_from_tf) \n",
    "    # metrics=[pos_distance, neg_distance, custom_margin_loss]\n",
    "\n",
    "    return similarity_model"
   ]
  },
  {
   "cell_type": "code",
   "execution_count": 38,
   "metadata": {},
   "outputs": [],
   "source": [
    "# Domain to use\n",
    "limit_train = int(epochs * freeze_train) # 10% de 1000 , 100 epocas\n",
    "METHOD = 'baseline_{}'.format(limit_train)\n",
    "SAVE_PATH = '{}_preprocessing_{}_feature@number_of_epochs@epochs_64batch({})'.format(PREPROCESSING, METHOD, DOMAIN)\n",
    "SAVE_PATH_FEATURE = '{}_preprocessing_{}_feature_@number_of_epochs@epochs_64batch({})'.format(PREPROCESSING, METHOD, DOMAIN)"
   ]
  },
  {
   "cell_type": "code",
   "execution_count": 39,
   "metadata": {},
   "outputs": [],
   "source": [
    "import _pickle as pickle\n",
    "def save_loss(result):\n",
    "    with open(os.path.join(DIR,'{}_log.pkl'.format(METHOD)), 'wb') as f:\n",
    "        pickle.dump(result, f)\n",
    "    print(\"=> result saved!\")"
   ]
  },
  {
   "cell_type": "code",
   "execution_count": 40,
   "metadata": {
    "scrolled": true
   },
   "outputs": [
    {
     "name": "stdout",
     "output_type": "stream",
     "text": [
      "WARNING:tensorflow:From /usr/local/lib/python3.5/dist-packages/keras/backend/tensorflow_backend.py:95: The name tf.reset_default_graph is deprecated. Please use tf.compat.v1.reset_default_graph instead.\n",
      "\n",
      "WARNING:tensorflow:From /usr/local/lib/python3.5/dist-packages/keras/backend/tensorflow_backend.py:98: The name tf.placeholder_with_default is deprecated. Please use tf.compat.v1.placeholder_with_default instead.\n",
      "\n",
      "WARNING:tensorflow:From /usr/local/lib/python3.5/dist-packages/keras/backend/tensorflow_backend.py:102: The name tf.get_default_graph is deprecated. Please use tf.compat.v1.get_default_graph instead.\n",
      "\n",
      "WARNING:tensorflow:From /usr/local/lib/python3.5/dist-packages/keras/backend/tensorflow_backend.py:517: The name tf.placeholder is deprecated. Please use tf.compat.v1.placeholder instead.\n",
      "\n",
      "WARNING:tensorflow:From /usr/local/lib/python3.5/dist-packages/keras/backend/tensorflow_backend.py:4138: The name tf.random_uniform is deprecated. Please use tf.random.uniform instead.\n",
      "\n",
      "WARNING:tensorflow:From /usr/local/lib/python3.5/dist-packages/keras/backend/tensorflow_backend.py:174: The name tf.get_default_session is deprecated. Please use tf.compat.v1.get_default_session instead.\n",
      "\n",
      "WARNING:tensorflow:From /usr/local/lib/python3.5/dist-packages/keras/backend/tensorflow_backend.py:181: The name tf.ConfigProto is deprecated. Please use tf.compat.v1.ConfigProto instead.\n",
      "\n",
      "WARNING:tensorflow:From /usr/local/lib/python3.5/dist-packages/keras/backend/tensorflow_backend.py:186: The name tf.Session is deprecated. Please use tf.compat.v1.Session instead.\n",
      "\n",
      "WARNING:tensorflow:From /usr/local/lib/python3.5/dist-packages/keras/backend/tensorflow_backend.py:190: The name tf.global_variables is deprecated. Please use tf.compat.v1.global_variables instead.\n",
      "\n",
      "WARNING:tensorflow:From /usr/local/lib/python3.5/dist-packages/keras/backend/tensorflow_backend.py:199: The name tf.is_variable_initialized is deprecated. Please use tf.compat.v1.is_variable_initialized instead.\n",
      "\n",
      "WARNING:tensorflow:From /usr/local/lib/python3.5/dist-packages/keras/backend/tensorflow_backend.py:206: The name tf.variables_initializer is deprecated. Please use tf.compat.v1.variables_initializer instead.\n",
      "\n",
      "WARNING:tensorflow:From /usr/local/lib/python3.5/dist-packages/keras/backend/tensorflow_backend.py:3976: The name tf.nn.max_pool is deprecated. Please use tf.nn.max_pool2d instead.\n",
      "\n",
      "WARNING:tensorflow:From /usr/local/lib/python3.5/dist-packages/keras/optimizers.py:790: The name tf.train.Optimizer is deprecated. Please use tf.compat.v1.train.Optimizer instead.\n",
      "\n",
      "WARNING:tensorflow:From <ipython-input-34-cd325db98846>:35: to_float (from tensorflow.python.ops.math_ops) is deprecated and will be removed in a future version.\n",
      "Instructions for updating:\n",
      "Use `tf.cast` instead.\n",
      "WARNING:tensorflow:From <ipython-input-35-3672f63e3254>:59: where (from tensorflow.python.ops.array_ops) is deprecated and will be removed in a future version.\n",
      "Instructions for updating:\n",
      "Use tf.where in 2.0, which has the same broadcast rule as np.where\n",
      "__________________________________________________________________________________________________\n",
      "Layer (type)                    Output Shape         Param #     Connected to                     \n",
      "==================================================================================================\n",
      "info_in (InputLayer)            (None, 544)          0                                            \n",
      "__________________________________________________________________________________________________\n",
      "title_in (InputLayer)           (None, 20)           0                                            \n",
      "__________________________________________________________________________________________________\n",
      "desc_in (InputLayer)            (None, 20)           0                                            \n",
      "__________________________________________________________________________________________________\n",
      "FeatureMlpGenerationModel (Mode (None, 300)          163500      info_in[0][0]                    \n",
      "__________________________________________________________________________________________________\n",
      "FeatureLstmGenerationModel (Mod (None, 300)          581169900   title_in[0][0]                   \n",
      "__________________________________________________________________________________________________\n",
      "FeatureCNNGenerationModel (Mode (None, 300)          581216592   desc_in[0][0]                    \n",
      "__________________________________________________________________________________________________\n",
      "input_label (InputLayer)        (None, 1)            0                                            \n",
      "__________________________________________________________________________________________________\n",
      "merge_features_in (Concatenate) (None, 900)          0           FeatureMlpGenerationModel[1][0]  \n",
      "                                                                 FeatureLstmGenerationModel[1][0] \n",
      "                                                                 FeatureCNNGenerationModel[1][0]  \n",
      "__________________________________________________________________________________________________\n",
      "concatenate_3 (Concatenate)     (None, 901)          0           input_label[0][0]                \n",
      "                                                                 merge_features_in[0][0]          \n",
      "==================================================================================================\n",
      "Total params: 1,162,549,992\n",
      "Trainable params: 616,992\n",
      "Non-trainable params: 1,161,933,000\n",
      "__________________________________________________________________________________________________\n",
      "Total of  100\n",
      "WARNING:tensorflow:From /usr/local/lib/python3.5/dist-packages/keras/backend/tensorflow_backend.py:986: The name tf.assign_add is deprecated. Please use tf.compat.v1.assign_add instead.\n",
      "\n",
      "WARNING:tensorflow:From /usr/local/lib/python3.5/dist-packages/keras/backend/tensorflow_backend.py:973: The name tf.assign is deprecated. Please use tf.compat.v1.assign instead.\n",
      "\n",
      "Epoch: 1 Loss: 0.55, Loss_test: 0.70\n",
      "Epoch: 2 Loss: 0.57, Loss_test: 0.69\n",
      "Epoch: 3 Loss: 0.63, Loss_test: 0.69\n",
      "Epoch: 4 Loss: 0.52, Loss_test: 0.67\n",
      "Epoch: 5 Loss: 0.63, Loss_test: 0.65\n",
      "Epoch: 6 Loss: 0.59, Loss_test: 0.64\n",
      "Epoch: 7 Loss: 0.57, Loss_test: 0.63\n",
      "Epoch: 8 Loss: 0.59, Loss_test: 0.63\n",
      "Epoch: 9 Loss: 0.47, Loss_test: 0.63\n",
      "=> result saved!\n",
      "Epoch: 10 Loss: 0.47, Loss_test: 0.63\n",
      "Epoch: 11 Loss: 0.38, Loss_test: 0.63\n",
      "Epoch: 12 Loss: 0.42, Loss_test: 0.63\n",
      "Epoch: 13 Loss: 0.47, Loss_test: 0.62\n",
      "Epoch: 14 Loss: 0.47, Loss_test: 0.62\n",
      "Epoch: 15 Loss: 0.55, Loss_test: 0.61\n",
      "Epoch: 16 Loss: 0.52, Loss_test: 0.60\n",
      "Epoch: 17 Loss: 0.50, Loss_test: 0.60\n",
      "Epoch: 18 Loss: 0.35, Loss_test: 0.60\n",
      "Epoch: 19 Loss: 0.51, Loss_test: 0.58\n",
      "=> result saved!\n",
      "Epoch: 20 Loss: 0.25, Loss_test: 0.59\n",
      "Epoch: 21 Loss: 0.36, Loss_test: 0.58\n",
      "Epoch: 22 Loss: 0.45, Loss_test: 0.58\n",
      "Epoch: 23 Loss: 0.48, Loss_test: 0.57\n",
      "Epoch: 24 Loss: 0.40, Loss_test: 0.57\n",
      "Epoch: 25 Loss: 0.33, Loss_test: 0.56\n",
      "Epoch: 26 Loss: 0.40, Loss_test: 0.55\n",
      "Epoch: 27 Loss: 0.33, Loss_test: 0.54\n",
      "Epoch: 28 Loss: 0.42, Loss_test: 0.54\n",
      "Epoch: 29 Loss: 0.40, Loss_test: 0.53\n",
      "=> result saved!\n",
      "Epoch: 30 Loss: 0.28, Loss_test: 0.54\n",
      "Epoch: 31 Loss: 0.32, Loss_test: 0.53\n",
      "Epoch: 32 Loss: 0.23, Loss_test: 0.52\n",
      "Epoch: 33 Loss: 0.34, Loss_test: 0.52\n",
      "Epoch: 34 Loss: 0.21, Loss_test: 0.50\n",
      "Epoch: 35 Loss: 0.27, Loss_test: 0.50\n",
      "Epoch: 36 Loss: 0.36, Loss_test: 0.49\n",
      "Epoch: 37 Loss: 0.35, Loss_test: 0.49\n",
      "Epoch: 38 Loss: 0.48, Loss_test: 0.48\n",
      "Epoch: 39 Loss: 0.41, Loss_test: 0.49\n",
      "=> result saved!\n",
      "Epoch: 40 Loss: 0.37, Loss_test: 0.49\n",
      "Epoch: 41 Loss: 0.30, Loss_test: 0.49\n",
      "Epoch: 42 Loss: 0.35, Loss_test: 0.50\n",
      "Epoch: 43 Loss: 0.34, Loss_test: 0.50\n",
      "Epoch: 44 Loss: 0.20, Loss_test: 0.50\n",
      "Epoch: 45 Loss: 0.25, Loss_test: 0.50\n",
      "Epoch: 46 Loss: 0.39, Loss_test: 0.50\n",
      "Epoch: 47 Loss: 0.28, Loss_test: 0.49\n",
      "Epoch: 48 Loss: 0.30, Loss_test: 0.49\n",
      "Epoch: 49 Loss: 0.26, Loss_test: 0.49\n",
      "=> result saved!\n",
      "Epoch: 50 Loss: 0.37, Loss_test: 0.49\n",
      "Epoch: 51 Loss: 0.33, Loss_test: 0.48\n",
      "Epoch: 52 Loss: 0.20, Loss_test: 0.47\n",
      "Epoch: 53 Loss: 0.35, Loss_test: 0.46\n",
      "Epoch: 54 Loss: 0.31, Loss_test: 0.46\n",
      "Epoch: 55 Loss: 0.33, Loss_test: 0.45\n",
      "Epoch: 56 Loss: 0.34, Loss_test: 0.44\n",
      "Epoch: 57 Loss: 0.22, Loss_test: 0.44\n"
     ]
    },
    {
     "name": "stdout",
     "output_type": "stream",
     "text": [
      "Epoch: 58 Loss: 0.29, Loss_test: 0.43\n",
      "Epoch: 59 Loss: 0.18, Loss_test: 0.43\n",
      "=> result saved!\n",
      "Epoch: 60 Loss: 0.20, Loss_test: 0.43\n",
      "Epoch: 61 Loss: 0.32, Loss_test: 0.42\n",
      "Epoch: 62 Loss: 0.22, Loss_test: 0.40\n",
      "Epoch: 63 Loss: 0.24, Loss_test: 0.39\n",
      "Epoch: 64 Loss: 0.21, Loss_test: 0.39\n",
      "Epoch: 65 Loss: 0.28, Loss_test: 0.39\n",
      "Epoch: 66 Loss: 0.23, Loss_test: 0.38\n",
      "Epoch: 67 Loss: 0.26, Loss_test: 0.38\n",
      "Epoch: 68 Loss: 0.27, Loss_test: 0.36\n",
      "Epoch: 69 Loss: 0.24, Loss_test: 0.37\n",
      "=> result saved!\n",
      "Epoch: 70 Loss: 0.19, Loss_test: 0.36\n",
      "Epoch: 71 Loss: 0.30, Loss_test: 0.36\n",
      "Epoch: 72 Loss: 0.26, Loss_test: 0.34\n",
      "Epoch: 73 Loss: 0.27, Loss_test: 0.34\n",
      "Epoch: 74 Loss: 0.32, Loss_test: 0.34\n",
      "Epoch: 75 Loss: 0.19, Loss_test: 0.33\n",
      "Epoch: 76 Loss: 0.17, Loss_test: 0.33\n",
      "Epoch: 77 Loss: 0.27, Loss_test: 0.33\n",
      "Epoch: 78 Loss: 0.24, Loss_test: 0.33\n",
      "Epoch: 79 Loss: 0.35, Loss_test: 0.33\n",
      "=> result saved!\n",
      "Epoch: 80 Loss: 0.21, Loss_test: 0.32\n",
      "Epoch: 81 Loss: 0.16, Loss_test: 0.32\n",
      "Epoch: 82 Loss: 0.30, Loss_test: 0.32\n",
      "Epoch: 83 Loss: 0.20, Loss_test: 0.32\n",
      "Epoch: 84 Loss: 0.18, Loss_test: 0.32\n",
      "Epoch: 85 Loss: 0.20, Loss_test: 0.32\n",
      "Epoch: 86 Loss: 0.25, Loss_test: 0.32\n",
      "Epoch: 87 Loss: 0.15, Loss_test: 0.32\n",
      "Epoch: 88 Loss: 0.23, Loss_test: 0.32\n",
      "Epoch: 89 Loss: 0.21, Loss_test: 0.31\n",
      "=> result saved!\n",
      "Epoch: 90 Loss: 0.16, Loss_test: 0.31\n",
      "Epoch: 91 Loss: 0.18, Loss_test: 0.31\n",
      "Epoch: 92 Loss: 0.23, Loss_test: 0.31\n",
      "Epoch: 93 Loss: 0.25, Loss_test: 0.31\n",
      "Epoch: 94 Loss: 0.15, Loss_test: 0.31\n",
      "Epoch: 95 Loss: 0.10, Loss_test: 0.31\n",
      "Epoch: 96 Loss: 0.15, Loss_test: 0.31\n",
      "Epoch: 97 Loss: 0.20, Loss_test: 0.30\n",
      "Epoch: 98 Loss: 0.25, Loss_test: 0.30\n",
      "Epoch: 99 Loss: 0.20, Loss_test: 0.29\n",
      "=> result saved!\n",
      "Epoch: 100 Loss: 0.26, Loss_test: 0.27, recall@25: 0.59\n",
      "Best_epoch=95, Best_loss=0.10, Recall@25=0.59\n",
      "CPU times: user 9min 4s, sys: 1min 16s, total: 10min 20s\n",
      "Wall time: 3min 12s\n"
     ]
    }
   ],
   "source": [
    "%%time\n",
    "import keras\n",
    "\n",
    "# Inspired on https://'pastebin.com/TaGFdcBA\n",
    "# TODO: https://stackoverflow.com/questions/49941903/keras-compute-cosine-distance-between-two-flattened-outputs\n",
    "keras.backend.clear_session()\n",
    "\n",
    "# Clear GPU memory\n",
    "# from numba import cuda\n",
    "# cuda.select_device(0)\n",
    "# cuda.close()\n",
    "\n",
    "# Embeddings\n",
    "desc_embedding_layer = embedding_layer(embeddings=baseline.embedding_matrix, \n",
    "                              num_words=len(baseline.embedding_matrix), \n",
    "                              embedding_dim=EMBEDDING_DIM, \n",
    "                              max_sequence_length=MAX_SEQUENCE_LENGTH_D, \n",
    "                              trainable=False)\n",
    "title_embedding_layer = embedding_layer(embeddings=baseline.embedding_matrix, \n",
    "                              num_words=len(baseline.embedding_matrix), \n",
    "                              embedding_dim=EMBEDDING_DIM, \n",
    "                              max_sequence_length=MAX_SEQUENCE_LENGTH_T, \n",
    "                              trainable=False)\n",
    "\n",
    "# Feature models\n",
    "'''\n",
    "    cnn_model\n",
    "    lstm_model\n",
    "    mlp_model\n",
    "'''\n",
    "desc_feature_model = cnn_model(desc_embedding_layer, MAX_SEQUENCE_LENGTH_D)\n",
    "title_feature_model = lstm_model(title_embedding_layer, MAX_SEQUENCE_LENGTH_T)\n",
    "categorical_feature_model = mlp_model(number_of_columns_info)\n",
    "\n",
    "# Similarity model\n",
    "encoded_anchor = siamese_model(title_feature_model, desc_feature_model, categorical_feature_model, \n",
    "                                     number_of_columns_info, MAX_SEQUENCE_LENGTH_T, MAX_SEQUENCE_LENGTH_D, 'in')\n",
    "\n",
    "similarity_model = max_margin_objective(encoded_anchor, decay_lr=1)\n",
    "\n",
    "# cnn_feature_model.summary()\n",
    "# lstm_feature_model.summary()\n",
    "similarity_model.summary()\n",
    "\n",
    "'''\n",
    "    Experiment\n",
    "'''\n",
    "result = { 'train' : [], 'test' : [] }\n",
    "print(\"Total of \", limit_train)\n",
    "for epoch in range(limit_train):\n",
    "    batch_triplet_train, \\\n",
    "        train_input_sample, train_sim = batch_iterator(baseline, retrieval, encoded_anchor, baseline.train_data, \n",
    "                                                       baseline.dup_sets_train, bug_train_ids, \n",
    "                                                           batch_size, 1, issues_by_buckets, TRIPLET_HARD=False)\n",
    "    train_batch = [train_input_sample['title'], train_input_sample['description'], train_input_sample['info'], train_sim]\n",
    "    \n",
    "    h = similarity_model.train_on_batch(x=train_batch, y=train_sim)\n",
    "    h_validation = similarity_model.test_on_batch(x=validation_sample, y=valid_sim)\n",
    "    \n",
    "     # save results\n",
    "    result['train'].append(h)\n",
    "    result['test'].append(h_validation)\n",
    "    \n",
    "    if( (epoch+1) % 10 == 0 or (epoch+1 == limit_train) ):\n",
    "        save_loss(result)\n",
    "    \n",
    "    if (epoch+1 == limit_train): #(epoch > 1 and epoch % 10 == 0) or (epoch+1 == epochs):\n",
    "        recall, exported_rank, debug = experiment.evaluate_validation_test(retrieval, verbose, encoded_anchor, issues_by_buckets, bug_train_ids)\n",
    "        print(\"Epoch: {} Loss: {:.2f}, Loss_test: {:.2f}, recall@25: {:.2f}\".format(epoch+1, h, h_validation, recall))\n",
    "    else:\n",
    "        print(\"Epoch: {} Loss: {:.2f}, Loss_test: {:.2f}\".format(epoch+1, h, h_validation))\n",
    "    loss = h\n",
    "    \n",
    "    if loss < best_loss:\n",
    "        best_loss = loss\n",
    "        best_epoch = epoch+1\n",
    "\n",
    "#experiment.save_model(similarity_model, SAVE_PATH.replace('@number_of_epochs@', str(epochs)))\n",
    "#experiment.save_model(encoded_anchor, SAVE_PATH_FEATURE.replace('@number_of_epochs@', str(epochs)), verbose=1)\n",
    "print('Best_epoch={}, Best_loss={:.2f}, Recall@25={:.2f}'.format(best_epoch, best_loss, recall))"
   ]
  },
  {
   "cell_type": "code",
   "execution_count": 41,
   "metadata": {},
   "outputs": [
    {
     "data": {
      "text/plain": [
       "'data/processed/netbeans/bert/exported_rank_baseline_100.txt'"
      ]
     },
     "execution_count": 41,
     "metadata": {},
     "output_type": "execute_result"
    }
   ],
   "source": [
    "EXPORT_RANK_PATH = os.path.join(DIR, 'exported_rank_{}.txt'.format(METHOD))\n",
    "EXPORT_RANK_PATH"
   ]
  },
  {
   "cell_type": "code",
   "execution_count": 42,
   "metadata": {},
   "outputs": [],
   "source": [
    "with open(EXPORT_RANK_PATH, 'w') as file_out:\n",
    "    for row in exported_rank:\n",
    "        file_out.write(row + \"\\n\")"
   ]
  },
  {
   "cell_type": "code",
   "execution_count": 43,
   "metadata": {},
   "outputs": [
    {
     "name": "stdout",
     "output_type": "stream",
     "text": [
      "Saved model 'modelos/model_bert_preprocessing_baseline_100_feature_100epochs_64batch(netbeans).h5' to disk\n"
     ]
    }
   ],
   "source": [
    "experiment.save_model(similarity_model, SAVE_PATH.replace('@number_of_epochs@', str(limit_train)))\n",
    "experiment.save_model(encoded_anchor, SAVE_PATH_FEATURE.replace('@number_of_epochs@', str(limit_train)), verbose=1)"
   ]
  },
  {
   "cell_type": "code",
   "execution_count": 44,
   "metadata": {},
   "outputs": [
    {
     "data": {
      "text/plain": [
       "(100, 100)"
      ]
     },
     "execution_count": 44,
     "metadata": {},
     "output_type": "execute_result"
    }
   ],
   "source": [
    "len(result['train']), len(result['test'])"
   ]
  },
  {
   "cell_type": "code",
   "execution_count": 45,
   "metadata": {},
   "outputs": [
    {
     "name": "stdout",
     "output_type": "stream",
     "text": [
      "__________________________________________________________________________________________________\n",
      "Layer (type)                    Output Shape         Param #     Connected to                     \n",
      "==================================================================================================\n",
      "info_in (InputLayer)            (None, 544)          0                                            \n",
      "__________________________________________________________________________________________________\n",
      "title_in (InputLayer)           (None, 20)           0                                            \n",
      "__________________________________________________________________________________________________\n",
      "desc_in (InputLayer)            (None, 20)           0                                            \n",
      "__________________________________________________________________________________________________\n",
      "FeatureMlpGenerationModel (Mode (None, 300)          163500      info_in[0][0]                    \n",
      "__________________________________________________________________________________________________\n",
      "FeatureLstmGenerationModel (Mod (None, 300)          581169900   title_in[0][0]                   \n",
      "__________________________________________________________________________________________________\n",
      "FeatureCNNGenerationModel (Mode (None, 300)          581216592   desc_in[0][0]                    \n",
      "__________________________________________________________________________________________________\n",
      "input_label (InputLayer)        (None, 1)            0                                            \n",
      "__________________________________________________________________________________________________\n",
      "merge_features_in (Concatenate) (None, 900)          0           FeatureMlpGenerationModel[1][0]  \n",
      "                                                                 FeatureLstmGenerationModel[1][0] \n",
      "                                                                 FeatureCNNGenerationModel[1][0]  \n",
      "__________________________________________________________________________________________________\n",
      "concatenate_3 (Concatenate)     (None, 901)          0           input_label[0][0]                \n",
      "                                                                 merge_features_in[0][0]          \n",
      "==================================================================================================\n",
      "Total params: 1,162,549,992\n",
      "Trainable params: 616,992\n",
      "Non-trainable params: 1,161,933,000\n",
      "__________________________________________________________________________________________________\n"
     ]
    }
   ],
   "source": [
    "model = similarity_model.get_layer('concatenate_3')\n",
    "output = model.output\n",
    "inputs = similarity_model.inputs\n",
    "model = Model(inputs = inputs, outputs = output, name = 'Similarity_Model')\n",
    "\n",
    "# setup the optimization process \n",
    "model.compile(optimizer='adam', loss=triplet_loss_adapted_from_tf)\n",
    "model.summary()"
   ]
  },
  {
   "cell_type": "code",
   "execution_count": 46,
   "metadata": {},
   "outputs": [],
   "source": [
    "# Domain to use\n",
    "METHOD = 'baseline_{}'.format(epochs)\n",
    "SAVE_PATH = '{}_preprocessing_{}_feature@number_of_epochs@epochs_64batch({})'.format(PREPROCESSING, METHOD, DOMAIN)\n",
    "SAVE_PATH_FEATURE = '{}_preprocessing_{}_feature_@number_of_epochs@epochs_64batch({})'.format(PREPROCESSING, METHOD, DOMAIN)"
   ]
  },
  {
   "cell_type": "code",
   "execution_count": 47,
   "metadata": {
    "scrolled": true
   },
   "outputs": [
    {
     "name": "stdout",
     "output_type": "stream",
     "text": [
      "Epoch: 101 Loss: 0.24, Loss_test: 0.28\n",
      "Epoch: 102 Loss: 0.26, Loss_test: 0.28\n",
      "Epoch: 103 Loss: 0.29, Loss_test: 0.30\n",
      "Epoch: 104 Loss: 0.28, Loss_test: 0.30\n",
      "Epoch: 105 Loss: 0.19, Loss_test: 0.31\n",
      "Epoch: 106 Loss: 0.19, Loss_test: 0.31\n",
      "Epoch: 107 Loss: 0.22, Loss_test: 0.30\n",
      "Epoch: 108 Loss: 0.20, Loss_test: 0.31\n",
      "Epoch: 109 Loss: 0.17, Loss_test: 0.31\n",
      "=> result saved!\n",
      "Epoch: 110 Loss: 0.20, Loss_test: 0.31\n",
      "Epoch: 111 Loss: 0.25, Loss_test: 0.30\n",
      "Epoch: 112 Loss: 0.32, Loss_test: 0.29\n",
      "Epoch: 113 Loss: 0.16, Loss_test: 0.29\n",
      "Epoch: 114 Loss: 0.21, Loss_test: 0.29\n",
      "Epoch: 115 Loss: 0.16, Loss_test: 0.28\n",
      "Epoch: 116 Loss: 0.22, Loss_test: 0.29\n",
      "Epoch: 117 Loss: 0.14, Loss_test: 0.29\n",
      "Epoch: 118 Loss: 0.22, Loss_test: 0.28\n",
      "Epoch: 119 Loss: 0.13, Loss_test: 0.28\n",
      "=> result saved!\n",
      "Epoch: 120 Loss: 0.30, Loss_test: 0.27\n",
      "Epoch: 121 Loss: 0.12, Loss_test: 0.26\n",
      "Epoch: 122 Loss: 0.16, Loss_test: 0.26\n",
      "Epoch: 123 Loss: 0.13, Loss_test: 0.26\n",
      "Epoch: 124 Loss: 0.13, Loss_test: 0.26\n",
      "Epoch: 125 Loss: 0.11, Loss_test: 0.25\n",
      "Epoch: 126 Loss: 0.15, Loss_test: 0.24\n",
      "Epoch: 127 Loss: 0.18, Loss_test: 0.24\n",
      "Epoch: 128 Loss: 0.16, Loss_test: 0.23\n",
      "Epoch: 129 Loss: 0.18, Loss_test: 0.22\n",
      "=> result saved!\n",
      "Epoch: 130 Loss: 0.13, Loss_test: 0.22\n",
      "Epoch: 131 Loss: 0.13, Loss_test: 0.21\n",
      "Epoch: 132 Loss: 0.15, Loss_test: 0.21\n",
      "Epoch: 133 Loss: 0.18, Loss_test: 0.22\n",
      "Epoch: 134 Loss: 0.11, Loss_test: 0.22\n",
      "Epoch: 135 Loss: 0.19, Loss_test: 0.21\n",
      "Epoch: 136 Loss: 0.16, Loss_test: 0.20\n",
      "Epoch: 137 Loss: 0.14, Loss_test: 0.20\n",
      "Epoch: 138 Loss: 0.18, Loss_test: 0.20\n",
      "Epoch: 139 Loss: 0.19, Loss_test: 0.21\n",
      "=> result saved!\n",
      "Epoch: 140 Loss: 0.11, Loss_test: 0.22\n",
      "Epoch: 141 Loss: 0.16, Loss_test: 0.21\n",
      "Epoch: 142 Loss: 0.13, Loss_test: 0.21\n",
      "Epoch: 143 Loss: 0.15, Loss_test: 0.21\n",
      "Epoch: 144 Loss: 0.12, Loss_test: 0.21\n",
      "Epoch: 145 Loss: 0.18, Loss_test: 0.20\n",
      "Epoch: 146 Loss: 0.12, Loss_test: 0.20\n",
      "Epoch: 147 Loss: 0.13, Loss_test: 0.20\n",
      "Epoch: 148 Loss: 0.11, Loss_test: 0.20\n",
      "Epoch: 149 Loss: 0.13, Loss_test: 0.20\n",
      "=> result saved!\n",
      "Epoch: 150 Loss: 0.11, Loss_test: 0.20\n",
      "Epoch: 151 Loss: 0.21, Loss_test: 0.18\n",
      "Epoch: 152 Loss: 0.22, Loss_test: 0.17\n",
      "Epoch: 153 Loss: 0.15, Loss_test: 0.17\n",
      "Epoch: 154 Loss: 0.15, Loss_test: 0.17\n",
      "Epoch: 155 Loss: 0.17, Loss_test: 0.17\n",
      "Epoch: 156 Loss: 0.13, Loss_test: 0.17\n",
      "Epoch: 157 Loss: 0.15, Loss_test: 0.16\n",
      "Epoch: 158 Loss: 0.14, Loss_test: 0.16\n",
      "Epoch: 159 Loss: 0.19, Loss_test: 0.16\n",
      "=> result saved!\n",
      "Epoch: 160 Loss: 0.10, Loss_test: 0.17\n",
      "Epoch: 161 Loss: 0.13, Loss_test: 0.16\n",
      "Epoch: 162 Loss: 0.18, Loss_test: 0.16\n",
      "Epoch: 163 Loss: 0.18, Loss_test: 0.16\n",
      "Epoch: 164 Loss: 0.18, Loss_test: 0.15\n",
      "Epoch: 165 Loss: 0.16, Loss_test: 0.15\n",
      "Epoch: 166 Loss: 0.13, Loss_test: 0.15\n",
      "Epoch: 167 Loss: 0.18, Loss_test: 0.15\n",
      "Epoch: 168 Loss: 0.12, Loss_test: 0.15\n",
      "Epoch: 169 Loss: 0.20, Loss_test: 0.15\n",
      "=> result saved!\n",
      "Epoch: 170 Loss: 0.12, Loss_test: 0.15\n",
      "Epoch: 171 Loss: 0.09, Loss_test: 0.15\n",
      "Epoch: 172 Loss: 0.15, Loss_test: 0.15\n",
      "Epoch: 173 Loss: 0.17, Loss_test: 0.15\n",
      "Epoch: 174 Loss: 0.10, Loss_test: 0.14\n",
      "Epoch: 175 Loss: 0.09, Loss_test: 0.14\n",
      "Epoch: 176 Loss: 0.16, Loss_test: 0.15\n",
      "Epoch: 177 Loss: 0.06, Loss_test: 0.14\n",
      "Epoch: 178 Loss: 0.12, Loss_test: 0.14\n",
      "Epoch: 179 Loss: 0.19, Loss_test: 0.14\n",
      "=> result saved!\n",
      "Epoch: 180 Loss: 0.10, Loss_test: 0.14\n",
      "Epoch: 181 Loss: 0.13, Loss_test: 0.14\n",
      "Epoch: 182 Loss: 0.08, Loss_test: 0.14\n",
      "Epoch: 183 Loss: 0.11, Loss_test: 0.14\n",
      "Epoch: 184 Loss: 0.12, Loss_test: 0.15\n",
      "Epoch: 185 Loss: 0.16, Loss_test: 0.15\n",
      "Epoch: 186 Loss: 0.15, Loss_test: 0.15\n",
      "Epoch: 187 Loss: 0.13, Loss_test: 0.15\n",
      "Epoch: 188 Loss: 0.09, Loss_test: 0.15\n",
      "Epoch: 189 Loss: 0.11, Loss_test: 0.14\n",
      "=> result saved!\n",
      "Epoch: 190 Loss: 0.13, Loss_test: 0.14\n",
      "Epoch: 191 Loss: 0.18, Loss_test: 0.14\n",
      "Epoch: 192 Loss: 0.14, Loss_test: 0.15\n",
      "Epoch: 193 Loss: 0.12, Loss_test: 0.15\n",
      "Epoch: 194 Loss: 0.11, Loss_test: 0.16\n",
      "Epoch: 195 Loss: 0.13, Loss_test: 0.16\n",
      "Epoch: 196 Loss: 0.10, Loss_test: 0.16\n",
      "Epoch: 197 Loss: 0.20, Loss_test: 0.17\n",
      "Epoch: 198 Loss: 0.12, Loss_test: 0.17\n",
      "Epoch: 199 Loss: 0.10, Loss_test: 0.17\n",
      "=> result saved!\n",
      "Epoch: 200 Loss: 0.09, Loss_test: 0.16\n",
      "Epoch: 201 Loss: 0.16, Loss_test: 0.16\n",
      "Epoch: 202 Loss: 0.15, Loss_test: 0.15\n",
      "Epoch: 203 Loss: 0.11, Loss_test: 0.16\n",
      "Epoch: 204 Loss: 0.19, Loss_test: 0.16\n",
      "Epoch: 205 Loss: 0.12, Loss_test: 0.16\n",
      "Epoch: 206 Loss: 0.13, Loss_test: 0.17\n",
      "Epoch: 207 Loss: 0.08, Loss_test: 0.17\n",
      "Epoch: 208 Loss: 0.14, Loss_test: 0.16\n",
      "Epoch: 209 Loss: 0.14, Loss_test: 0.15\n",
      "=> result saved!\n",
      "Epoch: 210 Loss: 0.13, Loss_test: 0.15\n",
      "Epoch: 211 Loss: 0.20, Loss_test: 0.15\n",
      "Epoch: 212 Loss: 0.18, Loss_test: 0.15\n",
      "Epoch: 213 Loss: 0.15, Loss_test: 0.15\n",
      "Epoch: 214 Loss: 0.13, Loss_test: 0.14\n",
      "Epoch: 215 Loss: 0.10, Loss_test: 0.14\n",
      "Epoch: 216 Loss: 0.20, Loss_test: 0.15\n",
      "Epoch: 217 Loss: 0.07, Loss_test: 0.14\n",
      "Epoch: 218 Loss: 0.10, Loss_test: 0.14\n",
      "Epoch: 219 Loss: 0.15, Loss_test: 0.14\n",
      "=> result saved!\n",
      "Epoch: 220 Loss: 0.15, Loss_test: 0.13\n",
      "Epoch: 221 Loss: 0.16, Loss_test: 0.13\n",
      "Epoch: 222 Loss: 0.10, Loss_test: 0.13\n",
      "Epoch: 223 Loss: 0.10, Loss_test: 0.13\n",
      "Epoch: 224 Loss: 0.11, Loss_test: 0.13\n",
      "Epoch: 225 Loss: 0.10, Loss_test: 0.13\n",
      "Epoch: 226 Loss: 0.13, Loss_test: 0.13\n",
      "Epoch: 227 Loss: 0.12, Loss_test: 0.14\n",
      "Epoch: 228 Loss: 0.18, Loss_test: 0.14\n",
      "Epoch: 229 Loss: 0.14, Loss_test: 0.14\n",
      "=> result saved!\n",
      "Epoch: 230 Loss: 0.07, Loss_test: 0.15\n",
      "Epoch: 231 Loss: 0.14, Loss_test: 0.15\n",
      "Epoch: 232 Loss: 0.10, Loss_test: 0.15\n",
      "Epoch: 233 Loss: 0.11, Loss_test: 0.15\n",
      "Epoch: 234 Loss: 0.17, Loss_test: 0.14\n",
      "Epoch: 235 Loss: 0.06, Loss_test: 0.14\n",
      "Epoch: 236 Loss: 0.12, Loss_test: 0.15\n",
      "Epoch: 237 Loss: 0.10, Loss_test: 0.13\n",
      "Epoch: 238 Loss: 0.11, Loss_test: 0.13\n",
      "Epoch: 239 Loss: 0.10, Loss_test: 0.14\n",
      "=> result saved!\n",
      "Epoch: 240 Loss: 0.12, Loss_test: 0.14\n",
      "Epoch: 241 Loss: 0.12, Loss_test: 0.13\n",
      "Epoch: 242 Loss: 0.13, Loss_test: 0.13\n",
      "Epoch: 243 Loss: 0.09, Loss_test: 0.13\n",
      "Epoch: 244 Loss: 0.11, Loss_test: 0.12\n",
      "Epoch: 245 Loss: 0.07, Loss_test: 0.12\n",
      "Epoch: 246 Loss: 0.08, Loss_test: 0.12\n",
      "Epoch: 247 Loss: 0.08, Loss_test: 0.12\n",
      "Epoch: 248 Loss: 0.13, Loss_test: 0.13\n",
      "Epoch: 249 Loss: 0.10, Loss_test: 0.13\n",
      "=> result saved!\n",
      "Epoch: 250 Loss: 0.09, Loss_test: 0.12\n",
      "Epoch: 251 Loss: 0.11, Loss_test: 0.12\n",
      "Epoch: 252 Loss: 0.11, Loss_test: 0.12\n",
      "Epoch: 253 Loss: 0.09, Loss_test: 0.12\n",
      "Epoch: 254 Loss: 0.13, Loss_test: 0.12\n",
      "Epoch: 255 Loss: 0.15, Loss_test: 0.13\n",
      "Epoch: 256 Loss: 0.11, Loss_test: 0.12\n",
      "Epoch: 257 Loss: 0.12, Loss_test: 0.12\n",
      "Epoch: 258 Loss: 0.14, Loss_test: 0.12\n",
      "Epoch: 259 Loss: 0.08, Loss_test: 0.12\n",
      "=> result saved!\n",
      "Epoch: 260 Loss: 0.13, Loss_test: 0.11\n",
      "Epoch: 261 Loss: 0.11, Loss_test: 0.12\n",
      "Epoch: 262 Loss: 0.08, Loss_test: 0.12\n",
      "Epoch: 263 Loss: 0.12, Loss_test: 0.11\n",
      "Epoch: 264 Loss: 0.11, Loss_test: 0.11\n",
      "Epoch: 265 Loss: 0.10, Loss_test: 0.11\n",
      "Epoch: 266 Loss: 0.11, Loss_test: 0.11\n",
      "Epoch: 267 Loss: 0.05, Loss_test: 0.11\n",
      "Epoch: 268 Loss: 0.13, Loss_test: 0.12\n",
      "Epoch: 269 Loss: 0.09, Loss_test: 0.11\n",
      "=> result saved!\n",
      "Epoch: 270 Loss: 0.09, Loss_test: 0.11\n",
      "Epoch: 271 Loss: 0.06, Loss_test: 0.12\n",
      "Epoch: 272 Loss: 0.07, Loss_test: 0.12\n",
      "Epoch: 273 Loss: 0.07, Loss_test: 0.11\n",
      "Epoch: 274 Loss: 0.11, Loss_test: 0.11\n",
      "Epoch: 275 Loss: 0.06, Loss_test: 0.10\n",
      "Epoch: 276 Loss: 0.10, Loss_test: 0.10\n",
      "Epoch: 277 Loss: 0.11, Loss_test: 0.10\n",
      "Epoch: 278 Loss: 0.09, Loss_test: 0.10\n",
      "Epoch: 279 Loss: 0.06, Loss_test: 0.09\n",
      "=> result saved!\n",
      "Epoch: 280 Loss: 0.07, Loss_test: 0.10\n",
      "Epoch: 281 Loss: 0.09, Loss_test: 0.10\n",
      "Epoch: 282 Loss: 0.08, Loss_test: 0.10\n",
      "Epoch: 283 Loss: 0.10, Loss_test: 0.10\n",
      "Epoch: 284 Loss: 0.08, Loss_test: 0.10\n",
      "Epoch: 285 Loss: 0.10, Loss_test: 0.11\n",
      "Epoch: 286 Loss: 0.06, Loss_test: 0.11\n",
      "Epoch: 287 Loss: 0.13, Loss_test: 0.12\n",
      "Epoch: 288 Loss: 0.11, Loss_test: 0.13\n",
      "Epoch: 289 Loss: 0.07, Loss_test: 0.12\n",
      "=> result saved!\n",
      "Epoch: 290 Loss: 0.12, Loss_test: 0.13\n",
      "Epoch: 291 Loss: 0.07, Loss_test: 0.12\n",
      "Epoch: 292 Loss: 0.10, Loss_test: 0.13\n",
      "Epoch: 293 Loss: 0.10, Loss_test: 0.13\n",
      "Epoch: 294 Loss: 0.06, Loss_test: 0.13\n",
      "Epoch: 295 Loss: 0.08, Loss_test: 0.13\n",
      "Epoch: 296 Loss: 0.13, Loss_test: 0.12\n",
      "Epoch: 297 Loss: 0.11, Loss_test: 0.12\n",
      "Epoch: 298 Loss: 0.09, Loss_test: 0.12\n",
      "Epoch: 299 Loss: 0.05, Loss_test: 0.11\n",
      "=> result saved!\n",
      "Epoch: 300 Loss: 0.11, Loss_test: 0.11\n",
      "Epoch: 301 Loss: 0.15, Loss_test: 0.11\n",
      "Epoch: 302 Loss: 0.12, Loss_test: 0.11\n"
     ]
    },
    {
     "name": "stdout",
     "output_type": "stream",
     "text": [
      "Epoch: 303 Loss: 0.07, Loss_test: 0.11\n",
      "Epoch: 304 Loss: 0.08, Loss_test: 0.11\n",
      "Epoch: 305 Loss: 0.08, Loss_test: 0.11\n",
      "Epoch: 306 Loss: 0.11, Loss_test: 0.11\n",
      "Epoch: 307 Loss: 0.11, Loss_test: 0.11\n",
      "Epoch: 308 Loss: 0.08, Loss_test: 0.11\n",
      "Epoch: 309 Loss: 0.12, Loss_test: 0.10\n",
      "=> result saved!\n",
      "Epoch: 310 Loss: 0.08, Loss_test: 0.10\n",
      "Epoch: 311 Loss: 0.08, Loss_test: 0.10\n",
      "Epoch: 312 Loss: 0.11, Loss_test: 0.10\n",
      "Epoch: 313 Loss: 0.15, Loss_test: 0.10\n",
      "Epoch: 314 Loss: 0.13, Loss_test: 0.10\n",
      "Epoch: 315 Loss: 0.07, Loss_test: 0.11\n",
      "Epoch: 316 Loss: 0.10, Loss_test: 0.11\n",
      "Epoch: 317 Loss: 0.06, Loss_test: 0.11\n",
      "Epoch: 318 Loss: 0.13, Loss_test: 0.10\n",
      "Epoch: 319 Loss: 0.05, Loss_test: 0.09\n",
      "=> result saved!\n",
      "Epoch: 320 Loss: 0.14, Loss_test: 0.10\n",
      "Epoch: 321 Loss: 0.03, Loss_test: 0.10\n",
      "Epoch: 322 Loss: 0.10, Loss_test: 0.10\n",
      "Epoch: 323 Loss: 0.13, Loss_test: 0.10\n",
      "Epoch: 324 Loss: 0.07, Loss_test: 0.10\n",
      "Epoch: 325 Loss: 0.06, Loss_test: 0.10\n",
      "Epoch: 326 Loss: 0.09, Loss_test: 0.10\n",
      "Epoch: 327 Loss: 0.10, Loss_test: 0.10\n",
      "Epoch: 328 Loss: 0.13, Loss_test: 0.10\n",
      "Epoch: 329 Loss: 0.07, Loss_test: 0.09\n",
      "=> result saved!\n",
      "Epoch: 330 Loss: 0.11, Loss_test: 0.09\n",
      "Epoch: 331 Loss: 0.07, Loss_test: 0.09\n",
      "Epoch: 332 Loss: 0.10, Loss_test: 0.09\n",
      "Epoch: 333 Loss: 0.07, Loss_test: 0.09\n",
      "Epoch: 334 Loss: 0.09, Loss_test: 0.09\n",
      "Epoch: 335 Loss: 0.07, Loss_test: 0.10\n",
      "Epoch: 336 Loss: 0.07, Loss_test: 0.10\n",
      "Epoch: 337 Loss: 0.06, Loss_test: 0.10\n",
      "Epoch: 338 Loss: 0.07, Loss_test: 0.10\n",
      "Epoch: 339 Loss: 0.14, Loss_test: 0.10\n",
      "=> result saved!\n",
      "Epoch: 340 Loss: 0.13, Loss_test: 0.10\n",
      "Epoch: 341 Loss: 0.09, Loss_test: 0.09\n",
      "Epoch: 342 Loss: 0.09, Loss_test: 0.09\n",
      "Epoch: 343 Loss: 0.04, Loss_test: 0.09\n",
      "Epoch: 344 Loss: 0.08, Loss_test: 0.09\n",
      "Epoch: 345 Loss: 0.08, Loss_test: 0.09\n",
      "Epoch: 346 Loss: 0.06, Loss_test: 0.10\n",
      "Epoch: 347 Loss: 0.06, Loss_test: 0.10\n",
      "Epoch: 348 Loss: 0.09, Loss_test: 0.10\n",
      "Epoch: 349 Loss: 0.09, Loss_test: 0.10\n",
      "=> result saved!\n",
      "Epoch: 350 Loss: 0.08, Loss_test: 0.10\n",
      "Epoch: 351 Loss: 0.10, Loss_test: 0.10\n",
      "Epoch: 352 Loss: 0.07, Loss_test: 0.10\n",
      "Epoch: 353 Loss: 0.08, Loss_test: 0.10\n",
      "Epoch: 354 Loss: 0.09, Loss_test: 0.09\n",
      "Epoch: 355 Loss: 0.10, Loss_test: 0.09\n",
      "Epoch: 356 Loss: 0.10, Loss_test: 0.09\n",
      "Epoch: 357 Loss: 0.07, Loss_test: 0.10\n",
      "Epoch: 358 Loss: 0.07, Loss_test: 0.10\n",
      "Epoch: 359 Loss: 0.07, Loss_test: 0.10\n",
      "=> result saved!\n",
      "Epoch: 360 Loss: 0.06, Loss_test: 0.10\n",
      "Epoch: 361 Loss: 0.13, Loss_test: 0.10\n",
      "Epoch: 362 Loss: 0.08, Loss_test: 0.10\n",
      "Epoch: 363 Loss: 0.10, Loss_test: 0.09\n",
      "Epoch: 364 Loss: 0.07, Loss_test: 0.09\n",
      "Epoch: 365 Loss: 0.07, Loss_test: 0.09\n",
      "Epoch: 366 Loss: 0.08, Loss_test: 0.09\n",
      "Epoch: 367 Loss: 0.14, Loss_test: 0.09\n",
      "Epoch: 368 Loss: 0.08, Loss_test: 0.09\n",
      "Epoch: 369 Loss: 0.07, Loss_test: 0.08\n",
      "=> result saved!\n",
      "Epoch: 370 Loss: 0.12, Loss_test: 0.08\n",
      "Epoch: 371 Loss: 0.09, Loss_test: 0.09\n",
      "Epoch: 372 Loss: 0.10, Loss_test: 0.09\n",
      "Epoch: 373 Loss: 0.06, Loss_test: 0.10\n",
      "Epoch: 374 Loss: 0.09, Loss_test: 0.10\n",
      "Epoch: 375 Loss: 0.10, Loss_test: 0.11\n",
      "Epoch: 376 Loss: 0.09, Loss_test: 0.11\n",
      "Epoch: 377 Loss: 0.10, Loss_test: 0.11\n",
      "Epoch: 378 Loss: 0.08, Loss_test: 0.11\n",
      "Epoch: 379 Loss: 0.09, Loss_test: 0.11\n",
      "=> result saved!\n",
      "Epoch: 380 Loss: 0.07, Loss_test: 0.10\n",
      "Epoch: 381 Loss: 0.07, Loss_test: 0.10\n",
      "Epoch: 382 Loss: 0.10, Loss_test: 0.09\n",
      "Epoch: 383 Loss: 0.08, Loss_test: 0.09\n",
      "Epoch: 384 Loss: 0.05, Loss_test: 0.09\n",
      "Epoch: 385 Loss: 0.06, Loss_test: 0.09\n",
      "Epoch: 386 Loss: 0.07, Loss_test: 0.09\n",
      "Epoch: 387 Loss: 0.07, Loss_test: 0.09\n",
      "Epoch: 388 Loss: 0.08, Loss_test: 0.08\n",
      "Epoch: 389 Loss: 0.06, Loss_test: 0.08\n",
      "=> result saved!\n",
      "Epoch: 390 Loss: 0.06, Loss_test: 0.08\n",
      "Epoch: 391 Loss: 0.09, Loss_test: 0.08\n",
      "Epoch: 392 Loss: 0.15, Loss_test: 0.08\n",
      "Epoch: 393 Loss: 0.05, Loss_test: 0.08\n",
      "Epoch: 394 Loss: 0.05, Loss_test: 0.08\n",
      "Epoch: 395 Loss: 0.08, Loss_test: 0.08\n",
      "Epoch: 396 Loss: 0.08, Loss_test: 0.08\n",
      "Epoch: 397 Loss: 0.06, Loss_test: 0.08\n",
      "Epoch: 398 Loss: 0.07, Loss_test: 0.08\n",
      "Epoch: 399 Loss: 0.08, Loss_test: 0.07\n",
      "=> result saved!\n",
      "Epoch: 400 Loss: 0.10, Loss_test: 0.07\n",
      "Epoch: 401 Loss: 0.12, Loss_test: 0.08\n",
      "Epoch: 402 Loss: 0.04, Loss_test: 0.08\n",
      "Epoch: 403 Loss: 0.08, Loss_test: 0.09\n",
      "Epoch: 404 Loss: 0.08, Loss_test: 0.11\n",
      "Epoch: 405 Loss: 0.08, Loss_test: 0.10\n",
      "Epoch: 406 Loss: 0.07, Loss_test: 0.10\n",
      "Epoch: 407 Loss: 0.06, Loss_test: 0.09\n",
      "Epoch: 408 Loss: 0.05, Loss_test: 0.10\n",
      "Epoch: 409 Loss: 0.07, Loss_test: 0.09\n",
      "=> result saved!\n",
      "Epoch: 410 Loss: 0.08, Loss_test: 0.09\n",
      "Epoch: 411 Loss: 0.12, Loss_test: 0.09\n",
      "Epoch: 412 Loss: 0.05, Loss_test: 0.10\n",
      "Epoch: 413 Loss: 0.10, Loss_test: 0.11\n",
      "Epoch: 414 Loss: 0.10, Loss_test: 0.10\n",
      "Epoch: 415 Loss: 0.13, Loss_test: 0.10\n",
      "Epoch: 416 Loss: 0.09, Loss_test: 0.10\n",
      "Epoch: 417 Loss: 0.08, Loss_test: 0.10\n",
      "Epoch: 418 Loss: 0.05, Loss_test: 0.10\n",
      "Epoch: 419 Loss: 0.07, Loss_test: 0.09\n",
      "=> result saved!\n",
      "Epoch: 420 Loss: 0.05, Loss_test: 0.10\n",
      "Epoch: 421 Loss: 0.07, Loss_test: 0.10\n",
      "Epoch: 422 Loss: 0.10, Loss_test: 0.10\n",
      "Epoch: 423 Loss: 0.07, Loss_test: 0.09\n",
      "Epoch: 424 Loss: 0.10, Loss_test: 0.09\n",
      "Epoch: 425 Loss: 0.07, Loss_test: 0.09\n",
      "Epoch: 426 Loss: 0.05, Loss_test: 0.09\n",
      "Epoch: 427 Loss: 0.08, Loss_test: 0.08\n",
      "Epoch: 428 Loss: 0.08, Loss_test: 0.09\n",
      "Epoch: 429 Loss: 0.08, Loss_test: 0.09\n",
      "=> result saved!\n",
      "Epoch: 430 Loss: 0.06, Loss_test: 0.09\n",
      "Epoch: 431 Loss: 0.09, Loss_test: 0.09\n",
      "Epoch: 432 Loss: 0.11, Loss_test: 0.08\n",
      "Epoch: 433 Loss: 0.07, Loss_test: 0.08\n",
      "Epoch: 434 Loss: 0.13, Loss_test: 0.08\n",
      "Epoch: 435 Loss: 0.06, Loss_test: 0.09\n",
      "Epoch: 436 Loss: 0.05, Loss_test: 0.09\n",
      "Epoch: 437 Loss: 0.08, Loss_test: 0.10\n",
      "Epoch: 438 Loss: 0.07, Loss_test: 0.10\n",
      "Epoch: 439 Loss: 0.07, Loss_test: 0.09\n",
      "=> result saved!\n",
      "Epoch: 440 Loss: 0.07, Loss_test: 0.10\n",
      "Epoch: 441 Loss: 0.06, Loss_test: 0.09\n",
      "Epoch: 442 Loss: 0.05, Loss_test: 0.09\n",
      "Epoch: 443 Loss: 0.11, Loss_test: 0.08\n",
      "Epoch: 444 Loss: 0.09, Loss_test: 0.08\n",
      "Epoch: 445 Loss: 0.04, Loss_test: 0.08\n",
      "Epoch: 446 Loss: 0.07, Loss_test: 0.09\n",
      "Epoch: 447 Loss: 0.09, Loss_test: 0.09\n",
      "Epoch: 448 Loss: 0.08, Loss_test: 0.09\n",
      "Epoch: 449 Loss: 0.07, Loss_test: 0.09\n",
      "=> result saved!\n",
      "Epoch: 450 Loss: 0.06, Loss_test: 0.09\n",
      "Epoch: 451 Loss: 0.04, Loss_test: 0.09\n",
      "Epoch: 452 Loss: 0.09, Loss_test: 0.09\n",
      "Epoch: 453 Loss: 0.07, Loss_test: 0.09\n",
      "Epoch: 454 Loss: 0.11, Loss_test: 0.09\n",
      "Epoch: 455 Loss: 0.08, Loss_test: 0.08\n",
      "Epoch: 456 Loss: 0.08, Loss_test: 0.08\n",
      "Epoch: 457 Loss: 0.07, Loss_test: 0.09\n",
      "Epoch: 458 Loss: 0.07, Loss_test: 0.09\n",
      "Epoch: 459 Loss: 0.08, Loss_test: 0.09\n",
      "=> result saved!\n",
      "Epoch: 460 Loss: 0.04, Loss_test: 0.09\n",
      "Epoch: 461 Loss: 0.05, Loss_test: 0.09\n",
      "Epoch: 462 Loss: 0.06, Loss_test: 0.09\n",
      "Epoch: 463 Loss: 0.08, Loss_test: 0.09\n",
      "Epoch: 464 Loss: 0.04, Loss_test: 0.09\n",
      "Epoch: 465 Loss: 0.04, Loss_test: 0.08\n",
      "Epoch: 466 Loss: 0.07, Loss_test: 0.09\n",
      "Epoch: 467 Loss: 0.06, Loss_test: 0.09\n",
      "Epoch: 468 Loss: 0.07, Loss_test: 0.09\n",
      "Epoch: 469 Loss: 0.07, Loss_test: 0.09\n",
      "=> result saved!\n",
      "Epoch: 470 Loss: 0.07, Loss_test: 0.09\n",
      "Epoch: 471 Loss: 0.04, Loss_test: 0.09\n",
      "Epoch: 472 Loss: 0.07, Loss_test: 0.08\n",
      "Epoch: 473 Loss: 0.06, Loss_test: 0.08\n",
      "Epoch: 474 Loss: 0.09, Loss_test: 0.07\n",
      "Epoch: 475 Loss: 0.07, Loss_test: 0.08\n",
      "Epoch: 476 Loss: 0.06, Loss_test: 0.09\n",
      "Epoch: 477 Loss: 0.08, Loss_test: 0.09\n",
      "Epoch: 478 Loss: 0.06, Loss_test: 0.08\n",
      "Epoch: 479 Loss: 0.12, Loss_test: 0.08\n",
      "=> result saved!\n",
      "Epoch: 480 Loss: 0.04, Loss_test: 0.08\n",
      "Epoch: 481 Loss: 0.08, Loss_test: 0.08\n",
      "Epoch: 482 Loss: 0.05, Loss_test: 0.08\n",
      "Epoch: 483 Loss: 0.06, Loss_test: 0.08\n",
      "Epoch: 484 Loss: 0.05, Loss_test: 0.07\n",
      "Epoch: 485 Loss: 0.06, Loss_test: 0.07\n",
      "Epoch: 486 Loss: 0.10, Loss_test: 0.07\n",
      "Epoch: 487 Loss: 0.12, Loss_test: 0.07\n",
      "Epoch: 488 Loss: 0.06, Loss_test: 0.07\n",
      "Epoch: 489 Loss: 0.04, Loss_test: 0.06\n",
      "=> result saved!\n",
      "Epoch: 490 Loss: 0.04, Loss_test: 0.06\n",
      "Epoch: 491 Loss: 0.05, Loss_test: 0.07\n",
      "Epoch: 492 Loss: 0.05, Loss_test: 0.07\n",
      "Epoch: 493 Loss: 0.08, Loss_test: 0.07\n",
      "Epoch: 494 Loss: 0.04, Loss_test: 0.07\n",
      "Epoch: 495 Loss: 0.05, Loss_test: 0.07\n",
      "Epoch: 496 Loss: 0.05, Loss_test: 0.08\n",
      "Epoch: 497 Loss: 0.08, Loss_test: 0.08\n",
      "Epoch: 498 Loss: 0.06, Loss_test: 0.08\n",
      "Epoch: 499 Loss: 0.08, Loss_test: 0.08\n",
      "=> result saved!\n",
      "Epoch: 500 Loss: 0.06, Loss_test: 0.08\n",
      "Epoch: 501 Loss: 0.09, Loss_test: 0.08\n",
      "Epoch: 502 Loss: 0.09, Loss_test: 0.08\n",
      "Epoch: 503 Loss: 0.09, Loss_test: 0.08\n",
      "Epoch: 504 Loss: 0.08, Loss_test: 0.08\n"
     ]
    },
    {
     "name": "stdout",
     "output_type": "stream",
     "text": [
      "Epoch: 505 Loss: 0.06, Loss_test: 0.08\n",
      "Epoch: 506 Loss: 0.03, Loss_test: 0.09\n",
      "Epoch: 507 Loss: 0.05, Loss_test: 0.08\n",
      "Epoch: 508 Loss: 0.05, Loss_test: 0.08\n",
      "Epoch: 509 Loss: 0.09, Loss_test: 0.08\n",
      "=> result saved!\n",
      "Epoch: 510 Loss: 0.06, Loss_test: 0.08\n",
      "Epoch: 511 Loss: 0.05, Loss_test: 0.09\n",
      "Epoch: 512 Loss: 0.05, Loss_test: 0.08\n",
      "Epoch: 513 Loss: 0.08, Loss_test: 0.08\n",
      "Epoch: 514 Loss: 0.06, Loss_test: 0.08\n",
      "Epoch: 515 Loss: 0.07, Loss_test: 0.08\n",
      "Epoch: 516 Loss: 0.06, Loss_test: 0.07\n",
      "Epoch: 517 Loss: 0.08, Loss_test: 0.07\n",
      "Epoch: 518 Loss: 0.06, Loss_test: 0.07\n",
      "Epoch: 519 Loss: 0.06, Loss_test: 0.07\n",
      "=> result saved!\n",
      "Epoch: 520 Loss: 0.06, Loss_test: 0.07\n",
      "Epoch: 521 Loss: 0.04, Loss_test: 0.07\n",
      "Epoch: 522 Loss: 0.08, Loss_test: 0.07\n",
      "Epoch: 523 Loss: 0.07, Loss_test: 0.07\n",
      "Epoch: 524 Loss: 0.04, Loss_test: 0.08\n",
      "Epoch: 525 Loss: 0.04, Loss_test: 0.08\n",
      "Epoch: 526 Loss: 0.07, Loss_test: 0.08\n",
      "Epoch: 527 Loss: 0.05, Loss_test: 0.07\n",
      "Epoch: 528 Loss: 0.07, Loss_test: 0.07\n",
      "Epoch: 529 Loss: 0.06, Loss_test: 0.07\n",
      "=> result saved!\n",
      "Epoch: 530 Loss: 0.07, Loss_test: 0.07\n",
      "Epoch: 531 Loss: 0.08, Loss_test: 0.07\n",
      "Epoch: 532 Loss: 0.06, Loss_test: 0.07\n",
      "Epoch: 533 Loss: 0.03, Loss_test: 0.08\n",
      "Epoch: 534 Loss: 0.04, Loss_test: 0.08\n",
      "Epoch: 535 Loss: 0.03, Loss_test: 0.08\n",
      "Epoch: 536 Loss: 0.07, Loss_test: 0.09\n",
      "Epoch: 537 Loss: 0.08, Loss_test: 0.09\n",
      "Epoch: 538 Loss: 0.08, Loss_test: 0.08\n",
      "Epoch: 539 Loss: 0.07, Loss_test: 0.08\n",
      "=> result saved!\n",
      "Epoch: 540 Loss: 0.05, Loss_test: 0.08\n",
      "Epoch: 541 Loss: 0.12, Loss_test: 0.08\n",
      "Epoch: 542 Loss: 0.05, Loss_test: 0.08\n",
      "Epoch: 543 Loss: 0.08, Loss_test: 0.08\n",
      "Epoch: 544 Loss: 0.06, Loss_test: 0.08\n",
      "Epoch: 545 Loss: 0.09, Loss_test: 0.08\n",
      "Epoch: 546 Loss: 0.05, Loss_test: 0.07\n",
      "Epoch: 547 Loss: 0.07, Loss_test: 0.07\n",
      "Epoch: 548 Loss: 0.08, Loss_test: 0.08\n",
      "Epoch: 549 Loss: 0.05, Loss_test: 0.07\n",
      "=> result saved!\n",
      "Epoch: 550 Loss: 0.05, Loss_test: 0.08\n",
      "Epoch: 551 Loss: 0.10, Loss_test: 0.07\n",
      "Epoch: 552 Loss: 0.03, Loss_test: 0.08\n",
      "Epoch: 553 Loss: 0.07, Loss_test: 0.08\n",
      "Epoch: 554 Loss: 0.07, Loss_test: 0.08\n",
      "Epoch: 555 Loss: 0.05, Loss_test: 0.08\n",
      "Epoch: 556 Loss: 0.04, Loss_test: 0.07\n",
      "Epoch: 557 Loss: 0.05, Loss_test: 0.07\n",
      "Epoch: 558 Loss: 0.05, Loss_test: 0.08\n",
      "Epoch: 559 Loss: 0.07, Loss_test: 0.07\n",
      "=> result saved!\n",
      "Epoch: 560 Loss: 0.04, Loss_test: 0.07\n",
      "Epoch: 561 Loss: 0.05, Loss_test: 0.07\n",
      "Epoch: 562 Loss: 0.05, Loss_test: 0.07\n",
      "Epoch: 563 Loss: 0.06, Loss_test: 0.07\n",
      "Epoch: 564 Loss: 0.04, Loss_test: 0.07\n",
      "Epoch: 565 Loss: 0.07, Loss_test: 0.07\n",
      "Epoch: 566 Loss: 0.03, Loss_test: 0.08\n",
      "Epoch: 567 Loss: 0.06, Loss_test: 0.07\n",
      "Epoch: 568 Loss: 0.07, Loss_test: 0.07\n",
      "Epoch: 569 Loss: 0.05, Loss_test: 0.07\n",
      "=> result saved!\n",
      "Epoch: 570 Loss: 0.06, Loss_test: 0.07\n",
      "Epoch: 571 Loss: 0.07, Loss_test: 0.07\n",
      "Epoch: 572 Loss: 0.05, Loss_test: 0.08\n",
      "Epoch: 573 Loss: 0.06, Loss_test: 0.08\n",
      "Epoch: 574 Loss: 0.06, Loss_test: 0.08\n",
      "Epoch: 575 Loss: 0.06, Loss_test: 0.08\n",
      "Epoch: 576 Loss: 0.08, Loss_test: 0.07\n",
      "Epoch: 577 Loss: 0.06, Loss_test: 0.07\n",
      "Epoch: 578 Loss: 0.04, Loss_test: 0.08\n",
      "Epoch: 579 Loss: 0.06, Loss_test: 0.08\n",
      "=> result saved!\n",
      "Epoch: 580 Loss: 0.03, Loss_test: 0.08\n",
      "Epoch: 581 Loss: 0.06, Loss_test: 0.08\n",
      "Epoch: 582 Loss: 0.05, Loss_test: 0.08\n",
      "Epoch: 583 Loss: 0.08, Loss_test: 0.08\n",
      "Epoch: 584 Loss: 0.06, Loss_test: 0.08\n",
      "Epoch: 585 Loss: 0.06, Loss_test: 0.08\n",
      "Epoch: 586 Loss: 0.03, Loss_test: 0.08\n",
      "Epoch: 587 Loss: 0.11, Loss_test: 0.07\n",
      "Epoch: 588 Loss: 0.05, Loss_test: 0.07\n",
      "Epoch: 589 Loss: 0.07, Loss_test: 0.07\n",
      "=> result saved!\n",
      "Epoch: 590 Loss: 0.04, Loss_test: 0.07\n",
      "Epoch: 591 Loss: 0.07, Loss_test: 0.07\n",
      "Epoch: 592 Loss: 0.02, Loss_test: 0.06\n",
      "Epoch: 593 Loss: 0.05, Loss_test: 0.07\n",
      "Epoch: 594 Loss: 0.07, Loss_test: 0.07\n",
      "Epoch: 595 Loss: 0.04, Loss_test: 0.07\n",
      "Epoch: 596 Loss: 0.05, Loss_test: 0.07\n",
      "Epoch: 597 Loss: 0.06, Loss_test: 0.07\n",
      "Epoch: 598 Loss: 0.07, Loss_test: 0.07\n",
      "Epoch: 599 Loss: 0.03, Loss_test: 0.06\n",
      "=> result saved!\n",
      "Epoch: 600 Loss: 0.04, Loss_test: 0.06\n",
      "Epoch: 601 Loss: 0.06, Loss_test: 0.06\n",
      "Epoch: 602 Loss: 0.05, Loss_test: 0.06\n",
      "Epoch: 603 Loss: 0.10, Loss_test: 0.06\n",
      "Epoch: 604 Loss: 0.07, Loss_test: 0.06\n",
      "Epoch: 605 Loss: 0.13, Loss_test: 0.06\n",
      "Epoch: 606 Loss: 0.07, Loss_test: 0.06\n",
      "Epoch: 607 Loss: 0.05, Loss_test: 0.06\n",
      "Epoch: 608 Loss: 0.10, Loss_test: 0.06\n",
      "Epoch: 609 Loss: 0.12, Loss_test: 0.06\n",
      "=> result saved!\n",
      "Epoch: 610 Loss: 0.04, Loss_test: 0.07\n",
      "Epoch: 611 Loss: 0.07, Loss_test: 0.07\n",
      "Epoch: 612 Loss: 0.08, Loss_test: 0.06\n",
      "Epoch: 613 Loss: 0.09, Loss_test: 0.06\n",
      "Epoch: 614 Loss: 0.03, Loss_test: 0.06\n",
      "Epoch: 615 Loss: 0.03, Loss_test: 0.06\n",
      "Epoch: 616 Loss: 0.06, Loss_test: 0.06\n",
      "Epoch: 617 Loss: 0.05, Loss_test: 0.07\n",
      "Epoch: 618 Loss: 0.03, Loss_test: 0.06\n",
      "Epoch: 619 Loss: 0.04, Loss_test: 0.07\n",
      "=> result saved!\n",
      "Epoch: 620 Loss: 0.05, Loss_test: 0.07\n",
      "Epoch: 621 Loss: 0.06, Loss_test: 0.07\n",
      "Epoch: 622 Loss: 0.06, Loss_test: 0.07\n",
      "Epoch: 623 Loss: 0.04, Loss_test: 0.07\n",
      "Epoch: 624 Loss: 0.06, Loss_test: 0.06\n",
      "Epoch: 625 Loss: 0.06, Loss_test: 0.07\n",
      "Epoch: 626 Loss: 0.08, Loss_test: 0.07\n",
      "Epoch: 627 Loss: 0.09, Loss_test: 0.07\n",
      "Epoch: 628 Loss: 0.07, Loss_test: 0.07\n",
      "Epoch: 629 Loss: 0.04, Loss_test: 0.07\n",
      "=> result saved!\n",
      "Epoch: 630 Loss: 0.06, Loss_test: 0.07\n",
      "Epoch: 631 Loss: 0.06, Loss_test: 0.07\n",
      "Epoch: 632 Loss: 0.07, Loss_test: 0.06\n",
      "Epoch: 633 Loss: 0.06, Loss_test: 0.07\n",
      "Epoch: 634 Loss: 0.06, Loss_test: 0.07\n",
      "Epoch: 635 Loss: 0.04, Loss_test: 0.06\n",
      "Epoch: 636 Loss: 0.06, Loss_test: 0.06\n",
      "Epoch: 637 Loss: 0.04, Loss_test: 0.06\n",
      "Epoch: 638 Loss: 0.08, Loss_test: 0.06\n",
      "Epoch: 639 Loss: 0.05, Loss_test: 0.06\n",
      "=> result saved!\n",
      "Epoch: 640 Loss: 0.06, Loss_test: 0.06\n",
      "Epoch: 641 Loss: 0.06, Loss_test: 0.06\n",
      "Epoch: 642 Loss: 0.05, Loss_test: 0.06\n",
      "Epoch: 643 Loss: 0.06, Loss_test: 0.07\n",
      "Epoch: 644 Loss: 0.07, Loss_test: 0.07\n",
      "Epoch: 645 Loss: 0.04, Loss_test: 0.07\n",
      "Epoch: 646 Loss: 0.06, Loss_test: 0.06\n",
      "Epoch: 647 Loss: 0.05, Loss_test: 0.06\n",
      "Epoch: 648 Loss: 0.06, Loss_test: 0.06\n",
      "Epoch: 649 Loss: 0.05, Loss_test: 0.06\n",
      "=> result saved!\n",
      "Epoch: 650 Loss: 0.06, Loss_test: 0.07\n",
      "Epoch: 651 Loss: 0.05, Loss_test: 0.08\n",
      "Epoch: 652 Loss: 0.06, Loss_test: 0.07\n",
      "Epoch: 653 Loss: 0.04, Loss_test: 0.07\n",
      "Epoch: 654 Loss: 0.10, Loss_test: 0.07\n",
      "Epoch: 655 Loss: 0.06, Loss_test: 0.07\n",
      "Epoch: 656 Loss: 0.08, Loss_test: 0.07\n",
      "Epoch: 657 Loss: 0.05, Loss_test: 0.06\n",
      "Epoch: 658 Loss: 0.07, Loss_test: 0.06\n",
      "Epoch: 659 Loss: 0.05, Loss_test: 0.07\n",
      "=> result saved!\n",
      "Epoch: 660 Loss: 0.05, Loss_test: 0.07\n",
      "Epoch: 661 Loss: 0.11, Loss_test: 0.06\n",
      "Epoch: 662 Loss: 0.05, Loss_test: 0.06\n",
      "Epoch: 663 Loss: 0.05, Loss_test: 0.07\n",
      "Epoch: 664 Loss: 0.05, Loss_test: 0.06\n",
      "Epoch: 665 Loss: 0.05, Loss_test: 0.07\n",
      "Epoch: 666 Loss: 0.10, Loss_test: 0.07\n",
      "Epoch: 667 Loss: 0.07, Loss_test: 0.07\n",
      "Epoch: 668 Loss: 0.08, Loss_test: 0.06\n",
      "Epoch: 669 Loss: 0.07, Loss_test: 0.06\n",
      "=> result saved!\n",
      "Epoch: 670 Loss: 0.05, Loss_test: 0.06\n",
      "Epoch: 671 Loss: 0.02, Loss_test: 0.05\n",
      "Epoch: 672 Loss: 0.07, Loss_test: 0.05\n",
      "Epoch: 673 Loss: 0.04, Loss_test: 0.05\n",
      "Epoch: 674 Loss: 0.07, Loss_test: 0.06\n",
      "Epoch: 675 Loss: 0.07, Loss_test: 0.05\n",
      "Epoch: 676 Loss: 0.05, Loss_test: 0.06\n",
      "Epoch: 677 Loss: 0.05, Loss_test: 0.06\n",
      "Epoch: 678 Loss: 0.04, Loss_test: 0.07\n",
      "Epoch: 679 Loss: 0.03, Loss_test: 0.07\n",
      "=> result saved!\n",
      "Epoch: 680 Loss: 0.05, Loss_test: 0.06\n",
      "Epoch: 681 Loss: 0.06, Loss_test: 0.06\n",
      "Epoch: 682 Loss: 0.04, Loss_test: 0.06\n",
      "Epoch: 683 Loss: 0.06, Loss_test: 0.06\n",
      "Epoch: 684 Loss: 0.07, Loss_test: 0.06\n",
      "Epoch: 685 Loss: 0.03, Loss_test: 0.06\n",
      "Epoch: 686 Loss: 0.04, Loss_test: 0.06\n",
      "Epoch: 687 Loss: 0.05, Loss_test: 0.06\n",
      "Epoch: 688 Loss: 0.03, Loss_test: 0.06\n",
      "Epoch: 689 Loss: 0.05, Loss_test: 0.06\n",
      "=> result saved!\n",
      "Epoch: 690 Loss: 0.07, Loss_test: 0.05\n",
      "Epoch: 691 Loss: 0.04, Loss_test: 0.06\n",
      "Epoch: 692 Loss: 0.06, Loss_test: 0.06\n",
      "Epoch: 693 Loss: 0.05, Loss_test: 0.06\n",
      "Epoch: 694 Loss: 0.03, Loss_test: 0.06\n",
      "Epoch: 695 Loss: 0.05, Loss_test: 0.06\n",
      "Epoch: 696 Loss: 0.10, Loss_test: 0.06\n",
      "Epoch: 697 Loss: 0.04, Loss_test: 0.06\n",
      "Epoch: 698 Loss: 0.05, Loss_test: 0.06\n",
      "Epoch: 699 Loss: 0.08, Loss_test: 0.06\n",
      "=> result saved!\n",
      "Epoch: 700 Loss: 0.05, Loss_test: 0.06\n",
      "Epoch: 701 Loss: 0.06, Loss_test: 0.06\n",
      "Epoch: 702 Loss: 0.04, Loss_test: 0.06\n",
      "Epoch: 703 Loss: 0.08, Loss_test: 0.06\n",
      "Epoch: 704 Loss: 0.06, Loss_test: 0.06\n",
      "Epoch: 705 Loss: 0.04, Loss_test: 0.05\n",
      "Epoch: 706 Loss: 0.07, Loss_test: 0.06\n"
     ]
    },
    {
     "name": "stdout",
     "output_type": "stream",
     "text": [
      "Epoch: 707 Loss: 0.04, Loss_test: 0.05\n",
      "Epoch: 708 Loss: 0.04, Loss_test: 0.05\n",
      "Epoch: 709 Loss: 0.10, Loss_test: 0.05\n",
      "=> result saved!\n",
      "Epoch: 710 Loss: 0.05, Loss_test: 0.06\n",
      "Epoch: 711 Loss: 0.04, Loss_test: 0.06\n",
      "Epoch: 712 Loss: 0.04, Loss_test: 0.06\n",
      "Epoch: 713 Loss: 0.06, Loss_test: 0.06\n",
      "Epoch: 714 Loss: 0.08, Loss_test: 0.06\n",
      "Epoch: 715 Loss: 0.04, Loss_test: 0.06\n",
      "Epoch: 716 Loss: 0.06, Loss_test: 0.06\n",
      "Epoch: 717 Loss: 0.04, Loss_test: 0.06\n",
      "Epoch: 718 Loss: 0.06, Loss_test: 0.06\n",
      "Epoch: 719 Loss: 0.07, Loss_test: 0.07\n",
      "=> result saved!\n",
      "Epoch: 720 Loss: 0.05, Loss_test: 0.07\n",
      "Epoch: 721 Loss: 0.05, Loss_test: 0.07\n",
      "Epoch: 722 Loss: 0.05, Loss_test: 0.07\n",
      "Epoch: 723 Loss: 0.06, Loss_test: 0.07\n",
      "Epoch: 724 Loss: 0.06, Loss_test: 0.07\n",
      "Epoch: 725 Loss: 0.04, Loss_test: 0.07\n",
      "Epoch: 726 Loss: 0.04, Loss_test: 0.06\n",
      "Epoch: 727 Loss: 0.08, Loss_test: 0.07\n",
      "Epoch: 728 Loss: 0.05, Loss_test: 0.07\n",
      "Epoch: 729 Loss: 0.06, Loss_test: 0.06\n",
      "=> result saved!\n",
      "Epoch: 730 Loss: 0.06, Loss_test: 0.06\n",
      "Epoch: 731 Loss: 0.06, Loss_test: 0.06\n",
      "Epoch: 732 Loss: 0.05, Loss_test: 0.06\n",
      "Epoch: 733 Loss: 0.04, Loss_test: 0.06\n",
      "Epoch: 734 Loss: 0.06, Loss_test: 0.06\n",
      "Epoch: 735 Loss: 0.03, Loss_test: 0.06\n",
      "Epoch: 736 Loss: 0.03, Loss_test: 0.06\n",
      "Epoch: 737 Loss: 0.04, Loss_test: 0.06\n",
      "Epoch: 738 Loss: 0.08, Loss_test: 0.05\n",
      "Epoch: 739 Loss: 0.03, Loss_test: 0.06\n",
      "=> result saved!\n",
      "Epoch: 740 Loss: 0.04, Loss_test: 0.06\n",
      "Epoch: 741 Loss: 0.02, Loss_test: 0.05\n",
      "Epoch: 742 Loss: 0.08, Loss_test: 0.05\n",
      "Epoch: 743 Loss: 0.05, Loss_test: 0.05\n",
      "Epoch: 744 Loss: 0.07, Loss_test: 0.05\n",
      "Epoch: 745 Loss: 0.04, Loss_test: 0.05\n",
      "Epoch: 746 Loss: 0.08, Loss_test: 0.05\n",
      "Epoch: 747 Loss: 0.06, Loss_test: 0.05\n",
      "Epoch: 748 Loss: 0.05, Loss_test: 0.05\n",
      "Epoch: 749 Loss: 0.06, Loss_test: 0.05\n",
      "=> result saved!\n",
      "Epoch: 750 Loss: 0.03, Loss_test: 0.05\n",
      "Epoch: 751 Loss: 0.06, Loss_test: 0.05\n",
      "Epoch: 752 Loss: 0.05, Loss_test: 0.05\n",
      "Epoch: 753 Loss: 0.06, Loss_test: 0.05\n",
      "Epoch: 754 Loss: 0.05, Loss_test: 0.05\n",
      "Epoch: 755 Loss: 0.04, Loss_test: 0.05\n",
      "Epoch: 756 Loss: 0.04, Loss_test: 0.05\n",
      "Epoch: 757 Loss: 0.04, Loss_test: 0.05\n",
      "Epoch: 758 Loss: 0.04, Loss_test: 0.05\n",
      "Epoch: 759 Loss: 0.04, Loss_test: 0.06\n",
      "=> result saved!\n",
      "Epoch: 760 Loss: 0.05, Loss_test: 0.06\n",
      "Epoch: 761 Loss: 0.04, Loss_test: 0.06\n",
      "Epoch: 762 Loss: 0.05, Loss_test: 0.06\n",
      "Epoch: 763 Loss: 0.06, Loss_test: 0.07\n",
      "Epoch: 764 Loss: 0.06, Loss_test: 0.07\n",
      "Epoch: 765 Loss: 0.06, Loss_test: 0.06\n",
      "Epoch: 766 Loss: 0.04, Loss_test: 0.06\n",
      "Epoch: 767 Loss: 0.05, Loss_test: 0.06\n",
      "Epoch: 768 Loss: 0.03, Loss_test: 0.05\n",
      "Epoch: 769 Loss: 0.03, Loss_test: 0.06\n",
      "=> result saved!\n",
      "Epoch: 770 Loss: 0.07, Loss_test: 0.06\n",
      "Epoch: 771 Loss: 0.03, Loss_test: 0.06\n",
      "Epoch: 772 Loss: 0.06, Loss_test: 0.06\n",
      "Epoch: 773 Loss: 0.03, Loss_test: 0.06\n",
      "Epoch: 774 Loss: 0.05, Loss_test: 0.05\n",
      "Epoch: 775 Loss: 0.06, Loss_test: 0.05\n",
      "Epoch: 776 Loss: 0.03, Loss_test: 0.05\n",
      "Epoch: 777 Loss: 0.03, Loss_test: 0.05\n",
      "Epoch: 778 Loss: 0.04, Loss_test: 0.05\n",
      "Epoch: 779 Loss: 0.05, Loss_test: 0.06\n",
      "=> result saved!\n",
      "Epoch: 780 Loss: 0.04, Loss_test: 0.06\n",
      "Epoch: 781 Loss: 0.06, Loss_test: 0.06\n",
      "Epoch: 782 Loss: 0.10, Loss_test: 0.07\n",
      "Epoch: 783 Loss: 0.07, Loss_test: 0.07\n",
      "Epoch: 784 Loss: 0.06, Loss_test: 0.08\n",
      "Epoch: 785 Loss: 0.04, Loss_test: 0.07\n",
      "Epoch: 786 Loss: 0.04, Loss_test: 0.07\n",
      "Epoch: 787 Loss: 0.06, Loss_test: 0.07\n",
      "Epoch: 788 Loss: 0.03, Loss_test: 0.07\n",
      "Epoch: 789 Loss: 0.04, Loss_test: 0.07\n",
      "=> result saved!\n",
      "Epoch: 790 Loss: 0.08, Loss_test: 0.07\n",
      "Epoch: 791 Loss: 0.06, Loss_test: 0.06\n",
      "Epoch: 792 Loss: 0.03, Loss_test: 0.06\n",
      "Epoch: 793 Loss: 0.03, Loss_test: 0.06\n",
      "Epoch: 794 Loss: 0.02, Loss_test: 0.06\n",
      "Epoch: 795 Loss: 0.03, Loss_test: 0.05\n",
      "Epoch: 796 Loss: 0.04, Loss_test: 0.05\n",
      "Epoch: 797 Loss: 0.05, Loss_test: 0.05\n",
      "Epoch: 798 Loss: 0.02, Loss_test: 0.05\n",
      "Epoch: 799 Loss: 0.05, Loss_test: 0.05\n",
      "=> result saved!\n",
      "Epoch: 800 Loss: 0.04, Loss_test: 0.05\n",
      "Epoch: 801 Loss: 0.04, Loss_test: 0.06\n",
      "Epoch: 802 Loss: 0.07, Loss_test: 0.06\n",
      "Epoch: 803 Loss: 0.04, Loss_test: 0.05\n",
      "Epoch: 804 Loss: 0.05, Loss_test: 0.05\n",
      "Epoch: 805 Loss: 0.03, Loss_test: 0.05\n",
      "Epoch: 806 Loss: 0.04, Loss_test: 0.05\n",
      "Epoch: 807 Loss: 0.03, Loss_test: 0.05\n",
      "Epoch: 808 Loss: 0.05, Loss_test: 0.05\n",
      "Epoch: 809 Loss: 0.03, Loss_test: 0.05\n",
      "=> result saved!\n",
      "Epoch: 810 Loss: 0.04, Loss_test: 0.05\n",
      "Epoch: 811 Loss: 0.05, Loss_test: 0.05\n",
      "Epoch: 812 Loss: 0.04, Loss_test: 0.05\n",
      "Epoch: 813 Loss: 0.03, Loss_test: 0.05\n",
      "Epoch: 814 Loss: 0.04, Loss_test: 0.05\n",
      "Epoch: 815 Loss: 0.04, Loss_test: 0.05\n",
      "Epoch: 816 Loss: 0.03, Loss_test: 0.05\n",
      "Epoch: 817 Loss: 0.04, Loss_test: 0.05\n",
      "Epoch: 818 Loss: 0.05, Loss_test: 0.05\n",
      "Epoch: 819 Loss: 0.04, Loss_test: 0.04\n",
      "=> result saved!\n",
      "Epoch: 820 Loss: 0.06, Loss_test: 0.04\n",
      "Epoch: 821 Loss: 0.03, Loss_test: 0.05\n",
      "Epoch: 822 Loss: 0.05, Loss_test: 0.05\n",
      "Epoch: 823 Loss: 0.05, Loss_test: 0.05\n",
      "Epoch: 824 Loss: 0.03, Loss_test: 0.04\n",
      "Epoch: 825 Loss: 0.03, Loss_test: 0.04\n",
      "Epoch: 826 Loss: 0.05, Loss_test: 0.04\n",
      "Epoch: 827 Loss: 0.04, Loss_test: 0.05\n",
      "Epoch: 828 Loss: 0.04, Loss_test: 0.05\n",
      "Epoch: 829 Loss: 0.04, Loss_test: 0.05\n",
      "=> result saved!\n",
      "Epoch: 830 Loss: 0.06, Loss_test: 0.04\n",
      "Epoch: 831 Loss: 0.04, Loss_test: 0.04\n",
      "Epoch: 832 Loss: 0.04, Loss_test: 0.05\n",
      "Epoch: 833 Loss: 0.04, Loss_test: 0.05\n",
      "Epoch: 834 Loss: 0.03, Loss_test: 0.05\n",
      "Epoch: 835 Loss: 0.03, Loss_test: 0.05\n",
      "Epoch: 836 Loss: 0.06, Loss_test: 0.05\n",
      "Epoch: 837 Loss: 0.04, Loss_test: 0.05\n",
      "Epoch: 838 Loss: 0.04, Loss_test: 0.05\n",
      "Epoch: 839 Loss: 0.04, Loss_test: 0.05\n",
      "=> result saved!\n",
      "Epoch: 840 Loss: 0.03, Loss_test: 0.05\n",
      "Epoch: 841 Loss: 0.05, Loss_test: 0.05\n",
      "Epoch: 842 Loss: 0.04, Loss_test: 0.05\n",
      "Epoch: 843 Loss: 0.04, Loss_test: 0.05\n",
      "Epoch: 844 Loss: 0.04, Loss_test: 0.05\n",
      "Epoch: 845 Loss: 0.05, Loss_test: 0.05\n",
      "Epoch: 846 Loss: 0.06, Loss_test: 0.05\n",
      "Epoch: 847 Loss: 0.04, Loss_test: 0.05\n",
      "Epoch: 848 Loss: 0.04, Loss_test: 0.05\n",
      "Epoch: 849 Loss: 0.04, Loss_test: 0.05\n",
      "=> result saved!\n",
      "Epoch: 850 Loss: 0.06, Loss_test: 0.05\n",
      "Epoch: 851 Loss: 0.03, Loss_test: 0.06\n",
      "Epoch: 852 Loss: 0.05, Loss_test: 0.06\n",
      "Epoch: 853 Loss: 0.08, Loss_test: 0.06\n",
      "Epoch: 854 Loss: 0.05, Loss_test: 0.06\n",
      "Epoch: 855 Loss: 0.05, Loss_test: 0.06\n",
      "Epoch: 856 Loss: 0.05, Loss_test: 0.06\n",
      "Epoch: 857 Loss: 0.04, Loss_test: 0.06\n",
      "Epoch: 858 Loss: 0.04, Loss_test: 0.06\n",
      "Epoch: 859 Loss: 0.03, Loss_test: 0.06\n",
      "=> result saved!\n",
      "Epoch: 860 Loss: 0.03, Loss_test: 0.05\n",
      "Epoch: 861 Loss: 0.06, Loss_test: 0.05\n",
      "Epoch: 862 Loss: 0.06, Loss_test: 0.05\n",
      "Epoch: 863 Loss: 0.03, Loss_test: 0.05\n",
      "Epoch: 864 Loss: 0.04, Loss_test: 0.05\n",
      "Epoch: 865 Loss: 0.02, Loss_test: 0.05\n",
      "Epoch: 866 Loss: 0.05, Loss_test: 0.05\n",
      "Epoch: 867 Loss: 0.03, Loss_test: 0.05\n",
      "Epoch: 868 Loss: 0.05, Loss_test: 0.06\n",
      "Epoch: 869 Loss: 0.06, Loss_test: 0.06\n",
      "=> result saved!\n",
      "Epoch: 870 Loss: 0.04, Loss_test: 0.05\n",
      "Epoch: 871 Loss: 0.05, Loss_test: 0.05\n",
      "Epoch: 872 Loss: 0.03, Loss_test: 0.06\n",
      "Epoch: 873 Loss: 0.05, Loss_test: 0.06\n",
      "Epoch: 874 Loss: 0.03, Loss_test: 0.06\n",
      "Epoch: 875 Loss: 0.08, Loss_test: 0.06\n",
      "Epoch: 876 Loss: 0.06, Loss_test: 0.06\n",
      "Epoch: 877 Loss: 0.05, Loss_test: 0.05\n",
      "Epoch: 878 Loss: 0.04, Loss_test: 0.06\n",
      "Epoch: 879 Loss: 0.05, Loss_test: 0.05\n",
      "=> result saved!\n",
      "Epoch: 880 Loss: 0.04, Loss_test: 0.06\n",
      "Epoch: 881 Loss: 0.06, Loss_test: 0.06\n",
      "Epoch: 882 Loss: 0.04, Loss_test: 0.06\n",
      "Epoch: 883 Loss: 0.05, Loss_test: 0.06\n",
      "Epoch: 884 Loss: 0.05, Loss_test: 0.06\n",
      "Epoch: 885 Loss: 0.05, Loss_test: 0.06\n",
      "Epoch: 886 Loss: 0.03, Loss_test: 0.06\n",
      "Epoch: 887 Loss: 0.03, Loss_test: 0.06\n",
      "Epoch: 888 Loss: 0.05, Loss_test: 0.07\n",
      "Epoch: 889 Loss: 0.03, Loss_test: 0.06\n",
      "=> result saved!\n",
      "Epoch: 890 Loss: 0.04, Loss_test: 0.06\n",
      "Epoch: 891 Loss: 0.04, Loss_test: 0.06\n",
      "Epoch: 892 Loss: 0.05, Loss_test: 0.05\n",
      "Epoch: 893 Loss: 0.03, Loss_test: 0.05\n",
      "Epoch: 894 Loss: 0.04, Loss_test: 0.05\n",
      "Epoch: 895 Loss: 0.06, Loss_test: 0.05\n",
      "Epoch: 896 Loss: 0.03, Loss_test: 0.05\n",
      "Epoch: 897 Loss: 0.03, Loss_test: 0.05\n",
      "Epoch: 898 Loss: 0.06, Loss_test: 0.06\n",
      "Epoch: 899 Loss: 0.04, Loss_test: 0.05\n",
      "=> result saved!\n",
      "Epoch: 900 Loss: 0.06, Loss_test: 0.05\n"
     ]
    }
   ],
   "source": [
    "end_train = epochs - limit_train\n",
    "for epoch in range(limit_train, end_train):\n",
    "    batch_triplet_train, \\\n",
    "        train_input_sample, train_sim = batch_iterator(baseline, retrieval, model, baseline.train_data, \n",
    "                                                       baseline.dup_sets_train, bug_train_ids, \n",
    "                                                           batch_size, 1, issues_by_buckets, TRIPLET_HARD=False)\n",
    "    train_batch = [train_input_sample['title'], train_input_sample['description'], train_input_sample['info'], train_sim]\n",
    "    \n",
    "\n",
    "    h = model.train_on_batch(x=train_batch, y=train_sim)\n",
    "    h_validation = model.test_on_batch(x=validation_sample, y=valid_sim)\n",
    "    \n",
    "    # save results\n",
    "    result['train'].append(h)\n",
    "    result['test'].append(h_validation)\n",
    "    \n",
    "    if( (epoch+1) % 10 == 0 or (epoch+1 == end_train )):\n",
    "        save_loss(result)\n",
    "    \n",
    "    print(\"Epoch: {} Loss: {:.2f}, Loss_test: {:.2f}\".format(epoch+1, h, h_validation))"
   ]
  },
  {
   "cell_type": "code",
   "execution_count": 48,
   "metadata": {},
   "outputs": [
    {
     "data": {
      "text/plain": [
       "(900, 900)"
      ]
     },
     "execution_count": 48,
     "metadata": {},
     "output_type": "execute_result"
    }
   ],
   "source": [
    "len(result['train']), len(result['test'])"
   ]
  },
  {
   "cell_type": "code",
   "execution_count": 49,
   "metadata": {},
   "outputs": [],
   "source": [
    "encoded = model.get_layer('merge_features_in')\n",
    "output = encoded.output\n",
    "inputs = similarity_model.inputs[:-1]\n",
    "encoded_anchor = Model(inputs = inputs, outputs = output, name = 'Similarity_Model')"
   ]
  },
  {
   "cell_type": "code",
   "execution_count": 50,
   "metadata": {},
   "outputs": [
    {
     "data": {
      "text/plain": [
       "'bert_preprocessing_baseline_1000_feature1000epochs_64batch(netbeans)'"
      ]
     },
     "execution_count": 50,
     "metadata": {},
     "output_type": "execute_result"
    }
   ],
   "source": [
    "SAVE_PATH.replace('@number_of_epochs@', str(epochs))"
   ]
  },
  {
   "cell_type": "code",
   "execution_count": 51,
   "metadata": {},
   "outputs": [
    {
     "name": "stdout",
     "output_type": "stream",
     "text": [
      "Saved model 'modelos/model_bert_preprocessing_baseline_1000_feature_1000epochs_64batch(netbeans).h5' to disk\n"
     ]
    },
    {
     "data": {
      "text/plain": [
       "'Model saved'"
      ]
     },
     "execution_count": 51,
     "metadata": {},
     "output_type": "execute_result"
    }
   ],
   "source": [
    "experiment.save_model(model, SAVE_PATH.replace('@number_of_epochs@', str(epochs)))\n",
    "experiment.save_model(encoded_anchor, SAVE_PATH_FEATURE.replace('@number_of_epochs@', str(epochs)), verbose=1)\n",
    "\"Model saved\""
   ]
  },
  {
   "cell_type": "code",
   "execution_count": 52,
   "metadata": {},
   "outputs": [
    {
     "data": {
      "application/vnd.jupyter.widget-view+json": {
       "model_id": "851c23fa05004b41b794384fa6f1b91c",
       "version_major": 2,
       "version_minor": 0
      },
      "text/plain": [
       "HBox(children=(IntProgress(value=0, max=17002), HTML(value='')))"
      ]
     },
     "metadata": {},
     "output_type": "display_data"
    },
    {
     "name": "stdout",
     "output_type": "stream",
     "text": [
      "\n"
     ]
    },
    {
     "data": {
      "application/vnd.jupyter.widget-view+json": {
       "model_id": "a3f8288304e6455494b96ed6209f2c5f",
       "version_major": 2,
       "version_minor": 0
      },
      "text/plain": [
       "HBox(children=(IntProgress(value=0, max=26036), HTML(value='')))"
      ]
     },
     "metadata": {},
     "output_type": "display_data"
    },
    {
     "name": "stdout",
     "output_type": "stream",
     "text": [
      "\n"
     ]
    },
    {
     "data": {
      "application/vnd.jupyter.widget-view+json": {
       "model_id": "1a4e12591b6644459c1814468f255041",
       "version_major": 2,
       "version_minor": 0
      },
      "text/plain": [
       "HBox(children=(IntProgress(value=0, max=29003), HTML(value='')))"
      ]
     },
     "metadata": {},
     "output_type": "display_data"
    },
    {
     "name": "stdout",
     "output_type": "stream",
     "text": [
      "\n"
     ]
    },
    {
     "data": {
      "application/vnd.jupyter.widget-view+json": {
       "model_id": "a58053b6138b48238c792c44e325fd46",
       "version_major": 2,
       "version_minor": 0
      },
      "text/plain": [
       "HBox(children=(IntProgress(value=1, bar_style='info', max=1), HTML(value='')))"
      ]
     },
     "metadata": {},
     "output_type": "display_data"
    },
    {
     "name": "stdout",
     "output_type": "stream",
     "text": [
      "\n"
     ]
    },
    {
     "data": {
      "application/vnd.jupyter.widget-view+json": {
       "model_id": "454ae0d6cc184ec5a78f4ffcad102a3f",
       "version_major": 2,
       "version_minor": 0
      },
      "text/plain": [
       "HBox(children=(IntProgress(value=1, bar_style='info', max=1), HTML(value='')))"
      ]
     },
     "metadata": {},
     "output_type": "display_data"
    },
    {
     "name": "stdout",
     "output_type": "stream",
     "text": [
      "\n"
     ]
    },
    {
     "data": {
      "application/vnd.jupyter.widget-view+json": {
       "model_id": "a1294bfb2e214d5886605815fcaa2777",
       "version_major": 2,
       "version_minor": 0
      },
      "text/plain": [
       "HBox(children=(IntProgress(value=1, bar_style='info', max=1), HTML(value='')))"
      ]
     },
     "metadata": {},
     "output_type": "display_data"
    },
    {
     "name": "stdout",
     "output_type": "stream",
     "text": [
      "\n"
     ]
    },
    {
     "data": {
      "application/vnd.jupyter.widget-view+json": {
       "model_id": "4691a7fe6a52438795d907690ba4e0fe",
       "version_major": 2,
       "version_minor": 0
      },
      "text/plain": [
       "HBox(children=(IntProgress(value=0, max=26036), HTML(value='')))"
      ]
     },
     "metadata": {},
     "output_type": "display_data"
    },
    {
     "name": "stdout",
     "output_type": "stream",
     "text": [
      "\n",
      "Epoch: 900 Loss: 0.06, Loss_test: 0.05, recall@25: 0.61\n"
     ]
    }
   ],
   "source": [
    "recall, exported_rank, debug = experiment.evaluate_validation_test(retrieval, 1, encoded_anchor, issues_by_buckets, bug_train_ids)\n",
    "print(\"Epoch: {} Loss: {:.2f}, Loss_test: {:.2f}, recall@25: {:.2f}\".format(epoch+1, h, h_validation, recall))"
   ]
  },
  {
   "cell_type": "code",
   "execution_count": 53,
   "metadata": {},
   "outputs": [
    {
     "data": {
      "text/plain": [
       "0.61"
      ]
     },
     "execution_count": 53,
     "metadata": {},
     "output_type": "execute_result"
    }
   ],
   "source": [
    "recall"
   ]
  },
  {
   "cell_type": "code",
   "execution_count": 54,
   "metadata": {},
   "outputs": [
    {
     "data": {
      "text/plain": [
       "['131079:124863|153250:0.5152758359909058,88786:0.46254032850265503,140154:0.4618271589279175,114524:0.4569118618965149,171088:0.45684921741485596,144081:0.43564510345458984,151301:0.43386387825012207,167104:0.42884451150894165,156232:0.4201270341873169,157441:0.4199260473251343,138894:0.41736137866973877,142898:0.4164084196090698,150013:0.4106016755104065,109493:0.4100344181060791,168578:0.4094427227973938,137689:0.4073985815048218,84843:0.3930261731147766,141741:0.38898980617523193,133688:0.3868357539176941,127212:0.38563424348831177,134405:0.37346404790878296,129879:0.369962215423584,109535:0.36826008558273315,131439:0.35505354404449463,156689:0.3541184067726135,143907:0.3517112731933594,128057:0.3483017086982727,155852:0.3471444845199585,139981:0.3363334536552429',\n",
       " '131082:131085|131085:0.9998987365906942,114168:0.5120399296283722,99018:0.5108910501003265,145341:0.48205864429473877,134304:0.43487781286239624,138432:0.41029495000839233,118802:0.3920646905899048,98975:0.376886785030365,140907:0.3765808343887329,118949:0.37536555528640747,145211:0.36635369062423706,110362:0.3581499457359314,114424:0.2868977189064026,118637:0.2675025463104248,84058:0.2183372974395752,78848:0.2091275453567505,125435:0.20790022611618042,125889:0.2062826156616211,89742:0.13727855682373047,109493:0.12827175855636597,117022:0.12694168090820312,141741:0.11576128005981445,108675:0.10738259553909302,101270:0.10731273889541626,154145:0.10372239351272583,129178:0.10171061754226685,166408:0.10163968801498413,159448:0.09504324197769165,97400:0.09293311834335327',\n",
       " '131083:145537,124867,144649,131084,132247,129785,129786,145533,145534,143327|131084:0.9998388779349625,145533:0.9998388779349625,132247:0.8787291720509529,145534:0.8787291720509529,144649:0.6600677371025085,147776:0.6600677371025085,124867:0.6573755741119385,129786:0.6573755741119385,129785:0.6387947201728821,136337:0.6011852622032166,145537:0.5710822939872742,129951:0.508521169424057,155409:0.48226964473724365,159010:0.48226964473724365,160439:0.479536771774292,156889:0.46696436405181885,143610:0.46250462532043457,141578:0.4324880838394165,143343:0.429482102394104,124857:0.42741161584854126,125020:0.42741161584854126,152697:0.4236990213394165,161273:0.4227904677391052,161539:0.4158773422241211,163324:0.4158773422241211,137256:0.37761592864990234,139805:0.3737294673919678,115795:0.36822474002838135,142352:0.3681621551513672',\n",
       " '131084:145537,124867,144649,131083,132247,129785,129786,145533,145534,143327|131083:0.9998388779349625,145533:0.9998388779349625,132247:0.8787291720509529,145534:0.8787291720509529,144649:0.6600677371025085,147776:0.6600677371025085,124867:0.6573755741119385,129786:0.6573755741119385,129785:0.6387947201728821,136337:0.6011852622032166,145537:0.5710822939872742,129951:0.508521169424057,155409:0.48226964473724365,159010:0.48226964473724365,160439:0.479536771774292,156889:0.46696436405181885,143610:0.46250462532043457,141578:0.4324880838394165,143343:0.429482102394104,124857:0.42741161584854126,125020:0.42741161584854126,152697:0.4236990213394165,161273:0.4227904677391052,161539:0.4158773422241211,163324:0.4158773422241211,137256:0.37761592864990234,139805:0.3737294673919678,115795:0.36822474002838135,142352:0.3681621551513672',\n",
       " '131085:131082|131082:0.9998987365906942,114168:0.5120399296283722,99018:0.5108910501003265,145341:0.48205864429473877,134304:0.43487781286239624,138432:0.41029495000839233,118802:0.3920646905899048,98975:0.376886785030365,140907:0.3765808343887329,118949:0.37536555528640747,145211:0.36635369062423706,110362:0.3581499457359314,114424:0.2868977189064026,118637:0.2675025463104248,84058:0.2183372974395752,78848:0.2091275453567505,125435:0.20790022611618042,125889:0.2062826156616211,89742:0.13727855682373047,109493:0.12827175855636597,117022:0.12694168090820312,141741:0.11576128005981445,108675:0.10738259553909302,101270:0.10731273889541626,154145:0.10372239351272583,129178:0.10171061754226685,166408:0.10163968801498413,159448:0.09504324197769165,97400:0.09293311834335327',\n",
       " '131086:118825,117035|118825:0.6402077376842499,161539:0.5510923266410828,163324:0.5510923266410828,155409:0.5241626501083374,159010:0.5241626501083374,171109:0.519310712814331,170095:0.5071886479854584,143344:0.5029735863208771,173067:0.4771731495857239,143343:0.4551474452018738,143610:0.4498763680458069,176070:0.43363356590270996,162123:0.4325066804885864,174163:0.43137508630752563,143146:0.43062132596969604,147764:0.42394882440567017,148322:0.42342668771743774,141830:0.41965973377227783,152909:0.41671645641326904,156889:0.410836398601532,137379:0.4039343595504761,142294:0.40325021743774414,142300:0.40325021743774414,142352:0.3974320888519287,142353:0.3974320888519287,158422:0.39727550745010376,143734:0.39682430028915405,170676:0.39185118675231934,143908:0.38842886686325073',\n",
       " '131103:129349,131439,130960,130033,132127|130033:0.36463916301727295,175806:0.3197101950645447,135195:0.2824423909187317,109535:0.2377069592475891,139256:0.23044836521148682,102465:0.2232203483581543,101700:0.20994830131530762,137947:0.20799332857131958,146646:0.20474308729171753,89840:0.202159583568573,58616:0.20048457384109497,72382:0.19296449422836304,171843:0.19000530242919922,170933:0.18891656398773193,105272:0.17925363779067993,171931:0.1780737042427063,96526:0.17630481719970703,127265:0.17535191774368286,114960:0.17522484064102173,173323:0.17507827281951904,140464:0.17005938291549683,140154:0.1684742569923401,88897:0.16663366556167603,117259:0.16570645570755005,169416:0.16440266370773315,143402:0.16186034679412842,118058:0.1617254614830017,105801:0.16059106588363647,110742:0.15791374444961548',\n",
       " '131126:117856,118467,118468,118469,126180,116295,116680,118634,117003,103531,131983,118351,118735,109177,129907,117299,104665,117274,117981|143455:0.6230289041996002,120910:0.5855204463005066,143274:0.5543350279331207,118634:0.5410017967224121,161172:0.5304522514343262,170431:0.5286415815353394,169270:0.4800918698310852,134548:0.47975873947143555,129907:0.4665788412094116,117856:0.4652705788612366,141178:0.4638770818710327,108542:0.45946091413497925,168055:0.4561058282852173,141627:0.4552670121192932,103163:0.4507419466972351,148009:0.44832879304885864,103531:0.4462823271751404,108832:0.443487286567688,166872:0.43731677532196045,107964:0.4307289719581604,168332:0.4294143319129944,114536:0.4219302535057068,121699:0.41283518075942993,143906:0.4122611880302429,147401:0.40913254022598267,118467:0.4010568857192993,118468:0.4010568857192993,118469:0.4010568857192993,141422:0.39379042387008667',\n",
       " '131145:131146|131146:0.8041538149118423,105480:0.4249803423881531,150698:0.37447893619537354,151561:0.356359601020813,134667:0.3483508229255676,134494:0.34297871589660645,187704:0.34074223041534424,157671:0.34056800603866577,134785:0.3377823829650879,175664:0.332544207572937,146950:0.3283662796020508,155317:0.3238859176635742,143451:0.3232988715171814,160882:0.31525468826293945,163131:0.30626070499420166,150118:0.300758421421051,175563:0.2994319796562195,176120:0.2902962565422058,175672:0.2726384997367859,160709:0.26437920331954956,171450:0.2606189250946045,170734:0.25639015436172485,173487:0.23629862070083618,175655:0.23607724905014038,182577:0.20814591646194458,158298:0.20408427715301514,178860:0.19572901725769043,107666:0.09984499216079712,134595:0.0870199203491211',\n",
       " '131146:131145|131145:0.8041538149118423,105480:0.4274458885192871,134667:0.320041298866272,155317:0.3173161745071411,157671:0.30897289514541626,151561:0.30611640214920044,163131:0.3061063885688782,150698:0.3052935004234314,134494:0.29726362228393555,175664:0.29466551542282104,187704:0.2905476689338684,134785:0.28086501359939575,146950:0.27435827255249023,143451:0.2739902138710022,175563:0.2729603052139282,160882:0.2703477144241333,158298:0.2327064871788025,150118:0.2312467098236084,175672:0.2208576798439026,176120:0.220198392868042,160709:0.2188166379928589,182577:0.21215105056762695,175655:0.20101696252822876,178860:0.19573676586151123,170734:0.1924719214439392,171450:0.18263477087020874,173487:0.17089354991912842,107666:0.074013352394104,134595:0.06835556030273438',\n",
       " '131148:130987|175071:0.3921443819999695,117398:0.3706108331680298,116949:0.3688393235206604,140993:0.34149491786956787,112998:0.3378843665122986,130369:0.33772242069244385,117079:0.33439767360687256,117147:0.32772982120513916,116337:0.32718896865844727,117526:0.3197135925292969,130409:0.31819552183151245,117267:0.3132442235946655,117762:0.31153053045272827,116615:0.3065321445465088,110540:0.3047690987586975,117350:0.3028174638748169,169499:0.30188918113708496,74133:0.30155253410339355,141354:0.3011220693588257,112522:0.3003227710723877,120269:0.3001152276992798,143002:0.2924048900604248,171151:0.291490375995636,116618:0.2895140051841736,161134:0.28243476152420044,141390:0.28197795152664185,112035:0.2815214991569519,168841:0.2790148854255676,144945:0.27648335695266724',\n",
       " '131149:131359,131335,131153,132377,130783|173340:0.3438696265220642,103053:0.3168972134590149,160575:0.28947192430496216,74323:0.2846332788467407,162427:0.2586551308631897,123928:0.2488880157470703,173180:0.2303386926651001,140159:0.22403085231781006,26477:0.21147453784942627,145524:0.1927424669265747,136011:0.18952661752700806,102772:0.18611913919448853,148550:0.18002599477767944,98506:0.17711210250854492,173207:0.1765042543411255,145139:0.17555880546569824,117536:0.17359161376953125,79451:0.17187166213989258,90016:0.1684322953224182,162962:0.16688621044158936,142513:0.16263675689697266,130514:0.15921872854232788,126739:0.15862607955932617,126742:0.15862596035003662,129252:0.15594327449798584,80380:0.15500497817993164,175196:0.15044289827346802,115917:0.14560085535049438,112500:0.141940176486969',\n",
       " '131151:132544,131236|131236:0.5420870184898376,109860:0.4304206371307373,109861:0.41740429401397705,121397:0.35434579849243164,109869:0.34928077459335327,98250:0.3435959219932556,101188:0.33433932065963745,145248:0.3035600185394287,77797:0.2895755171775818,152455:0.2668530344963074,138725:0.2645500898361206,124739:0.2606090307235718,170536:0.2599945664405823,98760:0.25049662590026855,98663:0.24459272623062134,98664:0.24459272623062134,134112:0.24066221714019775,126873:0.24053657054901123,97558:0.22083353996276855,123950:0.2207919955253601,79182:0.2190852165222168,134646:0.19722169637680054,170080:0.19576436281204224,102975:0.18374794721603394,139761:0.17598176002502441,81887:0.1746935248374939,140511:0.17447543144226074,115990:0.16884082555770874,130413:0.16879522800445557',\n",
       " '131153:131359,131335,131149,132377,130783|162237:0.5910160541534424,141397:0.4956744909286499,162734:0.4484472870826721,126393:0.42097508907318115,130359:0.40963035821914673,164754:0.3936358094215393,149357:0.3881371021270752,99327:0.38400840759277344,134177:0.3838077187538147,111058:0.3533245325088501,132377:0.35235506296157837,126602:0.34053200483322144,144005:0.33670341968536377,66537:0.33261924982070923,106982:0.3319190740585327,163878:0.32744669914245605,148552:0.29749584197998047,141497:0.29666584730148315,160664:0.27800244092941284,148458:0.2779606580734253,161409:0.2725091576576233,145524:0.27101945877075195,97607:0.2647342085838318,174366:0.25764232873916626,65553:0.25593429803848267,142671:0.25421571731567383,128134:0.25217652320861816,55846:0.23079794645309448,136124:0.230538010597229',\n",
       " '131166:131594|134535:0.5482097268104553,124758:0.4891324043273926,160301:0.4871472120285034,172139:0.48441189527511597,131594:0.48248761892318726,164795:0.4778887629508972,125679:0.47638118267059326,133004:0.46922487020492554,132061:0.4607931971549988,132192:0.4598999619483948,167661:0.4353629946708679,140379:0.42836546897888184,158863:0.4250108599662781,119347:0.4031304717063904,172092:0.40223509073257446,169139:0.4002806544303894,183806:0.3932070732116699,135407:0.39306414127349854,171336:0.3844713568687439,139705:0.3799716830253601,194995:0.37520986795425415,131753:0.3733421564102173,132470:0.37200289964675903,123316:0.3719557523727417,170755:0.37042051553726196,170726:0.36880987882614136,135613:0.36179161071777344,175383:0.3589339852333069,168899:0.35715508460998535',\n",
       " '131170:127369,125195,113747,143350|138535:0.35752373933792114,151558:0.3555331230163574,98277:0.2660796046257019,138952:0.2441428303718567,163155:0.21813011169433594,169654:0.20552563667297363,157357:0.1982743740081787,163403:0.1959628462791443,142931:0.19292157888412476,118298:0.1863870620727539,148619:0.18363213539123535,162719:0.17888474464416504,127369:0.17659372091293335,143350:0.17459875345230103,169721:0.17382431030273438,170476:0.17382431030273438,171846:0.17382431030273438,156351:0.16662806272506714,155809:0.16478610038757324,150248:0.16310173273086548,164417:0.16172891855239868,165323:0.15740543603897095,159093:0.1450933814048767,112794:0.14270925521850586,175326:0.1402353048324585,168567:0.1324169635772705,127308:0.1265774369239807,176044:0.12590676546096802,168012:0.1258772611618042',\n",
       " '131180:129163|106905:0.43837714195251465,129163:0.4370678663253784,128722:0.42163676023483276,123602:0.4200153350830078,116632:0.41554486751556396,127010:0.38595569133758545,91005:0.3592933416366577,127291:0.2909734845161438,142299:0.2569013237953186,129554:0.2471906542778015,170590:0.2207750678062439,159572:0.21374404430389404,120360:0.2099652886390686,142088:0.2083514928817749,134487:0.2002212405204773,128480:0.1915002465248108,109711:0.18942201137542725,132247:0.18869835138320923,145534:0.18869835138320923,127440:0.18854129314422607,143610:0.18853890895843506,177940:0.1879926323890686,131083:0.18428975343704224,131084:0.18428975343704224,145533:0.18428975343704224,116585:0.18313980102539062,144407:0.1762920618057251,128726:0.17460376024246216,161193:0.1649910807609558',\n",
       " '131192:133635,131782,131306,131759,130869,130934,131293|145759:0.5658679306507111,131293:0.5638125240802765,144708:0.5116267204284668,133635:0.5062055885791779,150215:0.46159011125564575,145801:0.45711106061935425,152412:0.45157361030578613,137994:0.44789665937423706,130934:0.44462138414382935,131306:0.4387020468711853,136541:0.4378650188446045,97671:0.42561089992523193,145834:0.4233960509300232,142459:0.4161880612373352,155786:0.4161301255226135,150660:0.41400057077407837,156154:0.39717257022857666,145869:0.39513516426086426,137993:0.39477765560150146,142460:0.39184457063674927,134749:0.3899158239364624,134367:0.3898109793663025,154169:0.38713955879211426,96613:0.3855034112930298,165125:0.38225191831588745,154147:0.3813607692718506,192847:0.3808847665786743,142014:0.3752695918083191,83457:0.37421947717666626',\n",
       " '131197:119617,131970,127169,123908,155137,126563,120745,167562,176395,126057,122219,120880,32755,136212,126260,187290,170110|174195:0.4887741208076477,142946:0.4836704730987549,154652:0.47733014822006226,170868:0.47660642862319946,110857:0.46907567977905273,126057:0.4676036834716797,165527:0.45524656772613525,105571:0.4215928316116333,123908:0.4138392210006714,110816:0.40183866024017334,120880:0.3912743926048279,165613:0.3847651481628418,113759:0.38032209873199463,99270:0.3771570920944214,85360:0.374006450176239,116102:0.37269699573516846,111993:0.36856430768966675,137724:0.3650379180908203,175842:0.36328864097595215,122219:0.361278235912323,109089:0.3558535575866699,118601:0.3485252261161804,119895:0.34481102228164673,112808:0.3441733121871948,100002:0.34247398376464844,137564:0.3422704339027405,128995:0.3422064185142517,170830:0.34094882011413574,137845:0.3397790193557739',\n",
       " '131209:177304|143303:0.5532144904136658,122040:0.5203197002410889,105307:0.5199134051799774,93182:0.5194079577922821,105165:0.5190602242946625,108202:0.5066958665847778,106754:0.4920661449432373,100760:0.47978901863098145,106460:0.47865331172943115,107901:0.47772645950317383,100822:0.470389723777771,134252:0.4684784412384033,107048:0.4631662964820862,93317:0.459955632686615,107969:0.45090246200561523,87332:0.45035552978515625,153467:0.4494248032569885,108691:0.44881176948547363,175779:0.4460292458534241,104325:0.4426427483558655,113099:0.4411734938621521,107957:0.43913358449935913,132554:0.43464601039886475,107258:0.4314224123954773,114791:0.42530232667922974,106455:0.42438793182373047,166604:0.4190707802772522,102392:0.417339026927948,110017:0.4163154363632202']"
      ]
     },
     "execution_count": 54,
     "metadata": {},
     "output_type": "execute_result"
    }
   ],
   "source": [
    "exported_rank[:20]"
   ]
  },
  {
   "cell_type": "markdown",
   "metadata": {},
   "source": [
    "### Retrieval evaluation"
   ]
  },
  {
   "cell_type": "code",
   "execution_count": 55,
   "metadata": {},
   "outputs": [
    {
     "name": "stdout",
     "output_type": "stream",
     "text": [
      "Total of queries: 17002\n"
     ]
    }
   ],
   "source": [
    "print(\"Total of queries:\", len(retrieval.test))"
   ]
  },
  {
   "cell_type": "markdown",
   "metadata": {},
   "source": [
    "#### Getting the model trained"
   ]
  },
  {
   "cell_type": "code",
   "execution_count": 56,
   "metadata": {},
   "outputs": [
    {
     "data": {
      "text/plain": [
       "'bert_preprocessing_baseline_1000_feature_1000epochs_64batch(netbeans)'"
      ]
     },
     "execution_count": 56,
     "metadata": {},
     "output_type": "execute_result"
    }
   ],
   "source": [
    "SAVE_PATH_FEATURE.replace('@number_of_epochs@', str(epochs))"
   ]
  },
  {
   "cell_type": "code",
   "execution_count": 57,
   "metadata": {},
   "outputs": [
    {
     "name": "stdout",
     "output_type": "stream",
     "text": [
      "__________________________________________________________________________________________________\n",
      "Layer (type)                    Output Shape         Param #     Connected to                     \n",
      "==================================================================================================\n",
      "info_in (InputLayer)            (None, 544)          0                                            \n",
      "__________________________________________________________________________________________________\n",
      "title_in (InputLayer)           (None, 20)           0                                            \n",
      "__________________________________________________________________________________________________\n",
      "desc_in (InputLayer)            (None, 20)           0                                            \n",
      "__________________________________________________________________________________________________\n",
      "FeatureMlpGenerationModel (Mode (None, 300)          163500      info_in[0][0]                    \n",
      "__________________________________________________________________________________________________\n",
      "FeatureLstmGenerationModel (Mod (None, 300)          581169900   title_in[0][0]                   \n",
      "__________________________________________________________________________________________________\n",
      "FeatureCNNGenerationModel (Mode (None, 300)          581216592   desc_in[0][0]                    \n",
      "__________________________________________________________________________________________________\n",
      "merge_features_in (Concatenate) (None, 900)          0           FeatureMlpGenerationModel[1][0]  \n",
      "                                                                 FeatureLstmGenerationModel[1][0] \n",
      "                                                                 FeatureCNNGenerationModel[1][0]  \n",
      "==================================================================================================\n",
      "Total params: 1,162,549,992\n",
      "Trainable params: 616,992\n",
      "Non-trainable params: 1,161,933,000\n",
      "__________________________________________________________________________________________________\n"
     ]
    }
   ],
   "source": [
    "encoded_anchor.summary()"
   ]
  },
  {
   "cell_type": "code",
   "execution_count": 58,
   "metadata": {},
   "outputs": [
    {
     "data": {
      "text/plain": [
       "26036"
      ]
     },
     "execution_count": 58,
     "metadata": {},
     "output_type": "execute_result"
    }
   ],
   "source": [
    "len(exported_rank)"
   ]
  },
  {
   "cell_type": "code",
   "execution_count": 59,
   "metadata": {},
   "outputs": [
    {
     "data": {
      "text/plain": [
       "'data/processed/netbeans/bert/exported_rank_baseline_1000.txt'"
      ]
     },
     "execution_count": 59,
     "metadata": {},
     "output_type": "execute_result"
    }
   ],
   "source": [
    "EXPORT_RANK_PATH = os.path.join(DIR, 'exported_rank_{}.txt'.format(METHOD))\n",
    "EXPORT_RANK_PATH"
   ]
  },
  {
   "cell_type": "code",
   "execution_count": 60,
   "metadata": {},
   "outputs": [],
   "source": [
    "with open(EXPORT_RANK_PATH, 'w') as file_out:\n",
    "    for row in exported_rank:\n",
    "        file_out.write(row + \"\\n\")"
   ]
  },
  {
   "cell_type": "code",
   "execution_count": 61,
   "metadata": {},
   "outputs": [
    {
     "data": {
      "text/plain": [
       "{'1 - recall_at_5': 0.46,\n",
       " '2 - recall_at_10': 0.53,\n",
       " '3 - recall_at_15': 0.56,\n",
       " '4 - recall_at_20': 0.59,\n",
       " '5 - recall_at_25': 0.61}"
      ]
     },
     "execution_count": 61,
     "metadata": {},
     "output_type": "execute_result"
    }
   ],
   "source": [
    "report = experiment.evaluation.evaluate(EXPORT_RANK_PATH)\n",
    "report"
   ]
  },
  {
   "cell_type": "markdown",
   "metadata": {},
   "source": [
    "#### Some ideas to visualizate"
   ]
  },
  {
   "cell_type": "markdown",
   "metadata": {},
   "source": [
    "- https://towardsdatascience.com/building-a-recommendation-system-using-neural-network-embeddings-1ef92e5c80c9"
   ]
  }
 ],
 "metadata": {
  "accelerator": "GPU",
  "colab": {
   "collapsed_sections": [],
   "name": "[baseline] Bug triage with Deep Learning.ipynb",
   "provenance": [],
   "toc_visible": true,
   "version": "0.3.2"
  },
  "kernelspec": {
   "display_name": "Python 3",
   "language": "python",
   "name": "python3"
  },
  "language_info": {
   "codemirror_mode": {
    "name": "ipython",
    "version": 3
   },
   "file_extension": ".py",
   "mimetype": "text/x-python",
   "name": "python",
   "nbconvert_exporter": "python",
   "pygments_lexer": "ipython3",
   "version": "3.5.2"
  }
 },
 "nbformat": 4,
 "nbformat_minor": 1
}
