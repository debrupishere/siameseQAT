{
 "cells": [
  {
   "cell_type": "markdown",
   "metadata": {
    "colab_type": "text",
    "id": "PtdA1qs_UQP1"
   },
   "source": [
    "# Bug triage with Deep Learning\n",
    "\n",
    "https://github.com/AdrianUng/keras-triplet-loss-mnist/blob/master/Triplet_loss_KERAS_semi_hard_from_TF.ipynb"
   ]
  },
  {
   "cell_type": "code",
   "execution_count": 1,
   "metadata": {},
   "outputs": [
    {
     "name": "stderr",
     "output_type": "stream",
     "text": [
      "Using TensorFlow backend.\n"
     ]
    }
   ],
   "source": [
    "import keras"
   ]
  },
  {
   "cell_type": "code",
   "execution_count": 2,
   "metadata": {
    "colab": {},
    "colab_type": "code",
    "id": "qnSCLmiomFE1"
   },
   "outputs": [],
   "source": [
    "from __future__ import print_function, division"
   ]
  },
  {
   "cell_type": "code",
   "execution_count": 3,
   "metadata": {
    "colab": {},
    "colab_type": "code",
    "id": "OIha-SERnD72"
   },
   "outputs": [],
   "source": [
    "import re\n",
    "import numpy as np\n",
    "import pandas as pd\n",
    "\n",
    "import os\n",
    "from tqdm import tqdm_notebook as tqdm\n",
    "import matplotlib.pyplot as plt\n",
    "import sys\n",
    "from annoy import AnnoyIndex\n",
    "nb_dir = os.path.split(os.getcwd())[0]\n",
    "if nb_dir not in sys.path:\n",
    "    sys.path.append(nb_dir)\n",
    "    \n",
    "%matplotlib inline"
   ]
  },
  {
   "cell_type": "code",
   "execution_count": 4,
   "metadata": {
    "colab": {
     "base_uri": "https://localhost:8080/",
     "height": 34
    },
    "colab_type": "code",
    "id": "c57gQiuAnJAe",
    "outputId": "9eaf2d3f-619a-492d-f40b-6ba2c48426fa"
   },
   "outputs": [],
   "source": [
    "from keras.layers import Conv1D, Input, Add, Activation, Dropout, Embedding, MaxPooling1D, \\\n",
    "    GlobalMaxPool1D, Flatten, Dense, Concatenate, BatchNormalization\n",
    "from keras.models import Sequential, Model\n",
    "from keras.regularizers import l2\n",
    "from keras.initializers import TruncatedNormal\n",
    "from keras.layers.advanced_activations import LeakyReLU, ELU\n",
    "from keras import optimizers"
   ]
  },
  {
   "cell_type": "code",
   "execution_count": 5,
   "metadata": {},
   "outputs": [],
   "source": [
    "from methods.baseline import Baseline\n",
    "from methods.experiments import Experiment\n",
    "from methods.evaluation import Evaluation\n",
    "from methods.retrieval import Retrieval"
   ]
  },
  {
   "cell_type": "markdown",
   "metadata": {
    "colab_type": "text",
    "id": "8uQou7m2-bFO"
   },
   "source": [
    "## Configurações Globais"
   ]
  },
  {
   "cell_type": "code",
   "execution_count": 6,
   "metadata": {
    "colab": {},
    "colab_type": "code",
    "id": "G-Kn3x_K-aZj"
   },
   "outputs": [],
   "source": [
    "MAX_SEQUENCE_LENGTH_T = 20 # 100\n",
    "MAX_SEQUENCE_LENGTH_D = 20 # 500\n",
    "EMBEDDING_DIM = 300\n",
    "MAX_NB_WORDS = 20000\n",
    "'''\n",
    "    Configuration\n",
    "'''\n",
    "epochs = 1000\n",
    "freeze_train = .1 # 10% with freeze weights\n",
    "best_loss = 1\n",
    "best_epoch = 0\n",
    "verbose = 0\n",
    "loss = 1"
   ]
  },
  {
   "cell_type": "markdown",
   "metadata": {},
   "source": [
    "### Parse bugs preproprecessed"
   ]
  },
  {
   "cell_type": "code",
   "execution_count": 7,
   "metadata": {},
   "outputs": [],
   "source": [
    "# Domain to use\n",
    "DOMAIN = 'eclipse'\n",
    "METHOD = 'baseline_{}'.format(epochs)\n",
    "PREPROCESSING = 'bert'\n",
    "TOKEN = 'bert'\n",
    "# Dataset paths\n",
    "DIR = 'data/processed/{}/{}'.format(DOMAIN, PREPROCESSING)\n",
    "DIR_PAIRS = 'data/normalized/{}'.format(DOMAIN)\n",
    "DATASET = os.path.join('data/normalized/{}'.format(DOMAIN), '{}.csv'.format(DOMAIN))\n",
    "# Glove embeddings\n",
    "GLOVE_DIR='data/embed'\n",
    "# Save model\n",
    "SAVE_PATH = '{}_preprocessing_{}_feature@number_of_epochs@epochs_64batch({})'.format(PREPROCESSING, METHOD, DOMAIN)\n",
    "SAVE_PATH_FEATURE = '{}_preprocessing_{}_feature_@number_of_epochs@epochs_64batch({})'.format(PREPROCESSING, METHOD, DOMAIN)\n",
    "\n",
    "# Extract CORPUs\n",
    "EXTRACT_CORPUS = False"
   ]
  },
  {
   "cell_type": "code",
   "execution_count": 8,
   "metadata": {},
   "outputs": [],
   "source": [
    "import os\n",
    "\n",
    "pretrained_path = 'uncased_L-12_H-768_A-12'\n",
    "config_path = os.path.join(pretrained_path, 'bert_config.json')\n",
    "model_path = os.path.join(pretrained_path, 'bert_model.ckpt')\n",
    "vocab_path = os.path.join(pretrained_path, 'vocab.txt')"
   ]
  },
  {
   "cell_type": "code",
   "execution_count": 9,
   "metadata": {},
   "outputs": [],
   "source": [
    "from keras_bert import load_vocabulary\n",
    "\n",
    "token_dict = load_vocabulary(vocab_path)"
   ]
  },
  {
   "cell_type": "code",
   "execution_count": 10,
   "metadata": {},
   "outputs": [],
   "source": [
    "baseline = Baseline(DOMAIN, DIR, DATASET, MAX_SEQUENCE_LENGTH_T, MAX_SEQUENCE_LENGTH_D,\n",
    "                   token_dict['[CLS]'], token_dict['[SEP]'])\n",
    "evaluation = Evaluation(verbose=0)\n",
    "retrieval = Retrieval()\n",
    "experiment = Experiment(baseline, evaluation)"
   ]
  },
  {
   "cell_type": "code",
   "execution_count": 11,
   "metadata": {
    "scrolled": true
   },
   "outputs": [],
   "source": [
    "experiment.set_retrieval(retrieval, baseline, DOMAIN)"
   ]
  },
  {
   "cell_type": "markdown",
   "metadata": {},
   "source": [
    "#### Loading bug ids in memory"
   ]
  },
  {
   "cell_type": "code",
   "execution_count": 12,
   "metadata": {
    "scrolled": true
   },
   "outputs": [
    {
     "name": "stdout",
     "output_type": "stream",
     "text": [
      "Reading bug ids\n"
     ]
    },
    {
     "data": {
      "text/plain": [
       "361006"
      ]
     },
     "execution_count": 12,
     "metadata": {},
     "output_type": "execute_result"
    }
   ],
   "source": [
    "experiment.load_ids()\n",
    "len(baseline.bug_ids)"
   ]
  },
  {
   "cell_type": "markdown",
   "metadata": {
    "colab_type": "text",
    "id": "vqzt5EKzqzcI"
   },
   "source": [
    "#### Dicionário de títulos e descrições"
   ]
  },
  {
   "cell_type": "code",
   "execution_count": 13,
   "metadata": {
    "scrolled": true
   },
   "outputs": [
    {
     "data": {
      "application/vnd.jupyter.widget-view+json": {
       "model_id": "32c5bf9aa4bc4bfd9be42a642163bb73",
       "version_major": 2,
       "version_minor": 0
      },
      "text/plain": [
       "HBox(children=(IntProgress(value=0, max=361006), HTML(value='')))"
      ]
     },
     "metadata": {},
     "output_type": "display_data"
    },
    {
     "name": "stdout",
     "output_type": "stream",
     "text": [
      "\n"
     ]
    },
    {
     "data": {
      "application/vnd.jupyter.widget-view+json": {
       "model_id": "e0cc3dcdadff4740ade5653b63822bcf",
       "version_major": 2,
       "version_minor": 0
      },
      "text/plain": [
       "HBox(children=(IntProgress(value=1, bar_style='info', max=1), HTML(value='')))"
      ]
     },
     "metadata": {},
     "output_type": "display_data"
    },
    {
     "name": "stdout",
     "output_type": "stream",
     "text": [
      "\n",
      "CPU times: user 46 s, sys: 10.2 s, total: 56.2 s\n",
      "Wall time: 1min 29s\n"
     ]
    }
   ],
   "source": [
    "%%time\n",
    "\n",
    "experiment.load_bugs(TOKEN)\n",
    "len(baseline.sentence_dict)"
   ]
  },
  {
   "cell_type": "markdown",
   "metadata": {},
   "source": [
    "#### Hashing bugs by buckets"
   ]
  },
  {
   "cell_type": "code",
   "execution_count": 14,
   "metadata": {
    "scrolled": false
   },
   "outputs": [
    {
     "data": {
      "application/vnd.jupyter.widget-view+json": {
       "model_id": "b083e8c2295d478f81a4d2c31e8abb99",
       "version_major": 2,
       "version_minor": 0
      },
      "text/plain": [
       "HBox(children=(IntProgress(value=0, max=361006), HTML(value='')))"
      ]
     },
     "metadata": {},
     "output_type": "display_data"
    },
    {
     "name": "stdout",
     "output_type": "stream",
     "text": [
      "\n"
     ]
    }
   ],
   "source": [
    "issues_by_buckets = experiment.get_buckets_for_bugs()"
   ]
  },
  {
   "cell_type": "markdown",
   "metadata": {},
   "source": [
    "#### Prepare the train and test"
   ]
  },
  {
   "cell_type": "code",
   "execution_count": 15,
   "metadata": {},
   "outputs": [],
   "source": [
    "# path_train='train_chronological', path_test='test_chronological'\n",
    "experiment.prepare_dataset(issues_by_buckets, path_train='train_chronological', path_test='test_chronological')\n",
    "# Read and create the test queries duplicates\n",
    "retrieval.create_queries()"
   ]
  },
  {
   "cell_type": "code",
   "execution_count": 16,
   "metadata": {},
   "outputs": [
    {
     "data": {
      "text/plain": [
       "[[275492, 218812],\n",
       " [288296, 264093],\n",
       " [273286, 293887],\n",
       " [57162, 62059],\n",
       " [82146, 67997],\n",
       " [56777, 61857],\n",
       " [169445, 165179],\n",
       " [250521, 273893],\n",
       " [247266, 241461],\n",
       " [36781, 38338]]"
      ]
     },
     "execution_count": 16,
     "metadata": {},
     "output_type": "execute_result"
    }
   ],
   "source": [
    "baseline.train_data[:10]"
   ]
  },
  {
   "cell_type": "markdown",
   "metadata": {},
   "source": [
    "#### Recovery bug ids from train"
   ]
  },
  {
   "cell_type": "code",
   "execution_count": 17,
   "metadata": {},
   "outputs": [],
   "source": [
    "bug_train_ids = experiment.get_train_ids(baseline.train_data)"
   ]
  },
  {
   "cell_type": "markdown",
   "metadata": {},
   "source": [
    "### Export the corpus train"
   ]
  },
  {
   "cell_type": "code",
   "execution_count": 18,
   "metadata": {},
   "outputs": [],
   "source": [
    "if EXTRACT_CORPUS:\n",
    "    corpus = []\n",
    "    export_file = open(os.path.join(DIR, 'corpus_train.txt'), 'w')\n",
    "    for bug_id in tqdm(baseline.bug_set):\n",
    "        bug = baseline.bug_set[bug_id]\n",
    "        title = bug['title']\n",
    "        desc = bug['description']\n",
    "        export_file.write(\"{}\\n{}\\n\".format(title, desc))\n",
    "    export_file.close()"
   ]
  },
  {
   "cell_type": "markdown",
   "metadata": {
    "colab_type": "text",
    "id": "a6Obtop6UIVD"
   },
   "source": [
    "# Generating tiple of batches"
   ]
  },
  {
   "cell_type": "code",
   "execution_count": 19,
   "metadata": {
    "scrolled": true
   },
   "outputs": [
    {
     "data": {
      "text/plain": [
       "{'bug_severity': '1\\n',\n",
       " 'bug_status': '2\\n',\n",
       " 'component': '890\\n',\n",
       " 'creation_ts': '2011-08-02 16:29:00 -0400',\n",
       " 'delta_ts': '2011-09-08 13:32:44 -0400',\n",
       " 'description': '[CLS] support sy ##sl ##ib [SEP]',\n",
       " 'description_segment': [0,\n",
       "  0,\n",
       "  0,\n",
       "  0,\n",
       "  0,\n",
       "  0,\n",
       "  0,\n",
       "  0,\n",
       "  0,\n",
       "  0,\n",
       "  0,\n",
       "  0,\n",
       "  0,\n",
       "  0,\n",
       "  0,\n",
       "  0,\n",
       "  0,\n",
       "  0,\n",
       "  0,\n",
       "  0,\n",
       "  0,\n",
       "  0,\n",
       "  0,\n",
       "  0,\n",
       "  0,\n",
       "  0,\n",
       "  0,\n",
       "  0,\n",
       "  0,\n",
       "  0,\n",
       "  0,\n",
       "  0,\n",
       "  0,\n",
       "  0,\n",
       "  0,\n",
       "  0,\n",
       "  0,\n",
       "  0,\n",
       "  0,\n",
       "  0,\n",
       "  0,\n",
       "  0,\n",
       "  0,\n",
       "  0,\n",
       "  0,\n",
       "  0,\n",
       "  0,\n",
       "  0,\n",
       "  0,\n",
       "  0,\n",
       "  0,\n",
       "  0,\n",
       "  0,\n",
       "  0,\n",
       "  0,\n",
       "  0,\n",
       "  0,\n",
       "  0,\n",
       "  0,\n",
       "  0,\n",
       "  0,\n",
       "  0,\n",
       "  0,\n",
       "  0,\n",
       "  0,\n",
       "  0,\n",
       "  0,\n",
       "  0,\n",
       "  0,\n",
       "  0,\n",
       "  0,\n",
       "  0,\n",
       "  0,\n",
       "  0,\n",
       "  0,\n",
       "  0,\n",
       "  0,\n",
       "  0,\n",
       "  0,\n",
       "  0,\n",
       "  0,\n",
       "  0,\n",
       "  0,\n",
       "  0,\n",
       "  0,\n",
       "  0,\n",
       "  0,\n",
       "  0,\n",
       "  0,\n",
       "  0,\n",
       "  0,\n",
       "  0,\n",
       "  0,\n",
       "  0,\n",
       "  0,\n",
       "  0,\n",
       "  0,\n",
       "  0,\n",
       "  0,\n",
       "  0,\n",
       "  0,\n",
       "  0,\n",
       "  0,\n",
       "  0,\n",
       "  0,\n",
       "  0,\n",
       "  0,\n",
       "  0,\n",
       "  0,\n",
       "  0,\n",
       "  0,\n",
       "  0,\n",
       "  0,\n",
       "  0,\n",
       "  0,\n",
       "  0,\n",
       "  0,\n",
       "  0,\n",
       "  0,\n",
       "  0,\n",
       "  0,\n",
       "  0,\n",
       "  0,\n",
       "  0,\n",
       "  0,\n",
       "  0,\n",
       "  0,\n",
       "  0,\n",
       "  0,\n",
       "  0,\n",
       "  0,\n",
       "  0,\n",
       "  0,\n",
       "  0,\n",
       "  0,\n",
       "  0,\n",
       "  0,\n",
       "  0,\n",
       "  0,\n",
       "  0,\n",
       "  0,\n",
       "  0,\n",
       "  0,\n",
       "  0,\n",
       "  0,\n",
       "  0,\n",
       "  0,\n",
       "  0,\n",
       "  0,\n",
       "  0],\n",
       " 'description_token': array([  101,  2490, 25353, 14540, 12322,     0,     0,     0,     0,\n",
       "            0,     0,     0,     0,     0,     0,     0,     0,     0,\n",
       "            0,   102]),\n",
       " 'dup_id': '[]',\n",
       " 'issue_id': 353659,\n",
       " 'priority': '1\\n',\n",
       " 'product': '71\\n',\n",
       " 'resolution': 'FIXED',\n",
       " 'textual_token': array([  101,  2490, 25353, 14540, 12322,     0,     0,     0,     0,\n",
       "            0,     0,     0,     0,     0,     0,     0,     0,     0,\n",
       "            0,   102,   101,  2490, 25353, 14540, 12322,     0,     0,\n",
       "            0,     0,     0,     0,     0,     0,     0,     0,     0,\n",
       "            0,     0,     0,   102]),\n",
       " 'title': '[CLS] support sy ##sl ##ib [SEP]',\n",
       " 'title_segment': [0,\n",
       "  0,\n",
       "  0,\n",
       "  0,\n",
       "  0,\n",
       "  0,\n",
       "  0,\n",
       "  0,\n",
       "  0,\n",
       "  0,\n",
       "  0,\n",
       "  0,\n",
       "  0,\n",
       "  0,\n",
       "  0,\n",
       "  0,\n",
       "  0,\n",
       "  0,\n",
       "  0,\n",
       "  0,\n",
       "  0,\n",
       "  0,\n",
       "  0,\n",
       "  0,\n",
       "  0,\n",
       "  0,\n",
       "  0,\n",
       "  0,\n",
       "  0,\n",
       "  0,\n",
       "  0,\n",
       "  0,\n",
       "  0,\n",
       "  0,\n",
       "  0,\n",
       "  0,\n",
       "  0,\n",
       "  0,\n",
       "  0,\n",
       "  0,\n",
       "  0,\n",
       "  0,\n",
       "  0,\n",
       "  0,\n",
       "  0,\n",
       "  0,\n",
       "  0,\n",
       "  0,\n",
       "  0,\n",
       "  0],\n",
       " 'title_token': array([  101,  2490, 25353, 14540, 12322,     0,     0,     0,     0,\n",
       "            0,     0,     0,     0,     0,     0,     0,     0,     0,\n",
       "            0,   102]),\n",
       " 'version': '71\\n'}"
      ]
     },
     "execution_count": 19,
     "metadata": {},
     "output_type": "execute_result"
    }
   ],
   "source": [
    "idx = np.random.choice(baseline.bug_ids, 1)[0]\n",
    "baseline.bug_set[idx]"
   ]
  },
  {
   "cell_type": "markdown",
   "metadata": {},
   "source": [
    "### Generating the batch test"
   ]
  },
  {
   "cell_type": "code",
   "execution_count": 20,
   "metadata": {},
   "outputs": [
    {
     "data": {
      "text/plain": [
       "('Train ', 39339)"
      ]
     },
     "execution_count": 20,
     "metadata": {},
     "output_type": "execute_result"
    }
   ],
   "source": [
    "\"Train \", len(baseline.dup_sets_train)"
   ]
  },
  {
   "cell_type": "code",
   "execution_count": 21,
   "metadata": {},
   "outputs": [],
   "source": [
    "import random\n",
    "\n",
    "# data - path\n",
    "# batch_size - 128\n",
    "# n_neg - 1\n",
    "def batch_iterator(self, retrieval, model, data, dup_sets, bug_ids, \n",
    "                   batch_size, n_neg, issues_by_buckets, TRIPLET_HARD=False, FLOATING_PADDING=False):\n",
    "    # global train_data\n",
    "    # global self.dup_sets\n",
    "    # global self.bug_ids\n",
    "    # global self.bug_set\n",
    "\n",
    "    random.shuffle(data)\n",
    "\n",
    "    batch_features = {'title' : [], 'desc' : [], 'info' : []}\n",
    "\n",
    "    n_train = len(data)\n",
    "\n",
    "    batch_triplets, batch_bugs_anchor, batch_bugs_pos, batch_bugs_neg, batch_bugs = [], [], [], [], []\n",
    "\n",
    "    all_bugs = list(issues_by_buckets.keys())\n",
    "    buckets = retrieval.buckets\n",
    "\n",
    "    for offset in range(batch_size):\n",
    "        anchor, pos = data[offset][0], data[offset][1]\n",
    "        batch_bugs_anchor.append(anchor)\n",
    "        batch_bugs_pos.append(pos)\n",
    "        batch_bugs.append(anchor)\n",
    "        batch_bugs.append(pos)\n",
    "        #batch_bugs += dup_sets[anchor]\n",
    "\n",
    "    for anchor, pos in zip(batch_bugs_anchor, batch_bugs_pos):\n",
    "        while True:\n",
    "            neg = self.get_neg_bug(anchor, buckets[issues_by_buckets[anchor]], issues_by_buckets, all_bugs)\n",
    "            bug_anchor = self.bug_set[anchor]\n",
    "            bug_pos = self.bug_set[pos]\n",
    "            if neg not in self.bug_set:\n",
    "                continue\n",
    "            batch_bugs.append(neg)\n",
    "            batch_bugs_neg.append(neg)\n",
    "            bug_neg = self.bug_set[neg]\n",
    "            break\n",
    "        \n",
    "        # triplet bug and master\n",
    "        batch_triplets.append([anchor, pos, neg])\n",
    "    \n",
    "    random.shuffle(batch_bugs)\n",
    "    \n",
    "    for bug_id in batch_bugs:\n",
    "        bug = self.bug_set[bug_id]\n",
    "        self.read_batch_bugs(batch_features, bug)\n",
    "\n",
    "    batch_features['title'] = np.array(batch_features['title'])\n",
    "    batch_features['desc'] = np.array(batch_features['desc'])\n",
    "    batch_features['info'] = np.array(batch_features['info'])\n",
    "    \n",
    "    sim = np.asarray([issues_by_buckets[bug_id] for bug_id in batch_bugs])\n",
    "\n",
    "    input_sample = {}\n",
    "\n",
    "    input_sample = { 'title' : batch_features['title'], \n",
    "                        'description' : batch_features['desc'], \n",
    "                            'info' : batch_features['info'] }\n",
    "\n",
    "    return batch_triplets, input_sample, sim #sim"
   ]
  },
  {
   "cell_type": "code",
   "execution_count": 22,
   "metadata": {
    "colab": {
     "base_uri": "https://localhost:8080/",
     "height": 51
    },
    "colab_type": "code",
    "id": "PA5CIhgz7odW",
    "outputId": "ae98fdec-1d54-4b1f-ee0e-4c5633802a18",
    "scrolled": true
   },
   "outputs": [
    {
     "name": "stdout",
     "output_type": "stream",
     "text": [
      "CPU times: user 452 ms, sys: 3.63 ms, total: 456 ms\n",
      "Wall time: 455 ms\n"
     ]
    }
   ],
   "source": [
    "%%time\n",
    "\n",
    "batch_size = 128\n",
    "batch_size_test = 128\n",
    "\n",
    "# we want a constant validation group to have a frame of reference for model performance\n",
    "batch_triplets_valid, valid_input_sample, valid_sim = batch_iterator(baseline, retrieval, None, \n",
    "                                                                                      baseline.train_data, \n",
    "                                                                                      baseline.dup_sets_train,\n",
    "                                                                                      bug_train_ids,\n",
    "                                                                                      batch_size_test, 1,\n",
    "                                                                                      issues_by_buckets)\n",
    "\n",
    "validation_sample = [valid_input_sample['title'], \n",
    "             valid_input_sample['description'],\n",
    "            valid_input_sample['info'], valid_sim]\n",
    "\n",
    "# Categorical columns\n",
    "number_of_columns_info = valid_input_sample['info'].shape[1]\n",
    "# Max sequence title\n",
    "MAX_SEQUENCE_LENGTH_T = valid_input_sample['title'].shape[1]\n",
    "MAX_SEQUENCE_LENGTH_D = valid_input_sample['description'].shape[1]"
   ]
  },
  {
   "cell_type": "code",
   "execution_count": 23,
   "metadata": {},
   "outputs": [
    {
     "data": {
      "text/plain": [
       "((384, 20), (384, 20), (384, 1682), (384,))"
      ]
     },
     "execution_count": 23,
     "metadata": {},
     "output_type": "execute_result"
    }
   ],
   "source": [
    "valid_input_sample['title'].shape, valid_input_sample['description'].shape, valid_input_sample['info'].shape, valid_sim.shape"
   ]
  },
  {
   "cell_type": "markdown",
   "metadata": {
    "colab_type": "text",
    "id": "24mY22BGnkqp"
   },
   "source": [
    "### Validar entrada"
   ]
  },
  {
   "cell_type": "code",
   "execution_count": 24,
   "metadata": {
    "colab": {
     "base_uri": "https://localhost:8080/",
     "height": 796
    },
    "colab_type": "code",
    "id": "OhTbr3a5nmrh",
    "outputId": "a2d73e0f-e9ce-4d12-a5c8-f0008d2402d0",
    "scrolled": true
   },
   "outputs": [],
   "source": [
    "# %%time \n",
    "\n",
    "#baseline.display_batch(baseline.train_data, baseline.dup_sets_train, bug_train_ids, 5)"
   ]
  },
  {
   "cell_type": "code",
   "execution_count": 25,
   "metadata": {},
   "outputs": [
    {
     "data": {
      "text/plain": [
       "('Test ', 16995)"
      ]
     },
     "execution_count": 25,
     "metadata": {},
     "output_type": "execute_result"
    }
   ],
   "source": [
    "\"Test \", len(baseline.test_data)"
   ]
  },
  {
   "cell_type": "markdown",
   "metadata": {
    "colab_type": "text",
    "id": "XPrsLs4Kg4Pa"
   },
   "source": [
    "## Pre-trained embeddings\n",
    "\n",
    "Loading pretrained word vectors"
   ]
  },
  {
   "cell_type": "markdown",
   "metadata": {
    "colab_type": "text",
    "id": "6p9eE5TWoH7p"
   },
   "source": [
    "### Glove"
   ]
  },
  {
   "cell_type": "code",
   "execution_count": 26,
   "metadata": {},
   "outputs": [
    {
     "name": "stdout",
     "output_type": "stream",
     "text": [
      "vocabulary loaded\n"
     ]
    }
   ],
   "source": [
    "vocab = baseline.load_vocabulary(os.path.join(DIR, 'vocab_embed.pkl'))\n",
    "#print(np.random.choice(vocab, 10))\n",
    "# for token in vocab:\n",
    "#     print(token)"
   ]
  },
  {
   "cell_type": "code",
   "execution_count": 27,
   "metadata": {},
   "outputs": [
    {
     "data": {
      "text/plain": [
       "'Total vocabulary: 21175'"
      ]
     },
     "execution_count": 27,
     "metadata": {},
     "output_type": "execute_result"
    }
   ],
   "source": [
    "\"Total vocabulary: {}\".format(len(vocab))"
   ]
  },
  {
   "cell_type": "code",
   "execution_count": 28,
   "metadata": {},
   "outputs": [],
   "source": [
    "def generating_embed(baseline, GLOVE_DIR, EMBEDDING_DIM):\n",
    "    embeddings_index = {}\n",
    "    embed_path = os.path.join(GLOVE_DIR, 'glove.42B.300d.txt')\n",
    "    \n",
    "    f2 = open(embed_path, 'rb')\n",
    "    num_lines = sum(1 for line in f2)\n",
    "    f2.close()\n",
    "    \n",
    "    f = open(embed_path, 'rb')\n",
    "    vocab = baseline.load_vocabulary(os.path.join(baseline.DIR, 'vocab_embed.pkl'))\n",
    "    vocab_size = len(vocab) \n",
    "\n",
    "    # Initialize uniform the vector considering the Tanh activation\n",
    "    embedding_matrix = np.random.uniform(-1.0, 1.0, (num_lines + vocab_size, EMBEDDING_DIM))\n",
    "    embedding_matrix[0, :] = np.zeros(EMBEDDING_DIM)\n",
    "\n",
    "    loop = tqdm(f)\n",
    "    loop.set_description(\"Loading Glove\")\n",
    "    i = 0\n",
    "    for line in loop:\n",
    "        tokens = line.split()\n",
    "        word = tokens[0]\n",
    "        embed = np.asarray(tokens[1:], dtype='float32')\n",
    "        embeddings_index[word] = embed\n",
    "        embedding_matrix[i] = embed\n",
    "        i+=1\n",
    "        loop.update(1)\n",
    "    f.close()\n",
    "    loop.close()\n",
    "\n",
    "    print('Total %s word vectors in Glove 42B 300d.' % len(embeddings_index))\n",
    "\n",
    "    loop = tqdm(total=vocab_size)\n",
    "    loop.set_description('Loading embedding from dataset pretrained')\n",
    "    \n",
    "    for word, embed in vocab.items():\n",
    "        if word in embeddings_index:\n",
    "            embedding_matrix[i] = embeddings_index[word]\n",
    "        else:\n",
    "            embedding_matrix[i] = np.asarray(embed, dtype='float32')\n",
    "        loop.update(1)\n",
    "        i+=1\n",
    "    loop.close()\n",
    "    baseline.embedding_matrix = embedding_matrix"
   ]
  },
  {
   "cell_type": "code",
   "execution_count": 29,
   "metadata": {
    "colab": {
     "base_uri": "https://localhost:8080/",
     "height": 85
    },
    "colab_type": "code",
    "id": "QY-ef3OGoIiq",
    "outputId": "55f4c93c-98bb-4bac-92f2-76bd3b777605"
   },
   "outputs": [
    {
     "name": "stdout",
     "output_type": "stream",
     "text": [
      "vocabulary loaded\n"
     ]
    },
    {
     "data": {
      "application/vnd.jupyter.widget-view+json": {
       "model_id": "6bf091bbcf0144a3b0e6ffb505b99900",
       "version_major": 2,
       "version_minor": 0
      },
      "text/plain": [
       "HBox(children=(IntProgress(value=1, bar_style='info', max=1), HTML(value='')))"
      ]
     },
     "metadata": {},
     "output_type": "display_data"
    },
    {
     "name": "stdout",
     "output_type": "stream",
     "text": [
      "\n",
      "Total 1917494 word vectors in Glove 42B 300d.\n"
     ]
    },
    {
     "data": {
      "application/vnd.jupyter.widget-view+json": {
       "model_id": "09be807a2439452288aa72958c8cce74",
       "version_major": 2,
       "version_minor": 0
      },
      "text/plain": [
       "HBox(children=(IntProgress(value=0, max=21175), HTML(value='')))"
      ]
     },
     "metadata": {},
     "output_type": "display_data"
    },
    {
     "name": "stdout",
     "output_type": "stream",
     "text": [
      "\n",
      "CPU times: user 1min 36s, sys: 3.64 s, total: 1min 39s\n",
      "Wall time: 1min 38s\n"
     ]
    }
   ],
   "source": [
    "%%time\n",
    "\n",
    "generating_embed(baseline, GLOVE_DIR=GLOVE_DIR, EMBEDDING_DIM=EMBEDDING_DIM) # MAX_NB_WORDS=MAX_NB_WORDS"
   ]
  },
  {
   "cell_type": "markdown",
   "metadata": {},
   "source": [
    "## Experiment"
   ]
  },
  {
   "cell_type": "markdown",
   "metadata": {
    "colab_type": "text",
    "id": "Lev5Y7oaFQBd"
   },
   "source": [
    "## Towards Accurate Duplicate Bug Retrieval Using Deep Learning Techniques\n",
    "\n",
    "https://github.com/tqtg/DuplicateBugFinder"
   ]
  },
  {
   "cell_type": "markdown",
   "metadata": {},
   "source": [
    "### Embedding layer"
   ]
  },
  {
   "cell_type": "code",
   "execution_count": 30,
   "metadata": {},
   "outputs": [],
   "source": [
    "from keras.constraints import MaxNorm\n",
    "from keras.initializers import TruncatedNormal, RandomUniform\n",
    "\n",
    "# Is missing the padding_idx used in pytorch\n",
    "# https://pytorch.org/docs/stable/_modules/torch/nn/modules/sparse.html\n",
    "# https://stackoverflow.com/questions/54824768/rnn-model-gru-of-word2vec-to-regression-not-learning\n",
    "def embedding_layer(embeddings, num_words, embedding_dim, max_sequence_length, trainable):\n",
    "    embedding_layer = Embedding(num_words,\n",
    "                                  embedding_dim,\n",
    "                                  name='embedding_layer',\n",
    "                                  weights=[embeddings],\n",
    "                                  embeddings_constraint=MaxNorm(max_value=1, axis=0),\n",
    "                                  #input_length=max_sequence_length,\n",
    "                                  input_length=None,\n",
    "                                  trainable=trainable)\n",
    "    return embedding_layer"
   ]
  },
  {
   "cell_type": "markdown",
   "metadata": {
    "colab_type": "text",
    "id": "sI074wU4Y13y"
   },
   "source": [
    "### CNN with filter 3,4,5"
   ]
  },
  {
   "cell_type": "code",
   "execution_count": 31,
   "metadata": {
    "colab": {
     "base_uri": "https://localhost:8080/",
     "height": 493
    },
    "colab_type": "code",
    "id": "h6YJU9GtFTyq",
    "outputId": "f85cf105-1fd6-491d-d969-7e6936f32739",
    "scrolled": false
   },
   "outputs": [],
   "source": [
    "import keras\n",
    "from keras.layers import GlobalMaxPooling1D, GlobalAveragePooling1D\n",
    "\n",
    "def cnn_model(embedding_layer, max_sequence_length):\n",
    "\n",
    "    sequence_input = Input(shape=(max_sequence_length,), name='Feature_BugInput')\n",
    "    #sequence_input = Input(shape=(None,), name='Feature_BugInput')\n",
    "    embedded_sequences = embedding_layer(sequence_input)\n",
    "\n",
    "    # Yoon Kim model (https://arxiv.org/abs/1408.5882)\n",
    "    # best combination filter (3, 4, 5) e 128 e 256\n",
    "    convs = []\n",
    "    filter_sizes = [3, 4, 5]\n",
    "    n_filters = 64\n",
    "\n",
    "    for index, filter_size in enumerate(filter_sizes):\n",
    "        l_conv = Conv1D(filters=n_filters, kernel_size=filter_size)(embedded_sequences)\n",
    "        l_pool = MaxPooling1D(pool_size=filter_size)(l_conv) # index+1\n",
    "        convs.append(l_pool)\n",
    "\n",
    "    l_merge = Concatenate(axis=1)(convs)\n",
    "\n",
    "    # add a 1D convnet with global maxpooling, instead of Yoon Kim model\n",
    "    #conv = Conv1D(filters=n_filters * 3, kernel_size=3)(l_merge)\n",
    "    layer = GlobalAveragePooling1D()(l_merge)\n",
    "    #layer = Flatten()(l_merge)\n",
    "    layer = Dense(300, activation='tanh')(layer)\n",
    "    #layer = LeakyReLU()(layer)\n",
    "\n",
    "    cnn_feature_model = Model(inputs=[sequence_input], outputs=[layer], name = 'FeatureCNNGenerationModel') # inputs=visible\n",
    "\n",
    "    return cnn_feature_model"
   ]
  },
  {
   "cell_type": "markdown",
   "metadata": {
    "colab_type": "text",
    "id": "wr6ObTXiaALH"
   },
   "source": [
    "### Bi-LSTM"
   ]
  },
  {
   "cell_type": "code",
   "execution_count": 32,
   "metadata": {
    "colab": {
     "base_uri": "https://localhost:8080/",
     "height": 306
    },
    "colab_type": "code",
    "id": "vC7MQXEsaCeG",
    "outputId": "65e647a9-c5d3-4009-b8a4-2e2d97b52684"
   },
   "outputs": [],
   "source": [
    "from keras.layers import Dense, Input, LSTM, GRU, Dropout, Bidirectional, GlobalAveragePooling1D, TimeDistributed\n",
    "\n",
    "def lstm_model(embedding_layer, max_sequence_length):\n",
    "    number_lstm_units = 75\n",
    "    rate_drop_lstm = 0\n",
    "    recurrent_dropout = 0\n",
    "\n",
    "    sequence_input = Input(shape=(max_sequence_length, ), name='Feature_BugInput')\n",
    "    #sequence_input = Input(shape=(None, ), name='Feature_BugInput')\n",
    "    embedded_sequences = embedding_layer(sequence_input)\n",
    "\n",
    "    left_layer = LSTM(number_lstm_units, return_sequences=True)(embedded_sequences)\n",
    "    right_layer = LSTM(number_lstm_units, return_sequences=True, go_backwards=True)(left_layer)\n",
    "    \n",
    "    lstm_layer = Concatenate()([left_layer, right_layer])\n",
    "    \n",
    "    #lstm_layer = TimeDistributed(Dense(50))(lstm_layer)\n",
    "    #layer = Flatten()(lstm_layer)\n",
    "    layer = GlobalAveragePooling1D()(lstm_layer)\n",
    "    layer = Dense(300, activation='tanh')(layer)\n",
    "\n",
    "    lstm_feature_model = Model(inputs=[sequence_input], outputs=[layer], name = 'FeatureLstmGenerationModel') # inputs=visible\n",
    "\n",
    "    return lstm_feature_model"
   ]
  },
  {
   "cell_type": "markdown",
   "metadata": {},
   "source": [
    "### MLP"
   ]
  },
  {
   "cell_type": "code",
   "execution_count": 33,
   "metadata": {},
   "outputs": [],
   "source": [
    "def mlp_model(input_size):\n",
    "    info_input = Input(shape=(input_size, ), name='Feature_BugInput')\n",
    "    input_size = 300\n",
    "    \n",
    "    for units in [64, 32]:\n",
    "        layer = Dense(units, activation='tanh', kernel_initializer='random_uniform')(info_input)\n",
    "    \n",
    "    layer = Dense(input_size, activation='tanh')(info_input)\n",
    "    \n",
    "    mlp_feature_model = Model(inputs=[info_input], outputs=[layer], name = 'FeatureMlpGenerationModel')\n",
    "    \n",
    "    return mlp_feature_model"
   ]
  },
  {
   "cell_type": "markdown",
   "metadata": {
    "colab_type": "text",
    "id": "TEedCg5AaTf2"
   },
   "source": [
    "### Siamese model"
   ]
  },
  {
   "cell_type": "code",
   "execution_count": 34,
   "metadata": {},
   "outputs": [],
   "source": [
    "def pairwise_distance(feature, squared=False):\n",
    "    \"\"\"Computes the pairwise distance matrix with numerical stability.\n",
    "\n",
    "    output[i, j] = || feature[i, :] - feature[j, :] ||_2\n",
    "\n",
    "    Args:\n",
    "      feature: 2-D Tensor of size [number of data, feature dimension].\n",
    "      squared: Boolean, whether or not to square the pairwise distances.\n",
    "\n",
    "    Returns:\n",
    "      pairwise_distances: 2-D Tensor of size [number of data, number of data].\n",
    "    \"\"\"\n",
    "    pairwise_distances_squared = math_ops.add(\n",
    "        math_ops.reduce_sum(math_ops.square(feature), axis=[1], keepdims=True),\n",
    "        math_ops.reduce_sum(\n",
    "            math_ops.square(array_ops.transpose(feature)),\n",
    "            axis=[0],\n",
    "            keepdims=True)) - 2.0 * math_ops.matmul(feature,\n",
    "                                                    array_ops.transpose(feature))\n",
    "\n",
    "    # Deal with numerical inaccuracies. Set small negatives to zero.\n",
    "    pairwise_distances_squared = math_ops.maximum(pairwise_distances_squared, 0.0)\n",
    "    # Get the mask where the zero distances are at.\n",
    "    error_mask = math_ops.less_equal(pairwise_distances_squared, 0.0)\n",
    "\n",
    "    # Optionally take the sqrt.\n",
    "    if squared:\n",
    "        pairwise_distances = pairwise_distances_squared\n",
    "    else:\n",
    "        pairwise_distances = math_ops.sqrt(\n",
    "            pairwise_distances_squared + math_ops.to_float(error_mask) * 1e-16)\n",
    "\n",
    "    # Undo conditionally adding 1e-16.\n",
    "    pairwise_distances = math_ops.multiply(\n",
    "        pairwise_distances, math_ops.to_float(math_ops.logical_not(error_mask)))\n",
    "\n",
    "    num_data = array_ops.shape(feature)[0]\n",
    "    # Explicitly set diagonals to zero.\n",
    "    mask_offdiagonals = array_ops.ones_like(pairwise_distances) - array_ops.diag(\n",
    "        array_ops.ones([num_data]))\n",
    "    pairwise_distances = math_ops.multiply(pairwise_distances, mask_offdiagonals)\n",
    "    return pairwise_distances\n",
    "\n",
    "def masked_maximum(data, mask, dim=1):\n",
    "    \"\"\"Computes the axis wise maximum over chosen elements.\n",
    "\n",
    "    Args:\n",
    "      data: 2-D float `Tensor` of size [n, m].\n",
    "      mask: 2-D Boolean `Tensor` of size [n, m].\n",
    "      dim: The dimension over which to compute the maximum.\n",
    "\n",
    "    Returns:\n",
    "      masked_maximums: N-D `Tensor`.\n",
    "        The maximized dimension is of size 1 after the operation.\n",
    "    \"\"\"\n",
    "    axis_minimums = math_ops.reduce_min(data, dim, keepdims=True)\n",
    "    masked_maximums = math_ops.reduce_max(\n",
    "        math_ops.multiply(data - axis_minimums, mask), dim,\n",
    "        keepdims=True) + axis_minimums\n",
    "    return masked_maximums\n",
    "\n",
    "def masked_minimum(data, mask, dim=1):\n",
    "    \"\"\"Computes the axis wise minimum over chosen elements.\n",
    "\n",
    "    Args:\n",
    "      data: 2-D float `Tensor` of size [n, m].\n",
    "      mask: 2-D Boolean `Tensor` of size [n, m].\n",
    "      dim: The dimension over which to compute the minimum.\n",
    "\n",
    "    Returns:\n",
    "      masked_minimums: N-D `Tensor`.\n",
    "        The minimized dimension is of size 1 after the operation.\n",
    "    \"\"\"\n",
    "    axis_maximums = math_ops.reduce_max(data, dim, keepdims=True)\n",
    "    masked_minimums = math_ops.reduce_min(\n",
    "        math_ops.multiply(data - axis_maximums, mask), dim,\n",
    "        keepdims=True) + axis_maximums\n",
    "    return masked_minimums"
   ]
  },
  {
   "cell_type": "code",
   "execution_count": 35,
   "metadata": {},
   "outputs": [],
   "source": [
    "## required for semi-hard triplet loss:\n",
    "from tensorflow.python.ops import array_ops\n",
    "from tensorflow.python.ops import math_ops\n",
    "from tensorflow.python.framework import dtypes\n",
    "import tensorflow as tf\n",
    "\n",
    "def triplet_loss_adapted_from_tf(y_true, y_pred):\n",
    "    del y_true\n",
    "    margin = 1.\n",
    "    labels = y_pred[:, :1]\n",
    " \n",
    "    labels = tf.cast(labels, dtype='int32')\n",
    "\n",
    "    embeddings = y_pred[:, 1:]\n",
    "\n",
    "    ### Code from Tensorflow function [tf.contrib.losses.metric_learning.triplet_semihard_loss] starts here:\n",
    "    \n",
    "    # Reshape [batch_size] label tensor to a [batch_size, 1] label tensor.\n",
    "    # lshape=array_ops.shape(labels)\n",
    "    # assert lshape.shape == 1\n",
    "    # labels = array_ops.reshape(labels, [lshape[0], 1])\n",
    "\n",
    "    # Build pairwise squared distance matrix.\n",
    "    pdist_matrix = pairwise_distance(embeddings, squared=True)\n",
    "    # Build pairwise binary adjacency matrix.\n",
    "    adjacency = math_ops.equal(labels, array_ops.transpose(labels))\n",
    "    # Invert so we can select negatives only.\n",
    "    adjacency_not = math_ops.logical_not(adjacency)\n",
    "\n",
    "    # global batch_size  \n",
    "    batch_size = array_ops.size(labels) # was 'array_ops.size(labels)'\n",
    "\n",
    "    # Compute the mask.\n",
    "    pdist_matrix_tile = array_ops.tile(pdist_matrix, [batch_size, 1])\n",
    "    mask = math_ops.logical_and(\n",
    "        array_ops.tile(adjacency_not, [batch_size, 1]),\n",
    "        math_ops.greater(\n",
    "            pdist_matrix_tile, array_ops.reshape(\n",
    "                array_ops.transpose(pdist_matrix), [-1, 1])))\n",
    "    mask_final = array_ops.reshape(\n",
    "        math_ops.greater(\n",
    "            math_ops.reduce_sum(\n",
    "                math_ops.cast(mask, dtype=dtypes.float32), 1, keepdims=True),\n",
    "            0.0), [batch_size, batch_size])\n",
    "    mask_final = array_ops.transpose(mask_final)\n",
    "\n",
    "    adjacency_not = math_ops.cast(adjacency_not, dtype=dtypes.float32)\n",
    "    mask = math_ops.cast(mask, dtype=dtypes.float32)\n",
    "\n",
    "    # negatives_outside: smallest D_an where D_an > D_ap.\n",
    "    negatives_outside = array_ops.reshape(\n",
    "        masked_minimum(pdist_matrix_tile, mask), [batch_size, batch_size])\n",
    "    negatives_outside = array_ops.transpose(negatives_outside)\n",
    "\n",
    "    # negatives_inside: largest D_an.\n",
    "    negatives_inside = array_ops.tile(\n",
    "        masked_maximum(pdist_matrix, adjacency_not), [1, batch_size])\n",
    "    semi_hard_negatives = array_ops.where(\n",
    "        mask_final, negatives_outside, negatives_inside)\n",
    "\n",
    "    loss_mat = math_ops.add(margin, pdist_matrix - semi_hard_negatives)\n",
    "\n",
    "    mask_positives = math_ops.cast(\n",
    "        adjacency, dtype=dtypes.float32) - array_ops.diag(\n",
    "        array_ops.ones([batch_size]))\n",
    "\n",
    "    # In lifted-struct, the authors multiply 0.5 for upper triangular\n",
    "    #   in semihard, they take all positive pairs except the diagonal.\n",
    "    num_positives = math_ops.reduce_sum(mask_positives)\n",
    "\n",
    "    semi_hard_triplet_loss_distance = math_ops.truediv(\n",
    "        math_ops.reduce_sum(\n",
    "            math_ops.maximum(\n",
    "                math_ops.multiply(loss_mat, mask_positives), 0.0)),\n",
    "        num_positives,\n",
    "        name='triplet_semihard_loss')\n",
    "    \n",
    "    ### Code from Tensorflow function semi-hard triplet loss ENDS here.\n",
    "    return semi_hard_triplet_loss_distance"
   ]
  },
  {
   "cell_type": "code",
   "execution_count": 36,
   "metadata": {},
   "outputs": [],
   "source": [
    "from keras.layers import concatenate, Add, Lambda, merge, Average, Maximum\n",
    "from keras.optimizers import Adam, Nadam\n",
    "\n",
    "def siamese_model(title_feature_model, desc_feature_model, categorical_feature_model, sequence_length_info, \n",
    "                  sequence_length_t, sequence_length_d, name):\n",
    "  \n",
    "    bug_t = Input(shape = (sequence_length_t, ), name = 'title_{}'.format(name))\n",
    "    bug_d = Input(shape = (sequence_length_d, ), name = 'desc_{}'.format(name))\n",
    "    bug_i = Input(shape = (sequence_length_info, ), name = 'info_{}'.format(name))\n",
    "    \n",
    "    bug_t_feat = title_feature_model(bug_t)\n",
    "    bug_d_feat = desc_feature_model(bug_d)\n",
    "    bug_i_feat = categorical_feature_model(bug_i)\n",
    "    \n",
    "    #bug_feature_output = Add(name = 'merge_features_{}'.format(name))([bug_i_feat, bug_t_feat, bug_d_feat])\n",
    "    bug_feature_output = concatenate([bug_i_feat, bug_t_feat, bug_d_feat], name = 'merge_features_{}'.format(name))\n",
    "    \n",
    "    #     bug_feature_output = Activation('tanh')(bug_feature_output)\n",
    "    \n",
    "    # Bug representation layer\n",
    "    # bug_feature_output = Dense(300, activation='tanh')(bug_feature_output)\n",
    "    \n",
    "    bug_feature_model = Model(inputs=[bug_t, bug_d, bug_i], outputs=[bug_feature_output], name = 'merge_features_{}'.format(name))\n",
    "    \n",
    "    return bug_feature_model"
   ]
  },
  {
   "cell_type": "code",
   "execution_count": 37,
   "metadata": {},
   "outputs": [],
   "source": [
    "def max_margin_objective(encoded_anchor, decay_lr=1):\n",
    "    \n",
    "    input_labels = Input(shape=(1,), name='input_label')    # input layer for labels\n",
    "    inputs = np.concatenate([encoded_anchor.input, [input_labels]], -1).tolist()\n",
    "    \n",
    "    encoded_anchor = encoded_anchor.output\n",
    "    \n",
    "    output = concatenate([input_labels, encoded_anchor])  # concatenating the labels + embeddings\n",
    "    \n",
    "    similarity_model = Model(inputs = inputs, outputs = output, name = 'Similarity_Model')\n",
    "\n",
    "    #optimizer = Nadam(lr=1e-3, beta_1=0.9, beta_2=0.999, epsilon=K.epsilon(), schedule_decay=0.01)\n",
    "    # optimizer = Adam(lr=1e-3 * decay_lr, beta_1=0.9, beta_2=0.999, epsilon=None, decay=0.0, amsgrad=True)\n",
    "\n",
    "    # setup the optimization process \n",
    "    similarity_model.compile(optimizer='adam', loss=triplet_loss_adapted_from_tf) \n",
    "    # metrics=[pos_distance, neg_distance, custom_margin_loss]\n",
    "\n",
    "    return similarity_model"
   ]
  },
  {
   "cell_type": "code",
   "execution_count": 38,
   "metadata": {},
   "outputs": [],
   "source": [
    "# Domain to use\n",
    "limit_train = int(epochs * freeze_train) # 10% de 1000 , 100 epocas\n",
    "METHOD = 'baseline_{}'.format(limit_train)\n",
    "SAVE_PATH = '{}_preprocessing_{}_feature@number_of_epochs@epochs_64batch({})'.format(PREPROCESSING, METHOD, DOMAIN)\n",
    "SAVE_PATH_FEATURE = '{}_preprocessing_{}_feature_@number_of_epochs@epochs_64batch({})'.format(PREPROCESSING, METHOD, DOMAIN)"
   ]
  },
  {
   "cell_type": "code",
   "execution_count": 39,
   "metadata": {},
   "outputs": [],
   "source": [
    "import _pickle as pickle\n",
    "def save_loss(result):\n",
    "    with open(os.path.join(DIR,'{}_log.pkl'.format(METHOD)), 'wb') as f:\n",
    "        pickle.dump(result, f)\n",
    "    print(\"=> result saved!\")"
   ]
  },
  {
   "cell_type": "code",
   "execution_count": 40,
   "metadata": {
    "scrolled": true
   },
   "outputs": [
    {
     "name": "stdout",
     "output_type": "stream",
     "text": [
      "WARNING:tensorflow:From /usr/local/lib/python3.5/dist-packages/keras/backend/tensorflow_backend.py:95: The name tf.reset_default_graph is deprecated. Please use tf.compat.v1.reset_default_graph instead.\n",
      "\n",
      "WARNING:tensorflow:From /usr/local/lib/python3.5/dist-packages/keras/backend/tensorflow_backend.py:98: The name tf.placeholder_with_default is deprecated. Please use tf.compat.v1.placeholder_with_default instead.\n",
      "\n",
      "WARNING:tensorflow:From /usr/local/lib/python3.5/dist-packages/keras/backend/tensorflow_backend.py:102: The name tf.get_default_graph is deprecated. Please use tf.compat.v1.get_default_graph instead.\n",
      "\n",
      "WARNING:tensorflow:From /usr/local/lib/python3.5/dist-packages/keras/backend/tensorflow_backend.py:517: The name tf.placeholder is deprecated. Please use tf.compat.v1.placeholder instead.\n",
      "\n",
      "WARNING:tensorflow:From /usr/local/lib/python3.5/dist-packages/keras/backend/tensorflow_backend.py:4138: The name tf.random_uniform is deprecated. Please use tf.random.uniform instead.\n",
      "\n",
      "WARNING:tensorflow:From /usr/local/lib/python3.5/dist-packages/keras/backend/tensorflow_backend.py:174: The name tf.get_default_session is deprecated. Please use tf.compat.v1.get_default_session instead.\n",
      "\n",
      "WARNING:tensorflow:From /usr/local/lib/python3.5/dist-packages/keras/backend/tensorflow_backend.py:181: The name tf.ConfigProto is deprecated. Please use tf.compat.v1.ConfigProto instead.\n",
      "\n",
      "WARNING:tensorflow:From /usr/local/lib/python3.5/dist-packages/keras/backend/tensorflow_backend.py:186: The name tf.Session is deprecated. Please use tf.compat.v1.Session instead.\n",
      "\n",
      "WARNING:tensorflow:From /usr/local/lib/python3.5/dist-packages/keras/backend/tensorflow_backend.py:190: The name tf.global_variables is deprecated. Please use tf.compat.v1.global_variables instead.\n",
      "\n",
      "WARNING:tensorflow:From /usr/local/lib/python3.5/dist-packages/keras/backend/tensorflow_backend.py:199: The name tf.is_variable_initialized is deprecated. Please use tf.compat.v1.is_variable_initialized instead.\n",
      "\n",
      "WARNING:tensorflow:From /usr/local/lib/python3.5/dist-packages/keras/backend/tensorflow_backend.py:206: The name tf.variables_initializer is deprecated. Please use tf.compat.v1.variables_initializer instead.\n",
      "\n",
      "WARNING:tensorflow:From /usr/local/lib/python3.5/dist-packages/keras/backend/tensorflow_backend.py:3976: The name tf.nn.max_pool is deprecated. Please use tf.nn.max_pool2d instead.\n",
      "\n",
      "WARNING:tensorflow:From /usr/local/lib/python3.5/dist-packages/keras/optimizers.py:790: The name tf.train.Optimizer is deprecated. Please use tf.compat.v1.train.Optimizer instead.\n",
      "\n",
      "WARNING:tensorflow:From <ipython-input-34-cd325db98846>:35: to_float (from tensorflow.python.ops.math_ops) is deprecated and will be removed in a future version.\n",
      "Instructions for updating:\n",
      "Use `tf.cast` instead.\n",
      "WARNING:tensorflow:From <ipython-input-35-3672f63e3254>:59: where (from tensorflow.python.ops.array_ops) is deprecated and will be removed in a future version.\n",
      "Instructions for updating:\n",
      "Use tf.where in 2.0, which has the same broadcast rule as np.where\n",
      "__________________________________________________________________________________________________\n",
      "Layer (type)                    Output Shape         Param #     Connected to                     \n",
      "==================================================================================================\n",
      "info_in (InputLayer)            (None, 1682)         0                                            \n",
      "__________________________________________________________________________________________________\n",
      "title_in (InputLayer)           (None, 20)           0                                            \n",
      "__________________________________________________________________________________________________\n",
      "desc_in (InputLayer)            (None, 20)           0                                            \n",
      "__________________________________________________________________________________________________\n",
      "FeatureMlpGenerationModel (Mode (None, 300)          504900      info_in[0][0]                    \n",
      "__________________________________________________________________________________________________\n",
      "FeatureLstmGenerationModel (Mod (None, 300)          581804100   title_in[0][0]                   \n",
      "__________________________________________________________________________________________________\n",
      "FeatureCNNGenerationModel (Mode (None, 300)          581850792   desc_in[0][0]                    \n",
      "__________________________________________________________________________________________________\n",
      "input_label (InputLayer)        (None, 1)            0                                            \n",
      "__________________________________________________________________________________________________\n",
      "merge_features_in (Concatenate) (None, 900)          0           FeatureMlpGenerationModel[1][0]  \n",
      "                                                                 FeatureLstmGenerationModel[1][0] \n",
      "                                                                 FeatureCNNGenerationModel[1][0]  \n",
      "__________________________________________________________________________________________________\n",
      "concatenate_3 (Concatenate)     (None, 901)          0           input_label[0][0]                \n",
      "                                                                 merge_features_in[0][0]          \n",
      "==================================================================================================\n",
      "Total params: 1,164,159,792\n",
      "Trainable params: 958,392\n",
      "Non-trainable params: 1,163,201,400\n",
      "__________________________________________________________________________________________________\n",
      "Total of  100\n",
      "WARNING:tensorflow:From /usr/local/lib/python3.5/dist-packages/keras/backend/tensorflow_backend.py:986: The name tf.assign_add is deprecated. Please use tf.compat.v1.assign_add instead.\n",
      "\n",
      "WARNING:tensorflow:From /usr/local/lib/python3.5/dist-packages/keras/backend/tensorflow_backend.py:973: The name tf.assign is deprecated. Please use tf.compat.v1.assign instead.\n",
      "\n",
      "Epoch: 1 Loss: 0.60, Loss_test: 0.75\n",
      "Epoch: 2 Loss: 0.75, Loss_test: 0.76\n",
      "Epoch: 3 Loss: 0.52, Loss_test: 0.76\n",
      "Epoch: 4 Loss: 0.71, Loss_test: 0.74\n",
      "Epoch: 5 Loss: 0.63, Loss_test: 0.72\n",
      "Epoch: 6 Loss: 0.73, Loss_test: 0.70\n",
      "Epoch: 7 Loss: 0.78, Loss_test: 0.68\n",
      "Epoch: 8 Loss: 0.74, Loss_test: 0.65\n",
      "Epoch: 9 Loss: 0.63, Loss_test: 0.63\n",
      "=> result saved!\n",
      "Epoch: 10 Loss: 0.53, Loss_test: 0.62\n",
      "Epoch: 11 Loss: 0.68, Loss_test: 0.61\n",
      "Epoch: 12 Loss: 0.83, Loss_test: 0.59\n",
      "Epoch: 13 Loss: 0.69, Loss_test: 0.57\n",
      "Epoch: 14 Loss: 0.75, Loss_test: 0.55\n",
      "Epoch: 15 Loss: 0.52, Loss_test: 0.53\n",
      "Epoch: 16 Loss: 0.63, Loss_test: 0.50\n",
      "Epoch: 17 Loss: 0.54, Loss_test: 0.47\n",
      "Epoch: 18 Loss: 0.53, Loss_test: 0.44\n",
      "Epoch: 19 Loss: 0.24, Loss_test: 0.42\n",
      "=> result saved!\n",
      "Epoch: 20 Loss: 0.53, Loss_test: 0.39\n",
      "Epoch: 21 Loss: 0.48, Loss_test: 0.36\n",
      "Epoch: 22 Loss: 0.39, Loss_test: 0.35\n",
      "Epoch: 23 Loss: 0.50, Loss_test: 0.32\n",
      "Epoch: 24 Loss: 0.26, Loss_test: 0.32\n",
      "Epoch: 25 Loss: 0.45, Loss_test: 0.31\n",
      "Epoch: 26 Loss: 0.39, Loss_test: 0.31\n",
      "Epoch: 27 Loss: 0.45, Loss_test: 0.34\n",
      "Epoch: 28 Loss: 0.49, Loss_test: 0.35\n",
      "Epoch: 29 Loss: 0.35, Loss_test: 0.33\n",
      "=> result saved!\n",
      "Epoch: 30 Loss: 0.34, Loss_test: 0.33\n",
      "Epoch: 31 Loss: 0.31, Loss_test: 0.33\n",
      "Epoch: 32 Loss: 0.28, Loss_test: 0.33\n",
      "Epoch: 33 Loss: 0.30, Loss_test: 0.32\n",
      "Epoch: 34 Loss: 0.43, Loss_test: 0.32\n",
      "Epoch: 35 Loss: 0.29, Loss_test: 0.32\n",
      "Epoch: 36 Loss: 0.39, Loss_test: 0.31\n",
      "Epoch: 37 Loss: 0.26, Loss_test: 0.31\n",
      "Epoch: 38 Loss: 0.19, Loss_test: 0.31\n",
      "Epoch: 39 Loss: 0.26, Loss_test: 0.30\n",
      "=> result saved!\n",
      "Epoch: 40 Loss: 0.33, Loss_test: 0.29\n",
      "Epoch: 41 Loss: 0.23, Loss_test: 0.29\n",
      "Epoch: 42 Loss: 0.28, Loss_test: 0.28\n",
      "Epoch: 43 Loss: 0.20, Loss_test: 0.27\n",
      "Epoch: 44 Loss: 0.23, Loss_test: 0.26\n",
      "Epoch: 45 Loss: 0.20, Loss_test: 0.25\n",
      "Epoch: 46 Loss: 0.30, Loss_test: 0.25\n",
      "Epoch: 47 Loss: 0.20, Loss_test: 0.25\n",
      "Epoch: 48 Loss: 0.27, Loss_test: 0.25\n",
      "Epoch: 49 Loss: 0.15, Loss_test: 0.25\n",
      "=> result saved!\n",
      "Epoch: 50 Loss: 0.24, Loss_test: 0.24\n",
      "Epoch: 51 Loss: 0.29, Loss_test: 0.24\n",
      "Epoch: 52 Loss: 0.19, Loss_test: 0.24\n",
      "Epoch: 53 Loss: 0.34, Loss_test: 0.23\n",
      "Epoch: 54 Loss: 0.33, Loss_test: 0.23\n",
      "Epoch: 55 Loss: 0.20, Loss_test: 0.23\n",
      "Epoch: 56 Loss: 0.23, Loss_test: 0.23\n",
      "Epoch: 57 Loss: 0.30, Loss_test: 0.22\n"
     ]
    },
    {
     "name": "stdout",
     "output_type": "stream",
     "text": [
      "Epoch: 58 Loss: 0.28, Loss_test: 0.22\n",
      "Epoch: 59 Loss: 0.16, Loss_test: 0.22\n",
      "=> result saved!\n",
      "Epoch: 60 Loss: 0.15, Loss_test: 0.21\n",
      "Epoch: 61 Loss: 0.25, Loss_test: 0.21\n",
      "Epoch: 62 Loss: 0.17, Loss_test: 0.21\n",
      "Epoch: 63 Loss: 0.27, Loss_test: 0.21\n",
      "Epoch: 64 Loss: 0.14, Loss_test: 0.21\n",
      "Epoch: 65 Loss: 0.15, Loss_test: 0.21\n",
      "Epoch: 66 Loss: 0.27, Loss_test: 0.21\n",
      "Epoch: 67 Loss: 0.24, Loss_test: 0.21\n",
      "Epoch: 68 Loss: 0.26, Loss_test: 0.21\n",
      "Epoch: 69 Loss: 0.23, Loss_test: 0.21\n",
      "=> result saved!\n",
      "Epoch: 70 Loss: 0.28, Loss_test: 0.21\n",
      "Epoch: 71 Loss: 0.14, Loss_test: 0.21\n",
      "Epoch: 72 Loss: 0.15, Loss_test: 0.21\n",
      "Epoch: 73 Loss: 0.18, Loss_test: 0.21\n",
      "Epoch: 74 Loss: 0.20, Loss_test: 0.20\n",
      "Epoch: 75 Loss: 0.17, Loss_test: 0.20\n",
      "Epoch: 76 Loss: 0.23, Loss_test: 0.20\n",
      "Epoch: 77 Loss: 0.19, Loss_test: 0.20\n",
      "Epoch: 78 Loss: 0.16, Loss_test: 0.19\n",
      "Epoch: 79 Loss: 0.12, Loss_test: 0.19\n",
      "=> result saved!\n",
      "Epoch: 80 Loss: 0.13, Loss_test: 0.19\n",
      "Epoch: 81 Loss: 0.17, Loss_test: 0.19\n",
      "Epoch: 82 Loss: 0.17, Loss_test: 0.19\n",
      "Epoch: 83 Loss: 0.17, Loss_test: 0.19\n",
      "Epoch: 84 Loss: 0.12, Loss_test: 0.19\n",
      "Epoch: 85 Loss: 0.16, Loss_test: 0.19\n",
      "Epoch: 86 Loss: 0.16, Loss_test: 0.19\n",
      "Epoch: 87 Loss: 0.17, Loss_test: 0.19\n",
      "Epoch: 88 Loss: 0.09, Loss_test: 0.18\n",
      "Epoch: 89 Loss: 0.11, Loss_test: 0.18\n",
      "=> result saved!\n",
      "Epoch: 90 Loss: 0.22, Loss_test: 0.18\n",
      "Epoch: 91 Loss: 0.15, Loss_test: 0.18\n",
      "Epoch: 92 Loss: 0.10, Loss_test: 0.18\n",
      "Epoch: 93 Loss: 0.13, Loss_test: 0.18\n",
      "Epoch: 94 Loss: 0.12, Loss_test: 0.17\n",
      "Epoch: 95 Loss: 0.26, Loss_test: 0.17\n",
      "Epoch: 96 Loss: 0.14, Loss_test: 0.17\n",
      "Epoch: 97 Loss: 0.13, Loss_test: 0.17\n",
      "Epoch: 98 Loss: 0.16, Loss_test: 0.17\n",
      "Epoch: 99 Loss: 0.08, Loss_test: 0.16\n",
      "=> result saved!\n",
      "Epoch: 100 Loss: 0.15, Loss_test: 0.16, recall@25: 0.46\n",
      "Best_epoch=99, Best_loss=0.08, Recall@25=0.46\n",
      "CPU times: user 8min 38s, sys: 1min 21s, total: 9min 59s\n",
      "Wall time: 2min 44s\n"
     ]
    }
   ],
   "source": [
    "%%time\n",
    "import keras\n",
    "\n",
    "# Inspired on https://'pastebin.com/TaGFdcBA\n",
    "# TODO: https://stackoverflow.com/questions/49941903/keras-compute-cosine-distance-between-two-flattened-outputs\n",
    "keras.backend.clear_session()\n",
    "\n",
    "# Clear GPU memory\n",
    "# from numba import cuda\n",
    "# cuda.select_device(0)\n",
    "# cuda.close()\n",
    "\n",
    "# Embeddings\n",
    "desc_embedding_layer = embedding_layer(embeddings=baseline.embedding_matrix, \n",
    "                              num_words=len(baseline.embedding_matrix), \n",
    "                              embedding_dim=EMBEDDING_DIM, \n",
    "                              max_sequence_length=MAX_SEQUENCE_LENGTH_D, \n",
    "                              trainable=False)\n",
    "title_embedding_layer = embedding_layer(embeddings=baseline.embedding_matrix, \n",
    "                              num_words=len(baseline.embedding_matrix), \n",
    "                              embedding_dim=EMBEDDING_DIM, \n",
    "                              max_sequence_length=MAX_SEQUENCE_LENGTH_T, \n",
    "                              trainable=False)\n",
    "\n",
    "# Feature models\n",
    "'''\n",
    "    cnn_model\n",
    "    lstm_model\n",
    "    mlp_model\n",
    "'''\n",
    "desc_feature_model = cnn_model(desc_embedding_layer, MAX_SEQUENCE_LENGTH_D)\n",
    "title_feature_model = lstm_model(title_embedding_layer, MAX_SEQUENCE_LENGTH_T)\n",
    "categorical_feature_model = mlp_model(number_of_columns_info)\n",
    "\n",
    "# Similarity model\n",
    "encoded_anchor = siamese_model(title_feature_model, desc_feature_model, categorical_feature_model, \n",
    "                                     number_of_columns_info, MAX_SEQUENCE_LENGTH_T, MAX_SEQUENCE_LENGTH_D, 'in')\n",
    "\n",
    "similarity_model = max_margin_objective(encoded_anchor, decay_lr=1)\n",
    "\n",
    "# cnn_feature_model.summary()\n",
    "# lstm_feature_model.summary()\n",
    "similarity_model.summary()\n",
    "\n",
    "'''\n",
    "    Experiment\n",
    "'''\n",
    "result = { 'train' : [], 'test' : [] }\n",
    "print(\"Total of \", limit_train)\n",
    "for epoch in range(limit_train):\n",
    "    batch_triplet_train, \\\n",
    "        train_input_sample, train_sim = batch_iterator(baseline, retrieval, encoded_anchor, baseline.train_data, \n",
    "                                                       baseline.dup_sets_train, bug_train_ids, \n",
    "                                                           batch_size, 1, issues_by_buckets, TRIPLET_HARD=False)\n",
    "    train_batch = [train_input_sample['title'], train_input_sample['description'], train_input_sample['info'], train_sim]\n",
    "    \n",
    "    h = similarity_model.train_on_batch(x=train_batch, y=train_sim)\n",
    "    h_validation = similarity_model.test_on_batch(x=validation_sample, y=valid_sim)\n",
    "    \n",
    "     # save results\n",
    "    result['train'].append(h)\n",
    "    result['test'].append(h_validation)\n",
    "    \n",
    "    if( (epoch+1) % 10 == 0 or (epoch+1 == limit_train) ):\n",
    "        save_loss(result)\n",
    "    \n",
    "    if (epoch+1 == limit_train): #(epoch > 1 and epoch % 10 == 0) or (epoch+1 == epochs):\n",
    "        recall, exported_rank, debug = experiment.evaluate_validation_test(retrieval, verbose, encoded_anchor, issues_by_buckets, bug_train_ids)\n",
    "        print(\"Epoch: {} Loss: {:.2f}, Loss_test: {:.2f}, recall@25: {:.2f}\".format(epoch+1, h, h_validation, recall))\n",
    "    else:\n",
    "        print(\"Epoch: {} Loss: {:.2f}, Loss_test: {:.2f}\".format(epoch+1, h, h_validation))\n",
    "    loss = h\n",
    "    \n",
    "    if loss < best_loss:\n",
    "        best_loss = loss\n",
    "        best_epoch = epoch+1\n",
    "\n",
    "#experiment.save_model(similarity_model, SAVE_PATH.replace('@number_of_epochs@', str(epochs)))\n",
    "#experiment.save_model(encoded_anchor, SAVE_PATH_FEATURE.replace('@number_of_epochs@', str(epochs)), verbose=1)\n",
    "print('Best_epoch={}, Best_loss={:.2f}, Recall@25={:.2f}'.format(best_epoch, best_loss, recall))"
   ]
  },
  {
   "cell_type": "code",
   "execution_count": 41,
   "metadata": {},
   "outputs": [
    {
     "data": {
      "text/plain": [
       "'data/processed/eclipse/bert/exported_rank_baseline_100.txt'"
      ]
     },
     "execution_count": 41,
     "metadata": {},
     "output_type": "execute_result"
    }
   ],
   "source": [
    "EXPORT_RANK_PATH = os.path.join(DIR, 'exported_rank_{}.txt'.format(METHOD))\n",
    "EXPORT_RANK_PATH"
   ]
  },
  {
   "cell_type": "code",
   "execution_count": 42,
   "metadata": {},
   "outputs": [],
   "source": [
    "with open(EXPORT_RANK_PATH, 'w') as file_out:\n",
    "    for row in exported_rank:\n",
    "        file_out.write(row + \"\\n\")"
   ]
  },
  {
   "cell_type": "code",
   "execution_count": 43,
   "metadata": {},
   "outputs": [
    {
     "name": "stdout",
     "output_type": "stream",
     "text": [
      "Saved model 'modelos/model_bert_preprocessing_baseline_100_feature_100epochs_64batch(eclipse).h5' to disk\n"
     ]
    }
   ],
   "source": [
    "experiment.save_model(similarity_model, SAVE_PATH.replace('@number_of_epochs@', str(limit_train)))\n",
    "experiment.save_model(encoded_anchor, SAVE_PATH_FEATURE.replace('@number_of_epochs@', str(limit_train)), verbose=1)"
   ]
  },
  {
   "cell_type": "code",
   "execution_count": 44,
   "metadata": {},
   "outputs": [
    {
     "data": {
      "text/plain": [
       "(100, 100)"
      ]
     },
     "execution_count": 44,
     "metadata": {},
     "output_type": "execute_result"
    }
   ],
   "source": [
    "len(result['train']), len(result['test'])"
   ]
  },
  {
   "cell_type": "code",
   "execution_count": 45,
   "metadata": {},
   "outputs": [
    {
     "name": "stdout",
     "output_type": "stream",
     "text": [
      "__________________________________________________________________________________________________\n",
      "Layer (type)                    Output Shape         Param #     Connected to                     \n",
      "==================================================================================================\n",
      "info_in (InputLayer)            (None, 1682)         0                                            \n",
      "__________________________________________________________________________________________________\n",
      "title_in (InputLayer)           (None, 20)           0                                            \n",
      "__________________________________________________________________________________________________\n",
      "desc_in (InputLayer)            (None, 20)           0                                            \n",
      "__________________________________________________________________________________________________\n",
      "FeatureMlpGenerationModel (Mode (None, 300)          504900      info_in[0][0]                    \n",
      "__________________________________________________________________________________________________\n",
      "FeatureLstmGenerationModel (Mod (None, 300)          581804100   title_in[0][0]                   \n",
      "__________________________________________________________________________________________________\n",
      "FeatureCNNGenerationModel (Mode (None, 300)          581850792   desc_in[0][0]                    \n",
      "__________________________________________________________________________________________________\n",
      "input_label (InputLayer)        (None, 1)            0                                            \n",
      "__________________________________________________________________________________________________\n",
      "merge_features_in (Concatenate) (None, 900)          0           FeatureMlpGenerationModel[1][0]  \n",
      "                                                                 FeatureLstmGenerationModel[1][0] \n",
      "                                                                 FeatureCNNGenerationModel[1][0]  \n",
      "__________________________________________________________________________________________________\n",
      "concatenate_3 (Concatenate)     (None, 901)          0           input_label[0][0]                \n",
      "                                                                 merge_features_in[0][0]          \n",
      "==================================================================================================\n",
      "Total params: 1,164,159,792\n",
      "Trainable params: 958,392\n",
      "Non-trainable params: 1,163,201,400\n",
      "__________________________________________________________________________________________________\n"
     ]
    }
   ],
   "source": [
    "model = similarity_model.get_layer('concatenate_3')\n",
    "output = model.output\n",
    "inputs = similarity_model.inputs\n",
    "model = Model(inputs = inputs, outputs = output, name = 'Similarity_Model')\n",
    "\n",
    "# setup the optimization process \n",
    "model.compile(optimizer='adam', loss=triplet_loss_adapted_from_tf)\n",
    "model.summary()"
   ]
  },
  {
   "cell_type": "code",
   "execution_count": 46,
   "metadata": {},
   "outputs": [],
   "source": [
    "# Domain to use\n",
    "METHOD = 'baseline_{}'.format(epochs)\n",
    "SAVE_PATH = '{}_preprocessing_{}_feature@number_of_epochs@epochs_64batch({})'.format(PREPROCESSING, METHOD, DOMAIN)\n",
    "SAVE_PATH_FEATURE = '{}_preprocessing_{}_feature_@number_of_epochs@epochs_64batch({})'.format(PREPROCESSING, METHOD, DOMAIN)"
   ]
  },
  {
   "cell_type": "code",
   "execution_count": 47,
   "metadata": {
    "scrolled": true
   },
   "outputs": [
    {
     "name": "stdout",
     "output_type": "stream",
     "text": [
      "Epoch: 101 Loss: 0.10, Loss_test: 0.17\n",
      "Epoch: 102 Loss: 0.16, Loss_test: 0.16\n",
      "Epoch: 103 Loss: 0.17, Loss_test: 0.17\n",
      "Epoch: 104 Loss: 0.11, Loss_test: 0.17\n",
      "Epoch: 105 Loss: 0.12, Loss_test: 0.17\n",
      "Epoch: 106 Loss: 0.17, Loss_test: 0.18\n",
      "Epoch: 107 Loss: 0.19, Loss_test: 0.19\n",
      "Epoch: 108 Loss: 0.12, Loss_test: 0.19\n",
      "Epoch: 109 Loss: 0.13, Loss_test: 0.18\n",
      "=> result saved!\n",
      "Epoch: 110 Loss: 0.12, Loss_test: 0.18\n",
      "Epoch: 111 Loss: 0.13, Loss_test: 0.17\n",
      "Epoch: 112 Loss: 0.12, Loss_test: 0.17\n",
      "Epoch: 113 Loss: 0.18, Loss_test: 0.18\n",
      "Epoch: 114 Loss: 0.16, Loss_test: 0.17\n",
      "Epoch: 115 Loss: 0.14, Loss_test: 0.17\n",
      "Epoch: 116 Loss: 0.12, Loss_test: 0.17\n",
      "Epoch: 117 Loss: 0.18, Loss_test: 0.16\n",
      "Epoch: 118 Loss: 0.25, Loss_test: 0.16\n",
      "Epoch: 119 Loss: 0.12, Loss_test: 0.16\n",
      "=> result saved!\n",
      "Epoch: 120 Loss: 0.11, Loss_test: 0.16\n",
      "Epoch: 121 Loss: 0.13, Loss_test: 0.16\n",
      "Epoch: 122 Loss: 0.14, Loss_test: 0.16\n",
      "Epoch: 123 Loss: 0.11, Loss_test: 0.16\n",
      "Epoch: 124 Loss: 0.15, Loss_test: 0.16\n",
      "Epoch: 125 Loss: 0.10, Loss_test: 0.16\n",
      "Epoch: 126 Loss: 0.11, Loss_test: 0.16\n",
      "Epoch: 127 Loss: 0.21, Loss_test: 0.15\n",
      "Epoch: 128 Loss: 0.22, Loss_test: 0.15\n",
      "Epoch: 129 Loss: 0.15, Loss_test: 0.15\n",
      "=> result saved!\n",
      "Epoch: 130 Loss: 0.17, Loss_test: 0.15\n",
      "Epoch: 131 Loss: 0.13, Loss_test: 0.15\n",
      "Epoch: 132 Loss: 0.15, Loss_test: 0.15\n",
      "Epoch: 133 Loss: 0.12, Loss_test: 0.15\n",
      "Epoch: 134 Loss: 0.11, Loss_test: 0.15\n",
      "Epoch: 135 Loss: 0.09, Loss_test: 0.15\n",
      "Epoch: 136 Loss: 0.13, Loss_test: 0.14\n",
      "Epoch: 137 Loss: 0.16, Loss_test: 0.14\n",
      "Epoch: 138 Loss: 0.11, Loss_test: 0.14\n",
      "Epoch: 139 Loss: 0.12, Loss_test: 0.14\n",
      "=> result saved!\n",
      "Epoch: 140 Loss: 0.11, Loss_test: 0.14\n",
      "Epoch: 141 Loss: 0.10, Loss_test: 0.14\n",
      "Epoch: 142 Loss: 0.06, Loss_test: 0.14\n",
      "Epoch: 143 Loss: 0.13, Loss_test: 0.13\n",
      "Epoch: 144 Loss: 0.07, Loss_test: 0.13\n",
      "Epoch: 145 Loss: 0.15, Loss_test: 0.13\n",
      "Epoch: 146 Loss: 0.13, Loss_test: 0.13\n",
      "Epoch: 147 Loss: 0.13, Loss_test: 0.12\n",
      "Epoch: 148 Loss: 0.19, Loss_test: 0.12\n",
      "Epoch: 149 Loss: 0.15, Loss_test: 0.12\n",
      "=> result saved!\n",
      "Epoch: 150 Loss: 0.08, Loss_test: 0.12\n",
      "Epoch: 151 Loss: 0.13, Loss_test: 0.12\n",
      "Epoch: 152 Loss: 0.13, Loss_test: 0.12\n",
      "Epoch: 153 Loss: 0.11, Loss_test: 0.12\n",
      "Epoch: 154 Loss: 0.12, Loss_test: 0.12\n",
      "Epoch: 155 Loss: 0.17, Loss_test: 0.12\n",
      "Epoch: 156 Loss: 0.08, Loss_test: 0.13\n",
      "Epoch: 157 Loss: 0.10, Loss_test: 0.13\n",
      "Epoch: 158 Loss: 0.12, Loss_test: 0.13\n",
      "Epoch: 159 Loss: 0.12, Loss_test: 0.13\n",
      "=> result saved!\n",
      "Epoch: 160 Loss: 0.14, Loss_test: 0.13\n",
      "Epoch: 161 Loss: 0.07, Loss_test: 0.13\n",
      "Epoch: 162 Loss: 0.14, Loss_test: 0.13\n",
      "Epoch: 163 Loss: 0.10, Loss_test: 0.13\n",
      "Epoch: 164 Loss: 0.12, Loss_test: 0.12\n",
      "Epoch: 165 Loss: 0.12, Loss_test: 0.12\n",
      "Epoch: 166 Loss: 0.09, Loss_test: 0.12\n",
      "Epoch: 167 Loss: 0.10, Loss_test: 0.12\n",
      "Epoch: 168 Loss: 0.14, Loss_test: 0.12\n",
      "Epoch: 169 Loss: 0.18, Loss_test: 0.12\n",
      "=> result saved!\n",
      "Epoch: 170 Loss: 0.08, Loss_test: 0.12\n",
      "Epoch: 171 Loss: 0.08, Loss_test: 0.11\n",
      "Epoch: 172 Loss: 0.15, Loss_test: 0.11\n",
      "Epoch: 173 Loss: 0.13, Loss_test: 0.12\n",
      "Epoch: 174 Loss: 0.07, Loss_test: 0.12\n",
      "Epoch: 175 Loss: 0.07, Loss_test: 0.12\n",
      "Epoch: 176 Loss: 0.19, Loss_test: 0.12\n",
      "Epoch: 177 Loss: 0.11, Loss_test: 0.11\n",
      "Epoch: 178 Loss: 0.08, Loss_test: 0.11\n",
      "Epoch: 179 Loss: 0.09, Loss_test: 0.11\n",
      "=> result saved!\n",
      "Epoch: 180 Loss: 0.13, Loss_test: 0.11\n",
      "Epoch: 181 Loss: 0.08, Loss_test: 0.11\n",
      "Epoch: 182 Loss: 0.09, Loss_test: 0.11\n",
      "Epoch: 183 Loss: 0.13, Loss_test: 0.11\n",
      "Epoch: 184 Loss: 0.08, Loss_test: 0.11\n",
      "Epoch: 185 Loss: 0.07, Loss_test: 0.11\n",
      "Epoch: 186 Loss: 0.15, Loss_test: 0.12\n",
      "Epoch: 187 Loss: 0.15, Loss_test: 0.12\n",
      "Epoch: 188 Loss: 0.12, Loss_test: 0.12\n",
      "Epoch: 189 Loss: 0.12, Loss_test: 0.12\n",
      "=> result saved!\n",
      "Epoch: 190 Loss: 0.12, Loss_test: 0.12\n",
      "Epoch: 191 Loss: 0.11, Loss_test: 0.11\n",
      "Epoch: 192 Loss: 0.11, Loss_test: 0.11\n",
      "Epoch: 193 Loss: 0.10, Loss_test: 0.11\n",
      "Epoch: 194 Loss: 0.05, Loss_test: 0.12\n",
      "Epoch: 195 Loss: 0.14, Loss_test: 0.12\n",
      "Epoch: 196 Loss: 0.05, Loss_test: 0.11\n",
      "Epoch: 197 Loss: 0.09, Loss_test: 0.12\n",
      "Epoch: 198 Loss: 0.06, Loss_test: 0.12\n",
      "Epoch: 199 Loss: 0.07, Loss_test: 0.12\n",
      "=> result saved!\n",
      "Epoch: 200 Loss: 0.06, Loss_test: 0.12\n",
      "Epoch: 201 Loss: 0.06, Loss_test: 0.12\n",
      "Epoch: 202 Loss: 0.07, Loss_test: 0.12\n",
      "Epoch: 203 Loss: 0.09, Loss_test: 0.12\n",
      "Epoch: 204 Loss: 0.06, Loss_test: 0.11\n",
      "Epoch: 205 Loss: 0.09, Loss_test: 0.11\n",
      "Epoch: 206 Loss: 0.09, Loss_test: 0.12\n",
      "Epoch: 207 Loss: 0.08, Loss_test: 0.11\n",
      "Epoch: 208 Loss: 0.10, Loss_test: 0.11\n",
      "Epoch: 209 Loss: 0.10, Loss_test: 0.11\n",
      "=> result saved!\n",
      "Epoch: 210 Loss: 0.18, Loss_test: 0.11\n",
      "Epoch: 211 Loss: 0.16, Loss_test: 0.11\n",
      "Epoch: 212 Loss: 0.06, Loss_test: 0.11\n",
      "Epoch: 213 Loss: 0.10, Loss_test: 0.11\n",
      "Epoch: 214 Loss: 0.07, Loss_test: 0.10\n",
      "Epoch: 215 Loss: 0.08, Loss_test: 0.10\n",
      "Epoch: 216 Loss: 0.07, Loss_test: 0.10\n",
      "Epoch: 217 Loss: 0.09, Loss_test: 0.11\n",
      "Epoch: 218 Loss: 0.09, Loss_test: 0.10\n",
      "Epoch: 219 Loss: 0.08, Loss_test: 0.11\n",
      "=> result saved!\n",
      "Epoch: 220 Loss: 0.08, Loss_test: 0.10\n",
      "Epoch: 221 Loss: 0.11, Loss_test: 0.10\n",
      "Epoch: 222 Loss: 0.09, Loss_test: 0.10\n",
      "Epoch: 223 Loss: 0.11, Loss_test: 0.10\n",
      "Epoch: 224 Loss: 0.06, Loss_test: 0.10\n",
      "Epoch: 225 Loss: 0.12, Loss_test: 0.10\n",
      "Epoch: 226 Loss: 0.10, Loss_test: 0.10\n",
      "Epoch: 227 Loss: 0.06, Loss_test: 0.10\n",
      "Epoch: 228 Loss: 0.08, Loss_test: 0.11\n",
      "Epoch: 229 Loss: 0.12, Loss_test: 0.11\n",
      "=> result saved!\n",
      "Epoch: 230 Loss: 0.08, Loss_test: 0.11\n",
      "Epoch: 231 Loss: 0.05, Loss_test: 0.11\n",
      "Epoch: 232 Loss: 0.18, Loss_test: 0.11\n",
      "Epoch: 233 Loss: 0.10, Loss_test: 0.11\n",
      "Epoch: 234 Loss: 0.06, Loss_test: 0.12\n",
      "Epoch: 235 Loss: 0.09, Loss_test: 0.12\n",
      "Epoch: 236 Loss: 0.06, Loss_test: 0.12\n",
      "Epoch: 237 Loss: 0.10, Loss_test: 0.12\n",
      "Epoch: 238 Loss: 0.07, Loss_test: 0.12\n",
      "Epoch: 239 Loss: 0.07, Loss_test: 0.12\n",
      "=> result saved!\n",
      "Epoch: 240 Loss: 0.10, Loss_test: 0.12\n",
      "Epoch: 241 Loss: 0.07, Loss_test: 0.13\n",
      "Epoch: 242 Loss: 0.09, Loss_test: 0.12\n",
      "Epoch: 243 Loss: 0.11, Loss_test: 0.12\n",
      "Epoch: 244 Loss: 0.09, Loss_test: 0.12\n",
      "Epoch: 245 Loss: 0.05, Loss_test: 0.11\n",
      "Epoch: 246 Loss: 0.11, Loss_test: 0.11\n",
      "Epoch: 247 Loss: 0.08, Loss_test: 0.10\n",
      "Epoch: 248 Loss: 0.08, Loss_test: 0.10\n",
      "Epoch: 249 Loss: 0.10, Loss_test: 0.09\n",
      "=> result saved!\n",
      "Epoch: 250 Loss: 0.10, Loss_test: 0.09\n",
      "Epoch: 251 Loss: 0.09, Loss_test: 0.09\n",
      "Epoch: 359 Loss: 0.07, Loss_test: 0.08\n",
      "=> result saved!\n",
      "Epoch: 360 Loss: 0.10, Loss_test: 0.08\n",
      "Epoch: 361 Loss: 0.03, Loss_test: 0.08\n",
      "Epoch: 362 Loss: 0.06, Loss_test: 0.08\n",
      "Epoch: 363 Loss: 0.05, Loss_test: 0.08\n",
      "Epoch: 364 Loss: 0.07, Loss_test: 0.07\n",
      "Epoch: 365 Loss: 0.06, Loss_test: 0.08\n",
      "Epoch: 366 Loss: 0.05, Loss_test: 0.08\n",
      "Epoch: 367 Loss: 0.04, Loss_test: 0.08\n",
      "Epoch: 368 Loss: 0.06, Loss_test: 0.08\n",
      "Epoch: 369 Loss: 0.05, Loss_test: 0.07\n",
      "=> result saved!\n",
      "Epoch: 370 Loss: 0.06, Loss_test: 0.07\n",
      "Epoch: 371 Loss: 0.04, Loss_test: 0.07\n",
      "Epoch: 372 Loss: 0.04, Loss_test: 0.07\n",
      "Epoch: 373 Loss: 0.07, Loss_test: 0.07\n",
      "Epoch: 374 Loss: 0.07, Loss_test: 0.07\n",
      "Epoch: 375 Loss: 0.09, Loss_test: 0.07\n",
      "Epoch: 376 Loss: 0.05, Loss_test: 0.07\n",
      "Epoch: 377 Loss: 0.07, Loss_test: 0.08\n",
      "Epoch: 378 Loss: 0.07, Loss_test: 0.08\n",
      "Epoch: 379 Loss: 0.06, Loss_test: 0.07\n",
      "=> result saved!\n",
      "Epoch: 380 Loss: 0.06, Loss_test: 0.07\n",
      "Epoch: 381 Loss: 0.03, Loss_test: 0.07\n",
      "Epoch: 382 Loss: 0.07, Loss_test: 0.07\n",
      "Epoch: 383 Loss: 0.07, Loss_test: 0.07\n",
      "Epoch: 384 Loss: 0.06, Loss_test: 0.08\n",
      "Epoch: 385 Loss: 0.07, Loss_test: 0.07\n",
      "Epoch: 386 Loss: 0.04, Loss_test: 0.07\n",
      "Epoch: 387 Loss: 0.06, Loss_test: 0.07\n",
      "Epoch: 388 Loss: 0.06, Loss_test: 0.07\n",
      "Epoch: 389 Loss: 0.10, Loss_test: 0.07\n",
      "=> result saved!\n",
      "Epoch: 390 Loss: 0.06, Loss_test: 0.07\n",
      "Epoch: 391 Loss: 0.06, Loss_test: 0.07\n",
      "Epoch: 392 Loss: 0.07, Loss_test: 0.06\n",
      "Epoch: 393 Loss: 0.06, Loss_test: 0.06\n",
      "Epoch: 394 Loss: 0.07, Loss_test: 0.06\n",
      "Epoch: 395 Loss: 0.03, Loss_test: 0.07\n",
      "Epoch: 396 Loss: 0.07, Loss_test: 0.07\n",
      "Epoch: 397 Loss: 0.07, Loss_test: 0.07\n",
      "Epoch: 398 Loss: 0.05, Loss_test: 0.07\n",
      "Epoch: 399 Loss: 0.07, Loss_test: 0.07\n",
      "=> result saved!\n",
      "Epoch: 400 Loss: 0.05, Loss_test: 0.07\n",
      "Epoch: 401 Loss: 0.06, Loss_test: 0.07\n",
      "Epoch: 402 Loss: 0.05, Loss_test: 0.07\n",
      "Epoch: 403 Loss: 0.04, Loss_test: 0.06\n",
      "Epoch: 404 Loss: 0.06, Loss_test: 0.07\n",
      "Epoch: 405 Loss: 0.05, Loss_test: 0.07\n",
      "Epoch: 406 Loss: 0.07, Loss_test: 0.07\n",
      "Epoch: 407 Loss: 0.07, Loss_test: 0.06\n",
      "Epoch: 408 Loss: 0.06, Loss_test: 0.06\n",
      "Epoch: 409 Loss: 0.08, Loss_test: 0.06\n"
     ]
    },
    {
     "name": "stdout",
     "output_type": "stream",
     "text": [
      "=> result saved!\n",
      "Epoch: 410 Loss: 0.05, Loss_test: 0.06\n",
      "Epoch: 411 Loss: 0.06, Loss_test: 0.07\n",
      "Epoch: 412 Loss: 0.05, Loss_test: 0.07\n",
      "Epoch: 413 Loss: 0.06, Loss_test: 0.07\n",
      "Epoch: 414 Loss: 0.04, Loss_test: 0.07\n",
      "Epoch: 415 Loss: 0.04, Loss_test: 0.07\n",
      "Epoch: 416 Loss: 0.08, Loss_test: 0.07\n",
      "Epoch: 417 Loss: 0.04, Loss_test: 0.07\n",
      "Epoch: 418 Loss: 0.07, Loss_test: 0.07\n",
      "Epoch: 419 Loss: 0.03, Loss_test: 0.06\n",
      "=> result saved!\n",
      "Epoch: 420 Loss: 0.04, Loss_test: 0.06\n",
      "Epoch: 421 Loss: 0.08, Loss_test: 0.07\n",
      "Epoch: 422 Loss: 0.05, Loss_test: 0.07\n",
      "Epoch: 423 Loss: 0.07, Loss_test: 0.07\n",
      "Epoch: 424 Loss: 0.06, Loss_test: 0.07\n",
      "Epoch: 425 Loss: 0.09, Loss_test: 0.06\n",
      "Epoch: 426 Loss: 0.07, Loss_test: 0.06\n",
      "Epoch: 427 Loss: 0.04, Loss_test: 0.06\n",
      "Epoch: 428 Loss: 0.07, Loss_test: 0.06\n",
      "Epoch: 429 Loss: 0.07, Loss_test: 0.06\n",
      "=> result saved!\n",
      "Epoch: 430 Loss: 0.02, Loss_test: 0.06\n",
      "Epoch: 431 Loss: 0.03, Loss_test: 0.06\n",
      "Epoch: 432 Loss: 0.05, Loss_test: 0.06\n",
      "Epoch: 433 Loss: 0.06, Loss_test: 0.06\n",
      "Epoch: 434 Loss: 0.08, Loss_test: 0.06\n",
      "Epoch: 435 Loss: 0.05, Loss_test: 0.05\n",
      "Epoch: 436 Loss: 0.04, Loss_test: 0.05\n",
      "Epoch: 437 Loss: 0.06, Loss_test: 0.05\n",
      "Epoch: 438 Loss: 0.06, Loss_test: 0.05\n",
      "Epoch: 439 Loss: 0.08, Loss_test: 0.05\n",
      "=> result saved!\n",
      "Epoch: 440 Loss: 0.05, Loss_test: 0.06\n",
      "Epoch: 441 Loss: 0.05, Loss_test: 0.06\n",
      "Epoch: 442 Loss: 0.05, Loss_test: 0.05\n",
      "Epoch: 443 Loss: 0.06, Loss_test: 0.06\n",
      "Epoch: 444 Loss: 0.04, Loss_test: 0.06\n",
      "Epoch: 445 Loss: 0.03, Loss_test: 0.06\n",
      "Epoch: 446 Loss: 0.06, Loss_test: 0.06\n",
      "Epoch: 447 Loss: 0.04, Loss_test: 0.06\n",
      "Epoch: 448 Loss: 0.07, Loss_test: 0.06\n",
      "Epoch: 449 Loss: 0.02, Loss_test: 0.05\n",
      "=> result saved!\n",
      "Epoch: 450 Loss: 0.07, Loss_test: 0.06\n",
      "Epoch: 451 Loss: 0.09, Loss_test: 0.05\n",
      "Epoch: 452 Loss: 0.03, Loss_test: 0.06\n",
      "Epoch: 453 Loss: 0.06, Loss_test: 0.06\n",
      "Epoch: 454 Loss: 0.04, Loss_test: 0.06\n",
      "Epoch: 455 Loss: 0.04, Loss_test: 0.06\n",
      "Epoch: 456 Loss: 0.07, Loss_test: 0.05\n",
      "Epoch: 457 Loss: 0.08, Loss_test: 0.06\n",
      "Epoch: 458 Loss: 0.05, Loss_test: 0.06\n",
      "Epoch: 459 Loss: 0.04, Loss_test: 0.06\n",
      "=> result saved!\n",
      "Epoch: 460 Loss: 0.07, Loss_test: 0.05\n",
      "Epoch: 461 Loss: 0.06, Loss_test: 0.05\n",
      "Epoch: 462 Loss: 0.06, Loss_test: 0.05\n",
      "Epoch: 463 Loss: 0.04, Loss_test: 0.05\n",
      "Epoch: 464 Loss: 0.03, Loss_test: 0.05\n",
      "Epoch: 465 Loss: 0.04, Loss_test: 0.05\n",
      "Epoch: 466 Loss: 0.05, Loss_test: 0.05\n",
      "Epoch: 467 Loss: 0.08, Loss_test: 0.05\n",
      "Epoch: 468 Loss: 0.05, Loss_test: 0.05\n",
      "Epoch: 469 Loss: 0.03, Loss_test: 0.06\n",
      "=> result saved!\n",
      "Epoch: 470 Loss: 0.04, Loss_test: 0.06\n",
      "Epoch: 471 Loss: 0.04, Loss_test: 0.06\n",
      "Epoch: 472 Loss: 0.03, Loss_test: 0.06\n",
      "Epoch: 473 Loss: 0.04, Loss_test: 0.06\n",
      "Epoch: 474 Loss: 0.05, Loss_test: 0.05\n",
      "Epoch: 475 Loss: 0.09, Loss_test: 0.05\n",
      "Epoch: 476 Loss: 0.08, Loss_test: 0.06\n",
      "Epoch: 477 Loss: 0.05, Loss_test: 0.06\n",
      "Epoch: 478 Loss: 0.04, Loss_test: 0.06\n",
      "Epoch: 479 Loss: 0.05, Loss_test: 0.05\n",
      "=> result saved!\n",
      "Epoch: 480 Loss: 0.05, Loss_test: 0.06\n",
      "Epoch: 481 Loss: 0.04, Loss_test: 0.06\n",
      "Epoch: 482 Loss: 0.03, Loss_test: 0.06\n",
      "Epoch: 483 Loss: 0.05, Loss_test: 0.06\n",
      "Epoch: 484 Loss: 0.04, Loss_test: 0.06\n",
      "Epoch: 485 Loss: 0.03, Loss_test: 0.05\n",
      "Epoch: 486 Loss: 0.03, Loss_test: 0.06\n",
      "Epoch: 487 Loss: 0.05, Loss_test: 0.05\n",
      "Epoch: 488 Loss: 0.03, Loss_test: 0.05\n",
      "Epoch: 489 Loss: 0.06, Loss_test: 0.05\n",
      "=> result saved!\n",
      "Epoch: 490 Loss: 0.04, Loss_test: 0.05\n",
      "Epoch: 491 Loss: 0.04, Loss_test: 0.05\n",
      "Epoch: 492 Loss: 0.03, Loss_test: 0.05\n",
      "Epoch: 493 Loss: 0.03, Loss_test: 0.05\n",
      "Epoch: 494 Loss: 0.04, Loss_test: 0.05\n",
      "Epoch: 495 Loss: 0.05, Loss_test: 0.05\n",
      "Epoch: 496 Loss: 0.08, Loss_test: 0.05\n",
      "Epoch: 497 Loss: 0.04, Loss_test: 0.05\n",
      "Epoch: 498 Loss: 0.04, Loss_test: 0.05\n",
      "Epoch: 499 Loss: 0.05, Loss_test: 0.06\n",
      "=> result saved!\n",
      "Epoch: 500 Loss: 0.03, Loss_test: 0.06\n",
      "Epoch: 501 Loss: 0.04, Loss_test: 0.06\n",
      "Epoch: 502 Loss: 0.06, Loss_test: 0.06\n",
      "Epoch: 503 Loss: 0.07, Loss_test: 0.06\n",
      "Epoch: 504 Loss: 0.03, Loss_test: 0.06\n",
      "Epoch: 505 Loss: 0.06, Loss_test: 0.06\n",
      "Epoch: 506 Loss: 0.03, Loss_test: 0.06\n",
      "Epoch: 507 Loss: 0.07, Loss_test: 0.06\n",
      "Epoch: 508 Loss: 0.04, Loss_test: 0.06\n",
      "Epoch: 509 Loss: 0.04, Loss_test: 0.06\n",
      "=> result saved!\n",
      "Epoch: 510 Loss: 0.04, Loss_test: 0.06\n",
      "Epoch: 511 Loss: 0.07, Loss_test: 0.06\n",
      "Epoch: 512 Loss: 0.05, Loss_test: 0.06\n",
      "Epoch: 513 Loss: 0.04, Loss_test: 0.06\n",
      "Epoch: 514 Loss: 0.04, Loss_test: 0.06\n",
      "Epoch: 515 Loss: 0.04, Loss_test: 0.06\n",
      "Epoch: 516 Loss: 0.03, Loss_test: 0.06\n",
      "Epoch: 517 Loss: 0.06, Loss_test: 0.06\n",
      "Epoch: 518 Loss: 0.05, Loss_test: 0.06\n",
      "Epoch: 519 Loss: 0.05, Loss_test: 0.06\n",
      "=> result saved!\n",
      "Epoch: 520 Loss: 0.06, Loss_test: 0.06\n",
      "Epoch: 521 Loss: 0.07, Loss_test: 0.06\n",
      "Epoch: 522 Loss: 0.04, Loss_test: 0.06\n",
      "Epoch: 523 Loss: 0.04, Loss_test: 0.06\n",
      "Epoch: 524 Loss: 0.05, Loss_test: 0.05\n",
      "Epoch: 525 Loss: 0.04, Loss_test: 0.06\n",
      "Epoch: 526 Loss: 0.06, Loss_test: 0.06\n",
      "Epoch: 527 Loss: 0.09, Loss_test: 0.06\n",
      "Epoch: 528 Loss: 0.03, Loss_test: 0.06\n",
      "Epoch: 529 Loss: 0.05, Loss_test: 0.06\n",
      "=> result saved!\n",
      "Epoch: 530 Loss: 0.05, Loss_test: 0.06\n",
      "Epoch: 531 Loss: 0.03, Loss_test: 0.06\n",
      "Epoch: 532 Loss: 0.06, Loss_test: 0.06\n",
      "Epoch: 533 Loss: 0.05, Loss_test: 0.06\n",
      "Epoch: 534 Loss: 0.05, Loss_test: 0.06\n",
      "Epoch: 535 Loss: 0.05, Loss_test: 0.05\n",
      "Epoch: 536 Loss: 0.03, Loss_test: 0.05\n",
      "Epoch: 537 Loss: 0.07, Loss_test: 0.05\n",
      "Epoch: 538 Loss: 0.03, Loss_test: 0.05\n",
      "Epoch: 539 Loss: 0.04, Loss_test: 0.05\n",
      "=> result saved!\n",
      "Epoch: 540 Loss: 0.03, Loss_test: 0.05\n",
      "Epoch: 541 Loss: 0.05, Loss_test: 0.05\n",
      "Epoch: 542 Loss: 0.04, Loss_test: 0.05\n",
      "Epoch: 543 Loss: 0.04, Loss_test: 0.05\n",
      "Epoch: 544 Loss: 0.04, Loss_test: 0.05\n",
      "Epoch: 545 Loss: 0.03, Loss_test: 0.05\n",
      "Epoch: 546 Loss: 0.05, Loss_test: 0.05\n",
      "Epoch: 547 Loss: 0.04, Loss_test: 0.05\n",
      "Epoch: 548 Loss: 0.03, Loss_test: 0.05\n",
      "Epoch: 549 Loss: 0.04, Loss_test: 0.05\n",
      "=> result saved!\n",
      "Epoch: 550 Loss: 0.03, Loss_test: 0.05\n",
      "Epoch: 551 Loss: 0.07, Loss_test: 0.05\n",
      "Epoch: 552 Loss: 0.04, Loss_test: 0.05\n",
      "Epoch: 553 Loss: 0.05, Loss_test: 0.05\n",
      "Epoch: 554 Loss: 0.03, Loss_test: 0.05\n",
      "Epoch: 555 Loss: 0.04, Loss_test: 0.05\n",
      "Epoch: 556 Loss: 0.04, Loss_test: 0.05\n",
      "Epoch: 557 Loss: 0.02, Loss_test: 0.04\n",
      "Epoch: 558 Loss: 0.03, Loss_test: 0.04\n",
      "Epoch: 559 Loss: 0.06, Loss_test: 0.05\n",
      "=> result saved!\n",
      "Epoch: 560 Loss: 0.03, Loss_test: 0.04\n",
      "Epoch: 561 Loss: 0.06, Loss_test: 0.05\n",
      "Epoch: 562 Loss: 0.02, Loss_test: 0.05\n",
      "Epoch: 563 Loss: 0.03, Loss_test: 0.05\n",
      "Epoch: 564 Loss: 0.07, Loss_test: 0.05\n",
      "Epoch: 565 Loss: 0.06, Loss_test: 0.05\n",
      "Epoch: 566 Loss: 0.05, Loss_test: 0.05\n",
      "Epoch: 567 Loss: 0.05, Loss_test: 0.05\n",
      "Epoch: 568 Loss: 0.02, Loss_test: 0.05\n",
      "Epoch: 569 Loss: 0.06, Loss_test: 0.05\n",
      "=> result saved!\n",
      "Epoch: 570 Loss: 0.05, Loss_test: 0.05\n",
      "Epoch: 571 Loss: 0.04, Loss_test: 0.04\n",
      "Epoch: 572 Loss: 0.05, Loss_test: 0.04\n",
      "Epoch: 573 Loss: 0.03, Loss_test: 0.05\n",
      "Epoch: 574 Loss: 0.04, Loss_test: 0.05\n",
      "Epoch: 575 Loss: 0.07, Loss_test: 0.05\n",
      "Epoch: 576 Loss: 0.03, Loss_test: 0.04\n",
      "Epoch: 577 Loss: 0.03, Loss_test: 0.04\n",
      "Epoch: 578 Loss: 0.04, Loss_test: 0.04\n",
      "Epoch: 579 Loss: 0.04, Loss_test: 0.04\n",
      "=> result saved!\n",
      "Epoch: 580 Loss: 0.03, Loss_test: 0.05\n",
      "Epoch: 581 Loss: 0.04, Loss_test: 0.05\n",
      "Epoch: 582 Loss: 0.06, Loss_test: 0.05\n",
      "Epoch: 583 Loss: 0.04, Loss_test: 0.05\n",
      "Epoch: 584 Loss: 0.06, Loss_test: 0.05\n",
      "Epoch: 585 Loss: 0.06, Loss_test: 0.05\n",
      "Epoch: 586 Loss: 0.04, Loss_test: 0.05\n",
      "Epoch: 587 Loss: 0.06, Loss_test: 0.05\n",
      "Epoch: 588 Loss: 0.05, Loss_test: 0.04\n",
      "Epoch: 589 Loss: 0.05, Loss_test: 0.04\n",
      "=> result saved!\n",
      "Epoch: 590 Loss: 0.05, Loss_test: 0.04\n",
      "Epoch: 591 Loss: 0.05, Loss_test: 0.05\n",
      "Epoch: 592 Loss: 0.04, Loss_test: 0.04\n",
      "Epoch: 593 Loss: 0.02, Loss_test: 0.05\n",
      "Epoch: 594 Loss: 0.04, Loss_test: 0.04\n",
      "Epoch: 595 Loss: 0.05, Loss_test: 0.04\n",
      "Epoch: 596 Loss: 0.03, Loss_test: 0.04\n",
      "Epoch: 597 Loss: 0.03, Loss_test: 0.04\n",
      "Epoch: 598 Loss: 0.07, Loss_test: 0.04\n",
      "Epoch: 599 Loss: 0.04, Loss_test: 0.04\n",
      "=> result saved!\n",
      "Epoch: 600 Loss: 0.06, Loss_test: 0.04\n",
      "Epoch: 601 Loss: 0.05, Loss_test: 0.04\n",
      "Epoch: 602 Loss: 0.06, Loss_test: 0.04\n",
      "Epoch: 603 Loss: 0.06, Loss_test: 0.04\n",
      "Epoch: 604 Loss: 0.04, Loss_test: 0.04\n",
      "Epoch: 605 Loss: 0.03, Loss_test: 0.04\n",
      "Epoch: 606 Loss: 0.04, Loss_test: 0.04\n",
      "Epoch: 607 Loss: 0.11, Loss_test: 0.05\n",
      "Epoch: 608 Loss: 0.03, Loss_test: 0.04\n",
      "Epoch: 609 Loss: 0.03, Loss_test: 0.04\n",
      "=> result saved!\n",
      "Epoch: 610 Loss: 0.03, Loss_test: 0.04\n"
     ]
    },
    {
     "name": "stdout",
     "output_type": "stream",
     "text": [
      "Epoch: 611 Loss: 0.06, Loss_test: 0.04\n",
      "Epoch: 612 Loss: 0.03, Loss_test: 0.04\n",
      "Epoch: 613 Loss: 0.05, Loss_test: 0.04\n",
      "Epoch: 614 Loss: 0.03, Loss_test: 0.04\n",
      "Epoch: 615 Loss: 0.04, Loss_test: 0.04\n",
      "Epoch: 616 Loss: 0.03, Loss_test: 0.04\n",
      "Epoch: 617 Loss: 0.04, Loss_test: 0.04\n",
      "Epoch: 618 Loss: 0.05, Loss_test: 0.04\n",
      "Epoch: 619 Loss: 0.05, Loss_test: 0.05\n",
      "=> result saved!\n",
      "Epoch: 620 Loss: 0.04, Loss_test: 0.05\n",
      "Epoch: 621 Loss: 0.03, Loss_test: 0.04\n",
      "Epoch: 622 Loss: 0.07, Loss_test: 0.05\n",
      "Epoch: 623 Loss: 0.06, Loss_test: 0.04\n",
      "Epoch: 624 Loss: 0.03, Loss_test: 0.04\n",
      "Epoch: 625 Loss: 0.02, Loss_test: 0.04\n",
      "Epoch: 626 Loss: 0.04, Loss_test: 0.04\n",
      "Epoch: 627 Loss: 0.04, Loss_test: 0.04\n",
      "Epoch: 628 Loss: 0.06, Loss_test: 0.04\n",
      "Epoch: 629 Loss: 0.05, Loss_test: 0.04\n",
      "=> result saved!\n",
      "Epoch: 630 Loss: 0.04, Loss_test: 0.04\n",
      "Epoch: 631 Loss: 0.03, Loss_test: 0.04\n",
      "Epoch: 632 Loss: 0.03, Loss_test: 0.05\n",
      "Epoch: 633 Loss: 0.03, Loss_test: 0.05\n",
      "Epoch: 634 Loss: 0.05, Loss_test: 0.05\n",
      "Epoch: 635 Loss: 0.05, Loss_test: 0.05\n",
      "Epoch: 636 Loss: 0.03, Loss_test: 0.05\n",
      "Epoch: 637 Loss: 0.04, Loss_test: 0.04\n",
      "Epoch: 638 Loss: 0.05, Loss_test: 0.05\n",
      "Epoch: 639 Loss: 0.03, Loss_test: 0.04\n",
      "=> result saved!\n",
      "Epoch: 640 Loss: 0.07, Loss_test: 0.04\n",
      "Epoch: 641 Loss: 0.02, Loss_test: 0.04\n",
      "Epoch: 642 Loss: 0.05, Loss_test: 0.04\n",
      "Epoch: 643 Loss: 0.05, Loss_test: 0.05\n",
      "Epoch: 644 Loss: 0.05, Loss_test: 0.04\n",
      "Epoch: 645 Loss: 0.05, Loss_test: 0.04\n",
      "Epoch: 646 Loss: 0.04, Loss_test: 0.04\n",
      "Epoch: 647 Loss: 0.04, Loss_test: 0.04\n",
      "Epoch: 648 Loss: 0.04, Loss_test: 0.04\n",
      "Epoch: 649 Loss: 0.05, Loss_test: 0.04\n",
      "=> result saved!\n",
      "Epoch: 650 Loss: 0.07, Loss_test: 0.05\n",
      "Epoch: 651 Loss: 0.06, Loss_test: 0.05\n",
      "Epoch: 652 Loss: 0.07, Loss_test: 0.05\n",
      "Epoch: 653 Loss: 0.04, Loss_test: 0.04\n",
      "Epoch: 654 Loss: 0.05, Loss_test: 0.04\n",
      "Epoch: 655 Loss: 0.04, Loss_test: 0.04\n",
      "Epoch: 656 Loss: 0.03, Loss_test: 0.04\n",
      "Epoch: 657 Loss: 0.03, Loss_test: 0.04\n",
      "Epoch: 658 Loss: 0.04, Loss_test: 0.04\n",
      "Epoch: 659 Loss: 0.06, Loss_test: 0.04\n",
      "=> result saved!\n",
      "Epoch: 660 Loss: 0.04, Loss_test: 0.04\n",
      "Epoch: 661 Loss: 0.05, Loss_test: 0.04\n",
      "Epoch: 662 Loss: 0.03, Loss_test: 0.04\n",
      "Epoch: 663 Loss: 0.06, Loss_test: 0.04\n",
      "Epoch: 664 Loss: 0.05, Loss_test: 0.04\n",
      "Epoch: 665 Loss: 0.04, Loss_test: 0.04\n",
      "Epoch: 666 Loss: 0.05, Loss_test: 0.04\n",
      "Epoch: 667 Loss: 0.03, Loss_test: 0.04\n",
      "Epoch: 668 Loss: 0.08, Loss_test: 0.04\n",
      "Epoch: 669 Loss: 0.04, Loss_test: 0.04\n",
      "=> result saved!\n",
      "Epoch: 670 Loss: 0.05, Loss_test: 0.05\n",
      "Epoch: 671 Loss: 0.04, Loss_test: 0.05\n",
      "Epoch: 672 Loss: 0.05, Loss_test: 0.05\n",
      "Epoch: 673 Loss: 0.02, Loss_test: 0.05\n",
      "Epoch: 674 Loss: 0.04, Loss_test: 0.05\n",
      "Epoch: 675 Loss: 0.03, Loss_test: 0.05\n",
      "Epoch: 676 Loss: 0.04, Loss_test: 0.04\n",
      "Epoch: 677 Loss: 0.03, Loss_test: 0.04\n",
      "Epoch: 678 Loss: 0.04, Loss_test: 0.04\n",
      "Epoch: 679 Loss: 0.05, Loss_test: 0.04\n",
      "=> result saved!\n",
      "Epoch: 680 Loss: 0.05, Loss_test: 0.04\n",
      "Epoch: 681 Loss: 0.03, Loss_test: 0.04\n",
      "Epoch: 682 Loss: 0.03, Loss_test: 0.04\n",
      "Epoch: 683 Loss: 0.04, Loss_test: 0.04\n",
      "Epoch: 684 Loss: 0.03, Loss_test: 0.04\n",
      "Epoch: 685 Loss: 0.03, Loss_test: 0.04\n",
      "Epoch: 686 Loss: 0.03, Loss_test: 0.05\n",
      "Epoch: 687 Loss: 0.02, Loss_test: 0.04\n",
      "Epoch: 688 Loss: 0.04, Loss_test: 0.04\n",
      "Epoch: 689 Loss: 0.01, Loss_test: 0.04\n",
      "=> result saved!\n",
      "Epoch: 690 Loss: 0.03, Loss_test: 0.04\n",
      "Epoch: 691 Loss: 0.03, Loss_test: 0.04\n",
      "Epoch: 692 Loss: 0.07, Loss_test: 0.05\n",
      "Epoch: 693 Loss: 0.06, Loss_test: 0.05\n",
      "Epoch: 694 Loss: 0.03, Loss_test: 0.05\n",
      "Epoch: 695 Loss: 0.05, Loss_test: 0.05\n",
      "Epoch: 696 Loss: 0.06, Loss_test: 0.05\n",
      "Epoch: 697 Loss: 0.06, Loss_test: 0.04\n",
      "Epoch: 698 Loss: 0.04, Loss_test: 0.04\n",
      "Epoch: 699 Loss: 0.04, Loss_test: 0.04\n",
      "=> result saved!\n",
      "Epoch: 700 Loss: 0.03, Loss_test: 0.04\n",
      "Epoch: 701 Loss: 0.05, Loss_test: 0.04\n",
      "Epoch: 702 Loss: 0.03, Loss_test: 0.04\n",
      "Epoch: 703 Loss: 0.05, Loss_test: 0.04\n",
      "Epoch: 704 Loss: 0.05, Loss_test: 0.04\n",
      "Epoch: 705 Loss: 0.03, Loss_test: 0.04\n",
      "Epoch: 706 Loss: 0.06, Loss_test: 0.04\n",
      "Epoch: 707 Loss: 0.06, Loss_test: 0.04\n",
      "Epoch: 708 Loss: 0.03, Loss_test: 0.04\n",
      "Epoch: 709 Loss: 0.02, Loss_test: 0.04\n",
      "=> result saved!\n",
      "Epoch: 710 Loss: 0.02, Loss_test: 0.04\n",
      "Epoch: 711 Loss: 0.05, Loss_test: 0.04\n",
      "Epoch: 712 Loss: 0.06, Loss_test: 0.04\n",
      "Epoch: 713 Loss: 0.03, Loss_test: 0.04\n",
      "Epoch: 714 Loss: 0.02, Loss_test: 0.04\n",
      "Epoch: 715 Loss: 0.02, Loss_test: 0.05\n",
      "Epoch: 716 Loss: 0.05, Loss_test: 0.05\n",
      "Epoch: 717 Loss: 0.02, Loss_test: 0.05\n",
      "Epoch: 718 Loss: 0.04, Loss_test: 0.04\n",
      "Epoch: 719 Loss: 0.03, Loss_test: 0.05\n",
      "=> result saved!\n",
      "Epoch: 720 Loss: 0.04, Loss_test: 0.05\n",
      "Epoch: 721 Loss: 0.03, Loss_test: 0.05\n",
      "Epoch: 722 Loss: 0.02, Loss_test: 0.05\n",
      "Epoch: 723 Loss: 0.05, Loss_test: 0.04\n",
      "Epoch: 724 Loss: 0.04, Loss_test: 0.04\n",
      "Epoch: 725 Loss: 0.03, Loss_test: 0.04\n",
      "Epoch: 726 Loss: 0.02, Loss_test: 0.04\n",
      "Epoch: 727 Loss: 0.03, Loss_test: 0.05\n",
      "Epoch: 728 Loss: 0.03, Loss_test: 0.04\n",
      "Epoch: 729 Loss: 0.05, Loss_test: 0.04\n",
      "=> result saved!\n",
      "Epoch: 730 Loss: 0.04, Loss_test: 0.04\n",
      "Epoch: 731 Loss: 0.03, Loss_test: 0.04\n",
      "Epoch: 732 Loss: 0.04, Loss_test: 0.04\n",
      "Epoch: 733 Loss: 0.05, Loss_test: 0.04\n",
      "Epoch: 734 Loss: 0.03, Loss_test: 0.04\n",
      "Epoch: 735 Loss: 0.03, Loss_test: 0.04\n",
      "Epoch: 736 Loss: 0.03, Loss_test: 0.04\n",
      "Epoch: 737 Loss: 0.03, Loss_test: 0.04\n",
      "Epoch: 738 Loss: 0.04, Loss_test: 0.04\n",
      "Epoch: 739 Loss: 0.02, Loss_test: 0.04\n",
      "=> result saved!\n",
      "Epoch: 740 Loss: 0.03, Loss_test: 0.04\n",
      "Epoch: 741 Loss: 0.03, Loss_test: 0.05\n",
      "Epoch: 742 Loss: 0.03, Loss_test: 0.05\n",
      "Epoch: 743 Loss: 0.06, Loss_test: 0.04\n",
      "Epoch: 744 Loss: 0.05, Loss_test: 0.05\n",
      "Epoch: 745 Loss: 0.06, Loss_test: 0.05\n",
      "Epoch: 746 Loss: 0.03, Loss_test: 0.04\n",
      "Epoch: 747 Loss: 0.04, Loss_test: 0.04\n",
      "Epoch: 748 Loss: 0.03, Loss_test: 0.04\n",
      "Epoch: 749 Loss: 0.03, Loss_test: 0.04\n",
      "=> result saved!\n",
      "Epoch: 750 Loss: 0.02, Loss_test: 0.04\n",
      "Epoch: 751 Loss: 0.03, Loss_test: 0.04\n",
      "Epoch: 752 Loss: 0.04, Loss_test: 0.04\n",
      "Epoch: 753 Loss: 0.02, Loss_test: 0.04\n",
      "Epoch: 754 Loss: 0.05, Loss_test: 0.05\n",
      "Epoch: 755 Loss: 0.03, Loss_test: 0.05\n",
      "Epoch: 756 Loss: 0.02, Loss_test: 0.04\n",
      "Epoch: 757 Loss: 0.06, Loss_test: 0.04\n",
      "Epoch: 758 Loss: 0.03, Loss_test: 0.04\n",
      "Epoch: 759 Loss: 0.03, Loss_test: 0.05\n",
      "=> result saved!\n",
      "Epoch: 760 Loss: 0.03, Loss_test: 0.04\n",
      "Epoch: 761 Loss: 0.04, Loss_test: 0.05\n",
      "Epoch: 762 Loss: 0.04, Loss_test: 0.04\n",
      "Epoch: 763 Loss: 0.02, Loss_test: 0.04\n",
      "Epoch: 764 Loss: 0.04, Loss_test: 0.05\n",
      "Epoch: 765 Loss: 0.02, Loss_test: 0.05\n",
      "Epoch: 766 Loss: 0.04, Loss_test: 0.04\n",
      "Epoch: 767 Loss: 0.03, Loss_test: 0.04\n",
      "Epoch: 768 Loss: 0.06, Loss_test: 0.04\n",
      "Epoch: 769 Loss: 0.03, Loss_test: 0.04\n",
      "=> result saved!\n",
      "Epoch: 770 Loss: 0.03, Loss_test: 0.04\n",
      "Epoch: 771 Loss: 0.02, Loss_test: 0.04\n",
      "Epoch: 772 Loss: 0.06, Loss_test: 0.04\n",
      "Epoch: 773 Loss: 0.03, Loss_test: 0.04\n",
      "Epoch: 774 Loss: 0.04, Loss_test: 0.04\n",
      "Epoch: 775 Loss: 0.03, Loss_test: 0.03\n",
      "Epoch: 776 Loss: 0.02, Loss_test: 0.04\n",
      "Epoch: 777 Loss: 0.04, Loss_test: 0.03\n",
      "Epoch: 778 Loss: 0.05, Loss_test: 0.03\n",
      "Epoch: 779 Loss: 0.03, Loss_test: 0.03\n",
      "=> result saved!\n",
      "Epoch: 780 Loss: 0.04, Loss_test: 0.03\n",
      "Epoch: 781 Loss: 0.04, Loss_test: 0.03\n",
      "Epoch: 782 Loss: 0.04, Loss_test: 0.04\n",
      "Epoch: 783 Loss: 0.02, Loss_test: 0.03\n",
      "Epoch: 784 Loss: 0.02, Loss_test: 0.03\n",
      "Epoch: 785 Loss: 0.05, Loss_test: 0.03\n",
      "Epoch: 786 Loss: 0.04, Loss_test: 0.03\n",
      "Epoch: 787 Loss: 0.05, Loss_test: 0.03\n",
      "Epoch: 788 Loss: 0.06, Loss_test: 0.03\n",
      "Epoch: 789 Loss: 0.04, Loss_test: 0.03\n",
      "=> result saved!\n",
      "Epoch: 790 Loss: 0.03, Loss_test: 0.03\n",
      "Epoch: 791 Loss: 0.03, Loss_test: 0.03\n",
      "Epoch: 792 Loss: 0.03, Loss_test: 0.03\n",
      "Epoch: 793 Loss: 0.03, Loss_test: 0.03\n",
      "Epoch: 794 Loss: 0.03, Loss_test: 0.04\n",
      "Epoch: 795 Loss: 0.02, Loss_test: 0.04\n",
      "Epoch: 796 Loss: 0.04, Loss_test: 0.03\n",
      "Epoch: 797 Loss: 0.03, Loss_test: 0.03\n",
      "Epoch: 798 Loss: 0.05, Loss_test: 0.04\n",
      "Epoch: 799 Loss: 0.01, Loss_test: 0.04\n",
      "=> result saved!\n",
      "Epoch: 800 Loss: 0.04, Loss_test: 0.03\n",
      "Epoch: 801 Loss: 0.05, Loss_test: 0.04\n",
      "Epoch: 802 Loss: 0.03, Loss_test: 0.04\n",
      "Epoch: 803 Loss: 0.03, Loss_test: 0.04\n",
      "Epoch: 804 Loss: 0.03, Loss_test: 0.04\n",
      "Epoch: 805 Loss: 0.04, Loss_test: 0.04\n",
      "Epoch: 806 Loss: 0.04, Loss_test: 0.04\n",
      "Epoch: 807 Loss: 0.05, Loss_test: 0.04\n",
      "Epoch: 808 Loss: 0.04, Loss_test: 0.04\n",
      "Epoch: 809 Loss: 0.01, Loss_test: 0.04\n",
      "=> result saved!\n",
      "Epoch: 810 Loss: 0.03, Loss_test: 0.04\n",
      "Epoch: 811 Loss: 0.03, Loss_test: 0.04\n",
      "Epoch: 812 Loss: 0.03, Loss_test: 0.04\n"
     ]
    },
    {
     "name": "stdout",
     "output_type": "stream",
     "text": [
      "Epoch: 813 Loss: 0.02, Loss_test: 0.04\n",
      "Epoch: 814 Loss: 0.05, Loss_test: 0.04\n",
      "Epoch: 815 Loss: 0.05, Loss_test: 0.04\n",
      "Epoch: 816 Loss: 0.02, Loss_test: 0.03\n",
      "Epoch: 817 Loss: 0.02, Loss_test: 0.03\n",
      "Epoch: 818 Loss: 0.03, Loss_test: 0.03\n",
      "Epoch: 819 Loss: 0.04, Loss_test: 0.04\n",
      "=> result saved!\n",
      "Epoch: 820 Loss: 0.02, Loss_test: 0.04\n",
      "Epoch: 821 Loss: 0.04, Loss_test: 0.04\n",
      "Epoch: 822 Loss: 0.03, Loss_test: 0.04\n",
      "Epoch: 823 Loss: 0.04, Loss_test: 0.04\n",
      "Epoch: 824 Loss: 0.02, Loss_test: 0.04\n",
      "Epoch: 825 Loss: 0.07, Loss_test: 0.04\n",
      "Epoch: 826 Loss: 0.02, Loss_test: 0.04\n",
      "Epoch: 827 Loss: 0.05, Loss_test: 0.04\n",
      "Epoch: 828 Loss: 0.04, Loss_test: 0.04\n",
      "Epoch: 829 Loss: 0.03, Loss_test: 0.04\n",
      "=> result saved!\n",
      "Epoch: 830 Loss: 0.06, Loss_test: 0.04\n",
      "Epoch: 831 Loss: 0.05, Loss_test: 0.04\n",
      "Epoch: 832 Loss: 0.05, Loss_test: 0.04\n",
      "Epoch: 833 Loss: 0.03, Loss_test: 0.04\n",
      "Epoch: 834 Loss: 0.03, Loss_test: 0.04\n",
      "Epoch: 835 Loss: 0.02, Loss_test: 0.04\n",
      "Epoch: 836 Loss: 0.03, Loss_test: 0.04\n",
      "Epoch: 837 Loss: 0.03, Loss_test: 0.04\n",
      "Epoch: 838 Loss: 0.06, Loss_test: 0.04\n",
      "Epoch: 839 Loss: 0.04, Loss_test: 0.03\n",
      "=> result saved!\n",
      "Epoch: 840 Loss: 0.06, Loss_test: 0.03\n",
      "Epoch: 841 Loss: 0.02, Loss_test: 0.03\n",
      "Epoch: 842 Loss: 0.01, Loss_test: 0.03\n",
      "Epoch: 843 Loss: 0.03, Loss_test: 0.03\n",
      "Epoch: 844 Loss: 0.02, Loss_test: 0.03\n",
      "Epoch: 845 Loss: 0.03, Loss_test: 0.03\n",
      "Epoch: 846 Loss: 0.03, Loss_test: 0.03\n",
      "Epoch: 847 Loss: 0.03, Loss_test: 0.04\n",
      "Epoch: 848 Loss: 0.03, Loss_test: 0.03\n",
      "Epoch: 849 Loss: 0.06, Loss_test: 0.04\n",
      "=> result saved!\n",
      "Epoch: 850 Loss: 0.03, Loss_test: 0.03\n",
      "Epoch: 851 Loss: 0.07, Loss_test: 0.04\n",
      "Epoch: 852 Loss: 0.03, Loss_test: 0.04\n",
      "Epoch: 853 Loss: 0.03, Loss_test: 0.03\n",
      "Epoch: 854 Loss: 0.05, Loss_test: 0.03\n",
      "Epoch: 855 Loss: 0.03, Loss_test: 0.03\n",
      "Epoch: 856 Loss: 0.03, Loss_test: 0.03\n",
      "Epoch: 857 Loss: 0.03, Loss_test: 0.03\n",
      "Epoch: 858 Loss: 0.03, Loss_test: 0.03\n",
      "Epoch: 859 Loss: 0.02, Loss_test: 0.03\n",
      "=> result saved!\n",
      "Epoch: 860 Loss: 0.07, Loss_test: 0.03\n",
      "Epoch: 861 Loss: 0.03, Loss_test: 0.03\n",
      "Epoch: 862 Loss: 0.02, Loss_test: 0.03\n",
      "Epoch: 863 Loss: 0.03, Loss_test: 0.04\n",
      "Epoch: 864 Loss: 0.05, Loss_test: 0.04\n",
      "Epoch: 865 Loss: 0.04, Loss_test: 0.04\n",
      "Epoch: 866 Loss: 0.03, Loss_test: 0.03\n",
      "Epoch: 867 Loss: 0.02, Loss_test: 0.03\n",
      "Epoch: 868 Loss: 0.03, Loss_test: 0.03\n",
      "Epoch: 869 Loss: 0.04, Loss_test: 0.03\n",
      "=> result saved!\n",
      "Epoch: 870 Loss: 0.02, Loss_test: 0.03\n",
      "Epoch: 871 Loss: 0.02, Loss_test: 0.03\n",
      "Epoch: 872 Loss: 0.02, Loss_test: 0.03\n",
      "Epoch: 873 Loss: 0.04, Loss_test: 0.03\n",
      "Epoch: 874 Loss: 0.03, Loss_test: 0.03\n",
      "Epoch: 875 Loss: 0.05, Loss_test: 0.03\n",
      "Epoch: 876 Loss: 0.03, Loss_test: 0.03\n",
      "Epoch: 877 Loss: 0.02, Loss_test: 0.04\n",
      "Epoch: 878 Loss: 0.05, Loss_test: 0.04\n",
      "Epoch: 879 Loss: 0.02, Loss_test: 0.03\n",
      "=> result saved!\n",
      "Epoch: 880 Loss: 0.04, Loss_test: 0.04\n",
      "Epoch: 881 Loss: 0.04, Loss_test: 0.04\n",
      "Epoch: 882 Loss: 0.04, Loss_test: 0.04\n",
      "Epoch: 883 Loss: 0.03, Loss_test: 0.04\n",
      "Epoch: 884 Loss: 0.04, Loss_test: 0.04\n",
      "Epoch: 885 Loss: 0.03, Loss_test: 0.04\n",
      "Epoch: 886 Loss: 0.03, Loss_test: 0.04\n",
      "Epoch: 887 Loss: 0.04, Loss_test: 0.04\n",
      "Epoch: 888 Loss: 0.02, Loss_test: 0.04\n",
      "Epoch: 889 Loss: 0.02, Loss_test: 0.04\n",
      "=> result saved!\n",
      "Epoch: 890 Loss: 0.02, Loss_test: 0.04\n",
      "Epoch: 891 Loss: 0.04, Loss_test: 0.04\n",
      "Epoch: 892 Loss: 0.03, Loss_test: 0.03\n",
      "Epoch: 893 Loss: 0.04, Loss_test: 0.04\n",
      "Epoch: 894 Loss: 0.01, Loss_test: 0.03\n",
      "Epoch: 895 Loss: 0.02, Loss_test: 0.03\n",
      "Epoch: 896 Loss: 0.04, Loss_test: 0.03\n",
      "Epoch: 897 Loss: 0.03, Loss_test: 0.03\n",
      "Epoch: 898 Loss: 0.01, Loss_test: 0.03\n",
      "Epoch: 899 Loss: 0.02, Loss_test: 0.03\n",
      "=> result saved!\n",
      "Epoch: 900 Loss: 0.03, Loss_test: 0.03\n"
     ]
    }
   ],
   "source": [
    "end_train = epochs - limit_train\n",
    "for epoch in range(limit_train, end_train):\n",
    "    batch_triplet_train, \\\n",
    "        train_input_sample, train_sim = batch_iterator(baseline, retrieval, model, baseline.train_data, \n",
    "                                                       baseline.dup_sets_train, bug_train_ids, \n",
    "                                                           batch_size, 1, issues_by_buckets, TRIPLET_HARD=False)\n",
    "    train_batch = [train_input_sample['title'], train_input_sample['description'], train_input_sample['info'], train_sim]\n",
    "    \n",
    "\n",
    "    h = model.train_on_batch(x=train_batch, y=train_sim)\n",
    "    h_validation = model.test_on_batch(x=validation_sample, y=valid_sim)\n",
    "    \n",
    "    # save results\n",
    "    result['train'].append(h)\n",
    "    result['test'].append(h_validation)\n",
    "    \n",
    "    if( (epoch+1) % 10 == 0 or (epoch+1 == end_train )):\n",
    "        save_loss(result)\n",
    "    \n",
    "    print(\"Epoch: {} Loss: {:.2f}, Loss_test: {:.2f}\".format(epoch+1, h, h_validation))"
   ]
  },
  {
   "cell_type": "code",
   "execution_count": 48,
   "metadata": {},
   "outputs": [
    {
     "data": {
      "text/plain": [
       "(900, 900)"
      ]
     },
     "execution_count": 48,
     "metadata": {},
     "output_type": "execute_result"
    }
   ],
   "source": [
    "len(result['train']), len(result['test'])"
   ]
  },
  {
   "cell_type": "code",
   "execution_count": 49,
   "metadata": {},
   "outputs": [],
   "source": [
    "encoded = model.get_layer('merge_features_in')\n",
    "output = encoded.output\n",
    "inputs = similarity_model.inputs[:-1]\n",
    "encoded_anchor = Model(inputs = inputs, outputs = output, name = 'Similarity_Model')"
   ]
  },
  {
   "cell_type": "code",
   "execution_count": 50,
   "metadata": {},
   "outputs": [
    {
     "data": {
      "text/plain": [
       "'bert_preprocessing_baseline_1000_feature1000epochs_64batch(eclipse)'"
      ]
     },
     "execution_count": 50,
     "metadata": {},
     "output_type": "execute_result"
    }
   ],
   "source": [
    "SAVE_PATH.replace('@number_of_epochs@', str(epochs))"
   ]
  },
  {
   "cell_type": "code",
   "execution_count": 51,
   "metadata": {},
   "outputs": [
    {
     "name": "stdout",
     "output_type": "stream",
     "text": [
      "Saved model 'modelos/model_bert_preprocessing_baseline_1000_feature_1000epochs_64batch(eclipse).h5' to disk\n"
     ]
    },
    {
     "data": {
      "text/plain": [
       "'Model saved'"
      ]
     },
     "execution_count": 51,
     "metadata": {},
     "output_type": "execute_result"
    }
   ],
   "source": [
    "experiment.save_model(model, SAVE_PATH.replace('@number_of_epochs@', str(epochs)))\n",
    "experiment.save_model(encoded_anchor, SAVE_PATH_FEATURE.replace('@number_of_epochs@', str(epochs)), verbose=1)\n",
    "\"Model saved\""
   ]
  },
  {
   "cell_type": "code",
   "execution_count": 52,
   "metadata": {},
   "outputs": [
    {
     "data": {
      "application/vnd.jupyter.widget-view+json": {
       "model_id": "996874cb59874d688cec5de03a762a71",
       "version_major": 2,
       "version_minor": 0
      },
      "text/plain": [
       "HBox(children=(IntProgress(value=0, max=16995), HTML(value='')))"
      ]
     },
     "metadata": {},
     "output_type": "display_data"
    },
    {
     "name": "stdout",
     "output_type": "stream",
     "text": [
      "\n"
     ]
    },
    {
     "data": {
      "application/vnd.jupyter.widget-view+json": {
       "model_id": "2a4d0b34694c4d9c84bb4b5c41b3a091",
       "version_major": 2,
       "version_minor": 0
      },
      "text/plain": [
       "HBox(children=(IntProgress(value=0, max=27321), HTML(value='')))"
      ]
     },
     "metadata": {},
     "output_type": "display_data"
    },
    {
     "name": "stdout",
     "output_type": "stream",
     "text": [
      "\n"
     ]
    },
    {
     "data": {
      "application/vnd.jupyter.widget-view+json": {
       "model_id": "5d319618419546a8b85e741a84d3c97f",
       "version_major": 2,
       "version_minor": 0
      },
      "text/plain": [
       "HBox(children=(IntProgress(value=0, max=30481), HTML(value='')))"
      ]
     },
     "metadata": {},
     "output_type": "display_data"
    },
    {
     "name": "stdout",
     "output_type": "stream",
     "text": [
      "\n"
     ]
    },
    {
     "data": {
      "application/vnd.jupyter.widget-view+json": {
       "model_id": "30f930f0946441468fb27cf6e0b23af1",
       "version_major": 2,
       "version_minor": 0
      },
      "text/plain": [
       "HBox(children=(IntProgress(value=1, bar_style='info', max=1), HTML(value='')))"
      ]
     },
     "metadata": {},
     "output_type": "display_data"
    },
    {
     "name": "stdout",
     "output_type": "stream",
     "text": [
      "\n"
     ]
    },
    {
     "data": {
      "application/vnd.jupyter.widget-view+json": {
       "model_id": "23b55e8891a04a9abb090bd3e502520e",
       "version_major": 2,
       "version_minor": 0
      },
      "text/plain": [
       "HBox(children=(IntProgress(value=1, bar_style='info', max=1), HTML(value='')))"
      ]
     },
     "metadata": {},
     "output_type": "display_data"
    },
    {
     "name": "stdout",
     "output_type": "stream",
     "text": [
      "\n"
     ]
    },
    {
     "data": {
      "application/vnd.jupyter.widget-view+json": {
       "model_id": "07f81b55d3994962aba915462e637b9f",
       "version_major": 2,
       "version_minor": 0
      },
      "text/plain": [
       "HBox(children=(IntProgress(value=1, bar_style='info', max=1), HTML(value='')))"
      ]
     },
     "metadata": {},
     "output_type": "display_data"
    },
    {
     "name": "stdout",
     "output_type": "stream",
     "text": [
      "\n"
     ]
    },
    {
     "data": {
      "application/vnd.jupyter.widget-view+json": {
       "model_id": "644d1923831342aea5f5ec0c871cb33d",
       "version_major": 2,
       "version_minor": 0
      },
      "text/plain": [
       "HBox(children=(IntProgress(value=0, max=27321), HTML(value='')))"
      ]
     },
     "metadata": {},
     "output_type": "display_data"
    },
    {
     "name": "stdout",
     "output_type": "stream",
     "text": [
      "\n",
      "Epoch: 900 Loss: 0.03, Loss_test: 0.03, recall@25: 0.60\n"
     ]
    }
   ],
   "source": [
    "recall, exported_rank, debug = experiment.evaluate_validation_test(retrieval, 1, encoded_anchor, issues_by_buckets, bug_train_ids)\n",
    "print(\"Epoch: {} Loss: {:.2f}, Loss_test: {:.2f}, recall@25: {:.2f}\".format(epoch+1, h, h_validation, recall))"
   ]
  },
  {
   "cell_type": "code",
   "execution_count": 53,
   "metadata": {},
   "outputs": [
    {
     "data": {
      "text/plain": [
       "0.6"
      ]
     },
     "execution_count": 53,
     "metadata": {},
     "output_type": "execute_result"
    }
   ],
   "source": [
    "recall"
   ]
  },
  {
   "cell_type": "code",
   "execution_count": 54,
   "metadata": {},
   "outputs": [
    {
     "data": {
      "text/plain": [
       "['2:15392,9779,94|11615:0.4259224534034729,12670:0.3964797854423523,4894:0.3958263397216797,122:0.3889734745025635,7282:0.3877899646759033,14635:0.38665783405303955,19246:0.3819171190261841,21662:0.3652511239051819,24133:0.36517012119293213,10509:0.363366961479187,14674:0.35850006341934204,23060:0.3563234210014343,7143:0.355495810508728,12252:0.35138189792633057,5373:0.35123127698898315,14584:0.34994006156921387,10159:0.3496672511100769,5248:0.34926116466522217,49036:0.34624749422073364,21979:0.3456001281738281,19706:0.343469500541687,24156:0.343212366104126,11426:0.3422747850418091,13224:0.3419882655143738,21612:0.3419337868690491,25783:0.3394671082496643,19666:0.33927953243255615,16864:0.3386010527610779,7522:0.3363078832626343',\n",
       " '393232:393282,390667,383388|394517:0.3568822145462036,405416:0.32734692096710205,367948:0.32318657636642456,408203:0.32229894399642944,399971:0.3183971047401428,424679:0.31689733266830444,401108:0.3138532042503357,367823:0.31273674964904785,394189:0.3099859952926636,386381:0.30863094329833984,367950:0.30580848455429077,406736:0.3012118339538574,419940:0.29167693853378296,406500:0.29160386323928833,420310:0.2901647686958313,399354:0.28988492488861084,387113:0.2897151708602905,414421:0.2874082922935486,420245:0.279909610748291,416286:0.2760593295097351,392586:0.27526789903640747,356731:0.2730865478515625,379023:0.2730088233947754,416464:0.2728317379951477,405563:0.26673102378845215,392565:0.26313191652297974,415326:0.26301681995391846,383823:0.2628352642059326,377048:0.26263922452926636',\n",
       " '30:205979,38236,99332,71263|22096:0.4402136206626892,20521:0.4282758831977844,21252:0.4225718379020691,19744:0.421064555644989,22828:0.41585099697113037,19669:0.40839505195617676,21240:0.40691787004470825,8202:0.4066356420516968,10159:0.4020805358886719,14567:0.398952841758728,22835:0.39795273542404175,24291:0.39303892850875854,15490:0.37808310985565186,11084:0.376761794090271,19436:0.37241625785827637,137720:0.37111687660217285,11633:0.37067651748657227,14687:0.37047553062438965,146:0.3700246214866638,10156:0.3630322217941284,82960:0.3629021644592285,22337:0.3589314818382263,15133:0.3581032156944275,17518:0.35744810104370117,37234:0.3561665415763855,26718:0.3557567596435547,27478:0.35529184341430664,5743:0.354442834854126,12386:0.3541163206100464',\n",
       " '131123:234849|84868:0.3086426258087158,116198:0.28439265489578247,116201:0.28439265489578247,128422:0.2781635522842407,183074:0.27549558877944946,85369:0.2736817002296448,116753:0.26712584495544434,114487:0.26237207651138306,92818:0.2591192126274109,176125:0.2587331533432007,114502:0.2562447786331177,70922:0.2551127076148987,135168:0.2525642514228821,174302:0.250735342502594,160480:0.24880588054656982,116199:0.2450442910194397,118016:0.24276888370513916,106207:0.2421686053276062,149782:0.24199503660202026,153747:0.24150890111923218,165863:0.24150550365447998,129562:0.2342848777770996,160209:0.2329716682434082,137873:0.2310388684272766,181165:0.22919076681137085,106285:0.22899788618087769,108018:0.22717052698135376,78796:0.2258204221725464,161375:0.22288310527801514',\n",
       " '393277:393864,400436|382829:0.2838032841682434,411034:0.2032405138015747,412266:0.19901764392852783,390395:0.19426292181015015,393864:0.18028169870376587,384029:0.15138286352157593,404729:0.13830459117889404,405416:0.13498449325561523,406736:0.13405358791351318,400436:0.1312921643257141,386361:0.12709933519363403,407747:0.12362730503082275,409523:0.12297439575195312,318705:0.12214642763137817,418084:0.1205022931098938,415600:0.11615538597106934,401783:0.11608576774597168,419929:0.11375141143798828,417542:0.1130216121673584,368706:0.11289459466934204,420245:0.1121070384979248,404189:0.11151701211929321,390896:0.10874688625335693,410053:0.1079065203666687,340374:0.10785192251205444,273291:0.10564243793487549,317774:0.10515117645263672,349500:0.10404312610626221,380041:0.1038784384727478',\n",
       " '131136:150817,149868,145937,65841,102812|75676:0.37949275970458984,52546:0.3652189373970032,93443:0.3642852306365967,124503:0.3511378765106201,41472:0.34913504123687744,105126:0.3382721543312073,171588:0.3275529742240906,144690:0.3255765438079834,50850:0.32186752557754517,101757:0.31729382276535034,25771:0.31546252965927124,33790:0.31497830152511597,49685:0.31322598457336426,82310:0.3116111159324646,147447:0.30778688192367554,153819:0.3022392988204956,111506:0.2996106743812561,145937:0.29941844940185547,19771:0.29873961210250854,89204:0.29786866903305054,152397:0.2967599630355835,32128:0.29566800594329834,127760:0.29534614086151123,107833:0.29334211349487305,131985:0.2931792140007019,177834:0.2888171672821045,107974:0.28721338510513306,115553:0.2849302887916565,170431:0.2848489284515381',\n",
       " '393282:393232,390667,383388|383982:0.34985649585723877,393339:0.2599089741706848,176074:0.19830703735351562,409429:0.19617962837219238,159331:0.19604730606079102,159279:0.1953107714653015,170274:0.19038522243499756,404329:0.17938321828842163,183223:0.17144465446472168,147939:0.17085623741149902,369513:0.16977804899215698,167104:0.16913652420043945,168592:0.16820549964904785,378446:0.1655556559562683,182375:0.16397035121917725,182378:0.16397035121917725,135599:0.16230225563049316,156764:0.1593552827835083,182374:0.15835505723953247,189675:0.15758520364761353,87304:0.1575438380241394,170339:0.15663111209869385,85431:0.15529590845108032,193355:0.15281802415847778,163702:0.1513882875442505,167105:0.1512705683708191,139777:0.14750349521636963,216575:0.14666283130645752,161642:0.14269906282424927',\n",
       " '262212:292851,292845,291839|291839:0.36886972188949585,264447:0.3378777503967285,235130:0.3297345042228699,259768:0.3036355972290039,230925:0.2969486713409424,203240:0.29336702823638916,292845:0.2907477617263794,265282:0.29049670696258545,213562:0.2900252938270569,240558:0.2836414575576782,292851:0.2774292230606079,355938:0.27344053983688354,266626:0.27151697874069214,10106:0.2684327960014343,271713:0.2669517397880554,264041:0.2594919800758362,350048:0.25886303186416626,311176:0.25588124990463257,284659:0.25279784202575684,242454:0.2515130043029785,403418:0.2495412826538086,289461:0.2492886781692505,264841:0.24623697996139526,260394:0.24040091037750244,391058:0.2397456169128418,279633:0.23894864320755005,400661:0.23712235689163208,271352:0.23303890228271484,292839:0.23302710056304932',\n",
       " '131143:135599|156764:0.35688352584838867,129628:0.35065966844558716,286957:0.32633519172668457,129959:0.29488545656204224,141926:0.2903129458427429,131689:0.2874208092689514,141647:0.2754059433937073,173662:0.2745440602302551,109286:0.26240599155426025,210203:0.261422336101532,186230:0.2587006688117981,173664:0.25593119859695435,135599:0.25351983308792114,156740:0.25113141536712646,135719:0.2501944303512573,163985:0.249253511428833,219847:0.24890536069869995,134850:0.2455708384513855,143839:0.2451069951057434,130942:0.24305063486099243,297134:0.23572492599487305,174211:0.23519378900527954,155686:0.22931581735610962,383982:0.2253163456916809,126084:0.22456949949264526,366573:0.22227400541305542,195913:0.22219806909561157,408195:0.2210213541984558,96435:0.21917062997817993',\n",
       " '71:256,228|16399:0.43554455041885376,16864:0.4134029150009155,23777:0.3965688943862915,16161:0.3948707580566406,21612:0.3866161108016968,15392:0.37787067890167236,19666:0.36906081438064575,85:0.3687388300895691,19648:0.3683943748474121,7327:0.36680418252944946,13616:0.36515724658966064,122:0.3600859045982361,12133:0.3556528091430664,23921:0.3526765704154968,23060:0.3493725061416626,19650:0.34895479679107666,9437:0.3470236659049988,22094:0.34057629108428955,20750:0.33930474519729614,24156:0.33823031187057495,22892:0.3379354476928711,8461:0.3376500606536865,19246:0.334000825881958,19979:0.3334740996360779,4931:0.33137965202331543,25587:0.3313336968421936,4911:0.33122122287750244,12138:0.33088719844818115,4904:0.32976025342941284',\n",
       " '85:247,10959|10959:0.5223522186279297,13898:0.4362737536430359,21263:0.4325268864631653,7327:0.4243031144142151,17328:0.4185032844543457,23060:0.41847431659698486,16161:0.41513556241989136,11859:0.41462022066116333,23326:0.40981370210647583,33128:0.409650981426239,14097:0.4079391360282898,13616:0.4047250747680664,20750:0.4006592631340027,8560:0.3962859511375427,13570:0.39615267515182495,7282:0.39513224363327026,7143:0.39046549797058105,13446:0.3874262571334839,13224:0.3872823715209961,88:0.38548922538757324,122:0.38168907165527344,7618:0.37966883182525635,17518:0.3790522813796997,15119:0.37790191173553467,150:0.37434273958206177,15729:0.37204182147979736,26525:0.37180930376052856,12958:0.371504008769989,11545:0.36918723583221436',\n",
       " '88:6099,14116|16864:0.47790950536727905,5248:0.4331396818161011,7475:0.4105668067932129,13446:0.4029542803764343,14097:0.39526069164276123,17809:0.39292091131210327,7901:0.38855016231536865,9779:0.3876233696937561,171:0.38746577501296997,12958:0.38623374700546265,85:0.38548922538757324,150:0.38403648138046265,33128:0.38212960958480835,17518:0.38146865367889404,11861:0.3722066879272461,10475:0.37101006507873535,7561:0.37094688415527344,178:0.3687787652015686,14052:0.36723077297210693,122:0.3668721318244934,22828:0.366424560546875,7327:0.36583518981933594,17151:0.3633573055267334,232:0.36280471086502075,8332:0.35624587535858154,14290:0.35418057441711426,21979:0.3533075451850891,12254:0.35299497842788696,10156:0.3519941568374634',\n",
       " '131161:44438,103374,98057|137720:0.4208715558052063,97110:0.37967967987060547,127436:0.37676841020584106,153100:0.3748592734336853,158863:0.36647742986679077,129338:0.35474568605422974,129527:0.3511701226234436,79731:0.3488282561302185,75694:0.34854382276535034,91176:0.34441429376602173,76582:0.33940833806991577,83519:0.332214891910553,75999:0.330014705657959,154816:0.3300086259841919,58064:0.3289773464202881,98057:0.3258219361305237,11633:0.32043468952178955,24291:0.32004672288894653,82112:0.31771665811538696,45892:0.3162218928337097,69146:0.3117406368255615,63859:0.310416579246521,63954:0.31030815839767456,150480:0.31026238203048706,92151:0.30956876277923584,50288:0.3088078498840332,58412:0.3083367347717285,44389:0.3082672357559204,164964:0.3070392608642578',\n",
       " '262235:260098,263611|270162:0.47923290729522705,280744:0.45179635286331177,270742:0.4512574076652527,279091:0.44154757261276245,196870:0.4405924677848816,267921:0.438729465007782,262582:0.42788010835647583,278191:0.421536386013031,252517:0.420956015586853,247566:0.41560816764831543,218192:0.40904664993286133,272795:0.4085819721221924,268627:0.40783220529556274,217740:0.40561050176620483,270829:0.4023337960243225,266592:0.40015190839767456,277244:0.39554518461227417,279088:0.39220863580703735,279089:0.39220863580703735,253862:0.3912389278411865,273664:0.38501501083374023,184538:0.38423383235931396,252510:0.3838019371032715,229069:0.3807181119918823,257957:0.37815284729003906,250132:0.37514352798461914,250526:0.37455815076828003,248874:0.3724140524864197,236437:0.37075376510620117',\n",
       " '94:15392,2,9779|22806:0.431151807308197,19246:0.42697668075561523,14052:0.40667569637298584,15392:0.39952951669692993,4931:0.39795851707458496,10156:0.3831671476364136,19233:0.3789631128311157,39048:0.3770142197608948,22094:0.375277578830719,13045:0.37331098318099976,32522:0.3661239743232727,171:0.3654358983039856,5743:0.36448073387145996,10475:0.36395150423049927,17518:0.3625370264053345,18653:0.3610008955001831,24156:0.35332363843917847,13521:0.35291433334350586,53007:0.34417295455932617,14959:0.3439268469810486,7247:0.34361720085144043,17542:0.3410493731498718,14622:0.339119017124176,21612:0.3388328552246094,17459:0.33850252628326416,5931:0.3366805911064148,14097:0.33340251445770264,41052:0.3329857587814331,24133:0.33231574296951294',\n",
       " '131171:202560,96651,172374|149365:0.4102684259414673,131477:0.39847874641418457,139543:0.390938401222229,83030:0.35565751791000366,145971:0.3546839952468872,119843:0.35465550422668457,133332:0.3543453812599182,155369:0.351789653301239,212718:0.344116747379303,212719:0.344116747379303,150900:0.3427125811576843,128226:0.3411635756492615,115381:0.34110182523727417,111201:0.33915114402770996,129180:0.3390161395072937,170343:0.3362051844596863,151044:0.3351525664329529,132174:0.3348870873451233,202927:0.33030885457992554,113232:0.32969218492507935,124542:0.3276444673538208,125781:0.32726240158081055,139513:0.32604676485061646,160241:0.3254334330558777,96569:0.32512277364730835,170409:0.3248767852783203,121062:0.32234495878219604,135009:0.3219112157821655,175333:0.3207651972770691',\n",
       " '393320:394988|394988:0.46502143144607544,400601:0.44186341762542725,292035:0.4084441661834717,326313:0.3988630175590515,292037:0.38942432403564453,292034:0.38435375690460205,397772:0.3613682985305786,390859:0.36084872484207153,336726:0.3571569323539734,292036:0.3554685711860657,345478:0.35303401947021484,215865:0.35176730155944824,405645:0.348996639251709,402953:0.3454703092575073,338727:0.344356894493103,405226:0.3435431122779846,337365:0.33130043745040894,296389:0.3306024670600891,398934:0.33047544956207275,289147:0.32656794786453247,337422:0.3227921724319458,296608:0.32120251655578613,296388:0.3174699544906616,401746:0.31239384412765503,330650:0.3102791905403137,292033:0.3061826825141907,330580:0.3037008047103882,252009:0.30348968505859375,366182:0.3020932674407959',\n",
       " '131180:134058,132491,131646|132491:0.3486871123313904,421756:0.34248024225234985,421749:0.2814404368400574,403365:0.2713034749031067,411731:0.26462769508361816,105703:0.25063449144363403,329739:0.23843508958816528,96069:0.2371082901954651,333456:0.22402673959732056,105557:0.21894854307174683,105558:0.21894854307174683,179964:0.21138334274291992,364419:0.19690150022506714,320899:0.1899477243423462,85179:0.18159955739974976,326746:0.16708022356033325,262873:0.16610711812973022,231738:0.16321438550949097,386240:0.15825104713439941,130446:0.1561846137046814,324106:0.143354594707489,331750:0.14110428094863892,214304:0.14012742042541504,243526:0.13838088512420654,243527:0.13838088512420654,243528:0.13838088512420654,101607:0.13706892728805542,321123:0.13612473011016846,86190:0.13384664058685303',\n",
       " '393332:405833,414629|388386:0.3625834584236145,401635:0.28133153915405273,394117:0.2170032262802124,414680:0.19290268421173096,99546:0.15787476301193237,66439:0.14556795358657837,31118:0.13339143991470337,29804:0.13272470235824585,29296:0.13081741333007812,37291:0.13042384386062622,7070:0.12452447414398193,38398:0.12230855226516724,15426:0.11963510513305664,35374:0.11945736408233643,72464:0.11767023801803589,58334:0.11697542667388916,412518:0.11351829767227173,59291:0.11208885908126831,46155:0.11190569400787354,56960:0.11118793487548828,25473:0.10942071676254272,40872:0.10921525955200195,29851:0.1091187596321106,159027:0.1069256067276001,98441:0.10659295320510864,27462:0.10378801822662354,352083:0.10347092151641846,4040:0.10335332155227661,32465:0.10238218307495117',\n",
       " '262266:262871|257202:0.39575910568237305,268920:0.3596034646034241,282581:0.3404991626739502,257970:0.3311755061149597,212618:0.32926666736602783,286103:0.32895928621292114,228267:0.3281642198562622,262871:0.3278989791870117,258767:0.3150256276130676,217882:0.30229127407073975,228445:0.29860174655914307,343304:0.29660457372665405,234798:0.2954977750778198,213918:0.29211997985839844,275225:0.290774941444397,283712:0.28887784481048584,228971:0.2855110764503479,217916:0.28537946939468384,264535:0.28424423933029175,180618:0.28054583072662354,281495:0.2757841944694519,263265:0.2727869749069214,208266:0.2727101445198059,232575:0.2710310220718384,223868:0.26857489347457886,237792:0.26695364713668823,234021:0.2658126950263977,265867:0.2615705728530884,282548:0.2596117854118347']"
      ]
     },
     "execution_count": 54,
     "metadata": {},
     "output_type": "execute_result"
    }
   ],
   "source": [
    "exported_rank[:20]"
   ]
  },
  {
   "cell_type": "markdown",
   "metadata": {},
   "source": [
    "### Retrieval evaluation"
   ]
  },
  {
   "cell_type": "code",
   "execution_count": 55,
   "metadata": {},
   "outputs": [
    {
     "name": "stdout",
     "output_type": "stream",
     "text": [
      "Total of queries: 16995\n"
     ]
    }
   ],
   "source": [
    "print(\"Total of queries:\", len(retrieval.test))"
   ]
  },
  {
   "cell_type": "markdown",
   "metadata": {},
   "source": [
    "#### Getting the model trained"
   ]
  },
  {
   "cell_type": "code",
   "execution_count": 56,
   "metadata": {},
   "outputs": [
    {
     "data": {
      "text/plain": [
       "'bert_preprocessing_baseline_1000_feature_1000epochs_64batch(eclipse)'"
      ]
     },
     "execution_count": 56,
     "metadata": {},
     "output_type": "execute_result"
    }
   ],
   "source": [
    "SAVE_PATH_FEATURE.replace('@number_of_epochs@', str(epochs))"
   ]
  },
  {
   "cell_type": "code",
   "execution_count": 57,
   "metadata": {},
   "outputs": [
    {
     "name": "stdout",
     "output_type": "stream",
     "text": [
      "__________________________________________________________________________________________________\n",
      "Layer (type)                    Output Shape         Param #     Connected to                     \n",
      "==================================================================================================\n",
      "info_in (InputLayer)            (None, 1682)         0                                            \n",
      "__________________________________________________________________________________________________\n",
      "title_in (InputLayer)           (None, 20)           0                                            \n",
      "__________________________________________________________________________________________________\n",
      "desc_in (InputLayer)            (None, 20)           0                                            \n",
      "__________________________________________________________________________________________________\n",
      "FeatureMlpGenerationModel (Mode (None, 300)          504900      info_in[0][0]                    \n",
      "__________________________________________________________________________________________________\n",
      "FeatureLstmGenerationModel (Mod (None, 300)          581804100   title_in[0][0]                   \n",
      "__________________________________________________________________________________________________\n",
      "FeatureCNNGenerationModel (Mode (None, 300)          581850792   desc_in[0][0]                    \n",
      "__________________________________________________________________________________________________\n",
      "merge_features_in (Concatenate) (None, 900)          0           FeatureMlpGenerationModel[1][0]  \n",
      "                                                                 FeatureLstmGenerationModel[1][0] \n",
      "                                                                 FeatureCNNGenerationModel[1][0]  \n",
      "==================================================================================================\n",
      "Total params: 1,164,159,792\n",
      "Trainable params: 958,392\n",
      "Non-trainable params: 1,163,201,400\n",
      "__________________________________________________________________________________________________\n"
     ]
    }
   ],
   "source": [
    "encoded_anchor.summary()"
   ]
  },
  {
   "cell_type": "code",
   "execution_count": 58,
   "metadata": {},
   "outputs": [
    {
     "data": {
      "text/plain": [
       "27321"
      ]
     },
     "execution_count": 58,
     "metadata": {},
     "output_type": "execute_result"
    }
   ],
   "source": [
    "len(exported_rank)"
   ]
  },
  {
   "cell_type": "code",
   "execution_count": 59,
   "metadata": {},
   "outputs": [
    {
     "data": {
      "text/plain": [
       "'data/processed/eclipse/bert/exported_rank_baseline_1000.txt'"
      ]
     },
     "execution_count": 59,
     "metadata": {},
     "output_type": "execute_result"
    }
   ],
   "source": [
    "EXPORT_RANK_PATH = os.path.join(DIR, 'exported_rank_{}.txt'.format(METHOD))\n",
    "EXPORT_RANK_PATH"
   ]
  },
  {
   "cell_type": "code",
   "execution_count": 60,
   "metadata": {},
   "outputs": [],
   "source": [
    "with open(EXPORT_RANK_PATH, 'w') as file_out:\n",
    "    for row in exported_rank:\n",
    "        file_out.write(row + \"\\n\")"
   ]
  },
  {
   "cell_type": "code",
   "execution_count": 61,
   "metadata": {},
   "outputs": [
    {
     "data": {
      "text/plain": [
       "{'1 - recall_at_5': 0.44,\n",
       " '2 - recall_at_10': 0.51,\n",
       " '3 - recall_at_15': 0.55,\n",
       " '4 - recall_at_20': 0.58,\n",
       " '5 - recall_at_25': 0.6}"
      ]
     },
     "execution_count": 61,
     "metadata": {},
     "output_type": "execute_result"
    }
   ],
   "source": [
    "report = experiment.evaluation.evaluate(EXPORT_RANK_PATH)\n",
    "report"
   ]
  },
  {
   "cell_type": "markdown",
   "metadata": {},
   "source": [
    "#### Some ideas to visualizate"
   ]
  },
  {
   "cell_type": "markdown",
   "metadata": {},
   "source": [
    "- https://towardsdatascience.com/building-a-recommendation-system-using-neural-network-embeddings-1ef92e5c80c9"
   ]
  }
 ],
 "metadata": {
  "accelerator": "GPU",
  "colab": {
   "collapsed_sections": [],
   "name": "[baseline] Bug triage with Deep Learning.ipynb",
   "provenance": [],
   "toc_visible": true,
   "version": "0.3.2"
  },
  "kernelspec": {
   "display_name": "Python 3",
   "language": "python",
   "name": "python3"
  },
  "language_info": {
   "codemirror_mode": {
    "name": "ipython",
    "version": 3
   },
   "file_extension": ".py",
   "mimetype": "text/x-python",
   "name": "python",
   "nbconvert_exporter": "python",
   "pygments_lexer": "ipython3",
   "version": "3.5.2"
  }
 },
 "nbformat": 4,
 "nbformat_minor": 1
}
