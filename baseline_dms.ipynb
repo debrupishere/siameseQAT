{
 "cells": [
  {
   "cell_type": "markdown",
   "metadata": {
    "colab_type": "text",
    "id": "PtdA1qs_UQP1"
   },
   "source": [
    "# Bug triage with Deep Learning\n",
    "\n",
    "https://github.com/AdrianUng/keras-triplet-loss-mnist/blob/master/Triplet_loss_KERAS_semi_hard_from_TF.ipynb"
   ]
  },
  {
   "cell_type": "code",
   "execution_count": 1,
   "metadata": {},
   "outputs": [
    {
     "name": "stderr",
     "output_type": "stream",
     "text": [
      "Using TensorFlow backend.\n"
     ]
    }
   ],
   "source": [
    "import keras"
   ]
  },
  {
   "cell_type": "code",
   "execution_count": 2,
   "metadata": {
    "colab": {},
    "colab_type": "code",
    "id": "qnSCLmiomFE1"
   },
   "outputs": [],
   "source": [
    "from __future__ import print_function, division"
   ]
  },
  {
   "cell_type": "code",
   "execution_count": 3,
   "metadata": {
    "colab": {},
    "colab_type": "code",
    "id": "OIha-SERnD72"
   },
   "outputs": [],
   "source": [
    "import re\n",
    "import numpy as np\n",
    "import pandas as pd\n",
    "\n",
    "import os\n",
    "from tqdm import tqdm_notebook as tqdm\n",
    "import matplotlib.pyplot as plt\n",
    "import sys\n",
    "from annoy import AnnoyIndex\n",
    "nb_dir = os.path.split(os.getcwd())[0]\n",
    "if nb_dir not in sys.path:\n",
    "    sys.path.append(nb_dir)\n",
    "    \n",
    "%matplotlib inline"
   ]
  },
  {
   "cell_type": "code",
   "execution_count": 4,
   "metadata": {
    "colab": {
     "base_uri": "https://localhost:8080/",
     "height": 34
    },
    "colab_type": "code",
    "id": "c57gQiuAnJAe",
    "outputId": "9eaf2d3f-619a-492d-f40b-6ba2c48426fa"
   },
   "outputs": [],
   "source": [
    "from keras.layers import Conv1D, Input, Add, Activation, Dropout, Embedding, MaxPooling1D, \\\n",
    "    GlobalMaxPool1D, Flatten, Dense, Concatenate, BatchNormalization\n",
    "from keras.models import Sequential, Model\n",
    "from keras.regularizers import l2\n",
    "from keras.initializers import TruncatedNormal\n",
    "from keras.layers.advanced_activations import LeakyReLU, ELU\n",
    "from keras import optimizers"
   ]
  },
  {
   "cell_type": "code",
   "execution_count": 5,
   "metadata": {},
   "outputs": [],
   "source": [
    "from methods.baseline import Baseline\n",
    "from methods.experiments import Experiment\n",
    "from methods.evaluation import Evaluation\n",
    "from methods.retrieval import Retrieval"
   ]
  },
  {
   "cell_type": "markdown",
   "metadata": {
    "colab_type": "text",
    "id": "8uQou7m2-bFO"
   },
   "source": [
    "## Configurações Globais"
   ]
  },
  {
   "cell_type": "code",
   "execution_count": 6,
   "metadata": {
    "colab": {},
    "colab_type": "code",
    "id": "G-Kn3x_K-aZj"
   },
   "outputs": [],
   "source": [
    "MAX_SEQUENCE_LENGTH_T = 20 # 100\n",
    "MAX_SEQUENCE_LENGTH_D = 20 # 500\n",
    "EMBEDDING_DIM = 300\n",
    "MAX_NB_WORDS = 20000\n",
    "'''\n",
    "    Configuration\n",
    "'''\n",
    "epochs = 1000\n",
    "freeze_train = .1 # 10% with freeze weights\n",
    "best_loss = 1\n",
    "best_epoch = 0\n",
    "verbose = 0\n",
    "loss = 1"
   ]
  },
  {
   "cell_type": "markdown",
   "metadata": {},
   "source": [
    "### Parse bugs preproprecessed"
   ]
  },
  {
   "cell_type": "code",
   "execution_count": 7,
   "metadata": {},
   "outputs": [],
   "source": [
    "# Domain to use\n",
    "DOMAIN = 'openoffice'\n",
    "METHOD = 'baseline_{}'.format(epochs)\n",
    "PREPROCESSING = 'bert'\n",
    "TOKEN = 'bert'\n",
    "# Dataset paths\n",
    "DIR = 'data/processed/{}/{}'.format(DOMAIN, PREPROCESSING)\n",
    "DIR_PAIRS = 'data/normalized/{}'.format(DOMAIN)\n",
    "DATASET = os.path.join('data/normalized/{}'.format(DOMAIN), '{}.csv'.format(DOMAIN))\n",
    "# Glove embeddings\n",
    "GLOVE_DIR='data/embed'\n",
    "# Save model\n",
    "SAVE_PATH = '{}_preprocessing_{}_feature@number_of_epochs@epochs_64batch({})'.format(PREPROCESSING, METHOD, DOMAIN)\n",
    "SAVE_PATH_FEATURE = '{}_preprocessing_{}_feature_@number_of_epochs@epochs_64batch({})'.format(PREPROCESSING, METHOD, DOMAIN)\n",
    "\n",
    "# Extract CORPUs\n",
    "EXTRACT_CORPUS = False"
   ]
  },
  {
   "cell_type": "code",
   "execution_count": 8,
   "metadata": {},
   "outputs": [],
   "source": [
    "import os\n",
    "\n",
    "pretrained_path = 'uncased_L-12_H-768_A-12'\n",
    "config_path = os.path.join(pretrained_path, 'bert_config.json')\n",
    "model_path = os.path.join(pretrained_path, 'bert_model.ckpt')\n",
    "vocab_path = os.path.join(pretrained_path, 'vocab.txt')"
   ]
  },
  {
   "cell_type": "code",
   "execution_count": 9,
   "metadata": {},
   "outputs": [],
   "source": [
    "from keras_bert import load_vocabulary\n",
    "\n",
    "token_dict = load_vocabulary(vocab_path)"
   ]
  },
  {
   "cell_type": "code",
   "execution_count": 10,
   "metadata": {},
   "outputs": [],
   "source": [
    "baseline = Baseline(DOMAIN, DIR, DATASET, MAX_SEQUENCE_LENGTH_T, MAX_SEQUENCE_LENGTH_D,\n",
    "                   token_dict['[CLS]'], token_dict['[SEP]'])\n",
    "evaluation = Evaluation(verbose=0)\n",
    "retrieval = Retrieval()\n",
    "experiment = Experiment(baseline, evaluation)"
   ]
  },
  {
   "cell_type": "code",
   "execution_count": 11,
   "metadata": {
    "scrolled": true
   },
   "outputs": [],
   "source": [
    "experiment.set_retrieval(retrieval, baseline, DOMAIN)"
   ]
  },
  {
   "cell_type": "markdown",
   "metadata": {},
   "source": [
    "#### Loading bug ids in memory"
   ]
  },
  {
   "cell_type": "code",
   "execution_count": 12,
   "metadata": {
    "scrolled": true
   },
   "outputs": [
    {
     "name": "stdout",
     "output_type": "stream",
     "text": [
      "Reading bug ids\n"
     ]
    },
    {
     "data": {
      "text/plain": [
       "98070"
      ]
     },
     "execution_count": 12,
     "metadata": {},
     "output_type": "execute_result"
    }
   ],
   "source": [
    "experiment.load_ids()\n",
    "len(baseline.bug_ids)"
   ]
  },
  {
   "cell_type": "markdown",
   "metadata": {
    "colab_type": "text",
    "id": "vqzt5EKzqzcI"
   },
   "source": [
    "#### Dicionário de títulos e descrições"
   ]
  },
  {
   "cell_type": "code",
   "execution_count": 13,
   "metadata": {
    "scrolled": true
   },
   "outputs": [
    {
     "data": {
      "application/vnd.jupyter.widget-view+json": {
       "model_id": "a084140bce2e494ea83160b2c591ffd2",
       "version_major": 2,
       "version_minor": 0
      },
      "text/plain": [
       "HBox(children=(IntProgress(value=0, max=98070), HTML(value='')))"
      ]
     },
     "metadata": {},
     "output_type": "display_data"
    },
    {
     "name": "stdout",
     "output_type": "stream",
     "text": [
      "\n"
     ]
    },
    {
     "data": {
      "application/vnd.jupyter.widget-view+json": {
       "model_id": "9ff79944a4f94767b1f3b5f5e42346bb",
       "version_major": 2,
       "version_minor": 0
      },
      "text/plain": [
       "HBox(children=(IntProgress(value=1, bar_style='info', max=1), HTML(value='')))"
      ]
     },
     "metadata": {},
     "output_type": "display_data"
    },
    {
     "name": "stdout",
     "output_type": "stream",
     "text": [
      "\n",
      "CPU times: user 9.91 s, sys: 1.51 s, total: 11.4 s\n",
      "Wall time: 11.4 s\n"
     ]
    }
   ],
   "source": [
    "%%time\n",
    "\n",
    "experiment.load_bugs(TOKEN)\n",
    "len(baseline.sentence_dict)"
   ]
  },
  {
   "cell_type": "markdown",
   "metadata": {},
   "source": [
    "#### Hashing bugs by buckets"
   ]
  },
  {
   "cell_type": "code",
   "execution_count": 14,
   "metadata": {
    "scrolled": false
   },
   "outputs": [
    {
     "data": {
      "application/vnd.jupyter.widget-view+json": {
       "model_id": "2ae75646069249cd81f0eb6960cd1824",
       "version_major": 2,
       "version_minor": 0
      },
      "text/plain": [
       "HBox(children=(IntProgress(value=0, max=98070), HTML(value='')))"
      ]
     },
     "metadata": {},
     "output_type": "display_data"
    },
    {
     "name": "stdout",
     "output_type": "stream",
     "text": [
      "\n"
     ]
    }
   ],
   "source": [
    "issues_by_buckets = experiment.get_buckets_for_bugs()"
   ]
  },
  {
   "cell_type": "markdown",
   "metadata": {},
   "source": [
    "#### Prepare the train and test"
   ]
  },
  {
   "cell_type": "code",
   "execution_count": 15,
   "metadata": {},
   "outputs": [],
   "source": [
    "# path_train='train_chronological', path_test='test_chronological'\n",
    "experiment.prepare_dataset(issues_by_buckets, path_train='train_chronological', path_test='test_chronological')\n",
    "# Read and create the test queries duplicates\n",
    "retrieval.create_queries()"
   ]
  },
  {
   "cell_type": "code",
   "execution_count": 16,
   "metadata": {},
   "outputs": [
    {
     "data": {
      "text/plain": [
       "[[6036, 35039],\n",
       " [26311, 15091],\n",
       " [5142, 34523],\n",
       " [8323, 9594],\n",
       " [76676, 88775],\n",
       " [59725, 71546],\n",
       " [121756, 116964],\n",
       " [32936, 30911],\n",
       " [15257, 16297],\n",
       " [99719, 106395]]"
      ]
     },
     "execution_count": 16,
     "metadata": {},
     "output_type": "execute_result"
    }
   ],
   "source": [
    "baseline.train_data[:10]"
   ]
  },
  {
   "cell_type": "markdown",
   "metadata": {},
   "source": [
    "#### Recovery bug ids from train"
   ]
  },
  {
   "cell_type": "code",
   "execution_count": 17,
   "metadata": {},
   "outputs": [],
   "source": [
    "bug_train_ids = experiment.get_train_ids(baseline.train_data)"
   ]
  },
  {
   "cell_type": "markdown",
   "metadata": {},
   "source": [
    "### Export the corpus train"
   ]
  },
  {
   "cell_type": "code",
   "execution_count": 18,
   "metadata": {},
   "outputs": [],
   "source": [
    "if EXTRACT_CORPUS:\n",
    "    corpus = []\n",
    "    export_file = open(os.path.join(DIR, 'corpus_train.txt'), 'w')\n",
    "    for bug_id in tqdm(baseline.bug_set):\n",
    "        bug = baseline.bug_set[bug_id]\n",
    "        title = bug['title']\n",
    "        desc = bug['description']\n",
    "        export_file.write(\"{}\\n{}\\n\".format(title, desc))\n",
    "    export_file.close()"
   ]
  },
  {
   "cell_type": "markdown",
   "metadata": {
    "colab_type": "text",
    "id": "a6Obtop6UIVD"
   },
   "source": [
    "# Generating tiple of batches"
   ]
  },
  {
   "cell_type": "code",
   "execution_count": 19,
   "metadata": {
    "scrolled": true
   },
   "outputs": [
    {
     "data": {
      "text/plain": [
       "{'bug_severity': '2\\n',\n",
       " 'bug_status': '1\\n',\n",
       " 'component': '73\\n',\n",
       " 'creation_ts': '2006-12-06 22:07:00 +0000',\n",
       " 'delta_ts': '2013-08-07 15:34:52 +0000',\n",
       " 'description': '[CLS] d ##ma ##ke - v should tell w ##het ##er fork / ex ##ec or spawn is used [SEP]',\n",
       " 'description_segment': [0,\n",
       "  0,\n",
       "  0,\n",
       "  0,\n",
       "  0,\n",
       "  0,\n",
       "  0,\n",
       "  0,\n",
       "  0,\n",
       "  0,\n",
       "  0,\n",
       "  0,\n",
       "  0,\n",
       "  0,\n",
       "  0,\n",
       "  0,\n",
       "  0,\n",
       "  0,\n",
       "  0,\n",
       "  0,\n",
       "  0,\n",
       "  0,\n",
       "  0,\n",
       "  0,\n",
       "  0,\n",
       "  0,\n",
       "  0,\n",
       "  0,\n",
       "  0,\n",
       "  0,\n",
       "  0,\n",
       "  0,\n",
       "  0,\n",
       "  0,\n",
       "  0,\n",
       "  0,\n",
       "  0,\n",
       "  0,\n",
       "  0,\n",
       "  0,\n",
       "  0,\n",
       "  0,\n",
       "  0,\n",
       "  0,\n",
       "  0,\n",
       "  0,\n",
       "  0,\n",
       "  0,\n",
       "  0,\n",
       "  0,\n",
       "  0,\n",
       "  0,\n",
       "  0,\n",
       "  0,\n",
       "  0,\n",
       "  0,\n",
       "  0,\n",
       "  0,\n",
       "  0,\n",
       "  0,\n",
       "  0,\n",
       "  0,\n",
       "  0,\n",
       "  0,\n",
       "  0,\n",
       "  0,\n",
       "  0,\n",
       "  0,\n",
       "  0,\n",
       "  0,\n",
       "  0,\n",
       "  0,\n",
       "  0,\n",
       "  0,\n",
       "  0,\n",
       "  0,\n",
       "  0,\n",
       "  0,\n",
       "  0,\n",
       "  0,\n",
       "  0,\n",
       "  0,\n",
       "  0,\n",
       "  0,\n",
       "  0,\n",
       "  0,\n",
       "  0,\n",
       "  0,\n",
       "  0,\n",
       "  0,\n",
       "  0,\n",
       "  0,\n",
       "  0,\n",
       "  0,\n",
       "  0,\n",
       "  0,\n",
       "  0,\n",
       "  0,\n",
       "  0,\n",
       "  0,\n",
       "  0,\n",
       "  0,\n",
       "  0,\n",
       "  0,\n",
       "  0,\n",
       "  0,\n",
       "  0,\n",
       "  0,\n",
       "  0,\n",
       "  0,\n",
       "  0,\n",
       "  0,\n",
       "  0,\n",
       "  0,\n",
       "  0,\n",
       "  0,\n",
       "  0,\n",
       "  0,\n",
       "  0,\n",
       "  0,\n",
       "  0,\n",
       "  0,\n",
       "  0,\n",
       "  0,\n",
       "  0,\n",
       "  0,\n",
       "  0,\n",
       "  0,\n",
       "  0,\n",
       "  0,\n",
       "  0,\n",
       "  0,\n",
       "  0,\n",
       "  0,\n",
       "  0,\n",
       "  0,\n",
       "  0,\n",
       "  0,\n",
       "  0,\n",
       "  0,\n",
       "  0,\n",
       "  0,\n",
       "  0,\n",
       "  0,\n",
       "  0,\n",
       "  0,\n",
       "  0,\n",
       "  0,\n",
       "  0,\n",
       "  0],\n",
       " 'description_token': array([  101,  1040,  2863,  3489,  1011,  1058,  2323,  2425,  1059,\n",
       "        27065,  2121,  9292,  1013,  4654,  8586,  2030, 25645,  2003,\n",
       "         2109,   102]),\n",
       " 'dup_id': '[]',\n",
       " 'issue_id': 72337,\n",
       " 'priority': '3\\n',\n",
       " 'product': '0\\n',\n",
       " 'resolution': 'FIXED',\n",
       " 'textual_token': array([  101,  1040,  2863,  3489,  1011,  1058,  2323,  2425,  3251,\n",
       "         9292,  1013,  4654,  8586,  2030, 25645,  2003,  2109,     0,\n",
       "            0,   102,   101,  1040,  2863,  3489,  1011,  1058,  2323,\n",
       "         2425,  1059, 27065,  2121,  9292,  1013,  4654,  8586,  2030,\n",
       "        25645,  2003,  2109,   102]),\n",
       " 'title': '[CLS] d ##ma ##ke - v should tell whether fork / ex ##ec or spawn is used [SEP]',\n",
       " 'title_segment': [0,\n",
       "  0,\n",
       "  0,\n",
       "  0,\n",
       "  0,\n",
       "  0,\n",
       "  0,\n",
       "  0,\n",
       "  0,\n",
       "  0,\n",
       "  0,\n",
       "  0,\n",
       "  0,\n",
       "  0,\n",
       "  0,\n",
       "  0,\n",
       "  0,\n",
       "  0,\n",
       "  0,\n",
       "  0,\n",
       "  0,\n",
       "  0,\n",
       "  0,\n",
       "  0,\n",
       "  0,\n",
       "  0,\n",
       "  0,\n",
       "  0,\n",
       "  0,\n",
       "  0,\n",
       "  0,\n",
       "  0,\n",
       "  0,\n",
       "  0,\n",
       "  0,\n",
       "  0,\n",
       "  0,\n",
       "  0,\n",
       "  0,\n",
       "  0,\n",
       "  0,\n",
       "  0,\n",
       "  0,\n",
       "  0,\n",
       "  0,\n",
       "  0,\n",
       "  0,\n",
       "  0,\n",
       "  0,\n",
       "  0],\n",
       " 'title_token': array([  101,  1040,  2863,  3489,  1011,  1058,  2323,  2425,  3251,\n",
       "         9292,  1013,  4654,  8586,  2030, 25645,  2003,  2109,     0,\n",
       "            0,   102]),\n",
       " 'version': '270\\n'}"
      ]
     },
     "execution_count": 19,
     "metadata": {},
     "output_type": "execute_result"
    }
   ],
   "source": [
    "idx = np.random.choice(baseline.bug_ids, 1)[0]\n",
    "baseline.bug_set[idx]"
   ]
  },
  {
   "cell_type": "markdown",
   "metadata": {},
   "source": [
    "### Generating the batch test"
   ]
  },
  {
   "cell_type": "code",
   "execution_count": 20,
   "metadata": {},
   "outputs": [
    {
     "data": {
      "text/plain": [
       "('Train ', 14508)"
      ]
     },
     "execution_count": 20,
     "metadata": {},
     "output_type": "execute_result"
    }
   ],
   "source": [
    "\"Train \", len(baseline.dup_sets_train)"
   ]
  },
  {
   "cell_type": "code",
   "execution_count": 21,
   "metadata": {},
   "outputs": [],
   "source": [
    "import random\n",
    "\n",
    "# data - path\n",
    "# batch_size - 128\n",
    "# n_neg - 1\n",
    "def batch_iterator(self, retrieval, model, data, dup_sets, bug_ids, \n",
    "                   batch_size, n_neg, issues_by_buckets, TRIPLET_HARD=False, FLOATING_PADDING=False):\n",
    "    # global train_data\n",
    "    # global self.dup_sets\n",
    "    # global self.bug_ids\n",
    "    # global self.bug_set\n",
    "\n",
    "    random.shuffle(data)\n",
    "\n",
    "    batch_features = {'title' : [], 'desc' : [], 'info' : []}\n",
    "\n",
    "    n_train = len(data)\n",
    "\n",
    "    batch_triplets, batch_bugs_anchor, batch_bugs_pos, batch_bugs_neg, batch_bugs = [], [], [], [], []\n",
    "\n",
    "    all_bugs = list(issues_by_buckets.keys())\n",
    "    buckets = retrieval.buckets\n",
    "\n",
    "    for offset in range(batch_size):\n",
    "        anchor, pos = data[offset][0], data[offset][1]\n",
    "        batch_bugs_anchor.append(anchor)\n",
    "        batch_bugs_pos.append(pos)\n",
    "        batch_bugs.append(anchor)\n",
    "        batch_bugs.append(pos)\n",
    "        #batch_bugs += dup_sets[anchor]\n",
    "\n",
    "    for anchor, pos in zip(batch_bugs_anchor, batch_bugs_pos):\n",
    "        while True:\n",
    "            neg = self.get_neg_bug(anchor, buckets[issues_by_buckets[anchor]], issues_by_buckets, all_bugs)\n",
    "            bug_anchor = self.bug_set[anchor]\n",
    "            bug_pos = self.bug_set[pos]\n",
    "            if neg not in self.bug_set:\n",
    "                continue\n",
    "            batch_bugs.append(neg)\n",
    "            batch_bugs_neg.append(neg)\n",
    "            bug_neg = self.bug_set[neg]\n",
    "            break\n",
    "        \n",
    "        # triplet bug and master\n",
    "        batch_triplets.append([anchor, pos, neg])\n",
    "    \n",
    "    random.shuffle(batch_bugs)\n",
    "    \n",
    "    for bug_id in batch_bugs:\n",
    "        bug = self.bug_set[bug_id]\n",
    "        self.read_batch_bugs(batch_features, bug)\n",
    "\n",
    "    batch_features['title'] = np.array(batch_features['title'])\n",
    "    batch_features['desc'] = np.array(batch_features['desc'])\n",
    "    batch_features['info'] = np.array(batch_features['info'])\n",
    "    \n",
    "    sim = np.asarray([issues_by_buckets[bug_id] for bug_id in batch_bugs])\n",
    "\n",
    "    input_sample = {}\n",
    "\n",
    "    input_sample = { 'title' : batch_features['title'], \n",
    "                        'description' : batch_features['desc'], \n",
    "                            'info' : batch_features['info'] }\n",
    "\n",
    "    return batch_triplets, input_sample, sim #sim"
   ]
  },
  {
   "cell_type": "code",
   "execution_count": 22,
   "metadata": {
    "colab": {
     "base_uri": "https://localhost:8080/",
     "height": 51
    },
    "colab_type": "code",
    "id": "PA5CIhgz7odW",
    "outputId": "ae98fdec-1d54-4b1f-ee0e-4c5633802a18",
    "scrolled": true
   },
   "outputs": [
    {
     "name": "stdout",
     "output_type": "stream",
     "text": [
      "CPU times: user 697 ms, sys: 934 µs, total: 697 ms\n",
      "Wall time: 710 ms\n"
     ]
    }
   ],
   "source": [
    "%%time\n",
    "\n",
    "batch_size = 128\n",
    "batch_size_test = 128\n",
    "\n",
    "# we want a constant validation group to have a frame of reference for model performance\n",
    "batch_triplets_valid, valid_input_sample, valid_sim = batch_iterator(baseline, retrieval, None, \n",
    "                                                                                      baseline.train_data, \n",
    "                                                                                      baseline.dup_sets_train,\n",
    "                                                                                      bug_train_ids,\n",
    "                                                                                      batch_size_test, 1,\n",
    "                                                                                      issues_by_buckets)\n",
    "\n",
    "validation_sample = [valid_input_sample['title'], \n",
    "             valid_input_sample['description'],\n",
    "            valid_input_sample['info'], valid_sim]\n",
    "\n",
    "# Categorical columns\n",
    "number_of_columns_info = valid_input_sample['info'].shape[1]\n",
    "# Max sequence title\n",
    "MAX_SEQUENCE_LENGTH_T = valid_input_sample['title'].shape[1]\n",
    "MAX_SEQUENCE_LENGTH_D = valid_input_sample['description'].shape[1]"
   ]
  },
  {
   "cell_type": "code",
   "execution_count": 23,
   "metadata": {},
   "outputs": [
    {
     "data": {
      "text/plain": [
       "((384, 20), (384, 20), (384, 738), (384,))"
      ]
     },
     "execution_count": 23,
     "metadata": {},
     "output_type": "execute_result"
    }
   ],
   "source": [
    "valid_input_sample['title'].shape, valid_input_sample['description'].shape, valid_input_sample['info'].shape, valid_sim.shape"
   ]
  },
  {
   "cell_type": "markdown",
   "metadata": {
    "colab_type": "text",
    "id": "24mY22BGnkqp"
   },
   "source": [
    "### Validar entrada"
   ]
  },
  {
   "cell_type": "code",
   "execution_count": 24,
   "metadata": {
    "colab": {
     "base_uri": "https://localhost:8080/",
     "height": 796
    },
    "colab_type": "code",
    "id": "OhTbr3a5nmrh",
    "outputId": "a2d73e0f-e9ce-4d12-a5c8-f0008d2402d0",
    "scrolled": true
   },
   "outputs": [],
   "source": [
    "# %%time \n",
    "\n",
    "#baseline.display_batch(baseline.train_data, baseline.dup_sets_train, bug_train_ids, 5)"
   ]
  },
  {
   "cell_type": "code",
   "execution_count": 25,
   "metadata": {},
   "outputs": [
    {
     "data": {
      "text/plain": [
       "('Test ', 8265)"
      ]
     },
     "execution_count": 25,
     "metadata": {},
     "output_type": "execute_result"
    }
   ],
   "source": [
    "\"Test \", len(baseline.test_data)"
   ]
  },
  {
   "cell_type": "markdown",
   "metadata": {
    "colab_type": "text",
    "id": "XPrsLs4Kg4Pa"
   },
   "source": [
    "## Pre-trained embeddings\n",
    "\n",
    "Loading pretrained word vectors"
   ]
  },
  {
   "cell_type": "markdown",
   "metadata": {
    "colab_type": "text",
    "id": "6p9eE5TWoH7p"
   },
   "source": [
    "### Glove"
   ]
  },
  {
   "cell_type": "code",
   "execution_count": 26,
   "metadata": {},
   "outputs": [
    {
     "name": "stdout",
     "output_type": "stream",
     "text": [
      "vocabulary loaded\n"
     ]
    }
   ],
   "source": [
    "vocab = baseline.load_vocabulary(os.path.join(DIR, 'vocab_embed.pkl'))\n",
    "#print(np.random.choice(vocab, 10))\n",
    "# for token in vocab:\n",
    "#     print(token)"
   ]
  },
  {
   "cell_type": "code",
   "execution_count": 27,
   "metadata": {},
   "outputs": [
    {
     "data": {
      "text/plain": [
       "'Total vocabulary: 20031'"
      ]
     },
     "execution_count": 27,
     "metadata": {},
     "output_type": "execute_result"
    }
   ],
   "source": [
    "\"Total vocabulary: {}\".format(len(vocab))"
   ]
  },
  {
   "cell_type": "code",
   "execution_count": 28,
   "metadata": {},
   "outputs": [],
   "source": [
    "def generating_embed(baseline, GLOVE_DIR, EMBEDDING_DIM):\n",
    "    embeddings_index = {}\n",
    "    embed_path = os.path.join(GLOVE_DIR, 'glove.42B.300d.txt')\n",
    "    \n",
    "    f2 = open(embed_path, 'rb')\n",
    "    num_lines = sum(1 for line in f2)\n",
    "    f2.close()\n",
    "    \n",
    "    f = open(embed_path, 'rb')\n",
    "    vocab = baseline.load_vocabulary(os.path.join(baseline.DIR, 'vocab_embed.pkl'))\n",
    "    vocab_size = len(vocab) \n",
    "\n",
    "    # Initialize uniform the vector considering the Tanh activation\n",
    "    embedding_matrix = np.random.uniform(-1.0, 1.0, (num_lines + vocab_size, EMBEDDING_DIM))\n",
    "    embedding_matrix[0, :] = np.zeros(EMBEDDING_DIM)\n",
    "\n",
    "    loop = tqdm(f)\n",
    "    loop.set_description(\"Loading Glove\")\n",
    "    i = 0\n",
    "    for line in loop:\n",
    "        tokens = line.split()\n",
    "        word = tokens[0]\n",
    "        embed = np.asarray(tokens[1:], dtype='float32')\n",
    "        embeddings_index[word] = embed\n",
    "        embedding_matrix[i] = embed\n",
    "        i+=1\n",
    "        loop.update(1)\n",
    "    f.close()\n",
    "    loop.close()\n",
    "\n",
    "    print('Total %s word vectors in Glove 42B 300d.' % len(embeddings_index))\n",
    "\n",
    "    loop = tqdm(total=vocab_size)\n",
    "    loop.set_description('Loading embedding from dataset pretrained')\n",
    "    \n",
    "    for word, embed in vocab.items():\n",
    "        if word in embeddings_index:\n",
    "            embedding_matrix[i] = embeddings_index[word]\n",
    "        else:\n",
    "            embedding_matrix[i] = np.asarray(embed, dtype='float32')\n",
    "        loop.update(1)\n",
    "        i+=1\n",
    "    loop.close()\n",
    "    baseline.embedding_matrix = embedding_matrix"
   ]
  },
  {
   "cell_type": "code",
   "execution_count": 29,
   "metadata": {
    "colab": {
     "base_uri": "https://localhost:8080/",
     "height": 85
    },
    "colab_type": "code",
    "id": "QY-ef3OGoIiq",
    "outputId": "55f4c93c-98bb-4bac-92f2-76bd3b777605"
   },
   "outputs": [
    {
     "name": "stdout",
     "output_type": "stream",
     "text": [
      "vocabulary loaded\n"
     ]
    },
    {
     "data": {
      "application/vnd.jupyter.widget-view+json": {
       "model_id": "6218b78f589543bdbfdd6fe06942ccc5",
       "version_major": 2,
       "version_minor": 0
      },
      "text/plain": [
       "HBox(children=(IntProgress(value=1, bar_style='info', max=1), HTML(value='')))"
      ]
     },
     "metadata": {},
     "output_type": "display_data"
    },
    {
     "name": "stdout",
     "output_type": "stream",
     "text": [
      "\n",
      "Total 1917494 word vectors in Glove 42B 300d.\n"
     ]
    },
    {
     "data": {
      "application/vnd.jupyter.widget-view+json": {
       "model_id": "5d61874831684d45b5339cb6305efcd8",
       "version_major": 2,
       "version_minor": 0
      },
      "text/plain": [
       "HBox(children=(IntProgress(value=0, max=20031), HTML(value='')))"
      ]
     },
     "metadata": {},
     "output_type": "display_data"
    },
    {
     "name": "stdout",
     "output_type": "stream",
     "text": [
      "\n",
      "CPU times: user 1min 34s, sys: 4 s, total: 1min 38s\n",
      "Wall time: 1min 37s\n"
     ]
    }
   ],
   "source": [
    "%%time\n",
    "\n",
    "generating_embed(baseline, GLOVE_DIR=GLOVE_DIR, EMBEDDING_DIM=EMBEDDING_DIM) # MAX_NB_WORDS=MAX_NB_WORDS"
   ]
  },
  {
   "cell_type": "markdown",
   "metadata": {},
   "source": [
    "## Experiment"
   ]
  },
  {
   "cell_type": "markdown",
   "metadata": {
    "colab_type": "text",
    "id": "Lev5Y7oaFQBd"
   },
   "source": [
    "## Towards Accurate Duplicate Bug Retrieval Using Deep Learning Techniques\n",
    "\n",
    "https://github.com/tqtg/DuplicateBugFinder"
   ]
  },
  {
   "cell_type": "markdown",
   "metadata": {},
   "source": [
    "### Embedding layer"
   ]
  },
  {
   "cell_type": "code",
   "execution_count": 30,
   "metadata": {},
   "outputs": [],
   "source": [
    "from keras.constraints import MaxNorm\n",
    "from keras.initializers import TruncatedNormal, RandomUniform\n",
    "\n",
    "# Is missing the padding_idx used in pytorch\n",
    "# https://pytorch.org/docs/stable/_modules/torch/nn/modules/sparse.html\n",
    "# https://stackoverflow.com/questions/54824768/rnn-model-gru-of-word2vec-to-regression-not-learning\n",
    "def embedding_layer(embeddings, num_words, embedding_dim, max_sequence_length, trainable):\n",
    "    embedding_layer = Embedding(num_words,\n",
    "                                  embedding_dim,\n",
    "                                  name='embedding_layer',\n",
    "                                  weights=[embeddings],\n",
    "                                  embeddings_constraint=MaxNorm(max_value=1, axis=0),\n",
    "                                  #input_length=max_sequence_length,\n",
    "                                  input_length=None,\n",
    "                                  trainable=trainable)\n",
    "    return embedding_layer"
   ]
  },
  {
   "cell_type": "markdown",
   "metadata": {
    "colab_type": "text",
    "id": "sI074wU4Y13y"
   },
   "source": [
    "### CNN with filter 3,4,5"
   ]
  },
  {
   "cell_type": "code",
   "execution_count": 31,
   "metadata": {
    "colab": {
     "base_uri": "https://localhost:8080/",
     "height": 493
    },
    "colab_type": "code",
    "id": "h6YJU9GtFTyq",
    "outputId": "f85cf105-1fd6-491d-d969-7e6936f32739",
    "scrolled": false
   },
   "outputs": [],
   "source": [
    "import keras\n",
    "from keras.layers import GlobalMaxPooling1D, GlobalAveragePooling1D\n",
    "\n",
    "def cnn_model(embedding_layer, max_sequence_length):\n",
    "\n",
    "    sequence_input = Input(shape=(max_sequence_length,), name='Feature_BugInput')\n",
    "    #sequence_input = Input(shape=(None,), name='Feature_BugInput')\n",
    "    embedded_sequences = embedding_layer(sequence_input)\n",
    "\n",
    "    # Yoon Kim model (https://arxiv.org/abs/1408.5882)\n",
    "    # best combination filter (3, 4, 5) e 128 e 256\n",
    "    convs = []\n",
    "    filter_sizes = [3, 4, 5]\n",
    "    n_filters = 64\n",
    "\n",
    "    for index, filter_size in enumerate(filter_sizes):\n",
    "        l_conv = Conv1D(filters=n_filters, kernel_size=filter_size)(embedded_sequences)\n",
    "        l_pool = MaxPooling1D(pool_size=filter_size)(l_conv) # index+1\n",
    "        convs.append(l_pool)\n",
    "\n",
    "    l_merge = Concatenate(axis=1)(convs)\n",
    "\n",
    "    # add a 1D convnet with global maxpooling, instead of Yoon Kim model\n",
    "    #conv = Conv1D(filters=n_filters * 3, kernel_size=3)(l_merge)\n",
    "    layer = GlobalAveragePooling1D()(l_merge)\n",
    "    #layer = Flatten()(l_merge)\n",
    "    layer = Dense(300, activation='tanh')(layer)\n",
    "    #layer = LeakyReLU()(layer)\n",
    "\n",
    "    cnn_feature_model = Model(inputs=[sequence_input], outputs=[layer], name = 'FeatureCNNGenerationModel') # inputs=visible\n",
    "\n",
    "    return cnn_feature_model"
   ]
  },
  {
   "cell_type": "markdown",
   "metadata": {
    "colab_type": "text",
    "id": "wr6ObTXiaALH"
   },
   "source": [
    "### Bi-LSTM"
   ]
  },
  {
   "cell_type": "code",
   "execution_count": 32,
   "metadata": {
    "colab": {
     "base_uri": "https://localhost:8080/",
     "height": 306
    },
    "colab_type": "code",
    "id": "vC7MQXEsaCeG",
    "outputId": "65e647a9-c5d3-4009-b8a4-2e2d97b52684"
   },
   "outputs": [],
   "source": [
    "from keras.layers import Dense, Input, LSTM, GRU, Dropout, Bidirectional, GlobalAveragePooling1D, TimeDistributed\n",
    "\n",
    "def lstm_model(embedding_layer, max_sequence_length):\n",
    "    number_lstm_units = 75\n",
    "    rate_drop_lstm = 0\n",
    "    recurrent_dropout = 0\n",
    "\n",
    "    sequence_input = Input(shape=(max_sequence_length, ), name='Feature_BugInput')\n",
    "    #sequence_input = Input(shape=(None, ), name='Feature_BugInput')\n",
    "    embedded_sequences = embedding_layer(sequence_input)\n",
    "\n",
    "    left_layer = LSTM(number_lstm_units, return_sequences=True)(embedded_sequences)\n",
    "    right_layer = LSTM(number_lstm_units, return_sequences=True, go_backwards=True)(left_layer)\n",
    "    \n",
    "    lstm_layer = Concatenate()([left_layer, right_layer])\n",
    "    \n",
    "    #lstm_layer = TimeDistributed(Dense(50))(lstm_layer)\n",
    "    #layer = Flatten()(lstm_layer)\n",
    "    layer = GlobalAveragePooling1D()(lstm_layer)\n",
    "    layer = Dense(300, activation='tanh')(layer)\n",
    "\n",
    "    lstm_feature_model = Model(inputs=[sequence_input], outputs=[layer], name = 'FeatureLstmGenerationModel') # inputs=visible\n",
    "\n",
    "    return lstm_feature_model"
   ]
  },
  {
   "cell_type": "markdown",
   "metadata": {},
   "source": [
    "### MLP"
   ]
  },
  {
   "cell_type": "code",
   "execution_count": 33,
   "metadata": {},
   "outputs": [],
   "source": [
    "def mlp_model(input_size):\n",
    "    info_input = Input(shape=(input_size, ), name='Feature_BugInput')\n",
    "    input_size = 300\n",
    "    \n",
    "    for units in [64, 32]:\n",
    "        layer = Dense(units, activation='tanh', kernel_initializer='random_uniform')(info_input)\n",
    "    \n",
    "    layer = Dense(input_size, activation='tanh')(info_input)\n",
    "    \n",
    "    mlp_feature_model = Model(inputs=[info_input], outputs=[layer], name = 'FeatureMlpGenerationModel')\n",
    "    \n",
    "    return mlp_feature_model"
   ]
  },
  {
   "cell_type": "markdown",
   "metadata": {
    "colab_type": "text",
    "id": "TEedCg5AaTf2"
   },
   "source": [
    "### Siamese model"
   ]
  },
  {
   "cell_type": "code",
   "execution_count": 34,
   "metadata": {},
   "outputs": [],
   "source": [
    "def pairwise_distance(feature, squared=False):\n",
    "    \"\"\"Computes the pairwise distance matrix with numerical stability.\n",
    "\n",
    "    output[i, j] = || feature[i, :] - feature[j, :] ||_2\n",
    "\n",
    "    Args:\n",
    "      feature: 2-D Tensor of size [number of data, feature dimension].\n",
    "      squared: Boolean, whether or not to square the pairwise distances.\n",
    "\n",
    "    Returns:\n",
    "      pairwise_distances: 2-D Tensor of size [number of data, number of data].\n",
    "    \"\"\"\n",
    "    pairwise_distances_squared = math_ops.add(\n",
    "        math_ops.reduce_sum(math_ops.square(feature), axis=[1], keepdims=True),\n",
    "        math_ops.reduce_sum(\n",
    "            math_ops.square(array_ops.transpose(feature)),\n",
    "            axis=[0],\n",
    "            keepdims=True)) - 2.0 * math_ops.matmul(feature,\n",
    "                                                    array_ops.transpose(feature))\n",
    "\n",
    "    # Deal with numerical inaccuracies. Set small negatives to zero.\n",
    "    pairwise_distances_squared = math_ops.maximum(pairwise_distances_squared, 0.0)\n",
    "    # Get the mask where the zero distances are at.\n",
    "    error_mask = math_ops.less_equal(pairwise_distances_squared, 0.0)\n",
    "\n",
    "    # Optionally take the sqrt.\n",
    "    if squared:\n",
    "        pairwise_distances = pairwise_distances_squared\n",
    "    else:\n",
    "        pairwise_distances = math_ops.sqrt(\n",
    "            pairwise_distances_squared + math_ops.to_float(error_mask) * 1e-16)\n",
    "\n",
    "    # Undo conditionally adding 1e-16.\n",
    "    pairwise_distances = math_ops.multiply(\n",
    "        pairwise_distances, math_ops.to_float(math_ops.logical_not(error_mask)))\n",
    "\n",
    "    num_data = array_ops.shape(feature)[0]\n",
    "    # Explicitly set diagonals to zero.\n",
    "    mask_offdiagonals = array_ops.ones_like(pairwise_distances) - array_ops.diag(\n",
    "        array_ops.ones([num_data]))\n",
    "    pairwise_distances = math_ops.multiply(pairwise_distances, mask_offdiagonals)\n",
    "    return pairwise_distances\n",
    "\n",
    "def masked_maximum(data, mask, dim=1):\n",
    "    \"\"\"Computes the axis wise maximum over chosen elements.\n",
    "\n",
    "    Args:\n",
    "      data: 2-D float `Tensor` of size [n, m].\n",
    "      mask: 2-D Boolean `Tensor` of size [n, m].\n",
    "      dim: The dimension over which to compute the maximum.\n",
    "\n",
    "    Returns:\n",
    "      masked_maximums: N-D `Tensor`.\n",
    "        The maximized dimension is of size 1 after the operation.\n",
    "    \"\"\"\n",
    "    axis_minimums = math_ops.reduce_min(data, dim, keepdims=True)\n",
    "    masked_maximums = math_ops.reduce_max(\n",
    "        math_ops.multiply(data - axis_minimums, mask), dim,\n",
    "        keepdims=True) + axis_minimums\n",
    "    return masked_maximums\n",
    "\n",
    "def masked_minimum(data, mask, dim=1):\n",
    "    \"\"\"Computes the axis wise minimum over chosen elements.\n",
    "\n",
    "    Args:\n",
    "      data: 2-D float `Tensor` of size [n, m].\n",
    "      mask: 2-D Boolean `Tensor` of size [n, m].\n",
    "      dim: The dimension over which to compute the minimum.\n",
    "\n",
    "    Returns:\n",
    "      masked_minimums: N-D `Tensor`.\n",
    "        The minimized dimension is of size 1 after the operation.\n",
    "    \"\"\"\n",
    "    axis_maximums = math_ops.reduce_max(data, dim, keepdims=True)\n",
    "    masked_minimums = math_ops.reduce_min(\n",
    "        math_ops.multiply(data - axis_maximums, mask), dim,\n",
    "        keepdims=True) + axis_maximums\n",
    "    return masked_minimums"
   ]
  },
  {
   "cell_type": "code",
   "execution_count": 35,
   "metadata": {},
   "outputs": [],
   "source": [
    "## required for semi-hard triplet loss:\n",
    "from tensorflow.python.ops import array_ops\n",
    "from tensorflow.python.ops import math_ops\n",
    "from tensorflow.python.framework import dtypes\n",
    "import tensorflow as tf\n",
    "\n",
    "def triplet_loss_adapted_from_tf(y_true, y_pred):\n",
    "    del y_true\n",
    "    margin = 1.\n",
    "    labels = y_pred[:, :1]\n",
    " \n",
    "    labels = tf.cast(labels, dtype='int32')\n",
    "\n",
    "    embeddings = y_pred[:, 1:]\n",
    "\n",
    "    ### Code from Tensorflow function [tf.contrib.losses.metric_learning.triplet_semihard_loss] starts here:\n",
    "    \n",
    "    # Reshape [batch_size] label tensor to a [batch_size, 1] label tensor.\n",
    "    # lshape=array_ops.shape(labels)\n",
    "    # assert lshape.shape == 1\n",
    "    # labels = array_ops.reshape(labels, [lshape[0], 1])\n",
    "\n",
    "    # Build pairwise squared distance matrix.\n",
    "    pdist_matrix = pairwise_distance(embeddings, squared=True)\n",
    "    # Build pairwise binary adjacency matrix.\n",
    "    adjacency = math_ops.equal(labels, array_ops.transpose(labels))\n",
    "    # Invert so we can select negatives only.\n",
    "    adjacency_not = math_ops.logical_not(adjacency)\n",
    "\n",
    "    # global batch_size  \n",
    "    batch_size = array_ops.size(labels) # was 'array_ops.size(labels)'\n",
    "\n",
    "    # Compute the mask.\n",
    "    pdist_matrix_tile = array_ops.tile(pdist_matrix, [batch_size, 1])\n",
    "    mask = math_ops.logical_and(\n",
    "        array_ops.tile(adjacency_not, [batch_size, 1]),\n",
    "        math_ops.greater(\n",
    "            pdist_matrix_tile, array_ops.reshape(\n",
    "                array_ops.transpose(pdist_matrix), [-1, 1])))\n",
    "    mask_final = array_ops.reshape(\n",
    "        math_ops.greater(\n",
    "            math_ops.reduce_sum(\n",
    "                math_ops.cast(mask, dtype=dtypes.float32), 1, keepdims=True),\n",
    "            0.0), [batch_size, batch_size])\n",
    "    mask_final = array_ops.transpose(mask_final)\n",
    "\n",
    "    adjacency_not = math_ops.cast(adjacency_not, dtype=dtypes.float32)\n",
    "    mask = math_ops.cast(mask, dtype=dtypes.float32)\n",
    "\n",
    "    # negatives_outside: smallest D_an where D_an > D_ap.\n",
    "    negatives_outside = array_ops.reshape(\n",
    "        masked_minimum(pdist_matrix_tile, mask), [batch_size, batch_size])\n",
    "    negatives_outside = array_ops.transpose(negatives_outside)\n",
    "\n",
    "    # negatives_inside: largest D_an.\n",
    "    negatives_inside = array_ops.tile(\n",
    "        masked_maximum(pdist_matrix, adjacency_not), [1, batch_size])\n",
    "    semi_hard_negatives = array_ops.where(\n",
    "        mask_final, negatives_outside, negatives_inside)\n",
    "\n",
    "    loss_mat = math_ops.add(margin, pdist_matrix - semi_hard_negatives)\n",
    "\n",
    "    mask_positives = math_ops.cast(\n",
    "        adjacency, dtype=dtypes.float32) - array_ops.diag(\n",
    "        array_ops.ones([batch_size]))\n",
    "\n",
    "    # In lifted-struct, the authors multiply 0.5 for upper triangular\n",
    "    #   in semihard, they take all positive pairs except the diagonal.\n",
    "    num_positives = math_ops.reduce_sum(mask_positives)\n",
    "\n",
    "    semi_hard_triplet_loss_distance = math_ops.truediv(\n",
    "        math_ops.reduce_sum(\n",
    "            math_ops.maximum(\n",
    "                math_ops.multiply(loss_mat, mask_positives), 0.0)),\n",
    "        num_positives,\n",
    "        name='triplet_semihard_loss')\n",
    "    \n",
    "    ### Code from Tensorflow function semi-hard triplet loss ENDS here.\n",
    "    return semi_hard_triplet_loss_distance"
   ]
  },
  {
   "cell_type": "code",
   "execution_count": 36,
   "metadata": {},
   "outputs": [],
   "source": [
    "from keras.layers import concatenate, Add, Lambda, merge, Average, Maximum\n",
    "from keras.optimizers import Adam, Nadam\n",
    "\n",
    "def siamese_model(title_feature_model, desc_feature_model, categorical_feature_model, sequence_length_info, \n",
    "                  sequence_length_t, sequence_length_d, name):\n",
    "  \n",
    "    bug_t = Input(shape = (sequence_length_t, ), name = 'title_{}'.format(name))\n",
    "    bug_d = Input(shape = (sequence_length_d, ), name = 'desc_{}'.format(name))\n",
    "    bug_i = Input(shape = (sequence_length_info, ), name = 'info_{}'.format(name))\n",
    "    \n",
    "    bug_t_feat = title_feature_model(bug_t)\n",
    "    bug_d_feat = desc_feature_model(bug_d)\n",
    "    bug_i_feat = categorical_feature_model(bug_i)\n",
    "    \n",
    "    #bug_feature_output = Add(name = 'merge_features_{}'.format(name))([bug_i_feat, bug_t_feat, bug_d_feat])\n",
    "    bug_feature_output = concatenate([bug_i_feat, bug_t_feat, bug_d_feat], name = 'merge_features_{}'.format(name))\n",
    "    \n",
    "    #     bug_feature_output = Activation('tanh')(bug_feature_output)\n",
    "    \n",
    "    # Bug representation layer\n",
    "    # bug_feature_output = Dense(300, activation='tanh')(bug_feature_output)\n",
    "    \n",
    "    bug_feature_model = Model(inputs=[bug_t, bug_d, bug_i], outputs=[bug_feature_output], name = 'merge_features_{}'.format(name))\n",
    "    \n",
    "    return bug_feature_model"
   ]
  },
  {
   "cell_type": "code",
   "execution_count": 37,
   "metadata": {},
   "outputs": [],
   "source": [
    "def max_margin_objective(encoded_anchor, decay_lr=1):\n",
    "    \n",
    "    input_labels = Input(shape=(1,), name='input_label')    # input layer for labels\n",
    "    inputs = np.concatenate([encoded_anchor.input, [input_labels]], -1).tolist()\n",
    "    \n",
    "    encoded_anchor = encoded_anchor.output\n",
    "    \n",
    "    output = concatenate([input_labels, encoded_anchor])  # concatenating the labels + embeddings\n",
    "    \n",
    "    similarity_model = Model(inputs = inputs, outputs = output, name = 'Similarity_Model')\n",
    "\n",
    "    #optimizer = Nadam(lr=1e-3, beta_1=0.9, beta_2=0.999, epsilon=K.epsilon(), schedule_decay=0.01)\n",
    "    # optimizer = Adam(lr=1e-3 * decay_lr, beta_1=0.9, beta_2=0.999, epsilon=None, decay=0.0, amsgrad=True)\n",
    "\n",
    "    # setup the optimization process \n",
    "    similarity_model.compile(optimizer='adam', loss=triplet_loss_adapted_from_tf) \n",
    "    # metrics=[pos_distance, neg_distance, custom_margin_loss]\n",
    "\n",
    "    return similarity_model"
   ]
  },
  {
   "cell_type": "code",
   "execution_count": 38,
   "metadata": {},
   "outputs": [],
   "source": [
    "# Domain to use\n",
    "limit_train = int(epochs * freeze_train) # 10% de 1000 , 100 epocas\n",
    "METHOD = 'baseline_{}'.format(limit_train)\n",
    "SAVE_PATH = '{}_preprocessing_{}_feature@number_of_epochs@epochs_64batch({})'.format(PREPROCESSING, METHOD, DOMAIN)\n",
    "SAVE_PATH_FEATURE = '{}_preprocessing_{}_feature_@number_of_epochs@epochs_64batch({})'.format(PREPROCESSING, METHOD, DOMAIN)"
   ]
  },
  {
   "cell_type": "code",
   "execution_count": 39,
   "metadata": {},
   "outputs": [],
   "source": [
    "import _pickle as pickle\n",
    "def save_loss(result):\n",
    "    with open(os.path.join(DIR,'{}_log.pkl'.format(METHOD)), 'wb') as f:\n",
    "        pickle.dump(result, f)\n",
    "    print(\"=> result saved!\")"
   ]
  },
  {
   "cell_type": "code",
   "execution_count": 40,
   "metadata": {
    "scrolled": true
   },
   "outputs": [
    {
     "name": "stdout",
     "output_type": "stream",
     "text": [
      "WARNING:tensorflow:From /usr/local/lib/python3.5/dist-packages/keras/backend/tensorflow_backend.py:95: The name tf.reset_default_graph is deprecated. Please use tf.compat.v1.reset_default_graph instead.\n",
      "\n",
      "WARNING:tensorflow:From /usr/local/lib/python3.5/dist-packages/keras/backend/tensorflow_backend.py:98: The name tf.placeholder_with_default is deprecated. Please use tf.compat.v1.placeholder_with_default instead.\n",
      "\n",
      "WARNING:tensorflow:From /usr/local/lib/python3.5/dist-packages/keras/backend/tensorflow_backend.py:102: The name tf.get_default_graph is deprecated. Please use tf.compat.v1.get_default_graph instead.\n",
      "\n",
      "WARNING:tensorflow:From /usr/local/lib/python3.5/dist-packages/keras/backend/tensorflow_backend.py:517: The name tf.placeholder is deprecated. Please use tf.compat.v1.placeholder instead.\n",
      "\n",
      "WARNING:tensorflow:From /usr/local/lib/python3.5/dist-packages/keras/backend/tensorflow_backend.py:4138: The name tf.random_uniform is deprecated. Please use tf.random.uniform instead.\n",
      "\n",
      "WARNING:tensorflow:From /usr/local/lib/python3.5/dist-packages/keras/backend/tensorflow_backend.py:174: The name tf.get_default_session is deprecated. Please use tf.compat.v1.get_default_session instead.\n",
      "\n",
      "WARNING:tensorflow:From /usr/local/lib/python3.5/dist-packages/keras/backend/tensorflow_backend.py:181: The name tf.ConfigProto is deprecated. Please use tf.compat.v1.ConfigProto instead.\n",
      "\n",
      "WARNING:tensorflow:From /usr/local/lib/python3.5/dist-packages/keras/backend/tensorflow_backend.py:186: The name tf.Session is deprecated. Please use tf.compat.v1.Session instead.\n",
      "\n",
      "WARNING:tensorflow:From /usr/local/lib/python3.5/dist-packages/keras/backend/tensorflow_backend.py:190: The name tf.global_variables is deprecated. Please use tf.compat.v1.global_variables instead.\n",
      "\n",
      "WARNING:tensorflow:From /usr/local/lib/python3.5/dist-packages/keras/backend/tensorflow_backend.py:199: The name tf.is_variable_initialized is deprecated. Please use tf.compat.v1.is_variable_initialized instead.\n",
      "\n",
      "WARNING:tensorflow:From /usr/local/lib/python3.5/dist-packages/keras/backend/tensorflow_backend.py:206: The name tf.variables_initializer is deprecated. Please use tf.compat.v1.variables_initializer instead.\n",
      "\n",
      "WARNING:tensorflow:From /usr/local/lib/python3.5/dist-packages/keras/backend/tensorflow_backend.py:3976: The name tf.nn.max_pool is deprecated. Please use tf.nn.max_pool2d instead.\n",
      "\n",
      "WARNING:tensorflow:From /usr/local/lib/python3.5/dist-packages/keras/optimizers.py:790: The name tf.train.Optimizer is deprecated. Please use tf.compat.v1.train.Optimizer instead.\n",
      "\n",
      "WARNING:tensorflow:From <ipython-input-34-cd325db98846>:35: to_float (from tensorflow.python.ops.math_ops) is deprecated and will be removed in a future version.\n",
      "Instructions for updating:\n",
      "Use `tf.cast` instead.\n",
      "WARNING:tensorflow:From <ipython-input-35-3672f63e3254>:59: where (from tensorflow.python.ops.array_ops) is deprecated and will be removed in a future version.\n",
      "Instructions for updating:\n",
      "Use tf.where in 2.0, which has the same broadcast rule as np.where\n",
      "__________________________________________________________________________________________________\n",
      "Layer (type)                    Output Shape         Param #     Connected to                     \n",
      "==================================================================================================\n",
      "info_in (InputLayer)            (None, 738)          0                                            \n",
      "__________________________________________________________________________________________________\n",
      "title_in (InputLayer)           (None, 20)           0                                            \n",
      "__________________________________________________________________________________________________\n",
      "desc_in (InputLayer)            (None, 20)           0                                            \n",
      "__________________________________________________________________________________________________\n",
      "FeatureMlpGenerationModel (Mode (None, 300)          221700      info_in[0][0]                    \n",
      "__________________________________________________________________________________________________\n",
      "FeatureLstmGenerationModel (Mod (None, 300)          581460900   title_in[0][0]                   \n",
      "__________________________________________________________________________________________________\n",
      "FeatureCNNGenerationModel (Mode (None, 300)          581507592   desc_in[0][0]                    \n",
      "__________________________________________________________________________________________________\n",
      "input_label (InputLayer)        (None, 1)            0                                            \n",
      "__________________________________________________________________________________________________\n",
      "merge_features_in (Concatenate) (None, 900)          0           FeatureMlpGenerationModel[1][0]  \n",
      "                                                                 FeatureLstmGenerationModel[1][0] \n",
      "                                                                 FeatureCNNGenerationModel[1][0]  \n",
      "__________________________________________________________________________________________________\n",
      "concatenate_3 (Concatenate)     (None, 901)          0           input_label[0][0]                \n",
      "                                                                 merge_features_in[0][0]          \n",
      "==================================================================================================\n",
      "Total params: 1,163,190,192\n",
      "Trainable params: 675,192\n",
      "Non-trainable params: 1,162,515,000\n",
      "__________________________________________________________________________________________________\n",
      "Total of  100\n",
      "WARNING:tensorflow:From /usr/local/lib/python3.5/dist-packages/keras/backend/tensorflow_backend.py:986: The name tf.assign_add is deprecated. Please use tf.compat.v1.assign_add instead.\n",
      "\n",
      "WARNING:tensorflow:From /usr/local/lib/python3.5/dist-packages/keras/backend/tensorflow_backend.py:973: The name tf.assign is deprecated. Please use tf.compat.v1.assign instead.\n",
      "\n",
      "Epoch: 1 Loss: 0.94, Loss_test: 0.94\n",
      "Epoch: 2 Loss: 0.91, Loss_test: 0.93\n",
      "Epoch: 3 Loss: 0.91, Loss_test: 0.91\n",
      "Epoch: 4 Loss: 0.87, Loss_test: 0.89\n",
      "Epoch: 5 Loss: 0.87, Loss_test: 0.86\n",
      "Epoch: 6 Loss: 0.84, Loss_test: 0.83\n",
      "Epoch: 7 Loss: 0.82, Loss_test: 0.80\n",
      "Epoch: 8 Loss: 0.75, Loss_test: 0.76\n",
      "Epoch: 9 Loss: 0.75, Loss_test: 0.71\n",
      "=> result saved!\n",
      "Epoch: 10 Loss: 0.64, Loss_test: 0.66\n",
      "Epoch: 11 Loss: 0.53, Loss_test: 0.59\n",
      "Epoch: 12 Loss: 0.69, Loss_test: 0.46\n",
      "Epoch: 13 Loss: 0.51, Loss_test: 0.35\n",
      "Epoch: 14 Loss: 0.52, Loss_test: 0.30\n",
      "Epoch: 15 Loss: 0.53, Loss_test: 0.24\n",
      "Epoch: 16 Loss: 0.45, Loss_test: 0.19\n",
      "Epoch: 17 Loss: 0.23, Loss_test: 0.17\n",
      "Epoch: 18 Loss: 0.25, Loss_test: 0.14\n",
      "Epoch: 19 Loss: 0.23, Loss_test: 0.12\n",
      "=> result saved!\n",
      "Epoch: 20 Loss: 0.22, Loss_test: 0.10\n",
      "Epoch: 21 Loss: 0.13, Loss_test: 0.09\n",
      "Epoch: 22 Loss: 0.07, Loss_test: 0.08\n",
      "Epoch: 23 Loss: 0.18, Loss_test: 0.09\n",
      "Epoch: 24 Loss: 0.07, Loss_test: 0.09\n",
      "Epoch: 25 Loss: 0.23, Loss_test: 0.09\n",
      "Epoch: 26 Loss: 0.06, Loss_test: 0.08\n",
      "Epoch: 27 Loss: 0.17, Loss_test: 0.08\n",
      "Epoch: 28 Loss: 0.08, Loss_test: 0.08\n",
      "Epoch: 29 Loss: 0.08, Loss_test: 0.08\n",
      "=> result saved!\n",
      "Epoch: 30 Loss: 0.15, Loss_test: 0.07\n",
      "Epoch: 31 Loss: 0.09, Loss_test: 0.07\n",
      "Epoch: 32 Loss: 0.08, Loss_test: 0.07\n",
      "Epoch: 33 Loss: 0.09, Loss_test: 0.07\n",
      "Epoch: 34 Loss: 0.07, Loss_test: 0.07\n",
      "Epoch: 35 Loss: 0.09, Loss_test: 0.07\n",
      "Epoch: 36 Loss: 0.08, Loss_test: 0.07\n",
      "Epoch: 37 Loss: 0.07, Loss_test: 0.07\n",
      "Epoch: 38 Loss: 0.05, Loss_test: 0.07\n",
      "Epoch: 39 Loss: 0.10, Loss_test: 0.07\n",
      "=> result saved!\n",
      "Epoch: 40 Loss: 0.22, Loss_test: 0.07\n",
      "Epoch: 41 Loss: 0.08, Loss_test: 0.07\n",
      "Epoch: 42 Loss: 0.04, Loss_test: 0.07\n",
      "Epoch: 43 Loss: 0.08, Loss_test: 0.07\n",
      "Epoch: 44 Loss: 0.02, Loss_test: 0.07\n",
      "Epoch: 45 Loss: 0.08, Loss_test: 0.07\n",
      "Epoch: 46 Loss: 0.06, Loss_test: 0.07\n",
      "Epoch: 47 Loss: 0.08, Loss_test: 0.07\n",
      "Epoch: 48 Loss: 0.08, Loss_test: 0.07\n",
      "Epoch: 49 Loss: 0.14, Loss_test: 0.07\n",
      "=> result saved!\n",
      "Epoch: 50 Loss: 0.07, Loss_test: 0.07\n",
      "Epoch: 51 Loss: 0.04, Loss_test: 0.07\n",
      "Epoch: 52 Loss: 0.09, Loss_test: 0.07\n",
      "Epoch: 53 Loss: 0.17, Loss_test: 0.07\n",
      "Epoch: 54 Loss: 0.06, Loss_test: 0.07\n",
      "Epoch: 55 Loss: 0.05, Loss_test: 0.07\n",
      "Epoch: 56 Loss: 0.09, Loss_test: 0.07\n",
      "Epoch: 57 Loss: 0.06, Loss_test: 0.07\n"
     ]
    },
    {
     "name": "stdout",
     "output_type": "stream",
     "text": [
      "Epoch: 58 Loss: 0.11, Loss_test: 0.06\n",
      "Epoch: 59 Loss: 0.07, Loss_test: 0.06\n",
      "=> result saved!\n",
      "Epoch: 60 Loss: 0.10, Loss_test: 0.06\n",
      "Epoch: 61 Loss: 0.04, Loss_test: 0.06\n",
      "Epoch: 62 Loss: 0.08, Loss_test: 0.06\n",
      "Epoch: 63 Loss: 0.06, Loss_test: 0.06\n",
      "Epoch: 64 Loss: 0.13, Loss_test: 0.06\n",
      "Epoch: 65 Loss: 0.09, Loss_test: 0.06\n",
      "Epoch: 66 Loss: 0.05, Loss_test: 0.06\n",
      "Epoch: 67 Loss: 0.05, Loss_test: 0.06\n",
      "Epoch: 68 Loss: 0.04, Loss_test: 0.06\n",
      "Epoch: 69 Loss: 0.08, Loss_test: 0.06\n",
      "=> result saved!\n",
      "Epoch: 70 Loss: 0.07, Loss_test: 0.06\n",
      "Epoch: 71 Loss: 0.05, Loss_test: 0.06\n",
      "Epoch: 72 Loss: 0.11, Loss_test: 0.06\n",
      "Epoch: 73 Loss: 0.08, Loss_test: 0.06\n",
      "Epoch: 74 Loss: 0.06, Loss_test: 0.06\n",
      "Epoch: 75 Loss: 0.06, Loss_test: 0.06\n",
      "Epoch: 76 Loss: 0.06, Loss_test: 0.06\n",
      "Epoch: 77 Loss: 0.08, Loss_test: 0.06\n",
      "Epoch: 78 Loss: 0.05, Loss_test: 0.06\n",
      "Epoch: 79 Loss: 0.04, Loss_test: 0.06\n",
      "=> result saved!\n",
      "Epoch: 80 Loss: 0.06, Loss_test: 0.06\n",
      "Epoch: 81 Loss: 0.03, Loss_test: 0.06\n",
      "Epoch: 82 Loss: 0.06, Loss_test: 0.06\n",
      "Epoch: 83 Loss: 0.04, Loss_test: 0.06\n",
      "Epoch: 84 Loss: 0.05, Loss_test: 0.06\n",
      "Epoch: 85 Loss: 0.09, Loss_test: 0.06\n",
      "Epoch: 86 Loss: 0.04, Loss_test: 0.06\n",
      "Epoch: 87 Loss: 0.07, Loss_test: 0.06\n",
      "Epoch: 88 Loss: 0.03, Loss_test: 0.06\n",
      "Epoch: 89 Loss: 0.06, Loss_test: 0.06\n",
      "=> result saved!\n",
      "Epoch: 90 Loss: 0.08, Loss_test: 0.06\n",
      "Epoch: 91 Loss: 0.02, Loss_test: 0.06\n",
      "Epoch: 92 Loss: 0.09, Loss_test: 0.06\n",
      "Epoch: 93 Loss: 0.06, Loss_test: 0.06\n",
      "Epoch: 94 Loss: 0.06, Loss_test: 0.06\n",
      "Epoch: 95 Loss: 0.05, Loss_test: 0.06\n",
      "Epoch: 96 Loss: 0.04, Loss_test: 0.06\n",
      "Epoch: 97 Loss: 0.10, Loss_test: 0.06\n",
      "Epoch: 98 Loss: 0.06, Loss_test: 0.06\n",
      "Epoch: 99 Loss: 0.05, Loss_test: 0.06\n",
      "=> result saved!\n",
      "Epoch: 100 Loss: 0.06, Loss_test: 0.06, recall@25: 0.38\n",
      "Best_epoch=44, Best_loss=0.02, Recall@25=0.38\n",
      "CPU times: user 8min 21s, sys: 1min 22s, total: 9min 44s\n",
      "Wall time: 2min 49s\n"
     ]
    }
   ],
   "source": [
    "%%time\n",
    "import keras\n",
    "\n",
    "# Inspired on https://'pastebin.com/TaGFdcBA\n",
    "# TODO: https://stackoverflow.com/questions/49941903/keras-compute-cosine-distance-between-two-flattened-outputs\n",
    "keras.backend.clear_session()\n",
    "\n",
    "# Clear GPU memory\n",
    "# from numba import cuda\n",
    "# cuda.select_device(0)\n",
    "# cuda.close()\n",
    "\n",
    "# Embeddings\n",
    "desc_embedding_layer = embedding_layer(embeddings=baseline.embedding_matrix, \n",
    "                              num_words=len(baseline.embedding_matrix), \n",
    "                              embedding_dim=EMBEDDING_DIM, \n",
    "                              max_sequence_length=MAX_SEQUENCE_LENGTH_D, \n",
    "                              trainable=False)\n",
    "title_embedding_layer = embedding_layer(embeddings=baseline.embedding_matrix, \n",
    "                              num_words=len(baseline.embedding_matrix), \n",
    "                              embedding_dim=EMBEDDING_DIM, \n",
    "                              max_sequence_length=MAX_SEQUENCE_LENGTH_T, \n",
    "                              trainable=False)\n",
    "\n",
    "# Feature models\n",
    "'''\n",
    "    cnn_model\n",
    "    lstm_model\n",
    "    mlp_model\n",
    "'''\n",
    "desc_feature_model = cnn_model(desc_embedding_layer, MAX_SEQUENCE_LENGTH_D)\n",
    "title_feature_model = lstm_model(title_embedding_layer, MAX_SEQUENCE_LENGTH_T)\n",
    "categorical_feature_model = mlp_model(number_of_columns_info)\n",
    "\n",
    "# Similarity model\n",
    "encoded_anchor = siamese_model(title_feature_model, desc_feature_model, categorical_feature_model, \n",
    "                                     number_of_columns_info, MAX_SEQUENCE_LENGTH_T, MAX_SEQUENCE_LENGTH_D, 'in')\n",
    "\n",
    "similarity_model = max_margin_objective(encoded_anchor, decay_lr=1)\n",
    "\n",
    "# cnn_feature_model.summary()\n",
    "# lstm_feature_model.summary()\n",
    "similarity_model.summary()\n",
    "\n",
    "'''\n",
    "    Experiment\n",
    "'''\n",
    "result = { 'train' : [], 'test' : [] }\n",
    "print(\"Total of \", limit_train)\n",
    "for epoch in range(limit_train):\n",
    "    batch_triplet_train, \\\n",
    "        train_input_sample, train_sim = batch_iterator(baseline, retrieval, encoded_anchor, baseline.train_data, \n",
    "                                                       baseline.dup_sets_train, bug_train_ids, \n",
    "                                                           batch_size, 1, issues_by_buckets, TRIPLET_HARD=False)\n",
    "    train_batch = [train_input_sample['title'], train_input_sample['description'], train_input_sample['info'], train_sim]\n",
    "    \n",
    "    h = similarity_model.train_on_batch(x=train_batch, y=train_sim)\n",
    "    h_validation = similarity_model.test_on_batch(x=validation_sample, y=valid_sim)\n",
    "    \n",
    "     # save results\n",
    "    result['train'].append([h])\n",
    "    result['test'].append([h_validation])\n",
    "    \n",
    "    if( (epoch+1) % 10 == 0 or (epoch+1 == limit_train) ):\n",
    "        save_loss(result)\n",
    "    \n",
    "    if (epoch+1 == limit_train): #(epoch > 1 and epoch % 10 == 0) or (epoch+1 == epochs):\n",
    "        recall, exported_rank, debug = experiment.evaluate_validation_test(retrieval, verbose, encoded_anchor, issues_by_buckets, bug_train_ids)\n",
    "        print(\"Epoch: {} Loss: {:.2f}, Loss_test: {:.2f}, recall@25: {:.2f}\".format(epoch+1, h, h_validation, recall))\n",
    "    else:\n",
    "        print(\"Epoch: {} Loss: {:.2f}, Loss_test: {:.2f}\".format(epoch+1, h, h_validation))\n",
    "    loss = h\n",
    "    \n",
    "    if loss < best_loss:\n",
    "        best_loss = loss\n",
    "        best_epoch = epoch+1\n",
    "\n",
    "#experiment.save_model(similarity_model, SAVE_PATH.replace('@number_of_epochs@', str(epochs)))\n",
    "#experiment.save_model(encoded_anchor, SAVE_PATH_FEATURE.replace('@number_of_epochs@', str(epochs)), verbose=1)\n",
    "print('Best_epoch={}, Best_loss={:.2f}, Recall@25={:.2f}'.format(best_epoch, best_loss, recall))"
   ]
  },
  {
   "cell_type": "code",
   "execution_count": 41,
   "metadata": {},
   "outputs": [
    {
     "data": {
      "text/plain": [
       "'data/processed/openoffice/bert/exported_rank_baseline_100.txt'"
      ]
     },
     "execution_count": 41,
     "metadata": {},
     "output_type": "execute_result"
    }
   ],
   "source": [
    "EXPORT_RANK_PATH = os.path.join(DIR, 'exported_rank_{}.txt'.format(METHOD))\n",
    "EXPORT_RANK_PATH"
   ]
  },
  {
   "cell_type": "code",
   "execution_count": 42,
   "metadata": {},
   "outputs": [],
   "source": [
    "with open(EXPORT_RANK_PATH, 'w') as file_out:\n",
    "    for row in exported_rank:\n",
    "        file_out.write(row + \"\\n\")"
   ]
  },
  {
   "cell_type": "code",
   "execution_count": 43,
   "metadata": {},
   "outputs": [
    {
     "name": "stdout",
     "output_type": "stream",
     "text": [
      "Saved model 'modelos/model_bert_preprocessing_baseline_100_feature_100epochs_64batch(openoffice).h5' to disk\n"
     ]
    }
   ],
   "source": [
    "experiment.save_model(similarity_model, SAVE_PATH.replace('@number_of_epochs@', str(limit_train)))\n",
    "experiment.save_model(encoded_anchor, SAVE_PATH_FEATURE.replace('@number_of_epochs@', str(limit_train)), verbose=1)"
   ]
  },
  {
   "cell_type": "code",
   "execution_count": 44,
   "metadata": {},
   "outputs": [
    {
     "data": {
      "text/plain": [
       "(100, 100)"
      ]
     },
     "execution_count": 44,
     "metadata": {},
     "output_type": "execute_result"
    }
   ],
   "source": [
    "len(result['train']), len(result['test'])"
   ]
  },
  {
   "cell_type": "code",
   "execution_count": 45,
   "metadata": {},
   "outputs": [
    {
     "name": "stdout",
     "output_type": "stream",
     "text": [
      "__________________________________________________________________________________________________\n",
      "Layer (type)                    Output Shape         Param #     Connected to                     \n",
      "==================================================================================================\n",
      "info_in (InputLayer)            (None, 738)          0                                            \n",
      "__________________________________________________________________________________________________\n",
      "title_in (InputLayer)           (None, 20)           0                                            \n",
      "__________________________________________________________________________________________________\n",
      "desc_in (InputLayer)            (None, 20)           0                                            \n",
      "__________________________________________________________________________________________________\n",
      "FeatureMlpGenerationModel (Mode (None, 300)          221700      info_in[0][0]                    \n",
      "__________________________________________________________________________________________________\n",
      "FeatureLstmGenerationModel (Mod (None, 300)          581460900   title_in[0][0]                   \n",
      "__________________________________________________________________________________________________\n",
      "FeatureCNNGenerationModel (Mode (None, 300)          581507592   desc_in[0][0]                    \n",
      "__________________________________________________________________________________________________\n",
      "input_label (InputLayer)        (None, 1)            0                                            \n",
      "__________________________________________________________________________________________________\n",
      "merge_features_in (Concatenate) (None, 900)          0           FeatureMlpGenerationModel[1][0]  \n",
      "                                                                 FeatureLstmGenerationModel[1][0] \n",
      "                                                                 FeatureCNNGenerationModel[1][0]  \n",
      "__________________________________________________________________________________________________\n",
      "concatenate_3 (Concatenate)     (None, 901)          0           input_label[0][0]                \n",
      "                                                                 merge_features_in[0][0]          \n",
      "==================================================================================================\n",
      "Total params: 1,163,190,192\n",
      "Trainable params: 675,192\n",
      "Non-trainable params: 1,162,515,000\n",
      "__________________________________________________________________________________________________\n"
     ]
    }
   ],
   "source": [
    "model = similarity_model.get_layer('concatenate_3')\n",
    "output = model.output\n",
    "inputs = similarity_model.inputs\n",
    "model = Model(inputs = inputs, outputs = output, name = 'Similarity_Model')\n",
    "\n",
    "# setup the optimization process \n",
    "model.compile(optimizer='adam', loss=triplet_loss_adapted_from_tf)\n",
    "model.summary()"
   ]
  },
  {
   "cell_type": "code",
   "execution_count": 46,
   "metadata": {},
   "outputs": [],
   "source": [
    "# Domain to use\n",
    "METHOD = 'baseline_{}'.format(epochs)\n",
    "SAVE_PATH = '{}_preprocessing_{}_feature@number_of_epochs@epochs_64batch({})'.format(PREPROCESSING, METHOD, DOMAIN)\n",
    "SAVE_PATH_FEATURE = '{}_preprocessing_{}_feature_@number_of_epochs@epochs_64batch({})'.format(PREPROCESSING, METHOD, DOMAIN)"
   ]
  },
  {
   "cell_type": "code",
   "execution_count": 47,
   "metadata": {
    "scrolled": true
   },
   "outputs": [
    {
     "name": "stdout",
     "output_type": "stream",
     "text": [
      "Epoch: 101 Loss: 0.04, Loss_test: 0.06\n",
      "Epoch: 102 Loss: 0.03, Loss_test: 0.06\n",
      "Epoch: 103 Loss: 0.03, Loss_test: 0.06\n",
      "Epoch: 104 Loss: 0.05, Loss_test: 0.06\n",
      "Epoch: 105 Loss: 0.03, Loss_test: 0.06\n",
      "Epoch: 106 Loss: 0.04, Loss_test: 0.06\n",
      "Epoch: 107 Loss: 0.08, Loss_test: 0.06\n",
      "Epoch: 108 Loss: 0.03, Loss_test: 0.06\n",
      "Epoch: 109 Loss: 0.03, Loss_test: 0.06\n",
      "=> result saved!\n",
      "Epoch: 110 Loss: 0.04, Loss_test: 0.06\n",
      "Epoch: 111 Loss: 0.06, Loss_test: 0.06\n",
      "Epoch: 112 Loss: 0.05, Loss_test: 0.06\n",
      "Epoch: 113 Loss: 0.06, Loss_test: 0.06\n",
      "Epoch: 114 Loss: 0.03, Loss_test: 0.06\n",
      "Epoch: 115 Loss: 0.05, Loss_test: 0.05\n",
      "Epoch: 116 Loss: 0.05, Loss_test: 0.05\n",
      "Epoch: 117 Loss: 0.04, Loss_test: 0.05\n",
      "Epoch: 118 Loss: 0.05, Loss_test: 0.05\n",
      "Epoch: 119 Loss: 0.03, Loss_test: 0.05\n",
      "=> result saved!\n",
      "Epoch: 120 Loss: 0.06, Loss_test: 0.05\n",
      "Epoch: 121 Loss: 0.05, Loss_test: 0.05\n",
      "Epoch: 122 Loss: 0.08, Loss_test: 0.05\n",
      "Epoch: 123 Loss: 0.03, Loss_test: 0.05\n",
      "Epoch: 124 Loss: 0.05, Loss_test: 0.05\n",
      "Epoch: 125 Loss: 0.03, Loss_test: 0.05\n",
      "Epoch: 126 Loss: 0.03, Loss_test: 0.05\n",
      "Epoch: 127 Loss: 0.07, Loss_test: 0.05\n",
      "Epoch: 128 Loss: 0.07, Loss_test: 0.05\n",
      "Epoch: 129 Loss: 0.04, Loss_test: 0.05\n",
      "=> result saved!\n",
      "Epoch: 130 Loss: 0.05, Loss_test: 0.05\n",
      "Epoch: 131 Loss: 0.05, Loss_test: 0.05\n",
      "Epoch: 132 Loss: 0.03, Loss_test: 0.04\n",
      "Epoch: 133 Loss: 0.03, Loss_test: 0.04\n",
      "Epoch: 134 Loss: 0.07, Loss_test: 0.04\n",
      "Epoch: 135 Loss: 0.03, Loss_test: 0.04\n",
      "Epoch: 136 Loss: 0.04, Loss_test: 0.04\n",
      "Epoch: 137 Loss: 0.04, Loss_test: 0.04\n",
      "Epoch: 138 Loss: 0.03, Loss_test: 0.04\n",
      "Epoch: 139 Loss: 0.03, Loss_test: 0.04\n",
      "=> result saved!\n",
      "Epoch: 140 Loss: 0.03, Loss_test: 0.04\n",
      "Epoch: 141 Loss: 0.05, Loss_test: 0.04\n",
      "Epoch: 142 Loss: 0.04, Loss_test: 0.04\n",
      "Epoch: 143 Loss: 0.09, Loss_test: 0.04\n",
      "Epoch: 144 Loss: 0.04, Loss_test: 0.04\n",
      "Epoch: 145 Loss: 0.03, Loss_test: 0.04\n",
      "Epoch: 146 Loss: 0.02, Loss_test: 0.04\n",
      "Epoch: 147 Loss: 0.02, Loss_test: 0.04\n",
      "Epoch: 148 Loss: 0.03, Loss_test: 0.04\n",
      "Epoch: 149 Loss: 0.02, Loss_test: 0.04\n",
      "=> result saved!\n",
      "Epoch: 150 Loss: 0.03, Loss_test: 0.04\n",
      "Epoch: 151 Loss: 0.03, Loss_test: 0.04\n",
      "Epoch: 152 Loss: 0.06, Loss_test: 0.04\n",
      "Epoch: 153 Loss: 0.03, Loss_test: 0.04\n",
      "Epoch: 154 Loss: 0.03, Loss_test: 0.04\n",
      "Epoch: 155 Loss: 0.04, Loss_test: 0.04\n",
      "Epoch: 156 Loss: 0.08, Loss_test: 0.04\n",
      "Epoch: 157 Loss: 0.03, Loss_test: 0.04\n",
      "Epoch: 158 Loss: 0.03, Loss_test: 0.03\n",
      "Epoch: 159 Loss: 0.05, Loss_test: 0.03\n",
      "=> result saved!\n",
      "Epoch: 160 Loss: 0.03, Loss_test: 0.03\n",
      "Epoch: 161 Loss: 0.02, Loss_test: 0.03\n",
      "Epoch: 162 Loss: 0.02, Loss_test: 0.03\n",
      "Epoch: 163 Loss: 0.03, Loss_test: 0.03\n",
      "Epoch: 164 Loss: 0.03, Loss_test: 0.03\n",
      "Epoch: 165 Loss: 0.02, Loss_test: 0.03\n",
      "Epoch: 166 Loss: 0.01, Loss_test: 0.03\n",
      "Epoch: 167 Loss: 0.04, Loss_test: 0.03\n",
      "Epoch: 168 Loss: 0.05, Loss_test: 0.03\n",
      "Epoch: 169 Loss: 0.03, Loss_test: 0.03\n",
      "=> result saved!\n",
      "Epoch: 170 Loss: 0.03, Loss_test: 0.03\n",
      "Epoch: 171 Loss: 0.02, Loss_test: 0.03\n",
      "Epoch: 172 Loss: 0.02, Loss_test: 0.03\n",
      "Epoch: 173 Loss: 0.02, Loss_test: 0.03\n",
      "Epoch: 174 Loss: 0.04, Loss_test: 0.03\n",
      "Epoch: 175 Loss: 0.03, Loss_test: 0.03\n",
      "Epoch: 176 Loss: 0.03, Loss_test: 0.03\n",
      "Epoch: 177 Loss: 0.02, Loss_test: 0.03\n",
      "Epoch: 178 Loss: 0.03, Loss_test: 0.03\n",
      "Epoch: 179 Loss: 0.02, Loss_test: 0.03\n",
      "=> result saved!\n",
      "Epoch: 180 Loss: 0.03, Loss_test: 0.03\n",
      "Epoch: 181 Loss: 0.02, Loss_test: 0.03\n",
      "Epoch: 182 Loss: 0.02, Loss_test: 0.03\n",
      "Epoch: 183 Loss: 0.02, Loss_test: 0.03\n",
      "Epoch: 184 Loss: 0.03, Loss_test: 0.03\n",
      "Epoch: 185 Loss: 0.03, Loss_test: 0.03\n",
      "Epoch: 186 Loss: 0.05, Loss_test: 0.02\n",
      "Epoch: 187 Loss: 0.02, Loss_test: 0.02\n",
      "Epoch: 188 Loss: 0.01, Loss_test: 0.02\n",
      "Epoch: 189 Loss: 0.02, Loss_test: 0.02\n",
      "=> result saved!\n",
      "Epoch: 190 Loss: 0.03, Loss_test: 0.02\n",
      "Epoch: 191 Loss: 0.02, Loss_test: 0.02\n",
      "Epoch: 192 Loss: 0.02, Loss_test: 0.02\n",
      "Epoch: 193 Loss: 0.05, Loss_test: 0.02\n",
      "Epoch: 194 Loss: 0.01, Loss_test: 0.02\n",
      "Epoch: 195 Loss: 0.02, Loss_test: 0.02\n",
      "Epoch: 196 Loss: 0.01, Loss_test: 0.02\n",
      "Epoch: 197 Loss: 0.02, Loss_test: 0.02\n",
      "Epoch: 198 Loss: 0.01, Loss_test: 0.02\n",
      "Epoch: 199 Loss: 0.01, Loss_test: 0.02\n",
      "=> result saved!\n",
      "Epoch: 200 Loss: 0.01, Loss_test: 0.02\n",
      "Epoch: 201 Loss: 0.02, Loss_test: 0.02\n",
      "Epoch: 202 Loss: 0.02, Loss_test: 0.02\n",
      "Epoch: 203 Loss: 0.02, Loss_test: 0.02\n",
      "Epoch: 204 Loss: 0.03, Loss_test: 0.02\n",
      "Epoch: 205 Loss: 0.01, Loss_test: 0.02\n",
      "Epoch: 206 Loss: 0.02, Loss_test: 0.02\n",
      "Epoch: 207 Loss: 0.02, Loss_test: 0.02\n",
      "Epoch: 208 Loss: 0.01, Loss_test: 0.02\n",
      "Epoch: 209 Loss: 0.02, Loss_test: 0.02\n",
      "=> result saved!\n",
      "Epoch: 210 Loss: 0.03, Loss_test: 0.02\n",
      "Epoch: 211 Loss: 0.02, Loss_test: 0.02\n",
      "Epoch: 212 Loss: 0.01, Loss_test: 0.02\n",
      "Epoch: 213 Loss: 0.03, Loss_test: 0.02\n",
      "Epoch: 214 Loss: 0.01, Loss_test: 0.02\n",
      "Epoch: 215 Loss: 0.02, Loss_test: 0.02\n",
      "Epoch: 216 Loss: 0.04, Loss_test: 0.02\n",
      "Epoch: 217 Loss: 0.01, Loss_test: 0.02\n",
      "Epoch: 218 Loss: 0.02, Loss_test: 0.02\n",
      "Epoch: 219 Loss: 0.02, Loss_test: 0.02\n",
      "=> result saved!\n",
      "Epoch: 220 Loss: 0.01, Loss_test: 0.02\n",
      "Epoch: 221 Loss: 0.03, Loss_test: 0.02\n",
      "Epoch: 222 Loss: 0.02, Loss_test: 0.02\n",
      "Epoch: 223 Loss: 0.03, Loss_test: 0.02\n",
      "Epoch: 224 Loss: 0.02, Loss_test: 0.02\n",
      "Epoch: 225 Loss: 0.01, Loss_test: 0.02\n",
      "Epoch: 226 Loss: 0.01, Loss_test: 0.02\n",
      "Epoch: 227 Loss: 0.02, Loss_test: 0.02\n",
      "Epoch: 228 Loss: 0.02, Loss_test: 0.02\n",
      "Epoch: 229 Loss: 0.03, Loss_test: 0.02\n",
      "=> result saved!\n",
      "Epoch: 230 Loss: 0.02, Loss_test: 0.02\n",
      "Epoch: 231 Loss: 0.03, Loss_test: 0.02\n",
      "Epoch: 232 Loss: 0.02, Loss_test: 0.02\n",
      "Epoch: 233 Loss: 0.03, Loss_test: 0.02\n",
      "Epoch: 234 Loss: 0.02, Loss_test: 0.02\n",
      "Epoch: 235 Loss: 0.01, Loss_test: 0.02\n",
      "Epoch: 236 Loss: 0.02, Loss_test: 0.02\n",
      "Epoch: 237 Loss: 0.04, Loss_test: 0.02\n",
      "Epoch: 238 Loss: 0.03, Loss_test: 0.02\n",
      "Epoch: 239 Loss: 0.01, Loss_test: 0.02\n",
      "=> result saved!\n",
      "Epoch: 240 Loss: 0.02, Loss_test: 0.02\n",
      "Epoch: 241 Loss: 0.02, Loss_test: 0.02\n",
      "Epoch: 242 Loss: 0.01, Loss_test: 0.02\n",
      "Epoch: 243 Loss: 0.02, Loss_test: 0.02\n",
      "Epoch: 244 Loss: 0.03, Loss_test: 0.02\n",
      "Epoch: 245 Loss: 0.03, Loss_test: 0.02\n",
      "Epoch: 246 Loss: 0.03, Loss_test: 0.02\n",
      "Epoch: 247 Loss: 0.02, Loss_test: 0.02\n",
      "Epoch: 248 Loss: 0.01, Loss_test: 0.02\n",
      "Epoch: 249 Loss: 0.01, Loss_test: 0.02\n",
      "=> result saved!\n",
      "Epoch: 250 Loss: 0.03, Loss_test: 0.02\n",
      "Epoch: 251 Loss: 0.02, Loss_test: 0.02\n",
      "Epoch: 252 Loss: 0.02, Loss_test: 0.02\n",
      "Epoch: 253 Loss: 0.01, Loss_test: 0.02\n",
      "Epoch: 254 Loss: 0.02, Loss_test: 0.02\n",
      "Epoch: 255 Loss: 0.02, Loss_test: 0.02\n",
      "Epoch: 256 Loss: 0.02, Loss_test: 0.02\n",
      "Epoch: 257 Loss: 0.02, Loss_test: 0.02\n",
      "Epoch: 258 Loss: 0.01, Loss_test: 0.02\n",
      "Epoch: 259 Loss: 0.02, Loss_test: 0.02\n",
      "=> result saved!\n",
      "Epoch: 260 Loss: 0.02, Loss_test: 0.02\n",
      "Epoch: 261 Loss: 0.01, Loss_test: 0.02\n",
      "Epoch: 262 Loss: 0.03, Loss_test: 0.02\n",
      "Epoch: 263 Loss: 0.01, Loss_test: 0.02\n",
      "Epoch: 264 Loss: 0.02, Loss_test: 0.02\n",
      "Epoch: 265 Loss: 0.02, Loss_test: 0.02\n",
      "Epoch: 266 Loss: 0.02, Loss_test: 0.01\n",
      "Epoch: 267 Loss: 0.02, Loss_test: 0.01\n",
      "Epoch: 268 Loss: 0.02, Loss_test: 0.01\n",
      "Epoch: 269 Loss: 0.02, Loss_test: 0.01\n",
      "=> result saved!\n",
      "Epoch: 270 Loss: 0.01, Loss_test: 0.01\n",
      "Epoch: 271 Loss: 0.02, Loss_test: 0.01\n",
      "Epoch: 272 Loss: 0.01, Loss_test: 0.01\n",
      "Epoch: 273 Loss: 0.01, Loss_test: 0.01\n",
      "Epoch: 274 Loss: 0.02, Loss_test: 0.01\n",
      "Epoch: 275 Loss: 0.01, Loss_test: 0.01\n",
      "Epoch: 276 Loss: 0.02, Loss_test: 0.01\n",
      "Epoch: 277 Loss: 0.01, Loss_test: 0.01\n",
      "Epoch: 278 Loss: 0.02, Loss_test: 0.01\n",
      "Epoch: 279 Loss: 0.01, Loss_test: 0.01\n",
      "=> result saved!\n",
      "Epoch: 280 Loss: 0.03, Loss_test: 0.01\n",
      "Epoch: 281 Loss: 0.03, Loss_test: 0.01\n",
      "Epoch: 282 Loss: 0.02, Loss_test: 0.02\n",
      "Epoch: 283 Loss: 0.02, Loss_test: 0.01\n",
      "Epoch: 284 Loss: 0.02, Loss_test: 0.01\n",
      "Epoch: 285 Loss: 0.01, Loss_test: 0.01\n",
      "Epoch: 286 Loss: 0.01, Loss_test: 0.01\n",
      "Epoch: 287 Loss: 0.01, Loss_test: 0.01\n",
      "Epoch: 288 Loss: 0.02, Loss_test: 0.01\n",
      "Epoch: 289 Loss: 0.02, Loss_test: 0.01\n",
      "=> result saved!\n",
      "Epoch: 290 Loss: 0.01, Loss_test: 0.01\n",
      "Epoch: 291 Loss: 0.03, Loss_test: 0.01\n",
      "Epoch: 292 Loss: 0.01, Loss_test: 0.01\n",
      "Epoch: 293 Loss: 0.02, Loss_test: 0.01\n",
      "Epoch: 294 Loss: 0.01, Loss_test: 0.01\n",
      "Epoch: 295 Loss: 0.01, Loss_test: 0.01\n",
      "Epoch: 296 Loss: 0.02, Loss_test: 0.01\n",
      "Epoch: 297 Loss: 0.02, Loss_test: 0.01\n",
      "Epoch: 298 Loss: 0.01, Loss_test: 0.01\n",
      "Epoch: 299 Loss: 0.01, Loss_test: 0.01\n",
      "=> result saved!\n",
      "Epoch: 300 Loss: 0.01, Loss_test: 0.01\n",
      "Epoch: 301 Loss: 0.01, Loss_test: 0.01\n",
      "Epoch: 302 Loss: 0.01, Loss_test: 0.01\n"
     ]
    },
    {
     "name": "stdout",
     "output_type": "stream",
     "text": [
      "Epoch: 303 Loss: 0.02, Loss_test: 0.01\n",
      "Epoch: 304 Loss: 0.02, Loss_test: 0.01\n",
      "Epoch: 305 Loss: 0.01, Loss_test: 0.01\n",
      "Epoch: 306 Loss: 0.01, Loss_test: 0.01\n",
      "Epoch: 307 Loss: 0.02, Loss_test: 0.01\n",
      "Epoch: 308 Loss: 0.02, Loss_test: 0.01\n",
      "Epoch: 309 Loss: 0.01, Loss_test: 0.01\n",
      "=> result saved!\n",
      "Epoch: 310 Loss: 0.01, Loss_test: 0.01\n",
      "Epoch: 311 Loss: 0.01, Loss_test: 0.01\n",
      "Epoch: 312 Loss: 0.01, Loss_test: 0.01\n",
      "Epoch: 313 Loss: 0.01, Loss_test: 0.01\n",
      "Epoch: 314 Loss: 0.02, Loss_test: 0.01\n",
      "Epoch: 315 Loss: 0.02, Loss_test: 0.01\n",
      "Epoch: 316 Loss: 0.01, Loss_test: 0.01\n",
      "Epoch: 317 Loss: 0.01, Loss_test: 0.01\n",
      "Epoch: 318 Loss: 0.01, Loss_test: 0.01\n",
      "Epoch: 319 Loss: 0.02, Loss_test: 0.01\n",
      "=> result saved!\n",
      "Epoch: 320 Loss: 0.01, Loss_test: 0.01\n",
      "Epoch: 321 Loss: 0.01, Loss_test: 0.01\n",
      "Epoch: 322 Loss: 0.01, Loss_test: 0.01\n",
      "Epoch: 323 Loss: 0.02, Loss_test: 0.01\n",
      "Epoch: 324 Loss: 0.02, Loss_test: 0.01\n",
      "Epoch: 325 Loss: 0.02, Loss_test: 0.01\n",
      "Epoch: 326 Loss: 0.02, Loss_test: 0.01\n",
      "Epoch: 327 Loss: 0.02, Loss_test: 0.01\n",
      "Epoch: 328 Loss: 0.01, Loss_test: 0.01\n",
      "Epoch: 329 Loss: 0.01, Loss_test: 0.01\n",
      "=> result saved!\n",
      "Epoch: 330 Loss: 0.01, Loss_test: 0.01\n",
      "Epoch: 331 Loss: 0.01, Loss_test: 0.01\n",
      "Epoch: 332 Loss: 0.01, Loss_test: 0.01\n",
      "Epoch: 333 Loss: 0.01, Loss_test: 0.01\n",
      "Epoch: 334 Loss: 0.00, Loss_test: 0.01\n",
      "Epoch: 335 Loss: 0.01, Loss_test: 0.01\n",
      "Epoch: 336 Loss: 0.01, Loss_test: 0.01\n",
      "Epoch: 337 Loss: 0.01, Loss_test: 0.01\n",
      "Epoch: 338 Loss: 0.01, Loss_test: 0.01\n",
      "Epoch: 339 Loss: 0.01, Loss_test: 0.01\n",
      "=> result saved!\n",
      "Epoch: 340 Loss: 0.02, Loss_test: 0.01\n",
      "Epoch: 341 Loss: 0.00, Loss_test: 0.01\n",
      "Epoch: 342 Loss: 0.01, Loss_test: 0.01\n",
      "Epoch: 343 Loss: 0.02, Loss_test: 0.01\n",
      "Epoch: 344 Loss: 0.01, Loss_test: 0.01\n",
      "Epoch: 345 Loss: 0.01, Loss_test: 0.01\n",
      "Epoch: 346 Loss: 0.01, Loss_test: 0.01\n",
      "Epoch: 347 Loss: 0.02, Loss_test: 0.01\n",
      "Epoch: 348 Loss: 0.01, Loss_test: 0.01\n",
      "Epoch: 349 Loss: 0.01, Loss_test: 0.01\n",
      "=> result saved!\n",
      "Epoch: 350 Loss: 0.01, Loss_test: 0.01\n",
      "Epoch: 351 Loss: 0.01, Loss_test: 0.01\n",
      "Epoch: 352 Loss: 0.01, Loss_test: 0.01\n",
      "Epoch: 353 Loss: 0.01, Loss_test: 0.01\n",
      "Epoch: 354 Loss: 0.01, Loss_test: 0.01\n",
      "Epoch: 355 Loss: 0.01, Loss_test: 0.01\n",
      "Epoch: 356 Loss: 0.01, Loss_test: 0.01\n",
      "Epoch: 357 Loss: 0.01, Loss_test: 0.01\n",
      "Epoch: 358 Loss: 0.01, Loss_test: 0.01\n",
      "Epoch: 359 Loss: 0.01, Loss_test: 0.01\n",
      "=> result saved!\n",
      "Epoch: 360 Loss: 0.02, Loss_test: 0.01\n",
      "Epoch: 361 Loss: 0.01, Loss_test: 0.01\n",
      "Epoch: 362 Loss: 0.01, Loss_test: 0.01\n",
      "Epoch: 363 Loss: 0.01, Loss_test: 0.01\n",
      "Epoch: 364 Loss: 0.01, Loss_test: 0.01\n",
      "Epoch: 365 Loss: 0.02, Loss_test: 0.01\n",
      "Epoch: 366 Loss: 0.00, Loss_test: 0.01\n",
      "Epoch: 367 Loss: 0.02, Loss_test: 0.01\n",
      "Epoch: 368 Loss: 0.01, Loss_test: 0.01\n",
      "Epoch: 369 Loss: 0.01, Loss_test: 0.01\n",
      "=> result saved!\n",
      "Epoch: 370 Loss: 0.01, Loss_test: 0.01\n",
      "Epoch: 371 Loss: 0.01, Loss_test: 0.01\n",
      "Epoch: 372 Loss: 0.01, Loss_test: 0.01\n",
      "Epoch: 373 Loss: 0.01, Loss_test: 0.01\n",
      "Epoch: 374 Loss: 0.01, Loss_test: 0.01\n",
      "Epoch: 375 Loss: 0.02, Loss_test: 0.01\n",
      "Epoch: 376 Loss: 0.01, Loss_test: 0.01\n",
      "Epoch: 377 Loss: 0.01, Loss_test: 0.01\n",
      "Epoch: 378 Loss: 0.00, Loss_test: 0.01\n",
      "Epoch: 379 Loss: 0.01, Loss_test: 0.01\n",
      "=> result saved!\n",
      "Epoch: 380 Loss: 0.01, Loss_test: 0.01\n",
      "Epoch: 381 Loss: 0.01, Loss_test: 0.01\n",
      "Epoch: 382 Loss: 0.01, Loss_test: 0.01\n",
      "Epoch: 383 Loss: 0.01, Loss_test: 0.01\n",
      "Epoch: 384 Loss: 0.01, Loss_test: 0.01\n",
      "Epoch: 385 Loss: 0.01, Loss_test: 0.01\n",
      "Epoch: 386 Loss: 0.01, Loss_test: 0.01\n",
      "Epoch: 387 Loss: 0.00, Loss_test: 0.01\n",
      "Epoch: 388 Loss: 0.01, Loss_test: 0.01\n",
      "Epoch: 389 Loss: 0.01, Loss_test: 0.01\n",
      "=> result saved!\n",
      "Epoch: 390 Loss: 0.02, Loss_test: 0.01\n",
      "Epoch: 391 Loss: 0.01, Loss_test: 0.01\n",
      "Epoch: 392 Loss: 0.01, Loss_test: 0.01\n",
      "Epoch: 393 Loss: 0.02, Loss_test: 0.01\n",
      "Epoch: 394 Loss: 0.01, Loss_test: 0.01\n",
      "Epoch: 395 Loss: 0.01, Loss_test: 0.01\n",
      "Epoch: 396 Loss: 0.02, Loss_test: 0.01\n",
      "Epoch: 397 Loss: 0.01, Loss_test: 0.01\n",
      "Epoch: 398 Loss: 0.01, Loss_test: 0.01\n",
      "Epoch: 399 Loss: 0.00, Loss_test: 0.01\n",
      "=> result saved!\n",
      "Epoch: 400 Loss: 0.01, Loss_test: 0.01\n",
      "Epoch: 401 Loss: 0.01, Loss_test: 0.01\n",
      "Epoch: 402 Loss: 0.01, Loss_test: 0.01\n",
      "Epoch: 403 Loss: 0.01, Loss_test: 0.01\n",
      "Epoch: 404 Loss: 0.01, Loss_test: 0.01\n",
      "Epoch: 405 Loss: 0.01, Loss_test: 0.01\n",
      "Epoch: 406 Loss: 0.01, Loss_test: 0.01\n",
      "Epoch: 407 Loss: 0.01, Loss_test: 0.01\n",
      "Epoch: 408 Loss: 0.01, Loss_test: 0.01\n",
      "Epoch: 409 Loss: 0.02, Loss_test: 0.01\n",
      "=> result saved!\n",
      "Epoch: 410 Loss: 0.02, Loss_test: 0.01\n",
      "Epoch: 411 Loss: 0.01, Loss_test: 0.01\n",
      "Epoch: 412 Loss: 0.01, Loss_test: 0.01\n",
      "Epoch: 413 Loss: 0.01, Loss_test: 0.01\n",
      "Epoch: 414 Loss: 0.01, Loss_test: 0.01\n",
      "Epoch: 415 Loss: 0.01, Loss_test: 0.01\n",
      "Epoch: 416 Loss: 0.01, Loss_test: 0.01\n",
      "Epoch: 417 Loss: 0.01, Loss_test: 0.01\n",
      "Epoch: 418 Loss: 0.01, Loss_test: 0.01\n",
      "Epoch: 419 Loss: 0.01, Loss_test: 0.01\n",
      "=> result saved!\n",
      "Epoch: 420 Loss: 0.01, Loss_test: 0.01\n",
      "Epoch: 421 Loss: 0.01, Loss_test: 0.01\n",
      "Epoch: 422 Loss: 0.01, Loss_test: 0.01\n",
      "Epoch: 423 Loss: 0.02, Loss_test: 0.01\n",
      "Epoch: 424 Loss: 0.01, Loss_test: 0.01\n",
      "Epoch: 425 Loss: 0.01, Loss_test: 0.01\n",
      "Epoch: 426 Loss: 0.01, Loss_test: 0.01\n",
      "Epoch: 427 Loss: 0.01, Loss_test: 0.01\n",
      "Epoch: 428 Loss: 0.02, Loss_test: 0.01\n",
      "Epoch: 429 Loss: 0.01, Loss_test: 0.01\n",
      "=> result saved!\n",
      "Epoch: 430 Loss: 0.01, Loss_test: 0.01\n",
      "Epoch: 431 Loss: 0.02, Loss_test: 0.01\n",
      "Epoch: 432 Loss: 0.01, Loss_test: 0.01\n",
      "Epoch: 433 Loss: 0.01, Loss_test: 0.01\n",
      "Epoch: 434 Loss: 0.01, Loss_test: 0.01\n",
      "Epoch: 435 Loss: 0.01, Loss_test: 0.01\n",
      "Epoch: 436 Loss: 0.02, Loss_test: 0.01\n",
      "Epoch: 437 Loss: 0.01, Loss_test: 0.01\n",
      "Epoch: 438 Loss: 0.01, Loss_test: 0.01\n",
      "Epoch: 439 Loss: 0.01, Loss_test: 0.01\n",
      "=> result saved!\n",
      "Epoch: 440 Loss: 0.01, Loss_test: 0.01\n",
      "Epoch: 441 Loss: 0.01, Loss_test: 0.01\n",
      "Epoch: 442 Loss: 0.01, Loss_test: 0.01\n",
      "Epoch: 443 Loss: 0.01, Loss_test: 0.01\n",
      "Epoch: 444 Loss: 0.01, Loss_test: 0.01\n",
      "Epoch: 445 Loss: 0.01, Loss_test: 0.01\n",
      "Epoch: 446 Loss: 0.01, Loss_test: 0.01\n",
      "Epoch: 447 Loss: 0.01, Loss_test: 0.01\n",
      "Epoch: 448 Loss: 0.01, Loss_test: 0.01\n",
      "Epoch: 449 Loss: 0.01, Loss_test: 0.01\n",
      "=> result saved!\n",
      "Epoch: 450 Loss: 0.01, Loss_test: 0.01\n",
      "Epoch: 451 Loss: 0.01, Loss_test: 0.01\n",
      "Epoch: 452 Loss: 0.01, Loss_test: 0.01\n",
      "Epoch: 453 Loss: 0.01, Loss_test: 0.01\n",
      "Epoch: 454 Loss: 0.01, Loss_test: 0.01\n",
      "Epoch: 455 Loss: 0.01, Loss_test: 0.01\n",
      "Epoch: 456 Loss: 0.01, Loss_test: 0.01\n",
      "Epoch: 457 Loss: 0.01, Loss_test: 0.01\n",
      "Epoch: 458 Loss: 0.01, Loss_test: 0.01\n",
      "Epoch: 459 Loss: 0.01, Loss_test: 0.01\n",
      "=> result saved!\n",
      "Epoch: 460 Loss: 0.01, Loss_test: 0.01\n",
      "Epoch: 461 Loss: 0.01, Loss_test: 0.01\n",
      "Epoch: 462 Loss: 0.01, Loss_test: 0.01\n",
      "Epoch: 463 Loss: 0.01, Loss_test: 0.01\n",
      "Epoch: 464 Loss: 0.01, Loss_test: 0.01\n",
      "Epoch: 465 Loss: 0.01, Loss_test: 0.01\n",
      "Epoch: 466 Loss: 0.01, Loss_test: 0.01\n",
      "Epoch: 467 Loss: 0.01, Loss_test: 0.01\n",
      "Epoch: 468 Loss: 0.01, Loss_test: 0.01\n",
      "Epoch: 469 Loss: 0.01, Loss_test: 0.01\n",
      "=> result saved!\n",
      "Epoch: 470 Loss: 0.01, Loss_test: 0.01\n",
      "Epoch: 471 Loss: 0.01, Loss_test: 0.01\n",
      "Epoch: 472 Loss: 0.00, Loss_test: 0.01\n",
      "Epoch: 473 Loss: 0.01, Loss_test: 0.01\n",
      "Epoch: 474 Loss: 0.01, Loss_test: 0.01\n",
      "Epoch: 475 Loss: 0.01, Loss_test: 0.01\n",
      "Epoch: 476 Loss: 0.01, Loss_test: 0.01\n",
      "Epoch: 477 Loss: 0.01, Loss_test: 0.01\n",
      "Epoch: 478 Loss: 0.01, Loss_test: 0.01\n",
      "Epoch: 479 Loss: 0.01, Loss_test: 0.01\n",
      "=> result saved!\n",
      "Epoch: 480 Loss: 0.02, Loss_test: 0.01\n",
      "Epoch: 481 Loss: 0.01, Loss_test: 0.01\n",
      "Epoch: 482 Loss: 0.01, Loss_test: 0.01\n",
      "Epoch: 483 Loss: 0.01, Loss_test: 0.01\n",
      "Epoch: 484 Loss: 0.00, Loss_test: 0.01\n",
      "Epoch: 485 Loss: 0.00, Loss_test: 0.01\n",
      "Epoch: 486 Loss: 0.00, Loss_test: 0.01\n",
      "Epoch: 487 Loss: 0.01, Loss_test: 0.01\n",
      "Epoch: 488 Loss: 0.01, Loss_test: 0.01\n",
      "Epoch: 489 Loss: 0.01, Loss_test: 0.01\n",
      "=> result saved!\n",
      "Epoch: 490 Loss: 0.02, Loss_test: 0.01\n",
      "Epoch: 491 Loss: 0.01, Loss_test: 0.01\n",
      "Epoch: 492 Loss: 0.01, Loss_test: 0.01\n",
      "Epoch: 493 Loss: 0.01, Loss_test: 0.01\n",
      "Epoch: 494 Loss: 0.01, Loss_test: 0.01\n",
      "Epoch: 495 Loss: 0.02, Loss_test: 0.01\n",
      "Epoch: 496 Loss: 0.01, Loss_test: 0.01\n",
      "Epoch: 497 Loss: 0.01, Loss_test: 0.01\n",
      "Epoch: 498 Loss: 0.01, Loss_test: 0.01\n",
      "Epoch: 499 Loss: 0.01, Loss_test: 0.01\n",
      "=> result saved!\n",
      "Epoch: 500 Loss: 0.01, Loss_test: 0.01\n",
      "Epoch: 501 Loss: 0.01, Loss_test: 0.01\n",
      "Epoch: 502 Loss: 0.01, Loss_test: 0.01\n",
      "Epoch: 503 Loss: 0.01, Loss_test: 0.01\n",
      "Epoch: 504 Loss: 0.01, Loss_test: 0.01\n"
     ]
    },
    {
     "name": "stdout",
     "output_type": "stream",
     "text": [
      "Epoch: 505 Loss: 0.00, Loss_test: 0.01\n",
      "Epoch: 506 Loss: 0.01, Loss_test: 0.01\n",
      "Epoch: 507 Loss: 0.00, Loss_test: 0.01\n",
      "Epoch: 508 Loss: 0.01, Loss_test: 0.01\n",
      "Epoch: 509 Loss: 0.01, Loss_test: 0.01\n",
      "=> result saved!\n",
      "Epoch: 510 Loss: 0.01, Loss_test: 0.01\n",
      "Epoch: 511 Loss: 0.01, Loss_test: 0.01\n",
      "Epoch: 512 Loss: 0.01, Loss_test: 0.01\n",
      "Epoch: 513 Loss: 0.01, Loss_test: 0.01\n",
      "Epoch: 514 Loss: 0.00, Loss_test: 0.01\n",
      "Epoch: 515 Loss: 0.01, Loss_test: 0.01\n",
      "Epoch: 516 Loss: 0.00, Loss_test: 0.01\n",
      "Epoch: 517 Loss: 0.01, Loss_test: 0.01\n",
      "Epoch: 518 Loss: 0.01, Loss_test: 0.01\n",
      "Epoch: 519 Loss: 0.01, Loss_test: 0.01\n",
      "=> result saved!\n",
      "Epoch: 520 Loss: 0.01, Loss_test: 0.01\n",
      "Epoch: 521 Loss: 0.01, Loss_test: 0.01\n",
      "Epoch: 522 Loss: 0.00, Loss_test: 0.01\n",
      "Epoch: 523 Loss: 0.00, Loss_test: 0.01\n",
      "Epoch: 524 Loss: 0.01, Loss_test: 0.01\n",
      "Epoch: 525 Loss: 0.01, Loss_test: 0.01\n",
      "Epoch: 526 Loss: 0.01, Loss_test: 0.01\n",
      "Epoch: 527 Loss: 0.01, Loss_test: 0.01\n",
      "Epoch: 528 Loss: 0.01, Loss_test: 0.01\n",
      "Epoch: 529 Loss: 0.01, Loss_test: 0.01\n",
      "=> result saved!\n",
      "Epoch: 530 Loss: 0.01, Loss_test: 0.01\n",
      "Epoch: 531 Loss: 0.01, Loss_test: 0.01\n",
      "Epoch: 532 Loss: 0.01, Loss_test: 0.01\n",
      "Epoch: 533 Loss: 0.01, Loss_test: 0.01\n",
      "Epoch: 534 Loss: 0.00, Loss_test: 0.01\n",
      "Epoch: 535 Loss: 0.01, Loss_test: 0.01\n",
      "Epoch: 536 Loss: 0.01, Loss_test: 0.01\n",
      "Epoch: 537 Loss: 0.00, Loss_test: 0.01\n",
      "Epoch: 538 Loss: 0.01, Loss_test: 0.01\n",
      "Epoch: 539 Loss: 0.01, Loss_test: 0.01\n",
      "=> result saved!\n",
      "Epoch: 540 Loss: 0.00, Loss_test: 0.01\n",
      "Epoch: 541 Loss: 0.00, Loss_test: 0.01\n",
      "Epoch: 542 Loss: 0.00, Loss_test: 0.01\n",
      "Epoch: 543 Loss: 0.00, Loss_test: 0.01\n",
      "Epoch: 544 Loss: 0.01, Loss_test: 0.01\n",
      "Epoch: 545 Loss: 0.01, Loss_test: 0.01\n",
      "Epoch: 546 Loss: 0.01, Loss_test: 0.01\n",
      "Epoch: 547 Loss: 0.00, Loss_test: 0.01\n",
      "Epoch: 548 Loss: 0.01, Loss_test: 0.01\n",
      "Epoch: 549 Loss: 0.01, Loss_test: 0.01\n",
      "=> result saved!\n",
      "Epoch: 550 Loss: 0.00, Loss_test: 0.01\n",
      "Epoch: 551 Loss: 0.00, Loss_test: 0.01\n",
      "Epoch: 552 Loss: 0.01, Loss_test: 0.01\n",
      "Epoch: 553 Loss: 0.01, Loss_test: 0.01\n",
      "Epoch: 554 Loss: 0.00, Loss_test: 0.01\n",
      "Epoch: 555 Loss: 0.01, Loss_test: 0.01\n",
      "Epoch: 556 Loss: 0.00, Loss_test: 0.01\n",
      "Epoch: 557 Loss: 0.01, Loss_test: 0.01\n",
      "Epoch: 558 Loss: 0.01, Loss_test: 0.01\n",
      "Epoch: 559 Loss: 0.01, Loss_test: 0.01\n",
      "=> result saved!\n",
      "Epoch: 560 Loss: 0.01, Loss_test: 0.01\n",
      "Epoch: 561 Loss: 0.00, Loss_test: 0.01\n",
      "Epoch: 562 Loss: 0.01, Loss_test: 0.01\n",
      "Epoch: 563 Loss: 0.00, Loss_test: 0.01\n",
      "Epoch: 564 Loss: 0.01, Loss_test: 0.01\n",
      "Epoch: 565 Loss: 0.01, Loss_test: 0.01\n",
      "Epoch: 566 Loss: 0.00, Loss_test: 0.01\n",
      "Epoch: 567 Loss: 0.01, Loss_test: 0.01\n",
      "Epoch: 568 Loss: 0.00, Loss_test: 0.01\n",
      "Epoch: 569 Loss: 0.01, Loss_test: 0.01\n",
      "=> result saved!\n",
      "Epoch: 570 Loss: 0.01, Loss_test: 0.01\n",
      "Epoch: 571 Loss: 0.01, Loss_test: 0.01\n",
      "Epoch: 572 Loss: 0.01, Loss_test: 0.01\n",
      "Epoch: 573 Loss: 0.01, Loss_test: 0.01\n",
      "Epoch: 574 Loss: 0.01, Loss_test: 0.01\n",
      "Epoch: 575 Loss: 0.00, Loss_test: 0.01\n",
      "Epoch: 576 Loss: 0.00, Loss_test: 0.01\n",
      "Epoch: 577 Loss: 0.00, Loss_test: 0.01\n",
      "Epoch: 578 Loss: 0.01, Loss_test: 0.01\n",
      "Epoch: 579 Loss: 0.01, Loss_test: 0.01\n",
      "=> result saved!\n",
      "Epoch: 580 Loss: 0.01, Loss_test: 0.01\n",
      "Epoch: 581 Loss: 0.00, Loss_test: 0.01\n",
      "Epoch: 582 Loss: 0.01, Loss_test: 0.01\n",
      "Epoch: 583 Loss: 0.00, Loss_test: 0.00\n",
      "Epoch: 584 Loss: 0.01, Loss_test: 0.00\n",
      "Epoch: 585 Loss: 0.01, Loss_test: 0.00\n",
      "Epoch: 586 Loss: 0.00, Loss_test: 0.00\n",
      "Epoch: 587 Loss: 0.00, Loss_test: 0.00\n",
      "Epoch: 588 Loss: 0.00, Loss_test: 0.00\n",
      "Epoch: 589 Loss: 0.00, Loss_test: 0.00\n",
      "=> result saved!\n",
      "Epoch: 590 Loss: 0.01, Loss_test: 0.00\n",
      "Epoch: 591 Loss: 0.00, Loss_test: 0.00\n",
      "Epoch: 592 Loss: 0.01, Loss_test: 0.00\n",
      "Epoch: 593 Loss: 0.00, Loss_test: 0.00\n",
      "Epoch: 594 Loss: 0.00, Loss_test: 0.00\n",
      "Epoch: 595 Loss: 0.01, Loss_test: 0.00\n",
      "Epoch: 596 Loss: 0.01, Loss_test: 0.00\n",
      "Epoch: 597 Loss: 0.01, Loss_test: 0.00\n",
      "Epoch: 598 Loss: 0.01, Loss_test: 0.00\n",
      "Epoch: 599 Loss: 0.00, Loss_test: 0.00\n",
      "=> result saved!\n",
      "Epoch: 600 Loss: 0.01, Loss_test: 0.00\n",
      "Epoch: 601 Loss: 0.01, Loss_test: 0.00\n",
      "Epoch: 602 Loss: 0.00, Loss_test: 0.00\n",
      "Epoch: 603 Loss: 0.01, Loss_test: 0.00\n",
      "Epoch: 604 Loss: 0.00, Loss_test: 0.00\n",
      "Epoch: 605 Loss: 0.01, Loss_test: 0.00\n",
      "Epoch: 606 Loss: 0.00, Loss_test: 0.00\n",
      "Epoch: 607 Loss: 0.01, Loss_test: 0.00\n",
      "Epoch: 608 Loss: 0.01, Loss_test: 0.00\n",
      "Epoch: 609 Loss: 0.01, Loss_test: 0.00\n",
      "=> result saved!\n",
      "Epoch: 610 Loss: 0.00, Loss_test: 0.00\n",
      "Epoch: 611 Loss: 0.00, Loss_test: 0.00\n",
      "Epoch: 612 Loss: 0.01, Loss_test: 0.00\n",
      "Epoch: 613 Loss: 0.02, Loss_test: 0.00\n",
      "Epoch: 614 Loss: 0.01, Loss_test: 0.00\n",
      "Epoch: 615 Loss: 0.01, Loss_test: 0.00\n",
      "Epoch: 616 Loss: 0.01, Loss_test: 0.00\n",
      "Epoch: 617 Loss: 0.00, Loss_test: 0.00\n",
      "Epoch: 618 Loss: 0.00, Loss_test: 0.00\n",
      "Epoch: 619 Loss: 0.01, Loss_test: 0.00\n",
      "=> result saved!\n",
      "Epoch: 620 Loss: 0.01, Loss_test: 0.00\n",
      "Epoch: 621 Loss: 0.01, Loss_test: 0.00\n",
      "Epoch: 622 Loss: 0.02, Loss_test: 0.00\n",
      "Epoch: 623 Loss: 0.01, Loss_test: 0.00\n",
      "Epoch: 624 Loss: 0.01, Loss_test: 0.00\n",
      "Epoch: 625 Loss: 0.01, Loss_test: 0.00\n",
      "Epoch: 626 Loss: 0.00, Loss_test: 0.01\n",
      "Epoch: 627 Loss: 0.01, Loss_test: 0.01\n",
      "Epoch: 628 Loss: 0.01, Loss_test: 0.01\n",
      "Epoch: 629 Loss: 0.01, Loss_test: 0.01\n",
      "=> result saved!\n",
      "Epoch: 630 Loss: 0.01, Loss_test: 0.01\n",
      "Epoch: 631 Loss: 0.01, Loss_test: 0.01\n",
      "Epoch: 632 Loss: 0.01, Loss_test: 0.01\n",
      "Epoch: 633 Loss: 0.01, Loss_test: 0.01\n",
      "Epoch: 634 Loss: 0.00, Loss_test: 0.01\n",
      "Epoch: 635 Loss: 0.01, Loss_test: 0.00\n",
      "Epoch: 636 Loss: 0.01, Loss_test: 0.01\n",
      "Epoch: 637 Loss: 0.01, Loss_test: 0.01\n",
      "Epoch: 638 Loss: 0.01, Loss_test: 0.01\n",
      "Epoch: 639 Loss: 0.01, Loss_test: 0.01\n",
      "=> result saved!\n",
      "Epoch: 640 Loss: 0.01, Loss_test: 0.01\n",
      "Epoch: 641 Loss: 0.00, Loss_test: 0.01\n",
      "Epoch: 642 Loss: 0.01, Loss_test: 0.01\n",
      "Epoch: 643 Loss: 0.00, Loss_test: 0.01\n",
      "Epoch: 644 Loss: 0.01, Loss_test: 0.01\n",
      "Epoch: 645 Loss: 0.01, Loss_test: 0.01\n",
      "Epoch: 646 Loss: 0.01, Loss_test: 0.01\n",
      "Epoch: 647 Loss: 0.01, Loss_test: 0.01\n",
      "Epoch: 648 Loss: 0.01, Loss_test: 0.01\n",
      "Epoch: 649 Loss: 0.00, Loss_test: 0.01\n",
      "=> result saved!\n",
      "Epoch: 650 Loss: 0.01, Loss_test: 0.01\n",
      "Epoch: 651 Loss: 0.00, Loss_test: 0.01\n",
      "Epoch: 652 Loss: 0.00, Loss_test: 0.00\n",
      "Epoch: 653 Loss: 0.01, Loss_test: 0.00\n",
      "Epoch: 654 Loss: 0.01, Loss_test: 0.00\n",
      "Epoch: 655 Loss: 0.01, Loss_test: 0.00\n",
      "Epoch: 656 Loss: 0.00, Loss_test: 0.00\n",
      "Epoch: 657 Loss: 0.00, Loss_test: 0.00\n",
      "Epoch: 658 Loss: 0.00, Loss_test: 0.00\n",
      "Epoch: 659 Loss: 0.01, Loss_test: 0.00\n",
      "=> result saved!\n",
      "Epoch: 660 Loss: 0.01, Loss_test: 0.00\n",
      "Epoch: 661 Loss: 0.01, Loss_test: 0.00\n",
      "Epoch: 662 Loss: 0.01, Loss_test: 0.00\n",
      "Epoch: 663 Loss: 0.01, Loss_test: 0.00\n",
      "Epoch: 664 Loss: 0.00, Loss_test: 0.00\n",
      "Epoch: 665 Loss: 0.00, Loss_test: 0.00\n",
      "Epoch: 666 Loss: 0.01, Loss_test: 0.00\n",
      "Epoch: 667 Loss: 0.01, Loss_test: 0.00\n",
      "Epoch: 668 Loss: 0.01, Loss_test: 0.00\n",
      "Epoch: 669 Loss: 0.00, Loss_test: 0.00\n",
      "=> result saved!\n",
      "Epoch: 670 Loss: 0.01, Loss_test: 0.00\n",
      "Epoch: 671 Loss: 0.00, Loss_test: 0.00\n",
      "Epoch: 672 Loss: 0.01, Loss_test: 0.00\n",
      "Epoch: 673 Loss: 0.00, Loss_test: 0.00\n",
      "Epoch: 674 Loss: 0.00, Loss_test: 0.00\n",
      "Epoch: 675 Loss: 0.01, Loss_test: 0.00\n",
      "Epoch: 676 Loss: 0.00, Loss_test: 0.00\n",
      "Epoch: 677 Loss: 0.01, Loss_test: 0.00\n",
      "Epoch: 678 Loss: 0.01, Loss_test: 0.00\n",
      "Epoch: 679 Loss: 0.01, Loss_test: 0.00\n",
      "=> result saved!\n",
      "Epoch: 680 Loss: 0.00, Loss_test: 0.00\n",
      "Epoch: 681 Loss: 0.01, Loss_test: 0.00\n",
      "Epoch: 682 Loss: 0.00, Loss_test: 0.00\n",
      "Epoch: 683 Loss: 0.02, Loss_test: 0.01\n",
      "Epoch: 684 Loss: 0.01, Loss_test: 0.02\n",
      "Epoch: 685 Loss: 0.00, Loss_test: 0.04\n",
      "Epoch: 686 Loss: 0.01, Loss_test: 0.04\n",
      "Epoch: 687 Loss: 0.00, Loss_test: 0.04\n",
      "Epoch: 688 Loss: 0.02, Loss_test: 0.02\n",
      "Epoch: 689 Loss: 0.01, Loss_test: 0.01\n",
      "=> result saved!\n",
      "Epoch: 690 Loss: 0.01, Loss_test: 0.02\n",
      "Epoch: 691 Loss: 0.01, Loss_test: 0.02\n",
      "Epoch: 692 Loss: 0.01, Loss_test: 0.02\n",
      "Epoch: 693 Loss: 0.00, Loss_test: 0.02\n",
      "Epoch: 694 Loss: 0.02, Loss_test: 0.02\n",
      "Epoch: 695 Loss: 0.02, Loss_test: 0.02\n",
      "Epoch: 696 Loss: 0.01, Loss_test: 0.01\n",
      "Epoch: 697 Loss: 0.01, Loss_test: 0.01\n",
      "Epoch: 698 Loss: 0.01, Loss_test: 0.01\n",
      "Epoch: 699 Loss: 0.02, Loss_test: 0.01\n",
      "=> result saved!\n",
      "Epoch: 700 Loss: 0.01, Loss_test: 0.01\n",
      "Epoch: 701 Loss: 0.01, Loss_test: 0.01\n",
      "Epoch: 702 Loss: 0.01, Loss_test: 0.01\n",
      "Epoch: 703 Loss: 0.01, Loss_test: 0.01\n",
      "Epoch: 704 Loss: 0.06, Loss_test: 0.01\n",
      "Epoch: 705 Loss: 0.01, Loss_test: 0.01\n",
      "Epoch: 706 Loss: 0.01, Loss_test: 0.02\n"
     ]
    },
    {
     "name": "stdout",
     "output_type": "stream",
     "text": [
      "Epoch: 707 Loss: 0.02, Loss_test: 0.02\n",
      "Epoch: 708 Loss: 0.05, Loss_test: 0.01\n",
      "Epoch: 709 Loss: 0.01, Loss_test: 0.01\n",
      "=> result saved!\n",
      "Epoch: 710 Loss: 0.01, Loss_test: 0.01\n",
      "Epoch: 711 Loss: 0.01, Loss_test: 0.01\n",
      "Epoch: 712 Loss: 0.02, Loss_test: 0.01\n",
      "Epoch: 713 Loss: 0.01, Loss_test: 0.01\n",
      "Epoch: 714 Loss: 0.01, Loss_test: 0.01\n",
      "Epoch: 715 Loss: 0.02, Loss_test: 0.01\n",
      "Epoch: 716 Loss: 0.01, Loss_test: 0.01\n",
      "Epoch: 717 Loss: 0.01, Loss_test: 0.01\n",
      "Epoch: 718 Loss: 0.01, Loss_test: 0.01\n",
      "Epoch: 719 Loss: 0.01, Loss_test: 0.01\n",
      "=> result saved!\n",
      "Epoch: 720 Loss: 0.02, Loss_test: 0.01\n",
      "Epoch: 721 Loss: 0.01, Loss_test: 0.01\n",
      "Epoch: 722 Loss: 0.02, Loss_test: 0.01\n",
      "Epoch: 723 Loss: 0.01, Loss_test: 0.01\n",
      "Epoch: 724 Loss: 0.01, Loss_test: 0.01\n",
      "Epoch: 725 Loss: 0.02, Loss_test: 0.01\n",
      "Epoch: 726 Loss: 0.01, Loss_test: 0.01\n",
      "Epoch: 727 Loss: 0.01, Loss_test: 0.01\n",
      "Epoch: 728 Loss: 0.01, Loss_test: 0.01\n",
      "Epoch: 729 Loss: 0.01, Loss_test: 0.01\n",
      "=> result saved!\n",
      "Epoch: 730 Loss: 0.01, Loss_test: 0.01\n",
      "Epoch: 731 Loss: 0.01, Loss_test: 0.01\n",
      "Epoch: 732 Loss: 0.01, Loss_test: 0.01\n",
      "Epoch: 733 Loss: 0.01, Loss_test: 0.01\n",
      "Epoch: 734 Loss: 0.01, Loss_test: 0.01\n",
      "Epoch: 735 Loss: 0.01, Loss_test: 0.01\n",
      "Epoch: 736 Loss: 0.01, Loss_test: 0.01\n",
      "Epoch: 737 Loss: 0.01, Loss_test: 0.01\n",
      "Epoch: 738 Loss: 0.01, Loss_test: 0.01\n",
      "Epoch: 739 Loss: 0.01, Loss_test: 0.01\n",
      "=> result saved!\n",
      "Epoch: 740 Loss: 0.01, Loss_test: 0.01\n",
      "Epoch: 741 Loss: 0.01, Loss_test: 0.01\n",
      "Epoch: 742 Loss: 0.01, Loss_test: 0.01\n",
      "Epoch: 743 Loss: 0.01, Loss_test: 0.01\n",
      "Epoch: 744 Loss: 0.00, Loss_test: 0.01\n",
      "Epoch: 745 Loss: 0.00, Loss_test: 0.01\n",
      "Epoch: 746 Loss: 0.00, Loss_test: 0.01\n",
      "Epoch: 747 Loss: 0.01, Loss_test: 0.01\n",
      "Epoch: 748 Loss: 0.00, Loss_test: 0.01\n",
      "Epoch: 749 Loss: 0.00, Loss_test: 0.01\n",
      "=> result saved!\n",
      "Epoch: 750 Loss: 0.00, Loss_test: 0.01\n",
      "Epoch: 751 Loss: 0.01, Loss_test: 0.01\n",
      "Epoch: 752 Loss: 0.01, Loss_test: 0.01\n",
      "Epoch: 753 Loss: 0.02, Loss_test: 0.01\n",
      "Epoch: 754 Loss: 0.01, Loss_test: 0.01\n",
      "Epoch: 755 Loss: 0.00, Loss_test: 0.01\n",
      "Epoch: 756 Loss: 0.01, Loss_test: 0.01\n",
      "Epoch: 757 Loss: 0.00, Loss_test: 0.01\n",
      "Epoch: 758 Loss: 0.01, Loss_test: 0.01\n",
      "Epoch: 759 Loss: 0.01, Loss_test: 0.01\n",
      "=> result saved!\n",
      "Epoch: 760 Loss: 0.01, Loss_test: 0.01\n",
      "Epoch: 761 Loss: 0.01, Loss_test: 0.01\n",
      "Epoch: 762 Loss: 0.01, Loss_test: 0.01\n",
      "Epoch: 763 Loss: 0.00, Loss_test: 0.01\n",
      "Epoch: 764 Loss: 0.01, Loss_test: 0.01\n",
      "Epoch: 765 Loss: 0.00, Loss_test: 0.01\n",
      "Epoch: 766 Loss: 0.01, Loss_test: 0.01\n",
      "Epoch: 767 Loss: 0.01, Loss_test: 0.01\n",
      "Epoch: 768 Loss: 0.00, Loss_test: 0.01\n",
      "Epoch: 769 Loss: 0.00, Loss_test: 0.01\n",
      "=> result saved!\n",
      "Epoch: 770 Loss: 0.00, Loss_test: 0.01\n",
      "Epoch: 771 Loss: 0.01, Loss_test: 0.01\n",
      "Epoch: 772 Loss: 0.01, Loss_test: 0.01\n",
      "Epoch: 773 Loss: 0.00, Loss_test: 0.01\n",
      "Epoch: 774 Loss: 0.00, Loss_test: 0.01\n",
      "Epoch: 775 Loss: 0.01, Loss_test: 0.01\n",
      "Epoch: 776 Loss: 0.01, Loss_test: 0.01\n",
      "Epoch: 777 Loss: 0.01, Loss_test: 0.01\n",
      "Epoch: 778 Loss: 0.01, Loss_test: 0.01\n",
      "Epoch: 779 Loss: 0.00, Loss_test: 0.01\n",
      "=> result saved!\n",
      "Epoch: 780 Loss: 0.00, Loss_test: 0.01\n",
      "Epoch: 781 Loss: 0.00, Loss_test: 0.01\n",
      "Epoch: 782 Loss: 0.01, Loss_test: 0.00\n",
      "Epoch: 783 Loss: 0.01, Loss_test: 0.00\n",
      "Epoch: 784 Loss: 0.01, Loss_test: 0.00\n",
      "Epoch: 785 Loss: 0.00, Loss_test: 0.01\n",
      "Epoch: 786 Loss: 0.01, Loss_test: 0.00\n",
      "Epoch: 787 Loss: 0.00, Loss_test: 0.01\n",
      "Epoch: 788 Loss: 0.00, Loss_test: 0.01\n",
      "Epoch: 789 Loss: 0.00, Loss_test: 0.01\n",
      "=> result saved!\n",
      "Epoch: 790 Loss: 0.00, Loss_test: 0.01\n",
      "Epoch: 791 Loss: 0.01, Loss_test: 0.01\n",
      "Epoch: 792 Loss: 0.01, Loss_test: 0.00\n",
      "Epoch: 793 Loss: 0.01, Loss_test: 0.00\n",
      "Epoch: 794 Loss: 0.00, Loss_test: 0.00\n",
      "Epoch: 795 Loss: 0.01, Loss_test: 0.00\n",
      "Epoch: 796 Loss: 0.01, Loss_test: 0.00\n",
      "Epoch: 797 Loss: 0.00, Loss_test: 0.00\n",
      "Epoch: 798 Loss: 0.01, Loss_test: 0.00\n",
      "Epoch: 799 Loss: 0.01, Loss_test: 0.00\n",
      "=> result saved!\n",
      "Epoch: 800 Loss: 0.01, Loss_test: 0.00\n",
      "Epoch: 801 Loss: 0.00, Loss_test: 0.00\n",
      "Epoch: 802 Loss: 0.00, Loss_test: 0.00\n",
      "Epoch: 803 Loss: 0.01, Loss_test: 0.00\n",
      "Epoch: 804 Loss: 0.01, Loss_test: 0.00\n",
      "Epoch: 805 Loss: 0.00, Loss_test: 0.00\n",
      "Epoch: 806 Loss: 0.01, Loss_test: 0.00\n",
      "Epoch: 807 Loss: 0.01, Loss_test: 0.00\n",
      "Epoch: 808 Loss: 0.00, Loss_test: 0.00\n",
      "Epoch: 809 Loss: 0.00, Loss_test: 0.00\n",
      "=> result saved!\n",
      "Epoch: 810 Loss: 0.01, Loss_test: 0.00\n",
      "Epoch: 811 Loss: 0.00, Loss_test: 0.00\n",
      "Epoch: 812 Loss: 0.01, Loss_test: 0.00\n",
      "Epoch: 813 Loss: 0.01, Loss_test: 0.00\n",
      "Epoch: 814 Loss: 0.01, Loss_test: 0.00\n",
      "Epoch: 815 Loss: 0.00, Loss_test: 0.00\n",
      "Epoch: 816 Loss: 0.01, Loss_test: 0.00\n",
      "Epoch: 817 Loss: 0.01, Loss_test: 0.00\n",
      "Epoch: 818 Loss: 0.01, Loss_test: 0.00\n",
      "Epoch: 819 Loss: 0.00, Loss_test: 0.00\n",
      "=> result saved!\n",
      "Epoch: 820 Loss: 0.00, Loss_test: 0.00\n",
      "Epoch: 821 Loss: 0.01, Loss_test: 0.00\n",
      "Epoch: 822 Loss: 0.01, Loss_test: 0.00\n",
      "Epoch: 823 Loss: 0.01, Loss_test: 0.00\n",
      "Epoch: 824 Loss: 0.01, Loss_test: 0.00\n",
      "Epoch: 825 Loss: 0.01, Loss_test: 0.00\n",
      "Epoch: 826 Loss: 0.01, Loss_test: 0.00\n",
      "Epoch: 827 Loss: 0.01, Loss_test: 0.00\n",
      "Epoch: 828 Loss: 0.01, Loss_test: 0.00\n",
      "Epoch: 829 Loss: 0.00, Loss_test: 0.00\n",
      "=> result saved!\n",
      "Epoch: 830 Loss: 0.00, Loss_test: 0.00\n",
      "Epoch: 831 Loss: 0.01, Loss_test: 0.00\n",
      "Epoch: 832 Loss: 0.00, Loss_test: 0.00\n",
      "Epoch: 833 Loss: 0.00, Loss_test: 0.00\n",
      "Epoch: 834 Loss: 0.01, Loss_test: 0.00\n",
      "Epoch: 835 Loss: 0.00, Loss_test: 0.00\n",
      "Epoch: 836 Loss: 0.00, Loss_test: 0.00\n",
      "Epoch: 837 Loss: 0.00, Loss_test: 0.00\n",
      "Epoch: 838 Loss: 0.01, Loss_test: 0.00\n",
      "Epoch: 839 Loss: 0.01, Loss_test: 0.00\n",
      "=> result saved!\n",
      "Epoch: 840 Loss: 0.00, Loss_test: 0.00\n",
      "Epoch: 841 Loss: 0.01, Loss_test: 0.00\n",
      "Epoch: 842 Loss: 0.01, Loss_test: 0.00\n",
      "Epoch: 843 Loss: 0.00, Loss_test: 0.00\n",
      "Epoch: 844 Loss: 0.01, Loss_test: 0.00\n",
      "Epoch: 845 Loss: 0.00, Loss_test: 0.00\n",
      "Epoch: 846 Loss: 0.01, Loss_test: 0.00\n",
      "Epoch: 847 Loss: 0.00, Loss_test: 0.00\n",
      "Epoch: 848 Loss: 0.01, Loss_test: 0.00\n",
      "Epoch: 849 Loss: 0.00, Loss_test: 0.00\n",
      "=> result saved!\n",
      "Epoch: 850 Loss: 0.00, Loss_test: 0.00\n",
      "Epoch: 851 Loss: 0.01, Loss_test: 0.00\n",
      "Epoch: 852 Loss: 0.01, Loss_test: 0.00\n",
      "Epoch: 853 Loss: 0.00, Loss_test: 0.00\n",
      "Epoch: 854 Loss: 0.00, Loss_test: 0.00\n",
      "Epoch: 855 Loss: 0.00, Loss_test: 0.00\n",
      "Epoch: 856 Loss: 0.01, Loss_test: 0.00\n",
      "Epoch: 857 Loss: 0.00, Loss_test: 0.00\n",
      "Epoch: 858 Loss: 0.00, Loss_test: 0.00\n",
      "Epoch: 859 Loss: 0.00, Loss_test: 0.00\n",
      "=> result saved!\n",
      "Epoch: 860 Loss: 0.01, Loss_test: 0.00\n",
      "Epoch: 861 Loss: 0.00, Loss_test: 0.00\n",
      "Epoch: 862 Loss: 0.01, Loss_test: 0.00\n",
      "Epoch: 863 Loss: 0.00, Loss_test: 0.00\n",
      "Epoch: 864 Loss: 0.00, Loss_test: 0.00\n",
      "Epoch: 865 Loss: 0.01, Loss_test: 0.00\n",
      "Epoch: 866 Loss: 0.01, Loss_test: 0.00\n",
      "Epoch: 867 Loss: 0.01, Loss_test: 0.00\n",
      "Epoch: 868 Loss: 0.00, Loss_test: 0.00\n",
      "Epoch: 869 Loss: 0.00, Loss_test: 0.00\n",
      "=> result saved!\n",
      "Epoch: 870 Loss: 0.00, Loss_test: 0.00\n",
      "Epoch: 871 Loss: 0.00, Loss_test: 0.00\n",
      "Epoch: 872 Loss: 0.01, Loss_test: 0.00\n",
      "Epoch: 873 Loss: 0.00, Loss_test: 0.00\n",
      "Epoch: 874 Loss: 0.01, Loss_test: 0.00\n",
      "Epoch: 875 Loss: 0.00, Loss_test: 0.00\n",
      "Epoch: 876 Loss: 0.01, Loss_test: 0.00\n",
      "Epoch: 877 Loss: 0.01, Loss_test: 0.00\n",
      "Epoch: 878 Loss: 0.00, Loss_test: 0.00\n",
      "Epoch: 879 Loss: 0.01, Loss_test: 0.00\n",
      "=> result saved!\n",
      "Epoch: 880 Loss: 0.00, Loss_test: 0.00\n",
      "Epoch: 881 Loss: 0.00, Loss_test: 0.00\n",
      "Epoch: 882 Loss: 0.00, Loss_test: 0.00\n",
      "Epoch: 883 Loss: 0.00, Loss_test: 0.00\n",
      "Epoch: 884 Loss: 0.01, Loss_test: 0.00\n",
      "Epoch: 885 Loss: 0.01, Loss_test: 0.00\n",
      "Epoch: 886 Loss: 0.00, Loss_test: 0.00\n",
      "Epoch: 887 Loss: 0.00, Loss_test: 0.00\n",
      "Epoch: 888 Loss: 0.01, Loss_test: 0.00\n",
      "Epoch: 889 Loss: 0.02, Loss_test: 0.00\n",
      "=> result saved!\n",
      "Epoch: 890 Loss: 0.01, Loss_test: 0.00\n",
      "Epoch: 891 Loss: 0.00, Loss_test: 0.00\n",
      "Epoch: 892 Loss: 0.00, Loss_test: 0.00\n",
      "Epoch: 893 Loss: 0.00, Loss_test: 0.00\n",
      "Epoch: 894 Loss: 0.00, Loss_test: 0.00\n",
      "Epoch: 895 Loss: 0.00, Loss_test: 0.00\n",
      "Epoch: 896 Loss: 0.01, Loss_test: 0.00\n",
      "Epoch: 897 Loss: 0.00, Loss_test: 0.00\n",
      "Epoch: 898 Loss: 0.00, Loss_test: 0.00\n",
      "Epoch: 899 Loss: 0.00, Loss_test: 0.00\n",
      "=> result saved!\n",
      "Epoch: 900 Loss: 0.00, Loss_test: 0.00\n"
     ]
    }
   ],
   "source": [
    "end_train = epochs - limit_train\n",
    "for epoch in range(limit_train, end_train):\n",
    "    batch_triplet_train, \\\n",
    "        train_input_sample, train_sim = batch_iterator(baseline, retrieval, model, baseline.train_data, \n",
    "                                                       baseline.dup_sets_train, bug_train_ids, \n",
    "                                                           batch_size, 1, issues_by_buckets, TRIPLET_HARD=False)\n",
    "    train_batch = [train_input_sample['title'], train_input_sample['description'], train_input_sample['info'], train_sim]\n",
    "    \n",
    "\n",
    "    h = model.train_on_batch(x=train_batch, y=train_sim)\n",
    "    h_validation = model.test_on_batch(x=validation_sample, y=valid_sim)\n",
    "    \n",
    "    # save results\n",
    "    result['train'].append([h])\n",
    "    result['test'].append([h_validation])\n",
    "    \n",
    "    if( (epoch+1) % 10 == 0 or (epoch+1 == end_train )):\n",
    "        save_loss(result)\n",
    "    \n",
    "    print(\"Epoch: {} Loss: {:.2f}, Loss_test: {:.2f}\".format(epoch+1, h, h_validation))"
   ]
  },
  {
   "cell_type": "code",
   "execution_count": 48,
   "metadata": {},
   "outputs": [
    {
     "data": {
      "text/plain": [
       "(900, 900)"
      ]
     },
     "execution_count": 48,
     "metadata": {},
     "output_type": "execute_result"
    }
   ],
   "source": [
    "len(result['train']), len(result['test'])"
   ]
  },
  {
   "cell_type": "code",
   "execution_count": 49,
   "metadata": {},
   "outputs": [],
   "source": [
    "encoded = model.get_layer('merge_features_in')\n",
    "output = encoded.output\n",
    "inputs = similarity_model.inputs[:-1]\n",
    "encoded_anchor = Model(inputs = inputs, outputs = output, name = 'Similarity_Model')"
   ]
  },
  {
   "cell_type": "code",
   "execution_count": 50,
   "metadata": {},
   "outputs": [
    {
     "data": {
      "text/plain": [
       "'bert_preprocessing_baseline_1000_feature1000epochs_64batch(openoffice)'"
      ]
     },
     "execution_count": 50,
     "metadata": {},
     "output_type": "execute_result"
    }
   ],
   "source": [
    "SAVE_PATH.replace('@number_of_epochs@', str(epochs))"
   ]
  },
  {
   "cell_type": "code",
   "execution_count": 51,
   "metadata": {},
   "outputs": [
    {
     "name": "stdout",
     "output_type": "stream",
     "text": [
      "Saved model 'modelos/model_bert_preprocessing_baseline_1000_feature_1000epochs_64batch(openoffice).h5' to disk\n"
     ]
    },
    {
     "data": {
      "text/plain": [
       "'Model saved'"
      ]
     },
     "execution_count": 51,
     "metadata": {},
     "output_type": "execute_result"
    }
   ],
   "source": [
    "experiment.save_model(model, SAVE_PATH.replace('@number_of_epochs@', str(epochs)))\n",
    "experiment.save_model(encoded_anchor, SAVE_PATH_FEATURE.replace('@number_of_epochs@', str(epochs)), verbose=1)\n",
    "\"Model saved\""
   ]
  },
  {
   "cell_type": "code",
   "execution_count": 52,
   "metadata": {},
   "outputs": [
    {
     "data": {
      "application/vnd.jupyter.widget-view+json": {
       "model_id": "72de6338bc0f490babbe6930beada0fa",
       "version_major": 2,
       "version_minor": 0
      },
      "text/plain": [
       "HBox(children=(IntProgress(value=0, max=8265), HTML(value='')))"
      ]
     },
     "metadata": {},
     "output_type": "display_data"
    },
    {
     "name": "stdout",
     "output_type": "stream",
     "text": [
      "\n"
     ]
    },
    {
     "data": {
      "application/vnd.jupyter.widget-view+json": {
       "model_id": "9c3d1d9e7aaf450d88bc491b24f0f520",
       "version_major": 2,
       "version_minor": 0
      },
      "text/plain": [
       "HBox(children=(IntProgress(value=0, max=11757), HTML(value='')))"
      ]
     },
     "metadata": {},
     "output_type": "display_data"
    },
    {
     "name": "stdout",
     "output_type": "stream",
     "text": [
      "\n"
     ]
    },
    {
     "data": {
      "application/vnd.jupyter.widget-view+json": {
       "model_id": "d236472af4fb470894706f82ad78890d",
       "version_major": 2,
       "version_minor": 0
      },
      "text/plain": [
       "HBox(children=(IntProgress(value=0, max=12837), HTML(value='')))"
      ]
     },
     "metadata": {},
     "output_type": "display_data"
    },
    {
     "name": "stdout",
     "output_type": "stream",
     "text": [
      "\n"
     ]
    },
    {
     "data": {
      "application/vnd.jupyter.widget-view+json": {
       "model_id": "304847b6ea834229ae5255f1879aeac0",
       "version_major": 2,
       "version_minor": 0
      },
      "text/plain": [
       "HBox(children=(IntProgress(value=1, bar_style='info', max=1), HTML(value='')))"
      ]
     },
     "metadata": {},
     "output_type": "display_data"
    },
    {
     "name": "stdout",
     "output_type": "stream",
     "text": [
      "\n"
     ]
    },
    {
     "data": {
      "application/vnd.jupyter.widget-view+json": {
       "model_id": "b8b24b339fec4fa89cc4c74aefc8aaac",
       "version_major": 2,
       "version_minor": 0
      },
      "text/plain": [
       "HBox(children=(IntProgress(value=1, bar_style='info', max=1), HTML(value='')))"
      ]
     },
     "metadata": {},
     "output_type": "display_data"
    },
    {
     "name": "stdout",
     "output_type": "stream",
     "text": [
      "\n"
     ]
    },
    {
     "data": {
      "application/vnd.jupyter.widget-view+json": {
       "model_id": "baa2c125bd7b410d9ccc45aa2328cea9",
       "version_major": 2,
       "version_minor": 0
      },
      "text/plain": [
       "HBox(children=(IntProgress(value=1, bar_style='info', max=1), HTML(value='')))"
      ]
     },
     "metadata": {},
     "output_type": "display_data"
    },
    {
     "name": "stdout",
     "output_type": "stream",
     "text": [
      "\n"
     ]
    },
    {
     "data": {
      "application/vnd.jupyter.widget-view+json": {
       "model_id": "a67aafb817524cdeb61096a18244519c",
       "version_major": 2,
       "version_minor": 0
      },
      "text/plain": [
       "HBox(children=(IntProgress(value=0, max=11757), HTML(value='')))"
      ]
     },
     "metadata": {},
     "output_type": "display_data"
    },
    {
     "name": "stdout",
     "output_type": "stream",
     "text": [
      "\n",
      "Epoch: 900 Loss: 0.00, Loss_test: 0.00, recall@25: 0.57\n"
     ]
    }
   ],
   "source": [
    "recall, exported_rank, debug = experiment.evaluate_validation_test(retrieval, 1, encoded_anchor, issues_by_buckets, bug_train_ids)\n",
    "print(\"Epoch: {} Loss: {:.2f}, Loss_test: {:.2f}, recall@25: {:.2f}\".format(epoch+1, h, h_validation, recall))"
   ]
  },
  {
   "cell_type": "code",
   "execution_count": 53,
   "metadata": {},
   "outputs": [
    {
     "data": {
      "text/plain": [
       "0.57"
      ]
     },
     "execution_count": 53,
     "metadata": {},
     "output_type": "execute_result"
    }
   ],
   "source": [
    "recall"
   ]
  },
  {
   "cell_type": "code",
   "execution_count": 54,
   "metadata": {},
   "outputs": [
    {
     "data": {
      "text/plain": [
       "['98306:88871,50853,33630,90791|96073:0.5842559933662415,61075:0.5451929569244385,95954:0.5200946927070618,80153:0.5191681683063507,29075:0.5184654295444489,99013:0.5133660435676575,58711:0.5060490369796753,97116:0.5042210817337036,8465:0.504213809967041,69134:0.500678151845932,47977:0.4937414526939392,96344:0.49258172512054443,43048:0.49110668897628784,45548:0.48843884468078613,61946:0.48817211389541626,67235:0.485292911529541,54812:0.4849095344543457,92892:0.48309218883514404,98045:0.48304492235183716,39362:0.48199695348739624,97326:0.4805234670639038,100456:0.47977375984191895,79481:0.47684282064437866,38256:0.4760597348213196,78716:0.475119411945343,20737:0.47371959686279297,35246:0.4698829650878906,88871:0.46914684772491455,85098:0.4685394763946533',\n",
       " '32771:32490,33548,32560,33879,32699|74413:0.4969496726989746,20458:0.49432307481765747,13469:0.4941874146461487,81789:0.48347657918930054,46340:0.4825981855392456,9672:0.48106950521469116,44514:0.4761781692504883,20693:0.47594743967056274,50601:0.47557497024536133,12588:0.47327685356140137,62089:0.4711765646934509,34364:0.47038596868515015,24579:0.46943849325180054,4129:0.46667367219924927,33506:0.46663737297058105,28063:0.46537303924560547,8520:0.46471071243286133,8833:0.46446913480758667,41017:0.46419239044189453,32699:0.46213650703430176,89982:0.46142059564590454,2331:0.4606233239173889,30953:0.46041107177734375,60778:0.4588966369628906,2890:0.4572793245315552,49976:0.45710259675979614,11655:0.45651674270629883,45710:0.45626014471054077,50308:0.4557490944862366',\n",
       " '32772:22694,36970,39820,34488,33298,36760,34911|26466:0.5725627243518829,4587:0.5423682928085327,13995:0.5399342179298401,28990:0.5319762825965881,69417:0.5312419831752777,27862:0.5244860053062439,19724:0.5202282667160034,29281:0.5163157284259796,29163:0.5155323147773743,28364:0.5123668015003204,27336:0.5100526809692383,23961:0.508222907781601,92257:0.5078472197055817,25443:0.5073899626731873,29319:0.5053004026412964,27734:0.5051470398902893,16444:0.5051077604293823,29797:0.5040812790393829,29423:0.5036019384860992,27024:0.5006641745567322,19689:0.4979175329208374,21897:0.49781036376953125,16705:0.49710601568222046,21304:0.49697983264923096,45710:0.4962090849876404,7539:0.4946057200431824,1923:0.492837131023407,64836:0.49257081747055054,33853:0.49192434549331665',\n",
       " '32776:30241,33762,31134,33183|16467:0.5196712017059326,16466:0.5196709632873535,17176:0.5141516625881195,20458:0.5097843706607819,8833:0.5083767771720886,13005:0.5074701309204102,22109:0.5072087347507477,16465:0.5064862668514252,68769:0.5044823884963989,16885:0.5018032789230347,34401:0.4980560541152954,13832:0.49599403142929077,38304:0.48812443017959595,14621:0.4875830411911011,2595:0.4871530532836914,12899:0.4868677258491516,23577:0.48543691635131836,23187:0.484993040561676,20113:0.48384565114974976,91485:0.4837341904640198,13336:0.4836518168449402,5102:0.48308229446411133,7754:0.4817150831222534,23347:0.48143982887268066,26520:0.481270432472229,48971:0.4811995029449463,17269:0.47921860218048096,7640:0.47728610038757324,3241:0.4770403504371643',\n",
       " '65545:55967|58901:0.47647297382354736,76481:0.4559401273727417,49142:0.4319300651550293,51284:0.430458128452301,69295:0.4131249189376831,98394:0.4083859324455261,65107:0.40764814615249634,41095:0.4057539701461792,26385:0.4053696393966675,87804:0.40369367599487305,29592:0.4025144577026367,105739:0.3996775150299072,55105:0.3989601731300354,19498:0.39709508419036865,71510:0.3958745002746582,115419:0.3942747712135315,108126:0.3917222023010254,59483:0.3916500210762024,72486:0.390974760055542,51527:0.390272319316864,56707:0.3888629674911499,52325:0.38602215051651,62947:0.3842045068740845,50671:0.3829116225242615,52176:0.38141077756881714,55288:0.38126420974731445,82001:0.38068968057632446,82002:0.38068968057632446,81998:0.38068968057632446',\n",
       " '65549:26122,62365,3411,74204,94365|26795:0.5836052596569061,9440:0.580839991569519,29916:0.5690799951553345,39526:0.5670105218887329,46584:0.5624257624149323,61177:0.5571512877941132,71692:0.5563324093818665,84855:0.5524971187114716,36426:0.5491339266300201,114810:0.5445367395877838,48718:0.5441625714302063,62538:0.5432699024677277,61150:0.5417064130306244,90255:0.5402509272098541,109879:0.5376944243907928,13699:0.5375350713729858,27421:0.5350279808044434,81020:0.534331202507019,83124:0.5337455868721008,1163:0.532543420791626,115858:0.5305512845516205,76037:0.5299327373504639,54194:0.5295303463935852,30993:0.5271572172641754,75104:0.5253790020942688,71711:0.5226545333862305,91936:0.5224618017673492,21654:0.5216861069202423,81722:0.5212705135345459',\n",
       " '98318:98570|102762:0.5117914974689484,102195:0.5018753707408905,102419:0.49634087085723877,16106:0.4908332824707031,102984:0.47930359840393066,101869:0.47828227281570435,54133:0.4707808494567871,110795:0.46669304370880127,45590:0.46591782569885254,17633:0.4643877148628235,104753:0.46435946226119995,102506:0.4637044072151184,108088:0.4636962413787842,99728:0.4626923203468323,18626:0.46252232789993286,47055:0.46095967292785645,99954:0.459092378616333,51445:0.4585363268852234,15578:0.4576728940010071,17877:0.4567488431930542,115318:0.4550989270210266,95690:0.4538283348083496,90862:0.45189905166625977,55261:0.4510640501976013,46485:0.4505305290222168,23970:0.44464194774627686,31486:0.4442419409751892,90071:0.44412368535995483,102370:0.4425746202468872',\n",
       " '98319:107242,102941|36741:0.5849539637565613,34263:0.5834413170814514,21654:0.5830159783363342,22112:0.5771060287952423,48006:0.5731758773326874,37916:0.5716532766819,81722:0.5575272738933563,112435:0.5493673980236053,19791:0.5465637743473053,56969:0.5447445809841156,44648:0.5392528474330902,74530:0.5369189381599426,3997:0.5365876257419586,78025:0.5316928029060364,50655:0.530889481306076,37366:0.5304931998252869,46892:0.5291446149349213,46584:0.5289746522903442,35677:0.5283462703227997,76604:0.5282574892044067,29890:0.5260574221611023,90255:0.525426596403122,29013:0.5240005552768707,24164:0.5231066048145294,26076:0.5226503312587738,44768:0.5224828720092773,21653:0.5218891203403473,39990:0.5189198553562164,29916:0.5166926085948944',\n",
       " '18:100,271|63192:0.5873323678970337,6937:0.5685281455516815,6619:0.5346100628376007,7271:0.5338959097862244,598:0.5325992405414581,1271:0.5282859802246094,56689:0.5277932584285736,57393:0.5221221148967743,271:0.49796199798583984,82229:0.48999297618865967,6477:0.4876669645309448,10122:0.4850151538848877,2355:0.48441749811172485,12303:0.4820241332054138,12204:0.4736780524253845,22490:0.47355252504348755,7122:0.47283226251602173,13343:0.46853119134902954,943:0.46545839309692383,22867:0.4598589539527893,33531:0.4589013457298279,14159:0.4574587345123291,65954:0.45631831884384155,1950:0.4546550512313843,25375:0.45094728469848633,2304:0.44360673427581787,2305:0.44360673427581787,580:0.4360889196395874,67288:0.4333665370941162',\n",
       " '32788:31681,32789,31726|32789:0.9997715535428142,70837:0.5230390727519989,3754:0.5149878561496735,3755:0.5149878561496735,3756:0.5149878561496735,114525:0.5121418535709381,33951:0.5103551149368286,91892:0.5096453130245209,89095:0.5080642700195312,86924:0.5044832229614258,22871:0.5014611780643463,34072:0.4990726113319397,89163:0.4947347640991211,37232:0.4942557215690613,55272:0.4933162331581116,52430:0.49308347702026367,11695:0.49296027421951294,2022:0.4923604130744934,37175:0.49112117290496826,73183:0.4888712763786316,20407:0.4886091947555542,88321:0.4881197214126587,88322:0.4881197214126587,5783:0.4875563979148865,28551:0.48730331659317017,68730:0.48609334230422974,44012:0.4854317903518677,13081:0.4818927049636841,10646:0.48147571086883545',\n",
       " '32789:31681,32788,31726|32788:0.9997715535428142,70837:0.5230390727519989,3754:0.5149878561496735,3755:0.5149878561496735,3756:0.5149878561496735,114525:0.5121418535709381,33951:0.5103551149368286,91892:0.5096453130245209,89095:0.5080642700195312,86924:0.5044832229614258,22871:0.5014611780643463,34072:0.4990726113319397,89163:0.4947347640991211,37232:0.4942557215690613,55272:0.4933162331581116,52430:0.49308347702026367,11695:0.49296027421951294,2022:0.4923604130744934,37175:0.49112117290496826,73183:0.4888712763786316,20407:0.4886091947555542,88321:0.4881197214126587,88322:0.4881197214126587,5783:0.4875563979148865,28551:0.48730331659317017,68730:0.48609334230422974,44012:0.4854317903518677,13081:0.4818927049636841,10646:0.48147571086883545',\n",
       " '65561:27520,50753,21280,85187,51168,35298,83046,27630,81041,46738,46739,46740,103094,48951,55995,76895|27630:0.5662871301174164,5399:0.559533953666687,81041:0.5553643107414246,33402:0.5511079728603363,10985:0.54547980427742,6348:0.5261111557483673,63916:0.5245553851127625,41004:0.5204144716262817,4040:0.5200333893299103,8363:0.5196331441402435,97789:0.5171244442462921,8301:0.5162093341350555,33851:0.5155207216739655,9222:0.515513688325882,2977:0.5152053833007812,22719:0.5151228308677673,48951:0.5132986903190613,4117:0.5130617916584015,4984:0.5094636976718903,60285:0.5092471241950989,14675:0.5083537697792053,14769:0.5072340071201324,50753:0.5064135193824768,9217:0.5049453973770142,39839:0.5045004487037659,15312:0.5040936470031738,22281:0.5030943751335144,15047:0.5019280314445496,7796:0.5008658766746521',\n",
       " '27:59,92|51937:0.5413315892219543,59:0.5375500321388245,8836:0.5336237549781799,4471:0.5323263704776764,52284:0.5310794115066528,52538:0.5291405022144318,8360:0.5280207693576813,16981:0.5193589627742767,17286:0.5174126029014587,28541:0.5167951285839081,5791:0.5167906582355499,33557:0.5162218511104584,7917:0.5140820145606995,8444:0.511725664138794,1180:0.511290967464447,12236:0.5100321471691132,109630:0.5088127255439758,51824:0.506089061498642,53813:0.5053731799125671,41000:0.5051235258579254,22710:0.5050173699855804,22711:0.5050173699855804,22712:0.5050173699855804,4822:0.5046749711036682,16984:0.50394406914711,6924:0.49923527240753174,9452:0.49796193838119507,17085:0.4971464276313782,9605:0.4963586926460266',\n",
       " '32:42944,6342,3207,18886,32905,54854,54855,67697,4756,23861,18648,58138,40286|94907:0.4919191002845764,39000:0.4591730237007141,92794:0.4577990770339966,2905:0.4554455876350403,83808:0.4448925852775574,85786:0.4442681670188904,10662:0.4383906126022339,31850:0.4364166855812073,28429:0.43455785512924194,104058:0.43226009607315063,18397:0.4319148659706116,19145:0.4315919876098633,21693:0.42868417501449585,4183:0.4278123378753662,32678:0.4265814423561096,18186:0.42567551136016846,63533:0.4252670407295227,12148:0.4220162630081177,37066:0.41945767402648926,38893:0.4184660315513611,44824:0.4177689552307129,40602:0.4168972969055176,16068:0.41573256254196167,30274:0.4127945303916931,58645:0.4115610122680664,64525:0.4080168604850769,54654:0.4078049063682556,36175:0.407762348651886,4911:0.40765076875686646',\n",
       " '32813:33041|33041:0.5187929272651672,17581:0.506572961807251,51824:0.5053309798240662,34922:0.5003955960273743,38425:0.4958042502403259,52426:0.49444615840911865,45883:0.4937744140625,1180:0.49147647619247437,55313:0.4909874200820923,47060:0.490852952003479,31585:0.48926079273223877,76457:0.48804140090942383,52697:0.48557937145233154,52285:0.4848874807357788,51937:0.4827114939689636,17372:0.4802502989768982,74422:0.480049192905426,51549:0.4792800545692444,49588:0.47907012701034546,52874:0.47879934310913086,52875:0.47879934310913086,80999:0.4780728220939636,51595:0.475532591342926,32766:0.47502100467681885,17100:0.472770631313324,53813:0.47240501642227173,23200:0.4713210463523865,91795:0.4707403779029846,35648:0.4686705470085144',\n",
       " '32814:37274,38852,37357|37274:0.5110486149787903,21919:0.4697028398513794,21920:0.4693511128425598,16752:0.45670467615127563,12942:0.45585381984710693,52977:0.4406586289405823,14994:0.43363744020462036,14995:0.43363744020462036,14996:0.43363744020462036,27197:0.4311361312866211,65917:0.4224502444267273,51409:0.42005687952041626,10418:0.41978973150253296,50729:0.4187915325164795,34161:0.4184080958366394,110653:0.41817814111709595,58277:0.4166311025619507,61941:0.4120404124259949,70316:0.41120922565460205,70317:0.41120922565460205,61523:0.4091838002204895,32398:0.4091554284095764,28192:0.4032812714576721,37704:0.3994096517562866,62224:0.39731985330581665,112339:0.3964638113975525,77422:0.3962429165840149,82101:0.39577198028564453,90178:0.3925061821937561',\n",
       " '32815:32033,31362,31874,33062,31550|31572:0.5381104946136475,32981:0.5319526195526123,32033:0.5315941572189331,58209:0.5178971886634827,34275:0.5176695883274078,43744:0.5154517292976379,79418:0.5131396651268005,44811:0.5130868256092072,44415:0.508735865354538,62065:0.5064213573932648,32088:0.5050292015075684,50185:0.504915863275528,31362:0.5006662011146545,66701:0.4892515540122986,32826:0.48893100023269653,48194:0.48884111642837524,52560:0.4884910583496094,46044:0.48526203632354736,12074:0.4844440221786499,41469:0.4826909899711609,32087:0.48196059465408325,68729:0.4780998229980469,33508:0.4774378538131714,60782:0.4771651029586792,48864:0.4766923189163208,46724:0.47452569007873535,32850:0.4742928147315979,17216:0.4741054177284241,32241:0.47322654724121094',\n",
       " '65586:71849,67371,67476,83252,88157,67642,71099,69789,81630|105991:0.5393210053443909,63160:0.5245105922222137,24182:0.5205133855342865,103043:0.5029980838298798,20724:0.5024793446063995,34926:0.5009726285934448,41925:0.4991534352302551,53355:0.4983217716217041,38518:0.4959089756011963,59910:0.49442553520202637,4278:0.4901004433631897,63591:0.4893578886985779,97719:0.48350799083709717,103347:0.48036468029022217,63479:0.47828638553619385,95630:0.47618287801742554,20526:0.4760119915008545,49492:0.4755094051361084,15468:0.475508451461792,96637:0.47513431310653687,66941:0.4745124578475952,66974:0.4730006456375122,84523:0.47188955545425415,18457:0.47163766622543335,84874:0.4699481129646301,27000:0.4693077802658081,69097:0.46907979249954224,100166:0.4678751826286316,50265:0.46748119592666626',\n",
       " '51:52|52:0.8588951826095581,25375:0.6419987380504608,82242:0.5996839702129364,71850:0.582231193780899,31330:0.5690293908119202,1537:0.5544171035289764,9734:0.5316140353679657,1561:0.5207374393939972,66782:0.5128264129161835,2304:0.5123420059680939,2305:0.5123420059680939,5543:0.503795862197876,23306:0.49515968561172485,111388:0.4820435047149658,8731:0.4759904146194458,7696:0.47026145458221436,3710:0.46430671215057373,37202:0.457271933555603,3712:0.45532548427581787,15885:0.4516916275024414,15361:0.4492146372795105,15362:0.4492146372795105,23742:0.4473631978034973,26030:0.44709473848342896,24093:0.4457215666770935,20843:0.44171327352523804,20844:0.44171327352523804,20845:0.44171327352523804,119046:0.4308592677116394',\n",
       " '52:51|51:0.8588951826095581,65954:0.6704002022743225,12303:0.6033156514167786,28408:0.5995902717113495,65953:0.5848153531551361,71850:0.5536080002784729,82336:0.5525450706481934,61921:0.5360312461853027,580:0.5203912258148193,18731:0.5192773938179016,24914:0.5116018950939178,83513:0.5099018812179565,7271:0.49590998888015747,63192:0.48220402002334595,111354:0.47984832525253296,67288:0.47781676054000854,88479:0.47637563943862915,26030:0.4577339291572571,15371:0.4522744417190552,7852:0.45045024156570435,5543:0.4492173194885254,18409:0.4484879970550537,18410:0.4484879970550537,18413:0.4484879970550537,18414:0.4484879970550537,38879:0.44760221242904663,3710:0.4455299377441406,8731:0.4451103210449219,31084:0.43957674503326416']"
      ]
     },
     "execution_count": 54,
     "metadata": {},
     "output_type": "execute_result"
    }
   ],
   "source": [
    "exported_rank[:20]"
   ]
  },
  {
   "cell_type": "markdown",
   "metadata": {},
   "source": [
    "### Retrieval evaluation"
   ]
  },
  {
   "cell_type": "code",
   "execution_count": 55,
   "metadata": {},
   "outputs": [
    {
     "name": "stdout",
     "output_type": "stream",
     "text": [
      "Total of queries: 8265\n"
     ]
    }
   ],
   "source": [
    "print(\"Total of queries:\", len(retrieval.test))"
   ]
  },
  {
   "cell_type": "markdown",
   "metadata": {},
   "source": [
    "#### Getting the model trained"
   ]
  },
  {
   "cell_type": "code",
   "execution_count": 56,
   "metadata": {},
   "outputs": [
    {
     "data": {
      "text/plain": [
       "'bert_preprocessing_baseline_1000_feature_1000epochs_64batch(openoffice)'"
      ]
     },
     "execution_count": 56,
     "metadata": {},
     "output_type": "execute_result"
    }
   ],
   "source": [
    "SAVE_PATH_FEATURE.replace('@number_of_epochs@', str(epochs))"
   ]
  },
  {
   "cell_type": "code",
   "execution_count": 57,
   "metadata": {},
   "outputs": [
    {
     "name": "stdout",
     "output_type": "stream",
     "text": [
      "__________________________________________________________________________________________________\n",
      "Layer (type)                    Output Shape         Param #     Connected to                     \n",
      "==================================================================================================\n",
      "info_in (InputLayer)            (None, 738)          0                                            \n",
      "__________________________________________________________________________________________________\n",
      "title_in (InputLayer)           (None, 20)           0                                            \n",
      "__________________________________________________________________________________________________\n",
      "desc_in (InputLayer)            (None, 20)           0                                            \n",
      "__________________________________________________________________________________________________\n",
      "FeatureMlpGenerationModel (Mode (None, 300)          221700      info_in[0][0]                    \n",
      "__________________________________________________________________________________________________\n",
      "FeatureLstmGenerationModel (Mod (None, 300)          581460900   title_in[0][0]                   \n",
      "__________________________________________________________________________________________________\n",
      "FeatureCNNGenerationModel (Mode (None, 300)          581507592   desc_in[0][0]                    \n",
      "__________________________________________________________________________________________________\n",
      "merge_features_in (Concatenate) (None, 900)          0           FeatureMlpGenerationModel[1][0]  \n",
      "                                                                 FeatureLstmGenerationModel[1][0] \n",
      "                                                                 FeatureCNNGenerationModel[1][0]  \n",
      "==================================================================================================\n",
      "Total params: 1,163,190,192\n",
      "Trainable params: 675,192\n",
      "Non-trainable params: 1,162,515,000\n",
      "__________________________________________________________________________________________________\n"
     ]
    }
   ],
   "source": [
    "encoded_anchor.summary()"
   ]
  },
  {
   "cell_type": "code",
   "execution_count": 58,
   "metadata": {},
   "outputs": [
    {
     "data": {
      "text/plain": [
       "11757"
      ]
     },
     "execution_count": 58,
     "metadata": {},
     "output_type": "execute_result"
    }
   ],
   "source": [
    "len(exported_rank)"
   ]
  },
  {
   "cell_type": "code",
   "execution_count": 59,
   "metadata": {},
   "outputs": [
    {
     "data": {
      "text/plain": [
       "'data/processed/openoffice/bert/exported_rank_baseline_1000.txt'"
      ]
     },
     "execution_count": 59,
     "metadata": {},
     "output_type": "execute_result"
    }
   ],
   "source": [
    "EXPORT_RANK_PATH = os.path.join(DIR, 'exported_rank_{}.txt'.format(METHOD))\n",
    "EXPORT_RANK_PATH"
   ]
  },
  {
   "cell_type": "code",
   "execution_count": 60,
   "metadata": {},
   "outputs": [],
   "source": [
    "with open(EXPORT_RANK_PATH, 'w') as file_out:\n",
    "    for row in exported_rank:\n",
    "        file_out.write(row + \"\\n\")"
   ]
  },
  {
   "cell_type": "code",
   "execution_count": 61,
   "metadata": {},
   "outputs": [
    {
     "data": {
      "text/plain": [
       "{'1 - recall_at_5': 0.45,\n",
       " '2 - recall_at_10': 0.5,\n",
       " '3 - recall_at_15': 0.53,\n",
       " '4 - recall_at_20': 0.55,\n",
       " '5 - recall_at_25': 0.57}"
      ]
     },
     "execution_count": 61,
     "metadata": {},
     "output_type": "execute_result"
    }
   ],
   "source": [
    "report = experiment.evaluation.evaluate(EXPORT_RANK_PATH)\n",
    "report"
   ]
  },
  {
   "cell_type": "markdown",
   "metadata": {},
   "source": [
    "#### Some ideas to visualizate"
   ]
  },
  {
   "cell_type": "markdown",
   "metadata": {},
   "source": [
    "- https://towardsdatascience.com/building-a-recommendation-system-using-neural-network-embeddings-1ef92e5c80c9"
   ]
  }
 ],
 "metadata": {
  "accelerator": "GPU",
  "colab": {
   "collapsed_sections": [],
   "name": "[baseline] Bug triage with Deep Learning.ipynb",
   "provenance": [],
   "toc_visible": true,
   "version": "0.3.2"
  },
  "kernelspec": {
   "display_name": "Python 3",
   "language": "python",
   "name": "python3"
  },
  "language_info": {
   "codemirror_mode": {
    "name": "ipython",
    "version": 3
   },
   "file_extension": ".py",
   "mimetype": "text/x-python",
   "name": "python",
   "nbconvert_exporter": "python",
   "pygments_lexer": "ipython3",
   "version": "3.5.2"
  }
 },
 "nbformat": 4,
 "nbformat_minor": 1
}
