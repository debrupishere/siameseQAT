{
 "cells": [
  {
   "cell_type": "markdown",
   "metadata": {
    "colab_type": "text",
    "id": "PtdA1qs_UQP1"
   },
   "source": [
    "# Bug triage with Deep Learning\n",
    "\n",
    "https://github.com/AdrianUng/keras-triplet-loss-mnist/blob/master/Triplet_loss_KERAS_semi_hard_from_TF.ipynb"
   ]
  },
  {
   "cell_type": "code",
   "execution_count": 1,
   "metadata": {},
   "outputs": [
    {
     "name": "stderr",
     "output_type": "stream",
     "text": [
      "Using TensorFlow backend.\n"
     ]
    }
   ],
   "source": [
    "import keras"
   ]
  },
  {
   "cell_type": "code",
   "execution_count": 2,
   "metadata": {
    "colab": {},
    "colab_type": "code",
    "id": "qnSCLmiomFE1"
   },
   "outputs": [],
   "source": [
    "from __future__ import print_function, division"
   ]
  },
  {
   "cell_type": "code",
   "execution_count": 3,
   "metadata": {
    "colab": {},
    "colab_type": "code",
    "id": "OIha-SERnD72"
   },
   "outputs": [],
   "source": [
    "import re\n",
    "import numpy as np\n",
    "import pandas as pd\n",
    "\n",
    "import os\n",
    "from tqdm import tqdm_notebook as tqdm\n",
    "import matplotlib.pyplot as plt\n",
    "import sys\n",
    "from annoy import AnnoyIndex\n",
    "nb_dir = os.path.split(os.getcwd())[0]\n",
    "if nb_dir not in sys.path:\n",
    "    sys.path.append(nb_dir)\n",
    "    \n",
    "%matplotlib inline"
   ]
  },
  {
   "cell_type": "code",
   "execution_count": 4,
   "metadata": {
    "colab": {
     "base_uri": "https://localhost:8080/",
     "height": 34
    },
    "colab_type": "code",
    "id": "c57gQiuAnJAe",
    "outputId": "9eaf2d3f-619a-492d-f40b-6ba2c48426fa"
   },
   "outputs": [],
   "source": [
    "from keras.layers import Conv1D, Input, Add, Activation, Dropout, Embedding, MaxPooling1D, \\\n",
    "    GlobalMaxPool1D, Flatten, Dense, Concatenate, BatchNormalization\n",
    "from keras.models import Sequential, Model\n",
    "from keras.regularizers import l2\n",
    "from keras.initializers import TruncatedNormal\n",
    "from keras.layers.advanced_activations import LeakyReLU, ELU\n",
    "from keras import optimizers"
   ]
  },
  {
   "cell_type": "code",
   "execution_count": 5,
   "metadata": {},
   "outputs": [],
   "source": [
    "from methods.baseline import Baseline\n",
    "from methods.experiments import Experiment\n",
    "from methods.evaluation import Evaluation\n",
    "from methods.retrieval import Retrieval"
   ]
  },
  {
   "cell_type": "markdown",
   "metadata": {
    "colab_type": "text",
    "id": "8uQou7m2-bFO"
   },
   "source": [
    "## Configurações Globais"
   ]
  },
  {
   "cell_type": "code",
   "execution_count": 6,
   "metadata": {
    "colab": {},
    "colab_type": "code",
    "id": "G-Kn3x_K-aZj"
   },
   "outputs": [],
   "source": [
    "MAX_SEQUENCE_LENGTH_T = 20 # 100\n",
    "MAX_SEQUENCE_LENGTH_D = 20 # 500\n",
    "EMBEDDING_DIM = 300\n",
    "MAX_NB_WORDS = 20000\n",
    "'''\n",
    "    Configuration\n",
    "'''\n",
    "epochs = 1000\n",
    "freeze_train = .1 # 10% with freeze weights\n",
    "best_loss = 1\n",
    "best_epoch = 0\n",
    "verbose = 0\n",
    "loss = 1"
   ]
  },
  {
   "cell_type": "markdown",
   "metadata": {},
   "source": [
    "### Parse bugs preproprecessed"
   ]
  },
  {
   "cell_type": "code",
   "execution_count": 7,
   "metadata": {},
   "outputs": [],
   "source": [
    "# Domain to use\n",
    "DOMAIN = 'openoffice'\n",
    "METHOD = 'baseline_{}'.format(epochs)\n",
    "PREPROCESSING = 'bert'\n",
    "TOKEN = 'bert'\n",
    "# Dataset paths\n",
    "DIR = 'data/processed/{}/{}'.format(DOMAIN, PREPROCESSING)\n",
    "DIR_PAIRS = 'data/normalized/{}'.format(DOMAIN)\n",
    "DATASET = os.path.join('data/normalized/{}'.format(DOMAIN), '{}.csv'.format(DOMAIN))\n",
    "# Glove embeddings\n",
    "GLOVE_DIR='data/embed'\n",
    "# Save model\n",
    "SAVE_PATH = '{}_preprocessing_{}_feature@number_of_epochs@epochs_64batch({})'.format(PREPROCESSING, METHOD, DOMAIN)\n",
    "SAVE_PATH_FEATURE = '{}_preprocessing_{}_feature_@number_of_epochs@epochs_64batch({})'.format(PREPROCESSING, METHOD, DOMAIN)\n",
    "\n",
    "# Extract CORPUs\n",
    "EXTRACT_CORPUS = False"
   ]
  },
  {
   "cell_type": "code",
   "execution_count": 8,
   "metadata": {},
   "outputs": [],
   "source": [
    "import os\n",
    "\n",
    "pretrained_path = 'uncased_L-12_H-768_A-12'\n",
    "config_path = os.path.join(pretrained_path, 'bert_config.json')\n",
    "model_path = os.path.join(pretrained_path, 'bert_model.ckpt')\n",
    "vocab_path = os.path.join(pretrained_path, 'vocab.txt')"
   ]
  },
  {
   "cell_type": "code",
   "execution_count": 9,
   "metadata": {},
   "outputs": [],
   "source": [
    "from keras_bert import load_vocabulary\n",
    "\n",
    "token_dict = load_vocabulary(vocab_path)"
   ]
  },
  {
   "cell_type": "code",
   "execution_count": 10,
   "metadata": {},
   "outputs": [],
   "source": [
    "baseline = Baseline(DOMAIN, DIR, DATASET, MAX_SEQUENCE_LENGTH_T, MAX_SEQUENCE_LENGTH_D,\n",
    "                   token_dict['[CLS]'], token_dict['[SEP]'])\n",
    "evaluation = Evaluation(verbose=0)\n",
    "retrieval = Retrieval()\n",
    "experiment = Experiment(baseline, evaluation)"
   ]
  },
  {
   "cell_type": "code",
   "execution_count": 11,
   "metadata": {
    "scrolled": true
   },
   "outputs": [],
   "source": [
    "experiment.set_retrieval(retrieval, baseline, DOMAIN)"
   ]
  },
  {
   "cell_type": "markdown",
   "metadata": {},
   "source": [
    "#### Loading bug ids in memory"
   ]
  },
  {
   "cell_type": "code",
   "execution_count": 12,
   "metadata": {
    "scrolled": true
   },
   "outputs": [
    {
     "name": "stdout",
     "output_type": "stream",
     "text": [
      "Reading bug ids\n"
     ]
    },
    {
     "data": {
      "text/plain": [
       "98070"
      ]
     },
     "execution_count": 12,
     "metadata": {},
     "output_type": "execute_result"
    }
   ],
   "source": [
    "experiment.load_ids()\n",
    "len(baseline.bug_ids)"
   ]
  },
  {
   "cell_type": "markdown",
   "metadata": {
    "colab_type": "text",
    "id": "vqzt5EKzqzcI"
   },
   "source": [
    "#### Dicionário de títulos e descrições"
   ]
  },
  {
   "cell_type": "code",
   "execution_count": 13,
   "metadata": {
    "scrolled": true
   },
   "outputs": [
    {
     "data": {
      "application/vnd.jupyter.widget-view+json": {
       "model_id": "bfbed7456fe74a0d98475a9683fc5538",
       "version_major": 2,
       "version_minor": 0
      },
      "text/plain": [
       "HBox(children=(IntProgress(value=0, max=98070), HTML(value='')))"
      ]
     },
     "metadata": {},
     "output_type": "display_data"
    },
    {
     "name": "stdout",
     "output_type": "stream",
     "text": [
      "\n"
     ]
    },
    {
     "data": {
      "application/vnd.jupyter.widget-view+json": {
       "model_id": "6b833c066ac148cf8629024e62aa6569",
       "version_major": 2,
       "version_minor": 0
      },
      "text/plain": [
       "HBox(children=(IntProgress(value=1, bar_style='info', max=1), HTML(value='')))"
      ]
     },
     "metadata": {},
     "output_type": "display_data"
    },
    {
     "name": "stdout",
     "output_type": "stream",
     "text": [
      "\n",
      "CPU times: user 9.77 s, sys: 986 ms, total: 10.8 s\n",
      "Wall time: 10.5 s\n"
     ]
    }
   ],
   "source": [
    "%%time\n",
    "\n",
    "experiment.load_bugs(TOKEN)\n",
    "len(baseline.sentence_dict)"
   ]
  },
  {
   "cell_type": "markdown",
   "metadata": {},
   "source": [
    "#### Hashing bugs by buckets"
   ]
  },
  {
   "cell_type": "code",
   "execution_count": 14,
   "metadata": {
    "scrolled": false
   },
   "outputs": [
    {
     "data": {
      "application/vnd.jupyter.widget-view+json": {
       "model_id": "a52188f367ff45cfa1ae709a6ee80e38",
       "version_major": 2,
       "version_minor": 0
      },
      "text/plain": [
       "HBox(children=(IntProgress(value=0, max=98070), HTML(value='')))"
      ]
     },
     "metadata": {},
     "output_type": "display_data"
    },
    {
     "name": "stdout",
     "output_type": "stream",
     "text": [
      "\n"
     ]
    }
   ],
   "source": [
    "issues_by_buckets = experiment.get_buckets_for_bugs()"
   ]
  },
  {
   "cell_type": "markdown",
   "metadata": {},
   "source": [
    "#### Prepare the train and test"
   ]
  },
  {
   "cell_type": "code",
   "execution_count": 15,
   "metadata": {},
   "outputs": [],
   "source": [
    "# path_train='train_chronological', path_test='test_chronological'\n",
    "experiment.prepare_dataset(issues_by_buckets, path_train='train_chronological', path_test='test_chronological')\n",
    "# Read and create the test queries duplicates\n",
    "retrieval.create_queries()"
   ]
  },
  {
   "cell_type": "code",
   "execution_count": 16,
   "metadata": {},
   "outputs": [
    {
     "data": {
      "text/plain": [
       "[[6036, 35039],\n",
       " [26311, 15091],\n",
       " [5142, 34523],\n",
       " [8323, 9594],\n",
       " [76676, 88775],\n",
       " [59725, 71546],\n",
       " [121756, 116964],\n",
       " [32936, 30911],\n",
       " [15257, 16297],\n",
       " [99719, 106395]]"
      ]
     },
     "execution_count": 16,
     "metadata": {},
     "output_type": "execute_result"
    }
   ],
   "source": [
    "baseline.train_data[:10]"
   ]
  },
  {
   "cell_type": "markdown",
   "metadata": {},
   "source": [
    "#### Recovery bug ids from train"
   ]
  },
  {
   "cell_type": "code",
   "execution_count": 17,
   "metadata": {},
   "outputs": [],
   "source": [
    "bug_train_ids = experiment.get_train_ids(baseline.train_data)"
   ]
  },
  {
   "cell_type": "markdown",
   "metadata": {},
   "source": [
    "### Export the corpus train"
   ]
  },
  {
   "cell_type": "code",
   "execution_count": 18,
   "metadata": {},
   "outputs": [],
   "source": [
    "if EXTRACT_CORPUS:\n",
    "    corpus = []\n",
    "    export_file = open(os.path.join(DIR, 'corpus_train.txt'), 'w')\n",
    "    for bug_id in tqdm(baseline.bug_set):\n",
    "        bug = baseline.bug_set[bug_id]\n",
    "        title = bug['title']\n",
    "        desc = bug['description']\n",
    "        export_file.write(\"{}\\n{}\\n\".format(title, desc))\n",
    "    export_file.close()"
   ]
  },
  {
   "cell_type": "markdown",
   "metadata": {
    "colab_type": "text",
    "id": "a6Obtop6UIVD"
   },
   "source": [
    "# Generating tiple of batches"
   ]
  },
  {
   "cell_type": "code",
   "execution_count": 19,
   "metadata": {
    "scrolled": true
   },
   "outputs": [
    {
     "data": {
      "text/plain": [
       "{'bug_severity': '2\\n',\n",
       " 'bug_status': '1\\n',\n",
       " 'component': '72\\n',\n",
       " 'creation_ts': '2002-09-27 06:23:00 +0000',\n",
       " 'delta_ts': '2003-09-08 16:53:51 +0000',\n",
       " 'description': '[CLS] open ##off ##ice 1 . 0 . 1 ( downloaded tar ##ball ) , red ##hat 7 . 3 intel works ##tation install , nothing special modified . i successfully did a network install as root , then successfully did works ##tation install ##s as both root and a regular user . root is able to run so ##ffi ##ce successfully ; the normal user is not . when the normal user runs so ##ffi ##ce the logo appears , disk grind ##s for a while , logo disappears , border of a window is drawn but never filled in , then the window disappears and the message \" ab ##orted \" is printed on the terminal window . there are a few twists to this story : the regular user is initially able to run the sw ##rite ##r program successfully immediately after the works ##tation install ; however , after he logs out of x and logs in again he is no longer able to run sw ##rite ##r ; it fails with the \" ab ##orted \" message just like so ##ffi ##ce . the regular user is never able to run the so ##ffi ##ce program successfully . i found 2 tips in the news ##group ##s : 1 ) verify all font ##s are valid ; 2 ) check for write permission on all open ##off ##ice files in the regular user directory . red hat 7 . 3 uses x ##fs ; initially it was complaining about some er ##rone ##ous font paths , but i removed them with ch ##k ##fo ##nt ##path and now x ##fs emi ##ts no errors . also i did ch ##mo ##d - r u ##g + r ##w open ##off ##ice . org ##1 . 0 . 1 / * in the regular user directory , which should guarantee write access to all open ##off ##ice files ( i also did this for the . sv ##ers ##ion ##rc file ) . neither of these suggestions helped anything . i still have the problem of the \" ab ##orted \" message when running so ##ffi ##ce ( and sw ##rite ##r ) as the regular user . what is going on ? help ! [SEP]',\n",
       " 'description_segment': [0,\n",
       "  0,\n",
       "  0,\n",
       "  0,\n",
       "  0,\n",
       "  0,\n",
       "  0,\n",
       "  0,\n",
       "  0,\n",
       "  0,\n",
       "  0,\n",
       "  0,\n",
       "  0,\n",
       "  0,\n",
       "  0,\n",
       "  0,\n",
       "  0,\n",
       "  0,\n",
       "  0,\n",
       "  0,\n",
       "  0,\n",
       "  0,\n",
       "  0,\n",
       "  0,\n",
       "  0,\n",
       "  0,\n",
       "  0,\n",
       "  0,\n",
       "  0,\n",
       "  0,\n",
       "  0,\n",
       "  0,\n",
       "  0,\n",
       "  0,\n",
       "  0,\n",
       "  0,\n",
       "  0,\n",
       "  0,\n",
       "  0,\n",
       "  0,\n",
       "  0,\n",
       "  0,\n",
       "  0,\n",
       "  0,\n",
       "  0,\n",
       "  0,\n",
       "  0,\n",
       "  0,\n",
       "  0,\n",
       "  0,\n",
       "  0,\n",
       "  0,\n",
       "  0,\n",
       "  0,\n",
       "  0,\n",
       "  0,\n",
       "  0,\n",
       "  0,\n",
       "  0,\n",
       "  0,\n",
       "  0,\n",
       "  0,\n",
       "  0,\n",
       "  0,\n",
       "  0,\n",
       "  0,\n",
       "  0,\n",
       "  0,\n",
       "  0,\n",
       "  0,\n",
       "  0,\n",
       "  0,\n",
       "  0,\n",
       "  0,\n",
       "  0,\n",
       "  0,\n",
       "  0,\n",
       "  0,\n",
       "  0,\n",
       "  0,\n",
       "  0,\n",
       "  0,\n",
       "  0,\n",
       "  0,\n",
       "  0,\n",
       "  0,\n",
       "  0,\n",
       "  0,\n",
       "  0,\n",
       "  0,\n",
       "  0,\n",
       "  0,\n",
       "  0,\n",
       "  0,\n",
       "  0,\n",
       "  0,\n",
       "  0,\n",
       "  0,\n",
       "  0,\n",
       "  0,\n",
       "  0,\n",
       "  0,\n",
       "  0,\n",
       "  0,\n",
       "  0,\n",
       "  0,\n",
       "  0,\n",
       "  0,\n",
       "  0,\n",
       "  0,\n",
       "  0,\n",
       "  0,\n",
       "  0,\n",
       "  0,\n",
       "  0,\n",
       "  0,\n",
       "  0,\n",
       "  0,\n",
       "  0,\n",
       "  0,\n",
       "  0,\n",
       "  0,\n",
       "  0,\n",
       "  0,\n",
       "  0,\n",
       "  0,\n",
       "  0,\n",
       "  0,\n",
       "  0,\n",
       "  0,\n",
       "  0,\n",
       "  0,\n",
       "  0,\n",
       "  0,\n",
       "  0,\n",
       "  0,\n",
       "  0,\n",
       "  0,\n",
       "  0,\n",
       "  0,\n",
       "  0,\n",
       "  0,\n",
       "  0,\n",
       "  0,\n",
       "  0,\n",
       "  0,\n",
       "  0,\n",
       "  0,\n",
       "  0,\n",
       "  0],\n",
       " 'description_token': array([  101,  2330,  7245,  6610,  1015,  1012,  1014,  1012,  1015,\n",
       "         1006, 22817, 16985,  7384,  1007,  1010,  2417, 12707,  1021,\n",
       "         1012,   102]),\n",
       " 'dup_id': '4494',\n",
       " 'issue_id': 7917,\n",
       " 'priority': '3\\n',\n",
       " 'product': '35\\n',\n",
       " 'resolution': 'DUPLICATE',\n",
       " 'textual_token': array([  101,  7117, 21645,  1010,  5310, 11896,     0,     0,     0,\n",
       "            0,     0,     0,     0,     0,     0,     0,     0,     0,\n",
       "            0,   102,   101,  2330,  7245,  6610,  1015,  1012,  1014,\n",
       "         1012,  1015,  1006, 22817, 16985,  7384,  1007,  1010,  2417,\n",
       "        12707,  1021,  1012,   102]),\n",
       " 'title': '[CLS] root succeeds , user fails [SEP]',\n",
       " 'title_segment': [0,\n",
       "  0,\n",
       "  0,\n",
       "  0,\n",
       "  0,\n",
       "  0,\n",
       "  0,\n",
       "  0,\n",
       "  0,\n",
       "  0,\n",
       "  0,\n",
       "  0,\n",
       "  0,\n",
       "  0,\n",
       "  0,\n",
       "  0,\n",
       "  0,\n",
       "  0,\n",
       "  0,\n",
       "  0,\n",
       "  0,\n",
       "  0,\n",
       "  0,\n",
       "  0,\n",
       "  0,\n",
       "  0,\n",
       "  0,\n",
       "  0,\n",
       "  0,\n",
       "  0,\n",
       "  0,\n",
       "  0,\n",
       "  0,\n",
       "  0,\n",
       "  0,\n",
       "  0,\n",
       "  0,\n",
       "  0,\n",
       "  0,\n",
       "  0,\n",
       "  0,\n",
       "  0,\n",
       "  0,\n",
       "  0,\n",
       "  0,\n",
       "  0,\n",
       "  0,\n",
       "  0,\n",
       "  0,\n",
       "  0],\n",
       " 'title_token': array([  101,  7117, 21645,  1010,  5310, 11896,     0,     0,     0,\n",
       "            0,     0,     0,     0,     0,     0,     0,     0,     0,\n",
       "            0,   102]),\n",
       " 'version': '53\\n'}"
      ]
     },
     "execution_count": 19,
     "metadata": {},
     "output_type": "execute_result"
    }
   ],
   "source": [
    "idx = np.random.choice(baseline.bug_ids, 1)[0]\n",
    "baseline.bug_set[idx]"
   ]
  },
  {
   "cell_type": "markdown",
   "metadata": {},
   "source": [
    "### Generating the batch test"
   ]
  },
  {
   "cell_type": "code",
   "execution_count": 20,
   "metadata": {},
   "outputs": [
    {
     "data": {
      "text/plain": [
       "('Train ', 14508)"
      ]
     },
     "execution_count": 20,
     "metadata": {},
     "output_type": "execute_result"
    }
   ],
   "source": [
    "\"Train \", len(baseline.dup_sets_train)"
   ]
  },
  {
   "cell_type": "code",
   "execution_count": 21,
   "metadata": {},
   "outputs": [],
   "source": [
    "import random\n",
    "\n",
    "# data - path\n",
    "# batch_size - 128\n",
    "# n_neg - 1\n",
    "def batch_iterator(self, retrieval, model, data, dup_sets, bug_ids, \n",
    "                   batch_size, n_neg, issues_by_buckets, TRIPLET_HARD=False, FLOATING_PADDING=False):\n",
    "    # global train_data\n",
    "    # global self.dup_sets\n",
    "    # global self.bug_ids\n",
    "    # global self.bug_set\n",
    "\n",
    "    random.shuffle(data)\n",
    "\n",
    "    batch_features = {'title' : [], 'desc' : [], 'info' : []}\n",
    "\n",
    "    n_train = len(data)\n",
    "\n",
    "    batch_triplets, batch_bugs_anchor, batch_bugs_pos, batch_bugs_neg, batch_bugs = [], [], [], [], []\n",
    "\n",
    "    all_bugs = list(issues_by_buckets.keys())\n",
    "    buckets = retrieval.buckets\n",
    "\n",
    "    for offset in range(batch_size):\n",
    "        anchor, pos = data[offset][0], data[offset][1]\n",
    "        batch_bugs_anchor.append(anchor)\n",
    "        batch_bugs_pos.append(pos)\n",
    "        batch_bugs.append(anchor)\n",
    "        batch_bugs.append(pos)\n",
    "        #batch_bugs += dup_sets[anchor]\n",
    "\n",
    "    for anchor, pos in zip(batch_bugs_anchor, batch_bugs_pos):\n",
    "        while True:\n",
    "            neg = self.get_neg_bug(anchor, buckets[issues_by_buckets[anchor]], issues_by_buckets, all_bugs)\n",
    "            bug_anchor = self.bug_set[anchor]\n",
    "            bug_pos = self.bug_set[pos]\n",
    "            if neg not in self.bug_set:\n",
    "                continue\n",
    "            batch_bugs.append(neg)\n",
    "            batch_bugs_neg.append(neg)\n",
    "            bug_neg = self.bug_set[neg]\n",
    "            break\n",
    "        \n",
    "        # triplet bug and master\n",
    "        batch_triplets.append([anchor, pos, neg])\n",
    "    \n",
    "    random.shuffle(batch_bugs)\n",
    "    \n",
    "    for bug_id in batch_bugs:\n",
    "        bug = self.bug_set[bug_id]\n",
    "        self.read_batch_bugs(batch_features, bug)\n",
    "\n",
    "    batch_features['title'] = np.array(batch_features['title'])\n",
    "    batch_features['desc'] = np.array(batch_features['desc'])\n",
    "    batch_features['info'] = np.array(batch_features['info'])\n",
    "    \n",
    "    sim = np.asarray([issues_by_buckets[bug_id] for bug_id in batch_bugs])\n",
    "\n",
    "    input_sample = {}\n",
    "\n",
    "    input_sample = { 'title' : batch_features['title'], \n",
    "                        'description' : batch_features['desc'], \n",
    "                            'info' : batch_features['info'] }\n",
    "\n",
    "    return batch_triplets, input_sample, sim #sim"
   ]
  },
  {
   "cell_type": "code",
   "execution_count": 22,
   "metadata": {
    "colab": {
     "base_uri": "https://localhost:8080/",
     "height": 51
    },
    "colab_type": "code",
    "id": "PA5CIhgz7odW",
    "outputId": "ae98fdec-1d54-4b1f-ee0e-4c5633802a18",
    "scrolled": true
   },
   "outputs": [
    {
     "name": "stdout",
     "output_type": "stream",
     "text": [
      "CPU times: user 695 ms, sys: 0 ns, total: 695 ms\n",
      "Wall time: 694 ms\n"
     ]
    }
   ],
   "source": [
    "%%time\n",
    "\n",
    "batch_size = 128\n",
    "batch_size_test = 128\n",
    "\n",
    "# we want a constant validation group to have a frame of reference for model performance\n",
    "batch_triplets_valid, valid_input_sample, valid_sim = batch_iterator(baseline, retrieval, None, \n",
    "                                                                                      baseline.train_data, \n",
    "                                                                                      baseline.dup_sets_train,\n",
    "                                                                                      bug_train_ids,\n",
    "                                                                                      batch_size_test, 1,\n",
    "                                                                                      issues_by_buckets)\n",
    "\n",
    "validation_sample = [valid_input_sample['title'], \n",
    "             valid_input_sample['description'],\n",
    "            valid_input_sample['info'], valid_sim]\n",
    "\n",
    "# Categorical columns\n",
    "number_of_columns_info = valid_input_sample['info'].shape[1]\n",
    "# Max sequence title\n",
    "MAX_SEQUENCE_LENGTH_T = valid_input_sample['title'].shape[1]\n",
    "MAX_SEQUENCE_LENGTH_D = valid_input_sample['description'].shape[1]"
   ]
  },
  {
   "cell_type": "code",
   "execution_count": 23,
   "metadata": {},
   "outputs": [
    {
     "data": {
      "text/plain": [
       "((384, 20), (384, 20), (384, 738), (384,))"
      ]
     },
     "execution_count": 23,
     "metadata": {},
     "output_type": "execute_result"
    }
   ],
   "source": [
    "valid_input_sample['title'].shape, valid_input_sample['description'].shape, valid_input_sample['info'].shape, valid_sim.shape"
   ]
  },
  {
   "cell_type": "markdown",
   "metadata": {
    "colab_type": "text",
    "id": "24mY22BGnkqp"
   },
   "source": [
    "### Validar entrada"
   ]
  },
  {
   "cell_type": "code",
   "execution_count": 24,
   "metadata": {
    "colab": {
     "base_uri": "https://localhost:8080/",
     "height": 796
    },
    "colab_type": "code",
    "id": "OhTbr3a5nmrh",
    "outputId": "a2d73e0f-e9ce-4d12-a5c8-f0008d2402d0",
    "scrolled": true
   },
   "outputs": [],
   "source": [
    "# %%time \n",
    "\n",
    "#baseline.display_batch(baseline.train_data, baseline.dup_sets_train, bug_train_ids, 5)"
   ]
  },
  {
   "cell_type": "code",
   "execution_count": 25,
   "metadata": {},
   "outputs": [
    {
     "data": {
      "text/plain": [
       "('Test ', 8265)"
      ]
     },
     "execution_count": 25,
     "metadata": {},
     "output_type": "execute_result"
    }
   ],
   "source": [
    "\"Test \", len(baseline.test_data)"
   ]
  },
  {
   "cell_type": "markdown",
   "metadata": {
    "colab_type": "text",
    "id": "XPrsLs4Kg4Pa"
   },
   "source": [
    "## Pre-trained embeddings\n",
    "\n",
    "Loading pretrained word vectors"
   ]
  },
  {
   "cell_type": "markdown",
   "metadata": {
    "colab_type": "text",
    "id": "6p9eE5TWoH7p"
   },
   "source": [
    "### Glove"
   ]
  },
  {
   "cell_type": "code",
   "execution_count": 26,
   "metadata": {},
   "outputs": [
    {
     "name": "stdout",
     "output_type": "stream",
     "text": [
      "vocabulary loaded\n"
     ]
    }
   ],
   "source": [
    "vocab = baseline.load_vocabulary(os.path.join(DIR, 'vocab_embed.pkl'))\n",
    "#print(np.random.choice(vocab, 10))\n",
    "# for token in vocab:\n",
    "#     print(token)"
   ]
  },
  {
   "cell_type": "code",
   "execution_count": 27,
   "metadata": {},
   "outputs": [
    {
     "data": {
      "text/plain": [
       "'Total vocabulary: 20031'"
      ]
     },
     "execution_count": 27,
     "metadata": {},
     "output_type": "execute_result"
    }
   ],
   "source": [
    "\"Total vocabulary: {}\".format(len(vocab))"
   ]
  },
  {
   "cell_type": "code",
   "execution_count": 28,
   "metadata": {},
   "outputs": [],
   "source": [
    "def generating_embed(baseline, GLOVE_DIR, EMBEDDING_DIM):\n",
    "    embeddings_index = {}\n",
    "    embed_path = os.path.join(GLOVE_DIR, 'glove.42B.300d.txt')\n",
    "    f2 = open(embed_path, 'rb')\n",
    "    num_lines = sum(1 for line in f2)\n",
    "    f2.close()\n",
    "    f = open(embed_path, 'rb')\n",
    "    vocab = baseline.load_vocabulary(os.path.join(baseline.DIR, 'vocab_embed.pkl'))\n",
    "    vocab_size = len(vocab) \n",
    "\n",
    "    # Initialize uniform the vector considering the Tanh activation\n",
    "    embedding_matrix = np.random.uniform(-1.0, 1.0, (num_lines + vocab_size, EMBEDDING_DIM))\n",
    "    embedding_matrix[0, :] = np.zeros(EMBEDDING_DIM)\n",
    "\n",
    "    loop = tqdm(f)\n",
    "    loop.set_description(\"Loading Glove\")\n",
    "    i = 0\n",
    "    for line in loop:\n",
    "        tokens = line.split()\n",
    "        word = tokens[0]\n",
    "        embeddings_index[word] = np.asarray(tokens[1:], dtype='float32')\n",
    "        i+=1\n",
    "        loop.update(1)\n",
    "    f.close()\n",
    "    loop.close()\n",
    "\n",
    "    print('Total %s word vectors in Glove 42B 300d.' % len(embeddings_index))\n",
    "    loop = tqdm(total=vocab_size)\n",
    "    loop.set_description('Loading embedding from dataset pretrained')\n",
    "    for word, embed in vocab.items():\n",
    "        if word not in embeddings_index:\n",
    "            embeddings_index[i] = np.asarray(embed, dtype='float32')\n",
    "        loop.update(1)\n",
    "        i+=1\n",
    "    loop.close()\n",
    "    baseline.embedding_matrix = embedding_matrix"
   ]
  },
  {
   "cell_type": "code",
   "execution_count": 29,
   "metadata": {
    "colab": {
     "base_uri": "https://localhost:8080/",
     "height": 85
    },
    "colab_type": "code",
    "id": "QY-ef3OGoIiq",
    "outputId": "55f4c93c-98bb-4bac-92f2-76bd3b777605"
   },
   "outputs": [
    {
     "name": "stdout",
     "output_type": "stream",
     "text": [
      "vocabulary loaded\n"
     ]
    },
    {
     "data": {
      "application/vnd.jupyter.widget-view+json": {
       "model_id": "0de98a3160ca40768046b1e036ca9c08",
       "version_major": 2,
       "version_minor": 0
      },
      "text/plain": [
       "HBox(children=(IntProgress(value=1, bar_style='info', max=1), HTML(value='')))"
      ]
     },
     "metadata": {},
     "output_type": "display_data"
    },
    {
     "name": "stdout",
     "output_type": "stream",
     "text": [
      "\n",
      "Total 1917494 word vectors in Glove 42B 300d.\n"
     ]
    },
    {
     "data": {
      "application/vnd.jupyter.widget-view+json": {
       "model_id": "c47000c05e7c48b5a2d31cf132ef9641",
       "version_major": 2,
       "version_minor": 0
      },
      "text/plain": [
       "HBox(children=(IntProgress(value=0, max=20031), HTML(value='')))"
      ]
     },
     "metadata": {},
     "output_type": "display_data"
    },
    {
     "name": "stdout",
     "output_type": "stream",
     "text": [
      "\n",
      "CPU times: user 1min 33s, sys: 4.74 s, total: 1min 37s\n",
      "Wall time: 1min 35s\n"
     ]
    }
   ],
   "source": [
    "%%time\n",
    "\n",
    "generating_embed(baseline, GLOVE_DIR=GLOVE_DIR, EMBEDDING_DIM=EMBEDDING_DIM) # MAX_NB_WORDS=MAX_NB_WORDS"
   ]
  },
  {
   "cell_type": "markdown",
   "metadata": {},
   "source": [
    "## Experiment"
   ]
  },
  {
   "cell_type": "markdown",
   "metadata": {
    "colab_type": "text",
    "id": "Lev5Y7oaFQBd"
   },
   "source": [
    "## Towards Accurate Duplicate Bug Retrieval Using Deep Learning Techniques\n",
    "\n",
    "https://github.com/tqtg/DuplicateBugFinder"
   ]
  },
  {
   "cell_type": "markdown",
   "metadata": {},
   "source": [
    "### Embedding layer"
   ]
  },
  {
   "cell_type": "code",
   "execution_count": 30,
   "metadata": {},
   "outputs": [],
   "source": [
    "from keras.constraints import MaxNorm\n",
    "from keras.initializers import TruncatedNormal, RandomUniform\n",
    "\n",
    "# Is missing the padding_idx used in pytorch\n",
    "# https://pytorch.org/docs/stable/_modules/torch/nn/modules/sparse.html\n",
    "# https://stackoverflow.com/questions/54824768/rnn-model-gru-of-word2vec-to-regression-not-learning\n",
    "def embedding_layer(embeddings, num_words, embedding_dim, max_sequence_length, trainable):\n",
    "    embedding_layer = Embedding(num_words,\n",
    "                                  embedding_dim,\n",
    "                                  name='embedding_layer',\n",
    "                                  weights=[embeddings],\n",
    "                                  embeddings_constraint=MaxNorm(max_value=1, axis=0),\n",
    "                                  #input_length=max_sequence_length,\n",
    "                                  input_length=None,\n",
    "                                  trainable=trainable)\n",
    "    return embedding_layer"
   ]
  },
  {
   "cell_type": "markdown",
   "metadata": {
    "colab_type": "text",
    "id": "sI074wU4Y13y"
   },
   "source": [
    "### CNN with filter 3,4,5"
   ]
  },
  {
   "cell_type": "code",
   "execution_count": 31,
   "metadata": {
    "colab": {
     "base_uri": "https://localhost:8080/",
     "height": 493
    },
    "colab_type": "code",
    "id": "h6YJU9GtFTyq",
    "outputId": "f85cf105-1fd6-491d-d969-7e6936f32739",
    "scrolled": false
   },
   "outputs": [],
   "source": [
    "import keras\n",
    "from keras.layers import GlobalMaxPooling1D, GlobalAveragePooling1D\n",
    "\n",
    "def cnn_model(embedding_layer, max_sequence_length):\n",
    "\n",
    "    sequence_input = Input(shape=(max_sequence_length,), name='Feature_BugInput')\n",
    "    #sequence_input = Input(shape=(None,), name='Feature_BugInput')\n",
    "    embedded_sequences = embedding_layer(sequence_input)\n",
    "\n",
    "    # Yoon Kim model (https://arxiv.org/abs/1408.5882)\n",
    "    # best combination filter (3, 4, 5) e 128 e 256\n",
    "    convs = []\n",
    "    filter_sizes = [3, 4, 5]\n",
    "    n_filters = 64\n",
    "\n",
    "    for index, filter_size in enumerate(filter_sizes):\n",
    "        l_conv = Conv1D(filters=n_filters, kernel_size=filter_size)(embedded_sequences)\n",
    "        l_pool = MaxPooling1D(pool_size=filter_size)(l_conv) # index+1\n",
    "        convs.append(l_pool)\n",
    "\n",
    "    l_merge = Concatenate(axis=1)(convs)\n",
    "\n",
    "    # add a 1D convnet with global maxpooling, instead of Yoon Kim model\n",
    "    #conv = Conv1D(filters=n_filters * 3, kernel_size=3)(l_merge)\n",
    "    layer = GlobalAveragePooling1D()(l_merge)\n",
    "    #layer = Flatten()(l_merge)\n",
    "    layer = Dense(300, activation='tanh')(layer)\n",
    "    #layer = LeakyReLU()(layer)\n",
    "\n",
    "    cnn_feature_model = Model(inputs=[sequence_input], outputs=[layer], name = 'FeatureCNNGenerationModel') # inputs=visible\n",
    "\n",
    "    return cnn_feature_model"
   ]
  },
  {
   "cell_type": "markdown",
   "metadata": {
    "colab_type": "text",
    "id": "wr6ObTXiaALH"
   },
   "source": [
    "### Bi-LSTM"
   ]
  },
  {
   "cell_type": "code",
   "execution_count": 32,
   "metadata": {
    "colab": {
     "base_uri": "https://localhost:8080/",
     "height": 306
    },
    "colab_type": "code",
    "id": "vC7MQXEsaCeG",
    "outputId": "65e647a9-c5d3-4009-b8a4-2e2d97b52684"
   },
   "outputs": [],
   "source": [
    "from keras.layers import Dense, Input, LSTM, GRU, Dropout, Bidirectional, GlobalAveragePooling1D, TimeDistributed\n",
    "\n",
    "def lstm_model(embedding_layer, max_sequence_length):\n",
    "    number_lstm_units = 75\n",
    "    rate_drop_lstm = 0\n",
    "    recurrent_dropout = 0\n",
    "\n",
    "    sequence_input = Input(shape=(max_sequence_length, ), name='Feature_BugInput')\n",
    "    #sequence_input = Input(shape=(None, ), name='Feature_BugInput')\n",
    "    embedded_sequences = embedding_layer(sequence_input)\n",
    "\n",
    "    left_layer = LSTM(number_lstm_units, return_sequences=True)(embedded_sequences)\n",
    "    right_layer = LSTM(number_lstm_units, return_sequences=True, go_backwards=True)(left_layer)\n",
    "    \n",
    "    lstm_layer = Concatenate()([left_layer, right_layer])\n",
    "    \n",
    "    #lstm_layer = TimeDistributed(Dense(50))(lstm_layer)\n",
    "    #layer = Flatten()(lstm_layer)\n",
    "    layer = GlobalAveragePooling1D()(lstm_layer)\n",
    "    layer = Dense(300, activation='tanh')(layer)\n",
    "\n",
    "    lstm_feature_model = Model(inputs=[sequence_input], outputs=[layer], name = 'FeatureLstmGenerationModel') # inputs=visible\n",
    "\n",
    "    return lstm_feature_model"
   ]
  },
  {
   "cell_type": "markdown",
   "metadata": {},
   "source": [
    "### MLP"
   ]
  },
  {
   "cell_type": "code",
   "execution_count": 33,
   "metadata": {},
   "outputs": [],
   "source": [
    "def mlp_model(input_size):\n",
    "    info_input = Input(shape=(input_size, ), name='Feature_BugInput')\n",
    "    input_size = 300\n",
    "    \n",
    "    for units in [64, 32]:\n",
    "        layer = Dense(units, activation='tanh', kernel_initializer='random_uniform')(info_input)\n",
    "    \n",
    "    layer = Dense(input_size, activation='tanh')(info_input)\n",
    "    \n",
    "    mlp_feature_model = Model(inputs=[info_input], outputs=[layer], name = 'FeatureMlpGenerationModel')\n",
    "    \n",
    "    return mlp_feature_model"
   ]
  },
  {
   "cell_type": "markdown",
   "metadata": {
    "colab_type": "text",
    "id": "TEedCg5AaTf2"
   },
   "source": [
    "### Siamese model"
   ]
  },
  {
   "cell_type": "code",
   "execution_count": 34,
   "metadata": {},
   "outputs": [],
   "source": [
    "def pairwise_distance(feature, squared=False):\n",
    "    \"\"\"Computes the pairwise distance matrix with numerical stability.\n",
    "\n",
    "    output[i, j] = || feature[i, :] - feature[j, :] ||_2\n",
    "\n",
    "    Args:\n",
    "      feature: 2-D Tensor of size [number of data, feature dimension].\n",
    "      squared: Boolean, whether or not to square the pairwise distances.\n",
    "\n",
    "    Returns:\n",
    "      pairwise_distances: 2-D Tensor of size [number of data, number of data].\n",
    "    \"\"\"\n",
    "    pairwise_distances_squared = math_ops.add(\n",
    "        math_ops.reduce_sum(math_ops.square(feature), axis=[1], keepdims=True),\n",
    "        math_ops.reduce_sum(\n",
    "            math_ops.square(array_ops.transpose(feature)),\n",
    "            axis=[0],\n",
    "            keepdims=True)) - 2.0 * math_ops.matmul(feature,\n",
    "                                                    array_ops.transpose(feature))\n",
    "\n",
    "    # Deal with numerical inaccuracies. Set small negatives to zero.\n",
    "    pairwise_distances_squared = math_ops.maximum(pairwise_distances_squared, 0.0)\n",
    "    # Get the mask where the zero distances are at.\n",
    "    error_mask = math_ops.less_equal(pairwise_distances_squared, 0.0)\n",
    "\n",
    "    # Optionally take the sqrt.\n",
    "    if squared:\n",
    "        pairwise_distances = pairwise_distances_squared\n",
    "    else:\n",
    "        pairwise_distances = math_ops.sqrt(\n",
    "            pairwise_distances_squared + math_ops.to_float(error_mask) * 1e-16)\n",
    "\n",
    "    # Undo conditionally adding 1e-16.\n",
    "    pairwise_distances = math_ops.multiply(\n",
    "        pairwise_distances, math_ops.to_float(math_ops.logical_not(error_mask)))\n",
    "\n",
    "    num_data = array_ops.shape(feature)[0]\n",
    "    # Explicitly set diagonals to zero.\n",
    "    mask_offdiagonals = array_ops.ones_like(pairwise_distances) - array_ops.diag(\n",
    "        array_ops.ones([num_data]))\n",
    "    pairwise_distances = math_ops.multiply(pairwise_distances, mask_offdiagonals)\n",
    "    return pairwise_distances\n",
    "\n",
    "def masked_maximum(data, mask, dim=1):\n",
    "    \"\"\"Computes the axis wise maximum over chosen elements.\n",
    "\n",
    "    Args:\n",
    "      data: 2-D float `Tensor` of size [n, m].\n",
    "      mask: 2-D Boolean `Tensor` of size [n, m].\n",
    "      dim: The dimension over which to compute the maximum.\n",
    "\n",
    "    Returns:\n",
    "      masked_maximums: N-D `Tensor`.\n",
    "        The maximized dimension is of size 1 after the operation.\n",
    "    \"\"\"\n",
    "    axis_minimums = math_ops.reduce_min(data, dim, keepdims=True)\n",
    "    masked_maximums = math_ops.reduce_max(\n",
    "        math_ops.multiply(data - axis_minimums, mask), dim,\n",
    "        keepdims=True) + axis_minimums\n",
    "    return masked_maximums\n",
    "\n",
    "def masked_minimum(data, mask, dim=1):\n",
    "    \"\"\"Computes the axis wise minimum over chosen elements.\n",
    "\n",
    "    Args:\n",
    "      data: 2-D float `Tensor` of size [n, m].\n",
    "      mask: 2-D Boolean `Tensor` of size [n, m].\n",
    "      dim: The dimension over which to compute the minimum.\n",
    "\n",
    "    Returns:\n",
    "      masked_minimums: N-D `Tensor`.\n",
    "        The minimized dimension is of size 1 after the operation.\n",
    "    \"\"\"\n",
    "    axis_maximums = math_ops.reduce_max(data, dim, keepdims=True)\n",
    "    masked_minimums = math_ops.reduce_min(\n",
    "        math_ops.multiply(data - axis_maximums, mask), dim,\n",
    "        keepdims=True) + axis_maximums\n",
    "    return masked_minimums"
   ]
  },
  {
   "cell_type": "code",
   "execution_count": 35,
   "metadata": {},
   "outputs": [],
   "source": [
    "## required for semi-hard triplet loss:\n",
    "from tensorflow.python.ops import array_ops\n",
    "from tensorflow.python.ops import math_ops\n",
    "from tensorflow.python.framework import dtypes\n",
    "import tensorflow as tf\n",
    "\n",
    "def triplet_loss_adapted_from_tf(y_true, y_pred):\n",
    "    del y_true\n",
    "    margin = 1.\n",
    "    labels = y_pred[:, :1]\n",
    " \n",
    "    labels = tf.cast(labels, dtype='int32')\n",
    "\n",
    "    embeddings = y_pred[:, 1:]\n",
    "\n",
    "    ### Code from Tensorflow function [tf.contrib.losses.metric_learning.triplet_semihard_loss] starts here:\n",
    "    \n",
    "    # Reshape [batch_size] label tensor to a [batch_size, 1] label tensor.\n",
    "    # lshape=array_ops.shape(labels)\n",
    "    # assert lshape.shape == 1\n",
    "    # labels = array_ops.reshape(labels, [lshape[0], 1])\n",
    "\n",
    "    # Build pairwise squared distance matrix.\n",
    "    pdist_matrix = pairwise_distance(embeddings, squared=True)\n",
    "    # Build pairwise binary adjacency matrix.\n",
    "    adjacency = math_ops.equal(labels, array_ops.transpose(labels))\n",
    "    # Invert so we can select negatives only.\n",
    "    adjacency_not = math_ops.logical_not(adjacency)\n",
    "\n",
    "    # global batch_size  \n",
    "    batch_size = array_ops.size(labels) # was 'array_ops.size(labels)'\n",
    "\n",
    "    # Compute the mask.\n",
    "    pdist_matrix_tile = array_ops.tile(pdist_matrix, [batch_size, 1])\n",
    "    mask = math_ops.logical_and(\n",
    "        array_ops.tile(adjacency_not, [batch_size, 1]),\n",
    "        math_ops.greater(\n",
    "            pdist_matrix_tile, array_ops.reshape(\n",
    "                array_ops.transpose(pdist_matrix), [-1, 1])))\n",
    "    mask_final = array_ops.reshape(\n",
    "        math_ops.greater(\n",
    "            math_ops.reduce_sum(\n",
    "                math_ops.cast(mask, dtype=dtypes.float32), 1, keepdims=True),\n",
    "            0.0), [batch_size, batch_size])\n",
    "    mask_final = array_ops.transpose(mask_final)\n",
    "\n",
    "    adjacency_not = math_ops.cast(adjacency_not, dtype=dtypes.float32)\n",
    "    mask = math_ops.cast(mask, dtype=dtypes.float32)\n",
    "\n",
    "    # negatives_outside: smallest D_an where D_an > D_ap.\n",
    "    negatives_outside = array_ops.reshape(\n",
    "        masked_minimum(pdist_matrix_tile, mask), [batch_size, batch_size])\n",
    "    negatives_outside = array_ops.transpose(negatives_outside)\n",
    "\n",
    "    # negatives_inside: largest D_an.\n",
    "    negatives_inside = array_ops.tile(\n",
    "        masked_maximum(pdist_matrix, adjacency_not), [1, batch_size])\n",
    "    semi_hard_negatives = array_ops.where(\n",
    "        mask_final, negatives_outside, negatives_inside)\n",
    "\n",
    "    loss_mat = math_ops.add(margin, pdist_matrix - semi_hard_negatives)\n",
    "\n",
    "    mask_positives = math_ops.cast(\n",
    "        adjacency, dtype=dtypes.float32) - array_ops.diag(\n",
    "        array_ops.ones([batch_size]))\n",
    "\n",
    "    # In lifted-struct, the authors multiply 0.5 for upper triangular\n",
    "    #   in semihard, they take all positive pairs except the diagonal.\n",
    "    num_positives = math_ops.reduce_sum(mask_positives)\n",
    "\n",
    "    semi_hard_triplet_loss_distance = math_ops.truediv(\n",
    "        math_ops.reduce_sum(\n",
    "            math_ops.maximum(\n",
    "                math_ops.multiply(loss_mat, mask_positives), 0.0)),\n",
    "        num_positives,\n",
    "        name='triplet_semihard_loss')\n",
    "    \n",
    "    ### Code from Tensorflow function semi-hard triplet loss ENDS here.\n",
    "    return semi_hard_triplet_loss_distance"
   ]
  },
  {
   "cell_type": "code",
   "execution_count": 36,
   "metadata": {},
   "outputs": [],
   "source": [
    "from keras.layers import concatenate, Add, Lambda, merge, Average, Maximum\n",
    "from keras.optimizers import Adam, Nadam\n",
    "\n",
    "def siamese_model(title_feature_model, desc_feature_model, categorical_feature_model, sequence_length_info, \n",
    "                  sequence_length_t, sequence_length_d, name):\n",
    "  \n",
    "    bug_t = Input(shape = (sequence_length_t, ), name = 'title_{}'.format(name))\n",
    "    bug_d = Input(shape = (sequence_length_d, ), name = 'desc_{}'.format(name))\n",
    "    bug_i = Input(shape = (sequence_length_info, ), name = 'info_{}'.format(name))\n",
    "    \n",
    "    bug_t_feat = title_feature_model(bug_t)\n",
    "    bug_d_feat = desc_feature_model(bug_d)\n",
    "    bug_i_feat = categorical_feature_model(bug_i)\n",
    "    \n",
    "    #bug_feature_output = Add(name = 'merge_features_{}'.format(name))([bug_i_feat, bug_t_feat, bug_d_feat])\n",
    "    bug_feature_output = concatenate([bug_i_feat, bug_t_feat, bug_d_feat], name = 'merge_features_{}'.format(name))\n",
    "    \n",
    "    #     bug_feature_output = Activation('tanh')(bug_feature_output)\n",
    "    \n",
    "    # Bug representation layer\n",
    "    # bug_feature_output = Dense(300, activation='tanh')(bug_feature_output)\n",
    "    \n",
    "    bug_feature_model = Model(inputs=[bug_t, bug_d, bug_i], outputs=[bug_feature_output], name = 'merge_features_{}'.format(name))\n",
    "    \n",
    "    return bug_feature_model"
   ]
  },
  {
   "cell_type": "code",
   "execution_count": 37,
   "metadata": {},
   "outputs": [],
   "source": [
    "def max_margin_objective(encoded_anchor, decay_lr=1):\n",
    "    \n",
    "    input_labels = Input(shape=(1,), name='input_label')    # input layer for labels\n",
    "    inputs = np.concatenate([encoded_anchor.input, [input_labels]], -1).tolist()\n",
    "    \n",
    "    encoded_anchor = encoded_anchor.output\n",
    "    \n",
    "    output = concatenate([input_labels, encoded_anchor])  # concatenating the labels + embeddings\n",
    "    \n",
    "    similarity_model = Model(inputs = inputs, outputs = output, name = 'Similarity_Model')\n",
    "\n",
    "    #optimizer = Nadam(lr=1e-3, beta_1=0.9, beta_2=0.999, epsilon=K.epsilon(), schedule_decay=0.01)\n",
    "    # optimizer = Adam(lr=1e-3 * decay_lr, beta_1=0.9, beta_2=0.999, epsilon=None, decay=0.0, amsgrad=True)\n",
    "\n",
    "    # setup the optimization process \n",
    "    similarity_model.compile(optimizer='adam', loss=triplet_loss_adapted_from_tf) \n",
    "    # metrics=[pos_distance, neg_distance, custom_margin_loss]\n",
    "\n",
    "    return similarity_model"
   ]
  },
  {
   "cell_type": "code",
   "execution_count": 38,
   "metadata": {},
   "outputs": [],
   "source": [
    "# Domain to use\n",
    "limit_train = int(epochs * freeze_train) # 10% de 1000 , 100 epocas\n",
    "METHOD = 'baseline_{}'.format(limit_train)\n",
    "SAVE_PATH = '{}_preprocessing_{}_feature@number_of_epochs@epochs_64batch({})'.format(PREPROCESSING, METHOD, DOMAIN)\n",
    "SAVE_PATH_FEATURE = '{}_preprocessing_{}_feature_@number_of_epochs@epochs_64batch({})'.format(PREPROCESSING, METHOD, DOMAIN)"
   ]
  },
  {
   "cell_type": "code",
   "execution_count": 39,
   "metadata": {},
   "outputs": [],
   "source": [
    "import _pickle as pickle\n",
    "def save_loss(result):\n",
    "    with open(os.path.join(DIR,'{}_log.pkl'.format(METHOD)), 'wb') as f:\n",
    "        pickle.dump(result, f)\n",
    "    print(\"=> result saved!\")"
   ]
  },
  {
   "cell_type": "code",
   "execution_count": 40,
   "metadata": {
    "scrolled": true
   },
   "outputs": [
    {
     "name": "stdout",
     "output_type": "stream",
     "text": [
      "WARNING:tensorflow:From /usr/local/lib/python3.5/dist-packages/keras/backend/tensorflow_backend.py:95: The name tf.reset_default_graph is deprecated. Please use tf.compat.v1.reset_default_graph instead.\n",
      "\n",
      "WARNING:tensorflow:From /usr/local/lib/python3.5/dist-packages/keras/backend/tensorflow_backend.py:98: The name tf.placeholder_with_default is deprecated. Please use tf.compat.v1.placeholder_with_default instead.\n",
      "\n",
      "WARNING:tensorflow:From /usr/local/lib/python3.5/dist-packages/keras/backend/tensorflow_backend.py:102: The name tf.get_default_graph is deprecated. Please use tf.compat.v1.get_default_graph instead.\n",
      "\n",
      "WARNING:tensorflow:From /usr/local/lib/python3.5/dist-packages/keras/backend/tensorflow_backend.py:517: The name tf.placeholder is deprecated. Please use tf.compat.v1.placeholder instead.\n",
      "\n",
      "WARNING:tensorflow:From /usr/local/lib/python3.5/dist-packages/keras/backend/tensorflow_backend.py:4138: The name tf.random_uniform is deprecated. Please use tf.random.uniform instead.\n",
      "\n",
      "WARNING:tensorflow:From /usr/local/lib/python3.5/dist-packages/keras/backend/tensorflow_backend.py:174: The name tf.get_default_session is deprecated. Please use tf.compat.v1.get_default_session instead.\n",
      "\n",
      "WARNING:tensorflow:From /usr/local/lib/python3.5/dist-packages/keras/backend/tensorflow_backend.py:181: The name tf.ConfigProto is deprecated. Please use tf.compat.v1.ConfigProto instead.\n",
      "\n",
      "WARNING:tensorflow:From /usr/local/lib/python3.5/dist-packages/keras/backend/tensorflow_backend.py:186: The name tf.Session is deprecated. Please use tf.compat.v1.Session instead.\n",
      "\n",
      "WARNING:tensorflow:From /usr/local/lib/python3.5/dist-packages/keras/backend/tensorflow_backend.py:190: The name tf.global_variables is deprecated. Please use tf.compat.v1.global_variables instead.\n",
      "\n",
      "WARNING:tensorflow:From /usr/local/lib/python3.5/dist-packages/keras/backend/tensorflow_backend.py:199: The name tf.is_variable_initialized is deprecated. Please use tf.compat.v1.is_variable_initialized instead.\n",
      "\n",
      "WARNING:tensorflow:From /usr/local/lib/python3.5/dist-packages/keras/backend/tensorflow_backend.py:206: The name tf.variables_initializer is deprecated. Please use tf.compat.v1.variables_initializer instead.\n",
      "\n",
      "WARNING:tensorflow:From /usr/local/lib/python3.5/dist-packages/keras/backend/tensorflow_backend.py:3976: The name tf.nn.max_pool is deprecated. Please use tf.nn.max_pool2d instead.\n",
      "\n",
      "WARNING:tensorflow:From /usr/local/lib/python3.5/dist-packages/keras/optimizers.py:790: The name tf.train.Optimizer is deprecated. Please use tf.compat.v1.train.Optimizer instead.\n",
      "\n",
      "WARNING:tensorflow:From <ipython-input-34-cd325db98846>:35: to_float (from tensorflow.python.ops.math_ops) is deprecated and will be removed in a future version.\n",
      "Instructions for updating:\n",
      "Use `tf.cast` instead.\n",
      "WARNING:tensorflow:From <ipython-input-35-3672f63e3254>:59: where (from tensorflow.python.ops.array_ops) is deprecated and will be removed in a future version.\n",
      "Instructions for updating:\n",
      "Use tf.where in 2.0, which has the same broadcast rule as np.where\n",
      "__________________________________________________________________________________________________\n",
      "Layer (type)                    Output Shape         Param #     Connected to                     \n",
      "==================================================================================================\n",
      "info_in (InputLayer)            (None, 738)          0                                            \n",
      "__________________________________________________________________________________________________\n",
      "title_in (InputLayer)           (None, 20)           0                                            \n",
      "__________________________________________________________________________________________________\n",
      "desc_in (InputLayer)            (None, 20)           0                                            \n",
      "__________________________________________________________________________________________________\n",
      "FeatureMlpGenerationModel (Mode (None, 300)          221700      info_in[0][0]                    \n",
      "__________________________________________________________________________________________________\n",
      "FeatureLstmGenerationModel (Mod (None, 300)          581460900   title_in[0][0]                   \n",
      "__________________________________________________________________________________________________\n",
      "FeatureCNNGenerationModel (Mode (None, 300)          581507592   desc_in[0][0]                    \n",
      "__________________________________________________________________________________________________\n",
      "input_label (InputLayer)        (None, 1)            0                                            \n",
      "__________________________________________________________________________________________________\n",
      "merge_features_in (Concatenate) (None, 900)          0           FeatureMlpGenerationModel[1][0]  \n",
      "                                                                 FeatureLstmGenerationModel[1][0] \n",
      "                                                                 FeatureCNNGenerationModel[1][0]  \n",
      "__________________________________________________________________________________________________\n",
      "concatenate_3 (Concatenate)     (None, 901)          0           input_label[0][0]                \n",
      "                                                                 merge_features_in[0][0]          \n",
      "==================================================================================================\n",
      "Total params: 1,163,190,192\n",
      "Trainable params: 675,192\n",
      "Non-trainable params: 1,162,515,000\n",
      "__________________________________________________________________________________________________\n",
      "Total of  100\n",
      "WARNING:tensorflow:From /usr/local/lib/python3.5/dist-packages/keras/backend/tensorflow_backend.py:986: The name tf.assign_add is deprecated. Please use tf.compat.v1.assign_add instead.\n",
      "\n",
      "WARNING:tensorflow:From /usr/local/lib/python3.5/dist-packages/keras/backend/tensorflow_backend.py:973: The name tf.assign is deprecated. Please use tf.compat.v1.assign instead.\n",
      "\n",
      "Epoch: 1 Loss: 0.94, Loss_test: 0.90\n",
      "Epoch: 2 Loss: 0.92, Loss_test: 0.85\n",
      "Epoch: 3 Loss: 0.84, Loss_test: 0.79\n",
      "Epoch: 4 Loss: 0.81, Loss_test: 0.73\n",
      "Epoch: 5 Loss: 0.70, Loss_test: 0.67\n",
      "Epoch: 6 Loss: 0.71, Loss_test: 0.60\n",
      "Epoch: 7 Loss: 0.55, Loss_test: 0.52\n",
      "Epoch: 8 Loss: 0.48, Loss_test: 0.45\n",
      "Epoch: 9 Loss: 0.40, Loss_test: 0.37\n",
      "=> result saved!\n",
      "Epoch: 10 Loss: 0.18, Loss_test: 0.30\n",
      "Epoch: 11 Loss: 0.31, Loss_test: 0.25\n",
      "Epoch: 12 Loss: 0.28, Loss_test: 0.20\n",
      "Epoch: 13 Loss: 0.18, Loss_test: 0.16\n",
      "Epoch: 14 Loss: 0.27, Loss_test: 0.13\n",
      "Epoch: 15 Loss: 0.34, Loss_test: 0.11\n",
      "Epoch: 16 Loss: 0.11, Loss_test: 0.10\n",
      "Epoch: 17 Loss: 0.17, Loss_test: 0.08\n",
      "Epoch: 18 Loss: 0.08, Loss_test: 0.07\n",
      "Epoch: 19 Loss: 0.08, Loss_test: 0.07\n",
      "=> result saved!\n",
      "Epoch: 20 Loss: 0.12, Loss_test: 0.06\n",
      "Epoch: 21 Loss: 0.09, Loss_test: 0.05\n",
      "Epoch: 22 Loss: 0.08, Loss_test: 0.05\n",
      "Epoch: 23 Loss: 0.05, Loss_test: 0.05\n",
      "Epoch: 24 Loss: 0.06, Loss_test: 0.04\n",
      "Epoch: 25 Loss: 0.06, Loss_test: 0.04\n",
      "Epoch: 26 Loss: 0.12, Loss_test: 0.04\n",
      "Epoch: 27 Loss: 0.10, Loss_test: 0.04\n",
      "Epoch: 28 Loss: 0.06, Loss_test: 0.04\n",
      "Epoch: 29 Loss: 0.04, Loss_test: 0.04\n",
      "=> result saved!\n",
      "Epoch: 30 Loss: 0.06, Loss_test: 0.04\n",
      "Epoch: 31 Loss: 0.06, Loss_test: 0.04\n",
      "Epoch: 32 Loss: 0.06, Loss_test: 0.04\n",
      "Epoch: 33 Loss: 0.10, Loss_test: 0.03\n",
      "Epoch: 34 Loss: 0.06, Loss_test: 0.03\n",
      "Epoch: 35 Loss: 0.06, Loss_test: 0.03\n",
      "Epoch: 36 Loss: 0.07, Loss_test: 0.03\n",
      "Epoch: 37 Loss: 0.07, Loss_test: 0.03\n",
      "Epoch: 38 Loss: 0.05, Loss_test: 0.03\n",
      "Epoch: 39 Loss: 0.06, Loss_test: 0.03\n",
      "=> result saved!\n",
      "Epoch: 40 Loss: 0.03, Loss_test: 0.03\n",
      "Epoch: 41 Loss: 0.05, Loss_test: 0.03\n",
      "Epoch: 42 Loss: 0.12, Loss_test: 0.03\n",
      "Epoch: 43 Loss: 0.05, Loss_test: 0.03\n",
      "Epoch: 44 Loss: 0.07, Loss_test: 0.03\n",
      "Epoch: 45 Loss: 0.07, Loss_test: 0.03\n",
      "Epoch: 46 Loss: 0.05, Loss_test: 0.03\n",
      "Epoch: 47 Loss: 0.05, Loss_test: 0.03\n",
      "Epoch: 48 Loss: 0.08, Loss_test: 0.03\n",
      "Epoch: 49 Loss: 0.06, Loss_test: 0.03\n",
      "=> result saved!\n",
      "Epoch: 50 Loss: 0.05, Loss_test: 0.03\n",
      "Epoch: 51 Loss: 0.05, Loss_test: 0.03\n",
      "Epoch: 52 Loss: 0.02, Loss_test: 0.03\n",
      "Epoch: 53 Loss: 0.07, Loss_test: 0.03\n",
      "Epoch: 54 Loss: 0.05, Loss_test: 0.03\n",
      "Epoch: 55 Loss: 0.07, Loss_test: 0.03\n",
      "Epoch: 56 Loss: 0.09, Loss_test: 0.03\n",
      "Epoch: 57 Loss: 0.07, Loss_test: 0.03\n"
     ]
    },
    {
     "name": "stdout",
     "output_type": "stream",
     "text": [
      "Epoch: 58 Loss: 0.06, Loss_test: 0.03\n",
      "Epoch: 59 Loss: 0.09, Loss_test: 0.03\n",
      "=> result saved!\n",
      "Epoch: 60 Loss: 0.07, Loss_test: 0.03\n",
      "Epoch: 61 Loss: 0.04, Loss_test: 0.03\n",
      "Epoch: 62 Loss: 0.07, Loss_test: 0.03\n",
      "Epoch: 63 Loss: 0.07, Loss_test: 0.03\n",
      "Epoch: 64 Loss: 0.06, Loss_test: 0.03\n",
      "Epoch: 65 Loss: 0.04, Loss_test: 0.03\n",
      "Epoch: 66 Loss: 0.04, Loss_test: 0.03\n",
      "Epoch: 67 Loss: 0.07, Loss_test: 0.03\n",
      "Epoch: 68 Loss: 0.05, Loss_test: 0.02\n",
      "Epoch: 69 Loss: 0.06, Loss_test: 0.02\n",
      "=> result saved!\n",
      "Epoch: 70 Loss: 0.04, Loss_test: 0.02\n",
      "Epoch: 71 Loss: 0.06, Loss_test: 0.02\n",
      "Epoch: 72 Loss: 0.07, Loss_test: 0.02\n",
      "Epoch: 73 Loss: 0.04, Loss_test: 0.02\n",
      "Epoch: 74 Loss: 0.06, Loss_test: 0.02\n",
      "Epoch: 75 Loss: 0.05, Loss_test: 0.02\n",
      "Epoch: 76 Loss: 0.03, Loss_test: 0.02\n",
      "Epoch: 77 Loss: 0.05, Loss_test: 0.02\n",
      "Epoch: 78 Loss: 0.03, Loss_test: 0.02\n",
      "Epoch: 79 Loss: 0.05, Loss_test: 0.02\n",
      "=> result saved!\n",
      "Epoch: 80 Loss: 0.03, Loss_test: 0.02\n",
      "Epoch: 81 Loss: 0.03, Loss_test: 0.02\n",
      "Epoch: 82 Loss: 0.04, Loss_test: 0.02\n",
      "Epoch: 83 Loss: 0.05, Loss_test: 0.02\n",
      "Epoch: 84 Loss: 0.06, Loss_test: 0.02\n",
      "Epoch: 85 Loss: 0.04, Loss_test: 0.02\n",
      "Epoch: 86 Loss: 0.10, Loss_test: 0.02\n",
      "Epoch: 87 Loss: 0.04, Loss_test: 0.02\n",
      "Epoch: 88 Loss: 0.03, Loss_test: 0.02\n",
      "Epoch: 89 Loss: 0.04, Loss_test: 0.02\n",
      "=> result saved!\n",
      "Epoch: 90 Loss: 0.07, Loss_test: 0.02\n",
      "Epoch: 91 Loss: 0.06, Loss_test: 0.02\n",
      "Epoch: 92 Loss: 0.03, Loss_test: 0.02\n",
      "Epoch: 93 Loss: 0.05, Loss_test: 0.02\n",
      "Epoch: 94 Loss: 0.04, Loss_test: 0.02\n",
      "Epoch: 95 Loss: 0.04, Loss_test: 0.02\n",
      "Epoch: 96 Loss: 0.05, Loss_test: 0.02\n",
      "Epoch: 97 Loss: 0.03, Loss_test: 0.02\n",
      "Epoch: 98 Loss: 0.03, Loss_test: 0.02\n",
      "Epoch: 99 Loss: 0.06, Loss_test: 0.02\n",
      "=> result saved!\n",
      "Epoch: 100 Loss: 0.05, Loss_test: 0.02, recall@25: 0.38\n",
      "Best_epoch=52, Best_loss=0.02, Recall@25=0.38\n",
      "CPU times: user 8min 20s, sys: 1min 16s, total: 9min 36s\n",
      "Wall time: 2min 44s\n"
     ]
    }
   ],
   "source": [
    "%%time\n",
    "import keras\n",
    "\n",
    "# Inspired on https://'pastebin.com/TaGFdcBA\n",
    "# TODO: https://stackoverflow.com/questions/49941903/keras-compute-cosine-distance-between-two-flattened-outputs\n",
    "keras.backend.clear_session()\n",
    "\n",
    "# Clear GPU memory\n",
    "# from numba import cuda\n",
    "# cuda.select_device(0)\n",
    "# cuda.close()\n",
    "\n",
    "# Embeddings\n",
    "desc_embedding_layer = embedding_layer(embeddings=baseline.embedding_matrix, \n",
    "                              num_words=len(baseline.embedding_matrix), \n",
    "                              embedding_dim=EMBEDDING_DIM, \n",
    "                              max_sequence_length=MAX_SEQUENCE_LENGTH_D, \n",
    "                              trainable=False)\n",
    "title_embedding_layer = embedding_layer(embeddings=baseline.embedding_matrix, \n",
    "                              num_words=len(baseline.embedding_matrix), \n",
    "                              embedding_dim=EMBEDDING_DIM, \n",
    "                              max_sequence_length=MAX_SEQUENCE_LENGTH_T, \n",
    "                              trainable=False)\n",
    "\n",
    "# Feature models\n",
    "'''\n",
    "    cnn_model\n",
    "    lstm_model\n",
    "    mlp_model\n",
    "'''\n",
    "desc_feature_model = cnn_model(desc_embedding_layer, MAX_SEQUENCE_LENGTH_D)\n",
    "title_feature_model = lstm_model(title_embedding_layer, MAX_SEQUENCE_LENGTH_T)\n",
    "categorical_feature_model = mlp_model(number_of_columns_info)\n",
    "\n",
    "# Similarity model\n",
    "encoded_anchor = siamese_model(title_feature_model, desc_feature_model, categorical_feature_model, \n",
    "                                     number_of_columns_info, MAX_SEQUENCE_LENGTH_T, MAX_SEQUENCE_LENGTH_D, 'in')\n",
    "\n",
    "similarity_model = max_margin_objective(encoded_anchor, decay_lr=1)\n",
    "\n",
    "# cnn_feature_model.summary()\n",
    "# lstm_feature_model.summary()\n",
    "similarity_model.summary()\n",
    "\n",
    "'''\n",
    "    Experiment\n",
    "'''\n",
    "result = { 'train' : [], 'test' : [] }\n",
    "print(\"Total of \", limit_train)\n",
    "for epoch in range(limit_train):\n",
    "    batch_triplet_train, \\\n",
    "        train_input_sample, train_sim = batch_iterator(baseline, retrieval, encoded_anchor, baseline.train_data, \n",
    "                                                       baseline.dup_sets_train, bug_train_ids, \n",
    "                                                           batch_size, 1, issues_by_buckets, TRIPLET_HARD=False)\n",
    "    train_batch = [train_input_sample['title'], train_input_sample['description'], train_input_sample['info'], train_sim]\n",
    "    \n",
    "    h = similarity_model.train_on_batch(x=train_batch, y=train_sim)\n",
    "    h_validation = similarity_model.test_on_batch(x=validation_sample, y=valid_sim)\n",
    "    \n",
    "     # save results\n",
    "    result['train'].append(h)\n",
    "    result['test'].append(h_validation)\n",
    "    \n",
    "    if( (epoch+1) % 10 == 0 or (epoch+1 == limit_train) ):\n",
    "        save_loss(result)\n",
    "    \n",
    "    if (epoch+1 == limit_train): #(epoch > 1 and epoch % 10 == 0) or (epoch+1 == epochs):\n",
    "        recall, exported_rank, debug = experiment.evaluate_validation_test(retrieval, verbose, encoded_anchor, issues_by_buckets, bug_train_ids)\n",
    "        print(\"Epoch: {} Loss: {:.2f}, Loss_test: {:.2f}, recall@25: {:.2f}\".format(epoch+1, h, h_validation, recall))\n",
    "    else:\n",
    "        print(\"Epoch: {} Loss: {:.2f}, Loss_test: {:.2f}\".format(epoch+1, h, h_validation))\n",
    "    loss = h\n",
    "    \n",
    "    if loss < best_loss:\n",
    "        best_loss = loss\n",
    "        best_epoch = epoch+1\n",
    "\n",
    "#experiment.save_model(similarity_model, SAVE_PATH.replace('@number_of_epochs@', str(epochs)))\n",
    "#experiment.save_model(encoded_anchor, SAVE_PATH_FEATURE.replace('@number_of_epochs@', str(epochs)), verbose=1)\n",
    "print('Best_epoch={}, Best_loss={:.2f}, Recall@25={:.2f}'.format(best_epoch, best_loss, recall))"
   ]
  },
  {
   "cell_type": "code",
   "execution_count": 41,
   "metadata": {},
   "outputs": [
    {
     "data": {
      "text/plain": [
       "'data/processed/openoffice/bert/exported_rank_baseline_100.txt'"
      ]
     },
     "execution_count": 41,
     "metadata": {},
     "output_type": "execute_result"
    }
   ],
   "source": [
    "EXPORT_RANK_PATH = os.path.join(DIR, 'exported_rank_{}.txt'.format(METHOD))\n",
    "EXPORT_RANK_PATH"
   ]
  },
  {
   "cell_type": "code",
   "execution_count": 42,
   "metadata": {},
   "outputs": [],
   "source": [
    "with open(EXPORT_RANK_PATH, 'w') as file_out:\n",
    "    for row in exported_rank:\n",
    "        file_out.write(row + \"\\n\")"
   ]
  },
  {
   "cell_type": "code",
   "execution_count": null,
   "metadata": {},
   "outputs": [],
   "source": [
    "experiment.save_model(similarity_model, SAVE_PATH.replace('@number_of_epochs@', str(limit_train)))\n",
    "experiment.save_model(encoded_anchor, SAVE_PATH_FEATURE.replace('@number_of_epochs@', str(limit_train)), verbose=1)"
   ]
  },
  {
   "cell_type": "code",
   "execution_count": 44,
   "metadata": {},
   "outputs": [
    {
     "data": {
      "text/plain": [
       "(100, 100)"
      ]
     },
     "execution_count": 44,
     "metadata": {},
     "output_type": "execute_result"
    }
   ],
   "source": [
    "len(result['train']), len(result['test'])"
   ]
  },
  {
   "cell_type": "code",
   "execution_count": 45,
   "metadata": {},
   "outputs": [
    {
     "name": "stdout",
     "output_type": "stream",
     "text": [
      "__________________________________________________________________________________________________\n",
      "Layer (type)                    Output Shape         Param #     Connected to                     \n",
      "==================================================================================================\n",
      "info_in (InputLayer)            (None, 738)          0                                            \n",
      "__________________________________________________________________________________________________\n",
      "title_in (InputLayer)           (None, 20)           0                                            \n",
      "__________________________________________________________________________________________________\n",
      "desc_in (InputLayer)            (None, 20)           0                                            \n",
      "__________________________________________________________________________________________________\n",
      "FeatureMlpGenerationModel (Mode (None, 300)          221700      info_in[0][0]                    \n",
      "__________________________________________________________________________________________________\n",
      "FeatureLstmGenerationModel (Mod (None, 300)          581460900   title_in[0][0]                   \n",
      "__________________________________________________________________________________________________\n",
      "FeatureCNNGenerationModel (Mode (None, 300)          581507592   desc_in[0][0]                    \n",
      "__________________________________________________________________________________________________\n",
      "input_label (InputLayer)        (None, 1)            0                                            \n",
      "__________________________________________________________________________________________________\n",
      "merge_features_in (Concatenate) (None, 900)          0           FeatureMlpGenerationModel[1][0]  \n",
      "                                                                 FeatureLstmGenerationModel[1][0] \n",
      "                                                                 FeatureCNNGenerationModel[1][0]  \n",
      "__________________________________________________________________________________________________\n",
      "concatenate_3 (Concatenate)     (None, 901)          0           input_label[0][0]                \n",
      "                                                                 merge_features_in[0][0]          \n",
      "==================================================================================================\n",
      "Total params: 1,163,190,192\n",
      "Trainable params: 675,192\n",
      "Non-trainable params: 1,162,515,000\n",
      "__________________________________________________________________________________________________\n"
     ]
    }
   ],
   "source": [
    "model = similarity_model.get_layer('concatenate_3')\n",
    "output = model.output\n",
    "inputs = similarity_model.inputs\n",
    "model = Model(inputs = inputs, outputs = output, name = 'Similarity_Model')\n",
    "\n",
    "# setup the optimization process \n",
    "model.compile(optimizer='adam', loss=triplet_loss_adapted_from_tf)\n",
    "model.summary()"
   ]
  },
  {
   "cell_type": "code",
   "execution_count": 46,
   "metadata": {},
   "outputs": [],
   "source": [
    "# Domain to use\n",
    "METHOD = 'baseline_{}'.format(epochs)\n",
    "SAVE_PATH = '{}_preprocessing_{}_feature@number_of_epochs@epochs_64batch({})'.format(PREPROCESSING, METHOD, DOMAIN)\n",
    "SAVE_PATH_FEATURE = '{}_preprocessing_{}_feature_@number_of_epochs@epochs_64batch({})'.format(PREPROCESSING, METHOD, DOMAIN)"
   ]
  },
  {
   "cell_type": "code",
   "execution_count": 47,
   "metadata": {
    "scrolled": true
   },
   "outputs": [
    {
     "name": "stdout",
     "output_type": "stream",
     "text": [
      "Epoch: 101 Loss: 0.05, Loss_test: 0.02, recall@25: 0.38\n",
      "Epoch: 102 Loss: 0.03, Loss_test: 0.02, recall@25: 0.38\n",
      "Epoch: 103 Loss: 0.02, Loss_test: 0.02, recall@25: 0.38\n",
      "Epoch: 104 Loss: 0.05, Loss_test: 0.02, recall@25: 0.38\n",
      "Epoch: 105 Loss: 0.04, Loss_test: 0.02, recall@25: 0.38\n",
      "Epoch: 106 Loss: 0.07, Loss_test: 0.02, recall@25: 0.38\n",
      "Epoch: 107 Loss: 0.08, Loss_test: 0.02, recall@25: 0.38\n",
      "Epoch: 108 Loss: 0.03, Loss_test: 0.03, recall@25: 0.38\n",
      "Epoch: 109 Loss: 0.03, Loss_test: 0.04, recall@25: 0.38\n",
      "=> result saved!\n",
      "Epoch: 110 Loss: 0.03, Loss_test: 0.04, recall@25: 0.38\n",
      "Epoch: 111 Loss: 0.05, Loss_test: 0.04, recall@25: 0.38\n",
      "Epoch: 112 Loss: 0.11, Loss_test: 0.03, recall@25: 0.38\n",
      "Epoch: 113 Loss: 0.05, Loss_test: 0.02, recall@25: 0.38\n",
      "Epoch: 114 Loss: 0.05, Loss_test: 0.02, recall@25: 0.38\n",
      "Epoch: 115 Loss: 0.04, Loss_test: 0.02, recall@25: 0.38\n",
      "Epoch: 116 Loss: 0.04, Loss_test: 0.03, recall@25: 0.38\n",
      "Epoch: 117 Loss: 0.04, Loss_test: 0.02, recall@25: 0.38\n",
      "Epoch: 118 Loss: 0.02, Loss_test: 0.02, recall@25: 0.38\n",
      "Epoch: 119 Loss: 0.03, Loss_test: 0.02, recall@25: 0.38\n",
      "=> result saved!\n",
      "Epoch: 120 Loss: 0.03, Loss_test: 0.01, recall@25: 0.38\n",
      "Epoch: 121 Loss: 0.03, Loss_test: 0.01, recall@25: 0.38\n",
      "Epoch: 122 Loss: 0.03, Loss_test: 0.01, recall@25: 0.38\n",
      "Epoch: 123 Loss: 0.02, Loss_test: 0.01, recall@25: 0.38\n",
      "Epoch: 124 Loss: 0.03, Loss_test: 0.01, recall@25: 0.38\n",
      "Epoch: 125 Loss: 0.03, Loss_test: 0.01, recall@25: 0.38\n",
      "Epoch: 126 Loss: 0.01, Loss_test: 0.01, recall@25: 0.38\n",
      "Epoch: 127 Loss: 0.04, Loss_test: 0.02, recall@25: 0.38\n",
      "Epoch: 128 Loss: 0.03, Loss_test: 0.02, recall@25: 0.38\n",
      "Epoch: 129 Loss: 0.04, Loss_test: 0.01, recall@25: 0.38\n",
      "=> result saved!\n",
      "Epoch: 130 Loss: 0.03, Loss_test: 0.01, recall@25: 0.38\n",
      "Epoch: 131 Loss: 0.03, Loss_test: 0.01, recall@25: 0.38\n",
      "Epoch: 132 Loss: 0.02, Loss_test: 0.01, recall@25: 0.38\n",
      "Epoch: 133 Loss: 0.04, Loss_test: 0.01, recall@25: 0.38\n",
      "Epoch: 134 Loss: 0.02, Loss_test: 0.01, recall@25: 0.38\n",
      "Epoch: 135 Loss: 0.02, Loss_test: 0.01, recall@25: 0.38\n",
      "Epoch: 136 Loss: 0.04, Loss_test: 0.01, recall@25: 0.38\n",
      "Epoch: 137 Loss: 0.04, Loss_test: 0.01, recall@25: 0.38\n",
      "Epoch: 138 Loss: 0.02, Loss_test: 0.01, recall@25: 0.38\n",
      "Epoch: 139 Loss: 0.03, Loss_test: 0.01, recall@25: 0.38\n",
      "=> result saved!\n",
      "Epoch: 140 Loss: 0.04, Loss_test: 0.01, recall@25: 0.38\n",
      "Epoch: 141 Loss: 0.03, Loss_test: 0.01, recall@25: 0.38\n",
      "Epoch: 142 Loss: 0.02, Loss_test: 0.01, recall@25: 0.38\n",
      "Epoch: 143 Loss: 0.03, Loss_test: 0.01, recall@25: 0.38\n",
      "Epoch: 144 Loss: 0.03, Loss_test: 0.01, recall@25: 0.38\n",
      "Epoch: 145 Loss: 0.02, Loss_test: 0.01, recall@25: 0.38\n",
      "Epoch: 146 Loss: 0.03, Loss_test: 0.01, recall@25: 0.38\n",
      "Epoch: 147 Loss: 0.02, Loss_test: 0.01, recall@25: 0.38\n",
      "Epoch: 148 Loss: 0.02, Loss_test: 0.01, recall@25: 0.38\n",
      "Epoch: 149 Loss: 0.03, Loss_test: 0.01, recall@25: 0.38\n",
      "=> result saved!\n",
      "Epoch: 150 Loss: 0.02, Loss_test: 0.01, recall@25: 0.38\n",
      "Epoch: 151 Loss: 0.02, Loss_test: 0.01, recall@25: 0.38\n",
      "Epoch: 152 Loss: 0.03, Loss_test: 0.01, recall@25: 0.38\n",
      "Epoch: 153 Loss: 0.01, Loss_test: 0.01, recall@25: 0.38\n",
      "Epoch: 154 Loss: 0.01, Loss_test: 0.01, recall@25: 0.38\n",
      "Epoch: 155 Loss: 0.02, Loss_test: 0.01, recall@25: 0.38\n",
      "Epoch: 156 Loss: 0.01, Loss_test: 0.01, recall@25: 0.38\n",
      "Epoch: 157 Loss: 0.04, Loss_test: 0.01, recall@25: 0.38\n",
      "Epoch: 158 Loss: 0.02, Loss_test: 0.01, recall@25: 0.38\n",
      "Epoch: 159 Loss: 0.02, Loss_test: 0.01, recall@25: 0.38\n",
      "=> result saved!\n",
      "Epoch: 160 Loss: 0.02, Loss_test: 0.01, recall@25: 0.38\n",
      "Epoch: 161 Loss: 0.02, Loss_test: 0.01, recall@25: 0.38\n",
      "Epoch: 162 Loss: 0.02, Loss_test: 0.01, recall@25: 0.38\n",
      "Epoch: 163 Loss: 0.01, Loss_test: 0.01, recall@25: 0.38\n",
      "Epoch: 164 Loss: 0.03, Loss_test: 0.01, recall@25: 0.38\n",
      "Epoch: 165 Loss: 0.05, Loss_test: 0.01, recall@25: 0.38\n",
      "Epoch: 166 Loss: 0.02, Loss_test: 0.01, recall@25: 0.38\n",
      "Epoch: 167 Loss: 0.01, Loss_test: 0.01, recall@25: 0.38\n",
      "Epoch: 168 Loss: 0.03, Loss_test: 0.01, recall@25: 0.38\n",
      "Epoch: 169 Loss: 0.02, Loss_test: 0.01, recall@25: 0.38\n",
      "=> result saved!\n",
      "Epoch: 170 Loss: 0.02, Loss_test: 0.01, recall@25: 0.38\n",
      "Epoch: 171 Loss: 0.03, Loss_test: 0.01, recall@25: 0.38\n",
      "Epoch: 172 Loss: 0.02, Loss_test: 0.01, recall@25: 0.38\n",
      "Epoch: 173 Loss: 0.02, Loss_test: 0.01, recall@25: 0.38\n",
      "Epoch: 174 Loss: 0.03, Loss_test: 0.01, recall@25: 0.38\n",
      "Epoch: 175 Loss: 0.02, Loss_test: 0.01, recall@25: 0.38\n",
      "Epoch: 176 Loss: 0.01, Loss_test: 0.01, recall@25: 0.38\n",
      "Epoch: 177 Loss: 0.02, Loss_test: 0.01, recall@25: 0.38\n",
      "Epoch: 178 Loss: 0.03, Loss_test: 0.01, recall@25: 0.38\n",
      "Epoch: 179 Loss: 0.01, Loss_test: 0.01, recall@25: 0.38\n",
      "=> result saved!\n",
      "Epoch: 180 Loss: 0.01, Loss_test: 0.01, recall@25: 0.38\n",
      "Epoch: 181 Loss: 0.03, Loss_test: 0.01, recall@25: 0.38\n",
      "Epoch: 182 Loss: 0.01, Loss_test: 0.01, recall@25: 0.38\n",
      "Epoch: 183 Loss: 0.01, Loss_test: 0.01, recall@25: 0.38\n",
      "Epoch: 184 Loss: 0.01, Loss_test: 0.01, recall@25: 0.38\n",
      "Epoch: 185 Loss: 0.04, Loss_test: 0.01, recall@25: 0.38\n",
      "Epoch: 186 Loss: 0.03, Loss_test: 0.01, recall@25: 0.38\n",
      "Epoch: 187 Loss: 0.02, Loss_test: 0.01, recall@25: 0.38\n",
      "Epoch: 188 Loss: 0.01, Loss_test: 0.01, recall@25: 0.38\n",
      "Epoch: 189 Loss: 0.01, Loss_test: 0.01, recall@25: 0.38\n",
      "=> result saved!\n",
      "Epoch: 190 Loss: 0.02, Loss_test: 0.01, recall@25: 0.38\n",
      "Epoch: 191 Loss: 0.02, Loss_test: 0.01, recall@25: 0.38\n",
      "Epoch: 192 Loss: 0.01, Loss_test: 0.01, recall@25: 0.38\n",
      "Epoch: 193 Loss: 0.02, Loss_test: 0.01, recall@25: 0.38\n",
      "Epoch: 194 Loss: 0.02, Loss_test: 0.01, recall@25: 0.38\n",
      "Epoch: 195 Loss: 0.02, Loss_test: 0.01, recall@25: 0.38\n",
      "Epoch: 196 Loss: 0.01, Loss_test: 0.01, recall@25: 0.38\n",
      "Epoch: 197 Loss: 0.02, Loss_test: 0.01, recall@25: 0.38\n",
      "Epoch: 198 Loss: 0.01, Loss_test: 0.01, recall@25: 0.38\n",
      "Epoch: 199 Loss: 0.01, Loss_test: 0.01, recall@25: 0.38\n",
      "=> result saved!\n",
      "Epoch: 200 Loss: 0.02, Loss_test: 0.01, recall@25: 0.38\n",
      "Epoch: 201 Loss: 0.01, Loss_test: 0.01, recall@25: 0.38\n",
      "Epoch: 202 Loss: 0.02, Loss_test: 0.01, recall@25: 0.38\n",
      "Epoch: 203 Loss: 0.01, Loss_test: 0.01, recall@25: 0.38\n",
      "Epoch: 204 Loss: 0.01, Loss_test: 0.01, recall@25: 0.38\n",
      "Epoch: 205 Loss: 0.01, Loss_test: 0.01, recall@25: 0.38\n",
      "Epoch: 206 Loss: 0.01, Loss_test: 0.01, recall@25: 0.38\n",
      "Epoch: 207 Loss: 0.01, Loss_test: 0.01, recall@25: 0.38\n",
      "Epoch: 208 Loss: 0.02, Loss_test: 0.01, recall@25: 0.38\n",
      "Epoch: 209 Loss: 0.01, Loss_test: 0.01, recall@25: 0.38\n",
      "=> result saved!\n",
      "Epoch: 210 Loss: 0.01, Loss_test: 0.01, recall@25: 0.38\n",
      "Epoch: 211 Loss: 0.02, Loss_test: 0.01, recall@25: 0.38\n",
      "Epoch: 212 Loss: 0.02, Loss_test: 0.01, recall@25: 0.38\n",
      "Epoch: 213 Loss: 0.02, Loss_test: 0.01, recall@25: 0.38\n",
      "Epoch: 214 Loss: 0.02, Loss_test: 0.01, recall@25: 0.38\n",
      "Epoch: 215 Loss: 0.01, Loss_test: 0.01, recall@25: 0.38\n",
      "Epoch: 216 Loss: 0.02, Loss_test: 0.01, recall@25: 0.38\n",
      "Epoch: 217 Loss: 0.01, Loss_test: 0.01, recall@25: 0.38\n",
      "Epoch: 218 Loss: 0.01, Loss_test: 0.01, recall@25: 0.38\n",
      "Epoch: 219 Loss: 0.02, Loss_test: 0.01, recall@25: 0.38\n",
      "=> result saved!\n",
      "Epoch: 220 Loss: 0.01, Loss_test: 0.01, recall@25: 0.38\n",
      "Epoch: 221 Loss: 0.02, Loss_test: 0.01, recall@25: 0.38\n",
      "Epoch: 222 Loss: 0.01, Loss_test: 0.01, recall@25: 0.38\n",
      "Epoch: 223 Loss: 0.02, Loss_test: 0.01, recall@25: 0.38\n",
      "Epoch: 224 Loss: 0.01, Loss_test: 0.01, recall@25: 0.38\n",
      "Epoch: 225 Loss: 0.01, Loss_test: 0.01, recall@25: 0.38\n",
      "Epoch: 226 Loss: 0.01, Loss_test: 0.01, recall@25: 0.38\n",
      "Epoch: 227 Loss: 0.02, Loss_test: 0.01, recall@25: 0.38\n",
      "Epoch: 228 Loss: 0.02, Loss_test: 0.01, recall@25: 0.38\n",
      "Epoch: 229 Loss: 0.01, Loss_test: 0.01, recall@25: 0.38\n",
      "=> result saved!\n",
      "Epoch: 230 Loss: 0.01, Loss_test: 0.01, recall@25: 0.38\n",
      "Epoch: 231 Loss: 0.01, Loss_test: 0.01, recall@25: 0.38\n",
      "Epoch: 232 Loss: 0.01, Loss_test: 0.01, recall@25: 0.38\n",
      "Epoch: 233 Loss: 0.02, Loss_test: 0.01, recall@25: 0.38\n",
      "Epoch: 234 Loss: 0.01, Loss_test: 0.01, recall@25: 0.38\n",
      "Epoch: 235 Loss: 0.01, Loss_test: 0.01, recall@25: 0.38\n",
      "Epoch: 236 Loss: 0.01, Loss_test: 0.01, recall@25: 0.38\n",
      "Epoch: 237 Loss: 0.01, Loss_test: 0.01, recall@25: 0.38\n",
      "Epoch: 238 Loss: 0.01, Loss_test: 0.01, recall@25: 0.38\n",
      "Epoch: 239 Loss: 0.01, Loss_test: 0.01, recall@25: 0.38\n",
      "=> result saved!\n",
      "Epoch: 240 Loss: 0.01, Loss_test: 0.01, recall@25: 0.38\n",
      "Epoch: 241 Loss: 0.02, Loss_test: 0.01, recall@25: 0.38\n",
      "Epoch: 242 Loss: 0.01, Loss_test: 0.01, recall@25: 0.38\n",
      "Epoch: 243 Loss: 0.02, Loss_test: 0.01, recall@25: 0.38\n"
     ]
    },
    {
     "name": "stdout",
     "output_type": "stream",
     "text": [
      "Epoch: 244 Loss: 0.01, Loss_test: 0.01, recall@25: 0.38\n",
      "Epoch: 245 Loss: 0.02, Loss_test: 0.01, recall@25: 0.38\n",
      "Epoch: 246 Loss: 0.01, Loss_test: 0.01, recall@25: 0.38\n",
      "Epoch: 247 Loss: 0.01, Loss_test: 0.01, recall@25: 0.38\n",
      "Epoch: 248 Loss: 0.01, Loss_test: 0.01, recall@25: 0.38\n",
      "Epoch: 249 Loss: 0.02, Loss_test: 0.01, recall@25: 0.38\n",
      "=> result saved!\n",
      "Epoch: 250 Loss: 0.01, Loss_test: 0.01, recall@25: 0.38\n",
      "Epoch: 251 Loss: 0.01, Loss_test: 0.00, recall@25: 0.38\n",
      "Epoch: 252 Loss: 0.02, Loss_test: 0.00, recall@25: 0.38\n",
      "Epoch: 253 Loss: 0.02, Loss_test: 0.00, recall@25: 0.38\n",
      "Epoch: 254 Loss: 0.01, Loss_test: 0.00, recall@25: 0.38\n",
      "Epoch: 255 Loss: 0.02, Loss_test: 0.00, recall@25: 0.38\n",
      "Epoch: 256 Loss: 0.00, Loss_test: 0.00, recall@25: 0.38\n",
      "Epoch: 257 Loss: 0.01, Loss_test: 0.00, recall@25: 0.38\n",
      "Epoch: 258 Loss: 0.02, Loss_test: 0.00, recall@25: 0.38\n",
      "Epoch: 259 Loss: 0.01, Loss_test: 0.00, recall@25: 0.38\n",
      "=> result saved!\n",
      "Epoch: 260 Loss: 0.01, Loss_test: 0.00, recall@25: 0.38\n",
      "Epoch: 261 Loss: 0.01, Loss_test: 0.00, recall@25: 0.38\n",
      "Epoch: 262 Loss: 0.02, Loss_test: 0.00, recall@25: 0.38\n",
      "Epoch: 263 Loss: 0.01, Loss_test: 0.00, recall@25: 0.38\n",
      "Epoch: 264 Loss: 0.01, Loss_test: 0.00, recall@25: 0.38\n",
      "Epoch: 265 Loss: 0.01, Loss_test: 0.00, recall@25: 0.38\n",
      "Epoch: 266 Loss: 0.01, Loss_test: 0.01, recall@25: 0.38\n",
      "Epoch: 267 Loss: 0.01, Loss_test: 0.01, recall@25: 0.38\n",
      "Epoch: 268 Loss: 0.02, Loss_test: 0.00, recall@25: 0.38\n",
      "Epoch: 269 Loss: 0.02, Loss_test: 0.00, recall@25: 0.38\n",
      "=> result saved!\n",
      "Epoch: 270 Loss: 0.01, Loss_test: 0.00, recall@25: 0.38\n",
      "Epoch: 271 Loss: 0.01, Loss_test: 0.00, recall@25: 0.38\n",
      "Epoch: 272 Loss: 0.01, Loss_test: 0.00, recall@25: 0.38\n",
      "Epoch: 273 Loss: 0.01, Loss_test: 0.00, recall@25: 0.38\n",
      "Epoch: 274 Loss: 0.01, Loss_test: 0.00, recall@25: 0.38\n",
      "Epoch: 275 Loss: 0.01, Loss_test: 0.00, recall@25: 0.38\n",
      "Epoch: 276 Loss: 0.01, Loss_test: 0.00, recall@25: 0.38\n",
      "Epoch: 277 Loss: 0.01, Loss_test: 0.00, recall@25: 0.38\n",
      "Epoch: 278 Loss: 0.01, Loss_test: 0.00, recall@25: 0.38\n",
      "Epoch: 279 Loss: 0.01, Loss_test: 0.00, recall@25: 0.38\n",
      "=> result saved!\n",
      "Epoch: 280 Loss: 0.01, Loss_test: 0.00, recall@25: 0.38\n",
      "Epoch: 281 Loss: 0.02, Loss_test: 0.00, recall@25: 0.38\n",
      "Epoch: 282 Loss: 0.02, Loss_test: 0.00, recall@25: 0.38\n",
      "Epoch: 283 Loss: 0.01, Loss_test: 0.00, recall@25: 0.38\n",
      "Epoch: 284 Loss: 0.01, Loss_test: 0.00, recall@25: 0.38\n",
      "Epoch: 285 Loss: 0.01, Loss_test: 0.00, recall@25: 0.38\n",
      "Epoch: 286 Loss: 0.01, Loss_test: 0.00, recall@25: 0.38\n",
      "Epoch: 287 Loss: 0.01, Loss_test: 0.00, recall@25: 0.38\n",
      "Epoch: 288 Loss: 0.01, Loss_test: 0.00, recall@25: 0.38\n",
      "Epoch: 289 Loss: 0.01, Loss_test: 0.00, recall@25: 0.38\n",
      "=> result saved!\n",
      "Epoch: 290 Loss: 0.01, Loss_test: 0.00, recall@25: 0.38\n",
      "Epoch: 291 Loss: 0.01, Loss_test: 0.00, recall@25: 0.38\n",
      "Epoch: 292 Loss: 0.00, Loss_test: 0.00, recall@25: 0.38\n",
      "Epoch: 293 Loss: 0.01, Loss_test: 0.00, recall@25: 0.38\n",
      "Epoch: 294 Loss: 0.01, Loss_test: 0.00, recall@25: 0.38\n",
      "Epoch: 295 Loss: 0.01, Loss_test: 0.00, recall@25: 0.38\n",
      "Epoch: 296 Loss: 0.00, Loss_test: 0.00, recall@25: 0.38\n",
      "Epoch: 297 Loss: 0.01, Loss_test: 0.00, recall@25: 0.38\n",
      "Epoch: 298 Loss: 0.00, Loss_test: 0.00, recall@25: 0.38\n",
      "Epoch: 299 Loss: 0.01, Loss_test: 0.00, recall@25: 0.38\n",
      "=> result saved!\n",
      "Epoch: 300 Loss: 0.01, Loss_test: 0.00, recall@25: 0.38\n",
      "Epoch: 301 Loss: 0.01, Loss_test: 0.00, recall@25: 0.38\n",
      "Epoch: 302 Loss: 0.02, Loss_test: 0.00, recall@25: 0.38\n",
      "Epoch: 303 Loss: 0.01, Loss_test: 0.00, recall@25: 0.38\n",
      "Epoch: 304 Loss: 0.00, Loss_test: 0.00, recall@25: 0.38\n",
      "Epoch: 305 Loss: 0.01, Loss_test: 0.00, recall@25: 0.38\n",
      "Epoch: 306 Loss: 0.01, Loss_test: 0.00, recall@25: 0.38\n",
      "Epoch: 307 Loss: 0.01, Loss_test: 0.00, recall@25: 0.38\n",
      "Epoch: 308 Loss: 0.02, Loss_test: 0.00, recall@25: 0.38\n",
      "Epoch: 309 Loss: 0.01, Loss_test: 0.00, recall@25: 0.38\n",
      "=> result saved!\n",
      "Epoch: 310 Loss: 0.01, Loss_test: 0.00, recall@25: 0.38\n",
      "Epoch: 311 Loss: 0.01, Loss_test: 0.00, recall@25: 0.38\n",
      "Epoch: 312 Loss: 0.00, Loss_test: 0.00, recall@25: 0.38\n",
      "Epoch: 313 Loss: 0.01, Loss_test: 0.00, recall@25: 0.38\n",
      "Epoch: 314 Loss: 0.01, Loss_test: 0.00, recall@25: 0.38\n",
      "Epoch: 315 Loss: 0.01, Loss_test: 0.00, recall@25: 0.38\n",
      "Epoch: 316 Loss: 0.02, Loss_test: 0.00, recall@25: 0.38\n",
      "Epoch: 317 Loss: 0.01, Loss_test: 0.00, recall@25: 0.38\n",
      "Epoch: 318 Loss: 0.00, Loss_test: 0.00, recall@25: 0.38\n",
      "Epoch: 319 Loss: 0.01, Loss_test: 0.00, recall@25: 0.38\n",
      "=> result saved!\n",
      "Epoch: 320 Loss: 0.01, Loss_test: 0.00, recall@25: 0.38\n",
      "Epoch: 321 Loss: 0.01, Loss_test: 0.00, recall@25: 0.38\n",
      "Epoch: 322 Loss: 0.01, Loss_test: 0.00, recall@25: 0.38\n",
      "Epoch: 323 Loss: 0.01, Loss_test: 0.00, recall@25: 0.38\n",
      "Epoch: 324 Loss: 0.01, Loss_test: 0.00, recall@25: 0.38\n",
      "Epoch: 325 Loss: 0.01, Loss_test: 0.00, recall@25: 0.38\n",
      "Epoch: 326 Loss: 0.01, Loss_test: 0.00, recall@25: 0.38\n",
      "Epoch: 327 Loss: 0.01, Loss_test: 0.00, recall@25: 0.38\n",
      "Epoch: 328 Loss: 0.01, Loss_test: 0.00, recall@25: 0.38\n",
      "Epoch: 329 Loss: 0.01, Loss_test: 0.00, recall@25: 0.38\n",
      "=> result saved!\n",
      "Epoch: 330 Loss: 0.01, Loss_test: 0.00, recall@25: 0.38\n",
      "Epoch: 331 Loss: 0.01, Loss_test: 0.00, recall@25: 0.38\n",
      "Epoch: 332 Loss: 0.01, Loss_test: 0.00, recall@25: 0.38\n",
      "Epoch: 333 Loss: 0.01, Loss_test: 0.00, recall@25: 0.38\n",
      "Epoch: 334 Loss: 0.01, Loss_test: 0.00, recall@25: 0.38\n",
      "Epoch: 335 Loss: 0.01, Loss_test: 0.00, recall@25: 0.38\n",
      "Epoch: 336 Loss: 0.01, Loss_test: 0.00, recall@25: 0.38\n",
      "Epoch: 337 Loss: 0.02, Loss_test: 0.00, recall@25: 0.38\n",
      "Epoch: 338 Loss: 0.01, Loss_test: 0.00, recall@25: 0.38\n",
      "Epoch: 339 Loss: 0.01, Loss_test: 0.00, recall@25: 0.38\n",
      "=> result saved!\n",
      "Epoch: 340 Loss: 0.01, Loss_test: 0.00, recall@25: 0.38\n",
      "Epoch: 341 Loss: 0.01, Loss_test: 0.00, recall@25: 0.38\n",
      "Epoch: 342 Loss: 0.01, Loss_test: 0.00, recall@25: 0.38\n",
      "Epoch: 343 Loss: 0.01, Loss_test: 0.00, recall@25: 0.38\n",
      "Epoch: 344 Loss: 0.01, Loss_test: 0.00, recall@25: 0.38\n",
      "Epoch: 345 Loss: 0.01, Loss_test: 0.00, recall@25: 0.38\n",
      "Epoch: 346 Loss: 0.00, Loss_test: 0.00, recall@25: 0.38\n",
      "Epoch: 347 Loss: 0.01, Loss_test: 0.00, recall@25: 0.38\n",
      "Epoch: 348 Loss: 0.01, Loss_test: 0.00, recall@25: 0.38\n",
      "Epoch: 349 Loss: 0.01, Loss_test: 0.00, recall@25: 0.38\n",
      "=> result saved!\n",
      "Epoch: 350 Loss: 0.01, Loss_test: 0.00, recall@25: 0.38\n",
      "Epoch: 351 Loss: 0.01, Loss_test: 0.00, recall@25: 0.38\n",
      "Epoch: 352 Loss: 0.01, Loss_test: 0.00, recall@25: 0.38\n",
      "Epoch: 353 Loss: 0.01, Loss_test: 0.00, recall@25: 0.38\n",
      "Epoch: 354 Loss: 0.01, Loss_test: 0.00, recall@25: 0.38\n",
      "Epoch: 355 Loss: 0.01, Loss_test: 0.00, recall@25: 0.38\n",
      "Epoch: 356 Loss: 0.01, Loss_test: 0.00, recall@25: 0.38\n",
      "Epoch: 357 Loss: 0.01, Loss_test: 0.00, recall@25: 0.38\n",
      "Epoch: 358 Loss: 0.01, Loss_test: 0.00, recall@25: 0.38\n",
      "Epoch: 359 Loss: 0.01, Loss_test: 0.00, recall@25: 0.38\n",
      "=> result saved!\n",
      "Epoch: 360 Loss: 0.01, Loss_test: 0.00, recall@25: 0.38\n",
      "Epoch: 361 Loss: 0.01, Loss_test: 0.00, recall@25: 0.38\n",
      "Epoch: 362 Loss: 0.01, Loss_test: 0.00, recall@25: 0.38\n",
      "Epoch: 363 Loss: 0.01, Loss_test: 0.00, recall@25: 0.38\n",
      "Epoch: 364 Loss: 0.00, Loss_test: 0.01, recall@25: 0.38\n",
      "Epoch: 365 Loss: 0.01, Loss_test: 0.01, recall@25: 0.38\n",
      "Epoch: 366 Loss: 0.04, Loss_test: 0.00, recall@25: 0.38\n",
      "Epoch: 367 Loss: 0.00, Loss_test: 0.00, recall@25: 0.38\n",
      "Epoch: 368 Loss: 0.01, Loss_test: 0.01, recall@25: 0.38\n",
      "Epoch: 369 Loss: 0.01, Loss_test: 0.01, recall@25: 0.38\n",
      "=> result saved!\n",
      "Epoch: 370 Loss: 0.01, Loss_test: 0.01, recall@25: 0.38\n",
      "Epoch: 371 Loss: 0.01, Loss_test: 0.01, recall@25: 0.38\n",
      "Epoch: 372 Loss: 0.01, Loss_test: 0.01, recall@25: 0.38\n",
      "Epoch: 373 Loss: 0.01, Loss_test: 0.00, recall@25: 0.38\n",
      "Epoch: 374 Loss: 0.01, Loss_test: 0.00, recall@25: 0.38\n",
      "Epoch: 375 Loss: 0.01, Loss_test: 0.00, recall@25: 0.38\n",
      "Epoch: 376 Loss: 0.01, Loss_test: 0.00, recall@25: 0.38\n",
      "Epoch: 377 Loss: 0.02, Loss_test: 0.00, recall@25: 0.38\n",
      "Epoch: 378 Loss: 0.01, Loss_test: 0.00, recall@25: 0.38\n",
      "Epoch: 379 Loss: 0.01, Loss_test: 0.00, recall@25: 0.38\n",
      "=> result saved!\n",
      "Epoch: 380 Loss: 0.01, Loss_test: 0.00, recall@25: 0.38\n",
      "Epoch: 381 Loss: 0.01, Loss_test: 0.00, recall@25: 0.38\n",
      "Epoch: 382 Loss: 0.01, Loss_test: 0.00, recall@25: 0.38\n",
      "Epoch: 383 Loss: 0.01, Loss_test: 0.00, recall@25: 0.38\n",
      "Epoch: 384 Loss: 0.01, Loss_test: 0.00, recall@25: 0.38\n",
      "Epoch: 385 Loss: 0.01, Loss_test: 0.00, recall@25: 0.38\n",
      "Epoch: 386 Loss: 0.01, Loss_test: 0.00, recall@25: 0.38\n"
     ]
    },
    {
     "name": "stdout",
     "output_type": "stream",
     "text": [
      "Epoch: 387 Loss: 0.01, Loss_test: 0.00, recall@25: 0.38\n",
      "Epoch: 388 Loss: 0.01, Loss_test: 0.00, recall@25: 0.38\n",
      "Epoch: 389 Loss: 0.01, Loss_test: 0.00, recall@25: 0.38\n",
      "=> result saved!\n",
      "Epoch: 390 Loss: 0.01, Loss_test: 0.00, recall@25: 0.38\n",
      "Epoch: 391 Loss: 0.00, Loss_test: 0.00, recall@25: 0.38\n",
      "Epoch: 392 Loss: 0.01, Loss_test: 0.00, recall@25: 0.38\n",
      "Epoch: 393 Loss: 0.01, Loss_test: 0.00, recall@25: 0.38\n",
      "Epoch: 394 Loss: 0.01, Loss_test: 0.00, recall@25: 0.38\n",
      "Epoch: 395 Loss: 0.01, Loss_test: 0.01, recall@25: 0.38\n",
      "Epoch: 396 Loss: 0.01, Loss_test: 0.00, recall@25: 0.38\n",
      "Epoch: 397 Loss: 0.01, Loss_test: 0.00, recall@25: 0.38\n",
      "Epoch: 398 Loss: 0.01, Loss_test: 0.00, recall@25: 0.38\n",
      "Epoch: 399 Loss: 0.01, Loss_test: 0.00, recall@25: 0.38\n",
      "=> result saved!\n",
      "Epoch: 400 Loss: 0.01, Loss_test: 0.00, recall@25: 0.38\n",
      "Epoch: 402 Loss: 0.01, Loss_test: 0.00, recall@25: 0.38\n",
      "Epoch: 403 Loss: 0.00, Loss_test: 0.00, recall@25: 0.38\n",
      "Epoch: 404 Loss: 0.00, Loss_test: 0.00, recall@25: 0.38\n",
      "Epoch: 405 Loss: 0.01, Loss_test: 0.00, recall@25: 0.38\n",
      "Epoch: 406 Loss: 0.01, Loss_test: 0.00, recall@25: 0.38\n",
      "Epoch: 407 Loss: 0.01, Loss_test: 0.00, recall@25: 0.38\n",
      "Epoch: 408 Loss: 0.01, Loss_test: 0.00, recall@25: 0.38\n",
      "Epoch: 409 Loss: 0.01, Loss_test: 0.00, recall@25: 0.38\n",
      "=> result saved!\n",
      "Epoch: 410 Loss: 0.01, Loss_test: 0.00, recall@25: 0.38\n",
      "Epoch: 411 Loss: 0.01, Loss_test: 0.00, recall@25: 0.38\n",
      "Epoch: 412 Loss: 0.01, Loss_test: 0.00, recall@25: 0.38\n",
      "Epoch: 413 Loss: 0.01, Loss_test: 0.00, recall@25: 0.38\n",
      "Epoch: 414 Loss: 0.00, Loss_test: 0.00, recall@25: 0.38\n",
      "Epoch: 415 Loss: 0.01, Loss_test: 0.00, recall@25: 0.38\n",
      "Epoch: 416 Loss: 0.01, Loss_test: 0.00, recall@25: 0.38\n",
      "Epoch: 417 Loss: 0.01, Loss_test: 0.00, recall@25: 0.38\n",
      "Epoch: 418 Loss: 0.01, Loss_test: 0.00, recall@25: 0.38\n",
      "Epoch: 419 Loss: 0.01, Loss_test: 0.00, recall@25: 0.38\n",
      "=> result saved!\n",
      "Epoch: 420 Loss: 0.01, Loss_test: 0.00, recall@25: 0.38\n",
      "Epoch: 421 Loss: 0.01, Loss_test: 0.00, recall@25: 0.38\n",
      "Epoch: 422 Loss: 0.01, Loss_test: 0.00, recall@25: 0.38\n",
      "Epoch: 423 Loss: 0.00, Loss_test: 0.00, recall@25: 0.38\n",
      "Epoch: 424 Loss: 0.01, Loss_test: 0.00, recall@25: 0.38\n",
      "Epoch: 425 Loss: 0.01, Loss_test: 0.00, recall@25: 0.38\n",
      "Epoch: 426 Loss: 0.01, Loss_test: 0.00, recall@25: 0.38\n",
      "Epoch: 427 Loss: 0.01, Loss_test: 0.00, recall@25: 0.38\n",
      "Epoch: 428 Loss: 0.01, Loss_test: 0.00, recall@25: 0.38\n",
      "Epoch: 429 Loss: 0.00, Loss_test: 0.00, recall@25: 0.38\n",
      "=> result saved!\n",
      "Epoch: 430 Loss: 0.00, Loss_test: 0.00, recall@25: 0.38\n",
      "Epoch: 431 Loss: 0.01, Loss_test: 0.00, recall@25: 0.38\n",
      "Epoch: 432 Loss: 0.00, Loss_test: 0.00, recall@25: 0.38\n",
      "Epoch: 433 Loss: 0.01, Loss_test: 0.00, recall@25: 0.38\n",
      "Epoch: 434 Loss: 0.01, Loss_test: 0.00, recall@25: 0.38\n",
      "Epoch: 435 Loss: 0.01, Loss_test: 0.00, recall@25: 0.38\n",
      "Epoch: 436 Loss: 0.00, Loss_test: 0.00, recall@25: 0.38\n",
      "Epoch: 437 Loss: 0.01, Loss_test: 0.00, recall@25: 0.38\n",
      "Epoch: 438 Loss: 0.01, Loss_test: 0.00, recall@25: 0.38\n",
      "Epoch: 439 Loss: 0.01, Loss_test: 0.00, recall@25: 0.38\n",
      "=> result saved!\n",
      "Epoch: 440 Loss: 0.01, Loss_test: 0.00, recall@25: 0.38\n",
      "Epoch: 441 Loss: 0.01, Loss_test: 0.00, recall@25: 0.38\n",
      "Epoch: 442 Loss: 0.01, Loss_test: 0.00, recall@25: 0.38\n",
      "Epoch: 443 Loss: 0.00, Loss_test: 0.00, recall@25: 0.38\n",
      "Epoch: 444 Loss: 0.01, Loss_test: 0.00, recall@25: 0.38\n",
      "Epoch: 445 Loss: 0.00, Loss_test: 0.00, recall@25: 0.38\n",
      "Epoch: 446 Loss: 0.01, Loss_test: 0.00, recall@25: 0.38\n",
      "Epoch: 447 Loss: 0.00, Loss_test: 0.00, recall@25: 0.38\n",
      "Epoch: 448 Loss: 0.01, Loss_test: 0.00, recall@25: 0.38\n",
      "Epoch: 449 Loss: 0.01, Loss_test: 0.00, recall@25: 0.38\n",
      "=> result saved!\n",
      "Epoch: 450 Loss: 0.00, Loss_test: 0.00, recall@25: 0.38\n",
      "Epoch: 451 Loss: 0.00, Loss_test: 0.00, recall@25: 0.38\n",
      "Epoch: 452 Loss: 0.00, Loss_test: 0.00, recall@25: 0.38\n",
      "Epoch: 453 Loss: 0.00, Loss_test: 0.00, recall@25: 0.38\n",
      "Epoch: 454 Loss: 0.01, Loss_test: 0.00, recall@25: 0.38\n",
      "Epoch: 455 Loss: 0.00, Loss_test: 0.00, recall@25: 0.38\n",
      "Epoch: 456 Loss: 0.01, Loss_test: 0.00, recall@25: 0.38\n",
      "Epoch: 457 Loss: 0.01, Loss_test: 0.00, recall@25: 0.38\n",
      "Epoch: 458 Loss: 0.00, Loss_test: 0.00, recall@25: 0.38\n",
      "Epoch: 459 Loss: 0.00, Loss_test: 0.00, recall@25: 0.38\n",
      "=> result saved!\n",
      "Epoch: 460 Loss: 0.01, Loss_test: 0.00, recall@25: 0.38\n",
      "Epoch: 461 Loss: 0.00, Loss_test: 0.00, recall@25: 0.38\n",
      "Epoch: 462 Loss: 0.00, Loss_test: 0.00, recall@25: 0.38\n",
      "Epoch: 463 Loss: 0.01, Loss_test: 0.00, recall@25: 0.38\n",
      "Epoch: 464 Loss: 0.01, Loss_test: 0.00, recall@25: 0.38\n",
      "Epoch: 465 Loss: 0.00, Loss_test: 0.00, recall@25: 0.38\n",
      "Epoch: 466 Loss: 0.00, Loss_test: 0.00, recall@25: 0.38\n",
      "Epoch: 467 Loss: 0.00, Loss_test: 0.00, recall@25: 0.38\n",
      "Epoch: 468 Loss: 0.01, Loss_test: 0.00, recall@25: 0.38\n",
      "Epoch: 469 Loss: 0.01, Loss_test: 0.00, recall@25: 0.38\n",
      "=> result saved!\n",
      "Epoch: 470 Loss: 0.01, Loss_test: 0.00, recall@25: 0.38\n",
      "Epoch: 471 Loss: 0.01, Loss_test: 0.00, recall@25: 0.38\n",
      "Epoch: 472 Loss: 0.01, Loss_test: 0.00, recall@25: 0.38\n",
      "Epoch: 473 Loss: 0.01, Loss_test: 0.00, recall@25: 0.38\n",
      "Epoch: 474 Loss: 0.01, Loss_test: 0.00, recall@25: 0.38\n",
      "Epoch: 475 Loss: 0.01, Loss_test: 0.00, recall@25: 0.38\n",
      "Epoch: 476 Loss: 0.00, Loss_test: 0.00, recall@25: 0.38\n",
      "Epoch: 477 Loss: 0.00, Loss_test: 0.00, recall@25: 0.38\n",
      "Epoch: 478 Loss: 0.00, Loss_test: 0.00, recall@25: 0.38\n",
      "Epoch: 479 Loss: 0.00, Loss_test: 0.00, recall@25: 0.38\n",
      "=> result saved!\n",
      "Epoch: 480 Loss: 0.01, Loss_test: 0.00, recall@25: 0.38\n",
      "Epoch: 481 Loss: 0.00, Loss_test: 0.00, recall@25: 0.38\n",
      "Epoch: 482 Loss: 0.01, Loss_test: 0.00, recall@25: 0.38\n",
      "Epoch: 483 Loss: 0.01, Loss_test: 0.00, recall@25: 0.38\n",
      "Epoch: 484 Loss: 0.00, Loss_test: 0.00, recall@25: 0.38\n",
      "Epoch: 485 Loss: 0.01, Loss_test: 0.00, recall@25: 0.38\n",
      "Epoch: 486 Loss: 0.01, Loss_test: 0.00, recall@25: 0.38\n",
      "Epoch: 487 Loss: 0.00, Loss_test: 0.00, recall@25: 0.38\n",
      "Epoch: 488 Loss: 0.01, Loss_test: 0.00, recall@25: 0.38\n",
      "Epoch: 489 Loss: 0.00, Loss_test: 0.00, recall@25: 0.38\n",
      "=> result saved!\n",
      "Epoch: 490 Loss: 0.00, Loss_test: 0.00, recall@25: 0.38\n",
      "Epoch: 491 Loss: 0.00, Loss_test: 0.00, recall@25: 0.38\n",
      "Epoch: 492 Loss: 0.01, Loss_test: 0.00, recall@25: 0.38\n",
      "Epoch: 493 Loss: 0.01, Loss_test: 0.00, recall@25: 0.38\n",
      "Epoch: 494 Loss: 0.00, Loss_test: 0.00, recall@25: 0.38\n",
      "Epoch: 495 Loss: 0.01, Loss_test: 0.00, recall@25: 0.38\n",
      "Epoch: 496 Loss: 0.00, Loss_test: 0.00, recall@25: 0.38\n",
      "Epoch: 497 Loss: 0.00, Loss_test: 0.00, recall@25: 0.38\n",
      "Epoch: 498 Loss: 0.00, Loss_test: 0.00, recall@25: 0.38\n",
      "Epoch: 499 Loss: 0.00, Loss_test: 0.00, recall@25: 0.38\n",
      "=> result saved!\n",
      "Epoch: 500 Loss: 0.00, Loss_test: 0.00, recall@25: 0.38\n",
      "Epoch: 501 Loss: 0.01, Loss_test: 0.00, recall@25: 0.38\n",
      "Epoch: 502 Loss: 0.01, Loss_test: 0.00, recall@25: 0.38\n",
      "Epoch: 503 Loss: 0.01, Loss_test: 0.00, recall@25: 0.38\n",
      "Epoch: 504 Loss: 0.00, Loss_test: 0.00, recall@25: 0.38\n",
      "Epoch: 505 Loss: 0.01, Loss_test: 0.00, recall@25: 0.38\n",
      "Epoch: 506 Loss: 0.00, Loss_test: 0.00, recall@25: 0.38\n",
      "Epoch: 507 Loss: 0.01, Loss_test: 0.00, recall@25: 0.38\n",
      "Epoch: 508 Loss: 0.01, Loss_test: 0.00, recall@25: 0.38\n",
      "Epoch: 509 Loss: 0.01, Loss_test: 0.00, recall@25: 0.38\n",
      "=> result saved!\n",
      "Epoch: 510 Loss: 0.01, Loss_test: 0.00, recall@25: 0.38\n",
      "Epoch: 511 Loss: 0.01, Loss_test: 0.00, recall@25: 0.38\n",
      "Epoch: 512 Loss: 0.00, Loss_test: 0.00, recall@25: 0.38\n",
      "Epoch: 513 Loss: 0.00, Loss_test: 0.00, recall@25: 0.38\n",
      "Epoch: 514 Loss: 0.01, Loss_test: 0.00, recall@25: 0.38\n",
      "Epoch: 515 Loss: 0.00, Loss_test: 0.00, recall@25: 0.38\n",
      "Epoch: 516 Loss: 0.00, Loss_test: 0.00, recall@25: 0.38\n",
      "Epoch: 517 Loss: 0.01, Loss_test: 0.00, recall@25: 0.38\n",
      "Epoch: 518 Loss: 0.00, Loss_test: 0.00, recall@25: 0.38\n",
      "Epoch: 519 Loss: 0.01, Loss_test: 0.00, recall@25: 0.38\n",
      "=> result saved!\n",
      "Epoch: 520 Loss: 0.00, Loss_test: 0.00, recall@25: 0.38\n",
      "Epoch: 521 Loss: 0.01, Loss_test: 0.00, recall@25: 0.38\n",
      "Epoch: 522 Loss: 0.01, Loss_test: 0.00, recall@25: 0.38\n",
      "Epoch: 523 Loss: 0.00, Loss_test: 0.00, recall@25: 0.38\n",
      "Epoch: 524 Loss: 0.01, Loss_test: 0.00, recall@25: 0.38\n",
      "Epoch: 525 Loss: 0.01, Loss_test: 0.00, recall@25: 0.38\n",
      "Epoch: 526 Loss: 0.00, Loss_test: 0.00, recall@25: 0.38\n",
      "Epoch: 527 Loss: 0.01, Loss_test: 0.00, recall@25: 0.38\n",
      "Epoch: 528 Loss: 0.01, Loss_test: 0.00, recall@25: 0.38\n",
      "Epoch: 529 Loss: 0.01, Loss_test: 0.00, recall@25: 0.38\n",
      "=> result saved!\n",
      "Epoch: 530 Loss: 0.01, Loss_test: 0.00, recall@25: 0.38\n"
     ]
    },
    {
     "name": "stdout",
     "output_type": "stream",
     "text": [
      "Epoch: 531 Loss: 0.00, Loss_test: 0.00, recall@25: 0.38\n",
      "Epoch: 532 Loss: 0.00, Loss_test: 0.00, recall@25: 0.38\n",
      "Epoch: 533 Loss: 0.00, Loss_test: 0.00, recall@25: 0.38\n",
      "Epoch: 534 Loss: 0.01, Loss_test: 0.00, recall@25: 0.38\n",
      "Epoch: 535 Loss: 0.00, Loss_test: 0.00, recall@25: 0.38\n",
      "Epoch: 536 Loss: 0.00, Loss_test: 0.00, recall@25: 0.38\n",
      "Epoch: 537 Loss: 0.00, Loss_test: 0.00, recall@25: 0.38\n",
      "Epoch: 538 Loss: 0.01, Loss_test: 0.00, recall@25: 0.38\n",
      "Epoch: 539 Loss: 0.00, Loss_test: 0.00, recall@25: 0.38\n",
      "=> result saved!\n",
      "Epoch: 540 Loss: 0.00, Loss_test: 0.00, recall@25: 0.38\n",
      "Epoch: 541 Loss: 0.00, Loss_test: 0.00, recall@25: 0.38\n",
      "Epoch: 542 Loss: 0.00, Loss_test: 0.00, recall@25: 0.38\n",
      "Epoch: 543 Loss: 0.00, Loss_test: 0.00, recall@25: 0.38\n",
      "Epoch: 544 Loss: 0.01, Loss_test: 0.00, recall@25: 0.38\n",
      "Epoch: 545 Loss: 0.00, Loss_test: 0.00, recall@25: 0.38\n",
      "Epoch: 546 Loss: 0.00, Loss_test: 0.00, recall@25: 0.38\n",
      "Epoch: 547 Loss: 0.01, Loss_test: 0.00, recall@25: 0.38\n",
      "Epoch: 548 Loss: 0.01, Loss_test: 0.00, recall@25: 0.38\n",
      "Epoch: 549 Loss: 0.00, Loss_test: 0.00, recall@25: 0.38\n",
      "=> result saved!\n",
      "Epoch: 550 Loss: 0.00, Loss_test: 0.00, recall@25: 0.38\n",
      "Epoch: 551 Loss: 0.01, Loss_test: 0.00, recall@25: 0.38\n",
      "Epoch: 552 Loss: 0.00, Loss_test: 0.00, recall@25: 0.38\n",
      "Epoch: 553 Loss: 0.00, Loss_test: 0.00, recall@25: 0.38\n",
      "Epoch: 554 Loss: 0.01, Loss_test: 0.00, recall@25: 0.38\n",
      "Epoch: 555 Loss: 0.01, Loss_test: 0.00, recall@25: 0.38\n",
      "Epoch: 556 Loss: 0.01, Loss_test: 0.00, recall@25: 0.38\n",
      "Epoch: 557 Loss: 0.00, Loss_test: 0.00, recall@25: 0.38\n",
      "Epoch: 558 Loss: 0.01, Loss_test: 0.00, recall@25: 0.38\n",
      "Epoch: 559 Loss: 0.01, Loss_test: 0.00, recall@25: 0.38\n",
      "=> result saved!\n",
      "Epoch: 560 Loss: 0.00, Loss_test: 0.00, recall@25: 0.38\n",
      "Epoch: 561 Loss: 0.01, Loss_test: 0.00, recall@25: 0.38\n",
      "Epoch: 562 Loss: 0.01, Loss_test: 0.00, recall@25: 0.38\n",
      "Epoch: 563 Loss: 0.00, Loss_test: 0.00, recall@25: 0.38\n",
      "Epoch: 564 Loss: 0.00, Loss_test: 0.00, recall@25: 0.38\n",
      "Epoch: 565 Loss: 0.01, Loss_test: 0.00, recall@25: 0.38\n",
      "Epoch: 566 Loss: 0.01, Loss_test: 0.00, recall@25: 0.38\n",
      "Epoch: 567 Loss: 0.01, Loss_test: 0.00, recall@25: 0.38\n",
      "Epoch: 568 Loss: 0.01, Loss_test: 0.00, recall@25: 0.38\n",
      "Epoch: 569 Loss: 0.00, Loss_test: 0.00, recall@25: 0.38\n",
      "=> result saved!\n",
      "Epoch: 570 Loss: 0.00, Loss_test: 0.00, recall@25: 0.38\n",
      "Epoch: 571 Loss: 0.00, Loss_test: 0.00, recall@25: 0.38\n",
      "Epoch: 572 Loss: 0.01, Loss_test: 0.00, recall@25: 0.38\n",
      "Epoch: 573 Loss: 0.01, Loss_test: 0.00, recall@25: 0.38\n",
      "Epoch: 574 Loss: 0.00, Loss_test: 0.00, recall@25: 0.38\n",
      "Epoch: 575 Loss: 0.00, Loss_test: 0.00, recall@25: 0.38\n",
      "Epoch: 576 Loss: 0.01, Loss_test: 0.00, recall@25: 0.38\n",
      "Epoch: 577 Loss: 0.01, Loss_test: 0.00, recall@25: 0.38\n",
      "Epoch: 578 Loss: 0.00, Loss_test: 0.00, recall@25: 0.38\n",
      "Epoch: 579 Loss: 0.00, Loss_test: 0.00, recall@25: 0.38\n",
      "=> result saved!\n",
      "Epoch: 580 Loss: 0.00, Loss_test: 0.00, recall@25: 0.38\n",
      "Epoch: 581 Loss: 0.00, Loss_test: 0.00, recall@25: 0.38\n",
      "Epoch: 582 Loss: 0.00, Loss_test: 0.00, recall@25: 0.38\n",
      "Epoch: 583 Loss: 0.00, Loss_test: 0.00, recall@25: 0.38\n",
      "Epoch: 584 Loss: 0.01, Loss_test: 0.00, recall@25: 0.38\n",
      "Epoch: 585 Loss: 0.00, Loss_test: 0.00, recall@25: 0.38\n",
      "Epoch: 586 Loss: 0.00, Loss_test: 0.00, recall@25: 0.38\n",
      "Epoch: 587 Loss: 0.01, Loss_test: 0.00, recall@25: 0.38\n",
      "Epoch: 588 Loss: 0.01, Loss_test: 0.00, recall@25: 0.38\n",
      "Epoch: 589 Loss: 0.00, Loss_test: 0.00, recall@25: 0.38\n",
      "=> result saved!\n",
      "Epoch: 590 Loss: 0.01, Loss_test: 0.00, recall@25: 0.38\n",
      "Epoch: 591 Loss: 0.00, Loss_test: 0.00, recall@25: 0.38\n",
      "Epoch: 592 Loss: 0.01, Loss_test: 0.00, recall@25: 0.38\n",
      "Epoch: 593 Loss: 0.00, Loss_test: 0.00, recall@25: 0.38\n",
      "Epoch: 594 Loss: 0.00, Loss_test: 0.00, recall@25: 0.38\n",
      "Epoch: 595 Loss: 0.00, Loss_test: 0.00, recall@25: 0.38\n",
      "Epoch: 596 Loss: 0.00, Loss_test: 0.00, recall@25: 0.38\n",
      "Epoch: 597 Loss: 0.00, Loss_test: 0.00, recall@25: 0.38\n",
      "Epoch: 598 Loss: 0.00, Loss_test: 0.00, recall@25: 0.38\n",
      "Epoch: 599 Loss: 0.00, Loss_test: 0.00, recall@25: 0.38\n",
      "=> result saved!\n",
      "Epoch: 600 Loss: 0.01, Loss_test: 0.00, recall@25: 0.38\n",
      "Epoch: 601 Loss: 0.00, Loss_test: 0.00, recall@25: 0.38\n",
      "Epoch: 602 Loss: 0.00, Loss_test: 0.00, recall@25: 0.38\n",
      "Epoch: 603 Loss: 0.01, Loss_test: 0.00, recall@25: 0.38\n",
      "Epoch: 604 Loss: 0.00, Loss_test: 0.00, recall@25: 0.38\n",
      "Epoch: 605 Loss: 0.00, Loss_test: 0.00, recall@25: 0.38\n",
      "Epoch: 606 Loss: 0.00, Loss_test: 0.00, recall@25: 0.38\n",
      "Epoch: 607 Loss: 0.01, Loss_test: 0.00, recall@25: 0.38\n",
      "Epoch: 608 Loss: 0.00, Loss_test: 0.00, recall@25: 0.38\n",
      "Epoch: 609 Loss: 0.01, Loss_test: 0.00, recall@25: 0.38\n",
      "=> result saved!\n",
      "Epoch: 610 Loss: 0.01, Loss_test: 0.00, recall@25: 0.38\n",
      "Epoch: 611 Loss: 0.00, Loss_test: 0.00, recall@25: 0.38\n",
      "Epoch: 612 Loss: 0.00, Loss_test: 0.00, recall@25: 0.38\n",
      "Epoch: 613 Loss: 0.00, Loss_test: 0.00, recall@25: 0.38\n",
      "Epoch: 614 Loss: 0.00, Loss_test: 0.00, recall@25: 0.38\n",
      "Epoch: 615 Loss: 0.00, Loss_test: 0.00, recall@25: 0.38\n",
      "Epoch: 616 Loss: 0.00, Loss_test: 0.00, recall@25: 0.38\n",
      "Epoch: 617 Loss: 0.00, Loss_test: 0.00, recall@25: 0.38\n",
      "Epoch: 618 Loss: 0.00, Loss_test: 0.00, recall@25: 0.38\n",
      "Epoch: 619 Loss: 0.01, Loss_test: 0.00, recall@25: 0.38\n",
      "=> result saved!\n",
      "Epoch: 620 Loss: 0.01, Loss_test: 0.00, recall@25: 0.38\n",
      "Epoch: 621 Loss: 0.00, Loss_test: 0.00, recall@25: 0.38\n",
      "Epoch: 622 Loss: 0.00, Loss_test: 0.00, recall@25: 0.38\n",
      "Epoch: 623 Loss: 0.00, Loss_test: 0.00, recall@25: 0.38\n",
      "Epoch: 624 Loss: 0.01, Loss_test: 0.00, recall@25: 0.38\n",
      "Epoch: 625 Loss: 0.00, Loss_test: 0.00, recall@25: 0.38\n",
      "Epoch: 626 Loss: 0.00, Loss_test: 0.00, recall@25: 0.38\n",
      "Epoch: 627 Loss: 0.00, Loss_test: 0.00, recall@25: 0.38\n",
      "Epoch: 628 Loss: 0.00, Loss_test: 0.00, recall@25: 0.38\n",
      "Epoch: 629 Loss: 0.01, Loss_test: 0.00, recall@25: 0.38\n",
      "=> result saved!\n",
      "Epoch: 630 Loss: 0.01, Loss_test: 0.00, recall@25: 0.38\n",
      "Epoch: 631 Loss: 0.00, Loss_test: 0.00, recall@25: 0.38\n",
      "Epoch: 632 Loss: 0.00, Loss_test: 0.00, recall@25: 0.38\n",
      "Epoch: 633 Loss: 0.00, Loss_test: 0.00, recall@25: 0.38\n",
      "Epoch: 634 Loss: 0.00, Loss_test: 0.00, recall@25: 0.38\n",
      "Epoch: 635 Loss: 0.00, Loss_test: 0.00, recall@25: 0.38\n",
      "Epoch: 636 Loss: 0.01, Loss_test: 0.00, recall@25: 0.38\n",
      "Epoch: 637 Loss: 0.00, Loss_test: 0.00, recall@25: 0.38\n",
      "Epoch: 638 Loss: 0.01, Loss_test: 0.00, recall@25: 0.38\n",
      "Epoch: 639 Loss: 0.00, Loss_test: 0.00, recall@25: 0.38\n",
      "=> result saved!\n",
      "Epoch: 640 Loss: 0.00, Loss_test: 0.00, recall@25: 0.38\n",
      "Epoch: 641 Loss: 0.00, Loss_test: 0.00, recall@25: 0.38\n",
      "Epoch: 642 Loss: 0.00, Loss_test: 0.00, recall@25: 0.38\n",
      "Epoch: 643 Loss: 0.00, Loss_test: 0.00, recall@25: 0.38\n",
      "Epoch: 644 Loss: 0.00, Loss_test: 0.00, recall@25: 0.38\n",
      "Epoch: 645 Loss: 0.00, Loss_test: 0.00, recall@25: 0.38\n",
      "Epoch: 646 Loss: 0.00, Loss_test: 0.00, recall@25: 0.38\n",
      "Epoch: 647 Loss: 0.00, Loss_test: 0.00, recall@25: 0.38\n",
      "Epoch: 648 Loss: 0.01, Loss_test: 0.00, recall@25: 0.38\n",
      "Epoch: 649 Loss: 0.00, Loss_test: 0.00, recall@25: 0.38\n",
      "=> result saved!\n",
      "Epoch: 650 Loss: 0.01, Loss_test: 0.00, recall@25: 0.38\n",
      "Epoch: 651 Loss: 0.00, Loss_test: 0.00, recall@25: 0.38\n",
      "Epoch: 652 Loss: 0.01, Loss_test: 0.00, recall@25: 0.38\n",
      "Epoch: 653 Loss: 0.01, Loss_test: 0.00, recall@25: 0.38\n",
      "Epoch: 654 Loss: 0.00, Loss_test: 0.00, recall@25: 0.38\n",
      "Epoch: 655 Loss: 0.00, Loss_test: 0.00, recall@25: 0.38\n",
      "Epoch: 656 Loss: 0.01, Loss_test: 0.00, recall@25: 0.38\n",
      "Epoch: 657 Loss: 0.01, Loss_test: 0.00, recall@25: 0.38\n",
      "Epoch: 658 Loss: 0.00, Loss_test: 0.00, recall@25: 0.38\n",
      "Epoch: 659 Loss: 0.00, Loss_test: 0.00, recall@25: 0.38\n",
      "=> result saved!\n",
      "Epoch: 660 Loss: 0.00, Loss_test: 0.00, recall@25: 0.38\n",
      "Epoch: 661 Loss: 0.00, Loss_test: 0.00, recall@25: 0.38\n",
      "Epoch: 662 Loss: 0.00, Loss_test: 0.00, recall@25: 0.38\n",
      "Epoch: 663 Loss: 0.00, Loss_test: 0.00, recall@25: 0.38\n",
      "Epoch: 664 Loss: 0.01, Loss_test: 0.00, recall@25: 0.38\n",
      "Epoch: 665 Loss: 0.00, Loss_test: 0.00, recall@25: 0.38\n",
      "Epoch: 666 Loss: 0.00, Loss_test: 0.00, recall@25: 0.38\n",
      "Epoch: 667 Loss: 0.00, Loss_test: 0.00, recall@25: 0.38\n",
      "Epoch: 668 Loss: 0.00, Loss_test: 0.00, recall@25: 0.38\n",
      "Epoch: 669 Loss: 0.00, Loss_test: 0.00, recall@25: 0.38\n",
      "=> result saved!\n",
      "Epoch: 670 Loss: 0.00, Loss_test: 0.00, recall@25: 0.38\n",
      "Epoch: 671 Loss: 0.00, Loss_test: 0.00, recall@25: 0.38\n",
      "Epoch: 672 Loss: 0.00, Loss_test: 0.00, recall@25: 0.38\n",
      "Epoch: 673 Loss: 0.00, Loss_test: 0.00, recall@25: 0.38\n"
     ]
    },
    {
     "name": "stdout",
     "output_type": "stream",
     "text": [
      "Epoch: 674 Loss: 0.00, Loss_test: 0.00, recall@25: 0.38\n",
      "Epoch: 675 Loss: 0.01, Loss_test: 0.00, recall@25: 0.38\n",
      "Epoch: 676 Loss: 0.00, Loss_test: 0.00, recall@25: 0.38\n",
      "Epoch: 677 Loss: 0.01, Loss_test: 0.00, recall@25: 0.38\n",
      "Epoch: 678 Loss: 0.00, Loss_test: 0.00, recall@25: 0.38\n",
      "Epoch: 679 Loss: 0.00, Loss_test: 0.00, recall@25: 0.38\n",
      "=> result saved!\n",
      "Epoch: 680 Loss: 0.00, Loss_test: 0.00, recall@25: 0.38\n",
      "Epoch: 681 Loss: 0.01, Loss_test: 0.00, recall@25: 0.38\n",
      "Epoch: 682 Loss: 0.00, Loss_test: 0.00, recall@25: 0.38\n",
      "Epoch: 683 Loss: 0.00, Loss_test: 0.00, recall@25: 0.38\n",
      "Epoch: 684 Loss: 0.00, Loss_test: 0.00, recall@25: 0.38\n",
      "Epoch: 685 Loss: 0.00, Loss_test: 0.00, recall@25: 0.38\n",
      "Epoch: 686 Loss: 0.00, Loss_test: 0.00, recall@25: 0.38\n",
      "Epoch: 687 Loss: 0.00, Loss_test: 0.00, recall@25: 0.38\n",
      "Epoch: 688 Loss: 0.00, Loss_test: 0.00, recall@25: 0.38\n",
      "Epoch: 689 Loss: 0.01, Loss_test: 0.00, recall@25: 0.38\n",
      "=> result saved!\n",
      "Epoch: 690 Loss: 0.00, Loss_test: 0.00, recall@25: 0.38\n",
      "Epoch: 691 Loss: 0.00, Loss_test: 0.00, recall@25: 0.38\n",
      "Epoch: 692 Loss: 0.00, Loss_test: 0.00, recall@25: 0.38\n",
      "Epoch: 693 Loss: 0.00, Loss_test: 0.00, recall@25: 0.38\n",
      "Epoch: 694 Loss: 0.00, Loss_test: 0.00, recall@25: 0.38\n",
      "Epoch: 695 Loss: 0.01, Loss_test: 0.00, recall@25: 0.38\n",
      "Epoch: 696 Loss: 0.00, Loss_test: 0.00, recall@25: 0.38\n",
      "Epoch: 697 Loss: 0.01, Loss_test: 0.00, recall@25: 0.38\n",
      "Epoch: 698 Loss: 0.00, Loss_test: 0.00, recall@25: 0.38\n",
      "Epoch: 699 Loss: 0.00, Loss_test: 0.00, recall@25: 0.38\n",
      "=> result saved!\n",
      "Epoch: 700 Loss: 0.00, Loss_test: 0.00, recall@25: 0.38\n",
      "Epoch: 701 Loss: 0.00, Loss_test: 0.00, recall@25: 0.38\n",
      "Epoch: 702 Loss: 0.00, Loss_test: 0.00, recall@25: 0.38\n",
      "Epoch: 703 Loss: 0.00, Loss_test: 0.00, recall@25: 0.38\n",
      "Epoch: 704 Loss: 0.01, Loss_test: 0.00, recall@25: 0.38\n",
      "Epoch: 705 Loss: 0.01, Loss_test: 0.00, recall@25: 0.38\n",
      "Epoch: 706 Loss: 0.00, Loss_test: 0.00, recall@25: 0.38\n",
      "Epoch: 707 Loss: 0.01, Loss_test: 0.00, recall@25: 0.38\n",
      "Epoch: 708 Loss: 0.00, Loss_test: 0.00, recall@25: 0.38\n",
      "Epoch: 709 Loss: 0.01, Loss_test: 0.00, recall@25: 0.38\n",
      "=> result saved!\n",
      "Epoch: 710 Loss: 0.00, Loss_test: 0.00, recall@25: 0.38\n",
      "Epoch: 711 Loss: 0.00, Loss_test: 0.00, recall@25: 0.38\n",
      "Epoch: 712 Loss: 0.00, Loss_test: 0.00, recall@25: 0.38\n",
      "Epoch: 713 Loss: 0.01, Loss_test: 0.00, recall@25: 0.38\n",
      "Epoch: 714 Loss: 0.00, Loss_test: 0.00, recall@25: 0.38\n",
      "Epoch: 715 Loss: 0.00, Loss_test: 0.00, recall@25: 0.38\n",
      "Epoch: 716 Loss: 0.01, Loss_test: 0.00, recall@25: 0.38\n",
      "Epoch: 717 Loss: 0.00, Loss_test: 0.00, recall@25: 0.38\n",
      "Epoch: 718 Loss: 0.00, Loss_test: 0.00, recall@25: 0.38\n",
      "Epoch: 719 Loss: 0.01, Loss_test: 0.01, recall@25: 0.38\n",
      "=> result saved!\n",
      "Epoch: 720 Loss: 0.00, Loss_test: 0.01, recall@25: 0.38\n",
      "Epoch: 721 Loss: 0.00, Loss_test: 0.01, recall@25: 0.38\n",
      "Epoch: 722 Loss: 0.01, Loss_test: 0.00, recall@25: 0.38\n",
      "Epoch: 723 Loss: 0.00, Loss_test: 0.00, recall@25: 0.38\n",
      "Epoch: 724 Loss: 0.00, Loss_test: 0.00, recall@25: 0.38\n",
      "Epoch: 725 Loss: 0.00, Loss_test: 0.00, recall@25: 0.38\n",
      "Epoch: 726 Loss: 0.00, Loss_test: 0.00, recall@25: 0.38\n",
      "Epoch: 727 Loss: 0.01, Loss_test: 0.00, recall@25: 0.38\n",
      "Epoch: 728 Loss: 0.00, Loss_test: 0.00, recall@25: 0.38\n",
      "Epoch: 729 Loss: 0.00, Loss_test: 0.00, recall@25: 0.38\n",
      "=> result saved!\n",
      "Epoch: 730 Loss: 0.00, Loss_test: 0.00, recall@25: 0.38\n",
      "Epoch: 731 Loss: 0.00, Loss_test: 0.00, recall@25: 0.38\n",
      "Epoch: 732 Loss: 0.01, Loss_test: 0.00, recall@25: 0.38\n",
      "Epoch: 733 Loss: 0.00, Loss_test: 0.00, recall@25: 0.38\n",
      "Epoch: 734 Loss: 0.00, Loss_test: 0.00, recall@25: 0.38\n",
      "Epoch: 735 Loss: 0.00, Loss_test: 0.00, recall@25: 0.38\n",
      "Epoch: 736 Loss: 0.01, Loss_test: 0.00, recall@25: 0.38\n",
      "Epoch: 737 Loss: 0.01, Loss_test: 0.00, recall@25: 0.38\n",
      "Epoch: 738 Loss: 0.00, Loss_test: 0.00, recall@25: 0.38\n",
      "Epoch: 739 Loss: 0.00, Loss_test: 0.00, recall@25: 0.38\n",
      "=> result saved!\n",
      "Epoch: 740 Loss: 0.00, Loss_test: 0.00, recall@25: 0.38\n",
      "Epoch: 741 Loss: 0.00, Loss_test: 0.00, recall@25: 0.38\n",
      "Epoch: 742 Loss: 0.01, Loss_test: 0.00, recall@25: 0.38\n",
      "Epoch: 743 Loss: 0.00, Loss_test: 0.00, recall@25: 0.38\n",
      "Epoch: 744 Loss: 0.00, Loss_test: 0.00, recall@25: 0.38\n",
      "Epoch: 745 Loss: 0.00, Loss_test: 0.00, recall@25: 0.38\n",
      "Epoch: 746 Loss: 0.00, Loss_test: 0.00, recall@25: 0.38\n",
      "Epoch: 747 Loss: 0.01, Loss_test: 0.00, recall@25: 0.38\n",
      "Epoch: 748 Loss: 0.01, Loss_test: 0.00, recall@25: 0.38\n",
      "Epoch: 749 Loss: 0.00, Loss_test: 0.00, recall@25: 0.38\n",
      "=> result saved!\n",
      "Epoch: 750 Loss: 0.00, Loss_test: 0.00, recall@25: 0.38\n",
      "Epoch: 751 Loss: 0.00, Loss_test: 0.00, recall@25: 0.38\n",
      "Epoch: 752 Loss: 0.00, Loss_test: 0.00, recall@25: 0.38\n",
      "Epoch: 753 Loss: 0.00, Loss_test: 0.00, recall@25: 0.38\n",
      "Epoch: 754 Loss: 0.00, Loss_test: 0.00, recall@25: 0.38\n",
      "Epoch: 755 Loss: 0.00, Loss_test: 0.00, recall@25: 0.38\n",
      "Epoch: 756 Loss: 0.00, Loss_test: 0.00, recall@25: 0.38\n",
      "Epoch: 757 Loss: 0.00, Loss_test: 0.00, recall@25: 0.38\n",
      "Epoch: 758 Loss: 0.00, Loss_test: 0.00, recall@25: 0.38\n",
      "Epoch: 759 Loss: 0.00, Loss_test: 0.00, recall@25: 0.38\n",
      "=> result saved!\n",
      "Epoch: 760 Loss: 0.00, Loss_test: 0.00, recall@25: 0.38\n",
      "Epoch: 761 Loss: 0.00, Loss_test: 0.00, recall@25: 0.38\n",
      "Epoch: 762 Loss: 0.00, Loss_test: 0.00, recall@25: 0.38\n",
      "Epoch: 763 Loss: 0.00, Loss_test: 0.00, recall@25: 0.38\n",
      "Epoch: 764 Loss: 0.00, Loss_test: 0.00, recall@25: 0.38\n",
      "Epoch: 765 Loss: 0.00, Loss_test: 0.00, recall@25: 0.38\n",
      "Epoch: 766 Loss: 0.00, Loss_test: 0.00, recall@25: 0.38\n",
      "Epoch: 767 Loss: 0.00, Loss_test: 0.00, recall@25: 0.38\n",
      "Epoch: 768 Loss: 0.01, Loss_test: 0.00, recall@25: 0.38\n",
      "Epoch: 769 Loss: 0.01, Loss_test: 0.00, recall@25: 0.38\n",
      "=> result saved!\n",
      "Epoch: 770 Loss: 0.00, Loss_test: 0.00, recall@25: 0.38\n",
      "Epoch: 771 Loss: 0.00, Loss_test: 0.00, recall@25: 0.38\n",
      "Epoch: 772 Loss: 0.00, Loss_test: 0.00, recall@25: 0.38\n",
      "Epoch: 773 Loss: 0.00, Loss_test: 0.00, recall@25: 0.38\n",
      "Epoch: 774 Loss: 0.00, Loss_test: 0.00, recall@25: 0.38\n",
      "Epoch: 775 Loss: 0.00, Loss_test: 0.00, recall@25: 0.38\n",
      "Epoch: 776 Loss: 0.00, Loss_test: 0.00, recall@25: 0.38\n",
      "Epoch: 777 Loss: 0.00, Loss_test: 0.00, recall@25: 0.38\n",
      "Epoch: 778 Loss: 0.00, Loss_test: 0.00, recall@25: 0.38\n",
      "Epoch: 779 Loss: 0.00, Loss_test: 0.00, recall@25: 0.38\n",
      "=> result saved!\n",
      "Epoch: 780 Loss: 0.00, Loss_test: 0.00, recall@25: 0.38\n",
      "Epoch: 781 Loss: 0.00, Loss_test: 0.00, recall@25: 0.38\n",
      "Epoch: 782 Loss: 0.00, Loss_test: 0.00, recall@25: 0.38\n",
      "Epoch: 783 Loss: 0.00, Loss_test: 0.00, recall@25: 0.38\n",
      "Epoch: 784 Loss: 0.00, Loss_test: 0.00, recall@25: 0.38\n",
      "Epoch: 785 Loss: 0.00, Loss_test: 0.00, recall@25: 0.38\n",
      "Epoch: 786 Loss: 0.00, Loss_test: 0.00, recall@25: 0.38\n",
      "Epoch: 787 Loss: 0.01, Loss_test: 0.00, recall@25: 0.38\n",
      "Epoch: 788 Loss: 0.01, Loss_test: 0.00, recall@25: 0.38\n",
      "Epoch: 789 Loss: 0.01, Loss_test: 0.00, recall@25: 0.38\n",
      "=> result saved!\n",
      "Epoch: 790 Loss: 0.00, Loss_test: 0.00, recall@25: 0.38\n",
      "Epoch: 791 Loss: 0.00, Loss_test: 0.00, recall@25: 0.38\n",
      "Epoch: 792 Loss: 0.00, Loss_test: 0.00, recall@25: 0.38\n",
      "Epoch: 793 Loss: 0.00, Loss_test: 0.00, recall@25: 0.38\n",
      "Epoch: 794 Loss: 0.00, Loss_test: 0.00, recall@25: 0.38\n",
      "Epoch: 795 Loss: 0.00, Loss_test: 0.00, recall@25: 0.38\n",
      "Epoch: 796 Loss: 0.01, Loss_test: 0.00, recall@25: 0.38\n",
      "Epoch: 797 Loss: 0.01, Loss_test: 0.00, recall@25: 0.38\n",
      "Epoch: 798 Loss: 0.00, Loss_test: 0.00, recall@25: 0.38\n",
      "Epoch: 799 Loss: 0.00, Loss_test: 0.00, recall@25: 0.38\n",
      "=> result saved!\n",
      "Epoch: 800 Loss: 0.01, Loss_test: 0.00, recall@25: 0.38\n",
      "Epoch: 801 Loss: 0.00, Loss_test: 0.00, recall@25: 0.38\n",
      "Epoch: 802 Loss: 0.00, Loss_test: 0.00, recall@25: 0.38\n",
      "Epoch: 803 Loss: 0.00, Loss_test: 0.00, recall@25: 0.38\n",
      "Epoch: 804 Loss: 0.00, Loss_test: 0.00, recall@25: 0.38\n",
      "Epoch: 805 Loss: 0.00, Loss_test: 0.00, recall@25: 0.38\n",
      "Epoch: 806 Loss: 0.00, Loss_test: 0.00, recall@25: 0.38\n",
      "Epoch: 807 Loss: 0.01, Loss_test: 0.00, recall@25: 0.38\n",
      "Epoch: 808 Loss: 0.00, Loss_test: 0.00, recall@25: 0.38\n",
      "Epoch: 809 Loss: 0.00, Loss_test: 0.00, recall@25: 0.38\n",
      "=> result saved!\n",
      "Epoch: 810 Loss: 0.01, Loss_test: 0.00, recall@25: 0.38\n",
      "Epoch: 811 Loss: 0.00, Loss_test: 0.00, recall@25: 0.38\n",
      "Epoch: 812 Loss: 0.00, Loss_test: 0.00, recall@25: 0.38\n",
      "Epoch: 813 Loss: 0.00, Loss_test: 0.00, recall@25: 0.38\n",
      "Epoch: 814 Loss: 0.00, Loss_test: 0.00, recall@25: 0.38\n",
      "Epoch: 815 Loss: 0.00, Loss_test: 0.00, recall@25: 0.38\n",
      "Epoch: 816 Loss: 0.00, Loss_test: 0.00, recall@25: 0.38\n"
     ]
    },
    {
     "name": "stdout",
     "output_type": "stream",
     "text": [
      "Epoch: 817 Loss: 0.00, Loss_test: 0.00, recall@25: 0.38\n",
      "Epoch: 818 Loss: 0.00, Loss_test: 0.00, recall@25: 0.38\n",
      "Epoch: 819 Loss: 0.00, Loss_test: 0.00, recall@25: 0.38\n",
      "=> result saved!\n",
      "Epoch: 820 Loss: 0.00, Loss_test: 0.00, recall@25: 0.38\n",
      "Epoch: 821 Loss: 0.00, Loss_test: 0.00, recall@25: 0.38\n",
      "Epoch: 822 Loss: 0.00, Loss_test: 0.00, recall@25: 0.38\n",
      "Epoch: 823 Loss: 0.00, Loss_test: 0.00, recall@25: 0.38\n",
      "Epoch: 824 Loss: 0.00, Loss_test: 0.00, recall@25: 0.38\n",
      "Epoch: 825 Loss: 0.00, Loss_test: 0.00, recall@25: 0.38\n",
      "Epoch: 826 Loss: 0.00, Loss_test: 0.00, recall@25: 0.38\n",
      "Epoch: 827 Loss: 0.00, Loss_test: 0.00, recall@25: 0.38\n",
      "Epoch: 828 Loss: 0.00, Loss_test: 0.00, recall@25: 0.38\n",
      "Epoch: 829 Loss: 0.01, Loss_test: 0.00, recall@25: 0.38\n",
      "=> result saved!\n",
      "Epoch: 830 Loss: 0.00, Loss_test: 0.00, recall@25: 0.38\n",
      "Epoch: 831 Loss: 0.00, Loss_test: 0.00, recall@25: 0.38\n",
      "Epoch: 832 Loss: 0.00, Loss_test: 0.00, recall@25: 0.38\n",
      "Epoch: 833 Loss: 0.00, Loss_test: 0.00, recall@25: 0.38\n",
      "Epoch: 834 Loss: 0.00, Loss_test: 0.00, recall@25: 0.38\n",
      "Epoch: 835 Loss: 0.00, Loss_test: 0.00, recall@25: 0.38\n",
      "Epoch: 836 Loss: 0.00, Loss_test: 0.00, recall@25: 0.38\n",
      "Epoch: 837 Loss: 0.01, Loss_test: 0.00, recall@25: 0.38\n",
      "Epoch: 838 Loss: 0.00, Loss_test: 0.00, recall@25: 0.38\n",
      "Epoch: 839 Loss: 0.00, Loss_test: 0.00, recall@25: 0.38\n",
      "=> result saved!\n",
      "Epoch: 840 Loss: 0.00, Loss_test: 0.00, recall@25: 0.38\n",
      "Epoch: 841 Loss: 0.00, Loss_test: 0.00, recall@25: 0.38\n",
      "Epoch: 842 Loss: 0.00, Loss_test: 0.00, recall@25: 0.38\n",
      "Epoch: 843 Loss: 0.00, Loss_test: 0.00, recall@25: 0.38\n",
      "Epoch: 844 Loss: 0.00, Loss_test: 0.00, recall@25: 0.38\n",
      "Epoch: 845 Loss: 0.00, Loss_test: 0.00, recall@25: 0.38\n",
      "Epoch: 846 Loss: 0.00, Loss_test: 0.00, recall@25: 0.38\n",
      "Epoch: 847 Loss: 0.00, Loss_test: 0.00, recall@25: 0.38\n",
      "Epoch: 848 Loss: 0.00, Loss_test: 0.00, recall@25: 0.38\n",
      "Epoch: 849 Loss: 0.00, Loss_test: 0.00, recall@25: 0.38\n",
      "=> result saved!\n",
      "Epoch: 850 Loss: 0.00, Loss_test: 0.00, recall@25: 0.38\n",
      "Epoch: 851 Loss: 0.00, Loss_test: 0.00, recall@25: 0.38\n",
      "Epoch: 852 Loss: 0.00, Loss_test: 0.00, recall@25: 0.38\n",
      "Epoch: 853 Loss: 0.00, Loss_test: 0.00, recall@25: 0.38\n",
      "Epoch: 854 Loss: 0.00, Loss_test: 0.00, recall@25: 0.38\n",
      "Epoch: 855 Loss: 0.00, Loss_test: 0.00, recall@25: 0.38\n",
      "Epoch: 856 Loss: 0.00, Loss_test: 0.00, recall@25: 0.38\n",
      "Epoch: 857 Loss: 0.00, Loss_test: 0.00, recall@25: 0.38\n",
      "Epoch: 858 Loss: 0.00, Loss_test: 0.00, recall@25: 0.38\n",
      "Epoch: 859 Loss: 0.01, Loss_test: 0.00, recall@25: 0.38\n",
      "=> result saved!\n",
      "Epoch: 860 Loss: 0.00, Loss_test: 0.00, recall@25: 0.38\n",
      "Epoch: 861 Loss: 0.01, Loss_test: 0.00, recall@25: 0.38\n",
      "Epoch: 862 Loss: 0.00, Loss_test: 0.00, recall@25: 0.38\n",
      "Epoch: 863 Loss: 0.00, Loss_test: 0.00, recall@25: 0.38\n",
      "Epoch: 864 Loss: 0.01, Loss_test: 0.00, recall@25: 0.38\n",
      "Epoch: 865 Loss: 0.00, Loss_test: 0.01, recall@25: 0.38\n",
      "Epoch: 866 Loss: 0.01, Loss_test: 0.00, recall@25: 0.38\n",
      "Epoch: 867 Loss: 0.00, Loss_test: 0.00, recall@25: 0.38\n",
      "Epoch: 868 Loss: 0.00, Loss_test: 0.00, recall@25: 0.38\n",
      "Epoch: 869 Loss: 0.01, Loss_test: 0.00, recall@25: 0.38\n",
      "=> result saved!\n",
      "Epoch: 870 Loss: 0.00, Loss_test: 0.00, recall@25: 0.38\n",
      "Epoch: 871 Loss: 0.00, Loss_test: 0.00, recall@25: 0.38\n",
      "Epoch: 872 Loss: 0.00, Loss_test: 0.00, recall@25: 0.38\n",
      "Epoch: 873 Loss: 0.00, Loss_test: 0.00, recall@25: 0.38\n",
      "Epoch: 874 Loss: 0.00, Loss_test: 0.00, recall@25: 0.38\n",
      "Epoch: 875 Loss: 0.00, Loss_test: 0.00, recall@25: 0.38\n",
      "Epoch: 876 Loss: 0.00, Loss_test: 0.00, recall@25: 0.38\n",
      "Epoch: 877 Loss: 0.00, Loss_test: 0.00, recall@25: 0.38\n",
      "Epoch: 878 Loss: 0.00, Loss_test: 0.00, recall@25: 0.38\n",
      "Epoch: 879 Loss: 0.00, Loss_test: 0.00, recall@25: 0.38\n",
      "=> result saved!\n",
      "Epoch: 880 Loss: 0.01, Loss_test: 0.00, recall@25: 0.38\n",
      "Epoch: 881 Loss: 0.00, Loss_test: 0.00, recall@25: 0.38\n",
      "Epoch: 882 Loss: 0.00, Loss_test: 0.00, recall@25: 0.38\n",
      "Epoch: 883 Loss: 0.00, Loss_test: 0.00, recall@25: 0.38\n",
      "Epoch: 884 Loss: 0.00, Loss_test: 0.00, recall@25: 0.38\n",
      "Epoch: 885 Loss: 0.00, Loss_test: 0.00, recall@25: 0.38\n",
      "Epoch: 886 Loss: 0.00, Loss_test: 0.00, recall@25: 0.38\n",
      "Epoch: 887 Loss: 0.00, Loss_test: 0.00, recall@25: 0.38\n",
      "Epoch: 888 Loss: 0.00, Loss_test: 0.00, recall@25: 0.38\n",
      "Epoch: 889 Loss: 0.00, Loss_test: 0.00, recall@25: 0.38\n",
      "=> result saved!\n",
      "Epoch: 890 Loss: 0.00, Loss_test: 0.00, recall@25: 0.38\n",
      "Epoch: 891 Loss: 0.00, Loss_test: 0.00, recall@25: 0.38\n",
      "Epoch: 892 Loss: 0.00, Loss_test: 0.00, recall@25: 0.38\n",
      "Epoch: 893 Loss: 0.00, Loss_test: 0.00, recall@25: 0.38\n",
      "Epoch: 894 Loss: 0.01, Loss_test: 0.00, recall@25: 0.38\n",
      "Epoch: 895 Loss: 0.00, Loss_test: 0.00, recall@25: 0.38\n",
      "Epoch: 896 Loss: 0.00, Loss_test: 0.00, recall@25: 0.38\n",
      "Epoch: 897 Loss: 0.00, Loss_test: 0.00, recall@25: 0.38\n",
      "Epoch: 898 Loss: 0.00, Loss_test: 0.00, recall@25: 0.38\n",
      "Epoch: 899 Loss: 0.00, Loss_test: 0.00, recall@25: 0.38\n",
      "=> result saved!\n",
      "Epoch: 900 Loss: 0.00, Loss_test: 0.00, recall@25: 0.38\n"
     ]
    }
   ],
   "source": [
    "end_train = epochs - limit_train\n",
    "for epoch in range(limit_train, end_train):\n",
    "    batch_triplet_train, \\\n",
    "        train_input_sample, train_sim = batch_iterator(baseline, retrieval, model, baseline.train_data, \n",
    "                                                       baseline.dup_sets_train, bug_train_ids, \n",
    "                                                           batch_size, 1, issues_by_buckets, TRIPLET_HARD=False)\n",
    "    train_batch = [train_input_sample['title'], train_input_sample['description'], train_input_sample['info'], train_sim]\n",
    "    \n",
    "\n",
    "    h = model.train_on_batch(x=train_batch, y=train_sim)\n",
    "    h_validation = model.test_on_batch(x=validation_sample, y=valid_sim)\n",
    "    \n",
    "    # save results\n",
    "    result['train'].append(h)\n",
    "    result['test'].append(h_validation)\n",
    "    \n",
    "    if( (epoch+1) % 10 == 0 or (epoch+1 == end_train )):\n",
    "        save_loss(result)\n",
    "    \n",
    "    print(\"Epoch: {} Loss: {:.2f}, Loss_test: {:.2f}\".format(epoch+1, h, h_validation))"
   ]
  },
  {
   "cell_type": "code",
   "execution_count": 48,
   "metadata": {},
   "outputs": [
    {
     "data": {
      "text/plain": [
       "(900, 900)"
      ]
     },
     "execution_count": 48,
     "metadata": {},
     "output_type": "execute_result"
    }
   ],
   "source": [
    "len(result['train']), len(result['test'])"
   ]
  },
  {
   "cell_type": "code",
   "execution_count": 49,
   "metadata": {},
   "outputs": [],
   "source": [
    "encoded = model.get_layer('merge_features_in')\n",
    "output = encoded.output\n",
    "inputs = similarity_model.inputs[:-1]\n",
    "encoded_anchor = Model(inputs = inputs, outputs = output, name = 'Similarity_Model')"
   ]
  },
  {
   "cell_type": "code",
   "execution_count": 50,
   "metadata": {},
   "outputs": [
    {
     "data": {
      "text/plain": [
       "'bert_preprocessing_baseline_1000_feature1000epochs_64batch(openoffice)'"
      ]
     },
     "execution_count": 50,
     "metadata": {},
     "output_type": "execute_result"
    }
   ],
   "source": [
    "SAVE_PATH.replace('@number_of_epochs@', str(epochs))"
   ]
  },
  {
   "cell_type": "code",
   "execution_count": 51,
   "metadata": {},
   "outputs": [
    {
     "name": "stdout",
     "output_type": "stream",
     "text": [
      "Saved model 'modelos/model_bert_preprocessing_baseline_1000_feature_1000epochs_64batch(openoffice).h5' to disk\n"
     ]
    },
    {
     "data": {
      "text/plain": [
       "'Model saved'"
      ]
     },
     "execution_count": 51,
     "metadata": {},
     "output_type": "execute_result"
    }
   ],
   "source": [
    "experiment.save_model(model, SAVE_PATH.replace('@number_of_epochs@', str(epochs)))\n",
    "experiment.save_model(encoded_anchor, SAVE_PATH_FEATURE.replace('@number_of_epochs@', str(epochs)), verbose=1)\n",
    "\"Model saved\""
   ]
  },
  {
   "cell_type": "code",
   "execution_count": 52,
   "metadata": {},
   "outputs": [
    {
     "data": {
      "application/vnd.jupyter.widget-view+json": {
       "model_id": "ee1bfa6f874c4fea9905b466635eb6fe",
       "version_major": 2,
       "version_minor": 0
      },
      "text/plain": [
       "HBox(children=(IntProgress(value=0, max=8265), HTML(value='')))"
      ]
     },
     "metadata": {},
     "output_type": "display_data"
    },
    {
     "name": "stdout",
     "output_type": "stream",
     "text": [
      "\n"
     ]
    },
    {
     "data": {
      "application/vnd.jupyter.widget-view+json": {
       "model_id": "7dea8b41f123425e9954fbd8db6a8259",
       "version_major": 2,
       "version_minor": 0
      },
      "text/plain": [
       "HBox(children=(IntProgress(value=0, max=11757), HTML(value='')))"
      ]
     },
     "metadata": {},
     "output_type": "display_data"
    },
    {
     "name": "stdout",
     "output_type": "stream",
     "text": [
      "\n"
     ]
    },
    {
     "data": {
      "application/vnd.jupyter.widget-view+json": {
       "model_id": "db7cfc222f4442a0ab4d10eeae7fbd7d",
       "version_major": 2,
       "version_minor": 0
      },
      "text/plain": [
       "HBox(children=(IntProgress(value=0, max=12837), HTML(value='')))"
      ]
     },
     "metadata": {},
     "output_type": "display_data"
    },
    {
     "name": "stdout",
     "output_type": "stream",
     "text": [
      "\n"
     ]
    },
    {
     "data": {
      "application/vnd.jupyter.widget-view+json": {
       "model_id": "324c2f0efdec43f799ac4258583dd121",
       "version_major": 2,
       "version_minor": 0
      },
      "text/plain": [
       "HBox(children=(IntProgress(value=1, bar_style='info', max=1), HTML(value='')))"
      ]
     },
     "metadata": {},
     "output_type": "display_data"
    },
    {
     "name": "stdout",
     "output_type": "stream",
     "text": [
      "\n"
     ]
    },
    {
     "data": {
      "application/vnd.jupyter.widget-view+json": {
       "model_id": "6b9ed4ee588641e9bf85c637ec806f5a",
       "version_major": 2,
       "version_minor": 0
      },
      "text/plain": [
       "HBox(children=(IntProgress(value=1, bar_style='info', max=1), HTML(value='')))"
      ]
     },
     "metadata": {},
     "output_type": "display_data"
    },
    {
     "name": "stdout",
     "output_type": "stream",
     "text": [
      "\n"
     ]
    },
    {
     "data": {
      "application/vnd.jupyter.widget-view+json": {
       "model_id": "77629858a0264d79b5fd8032c8acf3c0",
       "version_major": 2,
       "version_minor": 0
      },
      "text/plain": [
       "HBox(children=(IntProgress(value=1, bar_style='info', max=1), HTML(value='')))"
      ]
     },
     "metadata": {},
     "output_type": "display_data"
    },
    {
     "name": "stdout",
     "output_type": "stream",
     "text": [
      "\n"
     ]
    },
    {
     "data": {
      "application/vnd.jupyter.widget-view+json": {
       "model_id": "5c4da061d00e429b84dd84952d7a3451",
       "version_major": 2,
       "version_minor": 0
      },
      "text/plain": [
       "HBox(children=(IntProgress(value=0, max=11757), HTML(value='')))"
      ]
     },
     "metadata": {},
     "output_type": "display_data"
    },
    {
     "name": "stdout",
     "output_type": "stream",
     "text": [
      "\n",
      "Epoch: 900 Loss: 0.00, Loss_test: 0.00, recall@25: 0.58\n"
     ]
    }
   ],
   "source": [
    "recall, exported_rank, debug = experiment.evaluate_validation_test(retrieval, 1, encoded_anchor, issues_by_buckets, bug_train_ids)\n",
    "print(\"Epoch: {} Loss: {:.2f}, Loss_test: {:.2f}, recall@25: {:.2f}\".format(epoch+1, h, h_validation, recall))"
   ]
  },
  {
   "cell_type": "code",
   "execution_count": 53,
   "metadata": {},
   "outputs": [
    {
     "data": {
      "text/plain": [
       "0.58"
      ]
     },
     "execution_count": 53,
     "metadata": {},
     "output_type": "execute_result"
    }
   ],
   "source": [
    "recall"
   ]
  },
  {
   "cell_type": "code",
   "execution_count": 54,
   "metadata": {},
   "outputs": [
    {
     "data": {
      "text/plain": [
       "['98306:88871,50853,33630,90791|98409:0.4277384877204895,78806:0.3756054639816284,69738:0.36447882652282715,29075:0.3629556894302368,56191:0.34965288639068604,37146:0.3444681167602539,85440:0.34345531463623047,96073:0.34310072660446167,35249:0.33767491579055786,62787:0.3366132974624634,64092:0.331354558467865,37566:0.33022648096084595,108206:0.32732093334198,44022:0.3253530263900757,95954:0.3242754340171814,94451:0.3240339159965515,54736:0.3229805827140808,100934:0.32271599769592285,95851:0.3226770758628845,43048:0.3218843936920166,69134:0.32052868604660034,65402:0.3199648857116699,55268:0.31826138496398926,79720:0.3167358636856079,32494:0.31628602743148804,101179:0.3155577778816223,69519:0.31495386362075806,53885:0.3121868968009949,94168:0.3115445375442505',\n",
       " '32771:32490,33548,32560,33879,32699|26003:0.41570770740509033,32494:0.38182735443115234,6177:0.37766045331954956,20262:0.3675897717475891,17469:0.356759250164032,50601:0.3394836187362671,15634:0.3382298946380615,98930:0.330748975276947,13621:0.3137994408607483,20508:0.3083128333091736,34523:0.3040187358856201,8289:0.3027224540710449,9702:0.30259644985198975,39670:0.2955114245414734,27754:0.2947142720222473,3155:0.2945091724395752,21822:0.2942051887512207,23787:0.29398953914642334,54858:0.29045456647872925,49603:0.2902446389198303,5142:0.2894231677055359,12479:0.28795379400253296,69374:0.28719276189804077,16832:0.2868167757987976,100629:0.28661251068115234,18633:0.2863761782646179,5412:0.28627151250839233,55912:0.285208523273468,13688:0.28510308265686035',\n",
       " '32772:22694,36970,39820,34488,33298,36760,34911|13900:0.3803424835205078,21709:0.3631656765937805,79481:0.3616220951080322,41120:0.3529762625694275,26266:0.351412832736969,27422:0.3465069532394409,23987:0.34638065099716187,28427:0.3418031930923462,88996:0.3369153141975403,19323:0.33585214614868164,21811:0.33274930715560913,27492:0.33150237798690796,23347:0.33129215240478516,25139:0.3306810259819031,24383:0.32988667488098145,20644:0.3297494053840637,28247:0.3288841247558594,43963:0.3273226022720337,25150:0.3265755772590637,28170:0.3231819272041321,18406:0.321913480758667,24904:0.3205564618110657,19420:0.3204346299171448,24775:0.3202071189880371,18264:0.319629430770874,19357:0.3193318247795105,39670:0.31884169578552246,30128:0.3177042007446289,97326:0.31676995754241943',\n",
       " '32776:30241,33762,31134,33183|32431:0.32260292768478394,64793:0.31172990798950195,32494:0.29581743478775024,19422:0.28336280584335327,48299:0.2780766487121582,57023:0.27365249395370483,9557:0.27045607566833496,13688:0.26972800493240356,43585:0.2644408941268921,18008:0.26341819763183594,34493:0.2631344795227051,35249:0.2623478174209595,372:0.2612072825431824,18009:0.2609487771987915,31134:0.2596084475517273,27754:0.2579728364944458,23689:0.25795459747314453,23787:0.25680065155029297,13060:0.25513970851898193,76090:0.2541393041610718,25764:0.25295156240463257,19406:0.2525341510772705,17108:0.2519384026527405,56186:0.2508549094200134,22256:0.2507883310317993,74052:0.2507020831108093,97360:0.2506221532821655,12823:0.2504596710205078,32709:0.25027573108673096',\n",
       " '65545:55967|80285:0.3456879258155823,52491:0.25530004501342773,70591:0.2548171281814575,24842:0.24970382452011108,30263:0.24970155954360962,88006:0.23026806116104126,58127:0.22683125734329224,112337:0.22595733404159546,31974:0.22403723001480103,34941:0.22235453128814697,64334:0.22153407335281372,50903:0.21975940465927124,82941:0.21765035390853882,66964:0.21306031942367554,26494:0.2105100154876709,22431:0.2074223756790161,30802:0.2074204683303833,99094:0.2067059874534607,32896:0.20436733961105347,108439:0.2042047381401062,39098:0.20410239696502686,97289:0.20321673154830933,13634:0.20275670289993286,13635:0.20275670289993286,13636:0.20275670289993286,49725:0.2006533145904541,87804:0.19908320903778076,45092:0.19742858409881592,20859:0.19680124521255493',\n",
       " '65549:26122,62365,3411,74204,94365|63455:0.3949456810951233,52800:0.3817403316497803,102369:0.3733198642730713,21097:0.36993324756622314,91578:0.3696705102920532,23909:0.3668473958969116,61177:0.35829710960388184,24224:0.3561127781867981,21691:0.35427337884902954,3823:0.35080432891845703,57914:0.34894615411758423,46584:0.34603351354599,20342:0.34597086906433105,40021:0.3457610607147217,80626:0.345430850982666,60196:0.34138280153274536,35085:0.3383563160896301,83697:0.3368997573852539,61150:0.3322913646697998,109879:0.3278987407684326,27899:0.32661277055740356,100529:0.32478010654449463,90074:0.3239796757698059,33859:0.3238564729690552,76553:0.3218672275543213,58404:0.32160788774490356,99481:0.32149291038513184,94838:0.32122594118118286,114835:0.31630903482437134',\n",
       " '98318:98570|99954:0.3319600224494934,99728:0.3296438455581665,115318:0.3288612365722656,104753:0.31257396936416626,69512:0.31243085861206055,101869:0.3114762306213379,39839:0.30482953786849976,54471:0.3034434914588928,102419:0.2952646017074585,102195:0.2943105697631836,54133:0.2907406687736511,51445:0.2867623567581177,23488:0.2820170521736145,83456:0.2792406678199768,76039:0.2779969573020935,69388:0.27693450450897217,56693:0.2760019898414612,80628:0.2754487991333008,16106:0.2748457193374634,49946:0.27038145065307617,73669:0.2657700181007385,17877:0.26350826025009155,17633:0.26271647214889526,100166:0.26172035932540894,103846:0.26129400730133057,65690:0.26108741760253906,81342:0.26061856746673584,100003:0.2516239285469055,4147:0.24914538860321045',\n",
       " '98319:107242,102941|80225:0.45298218727111816,89427:0.40318483114242554,112435:0.3829275369644165,82194:0.37914198637008667,3411:0.3729974627494812,28932:0.3715663552284241,90071:0.36747825145721436,10453:0.3543946146965027,59207:0.35321879386901855,9440:0.35270261764526367,88591:0.3520476222038269,102941:0.3488353490829468,7056:0.3467133045196533,21330:0.34565550088882446,102529:0.34497302770614624,71711:0.34033000469207764,85396:0.3388383984565735,71174:0.33845001459121704,80626:0.3372313380241394,91578:0.33703988790512085,21097:0.3351241946220398,82363:0.33492571115493774,90255:0.33392131328582764,64697:0.3301757574081421,107242:0.3294203281402588,15555:0.32788777351379395,109879:0.326723575592041,27421:0.3235965371131897,57914:0.32224154472351074',\n",
       " '18:100,271|6937:0.3695910573005676,1271:0.3083747625350952,6477:0.29487812519073486,7303:0.26699042320251465,10540:0.2558291554450989,22478:0.2303067445755005,6790:0.217779278755188,100:0.19937652349472046,31084:0.19782668352127075,42219:0.18398863077163696,111354:0.15785080194473267,15876:0.1573081612586975,118993:0.14510095119476318,95975:0.12937527894973755,84534:0.1270751953125,18409:0.11932104825973511,18410:0.11932104825973511,18413:0.11932104825973511,18414:0.11932104825973511,41127:0.11001473665237427,41128:0.11001473665237427,21879:0.10817515850067139,38879:0.09538072347640991,115721:0.09138166904449463,102053:0.07810413837432861,43745:0.07520085573196411,26030:0.07440006732940674,79029:0.07001298666000366,48948:0.06590020656585693',\n",
       " '32788:31681,32789,31726|32789:1.0,60499:0.35447263717651367,32541:0.3367617726325989,56830:0.3260815143585205,51090:0.3145068883895874,44824:0.31039583683013916,85670:0.2987210154533386,85671:0.2987210154533386,68729:0.2983962893486023,103206:0.2974189519882202,59178:0.2971112132072449,109038:0.296597421169281,56322:0.29631268978118896,87415:0.29499131441116333,59598:0.29426300525665283,41683:0.29419565200805664,32939:0.2906039357185364,83262:0.28350281715393066,90796:0.2815421223640442,86105:0.2788861393928528,94526:0.2748979330062866,2553:0.2744331359863281,58527:0.27378368377685547,59131:0.27222704887390137,47528:0.2721196413040161,63984:0.27085721492767334,71657:0.269858717918396,20439:0.26984620094299316,20443:0.26984620094299316',\n",
       " '32789:31681,32788,31726|32788:1.0,60499:0.35447263717651367,32541:0.3367617726325989,56830:0.3260815143585205,51090:0.3145068883895874,44824:0.31039583683013916,85670:0.2987210154533386,85671:0.2987210154533386,68729:0.2983962893486023,103206:0.2974189519882202,59178:0.2971112132072449,109038:0.296597421169281,56322:0.29631268978118896,87415:0.29499131441116333,59598:0.29426300525665283,41683:0.29419565200805664,32939:0.2906039357185364,83262:0.28350281715393066,90796:0.2815421223640442,86105:0.2788861393928528,94526:0.2748979330062866,2553:0.2744331359863281,58527:0.27378368377685547,59131:0.27222704887390137,47528:0.2721196413040161,63984:0.27085721492767334,71657:0.269858717918396,20439:0.26984620094299316,20443:0.26984620094299316',\n",
       " '65561:27520,50753,21280,85187,51168,35298,83046,27630,81041,46738,46739,46740,103094,48951,55995,76895|20913:0.4395866394042969,4984:0.4183024764060974,55995:0.4105439782142639,81041:0.40852099657058716,38598:0.4064227342605591,33402:0.4032796025276184,27520:0.3988087773323059,51792:0.392086386680603,4982:0.3876191973686218,8811:0.38484686613082886,76895:0.3722400665283203,82363:0.3696088194847107,35298:0.366432785987854,23263:0.3660874366760254,98861:0.36481499671936035,27630:0.36251240968704224,67805:0.3577115535736084,3978:0.3573773503303528,62301:0.35530388355255127,33851:0.35475194454193115,39839:0.348164439201355,4117:0.34793007373809814,40574:0.34705621004104614,52355:0.34553295373916626,76570:0.3449527621269226,69302:0.34333211183547974,90325:0.34259533882141113,65076:0.3425615429878235,87845:0.34207069873809814',\n",
       " '27:59,92|91795:0.3028145432472229,14054:0.2809097170829773,10587:0.27862000465393066,5883:0.27718573808670044,33557:0.2736359238624573,105084:0.2651515007019043,9405:0.26257675886154175,1585:0.261813759803772,18206:0.2578052878379822,111221:0.25655800104141235,34922:0.2546865940093994,33041:0.25077515840530396,5280:0.2483006715774536,12784:0.241818368434906,31787:0.23608076572418213,35702:0.23601198196411133,103502:0.2352297306060791,112371:0.2345786690711975,16827:0.23319131135940552,12539:0.23139560222625732,41000:0.2284102439880371,11513:0.22627967596054077,20368:0.22256940603256226,60787:0.22183769941329956,13436:0.22084122896194458,10830:0.21931272745132446,28578:0.21815359592437744,668:0.21768146753311157,10614:0.21766096353530884',\n",
       " '32:42944,6342,3207,18886,32905,54854,54855,67697,4756,23861,18648,58138,40286|40286:0.3706381916999817,95718:0.3163832426071167,54854:0.31348538398742676,96498:0.31103676557540894,54855:0.3054856061935425,23836:0.29943084716796875,34635:0.29913318157196045,55066:0.28692346811294556,42944:0.2844107151031494,2022:0.28041040897369385,89285:0.27778059244155884,78058:0.27710360288619995,92794:0.27210521697998047,89153:0.26811403036117554,102645:0.26787644624710083,6352:0.26673197746276855,36175:0.26564234495162964,45565:0.26480597257614136,69832:0.25908446311950684,93856:0.25731873512268066,92224:0.2569701075553894,36254:0.2528398036956787,90377:0.25262558460235596,28971:0.25191301107406616,20717:0.2511221766471863,110975:0.24801665544509888,98827:0.24659615755081177,54167:0.24641364812850952,89663:0.24483484029769897',\n",
       " '32813:33041|35350:0.28531205654144287,32618:0.25384944677352905,52285:0.24659234285354614,47060:0.23241788148880005,73600:0.2213253378868103,109937:0.215459942817688,32655:0.2152361273765564,88580:0.20999687910079956,29856:0.20522916316986084,52284:0.2038940191268921,104421:0.20188897848129272,29026:0.19878923892974854,41025:0.19733470678329468,81800:0.19243407249450684,52212:0.19180208444595337,59647:0.1898801326751709,27213:0.1896810531616211,48743:0.1840159296989441,43781:0.18383091688156128,5542:0.18125015497207642,10592:0.17940831184387207,92796:0.17857050895690918,116005:0.1783750057220459,116747:0.17463523149490356,52221:0.1722632646560669,51452:0.17194998264312744,16981:0.17071771621704102,1977:0.1705232858657837,7465:0.16691714525222778',\n",
       " '32814:37274,38852,37357|70316:0.20882922410964966,70317:0.20882922410964966,20776:0.17219626903533936,20778:0.17219626903533936,20774:0.17219626903533936,112339:0.1402685046195984,91407:0.13808560371398926,40246:0.13331079483032227,40247:0.13331079483032227,41499:0.1309613585472107,100749:0.12965768575668335,100750:0.12965768575668335,100751:0.12965768575668335,98729:0.1186949610710144,43438:0.10852253437042236,62918:0.10690021514892578,22498:0.1014631986618042,54773:0.09777027368545532,27123:0.09540003538131714,38482:0.07931268215179443,79043:0.07659894227981567,70900:0.07528042793273926,112305:0.07193177938461304,51409:0.07187092304229736,12911:0.07122814655303955,90178:0.07066291570663452,23926:0.07000243663787842,7465:0.06965464353561401,14282:0.06924629211425781',\n",
       " '32815:32033,31362,31874,33062,31550|32675:0.39555221796035767,31623:0.35283398628234863,31362:0.34065914154052734,32033:0.3343619704246521,32215:0.2980627417564392,43744:0.28519582748413086,46566:0.2821841835975647,31572:0.2756010890007019,31874:0.26861000061035156,50325:0.2650952935218811,46021:0.2619555592536926,52382:0.26184362173080444,58209:0.2594839930534363,6342:0.25846487283706665,50461:0.2575434446334839,76000:0.255909264087677,1816:0.2524183392524719,20053:0.24912601709365845,43930:0.24665051698684692,45200:0.2419179081916809,20055:0.2403009533882141,44927:0.23958539962768555,42202:0.23877930641174316,44326:0.2380499243736267,35322:0.2306949496269226,52909:0.22944211959838867,31458:0.2293446660041809,18477:0.22720885276794434,7014:0.22689509391784668',\n",
       " '65586:71849,67371,67476,83252,88157,67642,71099,69789,81630|25793:0.4193427562713623,21112:0.38911908864974976,61799:0.37656110525131226,91065:0.37352174520492554,29500:0.37345409393310547,65643:0.371585488319397,6951:0.37153160572052,76570:0.36726677417755127,25975:0.36535531282424927,22976:0.36427152156829834,22977:0.36427152156829834,22978:0.36427152156829834,74329:0.36340320110321045,21924:0.36207425594329834,74216:0.3607451915740967,19133:0.3602774143218994,66399:0.3599061965942383,5399:0.3591959476470947,9235:0.35320717096328735,31486:0.35176098346710205,25332:0.3513568043708801,67365:0.35108649730682373,95444:0.34818577766418457,24953:0.34764063358306885,24499:0.3460986018180847,53568:0.3448314666748047,40921:0.34425902366638184,69180:0.34286653995513916,76706:0.3427087068557739',\n",
       " '51:52|52:0.8672662377357483,82242:0.49099302291870117,1537:0.4847714900970459,39258:0.4651835560798645,60041:0.44939059019088745,19330:0.4432613253593445,67288:0.4379250407218933,65953:0.43361443281173706,24945:0.4286404848098755,65954:0.42696279287338257,65228:0.42199814319610596,82336:0.4211886525154114,728:0.41668862104415894,25375:0.4101247787475586,1561:0.4064944386482239,25168:0.4035896062850952,82314:0.3999723196029663,18354:0.3973238468170166,1950:0.3937349319458008,82236:0.3899120092391968,17864:0.38238561153411865,66782:0.37902700901031494,1423:0.3681432604789734,18973:0.367700457572937,28408:0.36301034688949585,71850:0.3598017692565918,82229:0.355937659740448,9734:0.3546159863471985,22882:0.3540429472923279',\n",
       " '52:51|51:0.8672662377357483,39258:0.48726141452789307,1537:0.4734874963760376,82242:0.4614071846008301,65954:0.4538418650627136,65953:0.446185827255249,24945:0.4347692131996155,60041:0.4239524006843567,65228:0.4229128956794739,19330:0.422829806804657,82336:0.4172751307487488,67288:0.4143061637878418,82314:0.4114035964012146,25375:0.41139113903045654,728:0.4026951789855957,25168:0.4010867476463318,1561:0.3958665728569031,17864:0.39405423402786255,18354:0.39005225896835327,82236:0.3883897662162781,1950:0.3783417344093323,1423:0.3701968789100647,66782:0.3699456453323364,82229:0.3674055337905884,18003:0.36139655113220215,9734:0.3609289526939392,1408:0.35738348960876465,71850:0.3525957465171814,22882:0.3468095064163208']"
      ]
     },
     "execution_count": 54,
     "metadata": {},
     "output_type": "execute_result"
    }
   ],
   "source": [
    "exported_rank[:20]"
   ]
  },
  {
   "cell_type": "markdown",
   "metadata": {},
   "source": [
    "### Retrieval evaluation"
   ]
  },
  {
   "cell_type": "code",
   "execution_count": 55,
   "metadata": {},
   "outputs": [
    {
     "name": "stdout",
     "output_type": "stream",
     "text": [
      "Total of queries: 8265\n"
     ]
    }
   ],
   "source": [
    "print(\"Total of queries:\", len(retrieval.test))"
   ]
  },
  {
   "cell_type": "markdown",
   "metadata": {},
   "source": [
    "#### Getting the model trained"
   ]
  },
  {
   "cell_type": "code",
   "execution_count": 56,
   "metadata": {},
   "outputs": [
    {
     "data": {
      "text/plain": [
       "'bert_preprocessing_baseline_1000_feature_1000epochs_64batch(openoffice)'"
      ]
     },
     "execution_count": 56,
     "metadata": {},
     "output_type": "execute_result"
    }
   ],
   "source": [
    "SAVE_PATH_FEATURE.replace('@number_of_epochs@', str(epochs))"
   ]
  },
  {
   "cell_type": "code",
   "execution_count": 57,
   "metadata": {},
   "outputs": [
    {
     "name": "stdout",
     "output_type": "stream",
     "text": [
      "__________________________________________________________________________________________________\n",
      "Layer (type)                    Output Shape         Param #     Connected to                     \n",
      "==================================================================================================\n",
      "info_in (InputLayer)            (None, 738)          0                                            \n",
      "__________________________________________________________________________________________________\n",
      "title_in (InputLayer)           (None, 20)           0                                            \n",
      "__________________________________________________________________________________________________\n",
      "desc_in (InputLayer)            (None, 20)           0                                            \n",
      "__________________________________________________________________________________________________\n",
      "FeatureMlpGenerationModel (Mode (None, 300)          221700      info_in[0][0]                    \n",
      "__________________________________________________________________________________________________\n",
      "FeatureLstmGenerationModel (Mod (None, 300)          581460900   title_in[0][0]                   \n",
      "__________________________________________________________________________________________________\n",
      "FeatureCNNGenerationModel (Mode (None, 300)          581507592   desc_in[0][0]                    \n",
      "__________________________________________________________________________________________________\n",
      "merge_features_in (Concatenate) (None, 900)          0           FeatureMlpGenerationModel[1][0]  \n",
      "                                                                 FeatureLstmGenerationModel[1][0] \n",
      "                                                                 FeatureCNNGenerationModel[1][0]  \n",
      "==================================================================================================\n",
      "Total params: 1,163,190,192\n",
      "Trainable params: 675,192\n",
      "Non-trainable params: 1,162,515,000\n",
      "__________________________________________________________________________________________________\n"
     ]
    }
   ],
   "source": [
    "encoded_anchor.summary()"
   ]
  },
  {
   "cell_type": "code",
   "execution_count": 58,
   "metadata": {},
   "outputs": [
    {
     "data": {
      "text/plain": [
       "11757"
      ]
     },
     "execution_count": 58,
     "metadata": {},
     "output_type": "execute_result"
    }
   ],
   "source": [
    "len(exported_rank)"
   ]
  },
  {
   "cell_type": "code",
   "execution_count": 59,
   "metadata": {},
   "outputs": [
    {
     "data": {
      "text/plain": [
       "'data/processed/openoffice/bert/exported_rank_baseline_1000.txt'"
      ]
     },
     "execution_count": 59,
     "metadata": {},
     "output_type": "execute_result"
    }
   ],
   "source": [
    "EXPORT_RANK_PATH = os.path.join(DIR, 'exported_rank_{}.txt'.format(METHOD))\n",
    "EXPORT_RANK_PATH"
   ]
  },
  {
   "cell_type": "code",
   "execution_count": 60,
   "metadata": {},
   "outputs": [],
   "source": [
    "with open(EXPORT_RANK_PATH, 'w') as file_out:\n",
    "    for row in exported_rank:\n",
    "        file_out.write(row + \"\\n\")"
   ]
  },
  {
   "cell_type": "code",
   "execution_count": 61,
   "metadata": {},
   "outputs": [
    {
     "data": {
      "text/plain": [
       "{'1 - recall_at_5': 0.46,\n",
       " '2 - recall_at_10': 0.51,\n",
       " '3 - recall_at_15': 0.54,\n",
       " '4 - recall_at_20': 0.56,\n",
       " '5 - recall_at_25': 0.58}"
      ]
     },
     "execution_count": 61,
     "metadata": {},
     "output_type": "execute_result"
    }
   ],
   "source": [
    "report = experiment.evaluation.evaluate(EXPORT_RANK_PATH)\n",
    "report"
   ]
  },
  {
   "cell_type": "markdown",
   "metadata": {},
   "source": [
    "#### Some ideas to visualizate"
   ]
  },
  {
   "cell_type": "markdown",
   "metadata": {},
   "source": [
    "- https://towardsdatascience.com/building-a-recommendation-system-using-neural-network-embeddings-1ef92e5c80c9"
   ]
  }
 ],
 "metadata": {
  "accelerator": "GPU",
  "colab": {
   "collapsed_sections": [],
   "name": "[baseline] Bug triage with Deep Learning.ipynb",
   "provenance": [],
   "toc_visible": true,
   "version": "0.3.2"
  },
  "kernelspec": {
   "display_name": "Python 3",
   "language": "python",
   "name": "python3"
  },
  "language_info": {
   "codemirror_mode": {
    "name": "ipython",
    "version": 3
   },
   "file_extension": ".py",
   "mimetype": "text/x-python",
   "name": "python",
   "nbconvert_exporter": "python",
   "pygments_lexer": "ipython3",
   "version": "3.5.2"
  }
 },
 "nbformat": 4,
 "nbformat_minor": 1
}
