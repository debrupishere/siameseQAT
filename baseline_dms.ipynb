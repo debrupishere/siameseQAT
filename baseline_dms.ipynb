{
 "cells": [
  {
   "cell_type": "markdown",
   "metadata": {
    "colab_type": "text",
    "id": "PtdA1qs_UQP1"
   },
   "source": [
    "# Bug triage with Deep Learning\n",
    "\n",
    "https://github.com/AdrianUng/keras-triplet-loss-mnist/blob/master/Triplet_loss_KERAS_semi_hard_from_TF.ipynb"
   ]
  },
  {
   "cell_type": "code",
   "execution_count": 1,
   "metadata": {},
   "outputs": [
    {
     "name": "stderr",
     "output_type": "stream",
     "text": [
      "Using TensorFlow backend.\n"
     ]
    }
   ],
   "source": [
    "import keras"
   ]
  },
  {
   "cell_type": "code",
   "execution_count": 2,
   "metadata": {
    "colab": {},
    "colab_type": "code",
    "id": "qnSCLmiomFE1"
   },
   "outputs": [],
   "source": [
    "from __future__ import print_function, division"
   ]
  },
  {
   "cell_type": "code",
   "execution_count": 3,
   "metadata": {
    "colab": {},
    "colab_type": "code",
    "id": "OIha-SERnD72"
   },
   "outputs": [],
   "source": [
    "import re\n",
    "import numpy as np\n",
    "import pandas as pd\n",
    "\n",
    "import os\n",
    "from tqdm import tqdm_notebook as tqdm\n",
    "import matplotlib.pyplot as plt\n",
    "import sys\n",
    "from annoy import AnnoyIndex\n",
    "nb_dir = os.path.split(os.getcwd())[0]\n",
    "if nb_dir not in sys.path:\n",
    "    sys.path.append(nb_dir)\n",
    "    \n",
    "%matplotlib inline"
   ]
  },
  {
   "cell_type": "code",
   "execution_count": 4,
   "metadata": {
    "colab": {
     "base_uri": "https://localhost:8080/",
     "height": 34
    },
    "colab_type": "code",
    "id": "c57gQiuAnJAe",
    "outputId": "9eaf2d3f-619a-492d-f40b-6ba2c48426fa"
   },
   "outputs": [],
   "source": [
    "from keras.layers import Conv1D, Input, Add, Activation, Dropout, Embedding, MaxPooling1D, \\\n",
    "    GlobalMaxPool1D, Flatten, Dense, Concatenate, BatchNormalization\n",
    "from keras.models import Sequential, Model\n",
    "from keras.regularizers import l2\n",
    "from keras.initializers import TruncatedNormal\n",
    "from keras.layers.advanced_activations import LeakyReLU, ELU\n",
    "from keras import optimizers"
   ]
  },
  {
   "cell_type": "code",
   "execution_count": 5,
   "metadata": {},
   "outputs": [],
   "source": [
    "from methods.baseline import Baseline\n",
    "from methods.experiments import Experiment\n",
    "from methods.evaluation import Evaluation\n",
    "from methods.retrieval import Retrieval"
   ]
  },
  {
   "cell_type": "markdown",
   "metadata": {
    "colab_type": "text",
    "id": "8uQou7m2-bFO"
   },
   "source": [
    "## Configurações Globais"
   ]
  },
  {
   "cell_type": "code",
   "execution_count": 6,
   "metadata": {
    "colab": {},
    "colab_type": "code",
    "id": "G-Kn3x_K-aZj"
   },
   "outputs": [],
   "source": [
    "MAX_SEQUENCE_LENGTH_T = 20 # 100\n",
    "MAX_SEQUENCE_LENGTH_D = 20 # 500\n",
    "EMBEDDING_DIM = 300\n",
    "MAX_NB_WORDS = 20000\n",
    "'''\n",
    "    Configuration\n",
    "'''\n",
    "epochs = 1000\n",
    "freeze_train = .1 # 10% with freeze weights\n",
    "best_loss = 1\n",
    "best_epoch = 0\n",
    "verbose = 0\n",
    "loss = 1"
   ]
  },
  {
   "cell_type": "markdown",
   "metadata": {},
   "source": [
    "### Parse bugs preproprecessed"
   ]
  },
  {
   "cell_type": "code",
   "execution_count": 7,
   "metadata": {},
   "outputs": [],
   "source": [
    "# Domain to use\n",
    "DOMAIN = 'netbeans'\n",
    "METHOD = 'baseline_{}'.format(epochs)\n",
    "PREPROCESSING = 'bert'\n",
    "TOKEN = 'bert'\n",
    "# Dataset paths\n",
    "DIR = 'data/processed/{}/{}'.format(DOMAIN, PREPROCESSING)\n",
    "DIR_PAIRS = 'data/normalized/{}'.format(DOMAIN)\n",
    "DATASET = os.path.join('data/normalized/{}'.format(DOMAIN), '{}.csv'.format(DOMAIN))\n",
    "# Glove embeddings\n",
    "GLOVE_DIR='data/embed'\n",
    "# Save model\n",
    "SAVE_PATH = '{}_preprocessing_{}_feature@number_of_epochs@epochs_64batch({})'.format(PREPROCESSING, METHOD, DOMAIN)\n",
    "SAVE_PATH_FEATURE = '{}_preprocessing_{}_feature_@number_of_epochs@epochs_64batch({})'.format(PREPROCESSING, METHOD, DOMAIN)\n",
    "\n",
    "# Extract CORPUs\n",
    "EXTRACT_CORPUS = False"
   ]
  },
  {
   "cell_type": "code",
   "execution_count": 8,
   "metadata": {},
   "outputs": [],
   "source": [
    "import os\n",
    "\n",
    "pretrained_path = 'uncased_L-12_H-768_A-12'\n",
    "config_path = os.path.join(pretrained_path, 'bert_config.json')\n",
    "model_path = os.path.join(pretrained_path, 'bert_model.ckpt')\n",
    "vocab_path = os.path.join(pretrained_path, 'vocab.txt')"
   ]
  },
  {
   "cell_type": "code",
   "execution_count": 9,
   "metadata": {},
   "outputs": [],
   "source": [
    "from keras_bert import load_vocabulary\n",
    "\n",
    "token_dict = load_vocabulary(vocab_path)"
   ]
  },
  {
   "cell_type": "code",
   "execution_count": 10,
   "metadata": {},
   "outputs": [],
   "source": [
    "baseline = Baseline(DOMAIN, DIR, DATASET, MAX_SEQUENCE_LENGTH_T, MAX_SEQUENCE_LENGTH_D,\n",
    "                   token_dict['[CLS]'], token_dict['[SEP]'])\n",
    "evaluation = Evaluation(verbose=0)\n",
    "retrieval = Retrieval()\n",
    "experiment = Experiment(baseline, evaluation)"
   ]
  },
  {
   "cell_type": "code",
   "execution_count": 11,
   "metadata": {
    "scrolled": true
   },
   "outputs": [],
   "source": [
    "experiment.set_retrieval(retrieval, baseline, DOMAIN)"
   ]
  },
  {
   "cell_type": "markdown",
   "metadata": {},
   "source": [
    "#### Loading bug ids in memory"
   ]
  },
  {
   "cell_type": "code",
   "execution_count": 12,
   "metadata": {
    "scrolled": true
   },
   "outputs": [
    {
     "name": "stdout",
     "output_type": "stream",
     "text": [
      "Reading bug ids\n"
     ]
    },
    {
     "data": {
      "text/plain": [
       "216715"
      ]
     },
     "execution_count": 12,
     "metadata": {},
     "output_type": "execute_result"
    }
   ],
   "source": [
    "experiment.load_ids()\n",
    "len(baseline.bug_ids)"
   ]
  },
  {
   "cell_type": "markdown",
   "metadata": {
    "colab_type": "text",
    "id": "vqzt5EKzqzcI"
   },
   "source": [
    "#### Dicionário de títulos e descrições"
   ]
  },
  {
   "cell_type": "code",
   "execution_count": null,
   "metadata": {
    "scrolled": true
   },
   "outputs": [
    {
     "data": {
      "application/vnd.jupyter.widget-view+json": {
       "model_id": "28d05afce96f4622a0e622bb6de4e456",
       "version_major": 2,
       "version_minor": 0
      },
      "text/plain": [
       "HBox(children=(IntProgress(value=0, max=216715), HTML(value='')))"
      ]
     },
     "metadata": {},
     "output_type": "display_data"
    }
   ],
   "source": [
    "%%time\n",
    "\n",
    "experiment.load_bugs(TOKEN)\n",
    "len(baseline.sentence_dict)"
   ]
  },
  {
   "cell_type": "markdown",
   "metadata": {},
   "source": [
    "#### Hashing bugs by buckets"
   ]
  },
  {
   "cell_type": "code",
   "execution_count": null,
   "metadata": {
    "scrolled": false
   },
   "outputs": [],
   "source": [
    "issues_by_buckets = experiment.get_buckets_for_bugs()"
   ]
  },
  {
   "cell_type": "markdown",
   "metadata": {},
   "source": [
    "#### Prepare the train and test"
   ]
  },
  {
   "cell_type": "code",
   "execution_count": null,
   "metadata": {},
   "outputs": [],
   "source": [
    "# path_train='train_chronological', path_test='test_chronological'\n",
    "experiment.prepare_dataset(issues_by_buckets, path_train='train_chronological', path_test='test_chronological')\n",
    "# Read and create the test queries duplicates\n",
    "retrieval.create_queries()"
   ]
  },
  {
   "cell_type": "code",
   "execution_count": null,
   "metadata": {},
   "outputs": [],
   "source": [
    "baseline.train_data[:10]"
   ]
  },
  {
   "cell_type": "markdown",
   "metadata": {},
   "source": [
    "#### Recovery bug ids from train"
   ]
  },
  {
   "cell_type": "code",
   "execution_count": null,
   "metadata": {},
   "outputs": [],
   "source": [
    "bug_train_ids = experiment.get_train_ids(baseline.train_data)"
   ]
  },
  {
   "cell_type": "markdown",
   "metadata": {},
   "source": [
    "### Export the corpus train"
   ]
  },
  {
   "cell_type": "code",
   "execution_count": null,
   "metadata": {},
   "outputs": [],
   "source": [
    "if EXTRACT_CORPUS:\n",
    "    corpus = []\n",
    "    export_file = open(os.path.join(DIR, 'corpus_train.txt'), 'w')\n",
    "    for bug_id in tqdm(baseline.bug_set):\n",
    "        bug = baseline.bug_set[bug_id]\n",
    "        title = bug['title']\n",
    "        desc = bug['description']\n",
    "        export_file.write(\"{}\\n{}\\n\".format(title, desc))\n",
    "    export_file.close()"
   ]
  },
  {
   "cell_type": "markdown",
   "metadata": {
    "colab_type": "text",
    "id": "a6Obtop6UIVD"
   },
   "source": [
    "# Generating tiple of batches"
   ]
  },
  {
   "cell_type": "code",
   "execution_count": null,
   "metadata": {
    "scrolled": true
   },
   "outputs": [],
   "source": [
    "idx = np.random.choice(baseline.bug_ids, 1)[0]\n",
    "baseline.bug_set[idx]"
   ]
  },
  {
   "cell_type": "markdown",
   "metadata": {},
   "source": [
    "### Generating the batch test"
   ]
  },
  {
   "cell_type": "code",
   "execution_count": null,
   "metadata": {},
   "outputs": [],
   "source": [
    "\"Train \", len(baseline.dup_sets_train)"
   ]
  },
  {
   "cell_type": "code",
   "execution_count": null,
   "metadata": {},
   "outputs": [],
   "source": [
    "import random\n",
    "\n",
    "# data - path\n",
    "# batch_size - 128\n",
    "# n_neg - 1\n",
    "def batch_iterator(self, retrieval, model, data, dup_sets, bug_ids, \n",
    "                   batch_size, n_neg, issues_by_buckets, TRIPLET_HARD=False, FLOATING_PADDING=False):\n",
    "    # global train_data\n",
    "    # global self.dup_sets\n",
    "    # global self.bug_ids\n",
    "    # global self.bug_set\n",
    "\n",
    "    random.shuffle(data)\n",
    "\n",
    "    batch_features = {'title' : [], 'desc' : [], 'info' : []}\n",
    "\n",
    "    n_train = len(data)\n",
    "\n",
    "    batch_triplets, batch_bugs_anchor, batch_bugs_pos, batch_bugs_neg, batch_bugs = [], [], [], [], []\n",
    "\n",
    "    all_bugs = list(issues_by_buckets.keys())\n",
    "    buckets = retrieval.buckets\n",
    "\n",
    "    for offset in range(batch_size):\n",
    "        anchor, pos = data[offset][0], data[offset][1]\n",
    "        batch_bugs_anchor.append(anchor)\n",
    "        batch_bugs_pos.append(pos)\n",
    "        batch_bugs.append(anchor)\n",
    "        batch_bugs.append(pos)\n",
    "        #batch_bugs += dup_sets[anchor]\n",
    "\n",
    "    for anchor, pos in zip(batch_bugs_anchor, batch_bugs_pos):\n",
    "        while True:\n",
    "            neg = self.get_neg_bug(anchor, buckets[issues_by_buckets[anchor]], issues_by_buckets, all_bugs)\n",
    "            bug_anchor = self.bug_set[anchor]\n",
    "            bug_pos = self.bug_set[pos]\n",
    "            if neg not in self.bug_set:\n",
    "                continue\n",
    "            batch_bugs.append(neg)\n",
    "            batch_bugs_neg.append(neg)\n",
    "            bug_neg = self.bug_set[neg]\n",
    "            break\n",
    "        \n",
    "        # triplet bug and master\n",
    "        batch_triplets.append([anchor, pos, neg])\n",
    "    \n",
    "    random.shuffle(batch_bugs)\n",
    "    \n",
    "    for bug_id in batch_bugs:\n",
    "        bug = self.bug_set[bug_id]\n",
    "        self.read_batch_bugs(batch_features, bug)\n",
    "\n",
    "    batch_features['title'] = np.array(batch_features['title'])\n",
    "    batch_features['desc'] = np.array(batch_features['desc'])\n",
    "    batch_features['info'] = np.array(batch_features['info'])\n",
    "    \n",
    "    sim = np.asarray([issues_by_buckets[bug_id] for bug_id in batch_bugs])\n",
    "\n",
    "    input_sample = {}\n",
    "\n",
    "    input_sample = { 'title' : batch_features['title'], \n",
    "                        'description' : batch_features['desc'], \n",
    "                            'info' : batch_features['info'] }\n",
    "\n",
    "    return batch_triplets, input_sample, sim #sim"
   ]
  },
  {
   "cell_type": "code",
   "execution_count": null,
   "metadata": {
    "colab": {
     "base_uri": "https://localhost:8080/",
     "height": 51
    },
    "colab_type": "code",
    "id": "PA5CIhgz7odW",
    "outputId": "ae98fdec-1d54-4b1f-ee0e-4c5633802a18",
    "scrolled": true
   },
   "outputs": [],
   "source": [
    "%%time\n",
    "\n",
    "batch_size = 128\n",
    "batch_size_test = 128\n",
    "\n",
    "# we want a constant validation group to have a frame of reference for model performance\n",
    "batch_triplets_valid, valid_input_sample, valid_sim = batch_iterator(baseline, retrieval, None, \n",
    "                                                                                      baseline.train_data, \n",
    "                                                                                      baseline.dup_sets_train,\n",
    "                                                                                      bug_train_ids,\n",
    "                                                                                      batch_size_test, 1,\n",
    "                                                                                      issues_by_buckets)\n",
    "\n",
    "validation_sample = [valid_input_sample['title'], \n",
    "             valid_input_sample['description'],\n",
    "            valid_input_sample['info'], valid_sim]\n",
    "\n",
    "# Categorical columns\n",
    "number_of_columns_info = valid_input_sample['info'].shape[1]\n",
    "# Max sequence title\n",
    "MAX_SEQUENCE_LENGTH_T = valid_input_sample['title'].shape[1]\n",
    "MAX_SEQUENCE_LENGTH_D = valid_input_sample['description'].shape[1]"
   ]
  },
  {
   "cell_type": "code",
   "execution_count": null,
   "metadata": {},
   "outputs": [],
   "source": [
    "valid_input_sample['title'].shape, valid_input_sample['description'].shape, valid_input_sample['info'].shape, valid_sim.shape"
   ]
  },
  {
   "cell_type": "markdown",
   "metadata": {
    "colab_type": "text",
    "id": "24mY22BGnkqp"
   },
   "source": [
    "### Validar entrada"
   ]
  },
  {
   "cell_type": "code",
   "execution_count": null,
   "metadata": {
    "colab": {
     "base_uri": "https://localhost:8080/",
     "height": 796
    },
    "colab_type": "code",
    "id": "OhTbr3a5nmrh",
    "outputId": "a2d73e0f-e9ce-4d12-a5c8-f0008d2402d0",
    "scrolled": true
   },
   "outputs": [],
   "source": [
    "# %%time \n",
    "\n",
    "#baseline.display_batch(baseline.train_data, baseline.dup_sets_train, bug_train_ids, 5)"
   ]
  },
  {
   "cell_type": "code",
   "execution_count": null,
   "metadata": {},
   "outputs": [],
   "source": [
    "\"Test \", len(baseline.test_data)"
   ]
  },
  {
   "cell_type": "markdown",
   "metadata": {
    "colab_type": "text",
    "id": "XPrsLs4Kg4Pa"
   },
   "source": [
    "## Pre-trained embeddings\n",
    "\n",
    "Loading pretrained word vectors"
   ]
  },
  {
   "cell_type": "markdown",
   "metadata": {
    "colab_type": "text",
    "id": "6p9eE5TWoH7p"
   },
   "source": [
    "### Glove"
   ]
  },
  {
   "cell_type": "code",
   "execution_count": null,
   "metadata": {},
   "outputs": [],
   "source": [
    "vocab = baseline.load_vocabulary(os.path.join(DIR, 'vocab_embed.pkl'))\n",
    "#print(np.random.choice(vocab, 10))\n",
    "# for token in vocab:\n",
    "#     print(token)"
   ]
  },
  {
   "cell_type": "code",
   "execution_count": null,
   "metadata": {},
   "outputs": [],
   "source": [
    "\"Total vocabulary: {}\".format(len(vocab))"
   ]
  },
  {
   "cell_type": "code",
   "execution_count": null,
   "metadata": {},
   "outputs": [],
   "source": [
    "def generating_embed(baseline, GLOVE_DIR, EMBEDDING_DIM):\n",
    "    embeddings_index = {}\n",
    "    embed_path = os.path.join(GLOVE_DIR, 'glove.42B.300d.txt')\n",
    "    \n",
    "    f2 = open(embed_path, 'rb')\n",
    "    num_lines = sum(1 for line in f2)\n",
    "    f2.close()\n",
    "    \n",
    "    f = open(embed_path, 'rb')\n",
    "    vocab = baseline.load_vocabulary(os.path.join(baseline.DIR, 'vocab_embed.pkl'))\n",
    "    vocab_size = len(vocab) \n",
    "\n",
    "    # Initialize uniform the vector considering the Tanh activation\n",
    "    embedding_matrix = np.random.uniform(-1.0, 1.0, (num_lines + vocab_size, EMBEDDING_DIM))\n",
    "    embedding_matrix[0, :] = np.zeros(EMBEDDING_DIM)\n",
    "\n",
    "    loop = tqdm(f)\n",
    "    loop.set_description(\"Loading Glove\")\n",
    "    i = 0\n",
    "    for line in loop:\n",
    "        tokens = line.split()\n",
    "        word = tokens[0]\n",
    "        embed = np.asarray(tokens[1:], dtype='float32')\n",
    "        embeddings_index[word] = embed\n",
    "        embedding_matrix[i] = embed\n",
    "        i+=1\n",
    "        loop.update(1)\n",
    "    f.close()\n",
    "    loop.close()\n",
    "\n",
    "    print('Total %s word vectors in Glove 42B 300d.' % len(embeddings_index))\n",
    "\n",
    "    loop = tqdm(total=vocab_size)\n",
    "    loop.set_description('Loading embedding from dataset pretrained')\n",
    "    \n",
    "    for word, embed in vocab.items():\n",
    "        if word in embeddings_index:\n",
    "            embedding_matrix[i] = embeddings_index[word]\n",
    "        else:\n",
    "            embedding_matrix[i] = np.asarray(embed, dtype='float32')\n",
    "        loop.update(1)\n",
    "        i+=1\n",
    "    loop.close()\n",
    "    baseline.embedding_matrix = embedding_matrix"
   ]
  },
  {
   "cell_type": "code",
   "execution_count": 29,
   "metadata": {
    "colab": {
     "base_uri": "https://localhost:8080/",
     "height": 85
    },
    "colab_type": "code",
    "id": "QY-ef3OGoIiq",
    "outputId": "55f4c93c-98bb-4bac-92f2-76bd3b777605"
   },
   "outputs": [
    {
     "name": "stdout",
     "output_type": "stream",
     "text": [
      "\n",
      "Total 1917494 word vectors in Glove 42B 300d.\n"
     ]
    },
    {
     "data": {
      "application/vnd.jupyter.widget-view+json": {
       "model_id": "3b370dac71a2491796a24d62b85dbaa2",
       "version_major": 2,
       "version_minor": 0
      },
      "text/plain": [
       "HBox(children=(IntProgress(value=0, max=19061), HTML(value='')))"
      ]
     },
     "metadata": {},
     "output_type": "display_data"
    },
    {
     "name": "stdout",
     "output_type": "stream",
     "text": [
      "\n",
      "CPU times: user 1min 33s, sys: 3.79 s, total: 1min 37s\n",
      "Wall time: 1min 36s\n"
     ]
    }
   ],
   "source": [
    "%%time\n",
    "\n",
    "generating_embed(baseline, GLOVE_DIR=GLOVE_DIR, EMBEDDING_DIM=EMBEDDING_DIM) # MAX_NB_WORDS=MAX_NB_WORDS"
   ]
  },
  {
   "cell_type": "markdown",
   "metadata": {},
   "source": [
    "## Experiment"
   ]
  },
  {
   "cell_type": "markdown",
   "metadata": {
    "colab_type": "text",
    "id": "Lev5Y7oaFQBd"
   },
   "source": [
    "## Towards Accurate Duplicate Bug Retrieval Using Deep Learning Techniques\n",
    "\n",
    "https://github.com/tqtg/DuplicateBugFinder"
   ]
  },
  {
   "cell_type": "markdown",
   "metadata": {},
   "source": [
    "### Embedding layer"
   ]
  },
  {
   "cell_type": "code",
   "execution_count": 30,
   "metadata": {},
   "outputs": [],
   "source": [
    "from keras.constraints import MaxNorm\n",
    "from keras.initializers import TruncatedNormal, RandomUniform\n",
    "\n",
    "# Is missing the padding_idx used in pytorch\n",
    "# https://pytorch.org/docs/stable/_modules/torch/nn/modules/sparse.html\n",
    "# https://stackoverflow.com/questions/54824768/rnn-model-gru-of-word2vec-to-regression-not-learning\n",
    "def embedding_layer(embeddings, num_words, embedding_dim, max_sequence_length, trainable):\n",
    "    embedding_layer = Embedding(num_words,\n",
    "                                  embedding_dim,\n",
    "                                  name='embedding_layer',\n",
    "                                  weights=[embeddings],\n",
    "                                  embeddings_constraint=MaxNorm(max_value=1, axis=0),\n",
    "                                  #input_length=max_sequence_length,\n",
    "                                  input_length=None,\n",
    "                                  trainable=trainable)\n",
    "    return embedding_layer"
   ]
  },
  {
   "cell_type": "markdown",
   "metadata": {
    "colab_type": "text",
    "id": "sI074wU4Y13y"
   },
   "source": [
    "### CNN with filter 3,4,5"
   ]
  },
  {
   "cell_type": "code",
   "execution_count": 31,
   "metadata": {
    "colab": {
     "base_uri": "https://localhost:8080/",
     "height": 493
    },
    "colab_type": "code",
    "id": "h6YJU9GtFTyq",
    "outputId": "f85cf105-1fd6-491d-d969-7e6936f32739",
    "scrolled": false
   },
   "outputs": [],
   "source": [
    "import keras\n",
    "from keras.layers import GlobalMaxPooling1D, GlobalAveragePooling1D\n",
    "\n",
    "def cnn_model(embedding_layer, max_sequence_length):\n",
    "\n",
    "    sequence_input = Input(shape=(max_sequence_length,), name='Feature_BugInput')\n",
    "    #sequence_input = Input(shape=(None,), name='Feature_BugInput')\n",
    "    embedded_sequences = embedding_layer(sequence_input)\n",
    "\n",
    "    # Yoon Kim model (https://arxiv.org/abs/1408.5882)\n",
    "    # best combination filter (3, 4, 5) e 128 e 256\n",
    "    convs = []\n",
    "    filter_sizes = [3, 4, 5]\n",
    "    n_filters = 64\n",
    "\n",
    "    for index, filter_size in enumerate(filter_sizes):\n",
    "        l_conv = Conv1D(filters=n_filters, kernel_size=filter_size)(embedded_sequences)\n",
    "        l_pool = MaxPooling1D(pool_size=filter_size)(l_conv) # index+1\n",
    "        convs.append(l_pool)\n",
    "\n",
    "    l_merge = Concatenate(axis=1)(convs)\n",
    "\n",
    "    # add a 1D convnet with global maxpooling, instead of Yoon Kim model\n",
    "    #conv = Conv1D(filters=n_filters * 3, kernel_size=3)(l_merge)\n",
    "    layer = GlobalAveragePooling1D()(l_merge)\n",
    "    #layer = Flatten()(l_merge)\n",
    "    layer = Dense(300, activation='tanh')(layer)\n",
    "    #layer = LeakyReLU()(layer)\n",
    "\n",
    "    cnn_feature_model = Model(inputs=[sequence_input], outputs=[layer], name = 'FeatureCNNGenerationModel') # inputs=visible\n",
    "\n",
    "    return cnn_feature_model"
   ]
  },
  {
   "cell_type": "markdown",
   "metadata": {
    "colab_type": "text",
    "id": "wr6ObTXiaALH"
   },
   "source": [
    "### Bi-LSTM"
   ]
  },
  {
   "cell_type": "code",
   "execution_count": 32,
   "metadata": {
    "colab": {
     "base_uri": "https://localhost:8080/",
     "height": 306
    },
    "colab_type": "code",
    "id": "vC7MQXEsaCeG",
    "outputId": "65e647a9-c5d3-4009-b8a4-2e2d97b52684"
   },
   "outputs": [],
   "source": [
    "from keras.layers import Dense, Input, LSTM, GRU, Dropout, Bidirectional, GlobalAveragePooling1D, TimeDistributed\n",
    "\n",
    "def lstm_model(embedding_layer, max_sequence_length):\n",
    "    number_lstm_units = 75\n",
    "    rate_drop_lstm = 0\n",
    "    recurrent_dropout = 0\n",
    "\n",
    "    sequence_input = Input(shape=(max_sequence_length, ), name='Feature_BugInput')\n",
    "    #sequence_input = Input(shape=(None, ), name='Feature_BugInput')\n",
    "    embedded_sequences = embedding_layer(sequence_input)\n",
    "\n",
    "    left_layer = LSTM(number_lstm_units, return_sequences=True)(embedded_sequences)\n",
    "    right_layer = LSTM(number_lstm_units, return_sequences=True, go_backwards=True)(left_layer)\n",
    "    \n",
    "    lstm_layer = Concatenate()([left_layer, right_layer])\n",
    "    \n",
    "    #lstm_layer = TimeDistributed(Dense(50))(lstm_layer)\n",
    "    #layer = Flatten()(lstm_layer)\n",
    "    layer = GlobalAveragePooling1D()(lstm_layer)\n",
    "    layer = Dense(300, activation='tanh')(layer)\n",
    "\n",
    "    lstm_feature_model = Model(inputs=[sequence_input], outputs=[layer], name = 'FeatureLstmGenerationModel') # inputs=visible\n",
    "\n",
    "    return lstm_feature_model"
   ]
  },
  {
   "cell_type": "markdown",
   "metadata": {},
   "source": [
    "### MLP"
   ]
  },
  {
   "cell_type": "code",
   "execution_count": 33,
   "metadata": {},
   "outputs": [],
   "source": [
    "def mlp_model(input_size):\n",
    "    info_input = Input(shape=(input_size, ), name='Feature_BugInput')\n",
    "    input_size = 300\n",
    "    \n",
    "    for units in [64, 32]:\n",
    "        layer = Dense(units, activation='tanh', kernel_initializer='random_uniform')(info_input)\n",
    "    \n",
    "    layer = Dense(input_size, activation='tanh')(info_input)\n",
    "    \n",
    "    mlp_feature_model = Model(inputs=[info_input], outputs=[layer], name = 'FeatureMlpGenerationModel')\n",
    "    \n",
    "    return mlp_feature_model"
   ]
  },
  {
   "cell_type": "markdown",
   "metadata": {
    "colab_type": "text",
    "id": "TEedCg5AaTf2"
   },
   "source": [
    "### Siamese model"
   ]
  },
  {
   "cell_type": "code",
   "execution_count": 34,
   "metadata": {},
   "outputs": [],
   "source": [
    "def pairwise_distance(feature, squared=False):\n",
    "    \"\"\"Computes the pairwise distance matrix with numerical stability.\n",
    "\n",
    "    output[i, j] = || feature[i, :] - feature[j, :] ||_2\n",
    "\n",
    "    Args:\n",
    "      feature: 2-D Tensor of size [number of data, feature dimension].\n",
    "      squared: Boolean, whether or not to square the pairwise distances.\n",
    "\n",
    "    Returns:\n",
    "      pairwise_distances: 2-D Tensor of size [number of data, number of data].\n",
    "    \"\"\"\n",
    "    pairwise_distances_squared = math_ops.add(\n",
    "        math_ops.reduce_sum(math_ops.square(feature), axis=[1], keepdims=True),\n",
    "        math_ops.reduce_sum(\n",
    "            math_ops.square(array_ops.transpose(feature)),\n",
    "            axis=[0],\n",
    "            keepdims=True)) - 2.0 * math_ops.matmul(feature,\n",
    "                                                    array_ops.transpose(feature))\n",
    "\n",
    "    # Deal with numerical inaccuracies. Set small negatives to zero.\n",
    "    pairwise_distances_squared = math_ops.maximum(pairwise_distances_squared, 0.0)\n",
    "    # Get the mask where the zero distances are at.\n",
    "    error_mask = math_ops.less_equal(pairwise_distances_squared, 0.0)\n",
    "\n",
    "    # Optionally take the sqrt.\n",
    "    if squared:\n",
    "        pairwise_distances = pairwise_distances_squared\n",
    "    else:\n",
    "        pairwise_distances = math_ops.sqrt(\n",
    "            pairwise_distances_squared + math_ops.to_float(error_mask) * 1e-16)\n",
    "\n",
    "    # Undo conditionally adding 1e-16.\n",
    "    pairwise_distances = math_ops.multiply(\n",
    "        pairwise_distances, math_ops.to_float(math_ops.logical_not(error_mask)))\n",
    "\n",
    "    num_data = array_ops.shape(feature)[0]\n",
    "    # Explicitly set diagonals to zero.\n",
    "    mask_offdiagonals = array_ops.ones_like(pairwise_distances) - array_ops.diag(\n",
    "        array_ops.ones([num_data]))\n",
    "    pairwise_distances = math_ops.multiply(pairwise_distances, mask_offdiagonals)\n",
    "    return pairwise_distances\n",
    "\n",
    "def masked_maximum(data, mask, dim=1):\n",
    "    \"\"\"Computes the axis wise maximum over chosen elements.\n",
    "\n",
    "    Args:\n",
    "      data: 2-D float `Tensor` of size [n, m].\n",
    "      mask: 2-D Boolean `Tensor` of size [n, m].\n",
    "      dim: The dimension over which to compute the maximum.\n",
    "\n",
    "    Returns:\n",
    "      masked_maximums: N-D `Tensor`.\n",
    "        The maximized dimension is of size 1 after the operation.\n",
    "    \"\"\"\n",
    "    axis_minimums = math_ops.reduce_min(data, dim, keepdims=True)\n",
    "    masked_maximums = math_ops.reduce_max(\n",
    "        math_ops.multiply(data - axis_minimums, mask), dim,\n",
    "        keepdims=True) + axis_minimums\n",
    "    return masked_maximums\n",
    "\n",
    "def masked_minimum(data, mask, dim=1):\n",
    "    \"\"\"Computes the axis wise minimum over chosen elements.\n",
    "\n",
    "    Args:\n",
    "      data: 2-D float `Tensor` of size [n, m].\n",
    "      mask: 2-D Boolean `Tensor` of size [n, m].\n",
    "      dim: The dimension over which to compute the minimum.\n",
    "\n",
    "    Returns:\n",
    "      masked_minimums: N-D `Tensor`.\n",
    "        The minimized dimension is of size 1 after the operation.\n",
    "    \"\"\"\n",
    "    axis_maximums = math_ops.reduce_max(data, dim, keepdims=True)\n",
    "    masked_minimums = math_ops.reduce_min(\n",
    "        math_ops.multiply(data - axis_maximums, mask), dim,\n",
    "        keepdims=True) + axis_maximums\n",
    "    return masked_minimums"
   ]
  },
  {
   "cell_type": "code",
   "execution_count": 35,
   "metadata": {},
   "outputs": [],
   "source": [
    "## required for semi-hard triplet loss:\n",
    "from tensorflow.python.ops import array_ops\n",
    "from tensorflow.python.ops import math_ops\n",
    "from tensorflow.python.framework import dtypes\n",
    "import tensorflow as tf\n",
    "\n",
    "def triplet_loss_adapted_from_tf(y_true, y_pred):\n",
    "    del y_true\n",
    "    margin = 1.\n",
    "    labels = y_pred[:, :1]\n",
    " \n",
    "    labels = tf.cast(labels, dtype='int32')\n",
    "\n",
    "    embeddings = y_pred[:, 1:]\n",
    "\n",
    "    ### Code from Tensorflow function [tf.contrib.losses.metric_learning.triplet_semihard_loss] starts here:\n",
    "    \n",
    "    # Reshape [batch_size] label tensor to a [batch_size, 1] label tensor.\n",
    "    # lshape=array_ops.shape(labels)\n",
    "    # assert lshape.shape == 1\n",
    "    # labels = array_ops.reshape(labels, [lshape[0], 1])\n",
    "\n",
    "    # Build pairwise squared distance matrix.\n",
    "    pdist_matrix = pairwise_distance(embeddings, squared=True)\n",
    "    # Build pairwise binary adjacency matrix.\n",
    "    adjacency = math_ops.equal(labels, array_ops.transpose(labels))\n",
    "    # Invert so we can select negatives only.\n",
    "    adjacency_not = math_ops.logical_not(adjacency)\n",
    "\n",
    "    # global batch_size  \n",
    "    batch_size = array_ops.size(labels) # was 'array_ops.size(labels)'\n",
    "\n",
    "    # Compute the mask.\n",
    "    pdist_matrix_tile = array_ops.tile(pdist_matrix, [batch_size, 1])\n",
    "    mask = math_ops.logical_and(\n",
    "        array_ops.tile(adjacency_not, [batch_size, 1]),\n",
    "        math_ops.greater(\n",
    "            pdist_matrix_tile, array_ops.reshape(\n",
    "                array_ops.transpose(pdist_matrix), [-1, 1])))\n",
    "    mask_final = array_ops.reshape(\n",
    "        math_ops.greater(\n",
    "            math_ops.reduce_sum(\n",
    "                math_ops.cast(mask, dtype=dtypes.float32), 1, keepdims=True),\n",
    "            0.0), [batch_size, batch_size])\n",
    "    mask_final = array_ops.transpose(mask_final)\n",
    "\n",
    "    adjacency_not = math_ops.cast(adjacency_not, dtype=dtypes.float32)\n",
    "    mask = math_ops.cast(mask, dtype=dtypes.float32)\n",
    "\n",
    "    # negatives_outside: smallest D_an where D_an > D_ap.\n",
    "    negatives_outside = array_ops.reshape(\n",
    "        masked_minimum(pdist_matrix_tile, mask), [batch_size, batch_size])\n",
    "    negatives_outside = array_ops.transpose(negatives_outside)\n",
    "\n",
    "    # negatives_inside: largest D_an.\n",
    "    negatives_inside = array_ops.tile(\n",
    "        masked_maximum(pdist_matrix, adjacency_not), [1, batch_size])\n",
    "    semi_hard_negatives = array_ops.where(\n",
    "        mask_final, negatives_outside, negatives_inside)\n",
    "\n",
    "    loss_mat = math_ops.add(margin, pdist_matrix - semi_hard_negatives)\n",
    "\n",
    "    mask_positives = math_ops.cast(\n",
    "        adjacency, dtype=dtypes.float32) - array_ops.diag(\n",
    "        array_ops.ones([batch_size]))\n",
    "\n",
    "    # In lifted-struct, the authors multiply 0.5 for upper triangular\n",
    "    #   in semihard, they take all positive pairs except the diagonal.\n",
    "    num_positives = math_ops.reduce_sum(mask_positives)\n",
    "\n",
    "    semi_hard_triplet_loss_distance = math_ops.truediv(\n",
    "        math_ops.reduce_sum(\n",
    "            math_ops.maximum(\n",
    "                math_ops.multiply(loss_mat, mask_positives), 0.0)),\n",
    "        num_positives,\n",
    "        name='triplet_semihard_loss')\n",
    "    \n",
    "    ### Code from Tensorflow function semi-hard triplet loss ENDS here.\n",
    "    return semi_hard_triplet_loss_distance"
   ]
  },
  {
   "cell_type": "code",
   "execution_count": 36,
   "metadata": {},
   "outputs": [],
   "source": [
    "from keras.layers import concatenate, Add, Lambda, merge, Average, Maximum\n",
    "from keras.optimizers import Adam, Nadam\n",
    "\n",
    "def siamese_model(title_feature_model, desc_feature_model, categorical_feature_model, sequence_length_info, \n",
    "                  sequence_length_t, sequence_length_d, name):\n",
    "  \n",
    "    bug_t = Input(shape = (sequence_length_t, ), name = 'title_{}'.format(name))\n",
    "    bug_d = Input(shape = (sequence_length_d, ), name = 'desc_{}'.format(name))\n",
    "    bug_i = Input(shape = (sequence_length_info, ), name = 'info_{}'.format(name))\n",
    "    \n",
    "    bug_t_feat = title_feature_model(bug_t)\n",
    "    bug_d_feat = desc_feature_model(bug_d)\n",
    "    bug_i_feat = categorical_feature_model(bug_i)\n",
    "    \n",
    "    #bug_feature_output = Add(name = 'merge_features_{}'.format(name))([bug_i_feat, bug_t_feat, bug_d_feat])\n",
    "    bug_feature_output = concatenate([bug_i_feat, bug_t_feat, bug_d_feat], name = 'merge_features_{}'.format(name))\n",
    "    \n",
    "    #     bug_feature_output = Activation('tanh')(bug_feature_output)\n",
    "    \n",
    "    # Bug representation layer\n",
    "    # bug_feature_output = Dense(300, activation='tanh')(bug_feature_output)\n",
    "    \n",
    "    bug_feature_model = Model(inputs=[bug_t, bug_d, bug_i], outputs=[bug_feature_output], name = 'merge_features_{}'.format(name))\n",
    "    \n",
    "    return bug_feature_model"
   ]
  },
  {
   "cell_type": "code",
   "execution_count": 37,
   "metadata": {},
   "outputs": [],
   "source": [
    "def max_margin_objective(encoded_anchor, decay_lr=1):\n",
    "    \n",
    "    input_labels = Input(shape=(1,), name='input_label')    # input layer for labels\n",
    "    inputs = np.concatenate([encoded_anchor.input, [input_labels]], -1).tolist()\n",
    "    \n",
    "    encoded_anchor = encoded_anchor.output\n",
    "    \n",
    "    output = concatenate([input_labels, encoded_anchor])  # concatenating the labels + embeddings\n",
    "    \n",
    "    similarity_model = Model(inputs = inputs, outputs = output, name = 'Similarity_Model')\n",
    "\n",
    "    #optimizer = Nadam(lr=1e-3, beta_1=0.9, beta_2=0.999, epsilon=K.epsilon(), schedule_decay=0.01)\n",
    "    # optimizer = Adam(lr=1e-3 * decay_lr, beta_1=0.9, beta_2=0.999, epsilon=None, decay=0.0, amsgrad=True)\n",
    "\n",
    "    # setup the optimization process \n",
    "    similarity_model.compile(optimizer='adam', loss=triplet_loss_adapted_from_tf) \n",
    "    # metrics=[pos_distance, neg_distance, custom_margin_loss]\n",
    "\n",
    "    return similarity_model"
   ]
  },
  {
   "cell_type": "code",
   "execution_count": 38,
   "metadata": {},
   "outputs": [],
   "source": [
    "# Domain to use\n",
    "limit_train = int(epochs * freeze_train) # 10% de 1000 , 100 epocas\n",
    "METHOD = 'baseline_{}'.format(limit_train)\n",
    "SAVE_PATH = '{}_preprocessing_{}_feature@number_of_epochs@epochs_64batch({})'.format(PREPROCESSING, METHOD, DOMAIN)\n",
    "SAVE_PATH_FEATURE = '{}_preprocessing_{}_feature_@number_of_epochs@epochs_64batch({})'.format(PREPROCESSING, METHOD, DOMAIN)"
   ]
  },
  {
   "cell_type": "code",
   "execution_count": 39,
   "metadata": {},
   "outputs": [],
   "source": [
    "import _pickle as pickle\n",
    "def save_loss(result):\n",
    "    with open(os.path.join(DIR,'{}_log.pkl'.format(METHOD)), 'wb') as f:\n",
    "        pickle.dump(result, f)\n",
    "    print(\"=> result saved!\")"
   ]
  },
  {
   "cell_type": "code",
   "execution_count": 40,
   "metadata": {
    "scrolled": true
   },
   "outputs": [
    {
     "name": "stdout",
     "output_type": "stream",
     "text": [
      "WARNING:tensorflow:From /usr/local/lib/python3.5/dist-packages/keras/backend/tensorflow_backend.py:95: The name tf.reset_default_graph is deprecated. Please use tf.compat.v1.reset_default_graph instead.\n",
      "\n",
      "WARNING:tensorflow:From /usr/local/lib/python3.5/dist-packages/keras/backend/tensorflow_backend.py:98: The name tf.placeholder_with_default is deprecated. Please use tf.compat.v1.placeholder_with_default instead.\n",
      "\n",
      "WARNING:tensorflow:From /usr/local/lib/python3.5/dist-packages/keras/backend/tensorflow_backend.py:102: The name tf.get_default_graph is deprecated. Please use tf.compat.v1.get_default_graph instead.\n",
      "\n",
      "WARNING:tensorflow:From /usr/local/lib/python3.5/dist-packages/keras/backend/tensorflow_backend.py:517: The name tf.placeholder is deprecated. Please use tf.compat.v1.placeholder instead.\n",
      "\n",
      "WARNING:tensorflow:From /usr/local/lib/python3.5/dist-packages/keras/backend/tensorflow_backend.py:4138: The name tf.random_uniform is deprecated. Please use tf.random.uniform instead.\n",
      "\n",
      "WARNING:tensorflow:From /usr/local/lib/python3.5/dist-packages/keras/backend/tensorflow_backend.py:174: The name tf.get_default_session is deprecated. Please use tf.compat.v1.get_default_session instead.\n",
      "\n",
      "WARNING:tensorflow:From /usr/local/lib/python3.5/dist-packages/keras/backend/tensorflow_backend.py:181: The name tf.ConfigProto is deprecated. Please use tf.compat.v1.ConfigProto instead.\n",
      "\n",
      "WARNING:tensorflow:From /usr/local/lib/python3.5/dist-packages/keras/backend/tensorflow_backend.py:186: The name tf.Session is deprecated. Please use tf.compat.v1.Session instead.\n",
      "\n",
      "WARNING:tensorflow:From /usr/local/lib/python3.5/dist-packages/keras/backend/tensorflow_backend.py:190: The name tf.global_variables is deprecated. Please use tf.compat.v1.global_variables instead.\n",
      "\n",
      "WARNING:tensorflow:From /usr/local/lib/python3.5/dist-packages/keras/backend/tensorflow_backend.py:199: The name tf.is_variable_initialized is deprecated. Please use tf.compat.v1.is_variable_initialized instead.\n",
      "\n",
      "WARNING:tensorflow:From /usr/local/lib/python3.5/dist-packages/keras/backend/tensorflow_backend.py:206: The name tf.variables_initializer is deprecated. Please use tf.compat.v1.variables_initializer instead.\n",
      "\n",
      "WARNING:tensorflow:From /usr/local/lib/python3.5/dist-packages/keras/backend/tensorflow_backend.py:3976: The name tf.nn.max_pool is deprecated. Please use tf.nn.max_pool2d instead.\n",
      "\n",
      "WARNING:tensorflow:From /usr/local/lib/python3.5/dist-packages/keras/optimizers.py:790: The name tf.train.Optimizer is deprecated. Please use tf.compat.v1.train.Optimizer instead.\n",
      "\n",
      "WARNING:tensorflow:From <ipython-input-34-cd325db98846>:35: to_float (from tensorflow.python.ops.math_ops) is deprecated and will be removed in a future version.\n",
      "Instructions for updating:\n",
      "Use `tf.cast` instead.\n",
      "WARNING:tensorflow:From <ipython-input-35-3672f63e3254>:59: where (from tensorflow.python.ops.array_ops) is deprecated and will be removed in a future version.\n",
      "Instructions for updating:\n",
      "Use tf.where in 2.0, which has the same broadcast rule as np.where\n",
      "__________________________________________________________________________________________________\n",
      "Layer (type)                    Output Shape         Param #     Connected to                     \n",
      "==================================================================================================\n",
      "info_in (InputLayer)            (None, 544)          0                                            \n",
      "__________________________________________________________________________________________________\n",
      "title_in (InputLayer)           (None, 20)           0                                            \n",
      "__________________________________________________________________________________________________\n",
      "desc_in (InputLayer)            (None, 20)           0                                            \n",
      "__________________________________________________________________________________________________\n",
      "FeatureMlpGenerationModel (Mode (None, 300)          163500      info_in[0][0]                    \n",
      "__________________________________________________________________________________________________\n",
      "FeatureLstmGenerationModel (Mod (None, 300)          581169900   title_in[0][0]                   \n",
      "__________________________________________________________________________________________________\n",
      "FeatureCNNGenerationModel (Mode (None, 300)          581216592   desc_in[0][0]                    \n",
      "__________________________________________________________________________________________________\n",
      "input_label (InputLayer)        (None, 1)            0                                            \n",
      "__________________________________________________________________________________________________\n",
      "merge_features_in (Concatenate) (None, 900)          0           FeatureMlpGenerationModel[1][0]  \n",
      "                                                                 FeatureLstmGenerationModel[1][0] \n",
      "                                                                 FeatureCNNGenerationModel[1][0]  \n",
      "__________________________________________________________________________________________________\n",
      "concatenate_3 (Concatenate)     (None, 901)          0           input_label[0][0]                \n",
      "                                                                 merge_features_in[0][0]          \n",
      "==================================================================================================\n",
      "Total params: 1,162,549,992\n",
      "Trainable params: 616,992\n",
      "Non-trainable params: 1,161,933,000\n",
      "__________________________________________________________________________________________________\n",
      "Total of  100\n",
      "WARNING:tensorflow:From /usr/local/lib/python3.5/dist-packages/keras/backend/tensorflow_backend.py:986: The name tf.assign_add is deprecated. Please use tf.compat.v1.assign_add instead.\n",
      "\n",
      "WARNING:tensorflow:From /usr/local/lib/python3.5/dist-packages/keras/backend/tensorflow_backend.py:973: The name tf.assign is deprecated. Please use tf.compat.v1.assign instead.\n",
      "\n",
      "Epoch: 1 Loss: 0.49, Loss_test: 0.50\n",
      "Epoch: 2 Loss: 0.64, Loss_test: 0.50\n",
      "Epoch: 3 Loss: 0.44, Loss_test: 0.49\n",
      "Epoch: 4 Loss: 0.58, Loss_test: 0.48\n",
      "Epoch: 5 Loss: 0.42, Loss_test: 0.46\n",
      "Epoch: 6 Loss: 0.63, Loss_test: 0.44\n",
      "Epoch: 7 Loss: 0.47, Loss_test: 0.42\n",
      "Epoch: 8 Loss: 0.46, Loss_test: 0.40\n",
      "Epoch: 9 Loss: 0.39, Loss_test: 0.38\n",
      "=> result saved!\n",
      "Epoch: 10 Loss: 0.59, Loss_test: 0.37\n",
      "Epoch: 11 Loss: 0.48, Loss_test: 0.36\n",
      "Epoch: 12 Loss: 0.50, Loss_test: 0.34\n",
      "Epoch: 13 Loss: 0.51, Loss_test: 0.31\n",
      "Epoch: 14 Loss: 0.50, Loss_test: 0.30\n",
      "Epoch: 15 Loss: 0.35, Loss_test: 0.29\n",
      "Epoch: 16 Loss: 0.43, Loss_test: 0.26\n",
      "Epoch: 17 Loss: 0.45, Loss_test: 0.25\n",
      "Epoch: 18 Loss: 0.29, Loss_test: 0.25\n",
      "Epoch: 19 Loss: 0.36, Loss_test: 0.23\n",
      "=> result saved!\n",
      "Epoch: 20 Loss: 0.37, Loss_test: 0.22\n",
      "Epoch: 21 Loss: 0.37, Loss_test: 0.22\n",
      "Epoch: 22 Loss: 0.32, Loss_test: 0.22\n",
      "Epoch: 23 Loss: 0.30, Loss_test: 0.23\n",
      "Epoch: 24 Loss: 0.44, Loss_test: 0.22\n",
      "Epoch: 25 Loss: 0.40, Loss_test: 0.22\n",
      "Epoch: 26 Loss: 0.29, Loss_test: 0.20\n",
      "Epoch: 27 Loss: 0.29, Loss_test: 0.21\n",
      "Epoch: 28 Loss: 0.34, Loss_test: 0.21\n",
      "Epoch: 29 Loss: 0.36, Loss_test: 0.20\n",
      "=> result saved!\n",
      "Epoch: 30 Loss: 0.21, Loss_test: 0.20\n",
      "Epoch: 31 Loss: 0.28, Loss_test: 0.20\n",
      "Epoch: 32 Loss: 0.26, Loss_test: 0.19\n",
      "Epoch: 33 Loss: 0.35, Loss_test: 0.19\n",
      "Epoch: 34 Loss: 0.16, Loss_test: 0.19\n",
      "Epoch: 35 Loss: 0.28, Loss_test: 0.19\n",
      "Epoch: 36 Loss: 0.34, Loss_test: 0.20\n",
      "Epoch: 37 Loss: 0.29, Loss_test: 0.20\n",
      "Epoch: 38 Loss: 0.25, Loss_test: 0.18\n",
      "Epoch: 39 Loss: 0.21, Loss_test: 0.17\n",
      "=> result saved!\n",
      "Epoch: 40 Loss: 0.23, Loss_test: 0.17\n",
      "Epoch: 41 Loss: 0.21, Loss_test: 0.17\n",
      "Epoch: 42 Loss: 0.22, Loss_test: 0.18\n",
      "Epoch: 43 Loss: 0.25, Loss_test: 0.17\n",
      "Epoch: 44 Loss: 0.11, Loss_test: 0.16\n",
      "Epoch: 45 Loss: 0.25, Loss_test: 0.17\n",
      "Epoch: 46 Loss: 0.23, Loss_test: 0.16\n",
      "Epoch: 47 Loss: 0.18, Loss_test: 0.13\n",
      "Epoch: 48 Loss: 0.25, Loss_test: 0.12\n",
      "Epoch: 49 Loss: 0.19, Loss_test: 0.10\n",
      "=> result saved!\n",
      "Epoch: 50 Loss: 0.17, Loss_test: 0.09\n",
      "Epoch: 51 Loss: 0.26, Loss_test: 0.10\n",
      "Epoch: 52 Loss: 0.23, Loss_test: 0.09\n",
      "Epoch: 53 Loss: 0.25, Loss_test: 0.10\n",
      "Epoch: 54 Loss: 0.22, Loss_test: 0.10\n",
      "Epoch: 55 Loss: 0.15, Loss_test: 0.10\n",
      "Epoch: 56 Loss: 0.22, Loss_test: 0.10\n",
      "Epoch: 57 Loss: 0.18, Loss_test: 0.10\n"
     ]
    },
    {
     "name": "stdout",
     "output_type": "stream",
     "text": [
      "Epoch: 58 Loss: 0.18, Loss_test: 0.10\n",
      "Epoch: 59 Loss: 0.20, Loss_test: 0.10\n",
      "=> result saved!\n",
      "Epoch: 60 Loss: 0.25, Loss_test: 0.10\n",
      "Epoch: 61 Loss: 0.21, Loss_test: 0.10\n",
      "Epoch: 62 Loss: 0.23, Loss_test: 0.10\n",
      "Epoch: 63 Loss: 0.15, Loss_test: 0.09\n",
      "Epoch: 64 Loss: 0.17, Loss_test: 0.09\n",
      "Epoch: 65 Loss: 0.34, Loss_test: 0.09\n",
      "Epoch: 66 Loss: 0.19, Loss_test: 0.10\n",
      "Epoch: 67 Loss: 0.26, Loss_test: 0.09\n",
      "Epoch: 68 Loss: 0.20, Loss_test: 0.11\n",
      "Epoch: 69 Loss: 0.22, Loss_test: 0.09\n",
      "=> result saved!\n",
      "Epoch: 70 Loss: 0.19, Loss_test: 0.08\n",
      "Epoch: 71 Loss: 0.24, Loss_test: 0.08\n",
      "Epoch: 72 Loss: 0.13, Loss_test: 0.08\n",
      "Epoch: 73 Loss: 0.22, Loss_test: 0.08\n",
      "Epoch: 74 Loss: 0.13, Loss_test: 0.09\n",
      "Epoch: 75 Loss: 0.20, Loss_test: 0.09\n",
      "Epoch: 76 Loss: 0.13, Loss_test: 0.08\n",
      "Epoch: 77 Loss: 0.18, Loss_test: 0.08\n",
      "Epoch: 78 Loss: 0.17, Loss_test: 0.11\n",
      "Epoch: 79 Loss: 0.10, Loss_test: 0.11\n",
      "=> result saved!\n",
      "Epoch: 80 Loss: 0.16, Loss_test: 0.10\n",
      "Epoch: 81 Loss: 0.15, Loss_test: 0.08\n",
      "Epoch: 82 Loss: 0.18, Loss_test: 0.07\n",
      "Epoch: 83 Loss: 0.11, Loss_test: 0.07\n",
      "Epoch: 84 Loss: 0.14, Loss_test: 0.07\n",
      "Epoch: 85 Loss: 0.08, Loss_test: 0.07\n",
      "Epoch: 86 Loss: 0.10, Loss_test: 0.07\n",
      "Epoch: 87 Loss: 0.13, Loss_test: 0.08\n",
      "Epoch: 88 Loss: 0.12, Loss_test: 0.08\n",
      "Epoch: 89 Loss: 0.20, Loss_test: 0.09\n",
      "=> result saved!\n",
      "Epoch: 90 Loss: 0.17, Loss_test: 0.09\n",
      "Epoch: 91 Loss: 0.13, Loss_test: 0.09\n",
      "Epoch: 92 Loss: 0.15, Loss_test: 0.08\n",
      "Epoch: 93 Loss: 0.21, Loss_test: 0.07\n",
      "Epoch: 94 Loss: 0.09, Loss_test: 0.06\n",
      "Epoch: 95 Loss: 0.18, Loss_test: 0.07\n",
      "Epoch: 96 Loss: 0.09, Loss_test: 0.06\n",
      "Epoch: 97 Loss: 0.10, Loss_test: 0.07\n",
      "Epoch: 98 Loss: 0.15, Loss_test: 0.07\n",
      "Epoch: 99 Loss: 0.12, Loss_test: 0.08\n",
      "=> result saved!\n",
      "Epoch: 100 Loss: 0.20, Loss_test: 0.12, recall@25: 0.56\n",
      "Best_epoch=85, Best_loss=0.08, Recall@25=0.56\n",
      "CPU times: user 9min 4s, sys: 1min 21s, total: 10min 26s\n",
      "Wall time: 3min 17s\n"
     ]
    }
   ],
   "source": [
    "%%time\n",
    "import keras\n",
    "\n",
    "# Inspired on https://'pastebin.com/TaGFdcBA\n",
    "# TODO: https://stackoverflow.com/questions/49941903/keras-compute-cosine-distance-between-two-flattened-outputs\n",
    "keras.backend.clear_session()\n",
    "\n",
    "# Clear GPU memory\n",
    "# from numba import cuda\n",
    "# cuda.select_device(0)\n",
    "# cuda.close()\n",
    "\n",
    "# Embeddings\n",
    "desc_embedding_layer = embedding_layer(embeddings=baseline.embedding_matrix, \n",
    "                              num_words=len(baseline.embedding_matrix), \n",
    "                              embedding_dim=EMBEDDING_DIM, \n",
    "                              max_sequence_length=MAX_SEQUENCE_LENGTH_D, \n",
    "                              trainable=False)\n",
    "title_embedding_layer = embedding_layer(embeddings=baseline.embedding_matrix, \n",
    "                              num_words=len(baseline.embedding_matrix), \n",
    "                              embedding_dim=EMBEDDING_DIM, \n",
    "                              max_sequence_length=MAX_SEQUENCE_LENGTH_T, \n",
    "                              trainable=False)\n",
    "\n",
    "# Feature models\n",
    "'''\n",
    "    cnn_model\n",
    "    lstm_model\n",
    "    mlp_model\n",
    "'''\n",
    "desc_feature_model = cnn_model(desc_embedding_layer, MAX_SEQUENCE_LENGTH_D)\n",
    "title_feature_model = lstm_model(title_embedding_layer, MAX_SEQUENCE_LENGTH_T)\n",
    "categorical_feature_model = mlp_model(number_of_columns_info)\n",
    "\n",
    "# Similarity model\n",
    "encoded_anchor = siamese_model(title_feature_model, desc_feature_model, categorical_feature_model, \n",
    "                                     number_of_columns_info, MAX_SEQUENCE_LENGTH_T, MAX_SEQUENCE_LENGTH_D, 'in')\n",
    "\n",
    "similarity_model = max_margin_objective(encoded_anchor, decay_lr=1)\n",
    "\n",
    "# cnn_feature_model.summary()\n",
    "# lstm_feature_model.summary()\n",
    "similarity_model.summary()\n",
    "\n",
    "'''\n",
    "    Experiment\n",
    "'''\n",
    "result = { 'train' : [], 'test' : [] }\n",
    "print(\"Total of \", limit_train)\n",
    "for epoch in range(limit_train):\n",
    "    batch_triplet_train, \\\n",
    "        train_input_sample, train_sim = batch_iterator(baseline, retrieval, encoded_anchor, baseline.train_data, \n",
    "                                                       baseline.dup_sets_train, bug_train_ids, \n",
    "                                                           batch_size, 1, issues_by_buckets, TRIPLET_HARD=False)\n",
    "    train_batch = [train_input_sample['title'], train_input_sample['description'], train_input_sample['info'], train_sim]\n",
    "    \n",
    "    h = similarity_model.train_on_batch(x=train_batch, y=train_sim)\n",
    "    h_validation = similarity_model.test_on_batch(x=validation_sample, y=valid_sim)\n",
    "    \n",
    "     # save results\n",
    "    result['train'].append(h)\n",
    "    result['test'].append(h_validation)\n",
    "    \n",
    "    if( (epoch+1) % 10 == 0 or (epoch+1 == limit_train) ):\n",
    "        save_loss(result)\n",
    "    \n",
    "    if (epoch+1 == limit_train): #(epoch > 1 and epoch % 10 == 0) or (epoch+1 == epochs):\n",
    "        recall, exported_rank, debug = experiment.evaluate_validation_test(retrieval, verbose, encoded_anchor, issues_by_buckets, bug_train_ids)\n",
    "        print(\"Epoch: {} Loss: {:.2f}, Loss_test: {:.2f}, recall@25: {:.2f}\".format(epoch+1, h, h_validation, recall))\n",
    "    else:\n",
    "        print(\"Epoch: {} Loss: {:.2f}, Loss_test: {:.2f}\".format(epoch+1, h, h_validation))\n",
    "    loss = h\n",
    "    \n",
    "    if loss < best_loss:\n",
    "        best_loss = loss\n",
    "        best_epoch = epoch+1\n",
    "\n",
    "#experiment.save_model(similarity_model, SAVE_PATH.replace('@number_of_epochs@', str(epochs)))\n",
    "#experiment.save_model(encoded_anchor, SAVE_PATH_FEATURE.replace('@number_of_epochs@', str(epochs)), verbose=1)\n",
    "print('Best_epoch={}, Best_loss={:.2f}, Recall@25={:.2f}'.format(best_epoch, best_loss, recall))"
   ]
  },
  {
   "cell_type": "code",
   "execution_count": 41,
   "metadata": {},
   "outputs": [
    {
     "data": {
      "text/plain": [
       "'data/processed/netbeans/bert/exported_rank_baseline_100.txt'"
      ]
     },
     "execution_count": 41,
     "metadata": {},
     "output_type": "execute_result"
    }
   ],
   "source": [
    "EXPORT_RANK_PATH = os.path.join(DIR, 'exported_rank_{}.txt'.format(METHOD))\n",
    "EXPORT_RANK_PATH"
   ]
  },
  {
   "cell_type": "code",
   "execution_count": 42,
   "metadata": {},
   "outputs": [],
   "source": [
    "with open(EXPORT_RANK_PATH, 'w') as file_out:\n",
    "    for row in exported_rank:\n",
    "        file_out.write(row + \"\\n\")"
   ]
  },
  {
   "cell_type": "code",
   "execution_count": 43,
   "metadata": {},
   "outputs": [
    {
     "name": "stdout",
     "output_type": "stream",
     "text": [
      "Saved model 'modelos/model_bert_preprocessing_baseline_100_feature_100epochs_64batch(netbeans).h5' to disk\n"
     ]
    }
   ],
   "source": [
    "experiment.save_model(similarity_model, SAVE_PATH.replace('@number_of_epochs@', str(limit_train)))\n",
    "experiment.save_model(encoded_anchor, SAVE_PATH_FEATURE.replace('@number_of_epochs@', str(limit_train)), verbose=1)"
   ]
  },
  {
   "cell_type": "code",
   "execution_count": 44,
   "metadata": {},
   "outputs": [
    {
     "data": {
      "text/plain": [
       "(100, 100)"
      ]
     },
     "execution_count": 44,
     "metadata": {},
     "output_type": "execute_result"
    }
   ],
   "source": [
    "len(result['train']), len(result['test'])"
   ]
  },
  {
   "cell_type": "code",
   "execution_count": 45,
   "metadata": {},
   "outputs": [
    {
     "name": "stdout",
     "output_type": "stream",
     "text": [
      "__________________________________________________________________________________________________\n",
      "Layer (type)                    Output Shape         Param #     Connected to                     \n",
      "==================================================================================================\n",
      "info_in (InputLayer)            (None, 544)          0                                            \n",
      "__________________________________________________________________________________________________\n",
      "title_in (InputLayer)           (None, 20)           0                                            \n",
      "__________________________________________________________________________________________________\n",
      "desc_in (InputLayer)            (None, 20)           0                                            \n",
      "__________________________________________________________________________________________________\n",
      "FeatureMlpGenerationModel (Mode (None, 300)          163500      info_in[0][0]                    \n",
      "__________________________________________________________________________________________________\n",
      "FeatureLstmGenerationModel (Mod (None, 300)          581169900   title_in[0][0]                   \n",
      "__________________________________________________________________________________________________\n",
      "FeatureCNNGenerationModel (Mode (None, 300)          581216592   desc_in[0][0]                    \n",
      "__________________________________________________________________________________________________\n",
      "input_label (InputLayer)        (None, 1)            0                                            \n",
      "__________________________________________________________________________________________________\n",
      "merge_features_in (Concatenate) (None, 900)          0           FeatureMlpGenerationModel[1][0]  \n",
      "                                                                 FeatureLstmGenerationModel[1][0] \n",
      "                                                                 FeatureCNNGenerationModel[1][0]  \n",
      "__________________________________________________________________________________________________\n",
      "concatenate_3 (Concatenate)     (None, 901)          0           input_label[0][0]                \n",
      "                                                                 merge_features_in[0][0]          \n",
      "==================================================================================================\n",
      "Total params: 1,162,549,992\n",
      "Trainable params: 616,992\n",
      "Non-trainable params: 1,161,933,000\n",
      "__________________________________________________________________________________________________\n"
     ]
    }
   ],
   "source": [
    "model = similarity_model.get_layer('concatenate_3')\n",
    "output = model.output\n",
    "inputs = similarity_model.inputs\n",
    "model = Model(inputs = inputs, outputs = output, name = 'Similarity_Model')\n",
    "\n",
    "# setup the optimization process \n",
    "model.compile(optimizer='adam', loss=triplet_loss_adapted_from_tf)\n",
    "model.summary()"
   ]
  },
  {
   "cell_type": "code",
   "execution_count": 46,
   "metadata": {},
   "outputs": [],
   "source": [
    "# Domain to use\n",
    "METHOD = 'baseline_{}'.format(epochs)\n",
    "SAVE_PATH = '{}_preprocessing_{}_feature@number_of_epochs@epochs_64batch({})'.format(PREPROCESSING, METHOD, DOMAIN)\n",
    "SAVE_PATH_FEATURE = '{}_preprocessing_{}_feature_@number_of_epochs@epochs_64batch({})'.format(PREPROCESSING, METHOD, DOMAIN)"
   ]
  },
  {
   "cell_type": "code",
   "execution_count": 47,
   "metadata": {
    "scrolled": true
   },
   "outputs": [
    {
     "name": "stdout",
     "output_type": "stream",
     "text": [
      "Epoch: 101 Loss: 0.18, Loss_test: 0.08\n",
      "Epoch: 102 Loss: 0.12, Loss_test: 0.08\n",
      "Epoch: 103 Loss: 0.22, Loss_test: 0.07\n",
      "Epoch: 104 Loss: 0.15, Loss_test: 0.07\n",
      "Epoch: 105 Loss: 0.19, Loss_test: 0.07\n",
      "Epoch: 106 Loss: 0.18, Loss_test: 0.06\n",
      "Epoch: 107 Loss: 0.12, Loss_test: 0.06\n",
      "Epoch: 108 Loss: 0.09, Loss_test: 0.07\n",
      "Epoch: 109 Loss: 0.16, Loss_test: 0.07\n",
      "=> result saved!\n",
      "Epoch: 110 Loss: 0.22, Loss_test: 0.07\n",
      "Epoch: 111 Loss: 0.11, Loss_test: 0.07\n",
      "Epoch: 112 Loss: 0.08, Loss_test: 0.07\n",
      "Epoch: 113 Loss: 0.12, Loss_test: 0.08\n",
      "Epoch: 114 Loss: 0.14, Loss_test: 0.07\n",
      "Epoch: 115 Loss: 0.14, Loss_test: 0.07\n",
      "Epoch: 116 Loss: 0.13, Loss_test: 0.08\n",
      "Epoch: 117 Loss: 0.10, Loss_test: 0.08\n",
      "Epoch: 118 Loss: 0.12, Loss_test: 0.07\n",
      "Epoch: 119 Loss: 0.13, Loss_test: 0.07\n",
      "=> result saved!\n",
      "Epoch: 120 Loss: 0.14, Loss_test: 0.06\n",
      "Epoch: 121 Loss: 0.08, Loss_test: 0.06\n",
      "Epoch: 122 Loss: 0.16, Loss_test: 0.06\n",
      "Epoch: 123 Loss: 0.07, Loss_test: 0.06\n",
      "Epoch: 124 Loss: 0.11, Loss_test: 0.06\n",
      "Epoch: 125 Loss: 0.15, Loss_test: 0.06\n",
      "Epoch: 126 Loss: 0.10, Loss_test: 0.06\n",
      "Epoch: 127 Loss: 0.12, Loss_test: 0.06\n",
      "Epoch: 128 Loss: 0.09, Loss_test: 0.06\n",
      "Epoch: 129 Loss: 0.08, Loss_test: 0.06\n",
      "=> result saved!\n",
      "Epoch: 130 Loss: 0.13, Loss_test: 0.06\n",
      "Epoch: 131 Loss: 0.11, Loss_test: 0.06\n",
      "Epoch: 132 Loss: 0.14, Loss_test: 0.06\n",
      "Epoch: 133 Loss: 0.21, Loss_test: 0.06\n",
      "Epoch: 134 Loss: 0.13, Loss_test: 0.06\n",
      "Epoch: 135 Loss: 0.11, Loss_test: 0.06\n",
      "Epoch: 136 Loss: 0.15, Loss_test: 0.06\n",
      "Epoch: 137 Loss: 0.07, Loss_test: 0.06\n",
      "Epoch: 138 Loss: 0.08, Loss_test: 0.06\n",
      "Epoch: 139 Loss: 0.07, Loss_test: 0.05\n",
      "=> result saved!\n",
      "Epoch: 140 Loss: 0.09, Loss_test: 0.05\n",
      "Epoch: 141 Loss: 0.13, Loss_test: 0.05\n",
      "Epoch: 142 Loss: 0.06, Loss_test: 0.05\n",
      "Epoch: 143 Loss: 0.13, Loss_test: 0.05\n",
      "Epoch: 144 Loss: 0.14, Loss_test: 0.05\n",
      "Epoch: 145 Loss: 0.11, Loss_test: 0.06\n",
      "Epoch: 146 Loss: 0.15, Loss_test: 0.06\n",
      "Epoch: 147 Loss: 0.09, Loss_test: 0.05\n",
      "Epoch: 148 Loss: 0.09, Loss_test: 0.05\n",
      "Epoch: 149 Loss: 0.21, Loss_test: 0.04\n",
      "=> result saved!\n",
      "Epoch: 150 Loss: 0.12, Loss_test: 0.05\n",
      "Epoch: 151 Loss: 0.13, Loss_test: 0.05\n",
      "Epoch: 152 Loss: 0.06, Loss_test: 0.05\n",
      "Epoch: 153 Loss: 0.06, Loss_test: 0.05\n",
      "Epoch: 154 Loss: 0.09, Loss_test: 0.05\n",
      "Epoch: 155 Loss: 0.14, Loss_test: 0.05\n",
      "Epoch: 156 Loss: 0.14, Loss_test: 0.05\n",
      "Epoch: 157 Loss: 0.09, Loss_test: 0.05\n",
      "Epoch: 158 Loss: 0.10, Loss_test: 0.05\n",
      "Epoch: 159 Loss: 0.09, Loss_test: 0.05\n",
      "=> result saved!\n",
      "Epoch: 160 Loss: 0.08, Loss_test: 0.05\n",
      "Epoch: 161 Loss: 0.14, Loss_test: 0.04\n",
      "Epoch: 162 Loss: 0.08, Loss_test: 0.04\n",
      "Epoch: 163 Loss: 0.10, Loss_test: 0.05\n",
      "Epoch: 164 Loss: 0.11, Loss_test: 0.04\n",
      "Epoch: 165 Loss: 0.17, Loss_test: 0.04\n",
      "Epoch: 166 Loss: 0.09, Loss_test: 0.04\n",
      "Epoch: 167 Loss: 0.10, Loss_test: 0.05\n",
      "Epoch: 168 Loss: 0.12, Loss_test: 0.05\n",
      "Epoch: 169 Loss: 0.08, Loss_test: 0.05\n",
      "=> result saved!\n",
      "Epoch: 170 Loss: 0.11, Loss_test: 0.05\n",
      "Epoch: 171 Loss: 0.12, Loss_test: 0.05\n",
      "Epoch: 172 Loss: 0.04, Loss_test: 0.05\n",
      "Epoch: 173 Loss: 0.06, Loss_test: 0.05\n",
      "Epoch: 174 Loss: 0.07, Loss_test: 0.05\n",
      "Epoch: 175 Loss: 0.06, Loss_test: 0.05\n",
      "Epoch: 176 Loss: 0.13, Loss_test: 0.05\n",
      "Epoch: 177 Loss: 0.10, Loss_test: 0.04\n",
      "Epoch: 178 Loss: 0.06, Loss_test: 0.05\n",
      "Epoch: 179 Loss: 0.10, Loss_test: 0.05\n",
      "=> result saved!\n",
      "Epoch: 180 Loss: 0.13, Loss_test: 0.05\n",
      "Epoch: 181 Loss: 0.13, Loss_test: 0.05\n",
      "Epoch: 182 Loss: 0.14, Loss_test: 0.05\n",
      "Epoch: 183 Loss: 0.16, Loss_test: 0.04\n",
      "Epoch: 184 Loss: 0.07, Loss_test: 0.04\n",
      "Epoch: 185 Loss: 0.09, Loss_test: 0.04\n",
      "Epoch: 186 Loss: 0.05, Loss_test: 0.04\n",
      "Epoch: 187 Loss: 0.08, Loss_test: 0.05\n",
      "Epoch: 188 Loss: 0.12, Loss_test: 0.05\n",
      "Epoch: 189 Loss: 0.11, Loss_test: 0.05\n",
      "=> result saved!\n",
      "Epoch: 190 Loss: 0.09, Loss_test: 0.04\n",
      "Epoch: 191 Loss: 0.08, Loss_test: 0.04\n",
      "Epoch: 192 Loss: 0.11, Loss_test: 0.04\n",
      "Epoch: 193 Loss: 0.09, Loss_test: 0.04\n",
      "Epoch: 194 Loss: 0.06, Loss_test: 0.04\n",
      "Epoch: 195 Loss: 0.11, Loss_test: 0.04\n",
      "Epoch: 196 Loss: 0.07, Loss_test: 0.04\n",
      "Epoch: 197 Loss: 0.06, Loss_test: 0.04\n",
      "Epoch: 198 Loss: 0.08, Loss_test: 0.03\n",
      "Epoch: 199 Loss: 0.08, Loss_test: 0.04\n",
      "=> result saved!\n",
      "Epoch: 200 Loss: 0.06, Loss_test: 0.04\n",
      "Epoch: 201 Loss: 0.09, Loss_test: 0.04\n",
      "Epoch: 202 Loss: 0.11, Loss_test: 0.03\n",
      "Epoch: 203 Loss: 0.07, Loss_test: 0.03\n",
      "Epoch: 204 Loss: 0.08, Loss_test: 0.03\n",
      "Epoch: 205 Loss: 0.08, Loss_test: 0.03\n",
      "Epoch: 206 Loss: 0.06, Loss_test: 0.03\n",
      "Epoch: 207 Loss: 0.08, Loss_test: 0.03\n",
      "Epoch: 208 Loss: 0.09, Loss_test: 0.03\n",
      "Epoch: 209 Loss: 0.10, Loss_test: 0.03\n",
      "=> result saved!\n",
      "Epoch: 210 Loss: 0.04, Loss_test: 0.03\n",
      "Epoch: 211 Loss: 0.06, Loss_test: 0.03\n",
      "Epoch: 212 Loss: 0.07, Loss_test: 0.03\n",
      "Epoch: 213 Loss: 0.06, Loss_test: 0.03\n",
      "Epoch: 214 Loss: 0.09, Loss_test: 0.03\n",
      "Epoch: 215 Loss: 0.08, Loss_test: 0.03\n",
      "Epoch: 216 Loss: 0.05, Loss_test: 0.03\n",
      "Epoch: 217 Loss: 0.11, Loss_test: 0.03\n",
      "Epoch: 218 Loss: 0.05, Loss_test: 0.04\n",
      "Epoch: 219 Loss: 0.07, Loss_test: 0.04\n",
      "=> result saved!\n",
      "Epoch: 220 Loss: 0.11, Loss_test: 0.04\n",
      "Epoch: 221 Loss: 0.08, Loss_test: 0.04\n",
      "Epoch: 222 Loss: 0.08, Loss_test: 0.04\n",
      "Epoch: 223 Loss: 0.05, Loss_test: 0.04\n",
      "Epoch: 224 Loss: 0.10, Loss_test: 0.03\n",
      "Epoch: 225 Loss: 0.08, Loss_test: 0.04\n",
      "Epoch: 226 Loss: 0.09, Loss_test: 0.04\n",
      "Epoch: 227 Loss: 0.09, Loss_test: 0.04\n",
      "Epoch: 228 Loss: 0.09, Loss_test: 0.04\n",
      "Epoch: 229 Loss: 0.07, Loss_test: 0.03\n",
      "=> result saved!\n",
      "Epoch: 230 Loss: 0.03, Loss_test: 0.03\n",
      "Epoch: 231 Loss: 0.07, Loss_test: 0.03\n",
      "Epoch: 232 Loss: 0.08, Loss_test: 0.03\n",
      "Epoch: 233 Loss: 0.05, Loss_test: 0.03\n",
      "Epoch: 234 Loss: 0.09, Loss_test: 0.04\n",
      "Epoch: 235 Loss: 0.05, Loss_test: 0.05\n",
      "Epoch: 236 Loss: 0.06, Loss_test: 0.04\n",
      "Epoch: 237 Loss: 0.04, Loss_test: 0.04\n",
      "Epoch: 238 Loss: 0.08, Loss_test: 0.04\n",
      "Epoch: 239 Loss: 0.06, Loss_test: 0.04\n",
      "=> result saved!\n",
      "Epoch: 240 Loss: 0.08, Loss_test: 0.04\n",
      "Epoch: 241 Loss: 0.07, Loss_test: 0.04\n",
      "Epoch: 242 Loss: 0.07, Loss_test: 0.04\n",
      "Epoch: 243 Loss: 0.06, Loss_test: 0.03\n",
      "Epoch: 244 Loss: 0.08, Loss_test: 0.03\n",
      "Epoch: 245 Loss: 0.05, Loss_test: 0.04\n",
      "Epoch: 246 Loss: 0.11, Loss_test: 0.04\n",
      "Epoch: 247 Loss: 0.08, Loss_test: 0.04\n",
      "Epoch: 248 Loss: 0.05, Loss_test: 0.04\n",
      "Epoch: 249 Loss: 0.08, Loss_test: 0.04\n",
      "=> result saved!\n",
      "Epoch: 250 Loss: 0.07, Loss_test: 0.03\n",
      "Epoch: 251 Loss: 0.05, Loss_test: 0.03\n",
      "Epoch: 252 Loss: 0.07, Loss_test: 0.03\n",
      "Epoch: 253 Loss: 0.09, Loss_test: 0.03\n",
      "Epoch: 254 Loss: 0.09, Loss_test: 0.04\n",
      "Epoch: 255 Loss: 0.09, Loss_test: 0.04\n",
      "Epoch: 256 Loss: 0.05, Loss_test: 0.03\n",
      "Epoch: 257 Loss: 0.05, Loss_test: 0.04\n",
      "Epoch: 258 Loss: 0.13, Loss_test: 0.04\n",
      "Epoch: 259 Loss: 0.08, Loss_test: 0.04\n",
      "=> result saved!\n",
      "Epoch: 260 Loss: 0.10, Loss_test: 0.04\n",
      "Epoch: 261 Loss: 0.06, Loss_test: 0.05\n",
      "Epoch: 262 Loss: 0.08, Loss_test: 0.04\n",
      "Epoch: 263 Loss: 0.06, Loss_test: 0.04\n",
      "Epoch: 264 Loss: 0.08, Loss_test: 0.04\n",
      "Epoch: 265 Loss: 0.07, Loss_test: 0.04\n",
      "Epoch: 266 Loss: 0.07, Loss_test: 0.03\n",
      "Epoch: 267 Loss: 0.08, Loss_test: 0.03\n",
      "Epoch: 268 Loss: 0.05, Loss_test: 0.03\n",
      "Epoch: 269 Loss: 0.10, Loss_test: 0.03\n",
      "=> result saved!\n",
      "Epoch: 270 Loss: 0.10, Loss_test: 0.04\n",
      "Epoch: 271 Loss: 0.08, Loss_test: 0.03\n",
      "Epoch: 272 Loss: 0.10, Loss_test: 0.04\n",
      "Epoch: 273 Loss: 0.06, Loss_test: 0.04\n",
      "Epoch: 274 Loss: 0.07, Loss_test: 0.04\n",
      "Epoch: 275 Loss: 0.09, Loss_test: 0.04\n",
      "Epoch: 276 Loss: 0.06, Loss_test: 0.04\n",
      "Epoch: 277 Loss: 0.13, Loss_test: 0.03\n",
      "Epoch: 278 Loss: 0.05, Loss_test: 0.03\n",
      "Epoch: 279 Loss: 0.06, Loss_test: 0.02\n",
      "=> result saved!\n",
      "Epoch: 280 Loss: 0.09, Loss_test: 0.02\n",
      "Epoch: 281 Loss: 0.04, Loss_test: 0.02\n",
      "Epoch: 282 Loss: 0.04, Loss_test: 0.02\n",
      "Epoch: 283 Loss: 0.07, Loss_test: 0.03\n",
      "Epoch: 284 Loss: 0.05, Loss_test: 0.02\n",
      "Epoch: 285 Loss: 0.04, Loss_test: 0.02\n",
      "Epoch: 286 Loss: 0.06, Loss_test: 0.02\n",
      "Epoch: 287 Loss: 0.06, Loss_test: 0.03\n",
      "Epoch: 288 Loss: 0.09, Loss_test: 0.03\n",
      "Epoch: 289 Loss: 0.08, Loss_test: 0.03\n",
      "=> result saved!\n",
      "Epoch: 290 Loss: 0.06, Loss_test: 0.03\n",
      "Epoch: 291 Loss: 0.05, Loss_test: 0.03\n",
      "Epoch: 292 Loss: 0.08, Loss_test: 0.03\n",
      "Epoch: 293 Loss: 0.07, Loss_test: 0.03\n",
      "Epoch: 294 Loss: 0.04, Loss_test: 0.02\n",
      "Epoch: 295 Loss: 0.04, Loss_test: 0.02\n",
      "Epoch: 296 Loss: 0.09, Loss_test: 0.02\n",
      "Epoch: 297 Loss: 0.05, Loss_test: 0.02\n",
      "Epoch: 298 Loss: 0.08, Loss_test: 0.02\n",
      "Epoch: 299 Loss: 0.08, Loss_test: 0.02\n",
      "=> result saved!\n",
      "Epoch: 300 Loss: 0.06, Loss_test: 0.03\n",
      "Epoch: 301 Loss: 0.05, Loss_test: 0.03\n",
      "Epoch: 302 Loss: 0.06, Loss_test: 0.03\n"
     ]
    },
    {
     "name": "stdout",
     "output_type": "stream",
     "text": [
      "Epoch: 303 Loss: 0.07, Loss_test: 0.04\n",
      "Epoch: 304 Loss: 0.07, Loss_test: 0.03\n",
      "Epoch: 305 Loss: 0.09, Loss_test: 0.03\n",
      "Epoch: 306 Loss: 0.08, Loss_test: 0.03\n",
      "Epoch: 307 Loss: 0.07, Loss_test: 0.03\n",
      "Epoch: 308 Loss: 0.05, Loss_test: 0.03\n",
      "Epoch: 309 Loss: 0.08, Loss_test: 0.03\n",
      "=> result saved!\n",
      "Epoch: 310 Loss: 0.10, Loss_test: 0.03\n",
      "Epoch: 311 Loss: 0.07, Loss_test: 0.03\n",
      "Epoch: 312 Loss: 0.10, Loss_test: 0.03\n",
      "Epoch: 313 Loss: 0.06, Loss_test: 0.03\n",
      "Epoch: 314 Loss: 0.08, Loss_test: 0.02\n",
      "Epoch: 315 Loss: 0.05, Loss_test: 0.02\n",
      "Epoch: 316 Loss: 0.06, Loss_test: 0.03\n",
      "Epoch: 317 Loss: 0.07, Loss_test: 0.02\n",
      "Epoch: 318 Loss: 0.04, Loss_test: 0.02\n",
      "Epoch: 319 Loss: 0.06, Loss_test: 0.02\n",
      "=> result saved!\n",
      "Epoch: 320 Loss: 0.06, Loss_test: 0.02\n",
      "Epoch: 321 Loss: 0.06, Loss_test: 0.02\n",
      "Epoch: 322 Loss: 0.07, Loss_test: 0.02\n",
      "Epoch: 323 Loss: 0.03, Loss_test: 0.02\n",
      "Epoch: 324 Loss: 0.08, Loss_test: 0.02\n",
      "Epoch: 325 Loss: 0.11, Loss_test: 0.02\n",
      "Epoch: 326 Loss: 0.05, Loss_test: 0.02\n",
      "Epoch: 327 Loss: 0.04, Loss_test: 0.02\n",
      "Epoch: 328 Loss: 0.04, Loss_test: 0.03\n",
      "Epoch: 329 Loss: 0.04, Loss_test: 0.02\n",
      "=> result saved!\n",
      "Epoch: 330 Loss: 0.04, Loss_test: 0.02\n",
      "Epoch: 331 Loss: 0.07, Loss_test: 0.02\n",
      "Epoch: 332 Loss: 0.07, Loss_test: 0.02\n",
      "Epoch: 333 Loss: 0.04, Loss_test: 0.02\n",
      "Epoch: 334 Loss: 0.09, Loss_test: 0.02\n",
      "Epoch: 335 Loss: 0.06, Loss_test: 0.02\n",
      "Epoch: 336 Loss: 0.09, Loss_test: 0.03\n",
      "Epoch: 337 Loss: 0.08, Loss_test: 0.03\n",
      "Epoch: 338 Loss: 0.09, Loss_test: 0.03\n",
      "Epoch: 339 Loss: 0.03, Loss_test: 0.03\n",
      "=> result saved!\n",
      "Epoch: 340 Loss: 0.05, Loss_test: 0.02\n",
      "Epoch: 341 Loss: 0.08, Loss_test: 0.02\n",
      "Epoch: 342 Loss: 0.04, Loss_test: 0.02\n",
      "Epoch: 343 Loss: 0.04, Loss_test: 0.02\n",
      "Epoch: 344 Loss: 0.10, Loss_test: 0.03\n",
      "Epoch: 345 Loss: 0.05, Loss_test: 0.03\n",
      "Epoch: 346 Loss: 0.07, Loss_test: 0.03\n",
      "Epoch: 347 Loss: 0.08, Loss_test: 0.02\n",
      "Epoch: 348 Loss: 0.07, Loss_test: 0.03\n",
      "Epoch: 349 Loss: 0.06, Loss_test: 0.03\n",
      "=> result saved!\n",
      "Epoch: 350 Loss: 0.06, Loss_test: 0.04\n",
      "Epoch: 351 Loss: 0.08, Loss_test: 0.03\n",
      "Epoch: 352 Loss: 0.07, Loss_test: 0.03\n",
      "Epoch: 353 Loss: 0.06, Loss_test: 0.02\n",
      "Epoch: 354 Loss: 0.05, Loss_test: 0.02\n",
      "Epoch: 355 Loss: 0.06, Loss_test: 0.02\n",
      "Epoch: 356 Loss: 0.06, Loss_test: 0.02\n",
      "Epoch: 357 Loss: 0.12, Loss_test: 0.03\n",
      "Epoch: 358 Loss: 0.05, Loss_test: 0.03\n",
      "Epoch: 359 Loss: 0.05, Loss_test: 0.02\n",
      "=> result saved!\n",
      "Epoch: 360 Loss: 0.04, Loss_test: 0.03\n",
      "Epoch: 361 Loss: 0.05, Loss_test: 0.03\n",
      "Epoch: 362 Loss: 0.03, Loss_test: 0.03\n",
      "Epoch: 363 Loss: 0.07, Loss_test: 0.02\n",
      "Epoch: 364 Loss: 0.08, Loss_test: 0.02\n",
      "Epoch: 365 Loss: 0.06, Loss_test: 0.02\n",
      "Epoch: 366 Loss: 0.08, Loss_test: 0.02\n",
      "Epoch: 367 Loss: 0.06, Loss_test: 0.02\n",
      "Epoch: 368 Loss: 0.02, Loss_test: 0.02\n",
      "Epoch: 369 Loss: 0.06, Loss_test: 0.02\n",
      "=> result saved!\n",
      "Epoch: 370 Loss: 0.09, Loss_test: 0.02\n",
      "Epoch: 371 Loss: 0.05, Loss_test: 0.03\n",
      "Epoch: 372 Loss: 0.07, Loss_test: 0.02\n",
      "Epoch: 373 Loss: 0.05, Loss_test: 0.02\n",
      "Epoch: 374 Loss: 0.08, Loss_test: 0.03\n",
      "Epoch: 375 Loss: 0.02, Loss_test: 0.02\n",
      "Epoch: 376 Loss: 0.04, Loss_test: 0.03\n",
      "Epoch: 377 Loss: 0.05, Loss_test: 0.03\n",
      "Epoch: 378 Loss: 0.09, Loss_test: 0.03\n",
      "Epoch: 379 Loss: 0.07, Loss_test: 0.03\n",
      "=> result saved!\n",
      "Epoch: 380 Loss: 0.07, Loss_test: 0.03\n",
      "Epoch: 381 Loss: 0.07, Loss_test: 0.03\n",
      "Epoch: 382 Loss: 0.03, Loss_test: 0.03\n",
      "Epoch: 383 Loss: 0.05, Loss_test: 0.02\n",
      "Epoch: 384 Loss: 0.06, Loss_test: 0.02\n",
      "Epoch: 385 Loss: 0.04, Loss_test: 0.02\n",
      "Epoch: 386 Loss: 0.09, Loss_test: 0.02\n",
      "Epoch: 387 Loss: 0.07, Loss_test: 0.02\n",
      "Epoch: 388 Loss: 0.07, Loss_test: 0.02\n",
      "Epoch: 389 Loss: 0.05, Loss_test: 0.02\n",
      "=> result saved!\n",
      "Epoch: 390 Loss: 0.07, Loss_test: 0.03\n",
      "Epoch: 391 Loss: 0.06, Loss_test: 0.02\n",
      "Epoch: 392 Loss: 0.07, Loss_test: 0.02\n",
      "Epoch: 393 Loss: 0.04, Loss_test: 0.02\n",
      "Epoch: 394 Loss: 0.09, Loss_test: 0.02\n",
      "Epoch: 395 Loss: 0.05, Loss_test: 0.02\n",
      "Epoch: 396 Loss: 0.07, Loss_test: 0.02\n",
      "Epoch: 397 Loss: 0.06, Loss_test: 0.02\n",
      "Epoch: 398 Loss: 0.08, Loss_test: 0.02\n",
      "Epoch: 399 Loss: 0.05, Loss_test: 0.02\n",
      "=> result saved!\n",
      "Epoch: 400 Loss: 0.07, Loss_test: 0.02\n",
      "Epoch: 401 Loss: 0.09, Loss_test: 0.02\n",
      "Epoch: 402 Loss: 0.09, Loss_test: 0.03\n",
      "Epoch: 403 Loss: 0.03, Loss_test: 0.03\n",
      "Epoch: 404 Loss: 0.04, Loss_test: 0.03\n",
      "Epoch: 405 Loss: 0.03, Loss_test: 0.03\n",
      "Epoch: 406 Loss: 0.06, Loss_test: 0.03\n",
      "Epoch: 407 Loss: 0.06, Loss_test: 0.02\n",
      "Epoch: 408 Loss: 0.04, Loss_test: 0.03\n",
      "Epoch: 409 Loss: 0.05, Loss_test: 0.02\n",
      "=> result saved!\n",
      "Epoch: 410 Loss: 0.05, Loss_test: 0.02\n",
      "Epoch: 411 Loss: 0.05, Loss_test: 0.02\n",
      "Epoch: 412 Loss: 0.05, Loss_test: 0.02\n",
      "Epoch: 413 Loss: 0.05, Loss_test: 0.02\n",
      "Epoch: 414 Loss: 0.03, Loss_test: 0.02\n",
      "Epoch: 415 Loss: 0.05, Loss_test: 0.02\n",
      "Epoch: 416 Loss: 0.08, Loss_test: 0.02\n",
      "Epoch: 417 Loss: 0.05, Loss_test: 0.02\n",
      "Epoch: 418 Loss: 0.05, Loss_test: 0.02\n",
      "Epoch: 419 Loss: 0.04, Loss_test: 0.02\n",
      "=> result saved!\n",
      "Epoch: 420 Loss: 0.05, Loss_test: 0.02\n",
      "Epoch: 421 Loss: 0.07, Loss_test: 0.02\n",
      "Epoch: 422 Loss: 0.05, Loss_test: 0.02\n",
      "Epoch: 423 Loss: 0.05, Loss_test: 0.02\n",
      "Epoch: 424 Loss: 0.04, Loss_test: 0.02\n",
      "Epoch: 425 Loss: 0.05, Loss_test: 0.02\n",
      "Epoch: 426 Loss: 0.05, Loss_test: 0.03\n",
      "Epoch: 427 Loss: 0.06, Loss_test: 0.02\n",
      "Epoch: 428 Loss: 0.06, Loss_test: 0.02\n",
      "Epoch: 429 Loss: 0.05, Loss_test: 0.03\n",
      "=> result saved!\n",
      "Epoch: 430 Loss: 0.10, Loss_test: 0.03\n",
      "Epoch: 431 Loss: 0.06, Loss_test: 0.03\n",
      "Epoch: 432 Loss: 0.04, Loss_test: 0.03\n",
      "Epoch: 433 Loss: 0.05, Loss_test: 0.03\n",
      "Epoch: 434 Loss: 0.07, Loss_test: 0.03\n",
      "Epoch: 435 Loss: 0.09, Loss_test: 0.03\n",
      "Epoch: 436 Loss: 0.03, Loss_test: 0.02\n",
      "Epoch: 437 Loss: 0.05, Loss_test: 0.02\n",
      "Epoch: 438 Loss: 0.05, Loss_test: 0.02\n",
      "Epoch: 439 Loss: 0.03, Loss_test: 0.02\n",
      "=> result saved!\n",
      "Epoch: 440 Loss: 0.08, Loss_test: 0.02\n",
      "Epoch: 441 Loss: 0.05, Loss_test: 0.02\n",
      "Epoch: 442 Loss: 0.05, Loss_test: 0.02\n",
      "Epoch: 443 Loss: 0.07, Loss_test: 0.02\n",
      "Epoch: 444 Loss: 0.03, Loss_test: 0.02\n",
      "Epoch: 445 Loss: 0.09, Loss_test: 0.02\n",
      "Epoch: 446 Loss: 0.04, Loss_test: 0.02\n",
      "Epoch: 447 Loss: 0.06, Loss_test: 0.02\n",
      "Epoch: 448 Loss: 0.04, Loss_test: 0.02\n",
      "Epoch: 449 Loss: 0.03, Loss_test: 0.02\n",
      "=> result saved!\n",
      "Epoch: 450 Loss: 0.05, Loss_test: 0.02\n",
      "Epoch: 451 Loss: 0.05, Loss_test: 0.02\n",
      "Epoch: 452 Loss: 0.06, Loss_test: 0.02\n",
      "Epoch: 453 Loss: 0.06, Loss_test: 0.02\n",
      "Epoch: 454 Loss: 0.05, Loss_test: 0.02\n",
      "Epoch: 455 Loss: 0.05, Loss_test: 0.02\n",
      "Epoch: 456 Loss: 0.05, Loss_test: 0.02\n",
      "Epoch: 457 Loss: 0.03, Loss_test: 0.02\n",
      "Epoch: 458 Loss: 0.03, Loss_test: 0.02\n",
      "Epoch: 459 Loss: 0.04, Loss_test: 0.02\n",
      "=> result saved!\n",
      "Epoch: 460 Loss: 0.07, Loss_test: 0.02\n",
      "Epoch: 461 Loss: 0.05, Loss_test: 0.02\n",
      "Epoch: 462 Loss: 0.06, Loss_test: 0.02\n",
      "Epoch: 463 Loss: 0.07, Loss_test: 0.02\n",
      "Epoch: 464 Loss: 0.06, Loss_test: 0.02\n",
      "Epoch: 465 Loss: 0.05, Loss_test: 0.02\n",
      "Epoch: 466 Loss: 0.03, Loss_test: 0.02\n",
      "Epoch: 467 Loss: 0.05, Loss_test: 0.02\n",
      "Epoch: 468 Loss: 0.03, Loss_test: 0.02\n",
      "Epoch: 469 Loss: 0.05, Loss_test: 0.02\n",
      "=> result saved!\n",
      "Epoch: 470 Loss: 0.05, Loss_test: 0.02\n",
      "Epoch: 471 Loss: 0.06, Loss_test: 0.02\n",
      "Epoch: 472 Loss: 0.07, Loss_test: 0.02\n",
      "Epoch: 473 Loss: 0.05, Loss_test: 0.02\n",
      "Epoch: 474 Loss: 0.03, Loss_test: 0.02\n",
      "Epoch: 475 Loss: 0.02, Loss_test: 0.02\n",
      "Epoch: 476 Loss: 0.03, Loss_test: 0.02\n",
      "Epoch: 477 Loss: 0.03, Loss_test: 0.02\n",
      "Epoch: 478 Loss: 0.08, Loss_test: 0.02\n",
      "Epoch: 479 Loss: 0.05, Loss_test: 0.02\n",
      "=> result saved!\n",
      "Epoch: 480 Loss: 0.03, Loss_test: 0.02\n",
      "Epoch: 481 Loss: 0.04, Loss_test: 0.02\n",
      "Epoch: 482 Loss: 0.03, Loss_test: 0.02\n",
      "Epoch: 483 Loss: 0.05, Loss_test: 0.02\n",
      "Epoch: 484 Loss: 0.04, Loss_test: 0.02\n",
      "Epoch: 485 Loss: 0.05, Loss_test: 0.02\n",
      "Epoch: 486 Loss: 0.04, Loss_test: 0.02\n",
      "Epoch: 487 Loss: 0.03, Loss_test: 0.02\n",
      "Epoch: 488 Loss: 0.04, Loss_test: 0.02\n",
      "Epoch: 489 Loss: 0.04, Loss_test: 0.02\n",
      "=> result saved!\n",
      "Epoch: 490 Loss: 0.04, Loss_test: 0.02\n",
      "Epoch: 491 Loss: 0.03, Loss_test: 0.02\n",
      "Epoch: 492 Loss: 0.04, Loss_test: 0.02\n",
      "Epoch: 493 Loss: 0.04, Loss_test: 0.01\n",
      "Epoch: 494 Loss: 0.04, Loss_test: 0.01\n",
      "Epoch: 495 Loss: 0.06, Loss_test: 0.01\n",
      "Epoch: 496 Loss: 0.04, Loss_test: 0.01\n",
      "Epoch: 497 Loss: 0.05, Loss_test: 0.02\n",
      "Epoch: 498 Loss: 0.04, Loss_test: 0.01\n",
      "Epoch: 499 Loss: 0.03, Loss_test: 0.01\n",
      "=> result saved!\n",
      "Epoch: 500 Loss: 0.05, Loss_test: 0.01\n",
      "Epoch: 501 Loss: 0.05, Loss_test: 0.01\n",
      "Epoch: 502 Loss: 0.04, Loss_test: 0.01\n",
      "Epoch: 503 Loss: 0.03, Loss_test: 0.01\n",
      "Epoch: 504 Loss: 0.05, Loss_test: 0.02\n"
     ]
    },
    {
     "name": "stdout",
     "output_type": "stream",
     "text": [
      "Epoch: 505 Loss: 0.04, Loss_test: 0.02\n",
      "Epoch: 506 Loss: 0.04, Loss_test: 0.02\n",
      "Epoch: 507 Loss: 0.04, Loss_test: 0.02\n",
      "Epoch: 508 Loss: 0.03, Loss_test: 0.02\n",
      "Epoch: 509 Loss: 0.02, Loss_test: 0.01\n",
      "=> result saved!\n",
      "Epoch: 510 Loss: 0.06, Loss_test: 0.02\n",
      "Epoch: 511 Loss: 0.06, Loss_test: 0.02\n",
      "Epoch: 512 Loss: 0.06, Loss_test: 0.02\n",
      "Epoch: 513 Loss: 0.03, Loss_test: 0.02\n",
      "Epoch: 514 Loss: 0.04, Loss_test: 0.02\n",
      "Epoch: 515 Loss: 0.05, Loss_test: 0.02\n",
      "Epoch: 516 Loss: 0.03, Loss_test: 0.02\n",
      "Epoch: 517 Loss: 0.06, Loss_test: 0.02\n",
      "Epoch: 518 Loss: 0.06, Loss_test: 0.02\n",
      "Epoch: 519 Loss: 0.05, Loss_test: 0.01\n",
      "=> result saved!\n",
      "Epoch: 520 Loss: 0.07, Loss_test: 0.01\n",
      "Epoch: 521 Loss: 0.05, Loss_test: 0.02\n",
      "Epoch: 522 Loss: 0.04, Loss_test: 0.01\n",
      "Epoch: 523 Loss: 0.04, Loss_test: 0.02\n",
      "Epoch: 524 Loss: 0.04, Loss_test: 0.02\n",
      "Epoch: 525 Loss: 0.05, Loss_test: 0.02\n",
      "Epoch: 526 Loss: 0.05, Loss_test: 0.01\n",
      "Epoch: 527 Loss: 0.02, Loss_test: 0.02\n",
      "Epoch: 528 Loss: 0.02, Loss_test: 0.02\n",
      "Epoch: 529 Loss: 0.03, Loss_test: 0.02\n",
      "=> result saved!\n",
      "Epoch: 530 Loss: 0.04, Loss_test: 0.02\n",
      "Epoch: 531 Loss: 0.05, Loss_test: 0.02\n",
      "Epoch: 532 Loss: 0.02, Loss_test: 0.02\n",
      "Epoch: 533 Loss: 0.06, Loss_test: 0.02\n",
      "Epoch: 534 Loss: 0.02, Loss_test: 0.02\n",
      "Epoch: 535 Loss: 0.04, Loss_test: 0.02\n",
      "Epoch: 536 Loss: 0.04, Loss_test: 0.02\n",
      "Epoch: 537 Loss: 0.08, Loss_test: 0.02\n",
      "Epoch: 538 Loss: 0.04, Loss_test: 0.02\n",
      "Epoch: 539 Loss: 0.05, Loss_test: 0.02\n",
      "=> result saved!\n",
      "Epoch: 540 Loss: 0.04, Loss_test: 0.02\n",
      "Epoch: 541 Loss: 0.03, Loss_test: 0.02\n",
      "Epoch: 542 Loss: 0.04, Loss_test: 0.02\n",
      "Epoch: 543 Loss: 0.04, Loss_test: 0.02\n",
      "Epoch: 544 Loss: 0.03, Loss_test: 0.02\n",
      "Epoch: 545 Loss: 0.05, Loss_test: 0.02\n",
      "Epoch: 546 Loss: 0.08, Loss_test: 0.02\n",
      "Epoch: 547 Loss: 0.04, Loss_test: 0.02\n",
      "Epoch: 548 Loss: 0.05, Loss_test: 0.01\n",
      "Epoch: 549 Loss: 0.05, Loss_test: 0.01\n",
      "=> result saved!\n",
      "Epoch: 550 Loss: 0.03, Loss_test: 0.01\n",
      "Epoch: 551 Loss: 0.04, Loss_test: 0.01\n",
      "Epoch: 552 Loss: 0.03, Loss_test: 0.01\n",
      "Epoch: 553 Loss: 0.05, Loss_test: 0.01\n",
      "Epoch: 554 Loss: 0.07, Loss_test: 0.01\n",
      "Epoch: 555 Loss: 0.05, Loss_test: 0.02\n",
      "Epoch: 556 Loss: 0.03, Loss_test: 0.02\n",
      "Epoch: 557 Loss: 0.06, Loss_test: 0.02\n",
      "Epoch: 558 Loss: 0.03, Loss_test: 0.02\n",
      "Epoch: 559 Loss: 0.07, Loss_test: 0.02\n",
      "=> result saved!\n",
      "Epoch: 560 Loss: 0.04, Loss_test: 0.02\n",
      "Epoch: 561 Loss: 0.03, Loss_test: 0.02\n",
      "Epoch: 562 Loss: 0.03, Loss_test: 0.02\n",
      "Epoch: 563 Loss: 0.01, Loss_test: 0.02\n",
      "Epoch: 564 Loss: 0.04, Loss_test: 0.02\n",
      "Epoch: 565 Loss: 0.05, Loss_test: 0.01\n",
      "Epoch: 566 Loss: 0.07, Loss_test: 0.01\n",
      "Epoch: 567 Loss: 0.04, Loss_test: 0.01\n",
      "Epoch: 568 Loss: 0.06, Loss_test: 0.01\n",
      "Epoch: 569 Loss: 0.04, Loss_test: 0.01\n",
      "=> result saved!\n",
      "Epoch: 570 Loss: 0.03, Loss_test: 0.01\n",
      "Epoch: 571 Loss: 0.04, Loss_test: 0.01\n",
      "Epoch: 572 Loss: 0.04, Loss_test: 0.01\n",
      "Epoch: 573 Loss: 0.04, Loss_test: 0.01\n",
      "Epoch: 574 Loss: 0.03, Loss_test: 0.01\n",
      "Epoch: 575 Loss: 0.03, Loss_test: 0.02\n",
      "Epoch: 576 Loss: 0.04, Loss_test: 0.02\n",
      "Epoch: 577 Loss: 0.03, Loss_test: 0.02\n",
      "Epoch: 578 Loss: 0.05, Loss_test: 0.02\n",
      "Epoch: 579 Loss: 0.04, Loss_test: 0.01\n",
      "=> result saved!\n",
      "Epoch: 580 Loss: 0.04, Loss_test: 0.02\n",
      "Epoch: 581 Loss: 0.04, Loss_test: 0.01\n",
      "Epoch: 582 Loss: 0.04, Loss_test: 0.01\n",
      "Epoch: 583 Loss: 0.04, Loss_test: 0.01\n",
      "Epoch: 584 Loss: 0.04, Loss_test: 0.02\n",
      "Epoch: 585 Loss: 0.05, Loss_test: 0.02\n",
      "Epoch: 586 Loss: 0.03, Loss_test: 0.01\n",
      "Epoch: 587 Loss: 0.04, Loss_test: 0.01\n",
      "Epoch: 588 Loss: 0.04, Loss_test: 0.01\n",
      "Epoch: 589 Loss: 0.02, Loss_test: 0.01\n",
      "=> result saved!\n",
      "Epoch: 590 Loss: 0.03, Loss_test: 0.01\n",
      "Epoch: 591 Loss: 0.04, Loss_test: 0.01\n",
      "Epoch: 592 Loss: 0.03, Loss_test: 0.01\n",
      "Epoch: 593 Loss: 0.06, Loss_test: 0.01\n",
      "Epoch: 594 Loss: 0.03, Loss_test: 0.01\n",
      "Epoch: 595 Loss: 0.02, Loss_test: 0.01\n",
      "Epoch: 596 Loss: 0.06, Loss_test: 0.01\n",
      "Epoch: 597 Loss: 0.06, Loss_test: 0.01\n",
      "Epoch: 598 Loss: 0.03, Loss_test: 0.02\n",
      "Epoch: 599 Loss: 0.04, Loss_test: 0.01\n",
      "=> result saved!\n",
      "Epoch: 600 Loss: 0.04, Loss_test: 0.01\n",
      "Epoch: 601 Loss: 0.03, Loss_test: 0.01\n",
      "Epoch: 602 Loss: 0.03, Loss_test: 0.01\n",
      "Epoch: 603 Loss: 0.05, Loss_test: 0.01\n",
      "Epoch: 604 Loss: 0.04, Loss_test: 0.01\n",
      "Epoch: 605 Loss: 0.03, Loss_test: 0.01\n",
      "Epoch: 606 Loss: 0.03, Loss_test: 0.01\n",
      "Epoch: 607 Loss: 0.03, Loss_test: 0.01\n",
      "Epoch: 608 Loss: 0.03, Loss_test: 0.01\n",
      "Epoch: 609 Loss: 0.06, Loss_test: 0.01\n",
      "=> result saved!\n",
      "Epoch: 610 Loss: 0.03, Loss_test: 0.02\n",
      "Epoch: 611 Loss: 0.04, Loss_test: 0.02\n",
      "Epoch: 612 Loss: 0.03, Loss_test: 0.02\n",
      "Epoch: 613 Loss: 0.06, Loss_test: 0.02\n",
      "Epoch: 614 Loss: 0.06, Loss_test: 0.02\n",
      "Epoch: 615 Loss: 0.05, Loss_test: 0.02\n",
      "Epoch: 616 Loss: 0.02, Loss_test: 0.02\n",
      "Epoch: 617 Loss: 0.06, Loss_test: 0.02\n",
      "Epoch: 618 Loss: 0.04, Loss_test: 0.02\n",
      "Epoch: 619 Loss: 0.05, Loss_test: 0.01\n",
      "=> result saved!\n",
      "Epoch: 620 Loss: 0.02, Loss_test: 0.01\n",
      "Epoch: 621 Loss: 0.03, Loss_test: 0.02\n",
      "Epoch: 622 Loss: 0.05, Loss_test: 0.01\n",
      "Epoch: 623 Loss: 0.03, Loss_test: 0.01\n",
      "Epoch: 624 Loss: 0.05, Loss_test: 0.02\n",
      "Epoch: 625 Loss: 0.06, Loss_test: 0.01\n",
      "Epoch: 626 Loss: 0.04, Loss_test: 0.01\n",
      "Epoch: 627 Loss: 0.03, Loss_test: 0.01\n",
      "Epoch: 628 Loss: 0.04, Loss_test: 0.01\n",
      "Epoch: 629 Loss: 0.06, Loss_test: 0.01\n",
      "=> result saved!\n",
      "Epoch: 630 Loss: 0.06, Loss_test: 0.01\n",
      "Epoch: 631 Loss: 0.08, Loss_test: 0.01\n",
      "Epoch: 632 Loss: 0.04, Loss_test: 0.01\n",
      "Epoch: 633 Loss: 0.03, Loss_test: 0.01\n",
      "Epoch: 634 Loss: 0.05, Loss_test: 0.01\n",
      "Epoch: 635 Loss: 0.05, Loss_test: 0.01\n",
      "Epoch: 636 Loss: 0.03, Loss_test: 0.01\n",
      "Epoch: 637 Loss: 0.04, Loss_test: 0.01\n",
      "Epoch: 638 Loss: 0.03, Loss_test: 0.01\n",
      "Epoch: 639 Loss: 0.04, Loss_test: 0.01\n",
      "=> result saved!\n",
      "Epoch: 640 Loss: 0.03, Loss_test: 0.02\n",
      "Epoch: 641 Loss: 0.03, Loss_test: 0.01\n",
      "Epoch: 642 Loss: 0.03, Loss_test: 0.01\n",
      "Epoch: 643 Loss: 0.04, Loss_test: 0.01\n",
      "Epoch: 644 Loss: 0.03, Loss_test: 0.01\n",
      "Epoch: 645 Loss: 0.04, Loss_test: 0.01\n",
      "Epoch: 646 Loss: 0.03, Loss_test: 0.01\n",
      "Epoch: 647 Loss: 0.06, Loss_test: 0.02\n",
      "Epoch: 648 Loss: 0.02, Loss_test: 0.02\n",
      "Epoch: 649 Loss: 0.04, Loss_test: 0.01\n",
      "=> result saved!\n",
      "Epoch: 650 Loss: 0.04, Loss_test: 0.01\n",
      "Epoch: 651 Loss: 0.02, Loss_test: 0.02\n",
      "Epoch: 652 Loss: 0.07, Loss_test: 0.02\n",
      "Epoch: 653 Loss: 0.04, Loss_test: 0.02\n",
      "Epoch: 654 Loss: 0.05, Loss_test: 0.02\n",
      "Epoch: 655 Loss: 0.04, Loss_test: 0.02\n",
      "Epoch: 656 Loss: 0.03, Loss_test: 0.02\n",
      "Epoch: 657 Loss: 0.04, Loss_test: 0.01\n",
      "Epoch: 658 Loss: 0.03, Loss_test: 0.01\n",
      "Epoch: 659 Loss: 0.03, Loss_test: 0.01\n",
      "=> result saved!\n",
      "Epoch: 660 Loss: 0.04, Loss_test: 0.01\n",
      "Epoch: 661 Loss: 0.03, Loss_test: 0.02\n",
      "Epoch: 662 Loss: 0.03, Loss_test: 0.02\n",
      "Epoch: 663 Loss: 0.04, Loss_test: 0.02\n",
      "Epoch: 664 Loss: 0.03, Loss_test: 0.02\n",
      "Epoch: 665 Loss: 0.04, Loss_test: 0.02\n",
      "Epoch: 666 Loss: 0.03, Loss_test: 0.02\n",
      "Epoch: 667 Loss: 0.04, Loss_test: 0.02\n",
      "Epoch: 668 Loss: 0.04, Loss_test: 0.02\n",
      "Epoch: 669 Loss: 0.05, Loss_test: 0.02\n",
      "=> result saved!\n",
      "Epoch: 670 Loss: 0.03, Loss_test: 0.02\n",
      "Epoch: 671 Loss: 0.02, Loss_test: 0.02\n",
      "Epoch: 672 Loss: 0.02, Loss_test: 0.02\n",
      "Epoch: 673 Loss: 0.03, Loss_test: 0.01\n",
      "Epoch: 674 Loss: 0.03, Loss_test: 0.01\n",
      "Epoch: 675 Loss: 0.07, Loss_test: 0.01\n",
      "Epoch: 676 Loss: 0.03, Loss_test: 0.01\n",
      "Epoch: 677 Loss: 0.06, Loss_test: 0.01\n",
      "Epoch: 678 Loss: 0.03, Loss_test: 0.01\n",
      "Epoch: 679 Loss: 0.04, Loss_test: 0.01\n",
      "=> result saved!\n",
      "Epoch: 680 Loss: 0.03, Loss_test: 0.01\n",
      "Epoch: 681 Loss: 0.03, Loss_test: 0.01\n",
      "Epoch: 682 Loss: 0.07, Loss_test: 0.01\n",
      "Epoch: 683 Loss: 0.03, Loss_test: 0.01\n",
      "Epoch: 684 Loss: 0.03, Loss_test: 0.01\n",
      "Epoch: 685 Loss: 0.03, Loss_test: 0.01\n",
      "Epoch: 686 Loss: 0.03, Loss_test: 0.01\n",
      "Epoch: 687 Loss: 0.03, Loss_test: 0.01\n",
      "Epoch: 688 Loss: 0.05, Loss_test: 0.01\n",
      "Epoch: 689 Loss: 0.06, Loss_test: 0.01\n",
      "=> result saved!\n",
      "Epoch: 690 Loss: 0.03, Loss_test: 0.01\n",
      "Epoch: 691 Loss: 0.03, Loss_test: 0.01\n",
      "Epoch: 692 Loss: 0.02, Loss_test: 0.01\n",
      "Epoch: 693 Loss: 0.02, Loss_test: 0.01\n",
      "Epoch: 694 Loss: 0.06, Loss_test: 0.01\n",
      "Epoch: 695 Loss: 0.03, Loss_test: 0.01\n",
      "Epoch: 696 Loss: 0.04, Loss_test: 0.01\n",
      "Epoch: 697 Loss: 0.03, Loss_test: 0.01\n",
      "Epoch: 698 Loss: 0.04, Loss_test: 0.01\n",
      "Epoch: 699 Loss: 0.04, Loss_test: 0.01\n",
      "=> result saved!\n",
      "Epoch: 700 Loss: 0.07, Loss_test: 0.01\n",
      "Epoch: 701 Loss: 0.03, Loss_test: 0.01\n",
      "Epoch: 702 Loss: 0.04, Loss_test: 0.01\n",
      "Epoch: 703 Loss: 0.03, Loss_test: 0.01\n",
      "Epoch: 704 Loss: 0.04, Loss_test: 0.01\n",
      "Epoch: 705 Loss: 0.03, Loss_test: 0.01\n",
      "Epoch: 706 Loss: 0.03, Loss_test: 0.01\n"
     ]
    },
    {
     "name": "stdout",
     "output_type": "stream",
     "text": [
      "Epoch: 707 Loss: 0.02, Loss_test: 0.01\n",
      "Epoch: 708 Loss: 0.02, Loss_test: 0.01\n",
      "Epoch: 709 Loss: 0.07, Loss_test: 0.01\n",
      "=> result saved!\n",
      "Epoch: 710 Loss: 0.02, Loss_test: 0.01\n",
      "Epoch: 711 Loss: 0.05, Loss_test: 0.01\n",
      "Epoch: 712 Loss: 0.04, Loss_test: 0.01\n",
      "Epoch: 713 Loss: 0.05, Loss_test: 0.01\n",
      "Epoch: 714 Loss: 0.03, Loss_test: 0.01\n",
      "Epoch: 715 Loss: 0.02, Loss_test: 0.01\n",
      "Epoch: 716 Loss: 0.03, Loss_test: 0.01\n",
      "Epoch: 717 Loss: 0.02, Loss_test: 0.01\n",
      "Epoch: 718 Loss: 0.03, Loss_test: 0.01\n",
      "Epoch: 719 Loss: 0.05, Loss_test: 0.01\n",
      "=> result saved!\n",
      "Epoch: 720 Loss: 0.03, Loss_test: 0.01\n",
      "Epoch: 721 Loss: 0.03, Loss_test: 0.01\n",
      "Epoch: 722 Loss: 0.06, Loss_test: 0.01\n",
      "Epoch: 723 Loss: 0.02, Loss_test: 0.01\n",
      "Epoch: 724 Loss: 0.03, Loss_test: 0.01\n",
      "Epoch: 725 Loss: 0.03, Loss_test: 0.01\n",
      "Epoch: 726 Loss: 0.04, Loss_test: 0.01\n",
      "Epoch: 727 Loss: 0.04, Loss_test: 0.01\n",
      "Epoch: 728 Loss: 0.02, Loss_test: 0.01\n",
      "Epoch: 729 Loss: 0.04, Loss_test: 0.01\n",
      "=> result saved!\n",
      "Epoch: 730 Loss: 0.02, Loss_test: 0.01\n",
      "Epoch: 731 Loss: 0.03, Loss_test: 0.01\n",
      "Epoch: 732 Loss: 0.04, Loss_test: 0.01\n",
      "Epoch: 733 Loss: 0.03, Loss_test: 0.01\n",
      "Epoch: 734 Loss: 0.03, Loss_test: 0.01\n",
      "Epoch: 735 Loss: 0.03, Loss_test: 0.01\n",
      "Epoch: 736 Loss: 0.03, Loss_test: 0.01\n",
      "Epoch: 737 Loss: 0.02, Loss_test: 0.01\n",
      "Epoch: 738 Loss: 0.03, Loss_test: 0.01\n",
      "Epoch: 739 Loss: 0.04, Loss_test: 0.01\n",
      "=> result saved!\n",
      "Epoch: 740 Loss: 0.03, Loss_test: 0.01\n",
      "Epoch: 741 Loss: 0.02, Loss_test: 0.01\n",
      "Epoch: 742 Loss: 0.03, Loss_test: 0.01\n",
      "Epoch: 743 Loss: 0.01, Loss_test: 0.01\n",
      "Epoch: 744 Loss: 0.04, Loss_test: 0.01\n",
      "Epoch: 745 Loss: 0.02, Loss_test: 0.01\n",
      "Epoch: 746 Loss: 0.05, Loss_test: 0.01\n",
      "Epoch: 747 Loss: 0.04, Loss_test: 0.01\n",
      "Epoch: 748 Loss: 0.03, Loss_test: 0.01\n",
      "Epoch: 749 Loss: 0.04, Loss_test: 0.01\n",
      "=> result saved!\n",
      "Epoch: 750 Loss: 0.03, Loss_test: 0.01\n",
      "Epoch: 751 Loss: 0.05, Loss_test: 0.01\n",
      "Epoch: 752 Loss: 0.05, Loss_test: 0.01\n",
      "Epoch: 753 Loss: 0.02, Loss_test: 0.01\n",
      "Epoch: 754 Loss: 0.02, Loss_test: 0.01\n",
      "Epoch: 755 Loss: 0.03, Loss_test: 0.02\n",
      "Epoch: 756 Loss: 0.05, Loss_test: 0.01\n",
      "Epoch: 757 Loss: 0.03, Loss_test: 0.01\n",
      "Epoch: 758 Loss: 0.03, Loss_test: 0.01\n",
      "Epoch: 759 Loss: 0.03, Loss_test: 0.01\n",
      "=> result saved!\n",
      "Epoch: 760 Loss: 0.05, Loss_test: 0.01\n",
      "Epoch: 761 Loss: 0.04, Loss_test: 0.01\n",
      "Epoch: 762 Loss: 0.03, Loss_test: 0.01\n",
      "Epoch: 763 Loss: 0.04, Loss_test: 0.01\n",
      "Epoch: 764 Loss: 0.04, Loss_test: 0.01\n",
      "Epoch: 765 Loss: 0.03, Loss_test: 0.01\n",
      "Epoch: 766 Loss: 0.05, Loss_test: 0.01\n",
      "Epoch: 767 Loss: 0.02, Loss_test: 0.01\n",
      "Epoch: 768 Loss: 0.02, Loss_test: 0.01\n",
      "Epoch: 769 Loss: 0.06, Loss_test: 0.01\n",
      "=> result saved!\n",
      "Epoch: 770 Loss: 0.02, Loss_test: 0.01\n",
      "Epoch: 771 Loss: 0.02, Loss_test: 0.01\n",
      "Epoch: 772 Loss: 0.05, Loss_test: 0.01\n",
      "Epoch: 773 Loss: 0.03, Loss_test: 0.01\n",
      "Epoch: 774 Loss: 0.03, Loss_test: 0.01\n",
      "Epoch: 775 Loss: 0.03, Loss_test: 0.01\n",
      "Epoch: 776 Loss: 0.02, Loss_test: 0.01\n",
      "Epoch: 777 Loss: 0.02, Loss_test: 0.01\n",
      "Epoch: 778 Loss: 0.03, Loss_test: 0.01\n",
      "Epoch: 779 Loss: 0.05, Loss_test: 0.01\n",
      "=> result saved!\n",
      "Epoch: 780 Loss: 0.03, Loss_test: 0.01\n",
      "Epoch: 781 Loss: 0.03, Loss_test: 0.01\n",
      "Epoch: 782 Loss: 0.03, Loss_test: 0.01\n",
      "Epoch: 783 Loss: 0.05, Loss_test: 0.01\n",
      "Epoch: 784 Loss: 0.03, Loss_test: 0.01\n",
      "Epoch: 785 Loss: 0.04, Loss_test: 0.01\n",
      "Epoch: 786 Loss: 0.02, Loss_test: 0.01\n",
      "Epoch: 787 Loss: 0.02, Loss_test: 0.01\n",
      "Epoch: 788 Loss: 0.04, Loss_test: 0.01\n",
      "Epoch: 789 Loss: 0.04, Loss_test: 0.01\n",
      "=> result saved!\n",
      "Epoch: 790 Loss: 0.03, Loss_test: 0.01\n",
      "Epoch: 791 Loss: 0.04, Loss_test: 0.01\n",
      "Epoch: 792 Loss: 0.03, Loss_test: 0.01\n",
      "Epoch: 793 Loss: 0.05, Loss_test: 0.01\n",
      "Epoch: 794 Loss: 0.03, Loss_test: 0.01\n",
      "Epoch: 795 Loss: 0.03, Loss_test: 0.01\n",
      "Epoch: 796 Loss: 0.03, Loss_test: 0.01\n",
      "Epoch: 797 Loss: 0.02, Loss_test: 0.01\n",
      "Epoch: 798 Loss: 0.02, Loss_test: 0.01\n",
      "Epoch: 799 Loss: 0.03, Loss_test: 0.01\n",
      "=> result saved!\n",
      "Epoch: 800 Loss: 0.03, Loss_test: 0.01\n",
      "Epoch: 801 Loss: 0.02, Loss_test: 0.01\n",
      "Epoch: 802 Loss: 0.03, Loss_test: 0.01\n",
      "Epoch: 803 Loss: 0.03, Loss_test: 0.01\n",
      "Epoch: 804 Loss: 0.03, Loss_test: 0.01\n",
      "Epoch: 805 Loss: 0.03, Loss_test: 0.01\n",
      "Epoch: 806 Loss: 0.02, Loss_test: 0.01\n",
      "Epoch: 807 Loss: 0.02, Loss_test: 0.01\n",
      "Epoch: 808 Loss: 0.01, Loss_test: 0.01\n",
      "Epoch: 809 Loss: 0.02, Loss_test: 0.01\n",
      "=> result saved!\n",
      "Epoch: 810 Loss: 0.02, Loss_test: 0.01\n",
      "Epoch: 811 Loss: 0.06, Loss_test: 0.01\n",
      "Epoch: 812 Loss: 0.03, Loss_test: 0.01\n",
      "Epoch: 813 Loss: 0.02, Loss_test: 0.01\n",
      "Epoch: 814 Loss: 0.03, Loss_test: 0.01\n",
      "Epoch: 815 Loss: 0.04, Loss_test: 0.01\n",
      "Epoch: 816 Loss: 0.04, Loss_test: 0.01\n",
      "Epoch: 817 Loss: 0.03, Loss_test: 0.01\n",
      "Epoch: 818 Loss: 0.04, Loss_test: 0.01\n",
      "Epoch: 819 Loss: 0.03, Loss_test: 0.01\n",
      "=> result saved!\n",
      "Epoch: 820 Loss: 0.03, Loss_test: 0.01\n",
      "Epoch: 821 Loss: 0.02, Loss_test: 0.01\n",
      "Epoch: 822 Loss: 0.04, Loss_test: 0.01\n",
      "Epoch: 823 Loss: 0.02, Loss_test: 0.01\n",
      "Epoch: 824 Loss: 0.02, Loss_test: 0.01\n",
      "Epoch: 825 Loss: 0.03, Loss_test: 0.01\n",
      "Epoch: 826 Loss: 0.03, Loss_test: 0.01\n",
      "Epoch: 827 Loss: 0.03, Loss_test: 0.01\n",
      "Epoch: 828 Loss: 0.02, Loss_test: 0.01\n",
      "Epoch: 829 Loss: 0.04, Loss_test: 0.01\n",
      "=> result saved!\n",
      "Epoch: 830 Loss: 0.02, Loss_test: 0.01\n",
      "Epoch: 831 Loss: 0.03, Loss_test: 0.01\n",
      "Epoch: 832 Loss: 0.02, Loss_test: 0.02\n",
      "Epoch: 833 Loss: 0.02, Loss_test: 0.01\n",
      "Epoch: 834 Loss: 0.03, Loss_test: 0.01\n",
      "Epoch: 835 Loss: 0.04, Loss_test: 0.01\n",
      "Epoch: 836 Loss: 0.03, Loss_test: 0.01\n",
      "Epoch: 837 Loss: 0.02, Loss_test: 0.02\n",
      "Epoch: 838 Loss: 0.05, Loss_test: 0.02\n",
      "Epoch: 839 Loss: 0.03, Loss_test: 0.01\n",
      "=> result saved!\n",
      "Epoch: 840 Loss: 0.05, Loss_test: 0.01\n",
      "Epoch: 841 Loss: 0.03, Loss_test: 0.01\n",
      "Epoch: 842 Loss: 0.04, Loss_test: 0.02\n",
      "Epoch: 843 Loss: 0.02, Loss_test: 0.02\n",
      "Epoch: 844 Loss: 0.04, Loss_test: 0.01\n",
      "Epoch: 845 Loss: 0.03, Loss_test: 0.01\n",
      "Epoch: 846 Loss: 0.02, Loss_test: 0.01\n",
      "Epoch: 847 Loss: 0.02, Loss_test: 0.01\n",
      "Epoch: 848 Loss: 0.03, Loss_test: 0.01\n",
      "Epoch: 849 Loss: 0.02, Loss_test: 0.01\n",
      "=> result saved!\n",
      "Epoch: 850 Loss: 0.03, Loss_test: 0.01\n",
      "Epoch: 851 Loss: 0.02, Loss_test: 0.01\n",
      "Epoch: 852 Loss: 0.02, Loss_test: 0.01\n",
      "Epoch: 853 Loss: 0.06, Loss_test: 0.01\n",
      "Epoch: 854 Loss: 0.03, Loss_test: 0.01\n",
      "Epoch: 855 Loss: 0.03, Loss_test: 0.01\n",
      "Epoch: 856 Loss: 0.05, Loss_test: 0.01\n",
      "Epoch: 857 Loss: 0.04, Loss_test: 0.01\n",
      "Epoch: 858 Loss: 0.03, Loss_test: 0.01\n",
      "Epoch: 859 Loss: 0.03, Loss_test: 0.01\n",
      "=> result saved!\n",
      "Epoch: 860 Loss: 0.03, Loss_test: 0.01\n",
      "Epoch: 861 Loss: 0.02, Loss_test: 0.01\n",
      "Epoch: 862 Loss: 0.03, Loss_test: 0.01\n",
      "Epoch: 863 Loss: 0.04, Loss_test: 0.01\n",
      "Epoch: 864 Loss: 0.04, Loss_test: 0.01\n",
      "Epoch: 865 Loss: 0.02, Loss_test: 0.01\n",
      "Epoch: 866 Loss: 0.03, Loss_test: 0.01\n",
      "Epoch: 867 Loss: 0.03, Loss_test: 0.01\n",
      "Epoch: 868 Loss: 0.04, Loss_test: 0.01\n",
      "Epoch: 869 Loss: 0.02, Loss_test: 0.01\n",
      "=> result saved!\n",
      "Epoch: 870 Loss: 0.07, Loss_test: 0.01\n",
      "Epoch: 871 Loss: 0.01, Loss_test: 0.01\n",
      "Epoch: 872 Loss: 0.06, Loss_test: 0.01\n",
      "Epoch: 873 Loss: 0.03, Loss_test: 0.01\n",
      "Epoch: 874 Loss: 0.02, Loss_test: 0.01\n",
      "Epoch: 875 Loss: 0.03, Loss_test: 0.01\n",
      "Epoch: 876 Loss: 0.02, Loss_test: 0.01\n",
      "Epoch: 877 Loss: 0.02, Loss_test: 0.01\n",
      "Epoch: 878 Loss: 0.04, Loss_test: 0.01\n",
      "Epoch: 879 Loss: 0.02, Loss_test: 0.01\n",
      "=> result saved!\n",
      "Epoch: 880 Loss: 0.03, Loss_test: 0.01\n",
      "Epoch: 881 Loss: 0.05, Loss_test: 0.01\n",
      "Epoch: 882 Loss: 0.01, Loss_test: 0.01\n",
      "Epoch: 883 Loss: 0.03, Loss_test: 0.01\n",
      "Epoch: 884 Loss: 0.03, Loss_test: 0.01\n",
      "Epoch: 885 Loss: 0.03, Loss_test: 0.01\n",
      "Epoch: 886 Loss: 0.04, Loss_test: 0.01\n",
      "Epoch: 887 Loss: 0.02, Loss_test: 0.01\n",
      "Epoch: 888 Loss: 0.03, Loss_test: 0.01\n",
      "Epoch: 889 Loss: 0.04, Loss_test: 0.01\n",
      "=> result saved!\n",
      "Epoch: 890 Loss: 0.02, Loss_test: 0.01\n",
      "Epoch: 891 Loss: 0.03, Loss_test: 0.01\n",
      "Epoch: 892 Loss: 0.03, Loss_test: 0.01\n",
      "Epoch: 893 Loss: 0.03, Loss_test: 0.01\n",
      "Epoch: 894 Loss: 0.02, Loss_test: 0.01\n",
      "Epoch: 895 Loss: 0.04, Loss_test: 0.01\n",
      "Epoch: 896 Loss: 0.03, Loss_test: 0.01\n",
      "Epoch: 897 Loss: 0.04, Loss_test: 0.01\n",
      "Epoch: 898 Loss: 0.03, Loss_test: 0.01\n",
      "Epoch: 899 Loss: 0.04, Loss_test: 0.01\n",
      "=> result saved!\n",
      "Epoch: 900 Loss: 0.04, Loss_test: 0.01\n"
     ]
    }
   ],
   "source": [
    "end_train = epochs - limit_train\n",
    "for epoch in range(limit_train, end_train):\n",
    "    batch_triplet_train, \\\n",
    "        train_input_sample, train_sim = batch_iterator(baseline, retrieval, model, baseline.train_data, \n",
    "                                                       baseline.dup_sets_train, bug_train_ids, \n",
    "                                                           batch_size, 1, issues_by_buckets, TRIPLET_HARD=False)\n",
    "    train_batch = [train_input_sample['title'], train_input_sample['description'], train_input_sample['info'], train_sim]\n",
    "    \n",
    "\n",
    "    h = model.train_on_batch(x=train_batch, y=train_sim)\n",
    "    h_validation = model.test_on_batch(x=validation_sample, y=valid_sim)\n",
    "    \n",
    "    # save results\n",
    "    result['train'].append(h)\n",
    "    result['test'].append(h_validation)\n",
    "    \n",
    "    if( (epoch+1) % 10 == 0 or (epoch+1 == end_train )):\n",
    "        save_loss(result)\n",
    "    \n",
    "    print(\"Epoch: {} Loss: {:.2f}, Loss_test: {:.2f}\".format(epoch+1, h, h_validation))"
   ]
  },
  {
   "cell_type": "code",
   "execution_count": 48,
   "metadata": {},
   "outputs": [
    {
     "data": {
      "text/plain": [
       "(900, 900)"
      ]
     },
     "execution_count": 48,
     "metadata": {},
     "output_type": "execute_result"
    }
   ],
   "source": [
    "len(result['train']), len(result['test'])"
   ]
  },
  {
   "cell_type": "code",
   "execution_count": 49,
   "metadata": {},
   "outputs": [],
   "source": [
    "encoded = model.get_layer('merge_features_in')\n",
    "output = encoded.output\n",
    "inputs = similarity_model.inputs[:-1]\n",
    "encoded_anchor = Model(inputs = inputs, outputs = output, name = 'Similarity_Model')"
   ]
  },
  {
   "cell_type": "code",
   "execution_count": 50,
   "metadata": {},
   "outputs": [
    {
     "data": {
      "text/plain": [
       "'bert_preprocessing_baseline_1000_feature1000epochs_64batch(netbeans)'"
      ]
     },
     "execution_count": 50,
     "metadata": {},
     "output_type": "execute_result"
    }
   ],
   "source": [
    "SAVE_PATH.replace('@number_of_epochs@', str(epochs))"
   ]
  },
  {
   "cell_type": "code",
   "execution_count": 51,
   "metadata": {},
   "outputs": [
    {
     "name": "stdout",
     "output_type": "stream",
     "text": [
      "Saved model 'modelos/model_bert_preprocessing_baseline_1000_feature_1000epochs_64batch(netbeans).h5' to disk\n"
     ]
    },
    {
     "data": {
      "text/plain": [
       "'Model saved'"
      ]
     },
     "execution_count": 51,
     "metadata": {},
     "output_type": "execute_result"
    }
   ],
   "source": [
    "experiment.save_model(model, SAVE_PATH.replace('@number_of_epochs@', str(epochs)))\n",
    "experiment.save_model(encoded_anchor, SAVE_PATH_FEATURE.replace('@number_of_epochs@', str(epochs)), verbose=1)\n",
    "\"Model saved\""
   ]
  },
  {
   "cell_type": "code",
   "execution_count": 52,
   "metadata": {},
   "outputs": [
    {
     "data": {
      "application/vnd.jupyter.widget-view+json": {
       "model_id": "eb60097ecdb24af7a2be1c669a7b7844",
       "version_major": 2,
       "version_minor": 0
      },
      "text/plain": [
       "HBox(children=(IntProgress(value=0, max=17002), HTML(value='')))"
      ]
     },
     "metadata": {},
     "output_type": "display_data"
    },
    {
     "name": "stdout",
     "output_type": "stream",
     "text": [
      "\n"
     ]
    },
    {
     "data": {
      "application/vnd.jupyter.widget-view+json": {
       "model_id": "fd4002101a9b4e0c9686a23aa58af0bd",
       "version_major": 2,
       "version_minor": 0
      },
      "text/plain": [
       "HBox(children=(IntProgress(value=0, max=26036), HTML(value='')))"
      ]
     },
     "metadata": {},
     "output_type": "display_data"
    },
    {
     "name": "stdout",
     "output_type": "stream",
     "text": [
      "\n"
     ]
    },
    {
     "data": {
      "application/vnd.jupyter.widget-view+json": {
       "model_id": "f4dce9c310d84bfa8afe4f8e9c62dcc6",
       "version_major": 2,
       "version_minor": 0
      },
      "text/plain": [
       "HBox(children=(IntProgress(value=0, max=29003), HTML(value='')))"
      ]
     },
     "metadata": {},
     "output_type": "display_data"
    },
    {
     "name": "stdout",
     "output_type": "stream",
     "text": [
      "\n"
     ]
    },
    {
     "data": {
      "application/vnd.jupyter.widget-view+json": {
       "model_id": "901840425dfc45f9b7c662b9dae0bdf2",
       "version_major": 2,
       "version_minor": 0
      },
      "text/plain": [
       "HBox(children=(IntProgress(value=1, bar_style='info', max=1), HTML(value='')))"
      ]
     },
     "metadata": {},
     "output_type": "display_data"
    },
    {
     "name": "stdout",
     "output_type": "stream",
     "text": [
      "\n"
     ]
    },
    {
     "data": {
      "application/vnd.jupyter.widget-view+json": {
       "model_id": "8e9b9f83670e4f96a992c64812e18ef1",
       "version_major": 2,
       "version_minor": 0
      },
      "text/plain": [
       "HBox(children=(IntProgress(value=1, bar_style='info', max=1), HTML(value='')))"
      ]
     },
     "metadata": {},
     "output_type": "display_data"
    },
    {
     "name": "stdout",
     "output_type": "stream",
     "text": [
      "\n"
     ]
    },
    {
     "data": {
      "application/vnd.jupyter.widget-view+json": {
       "model_id": "965767f4caac414d9850160aaa73de25",
       "version_major": 2,
       "version_minor": 0
      },
      "text/plain": [
       "HBox(children=(IntProgress(value=1, bar_style='info', max=1), HTML(value='')))"
      ]
     },
     "metadata": {},
     "output_type": "display_data"
    },
    {
     "name": "stdout",
     "output_type": "stream",
     "text": [
      "\n"
     ]
    },
    {
     "data": {
      "application/vnd.jupyter.widget-view+json": {
       "model_id": "7e95b74a509f4155993c696291978005",
       "version_major": 2,
       "version_minor": 0
      },
      "text/plain": [
       "HBox(children=(IntProgress(value=0, max=26036), HTML(value='')))"
      ]
     },
     "metadata": {},
     "output_type": "display_data"
    },
    {
     "name": "stdout",
     "output_type": "stream",
     "text": [
      "\n",
      "Epoch: 900 Loss: 0.04, Loss_test: 0.01, recall@25: 0.64\n"
     ]
    }
   ],
   "source": [
    "recall, exported_rank, debug = experiment.evaluate_validation_test(retrieval, 1, encoded_anchor, issues_by_buckets, bug_train_ids)\n",
    "print(\"Epoch: {} Loss: {:.2f}, Loss_test: {:.2f}, recall@25: {:.2f}\".format(epoch+1, h, h_validation, recall))"
   ]
  },
  {
   "cell_type": "code",
   "execution_count": 53,
   "metadata": {},
   "outputs": [
    {
     "data": {
      "text/plain": [
       "0.64"
      ]
     },
     "execution_count": 53,
     "metadata": {},
     "output_type": "execute_result"
    }
   ],
   "source": [
    "recall"
   ]
  },
  {
   "cell_type": "code",
   "execution_count": 54,
   "metadata": {},
   "outputs": [
    {
     "data": {
      "text/plain": [
       "['131079:124863|137689:0.5066030025482178,131439:0.47609347105026245,132127:0.44107723236083984,129001:0.41976118087768555,138894:0.40846455097198486,163007:0.4062740206718445,163543:0.39373135566711426,135897:0.38669633865356445,142671:0.3834843635559082,70591:0.3749438524246216,159448:0.3708232045173645,89629:0.36989957094192505,151858:0.3660820722579956,153250:0.36275553703308105,133688:0.36263012886047363,109493:0.3605639338493347,140382:0.3542252779006958,87061:0.3537144064903259,168243:0.35272306203842163,168244:0.35272306203842163,104044:0.3515245318412781,159795:0.35114365816116333,99188:0.34961098432540894,139981:0.34952473640441895,142309:0.3473595380783081,142348:0.3473595380783081,72451:0.3463513255119324,102752:0.34503865242004395,141129:0.3435348868370056',\n",
       " '131082:131085|131085:0.9998641489219153,76311:0.46221619844436646,105529:0.4276806116104126,114149:0.4165447950363159,125889:0.40799641609191895,141926:0.40514421463012695,98975:0.4006940722465515,82394:0.399162232875824,100635:0.3898769021034241,152224:0.3787156939506531,139535:0.3727226257324219,145211:0.3722326159477234,148679:0.369965136051178,134893:0.3672161102294922,130726:0.3657383918762207,115842:0.3655962347984314,116498:0.359231173992157,118927:0.353676438331604,123201:0.3518121838569641,119937:0.3457133173942566,154698:0.3454047441482544,125435:0.3429613709449768,153164:0.3416067957878113,122877:0.34066253900527954,114424:0.3366554379463196,107916:0.3364262580871582,124401:0.3334367871284485,123843:0.324150025844574,130721:0.31724369525909424',\n",
       " '131083:145537,124867,144649,131084,132247,129785,129786,145533,145534,143327|131084:1.0,145533:1.0,132247:0.9121991097927094,145534:0.9121991097927094,144649:0.6863448023796082,147776:0.6863448023796082,136337:0.6815556585788727,131086:0.5569719970226288,124867:0.500721663236618,129786:0.500721663236618,155409:0.49918341636657715,159010:0.49918341636657715,161539:0.49844890832901,163324:0.49844890832901,160439:0.49795228242874146,129785:0.49431395530700684,128350:0.4851571321487427,146754:0.44515174627304077,143327:0.43585866689682007,143610:0.42720627784729004,144407:0.42127925157546997,122780:0.41870105266571045,143344:0.41736292839050293,141578:0.4145318269729614,143972:0.41421759128570557,128245:0.4112071394920349,142745:0.410614013671875,158637:0.4089806079864502,156889:0.40422695875167847',\n",
       " '131084:145537,124867,144649,131083,132247,129785,129786,145533,145534,143327|131083:1.0,145533:1.0,132247:0.9121991097927094,145534:0.9121991097927094,144649:0.6863448023796082,147776:0.6863448023796082,136337:0.6815556585788727,131086:0.5569719970226288,124867:0.500721663236618,129786:0.500721663236618,155409:0.49918341636657715,159010:0.49918341636657715,161539:0.49844890832901,163324:0.49844890832901,160439:0.49795228242874146,129785:0.49431395530700684,128350:0.4851571321487427,146754:0.44515174627304077,143327:0.43585866689682007,143610:0.42720627784729004,144407:0.42127925157546997,122780:0.41870105266571045,143344:0.41736292839050293,141578:0.4145318269729614,143972:0.41421759128570557,128245:0.4112071394920349,142745:0.410614013671875,158637:0.4089806079864502,156889:0.40422695875167847',\n",
       " '131085:131082|131082:0.9998641489219153,76311:0.46221619844436646,105529:0.4276806116104126,114149:0.4165447950363159,125889:0.40799641609191895,141926:0.40514421463012695,98975:0.4006940722465515,82394:0.399162232875824,100635:0.3898769021034241,152224:0.3787156939506531,139535:0.3727226257324219,145211:0.3722326159477234,148679:0.369965136051178,134893:0.3672161102294922,130726:0.3657383918762207,115842:0.3655962347984314,116498:0.359231173992157,118927:0.353676438331604,123201:0.3518121838569641,119937:0.3457133173942566,154698:0.3454047441482544,125435:0.3429613709449768,153164:0.3416067957878113,122877:0.34066253900527954,114424:0.3366554379463196,107916:0.3364262580871582,124401:0.3334367871284485,123843:0.324150025844574,130721:0.31724369525909424',\n",
       " '131086:118825,117035|131083:0.5569719970226288,131084:0.5569719970226288,145533:0.5569719970226288,155409:0.5382631719112396,159010:0.5382631719112396,132247:0.5372794568538666,145534:0.5372794568538666,161539:0.5238791108131409,163324:0.5238791108131409,128350:0.5202435553073883,160439:0.4670085906982422,142745:0.45482736825942993,144649:0.4527859091758728,147776:0.4527859091758728,136337:0.4523810148239136,143344:0.44934988021850586,139805:0.4492454528808594,129605:0.4370614290237427,143610:0.4347687363624573,142352:0.4331473112106323,142353:0.4331473112106323,144407:0.42891043424606323,143972:0.4241076111793518,143343:0.42406952381134033,169525:0.42108309268951416,150223:0.419572114944458,142296:0.4172639846801758,151949:0.41660624742507935,149716:0.4132378101348877',\n",
       " '131103:129349,131439,130960,130033,132127|135897:0.3708117604255676,102465:0.36453545093536377,114275:0.35015320777893066,102766:0.3411129117012024,166875:0.33776021003723145,154723:0.3377569913864136,149197:0.3303981423377991,112824:0.3274688124656677,109894:0.3252134919166565,145593:0.3212072253227234,167685:0.31815189123153687,166150:0.3139532804489136,171088:0.3114704489707947,153225:0.30643171072006226,96339:0.3007674217224121,114561:0.2994529604911804,108021:0.2990375757217407,169198:0.2986111640930176,122503:0.2968484163284302,114713:0.29315799474716187,154461:0.29161107540130615,135738:0.28933262825012207,122942:0.2891189455986023,134639:0.28739142417907715,162777:0.2863844633102417,151920:0.283933162689209,168719:0.2817729115486145,163793:0.2810959815979004,164865:0.28108543157577515',\n",
       " '131126:117856,118467,118468,118469,126180,116295,116680,118634,117003,103531,131983,118351,118735,109177,129907,117299,104665,117274,117981|117856:0.5060846507549286,146813:0.4075159430503845,146624:0.3888956904411316,156483:0.38882696628570557,102290:0.3879743814468384,134548:0.3861779570579529,160071:0.3839324712753296,103163:0.38289135694503784,118735:0.381675124168396,103531:0.3815075755119324,159114:0.3767545223236084,94805:0.3735285997390747,87458:0.37256914377212524,81671:0.3716774582862854,140168:0.3675326108932495,118634:0.36534345149993896,140153:0.3646352291107178,161073:0.3626375198364258,121941:0.36260247230529785,121699:0.36211711168289185,92873:0.3597937226295471,98268:0.3581337332725525,104453:0.35795044898986816,99597:0.35770487785339355,108542:0.35607266426086426,97579:0.355075478553772,128711:0.35271763801574707,150638:0.3512864112854004,140081:0.3502587676048279',\n",
       " '131145:131146|131146:0.868160605430603,151561:0.4204022288322449,161733:0.3539195656776428,149466:0.35069990158081055,134835:0.34519678354263306,185665:0.3412204384803772,148752:0.3384305238723755,163770:0.32607901096343994,170734:0.3174724578857422,185762:0.2985492944717407,147572:0.297307550907135,171450:0.286685585975647,176120:0.27524256706237793,189758:0.26656514406204224,156460:0.24531739950180054,157316:0.242669939994812,123838:0.23752212524414062,144565:0.23344039916992188,115407:0.2327195405960083,156048:0.22873729467391968,159569:0.22499024868011475,120404:0.22497528791427612,79999:0.22372174263000488,147977:0.22174674272537231,116434:0.21697545051574707,140799:0.21619105339050293,121611:0.21615111827850342,96653:0.2149699330329895,154279:0.21491330862045288',\n",
       " '131146:131145|131145:0.868160605430603,146950:0.397785484790802,182577:0.3902268409729004,143451:0.354793906211853,163131:0.34047824144363403,92551:0.3188457489013672,156460:0.2480413317680359,168439:0.23560404777526855,118020:0.23330509662628174,114625:0.23092836141586304,149991:0.22726589441299438,153728:0.22495639324188232,127295:0.22480875253677368,144565:0.2232954502105713,170202:0.21434569358825684,146153:0.20909786224365234,133430:0.20904117822647095,103701:0.20874696969985962,139305:0.20830368995666504,131359:0.20652443170547485,110882:0.20499533414840698,107712:0.20440125465393066,136036:0.20333093404769897,123467:0.20331192016601562,96653:0.20161736011505127,90181:0.19942253828048706,113884:0.19645947217941284,129178:0.19607794284820557,171116:0.1950613260269165',\n",
       " '131148:130987|158573:0.33321207761764526,150379:0.3244520425796509,118626:0.3222988247871399,101321:0.3202342987060547,172597:0.3161541819572449,107399:0.3153347969055176,105952:0.31096941232681274,134122:0.3059036135673523,103976:0.30338841676712036,113171:0.3028731942176819,106933:0.30258429050445557,165951:0.30029577016830444,116618:0.2907322645187378,97063:0.28847092390060425,157706:0.2838239073753357,138215:0.28190475702285767,132841:0.28016364574432373,127440:0.27987509965896606,64637:0.2777501344680786,159439:0.27771830558776855,143202:0.2772441506385803,130551:0.27682095766067505,152497:0.27599990367889404,134487:0.27578920125961304,132378:0.2752251625061035,142407:0.27496546506881714,152496:0.2747538089752197,152500:0.2747538089752197,106590:0.27429550886154175',\n",
       " '131149:131359,131335,131153,132377,130783|130783:0.5081017911434174,124001:0.35647743940353394,107191:0.3469826579093933,142556:0.33056575059890747,173175:0.3301095962524414,151223:0.3298534154891968,105529:0.32886970043182373,93961:0.32079434394836426,160785:0.32028108835220337,160575:0.31528621912002563,102772:0.31425392627716064,114132:0.3020216226577759,156953:0.29574233293533325,125343:0.2879694104194641,159593:0.2819048762321472,169212:0.2775036096572876,114722:0.2772483825683594,150034:0.2768537402153015,135558:0.2757989168167114,152010:0.2739790081977844,174048:0.26811105012893677,103043:0.26668453216552734,101944:0.261275053024292,88225:0.25972485542297363,157695:0.2571231722831726,99678:0.2533387541770935,109381:0.24157583713531494,148458:0.24032586812973022,157828:0.23886483907699585',\n",
       " '131151:132544,131236|127846:0.6278696656227112,130982:0.44742071628570557,100085:0.42509257793426514,98250:0.41713571548461914,131236:0.41624730825424194,102863:0.4083178639411926,115904:0.3884347081184387,110060:0.38722288608551025,115901:0.38638198375701904,102854:0.38207924365997314,138971:0.3817763328552246,128574:0.3772570490837097,98760:0.37174391746520996,166770:0.3411861062049866,94241:0.32856160402297974,139369:0.3211228847503662,166774:0.3148273229598999,132544:0.30810338258743286,127306:0.3079227805137634,101188:0.3074418306350708,119396:0.3064461946487427,102846:0.30260753631591797,110218:0.30008894205093384,129086:0.2960854172706604,96824:0.29606229066848755,142693:0.293823778629303,95150:0.2916901707649231,101249:0.2913578152656555,149579:0.28919166326522827',\n",
       " '131153:131359,131335,131149,132377,130783|127176:0.41610026359558105,139792:0.4160802960395813,173792:0.41306161880493164,108686:0.40795010328292847,165948:0.3999437093734741,104108:0.3889392018318176,143633:0.37404072284698486,138258:0.3479228615760803,169040:0.3474709391593933,174049:0.34567785263061523,165444:0.3411318063735962,132377:0.34087073802948,144005:0.3380664587020874,126560:0.3373658061027527,155187:0.33024924993515015,172321:0.3245255947113037,142309:0.31140291690826416,142348:0.31140291690826416,153608:0.3076978325843811,170924:0.3076084852218628,126602:0.3066706657409668,174216:0.3047838807106018,169581:0.30317145586013794,153627:0.3025842308998108,111058:0.29870039224624634,170867:0.29451829195022583,167594:0.29237574338912964,127369:0.2876089811325073,167383:0.2860105633735657',\n",
       " '131166:131594|132083:0.4506705403327942,135407:0.4081876277923584,132033:0.39116817712783813,133004:0.3755685091018677,132192:0.3638761639595032,135613:0.3615989685058594,132061:0.3573210835456848,167661:0.35306161642074585,132907:0.33678001165390015,169139:0.33622556924819946,163299:0.33590447902679443,166855:0.3325585722923279,134535:0.33231955766677856,147034:0.3030579090118408,173150:0.30135226249694824,154361:0.30034613609313965,124758:0.2984524965286255,158863:0.2972838282585144,119347:0.2953369617462158,172113:0.2950371503829956,152228:0.29278630018234253,168441:0.28656095266342163,140286:0.28389984369277954,138200:0.28288668394088745,147185:0.27853697538375854,132470:0.27751708030700684,140379:0.2737218737602234,170588:0.2732822895050049,152390:0.2728925347328186',\n",
       " '131170:127369,125195,113747,143350|107893:0.44552481174468994,125630:0.3918045163154602,135284:0.3818601369857788,127765:0.3761554956436157,138952:0.35089612007141113,121706:0.3279881477355957,150248:0.32291126251220703,155010:0.3220299482345581,145473:0.3189484477043152,134750:0.31112509965896606,168795:0.2851438522338867,150247:0.28244131803512573,221092:0.27651458978652954,113930:0.27317309379577637,168858:0.2662206292152405,106100:0.2564921975135803,105938:0.2502732276916504,140300:0.24942201375961304,123017:0.24563133716583252,116370:0.24499136209487915,72451:0.24389368295669556,173995:0.2414453625679016,116692:0.23920190334320068,107953:0.2389129400253296,171914:0.23645782470703125,133417:0.2345070242881775,142330:0.23234784603118896,134188:0.23162251710891724,96838:0.2315273880958557',\n",
       " '131180:129163|130863:0.4566369652748108,124473:0.4297831654548645,123602:0.381176233291626,134530:0.3530128598213196,72144:0.3461728096008301,99325:0.3356766700744629,127010:0.33494043350219727,169246:0.32890450954437256,75608:0.3272465467453003,144217:0.3269556760787964,127291:0.32627058029174805,122840:0.32238131761550903,72556:0.3181943893432617,128722:0.31793469190597534,129163:0.31429147720336914,135951:0.3087090253829956,64107:0.30699944496154785,181178:0.3046607971191406,155402:0.3016228675842285,100828:0.3008946180343628,116633:0.2998802661895752,175469:0.2952631711959839,70745:0.29470545053482056,132772:0.29045724868774414,101984:0.2881508469581604,148874:0.28502529859542847,108942:0.28405290842056274,151467:0.2814483642578125,81720:0.27873075008392334',\n",
       " '131192:133635,131782,131306,131759,130869,130934,131293|155786:0.5674736201763153,152412:0.477361798286438,145759:0.4731825590133667,135176:0.46196383237838745,104227:0.45222461223602295,133635:0.446524977684021,132037:0.4440634250640869,131759:0.44050949811935425,132035:0.4398040771484375,151466:0.4397941827774048,147870:0.4385420083999634,175747:0.43748825788497925,167542:0.43631768226623535,144708:0.43260616064071655,149586:0.4301171898841858,150215:0.4292386770248413,156528:0.42641735076904297,137993:0.42435121536254883,162154:0.4224984645843506,130934:0.4219288229942322,110055:0.420926034450531,129828:0.4183611273765564,142014:0.4156966805458069,131293:0.41555726528167725,155038:0.4150437116622925,134367:0.41233575344085693,142460:0.41015028953552246,122191:0.40863460302352905,139057:0.4082350730895996',\n",
       " '131197:119617,131970,127169,123908,155137,126563,120745,167562,176395,126057,122219,120880,32755,136212,126260,187290,170110|142211:0.5024856925010681,131970:0.5012665688991547,142997:0.4702598452568054,157850:0.4462741017341614,126057:0.424765408039093,120880:0.4206811189651489,123908:0.4159502387046814,143413:0.41516542434692383,126563:0.4131547212600708,167628:0.4131537079811096,116415:0.408277690410614,106169:0.404834508895874,144034:0.39581000804901123,175712:0.3937249183654785,168924:0.39284759759902954,133826:0.39135313034057617,126260:0.39112329483032227,89308:0.3901142477989197,135763:0.38971418142318726,138105:0.3874046802520752,119617:0.386660099029541,103706:0.38178157806396484,117968:0.3817440867424011,174475:0.3780297040939331,152688:0.37678420543670654,126878:0.3766879439353943,112808:0.376656174659729,107608:0.37650907039642334,163963:0.3760600686073303',\n",
       " '131209:177304|93317:0.42462170124053955,122040:0.4154452681541443,132554:0.3832339644432068,96035:0.3823082447052002,107258:0.3789138197898865,107048:0.3706570863723755,105165:0.36780303716659546,105825:0.36515045166015625,107901:0.35384953022003174,113099:0.3511332869529724,166907:0.3451564908027649,107701:0.3443131446838379,143891:0.3430163860321045,101925:0.3423062562942505,140509:0.33874666690826416,108202:0.32655370235443115,136244:0.3225190043449402,90180:0.3082827925682068,127333:0.3062940835952759,93182:0.2913631200790405,122446:0.28885793685913086,103376:0.2882782816886902,143480:0.2849329710006714,140873:0.27295005321502686,107846:0.26817911863327026,145918:0.2648148536682129,104325:0.2580907940864563,156254:0.25770121812820435,107847:0.24421793222427368']"
      ]
     },
     "execution_count": 54,
     "metadata": {},
     "output_type": "execute_result"
    }
   ],
   "source": [
    "exported_rank[:20]"
   ]
  },
  {
   "cell_type": "markdown",
   "metadata": {},
   "source": [
    "### Retrieval evaluation"
   ]
  },
  {
   "cell_type": "code",
   "execution_count": 55,
   "metadata": {},
   "outputs": [
    {
     "name": "stdout",
     "output_type": "stream",
     "text": [
      "Total of queries: 17002\n"
     ]
    }
   ],
   "source": [
    "print(\"Total of queries:\", len(retrieval.test))"
   ]
  },
  {
   "cell_type": "markdown",
   "metadata": {},
   "source": [
    "#### Getting the model trained"
   ]
  },
  {
   "cell_type": "code",
   "execution_count": 56,
   "metadata": {},
   "outputs": [
    {
     "data": {
      "text/plain": [
       "'bert_preprocessing_baseline_1000_feature_1000epochs_64batch(netbeans)'"
      ]
     },
     "execution_count": 56,
     "metadata": {},
     "output_type": "execute_result"
    }
   ],
   "source": [
    "SAVE_PATH_FEATURE.replace('@number_of_epochs@', str(epochs))"
   ]
  },
  {
   "cell_type": "code",
   "execution_count": 57,
   "metadata": {},
   "outputs": [
    {
     "name": "stdout",
     "output_type": "stream",
     "text": [
      "__________________________________________________________________________________________________\n",
      "Layer (type)                    Output Shape         Param #     Connected to                     \n",
      "==================================================================================================\n",
      "info_in (InputLayer)            (None, 544)          0                                            \n",
      "__________________________________________________________________________________________________\n",
      "title_in (InputLayer)           (None, 20)           0                                            \n",
      "__________________________________________________________________________________________________\n",
      "desc_in (InputLayer)            (None, 20)           0                                            \n",
      "__________________________________________________________________________________________________\n",
      "FeatureMlpGenerationModel (Mode (None, 300)          163500      info_in[0][0]                    \n",
      "__________________________________________________________________________________________________\n",
      "FeatureLstmGenerationModel (Mod (None, 300)          581169900   title_in[0][0]                   \n",
      "__________________________________________________________________________________________________\n",
      "FeatureCNNGenerationModel (Mode (None, 300)          581216592   desc_in[0][0]                    \n",
      "__________________________________________________________________________________________________\n",
      "merge_features_in (Concatenate) (None, 900)          0           FeatureMlpGenerationModel[1][0]  \n",
      "                                                                 FeatureLstmGenerationModel[1][0] \n",
      "                                                                 FeatureCNNGenerationModel[1][0]  \n",
      "==================================================================================================\n",
      "Total params: 1,162,549,992\n",
      "Trainable params: 616,992\n",
      "Non-trainable params: 1,161,933,000\n",
      "__________________________________________________________________________________________________\n"
     ]
    }
   ],
   "source": [
    "encoded_anchor.summary()"
   ]
  },
  {
   "cell_type": "code",
   "execution_count": 58,
   "metadata": {},
   "outputs": [
    {
     "data": {
      "text/plain": [
       "26036"
      ]
     },
     "execution_count": 58,
     "metadata": {},
     "output_type": "execute_result"
    }
   ],
   "source": [
    "len(exported_rank)"
   ]
  },
  {
   "cell_type": "code",
   "execution_count": 59,
   "metadata": {},
   "outputs": [
    {
     "data": {
      "text/plain": [
       "'data/processed/netbeans/bert/exported_rank_baseline_1000.txt'"
      ]
     },
     "execution_count": 59,
     "metadata": {},
     "output_type": "execute_result"
    }
   ],
   "source": [
    "EXPORT_RANK_PATH = os.path.join(DIR, 'exported_rank_{}.txt'.format(METHOD))\n",
    "EXPORT_RANK_PATH"
   ]
  },
  {
   "cell_type": "code",
   "execution_count": 60,
   "metadata": {},
   "outputs": [],
   "source": [
    "with open(EXPORT_RANK_PATH, 'w') as file_out:\n",
    "    for row in exported_rank:\n",
    "        file_out.write(row + \"\\n\")"
   ]
  },
  {
   "cell_type": "code",
   "execution_count": 61,
   "metadata": {},
   "outputs": [
    {
     "data": {
      "text/plain": [
       "{'1 - recall_at_5': 0.49,\n",
       " '2 - recall_at_10': 0.56,\n",
       " '3 - recall_at_15': 0.59,\n",
       " '4 - recall_at_20': 0.62,\n",
       " '5 - recall_at_25': 0.64}"
      ]
     },
     "execution_count": 61,
     "metadata": {},
     "output_type": "execute_result"
    }
   ],
   "source": [
    "report = experiment.evaluation.evaluate(EXPORT_RANK_PATH)\n",
    "report"
   ]
  },
  {
   "cell_type": "markdown",
   "metadata": {},
   "source": [
    "#### Some ideas to visualizate"
   ]
  },
  {
   "cell_type": "markdown",
   "metadata": {},
   "source": [
    "- https://towardsdatascience.com/building-a-recommendation-system-using-neural-network-embeddings-1ef92e5c80c9"
   ]
  }
 ],
 "metadata": {
  "accelerator": "GPU",
  "colab": {
   "collapsed_sections": [],
   "name": "[baseline] Bug triage with Deep Learning.ipynb",
   "provenance": [],
   "toc_visible": true,
   "version": "0.3.2"
  },
  "kernelspec": {
   "display_name": "Python 3",
   "language": "python",
   "name": "python3"
  },
  "language_info": {
   "codemirror_mode": {
    "name": "ipython",
    "version": 3
   },
   "file_extension": ".py",
   "mimetype": "text/x-python",
   "name": "python",
   "nbconvert_exporter": "python",
   "pygments_lexer": "ipython3",
   "version": "3.5.2"
  }
 },
 "nbformat": 4,
 "nbformat_minor": 1
}
