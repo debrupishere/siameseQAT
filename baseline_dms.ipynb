{
 "cells": [
  {
   "cell_type": "markdown",
   "metadata": {
    "colab_type": "text",
    "id": "PtdA1qs_UQP1"
   },
   "source": [
    "# Bug triage with Deep Learning\n",
    "\n",
    "https://github.com/AdrianUng/keras-triplet-loss-mnist/blob/master/Triplet_loss_KERAS_semi_hard_from_TF.ipynb"
   ]
  },
  {
   "cell_type": "code",
   "execution_count": 1,
   "metadata": {},
   "outputs": [
    {
     "name": "stderr",
     "output_type": "stream",
     "text": [
      "Using TensorFlow backend.\n"
     ]
    }
   ],
   "source": [
    "import keras"
   ]
  },
  {
   "cell_type": "code",
   "execution_count": 2,
   "metadata": {
    "colab": {},
    "colab_type": "code",
    "id": "qnSCLmiomFE1"
   },
   "outputs": [],
   "source": [
    "from __future__ import print_function, division"
   ]
  },
  {
   "cell_type": "code",
   "execution_count": 3,
   "metadata": {
    "colab": {},
    "colab_type": "code",
    "id": "OIha-SERnD72"
   },
   "outputs": [],
   "source": [
    "import re\n",
    "import numpy as np\n",
    "import pandas as pd\n",
    "\n",
    "import os\n",
    "from tqdm import tqdm_notebook as tqdm\n",
    "import matplotlib.pyplot as plt\n",
    "import sys\n",
    "from annoy import AnnoyIndex\n",
    "nb_dir = os.path.split(os.getcwd())[0]\n",
    "if nb_dir not in sys.path:\n",
    "    sys.path.append(nb_dir)\n",
    "    \n",
    "%matplotlib inline"
   ]
  },
  {
   "cell_type": "code",
   "execution_count": 4,
   "metadata": {
    "colab": {
     "base_uri": "https://localhost:8080/",
     "height": 34
    },
    "colab_type": "code",
    "id": "c57gQiuAnJAe",
    "outputId": "9eaf2d3f-619a-492d-f40b-6ba2c48426fa"
   },
   "outputs": [],
   "source": [
    "from keras.layers import Conv1D, Input, Add, Activation, Dropout, Embedding, MaxPooling1D, \\\n",
    "    GlobalMaxPool1D, Flatten, Dense, Concatenate, BatchNormalization\n",
    "from keras.models import Sequential, Model\n",
    "from keras.regularizers import l2\n",
    "from keras.initializers import TruncatedNormal\n",
    "from keras.layers.advanced_activations import LeakyReLU, ELU\n",
    "from keras import optimizers"
   ]
  },
  {
   "cell_type": "code",
   "execution_count": 5,
   "metadata": {},
   "outputs": [],
   "source": [
    "from methods.baseline import Baseline\n",
    "from methods.experiments import Experiment\n",
    "from methods.evaluation import Evaluation\n",
    "from methods.retrieval import Retrieval"
   ]
  },
  {
   "cell_type": "markdown",
   "metadata": {
    "colab_type": "text",
    "id": "8uQou7m2-bFO"
   },
   "source": [
    "## Configurações Globais"
   ]
  },
  {
   "cell_type": "code",
   "execution_count": 6,
   "metadata": {
    "colab": {},
    "colab_type": "code",
    "id": "G-Kn3x_K-aZj"
   },
   "outputs": [],
   "source": [
    "MAX_SEQUENCE_LENGTH_T = 20 # 100\n",
    "MAX_SEQUENCE_LENGTH_D = 20 # 500\n",
    "EMBEDDING_DIM = 300\n",
    "MAX_NB_WORDS = 20000\n",
    "'''\n",
    "    Configuration\n",
    "'''\n",
    "epochs = 1000\n",
    "freeze_train = .1 # 10% with freeze weights\n",
    "best_loss = 1\n",
    "best_epoch = 0\n",
    "verbose = 0\n",
    "loss = 1"
   ]
  },
  {
   "cell_type": "markdown",
   "metadata": {},
   "source": [
    "### Parse bugs preproprecessed"
   ]
  },
  {
   "cell_type": "code",
   "execution_count": 7,
   "metadata": {},
   "outputs": [],
   "source": [
    "# Domain to use\n",
    "DOMAIN = 'netbeans'\n",
    "METHOD = 'baseline_{}'.format(epochs)\n",
    "PREPROCESSING = 'bert'\n",
    "TOKEN = 'bert'\n",
    "# Dataset paths\n",
    "DIR = 'data/processed/{}/{}'.format(DOMAIN, PREPROCESSING)\n",
    "DIR_PAIRS = 'data/normalized/{}'.format(DOMAIN)\n",
    "DATASET = os.path.join('data/normalized/{}'.format(DOMAIN), '{}.csv'.format(DOMAIN))\n",
    "# Glove embeddings\n",
    "GLOVE_DIR='data/embed'\n",
    "# Save model\n",
    "SAVE_PATH = '{}_preprocessing_{}_feature@number_of_epochs@epochs_64batch({})'.format(PREPROCESSING, METHOD, DOMAIN)\n",
    "SAVE_PATH_FEATURE = '{}_preprocessing_{}_feature_@number_of_epochs@epochs_64batch({})'.format(PREPROCESSING, METHOD, DOMAIN)\n",
    "\n",
    "# Extract CORPUs\n",
    "EXTRACT_CORPUS = False"
   ]
  },
  {
   "cell_type": "code",
   "execution_count": 8,
   "metadata": {},
   "outputs": [],
   "source": [
    "import os\n",
    "\n",
    "pretrained_path = 'uncased_L-12_H-768_A-12'\n",
    "config_path = os.path.join(pretrained_path, 'bert_config.json')\n",
    "model_path = os.path.join(pretrained_path, 'bert_model.ckpt')\n",
    "vocab_path = os.path.join(pretrained_path, 'vocab.txt')"
   ]
  },
  {
   "cell_type": "code",
   "execution_count": 9,
   "metadata": {},
   "outputs": [],
   "source": [
    "from keras_bert import load_vocabulary\n",
    "\n",
    "token_dict = load_vocabulary(vocab_path)"
   ]
  },
  {
   "cell_type": "code",
   "execution_count": 10,
   "metadata": {},
   "outputs": [],
   "source": [
    "baseline = Baseline(DOMAIN, DIR, DATASET, MAX_SEQUENCE_LENGTH_T, MAX_SEQUENCE_LENGTH_D,\n",
    "                   token_dict['[CLS]'], token_dict['[SEP]'])\n",
    "evaluation = Evaluation(verbose=0)\n",
    "retrieval = Retrieval()\n",
    "experiment = Experiment(baseline, evaluation)"
   ]
  },
  {
   "cell_type": "code",
   "execution_count": 11,
   "metadata": {
    "scrolled": true
   },
   "outputs": [],
   "source": [
    "experiment.set_retrieval(retrieval, baseline, DOMAIN)"
   ]
  },
  {
   "cell_type": "markdown",
   "metadata": {},
   "source": [
    "#### Loading bug ids in memory"
   ]
  },
  {
   "cell_type": "code",
   "execution_count": 12,
   "metadata": {
    "scrolled": true
   },
   "outputs": [
    {
     "name": "stdout",
     "output_type": "stream",
     "text": [
      "Reading bug ids\n"
     ]
    },
    {
     "data": {
      "text/plain": [
       "216715"
      ]
     },
     "execution_count": 12,
     "metadata": {},
     "output_type": "execute_result"
    }
   ],
   "source": [
    "experiment.load_ids()\n",
    "len(baseline.bug_ids)"
   ]
  },
  {
   "cell_type": "markdown",
   "metadata": {
    "colab_type": "text",
    "id": "vqzt5EKzqzcI"
   },
   "source": [
    "#### Dicionário de títulos e descrições"
   ]
  },
  {
   "cell_type": "code",
   "execution_count": 13,
   "metadata": {
    "scrolled": true
   },
   "outputs": [
    {
     "data": {
      "application/vnd.jupyter.widget-view+json": {
       "model_id": "c480e8d1dd054494a449e69d3b9930cd",
       "version_major": 2,
       "version_minor": 0
      },
      "text/plain": [
       "HBox(children=(IntProgress(value=0, max=216715), HTML(value='')))"
      ]
     },
     "metadata": {},
     "output_type": "display_data"
    },
    {
     "name": "stdout",
     "output_type": "stream",
     "text": [
      "\n"
     ]
    },
    {
     "data": {
      "application/vnd.jupyter.widget-view+json": {
       "model_id": "61440bcffe0340fa8ae7b0d2a216fea1",
       "version_major": 2,
       "version_minor": 0
      },
      "text/plain": [
       "HBox(children=(IntProgress(value=1, bar_style='info', max=1), HTML(value='')))"
      ]
     },
     "metadata": {},
     "output_type": "display_data"
    },
    {
     "name": "stdout",
     "output_type": "stream",
     "text": [
      "\n",
      "CPU times: user 38.3 s, sys: 12.2 s, total: 50.5 s\n",
      "Wall time: 1min 41s\n"
     ]
    }
   ],
   "source": [
    "%%time\n",
    "\n",
    "experiment.load_bugs(TOKEN)\n",
    "len(baseline.sentence_dict)"
   ]
  },
  {
   "cell_type": "markdown",
   "metadata": {},
   "source": [
    "#### Hashing bugs by buckets"
   ]
  },
  {
   "cell_type": "code",
   "execution_count": 14,
   "metadata": {
    "scrolled": false
   },
   "outputs": [
    {
     "data": {
      "application/vnd.jupyter.widget-view+json": {
       "model_id": "5162388fca574894b751f5160e968e30",
       "version_major": 2,
       "version_minor": 0
      },
      "text/plain": [
       "HBox(children=(IntProgress(value=0, max=216715), HTML(value='')))"
      ]
     },
     "metadata": {},
     "output_type": "display_data"
    },
    {
     "name": "stdout",
     "output_type": "stream",
     "text": [
      "\n"
     ]
    }
   ],
   "source": [
    "issues_by_buckets = experiment.get_buckets_for_bugs()"
   ]
  },
  {
   "cell_type": "markdown",
   "metadata": {},
   "source": [
    "#### Prepare the train and test"
   ]
  },
  {
   "cell_type": "code",
   "execution_count": 15,
   "metadata": {},
   "outputs": [],
   "source": [
    "# path_train='train_chronological', path_test='test_chronological'\n",
    "experiment.prepare_dataset(issues_by_buckets, path_train='train_chronological', path_test='test_chronological')\n",
    "# Read and create the test queries duplicates\n",
    "retrieval.create_queries()"
   ]
  },
  {
   "cell_type": "code",
   "execution_count": 16,
   "metadata": {},
   "outputs": [
    {
     "data": {
      "text/plain": [
       "[[23370, 26780],\n",
       " [103239, 105067],\n",
       " [61954, 73016],\n",
       " [204317, 202674],\n",
       " [220178, 220147],\n",
       " [195089, 195269],\n",
       " [221186, 219028],\n",
       " [102315, 105397],\n",
       " [196611, 193682],\n",
       " [50448, 50450]]"
      ]
     },
     "execution_count": 16,
     "metadata": {},
     "output_type": "execute_result"
    }
   ],
   "source": [
    "baseline.train_data[:10]"
   ]
  },
  {
   "cell_type": "markdown",
   "metadata": {},
   "source": [
    "#### Recovery bug ids from train"
   ]
  },
  {
   "cell_type": "code",
   "execution_count": 17,
   "metadata": {},
   "outputs": [],
   "source": [
    "bug_train_ids = experiment.get_train_ids(baseline.train_data)"
   ]
  },
  {
   "cell_type": "markdown",
   "metadata": {},
   "source": [
    "### Export the corpus train"
   ]
  },
  {
   "cell_type": "code",
   "execution_count": 18,
   "metadata": {},
   "outputs": [],
   "source": [
    "if EXTRACT_CORPUS:\n",
    "    corpus = []\n",
    "    export_file = open(os.path.join(DIR, 'corpus_train.txt'), 'w')\n",
    "    for bug_id in tqdm(baseline.bug_set):\n",
    "        bug = baseline.bug_set[bug_id]\n",
    "        title = bug['title']\n",
    "        desc = bug['description']\n",
    "        export_file.write(\"{}\\n{}\\n\".format(title, desc))\n",
    "    export_file.close()"
   ]
  },
  {
   "cell_type": "markdown",
   "metadata": {
    "colab_type": "text",
    "id": "a6Obtop6UIVD"
   },
   "source": [
    "# Generating tiple of batches"
   ]
  },
  {
   "cell_type": "code",
   "execution_count": 19,
   "metadata": {
    "scrolled": true
   },
   "outputs": [
    {
     "data": {
      "text/plain": [
       "{'bug_severity': '0\\n',\n",
       " 'bug_status': '0\\n',\n",
       " 'component': '466\\n',\n",
       " 'creation_ts': '2002-06-21 17:09:00 +0000',\n",
       " 'delta_ts': '2002-06-25 18:00:23 +0000',\n",
       " 'description': '[CLS] to match 3 . 4 api ##s . [SEP]',\n",
       " 'description_segment': [0,\n",
       "  0,\n",
       "  0,\n",
       "  0,\n",
       "  0,\n",
       "  0,\n",
       "  0,\n",
       "  0,\n",
       "  0,\n",
       "  0,\n",
       "  0,\n",
       "  0,\n",
       "  0,\n",
       "  0,\n",
       "  0,\n",
       "  0,\n",
       "  0,\n",
       "  0,\n",
       "  0,\n",
       "  0,\n",
       "  0,\n",
       "  0,\n",
       "  0,\n",
       "  0,\n",
       "  0,\n",
       "  0,\n",
       "  0,\n",
       "  0,\n",
       "  0,\n",
       "  0,\n",
       "  0,\n",
       "  0,\n",
       "  0,\n",
       "  0,\n",
       "  0,\n",
       "  0,\n",
       "  0,\n",
       "  0,\n",
       "  0,\n",
       "  0,\n",
       "  0,\n",
       "  0,\n",
       "  0,\n",
       "  0,\n",
       "  0,\n",
       "  0,\n",
       "  0,\n",
       "  0,\n",
       "  0,\n",
       "  0,\n",
       "  0,\n",
       "  0,\n",
       "  0,\n",
       "  0,\n",
       "  0,\n",
       "  0,\n",
       "  0,\n",
       "  0,\n",
       "  0,\n",
       "  0,\n",
       "  0,\n",
       "  0,\n",
       "  0,\n",
       "  0,\n",
       "  0,\n",
       "  0,\n",
       "  0,\n",
       "  0,\n",
       "  0,\n",
       "  0,\n",
       "  0,\n",
       "  0,\n",
       "  0,\n",
       "  0,\n",
       "  0,\n",
       "  0,\n",
       "  0,\n",
       "  0,\n",
       "  0,\n",
       "  0,\n",
       "  0,\n",
       "  0,\n",
       "  0,\n",
       "  0,\n",
       "  0,\n",
       "  0,\n",
       "  0,\n",
       "  0,\n",
       "  0,\n",
       "  0,\n",
       "  0,\n",
       "  0,\n",
       "  0,\n",
       "  0,\n",
       "  0,\n",
       "  0,\n",
       "  0,\n",
       "  0,\n",
       "  0,\n",
       "  0,\n",
       "  0,\n",
       "  0,\n",
       "  0,\n",
       "  0,\n",
       "  0,\n",
       "  0,\n",
       "  0,\n",
       "  0,\n",
       "  0,\n",
       "  0,\n",
       "  0,\n",
       "  0,\n",
       "  0,\n",
       "  0,\n",
       "  0,\n",
       "  0,\n",
       "  0,\n",
       "  0,\n",
       "  0,\n",
       "  0,\n",
       "  0,\n",
       "  0,\n",
       "  0,\n",
       "  0,\n",
       "  0,\n",
       "  0,\n",
       "  0,\n",
       "  0,\n",
       "  0,\n",
       "  0,\n",
       "  0,\n",
       "  0,\n",
       "  0,\n",
       "  0,\n",
       "  0,\n",
       "  0,\n",
       "  0,\n",
       "  0,\n",
       "  0,\n",
       "  0,\n",
       "  0,\n",
       "  0,\n",
       "  0,\n",
       "  0,\n",
       "  0,\n",
       "  0,\n",
       "  0,\n",
       "  0,\n",
       "  0,\n",
       "  0],\n",
       " 'description_token': array([  101,  2000,  2674,  1017,  1012,  1018, 17928,  2015,  1012,\n",
       "            0,     0,     0,     0,     0,     0,     0,     0,     0,\n",
       "            0,   102]),\n",
       " 'dup_id': '[]',\n",
       " 'issue_id': 25039,\n",
       " 'priority': '2\\n',\n",
       " 'product': '11\\n',\n",
       " 'resolution': 'FIXED',\n",
       " 'textual_token': array([  101, 10651,  2330,  5178,  3642,  6503,     0,     0,     0,\n",
       "            0,     0,     0,     0,     0,     0,     0,     0,     0,\n",
       "            0,   102,   101,  2000,  2674,  1017,  1012,  1018, 17928,\n",
       "         2015,  1012,     0,     0,     0,     0,     0,     0,     0,\n",
       "            0,     0,     0,   102]),\n",
       " 'title': '[CLS] update open ##ide code completion [SEP]',\n",
       " 'title_segment': [0,\n",
       "  0,\n",
       "  0,\n",
       "  0,\n",
       "  0,\n",
       "  0,\n",
       "  0,\n",
       "  0,\n",
       "  0,\n",
       "  0,\n",
       "  0,\n",
       "  0,\n",
       "  0,\n",
       "  0,\n",
       "  0,\n",
       "  0,\n",
       "  0,\n",
       "  0,\n",
       "  0,\n",
       "  0,\n",
       "  0,\n",
       "  0,\n",
       "  0,\n",
       "  0,\n",
       "  0,\n",
       "  0,\n",
       "  0,\n",
       "  0,\n",
       "  0,\n",
       "  0,\n",
       "  0,\n",
       "  0,\n",
       "  0,\n",
       "  0,\n",
       "  0,\n",
       "  0,\n",
       "  0,\n",
       "  0,\n",
       "  0,\n",
       "  0,\n",
       "  0,\n",
       "  0,\n",
       "  0,\n",
       "  0,\n",
       "  0,\n",
       "  0,\n",
       "  0,\n",
       "  0,\n",
       "  0,\n",
       "  0],\n",
       " 'title_token': array([  101, 10651,  2330,  5178,  3642,  6503,     0,     0,     0,\n",
       "            0,     0,     0,     0,     0,     0,     0,     0,     0,\n",
       "            0,   102]),\n",
       " 'version': '15\\n'}"
      ]
     },
     "execution_count": 19,
     "metadata": {},
     "output_type": "execute_result"
    }
   ],
   "source": [
    "idx = np.random.choice(baseline.bug_ids, 1)[0]\n",
    "baseline.bug_set[idx]"
   ]
  },
  {
   "cell_type": "markdown",
   "metadata": {},
   "source": [
    "### Generating the batch test"
   ]
  },
  {
   "cell_type": "code",
   "execution_count": 20,
   "metadata": {},
   "outputs": [
    {
     "data": {
      "text/plain": [
       "('Train ', 34596)"
      ]
     },
     "execution_count": 20,
     "metadata": {},
     "output_type": "execute_result"
    }
   ],
   "source": [
    "\"Train \", len(baseline.dup_sets_train)"
   ]
  },
  {
   "cell_type": "code",
   "execution_count": 21,
   "metadata": {},
   "outputs": [],
   "source": [
    "import random\n",
    "\n",
    "# data - path\n",
    "# batch_size - 128\n",
    "# n_neg - 1\n",
    "def batch_iterator(self, retrieval, model, data, dup_sets, bug_ids, \n",
    "                   batch_size, n_neg, issues_by_buckets, TRIPLET_HARD=False, FLOATING_PADDING=False):\n",
    "    # global train_data\n",
    "    # global self.dup_sets\n",
    "    # global self.bug_ids\n",
    "    # global self.bug_set\n",
    "\n",
    "    random.shuffle(data)\n",
    "\n",
    "    batch_features = {'title' : [], 'desc' : [], 'info' : []}\n",
    "\n",
    "    n_train = len(data)\n",
    "\n",
    "    batch_triplets, batch_bugs_anchor, batch_bugs_pos, batch_bugs_neg, batch_bugs = [], [], [], [], []\n",
    "\n",
    "    all_bugs = list(issues_by_buckets.keys())\n",
    "    buckets = retrieval.buckets\n",
    "\n",
    "    for offset in range(batch_size):\n",
    "        anchor, pos = data[offset][0], data[offset][1]\n",
    "        batch_bugs_anchor.append(anchor)\n",
    "        batch_bugs_pos.append(pos)\n",
    "        batch_bugs.append(anchor)\n",
    "        batch_bugs.append(pos)\n",
    "        #batch_bugs += dup_sets[anchor]\n",
    "\n",
    "    for anchor, pos in zip(batch_bugs_anchor, batch_bugs_pos):\n",
    "        while True:\n",
    "            neg = self.get_neg_bug(anchor, buckets[issues_by_buckets[anchor]], issues_by_buckets, all_bugs)\n",
    "            bug_anchor = self.bug_set[anchor]\n",
    "            bug_pos = self.bug_set[pos]\n",
    "            if neg not in self.bug_set:\n",
    "                continue\n",
    "            batch_bugs.append(neg)\n",
    "            batch_bugs_neg.append(neg)\n",
    "            bug_neg = self.bug_set[neg]\n",
    "            break\n",
    "        \n",
    "        # triplet bug and master\n",
    "        batch_triplets.append([anchor, pos, neg])\n",
    "    \n",
    "    random.shuffle(batch_bugs)\n",
    "    \n",
    "    for bug_id in batch_bugs:\n",
    "        bug = self.bug_set[bug_id]\n",
    "        self.read_batch_bugs(batch_features, bug)\n",
    "\n",
    "    batch_features['title'] = np.array(batch_features['title'])\n",
    "    batch_features['desc'] = np.array(batch_features['desc'])\n",
    "    batch_features['info'] = np.array(batch_features['info'])\n",
    "    \n",
    "    sim = np.asarray([issues_by_buckets[bug_id] for bug_id in batch_bugs])\n",
    "\n",
    "    input_sample = {}\n",
    "\n",
    "    input_sample = { 'title' : batch_features['title'], \n",
    "                        'description' : batch_features['desc'], \n",
    "                            'info' : batch_features['info'] }\n",
    "\n",
    "    return batch_triplets, input_sample, sim #sim"
   ]
  },
  {
   "cell_type": "code",
   "execution_count": 22,
   "metadata": {
    "colab": {
     "base_uri": "https://localhost:8080/",
     "height": 51
    },
    "colab_type": "code",
    "id": "PA5CIhgz7odW",
    "outputId": "ae98fdec-1d54-4b1f-ee0e-4c5633802a18",
    "scrolled": true
   },
   "outputs": [
    {
     "name": "stdout",
     "output_type": "stream",
     "text": [
      "CPU times: user 752 ms, sys: 0 ns, total: 752 ms\n",
      "Wall time: 751 ms\n"
     ]
    }
   ],
   "source": [
    "%%time\n",
    "\n",
    "batch_size = 128\n",
    "batch_size_test = 128\n",
    "\n",
    "# we want a constant validation group to have a frame of reference for model performance\n",
    "batch_triplets_valid, valid_input_sample, valid_sim = batch_iterator(baseline, retrieval, None, \n",
    "                                                                                      baseline.train_data, \n",
    "                                                                                      baseline.dup_sets_train,\n",
    "                                                                                      bug_train_ids,\n",
    "                                                                                      batch_size_test, 1,\n",
    "                                                                                      issues_by_buckets)\n",
    "\n",
    "validation_sample = [valid_input_sample['title'], \n",
    "             valid_input_sample['description'],\n",
    "            valid_input_sample['info'], valid_sim]\n",
    "\n",
    "# Categorical columns\n",
    "number_of_columns_info = valid_input_sample['info'].shape[1]\n",
    "# Max sequence title\n",
    "MAX_SEQUENCE_LENGTH_T = valid_input_sample['title'].shape[1]\n",
    "MAX_SEQUENCE_LENGTH_D = valid_input_sample['description'].shape[1]"
   ]
  },
  {
   "cell_type": "code",
   "execution_count": 23,
   "metadata": {},
   "outputs": [
    {
     "data": {
      "text/plain": [
       "((384, 20), (384, 20), (384, 544), (384,))"
      ]
     },
     "execution_count": 23,
     "metadata": {},
     "output_type": "execute_result"
    }
   ],
   "source": [
    "valid_input_sample['title'].shape, valid_input_sample['description'].shape, valid_input_sample['info'].shape, valid_sim.shape"
   ]
  },
  {
   "cell_type": "markdown",
   "metadata": {
    "colab_type": "text",
    "id": "24mY22BGnkqp"
   },
   "source": [
    "### Validar entrada"
   ]
  },
  {
   "cell_type": "code",
   "execution_count": 24,
   "metadata": {
    "colab": {
     "base_uri": "https://localhost:8080/",
     "height": 796
    },
    "colab_type": "code",
    "id": "OhTbr3a5nmrh",
    "outputId": "a2d73e0f-e9ce-4d12-a5c8-f0008d2402d0",
    "scrolled": true
   },
   "outputs": [],
   "source": [
    "# %%time \n",
    "\n",
    "#baseline.display_batch(baseline.train_data, baseline.dup_sets_train, bug_train_ids, 5)"
   ]
  },
  {
   "cell_type": "code",
   "execution_count": 25,
   "metadata": {},
   "outputs": [
    {
     "data": {
      "text/plain": [
       "('Test ', 17002)"
      ]
     },
     "execution_count": 25,
     "metadata": {},
     "output_type": "execute_result"
    }
   ],
   "source": [
    "\"Test \", len(baseline.test_data)"
   ]
  },
  {
   "cell_type": "markdown",
   "metadata": {
    "colab_type": "text",
    "id": "XPrsLs4Kg4Pa"
   },
   "source": [
    "## Pre-trained embeddings\n",
    "\n",
    "Loading pretrained word vectors"
   ]
  },
  {
   "cell_type": "markdown",
   "metadata": {
    "colab_type": "text",
    "id": "6p9eE5TWoH7p"
   },
   "source": [
    "### Glove"
   ]
  },
  {
   "cell_type": "code",
   "execution_count": 26,
   "metadata": {},
   "outputs": [
    {
     "name": "stdout",
     "output_type": "stream",
     "text": [
      "vocabulary loaded\n"
     ]
    }
   ],
   "source": [
    "vocab = baseline.load_vocabulary(os.path.join(DIR, 'vocab_embed.pkl'))\n",
    "#print(np.random.choice(vocab, 10))\n",
    "# for token in vocab:\n",
    "#     print(token)"
   ]
  },
  {
   "cell_type": "code",
   "execution_count": 27,
   "metadata": {},
   "outputs": [
    {
     "data": {
      "text/plain": [
       "'Total vocabulary: 19061'"
      ]
     },
     "execution_count": 27,
     "metadata": {},
     "output_type": "execute_result"
    }
   ],
   "source": [
    "\"Total vocabulary: {}\".format(len(vocab))"
   ]
  },
  {
   "cell_type": "code",
   "execution_count": 28,
   "metadata": {},
   "outputs": [],
   "source": [
    "def generating_embed(baseline, GLOVE_DIR, EMBEDDING_DIM):\n",
    "    embeddings_index = {}\n",
    "    embed_path = os.path.join(GLOVE_DIR, 'glove.42B.300d.txt')\n",
    "    f2 = open(embed_path, 'rb')\n",
    "    num_lines = sum(1 for line in f2)\n",
    "    f2.close()\n",
    "    f = open(embed_path, 'rb')\n",
    "    vocab = baseline.load_vocabulary(os.path.join(baseline.DIR, 'vocab_embed.pkl'))\n",
    "    vocab_size = len(vocab) \n",
    "\n",
    "    # Initialize uniform the vector considering the Tanh activation\n",
    "    embedding_matrix = np.random.uniform(-1.0, 1.0, (num_lines + vocab_size, EMBEDDING_DIM))\n",
    "    embedding_matrix[0, :] = np.zeros(EMBEDDING_DIM)\n",
    "\n",
    "    loop = tqdm(f)\n",
    "    loop.set_description(\"Loading Glove\")\n",
    "    i = 0\n",
    "    for line in loop:\n",
    "        tokens = line.split()\n",
    "        word = tokens[0]\n",
    "        embeddings_index[word] = np.asarray(tokens[1:], dtype='float32')\n",
    "        i+=1\n",
    "        loop.update(1)\n",
    "    f.close()\n",
    "    loop.close()\n",
    "\n",
    "    print('Total %s word vectors in Glove 42B 300d.' % len(embeddings_index))\n",
    "    loop = tqdm(total=vocab_size)\n",
    "    loop.set_description('Loading embedding from dataset pretrained')\n",
    "    for word, embed in vocab.items():\n",
    "        if word not in embeddings_index:\n",
    "            embeddings_index[i] = np.asarray(embed, dtype='float32')\n",
    "        loop.update(1)\n",
    "        i+=1\n",
    "    loop.close()\n",
    "    baseline.embedding_matrix = embedding_matrix"
   ]
  },
  {
   "cell_type": "code",
   "execution_count": 29,
   "metadata": {
    "colab": {
     "base_uri": "https://localhost:8080/",
     "height": 85
    },
    "colab_type": "code",
    "id": "QY-ef3OGoIiq",
    "outputId": "55f4c93c-98bb-4bac-92f2-76bd3b777605"
   },
   "outputs": [
    {
     "name": "stdout",
     "output_type": "stream",
     "text": [
      "vocabulary loaded\n"
     ]
    },
    {
     "data": {
      "application/vnd.jupyter.widget-view+json": {
       "model_id": "f69a8a09afa140279e0116dbe7f59318",
       "version_major": 2,
       "version_minor": 0
      },
      "text/plain": [
       "HBox(children=(IntProgress(value=1, bar_style='info', max=1), HTML(value='')))"
      ]
     },
     "metadata": {},
     "output_type": "display_data"
    },
    {
     "name": "stdout",
     "output_type": "stream",
     "text": [
      "\n",
      "Total 1917494 word vectors in Glove 42B 300d.\n"
     ]
    },
    {
     "data": {
      "application/vnd.jupyter.widget-view+json": {
       "model_id": "598973e0d12444058f4836aaed0eb120",
       "version_major": 2,
       "version_minor": 0
      },
      "text/plain": [
       "HBox(children=(IntProgress(value=0, max=19061), HTML(value='')))"
      ]
     },
     "metadata": {},
     "output_type": "display_data"
    },
    {
     "name": "stdout",
     "output_type": "stream",
     "text": [
      "\n",
      "CPU times: user 1min 32s, sys: 3.47 s, total: 1min 36s\n",
      "Wall time: 1min 34s\n"
     ]
    }
   ],
   "source": [
    "%%time\n",
    "\n",
    "generating_embed(baseline, GLOVE_DIR=GLOVE_DIR, EMBEDDING_DIM=EMBEDDING_DIM) # MAX_NB_WORDS=MAX_NB_WORDS"
   ]
  },
  {
   "cell_type": "markdown",
   "metadata": {},
   "source": [
    "## Experiment"
   ]
  },
  {
   "cell_type": "markdown",
   "metadata": {
    "colab_type": "text",
    "id": "Lev5Y7oaFQBd"
   },
   "source": [
    "## Towards Accurate Duplicate Bug Retrieval Using Deep Learning Techniques\n",
    "\n",
    "https://github.com/tqtg/DuplicateBugFinder"
   ]
  },
  {
   "cell_type": "markdown",
   "metadata": {},
   "source": [
    "### Embedding layer"
   ]
  },
  {
   "cell_type": "code",
   "execution_count": 30,
   "metadata": {},
   "outputs": [],
   "source": [
    "from keras.constraints import MaxNorm\n",
    "from keras.initializers import TruncatedNormal, RandomUniform\n",
    "\n",
    "# Is missing the padding_idx used in pytorch\n",
    "# https://pytorch.org/docs/stable/_modules/torch/nn/modules/sparse.html\n",
    "# https://stackoverflow.com/questions/54824768/rnn-model-gru-of-word2vec-to-regression-not-learning\n",
    "def embedding_layer(embeddings, num_words, embedding_dim, max_sequence_length, trainable):\n",
    "    embedding_layer = Embedding(num_words,\n",
    "                                  embedding_dim,\n",
    "                                  name='embedding_layer',\n",
    "                                  weights=[embeddings],\n",
    "                                  embeddings_constraint=MaxNorm(max_value=1, axis=0),\n",
    "                                  #input_length=max_sequence_length,\n",
    "                                  input_length=None,\n",
    "                                  trainable=trainable)\n",
    "    return embedding_layer"
   ]
  },
  {
   "cell_type": "markdown",
   "metadata": {
    "colab_type": "text",
    "id": "sI074wU4Y13y"
   },
   "source": [
    "### CNN with filter 3,4,5"
   ]
  },
  {
   "cell_type": "code",
   "execution_count": 31,
   "metadata": {
    "colab": {
     "base_uri": "https://localhost:8080/",
     "height": 493
    },
    "colab_type": "code",
    "id": "h6YJU9GtFTyq",
    "outputId": "f85cf105-1fd6-491d-d969-7e6936f32739",
    "scrolled": false
   },
   "outputs": [],
   "source": [
    "import keras\n",
    "from keras.layers import GlobalMaxPooling1D, GlobalAveragePooling1D\n",
    "\n",
    "def cnn_model(embedding_layer, max_sequence_length):\n",
    "\n",
    "    sequence_input = Input(shape=(max_sequence_length,), name='Feature_BugInput')\n",
    "    #sequence_input = Input(shape=(None,), name='Feature_BugInput')\n",
    "    embedded_sequences = embedding_layer(sequence_input)\n",
    "\n",
    "    # Yoon Kim model (https://arxiv.org/abs/1408.5882)\n",
    "    # best combination filter (3, 4, 5) e 128 e 256\n",
    "    convs = []\n",
    "    filter_sizes = [3, 4, 5]\n",
    "    n_filters = 64\n",
    "\n",
    "    for index, filter_size in enumerate(filter_sizes):\n",
    "        l_conv = Conv1D(filters=n_filters, kernel_size=filter_size)(embedded_sequences)\n",
    "        l_pool = MaxPooling1D(pool_size=filter_size)(l_conv) # index+1\n",
    "        convs.append(l_pool)\n",
    "\n",
    "    l_merge = Concatenate(axis=1)(convs)\n",
    "\n",
    "    # add a 1D convnet with global maxpooling, instead of Yoon Kim model\n",
    "    #conv = Conv1D(filters=n_filters * 3, kernel_size=3)(l_merge)\n",
    "    layer = GlobalAveragePooling1D()(l_merge)\n",
    "    #layer = Flatten()(l_merge)\n",
    "    layer = Dense(300, activation='tanh')(layer)\n",
    "    #layer = LeakyReLU()(layer)\n",
    "\n",
    "    cnn_feature_model = Model(inputs=[sequence_input], outputs=[layer], name = 'FeatureCNNGenerationModel') # inputs=visible\n",
    "\n",
    "    return cnn_feature_model"
   ]
  },
  {
   "cell_type": "markdown",
   "metadata": {
    "colab_type": "text",
    "id": "wr6ObTXiaALH"
   },
   "source": [
    "### Bi-LSTM"
   ]
  },
  {
   "cell_type": "code",
   "execution_count": 32,
   "metadata": {
    "colab": {
     "base_uri": "https://localhost:8080/",
     "height": 306
    },
    "colab_type": "code",
    "id": "vC7MQXEsaCeG",
    "outputId": "65e647a9-c5d3-4009-b8a4-2e2d97b52684"
   },
   "outputs": [],
   "source": [
    "from keras.layers import Dense, Input, LSTM, GRU, Dropout, Bidirectional, GlobalAveragePooling1D, TimeDistributed\n",
    "\n",
    "def lstm_model(embedding_layer, max_sequence_length):\n",
    "    number_lstm_units = 75\n",
    "    rate_drop_lstm = 0\n",
    "    recurrent_dropout = 0\n",
    "\n",
    "    sequence_input = Input(shape=(max_sequence_length, ), name='Feature_BugInput')\n",
    "    #sequence_input = Input(shape=(None, ), name='Feature_BugInput')\n",
    "    embedded_sequences = embedding_layer(sequence_input)\n",
    "\n",
    "    left_layer = LSTM(number_lstm_units, return_sequences=True)(embedded_sequences)\n",
    "    right_layer = LSTM(number_lstm_units, return_sequences=True, go_backwards=True)(left_layer)\n",
    "    \n",
    "    lstm_layer = Concatenate()([left_layer, right_layer])\n",
    "    \n",
    "    #lstm_layer = TimeDistributed(Dense(50))(lstm_layer)\n",
    "    #layer = Flatten()(lstm_layer)\n",
    "    layer = GlobalAveragePooling1D()(lstm_layer)\n",
    "    layer = Dense(300, activation='tanh')(layer)\n",
    "\n",
    "    lstm_feature_model = Model(inputs=[sequence_input], outputs=[layer], name = 'FeatureLstmGenerationModel') # inputs=visible\n",
    "\n",
    "    return lstm_feature_model"
   ]
  },
  {
   "cell_type": "markdown",
   "metadata": {},
   "source": [
    "### MLP"
   ]
  },
  {
   "cell_type": "code",
   "execution_count": 33,
   "metadata": {},
   "outputs": [],
   "source": [
    "def mlp_model(input_size):\n",
    "    info_input = Input(shape=(input_size, ), name='Feature_BugInput')\n",
    "    input_size = 300\n",
    "    \n",
    "    for units in [64, 32]:\n",
    "        layer = Dense(units, activation='tanh', kernel_initializer='random_uniform')(info_input)\n",
    "    \n",
    "    layer = Dense(input_size, activation='tanh')(info_input)\n",
    "    \n",
    "    mlp_feature_model = Model(inputs=[info_input], outputs=[layer], name = 'FeatureMlpGenerationModel')\n",
    "    \n",
    "    return mlp_feature_model"
   ]
  },
  {
   "cell_type": "markdown",
   "metadata": {
    "colab_type": "text",
    "id": "TEedCg5AaTf2"
   },
   "source": [
    "### Siamese model"
   ]
  },
  {
   "cell_type": "code",
   "execution_count": 34,
   "metadata": {},
   "outputs": [],
   "source": [
    "def pairwise_distance(feature, squared=False):\n",
    "    \"\"\"Computes the pairwise distance matrix with numerical stability.\n",
    "\n",
    "    output[i, j] = || feature[i, :] - feature[j, :] ||_2\n",
    "\n",
    "    Args:\n",
    "      feature: 2-D Tensor of size [number of data, feature dimension].\n",
    "      squared: Boolean, whether or not to square the pairwise distances.\n",
    "\n",
    "    Returns:\n",
    "      pairwise_distances: 2-D Tensor of size [number of data, number of data].\n",
    "    \"\"\"\n",
    "    pairwise_distances_squared = math_ops.add(\n",
    "        math_ops.reduce_sum(math_ops.square(feature), axis=[1], keepdims=True),\n",
    "        math_ops.reduce_sum(\n",
    "            math_ops.square(array_ops.transpose(feature)),\n",
    "            axis=[0],\n",
    "            keepdims=True)) - 2.0 * math_ops.matmul(feature,\n",
    "                                                    array_ops.transpose(feature))\n",
    "\n",
    "    # Deal with numerical inaccuracies. Set small negatives to zero.\n",
    "    pairwise_distances_squared = math_ops.maximum(pairwise_distances_squared, 0.0)\n",
    "    # Get the mask where the zero distances are at.\n",
    "    error_mask = math_ops.less_equal(pairwise_distances_squared, 0.0)\n",
    "\n",
    "    # Optionally take the sqrt.\n",
    "    if squared:\n",
    "        pairwise_distances = pairwise_distances_squared\n",
    "    else:\n",
    "        pairwise_distances = math_ops.sqrt(\n",
    "            pairwise_distances_squared + math_ops.to_float(error_mask) * 1e-16)\n",
    "\n",
    "    # Undo conditionally adding 1e-16.\n",
    "    pairwise_distances = math_ops.multiply(\n",
    "        pairwise_distances, math_ops.to_float(math_ops.logical_not(error_mask)))\n",
    "\n",
    "    num_data = array_ops.shape(feature)[0]\n",
    "    # Explicitly set diagonals to zero.\n",
    "    mask_offdiagonals = array_ops.ones_like(pairwise_distances) - array_ops.diag(\n",
    "        array_ops.ones([num_data]))\n",
    "    pairwise_distances = math_ops.multiply(pairwise_distances, mask_offdiagonals)\n",
    "    return pairwise_distances\n",
    "\n",
    "def masked_maximum(data, mask, dim=1):\n",
    "    \"\"\"Computes the axis wise maximum over chosen elements.\n",
    "\n",
    "    Args:\n",
    "      data: 2-D float `Tensor` of size [n, m].\n",
    "      mask: 2-D Boolean `Tensor` of size [n, m].\n",
    "      dim: The dimension over which to compute the maximum.\n",
    "\n",
    "    Returns:\n",
    "      masked_maximums: N-D `Tensor`.\n",
    "        The maximized dimension is of size 1 after the operation.\n",
    "    \"\"\"\n",
    "    axis_minimums = math_ops.reduce_min(data, dim, keepdims=True)\n",
    "    masked_maximums = math_ops.reduce_max(\n",
    "        math_ops.multiply(data - axis_minimums, mask), dim,\n",
    "        keepdims=True) + axis_minimums\n",
    "    return masked_maximums\n",
    "\n",
    "def masked_minimum(data, mask, dim=1):\n",
    "    \"\"\"Computes the axis wise minimum over chosen elements.\n",
    "\n",
    "    Args:\n",
    "      data: 2-D float `Tensor` of size [n, m].\n",
    "      mask: 2-D Boolean `Tensor` of size [n, m].\n",
    "      dim: The dimension over which to compute the minimum.\n",
    "\n",
    "    Returns:\n",
    "      masked_minimums: N-D `Tensor`.\n",
    "        The minimized dimension is of size 1 after the operation.\n",
    "    \"\"\"\n",
    "    axis_maximums = math_ops.reduce_max(data, dim, keepdims=True)\n",
    "    masked_minimums = math_ops.reduce_min(\n",
    "        math_ops.multiply(data - axis_maximums, mask), dim,\n",
    "        keepdims=True) + axis_maximums\n",
    "    return masked_minimums"
   ]
  },
  {
   "cell_type": "code",
   "execution_count": 35,
   "metadata": {},
   "outputs": [],
   "source": [
    "## required for semi-hard triplet loss:\n",
    "from tensorflow.python.ops import array_ops\n",
    "from tensorflow.python.ops import math_ops\n",
    "from tensorflow.python.framework import dtypes\n",
    "import tensorflow as tf\n",
    "\n",
    "def triplet_loss_adapted_from_tf(y_true, y_pred):\n",
    "    del y_true\n",
    "    margin = 1.\n",
    "    labels = y_pred[:, :1]\n",
    " \n",
    "    labels = tf.cast(labels, dtype='int32')\n",
    "\n",
    "    embeddings = y_pred[:, 1:]\n",
    "\n",
    "    ### Code from Tensorflow function [tf.contrib.losses.metric_learning.triplet_semihard_loss] starts here:\n",
    "    \n",
    "    # Reshape [batch_size] label tensor to a [batch_size, 1] label tensor.\n",
    "    # lshape=array_ops.shape(labels)\n",
    "    # assert lshape.shape == 1\n",
    "    # labels = array_ops.reshape(labels, [lshape[0], 1])\n",
    "\n",
    "    # Build pairwise squared distance matrix.\n",
    "    pdist_matrix = pairwise_distance(embeddings, squared=True)\n",
    "    # Build pairwise binary adjacency matrix.\n",
    "    adjacency = math_ops.equal(labels, array_ops.transpose(labels))\n",
    "    # Invert so we can select negatives only.\n",
    "    adjacency_not = math_ops.logical_not(adjacency)\n",
    "\n",
    "    # global batch_size  \n",
    "    batch_size = array_ops.size(labels) # was 'array_ops.size(labels)'\n",
    "\n",
    "    # Compute the mask.\n",
    "    pdist_matrix_tile = array_ops.tile(pdist_matrix, [batch_size, 1])\n",
    "    mask = math_ops.logical_and(\n",
    "        array_ops.tile(adjacency_not, [batch_size, 1]),\n",
    "        math_ops.greater(\n",
    "            pdist_matrix_tile, array_ops.reshape(\n",
    "                array_ops.transpose(pdist_matrix), [-1, 1])))\n",
    "    mask_final = array_ops.reshape(\n",
    "        math_ops.greater(\n",
    "            math_ops.reduce_sum(\n",
    "                math_ops.cast(mask, dtype=dtypes.float32), 1, keepdims=True),\n",
    "            0.0), [batch_size, batch_size])\n",
    "    mask_final = array_ops.transpose(mask_final)\n",
    "\n",
    "    adjacency_not = math_ops.cast(adjacency_not, dtype=dtypes.float32)\n",
    "    mask = math_ops.cast(mask, dtype=dtypes.float32)\n",
    "\n",
    "    # negatives_outside: smallest D_an where D_an > D_ap.\n",
    "    negatives_outside = array_ops.reshape(\n",
    "        masked_minimum(pdist_matrix_tile, mask), [batch_size, batch_size])\n",
    "    negatives_outside = array_ops.transpose(negatives_outside)\n",
    "\n",
    "    # negatives_inside: largest D_an.\n",
    "    negatives_inside = array_ops.tile(\n",
    "        masked_maximum(pdist_matrix, adjacency_not), [1, batch_size])\n",
    "    semi_hard_negatives = array_ops.where(\n",
    "        mask_final, negatives_outside, negatives_inside)\n",
    "\n",
    "    loss_mat = math_ops.add(margin, pdist_matrix - semi_hard_negatives)\n",
    "\n",
    "    mask_positives = math_ops.cast(\n",
    "        adjacency, dtype=dtypes.float32) - array_ops.diag(\n",
    "        array_ops.ones([batch_size]))\n",
    "\n",
    "    # In lifted-struct, the authors multiply 0.5 for upper triangular\n",
    "    #   in semihard, they take all positive pairs except the diagonal.\n",
    "    num_positives = math_ops.reduce_sum(mask_positives)\n",
    "\n",
    "    semi_hard_triplet_loss_distance = math_ops.truediv(\n",
    "        math_ops.reduce_sum(\n",
    "            math_ops.maximum(\n",
    "                math_ops.multiply(loss_mat, mask_positives), 0.0)),\n",
    "        num_positives,\n",
    "        name='triplet_semihard_loss')\n",
    "    \n",
    "    ### Code from Tensorflow function semi-hard triplet loss ENDS here.\n",
    "    return semi_hard_triplet_loss_distance"
   ]
  },
  {
   "cell_type": "code",
   "execution_count": 36,
   "metadata": {},
   "outputs": [],
   "source": [
    "from keras.layers import concatenate, Add, Lambda, merge, Average, Maximum\n",
    "from keras.optimizers import Adam, Nadam\n",
    "\n",
    "def siamese_model(title_feature_model, desc_feature_model, categorical_feature_model, sequence_length_info, \n",
    "                  sequence_length_t, sequence_length_d, name):\n",
    "  \n",
    "    bug_t = Input(shape = (sequence_length_t, ), name = 'title_{}'.format(name))\n",
    "    bug_d = Input(shape = (sequence_length_d, ), name = 'desc_{}'.format(name))\n",
    "    bug_i = Input(shape = (sequence_length_info, ), name = 'info_{}'.format(name))\n",
    "    \n",
    "    bug_t_feat = title_feature_model(bug_t)\n",
    "    bug_d_feat = desc_feature_model(bug_d)\n",
    "    bug_i_feat = categorical_feature_model(bug_i)\n",
    "    \n",
    "    #bug_feature_output = Add(name = 'merge_features_{}'.format(name))([bug_i_feat, bug_t_feat, bug_d_feat])\n",
    "    bug_feature_output = concatenate([bug_i_feat, bug_t_feat, bug_d_feat], name = 'merge_features_{}'.format(name))\n",
    "    \n",
    "    #     bug_feature_output = Activation('tanh')(bug_feature_output)\n",
    "    \n",
    "    # Bug representation layer\n",
    "    # bug_feature_output = Dense(300, activation='tanh')(bug_feature_output)\n",
    "    \n",
    "    bug_feature_model = Model(inputs=[bug_t, bug_d, bug_i], outputs=[bug_feature_output], name = 'merge_features_{}'.format(name))\n",
    "    \n",
    "    return bug_feature_model"
   ]
  },
  {
   "cell_type": "code",
   "execution_count": 37,
   "metadata": {},
   "outputs": [],
   "source": [
    "def max_margin_objective(encoded_anchor, decay_lr=1):\n",
    "    \n",
    "    input_labels = Input(shape=(1,), name='input_label')    # input layer for labels\n",
    "    inputs = np.concatenate([encoded_anchor.input, [input_labels]], -1).tolist()\n",
    "    \n",
    "    encoded_anchor = encoded_anchor.output\n",
    "    \n",
    "    output = concatenate([input_labels, encoded_anchor])  # concatenating the labels + embeddings\n",
    "    \n",
    "    similarity_model = Model(inputs = inputs, outputs = output, name = 'Similarity_Model')\n",
    "\n",
    "    #optimizer = Nadam(lr=1e-3, beta_1=0.9, beta_2=0.999, epsilon=K.epsilon(), schedule_decay=0.01)\n",
    "    # optimizer = Adam(lr=1e-3 * decay_lr, beta_1=0.9, beta_2=0.999, epsilon=None, decay=0.0, amsgrad=True)\n",
    "\n",
    "    # setup the optimization process \n",
    "    similarity_model.compile(optimizer='adam', loss=triplet_loss_adapted_from_tf) \n",
    "    # metrics=[pos_distance, neg_distance, custom_margin_loss]\n",
    "\n",
    "    return similarity_model"
   ]
  },
  {
   "cell_type": "code",
   "execution_count": 38,
   "metadata": {},
   "outputs": [],
   "source": [
    "# Domain to use\n",
    "limit_train = int(epochs * freeze_train) # 10% de 1000 , 100 epocas\n",
    "METHOD = 'baseline_{}'.format(limit_train)\n",
    "SAVE_PATH = '{}_preprocessing_{}_feature@number_of_epochs@epochs_64batch({})'.format(PREPROCESSING, METHOD, DOMAIN)\n",
    "SAVE_PATH_FEATURE = '{}_preprocessing_{}_feature_@number_of_epochs@epochs_64batch({})'.format(PREPROCESSING, METHOD, DOMAIN)"
   ]
  },
  {
   "cell_type": "code",
   "execution_count": 39,
   "metadata": {},
   "outputs": [],
   "source": [
    "import _pickle as pickle\n",
    "def save_loss(result):\n",
    "    with open(os.path.join(DIR,'{}_log.pkl'.format(METHOD)), 'wb') as f:\n",
    "        pickle.dump(result, f)\n",
    "    print(\"=> result saved!\")"
   ]
  },
  {
   "cell_type": "code",
   "execution_count": 40,
   "metadata": {
    "scrolled": true
   },
   "outputs": [
    {
     "name": "stdout",
     "output_type": "stream",
     "text": [
      "WARNING:tensorflow:From /usr/local/lib/python3.5/dist-packages/keras/backend/tensorflow_backend.py:95: The name tf.reset_default_graph is deprecated. Please use tf.compat.v1.reset_default_graph instead.\n",
      "\n",
      "WARNING:tensorflow:From /usr/local/lib/python3.5/dist-packages/keras/backend/tensorflow_backend.py:98: The name tf.placeholder_with_default is deprecated. Please use tf.compat.v1.placeholder_with_default instead.\n",
      "\n",
      "WARNING:tensorflow:From /usr/local/lib/python3.5/dist-packages/keras/backend/tensorflow_backend.py:102: The name tf.get_default_graph is deprecated. Please use tf.compat.v1.get_default_graph instead.\n",
      "\n",
      "WARNING:tensorflow:From /usr/local/lib/python3.5/dist-packages/keras/backend/tensorflow_backend.py:517: The name tf.placeholder is deprecated. Please use tf.compat.v1.placeholder instead.\n",
      "\n",
      "WARNING:tensorflow:From /usr/local/lib/python3.5/dist-packages/keras/backend/tensorflow_backend.py:4138: The name tf.random_uniform is deprecated. Please use tf.random.uniform instead.\n",
      "\n",
      "WARNING:tensorflow:From /usr/local/lib/python3.5/dist-packages/keras/backend/tensorflow_backend.py:174: The name tf.get_default_session is deprecated. Please use tf.compat.v1.get_default_session instead.\n",
      "\n",
      "WARNING:tensorflow:From /usr/local/lib/python3.5/dist-packages/keras/backend/tensorflow_backend.py:181: The name tf.ConfigProto is deprecated. Please use tf.compat.v1.ConfigProto instead.\n",
      "\n",
      "WARNING:tensorflow:From /usr/local/lib/python3.5/dist-packages/keras/backend/tensorflow_backend.py:186: The name tf.Session is deprecated. Please use tf.compat.v1.Session instead.\n",
      "\n",
      "WARNING:tensorflow:From /usr/local/lib/python3.5/dist-packages/keras/backend/tensorflow_backend.py:190: The name tf.global_variables is deprecated. Please use tf.compat.v1.global_variables instead.\n",
      "\n",
      "WARNING:tensorflow:From /usr/local/lib/python3.5/dist-packages/keras/backend/tensorflow_backend.py:199: The name tf.is_variable_initialized is deprecated. Please use tf.compat.v1.is_variable_initialized instead.\n",
      "\n",
      "WARNING:tensorflow:From /usr/local/lib/python3.5/dist-packages/keras/backend/tensorflow_backend.py:206: The name tf.variables_initializer is deprecated. Please use tf.compat.v1.variables_initializer instead.\n",
      "\n",
      "WARNING:tensorflow:From /usr/local/lib/python3.5/dist-packages/keras/backend/tensorflow_backend.py:3976: The name tf.nn.max_pool is deprecated. Please use tf.nn.max_pool2d instead.\n",
      "\n",
      "WARNING:tensorflow:From /usr/local/lib/python3.5/dist-packages/keras/optimizers.py:790: The name tf.train.Optimizer is deprecated. Please use tf.compat.v1.train.Optimizer instead.\n",
      "\n",
      "WARNING:tensorflow:From <ipython-input-34-cd325db98846>:35: to_float (from tensorflow.python.ops.math_ops) is deprecated and will be removed in a future version.\n",
      "Instructions for updating:\n",
      "Use `tf.cast` instead.\n",
      "WARNING:tensorflow:From <ipython-input-35-3672f63e3254>:59: where (from tensorflow.python.ops.array_ops) is deprecated and will be removed in a future version.\n",
      "Instructions for updating:\n",
      "Use tf.where in 2.0, which has the same broadcast rule as np.where\n",
      "__________________________________________________________________________________________________\n",
      "Layer (type)                    Output Shape         Param #     Connected to                     \n",
      "==================================================================================================\n",
      "info_in (InputLayer)            (None, 544)          0                                            \n",
      "__________________________________________________________________________________________________\n",
      "title_in (InputLayer)           (None, 20)           0                                            \n",
      "__________________________________________________________________________________________________\n",
      "desc_in (InputLayer)            (None, 20)           0                                            \n",
      "__________________________________________________________________________________________________\n",
      "FeatureMlpGenerationModel (Mode (None, 300)          163500      info_in[0][0]                    \n",
      "__________________________________________________________________________________________________\n",
      "FeatureLstmGenerationModel (Mod (None, 300)          581169900   title_in[0][0]                   \n",
      "__________________________________________________________________________________________________\n",
      "FeatureCNNGenerationModel (Mode (None, 300)          581216592   desc_in[0][0]                    \n",
      "__________________________________________________________________________________________________\n",
      "input_label (InputLayer)        (None, 1)            0                                            \n",
      "__________________________________________________________________________________________________\n",
      "merge_features_in (Concatenate) (None, 900)          0           FeatureMlpGenerationModel[1][0]  \n",
      "                                                                 FeatureLstmGenerationModel[1][0] \n",
      "                                                                 FeatureCNNGenerationModel[1][0]  \n",
      "__________________________________________________________________________________________________\n",
      "concatenate_3 (Concatenate)     (None, 901)          0           input_label[0][0]                \n",
      "                                                                 merge_features_in[0][0]          \n",
      "==================================================================================================\n",
      "Total params: 1,162,549,992\n",
      "Trainable params: 616,992\n",
      "Non-trainable params: 1,161,933,000\n",
      "__________________________________________________________________________________________________\n",
      "Total of  100\n",
      "WARNING:tensorflow:From /usr/local/lib/python3.5/dist-packages/keras/backend/tensorflow_backend.py:986: The name tf.assign_add is deprecated. Please use tf.compat.v1.assign_add instead.\n",
      "\n",
      "WARNING:tensorflow:From /usr/local/lib/python3.5/dist-packages/keras/backend/tensorflow_backend.py:973: The name tf.assign is deprecated. Please use tf.compat.v1.assign instead.\n",
      "\n",
      "Epoch: 1 Loss: 0.59, Loss_test: 0.59\n",
      "Epoch: 2 Loss: 0.58, Loss_test: 0.56\n",
      "Epoch: 3 Loss: 0.58, Loss_test: 0.54\n",
      "Epoch: 4 Loss: 0.48, Loss_test: 0.53\n",
      "Epoch: 5 Loss: 0.49, Loss_test: 0.52\n",
      "Epoch: 6 Loss: 0.31, Loss_test: 0.49\n",
      "Epoch: 7 Loss: 0.39, Loss_test: 0.47\n",
      "Epoch: 8 Loss: 0.43, Loss_test: 0.45\n",
      "Epoch: 9 Loss: 0.29, Loss_test: 0.43\n",
      "=> result saved!\n",
      "Epoch: 10 Loss: 0.32, Loss_test: 0.41\n",
      "Epoch: 11 Loss: 0.42, Loss_test: 0.40\n",
      "Epoch: 12 Loss: 0.39, Loss_test: 0.39\n",
      "Epoch: 13 Loss: 0.45, Loss_test: 0.37\n",
      "Epoch: 14 Loss: 0.33, Loss_test: 0.35\n",
      "Epoch: 15 Loss: 0.28, Loss_test: 0.35\n",
      "Epoch: 16 Loss: 0.32, Loss_test: 0.35\n",
      "Epoch: 17 Loss: 0.24, Loss_test: 0.35\n",
      "Epoch: 18 Loss: 0.32, Loss_test: 0.35\n",
      "Epoch: 19 Loss: 0.26, Loss_test: 0.34\n",
      "=> result saved!\n",
      "Epoch: 20 Loss: 0.30, Loss_test: 0.32\n",
      "Epoch: 21 Loss: 0.25, Loss_test: 0.30\n",
      "Epoch: 22 Loss: 0.32, Loss_test: 0.27\n",
      "Epoch: 23 Loss: 0.24, Loss_test: 0.25\n",
      "Epoch: 24 Loss: 0.21, Loss_test: 0.24\n",
      "Epoch: 25 Loss: 0.21, Loss_test: 0.22\n",
      "Epoch: 26 Loss: 0.28, Loss_test: 0.22\n",
      "Epoch: 27 Loss: 0.40, Loss_test: 0.22\n",
      "Epoch: 28 Loss: 0.18, Loss_test: 0.22\n",
      "Epoch: 29 Loss: 0.21, Loss_test: 0.21\n",
      "=> result saved!\n",
      "Epoch: 30 Loss: 0.26, Loss_test: 0.21\n",
      "Epoch: 31 Loss: 0.16, Loss_test: 0.20\n",
      "Epoch: 32 Loss: 0.30, Loss_test: 0.20\n",
      "Epoch: 33 Loss: 0.28, Loss_test: 0.19\n",
      "Epoch: 34 Loss: 0.15, Loss_test: 0.19\n",
      "Epoch: 35 Loss: 0.30, Loss_test: 0.18\n",
      "Epoch: 36 Loss: 0.18, Loss_test: 0.19\n",
      "Epoch: 37 Loss: 0.26, Loss_test: 0.19\n",
      "Epoch: 38 Loss: 0.26, Loss_test: 0.19\n",
      "Epoch: 39 Loss: 0.16, Loss_test: 0.19\n",
      "=> result saved!\n",
      "Epoch: 40 Loss: 0.27, Loss_test: 0.19\n",
      "Epoch: 41 Loss: 0.26, Loss_test: 0.19\n",
      "Epoch: 42 Loss: 0.16, Loss_test: 0.19\n",
      "Epoch: 43 Loss: 0.14, Loss_test: 0.19\n",
      "Epoch: 44 Loss: 0.24, Loss_test: 0.18\n",
      "Epoch: 45 Loss: 0.16, Loss_test: 0.17\n",
      "Epoch: 46 Loss: 0.19, Loss_test: 0.16\n",
      "Epoch: 47 Loss: 0.21, Loss_test: 0.15\n",
      "Epoch: 48 Loss: 0.17, Loss_test: 0.15\n",
      "Epoch: 49 Loss: 0.10, Loss_test: 0.15\n",
      "=> result saved!\n",
      "Epoch: 50 Loss: 0.15, Loss_test: 0.14\n",
      "Epoch: 51 Loss: 0.18, Loss_test: 0.15\n",
      "Epoch: 52 Loss: 0.21, Loss_test: 0.14\n",
      "Epoch: 53 Loss: 0.19, Loss_test: 0.14\n",
      "Epoch: 54 Loss: 0.21, Loss_test: 0.14\n",
      "Epoch: 55 Loss: 0.17, Loss_test: 0.15\n",
      "Epoch: 56 Loss: 0.14, Loss_test: 0.15\n",
      "Epoch: 57 Loss: 0.18, Loss_test: 0.15\n"
     ]
    },
    {
     "name": "stdout",
     "output_type": "stream",
     "text": [
      "Epoch: 58 Loss: 0.13, Loss_test: 0.15\n",
      "Epoch: 59 Loss: 0.15, Loss_test: 0.15\n",
      "=> result saved!\n",
      "Epoch: 60 Loss: 0.25, Loss_test: 0.14\n",
      "Epoch: 61 Loss: 0.17, Loss_test: 0.12\n",
      "Epoch: 62 Loss: 0.14, Loss_test: 0.13\n",
      "Epoch: 63 Loss: 0.16, Loss_test: 0.13\n",
      "Epoch: 64 Loss: 0.08, Loss_test: 0.13\n",
      "Epoch: 65 Loss: 0.13, Loss_test: 0.13\n",
      "Epoch: 66 Loss: 0.22, Loss_test: 0.12\n",
      "Epoch: 67 Loss: 0.12, Loss_test: 0.13\n",
      "Epoch: 68 Loss: 0.13, Loss_test: 0.13\n",
      "Epoch: 69 Loss: 0.14, Loss_test: 0.12\n",
      "=> result saved!\n",
      "Epoch: 70 Loss: 0.18, Loss_test: 0.12\n",
      "Epoch: 71 Loss: 0.11, Loss_test: 0.11\n",
      "Epoch: 72 Loss: 0.11, Loss_test: 0.11\n",
      "Epoch: 73 Loss: 0.12, Loss_test: 0.11\n",
      "Epoch: 74 Loss: 0.11, Loss_test: 0.11\n",
      "Epoch: 75 Loss: 0.13, Loss_test: 0.11\n",
      "Epoch: 76 Loss: 0.11, Loss_test: 0.12\n",
      "Epoch: 77 Loss: 0.13, Loss_test: 0.11\n",
      "Epoch: 78 Loss: 0.11, Loss_test: 0.11\n",
      "Epoch: 79 Loss: 0.15, Loss_test: 0.11\n",
      "=> result saved!\n",
      "Epoch: 80 Loss: 0.14, Loss_test: 0.11\n",
      "Epoch: 81 Loss: 0.12, Loss_test: 0.10\n",
      "Epoch: 82 Loss: 0.09, Loss_test: 0.10\n",
      "Epoch: 83 Loss: 0.14, Loss_test: 0.11\n",
      "Epoch: 84 Loss: 0.09, Loss_test: 0.11\n",
      "Epoch: 85 Loss: 0.13, Loss_test: 0.11\n",
      "Epoch: 86 Loss: 0.07, Loss_test: 0.11\n",
      "Epoch: 87 Loss: 0.22, Loss_test: 0.11\n",
      "Epoch: 88 Loss: 0.16, Loss_test: 0.11\n",
      "Epoch: 89 Loss: 0.08, Loss_test: 0.10\n",
      "=> result saved!\n",
      "Epoch: 90 Loss: 0.16, Loss_test: 0.10\n",
      "Epoch: 91 Loss: 0.09, Loss_test: 0.11\n",
      "Epoch: 92 Loss: 0.08, Loss_test: 0.11\n",
      "Epoch: 93 Loss: 0.15, Loss_test: 0.10\n",
      "Epoch: 94 Loss: 0.09, Loss_test: 0.10\n",
      "Epoch: 95 Loss: 0.13, Loss_test: 0.10\n",
      "Epoch: 96 Loss: 0.10, Loss_test: 0.10\n",
      "Epoch: 97 Loss: 0.10, Loss_test: 0.10\n",
      "Epoch: 98 Loss: 0.11, Loss_test: 0.10\n",
      "Epoch: 99 Loss: 0.19, Loss_test: 0.09\n",
      "=> result saved!\n",
      "Epoch: 100 Loss: 0.14, Loss_test: 0.09, recall@25: 0.57\n",
      "Best_epoch=86, Best_loss=0.07, Recall@25=0.57\n",
      "CPU times: user 9min 2s, sys: 1min 17s, total: 10min 20s\n",
      "Wall time: 3min 14s\n"
     ]
    }
   ],
   "source": [
    "%%time\n",
    "import keras\n",
    "\n",
    "# Inspired on https://'pastebin.com/TaGFdcBA\n",
    "# TODO: https://stackoverflow.com/questions/49941903/keras-compute-cosine-distance-between-two-flattened-outputs\n",
    "keras.backend.clear_session()\n",
    "\n",
    "# Clear GPU memory\n",
    "# from numba import cuda\n",
    "# cuda.select_device(0)\n",
    "# cuda.close()\n",
    "\n",
    "# Embeddings\n",
    "desc_embedding_layer = embedding_layer(embeddings=baseline.embedding_matrix, \n",
    "                              num_words=len(baseline.embedding_matrix), \n",
    "                              embedding_dim=EMBEDDING_DIM, \n",
    "                              max_sequence_length=MAX_SEQUENCE_LENGTH_D, \n",
    "                              trainable=False)\n",
    "title_embedding_layer = embedding_layer(embeddings=baseline.embedding_matrix, \n",
    "                              num_words=len(baseline.embedding_matrix), \n",
    "                              embedding_dim=EMBEDDING_DIM, \n",
    "                              max_sequence_length=MAX_SEQUENCE_LENGTH_T, \n",
    "                              trainable=False)\n",
    "\n",
    "# Feature models\n",
    "'''\n",
    "    cnn_model\n",
    "    lstm_model\n",
    "    mlp_model\n",
    "'''\n",
    "desc_feature_model = cnn_model(desc_embedding_layer, MAX_SEQUENCE_LENGTH_D)\n",
    "title_feature_model = lstm_model(title_embedding_layer, MAX_SEQUENCE_LENGTH_T)\n",
    "categorical_feature_model = mlp_model(number_of_columns_info)\n",
    "\n",
    "# Similarity model\n",
    "encoded_anchor = siamese_model(title_feature_model, desc_feature_model, categorical_feature_model, \n",
    "                                     number_of_columns_info, MAX_SEQUENCE_LENGTH_T, MAX_SEQUENCE_LENGTH_D, 'in')\n",
    "\n",
    "similarity_model = max_margin_objective(encoded_anchor, decay_lr=1)\n",
    "\n",
    "# cnn_feature_model.summary()\n",
    "# lstm_feature_model.summary()\n",
    "similarity_model.summary()\n",
    "\n",
    "'''\n",
    "    Experiment\n",
    "'''\n",
    "result = { 'train' : [], 'test' : [] }\n",
    "print(\"Total of \", limit_train)\n",
    "for epoch in range(limit_train):\n",
    "    batch_triplet_train, \\\n",
    "        train_input_sample, train_sim = batch_iterator(baseline, retrieval, encoded_anchor, baseline.train_data, \n",
    "                                                       baseline.dup_sets_train, bug_train_ids, \n",
    "                                                           batch_size, 1, issues_by_buckets, TRIPLET_HARD=False)\n",
    "    train_batch = [train_input_sample['title'], train_input_sample['description'], train_input_sample['info'], train_sim]\n",
    "    \n",
    "    h = similarity_model.train_on_batch(x=train_batch, y=train_sim)\n",
    "    h_validation = similarity_model.test_on_batch(x=validation_sample, y=valid_sim)\n",
    "    \n",
    "     # save results\n",
    "    result['train'].append(h)\n",
    "    result['test'].append(h_validation)\n",
    "    \n",
    "    if( (epoch+1) % 10 == 0 or (epoch+1 == limit_train) ):\n",
    "        save_loss(result)\n",
    "    \n",
    "    if (epoch+1 == limit_train): #(epoch > 1 and epoch % 10 == 0) or (epoch+1 == epochs):\n",
    "        recall, exported_rank, debug = experiment.evaluate_validation_test(retrieval, verbose, encoded_anchor, issues_by_buckets, bug_train_ids)\n",
    "        print(\"Epoch: {} Loss: {:.2f}, Loss_test: {:.2f}, recall@25: {:.2f}\".format(epoch+1, h, h_validation, recall))\n",
    "    else:\n",
    "        print(\"Epoch: {} Loss: {:.2f}, Loss_test: {:.2f}\".format(epoch+1, h, h_validation))\n",
    "    loss = h\n",
    "    \n",
    "    if loss < best_loss:\n",
    "        best_loss = loss\n",
    "        best_epoch = epoch+1\n",
    "\n",
    "#experiment.save_model(similarity_model, SAVE_PATH.replace('@number_of_epochs@', str(epochs)))\n",
    "#experiment.save_model(encoded_anchor, SAVE_PATH_FEATURE.replace('@number_of_epochs@', str(epochs)), verbose=1)\n",
    "print('Best_epoch={}, Best_loss={:.2f}, Recall@25={:.2f}'.format(best_epoch, best_loss, recall))"
   ]
  },
  {
   "cell_type": "code",
   "execution_count": 41,
   "metadata": {},
   "outputs": [
    {
     "data": {
      "text/plain": [
       "'data/processed/netbeans/bert/exported_rank_baseline_100.txt'"
      ]
     },
     "execution_count": 41,
     "metadata": {},
     "output_type": "execute_result"
    }
   ],
   "source": [
    "EXPORT_RANK_PATH = os.path.join(DIR, 'exported_rank_{}.txt'.format(METHOD))\n",
    "EXPORT_RANK_PATH"
   ]
  },
  {
   "cell_type": "code",
   "execution_count": 42,
   "metadata": {},
   "outputs": [],
   "source": [
    "with open(EXPORT_RANK_PATH, 'w') as file_out:\n",
    "    for row in exported_rank:\n",
    "        file_out.write(row + \"\\n\")"
   ]
  },
  {
   "cell_type": "code",
   "execution_count": 43,
   "metadata": {},
   "outputs": [
    {
     "name": "stdout",
     "output_type": "stream",
     "text": [
      "Saved model 'modelos/model_bert_preprocessing_baseline_100_feature_100epochs_64batch(netbeans).h5' to disk\n"
     ]
    }
   ],
   "source": [
    "experiment.save_model(similarity_model, SAVE_PATH.replace('@number_of_epochs@', str(limit_train)))\n",
    "experiment.save_model(encoded_anchor, SAVE_PATH_FEATURE.replace('@number_of_epochs@', str(limit_train)), verbose=1)"
   ]
  },
  {
   "cell_type": "code",
   "execution_count": 44,
   "metadata": {},
   "outputs": [
    {
     "data": {
      "text/plain": [
       "(100, 100)"
      ]
     },
     "execution_count": 44,
     "metadata": {},
     "output_type": "execute_result"
    }
   ],
   "source": [
    "len(result['train']), len(result['test'])"
   ]
  },
  {
   "cell_type": "code",
   "execution_count": 45,
   "metadata": {},
   "outputs": [
    {
     "name": "stdout",
     "output_type": "stream",
     "text": [
      "__________________________________________________________________________________________________\n",
      "Layer (type)                    Output Shape         Param #     Connected to                     \n",
      "==================================================================================================\n",
      "info_in (InputLayer)            (None, 544)          0                                            \n",
      "__________________________________________________________________________________________________\n",
      "title_in (InputLayer)           (None, 20)           0                                            \n",
      "__________________________________________________________________________________________________\n",
      "desc_in (InputLayer)            (None, 20)           0                                            \n",
      "__________________________________________________________________________________________________\n",
      "FeatureMlpGenerationModel (Mode (None, 300)          163500      info_in[0][0]                    \n",
      "__________________________________________________________________________________________________\n",
      "FeatureLstmGenerationModel (Mod (None, 300)          581169900   title_in[0][0]                   \n",
      "__________________________________________________________________________________________________\n",
      "FeatureCNNGenerationModel (Mode (None, 300)          581216592   desc_in[0][0]                    \n",
      "__________________________________________________________________________________________________\n",
      "input_label (InputLayer)        (None, 1)            0                                            \n",
      "__________________________________________________________________________________________________\n",
      "merge_features_in (Concatenate) (None, 900)          0           FeatureMlpGenerationModel[1][0]  \n",
      "                                                                 FeatureLstmGenerationModel[1][0] \n",
      "                                                                 FeatureCNNGenerationModel[1][0]  \n",
      "__________________________________________________________________________________________________\n",
      "concatenate_3 (Concatenate)     (None, 901)          0           input_label[0][0]                \n",
      "                                                                 merge_features_in[0][0]          \n",
      "==================================================================================================\n",
      "Total params: 1,162,549,992\n",
      "Trainable params: 616,992\n",
      "Non-trainable params: 1,161,933,000\n",
      "__________________________________________________________________________________________________\n"
     ]
    }
   ],
   "source": [
    "model = similarity_model.get_layer('concatenate_3')\n",
    "output = model.output\n",
    "inputs = similarity_model.inputs\n",
    "model = Model(inputs = inputs, outputs = output, name = 'Similarity_Model')\n",
    "\n",
    "# setup the optimization process \n",
    "model.compile(optimizer='adam', loss=triplet_loss_adapted_from_tf)\n",
    "model.summary()"
   ]
  },
  {
   "cell_type": "code",
   "execution_count": 46,
   "metadata": {},
   "outputs": [],
   "source": [
    "# Domain to use\n",
    "METHOD = 'baseline_{}'.format(epochs)\n",
    "SAVE_PATH = '{}_preprocessing_{}_feature@number_of_epochs@epochs_64batch({})'.format(PREPROCESSING, METHOD, DOMAIN)\n",
    "SAVE_PATH_FEATURE = '{}_preprocessing_{}_feature_@number_of_epochs@epochs_64batch({})'.format(PREPROCESSING, METHOD, DOMAIN)"
   ]
  },
  {
   "cell_type": "code",
   "execution_count": 47,
   "metadata": {
    "scrolled": true
   },
   "outputs": [
    {
     "name": "stdout",
     "output_type": "stream",
     "text": [
      "Epoch: 101 Loss: 0.14, Loss_test: 0.10\n",
      "Epoch: 102 Loss: 0.11, Loss_test: 0.11\n",
      "Epoch: 103 Loss: 0.11, Loss_test: 0.12\n",
      "Epoch: 104 Loss: 0.16, Loss_test: 0.11\n",
      "Epoch: 105 Loss: 0.11, Loss_test: 0.10\n",
      "Epoch: 106 Loss: 0.09, Loss_test: 0.10\n",
      "Epoch: 107 Loss: 0.13, Loss_test: 0.10\n",
      "Epoch: 108 Loss: 0.15, Loss_test: 0.11\n",
      "Epoch: 109 Loss: 0.19, Loss_test: 0.11\n",
      "=> result saved!\n",
      "Epoch: 110 Loss: 0.13, Loss_test: 0.11\n",
      "Epoch: 111 Loss: 0.11, Loss_test: 0.11\n",
      "Epoch: 112 Loss: 0.08, Loss_test: 0.11\n",
      "Epoch: 113 Loss: 0.09, Loss_test: 0.10\n",
      "Epoch: 114 Loss: 0.08, Loss_test: 0.10\n",
      "Epoch: 115 Loss: 0.08, Loss_test: 0.10\n",
      "Epoch: 116 Loss: 0.08, Loss_test: 0.10\n",
      "Epoch: 117 Loss: 0.12, Loss_test: 0.11\n",
      "Epoch: 118 Loss: 0.09, Loss_test: 0.10\n",
      "Epoch: 119 Loss: 0.09, Loss_test: 0.10\n",
      "=> result saved!\n",
      "Epoch: 120 Loss: 0.10, Loss_test: 0.10\n",
      "Epoch: 121 Loss: 0.09, Loss_test: 0.10\n",
      "Epoch: 122 Loss: 0.24, Loss_test: 0.09\n",
      "Epoch: 123 Loss: 0.08, Loss_test: 0.09\n",
      "Epoch: 124 Loss: 0.14, Loss_test: 0.10\n",
      "Epoch: 125 Loss: 0.08, Loss_test: 0.11\n",
      "Epoch: 126 Loss: 0.11, Loss_test: 0.11\n",
      "Epoch: 127 Loss: 0.11, Loss_test: 0.09\n",
      "Epoch: 128 Loss: 0.13, Loss_test: 0.08\n",
      "Epoch: 129 Loss: 0.12, Loss_test: 0.09\n",
      "=> result saved!\n",
      "Epoch: 130 Loss: 0.05, Loss_test: 0.10\n",
      "Epoch: 131 Loss: 0.09, Loss_test: 0.10\n",
      "Epoch: 132 Loss: 0.12, Loss_test: 0.08\n",
      "Epoch: 133 Loss: 0.08, Loss_test: 0.08\n",
      "Epoch: 134 Loss: 0.11, Loss_test: 0.08\n",
      "Epoch: 135 Loss: 0.11, Loss_test: 0.09\n",
      "Epoch: 136 Loss: 0.08, Loss_test: 0.09\n",
      "Epoch: 137 Loss: 0.11, Loss_test: 0.09\n",
      "Epoch: 138 Loss: 0.05, Loss_test: 0.09\n",
      "Epoch: 139 Loss: 0.08, Loss_test: 0.09\n",
      "=> result saved!\n",
      "Epoch: 140 Loss: 0.10, Loss_test: 0.09\n",
      "Epoch: 141 Loss: 0.07, Loss_test: 0.09\n",
      "Epoch: 142 Loss: 0.10, Loss_test: 0.08\n",
      "Epoch: 143 Loss: 0.05, Loss_test: 0.08\n",
      "Epoch: 144 Loss: 0.08, Loss_test: 0.08\n",
      "Epoch: 145 Loss: 0.09, Loss_test: 0.07\n",
      "Epoch: 146 Loss: 0.10, Loss_test: 0.07\n",
      "Epoch: 147 Loss: 0.05, Loss_test: 0.07\n",
      "Epoch: 148 Loss: 0.11, Loss_test: 0.07\n",
      "Epoch: 149 Loss: 0.08, Loss_test: 0.07\n",
      "=> result saved!\n",
      "Epoch: 150 Loss: 0.06, Loss_test: 0.07\n",
      "Epoch: 151 Loss: 0.07, Loss_test: 0.07\n",
      "Epoch: 152 Loss: 0.10, Loss_test: 0.07\n",
      "Epoch: 153 Loss: 0.08, Loss_test: 0.07\n",
      "Epoch: 154 Loss: 0.08, Loss_test: 0.07\n",
      "Epoch: 155 Loss: 0.07, Loss_test: 0.07\n",
      "Epoch: 156 Loss: 0.08, Loss_test: 0.07\n",
      "Epoch: 157 Loss: 0.09, Loss_test: 0.07\n",
      "Epoch: 158 Loss: 0.14, Loss_test: 0.06\n",
      "Epoch: 159 Loss: 0.16, Loss_test: 0.06\n",
      "=> result saved!\n",
      "Epoch: 160 Loss: 0.06, Loss_test: 0.07\n",
      "Epoch: 161 Loss: 0.06, Loss_test: 0.07\n",
      "Epoch: 162 Loss: 0.06, Loss_test: 0.07\n",
      "Epoch: 163 Loss: 0.04, Loss_test: 0.08\n",
      "Epoch: 164 Loss: 0.12, Loss_test: 0.07\n",
      "Epoch: 165 Loss: 0.06, Loss_test: 0.07\n",
      "Epoch: 166 Loss: 0.07, Loss_test: 0.06\n",
      "Epoch: 167 Loss: 0.08, Loss_test: 0.07\n",
      "Epoch: 168 Loss: 0.06, Loss_test: 0.06\n",
      "Epoch: 169 Loss: 0.08, Loss_test: 0.07\n",
      "=> result saved!\n",
      "Epoch: 170 Loss: 0.07, Loss_test: 0.07\n",
      "Epoch: 171 Loss: 0.12, Loss_test: 0.07\n",
      "Epoch: 172 Loss: 0.07, Loss_test: 0.06\n",
      "Epoch: 173 Loss: 0.10, Loss_test: 0.06\n",
      "Epoch: 174 Loss: 0.05, Loss_test: 0.06\n",
      "Epoch: 175 Loss: 0.07, Loss_test: 0.06\n",
      "Epoch: 176 Loss: 0.11, Loss_test: 0.06\n",
      "Epoch: 177 Loss: 0.09, Loss_test: 0.05\n",
      "Epoch: 178 Loss: 0.08, Loss_test: 0.06\n",
      "Epoch: 179 Loss: 0.06, Loss_test: 0.05\n",
      "=> result saved!\n",
      "Epoch: 180 Loss: 0.08, Loss_test: 0.06\n",
      "Epoch: 181 Loss: 0.06, Loss_test: 0.06\n",
      "Epoch: 182 Loss: 0.07, Loss_test: 0.06\n",
      "Epoch: 183 Loss: 0.06, Loss_test: 0.06\n",
      "Epoch: 184 Loss: 0.07, Loss_test: 0.06\n",
      "Epoch: 185 Loss: 0.07, Loss_test: 0.05\n",
      "Epoch: 186 Loss: 0.07, Loss_test: 0.06\n",
      "Epoch: 187 Loss: 0.08, Loss_test: 0.07\n",
      "Epoch: 188 Loss: 0.05, Loss_test: 0.06\n",
      "Epoch: 189 Loss: 0.08, Loss_test: 0.06\n",
      "=> result saved!\n",
      "Epoch: 190 Loss: 0.11, Loss_test: 0.06\n",
      "Epoch: 191 Loss: 0.05, Loss_test: 0.06\n",
      "Epoch: 192 Loss: 0.08, Loss_test: 0.06\n",
      "Epoch: 193 Loss: 0.06, Loss_test: 0.05\n",
      "Epoch: 194 Loss: 0.07, Loss_test: 0.05\n",
      "Epoch: 195 Loss: 0.05, Loss_test: 0.05\n",
      "Epoch: 196 Loss: 0.04, Loss_test: 0.06\n",
      "Epoch: 197 Loss: 0.12, Loss_test: 0.05\n",
      "Epoch: 198 Loss: 0.06, Loss_test: 0.06\n",
      "Epoch: 199 Loss: 0.05, Loss_test: 0.06\n",
      "=> result saved!\n",
      "Epoch: 200 Loss: 0.06, Loss_test: 0.06\n",
      "Epoch: 201 Loss: 0.08, Loss_test: 0.06\n",
      "Epoch: 202 Loss: 0.09, Loss_test: 0.06\n",
      "Epoch: 203 Loss: 0.07, Loss_test: 0.09\n",
      "Epoch: 204 Loss: 0.09, Loss_test: 0.09\n",
      "Epoch: 205 Loss: 0.10, Loss_test: 0.09\n",
      "Epoch: 206 Loss: 0.10, Loss_test: 0.06\n",
      "Epoch: 207 Loss: 0.08, Loss_test: 0.06\n",
      "Epoch: 208 Loss: 0.07, Loss_test: 0.07\n",
      "Epoch: 209 Loss: 0.05, Loss_test: 0.07\n",
      "=> result saved!\n",
      "Epoch: 210 Loss: 0.08, Loss_test: 0.08\n",
      "Epoch: 211 Loss: 0.07, Loss_test: 0.07\n",
      "Epoch: 212 Loss: 0.04, Loss_test: 0.08\n",
      "Epoch: 213 Loss: 0.12, Loss_test: 0.08\n",
      "Epoch: 214 Loss: 0.03, Loss_test: 0.08\n",
      "Epoch: 215 Loss: 0.07, Loss_test: 0.07\n",
      "Epoch: 216 Loss: 0.06, Loss_test: 0.06\n",
      "Epoch: 217 Loss: 0.06, Loss_test: 0.05\n",
      "Epoch: 218 Loss: 0.09, Loss_test: 0.05\n",
      "Epoch: 219 Loss: 0.06, Loss_test: 0.05\n",
      "=> result saved!\n",
      "Epoch: 220 Loss: 0.07, Loss_test: 0.06\n",
      "Epoch: 221 Loss: 0.08, Loss_test: 0.05\n",
      "Epoch: 222 Loss: 0.05, Loss_test: 0.05\n",
      "Epoch: 223 Loss: 0.05, Loss_test: 0.05\n",
      "Epoch: 224 Loss: 0.04, Loss_test: 0.05\n",
      "Epoch: 225 Loss: 0.06, Loss_test: 0.06\n",
      "Epoch: 226 Loss: 0.09, Loss_test: 0.05\n",
      "Epoch: 227 Loss: 0.09, Loss_test: 0.05\n",
      "Epoch: 228 Loss: 0.04, Loss_test: 0.05\n",
      "Epoch: 229 Loss: 0.12, Loss_test: 0.05\n",
      "=> result saved!\n",
      "Epoch: 230 Loss: 0.07, Loss_test: 0.05\n",
      "Epoch: 231 Loss: 0.09, Loss_test: 0.05\n",
      "Epoch: 232 Loss: 0.04, Loss_test: 0.06\n",
      "Epoch: 233 Loss: 0.05, Loss_test: 0.05\n",
      "Epoch: 234 Loss: 0.06, Loss_test: 0.05\n",
      "Epoch: 235 Loss: 0.04, Loss_test: 0.05\n",
      "Epoch: 236 Loss: 0.07, Loss_test: 0.05\n",
      "Epoch: 237 Loss: 0.07, Loss_test: 0.05\n",
      "Epoch: 238 Loss: 0.07, Loss_test: 0.05\n",
      "Epoch: 239 Loss: 0.04, Loss_test: 0.05\n",
      "=> result saved!\n",
      "Epoch: 240 Loss: 0.07, Loss_test: 0.05\n",
      "Epoch: 241 Loss: 0.05, Loss_test: 0.05\n",
      "Epoch: 242 Loss: 0.06, Loss_test: 0.05\n",
      "Epoch: 243 Loss: 0.08, Loss_test: 0.05\n",
      "Epoch: 244 Loss: 0.07, Loss_test: 0.05\n",
      "Epoch: 245 Loss: 0.05, Loss_test: 0.05\n",
      "Epoch: 246 Loss: 0.09, Loss_test: 0.05\n",
      "Epoch: 247 Loss: 0.07, Loss_test: 0.06\n",
      "Epoch: 248 Loss: 0.06, Loss_test: 0.06\n",
      "Epoch: 249 Loss: 0.06, Loss_test: 0.06\n",
      "=> result saved!\n",
      "Epoch: 250 Loss: 0.04, Loss_test: 0.06\n",
      "Epoch: 251 Loss: 0.05, Loss_test: 0.06\n",
      "Epoch: 252 Loss: 0.05, Loss_test: 0.05\n",
      "Epoch: 253 Loss: 0.06, Loss_test: 0.05\n",
      "Epoch: 254 Loss: 0.06, Loss_test: 0.05\n",
      "Epoch: 255 Loss: 0.03, Loss_test: 0.05\n",
      "Epoch: 256 Loss: 0.04, Loss_test: 0.05\n",
      "Epoch: 257 Loss: 0.04, Loss_test: 0.05\n",
      "Epoch: 258 Loss: 0.06, Loss_test: 0.06\n",
      "Epoch: 259 Loss: 0.05, Loss_test: 0.05\n",
      "=> result saved!\n",
      "Epoch: 260 Loss: 0.05, Loss_test: 0.05\n",
      "Epoch: 261 Loss: 0.05, Loss_test: 0.05\n",
      "Epoch: 262 Loss: 0.07, Loss_test: 0.05\n",
      "Epoch: 263 Loss: 0.03, Loss_test: 0.05\n",
      "Epoch: 264 Loss: 0.04, Loss_test: 0.06\n",
      "Epoch: 265 Loss: 0.09, Loss_test: 0.05\n",
      "Epoch: 266 Loss: 0.06, Loss_test: 0.04\n",
      "Epoch: 267 Loss: 0.04, Loss_test: 0.05\n",
      "Epoch: 268 Loss: 0.06, Loss_test: 0.05\n",
      "Epoch: 269 Loss: 0.05, Loss_test: 0.06\n",
      "=> result saved!\n",
      "Epoch: 270 Loss: 0.06, Loss_test: 0.06\n",
      "Epoch: 271 Loss: 0.05, Loss_test: 0.05\n",
      "Epoch: 272 Loss: 0.05, Loss_test: 0.04\n",
      "Epoch: 273 Loss: 0.05, Loss_test: 0.04\n",
      "Epoch: 274 Loss: 0.06, Loss_test: 0.05\n",
      "Epoch: 275 Loss: 0.06, Loss_test: 0.06\n",
      "Epoch: 276 Loss: 0.06, Loss_test: 0.05\n",
      "Epoch: 277 Loss: 0.04, Loss_test: 0.05\n",
      "Epoch: 278 Loss: 0.07, Loss_test: 0.05\n",
      "Epoch: 279 Loss: 0.08, Loss_test: 0.05\n",
      "=> result saved!\n",
      "Epoch: 280 Loss: 0.07, Loss_test: 0.05\n",
      "Epoch: 281 Loss: 0.05, Loss_test: 0.05\n",
      "Epoch: 282 Loss: 0.09, Loss_test: 0.04\n",
      "Epoch: 283 Loss: 0.08, Loss_test: 0.04\n",
      "Epoch: 284 Loss: 0.05, Loss_test: 0.05\n",
      "Epoch: 285 Loss: 0.08, Loss_test: 0.05\n",
      "Epoch: 286 Loss: 0.04, Loss_test: 0.05\n",
      "Epoch: 287 Loss: 0.04, Loss_test: 0.05\n",
      "Epoch: 288 Loss: 0.04, Loss_test: 0.05\n",
      "Epoch: 289 Loss: 0.08, Loss_test: 0.05\n",
      "=> result saved!\n",
      "Epoch: 290 Loss: 0.06, Loss_test: 0.05\n",
      "Epoch: 291 Loss: 0.06, Loss_test: 0.05\n",
      "Epoch: 292 Loss: 0.05, Loss_test: 0.06\n",
      "Epoch: 293 Loss: 0.04, Loss_test: 0.05\n",
      "Epoch: 294 Loss: 0.07, Loss_test: 0.05\n",
      "Epoch: 295 Loss: 0.06, Loss_test: 0.04\n",
      "Epoch: 296 Loss: 0.04, Loss_test: 0.05\n",
      "Epoch: 297 Loss: 0.06, Loss_test: 0.05\n",
      "Epoch: 298 Loss: 0.05, Loss_test: 0.05\n",
      "Epoch: 299 Loss: 0.06, Loss_test: 0.04\n",
      "=> result saved!\n",
      "Epoch: 300 Loss: 0.03, Loss_test: 0.04\n",
      "Epoch: 301 Loss: 0.07, Loss_test: 0.04\n",
      "Epoch: 302 Loss: 0.06, Loss_test: 0.04\n"
     ]
    },
    {
     "name": "stdout",
     "output_type": "stream",
     "text": [
      "Epoch: 303 Loss: 0.06, Loss_test: 0.04\n",
      "Epoch: 304 Loss: 0.08, Loss_test: 0.04\n",
      "Epoch: 305 Loss: 0.04, Loss_test: 0.04\n",
      "Epoch: 306 Loss: 0.03, Loss_test: 0.04\n",
      "Epoch: 307 Loss: 0.04, Loss_test: 0.04\n",
      "Epoch: 308 Loss: 0.04, Loss_test: 0.04\n",
      "Epoch: 309 Loss: 0.03, Loss_test: 0.04\n",
      "=> result saved!\n",
      "Epoch: 310 Loss: 0.08, Loss_test: 0.04\n",
      "Epoch: 311 Loss: 0.04, Loss_test: 0.03\n",
      "Epoch: 312 Loss: 0.04, Loss_test: 0.03\n",
      "Epoch: 313 Loss: 0.06, Loss_test: 0.04\n",
      "Epoch: 314 Loss: 0.04, Loss_test: 0.04\n",
      "Epoch: 315 Loss: 0.05, Loss_test: 0.04\n",
      "Epoch: 316 Loss: 0.03, Loss_test: 0.03\n",
      "Epoch: 317 Loss: 0.04, Loss_test: 0.04\n",
      "Epoch: 318 Loss: 0.03, Loss_test: 0.03\n",
      "Epoch: 319 Loss: 0.05, Loss_test: 0.03\n",
      "=> result saved!\n",
      "Epoch: 320 Loss: 0.06, Loss_test: 0.03\n",
      "Epoch: 321 Loss: 0.05, Loss_test: 0.03\n",
      "Epoch: 322 Loss: 0.03, Loss_test: 0.03\n",
      "Epoch: 323 Loss: 0.07, Loss_test: 0.03\n",
      "Epoch: 324 Loss: 0.03, Loss_test: 0.03\n",
      "Epoch: 325 Loss: 0.06, Loss_test: 0.03\n",
      "Epoch: 326 Loss: 0.05, Loss_test: 0.04\n",
      "Epoch: 327 Loss: 0.06, Loss_test: 0.04\n",
      "Epoch: 328 Loss: 0.05, Loss_test: 0.03\n",
      "Epoch: 329 Loss: 0.03, Loss_test: 0.03\n",
      "=> result saved!\n",
      "Epoch: 330 Loss: 0.03, Loss_test: 0.03\n",
      "Epoch: 331 Loss: 0.02, Loss_test: 0.03\n",
      "Epoch: 332 Loss: 0.02, Loss_test: 0.04\n",
      "Epoch: 333 Loss: 0.04, Loss_test: 0.04\n",
      "Epoch: 334 Loss: 0.03, Loss_test: 0.04\n",
      "Epoch: 335 Loss: 0.07, Loss_test: 0.03\n",
      "Epoch: 336 Loss: 0.05, Loss_test: 0.03\n",
      "Epoch: 337 Loss: 0.03, Loss_test: 0.03\n",
      "Epoch: 338 Loss: 0.05, Loss_test: 0.03\n",
      "Epoch: 339 Loss: 0.04, Loss_test: 0.04\n",
      "=> result saved!\n",
      "Epoch: 340 Loss: 0.03, Loss_test: 0.04\n",
      "Epoch: 341 Loss: 0.05, Loss_test: 0.03\n",
      "Epoch: 342 Loss: 0.04, Loss_test: 0.03\n",
      "Epoch: 343 Loss: 0.02, Loss_test: 0.03\n",
      "Epoch: 344 Loss: 0.03, Loss_test: 0.03\n",
      "Epoch: 345 Loss: 0.05, Loss_test: 0.03\n",
      "Epoch: 346 Loss: 0.03, Loss_test: 0.03\n",
      "Epoch: 347 Loss: 0.02, Loss_test: 0.03\n",
      "Epoch: 348 Loss: 0.03, Loss_test: 0.03\n",
      "Epoch: 349 Loss: 0.01, Loss_test: 0.03\n",
      "=> result saved!\n",
      "Epoch: 350 Loss: 0.05, Loss_test: 0.03\n",
      "Epoch: 351 Loss: 0.05, Loss_test: 0.03\n",
      "Epoch: 352 Loss: 0.05, Loss_test: 0.03\n",
      "Epoch: 353 Loss: 0.13, Loss_test: 0.03\n",
      "Epoch: 354 Loss: 0.04, Loss_test: 0.03\n",
      "Epoch: 355 Loss: 0.03, Loss_test: 0.03\n",
      "Epoch: 356 Loss: 0.03, Loss_test: 0.03\n",
      "Epoch: 357 Loss: 0.04, Loss_test: 0.03\n",
      "Epoch: 358 Loss: 0.02, Loss_test: 0.04\n",
      "Epoch: 359 Loss: 0.03, Loss_test: 0.04\n",
      "=> result saved!\n",
      "Epoch: 360 Loss: 0.04, Loss_test: 0.04\n",
      "Epoch: 361 Loss: 0.07, Loss_test: 0.04\n",
      "Epoch: 362 Loss: 0.05, Loss_test: 0.04\n",
      "Epoch: 363 Loss: 0.04, Loss_test: 0.03\n",
      "Epoch: 364 Loss: 0.07, Loss_test: 0.04\n",
      "Epoch: 365 Loss: 0.05, Loss_test: 0.04\n",
      "Epoch: 366 Loss: 0.03, Loss_test: 0.03\n",
      "Epoch: 367 Loss: 0.03, Loss_test: 0.03\n",
      "Epoch: 368 Loss: 0.03, Loss_test: 0.03\n",
      "Epoch: 369 Loss: 0.05, Loss_test: 0.03\n",
      "=> result saved!\n",
      "Epoch: 370 Loss: 0.02, Loss_test: 0.04\n",
      "Epoch: 371 Loss: 0.03, Loss_test: 0.04\n",
      "Epoch: 372 Loss: 0.02, Loss_test: 0.03\n",
      "Epoch: 373 Loss: 0.04, Loss_test: 0.03\n",
      "Epoch: 374 Loss: 0.07, Loss_test: 0.03\n",
      "Epoch: 375 Loss: 0.03, Loss_test: 0.03\n",
      "Epoch: 376 Loss: 0.04, Loss_test: 0.03\n",
      "Epoch: 377 Loss: 0.03, Loss_test: 0.03\n",
      "Epoch: 378 Loss: 0.02, Loss_test: 0.03\n",
      "Epoch: 379 Loss: 0.02, Loss_test: 0.03\n",
      "=> result saved!\n",
      "Epoch: 380 Loss: 0.07, Loss_test: 0.03\n",
      "Epoch: 381 Loss: 0.04, Loss_test: 0.03\n",
      "Epoch: 382 Loss: 0.03, Loss_test: 0.03\n",
      "Epoch: 383 Loss: 0.03, Loss_test: 0.03\n",
      "Epoch: 384 Loss: 0.03, Loss_test: 0.03\n",
      "Epoch: 385 Loss: 0.03, Loss_test: 0.03\n",
      "Epoch: 386 Loss: 0.06, Loss_test: 0.03\n",
      "Epoch: 387 Loss: 0.06, Loss_test: 0.03\n",
      "Epoch: 388 Loss: 0.04, Loss_test: 0.03\n",
      "Epoch: 389 Loss: 0.03, Loss_test: 0.03\n",
      "=> result saved!\n",
      "Epoch: 390 Loss: 0.06, Loss_test: 0.03\n",
      "Epoch: 391 Loss: 0.05, Loss_test: 0.03\n",
      "Epoch: 392 Loss: 0.03, Loss_test: 0.03\n",
      "Epoch: 393 Loss: 0.05, Loss_test: 0.03\n",
      "Epoch: 394 Loss: 0.04, Loss_test: 0.03\n",
      "Epoch: 395 Loss: 0.06, Loss_test: 0.03\n",
      "Epoch: 396 Loss: 0.03, Loss_test: 0.03\n",
      "Epoch: 397 Loss: 0.04, Loss_test: 0.03\n",
      "Epoch: 398 Loss: 0.06, Loss_test: 0.03\n",
      "Epoch: 399 Loss: 0.05, Loss_test: 0.03\n",
      "=> result saved!\n",
      "Epoch: 400 Loss: 0.04, Loss_test: 0.03\n",
      "Epoch: 401 Loss: 0.04, Loss_test: 0.03\n",
      "Epoch: 402 Loss: 0.02, Loss_test: 0.03\n",
      "Epoch: 403 Loss: 0.03, Loss_test: 0.03\n",
      "Epoch: 404 Loss: 0.04, Loss_test: 0.03\n",
      "Epoch: 405 Loss: 0.03, Loss_test: 0.03\n",
      "Epoch: 406 Loss: 0.03, Loss_test: 0.03\n",
      "Epoch: 407 Loss: 0.04, Loss_test: 0.03\n",
      "Epoch: 408 Loss: 0.04, Loss_test: 0.03\n",
      "Epoch: 409 Loss: 0.03, Loss_test: 0.03\n",
      "=> result saved!\n",
      "Epoch: 410 Loss: 0.04, Loss_test: 0.03\n",
      "Epoch: 411 Loss: 0.03, Loss_test: 0.03\n",
      "Epoch: 412 Loss: 0.04, Loss_test: 0.03\n",
      "Epoch: 413 Loss: 0.04, Loss_test: 0.03\n",
      "Epoch: 414 Loss: 0.02, Loss_test: 0.03\n",
      "Epoch: 415 Loss: 0.02, Loss_test: 0.03\n",
      "Epoch: 416 Loss: 0.03, Loss_test: 0.03\n",
      "Epoch: 417 Loss: 0.02, Loss_test: 0.03\n",
      "Epoch: 418 Loss: 0.04, Loss_test: 0.02\n",
      "Epoch: 419 Loss: 0.02, Loss_test: 0.03\n",
      "=> result saved!\n",
      "Epoch: 420 Loss: 0.04, Loss_test: 0.03\n",
      "Epoch: 421 Loss: 0.04, Loss_test: 0.02\n",
      "Epoch: 422 Loss: 0.03, Loss_test: 0.02\n",
      "Epoch: 423 Loss: 0.03, Loss_test: 0.02\n",
      "Epoch: 424 Loss: 0.03, Loss_test: 0.03\n",
      "Epoch: 425 Loss: 0.06, Loss_test: 0.03\n",
      "Epoch: 426 Loss: 0.02, Loss_test: 0.03\n",
      "Epoch: 427 Loss: 0.02, Loss_test: 0.03\n",
      "Epoch: 428 Loss: 0.03, Loss_test: 0.02\n",
      "Epoch: 429 Loss: 0.05, Loss_test: 0.03\n",
      "=> result saved!\n",
      "Epoch: 430 Loss: 0.07, Loss_test: 0.03\n",
      "Epoch: 431 Loss: 0.03, Loss_test: 0.02\n",
      "Epoch: 432 Loss: 0.04, Loss_test: 0.02\n",
      "Epoch: 433 Loss: 0.06, Loss_test: 0.03\n",
      "Epoch: 434 Loss: 0.04, Loss_test: 0.03\n",
      "Epoch: 435 Loss: 0.03, Loss_test: 0.03\n",
      "Epoch: 436 Loss: 0.05, Loss_test: 0.03\n",
      "Epoch: 437 Loss: 0.04, Loss_test: 0.03\n",
      "Epoch: 438 Loss: 0.03, Loss_test: 0.02\n",
      "Epoch: 439 Loss: 0.03, Loss_test: 0.02\n",
      "=> result saved!\n",
      "Epoch: 440 Loss: 0.02, Loss_test: 0.02\n",
      "Epoch: 441 Loss: 0.06, Loss_test: 0.02\n",
      "Epoch: 442 Loss: 0.04, Loss_test: 0.03\n",
      "Epoch: 443 Loss: 0.02, Loss_test: 0.03\n",
      "Epoch: 444 Loss: 0.02, Loss_test: 0.03\n",
      "Epoch: 445 Loss: 0.03, Loss_test: 0.03\n",
      "Epoch: 446 Loss: 0.04, Loss_test: 0.03\n",
      "Epoch: 447 Loss: 0.03, Loss_test: 0.03\n",
      "Epoch: 448 Loss: 0.04, Loss_test: 0.03\n",
      "Epoch: 449 Loss: 0.03, Loss_test: 0.03\n",
      "=> result saved!\n",
      "Epoch: 450 Loss: 0.02, Loss_test: 0.03\n",
      "Epoch: 451 Loss: 0.03, Loss_test: 0.02\n",
      "Epoch: 452 Loss: 0.04, Loss_test: 0.03\n",
      "Epoch: 453 Loss: 0.03, Loss_test: 0.03\n",
      "Epoch: 454 Loss: 0.02, Loss_test: 0.03\n",
      "Epoch: 455 Loss: 0.04, Loss_test: 0.02\n",
      "Epoch: 456 Loss: 0.02, Loss_test: 0.02\n",
      "Epoch: 457 Loss: 0.04, Loss_test: 0.02\n",
      "Epoch: 458 Loss: 0.03, Loss_test: 0.02\n",
      "Epoch: 459 Loss: 0.05, Loss_test: 0.02\n",
      "=> result saved!\n",
      "Epoch: 460 Loss: 0.03, Loss_test: 0.02\n",
      "Epoch: 461 Loss: 0.02, Loss_test: 0.02\n",
      "Epoch: 462 Loss: 0.06, Loss_test: 0.02\n",
      "Epoch: 463 Loss: 0.03, Loss_test: 0.03\n",
      "Epoch: 464 Loss: 0.03, Loss_test: 0.02\n",
      "Epoch: 465 Loss: 0.02, Loss_test: 0.02\n",
      "Epoch: 466 Loss: 0.05, Loss_test: 0.03\n",
      "Epoch: 467 Loss: 0.03, Loss_test: 0.03\n",
      "Epoch: 468 Loss: 0.04, Loss_test: 0.03\n",
      "Epoch: 469 Loss: 0.02, Loss_test: 0.03\n",
      "=> result saved!\n",
      "Epoch: 470 Loss: 0.05, Loss_test: 0.03\n",
      "Epoch: 471 Loss: 0.03, Loss_test: 0.02\n",
      "Epoch: 472 Loss: 0.03, Loss_test: 0.02\n",
      "Epoch: 473 Loss: 0.04, Loss_test: 0.02\n",
      "Epoch: 474 Loss: 0.06, Loss_test: 0.02\n",
      "Epoch: 475 Loss: 0.04, Loss_test: 0.02\n",
      "Epoch: 476 Loss: 0.03, Loss_test: 0.03\n",
      "Epoch: 477 Loss: 0.03, Loss_test: 0.03\n",
      "Epoch: 478 Loss: 0.04, Loss_test: 0.03\n",
      "Epoch: 479 Loss: 0.02, Loss_test: 0.03\n",
      "=> result saved!\n",
      "Epoch: 480 Loss: 0.02, Loss_test: 0.03\n",
      "Epoch: 481 Loss: 0.04, Loss_test: 0.03\n",
      "Epoch: 482 Loss: 0.02, Loss_test: 0.03\n",
      "Epoch: 483 Loss: 0.05, Loss_test: 0.04\n",
      "Epoch: 484 Loss: 0.03, Loss_test: 0.03\n",
      "Epoch: 485 Loss: 0.03, Loss_test: 0.02\n",
      "Epoch: 486 Loss: 0.03, Loss_test: 0.02\n",
      "Epoch: 487 Loss: 0.02, Loss_test: 0.02\n",
      "Epoch: 488 Loss: 0.02, Loss_test: 0.02\n",
      "Epoch: 489 Loss: 0.04, Loss_test: 0.02\n",
      "=> result saved!\n",
      "Epoch: 490 Loss: 0.03, Loss_test: 0.02\n",
      "Epoch: 491 Loss: 0.02, Loss_test: 0.02\n",
      "Epoch: 492 Loss: 0.03, Loss_test: 0.02\n",
      "Epoch: 493 Loss: 0.03, Loss_test: 0.02\n",
      "Epoch: 494 Loss: 0.04, Loss_test: 0.02\n",
      "Epoch: 495 Loss: 0.02, Loss_test: 0.02\n",
      "Epoch: 496 Loss: 0.04, Loss_test: 0.02\n",
      "Epoch: 497 Loss: 0.05, Loss_test: 0.02\n",
      "Epoch: 498 Loss: 0.02, Loss_test: 0.02\n",
      "Epoch: 499 Loss: 0.02, Loss_test: 0.03\n",
      "=> result saved!\n",
      "Epoch: 500 Loss: 0.02, Loss_test: 0.03\n",
      "Epoch: 501 Loss: 0.03, Loss_test: 0.02\n",
      "Epoch: 502 Loss: 0.03, Loss_test: 0.02\n",
      "Epoch: 503 Loss: 0.06, Loss_test: 0.02\n",
      "Epoch: 504 Loss: 0.04, Loss_test: 0.02\n"
     ]
    },
    {
     "name": "stdout",
     "output_type": "stream",
     "text": [
      "Epoch: 505 Loss: 0.03, Loss_test: 0.02\n",
      "Epoch: 506 Loss: 0.02, Loss_test: 0.02\n",
      "Epoch: 507 Loss: 0.02, Loss_test: 0.02\n",
      "Epoch: 508 Loss: 0.03, Loss_test: 0.02\n",
      "Epoch: 509 Loss: 0.02, Loss_test: 0.02\n",
      "=> result saved!\n",
      "Epoch: 510 Loss: 0.03, Loss_test: 0.02\n",
      "Epoch: 511 Loss: 0.03, Loss_test: 0.02\n",
      "Epoch: 512 Loss: 0.03, Loss_test: 0.02\n",
      "Epoch: 513 Loss: 0.03, Loss_test: 0.02\n",
      "Epoch: 514 Loss: 0.04, Loss_test: 0.02\n",
      "Epoch: 515 Loss: 0.03, Loss_test: 0.02\n",
      "Epoch: 516 Loss: 0.03, Loss_test: 0.02\n",
      "Epoch: 517 Loss: 0.06, Loss_test: 0.02\n",
      "Epoch: 518 Loss: 0.03, Loss_test: 0.02\n",
      "Epoch: 519 Loss: 0.04, Loss_test: 0.02\n",
      "=> result saved!\n",
      "Epoch: 520 Loss: 0.03, Loss_test: 0.02\n",
      "Epoch: 521 Loss: 0.06, Loss_test: 0.02\n",
      "Epoch: 522 Loss: 0.03, Loss_test: 0.02\n",
      "Epoch: 523 Loss: 0.04, Loss_test: 0.02\n",
      "Epoch: 524 Loss: 0.05, Loss_test: 0.02\n",
      "Epoch: 525 Loss: 0.05, Loss_test: 0.02\n",
      "Epoch: 526 Loss: 0.03, Loss_test: 0.02\n",
      "Epoch: 527 Loss: 0.05, Loss_test: 0.02\n",
      "Epoch: 528 Loss: 0.03, Loss_test: 0.02\n",
      "Epoch: 529 Loss: 0.03, Loss_test: 0.02\n",
      "=> result saved!\n",
      "Epoch: 530 Loss: 0.02, Loss_test: 0.02\n",
      "Epoch: 531 Loss: 0.05, Loss_test: 0.02\n",
      "Epoch: 532 Loss: 0.04, Loss_test: 0.02\n",
      "Epoch: 533 Loss: 0.03, Loss_test: 0.02\n",
      "Epoch: 534 Loss: 0.04, Loss_test: 0.02\n",
      "Epoch: 535 Loss: 0.04, Loss_test: 0.02\n",
      "Epoch: 536 Loss: 0.02, Loss_test: 0.02\n",
      "Epoch: 537 Loss: 0.03, Loss_test: 0.02\n",
      "Epoch: 538 Loss: 0.02, Loss_test: 0.02\n",
      "Epoch: 539 Loss: 0.06, Loss_test: 0.02\n",
      "=> result saved!\n",
      "Epoch: 540 Loss: 0.04, Loss_test: 0.02\n",
      "Epoch: 541 Loss: 0.03, Loss_test: 0.02\n",
      "Epoch: 542 Loss: 0.04, Loss_test: 0.02\n",
      "Epoch: 543 Loss: 0.03, Loss_test: 0.03\n",
      "Epoch: 544 Loss: 0.03, Loss_test: 0.03\n",
      "Epoch: 545 Loss: 0.02, Loss_test: 0.03\n",
      "Epoch: 546 Loss: 0.02, Loss_test: 0.02\n",
      "Epoch: 547 Loss: 0.02, Loss_test: 0.03\n",
      "Epoch: 548 Loss: 0.03, Loss_test: 0.02\n",
      "Epoch: 549 Loss: 0.03, Loss_test: 0.02\n",
      "=> result saved!\n",
      "Epoch: 550 Loss: 0.02, Loss_test: 0.02\n",
      "Epoch: 551 Loss: 0.02, Loss_test: 0.02\n",
      "Epoch: 552 Loss: 0.02, Loss_test: 0.02\n",
      "Epoch: 553 Loss: 0.05, Loss_test: 0.02\n",
      "Epoch: 554 Loss: 0.02, Loss_test: 0.02\n",
      "Epoch: 555 Loss: 0.03, Loss_test: 0.02\n",
      "Epoch: 556 Loss: 0.04, Loss_test: 0.02\n",
      "Epoch: 557 Loss: 0.03, Loss_test: 0.02\n",
      "Epoch: 558 Loss: 0.03, Loss_test: 0.02\n",
      "Epoch: 559 Loss: 0.04, Loss_test: 0.02\n",
      "=> result saved!\n",
      "Epoch: 560 Loss: 0.02, Loss_test: 0.02\n",
      "Epoch: 561 Loss: 0.04, Loss_test: 0.02\n",
      "Epoch: 562 Loss: 0.04, Loss_test: 0.02\n",
      "Epoch: 563 Loss: 0.02, Loss_test: 0.02\n",
      "Epoch: 564 Loss: 0.03, Loss_test: 0.02\n",
      "Epoch: 565 Loss: 0.02, Loss_test: 0.02\n",
      "Epoch: 566 Loss: 0.03, Loss_test: 0.02\n",
      "Epoch: 567 Loss: 0.03, Loss_test: 0.02\n",
      "Epoch: 568 Loss: 0.03, Loss_test: 0.02\n",
      "Epoch: 569 Loss: 0.04, Loss_test: 0.02\n",
      "=> result saved!\n",
      "Epoch: 570 Loss: 0.02, Loss_test: 0.02\n",
      "Epoch: 571 Loss: 0.05, Loss_test: 0.02\n",
      "Epoch: 572 Loss: 0.02, Loss_test: 0.02\n",
      "Epoch: 573 Loss: 0.03, Loss_test: 0.02\n",
      "Epoch: 574 Loss: 0.04, Loss_test: 0.02\n",
      "Epoch: 575 Loss: 0.03, Loss_test: 0.02\n",
      "Epoch: 576 Loss: 0.02, Loss_test: 0.02\n",
      "Epoch: 577 Loss: 0.04, Loss_test: 0.02\n",
      "Epoch: 578 Loss: 0.03, Loss_test: 0.02\n",
      "Epoch: 579 Loss: 0.03, Loss_test: 0.02\n",
      "=> result saved!\n",
      "Epoch: 580 Loss: 0.01, Loss_test: 0.02\n",
      "Epoch: 581 Loss: 0.02, Loss_test: 0.02\n",
      "Epoch: 582 Loss: 0.03, Loss_test: 0.02\n",
      "Epoch: 583 Loss: 0.02, Loss_test: 0.02\n",
      "Epoch: 584 Loss: 0.04, Loss_test: 0.02\n",
      "Epoch: 585 Loss: 0.02, Loss_test: 0.02\n",
      "Epoch: 586 Loss: 0.04, Loss_test: 0.02\n",
      "Epoch: 587 Loss: 0.02, Loss_test: 0.02\n",
      "Epoch: 588 Loss: 0.01, Loss_test: 0.02\n",
      "Epoch: 589 Loss: 0.02, Loss_test: 0.02\n",
      "=> result saved!\n",
      "Epoch: 590 Loss: 0.03, Loss_test: 0.02\n",
      "Epoch: 591 Loss: 0.05, Loss_test: 0.02\n",
      "Epoch: 592 Loss: 0.02, Loss_test: 0.02\n",
      "Epoch: 593 Loss: 0.03, Loss_test: 0.02\n",
      "Epoch: 594 Loss: 0.02, Loss_test: 0.02\n",
      "Epoch: 595 Loss: 0.03, Loss_test: 0.02\n",
      "Epoch: 596 Loss: 0.03, Loss_test: 0.02\n",
      "Epoch: 597 Loss: 0.02, Loss_test: 0.02\n",
      "Epoch: 598 Loss: 0.03, Loss_test: 0.02\n",
      "Epoch: 599 Loss: 0.02, Loss_test: 0.02\n",
      "=> result saved!\n",
      "Epoch: 600 Loss: 0.02, Loss_test: 0.02\n",
      "Epoch: 601 Loss: 0.02, Loss_test: 0.03\n",
      "Epoch: 602 Loss: 0.03, Loss_test: 0.02\n",
      "Epoch: 603 Loss: 0.02, Loss_test: 0.02\n",
      "Epoch: 604 Loss: 0.03, Loss_test: 0.02\n",
      "Epoch: 605 Loss: 0.02, Loss_test: 0.02\n",
      "Epoch: 606 Loss: 0.03, Loss_test: 0.02\n",
      "Epoch: 607 Loss: 0.04, Loss_test: 0.02\n",
      "Epoch: 608 Loss: 0.03, Loss_test: 0.03\n",
      "Epoch: 609 Loss: 0.03, Loss_test: 0.02\n",
      "=> result saved!\n",
      "Epoch: 610 Loss: 0.02, Loss_test: 0.03\n",
      "Epoch: 611 Loss: 0.02, Loss_test: 0.03\n",
      "Epoch: 612 Loss: 0.03, Loss_test: 0.02\n",
      "Epoch: 613 Loss: 0.03, Loss_test: 0.02\n",
      "Epoch: 614 Loss: 0.02, Loss_test: 0.02\n",
      "Epoch: 615 Loss: 0.02, Loss_test: 0.03\n",
      "Epoch: 616 Loss: 0.04, Loss_test: 0.02\n",
      "Epoch: 617 Loss: 0.02, Loss_test: 0.02\n",
      "Epoch: 618 Loss: 0.03, Loss_test: 0.02\n",
      "Epoch: 619 Loss: 0.03, Loss_test: 0.03\n",
      "=> result saved!\n",
      "Epoch: 620 Loss: 0.03, Loss_test: 0.03\n",
      "Epoch: 621 Loss: 0.04, Loss_test: 0.03\n",
      "Epoch: 622 Loss: 0.01, Loss_test: 0.02\n",
      "Epoch: 623 Loss: 0.04, Loss_test: 0.03\n",
      "Epoch: 624 Loss: 0.03, Loss_test: 0.02\n",
      "Epoch: 625 Loss: 0.05, Loss_test: 0.03\n",
      "Epoch: 626 Loss: 0.03, Loss_test: 0.03\n",
      "Epoch: 627 Loss: 0.02, Loss_test: 0.03\n",
      "Epoch: 628 Loss: 0.05, Loss_test: 0.02\n",
      "Epoch: 629 Loss: 0.03, Loss_test: 0.02\n",
      "=> result saved!\n",
      "Epoch: 630 Loss: 0.02, Loss_test: 0.02\n",
      "Epoch: 631 Loss: 0.03, Loss_test: 0.03\n",
      "Epoch: 632 Loss: 0.02, Loss_test: 0.04\n",
      "Epoch: 633 Loss: 0.03, Loss_test: 0.04\n",
      "Epoch: 634 Loss: 0.02, Loss_test: 0.04\n",
      "Epoch: 635 Loss: 0.04, Loss_test: 0.03\n",
      "Epoch: 636 Loss: 0.04, Loss_test: 0.02\n",
      "Epoch: 637 Loss: 0.02, Loss_test: 0.02\n",
      "Epoch: 638 Loss: 0.02, Loss_test: 0.02\n",
      "Epoch: 639 Loss: 0.05, Loss_test: 0.02\n",
      "=> result saved!\n",
      "Epoch: 640 Loss: 0.02, Loss_test: 0.03\n",
      "Epoch: 641 Loss: 0.05, Loss_test: 0.02\n",
      "Epoch: 642 Loss: 0.02, Loss_test: 0.02\n",
      "Epoch: 643 Loss: 0.04, Loss_test: 0.02\n",
      "Epoch: 644 Loss: 0.03, Loss_test: 0.03\n",
      "Epoch: 645 Loss: 0.06, Loss_test: 0.03\n",
      "Epoch: 646 Loss: 0.02, Loss_test: 0.02\n",
      "Epoch: 647 Loss: 0.03, Loss_test: 0.02\n",
      "Epoch: 648 Loss: 0.03, Loss_test: 0.02\n",
      "Epoch: 649 Loss: 0.02, Loss_test: 0.02\n",
      "=> result saved!\n",
      "Epoch: 650 Loss: 0.03, Loss_test: 0.02\n",
      "Epoch: 651 Loss: 0.04, Loss_test: 0.02\n",
      "Epoch: 652 Loss: 0.03, Loss_test: 0.02\n",
      "Epoch: 653 Loss: 0.04, Loss_test: 0.02\n",
      "Epoch: 654 Loss: 0.03, Loss_test: 0.02\n",
      "Epoch: 655 Loss: 0.03, Loss_test: 0.02\n",
      "Epoch: 656 Loss: 0.02, Loss_test: 0.02\n",
      "Epoch: 657 Loss: 0.02, Loss_test: 0.01\n",
      "Epoch: 658 Loss: 0.02, Loss_test: 0.01\n",
      "Epoch: 659 Loss: 0.02, Loss_test: 0.01\n",
      "=> result saved!\n",
      "Epoch: 660 Loss: 0.02, Loss_test: 0.02\n",
      "Epoch: 661 Loss: 0.03, Loss_test: 0.02\n",
      "Epoch: 662 Loss: 0.02, Loss_test: 0.01\n",
      "Epoch: 663 Loss: 0.03, Loss_test: 0.01\n",
      "Epoch: 664 Loss: 0.02, Loss_test: 0.01\n",
      "Epoch: 665 Loss: 0.04, Loss_test: 0.01\n",
      "Epoch: 666 Loss: 0.03, Loss_test: 0.01\n",
      "Epoch: 667 Loss: 0.02, Loss_test: 0.01\n",
      "Epoch: 668 Loss: 0.03, Loss_test: 0.02\n",
      "Epoch: 669 Loss: 0.03, Loss_test: 0.02\n",
      "=> result saved!\n",
      "Epoch: 670 Loss: 0.01, Loss_test: 0.02\n",
      "Epoch: 671 Loss: 0.03, Loss_test: 0.01\n",
      "Epoch: 672 Loss: 0.02, Loss_test: 0.01\n",
      "Epoch: 673 Loss: 0.02, Loss_test: 0.01\n",
      "Epoch: 674 Loss: 0.01, Loss_test: 0.01\n",
      "Epoch: 675 Loss: 0.01, Loss_test: 0.01\n",
      "Epoch: 676 Loss: 0.02, Loss_test: 0.01\n",
      "Epoch: 677 Loss: 0.04, Loss_test: 0.01\n",
      "Epoch: 678 Loss: 0.03, Loss_test: 0.01\n",
      "Epoch: 679 Loss: 0.03, Loss_test: 0.02\n",
      "=> result saved!\n",
      "Epoch: 680 Loss: 0.01, Loss_test: 0.01\n",
      "Epoch: 681 Loss: 0.02, Loss_test: 0.01\n",
      "Epoch: 682 Loss: 0.02, Loss_test: 0.01\n",
      "Epoch: 683 Loss: 0.05, Loss_test: 0.01\n",
      "Epoch: 684 Loss: 0.03, Loss_test: 0.01\n",
      "Epoch: 685 Loss: 0.04, Loss_test: 0.01\n",
      "Epoch: 686 Loss: 0.03, Loss_test: 0.01\n",
      "Epoch: 687 Loss: 0.02, Loss_test: 0.01\n",
      "Epoch: 688 Loss: 0.02, Loss_test: 0.01\n",
      "Epoch: 689 Loss: 0.03, Loss_test: 0.02\n",
      "=> result saved!\n",
      "Epoch: 690 Loss: 0.03, Loss_test: 0.02\n",
      "Epoch: 691 Loss: 0.01, Loss_test: 0.02\n",
      "Epoch: 692 Loss: 0.02, Loss_test: 0.02\n",
      "Epoch: 693 Loss: 0.01, Loss_test: 0.02\n",
      "Epoch: 694 Loss: 0.02, Loss_test: 0.02\n",
      "Epoch: 695 Loss: 0.03, Loss_test: 0.02\n",
      "Epoch: 696 Loss: 0.03, Loss_test: 0.02\n",
      "Epoch: 697 Loss: 0.03, Loss_test: 0.02\n",
      "Epoch: 698 Loss: 0.01, Loss_test: 0.02\n",
      "Epoch: 699 Loss: 0.02, Loss_test: 0.02\n",
      "=> result saved!\n",
      "Epoch: 700 Loss: 0.01, Loss_test: 0.02\n",
      "Epoch: 701 Loss: 0.03, Loss_test: 0.02\n",
      "Epoch: 702 Loss: 0.03, Loss_test: 0.02\n",
      "Epoch: 703 Loss: 0.02, Loss_test: 0.02\n",
      "Epoch: 704 Loss: 0.03, Loss_test: 0.02\n",
      "Epoch: 705 Loss: 0.03, Loss_test: 0.02\n",
      "Epoch: 706 Loss: 0.04, Loss_test: 0.02\n"
     ]
    },
    {
     "name": "stdout",
     "output_type": "stream",
     "text": [
      "Epoch: 707 Loss: 0.03, Loss_test: 0.02\n",
      "Epoch: 708 Loss: 0.03, Loss_test: 0.02\n",
      "Epoch: 709 Loss: 0.03, Loss_test: 0.02\n",
      "=> result saved!\n",
      "Epoch: 710 Loss: 0.04, Loss_test: 0.02\n",
      "Epoch: 711 Loss: 0.03, Loss_test: 0.02\n",
      "Epoch: 712 Loss: 0.03, Loss_test: 0.02\n",
      "Epoch: 713 Loss: 0.03, Loss_test: 0.02\n",
      "Epoch: 714 Loss: 0.02, Loss_test: 0.02\n",
      "Epoch: 715 Loss: 0.03, Loss_test: 0.02\n",
      "Epoch: 716 Loss: 0.03, Loss_test: 0.02\n",
      "Epoch: 717 Loss: 0.02, Loss_test: 0.02\n",
      "Epoch: 718 Loss: 0.01, Loss_test: 0.02\n",
      "Epoch: 719 Loss: 0.03, Loss_test: 0.02\n",
      "=> result saved!\n",
      "Epoch: 720 Loss: 0.03, Loss_test: 0.02\n",
      "Epoch: 721 Loss: 0.04, Loss_test: 0.02\n",
      "Epoch: 722 Loss: 0.02, Loss_test: 0.02\n",
      "Epoch: 723 Loss: 0.05, Loss_test: 0.02\n",
      "Epoch: 724 Loss: 0.02, Loss_test: 0.01\n",
      "Epoch: 725 Loss: 0.02, Loss_test: 0.01\n",
      "Epoch: 726 Loss: 0.03, Loss_test: 0.02\n",
      "Epoch: 727 Loss: 0.01, Loss_test: 0.01\n",
      "Epoch: 728 Loss: 0.02, Loss_test: 0.02\n",
      "Epoch: 729 Loss: 0.02, Loss_test: 0.02\n",
      "=> result saved!\n",
      "Epoch: 730 Loss: 0.03, Loss_test: 0.02\n",
      "Epoch: 731 Loss: 0.04, Loss_test: 0.02\n",
      "Epoch: 732 Loss: 0.01, Loss_test: 0.02\n",
      "Epoch: 733 Loss: 0.02, Loss_test: 0.02\n",
      "Epoch: 734 Loss: 0.02, Loss_test: 0.02\n",
      "Epoch: 735 Loss: 0.03, Loss_test: 0.02\n",
      "Epoch: 736 Loss: 0.02, Loss_test: 0.02\n",
      "Epoch: 737 Loss: 0.03, Loss_test: 0.02\n",
      "Epoch: 738 Loss: 0.03, Loss_test: 0.02\n",
      "Epoch: 739 Loss: 0.02, Loss_test: 0.02\n",
      "=> result saved!\n",
      "Epoch: 740 Loss: 0.02, Loss_test: 0.02\n",
      "Epoch: 741 Loss: 0.02, Loss_test: 0.02\n",
      "Epoch: 742 Loss: 0.02, Loss_test: 0.02\n",
      "Epoch: 743 Loss: 0.01, Loss_test: 0.02\n",
      "Epoch: 744 Loss: 0.01, Loss_test: 0.02\n",
      "Epoch: 745 Loss: 0.04, Loss_test: 0.02\n",
      "Epoch: 746 Loss: 0.05, Loss_test: 0.01\n",
      "Epoch: 747 Loss: 0.02, Loss_test: 0.02\n",
      "Epoch: 748 Loss: 0.02, Loss_test: 0.02\n",
      "Epoch: 749 Loss: 0.02, Loss_test: 0.02\n",
      "=> result saved!\n",
      "Epoch: 750 Loss: 0.02, Loss_test: 0.02\n",
      "Epoch: 751 Loss: 0.01, Loss_test: 0.02\n",
      "Epoch: 752 Loss: 0.02, Loss_test: 0.02\n",
      "Epoch: 753 Loss: 0.04, Loss_test: 0.02\n",
      "Epoch: 754 Loss: 0.02, Loss_test: 0.02\n",
      "Epoch: 755 Loss: 0.02, Loss_test: 0.02\n",
      "Epoch: 756 Loss: 0.05, Loss_test: 0.01\n",
      "Epoch: 757 Loss: 0.02, Loss_test: 0.02\n",
      "Epoch: 758 Loss: 0.02, Loss_test: 0.02\n",
      "Epoch: 759 Loss: 0.02, Loss_test: 0.02\n",
      "=> result saved!\n",
      "Epoch: 760 Loss: 0.02, Loss_test: 0.02\n",
      "Epoch: 761 Loss: 0.03, Loss_test: 0.02\n",
      "Epoch: 762 Loss: 0.03, Loss_test: 0.02\n",
      "Epoch: 763 Loss: 0.01, Loss_test: 0.02\n",
      "Epoch: 764 Loss: 0.02, Loss_test: 0.01\n",
      "Epoch: 765 Loss: 0.02, Loss_test: 0.01\n",
      "Epoch: 766 Loss: 0.03, Loss_test: 0.01\n",
      "Epoch: 767 Loss: 0.02, Loss_test: 0.01\n",
      "Epoch: 768 Loss: 0.02, Loss_test: 0.01\n",
      "Epoch: 769 Loss: 0.02, Loss_test: 0.02\n",
      "=> result saved!\n",
      "Epoch: 770 Loss: 0.03, Loss_test: 0.02\n",
      "Epoch: 771 Loss: 0.02, Loss_test: 0.02\n",
      "Epoch: 772 Loss: 0.02, Loss_test: 0.01\n",
      "Epoch: 773 Loss: 0.02, Loss_test: 0.02\n",
      "Epoch: 774 Loss: 0.02, Loss_test: 0.02\n",
      "Epoch: 775 Loss: 0.04, Loss_test: 0.02\n",
      "Epoch: 776 Loss: 0.03, Loss_test: 0.01\n",
      "Epoch: 777 Loss: 0.02, Loss_test: 0.01\n",
      "Epoch: 778 Loss: 0.03, Loss_test: 0.01\n",
      "Epoch: 779 Loss: 0.02, Loss_test: 0.01\n",
      "=> result saved!\n",
      "Epoch: 780 Loss: 0.02, Loss_test: 0.01\n",
      "Epoch: 781 Loss: 0.02, Loss_test: 0.02\n",
      "Epoch: 782 Loss: 0.02, Loss_test: 0.01\n",
      "Epoch: 783 Loss: 0.03, Loss_test: 0.01\n",
      "Epoch: 784 Loss: 0.02, Loss_test: 0.01\n",
      "Epoch: 785 Loss: 0.02, Loss_test: 0.01\n",
      "Epoch: 786 Loss: 0.04, Loss_test: 0.01\n",
      "Epoch: 787 Loss: 0.02, Loss_test: 0.01\n",
      "Epoch: 788 Loss: 0.03, Loss_test: 0.02\n",
      "Epoch: 789 Loss: 0.03, Loss_test: 0.02\n",
      "=> result saved!\n",
      "Epoch: 790 Loss: 0.02, Loss_test: 0.02\n",
      "Epoch: 791 Loss: 0.01, Loss_test: 0.02\n",
      "Epoch: 792 Loss: 0.01, Loss_test: 0.02\n",
      "Epoch: 793 Loss: 0.02, Loss_test: 0.02\n",
      "Epoch: 794 Loss: 0.02, Loss_test: 0.02\n",
      "Epoch: 795 Loss: 0.02, Loss_test: 0.02\n",
      "Epoch: 796 Loss: 0.03, Loss_test: 0.02\n",
      "Epoch: 797 Loss: 0.03, Loss_test: 0.02\n",
      "Epoch: 798 Loss: 0.04, Loss_test: 0.01\n",
      "Epoch: 799 Loss: 0.01, Loss_test: 0.01\n",
      "=> result saved!\n",
      "Epoch: 800 Loss: 0.03, Loss_test: 0.02\n",
      "Epoch: 801 Loss: 0.02, Loss_test: 0.02\n",
      "Epoch: 802 Loss: 0.05, Loss_test: 0.02\n",
      "Epoch: 803 Loss: 0.03, Loss_test: 0.02\n",
      "Epoch: 804 Loss: 0.03, Loss_test: 0.02\n",
      "Epoch: 805 Loss: 0.04, Loss_test: 0.02\n",
      "Epoch: 806 Loss: 0.03, Loss_test: 0.02\n",
      "Epoch: 807 Loss: 0.02, Loss_test: 0.02\n",
      "Epoch: 808 Loss: 0.02, Loss_test: 0.03\n",
      "Epoch: 809 Loss: 0.02, Loss_test: 0.02\n",
      "=> result saved!\n",
      "Epoch: 810 Loss: 0.01, Loss_test: 0.02\n",
      "Epoch: 811 Loss: 0.04, Loss_test: 0.02\n",
      "Epoch: 812 Loss: 0.02, Loss_test: 0.01\n",
      "Epoch: 813 Loss: 0.02, Loss_test: 0.01\n",
      "Epoch: 814 Loss: 0.03, Loss_test: 0.02\n",
      "Epoch: 815 Loss: 0.03, Loss_test: 0.02\n",
      "Epoch: 816 Loss: 0.01, Loss_test: 0.02\n",
      "Epoch: 817 Loss: 0.01, Loss_test: 0.02\n",
      "Epoch: 818 Loss: 0.01, Loss_test: 0.02\n",
      "Epoch: 819 Loss: 0.02, Loss_test: 0.02\n",
      "=> result saved!\n",
      "Epoch: 820 Loss: 0.02, Loss_test: 0.01\n",
      "Epoch: 821 Loss: 0.02, Loss_test: 0.01\n",
      "Epoch: 822 Loss: 0.01, Loss_test: 0.01\n",
      "Epoch: 823 Loss: 0.03, Loss_test: 0.01\n",
      "Epoch: 824 Loss: 0.02, Loss_test: 0.01\n",
      "Epoch: 825 Loss: 0.01, Loss_test: 0.01\n",
      "Epoch: 826 Loss: 0.03, Loss_test: 0.01\n",
      "Epoch: 827 Loss: 0.03, Loss_test: 0.01\n",
      "Epoch: 828 Loss: 0.03, Loss_test: 0.01\n",
      "Epoch: 829 Loss: 0.02, Loss_test: 0.01\n",
      "=> result saved!\n",
      "Epoch: 830 Loss: 0.02, Loss_test: 0.01\n",
      "Epoch: 831 Loss: 0.01, Loss_test: 0.01\n",
      "Epoch: 832 Loss: 0.03, Loss_test: 0.01\n",
      "Epoch: 833 Loss: 0.02, Loss_test: 0.02\n",
      "Epoch: 834 Loss: 0.02, Loss_test: 0.02\n",
      "Epoch: 835 Loss: 0.03, Loss_test: 0.02\n",
      "Epoch: 836 Loss: 0.02, Loss_test: 0.02\n",
      "Epoch: 837 Loss: 0.02, Loss_test: 0.02\n",
      "Epoch: 838 Loss: 0.03, Loss_test: 0.02\n",
      "Epoch: 839 Loss: 0.03, Loss_test: 0.02\n",
      "=> result saved!\n",
      "Epoch: 840 Loss: 0.05, Loss_test: 0.02\n",
      "Epoch: 841 Loss: 0.02, Loss_test: 0.02\n",
      "Epoch: 842 Loss: 0.03, Loss_test: 0.02\n",
      "Epoch: 843 Loss: 0.03, Loss_test: 0.02\n",
      "Epoch: 844 Loss: 0.02, Loss_test: 0.02\n",
      "Epoch: 845 Loss: 0.02, Loss_test: 0.02\n",
      "Epoch: 846 Loss: 0.01, Loss_test: 0.02\n",
      "Epoch: 847 Loss: 0.02, Loss_test: 0.02\n",
      "Epoch: 848 Loss: 0.01, Loss_test: 0.02\n",
      "Epoch: 849 Loss: 0.02, Loss_test: 0.01\n",
      "=> result saved!\n",
      "Epoch: 850 Loss: 0.01, Loss_test: 0.01\n",
      "Epoch: 851 Loss: 0.03, Loss_test: 0.01\n",
      "Epoch: 852 Loss: 0.03, Loss_test: 0.01\n",
      "Epoch: 853 Loss: 0.01, Loss_test: 0.01\n",
      "Epoch: 854 Loss: 0.02, Loss_test: 0.01\n",
      "Epoch: 855 Loss: 0.03, Loss_test: 0.01\n",
      "Epoch: 856 Loss: 0.03, Loss_test: 0.01\n",
      "Epoch: 857 Loss: 0.02, Loss_test: 0.01\n",
      "Epoch: 858 Loss: 0.02, Loss_test: 0.01\n",
      "Epoch: 859 Loss: 0.02, Loss_test: 0.01\n",
      "=> result saved!\n",
      "Epoch: 860 Loss: 0.04, Loss_test: 0.01\n",
      "Epoch: 861 Loss: 0.02, Loss_test: 0.01\n",
      "Epoch: 862 Loss: 0.02, Loss_test: 0.01\n",
      "Epoch: 863 Loss: 0.02, Loss_test: 0.01\n",
      "Epoch: 864 Loss: 0.02, Loss_test: 0.01\n",
      "Epoch: 865 Loss: 0.02, Loss_test: 0.01\n",
      "Epoch: 866 Loss: 0.02, Loss_test: 0.01\n",
      "Epoch: 867 Loss: 0.03, Loss_test: 0.01\n",
      "Epoch: 868 Loss: 0.02, Loss_test: 0.01\n",
      "Epoch: 869 Loss: 0.02, Loss_test: 0.01\n",
      "=> result saved!\n",
      "Epoch: 870 Loss: 0.03, Loss_test: 0.01\n",
      "Epoch: 871 Loss: 0.02, Loss_test: 0.01\n",
      "Epoch: 872 Loss: 0.02, Loss_test: 0.01\n",
      "Epoch: 873 Loss: 0.01, Loss_test: 0.01\n",
      "Epoch: 874 Loss: 0.01, Loss_test: 0.01\n",
      "Epoch: 875 Loss: 0.02, Loss_test: 0.01\n",
      "Epoch: 876 Loss: 0.03, Loss_test: 0.01\n",
      "Epoch: 877 Loss: 0.01, Loss_test: 0.01\n",
      "Epoch: 878 Loss: 0.02, Loss_test: 0.01\n",
      "Epoch: 879 Loss: 0.02, Loss_test: 0.01\n",
      "=> result saved!\n",
      "Epoch: 880 Loss: 0.03, Loss_test: 0.01\n",
      "Epoch: 881 Loss: 0.02, Loss_test: 0.01\n",
      "Epoch: 882 Loss: 0.01, Loss_test: 0.01\n",
      "Epoch: 883 Loss: 0.02, Loss_test: 0.01\n",
      "Epoch: 884 Loss: 0.03, Loss_test: 0.01\n",
      "Epoch: 885 Loss: 0.04, Loss_test: 0.01\n",
      "Epoch: 886 Loss: 0.02, Loss_test: 0.01\n",
      "Epoch: 887 Loss: 0.03, Loss_test: 0.01\n",
      "Epoch: 888 Loss: 0.02, Loss_test: 0.01\n",
      "Epoch: 889 Loss: 0.02, Loss_test: 0.02\n",
      "=> result saved!\n",
      "Epoch: 890 Loss: 0.03, Loss_test: 0.01\n",
      "Epoch: 891 Loss: 0.01, Loss_test: 0.01\n",
      "Epoch: 892 Loss: 0.02, Loss_test: 0.02\n",
      "Epoch: 893 Loss: 0.02, Loss_test: 0.02\n",
      "Epoch: 894 Loss: 0.01, Loss_test: 0.02\n",
      "Epoch: 895 Loss: 0.02, Loss_test: 0.02\n",
      "Epoch: 896 Loss: 0.02, Loss_test: 0.01\n",
      "Epoch: 897 Loss: 0.02, Loss_test: 0.01\n",
      "Epoch: 898 Loss: 0.02, Loss_test: 0.02\n",
      "Epoch: 899 Loss: 0.03, Loss_test: 0.02\n",
      "=> result saved!\n",
      "Epoch: 900 Loss: 0.02, Loss_test: 0.02\n"
     ]
    }
   ],
   "source": [
    "end_train = epochs - limit_train\n",
    "for epoch in range(limit_train, end_train):\n",
    "    batch_triplet_train, \\\n",
    "        train_input_sample, train_sim = batch_iterator(baseline, retrieval, model, baseline.train_data, \n",
    "                                                       baseline.dup_sets_train, bug_train_ids, \n",
    "                                                           batch_size, 1, issues_by_buckets, TRIPLET_HARD=False)\n",
    "    train_batch = [train_input_sample['title'], train_input_sample['description'], train_input_sample['info'], train_sim]\n",
    "    \n",
    "\n",
    "    h = model.train_on_batch(x=train_batch, y=train_sim)\n",
    "    h_validation = model.test_on_batch(x=validation_sample, y=valid_sim)\n",
    "    \n",
    "    # save results\n",
    "    result['train'].append(h)\n",
    "    result['test'].append(h_validation)\n",
    "    \n",
    "    if( (epoch+1) % 10 == 0 or (epoch+1 == end_train )):\n",
    "        save_loss(result)\n",
    "    \n",
    "    print(\"Epoch: {} Loss: {:.2f}, Loss_test: {:.2f}\".format(epoch+1, h, h_validation))"
   ]
  },
  {
   "cell_type": "code",
   "execution_count": 48,
   "metadata": {},
   "outputs": [
    {
     "data": {
      "text/plain": [
       "(900, 900)"
      ]
     },
     "execution_count": 48,
     "metadata": {},
     "output_type": "execute_result"
    }
   ],
   "source": [
    "len(result['train']), len(result['test'])"
   ]
  },
  {
   "cell_type": "code",
   "execution_count": 49,
   "metadata": {},
   "outputs": [],
   "source": [
    "encoded = model.get_layer('merge_features_in')\n",
    "output = encoded.output\n",
    "inputs = similarity_model.inputs[:-1]\n",
    "encoded_anchor = Model(inputs = inputs, outputs = output, name = 'Similarity_Model')"
   ]
  },
  {
   "cell_type": "code",
   "execution_count": 50,
   "metadata": {},
   "outputs": [
    {
     "data": {
      "text/plain": [
       "'bert_preprocessing_baseline_1000_feature1000epochs_64batch(netbeans)'"
      ]
     },
     "execution_count": 50,
     "metadata": {},
     "output_type": "execute_result"
    }
   ],
   "source": [
    "SAVE_PATH.replace('@number_of_epochs@', str(epochs))"
   ]
  },
  {
   "cell_type": "code",
   "execution_count": 51,
   "metadata": {},
   "outputs": [
    {
     "name": "stdout",
     "output_type": "stream",
     "text": [
      "Saved model 'modelos/model_bert_preprocessing_baseline_1000_feature_1000epochs_64batch(netbeans).h5' to disk\n"
     ]
    },
    {
     "data": {
      "text/plain": [
       "'Model saved'"
      ]
     },
     "execution_count": 51,
     "metadata": {},
     "output_type": "execute_result"
    }
   ],
   "source": [
    "experiment.save_model(model, SAVE_PATH.replace('@number_of_epochs@', str(epochs)))\n",
    "experiment.save_model(encoded_anchor, SAVE_PATH_FEATURE.replace('@number_of_epochs@', str(epochs)), verbose=1)\n",
    "\"Model saved\""
   ]
  },
  {
   "cell_type": "code",
   "execution_count": 52,
   "metadata": {},
   "outputs": [
    {
     "data": {
      "application/vnd.jupyter.widget-view+json": {
       "model_id": "eec3d08c63b541199004a00e81f3f1bb",
       "version_major": 2,
       "version_minor": 0
      },
      "text/plain": [
       "HBox(children=(IntProgress(value=0, max=17002), HTML(value='')))"
      ]
     },
     "metadata": {},
     "output_type": "display_data"
    },
    {
     "name": "stdout",
     "output_type": "stream",
     "text": [
      "\n"
     ]
    },
    {
     "data": {
      "application/vnd.jupyter.widget-view+json": {
       "model_id": "3e801861b980400dba840684bd4c6847",
       "version_major": 2,
       "version_minor": 0
      },
      "text/plain": [
       "HBox(children=(IntProgress(value=0, max=26036), HTML(value='')))"
      ]
     },
     "metadata": {},
     "output_type": "display_data"
    },
    {
     "name": "stdout",
     "output_type": "stream",
     "text": [
      "\n"
     ]
    },
    {
     "data": {
      "application/vnd.jupyter.widget-view+json": {
       "model_id": "7c69b71b418a4e94b39543cae912ac71",
       "version_major": 2,
       "version_minor": 0
      },
      "text/plain": [
       "HBox(children=(IntProgress(value=0, max=29003), HTML(value='')))"
      ]
     },
     "metadata": {},
     "output_type": "display_data"
    },
    {
     "name": "stdout",
     "output_type": "stream",
     "text": [
      "\n"
     ]
    },
    {
     "data": {
      "application/vnd.jupyter.widget-view+json": {
       "model_id": "e0221d53fc644968aabbb6fdb597caf9",
       "version_major": 2,
       "version_minor": 0
      },
      "text/plain": [
       "HBox(children=(IntProgress(value=1, bar_style='info', max=1), HTML(value='')))"
      ]
     },
     "metadata": {},
     "output_type": "display_data"
    },
    {
     "name": "stdout",
     "output_type": "stream",
     "text": [
      "\n"
     ]
    },
    {
     "data": {
      "application/vnd.jupyter.widget-view+json": {
       "model_id": "d4a45f96279649ee8353b24b6026877e",
       "version_major": 2,
       "version_minor": 0
      },
      "text/plain": [
       "HBox(children=(IntProgress(value=1, bar_style='info', max=1), HTML(value='')))"
      ]
     },
     "metadata": {},
     "output_type": "display_data"
    },
    {
     "name": "stdout",
     "output_type": "stream",
     "text": [
      "\n"
     ]
    },
    {
     "data": {
      "application/vnd.jupyter.widget-view+json": {
       "model_id": "0a100111b7ca47a8ab2b0ad86f9a3be4",
       "version_major": 2,
       "version_minor": 0
      },
      "text/plain": [
       "HBox(children=(IntProgress(value=1, bar_style='info', max=1), HTML(value='')))"
      ]
     },
     "metadata": {},
     "output_type": "display_data"
    },
    {
     "name": "stdout",
     "output_type": "stream",
     "text": [
      "\n"
     ]
    },
    {
     "data": {
      "application/vnd.jupyter.widget-view+json": {
       "model_id": "e8b6d0e962e34adb89210c9eeff412ff",
       "version_major": 2,
       "version_minor": 0
      },
      "text/plain": [
       "HBox(children=(IntProgress(value=0, max=26036), HTML(value='')))"
      ]
     },
     "metadata": {},
     "output_type": "display_data"
    },
    {
     "name": "stdout",
     "output_type": "stream",
     "text": [
      "\n",
      "Epoch: 900 Loss: 0.02, Loss_test: 0.02, recall@25: 0.65\n"
     ]
    }
   ],
   "source": [
    "recall, exported_rank, debug = experiment.evaluate_validation_test(retrieval, 1, encoded_anchor, issues_by_buckets, bug_train_ids)\n",
    "print(\"Epoch: {} Loss: {:.2f}, Loss_test: {:.2f}, recall@25: {:.2f}\".format(epoch+1, h, h_validation, recall))"
   ]
  },
  {
   "cell_type": "code",
   "execution_count": 53,
   "metadata": {},
   "outputs": [
    {
     "data": {
      "text/plain": [
       "0.65"
      ]
     },
     "execution_count": 53,
     "metadata": {},
     "output_type": "execute_result"
    }
   ],
   "source": [
    "recall"
   ]
  },
  {
   "cell_type": "code",
   "execution_count": 54,
   "metadata": {},
   "outputs": [
    {
     "data": {
      "text/plain": [
       "['131079:124863|151301:0.509213000535965,157441:0.4737316370010376,109535:0.46405112743377686,144081:0.46107763051986694,140248:0.46082282066345215,114524:0.45887255668640137,156232:0.45241743326187134,153250:0.4470747113227844,142361:0.43036818504333496,131439:0.4207721948623657,138696:0.41390812397003174,144093:0.4081747531890869,130188:0.40027832984924316,142671:0.395622193813324,137689:0.3940640091896057,140382:0.3910185694694519,102541:0.38550645112991333,137947:0.38295626640319824,140154:0.38065630197525024,144353:0.3771687150001526,139981:0.37564754486083984,155564:0.37525808811187744,89629:0.36988365650177,155852:0.36902350187301636,159448:0.3671227693557739,113774:0.3668578267097473,88786:0.36518341302871704,108196:0.3644973039627075,76559:0.3630106449127197',\n",
       " '131082:131085|131085:1.0,76311:0.5053710639476776,126172:0.47676151990890503,125889:0.43327200412750244,85682:0.4304218292236328,134304:0.4131113290786743,118802:0.4014442563056946,121460:0.39965981245040894,82207:0.3967078924179077,128188:0.3915971517562866,107282:0.3896905779838562,130157:0.3873385190963745,128517:0.3871331214904785,136826:0.3852154612541199,116434:0.37655603885650635,125435:0.374612033367157,116090:0.3737644553184509,126174:0.3732428550720215,114424:0.37324059009552,138432:0.3703680634498596,130184:0.37033867835998535,118987:0.3695064187049866,98365:0.36617958545684814,135460:0.3660144805908203,140788:0.3651353120803833,136677:0.36338311433792114,140907:0.36145031452178955,141926:0.35687685012817383,136430:0.3557589650154114',\n",
       " '131083:145537,124867,144649,131084,132247,129785,129786,145533,145534,143327|131084:1.0,145533:1.0,132247:0.9010462835431099,145534:0.9010462835431099,144649:0.7813035696744919,147776:0.7813035696744919,136337:0.6143093109130859,124867:0.5649004876613617,129786:0.5649004876613617,129785:0.5568705499172211,131086:0.5345055460929871,146754:0.5315824449062347,142352:0.5077176094055176,142353:0.5077176094055176,143610:0.5055027604103088,142296:0.49715131521224976,128350:0.4895234704017639,161539:0.4889148473739624,163324:0.4889148473739624,171109:0.48251044750213623,155409:0.4747123122215271,159010:0.4747123122215271,142294:0.4732341766357422,142300:0.47323399782180786,160439:0.4712374806404114,173067:0.46980875730514526,143343:0.46729838848114014,142299:0.45710813999176025,152697:0.449840784072876',\n",
       " '131084:145537,124867,144649,131083,132247,129785,129786,145533,145534,143327|131083:1.0,145533:1.0,132247:0.9010462835431099,145534:0.9010462835431099,144649:0.7813035696744919,147776:0.7813035696744919,136337:0.6143093109130859,124867:0.5649004876613617,129786:0.5649004876613617,129785:0.5568705499172211,131086:0.5345055460929871,146754:0.5315824449062347,142352:0.5077176094055176,142353:0.5077176094055176,143610:0.5055027604103088,142296:0.49715131521224976,128350:0.4895234704017639,161539:0.4889148473739624,163324:0.4889148473739624,171109:0.48251044750213623,155409:0.4747123122215271,159010:0.4747123122215271,142294:0.4732341766357422,142300:0.47323399782180786,160439:0.4712374806404114,173067:0.46980875730514526,143343:0.46729838848114014,142299:0.45710813999176025,152697:0.449840784072876',\n",
       " '131085:131082|131082:1.0,76311:0.5053710639476776,126172:0.47676151990890503,125889:0.43327200412750244,85682:0.4304218292236328,134304:0.4131113290786743,118802:0.4014442563056946,121460:0.39965981245040894,82207:0.3967078924179077,128188:0.3915971517562866,107282:0.3896905779838562,130157:0.3873385190963745,128517:0.3871331214904785,136826:0.3852154612541199,116434:0.37655603885650635,125435:0.374612033367157,116090:0.3737644553184509,126174:0.3732428550720215,114424:0.37324059009552,138432:0.3703680634498596,130184:0.37033867835998535,118987:0.3695064187049866,98365:0.36617958545684814,135460:0.3660144805908203,140788:0.3651353120803833,136677:0.36338311433792114,140907:0.36145031452178955,141926:0.35687685012817383,136430:0.3557589650154114',\n",
       " '131086:118825,117035|128350:0.5645573139190674,155409:0.5456646680831909,159010:0.5456646680831909,131083:0.5345055460929871,131084:0.5345055460929871,145533:0.5345055460929871,161539:0.5266755521297455,163324:0.5266755521297455,118825:0.524738997220993,132247:0.5230630338191986,145534:0.5230630338191986,143610:0.5207794904708862,171109:0.5201713144779205,139805:0.5144248604774475,143344:0.5046937465667725,173067:0.5028825998306274,146754:0.49537134170532227,142352:0.49129247665405273,142353:0.49129247665405273,144649:0.49023371934890747,147776:0.49023371934890747,150223:0.48995137214660645,143343:0.4856604337692261,136337:0.47172194719314575,149716:0.46357840299606323,147381:0.46230852603912354,160439:0.45935046672821045,143972:0.45879900455474854,142300:0.4556223154067993',\n",
       " '131103:129349,131439,130960,130033,132127|130960:0.5330139100551605,129349:0.4971795082092285,130033:0.47324496507644653,122942:0.4124290943145752,135105:0.37845951318740845,129459:0.3570314049720764,139247:0.3566792607307434,134639:0.34942686557769775,169287:0.3307919502258301,159795:0.3244338035583496,65190:0.32284003496170044,145593:0.32274484634399414,131504:0.31651800870895386,162878:0.31492823362350464,167678:0.3129766583442688,120541:0.3127816915512085,102541:0.31192487478256226,158522:0.3111804723739624,133688:0.3083861470222473,109598:0.30702459812164307,79547:0.30648016929626465,172499:0.30222809314727783,102010:0.301813542842865,72453:0.3003591299057007,123581:0.30016040802001953,139742:0.29758965969085693,145256:0.29384952783584595,170229:0.28960078954696655,154053:0.2849218249320984',\n",
       " '131126:117856,118467,118468,118469,126180,116295,116680,118634,117003,103531,131983,118351,118735,109177,129907,117299,104665,117274,117981|109738:0.557148814201355,102035:0.5552790760993958,152085:0.5443062484264374,118634:0.5440939962863922,117856:0.5438752472400665,118735:0.539812445640564,120910:0.5390631854534149,170431:0.5375122129917145,104665:0.5328439474105835,141383:0.5125663578510284,103522:0.5106756389141083,112837:0.5080521106719971,168332:0.5057533383369446,147000:0.5046350359916687,121561:0.5009830594062805,88755:0.4981551170349121,94674:0.495303213596344,102290:0.48622357845306396,116176:0.4861797094345093,134548:0.4849323034286499,125870:0.48490822315216064,153856:0.48269784450531006,112290:0.4803623557090759,139767:0.47754037380218506,122243:0.47738367319107056,99742:0.477266788482666,143455:0.4737659692764282,141099:0.47183799743652344,84749:0.4716417193412781',\n",
       " '131145:131146|131146:0.7643234431743622,146950:0.5303171873092651,143451:0.5291010141372681,170734:0.4911481738090515,160882:0.47364604473114014,158298:0.4718253016471863,163770:0.4514755606651306,154231:0.44482284784317017,134494:0.4426839351654053,148752:0.4413759112358093,160709:0.4376763701438904,175664:0.43362778425216675,175585:0.42229992151260376,134835:0.4118931293487549,154215:0.4110218286514282,134667:0.4042093753814697,171450:0.4020930528640747,173487:0.39290910959243774,175655:0.3886677622795105,132194:0.3781006932258606,177800:0.3563234806060791,101418:0.3383483290672302,101368:0.3282182216644287,123863:0.3275514245033264,98589:0.3015905022621155,96567:0.29490572214126587,168780:0.28769487142562866,105529:0.2868601083755493,93069:0.2817251682281494',\n",
       " '131146:131145|131145:0.7643234431743622,158298:0.43546760082244873,134494:0.4013776183128357,154231:0.39112502336502075,180515:0.38590478897094727,178377:0.38147419691085815,148752:0.37099969387054443,134667:0.3660496473312378,179139:0.36554932594299316,149094:0.3346843719482422,97195:0.3170395493507385,132194:0.31345999240875244,178860:0.30890780687332153,77714:0.29027706384658813,120947:0.28678375482559204,119664:0.28543001413345337,91773:0.2839321494102478,78629:0.2775135040283203,100334:0.27468496561050415,94995:0.27342355251312256,115510:0.2719745635986328,105649:0.27114641666412354,82743:0.2698431611061096,151205:0.26813018321990967,69450:0.26500749588012695,118038:0.2636870741844177,162447:0.2612314224243164,91119:0.2610635757446289,105351:0.260981023311615',\n",
       " '131148:130987|117147:0.42277878522872925,103816:0.4073478579521179,111993:0.40316420793533325,120358:0.3846849799156189,115634:0.36967718601226807,111307:0.3623005747795105,109313:0.35952049493789673,102516:0.3497244119644165,110816:0.3493412137031555,134122:0.33981257677078247,134385:0.3348742723464966,158644:0.332813024520874,157850:0.329248309135437,132378:0.323089063167572,120451:0.31986773014068604,121761:0.3191754221916199,102644:0.31823480129241943,118169:0.31735914945602417,113985:0.3171160817146301,103986:0.3164054751396179,132379:0.3128200173377991,130658:0.31250226497650146,148494:0.310050368309021,117498:0.3090032935142517,103091:0.30872654914855957,106911:0.3080076575279236,143787:0.3080074191093445,167274:0.30754154920578003,135401:0.30720895528793335',\n",
       " '131149:131359,131335,131153,132377,130783|121289:0.4246712923049927,132446:0.39952176809310913,146698:0.3967919945716858,152602:0.3967919945716858,74323:0.3912198543548584,141463:0.3815181255340576,107628:0.37744760513305664,88563:0.3731807470321655,122703:0.3667408227920532,173207:0.36515283584594727,87932:0.35954880714416504,138058:0.3459511995315552,103053:0.3429717421531677,133807:0.3352789282798767,140061:0.3279750943183899,172169:0.32416772842407227,100917:0.3217412233352661,129252:0.31724268198013306,119680:0.3043047785758972,115254:0.30409783124923706,105193:0.3034963011741638,95915:0.3018503785133362,122315:0.29809826612472534,126412:0.29631900787353516,128393:0.29416531324386597,128825:0.29416531324386597,128826:0.29416531324386597,128291:0.29183125495910645,101995:0.2910091280937195',\n",
       " '131151:132544,131236|127846:0.6039379239082336,115904:0.484721839427948,115901:0.4751438498497009,92752:0.4036480188369751,93992:0.37442445755004883,136758:0.36900585889816284,166770:0.3665696382522583,151654:0.3653780221939087,82670:0.3413251042366028,134646:0.3279094099998474,93996:0.31427711248397827,99960:0.3075435161590576,77797:0.3047062158584595,162962:0.29954397678375244,166774:0.29424935579299927,131861:0.29310041666030884,80406:0.29098355770111084,111578:0.2892848253250122,115846:0.2886582016944885,79089:0.28591591119766235,79642:0.28114235401153564,95343:0.2763163447380066,127268:0.2665500044822693,109700:0.2497161626815796,91588:0.24757665395736694,142545:0.2461879849433899,98225:0.244676411151886,79102:0.24124908447265625,94904:0.2408609390258789',\n",
       " '131153:131359,131335,131149,132377,130783|140300:0.40841346979141235,142473:0.4019954204559326,145565:0.3919498324394226,142667:0.3916577696800232,142309:0.38430464267730713,142348:0.38430464267730713,163983:0.38145124912261963,145876:0.37677085399627686,145878:0.37677085399627686,145824:0.3667566180229187,142330:0.36485785245895386,174643:0.36128920316696167,141497:0.3395085334777832,145270:0.3247966766357422,155701:0.3222140669822693,152525:0.3195803165435791,150264:0.31773966550827026,151579:0.3160059452056885,143717:0.3059055805206299,146250:0.30417120456695557,151834:0.30119848251342773,151574:0.3009156584739685,151521:0.30074506998062134,161409:0.29882508516311646,128134:0.2932853102684021,105532:0.2929830551147461,136214:0.291107714176178,148458:0.2899896502494812,130783:0.2885986566543579',\n",
       " '131166:131594|132033:0.48772281408309937,133004:0.4867178797721863,132061:0.4449465274810791,138200:0.42196124792099,172092:0.41723811626434326,167661:0.41481006145477295,168441:0.4111862778663635,135407:0.409007728099823,170726:0.3890395164489746,131594:0.38701534271240234,124758:0.385193407535553,160301:0.3736153244972229,132470:0.3605042099952698,131753:0.35824060440063477,132192:0.3481728434562683,140379:0.34591495990753174,171336:0.3334468603134155,158863:0.32550227642059326,114372:0.32482415437698364,114713:0.3235805034637451,119670:0.3231910467147827,187617:0.32008564472198486,139705:0.3192747235298157,117162:0.318225622177124,128343:0.31617772579193115,82352:0.3141440153121948,142671:0.31334084272384644,133349:0.3083493709564209,135613:0.3070959448814392',\n",
       " '131170:127369,125195,113747,143350|150248:0.4030311107635498,98387:0.4017794728279114,138535:0.377150297164917,145473:0.37597060203552246,171914:0.3593407869338989,153745:0.3566130995750427,114370:0.33156639337539673,102202:0.3194087743759155,96097:0.3110634684562683,92810:0.30993640422821045,107573:0.3082444667816162,142996:0.2957238554954529,105938:0.2950451970100403,167273:0.2940155267715454,98277:0.2934800386428833,87709:0.2919800877571106,116110:0.28980571031570435,85260:0.2858244776725769,84614:0.28274840116500854,83297:0.28129279613494873,145116:0.2806987166404724,151240:0.2789505124092102,157695:0.2781141400337219,150836:0.27801841497421265,123937:0.27689599990844727,131882:0.27658402919769287,74297:0.2705482244491577,132379:0.269420325756073,132378:0.2693764567375183',\n",
       " '131180:129163|130863:0.5233283936977386,129163:0.4729101061820984,124473:0.4569973349571228,128480:0.42797040939331055,114315:0.4242129921913147,141579:0.41775524616241455,123602:0.4173906445503235,108447:0.405259370803833,135749:0.3935711979866028,74385:0.38943397998809814,110102:0.3877221941947937,118275:0.38653111457824707,158096:0.38426637649536133,169246:0.3842018246650696,128726:0.3838545083999634,144423:0.38206934928894043,129870:0.3818548917770386,125946:0.3783848285675049,175397:0.37784820795059204,92086:0.3719477653503418,93050:0.36819493770599365,117977:0.35768836736679077,102579:0.35057997703552246,165334:0.34414952993392944,125787:0.3435888886451721,140811:0.3429329991340637,167408:0.3420987129211426,107073:0.3353825807571411,107074:0.3353825807571411',\n",
       " '131192:133635,131782,131306,131759,130869,130934,131293|145834:0.49518460035324097,156835:0.4631093144416809,163073:0.44730275869369507,132916:0.4434239864349365,131293:0.42936599254608154,150660:0.4257614016532898,142460:0.41159796714782715,130934:0.4090120196342468,149586:0.40709590911865234,96613:0.39732855558395386,141796:0.38882434368133545,158587:0.38647907972335815,157022:0.38381028175354004,133635:0.3829020857810974,142459:0.38182348012924194,151686:0.37699222564697266,144112:0.37678253650665283,104227:0.3742644190788269,147870:0.3700858950614929,151466:0.3696850538253784,137993:0.36595433950424194,97671:0.3562907576560974,149591:0.3552953004837036,165125:0.35278618335723877,110055:0.3425876498222351,104117:0.33417195081710815,203019:0.3319889307022095,119667:0.32350414991378784,134214:0.32309550046920776',\n",
       " '131197:119617,131970,127169,123908,155137,126563,120745,167562,176395,126057,122219,120880,32755,136212,126260,187290,170110|157284:0.5635789632797241,166010:0.5469273626804352,156048:0.5394942760467529,103706:0.517585813999176,165527:0.5171259343624115,156405:0.513185977935791,123908:0.5036636888980865,171220:0.4956764578819275,147135:0.4914781451225281,143002:0.491366982460022,167562:0.48834067583084106,117855:0.48490244150161743,164938:0.4785994291305542,111842:0.4780188202857971,156928:0.4720962643623352,115239:0.4706965684890747,114979:0.46438753604888916,89607:0.4641317129135132,115249:0.4634687304496765,144268:0.46167927980422974,120880:0.46070122718811035,120981:0.4606354832649231,167628:0.4546353816986084,144519:0.45289289951324463,114749:0.4521602392196655,114750:0.4521602392196655,153582:0.449374794960022,111026:0.4474157691001892,143413:0.4468144178390503',\n",
       " '131209:177304|93558:0.5107549428939819,93539:0.5034513175487518,106920:0.4941178560256958,103479:0.4912306070327759,93545:0.490598201751709,153094:0.4643177390098572,106754:0.46424323320388794,167467:0.44141846895217896,143480:0.4342188835144043,146353:0.43269413709640503,72954:0.4271271824836731,132554:0.42393916845321655,117525:0.4235832095146179,122040:0.41860419511795044,189671:0.4176253080368042,143303:0.4121816158294678,105941:0.41166985034942627,102392:0.4112580418586731,105262:0.40959709882736206,100822:0.3993472456932068,123638:0.3988216519355774,106414:0.3985416889190674,65482:0.3977813124656677,144981:0.3964865207672119,105203:0.3950737714767456,145918:0.38845258951187134,80655:0.38822370767593384,128231:0.38737279176712036,122359:0.3861887454986572']"
      ]
     },
     "execution_count": 54,
     "metadata": {},
     "output_type": "execute_result"
    }
   ],
   "source": [
    "exported_rank[:20]"
   ]
  },
  {
   "cell_type": "markdown",
   "metadata": {},
   "source": [
    "### Retrieval evaluation"
   ]
  },
  {
   "cell_type": "code",
   "execution_count": 55,
   "metadata": {},
   "outputs": [
    {
     "name": "stdout",
     "output_type": "stream",
     "text": [
      "Total of queries: 17002\n"
     ]
    }
   ],
   "source": [
    "print(\"Total of queries:\", len(retrieval.test))"
   ]
  },
  {
   "cell_type": "markdown",
   "metadata": {},
   "source": [
    "#### Getting the model trained"
   ]
  },
  {
   "cell_type": "code",
   "execution_count": 56,
   "metadata": {},
   "outputs": [
    {
     "data": {
      "text/plain": [
       "'bert_preprocessing_baseline_1000_feature_1000epochs_64batch(netbeans)'"
      ]
     },
     "execution_count": 56,
     "metadata": {},
     "output_type": "execute_result"
    }
   ],
   "source": [
    "SAVE_PATH_FEATURE.replace('@number_of_epochs@', str(epochs))"
   ]
  },
  {
   "cell_type": "code",
   "execution_count": 57,
   "metadata": {},
   "outputs": [
    {
     "name": "stdout",
     "output_type": "stream",
     "text": [
      "__________________________________________________________________________________________________\n",
      "Layer (type)                    Output Shape         Param #     Connected to                     \n",
      "==================================================================================================\n",
      "info_in (InputLayer)            (None, 544)          0                                            \n",
      "__________________________________________________________________________________________________\n",
      "title_in (InputLayer)           (None, 20)           0                                            \n",
      "__________________________________________________________________________________________________\n",
      "desc_in (InputLayer)            (None, 20)           0                                            \n",
      "__________________________________________________________________________________________________\n",
      "FeatureMlpGenerationModel (Mode (None, 300)          163500      info_in[0][0]                    \n",
      "__________________________________________________________________________________________________\n",
      "FeatureLstmGenerationModel (Mod (None, 300)          581169900   title_in[0][0]                   \n",
      "__________________________________________________________________________________________________\n",
      "FeatureCNNGenerationModel (Mode (None, 300)          581216592   desc_in[0][0]                    \n",
      "__________________________________________________________________________________________________\n",
      "merge_features_in (Concatenate) (None, 900)          0           FeatureMlpGenerationModel[1][0]  \n",
      "                                                                 FeatureLstmGenerationModel[1][0] \n",
      "                                                                 FeatureCNNGenerationModel[1][0]  \n",
      "==================================================================================================\n",
      "Total params: 1,162,549,992\n",
      "Trainable params: 616,992\n",
      "Non-trainable params: 1,161,933,000\n",
      "__________________________________________________________________________________________________\n"
     ]
    }
   ],
   "source": [
    "encoded_anchor.summary()"
   ]
  },
  {
   "cell_type": "code",
   "execution_count": 58,
   "metadata": {},
   "outputs": [
    {
     "data": {
      "text/plain": [
       "26036"
      ]
     },
     "execution_count": 58,
     "metadata": {},
     "output_type": "execute_result"
    }
   ],
   "source": [
    "len(exported_rank)"
   ]
  },
  {
   "cell_type": "code",
   "execution_count": 59,
   "metadata": {},
   "outputs": [
    {
     "data": {
      "text/plain": [
       "'data/processed/netbeans/bert/exported_rank_baseline_1000.txt'"
      ]
     },
     "execution_count": 59,
     "metadata": {},
     "output_type": "execute_result"
    }
   ],
   "source": [
    "EXPORT_RANK_PATH = os.path.join(DIR, 'exported_rank_{}.txt'.format(METHOD))\n",
    "EXPORT_RANK_PATH"
   ]
  },
  {
   "cell_type": "code",
   "execution_count": 60,
   "metadata": {},
   "outputs": [],
   "source": [
    "with open(EXPORT_RANK_PATH, 'w') as file_out:\n",
    "    for row in exported_rank:\n",
    "        file_out.write(row + \"\\n\")"
   ]
  },
  {
   "cell_type": "code",
   "execution_count": 61,
   "metadata": {},
   "outputs": [
    {
     "data": {
      "text/plain": [
       "{'1 - recall_at_5': 0.51,\n",
       " '2 - recall_at_10': 0.57,\n",
       " '3 - recall_at_15': 0.61,\n",
       " '4 - recall_at_20': 0.63,\n",
       " '5 - recall_at_25': 0.65}"
      ]
     },
     "execution_count": 61,
     "metadata": {},
     "output_type": "execute_result"
    }
   ],
   "source": [
    "report = experiment.evaluation.evaluate(EXPORT_RANK_PATH)\n",
    "report"
   ]
  },
  {
   "cell_type": "markdown",
   "metadata": {},
   "source": [
    "#### Some ideas to visualizate"
   ]
  },
  {
   "cell_type": "markdown",
   "metadata": {},
   "source": [
    "- https://towardsdatascience.com/building-a-recommendation-system-using-neural-network-embeddings-1ef92e5c80c9"
   ]
  }
 ],
 "metadata": {
  "accelerator": "GPU",
  "colab": {
   "collapsed_sections": [],
   "name": "[baseline] Bug triage with Deep Learning.ipynb",
   "provenance": [],
   "toc_visible": true,
   "version": "0.3.2"
  },
  "kernelspec": {
   "display_name": "Python 3",
   "language": "python",
   "name": "python3"
  },
  "language_info": {
   "codemirror_mode": {
    "name": "ipython",
    "version": 3
   },
   "file_extension": ".py",
   "mimetype": "text/x-python",
   "name": "python",
   "nbconvert_exporter": "python",
   "pygments_lexer": "ipython3",
   "version": "3.5.2"
  }
 },
 "nbformat": 4,
 "nbformat_minor": 1
}
