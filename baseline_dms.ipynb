{
 "cells": [
  {
   "cell_type": "markdown",
   "metadata": {
    "colab_type": "text",
    "id": "PtdA1qs_UQP1"
   },
   "source": [
    "# Bug triage with Deep Learning\n",
    "\n",
    "https://github.com/AdrianUng/keras-triplet-loss-mnist/blob/master/Triplet_loss_KERAS_semi_hard_from_TF.ipynb"
   ]
  },
  {
   "cell_type": "code",
   "execution_count": 1,
   "metadata": {},
   "outputs": [
    {
     "name": "stderr",
     "output_type": "stream",
     "text": [
      "Using TensorFlow backend.\n"
     ]
    }
   ],
   "source": [
    "import keras"
   ]
  },
  {
   "cell_type": "code",
   "execution_count": 2,
   "metadata": {
    "colab": {},
    "colab_type": "code",
    "id": "qnSCLmiomFE1"
   },
   "outputs": [],
   "source": [
    "from __future__ import print_function, division"
   ]
  },
  {
   "cell_type": "code",
   "execution_count": 3,
   "metadata": {
    "colab": {},
    "colab_type": "code",
    "id": "OIha-SERnD72"
   },
   "outputs": [],
   "source": [
    "import re\n",
    "import numpy as np\n",
    "import pandas as pd\n",
    "\n",
    "import os\n",
    "from tqdm import tqdm_notebook as tqdm\n",
    "import matplotlib.pyplot as plt\n",
    "import sys\n",
    "from annoy import AnnoyIndex\n",
    "nb_dir = os.path.split(os.getcwd())[0]\n",
    "if nb_dir not in sys.path:\n",
    "    sys.path.append(nb_dir)\n",
    "    \n",
    "%matplotlib inline"
   ]
  },
  {
   "cell_type": "code",
   "execution_count": 4,
   "metadata": {
    "colab": {
     "base_uri": "https://localhost:8080/",
     "height": 34
    },
    "colab_type": "code",
    "id": "c57gQiuAnJAe",
    "outputId": "9eaf2d3f-619a-492d-f40b-6ba2c48426fa"
   },
   "outputs": [],
   "source": [
    "from keras.layers import Conv1D, Input, Add, Activation, Dropout, Embedding, MaxPooling1D, \\\n",
    "    GlobalMaxPool1D, Flatten, Dense, Concatenate, BatchNormalization\n",
    "from keras.models import Sequential, Model\n",
    "from keras.regularizers import l2\n",
    "from keras.initializers import TruncatedNormal\n",
    "from keras.layers.advanced_activations import LeakyReLU, ELU\n",
    "from keras import optimizers"
   ]
  },
  {
   "cell_type": "code",
   "execution_count": 5,
   "metadata": {},
   "outputs": [],
   "source": [
    "from methods.baseline import Baseline\n",
    "from methods.experiments import Experiment\n",
    "from methods.evaluation import Evaluation\n",
    "from methods.retrieval import Retrieval"
   ]
  },
  {
   "cell_type": "markdown",
   "metadata": {
    "colab_type": "text",
    "id": "8uQou7m2-bFO"
   },
   "source": [
    "## Configurações Globais"
   ]
  },
  {
   "cell_type": "code",
   "execution_count": 6,
   "metadata": {
    "colab": {},
    "colab_type": "code",
    "id": "G-Kn3x_K-aZj"
   },
   "outputs": [],
   "source": [
    "MAX_SEQUENCE_LENGTH_T = 20 # 100\n",
    "MAX_SEQUENCE_LENGTH_D = 20 # 500\n",
    "EMBEDDING_DIM = 300\n",
    "MAX_NB_WORDS = 20000\n",
    "'''\n",
    "    Configuration\n",
    "'''\n",
    "epochs = 1000\n",
    "freeze_train = .1 # 10% with freeze weights\n",
    "best_loss = 1\n",
    "best_epoch = 0\n",
    "verbose = 0\n",
    "loss = 1"
   ]
  },
  {
   "cell_type": "markdown",
   "metadata": {},
   "source": [
    "### Parse bugs preproprecessed"
   ]
  },
  {
   "cell_type": "code",
   "execution_count": 7,
   "metadata": {},
   "outputs": [],
   "source": [
    "# Domain to use\n",
    "DOMAIN = 'eclipse'\n",
    "METHOD = 'baseline_{}'.format(epochs)\n",
    "PREPROCESSING = 'bert'\n",
    "TOKEN = 'bert'\n",
    "# Dataset paths\n",
    "DIR = 'data/processed/{}/{}'.format(DOMAIN, PREPROCESSING)\n",
    "DIR_PAIRS = 'data/normalized/{}'.format(DOMAIN)\n",
    "DATASET = os.path.join('data/normalized/{}'.format(DOMAIN), '{}.csv'.format(DOMAIN))\n",
    "# Glove embeddings\n",
    "GLOVE_DIR='data/embed'\n",
    "# Save model\n",
    "SAVE_PATH = '{}_preprocessing_{}_feature@number_of_epochs@epochs_64batch({})'.format(PREPROCESSING, METHOD, DOMAIN)\n",
    "SAVE_PATH_FEATURE = '{}_preprocessing_{}_feature_@number_of_epochs@epochs_64batch({})'.format(PREPROCESSING, METHOD, DOMAIN)\n",
    "\n",
    "# Extract CORPUs\n",
    "EXTRACT_CORPUS = False"
   ]
  },
  {
   "cell_type": "code",
   "execution_count": 8,
   "metadata": {},
   "outputs": [],
   "source": [
    "import os\n",
    "\n",
    "pretrained_path = 'uncased_L-12_H-768_A-12'\n",
    "config_path = os.path.join(pretrained_path, 'bert_config.json')\n",
    "model_path = os.path.join(pretrained_path, 'bert_model.ckpt')\n",
    "vocab_path = os.path.join(pretrained_path, 'vocab.txt')"
   ]
  },
  {
   "cell_type": "code",
   "execution_count": 9,
   "metadata": {},
   "outputs": [],
   "source": [
    "from keras_bert import load_vocabulary\n",
    "\n",
    "token_dict = load_vocabulary(vocab_path)"
   ]
  },
  {
   "cell_type": "code",
   "execution_count": 10,
   "metadata": {},
   "outputs": [],
   "source": [
    "baseline = Baseline(DOMAIN, DIR, DATASET, MAX_SEQUENCE_LENGTH_T, MAX_SEQUENCE_LENGTH_D,\n",
    "                   token_dict['[CLS]'], token_dict['[SEP]'])\n",
    "evaluation = Evaluation(verbose=0)\n",
    "retrieval = Retrieval()\n",
    "experiment = Experiment(baseline, evaluation)"
   ]
  },
  {
   "cell_type": "code",
   "execution_count": 11,
   "metadata": {
    "scrolled": true
   },
   "outputs": [],
   "source": [
    "experiment.set_retrieval(retrieval, baseline, DOMAIN)"
   ]
  },
  {
   "cell_type": "markdown",
   "metadata": {},
   "source": [
    "#### Loading bug ids in memory"
   ]
  },
  {
   "cell_type": "code",
   "execution_count": 12,
   "metadata": {
    "scrolled": true
   },
   "outputs": [
    {
     "name": "stdout",
     "output_type": "stream",
     "text": [
      "Reading bug ids\n"
     ]
    },
    {
     "data": {
      "text/plain": [
       "361006"
      ]
     },
     "execution_count": 12,
     "metadata": {},
     "output_type": "execute_result"
    }
   ],
   "source": [
    "experiment.load_ids()\n",
    "len(baseline.bug_ids)"
   ]
  },
  {
   "cell_type": "markdown",
   "metadata": {
    "colab_type": "text",
    "id": "vqzt5EKzqzcI"
   },
   "source": [
    "#### Dicionário de títulos e descrições"
   ]
  },
  {
   "cell_type": "code",
   "execution_count": 13,
   "metadata": {
    "scrolled": true
   },
   "outputs": [
    {
     "data": {
      "application/vnd.jupyter.widget-view+json": {
       "model_id": "51646e4d67d94f0894df8d2bdc0c4011",
       "version_major": 2,
       "version_minor": 0
      },
      "text/plain": [
       "HBox(children=(IntProgress(value=0, max=361006), HTML(value='')))"
      ]
     },
     "metadata": {},
     "output_type": "display_data"
    },
    {
     "name": "stdout",
     "output_type": "stream",
     "text": [
      "\n"
     ]
    },
    {
     "data": {
      "application/vnd.jupyter.widget-view+json": {
       "model_id": "076e1a40e4d14e9cbf76371fa1d17033",
       "version_major": 2,
       "version_minor": 0
      },
      "text/plain": [
       "HBox(children=(IntProgress(value=1, bar_style='info', max=1), HTML(value='')))"
      ]
     },
     "metadata": {},
     "output_type": "display_data"
    },
    {
     "name": "stdout",
     "output_type": "stream",
     "text": [
      "\n",
      "CPU times: user 55.7 s, sys: 15.6 s, total: 1min 11s\n",
      "Wall time: 2min 13s\n"
     ]
    }
   ],
   "source": [
    "%%time\n",
    "\n",
    "experiment.load_bugs(TOKEN)\n",
    "len(baseline.sentence_dict)"
   ]
  },
  {
   "cell_type": "markdown",
   "metadata": {},
   "source": [
    "#### Hashing bugs by buckets"
   ]
  },
  {
   "cell_type": "code",
   "execution_count": 14,
   "metadata": {
    "scrolled": false
   },
   "outputs": [
    {
     "data": {
      "application/vnd.jupyter.widget-view+json": {
       "model_id": "656ba97f8d8c480097ea22e1056bab55",
       "version_major": 2,
       "version_minor": 0
      },
      "text/plain": [
       "HBox(children=(IntProgress(value=0, max=361006), HTML(value='')))"
      ]
     },
     "metadata": {},
     "output_type": "display_data"
    },
    {
     "name": "stdout",
     "output_type": "stream",
     "text": [
      "\n"
     ]
    }
   ],
   "source": [
    "issues_by_buckets = experiment.get_buckets_for_bugs()"
   ]
  },
  {
   "cell_type": "markdown",
   "metadata": {},
   "source": [
    "#### Prepare the train and test"
   ]
  },
  {
   "cell_type": "code",
   "execution_count": 15,
   "metadata": {},
   "outputs": [],
   "source": [
    "# path_train='train_chronological', path_test='test_chronological'\n",
    "experiment.prepare_dataset(issues_by_buckets, path_train='train_chronological', path_test='test_chronological')\n",
    "# Read and create the test queries duplicates\n",
    "retrieval.create_queries()"
   ]
  },
  {
   "cell_type": "code",
   "execution_count": 16,
   "metadata": {},
   "outputs": [
    {
     "data": {
      "text/plain": [
       "[[275492, 218812],\n",
       " [288296, 264093],\n",
       " [273286, 293887],\n",
       " [57162, 62059],\n",
       " [82146, 67997],\n",
       " [56777, 61857],\n",
       " [169445, 165179],\n",
       " [250521, 273893],\n",
       " [247266, 241461],\n",
       " [36781, 38338]]"
      ]
     },
     "execution_count": 16,
     "metadata": {},
     "output_type": "execute_result"
    }
   ],
   "source": [
    "baseline.train_data[:10]"
   ]
  },
  {
   "cell_type": "markdown",
   "metadata": {},
   "source": [
    "#### Recovery bug ids from train"
   ]
  },
  {
   "cell_type": "code",
   "execution_count": 17,
   "metadata": {},
   "outputs": [],
   "source": [
    "bug_train_ids = experiment.get_train_ids(baseline.train_data)"
   ]
  },
  {
   "cell_type": "markdown",
   "metadata": {},
   "source": [
    "### Export the corpus train"
   ]
  },
  {
   "cell_type": "code",
   "execution_count": 18,
   "metadata": {},
   "outputs": [],
   "source": [
    "if EXTRACT_CORPUS:\n",
    "    corpus = []\n",
    "    export_file = open(os.path.join(DIR, 'corpus_train.txt'), 'w')\n",
    "    for bug_id in tqdm(baseline.bug_set):\n",
    "        bug = baseline.bug_set[bug_id]\n",
    "        title = bug['title']\n",
    "        desc = bug['description']\n",
    "        export_file.write(\"{}\\n{}\\n\".format(title, desc))\n",
    "    export_file.close()"
   ]
  },
  {
   "cell_type": "markdown",
   "metadata": {
    "colab_type": "text",
    "id": "a6Obtop6UIVD"
   },
   "source": [
    "# Generating tiple of batches"
   ]
  },
  {
   "cell_type": "code",
   "execution_count": 19,
   "metadata": {
    "scrolled": true
   },
   "outputs": [
    {
     "data": {
      "text/plain": [
       "{'bug_severity': '1\\n',\n",
       " 'bug_status': '1\\n',\n",
       " 'component': '400\\n',\n",
       " 'creation_ts': '2005-06-13 12:42:00 -0400',\n",
       " 'delta_ts': '2005-06-13 13:19:20 -0400',\n",
       " 'description': \"[CLS] i ' d like to use this viewer , but it ' s not public . it ' s not in the internal package names ##pace so why isn ' t it access ##able ? i ' m speaking specifically about org . eclipse . ui . views . properties . property ##sh ##eet ##view ##er . [SEP]\",\n",
       " 'description_segment': [0,\n",
       "  0,\n",
       "  0,\n",
       "  0,\n",
       "  0,\n",
       "  0,\n",
       "  0,\n",
       "  0,\n",
       "  0,\n",
       "  0,\n",
       "  0,\n",
       "  0,\n",
       "  0,\n",
       "  0,\n",
       "  0,\n",
       "  0,\n",
       "  0,\n",
       "  0,\n",
       "  0,\n",
       "  0,\n",
       "  0,\n",
       "  0,\n",
       "  0,\n",
       "  0,\n",
       "  0,\n",
       "  0,\n",
       "  0,\n",
       "  0,\n",
       "  0,\n",
       "  0,\n",
       "  0,\n",
       "  0,\n",
       "  0,\n",
       "  0,\n",
       "  0,\n",
       "  0,\n",
       "  0,\n",
       "  0,\n",
       "  0,\n",
       "  0,\n",
       "  0,\n",
       "  0,\n",
       "  0,\n",
       "  0,\n",
       "  0,\n",
       "  0,\n",
       "  0,\n",
       "  0,\n",
       "  0,\n",
       "  0,\n",
       "  0,\n",
       "  0,\n",
       "  0,\n",
       "  0,\n",
       "  0,\n",
       "  0,\n",
       "  0,\n",
       "  0,\n",
       "  0,\n",
       "  0,\n",
       "  0,\n",
       "  0,\n",
       "  0,\n",
       "  0,\n",
       "  0,\n",
       "  0,\n",
       "  0,\n",
       "  0,\n",
       "  0,\n",
       "  0,\n",
       "  0,\n",
       "  0,\n",
       "  0,\n",
       "  0,\n",
       "  0,\n",
       "  0,\n",
       "  0,\n",
       "  0,\n",
       "  0,\n",
       "  0,\n",
       "  0,\n",
       "  0,\n",
       "  0,\n",
       "  0,\n",
       "  0,\n",
       "  0,\n",
       "  0,\n",
       "  0,\n",
       "  0,\n",
       "  0,\n",
       "  0,\n",
       "  0,\n",
       "  0,\n",
       "  0,\n",
       "  0,\n",
       "  0,\n",
       "  0,\n",
       "  0,\n",
       "  0,\n",
       "  0,\n",
       "  0,\n",
       "  0,\n",
       "  0,\n",
       "  0,\n",
       "  0,\n",
       "  0,\n",
       "  0,\n",
       "  0,\n",
       "  0,\n",
       "  0,\n",
       "  0,\n",
       "  0,\n",
       "  0,\n",
       "  0,\n",
       "  0,\n",
       "  0,\n",
       "  0,\n",
       "  0,\n",
       "  0,\n",
       "  0,\n",
       "  0,\n",
       "  0,\n",
       "  0,\n",
       "  0,\n",
       "  0,\n",
       "  0,\n",
       "  0,\n",
       "  0,\n",
       "  0,\n",
       "  0,\n",
       "  0,\n",
       "  0,\n",
       "  0,\n",
       "  0,\n",
       "  0,\n",
       "  0,\n",
       "  0,\n",
       "  0,\n",
       "  0,\n",
       "  0,\n",
       "  0,\n",
       "  0,\n",
       "  0,\n",
       "  0,\n",
       "  0,\n",
       "  0,\n",
       "  0,\n",
       "  0,\n",
       "  0,\n",
       "  0],\n",
       " 'description_token': array([  101,  1045,  1005,  1040,  2066,  2000,  2224,  2023, 13972,\n",
       "         1010,  2021,  2009,  1005,  1055,  2025,  2270,  1012,  2009,\n",
       "         1005,   102]),\n",
       " 'dup_id': '[]',\n",
       " 'issue_id': 99726,\n",
       " 'priority': '1\\n',\n",
       " 'product': '181\\n',\n",
       " 'resolution': 'NDUPLICATE',\n",
       " 'textual_token': array([  101,  1031,  5144,  8584,  1033,  3073,  2270,  3229,  2000,\n",
       "         3200,  4095, 15558,  8584,  2121,     0,     0,     0,     0,\n",
       "            0,   102,   101,  1045,  1005,  1040,  2066,  2000,  2224,\n",
       "         2023, 13972,  1010,  2021,  2009,  1005,  1055,  2025,  2270,\n",
       "         1012,  2009,  1005,   102]),\n",
       " 'title': '[CLS] [ properties ##view ] provide public access to property ##sh ##eet ##view ##er [SEP]',\n",
       " 'title_segment': [0,\n",
       "  0,\n",
       "  0,\n",
       "  0,\n",
       "  0,\n",
       "  0,\n",
       "  0,\n",
       "  0,\n",
       "  0,\n",
       "  0,\n",
       "  0,\n",
       "  0,\n",
       "  0,\n",
       "  0,\n",
       "  0,\n",
       "  0,\n",
       "  0,\n",
       "  0,\n",
       "  0,\n",
       "  0,\n",
       "  0,\n",
       "  0,\n",
       "  0,\n",
       "  0,\n",
       "  0,\n",
       "  0,\n",
       "  0,\n",
       "  0,\n",
       "  0,\n",
       "  0,\n",
       "  0,\n",
       "  0,\n",
       "  0,\n",
       "  0,\n",
       "  0,\n",
       "  0,\n",
       "  0,\n",
       "  0,\n",
       "  0,\n",
       "  0,\n",
       "  0,\n",
       "  0,\n",
       "  0,\n",
       "  0,\n",
       "  0,\n",
       "  0,\n",
       "  0,\n",
       "  0,\n",
       "  0,\n",
       "  0],\n",
       " 'title_token': array([  101,  1031,  5144,  8584,  1033,  3073,  2270,  3229,  2000,\n",
       "         3200,  4095, 15558,  8584,  2121,     0,     0,     0,     0,\n",
       "            0,   102]),\n",
       " 'version': '64\\n'}"
      ]
     },
     "execution_count": 19,
     "metadata": {},
     "output_type": "execute_result"
    }
   ],
   "source": [
    "idx = np.random.choice(baseline.bug_ids, 1)[0]\n",
    "baseline.bug_set[idx]"
   ]
  },
  {
   "cell_type": "markdown",
   "metadata": {},
   "source": [
    "### Generating the batch test"
   ]
  },
  {
   "cell_type": "code",
   "execution_count": 20,
   "metadata": {},
   "outputs": [
    {
     "data": {
      "text/plain": [
       "('Train ', 39339)"
      ]
     },
     "execution_count": 20,
     "metadata": {},
     "output_type": "execute_result"
    }
   ],
   "source": [
    "\"Train \", len(baseline.dup_sets_train)"
   ]
  },
  {
   "cell_type": "code",
   "execution_count": 21,
   "metadata": {},
   "outputs": [],
   "source": [
    "import random\n",
    "\n",
    "# data - path\n",
    "# batch_size - 128\n",
    "# n_neg - 1\n",
    "def batch_iterator(self, retrieval, model, data, dup_sets, bug_ids, \n",
    "                   batch_size, n_neg, issues_by_buckets, TRIPLET_HARD=False, FLOATING_PADDING=False):\n",
    "    # global train_data\n",
    "    # global self.dup_sets\n",
    "    # global self.bug_ids\n",
    "    # global self.bug_set\n",
    "\n",
    "    random.shuffle(data)\n",
    "\n",
    "    batch_features = {'title' : [], 'desc' : [], 'info' : []}\n",
    "\n",
    "    n_train = len(data)\n",
    "\n",
    "    batch_triplets, batch_bugs_anchor, batch_bugs_pos, batch_bugs_neg, batch_bugs = [], [], [], [], []\n",
    "\n",
    "    all_bugs = list(issues_by_buckets.keys())\n",
    "    buckets = retrieval.buckets\n",
    "\n",
    "    for offset in range(batch_size):\n",
    "        anchor, pos = data[offset][0], data[offset][1]\n",
    "        batch_bugs_anchor.append(anchor)\n",
    "        batch_bugs_pos.append(pos)\n",
    "        batch_bugs.append(anchor)\n",
    "        batch_bugs.append(pos)\n",
    "        #batch_bugs += dup_sets[anchor]\n",
    "\n",
    "    for anchor, pos in zip(batch_bugs_anchor, batch_bugs_pos):\n",
    "        while True:\n",
    "            neg = self.get_neg_bug(anchor, buckets[issues_by_buckets[anchor]], issues_by_buckets, all_bugs)\n",
    "            bug_anchor = self.bug_set[anchor]\n",
    "            bug_pos = self.bug_set[pos]\n",
    "            if neg not in self.bug_set:\n",
    "                continue\n",
    "            batch_bugs.append(neg)\n",
    "            batch_bugs_neg.append(neg)\n",
    "            bug_neg = self.bug_set[neg]\n",
    "            break\n",
    "        \n",
    "        # triplet bug and master\n",
    "        batch_triplets.append([anchor, pos, neg])\n",
    "    \n",
    "    random.shuffle(batch_bugs)\n",
    "    \n",
    "    for bug_id in batch_bugs:\n",
    "        bug = self.bug_set[bug_id]\n",
    "        self.read_batch_bugs(batch_features, bug)\n",
    "\n",
    "    batch_features['title'] = np.array(batch_features['title'])\n",
    "    batch_features['desc'] = np.array(batch_features['desc'])\n",
    "    batch_features['info'] = np.array(batch_features['info'])\n",
    "    \n",
    "    sim = np.asarray([issues_by_buckets[bug_id] for bug_id in batch_bugs])\n",
    "\n",
    "    input_sample = {}\n",
    "\n",
    "    input_sample = { 'title' : batch_features['title'], \n",
    "                        'description' : batch_features['desc'], \n",
    "                            'info' : batch_features['info'] }\n",
    "\n",
    "    return batch_triplets, input_sample, sim #sim"
   ]
  },
  {
   "cell_type": "code",
   "execution_count": 22,
   "metadata": {
    "colab": {
     "base_uri": "https://localhost:8080/",
     "height": 51
    },
    "colab_type": "code",
    "id": "PA5CIhgz7odW",
    "outputId": "ae98fdec-1d54-4b1f-ee0e-4c5633802a18",
    "scrolled": true
   },
   "outputs": [
    {
     "name": "stdout",
     "output_type": "stream",
     "text": [
      "CPU times: user 451 ms, sys: 0 ns, total: 451 ms\n",
      "Wall time: 455 ms\n"
     ]
    }
   ],
   "source": [
    "%%time\n",
    "\n",
    "batch_size = 128\n",
    "batch_size_test = 128\n",
    "\n",
    "# we want a constant validation group to have a frame of reference for model performance\n",
    "batch_triplets_valid, valid_input_sample, valid_sim = batch_iterator(baseline, retrieval, None, \n",
    "                                                                                      baseline.train_data, \n",
    "                                                                                      baseline.dup_sets_train,\n",
    "                                                                                      bug_train_ids,\n",
    "                                                                                      batch_size_test, 1,\n",
    "                                                                                      issues_by_buckets)\n",
    "\n",
    "validation_sample = [valid_input_sample['title'], \n",
    "             valid_input_sample['description'],\n",
    "            valid_input_sample['info'], valid_sim]\n",
    "\n",
    "# Categorical columns\n",
    "number_of_columns_info = valid_input_sample['info'].shape[1]\n",
    "# Max sequence title\n",
    "MAX_SEQUENCE_LENGTH_T = valid_input_sample['title'].shape[1]\n",
    "MAX_SEQUENCE_LENGTH_D = valid_input_sample['description'].shape[1]"
   ]
  },
  {
   "cell_type": "code",
   "execution_count": 23,
   "metadata": {},
   "outputs": [
    {
     "data": {
      "text/plain": [
       "((384, 20), (384, 20), (384, 1682), (384,))"
      ]
     },
     "execution_count": 23,
     "metadata": {},
     "output_type": "execute_result"
    }
   ],
   "source": [
    "valid_input_sample['title'].shape, valid_input_sample['description'].shape, valid_input_sample['info'].shape, valid_sim.shape"
   ]
  },
  {
   "cell_type": "markdown",
   "metadata": {
    "colab_type": "text",
    "id": "24mY22BGnkqp"
   },
   "source": [
    "### Validar entrada"
   ]
  },
  {
   "cell_type": "code",
   "execution_count": 24,
   "metadata": {
    "colab": {
     "base_uri": "https://localhost:8080/",
     "height": 796
    },
    "colab_type": "code",
    "id": "OhTbr3a5nmrh",
    "outputId": "a2d73e0f-e9ce-4d12-a5c8-f0008d2402d0",
    "scrolled": true
   },
   "outputs": [],
   "source": [
    "# %%time \n",
    "\n",
    "#baseline.display_batch(baseline.train_data, baseline.dup_sets_train, bug_train_ids, 5)"
   ]
  },
  {
   "cell_type": "code",
   "execution_count": 25,
   "metadata": {},
   "outputs": [
    {
     "data": {
      "text/plain": [
       "('Test ', 16995)"
      ]
     },
     "execution_count": 25,
     "metadata": {},
     "output_type": "execute_result"
    }
   ],
   "source": [
    "\"Test \", len(baseline.test_data)"
   ]
  },
  {
   "cell_type": "markdown",
   "metadata": {
    "colab_type": "text",
    "id": "XPrsLs4Kg4Pa"
   },
   "source": [
    "## Pre-trained embeddings\n",
    "\n",
    "Loading pretrained word vectors"
   ]
  },
  {
   "cell_type": "markdown",
   "metadata": {
    "colab_type": "text",
    "id": "6p9eE5TWoH7p"
   },
   "source": [
    "### Glove"
   ]
  },
  {
   "cell_type": "code",
   "execution_count": 26,
   "metadata": {},
   "outputs": [
    {
     "name": "stdout",
     "output_type": "stream",
     "text": [
      "vocabulary loaded\n"
     ]
    }
   ],
   "source": [
    "vocab = baseline.load_vocabulary(os.path.join(DIR, 'vocab_embed.pkl'))\n",
    "#print(np.random.choice(vocab, 10))\n",
    "# for token in vocab:\n",
    "#     print(token)"
   ]
  },
  {
   "cell_type": "code",
   "execution_count": 27,
   "metadata": {},
   "outputs": [
    {
     "data": {
      "text/plain": [
       "'Total vocabulary: 21175'"
      ]
     },
     "execution_count": 27,
     "metadata": {},
     "output_type": "execute_result"
    }
   ],
   "source": [
    "\"Total vocabulary: {}\".format(len(vocab))"
   ]
  },
  {
   "cell_type": "code",
   "execution_count": 28,
   "metadata": {},
   "outputs": [],
   "source": [
    "def generating_embed(baseline, GLOVE_DIR, EMBEDDING_DIM):\n",
    "    embeddings_index = {}\n",
    "    embed_path = os.path.join(GLOVE_DIR, 'glove.42B.300d.txt')\n",
    "    \n",
    "    f2 = open(embed_path, 'rb')\n",
    "    num_lines = sum(1 for line in f2)\n",
    "    f2.close()\n",
    "    \n",
    "    f = open(embed_path, 'rb')\n",
    "    vocab = baseline.load_vocabulary(os.path.join(baseline.DIR, 'vocab_embed.pkl'))\n",
    "    vocab_size = len(vocab) \n",
    "\n",
    "    # Initialize uniform the vector considering the Tanh activation\n",
    "    embedding_matrix = np.random.uniform(-1.0, 1.0, (num_lines + vocab_size, EMBEDDING_DIM))\n",
    "    embedding_matrix[0, :] = np.zeros(EMBEDDING_DIM)\n",
    "\n",
    "    loop = tqdm(f)\n",
    "    loop.set_description(\"Loading Glove\")\n",
    "    i = 0\n",
    "    for line in loop:\n",
    "        tokens = line.split()\n",
    "        word = tokens[0]\n",
    "        embed = np.asarray(tokens[1:], dtype='float32')\n",
    "        embeddings_index[word] = embed\n",
    "        embedding_matrix[i] = embed\n",
    "        loop.update(1)\n",
    "    f.close()\n",
    "    loop.close()\n",
    "\n",
    "    print('Total %s word vectors in Glove 42B 300d.' % len(embeddings_index))\n",
    "\n",
    "    loop = tqdm(total=vocab_size)\n",
    "    loop.set_description('Loading embedding from dataset pretrained')\n",
    "    \n",
    "    for word, embed in vocab.items():\n",
    "        if word in embeddings_index:\n",
    "            embedding_matrix[i] = embeddings_index[word]\n",
    "        else:\n",
    "            embedding_matrix[i] = np.asarray(embed, dtype='float32')\n",
    "        loop.update(1)\n",
    "        i+=1\n",
    "    loop.close()\n",
    "    baseline.embedding_matrix = embedding_matrix"
   ]
  },
  {
   "cell_type": "code",
   "execution_count": 29,
   "metadata": {
    "colab": {
     "base_uri": "https://localhost:8080/",
     "height": 85
    },
    "colab_type": "code",
    "id": "QY-ef3OGoIiq",
    "outputId": "55f4c93c-98bb-4bac-92f2-76bd3b777605"
   },
   "outputs": [
    {
     "name": "stdout",
     "output_type": "stream",
     "text": [
      "vocabulary loaded\n"
     ]
    },
    {
     "data": {
      "application/vnd.jupyter.widget-view+json": {
       "model_id": "413c4d7aaa784769bfb3ba78926ba618",
       "version_major": 2,
       "version_minor": 0
      },
      "text/plain": [
       "HBox(children=(IntProgress(value=1, bar_style='info', max=1), HTML(value='')))"
      ]
     },
     "metadata": {},
     "output_type": "display_data"
    },
    {
     "name": "stdout",
     "output_type": "stream",
     "text": [
      "\n",
      "Total 1917494 word vectors in Glove 42B 300d.\n"
     ]
    },
    {
     "data": {
      "application/vnd.jupyter.widget-view+json": {
       "model_id": "a1d4f3db4bb04b45a26ceeb58d7f35d4",
       "version_major": 2,
       "version_minor": 0
      },
      "text/plain": [
       "HBox(children=(IntProgress(value=0, max=21175), HTML(value='')))"
      ]
     },
     "metadata": {},
     "output_type": "display_data"
    },
    {
     "name": "stdout",
     "output_type": "stream",
     "text": [
      "\n",
      "CPU times: user 1min 44s, sys: 8.2 s, total: 1min 52s\n",
      "Wall time: 2min 23s\n"
     ]
    }
   ],
   "source": [
    "%%time\n",
    "\n",
    "generating_embed(baseline, GLOVE_DIR=GLOVE_DIR, EMBEDDING_DIM=EMBEDDING_DIM) # MAX_NB_WORDS=MAX_NB_WORDS"
   ]
  },
  {
   "cell_type": "markdown",
   "metadata": {},
   "source": [
    "## Experiment"
   ]
  },
  {
   "cell_type": "markdown",
   "metadata": {
    "colab_type": "text",
    "id": "Lev5Y7oaFQBd"
   },
   "source": [
    "## Towards Accurate Duplicate Bug Retrieval Using Deep Learning Techniques\n",
    "\n",
    "https://github.com/tqtg/DuplicateBugFinder"
   ]
  },
  {
   "cell_type": "markdown",
   "metadata": {},
   "source": [
    "### Embedding layer"
   ]
  },
  {
   "cell_type": "code",
   "execution_count": 30,
   "metadata": {},
   "outputs": [],
   "source": [
    "from keras.constraints import MaxNorm\n",
    "from keras.initializers import TruncatedNormal, RandomUniform\n",
    "\n",
    "# Is missing the padding_idx used in pytorch\n",
    "# https://pytorch.org/docs/stable/_modules/torch/nn/modules/sparse.html\n",
    "# https://stackoverflow.com/questions/54824768/rnn-model-gru-of-word2vec-to-regression-not-learning\n",
    "def embedding_layer(embeddings, num_words, embedding_dim, max_sequence_length, trainable):\n",
    "    embedding_layer = Embedding(num_words,\n",
    "                                  embedding_dim,\n",
    "                                  name='embedding_layer',\n",
    "                                  weights=[embeddings],\n",
    "                                  embeddings_constraint=MaxNorm(max_value=1, axis=0),\n",
    "                                  #input_length=max_sequence_length,\n",
    "                                  input_length=None,\n",
    "                                  trainable=trainable)\n",
    "    return embedding_layer"
   ]
  },
  {
   "cell_type": "markdown",
   "metadata": {
    "colab_type": "text",
    "id": "sI074wU4Y13y"
   },
   "source": [
    "### CNN with filter 3,4,5"
   ]
  },
  {
   "cell_type": "code",
   "execution_count": 31,
   "metadata": {
    "colab": {
     "base_uri": "https://localhost:8080/",
     "height": 493
    },
    "colab_type": "code",
    "id": "h6YJU9GtFTyq",
    "outputId": "f85cf105-1fd6-491d-d969-7e6936f32739",
    "scrolled": false
   },
   "outputs": [],
   "source": [
    "import keras\n",
    "from keras.layers import GlobalMaxPooling1D, GlobalAveragePooling1D\n",
    "\n",
    "def cnn_model(embedding_layer, max_sequence_length):\n",
    "\n",
    "    sequence_input = Input(shape=(max_sequence_length,), name='Feature_BugInput')\n",
    "    #sequence_input = Input(shape=(None,), name='Feature_BugInput')\n",
    "    embedded_sequences = embedding_layer(sequence_input)\n",
    "\n",
    "    # Yoon Kim model (https://arxiv.org/abs/1408.5882)\n",
    "    # best combination filter (3, 4, 5) e 128 e 256\n",
    "    convs = []\n",
    "    filter_sizes = [3, 4, 5]\n",
    "    n_filters = 64\n",
    "\n",
    "    for index, filter_size in enumerate(filter_sizes):\n",
    "        l_conv = Conv1D(filters=n_filters, kernel_size=filter_size)(embedded_sequences)\n",
    "        l_pool = MaxPooling1D(pool_size=filter_size)(l_conv) # index+1\n",
    "        convs.append(l_pool)\n",
    "\n",
    "    l_merge = Concatenate(axis=1)(convs)\n",
    "\n",
    "    # add a 1D convnet with global maxpooling, instead of Yoon Kim model\n",
    "    #conv = Conv1D(filters=n_filters * 3, kernel_size=3)(l_merge)\n",
    "    layer = GlobalAveragePooling1D()(l_merge)\n",
    "    #layer = Flatten()(l_merge)\n",
    "    layer = Dense(300, activation='tanh')(layer)\n",
    "    #layer = LeakyReLU()(layer)\n",
    "\n",
    "    cnn_feature_model = Model(inputs=[sequence_input], outputs=[layer], name = 'FeatureCNNGenerationModel') # inputs=visible\n",
    "\n",
    "    return cnn_feature_model"
   ]
  },
  {
   "cell_type": "markdown",
   "metadata": {
    "colab_type": "text",
    "id": "wr6ObTXiaALH"
   },
   "source": [
    "### Bi-LSTM"
   ]
  },
  {
   "cell_type": "code",
   "execution_count": 32,
   "metadata": {
    "colab": {
     "base_uri": "https://localhost:8080/",
     "height": 306
    },
    "colab_type": "code",
    "id": "vC7MQXEsaCeG",
    "outputId": "65e647a9-c5d3-4009-b8a4-2e2d97b52684"
   },
   "outputs": [],
   "source": [
    "from keras.layers import Dense, Input, LSTM, GRU, Dropout, Bidirectional, GlobalAveragePooling1D, TimeDistributed\n",
    "\n",
    "def lstm_model(embedding_layer, max_sequence_length):\n",
    "    number_lstm_units = 75\n",
    "    rate_drop_lstm = 0\n",
    "    recurrent_dropout = 0\n",
    "\n",
    "    sequence_input = Input(shape=(max_sequence_length, ), name='Feature_BugInput')\n",
    "    #sequence_input = Input(shape=(None, ), name='Feature_BugInput')\n",
    "    embedded_sequences = embedding_layer(sequence_input)\n",
    "\n",
    "    left_layer = LSTM(number_lstm_units, return_sequences=True)(embedded_sequences)\n",
    "    right_layer = LSTM(number_lstm_units, return_sequences=True, go_backwards=True)(left_layer)\n",
    "    \n",
    "    lstm_layer = Concatenate()([left_layer, right_layer])\n",
    "    \n",
    "    #lstm_layer = TimeDistributed(Dense(50))(lstm_layer)\n",
    "    #layer = Flatten()(lstm_layer)\n",
    "    layer = GlobalAveragePooling1D()(lstm_layer)\n",
    "    layer = Dense(300, activation='tanh')(layer)\n",
    "\n",
    "    lstm_feature_model = Model(inputs=[sequence_input], outputs=[layer], name = 'FeatureLstmGenerationModel') # inputs=visible\n",
    "\n",
    "    return lstm_feature_model"
   ]
  },
  {
   "cell_type": "markdown",
   "metadata": {},
   "source": [
    "### MLP"
   ]
  },
  {
   "cell_type": "code",
   "execution_count": 33,
   "metadata": {},
   "outputs": [],
   "source": [
    "def mlp_model(input_size):\n",
    "    info_input = Input(shape=(input_size, ), name='Feature_BugInput')\n",
    "    input_size = 300\n",
    "    \n",
    "    for units in [64, 32]:\n",
    "        layer = Dense(units, activation='tanh', kernel_initializer='random_uniform')(info_input)\n",
    "    \n",
    "    layer = Dense(input_size, activation='tanh')(info_input)\n",
    "    \n",
    "    mlp_feature_model = Model(inputs=[info_input], outputs=[layer], name = 'FeatureMlpGenerationModel')\n",
    "    \n",
    "    return mlp_feature_model"
   ]
  },
  {
   "cell_type": "markdown",
   "metadata": {
    "colab_type": "text",
    "id": "TEedCg5AaTf2"
   },
   "source": [
    "### Siamese model"
   ]
  },
  {
   "cell_type": "code",
   "execution_count": 34,
   "metadata": {},
   "outputs": [],
   "source": [
    "def pairwise_distance(feature, squared=False):\n",
    "    \"\"\"Computes the pairwise distance matrix with numerical stability.\n",
    "\n",
    "    output[i, j] = || feature[i, :] - feature[j, :] ||_2\n",
    "\n",
    "    Args:\n",
    "      feature: 2-D Tensor of size [number of data, feature dimension].\n",
    "      squared: Boolean, whether or not to square the pairwise distances.\n",
    "\n",
    "    Returns:\n",
    "      pairwise_distances: 2-D Tensor of size [number of data, number of data].\n",
    "    \"\"\"\n",
    "    pairwise_distances_squared = math_ops.add(\n",
    "        math_ops.reduce_sum(math_ops.square(feature), axis=[1], keepdims=True),\n",
    "        math_ops.reduce_sum(\n",
    "            math_ops.square(array_ops.transpose(feature)),\n",
    "            axis=[0],\n",
    "            keepdims=True)) - 2.0 * math_ops.matmul(feature,\n",
    "                                                    array_ops.transpose(feature))\n",
    "\n",
    "    # Deal with numerical inaccuracies. Set small negatives to zero.\n",
    "    pairwise_distances_squared = math_ops.maximum(pairwise_distances_squared, 0.0)\n",
    "    # Get the mask where the zero distances are at.\n",
    "    error_mask = math_ops.less_equal(pairwise_distances_squared, 0.0)\n",
    "\n",
    "    # Optionally take the sqrt.\n",
    "    if squared:\n",
    "        pairwise_distances = pairwise_distances_squared\n",
    "    else:\n",
    "        pairwise_distances = math_ops.sqrt(\n",
    "            pairwise_distances_squared + math_ops.to_float(error_mask) * 1e-16)\n",
    "\n",
    "    # Undo conditionally adding 1e-16.\n",
    "    pairwise_distances = math_ops.multiply(\n",
    "        pairwise_distances, math_ops.to_float(math_ops.logical_not(error_mask)))\n",
    "\n",
    "    num_data = array_ops.shape(feature)[0]\n",
    "    # Explicitly set diagonals to zero.\n",
    "    mask_offdiagonals = array_ops.ones_like(pairwise_distances) - array_ops.diag(\n",
    "        array_ops.ones([num_data]))\n",
    "    pairwise_distances = math_ops.multiply(pairwise_distances, mask_offdiagonals)\n",
    "    return pairwise_distances\n",
    "\n",
    "def masked_maximum(data, mask, dim=1):\n",
    "    \"\"\"Computes the axis wise maximum over chosen elements.\n",
    "\n",
    "    Args:\n",
    "      data: 2-D float `Tensor` of size [n, m].\n",
    "      mask: 2-D Boolean `Tensor` of size [n, m].\n",
    "      dim: The dimension over which to compute the maximum.\n",
    "\n",
    "    Returns:\n",
    "      masked_maximums: N-D `Tensor`.\n",
    "        The maximized dimension is of size 1 after the operation.\n",
    "    \"\"\"\n",
    "    axis_minimums = math_ops.reduce_min(data, dim, keepdims=True)\n",
    "    masked_maximums = math_ops.reduce_max(\n",
    "        math_ops.multiply(data - axis_minimums, mask), dim,\n",
    "        keepdims=True) + axis_minimums\n",
    "    return masked_maximums\n",
    "\n",
    "def masked_minimum(data, mask, dim=1):\n",
    "    \"\"\"Computes the axis wise minimum over chosen elements.\n",
    "\n",
    "    Args:\n",
    "      data: 2-D float `Tensor` of size [n, m].\n",
    "      mask: 2-D Boolean `Tensor` of size [n, m].\n",
    "      dim: The dimension over which to compute the minimum.\n",
    "\n",
    "    Returns:\n",
    "      masked_minimums: N-D `Tensor`.\n",
    "        The minimized dimension is of size 1 after the operation.\n",
    "    \"\"\"\n",
    "    axis_maximums = math_ops.reduce_max(data, dim, keepdims=True)\n",
    "    masked_minimums = math_ops.reduce_min(\n",
    "        math_ops.multiply(data - axis_maximums, mask), dim,\n",
    "        keepdims=True) + axis_maximums\n",
    "    return masked_minimums"
   ]
  },
  {
   "cell_type": "code",
   "execution_count": 35,
   "metadata": {},
   "outputs": [],
   "source": [
    "## required for semi-hard triplet loss:\n",
    "from tensorflow.python.ops import array_ops\n",
    "from tensorflow.python.ops import math_ops\n",
    "from tensorflow.python.framework import dtypes\n",
    "import tensorflow as tf\n",
    "\n",
    "def triplet_loss_adapted_from_tf(y_true, y_pred):\n",
    "    del y_true\n",
    "    margin = 1.\n",
    "    labels = y_pred[:, :1]\n",
    " \n",
    "    labels = tf.cast(labels, dtype='int32')\n",
    "\n",
    "    embeddings = y_pred[:, 1:]\n",
    "\n",
    "    ### Code from Tensorflow function [tf.contrib.losses.metric_learning.triplet_semihard_loss] starts here:\n",
    "    \n",
    "    # Reshape [batch_size] label tensor to a [batch_size, 1] label tensor.\n",
    "    # lshape=array_ops.shape(labels)\n",
    "    # assert lshape.shape == 1\n",
    "    # labels = array_ops.reshape(labels, [lshape[0], 1])\n",
    "\n",
    "    # Build pairwise squared distance matrix.\n",
    "    pdist_matrix = pairwise_distance(embeddings, squared=True)\n",
    "    # Build pairwise binary adjacency matrix.\n",
    "    adjacency = math_ops.equal(labels, array_ops.transpose(labels))\n",
    "    # Invert so we can select negatives only.\n",
    "    adjacency_not = math_ops.logical_not(adjacency)\n",
    "\n",
    "    # global batch_size  \n",
    "    batch_size = array_ops.size(labels) # was 'array_ops.size(labels)'\n",
    "\n",
    "    # Compute the mask.\n",
    "    pdist_matrix_tile = array_ops.tile(pdist_matrix, [batch_size, 1])\n",
    "    mask = math_ops.logical_and(\n",
    "        array_ops.tile(adjacency_not, [batch_size, 1]),\n",
    "        math_ops.greater(\n",
    "            pdist_matrix_tile, array_ops.reshape(\n",
    "                array_ops.transpose(pdist_matrix), [-1, 1])))\n",
    "    mask_final = array_ops.reshape(\n",
    "        math_ops.greater(\n",
    "            math_ops.reduce_sum(\n",
    "                math_ops.cast(mask, dtype=dtypes.float32), 1, keepdims=True),\n",
    "            0.0), [batch_size, batch_size])\n",
    "    mask_final = array_ops.transpose(mask_final)\n",
    "\n",
    "    adjacency_not = math_ops.cast(adjacency_not, dtype=dtypes.float32)\n",
    "    mask = math_ops.cast(mask, dtype=dtypes.float32)\n",
    "\n",
    "    # negatives_outside: smallest D_an where D_an > D_ap.\n",
    "    negatives_outside = array_ops.reshape(\n",
    "        masked_minimum(pdist_matrix_tile, mask), [batch_size, batch_size])\n",
    "    negatives_outside = array_ops.transpose(negatives_outside)\n",
    "\n",
    "    # negatives_inside: largest D_an.\n",
    "    negatives_inside = array_ops.tile(\n",
    "        masked_maximum(pdist_matrix, adjacency_not), [1, batch_size])\n",
    "    semi_hard_negatives = array_ops.where(\n",
    "        mask_final, negatives_outside, negatives_inside)\n",
    "\n",
    "    loss_mat = math_ops.add(margin, pdist_matrix - semi_hard_negatives)\n",
    "\n",
    "    mask_positives = math_ops.cast(\n",
    "        adjacency, dtype=dtypes.float32) - array_ops.diag(\n",
    "        array_ops.ones([batch_size]))\n",
    "\n",
    "    # In lifted-struct, the authors multiply 0.5 for upper triangular\n",
    "    #   in semihard, they take all positive pairs except the diagonal.\n",
    "    num_positives = math_ops.reduce_sum(mask_positives)\n",
    "\n",
    "    semi_hard_triplet_loss_distance = math_ops.truediv(\n",
    "        math_ops.reduce_sum(\n",
    "            math_ops.maximum(\n",
    "                math_ops.multiply(loss_mat, mask_positives), 0.0)),\n",
    "        num_positives,\n",
    "        name='triplet_semihard_loss')\n",
    "    \n",
    "    ### Code from Tensorflow function semi-hard triplet loss ENDS here.\n",
    "    return semi_hard_triplet_loss_distance"
   ]
  },
  {
   "cell_type": "code",
   "execution_count": 36,
   "metadata": {},
   "outputs": [],
   "source": [
    "from keras.layers import concatenate, Add, Lambda, merge, Average, Maximum\n",
    "from keras.optimizers import Adam, Nadam\n",
    "\n",
    "def siamese_model(title_feature_model, desc_feature_model, categorical_feature_model, sequence_length_info, \n",
    "                  sequence_length_t, sequence_length_d, name):\n",
    "  \n",
    "    bug_t = Input(shape = (sequence_length_t, ), name = 'title_{}'.format(name))\n",
    "    bug_d = Input(shape = (sequence_length_d, ), name = 'desc_{}'.format(name))\n",
    "    bug_i = Input(shape = (sequence_length_info, ), name = 'info_{}'.format(name))\n",
    "    \n",
    "    bug_t_feat = title_feature_model(bug_t)\n",
    "    bug_d_feat = desc_feature_model(bug_d)\n",
    "    bug_i_feat = categorical_feature_model(bug_i)\n",
    "    \n",
    "    #bug_feature_output = Add(name = 'merge_features_{}'.format(name))([bug_i_feat, bug_t_feat, bug_d_feat])\n",
    "    bug_feature_output = concatenate([bug_i_feat, bug_t_feat, bug_d_feat], name = 'merge_features_{}'.format(name))\n",
    "    \n",
    "    #     bug_feature_output = Activation('tanh')(bug_feature_output)\n",
    "    \n",
    "    # Bug representation layer\n",
    "    # bug_feature_output = Dense(300, activation='tanh')(bug_feature_output)\n",
    "    \n",
    "    bug_feature_model = Model(inputs=[bug_t, bug_d, bug_i], outputs=[bug_feature_output], name = 'merge_features_{}'.format(name))\n",
    "    \n",
    "    return bug_feature_model"
   ]
  },
  {
   "cell_type": "code",
   "execution_count": 37,
   "metadata": {},
   "outputs": [],
   "source": [
    "def max_margin_objective(encoded_anchor, decay_lr=1):\n",
    "    \n",
    "    input_labels = Input(shape=(1,), name='input_label')    # input layer for labels\n",
    "    inputs = np.concatenate([encoded_anchor.input, [input_labels]], -1).tolist()\n",
    "    \n",
    "    encoded_anchor = encoded_anchor.output\n",
    "    \n",
    "    output = concatenate([input_labels, encoded_anchor])  # concatenating the labels + embeddings\n",
    "    \n",
    "    similarity_model = Model(inputs = inputs, outputs = output, name = 'Similarity_Model')\n",
    "\n",
    "    #optimizer = Nadam(lr=1e-3, beta_1=0.9, beta_2=0.999, epsilon=K.epsilon(), schedule_decay=0.01)\n",
    "    # optimizer = Adam(lr=1e-3 * decay_lr, beta_1=0.9, beta_2=0.999, epsilon=None, decay=0.0, amsgrad=True)\n",
    "\n",
    "    # setup the optimization process \n",
    "    similarity_model.compile(optimizer='adam', loss=triplet_loss_adapted_from_tf) \n",
    "    # metrics=[pos_distance, neg_distance, custom_margin_loss]\n",
    "\n",
    "    return similarity_model"
   ]
  },
  {
   "cell_type": "code",
   "execution_count": 38,
   "metadata": {},
   "outputs": [],
   "source": [
    "# Domain to use\n",
    "limit_train = int(epochs * freeze_train) # 10% de 1000 , 100 epocas\n",
    "METHOD = 'baseline_{}'.format(limit_train)\n",
    "SAVE_PATH = '{}_preprocessing_{}_feature@number_of_epochs@epochs_64batch({})'.format(PREPROCESSING, METHOD, DOMAIN)\n",
    "SAVE_PATH_FEATURE = '{}_preprocessing_{}_feature_@number_of_epochs@epochs_64batch({})'.format(PREPROCESSING, METHOD, DOMAIN)"
   ]
  },
  {
   "cell_type": "code",
   "execution_count": 39,
   "metadata": {},
   "outputs": [],
   "source": [
    "import _pickle as pickle\n",
    "def save_loss(result):\n",
    "    with open(os.path.join(DIR,'{}_log.pkl'.format(METHOD)), 'wb') as f:\n",
    "        pickle.dump(result, f)\n",
    "    print(\"=> result saved!\")"
   ]
  },
  {
   "cell_type": "code",
   "execution_count": 40,
   "metadata": {
    "scrolled": true
   },
   "outputs": [
    {
     "name": "stdout",
     "output_type": "stream",
     "text": [
      "WARNING:tensorflow:From /usr/local/lib/python3.5/dist-packages/keras/backend/tensorflow_backend.py:95: The name tf.reset_default_graph is deprecated. Please use tf.compat.v1.reset_default_graph instead.\n",
      "\n",
      "WARNING:tensorflow:From /usr/local/lib/python3.5/dist-packages/keras/backend/tensorflow_backend.py:98: The name tf.placeholder_with_default is deprecated. Please use tf.compat.v1.placeholder_with_default instead.\n",
      "\n",
      "WARNING:tensorflow:From /usr/local/lib/python3.5/dist-packages/keras/backend/tensorflow_backend.py:102: The name tf.get_default_graph is deprecated. Please use tf.compat.v1.get_default_graph instead.\n",
      "\n",
      "WARNING:tensorflow:From /usr/local/lib/python3.5/dist-packages/keras/backend/tensorflow_backend.py:517: The name tf.placeholder is deprecated. Please use tf.compat.v1.placeholder instead.\n",
      "\n",
      "WARNING:tensorflow:From /usr/local/lib/python3.5/dist-packages/keras/backend/tensorflow_backend.py:4138: The name tf.random_uniform is deprecated. Please use tf.random.uniform instead.\n",
      "\n",
      "WARNING:tensorflow:From /usr/local/lib/python3.5/dist-packages/keras/backend/tensorflow_backend.py:174: The name tf.get_default_session is deprecated. Please use tf.compat.v1.get_default_session instead.\n",
      "\n",
      "WARNING:tensorflow:From /usr/local/lib/python3.5/dist-packages/keras/backend/tensorflow_backend.py:181: The name tf.ConfigProto is deprecated. Please use tf.compat.v1.ConfigProto instead.\n",
      "\n",
      "WARNING:tensorflow:From /usr/local/lib/python3.5/dist-packages/keras/backend/tensorflow_backend.py:186: The name tf.Session is deprecated. Please use tf.compat.v1.Session instead.\n",
      "\n",
      "WARNING:tensorflow:From /usr/local/lib/python3.5/dist-packages/keras/backend/tensorflow_backend.py:190: The name tf.global_variables is deprecated. Please use tf.compat.v1.global_variables instead.\n",
      "\n",
      "WARNING:tensorflow:From /usr/local/lib/python3.5/dist-packages/keras/backend/tensorflow_backend.py:199: The name tf.is_variable_initialized is deprecated. Please use tf.compat.v1.is_variable_initialized instead.\n",
      "\n",
      "WARNING:tensorflow:From /usr/local/lib/python3.5/dist-packages/keras/backend/tensorflow_backend.py:206: The name tf.variables_initializer is deprecated. Please use tf.compat.v1.variables_initializer instead.\n",
      "\n",
      "WARNING:tensorflow:From /usr/local/lib/python3.5/dist-packages/keras/backend/tensorflow_backend.py:3976: The name tf.nn.max_pool is deprecated. Please use tf.nn.max_pool2d instead.\n",
      "\n",
      "WARNING:tensorflow:From /usr/local/lib/python3.5/dist-packages/keras/optimizers.py:790: The name tf.train.Optimizer is deprecated. Please use tf.compat.v1.train.Optimizer instead.\n",
      "\n",
      "WARNING:tensorflow:From <ipython-input-34-cd325db98846>:35: to_float (from tensorflow.python.ops.math_ops) is deprecated and will be removed in a future version.\n",
      "Instructions for updating:\n",
      "Use `tf.cast` instead.\n",
      "WARNING:tensorflow:From <ipython-input-35-3672f63e3254>:59: where (from tensorflow.python.ops.array_ops) is deprecated and will be removed in a future version.\n",
      "Instructions for updating:\n",
      "Use tf.where in 2.0, which has the same broadcast rule as np.where\n",
      "__________________________________________________________________________________________________\n",
      "Layer (type)                    Output Shape         Param #     Connected to                     \n",
      "==================================================================================================\n",
      "info_in (InputLayer)            (None, 1682)         0                                            \n",
      "__________________________________________________________________________________________________\n",
      "title_in (InputLayer)           (None, 20)           0                                            \n",
      "__________________________________________________________________________________________________\n",
      "desc_in (InputLayer)            (None, 20)           0                                            \n",
      "__________________________________________________________________________________________________\n",
      "FeatureMlpGenerationModel (Mode (None, 300)          504900      info_in[0][0]                    \n",
      "__________________________________________________________________________________________________\n",
      "FeatureLstmGenerationModel (Mod (None, 300)          581804100   title_in[0][0]                   \n",
      "__________________________________________________________________________________________________\n",
      "FeatureCNNGenerationModel (Mode (None, 300)          581850792   desc_in[0][0]                    \n",
      "__________________________________________________________________________________________________\n",
      "input_label (InputLayer)        (None, 1)            0                                            \n",
      "__________________________________________________________________________________________________\n",
      "merge_features_in (Concatenate) (None, 900)          0           FeatureMlpGenerationModel[1][0]  \n",
      "                                                                 FeatureLstmGenerationModel[1][0] \n",
      "                                                                 FeatureCNNGenerationModel[1][0]  \n",
      "__________________________________________________________________________________________________\n",
      "concatenate_3 (Concatenate)     (None, 901)          0           input_label[0][0]                \n",
      "                                                                 merge_features_in[0][0]          \n",
      "==================================================================================================\n",
      "Total params: 1,164,159,792\n",
      "Trainable params: 958,392\n",
      "Non-trainable params: 1,163,201,400\n",
      "__________________________________________________________________________________________________\n",
      "Total of  100\n",
      "WARNING:tensorflow:From /usr/local/lib/python3.5/dist-packages/keras/backend/tensorflow_backend.py:986: The name tf.assign_add is deprecated. Please use tf.compat.v1.assign_add instead.\n",
      "\n",
      "WARNING:tensorflow:From /usr/local/lib/python3.5/dist-packages/keras/backend/tensorflow_backend.py:973: The name tf.assign is deprecated. Please use tf.compat.v1.assign instead.\n",
      "\n",
      "Epoch: 1 Loss: 0.77, Loss_test: 0.84\n",
      "Epoch: 2 Loss: 0.83, Loss_test: 0.83\n",
      "Epoch: 3 Loss: 0.74, Loss_test: 0.81\n",
      "Epoch: 4 Loss: 0.58, Loss_test: 0.80\n",
      "Epoch: 5 Loss: 0.65, Loss_test: 0.79\n",
      "Epoch: 6 Loss: 0.83, Loss_test: 0.78\n",
      "Epoch: 7 Loss: 0.70, Loss_test: 0.77\n",
      "Epoch: 8 Loss: 0.64, Loss_test: 0.76\n",
      "Epoch: 9 Loss: 0.72, Loss_test: 0.75\n",
      "=> result saved!\n",
      "Epoch: 10 Loss: 0.66, Loss_test: 0.74\n",
      "Epoch: 11 Loss: 0.77, Loss_test: 0.73\n",
      "Epoch: 12 Loss: 0.66, Loss_test: 0.72\n",
      "Epoch: 13 Loss: 0.81, Loss_test: 0.71\n",
      "Epoch: 14 Loss: 0.56, Loss_test: 0.70\n",
      "Epoch: 15 Loss: 0.57, Loss_test: 0.68\n",
      "Epoch: 16 Loss: 0.58, Loss_test: 0.67\n",
      "Epoch: 17 Loss: 0.82, Loss_test: 0.65\n",
      "Epoch: 18 Loss: 0.66, Loss_test: 0.63\n",
      "Epoch: 19 Loss: 0.60, Loss_test: 0.62\n",
      "=> result saved!\n",
      "Epoch: 20 Loss: 0.75, Loss_test: 0.61\n",
      "Epoch: 21 Loss: 0.56, Loss_test: 0.60\n",
      "Epoch: 22 Loss: 0.47, Loss_test: 0.59\n",
      "Epoch: 23 Loss: 0.59, Loss_test: 0.58\n",
      "Epoch: 24 Loss: 0.48, Loss_test: 0.57\n",
      "Epoch: 25 Loss: 0.54, Loss_test: 0.56\n",
      "Epoch: 26 Loss: 0.54, Loss_test: 0.56\n",
      "Epoch: 27 Loss: 0.52, Loss_test: 0.55\n",
      "Epoch: 28 Loss: 0.51, Loss_test: 0.55\n",
      "Epoch: 29 Loss: 0.37, Loss_test: 0.54\n",
      "=> result saved!\n",
      "Epoch: 30 Loss: 0.47, Loss_test: 0.53\n",
      "Epoch: 31 Loss: 0.49, Loss_test: 0.52\n",
      "Epoch: 32 Loss: 0.42, Loss_test: 0.50\n",
      "Epoch: 33 Loss: 0.38, Loss_test: 0.47\n",
      "Epoch: 34 Loss: 0.52, Loss_test: 0.45\n",
      "Epoch: 35 Loss: 0.56, Loss_test: 0.46\n",
      "Epoch: 36 Loss: 0.35, Loss_test: 0.45\n",
      "Epoch: 37 Loss: 0.37, Loss_test: 0.44\n",
      "Epoch: 38 Loss: 0.61, Loss_test: 0.43\n",
      "Epoch: 39 Loss: 0.48, Loss_test: 0.41\n",
      "=> result saved!\n",
      "Epoch: 40 Loss: 0.61, Loss_test: 0.41\n",
      "Epoch: 41 Loss: 0.47, Loss_test: 0.43\n",
      "Epoch: 42 Loss: 0.49, Loss_test: 0.46\n",
      "Epoch: 43 Loss: 0.46, Loss_test: 0.45\n",
      "Epoch: 44 Loss: 0.50, Loss_test: 0.41\n",
      "Epoch: 45 Loss: 0.45, Loss_test: 0.38\n",
      "Epoch: 46 Loss: 0.42, Loss_test: 0.36\n",
      "Epoch: 47 Loss: 0.39, Loss_test: 0.36\n",
      "Epoch: 48 Loss: 0.48, Loss_test: 0.37\n",
      "Epoch: 49 Loss: 0.44, Loss_test: 0.36\n",
      "=> result saved!\n",
      "Epoch: 50 Loss: 0.27, Loss_test: 0.36\n",
      "Epoch: 51 Loss: 0.49, Loss_test: 0.35\n",
      "Epoch: 52 Loss: 0.24, Loss_test: 0.34\n",
      "Epoch: 53 Loss: 0.32, Loss_test: 0.34\n",
      "Epoch: 54 Loss: 0.35, Loss_test: 0.34\n",
      "Epoch: 55 Loss: 0.35, Loss_test: 0.34\n",
      "Epoch: 56 Loss: 0.34, Loss_test: 0.34\n",
      "Epoch: 57 Loss: 0.40, Loss_test: 0.33\n"
     ]
    },
    {
     "name": "stdout",
     "output_type": "stream",
     "text": [
      "Epoch: 58 Loss: 0.40, Loss_test: 0.32\n",
      "Epoch: 59 Loss: 0.34, Loss_test: 0.31\n",
      "=> result saved!\n",
      "Epoch: 60 Loss: 0.34, Loss_test: 0.30\n",
      "Epoch: 61 Loss: 0.34, Loss_test: 0.28\n",
      "Epoch: 62 Loss: 0.35, Loss_test: 0.27\n",
      "Epoch: 63 Loss: 0.37, Loss_test: 0.25\n",
      "Epoch: 64 Loss: 0.30, Loss_test: 0.23\n",
      "Epoch: 65 Loss: 0.33, Loss_test: 0.23\n",
      "Epoch: 66 Loss: 0.30, Loss_test: 0.24\n",
      "Epoch: 67 Loss: 0.28, Loss_test: 0.25\n",
      "Epoch: 68 Loss: 0.40, Loss_test: 0.23\n",
      "Epoch: 69 Loss: 0.23, Loss_test: 0.23\n",
      "=> result saved!\n",
      "Epoch: 70 Loss: 0.29, Loss_test: 0.22\n",
      "Epoch: 71 Loss: 0.26, Loss_test: 0.21\n",
      "Epoch: 72 Loss: 0.16, Loss_test: 0.20\n",
      "Epoch: 73 Loss: 0.29, Loss_test: 0.20\n",
      "Epoch: 74 Loss: 0.31, Loss_test: 0.19\n",
      "Epoch: 75 Loss: 0.29, Loss_test: 0.19\n",
      "Epoch: 76 Loss: 0.47, Loss_test: 0.19\n",
      "Epoch: 77 Loss: 0.39, Loss_test: 0.19\n",
      "Epoch: 78 Loss: 0.32, Loss_test: 0.19\n",
      "Epoch: 79 Loss: 0.26, Loss_test: 0.19\n",
      "=> result saved!\n",
      "Epoch: 80 Loss: 0.08, Loss_test: 0.19\n",
      "Epoch: 81 Loss: 0.26, Loss_test: 0.20\n",
      "Epoch: 82 Loss: 0.29, Loss_test: 0.20\n",
      "Epoch: 83 Loss: 0.13, Loss_test: 0.20\n",
      "Epoch: 84 Loss: 0.19, Loss_test: 0.20\n",
      "Epoch: 85 Loss: 0.36, Loss_test: 0.20\n",
      "Epoch: 86 Loss: 0.23, Loss_test: 0.19\n",
      "Epoch: 87 Loss: 0.28, Loss_test: 0.19\n",
      "Epoch: 88 Loss: 0.29, Loss_test: 0.19\n",
      "Epoch: 89 Loss: 0.20, Loss_test: 0.19\n",
      "=> result saved!\n",
      "Epoch: 90 Loss: 0.22, Loss_test: 0.18\n",
      "Epoch: 91 Loss: 0.17, Loss_test: 0.18\n",
      "Epoch: 92 Loss: 0.23, Loss_test: 0.18\n",
      "Epoch: 93 Loss: 0.30, Loss_test: 0.17\n",
      "Epoch: 94 Loss: 0.16, Loss_test: 0.18\n",
      "Epoch: 95 Loss: 0.22, Loss_test: 0.18\n",
      "Epoch: 96 Loss: 0.32, Loss_test: 0.17\n",
      "Epoch: 97 Loss: 0.16, Loss_test: 0.17\n",
      "Epoch: 98 Loss: 0.19, Loss_test: 0.16\n",
      "Epoch: 99 Loss: 0.28, Loss_test: 0.16\n",
      "=> result saved!\n",
      "Epoch: 100 Loss: 0.19, Loss_test: 0.16, recall@25: 0.43\n",
      "Best_epoch=80, Best_loss=0.08, Recall@25=0.43\n",
      "CPU times: user 8min 38s, sys: 1min 17s, total: 9min 55s\n",
      "Wall time: 2min 42s\n"
     ]
    }
   ],
   "source": [
    "%%time\n",
    "import keras\n",
    "\n",
    "# Inspired on https://'pastebin.com/TaGFdcBA\n",
    "# TODO: https://stackoverflow.com/questions/49941903/keras-compute-cosine-distance-between-two-flattened-outputs\n",
    "keras.backend.clear_session()\n",
    "\n",
    "# Clear GPU memory\n",
    "# from numba import cuda\n",
    "# cuda.select_device(0)\n",
    "# cuda.close()\n",
    "\n",
    "# Embeddings\n",
    "desc_embedding_layer = embedding_layer(embeddings=baseline.embedding_matrix, \n",
    "                              num_words=len(baseline.embedding_matrix), \n",
    "                              embedding_dim=EMBEDDING_DIM, \n",
    "                              max_sequence_length=MAX_SEQUENCE_LENGTH_D, \n",
    "                              trainable=False)\n",
    "title_embedding_layer = embedding_layer(embeddings=baseline.embedding_matrix, \n",
    "                              num_words=len(baseline.embedding_matrix), \n",
    "                              embedding_dim=EMBEDDING_DIM, \n",
    "                              max_sequence_length=MAX_SEQUENCE_LENGTH_T, \n",
    "                              trainable=False)\n",
    "\n",
    "# Feature models\n",
    "'''\n",
    "    cnn_model\n",
    "    lstm_model\n",
    "    mlp_model\n",
    "'''\n",
    "desc_feature_model = cnn_model(desc_embedding_layer, MAX_SEQUENCE_LENGTH_D)\n",
    "title_feature_model = lstm_model(title_embedding_layer, MAX_SEQUENCE_LENGTH_T)\n",
    "categorical_feature_model = mlp_model(number_of_columns_info)\n",
    "\n",
    "# Similarity model\n",
    "encoded_anchor = siamese_model(title_feature_model, desc_feature_model, categorical_feature_model, \n",
    "                                     number_of_columns_info, MAX_SEQUENCE_LENGTH_T, MAX_SEQUENCE_LENGTH_D, 'in')\n",
    "\n",
    "similarity_model = max_margin_objective(encoded_anchor, decay_lr=1)\n",
    "\n",
    "# cnn_feature_model.summary()\n",
    "# lstm_feature_model.summary()\n",
    "similarity_model.summary()\n",
    "\n",
    "'''\n",
    "    Experiment\n",
    "'''\n",
    "result = { 'train' : [], 'test' : [] }\n",
    "print(\"Total of \", limit_train)\n",
    "for epoch in range(limit_train):\n",
    "    batch_triplet_train, \\\n",
    "        train_input_sample, train_sim = batch_iterator(baseline, retrieval, encoded_anchor, baseline.train_data, \n",
    "                                                       baseline.dup_sets_train, bug_train_ids, \n",
    "                                                           batch_size, 1, issues_by_buckets, TRIPLET_HARD=False)\n",
    "    train_batch = [train_input_sample['title'], train_input_sample['description'], train_input_sample['info'], train_sim]\n",
    "    \n",
    "    h = similarity_model.train_on_batch(x=train_batch, y=train_sim)\n",
    "    h_validation = similarity_model.test_on_batch(x=validation_sample, y=valid_sim)\n",
    "    \n",
    "     # save results\n",
    "    result['train'].append(h)\n",
    "    result['test'].append(h_validation)\n",
    "    \n",
    "    if( (epoch+1) % 10 == 0 or (epoch+1 == limit_train) ):\n",
    "        save_loss(result)\n",
    "    \n",
    "    if (epoch+1 == limit_train): #(epoch > 1 and epoch % 10 == 0) or (epoch+1 == epochs):\n",
    "        recall, exported_rank, debug = experiment.evaluate_validation_test(retrieval, verbose, encoded_anchor, issues_by_buckets, bug_train_ids)\n",
    "        print(\"Epoch: {} Loss: {:.2f}, Loss_test: {:.2f}, recall@25: {:.2f}\".format(epoch+1, h, h_validation, recall))\n",
    "    else:\n",
    "        print(\"Epoch: {} Loss: {:.2f}, Loss_test: {:.2f}\".format(epoch+1, h, h_validation))\n",
    "    loss = h\n",
    "    \n",
    "    if loss < best_loss:\n",
    "        best_loss = loss\n",
    "        best_epoch = epoch+1\n",
    "\n",
    "#experiment.save_model(similarity_model, SAVE_PATH.replace('@number_of_epochs@', str(epochs)))\n",
    "#experiment.save_model(encoded_anchor, SAVE_PATH_FEATURE.replace('@number_of_epochs@', str(epochs)), verbose=1)\n",
    "print('Best_epoch={}, Best_loss={:.2f}, Recall@25={:.2f}'.format(best_epoch, best_loss, recall))"
   ]
  },
  {
   "cell_type": "code",
   "execution_count": 41,
   "metadata": {},
   "outputs": [
    {
     "data": {
      "text/plain": [
       "'data/processed/eclipse/bert/exported_rank_baseline_100.txt'"
      ]
     },
     "execution_count": 41,
     "metadata": {},
     "output_type": "execute_result"
    }
   ],
   "source": [
    "EXPORT_RANK_PATH = os.path.join(DIR, 'exported_rank_{}.txt'.format(METHOD))\n",
    "EXPORT_RANK_PATH"
   ]
  },
  {
   "cell_type": "code",
   "execution_count": 42,
   "metadata": {},
   "outputs": [],
   "source": [
    "with open(EXPORT_RANK_PATH, 'w') as file_out:\n",
    "    for row in exported_rank:\n",
    "        file_out.write(row + \"\\n\")"
   ]
  },
  {
   "cell_type": "code",
   "execution_count": 43,
   "metadata": {},
   "outputs": [
    {
     "name": "stdout",
     "output_type": "stream",
     "text": [
      "Saved model 'modelos/model_bert_preprocessing_baseline_100_feature_100epochs_64batch(eclipse).h5' to disk\n"
     ]
    }
   ],
   "source": [
    "experiment.save_model(similarity_model, SAVE_PATH.replace('@number_of_epochs@', str(limit_train)))\n",
    "experiment.save_model(encoded_anchor, SAVE_PATH_FEATURE.replace('@number_of_epochs@', str(limit_train)), verbose=1)"
   ]
  },
  {
   "cell_type": "code",
   "execution_count": 44,
   "metadata": {},
   "outputs": [
    {
     "data": {
      "text/plain": [
       "(100, 100)"
      ]
     },
     "execution_count": 44,
     "metadata": {},
     "output_type": "execute_result"
    }
   ],
   "source": [
    "len(result['train']), len(result['test'])"
   ]
  },
  {
   "cell_type": "code",
   "execution_count": 45,
   "metadata": {},
   "outputs": [
    {
     "name": "stdout",
     "output_type": "stream",
     "text": [
      "__________________________________________________________________________________________________\n",
      "Layer (type)                    Output Shape         Param #     Connected to                     \n",
      "==================================================================================================\n",
      "info_in (InputLayer)            (None, 1682)         0                                            \n",
      "__________________________________________________________________________________________________\n",
      "title_in (InputLayer)           (None, 20)           0                                            \n",
      "__________________________________________________________________________________________________\n",
      "desc_in (InputLayer)            (None, 20)           0                                            \n",
      "__________________________________________________________________________________________________\n",
      "FeatureMlpGenerationModel (Mode (None, 300)          504900      info_in[0][0]                    \n",
      "__________________________________________________________________________________________________\n",
      "FeatureLstmGenerationModel (Mod (None, 300)          581804100   title_in[0][0]                   \n",
      "__________________________________________________________________________________________________\n",
      "FeatureCNNGenerationModel (Mode (None, 300)          581850792   desc_in[0][0]                    \n",
      "__________________________________________________________________________________________________\n",
      "input_label (InputLayer)        (None, 1)            0                                            \n",
      "__________________________________________________________________________________________________\n",
      "merge_features_in (Concatenate) (None, 900)          0           FeatureMlpGenerationModel[1][0]  \n",
      "                                                                 FeatureLstmGenerationModel[1][0] \n",
      "                                                                 FeatureCNNGenerationModel[1][0]  \n",
      "__________________________________________________________________________________________________\n",
      "concatenate_3 (Concatenate)     (None, 901)          0           input_label[0][0]                \n",
      "                                                                 merge_features_in[0][0]          \n",
      "==================================================================================================\n",
      "Total params: 1,164,159,792\n",
      "Trainable params: 958,392\n",
      "Non-trainable params: 1,163,201,400\n",
      "__________________________________________________________________________________________________\n"
     ]
    }
   ],
   "source": [
    "model = similarity_model.get_layer('concatenate_3')\n",
    "output = model.output\n",
    "inputs = similarity_model.inputs\n",
    "model = Model(inputs = inputs, outputs = output, name = 'Similarity_Model')\n",
    "\n",
    "# setup the optimization process \n",
    "model.compile(optimizer='adam', loss=triplet_loss_adapted_from_tf)\n",
    "model.summary()"
   ]
  },
  {
   "cell_type": "code",
   "execution_count": 46,
   "metadata": {},
   "outputs": [],
   "source": [
    "# Domain to use\n",
    "METHOD = 'baseline_{}'.format(epochs)\n",
    "SAVE_PATH = '{}_preprocessing_{}_feature@number_of_epochs@epochs_64batch({})'.format(PREPROCESSING, METHOD, DOMAIN)\n",
    "SAVE_PATH_FEATURE = '{}_preprocessing_{}_feature_@number_of_epochs@epochs_64batch({})'.format(PREPROCESSING, METHOD, DOMAIN)"
   ]
  },
  {
   "cell_type": "code",
   "execution_count": 47,
   "metadata": {
    "scrolled": true
   },
   "outputs": [
    {
     "name": "stdout",
     "output_type": "stream",
     "text": [
      "Epoch: 101 Loss: 0.20, Loss_test: 0.16\n",
      "Epoch: 102 Loss: 0.26, Loss_test: 0.17\n",
      "Epoch: 103 Loss: 0.31, Loss_test: 0.18\n",
      "Epoch: 104 Loss: 0.17, Loss_test: 0.16\n",
      "Epoch: 105 Loss: 0.24, Loss_test: 0.15\n",
      "Epoch: 106 Loss: 0.23, Loss_test: 0.15\n",
      "Epoch: 107 Loss: 0.32, Loss_test: 0.15\n",
      "Epoch: 108 Loss: 0.30, Loss_test: 0.15\n",
      "Epoch: 109 Loss: 0.24, Loss_test: 0.15\n",
      "=> result saved!\n",
      "Epoch: 110 Loss: 0.16, Loss_test: 0.17\n",
      "Epoch: 111 Loss: 0.15, Loss_test: 0.18\n",
      "Epoch: 112 Loss: 0.18, Loss_test: 0.17\n",
      "Epoch: 113 Loss: 0.12, Loss_test: 0.17\n",
      "Epoch: 114 Loss: 0.25, Loss_test: 0.16\n",
      "Epoch: 115 Loss: 0.15, Loss_test: 0.16\n",
      "Epoch: 116 Loss: 0.11, Loss_test: 0.15\n",
      "Epoch: 117 Loss: 0.12, Loss_test: 0.15\n",
      "Epoch: 118 Loss: 0.31, Loss_test: 0.15\n",
      "Epoch: 119 Loss: 0.11, Loss_test: 0.15\n",
      "=> result saved!\n",
      "Epoch: 120 Loss: 0.21, Loss_test: 0.14\n",
      "Epoch: 121 Loss: 0.22, Loss_test: 0.14\n",
      "Epoch: 122 Loss: 0.21, Loss_test: 0.14\n",
      "Epoch: 123 Loss: 0.14, Loss_test: 0.15\n",
      "Epoch: 124 Loss: 0.20, Loss_test: 0.16\n",
      "Epoch: 125 Loss: 0.15, Loss_test: 0.16\n",
      "Epoch: 126 Loss: 0.19, Loss_test: 0.15\n",
      "Epoch: 127 Loss: 0.25, Loss_test: 0.16\n",
      "Epoch: 128 Loss: 0.18, Loss_test: 0.15\n",
      "Epoch: 129 Loss: 0.12, Loss_test: 0.15\n",
      "=> result saved!\n",
      "Epoch: 130 Loss: 0.16, Loss_test: 0.15\n",
      "Epoch: 131 Loss: 0.18, Loss_test: 0.15\n",
      "Epoch: 132 Loss: 0.23, Loss_test: 0.15\n",
      "Epoch: 133 Loss: 0.14, Loss_test: 0.15\n",
      "Epoch: 134 Loss: 0.22, Loss_test: 0.15\n",
      "Epoch: 135 Loss: 0.13, Loss_test: 0.14\n",
      "Epoch: 136 Loss: 0.13, Loss_test: 0.14\n",
      "Epoch: 137 Loss: 0.16, Loss_test: 0.14\n",
      "Epoch: 138 Loss: 0.18, Loss_test: 0.14\n",
      "Epoch: 139 Loss: 0.15, Loss_test: 0.14\n",
      "=> result saved!\n",
      "Epoch: 140 Loss: 0.13, Loss_test: 0.14\n",
      "Epoch: 141 Loss: 0.13, Loss_test: 0.14\n",
      "Epoch: 142 Loss: 0.22, Loss_test: 0.14\n",
      "Epoch: 143 Loss: 0.16, Loss_test: 0.14\n",
      "Epoch: 144 Loss: 0.16, Loss_test: 0.14\n",
      "Epoch: 145 Loss: 0.29, Loss_test: 0.15\n",
      "Epoch: 146 Loss: 0.26, Loss_test: 0.15\n",
      "Epoch: 147 Loss: 0.17, Loss_test: 0.14\n",
      "Epoch: 148 Loss: 0.14, Loss_test: 0.14\n",
      "Epoch: 149 Loss: 0.22, Loss_test: 0.14\n",
      "=> result saved!\n",
      "Epoch: 150 Loss: 0.19, Loss_test: 0.14\n",
      "Epoch: 151 Loss: 0.15, Loss_test: 0.14\n",
      "Epoch: 152 Loss: 0.21, Loss_test: 0.14\n",
      "Epoch: 153 Loss: 0.24, Loss_test: 0.14\n",
      "Epoch: 154 Loss: 0.22, Loss_test: 0.14\n",
      "Epoch: 155 Loss: 0.17, Loss_test: 0.13\n",
      "Epoch: 156 Loss: 0.25, Loss_test: 0.13\n",
      "Epoch: 157 Loss: 0.17, Loss_test: 0.13\n",
      "Epoch: 158 Loss: 0.17, Loss_test: 0.14\n",
      "Epoch: 159 Loss: 0.25, Loss_test: 0.15\n",
      "=> result saved!\n",
      "Epoch: 160 Loss: 0.27, Loss_test: 0.16\n",
      "Epoch: 161 Loss: 0.12, Loss_test: 0.17\n",
      "Epoch: 162 Loss: 0.24, Loss_test: 0.17\n",
      "Epoch: 163 Loss: 0.13, Loss_test: 0.17\n",
      "Epoch: 164 Loss: 0.18, Loss_test: 0.16\n",
      "Epoch: 165 Loss: 0.15, Loss_test: 0.15\n",
      "Epoch: 166 Loss: 0.12, Loss_test: 0.14\n",
      "Epoch: 167 Loss: 0.18, Loss_test: 0.14\n",
      "Epoch: 168 Loss: 0.18, Loss_test: 0.13\n",
      "Epoch: 169 Loss: 0.18, Loss_test: 0.13\n",
      "=> result saved!\n",
      "Epoch: 170 Loss: 0.15, Loss_test: 0.13\n",
      "Epoch: 171 Loss: 0.12, Loss_test: 0.13\n",
      "Epoch: 172 Loss: 0.18, Loss_test: 0.13\n",
      "Epoch: 173 Loss: 0.10, Loss_test: 0.13\n",
      "Epoch: 174 Loss: 0.10, Loss_test: 0.13\n",
      "Epoch: 175 Loss: 0.16, Loss_test: 0.12\n",
      "Epoch: 176 Loss: 0.15, Loss_test: 0.13\n",
      "Epoch: 177 Loss: 0.16, Loss_test: 0.13\n",
      "Epoch: 178 Loss: 0.11, Loss_test: 0.12\n",
      "Epoch: 179 Loss: 0.15, Loss_test: 0.12\n",
      "=> result saved!\n",
      "Epoch: 180 Loss: 0.14, Loss_test: 0.12\n",
      "Epoch: 181 Loss: 0.15, Loss_test: 0.12\n",
      "Epoch: 182 Loss: 0.17, Loss_test: 0.12\n",
      "Epoch: 183 Loss: 0.16, Loss_test: 0.11\n",
      "Epoch: 184 Loss: 0.10, Loss_test: 0.12\n",
      "Epoch: 185 Loss: 0.11, Loss_test: 0.12\n",
      "Epoch: 186 Loss: 0.06, Loss_test: 0.11\n",
      "Epoch: 187 Loss: 0.20, Loss_test: 0.11\n",
      "Epoch: 188 Loss: 0.18, Loss_test: 0.11\n",
      "Epoch: 189 Loss: 0.17, Loss_test: 0.12\n",
      "=> result saved!\n",
      "Epoch: 190 Loss: 0.12, Loss_test: 0.11\n",
      "Epoch: 191 Loss: 0.07, Loss_test: 0.11\n",
      "Epoch: 192 Loss: 0.14, Loss_test: 0.11\n",
      "Epoch: 193 Loss: 0.21, Loss_test: 0.10\n",
      "Epoch: 194 Loss: 0.13, Loss_test: 0.10\n",
      "Epoch: 195 Loss: 0.15, Loss_test: 0.10\n",
      "Epoch: 196 Loss: 0.20, Loss_test: 0.10\n",
      "Epoch: 197 Loss: 0.09, Loss_test: 0.10\n",
      "Epoch: 198 Loss: 0.09, Loss_test: 0.10\n",
      "Epoch: 199 Loss: 0.09, Loss_test: 0.10\n",
      "=> result saved!\n",
      "Epoch: 200 Loss: 0.22, Loss_test: 0.11\n",
      "Epoch: 201 Loss: 0.13, Loss_test: 0.10\n",
      "Epoch: 202 Loss: 0.09, Loss_test: 0.11\n",
      "Epoch: 203 Loss: 0.18, Loss_test: 0.11\n",
      "Epoch: 204 Loss: 0.14, Loss_test: 0.10\n",
      "Epoch: 205 Loss: 0.16, Loss_test: 0.10\n",
      "Epoch: 206 Loss: 0.08, Loss_test: 0.10\n",
      "Epoch: 207 Loss: 0.08, Loss_test: 0.10\n",
      "Epoch: 208 Loss: 0.12, Loss_test: 0.10\n",
      "Epoch: 209 Loss: 0.14, Loss_test: 0.10\n",
      "=> result saved!\n",
      "Epoch: 210 Loss: 0.14, Loss_test: 0.11\n",
      "Epoch: 211 Loss: 0.18, Loss_test: 0.11\n",
      "Epoch: 212 Loss: 0.08, Loss_test: 0.12\n",
      "Epoch: 213 Loss: 0.10, Loss_test: 0.12\n",
      "Epoch: 214 Loss: 0.13, Loss_test: 0.11\n",
      "Epoch: 215 Loss: 0.09, Loss_test: 0.10\n",
      "Epoch: 216 Loss: 0.06, Loss_test: 0.10\n",
      "Epoch: 217 Loss: 0.11, Loss_test: 0.09\n",
      "Epoch: 218 Loss: 0.09, Loss_test: 0.10\n",
      "Epoch: 219 Loss: 0.17, Loss_test: 0.10\n",
      "=> result saved!\n",
      "Epoch: 220 Loss: 0.15, Loss_test: 0.09\n",
      "Epoch: 221 Loss: 0.07, Loss_test: 0.09\n",
      "Epoch: 222 Loss: 0.08, Loss_test: 0.09\n",
      "Epoch: 223 Loss: 0.16, Loss_test: 0.09\n",
      "Epoch: 224 Loss: 0.23, Loss_test: 0.09\n",
      "Epoch: 225 Loss: 0.15, Loss_test: 0.09\n",
      "Epoch: 226 Loss: 0.14, Loss_test: 0.09\n",
      "Epoch: 227 Loss: 0.15, Loss_test: 0.09\n",
      "Epoch: 228 Loss: 0.09, Loss_test: 0.09\n",
      "Epoch: 229 Loss: 0.12, Loss_test: 0.10\n",
      "=> result saved!\n",
      "Epoch: 230 Loss: 0.16, Loss_test: 0.10\n",
      "Epoch: 231 Loss: 0.18, Loss_test: 0.09\n",
      "Epoch: 232 Loss: 0.12, Loss_test: 0.09\n",
      "Epoch: 233 Loss: 0.14, Loss_test: 0.09\n",
      "Epoch: 234 Loss: 0.12, Loss_test: 0.09\n",
      "Epoch: 235 Loss: 0.14, Loss_test: 0.09\n",
      "Epoch: 236 Loss: 0.16, Loss_test: 0.09\n",
      "Epoch: 237 Loss: 0.11, Loss_test: 0.09\n",
      "Epoch: 238 Loss: 0.14, Loss_test: 0.09\n",
      "Epoch: 239 Loss: 0.10, Loss_test: 0.09\n",
      "=> result saved!\n",
      "Epoch: 240 Loss: 0.11, Loss_test: 0.09\n",
      "Epoch: 241 Loss: 0.18, Loss_test: 0.09\n",
      "Epoch: 242 Loss: 0.13, Loss_test: 0.09\n",
      "Epoch: 243 Loss: 0.08, Loss_test: 0.09\n",
      "Epoch: 244 Loss: 0.15, Loss_test: 0.10\n",
      "Epoch: 245 Loss: 0.15, Loss_test: 0.10\n",
      "Epoch: 246 Loss: 0.10, Loss_test: 0.10\n",
      "Epoch: 247 Loss: 0.13, Loss_test: 0.10\n",
      "Epoch: 248 Loss: 0.07, Loss_test: 0.10\n",
      "Epoch: 249 Loss: 0.16, Loss_test: 0.10\n",
      "=> result saved!\n",
      "Epoch: 250 Loss: 0.14, Loss_test: 0.09\n",
      "Epoch: 251 Loss: 0.08, Loss_test: 0.09\n",
      "Epoch: 252 Loss: 0.10, Loss_test: 0.09\n",
      "Epoch: 253 Loss: 0.13, Loss_test: 0.09\n",
      "Epoch: 254 Loss: 0.11, Loss_test: 0.09\n",
      "Epoch: 255 Loss: 0.15, Loss_test: 0.09\n",
      "Epoch: 256 Loss: 0.11, Loss_test: 0.09\n",
      "Epoch: 257 Loss: 0.12, Loss_test: 0.09\n",
      "Epoch: 258 Loss: 0.13, Loss_test: 0.09\n",
      "Epoch: 259 Loss: 0.14, Loss_test: 0.09\n",
      "=> result saved!\n",
      "Epoch: 260 Loss: 0.11, Loss_test: 0.09\n",
      "Epoch: 261 Loss: 0.07, Loss_test: 0.08\n",
      "Epoch: 262 Loss: 0.11, Loss_test: 0.08\n",
      "Epoch: 263 Loss: 0.14, Loss_test: 0.08\n",
      "Epoch: 264 Loss: 0.14, Loss_test: 0.08\n",
      "Epoch: 265 Loss: 0.08, Loss_test: 0.08\n",
      "Epoch: 266 Loss: 0.09, Loss_test: 0.08\n",
      "Epoch: 267 Loss: 0.09, Loss_test: 0.08\n",
      "Epoch: 268 Loss: 0.09, Loss_test: 0.08\n",
      "Epoch: 269 Loss: 0.08, Loss_test: 0.08\n",
      "=> result saved!\n",
      "Epoch: 270 Loss: 0.10, Loss_test: 0.08\n",
      "Epoch: 271 Loss: 0.15, Loss_test: 0.08\n",
      "Epoch: 272 Loss: 0.17, Loss_test: 0.08\n",
      "Epoch: 273 Loss: 0.09, Loss_test: 0.08\n",
      "Epoch: 274 Loss: 0.13, Loss_test: 0.08\n",
      "Epoch: 275 Loss: 0.07, Loss_test: 0.08\n",
      "Epoch: 276 Loss: 0.15, Loss_test: 0.08\n",
      "Epoch: 277 Loss: 0.10, Loss_test: 0.08\n",
      "Epoch: 278 Loss: 0.10, Loss_test: 0.08\n",
      "Epoch: 279 Loss: 0.18, Loss_test: 0.08\n",
      "=> result saved!\n",
      "Epoch: 280 Loss: 0.11, Loss_test: 0.09\n",
      "Epoch: 281 Loss: 0.12, Loss_test: 0.09\n",
      "Epoch: 282 Loss: 0.08, Loss_test: 0.09\n",
      "Epoch: 283 Loss: 0.09, Loss_test: 0.09\n",
      "Epoch: 284 Loss: 0.12, Loss_test: 0.09\n",
      "Epoch: 285 Loss: 0.08, Loss_test: 0.09\n",
      "Epoch: 286 Loss: 0.13, Loss_test: 0.09\n",
      "Epoch: 287 Loss: 0.12, Loss_test: 0.09\n",
      "Epoch: 288 Loss: 0.14, Loss_test: 0.09\n",
      "Epoch: 289 Loss: 0.13, Loss_test: 0.09\n",
      "=> result saved!\n",
      "Epoch: 290 Loss: 0.10, Loss_test: 0.09\n",
      "Epoch: 291 Loss: 0.07, Loss_test: 0.09\n",
      "Epoch: 292 Loss: 0.12, Loss_test: 0.09\n",
      "Epoch: 293 Loss: 0.08, Loss_test: 0.09\n",
      "Epoch: 294 Loss: 0.13, Loss_test: 0.09\n",
      "Epoch: 295 Loss: 0.11, Loss_test: 0.09\n",
      "Epoch: 296 Loss: 0.08, Loss_test: 0.09\n",
      "Epoch: 297 Loss: 0.10, Loss_test: 0.09\n",
      "Epoch: 298 Loss: 0.13, Loss_test: 0.09\n",
      "Epoch: 299 Loss: 0.07, Loss_test: 0.09\n",
      "=> result saved!\n",
      "Epoch: 300 Loss: 0.13, Loss_test: 0.09\n",
      "Epoch: 301 Loss: 0.12, Loss_test: 0.09\n",
      "Epoch: 302 Loss: 0.16, Loss_test: 0.09\n"
     ]
    },
    {
     "name": "stdout",
     "output_type": "stream",
     "text": [
      "Epoch: 303 Loss: 0.16, Loss_test: 0.09\n",
      "Epoch: 304 Loss: 0.09, Loss_test: 0.09\n",
      "Epoch: 305 Loss: 0.08, Loss_test: 0.09\n",
      "Epoch: 306 Loss: 0.07, Loss_test: 0.08\n",
      "Epoch: 307 Loss: 0.09, Loss_test: 0.09\n",
      "Epoch: 308 Loss: 0.10, Loss_test: 0.08\n",
      "Epoch: 309 Loss: 0.16, Loss_test: 0.08\n",
      "=> result saved!\n",
      "Epoch: 310 Loss: 0.11, Loss_test: 0.08\n",
      "Epoch: 311 Loss: 0.07, Loss_test: 0.08\n",
      "Epoch: 312 Loss: 0.11, Loss_test: 0.08\n",
      "Epoch: 313 Loss: 0.07, Loss_test: 0.08\n",
      "Epoch: 314 Loss: 0.07, Loss_test: 0.08\n",
      "Epoch: 315 Loss: 0.09, Loss_test: 0.08\n",
      "Epoch: 316 Loss: 0.10, Loss_test: 0.08\n",
      "Epoch: 317 Loss: 0.08, Loss_test: 0.08\n",
      "Epoch: 318 Loss: 0.06, Loss_test: 0.08\n",
      "Epoch: 319 Loss: 0.17, Loss_test: 0.08\n",
      "=> result saved!\n",
      "Epoch: 320 Loss: 0.12, Loss_test: 0.08\n",
      "Epoch: 321 Loss: 0.08, Loss_test: 0.08\n",
      "Epoch: 322 Loss: 0.11, Loss_test: 0.07\n",
      "Epoch: 323 Loss: 0.12, Loss_test: 0.07\n",
      "Epoch: 324 Loss: 0.12, Loss_test: 0.07\n",
      "Epoch: 325 Loss: 0.10, Loss_test: 0.08\n",
      "Epoch: 326 Loss: 0.06, Loss_test: 0.08\n",
      "Epoch: 327 Loss: 0.13, Loss_test: 0.08\n",
      "Epoch: 328 Loss: 0.08, Loss_test: 0.07\n",
      "Epoch: 329 Loss: 0.13, Loss_test: 0.07\n",
      "=> result saved!\n",
      "Epoch: 330 Loss: 0.07, Loss_test: 0.07\n",
      "Epoch: 331 Loss: 0.14, Loss_test: 0.07\n",
      "Epoch: 332 Loss: 0.16, Loss_test: 0.07\n",
      "Epoch: 333 Loss: 0.10, Loss_test: 0.07\n",
      "Epoch: 334 Loss: 0.07, Loss_test: 0.08\n",
      "Epoch: 335 Loss: 0.09, Loss_test: 0.07\n",
      "Epoch: 336 Loss: 0.07, Loss_test: 0.08\n",
      "Epoch: 337 Loss: 0.08, Loss_test: 0.08\n",
      "Epoch: 338 Loss: 0.12, Loss_test: 0.08\n",
      "Epoch: 339 Loss: 0.11, Loss_test: 0.08\n",
      "=> result saved!\n",
      "Epoch: 340 Loss: 0.08, Loss_test: 0.08\n",
      "Epoch: 341 Loss: 0.11, Loss_test: 0.08\n",
      "Epoch: 342 Loss: 0.06, Loss_test: 0.08\n",
      "Epoch: 343 Loss: 0.08, Loss_test: 0.08\n",
      "Epoch: 344 Loss: 0.10, Loss_test: 0.08\n",
      "Epoch: 345 Loss: 0.06, Loss_test: 0.07\n",
      "Epoch: 346 Loss: 0.24, Loss_test: 0.07\n",
      "Epoch: 347 Loss: 0.09, Loss_test: 0.07\n",
      "Epoch: 348 Loss: 0.06, Loss_test: 0.08\n",
      "Epoch: 349 Loss: 0.10, Loss_test: 0.08\n",
      "=> result saved!\n",
      "Epoch: 350 Loss: 0.10, Loss_test: 0.08\n",
      "Epoch: 351 Loss: 0.09, Loss_test: 0.08\n",
      "Epoch: 352 Loss: 0.12, Loss_test: 0.08\n",
      "Epoch: 353 Loss: 0.06, Loss_test: 0.08\n",
      "Epoch: 354 Loss: 0.07, Loss_test: 0.07\n",
      "Epoch: 355 Loss: 0.05, Loss_test: 0.07\n",
      "Epoch: 356 Loss: 0.09, Loss_test: 0.07\n",
      "Epoch: 357 Loss: 0.09, Loss_test: 0.07\n",
      "Epoch: 358 Loss: 0.07, Loss_test: 0.07\n",
      "Epoch: 359 Loss: 0.10, Loss_test: 0.07\n",
      "=> result saved!\n",
      "Epoch: 360 Loss: 0.12, Loss_test: 0.07\n",
      "Epoch: 361 Loss: 0.07, Loss_test: 0.07\n",
      "Epoch: 362 Loss: 0.09, Loss_test: 0.07\n",
      "Epoch: 363 Loss: 0.06, Loss_test: 0.07\n",
      "Epoch: 364 Loss: 0.09, Loss_test: 0.07\n",
      "Epoch: 365 Loss: 0.11, Loss_test: 0.07\n",
      "Epoch: 366 Loss: 0.08, Loss_test: 0.07\n",
      "Epoch: 367 Loss: 0.10, Loss_test: 0.07\n",
      "Epoch: 368 Loss: 0.08, Loss_test: 0.07\n",
      "Epoch: 369 Loss: 0.05, Loss_test: 0.07\n",
      "=> result saved!\n",
      "Epoch: 370 Loss: 0.09, Loss_test: 0.07\n",
      "Epoch: 371 Loss: 0.11, Loss_test: 0.07\n",
      "Epoch: 372 Loss: 0.06, Loss_test: 0.07\n",
      "Epoch: 373 Loss: 0.08, Loss_test: 0.07\n",
      "Epoch: 374 Loss: 0.08, Loss_test: 0.07\n",
      "Epoch: 375 Loss: 0.09, Loss_test: 0.07\n",
      "Epoch: 376 Loss: 0.06, Loss_test: 0.07\n",
      "Epoch: 377 Loss: 0.09, Loss_test: 0.07\n",
      "Epoch: 378 Loss: 0.08, Loss_test: 0.07\n",
      "Epoch: 379 Loss: 0.15, Loss_test: 0.07\n",
      "=> result saved!\n",
      "Epoch: 380 Loss: 0.09, Loss_test: 0.06\n",
      "Epoch: 381 Loss: 0.06, Loss_test: 0.06\n",
      "Epoch: 382 Loss: 0.05, Loss_test: 0.06\n",
      "Epoch: 383 Loss: 0.10, Loss_test: 0.07\n",
      "Epoch: 384 Loss: 0.09, Loss_test: 0.07\n",
      "Epoch: 385 Loss: 0.14, Loss_test: 0.06\n",
      "Epoch: 386 Loss: 0.10, Loss_test: 0.06\n",
      "Epoch: 387 Loss: 0.06, Loss_test: 0.06\n",
      "Epoch: 388 Loss: 0.11, Loss_test: 0.06\n",
      "Epoch: 389 Loss: 0.08, Loss_test: 0.06\n",
      "=> result saved!\n",
      "Epoch: 390 Loss: 0.11, Loss_test: 0.06\n",
      "Epoch: 391 Loss: 0.12, Loss_test: 0.06\n",
      "Epoch: 392 Loss: 0.12, Loss_test: 0.06\n",
      "Epoch: 393 Loss: 0.05, Loss_test: 0.06\n",
      "Epoch: 394 Loss: 0.07, Loss_test: 0.06\n",
      "Epoch: 395 Loss: 0.06, Loss_test: 0.06\n",
      "Epoch: 396 Loss: 0.10, Loss_test: 0.06\n",
      "Epoch: 397 Loss: 0.08, Loss_test: 0.06\n",
      "Epoch: 398 Loss: 0.08, Loss_test: 0.06\n",
      "Epoch: 399 Loss: 0.06, Loss_test: 0.07\n",
      "=> result saved!\n",
      "Epoch: 400 Loss: 0.08, Loss_test: 0.07\n",
      "Epoch: 401 Loss: 0.11, Loss_test: 0.06\n",
      "Epoch: 402 Loss: 0.05, Loss_test: 0.06\n",
      "Epoch: 403 Loss: 0.11, Loss_test: 0.06\n",
      "Epoch: 404 Loss: 0.10, Loss_test: 0.07\n",
      "Epoch: 405 Loss: 0.06, Loss_test: 0.07\n",
      "Epoch: 406 Loss: 0.07, Loss_test: 0.07\n",
      "Epoch: 407 Loss: 0.10, Loss_test: 0.07\n",
      "Epoch: 408 Loss: 0.05, Loss_test: 0.07\n",
      "Epoch: 409 Loss: 0.10, Loss_test: 0.07\n",
      "=> result saved!\n",
      "Epoch: 410 Loss: 0.06, Loss_test: 0.07\n",
      "Epoch: 411 Loss: 0.13, Loss_test: 0.07\n",
      "Epoch: 412 Loss: 0.08, Loss_test: 0.07\n",
      "Epoch: 413 Loss: 0.07, Loss_test: 0.07\n",
      "Epoch: 414 Loss: 0.08, Loss_test: 0.07\n",
      "Epoch: 415 Loss: 0.08, Loss_test: 0.07\n",
      "Epoch: 416 Loss: 0.07, Loss_test: 0.07\n",
      "Epoch: 417 Loss: 0.08, Loss_test: 0.07\n",
      "Epoch: 418 Loss: 0.09, Loss_test: 0.07\n",
      "Epoch: 419 Loss: 0.07, Loss_test: 0.07\n",
      "=> result saved!\n",
      "Epoch: 420 Loss: 0.07, Loss_test: 0.07\n",
      "Epoch: 421 Loss: 0.11, Loss_test: 0.09\n",
      "Epoch: 422 Loss: 0.11, Loss_test: 0.09\n",
      "Epoch: 423 Loss: 0.10, Loss_test: 0.08\n",
      "Epoch: 424 Loss: 0.10, Loss_test: 0.08\n",
      "Epoch: 425 Loss: 0.08, Loss_test: 0.06\n",
      "Epoch: 426 Loss: 0.09, Loss_test: 0.06\n",
      "Epoch: 427 Loss: 0.09, Loss_test: 0.06\n",
      "Epoch: 428 Loss: 0.09, Loss_test: 0.06\n",
      "Epoch: 429 Loss: 0.12, Loss_test: 0.06\n",
      "=> result saved!\n",
      "Epoch: 430 Loss: 0.06, Loss_test: 0.06\n",
      "Epoch: 431 Loss: 0.13, Loss_test: 0.06\n",
      "Epoch: 432 Loss: 0.09, Loss_test: 0.06\n",
      "Epoch: 433 Loss: 0.11, Loss_test: 0.07\n",
      "Epoch: 434 Loss: 0.15, Loss_test: 0.07\n",
      "Epoch: 435 Loss: 0.07, Loss_test: 0.06\n",
      "Epoch: 436 Loss: 0.06, Loss_test: 0.06\n",
      "Epoch: 437 Loss: 0.07, Loss_test: 0.07\n",
      "Epoch: 438 Loss: 0.07, Loss_test: 0.07\n",
      "Epoch: 439 Loss: 0.11, Loss_test: 0.07\n",
      "=> result saved!\n",
      "Epoch: 440 Loss: 0.13, Loss_test: 0.07\n",
      "Epoch: 441 Loss: 0.11, Loss_test: 0.08\n",
      "Epoch: 442 Loss: 0.09, Loss_test: 0.07\n",
      "Epoch: 443 Loss: 0.08, Loss_test: 0.06\n",
      "Epoch: 444 Loss: 0.05, Loss_test: 0.06\n",
      "Epoch: 445 Loss: 0.07, Loss_test: 0.06\n",
      "Epoch: 446 Loss: 0.11, Loss_test: 0.06\n",
      "Epoch: 447 Loss: 0.10, Loss_test: 0.06\n",
      "Epoch: 448 Loss: 0.07, Loss_test: 0.06\n",
      "Epoch: 449 Loss: 0.04, Loss_test: 0.06\n",
      "=> result saved!\n",
      "Epoch: 450 Loss: 0.09, Loss_test: 0.06\n",
      "Epoch: 451 Loss: 0.10, Loss_test: 0.06\n",
      "Epoch: 452 Loss: 0.04, Loss_test: 0.06\n",
      "Epoch: 453 Loss: 0.07, Loss_test: 0.06\n",
      "Epoch: 454 Loss: 0.08, Loss_test: 0.06\n",
      "Epoch: 455 Loss: 0.05, Loss_test: 0.06\n",
      "Epoch: 456 Loss: 0.07, Loss_test: 0.06\n",
      "Epoch: 457 Loss: 0.04, Loss_test: 0.06\n",
      "Epoch: 458 Loss: 0.12, Loss_test: 0.06\n",
      "Epoch: 459 Loss: 0.05, Loss_test: 0.06\n",
      "=> result saved!\n",
      "Epoch: 460 Loss: 0.07, Loss_test: 0.06\n",
      "Epoch: 461 Loss: 0.08, Loss_test: 0.07\n",
      "Epoch: 462 Loss: 0.08, Loss_test: 0.06\n",
      "Epoch: 463 Loss: 0.03, Loss_test: 0.05\n",
      "Epoch: 464 Loss: 0.07, Loss_test: 0.05\n",
      "Epoch: 465 Loss: 0.07, Loss_test: 0.06\n",
      "Epoch: 466 Loss: 0.11, Loss_test: 0.06\n",
      "Epoch: 467 Loss: 0.06, Loss_test: 0.07\n",
      "Epoch: 468 Loss: 0.12, Loss_test: 0.07\n",
      "Epoch: 469 Loss: 0.11, Loss_test: 0.08\n",
      "=> result saved!\n",
      "Epoch: 470 Loss: 0.12, Loss_test: 0.07\n",
      "Epoch: 471 Loss: 0.15, Loss_test: 0.06\n",
      "Epoch: 472 Loss: 0.08, Loss_test: 0.06\n",
      "Epoch: 473 Loss: 0.05, Loss_test: 0.07\n",
      "Epoch: 474 Loss: 0.07, Loss_test: 0.07\n",
      "Epoch: 475 Loss: 0.11, Loss_test: 0.06\n",
      "Epoch: 476 Loss: 0.07, Loss_test: 0.06\n",
      "Epoch: 477 Loss: 0.08, Loss_test: 0.06\n",
      "Epoch: 478 Loss: 0.04, Loss_test: 0.06\n",
      "Epoch: 479 Loss: 0.07, Loss_test: 0.06\n",
      "=> result saved!\n",
      "Epoch: 480 Loss: 0.05, Loss_test: 0.06\n",
      "Epoch: 481 Loss: 0.05, Loss_test: 0.06\n",
      "Epoch: 482 Loss: 0.04, Loss_test: 0.06\n",
      "Epoch: 483 Loss: 0.05, Loss_test: 0.06\n",
      "Epoch: 484 Loss: 0.08, Loss_test: 0.06\n",
      "Epoch: 485 Loss: 0.05, Loss_test: 0.05\n",
      "Epoch: 486 Loss: 0.08, Loss_test: 0.06\n",
      "Epoch: 487 Loss: 0.06, Loss_test: 0.06\n",
      "Epoch: 488 Loss: 0.08, Loss_test: 0.06\n",
      "Epoch: 489 Loss: 0.09, Loss_test: 0.06\n",
      "=> result saved!\n",
      "Epoch: 490 Loss: 0.12, Loss_test: 0.05\n",
      "Epoch: 491 Loss: 0.06, Loss_test: 0.06\n",
      "Epoch: 492 Loss: 0.06, Loss_test: 0.06\n",
      "Epoch: 493 Loss: 0.10, Loss_test: 0.06\n",
      "Epoch: 494 Loss: 0.06, Loss_test: 0.06\n",
      "Epoch: 495 Loss: 0.07, Loss_test: 0.06\n",
      "Epoch: 496 Loss: 0.17, Loss_test: 0.06\n",
      "Epoch: 497 Loss: 0.07, Loss_test: 0.06\n",
      "Epoch: 498 Loss: 0.07, Loss_test: 0.05\n",
      "Epoch: 499 Loss: 0.08, Loss_test: 0.05\n",
      "=> result saved!\n",
      "Epoch: 500 Loss: 0.09, Loss_test: 0.05\n",
      "Epoch: 501 Loss: 0.12, Loss_test: 0.05\n",
      "Epoch: 502 Loss: 0.09, Loss_test: 0.05\n",
      "Epoch: 503 Loss: 0.04, Loss_test: 0.05\n",
      "Epoch: 504 Loss: 0.04, Loss_test: 0.05\n"
     ]
    },
    {
     "name": "stdout",
     "output_type": "stream",
     "text": [
      "Epoch: 505 Loss: 0.09, Loss_test: 0.04\n",
      "Epoch: 506 Loss: 0.06, Loss_test: 0.05\n",
      "Epoch: 507 Loss: 0.06, Loss_test: 0.05\n",
      "Epoch: 508 Loss: 0.07, Loss_test: 0.05\n",
      "Epoch: 509 Loss: 0.06, Loss_test: 0.05\n",
      "=> result saved!\n",
      "Epoch: 510 Loss: 0.06, Loss_test: 0.05\n",
      "Epoch: 511 Loss: 0.08, Loss_test: 0.05\n",
      "Epoch: 512 Loss: 0.08, Loss_test: 0.05\n",
      "Epoch: 513 Loss: 0.08, Loss_test: 0.05\n",
      "Epoch: 514 Loss: 0.07, Loss_test: 0.05\n",
      "Epoch: 515 Loss: 0.10, Loss_test: 0.05\n",
      "Epoch: 516 Loss: 0.07, Loss_test: 0.05\n",
      "Epoch: 517 Loss: 0.07, Loss_test: 0.05\n",
      "Epoch: 518 Loss: 0.05, Loss_test: 0.05\n",
      "Epoch: 519 Loss: 0.06, Loss_test: 0.05\n",
      "=> result saved!\n",
      "Epoch: 520 Loss: 0.07, Loss_test: 0.05\n",
      "Epoch: 521 Loss: 0.05, Loss_test: 0.05\n",
      "Epoch: 522 Loss: 0.03, Loss_test: 0.05\n",
      "Epoch: 523 Loss: 0.11, Loss_test: 0.05\n",
      "Epoch: 524 Loss: 0.06, Loss_test: 0.05\n",
      "Epoch: 525 Loss: 0.04, Loss_test: 0.04\n",
      "Epoch: 526 Loss: 0.06, Loss_test: 0.04\n",
      "Epoch: 527 Loss: 0.12, Loss_test: 0.04\n",
      "Epoch: 528 Loss: 0.08, Loss_test: 0.04\n",
      "Epoch: 529 Loss: 0.09, Loss_test: 0.05\n",
      "=> result saved!\n",
      "Epoch: 530 Loss: 0.06, Loss_test: 0.04\n",
      "Epoch: 531 Loss: 0.07, Loss_test: 0.04\n",
      "Epoch: 532 Loss: 0.06, Loss_test: 0.04\n",
      "Epoch: 533 Loss: 0.05, Loss_test: 0.04\n",
      "Epoch: 534 Loss: 0.06, Loss_test: 0.05\n",
      "Epoch: 535 Loss: 0.05, Loss_test: 0.05\n",
      "Epoch: 536 Loss: 0.07, Loss_test: 0.05\n",
      "Epoch: 537 Loss: 0.06, Loss_test: 0.05\n",
      "Epoch: 538 Loss: 0.07, Loss_test: 0.05\n",
      "Epoch: 539 Loss: 0.04, Loss_test: 0.05\n",
      "=> result saved!\n",
      "Epoch: 540 Loss: 0.05, Loss_test: 0.05\n",
      "Epoch: 541 Loss: 0.06, Loss_test: 0.05\n",
      "Epoch: 542 Loss: 0.10, Loss_test: 0.05\n",
      "Epoch: 543 Loss: 0.07, Loss_test: 0.05\n",
      "Epoch: 544 Loss: 0.09, Loss_test: 0.05\n",
      "Epoch: 545 Loss: 0.04, Loss_test: 0.05\n",
      "Epoch: 546 Loss: 0.07, Loss_test: 0.04\n",
      "Epoch: 547 Loss: 0.05, Loss_test: 0.05\n",
      "Epoch: 548 Loss: 0.06, Loss_test: 0.05\n",
      "Epoch: 549 Loss: 0.06, Loss_test: 0.05\n",
      "=> result saved!\n",
      "Epoch: 550 Loss: 0.08, Loss_test: 0.05\n",
      "Epoch: 551 Loss: 0.03, Loss_test: 0.05\n",
      "Epoch: 552 Loss: 0.12, Loss_test: 0.05\n",
      "Epoch: 553 Loss: 0.08, Loss_test: 0.05\n",
      "Epoch: 554 Loss: 0.06, Loss_test: 0.05\n",
      "Epoch: 555 Loss: 0.06, Loss_test: 0.05\n",
      "Epoch: 556 Loss: 0.07, Loss_test: 0.05\n",
      "Epoch: 557 Loss: 0.08, Loss_test: 0.05\n",
      "Epoch: 558 Loss: 0.04, Loss_test: 0.05\n",
      "Epoch: 559 Loss: 0.05, Loss_test: 0.05\n",
      "=> result saved!\n",
      "Epoch: 560 Loss: 0.05, Loss_test: 0.05\n",
      "Epoch: 561 Loss: 0.08, Loss_test: 0.05\n",
      "Epoch: 562 Loss: 0.10, Loss_test: 0.04\n",
      "Epoch: 563 Loss: 0.07, Loss_test: 0.04\n",
      "Epoch: 564 Loss: 0.04, Loss_test: 0.05\n",
      "Epoch: 565 Loss: 0.05, Loss_test: 0.05\n",
      "Epoch: 566 Loss: 0.05, Loss_test: 0.04\n",
      "Epoch: 567 Loss: 0.08, Loss_test: 0.04\n",
      "Epoch: 568 Loss: 0.05, Loss_test: 0.04\n",
      "Epoch: 569 Loss: 0.06, Loss_test: 0.04\n",
      "=> result saved!\n",
      "Epoch: 570 Loss: 0.08, Loss_test: 0.04\n",
      "Epoch: 571 Loss: 0.06, Loss_test: 0.04\n",
      "Epoch: 572 Loss: 0.07, Loss_test: 0.04\n",
      "Epoch: 573 Loss: 0.07, Loss_test: 0.04\n",
      "Epoch: 574 Loss: 0.07, Loss_test: 0.05\n",
      "Epoch: 575 Loss: 0.06, Loss_test: 0.05\n",
      "Epoch: 576 Loss: 0.08, Loss_test: 0.05\n",
      "Epoch: 577 Loss: 0.04, Loss_test: 0.04\n",
      "Epoch: 578 Loss: 0.08, Loss_test: 0.04\n",
      "Epoch: 579 Loss: 0.03, Loss_test: 0.04\n",
      "=> result saved!\n",
      "Epoch: 580 Loss: 0.05, Loss_test: 0.04\n",
      "Epoch: 581 Loss: 0.07, Loss_test: 0.04\n",
      "Epoch: 582 Loss: 0.06, Loss_test: 0.05\n",
      "Epoch: 583 Loss: 0.10, Loss_test: 0.05\n",
      "Epoch: 584 Loss: 0.06, Loss_test: 0.05\n",
      "Epoch: 585 Loss: 0.08, Loss_test: 0.05\n",
      "Epoch: 586 Loss: 0.08, Loss_test: 0.04\n",
      "Epoch: 587 Loss: 0.05, Loss_test: 0.04\n",
      "Epoch: 588 Loss: 0.05, Loss_test: 0.05\n",
      "Epoch: 589 Loss: 0.07, Loss_test: 0.05\n",
      "=> result saved!\n",
      "Epoch: 590 Loss: 0.05, Loss_test: 0.05\n",
      "Epoch: 591 Loss: 0.08, Loss_test: 0.05\n",
      "Epoch: 592 Loss: 0.06, Loss_test: 0.05\n",
      "Epoch: 593 Loss: 0.06, Loss_test: 0.05\n",
      "Epoch: 594 Loss: 0.04, Loss_test: 0.05\n",
      "Epoch: 595 Loss: 0.08, Loss_test: 0.05\n",
      "Epoch: 596 Loss: 0.04, Loss_test: 0.05\n",
      "Epoch: 597 Loss: 0.07, Loss_test: 0.05\n",
      "Epoch: 598 Loss: 0.09, Loss_test: 0.05\n",
      "Epoch: 599 Loss: 0.05, Loss_test: 0.05\n",
      "=> result saved!\n",
      "Epoch: 600 Loss: 0.07, Loss_test: 0.05\n",
      "Epoch: 601 Loss: 0.10, Loss_test: 0.04\n",
      "Epoch: 602 Loss: 0.07, Loss_test: 0.04\n",
      "Epoch: 603 Loss: 0.05, Loss_test: 0.04\n",
      "Epoch: 604 Loss: 0.07, Loss_test: 0.04\n",
      "Epoch: 605 Loss: 0.07, Loss_test: 0.04\n",
      "Epoch: 606 Loss: 0.04, Loss_test: 0.04\n",
      "Epoch: 607 Loss: 0.06, Loss_test: 0.04\n",
      "Epoch: 608 Loss: 0.09, Loss_test: 0.04\n",
      "Epoch: 609 Loss: 0.09, Loss_test: 0.04\n",
      "=> result saved!\n",
      "Epoch: 610 Loss: 0.03, Loss_test: 0.04\n",
      "Epoch: 611 Loss: 0.10, Loss_test: 0.04\n",
      "Epoch: 612 Loss: 0.06, Loss_test: 0.04\n",
      "Epoch: 613 Loss: 0.07, Loss_test: 0.04\n",
      "Epoch: 614 Loss: 0.04, Loss_test: 0.04\n",
      "Epoch: 615 Loss: 0.06, Loss_test: 0.04\n",
      "Epoch: 616 Loss: 0.06, Loss_test: 0.05\n",
      "Epoch: 617 Loss: 0.07, Loss_test: 0.05\n",
      "Epoch: 618 Loss: 0.08, Loss_test: 0.04\n",
      "Epoch: 619 Loss: 0.04, Loss_test: 0.05\n",
      "=> result saved!\n",
      "Epoch: 620 Loss: 0.03, Loss_test: 0.05\n",
      "Epoch: 621 Loss: 0.06, Loss_test: 0.05\n",
      "Epoch: 622 Loss: 0.06, Loss_test: 0.05\n",
      "Epoch: 623 Loss: 0.10, Loss_test: 0.04\n",
      "Epoch: 624 Loss: 0.07, Loss_test: 0.04\n",
      "Epoch: 625 Loss: 0.09, Loss_test: 0.04\n",
      "Epoch: 626 Loss: 0.05, Loss_test: 0.04\n",
      "Epoch: 627 Loss: 0.03, Loss_test: 0.04\n",
      "Epoch: 628 Loss: 0.06, Loss_test: 0.04\n",
      "Epoch: 629 Loss: 0.07, Loss_test: 0.04\n",
      "=> result saved!\n",
      "Epoch: 630 Loss: 0.06, Loss_test: 0.04\n",
      "Epoch: 631 Loss: 0.05, Loss_test: 0.04\n",
      "Epoch: 632 Loss: 0.08, Loss_test: 0.04\n",
      "Epoch: 633 Loss: 0.06, Loss_test: 0.04\n",
      "Epoch: 634 Loss: 0.09, Loss_test: 0.04\n",
      "Epoch: 635 Loss: 0.10, Loss_test: 0.04\n",
      "Epoch: 636 Loss: 0.07, Loss_test: 0.04\n",
      "Epoch: 637 Loss: 0.08, Loss_test: 0.04\n",
      "Epoch: 638 Loss: 0.06, Loss_test: 0.04\n",
      "Epoch: 639 Loss: 0.08, Loss_test: 0.04\n",
      "=> result saved!\n",
      "Epoch: 640 Loss: 0.08, Loss_test: 0.04\n",
      "Epoch: 641 Loss: 0.06, Loss_test: 0.04\n",
      "Epoch: 642 Loss: 0.08, Loss_test: 0.04\n",
      "Epoch: 643 Loss: 0.06, Loss_test: 0.04\n",
      "Epoch: 644 Loss: 0.05, Loss_test: 0.04\n",
      "Epoch: 645 Loss: 0.08, Loss_test: 0.04\n",
      "Epoch: 646 Loss: 0.04, Loss_test: 0.04\n",
      "Epoch: 647 Loss: 0.10, Loss_test: 0.04\n",
      "Epoch: 648 Loss: 0.07, Loss_test: 0.04\n",
      "Epoch: 649 Loss: 0.07, Loss_test: 0.04\n",
      "=> result saved!\n",
      "Epoch: 650 Loss: 0.04, Loss_test: 0.04\n",
      "Epoch: 651 Loss: 0.06, Loss_test: 0.04\n",
      "Epoch: 652 Loss: 0.03, Loss_test: 0.04\n",
      "Epoch: 653 Loss: 0.05, Loss_test: 0.04\n",
      "Epoch: 654 Loss: 0.06, Loss_test: 0.04\n",
      "Epoch: 655 Loss: 0.04, Loss_test: 0.04\n",
      "Epoch: 656 Loss: 0.04, Loss_test: 0.05\n",
      "Epoch: 657 Loss: 0.14, Loss_test: 0.04\n",
      "Epoch: 658 Loss: 0.07, Loss_test: 0.04\n",
      "Epoch: 659 Loss: 0.07, Loss_test: 0.05\n",
      "=> result saved!\n",
      "Epoch: 660 Loss: 0.03, Loss_test: 0.05\n",
      "Epoch: 661 Loss: 0.08, Loss_test: 0.04\n",
      "Epoch: 662 Loss: 0.06, Loss_test: 0.05\n",
      "Epoch: 663 Loss: 0.05, Loss_test: 0.05\n",
      "Epoch: 664 Loss: 0.05, Loss_test: 0.05\n",
      "Epoch: 665 Loss: 0.07, Loss_test: 0.04\n",
      "Epoch: 666 Loss: 0.07, Loss_test: 0.04\n",
      "Epoch: 667 Loss: 0.04, Loss_test: 0.05\n",
      "Epoch: 668 Loss: 0.10, Loss_test: 0.04\n",
      "Epoch: 669 Loss: 0.06, Loss_test: 0.05\n",
      "=> result saved!\n",
      "Epoch: 670 Loss: 0.06, Loss_test: 0.05\n",
      "Epoch: 671 Loss: 0.05, Loss_test: 0.04\n",
      "Epoch: 672 Loss: 0.04, Loss_test: 0.05\n",
      "Epoch: 673 Loss: 0.04, Loss_test: 0.05\n",
      "Epoch: 674 Loss: 0.07, Loss_test: 0.04\n",
      "Epoch: 675 Loss: 0.07, Loss_test: 0.04\n",
      "Epoch: 676 Loss: 0.06, Loss_test: 0.05\n",
      "Epoch: 677 Loss: 0.03, Loss_test: 0.05\n",
      "Epoch: 678 Loss: 0.05, Loss_test: 0.05\n",
      "Epoch: 679 Loss: 0.04, Loss_test: 0.05\n",
      "=> result saved!\n",
      "Epoch: 680 Loss: 0.03, Loss_test: 0.05\n",
      "Epoch: 681 Loss: 0.06, Loss_test: 0.05\n",
      "Epoch: 682 Loss: 0.06, Loss_test: 0.05\n",
      "Epoch: 683 Loss: 0.04, Loss_test: 0.04\n",
      "Epoch: 684 Loss: 0.06, Loss_test: 0.04\n",
      "Epoch: 685 Loss: 0.05, Loss_test: 0.04\n",
      "Epoch: 686 Loss: 0.10, Loss_test: 0.04\n",
      "Epoch: 687 Loss: 0.05, Loss_test: 0.04\n",
      "Epoch: 688 Loss: 0.04, Loss_test: 0.04\n",
      "Epoch: 689 Loss: 0.04, Loss_test: 0.04\n",
      "=> result saved!\n",
      "Epoch: 690 Loss: 0.11, Loss_test: 0.04\n",
      "Epoch: 691 Loss: 0.05, Loss_test: 0.04\n",
      "Epoch: 692 Loss: 0.09, Loss_test: 0.04\n",
      "Epoch: 693 Loss: 0.05, Loss_test: 0.04\n",
      "Epoch: 694 Loss: 0.08, Loss_test: 0.04\n",
      "Epoch: 695 Loss: 0.05, Loss_test: 0.04\n",
      "Epoch: 696 Loss: 0.03, Loss_test: 0.04\n",
      "Epoch: 697 Loss: 0.09, Loss_test: 0.04\n",
      "Epoch: 698 Loss: 0.11, Loss_test: 0.05\n",
      "Epoch: 699 Loss: 0.04, Loss_test: 0.04\n",
      "=> result saved!\n",
      "Epoch: 700 Loss: 0.06, Loss_test: 0.04\n",
      "Epoch: 701 Loss: 0.05, Loss_test: 0.04\n",
      "Epoch: 702 Loss: 0.08, Loss_test: 0.04\n",
      "Epoch: 703 Loss: 0.04, Loss_test: 0.05\n",
      "Epoch: 704 Loss: 0.04, Loss_test: 0.05\n",
      "Epoch: 705 Loss: 0.04, Loss_test: 0.05\n",
      "Epoch: 706 Loss: 0.07, Loss_test: 0.06\n"
     ]
    },
    {
     "name": "stdout",
     "output_type": "stream",
     "text": [
      "Epoch: 707 Loss: 0.10, Loss_test: 0.04\n",
      "Epoch: 708 Loss: 0.07, Loss_test: 0.04\n",
      "Epoch: 709 Loss: 0.05, Loss_test: 0.04\n",
      "=> result saved!\n",
      "Epoch: 710 Loss: 0.04, Loss_test: 0.04\n",
      "Epoch: 711 Loss: 0.04, Loss_test: 0.05\n",
      "Epoch: 712 Loss: 0.08, Loss_test: 0.06\n",
      "Epoch: 713 Loss: 0.04, Loss_test: 0.05\n",
      "Epoch: 714 Loss: 0.06, Loss_test: 0.05\n",
      "Epoch: 715 Loss: 0.06, Loss_test: 0.05\n",
      "Epoch: 716 Loss: 0.05, Loss_test: 0.04\n",
      "Epoch: 717 Loss: 0.06, Loss_test: 0.04\n",
      "Epoch: 718 Loss: 0.07, Loss_test: 0.04\n",
      "Epoch: 719 Loss: 0.04, Loss_test: 0.05\n",
      "=> result saved!\n",
      "Epoch: 720 Loss: 0.05, Loss_test: 0.05\n",
      "Epoch: 721 Loss: 0.10, Loss_test: 0.04\n",
      "Epoch: 722 Loss: 0.06, Loss_test: 0.04\n",
      "Epoch: 723 Loss: 0.04, Loss_test: 0.03\n",
      "Epoch: 724 Loss: 0.06, Loss_test: 0.03\n",
      "Epoch: 725 Loss: 0.03, Loss_test: 0.03\n",
      "Epoch: 726 Loss: 0.09, Loss_test: 0.03\n",
      "Epoch: 727 Loss: 0.04, Loss_test: 0.04\n",
      "Epoch: 728 Loss: 0.06, Loss_test: 0.04\n",
      "Epoch: 729 Loss: 0.05, Loss_test: 0.04\n",
      "=> result saved!\n",
      "Epoch: 730 Loss: 0.07, Loss_test: 0.04\n",
      "Epoch: 731 Loss: 0.08, Loss_test: 0.04\n",
      "Epoch: 732 Loss: 0.07, Loss_test: 0.04\n",
      "Epoch: 733 Loss: 0.06, Loss_test: 0.04\n",
      "Epoch: 734 Loss: 0.03, Loss_test: 0.05\n",
      "Epoch: 735 Loss: 0.06, Loss_test: 0.04\n",
      "Epoch: 736 Loss: 0.05, Loss_test: 0.04\n",
      "Epoch: 737 Loss: 0.09, Loss_test: 0.05\n",
      "Epoch: 738 Loss: 0.05, Loss_test: 0.04\n",
      "Epoch: 739 Loss: 0.07, Loss_test: 0.04\n",
      "=> result saved!\n",
      "Epoch: 740 Loss: 0.05, Loss_test: 0.04\n",
      "Epoch: 741 Loss: 0.05, Loss_test: 0.04\n",
      "Epoch: 742 Loss: 0.05, Loss_test: 0.04\n",
      "Epoch: 743 Loss: 0.05, Loss_test: 0.04\n",
      "Epoch: 744 Loss: 0.06, Loss_test: 0.04\n",
      "Epoch: 745 Loss: 0.07, Loss_test: 0.04\n",
      "Epoch: 746 Loss: 0.05, Loss_test: 0.05\n",
      "Epoch: 747 Loss: 0.03, Loss_test: 0.05\n",
      "Epoch: 748 Loss: 0.04, Loss_test: 0.05\n",
      "Epoch: 749 Loss: 0.06, Loss_test: 0.04\n",
      "=> result saved!\n",
      "Epoch: 750 Loss: 0.05, Loss_test: 0.04\n",
      "Epoch: 751 Loss: 0.05, Loss_test: 0.04\n",
      "Epoch: 752 Loss: 0.07, Loss_test: 0.04\n",
      "Epoch: 753 Loss: 0.05, Loss_test: 0.04\n",
      "Epoch: 754 Loss: 0.08, Loss_test: 0.04\n",
      "Epoch: 755 Loss: 0.04, Loss_test: 0.03\n",
      "Epoch: 756 Loss: 0.03, Loss_test: 0.04\n",
      "Epoch: 757 Loss: 0.05, Loss_test: 0.04\n",
      "Epoch: 758 Loss: 0.05, Loss_test: 0.04\n",
      "Epoch: 759 Loss: 0.04, Loss_test: 0.04\n",
      "=> result saved!\n",
      "Epoch: 760 Loss: 0.03, Loss_test: 0.04\n",
      "Epoch: 761 Loss: 0.04, Loss_test: 0.04\n",
      "Epoch: 762 Loss: 0.04, Loss_test: 0.04\n",
      "Epoch: 763 Loss: 0.03, Loss_test: 0.04\n",
      "Epoch: 764 Loss: 0.04, Loss_test: 0.04\n",
      "Epoch: 765 Loss: 0.05, Loss_test: 0.04\n",
      "Epoch: 766 Loss: 0.04, Loss_test: 0.04\n",
      "Epoch: 767 Loss: 0.05, Loss_test: 0.04\n",
      "Epoch: 768 Loss: 0.04, Loss_test: 0.04\n",
      "Epoch: 769 Loss: 0.03, Loss_test: 0.04\n",
      "=> result saved!\n",
      "Epoch: 770 Loss: 0.04, Loss_test: 0.04\n",
      "Epoch: 771 Loss: 0.06, Loss_test: 0.04\n",
      "Epoch: 772 Loss: 0.04, Loss_test: 0.04\n",
      "Epoch: 773 Loss: 0.05, Loss_test: 0.04\n",
      "Epoch: 774 Loss: 0.07, Loss_test: 0.04\n",
      "Epoch: 775 Loss: 0.06, Loss_test: 0.04\n",
      "Epoch: 776 Loss: 0.04, Loss_test: 0.04\n",
      "Epoch: 777 Loss: 0.05, Loss_test: 0.04\n",
      "Epoch: 778 Loss: 0.04, Loss_test: 0.04\n",
      "Epoch: 779 Loss: 0.05, Loss_test: 0.04\n",
      "=> result saved!\n",
      "Epoch: 780 Loss: 0.05, Loss_test: 0.04\n",
      "Epoch: 781 Loss: 0.04, Loss_test: 0.04\n",
      "Epoch: 782 Loss: 0.07, Loss_test: 0.04\n",
      "Epoch: 783 Loss: 0.05, Loss_test: 0.04\n",
      "Epoch: 784 Loss: 0.02, Loss_test: 0.04\n",
      "Epoch: 785 Loss: 0.05, Loss_test: 0.03\n",
      "Epoch: 786 Loss: 0.03, Loss_test: 0.03\n",
      "Epoch: 787 Loss: 0.04, Loss_test: 0.03\n",
      "Epoch: 788 Loss: 0.04, Loss_test: 0.03\n",
      "Epoch: 789 Loss: 0.07, Loss_test: 0.04\n",
      "=> result saved!\n",
      "Epoch: 790 Loss: 0.04, Loss_test: 0.03\n",
      "Epoch: 791 Loss: 0.04, Loss_test: 0.04\n",
      "Epoch: 792 Loss: 0.11, Loss_test: 0.04\n",
      "Epoch: 793 Loss: 0.03, Loss_test: 0.04\n",
      "Epoch: 794 Loss: 0.06, Loss_test: 0.04\n",
      "Epoch: 795 Loss: 0.07, Loss_test: 0.04\n",
      "Epoch: 796 Loss: 0.05, Loss_test: 0.04\n",
      "Epoch: 797 Loss: 0.05, Loss_test: 0.04\n",
      "Epoch: 798 Loss: 0.05, Loss_test: 0.04\n",
      "Epoch: 799 Loss: 0.09, Loss_test: 0.04\n",
      "=> result saved!\n",
      "Epoch: 800 Loss: 0.07, Loss_test: 0.04\n",
      "Epoch: 801 Loss: 0.06, Loss_test: 0.04\n",
      "Epoch: 802 Loss: 0.05, Loss_test: 0.04\n",
      "Epoch: 803 Loss: 0.02, Loss_test: 0.04\n",
      "Epoch: 804 Loss: 0.06, Loss_test: 0.04\n",
      "Epoch: 805 Loss: 0.06, Loss_test: 0.04\n",
      "Epoch: 806 Loss: 0.03, Loss_test: 0.04\n",
      "Epoch: 807 Loss: 0.04, Loss_test: 0.04\n",
      "Epoch: 808 Loss: 0.05, Loss_test: 0.04\n",
      "Epoch: 809 Loss: 0.05, Loss_test: 0.04\n",
      "=> result saved!\n",
      "Epoch: 810 Loss: 0.05, Loss_test: 0.04\n",
      "Epoch: 811 Loss: 0.05, Loss_test: 0.04\n",
      "Epoch: 812 Loss: 0.05, Loss_test: 0.05\n",
      "Epoch: 813 Loss: 0.03, Loss_test: 0.05\n",
      "Epoch: 814 Loss: 0.05, Loss_test: 0.04\n",
      "Epoch: 815 Loss: 0.06, Loss_test: 0.05\n",
      "Epoch: 816 Loss: 0.04, Loss_test: 0.05\n",
      "Epoch: 817 Loss: 0.04, Loss_test: 0.04\n",
      "Epoch: 818 Loss: 0.03, Loss_test: 0.04\n",
      "Epoch: 819 Loss: 0.08, Loss_test: 0.04\n",
      "=> result saved!\n",
      "Epoch: 820 Loss: 0.10, Loss_test: 0.04\n",
      "Epoch: 821 Loss: 0.03, Loss_test: 0.04\n",
      "Epoch: 822 Loss: 0.04, Loss_test: 0.04\n",
      "Epoch: 823 Loss: 0.04, Loss_test: 0.04\n",
      "Epoch: 824 Loss: 0.07, Loss_test: 0.04\n",
      "Epoch: 825 Loss: 0.05, Loss_test: 0.04\n",
      "Epoch: 826 Loss: 0.05, Loss_test: 0.04\n",
      "Epoch: 827 Loss: 0.05, Loss_test: 0.04\n",
      "Epoch: 828 Loss: 0.05, Loss_test: 0.04\n",
      "Epoch: 829 Loss: 0.04, Loss_test: 0.04\n",
      "=> result saved!\n",
      "Epoch: 830 Loss: 0.06, Loss_test: 0.03\n",
      "Epoch: 831 Loss: 0.06, Loss_test: 0.04\n",
      "Epoch: 832 Loss: 0.06, Loss_test: 0.04\n",
      "Epoch: 833 Loss: 0.04, Loss_test: 0.04\n",
      "Epoch: 834 Loss: 0.06, Loss_test: 0.04\n",
      "Epoch: 835 Loss: 0.04, Loss_test: 0.04\n",
      "Epoch: 836 Loss: 0.04, Loss_test: 0.04\n",
      "Epoch: 837 Loss: 0.03, Loss_test: 0.04\n",
      "Epoch: 838 Loss: 0.05, Loss_test: 0.04\n",
      "Epoch: 839 Loss: 0.05, Loss_test: 0.04\n",
      "=> result saved!\n",
      "Epoch: 840 Loss: 0.03, Loss_test: 0.04\n",
      "Epoch: 841 Loss: 0.05, Loss_test: 0.04\n",
      "Epoch: 842 Loss: 0.05, Loss_test: 0.04\n",
      "Epoch: 843 Loss: 0.08, Loss_test: 0.04\n",
      "Epoch: 844 Loss: 0.09, Loss_test: 0.04\n",
      "Epoch: 845 Loss: 0.08, Loss_test: 0.04\n",
      "Epoch: 846 Loss: 0.05, Loss_test: 0.03\n",
      "Epoch: 847 Loss: 0.03, Loss_test: 0.04\n",
      "Epoch: 848 Loss: 0.04, Loss_test: 0.04\n",
      "Epoch: 849 Loss: 0.04, Loss_test: 0.04\n",
      "=> result saved!\n",
      "Epoch: 850 Loss: 0.06, Loss_test: 0.04\n",
      "Epoch: 851 Loss: 0.03, Loss_test: 0.04\n",
      "Epoch: 852 Loss: 0.05, Loss_test: 0.04\n",
      "Epoch: 853 Loss: 0.04, Loss_test: 0.04\n",
      "Epoch: 854 Loss: 0.05, Loss_test: 0.04\n",
      "Epoch: 855 Loss: 0.04, Loss_test: 0.04\n",
      "Epoch: 856 Loss: 0.06, Loss_test: 0.04\n",
      "Epoch: 857 Loss: 0.04, Loss_test: 0.04\n",
      "Epoch: 858 Loss: 0.06, Loss_test: 0.04\n",
      "Epoch: 859 Loss: 0.05, Loss_test: 0.04\n",
      "=> result saved!\n",
      "Epoch: 860 Loss: 0.10, Loss_test: 0.04\n",
      "Epoch: 861 Loss: 0.05, Loss_test: 0.04\n",
      "Epoch: 862 Loss: 0.04, Loss_test: 0.04\n",
      "Epoch: 863 Loss: 0.05, Loss_test: 0.04\n",
      "Epoch: 864 Loss: 0.09, Loss_test: 0.04\n",
      "Epoch: 865 Loss: 0.03, Loss_test: 0.04\n",
      "Epoch: 866 Loss: 0.06, Loss_test: 0.04\n",
      "Epoch: 867 Loss: 0.04, Loss_test: 0.04\n",
      "Epoch: 868 Loss: 0.04, Loss_test: 0.04\n",
      "Epoch: 869 Loss: 0.06, Loss_test: 0.04\n",
      "=> result saved!\n",
      "Epoch: 870 Loss: 0.04, Loss_test: 0.03\n",
      "Epoch: 871 Loss: 0.03, Loss_test: 0.03\n",
      "Epoch: 872 Loss: 0.04, Loss_test: 0.03\n",
      "Epoch: 873 Loss: 0.04, Loss_test: 0.04\n",
      "Epoch: 874 Loss: 0.04, Loss_test: 0.03\n",
      "Epoch: 875 Loss: 0.03, Loss_test: 0.03\n",
      "Epoch: 876 Loss: 0.05, Loss_test: 0.03\n",
      "Epoch: 877 Loss: 0.06, Loss_test: 0.04\n",
      "Epoch: 878 Loss: 0.05, Loss_test: 0.04\n",
      "Epoch: 879 Loss: 0.08, Loss_test: 0.04\n",
      "=> result saved!\n",
      "Epoch: 880 Loss: 0.05, Loss_test: 0.04\n",
      "Epoch: 881 Loss: 0.05, Loss_test: 0.04\n",
      "Epoch: 882 Loss: 0.05, Loss_test: 0.04\n",
      "Epoch: 883 Loss: 0.03, Loss_test: 0.04\n",
      "Epoch: 884 Loss: 0.08, Loss_test: 0.04\n",
      "Epoch: 885 Loss: 0.05, Loss_test: 0.04\n",
      "Epoch: 886 Loss: 0.05, Loss_test: 0.04\n",
      "Epoch: 887 Loss: 0.06, Loss_test: 0.04\n",
      "Epoch: 888 Loss: 0.04, Loss_test: 0.04\n",
      "Epoch: 889 Loss: 0.06, Loss_test: 0.04\n",
      "=> result saved!\n",
      "Epoch: 890 Loss: 0.06, Loss_test: 0.04\n",
      "Epoch: 891 Loss: 0.04, Loss_test: 0.04\n",
      "Epoch: 892 Loss: 0.05, Loss_test: 0.04\n",
      "Epoch: 893 Loss: 0.05, Loss_test: 0.04\n",
      "Epoch: 894 Loss: 0.09, Loss_test: 0.04\n",
      "Epoch: 895 Loss: 0.04, Loss_test: 0.04\n",
      "Epoch: 896 Loss: 0.04, Loss_test: 0.04\n",
      "Epoch: 897 Loss: 0.07, Loss_test: 0.04\n",
      "Epoch: 898 Loss: 0.03, Loss_test: 0.03\n",
      "Epoch: 899 Loss: 0.04, Loss_test: 0.04\n",
      "=> result saved!\n",
      "Epoch: 900 Loss: 0.07, Loss_test: 0.03\n"
     ]
    }
   ],
   "source": [
    "end_train = epochs - limit_train\n",
    "for epoch in range(limit_train, end_train):\n",
    "    batch_triplet_train, \\\n",
    "        train_input_sample, train_sim = batch_iterator(baseline, retrieval, model, baseline.train_data, \n",
    "                                                       baseline.dup_sets_train, bug_train_ids, \n",
    "                                                           batch_size, 1, issues_by_buckets, TRIPLET_HARD=False)\n",
    "    train_batch = [train_input_sample['title'], train_input_sample['description'], train_input_sample['info'], train_sim]\n",
    "    \n",
    "\n",
    "    h = model.train_on_batch(x=train_batch, y=train_sim)\n",
    "    h_validation = model.test_on_batch(x=validation_sample, y=valid_sim)\n",
    "    \n",
    "    # save results\n",
    "    result['train'].append(h)\n",
    "    result['test'].append(h_validation)\n",
    "    \n",
    "    if( (epoch+1) % 10 == 0 or (epoch+1 == end_train )):\n",
    "        save_loss(result)\n",
    "    \n",
    "    print(\"Epoch: {} Loss: {:.2f}, Loss_test: {:.2f}\".format(epoch+1, h, h_validation))"
   ]
  },
  {
   "cell_type": "code",
   "execution_count": 48,
   "metadata": {},
   "outputs": [
    {
     "data": {
      "text/plain": [
       "(900, 900)"
      ]
     },
     "execution_count": 48,
     "metadata": {},
     "output_type": "execute_result"
    }
   ],
   "source": [
    "len(result['train']), len(result['test'])"
   ]
  },
  {
   "cell_type": "code",
   "execution_count": 49,
   "metadata": {},
   "outputs": [],
   "source": [
    "encoded = model.get_layer('merge_features_in')\n",
    "output = encoded.output\n",
    "inputs = similarity_model.inputs[:-1]\n",
    "encoded_anchor = Model(inputs = inputs, outputs = output, name = 'Similarity_Model')"
   ]
  },
  {
   "cell_type": "code",
   "execution_count": 50,
   "metadata": {},
   "outputs": [
    {
     "data": {
      "text/plain": [
       "'bert_preprocessing_baseline_1000_feature1000epochs_64batch(eclipse)'"
      ]
     },
     "execution_count": 50,
     "metadata": {},
     "output_type": "execute_result"
    }
   ],
   "source": [
    "SAVE_PATH.replace('@number_of_epochs@', str(epochs))"
   ]
  },
  {
   "cell_type": "code",
   "execution_count": 51,
   "metadata": {},
   "outputs": [
    {
     "name": "stdout",
     "output_type": "stream",
     "text": [
      "Saved model 'modelos/model_bert_preprocessing_baseline_1000_feature_1000epochs_64batch(eclipse).h5' to disk\n"
     ]
    },
    {
     "data": {
      "text/plain": [
       "'Model saved'"
      ]
     },
     "execution_count": 51,
     "metadata": {},
     "output_type": "execute_result"
    }
   ],
   "source": [
    "experiment.save_model(model, SAVE_PATH.replace('@number_of_epochs@', str(epochs)))\n",
    "experiment.save_model(encoded_anchor, SAVE_PATH_FEATURE.replace('@number_of_epochs@', str(epochs)), verbose=1)\n",
    "\"Model saved\""
   ]
  },
  {
   "cell_type": "code",
   "execution_count": 52,
   "metadata": {},
   "outputs": [
    {
     "data": {
      "application/vnd.jupyter.widget-view+json": {
       "model_id": "290e9264739a4e94ac63db768a9a7da5",
       "version_major": 2,
       "version_minor": 0
      },
      "text/plain": [
       "HBox(children=(IntProgress(value=0, max=16995), HTML(value='')))"
      ]
     },
     "metadata": {},
     "output_type": "display_data"
    },
    {
     "name": "stdout",
     "output_type": "stream",
     "text": [
      "\n"
     ]
    },
    {
     "data": {
      "application/vnd.jupyter.widget-view+json": {
       "model_id": "3c5acdda24d74a298b5f44ba619782bd",
       "version_major": 2,
       "version_minor": 0
      },
      "text/plain": [
       "HBox(children=(IntProgress(value=0, max=27321), HTML(value='')))"
      ]
     },
     "metadata": {},
     "output_type": "display_data"
    },
    {
     "name": "stdout",
     "output_type": "stream",
     "text": [
      "\n"
     ]
    },
    {
     "data": {
      "application/vnd.jupyter.widget-view+json": {
       "model_id": "ff2c1286715048f6977139933d8ffe44",
       "version_major": 2,
       "version_minor": 0
      },
      "text/plain": [
       "HBox(children=(IntProgress(value=0, max=30481), HTML(value='')))"
      ]
     },
     "metadata": {},
     "output_type": "display_data"
    },
    {
     "name": "stdout",
     "output_type": "stream",
     "text": [
      "\n"
     ]
    },
    {
     "data": {
      "application/vnd.jupyter.widget-view+json": {
       "model_id": "4f37680578744e05ad29831299b3471d",
       "version_major": 2,
       "version_minor": 0
      },
      "text/plain": [
       "HBox(children=(IntProgress(value=1, bar_style='info', max=1), HTML(value='')))"
      ]
     },
     "metadata": {},
     "output_type": "display_data"
    },
    {
     "name": "stdout",
     "output_type": "stream",
     "text": [
      "\n"
     ]
    },
    {
     "data": {
      "application/vnd.jupyter.widget-view+json": {
       "model_id": "9d4f110138b24e44864a6dc2bc9ac83b",
       "version_major": 2,
       "version_minor": 0
      },
      "text/plain": [
       "HBox(children=(IntProgress(value=1, bar_style='info', max=1), HTML(value='')))"
      ]
     },
     "metadata": {},
     "output_type": "display_data"
    },
    {
     "name": "stdout",
     "output_type": "stream",
     "text": [
      "\n"
     ]
    },
    {
     "data": {
      "application/vnd.jupyter.widget-view+json": {
       "model_id": "b926c29f1b5843beae3d06b65f8ac92b",
       "version_major": 2,
       "version_minor": 0
      },
      "text/plain": [
       "HBox(children=(IntProgress(value=1, bar_style='info', max=1), HTML(value='')))"
      ]
     },
     "metadata": {},
     "output_type": "display_data"
    },
    {
     "name": "stdout",
     "output_type": "stream",
     "text": [
      "\n"
     ]
    },
    {
     "data": {
      "application/vnd.jupyter.widget-view+json": {
       "model_id": "fb6c736c46fc4423b0188e06d6a3b3ff",
       "version_major": 2,
       "version_minor": 0
      },
      "text/plain": [
       "HBox(children=(IntProgress(value=0, max=27321), HTML(value='')))"
      ]
     },
     "metadata": {},
     "output_type": "display_data"
    },
    {
     "name": "stdout",
     "output_type": "stream",
     "text": [
      "\n",
      "Epoch: 900 Loss: 0.07, Loss_test: 0.03, recall@25: 0.57\n"
     ]
    }
   ],
   "source": [
    "recall, exported_rank, debug = experiment.evaluate_validation_test(retrieval, 1, encoded_anchor, issues_by_buckets, bug_train_ids)\n",
    "print(\"Epoch: {} Loss: {:.2f}, Loss_test: {:.2f}, recall@25: {:.2f}\".format(epoch+1, h, h_validation, recall))"
   ]
  },
  {
   "cell_type": "code",
   "execution_count": 53,
   "metadata": {},
   "outputs": [
    {
     "data": {
      "text/plain": [
       "0.57"
      ]
     },
     "execution_count": 53,
     "metadata": {},
     "output_type": "execute_result"
    }
   ],
   "source": [
    "recall"
   ]
  },
  {
   "cell_type": "code",
   "execution_count": 54,
   "metadata": {},
   "outputs": [
    {
     "data": {
      "text/plain": [
       "['2:15392,9779,94|16058:0.4897523522377014,10095:0.4652213454246521,4895:0.4640228748321533,94:0.45357632637023926,20521:0.4443662166595459,11084:0.43180960416793823,17459:0.4235835671424866,10904:0.41704261302948,14052:0.41445809602737427,15133:0.4125358462333679,5743:0.405900239944458,228:0.404837965965271,226:0.40470564365386963,171:0.40431779623031616,14751:0.4017428755760193,5335:0.39922064542770386,21818:0.3986749053001404,7522:0.39435863494873047,8202:0.39354783296585083,27478:0.3934710621833801,25783:0.39212214946746826,22504:0.3918464183807373,19282:0.39013004302978516,21240:0.3892167806625366,39040:0.387822687625885,14024:0.38685309886932373,14835:0.3859163522720337,19706:0.38581299781799316,19246:0.38573408126831055',\n",
       " '393232:393282,390667,383388|408203:0.4657401442527771,403605:0.41077715158462524,405416:0.4080461263656616,389738:0.38772767782211304,415326:0.3841947317123413,401108:0.3782987594604492,408680:0.3611770272254944,403532:0.34559714794158936,393000:0.3365044593811035,376232:0.33162224292755127,407288:0.3285651206970215,416464:0.32822495698928833,409746:0.3274443745613098,410468:0.32454556226730347,399608:0.3244786262512207,402561:0.32324981689453125,403900:0.3197937607765198,410898:0.3154332637786865,407208:0.31151115894317627,424671:0.30928319692611694,394705:0.3046935796737671,396418:0.2973179221153259,367948:0.2971765995025635,419940:0.29686081409454346,392565:0.2911018133163452,391573:0.28960704803466797,398264:0.2862229347229004,395921:0.2857739329338074,383860:0.28561848402023315',\n",
       " '30:205979,38236,99332,71263|25636:0.4327957034111023,21252:0.4265264868736267,21963:0.423883855342865,22430:0.42023158073425293,4895:0.40063148736953735,12386:0.3985535502433777,25411:0.3937087059020996,23452:0.393494188785553,17485:0.39002907276153564,24388:0.3890954852104187,22172:0.3809334635734558,23581:0.3772735595703125,12670:0.376587450504303,19436:0.37536102533340454,14835:0.37378597259521484,10904:0.37304383516311646,21263:0.37256431579589844,7618:0.3695283532142639,34596:0.36664921045303345,10156:0.3660958409309387,22094:0.3655315637588501,8355:0.3606678247451782,37778:0.3592233657836914,22923:0.35435187816619873,19669:0.3534858226776123,25783:0.35233956575393677,7894:0.3467179536819458,226:0.3457529544830322,24291:0.34517019987106323',\n",
       " '131123:234849|160209:0.5439849495887756,116199:0.4678071141242981,108343:0.4529326558113098,83651:0.42550766468048096,125907:0.42228055000305176,133277:0.41816383600234985,143424:0.41543900966644287,70350:0.40911340713500977,97438:0.4088330864906311,145448:0.40432941913604736,174625:0.4038850665092468,109062:0.403870165348053,130807:0.4030798077583313,59062:0.4028359651565552,91594:0.39994490146636963,39804:0.3984660506248474,84868:0.3953791856765747,76922:0.39040225744247437,98237:0.3903481960296631,109267:0.38988804817199707,116198:0.38873010873794556,116201:0.38873010873794556,85369:0.38638120889663696,61833:0.3821733593940735,79069:0.38131797313690186,198740:0.3798052668571472,142996:0.3783142566680908,151200:0.377724289894104,121736:0.3758794665336609',\n",
       " '393277:393864,400436|407863:0.3388848304748535,390896:0.3180714249610901,297769:0.26863008737564087,405714:0.2588670253753662,409324:0.2577713131904602,404729:0.2567681670188904,399608:0.25603675842285156,411482:0.2535547614097595,406736:0.24425220489501953,390395:0.2360418438911438,376232:0.23535597324371338,408680:0.23527270555496216,411034:0.23424190282821655,397285:0.23247450590133667,382829:0.23192548751831055,412266:0.2260209321975708,389738:0.21913504600524902,408088:0.2186463475227356,393282:0.2174319624900818,411922:0.21493560075759888,420131:0.21462976932525635,374411:0.2136836051940918,421474:0.21204280853271484,397226:0.21154814958572388,408095:0.21123087406158447,398264:0.20885545015335083,409746:0.20278942584991455,388184:0.20033615827560425,399770:0.19600921869277954',\n",
       " '131136:150817,149868,145937,65841,102812|145937:0.4698180556297302,125028:0.45296013355255127,47674:0.452921986579895,89266:0.4481194019317627,127006:0.44641995429992676,124923:0.44257593154907227,76438:0.43783944845199585,88825:0.4375670552253723,139707:0.4327588677406311,139708:0.4327588677406311,91721:0.4277520179748535,46341:0.42477381229400635,149769:0.42136138677597046,207960:0.4152637720108032,207921:0.41303104162216187,91650:0.4111529588699341,90368:0.41081899404525757,107833:0.41021978855133057,197530:0.4095318913459778,49265:0.406968891620636,170434:0.40664440393447876,170435:0.40664440393447876,97430:0.40660911798477173,52061:0.4045686721801758,40504:0.400212824344635,80206:0.3997308611869812,249677:0.39881837368011475,72336:0.3956189751625061,96234:0.39559000730514526',\n",
       " '393282:393232,390667,383388|383982:0.24055558443069458,405172:0.21761542558670044,291389:0.2020505666732788,360016:0.19880086183547974,326642:0.1907641887664795,336843:0.18886643648147583,281764:0.1702214479446411,289300:0.165238618850708,296171:0.1647639274597168,317562:0.16142696142196655,281692:0.1583380103111267,369513:0.15708845853805542,243893:0.15676194429397583,297156:0.15346115827560425,317716:0.15204066038131714,369917:0.14946812391281128,277265:0.145635187625885,375026:0.1398400068283081,280744:0.13953757286071777,300525:0.1377420425415039,293923:0.1370987892150879,263600:0.13659757375717163,379986:0.13638800382614136,303214:0.13616955280303955,285308:0.13581180572509766,308142:0.13571786880493164,295411:0.13295167684555054,286839:0.13180094957351685,313541:0.129530668258667',\n",
       " '262212:292851,292845,291839|185396:0.3421365022659302,333937:0.3198751211166382,295416:0.315768301486969,275226:0.30775338411331177,286741:0.30637919902801514,166427:0.30378419160842896,207855:0.2934648394584656,247769:0.29282599687576294,195609:0.28858864307403564,260394:0.2831941843032837,284690:0.27846843004226685,225504:0.27714914083480835,186847:0.2760520577430725,239291:0.27418166399002075,193505:0.2721021771430969,261829:0.27119433879852295,240558:0.26972007751464844,177018:0.2676950693130493,185674:0.26655399799346924,283847:0.2636207938194275,210248:0.2635914087295532,166537:0.26051390171051025,279633:0.260476291179657,213562:0.2604660987854004,169259:0.25869178771972656,233232:0.25835496187210083,307658:0.2572062611579895,246201:0.2555314898490906,195967:0.25188201665878296',\n",
       " '131143:135599|156764:0.3975316286087036,134850:0.3894388675689697,135046:0.3106496334075928,131689:0.2946016788482666,217128:0.27933645248413086,141926:0.276843786239624,159331:0.25814056396484375,210203:0.25347888469696045,143875:0.25103211402893066,182374:0.25064998865127563,134818:0.249802827835083,101321:0.24635189771652222,101325:0.24635189771652222,154387:0.2438601851463318,135613:0.24106234312057495,132184:0.23902815580368042,112703:0.23781776428222656,145980:0.23502153158187866,127845:0.23131811618804932,113958:0.22995704412460327,196499:0.22942262887954712,135043:0.2280139923095703,186230:0.22487646341323853,173662:0.22207051515579224,182375:0.21943187713623047,182378:0.21943187713623047,113477:0.21871954202651978,404669:0.21679657697677612,218118:0.21640688180923462',\n",
       " '71:256,228|16864:0.4984356164932251,15022:0.43027782440185547,15392:0.4114166498184204,11859:0.37163829803466797,10095:0.3688125014305115,12864:0.3642628788948059,228:0.3584304451942444,14687:0.34318774938583374,12742:0.3421567678451538,10156:0.3379945755004883,94:0.3371430039405823,13898:0.32864511013031006,2:0.3237011432647705,18596:0.3209831714630127,17809:0.31981539726257324,10739:0.3190118074417114,21818:0.3175681233406067,22892:0.3153003454208374,13422:0.31320154666900635,25823:0.31188148260116577,16161:0.311646044254303,17023:0.30844759941101074,15133:0.30800652503967285,19744:0.3073531985282898,7143:0.3061979413032532,5743:0.30336278676986694,10509:0.30306875705718994,171:0.30290472507476807,21263:0.30274873971939087',\n",
       " '85:247,10959|10904:0.49692851305007935,10959:0.47874414920806885,19339:0.45461469888687134,11858:0.44699323177337646,21240:0.4464539885520935,14024:0.43927496671676636,11545:0.4363957643508911,23921:0.4064560532569885,19246:0.395452082157135,23567:0.3921738266944885,88:0.38582420349121094,16204:0.3835573196411133,17518:0.38237112760543823,2:0.37978917360305786,8202:0.3723815679550171,46243:0.36845850944519043,247:0.3665068745613098,20521:0.3663269281387329,13898:0.36592358350753784,16399:0.36415839195251465,7522:0.3632293939590454,19744:0.3618071675300598,16058:0.3609422445297241,41637:0.36053019762039185,13446:0.3589671850204468,24291:0.3569793701171875,10095:0.35468608140945435,10156:0.35290998220443726,16864:0.3483021855354309',\n",
       " '88:6099,14116|7563:0.48187053203582764,16864:0.46549683809280396,150:0.4464695453643799,10011:0.4276832342147827,14290:0.414656400680542,20456:0.4050595760345459,7618:0.39829736948013306,5248:0.3920910954475403,17942:0.39059609174728394,7894:0.38692158460617065,85:0.38582420349121094,11580:0.3832683563232422,7900:0.3797961473464966,17023:0.3791734576225281,21263:0.3763994574546814,12670:0.36670368909835815,9779:0.36433374881744385,14052:0.3643103837966919,256:0.36130696535110474,3979:0.36030107736587524,10739:0.35981470346450806,232:0.3591148257255554,10909:0.35863256454467773,247:0.3569444417953491,21240:0.35601818561553955,10740:0.354133665561676,14024:0.35405462980270386,10959:0.3536384105682373,7561:0.35307776927948',\n",
       " '131161:44438,103374,98057|171727:0.4159740209579468,98057:0.4060920476913452,79731:0.3843642473220825,144924:0.38248211145401,154059:0.37743717432022095,127436:0.37302541732788086,63750:0.3725239038467407,48413:0.35965800285339355,82112:0.3587549328804016,157287:0.35631513595581055,129338:0.35508763790130615,82960:0.35154545307159424,103347:0.34642815589904785,72544:0.34301018714904785,99332:0.33969664573669434,80684:0.3392798900604248,50288:0.33679014444351196,148136:0.3299707770347595,56982:0.3264011740684509,112641:0.32269948720932007,137720:0.32201462984085083,49952:0.3210899829864502,97110:0.3203919529914856,81885:0.31683599948883057,116401:0.314908504486084,25411:0.3140607476234436,92159:0.31080079078674316,13224:0.30934280157089233,59889:0.3054942488670349',\n",
       " '262235:260098,263611|225055:0.4953860640525818,261840:0.46361780166625977,261096:0.46343767642974854,279088:0.4533689618110657,279089:0.4533689618110657,257957:0.44703567028045654,277244:0.44378983974456787,273664:0.44361478090286255,234927:0.43995434045791626,279091:0.4357619285583496,262548:0.42336249351501465,258105:0.42021191120147705,268185:0.4196361303329468,282212:0.4123998284339905,259113:0.41228652000427246,252449:0.41006797552108765,252455:0.41006797552108765,266340:0.4079657793045044,260194:0.406242311000824,267743:0.40621787309646606,272154:0.40498560667037964,226971:0.40446531772613525,229417:0.40380293130874634,281734:0.4033697843551636,263597:0.401902973651886,225856:0.40181756019592285,258461:0.40172380208969116,230382:0.40126967430114746,206950:0.40085649490356445',\n",
       " '94:15392,2,9779|15133:0.475131094455719,228:0.4545747637748718,2:0.45357632637023926,5242:0.4521524906158447,10739:0.44804108142852783,15392:0.445350706577301,226:0.42813360691070557,256:0.42744940519332886,19648:0.42720240354537964,18101:0.42706990242004395,39048:0.42463505268096924,21818:0.4116615056991577,17942:0.4078952670097351,5335:0.4020755887031555,10095:0.3984074592590332,39040:0.3967929482460022,11580:0.3966354727745056,16864:0.3966163992881775,17459:0.3955845236778259,171:0.3919295072555542,32413:0.3809053897857666,146:0.38020676374435425,16058:0.37989670038223267,38432:0.37835901975631714,23326:0.37600409984588623,18596:0.37424612045288086,20521:0.3714860677719116,5248:0.370937705039978,14740:0.37088364362716675',\n",
       " '131171:202560,96651,172374|138374:0.4632895588874817,139831:0.46317893266677856,151172:0.4405105710029602,124158:0.4204803705215454,132916:0.41858696937561035,127717:0.4066852331161499,181210:0.4018828272819519,115381:0.40102583169937134,170020:0.3966817855834961,166801:0.3946312665939331,152866:0.3940458297729492,152870:0.3940458297729492,152874:0.3940458297729492,124149:0.39238208532333374,132174:0.3923620581626892,133332:0.39177215099334717,110245:0.3880065679550171,135030:0.38582557439804077,154562:0.3824428915977478,152059:0.38171106576919556,139543:0.3813113570213318,128236:0.3807518482208252,110499:0.3805202841758728,125137:0.37697356939315796,167819:0.3732532262802124,148398:0.3714027404785156,135557:0.37119126319885254,165462:0.37104183435440063,124542:0.37065982818603516',\n",
       " '393320:394988|402037:0.5144934058189392,366182:0.5056179761886597,366112:0.49888986349105835,405226:0.49360936880111694,366179:0.48676544427871704,345478:0.4859706163406372,338727:0.48020410537719727,250144:0.47578006982803345,400601:0.46303462982177734,296961:0.46020376682281494,405645:0.45396411418914795,402953:0.45326554775238037,232063:0.44455307722091675,397772:0.4420102834701538,401746:0.43693214654922485,358287:0.42327791452407837,225621:0.42096012830734253,401393:0.42068153619766235,296346:0.4128974676132202,287885:0.40692269802093506,309464:0.4067850708961487,403698:0.4044097661972046,330650:0.3967631459236145,360871:0.39453810453414917,296389:0.39298802614212036,363238:0.38702476024627686,397437:0.3863416314125061,337427:0.3859432339668274,365385:0.38540130853652954',\n",
       " '131180:134058,132491,131646|329739:0.35547739267349243,411731:0.33578717708587646,403431:0.32986944913864136,131646:0.2975941300392151,323000:0.2941344976425171,333456:0.2916848659515381,96069:0.24755901098251343,365487:0.24481689929962158,101607:0.23807382583618164,364419:0.23027026653289795,403365:0.22339516878128052,243140:0.21664667129516602,105557:0.20754748582839966,105558:0.20754748582839966,273142:0.201452374458313,345044:0.19078749418258667,317516:0.18975377082824707,262382:0.17713701725006104,389522:0.17618900537490845,130401:0.17229634523391724,306932:0.17203378677368164,349552:0.17170393466949463,279074:0.1682102084159851,326746:0.16479212045669556,342636:0.16388189792633057,257805:0.16182047128677368,113007:0.1610988974571228,379911:0.16059976816177368,323715:0.15104931592941284',\n",
       " '393332:405833,414629|395556:0.34499961137771606,315575:0.3000679016113281,392198:0.2848584055900574,332988:0.28481489419937134,388386:0.27713656425476074,351847:0.26904046535491943,410011:0.25845324993133545,360335:0.2568584084510803,401588:0.2524738311767578,389593:0.2438565492630005,334031:0.23822879791259766,364685:0.23366940021514893,359056:0.23222976922988892,317411:0.23031967878341675,324611:0.2277987003326416,314573:0.2262190580368042,327573:0.22176140546798706,342281:0.21857428550720215,333338:0.21765047311782837,360395:0.2153415083885193,337562:0.21476280689239502,352522:0.20874911546707153,348311:0.20500963926315308,400111:0.20397484302520752,358921:0.20395880937576294,342892:0.20326727628707886,333618:0.20128095149993896,353286:0.200050950050354,342293:0.19980216026306152',\n",
       " '262266:262871|262871:0.4881594181060791,212615:0.2917777895927429,257970:0.2893597483634949,278529:0.2848300337791443,268920:0.2774163484573364,269320:0.27672940492630005,260445:0.2687678337097168,211235:0.2678365707397461,156623:0.2631838917732239,282581:0.25542205572128296,303248:0.24919122457504272,211431:0.24821746349334717,185127:0.2421814203262329,279466:0.24198144674301147,277491:0.24192559719085693,312103:0.2371673583984375,285720:0.23111200332641602,212899:0.22667384147644043,248673:0.219679594039917,262031:0.2186495065689087,273395:0.2128545045852661,270961:0.20820409059524536,234262:0.20797079801559448,176627:0.20710968971252441,202500:0.20208227634429932,271420:0.20149362087249756,209245:0.2013392448425293,231132:0.20035403966903687,261793:0.19739311933517456']"
      ]
     },
     "execution_count": 54,
     "metadata": {},
     "output_type": "execute_result"
    }
   ],
   "source": [
    "exported_rank[:20]"
   ]
  },
  {
   "cell_type": "markdown",
   "metadata": {},
   "source": [
    "### Retrieval evaluation"
   ]
  },
  {
   "cell_type": "code",
   "execution_count": 55,
   "metadata": {},
   "outputs": [
    {
     "name": "stdout",
     "output_type": "stream",
     "text": [
      "Total of queries: 16995\n"
     ]
    }
   ],
   "source": [
    "print(\"Total of queries:\", len(retrieval.test))"
   ]
  },
  {
   "cell_type": "markdown",
   "metadata": {},
   "source": [
    "#### Getting the model trained"
   ]
  },
  {
   "cell_type": "code",
   "execution_count": 56,
   "metadata": {},
   "outputs": [
    {
     "data": {
      "text/plain": [
       "'bert_preprocessing_baseline_1000_feature_1000epochs_64batch(eclipse)'"
      ]
     },
     "execution_count": 56,
     "metadata": {},
     "output_type": "execute_result"
    }
   ],
   "source": [
    "SAVE_PATH_FEATURE.replace('@number_of_epochs@', str(epochs))"
   ]
  },
  {
   "cell_type": "code",
   "execution_count": 57,
   "metadata": {},
   "outputs": [
    {
     "name": "stdout",
     "output_type": "stream",
     "text": [
      "__________________________________________________________________________________________________\n",
      "Layer (type)                    Output Shape         Param #     Connected to                     \n",
      "==================================================================================================\n",
      "info_in (InputLayer)            (None, 1682)         0                                            \n",
      "__________________________________________________________________________________________________\n",
      "title_in (InputLayer)           (None, 20)           0                                            \n",
      "__________________________________________________________________________________________________\n",
      "desc_in (InputLayer)            (None, 20)           0                                            \n",
      "__________________________________________________________________________________________________\n",
      "FeatureMlpGenerationModel (Mode (None, 300)          504900      info_in[0][0]                    \n",
      "__________________________________________________________________________________________________\n",
      "FeatureLstmGenerationModel (Mod (None, 300)          581804100   title_in[0][0]                   \n",
      "__________________________________________________________________________________________________\n",
      "FeatureCNNGenerationModel (Mode (None, 300)          581850792   desc_in[0][0]                    \n",
      "__________________________________________________________________________________________________\n",
      "merge_features_in (Concatenate) (None, 900)          0           FeatureMlpGenerationModel[1][0]  \n",
      "                                                                 FeatureLstmGenerationModel[1][0] \n",
      "                                                                 FeatureCNNGenerationModel[1][0]  \n",
      "==================================================================================================\n",
      "Total params: 1,164,159,792\n",
      "Trainable params: 958,392\n",
      "Non-trainable params: 1,163,201,400\n",
      "__________________________________________________________________________________________________\n"
     ]
    }
   ],
   "source": [
    "encoded_anchor.summary()"
   ]
  },
  {
   "cell_type": "code",
   "execution_count": 58,
   "metadata": {},
   "outputs": [
    {
     "data": {
      "text/plain": [
       "27321"
      ]
     },
     "execution_count": 58,
     "metadata": {},
     "output_type": "execute_result"
    }
   ],
   "source": [
    "len(exported_rank)"
   ]
  },
  {
   "cell_type": "code",
   "execution_count": 59,
   "metadata": {},
   "outputs": [
    {
     "data": {
      "text/plain": [
       "'data/processed/eclipse/bert/exported_rank_baseline_1000.txt'"
      ]
     },
     "execution_count": 59,
     "metadata": {},
     "output_type": "execute_result"
    }
   ],
   "source": [
    "EXPORT_RANK_PATH = os.path.join(DIR, 'exported_rank_{}.txt'.format(METHOD))\n",
    "EXPORT_RANK_PATH"
   ]
  },
  {
   "cell_type": "code",
   "execution_count": 60,
   "metadata": {},
   "outputs": [],
   "source": [
    "with open(EXPORT_RANK_PATH, 'w') as file_out:\n",
    "    for row in exported_rank:\n",
    "        file_out.write(row + \"\\n\")"
   ]
  },
  {
   "cell_type": "code",
   "execution_count": 61,
   "metadata": {},
   "outputs": [
    {
     "data": {
      "text/plain": [
       "{'1 - recall_at_5': 0.38,\n",
       " '2 - recall_at_10': 0.46,\n",
       " '3 - recall_at_15': 0.51,\n",
       " '4 - recall_at_20': 0.54,\n",
       " '5 - recall_at_25': 0.57}"
      ]
     },
     "execution_count": 61,
     "metadata": {},
     "output_type": "execute_result"
    }
   ],
   "source": [
    "report = experiment.evaluation.evaluate(EXPORT_RANK_PATH)\n",
    "report"
   ]
  },
  {
   "cell_type": "markdown",
   "metadata": {},
   "source": [
    "#### Some ideas to visualizate"
   ]
  },
  {
   "cell_type": "markdown",
   "metadata": {},
   "source": [
    "- https://towardsdatascience.com/building-a-recommendation-system-using-neural-network-embeddings-1ef92e5c80c9"
   ]
  }
 ],
 "metadata": {
  "accelerator": "GPU",
  "colab": {
   "collapsed_sections": [],
   "name": "[baseline] Bug triage with Deep Learning.ipynb",
   "provenance": [],
   "toc_visible": true,
   "version": "0.3.2"
  },
  "kernelspec": {
   "display_name": "Python 3",
   "language": "python",
   "name": "python3"
  },
  "language_info": {
   "codemirror_mode": {
    "name": "ipython",
    "version": 3
   },
   "file_extension": ".py",
   "mimetype": "text/x-python",
   "name": "python",
   "nbconvert_exporter": "python",
   "pygments_lexer": "ipython3",
   "version": "3.5.2"
  }
 },
 "nbformat": 4,
 "nbformat_minor": 1
}
