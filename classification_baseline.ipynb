{
 "cells": [
  {
   "cell_type": "markdown",
   "metadata": {},
   "source": [
    "## Classification using siamese model"
   ]
  },
  {
   "cell_type": "code",
   "execution_count": 1,
   "metadata": {},
   "outputs": [
    {
     "name": "stderr",
     "output_type": "stream",
     "text": [
      "Using TensorFlow backend.\n"
     ]
    }
   ],
   "source": [
    "import keras"
   ]
  },
  {
   "cell_type": "code",
   "execution_count": 2,
   "metadata": {},
   "outputs": [],
   "source": [
    "import re\n",
    "import numpy as np\n",
    "import pandas as pd\n",
    "\n",
    "import os\n",
    "from tqdm import tqdm_notebook as tqdm\n",
    "import matplotlib.pyplot as plt\n",
    "import sys\n",
    "nb_dir = os.path.split(os.getcwd())[0]\n",
    "if nb_dir not in sys.path:\n",
    "    sys.path.append(nb_dir)\n",
    "    \n",
    "%matplotlib inline"
   ]
  },
  {
   "cell_type": "code",
   "execution_count": 3,
   "metadata": {},
   "outputs": [],
   "source": [
    "from methods.baseline import Baseline\n",
    "from methods.experiments import Experiment\n",
    "from methods.evaluation import Evaluation\n",
    "from methods.retrieval import Retrieval"
   ]
  },
  {
   "cell_type": "code",
   "execution_count": 4,
   "metadata": {},
   "outputs": [],
   "source": [
    "from keras.layers import Conv1D, Input, Add, Activation, Dropout, Embedding, MaxPooling1D, GlobalMaxPool1D, Flatten, Dense, Concatenate, BatchNormalization\n",
    "from keras.models import Model"
   ]
  },
  {
   "cell_type": "markdown",
   "metadata": {},
   "source": [
    "## Configurações Globais"
   ]
  },
  {
   "cell_type": "code",
   "execution_count": 5,
   "metadata": {},
   "outputs": [],
   "source": [
    "EMBEDDING_DIM = 300\n",
    "MAX_NB_WORDS = 2000"
   ]
  },
  {
   "cell_type": "code",
   "execution_count": 6,
   "metadata": {},
   "outputs": [],
   "source": [
    "DOMAIN = 'eclipse'\n",
    "METHOD = 'baseline'\n",
    "DIR = 'data/processed/{}'.format(DOMAIN)\n",
    "DATASET = os.path.join('data/normalized/{}'.format(DOMAIN), '{}.csv'.format(DOMAIN))\n",
    "DIR_PAIRS = 'data/normalized/{}'.format(DOMAIN)\n",
    "SAVE_PATH = '{}_classification({})'.format(METHOD, DOMAIN)\n",
    "PRETRAINED_MODEL = 'modelos/model_{}_feature_100epochs_64batch({}).h5'.format(METHOD, DOMAIN)"
   ]
  },
  {
   "cell_type": "code",
   "execution_count": 7,
   "metadata": {
    "scrolled": true
   },
   "outputs": [
    {
     "name": "stderr",
     "output_type": "stream",
     "text": [
      "/usr/local/lib/python3.5/dist-packages/keras/engine/saving.py:292: UserWarning: No training configuration found in save file: the model was *not* compiled. Compile it manually.\n",
      "  warnings.warn('No training configuration found in save file: '\n"
     ]
    }
   ],
   "source": [
    "import keras\n",
    "from keras.models import Model\n",
    "from keras.layers import Input\n",
    "from keras.models import load_model\n",
    "import keras.backend as K\n",
    "\n",
    "K.clear_session()\n",
    "\n",
    "\"\"\"\n",
    "    A lista de modelos estar disponível no diretorio /modelos\n",
    "        name:\n",
    "            - model_baseline_{X}epoch_{Y}steps_({dataset}).h5\n",
    "            - model_baseline_{X}epoch_{Y}steps_({dataset}).json\n",
    "    \n",
    "        Informações adicionais:\n",
    "            {X} - total de épocas treinada. Ex: 100, 1000\n",
    "            {Y} - total de steps validados no treino. Ex: 10, 16\n",
    "            {dataset} - Nome da base testada. Ex: Eclipse, Netbeans, OpenOffice\n",
    "\"\"\"\n",
    "similarity_model = load_model(PRETRAINED_MODEL)"
   ]
  },
  {
   "cell_type": "code",
   "execution_count": 8,
   "metadata": {},
   "outputs": [
    {
     "data": {
      "text/plain": [
       "(100, 100, 1682)"
      ]
     },
     "execution_count": 8,
     "metadata": {},
     "output_type": "execute_result"
    }
   ],
   "source": [
    "import keras.backend as K\n",
    "\n",
    "MAX_SEQUENCE_LENGTH_T = K.int_shape(similarity_model.input[0])[1]\n",
    "MAX_SEQUENCE_LENGTH_D = K.int_shape(similarity_model.input[1])[1]\n",
    "MAX_SEQUENCE_LENGTH_I = K.int_shape(similarity_model.input[2])[1]\n",
    "\n",
    "MAX_SEQUENCE_LENGTH_T, MAX_SEQUENCE_LENGTH_D, MAX_SEQUENCE_LENGTH_I"
   ]
  },
  {
   "cell_type": "code",
   "execution_count": 9,
   "metadata": {},
   "outputs": [],
   "source": [
    "baseline = Baseline(DIR, DATASET, MAX_SEQUENCE_LENGTH_T, MAX_SEQUENCE_LENGTH_D)\n",
    "evaluation = Evaluation(verbose=0)\n",
    "retrieval = Retrieval()\n",
    "experiment = Experiment(baseline, evaluation)"
   ]
  },
  {
   "cell_type": "code",
   "execution_count": 10,
   "metadata": {},
   "outputs": [
    {
     "data": {
      "text/plain": [
       "{'bug_severity': 7,\n",
       " 'bug_status': 3,\n",
       " 'component': 927,\n",
       " 'priority': 5,\n",
       " 'product': 189,\n",
       " 'version': 551}"
      ]
     },
     "execution_count": 10,
     "metadata": {},
     "output_type": "execute_result"
    }
   ],
   "source": [
    "baseline.info_dict"
   ]
  },
  {
   "cell_type": "code",
   "execution_count": 11,
   "metadata": {},
   "outputs": [
    {
     "name": "stdout",
     "output_type": "stream",
     "text": [
      "Creating the buckets...\n"
     ]
    },
    {
     "data": {
      "application/vnd.jupyter.widget-view+json": {
       "model_id": "6f4704463f5b48548eac4ece006a5c84",
       "version_major": 2,
       "version_minor": 0
      },
      "text/plain": [
       "HBox(children=(IntProgress(value=0, max=322339), HTML(value='')))"
      ]
     },
     "metadata": {},
     "output_type": "display_data"
    },
    {
     "name": "stdout",
     "output_type": "stream",
     "text": [
      "\n"
     ]
    },
    {
     "data": {
      "application/vnd.jupyter.widget-view+json": {
       "model_id": "69fc711ff6c742349aa717b204a53d5e",
       "version_major": 2,
       "version_minor": 0
      },
      "text/plain": [
       "HBox(children=(IntProgress(value=0, max=39545), HTML(value='')))"
      ]
     },
     "metadata": {},
     "output_type": "display_data"
    },
    {
     "name": "stdout",
     "output_type": "stream",
     "text": [
      "\n"
     ]
    }
   ],
   "source": [
    "experiment.set_retrieval(retrieval, baseline, DOMAIN)"
   ]
  },
  {
   "cell_type": "markdown",
   "metadata": {},
   "source": [
    "#### Loading bug ids in memory"
   ]
  },
  {
   "cell_type": "code",
   "execution_count": 12,
   "metadata": {},
   "outputs": [
    {
     "name": "stdout",
     "output_type": "stream",
     "text": [
      "Reading bug ids\n"
     ]
    },
    {
     "data": {
      "text/plain": [
       "212512"
      ]
     },
     "execution_count": 12,
     "metadata": {},
     "output_type": "execute_result"
    }
   ],
   "source": [
    "experiment.load_ids()\n",
    "len(baseline.bug_ids)"
   ]
  },
  {
   "cell_type": "markdown",
   "metadata": {},
   "source": [
    "#### Loading train bugs"
   ]
  },
  {
   "cell_type": "code",
   "execution_count": 13,
   "metadata": {},
   "outputs": [
    {
     "data": {
      "application/vnd.jupyter.widget-view+json": {
       "model_id": "eafbac8f281345b48e02dba14bd0557b",
       "version_major": 2,
       "version_minor": 0
      },
      "text/plain": [
       "HBox(children=(IntProgress(value=0, max=212512), HTML(value='')))"
      ]
     },
     "metadata": {},
     "output_type": "display_data"
    },
    {
     "name": "stdout",
     "output_type": "stream",
     "text": [
      "\n"
     ]
    },
    {
     "data": {
      "application/vnd.jupyter.widget-view+json": {
       "model_id": "dfda709025ab4c028e535e80bb064a78",
       "version_major": 2,
       "version_minor": 0
      },
      "text/plain": [
       "HBox(children=(IntProgress(value=1, bar_style='info', max=1), HTML(value='')))"
      ]
     },
     "metadata": {},
     "output_type": "display_data"
    },
    {
     "name": "stdout",
     "output_type": "stream",
     "text": [
      "\n",
      "CPU times: user 1min 3s, sys: 2.79 s, total: 1min 6s\n",
      "Wall time: 1min 8s\n"
     ]
    }
   ],
   "source": [
    "%%time\n",
    "\n",
    "experiment.load_bugs()"
   ]
  },
  {
   "cell_type": "code",
   "execution_count": 14,
   "metadata": {},
   "outputs": [
    {
     "data": {
      "application/vnd.jupyter.widget-view+json": {
       "model_id": "84ab49da4538400f84e44f531eae98ef",
       "version_major": 2,
       "version_minor": 0
      },
      "text/plain": [
       "HBox(children=(IntProgress(value=0, max=321536), HTML(value='')))"
      ]
     },
     "metadata": {},
     "output_type": "display_data"
    },
    {
     "name": "stdout",
     "output_type": "stream",
     "text": [
      "\n",
      "Reading train data\n",
      "Reading bug ids\n",
      "CPU times: user 3min 34s, sys: 255 ms, total: 3min 34s\n",
      "Wall time: 3min 34s\n"
     ]
    }
   ],
   "source": [
    "%%time\n",
    "issues_by_buckets = experiment.get_buckets_for_bugs()\n",
    "experiment.prepare_dataset(issues_by_buckets)"
   ]
  },
  {
   "cell_type": "code",
   "execution_count": 15,
   "metadata": {},
   "outputs": [
    {
     "name": "stdout",
     "output_type": "stream",
     "text": [
      "CPU times: user 26.1 ms, sys: 0 ns, total: 26.1 ms\n",
      "Wall time: 26.2 ms\n"
     ]
    }
   ],
   "source": [
    "%%time\n",
    "\n",
    "bug_train_ids = experiment.get_train_ids(baseline.train_data)\n",
    "len(bug_train_ids)"
   ]
  },
  {
   "cell_type": "code",
   "execution_count": 16,
   "metadata": {},
   "outputs": [
    {
     "name": "stdout",
     "output_type": "stream",
     "text": [
      "Reading test data for classification\n",
      "CPU times: user 13.8 s, sys: 12.3 ms, total: 13.8 s\n",
      "Wall time: 13.9 s\n"
     ]
    }
   ],
   "source": [
    "%%time\n",
    "\n",
    "baseline.test_data, baseline.dup_sets_test = experiment.read_test_data_classification(DIR, baseline.bug_set, \n",
    "                                                                                      bug_train_ids, \n",
    "                                                                                      path=\"test_chronological\")"
   ]
  },
  {
   "cell_type": "markdown",
   "metadata": {},
   "source": [
    "## Siamese  model"
   ]
  },
  {
   "cell_type": "code",
   "execution_count": 17,
   "metadata": {},
   "outputs": [],
   "source": [
    "# Freeze weights\n",
    "for layer in similarity_model.layers:\n",
    "    layer.trainable = False"
   ]
  },
  {
   "cell_type": "code",
   "execution_count": 18,
   "metadata": {},
   "outputs": [
    {
     "name": "stdout",
     "output_type": "stream",
     "text": [
      "__________________________________________________________________________________________________\n",
      "Layer (type)                    Output Shape         Param #     Connected to                     \n",
      "==================================================================================================\n",
      "info_a (InputLayer)             (None, 1682)         0                                            \n",
      "__________________________________________________________________________________________________\n",
      "title_a (InputLayer)            (None, 100)          0                                            \n",
      "__________________________________________________________________________________________________\n",
      "desc_a (InputLayer)             (None, 100)          0                                            \n",
      "__________________________________________________________________________________________________\n",
      "info_b (InputLayer)             (None, 1682)         0                                            \n",
      "__________________________________________________________________________________________________\n",
      "title_b (InputLayer)            (None, 100)          0                                            \n",
      "__________________________________________________________________________________________________\n",
      "desc_b (InputLayer)             (None, 100)          0                                            \n",
      "__________________________________________________________________________________________________\n",
      "FeatureMlpGenerationModel (Mode (None, 300)          504900      info_a[0][0]                     \n",
      "                                                                 info_b[0][0]                     \n",
      "__________________________________________________________________________________________________\n",
      "FeatureLstmGenerationModel (Mod (None, 300)          34269600    title_a[0][0]                    \n",
      "                                                                 title_b[0][0]                    \n",
      "__________________________________________________________________________________________________\n",
      "FeatureCNNGenerationModel (Mode (None, 300)          34316292    desc_a[0][0]                     \n",
      "                                                                 desc_b[0][0]                     \n",
      "__________________________________________________________________________________________________\n",
      "merge_features_in (Concatenate) (None, 900)          0           FeatureMlpGenerationModel[2][0]  \n",
      "                                                                 FeatureLstmGenerationModel[2][0] \n",
      "                                                                 FeatureCNNGenerationModel[2][0]  \n",
      "                                                                 FeatureMlpGenerationModel[3][0]  \n",
      "                                                                 FeatureLstmGenerationModel[3][0] \n",
      "                                                                 FeatureCNNGenerationModel[3][0]  \n",
      "__________________________________________________________________________________________________\n",
      "bugs (Concatenate)              (None, 1800)         0           merge_features_in[1][0]          \n",
      "                                                                 merge_features_in[2][0]          \n",
      "__________________________________________________________________________________________________\n",
      "dense_1 (Dense)                 (None, 128)          230528      bugs[0][0]                       \n",
      "__________________________________________________________________________________________________\n",
      "activation_1 (Activation)       (None, 128)          0           dense_1[0][0]                    \n",
      "__________________________________________________________________________________________________\n",
      "dense_2 (Dense)                 (None, 128)          16512       activation_1[0][0]               \n",
      "__________________________________________________________________________________________________\n",
      "activation_2 (Activation)       (None, 128)          0           dense_2[0][0]                    \n",
      "__________________________________________________________________________________________________\n",
      "output (Dense)                  (None, 2)            258         activation_2[0][0]               \n",
      "==================================================================================================\n",
      "Total params: 69,338,090\n",
      "Trainable params: 247,298\n",
      "Non-trainable params: 69,090,792\n",
      "__________________________________________________________________________________________________\n"
     ]
    }
   ],
   "source": [
    "from keras.layers import concatenate, Dropout, Add\n",
    "\n",
    "bug_t_a = Input(shape = (MAX_SEQUENCE_LENGTH_T, ), name = 'title_a')\n",
    "bug_t_b = Input(shape = (MAX_SEQUENCE_LENGTH_T, ), name = 'title_b')\n",
    "\n",
    "bug_d_a = Input(shape = (MAX_SEQUENCE_LENGTH_D, ), name = 'desc_a')\n",
    "bug_d_b = Input(shape = (MAX_SEQUENCE_LENGTH_D, ), name = 'desc_b')\n",
    "\n",
    "bug_i_a = Input(shape = (MAX_SEQUENCE_LENGTH_I, ), name = 'info_a')\n",
    "bug_i_b = Input(shape = (MAX_SEQUENCE_LENGTH_I, ), name = 'info_b')\n",
    "\n",
    "title_encoder = similarity_model.get_layer('FeatureLstmGenerationModel')\n",
    "desc_encoder = similarity_model.get_layer('FeatureCNNGenerationModel')\n",
    "info_encoder = similarity_model.get_layer('FeatureMlpGenerationModel')\n",
    "\n",
    "model = similarity_model.get_layer('merge_features_in')\n",
    "\n",
    "# Bug A\n",
    "bugt_t_a = title_encoder(bug_t_a)\n",
    "bugt_d_a = desc_encoder(bug_d_a)\n",
    "bugt_i_a = info_encoder(bug_i_a)\n",
    "# Bug B\n",
    "bugt_t_b = title_encoder(bug_t_b)\n",
    "bugt_d_b = desc_encoder(bug_d_b)\n",
    "bugt_i_b = info_encoder(bug_i_b)\n",
    "\n",
    "bug_a = model([bugt_i_a, bugt_t_a, bugt_d_a])\n",
    "bug_b = model([bugt_i_b, bugt_t_b, bugt_d_b])\n",
    "\n",
    "x = concatenate([bug_a, bug_b], name='bugs') # \n",
    "\n",
    "for _ in range(2):\n",
    "    x = Dense(128)(x)\n",
    "    #x = Dropout(0.75)(x)\n",
    "    x = Activation('tanh')(x)\n",
    "    # x = BatchNormalization()(x)\n",
    "\n",
    "output = Dense(2, activation = 'softmax', name = 'output')(x)\n",
    "\n",
    "model_clf = Model(inputs=[bug_t_a, bug_t_b, bug_d_a, bug_d_b, bug_i_a, bug_i_b], outputs=[output])\n",
    "\n",
    "#adam = keras.optimizers.Adam(lr=0.005, beta_1=0.9, beta_2=0.999, epsilon=None, decay=0.1, amsgrad=False)\n",
    "\n",
    "model_clf.compile(optimizer='adam', loss='binary_crossentropy', metrics = ['accuracy'])\n",
    "model_clf.summary()"
   ]
  },
  {
   "cell_type": "code",
   "execution_count": 19,
   "metadata": {},
   "outputs": [],
   "source": [
    "from keras.utils import to_categorical\n",
    "from sklearn.preprocessing import LabelEncoder\n",
    "\n",
    "def batch_classification(train, dup_sets, batch_size, n_neg, bug_ids):\n",
    "    encoder = LabelEncoder()\n",
    "    batch_size_normalized = batch_size // 2\n",
    "    batch_triplet, input_sample, input_pos, input_neg, sim = baseline.batch_iterator(train, dup_sets, bug_ids, \n",
    "                                                                                     batch_size_normalized, n_neg)\n",
    "    \n",
    "    pos = np.full((1, batch_size_normalized), 1)\n",
    "    neg = np.full((1, batch_size_normalized), 0)\n",
    "    sim = np.concatenate([pos, neg], -1)[0]\n",
    "    \n",
    "    sim = encoder.fit_transform(sim)\n",
    "    sim = to_categorical(sim)\n",
    "\n",
    "    title_a = np.concatenate([input_sample['title'], input_sample['title']])\n",
    "    title_b = np.concatenate([input_pos['title'], input_neg['title']])\n",
    "    desc_a = np.concatenate([input_sample['description'], input_sample['description']])\n",
    "    desc_b = np.concatenate([input_pos['description'], input_neg['description']])\n",
    "    info_a = np.concatenate([input_sample['info'], input_sample['info']])\n",
    "    info_b = np.concatenate([input_pos['info'], input_neg['info']])\n",
    "    \n",
    "    return title_a, title_b, desc_a, desc_b, info_a, info_b, sim\n",
    "\n",
    "def batch_classification_siamese(train, dup_sets, batch_size, n_neg, bug_ids):\n",
    "    while True:\n",
    "        title_a, title_b, desc_a, desc_b, info_a, info_b, sim = batch_classification(train, dup_sets, batch_size, \n",
    "                                                                                     n_neg, bug_ids)\n",
    "        \n",
    "        yield ({ 'title_a' : title_a, 'title_b': title_b, \n",
    "        'desc_a' : desc_a, 'desc_b' : desc_b, 'info_a' : info_a, 'info_b' : info_b }, sim)"
   ]
  },
  {
   "cell_type": "code",
   "execution_count": 20,
   "metadata": {},
   "outputs": [],
   "source": [
    "bug_train_ids = experiment.get_train_ids(baseline.train_data)"
   ]
  },
  {
   "cell_type": "code",
   "execution_count": 21,
   "metadata": {},
   "outputs": [],
   "source": [
    "bug_test_ids = experiment.get_train_ids(baseline.test_data)"
   ]
  },
  {
   "cell_type": "code",
   "execution_count": 22,
   "metadata": {},
   "outputs": [],
   "source": [
    "title_a, title_b, desc_a, desc_b, info_a, info_b, sim = batch_classification(baseline.train_data, \n",
    "                                                                             baseline.dup_sets_train,\n",
    "                                                                             512, 1, bug_train_ids)\n",
    "test_validation = ({ 'title_a' : title_a, 'title_b': title_b, \n",
    "        'desc_a' : desc_a, 'desc_b' : desc_b, 'info_a' : info_a, 'info_b' : info_b }, sim)"
   ]
  },
  {
   "cell_type": "code",
   "execution_count": 23,
   "metadata": {
    "scrolled": true
   },
   "outputs": [
    {
     "name": "stdout",
     "output_type": "stream",
     "text": [
      "Epoch 1/100\n",
      "10/10 [==============================] - 7s 652ms/step - loss: 0.6958 - acc: 0.4846 - val_loss: 0.6938 - val_acc: 0.5137\n",
      "Epoch 2/100\n",
      "10/10 [==============================] - 3s 263ms/step - loss: 0.6935 - acc: 0.5168 - val_loss: 0.6914 - val_acc: 0.5117\n",
      "Epoch 3/100\n",
      "10/10 [==============================] - 3s 267ms/step - loss: 0.6914 - acc: 0.5235 - val_loss: 0.6861 - val_acc: 0.5332\n",
      "Epoch 4/100\n",
      "10/10 [==============================] - 2s 239ms/step - loss: 0.6764 - acc: 0.6171 - val_loss: 0.6572 - val_acc: 0.6602\n",
      "Epoch 5/100\n",
      "10/10 [==============================] - 3s 256ms/step - loss: 0.6371 - acc: 0.6719 - val_loss: 0.6155 - val_acc: 0.7090\n",
      "Epoch 6/100\n",
      "10/10 [==============================] - 3s 250ms/step - loss: 0.5895 - acc: 0.7194 - val_loss: 0.5740 - val_acc: 0.7344\n",
      "Epoch 7/100\n",
      "10/10 [==============================] - 3s 255ms/step - loss: 0.5540 - acc: 0.7303 - val_loss: 0.5494 - val_acc: 0.7422\n",
      "Epoch 8/100\n",
      "10/10 [==============================] - 2s 246ms/step - loss: 0.5336 - acc: 0.7470 - val_loss: 0.5190 - val_acc: 0.7832\n",
      "Epoch 9/100\n",
      "10/10 [==============================] - 3s 272ms/step - loss: 0.5164 - acc: 0.7679 - val_loss: 0.5062 - val_acc: 0.7988\n",
      "Epoch 10/100\n",
      "10/10 [==============================] - 3s 256ms/step - loss: 0.4908 - acc: 0.7881 - val_loss: 0.4891 - val_acc: 0.8145\n",
      "Epoch 11/100\n",
      "10/10 [==============================] - 3s 266ms/step - loss: 0.4840 - acc: 0.7877 - val_loss: 0.4789 - val_acc: 0.8145\n",
      "Epoch 12/100\n",
      "10/10 [==============================] - 3s 264ms/step - loss: 0.4647 - acc: 0.7968 - val_loss: 0.4633 - val_acc: 0.8047\n",
      "Epoch 13/100\n",
      "10/10 [==============================] - 3s 255ms/step - loss: 0.4574 - acc: 0.8015 - val_loss: 0.4417 - val_acc: 0.8242\n",
      "Epoch 14/100\n",
      "10/10 [==============================] - 3s 264ms/step - loss: 0.4477 - acc: 0.8063 - val_loss: 0.4262 - val_acc: 0.8223\n",
      "Epoch 15/100\n",
      "10/10 [==============================] - 3s 258ms/step - loss: 0.4311 - acc: 0.8192 - val_loss: 0.4111 - val_acc: 0.8262\n",
      "Epoch 16/100\n",
      "10/10 [==============================] - 3s 260ms/step - loss: 0.4215 - acc: 0.8244 - val_loss: 0.4087 - val_acc: 0.8340\n",
      "Epoch 17/100\n",
      "10/10 [==============================] - 3s 278ms/step - loss: 0.4162 - acc: 0.8252 - val_loss: 0.3958 - val_acc: 0.8516\n",
      "Epoch 18/100\n",
      "10/10 [==============================] - 3s 257ms/step - loss: 0.4028 - acc: 0.8316 - val_loss: 0.3898 - val_acc: 0.8457\n",
      "Epoch 19/100\n",
      "10/10 [==============================] - 2s 248ms/step - loss: 0.3953 - acc: 0.8359 - val_loss: 0.3806 - val_acc: 0.8496\n",
      "Epoch 20/100\n",
      "10/10 [==============================] - 3s 276ms/step - loss: 0.3896 - acc: 0.8373 - val_loss: 0.3768 - val_acc: 0.8535\n",
      "Epoch 21/100\n",
      "10/10 [==============================] - 3s 252ms/step - loss: 0.3816 - acc: 0.8426 - val_loss: 0.3772 - val_acc: 0.8594\n",
      "Epoch 22/100\n",
      "10/10 [==============================] - 3s 272ms/step - loss: 0.3648 - acc: 0.8542 - val_loss: 0.3705 - val_acc: 0.8574\n",
      "Epoch 23/100\n",
      "10/10 [==============================] - 3s 264ms/step - loss: 0.3797 - acc: 0.8434 - val_loss: 0.3607 - val_acc: 0.8594\n",
      "Epoch 24/100\n",
      "10/10 [==============================] - 3s 261ms/step - loss: 0.3714 - acc: 0.8503 - val_loss: 0.3582 - val_acc: 0.8516\n",
      "Epoch 25/100\n",
      "10/10 [==============================] - 2s 249ms/step - loss: 0.3619 - acc: 0.8532 - val_loss: 0.3509 - val_acc: 0.8613\n",
      "Epoch 26/100\n",
      "10/10 [==============================] - 3s 256ms/step - loss: 0.3598 - acc: 0.8542 - val_loss: 0.3508 - val_acc: 0.8691\n",
      "Epoch 27/100\n",
      "10/10 [==============================] - 3s 267ms/step - loss: 0.3451 - acc: 0.8631 - val_loss: 0.3425 - val_acc: 0.8652\n",
      "Epoch 28/100\n",
      "10/10 [==============================] - 3s 258ms/step - loss: 0.3372 - acc: 0.8677 - val_loss: 0.3435 - val_acc: 0.8691\n",
      "Epoch 29/100\n",
      "10/10 [==============================] - 3s 252ms/step - loss: 0.3499 - acc: 0.8590 - val_loss: 0.3347 - val_acc: 0.8730\n",
      "Epoch 30/100\n",
      "10/10 [==============================] - 3s 272ms/step - loss: 0.3414 - acc: 0.8605 - val_loss: 0.3297 - val_acc: 0.8730\n",
      "Epoch 31/100\n",
      "10/10 [==============================] - 3s 257ms/step - loss: 0.3438 - acc: 0.8614 - val_loss: 0.3282 - val_acc: 0.8750\n",
      "Epoch 32/100\n",
      "10/10 [==============================] - 2s 246ms/step - loss: 0.3373 - acc: 0.8646 - val_loss: 0.3264 - val_acc: 0.8770\n",
      "Epoch 33/100\n",
      "10/10 [==============================] - 3s 279ms/step - loss: 0.3284 - acc: 0.8709 - val_loss: 0.3231 - val_acc: 0.8711\n",
      "Epoch 34/100\n",
      "10/10 [==============================] - 3s 255ms/step - loss: 0.3303 - acc: 0.8679 - val_loss: 0.3250 - val_acc: 0.8730\n",
      "Epoch 35/100\n",
      "10/10 [==============================] - 2s 246ms/step - loss: 0.3211 - acc: 0.8718 - val_loss: 0.3202 - val_acc: 0.8770\n",
      "Epoch 36/100\n",
      "10/10 [==============================] - 3s 263ms/step - loss: 0.3217 - acc: 0.8728 - val_loss: 0.3174 - val_acc: 0.8809\n",
      "Epoch 37/100\n",
      "10/10 [==============================] - 3s 259ms/step - loss: 0.3228 - acc: 0.8706 - val_loss: 0.3247 - val_acc: 0.8789\n",
      "Epoch 38/100\n",
      "10/10 [==============================] - 3s 264ms/step - loss: 0.3171 - acc: 0.8718 - val_loss: 0.3166 - val_acc: 0.8711\n",
      "Epoch 39/100\n",
      "10/10 [==============================] - 2s 250ms/step - loss: 0.3136 - acc: 0.8738 - val_loss: 0.3152 - val_acc: 0.8809\n",
      "Epoch 40/100\n",
      "10/10 [==============================] - 3s 254ms/step - loss: 0.3128 - acc: 0.8720 - val_loss: 0.3138 - val_acc: 0.8770\n",
      "Epoch 41/100\n",
      "10/10 [==============================] - 3s 260ms/step - loss: 0.3133 - acc: 0.8739 - val_loss: 0.3162 - val_acc: 0.8750\n",
      "Epoch 42/100\n",
      "10/10 [==============================] - 3s 256ms/step - loss: 0.3079 - acc: 0.8768 - val_loss: 0.3100 - val_acc: 0.8848\n",
      "Epoch 43/100\n",
      "10/10 [==============================] - 3s 265ms/step - loss: 0.2983 - acc: 0.8816 - val_loss: 0.3129 - val_acc: 0.8789\n",
      "Epoch 44/100\n",
      "10/10 [==============================] - 3s 260ms/step - loss: 0.3093 - acc: 0.8738 - val_loss: 0.3129 - val_acc: 0.8770\n",
      "Epoch 45/100\n",
      "10/10 [==============================] - 3s 252ms/step - loss: 0.3085 - acc: 0.8799 - val_loss: 0.3013 - val_acc: 0.8906\n",
      "Epoch 46/100\n",
      "10/10 [==============================] - 3s 280ms/step - loss: 0.2960 - acc: 0.8811 - val_loss: 0.3018 - val_acc: 0.8867\n",
      "Epoch 47/100\n",
      "10/10 [==============================] - 3s 251ms/step - loss: 0.2999 - acc: 0.8809 - val_loss: 0.2969 - val_acc: 0.8848\n",
      "Epoch 48/100\n",
      "10/10 [==============================] - 3s 260ms/step - loss: 0.2924 - acc: 0.8835 - val_loss: 0.3016 - val_acc: 0.8789\n",
      "Epoch 49/100\n",
      "10/10 [==============================] - 3s 258ms/step - loss: 0.2936 - acc: 0.8844 - val_loss: 0.2986 - val_acc: 0.8906\n",
      "Epoch 50/100\n",
      "10/10 [==============================] - 3s 258ms/step - loss: 0.3015 - acc: 0.8779 - val_loss: 0.2943 - val_acc: 0.8887\n",
      "Epoch 51/100\n",
      "10/10 [==============================] - 3s 279ms/step - loss: 0.2808 - acc: 0.8873 - val_loss: 0.2947 - val_acc: 0.8906\n",
      "Epoch 52/100\n",
      "10/10 [==============================] - 2s 244ms/step - loss: 0.2900 - acc: 0.8820 - val_loss: 0.2896 - val_acc: 0.8906\n",
      "Epoch 53/100\n",
      "10/10 [==============================] - 3s 253ms/step - loss: 0.2908 - acc: 0.8849 - val_loss: 0.2856 - val_acc: 0.8984\n",
      "Epoch 54/100\n",
      "10/10 [==============================] - 3s 253ms/step - loss: 0.2816 - acc: 0.8899 - val_loss: 0.2879 - val_acc: 0.8906\n",
      "Epoch 55/100\n",
      "10/10 [==============================] - 3s 260ms/step - loss: 0.2873 - acc: 0.8865 - val_loss: 0.2922 - val_acc: 0.8926\n",
      "Epoch 56/100\n",
      "10/10 [==============================] - 3s 252ms/step - loss: 0.2822 - acc: 0.8891 - val_loss: 0.2883 - val_acc: 0.8984\n",
      "Epoch 57/100\n",
      "10/10 [==============================] - 2s 248ms/step - loss: 0.2866 - acc: 0.8904 - val_loss: 0.2857 - val_acc: 0.8906\n",
      "Epoch 58/100\n",
      "10/10 [==============================] - 3s 257ms/step - loss: 0.2749 - acc: 0.8896 - val_loss: 0.2920 - val_acc: 0.8906\n",
      "Epoch 59/100\n",
      "10/10 [==============================] - 3s 283ms/step - loss: 0.2733 - acc: 0.8909 - val_loss: 0.2859 - val_acc: 0.8906\n",
      "Epoch 60/100\n",
      "10/10 [==============================] - 3s 273ms/step - loss: 0.2734 - acc: 0.8953 - val_loss: 0.2778 - val_acc: 0.8945\n",
      "Epoch 61/100\n",
      "10/10 [==============================] - 3s 261ms/step - loss: 0.2785 - acc: 0.8871 - val_loss: 0.2720 - val_acc: 0.8926\n",
      "Epoch 62/100\n",
      "10/10 [==============================] - 3s 269ms/step - loss: 0.2726 - acc: 0.8936 - val_loss: 0.2735 - val_acc: 0.8965\n",
      "Epoch 63/100\n",
      "10/10 [==============================] - 2s 250ms/step - loss: 0.2766 - acc: 0.8903 - val_loss: 0.2847 - val_acc: 0.8965\n",
      "Epoch 64/100\n",
      "10/10 [==============================] - 3s 253ms/step - loss: 0.2690 - acc: 0.8957 - val_loss: 0.2820 - val_acc: 0.8945\n",
      "Epoch 65/100\n",
      "10/10 [==============================] - 2s 249ms/step - loss: 0.2692 - acc: 0.8938 - val_loss: 0.2724 - val_acc: 0.9043\n",
      "Epoch 66/100\n",
      "10/10 [==============================] - 3s 259ms/step - loss: 0.2707 - acc: 0.8936 - val_loss: 0.2809 - val_acc: 0.8984\n",
      "Epoch 67/100\n",
      "10/10 [==============================] - 3s 261ms/step - loss: 0.2687 - acc: 0.8956 - val_loss: 0.2640 - val_acc: 0.9023\n",
      "Epoch 68/100\n",
      "10/10 [==============================] - 3s 253ms/step - loss: 0.2810 - acc: 0.8876 - val_loss: 0.2677 - val_acc: 0.9023\n",
      "Epoch 69/100\n",
      "10/10 [==============================] - 3s 253ms/step - loss: 0.2699 - acc: 0.8957 - val_loss: 0.2685 - val_acc: 0.8965\n",
      "Epoch 70/100\n",
      "10/10 [==============================] - 2s 245ms/step - loss: 0.2628 - acc: 0.8949 - val_loss: 0.2632 - val_acc: 0.8965\n",
      "Epoch 71/100\n",
      "10/10 [==============================] - 3s 261ms/step - loss: 0.2636 - acc: 0.8971 - val_loss: 0.2705 - val_acc: 0.8965\n",
      "Epoch 72/100\n",
      "10/10 [==============================] - 3s 263ms/step - loss: 0.2742 - acc: 0.8906 - val_loss: 0.2666 - val_acc: 0.9004\n",
      "Epoch 73/100\n",
      "10/10 [==============================] - 3s 257ms/step - loss: 0.2666 - acc: 0.8942 - val_loss: 0.2624 - val_acc: 0.8984\n",
      "Epoch 74/100\n",
      "10/10 [==============================] - 3s 254ms/step - loss: 0.2606 - acc: 0.8982 - val_loss: 0.2676 - val_acc: 0.9043\n",
      "Epoch 75/100\n",
      "10/10 [==============================] - 2s 233ms/step - loss: 0.2615 - acc: 0.8970 - val_loss: 0.2642 - val_acc: 0.8965\n",
      "Epoch 76/100\n",
      "10/10 [==============================] - 3s 252ms/step - loss: 0.2599 - acc: 0.8997 - val_loss: 0.2592 - val_acc: 0.9043\n",
      "Epoch 77/100\n",
      "10/10 [==============================] - 3s 266ms/step - loss: 0.2688 - acc: 0.8937 - val_loss: 0.2573 - val_acc: 0.9043\n",
      "Epoch 78/100\n",
      "10/10 [==============================] - 3s 257ms/step - loss: 0.2551 - acc: 0.8996 - val_loss: 0.2560 - val_acc: 0.9004\n",
      "Epoch 79/100\n",
      "10/10 [==============================] - 3s 275ms/step - loss: 0.2535 - acc: 0.9010 - val_loss: 0.2599 - val_acc: 0.9043\n",
      "Epoch 80/100\n",
      "10/10 [==============================] - 3s 256ms/step - loss: 0.2602 - acc: 0.8976 - val_loss: 0.2532 - val_acc: 0.9062\n",
      "Epoch 81/100\n",
      "10/10 [==============================] - 3s 266ms/step - loss: 0.2653 - acc: 0.8958 - val_loss: 0.2452 - val_acc: 0.9082\n",
      "Epoch 82/100\n",
      "10/10 [==============================] - 3s 255ms/step - loss: 0.2684 - acc: 0.8956 - val_loss: 0.2565 - val_acc: 0.9023\n",
      "Epoch 83/100\n",
      "10/10 [==============================] - 3s 267ms/step - loss: 0.2497 - acc: 0.9034 - val_loss: 0.2591 - val_acc: 0.9004\n",
      "Epoch 84/100\n",
      "10/10 [==============================] - 3s 262ms/step - loss: 0.2549 - acc: 0.8995 - val_loss: 0.2523 - val_acc: 0.9102\n",
      "Epoch 85/100\n",
      "10/10 [==============================] - 3s 253ms/step - loss: 0.2527 - acc: 0.8994 - val_loss: 0.2506 - val_acc: 0.9102\n",
      "Epoch 86/100\n",
      "10/10 [==============================] - 3s 254ms/step - loss: 0.2589 - acc: 0.8978 - val_loss: 0.2539 - val_acc: 0.9082\n",
      "Epoch 87/100\n",
      "10/10 [==============================] - 2s 242ms/step - loss: 0.2500 - acc: 0.9046 - val_loss: 0.2495 - val_acc: 0.9062\n",
      "Epoch 88/100\n",
      "10/10 [==============================] - 3s 258ms/step - loss: 0.2530 - acc: 0.8983 - val_loss: 0.2428 - val_acc: 0.9102\n",
      "Epoch 89/100\n",
      "10/10 [==============================] - 3s 259ms/step - loss: 0.2517 - acc: 0.9006 - val_loss: 0.2457 - val_acc: 0.9062\n",
      "Epoch 90/100\n",
      "10/10 [==============================] - 3s 263ms/step - loss: 0.2593 - acc: 0.8993 - val_loss: 0.2490 - val_acc: 0.9023\n",
      "Epoch 91/100\n",
      "10/10 [==============================] - 3s 258ms/step - loss: 0.2336 - acc: 0.9085 - val_loss: 0.2507 - val_acc: 0.9043\n",
      "Epoch 92/100\n",
      "10/10 [==============================] - 3s 251ms/step - loss: 0.2491 - acc: 0.9017 - val_loss: 0.2445 - val_acc: 0.9180\n",
      "Epoch 93/100\n",
      "10/10 [==============================] - 3s 259ms/step - loss: 0.2497 - acc: 0.9027 - val_loss: 0.2444 - val_acc: 0.9160\n",
      "Epoch 94/100\n",
      "10/10 [==============================] - 3s 251ms/step - loss: 0.2648 - acc: 0.8938 - val_loss: 0.2453 - val_acc: 0.9180\n",
      "Epoch 95/100\n",
      "10/10 [==============================] - 2s 242ms/step - loss: 0.2526 - acc: 0.9016 - val_loss: 0.2470 - val_acc: 0.9062\n",
      "Epoch 96/100\n",
      "10/10 [==============================] - 3s 252ms/step - loss: 0.2434 - acc: 0.9037 - val_loss: 0.2431 - val_acc: 0.9141\n",
      "Epoch 97/100\n",
      "10/10 [==============================] - 3s 266ms/step - loss: 0.2320 - acc: 0.9119 - val_loss: 0.2444 - val_acc: 0.9121\n",
      "Epoch 98/100\n",
      "10/10 [==============================] - 2s 244ms/step - loss: 0.2507 - acc: 0.9047 - val_loss: 0.2467 - val_acc: 0.9043\n",
      "Epoch 99/100\n",
      "10/10 [==============================] - 3s 258ms/step - loss: 0.2467 - acc: 0.9030 - val_loss: 0.2420 - val_acc: 0.9121\n",
      "Epoch 100/100\n",
      "10/10 [==============================] - 3s 269ms/step - loss: 0.2401 - acc: 0.9059 - val_loss: 0.2401 - val_acc: 0.9102\n",
      "CPU times: user 7min 43s, sys: 42.3 s, total: 8min 25s\n",
      "Wall time: 4min 22s\n"
     ]
    }
   ],
   "source": [
    "%%time\n",
    "\n",
    "early = keras.callbacks.EarlyStopping(monitor='val_loss', patience=15, verbose=1, mode='auto')\n",
    "\n",
    "h_clf = model_clf.fit_generator(batch_classification_siamese(baseline.train_data, baseline.dup_sets_train, 1024, \n",
    "                                                             1, bug_train_ids), \n",
    "                               steps_per_epoch = 10,\n",
    "                               validation_data=test_validation,\n",
    "                                             epochs = 100,\n",
    "#                                              callbacks=[early],\n",
    "                                             verbose = True) "
   ]
  },
  {
   "cell_type": "code",
   "execution_count": 24,
   "metadata": {
    "scrolled": false
   },
   "outputs": [
    {
     "data": {
      "image/png": "[encoded data removed]",
      "text/plain": [
       "<Figure size 432x288 with 1 Axes>"
      ]
     },
     "metadata": {
      "needs_background": "light"
     },
     "output_type": "display_data"
    },
    {
     "data": {
      "image/png": "[encoded data removed]",
      "text/plain": [
       "<Figure size 432x288 with 1 Axes>"
      ]
     },
     "metadata": {
      "needs_background": "light"
     },
     "output_type": "display_data"
    }
   ],
   "source": [
    "Baseline.validation_accuracy_loss(h_clf)"
   ]
  },
  {
   "cell_type": "markdown",
   "metadata": {},
   "source": [
    "### Accuracy"
   ]
  },
  {
   "cell_type": "code",
   "execution_count": 25,
   "metadata": {},
   "outputs": [],
   "source": [
    "result = { }"
   ]
  },
  {
   "cell_type": "markdown",
   "metadata": {},
   "source": [
    "#### train"
   ]
  },
  {
   "cell_type": "code",
   "execution_count": 26,
   "metadata": {},
   "outputs": [
    {
     "data": {
      "text/plain": [
       "0.89453125"
      ]
     },
     "execution_count": 26,
     "metadata": {},
     "output_type": "execute_result"
    }
   ],
   "source": [
    "from sklearn.metrics import accuracy_score\n",
    "\n",
    "title_a, title_b, desc_a, desc_b, info_a, info_b, sim = batch_classification(baseline.train_data, \n",
    "                                                                             baseline.dup_sets_train, 512, 1, bug_train_ids)\n",
    "\n",
    "y_true = sim\n",
    "y_scores = model_clf.predict([title_a, title_b, desc_a, desc_b, info_a, info_b])\n",
    "\n",
    "def normalize(row):\n",
    "    return [1 if(r > 0.5) else 0 for r in row]\n",
    "\n",
    "y_scores = list(map(normalize, y_scores))\n",
    "# y_scores\n",
    "def decode_ohe(row):\n",
    "    return 0 if(row[0] == 1) else 1\n",
    "y_scores = [ decode_ohe(r) for r in y_scores ]\n",
    "y_true = [ decode_ohe(r) for r in y_true ]\n",
    "acc_train = accuracy_score(y_true, y_scores)\n",
    "acc_train"
   ]
  },
  {
   "cell_type": "markdown",
   "metadata": {},
   "source": [
    "#### test"
   ]
  },
  {
   "cell_type": "code",
   "execution_count": 27,
   "metadata": {},
   "outputs": [
    {
     "data": {
      "text/plain": [
       "0.8658536585365854"
      ]
     },
     "execution_count": 27,
     "metadata": {},
     "output_type": "execute_result"
    }
   ],
   "source": [
    "from sklearn.metrics import accuracy_score\n",
    "\n",
    "number_of_pairs = len(baseline.test_data)\n",
    "\n",
    "title_a, title_b, desc_a, desc_b, info_a, info_b, sim = batch_classification(baseline.test_data, \n",
    "                                                                             baseline.dup_sets_test, \n",
    "                                                                             number_of_pairs, 1, bug_test_ids)\n",
    "\n",
    "y_true = sim\n",
    "y_scores = model_clf.predict([title_a, title_b, desc_a, desc_b, info_a, info_b])\n",
    "\n",
    "def normalize(row):\n",
    "    return [1 if(r > 0.5) else 0 for r in row]\n",
    "\n",
    "y_scores = list(map(normalize, y_scores))\n",
    "# y_scores\n",
    "def decode_ohe(row):\n",
    "    return 0 if(row[0] == 1) else 1\n",
    "y_scores = [ decode_ohe(r) for r in y_scores ]\n",
    "y_true = [ decode_ohe(r) for r in y_true ]\n",
    "acc_test = accuracy_score(y_true, y_scores)\n",
    "acc_test"
   ]
  },
  {
   "cell_type": "markdown",
   "metadata": {},
   "source": [
    "### Roc AUC/SCORE"
   ]
  },
  {
   "cell_type": "markdown",
   "metadata": {},
   "source": [
    "#### train"
   ]
  },
  {
   "cell_type": "code",
   "execution_count": 28,
   "metadata": {},
   "outputs": [
    {
     "data": {
      "text/plain": [
       "0.9624786376953125"
      ]
     },
     "execution_count": 28,
     "metadata": {},
     "output_type": "execute_result"
    }
   ],
   "source": [
    "from sklearn.metrics import roc_auc_score\n",
    "\n",
    "title_a, title_b, desc_a, desc_b, info_a, info_b, sim = batch_classification(baseline.train_data, \n",
    "                                                                             baseline.dup_sets_train, 512, 1, bug_train_ids)\n",
    "\n",
    "y_true = sim\n",
    "y_scores = model_clf.predict([title_a, title_b, desc_a, desc_b, info_a, info_b])\n",
    "\n",
    "roc_train = roc_auc_score(y_true, y_scores)\n",
    "roc_train"
   ]
  },
  {
   "cell_type": "markdown",
   "metadata": {},
   "source": [
    "#### test"
   ]
  },
  {
   "cell_type": "code",
   "execution_count": 29,
   "metadata": {},
   "outputs": [
    {
     "data": {
      "text/plain": [
       "0.9881684182695485"
      ]
     },
     "execution_count": 29,
     "metadata": {},
     "output_type": "execute_result"
    }
   ],
   "source": [
    "from sklearn.metrics import roc_auc_score\n",
    "\n",
    "number_of_pairs = len(baseline.test_data)\n",
    "\n",
    "title_a, title_b, desc_a, desc_b, info_a, info_b, sim = batch_classification(baseline.test_data, \n",
    "                                                                             baseline.dup_sets_test, \n",
    "                                                                             number_of_pairs, 1, bug_test_ids)\n",
    "\n",
    "y_true = sim\n",
    "y_scores = model_clf.predict([title_a, title_b, desc_a, desc_b, info_a, info_b])\n",
    "\n",
    "roc_test = roc_auc_score(y_true, y_scores)\n",
    "roc_test"
   ]
  },
  {
   "cell_type": "markdown",
   "metadata": {},
   "source": [
    "#### Save the model"
   ]
  },
  {
   "cell_type": "code",
   "execution_count": 30,
   "metadata": {},
   "outputs": [],
   "source": [
    "experiment.save_model(model_clf, SAVE_PATH)"
   ]
  },
  {
   "cell_type": "markdown",
   "metadata": {},
   "source": [
    "#### Saving the accuracy and roc/auc"
   ]
  },
  {
   "cell_type": "code",
   "execution_count": 31,
   "metadata": {},
   "outputs": [
    {
     "name": "stdout",
     "output_type": "stream",
     "text": [
      "All saved.\n"
     ]
    }
   ],
   "source": [
    "import _pickle as pickle\n",
    "\n",
    "CLASSIFICATION_PATH = 'classification_{}.pkl'.format(METHOD)\n",
    "\n",
    "def save_result(result):\n",
    "    result = {\n",
    "        'acc_train' : acc_train,\n",
    "        'acc_test' : acc_test,\n",
    "        'roc_train' : roc_train,\n",
    "        'roc_test' : roc_test,\n",
    "        'method' : METHOD\n",
    "    }\n",
    "\n",
    "    with open(os.path.join(DIR, CLASSIFICATION_PATH), 'wb') as f:\n",
    "        pickle.dump(result, f)\n",
    "\n",
    "try:\n",
    "    with open(os.path.join(DIR, CLASSIFICATION_PATH), 'rb') as f:\n",
    "        result = pickle.load(f)\n",
    "    save_result(result)\n",
    "except:\n",
    "    save_result(result)\n",
    "    \n",
    "print(\"All saved.\")"
   ]
  }
 ],
 "metadata": {
  "kernelspec": {
   "display_name": "Python 3",
   "language": "python",
   "name": "python3"
  },
  "language_info": {
   "codemirror_mode": {
    "name": "ipython",
    "version": 3
   },
   "file_extension": ".py",
   "mimetype": "text/x-python",
   "name": "python",
   "nbconvert_exporter": "python",
   "pygments_lexer": "ipython3",
   "version": "3.5.2"
  }
 },
 "nbformat": 4,
 "nbformat_minor": 2
}
