{
 "cells": [
  {
   "cell_type": "markdown",
   "metadata": {},
   "source": [
    "## Classification using siamese model"
   ]
  },
  {
   "cell_type": "code",
   "execution_count": 1,
   "metadata": {},
   "outputs": [
    {
     "name": "stderr",
     "output_type": "stream",
     "text": [
      "Using TensorFlow backend.\n"
     ]
    }
   ],
   "source": [
    "import keras"
   ]
  },
  {
   "cell_type": "code",
   "execution_count": 2,
   "metadata": {},
   "outputs": [],
   "source": [
    "import re\n",
    "import numpy as np\n",
    "import pandas as pd\n",
    "\n",
    "import os\n",
    "from tqdm import tqdm_notebook as tqdm\n",
    "import matplotlib.pyplot as plt\n",
    "import sys\n",
    "nb_dir = os.path.split(os.getcwd())[0]\n",
    "if nb_dir not in sys.path:\n",
    "    sys.path.append(nb_dir)\n",
    "    \n",
    "%matplotlib inline"
   ]
  },
  {
   "cell_type": "code",
   "execution_count": 3,
   "metadata": {},
   "outputs": [],
   "source": [
    "from methods.baseline import Baseline\n",
    "from methods.experiments import Experiment\n",
    "from methods.evaluation import Evaluation\n",
    "from methods.retrieval import Retrieval"
   ]
  },
  {
   "cell_type": "code",
   "execution_count": 4,
   "metadata": {},
   "outputs": [],
   "source": [
    "from keras.layers import Conv1D, Input, Add, Activation, Dropout, Embedding, MaxPooling1D, GlobalMaxPool1D, Flatten, Dense, Concatenate, BatchNormalization\n",
    "from keras.models import Model"
   ]
  },
  {
   "cell_type": "markdown",
   "metadata": {},
   "source": [
    "## Configurações Globais"
   ]
  },
  {
   "cell_type": "code",
   "execution_count": 5,
   "metadata": {},
   "outputs": [],
   "source": [
    "EMBEDDING_DIM = 300\n",
    "MAX_NB_WORDS = 2000"
   ]
  },
  {
   "cell_type": "code",
   "execution_count": 6,
   "metadata": {},
   "outputs": [],
   "source": [
    "DOMAIN = 'openoffice'\n",
    "METHOD = 'baseline'\n",
    "DIR = 'data/processed/{}'.format(DOMAIN)\n",
    "DATASET = os.path.join('data/normalized/{}'.format(DOMAIN), '{}.csv'.format(DOMAIN))\n",
    "DIR_PAIRS = 'data/normalized/{}'.format(DOMAIN)\n",
    "SAVE_PATH = '{}_classification({})'.format(METHOD, DOMAIN)\n",
    "PRETRAINED_MODEL = 'modelos/model_{}_feature_100epochs_64batch({}).h5'.format(METHOD, DOMAIN)"
   ]
  },
  {
   "cell_type": "code",
   "execution_count": 7,
   "metadata": {
    "scrolled": true
   },
   "outputs": [
    {
     "name": "stderr",
     "output_type": "stream",
     "text": [
      "/usr/local/lib/python3.5/dist-packages/keras/engine/saving.py:292: UserWarning: No training configuration found in save file: the model was *not* compiled. Compile it manually.\n",
      "  warnings.warn('No training configuration found in save file: '\n"
     ]
    }
   ],
   "source": [
    "import keras\n",
    "from keras.models import Model\n",
    "from keras.layers import Input\n",
    "from keras.models import load_model\n",
    "import keras.backend as K\n",
    "\n",
    "K.clear_session()\n",
    "\n",
    "\"\"\"\n",
    "    A lista de modelos estar disponível no diretorio /modelos\n",
    "        name:\n",
    "            - model_baseline_{X}epoch_{Y}steps_({dataset}).h5\n",
    "            - model_baseline_{X}epoch_{Y}steps_({dataset}).json\n",
    "    \n",
    "        Informações adicionais:\n",
    "            {X} - total de épocas treinada. Ex: 100, 1000\n",
    "            {Y} - total de steps validados no treino. Ex: 10, 16\n",
    "            {dataset} - Nome da base testada. Ex: Eclipse, Netbeans, OpenOffice\n",
    "\"\"\"\n",
    "similarity_model = load_model(PRETRAINED_MODEL)"
   ]
  },
  {
   "cell_type": "code",
   "execution_count": 8,
   "metadata": {},
   "outputs": [
    {
     "data": {
      "text/plain": [
       "(100, 500, 738)"
      ]
     },
     "execution_count": 8,
     "metadata": {},
     "output_type": "execute_result"
    }
   ],
   "source": [
    "import keras.backend as K\n",
    "\n",
    "MAX_SEQUENCE_LENGTH_T = K.int_shape(similarity_model.input[0])[1]\n",
    "MAX_SEQUENCE_LENGTH_D = K.int_shape(similarity_model.input[1])[1]\n",
    "MAX_SEQUENCE_LENGTH_I = K.int_shape(similarity_model.input[2])[1]\n",
    "\n",
    "MAX_SEQUENCE_LENGTH_T, MAX_SEQUENCE_LENGTH_D, MAX_SEQUENCE_LENGTH_I"
   ]
  },
  {
   "cell_type": "code",
   "execution_count": 9,
   "metadata": {},
   "outputs": [],
   "source": [
    "baseline = Baseline(DIR, DATASET, MAX_SEQUENCE_LENGTH_T, MAX_SEQUENCE_LENGTH_D)\n",
    "evaluation = Evaluation(verbose=0)\n",
    "retrieval = Retrieval()\n",
    "experiment = Experiment(baseline, evaluation)"
   ]
  },
  {
   "cell_type": "code",
   "execution_count": 10,
   "metadata": {},
   "outputs": [
    {
     "data": {
      "text/plain": [
       "{'bug_severity': 6,\n",
       " 'bug_status': 3,\n",
       " 'component': 144,\n",
       " 'priority': 5,\n",
       " 'product': 41,\n",
       " 'version': 539}"
      ]
     },
     "execution_count": 10,
     "metadata": {},
     "output_type": "execute_result"
    }
   ],
   "source": [
    "baseline.info_dict"
   ]
  },
  {
   "cell_type": "code",
   "execution_count": 11,
   "metadata": {},
   "outputs": [
    {
     "name": "stdout",
     "output_type": "stream",
     "text": [
      "Creating the buckets...\n"
     ]
    },
    {
     "data": {
      "application/vnd.jupyter.widget-view+json": {
       "model_id": "53352e54675e4063b72482f4c09e92c6",
       "version_major": 2,
       "version_minor": 0
      },
      "text/plain": [
       "HBox(children=(IntProgress(value=0, max=83503), HTML(value='')))"
      ]
     },
     "metadata": {},
     "output_type": "display_data"
    },
    {
     "name": "stdout",
     "output_type": "stream",
     "text": [
      "\n"
     ]
    },
    {
     "data": {
      "application/vnd.jupyter.widget-view+json": {
       "model_id": "64c5b36fc75342eb8290397bf4b9719e",
       "version_major": 2,
       "version_minor": 0
      },
      "text/plain": [
       "HBox(children=(IntProgress(value=0, max=14567), HTML(value='')))"
      ]
     },
     "metadata": {},
     "output_type": "display_data"
    },
    {
     "name": "stdout",
     "output_type": "stream",
     "text": [
      "\n"
     ]
    }
   ],
   "source": [
    "experiment.set_retrieval(retrieval, baseline, DOMAIN)"
   ]
  },
  {
   "cell_type": "markdown",
   "metadata": {},
   "source": [
    "#### Loading bug ids in memory"
   ]
  },
  {
   "cell_type": "code",
   "execution_count": 12,
   "metadata": {},
   "outputs": [
    {
     "name": "stdout",
     "output_type": "stream",
     "text": [
      "Reading bug ids\n"
     ]
    },
    {
     "data": {
      "text/plain": [
       "98070"
      ]
     },
     "execution_count": 12,
     "metadata": {},
     "output_type": "execute_result"
    }
   ],
   "source": [
    "experiment.load_ids()\n",
    "len(baseline.bug_ids)"
   ]
  },
  {
   "cell_type": "markdown",
   "metadata": {},
   "source": [
    "#### Loading train bugs"
   ]
  },
  {
   "cell_type": "code",
   "execution_count": 13,
   "metadata": {},
   "outputs": [
    {
     "data": {
      "application/vnd.jupyter.widget-view+json": {
       "model_id": "33ce2f54c29c4c4cb27a0c4a6eb68e27",
       "version_major": 2,
       "version_minor": 0
      },
      "text/plain": [
       "HBox(children=(IntProgress(value=0, max=98070), HTML(value='')))"
      ]
     },
     "metadata": {},
     "output_type": "display_data"
    },
    {
     "name": "stdout",
     "output_type": "stream",
     "text": [
      "\n"
     ]
    },
    {
     "data": {
      "application/vnd.jupyter.widget-view+json": {
       "model_id": "a5124504db15419d90f86a92161bf47c",
       "version_major": 2,
       "version_minor": 0
      },
      "text/plain": [
       "HBox(children=(IntProgress(value=1, bar_style='info', max=1), HTML(value='')))"
      ]
     },
     "metadata": {},
     "output_type": "display_data"
    },
    {
     "name": "stdout",
     "output_type": "stream",
     "text": [
      "\n",
      "CPU times: user 36.7 s, sys: 1.16 s, total: 37.9 s\n",
      "Wall time: 36.8 s\n"
     ]
    }
   ],
   "source": [
    "%%time\n",
    "\n",
    "experiment.load_bugs()"
   ]
  },
  {
   "cell_type": "code",
   "execution_count": 14,
   "metadata": {},
   "outputs": [
    {
     "data": {
      "application/vnd.jupyter.widget-view+json": {
       "model_id": "1ec0d0d86f7247d3b9926638ac4fb36f",
       "version_major": 2,
       "version_minor": 0
      },
      "text/plain": [
       "HBox(children=(IntProgress(value=0, max=83503), HTML(value='')))"
      ]
     },
     "metadata": {},
     "output_type": "display_data"
    },
    {
     "name": "stdout",
     "output_type": "stream",
     "text": [
      "\n",
      "Reading train data\n",
      "Reading bug ids\n",
      "CPU times: user 34 s, sys: 8.05 ms, total: 34 s\n",
      "Wall time: 34 s\n"
     ]
    }
   ],
   "source": [
    "%%time\n",
    "issues_by_buckets = experiment.get_buckets_for_bugs()\n",
    "experiment.prepare_dataset(issues_by_buckets)"
   ]
  },
  {
   "cell_type": "code",
   "execution_count": 15,
   "metadata": {},
   "outputs": [
    {
     "name": "stdout",
     "output_type": "stream",
     "text": [
      "CPU times: user 9.06 ms, sys: 0 ns, total: 9.06 ms\n",
      "Wall time: 9.04 ms\n"
     ]
    }
   ],
   "source": [
    "%%time\n",
    "\n",
    "bug_train_ids = experiment.get_train_ids(baseline.train_data)\n",
    "len(bug_train_ids)"
   ]
  },
  {
   "cell_type": "code",
   "execution_count": 16,
   "metadata": {},
   "outputs": [
    {
     "name": "stdout",
     "output_type": "stream",
     "text": [
      "Reading test data for classification\n",
      "CPU times: user 2.37 s, sys: 0 ns, total: 2.37 s\n",
      "Wall time: 2.37 s\n"
     ]
    }
   ],
   "source": [
    "%%time\n",
    "\n",
    "baseline.test_data, baseline.dup_sets_test = experiment.read_test_data_classification(DIR, baseline.bug_set, bug_train_ids)"
   ]
  },
  {
   "cell_type": "markdown",
   "metadata": {},
   "source": [
    "## Siamese  model"
   ]
  },
  {
   "cell_type": "code",
   "execution_count": 17,
   "metadata": {},
   "outputs": [],
   "source": [
    "# Freeze weights\n",
    "for layer in similarity_model.layers:\n",
    "    layer.trainable = False"
   ]
  },
  {
   "cell_type": "code",
   "execution_count": 18,
   "metadata": {},
   "outputs": [
    {
     "name": "stdout",
     "output_type": "stream",
     "text": [
      "__________________________________________________________________________________________________\n",
      "Layer (type)                    Output Shape         Param #     Connected to                     \n",
      "==================================================================================================\n",
      "info_a (InputLayer)             (None, 738)          0                                            \n",
      "__________________________________________________________________________________________________\n",
      "title_a (InputLayer)            (None, 100)          0                                            \n",
      "__________________________________________________________________________________________________\n",
      "desc_a (InputLayer)             (None, 500)          0                                            \n",
      "__________________________________________________________________________________________________\n",
      "info_b (InputLayer)             (None, 738)          0                                            \n",
      "__________________________________________________________________________________________________\n",
      "title_b (InputLayer)            (None, 100)          0                                            \n",
      "__________________________________________________________________________________________________\n",
      "desc_b (InputLayer)             (None, 500)          0                                            \n",
      "__________________________________________________________________________________________________\n",
      "FeatureMlpGenerationModel (Mode (None, 300)          221700      info_a[0][0]                     \n",
      "                                                                 info_b[0][0]                     \n",
      "__________________________________________________________________________________________________\n",
      "FeatureLstmGenerationModel (Mod (None, 300)          34047700    title_a[0][0]                    \n",
      "                                                                 title_b[0][0]                    \n",
      "__________________________________________________________________________________________________\n",
      "FeatureCNNGenerationModel (Mode (None, 300)          34192092    desc_a[0][0]                     \n",
      "                                                                 desc_b[0][0]                     \n",
      "__________________________________________________________________________________________________\n",
      "merge_features_in (Concatenate) (None, 900)          0           FeatureMlpGenerationModel[2][0]  \n",
      "                                                                 FeatureLstmGenerationModel[2][0] \n",
      "                                                                 FeatureCNNGenerationModel[2][0]  \n",
      "                                                                 FeatureMlpGenerationModel[3][0]  \n",
      "                                                                 FeatureLstmGenerationModel[3][0] \n",
      "                                                                 FeatureCNNGenerationModel[3][0]  \n",
      "__________________________________________________________________________________________________\n",
      "bugs (Concatenate)              (None, 1800)         0           merge_features_in[1][0]          \n",
      "                                                                 merge_features_in[2][0]          \n",
      "__________________________________________________________________________________________________\n",
      "dense_1 (Dense)                 (None, 128)          230528      bugs[0][0]                       \n",
      "__________________________________________________________________________________________________\n",
      "dropout_1 (Dropout)             (None, 128)          0           dense_1[0][0]                    \n",
      "__________________________________________________________________________________________________\n",
      "activation_1 (Activation)       (None, 128)          0           dropout_1[0][0]                  \n",
      "__________________________________________________________________________________________________\n",
      "dense_2 (Dense)                 (None, 128)          16512       activation_1[0][0]               \n",
      "__________________________________________________________________________________________________\n",
      "dropout_2 (Dropout)             (None, 128)          0           dense_2[0][0]                    \n",
      "__________________________________________________________________________________________________\n",
      "activation_2 (Activation)       (None, 128)          0           dropout_2[0][0]                  \n",
      "__________________________________________________________________________________________________\n",
      "output (Dense)                  (None, 2)            258         activation_2[0][0]               \n",
      "==================================================================================================\n",
      "Total params: 68,708,790\n",
      "Trainable params: 247,298\n",
      "Non-trainable params: 68,461,492\n",
      "__________________________________________________________________________________________________\n"
     ]
    }
   ],
   "source": [
    "from keras.layers import concatenate, Dropout, Add\n",
    "\n",
    "bug_t_a = Input(shape = (MAX_SEQUENCE_LENGTH_T, ), name = 'title_a')\n",
    "bug_t_b = Input(shape = (MAX_SEQUENCE_LENGTH_T, ), name = 'title_b')\n",
    "\n",
    "bug_d_a = Input(shape = (MAX_SEQUENCE_LENGTH_D, ), name = 'desc_a')\n",
    "bug_d_b = Input(shape = (MAX_SEQUENCE_LENGTH_D, ), name = 'desc_b')\n",
    "\n",
    "bug_i_a = Input(shape = (MAX_SEQUENCE_LENGTH_I, ), name = 'info_a')\n",
    "bug_i_b = Input(shape = (MAX_SEQUENCE_LENGTH_I, ), name = 'info_b')\n",
    "\n",
    "title_encoder = similarity_model.get_layer('FeatureLstmGenerationModel')\n",
    "desc_encoder = similarity_model.get_layer('FeatureCNNGenerationModel')\n",
    "info_encoder = similarity_model.get_layer('FeatureMlpGenerationModel')\n",
    "\n",
    "model = similarity_model.get_layer('merge_features_in')\n",
    "\n",
    "# Bug A\n",
    "bugt_t_a = title_encoder(bug_t_a)\n",
    "bugt_d_a = desc_encoder(bug_d_a)\n",
    "bugt_i_a = info_encoder(bug_i_a)\n",
    "# Bug B\n",
    "bugt_t_b = title_encoder(bug_t_b)\n",
    "bugt_d_b = desc_encoder(bug_d_b)\n",
    "bugt_i_b = info_encoder(bug_i_b)\n",
    "\n",
    "bug_a = model([bugt_i_a, bugt_t_a, bugt_d_a])\n",
    "bug_b = model([bugt_i_b, bugt_t_b, bugt_d_b])\n",
    "\n",
    "x = concatenate([bug_a, bug_b], name='bugs') # \n",
    "\n",
    "for _ in range(2):\n",
    "    x = Dense(128)(x)\n",
    "    x = Dropout(0.75)(x)\n",
    "    x = Activation('tanh')(x)\n",
    "    # x = BatchNormalization()(x)\n",
    "\n",
    "output = Dense(2, activation = 'softmax', name = 'output')(x)\n",
    "\n",
    "model_clf = Model(inputs=[bug_t_a, bug_t_b, bug_d_a, bug_d_b, bug_i_a, bug_i_b], outputs=[output])\n",
    "\n",
    "#adam = keras.optimizers.Adam(lr=0.005, beta_1=0.9, beta_2=0.999, epsilon=None, decay=0.1, amsgrad=False)\n",
    "\n",
    "model_clf.compile(optimizer='adam', loss='binary_crossentropy', metrics = ['accuracy'])\n",
    "model_clf.summary()"
   ]
  },
  {
   "cell_type": "code",
   "execution_count": 19,
   "metadata": {},
   "outputs": [],
   "source": [
    "from keras.utils import to_categorical\n",
    "from sklearn.preprocessing import LabelEncoder\n",
    "\n",
    "def batch_classification(train, dup_sets, batch_size, n_neg, bug_ids):\n",
    "    encoder = LabelEncoder()\n",
    "    batch_size_normalized = batch_size // 2\n",
    "    batch_triplet, input_sample, input_pos, input_neg, sim = baseline.batch_iterator(train, dup_sets, bug_ids, \n",
    "                                                                                     batch_size_normalized, n_neg)\n",
    "    \n",
    "    pos = np.full((1, batch_size_normalized), 1)\n",
    "    neg = np.full((1, batch_size_normalized), 0)\n",
    "    sim = np.concatenate([pos, neg], -1)[0]\n",
    "    \n",
    "    sim = encoder.fit_transform(sim)\n",
    "    sim = to_categorical(sim)\n",
    "\n",
    "    title_a = np.concatenate([input_sample['title'], input_sample['title']])\n",
    "    title_b = np.concatenate([input_pos['title'], input_neg['title']])\n",
    "    desc_a = np.concatenate([input_sample['description'], input_sample['description']])\n",
    "    desc_b = np.concatenate([input_pos['description'], input_neg['description']])\n",
    "    info_a = np.concatenate([input_sample['info'], input_sample['info']])\n",
    "    info_b = np.concatenate([input_pos['info'], input_neg['info']])\n",
    "    \n",
    "    return title_a, title_b, desc_a, desc_b, info_a, info_b, sim\n",
    "\n",
    "def batch_classification_siamese(train, dup_sets, batch_size, n_neg, bug_ids):\n",
    "    while True:\n",
    "        title_a, title_b, desc_a, desc_b, info_a, info_b, sim = batch_classification(train, dup_sets, batch_size, \n",
    "                                                                                     n_neg, bug_ids)\n",
    "        \n",
    "        yield ({ 'title_a' : title_a, 'title_b': title_b, \n",
    "        'desc_a' : desc_a, 'desc_b' : desc_b, 'info_a' : info_a, 'info_b' : info_b }, sim)"
   ]
  },
  {
   "cell_type": "code",
   "execution_count": 20,
   "metadata": {},
   "outputs": [],
   "source": [
    "title_a, title_b, desc_a, desc_b, info_a, info_b, sim = batch_classification(baseline.train_data, \n",
    "                                                                             baseline.dup_sets_train,\n",
    "                                                                             512, 1)\n",
    "test_validation = ({ 'title_a' : title_a, 'title_b': title_b, \n",
    "        'desc_a' : desc_a, 'desc_b' : desc_b, 'info_a' : info_a, 'info_b' : info_b }, sim)"
   ]
  },
  {
   "cell_type": "code",
   "execution_count": null,
   "metadata": {},
   "outputs": [],
   "source": [
    "bug_train_ids = experiment.get_train_ids(baseline.train_data)"
   ]
  },
  {
   "cell_type": "code",
   "execution_count": null,
   "metadata": {},
   "outputs": [],
   "source": [
    "bug_test_ids = experiment.get_train_ids(baseline.test_data)"
   ]
  },
  {
   "cell_type": "code",
   "execution_count": 21,
   "metadata": {
    "scrolled": true
   },
   "outputs": [
    {
     "name": "stdout",
     "output_type": "stream",
     "text": [
      "Epoch 1/100\n",
      "10/10 [==============================] - 4s 424ms/step - loss: 0.6717 - acc: 0.5951 - val_loss: 0.6402 - val_acc: 0.6934\n",
      "Epoch 2/100\n",
      "10/10 [==============================] - 2s 250ms/step - loss: 0.6326 - acc: 0.6686 - val_loss: 0.6433 - val_acc: 0.6953\n",
      "Epoch 3/100\n",
      "10/10 [==============================] - 3s 273ms/step - loss: 0.6254 - acc: 0.6770 - val_loss: 0.6415 - val_acc: 0.7012\n",
      "Epoch 4/100\n",
      "10/10 [==============================] - 3s 275ms/step - loss: 0.6136 - acc: 0.6886 - val_loss: 0.6447 - val_acc: 0.6992\n",
      "Epoch 5/100\n",
      "10/10 [==============================] - 3s 269ms/step - loss: 0.6005 - acc: 0.6965 - val_loss: 0.6640 - val_acc: 0.7051\n",
      "Epoch 6/100\n",
      "10/10 [==============================] - 3s 275ms/step - loss: 0.5944 - acc: 0.7014 - val_loss: 0.6740 - val_acc: 0.7109\n",
      "Epoch 7/100\n",
      "10/10 [==============================] - 3s 278ms/step - loss: 0.5929 - acc: 0.7066 - val_loss: 0.6712 - val_acc: 0.7090\n",
      "Epoch 8/100\n",
      "10/10 [==============================] - 3s 254ms/step - loss: 0.5880 - acc: 0.7145 - val_loss: 0.6721 - val_acc: 0.7148\n",
      "Epoch 9/100\n",
      "10/10 [==============================] - 3s 255ms/step - loss: 0.5832 - acc: 0.7169 - val_loss: 0.6711 - val_acc: 0.7168\n",
      "Epoch 10/100\n",
      "10/10 [==============================] - 3s 274ms/step - loss: 0.5742 - acc: 0.7263 - val_loss: 0.6770 - val_acc: 0.7148\n",
      "Epoch 11/100\n",
      "10/10 [==============================] - 3s 269ms/step - loss: 0.5689 - acc: 0.7225 - val_loss: 0.6697 - val_acc: 0.7129\n",
      "Epoch 12/100\n",
      "10/10 [==============================] - 3s 279ms/step - loss: 0.5598 - acc: 0.7340 - val_loss: 0.6785 - val_acc: 0.7090\n",
      "Epoch 13/100\n",
      "10/10 [==============================] - 3s 261ms/step - loss: 0.5643 - acc: 0.7302 - val_loss: 0.6747 - val_acc: 0.7188\n",
      "Epoch 14/100\n",
      "10/10 [==============================] - 3s 272ms/step - loss: 0.5542 - acc: 0.7406 - val_loss: 0.6925 - val_acc: 0.7188\n",
      "Epoch 15/100\n",
      "10/10 [==============================] - 3s 267ms/step - loss: 0.5566 - acc: 0.7284 - val_loss: 0.6785 - val_acc: 0.7227\n",
      "Epoch 16/100\n",
      "10/10 [==============================] - 3s 267ms/step - loss: 0.5506 - acc: 0.7353 - val_loss: 0.6742 - val_acc: 0.7188\n",
      "Epoch 17/100\n",
      "10/10 [==============================] - 3s 267ms/step - loss: 0.5439 - acc: 0.7396 - val_loss: 0.6957 - val_acc: 0.7207\n",
      "Epoch 18/100\n",
      "10/10 [==============================] - 3s 268ms/step - loss: 0.5385 - acc: 0.7456 - val_loss: 0.6809 - val_acc: 0.7207\n",
      "Epoch 19/100\n",
      "10/10 [==============================] - 3s 262ms/step - loss: 0.5383 - acc: 0.7429 - val_loss: 0.6943 - val_acc: 0.7207\n",
      "Epoch 20/100\n",
      "10/10 [==============================] - 3s 267ms/step - loss: 0.5276 - acc: 0.7590 - val_loss: 0.6915 - val_acc: 0.7207\n",
      "Epoch 21/100\n",
      "10/10 [==============================] - 3s 274ms/step - loss: 0.5250 - acc: 0.7554 - val_loss: 0.6917 - val_acc: 0.7168\n",
      "Epoch 22/100\n",
      "10/10 [==============================] - 3s 272ms/step - loss: 0.5335 - acc: 0.7493 - val_loss: 0.6784 - val_acc: 0.7227\n",
      "Epoch 23/100\n",
      "10/10 [==============================] - 3s 278ms/step - loss: 0.5172 - acc: 0.7627 - val_loss: 0.6791 - val_acc: 0.7207\n",
      "Epoch 24/100\n",
      "10/10 [==============================] - 3s 274ms/step - loss: 0.5243 - acc: 0.7553 - val_loss: 0.6700 - val_acc: 0.7266\n",
      "Epoch 25/100\n",
      "10/10 [==============================] - 3s 259ms/step - loss: 0.5119 - acc: 0.7661 - val_loss: 0.6786 - val_acc: 0.7285\n",
      "Epoch 26/100\n",
      "10/10 [==============================] - 3s 264ms/step - loss: 0.5138 - acc: 0.7624 - val_loss: 0.6797 - val_acc: 0.7324\n",
      "Epoch 27/100\n",
      "10/10 [==============================] - 3s 270ms/step - loss: 0.5038 - acc: 0.7730 - val_loss: 0.6712 - val_acc: 0.7285\n",
      "Epoch 28/100\n",
      "10/10 [==============================] - 3s 272ms/step - loss: 0.5035 - acc: 0.7693 - val_loss: 0.6911 - val_acc: 0.7305\n",
      "Epoch 29/100\n",
      "10/10 [==============================] - 3s 268ms/step - loss: 0.5068 - acc: 0.7673 - val_loss: 0.6540 - val_acc: 0.7363\n",
      "Epoch 30/100\n",
      "10/10 [==============================] - 3s 265ms/step - loss: 0.4943 - acc: 0.7791 - val_loss: 0.6824 - val_acc: 0.7402\n",
      "Epoch 31/100\n",
      "10/10 [==============================] - 3s 273ms/step - loss: 0.4984 - acc: 0.7727 - val_loss: 0.6952 - val_acc: 0.7480\n",
      "Epoch 32/100\n",
      "10/10 [==============================] - 3s 284ms/step - loss: 0.4915 - acc: 0.7771 - val_loss: 0.6702 - val_acc: 0.7480\n",
      "Epoch 33/100\n",
      "10/10 [==============================] - 3s 269ms/step - loss: 0.4967 - acc: 0.7727 - val_loss: 0.6626 - val_acc: 0.7441\n",
      "Epoch 34/100\n",
      "10/10 [==============================] - 3s 269ms/step - loss: 0.4902 - acc: 0.7761 - val_loss: 0.6706 - val_acc: 0.7422\n",
      "Epoch 35/100\n",
      "10/10 [==============================] - 3s 277ms/step - loss: 0.4773 - acc: 0.7871 - val_loss: 0.6736 - val_acc: 0.7422\n",
      "Epoch 36/100\n",
      "10/10 [==============================] - 3s 269ms/step - loss: 0.4834 - acc: 0.7878 - val_loss: 0.6943 - val_acc: 0.7383\n",
      "Epoch 37/100\n",
      "10/10 [==============================] - 3s 270ms/step - loss: 0.4889 - acc: 0.7798 - val_loss: 0.6716 - val_acc: 0.7441\n",
      "Epoch 38/100\n",
      "10/10 [==============================] - 3s 267ms/step - loss: 0.4862 - acc: 0.7836 - val_loss: 0.6689 - val_acc: 0.7441\n",
      "Epoch 39/100\n",
      "10/10 [==============================] - 3s 269ms/step - loss: 0.4832 - acc: 0.7856 - val_loss: 0.6797 - val_acc: 0.7500\n",
      "Epoch 40/100\n",
      "10/10 [==============================] - 3s 268ms/step - loss: 0.4866 - acc: 0.7821 - val_loss: 0.6863 - val_acc: 0.7461\n",
      "Epoch 41/100\n",
      "10/10 [==============================] - 3s 275ms/step - loss: 0.4842 - acc: 0.7832 - val_loss: 0.6886 - val_acc: 0.7422\n",
      "Epoch 42/100\n",
      "10/10 [==============================] - 3s 271ms/step - loss: 0.4665 - acc: 0.7971 - val_loss: 0.6851 - val_acc: 0.7441\n",
      "Epoch 43/100\n",
      "10/10 [==============================] - 3s 264ms/step - loss: 0.4775 - acc: 0.7883 - val_loss: 0.6987 - val_acc: 0.7480\n",
      "Epoch 44/100\n",
      "10/10 [==============================] - 3s 264ms/step - loss: 0.4723 - acc: 0.7920 - val_loss: 0.6938 - val_acc: 0.7422\n",
      "Epoch 45/100\n",
      "10/10 [==============================] - 3s 268ms/step - loss: 0.4769 - acc: 0.7894 - val_loss: 0.6753 - val_acc: 0.7500\n",
      "Epoch 46/100\n",
      "10/10 [==============================] - 3s 276ms/step - loss: 0.4803 - acc: 0.7863 - val_loss: 0.7203 - val_acc: 0.7461\n",
      "Epoch 47/100\n",
      "10/10 [==============================] - 3s 262ms/step - loss: 0.4743 - acc: 0.7901 - val_loss: 0.7004 - val_acc: 0.7422\n",
      "Epoch 48/100\n",
      "10/10 [==============================] - 3s 266ms/step - loss: 0.4713 - acc: 0.7929 - val_loss: 0.6651 - val_acc: 0.7578\n",
      "Epoch 49/100\n",
      "10/10 [==============================] - 3s 277ms/step - loss: 0.4796 - acc: 0.7848 - val_loss: 0.7185 - val_acc: 0.7402\n",
      "Epoch 50/100\n",
      "10/10 [==============================] - 3s 267ms/step - loss: 0.4647 - acc: 0.7958 - val_loss: 0.6955 - val_acc: 0.7441\n",
      "Epoch 51/100\n",
      "10/10 [==============================] - 3s 276ms/step - loss: 0.4685 - acc: 0.7940 - val_loss: 0.6980 - val_acc: 0.7461\n",
      "Epoch 52/100\n",
      "10/10 [==============================] - 3s 275ms/step - loss: 0.4717 - acc: 0.7947 - val_loss: 0.7023 - val_acc: 0.7480\n",
      "Epoch 53/100\n",
      "10/10 [==============================] - 3s 273ms/step - loss: 0.4622 - acc: 0.7933 - val_loss: 0.7261 - val_acc: 0.7441\n",
      "Epoch 54/100\n",
      "10/10 [==============================] - 3s 275ms/step - loss: 0.4584 - acc: 0.7959 - val_loss: 0.7161 - val_acc: 0.7461\n",
      "Epoch 55/100\n",
      "10/10 [==============================] - 3s 280ms/step - loss: 0.4689 - acc: 0.7954 - val_loss: 0.7046 - val_acc: 0.7539\n",
      "Epoch 56/100\n",
      "10/10 [==============================] - 3s 269ms/step - loss: 0.4617 - acc: 0.8016 - val_loss: 0.7341 - val_acc: 0.7461\n",
      "Epoch 57/100\n",
      "10/10 [==============================] - 3s 269ms/step - loss: 0.4689 - acc: 0.7924 - val_loss: 0.7243 - val_acc: 0.7441\n",
      "Epoch 58/100\n",
      "10/10 [==============================] - 3s 262ms/step - loss: 0.4592 - acc: 0.8011 - val_loss: 0.7321 - val_acc: 0.7402\n",
      "Epoch 59/100\n",
      "10/10 [==============================] - 3s 274ms/step - loss: 0.4625 - acc: 0.8019 - val_loss: 0.7179 - val_acc: 0.7461\n",
      "Epoch 60/100\n",
      "10/10 [==============================] - 3s 278ms/step - loss: 0.4605 - acc: 0.8016 - val_loss: 0.7101 - val_acc: 0.7480\n",
      "Epoch 61/100\n",
      "10/10 [==============================] - 3s 275ms/step - loss: 0.4613 - acc: 0.7991 - val_loss: 0.7306 - val_acc: 0.7500\n",
      "Epoch 62/100\n",
      "10/10 [==============================] - 3s 261ms/step - loss: 0.4608 - acc: 0.7978 - val_loss: 0.7226 - val_acc: 0.7480\n",
      "Epoch 63/100\n",
      "10/10 [==============================] - 3s 266ms/step - loss: 0.4462 - acc: 0.8071 - val_loss: 0.7239 - val_acc: 0.7461\n",
      "Epoch 64/100\n",
      "10/10 [==============================] - 3s 278ms/step - loss: 0.4585 - acc: 0.8003 - val_loss: 0.7409 - val_acc: 0.7480\n",
      "Epoch 65/100\n",
      "10/10 [==============================] - 3s 268ms/step - loss: 0.4590 - acc: 0.7959 - val_loss: 0.7076 - val_acc: 0.7539\n",
      "Epoch 66/100\n",
      "10/10 [==============================] - 3s 258ms/step - loss: 0.4426 - acc: 0.8103 - val_loss: 0.7345 - val_acc: 0.7480\n",
      "Epoch 67/100\n",
      "10/10 [==============================] - 3s 270ms/step - loss: 0.4594 - acc: 0.8018 - val_loss: 0.7188 - val_acc: 0.7500\n",
      "Epoch 68/100\n",
      "10/10 [==============================] - 3s 274ms/step - loss: 0.4507 - acc: 0.8088 - val_loss: 0.7477 - val_acc: 0.7500\n",
      "Epoch 69/100\n",
      "10/10 [==============================] - 3s 271ms/step - loss: 0.4513 - acc: 0.8068 - val_loss: 0.7416 - val_acc: 0.7480\n",
      "Epoch 70/100\n",
      "10/10 [==============================] - 3s 263ms/step - loss: 0.4554 - acc: 0.8022 - val_loss: 0.7152 - val_acc: 0.7539\n",
      "Epoch 71/100\n",
      "10/10 [==============================] - 3s 276ms/step - loss: 0.4559 - acc: 0.8036 - val_loss: 0.7409 - val_acc: 0.7578\n",
      "Epoch 72/100\n",
      "10/10 [==============================] - 3s 269ms/step - loss: 0.4544 - acc: 0.8018 - val_loss: 0.7607 - val_acc: 0.7520\n",
      "Epoch 73/100\n",
      "10/10 [==============================] - 3s 271ms/step - loss: 0.4587 - acc: 0.8035 - val_loss: 0.7462 - val_acc: 0.7500\n",
      "Epoch 74/100\n",
      "10/10 [==============================] - 3s 279ms/step - loss: 0.4513 - acc: 0.8042 - val_loss: 0.7491 - val_acc: 0.7520\n",
      "Epoch 75/100\n",
      "10/10 [==============================] - 3s 276ms/step - loss: 0.4533 - acc: 0.8101 - val_loss: 0.7467 - val_acc: 0.7520\n",
      "Epoch 76/100\n",
      "10/10 [==============================] - 3s 271ms/step - loss: 0.4451 - acc: 0.8110 - val_loss: 0.7686 - val_acc: 0.7520\n",
      "Epoch 77/100\n",
      "10/10 [==============================] - 3s 272ms/step - loss: 0.4501 - acc: 0.8080 - val_loss: 0.7846 - val_acc: 0.7500\n",
      "Epoch 78/100\n",
      "10/10 [==============================] - 3s 273ms/step - loss: 0.4526 - acc: 0.8007 - val_loss: 0.7621 - val_acc: 0.7539\n",
      "Epoch 79/100\n",
      "10/10 [==============================] - 3s 271ms/step - loss: 0.4492 - acc: 0.8075 - val_loss: 0.7789 - val_acc: 0.7461\n",
      "Epoch 80/100\n",
      "10/10 [==============================] - 3s 263ms/step - loss: 0.4497 - acc: 0.8083 - val_loss: 0.7673 - val_acc: 0.7461\n",
      "Epoch 81/100\n",
      "10/10 [==============================] - 3s 279ms/step - loss: 0.4549 - acc: 0.8027 - val_loss: 0.7559 - val_acc: 0.7520\n",
      "Epoch 82/100\n",
      "10/10 [==============================] - 3s 276ms/step - loss: 0.4390 - acc: 0.8116 - val_loss: 0.7731 - val_acc: 0.7539\n",
      "Epoch 83/100\n",
      "10/10 [==============================] - 3s 278ms/step - loss: 0.4530 - acc: 0.8043 - val_loss: 0.7589 - val_acc: 0.7461\n",
      "Epoch 84/100\n",
      "10/10 [==============================] - 3s 266ms/step - loss: 0.4486 - acc: 0.8056 - val_loss: 0.7732 - val_acc: 0.7480\n",
      "Epoch 85/100\n",
      "10/10 [==============================] - 3s 276ms/step - loss: 0.4476 - acc: 0.8067 - val_loss: 0.7653 - val_acc: 0.7520\n",
      "Epoch 86/100\n",
      "10/10 [==============================] - 3s 277ms/step - loss: 0.4428 - acc: 0.8066 - val_loss: 0.7859 - val_acc: 0.7500\n",
      "Epoch 87/100\n",
      "10/10 [==============================] - 3s 271ms/step - loss: 0.4484 - acc: 0.8040 - val_loss: 0.7874 - val_acc: 0.7520\n",
      "Epoch 88/100\n",
      "10/10 [==============================] - 3s 277ms/step - loss: 0.4472 - acc: 0.8096 - val_loss: 0.7845 - val_acc: 0.7500\n",
      "Epoch 89/100\n",
      "10/10 [==============================] - 3s 278ms/step - loss: 0.4501 - acc: 0.8093 - val_loss: 0.7650 - val_acc: 0.7598\n",
      "Epoch 90/100\n",
      "10/10 [==============================] - 3s 267ms/step - loss: 0.4328 - acc: 0.8169 - val_loss: 0.7819 - val_acc: 0.7656\n",
      "Epoch 91/100\n",
      "10/10 [==============================] - 3s 265ms/step - loss: 0.4393 - acc: 0.8130 - val_loss: 0.8020 - val_acc: 0.7559\n",
      "Epoch 92/100\n",
      "10/10 [==============================] - 3s 268ms/step - loss: 0.4407 - acc: 0.8120 - val_loss: 0.7839 - val_acc: 0.7520\n",
      "Epoch 93/100\n",
      "10/10 [==============================] - 3s 270ms/step - loss: 0.4420 - acc: 0.8119 - val_loss: 0.7784 - val_acc: 0.7559\n",
      "Epoch 94/100\n",
      "10/10 [==============================] - 3s 274ms/step - loss: 0.4472 - acc: 0.8090 - val_loss: 0.7952 - val_acc: 0.7559\n",
      "Epoch 95/100\n",
      "10/10 [==============================] - 3s 268ms/step - loss: 0.4498 - acc: 0.8055 - val_loss: 0.7786 - val_acc: 0.7520\n",
      "Epoch 96/100\n",
      "10/10 [==============================] - 3s 268ms/step - loss: 0.4481 - acc: 0.8082 - val_loss: 0.7693 - val_acc: 0.7520\n",
      "Epoch 97/100\n",
      "10/10 [==============================] - 3s 272ms/step - loss: 0.4481 - acc: 0.8105 - val_loss: 0.7691 - val_acc: 0.7539\n",
      "Epoch 98/100\n",
      "10/10 [==============================] - 3s 269ms/step - loss: 0.4424 - acc: 0.8112 - val_loss: 0.7953 - val_acc: 0.7539\n",
      "Epoch 99/100\n",
      "10/10 [==============================] - 3s 268ms/step - loss: 0.4280 - acc: 0.8172 - val_loss: 0.8164 - val_acc: 0.7500\n",
      "Epoch 100/100\n",
      "10/10 [==============================] - 3s 260ms/step - loss: 0.4355 - acc: 0.8168 - val_loss: 0.7971 - val_acc: 0.7520\n",
      "CPU times: user 7min 21s, sys: 1min 11s, total: 8min 32s\n",
      "Wall time: 4min 32s\n"
     ]
    }
   ],
   "source": [
    "%%time\n",
    "\n",
    "early = keras.callbacks.EarlyStopping(monitor='val_loss', patience=15, verbose=1, mode='auto')\n",
    "\n",
    "h_clf = model_clf.fit_generator(batch_classification_siamese(baseline.train_data, baseline.dup_sets_train, 1024, \n",
    "                                                             1, bug_train_ids), \n",
    "                               steps_per_epoch = 10,\n",
    "                               validation_data=test_validation,\n",
    "                                             epochs = 100,\n",
    "#                                              callbacks=[early],\n",
    "                                             verbose = True) "
   ]
  },
  {
   "cell_type": "code",
   "execution_count": 22,
   "metadata": {
    "scrolled": false
   },
   "outputs": [
    {
     "data": {
      "image/png": "[encoded data removed]",
      "text/plain": [
       "<Figure size 432x288 with 1 Axes>"
      ]
     },
     "metadata": {
      "needs_background": "light"
     },
     "output_type": "display_data"
    },
    {
     "data": {
      "image/png": "[encoded data removed]",
      "text/plain": [
       "<Figure size 432x288 with 1 Axes>"
      ]
     },
     "metadata": {
      "needs_background": "light"
     },
     "output_type": "display_data"
    }
   ],
   "source": [
    "Baseline.validation_accuracy_loss(h_clf)"
   ]
  },
  {
   "cell_type": "markdown",
   "metadata": {},
   "source": [
    "### Accuracy"
   ]
  },
  {
   "cell_type": "code",
   "execution_count": 23,
   "metadata": {},
   "outputs": [],
   "source": [
    "result = { }"
   ]
  },
  {
   "cell_type": "markdown",
   "metadata": {},
   "source": [
    "#### train"
   ]
  },
  {
   "cell_type": "code",
   "execution_count": 24,
   "metadata": {},
   "outputs": [
    {
     "data": {
      "text/plain": [
       "0.74609375"
      ]
     },
     "execution_count": 24,
     "metadata": {},
     "output_type": "execute_result"
    }
   ],
   "source": [
    "from sklearn.metrics import accuracy_score\n",
    "\n",
    "title_a, title_b, desc_a, desc_b, info_a, info_b, sim = batch_classification(baseline.train_data, \n",
    "                                                                             baseline.dup_sets_train, bug_train_ids, 512, 1)\n",
    "\n",
    "y_true = sim\n",
    "y_scores = model_clf.predict([title_a, title_b, desc_a, desc_b, info_a, info_b])\n",
    "\n",
    "def normalize(row):\n",
    "    return [1 if(r > 0.5) else 0 for r in row]\n",
    "\n",
    "y_scores = list(map(normalize, y_scores))\n",
    "# y_scores\n",
    "def decode_ohe(row):\n",
    "    return 0 if(row[0] == 1) else 1\n",
    "y_scores = [ decode_ohe(r) for r in y_scores ]\n",
    "y_true = [ decode_ohe(r) for r in y_true ]\n",
    "acc_train = accuracy_score(y_true, y_scores)\n",
    "acc_train"
   ]
  },
  {
   "cell_type": "markdown",
   "metadata": {},
   "source": [
    "#### test"
   ]
  },
  {
   "cell_type": "code",
   "execution_count": 25,
   "metadata": {},
   "outputs": [
    {
     "data": {
      "text/plain": [
       "0.672645739910314"
      ]
     },
     "execution_count": 25,
     "metadata": {},
     "output_type": "execute_result"
    }
   ],
   "source": [
    "from sklearn.metrics import accuracy_score\n",
    "\n",
    "number_of_pairs = len(baseline.test_data)\n",
    "\n",
    "title_a, title_b, desc_a, desc_b, info_a, info_b, sim = batch_classification(baseline.test_data, \n",
    "                                                                             baseline.dup_sets_test, \n",
    "                                                                             bug_test_ids, number_of_pairs, 1)\n",
    "\n",
    "y_true = sim\n",
    "y_scores = model_clf.predict([title_a, title_b, desc_a, desc_b, info_a, info_b])\n",
    "\n",
    "def normalize(row):\n",
    "    return [1 if(r > 0.5) else 0 for r in row]\n",
    "\n",
    "y_scores = list(map(normalize, y_scores))\n",
    "# y_scores\n",
    "def decode_ohe(row):\n",
    "    return 0 if(row[0] == 1) else 1\n",
    "y_scores = [ decode_ohe(r) for r in y_scores ]\n",
    "y_true = [ decode_ohe(r) for r in y_true ]\n",
    "acc_test = accuracy_score(y_true, y_scores)\n",
    "acc_test"
   ]
  },
  {
   "cell_type": "markdown",
   "metadata": {},
   "source": [
    "### Roc AUC/SCORE"
   ]
  },
  {
   "cell_type": "markdown",
   "metadata": {},
   "source": [
    "#### train"
   ]
  },
  {
   "cell_type": "code",
   "execution_count": 26,
   "metadata": {},
   "outputs": [
    {
     "data": {
      "text/plain": [
       "0.8762054443359375"
      ]
     },
     "execution_count": 26,
     "metadata": {},
     "output_type": "execute_result"
    }
   ],
   "source": [
    "from sklearn.metrics import roc_auc_score\n",
    "\n",
    "title_a, title_b, desc_a, desc_b, info_a, info_b, sim = batch_classification(baseline.train_data, \n",
    "                                                                             baseline.dup_sets_train, bug_train_ids, 512, 1)\n",
    "\n",
    "y_true = sim\n",
    "y_scores = model_clf.predict([title_a, title_b, desc_a, desc_b, info_a, info_b])\n",
    "\n",
    "roc_train = roc_auc_score(y_true, y_scores)\n",
    "roc_train"
   ]
  },
  {
   "cell_type": "markdown",
   "metadata": {},
   "source": [
    "#### test"
   ]
  },
  {
   "cell_type": "code",
   "execution_count": 27,
   "metadata": {},
   "outputs": [
    {
     "data": {
      "text/plain": [
       "0.8699953749321321"
      ]
     },
     "execution_count": 27,
     "metadata": {},
     "output_type": "execute_result"
    }
   ],
   "source": [
    "from sklearn.metrics import roc_auc_score\n",
    "\n",
    "number_of_pairs = len(baseline.test_data)\n",
    "\n",
    "title_a, title_b, desc_a, desc_b, info_a, info_b, sim = batch_classification(baseline.test_data, \n",
    "                                                                             baseline.dup_sets_test, \n",
    "                                                                             bug_test_ids, number_of_pairs, 1)\n",
    "\n",
    "y_true = sim\n",
    "y_scores = model_clf.predict([title_a, title_b, desc_a, desc_b, info_a, info_b])\n",
    "\n",
    "roc_test = roc_auc_score(y_true, y_scores)\n",
    "roc_test"
   ]
  },
  {
   "cell_type": "markdown",
   "metadata": {},
   "source": [
    "#### Save the model"
   ]
  },
  {
   "cell_type": "code",
   "execution_count": 28,
   "metadata": {},
   "outputs": [],
   "source": [
    "experiment.save_model(model_clf, SAVE_PATH)"
   ]
  },
  {
   "cell_type": "markdown",
   "metadata": {},
   "source": [
    "#### Saving the accuracy and roc/auc"
   ]
  },
  {
   "cell_type": "code",
   "execution_count": 29,
   "metadata": {},
   "outputs": [
    {
     "name": "stdout",
     "output_type": "stream",
     "text": [
      "All saved.\n"
     ]
    }
   ],
   "source": [
    "import _pickle as pickle\n",
    "\n",
    "CLASSIFICATION_PATH = 'classification_{}.pkl'.format(METHOD)\n",
    "\n",
    "def save_result(result):\n",
    "    result = {\n",
    "        'acc_train' : acc_train,\n",
    "        'acc_test' : acc_test,\n",
    "        'roc_train' : roc_train,\n",
    "        'roc_test' : roc_test,\n",
    "        'method' : METHOD\n",
    "    }\n",
    "\n",
    "    with open(os.path.join(DIR, CLASSIFICATION_PATH), 'wb') as f:\n",
    "        pickle.dump(result, f)\n",
    "\n",
    "try:\n",
    "    with open(os.path.join(DIR, CLASSIFICATION_PATH), 'rb') as f:\n",
    "        result = pickle.load(f)\n",
    "    save_result(result)\n",
    "except:\n",
    "    save_result(result)\n",
    "    \n",
    "print(\"All saved.\")"
   ]
  }
 ],
 "metadata": {
  "kernelspec": {
   "display_name": "Python 3",
   "language": "python",
   "name": "python3"
  },
  "language_info": {
   "codemirror_mode": {
    "name": "ipython",
    "version": 3
   },
   "file_extension": ".py",
   "mimetype": "text/x-python",
   "name": "python",
   "nbconvert_exporter": "python",
   "pygments_lexer": "ipython3",
   "version": "3.5.2"
  }
 },
 "nbformat": 4,
 "nbformat_minor": 2
}
