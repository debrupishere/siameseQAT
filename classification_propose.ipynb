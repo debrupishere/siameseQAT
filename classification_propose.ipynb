{
 "cells": [
  {
   "cell_type": "markdown",
   "metadata": {},
   "source": [
    "## Classification using siamese model propose"
   ]
  },
  {
   "cell_type": "code",
   "execution_count": 1,
   "metadata": {},
   "outputs": [
    {
     "name": "stderr",
     "output_type": "stream",
     "text": [
      "Using TensorFlow backend.\n"
     ]
    }
   ],
   "source": [
    "import keras"
   ]
  },
  {
   "cell_type": "code",
   "execution_count": 2,
   "metadata": {},
   "outputs": [],
   "source": [
    "import re\n",
    "import numpy as np\n",
    "import pandas as pd\n",
    "\n",
    "import os\n",
    "from tqdm import tqdm_notebook as tqdm\n",
    "import matplotlib.pyplot as plt\n",
    "import sys\n",
    "nb_dir = os.path.split(os.getcwd())[0]\n",
    "if nb_dir not in sys.path:\n",
    "    sys.path.append(nb_dir)\n",
    "    \n",
    "%matplotlib inline"
   ]
  },
  {
   "cell_type": "code",
   "execution_count": 3,
   "metadata": {},
   "outputs": [],
   "source": [
    "from methods.baseline import Baseline\n",
    "from methods.experiments import Experiment\n",
    "from methods.evaluation import Evaluation\n",
    "from methods.retrieval import Retrieval"
   ]
  },
  {
   "cell_type": "code",
   "execution_count": 4,
   "metadata": {},
   "outputs": [],
   "source": [
    "from keras.layers import Conv1D, Input, Add, Activation, Dropout, Embedding, MaxPooling1D, GlobalMaxPool1D, Flatten, Dense, Concatenate, BatchNormalization\n",
    "from keras.models import Model"
   ]
  },
  {
   "cell_type": "markdown",
   "metadata": {},
   "source": [
    "## Configurações Globais"
   ]
  },
  {
   "cell_type": "code",
   "execution_count": 5,
   "metadata": {},
   "outputs": [],
   "source": [
    "EMBEDDING_DIM = 300\n",
    "MAX_NB_WORDS = 2000"
   ]
  },
  {
   "cell_type": "code",
   "execution_count": 6,
   "metadata": {},
   "outputs": [],
   "source": [
    "DOMAIN = 'openoffice'\n",
    "METHOD = 'propose'\n",
    "DIR = 'data/processed/{}'.format(DOMAIN)\n",
    "DATASET = os.path.join('data/normalized/{}'.format(DOMAIN), '{}.csv'.format(DOMAIN))\n",
    "DIR_PAIRS = 'data/normalized/{}'.format(DOMAIN)\n",
    "SAVE_PATH = '{}_classification({})'.format(METHOD, DOMAIN)\n",
    "PRETRAINED_MODEL = 'modelos/model_{}_feature_100epochs_64batch({}).h5'.format(METHOD, DOMAIN)"
   ]
  },
  {
   "cell_type": "code",
   "execution_count": 7,
   "metadata": {},
   "outputs": [
    {
     "data": {
      "text/plain": [
       "'modelos/model_propose_feature_100epochs_64batch(openoffice).h5'"
      ]
     },
     "execution_count": 7,
     "metadata": {},
     "output_type": "execute_result"
    }
   ],
   "source": [
    "PRETRAINED_MODEL"
   ]
  },
  {
   "cell_type": "code",
   "execution_count": 8,
   "metadata": {
    "scrolled": true
   },
   "outputs": [
    {
     "name": "stderr",
     "output_type": "stream",
     "text": [
      "/usr/local/lib/python3.5/dist-packages/keras/engine/saving.py:292: UserWarning: No training configuration found in save file: the model was *not* compiled. Compile it manually.\n",
      "  warnings.warn('No training configuration found in save file: '\n"
     ]
    }
   ],
   "source": [
    "import keras\n",
    "from keras.models import Model\n",
    "from keras.layers import Input\n",
    "from keras.models import load_model\n",
    "import keras.backend as K\n",
    "\n",
    "K.clear_session()\n",
    "\n",
    "\"\"\"\n",
    "    A lista de modelos estar disponível no diretorio /modelos\n",
    "        name:\n",
    "            - model_baseline_{X}epoch_{Y}steps_({dataset}).h5\n",
    "            - model_baseline_{X}epoch_{Y}steps_({dataset}).json\n",
    "    \n",
    "        Informações adicionais:\n",
    "            {X} - total de épocas treinada. Ex: 100, 1000\n",
    "            {Y} - total de steps validados no treino. Ex: 10, 16\n",
    "            {dataset} - Nome da base testada. Ex: Eclipse, Netbeans, OpenOffice\n",
    "\"\"\"\n",
    "similarity_model = load_model(PRETRAINED_MODEL)"
   ]
  },
  {
   "cell_type": "code",
   "execution_count": 9,
   "metadata": {},
   "outputs": [
    {
     "data": {
      "text/plain": [
       "(50, 50, 738)"
      ]
     },
     "execution_count": 9,
     "metadata": {},
     "output_type": "execute_result"
    }
   ],
   "source": [
    "import keras.backend as K\n",
    "\n",
    "MAX_SEQUENCE_LENGTH_T = K.int_shape(similarity_model.input[0])[1]\n",
    "MAX_SEQUENCE_LENGTH_D = K.int_shape(similarity_model.input[1])[1]\n",
    "MAX_SEQUENCE_LENGTH_I = K.int_shape(similarity_model.input[2])[1]\n",
    "\n",
    "MAX_SEQUENCE_LENGTH_T, MAX_SEQUENCE_LENGTH_D, MAX_SEQUENCE_LENGTH_I"
   ]
  },
  {
   "cell_type": "code",
   "execution_count": 10,
   "metadata": {},
   "outputs": [],
   "source": [
    "baseline = Baseline(DIR, DATASET, MAX_SEQUENCE_LENGTH_T, MAX_SEQUENCE_LENGTH_D)\n",
    "evaluation = Evaluation(verbose=0)\n",
    "retrieval = Retrieval()\n",
    "experiment = Experiment(baseline, evaluation)"
   ]
  },
  {
   "cell_type": "code",
   "execution_count": 11,
   "metadata": {},
   "outputs": [
    {
     "data": {
      "text/plain": [
       "{'bug_severity': 6,\n",
       " 'bug_status': 3,\n",
       " 'component': 144,\n",
       " 'priority': 5,\n",
       " 'product': 41,\n",
       " 'version': 539}"
      ]
     },
     "execution_count": 11,
     "metadata": {},
     "output_type": "execute_result"
    }
   ],
   "source": [
    "baseline.info_dict"
   ]
  },
  {
   "cell_type": "code",
   "execution_count": 12,
   "metadata": {},
   "outputs": [
    {
     "name": "stdout",
     "output_type": "stream",
     "text": [
      "Creating the buckets...\n"
     ]
    },
    {
     "data": {
      "application/vnd.jupyter.widget-view+json": {
       "model_id": "d782a13753ef40649f73dd0ab26c591f",
       "version_major": 2,
       "version_minor": 0
      },
      "text/plain": [
       "HBox(children=(IntProgress(value=0, max=83503), HTML(value='')))"
      ]
     },
     "metadata": {},
     "output_type": "display_data"
    },
    {
     "name": "stdout",
     "output_type": "stream",
     "text": [
      "\n"
     ]
    },
    {
     "data": {
      "application/vnd.jupyter.widget-view+json": {
       "model_id": "208352a8c0814a78a886a2ec33e36ec6",
       "version_major": 2,
       "version_minor": 0
      },
      "text/plain": [
       "HBox(children=(IntProgress(value=0, max=14567), HTML(value='')))"
      ]
     },
     "metadata": {},
     "output_type": "display_data"
    },
    {
     "name": "stdout",
     "output_type": "stream",
     "text": [
      "\n"
     ]
    }
   ],
   "source": [
    "experiment.set_retrieval(retrieval, baseline, DOMAIN)"
   ]
  },
  {
   "cell_type": "markdown",
   "metadata": {},
   "source": [
    "#### Loading bug ids in memory"
   ]
  },
  {
   "cell_type": "code",
   "execution_count": 13,
   "metadata": {},
   "outputs": [
    {
     "name": "stdout",
     "output_type": "stream",
     "text": [
      "Reading bug ids\n"
     ]
    },
    {
     "data": {
      "text/plain": [
       "98070"
      ]
     },
     "execution_count": 13,
     "metadata": {},
     "output_type": "execute_result"
    }
   ],
   "source": [
    "experiment.load_ids()\n",
    "len(baseline.bug_ids)"
   ]
  },
  {
   "cell_type": "markdown",
   "metadata": {},
   "source": [
    "#### Loading train bugs"
   ]
  },
  {
   "cell_type": "code",
   "execution_count": 14,
   "metadata": {},
   "outputs": [
    {
     "data": {
      "application/vnd.jupyter.widget-view+json": {
       "model_id": "46324fe94d8744ba8378075743406da1",
       "version_major": 2,
       "version_minor": 0
      },
      "text/plain": [
       "HBox(children=(IntProgress(value=0, max=98070), HTML(value='')))"
      ]
     },
     "metadata": {},
     "output_type": "display_data"
    },
    {
     "name": "stdout",
     "output_type": "stream",
     "text": [
      "\n"
     ]
    },
    {
     "data": {
      "application/vnd.jupyter.widget-view+json": {
       "model_id": "3de4c446037b48ef97d28e984dcaff3a",
       "version_major": 2,
       "version_minor": 0
      },
      "text/plain": [
       "HBox(children=(IntProgress(value=1, bar_style='info', max=1), HTML(value='')))"
      ]
     },
     "metadata": {},
     "output_type": "display_data"
    },
    {
     "name": "stdout",
     "output_type": "stream",
     "text": [
      "\n",
      "CPU times: user 9.75 s, sys: 1.03 s, total: 10.8 s\n",
      "Wall time: 10.3 s\n"
     ]
    }
   ],
   "source": [
    "%%time\n",
    "\n",
    "experiment.load_bugs()"
   ]
  },
  {
   "cell_type": "code",
   "execution_count": 15,
   "metadata": {},
   "outputs": [
    {
     "data": {
      "application/vnd.jupyter.widget-view+json": {
       "model_id": "2bdc4b064d3543ff9921fa8f72446819",
       "version_major": 2,
       "version_minor": 0
      },
      "text/plain": [
       "HBox(children=(IntProgress(value=0, max=83503), HTML(value='')))"
      ]
     },
     "metadata": {},
     "output_type": "display_data"
    },
    {
     "name": "stdout",
     "output_type": "stream",
     "text": [
      "\n",
      "Reading train data\n",
      "Reading bug ids\n",
      "CPU times: user 34.7 s, sys: 11 ms, total: 34.7 s\n",
      "Wall time: 34.7 s\n"
     ]
    }
   ],
   "source": [
    "%%time\n",
    "issues_by_buckets = experiment.get_buckets_for_bugs()\n",
    "experiment.prepare_dataset(issues_by_buckets)"
   ]
  },
  {
   "cell_type": "code",
   "execution_count": 16,
   "metadata": {},
   "outputs": [
    {
     "name": "stdout",
     "output_type": "stream",
     "text": [
      "CPU times: user 9.3 ms, sys: 0 ns, total: 9.3 ms\n",
      "Wall time: 9.19 ms\n"
     ]
    }
   ],
   "source": [
    "%%time\n",
    "\n",
    "bug_train_ids = experiment.get_train_ids(baseline.train_data)\n",
    "len(bug_train_ids)"
   ]
  },
  {
   "cell_type": "code",
   "execution_count": 17,
   "metadata": {},
   "outputs": [
    {
     "name": "stdout",
     "output_type": "stream",
     "text": [
      "Reading test data for classification\n",
      "CPU times: user 2.44 s, sys: 0 ns, total: 2.44 s\n",
      "Wall time: 2.44 s\n"
     ]
    }
   ],
   "source": [
    "%%time\n",
    "\n",
    "baseline.test_data, baseline.dup_sets_test = experiment.read_test_data_classification(DIR, baseline.bug_set, bug_train_ids)"
   ]
  },
  {
   "cell_type": "markdown",
   "metadata": {},
   "source": [
    "## Siamese  model"
   ]
  },
  {
   "cell_type": "code",
   "execution_count": 18,
   "metadata": {},
   "outputs": [],
   "source": [
    "# Freeze weights\n",
    "for layer in similarity_model.layers:\n",
    "    layer.trainable = False"
   ]
  },
  {
   "cell_type": "code",
   "execution_count": 19,
   "metadata": {},
   "outputs": [
    {
     "name": "stdout",
     "output_type": "stream",
     "text": [
      "__________________________________________________________________________________________________\n",
      "Layer (type)                    Output Shape         Param #     Connected to                     \n",
      "==================================================================================================\n",
      "title_a (InputLayer)            (None, 50)           0                                            \n",
      "__________________________________________________________________________________________________\n",
      "title_b (InputLayer)            (None, 50)           0                                            \n",
      "__________________________________________________________________________________________________\n",
      "info_a (InputLayer)             (None, 738)          0                                            \n",
      "__________________________________________________________________________________________________\n",
      "FeatureBiLstmGenerationModel (M (None, 50, 50)       39574200    title_a[0][0]                    \n",
      "                                                                 title_b[0][0]                    \n",
      "__________________________________________________________________________________________________\n",
      "desc_a (InputLayer)             (None, 50)           0                                            \n",
      "__________________________________________________________________________________________________\n",
      "info_b (InputLayer)             (None, 738)          0                                            \n",
      "__________________________________________________________________________________________________\n",
      "desc_b (InputLayer)             (None, 50)           0                                            \n",
      "__________________________________________________________________________________________________\n",
      "FeatureMlpGenerationModel (Mode (None, 300)          221700      info_a[0][0]                     \n",
      "                                                                 info_b[0][0]                     \n",
      "__________________________________________________________________________________________________\n",
      "flatten_1 (Flatten)             (None, 2500)         0           FeatureBiLstmGenerationModel[2][0\n",
      "__________________________________________________________________________________________________\n",
      "FeatureCNNDilatedGenerationMode (None, 1)            80313116    desc_a[0][0]                     \n",
      "                                                                 title_a[0][0]                    \n",
      "                                                                 desc_b[0][0]                     \n",
      "                                                                 title_b[0][0]                    \n",
      "__________________________________________________________________________________________________\n",
      "flatten_2 (Flatten)             (None, 2500)         0           FeatureBiLstmGenerationModel[3][0\n",
      "__________________________________________________________________________________________________\n",
      "merge_features_in (Concatenate) multiple             0           FeatureMlpGenerationModel[2][0]  \n",
      "                                                                 flatten_1[0][0]                  \n",
      "                                                                 FeatureCNNDilatedGenerationModel[\n",
      "                                                                 FeatureMlpGenerationModel[3][0]  \n",
      "                                                                 flatten_2[0][0]                  \n",
      "                                                                 FeatureCNNDilatedGenerationModel[\n",
      "__________________________________________________________________________________________________\n",
      "bugs (Concatenate)              (None, 5602)         0           merge_features_in[1][0]          \n",
      "                                                                 merge_features_in[2][0]          \n",
      "__________________________________________________________________________________________________\n",
      "dense_1 (Dense)                 (None, 128)          717184      bugs[0][0]                       \n",
      "__________________________________________________________________________________________________\n",
      "activation_1 (Activation)       (None, 128)          0           dense_1[0][0]                    \n",
      "__________________________________________________________________________________________________\n",
      "batch_normalization_1 (BatchNor (None, 128)          512         activation_1[0][0]               \n",
      "__________________________________________________________________________________________________\n",
      "dense_2 (Dense)                 (None, 128)          16512       batch_normalization_1[0][0]      \n",
      "__________________________________________________________________________________________________\n",
      "activation_2 (Activation)       (None, 128)          0           dense_2[0][0]                    \n",
      "__________________________________________________________________________________________________\n",
      "batch_normalization_2 (BatchNor (None, 128)          512         activation_2[0][0]               \n",
      "__________________________________________________________________________________________________\n",
      "output (Dense)                  (None, 2)            258         batch_normalization_2[0][0]      \n",
      "==================================================================================================\n",
      "Total params: 120,843,994\n",
      "Trainable params: 734,466\n",
      "Non-trainable params: 120,109,528\n",
      "__________________________________________________________________________________________________\n"
     ]
    }
   ],
   "source": [
    "from keras.layers import concatenate, Dropout, Add, Flatten\n",
    "\n",
    "bug_t_a = Input(shape = (MAX_SEQUENCE_LENGTH_T, ), name = 'title_a')\n",
    "bug_t_b = Input(shape = (MAX_SEQUENCE_LENGTH_T, ), name = 'title_b')\n",
    "\n",
    "bug_d_a = Input(shape = (MAX_SEQUENCE_LENGTH_D, ), name = 'desc_a')\n",
    "bug_d_b = Input(shape = (MAX_SEQUENCE_LENGTH_D, ), name = 'desc_b')\n",
    "\n",
    "bug_i_a = Input(shape = (MAX_SEQUENCE_LENGTH_I, ), name = 'info_a')\n",
    "bug_i_b = Input(shape = (MAX_SEQUENCE_LENGTH_I, ), name = 'info_b')\n",
    "\n",
    "title_encoder = similarity_model.get_layer('FeatureBiLstmGenerationModel')\n",
    "desc_encoder = similarity_model.get_layer('FeatureCNNDilatedGenerationModel')\n",
    "info_encoder = similarity_model.get_layer('FeatureMlpGenerationModel')\n",
    "\n",
    "model = similarity_model.get_layer('merge_features_in')\n",
    "\n",
    "# Bug A\n",
    "bugt_t_a = title_encoder(bug_t_a)\n",
    "bugt_t_a = Flatten()(bugt_t_a)\n",
    "bugt_d_a = desc_encoder([bug_d_a, bug_t_a])\n",
    "bugt_i_a = info_encoder(bug_i_a)\n",
    "# Bug B\n",
    "bugt_t_b = title_encoder(bug_t_b)\n",
    "bugt_t_b = Flatten()(bugt_t_b)\n",
    "bugt_d_b = desc_encoder([bug_d_b, bug_t_b])\n",
    "bugt_i_b = info_encoder(bug_i_b)\n",
    "\n",
    "bug_a = model([bugt_i_a, bugt_t_a, bugt_d_a])\n",
    "bug_b = model([bugt_i_b, bugt_t_b, bugt_d_b])\n",
    "\n",
    "x = concatenate([bug_a, bug_b], name='bugs') # \n",
    "\n",
    "for _ in range(2):\n",
    "    x = Dense(128)(x)\n",
    "#     x = Dropout(0.5)(x)\n",
    "    x = Activation('relu')(x)\n",
    "    x = BatchNormalization()(x)\n",
    "\n",
    "output = Dense(2, activation = 'softmax', name = 'output')(x)\n",
    "\n",
    "model_clf = Model(inputs=[bug_t_a, bug_t_b, bug_d_a, bug_d_b, bug_i_a, bug_i_b], outputs=[output])\n",
    "\n",
    "#adam = keras.optimizers.Adam(lr=0.005, beta_1=0.9, beta_2=0.999, epsilon=None, decay=0.1, amsgrad=False)\n",
    "\n",
    "model_clf.compile(optimizer='adam', loss='binary_crossentropy', metrics = ['accuracy'])\n",
    "model_clf.summary()"
   ]
  },
  {
   "cell_type": "code",
   "execution_count": 20,
   "metadata": {},
   "outputs": [],
   "source": [
    "from keras.utils import to_categorical\n",
    "from sklearn.preprocessing import LabelEncoder\n",
    "\n",
    "def batch_classification(train, dup_sets, batch_size, n_neg):\n",
    "    encoder = LabelEncoder()\n",
    "    batch_size_normalized = batch_size // 2\n",
    "    batch_triplet, input_sample, input_pos, input_neg, sim = baseline.batch_iterator(train, dup_sets, \n",
    "                                                                                     batch_size_normalized, n_neg)\n",
    "    \n",
    "    pos = np.full((1, batch_size_normalized), 1)\n",
    "    neg = np.full((1, batch_size_normalized), 0)\n",
    "    sim = np.concatenate([pos, neg], -1)[0]\n",
    "    \n",
    "    sim = encoder.fit_transform(sim)\n",
    "    sim = to_categorical(sim)\n",
    "\n",
    "    title_a = np.concatenate([input_sample['title'], input_sample['title']])\n",
    "    title_b = np.concatenate([input_pos['title'], input_neg['title']])\n",
    "    desc_a = np.concatenate([input_sample['description'], input_sample['description']])\n",
    "    desc_b = np.concatenate([input_pos['description'], input_neg['description']])\n",
    "    info_a = np.concatenate([input_sample['info'], input_sample['info']])\n",
    "    info_b = np.concatenate([input_pos['info'], input_neg['info']])\n",
    "    \n",
    "    return title_a, title_b, desc_a, desc_b, info_a, info_b, sim\n",
    "\n",
    "def batch_classification_siamese(train, dup_sets, batch_size, n_neg):\n",
    "    while True:\n",
    "        title_a, title_b, desc_a, desc_b, info_a, info_b, sim = batch_classification(train, dup_sets, batch_size, n_neg)\n",
    "        \n",
    "        yield ({ 'title_a' : title_a, 'title_b': title_b, \n",
    "        'desc_a' : desc_a, 'desc_b' : desc_b, 'info_a' : info_a, 'info_b' : info_b }, sim)"
   ]
  },
  {
   "cell_type": "code",
   "execution_count": 21,
   "metadata": {},
   "outputs": [],
   "source": [
    "title_a, title_b, desc_a, desc_b, info_a, info_b, sim = batch_classification(baseline.train_data, \n",
    "                                                                             baseline.dup_sets_train,\n",
    "                                                                             512, 1)\n",
    "test_validation = ({ 'title_a' : title_a, 'title_b': title_b, \n",
    "        'desc_a' : desc_a, 'desc_b' : desc_b, 'info_a' : info_a, 'info_b' : info_b }, sim)"
   ]
  },
  {
   "cell_type": "code",
   "execution_count": 22,
   "metadata": {
    "scrolled": true
   },
   "outputs": [
    {
     "name": "stdout",
     "output_type": "stream",
     "text": [
      "Epoch 1/100\n",
      "10/10 [==============================] - 6s 629ms/step - loss: 0.7048 - acc: 0.6810 - val_loss: 0.7877 - val_acc: 0.7344\n",
      "Epoch 2/100\n",
      "10/10 [==============================] - 3s 252ms/step - loss: 0.4846 - acc: 0.7776 - val_loss: 0.7353 - val_acc: 0.7363\n",
      "Epoch 3/100\n",
      "10/10 [==============================] - 3s 253ms/step - loss: 0.4530 - acc: 0.7975 - val_loss: 0.5474 - val_acc: 0.7578\n",
      "Epoch 4/100\n",
      "10/10 [==============================] - 3s 252ms/step - loss: 0.4180 - acc: 0.8171 - val_loss: 0.4499 - val_acc: 0.7988\n",
      "Epoch 5/100\n",
      "10/10 [==============================] - 3s 253ms/step - loss: 0.4089 - acc: 0.8234 - val_loss: 0.4086 - val_acc: 0.8066\n",
      "Epoch 6/100\n",
      "10/10 [==============================] - 3s 252ms/step - loss: 0.3769 - acc: 0.8353 - val_loss: 0.4004 - val_acc: 0.8223\n",
      "Epoch 7/100\n",
      "10/10 [==============================] - 3s 251ms/step - loss: 0.3758 - acc: 0.8412 - val_loss: 0.3804 - val_acc: 0.8320\n",
      "Epoch 8/100\n",
      "10/10 [==============================] - 3s 251ms/step - loss: 0.3514 - acc: 0.8499 - val_loss: 0.3745 - val_acc: 0.8203\n",
      "Epoch 9/100\n",
      "10/10 [==============================] - 3s 252ms/step - loss: 0.3425 - acc: 0.8536 - val_loss: 0.3603 - val_acc: 0.8086\n",
      "Epoch 10/100\n",
      "10/10 [==============================] - 2s 249ms/step - loss: 0.3331 - acc: 0.8610 - val_loss: 0.3706 - val_acc: 0.8281\n",
      "Epoch 11/100\n",
      "10/10 [==============================] - 2s 250ms/step - loss: 0.3246 - acc: 0.8675 - val_loss: 0.3474 - val_acc: 0.8457\n",
      "Epoch 12/100\n",
      "10/10 [==============================] - 3s 251ms/step - loss: 0.3243 - acc: 0.8650 - val_loss: 0.3201 - val_acc: 0.8594\n",
      "Epoch 13/100\n",
      "10/10 [==============================] - 3s 251ms/step - loss: 0.3217 - acc: 0.8651 - val_loss: 0.3058 - val_acc: 0.8750\n",
      "Epoch 14/100\n",
      "10/10 [==============================] - 3s 252ms/step - loss: 0.3121 - acc: 0.8681 - val_loss: 0.3250 - val_acc: 0.8691\n",
      "Epoch 15/100\n",
      "10/10 [==============================] - 3s 253ms/step - loss: 0.3055 - acc: 0.8734 - val_loss: 0.3042 - val_acc: 0.8672\n",
      "Epoch 16/100\n",
      "10/10 [==============================] - 3s 250ms/step - loss: 0.2892 - acc: 0.8814 - val_loss: 0.3042 - val_acc: 0.8652\n",
      "Epoch 17/100\n",
      "10/10 [==============================] - 3s 251ms/step - loss: 0.2830 - acc: 0.8845 - val_loss: 0.2959 - val_acc: 0.8652\n",
      "Epoch 18/100\n",
      "10/10 [==============================] - 2s 249ms/step - loss: 0.2812 - acc: 0.8854 - val_loss: 0.2965 - val_acc: 0.8691\n",
      "Epoch 19/100\n",
      "10/10 [==============================] - 2s 249ms/step - loss: 0.2793 - acc: 0.8885 - val_loss: 0.2914 - val_acc: 0.8730\n",
      "Epoch 20/100\n",
      "10/10 [==============================] - 3s 252ms/step - loss: 0.2703 - acc: 0.8915 - val_loss: 0.3029 - val_acc: 0.8789\n",
      "Epoch 21/100\n",
      "10/10 [==============================] - 3s 251ms/step - loss: 0.2786 - acc: 0.8874 - val_loss: 0.2774 - val_acc: 0.8730\n",
      "Epoch 22/100\n",
      "10/10 [==============================] - 3s 251ms/step - loss: 0.2629 - acc: 0.8968 - val_loss: 0.2683 - val_acc: 0.8887\n",
      "Epoch 23/100\n",
      "10/10 [==============================] - 3s 251ms/step - loss: 0.2671 - acc: 0.8953 - val_loss: 0.2623 - val_acc: 0.8965\n",
      "Epoch 24/100\n",
      "10/10 [==============================] - 3s 252ms/step - loss: 0.2595 - acc: 0.8959 - val_loss: 0.2636 - val_acc: 0.8867\n",
      "Epoch 25/100\n",
      "10/10 [==============================] - 3s 251ms/step - loss: 0.2635 - acc: 0.8970 - val_loss: 0.2501 - val_acc: 0.8926\n",
      "Epoch 26/100\n",
      "10/10 [==============================] - 2s 249ms/step - loss: 0.2514 - acc: 0.9012 - val_loss: 0.2653 - val_acc: 0.8789\n",
      "Epoch 27/100\n",
      "10/10 [==============================] - 3s 253ms/step - loss: 0.2439 - acc: 0.9031 - val_loss: 0.2599 - val_acc: 0.9004\n",
      "Epoch 28/100\n",
      "10/10 [==============================] - 3s 250ms/step - loss: 0.2425 - acc: 0.9019 - val_loss: 0.2588 - val_acc: 0.8926\n",
      "Epoch 29/100\n",
      "10/10 [==============================] - 3s 250ms/step - loss: 0.2453 - acc: 0.9046 - val_loss: 0.2553 - val_acc: 0.8887\n",
      "Epoch 30/100\n",
      "10/10 [==============================] - 3s 251ms/step - loss: 0.2467 - acc: 0.9030 - val_loss: 0.2834 - val_acc: 0.8633\n",
      "Epoch 31/100\n",
      "10/10 [==============================] - 3s 252ms/step - loss: 0.2366 - acc: 0.9084 - val_loss: 0.2681 - val_acc: 0.8867\n",
      "Epoch 32/100\n",
      "10/10 [==============================] - 2s 250ms/step - loss: 0.2433 - acc: 0.9033 - val_loss: 0.2521 - val_acc: 0.8926\n",
      "Epoch 33/100\n",
      "10/10 [==============================] - 2s 247ms/step - loss: 0.2430 - acc: 0.9039 - val_loss: 0.2489 - val_acc: 0.8828\n",
      "Epoch 34/100\n",
      "10/10 [==============================] - 3s 288ms/step - loss: 0.2345 - acc: 0.9111 - val_loss: 0.2757 - val_acc: 0.8613\n",
      "Epoch 35/100\n",
      "10/10 [==============================] - 3s 291ms/step - loss: 0.2316 - acc: 0.9122 - val_loss: 0.2404 - val_acc: 0.8965\n",
      "Epoch 36/100\n",
      "10/10 [==============================] - 3s 283ms/step - loss: 0.2285 - acc: 0.9134 - val_loss: 0.2474 - val_acc: 0.8945\n",
      "Epoch 37/100\n",
      "10/10 [==============================] - 3s 301ms/step - loss: 0.2319 - acc: 0.9113 - val_loss: 0.2509 - val_acc: 0.8965\n",
      "Epoch 38/100\n",
      "10/10 [==============================] - 3s 296ms/step - loss: 0.2284 - acc: 0.9093 - val_loss: 0.2752 - val_acc: 0.8887\n",
      "Epoch 39/100\n",
      "10/10 [==============================] - 3s 292ms/step - loss: 0.2202 - acc: 0.9146 - val_loss: 0.2631 - val_acc: 0.8828\n",
      "Epoch 40/100\n",
      "10/10 [==============================] - 3s 277ms/step - loss: 0.2181 - acc: 0.9176 - val_loss: 0.2956 - val_acc: 0.8574\n",
      "Epoch 41/100\n",
      "10/10 [==============================] - 3s 283ms/step - loss: 0.2209 - acc: 0.9134 - val_loss: 0.2769 - val_acc: 0.8750\n",
      "Epoch 42/100\n",
      "10/10 [==============================] - 3s 279ms/step - loss: 0.2151 - acc: 0.9176 - val_loss: 0.2547 - val_acc: 0.8867\n",
      "Epoch 43/100\n",
      "10/10 [==============================] - 3s 288ms/step - loss: 0.2125 - acc: 0.9159 - val_loss: 0.2653 - val_acc: 0.8965\n",
      "Epoch 44/100\n",
      "10/10 [==============================] - 3s 298ms/step - loss: 0.2037 - acc: 0.9223 - val_loss: 0.2468 - val_acc: 0.9023\n",
      "Epoch 45/100\n",
      "10/10 [==============================] - 3s 287ms/step - loss: 0.2128 - acc: 0.9162 - val_loss: 0.2552 - val_acc: 0.8984\n",
      "Epoch 46/100\n",
      "10/10 [==============================] - 3s 282ms/step - loss: 0.2076 - acc: 0.9209 - val_loss: 0.2615 - val_acc: 0.8848\n",
      "Epoch 47/100\n",
      "10/10 [==============================] - 3s 280ms/step - loss: 0.2080 - acc: 0.9216 - val_loss: 0.2471 - val_acc: 0.8867\n",
      "Epoch 48/100\n",
      "10/10 [==============================] - 3s 278ms/step - loss: 0.2118 - acc: 0.9210 - val_loss: 0.2570 - val_acc: 0.8867\n",
      "Epoch 49/100\n",
      "10/10 [==============================] - 3s 284ms/step - loss: 0.2071 - acc: 0.9180 - val_loss: 0.2465 - val_acc: 0.8984\n",
      "Epoch 50/100\n",
      "10/10 [==============================] - 3s 287ms/step - loss: 0.1992 - acc: 0.9238 - val_loss: 0.2444 - val_acc: 0.8965\n",
      "Epoch 51/100\n",
      "10/10 [==============================] - 3s 275ms/step - loss: 0.2055 - acc: 0.9210 - val_loss: 0.2493 - val_acc: 0.8965\n",
      "Epoch 52/100\n",
      "10/10 [==============================] - 3s 282ms/step - loss: 0.2035 - acc: 0.9216 - val_loss: 0.2341 - val_acc: 0.9062\n",
      "Epoch 53/100\n",
      "10/10 [==============================] - 3s 290ms/step - loss: 0.2002 - acc: 0.9236 - val_loss: 0.2201 - val_acc: 0.8965\n",
      "Epoch 54/100\n",
      "10/10 [==============================] - 3s 286ms/step - loss: 0.2048 - acc: 0.9222 - val_loss: 0.2249 - val_acc: 0.9121\n",
      "Epoch 55/100\n",
      "10/10 [==============================] - 3s 290ms/step - loss: 0.1930 - acc: 0.9268 - val_loss: 0.2302 - val_acc: 0.9004\n",
      "Epoch 56/100\n",
      "10/10 [==============================] - 3s 277ms/step - loss: 0.1989 - acc: 0.9255 - val_loss: 0.2296 - val_acc: 0.9043\n",
      "Epoch 57/100\n",
      "10/10 [==============================] - 3s 293ms/step - loss: 0.1863 - acc: 0.9303 - val_loss: 0.2152 - val_acc: 0.9160\n",
      "Epoch 58/100\n",
      "10/10 [==============================] - 3s 286ms/step - loss: 0.1954 - acc: 0.9264 - val_loss: 0.2154 - val_acc: 0.9238\n",
      "Epoch 59/100\n",
      "10/10 [==============================] - 3s 286ms/step - loss: 0.1829 - acc: 0.9310 - val_loss: 0.2058 - val_acc: 0.9141\n",
      "Epoch 60/100\n",
      "10/10 [==============================] - 3s 289ms/step - loss: 0.1800 - acc: 0.9335 - val_loss: 0.1895 - val_acc: 0.9258\n",
      "Epoch 61/100\n",
      "10/10 [==============================] - 3s 290ms/step - loss: 0.1840 - acc: 0.9333 - val_loss: 0.2041 - val_acc: 0.9160\n",
      "Epoch 62/100\n"
     ]
    },
    {
     "name": "stdout",
     "output_type": "stream",
     "text": [
      "10/10 [==============================] - 3s 293ms/step - loss: 0.1853 - acc: 0.9323 - val_loss: 0.2085 - val_acc: 0.9219\n",
      "Epoch 63/100\n",
      "10/10 [==============================] - 3s 289ms/step - loss: 0.1894 - acc: 0.9266 - val_loss: 0.2023 - val_acc: 0.9141\n",
      "Epoch 64/100\n",
      "10/10 [==============================] - 3s 286ms/step - loss: 0.1951 - acc: 0.9259 - val_loss: 0.2116 - val_acc: 0.9355\n",
      "Epoch 65/100\n",
      "10/10 [==============================] - 3s 274ms/step - loss: 0.1879 - acc: 0.9294 - val_loss: 0.2021 - val_acc: 0.9141\n",
      "Epoch 66/100\n",
      "10/10 [==============================] - 3s 279ms/step - loss: 0.1789 - acc: 0.9326 - val_loss: 0.1970 - val_acc: 0.9238\n",
      "Epoch 67/100\n",
      "10/10 [==============================] - 3s 290ms/step - loss: 0.1810 - acc: 0.9330 - val_loss: 0.2004 - val_acc: 0.9180\n",
      "Epoch 68/100\n",
      "10/10 [==============================] - 3s 290ms/step - loss: 0.1808 - acc: 0.9319 - val_loss: 0.1843 - val_acc: 0.9277\n",
      "Epoch 69/100\n",
      "10/10 [==============================] - 3s 286ms/step - loss: 0.1822 - acc: 0.9332 - val_loss: 0.1953 - val_acc: 0.9277\n",
      "Epoch 70/100\n",
      "10/10 [==============================] - 3s 291ms/step - loss: 0.1787 - acc: 0.9351 - val_loss: 0.2119 - val_acc: 0.9277\n",
      "Epoch 71/100\n",
      "10/10 [==============================] - 3s 293ms/step - loss: 0.1767 - acc: 0.9375 - val_loss: 0.1931 - val_acc: 0.9199\n",
      "Epoch 72/100\n",
      "10/10 [==============================] - 3s 281ms/step - loss: 0.1724 - acc: 0.9376 - val_loss: 0.1803 - val_acc: 0.9219\n",
      "Epoch 73/100\n",
      "10/10 [==============================] - 3s 281ms/step - loss: 0.1783 - acc: 0.9340 - val_loss: 0.2133 - val_acc: 0.9219\n",
      "Epoch 74/100\n",
      "10/10 [==============================] - 3s 289ms/step - loss: 0.1635 - acc: 0.9418 - val_loss: 0.1973 - val_acc: 0.9199\n",
      "Epoch 75/100\n",
      "10/10 [==============================] - 3s 289ms/step - loss: 0.1789 - acc: 0.9330 - val_loss: 0.1892 - val_acc: 0.9219\n",
      "Epoch 76/100\n",
      "10/10 [==============================] - 3s 285ms/step - loss: 0.1620 - acc: 0.9417 - val_loss: 0.1979 - val_acc: 0.9199\n",
      "Epoch 77/100\n",
      "10/10 [==============================] - 3s 295ms/step - loss: 0.1682 - acc: 0.9383 - val_loss: 0.1809 - val_acc: 0.9355\n",
      "Epoch 78/100\n",
      "10/10 [==============================] - 3s 289ms/step - loss: 0.1684 - acc: 0.9400 - val_loss: 0.1704 - val_acc: 0.9180\n",
      "Epoch 79/100\n",
      "10/10 [==============================] - 3s 287ms/step - loss: 0.1593 - acc: 0.9423 - val_loss: 0.2229 - val_acc: 0.9082\n",
      "Epoch 80/100\n",
      "10/10 [==============================] - 3s 290ms/step - loss: 0.1594 - acc: 0.9412 - val_loss: 0.2155 - val_acc: 0.9062\n",
      "Epoch 81/100\n",
      "10/10 [==============================] - 3s 306ms/step - loss: 0.1629 - acc: 0.9412 - val_loss: 0.1734 - val_acc: 0.9355\n",
      "Epoch 82/100\n",
      "10/10 [==============================] - 3s 285ms/step - loss: 0.1555 - acc: 0.9439 - val_loss: 0.1901 - val_acc: 0.9238\n",
      "Epoch 83/100\n",
      "10/10 [==============================] - 3s 278ms/step - loss: 0.1637 - acc: 0.9383 - val_loss: 0.1961 - val_acc: 0.9277\n",
      "Epoch 84/100\n",
      "10/10 [==============================] - 3s 290ms/step - loss: 0.1614 - acc: 0.9406 - val_loss: 0.2098 - val_acc: 0.9219\n",
      "Epoch 85/100\n",
      "10/10 [==============================] - 3s 282ms/step - loss: 0.1533 - acc: 0.9434 - val_loss: 0.1761 - val_acc: 0.9219\n",
      "Epoch 86/100\n",
      "10/10 [==============================] - 3s 283ms/step - loss: 0.1615 - acc: 0.9444 - val_loss: 0.1913 - val_acc: 0.9180\n",
      "Epoch 87/100\n",
      "10/10 [==============================] - 3s 300ms/step - loss: 0.1597 - acc: 0.9446 - val_loss: 0.1819 - val_acc: 0.9258\n",
      "Epoch 88/100\n",
      "10/10 [==============================] - 3s 277ms/step - loss: 0.1524 - acc: 0.9470 - val_loss: 0.1689 - val_acc: 0.9316\n",
      "Epoch 89/100\n",
      "10/10 [==============================] - 3s 286ms/step - loss: 0.1570 - acc: 0.9437 - val_loss: 0.1772 - val_acc: 0.9160\n",
      "Epoch 90/100\n",
      "10/10 [==============================] - 3s 281ms/step - loss: 0.1531 - acc: 0.9432 - val_loss: 0.1838 - val_acc: 0.9102\n",
      "Epoch 91/100\n",
      "10/10 [==============================] - 3s 294ms/step - loss: 0.1599 - acc: 0.9422 - val_loss: 0.1684 - val_acc: 0.9219\n",
      "Epoch 92/100\n",
      "10/10 [==============================] - 3s 280ms/step - loss: 0.1498 - acc: 0.9475 - val_loss: 0.1636 - val_acc: 0.9336\n",
      "Epoch 93/100\n",
      "10/10 [==============================] - 3s 278ms/step - loss: 0.1463 - acc: 0.9478 - val_loss: 0.1589 - val_acc: 0.9355\n",
      "Epoch 94/100\n",
      "10/10 [==============================] - 3s 292ms/step - loss: 0.1604 - acc: 0.9444 - val_loss: 0.1776 - val_acc: 0.9238\n",
      "Epoch 95/100\n",
      "10/10 [==============================] - 3s 280ms/step - loss: 0.1466 - acc: 0.9477 - val_loss: 0.1746 - val_acc: 0.9277\n",
      "Epoch 96/100\n",
      "10/10 [==============================] - 3s 286ms/step - loss: 0.1583 - acc: 0.9441 - val_loss: 0.1633 - val_acc: 0.9355\n",
      "Epoch 97/100\n",
      "10/10 [==============================] - 3s 283ms/step - loss: 0.1500 - acc: 0.9448 - val_loss: 0.1544 - val_acc: 0.9375\n",
      "Epoch 98/100\n",
      "10/10 [==============================] - 3s 277ms/step - loss: 0.1434 - acc: 0.9513 - val_loss: 0.1768 - val_acc: 0.9277\n",
      "Epoch 99/100\n",
      "10/10 [==============================] - 3s 290ms/step - loss: 0.1479 - acc: 0.9479 - val_loss: 0.1613 - val_acc: 0.9395\n",
      "Epoch 100/100\n",
      "10/10 [==============================] - 3s 284ms/step - loss: 0.1414 - acc: 0.9510 - val_loss: 0.1406 - val_acc: 0.9492\n",
      "CPU times: user 5min 20s, sys: 32.9 s, total: 5min 53s\n",
      "Wall time: 4min 39s\n"
     ]
    }
   ],
   "source": [
    "%%time\n",
    "\n",
    "early = keras.callbacks.EarlyStopping(monitor='val_loss', patience=15, verbose=1, mode='auto')\n",
    "\n",
    "h_clf = model_clf.fit_generator(batch_classification_siamese(baseline.train_data, baseline.dup_sets_train, 1024, 1), \n",
    "                               steps_per_epoch = 10,\n",
    "                               validation_data=test_validation,\n",
    "                                             epochs = 100,\n",
    "#                                              callbacks=[early],\n",
    "                                             verbose = True) "
   ]
  },
  {
   "cell_type": "code",
   "execution_count": 23,
   "metadata": {
    "scrolled": false
   },
   "outputs": [
    {
     "data": {
      "image/png": "[encoded data removed]",
      "text/plain": [
       "<Figure size 432x288 with 1 Axes>"
      ]
     },
     "metadata": {
      "needs_background": "light"
     },
     "output_type": "display_data"
    },
    {
     "data": {
      "image/png": "[encoded data removed]",
      "text/plain": [
       "<Figure size 432x288 with 1 Axes>"
      ]
     },
     "metadata": {
      "needs_background": "light"
     },
     "output_type": "display_data"
    }
   ],
   "source": [
    "Baseline.validation_accuracy_loss(h_clf)"
   ]
  },
  {
   "cell_type": "markdown",
   "metadata": {},
   "source": [
    "### Accuracy"
   ]
  },
  {
   "cell_type": "code",
   "execution_count": 24,
   "metadata": {},
   "outputs": [],
   "source": [
    "result = { }"
   ]
  },
  {
   "cell_type": "markdown",
   "metadata": {},
   "source": [
    "#### train"
   ]
  },
  {
   "cell_type": "code",
   "execution_count": 25,
   "metadata": {},
   "outputs": [
    {
     "data": {
      "text/plain": [
       "0.947265625"
      ]
     },
     "execution_count": 25,
     "metadata": {},
     "output_type": "execute_result"
    }
   ],
   "source": [
    "from sklearn.metrics import accuracy_score\n",
    "\n",
    "title_a, title_b, desc_a, desc_b, info_a, info_b, sim = batch_classification(baseline.train_data, \n",
    "                                                                             baseline.dup_sets_train, 512, 1)\n",
    "\n",
    "y_true = sim\n",
    "y_scores = model_clf.predict([title_a, title_b, desc_a, desc_b, info_a, info_b])\n",
    "\n",
    "def normalize(row):\n",
    "    return [1 if(r > 0.5) else 0 for r in row]\n",
    "\n",
    "y_scores = list(map(normalize, y_scores))\n",
    "# y_scores\n",
    "def decode_ohe(row):\n",
    "    return 0 if(row[0] == 1) else 1\n",
    "y_scores = [ decode_ohe(r) for r in y_scores ]\n",
    "y_true = [ decode_ohe(r) for r in y_true ]\n",
    "acc_train = accuracy_score(y_true, y_scores)\n",
    "acc_train"
   ]
  },
  {
   "cell_type": "markdown",
   "metadata": {},
   "source": [
    "#### test"
   ]
  },
  {
   "cell_type": "code",
   "execution_count": 26,
   "metadata": {},
   "outputs": [
    {
     "data": {
      "text/plain": [
       "0.9103139013452914"
      ]
     },
     "execution_count": 26,
     "metadata": {},
     "output_type": "execute_result"
    }
   ],
   "source": [
    "from sklearn.metrics import accuracy_score\n",
    "\n",
    "number_of_pairs = len(baseline.test_data)\n",
    "\n",
    "title_a, title_b, desc_a, desc_b, info_a, info_b, sim = batch_classification(baseline.test_data, \n",
    "                                                                             baseline.dup_sets_test, number_of_pairs, 1)\n",
    "\n",
    "y_true = sim\n",
    "y_scores = model_clf.predict([title_a, title_b, desc_a, desc_b, info_a, info_b])\n",
    "\n",
    "def normalize(row):\n",
    "    return [1 if(r > 0.5) else 0 for r in row]\n",
    "\n",
    "y_scores = list(map(normalize, y_scores))\n",
    "# y_scores\n",
    "def decode_ohe(row):\n",
    "    return 0 if(row[0] == 1) else 1\n",
    "y_scores = [ decode_ohe(r) for r in y_scores ]\n",
    "y_true = [ decode_ohe(r) for r in y_true ]\n",
    "acc_test = accuracy_score(y_true, y_scores)\n",
    "acc_test"
   ]
  },
  {
   "cell_type": "markdown",
   "metadata": {},
   "source": [
    "### Roc AUC/SCORE"
   ]
  },
  {
   "cell_type": "markdown",
   "metadata": {},
   "source": [
    "#### train"
   ]
  },
  {
   "cell_type": "code",
   "execution_count": 27,
   "metadata": {},
   "outputs": [
    {
     "data": {
      "text/plain": [
       "0.9817962646484375"
      ]
     },
     "execution_count": 27,
     "metadata": {},
     "output_type": "execute_result"
    }
   ],
   "source": [
    "from sklearn.metrics import roc_auc_score\n",
    "\n",
    "title_a, title_b, desc_a, desc_b, info_a, info_b, sim = batch_classification(baseline.train_data, \n",
    "                                                                             baseline.dup_sets_train, 512, 1)\n",
    "\n",
    "y_true = sim\n",
    "y_scores = model_clf.predict([title_a, title_b, desc_a, desc_b, info_a, info_b])\n",
    "\n",
    "roc_train = roc_auc_score(y_true, y_scores)\n",
    "roc_train"
   ]
  },
  {
   "cell_type": "markdown",
   "metadata": {},
   "source": [
    "#### test"
   ]
  },
  {
   "cell_type": "code",
   "execution_count": 28,
   "metadata": {},
   "outputs": [
    {
     "data": {
      "text/plain": [
       "0.9734963502181826"
      ]
     },
     "execution_count": 28,
     "metadata": {},
     "output_type": "execute_result"
    }
   ],
   "source": [
    "from sklearn.metrics import roc_auc_score\n",
    "\n",
    "number_of_pairs = len(baseline.test_data)\n",
    "\n",
    "title_a, title_b, desc_a, desc_b, info_a, info_b, sim = batch_classification(baseline.test_data, \n",
    "                                                                             baseline.dup_sets_test, number_of_pairs, 1)\n",
    "\n",
    "y_true = sim\n",
    "y_scores = model_clf.predict([title_a, title_b, desc_a, desc_b, info_a, info_b])\n",
    "\n",
    "roc_test = roc_auc_score(y_true, y_scores)\n",
    "roc_test"
   ]
  },
  {
   "cell_type": "markdown",
   "metadata": {},
   "source": [
    "#### Save the model"
   ]
  },
  {
   "cell_type": "code",
   "execution_count": 29,
   "metadata": {},
   "outputs": [],
   "source": [
    "experiment.save_model(model_clf, SAVE_PATH)"
   ]
  },
  {
   "cell_type": "markdown",
   "metadata": {},
   "source": [
    "#### Saving the accuracy and roc/auc"
   ]
  },
  {
   "cell_type": "code",
   "execution_count": 30,
   "metadata": {},
   "outputs": [
    {
     "name": "stdout",
     "output_type": "stream",
     "text": [
      "All saved.\n"
     ]
    }
   ],
   "source": [
    "import _pickle as pickle\n",
    "\n",
    "CLASSIFICATION_PATH = 'classification_{}.pkl'.format(METHOD)\n",
    "\n",
    "def save_result(result):\n",
    "    result = {\n",
    "        'acc_train' : acc_train,\n",
    "        'acc_test' : acc_test,\n",
    "        'roc_train' : roc_train,\n",
    "        'roc_test' : roc_test,\n",
    "        'method' : METHOD\n",
    "    }\n",
    "\n",
    "    with open(os.path.join(DIR, CLASSIFICATION_PATH), 'wb') as f:\n",
    "        pickle.dump(result, f)\n",
    "\n",
    "try:\n",
    "    with open(os.path.join(DIR, CLASSIFICATION_PATH), 'rb') as f:\n",
    "        result = pickle.load(f)\n",
    "    save_result(result)\n",
    "except:\n",
    "    save_result(result)\n",
    "    \n",
    "print(\"All saved.\")"
   ]
  }
 ],
 "metadata": {
  "kernelspec": {
   "display_name": "Python 3",
   "language": "python",
   "name": "python3"
  },
  "language_info": {
   "codemirror_mode": {
    "name": "ipython",
    "version": 3
   },
   "file_extension": ".py",
   "mimetype": "text/x-python",
   "name": "python",
   "nbconvert_exporter": "python",
   "pygments_lexer": "ipython3",
   "version": "3.5.2"
  }
 },
 "nbformat": 4,
 "nbformat_minor": 2
}
