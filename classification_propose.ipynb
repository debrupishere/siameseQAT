{
 "cells": [
  {
   "cell_type": "markdown",
   "metadata": {},
   "source": [
    "## Classification using siamese model propose"
   ]
  },
  {
   "cell_type": "code",
   "execution_count": 1,
   "metadata": {},
   "outputs": [
    {
     "name": "stderr",
     "output_type": "stream",
     "text": [
      "Using TensorFlow backend.\n"
     ]
    }
   ],
   "source": [
    "import keras"
   ]
  },
  {
   "cell_type": "code",
   "execution_count": 2,
   "metadata": {},
   "outputs": [],
   "source": [
    "import re\n",
    "import numpy as np\n",
    "import pandas as pd\n",
    "\n",
    "import os\n",
    "from tqdm import tqdm_notebook as tqdm\n",
    "import matplotlib.pyplot as plt\n",
    "import sys\n",
    "nb_dir = os.path.split(os.getcwd())[0]\n",
    "if nb_dir not in sys.path:\n",
    "    sys.path.append(nb_dir)\n",
    "    \n",
    "%matplotlib inline"
   ]
  },
  {
   "cell_type": "code",
   "execution_count": 3,
   "metadata": {},
   "outputs": [],
   "source": [
    "from methods.baseline import Baseline\n",
    "from methods.experiments import Experiment\n",
    "from methods.evaluation import Evaluation\n",
    "from methods.retrieval import Retrieval"
   ]
  },
  {
   "cell_type": "code",
   "execution_count": 4,
   "metadata": {},
   "outputs": [],
   "source": [
    "from keras.layers import Conv1D, Input, Add, Activation, Dropout, Embedding, MaxPooling1D, GlobalMaxPool1D, Flatten, Dense, Concatenate, BatchNormalization\n",
    "from keras.models import Model"
   ]
  },
  {
   "cell_type": "markdown",
   "metadata": {},
   "source": [
    "## Configurações Globais"
   ]
  },
  {
   "cell_type": "code",
   "execution_count": 5,
   "metadata": {},
   "outputs": [],
   "source": [
    "EMBEDDING_DIM = 300\n",
    "MAX_NB_WORDS = 2000"
   ]
  },
  {
   "cell_type": "code",
   "execution_count": 6,
   "metadata": {},
   "outputs": [],
   "source": [
    "DOMAIN = 'openoffice'\n",
    "METHOD = 'propose'\n",
    "DIR = 'data/processed/{}'.format(DOMAIN)\n",
    "DATASET = os.path.join('data/normalized/{}'.format(DOMAIN), '{}.csv'.format(DOMAIN))\n",
    "DIR_PAIRS = 'data/normalized/{}'.format(DOMAIN)\n",
    "SAVE_PATH = '{}_classification({})'.format(METHOD, DOMAIN)\n",
    "PRETRAINED_MODEL = 'modelos/model_{}_feature_100epochs_64batch({}).h5'.format(METHOD, DOMAIN)"
   ]
  },
  {
   "cell_type": "code",
   "execution_count": 7,
   "metadata": {},
   "outputs": [
    {
     "data": {
      "text/plain": [
       "'modelos/model_propose_feature_100epochs_64batch(openoffice).h5'"
      ]
     },
     "execution_count": 7,
     "metadata": {},
     "output_type": "execute_result"
    }
   ],
   "source": [
    "PRETRAINED_MODEL"
   ]
  },
  {
   "cell_type": "code",
   "execution_count": 8,
   "metadata": {
    "scrolled": true
   },
   "outputs": [
    {
     "name": "stderr",
     "output_type": "stream",
     "text": [
      "/usr/local/lib/python3.5/dist-packages/keras/engine/saving.py:292: UserWarning: No training configuration found in save file: the model was *not* compiled. Compile it manually.\n",
      "  warnings.warn('No training configuration found in save file: '\n"
     ]
    }
   ],
   "source": [
    "import keras\n",
    "from keras.models import Model\n",
    "from keras.layers import Input\n",
    "from keras.models import load_model\n",
    "import keras.backend as K\n",
    "\n",
    "K.clear_session()\n",
    "\n",
    "\"\"\"\n",
    "    A lista de modelos estar disponível no diretorio /modelos\n",
    "        name:\n",
    "            - model_baseline_{X}epoch_{Y}steps_({dataset}).h5\n",
    "            - model_baseline_{X}epoch_{Y}steps_({dataset}).json\n",
    "    \n",
    "        Informações adicionais:\n",
    "            {X} - total de épocas treinada. Ex: 100, 1000\n",
    "            {Y} - total de steps validados no treino. Ex: 10, 16\n",
    "            {dataset} - Nome da base testada. Ex: Eclipse, Netbeans, OpenOffice\n",
    "\"\"\"\n",
    "similarity_model = load_model(PRETRAINED_MODEL)"
   ]
  },
  {
   "cell_type": "code",
   "execution_count": 9,
   "metadata": {},
   "outputs": [
    {
     "name": "stdout",
     "output_type": "stream",
     "text": [
      "__________________________________________________________________________________________________\n",
      "Layer (type)                    Output Shape         Param #     Connected to                     \n",
      "==================================================================================================\n",
      "info_in (InputLayer)            (None, 729)          0                                            \n",
      "__________________________________________________________________________________________________\n",
      "title_in (InputLayer)           (None, 20)           0                                            \n",
      "__________________________________________________________________________________________________\n",
      "desc_in (InputLayer)            (None, 150)          0                                            \n",
      "__________________________________________________________________________________________________\n",
      "FeatureMlpGenerationModel (Mode (None, 300)          219000      info_in[0][0]                    \n",
      "__________________________________________________________________________________________________\n",
      "FeatureLstmGenerationModel (Mod (None, 300)          23086051    title_in[0][0]                   \n",
      "__________________________________________________________________________________________________\n",
      "FeatureCNNGenerationModel (Mode (None, 300)          23239392    desc_in[0][0]                    \n",
      "__________________________________________________________________________________________________\n",
      "merge_features_in (Concatenate) (None, 900)          0           FeatureMlpGenerationModel[1][0]  \n",
      "                                                                 FeatureLstmGenerationModel[1][0] \n",
      "                                                                 FeatureCNNGenerationModel[1][0]  \n",
      "==================================================================================================\n",
      "Total params: 46,544,443\n",
      "Trainable params: 565,843\n",
      "Non-trainable params: 45,978,600\n",
      "__________________________________________________________________________________________________\n"
     ]
    }
   ],
   "source": [
    "similarity_model.summary()"
   ]
  },
  {
   "cell_type": "code",
   "execution_count": 10,
   "metadata": {},
   "outputs": [
    {
     "data": {
      "text/plain": [
       "(20, 150, 729)"
      ]
     },
     "execution_count": 10,
     "metadata": {},
     "output_type": "execute_result"
    }
   ],
   "source": [
    "import keras.backend as K\n",
    "\n",
    "MAX_SEQUENCE_LENGTH_T = K.int_shape(similarity_model.input[0])[1]\n",
    "MAX_SEQUENCE_LENGTH_D = K.int_shape(similarity_model.input[1])[1]\n",
    "MAX_SEQUENCE_LENGTH_I = K.int_shape(similarity_model.input[2])[1]\n",
    "\n",
    "MAX_SEQUENCE_LENGTH_T, MAX_SEQUENCE_LENGTH_D, MAX_SEQUENCE_LENGTH_I"
   ]
  },
  {
   "cell_type": "code",
   "execution_count": 11,
   "metadata": {},
   "outputs": [],
   "source": [
    "baseline = Baseline(DIR, DATASET, MAX_SEQUENCE_LENGTH_T, MAX_SEQUENCE_LENGTH_D)\n",
    "evaluation = Evaluation(verbose=0)\n",
    "retrieval = Retrieval()\n",
    "experiment = Experiment(baseline, evaluation)"
   ]
  },
  {
   "cell_type": "code",
   "execution_count": 12,
   "metadata": {},
   "outputs": [
    {
     "data": {
      "text/plain": [
       "{'bug_severity': 6,\n",
       " 'bug_status': 3,\n",
       " 'component': 137,\n",
       " 'priority': 5,\n",
       " 'product': 41,\n",
       " 'version': 537}"
      ]
     },
     "execution_count": 12,
     "metadata": {},
     "output_type": "execute_result"
    }
   ],
   "source": [
    "baseline.info_dict"
   ]
  },
  {
   "cell_type": "code",
   "execution_count": 13,
   "metadata": {},
   "outputs": [
    {
     "name": "stdout",
     "output_type": "stream",
     "text": [
      "Creating the buckets...\n"
     ]
    },
    {
     "data": {
      "application/vnd.jupyter.widget-view+json": {
       "model_id": "ac6b7f02cf464f6ea72780079b8e756d",
       "version_major": 2,
       "version_minor": 0
      },
      "text/plain": [
       "HBox(children=(IntProgress(value=0, max=57667), HTML(value='')))"
      ]
     },
     "metadata": {},
     "output_type": "display_data"
    },
    {
     "name": "stdout",
     "output_type": "stream",
     "text": [
      "\n"
     ]
    },
    {
     "data": {
      "application/vnd.jupyter.widget-view+json": {
       "model_id": "2b92dd9a3190486ebf143d505a1f2958",
       "version_major": 2,
       "version_minor": 0
      },
      "text/plain": [
       "HBox(children=(IntProgress(value=0, max=14567), HTML(value='')))"
      ]
     },
     "metadata": {},
     "output_type": "display_data"
    },
    {
     "name": "stdout",
     "output_type": "stream",
     "text": [
      "\n"
     ]
    }
   ],
   "source": [
    "experiment.set_retrieval(retrieval, baseline, DOMAIN)"
   ]
  },
  {
   "cell_type": "markdown",
   "metadata": {},
   "source": [
    "#### Loading bug ids in memory"
   ]
  },
  {
   "cell_type": "code",
   "execution_count": 14,
   "metadata": {},
   "outputs": [
    {
     "name": "stdout",
     "output_type": "stream",
     "text": [
      "Reading bug ids\n"
     ]
    },
    {
     "data": {
      "text/plain": [
       "72234"
      ]
     },
     "execution_count": 14,
     "metadata": {},
     "output_type": "execute_result"
    }
   ],
   "source": [
    "experiment.load_ids()\n",
    "len(baseline.bug_ids)"
   ]
  },
  {
   "cell_type": "markdown",
   "metadata": {},
   "source": [
    "#### Loading train bugs"
   ]
  },
  {
   "cell_type": "code",
   "execution_count": 15,
   "metadata": {},
   "outputs": [
    {
     "data": {
      "application/vnd.jupyter.widget-view+json": {
       "model_id": "114c60cc191b4dd289dfa5ac3944a001",
       "version_major": 2,
       "version_minor": 0
      },
      "text/plain": [
       "HBox(children=(IntProgress(value=0, max=72234), HTML(value='')))"
      ]
     },
     "metadata": {},
     "output_type": "display_data"
    },
    {
     "name": "stdout",
     "output_type": "stream",
     "text": [
      "\n"
     ]
    },
    {
     "data": {
      "application/vnd.jupyter.widget-view+json": {
       "model_id": "de6b682cad484741b8fa26cf3dc45a25",
       "version_major": 2,
       "version_minor": 0
      },
      "text/plain": [
       "HBox(children=(IntProgress(value=1, bar_style='info', max=1), HTML(value='')))"
      ]
     },
     "metadata": {},
     "output_type": "display_data"
    },
    {
     "name": "stdout",
     "output_type": "stream",
     "text": [
      "\n",
      "CPU times: user 9.96 s, sys: 669 ms, total: 10.6 s\n",
      "Wall time: 10.5 s\n"
     ]
    }
   ],
   "source": [
    "%%time\n",
    "\n",
    "experiment.load_bugs()"
   ]
  },
  {
   "cell_type": "code",
   "execution_count": 16,
   "metadata": {},
   "outputs": [
    {
     "data": {
      "application/vnd.jupyter.widget-view+json": {
       "model_id": "2747c6a42d79441e93314481787f8ded",
       "version_major": 2,
       "version_minor": 0
      },
      "text/plain": [
       "HBox(children=(IntProgress(value=0, max=58572), HTML(value='')))"
      ]
     },
     "metadata": {},
     "output_type": "display_data"
    },
    {
     "name": "stdout",
     "output_type": "stream",
     "text": [
      "\n",
      "Reading train data\n",
      "Reading bug ids\n",
      "CPU times: user 19.6 s, sys: 0 ns, total: 19.6 s\n",
      "Wall time: 19.6 s\n"
     ]
    }
   ],
   "source": [
    "%%time\n",
    "issues_by_buckets = experiment.get_buckets_for_bugs()\n",
    "experiment.prepare_dataset(issues_by_buckets, path_train='train_chronological', path_test='test_chronological')"
   ]
  },
  {
   "cell_type": "code",
   "execution_count": 17,
   "metadata": {},
   "outputs": [
    {
     "name": "stdout",
     "output_type": "stream",
     "text": [
      "CPU times: user 8.55 ms, sys: 0 ns, total: 8.55 ms\n",
      "Wall time: 8.51 ms\n"
     ]
    }
   ],
   "source": [
    "%%time\n",
    "\n",
    "bug_train_ids = experiment.get_train_ids(baseline.train_data)\n",
    "len(bug_train_ids)"
   ]
  },
  {
   "cell_type": "code",
   "execution_count": 18,
   "metadata": {},
   "outputs": [
    {
     "name": "stdout",
     "output_type": "stream",
     "text": [
      "Reading test data for classification\n",
      "CPU times: user 5.06 s, sys: 9.92 ms, total: 5.07 s\n",
      "Wall time: 5.07 s\n"
     ]
    }
   ],
   "source": [
    "%%time\n",
    "\n",
    "baseline.test_data, baseline.dup_sets_test = experiment.read_test_data_classification(DIR, baseline.bug_set, bug_train_ids)"
   ]
  },
  {
   "cell_type": "code",
   "execution_count": 19,
   "metadata": {},
   "outputs": [],
   "source": [
    "bug_test_ids = experiment.get_test_ids(baseline.test_data)"
   ]
  },
  {
   "cell_type": "markdown",
   "metadata": {},
   "source": [
    "## Siamese  model"
   ]
  },
  {
   "cell_type": "code",
   "execution_count": 20,
   "metadata": {},
   "outputs": [],
   "source": [
    "# Freeze weights\n",
    "for layer in similarity_model.layers:\n",
    "    layer.trainable = False"
   ]
  },
  {
   "cell_type": "code",
   "execution_count": 21,
   "metadata": {},
   "outputs": [
    {
     "name": "stdout",
     "output_type": "stream",
     "text": [
      "__________________________________________________________________________________________________\n",
      "Layer (type)                    Output Shape         Param #     Connected to                     \n",
      "==================================================================================================\n",
      "info_a (InputLayer)             (None, 729)          0                                            \n",
      "__________________________________________________________________________________________________\n",
      "title_a (InputLayer)            (None, 20)           0                                            \n",
      "__________________________________________________________________________________________________\n",
      "desc_a (InputLayer)             (None, 150)          0                                            \n",
      "__________________________________________________________________________________________________\n",
      "info_b (InputLayer)             (None, 729)          0                                            \n",
      "__________________________________________________________________________________________________\n",
      "title_b (InputLayer)            (None, 20)           0                                            \n",
      "__________________________________________________________________________________________________\n",
      "desc_b (InputLayer)             (None, 150)          0                                            \n",
      "__________________________________________________________________________________________________\n",
      "FeatureMlpGenerationModel (Mode (None, 300)          219000      info_a[0][0]                     \n",
      "                                                                 info_b[0][0]                     \n",
      "__________________________________________________________________________________________________\n",
      "FeatureLstmGenerationModel (Mod (None, 300)          23086051    title_a[0][0]                    \n",
      "                                                                 title_b[0][0]                    \n",
      "__________________________________________________________________________________________________\n",
      "FeatureCNNGenerationModel (Mode (None, 300)          23239392    desc_a[0][0]                     \n",
      "                                                                 desc_b[0][0]                     \n",
      "__________________________________________________________________________________________________\n",
      "merge_features_in (Concatenate) (None, 900)          0           FeatureMlpGenerationModel[2][0]  \n",
      "                                                                 FeatureLstmGenerationModel[2][0] \n",
      "                                                                 FeatureCNNGenerationModel[2][0]  \n",
      "                                                                 FeatureMlpGenerationModel[3][0]  \n",
      "                                                                 FeatureLstmGenerationModel[3][0] \n",
      "                                                                 FeatureCNNGenerationModel[3][0]  \n",
      "__________________________________________________________________________________________________\n",
      "bugs (Concatenate)              (None, 1800)         0           merge_features_in[1][0]          \n",
      "                                                                 merge_features_in[2][0]          \n",
      "__________________________________________________________________________________________________\n",
      "dense_1 (Dense)                 (None, 128)          230528      bugs[0][0]                       \n",
      "__________________________________________________________________________________________________\n",
      "activation_1 (Activation)       (None, 128)          0           dense_1[0][0]                    \n",
      "__________________________________________________________________________________________________\n",
      "batch_normalization_1 (BatchNor (None, 128)          512         activation_1[0][0]               \n",
      "__________________________________________________________________________________________________\n",
      "dense_2 (Dense)                 (None, 128)          16512       batch_normalization_1[0][0]      \n",
      "__________________________________________________________________________________________________\n",
      "activation_2 (Activation)       (None, 128)          0           dense_2[0][0]                    \n",
      "__________________________________________________________________________________________________\n",
      "batch_normalization_2 (BatchNor (None, 128)          512         activation_2[0][0]               \n",
      "__________________________________________________________________________________________________\n",
      "output (Dense)                  (None, 2)            258         batch_normalization_2[0][0]      \n",
      "==================================================================================================\n",
      "Total params: 46,792,765\n",
      "Trainable params: 247,810\n",
      "Non-trainable params: 46,544,955\n",
      "__________________________________________________________________________________________________\n"
     ]
    }
   ],
   "source": [
    "from keras.layers import concatenate, Dropout, Add, Flatten\n",
    "\n",
    "bug_t_a = Input(shape = (MAX_SEQUENCE_LENGTH_T, ), name = 'title_a')\n",
    "bug_t_b = Input(shape = (MAX_SEQUENCE_LENGTH_T, ), name = 'title_b')\n",
    "\n",
    "bug_d_a = Input(shape = (MAX_SEQUENCE_LENGTH_D, ), name = 'desc_a')\n",
    "bug_d_b = Input(shape = (MAX_SEQUENCE_LENGTH_D, ), name = 'desc_b')\n",
    "\n",
    "bug_i_a = Input(shape = (MAX_SEQUENCE_LENGTH_I, ), name = 'info_a')\n",
    "bug_i_b = Input(shape = (MAX_SEQUENCE_LENGTH_I, ), name = 'info_b')\n",
    "\n",
    "title_encoder = similarity_model.get_layer('FeatureLstmGenerationModel')\n",
    "desc_encoder = similarity_model.get_layer('FeatureCNNGenerationModel')\n",
    "info_encoder = similarity_model.get_layer('FeatureMlpGenerationModel')\n",
    "\n",
    "model = similarity_model.get_layer('merge_features_in')\n",
    "\n",
    "# Bug A\n",
    "bugt_t_a = title_encoder(bug_t_a)\n",
    "bugt_d_a = desc_encoder(bug_d_a)\n",
    "bugt_i_a = info_encoder(bug_i_a)\n",
    "# Bug B\n",
    "bugt_t_b = title_encoder(bug_t_b)\n",
    "bugt_d_b = desc_encoder(bug_d_b)\n",
    "bugt_i_b = info_encoder(bug_i_b)\n",
    "\n",
    "bug_a = model([bugt_i_a, bugt_t_a, bugt_d_a])\n",
    "bug_b = model([bugt_i_b, bugt_t_b, bugt_d_b])\n",
    "\n",
    "x = concatenate([bug_a, bug_b], name='bugs') # \n",
    "\n",
    "for _ in range(2):\n",
    "    x = Dense(128)(x)\n",
    "#     x = Dropout(0.5)(x)\n",
    "    x = Activation('relu')(x)\n",
    "    x = BatchNormalization()(x)\n",
    "\n",
    "output = Dense(2, activation = 'softmax', name = 'output')(x)\n",
    "\n",
    "model_clf = Model(inputs=[bug_t_a, bug_t_b, bug_d_a, bug_d_b, bug_i_a, bug_i_b], outputs=[output])\n",
    "\n",
    "#adam = keras.optimizers.Adam(lr=0.005, beta_1=0.9, beta_2=0.999, epsilon=None, decay=0.1, amsgrad=False)\n",
    "\n",
    "model_clf.compile(optimizer='adam', loss='binary_crossentropy', metrics = ['accuracy'])\n",
    "model_clf.summary()"
   ]
  },
  {
   "cell_type": "code",
   "execution_count": 22,
   "metadata": {},
   "outputs": [],
   "source": [
    "from keras.utils import to_categorical\n",
    "from sklearn.preprocessing import LabelEncoder\n",
    "\n",
    "def batch_classification(train, dup_sets, bug_ids, batch_size, n_neg):\n",
    "    encoder = LabelEncoder()\n",
    "    batch_size_normalized = batch_size // 2\n",
    "    batch_triplet, input_sample, input_pos, input_neg, sim = baseline.batch_iterator(train, dup_sets, \n",
    "                                                                                     bug_ids, \n",
    "                                                                                     batch_size_normalized, n_neg)\n",
    "    \n",
    "    pos = np.full((1, batch_size_normalized), 1)\n",
    "    neg = np.full((1, batch_size_normalized), 0)\n",
    "    sim = np.concatenate([pos, neg], -1)[0]\n",
    "    \n",
    "    sim = encoder.fit_transform(sim)\n",
    "    sim = to_categorical(sim)\n",
    "\n",
    "    title_a = np.concatenate([input_sample['title'], input_sample['title']])\n",
    "    title_b = np.concatenate([input_pos['title'], input_neg['title']])\n",
    "    desc_a = np.concatenate([input_sample['description'], input_sample['description']])\n",
    "    desc_b = np.concatenate([input_pos['description'], input_neg['description']])\n",
    "    info_a = np.concatenate([input_sample['info'], input_sample['info']])\n",
    "    info_b = np.concatenate([input_pos['info'], input_neg['info']])\n",
    "    \n",
    "    return title_a, title_b, desc_a, desc_b, info_a, info_b, sim\n",
    "\n",
    "def batch_classification_siamese(train, dup_sets, bug_ids, batch_size, n_neg):\n",
    "    while True:\n",
    "        title_a, title_b, desc_a, desc_b, info_a, info_b, sim = batch_classification(train, dup_sets, \n",
    "                                                                                     bug_ids, batch_size, n_neg)\n",
    "        \n",
    "        yield ({ 'title_a' : title_a, 'title_b': title_b, \n",
    "        'desc_a' : desc_a, 'desc_b' : desc_b, 'info_a' : info_a, 'info_b' : info_b }, sim)"
   ]
  },
  {
   "cell_type": "code",
   "execution_count": 23,
   "metadata": {},
   "outputs": [],
   "source": [
    "title_a, title_b, desc_a, desc_b, info_a, info_b, sim = batch_classification(baseline.train_data, \n",
    "                                                                             baseline.dup_sets_train,\n",
    "                                                                             bug_train_ids, 512, 1)\n",
    "test_validation = ({ 'title_a' : title_a, 'title_b': title_b, \n",
    "        'desc_a' : desc_a, 'desc_b' : desc_b, 'info_a' : info_a, 'info_b' : info_b }, sim)"
   ]
  },
  {
   "cell_type": "code",
   "execution_count": 24,
   "metadata": {
    "scrolled": true
   },
   "outputs": [
    {
     "name": "stdout",
     "output_type": "stream",
     "text": [
      "Epoch 1/100\n",
      "10/10 [==============================] - 3s 270ms/step - loss: 0.5791 - acc: 0.7271 - val_loss: 0.5473 - val_acc: 0.7539\n",
      "Epoch 2/100\n",
      "10/10 [==============================] - 1s 80ms/step - loss: 0.4680 - acc: 0.7817 - val_loss: 0.5063 - val_acc: 0.7812\n",
      "Epoch 3/100\n",
      "10/10 [==============================] - 1s 80ms/step - loss: 0.4229 - acc: 0.8149 - val_loss: 0.4505 - val_acc: 0.7871\n",
      "Epoch 4/100\n",
      "10/10 [==============================] - 1s 81ms/step - loss: 0.4205 - acc: 0.8129 - val_loss: 0.4431 - val_acc: 0.8027\n",
      "Epoch 5/100\n",
      "10/10 [==============================] - 1s 80ms/step - loss: 0.3996 - acc: 0.8238 - val_loss: 0.4361 - val_acc: 0.8027\n",
      "Epoch 6/100\n",
      "10/10 [==============================] - 1s 81ms/step - loss: 0.3907 - acc: 0.8292 - val_loss: 0.4174 - val_acc: 0.8145\n",
      "Epoch 7/100\n",
      "10/10 [==============================] - 1s 80ms/step - loss: 0.3845 - acc: 0.8316 - val_loss: 0.4121 - val_acc: 0.8281\n",
      "Epoch 8/100\n",
      "10/10 [==============================] - 1s 80ms/step - loss: 0.3792 - acc: 0.8350 - val_loss: 0.3881 - val_acc: 0.8359\n",
      "Epoch 9/100\n",
      "10/10 [==============================] - 1s 80ms/step - loss: 0.3670 - acc: 0.8417 - val_loss: 0.3879 - val_acc: 0.8203\n",
      "Epoch 10/100\n",
      "10/10 [==============================] - 1s 79ms/step - loss: 0.3788 - acc: 0.8343 - val_loss: 0.3823 - val_acc: 0.8438\n",
      "Epoch 11/100\n",
      "10/10 [==============================] - 1s 79ms/step - loss: 0.3501 - acc: 0.8518 - val_loss: 0.3876 - val_acc: 0.8398\n",
      "Epoch 12/100\n",
      "10/10 [==============================] - 1s 80ms/step - loss: 0.3544 - acc: 0.8491 - val_loss: 0.3701 - val_acc: 0.8477\n",
      "Epoch 13/100\n",
      "10/10 [==============================] - 1s 80ms/step - loss: 0.3473 - acc: 0.8515 - val_loss: 0.3840 - val_acc: 0.8516\n",
      "Epoch 14/100\n",
      "10/10 [==============================] - 1s 81ms/step - loss: 0.3610 - acc: 0.8461 - val_loss: 0.3661 - val_acc: 0.8594\n",
      "Epoch 15/100\n",
      "10/10 [==============================] - 1s 80ms/step - loss: 0.3458 - acc: 0.8535 - val_loss: 0.3558 - val_acc: 0.8633\n",
      "Epoch 16/100\n",
      "10/10 [==============================] - 1s 80ms/step - loss: 0.3395 - acc: 0.8543 - val_loss: 0.3562 - val_acc: 0.8613\n",
      "Epoch 17/100\n",
      "10/10 [==============================] - 1s 79ms/step - loss: 0.3371 - acc: 0.8603 - val_loss: 0.3671 - val_acc: 0.8555\n",
      "Epoch 18/100\n",
      "10/10 [==============================] - 1s 80ms/step - loss: 0.3385 - acc: 0.8591 - val_loss: 0.3659 - val_acc: 0.8516\n",
      "Epoch 19/100\n",
      "10/10 [==============================] - 1s 81ms/step - loss: 0.3353 - acc: 0.8553 - val_loss: 0.3480 - val_acc: 0.8652\n",
      "Epoch 20/100\n",
      "10/10 [==============================] - 1s 80ms/step - loss: 0.3186 - acc: 0.8669 - val_loss: 0.3385 - val_acc: 0.8633\n",
      "Epoch 21/100\n",
      "10/10 [==============================] - 1s 81ms/step - loss: 0.3158 - acc: 0.8710 - val_loss: 0.3354 - val_acc: 0.8613\n",
      "Epoch 22/100\n",
      "10/10 [==============================] - 1s 80ms/step - loss: 0.3301 - acc: 0.8633 - val_loss: 0.3382 - val_acc: 0.8594\n",
      "Epoch 23/100\n",
      "10/10 [==============================] - 1s 80ms/step - loss: 0.3231 - acc: 0.8640 - val_loss: 0.3374 - val_acc: 0.8633\n",
      "Epoch 24/100\n",
      "10/10 [==============================] - 1s 79ms/step - loss: 0.3166 - acc: 0.8669 - val_loss: 0.3400 - val_acc: 0.8613\n",
      "Epoch 25/100\n",
      "10/10 [==============================] - 1s 81ms/step - loss: 0.3149 - acc: 0.8698 - val_loss: 0.3512 - val_acc: 0.8613\n",
      "Epoch 26/100\n",
      "10/10 [==============================] - 1s 80ms/step - loss: 0.3058 - acc: 0.8711 - val_loss: 0.3231 - val_acc: 0.8594\n",
      "Epoch 27/100\n",
      "10/10 [==============================] - 1s 81ms/step - loss: 0.2955 - acc: 0.8810 - val_loss: 0.3309 - val_acc: 0.8574\n",
      "Epoch 28/100\n",
      "10/10 [==============================] - 1s 81ms/step - loss: 0.3026 - acc: 0.8762 - val_loss: 0.3124 - val_acc: 0.8770\n",
      "Epoch 29/100\n",
      "10/10 [==============================] - 1s 80ms/step - loss: 0.3049 - acc: 0.8712 - val_loss: 0.3264 - val_acc: 0.8594\n",
      "Epoch 30/100\n",
      "10/10 [==============================] - 1s 81ms/step - loss: 0.3110 - acc: 0.8745 - val_loss: 0.3061 - val_acc: 0.8750\n",
      "Epoch 31/100\n",
      "10/10 [==============================] - 1s 80ms/step - loss: 0.3066 - acc: 0.8748 - val_loss: 0.3234 - val_acc: 0.8613\n",
      "Epoch 32/100\n",
      "10/10 [==============================] - 1s 81ms/step - loss: 0.2999 - acc: 0.8780 - val_loss: 0.2969 - val_acc: 0.8809\n",
      "Epoch 33/100\n",
      "10/10 [==============================] - 1s 79ms/step - loss: 0.2947 - acc: 0.8771 - val_loss: 0.3117 - val_acc: 0.8691\n",
      "Epoch 34/100\n",
      "10/10 [==============================] - 1s 79ms/step - loss: 0.2884 - acc: 0.8845 - val_loss: 0.3018 - val_acc: 0.8691\n",
      "Epoch 35/100\n",
      "10/10 [==============================] - 1s 82ms/step - loss: 0.2972 - acc: 0.8778 - val_loss: 0.2954 - val_acc: 0.8809\n",
      "Epoch 36/100\n",
      "10/10 [==============================] - 1s 81ms/step - loss: 0.2850 - acc: 0.8846 - val_loss: 0.3073 - val_acc: 0.8809\n",
      "Epoch 37/100\n",
      "10/10 [==============================] - 1s 79ms/step - loss: 0.2873 - acc: 0.8835 - val_loss: 0.3116 - val_acc: 0.8652\n",
      "Epoch 38/100\n",
      "10/10 [==============================] - 1s 80ms/step - loss: 0.2932 - acc: 0.8786 - val_loss: 0.3065 - val_acc: 0.8809\n",
      "Epoch 39/100\n",
      "10/10 [==============================] - 1s 80ms/step - loss: 0.2839 - acc: 0.8815 - val_loss: 0.2864 - val_acc: 0.8984\n",
      "Epoch 40/100\n",
      "10/10 [==============================] - 1s 79ms/step - loss: 0.2826 - acc: 0.8838 - val_loss: 0.2965 - val_acc: 0.8750\n",
      "Epoch 41/100\n",
      "10/10 [==============================] - 1s 81ms/step - loss: 0.2747 - acc: 0.8872 - val_loss: 0.2965 - val_acc: 0.8711\n",
      "Epoch 42/100\n",
      "10/10 [==============================] - 1s 80ms/step - loss: 0.2899 - acc: 0.8814 - val_loss: 0.3024 - val_acc: 0.8828\n",
      "Epoch 43/100\n",
      "10/10 [==============================] - 1s 79ms/step - loss: 0.2794 - acc: 0.8861 - val_loss: 0.2728 - val_acc: 0.8984\n",
      "Epoch 44/100\n",
      "10/10 [==============================] - 1s 79ms/step - loss: 0.2788 - acc: 0.8840 - val_loss: 0.3140 - val_acc: 0.8691\n",
      "Epoch 45/100\n",
      "10/10 [==============================] - 1s 80ms/step - loss: 0.2850 - acc: 0.8852 - val_loss: 0.2801 - val_acc: 0.8848\n",
      "Epoch 46/100\n",
      "10/10 [==============================] - 1s 80ms/step - loss: 0.2720 - acc: 0.8901 - val_loss: 0.2790 - val_acc: 0.8906\n",
      "Epoch 47/100\n",
      "10/10 [==============================] - 1s 80ms/step - loss: 0.2823 - acc: 0.8862 - val_loss: 0.2898 - val_acc: 0.8926\n",
      "Epoch 48/100\n",
      "10/10 [==============================] - 1s 80ms/step - loss: 0.2827 - acc: 0.8854 - val_loss: 0.2882 - val_acc: 0.8867\n",
      "Epoch 49/100\n",
      "10/10 [==============================] - 1s 81ms/step - loss: 0.2772 - acc: 0.8889 - val_loss: 0.2801 - val_acc: 0.8984\n",
      "Epoch 50/100\n",
      "10/10 [==============================] - 1s 80ms/step - loss: 0.2738 - acc: 0.8896 - val_loss: 0.2720 - val_acc: 0.8965\n",
      "Epoch 51/100\n",
      "10/10 [==============================] - 1s 81ms/step - loss: 0.2687 - acc: 0.8944 - val_loss: 0.2958 - val_acc: 0.8691\n",
      "Epoch 52/100\n",
      "10/10 [==============================] - 1s 81ms/step - loss: 0.2605 - acc: 0.8923 - val_loss: 0.2684 - val_acc: 0.8984\n",
      "Epoch 53/100\n",
      "10/10 [==============================] - 1s 80ms/step - loss: 0.2708 - acc: 0.8896 - val_loss: 0.2702 - val_acc: 0.9062\n",
      "Epoch 54/100\n",
      "10/10 [==============================] - 1s 81ms/step - loss: 0.2634 - acc: 0.8918 - val_loss: 0.2668 - val_acc: 0.8984\n",
      "Epoch 55/100\n",
      "10/10 [==============================] - 1s 81ms/step - loss: 0.2691 - acc: 0.8892 - val_loss: 0.2630 - val_acc: 0.9062\n",
      "Epoch 56/100\n",
      "10/10 [==============================] - 1s 80ms/step - loss: 0.2756 - acc: 0.8863 - val_loss: 0.2803 - val_acc: 0.8867\n",
      "Epoch 57/100\n",
      "10/10 [==============================] - 1s 80ms/step - loss: 0.2556 - acc: 0.8945 - val_loss: 0.2754 - val_acc: 0.8926\n",
      "Epoch 58/100\n",
      "10/10 [==============================] - 1s 80ms/step - loss: 0.2620 - acc: 0.8942 - val_loss: 0.2776 - val_acc: 0.8848\n",
      "Epoch 59/100\n",
      "10/10 [==============================] - 1s 80ms/step - loss: 0.2629 - acc: 0.8925 - val_loss: 0.2743 - val_acc: 0.8926\n",
      "Epoch 60/100\n",
      "10/10 [==============================] - 1s 80ms/step - loss: 0.2591 - acc: 0.8964 - val_loss: 0.2567 - val_acc: 0.8965\n",
      "Epoch 61/100\n",
      "10/10 [==============================] - 1s 80ms/step - loss: 0.2604 - acc: 0.8940 - val_loss: 0.2628 - val_acc: 0.8828\n",
      "Epoch 62/100\n"
     ]
    },
    {
     "name": "stdout",
     "output_type": "stream",
     "text": [
      "10/10 [==============================] - 1s 81ms/step - loss: 0.2572 - acc: 0.8947 - val_loss: 0.2506 - val_acc: 0.9004\n",
      "Epoch 63/100\n",
      "10/10 [==============================] - 1s 79ms/step - loss: 0.2609 - acc: 0.8924 - val_loss: 0.2598 - val_acc: 0.8945\n",
      "Epoch 64/100\n",
      "10/10 [==============================] - 1s 80ms/step - loss: 0.2568 - acc: 0.8977 - val_loss: 0.2629 - val_acc: 0.8828\n",
      "Epoch 65/100\n",
      "10/10 [==============================] - 1s 80ms/step - loss: 0.2486 - acc: 0.9010 - val_loss: 0.2588 - val_acc: 0.8887\n",
      "Epoch 66/100\n",
      "10/10 [==============================] - 1s 80ms/step - loss: 0.2589 - acc: 0.8943 - val_loss: 0.2526 - val_acc: 0.8887\n",
      "Epoch 67/100\n",
      "10/10 [==============================] - 1s 81ms/step - loss: 0.2470 - acc: 0.9016 - val_loss: 0.2496 - val_acc: 0.8965\n",
      "Epoch 68/100\n",
      "10/10 [==============================] - 1s 79ms/step - loss: 0.2614 - acc: 0.8939 - val_loss: 0.2319 - val_acc: 0.9121\n",
      "Epoch 69/100\n",
      "10/10 [==============================] - 1s 80ms/step - loss: 0.2474 - acc: 0.9003 - val_loss: 0.2611 - val_acc: 0.8965\n",
      "Epoch 70/100\n",
      "10/10 [==============================] - 1s 80ms/step - loss: 0.2453 - acc: 0.9042 - val_loss: 0.2557 - val_acc: 0.8945\n",
      "Epoch 71/100\n",
      "10/10 [==============================] - 1s 81ms/step - loss: 0.2568 - acc: 0.8992 - val_loss: 0.2601 - val_acc: 0.9004\n",
      "Epoch 72/100\n",
      "10/10 [==============================] - 1s 80ms/step - loss: 0.2444 - acc: 0.9081 - val_loss: 0.2494 - val_acc: 0.8984\n",
      "Epoch 73/100\n",
      "10/10 [==============================] - 1s 80ms/step - loss: 0.2435 - acc: 0.9049 - val_loss: 0.2409 - val_acc: 0.9004\n",
      "Epoch 74/100\n",
      "10/10 [==============================] - 1s 79ms/step - loss: 0.2370 - acc: 0.9064 - val_loss: 0.2675 - val_acc: 0.8984\n",
      "Epoch 75/100\n",
      "10/10 [==============================] - 1s 82ms/step - loss: 0.2422 - acc: 0.9053 - val_loss: 0.2586 - val_acc: 0.8945\n",
      "Epoch 76/100\n",
      "10/10 [==============================] - 1s 81ms/step - loss: 0.2586 - acc: 0.8938 - val_loss: 0.2742 - val_acc: 0.8945\n",
      "Epoch 77/100\n",
      "10/10 [==============================] - 1s 80ms/step - loss: 0.2573 - acc: 0.8962 - val_loss: 0.2950 - val_acc: 0.8984\n",
      "Epoch 78/100\n",
      "10/10 [==============================] - 1s 79ms/step - loss: 0.2351 - acc: 0.9078 - val_loss: 0.2749 - val_acc: 0.9062\n",
      "Epoch 79/100\n",
      "10/10 [==============================] - 1s 81ms/step - loss: 0.2449 - acc: 0.9024 - val_loss: 0.2547 - val_acc: 0.9023\n",
      "Epoch 80/100\n",
      "10/10 [==============================] - 1s 81ms/step - loss: 0.2433 - acc: 0.9027 - val_loss: 0.2610 - val_acc: 0.8926\n",
      "Epoch 81/100\n",
      "10/10 [==============================] - 1s 80ms/step - loss: 0.2401 - acc: 0.9062 - val_loss: 0.2504 - val_acc: 0.9141\n",
      "Epoch 82/100\n",
      "10/10 [==============================] - 1s 80ms/step - loss: 0.2364 - acc: 0.9059 - val_loss: 0.2370 - val_acc: 0.9082\n",
      "Epoch 83/100\n",
      "10/10 [==============================] - 1s 81ms/step - loss: 0.2304 - acc: 0.9104 - val_loss: 0.2515 - val_acc: 0.8945\n",
      "Epoch 84/100\n",
      "10/10 [==============================] - 1s 80ms/step - loss: 0.2386 - acc: 0.9079 - val_loss: 0.2560 - val_acc: 0.9082\n",
      "Epoch 85/100\n",
      "10/10 [==============================] - 1s 79ms/step - loss: 0.2396 - acc: 0.9047 - val_loss: 0.2633 - val_acc: 0.9023\n",
      "Epoch 86/100\n",
      "10/10 [==============================] - 1s 78ms/step - loss: 0.2444 - acc: 0.9033 - val_loss: 0.2426 - val_acc: 0.9082\n",
      "Epoch 87/100\n",
      "10/10 [==============================] - 1s 80ms/step - loss: 0.2462 - acc: 0.9007 - val_loss: 0.2794 - val_acc: 0.8887\n",
      "Epoch 88/100\n",
      "10/10 [==============================] - 1s 80ms/step - loss: 0.2397 - acc: 0.9047 - val_loss: 0.2457 - val_acc: 0.9160\n",
      "Epoch 89/100\n",
      "10/10 [==============================] - 1s 80ms/step - loss: 0.2290 - acc: 0.9059 - val_loss: 0.2561 - val_acc: 0.8965\n",
      "Epoch 90/100\n",
      "10/10 [==============================] - 1s 81ms/step - loss: 0.2308 - acc: 0.9121 - val_loss: 0.2396 - val_acc: 0.9199\n",
      "Epoch 91/100\n",
      "10/10 [==============================] - 1s 81ms/step - loss: 0.2356 - acc: 0.9064 - val_loss: 0.2502 - val_acc: 0.9141\n",
      "Epoch 92/100\n",
      "10/10 [==============================] - 1s 81ms/step - loss: 0.2245 - acc: 0.9149 - val_loss: 0.2312 - val_acc: 0.9102\n",
      "Epoch 93/100\n",
      "10/10 [==============================] - 1s 80ms/step - loss: 0.2406 - acc: 0.9049 - val_loss: 0.2512 - val_acc: 0.9004\n",
      "Epoch 94/100\n",
      "10/10 [==============================] - 1s 80ms/step - loss: 0.2375 - acc: 0.9087 - val_loss: 0.2524 - val_acc: 0.9023\n",
      "Epoch 95/100\n",
      "10/10 [==============================] - 1s 80ms/step - loss: 0.2253 - acc: 0.9135 - val_loss: 0.2340 - val_acc: 0.9160\n",
      "Epoch 96/100\n",
      "10/10 [==============================] - 1s 80ms/step - loss: 0.2398 - acc: 0.9062 - val_loss: 0.2608 - val_acc: 0.8965\n",
      "Epoch 97/100\n",
      "10/10 [==============================] - 1s 82ms/step - loss: 0.2318 - acc: 0.9088 - val_loss: 0.2404 - val_acc: 0.9102\n",
      "Epoch 98/100\n",
      "10/10 [==============================] - 1s 81ms/step - loss: 0.2158 - acc: 0.9159 - val_loss: 0.2503 - val_acc: 0.9004\n",
      "Epoch 99/100\n",
      "10/10 [==============================] - 1s 80ms/step - loss: 0.2280 - acc: 0.9129 - val_loss: 0.2297 - val_acc: 0.9180\n",
      "Epoch 100/100\n",
      "10/10 [==============================] - 1s 80ms/step - loss: 0.2411 - acc: 0.9086 - val_loss: 0.2675 - val_acc: 0.8770\n",
      "CPU times: user 1min 59s, sys: 10.9 s, total: 2min 10s\n",
      "Wall time: 1min 22s\n"
     ]
    }
   ],
   "source": [
    "%%time\n",
    "\n",
    "early = keras.callbacks.EarlyStopping(monitor='val_loss', patience=15, verbose=1, mode='auto')\n",
    "\n",
    "h_clf = model_clf.fit_generator(batch_classification_siamese(baseline.train_data, \n",
    "                                                             baseline.dup_sets_train, bug_train_ids, 1024, 1), \n",
    "                               steps_per_epoch = 10,\n",
    "                               validation_data=test_validation,\n",
    "                                             epochs = 100,\n",
    "#                                              callbacks=[early],\n",
    "                                             verbose = True) "
   ]
  },
  {
   "cell_type": "code",
   "execution_count": 25,
   "metadata": {
    "scrolled": false
   },
   "outputs": [
    {
     "data": {
      "image/png": "[encoded data removed]",
      "text/plain": [
       "<Figure size 432x288 with 1 Axes>"
      ]
     },
     "metadata": {
      "needs_background": "light"
     },
     "output_type": "display_data"
    },
    {
     "data": {
      "image/png": "[encoded data removed]",
      "text/plain": [
       "<Figure size 432x288 with 1 Axes>"
      ]
     },
     "metadata": {
      "needs_background": "light"
     },
     "output_type": "display_data"
    }
   ],
   "source": [
    "Baseline.validation_accuracy_loss(h_clf)"
   ]
  },
  {
   "cell_type": "markdown",
   "metadata": {},
   "source": [
    "### Accuracy"
   ]
  },
  {
   "cell_type": "code",
   "execution_count": 26,
   "metadata": {},
   "outputs": [],
   "source": [
    "result = { }"
   ]
  },
  {
   "cell_type": "markdown",
   "metadata": {},
   "source": [
    "#### train"
   ]
  },
  {
   "cell_type": "code",
   "execution_count": 27,
   "metadata": {},
   "outputs": [
    {
     "data": {
      "text/plain": [
       "0.888671875"
      ]
     },
     "execution_count": 27,
     "metadata": {},
     "output_type": "execute_result"
    }
   ],
   "source": [
    "from sklearn.metrics import accuracy_score\n",
    "\n",
    "title_a, title_b, desc_a, desc_b, info_a, info_b, sim = batch_classification(baseline.train_data, \n",
    "                                                                             baseline.dup_sets_train, bug_train_ids, 512, 1)\n",
    "\n",
    "y_true = sim\n",
    "y_scores = model_clf.predict([title_a, title_b, desc_a, desc_b, info_a, info_b])\n",
    "\n",
    "def normalize(row):\n",
    "    return [1 if(r > 0.5) else 0 for r in row]\n",
    "\n",
    "y_scores = list(map(normalize, y_scores))\n",
    "# y_scores\n",
    "def decode_ohe(row):\n",
    "    return 0 if(row[0] == 1) else 1\n",
    "y_scores = [ decode_ohe(r) for r in y_scores ]\n",
    "y_true = [ decode_ohe(r) for r in y_true ]\n",
    "acc_train = accuracy_score(y_true, y_scores)\n",
    "acc_train"
   ]
  },
  {
   "cell_type": "markdown",
   "metadata": {},
   "source": [
    "#### test"
   ]
  },
  {
   "cell_type": "code",
   "execution_count": 28,
   "metadata": {},
   "outputs": [
    {
     "data": {
      "text/plain": [
       "0.8990066225165563"
      ]
     },
     "execution_count": 28,
     "metadata": {},
     "output_type": "execute_result"
    }
   ],
   "source": [
    "from sklearn.metrics import accuracy_score\n",
    "\n",
    "number_of_pairs = len(baseline.test_data)\n",
    "\n",
    "title_a, title_b, desc_a, desc_b, info_a, info_b, sim = batch_classification(baseline.test_data,  \n",
    "                                                                             baseline.dup_sets_test,\n",
    "                                                                             bug_test_ids, number_of_pairs, 1)\n",
    "\n",
    "y_true = sim\n",
    "y_scores = model_clf.predict([title_a, title_b, desc_a, desc_b, info_a, info_b])\n",
    "\n",
    "def normalize(row):\n",
    "    return [1 if(r > 0.5) else 0 for r in row]\n",
    "\n",
    "y_scores = list(map(normalize, y_scores))\n",
    "# y_scores\n",
    "def decode_ohe(row):\n",
    "    return 0 if(row[0] == 1) else 1\n",
    "y_scores = [ decode_ohe(r) for r in y_scores ]\n",
    "y_true = [ decode_ohe(r) for r in y_true ]\n",
    "acc_test = accuracy_score(y_true, y_scores)\n",
    "acc_test"
   ]
  },
  {
   "cell_type": "markdown",
   "metadata": {},
   "source": [
    "### Roc AUC/SCORE"
   ]
  },
  {
   "cell_type": "markdown",
   "metadata": {},
   "source": [
    "#### train"
   ]
  },
  {
   "cell_type": "code",
   "execution_count": 29,
   "metadata": {},
   "outputs": [
    {
     "data": {
      "text/plain": [
       "0.949310302734375"
      ]
     },
     "execution_count": 29,
     "metadata": {},
     "output_type": "execute_result"
    }
   ],
   "source": [
    "from sklearn.metrics import roc_auc_score\n",
    "\n",
    "title_a, title_b, desc_a, desc_b, info_a, info_b, sim = batch_classification(baseline.train_data, \n",
    "                                                                             baseline.dup_sets_train,\n",
    "                                                                             bug_train_ids, 512, 1)\n",
    "\n",
    "y_true = sim\n",
    "y_scores = model_clf.predict([title_a, title_b, desc_a, desc_b, info_a, info_b])\n",
    "\n",
    "roc_train = roc_auc_score(y_true, y_scores)\n",
    "roc_train"
   ]
  },
  {
   "cell_type": "markdown",
   "metadata": {},
   "source": [
    "#### test"
   ]
  },
  {
   "cell_type": "code",
   "execution_count": 30,
   "metadata": {},
   "outputs": [
    {
     "data": {
      "text/plain": [
       "0.9786961098197448"
      ]
     },
     "execution_count": 30,
     "metadata": {},
     "output_type": "execute_result"
    }
   ],
   "source": [
    "from sklearn.metrics import roc_auc_score\n",
    "\n",
    "number_of_pairs = len(baseline.test_data)\n",
    "\n",
    "title_a, title_b, desc_a, desc_b, info_a, info_b, sim = batch_classification(baseline.test_data, \n",
    "                                                                             baseline.dup_sets_test,\n",
    "                                                                             bug_test_ids, number_of_pairs, 1)\n",
    "\n",
    "y_true = sim\n",
    "y_scores = model_clf.predict([title_a, title_b, desc_a, desc_b, info_a, info_b])\n",
    "\n",
    "roc_test = roc_auc_score(y_true, y_scores)\n",
    "roc_test"
   ]
  },
  {
   "cell_type": "markdown",
   "metadata": {},
   "source": [
    "#### Save the model"
   ]
  },
  {
   "cell_type": "code",
   "execution_count": 31,
   "metadata": {},
   "outputs": [],
   "source": [
    "experiment.save_model(model_clf, SAVE_PATH)"
   ]
  },
  {
   "cell_type": "markdown",
   "metadata": {},
   "source": [
    "#### Saving the accuracy and roc/auc"
   ]
  },
  {
   "cell_type": "code",
   "execution_count": 32,
   "metadata": {},
   "outputs": [
    {
     "name": "stdout",
     "output_type": "stream",
     "text": [
      "All saved.\n"
     ]
    }
   ],
   "source": [
    "import _pickle as pickle\n",
    "\n",
    "CLASSIFICATION_PATH = 'classification_{}.pkl'.format(METHOD)\n",
    "\n",
    "def save_result(result):\n",
    "    result = {\n",
    "        'acc_train' : acc_train,\n",
    "        'acc_test' : acc_test,\n",
    "        'roc_train' : roc_train,\n",
    "        'roc_test' : roc_test,\n",
    "        'method' : METHOD\n",
    "    }\n",
    "\n",
    "    with open(os.path.join(DIR, CLASSIFICATION_PATH), 'wb') as f:\n",
    "        pickle.dump(result, f)\n",
    "\n",
    "try:\n",
    "    with open(os.path.join(DIR, CLASSIFICATION_PATH), 'rb') as f:\n",
    "        result = pickle.load(f)\n",
    "    save_result(result)\n",
    "except:\n",
    "    save_result(result)\n",
    "    \n",
    "print(\"All saved.\")"
   ]
  }
 ],
 "metadata": {
  "kernelspec": {
   "display_name": "Python 3",
   "language": "python",
   "name": "python3"
  },
  "language_info": {
   "codemirror_mode": {
    "name": "ipython",
    "version": 3
   },
   "file_extension": ".py",
   "mimetype": "text/x-python",
   "name": "python",
   "nbconvert_exporter": "python",
   "pygments_lexer": "ipython3",
   "version": "3.5.2"
  }
 },
 "nbformat": 4,
 "nbformat_minor": 2
}
