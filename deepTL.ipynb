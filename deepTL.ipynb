{
 "cells": [
  {
   "cell_type": "markdown",
   "metadata": {
    "colab_type": "text",
    "id": "PtdA1qs_UQP1"
   },
   "source": [
    "# DeepQL with tensorflow\n",
    "\n",
    "https://github.com/AdrianUng/keras-triplet-loss-mnist/blob/master/Triplet_loss_KERAS_semi_hard_from_TF.ipynb"
   ]
  },
  {
   "cell_type": "code",
   "execution_count": 1,
   "metadata": {},
   "outputs": [
    {
     "name": "stderr",
     "output_type": "stream",
     "text": [
      "Using TensorFlow backend.\n"
     ]
    }
   ],
   "source": [
    "import keras"
   ]
  },
  {
   "cell_type": "code",
   "execution_count": 2,
   "metadata": {
    "colab": {},
    "colab_type": "code",
    "id": "qnSCLmiomFE1"
   },
   "outputs": [],
   "source": [
    "from __future__ import print_function, division"
   ]
  },
  {
   "cell_type": "code",
   "execution_count": 3,
   "metadata": {
    "colab": {},
    "colab_type": "code",
    "id": "OIha-SERnD72"
   },
   "outputs": [],
   "source": [
    "import re\n",
    "import numpy as np\n",
    "import pandas as pd\n",
    "\n",
    "import os\n",
    "from tqdm import tqdm_notebook as tqdm\n",
    "import matplotlib.pyplot as plt\n",
    "import sys\n",
    "from annoy import AnnoyIndex\n",
    "nb_dir = os.path.split(os.getcwd())[0]\n",
    "if nb_dir not in sys.path:\n",
    "    sys.path.append(nb_dir)\n",
    "    \n",
    "%matplotlib inline"
   ]
  },
  {
   "cell_type": "code",
   "execution_count": 4,
   "metadata": {
    "colab": {
     "base_uri": "https://localhost:8080/",
     "height": 34
    },
    "colab_type": "code",
    "id": "c57gQiuAnJAe",
    "outputId": "9eaf2d3f-619a-492d-f40b-6ba2c48426fa"
   },
   "outputs": [],
   "source": [
    "from keras.layers import Conv1D, Input, Add, Activation, Dropout, Embedding, MaxPooling1D, \\\n",
    "    GlobalMaxPool1D, Flatten, Dense, Concatenate, BatchNormalization\n",
    "from keras.models import Sequential, Model\n",
    "from keras.regularizers import l2\n",
    "from keras.initializers import TruncatedNormal\n",
    "from keras.layers.advanced_activations import LeakyReLU, ELU\n",
    "from keras import optimizers"
   ]
  },
  {
   "cell_type": "code",
   "execution_count": 5,
   "metadata": {},
   "outputs": [],
   "source": [
    "from methods.baseline import Baseline\n",
    "from methods.experiments import Experiment\n",
    "from methods.evaluation import Evaluation\n",
    "from methods.retrieval import Retrieval"
   ]
  },
  {
   "cell_type": "markdown",
   "metadata": {
    "colab_type": "text",
    "id": "8uQou7m2-bFO"
   },
   "source": [
    "## Configurações Globais"
   ]
  },
  {
   "cell_type": "code",
   "execution_count": 6,
   "metadata": {
    "colab": {},
    "colab_type": "code",
    "id": "G-Kn3x_K-aZj"
   },
   "outputs": [],
   "source": [
    "MAX_SEQUENCE_LENGTH_T = 20 # 100\n",
    "MAX_SEQUENCE_LENGTH_D = 20 # 500\n",
    "EMBEDDING_DIM = 300\n",
    "MAX_NB_WORDS = 20000\n",
    "'''\n",
    "    Configuration\n",
    "'''\n",
    "epochs = 1000\n",
    "freeze_train = .1\n",
    "best_loss = 1\n",
    "best_epoch = 0\n",
    "verbose = 0\n",
    "loss = 1"
   ]
  },
  {
   "cell_type": "markdown",
   "metadata": {},
   "source": [
    "### Parse bugs preproprecessed"
   ]
  },
  {
   "cell_type": "code",
   "execution_count": 7,
   "metadata": {},
   "outputs": [],
   "source": [
    "# Domain to use\n",
    "DOMAIN = 'netbeans'\n",
    "METHOD = 'deepTL_{}'.format(epochs)\n",
    "PREPROCESSING = 'bert'\n",
    "TOKEN = 'bert'\n",
    "# Dataset paths\n",
    "DIR = 'data/processed/{}/{}'.format(DOMAIN, PREPROCESSING)\n",
    "DIR_PAIRS = 'data/normalized/{}'.format(DOMAIN)\n",
    "DATASET = os.path.join('data/normalized/{}'.format(DOMAIN), '{}.csv'.format(DOMAIN))\n",
    "# Glove embeddings\n",
    "GLOVE_DIR='data/embed'\n",
    "# Save model\n",
    "SAVE_PATH = '{}_preprocessing_{}_feature@number_of_epochs@epochs_64batch({})'.format(PREPROCESSING, METHOD, DOMAIN)\n",
    "SAVE_PATH_FEATURE = '{}_preprocessing_{}_feature_@number_of_epochs@epochs_64batch({})'.format(PREPROCESSING, METHOD, DOMAIN)\n",
    "\n",
    "# Extract CORPUs\n",
    "EXTRACT_CORPUS = False"
   ]
  },
  {
   "cell_type": "code",
   "execution_count": 8,
   "metadata": {},
   "outputs": [],
   "source": [
    "import os\n",
    "\n",
    "pretrained_path = 'uncased_L-12_H-768_A-12'\n",
    "config_path = os.path.join(pretrained_path, 'bert_config.json')\n",
    "model_path = os.path.join(pretrained_path, 'bert_model.ckpt')\n",
    "vocab_path = os.path.join(pretrained_path, 'vocab.txt')"
   ]
  },
  {
   "cell_type": "code",
   "execution_count": 9,
   "metadata": {},
   "outputs": [],
   "source": [
    "from keras_bert import load_vocabulary\n",
    "\n",
    "token_dict = load_vocabulary(vocab_path)"
   ]
  },
  {
   "cell_type": "code",
   "execution_count": 10,
   "metadata": {},
   "outputs": [],
   "source": [
    "baseline = Baseline(DOMAIN, DIR, DATASET, MAX_SEQUENCE_LENGTH_T, MAX_SEQUENCE_LENGTH_D,\n",
    "                   token_dict['[CLS]'], token_dict['[SEP]'])\n",
    "evaluation = Evaluation(verbose=0)\n",
    "retrieval = Retrieval()\n",
    "experiment = Experiment(baseline, evaluation)"
   ]
  },
  {
   "cell_type": "code",
   "execution_count": 11,
   "metadata": {
    "scrolled": true
   },
   "outputs": [],
   "source": [
    "experiment.set_retrieval(retrieval, baseline, DOMAIN)"
   ]
  },
  {
   "cell_type": "markdown",
   "metadata": {},
   "source": [
    "#### Loading bug ids in memory"
   ]
  },
  {
   "cell_type": "code",
   "execution_count": 12,
   "metadata": {
    "scrolled": true
   },
   "outputs": [
    {
     "name": "stdout",
     "output_type": "stream",
     "text": [
      "Reading bug ids\n"
     ]
    },
    {
     "data": {
      "text/plain": [
       "216715"
      ]
     },
     "execution_count": 12,
     "metadata": {},
     "output_type": "execute_result"
    }
   ],
   "source": [
    "experiment.load_ids()\n",
    "len(baseline.bug_ids)"
   ]
  },
  {
   "cell_type": "markdown",
   "metadata": {
    "colab_type": "text",
    "id": "vqzt5EKzqzcI"
   },
   "source": [
    "#### Dicionário de títulos e descrições"
   ]
  },
  {
   "cell_type": "code",
   "execution_count": 13,
   "metadata": {
    "scrolled": true
   },
   "outputs": [
    {
     "data": {
      "application/vnd.jupyter.widget-view+json": {
       "model_id": "02d4e6eef39a451789484b490fff28f7",
       "version_major": 2,
       "version_minor": 0
      },
      "text/plain": [
       "HBox(children=(IntProgress(value=0, max=216715), HTML(value='')))"
      ]
     },
     "metadata": {},
     "output_type": "display_data"
    },
    {
     "name": "stdout",
     "output_type": "stream",
     "text": [
      "\n"
     ]
    },
    {
     "data": {
      "application/vnd.jupyter.widget-view+json": {
       "model_id": "4d1d80d3cd1e4c44adc36ac06d77e6f0",
       "version_major": 2,
       "version_minor": 0
      },
      "text/plain": [
       "HBox(children=(IntProgress(value=1, bar_style='info', max=1), HTML(value='')))"
      ]
     },
     "metadata": {},
     "output_type": "display_data"
    },
    {
     "name": "stdout",
     "output_type": "stream",
     "text": [
      "\n",
      "CPU times: user 21.1 s, sys: 2.37 s, total: 23.5 s\n",
      "Wall time: 23.1 s\n"
     ]
    }
   ],
   "source": [
    "%%time\n",
    "\n",
    "experiment.load_bugs(TOKEN)\n",
    "len(baseline.sentence_dict)"
   ]
  },
  {
   "cell_type": "markdown",
   "metadata": {},
   "source": [
    "#### Hashing bugs by buckets"
   ]
  },
  {
   "cell_type": "code",
   "execution_count": 14,
   "metadata": {
    "scrolled": false
   },
   "outputs": [
    {
     "data": {
      "application/vnd.jupyter.widget-view+json": {
       "model_id": "80203b1bd37d4bfc8a30c5475f514cb3",
       "version_major": 2,
       "version_minor": 0
      },
      "text/plain": [
       "HBox(children=(IntProgress(value=0, max=216715), HTML(value='')))"
      ]
     },
     "metadata": {},
     "output_type": "display_data"
    },
    {
     "name": "stdout",
     "output_type": "stream",
     "text": [
      "\n"
     ]
    }
   ],
   "source": [
    "issues_by_buckets = experiment.get_buckets_for_bugs()"
   ]
  },
  {
   "cell_type": "markdown",
   "metadata": {},
   "source": [
    "#### Prepare the train and test"
   ]
  },
  {
   "cell_type": "code",
   "execution_count": 15,
   "metadata": {},
   "outputs": [],
   "source": [
    "# path_train='train_chronological', path_test='test_chronological'\n",
    "experiment.prepare_dataset(issues_by_buckets, path_train='train_chronological', path_test='test_chronological')\n",
    "# Read and create the test queries duplicates\n",
    "retrieval.create_queries()"
   ]
  },
  {
   "cell_type": "code",
   "execution_count": 16,
   "metadata": {},
   "outputs": [
    {
     "data": {
      "text/plain": [
       "[[23370, 26780],\n",
       " [103239, 105067],\n",
       " [61954, 73016],\n",
       " [204317, 202674],\n",
       " [220178, 220147],\n",
       " [195089, 195269],\n",
       " [221186, 219028],\n",
       " [102315, 105397],\n",
       " [196611, 193682],\n",
       " [50448, 50450]]"
      ]
     },
     "execution_count": 16,
     "metadata": {},
     "output_type": "execute_result"
    }
   ],
   "source": [
    "baseline.train_data[:10]"
   ]
  },
  {
   "cell_type": "markdown",
   "metadata": {},
   "source": [
    "#### Recovery bug ids from train"
   ]
  },
  {
   "cell_type": "code",
   "execution_count": 17,
   "metadata": {},
   "outputs": [],
   "source": [
    "bug_train_ids = experiment.get_train_ids(baseline.train_data)"
   ]
  },
  {
   "cell_type": "markdown",
   "metadata": {},
   "source": [
    "### Export the corpus train"
   ]
  },
  {
   "cell_type": "code",
   "execution_count": 18,
   "metadata": {},
   "outputs": [],
   "source": [
    "if EXTRACT_CORPUS:\n",
    "    corpus = []\n",
    "    export_file = open(os.path.join(DIR, 'corpus_train.txt'), 'w')\n",
    "    for bug_id in tqdm(baseline.bug_set):\n",
    "        bug = baseline.bug_set[bug_id]\n",
    "        title = bug['title']\n",
    "        desc = bug['description']\n",
    "        export_file.write(\"{}\\n{}\\n\".format(title, desc))\n",
    "    export_file.close()"
   ]
  },
  {
   "cell_type": "markdown",
   "metadata": {
    "colab_type": "text",
    "id": "a6Obtop6UIVD"
   },
   "source": [
    "# Generating tiple of batches"
   ]
  },
  {
   "cell_type": "code",
   "execution_count": 19,
   "metadata": {
    "scrolled": true
   },
   "outputs": [
    {
     "data": {
      "text/plain": [
       "{'bug_severity': '0\\n',\n",
       " 'bug_status': '1\\n',\n",
       " 'component': '81\\n',\n",
       " 'creation_ts': '2005-07-29 08:34:00 +0000',\n",
       " 'delta_ts': '2007-11-05 13:38:00 +0000',\n",
       " 'description': '[CLS] to reproduce : 1 . download japanese api doc ##s from japanese download site , http : / / java . sun . com / j ##2 ##se / 1 . 5 . 0 / ja / download . html 2 . tool - > java platform manager - > java ##do ##c 3 . add japanese api doc , jd ##k - 1 _ 5 _ 0 - doc - ja . zip 4 . type in \" java . \" into editor 5 . press ct ##rl + spa ##rc 6 . you can see japanese api doc ##s as garbage character . ( see attached screens ##hot ) 7 . if you press \" shows java ##do ##c in external web browser \" icon after that , you can see correct japanese api in external browser such as ie . ( see right side of attached screens ##hot ) it seems that completion box cannot handle non - as ##ci ##i api doc ##s . . . [SEP]',\n",
       " 'description_segment': [0,\n",
       "  0,\n",
       "  0,\n",
       "  0,\n",
       "  0,\n",
       "  0,\n",
       "  0,\n",
       "  0,\n",
       "  0,\n",
       "  0,\n",
       "  0,\n",
       "  0,\n",
       "  0,\n",
       "  0,\n",
       "  0,\n",
       "  0,\n",
       "  0,\n",
       "  0,\n",
       "  0,\n",
       "  0,\n",
       "  0,\n",
       "  0,\n",
       "  0,\n",
       "  0,\n",
       "  0,\n",
       "  0,\n",
       "  0,\n",
       "  0,\n",
       "  0,\n",
       "  0,\n",
       "  0,\n",
       "  0,\n",
       "  0,\n",
       "  0,\n",
       "  0,\n",
       "  0,\n",
       "  0,\n",
       "  0,\n",
       "  0,\n",
       "  0,\n",
       "  0,\n",
       "  0,\n",
       "  0,\n",
       "  0,\n",
       "  0,\n",
       "  0,\n",
       "  0,\n",
       "  0,\n",
       "  0,\n",
       "  0,\n",
       "  0,\n",
       "  0,\n",
       "  0,\n",
       "  0,\n",
       "  0,\n",
       "  0,\n",
       "  0,\n",
       "  0,\n",
       "  0,\n",
       "  0,\n",
       "  0,\n",
       "  0,\n",
       "  0,\n",
       "  0,\n",
       "  0,\n",
       "  0,\n",
       "  0,\n",
       "  0,\n",
       "  0,\n",
       "  0,\n",
       "  0,\n",
       "  0,\n",
       "  0,\n",
       "  0,\n",
       "  0,\n",
       "  0,\n",
       "  0,\n",
       "  0,\n",
       "  0,\n",
       "  0,\n",
       "  0,\n",
       "  0,\n",
       "  0,\n",
       "  0,\n",
       "  0,\n",
       "  0,\n",
       "  0,\n",
       "  0,\n",
       "  0,\n",
       "  0,\n",
       "  0,\n",
       "  0,\n",
       "  0,\n",
       "  0,\n",
       "  0,\n",
       "  0,\n",
       "  0,\n",
       "  0,\n",
       "  0,\n",
       "  0,\n",
       "  0,\n",
       "  0,\n",
       "  0,\n",
       "  0,\n",
       "  0,\n",
       "  0,\n",
       "  0,\n",
       "  0,\n",
       "  0,\n",
       "  0,\n",
       "  0,\n",
       "  0,\n",
       "  0,\n",
       "  0,\n",
       "  0,\n",
       "  0,\n",
       "  0,\n",
       "  0,\n",
       "  0,\n",
       "  0,\n",
       "  0,\n",
       "  0,\n",
       "  0,\n",
       "  0,\n",
       "  0,\n",
       "  0,\n",
       "  0,\n",
       "  0,\n",
       "  0,\n",
       "  0,\n",
       "  0,\n",
       "  0,\n",
       "  0,\n",
       "  0,\n",
       "  0,\n",
       "  0,\n",
       "  0,\n",
       "  0,\n",
       "  0,\n",
       "  0,\n",
       "  0,\n",
       "  0,\n",
       "  0,\n",
       "  0,\n",
       "  0,\n",
       "  0,\n",
       "  0,\n",
       "  0,\n",
       "  0,\n",
       "  0],\n",
       " 'description_token': array([  101,  2000, 21376,  1024,  1015,  1012,  8816,  2887, 17928,\n",
       "         9986,  2015,  2013,  2887,  8816,  2609,  1010,  8299,  1024,\n",
       "         1013,   102]),\n",
       " 'dup_id': '[]',\n",
       " 'issue_id': 61533,\n",
       " 'priority': '1\\n',\n",
       " 'product': '4\\n',\n",
       " 'resolution': 'FIXED',\n",
       " 'textual_token': array([  101,  1045, 15136,  2078,  1011,  9262,  3527,  2278,  3642,\n",
       "         6503,  3482,  3685,  4653,  2887, 17928,  9986,  2015, 11178,\n",
       "            0,   102,   101,  2000, 21376,  1024,  1015,  1012,  8816,\n",
       "         2887, 17928,  9986,  2015,  2013,  2887,  8816,  2609,  1010,\n",
       "         8299,  1024,  1013,   102]),\n",
       " 'title': '[CLS] i ##18 ##n - java ##do ##c code completion box cannot display japanese api doc ##s correctly [SEP]',\n",
       " 'title_segment': [0,\n",
       "  0,\n",
       "  0,\n",
       "  0,\n",
       "  0,\n",
       "  0,\n",
       "  0,\n",
       "  0,\n",
       "  0,\n",
       "  0,\n",
       "  0,\n",
       "  0,\n",
       "  0,\n",
       "  0,\n",
       "  0,\n",
       "  0,\n",
       "  0,\n",
       "  0,\n",
       "  0,\n",
       "  0,\n",
       "  0,\n",
       "  0,\n",
       "  0,\n",
       "  0,\n",
       "  0,\n",
       "  0,\n",
       "  0,\n",
       "  0,\n",
       "  0,\n",
       "  0,\n",
       "  0,\n",
       "  0,\n",
       "  0,\n",
       "  0,\n",
       "  0,\n",
       "  0,\n",
       "  0,\n",
       "  0,\n",
       "  0,\n",
       "  0,\n",
       "  0,\n",
       "  0,\n",
       "  0,\n",
       "  0,\n",
       "  0,\n",
       "  0,\n",
       "  0,\n",
       "  0,\n",
       "  0,\n",
       "  0],\n",
       " 'title_token': array([  101,  1045, 15136,  2078,  1011,  9262,  3527,  2278,  3642,\n",
       "         6503,  3482,  3685,  4653,  2887, 17928,  9986,  2015, 11178,\n",
       "            0,   102]),\n",
       " 'version': '10\\n'}"
      ]
     },
     "execution_count": 19,
     "metadata": {},
     "output_type": "execute_result"
    }
   ],
   "source": [
    "idx = np.random.choice(baseline.bug_ids, 1)[0]\n",
    "baseline.bug_set[idx]"
   ]
  },
  {
   "cell_type": "markdown",
   "metadata": {},
   "source": [
    "### Generating the batch test"
   ]
  },
  {
   "cell_type": "code",
   "execution_count": 20,
   "metadata": {},
   "outputs": [
    {
     "data": {
      "text/plain": [
       "('Train ', 34596)"
      ]
     },
     "execution_count": 20,
     "metadata": {},
     "output_type": "execute_result"
    }
   ],
   "source": [
    "\"Train \", len(baseline.dup_sets_train)"
   ]
  },
  {
   "cell_type": "code",
   "execution_count": 21,
   "metadata": {},
   "outputs": [],
   "source": [
    "import random\n",
    "\n",
    "# data - path\n",
    "# batch_size - 128\n",
    "# n_neg - 1\n",
    "def batch_iterator(self, retrieval, model, data, dup_sets, bug_ids, \n",
    "                   batch_size, n_neg, issues_by_buckets, TRIPLET_HARD=False, FLOATING_PADDING=False):\n",
    "    # global train_data\n",
    "    # global self.dup_sets\n",
    "    # global self.bug_ids\n",
    "    # global self.bug_set\n",
    "\n",
    "    random.shuffle(data)\n",
    "\n",
    "    batch_features = {'title' : [], 'desc' : [], 'info' : []}\n",
    "    n_train = len(data)\n",
    "\n",
    "    batch_triplets, batch_bugs_anchor, batch_bugs_pos, batch_bugs_neg, batch_bugs = [], [], [], [], []\n",
    "\n",
    "    all_bugs = list(issues_by_buckets.keys())\n",
    "    buckets = retrieval.buckets\n",
    "\n",
    "    for offset in range(batch_size):\n",
    "        anchor, pos = data[offset][0], data[offset][1]\n",
    "        batch_bugs_anchor.append(anchor)\n",
    "        batch_bugs_pos.append(pos)\n",
    "        batch_bugs.append(anchor)\n",
    "        batch_bugs.append(pos)\n",
    "        #batch_bugs += dup_sets[anchor]\n",
    "\n",
    "    for anchor, pos in zip(batch_bugs_anchor, batch_bugs_pos):\n",
    "        while True:\n",
    "            neg = self.get_neg_bug(anchor, buckets[issues_by_buckets[anchor]], issues_by_buckets, all_bugs)\n",
    "            bug_anchor = self.bug_set[anchor]\n",
    "            bug_pos = self.bug_set[pos]\n",
    "            if neg not in self.bug_set:\n",
    "                continue\n",
    "            batch_bugs.append(neg)\n",
    "            batch_bugs_neg.append(neg)\n",
    "            bug_neg = self.bug_set[neg]\n",
    "            break\n",
    "        \n",
    "        # triplet bug and master\n",
    "        batch_triplets.append([anchor, pos, neg])\n",
    "    \n",
    "    random.shuffle(batch_bugs)\n",
    "    title_ids = np.full((len(batch_bugs), MAX_SEQUENCE_LENGTH_T), 0)\n",
    "    description_ids = np.full((len(batch_bugs), MAX_SEQUENCE_LENGTH_D), 0)\n",
    "    for i, bug_id in enumerate(batch_bugs):\n",
    "        bug = self.bug_set[bug_id]\n",
    "        self.read_batch_bugs(batch_features, bug, index=i, title_ids=title_ids, description_ids=description_ids)\n",
    "\n",
    "    batch_features['title'] = { 'token' : np.array(batch_features['title']), 'segment' : title_ids }\n",
    "    batch_features['desc'] = { 'token' : np.array(batch_features['desc']), 'segment' : description_ids }\n",
    "    batch_features['info'] = np.array(batch_features['info'])\n",
    "    \n",
    "    sim = np.asarray([issues_by_buckets[bug_id] for bug_id in batch_bugs])\n",
    "\n",
    "    input_sample = {}\n",
    "\n",
    "    input_sample = { 'title' : batch_features['title'], \n",
    "                        'description' : batch_features['desc'], \n",
    "                            'info' : batch_features['info'] }\n",
    "\n",
    "    return batch_triplets, input_sample, sim #sim"
   ]
  },
  {
   "cell_type": "code",
   "execution_count": 22,
   "metadata": {
    "colab": {
     "base_uri": "https://localhost:8080/",
     "height": 51
    },
    "colab_type": "code",
    "id": "PA5CIhgz7odW",
    "outputId": "ae98fdec-1d54-4b1f-ee0e-4c5633802a18",
    "scrolled": true
   },
   "outputs": [],
   "source": [
    "# %%time\n",
    "\n",
    "batch_size = 64\n",
    "batch_size_test = 128\n",
    "\n",
    "# we want a constant validation group to have a frame of reference for model performance\n",
    "batch_triplets_valid, valid_input_sample, valid_sim = batch_iterator(baseline, retrieval, None, \n",
    "                                                                                      baseline.train_data, \n",
    "                                                                                      baseline.dup_sets_train,\n",
    "                                                                                      bug_train_ids,\n",
    "                                                                                      batch_size_test, 1,\n",
    "                                                                                      issues_by_buckets)\n",
    "\n",
    "validation_sample = [valid_input_sample['title']['token'], valid_input_sample['title']['segment'], \n",
    "                   valid_input_sample['description']['token'], valid_input_sample['description']['segment'],\n",
    "                   valid_input_sample['info'], valid_sim]\n",
    "\n",
    "# Categorical columns\n",
    "number_of_columns_info = valid_input_sample['info'].shape[1]\n",
    "# Max sequence title\n",
    "MAX_SEQUENCE_LENGTH_T = valid_input_sample['title']['token'].shape[1]\n",
    "MAX_SEQUENCE_LENGTH_D = valid_input_sample['description']['token'].shape[1]"
   ]
  },
  {
   "cell_type": "code",
   "execution_count": 23,
   "metadata": {},
   "outputs": [
    {
     "data": {
      "text/plain": [
       "((384, 20), (384, 20), (384, 20), (384, 20), (384, 544), (384,))"
      ]
     },
     "execution_count": 23,
     "metadata": {},
     "output_type": "execute_result"
    }
   ],
   "source": [
    "valid_input_sample['title']['token'].shape, \\\n",
    "valid_input_sample['description']['token'].shape, \\\n",
    "valid_input_sample['title']['segment'].shape, \\\n",
    "valid_input_sample['description']['segment'].shape, \\\n",
    "valid_input_sample['info'].shape, valid_sim.shape"
   ]
  },
  {
   "cell_type": "markdown",
   "metadata": {
    "colab_type": "text",
    "id": "24mY22BGnkqp"
   },
   "source": [
    "### Validar entrada"
   ]
  },
  {
   "cell_type": "code",
   "execution_count": 24,
   "metadata": {
    "colab": {
     "base_uri": "https://localhost:8080/",
     "height": 796
    },
    "colab_type": "code",
    "id": "OhTbr3a5nmrh",
    "outputId": "a2d73e0f-e9ce-4d12-a5c8-f0008d2402d0",
    "scrolled": true
   },
   "outputs": [],
   "source": [
    "# %%time \n",
    "\n",
    "#baseline.display_batch(baseline.train_data, baseline.dup_sets_train, bug_train_ids, 5)"
   ]
  },
  {
   "cell_type": "code",
   "execution_count": 25,
   "metadata": {},
   "outputs": [
    {
     "data": {
      "text/plain": [
       "('Test ', 17002)"
      ]
     },
     "execution_count": 25,
     "metadata": {},
     "output_type": "execute_result"
    }
   ],
   "source": [
    "\"Test \", len(baseline.test_data)"
   ]
  },
  {
   "cell_type": "markdown",
   "metadata": {
    "colab_type": "text",
    "id": "XPrsLs4Kg4Pa"
   },
   "source": [
    "## Pre-trained embeddings\n",
    "\n",
    "Loading pretrained word vectors"
   ]
  },
  {
   "cell_type": "markdown",
   "metadata": {
    "colab_type": "text",
    "id": "6p9eE5TWoH7p"
   },
   "source": [
    "### Glove"
   ]
  },
  {
   "cell_type": "code",
   "execution_count": 26,
   "metadata": {},
   "outputs": [
    {
     "name": "stdout",
     "output_type": "stream",
     "text": [
      "vocabulary loaded\n"
     ]
    }
   ],
   "source": [
    "vocab = baseline.load_vocabulary(os.path.join(DIR, 'vocab_embed.pkl'))\n",
    "#print(np.random.choice(vocab, 10))\n",
    "# for token in vocab:\n",
    "#     print(token)"
   ]
  },
  {
   "cell_type": "code",
   "execution_count": 27,
   "metadata": {},
   "outputs": [
    {
     "data": {
      "text/plain": [
       "'Total vocabulary: 19061'"
      ]
     },
     "execution_count": 27,
     "metadata": {},
     "output_type": "execute_result"
    }
   ],
   "source": [
    "\"Total vocabulary: {}\".format(len(vocab))"
   ]
  },
  {
   "cell_type": "code",
   "execution_count": 28,
   "metadata": {},
   "outputs": [],
   "source": [
    "def generating_embed(baseline, GLOVE_DIR, EMBEDDING_DIM):\n",
    "    embeddings_index = {}\n",
    "    embed_path = os.path.join(GLOVE_DIR, 'glove.42B.300d.txt')\n",
    "    f2 = open(embed_path, 'rb')\n",
    "    num_lines = sum(1 for line in f2)\n",
    "    f2.close()\n",
    "    f = open(embed_path, 'rb')\n",
    "    vocab = baseline.load_vocabulary(os.path.join(baseline.DIR, 'vocab_embed.pkl'))\n",
    "    vocab_size = len(vocab) \n",
    "\n",
    "    # Initialize uniform the vector considering the Tanh activation\n",
    "    embedding_matrix = np.random.uniform(-1.0, 1.0, (num_lines + vocab_size, EMBEDDING_DIM))\n",
    "    embedding_matrix[0, :] = np.zeros(EMBEDDING_DIM)\n",
    "\n",
    "    loop = tqdm(f)\n",
    "    loop.set_description(\"Loading Glove\")\n",
    "    i = 0\n",
    "    for line in loop:\n",
    "        tokens = line.split()\n",
    "        word = tokens[0]\n",
    "        embeddings_index[word] = np.asarray(tokens[1:], dtype='float32')\n",
    "        i+=1\n",
    "        loop.update(1)\n",
    "    f.close()\n",
    "    loop.close()\n",
    "\n",
    "    print('Total %s word vectors in Glove 42B 300d.' % len(embeddings_index))\n",
    "    loop = tqdm(total=vocab_size)\n",
    "    loop.set_description('Loading embedding from dataset pretrained')\n",
    "    for word, embed in vocab.items():\n",
    "        if word not in embeddings_index:\n",
    "            embeddings_index[i] = np.asarray(embed, dtype='float32')\n",
    "        loop.update(1)\n",
    "        i+=1\n",
    "    loop.close()\n",
    "    baseline.embedding_matrix = embedding_matrix"
   ]
  },
  {
   "cell_type": "code",
   "execution_count": 29,
   "metadata": {
    "colab": {
     "base_uri": "https://localhost:8080/",
     "height": 85
    },
    "colab_type": "code",
    "id": "QY-ef3OGoIiq",
    "outputId": "55f4c93c-98bb-4bac-92f2-76bd3b777605"
   },
   "outputs": [
    {
     "name": "stdout",
     "output_type": "stream",
     "text": [
      "vocabulary loaded\n"
     ]
    },
    {
     "data": {
      "application/vnd.jupyter.widget-view+json": {
       "model_id": "bb7a99fb0bd849e18371aae6ca3520ae",
       "version_major": 2,
       "version_minor": 0
      },
      "text/plain": [
       "HBox(children=(IntProgress(value=1, bar_style='info', max=1), HTML(value='')))"
      ]
     },
     "metadata": {},
     "output_type": "display_data"
    },
    {
     "name": "stdout",
     "output_type": "stream",
     "text": [
      "\n",
      "Total 1917494 word vectors in Glove 42B 300d.\n"
     ]
    },
    {
     "data": {
      "application/vnd.jupyter.widget-view+json": {
       "model_id": "ade9673ec6a6467997cd28d040a1ea51",
       "version_major": 2,
       "version_minor": 0
      },
      "text/plain": [
       "HBox(children=(IntProgress(value=0, max=19061), HTML(value='')))"
      ]
     },
     "metadata": {},
     "output_type": "display_data"
    },
    {
     "name": "stdout",
     "output_type": "stream",
     "text": [
      "\n",
      "CPU times: user 1min 31s, sys: 3.35 s, total: 1min 35s\n",
      "Wall time: 1min 34s\n"
     ]
    }
   ],
   "source": [
    "%%time\n",
    "\n",
    "generating_embed(baseline, GLOVE_DIR=GLOVE_DIR, EMBEDDING_DIM=EMBEDDING_DIM) # MAX_NB_WORDS=MAX_NB_WORDS"
   ]
  },
  {
   "cell_type": "markdown",
   "metadata": {},
   "source": [
    "## Experiment"
   ]
  },
  {
   "cell_type": "markdown",
   "metadata": {
    "colab_type": "text",
    "id": "Lev5Y7oaFQBd"
   },
   "source": [
    "## Towards Accurate Duplicate Bug Retrieval Using Deep Learning Techniques\n",
    "\n",
    "https://github.com/tqtg/DuplicateBugFinder"
   ]
  },
  {
   "cell_type": "markdown",
   "metadata": {},
   "source": [
    "### Embedding layer"
   ]
  },
  {
   "cell_type": "code",
   "execution_count": 30,
   "metadata": {},
   "outputs": [],
   "source": [
    "from keras.constraints import MaxNorm\n",
    "from keras.initializers import TruncatedNormal, RandomUniform\n",
    "\n",
    "# Is missing the padding_idx used in pytorch\n",
    "# https://pytorch.org/docs/stable/_modules/torch/nn/modules/sparse.html\n",
    "# https://stackoverflow.com/questions/54824768/rnn-model-gru-of-word2vec-to-regression-not-learning\n",
    "def embedding_layer(embeddings, num_words, embedding_dim, max_sequence_length, trainable):\n",
    "    embedding_layer = Embedding(num_words,\n",
    "                                  embedding_dim,\n",
    "                                  name='embedding_layer',\n",
    "                                  weights=[embeddings],\n",
    "                                  embeddings_constraint=MaxNorm(max_value=1, axis=0),\n",
    "                                  #input_length=max_sequence_length,\n",
    "                                  input_length=None,\n",
    "                                  trainable=trainable)\n",
    "    return embedding_layer"
   ]
  },
  {
   "cell_type": "markdown",
   "metadata": {
    "colab_type": "text",
    "id": "sI074wU4Y13y"
   },
   "source": [
    "### BERT"
   ]
  },
  {
   "cell_type": "code",
   "execution_count": 31,
   "metadata": {
    "colab": {
     "base_uri": "https://localhost:8080/",
     "height": 493
    },
    "colab_type": "code",
    "id": "h6YJU9GtFTyq",
    "outputId": "f85cf105-1fd6-491d-d969-7e6936f32739",
    "scrolled": false
   },
   "outputs": [],
   "source": [
    "from keras_bert import load_trained_model_from_checkpoint\n",
    "from keras_bert import compile_model, get_model\n",
    "from keras.layers import GlobalAveragePooling1D\n",
    "\n",
    "def bert_model(MAX_SEQUENCE_LENGTH, name):\n",
    "    layer_num = 8\n",
    "#     model = load_trained_model_from_checkpoint(\n",
    "#             config_path,\n",
    "#             model_path,\n",
    "#             training=True,\n",
    "#             trainable=True,\n",
    "#             seq_len=MAX_SEQUENCE_LENGTH,\n",
    "#     )\n",
    "    model = load_trained_model_from_checkpoint(\n",
    "        config_path,\n",
    "        model_path,\n",
    "        training=True,\n",
    "        use_adapter=True,\n",
    "        seq_len=MAX_SEQUENCE_LENGTH,\n",
    "        trainable=['Encoder-{}-MultiHeadSelfAttention-Adapter'.format(i + 1) for i in range(12-layer_num, 13)] +\n",
    "        ['Encoder-{}-FeedForward-Adapter'.format(i + 1) for i in range(12-layer_num, 13)] +\n",
    "        ['Encoder-{}-MultiHeadSelfAttention-Norm'.format(i + 1) for i in range(12-layer_num, 13)] +\n",
    "        ['Encoder-{}-FeedForward-Norm'.format(i + 1) for i in range(layer_num)],\n",
    "    )\n",
    "#     model = get_model(\n",
    "#         token_num=len(token_dict),\n",
    "#         head_num=10,\n",
    "#         transformer_num=layer_num,\n",
    "#         embed_dim=100,\n",
    "#         feed_forward_dim=100,\n",
    "#         seq_len=MAX_SEQUENCE_LENGTH,\n",
    "#         pos_num=MAX_SEQUENCE_LENGTH,\n",
    "#         dropout_rate=0.05,\n",
    "#     )\n",
    "    compile_model(model)\n",
    "    inputs = model.inputs[:2]\n",
    "    outputs = model.get_layer('Encoder-{}-FeedForward-Norm'.format(layer_num)).output\n",
    "    #outputs = model.get_layer('Extract').output\n",
    "    outputs = GlobalAveragePooling1D()(outputs)\n",
    "    outputs = Dense(300, activation='tanh')(outputs)\n",
    "    \n",
    "    model = Model(inputs, outputs, name='FeatureBERTGenerationModel{}'.format(name))\n",
    "    \n",
    "    return model"
   ]
  },
  {
   "cell_type": "markdown",
   "metadata": {},
   "source": [
    "### MLP"
   ]
  },
  {
   "cell_type": "code",
   "execution_count": 32,
   "metadata": {},
   "outputs": [],
   "source": [
    "def mlp_model(input_size):\n",
    "    info_input = Input(shape=(input_size, ), name='Feature_BugInput')\n",
    "    input_size = 300\n",
    "    \n",
    "    for units in [64, 32]:\n",
    "        layer = Dense(units, activation='tanh', kernel_initializer='random_uniform')(info_input)\n",
    "    \n",
    "    layer = Dense(input_size, activation='tanh')(info_input)\n",
    "    \n",
    "    mlp_feature_model = Model(inputs=[info_input], outputs=[layer], name = 'FeatureMlpGenerationModel')\n",
    "    \n",
    "    return mlp_feature_model"
   ]
  },
  {
   "cell_type": "markdown",
   "metadata": {
    "colab_type": "text",
    "id": "TEedCg5AaTf2"
   },
   "source": [
    "### Siamese model"
   ]
  },
  {
   "cell_type": "code",
   "execution_count": 33,
   "metadata": {},
   "outputs": [],
   "source": [
    "def pairwise_distance(feature, squared=False):\n",
    "    \"\"\"Computes the pairwise distance matrix with numerical stability.\n",
    "\n",
    "    output[i, j] = || feature[i, :] - feature[j, :] ||_2\n",
    "\n",
    "    Args:\n",
    "      feature: 2-D Tensor of size [number of data, feature dimension].\n",
    "      squared: Boolean, whether or not to square the pairwise distances.\n",
    "\n",
    "    Returns:\n",
    "      pairwise_distances: 2-D Tensor of size [number of data, number of data].\n",
    "    \"\"\"\n",
    "    pairwise_distances_squared = math_ops.add(\n",
    "        math_ops.reduce_sum(math_ops.square(feature), axis=[1], keepdims=True),\n",
    "        math_ops.reduce_sum(\n",
    "            math_ops.square(array_ops.transpose(feature)),\n",
    "            axis=[0],\n",
    "            keepdims=True)) - 2.0 * math_ops.matmul(feature,\n",
    "                                                    array_ops.transpose(feature))\n",
    "\n",
    "    # Deal with numerical inaccuracies. Set small negatives to zero.\n",
    "    pairwise_distances_squared = math_ops.maximum(pairwise_distances_squared, 0.0)\n",
    "    # Get the mask where the zero distances are at.\n",
    "    error_mask = math_ops.less_equal(pairwise_distances_squared, 0.0)\n",
    "\n",
    "    # Optionally take the sqrt.\n",
    "    if squared:\n",
    "        pairwise_distances = pairwise_distances_squared\n",
    "    else:\n",
    "        pairwise_distances = math_ops.sqrt(\n",
    "            pairwise_distances_squared + math_ops.to_float(error_mask) * 1e-16)\n",
    "\n",
    "    # Undo conditionally adding 1e-16.\n",
    "    pairwise_distances = math_ops.multiply(\n",
    "        pairwise_distances, math_ops.to_float(math_ops.logical_not(error_mask)))\n",
    "\n",
    "    num_data = array_ops.shape(feature)[0]\n",
    "    # Explicitly set diagonals to zero.\n",
    "    mask_offdiagonals = array_ops.ones_like(pairwise_distances) - array_ops.diag(\n",
    "        array_ops.ones([num_data]))\n",
    "    pairwise_distances = math_ops.multiply(pairwise_distances, mask_offdiagonals)\n",
    "    return pairwise_distances\n",
    "\n",
    "def masked_maximum(data, mask, dim=1):\n",
    "    \"\"\"Computes the axis wise maximum over chosen elements.\n",
    "\n",
    "    Args:\n",
    "      data: 2-D float `Tensor` of size [n, m].\n",
    "      mask: 2-D Boolean `Tensor` of size [n, m].\n",
    "      dim: The dimension over which to compute the maximum.\n",
    "\n",
    "    Returns:\n",
    "      masked_maximums: N-D `Tensor`.\n",
    "        The maximized dimension is of size 1 after the operation.\n",
    "    \"\"\"\n",
    "    axis_minimums = math_ops.reduce_min(data, dim, keepdims=True)\n",
    "    masked_maximums = math_ops.reduce_max(\n",
    "        math_ops.multiply(data - axis_minimums, mask), dim,\n",
    "        keepdims=True) + axis_minimums\n",
    "    return masked_maximums\n",
    "\n",
    "def masked_minimum(data, mask, dim=1):\n",
    "    \"\"\"Computes the axis wise minimum over chosen elements.\n",
    "\n",
    "    Args:\n",
    "      data: 2-D float `Tensor` of size [n, m].\n",
    "      mask: 2-D Boolean `Tensor` of size [n, m].\n",
    "      dim: The dimension over which to compute the minimum.\n",
    "\n",
    "    Returns:\n",
    "      masked_minimums: N-D `Tensor`.\n",
    "        The minimized dimension is of size 1 after the operation.\n",
    "    \"\"\"\n",
    "    axis_maximums = math_ops.reduce_max(data, dim, keepdims=True)\n",
    "    masked_minimums = math_ops.reduce_min(\n",
    "        math_ops.multiply(data - axis_maximums, mask), dim,\n",
    "        keepdims=True) + axis_maximums\n",
    "    return masked_minimums"
   ]
  },
  {
   "cell_type": "code",
   "execution_count": 34,
   "metadata": {},
   "outputs": [],
   "source": [
    "## required for semi-hard triplet loss:\n",
    "from tensorflow.python.ops import array_ops\n",
    "from tensorflow.python.ops import math_ops\n",
    "from tensorflow.python.framework import dtypes\n",
    "import tensorflow as tf\n",
    "\n",
    "def quintet_loss(y_true, y_pred):\n",
    "    return triplet_loss(y_pred)\n",
    "\n",
    "def triplet_loss(vects):\n",
    "    #del y_true\n",
    "    margin = 1.\n",
    "    labels = vects[:, :1]\n",
    " \n",
    "    labels = tf.cast(labels, dtype='int32')\n",
    "\n",
    "    embeddings = vects[:, 1:]\n",
    "\n",
    "    ### Code from Tensorflow function [tf.contrib.losses.metric_learning.triplet_semihard_loss] starts here:\n",
    "    \n",
    "    # Reshape [batch_size] label tensor to a [batch_size, 1] label tensor.\n",
    "    # lshape=array_ops.shape(labels)\n",
    "    # assert lshape.shape == 1\n",
    "    # labels = array_ops.reshape(labels, [lshape[0], 1])\n",
    "\n",
    "    # Build pairwise squared distance matrix.\n",
    "    pdist_matrix = pairwise_distance(embeddings, squared=True)\n",
    "    # Build pairwise binary adjacency matrix.\n",
    "    adjacency = math_ops.equal(labels, array_ops.transpose(labels))\n",
    "    # Invert so we can select negatives only.\n",
    "    adjacency_not = math_ops.logical_not(adjacency)\n",
    "\n",
    "    # global batch_size  \n",
    "    batch_size = array_ops.size(labels) # was 'array_ops.size(labels)'\n",
    "\n",
    "    # Compute the mask.\n",
    "    pdist_matrix_tile = array_ops.tile(pdist_matrix, [batch_size, 1])\n",
    "    mask = math_ops.logical_and(\n",
    "        array_ops.tile(adjacency_not, [batch_size, 1]),\n",
    "        math_ops.greater(\n",
    "            pdist_matrix_tile, array_ops.reshape(\n",
    "                array_ops.transpose(pdist_matrix), [-1, 1])))\n",
    "    mask_final = array_ops.reshape(\n",
    "        math_ops.greater(\n",
    "            math_ops.reduce_sum(\n",
    "                math_ops.cast(mask, dtype=dtypes.float32), 1, keepdims=True),\n",
    "            0.0), [batch_size, batch_size])\n",
    "    mask_final = array_ops.transpose(mask_final)\n",
    "\n",
    "    adjacency_not = math_ops.cast(adjacency_not, dtype=dtypes.float32)\n",
    "    mask = math_ops.cast(mask, dtype=dtypes.float32)\n",
    "\n",
    "    # negatives_outside: smallest D_an where D_an > D_ap.\n",
    "    negatives_outside = array_ops.reshape(\n",
    "        masked_minimum(pdist_matrix_tile, mask), [batch_size, batch_size])\n",
    "    negatives_outside = array_ops.transpose(negatives_outside)\n",
    "\n",
    "    # negatives_inside: largest D_an.\n",
    "    negatives_inside = array_ops.tile(\n",
    "        masked_maximum(pdist_matrix, adjacency_not), [1, batch_size])\n",
    "    semi_hard_negatives = array_ops.where(\n",
    "        mask_final, negatives_outside, negatives_inside)\n",
    "\n",
    "    loss_mat = math_ops.add(margin, pdist_matrix - semi_hard_negatives)\n",
    "\n",
    "    mask_positives = math_ops.cast(\n",
    "        adjacency, dtype=dtypes.float32) - array_ops.diag(\n",
    "        array_ops.ones([batch_size]))\n",
    "\n",
    "    # In lifted-struct, the authors multiply 0.5 for upper triangular\n",
    "    #   in semihard, they take all positive pairs except the diagonal.\n",
    "    num_positives = math_ops.reduce_sum(mask_positives)\n",
    "\n",
    "    semi_hard_triplet_loss_distance = math_ops.truediv(\n",
    "        math_ops.reduce_sum(\n",
    "            math_ops.maximum(\n",
    "                math_ops.multiply(loss_mat, mask_positives), 0.0)),\n",
    "        num_positives,\n",
    "        name='triplet_semihard_loss')\n",
    "    \n",
    "    ### Code from Tensorflow function semi-hard triplet loss ENDS here.\n",
    "    return semi_hard_triplet_loss_distance"
   ]
  },
  {
   "cell_type": "code",
   "execution_count": 35,
   "metadata": {},
   "outputs": [],
   "source": [
    "from keras.layers import concatenate, Add, Lambda, merge, Average, Maximum\n",
    "from keras.optimizers import Adam, Nadam\n",
    "\n",
    "def siamese_model(title_feature_model, desc_feature_model, categorical_feature_model, sequence_length_info, \n",
    "                  sequence_length_t, sequence_length_d, name):\n",
    "  \n",
    "    # Title\n",
    "    bug_t_token = Input(shape = (sequence_length_t, ), name = 'title_token_{}'.format(name))\n",
    "    bug_t_segment = Input(shape = (sequence_length_t, ), name = 'title_segment_{}'.format(name))\n",
    "    # Description\n",
    "    bug_d_token = Input(shape = (sequence_length_d, ), name = 'desc_token_{}'.format(name))\n",
    "    bug_d_segment = Input(shape = (sequence_length_d, ), name = 'desc_segment_{}'.format(name))\n",
    "    # Categorical\n",
    "    bug_i = Input(shape = (sequence_length_info, ), name = 'info_{}'.format(name))\n",
    "    \n",
    "    bug_t_feat = title_feature_model([bug_t_token, bug_t_segment])\n",
    "    bug_d_feat = desc_feature_model([bug_d_token, bug_d_segment])\n",
    "    bug_i_feat = categorical_feature_model(bug_i)\n",
    "    \n",
    "    #bug_feature_output = Add(name = 'merge_features_{}'.format(name))([bug_i_feat, bug_t_feat, bug_d_feat])\n",
    "    bug_feature_output = concatenate([bug_i_feat, bug_t_feat, bug_d_feat], name = 'merge_features_{}'.format(name))\n",
    "    \n",
    "    bug_feature_model = Model(inputs=[bug_t_token, bug_t_segment, bug_d_token, bug_d_segment, bug_i], outputs=[bug_feature_output], name = 'merge_features_{}'.format(name))\n",
    "    \n",
    "    return bug_feature_model"
   ]
  },
  {
   "cell_type": "code",
   "execution_count": 36,
   "metadata": {},
   "outputs": [],
   "source": [
    "def max_margin_objective(encoded_anchor, decay_lr=1):\n",
    "    \n",
    "    input_labels = Input(shape=(1,), name='input_label')    # input layer for labels\n",
    "    inputs = np.concatenate([encoded_anchor.input, [input_labels]], -1).tolist()\n",
    "    \n",
    "    encoded_anchor = encoded_anchor.output\n",
    "    \n",
    "    output = concatenate([input_labels, encoded_anchor])  # concatenating the labels + embeddings\n",
    "    \n",
    "    similarity_model = Model(inputs = inputs, outputs = output, name = 'Similarity_Model')\n",
    "\n",
    "    #optimizer = Nadam(lr=1e-3, beta_1=0.9, beta_2=0.999, epsilon=K.epsilon(), schedule_decay=0.01)\n",
    "    # optimizer = Adam(lr=1e-3 * decay_lr, beta_1=0.9, beta_2=0.999, epsilon=None, decay=0.0, amsgrad=True)\n",
    "    \n",
    "    # setup the optimization process \n",
    "    similarity_model.compile(optimizer='adam', loss=quintet_loss) \n",
    "    # metrics=[pos_distance, neg_distance, custom_margin_loss]\n",
    "\n",
    "    return similarity_model"
   ]
  },
  {
   "cell_type": "code",
   "execution_count": 37,
   "metadata": {},
   "outputs": [],
   "source": [
    "import _pickle as pickle\n",
    "def save_loss(result):\n",
    "    with open(os.path.join(DIR,'{}_log.pkl'.format(METHOD)), 'wb') as f:\n",
    "        pickle.dump(result, f)\n",
    "    print(\"=> result saved!\")"
   ]
  },
  {
   "cell_type": "code",
   "execution_count": 38,
   "metadata": {},
   "outputs": [],
   "source": [
    "# Domain to use\n",
    "limit_train = int(epochs * freeze_train) # 10% de 1000 , 100 epocas\n",
    "METHOD = 'deepTL_{}'.format(limit_train)\n",
    "SAVE_PATH = '{}_preprocessing_{}_feature@number_of_epochs@epochs_64batch({})'.format(PREPROCESSING, METHOD, DOMAIN)\n",
    "SAVE_PATH_FEATURE = '{}_preprocessing_{}_feature_@number_of_epochs@epochs_64batch({})'.format(PREPROCESSING, METHOD, DOMAIN)"
   ]
  },
  {
   "cell_type": "code",
   "execution_count": 39,
   "metadata": {
    "scrolled": true
   },
   "outputs": [
    {
     "name": "stdout",
     "output_type": "stream",
     "text": [
      "WARNING:tensorflow:From /usr/local/lib/python3.5/dist-packages/keras/backend/tensorflow_backend.py:95: The name tf.reset_default_graph is deprecated. Please use tf.compat.v1.reset_default_graph instead.\n",
      "\n",
      "WARNING:tensorflow:From /usr/local/lib/python3.5/dist-packages/keras/backend/tensorflow_backend.py:98: The name tf.placeholder_with_default is deprecated. Please use tf.compat.v1.placeholder_with_default instead.\n",
      "\n",
      "WARNING:tensorflow:From /usr/local/lib/python3.5/dist-packages/keras/backend/tensorflow_backend.py:102: The name tf.get_default_graph is deprecated. Please use tf.compat.v1.get_default_graph instead.\n",
      "\n",
      "WARNING:tensorflow:From /usr/local/lib/python3.5/dist-packages/keras/backend/tensorflow_backend.py:517: The name tf.placeholder is deprecated. Please use tf.compat.v1.placeholder instead.\n",
      "\n",
      "WARNING:tensorflow:From /usr/local/lib/python3.5/dist-packages/keras/backend/tensorflow_backend.py:4138: The name tf.random_uniform is deprecated. Please use tf.random.uniform instead.\n",
      "\n",
      "WARNING:tensorflow:From /usr/local/lib/python3.5/dist-packages/keras/backend/tensorflow_backend.py:3445: calling dropout (from tensorflow.python.ops.nn_ops) with keep_prob is deprecated and will be removed in a future version.\n",
      "Instructions for updating:\n",
      "Please use `rate` instead of `keep_prob`. Rate should be set to `rate = 1 - keep_prob`.\n",
      "WARNING:tensorflow:From /usr/local/lib/python3.5/dist-packages/keras/backend/tensorflow_backend.py:4185: The name tf.truncated_normal is deprecated. Please use tf.random.truncated_normal instead.\n",
      "\n",
      "WARNING:tensorflow:From /usr/local/lib/python3.5/dist-packages/keras/backend/tensorflow_backend.py:174: The name tf.get_default_session is deprecated. Please use tf.compat.v1.get_default_session instead.\n",
      "\n",
      "WARNING:tensorflow:From /usr/local/lib/python3.5/dist-packages/keras/backend/tensorflow_backend.py:181: The name tf.ConfigProto is deprecated. Please use tf.compat.v1.ConfigProto instead.\n",
      "\n",
      "WARNING:tensorflow:From /usr/local/lib/python3.5/dist-packages/keras/backend/tensorflow_backend.py:186: The name tf.Session is deprecated. Please use tf.compat.v1.Session instead.\n",
      "\n",
      "WARNING:tensorflow:From /usr/local/lib/python3.5/dist-packages/keras/backend/tensorflow_backend.py:190: The name tf.global_variables is deprecated. Please use tf.compat.v1.global_variables instead.\n",
      "\n",
      "WARNING:tensorflow:From /usr/local/lib/python3.5/dist-packages/keras/backend/tensorflow_backend.py:199: The name tf.is_variable_initialized is deprecated. Please use tf.compat.v1.is_variable_initialized instead.\n",
      "\n",
      "WARNING:tensorflow:From /usr/local/lib/python3.5/dist-packages/keras/backend/tensorflow_backend.py:206: The name tf.variables_initializer is deprecated. Please use tf.compat.v1.variables_initializer instead.\n",
      "\n",
      "WARNING:tensorflow:From /usr/local/lib/python3.5/dist-packages/keras/optimizers.py:790: The name tf.train.Optimizer is deprecated. Please use tf.compat.v1.train.Optimizer instead.\n",
      "\n",
      "WARNING:tensorflow:From /usr/local/lib/python3.5/dist-packages/keras/backend/tensorflow_backend.py:3341: The name tf.log is deprecated. Please use tf.math.log instead.\n",
      "\n",
      "WARNING:tensorflow:From <ipython-input-33-cd325db98846>:35: to_float (from tensorflow.python.ops.math_ops) is deprecated and will be removed in a future version.\n",
      "Instructions for updating:\n",
      "Use `tf.cast` instead.\n",
      "WARNING:tensorflow:From <ipython-input-34-5b033f8d5bce>:62: where (from tensorflow.python.ops.array_ops) is deprecated and will be removed in a future version.\n",
      "Instructions for updating:\n",
      "Use tf.where in 2.0, which has the same broadcast rule as np.where\n",
      "__________________________________________________________________________________________________\n",
      "Layer (type)                    Output Shape         Param #     Connected to                     \n",
      "==================================================================================================\n",
      "info_in (InputLayer)            (None, 544)          0                                            \n",
      "__________________________________________________________________________________________________\n",
      "title_token_in (InputLayer)     (None, 20)           0                                            \n",
      "__________________________________________________________________________________________________\n",
      "title_segment_in (InputLayer)   (None, 20)           0                                            \n",
      "__________________________________________________________________________________________________\n",
      "desc_token_in (InputLayer)      (None, 20)           0                                            \n",
      "__________________________________________________________________________________________________\n",
      "desc_segment_in (InputLayer)    (None, 20)           0                                            \n",
      "__________________________________________________________________________________________________\n",
      "FeatureMlpGenerationModel (Mode (None, 300)          163500      info_in[0][0]                    \n",
      "__________________________________________________________________________________________________\n",
      "FeatureBERTGenerationModelTitle (None, 300)          80577436    title_token_in[0][0]             \n",
      "                                                                 title_segment_in[0][0]           \n",
      "__________________________________________________________________________________________________\n",
      "FeatureBERTGenerationModelDescr (None, 300)          80577436    desc_token_in[0][0]              \n",
      "                                                                 desc_segment_in[0][0]            \n",
      "__________________________________________________________________________________________________\n",
      "input_label (InputLayer)        (None, 1)            0                                            \n",
      "__________________________________________________________________________________________________\n",
      "merge_features_in (Concatenate) (None, 900)          0           FeatureMlpGenerationModel[1][0]  \n",
      "                                                                 FeatureBERTGenerationModelTitle[1\n",
      "                                                                 FeatureBERTGenerationModelDescrip\n",
      "__________________________________________________________________________________________________\n",
      "concatenate_1 (Concatenate)     (None, 901)          0           input_label[0][0]                \n",
      "                                                                 merge_features_in[0][0]          \n",
      "==================================================================================================\n",
      "Total params: 161,318,372\n",
      "Trainable params: 846,196\n",
      "Non-trainable params: 160,472,176\n",
      "__________________________________________________________________________________________________\n",
      "Total of  100\n",
      "WARNING:tensorflow:From /usr/local/lib/python3.5/dist-packages/keras/backend/tensorflow_backend.py:986: The name tf.assign_add is deprecated. Please use tf.compat.v1.assign_add instead.\n",
      "\n",
      "WARNING:tensorflow:From /usr/local/lib/python3.5/dist-packages/keras/backend/tensorflow_backend.py:973: The name tf.assign is deprecated. Please use tf.compat.v1.assign instead.\n",
      "\n",
      "Epoch: 1 Loss: 1.27, Loss_test: 0.43\n",
      "Epoch: 2 Loss: 0.38, Loss_test: 0.43\n",
      "Epoch: 3 Loss: 0.45, Loss_test: 0.41\n",
      "Epoch: 4 Loss: 0.49, Loss_test: 0.40\n",
      "Epoch: 5 Loss: 0.58, Loss_test: 0.40\n",
      "Epoch: 6 Loss: 0.58, Loss_test: 0.41\n",
      "Epoch: 7 Loss: 0.58, Loss_test: 0.40\n",
      "Epoch: 8 Loss: 0.47, Loss_test: 0.39\n",
      "Epoch: 9 Loss: 0.41, Loss_test: 0.39\n",
      "=> result saved!\n",
      "Epoch: 10 Loss: 0.41, Loss_test: 0.38\n",
      "Epoch: 11 Loss: 0.49, Loss_test: 0.38\n",
      "Epoch: 12 Loss: 0.40, Loss_test: 0.38\n",
      "Epoch: 13 Loss: 0.52, Loss_test: 0.37\n",
      "Epoch: 14 Loss: 0.33, Loss_test: 0.37\n",
      "Epoch: 15 Loss: 0.37, Loss_test: 0.36\n",
      "Epoch: 16 Loss: 0.34, Loss_test: 0.35\n",
      "Epoch: 17 Loss: 0.35, Loss_test: 0.35\n",
      "Epoch: 18 Loss: 0.38, Loss_test: 0.33\n",
      "Epoch: 19 Loss: 0.25, Loss_test: 0.33\n",
      "=> result saved!\n",
      "Epoch: 20 Loss: 0.38, Loss_test: 0.32\n",
      "Epoch: 21 Loss: 0.42, Loss_test: 0.32\n",
      "Epoch: 22 Loss: 0.35, Loss_test: 0.30\n",
      "Epoch: 23 Loss: 0.32, Loss_test: 0.30\n",
      "Epoch: 24 Loss: 0.43, Loss_test: 0.29\n",
      "Epoch: 25 Loss: 0.22, Loss_test: 0.30\n",
      "Epoch: 26 Loss: 0.35, Loss_test: 0.29\n",
      "Epoch: 27 Loss: 0.33, Loss_test: 0.29\n",
      "Epoch: 28 Loss: 0.28, Loss_test: 0.28\n",
      "Epoch: 29 Loss: 0.29, Loss_test: 0.27\n"
     ]
    },
    {
     "name": "stdout",
     "output_type": "stream",
     "text": [
      "=> result saved!\n",
      "Epoch: 30 Loss: 0.38, Loss_test: 0.27\n",
      "Epoch: 31 Loss: 0.32, Loss_test: 0.26\n",
      "Epoch: 32 Loss: 0.18, Loss_test: 0.26\n",
      "Epoch: 33 Loss: 0.20, Loss_test: 0.26\n",
      "Epoch: 34 Loss: 0.28, Loss_test: 0.26\n",
      "Epoch: 35 Loss: 0.29, Loss_test: 0.25\n",
      "Epoch: 36 Loss: 0.20, Loss_test: 0.24\n",
      "Epoch: 37 Loss: 0.21, Loss_test: 0.25\n",
      "Epoch: 38 Loss: 0.26, Loss_test: 0.25\n",
      "Epoch: 39 Loss: 0.35, Loss_test: 0.24\n",
      "=> result saved!\n",
      "Epoch: 40 Loss: 0.23, Loss_test: 0.24\n",
      "Epoch: 41 Loss: 0.11, Loss_test: 0.24\n",
      "Epoch: 42 Loss: 0.26, Loss_test: 0.24\n",
      "Epoch: 43 Loss: 0.30, Loss_test: 0.23\n",
      "Epoch: 44 Loss: 0.24, Loss_test: 0.23\n",
      "Epoch: 45 Loss: 0.31, Loss_test: 0.23\n",
      "Epoch: 46 Loss: 0.29, Loss_test: 0.23\n",
      "Epoch: 47 Loss: 0.14, Loss_test: 0.23\n",
      "Epoch: 48 Loss: 0.18, Loss_test: 0.23\n",
      "Epoch: 49 Loss: 0.19, Loss_test: 0.23\n",
      "=> result saved!\n",
      "Epoch: 50 Loss: 0.26, Loss_test: 0.23\n",
      "Epoch: 51 Loss: 0.35, Loss_test: 0.23\n",
      "Epoch: 52 Loss: 0.16, Loss_test: 0.23\n",
      "Epoch: 53 Loss: 0.30, Loss_test: 0.23\n",
      "Epoch: 54 Loss: 0.24, Loss_test: 0.23\n",
      "Epoch: 55 Loss: 0.19, Loss_test: 0.23\n",
      "Epoch: 56 Loss: 0.23, Loss_test: 0.23\n",
      "Epoch: 57 Loss: 0.20, Loss_test: 0.23\n",
      "Epoch: 58 Loss: 0.28, Loss_test: 0.22\n",
      "Epoch: 59 Loss: 0.14, Loss_test: 0.22\n",
      "=> result saved!\n",
      "Epoch: 60 Loss: 0.22, Loss_test: 0.21\n",
      "Epoch: 61 Loss: 0.19, Loss_test: 0.22\n",
      "Epoch: 62 Loss: 0.17, Loss_test: 0.21\n",
      "Epoch: 63 Loss: 0.21, Loss_test: 0.21\n",
      "Epoch: 64 Loss: 0.16, Loss_test: 0.21\n",
      "Epoch: 65 Loss: 0.29, Loss_test: 0.21\n",
      "Epoch: 66 Loss: 0.28, Loss_test: 0.21\n",
      "Epoch: 67 Loss: 0.16, Loss_test: 0.20\n",
      "Epoch: 68 Loss: 0.15, Loss_test: 0.20\n",
      "Epoch: 69 Loss: 0.12, Loss_test: 0.20\n",
      "=> result saved!\n",
      "Epoch: 70 Loss: 0.19, Loss_test: 0.19\n",
      "Epoch: 71 Loss: 0.33, Loss_test: 0.19\n",
      "Epoch: 72 Loss: 0.14, Loss_test: 0.19\n",
      "Epoch: 73 Loss: 0.19, Loss_test: 0.19\n",
      "Epoch: 74 Loss: 0.15, Loss_test: 0.19\n",
      "Epoch: 75 Loss: 0.16, Loss_test: 0.18\n",
      "Epoch: 76 Loss: 0.18, Loss_test: 0.17\n",
      "Epoch: 77 Loss: 0.17, Loss_test: 0.17\n",
      "Epoch: 78 Loss: 0.21, Loss_test: 0.17\n",
      "Epoch: 79 Loss: 0.11, Loss_test: 0.17\n",
      "=> result saved!\n",
      "Epoch: 80 Loss: 0.15, Loss_test: 0.17\n",
      "Epoch: 81 Loss: 0.13, Loss_test: 0.16\n",
      "Epoch: 82 Loss: 0.18, Loss_test: 0.16\n",
      "Epoch: 83 Loss: 0.25, Loss_test: 0.16\n",
      "Epoch: 84 Loss: 0.10, Loss_test: 0.16\n",
      "Epoch: 85 Loss: 0.18, Loss_test: 0.16\n",
      "Epoch: 86 Loss: 0.20, Loss_test: 0.17\n",
      "Epoch: 87 Loss: 0.13, Loss_test: 0.16\n",
      "Epoch: 88 Loss: 0.28, Loss_test: 0.16\n",
      "Epoch: 89 Loss: 0.20, Loss_test: 0.16\n",
      "=> result saved!\n",
      "Epoch: 90 Loss: 0.16, Loss_test: 0.16\n",
      "Epoch: 91 Loss: 0.12, Loss_test: 0.16\n",
      "Epoch: 92 Loss: 0.13, Loss_test: 0.16\n",
      "Epoch: 93 Loss: 0.17, Loss_test: 0.15\n",
      "Epoch: 94 Loss: 0.08, Loss_test: 0.15\n",
      "Epoch: 95 Loss: 0.18, Loss_test: 0.15\n",
      "Epoch: 96 Loss: 0.13, Loss_test: 0.16\n",
      "Epoch: 97 Loss: 0.24, Loss_test: 0.15\n",
      "Epoch: 98 Loss: 0.15, Loss_test: 0.15\n",
      "Epoch: 99 Loss: 0.13, Loss_test: 0.14\n",
      "=> result saved!\n",
      "Epoch: 100 Loss: 0.18, Loss_test: 0.14, recall@25: 0.61\n",
      "Best_epoch=94, Best_loss=0.08, Recall@25=0.61\n"
     ]
    }
   ],
   "source": [
    "# %%time\n",
    "import keras\n",
    "\n",
    "# Inspired on https://'pastebin.com/TaGFdcBA\n",
    "# TODO: https://stackoverflow.com/questions/49941903/keras-compute-cosine-distance-between-two-flattened-outputs\n",
    "keras.backend.clear_session()\n",
    "\n",
    "# Clear GPU memory\n",
    "# from numba import cuda\n",
    "# cuda.select_device(0)\n",
    "# cuda.close()\n",
    "\n",
    "# Feature models\n",
    "'''\n",
    "    cnn_model\n",
    "    lstm_model\n",
    "    mlp_model\n",
    "'''\n",
    "title_feature_model = bert_model(MAX_SEQUENCE_LENGTH_T, 'Title')\n",
    "desc_feature_model = bert_model(MAX_SEQUENCE_LENGTH_D, 'Description')\n",
    "categorical_feature_model = mlp_model(number_of_columns_info)\n",
    "\n",
    "# Similarity model\n",
    "encoded_anchor = siamese_model(title_feature_model, desc_feature_model, categorical_feature_model, \n",
    "                                     number_of_columns_info, MAX_SEQUENCE_LENGTH_T, MAX_SEQUENCE_LENGTH_D, 'in')\n",
    "\n",
    "similarity_model = max_margin_objective(encoded_anchor, decay_lr=1)\n",
    "\n",
    "# cnn_feature_model.summary()\n",
    "# lstm_feature_model.summary()\n",
    "similarity_model.summary()\n",
    "\n",
    "'''\n",
    "    Experiment\n",
    "'''\n",
    "result = { 'train' : [], 'test' : [] }\n",
    "print(\"Total of \", limit_train)\n",
    "for epoch in range(limit_train):\n",
    "    batch_triplet_train, \\\n",
    "        train_input_sample, train_sim = batch_iterator(baseline, retrieval, encoded_anchor, baseline.train_data, \n",
    "                                                       baseline.dup_sets_train, bug_train_ids, \n",
    "                                                           batch_size, 1, issues_by_buckets, TRIPLET_HARD=False)\n",
    "    train_batch = [train_input_sample['title']['token'], train_input_sample['title']['segment'], \n",
    "                   train_input_sample['description']['token'], train_input_sample['description']['segment'],\n",
    "                   train_input_sample['info'], train_sim]\n",
    "    \n",
    "#     if epoch == 10:\n",
    "#         similarity_model = max_margin_objective(encoded_anchor, encoded_positive, encoded_negative, decay_lr=0.1)\n",
    "    \n",
    "    h = similarity_model.train_on_batch(x=train_batch, y=train_sim)\n",
    "    h_validation = similarity_model.test_on_batch(x=validation_sample, y=valid_sim)\n",
    "    \n",
    "    # save results\n",
    "    result['train'].append([h])\n",
    "    result['test'].append([h_validation])\n",
    "    \n",
    "    if( (epoch+1) % 10 == 0 or (epoch+1 == limit_train) ):\n",
    "        save_loss(result)\n",
    "    \n",
    "    if (epoch+1 == limit_train): #(epoch > 1 and epoch % 10 == 0) or (epoch+1 == epochs):\n",
    "        recall, exported_rank, debug = experiment.evaluate_validation_test(retrieval, verbose, encoded_anchor, issues_by_buckets, \n",
    "                                                               bug_train_ids, method='bert')\n",
    "        print(\"Epoch: {} Loss: {:.2f}, Loss_test: {:.2f}, recall@25: {:.2f}\".format(epoch+1, h, h_validation, recall))\n",
    "    else:\n",
    "        print(\"Epoch: {} Loss: {:.2f}, Loss_test: {:.2f}\".format(epoch+1, h, h_validation))\n",
    "    loss = h\n",
    "    \n",
    "    if loss < best_loss:\n",
    "        best_loss = loss\n",
    "        best_epoch = epoch+1\n",
    "\n",
    "#experiment.save_model(similarity_model, SAVE_PATH.replace('@number_of_epochs@', str(epochs)))\n",
    "#experiment.save_model(encoded_anchor, SAVE_PATH_FEATURE.replace('@number_of_epochs@', str(epochs)), verbose=1)\n",
    "print('Best_epoch={}, Best_loss={:.2f}, Recall@25={:.2f}'.format(best_epoch, best_loss, recall))"
   ]
  },
  {
   "cell_type": "code",
   "execution_count": 40,
   "metadata": {},
   "outputs": [
    {
     "data": {
      "text/plain": [
       "'data/processed/netbeans/bert/exported_rank_deepTL_100.txt'"
      ]
     },
     "execution_count": 40,
     "metadata": {},
     "output_type": "execute_result"
    }
   ],
   "source": [
    "EXPORT_RANK_PATH = os.path.join(DIR, 'exported_rank_{}.txt'.format(METHOD))\n",
    "EXPORT_RANK_PATH"
   ]
  },
  {
   "cell_type": "code",
   "execution_count": 41,
   "metadata": {},
   "outputs": [],
   "source": [
    "with open(EXPORT_RANK_PATH, 'w') as file_out:\n",
    "    for row in exported_rank:\n",
    "        file_out.write(row + \"\\n\")"
   ]
  },
  {
   "cell_type": "code",
   "execution_count": 42,
   "metadata": {},
   "outputs": [
    {
     "name": "stdout",
     "output_type": "stream",
     "text": [
      "Saved model 'modelos/model_bert_preprocessing_deepTL_100_feature_100epochs_64batch(netbeans).h5' to disk\n"
     ]
    }
   ],
   "source": [
    "experiment.save_model(similarity_model, SAVE_PATH.replace('@number_of_epochs@', str(limit_train)))\n",
    "experiment.save_model(encoded_anchor, SAVE_PATH_FEATURE.replace('@number_of_epochs@', str(limit_train)), verbose=1)"
   ]
  },
  {
   "cell_type": "code",
   "execution_count": 43,
   "metadata": {},
   "outputs": [
    {
     "data": {
      "text/plain": [
       "(100, 100)"
      ]
     },
     "execution_count": 43,
     "metadata": {},
     "output_type": "execute_result"
    }
   ],
   "source": [
    "len(result['train']), len(result['test'])"
   ]
  },
  {
   "cell_type": "code",
   "execution_count": 44,
   "metadata": {},
   "outputs": [
    {
     "name": "stdout",
     "output_type": "stream",
     "text": [
      "__________________________________________________________________________________________________\n",
      "Layer (type)                    Output Shape         Param #     Connected to                     \n",
      "==================================================================================================\n",
      "info_in (InputLayer)            (None, 544)          0                                            \n",
      "__________________________________________________________________________________________________\n",
      "title_token_in (InputLayer)     (None, 20)           0                                            \n",
      "__________________________________________________________________________________________________\n",
      "title_segment_in (InputLayer)   (None, 20)           0                                            \n",
      "__________________________________________________________________________________________________\n",
      "desc_token_in (InputLayer)      (None, 20)           0                                            \n",
      "__________________________________________________________________________________________________\n",
      "desc_segment_in (InputLayer)    (None, 20)           0                                            \n",
      "__________________________________________________________________________________________________\n",
      "FeatureMlpGenerationModel (Mode (None, 300)          163500      info_in[0][0]                    \n",
      "__________________________________________________________________________________________________\n",
      "FeatureBERTGenerationModelTitle (None, 300)          80577436    title_token_in[0][0]             \n",
      "                                                                 title_segment_in[0][0]           \n",
      "__________________________________________________________________________________________________\n",
      "FeatureBERTGenerationModelDescr (None, 300)          80577436    desc_token_in[0][0]              \n",
      "                                                                 desc_segment_in[0][0]            \n",
      "__________________________________________________________________________________________________\n",
      "input_label (InputLayer)        (None, 1)            0                                            \n",
      "__________________________________________________________________________________________________\n",
      "merge_features_in (Concatenate) (None, 900)          0           FeatureMlpGenerationModel[1][0]  \n",
      "                                                                 FeatureBERTGenerationModelTitle[1\n",
      "                                                                 FeatureBERTGenerationModelDescrip\n",
      "__________________________________________________________________________________________________\n",
      "concatenate_1 (Concatenate)     (None, 901)          0           input_label[0][0]                \n",
      "                                                                 merge_features_in[0][0]          \n",
      "==================================================================================================\n",
      "Total params: 161,318,372\n",
      "Trainable params: 846,196\n",
      "Non-trainable params: 160,472,176\n",
      "__________________________________________________________________________________________________\n"
     ]
    }
   ],
   "source": [
    "model = similarity_model.get_layer('concatenate_1')\n",
    "output = model.output\n",
    "inputs = similarity_model.inputs\n",
    "model = Model(inputs = inputs, outputs = output, name = 'Similarity_Model')\n",
    "\n",
    "# setup the optimization process \n",
    "model.compile(optimizer='adam', loss=quintet_loss)\n",
    "model.summary()"
   ]
  },
  {
   "cell_type": "code",
   "execution_count": 45,
   "metadata": {},
   "outputs": [],
   "source": [
    "# Domain to use\n",
    "METHOD = 'deepTL_{}'.format(epochs)\n",
    "SAVE_PATH = '{}_preprocessing_{}_feature@number_of_epochs@epochs_64batch({})'.format(PREPROCESSING, METHOD, DOMAIN)\n",
    "SAVE_PATH_FEATURE = '{}_preprocessing_{}_feature_@number_of_epochs@epochs_64batch({})'.format(PREPROCESSING, METHOD, DOMAIN)"
   ]
  },
  {
   "cell_type": "code",
   "execution_count": 46,
   "metadata": {
    "scrolled": true
   },
   "outputs": [
    {
     "name": "stdout",
     "output_type": "stream",
     "text": [
      "Epoch: 101 Loss: 0.10, Loss_test: 0.15\n",
      "Epoch: 102 Loss: 0.09, Loss_test: 0.16\n",
      "Epoch: 103 Loss: 0.20, Loss_test: 0.16\n",
      "Epoch: 104 Loss: 0.21, Loss_test: 0.16\n",
      "Epoch: 105 Loss: 0.22, Loss_test: 0.15\n",
      "Epoch: 106 Loss: 0.15, Loss_test: 0.16\n",
      "Epoch: 107 Loss: 0.23, Loss_test: 0.15\n",
      "Epoch: 108 Loss: 0.20, Loss_test: 0.15\n",
      "Epoch: 109 Loss: 0.21, Loss_test: 0.15\n",
      "=> result saved!\n",
      "Epoch: 110 Loss: 0.19, Loss_test: 0.14\n",
      "Epoch: 111 Loss: 0.23, Loss_test: 0.15\n",
      "Epoch: 112 Loss: 0.16, Loss_test: 0.15\n",
      "Epoch: 113 Loss: 0.08, Loss_test: 0.15\n",
      "Epoch: 114 Loss: 0.07, Loss_test: 0.15\n",
      "Epoch: 115 Loss: 0.16, Loss_test: 0.15\n",
      "Epoch: 116 Loss: 0.15, Loss_test: 0.14\n",
      "Epoch: 117 Loss: 0.13, Loss_test: 0.15\n",
      "Epoch: 118 Loss: 0.17, Loss_test: 0.15\n",
      "Epoch: 119 Loss: 0.25, Loss_test: 0.14\n",
      "=> result saved!\n",
      "Epoch: 120 Loss: 0.14, Loss_test: 0.13\n",
      "Epoch: 121 Loss: 0.10, Loss_test: 0.14\n",
      "Epoch: 122 Loss: 0.12, Loss_test: 0.14\n",
      "Epoch: 123 Loss: 0.19, Loss_test: 0.13\n",
      "Epoch: 124 Loss: 0.07, Loss_test: 0.14\n",
      "Epoch: 125 Loss: 0.26, Loss_test: 0.14\n",
      "Epoch: 126 Loss: 0.11, Loss_test: 0.14\n",
      "Epoch: 127 Loss: 0.17, Loss_test: 0.14\n",
      "Epoch: 128 Loss: 0.17, Loss_test: 0.13\n",
      "Epoch: 129 Loss: 0.18, Loss_test: 0.13\n",
      "=> result saved!\n",
      "Epoch: 130 Loss: 0.13, Loss_test: 0.13\n",
      "Epoch: 131 Loss: 0.08, Loss_test: 0.13\n",
      "Epoch: 132 Loss: 0.13, Loss_test: 0.13\n",
      "Epoch: 133 Loss: 0.20, Loss_test: 0.13\n",
      "Epoch: 134 Loss: 0.12, Loss_test: 0.13\n",
      "Epoch: 135 Loss: 0.15, Loss_test: 0.14\n",
      "Epoch: 136 Loss: 0.12, Loss_test: 0.14\n",
      "Epoch: 137 Loss: 0.14, Loss_test: 0.14\n",
      "Epoch: 138 Loss: 0.17, Loss_test: 0.13\n",
      "Epoch: 139 Loss: 0.10, Loss_test: 0.13\n",
      "=> result saved!\n",
      "Epoch: 140 Loss: 0.10, Loss_test: 0.13\n",
      "Epoch: 141 Loss: 0.07, Loss_test: 0.13\n",
      "Epoch: 142 Loss: 0.10, Loss_test: 0.13\n",
      "Epoch: 143 Loss: 0.09, Loss_test: 0.13\n",
      "Epoch: 144 Loss: 0.15, Loss_test: 0.13\n",
      "Epoch: 145 Loss: 0.07, Loss_test: 0.12\n",
      "Epoch: 146 Loss: 0.16, Loss_test: 0.12\n",
      "Epoch: 147 Loss: 0.13, Loss_test: 0.12\n",
      "Epoch: 148 Loss: 0.13, Loss_test: 0.12\n",
      "Epoch: 149 Loss: 0.06, Loss_test: 0.12\n",
      "=> result saved!\n",
      "Epoch: 150 Loss: 0.12, Loss_test: 0.12\n",
      "Epoch: 151 Loss: 0.10, Loss_test: 0.12\n",
      "Epoch: 152 Loss: 0.14, Loss_test: 0.11\n",
      "Epoch: 153 Loss: 0.13, Loss_test: 0.11\n",
      "Epoch: 154 Loss: 0.17, Loss_test: 0.11\n",
      "Epoch: 155 Loss: 0.15, Loss_test: 0.12\n",
      "Epoch: 156 Loss: 0.17, Loss_test: 0.12\n",
      "Epoch: 157 Loss: 0.10, Loss_test: 0.11\n",
      "Epoch: 158 Loss: 0.11, Loss_test: 0.12\n",
      "Epoch: 159 Loss: 0.13, Loss_test: 0.12\n",
      "=> result saved!\n",
      "Epoch: 160 Loss: 0.14, Loss_test: 0.12\n",
      "Epoch: 161 Loss: 0.14, Loss_test: 0.12\n",
      "Epoch: 162 Loss: 0.14, Loss_test: 0.12\n",
      "Epoch: 163 Loss: 0.11, Loss_test: 0.12\n",
      "Epoch: 164 Loss: 0.11, Loss_test: 0.12\n",
      "Epoch: 165 Loss: 0.16, Loss_test: 0.12\n",
      "Epoch: 166 Loss: 0.11, Loss_test: 0.11\n",
      "Epoch: 167 Loss: 0.11, Loss_test: 0.12\n",
      "Epoch: 168 Loss: 0.13, Loss_test: 0.12\n",
      "Epoch: 169 Loss: 0.20, Loss_test: 0.11\n",
      "=> result saved!\n",
      "Epoch: 170 Loss: 0.07, Loss_test: 0.11\n",
      "Epoch: 171 Loss: 0.08, Loss_test: 0.12\n",
      "Epoch: 172 Loss: 0.12, Loss_test: 0.12\n",
      "Epoch: 173 Loss: 0.16, Loss_test: 0.11\n",
      "Epoch: 174 Loss: 0.15, Loss_test: 0.11\n",
      "Epoch: 175 Loss: 0.08, Loss_test: 0.11\n",
      "Epoch: 176 Loss: 0.13, Loss_test: 0.11\n",
      "Epoch: 177 Loss: 0.07, Loss_test: 0.11\n",
      "Epoch: 178 Loss: 0.11, Loss_test: 0.11\n",
      "Epoch: 179 Loss: 0.07, Loss_test: 0.11\n",
      "=> result saved!\n",
      "Epoch: 180 Loss: 0.06, Loss_test: 0.11\n",
      "Epoch: 181 Loss: 0.17, Loss_test: 0.11\n",
      "Epoch: 182 Loss: 0.11, Loss_test: 0.11\n",
      "Epoch: 183 Loss: 0.08, Loss_test: 0.11\n",
      "Epoch: 184 Loss: 0.08, Loss_test: 0.11\n",
      "Epoch: 185 Loss: 0.16, Loss_test: 0.11\n",
      "Epoch: 186 Loss: 0.09, Loss_test: 0.11\n",
      "Epoch: 187 Loss: 0.13, Loss_test: 0.11\n",
      "Epoch: 188 Loss: 0.13, Loss_test: 0.11\n",
      "Epoch: 189 Loss: 0.08, Loss_test: 0.10\n",
      "=> result saved!\n",
      "Epoch: 190 Loss: 0.04, Loss_test: 0.10\n",
      "Epoch: 191 Loss: 0.15, Loss_test: 0.10\n",
      "Epoch: 192 Loss: 0.13, Loss_test: 0.11\n",
      "Epoch: 193 Loss: 0.18, Loss_test: 0.11\n",
      "Epoch: 194 Loss: 0.08, Loss_test: 0.11\n",
      "Epoch: 195 Loss: 0.16, Loss_test: 0.11\n",
      "Epoch: 196 Loss: 0.14, Loss_test: 0.11\n",
      "Epoch: 197 Loss: 0.11, Loss_test: 0.11\n",
      "Epoch: 198 Loss: 0.10, Loss_test: 0.11\n",
      "Epoch: 199 Loss: 0.17, Loss_test: 0.10\n",
      "=> result saved!\n",
      "Epoch: 200 Loss: 0.09, Loss_test: 0.10\n",
      "Epoch: 201 Loss: 0.15, Loss_test: 0.10\n",
      "Epoch: 202 Loss: 0.11, Loss_test: 0.10\n",
      "Epoch: 203 Loss: 0.06, Loss_test: 0.10\n",
      "Epoch: 204 Loss: 0.10, Loss_test: 0.10\n",
      "Epoch: 205 Loss: 0.06, Loss_test: 0.09\n",
      "Epoch: 206 Loss: 0.13, Loss_test: 0.10\n",
      "Epoch: 207 Loss: 0.10, Loss_test: 0.09\n",
      "Epoch: 208 Loss: 0.06, Loss_test: 0.09\n",
      "Epoch: 209 Loss: 0.10, Loss_test: 0.10\n",
      "=> result saved!\n",
      "Epoch: 210 Loss: 0.06, Loss_test: 0.10\n",
      "Epoch: 211 Loss: 0.11, Loss_test: 0.10\n",
      "Epoch: 212 Loss: 0.09, Loss_test: 0.10\n",
      "Epoch: 213 Loss: 0.17, Loss_test: 0.10\n",
      "Epoch: 214 Loss: 0.09, Loss_test: 0.10\n",
      "Epoch: 215 Loss: 0.18, Loss_test: 0.09\n",
      "Epoch: 216 Loss: 0.09, Loss_test: 0.09\n",
      "Epoch: 217 Loss: 0.05, Loss_test: 0.09\n",
      "Epoch: 218 Loss: 0.06, Loss_test: 0.09\n",
      "Epoch: 219 Loss: 0.09, Loss_test: 0.09\n",
      "=> result saved!\n",
      "Epoch: 220 Loss: 0.09, Loss_test: 0.09\n",
      "Epoch: 221 Loss: 0.13, Loss_test: 0.09\n",
      "Epoch: 222 Loss: 0.11, Loss_test: 0.09\n",
      "Epoch: 223 Loss: 0.11, Loss_test: 0.09\n",
      "Epoch: 224 Loss: 0.11, Loss_test: 0.09\n",
      "Epoch: 225 Loss: 0.09, Loss_test: 0.09\n",
      "Epoch: 226 Loss: 0.09, Loss_test: 0.09\n",
      "Epoch: 227 Loss: 0.05, Loss_test: 0.10\n",
      "Epoch: 228 Loss: 0.08, Loss_test: 0.10\n",
      "Epoch: 229 Loss: 0.15, Loss_test: 0.10\n",
      "=> result saved!\n",
      "Epoch: 230 Loss: 0.08, Loss_test: 0.10\n",
      "Epoch: 231 Loss: 0.10, Loss_test: 0.10\n",
      "Epoch: 232 Loss: 0.17, Loss_test: 0.10\n",
      "Epoch: 233 Loss: 0.12, Loss_test: 0.10\n",
      "Epoch: 234 Loss: 0.05, Loss_test: 0.10\n",
      "Epoch: 235 Loss: 0.14, Loss_test: 0.09\n",
      "Epoch: 236 Loss: 0.13, Loss_test: 0.09\n",
      "Epoch: 237 Loss: 0.11, Loss_test: 0.09\n",
      "Epoch: 238 Loss: 0.07, Loss_test: 0.09\n",
      "Epoch: 239 Loss: 0.04, Loss_test: 0.09\n",
      "=> result saved!\n",
      "Epoch: 240 Loss: 0.12, Loss_test: 0.08\n",
      "Epoch: 241 Loss: 0.11, Loss_test: 0.09\n",
      "Epoch: 242 Loss: 0.19, Loss_test: 0.09\n",
      "Epoch: 243 Loss: 0.18, Loss_test: 0.09\n",
      "Epoch: 244 Loss: 0.13, Loss_test: 0.09\n",
      "Epoch: 245 Loss: 0.11, Loss_test: 0.09\n",
      "Epoch: 246 Loss: 0.13, Loss_test: 0.08\n",
      "Epoch: 247 Loss: 0.10, Loss_test: 0.08\n",
      "Epoch: 248 Loss: 0.07, Loss_test: 0.08\n",
      "Epoch: 249 Loss: 0.11, Loss_test: 0.09\n",
      "=> result saved!\n",
      "Epoch: 250 Loss: 0.08, Loss_test: 0.09\n",
      "Epoch: 251 Loss: 0.08, Loss_test: 0.09\n",
      "Epoch: 252 Loss: 0.10, Loss_test: 0.08\n",
      "Epoch: 253 Loss: 0.06, Loss_test: 0.09\n",
      "Epoch: 254 Loss: 0.08, Loss_test: 0.09\n",
      "Epoch: 255 Loss: 0.12, Loss_test: 0.09\n",
      "Epoch: 256 Loss: 0.12, Loss_test: 0.09\n",
      "Epoch: 257 Loss: 0.13, Loss_test: 0.09\n",
      "Epoch: 258 Loss: 0.09, Loss_test: 0.09\n",
      "Epoch: 259 Loss: 0.10, Loss_test: 0.09\n",
      "=> result saved!\n",
      "Epoch: 260 Loss: 0.07, Loss_test: 0.10\n",
      "Epoch: 261 Loss: 0.11, Loss_test: 0.10\n",
      "Epoch: 262 Loss: 0.14, Loss_test: 0.10\n",
      "Epoch: 263 Loss: 0.06, Loss_test: 0.11\n",
      "Epoch: 264 Loss: 0.09, Loss_test: 0.11\n",
      "Epoch: 265 Loss: 0.07, Loss_test: 0.11\n",
      "Epoch: 266 Loss: 0.18, Loss_test: 0.10\n",
      "Epoch: 267 Loss: 0.15, Loss_test: 0.10\n",
      "Epoch: 268 Loss: 0.05, Loss_test: 0.09\n",
      "Epoch: 269 Loss: 0.08, Loss_test: 0.09\n",
      "=> result saved!\n",
      "Epoch: 270 Loss: 0.08, Loss_test: 0.09\n",
      "Epoch: 271 Loss: 0.09, Loss_test: 0.10\n",
      "Epoch: 272 Loss: 0.11, Loss_test: 0.09\n",
      "Epoch: 273 Loss: 0.17, Loss_test: 0.09\n",
      "Epoch: 274 Loss: 0.11, Loss_test: 0.10\n",
      "Epoch: 275 Loss: 0.10, Loss_test: 0.09\n",
      "Epoch: 276 Loss: 0.09, Loss_test: 0.09\n",
      "Epoch: 277 Loss: 0.04, Loss_test: 0.09\n",
      "Epoch: 278 Loss: 0.07, Loss_test: 0.08\n",
      "Epoch: 279 Loss: 0.06, Loss_test: 0.08\n",
      "=> result saved!\n",
      "Epoch: 280 Loss: 0.07, Loss_test: 0.09\n",
      "Epoch: 281 Loss: 0.05, Loss_test: 0.09\n",
      "Epoch: 282 Loss: 0.04, Loss_test: 0.09\n",
      "Epoch: 283 Loss: 0.14, Loss_test: 0.08\n",
      "Epoch: 284 Loss: 0.05, Loss_test: 0.08\n",
      "Epoch: 285 Loss: 0.10, Loss_test: 0.08\n",
      "Epoch: 286 Loss: 0.10, Loss_test: 0.08\n",
      "Epoch: 287 Loss: 0.05, Loss_test: 0.08\n",
      "Epoch: 288 Loss: 0.08, Loss_test: 0.07\n",
      "Epoch: 289 Loss: 0.06, Loss_test: 0.07\n",
      "=> result saved!\n",
      "Epoch: 290 Loss: 0.06, Loss_test: 0.08\n",
      "Epoch: 291 Loss: 0.07, Loss_test: 0.08\n",
      "Epoch: 292 Loss: 0.04, Loss_test: 0.08\n",
      "Epoch: 293 Loss: 0.11, Loss_test: 0.08\n",
      "Epoch: 294 Loss: 0.07, Loss_test: 0.08\n",
      "Epoch: 295 Loss: 0.08, Loss_test: 0.08\n",
      "Epoch: 296 Loss: 0.10, Loss_test: 0.08\n",
      "Epoch: 297 Loss: 0.15, Loss_test: 0.08\n",
      "Epoch: 298 Loss: 0.04, Loss_test: 0.08\n",
      "Epoch: 299 Loss: 0.07, Loss_test: 0.08\n",
      "=> result saved!\n",
      "Epoch: 300 Loss: 0.09, Loss_test: 0.08\n",
      "Epoch: 301 Loss: 0.13, Loss_test: 0.08\n",
      "Epoch: 302 Loss: 0.12, Loss_test: 0.08\n"
     ]
    },
    {
     "name": "stdout",
     "output_type": "stream",
     "text": [
      "Epoch: 303 Loss: 0.07, Loss_test: 0.08\n",
      "Epoch: 304 Loss: 0.09, Loss_test: 0.09\n",
      "Epoch: 305 Loss: 0.10, Loss_test: 0.09\n",
      "Epoch: 306 Loss: 0.05, Loss_test: 0.09\n",
      "Epoch: 307 Loss: 0.10, Loss_test: 0.09\n",
      "Epoch: 308 Loss: 0.05, Loss_test: 0.09\n",
      "Epoch: 309 Loss: 0.08, Loss_test: 0.09\n",
      "=> result saved!\n",
      "Epoch: 310 Loss: 0.06, Loss_test: 0.09\n",
      "Epoch: 311 Loss: 0.09, Loss_test: 0.09\n",
      "Epoch: 312 Loss: 0.13, Loss_test: 0.08\n",
      "Epoch: 313 Loss: 0.07, Loss_test: 0.08\n",
      "Epoch: 314 Loss: 0.11, Loss_test: 0.08\n",
      "Epoch: 315 Loss: 0.09, Loss_test: 0.08\n",
      "Epoch: 316 Loss: 0.06, Loss_test: 0.08\n",
      "Epoch: 317 Loss: 0.10, Loss_test: 0.08\n",
      "Epoch: 318 Loss: 0.04, Loss_test: 0.08\n",
      "Epoch: 319 Loss: 0.11, Loss_test: 0.07\n",
      "=> result saved!\n",
      "Epoch: 320 Loss: 0.09, Loss_test: 0.07\n",
      "Epoch: 321 Loss: 0.08, Loss_test: 0.07\n",
      "Epoch: 322 Loss: 0.06, Loss_test: 0.07\n",
      "Epoch: 323 Loss: 0.09, Loss_test: 0.08\n",
      "Epoch: 324 Loss: 0.11, Loss_test: 0.07\n",
      "Epoch: 325 Loss: 0.08, Loss_test: 0.07\n",
      "Epoch: 326 Loss: 0.08, Loss_test: 0.07\n",
      "Epoch: 327 Loss: 0.03, Loss_test: 0.08\n",
      "Epoch: 328 Loss: 0.07, Loss_test: 0.08\n",
      "Epoch: 329 Loss: 0.09, Loss_test: 0.07\n",
      "=> result saved!\n",
      "Epoch: 330 Loss: 0.09, Loss_test: 0.08\n",
      "Epoch: 331 Loss: 0.10, Loss_test: 0.07\n",
      "Epoch: 332 Loss: 0.08, Loss_test: 0.07\n",
      "Epoch: 333 Loss: 0.07, Loss_test: 0.07\n",
      "Epoch: 334 Loss: 0.08, Loss_test: 0.07\n",
      "Epoch: 335 Loss: 0.10, Loss_test: 0.06\n",
      "Epoch: 336 Loss: 0.14, Loss_test: 0.06\n",
      "Epoch: 337 Loss: 0.06, Loss_test: 0.06\n",
      "Epoch: 338 Loss: 0.09, Loss_test: 0.06\n",
      "Epoch: 339 Loss: 0.06, Loss_test: 0.07\n",
      "=> result saved!\n",
      "Epoch: 340 Loss: 0.11, Loss_test: 0.07\n",
      "Epoch: 341 Loss: 0.03, Loss_test: 0.07\n",
      "Epoch: 342 Loss: 0.05, Loss_test: 0.07\n",
      "Epoch: 343 Loss: 0.06, Loss_test: 0.06\n",
      "Epoch: 344 Loss: 0.10, Loss_test: 0.06\n",
      "Epoch: 345 Loss: 0.10, Loss_test: 0.06\n",
      "Epoch: 346 Loss: 0.06, Loss_test: 0.07\n",
      "Epoch: 347 Loss: 0.08, Loss_test: 0.07\n",
      "Epoch: 348 Loss: 0.11, Loss_test: 0.06\n",
      "Epoch: 349 Loss: 0.04, Loss_test: 0.06\n",
      "=> result saved!\n",
      "Epoch: 350 Loss: 0.11, Loss_test: 0.06\n",
      "Epoch: 351 Loss: 0.09, Loss_test: 0.05\n",
      "Epoch: 352 Loss: 0.13, Loss_test: 0.05\n",
      "Epoch: 353 Loss: 0.11, Loss_test: 0.06\n",
      "Epoch: 354 Loss: 0.12, Loss_test: 0.06\n",
      "Epoch: 355 Loss: 0.11, Loss_test: 0.06\n",
      "Epoch: 356 Loss: 0.08, Loss_test: 0.06\n",
      "Epoch: 357 Loss: 0.08, Loss_test: 0.06\n",
      "Epoch: 358 Loss: 0.04, Loss_test: 0.06\n",
      "Epoch: 359 Loss: 0.09, Loss_test: 0.06\n",
      "=> result saved!\n",
      "Epoch: 360 Loss: 0.07, Loss_test: 0.06\n",
      "Epoch: 361 Loss: 0.06, Loss_test: 0.07\n",
      "Epoch: 362 Loss: 0.07, Loss_test: 0.07\n",
      "Epoch: 363 Loss: 0.14, Loss_test: 0.07\n",
      "Epoch: 364 Loss: 0.08, Loss_test: 0.07\n",
      "Epoch: 365 Loss: 0.07, Loss_test: 0.07\n",
      "Epoch: 366 Loss: 0.13, Loss_test: 0.07\n",
      "Epoch: 367 Loss: 0.10, Loss_test: 0.07\n",
      "Epoch: 368 Loss: 0.11, Loss_test: 0.08\n",
      "Epoch: 369 Loss: 0.07, Loss_test: 0.07\n",
      "=> result saved!\n",
      "Epoch: 370 Loss: 0.09, Loss_test: 0.07\n",
      "Epoch: 371 Loss: 0.05, Loss_test: 0.07\n",
      "Epoch: 372 Loss: 0.09, Loss_test: 0.07\n",
      "Epoch: 373 Loss: 0.09, Loss_test: 0.07\n",
      "Epoch: 374 Loss: 0.13, Loss_test: 0.07\n",
      "Epoch: 375 Loss: 0.11, Loss_test: 0.07\n",
      "Epoch: 376 Loss: 0.08, Loss_test: 0.08\n",
      "Epoch: 377 Loss: 0.12, Loss_test: 0.07\n",
      "Epoch: 378 Loss: 0.09, Loss_test: 0.07\n",
      "Epoch: 379 Loss: 0.10, Loss_test: 0.07\n",
      "=> result saved!\n",
      "Epoch: 380 Loss: 0.06, Loss_test: 0.07\n",
      "Epoch: 381 Loss: 0.12, Loss_test: 0.07\n",
      "Epoch: 382 Loss: 0.04, Loss_test: 0.07\n",
      "Epoch: 383 Loss: 0.10, Loss_test: 0.07\n",
      "Epoch: 384 Loss: 0.10, Loss_test: 0.07\n",
      "Epoch: 385 Loss: 0.10, Loss_test: 0.06\n",
      "Epoch: 386 Loss: 0.06, Loss_test: 0.06\n",
      "Epoch: 387 Loss: 0.05, Loss_test: 0.06\n",
      "Epoch: 388 Loss: 0.14, Loss_test: 0.06\n",
      "Epoch: 389 Loss: 0.08, Loss_test: 0.06\n",
      "=> result saved!\n",
      "Epoch: 390 Loss: 0.04, Loss_test: 0.06\n",
      "Epoch: 391 Loss: 0.07, Loss_test: 0.06\n",
      "Epoch: 392 Loss: 0.10, Loss_test: 0.06\n",
      "Epoch: 393 Loss: 0.02, Loss_test: 0.06\n",
      "Epoch: 394 Loss: 0.11, Loss_test: 0.06\n",
      "Epoch: 395 Loss: 0.07, Loss_test: 0.06\n",
      "Epoch: 396 Loss: 0.05, Loss_test: 0.06\n",
      "Epoch: 397 Loss: 0.12, Loss_test: 0.07\n",
      "Epoch: 398 Loss: 0.10, Loss_test: 0.07\n",
      "Epoch: 399 Loss: 0.07, Loss_test: 0.07\n",
      "=> result saved!\n",
      "Epoch: 400 Loss: 0.14, Loss_test: 0.07\n",
      "Epoch: 401 Loss: 0.09, Loss_test: 0.07\n",
      "Epoch: 402 Loss: 0.07, Loss_test: 0.07\n",
      "Epoch: 403 Loss: 0.11, Loss_test: 0.07\n",
      "Epoch: 404 Loss: 0.07, Loss_test: 0.07\n",
      "Epoch: 405 Loss: 0.05, Loss_test: 0.07\n",
      "Epoch: 406 Loss: 0.07, Loss_test: 0.06\n",
      "Epoch: 407 Loss: 0.08, Loss_test: 0.07\n",
      "Epoch: 408 Loss: 0.12, Loss_test: 0.07\n",
      "Epoch: 409 Loss: 0.07, Loss_test: 0.08\n",
      "=> result saved!\n",
      "Epoch: 410 Loss: 0.08, Loss_test: 0.08\n",
      "Epoch: 411 Loss: 0.10, Loss_test: 0.08\n",
      "Epoch: 412 Loss: 0.11, Loss_test: 0.08\n",
      "Epoch: 413 Loss: 0.05, Loss_test: 0.07\n",
      "Epoch: 414 Loss: 0.05, Loss_test: 0.07\n",
      "Epoch: 415 Loss: 0.10, Loss_test: 0.07\n",
      "Epoch: 416 Loss: 0.14, Loss_test: 0.07\n",
      "Epoch: 417 Loss: 0.04, Loss_test: 0.07\n",
      "Epoch: 418 Loss: 0.07, Loss_test: 0.07\n",
      "Epoch: 419 Loss: 0.03, Loss_test: 0.07\n",
      "=> result saved!\n",
      "Epoch: 420 Loss: 0.10, Loss_test: 0.07\n",
      "Epoch: 421 Loss: 0.04, Loss_test: 0.07\n",
      "Epoch: 422 Loss: 0.10, Loss_test: 0.06\n",
      "Epoch: 423 Loss: 0.04, Loss_test: 0.06\n",
      "Epoch: 424 Loss: 0.06, Loss_test: 0.06\n",
      "Epoch: 425 Loss: 0.10, Loss_test: 0.06\n",
      "Epoch: 426 Loss: 0.11, Loss_test: 0.06\n",
      "Epoch: 427 Loss: 0.08, Loss_test: 0.06\n",
      "Epoch: 428 Loss: 0.05, Loss_test: 0.06\n",
      "Epoch: 429 Loss: 0.07, Loss_test: 0.06\n",
      "=> result saved!\n",
      "Epoch: 430 Loss: 0.07, Loss_test: 0.06\n",
      "Epoch: 431 Loss: 0.05, Loss_test: 0.06\n",
      "Epoch: 432 Loss: 0.10, Loss_test: 0.06\n",
      "Epoch: 433 Loss: 0.12, Loss_test: 0.06\n",
      "Epoch: 434 Loss: 0.11, Loss_test: 0.07\n",
      "Epoch: 435 Loss: 0.06, Loss_test: 0.07\n",
      "Epoch: 436 Loss: 0.11, Loss_test: 0.07\n",
      "Epoch: 437 Loss: 0.06, Loss_test: 0.07\n",
      "Epoch: 438 Loss: 0.09, Loss_test: 0.08\n",
      "Epoch: 439 Loss: 0.15, Loss_test: 0.07\n",
      "=> result saved!\n",
      "Epoch: 440 Loss: 0.09, Loss_test: 0.07\n",
      "Epoch: 441 Loss: 0.06, Loss_test: 0.08\n",
      "Epoch: 442 Loss: 0.10, Loss_test: 0.08\n",
      "Epoch: 443 Loss: 0.04, Loss_test: 0.07\n",
      "Epoch: 444 Loss: 0.06, Loss_test: 0.07\n",
      "Epoch: 445 Loss: 0.06, Loss_test: 0.07\n",
      "Epoch: 446 Loss: 0.09, Loss_test: 0.07\n",
      "Epoch: 447 Loss: 0.07, Loss_test: 0.06\n",
      "Epoch: 448 Loss: 0.08, Loss_test: 0.07\n",
      "Epoch: 449 Loss: 0.07, Loss_test: 0.06\n",
      "=> result saved!\n",
      "Epoch: 450 Loss: 0.07, Loss_test: 0.06\n",
      "Epoch: 451 Loss: 0.08, Loss_test: 0.06\n",
      "Epoch: 452 Loss: 0.10, Loss_test: 0.06\n",
      "Epoch: 453 Loss: 0.08, Loss_test: 0.06\n",
      "Epoch: 454 Loss: 0.08, Loss_test: 0.06\n",
      "Epoch: 455 Loss: 0.05, Loss_test: 0.06\n",
      "Epoch: 456 Loss: 0.07, Loss_test: 0.06\n",
      "Epoch: 457 Loss: 0.05, Loss_test: 0.06\n",
      "Epoch: 458 Loss: 0.11, Loss_test: 0.07\n",
      "Epoch: 459 Loss: 0.05, Loss_test: 0.06\n",
      "=> result saved!\n",
      "Epoch: 460 Loss: 0.06, Loss_test: 0.06\n",
      "Epoch: 461 Loss: 0.07, Loss_test: 0.06\n",
      "Epoch: 462 Loss: 0.03, Loss_test: 0.06\n",
      "Epoch: 463 Loss: 0.08, Loss_test: 0.06\n",
      "Epoch: 464 Loss: 0.06, Loss_test: 0.06\n",
      "Epoch: 465 Loss: 0.14, Loss_test: 0.06\n",
      "Epoch: 466 Loss: 0.07, Loss_test: 0.06\n",
      "Epoch: 467 Loss: 0.09, Loss_test: 0.06\n",
      "Epoch: 468 Loss: 0.09, Loss_test: 0.06\n",
      "Epoch: 469 Loss: 0.12, Loss_test: 0.06\n",
      "=> result saved!\n",
      "Epoch: 470 Loss: 0.10, Loss_test: 0.06\n",
      "Epoch: 471 Loss: 0.03, Loss_test: 0.06\n",
      "Epoch: 472 Loss: 0.10, Loss_test: 0.05\n",
      "Epoch: 473 Loss: 0.04, Loss_test: 0.05\n",
      "Epoch: 474 Loss: 0.13, Loss_test: 0.06\n",
      "Epoch: 475 Loss: 0.06, Loss_test: 0.05\n",
      "Epoch: 476 Loss: 0.06, Loss_test: 0.06\n",
      "Epoch: 477 Loss: 0.08, Loss_test: 0.05\n",
      "Epoch: 478 Loss: 0.08, Loss_test: 0.05\n",
      "Epoch: 479 Loss: 0.08, Loss_test: 0.05\n",
      "=> result saved!\n",
      "Epoch: 480 Loss: 0.06, Loss_test: 0.05\n",
      "Epoch: 481 Loss: 0.05, Loss_test: 0.06\n",
      "Epoch: 482 Loss: 0.06, Loss_test: 0.05\n",
      "Epoch: 483 Loss: 0.07, Loss_test: 0.06\n",
      "Epoch: 484 Loss: 0.04, Loss_test: 0.06\n",
      "Epoch: 485 Loss: 0.04, Loss_test: 0.06\n",
      "Epoch: 486 Loss: 0.04, Loss_test: 0.06\n",
      "Epoch: 487 Loss: 0.07, Loss_test: 0.06\n",
      "Epoch: 488 Loss: 0.08, Loss_test: 0.06\n",
      "Epoch: 489 Loss: 0.03, Loss_test: 0.06\n",
      "=> result saved!\n",
      "Epoch: 490 Loss: 0.06, Loss_test: 0.06\n",
      "Epoch: 491 Loss: 0.04, Loss_test: 0.06\n",
      "Epoch: 492 Loss: 0.07, Loss_test: 0.06\n",
      "Epoch: 493 Loss: 0.07, Loss_test: 0.05\n",
      "Epoch: 494 Loss: 0.05, Loss_test: 0.05\n",
      "Epoch: 495 Loss: 0.06, Loss_test: 0.05\n",
      "Epoch: 496 Loss: 0.08, Loss_test: 0.05\n",
      "Epoch: 497 Loss: 0.11, Loss_test: 0.05\n",
      "Epoch: 498 Loss: 0.09, Loss_test: 0.05\n",
      "Epoch: 499 Loss: 0.04, Loss_test: 0.06\n",
      "=> result saved!\n",
      "Epoch: 500 Loss: 0.06, Loss_test: 0.06\n",
      "Epoch: 501 Loss: 0.05, Loss_test: 0.06\n",
      "Epoch: 502 Loss: 0.08, Loss_test: 0.06\n",
      "Epoch: 503 Loss: 0.05, Loss_test: 0.06\n",
      "Epoch: 504 Loss: 0.02, Loss_test: 0.06\n"
     ]
    },
    {
     "name": "stdout",
     "output_type": "stream",
     "text": [
      "Epoch: 505 Loss: 0.08, Loss_test: 0.05\n",
      "Epoch: 506 Loss: 0.05, Loss_test: 0.05\n",
      "Epoch: 507 Loss: 0.05, Loss_test: 0.05\n",
      "Epoch: 508 Loss: 0.04, Loss_test: 0.06\n",
      "Epoch: 509 Loss: 0.09, Loss_test: 0.06\n",
      "=> result saved!\n",
      "Epoch: 510 Loss: 0.11, Loss_test: 0.06\n",
      "Epoch: 511 Loss: 0.09, Loss_test: 0.06\n",
      "Epoch: 512 Loss: 0.10, Loss_test: 0.06\n",
      "Epoch: 513 Loss: 0.07, Loss_test: 0.06\n",
      "Epoch: 514 Loss: 0.05, Loss_test: 0.06\n",
      "Epoch: 515 Loss: 0.05, Loss_test: 0.06\n",
      "Epoch: 516 Loss: 0.06, Loss_test: 0.05\n",
      "Epoch: 517 Loss: 0.07, Loss_test: 0.06\n",
      "Epoch: 518 Loss: 0.08, Loss_test: 0.06\n",
      "Epoch: 519 Loss: 0.08, Loss_test: 0.06\n",
      "=> result saved!\n",
      "Epoch: 520 Loss: 0.05, Loss_test: 0.06\n",
      "Epoch: 521 Loss: 0.03, Loss_test: 0.05\n",
      "Epoch: 522 Loss: 0.10, Loss_test: 0.05\n",
      "Epoch: 523 Loss: 0.04, Loss_test: 0.05\n",
      "Epoch: 524 Loss: 0.07, Loss_test: 0.05\n",
      "Epoch: 525 Loss: 0.06, Loss_test: 0.05\n",
      "Epoch: 526 Loss: 0.06, Loss_test: 0.05\n",
      "Epoch: 527 Loss: 0.08, Loss_test: 0.05\n",
      "Epoch: 528 Loss: 0.05, Loss_test: 0.05\n",
      "Epoch: 529 Loss: 0.05, Loss_test: 0.05\n",
      "=> result saved!\n",
      "Epoch: 530 Loss: 0.09, Loss_test: 0.04\n",
      "Epoch: 531 Loss: 0.10, Loss_test: 0.05\n",
      "Epoch: 532 Loss: 0.05, Loss_test: 0.04\n",
      "Epoch: 533 Loss: 0.08, Loss_test: 0.05\n",
      "Epoch: 534 Loss: 0.07, Loss_test: 0.05\n",
      "Epoch: 535 Loss: 0.07, Loss_test: 0.05\n",
      "Epoch: 536 Loss: 0.04, Loss_test: 0.05\n",
      "Epoch: 537 Loss: 0.05, Loss_test: 0.05\n",
      "Epoch: 538 Loss: 0.08, Loss_test: 0.05\n",
      "Epoch: 539 Loss: 0.05, Loss_test: 0.05\n",
      "=> result saved!\n",
      "Epoch: 540 Loss: 0.05, Loss_test: 0.05\n",
      "Epoch: 541 Loss: 0.05, Loss_test: 0.05\n",
      "Epoch: 542 Loss: 0.08, Loss_test: 0.05\n",
      "Epoch: 543 Loss: 0.08, Loss_test: 0.05\n",
      "Epoch: 544 Loss: 0.05, Loss_test: 0.05\n",
      "Epoch: 545 Loss: 0.06, Loss_test: 0.05\n",
      "Epoch: 546 Loss: 0.07, Loss_test: 0.05\n",
      "Epoch: 547 Loss: 0.07, Loss_test: 0.05\n",
      "Epoch: 548 Loss: 0.05, Loss_test: 0.05\n",
      "Epoch: 549 Loss: 0.04, Loss_test: 0.05\n",
      "=> result saved!\n",
      "Epoch: 550 Loss: 0.03, Loss_test: 0.05\n",
      "Epoch: 551 Loss: 0.05, Loss_test: 0.05\n",
      "Epoch: 552 Loss: 0.06, Loss_test: 0.05\n",
      "Epoch: 553 Loss: 0.04, Loss_test: 0.05\n",
      "Epoch: 554 Loss: 0.03, Loss_test: 0.05\n",
      "Epoch: 555 Loss: 0.08, Loss_test: 0.05\n",
      "Epoch: 556 Loss: 0.06, Loss_test: 0.05\n",
      "Epoch: 557 Loss: 0.08, Loss_test: 0.05\n",
      "Epoch: 558 Loss: 0.03, Loss_test: 0.05\n",
      "Epoch: 559 Loss: 0.05, Loss_test: 0.05\n",
      "=> result saved!\n",
      "Epoch: 560 Loss: 0.07, Loss_test: 0.05\n",
      "Epoch: 561 Loss: 0.06, Loss_test: 0.06\n",
      "Epoch: 562 Loss: 0.06, Loss_test: 0.06\n",
      "Epoch: 563 Loss: 0.05, Loss_test: 0.06\n",
      "Epoch: 564 Loss: 0.07, Loss_test: 0.06\n",
      "Epoch: 565 Loss: 0.06, Loss_test: 0.05\n",
      "Epoch: 566 Loss: 0.06, Loss_test: 0.05\n",
      "Epoch: 567 Loss: 0.07, Loss_test: 0.05\n",
      "Epoch: 568 Loss: 0.05, Loss_test: 0.06\n",
      "Epoch: 569 Loss: 0.08, Loss_test: 0.06\n",
      "=> result saved!\n",
      "Epoch: 570 Loss: 0.04, Loss_test: 0.05\n",
      "Epoch: 571 Loss: 0.04, Loss_test: 0.05\n",
      "Epoch: 572 Loss: 0.06, Loss_test: 0.06\n",
      "Epoch: 573 Loss: 0.06, Loss_test: 0.05\n",
      "Epoch: 574 Loss: 0.08, Loss_test: 0.05\n",
      "Epoch: 575 Loss: 0.06, Loss_test: 0.05\n",
      "Epoch: 576 Loss: 0.05, Loss_test: 0.05\n",
      "Epoch: 577 Loss: 0.05, Loss_test: 0.05\n",
      "Epoch: 578 Loss: 0.02, Loss_test: 0.05\n",
      "Epoch: 579 Loss: 0.02, Loss_test: 0.05\n",
      "=> result saved!\n",
      "Epoch: 580 Loss: 0.06, Loss_test: 0.05\n",
      "Epoch: 581 Loss: 0.09, Loss_test: 0.05\n",
      "Epoch: 582 Loss: 0.06, Loss_test: 0.05\n",
      "Epoch: 583 Loss: 0.13, Loss_test: 0.05\n",
      "Epoch: 584 Loss: 0.04, Loss_test: 0.05\n",
      "Epoch: 585 Loss: 0.04, Loss_test: 0.05\n",
      "Epoch: 586 Loss: 0.08, Loss_test: 0.05\n",
      "Epoch: 587 Loss: 0.08, Loss_test: 0.05\n",
      "Epoch: 588 Loss: 0.05, Loss_test: 0.05\n",
      "Epoch: 589 Loss: 0.08, Loss_test: 0.05\n",
      "=> result saved!\n",
      "Epoch: 590 Loss: 0.06, Loss_test: 0.05\n",
      "Epoch: 591 Loss: 0.10, Loss_test: 0.04\n",
      "Epoch: 592 Loss: 0.02, Loss_test: 0.04\n",
      "Epoch: 593 Loss: 0.05, Loss_test: 0.04\n",
      "Epoch: 594 Loss: 0.07, Loss_test: 0.05\n",
      "Epoch: 595 Loss: 0.07, Loss_test: 0.04\n",
      "Epoch: 596 Loss: 0.05, Loss_test: 0.04\n",
      "Epoch: 597 Loss: 0.05, Loss_test: 0.04\n",
      "Epoch: 598 Loss: 0.08, Loss_test: 0.04\n",
      "Epoch: 599 Loss: 0.05, Loss_test: 0.04\n",
      "=> result saved!\n",
      "Epoch: 600 Loss: 0.05, Loss_test: 0.04\n",
      "Epoch: 601 Loss: 0.07, Loss_test: 0.04\n",
      "Epoch: 602 Loss: 0.03, Loss_test: 0.04\n",
      "Epoch: 603 Loss: 0.06, Loss_test: 0.04\n",
      "Epoch: 604 Loss: 0.04, Loss_test: 0.04\n",
      "Epoch: 605 Loss: 0.05, Loss_test: 0.04\n",
      "Epoch: 606 Loss: 0.05, Loss_test: 0.04\n",
      "Epoch: 607 Loss: 0.05, Loss_test: 0.04\n",
      "Epoch: 608 Loss: 0.06, Loss_test: 0.04\n",
      "Epoch: 609 Loss: 0.09, Loss_test: 0.04\n",
      "=> result saved!\n",
      "Epoch: 610 Loss: 0.04, Loss_test: 0.04\n",
      "Epoch: 611 Loss: 0.10, Loss_test: 0.04\n",
      "Epoch: 612 Loss: 0.07, Loss_test: 0.04\n",
      "Epoch: 613 Loss: 0.01, Loss_test: 0.04\n",
      "Epoch: 614 Loss: 0.07, Loss_test: 0.04\n",
      "Epoch: 615 Loss: 0.06, Loss_test: 0.03\n",
      "Epoch: 616 Loss: 0.08, Loss_test: 0.04\n",
      "Epoch: 617 Loss: 0.04, Loss_test: 0.04\n",
      "Epoch: 618 Loss: 0.05, Loss_test: 0.04\n",
      "Epoch: 619 Loss: 0.03, Loss_test: 0.04\n",
      "=> result saved!\n",
      "Epoch: 620 Loss: 0.05, Loss_test: 0.04\n",
      "Epoch: 621 Loss: 0.04, Loss_test: 0.04\n",
      "Epoch: 622 Loss: 0.10, Loss_test: 0.04\n",
      "Epoch: 623 Loss: 0.05, Loss_test: 0.04\n",
      "Epoch: 624 Loss: 0.11, Loss_test: 0.04\n",
      "Epoch: 625 Loss: 0.03, Loss_test: 0.04\n",
      "Epoch: 626 Loss: 0.09, Loss_test: 0.04\n",
      "Epoch: 627 Loss: 0.04, Loss_test: 0.04\n",
      "Epoch: 628 Loss: 0.04, Loss_test: 0.04\n",
      "Epoch: 629 Loss: 0.03, Loss_test: 0.04\n",
      "=> result saved!\n",
      "Epoch: 630 Loss: 0.04, Loss_test: 0.04\n",
      "Epoch: 631 Loss: 0.03, Loss_test: 0.04\n",
      "Epoch: 632 Loss: 0.04, Loss_test: 0.04\n",
      "Epoch: 633 Loss: 0.08, Loss_test: 0.05\n",
      "Epoch: 634 Loss: 0.03, Loss_test: 0.05\n",
      "Epoch: 635 Loss: 0.04, Loss_test: 0.05\n",
      "Epoch: 636 Loss: 0.04, Loss_test: 0.05\n",
      "Epoch: 637 Loss: 0.05, Loss_test: 0.05\n",
      "Epoch: 638 Loss: 0.07, Loss_test: 0.05\n",
      "Epoch: 639 Loss: 0.07, Loss_test: 0.05\n",
      "=> result saved!\n",
      "Epoch: 640 Loss: 0.05, Loss_test: 0.04\n",
      "Epoch: 641 Loss: 0.04, Loss_test: 0.04\n",
      "Epoch: 642 Loss: 0.03, Loss_test: 0.04\n",
      "Epoch: 643 Loss: 0.03, Loss_test: 0.04\n",
      "Epoch: 644 Loss: 0.06, Loss_test: 0.04\n",
      "Epoch: 645 Loss: 0.07, Loss_test: 0.04\n",
      "Epoch: 646 Loss: 0.10, Loss_test: 0.04\n",
      "Epoch: 647 Loss: 0.10, Loss_test: 0.04\n",
      "Epoch: 648 Loss: 0.07, Loss_test: 0.04\n",
      "Epoch: 649 Loss: 0.04, Loss_test: 0.05\n",
      "=> result saved!\n",
      "Epoch: 650 Loss: 0.05, Loss_test: 0.05\n",
      "Epoch: 651 Loss: 0.05, Loss_test: 0.05\n",
      "Epoch: 652 Loss: 0.05, Loss_test: 0.05\n",
      "Epoch: 653 Loss: 0.14, Loss_test: 0.05\n",
      "Epoch: 654 Loss: 0.02, Loss_test: 0.05\n",
      "Epoch: 655 Loss: 0.02, Loss_test: 0.04\n",
      "Epoch: 656 Loss: 0.07, Loss_test: 0.04\n",
      "Epoch: 657 Loss: 0.04, Loss_test: 0.04\n",
      "Epoch: 658 Loss: 0.10, Loss_test: 0.04\n",
      "Epoch: 659 Loss: 0.07, Loss_test: 0.04\n",
      "=> result saved!\n",
      "Epoch: 660 Loss: 0.05, Loss_test: 0.04\n",
      "Epoch: 661 Loss: 0.08, Loss_test: 0.04\n",
      "Epoch: 662 Loss: 0.06, Loss_test: 0.04\n",
      "Epoch: 663 Loss: 0.05, Loss_test: 0.04\n",
      "Epoch: 664 Loss: 0.05, Loss_test: 0.04\n",
      "Epoch: 665 Loss: 0.11, Loss_test: 0.04\n",
      "Epoch: 666 Loss: 0.06, Loss_test: 0.04\n",
      "Epoch: 667 Loss: 0.06, Loss_test: 0.04\n",
      "Epoch: 668 Loss: 0.02, Loss_test: 0.04\n",
      "Epoch: 669 Loss: 0.04, Loss_test: 0.04\n",
      "=> result saved!\n",
      "Epoch: 670 Loss: 0.08, Loss_test: 0.04\n",
      "Epoch: 671 Loss: 0.02, Loss_test: 0.03\n",
      "Epoch: 672 Loss: 0.04, Loss_test: 0.03\n",
      "Epoch: 673 Loss: 0.03, Loss_test: 0.03\n",
      "Epoch: 674 Loss: 0.07, Loss_test: 0.03\n",
      "Epoch: 675 Loss: 0.08, Loss_test: 0.03\n",
      "Epoch: 676 Loss: 0.03, Loss_test: 0.03\n",
      "Epoch: 677 Loss: 0.03, Loss_test: 0.04\n",
      "Epoch: 678 Loss: 0.02, Loss_test: 0.04\n",
      "Epoch: 679 Loss: 0.06, Loss_test: 0.04\n",
      "=> result saved!\n",
      "Epoch: 680 Loss: 0.02, Loss_test: 0.04\n",
      "Epoch: 681 Loss: 0.04, Loss_test: 0.04\n",
      "Epoch: 682 Loss: 0.04, Loss_test: 0.04\n",
      "Epoch: 683 Loss: 0.06, Loss_test: 0.04\n",
      "Epoch: 684 Loss: 0.05, Loss_test: 0.05\n",
      "Epoch: 685 Loss: 0.07, Loss_test: 0.04\n",
      "Epoch: 686 Loss: 0.05, Loss_test: 0.04\n",
      "Epoch: 687 Loss: 0.07, Loss_test: 0.04\n",
      "Epoch: 688 Loss: 0.09, Loss_test: 0.03\n",
      "Epoch: 689 Loss: 0.05, Loss_test: 0.04\n",
      "=> result saved!\n",
      "Epoch: 690 Loss: 0.07, Loss_test: 0.04\n",
      "Epoch: 691 Loss: 0.05, Loss_test: 0.04\n",
      "Epoch: 692 Loss: 0.06, Loss_test: 0.04\n",
      "Epoch: 693 Loss: 0.05, Loss_test: 0.04\n",
      "Epoch: 694 Loss: 0.06, Loss_test: 0.04\n",
      "Epoch: 695 Loss: 0.03, Loss_test: 0.04\n",
      "Epoch: 696 Loss: 0.09, Loss_test: 0.04\n",
      "Epoch: 697 Loss: 0.04, Loss_test: 0.04\n",
      "Epoch: 698 Loss: 0.05, Loss_test: 0.04\n",
      "Epoch: 699 Loss: 0.03, Loss_test: 0.04\n",
      "=> result saved!\n",
      "Epoch: 700 Loss: 0.06, Loss_test: 0.04\n",
      "Epoch: 701 Loss: 0.08, Loss_test: 0.04\n",
      "Epoch: 702 Loss: 0.03, Loss_test: 0.04\n",
      "Epoch: 703 Loss: 0.05, Loss_test: 0.04\n",
      "Epoch: 704 Loss: 0.05, Loss_test: 0.04\n",
      "Epoch: 705 Loss: 0.03, Loss_test: 0.03\n",
      "Epoch: 706 Loss: 0.04, Loss_test: 0.03\n"
     ]
    },
    {
     "name": "stdout",
     "output_type": "stream",
     "text": [
      "Epoch: 707 Loss: 0.09, Loss_test: 0.03\n",
      "Epoch: 708 Loss: 0.07, Loss_test: 0.04\n",
      "Epoch: 709 Loss: 0.07, Loss_test: 0.04\n",
      "=> result saved!\n",
      "Epoch: 710 Loss: 0.04, Loss_test: 0.04\n",
      "Epoch: 711 Loss: 0.04, Loss_test: 0.04\n",
      "Epoch: 712 Loss: 0.06, Loss_test: 0.04\n",
      "Epoch: 713 Loss: 0.05, Loss_test: 0.04\n",
      "Epoch: 714 Loss: 0.02, Loss_test: 0.04\n",
      "Epoch: 715 Loss: 0.04, Loss_test: 0.04\n",
      "Epoch: 716 Loss: 0.03, Loss_test: 0.04\n",
      "Epoch: 717 Loss: 0.02, Loss_test: 0.04\n",
      "Epoch: 718 Loss: 0.07, Loss_test: 0.03\n",
      "Epoch: 719 Loss: 0.06, Loss_test: 0.03\n",
      "=> result saved!\n",
      "Epoch: 720 Loss: 0.04, Loss_test: 0.03\n",
      "Epoch: 721 Loss: 0.05, Loss_test: 0.03\n",
      "Epoch: 722 Loss: 0.08, Loss_test: 0.03\n",
      "Epoch: 723 Loss: 0.06, Loss_test: 0.03\n",
      "Epoch: 724 Loss: 0.03, Loss_test: 0.03\n",
      "Epoch: 725 Loss: 0.06, Loss_test: 0.03\n",
      "Epoch: 726 Loss: 0.03, Loss_test: 0.03\n",
      "Epoch: 727 Loss: 0.05, Loss_test: 0.03\n",
      "Epoch: 728 Loss: 0.05, Loss_test: 0.03\n",
      "Epoch: 729 Loss: 0.05, Loss_test: 0.03\n",
      "=> result saved!\n",
      "Epoch: 730 Loss: 0.05, Loss_test: 0.03\n",
      "Epoch: 731 Loss: 0.08, Loss_test: 0.03\n",
      "Epoch: 732 Loss: 0.05, Loss_test: 0.03\n",
      "Epoch: 733 Loss: 0.07, Loss_test: 0.03\n",
      "Epoch: 734 Loss: 0.05, Loss_test: 0.03\n",
      "Epoch: 735 Loss: 0.04, Loss_test: 0.03\n",
      "Epoch: 736 Loss: 0.04, Loss_test: 0.03\n",
      "Epoch: 737 Loss: 0.02, Loss_test: 0.03\n",
      "Epoch: 738 Loss: 0.07, Loss_test: 0.03\n",
      "Epoch: 739 Loss: 0.05, Loss_test: 0.03\n",
      "=> result saved!\n",
      "Epoch: 740 Loss: 0.06, Loss_test: 0.03\n",
      "Epoch: 741 Loss: 0.04, Loss_test: 0.03\n",
      "Epoch: 742 Loss: 0.03, Loss_test: 0.03\n",
      "Epoch: 743 Loss: 0.03, Loss_test: 0.03\n",
      "Epoch: 744 Loss: 0.03, Loss_test: 0.03\n",
      "Epoch: 745 Loss: 0.04, Loss_test: 0.03\n",
      "Epoch: 746 Loss: 0.05, Loss_test: 0.03\n",
      "Epoch: 747 Loss: 0.05, Loss_test: 0.03\n",
      "Epoch: 748 Loss: 0.06, Loss_test: 0.03\n",
      "Epoch: 749 Loss: 0.03, Loss_test: 0.03\n",
      "=> result saved!\n",
      "Epoch: 750 Loss: 0.07, Loss_test: 0.03\n",
      "Epoch: 751 Loss: 0.08, Loss_test: 0.04\n",
      "Epoch: 752 Loss: 0.06, Loss_test: 0.04\n",
      "Epoch: 753 Loss: 0.06, Loss_test: 0.03\n",
      "Epoch: 754 Loss: 0.04, Loss_test: 0.03\n",
      "Epoch: 755 Loss: 0.03, Loss_test: 0.04\n",
      "Epoch: 756 Loss: 0.02, Loss_test: 0.04\n",
      "Epoch: 757 Loss: 0.04, Loss_test: 0.03\n",
      "Epoch: 758 Loss: 0.02, Loss_test: 0.03\n",
      "Epoch: 759 Loss: 0.09, Loss_test: 0.03\n",
      "=> result saved!\n",
      "Epoch: 760 Loss: 0.05, Loss_test: 0.03\n",
      "Epoch: 761 Loss: 0.04, Loss_test: 0.03\n",
      "Epoch: 762 Loss: 0.03, Loss_test: 0.03\n",
      "Epoch: 763 Loss: 0.02, Loss_test: 0.03\n",
      "Epoch: 764 Loss: 0.05, Loss_test: 0.03\n",
      "Epoch: 765 Loss: 0.06, Loss_test: 0.03\n",
      "Epoch: 766 Loss: 0.04, Loss_test: 0.03\n",
      "Epoch: 767 Loss: 0.03, Loss_test: 0.03\n",
      "Epoch: 768 Loss: 0.05, Loss_test: 0.03\n",
      "Epoch: 769 Loss: 0.04, Loss_test: 0.03\n",
      "=> result saved!\n",
      "Epoch: 770 Loss: 0.04, Loss_test: 0.03\n",
      "Epoch: 771 Loss: 0.04, Loss_test: 0.04\n",
      "Epoch: 772 Loss: 0.05, Loss_test: 0.03\n",
      "Epoch: 773 Loss: 0.05, Loss_test: 0.03\n",
      "Epoch: 774 Loss: 0.06, Loss_test: 0.03\n",
      "Epoch: 775 Loss: 0.05, Loss_test: 0.03\n",
      "Epoch: 776 Loss: 0.02, Loss_test: 0.03\n",
      "Epoch: 777 Loss: 0.04, Loss_test: 0.04\n",
      "Epoch: 778 Loss: 0.07, Loss_test: 0.04\n",
      "Epoch: 779 Loss: 0.03, Loss_test: 0.04\n",
      "=> result saved!\n",
      "Epoch: 780 Loss: 0.01, Loss_test: 0.04\n",
      "Epoch: 781 Loss: 0.04, Loss_test: 0.04\n",
      "Epoch: 782 Loss: 0.07, Loss_test: 0.04\n",
      "Epoch: 783 Loss: 0.02, Loss_test: 0.04\n",
      "Epoch: 784 Loss: 0.06, Loss_test: 0.04\n",
      "Epoch: 785 Loss: 0.04, Loss_test: 0.04\n",
      "Epoch: 786 Loss: 0.03, Loss_test: 0.04\n",
      "Epoch: 787 Loss: 0.07, Loss_test: 0.04\n",
      "Epoch: 788 Loss: 0.05, Loss_test: 0.04\n",
      "Epoch: 789 Loss: 0.04, Loss_test: 0.04\n",
      "=> result saved!\n",
      "Epoch: 790 Loss: 0.05, Loss_test: 0.04\n",
      "Epoch: 791 Loss: 0.05, Loss_test: 0.04\n",
      "Epoch: 792 Loss: 0.04, Loss_test: 0.04\n",
      "Epoch: 793 Loss: 0.03, Loss_test: 0.03\n",
      "Epoch: 794 Loss: 0.05, Loss_test: 0.03\n",
      "Epoch: 795 Loss: 0.05, Loss_test: 0.03\n",
      "Epoch: 796 Loss: 0.06, Loss_test: 0.03\n",
      "Epoch: 797 Loss: 0.08, Loss_test: 0.03\n",
      "Epoch: 798 Loss: 0.03, Loss_test: 0.03\n",
      "Epoch: 799 Loss: 0.05, Loss_test: 0.04\n",
      "=> result saved!\n",
      "Epoch: 800 Loss: 0.04, Loss_test: 0.04\n",
      "Epoch: 801 Loss: 0.03, Loss_test: 0.04\n",
      "Epoch: 802 Loss: 0.09, Loss_test: 0.04\n",
      "Epoch: 803 Loss: 0.02, Loss_test: 0.04\n",
      "Epoch: 804 Loss: 0.03, Loss_test: 0.04\n",
      "Epoch: 805 Loss: 0.03, Loss_test: 0.04\n",
      "Epoch: 806 Loss: 0.06, Loss_test: 0.04\n",
      "Epoch: 807 Loss: 0.04, Loss_test: 0.04\n",
      "Epoch: 808 Loss: 0.05, Loss_test: 0.04\n",
      "Epoch: 809 Loss: 0.07, Loss_test: 0.04\n",
      "=> result saved!\n",
      "Epoch: 810 Loss: 0.06, Loss_test: 0.04\n",
      "Epoch: 811 Loss: 0.03, Loss_test: 0.04\n",
      "Epoch: 812 Loss: 0.06, Loss_test: 0.04\n",
      "Epoch: 813 Loss: 0.03, Loss_test: 0.04\n",
      "Epoch: 814 Loss: 0.03, Loss_test: 0.04\n",
      "Epoch: 815 Loss: 0.05, Loss_test: 0.04\n",
      "Epoch: 816 Loss: 0.03, Loss_test: 0.04\n",
      "Epoch: 817 Loss: 0.03, Loss_test: 0.04\n",
      "Epoch: 818 Loss: 0.03, Loss_test: 0.04\n",
      "Epoch: 819 Loss: 0.06, Loss_test: 0.04\n",
      "=> result saved!\n",
      "Epoch: 820 Loss: 0.03, Loss_test: 0.04\n",
      "Epoch: 821 Loss: 0.06, Loss_test: 0.03\n",
      "Epoch: 822 Loss: 0.04, Loss_test: 0.04\n",
      "Epoch: 823 Loss: 0.03, Loss_test: 0.04\n",
      "Epoch: 824 Loss: 0.03, Loss_test: 0.04\n",
      "Epoch: 825 Loss: 0.01, Loss_test: 0.04\n",
      "Epoch: 826 Loss: 0.04, Loss_test: 0.04\n",
      "Epoch: 827 Loss: 0.03, Loss_test: 0.04\n",
      "Epoch: 828 Loss: 0.06, Loss_test: 0.04\n",
      "Epoch: 829 Loss: 0.05, Loss_test: 0.04\n",
      "=> result saved!\n",
      "Epoch: 830 Loss: 0.06, Loss_test: 0.04\n",
      "Epoch: 831 Loss: 0.07, Loss_test: 0.04\n",
      "Epoch: 832 Loss: 0.03, Loss_test: 0.04\n",
      "Epoch: 833 Loss: 0.08, Loss_test: 0.04\n",
      "Epoch: 834 Loss: 0.05, Loss_test: 0.04\n",
      "Epoch: 835 Loss: 0.03, Loss_test: 0.04\n",
      "Epoch: 836 Loss: 0.03, Loss_test: 0.04\n",
      "Epoch: 837 Loss: 0.04, Loss_test: 0.04\n",
      "Epoch: 838 Loss: 0.03, Loss_test: 0.04\n",
      "Epoch: 839 Loss: 0.05, Loss_test: 0.04\n",
      "=> result saved!\n",
      "Epoch: 840 Loss: 0.05, Loss_test: 0.04\n",
      "Epoch: 841 Loss: 0.07, Loss_test: 0.04\n",
      "Epoch: 842 Loss: 0.03, Loss_test: 0.04\n",
      "Epoch: 843 Loss: 0.05, Loss_test: 0.04\n",
      "Epoch: 844 Loss: 0.04, Loss_test: 0.04\n",
      "Epoch: 845 Loss: 0.03, Loss_test: 0.03\n",
      "Epoch: 846 Loss: 0.05, Loss_test: 0.03\n",
      "Epoch: 847 Loss: 0.02, Loss_test: 0.03\n",
      "Epoch: 848 Loss: 0.04, Loss_test: 0.03\n",
      "Epoch: 849 Loss: 0.04, Loss_test: 0.04\n",
      "=> result saved!\n",
      "Epoch: 850 Loss: 0.04, Loss_test: 0.04\n",
      "Epoch: 851 Loss: 0.06, Loss_test: 0.04\n",
      "Epoch: 852 Loss: 0.04, Loss_test: 0.04\n",
      "Epoch: 853 Loss: 0.04, Loss_test: 0.03\n",
      "Epoch: 854 Loss: 0.04, Loss_test: 0.03\n",
      "Epoch: 855 Loss: 0.05, Loss_test: 0.03\n",
      "Epoch: 856 Loss: 0.03, Loss_test: 0.03\n",
      "Epoch: 857 Loss: 0.06, Loss_test: 0.03\n",
      "Epoch: 858 Loss: 0.03, Loss_test: 0.03\n",
      "Epoch: 859 Loss: 0.04, Loss_test: 0.03\n",
      "=> result saved!\n",
      "Epoch: 860 Loss: 0.03, Loss_test: 0.04\n",
      "Epoch: 861 Loss: 0.03, Loss_test: 0.03\n",
      "Epoch: 862 Loss: 0.07, Loss_test: 0.03\n",
      "Epoch: 863 Loss: 0.03, Loss_test: 0.03\n",
      "Epoch: 864 Loss: 0.03, Loss_test: 0.03\n",
      "Epoch: 865 Loss: 0.02, Loss_test: 0.03\n",
      "Epoch: 866 Loss: 0.04, Loss_test: 0.03\n",
      "Epoch: 867 Loss: 0.06, Loss_test: 0.03\n",
      "Epoch: 868 Loss: 0.07, Loss_test: 0.04\n",
      "Epoch: 869 Loss: 0.05, Loss_test: 0.04\n",
      "=> result saved!\n",
      "Epoch: 870 Loss: 0.04, Loss_test: 0.04\n",
      "Epoch: 871 Loss: 0.07, Loss_test: 0.04\n",
      "Epoch: 872 Loss: 0.02, Loss_test: 0.03\n",
      "Epoch: 873 Loss: 0.06, Loss_test: 0.03\n",
      "Epoch: 874 Loss: 0.04, Loss_test: 0.03\n",
      "Epoch: 875 Loss: 0.03, Loss_test: 0.04\n",
      "Epoch: 876 Loss: 0.03, Loss_test: 0.04\n",
      "Epoch: 877 Loss: 0.02, Loss_test: 0.04\n",
      "Epoch: 878 Loss: 0.02, Loss_test: 0.04\n",
      "Epoch: 879 Loss: 0.04, Loss_test: 0.04\n",
      "=> result saved!\n",
      "Epoch: 880 Loss: 0.06, Loss_test: 0.04\n",
      "Epoch: 881 Loss: 0.01, Loss_test: 0.04\n",
      "Epoch: 882 Loss: 0.03, Loss_test: 0.03\n",
      "Epoch: 883 Loss: 0.08, Loss_test: 0.03\n",
      "Epoch: 884 Loss: 0.04, Loss_test: 0.03\n",
      "Epoch: 885 Loss: 0.04, Loss_test: 0.03\n",
      "Epoch: 886 Loss: 0.05, Loss_test: 0.03\n",
      "Epoch: 887 Loss: 0.04, Loss_test: 0.03\n",
      "Epoch: 888 Loss: 0.06, Loss_test: 0.03\n",
      "Epoch: 889 Loss: 0.03, Loss_test: 0.03\n",
      "=> result saved!\n",
      "Epoch: 890 Loss: 0.03, Loss_test: 0.02\n",
      "Epoch: 891 Loss: 0.02, Loss_test: 0.03\n",
      "Epoch: 892 Loss: 0.09, Loss_test: 0.03\n",
      "Epoch: 893 Loss: 0.03, Loss_test: 0.02\n",
      "Epoch: 894 Loss: 0.03, Loss_test: 0.02\n",
      "Epoch: 895 Loss: 0.03, Loss_test: 0.02\n",
      "Epoch: 896 Loss: 0.03, Loss_test: 0.03\n",
      "Epoch: 897 Loss: 0.05, Loss_test: 0.03\n",
      "Epoch: 898 Loss: 0.05, Loss_test: 0.03\n",
      "Epoch: 899 Loss: 0.04, Loss_test: 0.03\n",
      "=> result saved!\n",
      "Epoch: 900 Loss: 0.03, Loss_test: 0.03\n"
     ]
    }
   ],
   "source": [
    "end_train = epochs - limit_train\n",
    "for epoch in range(limit_train, end_train):\n",
    "    batch_triplet_train, \\\n",
    "        train_input_sample, train_sim = batch_iterator(baseline, retrieval, model, baseline.train_data, \n",
    "                                                       baseline.dup_sets_train, bug_train_ids, \n",
    "                                                           batch_size, 1, issues_by_buckets, TRIPLET_HARD=False)\n",
    "    train_batch = [train_input_sample['title']['token'], train_input_sample['title']['segment'], \n",
    "                   train_input_sample['description']['token'], train_input_sample['description']['segment'],\n",
    "                   train_input_sample['info'], train_sim]\n",
    "    \n",
    "\n",
    "    h = model.train_on_batch(x=train_batch, y=train_sim)\n",
    "    h_validation = model.test_on_batch(x=validation_sample, y=valid_sim)\n",
    "    \n",
    "    # save results\n",
    "    result['train'].append(h)\n",
    "    result['test'].append(h_validation)\n",
    "    \n",
    "    if( (epoch+1) % 10 == 0 or (epoch+1 == end_train )):\n",
    "        save_loss(result)\n",
    "    \n",
    "    print(\"Epoch: {} Loss: {:.2f}, Loss_test: {:.2f}\".format(epoch+1, h, h_validation))"
   ]
  },
  {
   "cell_type": "code",
   "execution_count": 47,
   "metadata": {},
   "outputs": [
    {
     "data": {
      "text/plain": [
       "(900, 900)"
      ]
     },
     "execution_count": 47,
     "metadata": {},
     "output_type": "execute_result"
    }
   ],
   "source": [
    "len(result['train']), len(result['test'])"
   ]
  },
  {
   "cell_type": "code",
   "execution_count": 48,
   "metadata": {},
   "outputs": [],
   "source": [
    "encoded = model.get_layer('merge_features_in')\n",
    "output = encoded.output\n",
    "inputs = similarity_model.inputs[:-1]\n",
    "encoded_anchor = Model(inputs = inputs, outputs = output, name = 'Similarity_Model')"
   ]
  },
  {
   "cell_type": "code",
   "execution_count": 49,
   "metadata": {},
   "outputs": [
    {
     "data": {
      "text/plain": [
       "'bert_preprocessing_deepTL_1000_feature1000epochs_64batch(netbeans)'"
      ]
     },
     "execution_count": 49,
     "metadata": {},
     "output_type": "execute_result"
    }
   ],
   "source": [
    "SAVE_PATH.replace('@number_of_epochs@', str(epochs))"
   ]
  },
  {
   "cell_type": "code",
   "execution_count": 50,
   "metadata": {},
   "outputs": [
    {
     "name": "stdout",
     "output_type": "stream",
     "text": [
      "Saved model 'modelos/model_bert_preprocessing_deepTL_1000_feature_1000epochs_64batch(netbeans).h5' to disk\n"
     ]
    },
    {
     "data": {
      "text/plain": [
       "'Model saved'"
      ]
     },
     "execution_count": 50,
     "metadata": {},
     "output_type": "execute_result"
    }
   ],
   "source": [
    "experiment.save_model(model, SAVE_PATH.replace('@number_of_epochs@', str(epochs)))\n",
    "experiment.save_model(encoded_anchor, SAVE_PATH_FEATURE.replace('@number_of_epochs@', str(epochs)), verbose=1)\n",
    "\"Model saved\""
   ]
  },
  {
   "cell_type": "code",
   "execution_count": 51,
   "metadata": {},
   "outputs": [
    {
     "data": {
      "application/vnd.jupyter.widget-view+json": {
       "model_id": "f3009b693ec3430789cb6c41fccf6187",
       "version_major": 2,
       "version_minor": 0
      },
      "text/plain": [
       "HBox(children=(IntProgress(value=0, max=17002), HTML(value='')))"
      ]
     },
     "metadata": {},
     "output_type": "display_data"
    },
    {
     "name": "stdout",
     "output_type": "stream",
     "text": [
      "\n"
     ]
    },
    {
     "data": {
      "application/vnd.jupyter.widget-view+json": {
       "model_id": "3a44c76e5d0945828184a0b41440e921",
       "version_major": 2,
       "version_minor": 0
      },
      "text/plain": [
       "HBox(children=(IntProgress(value=0, max=26036), HTML(value='')))"
      ]
     },
     "metadata": {},
     "output_type": "display_data"
    },
    {
     "name": "stdout",
     "output_type": "stream",
     "text": [
      "\n"
     ]
    },
    {
     "data": {
      "application/vnd.jupyter.widget-view+json": {
       "model_id": "8172b90e79724aa9a4dc3e35126b9d11",
       "version_major": 2,
       "version_minor": 0
      },
      "text/plain": [
       "HBox(children=(IntProgress(value=0, max=29003), HTML(value='')))"
      ]
     },
     "metadata": {},
     "output_type": "display_data"
    },
    {
     "name": "stdout",
     "output_type": "stream",
     "text": [
      "\n"
     ]
    },
    {
     "data": {
      "application/vnd.jupyter.widget-view+json": {
       "model_id": "df27c4f0b4a84ec4b6fd1501270d6317",
       "version_major": 2,
       "version_minor": 0
      },
      "text/plain": [
       "HBox(children=(IntProgress(value=1, bar_style='info', max=1), HTML(value='')))"
      ]
     },
     "metadata": {},
     "output_type": "display_data"
    },
    {
     "name": "stdout",
     "output_type": "stream",
     "text": [
      "\n"
     ]
    },
    {
     "data": {
      "application/vnd.jupyter.widget-view+json": {
       "model_id": "0d01bd5235284bb89c52387ad8a51990",
       "version_major": 2,
       "version_minor": 0
      },
      "text/plain": [
       "HBox(children=(IntProgress(value=1, bar_style='info', max=1), HTML(value='')))"
      ]
     },
     "metadata": {},
     "output_type": "display_data"
    },
    {
     "name": "stdout",
     "output_type": "stream",
     "text": [
      "\n"
     ]
    },
    {
     "data": {
      "application/vnd.jupyter.widget-view+json": {
       "model_id": "6e1fe7640c4c4091a91698290b69d0ca",
       "version_major": 2,
       "version_minor": 0
      },
      "text/plain": [
       "HBox(children=(IntProgress(value=1, bar_style='info', max=1), HTML(value='')))"
      ]
     },
     "metadata": {},
     "output_type": "display_data"
    },
    {
     "name": "stdout",
     "output_type": "stream",
     "text": [
      "\n"
     ]
    },
    {
     "data": {
      "application/vnd.jupyter.widget-view+json": {
       "model_id": "93b584a0a43d46cb9ec1f270bd4af42f",
       "version_major": 2,
       "version_minor": 0
      },
      "text/plain": [
       "HBox(children=(IntProgress(value=0, max=26036), HTML(value='')))"
      ]
     },
     "metadata": {},
     "output_type": "display_data"
    },
    {
     "name": "stdout",
     "output_type": "stream",
     "text": [
      "\n",
      "Epoch: 900 Loss: 0.03, Loss_test: 0.03, recall@25: 0.68\n"
     ]
    }
   ],
   "source": [
    "recall, exported_rank, debug = experiment.evaluate_validation_test(retrieval, 1, encoded_anchor, issues_by_buckets, \n",
    "                                                               bug_train_ids, method='bert')\n",
    "print(\"Epoch: {} Loss: {:.2f}, Loss_test: {:.2f}, recall@25: {:.2f}\".format(epoch+1, h, h_validation, recall))"
   ]
  },
  {
   "cell_type": "code",
   "execution_count": 52,
   "metadata": {},
   "outputs": [
    {
     "data": {
      "text/plain": [
       "0.68"
      ]
     },
     "execution_count": 52,
     "metadata": {},
     "output_type": "execute_result"
    }
   ],
   "source": [
    "recall"
   ]
  },
  {
   "cell_type": "code",
   "execution_count": 53,
   "metadata": {},
   "outputs": [
    {
     "data": {
      "text/plain": [
       "['131079:124863|157441:0.8418635427951813,128057:0.8403073400259018,137689:0.8295294344425201,167104:0.824961856007576,151301:0.8242241889238358,114524:0.8224848359823227,109535:0.8217329531908035,138894:0.8193757236003876,109493:0.8161764591932297,150013:0.8153827786445618,88786:0.8144328445196152,132127:0.8138105273246765,152163:0.8121645897626877,141454:0.8108640313148499,137947:0.809379369020462,153250:0.8070925027132034,169198:0.8044557571411133,161848:0.803220734000206,89840:0.803099513053894,128060:0.8028360456228256,132330:0.8022920787334442,105642:0.8014302849769592,141514:0.8009848296642303,74766:0.7989489287137985,140863:0.7988658100366592,83184:0.7984719276428223,161552:0.7984493523836136,116891:0.7982901781797409,113774:0.7978522330522537',\n",
       " '131082:131085|131085:1.0,126172:0.830783411860466,76311:0.8289513289928436,171788:0.815204069018364,100635:0.8113275766372681,134893:0.8101397007703781,126174:0.8051627278327942,130726:0.8051303774118423,98365:0.8030087351799011,98748:0.7977622002363205,110847:0.7968894839286804,122877:0.7961162775754929,98975:0.7940595746040344,125225:0.7929632216691971,100619:0.7911366671323776,100621:0.7911366671323776,100623:0.7911366671323776,124401:0.78953418135643,123843:0.7894842624664307,82207:0.7891993373632431,138432:0.7875127047300339,118987:0.7854612767696381,153386:0.7836851328611374,153164:0.7833239287137985,118802:0.7827506065368652,136677:0.782583937048912,117293:0.7813282459974289,107282:0.7782932817935944,114424:0.7780054807662964',\n",
       " '131083:145537,124867,144649,131084,132247,129785,129786,145533,145534,143327|131084:1.0,145533:1.0,132247:0.9727245662361383,145534:0.9727245662361383,144649:0.9385172314941883,147776:0.9385172314941883,124867:0.8995048478245735,129786:0.8995048478245735,129785:0.8959250375628471,136337:0.8943491652607918,171109:0.8761390149593353,143610:0.8733494877815247,170095:0.8717248737812042,146754:0.870028018951416,131086:0.869237020611763,173067:0.868455559015274,143343:0.8644647002220154,128350:0.8623826056718826,160439:0.860023632645607,142745:0.858804851770401,143344:0.8584313839673996,161539:0.856652244925499,163324:0.856652244925499,156889:0.8565250784158707,155409:0.853078156709671,159010:0.853078156709671,139805:0.852115273475647,142874:0.8510199040174484,142299:0.8502487987279892',\n",
       " '131084:145537,124867,144649,131083,132247,129785,129786,145533,145534,143327|131083:1.0,145533:1.0,132247:0.9727245662361383,145534:0.9727245662361383,144649:0.9385172314941883,147776:0.9385172314941883,124867:0.8995048478245735,129786:0.8995048478245735,129785:0.8959250375628471,136337:0.8943491652607918,171109:0.8761390149593353,143610:0.8733494877815247,170095:0.8717248737812042,146754:0.870028018951416,131086:0.869237020611763,173067:0.868455559015274,143343:0.8644647002220154,128350:0.8623826056718826,160439:0.860023632645607,142745:0.858804851770401,143344:0.8584313839673996,161539:0.856652244925499,163324:0.856652244925499,156889:0.8565250784158707,155409:0.853078156709671,159010:0.853078156709671,139805:0.852115273475647,142874:0.8510199040174484,142299:0.8502487987279892',\n",
       " '131085:131082|131082:1.0,126172:0.830783411860466,76311:0.8289513289928436,171788:0.815204069018364,100635:0.8113275766372681,134893:0.8101397007703781,126174:0.8051627278327942,130726:0.8051303774118423,98365:0.8030087351799011,98748:0.7977622002363205,110847:0.7968894839286804,122877:0.7961162775754929,98975:0.7940595746040344,125225:0.7929632216691971,100619:0.7911366671323776,100621:0.7911366671323776,100623:0.7911366671323776,124401:0.78953418135643,123843:0.7894842624664307,82207:0.7891993373632431,138432:0.7875127047300339,118987:0.7854612767696381,153386:0.7836851328611374,153164:0.7833239287137985,118802:0.7827506065368652,136677:0.782583937048912,117293:0.7813282459974289,107282:0.7782932817935944,114424:0.7780054807662964',\n",
       " '131086:118825,117035|118825:0.8838567957282066,173067:0.8823040127754211,171109:0.8804544508457184,170095:0.8758847638964653,143610:0.8739777505397797,128350:0.8734712451696396,143343:0.8701286762952805,131083:0.869237020611763,131084:0.869237020611763,145533:0.869237020611763,143344:0.8691869229078293,155409:0.8634082823991776,159010:0.8634082823991776,146754:0.8625448495149612,161539:0.8622940480709076,163324:0.8622940480709076,132247:0.861744686961174,145534:0.861744686961174,171852:0.8567097932100296,144649:0.8555227518081665,147776:0.8555227518081665,156889:0.8553569614887238,171278:0.8521438986063004,160439:0.8484784811735153,142745:0.8475723117589951,142299:0.84720379114151,139805:0.8459805846214294,136337:0.8445139676332474,173988:0.8444048017263412',\n",
       " '131103:129349,131439,130960,130033,132127|134405:0.8329319953918457,135105:0.8288179636001587,129349:0.8276136517524719,130960:0.8240188658237457,129879:0.8191028237342834,114372:0.8176426142454147,82253:0.817288801074028,131062:0.8142967969179153,132127:0.8122074604034424,166780:0.8094275146722794,113279:0.8085966259241104,166692:0.808541864156723,139247:0.8084624707698822,139256:0.8079603016376495,116295:0.8074312061071396,121028:0.8070984780788422,141489:0.8065338283777237,104229:0.8060704916715622,130033:0.8045883029699326,131504:0.8033623248338699,167104:0.8033307045698166,153597:0.8024795800447464,153598:0.8024795800447464,153600:0.8024795800447464,153601:0.8024795800447464,153602:0.8024795800447464,153603:0.8024795800447464,153604:0.8024795800447464,153599:0.8024795800447464',\n",
       " '131126:117856,118467,118468,118469,126180,116295,116680,118634,117003,103531,131983,118351,118735,109177,129907,117299,104665,117274,117981|104665:0.8616631329059601,153856:0.8595186769962311,109738:0.8501158207654953,104948:0.8321493864059448,118879:0.8316285610198975,170431:0.831569492816925,152085:0.8305878788232803,129907:0.8304025530815125,116176:0.8288004249334335,107964:0.8275289982557297,134548:0.8268898129463196,155394:0.825229823589325,125870:0.8248623311519623,161176:0.8232321441173553,167164:0.8203334361314774,139767:0.8203216642141342,141178:0.8197420388460159,88756:0.8186689615249634,94674:0.8186399340629578,118634:0.8182496875524521,139274:0.8181095868349075,103396:0.8174930810928345,151825:0.8173319846391678,146813:0.8171806633472443,119245:0.8166314512491226,84869:0.8164430856704712,169270:0.8158358931541443,117856:0.8157390207052231,118735:0.8156943768262863',\n",
       " '131145:131146|131146:0.8877425417304039,160709:0.8184317201375961,149466:0.8017643839120865,134835:0.7958906590938568,170734:0.7956510931253433,163131:0.7943437099456787,92551:0.7942191809415817,150260:0.7885807305574417,175664:0.7884644567966461,161733:0.7866926193237305,115407:0.7850111722946167,157671:0.7818583995103836,132497:0.780547484755516,175585:0.779325544834137,74385:0.7789028435945511,118696:0.7779184430837631,105480:0.7742908895015717,151561:0.7738247066736221,148752:0.7730406522750854,140511:0.7730197310447693,110102:0.7693358361721039,85896:0.7690224349498749,146950:0.7689114362001419,104369:0.7670663446187973,116998:0.7647435218095779,175655:0.7630487233400345,139871:0.7617083191871643,91773:0.7610825598239899,101368:0.7584125995635986',\n",
       " '131146:131145|163770:0.8042745888233185,160709:0.7995316237211227,115407:0.7789089381694794,104369:0.7786152362823486,148752:0.7755052894353867,85788:0.7721548080444336,100334:0.7679520547389984,161733:0.7637650370597839,175585:0.7632048726081848,150235:0.7614296525716782,161073:0.7602782994508743,76966:0.7592680007219315,136496:0.7591998875141144,107222:0.758914515376091,99210:0.7569386065006256,113162:0.7566563040018082,148730:0.7556438744068146,90643:0.7545874267816544,107603:0.7526976466178894,153476:0.7523569911718369,91896:0.7519307136535645,109484:0.7505491077899933,109667:0.7502468973398209,158436:0.7501768916845322,115939:0.7499266266822815,102669:0.7492650747299194,185558:0.749178409576416,129029:0.7490296363830566,128264:0.7482930421829224',\n",
       " '131148:130987|112035:0.82294100522995,175076:0.8137180805206299,172597:0.8064141422510147,159268:0.8009802103042603,175778:0.8006231933832169,157207:0.8004365563392639,164938:0.80018350481987,111307:0.7981927990913391,117858:0.7977376580238342,175637:0.7974813580513,143573:0.7972518801689148,103172:0.7963052690029144,118169:0.7962889820337296,125795:0.7956944853067398,129591:0.7956944853067398,155505:0.7944638133049011,109642:0.7940643131732941,120358:0.7938538938760757,136055:0.792661190032959,106933:0.7921387851238251,175883:0.7916166633367538,152322:0.7904171496629715,143225:0.7903632372617722,161855:0.7899913787841797,103976:0.7898450493812561,145798:0.7894573509693146,116245:0.7887715399265289,116246:0.7887715399265289,157292:0.7887627184391022',\n",
       " '131149:131359,131335,131153,132377,130783|130783:0.8898902088403702,135723:0.8287639617919922,104706:0.8174937814474106,123928:0.8165072202682495,138781:0.8153467774391174,153720:0.8099651485681534,145524:0.8083485811948776,160548:0.8063914030790329,160575:0.8054379671812057,110529:0.8050191402435303,163064:0.8049575537443161,117705:0.8043890595436096,149946:0.8014504760503769,140061:0.8004922121763229,156953:0.8003043085336685,150119:0.7997985929250717,119882:0.7996068447828293,163022:0.7992455512285233,157586:0.7991679459810257,135722:0.7989129573106766,160293:0.7985316067934036,107628:0.7953790873289108,169803:0.7947559356689453,142556:0.7947246432304382,158770:0.7947089821100235,121289:0.7935650050640106,173340:0.7931194752454758,88225:0.7930701673030853,125074:0.7928065359592438',\n",
       " '131151:132544,131236|127846:0.8755382299423218,131236:0.8423809260129929,121029:0.79191555082798,120268:0.790939137339592,120707:0.790939137339592,120711:0.790939137339592,105794:0.7906309515237808,110060:0.7868195176124573,98760:0.7838680893182755,166886:0.7725655734539032,170403:0.7725655734539032,170673:0.7725655734539032,105830:0.7702581882476807,121397:0.7575292140245438,113235:0.7544875144958496,147603:0.7528412640094757,129756:0.7517751604318619,132988:0.7500022351741791,124624:0.7482783794403076,119159:0.7476567625999451,145489:0.7475418150424957,122025:0.7466280162334442,113236:0.7461636066436768,142938:0.7452954947948456,155317:0.744929164648056,139937:0.7444395124912262,155106:0.7442794740200043,106095:0.7437958121299744,140732:0.7432596981525421',\n",
       " '131153:131359,131335,131149,132377,130783|170150:0.823569044470787,170341:0.8177928775548935,74830:0.8106811791658401,164754:0.8104508966207504,155756:0.8052719980478287,127176:0.8036905825138092,101794:0.801342785358429,174366:0.8011772185564041,149833:0.7959885597229004,165948:0.7939978539943695,141497:0.7936287224292755,166849:0.7926750481128693,162740:0.7925862818956375,149080:0.7925204932689667,169581:0.7919866591691971,170921:0.7901176661252975,170867:0.7879355698823929,166997:0.7876576632261276,162535:0.7873292863368988,150800:0.787313386797905,148458:0.7865780740976334,145876:0.7856755554676056,145878:0.7856755554676056,174457:0.7855238020420074,119159:0.7854676693677902,127308:0.7853761166334152,129390:0.7849278599023819,159745:0.7847567349672318,160624:0.784756526350975',\n",
       " '131166:131594|132061:0.8248224258422852,131594:0.818280354142189,135613:0.8015334755182266,137224:0.7927724421024323,160301:0.7917561531066895,133004:0.7916940003633499,172139:0.7878233641386032,162558:0.7848886102437973,164795:0.7819012701511383,158863:0.7801012396812439,132470:0.7793639600276947,169139:0.7778389751911163,131753:0.7742835730314255,135407:0.7730143070220947,155480:0.772584542632103,120804:0.7724057883024216,140623:0.7718760669231415,149366:0.767616018652916,159564:0.7657407075166702,140236:0.7651234865188599,172499:0.7594220787286758,131439:0.7589500546455383,125678:0.7585907131433487,107548:0.7583174556493759,110788:0.7581261247396469,145667:0.7580416053533554,143633:0.7579607218503952,173501:0.755252942442894,175116:0.7551285028457642',\n",
       " '131170:127369,125195,113747,143350|132796:0.799058347940445,138952:0.7885849475860596,137133:0.7858370095491409,132762:0.7813234031200409,142661:0.7781857848167419,113643:0.7768879383802414,156096:0.772117018699646,105817:0.7698136270046234,79473:0.769299641251564,138535:0.7688459753990173,135593:0.7686649113893509,157357:0.7686177343130112,141158:0.7653717994689941,148960:0.7653561979532242,122942:0.7644260674715042,125739:0.7633247971534729,96339:0.7620439380407333,155127:0.761310413479805,174037:0.7610546797513962,158137:0.7600953131914139,96711:0.7600135207176208,144785:0.7592547982931137,144786:0.7592547982931137,158982:0.7590897083282471,132761:0.7588156312704086,108021:0.7586956024169922,96838:0.7580819129943848,125926:0.7578465640544891,134750:0.7567014098167419',\n",
       " '131180:129163|127010:0.8481221944093704,124473:0.8428212404251099,131524:0.8319112360477448,175469:0.8228902369737625,158096:0.8215756118297577,119684:0.8149860054254532,156983:0.8147605806589127,114909:0.8136319667100906,114315:0.8133204728364944,104413:0.8130299746990204,104938:0.8120660781860352,111805:0.8115394413471222,128480:0.8109752386808395,149234:0.8095081001520157,127480:0.808793306350708,101826:0.8082397431135178,159295:0.8052796125411987,144217:0.805256724357605,108942:0.8040543645620346,171904:0.8037585765123367,174825:0.8035565912723541,125787:0.8033777326345444,121960:0.80295230448246,168710:0.8028724640607834,134984:0.8026341944932938,116315:0.8011047691106796,116598:0.7989708632230759,101889:0.7985538840293884,125946:0.7975223958492279',\n",
       " '131192:133635,131782,131306,131759,130869,130934,131293|132612:0.8147412538528442,150215:0.8080361783504486,132037:0.806807205080986,145759:0.8066350221633911,131782:0.8059689402580261,132035:0.8047933876514435,156835:0.8046190589666367,151497:0.8039548695087433,165125:0.8025823831558228,133635:0.8025166094303131,163073:0.8015086352825165,18144:0.8013332784175873,97671:0.8007300049066544,131293:0.8000989854335785,131306:0.7995265275239944,130934:0.7988985776901245,162154:0.7971985340118408,145780:0.7961318343877792,145869:0.795070618391037,152756:0.7949030250310898,155786:0.793466255068779,133956:0.7911973148584366,151686:0.7884205877780914,144112:0.7879024595022202,142010:0.7851902842521667,118124:0.7842347919940948,115682:0.7842153906822205,115683:0.7842153906822205,150154:0.7837078720331192',\n",
       " '131197:119617,131970,127169,123908,155137,126563,120745,167562,176395,126057,122219,120880,32755,136212,126260,187290,170110|131970:0.8671483099460602,126057:0.843201071023941,126563:0.8351127952337265,123715:0.8265188932418823,117558:0.8245997577905655,164796:0.8212078511714935,127169:0.8205526620149612,117855:0.8202954083681107,172877:0.8201273828744888,111842:0.8195918202400208,116102:0.8188724666833878,165175:0.8175215274095535,84202:0.8170126080513,130329:0.8159234076738358,122219:0.8148881047964096,159184:0.8148798942565918,123423:0.8147497773170471,117564:0.813904345035553,133261:0.8138956129550934,111969:0.8133490830659866,25656:0.8123434484004974,119617:0.8115489482879639,147135:0.8114296644926071,110366:0.8113268911838531,120634:0.810860738158226,169490:0.8101070821285248,118034:0.8100717514753342,163240:0.8094129413366318,119831:0.8077623844146729',\n",
       " '131209:177304|93558:0.8261115550994873,93545:0.8183422088623047,93566:0.7969961911439896,144646:0.7906451672315598,93387:0.789958268404007,166907:0.7862856984138489,106414:0.7862155884504318,152788:0.7850411832332611,167025:0.784145250916481,123565:0.7792920023202896,100165:0.7638183087110519,133069:0.7635457068681717,108675:0.7634314596652985,137491:0.7590980231761932,169403:0.7579445093870163,127627:0.7573101669549942,120076:0.7550883740186691,116998:0.7548051327466965,133028:0.7541743814945221,185094:0.7523204684257507,153597:0.7520970702171326,153598:0.7520970702171326,153600:0.7520970702171326,153601:0.7520970702171326,153602:0.7520970702171326,153603:0.7520970702171326,153604:0.7520970702171326,153599:0.7520970702171326,100280:0.7509940713644028']"
      ]
     },
     "execution_count": 53,
     "metadata": {},
     "output_type": "execute_result"
    }
   ],
   "source": [
    "exported_rank[:20]"
   ]
  },
  {
   "cell_type": "markdown",
   "metadata": {},
   "source": [
    "### Retrieval evaluation"
   ]
  },
  {
   "cell_type": "code",
   "execution_count": 54,
   "metadata": {},
   "outputs": [
    {
     "name": "stdout",
     "output_type": "stream",
     "text": [
      "Total of queries: 17002\n"
     ]
    }
   ],
   "source": [
    "print(\"Total of queries:\", len(retrieval.test))"
   ]
  },
  {
   "cell_type": "markdown",
   "metadata": {},
   "source": [
    "#### Getting the model trained"
   ]
  },
  {
   "cell_type": "code",
   "execution_count": 55,
   "metadata": {},
   "outputs": [
    {
     "data": {
      "text/plain": [
       "'bert_preprocessing_deepTL_1000_feature_1000epochs_64batch(netbeans)'"
      ]
     },
     "execution_count": 55,
     "metadata": {},
     "output_type": "execute_result"
    }
   ],
   "source": [
    "SAVE_PATH_FEATURE.replace('@number_of_epochs@', str(epochs))"
   ]
  },
  {
   "cell_type": "code",
   "execution_count": 56,
   "metadata": {},
   "outputs": [
    {
     "name": "stdout",
     "output_type": "stream",
     "text": [
      "__________________________________________________________________________________________________\n",
      "Layer (type)                    Output Shape         Param #     Connected to                     \n",
      "==================================================================================================\n",
      "info_in (InputLayer)            (None, 544)          0                                            \n",
      "__________________________________________________________________________________________________\n",
      "title_token_in (InputLayer)     (None, 20)           0                                            \n",
      "__________________________________________________________________________________________________\n",
      "title_segment_in (InputLayer)   (None, 20)           0                                            \n",
      "__________________________________________________________________________________________________\n",
      "desc_token_in (InputLayer)      (None, 20)           0                                            \n",
      "__________________________________________________________________________________________________\n",
      "desc_segment_in (InputLayer)    (None, 20)           0                                            \n",
      "__________________________________________________________________________________________________\n",
      "FeatureMlpGenerationModel (Mode (None, 300)          163500      info_in[0][0]                    \n",
      "__________________________________________________________________________________________________\n",
      "FeatureBERTGenerationModelTitle (None, 300)          80577436    title_token_in[0][0]             \n",
      "                                                                 title_segment_in[0][0]           \n",
      "__________________________________________________________________________________________________\n",
      "FeatureBERTGenerationModelDescr (None, 300)          80577436    desc_token_in[0][0]              \n",
      "                                                                 desc_segment_in[0][0]            \n",
      "__________________________________________________________________________________________________\n",
      "merge_features_in (Concatenate) (None, 900)          0           FeatureMlpGenerationModel[1][0]  \n",
      "                                                                 FeatureBERTGenerationModelTitle[1\n",
      "                                                                 FeatureBERTGenerationModelDescrip\n",
      "==================================================================================================\n",
      "Total params: 161,318,372\n",
      "Trainable params: 846,196\n",
      "Non-trainable params: 160,472,176\n",
      "__________________________________________________________________________________________________\n"
     ]
    }
   ],
   "source": [
    "encoded_anchor.summary()"
   ]
  },
  {
   "cell_type": "code",
   "execution_count": 57,
   "metadata": {},
   "outputs": [
    {
     "data": {
      "text/plain": [
       "26036"
      ]
     },
     "execution_count": 57,
     "metadata": {},
     "output_type": "execute_result"
    }
   ],
   "source": [
    "len(exported_rank)"
   ]
  },
  {
   "cell_type": "code",
   "execution_count": 58,
   "metadata": {},
   "outputs": [
    {
     "data": {
      "text/plain": [
       "'data/processed/netbeans/bert/exported_rank_deepTL_1000.txt'"
      ]
     },
     "execution_count": 58,
     "metadata": {},
     "output_type": "execute_result"
    }
   ],
   "source": [
    "EXPORT_RANK_PATH = os.path.join(DIR, 'exported_rank_{}.txt'.format(METHOD))\n",
    "EXPORT_RANK_PATH"
   ]
  },
  {
   "cell_type": "code",
   "execution_count": 59,
   "metadata": {},
   "outputs": [],
   "source": [
    "with open(EXPORT_RANK_PATH, 'w') as file_out:\n",
    "    for row in exported_rank:\n",
    "        file_out.write(row + \"\\n\")"
   ]
  },
  {
   "cell_type": "code",
   "execution_count": 60,
   "metadata": {},
   "outputs": [
    {
     "data": {
      "text/plain": [
       "{'1 - recall_at_5': 0.55,\n",
       " '2 - recall_at_10': 0.61,\n",
       " '3 - recall_at_15': 0.64,\n",
       " '4 - recall_at_20': 0.66,\n",
       " '5 - recall_at_25': 0.68}"
      ]
     },
     "execution_count": 60,
     "metadata": {},
     "output_type": "execute_result"
    }
   ],
   "source": [
    "report = experiment.evaluation.evaluate(EXPORT_RANK_PATH)\n",
    "report"
   ]
  },
  {
   "cell_type": "markdown",
   "metadata": {},
   "source": [
    "#### Some ideas to visualizate"
   ]
  },
  {
   "cell_type": "markdown",
   "metadata": {},
   "source": [
    "- https://towardsdatascience.com/building-a-recommendation-system-using-neural-network-embeddings-1ef92e5c80c9"
   ]
  }
 ],
 "metadata": {
  "accelerator": "GPU",
  "colab": {
   "collapsed_sections": [],
   "name": "[baseline] Bug triage with Deep Learning.ipynb",
   "provenance": [],
   "toc_visible": true,
   "version": "0.3.2"
  },
  "kernelspec": {
   "display_name": "Python 3",
   "language": "python",
   "name": "python3"
  },
  "language_info": {
   "codemirror_mode": {
    "name": "ipython",
    "version": 3
   },
   "file_extension": ".py",
   "mimetype": "text/x-python",
   "name": "python",
   "nbconvert_exporter": "python",
   "pygments_lexer": "ipython3",
   "version": "3.5.2"
  }
 },
 "nbformat": 4,
 "nbformat_minor": 1
}
