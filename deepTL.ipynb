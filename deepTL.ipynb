{
 "cells": [
  {
   "cell_type": "markdown",
   "metadata": {
    "colab_type": "text",
    "id": "PtdA1qs_UQP1"
   },
   "source": [
    "# DeepQL with tensorflow\n",
    "\n",
    "https://github.com/AdrianUng/keras-triplet-loss-mnist/blob/master/Triplet_loss_KERAS_semi_hard_from_TF.ipynb"
   ]
  },
  {
   "cell_type": "code",
   "execution_count": 1,
   "metadata": {},
   "outputs": [
    {
     "name": "stderr",
     "output_type": "stream",
     "text": [
      "Using TensorFlow backend.\n"
     ]
    }
   ],
   "source": [
    "import keras"
   ]
  },
  {
   "cell_type": "code",
   "execution_count": 2,
   "metadata": {
    "colab": {},
    "colab_type": "code",
    "id": "qnSCLmiomFE1"
   },
   "outputs": [],
   "source": [
    "from __future__ import print_function, division"
   ]
  },
  {
   "cell_type": "code",
   "execution_count": 3,
   "metadata": {
    "colab": {},
    "colab_type": "code",
    "id": "OIha-SERnD72"
   },
   "outputs": [],
   "source": [
    "import re\n",
    "import numpy as np\n",
    "import pandas as pd\n",
    "\n",
    "import os\n",
    "from tqdm import tqdm_notebook as tqdm\n",
    "import matplotlib.pyplot as plt\n",
    "import sys\n",
    "from annoy import AnnoyIndex\n",
    "nb_dir = os.path.split(os.getcwd())[0]\n",
    "if nb_dir not in sys.path:\n",
    "    sys.path.append(nb_dir)\n",
    "    \n",
    "%matplotlib inline"
   ]
  },
  {
   "cell_type": "code",
   "execution_count": 4,
   "metadata": {
    "colab": {
     "base_uri": "https://localhost:8080/",
     "height": 34
    },
    "colab_type": "code",
    "id": "c57gQiuAnJAe",
    "outputId": "9eaf2d3f-619a-492d-f40b-6ba2c48426fa"
   },
   "outputs": [],
   "source": [
    "from keras.layers import Conv1D, Input, Add, Activation, Dropout, Embedding, MaxPooling1D, \\\n",
    "    GlobalMaxPool1D, Flatten, Dense, Concatenate, BatchNormalization\n",
    "from keras.models import Sequential, Model\n",
    "from keras.regularizers import l2\n",
    "from keras.initializers import TruncatedNormal\n",
    "from keras.layers.advanced_activations import LeakyReLU, ELU\n",
    "from keras import optimizers"
   ]
  },
  {
   "cell_type": "code",
   "execution_count": 5,
   "metadata": {},
   "outputs": [],
   "source": [
    "from methods.baseline import Baseline\n",
    "from methods.experiments import Experiment\n",
    "from methods.evaluation import Evaluation\n",
    "from methods.retrieval import Retrieval"
   ]
  },
  {
   "cell_type": "markdown",
   "metadata": {
    "colab_type": "text",
    "id": "8uQou7m2-bFO"
   },
   "source": [
    "## Configurações Globais"
   ]
  },
  {
   "cell_type": "code",
   "execution_count": 6,
   "metadata": {
    "colab": {},
    "colab_type": "code",
    "id": "G-Kn3x_K-aZj"
   },
   "outputs": [],
   "source": [
    "MAX_SEQUENCE_LENGTH_T = 20 # 100\n",
    "MAX_SEQUENCE_LENGTH_D = 20 # 500\n",
    "EMBEDDING_DIM = 300\n",
    "MAX_NB_WORDS = 20000\n",
    "'''\n",
    "    Configuration\n",
    "'''\n",
    "epochs = 1000\n",
    "freeze_train = .1\n",
    "best_loss = 1\n",
    "best_epoch = 0\n",
    "verbose = 0\n",
    "loss = 1"
   ]
  },
  {
   "cell_type": "markdown",
   "metadata": {},
   "source": [
    "### Parse bugs preproprecessed"
   ]
  },
  {
   "cell_type": "code",
   "execution_count": 7,
   "metadata": {},
   "outputs": [],
   "source": [
    "# Domain to use\n",
    "DOMAIN = 'eclipse'\n",
    "METHOD = 'deepTL_{}'.format(epochs)\n",
    "PREPROCESSING = 'bert'\n",
    "TOKEN = 'bert'\n",
    "# Dataset paths\n",
    "DIR = 'data/processed/{}/{}'.format(DOMAIN, PREPROCESSING)\n",
    "DIR_PAIRS = 'data/normalized/{}'.format(DOMAIN)\n",
    "DATASET = os.path.join('data/normalized/{}'.format(DOMAIN), '{}.csv'.format(DOMAIN))\n",
    "# Glove embeddings\n",
    "GLOVE_DIR='data/embed'\n",
    "# Save model\n",
    "SAVE_PATH = '{}_preprocessing_{}_feature@number_of_epochs@epochs_64batch({})'.format(PREPROCESSING, METHOD, DOMAIN)\n",
    "SAVE_PATH_FEATURE = '{}_preprocessing_{}_feature_@number_of_epochs@epochs_64batch({})'.format(PREPROCESSING, METHOD, DOMAIN)\n",
    "\n",
    "# Extract CORPUs\n",
    "EXTRACT_CORPUS = False"
   ]
  },
  {
   "cell_type": "code",
   "execution_count": 8,
   "metadata": {},
   "outputs": [],
   "source": [
    "import os\n",
    "\n",
    "pretrained_path = 'uncased_L-12_H-768_A-12'\n",
    "config_path = os.path.join(pretrained_path, 'bert_config.json')\n",
    "model_path = os.path.join(pretrained_path, 'bert_model.ckpt')\n",
    "vocab_path = os.path.join(pretrained_path, 'vocab.txt')"
   ]
  },
  {
   "cell_type": "code",
   "execution_count": 9,
   "metadata": {},
   "outputs": [],
   "source": [
    "from keras_bert import load_vocabulary\n",
    "\n",
    "token_dict = load_vocabulary(vocab_path)"
   ]
  },
  {
   "cell_type": "code",
   "execution_count": 10,
   "metadata": {},
   "outputs": [],
   "source": [
    "baseline = Baseline(DOMAIN, DIR, DATASET, MAX_SEQUENCE_LENGTH_T, MAX_SEQUENCE_LENGTH_D,\n",
    "                   token_dict['[CLS]'], token_dict['[SEP]'])\n",
    "evaluation = Evaluation(verbose=0)\n",
    "retrieval = Retrieval()\n",
    "experiment = Experiment(baseline, evaluation)"
   ]
  },
  {
   "cell_type": "code",
   "execution_count": 11,
   "metadata": {
    "scrolled": true
   },
   "outputs": [],
   "source": [
    "experiment.set_retrieval(retrieval, baseline, DOMAIN)"
   ]
  },
  {
   "cell_type": "markdown",
   "metadata": {},
   "source": [
    "#### Loading bug ids in memory"
   ]
  },
  {
   "cell_type": "code",
   "execution_count": 12,
   "metadata": {
    "scrolled": true
   },
   "outputs": [
    {
     "name": "stdout",
     "output_type": "stream",
     "text": [
      "Reading bug ids\n"
     ]
    },
    {
     "data": {
      "text/plain": [
       "361006"
      ]
     },
     "execution_count": 12,
     "metadata": {},
     "output_type": "execute_result"
    }
   ],
   "source": [
    "experiment.load_ids()\n",
    "len(baseline.bug_ids)"
   ]
  },
  {
   "cell_type": "markdown",
   "metadata": {
    "colab_type": "text",
    "id": "vqzt5EKzqzcI"
   },
   "source": [
    "#### Dicionário de títulos e descrições"
   ]
  },
  {
   "cell_type": "code",
   "execution_count": 13,
   "metadata": {
    "scrolled": true
   },
   "outputs": [
    {
     "data": {
      "application/vnd.jupyter.widget-view+json": {
       "model_id": "ba23315c73e6449a8af7beb1cf137a47",
       "version_major": 2,
       "version_minor": 0
      },
      "text/plain": [
       "HBox(children=(IntProgress(value=0, max=361006), HTML(value='')))"
      ]
     },
     "metadata": {},
     "output_type": "display_data"
    },
    {
     "name": "stdout",
     "output_type": "stream",
     "text": [
      "\n"
     ]
    },
    {
     "data": {
      "application/vnd.jupyter.widget-view+json": {
       "model_id": "17900a04f79147718c048bbed79307f0",
       "version_major": 2,
       "version_minor": 0
      },
      "text/plain": [
       "HBox(children=(IntProgress(value=1, bar_style='info', max=1), HTML(value='')))"
      ]
     },
     "metadata": {},
     "output_type": "display_data"
    },
    {
     "name": "stdout",
     "output_type": "stream",
     "text": [
      "\n",
      "CPU times: user 35 s, sys: 3.11 s, total: 38.1 s\n",
      "Wall time: 37.9 s\n"
     ]
    }
   ],
   "source": [
    "%%time\n",
    "\n",
    "experiment.load_bugs(TOKEN)\n",
    "len(baseline.sentence_dict)"
   ]
  },
  {
   "cell_type": "markdown",
   "metadata": {},
   "source": [
    "#### Hashing bugs by buckets"
   ]
  },
  {
   "cell_type": "code",
   "execution_count": 14,
   "metadata": {
    "scrolled": false
   },
   "outputs": [
    {
     "data": {
      "application/vnd.jupyter.widget-view+json": {
       "model_id": "ce6b9107fada47ef9f20a8edb7276517",
       "version_major": 2,
       "version_minor": 0
      },
      "text/plain": [
       "HBox(children=(IntProgress(value=0, max=361006), HTML(value='')))"
      ]
     },
     "metadata": {},
     "output_type": "display_data"
    },
    {
     "name": "stdout",
     "output_type": "stream",
     "text": [
      "\n"
     ]
    }
   ],
   "source": [
    "issues_by_buckets = experiment.get_buckets_for_bugs()"
   ]
  },
  {
   "cell_type": "markdown",
   "metadata": {},
   "source": [
    "#### Prepare the train and test"
   ]
  },
  {
   "cell_type": "code",
   "execution_count": 15,
   "metadata": {},
   "outputs": [],
   "source": [
    "# path_train='train_chronological', path_test='test_chronological'\n",
    "experiment.prepare_dataset(issues_by_buckets, path_train='train_chronological', path_test='test_chronological')\n",
    "# Read and create the test queries duplicates\n",
    "retrieval.create_queries()"
   ]
  },
  {
   "cell_type": "code",
   "execution_count": 16,
   "metadata": {},
   "outputs": [
    {
     "data": {
      "text/plain": [
       "[[275492, 218812],\n",
       " [288296, 264093],\n",
       " [273286, 293887],\n",
       " [57162, 62059],\n",
       " [82146, 67997],\n",
       " [56777, 61857],\n",
       " [169445, 165179],\n",
       " [250521, 273893],\n",
       " [247266, 241461],\n",
       " [36781, 38338]]"
      ]
     },
     "execution_count": 16,
     "metadata": {},
     "output_type": "execute_result"
    }
   ],
   "source": [
    "baseline.train_data[:10]"
   ]
  },
  {
   "cell_type": "markdown",
   "metadata": {},
   "source": [
    "#### Recovery bug ids from train"
   ]
  },
  {
   "cell_type": "code",
   "execution_count": 17,
   "metadata": {},
   "outputs": [],
   "source": [
    "bug_train_ids = experiment.get_train_ids(baseline.train_data)"
   ]
  },
  {
   "cell_type": "markdown",
   "metadata": {},
   "source": [
    "### Export the corpus train"
   ]
  },
  {
   "cell_type": "code",
   "execution_count": 18,
   "metadata": {},
   "outputs": [],
   "source": [
    "if EXTRACT_CORPUS:\n",
    "    corpus = []\n",
    "    export_file = open(os.path.join(DIR, 'corpus_train.txt'), 'w')\n",
    "    for bug_id in tqdm(baseline.bug_set):\n",
    "        bug = baseline.bug_set[bug_id]\n",
    "        title = bug['title']\n",
    "        desc = bug['description']\n",
    "        export_file.write(\"{}\\n{}\\n\".format(title, desc))\n",
    "    export_file.close()"
   ]
  },
  {
   "cell_type": "markdown",
   "metadata": {
    "colab_type": "text",
    "id": "a6Obtop6UIVD"
   },
   "source": [
    "# Generating tiple of batches"
   ]
  },
  {
   "cell_type": "code",
   "execution_count": 19,
   "metadata": {
    "scrolled": true
   },
   "outputs": [
    {
     "data": {
      "text/plain": [
       "{'bug_severity': '4\\n',\n",
       " 'bug_status': '2\\n',\n",
       " 'component': '486\\n',\n",
       " 'creation_ts': '2005-07-13 04:42:00 -0400',\n",
       " 'delta_ts': '2009-07-09 06:00:12 -0400',\n",
       " 'description': '[CLS] description : database ur ##l will be ref ##resh ##ed when editing jar files in manage drivers dial ##og steps to reproduce : 1 . add a jd ##bc data ##so ##ur ##ce and re ##open it 2 . click \" manage drivers \" , add a jar file and click \" ok \" expected result : don \\' t ref ##resh database ur ##l actual result : database ur ##l ref ##resh ##ed , shows like \" jd ##bc : o ##db ##c : < data source name > \" [SEP]',\n",
       " 'description_segment': [0,\n",
       "  0,\n",
       "  0,\n",
       "  0,\n",
       "  0,\n",
       "  0,\n",
       "  0,\n",
       "  0,\n",
       "  0,\n",
       "  0,\n",
       "  0,\n",
       "  0,\n",
       "  0,\n",
       "  0,\n",
       "  0,\n",
       "  0,\n",
       "  0,\n",
       "  0,\n",
       "  0,\n",
       "  0,\n",
       "  0,\n",
       "  0,\n",
       "  0,\n",
       "  0,\n",
       "  0,\n",
       "  0,\n",
       "  0,\n",
       "  0,\n",
       "  0,\n",
       "  0,\n",
       "  0,\n",
       "  0,\n",
       "  0,\n",
       "  0,\n",
       "  0,\n",
       "  0,\n",
       "  0,\n",
       "  0,\n",
       "  0,\n",
       "  0,\n",
       "  0,\n",
       "  0,\n",
       "  0,\n",
       "  0,\n",
       "  0,\n",
       "  0,\n",
       "  0,\n",
       "  0,\n",
       "  0,\n",
       "  0,\n",
       "  0,\n",
       "  0,\n",
       "  0,\n",
       "  0,\n",
       "  0,\n",
       "  0,\n",
       "  0,\n",
       "  0,\n",
       "  0,\n",
       "  0,\n",
       "  0,\n",
       "  0,\n",
       "  0,\n",
       "  0,\n",
       "  0,\n",
       "  0,\n",
       "  0,\n",
       "  0,\n",
       "  0,\n",
       "  0,\n",
       "  0,\n",
       "  0,\n",
       "  0,\n",
       "  0,\n",
       "  0,\n",
       "  0,\n",
       "  0,\n",
       "  0,\n",
       "  0,\n",
       "  0,\n",
       "  0,\n",
       "  0,\n",
       "  0,\n",
       "  0,\n",
       "  0,\n",
       "  0,\n",
       "  0,\n",
       "  0,\n",
       "  0,\n",
       "  0,\n",
       "  0,\n",
       "  0,\n",
       "  0,\n",
       "  0,\n",
       "  0,\n",
       "  0,\n",
       "  0,\n",
       "  0,\n",
       "  0,\n",
       "  0,\n",
       "  0,\n",
       "  0,\n",
       "  0,\n",
       "  0,\n",
       "  0,\n",
       "  0,\n",
       "  0,\n",
       "  0,\n",
       "  0,\n",
       "  0,\n",
       "  0,\n",
       "  0,\n",
       "  0,\n",
       "  0,\n",
       "  0,\n",
       "  0,\n",
       "  0,\n",
       "  0,\n",
       "  0,\n",
       "  0,\n",
       "  0,\n",
       "  0,\n",
       "  0,\n",
       "  0,\n",
       "  0,\n",
       "  0,\n",
       "  0,\n",
       "  0,\n",
       "  0,\n",
       "  0,\n",
       "  0,\n",
       "  0,\n",
       "  0,\n",
       "  0,\n",
       "  0,\n",
       "  0,\n",
       "  0,\n",
       "  0,\n",
       "  0,\n",
       "  0,\n",
       "  0,\n",
       "  0,\n",
       "  0,\n",
       "  0,\n",
       "  0,\n",
       "  0,\n",
       "  0,\n",
       "  0,\n",
       "  0,\n",
       "  0],\n",
       " 'description_token': array([  101,  6412,  1024,  7809, 24471,  2140,  2097,  2022, 25416,\n",
       "        21898,  2098,  2043,  9260, 15723,  6764,  1999,  6133,  6853,\n",
       "        13764,   102]),\n",
       " 'dup_id': '[]',\n",
       " 'issue_id': 103625,\n",
       " 'priority': '1\\n',\n",
       " 'product': '104\\n',\n",
       " 'resolution': 'FIXED',\n",
       " 'textual_token': array([  101,  7809, 24471,  2140,  2097,  2022, 25416, 21898,  2098,\n",
       "         2043,  9260, 15723,  6764,  1999,  6133,  6853, 13764,  8649,\n",
       "            0,   102,   101,  6412,  1024,  7809, 24471,  2140,  2097,\n",
       "         2022, 25416, 21898,  2098,  2043,  9260, 15723,  6764,  1999,\n",
       "         6133,  6853, 13764,   102]),\n",
       " 'title': '[CLS] database ur ##l will be ref ##resh ##ed when editing jar files in manage drivers dial ##og [SEP]',\n",
       " 'title_segment': [0,\n",
       "  0,\n",
       "  0,\n",
       "  0,\n",
       "  0,\n",
       "  0,\n",
       "  0,\n",
       "  0,\n",
       "  0,\n",
       "  0,\n",
       "  0,\n",
       "  0,\n",
       "  0,\n",
       "  0,\n",
       "  0,\n",
       "  0,\n",
       "  0,\n",
       "  0,\n",
       "  0,\n",
       "  0,\n",
       "  0,\n",
       "  0,\n",
       "  0,\n",
       "  0,\n",
       "  0,\n",
       "  0,\n",
       "  0,\n",
       "  0,\n",
       "  0,\n",
       "  0,\n",
       "  0,\n",
       "  0,\n",
       "  0,\n",
       "  0,\n",
       "  0,\n",
       "  0,\n",
       "  0,\n",
       "  0,\n",
       "  0,\n",
       "  0,\n",
       "  0,\n",
       "  0,\n",
       "  0,\n",
       "  0,\n",
       "  0,\n",
       "  0,\n",
       "  0,\n",
       "  0,\n",
       "  0,\n",
       "  0],\n",
       " 'title_token': array([  101,  7809, 24471,  2140,  2097,  2022, 25416, 21898,  2098,\n",
       "         2043,  9260, 15723,  6764,  1999,  6133,  6853, 13764,  8649,\n",
       "            0,   102]),\n",
       " 'version': '318\\n'}"
      ]
     },
     "execution_count": 19,
     "metadata": {},
     "output_type": "execute_result"
    }
   ],
   "source": [
    "idx = np.random.choice(baseline.bug_ids, 1)[0]\n",
    "baseline.bug_set[idx]"
   ]
  },
  {
   "cell_type": "markdown",
   "metadata": {},
   "source": [
    "### Generating the batch test"
   ]
  },
  {
   "cell_type": "code",
   "execution_count": 20,
   "metadata": {},
   "outputs": [
    {
     "data": {
      "text/plain": [
       "('Train ', 39339)"
      ]
     },
     "execution_count": 20,
     "metadata": {},
     "output_type": "execute_result"
    }
   ],
   "source": [
    "\"Train \", len(baseline.dup_sets_train)"
   ]
  },
  {
   "cell_type": "code",
   "execution_count": 21,
   "metadata": {},
   "outputs": [],
   "source": [
    "import random\n",
    "\n",
    "# data - path\n",
    "# batch_size - 128\n",
    "# n_neg - 1\n",
    "def batch_iterator(self, retrieval, model, data, dup_sets, bug_ids, \n",
    "                   batch_size, n_neg, issues_by_buckets, TRIPLET_HARD=False, FLOATING_PADDING=False):\n",
    "    # global train_data\n",
    "    # global self.dup_sets\n",
    "    # global self.bug_ids\n",
    "    # global self.bug_set\n",
    "\n",
    "    random.shuffle(data)\n",
    "\n",
    "    batch_features = {'title' : [], 'desc' : [], 'info' : []}\n",
    "    n_train = len(data)\n",
    "\n",
    "    batch_triplets, batch_bugs_anchor, batch_bugs_pos, batch_bugs_neg, batch_bugs = [], [], [], [], []\n",
    "\n",
    "    all_bugs = list(issues_by_buckets.keys())\n",
    "    buckets = retrieval.buckets\n",
    "\n",
    "    for offset in range(batch_size):\n",
    "        anchor, pos = data[offset][0], data[offset][1]\n",
    "        batch_bugs_anchor.append(anchor)\n",
    "        batch_bugs_pos.append(pos)\n",
    "        batch_bugs.append(anchor)\n",
    "        batch_bugs.append(pos)\n",
    "        #batch_bugs += dup_sets[anchor]\n",
    "\n",
    "    for anchor, pos in zip(batch_bugs_anchor, batch_bugs_pos):\n",
    "        while True:\n",
    "            neg = self.get_neg_bug(anchor, buckets[issues_by_buckets[anchor]], issues_by_buckets, all_bugs)\n",
    "            bug_anchor = self.bug_set[anchor]\n",
    "            bug_pos = self.bug_set[pos]\n",
    "            if neg not in self.bug_set:\n",
    "                continue\n",
    "            batch_bugs.append(neg)\n",
    "            batch_bugs_neg.append(neg)\n",
    "            bug_neg = self.bug_set[neg]\n",
    "            break\n",
    "        \n",
    "        # triplet bug and master\n",
    "        batch_triplets.append([anchor, pos, neg])\n",
    "    \n",
    "    random.shuffle(batch_bugs)\n",
    "    title_ids = np.full((len(batch_bugs), MAX_SEQUENCE_LENGTH_T), 0)\n",
    "    description_ids = np.full((len(batch_bugs), MAX_SEQUENCE_LENGTH_D), 0)\n",
    "    for i, bug_id in enumerate(batch_bugs):\n",
    "        bug = self.bug_set[bug_id]\n",
    "        self.read_batch_bugs(batch_features, bug, index=i, title_ids=title_ids, description_ids=description_ids)\n",
    "\n",
    "    batch_features['title'] = { 'token' : np.array(batch_features['title']), 'segment' : title_ids }\n",
    "    batch_features['desc'] = { 'token' : np.array(batch_features['desc']), 'segment' : description_ids }\n",
    "    batch_features['info'] = np.array(batch_features['info'])\n",
    "    \n",
    "    sim = np.asarray([issues_by_buckets[bug_id] for bug_id in batch_bugs])\n",
    "\n",
    "    input_sample = {}\n",
    "\n",
    "    input_sample = { 'title' : batch_features['title'], \n",
    "                        'description' : batch_features['desc'], \n",
    "                            'info' : batch_features['info'] }\n",
    "\n",
    "    return batch_triplets, input_sample, sim #sim"
   ]
  },
  {
   "cell_type": "code",
   "execution_count": 22,
   "metadata": {
    "colab": {
     "base_uri": "https://localhost:8080/",
     "height": 51
    },
    "colab_type": "code",
    "id": "PA5CIhgz7odW",
    "outputId": "ae98fdec-1d54-4b1f-ee0e-4c5633802a18",
    "scrolled": true
   },
   "outputs": [],
   "source": [
    "# %%time\n",
    "\n",
    "batch_size = 64\n",
    "batch_size_test = 128\n",
    "\n",
    "# we want a constant validation group to have a frame of reference for model performance\n",
    "batch_triplets_valid, valid_input_sample, valid_sim = batch_iterator(baseline, retrieval, None, \n",
    "                                                                                      baseline.train_data, \n",
    "                                                                                      baseline.dup_sets_train,\n",
    "                                                                                      bug_train_ids,\n",
    "                                                                                      batch_size_test, 1,\n",
    "                                                                                      issues_by_buckets)\n",
    "\n",
    "validation_sample = [valid_input_sample['title']['token'], valid_input_sample['title']['segment'], \n",
    "                   valid_input_sample['description']['token'], valid_input_sample['description']['segment'],\n",
    "                   valid_input_sample['info'], valid_sim]\n",
    "\n",
    "# Categorical columns\n",
    "number_of_columns_info = valid_input_sample['info'].shape[1]\n",
    "# Max sequence title\n",
    "MAX_SEQUENCE_LENGTH_T = valid_input_sample['title']['token'].shape[1]\n",
    "MAX_SEQUENCE_LENGTH_D = valid_input_sample['description']['token'].shape[1]"
   ]
  },
  {
   "cell_type": "code",
   "execution_count": 23,
   "metadata": {},
   "outputs": [
    {
     "data": {
      "text/plain": [
       "((384, 20), (384, 20), (384, 20), (384, 20), (384, 1682), (384,))"
      ]
     },
     "execution_count": 23,
     "metadata": {},
     "output_type": "execute_result"
    }
   ],
   "source": [
    "valid_input_sample['title']['token'].shape, \\\n",
    "valid_input_sample['description']['token'].shape, \\\n",
    "valid_input_sample['title']['segment'].shape, \\\n",
    "valid_input_sample['description']['segment'].shape, \\\n",
    "valid_input_sample['info'].shape, valid_sim.shape"
   ]
  },
  {
   "cell_type": "markdown",
   "metadata": {
    "colab_type": "text",
    "id": "24mY22BGnkqp"
   },
   "source": [
    "### Validar entrada"
   ]
  },
  {
   "cell_type": "code",
   "execution_count": 24,
   "metadata": {
    "colab": {
     "base_uri": "https://localhost:8080/",
     "height": 796
    },
    "colab_type": "code",
    "id": "OhTbr3a5nmrh",
    "outputId": "a2d73e0f-e9ce-4d12-a5c8-f0008d2402d0",
    "scrolled": true
   },
   "outputs": [],
   "source": [
    "# %%time \n",
    "\n",
    "#baseline.display_batch(baseline.train_data, baseline.dup_sets_train, bug_train_ids, 5)"
   ]
  },
  {
   "cell_type": "code",
   "execution_count": 25,
   "metadata": {},
   "outputs": [
    {
     "data": {
      "text/plain": [
       "('Test ', 16995)"
      ]
     },
     "execution_count": 25,
     "metadata": {},
     "output_type": "execute_result"
    }
   ],
   "source": [
    "\"Test \", len(baseline.test_data)"
   ]
  },
  {
   "cell_type": "markdown",
   "metadata": {
    "colab_type": "text",
    "id": "XPrsLs4Kg4Pa"
   },
   "source": [
    "## Pre-trained embeddings\n",
    "\n",
    "Loading pretrained word vectors"
   ]
  },
  {
   "cell_type": "markdown",
   "metadata": {
    "colab_type": "text",
    "id": "6p9eE5TWoH7p"
   },
   "source": [
    "### Glove"
   ]
  },
  {
   "cell_type": "code",
   "execution_count": 26,
   "metadata": {},
   "outputs": [
    {
     "name": "stdout",
     "output_type": "stream",
     "text": [
      "vocabulary loaded\n"
     ]
    }
   ],
   "source": [
    "vocab = baseline.load_vocabulary(os.path.join(DIR, 'vocab_embed.pkl'))\n",
    "#print(np.random.choice(vocab, 10))\n",
    "# for token in vocab:\n",
    "#     print(token)"
   ]
  },
  {
   "cell_type": "code",
   "execution_count": 27,
   "metadata": {},
   "outputs": [
    {
     "data": {
      "text/plain": [
       "'Total vocabulary: 21175'"
      ]
     },
     "execution_count": 27,
     "metadata": {},
     "output_type": "execute_result"
    }
   ],
   "source": [
    "\"Total vocabulary: {}\".format(len(vocab))"
   ]
  },
  {
   "cell_type": "code",
   "execution_count": 28,
   "metadata": {},
   "outputs": [],
   "source": [
    "def generating_embed(baseline, GLOVE_DIR, EMBEDDING_DIM):\n",
    "    embeddings_index = {}\n",
    "    embed_path = os.path.join(GLOVE_DIR, 'glove.42B.300d.txt')\n",
    "    f2 = open(embed_path, 'rb')\n",
    "    num_lines = sum(1 for line in f2)\n",
    "    f2.close()\n",
    "    f = open(embed_path, 'rb')\n",
    "    vocab = baseline.load_vocabulary(os.path.join(baseline.DIR, 'vocab_embed.pkl'))\n",
    "    vocab_size = len(vocab) \n",
    "\n",
    "    # Initialize uniform the vector considering the Tanh activation\n",
    "    embedding_matrix = np.random.uniform(-1.0, 1.0, (num_lines + vocab_size, EMBEDDING_DIM))\n",
    "    embedding_matrix[0, :] = np.zeros(EMBEDDING_DIM)\n",
    "\n",
    "    loop = tqdm(f)\n",
    "    loop.set_description(\"Loading Glove\")\n",
    "    i = 0\n",
    "    for line in loop:\n",
    "        tokens = line.split()\n",
    "        word = tokens[0]\n",
    "        embeddings_index[word] = np.asarray(tokens[1:], dtype='float32')\n",
    "        i+=1\n",
    "        loop.update(1)\n",
    "    f.close()\n",
    "    loop.close()\n",
    "\n",
    "    print('Total %s word vectors in Glove 42B 300d.' % len(embeddings_index))\n",
    "    loop = tqdm(total=vocab_size)\n",
    "    loop.set_description('Loading embedding from dataset pretrained')\n",
    "    for word, embed in vocab.items():\n",
    "        if word not in embeddings_index:\n",
    "            embeddings_index[i] = np.asarray(embed, dtype='float32')\n",
    "        loop.update(1)\n",
    "        i+=1\n",
    "    loop.close()\n",
    "    baseline.embedding_matrix = embedding_matrix"
   ]
  },
  {
   "cell_type": "code",
   "execution_count": 29,
   "metadata": {
    "colab": {
     "base_uri": "https://localhost:8080/",
     "height": 85
    },
    "colab_type": "code",
    "id": "QY-ef3OGoIiq",
    "outputId": "55f4c93c-98bb-4bac-92f2-76bd3b777605"
   },
   "outputs": [
    {
     "name": "stdout",
     "output_type": "stream",
     "text": [
      "vocabulary loaded\n"
     ]
    },
    {
     "data": {
      "application/vnd.jupyter.widget-view+json": {
       "model_id": "3d1bcc8047ee4500914673be05aea780",
       "version_major": 2,
       "version_minor": 0
      },
      "text/plain": [
       "HBox(children=(IntProgress(value=1, bar_style='info', max=1), HTML(value='')))"
      ]
     },
     "metadata": {},
     "output_type": "display_data"
    },
    {
     "name": "stdout",
     "output_type": "stream",
     "text": [
      "\n",
      "Total 1917494 word vectors in Glove 42B 300d.\n"
     ]
    },
    {
     "data": {
      "application/vnd.jupyter.widget-view+json": {
       "model_id": "d2e972a558c34385bb6de47c7843ff79",
       "version_major": 2,
       "version_minor": 0
      },
      "text/plain": [
       "HBox(children=(IntProgress(value=0, max=21175), HTML(value='')))"
      ]
     },
     "metadata": {},
     "output_type": "display_data"
    },
    {
     "name": "stdout",
     "output_type": "stream",
     "text": [
      "\n",
      "CPU times: user 1min 33s, sys: 3.44 s, total: 1min 37s\n",
      "Wall time: 1min 36s\n"
     ]
    }
   ],
   "source": [
    "%%time\n",
    "\n",
    "generating_embed(baseline, GLOVE_DIR=GLOVE_DIR, EMBEDDING_DIM=EMBEDDING_DIM) # MAX_NB_WORDS=MAX_NB_WORDS"
   ]
  },
  {
   "cell_type": "markdown",
   "metadata": {},
   "source": [
    "## Experiment"
   ]
  },
  {
   "cell_type": "markdown",
   "metadata": {
    "colab_type": "text",
    "id": "Lev5Y7oaFQBd"
   },
   "source": [
    "## Towards Accurate Duplicate Bug Retrieval Using Deep Learning Techniques\n",
    "\n",
    "https://github.com/tqtg/DuplicateBugFinder"
   ]
  },
  {
   "cell_type": "markdown",
   "metadata": {},
   "source": [
    "### Embedding layer"
   ]
  },
  {
   "cell_type": "code",
   "execution_count": 30,
   "metadata": {},
   "outputs": [],
   "source": [
    "from keras.constraints import MaxNorm\n",
    "from keras.initializers import TruncatedNormal, RandomUniform\n",
    "\n",
    "# Is missing the padding_idx used in pytorch\n",
    "# https://pytorch.org/docs/stable/_modules/torch/nn/modules/sparse.html\n",
    "# https://stackoverflow.com/questions/54824768/rnn-model-gru-of-word2vec-to-regression-not-learning\n",
    "def embedding_layer(embeddings, num_words, embedding_dim, max_sequence_length, trainable):\n",
    "    embedding_layer = Embedding(num_words,\n",
    "                                  embedding_dim,\n",
    "                                  name='embedding_layer',\n",
    "                                  weights=[embeddings],\n",
    "                                  embeddings_constraint=MaxNorm(max_value=1, axis=0),\n",
    "                                  #input_length=max_sequence_length,\n",
    "                                  input_length=None,\n",
    "                                  trainable=trainable)\n",
    "    return embedding_layer"
   ]
  },
  {
   "cell_type": "markdown",
   "metadata": {
    "colab_type": "text",
    "id": "sI074wU4Y13y"
   },
   "source": [
    "### BERT"
   ]
  },
  {
   "cell_type": "code",
   "execution_count": 31,
   "metadata": {
    "colab": {
     "base_uri": "https://localhost:8080/",
     "height": 493
    },
    "colab_type": "code",
    "id": "h6YJU9GtFTyq",
    "outputId": "f85cf105-1fd6-491d-d969-7e6936f32739",
    "scrolled": false
   },
   "outputs": [],
   "source": [
    "from keras_bert import load_trained_model_from_checkpoint\n",
    "from keras_bert import compile_model, get_model\n",
    "from keras.layers import GlobalAveragePooling1D\n",
    "\n",
    "def bert_model(MAX_SEQUENCE_LENGTH, name):\n",
    "    layer_num = 8\n",
    "#     model = load_trained_model_from_checkpoint(\n",
    "#             config_path,\n",
    "#             model_path,\n",
    "#             training=True,\n",
    "#             trainable=True,\n",
    "#             seq_len=MAX_SEQUENCE_LENGTH,\n",
    "#     )\n",
    "    model = load_trained_model_from_checkpoint(\n",
    "        config_path,\n",
    "        model_path,\n",
    "        training=True,\n",
    "        use_adapter=True,\n",
    "        seq_len=MAX_SEQUENCE_LENGTH,\n",
    "        trainable=['Encoder-{}-MultiHeadSelfAttention-Adapter'.format(i + 1) for i in range(12-layer_num, 13)] +\n",
    "        ['Encoder-{}-FeedForward-Adapter'.format(i + 1) for i in range(12-layer_num, 13)] +\n",
    "        ['Encoder-{}-MultiHeadSelfAttention-Norm'.format(i + 1) for i in range(12-layer_num, 13)] +\n",
    "        ['Encoder-{}-FeedForward-Norm'.format(i + 1) for i in range(layer_num)],\n",
    "    )\n",
    "#     model = get_model(\n",
    "#         token_num=len(token_dict),\n",
    "#         head_num=10,\n",
    "#         transformer_num=layer_num,\n",
    "#         embed_dim=100,\n",
    "#         feed_forward_dim=100,\n",
    "#         seq_len=MAX_SEQUENCE_LENGTH,\n",
    "#         pos_num=MAX_SEQUENCE_LENGTH,\n",
    "#         dropout_rate=0.05,\n",
    "#     )\n",
    "    compile_model(model)\n",
    "    inputs = model.inputs[:2]\n",
    "    outputs = model.get_layer('Encoder-{}-FeedForward-Norm'.format(layer_num)).output\n",
    "    #outputs = model.get_layer('Extract').output\n",
    "    outputs = GlobalAveragePooling1D()(outputs)\n",
    "    outputs = Dense(300, activation='tanh')(outputs)\n",
    "    \n",
    "    model = Model(inputs, outputs, name='FeatureBERTGenerationModel{}'.format(name))\n",
    "    \n",
    "    return model"
   ]
  },
  {
   "cell_type": "markdown",
   "metadata": {},
   "source": [
    "### MLP"
   ]
  },
  {
   "cell_type": "code",
   "execution_count": 32,
   "metadata": {},
   "outputs": [],
   "source": [
    "def mlp_model(input_size):\n",
    "    info_input = Input(shape=(input_size, ), name='Feature_BugInput')\n",
    "    input_size = 300\n",
    "    \n",
    "    for units in [64, 32]:\n",
    "        layer = Dense(units, activation='tanh', kernel_initializer='random_uniform')(info_input)\n",
    "    \n",
    "    layer = Dense(input_size, activation='tanh')(info_input)\n",
    "    \n",
    "    mlp_feature_model = Model(inputs=[info_input], outputs=[layer], name = 'FeatureMlpGenerationModel')\n",
    "    \n",
    "    return mlp_feature_model"
   ]
  },
  {
   "cell_type": "markdown",
   "metadata": {
    "colab_type": "text",
    "id": "TEedCg5AaTf2"
   },
   "source": [
    "### Siamese model"
   ]
  },
  {
   "cell_type": "code",
   "execution_count": 33,
   "metadata": {},
   "outputs": [],
   "source": [
    "def pairwise_distance(feature, squared=False):\n",
    "    \"\"\"Computes the pairwise distance matrix with numerical stability.\n",
    "\n",
    "    output[i, j] = || feature[i, :] - feature[j, :] ||_2\n",
    "\n",
    "    Args:\n",
    "      feature: 2-D Tensor of size [number of data, feature dimension].\n",
    "      squared: Boolean, whether or not to square the pairwise distances.\n",
    "\n",
    "    Returns:\n",
    "      pairwise_distances: 2-D Tensor of size [number of data, number of data].\n",
    "    \"\"\"\n",
    "    pairwise_distances_squared = math_ops.add(\n",
    "        math_ops.reduce_sum(math_ops.square(feature), axis=[1], keepdims=True),\n",
    "        math_ops.reduce_sum(\n",
    "            math_ops.square(array_ops.transpose(feature)),\n",
    "            axis=[0],\n",
    "            keepdims=True)) - 2.0 * math_ops.matmul(feature,\n",
    "                                                    array_ops.transpose(feature))\n",
    "\n",
    "    # Deal with numerical inaccuracies. Set small negatives to zero.\n",
    "    pairwise_distances_squared = math_ops.maximum(pairwise_distances_squared, 0.0)\n",
    "    # Get the mask where the zero distances are at.\n",
    "    error_mask = math_ops.less_equal(pairwise_distances_squared, 0.0)\n",
    "\n",
    "    # Optionally take the sqrt.\n",
    "    if squared:\n",
    "        pairwise_distances = pairwise_distances_squared\n",
    "    else:\n",
    "        pairwise_distances = math_ops.sqrt(\n",
    "            pairwise_distances_squared + math_ops.to_float(error_mask) * 1e-16)\n",
    "\n",
    "    # Undo conditionally adding 1e-16.\n",
    "    pairwise_distances = math_ops.multiply(\n",
    "        pairwise_distances, math_ops.to_float(math_ops.logical_not(error_mask)))\n",
    "\n",
    "    num_data = array_ops.shape(feature)[0]\n",
    "    # Explicitly set diagonals to zero.\n",
    "    mask_offdiagonals = array_ops.ones_like(pairwise_distances) - array_ops.diag(\n",
    "        array_ops.ones([num_data]))\n",
    "    pairwise_distances = math_ops.multiply(pairwise_distances, mask_offdiagonals)\n",
    "    return pairwise_distances\n",
    "\n",
    "def masked_maximum(data, mask, dim=1):\n",
    "    \"\"\"Computes the axis wise maximum over chosen elements.\n",
    "\n",
    "    Args:\n",
    "      data: 2-D float `Tensor` of size [n, m].\n",
    "      mask: 2-D Boolean `Tensor` of size [n, m].\n",
    "      dim: The dimension over which to compute the maximum.\n",
    "\n",
    "    Returns:\n",
    "      masked_maximums: N-D `Tensor`.\n",
    "        The maximized dimension is of size 1 after the operation.\n",
    "    \"\"\"\n",
    "    axis_minimums = math_ops.reduce_min(data, dim, keepdims=True)\n",
    "    masked_maximums = math_ops.reduce_max(\n",
    "        math_ops.multiply(data - axis_minimums, mask), dim,\n",
    "        keepdims=True) + axis_minimums\n",
    "    return masked_maximums\n",
    "\n",
    "def masked_minimum(data, mask, dim=1):\n",
    "    \"\"\"Computes the axis wise minimum over chosen elements.\n",
    "\n",
    "    Args:\n",
    "      data: 2-D float `Tensor` of size [n, m].\n",
    "      mask: 2-D Boolean `Tensor` of size [n, m].\n",
    "      dim: The dimension over which to compute the minimum.\n",
    "\n",
    "    Returns:\n",
    "      masked_minimums: N-D `Tensor`.\n",
    "        The minimized dimension is of size 1 after the operation.\n",
    "    \"\"\"\n",
    "    axis_maximums = math_ops.reduce_max(data, dim, keepdims=True)\n",
    "    masked_minimums = math_ops.reduce_min(\n",
    "        math_ops.multiply(data - axis_maximums, mask), dim,\n",
    "        keepdims=True) + axis_maximums\n",
    "    return masked_minimums"
   ]
  },
  {
   "cell_type": "code",
   "execution_count": 34,
   "metadata": {},
   "outputs": [],
   "source": [
    "## required for semi-hard triplet loss:\n",
    "from tensorflow.python.ops import array_ops\n",
    "from tensorflow.python.ops import math_ops\n",
    "from tensorflow.python.framework import dtypes\n",
    "import tensorflow as tf\n",
    "\n",
    "def quintet_loss(y_true, y_pred):\n",
    "    return triplet_loss(y_pred)\n",
    "\n",
    "def triplet_loss(vects):\n",
    "    #del y_true\n",
    "    margin = 1.\n",
    "    labels = vects[:, :1]\n",
    " \n",
    "    labels = tf.cast(labels, dtype='int32')\n",
    "\n",
    "    embeddings = vects[:, 1:]\n",
    "\n",
    "    ### Code from Tensorflow function [tf.contrib.losses.metric_learning.triplet_semihard_loss] starts here:\n",
    "    \n",
    "    # Reshape [batch_size] label tensor to a [batch_size, 1] label tensor.\n",
    "    # lshape=array_ops.shape(labels)\n",
    "    # assert lshape.shape == 1\n",
    "    # labels = array_ops.reshape(labels, [lshape[0], 1])\n",
    "\n",
    "    # Build pairwise squared distance matrix.\n",
    "    pdist_matrix = pairwise_distance(embeddings, squared=True)\n",
    "    # Build pairwise binary adjacency matrix.\n",
    "    adjacency = math_ops.equal(labels, array_ops.transpose(labels))\n",
    "    # Invert so we can select negatives only.\n",
    "    adjacency_not = math_ops.logical_not(adjacency)\n",
    "\n",
    "    # global batch_size  \n",
    "    batch_size = array_ops.size(labels) # was 'array_ops.size(labels)'\n",
    "\n",
    "    # Compute the mask.\n",
    "    pdist_matrix_tile = array_ops.tile(pdist_matrix, [batch_size, 1])\n",
    "    mask = math_ops.logical_and(\n",
    "        array_ops.tile(adjacency_not, [batch_size, 1]),\n",
    "        math_ops.greater(\n",
    "            pdist_matrix_tile, array_ops.reshape(\n",
    "                array_ops.transpose(pdist_matrix), [-1, 1])))\n",
    "    mask_final = array_ops.reshape(\n",
    "        math_ops.greater(\n",
    "            math_ops.reduce_sum(\n",
    "                math_ops.cast(mask, dtype=dtypes.float32), 1, keepdims=True),\n",
    "            0.0), [batch_size, batch_size])\n",
    "    mask_final = array_ops.transpose(mask_final)\n",
    "\n",
    "    adjacency_not = math_ops.cast(adjacency_not, dtype=dtypes.float32)\n",
    "    mask = math_ops.cast(mask, dtype=dtypes.float32)\n",
    "\n",
    "    # negatives_outside: smallest D_an where D_an > D_ap.\n",
    "    negatives_outside = array_ops.reshape(\n",
    "        masked_minimum(pdist_matrix_tile, mask), [batch_size, batch_size])\n",
    "    negatives_outside = array_ops.transpose(negatives_outside)\n",
    "\n",
    "    # negatives_inside: largest D_an.\n",
    "    negatives_inside = array_ops.tile(\n",
    "        masked_maximum(pdist_matrix, adjacency_not), [1, batch_size])\n",
    "    semi_hard_negatives = array_ops.where(\n",
    "        mask_final, negatives_outside, negatives_inside)\n",
    "\n",
    "    loss_mat = math_ops.add(margin, pdist_matrix - semi_hard_negatives)\n",
    "\n",
    "    mask_positives = math_ops.cast(\n",
    "        adjacency, dtype=dtypes.float32) - array_ops.diag(\n",
    "        array_ops.ones([batch_size]))\n",
    "\n",
    "    # In lifted-struct, the authors multiply 0.5 for upper triangular\n",
    "    #   in semihard, they take all positive pairs except the diagonal.\n",
    "    num_positives = math_ops.reduce_sum(mask_positives)\n",
    "\n",
    "    semi_hard_triplet_loss_distance = math_ops.truediv(\n",
    "        math_ops.reduce_sum(\n",
    "            math_ops.maximum(\n",
    "                math_ops.multiply(loss_mat, mask_positives), 0.0)),\n",
    "        num_positives,\n",
    "        name='triplet_semihard_loss')\n",
    "    \n",
    "    ### Code from Tensorflow function semi-hard triplet loss ENDS here.\n",
    "    return semi_hard_triplet_loss_distance"
   ]
  },
  {
   "cell_type": "code",
   "execution_count": 35,
   "metadata": {},
   "outputs": [],
   "source": [
    "from keras.layers import concatenate, Add, Lambda, merge, Average, Maximum\n",
    "from keras.optimizers import Adam, Nadam\n",
    "\n",
    "def siamese_model(title_feature_model, desc_feature_model, categorical_feature_model, sequence_length_info, \n",
    "                  sequence_length_t, sequence_length_d, name):\n",
    "  \n",
    "    # Title\n",
    "    bug_t_token = Input(shape = (sequence_length_t, ), name = 'title_token_{}'.format(name))\n",
    "    bug_t_segment = Input(shape = (sequence_length_t, ), name = 'title_segment_{}'.format(name))\n",
    "    # Description\n",
    "    bug_d_token = Input(shape = (sequence_length_d, ), name = 'desc_token_{}'.format(name))\n",
    "    bug_d_segment = Input(shape = (sequence_length_d, ), name = 'desc_segment_{}'.format(name))\n",
    "    # Categorical\n",
    "    bug_i = Input(shape = (sequence_length_info, ), name = 'info_{}'.format(name))\n",
    "    \n",
    "    bug_t_feat = title_feature_model([bug_t_token, bug_t_segment])\n",
    "    bug_d_feat = desc_feature_model([bug_d_token, bug_d_segment])\n",
    "    bug_i_feat = categorical_feature_model(bug_i)\n",
    "    \n",
    "    #bug_feature_output = Add(name = 'merge_features_{}'.format(name))([bug_i_feat, bug_t_feat, bug_d_feat])\n",
    "    bug_feature_output = concatenate([bug_i_feat, bug_t_feat, bug_d_feat], name = 'merge_features_{}'.format(name))\n",
    "    \n",
    "    bug_feature_model = Model(inputs=[bug_t_token, bug_t_segment, bug_d_token, bug_d_segment, bug_i], outputs=[bug_feature_output], name = 'merge_features_{}'.format(name))\n",
    "    \n",
    "    return bug_feature_model"
   ]
  },
  {
   "cell_type": "code",
   "execution_count": 36,
   "metadata": {},
   "outputs": [],
   "source": [
    "def max_margin_objective(encoded_anchor, decay_lr=1):\n",
    "    \n",
    "    input_labels = Input(shape=(1,), name='input_label')    # input layer for labels\n",
    "    inputs = np.concatenate([encoded_anchor.input, [input_labels]], -1).tolist()\n",
    "    \n",
    "    encoded_anchor = encoded_anchor.output\n",
    "    \n",
    "    output = concatenate([input_labels, encoded_anchor])  # concatenating the labels + embeddings\n",
    "    \n",
    "    similarity_model = Model(inputs = inputs, outputs = output, name = 'Similarity_Model')\n",
    "\n",
    "    #optimizer = Nadam(lr=1e-3, beta_1=0.9, beta_2=0.999, epsilon=K.epsilon(), schedule_decay=0.01)\n",
    "    # optimizer = Adam(lr=1e-3 * decay_lr, beta_1=0.9, beta_2=0.999, epsilon=None, decay=0.0, amsgrad=True)\n",
    "    \n",
    "    # setup the optimization process \n",
    "    similarity_model.compile(optimizer='adam', loss=quintet_loss) \n",
    "    # metrics=[pos_distance, neg_distance, custom_margin_loss]\n",
    "\n",
    "    return similarity_model"
   ]
  },
  {
   "cell_type": "code",
   "execution_count": 37,
   "metadata": {},
   "outputs": [],
   "source": [
    "import _pickle as pickle\n",
    "def save_loss(result):\n",
    "    with open(os.path.join(DIR,'{}_log.pkl'.format(METHOD)), 'wb') as f:\n",
    "        pickle.dump(result, f)\n",
    "    print(\"=> result saved!\")"
   ]
  },
  {
   "cell_type": "code",
   "execution_count": 38,
   "metadata": {},
   "outputs": [],
   "source": [
    "# Domain to use\n",
    "limit_train = int(epochs * freeze_train) # 10% de 1000 , 100 epocas\n",
    "METHOD = 'deepTL_{}'.format(limit_train)\n",
    "SAVE_PATH = '{}_preprocessing_{}_feature@number_of_epochs@epochs_64batch({})'.format(PREPROCESSING, METHOD, DOMAIN)\n",
    "SAVE_PATH_FEATURE = '{}_preprocessing_{}_feature_@number_of_epochs@epochs_64batch({})'.format(PREPROCESSING, METHOD, DOMAIN)"
   ]
  },
  {
   "cell_type": "code",
   "execution_count": 39,
   "metadata": {
    "scrolled": true
   },
   "outputs": [
    {
     "name": "stdout",
     "output_type": "stream",
     "text": [
      "WARNING:tensorflow:From /usr/local/lib/python3.5/dist-packages/keras/backend/tensorflow_backend.py:95: The name tf.reset_default_graph is deprecated. Please use tf.compat.v1.reset_default_graph instead.\n",
      "\n",
      "WARNING:tensorflow:From /usr/local/lib/python3.5/dist-packages/keras/backend/tensorflow_backend.py:98: The name tf.placeholder_with_default is deprecated. Please use tf.compat.v1.placeholder_with_default instead.\n",
      "\n",
      "WARNING:tensorflow:From /usr/local/lib/python3.5/dist-packages/keras/backend/tensorflow_backend.py:102: The name tf.get_default_graph is deprecated. Please use tf.compat.v1.get_default_graph instead.\n",
      "\n",
      "WARNING:tensorflow:From /usr/local/lib/python3.5/dist-packages/keras/backend/tensorflow_backend.py:517: The name tf.placeholder is deprecated. Please use tf.compat.v1.placeholder instead.\n",
      "\n",
      "WARNING:tensorflow:From /usr/local/lib/python3.5/dist-packages/keras/backend/tensorflow_backend.py:4138: The name tf.random_uniform is deprecated. Please use tf.random.uniform instead.\n",
      "\n",
      "WARNING:tensorflow:From /usr/local/lib/python3.5/dist-packages/keras/backend/tensorflow_backend.py:3445: calling dropout (from tensorflow.python.ops.nn_ops) with keep_prob is deprecated and will be removed in a future version.\n",
      "Instructions for updating:\n",
      "Please use `rate` instead of `keep_prob`. Rate should be set to `rate = 1 - keep_prob`.\n",
      "WARNING:tensorflow:From /usr/local/lib/python3.5/dist-packages/keras/backend/tensorflow_backend.py:4185: The name tf.truncated_normal is deprecated. Please use tf.random.truncated_normal instead.\n",
      "\n",
      "WARNING:tensorflow:From /usr/local/lib/python3.5/dist-packages/keras/backend/tensorflow_backend.py:174: The name tf.get_default_session is deprecated. Please use tf.compat.v1.get_default_session instead.\n",
      "\n",
      "WARNING:tensorflow:From /usr/local/lib/python3.5/dist-packages/keras/backend/tensorflow_backend.py:181: The name tf.ConfigProto is deprecated. Please use tf.compat.v1.ConfigProto instead.\n",
      "\n",
      "WARNING:tensorflow:From /usr/local/lib/python3.5/dist-packages/keras/backend/tensorflow_backend.py:186: The name tf.Session is deprecated. Please use tf.compat.v1.Session instead.\n",
      "\n",
      "WARNING:tensorflow:From /usr/local/lib/python3.5/dist-packages/keras/backend/tensorflow_backend.py:190: The name tf.global_variables is deprecated. Please use tf.compat.v1.global_variables instead.\n",
      "\n",
      "WARNING:tensorflow:From /usr/local/lib/python3.5/dist-packages/keras/backend/tensorflow_backend.py:199: The name tf.is_variable_initialized is deprecated. Please use tf.compat.v1.is_variable_initialized instead.\n",
      "\n",
      "WARNING:tensorflow:From /usr/local/lib/python3.5/dist-packages/keras/backend/tensorflow_backend.py:206: The name tf.variables_initializer is deprecated. Please use tf.compat.v1.variables_initializer instead.\n",
      "\n",
      "WARNING:tensorflow:From /usr/local/lib/python3.5/dist-packages/keras/optimizers.py:790: The name tf.train.Optimizer is deprecated. Please use tf.compat.v1.train.Optimizer instead.\n",
      "\n",
      "WARNING:tensorflow:From /usr/local/lib/python3.5/dist-packages/keras/backend/tensorflow_backend.py:3341: The name tf.log is deprecated. Please use tf.math.log instead.\n",
      "\n",
      "WARNING:tensorflow:From <ipython-input-33-cd325db98846>:35: to_float (from tensorflow.python.ops.math_ops) is deprecated and will be removed in a future version.\n",
      "Instructions for updating:\n",
      "Use `tf.cast` instead.\n",
      "WARNING:tensorflow:From <ipython-input-34-5b033f8d5bce>:62: where (from tensorflow.python.ops.array_ops) is deprecated and will be removed in a future version.\n",
      "Instructions for updating:\n",
      "Use tf.where in 2.0, which has the same broadcast rule as np.where\n",
      "__________________________________________________________________________________________________\n",
      "Layer (type)                    Output Shape         Param #     Connected to                     \n",
      "==================================================================================================\n",
      "info_in (InputLayer)            (None, 1682)         0                                            \n",
      "__________________________________________________________________________________________________\n",
      "title_token_in (InputLayer)     (None, 20)           0                                            \n",
      "__________________________________________________________________________________________________\n",
      "title_segment_in (InputLayer)   (None, 20)           0                                            \n",
      "__________________________________________________________________________________________________\n",
      "desc_token_in (InputLayer)      (None, 20)           0                                            \n",
      "__________________________________________________________________________________________________\n",
      "desc_segment_in (InputLayer)    (None, 20)           0                                            \n",
      "__________________________________________________________________________________________________\n",
      "FeatureMlpGenerationModel (Mode (None, 300)          504900      info_in[0][0]                    \n",
      "__________________________________________________________________________________________________\n",
      "FeatureBERTGenerationModelTitle (None, 300)          80577436    title_token_in[0][0]             \n",
      "                                                                 title_segment_in[0][0]           \n",
      "__________________________________________________________________________________________________\n",
      "FeatureBERTGenerationModelDescr (None, 300)          80577436    desc_token_in[0][0]              \n",
      "                                                                 desc_segment_in[0][0]            \n",
      "__________________________________________________________________________________________________\n",
      "input_label (InputLayer)        (None, 1)            0                                            \n",
      "__________________________________________________________________________________________________\n",
      "merge_features_in (Concatenate) (None, 900)          0           FeatureMlpGenerationModel[1][0]  \n",
      "                                                                 FeatureBERTGenerationModelTitle[1\n",
      "                                                                 FeatureBERTGenerationModelDescrip\n",
      "__________________________________________________________________________________________________\n",
      "concatenate_1 (Concatenate)     (None, 901)          0           input_label[0][0]                \n",
      "                                                                 merge_features_in[0][0]          \n",
      "==================================================================================================\n",
      "Total params: 161,659,772\n",
      "Trainable params: 1,187,596\n",
      "Non-trainable params: 160,472,176\n",
      "__________________________________________________________________________________________________\n",
      "Total of  100\n",
      "WARNING:tensorflow:From /usr/local/lib/python3.5/dist-packages/keras/backend/tensorflow_backend.py:986: The name tf.assign_add is deprecated. Please use tf.compat.v1.assign_add instead.\n",
      "\n",
      "WARNING:tensorflow:From /usr/local/lib/python3.5/dist-packages/keras/backend/tensorflow_backend.py:973: The name tf.assign is deprecated. Please use tf.compat.v1.assign instead.\n",
      "\n",
      "Epoch: 1 Loss: 0.55, Loss_test: 0.54\n",
      "Epoch: 2 Loss: 0.52, Loss_test: 0.53\n",
      "Epoch: 3 Loss: 0.46, Loss_test: 0.51\n",
      "Epoch: 4 Loss: 0.45, Loss_test: 0.50\n",
      "Epoch: 5 Loss: 0.60, Loss_test: 0.49\n",
      "Epoch: 6 Loss: 0.56, Loss_test: 0.47\n",
      "Epoch: 7 Loss: 0.46, Loss_test: 0.45\n",
      "Epoch: 8 Loss: 0.67, Loss_test: 0.43\n",
      "Epoch: 9 Loss: 0.35, Loss_test: 0.41\n",
      "=> result saved!\n",
      "Epoch: 10 Loss: 0.34, Loss_test: 0.39\n",
      "Epoch: 11 Loss: 0.38, Loss_test: 0.38\n",
      "Epoch: 12 Loss: 0.26, Loss_test: 0.38\n",
      "Epoch: 13 Loss: 0.39, Loss_test: 0.38\n",
      "Epoch: 14 Loss: 0.36, Loss_test: 0.36\n",
      "Epoch: 15 Loss: 0.45, Loss_test: 0.36\n",
      "Epoch: 16 Loss: 0.49, Loss_test: 0.34\n",
      "Epoch: 17 Loss: 0.32, Loss_test: 0.34\n",
      "Epoch: 18 Loss: 0.40, Loss_test: 0.34\n",
      "Epoch: 19 Loss: 0.35, Loss_test: 0.35\n",
      "=> result saved!\n",
      "Epoch: 20 Loss: 0.26, Loss_test: 0.34\n",
      "Epoch: 21 Loss: 0.43, Loss_test: 0.34\n",
      "Epoch: 22 Loss: 0.23, Loss_test: 0.31\n",
      "Epoch: 23 Loss: 0.31, Loss_test: 0.31\n",
      "Epoch: 24 Loss: 0.40, Loss_test: 0.32\n",
      "Epoch: 25 Loss: 0.40, Loss_test: 0.31\n",
      "Epoch: 26 Loss: 0.37, Loss_test: 0.31\n",
      "Epoch: 27 Loss: 0.33, Loss_test: 0.30\n",
      "Epoch: 28 Loss: 0.27, Loss_test: 0.29\n",
      "Epoch: 29 Loss: 0.27, Loss_test: 0.29\n"
     ]
    },
    {
     "name": "stdout",
     "output_type": "stream",
     "text": [
      "=> result saved!\n",
      "Epoch: 30 Loss: 0.38, Loss_test: 0.30\n",
      "Epoch: 31 Loss: 0.25, Loss_test: 0.29\n",
      "Epoch: 32 Loss: 0.30, Loss_test: 0.28\n",
      "Epoch: 33 Loss: 0.22, Loss_test: 0.28\n",
      "Epoch: 34 Loss: 0.43, Loss_test: 0.28\n",
      "Epoch: 35 Loss: 0.28, Loss_test: 0.28\n",
      "Epoch: 36 Loss: 0.16, Loss_test: 0.27\n",
      "Epoch: 37 Loss: 0.30, Loss_test: 0.27\n",
      "Epoch: 38 Loss: 0.28, Loss_test: 0.27\n",
      "Epoch: 39 Loss: 0.15, Loss_test: 0.26\n",
      "=> result saved!\n",
      "Epoch: 40 Loss: 0.37, Loss_test: 0.26\n",
      "Epoch: 41 Loss: 0.31, Loss_test: 0.25\n",
      "Epoch: 42 Loss: 0.18, Loss_test: 0.25\n",
      "Epoch: 43 Loss: 0.26, Loss_test: 0.25\n",
      "Epoch: 44 Loss: 0.25, Loss_test: 0.25\n",
      "Epoch: 45 Loss: 0.26, Loss_test: 0.25\n",
      "Epoch: 46 Loss: 0.21, Loss_test: 0.25\n",
      "Epoch: 47 Loss: 0.30, Loss_test: 0.25\n",
      "Epoch: 48 Loss: 0.26, Loss_test: 0.25\n",
      "Epoch: 49 Loss: 0.28, Loss_test: 0.25\n",
      "=> result saved!\n",
      "Epoch: 50 Loss: 0.28, Loss_test: 0.25\n",
      "Epoch: 51 Loss: 0.28, Loss_test: 0.24\n",
      "Epoch: 52 Loss: 0.22, Loss_test: 0.24\n",
      "Epoch: 53 Loss: 0.21, Loss_test: 0.23\n",
      "Epoch: 54 Loss: 0.24, Loss_test: 0.23\n",
      "Epoch: 55 Loss: 0.23, Loss_test: 0.22\n",
      "Epoch: 56 Loss: 0.27, Loss_test: 0.22\n",
      "Epoch: 57 Loss: 0.20, Loss_test: 0.22\n",
      "Epoch: 58 Loss: 0.31, Loss_test: 0.21\n",
      "Epoch: 59 Loss: 0.37, Loss_test: 0.21\n",
      "=> result saved!\n",
      "Epoch: 60 Loss: 0.23, Loss_test: 0.22\n",
      "Epoch: 61 Loss: 0.21, Loss_test: 0.21\n",
      "Epoch: 62 Loss: 0.23, Loss_test: 0.21\n",
      "Epoch: 63 Loss: 0.19, Loss_test: 0.20\n",
      "Epoch: 64 Loss: 0.24, Loss_test: 0.20\n",
      "Epoch: 65 Loss: 0.27, Loss_test: 0.20\n",
      "Epoch: 66 Loss: 0.26, Loss_test: 0.19\n",
      "Epoch: 67 Loss: 0.25, Loss_test: 0.19\n",
      "Epoch: 68 Loss: 0.28, Loss_test: 0.19\n",
      "Epoch: 69 Loss: 0.22, Loss_test: 0.19\n",
      "=> result saved!\n",
      "Epoch: 70 Loss: 0.23, Loss_test: 0.20\n",
      "Epoch: 71 Loss: 0.17, Loss_test: 0.19\n",
      "Epoch: 72 Loss: 0.20, Loss_test: 0.20\n",
      "Epoch: 73 Loss: 0.22, Loss_test: 0.20\n",
      "Epoch: 74 Loss: 0.18, Loss_test: 0.19\n",
      "Epoch: 75 Loss: 0.31, Loss_test: 0.19\n",
      "Epoch: 76 Loss: 0.34, Loss_test: 0.19\n",
      "Epoch: 77 Loss: 0.18, Loss_test: 0.19\n",
      "Epoch: 78 Loss: 0.18, Loss_test: 0.18\n",
      "Epoch: 79 Loss: 0.20, Loss_test: 0.19\n",
      "=> result saved!\n",
      "Epoch: 80 Loss: 0.13, Loss_test: 0.18\n",
      "Epoch: 81 Loss: 0.30, Loss_test: 0.18\n",
      "Epoch: 82 Loss: 0.25, Loss_test: 0.19\n",
      "Epoch: 83 Loss: 0.11, Loss_test: 0.18\n",
      "Epoch: 84 Loss: 0.14, Loss_test: 0.18\n",
      "Epoch: 85 Loss: 0.10, Loss_test: 0.18\n",
      "Epoch: 86 Loss: 0.21, Loss_test: 0.17\n",
      "Epoch: 87 Loss: 0.13, Loss_test: 0.17\n",
      "Epoch: 88 Loss: 0.23, Loss_test: 0.16\n",
      "Epoch: 89 Loss: 0.36, Loss_test: 0.16\n",
      "=> result saved!\n",
      "Epoch: 90 Loss: 0.15, Loss_test: 0.17\n",
      "Epoch: 91 Loss: 0.22, Loss_test: 0.17\n",
      "Epoch: 92 Loss: 0.17, Loss_test: 0.17\n",
      "Epoch: 93 Loss: 0.16, Loss_test: 0.17\n",
      "Epoch: 94 Loss: 0.26, Loss_test: 0.17\n",
      "Epoch: 95 Loss: 0.18, Loss_test: 0.17\n",
      "Epoch: 96 Loss: 0.24, Loss_test: 0.16\n",
      "Epoch: 97 Loss: 0.15, Loss_test: 0.17\n",
      "Epoch: 98 Loss: 0.13, Loss_test: 0.17\n",
      "Epoch: 99 Loss: 0.17, Loss_test: 0.17\n",
      "=> result saved!\n",
      "Epoch: 100 Loss: 0.12, Loss_test: 0.17, recall@25: 0.48\n",
      "Best_epoch=85, Best_loss=0.10, Recall@25=0.48\n"
     ]
    }
   ],
   "source": [
    "# %%time\n",
    "import keras\n",
    "\n",
    "# Inspired on https://'pastebin.com/TaGFdcBA\n",
    "# TODO: https://stackoverflow.com/questions/49941903/keras-compute-cosine-distance-between-two-flattened-outputs\n",
    "keras.backend.clear_session()\n",
    "\n",
    "# Clear GPU memory\n",
    "# from numba import cuda\n",
    "# cuda.select_device(0)\n",
    "# cuda.close()\n",
    "\n",
    "# Feature models\n",
    "'''\n",
    "    cnn_model\n",
    "    lstm_model\n",
    "    mlp_model\n",
    "'''\n",
    "title_feature_model = bert_model(MAX_SEQUENCE_LENGTH_T, 'Title')\n",
    "desc_feature_model = bert_model(MAX_SEQUENCE_LENGTH_D, 'Description')\n",
    "categorical_feature_model = mlp_model(number_of_columns_info)\n",
    "\n",
    "# Similarity model\n",
    "encoded_anchor = siamese_model(title_feature_model, desc_feature_model, categorical_feature_model, \n",
    "                                     number_of_columns_info, MAX_SEQUENCE_LENGTH_T, MAX_SEQUENCE_LENGTH_D, 'in')\n",
    "\n",
    "similarity_model = max_margin_objective(encoded_anchor, decay_lr=1)\n",
    "\n",
    "# cnn_feature_model.summary()\n",
    "# lstm_feature_model.summary()\n",
    "similarity_model.summary()\n",
    "\n",
    "'''\n",
    "    Experiment\n",
    "'''\n",
    "result = { 'train' : [], 'test' : [] }\n",
    "print(\"Total of \", limit_train)\n",
    "for epoch in range(limit_train):\n",
    "    batch_triplet_train, \\\n",
    "        train_input_sample, train_sim = batch_iterator(baseline, retrieval, encoded_anchor, baseline.train_data, \n",
    "                                                       baseline.dup_sets_train, bug_train_ids, \n",
    "                                                           batch_size, 1, issues_by_buckets, TRIPLET_HARD=False)\n",
    "    train_batch = [train_input_sample['title']['token'], train_input_sample['title']['segment'], \n",
    "                   train_input_sample['description']['token'], train_input_sample['description']['segment'],\n",
    "                   train_input_sample['info'], train_sim]\n",
    "    \n",
    "#     if epoch == 10:\n",
    "#         similarity_model = max_margin_objective(encoded_anchor, encoded_positive, encoded_negative, decay_lr=0.1)\n",
    "    \n",
    "    h = similarity_model.train_on_batch(x=train_batch, y=train_sim)\n",
    "    h_validation = similarity_model.test_on_batch(x=validation_sample, y=valid_sim)\n",
    "    \n",
    "    # save results\n",
    "    result['train'].append([h])\n",
    "    result['test'].append([h_validation])\n",
    "    \n",
    "    if( (epoch+1) % 10 == 0 or (epoch+1 == limit_train) ):\n",
    "        save_loss(result)\n",
    "    \n",
    "    if (epoch+1 == limit_train): #(epoch > 1 and epoch % 10 == 0) or (epoch+1 == epochs):\n",
    "        recall, exported_rank, debug = experiment.evaluate_validation_test(retrieval, verbose, encoded_anchor, issues_by_buckets, \n",
    "                                                               bug_train_ids, method='bert')\n",
    "        print(\"Epoch: {} Loss: {:.2f}, Loss_test: {:.2f}, recall@25: {:.2f}\".format(epoch+1, h, h_validation, recall))\n",
    "    else:\n",
    "        print(\"Epoch: {} Loss: {:.2f}, Loss_test: {:.2f}\".format(epoch+1, h, h_validation))\n",
    "    loss = h\n",
    "    \n",
    "    if loss < best_loss:\n",
    "        best_loss = loss\n",
    "        best_epoch = epoch+1\n",
    "\n",
    "#experiment.save_model(similarity_model, SAVE_PATH.replace('@number_of_epochs@', str(epochs)))\n",
    "#experiment.save_model(encoded_anchor, SAVE_PATH_FEATURE.replace('@number_of_epochs@', str(epochs)), verbose=1)\n",
    "print('Best_epoch={}, Best_loss={:.2f}, Recall@25={:.2f}'.format(best_epoch, best_loss, recall))"
   ]
  },
  {
   "cell_type": "code",
   "execution_count": 40,
   "metadata": {},
   "outputs": [
    {
     "data": {
      "text/plain": [
       "'data/processed/eclipse/bert/exported_rank_deepTL_100.txt'"
      ]
     },
     "execution_count": 40,
     "metadata": {},
     "output_type": "execute_result"
    }
   ],
   "source": [
    "EXPORT_RANK_PATH = os.path.join(DIR, 'exported_rank_{}.txt'.format(METHOD))\n",
    "EXPORT_RANK_PATH"
   ]
  },
  {
   "cell_type": "code",
   "execution_count": 41,
   "metadata": {},
   "outputs": [],
   "source": [
    "with open(EXPORT_RANK_PATH, 'w') as file_out:\n",
    "    for row in exported_rank:\n",
    "        file_out.write(row + \"\\n\")"
   ]
  },
  {
   "cell_type": "code",
   "execution_count": 42,
   "metadata": {},
   "outputs": [
    {
     "name": "stdout",
     "output_type": "stream",
     "text": [
      "Saved model 'modelos/model_bert_preprocessing_deepTL_100_feature_100epochs_64batch(eclipse).h5' to disk\n"
     ]
    }
   ],
   "source": [
    "experiment.save_model(similarity_model, SAVE_PATH.replace('@number_of_epochs@', str(limit_train)))\n",
    "experiment.save_model(encoded_anchor, SAVE_PATH_FEATURE.replace('@number_of_epochs@', str(limit_train)), verbose=1)"
   ]
  },
  {
   "cell_type": "code",
   "execution_count": 43,
   "metadata": {},
   "outputs": [
    {
     "data": {
      "text/plain": [
       "(100, 100)"
      ]
     },
     "execution_count": 43,
     "metadata": {},
     "output_type": "execute_result"
    }
   ],
   "source": [
    "len(result['train']), len(result['test'])"
   ]
  },
  {
   "cell_type": "code",
   "execution_count": 44,
   "metadata": {},
   "outputs": [
    {
     "name": "stdout",
     "output_type": "stream",
     "text": [
      "__________________________________________________________________________________________________\n",
      "Layer (type)                    Output Shape         Param #     Connected to                     \n",
      "==================================================================================================\n",
      "info_in (InputLayer)            (None, 1682)         0                                            \n",
      "__________________________________________________________________________________________________\n",
      "title_token_in (InputLayer)     (None, 20)           0                                            \n",
      "__________________________________________________________________________________________________\n",
      "title_segment_in (InputLayer)   (None, 20)           0                                            \n",
      "__________________________________________________________________________________________________\n",
      "desc_token_in (InputLayer)      (None, 20)           0                                            \n",
      "__________________________________________________________________________________________________\n",
      "desc_segment_in (InputLayer)    (None, 20)           0                                            \n",
      "__________________________________________________________________________________________________\n",
      "FeatureMlpGenerationModel (Mode (None, 300)          504900      info_in[0][0]                    \n",
      "__________________________________________________________________________________________________\n",
      "FeatureBERTGenerationModelTitle (None, 300)          80577436    title_token_in[0][0]             \n",
      "                                                                 title_segment_in[0][0]           \n",
      "__________________________________________________________________________________________________\n",
      "FeatureBERTGenerationModelDescr (None, 300)          80577436    desc_token_in[0][0]              \n",
      "                                                                 desc_segment_in[0][0]            \n",
      "__________________________________________________________________________________________________\n",
      "input_label (InputLayer)        (None, 1)            0                                            \n",
      "__________________________________________________________________________________________________\n",
      "merge_features_in (Concatenate) (None, 900)          0           FeatureMlpGenerationModel[1][0]  \n",
      "                                                                 FeatureBERTGenerationModelTitle[1\n",
      "                                                                 FeatureBERTGenerationModelDescrip\n",
      "__________________________________________________________________________________________________\n",
      "concatenate_1 (Concatenate)     (None, 901)          0           input_label[0][0]                \n",
      "                                                                 merge_features_in[0][0]          \n",
      "==================================================================================================\n",
      "Total params: 161,659,772\n",
      "Trainable params: 1,187,596\n",
      "Non-trainable params: 160,472,176\n",
      "__________________________________________________________________________________________________\n"
     ]
    }
   ],
   "source": [
    "model = similarity_model.get_layer('concatenate_1')\n",
    "output = model.output\n",
    "inputs = similarity_model.inputs\n",
    "model = Model(inputs = inputs, outputs = output, name = 'Similarity_Model')\n",
    "\n",
    "# setup the optimization process \n",
    "model.compile(optimizer='adam', loss=quintet_loss)\n",
    "model.summary()"
   ]
  },
  {
   "cell_type": "code",
   "execution_count": 45,
   "metadata": {},
   "outputs": [],
   "source": [
    "# Domain to use\n",
    "METHOD = 'deepTL_{}'.format(epochs)\n",
    "SAVE_PATH = '{}_preprocessing_{}_feature@number_of_epochs@epochs_64batch({})'.format(PREPROCESSING, METHOD, DOMAIN)\n",
    "SAVE_PATH_FEATURE = '{}_preprocessing_{}_feature_@number_of_epochs@epochs_64batch({})'.format(PREPROCESSING, METHOD, DOMAIN)"
   ]
  },
  {
   "cell_type": "code",
   "execution_count": 46,
   "metadata": {
    "scrolled": true
   },
   "outputs": [
    {
     "name": "stdout",
     "output_type": "stream",
     "text": [
      "Epoch: 101 Loss: 0.17, Loss_test: 0.16\n",
      "Epoch: 102 Loss: 0.23, Loss_test: 0.16\n",
      "Epoch: 103 Loss: 0.22, Loss_test: 0.17\n",
      "Epoch: 104 Loss: 0.24, Loss_test: 0.18\n",
      "Epoch: 105 Loss: 0.21, Loss_test: 0.17\n",
      "Epoch: 106 Loss: 0.17, Loss_test: 0.16\n",
      "Epoch: 107 Loss: 0.17, Loss_test: 0.17\n",
      "Epoch: 108 Loss: 0.14, Loss_test: 0.16\n",
      "Epoch: 109 Loss: 0.20, Loss_test: 0.16\n",
      "=> result saved!\n",
      "Epoch: 110 Loss: 0.15, Loss_test: 0.16\n",
      "Epoch: 111 Loss: 0.20, Loss_test: 0.17\n",
      "Epoch: 112 Loss: 0.27, Loss_test: 0.16\n",
      "Epoch: 113 Loss: 0.17, Loss_test: 0.16\n",
      "Epoch: 114 Loss: 0.18, Loss_test: 0.15\n",
      "Epoch: 115 Loss: 0.14, Loss_test: 0.15\n",
      "Epoch: 116 Loss: 0.14, Loss_test: 0.15\n",
      "Epoch: 117 Loss: 0.15, Loss_test: 0.15\n",
      "Epoch: 118 Loss: 0.14, Loss_test: 0.15\n",
      "Epoch: 119 Loss: 0.27, Loss_test: 0.15\n",
      "=> result saved!\n",
      "Epoch: 120 Loss: 0.13, Loss_test: 0.15\n",
      "Epoch: 121 Loss: 0.15, Loss_test: 0.14\n",
      "Epoch: 122 Loss: 0.20, Loss_test: 0.15\n",
      "Epoch: 123 Loss: 0.15, Loss_test: 0.14\n",
      "Epoch: 124 Loss: 0.13, Loss_test: 0.14\n",
      "Epoch: 125 Loss: 0.17, Loss_test: 0.14\n",
      "Epoch: 126 Loss: 0.11, Loss_test: 0.14\n",
      "Epoch: 127 Loss: 0.14, Loss_test: 0.14\n",
      "Epoch: 128 Loss: 0.15, Loss_test: 0.14\n",
      "Epoch: 129 Loss: 0.25, Loss_test: 0.14\n",
      "=> result saved!\n",
      "Epoch: 130 Loss: 0.24, Loss_test: 0.14\n",
      "Epoch: 131 Loss: 0.25, Loss_test: 0.14\n",
      "Epoch: 132 Loss: 0.12, Loss_test: 0.14\n",
      "Epoch: 133 Loss: 0.11, Loss_test: 0.14\n",
      "Epoch: 134 Loss: 0.17, Loss_test: 0.14\n",
      "Epoch: 135 Loss: 0.12, Loss_test: 0.13\n",
      "Epoch: 136 Loss: 0.06, Loss_test: 0.13\n",
      "Epoch: 137 Loss: 0.18, Loss_test: 0.12\n",
      "Epoch: 138 Loss: 0.11, Loss_test: 0.13\n",
      "Epoch: 139 Loss: 0.12, Loss_test: 0.13\n",
      "=> result saved!\n",
      "Epoch: 140 Loss: 0.10, Loss_test: 0.12\n",
      "Epoch: 141 Loss: 0.10, Loss_test: 0.12\n",
      "Epoch: 142 Loss: 0.09, Loss_test: 0.12\n",
      "Epoch: 143 Loss: 0.09, Loss_test: 0.12\n",
      "Epoch: 144 Loss: 0.14, Loss_test: 0.12\n",
      "Epoch: 145 Loss: 0.19, Loss_test: 0.12\n",
      "Epoch: 146 Loss: 0.14, Loss_test: 0.12\n",
      "Epoch: 147 Loss: 0.13, Loss_test: 0.12\n",
      "Epoch: 148 Loss: 0.14, Loss_test: 0.12\n",
      "Epoch: 149 Loss: 0.13, Loss_test: 0.12\n",
      "=> result saved!\n",
      "Epoch: 150 Loss: 0.12, Loss_test: 0.12\n",
      "Epoch: 151 Loss: 0.11, Loss_test: 0.12\n",
      "Epoch: 152 Loss: 0.09, Loss_test: 0.12\n",
      "Epoch: 153 Loss: 0.12, Loss_test: 0.12\n",
      "Epoch: 154 Loss: 0.20, Loss_test: 0.12\n",
      "Epoch: 155 Loss: 0.11, Loss_test: 0.11\n",
      "Epoch: 156 Loss: 0.13, Loss_test: 0.11\n",
      "Epoch: 157 Loss: 0.16, Loss_test: 0.11\n",
      "Epoch: 158 Loss: 0.09, Loss_test: 0.11\n",
      "Epoch: 159 Loss: 0.14, Loss_test: 0.11\n",
      "=> result saved!\n",
      "Epoch: 160 Loss: 0.22, Loss_test: 0.10\n",
      "Epoch: 161 Loss: 0.18, Loss_test: 0.10\n",
      "Epoch: 162 Loss: 0.17, Loss_test: 0.10\n",
      "Epoch: 163 Loss: 0.10, Loss_test: 0.10\n",
      "Epoch: 164 Loss: 0.17, Loss_test: 0.09\n",
      "Epoch: 165 Loss: 0.13, Loss_test: 0.09\n",
      "Epoch: 166 Loss: 0.15, Loss_test: 0.09\n",
      "Epoch: 167 Loss: 0.15, Loss_test: 0.09\n",
      "Epoch: 168 Loss: 0.12, Loss_test: 0.09\n",
      "Epoch: 169 Loss: 0.09, Loss_test: 0.09\n",
      "=> result saved!\n",
      "Epoch: 170 Loss: 0.13, Loss_test: 0.09\n",
      "Epoch: 171 Loss: 0.13, Loss_test: 0.09\n",
      "Epoch: 172 Loss: 0.11, Loss_test: 0.09\n",
      "Epoch: 173 Loss: 0.15, Loss_test: 0.09\n",
      "Epoch: 174 Loss: 0.16, Loss_test: 0.09\n",
      "Epoch: 175 Loss: 0.12, Loss_test: 0.09\n",
      "Epoch: 176 Loss: 0.06, Loss_test: 0.09\n",
      "Epoch: 177 Loss: 0.15, Loss_test: 0.09\n",
      "Epoch: 178 Loss: 0.09, Loss_test: 0.10\n",
      "Epoch: 179 Loss: 0.11, Loss_test: 0.09\n",
      "=> result saved!\n",
      "Epoch: 180 Loss: 0.15, Loss_test: 0.10\n",
      "Epoch: 181 Loss: 0.13, Loss_test: 0.09\n",
      "Epoch: 182 Loss: 0.09, Loss_test: 0.09\n",
      "Epoch: 183 Loss: 0.12, Loss_test: 0.09\n",
      "Epoch: 184 Loss: 0.12, Loss_test: 0.08\n",
      "Epoch: 185 Loss: 0.09, Loss_test: 0.08\n",
      "Epoch: 186 Loss: 0.20, Loss_test: 0.08\n",
      "Epoch: 187 Loss: 0.11, Loss_test: 0.08\n",
      "Epoch: 188 Loss: 0.18, Loss_test: 0.08\n",
      "Epoch: 189 Loss: 0.08, Loss_test: 0.08\n",
      "=> result saved!\n",
      "Epoch: 190 Loss: 0.13, Loss_test: 0.08\n",
      "Epoch: 191 Loss: 0.07, Loss_test: 0.08\n",
      "Epoch: 192 Loss: 0.12, Loss_test: 0.08\n",
      "Epoch: 193 Loss: 0.10, Loss_test: 0.08\n",
      "Epoch: 194 Loss: 0.08, Loss_test: 0.09\n",
      "Epoch: 195 Loss: 0.21, Loss_test: 0.09\n",
      "Epoch: 196 Loss: 0.12, Loss_test: 0.09\n",
      "Epoch: 197 Loss: 0.08, Loss_test: 0.09\n",
      "Epoch: 198 Loss: 0.10, Loss_test: 0.08\n",
      "Epoch: 199 Loss: 0.14, Loss_test: 0.08\n",
      "=> result saved!\n",
      "Epoch: 200 Loss: 0.09, Loss_test: 0.08\n",
      "Epoch: 201 Loss: 0.09, Loss_test: 0.08\n",
      "Epoch: 202 Loss: 0.10, Loss_test: 0.08\n",
      "Epoch: 203 Loss: 0.11, Loss_test: 0.08\n",
      "Epoch: 204 Loss: 0.12, Loss_test: 0.08\n",
      "Epoch: 205 Loss: 0.11, Loss_test: 0.08\n",
      "Epoch: 206 Loss: 0.07, Loss_test: 0.08\n",
      "Epoch: 207 Loss: 0.08, Loss_test: 0.08\n",
      "Epoch: 208 Loss: 0.07, Loss_test: 0.09\n",
      "Epoch: 209 Loss: 0.16, Loss_test: 0.09\n",
      "=> result saved!\n",
      "Epoch: 210 Loss: 0.16, Loss_test: 0.09\n",
      "Epoch: 211 Loss: 0.09, Loss_test: 0.09\n",
      "Epoch: 212 Loss: 0.11, Loss_test: 0.09\n",
      "Epoch: 213 Loss: 0.13, Loss_test: 0.10\n",
      "Epoch: 214 Loss: 0.18, Loss_test: 0.09\n",
      "Epoch: 215 Loss: 0.15, Loss_test: 0.09\n",
      "Epoch: 216 Loss: 0.11, Loss_test: 0.09\n",
      "Epoch: 217 Loss: 0.08, Loss_test: 0.09\n",
      "Epoch: 218 Loss: 0.11, Loss_test: 0.09\n",
      "Epoch: 219 Loss: 0.10, Loss_test: 0.09\n",
      "=> result saved!\n",
      "Epoch: 220 Loss: 0.09, Loss_test: 0.09\n",
      "Epoch: 221 Loss: 0.10, Loss_test: 0.09\n",
      "Epoch: 222 Loss: 0.09, Loss_test: 0.09\n",
      "Epoch: 223 Loss: 0.07, Loss_test: 0.09\n",
      "Epoch: 224 Loss: 0.18, Loss_test: 0.09\n",
      "Epoch: 225 Loss: 0.09, Loss_test: 0.09\n",
      "Epoch: 226 Loss: 0.08, Loss_test: 0.09\n",
      "Epoch: 227 Loss: 0.14, Loss_test: 0.09\n",
      "Epoch: 228 Loss: 0.09, Loss_test: 0.09\n",
      "Epoch: 229 Loss: 0.16, Loss_test: 0.09\n",
      "=> result saved!\n",
      "Epoch: 230 Loss: 0.16, Loss_test: 0.09\n",
      "Epoch: 231 Loss: 0.13, Loss_test: 0.09\n",
      "Epoch: 232 Loss: 0.09, Loss_test: 0.09\n",
      "Epoch: 233 Loss: 0.17, Loss_test: 0.10\n",
      "Epoch: 234 Loss: 0.06, Loss_test: 0.09\n",
      "Epoch: 235 Loss: 0.06, Loss_test: 0.09\n",
      "Epoch: 236 Loss: 0.11, Loss_test: 0.09\n",
      "Epoch: 237 Loss: 0.11, Loss_test: 0.09\n",
      "Epoch: 238 Loss: 0.09, Loss_test: 0.08\n",
      "Epoch: 239 Loss: 0.05, Loss_test: 0.08\n",
      "=> result saved!\n",
      "Epoch: 240 Loss: 0.05, Loss_test: 0.08\n",
      "Epoch: 241 Loss: 0.04, Loss_test: 0.08\n",
      "Epoch: 242 Loss: 0.10, Loss_test: 0.08\n",
      "Epoch: 243 Loss: 0.05, Loss_test: 0.08\n",
      "Epoch: 244 Loss: 0.07, Loss_test: 0.08\n",
      "Epoch: 245 Loss: 0.10, Loss_test: 0.08\n",
      "Epoch: 246 Loss: 0.10, Loss_test: 0.08\n",
      "Epoch: 247 Loss: 0.07, Loss_test: 0.08\n",
      "Epoch: 248 Loss: 0.17, Loss_test: 0.08\n",
      "Epoch: 249 Loss: 0.06, Loss_test: 0.08\n",
      "=> result saved!\n",
      "Epoch: 250 Loss: 0.06, Loss_test: 0.08\n",
      "Epoch: 251 Loss: 0.08, Loss_test: 0.08\n",
      "Epoch: 252 Loss: 0.11, Loss_test: 0.08\n",
      "Epoch: 253 Loss: 0.05, Loss_test: 0.07\n",
      "Epoch: 254 Loss: 0.11, Loss_test: 0.07\n",
      "Epoch: 255 Loss: 0.11, Loss_test: 0.07\n",
      "Epoch: 256 Loss: 0.15, Loss_test: 0.07\n",
      "Epoch: 257 Loss: 0.11, Loss_test: 0.07\n",
      "Epoch: 258 Loss: 0.12, Loss_test: 0.08\n",
      "Epoch: 259 Loss: 0.05, Loss_test: 0.08\n",
      "=> result saved!\n",
      "Epoch: 260 Loss: 0.06, Loss_test: 0.07\n",
      "Epoch: 261 Loss: 0.11, Loss_test: 0.08\n",
      "Epoch: 262 Loss: 0.07, Loss_test: 0.08\n",
      "Epoch: 263 Loss: 0.05, Loss_test: 0.08\n",
      "Epoch: 264 Loss: 0.07, Loss_test: 0.07\n",
      "Epoch: 265 Loss: 0.07, Loss_test: 0.08\n",
      "Epoch: 266 Loss: 0.10, Loss_test: 0.08\n",
      "Epoch: 267 Loss: 0.08, Loss_test: 0.08\n",
      "Epoch: 268 Loss: 0.13, Loss_test: 0.08\n",
      "Epoch: 269 Loss: 0.18, Loss_test: 0.08\n",
      "=> result saved!\n",
      "Epoch: 270 Loss: 0.09, Loss_test: 0.08\n",
      "Epoch: 271 Loss: 0.11, Loss_test: 0.07\n",
      "Epoch: 272 Loss: 0.17, Loss_test: 0.07\n",
      "Epoch: 273 Loss: 0.12, Loss_test: 0.07\n",
      "Epoch: 274 Loss: 0.11, Loss_test: 0.07\n",
      "Epoch: 275 Loss: 0.04, Loss_test: 0.07\n",
      "Epoch: 276 Loss: 0.13, Loss_test: 0.07\n",
      "Epoch: 277 Loss: 0.08, Loss_test: 0.07\n",
      "Epoch: 278 Loss: 0.08, Loss_test: 0.07\n",
      "Epoch: 279 Loss: 0.12, Loss_test: 0.07\n",
      "=> result saved!\n",
      "Epoch: 280 Loss: 0.18, Loss_test: 0.07\n",
      "Epoch: 281 Loss: 0.08, Loss_test: 0.08\n",
      "Epoch: 282 Loss: 0.12, Loss_test: 0.08\n",
      "Epoch: 283 Loss: 0.08, Loss_test: 0.08\n",
      "Epoch: 284 Loss: 0.14, Loss_test: 0.08\n",
      "Epoch: 285 Loss: 0.08, Loss_test: 0.07\n",
      "Epoch: 286 Loss: 0.09, Loss_test: 0.08\n",
      "Epoch: 287 Loss: 0.11, Loss_test: 0.08\n",
      "Epoch: 288 Loss: 0.04, Loss_test: 0.08\n",
      "Epoch: 289 Loss: 0.07, Loss_test: 0.07\n",
      "=> result saved!\n",
      "Epoch: 290 Loss: 0.04, Loss_test: 0.07\n",
      "Epoch: 291 Loss: 0.10, Loss_test: 0.07\n",
      "Epoch: 292 Loss: 0.07, Loss_test: 0.07\n",
      "Epoch: 293 Loss: 0.07, Loss_test: 0.07\n",
      "Epoch: 294 Loss: 0.10, Loss_test: 0.07\n",
      "Epoch: 295 Loss: 0.13, Loss_test: 0.07\n",
      "Epoch: 296 Loss: 0.10, Loss_test: 0.07\n",
      "Epoch: 297 Loss: 0.06, Loss_test: 0.07\n",
      "Epoch: 298 Loss: 0.10, Loss_test: 0.07\n",
      "Epoch: 299 Loss: 0.05, Loss_test: 0.07\n",
      "=> result saved!\n",
      "Epoch: 300 Loss: 0.05, Loss_test: 0.07\n",
      "Epoch: 301 Loss: 0.07, Loss_test: 0.07\n",
      "Epoch: 302 Loss: 0.09, Loss_test: 0.06\n"
     ]
    },
    {
     "name": "stdout",
     "output_type": "stream",
     "text": [
      "Epoch: 303 Loss: 0.11, Loss_test: 0.06\n",
      "Epoch: 304 Loss: 0.09, Loss_test: 0.06\n",
      "Epoch: 305 Loss: 0.07, Loss_test: 0.06\n",
      "Epoch: 306 Loss: 0.04, Loss_test: 0.06\n",
      "Epoch: 307 Loss: 0.05, Loss_test: 0.06\n",
      "Epoch: 308 Loss: 0.03, Loss_test: 0.06\n",
      "Epoch: 309 Loss: 0.04, Loss_test: 0.07\n",
      "=> result saved!\n",
      "Epoch: 310 Loss: 0.08, Loss_test: 0.07\n",
      "Epoch: 311 Loss: 0.08, Loss_test: 0.07\n",
      "Epoch: 312 Loss: 0.10, Loss_test: 0.06\n",
      "Epoch: 313 Loss: 0.11, Loss_test: 0.06\n",
      "Epoch: 314 Loss: 0.09, Loss_test: 0.06\n",
      "Epoch: 315 Loss: 0.05, Loss_test: 0.06\n",
      "Epoch: 316 Loss: 0.11, Loss_test: 0.06\n",
      "Epoch: 317 Loss: 0.15, Loss_test: 0.06\n",
      "Epoch: 318 Loss: 0.07, Loss_test: 0.06\n",
      "Epoch: 319 Loss: 0.08, Loss_test: 0.06\n",
      "=> result saved!\n",
      "Epoch: 320 Loss: 0.03, Loss_test: 0.06\n",
      "Epoch: 321 Loss: 0.06, Loss_test: 0.06\n",
      "Epoch: 322 Loss: 0.06, Loss_test: 0.06\n",
      "Epoch: 323 Loss: 0.06, Loss_test: 0.06\n",
      "Epoch: 324 Loss: 0.06, Loss_test: 0.06\n",
      "Epoch: 325 Loss: 0.07, Loss_test: 0.06\n",
      "Epoch: 326 Loss: 0.14, Loss_test: 0.06\n",
      "Epoch: 327 Loss: 0.04, Loss_test: 0.06\n",
      "Epoch: 328 Loss: 0.08, Loss_test: 0.06\n",
      "Epoch: 329 Loss: 0.10, Loss_test: 0.06\n",
      "=> result saved!\n",
      "Epoch: 330 Loss: 0.05, Loss_test: 0.06\n",
      "Epoch: 331 Loss: 0.15, Loss_test: 0.06\n",
      "Epoch: 332 Loss: 0.07, Loss_test: 0.06\n",
      "Epoch: 333 Loss: 0.08, Loss_test: 0.06\n",
      "Epoch: 334 Loss: 0.09, Loss_test: 0.06\n",
      "Epoch: 335 Loss: 0.09, Loss_test: 0.07\n",
      "Epoch: 336 Loss: 0.06, Loss_test: 0.07\n",
      "Epoch: 337 Loss: 0.10, Loss_test: 0.06\n",
      "Epoch: 338 Loss: 0.12, Loss_test: 0.06\n",
      "Epoch: 339 Loss: 0.09, Loss_test: 0.06\n",
      "=> result saved!\n",
      "Epoch: 340 Loss: 0.10, Loss_test: 0.06\n",
      "Epoch: 341 Loss: 0.11, Loss_test: 0.06\n",
      "Epoch: 342 Loss: 0.04, Loss_test: 0.06\n",
      "Epoch: 343 Loss: 0.08, Loss_test: 0.06\n",
      "Epoch: 344 Loss: 0.14, Loss_test: 0.06\n",
      "Epoch: 345 Loss: 0.09, Loss_test: 0.06\n",
      "Epoch: 346 Loss: 0.04, Loss_test: 0.06\n",
      "Epoch: 347 Loss: 0.05, Loss_test: 0.06\n",
      "Epoch: 348 Loss: 0.09, Loss_test: 0.06\n",
      "Epoch: 349 Loss: 0.07, Loss_test: 0.06\n",
      "=> result saved!\n",
      "Epoch: 350 Loss: 0.06, Loss_test: 0.06\n",
      "Epoch: 351 Loss: 0.10, Loss_test: 0.06\n",
      "Epoch: 352 Loss: 0.07, Loss_test: 0.06\n",
      "Epoch: 353 Loss: 0.05, Loss_test: 0.05\n",
      "Epoch: 354 Loss: 0.18, Loss_test: 0.05\n",
      "Epoch: 355 Loss: 0.06, Loss_test: 0.05\n",
      "Epoch: 356 Loss: 0.05, Loss_test: 0.05\n",
      "Epoch: 357 Loss: 0.04, Loss_test: 0.05\n",
      "Epoch: 358 Loss: 0.04, Loss_test: 0.05\n",
      "Epoch: 359 Loss: 0.10, Loss_test: 0.05\n",
      "=> result saved!\n",
      "Epoch: 360 Loss: 0.11, Loss_test: 0.05\n",
      "Epoch: 361 Loss: 0.12, Loss_test: 0.05\n",
      "Epoch: 362 Loss: 0.08, Loss_test: 0.05\n",
      "Epoch: 363 Loss: 0.06, Loss_test: 0.05\n",
      "Epoch: 364 Loss: 0.07, Loss_test: 0.06\n",
      "Epoch: 365 Loss: 0.07, Loss_test: 0.06\n",
      "Epoch: 366 Loss: 0.09, Loss_test: 0.06\n",
      "Epoch: 367 Loss: 0.04, Loss_test: 0.06\n",
      "Epoch: 368 Loss: 0.10, Loss_test: 0.06\n",
      "Epoch: 369 Loss: 0.09, Loss_test: 0.06\n",
      "=> result saved!\n",
      "Epoch: 370 Loss: 0.04, Loss_test: 0.06\n",
      "Epoch: 371 Loss: 0.09, Loss_test: 0.06\n",
      "Epoch: 372 Loss: 0.05, Loss_test: 0.06\n",
      "Epoch: 373 Loss: 0.06, Loss_test: 0.06\n",
      "Epoch: 374 Loss: 0.08, Loss_test: 0.06\n",
      "Epoch: 375 Loss: 0.04, Loss_test: 0.06\n",
      "Epoch: 376 Loss: 0.05, Loss_test: 0.06\n",
      "Epoch: 377 Loss: 0.06, Loss_test: 0.06\n",
      "Epoch: 378 Loss: 0.08, Loss_test: 0.06\n",
      "Epoch: 379 Loss: 0.11, Loss_test: 0.06\n",
      "=> result saved!\n",
      "Epoch: 380 Loss: 0.07, Loss_test: 0.06\n",
      "Epoch: 381 Loss: 0.13, Loss_test: 0.06\n",
      "Epoch: 382 Loss: 0.09, Loss_test: 0.06\n",
      "Epoch: 383 Loss: 0.09, Loss_test: 0.06\n",
      "Epoch: 384 Loss: 0.02, Loss_test: 0.06\n",
      "Epoch: 385 Loss: 0.07, Loss_test: 0.06\n",
      "Epoch: 386 Loss: 0.08, Loss_test: 0.06\n",
      "Epoch: 387 Loss: 0.07, Loss_test: 0.06\n",
      "Epoch: 388 Loss: 0.09, Loss_test: 0.06\n",
      "Epoch: 389 Loss: 0.06, Loss_test: 0.06\n",
      "=> result saved!\n",
      "Epoch: 390 Loss: 0.08, Loss_test: 0.06\n",
      "Epoch: 391 Loss: 0.08, Loss_test: 0.06\n",
      "Epoch: 392 Loss: 0.10, Loss_test: 0.06\n",
      "Epoch: 393 Loss: 0.09, Loss_test: 0.06\n",
      "Epoch: 394 Loss: 0.10, Loss_test: 0.06\n",
      "Epoch: 395 Loss: 0.08, Loss_test: 0.06\n",
      "Epoch: 396 Loss: 0.09, Loss_test: 0.06\n",
      "Epoch: 397 Loss: 0.05, Loss_test: 0.06\n",
      "Epoch: 398 Loss: 0.07, Loss_test: 0.06\n",
      "Epoch: 399 Loss: 0.07, Loss_test: 0.05\n",
      "=> result saved!\n",
      "Epoch: 400 Loss: 0.15, Loss_test: 0.05\n",
      "Epoch: 401 Loss: 0.08, Loss_test: 0.05\n",
      "Epoch: 402 Loss: 0.08, Loss_test: 0.05\n",
      "Epoch: 403 Loss: 0.06, Loss_test: 0.05\n",
      "Epoch: 404 Loss: 0.05, Loss_test: 0.05\n",
      "Epoch: 405 Loss: 0.07, Loss_test: 0.05\n",
      "Epoch: 406 Loss: 0.05, Loss_test: 0.05\n",
      "Epoch: 407 Loss: 0.10, Loss_test: 0.05\n",
      "Epoch: 408 Loss: 0.05, Loss_test: 0.05\n",
      "Epoch: 409 Loss: 0.10, Loss_test: 0.05\n",
      "=> result saved!\n",
      "Epoch: 410 Loss: 0.08, Loss_test: 0.05\n",
      "Epoch: 411 Loss: 0.06, Loss_test: 0.05\n",
      "Epoch: 412 Loss: 0.05, Loss_test: 0.06\n",
      "Epoch: 413 Loss: 0.05, Loss_test: 0.05\n",
      "Epoch: 414 Loss: 0.04, Loss_test: 0.05\n",
      "Epoch: 415 Loss: 0.05, Loss_test: 0.05\n",
      "Epoch: 416 Loss: 0.06, Loss_test: 0.05\n",
      "Epoch: 417 Loss: 0.07, Loss_test: 0.05\n",
      "Epoch: 418 Loss: 0.09, Loss_test: 0.05\n",
      "Epoch: 419 Loss: 0.06, Loss_test: 0.05\n",
      "=> result saved!\n",
      "Epoch: 420 Loss: 0.11, Loss_test: 0.05\n",
      "Epoch: 421 Loss: 0.07, Loss_test: 0.05\n",
      "Epoch: 422 Loss: 0.04, Loss_test: 0.05\n",
      "Epoch: 423 Loss: 0.14, Loss_test: 0.05\n",
      "Epoch: 424 Loss: 0.15, Loss_test: 0.05\n",
      "Epoch: 425 Loss: 0.02, Loss_test: 0.05\n",
      "Epoch: 426 Loss: 0.12, Loss_test: 0.05\n",
      "Epoch: 427 Loss: 0.10, Loss_test: 0.05\n",
      "Epoch: 428 Loss: 0.03, Loss_test: 0.05\n",
      "Epoch: 429 Loss: 0.09, Loss_test: 0.05\n",
      "=> result saved!\n",
      "Epoch: 430 Loss: 0.06, Loss_test: 0.05\n",
      "Epoch: 431 Loss: 0.08, Loss_test: 0.05\n",
      "Epoch: 432 Loss: 0.10, Loss_test: 0.05\n",
      "Epoch: 433 Loss: 0.03, Loss_test: 0.05\n",
      "Epoch: 434 Loss: 0.09, Loss_test: 0.05\n",
      "Epoch: 435 Loss: 0.08, Loss_test: 0.05\n",
      "Epoch: 436 Loss: 0.07, Loss_test: 0.05\n",
      "Epoch: 437 Loss: 0.09, Loss_test: 0.05\n",
      "Epoch: 438 Loss: 0.11, Loss_test: 0.05\n",
      "Epoch: 439 Loss: 0.08, Loss_test: 0.05\n",
      "=> result saved!\n",
      "Epoch: 440 Loss: 0.08, Loss_test: 0.06\n",
      "Epoch: 441 Loss: 0.11, Loss_test: 0.06\n",
      "Epoch: 442 Loss: 0.06, Loss_test: 0.06\n",
      "Epoch: 443 Loss: 0.08, Loss_test: 0.06\n",
      "Epoch: 444 Loss: 0.05, Loss_test: 0.06\n",
      "Epoch: 445 Loss: 0.08, Loss_test: 0.06\n",
      "Epoch: 446 Loss: 0.08, Loss_test: 0.05\n",
      "Epoch: 447 Loss: 0.08, Loss_test: 0.06\n",
      "Epoch: 448 Loss: 0.05, Loss_test: 0.06\n",
      "Epoch: 449 Loss: 0.09, Loss_test: 0.06\n",
      "=> result saved!\n",
      "Epoch: 450 Loss: 0.12, Loss_test: 0.06\n",
      "Epoch: 451 Loss: 0.09, Loss_test: 0.06\n",
      "Epoch: 452 Loss: 0.12, Loss_test: 0.06\n",
      "Epoch: 453 Loss: 0.07, Loss_test: 0.05\n",
      "Epoch: 454 Loss: 0.05, Loss_test: 0.05\n",
      "Epoch: 455 Loss: 0.10, Loss_test: 0.05\n",
      "Epoch: 456 Loss: 0.03, Loss_test: 0.05\n",
      "Epoch: 457 Loss: 0.05, Loss_test: 0.06\n",
      "Epoch: 458 Loss: 0.12, Loss_test: 0.06\n",
      "Epoch: 459 Loss: 0.02, Loss_test: 0.05\n",
      "=> result saved!\n",
      "Epoch: 460 Loss: 0.06, Loss_test: 0.06\n",
      "Epoch: 461 Loss: 0.05, Loss_test: 0.06\n",
      "Epoch: 462 Loss: 0.07, Loss_test: 0.06\n",
      "Epoch: 463 Loss: 0.04, Loss_test: 0.06\n",
      "Epoch: 464 Loss: 0.06, Loss_test: 0.06\n",
      "Epoch: 465 Loss: 0.06, Loss_test: 0.05\n",
      "Epoch: 466 Loss: 0.07, Loss_test: 0.05\n",
      "Epoch: 467 Loss: 0.05, Loss_test: 0.05\n",
      "Epoch: 468 Loss: 0.04, Loss_test: 0.05\n",
      "Epoch: 469 Loss: 0.04, Loss_test: 0.05\n",
      "=> result saved!\n",
      "Epoch: 470 Loss: 0.07, Loss_test: 0.05\n",
      "Epoch: 471 Loss: 0.11, Loss_test: 0.05\n",
      "Epoch: 472 Loss: 0.08, Loss_test: 0.04\n",
      "Epoch: 473 Loss: 0.03, Loss_test: 0.05\n",
      "Epoch: 474 Loss: 0.09, Loss_test: 0.05\n",
      "Epoch: 475 Loss: 0.13, Loss_test: 0.05\n",
      "Epoch: 476 Loss: 0.05, Loss_test: 0.05\n",
      "Epoch: 477 Loss: 0.06, Loss_test: 0.05\n",
      "Epoch: 478 Loss: 0.05, Loss_test: 0.04\n",
      "Epoch: 479 Loss: 0.11, Loss_test: 0.05\n",
      "=> result saved!\n",
      "Epoch: 480 Loss: 0.05, Loss_test: 0.05\n",
      "Epoch: 481 Loss: 0.08, Loss_test: 0.05\n",
      "Epoch: 482 Loss: 0.08, Loss_test: 0.05\n",
      "Epoch: 483 Loss: 0.07, Loss_test: 0.05\n",
      "Epoch: 484 Loss: 0.08, Loss_test: 0.05\n",
      "Epoch: 485 Loss: 0.10, Loss_test: 0.05\n",
      "Epoch: 486 Loss: 0.12, Loss_test: 0.05\n",
      "Epoch: 487 Loss: 0.08, Loss_test: 0.05\n",
      "Epoch: 488 Loss: 0.08, Loss_test: 0.05\n",
      "Epoch: 489 Loss: 0.09, Loss_test: 0.05\n",
      "=> result saved!\n",
      "Epoch: 490 Loss: 0.06, Loss_test: 0.05\n",
      "Epoch: 491 Loss: 0.05, Loss_test: 0.05\n",
      "Epoch: 492 Loss: 0.10, Loss_test: 0.05\n",
      "Epoch: 493 Loss: 0.03, Loss_test: 0.05\n",
      "Epoch: 494 Loss: 0.12, Loss_test: 0.05\n",
      "Epoch: 495 Loss: 0.07, Loss_test: 0.06\n",
      "Epoch: 496 Loss: 0.08, Loss_test: 0.06\n",
      "Epoch: 497 Loss: 0.04, Loss_test: 0.05\n",
      "Epoch: 498 Loss: 0.09, Loss_test: 0.05\n",
      "Epoch: 499 Loss: 0.05, Loss_test: 0.05\n",
      "=> result saved!\n",
      "Epoch: 500 Loss: 0.03, Loss_test: 0.05\n",
      "Epoch: 501 Loss: 0.08, Loss_test: 0.05\n",
      "Epoch: 502 Loss: 0.07, Loss_test: 0.05\n",
      "Epoch: 503 Loss: 0.06, Loss_test: 0.05\n",
      "Epoch: 504 Loss: 0.06, Loss_test: 0.05\n"
     ]
    },
    {
     "name": "stdout",
     "output_type": "stream",
     "text": [
      "Epoch: 505 Loss: 0.04, Loss_test: 0.05\n",
      "Epoch: 506 Loss: 0.09, Loss_test: 0.05\n",
      "Epoch: 507 Loss: 0.05, Loss_test: 0.05\n",
      "Epoch: 508 Loss: 0.09, Loss_test: 0.05\n",
      "Epoch: 509 Loss: 0.07, Loss_test: 0.05\n",
      "=> result saved!\n",
      "Epoch: 510 Loss: 0.07, Loss_test: 0.05\n",
      "Epoch: 511 Loss: 0.02, Loss_test: 0.06\n",
      "Epoch: 512 Loss: 0.08, Loss_test: 0.06\n",
      "Epoch: 513 Loss: 0.05, Loss_test: 0.05\n",
      "Epoch: 514 Loss: 0.06, Loss_test: 0.06\n",
      "Epoch: 515 Loss: 0.01, Loss_test: 0.06\n",
      "Epoch: 516 Loss: 0.03, Loss_test: 0.06\n",
      "Epoch: 517 Loss: 0.05, Loss_test: 0.05\n",
      "Epoch: 518 Loss: 0.03, Loss_test: 0.05\n",
      "Epoch: 519 Loss: 0.12, Loss_test: 0.05\n",
      "=> result saved!\n",
      "Epoch: 520 Loss: 0.03, Loss_test: 0.05\n",
      "Epoch: 521 Loss: 0.03, Loss_test: 0.05\n",
      "Epoch: 522 Loss: 0.07, Loss_test: 0.05\n",
      "Epoch: 523 Loss: 0.06, Loss_test: 0.05\n",
      "Epoch: 524 Loss: 0.07, Loss_test: 0.05\n",
      "Epoch: 525 Loss: 0.05, Loss_test: 0.05\n",
      "Epoch: 526 Loss: 0.04, Loss_test: 0.05\n",
      "Epoch: 527 Loss: 0.03, Loss_test: 0.05\n",
      "Epoch: 528 Loss: 0.04, Loss_test: 0.05\n",
      "Epoch: 529 Loss: 0.05, Loss_test: 0.05\n",
      "=> result saved!\n",
      "Epoch: 530 Loss: 0.04, Loss_test: 0.05\n",
      "Epoch: 531 Loss: 0.05, Loss_test: 0.04\n",
      "Epoch: 532 Loss: 0.06, Loss_test: 0.05\n",
      "Epoch: 533 Loss: 0.06, Loss_test: 0.05\n",
      "Epoch: 534 Loss: 0.09, Loss_test: 0.05\n",
      "Epoch: 535 Loss: 0.12, Loss_test: 0.05\n",
      "Epoch: 536 Loss: 0.03, Loss_test: 0.05\n",
      "Epoch: 537 Loss: 0.08, Loss_test: 0.05\n",
      "Epoch: 538 Loss: 0.04, Loss_test: 0.05\n",
      "Epoch: 539 Loss: 0.09, Loss_test: 0.05\n",
      "=> result saved!\n",
      "Epoch: 540 Loss: 0.06, Loss_test: 0.05\n",
      "Epoch: 541 Loss: 0.06, Loss_test: 0.05\n",
      "Epoch: 542 Loss: 0.03, Loss_test: 0.05\n",
      "Epoch: 543 Loss: 0.02, Loss_test: 0.05\n",
      "Epoch: 544 Loss: 0.11, Loss_test: 0.04\n",
      "Epoch: 545 Loss: 0.05, Loss_test: 0.04\n",
      "Epoch: 546 Loss: 0.07, Loss_test: 0.04\n",
      "Epoch: 547 Loss: 0.06, Loss_test: 0.04\n",
      "Epoch: 548 Loss: 0.05, Loss_test: 0.04\n",
      "Epoch: 549 Loss: 0.06, Loss_test: 0.04\n",
      "=> result saved!\n",
      "Epoch: 550 Loss: 0.03, Loss_test: 0.04\n",
      "Epoch: 551 Loss: 0.06, Loss_test: 0.04\n",
      "Epoch: 552 Loss: 0.05, Loss_test: 0.04\n",
      "Epoch: 553 Loss: 0.09, Loss_test: 0.04\n",
      "Epoch: 554 Loss: 0.03, Loss_test: 0.04\n",
      "Epoch: 555 Loss: 0.03, Loss_test: 0.05\n",
      "Epoch: 556 Loss: 0.04, Loss_test: 0.05\n",
      "Epoch: 557 Loss: 0.02, Loss_test: 0.05\n",
      "Epoch: 558 Loss: 0.04, Loss_test: 0.04\n",
      "Epoch: 559 Loss: 0.09, Loss_test: 0.04\n",
      "=> result saved!\n",
      "Epoch: 560 Loss: 0.06, Loss_test: 0.04\n",
      "Epoch: 561 Loss: 0.06, Loss_test: 0.04\n",
      "Epoch: 562 Loss: 0.04, Loss_test: 0.04\n",
      "Epoch: 563 Loss: 0.09, Loss_test: 0.04\n",
      "Epoch: 564 Loss: 0.06, Loss_test: 0.04\n",
      "Epoch: 565 Loss: 0.04, Loss_test: 0.04\n",
      "Epoch: 566 Loss: 0.01, Loss_test: 0.04\n",
      "Epoch: 567 Loss: 0.15, Loss_test: 0.04\n",
      "Epoch: 568 Loss: 0.05, Loss_test: 0.04\n",
      "Epoch: 569 Loss: 0.10, Loss_test: 0.04\n",
      "=> result saved!\n",
      "Epoch: 570 Loss: 0.06, Loss_test: 0.04\n",
      "Epoch: 571 Loss: 0.03, Loss_test: 0.04\n",
      "Epoch: 572 Loss: 0.09, Loss_test: 0.05\n",
      "Epoch: 573 Loss: 0.03, Loss_test: 0.05\n",
      "Epoch: 574 Loss: 0.07, Loss_test: 0.05\n",
      "Epoch: 575 Loss: 0.09, Loss_test: 0.04\n",
      "Epoch: 576 Loss: 0.05, Loss_test: 0.04\n",
      "Epoch: 577 Loss: 0.07, Loss_test: 0.04\n",
      "Epoch: 578 Loss: 0.07, Loss_test: 0.05\n",
      "Epoch: 579 Loss: 0.04, Loss_test: 0.05\n",
      "=> result saved!\n",
      "Epoch: 580 Loss: 0.06, Loss_test: 0.05\n",
      "Epoch: 581 Loss: 0.04, Loss_test: 0.05\n",
      "Epoch: 582 Loss: 0.03, Loss_test: 0.05\n",
      "Epoch: 583 Loss: 0.09, Loss_test: 0.04\n",
      "Epoch: 584 Loss: 0.06, Loss_test: 0.04\n",
      "Epoch: 585 Loss: 0.12, Loss_test: 0.04\n",
      "Epoch: 586 Loss: 0.04, Loss_test: 0.05\n",
      "Epoch: 587 Loss: 0.09, Loss_test: 0.05\n",
      "Epoch: 588 Loss: 0.06, Loss_test: 0.05\n",
      "Epoch: 589 Loss: 0.05, Loss_test: 0.05\n",
      "=> result saved!\n",
      "Epoch: 590 Loss: 0.07, Loss_test: 0.05\n",
      "Epoch: 591 Loss: 0.07, Loss_test: 0.05\n",
      "Epoch: 592 Loss: 0.03, Loss_test: 0.05\n",
      "Epoch: 593 Loss: 0.05, Loss_test: 0.05\n",
      "Epoch: 594 Loss: 0.09, Loss_test: 0.05\n",
      "Epoch: 595 Loss: 0.05, Loss_test: 0.05\n",
      "Epoch: 596 Loss: 0.06, Loss_test: 0.05\n",
      "Epoch: 597 Loss: 0.07, Loss_test: 0.05\n",
      "Epoch: 598 Loss: 0.03, Loss_test: 0.05\n",
      "Epoch: 599 Loss: 0.06, Loss_test: 0.05\n",
      "=> result saved!\n",
      "Epoch: 600 Loss: 0.04, Loss_test: 0.04\n",
      "Epoch: 601 Loss: 0.05, Loss_test: 0.05\n",
      "Epoch: 602 Loss: 0.05, Loss_test: 0.05\n",
      "Epoch: 603 Loss: 0.09, Loss_test: 0.05\n",
      "Epoch: 604 Loss: 0.04, Loss_test: 0.05\n",
      "Epoch: 605 Loss: 0.04, Loss_test: 0.05\n",
      "Epoch: 606 Loss: 0.06, Loss_test: 0.04\n",
      "Epoch: 607 Loss: 0.06, Loss_test: 0.04\n",
      "Epoch: 608 Loss: 0.05, Loss_test: 0.04\n",
      "Epoch: 609 Loss: 0.05, Loss_test: 0.04\n",
      "=> result saved!\n",
      "Epoch: 610 Loss: 0.06, Loss_test: 0.05\n",
      "Epoch: 611 Loss: 0.06, Loss_test: 0.05\n",
      "Epoch: 612 Loss: 0.04, Loss_test: 0.05\n",
      "Epoch: 613 Loss: 0.05, Loss_test: 0.04\n",
      "Epoch: 614 Loss: 0.06, Loss_test: 0.04\n",
      "Epoch: 615 Loss: 0.10, Loss_test: 0.04\n",
      "Epoch: 616 Loss: 0.02, Loss_test: 0.04\n",
      "Epoch: 617 Loss: 0.07, Loss_test: 0.04\n",
      "Epoch: 618 Loss: 0.06, Loss_test: 0.04\n",
      "Epoch: 619 Loss: 0.04, Loss_test: 0.04\n",
      "=> result saved!\n",
      "Epoch: 620 Loss: 0.02, Loss_test: 0.04\n",
      "Epoch: 621 Loss: 0.07, Loss_test: 0.04\n",
      "Epoch: 622 Loss: 0.04, Loss_test: 0.04\n",
      "Epoch: 623 Loss: 0.03, Loss_test: 0.04\n",
      "Epoch: 624 Loss: 0.06, Loss_test: 0.04\n",
      "Epoch: 625 Loss: 0.09, Loss_test: 0.04\n",
      "Epoch: 626 Loss: 0.03, Loss_test: 0.04\n",
      "Epoch: 627 Loss: 0.03, Loss_test: 0.04\n",
      "Epoch: 628 Loss: 0.06, Loss_test: 0.04\n",
      "Epoch: 629 Loss: 0.05, Loss_test: 0.04\n",
      "=> result saved!\n",
      "Epoch: 630 Loss: 0.03, Loss_test: 0.04\n",
      "Epoch: 631 Loss: 0.07, Loss_test: 0.04\n",
      "Epoch: 632 Loss: 0.05, Loss_test: 0.04\n",
      "Epoch: 633 Loss: 0.08, Loss_test: 0.04\n",
      "Epoch: 634 Loss: 0.06, Loss_test: 0.04\n",
      "Epoch: 635 Loss: 0.06, Loss_test: 0.04\n",
      "Epoch: 636 Loss: 0.06, Loss_test: 0.04\n",
      "Epoch: 637 Loss: 0.08, Loss_test: 0.04\n",
      "Epoch: 638 Loss: 0.05, Loss_test: 0.04\n",
      "Epoch: 639 Loss: 0.06, Loss_test: 0.04\n",
      "=> result saved!\n",
      "Epoch: 640 Loss: 0.11, Loss_test: 0.04\n",
      "Epoch: 641 Loss: 0.04, Loss_test: 0.04\n",
      "Epoch: 642 Loss: 0.04, Loss_test: 0.03\n",
      "Epoch: 643 Loss: 0.05, Loss_test: 0.03\n",
      "Epoch: 644 Loss: 0.02, Loss_test: 0.03\n",
      "Epoch: 645 Loss: 0.05, Loss_test: 0.04\n",
      "Epoch: 646 Loss: 0.05, Loss_test: 0.04\n",
      "Epoch: 647 Loss: 0.04, Loss_test: 0.04\n",
      "Epoch: 648 Loss: 0.06, Loss_test: 0.04\n",
      "Epoch: 649 Loss: 0.04, Loss_test: 0.04\n",
      "=> result saved!\n",
      "Epoch: 650 Loss: 0.06, Loss_test: 0.04\n",
      "Epoch: 651 Loss: 0.05, Loss_test: 0.04\n",
      "Epoch: 652 Loss: 0.05, Loss_test: 0.04\n",
      "Epoch: 653 Loss: 0.03, Loss_test: 0.04\n",
      "Epoch: 654 Loss: 0.07, Loss_test: 0.04\n",
      "Epoch: 655 Loss: 0.05, Loss_test: 0.04\n",
      "Epoch: 656 Loss: 0.05, Loss_test: 0.04\n",
      "Epoch: 657 Loss: 0.06, Loss_test: 0.04\n",
      "Epoch: 658 Loss: 0.08, Loss_test: 0.05\n",
      "Epoch: 659 Loss: 0.04, Loss_test: 0.05\n",
      "=> result saved!\n",
      "Epoch: 660 Loss: 0.05, Loss_test: 0.05\n",
      "Epoch: 661 Loss: 0.05, Loss_test: 0.05\n",
      "Epoch: 662 Loss: 0.03, Loss_test: 0.05\n",
      "Epoch: 663 Loss: 0.04, Loss_test: 0.04\n",
      "Epoch: 664 Loss: 0.08, Loss_test: 0.04\n",
      "Epoch: 665 Loss: 0.04, Loss_test: 0.04\n",
      "Epoch: 666 Loss: 0.06, Loss_test: 0.04\n",
      "Epoch: 667 Loss: 0.05, Loss_test: 0.04\n",
      "Epoch: 668 Loss: 0.03, Loss_test: 0.04\n",
      "Epoch: 669 Loss: 0.04, Loss_test: 0.05\n",
      "=> result saved!\n",
      "Epoch: 670 Loss: 0.07, Loss_test: 0.04\n",
      "Epoch: 671 Loss: 0.03, Loss_test: 0.04\n",
      "Epoch: 672 Loss: 0.08, Loss_test: 0.04\n",
      "Epoch: 673 Loss: 0.08, Loss_test: 0.04\n",
      "Epoch: 674 Loss: 0.06, Loss_test: 0.04\n",
      "Epoch: 675 Loss: 0.07, Loss_test: 0.05\n",
      "Epoch: 676 Loss: 0.03, Loss_test: 0.05\n",
      "Epoch: 677 Loss: 0.07, Loss_test: 0.04\n",
      "Epoch: 678 Loss: 0.03, Loss_test: 0.04\n",
      "Epoch: 679 Loss: 0.02, Loss_test: 0.04\n",
      "=> result saved!\n",
      "Epoch: 680 Loss: 0.05, Loss_test: 0.04\n",
      "Epoch: 681 Loss: 0.09, Loss_test: 0.04\n",
      "Epoch: 682 Loss: 0.04, Loss_test: 0.04\n",
      "Epoch: 683 Loss: 0.13, Loss_test: 0.04\n",
      "Epoch: 684 Loss: 0.05, Loss_test: 0.04\n",
      "Epoch: 685 Loss: 0.04, Loss_test: 0.04\n",
      "Epoch: 686 Loss: 0.03, Loss_test: 0.03\n",
      "Epoch: 687 Loss: 0.02, Loss_test: 0.04\n",
      "Epoch: 688 Loss: 0.03, Loss_test: 0.04\n",
      "Epoch: 689 Loss: 0.06, Loss_test: 0.04\n",
      "=> result saved!\n",
      "Epoch: 690 Loss: 0.07, Loss_test: 0.04\n",
      "Epoch: 691 Loss: 0.08, Loss_test: 0.04\n",
      "Epoch: 692 Loss: 0.03, Loss_test: 0.05\n",
      "Epoch: 693 Loss: 0.02, Loss_test: 0.05\n",
      "Epoch: 694 Loss: 0.05, Loss_test: 0.05\n",
      "Epoch: 695 Loss: 0.03, Loss_test: 0.05\n",
      "Epoch: 696 Loss: 0.04, Loss_test: 0.05\n",
      "Epoch: 697 Loss: 0.03, Loss_test: 0.04\n",
      "Epoch: 698 Loss: 0.04, Loss_test: 0.04\n",
      "Epoch: 699 Loss: 0.04, Loss_test: 0.04\n",
      "=> result saved!\n",
      "Epoch: 700 Loss: 0.03, Loss_test: 0.04\n",
      "Epoch: 701 Loss: 0.07, Loss_test: 0.04\n",
      "Epoch: 702 Loss: 0.01, Loss_test: 0.04\n",
      "Epoch: 703 Loss: 0.07, Loss_test: 0.04\n",
      "Epoch: 704 Loss: 0.04, Loss_test: 0.04\n",
      "Epoch: 705 Loss: 0.02, Loss_test: 0.04\n",
      "Epoch: 706 Loss: 0.08, Loss_test: 0.04\n"
     ]
    },
    {
     "name": "stdout",
     "output_type": "stream",
     "text": [
      "Epoch: 707 Loss: 0.03, Loss_test: 0.04\n",
      "Epoch: 708 Loss: 0.04, Loss_test: 0.04\n",
      "Epoch: 709 Loss: 0.04, Loss_test: 0.04\n",
      "=> result saved!\n",
      "Epoch: 710 Loss: 0.06, Loss_test: 0.04\n",
      "Epoch: 711 Loss: 0.11, Loss_test: 0.04\n",
      "Epoch: 712 Loss: 0.03, Loss_test: 0.04\n",
      "Epoch: 713 Loss: 0.05, Loss_test: 0.04\n",
      "Epoch: 714 Loss: 0.06, Loss_test: 0.04\n",
      "Epoch: 715 Loss: 0.04, Loss_test: 0.04\n",
      "Epoch: 716 Loss: 0.07, Loss_test: 0.04\n",
      "Epoch: 717 Loss: 0.07, Loss_test: 0.05\n",
      "Epoch: 718 Loss: 0.07, Loss_test: 0.04\n",
      "Epoch: 719 Loss: 0.07, Loss_test: 0.04\n",
      "=> result saved!\n",
      "Epoch: 720 Loss: 0.05, Loss_test: 0.04\n",
      "Epoch: 721 Loss: 0.09, Loss_test: 0.04\n",
      "Epoch: 722 Loss: 0.07, Loss_test: 0.04\n",
      "Epoch: 723 Loss: 0.07, Loss_test: 0.04\n",
      "Epoch: 724 Loss: 0.05, Loss_test: 0.04\n",
      "Epoch: 725 Loss: 0.03, Loss_test: 0.04\n",
      "Epoch: 726 Loss: 0.06, Loss_test: 0.03\n",
      "Epoch: 727 Loss: 0.02, Loss_test: 0.03\n",
      "Epoch: 728 Loss: 0.06, Loss_test: 0.03\n",
      "Epoch: 729 Loss: 0.08, Loss_test: 0.03\n",
      "=> result saved!\n",
      "Epoch: 730 Loss: 0.02, Loss_test: 0.03\n",
      "Epoch: 731 Loss: 0.01, Loss_test: 0.03\n",
      "Epoch: 732 Loss: 0.09, Loss_test: 0.03\n",
      "Epoch: 733 Loss: 0.06, Loss_test: 0.03\n",
      "Epoch: 734 Loss: 0.07, Loss_test: 0.03\n",
      "Epoch: 735 Loss: 0.05, Loss_test: 0.03\n",
      "Epoch: 736 Loss: 0.05, Loss_test: 0.03\n",
      "Epoch: 737 Loss: 0.06, Loss_test: 0.03\n",
      "Epoch: 738 Loss: 0.05, Loss_test: 0.03\n",
      "Epoch: 739 Loss: 0.04, Loss_test: 0.03\n",
      "=> result saved!\n",
      "Epoch: 740 Loss: 0.02, Loss_test: 0.03\n",
      "Epoch: 741 Loss: 0.05, Loss_test: 0.03\n",
      "Epoch: 742 Loss: 0.05, Loss_test: 0.03\n",
      "Epoch: 743 Loss: 0.06, Loss_test: 0.03\n",
      "Epoch: 744 Loss: 0.04, Loss_test: 0.03\n",
      "Epoch: 745 Loss: 0.05, Loss_test: 0.03\n",
      "Epoch: 746 Loss: 0.03, Loss_test: 0.03\n",
      "Epoch: 747 Loss: 0.06, Loss_test: 0.03\n",
      "Epoch: 748 Loss: 0.05, Loss_test: 0.03\n",
      "Epoch: 749 Loss: 0.03, Loss_test: 0.03\n",
      "=> result saved!\n",
      "Epoch: 750 Loss: 0.04, Loss_test: 0.03\n",
      "Epoch: 751 Loss: 0.02, Loss_test: 0.03\n",
      "Epoch: 752 Loss: 0.06, Loss_test: 0.03\n",
      "Epoch: 753 Loss: 0.04, Loss_test: 0.03\n",
      "Epoch: 754 Loss: 0.02, Loss_test: 0.03\n",
      "Epoch: 755 Loss: 0.05, Loss_test: 0.03\n",
      "Epoch: 756 Loss: 0.03, Loss_test: 0.03\n",
      "Epoch: 757 Loss: 0.07, Loss_test: 0.03\n",
      "Epoch: 758 Loss: 0.03, Loss_test: 0.04\n",
      "Epoch: 759 Loss: 0.04, Loss_test: 0.03\n",
      "=> result saved!\n",
      "Epoch: 760 Loss: 0.04, Loss_test: 0.03\n",
      "Epoch: 761 Loss: 0.06, Loss_test: 0.04\n",
      "Epoch: 762 Loss: 0.02, Loss_test: 0.03\n",
      "Epoch: 763 Loss: 0.06, Loss_test: 0.04\n",
      "Epoch: 764 Loss: 0.06, Loss_test: 0.04\n",
      "Epoch: 765 Loss: 0.04, Loss_test: 0.03\n",
      "Epoch: 766 Loss: 0.05, Loss_test: 0.03\n",
      "Epoch: 767 Loss: 0.03, Loss_test: 0.04\n",
      "Epoch: 768 Loss: 0.04, Loss_test: 0.04\n",
      "Epoch: 769 Loss: 0.04, Loss_test: 0.04\n",
      "=> result saved!\n",
      "Epoch: 770 Loss: 0.04, Loss_test: 0.03\n",
      "Epoch: 771 Loss: 0.01, Loss_test: 0.04\n",
      "Epoch: 772 Loss: 0.09, Loss_test: 0.03\n",
      "Epoch: 773 Loss: 0.05, Loss_test: 0.03\n",
      "Epoch: 774 Loss: 0.07, Loss_test: 0.03\n",
      "Epoch: 775 Loss: 0.05, Loss_test: 0.03\n",
      "Epoch: 776 Loss: 0.03, Loss_test: 0.03\n",
      "Epoch: 777 Loss: 0.06, Loss_test: 0.03\n",
      "Epoch: 778 Loss: 0.06, Loss_test: 0.03\n",
      "Epoch: 779 Loss: 0.05, Loss_test: 0.03\n",
      "=> result saved!\n",
      "Epoch: 780 Loss: 0.10, Loss_test: 0.03\n",
      "Epoch: 781 Loss: 0.04, Loss_test: 0.03\n",
      "Epoch: 782 Loss: 0.06, Loss_test: 0.03\n",
      "Epoch: 783 Loss: 0.04, Loss_test: 0.03\n",
      "Epoch: 784 Loss: 0.03, Loss_test: 0.03\n",
      "Epoch: 785 Loss: 0.06, Loss_test: 0.03\n",
      "Epoch: 786 Loss: 0.04, Loss_test: 0.03\n",
      "Epoch: 789 Loss: 0.13, Loss_test: 0.03\n",
      "=> result saved!\n",
      "Epoch: 790 Loss: 0.07, Loss_test: 0.03\n",
      "Epoch: 791 Loss: 0.07, Loss_test: 0.03\n",
      "Epoch: 792 Loss: 0.07, Loss_test: 0.03\n",
      "Epoch: 793 Loss: 0.06, Loss_test: 0.03\n",
      "Epoch: 794 Loss: 0.05, Loss_test: 0.04\n",
      "Epoch: 795 Loss: 0.03, Loss_test: 0.04\n",
      "Epoch: 796 Loss: 0.06, Loss_test: 0.04\n",
      "Epoch: 797 Loss: 0.07, Loss_test: 0.04\n",
      "Epoch: 798 Loss: 0.06, Loss_test: 0.04\n",
      "Epoch: 799 Loss: 0.03, Loss_test: 0.04\n",
      "=> result saved!\n",
      "Epoch: 800 Loss: 0.04, Loss_test: 0.04\n",
      "Epoch: 801 Loss: 0.05, Loss_test: 0.03\n",
      "Epoch: 802 Loss: 0.05, Loss_test: 0.03\n",
      "Epoch: 803 Loss: 0.06, Loss_test: 0.03\n",
      "Epoch: 804 Loss: 0.06, Loss_test: 0.03\n",
      "Epoch: 805 Loss: 0.06, Loss_test: 0.03\n",
      "Epoch: 806 Loss: 0.03, Loss_test: 0.03\n",
      "Epoch: 807 Loss: 0.05, Loss_test: 0.03\n",
      "Epoch: 808 Loss: 0.12, Loss_test: 0.03\n",
      "Epoch: 809 Loss: 0.04, Loss_test: 0.04\n",
      "=> result saved!\n",
      "Epoch: 810 Loss: 0.03, Loss_test: 0.04\n",
      "Epoch: 811 Loss: 0.05, Loss_test: 0.04\n",
      "Epoch: 812 Loss: 0.04, Loss_test: 0.04\n",
      "Epoch: 813 Loss: 0.06, Loss_test: 0.04\n",
      "Epoch: 814 Loss: 0.05, Loss_test: 0.04\n",
      "Epoch: 815 Loss: 0.06, Loss_test: 0.04\n",
      "Epoch: 816 Loss: 0.03, Loss_test: 0.04\n",
      "Epoch: 817 Loss: 0.06, Loss_test: 0.04\n",
      "Epoch: 818 Loss: 0.03, Loss_test: 0.03\n",
      "Epoch: 819 Loss: 0.09, Loss_test: 0.03\n",
      "=> result saved!\n",
      "Epoch: 820 Loss: 0.03, Loss_test: 0.03\n",
      "Epoch: 821 Loss: 0.01, Loss_test: 0.03\n",
      "Epoch: 822 Loss: 0.06, Loss_test: 0.03\n",
      "Epoch: 823 Loss: 0.02, Loss_test: 0.03\n",
      "Epoch: 824 Loss: 0.10, Loss_test: 0.03\n",
      "Epoch: 825 Loss: 0.04, Loss_test: 0.03\n",
      "Epoch: 826 Loss: 0.12, Loss_test: 0.03\n",
      "Epoch: 827 Loss: 0.04, Loss_test: 0.03\n",
      "Epoch: 828 Loss: 0.06, Loss_test: 0.03\n",
      "Epoch: 829 Loss: 0.06, Loss_test: 0.03\n",
      "=> result saved!\n",
      "Epoch: 830 Loss: 0.04, Loss_test: 0.03\n",
      "Epoch: 831 Loss: 0.06, Loss_test: 0.03\n",
      "Epoch: 832 Loss: 0.08, Loss_test: 0.03\n",
      "Epoch: 833 Loss: 0.06, Loss_test: 0.03\n",
      "Epoch: 834 Loss: 0.04, Loss_test: 0.03\n",
      "Epoch: 835 Loss: 0.05, Loss_test: 0.03\n",
      "Epoch: 836 Loss: 0.08, Loss_test: 0.03\n",
      "Epoch: 837 Loss: 0.06, Loss_test: 0.03\n",
      "Epoch: 838 Loss: 0.07, Loss_test: 0.03\n",
      "Epoch: 839 Loss: 0.04, Loss_test: 0.03\n",
      "=> result saved!\n",
      "Epoch: 840 Loss: 0.03, Loss_test: 0.03\n",
      "Epoch: 841 Loss: 0.04, Loss_test: 0.03\n",
      "Epoch: 842 Loss: 0.03, Loss_test: 0.03\n",
      "Epoch: 843 Loss: 0.04, Loss_test: 0.03\n",
      "Epoch: 844 Loss: 0.04, Loss_test: 0.03\n",
      "Epoch: 845 Loss: 0.05, Loss_test: 0.03\n",
      "Epoch: 846 Loss: 0.04, Loss_test: 0.03\n",
      "Epoch: 847 Loss: 0.07, Loss_test: 0.03\n",
      "Epoch: 848 Loss: 0.03, Loss_test: 0.03\n",
      "Epoch: 849 Loss: 0.06, Loss_test: 0.03\n",
      "=> result saved!\n",
      "Epoch: 850 Loss: 0.03, Loss_test: 0.03\n",
      "Epoch: 851 Loss: 0.05, Loss_test: 0.03\n",
      "Epoch: 852 Loss: 0.07, Loss_test: 0.03\n",
      "Epoch: 853 Loss: 0.03, Loss_test: 0.03\n",
      "Epoch: 854 Loss: 0.03, Loss_test: 0.03\n",
      "Epoch: 855 Loss: 0.06, Loss_test: 0.03\n",
      "Epoch: 856 Loss: 0.02, Loss_test: 0.03\n",
      "Epoch: 857 Loss: 0.03, Loss_test: 0.03\n",
      "Epoch: 858 Loss: 0.04, Loss_test: 0.03\n",
      "Epoch: 859 Loss: 0.02, Loss_test: 0.03\n",
      "=> result saved!\n",
      "Epoch: 860 Loss: 0.05, Loss_test: 0.03\n",
      "Epoch: 861 Loss: 0.04, Loss_test: 0.03\n",
      "Epoch: 862 Loss: 0.03, Loss_test: 0.03\n",
      "Epoch: 863 Loss: 0.04, Loss_test: 0.03\n",
      "Epoch: 864 Loss: 0.04, Loss_test: 0.03\n",
      "Epoch: 865 Loss: 0.08, Loss_test: 0.03\n",
      "Epoch: 866 Loss: 0.02, Loss_test: 0.03\n",
      "Epoch: 867 Loss: 0.05, Loss_test: 0.03\n",
      "Epoch: 868 Loss: 0.04, Loss_test: 0.03\n",
      "Epoch: 869 Loss: 0.08, Loss_test: 0.03\n",
      "=> result saved!\n",
      "Epoch: 870 Loss: 0.04, Loss_test: 0.03\n",
      "Epoch: 871 Loss: 0.03, Loss_test: 0.03\n",
      "Epoch: 872 Loss: 0.03, Loss_test: 0.03\n",
      "Epoch: 873 Loss: 0.07, Loss_test: 0.04\n",
      "Epoch: 874 Loss: 0.01, Loss_test: 0.04\n",
      "Epoch: 875 Loss: 0.09, Loss_test: 0.03\n",
      "Epoch: 876 Loss: 0.01, Loss_test: 0.03\n",
      "Epoch: 877 Loss: 0.05, Loss_test: 0.04\n",
      "Epoch: 878 Loss: 0.04, Loss_test: 0.04\n",
      "Epoch: 879 Loss: 0.03, Loss_test: 0.04\n",
      "=> result saved!\n",
      "Epoch: 880 Loss: 0.04, Loss_test: 0.04\n",
      "Epoch: 881 Loss: 0.07, Loss_test: 0.03\n",
      "Epoch: 882 Loss: 0.05, Loss_test: 0.03\n",
      "Epoch: 883 Loss: 0.03, Loss_test: 0.03\n",
      "Epoch: 884 Loss: 0.06, Loss_test: 0.03\n",
      "Epoch: 885 Loss: 0.05, Loss_test: 0.03\n",
      "Epoch: 886 Loss: 0.02, Loss_test: 0.03\n",
      "Epoch: 887 Loss: 0.05, Loss_test: 0.03\n",
      "Epoch: 888 Loss: 0.04, Loss_test: 0.03\n",
      "Epoch: 889 Loss: 0.04, Loss_test: 0.03\n",
      "=> result saved!\n",
      "Epoch: 890 Loss: 0.08, Loss_test: 0.03\n",
      "Epoch: 891 Loss: 0.03, Loss_test: 0.03\n",
      "Epoch: 892 Loss: 0.03, Loss_test: 0.03\n",
      "Epoch: 893 Loss: 0.04, Loss_test: 0.03\n",
      "Epoch: 894 Loss: 0.01, Loss_test: 0.03\n",
      "Epoch: 895 Loss: 0.08, Loss_test: 0.03\n",
      "Epoch: 896 Loss: 0.03, Loss_test: 0.03\n",
      "Epoch: 897 Loss: 0.03, Loss_test: 0.03\n",
      "Epoch: 898 Loss: 0.02, Loss_test: 0.03\n",
      "Epoch: 899 Loss: 0.03, Loss_test: 0.03\n",
      "=> result saved!\n",
      "Epoch: 900 Loss: 0.04, Loss_test: 0.03\n"
     ]
    }
   ],
   "source": [
    "end_train = epochs - limit_train\n",
    "for epoch in range(limit_train, end_train):\n",
    "    batch_triplet_train, \\\n",
    "        train_input_sample, train_sim = batch_iterator(baseline, retrieval, model, baseline.train_data, \n",
    "                                                       baseline.dup_sets_train, bug_train_ids, \n",
    "                                                           batch_size, 1, issues_by_buckets, TRIPLET_HARD=False)\n",
    "    train_batch = [train_input_sample['title']['token'], train_input_sample['title']['segment'], \n",
    "                   train_input_sample['description']['token'], train_input_sample['description']['segment'],\n",
    "                   train_input_sample['info'], train_sim]\n",
    "    \n",
    "\n",
    "    h = model.train_on_batch(x=train_batch, y=train_sim)\n",
    "    h_validation = model.test_on_batch(x=validation_sample, y=valid_sim)\n",
    "    \n",
    "    # save results\n",
    "    result['train'].append(h)\n",
    "    result['test'].append(h_validation)\n",
    "    \n",
    "    if( (epoch+1) % 10 == 0 or (epoch+1 == end_train )):\n",
    "        save_loss(result)\n",
    "    \n",
    "    print(\"Epoch: {} Loss: {:.2f}, Loss_test: {:.2f}\".format(epoch+1, h, h_validation))"
   ]
  },
  {
   "cell_type": "code",
   "execution_count": 47,
   "metadata": {},
   "outputs": [
    {
     "data": {
      "text/plain": [
       "(900, 900)"
      ]
     },
     "execution_count": 47,
     "metadata": {},
     "output_type": "execute_result"
    }
   ],
   "source": [
    "len(result['train']), len(result['test'])"
   ]
  },
  {
   "cell_type": "code",
   "execution_count": 48,
   "metadata": {},
   "outputs": [],
   "source": [
    "encoded = model.get_layer('merge_features_in')\n",
    "output = encoded.output\n",
    "inputs = similarity_model.inputs[:-1]\n",
    "encoded_anchor = Model(inputs = inputs, outputs = output, name = 'Similarity_Model')"
   ]
  },
  {
   "cell_type": "code",
   "execution_count": 49,
   "metadata": {},
   "outputs": [
    {
     "data": {
      "text/plain": [
       "'bert_preprocessing_deepTL_1000_feature1000epochs_64batch(eclipse)'"
      ]
     },
     "execution_count": 49,
     "metadata": {},
     "output_type": "execute_result"
    }
   ],
   "source": [
    "SAVE_PATH.replace('@number_of_epochs@', str(epochs))"
   ]
  },
  {
   "cell_type": "code",
   "execution_count": 50,
   "metadata": {},
   "outputs": [
    {
     "name": "stdout",
     "output_type": "stream",
     "text": [
      "Saved model 'modelos/model_bert_preprocessing_deepTL_1000_feature_1000epochs_64batch(eclipse).h5' to disk\n"
     ]
    },
    {
     "data": {
      "text/plain": [
       "'Model saved'"
      ]
     },
     "execution_count": 50,
     "metadata": {},
     "output_type": "execute_result"
    }
   ],
   "source": [
    "experiment.save_model(model, SAVE_PATH.replace('@number_of_epochs@', str(epochs)))\n",
    "experiment.save_model(encoded_anchor, SAVE_PATH_FEATURE.replace('@number_of_epochs@', str(epochs)), verbose=1)\n",
    "\"Model saved\""
   ]
  },
  {
   "cell_type": "code",
   "execution_count": 51,
   "metadata": {},
   "outputs": [
    {
     "data": {
      "application/vnd.jupyter.widget-view+json": {
       "model_id": "29eeb48ea3844e46827fed8d7d7892a1",
       "version_major": 2,
       "version_minor": 0
      },
      "text/plain": [
       "HBox(children=(IntProgress(value=0, max=16995), HTML(value='')))"
      ]
     },
     "metadata": {},
     "output_type": "display_data"
    },
    {
     "name": "stdout",
     "output_type": "stream",
     "text": [
      "\n"
     ]
    },
    {
     "data": {
      "application/vnd.jupyter.widget-view+json": {
       "model_id": "3a928fc9a4a84398a9dab289ae096912",
       "version_major": 2,
       "version_minor": 0
      },
      "text/plain": [
       "HBox(children=(IntProgress(value=0, max=27321), HTML(value='')))"
      ]
     },
     "metadata": {},
     "output_type": "display_data"
    },
    {
     "name": "stdout",
     "output_type": "stream",
     "text": [
      "\n"
     ]
    },
    {
     "data": {
      "application/vnd.jupyter.widget-view+json": {
       "model_id": "ad35265bedfc4a2aa92728ec22dd738e",
       "version_major": 2,
       "version_minor": 0
      },
      "text/plain": [
       "HBox(children=(IntProgress(value=0, max=30481), HTML(value='')))"
      ]
     },
     "metadata": {},
     "output_type": "display_data"
    },
    {
     "name": "stdout",
     "output_type": "stream",
     "text": [
      "\n"
     ]
    },
    {
     "data": {
      "application/vnd.jupyter.widget-view+json": {
       "model_id": "e189c9e239a24a1fb04019f5651dfe2b",
       "version_major": 2,
       "version_minor": 0
      },
      "text/plain": [
       "HBox(children=(IntProgress(value=1, bar_style='info', max=1), HTML(value='')))"
      ]
     },
     "metadata": {},
     "output_type": "display_data"
    },
    {
     "name": "stdout",
     "output_type": "stream",
     "text": [
      "\n"
     ]
    },
    {
     "data": {
      "application/vnd.jupyter.widget-view+json": {
       "model_id": "47613e3cf34d4e4c891b1903aac48e68",
       "version_major": 2,
       "version_minor": 0
      },
      "text/plain": [
       "HBox(children=(IntProgress(value=1, bar_style='info', max=1), HTML(value='')))"
      ]
     },
     "metadata": {},
     "output_type": "display_data"
    },
    {
     "name": "stdout",
     "output_type": "stream",
     "text": [
      "\n"
     ]
    },
    {
     "data": {
      "application/vnd.jupyter.widget-view+json": {
       "model_id": "ec75e716ee1440189a0e478aecfe0a28",
       "version_major": 2,
       "version_minor": 0
      },
      "text/plain": [
       "HBox(children=(IntProgress(value=1, bar_style='info', max=1), HTML(value='')))"
      ]
     },
     "metadata": {},
     "output_type": "display_data"
    },
    {
     "name": "stdout",
     "output_type": "stream",
     "text": [
      "\n"
     ]
    },
    {
     "data": {
      "application/vnd.jupyter.widget-view+json": {
       "model_id": "c7e71a9a93ed4e67be771b93b5def75c",
       "version_major": 2,
       "version_minor": 0
      },
      "text/plain": [
       "HBox(children=(IntProgress(value=0, max=27321), HTML(value='')))"
      ]
     },
     "metadata": {},
     "output_type": "display_data"
    },
    {
     "name": "stdout",
     "output_type": "stream",
     "text": [
      "\n",
      "Epoch: 900 Loss: 0.04, Loss_test: 0.03, recall@25: 0.61\n"
     ]
    }
   ],
   "source": [
    "recall, exported_rank, debug = experiment.evaluate_validation_test(retrieval, 1, encoded_anchor, issues_by_buckets, \n",
    "                                                               bug_train_ids, method='bert')\n",
    "print(\"Epoch: {} Loss: {:.2f}, Loss_test: {:.2f}, recall@25: {:.2f}\".format(epoch+1, h, h_validation, recall))"
   ]
  },
  {
   "cell_type": "code",
   "execution_count": 52,
   "metadata": {},
   "outputs": [
    {
     "data": {
      "text/plain": [
       "0.61"
      ]
     },
     "execution_count": 52,
     "metadata": {},
     "output_type": "execute_result"
    }
   ],
   "source": [
    "recall"
   ]
  },
  {
   "cell_type": "code",
   "execution_count": 53,
   "metadata": {},
   "outputs": [
    {
     "data": {
      "text/plain": [
       "['2:15392,9779,94|171:0.7645712196826935,247:0.7591828256845474,7327:0.7535768449306488,11615:0.753212034702301,7894:0.7506844401359558,14751:0.7477867603302002,4895:0.747262179851532,10959:0.7462657392024994,7282:0.7454181611537933,10095:0.7433701753616333,14740:0.7432983219623566,5937:0.7413105964660645,226:0.7410294115543365,13616:0.7409757375717163,46312:0.7405028343200684,34137:0.7386239469051361,20750:0.7380946278572083,13932:0.7379572689533234,175:0.7372801303863525,22169:0.7369848191738129,17542:0.7368169724941254,13570:0.7352191805839539,16793:0.7351391315460205,14290:0.7348855137825012,39040:0.7342270314693451,18101:0.7336215376853943,8355:0.733427882194519,5335:0.733424037694931,9779:0.7330851256847382',\n",
       " '393232:393282,390667,383388|406736:0.7466354966163635,422902:0.7406712472438812,415326:0.7366973757743835,421260:0.7348855137825012,406500:0.7321025729179382,408246:0.731591135263443,370099:0.7307045459747314,170274:0.730268269777298,370804:0.7302266955375671,394517:0.7281719446182251,410955:0.7271212935447693,383388:0.7266605496406555,356328:0.7261155843734741,410468:0.7256708741188049,182374:0.7256128787994385,408095:0.7249618470668793,385665:0.7243725657463074,402986:0.7238171696662903,394384:0.7233159840106964,354960:0.7220351696014404,396570:0.7204048037528992,176074:0.7199851870536804,420310:0.7184779644012451,422384:0.7183367013931274,174211:0.7170302867889404,135287:0.7168236374855042,407208:0.7167330980300903,387234:0.7163953185081482,389987:0.7162607312202454',\n",
       " '30:205979,38236,99332,71263|19669:0.7868689447641373,15490:0.7861051112413406,232:0.7838661372661591,22835:0.7815948575735092,21240:0.7707505971193314,22172:0.768631100654602,22094:0.7676475942134857,22337:0.7671161741018295,21128:0.7671072632074356,99332:0.7650166004896164,19246:0.7633513659238815,4895:0.7620789408683777,23452:0.7609500586986542,14567:0.7607609629631042,26015:0.7595327645540237,17942:0.7594266980886459,14835:0.758779764175415,21252:0.7582022994756699,8202:0.7577454745769501,50288:0.7563191205263138,171:0.756047248840332,26483:0.75539331138134,17485:0.7541107386350632,12217:0.7539611905813217,20624:0.7529847323894501,12545:0.7517671287059784,24291:0.7513574361801147,23430:0.7511921972036362,21277:0.75108203291893',\n",
       " '131123:234849|113095:0.720719963312149,146275:0.720473438501358,87901:0.7194304466247559,80448:0.719248503446579,188055:0.7192012965679169,114261:0.7177179455757141,24386:0.7172730267047882,149657:0.716219425201416,121537:0.7152973115444183,115544:0.7152259647846222,162318:0.711223691701889,113071:0.7106469571590424,105665:0.7097269892692566,111682:0.7073696553707123,240873:0.7056531012058258,175545:0.7041344344615936,242499:0.7039393484592438,123900:0.70286625623703,138285:0.7027880847454071,80178:0.70228710770607,116159:0.7010686993598938,154181:0.7004761397838593,90773:0.7002625465393066,128951:0.6997544765472412,150142:0.6995746493339539,150144:0.6995746493339539,144207:0.698877602815628,165315:0.6979840397834778,165314:0.6979837119579315',\n",
       " '393277:393864,400436|384204:0.784058466553688,400084:0.7523191124200821,382829:0.7433732748031616,411034:0.736993819475174,215834:0.7358892560005188,221329:0.7341280281543732,391573:0.7320649027824402,347606:0.7306235432624817,321734:0.7292501926422119,364202:0.7286464273929596,319515:0.7280553579330444,340374:0.7251042127609253,407824:0.7248039245605469,409523:0.724545419216156,181334:0.7237821221351624,331818:0.7232966721057892,340405:0.723202258348465,333531:0.7222875356674194,346782:0.7220688164234161,380041:0.7213083803653717,389659:0.7212346792221069,392880:0.720647394657135,308235:0.7199801802635193,359660:0.7194332480430603,301640:0.7177039682865143,394576:0.7176138162612915,305360:0.7151418030261993,352065:0.7148150503635406,151943:0.7147352397441864',\n",
       " '131136:150817,149868,145937,65841,102812|150817:0.7680234909057617,108481:0.7574954926967621,39597:0.7555300146341324,101757:0.7547891438007355,209072:0.7524262815713882,145937:0.751115083694458,160002:0.7478197515010834,107833:0.7461214959621429,105559:0.7441510260105133,132102:0.7435693740844727,126176:0.7415733933448792,76889:0.7415315806865692,126364:0.7412125766277313,65841:0.7410790026187897,76650:0.7404661774635315,70340:0.740380048751831,113248:0.739001601934433,179039:0.7383269965648651,80658:0.7378470599651337,108768:0.7366967797279358,130526:0.7364413142204285,232402:0.7355627417564392,253960:0.7349490821361542,161236:0.7348251342773438,154621:0.7345716655254364,93499:0.7340228259563446,117023:0.7340163886547089,61979:0.733835756778717,89266:0.7336457073688507',\n",
       " '393282:393232,390667,383388|394628:0.7532027214765549,342202:0.7453635036945343,342430:0.7427095174789429,392434:0.7338815033435822,310395:0.7313913702964783,299786:0.7310866713523865,289796:0.729730874300003,308465:0.7285187244415283,305054:0.7276804447174072,316210:0.7275976240634918,306930:0.7269501686096191,288752:0.7261835932731628,309549:0.725905567407608,198559:0.7242000102996826,191094:0.7241920232772827,312180:0.7220596671104431,303214:0.7219118475914001,291389:0.7200617790222168,323863:0.7198922038078308,404329:0.7185765504837036,324819:0.7182958722114563,354066:0.7176761329174042,409428:0.7169572114944458,230044:0.7165440618991852,321578:0.7150939106941223,313952:0.7134130299091339,305845:0.7123588621616364,315177:0.7107407748699188,257988:0.7103273868560791',\n",
       " '262212:292851,292845,291839|291839:0.7426887154579163,259768:0.7366665899753571,385144:0.7270753085613251,203415:0.7257500886917114,309288:0.7225590646266937,401685:0.7190587818622589,342141:0.7178494930267334,169259:0.7164216637611389,176160:0.716064989566803,279675:0.7155617475509644,397254:0.7148491144180298,264447:0.71307772397995,286384:0.7127652764320374,179838:0.7125791311264038,197989:0.7122720181941986,371277:0.7110367715358734,292851:0.7099947333335876,203385:0.7086937725543976,237448:0.7086629867553711,241072:0.708053857088089,362574:0.7071366310119629,169663:0.706483006477356,376285:0.7064093351364136,338871:0.7055331170558929,178765:0.7051278948783875,264841:0.702865332365036,193505:0.7027145326137543,271713:0.7025452256202698,400661:0.7023894488811493',\n",
       " '131143:135599|129959:0.7358293831348419,156764:0.7259654700756073,126907:0.7150766551494598,159331:0.7127567529678345,383982:0.7031024694442749,141647:0.6988093852996826,229381:0.697361022233963,125510:0.6959013640880585,139777:0.6957820951938629,135599:0.6949966847896576,212039:0.6940407752990723,131698:0.6937576234340668,219847:0.6934276819229126,173662:0.6909126341342926,135719:0.690864771604538,87304:0.6901648342609406,257805:0.6900585293769836,312784:0.6895930469036102,182623:0.6880577206611633,219267:0.6877340376377106,104436:0.6877270340919495,114700:0.6877143681049347,182662:0.6871522963047028,142598:0.6869683265686035,142599:0.6869683265686035,142600:0.6869683265686035,187148:0.6865637600421906,164790:0.6865349113941193,109286:0.6864335238933563',\n",
       " '71:256,228|5743:0.7496346235275269,228:0.7383869290351868,14052:0.7376899421215057,256:0.7368087768554688,88:0.7325537502765656,14044:0.7248868048191071,4895:0.7233517467975616,252:0.7200055420398712,7618:0.719401627779007,17942:0.7192533612251282,17518:0.7192468345165253,146:0.7187275886535645,178:0.7170652151107788,21263:0.7165632545948029,14290:0.7164488732814789,17328:0.7141549587249756,8989:0.7133084237575531,10095:0.7128703892230988,8355:0.7125243544578552,31053:0.7113494873046875,45492:0.7107945084571838,226:0.7100946009159088,7564:0.7100058794021606,24388:0.7098411321640015,76470:0.7098170518875122,232:0.7094395756721497,171:0.7091838717460632,15133:0.7083040475845337,10156:0.7076689004898071',\n",
       " '85:247,10959|247:0.7712952792644501,88:0.7584723383188248,10095:0.7557666897773743,171:0.7537965327501297,150:0.7517867088317871,4895:0.7506621032953262,10959:0.7476572394371033,178:0.7425899505615234,252:0.7415152192115784,146:0.7359573543071747,15429:0.7321511805057526,1916:0.7302919626235962,12545:0.7289631962776184,14673:0.7267269790172577,2:0.725844532251358,2497:0.7253585755825043,1867:0.724210798740387,4178:0.7238476872444153,22169:0.7237373888492584,25823:0.7226360440254211,3561:0.7208893597126007,53060:0.7208540141582489,2392:0.7199945449829102,14407:0.7184208631515503,19979:0.7169136106967926,21277:0.7166822850704193,50387:0.7166173160076141,19706:0.7164682745933533,10156:0.716219574213028',\n",
       " '88:6099,14116|247:0.7854478061199188,171:0.7754901498556137,256:0.7746943086385727,4895:0.7662340998649597,252:0.762988954782486,85:0.7584723383188248,178:0.7580117583274841,150:0.7527572214603424,226:0.7515064626932144,146:0.7503739297389984,14290:0.7495028078556061,4055:0.748937338590622,10095:0.7487736642360687,228:0.7472096681594849,33619:0.7470075786113739,1867:0.7450641393661499,17942:0.7428092658519745,5743:0.7422534823417664,24614:0.7409341633319855,3561:0.7391924262046814,24388:0.7373234927654266,30:0.7358473241329193,7618:0.735845148563385,232:0.7343635261058807,4051:0.7341341972351074,3483:0.7325682938098907,71:0.7325537502765656,15724:0.7325252890586853,1916:0.7323898375034332',\n",
       " '131161:44438,103374,98057|91171:0.7819303274154663,40222:0.764331117272377,82960:0.7614922225475311,164961:0.7537914663553238,164962:0.7537914663553238,68835:0.7513048648834229,117637:0.7486264407634735,154816:0.7454878687858582,128188:0.7434889078140259,100102:0.7409305572509766,103374:0.7405037581920624,144924:0.7383233308792114,135399:0.735230952501297,97110:0.7347221076488495,4895:0.7345510423183441,98263:0.7345472276210785,119895:0.7332146167755127,80351:0.732226550579071,155975:0.7320413291454315,12475:0.7313115000724792,76582:0.7312547564506531,45851:0.7304757237434387,79731:0.7303779721260071,63644:0.7299674153327942,14825:0.7290131449699402,72544:0.7287605702877045,124537:0.7285059690475464,136171:0.7284910678863525,44438:0.7283923327922821',\n",
       " '262235:260098,263611|273664:0.7755223959684372,279091:0.7728045582771301,258365:0.7653298825025558,282944:0.7603456079959869,261344:0.7594872713088989,276996:0.759200856089592,240277:0.7586967796087265,252682:0.7580635845661163,269519:0.7567784041166306,282427:0.7541964203119278,216050:0.7538201957941055,276133:0.7534779459238052,285667:0.753378376364708,281472:0.7522450834512711,238154:0.7516365647315979,252517:0.7509635537862778,306279:0.7508104592561722,274069:0.7495092749595642,277702:0.7493038177490234,266145:0.7488043308258057,269016:0.7486686408519745,297357:0.7481845319271088,300140:0.7478257119655609,270742:0.7473791241645813,290207:0.7472344636917114,276413:0.7463896870613098,196870:0.7463496327400208,272157:0.746175080537796,234927:0.7460748553276062',\n",
       " '94:15392,2,9779|23060:0.7442853152751923,146:0.7401866316795349,14751:0.736312061548233,228:0.7319866120815277,13570:0.7305863797664642,39040:0.7244037389755249,23758:0.7241849005222321,19233:0.7240222990512848,7282:0.7238249182701111,22806:0.7226050496101379,33545:0.7214852571487427,15392:0.7211161851882935,16793:0.719810277223587,5248:0.7191070020198822,14674:0.7190739512443542,11615:0.7179942429065704,16058:0.7178471386432648,8202:0.7169601917266846,10156:0.7149887382984161,37255:0.7145318388938904,20750:0.7143982946872711,18653:0.7140817642211914,8355:0.7138492465019226,110705:0.711727112531662,12183:0.7111300528049469,98263:0.7109106183052063,12412:0.710735023021698,27135:0.7105492353439331,14052:0.7102234065532684',\n",
       " '131171:202560,96651,172374|115381:0.7726323902606964,157567:0.770823284983635,156386:0.7681137174367905,202560:0.7679975777864456,229008:0.7669138461351395,131477:0.7666338980197906,95996:0.7605888247489929,125137:0.7596000880002975,61744:0.7581407725811005,210762:0.7576327621936798,193107:0.7565444111824036,128226:0.7563878148794174,272498:0.7562253326177597,146042:0.7559257000684738,133332:0.7558581978082657,165142:0.7558474242687225,185454:0.754200279712677,140991:0.7520808726549149,196969:0.7511289715766907,139397:0.7496422827243805,166223:0.7492916882038116,124158:0.7490690052509308,151044:0.7477097511291504,171271:0.7469858527183533,90097:0.7465616464614868,97512:0.746525377035141,116403:0.7461869418621063,119843:0.7456750869750977,187340:0.745492160320282',\n",
       " '393320:394988|337427:0.7308758497238159,338727:0.727066695690155,402037:0.726000189781189,225621:0.722584992647171,231158:0.721470296382904,330650:0.7200425565242767,286163:0.7193299233913422,367323:0.7185465395450592,351602:0.7154222428798676,352242:0.7123230397701263,367795:0.710613876581192,327860:0.7095891535282135,365385:0.7073363065719604,239540:0.7071084976196289,247511:0.7055622637271881,401393:0.7044212222099304,402600:0.7040712237358093,313545:0.7038270533084869,260983:0.7035283148288727,294816:0.7008855044841766,402953:0.7005292475223541,240853:0.6997412443161011,227225:0.69903165102005,380506:0.6989069283008575,323711:0.6981127560138702,309464:0.695260614156723,405645:0.694402426481247,337422:0.6914688050746918,286164:0.6911128759384155',\n",
       " '131180:134058,132491,131646|132491:0.7608177065849304,411731:0.7447328865528107,352934:0.7371677160263062,367221:0.7304946482181549,254703:0.7263923287391663,351498:0.725771427154541,79975:0.7204583585262299,158029:0.7197178602218628,177115:0.7195106744766235,140879:0.7180303633213043,410242:0.7175283133983612,140980:0.7173862159252167,252492:0.71736279129982,403365:0.7171026766300201,78833:0.7162944078445435,109940:0.7160020172595978,234126:0.7159611880779266,96069:0.7159345149993896,331750:0.713382363319397,389248:0.7130026519298553,164090:0.7128693461418152,418273:0.7123563289642334,396390:0.7123002409934998,304511:0.7105582654476166,323000:0.7104753851890564,223124:0.7104129791259766,310070:0.7103879749774933,164091:0.7097871899604797,389387:0.7096404433250427',\n",
       " '393332:405833,414629|417822:0.720567524433136,89757:0.690266489982605,32217:0.6873863935470581,31916:0.6843031942844391,28750:0.6821185350418091,67034:0.681057333946228,29088:0.6807547211647034,31033:0.6795695722103119,62125:0.679357647895813,310610:0.6790555119514465,39131:0.6779528260231018,359474:0.6775549948215485,41242:0.677413821220398,24377:0.6767373085021973,35716:0.6755434572696686,32590:0.6749081611633301,148318:0.6749047338962555,148319:0.6749047338962555,148143:0.674904465675354,151075:0.6738654375076294,95316:0.6717979907989502,114314:0.670258641242981,37129:0.669328510761261,107520:0.6688403487205505,30746:0.6685448884963989,30089:0.6681631207466125,144464:0.6680640876293182,5879:0.6676785945892334,28059:0.6672851145267487',\n",
       " '262266:262871|277356:0.7013105750083923,265278:0.6986342072486877,251200:0.6943040192127228,287004:0.6919091641902924,210124:0.6911690831184387,310461:0.688980221748352,223315:0.6875429451465607,228267:0.6871322989463806,282581:0.6838778853416443,285735:0.6833496391773224,313212:0.6831928789615631,277491:0.6827425956726074,235373:0.6824642419815063,225317:0.6817180812358856,286748:0.6817159354686737,261793:0.6812416613101959,258877:0.6801674664020538,276207:0.6790957748889923,242037:0.678825706243515,231887:0.678086519241333,268903:0.6779434680938721,173898:0.6774433553218842,287234:0.675304114818573,181215:0.6743979156017303,247870:0.6742973029613495,227966:0.6741510033607483,210304:0.6739559769630432,167667:0.6731250286102295,169359:0.6725325584411621']"
      ]
     },
     "execution_count": 53,
     "metadata": {},
     "output_type": "execute_result"
    }
   ],
   "source": [
    "exported_rank[:20]"
   ]
  },
  {
   "cell_type": "markdown",
   "metadata": {},
   "source": [
    "### Retrieval evaluation"
   ]
  },
  {
   "cell_type": "code",
   "execution_count": 54,
   "metadata": {},
   "outputs": [
    {
     "name": "stdout",
     "output_type": "stream",
     "text": [
      "Total of queries: 16995\n"
     ]
    }
   ],
   "source": [
    "print(\"Total of queries:\", len(retrieval.test))"
   ]
  },
  {
   "cell_type": "markdown",
   "metadata": {},
   "source": [
    "#### Getting the model trained"
   ]
  },
  {
   "cell_type": "code",
   "execution_count": 55,
   "metadata": {},
   "outputs": [
    {
     "data": {
      "text/plain": [
       "'bert_preprocessing_deepTL_1000_feature_1000epochs_64batch(eclipse)'"
      ]
     },
     "execution_count": 55,
     "metadata": {},
     "output_type": "execute_result"
    }
   ],
   "source": [
    "SAVE_PATH_FEATURE.replace('@number_of_epochs@', str(epochs))"
   ]
  },
  {
   "cell_type": "code",
   "execution_count": 56,
   "metadata": {},
   "outputs": [
    {
     "name": "stdout",
     "output_type": "stream",
     "text": [
      "__________________________________________________________________________________________________\n",
      "Layer (type)                    Output Shape         Param #     Connected to                     \n",
      "==================================================================================================\n",
      "info_in (InputLayer)            (None, 1682)         0                                            \n",
      "__________________________________________________________________________________________________\n",
      "title_token_in (InputLayer)     (None, 20)           0                                            \n",
      "__________________________________________________________________________________________________\n",
      "title_segment_in (InputLayer)   (None, 20)           0                                            \n",
      "__________________________________________________________________________________________________\n",
      "desc_token_in (InputLayer)      (None, 20)           0                                            \n",
      "__________________________________________________________________________________________________\n",
      "desc_segment_in (InputLayer)    (None, 20)           0                                            \n",
      "__________________________________________________________________________________________________\n",
      "FeatureMlpGenerationModel (Mode (None, 300)          504900      info_in[0][0]                    \n",
      "__________________________________________________________________________________________________\n",
      "FeatureBERTGenerationModelTitle (None, 300)          80577436    title_token_in[0][0]             \n",
      "                                                                 title_segment_in[0][0]           \n",
      "__________________________________________________________________________________________________\n",
      "FeatureBERTGenerationModelDescr (None, 300)          80577436    desc_token_in[0][0]              \n",
      "                                                                 desc_segment_in[0][0]            \n",
      "__________________________________________________________________________________________________\n",
      "merge_features_in (Concatenate) (None, 900)          0           FeatureMlpGenerationModel[1][0]  \n",
      "                                                                 FeatureBERTGenerationModelTitle[1\n",
      "                                                                 FeatureBERTGenerationModelDescrip\n",
      "==================================================================================================\n",
      "Total params: 161,659,772\n",
      "Trainable params: 1,187,596\n",
      "Non-trainable params: 160,472,176\n",
      "__________________________________________________________________________________________________\n"
     ]
    }
   ],
   "source": [
    "encoded_anchor.summary()"
   ]
  },
  {
   "cell_type": "code",
   "execution_count": 57,
   "metadata": {},
   "outputs": [
    {
     "data": {
      "text/plain": [
       "27321"
      ]
     },
     "execution_count": 57,
     "metadata": {},
     "output_type": "execute_result"
    }
   ],
   "source": [
    "len(exported_rank)"
   ]
  },
  {
   "cell_type": "code",
   "execution_count": 58,
   "metadata": {},
   "outputs": [
    {
     "data": {
      "text/plain": [
       "'data/processed/eclipse/bert/exported_rank_deepTL_1000.txt'"
      ]
     },
     "execution_count": 58,
     "metadata": {},
     "output_type": "execute_result"
    }
   ],
   "source": [
    "EXPORT_RANK_PATH = os.path.join(DIR, 'exported_rank_{}.txt'.format(METHOD))\n",
    "EXPORT_RANK_PATH"
   ]
  },
  {
   "cell_type": "code",
   "execution_count": 59,
   "metadata": {},
   "outputs": [],
   "source": [
    "with open(EXPORT_RANK_PATH, 'w') as file_out:\n",
    "    for row in exported_rank:\n",
    "        file_out.write(row + \"\\n\")"
   ]
  },
  {
   "cell_type": "code",
   "execution_count": 60,
   "metadata": {},
   "outputs": [
    {
     "data": {
      "text/plain": [
       "{'1 - recall_at_5': 0.47,\n",
       " '2 - recall_at_10': 0.53,\n",
       " '3 - recall_at_15': 0.57,\n",
       " '4 - recall_at_20': 0.59,\n",
       " '5 - recall_at_25': 0.61}"
      ]
     },
     "execution_count": 60,
     "metadata": {},
     "output_type": "execute_result"
    }
   ],
   "source": [
    "report = experiment.evaluation.evaluate(EXPORT_RANK_PATH)\n",
    "report"
   ]
  },
  {
   "cell_type": "markdown",
   "metadata": {},
   "source": [
    "#### Some ideas to visualizate"
   ]
  },
  {
   "cell_type": "markdown",
   "metadata": {},
   "source": [
    "- https://towardsdatascience.com/building-a-recommendation-system-using-neural-network-embeddings-1ef92e5c80c9"
   ]
  }
 ],
 "metadata": {
  "accelerator": "GPU",
  "colab": {
   "collapsed_sections": [],
   "name": "[baseline] Bug triage with Deep Learning.ipynb",
   "provenance": [],
   "toc_visible": true,
   "version": "0.3.2"
  },
  "kernelspec": {
   "display_name": "Python 3",
   "language": "python",
   "name": "python3"
  },
  "language_info": {
   "codemirror_mode": {
    "name": "ipython",
    "version": 3
   },
   "file_extension": ".py",
   "mimetype": "text/x-python",
   "name": "python",
   "nbconvert_exporter": "python",
   "pygments_lexer": "ipython3",
   "version": "3.5.2"
  }
 },
 "nbformat": 4,
 "nbformat_minor": 1
}
