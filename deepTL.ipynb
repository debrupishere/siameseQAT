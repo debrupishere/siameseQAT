{
 "cells": [
  {
   "cell_type": "markdown",
   "metadata": {
    "colab_type": "text",
    "id": "PtdA1qs_UQP1"
   },
   "source": [
    "# Propose BERT siamese with triplet"
   ]
  },
  {
   "cell_type": "code",
   "execution_count": 1,
   "metadata": {},
   "outputs": [
    {
     "name": "stderr",
     "output_type": "stream",
     "text": [
      "Using TensorFlow backend.\n"
     ]
    }
   ],
   "source": [
    "# import tensorflow as tf\n",
    "import keras\n",
    "# from tensorflow.python import keras\n",
    "import os"
   ]
  },
  {
   "cell_type": "code",
   "execution_count": 2,
   "metadata": {
    "colab": {},
    "colab_type": "code",
    "id": "qnSCLmiomFE1"
   },
   "outputs": [],
   "source": [
    "from __future__ import print_function, division"
   ]
  },
  {
   "cell_type": "code",
   "execution_count": 3,
   "metadata": {
    "colab": {},
    "colab_type": "code",
    "id": "OIha-SERnD72"
   },
   "outputs": [],
   "source": [
    "import re\n",
    "import numpy as np\n",
    "import pandas as pd\n",
    "\n",
    "import os\n",
    "from tqdm import tqdm_notebook as tqdm\n",
    "import matplotlib.pyplot as plt\n",
    "import sys\n",
    "from annoy import AnnoyIndex\n",
    "nb_dir = os.path.split(os.getcwd())[0]\n",
    "if nb_dir not in sys.path:\n",
    "    sys.path.append(nb_dir)\n",
    "    \n",
    "%matplotlib inline"
   ]
  },
  {
   "cell_type": "code",
   "execution_count": 4,
   "metadata": {
    "colab": {
     "base_uri": "https://localhost:8080/",
     "height": 34
    },
    "colab_type": "code",
    "id": "c57gQiuAnJAe",
    "outputId": "9eaf2d3f-619a-492d-f40b-6ba2c48426fa"
   },
   "outputs": [],
   "source": [
    "from keras.layers import Conv1D, Input, Add, Activation, Dropout, Embedding, MaxPooling1D, \\\n",
    "    GlobalMaxPool1D, Flatten, Dense, Concatenate, BatchNormalization\n",
    "from keras.models import Sequential, Model\n",
    "from keras.regularizers import l2\n",
    "from keras.initializers import TruncatedNormal\n",
    "from keras import optimizers"
   ]
  },
  {
   "cell_type": "code",
   "execution_count": 5,
   "metadata": {},
   "outputs": [],
   "source": [
    "from methods.baseline import Baseline\n",
    "from methods.experiments import Experiment\n",
    "from methods.evaluation import Evaluation\n",
    "from methods.retrieval import Retrieval"
   ]
  },
  {
   "cell_type": "markdown",
   "metadata": {
    "colab_type": "text",
    "id": "3VUZ6oG1gb91"
   },
   "source": [
    "## Auxiliary methods"
   ]
  },
  {
   "cell_type": "markdown",
   "metadata": {
    "colab_type": "text",
    "id": "8uQou7m2-bFO"
   },
   "source": [
    "## Configurações Globais"
   ]
  },
  {
   "cell_type": "code",
   "execution_count": 6,
   "metadata": {
    "colab": {},
    "colab_type": "code",
    "id": "G-Kn3x_K-aZj"
   },
   "outputs": [],
   "source": [
    "MAX_SEQUENCE_LENGTH_T = 20 # 20\n",
    "MAX_SEQUENCE_LENGTH_D = 20 # 80\n",
    "EMBEDDING_DIM = 300\n",
    "MAX_NB_WORDS = 20000\n",
    "\n",
    "'''\n",
    "    Configuration\n",
    "'''\n",
    "epochs = 1\n",
    "best_loss = 1\n",
    "best_epoch = 0\n",
    "verbose = 0\n",
    "loss = 1"
   ]
  },
  {
   "cell_type": "markdown",
   "metadata": {},
   "source": [
    "### Parse bugs preproprecessed"
   ]
  },
  {
   "cell_type": "code",
   "execution_count": 7,
   "metadata": {
    "scrolled": true
   },
   "outputs": [],
   "source": [
    "# !wget -q https://storage.googleapis.com/bert_models/2018_10_18/uncased_L-12_H-768_A-12.zip\n",
    "# !unzip -o uncased_L-12_H-768_A-12.zip"
   ]
  },
  {
   "cell_type": "code",
   "execution_count": 8,
   "metadata": {},
   "outputs": [],
   "source": [
    "import os\n",
    "\n",
    "# uncased_L-12_H-768_A-12\n",
    "# multi_cased_L-12_H-768_A-12\n",
    "pretrained_path = 'uncased_L-12_H-768_A-12'\n",
    "config_path = os.path.join(pretrained_path, 'bert_config.json')\n",
    "model_path = os.path.join(pretrained_path, 'bert_model.ckpt')\n",
    "vocab_path = os.path.join(pretrained_path, 'vocab.txt')"
   ]
  },
  {
   "cell_type": "code",
   "execution_count": 9,
   "metadata": {},
   "outputs": [],
   "source": [
    "from keras_bert import load_vocabulary\n",
    "\n",
    "token_dict = load_vocabulary(vocab_path)"
   ]
  },
  {
   "cell_type": "code",
   "execution_count": 10,
   "metadata": {
    "scrolled": true
   },
   "outputs": [
    {
     "data": {
      "text/plain": [
       "'Total vocabulary: 30522'"
      ]
     },
     "execution_count": 10,
     "metadata": {},
     "output_type": "execute_result"
    }
   ],
   "source": [
    "\"Total vocabulary: {}\".format(len(token_dict))"
   ]
  },
  {
   "cell_type": "code",
   "execution_count": 11,
   "metadata": {},
   "outputs": [],
   "source": [
    "# Domain to use\n",
    "DOMAIN = 'openoffice'\n",
    "METHOD = 'propose_bert_triplet_{}'.format(epochs)\n",
    "# Dataset paths\n",
    "DIR = 'data/processed/{}'.format(DOMAIN)\n",
    "DIR_PAIRS = 'data/normalized/{}'.format(DOMAIN)\n",
    "DATASET = os.path.join('data/normalized/{}'.format(DOMAIN), '{}.csv'.format(DOMAIN))\n",
    "# Path embeddings\n",
    "EMBED_DIR='data/embed'\n",
    "# Save model\n",
    "SAVE_PATH = '{}_feature@number_of_epochs@epochs_64batch({})'.format(METHOD, DOMAIN)\n",
    "SAVE_PATH_FEATURE = '{}_feature_@number_of_epochs@epochs_64batch({})'.format(METHOD, DOMAIN)\n",
    "\n",
    "# Extract CORPUs\n",
    "EXTRACT_CORPUS = False"
   ]
  },
  {
   "cell_type": "code",
   "execution_count": 12,
   "metadata": {},
   "outputs": [],
   "source": [
    "baseline = Baseline(DOMAIN, DIR, DATASET, MAX_SEQUENCE_LENGTH_T, MAX_SEQUENCE_LENGTH_D, \n",
    "                    token_dict['[CLS]'], token_dict['[SEP]'])\n",
    "evaluation = Evaluation(verbose=0)\n",
    "retrieval = Retrieval()\n",
    "experiment = Experiment(baseline, evaluation)"
   ]
  },
  {
   "cell_type": "code",
   "execution_count": 13,
   "metadata": {},
   "outputs": [
    {
     "name": "stdout",
     "output_type": "stream",
     "text": [
      "Creating the buckets...\n"
     ]
    },
    {
     "data": {
      "application/vnd.jupyter.widget-view+json": {
       "model_id": "5f84056f564b48d38ae0a68bc3e887a9",
       "version_major": 2,
       "version_minor": 0
      },
      "text/plain": [
       "HBox(children=(IntProgress(value=0, max=57667), HTML(value='')))"
      ]
     },
     "metadata": {},
     "output_type": "display_data"
    },
    {
     "name": "stdout",
     "output_type": "stream",
     "text": [
      "\n"
     ]
    },
    {
     "data": {
      "application/vnd.jupyter.widget-view+json": {
       "model_id": "8703ab4aab524a2dbccf8c143474f307",
       "version_major": 2,
       "version_minor": 0
      },
      "text/plain": [
       "HBox(children=(IntProgress(value=0, max=14567), HTML(value='')))"
      ]
     },
     "metadata": {},
     "output_type": "display_data"
    },
    {
     "name": "stdout",
     "output_type": "stream",
     "text": [
      "\n"
     ]
    }
   ],
   "source": [
    "experiment.set_retrieval(retrieval, baseline, DOMAIN)"
   ]
  },
  {
   "cell_type": "markdown",
   "metadata": {},
   "source": [
    "#### Loading bug ids in memory"
   ]
  },
  {
   "cell_type": "code",
   "execution_count": 14,
   "metadata": {
    "scrolled": true
   },
   "outputs": [
    {
     "name": "stdout",
     "output_type": "stream",
     "text": [
      "Reading bug ids\n"
     ]
    },
    {
     "data": {
      "text/plain": [
       "72234"
      ]
     },
     "execution_count": 14,
     "metadata": {},
     "output_type": "execute_result"
    }
   ],
   "source": [
    "experiment.load_ids()\n",
    "len(baseline.bug_ids)"
   ]
  },
  {
   "cell_type": "markdown",
   "metadata": {
    "colab_type": "text",
    "id": "vqzt5EKzqzcI"
   },
   "source": [
    "#### Dicionário de títulos e descrições"
   ]
  },
  {
   "cell_type": "code",
   "execution_count": 15,
   "metadata": {
    "scrolled": true
   },
   "outputs": [
    {
     "data": {
      "application/vnd.jupyter.widget-view+json": {
       "model_id": "efa64c238b774ab9ae5e03fa908863f7",
       "version_major": 2,
       "version_minor": 0
      },
      "text/plain": [
       "HBox(children=(IntProgress(value=0, max=72234), HTML(value='')))"
      ]
     },
     "metadata": {},
     "output_type": "display_data"
    },
    {
     "name": "stdout",
     "output_type": "stream",
     "text": [
      "\n"
     ]
    },
    {
     "data": {
      "application/vnd.jupyter.widget-view+json": {
       "model_id": "1bac542ea6e64ba1b2fac69ab8540ea6",
       "version_major": 2,
       "version_minor": 0
      },
      "text/plain": [
       "HBox(children=(IntProgress(value=1, bar_style='info', max=1), HTML(value='')))"
      ]
     },
     "metadata": {},
     "output_type": "display_data"
    },
    {
     "name": "stdout",
     "output_type": "stream",
     "text": [
      "\n",
      "CPU times: user 5.94 s, sys: 595 ms, total: 6.53 s\n",
      "Wall time: 6.46 s\n"
     ]
    }
   ],
   "source": [
    "%%time\n",
    "\n",
    "experiment.load_bugs()\n",
    "len(baseline.sentence_dict)"
   ]
  },
  {
   "cell_type": "markdown",
   "metadata": {},
   "source": [
    "#### Hashing bugs by buckets"
   ]
  },
  {
   "cell_type": "code",
   "execution_count": 16,
   "metadata": {},
   "outputs": [
    {
     "data": {
      "application/vnd.jupyter.widget-view+json": {
       "model_id": "89b6b76ad0eb48e698a1ba05edc50ff9",
       "version_major": 2,
       "version_minor": 0
      },
      "text/plain": [
       "HBox(children=(IntProgress(value=0, max=58572), HTML(value='')))"
      ]
     },
     "metadata": {},
     "output_type": "display_data"
    },
    {
     "name": "stdout",
     "output_type": "stream",
     "text": [
      "\n"
     ]
    }
   ],
   "source": [
    "issues_by_buckets = experiment.get_buckets_for_bugs()"
   ]
  },
  {
   "cell_type": "markdown",
   "metadata": {
    "colab_type": "text",
    "id": "a6Obtop6UIVD"
   },
   "source": [
    "#### Prepare the train and test"
   ]
  },
  {
   "cell_type": "code",
   "execution_count": 17,
   "metadata": {
    "colab": {},
    "colab_type": "code",
    "id": "vvyMGBD4IhB-",
    "scrolled": true
   },
   "outputs": [
    {
     "name": "stdout",
     "output_type": "stream",
     "text": [
      "Reading train data\n",
      "Reading bug ids\n",
      "CPU times: user 19.9 s, sys: 0 ns, total: 19.9 s\n",
      "Wall time: 19.9 s\n"
     ]
    }
   ],
   "source": [
    "%%time\n",
    "#path_train='train_chronological', path_test='test_chronological'\n",
    "experiment.prepare_dataset(issues_by_buckets, path_train='train_chronological', path_test='test_chronological')\n",
    "# Read and create the test queries duplicates\n",
    "retrieval.create_queries()"
   ]
  },
  {
   "cell_type": "markdown",
   "metadata": {},
   "source": [
    "#### Recovery bug ids from train"
   ]
  },
  {
   "cell_type": "code",
   "execution_count": 18,
   "metadata": {},
   "outputs": [],
   "source": [
    "bug_train_ids = experiment.get_train_ids(baseline.train_data)"
   ]
  },
  {
   "cell_type": "markdown",
   "metadata": {},
   "source": [
    "#### Display a random bug"
   ]
  },
  {
   "cell_type": "code",
   "execution_count": 19,
   "metadata": {
    "scrolled": true
   },
   "outputs": [
    {
     "data": {
      "text/plain": [
       "{'bug_severity': '4\\n',\n",
       " 'bug_status': '1\\n',\n",
       " 'component': '121\\n',\n",
       " 'creation_ts': '2004-08-31 16:39:00 +0000',\n",
       " 'delta_ts': '2013-08-07 14:41:36 +0000',\n",
       " 'description': '[CLS] sb ##a : - launch the spell ##che ##cker - > the cu ##rso ##r is in the preview window , so pressing < enter > insert ##s an empty line . this is not wanted at all and forces the user to use the mouse or the < tab > key before proceeding . in ms word , the default is on < ignore once > . this makes sense . im ##ho \" change \" ( using the first suggestion if there is one ) shall be the \" default \" , as it was in the \" old \" spell ##che ##ck dial ##og . since this was not mentioned in the spec , i expect the \" old \" behavior . [SEP]',\n",
       " 'description_bert': '[CLS] sb ##a : - launch the spell ##che ##cker - > the cu ##rso ##r is in the preview window , so pressing < enter > insert ##s an empty line . this is not wanted at all and forces the user to use the mouse or the < tab > key before proceeding . in ms word , the default is on < ignore once > . this makes sense . im ##ho \" change \" ( using the first suggestion if there is one ) shall be the \" default \" , as it was in the \" old \" spell ##che ##ck dial ##og . since this was not mentioned in the spec , i expect the \" old \" behavior . [SEP]',\n",
       " 'description_word': array([  101, 24829,  2050,  1024,  1011,  4888,  1996,  6297,  5403,\n",
       "         9102,  1011,  1028,  1996, 12731, 25301,  2099,  2003,  1999,\n",
       "         1996,   102]),\n",
       " 'description_word_bert': [101,\n",
       "  24829,\n",
       "  2050,\n",
       "  1024,\n",
       "  1011,\n",
       "  4888,\n",
       "  1996,\n",
       "  6297,\n",
       "  5403,\n",
       "  9102,\n",
       "  1011,\n",
       "  1028,\n",
       "  1996,\n",
       "  12731,\n",
       "  25301,\n",
       "  2099,\n",
       "  2003,\n",
       "  1999,\n",
       "  1996,\n",
       "  19236,\n",
       "  3332,\n",
       "  1010,\n",
       "  2061,\n",
       "  7827,\n",
       "  1026,\n",
       "  4607,\n",
       "  1028,\n",
       "  19274,\n",
       "  2015,\n",
       "  2019,\n",
       "  4064,\n",
       "  2240,\n",
       "  1012,\n",
       "  2023,\n",
       "  2003,\n",
       "  2025,\n",
       "  2359,\n",
       "  2012,\n",
       "  2035,\n",
       "  1998,\n",
       "  2749,\n",
       "  1996,\n",
       "  5310,\n",
       "  2000,\n",
       "  2224,\n",
       "  1996,\n",
       "  8000,\n",
       "  2030,\n",
       "  1996,\n",
       "  1026,\n",
       "  21628,\n",
       "  1028,\n",
       "  3145,\n",
       "  2077,\n",
       "  18207,\n",
       "  1012,\n",
       "  1999,\n",
       "  5796,\n",
       "  2773,\n",
       "  1010,\n",
       "  1996,\n",
       "  12398,\n",
       "  2003,\n",
       "  2006,\n",
       "  1026,\n",
       "  8568,\n",
       "  2320,\n",
       "  1028,\n",
       "  1012,\n",
       "  2023,\n",
       "  3084,\n",
       "  3168,\n",
       "  1012,\n",
       "  10047,\n",
       "  6806,\n",
       "  1000,\n",
       "  2689,\n",
       "  1000,\n",
       "  1006,\n",
       "  2478,\n",
       "  1996,\n",
       "  2034,\n",
       "  10293,\n",
       "  2065,\n",
       "  2045,\n",
       "  2003,\n",
       "  2028,\n",
       "  1007,\n",
       "  4618,\n",
       "  2022,\n",
       "  1996,\n",
       "  1000,\n",
       "  12398,\n",
       "  1000,\n",
       "  1010,\n",
       "  2004,\n",
       "  2009,\n",
       "  2001,\n",
       "  1999,\n",
       "  1996,\n",
       "  1000,\n",
       "  2214,\n",
       "  1000,\n",
       "  6297,\n",
       "  5403,\n",
       "  3600,\n",
       "  13764,\n",
       "  8649,\n",
       "  1012,\n",
       "  2144,\n",
       "  2023,\n",
       "  2001,\n",
       "  2025,\n",
       "  3855,\n",
       "  1999,\n",
       "  1996,\n",
       "  28699,\n",
       "  1010,\n",
       "  1045,\n",
       "  5987,\n",
       "  1996,\n",
       "  1000,\n",
       "  2214,\n",
       "  1000,\n",
       "  5248,\n",
       "  1012,\n",
       "  102,\n",
       "  0,\n",
       "  0,\n",
       "  0,\n",
       "  0,\n",
       "  0,\n",
       "  0,\n",
       "  0,\n",
       "  0,\n",
       "  0,\n",
       "  0,\n",
       "  0,\n",
       "  0,\n",
       "  0,\n",
       "  0,\n",
       "  0,\n",
       "  0,\n",
       "  0,\n",
       "  0,\n",
       "  0,\n",
       "  0,\n",
       "  0,\n",
       "  0,\n",
       "  0],\n",
       " 'dup_id': '[]',\n",
       " 'issue_id': 33646,\n",
       " 'priority': '3\\n',\n",
       " 'product': '6\\n',\n",
       " 'resolution': 'FIXED',\n",
       " 'textual_word': array([  101,  2047,  6297,  5403,  3600, 13764,  8649,  1024, 12398,\n",
       "         3579,  2003,  1999,  1996, 19236,  3332,     0,     0,     0,\n",
       "            0,   102,   101, 24829,  2050,  1024,  1011,  4888,  1996,\n",
       "         6297,  5403,  9102,  1011,  1028,  1996, 12731, 25301,  2099,\n",
       "         2003,  1999,  1996,   102]),\n",
       " 'title': '[CLS] new spell ##che ##ck dial ##og : default focus is in the preview window [SEP]',\n",
       " 'title_bert': '[CLS] new spell ##che ##ck dial ##og : default focus is in the preview window [SEP]',\n",
       " 'title_word': array([  101,  2047,  6297,  5403,  3600, 13764,  8649,  1024, 12398,\n",
       "         3579,  2003,  1999,  1996, 19236,  3332,     0,     0,     0,\n",
       "            0,   102]),\n",
       " 'title_word_bert': [101,\n",
       "  2047,\n",
       "  6297,\n",
       "  5403,\n",
       "  3600,\n",
       "  13764,\n",
       "  8649,\n",
       "  1024,\n",
       "  12398,\n",
       "  3579,\n",
       "  2003,\n",
       "  1999,\n",
       "  1996,\n",
       "  19236,\n",
       "  3332,\n",
       "  102,\n",
       "  0,\n",
       "  0,\n",
       "  0,\n",
       "  0,\n",
       "  0,\n",
       "  0,\n",
       "  0,\n",
       "  0,\n",
       "  0,\n",
       "  0,\n",
       "  0,\n",
       "  0,\n",
       "  0,\n",
       "  0,\n",
       "  0,\n",
       "  0,\n",
       "  0,\n",
       "  0,\n",
       "  0,\n",
       "  0,\n",
       "  0,\n",
       "  0,\n",
       "  0,\n",
       "  0,\n",
       "  0,\n",
       "  0,\n",
       "  0,\n",
       "  0,\n",
       "  0,\n",
       "  0,\n",
       "  0,\n",
       "  0,\n",
       "  0,\n",
       "  0],\n",
       " 'version': '498\\n'}"
      ]
     },
     "execution_count": 19,
     "metadata": {},
     "output_type": "execute_result"
    }
   ],
   "source": [
    "idx = np.random.choice(baseline.bug_ids, 1)[0]\n",
    "baseline.bug_set[idx]"
   ]
  },
  {
   "cell_type": "markdown",
   "metadata": {},
   "source": [
    "### Generating the batch test"
   ]
  },
  {
   "cell_type": "code",
   "execution_count": 20,
   "metadata": {},
   "outputs": [
    {
     "data": {
      "text/plain": [
       "('Train ', 11043)"
      ]
     },
     "execution_count": 20,
     "metadata": {},
     "output_type": "execute_result"
    }
   ],
   "source": [
    "\"Train \", len(baseline.dup_sets_train)"
   ]
  },
  {
   "cell_type": "code",
   "execution_count": 21,
   "metadata": {},
   "outputs": [
    {
     "data": {
      "text/plain": [
       "'Indexed all train'"
      ]
     },
     "execution_count": 21,
     "metadata": {},
     "output_type": "execute_result"
    }
   ],
   "source": [
    "bug_idx = bug_train_ids[0]\n",
    "vector = baseline.bug_set[bug_idx]['textual_word']\n",
    "annoy_train = AnnoyIndex(vector.shape[0])\n",
    "for bug_id in bug_train_ids:\n",
    "    annoy_train.add_item(bug_id, baseline.bug_set[bug_id]['textual_word'])\n",
    "annoy_train.build(10) # 10 trees\n",
    "\"Indexed all train\""
   ]
  },
  {
   "cell_type": "markdown",
   "metadata": {},
   "source": [
    "### Train ids"
   ]
  },
  {
   "cell_type": "code",
   "execution_count": 22,
   "metadata": {},
   "outputs": [],
   "source": [
    "bug_train_ids = experiment.get_train_ids(baseline.train_data)"
   ]
  },
  {
   "cell_type": "code",
   "execution_count": 23,
   "metadata": {
    "colab": {
     "base_uri": "https://localhost:8080/",
     "height": 51
    },
    "colab_type": "code",
    "id": "PA5CIhgz7odW",
    "outputId": "ae98fdec-1d54-4b1f-ee0e-4c5633802a18",
    "scrolled": true
   },
   "outputs": [
    {
     "name": "stdout",
     "output_type": "stream",
     "text": [
      "CPU times: user 39.1 ms, sys: 0 ns, total: 39.1 ms\n",
      "Wall time: 38.7 ms\n"
     ]
    }
   ],
   "source": [
    "%%time\n",
    "\n",
    "batch_size = 64\n",
    "batch_size_test = 128\n",
    "\n",
    "# we want a constant validation group to have a frame of reference for model performance\n",
    "batch_triplets_valid, valid_input_sample, valid_input_pos, valid_input_neg, valid_sim = experiment.batch_iterator_bert(None, \n",
    "                                                                                                                  baseline.train_data, \n",
    "                                                                                                                  baseline.dup_sets_train,\n",
    "                                                                                                                  bug_train_ids,\n",
    "                                                                                                                  batch_size_test, 1, \n",
    "                                                                                                                  issues_by_buckets)\n",
    "\n",
    "# Categorical columns\n",
    "number_of_columns_info = valid_input_sample['info'].shape[1]\n",
    "# Max sequence title\n",
    "MAX_SEQUENCE_LENGTH_T = valid_input_sample['title']['token'].shape[1]\n",
    "MAX_SEQUENCE_LENGTH_D = valid_input_sample['description']['token'].shape[1]"
   ]
  },
  {
   "cell_type": "code",
   "execution_count": 24,
   "metadata": {},
   "outputs": [
    {
     "data": {
      "text/plain": [
       "((128, 20), (128, 20), (128, 729), (128,))"
      ]
     },
     "execution_count": 24,
     "metadata": {},
     "output_type": "execute_result"
    }
   ],
   "source": [
    "valid_input_sample['title']['token'].shape, valid_input_sample['description']['token'].shape, \\\n",
    "    valid_input_sample['info'].shape, valid_sim.shape"
   ]
  },
  {
   "cell_type": "code",
   "execution_count": 25,
   "metadata": {},
   "outputs": [
    {
     "data": {
      "text/plain": [
       "('Test ', 2086)"
      ]
     },
     "execution_count": 25,
     "metadata": {},
     "output_type": "execute_result"
    }
   ],
   "source": [
    "\"Test \", len(baseline.test_data)"
   ]
  },
  {
   "cell_type": "markdown",
   "metadata": {
    "colab_type": "text",
    "id": "24mY22BGnkqp"
   },
   "source": [
    "### Validar entrada"
   ]
  },
  {
   "cell_type": "code",
   "execution_count": 26,
   "metadata": {
    "colab": {
     "base_uri": "https://localhost:8080/",
     "height": 796
    },
    "colab_type": "code",
    "id": "OhTbr3a5nmrh",
    "outputId": "a2d73e0f-e9ce-4d12-a5c8-f0008d2402d0",
    "scrolled": true
   },
   "outputs": [],
   "source": [
    "# %%time \n",
    "\n",
    "# baseline.display_batch(baseline.train_data, baseline.dup_sets_train, bug_train_ids, 5, batch_iterator, issues_by_buckets)"
   ]
  },
  {
   "cell_type": "markdown",
   "metadata": {},
   "source": [
    "## Experiment"
   ]
  },
  {
   "cell_type": "markdown",
   "metadata": {
    "colab_type": "text",
    "id": "Lev5Y7oaFQBd"
   },
   "source": [
    "## Propose\n",
    "\n",
    "https://github.com/tqtg/DuplicateBugFinder"
   ]
  },
  {
   "cell_type": "code",
   "execution_count": 27,
   "metadata": {},
   "outputs": [],
   "source": [
    "from keras.initializers import RandomUniform, RandomNormal, Ones"
   ]
  },
  {
   "cell_type": "markdown",
   "metadata": {},
   "source": [
    "### BERT\n",
    "\n",
    "https://github.com/CyberZHG/keras-bert"
   ]
  },
  {
   "cell_type": "code",
   "execution_count": 28,
   "metadata": {},
   "outputs": [],
   "source": [
    "from keras_bert import load_trained_model_from_checkpoint\n",
    "from keras_bert import compile_model, get_model\n",
    "from keras.layers import GlobalAveragePooling1D\n",
    "\n",
    "def bert_model(MAX_SEQUENCE_LENGTH, name):\n",
    "    layer_num = 8\n",
    "#     model = load_trained_model_from_checkpoint(\n",
    "#             config_path,\n",
    "#             model_path,\n",
    "#             training=True,\n",
    "#             trainable=True,\n",
    "#             seq_len=MAX_SEQUENCE_LENGTH,\n",
    "#     )\n",
    "    model = load_trained_model_from_checkpoint(\n",
    "        config_path,\n",
    "        model_path,\n",
    "        training=True,\n",
    "        use_adapter=True,\n",
    "        seq_len=MAX_SEQUENCE_LENGTH,\n",
    "        trainable=['Encoder-{}-MultiHeadSelfAttention-Adapter'.format(i + 1) for i in range(12-layer_num, 13)] +\n",
    "        ['Encoder-{}-FeedForward-Adapter'.format(i + 1) for i in range(12-layer_num, 13)] +\n",
    "        ['Encoder-{}-MultiHeadSelfAttention-Norm'.format(i + 1) for i in range(12-layer_num, 13)] +\n",
    "        ['Encoder-{}-FeedForward-Norm'.format(i + 1) for i in range(layer_num)],\n",
    "    )\n",
    "#     model = get_model(\n",
    "#         token_num=len(token_dict),\n",
    "#         head_num=10,\n",
    "#         transformer_num=layer_num,\n",
    "#         embed_dim=100,\n",
    "#         feed_forward_dim=100,\n",
    "#         seq_len=MAX_SEQUENCE_LENGTH,\n",
    "#         pos_num=MAX_SEQUENCE_LENGTH,\n",
    "#         dropout_rate=0.05,\n",
    "#     )\n",
    "    compile_model(model)\n",
    "    inputs = model.inputs[:2]\n",
    "    outputs = model.get_layer('Encoder-{}-FeedForward-Norm'.format(layer_num)).output\n",
    "    #outputs = model.get_layer('Extract').output\n",
    "    outputs = GlobalAveragePooling1D()(outputs)\n",
    "#     outputs = Dense(300, activation='tanh')(outputs)\n",
    "    \n",
    "    model = Model(inputs, outputs, name='FeatureBERTGenerationModel{}'.format(name))\n",
    "    \n",
    "    return model"
   ]
  },
  {
   "cell_type": "markdown",
   "metadata": {},
   "source": [
    "### MLP"
   ]
  },
  {
   "cell_type": "code",
   "execution_count": 29,
   "metadata": {},
   "outputs": [],
   "source": [
    "def mlp_model(input_size):\n",
    "    info_input = Input(shape=(input_size, ), name='Feature_BugInput')\n",
    "    input_size = 300\n",
    "    \n",
    "    layer = Dense(input_size, activation='tanh')(info_input)\n",
    "    \n",
    "    #layer = GRU(100, activation='tanh')(layer)\n",
    "    \n",
    "    mlp_feature_model = Model(inputs=[info_input], outputs=[layer], name = 'FeatureMlpGenerationModel')\n",
    "    \n",
    "    return mlp_feature_model"
   ]
  },
  {
   "cell_type": "markdown",
   "metadata": {
    "colab_type": "text",
    "id": "TEedCg5AaTf2"
   },
   "source": [
    "### Siamese model"
   ]
  },
  {
   "cell_type": "code",
   "execution_count": 30,
   "metadata": {
    "colab": {
     "base_uri": "https://localhost:8080/",
     "height": 561
    },
    "colab_type": "code",
    "id": "VWBkSIYVaXyP",
    "outputId": "ed2a3d37-b8ec-4960-ef45-2909a87c8fa5"
   },
   "outputs": [],
   "source": [
    "from keras import backend as K\n",
    "\n",
    "'''\n",
    "    Some loss ideas\n",
    "    hinge loss Kullback-Leibler\n",
    "    https://stackoverflow.com/questions/53581298/custom-combined-hinge-kb-divergence-loss-function-in-siamese-net-fails-to-genera\n",
    "'''\n",
    "\n",
    "def normalize(x, axis):\n",
    "    norm = K.sqrt(K.sum(K.square(x), axis=axis, keepdims=False))\n",
    "    return x, K.maximum(norm, K.epsilon())\n",
    "    \n",
    "# https://github.com/keras-team/keras/issues/3031\n",
    "# https://github.com/keras-team/keras/issues/8335\n",
    "def cosine_distance(inputs):\n",
    "    x, y = inputs\n",
    "    x, x_norm = normalize(x, axis=-1)\n",
    "    y, y_norm = normalize(y, axis=-1)\n",
    "    distance = K.sum( x * y, axis=-1) / (x_norm * y_norm)\n",
    "    distance = (distance + K.constant(1)) / K.constant(2)\n",
    "    # Distance goes from 0 to 2 in theory, but from 0 to 1 if x and y are both\n",
    "    # positive (which is the case after ReLU activation).\n",
    "    return K.mean(distance, axis=-1, keepdims=False)\n",
    "\n",
    "def euclidean_distance(vects):\n",
    "    x, y = vects\n",
    "    distance = K.sqrt(K.maximum(K.sum(K.square(x - y), axis=1, keepdims=True), K.epsilon()))\n",
    "    # Normalize https://stats.stackexchange.com/questions/53068/euclidean-distance-score-and-similarity\n",
    "    distance = K.constant(1) / (K.constant(1) + distance)\n",
    "    return K.mean(distance, keepdims=False)\n",
    "    #return K.mean(distance, axis=-1, keepdims=False)\n",
    "\n",
    "# https://jdhao.github.io/2017/03/13/some_loss_and_explanations/\n",
    "def triplet_loss(y_true, y_pred):\n",
    "    margin = K.constant(1.0)\n",
    "    pos = y_pred[0]\n",
    "    neg = y_pred[1]\n",
    "    return K.mean(K.maximum(0.0, pos - neg + margin))\n",
    "\n",
    "def custom_margin_loss(y_true, y_pred):\n",
    "    margin = K.constant(1.0)\n",
    "    pos = y_pred[0]\n",
    "    neg = y_pred[1]\n",
    "    return K.mean(K.maximum(0.0, margin - pos + neg), keepdims=False)\n",
    "\n",
    "# https://www.kaggle.com/c/quora-question-pairs/discussion/33631\n",
    "# https://www.researchgate.net/figure/Illustration-of-triplet-loss-contrastive-loss-for-negative-samples-and-binomial_fig2_322060548\n",
    "def contrastive_loss(y_true, y_pred):\n",
    "    '''Contrastive loss from Hadsell-et-al.'06\n",
    "    http://yann.lecun.com/exdb/publis/pdf/hadsell-chopra-lecun-06.pdf\n",
    "    '''\n",
    "    pos = y_pred[0]\n",
    "    neg = y_pred[1]\n",
    "    margin = 1\n",
    "    return K.mean(pos * K.square(neg) +\n",
    "                  (1 - pos) * K.square(K.maximum(margin - neg, 0)))\n",
    "\n",
    "def pos_distance(y_true, y_pred):\n",
    "    return y_pred[0]\n",
    "\n",
    "def neg_distance(y_true, y_pred):\n",
    "    return y_pred[1]\n",
    "\n",
    "def stack_tensors(vects):\n",
    "    return K.stack(vects, axis=-1)"
   ]
  },
  {
   "cell_type": "markdown",
   "metadata": {},
   "source": [
    "### Propose"
   ]
  },
  {
   "cell_type": "code",
   "execution_count": 31,
   "metadata": {},
   "outputs": [],
   "source": [
    "from keras.layers import concatenate, Add, Lambda, Average, Maximum, Subtract, Average, AveragePooling1D, GlobalAveragePooling1D\n",
    "from keras.optimizers import Adam, Nadam\n",
    "\n",
    "def siamese_model(title_feature_model, desc_feature_model, categorical_feature_model, sequence_length_info, \n",
    "                  sequence_length_t, sequence_length_d, name):\n",
    "    \n",
    "    # Title\n",
    "    bug_t_token = Input(shape = (sequence_length_t, ), name = 'title_token_{}'.format(name))\n",
    "    bug_t_segment = Input(shape = (sequence_length_t, ), name = 'title_segment_{}'.format(name))\n",
    "    # Description\n",
    "    bug_d_token = Input(shape = (sequence_length_d, ), name = 'desc_token_{}'.format(name))\n",
    "    bug_d_segment = Input(shape = (sequence_length_d, ), name = 'desc_segment_{}'.format(name))\n",
    "    # Categorical\n",
    "    bug_i = Input(shape = (sequence_length_info, ), name = 'info_{}'.format(name))\n",
    "    \n",
    "    bug_t_feat = title_feature_model([bug_t_token, bug_t_segment])\n",
    "    bug_d_feat = desc_feature_model([bug_d_token, bug_d_segment])\n",
    "    bug_i_feat = categorical_feature_model(bug_i)\n",
    "    \n",
    "    #bug_feature_output = Add(name = 'merge_features_{}'.format(name))([bug_i_feat, bug_t_feat, bug_d_feat])\n",
    "    bug_feature_output = concatenate([bug_i_feat, bug_t_feat, bug_d_feat], name = 'merge_features_{}'.format(name))\n",
    "    \n",
    "    bug_feature_model = Model(inputs=[bug_t_token, bug_t_segment, bug_d_token, bug_d_segment, bug_i], outputs=[bug_feature_output], name = 'merge_features_{}'.format(name))\n",
    "    \n",
    "    return bug_feature_model"
   ]
  },
  {
   "cell_type": "code",
   "execution_count": 32,
   "metadata": {},
   "outputs": [],
   "source": [
    "from keras.layers import Average\n",
    "# from keras_radam import RAdam\n",
    "from keras_bert import AdamWarmup, calc_train_steps\n",
    "\n",
    "def max_margin_objective(encoded_anchor, encoded_positive, encoded_negative, \n",
    "                         NUMBER_OF_INSTANCES, BATCH_SIZE, EPOCHS, decay_lr=1):\n",
    "    \n",
    "    inputs = np.concatenate([encoded_anchor.input, encoded_positive.input, encoded_negative.input], -1).tolist()\n",
    "    \n",
    "    encoded_anchor = encoded_anchor.output\n",
    "    encoded_positive = encoded_positive.output\n",
    "    encoded_negative = encoded_negative.output\n",
    "    \n",
    "    # Distance bugs\n",
    "    positive_d = Lambda(cosine_distance, name='pos_cosine_distance', output_shape=[1])([encoded_anchor, encoded_positive])\n",
    "    negative_d = Lambda(cosine_distance, name='neg_cosine_distance', output_shape=[1])([encoded_anchor, encoded_negative])\n",
    "\n",
    "    # Loss function only works with a single output\n",
    "    output = Lambda(\n",
    "        lambda vects: stack_tensors(vects),\n",
    "        name='stack-distances-bug',\n",
    "        output_shape=(2, 1)\n",
    "    )([positive_d, negative_d])\n",
    "    \n",
    "    #output_avg_master = Average()([output_master, output_master_pos, output_master_neg])\n",
    "    #output = Average()([output_bug, output_avg_master])\n",
    "    #loss = MarginLoss()(output)\n",
    "\n",
    "    similarity_model = Model(inputs = inputs, outputs = [output], name = 'Similarity_Model')\n",
    "    \n",
    "#     total_steps, warmup_steps = calc_train_steps(\n",
    "#         num_example=NUMBER_OF_INSTANCES,\n",
    "#         batch_size=BATCH_SIZE,\n",
    "#         epochs=EPOCHS,\n",
    "#         warmup_proportion=0.1,\n",
    "#     )\n",
    "\n",
    "#     optimizer = AdamWarmup(total_steps, warmup_steps, lr=1e-3, min_lr=1e-5)\n",
    "\n",
    "    # setup the optimization process \n",
    "    similarity_model.compile(optimizer='adam', loss=custom_margin_loss, \n",
    "                                 metrics=[pos_distance, neg_distance])\n",
    "\n",
    "    return similarity_model"
   ]
  },
  {
   "cell_type": "code",
   "execution_count": 33,
   "metadata": {
    "scrolled": true
   },
   "outputs": [
    {
     "name": "stdout",
     "output_type": "stream",
     "text": [
      "Batch size  64\n",
      "__________________________________________________________________________________________________\n",
      "Layer (type)                    Output Shape         Param #     Connected to                     \n",
      "==================================================================================================\n",
      "info_in (InputLayer)            (None, 729)          0                                            \n",
      "__________________________________________________________________________________________________\n",
      "title_token_in (InputLayer)     (None, 20)           0                                            \n",
      "__________________________________________________________________________________________________\n",
      "title_segment_in (InputLayer)   (None, 20)           0                                            \n",
      "__________________________________________________________________________________________________\n",
      "desc_token_in (InputLayer)      (None, 20)           0                                            \n",
      "__________________________________________________________________________________________________\n",
      "desc_segment_in (InputLayer)    (None, 20)           0                                            \n",
      "__________________________________________________________________________________________________\n",
      "info_pos (InputLayer)           (None, 729)          0                                            \n",
      "__________________________________________________________________________________________________\n",
      "title_token_pos (InputLayer)    (None, 20)           0                                            \n",
      "__________________________________________________________________________________________________\n",
      "title_segment_pos (InputLayer)  (None, 20)           0                                            \n",
      "__________________________________________________________________________________________________\n",
      "desc_token_pos (InputLayer)     (None, 20)           0                                            \n",
      "__________________________________________________________________________________________________\n",
      "desc_segment_pos (InputLayer)   (None, 20)           0                                            \n",
      "__________________________________________________________________________________________________\n",
      "info_neg (InputLayer)           (None, 729)          0                                            \n",
      "__________________________________________________________________________________________________\n",
      "title_token_neg (InputLayer)    (None, 20)           0                                            \n",
      "__________________________________________________________________________________________________\n",
      "title_segment_neg (InputLayer)  (None, 20)           0                                            \n",
      "__________________________________________________________________________________________________\n",
      "desc_token_neg (InputLayer)     (None, 20)           0                                            \n",
      "__________________________________________________________________________________________________\n",
      "desc_segment_neg (InputLayer)   (None, 20)           0                                            \n",
      "__________________________________________________________________________________________________\n",
      "FeatureMlpGenerationModel (Mode (None, 300)          219000      info_in[0][0]                    \n",
      "                                                                 info_pos[0][0]                   \n",
      "                                                                 info_neg[0][0]                   \n",
      "__________________________________________________________________________________________________\n",
      "FeatureBERTGenerationModelTitle (None, 768)          80346736    title_token_in[0][0]             \n",
      "                                                                 title_segment_in[0][0]           \n",
      "                                                                 title_token_pos[0][0]            \n",
      "                                                                 title_segment_pos[0][0]          \n",
      "                                                                 title_token_neg[0][0]            \n",
      "                                                                 title_segment_neg[0][0]          \n",
      "__________________________________________________________________________________________________\n",
      "FeatureBERTGenerationModelDescr (None, 768)          80346736    desc_token_in[0][0]              \n",
      "                                                                 desc_segment_in[0][0]            \n",
      "                                                                 desc_token_pos[0][0]             \n",
      "                                                                 desc_segment_pos[0][0]           \n",
      "                                                                 desc_token_neg[0][0]             \n",
      "                                                                 desc_segment_neg[0][0]           \n",
      "__________________________________________________________________________________________________\n",
      "merge_features_in (Concatenate) (None, 1836)         0           FeatureMlpGenerationModel[1][0]  \n",
      "                                                                 FeatureBERTGenerationModelTitle[1\n",
      "                                                                 FeatureBERTGenerationModelDescrip\n",
      "__________________________________________________________________________________________________\n",
      "merge_features_pos (Concatenate (None, 1836)         0           FeatureMlpGenerationModel[2][0]  \n",
      "                                                                 FeatureBERTGenerationModelTitle[2\n",
      "                                                                 FeatureBERTGenerationModelDescrip\n",
      "__________________________________________________________________________________________________\n",
      "merge_features_neg (Concatenate (None, 1836)         0           FeatureMlpGenerationModel[3][0]  \n",
      "                                                                 FeatureBERTGenerationModelTitle[3\n",
      "                                                                 FeatureBERTGenerationModelDescrip\n",
      "__________________________________________________________________________________________________\n",
      "pos_cosine_distance (Lambda)    (None, 1)            0           merge_features_in[0][0]          \n",
      "                                                                 merge_features_pos[0][0]         \n",
      "__________________________________________________________________________________________________\n",
      "neg_cosine_distance (Lambda)    (None, 1)            0           merge_features_in[0][0]          \n",
      "                                                                 merge_features_neg[0][0]         \n",
      "__________________________________________________________________________________________________\n",
      "stack-distances-bug (Lambda)    (None, 2, 1)         0           pos_cosine_distance[0][0]        \n",
      "                                                                 neg_cosine_distance[0][0]        \n",
      "==================================================================================================\n",
      "Total params: 160,912,472\n",
      "Trainable params: 440,296\n",
      "Non-trainable params: 160,472,176\n",
      "__________________________________________________________________________________________________\n",
      "Epoch: 1 Loss: 1.02, pos_cosine: 0.89, neg_cosine: 0.90, recall@25: 0.39\n",
      "Saved model 'modelos/model_propose_bert_triplet_1_feature_1epochs_64batch(openoffice).h5' to disk\n",
      "Best_epoch=0, Best_loss=1.00s, Recall@25=0.39\n"
     ]
    }
   ],
   "source": [
    "# %%time\n",
    "import os\n",
    "\n",
    "print(\"Batch size \", batch_size)\n",
    "\n",
    "# Inspired on https://'pastebin.com/TaGFdcBA\n",
    "keras.backend.clear_session()\n",
    "\n",
    "# Feature models\n",
    "'''\n",
    "    cnn_dilated_model\n",
    "    arcii_model\n",
    "    cnn_model\n",
    "    lstm_model\n",
    "    bilstm_model\n",
    "'''\n",
    "# title_feature_model = bilstm_model(title_embedding_layer, MAX_SEQUENCE_LENGTH_T)\n",
    "title_feature_model = bert_model(MAX_SEQUENCE_LENGTH_T, 'Title')\n",
    "desc_feature_model = bert_model(MAX_SEQUENCE_LENGTH_D, 'Description')\n",
    "#desc_feature_model = cnn_model(desc_embedding_layer, MAX_SEQUENCE_LENGTH_D)\n",
    "categorical_feature_model = mlp_model(number_of_columns_info)\n",
    "\n",
    "# Similarity model\n",
    "encoded_anchor = siamese_model(title_feature_model, desc_feature_model, categorical_feature_model, \n",
    "                                     number_of_columns_info, MAX_SEQUENCE_LENGTH_T, MAX_SEQUENCE_LENGTH_D, 'in')\n",
    "encoded_positive = siamese_model(title_feature_model, desc_feature_model, categorical_feature_model, \n",
    "                                     number_of_columns_info, MAX_SEQUENCE_LENGTH_T, MAX_SEQUENCE_LENGTH_D, 'pos')\n",
    "encoded_negative = siamese_model(title_feature_model, desc_feature_model, categorical_feature_model, \n",
    "                                     number_of_columns_info, MAX_SEQUENCE_LENGTH_T, MAX_SEQUENCE_LENGTH_D, 'neg')\n",
    "\n",
    "\n",
    "NUMBER_OF_INSTANCES = len(baseline.dup_sets_train)\n",
    "BATCH_SIZE = batch_size\n",
    "EPOCHS = epochs\n",
    "\n",
    "similarity_model = max_margin_objective(encoded_anchor, encoded_positive, encoded_negative, \n",
    "                                            NUMBER_OF_INSTANCES, BATCH_SIZE, EPOCHS, decay_lr=1)\n",
    "\n",
    "# cnn_feature_model.summary()\n",
    "# lstm_feature_model.summary()\n",
    "similarity_model.summary()\n",
    "\n",
    "'''\n",
    "    Experiment\n",
    "'''\n",
    "for epoch in range(epochs):\n",
    "    batch_triplet_train, \\\n",
    "        train_input_sample, train_input_pos, train_input_neg, train_sim = experiment.batch_iterator_bert(encoded_anchor, baseline.train_data, baseline.dup_sets_train, bug_train_ids, \n",
    "                                       batch_size, 1, issues_by_buckets, TRIPLET_HARD=True)\n",
    "    \n",
    "    train_batch = [train_input_sample['title']['token'], train_input_sample['title']['segment'], train_input_sample['description']['token'], train_input_sample['description']['segment'], train_input_sample['info'],\n",
    "                   train_input_pos['title']['token'], train_input_pos['title']['segment'], train_input_pos['description']['token'], train_input_pos['description']['segment'], train_input_pos['info'], \n",
    "                   train_input_neg['title']['token'], train_input_neg['title']['segment'], train_input_neg['description']['token'], train_input_neg['description']['segment'], train_input_neg['info']]\n",
    "    \n",
    "#     if epoch == 10:\n",
    "#         similarity_model = max_margin_objective(encoded_anchor, encoded_positive, encoded_negative, decay_lr=0.1)\n",
    "    \n",
    "    h = similarity_model.train_on_batch(x=train_batch, y=train_sim)\n",
    "    \n",
    "    if (epoch+1 == epochs): #(epoch > 1 and epoch % 10 == 0) or (epoch+1 == epochs):\n",
    "        recall, _, debug = experiment.evaluate_validation_test(retrieval, verbose, encoded_anchor, issues_by_buckets, \n",
    "                                                               bug_train_ids, method='bert')\n",
    "        print(\"Epoch: {} Loss: {:.2f}, pos_cosine: {:.2f}, neg_cosine: {:.2f}, recall@25: {:.2f}\".format(epoch+1,\n",
    "                                                                                                         h[0],\n",
    "                                                                                                         h[1], h[2], recall))\n",
    "    else:\n",
    "        print(\"Epoch: {} Loss: {:.2f}, pos_cosine: {:.2f}, neg_cosine: {:.2f}\".format(epoch+1,\n",
    "                                                                                                         h[0],\n",
    "                                                                                                         h[1],\n",
    "                                                                                                         h[2]))\n",
    "    loss = h[0]\n",
    "    \n",
    "    if loss < best_loss:\n",
    "        best_loss = loss\n",
    "        best_epoch = epoch+1\n",
    "\n",
    "experiment.save_model(similarity_model, SAVE_PATH.replace('@number_of_epochs@', str(epochs)))\n",
    "experiment.save_model(encoded_anchor, SAVE_PATH_FEATURE.replace('@number_of_epochs@', str(epochs)), verbose=1)\n",
    "print('Best_epoch={}, Best_loss={:.2f}s, Recall@25={:.2f}'.format(best_epoch, best_loss, recall))"
   ]
  },
  {
   "cell_type": "code",
   "execution_count": 34,
   "metadata": {},
   "outputs": [
    {
     "data": {
      "text/plain": [
       "0.39"
      ]
     },
     "execution_count": 34,
     "metadata": {},
     "output_type": "execute_result"
    }
   ],
   "source": [
    "recall"
   ]
  },
  {
   "cell_type": "code",
   "execution_count": 35,
   "metadata": {
    "scrolled": true
   },
   "outputs": [
    {
     "data": {
      "text/plain": [
       "['122886:122840|122637:0.5279607772827148,119907:0.5019155740737915,119581:0.501677930355072,119379:0.4991016387939453,119756:0.4975466728210449,123401:0.49563825130462646,122652:0.493252694606781,119557:0.4916344881057739,123048:0.4887581467628479,120224:0.48858243227005005,120736:0.4882487654685974,122635:0.4870249629020691,122593:0.48545390367507935,119568:0.4849815368652344,119614:0.4846910834312439,122594:0.4840025305747986,119486:0.4771547317504883,119740:0.4756390452384949,118125:0.4741370677947998,119337:0.4727690815925598,122770:0.4710337519645691,119778:0.47026580572128296,122134:0.46534621715545654,92620:0.46474260091781616,119438:0.46402621269226074,110052:0.4634432792663574,102434:0.4634132385253906,119633:0.4627065062522888,97309:0.4624318480491638',\n",
       " '98310:98206|92016:0.5191866755485535,105768:0.4858188033103943,109833:0.48257994651794434,91605:0.47818517684936523,112327:0.4772435426712036,95617:0.4734804630279541,113912:0.4666430950164795,101471:0.46460169553756714,113252:0.4644286632537842,101645:0.46339017152786255,99647:0.46085095405578613,99978:0.4607883095741272,116197:0.4598706364631653,103277:0.45942819118499756,107723:0.45862889289855957,115350:0.45852482318878174,109850:0.45848917961120605,99701:0.4563820958137512,89332:0.4561762809753418,91972:0.45538848638534546,96950:0.45515674352645874,115349:0.45496898889541626,110329:0.45191818475723267,119525:0.4514232873916626,102362:0.4513664245605469,99690:0.4512295722961426,96317:0.45107799768447876,92277:0.45084547996520996,96880:0.4501044750213623',\n",
       " '98317:99256|109014:0.41301530599594116,119102:0.4040970206260681,116457:0.3992270231246948,88225:0.3948185443878174,104838:0.3930708169937134,107058:0.3926169276237488,96509:0.38918882608413696,95223:0.3881094455718994,111859:0.3862394094467163,91681:0.38609689474105835,98240:0.3858739137649536,94935:0.38506752252578735,93055:0.3826436400413513,97581:0.3824921250343323,103654:0.3822494149208069,111617:0.3796583414077759,98729:0.37962669134140015,107723:0.3796260952949524,111389:0.37944483757019043,122842:0.3794369101524353,96258:0.3794037103652954,92453:0.3789297342300415,94253:0.3782457709312439,102447:0.37735939025878906,91101:0.3770899176597595,105669:0.376966655254364,90831:0.37670594453811646,113209:0.37552881240844727,114956:0.37538236379623413',\n",
       " '98318:98570|102752:0.5133430659770966,92251:0.5023290812969208,99728:0.5022481083869934,113084:0.49909913539886475,114245:0.48713600635528564,112285:0.4859575033187866,112302:0.4855889678001404,89920:0.4828891158103943,107142:0.4816182851791382,93732:0.48085474967956543,114518:0.47777533531188965,102802:0.47404593229293823,112864:0.47175663709640503,96429:0.46896564960479736,115403:0.46739494800567627,107173:0.46555399894714355,85317:0.4655420780181885,115404:0.464496374130249,112187:0.46248382329940796,99133:0.46105289459228516,99167:0.4603288173675537,101919:0.45887476205825806,92427:0.4583510160446167,94569:0.4568302631378174,102143:0.45574915409088135,94705:0.45565980672836304,102378:0.45529085397720337,89789:0.4550946354866028,82495:0.4544719457626343',\n",
       " '122894:122864,123293|113107:0.40964728593826294,111745:0.39992690086364746,93508:0.39699333906173706,116986:0.3800353407859802,93818:0.37097954750061035,111389:0.36993008852005005,95223:0.36629194021224976,99078:0.3609049916267395,97736:0.3558223247528076,108290:0.35454583168029785,120176:0.35023367404937744,102398:0.34986305236816406,101570:0.34933316707611084,115201:0.3480886220932007,98670:0.3480314612388611,78260:0.34741973876953125,108350:0.3467503786087036,99201:0.3465985655784607,112201:0.34364092350006104,119102:0.343488872051239,121134:0.3431500792503357,103072:0.34196799993515015,121783:0.340934693813324,110256:0.34069013595581055,91681:0.3406664729118347,106542:0.3406516909599304,100709:0.3394320011138916,114310:0.33897674083709717,121276:0.3385063409805298',\n",
       " '106512:106596,106057,106410,106159,106607,106779,106165,106166,106622,106331,106142,106495|111540:0.4766576290130615,110055:0.46872925758361816,97570:0.4674196243286133,111389:0.46728962659835815,106165:0.46579813957214355,93818:0.4641943573951721,91681:0.46316981315612793,119634:0.461753785610199,106142:0.46069270372390747,98465:0.45767807960510254,97437:0.4548182487487793,99719:0.4539359211921692,99990:0.45289742946624756,98903:0.4527580142021179,100435:0.4522833824157715,113209:0.44978928565979004,116986:0.44874632358551025,100744:0.4446573257446289,106159:0.44430553913116455,102195:0.4441150426864624,110329:0.442973256111145,92874:0.44212108850479126,106410:0.44197404384613037,99582:0.4419499635696411,120250:0.4412517547607422,99078:0.44086605310440063,109647:0.4395099878311157,94451:0.43813878297805786,109363:0.43706679344177246',\n",
       " '114705:114676|95718:0.4607941508293152,109021:0.4499542713165283,116639:0.4340862035751343,95040:0.4340590238571167,102359:0.42253565788269043,119552:0.42219382524490356,94481:0.4183763265609741,109920:0.4159877300262451,102298:0.4151487350463867,94719:0.4136846661567688,92051:0.4135754704475403,100003:0.4130094051361084,92251:0.41266441345214844,101937:0.41232508420944214,95540:0.4118713140487671,102694:0.4105404019355774,102191:0.41031062602996826,92541:0.40868979692459106,100478:0.4080737829208374,108029:0.40775734186172485,107267:0.40688878297805786,117591:0.4066450595855713,88225:0.4065789580345154,93642:0.4064667820930481,109706:0.4060138463973999,104294:0.4059641361236572,96205:0.40555793046951294,98827:0.4048486351966858,93180:0.40449291467666626',\n",
       " '106513:106537|111452:0.4272040128707886,94947:0.4165329933166504,107058:0.41171443462371826,108530:0.4110478162765503,113440:0.4090031385421753,105461:0.4070216417312622,112155:0.40591222047805786,93955:0.4051888585090637,98564:0.40355372428894043,103357:0.40060102939605713,94935:0.40052521228790283,113912:0.4000566601753235,102675:0.3999274969100952,107723:0.3983825445175171,103137:0.39657270908355713,104673:0.39588695764541626,91972:0.395122230052948,93564:0.3950788974761963,109021:0.3949207663536072,100449:0.3926895260810852,100392:0.3926195502281189,88225:0.39250385761260986,111055:0.3920413851737976,105760:0.39189910888671875,107073:0.3917161822319031,107061:0.39164048433303833,100179:0.39126861095428467,105219:0.3910481929779053,101852:0.3907625079154968',\n",
       " '106515:106719|102803:0.4116816520690918,102040:0.4096434712409973,106855:0.40953540802001953,106574:0.4063165783882141,102250:0.4044790267944336,115922:0.40247857570648193,95068:0.39543014764785767,98289:0.39485853910446167,108029:0.39430123567581177,107845:0.39364731311798096,96212:0.38937073945999146,112435:0.38744890689849854,108426:0.3866584300994873,101648:0.3857935667037964,81467:0.38576769828796387,80296:0.38566988706588745,91432:0.38563036918640137,102556:0.38519662618637085,69390:0.38494688272476196,103810:0.3845607042312622,118163:0.38338422775268555,100941:0.3830265402793884,112477:0.38267284631729126,101179:0.3824201226234436,68036:0.3821117877960205,93318:0.38186001777648926,117315:0.3814532160758972,93178:0.38133060932159424,91931:0.38088321685791016',\n",
       " '98319:107242,102941|105590:0.5396402478218079,91404:0.5111581981182098,112435:0.5031196475028992,104867:0.502641350030899,116923:0.49089229106903076,108440:0.48976320028305054,112302:0.4893417954444885,98289:0.4876517057418823,114245:0.48272114992141724,111065:0.4824070334434509,114202:0.481864333152771,99298:0.4805719256401062,117096:0.4779677391052246,120613:0.4779462218284607,102941:0.4779072403907776,115543:0.4772200584411621,106903:0.4767051339149475,105222:0.4764951467514038,99915:0.4760051965713501,89716:0.4741668701171875,110034:0.47172844409942627,91063:0.4707983136177063,92082:0.47040480375289917,116681:0.46973735094070435,90704:0.46956849098205566,93959:0.4662417769432068,103968:0.46607160568237305,94569:0.4647107720375061,49142:0.4646010398864746',\n",
       " '122896:122827,123025,123381,123000,122874,123165,122941|123293:0.456959068775177,95242:0.4428443908691406,115444:0.43470388650894165,114049:0.4332057237625122,98962:0.430694580078125,118517:0.43016183376312256,123025:0.4251939654350281,113633:0.4247722029685974,122921:0.42352747917175293,98764:0.42304837703704834,105661:0.4185599684715271,98675:0.4111529588699341,106090:0.4098283052444458,91224:0.4067217707633972,95365:0.40426963567733765,95114:0.40408211946487427,122010:0.4028235673904419,93731:0.39905476570129395,118352:0.3989182710647583,106495:0.3978657126426697,102751:0.3978465795516968,110740:0.39611876010894775,89718:0.39611566066741943,117779:0.39432138204574585,93580:0.3942705988883972,112216:0.3935379385948181,112218:0.39135605096817017,122331:0.389304518699646,96179:0.3880288600921631',\n",
       " '106523:108985,98599|123486:0.42560744285583496,110657:0.4124867916107178,99990:0.4006376266479492,90332:0.3968242406845093,113031:0.39487284421920776,100549:0.3943259119987488,98206:0.3915567398071289,110593:0.39145177602767944,113851:0.3871154189109802,108454:0.38436126708984375,111193:0.3819833993911743,115491:0.38055944442749023,95365:0.3792917728424072,102227:0.37715214490890503,118952:0.3754515051841736,100362:0.3735886216163635,90612:0.37333744764328003,119255:0.3732384443283081,115871:0.37152963876724243,99070:0.3711339831352234,122935:0.3710148334503174,96179:0.3696099519729614,71112:0.36957037448883057,87292:0.36925894021987915,111647:0.36826246976852417,101471:0.36732882261276245,94780:0.36722874641418457,91496:0.36686503887176514,105993:0.36647850275039673',\n",
       " '98331:98563|96181:0.46549415588378906,92438:0.4630671739578247,112435:0.4589415192604065,104267:0.45750516653060913,123315:0.4561868906021118,114202:0.45294809341430664,101832:0.4522703289985657,95968:0.45182180404663086,104867:0.45144855976104736,108553:0.4472854733467102,98319:0.44702452421188354,80626:0.4458876848220825,108029:0.44572848081588745,93180:0.4446719288825989,106695:0.44385963678359985,91404:0.44341355562210083,112601:0.4425045847892761,92951:0.4420790672302246,106804:0.4418622851371765,120613:0.44105368852615356,85317:0.4406033754348755,111146:0.43956077098846436,49142:0.43948638439178467,99086:0.4386367201805115,104266:0.43726032972335815,100673:0.4367842674255371,107167:0.4365132451057434,101632:0.4360826015472412,112234:0.4359273314476013',\n",
       " '122907:123284,122822|94055:0.45329129695892334,95913:0.4102463722229004,117591:0.4097069501876831,94167:0.40598851442337036,122822:0.4006040692329407,110241:0.39956849813461304,96124:0.39864581823349,117556:0.3967445492744446,107223:0.3965846300125122,123438:0.39410150051116943,108004:0.393696665763855,109366:0.3822409510612488,103374:0.3819291591644287,105276:0.3804515600204468,95191:0.37710022926330566,122874:0.3766862750053406,107906:0.3759637475013733,91589:0.37582969665527344,95907:0.3750368356704712,97212:0.37501704692840576,102028:0.374733567237854,110374:0.3737741708755493,116662:0.37330979108810425,114529:0.3726575970649719,96162:0.37043750286102295,102507:0.3693925738334656,98044:0.3681929111480713,90516:0.36795806884765625,103239:0.36784934997558594',\n",
       " '114718:117365,114669|114669:0.6259871125221252,111223:0.5477144122123718,116814:0.5415590703487396,94815:0.5146053433418274,116885:0.5105263590812683,113632:0.5017848312854767,110720:0.5015087723731995,112572:0.48933500051498413,104620:0.48846763372421265,93141:0.4845564365386963,117488:0.4828540086746216,113145:0.48166424036026,117365:0.4808241128921509,115237:0.4786332845687866,115871:0.4785557985305786,112327:0.4776613116264343,77664:0.47462618350982666,108428:0.47423553466796875,106462:0.4735739827156067,106168:0.47188252210617065,99217:0.4716219902038574,99647:0.47124481201171875,116293:0.4698594808578491,101863:0.4680923819541931,97336:0.4677578806877136,113113:0.46647709608078003,103980:0.46092677116394043,115072:0.45978230237960815,108414:0.4594944715499878',\n",
       " '114719:115289|114671:0.5602685213088989,115491:0.557211697101593,105482:0.5200514793395996,114725:0.5096773505210876,109431:0.48180389404296875,115289:0.4775093197822571,107473:0.4682437777519226,105760:0.46721380949020386,96945:0.4666149616241455,96429:0.464402437210083,95060:0.46016401052474976,115404:0.45922571420669556,107173:0.45705920457839966,105369:0.4562520384788513,114245:0.45423001050949097,115403:0.45410609245300293,90395:0.4519813656806946,91496:0.4513093829154968,92020:0.45110684633255005,114676:0.45027196407318115,114202:0.44837671518325806,103137:0.4465131163597107,91407:0.4457821846008301,114600:0.4457165002822876,88225:0.44438666105270386,112265:0.44359666109085083,105993:0.44234997034072876,98885:0.44227564334869385,102288:0.43977999687194824',\n",
       " '114724:115520,114596,117724|114596:0.548809140920639,93732:0.42154014110565186,114671:0.42048561573028564,116312:0.40929532051086426,92759:0.3955179452896118,93607:0.3889882564544678,99902:0.3847202658653259,93169:0.38385599851608276,99142:0.38236451148986816,115491:0.37893062829971313,107173:0.3787774443626404,107167:0.37706267833709717,106052:0.37669312953948975,91658:0.3732820749282837,93177:0.3731089234352112,102495:0.3705628514289856,92020:0.3704909682273865,102455:0.3702853322029114,94030:0.3696202039718628,89920:0.3684470057487488,102250:0.3678359389305115,105482:0.3653518557548523,95667:0.36379528045654297,115403:0.360879123210907,102378:0.36079609394073486,92064:0.3602401614189148,100899:0.36005526781082153,91931:0.3597571849822998,105993:0.3590559959411621',\n",
       " '114725:103860|109431:0.5243345499038696,114719:0.5096773505210876,115491:0.4967081546783447,114671:0.48935431241989136,91714:0.4581729769706726,92365:0.45606088638305664,102082:0.44479191303253174,90395:0.44209277629852295,95060:0.44045448303222656,112572:0.4393889904022217,112522:0.4389396905899048,99334:0.43618327379226685,105482:0.436119019985199,105368:0.4320056438446045,91407:0.4289187788963318,97506:0.4236103296279907,107473:0.4233018755912781,90896:0.42327219247817993,99632:0.42176711559295654,105369:0.42140471935272217,97907:0.41998404264450073,90267:0.4195154905319214,90268:0.4195154905319214,96352:0.41905897855758667,123621:0.41817307472229004,123620:0.41546928882598877,98927:0.4134628176689148,114600:0.4127897620201111,93501:0.4123867154121399',\n",
       " '122920:122842,123080|103171:0.4327504634857178,93840:0.4143370985984802,105377:0.41329526901245117,109647:0.41307932138442993,123000:0.4078126549720764,109284:0.40597277879714966,106252:0.4037521481513977,92697:0.4036213159561157,111362:0.40301764011383057,89910:0.4028189182281494,94055:0.40232187509536743,112690:0.4022843837738037,102682:0.4020369052886963,102335:0.4008023738861084,105382:0.3977062702178955,123080:0.3924486041069031,96179:0.3919585347175598,99200:0.39187902212142944,101322:0.3917236924171448,92620:0.3897477388381958,93826:0.388977587223053,113851:0.3879711627960205,94900:0.3875883221626282,93818:0.3860762119293213,95913:0.3859274387359619,122273:0.38576555252075195,119424:0.3849589228630066,114440:0.38280701637268066,112377:0.38275790214538574',\n",
       " '106537:106513|96647:0.5133193135261536,99737:0.46468567848205566,98465:0.46367865800857544,105208:0.4454292058944702,73843:0.44291824102401733,112677:0.44044578075408936,115898:0.43996095657348633,96203:0.43976467847824097,101051:0.4394899606704712,110687:0.4393397569656372,99097:0.4387565851211548,116197:0.43625402450561523,113252:0.43610209226608276,92016:0.43494993448257446,96950:0.43211793899536133,108027:0.43149155378341675,103326:0.42866063117980957,111647:0.42791253328323364,111540:0.4270772337913513,95028:0.4266514778137207,117191:0.4246251583099365,101052:0.4244791269302368,112232:0.42425984144210815,92277:0.42328041791915894,106877:0.4228663444519043,122935:0.4228190779685974,99582:0.421819269657135,108408:0.421331524848938,99541:0.4187849760055542']"
      ]
     },
     "execution_count": 35,
     "metadata": {},
     "output_type": "execute_result"
    }
   ],
   "source": [
    "_[:20]"
   ]
  },
  {
   "cell_type": "code",
   "execution_count": 36,
   "metadata": {},
   "outputs": [],
   "source": [
    "# recall, exported_rank, debug = experiment.evaluate_validation_test(experiment, retrieval, verbose, \n",
    "#                                                         encoded_anchor, issues_by_buckets, evaluate_validation_test)\n",
    "# test_vectorized, queries_test_vectorized, annoy, X_test, distance_test, indices_test = debug\n",
    "# \"recall@25 last epoch:\", recall"
   ]
  },
  {
   "cell_type": "markdown",
   "metadata": {},
   "source": [
    "### Retrieval evaluation"
   ]
  },
  {
   "cell_type": "code",
   "execution_count": 37,
   "metadata": {},
   "outputs": [
    {
     "name": "stdout",
     "output_type": "stream",
     "text": [
      "Total of queries: 2086\n"
     ]
    }
   ],
   "source": [
    "print(\"Total of queries:\", len(retrieval.test))"
   ]
  },
  {
   "cell_type": "markdown",
   "metadata": {},
   "source": [
    "#### Getting the model trained"
   ]
  },
  {
   "cell_type": "code",
   "execution_count": 38,
   "metadata": {},
   "outputs": [
    {
     "data": {
      "text/plain": [
       "'propose_bert_triplet_1_feature_1epochs_64batch(openoffice)'"
      ]
     },
     "execution_count": 38,
     "metadata": {},
     "output_type": "execute_result"
    }
   ],
   "source": [
    "SAVE_PATH_FEATURE.replace('@number_of_epochs@', str(epochs))"
   ]
  },
  {
   "cell_type": "code",
   "execution_count": 39,
   "metadata": {},
   "outputs": [],
   "source": [
    "model = encoded_anchor\n",
    "# model = experiment.get_model_vectorizer(path=SAVE_PATH_FEATURE.replace('@number_of_epochs@', str(epochs)))"
   ]
  },
  {
   "cell_type": "code",
   "execution_count": 40,
   "metadata": {},
   "outputs": [
    {
     "name": "stdout",
     "output_type": "stream",
     "text": [
      "__________________________________________________________________________________________________\n",
      "Layer (type)                    Output Shape         Param #     Connected to                     \n",
      "==================================================================================================\n",
      "info_in (InputLayer)            (None, 729)          0                                            \n",
      "__________________________________________________________________________________________________\n",
      "title_token_in (InputLayer)     (None, 20)           0                                            \n",
      "__________________________________________________________________________________________________\n",
      "title_segment_in (InputLayer)   (None, 20)           0                                            \n",
      "__________________________________________________________________________________________________\n",
      "desc_token_in (InputLayer)      (None, 20)           0                                            \n",
      "__________________________________________________________________________________________________\n",
      "desc_segment_in (InputLayer)    (None, 20)           0                                            \n",
      "__________________________________________________________________________________________________\n",
      "FeatureMlpGenerationModel (Mode (None, 300)          219000      info_in[0][0]                    \n",
      "__________________________________________________________________________________________________\n",
      "FeatureBERTGenerationModelTitle (None, 768)          80346736    title_token_in[0][0]             \n",
      "                                                                 title_segment_in[0][0]           \n",
      "__________________________________________________________________________________________________\n",
      "FeatureBERTGenerationModelDescr (None, 768)          80346736    desc_token_in[0][0]              \n",
      "                                                                 desc_segment_in[0][0]            \n",
      "__________________________________________________________________________________________________\n",
      "merge_features_in (Concatenate) (None, 1836)         0           FeatureMlpGenerationModel[1][0]  \n",
      "                                                                 FeatureBERTGenerationModelTitle[1\n",
      "                                                                 FeatureBERTGenerationModelDescrip\n",
      "==================================================================================================\n",
      "Total params: 160,912,472\n",
      "Trainable params: 440,296\n",
      "Non-trainable params: 160,472,176\n",
      "__________________________________________________________________________________________________\n"
     ]
    }
   ],
   "source": [
    "model.summary()"
   ]
  },
  {
   "cell_type": "code",
   "execution_count": 41,
   "metadata": {},
   "outputs": [],
   "source": [
    "recall, exported_rank, debug = experiment.evaluate_validation_test(retrieval, 0, model, issues_by_buckets, \n",
    "                                                                   bug_train_ids, method='bert')"
   ]
  },
  {
   "cell_type": "code",
   "execution_count": 42,
   "metadata": {},
   "outputs": [
    {
     "data": {
      "text/plain": [
       "3229"
      ]
     },
     "execution_count": 42,
     "metadata": {},
     "output_type": "execute_result"
    }
   ],
   "source": [
    "len(exported_rank)"
   ]
  },
  {
   "cell_type": "code",
   "execution_count": 43,
   "metadata": {},
   "outputs": [
    {
     "data": {
      "text/plain": [
       "'data/processed/openoffice/exported_rank_propose_bert_triplet_1.txt'"
      ]
     },
     "execution_count": 43,
     "metadata": {},
     "output_type": "execute_result"
    }
   ],
   "source": [
    "EXPORT_RANK_PATH = os.path.join(DIR, 'exported_rank_{}.txt'.format(METHOD))\n",
    "EXPORT_RANK_PATH"
   ]
  },
  {
   "cell_type": "code",
   "execution_count": 44,
   "metadata": {},
   "outputs": [],
   "source": [
    "with open(EXPORT_RANK_PATH, 'w') as file_out:\n",
    "    for row in exported_rank:\n",
    "        file_out.write(row + \"\\n\")"
   ]
  },
  {
   "cell_type": "code",
   "execution_count": 45,
   "metadata": {},
   "outputs": [
    {
     "data": {
      "text/plain": [
       "{'1 - recall_at_5': 0.28,\n",
       " '2 - recall_at_10': 0.32,\n",
       " '3 - recall_at_15': 0.35,\n",
       " '4 - recall_at_20': 0.37,\n",
       " '5 - recall_at_25': 0.39}"
      ]
     },
     "execution_count": 45,
     "metadata": {},
     "output_type": "execute_result"
    }
   ],
   "source": [
    "report = experiment.evaluation.evaluate(EXPORT_RANK_PATH)\n",
    "report"
   ]
  }
 ],
 "metadata": {
  "accelerator": "GPU",
  "colab": {
   "collapsed_sections": [],
   "name": "[baseline] Bug triage with Deep Learning.ipynb",
   "provenance": [],
   "toc_visible": true,
   "version": "0.3.2"
  },
  "kernelspec": {
   "display_name": "Python 3",
   "language": "python",
   "name": "python3"
  },
  "language_info": {
   "codemirror_mode": {
    "name": "ipython",
    "version": 3
   },
   "file_extension": ".py",
   "mimetype": "text/x-python",
   "name": "python",
   "nbconvert_exporter": "python",
   "pygments_lexer": "ipython3",
   "version": "3.5.2"
  }
 },
 "nbformat": 4,
 "nbformat_minor": 1
}
