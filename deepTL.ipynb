{
 "cells": [
  {
   "cell_type": "markdown",
   "metadata": {
    "colab_type": "text",
    "id": "PtdA1qs_UQP1"
   },
   "source": [
    "# DeepQL with tensorflow\n",
    "\n",
    "https://github.com/AdrianUng/keras-triplet-loss-mnist/blob/master/Triplet_loss_KERAS_semi_hard_from_TF.ipynb"
   ]
  },
  {
   "cell_type": "code",
   "execution_count": 1,
   "metadata": {},
   "outputs": [
    {
     "name": "stderr",
     "output_type": "stream",
     "text": [
      "Using TensorFlow backend.\n"
     ]
    }
   ],
   "source": [
    "# from __future__ import print_function, division\n",
    "import keras\n",
    "import re\n",
    "import numpy as np\n",
    "import pandas as pd\n",
    "\n",
    "import os\n",
    "from tqdm import tqdm_notebook as tqdm\n",
    "import matplotlib.pyplot as plt\n",
    "import sys\n",
    "from annoy import AnnoyIndex\n",
    "nb_dir = os.path.split(os.getcwd())[0]\n",
    "if nb_dir not in sys.path:\n",
    "    sys.path.append(nb_dir)\n",
    "    \n",
    "from keras.layers import Conv1D, Input, Add, Activation, Dropout, Embedding, MaxPooling1D, \\\n",
    "    GlobalMaxPool1D, Flatten, Dense, Concatenate, BatchNormalization\n",
    "from keras.models import Sequential, Model\n",
    "from keras.regularizers import l2\n",
    "from keras.initializers import TruncatedNormal\n",
    "from keras.layers.advanced_activations import LeakyReLU, ELU\n",
    "from keras import optimizers\n",
    "\n",
    "from methods.baseline import Baseline\n",
    "from methods.experiments import Experiment\n",
    "from methods.evaluation import Evaluation\n",
    "from methods.retrieval import Retrieval\n",
    "\n",
    "from keras_bert import load_vocabulary\n",
    "import random\n",
    "\n",
    "from keras_bert import load_trained_model_from_checkpoint\n",
    "from keras_bert import compile_model, get_model\n",
    "from keras.layers import GlobalAveragePooling1D\n",
    "\n",
    "## required for semi-hard triplet loss:\n",
    "from tensorflow.python.ops import array_ops\n",
    "from tensorflow.python.ops import math_ops\n",
    "from tensorflow.python.framework import dtypes\n",
    "import tensorflow as tf\n",
    "\n",
    "from keras.layers import concatenate, Add, Lambda, merge, Average, Maximum\n",
    "from keras.optimizers import Adam, Nadam\n",
    "import _pickle as pickle\n",
    "    \n",
    "# %matplotlib inline"
   ]
  },
  {
   "cell_type": "markdown",
   "metadata": {
    "colab_type": "text",
    "id": "8uQou7m2-bFO"
   },
   "source": [
    "## Configurações Globais"
   ]
  },
  {
   "cell_type": "code",
   "execution_count": 6,
   "metadata": {
    "colab": {},
    "colab_type": "code",
    "id": "G-Kn3x_K-aZj"
   },
   "outputs": [],
   "source": [
    "MAX_SEQUENCE_LENGTH_T = 20 # 100\n",
    "MAX_SEQUENCE_LENGTH_D = 20 # 500\n",
    "EMBEDDING_DIM = 300\n",
    "MAX_NB_WORDS = 20000\n",
    "'''\n",
    "    Configuration\n",
    "'''\n",
    "epochs = int(os.environ['epochs'])\n",
    "freeze_train = .1\n",
    "best_loss = 1\n",
    "best_epoch = 0\n",
    "verbose = 0\n",
    "loss = 1"
   ]
  },
  {
   "cell_type": "markdown",
   "metadata": {},
   "source": [
    "### Parse bugs preproprecessed"
   ]
  },
  {
   "cell_type": "code",
   "execution_count": 7,
   "metadata": {},
   "outputs": [],
   "source": [
    "# Domain to use\n",
    "DOMAIN = os.environ['base']\n",
    "METHOD = 'deepTL_{}'.format(epochs)\n",
    "PREPROCESSING = 'bert'\n",
    "TOKEN = 'bert'\n",
    "# Dataset paths\n",
    "DIR = 'data/processed/{}/{}'.format(DOMAIN, PREPROCESSING)\n",
    "DIR_PAIRS = 'data/normalized/{}'.format(DOMAIN)\n",
    "DATASET = os.path.join('data/normalized/{}'.format(DOMAIN), '{}.csv'.format(DOMAIN))\n",
    "# Glove embeddings\n",
    "GLOVE_DIR='data/embed'\n",
    "# Save model\n",
    "SAVE_PATH = '{}_preprocessing_{}_feature@number_of_epochs@epochs_64batch({})'.format(PREPROCESSING, METHOD, DOMAIN)\n",
    "SAVE_PATH_FEATURE = '{}_preprocessing_{}_feature_@number_of_epochs@epochs_64batch({})'.format(PREPROCESSING, METHOD, DOMAIN)\n",
    "\n",
    "# Extract CORPUs\n",
    "EXTRACT_CORPUS = False"
   ]
  },
  {
   "cell_type": "code",
   "execution_count": 8,
   "metadata": {},
   "outputs": [],
   "source": [
    "pretrained_path = 'uncased_L-12_H-768_A-12'\n",
    "config_path = os.path.join(pretrained_path, 'bert_config.json')\n",
    "model_path = os.path.join(pretrained_path, 'bert_model.ckpt')\n",
    "vocab_path = os.path.join(pretrained_path, 'vocab.txt')"
   ]
  },
  {
   "cell_type": "code",
   "execution_count": 9,
   "metadata": {},
   "outputs": [],
   "source": [
    "token_dict = load_vocabulary(vocab_path)"
   ]
  },
  {
   "cell_type": "code",
   "execution_count": 10,
   "metadata": {},
   "outputs": [],
   "source": [
    "baseline = Baseline(DOMAIN, DIR, DATASET, MAX_SEQUENCE_LENGTH_T, MAX_SEQUENCE_LENGTH_D,\n",
    "                   token_dict['[CLS]'], token_dict['[SEP]'])\n",
    "evaluation = Evaluation(verbose=0)\n",
    "retrieval = Retrieval()\n",
    "experiment = Experiment(baseline, evaluation)"
   ]
  },
  {
   "cell_type": "code",
   "execution_count": 11,
   "metadata": {
    "scrolled": true
   },
   "outputs": [],
   "source": [
    "experiment.set_retrieval(retrieval, baseline, DOMAIN)"
   ]
  },
  {
   "cell_type": "markdown",
   "metadata": {},
   "source": [
    "#### Loading bug ids in memory"
   ]
  },
  {
   "cell_type": "code",
   "execution_count": 12,
   "metadata": {
    "scrolled": true
   },
   "outputs": [
    {
     "name": "stdout",
     "output_type": "stream",
     "text": [
      "Reading bug ids\n"
     ]
    },
    {
     "data": {
      "text/plain": [
       "98070"
      ]
     },
     "execution_count": 12,
     "metadata": {},
     "output_type": "execute_result"
    }
   ],
   "source": [
    "experiment.load_ids()\n",
    "len(baseline.bug_ids)"
   ]
  },
  {
   "cell_type": "markdown",
   "metadata": {
    "colab_type": "text",
    "id": "vqzt5EKzqzcI"
   },
   "source": [
    "#### Dicionário de títulos e descrições"
   ]
  },
  {
   "cell_type": "code",
   "execution_count": 13,
   "metadata": {
    "scrolled": true
   },
   "outputs": [
    {
     "data": {
      "application/vnd.jupyter.widget-view+json": {
       "model_id": "bff1293674a047c5afb13ae3f9e9d5d1",
       "version_major": 2,
       "version_minor": 0
      },
      "text/plain": [
       "HBox(children=(IntProgress(value=0, max=98070), HTML(value='')))"
      ]
     },
     "metadata": {},
     "output_type": "display_data"
    },
    {
     "name": "stdout",
     "output_type": "stream",
     "text": [
      "\n"
     ]
    },
    {
     "data": {
      "application/vnd.jupyter.widget-view+json": {
       "model_id": "e87e37a52708452aa2e99c41d259f6da",
       "version_major": 2,
       "version_minor": 0
      },
      "text/plain": [
       "HBox(children=(IntProgress(value=1, bar_style='info', max=1), HTML(value='')))"
      ]
     },
     "metadata": {},
     "output_type": "display_data"
    },
    {
     "name": "stdout",
     "output_type": "stream",
     "text": [
      "\n",
      "CPU times: user 10.2 s, sys: 1.09 s, total: 11.3 s\n",
      "Wall time: 11.3 s\n"
     ]
    }
   ],
   "source": [
    "%%time\n",
    "\n",
    "experiment.load_bugs(TOKEN)\n",
    "len(baseline.sentence_dict)"
   ]
  },
  {
   "cell_type": "markdown",
   "metadata": {},
   "source": [
    "#### Hashing bugs by buckets"
   ]
  },
  {
   "cell_type": "code",
   "execution_count": 14,
   "metadata": {
    "scrolled": false
   },
   "outputs": [
    {
     "data": {
      "application/vnd.jupyter.widget-view+json": {
       "model_id": "af9a1469afbf45eab3e4d41f949ca430",
       "version_major": 2,
       "version_minor": 0
      },
      "text/plain": [
       "HBox(children=(IntProgress(value=0, max=98070), HTML(value='')))"
      ]
     },
     "metadata": {},
     "output_type": "display_data"
    },
    {
     "name": "stdout",
     "output_type": "stream",
     "text": [
      "\n"
     ]
    }
   ],
   "source": [
    "issues_by_buckets = experiment.get_buckets_for_bugs()"
   ]
  },
  {
   "cell_type": "markdown",
   "metadata": {},
   "source": [
    "#### Prepare the train and test"
   ]
  },
  {
   "cell_type": "code",
   "execution_count": 15,
   "metadata": {},
   "outputs": [],
   "source": [
    "# path_train='train_chronological', path_test='test_chronological'\n",
    "experiment.prepare_dataset(issues_by_buckets, path_train='train_chronological', path_test='test_chronological')\n",
    "# Read and create the test queries duplicates\n",
    "retrieval.create_queries()"
   ]
  },
  {
   "cell_type": "code",
   "execution_count": 16,
   "metadata": {},
   "outputs": [
    {
     "data": {
      "text/plain": [
       "[[6036, 35039],\n",
       " [26311, 15091],\n",
       " [5142, 34523],\n",
       " [8323, 9594],\n",
       " [76676, 88775],\n",
       " [59725, 71546],\n",
       " [121756, 116964],\n",
       " [32936, 30911],\n",
       " [15257, 16297],\n",
       " [99719, 106395]]"
      ]
     },
     "execution_count": 16,
     "metadata": {},
     "output_type": "execute_result"
    }
   ],
   "source": [
    "baseline.train_data[:10]"
   ]
  },
  {
   "cell_type": "markdown",
   "metadata": {},
   "source": [
    "#### Recovery bug ids from train"
   ]
  },
  {
   "cell_type": "code",
   "execution_count": 17,
   "metadata": {},
   "outputs": [],
   "source": [
    "bug_train_ids = experiment.get_train_ids(baseline.train_data)"
   ]
  },
  {
   "cell_type": "markdown",
   "metadata": {},
   "source": [
    "### Export the corpus train"
   ]
  },
  {
   "cell_type": "code",
   "execution_count": 18,
   "metadata": {},
   "outputs": [],
   "source": [
    "if EXTRACT_CORPUS:\n",
    "    corpus = []\n",
    "    export_file = open(os.path.join(DIR, 'corpus_train.txt'), 'w')\n",
    "    for bug_id in tqdm(baseline.bug_set):\n",
    "        bug = baseline.bug_set[bug_id]\n",
    "        title = bug['title']\n",
    "        desc = bug['description']\n",
    "        export_file.write(\"{}\\n{}\\n\".format(title, desc))\n",
    "    export_file.close()"
   ]
  },
  {
   "cell_type": "markdown",
   "metadata": {
    "colab_type": "text",
    "id": "a6Obtop6UIVD"
   },
   "source": [
    "# Generating tiple of batches"
   ]
  },
  {
   "cell_type": "code",
   "execution_count": 19,
   "metadata": {
    "scrolled": true
   },
   "outputs": [
    {
     "data": {
      "text/plain": [
       "{'bug_severity': '2\\n',\n",
       " 'bug_status': '1\\n',\n",
       " 'component': '48\\n',\n",
       " 'creation_ts': '2003-09-19 16:09:00 +0000',\n",
       " 'delta_ts': '2013-08-07 15:00:39 +0000',\n",
       " 'description': '[CLS] try the next experiment , in hebrew , on any o ##oo version of the recent ones : 1 ) start a paragraph in bold . 2 ) put a dash \" - \" after it . bold or not , doesn \\' t matter . 3 ) change back to regular weight and write a nice paragraph . 4 ) save as a . doc document ( rt ##f may also have a problem ) . 5 ) open your . doc file in ms ##word and find out that the text you had in bold is written backwards , if you \\' re lucky . this doesn \\' t effect the document in o ##oo , but still , it pose a problem for compatibility . [SEP]',\n",
       " 'description_segment': [0,\n",
       "  0,\n",
       "  0,\n",
       "  0,\n",
       "  0,\n",
       "  0,\n",
       "  0,\n",
       "  0,\n",
       "  0,\n",
       "  0,\n",
       "  0,\n",
       "  0,\n",
       "  0,\n",
       "  0,\n",
       "  0,\n",
       "  0,\n",
       "  0,\n",
       "  0,\n",
       "  0,\n",
       "  0,\n",
       "  0,\n",
       "  0,\n",
       "  0,\n",
       "  0,\n",
       "  0,\n",
       "  0,\n",
       "  0,\n",
       "  0,\n",
       "  0,\n",
       "  0,\n",
       "  0,\n",
       "  0,\n",
       "  0,\n",
       "  0,\n",
       "  0,\n",
       "  0,\n",
       "  0,\n",
       "  0,\n",
       "  0,\n",
       "  0,\n",
       "  0,\n",
       "  0,\n",
       "  0,\n",
       "  0,\n",
       "  0,\n",
       "  0,\n",
       "  0,\n",
       "  0,\n",
       "  0,\n",
       "  0,\n",
       "  0,\n",
       "  0,\n",
       "  0,\n",
       "  0,\n",
       "  0,\n",
       "  0,\n",
       "  0,\n",
       "  0,\n",
       "  0,\n",
       "  0,\n",
       "  0,\n",
       "  0,\n",
       "  0,\n",
       "  0,\n",
       "  0,\n",
       "  0,\n",
       "  0,\n",
       "  0,\n",
       "  0,\n",
       "  0,\n",
       "  0,\n",
       "  0,\n",
       "  0,\n",
       "  0,\n",
       "  0,\n",
       "  0,\n",
       "  0,\n",
       "  0,\n",
       "  0,\n",
       "  0,\n",
       "  0,\n",
       "  0,\n",
       "  0,\n",
       "  0,\n",
       "  0,\n",
       "  0,\n",
       "  0,\n",
       "  0,\n",
       "  0,\n",
       "  0,\n",
       "  0,\n",
       "  0,\n",
       "  0,\n",
       "  0,\n",
       "  0,\n",
       "  0,\n",
       "  0,\n",
       "  0,\n",
       "  0,\n",
       "  0,\n",
       "  0,\n",
       "  0,\n",
       "  0,\n",
       "  0,\n",
       "  0,\n",
       "  0,\n",
       "  0,\n",
       "  0,\n",
       "  0,\n",
       "  0,\n",
       "  0,\n",
       "  0,\n",
       "  0,\n",
       "  0,\n",
       "  0,\n",
       "  0,\n",
       "  0,\n",
       "  0,\n",
       "  0,\n",
       "  0,\n",
       "  0,\n",
       "  0,\n",
       "  0,\n",
       "  0,\n",
       "  0,\n",
       "  0,\n",
       "  0,\n",
       "  0,\n",
       "  0,\n",
       "  0,\n",
       "  0,\n",
       "  0,\n",
       "  0,\n",
       "  0,\n",
       "  0,\n",
       "  0,\n",
       "  0,\n",
       "  0,\n",
       "  0,\n",
       "  0,\n",
       "  0,\n",
       "  0,\n",
       "  0,\n",
       "  0,\n",
       "  0,\n",
       "  0,\n",
       "  0,\n",
       "  0,\n",
       "  0,\n",
       "  0],\n",
       " 'description_token': array([ 101, 3046, 1996, 2279, 7551, 1010, 1999, 6836, 1010, 2006, 2151,\n",
       "        1051, 9541, 2544, 1997, 1996, 3522, 3924, 1024,  102]),\n",
       " 'dup_id': '[]',\n",
       " 'issue_id': 19813,\n",
       " 'priority': '3\\n',\n",
       " 'product': '3\\n',\n",
       " 'resolution': 'FIXED',\n",
       " 'textual_token': array([  101,  3015,  1999,  7782,  1999,  6836,  2515,  2025,  9167,\n",
       "        11178,     0,     0,     0,     0,     0,     0,     0,     0,\n",
       "            0,   102,   101,  3046,  1996,  2279,  7551,  1010,  1999,\n",
       "         6836,  1010,  2006,  2151,  1051,  9541,  2544,  1997,  1996,\n",
       "         3522,  3924,  1024,   102]),\n",
       " 'title': '[CLS] writing in bold in hebrew does not export correctly [SEP]',\n",
       " 'title_segment': [0,\n",
       "  0,\n",
       "  0,\n",
       "  0,\n",
       "  0,\n",
       "  0,\n",
       "  0,\n",
       "  0,\n",
       "  0,\n",
       "  0,\n",
       "  0,\n",
       "  0,\n",
       "  0,\n",
       "  0,\n",
       "  0,\n",
       "  0,\n",
       "  0,\n",
       "  0,\n",
       "  0,\n",
       "  0,\n",
       "  0,\n",
       "  0,\n",
       "  0,\n",
       "  0,\n",
       "  0,\n",
       "  0,\n",
       "  0,\n",
       "  0,\n",
       "  0,\n",
       "  0,\n",
       "  0,\n",
       "  0,\n",
       "  0,\n",
       "  0,\n",
       "  0,\n",
       "  0,\n",
       "  0,\n",
       "  0,\n",
       "  0,\n",
       "  0,\n",
       "  0,\n",
       "  0,\n",
       "  0,\n",
       "  0,\n",
       "  0,\n",
       "  0,\n",
       "  0,\n",
       "  0,\n",
       "  0,\n",
       "  0],\n",
       " 'title_token': array([  101,  3015,  1999,  7782,  1999,  6836,  2515,  2025,  9167,\n",
       "        11178,     0,     0,     0,     0,     0,     0,     0,     0,\n",
       "            0,   102]),\n",
       " 'version': '138\\n'}"
      ]
     },
     "execution_count": 19,
     "metadata": {},
     "output_type": "execute_result"
    }
   ],
   "source": [
    "idx = np.random.choice(baseline.bug_ids, 1)[0]\n",
    "baseline.bug_set[idx]"
   ]
  },
  {
   "cell_type": "markdown",
   "metadata": {},
   "source": [
    "### Generating the batch test"
   ]
  },
  {
   "cell_type": "code",
   "execution_count": 20,
   "metadata": {},
   "outputs": [
    {
     "data": {
      "text/plain": [
       "('Train ', 14508)"
      ]
     },
     "execution_count": 20,
     "metadata": {},
     "output_type": "execute_result"
    }
   ],
   "source": [
    "\"Train \", len(baseline.dup_sets_train)"
   ]
  },
  {
   "cell_type": "code",
   "execution_count": 21,
   "metadata": {},
   "outputs": [],
   "source": [
    "# data - path\n",
    "# batch_size - 128\n",
    "# n_neg - 1\n",
    "def batch_iterator(self, retrieval, model, data, dup_sets, bug_ids, \n",
    "                   batch_size, n_neg, issues_by_buckets, TRIPLET_HARD=False, FLOATING_PADDING=False):\n",
    "    # global train_data\n",
    "    # global self.dup_sets\n",
    "    # global self.bug_ids\n",
    "    # global self.bug_set\n",
    "\n",
    "    random.shuffle(data)\n",
    "\n",
    "    batch_features = {'title' : [], 'desc' : [], 'info' : []}\n",
    "    n_train = len(data)\n",
    "\n",
    "    batch_triplets, batch_bugs_anchor, batch_bugs_pos, batch_bugs_neg, batch_bugs = [], [], [], [], []\n",
    "\n",
    "    all_bugs = list(issues_by_buckets.keys())\n",
    "    buckets = retrieval.buckets\n",
    "\n",
    "    for offset in range(batch_size):\n",
    "        anchor, pos = data[offset][0], data[offset][1]\n",
    "        batch_bugs_anchor.append(anchor)\n",
    "        batch_bugs_pos.append(pos)\n",
    "        batch_bugs.append(anchor)\n",
    "        batch_bugs.append(pos)\n",
    "        #batch_bugs += dup_sets[anchor]\n",
    "\n",
    "    for anchor, pos in zip(batch_bugs_anchor, batch_bugs_pos):\n",
    "        while True:\n",
    "            neg = self.get_neg_bug(anchor, buckets[issues_by_buckets[anchor]], issues_by_buckets, all_bugs)\n",
    "            bug_anchor = self.bug_set[anchor]\n",
    "            bug_pos = self.bug_set[pos]\n",
    "            if neg not in self.bug_set:\n",
    "                continue\n",
    "            batch_bugs.append(neg)\n",
    "            batch_bugs_neg.append(neg)\n",
    "            bug_neg = self.bug_set[neg]\n",
    "            break\n",
    "        \n",
    "        # triplet bug and master\n",
    "        batch_triplets.append([anchor, pos, neg])\n",
    "    \n",
    "    random.shuffle(batch_bugs)\n",
    "    title_ids = np.full((len(batch_bugs), MAX_SEQUENCE_LENGTH_T), 0)\n",
    "    description_ids = np.full((len(batch_bugs), MAX_SEQUENCE_LENGTH_D), 0)\n",
    "    for i, bug_id in enumerate(batch_bugs):\n",
    "        bug = self.bug_set[bug_id]\n",
    "        self.read_batch_bugs(batch_features, bug, index=i, title_ids=title_ids, description_ids=description_ids)\n",
    "\n",
    "    batch_features['title'] = { 'token' : np.array(batch_features['title']), 'segment' : title_ids }\n",
    "    batch_features['desc'] = { 'token' : np.array(batch_features['desc']), 'segment' : description_ids }\n",
    "    batch_features['info'] = np.array(batch_features['info'])\n",
    "    \n",
    "    sim = np.asarray([issues_by_buckets[bug_id] for bug_id in batch_bugs])\n",
    "\n",
    "    input_sample = {}\n",
    "\n",
    "    input_sample = { 'title' : batch_features['title'], \n",
    "                        'description' : batch_features['desc'], \n",
    "                            'info' : batch_features['info'] }\n",
    "\n",
    "    return batch_triplets, input_sample, sim #sim"
   ]
  },
  {
   "cell_type": "code",
   "execution_count": 22,
   "metadata": {
    "colab": {
     "base_uri": "https://localhost:8080/",
     "height": 51
    },
    "colab_type": "code",
    "id": "PA5CIhgz7odW",
    "outputId": "ae98fdec-1d54-4b1f-ee0e-4c5633802a18",
    "scrolled": true
   },
   "outputs": [],
   "source": [
    "# %%time\n",
    "\n",
    "batch_size = 64\n",
    "batch_size_test = 128\n",
    "\n",
    "# we want a constant validation group to have a frame of reference for model performance\n",
    "batch_triplets_valid, valid_input_sample, valid_sim = batch_iterator(baseline, retrieval, None, \n",
    "                                                                                      baseline.train_data, \n",
    "                                                                                      baseline.dup_sets_train,\n",
    "                                                                                      bug_train_ids,\n",
    "                                                                                      batch_size_test, 1,\n",
    "                                                                                      issues_by_buckets)\n",
    "\n",
    "validation_sample = [valid_input_sample['title']['token'], valid_input_sample['title']['segment'], \n",
    "                   valid_input_sample['description']['token'], valid_input_sample['description']['segment'],\n",
    "                   valid_input_sample['info'], valid_sim]\n",
    "\n",
    "# Categorical columns\n",
    "number_of_columns_info = valid_input_sample['info'].shape[1]\n",
    "# Max sequence title\n",
    "MAX_SEQUENCE_LENGTH_T = valid_input_sample['title']['token'].shape[1]\n",
    "MAX_SEQUENCE_LENGTH_D = valid_input_sample['description']['token'].shape[1]"
   ]
  },
  {
   "cell_type": "code",
   "execution_count": 23,
   "metadata": {},
   "outputs": [
    {
     "data": {
      "text/plain": [
       "((384, 20), (384, 20), (384, 20), (384, 20), (384, 738), (384,))"
      ]
     },
     "execution_count": 23,
     "metadata": {},
     "output_type": "execute_result"
    }
   ],
   "source": [
    "valid_input_sample['title']['token'].shape, \\\n",
    "valid_input_sample['description']['token'].shape, \\\n",
    "valid_input_sample['title']['segment'].shape, \\\n",
    "valid_input_sample['description']['segment'].shape, \\\n",
    "valid_input_sample['info'].shape, valid_sim.shape"
   ]
  },
  {
   "cell_type": "markdown",
   "metadata": {
    "colab_type": "text",
    "id": "24mY22BGnkqp"
   },
   "source": [
    "### Validar entrada"
   ]
  },
  {
   "cell_type": "code",
   "execution_count": 24,
   "metadata": {
    "colab": {
     "base_uri": "https://localhost:8080/",
     "height": 796
    },
    "colab_type": "code",
    "id": "OhTbr3a5nmrh",
    "outputId": "a2d73e0f-e9ce-4d12-a5c8-f0008d2402d0",
    "scrolled": true
   },
   "outputs": [],
   "source": [
    "# %%time \n",
    "\n",
    "#baseline.display_batch(baseline.train_data, baseline.dup_sets_train, bug_train_ids, 5)"
   ]
  },
  {
   "cell_type": "code",
   "execution_count": 25,
   "metadata": {},
   "outputs": [
    {
     "data": {
      "text/plain": [
       "('Test ', 8265)"
      ]
     },
     "execution_count": 25,
     "metadata": {},
     "output_type": "execute_result"
    }
   ],
   "source": [
    "\"Test \", len(baseline.test_data)"
   ]
  },
  {
   "cell_type": "markdown",
   "metadata": {
    "colab_type": "text",
    "id": "XPrsLs4Kg4Pa"
   },
   "source": [
    "## Pre-trained embeddings\n",
    "\n",
    "Loading pretrained word vectors"
   ]
  },
  {
   "cell_type": "markdown",
   "metadata": {
    "colab_type": "text",
    "id": "6p9eE5TWoH7p"
   },
   "source": [
    "### Glove"
   ]
  },
  {
   "cell_type": "code",
   "execution_count": 26,
   "metadata": {},
   "outputs": [
    {
     "name": "stdout",
     "output_type": "stream",
     "text": [
      "vocabulary loaded\n"
     ]
    }
   ],
   "source": [
    "vocab = baseline.load_vocabulary(os.path.join(DIR, 'vocab_embed.pkl'))\n",
    "#print(np.random.choice(vocab, 10))\n",
    "# for token in vocab:\n",
    "#     print(token)"
   ]
  },
  {
   "cell_type": "code",
   "execution_count": 27,
   "metadata": {},
   "outputs": [
    {
     "data": {
      "text/plain": [
       "'Total vocabulary: 20031'"
      ]
     },
     "execution_count": 27,
     "metadata": {},
     "output_type": "execute_result"
    }
   ],
   "source": [
    "\"Total vocabulary: {}\".format(len(vocab))"
   ]
  },
  {
   "cell_type": "markdown",
   "metadata": {},
   "source": [
    "## Experiment"
   ]
  },
  {
   "cell_type": "markdown",
   "metadata": {
    "colab_type": "text",
    "id": "Lev5Y7oaFQBd"
   },
   "source": [
    "## Towards Accurate Duplicate Bug Retrieval Using Deep Learning Techniques\n",
    "\n",
    "https://github.com/tqtg/DuplicateBugFinder"
   ]
  },
  {
   "cell_type": "markdown",
   "metadata": {
    "colab_type": "text",
    "id": "sI074wU4Y13y"
   },
   "source": [
    "### BERT"
   ]
  },
  {
   "cell_type": "code",
   "execution_count": 31,
   "metadata": {
    "colab": {
     "base_uri": "https://localhost:8080/",
     "height": 493
    },
    "colab_type": "code",
    "id": "h6YJU9GtFTyq",
    "outputId": "f85cf105-1fd6-491d-d969-7e6936f32739",
    "scrolled": false
   },
   "outputs": [],
   "source": [
    "def bert_model(MAX_SEQUENCE_LENGTH, name):\n",
    "    layer_num = 8\n",
    "#     model = load_trained_model_from_checkpoint(\n",
    "#             config_path,\n",
    "#             model_path,\n",
    "#             training=True,\n",
    "#             trainable=True,\n",
    "#             seq_len=MAX_SEQUENCE_LENGTH,\n",
    "#     )\n",
    "    model = load_trained_model_from_checkpoint(\n",
    "        config_path,\n",
    "        model_path,\n",
    "        training=True,\n",
    "        use_adapter=True,\n",
    "        seq_len=MAX_SEQUENCE_LENGTH,\n",
    "        trainable=['Encoder-{}-MultiHeadSelfAttention-Adapter'.format(i + 1) for i in range(12-layer_num, 13)] +\n",
    "        ['Encoder-{}-FeedForward-Adapter'.format(i + 1) for i in range(12-layer_num, 13)] +\n",
    "        ['Encoder-{}-MultiHeadSelfAttention-Norm'.format(i + 1) for i in range(12-layer_num, 13)] +\n",
    "        ['Encoder-{}-FeedForward-Norm'.format(i + 1) for i in range(layer_num)],\n",
    "    )\n",
    "#     model = get_model(\n",
    "#         token_num=len(token_dict),\n",
    "#         head_num=10,\n",
    "#         transformer_num=layer_num,\n",
    "#         embed_dim=100,\n",
    "#         feed_forward_dim=100,\n",
    "#         seq_len=MAX_SEQUENCE_LENGTH,\n",
    "#         pos_num=MAX_SEQUENCE_LENGTH,\n",
    "#         dropout_rate=0.05,\n",
    "#     )\n",
    "    compile_model(model)\n",
    "    inputs = model.inputs[:2]\n",
    "    layers = ['Encoder-{}-MultiHeadSelfAttention-Adapter', 'Encoder-{}-FeedForward-Adapter', \n",
    "     'Encoder-{}-MultiHeadSelfAttention-Norm', 'Encoder-{}-FeedForward-Norm']\n",
    "    outputs = []\n",
    "    for i in range(1, 13):\n",
    "        outputs += [ model.get_layer(layer.format(layer_num)).output for layer in layers ]\n",
    "    outputs = Average()(outputs)\n",
    "    #outputs = model.get_layer('Extract').output\n",
    "    outputs = GlobalAveragePooling1D()(outputs)\n",
    "    outputs = Dense(300, activation='tanh')(outputs)\n",
    "    \n",
    "    model = Model(inputs, outputs, name='FeatureBERTGenerationModel{}'.format(name))\n",
    "    \n",
    "    return model"
   ]
  },
  {
   "cell_type": "markdown",
   "metadata": {},
   "source": [
    "### MLP"
   ]
  },
  {
   "cell_type": "code",
   "execution_count": 32,
   "metadata": {},
   "outputs": [],
   "source": [
    "def mlp_model(input_size):\n",
    "    info_input = Input(shape=(input_size, ), name='Feature_BugInput')\n",
    "    input_size = 300\n",
    "    \n",
    "    for units in [64, 32]:\n",
    "        layer = Dense(units, activation='tanh', kernel_initializer='random_uniform')(info_input)\n",
    "    \n",
    "    layer = Dense(input_size, activation='tanh')(info_input)\n",
    "    \n",
    "    mlp_feature_model = Model(inputs=[info_input], outputs=[layer], name = 'FeatureMlpGenerationModel')\n",
    "    \n",
    "    return mlp_feature_model"
   ]
  },
  {
   "cell_type": "markdown",
   "metadata": {
    "colab_type": "text",
    "id": "TEedCg5AaTf2"
   },
   "source": [
    "### Siamese model"
   ]
  },
  {
   "cell_type": "code",
   "execution_count": 33,
   "metadata": {},
   "outputs": [],
   "source": [
    "def pairwise_distance(feature, squared=False):\n",
    "    \"\"\"Computes the pairwise distance matrix with numerical stability.\n",
    "\n",
    "    output[i, j] = || feature[i, :] - feature[j, :] ||_2\n",
    "\n",
    "    Args:\n",
    "      feature: 2-D Tensor of size [number of data, feature dimension].\n",
    "      squared: Boolean, whether or not to square the pairwise distances.\n",
    "\n",
    "    Returns:\n",
    "      pairwise_distances: 2-D Tensor of size [number of data, number of data].\n",
    "    \"\"\"\n",
    "    pairwise_distances_squared = math_ops.add(\n",
    "        math_ops.reduce_sum(math_ops.square(feature), axis=[1], keepdims=True),\n",
    "        math_ops.reduce_sum(\n",
    "            math_ops.square(array_ops.transpose(feature)),\n",
    "            axis=[0],\n",
    "            keepdims=True)) - 2.0 * math_ops.matmul(feature,\n",
    "                                                    array_ops.transpose(feature))\n",
    "\n",
    "    # Deal with numerical inaccuracies. Set small negatives to zero.\n",
    "    pairwise_distances_squared = math_ops.maximum(pairwise_distances_squared, 0.0)\n",
    "    # Get the mask where the zero distances are at.\n",
    "    error_mask = math_ops.less_equal(pairwise_distances_squared, 0.0)\n",
    "\n",
    "    # Optionally take the sqrt.\n",
    "    if squared:\n",
    "        pairwise_distances = pairwise_distances_squared\n",
    "    else:\n",
    "        pairwise_distances = math_ops.sqrt(\n",
    "            pairwise_distances_squared + math_ops.to_float(error_mask) * 1e-16)\n",
    "\n",
    "    # Undo conditionally adding 1e-16.\n",
    "    pairwise_distances = math_ops.multiply(\n",
    "        pairwise_distances, math_ops.to_float(math_ops.logical_not(error_mask)))\n",
    "\n",
    "    num_data = array_ops.shape(feature)[0]\n",
    "    # Explicitly set diagonals to zero.\n",
    "    mask_offdiagonals = array_ops.ones_like(pairwise_distances) - array_ops.diag(\n",
    "        array_ops.ones([num_data]))\n",
    "    pairwise_distances = math_ops.multiply(pairwise_distances, mask_offdiagonals)\n",
    "    return pairwise_distances\n",
    "\n",
    "def masked_maximum(data, mask, dim=1):\n",
    "    \"\"\"Computes the axis wise maximum over chosen elements.\n",
    "\n",
    "    Args:\n",
    "      data: 2-D float `Tensor` of size [n, m].\n",
    "      mask: 2-D Boolean `Tensor` of size [n, m].\n",
    "      dim: The dimension over which to compute the maximum.\n",
    "\n",
    "    Returns:\n",
    "      masked_maximums: N-D `Tensor`.\n",
    "        The maximized dimension is of size 1 after the operation.\n",
    "    \"\"\"\n",
    "    axis_minimums = math_ops.reduce_min(data, dim, keepdims=True)\n",
    "    masked_maximums = math_ops.reduce_max(\n",
    "        math_ops.multiply(data - axis_minimums, mask), dim,\n",
    "        keepdims=True) + axis_minimums\n",
    "    return masked_maximums\n",
    "\n",
    "def masked_minimum(data, mask, dim=1):\n",
    "    \"\"\"Computes the axis wise minimum over chosen elements.\n",
    "\n",
    "    Args:\n",
    "      data: 2-D float `Tensor` of size [n, m].\n",
    "      mask: 2-D Boolean `Tensor` of size [n, m].\n",
    "      dim: The dimension over which to compute the minimum.\n",
    "\n",
    "    Returns:\n",
    "      masked_minimums: N-D `Tensor`.\n",
    "        The minimized dimension is of size 1 after the operation.\n",
    "    \"\"\"\n",
    "    axis_maximums = math_ops.reduce_max(data, dim, keepdims=True)\n",
    "    masked_minimums = math_ops.reduce_min(\n",
    "        math_ops.multiply(data - axis_maximums, mask), dim,\n",
    "        keepdims=True) + axis_maximums\n",
    "    return masked_minimums"
   ]
  },
  {
   "cell_type": "code",
   "execution_count": 34,
   "metadata": {},
   "outputs": [],
   "source": [
    "def quintet_loss(y_true, y_pred):\n",
    "    return triplet_loss(y_pred)\n",
    "\n",
    "def triplet_loss(vects):\n",
    "    #del y_true\n",
    "    margin = 1.\n",
    "    labels = vects[:, :1]\n",
    " \n",
    "    labels = tf.cast(labels, dtype='int32')\n",
    "\n",
    "    embeddings = vects[:, 1:]\n",
    "\n",
    "    ### Code from Tensorflow function [tf.contrib.losses.metric_learning.triplet_semihard_loss] starts here:\n",
    "    \n",
    "    # Reshape [batch_size] label tensor to a [batch_size, 1] label tensor.\n",
    "    # lshape=array_ops.shape(labels)\n",
    "    # assert lshape.shape == 1\n",
    "    # labels = array_ops.reshape(labels, [lshape[0], 1])\n",
    "\n",
    "    # Build pairwise squared distance matrix.\n",
    "    pdist_matrix = pairwise_distance(embeddings, squared=True)\n",
    "    # Build pairwise binary adjacency matrix.\n",
    "    adjacency = math_ops.equal(labels, array_ops.transpose(labels))\n",
    "    # Invert so we can select negatives only.\n",
    "    adjacency_not = math_ops.logical_not(adjacency)\n",
    "\n",
    "    # global batch_size  \n",
    "    batch_size = array_ops.size(labels) # was 'array_ops.size(labels)'\n",
    "\n",
    "    # Compute the mask.\n",
    "    pdist_matrix_tile = array_ops.tile(pdist_matrix, [batch_size, 1])\n",
    "    mask = math_ops.logical_and(\n",
    "        array_ops.tile(adjacency_not, [batch_size, 1]),\n",
    "        math_ops.greater(\n",
    "            pdist_matrix_tile, array_ops.reshape(\n",
    "                array_ops.transpose(pdist_matrix), [-1, 1])))\n",
    "    mask_final = array_ops.reshape(\n",
    "        math_ops.greater(\n",
    "            math_ops.reduce_sum(\n",
    "                math_ops.cast(mask, dtype=dtypes.float32), 1, keepdims=True),\n",
    "            0.0), [batch_size, batch_size])\n",
    "    mask_final = array_ops.transpose(mask_final)\n",
    "\n",
    "    adjacency_not = math_ops.cast(adjacency_not, dtype=dtypes.float32)\n",
    "    mask = math_ops.cast(mask, dtype=dtypes.float32)\n",
    "\n",
    "    # negatives_outside: smallest D_an where D_an > D_ap.\n",
    "    negatives_outside = array_ops.reshape(\n",
    "        masked_minimum(pdist_matrix_tile, mask), [batch_size, batch_size])\n",
    "    negatives_outside = array_ops.transpose(negatives_outside)\n",
    "\n",
    "    # negatives_inside: largest D_an.\n",
    "    negatives_inside = array_ops.tile(\n",
    "        masked_maximum(pdist_matrix, adjacency_not), [1, batch_size])\n",
    "    semi_hard_negatives = array_ops.where(\n",
    "        mask_final, negatives_outside, negatives_inside)\n",
    "\n",
    "    loss_mat = math_ops.add(margin, pdist_matrix - semi_hard_negatives)\n",
    "\n",
    "    mask_positives = math_ops.cast(\n",
    "        adjacency, dtype=dtypes.float32) - array_ops.diag(\n",
    "        array_ops.ones([batch_size]))\n",
    "\n",
    "    # In lifted-struct, the authors multiply 0.5 for upper triangular\n",
    "    #   in semihard, they take all positive pairs except the diagonal.\n",
    "    num_positives = math_ops.reduce_sum(mask_positives)\n",
    "\n",
    "    semi_hard_triplet_loss_distance = math_ops.truediv(\n",
    "        math_ops.reduce_sum(\n",
    "            math_ops.maximum(\n",
    "                math_ops.multiply(loss_mat, mask_positives), 0.0)),\n",
    "        num_positives,\n",
    "        name='triplet_semihard_loss')\n",
    "    \n",
    "    ### Code from Tensorflow function semi-hard triplet loss ENDS here.\n",
    "    return semi_hard_triplet_loss_distance"
   ]
  },
  {
   "cell_type": "code",
   "execution_count": 35,
   "metadata": {},
   "outputs": [],
   "source": [
    "def siamese_model(title_feature_model, desc_feature_model, categorical_feature_model, sequence_length_info, \n",
    "                  sequence_length_t, sequence_length_d, name):\n",
    "  \n",
    "    # Title\n",
    "    bug_t_token = Input(shape = (sequence_length_t, ), name = 'title_token_{}'.format(name))\n",
    "    bug_t_segment = Input(shape = (sequence_length_t, ), name = 'title_segment_{}'.format(name))\n",
    "    # Description\n",
    "    bug_d_token = Input(shape = (sequence_length_d, ), name = 'desc_token_{}'.format(name))\n",
    "    bug_d_segment = Input(shape = (sequence_length_d, ), name = 'desc_segment_{}'.format(name))\n",
    "    # Categorical\n",
    "    bug_i = Input(shape = (sequence_length_info, ), name = 'info_{}'.format(name))\n",
    "    \n",
    "    bug_t_feat = title_feature_model([bug_t_token, bug_t_segment])\n",
    "    bug_d_feat = desc_feature_model([bug_d_token, bug_d_segment])\n",
    "    bug_i_feat = categorical_feature_model(bug_i)\n",
    "    \n",
    "    #bug_feature_output = Add(name = 'merge_features_{}'.format(name))([bug_i_feat, bug_t_feat, bug_d_feat])\n",
    "    bug_feature_output = concatenate([bug_i_feat, bug_t_feat, bug_d_feat], name = 'merge_features_{}'.format(name))\n",
    "    \n",
    "    bug_feature_model = Model(inputs=[bug_t_token, bug_t_segment, bug_d_token, bug_d_segment, bug_i], outputs=[bug_feature_output], name = 'merge_features_{}'.format(name))\n",
    "    \n",
    "    return bug_feature_model"
   ]
  },
  {
   "cell_type": "code",
   "execution_count": 36,
   "metadata": {},
   "outputs": [],
   "source": [
    "def max_margin_objective(encoded_anchor, decay_lr=1):\n",
    "    \n",
    "    input_labels = Input(shape=(1,), name='input_label')    # input layer for labels\n",
    "    inputs = np.concatenate([encoded_anchor.input, [input_labels]], -1).tolist()\n",
    "    \n",
    "    encoded_anchor = encoded_anchor.output\n",
    "    \n",
    "    output = concatenate([input_labels, encoded_anchor])  # concatenating the labels + embeddings\n",
    "    \n",
    "    similarity_model = Model(inputs = inputs, outputs = output, name = 'Similarity_Model')\n",
    "\n",
    "    #optimizer = Nadam(lr=1e-3, beta_1=0.9, beta_2=0.999, epsilon=K.epsilon(), schedule_decay=0.01)\n",
    "    # optimizer = Adam(lr=1e-3 * decay_lr, beta_1=0.9, beta_2=0.999, epsilon=None, decay=0.0, amsgrad=True)\n",
    "    \n",
    "    # setup the optimization process \n",
    "    similarity_model.compile(optimizer='adam', loss=quintet_loss) \n",
    "    # metrics=[pos_distance, neg_distance, custom_margin_loss]\n",
    "\n",
    "    return similarity_model"
   ]
  },
  {
   "cell_type": "code",
   "execution_count": 37,
   "metadata": {},
   "outputs": [],
   "source": [
    "def save_loss(result):\n",
    "    with open(os.path.join(DIR,'{}_log.pkl'.format(METHOD)), 'wb') as f:\n",
    "        pickle.dump(result, f)\n",
    "    print(\"=> result saved!\")"
   ]
  },
  {
   "cell_type": "code",
   "execution_count": 38,
   "metadata": {},
   "outputs": [],
   "source": [
    "# Domain to use\n",
    "limit_train = int(epochs * freeze_train) # 10% de 1000 , 100 epocas\n",
    "METHOD = 'deepTL_{}'.format(limit_train)\n",
    "SAVE_PATH = '{}_preprocessing_{}_feature@number_of_epochs@epochs_64batch({})'.format(PREPROCESSING, METHOD, DOMAIN)\n",
    "SAVE_PATH_FEATURE = '{}_preprocessing_{}_feature_@number_of_epochs@epochs_64batch({})'.format(PREPROCESSING, METHOD, DOMAIN)"
   ]
  },
  {
   "cell_type": "code",
   "execution_count": 39,
   "metadata": {
    "scrolled": true
   },
   "outputs": [
    {
     "name": "stdout",
     "output_type": "stream",
     "text": [
      "WARNING:tensorflow:From /usr/local/lib/python3.5/dist-packages/keras/backend/tensorflow_backend.py:95: The name tf.reset_default_graph is deprecated. Please use tf.compat.v1.reset_default_graph instead.\n",
      "\n",
      "WARNING:tensorflow:From /usr/local/lib/python3.5/dist-packages/keras/backend/tensorflow_backend.py:98: The name tf.placeholder_with_default is deprecated. Please use tf.compat.v1.placeholder_with_default instead.\n",
      "\n",
      "WARNING:tensorflow:From /usr/local/lib/python3.5/dist-packages/keras/backend/tensorflow_backend.py:102: The name tf.get_default_graph is deprecated. Please use tf.compat.v1.get_default_graph instead.\n",
      "\n",
      "WARNING:tensorflow:From /usr/local/lib/python3.5/dist-packages/keras/backend/tensorflow_backend.py:517: The name tf.placeholder is deprecated. Please use tf.compat.v1.placeholder instead.\n",
      "\n",
      "WARNING:tensorflow:From /usr/local/lib/python3.5/dist-packages/keras/backend/tensorflow_backend.py:4138: The name tf.random_uniform is deprecated. Please use tf.random.uniform instead.\n",
      "\n",
      "WARNING:tensorflow:From /usr/local/lib/python3.5/dist-packages/keras/backend/tensorflow_backend.py:3445: calling dropout (from tensorflow.python.ops.nn_ops) with keep_prob is deprecated and will be removed in a future version.\n",
      "Instructions for updating:\n",
      "Please use `rate` instead of `keep_prob`. Rate should be set to `rate = 1 - keep_prob`.\n",
      "WARNING:tensorflow:From /usr/local/lib/python3.5/dist-packages/keras/backend/tensorflow_backend.py:4185: The name tf.truncated_normal is deprecated. Please use tf.random.truncated_normal instead.\n",
      "\n",
      "WARNING:tensorflow:From /usr/local/lib/python3.5/dist-packages/keras/backend/tensorflow_backend.py:174: The name tf.get_default_session is deprecated. Please use tf.compat.v1.get_default_session instead.\n",
      "\n",
      "WARNING:tensorflow:From /usr/local/lib/python3.5/dist-packages/keras/backend/tensorflow_backend.py:181: The name tf.ConfigProto is deprecated. Please use tf.compat.v1.ConfigProto instead.\n",
      "\n",
      "WARNING:tensorflow:From /usr/local/lib/python3.5/dist-packages/keras/backend/tensorflow_backend.py:186: The name tf.Session is deprecated. Please use tf.compat.v1.Session instead.\n",
      "\n",
      "WARNING:tensorflow:From /usr/local/lib/python3.5/dist-packages/keras/backend/tensorflow_backend.py:190: The name tf.global_variables is deprecated. Please use tf.compat.v1.global_variables instead.\n",
      "\n",
      "WARNING:tensorflow:From /usr/local/lib/python3.5/dist-packages/keras/backend/tensorflow_backend.py:199: The name tf.is_variable_initialized is deprecated. Please use tf.compat.v1.is_variable_initialized instead.\n",
      "\n",
      "WARNING:tensorflow:From /usr/local/lib/python3.5/dist-packages/keras/backend/tensorflow_backend.py:206: The name tf.variables_initializer is deprecated. Please use tf.compat.v1.variables_initializer instead.\n",
      "\n",
      "WARNING:tensorflow:From /usr/local/lib/python3.5/dist-packages/keras/optimizers.py:790: The name tf.train.Optimizer is deprecated. Please use tf.compat.v1.train.Optimizer instead.\n",
      "\n",
      "WARNING:tensorflow:From /usr/local/lib/python3.5/dist-packages/keras/backend/tensorflow_backend.py:3341: The name tf.log is deprecated. Please use tf.math.log instead.\n",
      "\n",
      "WARNING:tensorflow:From <ipython-input-33-cd325db98846>:35: to_float (from tensorflow.python.ops.math_ops) is deprecated and will be removed in a future version.\n",
      "Instructions for updating:\n",
      "Use `tf.cast` instead.\n",
      "WARNING:tensorflow:From <ipython-input-34-5b033f8d5bce>:62: where (from tensorflow.python.ops.array_ops) is deprecated and will be removed in a future version.\n",
      "Instructions for updating:\n",
      "Use tf.where in 2.0, which has the same broadcast rule as np.where\n",
      "__________________________________________________________________________________________________\n",
      "Layer (type)                    Output Shape         Param #     Connected to                     \n",
      "==================================================================================================\n",
      "info_in (InputLayer)            (None, 738)          0                                            \n",
      "__________________________________________________________________________________________________\n",
      "title_token_in (InputLayer)     (None, 20)           0                                            \n",
      "__________________________________________________________________________________________________\n",
      "title_segment_in (InputLayer)   (None, 20)           0                                            \n",
      "__________________________________________________________________________________________________\n",
      "desc_token_in (InputLayer)      (None, 20)           0                                            \n",
      "__________________________________________________________________________________________________\n",
      "desc_segment_in (InputLayer)    (None, 20)           0                                            \n",
      "__________________________________________________________________________________________________\n",
      "FeatureMlpGenerationModel (Mode (None, 300)          221700      info_in[0][0]                    \n",
      "__________________________________________________________________________________________________\n",
      "FeatureBERTGenerationModelTitle (None, 300)          80577436    title_token_in[0][0]             \n",
      "                                                                 title_segment_in[0][0]           \n",
      "__________________________________________________________________________________________________\n",
      "FeatureBERTGenerationModelDescr (None, 300)          80577436    desc_token_in[0][0]              \n",
      "                                                                 desc_segment_in[0][0]            \n",
      "__________________________________________________________________________________________________\n",
      "input_label (InputLayer)        (None, 1)            0                                            \n",
      "__________________________________________________________________________________________________\n",
      "merge_features_in (Concatenate) (None, 900)          0           FeatureMlpGenerationModel[1][0]  \n",
      "                                                                 FeatureBERTGenerationModelTitle[1\n",
      "                                                                 FeatureBERTGenerationModelDescrip\n",
      "__________________________________________________________________________________________________\n",
      "concatenate_1 (Concatenate)     (None, 901)          0           input_label[0][0]                \n",
      "                                                                 merge_features_in[0][0]          \n",
      "==================================================================================================\n",
      "Total params: 161,376,572\n",
      "Trainable params: 904,396\n",
      "Non-trainable params: 160,472,176\n",
      "__________________________________________________________________________________________________\n",
      "Total of  100\n",
      "WARNING:tensorflow:From /usr/local/lib/python3.5/dist-packages/keras/backend/tensorflow_backend.py:986: The name tf.assign_add is deprecated. Please use tf.compat.v1.assign_add instead.\n",
      "\n",
      "WARNING:tensorflow:From /usr/local/lib/python3.5/dist-packages/keras/backend/tensorflow_backend.py:973: The name tf.assign is deprecated. Please use tf.compat.v1.assign instead.\n",
      "\n",
      "Epoch: 1 Loss: 0.68, Loss_test: 0.78\n",
      "Epoch: 2 Loss: 0.70, Loss_test: 0.72\n",
      "Epoch: 3 Loss: 0.67, Loss_test: 0.64\n",
      "Epoch: 4 Loss: 0.58, Loss_test: 0.55\n",
      "Epoch: 5 Loss: 0.48, Loss_test: 0.45\n",
      "Epoch: 6 Loss: 0.34, Loss_test: 0.36\n",
      "Epoch: 7 Loss: 0.27, Loss_test: 0.30\n",
      "Epoch: 8 Loss: 0.33, Loss_test: 0.24\n",
      "Epoch: 9 Loss: 0.23, Loss_test: 0.20\n",
      "=> result saved!\n",
      "Epoch: 10 Loss: 0.24, Loss_test: 0.17\n",
      "Epoch: 11 Loss: 0.27, Loss_test: 0.15\n",
      "Epoch: 12 Loss: 0.17, Loss_test: 0.12\n",
      "Epoch: 13 Loss: 0.20, Loss_test: 0.11\n",
      "Epoch: 14 Loss: 0.22, Loss_test: 0.10\n",
      "Epoch: 15 Loss: 0.11, Loss_test: 0.09\n",
      "Epoch: 16 Loss: 0.07, Loss_test: 0.08\n",
      "Epoch: 17 Loss: 0.10, Loss_test: 0.08\n",
      "Epoch: 18 Loss: 0.08, Loss_test: 0.07\n",
      "Epoch: 19 Loss: 0.05, Loss_test: 0.07\n",
      "=> result saved!\n",
      "Epoch: 20 Loss: 0.14, Loss_test: 0.06\n",
      "Epoch: 21 Loss: 0.10, Loss_test: 0.06\n",
      "Epoch: 22 Loss: 0.10, Loss_test: 0.06\n",
      "Epoch: 23 Loss: 0.06, Loss_test: 0.06\n",
      "Epoch: 24 Loss: 0.05, Loss_test: 0.06\n",
      "Epoch: 25 Loss: 0.14, Loss_test: 0.06\n",
      "Epoch: 26 Loss: 0.05, Loss_test: 0.06\n",
      "Epoch: 27 Loss: 0.03, Loss_test: 0.05\n",
      "Epoch: 28 Loss: 0.04, Loss_test: 0.05\n",
      "Epoch: 29 Loss: 0.03, Loss_test: 0.05\n"
     ]
    },
    {
     "name": "stdout",
     "output_type": "stream",
     "text": [
      "=> result saved!\n",
      "Epoch: 30 Loss: 0.08, Loss_test: 0.05\n",
      "Epoch: 31 Loss: 0.03, Loss_test: 0.05\n",
      "Epoch: 32 Loss: 0.08, Loss_test: 0.05\n",
      "Epoch: 33 Loss: 0.13, Loss_test: 0.05\n",
      "Epoch: 34 Loss: 0.04, Loss_test: 0.05\n",
      "Epoch: 35 Loss: 0.08, Loss_test: 0.05\n",
      "Epoch: 36 Loss: 0.13, Loss_test: 0.05\n",
      "Epoch: 37 Loss: 0.04, Loss_test: 0.05\n",
      "Epoch: 38 Loss: 0.07, Loss_test: 0.05\n",
      "Epoch: 39 Loss: 0.04, Loss_test: 0.05\n",
      "=> result saved!\n",
      "Epoch: 40 Loss: 0.07, Loss_test: 0.05\n",
      "Epoch: 41 Loss: 0.12, Loss_test: 0.05\n",
      "Epoch: 42 Loss: 0.05, Loss_test: 0.04\n",
      "Epoch: 43 Loss: 0.04, Loss_test: 0.04\n",
      "Epoch: 44 Loss: 0.02, Loss_test: 0.04\n",
      "Epoch: 45 Loss: 0.04, Loss_test: 0.04\n",
      "Epoch: 46 Loss: 0.04, Loss_test: 0.04\n",
      "Epoch: 47 Loss: 0.06, Loss_test: 0.04\n",
      "Epoch: 48 Loss: 0.12, Loss_test: 0.04\n",
      "Epoch: 49 Loss: 0.03, Loss_test: 0.04\n",
      "=> result saved!\n",
      "Epoch: 50 Loss: 0.10, Loss_test: 0.04\n",
      "Epoch: 51 Loss: 0.05, Loss_test: 0.04\n",
      "Epoch: 52 Loss: 0.14, Loss_test: 0.04\n",
      "Epoch: 53 Loss: 0.07, Loss_test: 0.04\n",
      "Epoch: 54 Loss: 0.03, Loss_test: 0.04\n",
      "Epoch: 55 Loss: 0.10, Loss_test: 0.04\n",
      "Epoch: 56 Loss: 0.11, Loss_test: 0.04\n",
      "Epoch: 57 Loss: 0.04, Loss_test: 0.04\n",
      "Epoch: 58 Loss: 0.04, Loss_test: 0.04\n",
      "Epoch: 59 Loss: 0.12, Loss_test: 0.04\n",
      "=> result saved!\n",
      "Epoch: 60 Loss: 0.05, Loss_test: 0.04\n",
      "Epoch: 61 Loss: 0.03, Loss_test: 0.04\n",
      "Epoch: 62 Loss: 0.07, Loss_test: 0.04\n",
      "Epoch: 63 Loss: 0.03, Loss_test: 0.04\n",
      "Epoch: 64 Loss: 0.08, Loss_test: 0.04\n",
      "Epoch: 65 Loss: 0.09, Loss_test: 0.04\n",
      "Epoch: 66 Loss: 0.06, Loss_test: 0.04\n",
      "Epoch: 67 Loss: 0.03, Loss_test: 0.04\n",
      "Epoch: 68 Loss: 0.07, Loss_test: 0.04\n",
      "Epoch: 69 Loss: 0.04, Loss_test: 0.04\n",
      "=> result saved!\n",
      "Epoch: 70 Loss: 0.04, Loss_test: 0.03\n",
      "Epoch: 71 Loss: 0.07, Loss_test: 0.03\n",
      "Epoch: 72 Loss: 0.03, Loss_test: 0.03\n",
      "Epoch: 73 Loss: 0.06, Loss_test: 0.03\n",
      "Epoch: 74 Loss: 0.11, Loss_test: 0.03\n",
      "Epoch: 75 Loss: 0.05, Loss_test: 0.03\n",
      "Epoch: 76 Loss: 0.07, Loss_test: 0.03\n",
      "Epoch: 77 Loss: 0.02, Loss_test: 0.03\n",
      "Epoch: 78 Loss: 0.04, Loss_test: 0.03\n",
      "Epoch: 79 Loss: 0.06, Loss_test: 0.03\n",
      "=> result saved!\n",
      "Epoch: 80 Loss: 0.07, Loss_test: 0.03\n",
      "Epoch: 81 Loss: 0.05, Loss_test: 0.03\n",
      "Epoch: 82 Loss: 0.07, Loss_test: 0.03\n",
      "Epoch: 83 Loss: 0.02, Loss_test: 0.03\n",
      "Epoch: 84 Loss: 0.10, Loss_test: 0.03\n",
      "Epoch: 85 Loss: 0.02, Loss_test: 0.03\n",
      "Epoch: 86 Loss: 0.05, Loss_test: 0.03\n",
      "Epoch: 87 Loss: 0.07, Loss_test: 0.03\n",
      "Epoch: 88 Loss: 0.04, Loss_test: 0.03\n",
      "Epoch: 89 Loss: 0.04, Loss_test: 0.03\n",
      "=> result saved!\n",
      "Epoch: 90 Loss: 0.05, Loss_test: 0.03\n",
      "Epoch: 91 Loss: 0.01, Loss_test: 0.03\n",
      "Epoch: 92 Loss: 0.08, Loss_test: 0.03\n",
      "Epoch: 93 Loss: 0.03, Loss_test: 0.03\n",
      "Epoch: 94 Loss: 0.03, Loss_test: 0.03\n",
      "Epoch: 95 Loss: 0.06, Loss_test: 0.03\n",
      "Epoch: 96 Loss: 0.05, Loss_test: 0.03\n",
      "Epoch: 97 Loss: 0.03, Loss_test: 0.03\n",
      "Epoch: 98 Loss: 0.03, Loss_test: 0.03\n",
      "Epoch: 99 Loss: 0.06, Loss_test: 0.03\n",
      "=> result saved!\n",
      "Epoch: 100 Loss: 0.03, Loss_test: 0.03, recall@25: 0.48\n",
      "Best_epoch=91, Best_loss=0.01, Recall@25=0.48\n"
     ]
    }
   ],
   "source": [
    "# %%time\n",
    "\n",
    "# Inspired on https://'pastebin.com/TaGFdcBA\n",
    "# TODO: https://stackoverflow.com/questions/49941903/keras-compute-cosine-distance-between-two-flattened-outputs\n",
    "keras.backend.clear_session()\n",
    "\n",
    "# Clear GPU memory\n",
    "# from numba import cuda\n",
    "# cuda.select_device(0)\n",
    "# cuda.close()\n",
    "\n",
    "# Feature models\n",
    "'''\n",
    "    cnn_model\n",
    "    lstm_model\n",
    "    mlp_model\n",
    "'''\n",
    "title_feature_model = bert_model(MAX_SEQUENCE_LENGTH_T, 'Title')\n",
    "desc_feature_model = bert_model(MAX_SEQUENCE_LENGTH_D, 'Description')\n",
    "categorical_feature_model = mlp_model(number_of_columns_info)\n",
    "\n",
    "# Similarity model\n",
    "encoded_anchor = siamese_model(title_feature_model, desc_feature_model, categorical_feature_model, \n",
    "                                     number_of_columns_info, MAX_SEQUENCE_LENGTH_T, MAX_SEQUENCE_LENGTH_D, 'in')\n",
    "\n",
    "similarity_model = max_margin_objective(encoded_anchor, decay_lr=1)\n",
    "\n",
    "# cnn_feature_model.summary()\n",
    "# lstm_feature_model.summary()\n",
    "similarity_model.summary()\n",
    "\n",
    "'''\n",
    "    Experiment\n",
    "'''\n",
    "result = { 'train' : [], 'test' : [] }\n",
    "print(\"Total of \", limit_train)\n",
    "for epoch in range(limit_train):\n",
    "    batch_triplet_train, \\\n",
    "        train_input_sample, train_sim = batch_iterator(baseline, retrieval, encoded_anchor, baseline.train_data, \n",
    "                                                       baseline.dup_sets_train, bug_train_ids, \n",
    "                                                           batch_size, 1, issues_by_buckets, TRIPLET_HARD=False)\n",
    "    train_batch = [train_input_sample['title']['token'], train_input_sample['title']['segment'], \n",
    "                   train_input_sample['description']['token'], train_input_sample['description']['segment'],\n",
    "                   train_input_sample['info'], train_sim]\n",
    "    \n",
    "#     if epoch == 10:\n",
    "#         similarity_model = max_margin_objective(encoded_anchor, encoded_positive, encoded_negative, decay_lr=0.1)\n",
    "    \n",
    "    h = similarity_model.train_on_batch(x=train_batch, y=train_sim)\n",
    "    h_validation = similarity_model.test_on_batch(x=validation_sample, y=valid_sim)\n",
    "    \n",
    "    # save results\n",
    "    result['train'].append([h])\n",
    "    result['test'].append([h_validation])\n",
    "    \n",
    "    if( (epoch+1) % 10 == 0 or (epoch+1 == limit_train) ):\n",
    "        save_loss(result)\n",
    "    \n",
    "    if (epoch+1 == limit_train): #(epoch > 1 and epoch % 10 == 0) or (epoch+1 == epochs):\n",
    "        recall, exported_rank, debug = experiment.evaluate_validation_test(retrieval, verbose, encoded_anchor, issues_by_buckets, \n",
    "                                                               bug_train_ids, method='bert')\n",
    "        print(\"Epoch: {} Loss: {:.2f}, Loss_test: {:.2f}, recall@25: {:.2f}\".format(epoch+1, h, h_validation, recall))\n",
    "    else:\n",
    "        print(\"Epoch: {} Loss: {:.2f}, Loss_test: {:.2f}\".format(epoch+1, h, h_validation))\n",
    "    loss = h\n",
    "    \n",
    "    if loss < best_loss:\n",
    "        best_loss = loss\n",
    "        best_epoch = epoch+1\n",
    "\n",
    "#experiment.save_model(similarity_model, SAVE_PATH.replace('@number_of_epochs@', str(epochs)))\n",
    "#experiment.save_model(encoded_anchor, SAVE_PATH_FEATURE.replace('@number_of_epochs@', str(epochs)), verbose=1)\n",
    "print('Best_epoch={}, Best_loss={:.2f}, Recall@25={:.2f}'.format(best_epoch, best_loss, recall))"
   ]
  },
  {
   "cell_type": "code",
   "execution_count": 40,
   "metadata": {},
   "outputs": [
    {
     "data": {
      "text/plain": [
       "'data/processed/openoffice/bert/exported_rank_deepTL_100.txt'"
      ]
     },
     "execution_count": 40,
     "metadata": {},
     "output_type": "execute_result"
    }
   ],
   "source": [
    "EXPORT_RANK_PATH = os.path.join(DIR, 'exported_rank_{}.txt'.format(METHOD))\n",
    "EXPORT_RANK_PATH"
   ]
  },
  {
   "cell_type": "code",
   "execution_count": 41,
   "metadata": {},
   "outputs": [],
   "source": [
    "with open(EXPORT_RANK_PATH, 'w') as file_out:\n",
    "    for row in exported_rank:\n",
    "        file_out.write(row + \"\\n\")"
   ]
  },
  {
   "cell_type": "code",
   "execution_count": 42,
   "metadata": {},
   "outputs": [
    {
     "name": "stdout",
     "output_type": "stream",
     "text": [
      "Saved model 'modelos/model_bert_preprocessing_deepTL_100_feature_100epochs_64batch(openoffice).h5' to disk\n"
     ]
    }
   ],
   "source": [
    "experiment.save_model(similarity_model, SAVE_PATH.replace('@number_of_epochs@', str(limit_train)))\n",
    "experiment.save_model(encoded_anchor, SAVE_PATH_FEATURE.replace('@number_of_epochs@', str(limit_train)), verbose=1)"
   ]
  },
  {
   "cell_type": "code",
   "execution_count": 43,
   "metadata": {},
   "outputs": [
    {
     "data": {
      "text/plain": [
       "(100, 100)"
      ]
     },
     "execution_count": 43,
     "metadata": {},
     "output_type": "execute_result"
    }
   ],
   "source": [
    "len(result['train']), len(result['test'])"
   ]
  },
  {
   "cell_type": "code",
   "execution_count": 44,
   "metadata": {},
   "outputs": [
    {
     "name": "stdout",
     "output_type": "stream",
     "text": [
      "__________________________________________________________________________________________________\n",
      "Layer (type)                    Output Shape         Param #     Connected to                     \n",
      "==================================================================================================\n",
      "info_in (InputLayer)            (None, 738)          0                                            \n",
      "__________________________________________________________________________________________________\n",
      "title_token_in (InputLayer)     (None, 20)           0                                            \n",
      "__________________________________________________________________________________________________\n",
      "title_segment_in (InputLayer)   (None, 20)           0                                            \n",
      "__________________________________________________________________________________________________\n",
      "desc_token_in (InputLayer)      (None, 20)           0                                            \n",
      "__________________________________________________________________________________________________\n",
      "desc_segment_in (InputLayer)    (None, 20)           0                                            \n",
      "__________________________________________________________________________________________________\n",
      "FeatureMlpGenerationModel (Mode (None, 300)          221700      info_in[0][0]                    \n",
      "__________________________________________________________________________________________________\n",
      "FeatureBERTGenerationModelTitle (None, 300)          80577436    title_token_in[0][0]             \n",
      "                                                                 title_segment_in[0][0]           \n",
      "__________________________________________________________________________________________________\n",
      "FeatureBERTGenerationModelDescr (None, 300)          80577436    desc_token_in[0][0]              \n",
      "                                                                 desc_segment_in[0][0]            \n",
      "__________________________________________________________________________________________________\n",
      "input_label (InputLayer)        (None, 1)            0                                            \n",
      "__________________________________________________________________________________________________\n",
      "merge_features_in (Concatenate) (None, 900)          0           FeatureMlpGenerationModel[1][0]  \n",
      "                                                                 FeatureBERTGenerationModelTitle[1\n",
      "                                                                 FeatureBERTGenerationModelDescrip\n",
      "__________________________________________________________________________________________________\n",
      "concatenate_1 (Concatenate)     (None, 901)          0           input_label[0][0]                \n",
      "                                                                 merge_features_in[0][0]          \n",
      "==================================================================================================\n",
      "Total params: 161,376,572\n",
      "Trainable params: 904,396\n",
      "Non-trainable params: 160,472,176\n",
      "__________________________________________________________________________________________________\n"
     ]
    }
   ],
   "source": [
    "model = similarity_model.get_layer('concatenate_1')\n",
    "output = model.output\n",
    "inputs = similarity_model.inputs\n",
    "model = Model(inputs = inputs, outputs = output, name = 'Similarity_Model')\n",
    "\n",
    "# setup the optimization process \n",
    "model.compile(optimizer='adam', loss=quintet_loss)\n",
    "model.summary()"
   ]
  },
  {
   "cell_type": "code",
   "execution_count": 45,
   "metadata": {},
   "outputs": [],
   "source": [
    "# Domain to use\n",
    "METHOD = 'deepTL_{}'.format(epochs)\n",
    "SAVE_PATH = '{}_preprocessing_{}_feature@number_of_epochs@epochs_64batch({})'.format(PREPROCESSING, METHOD, DOMAIN)\n",
    "SAVE_PATH_FEATURE = '{}_preprocessing_{}_feature_@number_of_epochs@epochs_64batch({})'.format(PREPROCESSING, METHOD, DOMAIN)"
   ]
  },
  {
   "cell_type": "code",
   "execution_count": 46,
   "metadata": {
    "scrolled": true
   },
   "outputs": [
    {
     "name": "stdout",
     "output_type": "stream",
     "text": [
      "Epoch: 101 Loss: 0.04, Loss_test: 0.03\n",
      "Epoch: 102 Loss: 0.02, Loss_test: 0.03\n",
      "Epoch: 103 Loss: 0.07, Loss_test: 0.03\n",
      "Epoch: 104 Loss: 0.04, Loss_test: 0.03\n",
      "Epoch: 105 Loss: 0.04, Loss_test: 0.03\n",
      "Epoch: 106 Loss: 0.05, Loss_test: 0.04\n",
      "Epoch: 107 Loss: 0.18, Loss_test: 0.04\n",
      "Epoch: 108 Loss: 0.04, Loss_test: 0.04\n",
      "Epoch: 109 Loss: 0.04, Loss_test: 0.04\n",
      "=> result saved!\n",
      "Epoch: 110 Loss: 0.14, Loss_test: 0.04\n",
      "Epoch: 111 Loss: 0.06, Loss_test: 0.04\n",
      "Epoch: 112 Loss: 0.06, Loss_test: 0.04\n",
      "Epoch: 113 Loss: 0.09, Loss_test: 0.04\n",
      "Epoch: 114 Loss: 0.02, Loss_test: 0.04\n",
      "Epoch: 115 Loss: 0.09, Loss_test: 0.04\n",
      "Epoch: 116 Loss: 0.03, Loss_test: 0.04\n",
      "Epoch: 117 Loss: 0.03, Loss_test: 0.04\n",
      "Epoch: 118 Loss: 0.08, Loss_test: 0.04\n",
      "Epoch: 119 Loss: 0.02, Loss_test: 0.04\n",
      "=> result saved!\n",
      "Epoch: 120 Loss: 0.07, Loss_test: 0.04\n",
      "Epoch: 121 Loss: 0.04, Loss_test: 0.04\n",
      "Epoch: 122 Loss: 0.02, Loss_test: 0.04\n",
      "Epoch: 123 Loss: 0.09, Loss_test: 0.03\n",
      "Epoch: 124 Loss: 0.06, Loss_test: 0.03\n",
      "Epoch: 125 Loss: 0.06, Loss_test: 0.03\n",
      "Epoch: 126 Loss: 0.05, Loss_test: 0.03\n",
      "Epoch: 127 Loss: 0.11, Loss_test: 0.03\n",
      "Epoch: 128 Loss: 0.06, Loss_test: 0.03\n",
      "Epoch: 129 Loss: 0.05, Loss_test: 0.03\n",
      "=> result saved!\n",
      "Epoch: 130 Loss: 0.04, Loss_test: 0.03\n",
      "Epoch: 131 Loss: 0.04, Loss_test: 0.03\n",
      "Epoch: 132 Loss: 0.04, Loss_test: 0.03\n",
      "Epoch: 133 Loss: 0.06, Loss_test: 0.03\n",
      "Epoch: 134 Loss: 0.08, Loss_test: 0.03\n",
      "Epoch: 135 Loss: 0.02, Loss_test: 0.02\n",
      "Epoch: 136 Loss: 0.03, Loss_test: 0.02\n",
      "Epoch: 137 Loss: 0.02, Loss_test: 0.02\n",
      "Epoch: 138 Loss: 0.03, Loss_test: 0.02\n",
      "Epoch: 139 Loss: 0.02, Loss_test: 0.02\n",
      "=> result saved!\n",
      "Epoch: 140 Loss: 0.03, Loss_test: 0.02\n",
      "Epoch: 141 Loss: 0.03, Loss_test: 0.02\n",
      "Epoch: 142 Loss: 0.07, Loss_test: 0.02\n",
      "Epoch: 143 Loss: 0.04, Loss_test: 0.02\n",
      "Epoch: 144 Loss: 0.02, Loss_test: 0.02\n",
      "Epoch: 145 Loss: 0.05, Loss_test: 0.02\n",
      "Epoch: 146 Loss: 0.02, Loss_test: 0.02\n",
      "Epoch: 147 Loss: 0.03, Loss_test: 0.02\n",
      "Epoch: 148 Loss: 0.04, Loss_test: 0.02\n",
      "Epoch: 149 Loss: 0.05, Loss_test: 0.02\n",
      "=> result saved!\n",
      "Epoch: 150 Loss: 0.02, Loss_test: 0.02\n",
      "Epoch: 151 Loss: 0.05, Loss_test: 0.02\n",
      "Epoch: 152 Loss: 0.05, Loss_test: 0.02\n",
      "Epoch: 153 Loss: 0.02, Loss_test: 0.02\n",
      "Epoch: 154 Loss: 0.02, Loss_test: 0.02\n",
      "Epoch: 155 Loss: 0.06, Loss_test: 0.02\n",
      "Epoch: 156 Loss: 0.02, Loss_test: 0.02\n",
      "Epoch: 157 Loss: 0.01, Loss_test: 0.02\n",
      "Epoch: 158 Loss: 0.04, Loss_test: 0.02\n",
      "Epoch: 159 Loss: 0.02, Loss_test: 0.02\n",
      "=> result saved!\n",
      "Epoch: 160 Loss: 0.02, Loss_test: 0.02\n",
      "Epoch: 161 Loss: 0.08, Loss_test: 0.02\n",
      "Epoch: 162 Loss: 0.01, Loss_test: 0.02\n",
      "Epoch: 163 Loss: 0.03, Loss_test: 0.02\n",
      "Epoch: 164 Loss: 0.05, Loss_test: 0.02\n",
      "Epoch: 165 Loss: 0.04, Loss_test: 0.02\n",
      "Epoch: 166 Loss: 0.03, Loss_test: 0.01\n",
      "Epoch: 167 Loss: 0.01, Loss_test: 0.01\n",
      "Epoch: 168 Loss: 0.01, Loss_test: 0.01\n",
      "Epoch: 169 Loss: 0.03, Loss_test: 0.01\n",
      "=> result saved!\n",
      "Epoch: 170 Loss: 0.03, Loss_test: 0.01\n",
      "Epoch: 171 Loss: 0.02, Loss_test: 0.01\n",
      "Epoch: 172 Loss: 0.03, Loss_test: 0.01\n",
      "Epoch: 173 Loss: 0.02, Loss_test: 0.01\n",
      "Epoch: 174 Loss: 0.01, Loss_test: 0.01\n",
      "Epoch: 175 Loss: 0.04, Loss_test: 0.01\n",
      "Epoch: 176 Loss: 0.06, Loss_test: 0.01\n",
      "Epoch: 177 Loss: 0.04, Loss_test: 0.01\n",
      "Epoch: 178 Loss: 0.05, Loss_test: 0.01\n",
      "Epoch: 179 Loss: 0.02, Loss_test: 0.01\n",
      "=> result saved!\n",
      "Epoch: 180 Loss: 0.04, Loss_test: 0.01\n",
      "Epoch: 181 Loss: 0.02, Loss_test: 0.01\n",
      "Epoch: 182 Loss: 0.02, Loss_test: 0.01\n",
      "Epoch: 183 Loss: 0.03, Loss_test: 0.01\n",
      "Epoch: 184 Loss: 0.01, Loss_test: 0.02\n",
      "Epoch: 185 Loss: 0.01, Loss_test: 0.02\n",
      "Epoch: 186 Loss: 0.04, Loss_test: 0.02\n",
      "Epoch: 187 Loss: 0.06, Loss_test: 0.02\n",
      "Epoch: 188 Loss: 0.03, Loss_test: 0.01\n",
      "Epoch: 189 Loss: 0.04, Loss_test: 0.01\n",
      "=> result saved!\n",
      "Epoch: 190 Loss: 0.05, Loss_test: 0.01\n",
      "Epoch: 191 Loss: 0.02, Loss_test: 0.01\n",
      "Epoch: 192 Loss: 0.04, Loss_test: 0.01\n",
      "Epoch: 193 Loss: 0.01, Loss_test: 0.01\n",
      "Epoch: 194 Loss: 0.03, Loss_test: 0.01\n",
      "Epoch: 195 Loss: 0.02, Loss_test: 0.01\n",
      "Epoch: 196 Loss: 0.02, Loss_test: 0.01\n",
      "Epoch: 197 Loss: 0.02, Loss_test: 0.01\n",
      "Epoch: 198 Loss: 0.03, Loss_test: 0.01\n",
      "Epoch: 199 Loss: 0.01, Loss_test: 0.01\n",
      "=> result saved!\n",
      "Epoch: 200 Loss: 0.02, Loss_test: 0.01\n",
      "Epoch: 201 Loss: 0.02, Loss_test: 0.01\n",
      "Epoch: 202 Loss: 0.05, Loss_test: 0.01\n",
      "Epoch: 203 Loss: 0.05, Loss_test: 0.01\n",
      "Epoch: 204 Loss: 0.01, Loss_test: 0.01\n",
      "Epoch: 205 Loss: 0.11, Loss_test: 0.01\n",
      "Epoch: 206 Loss: 0.01, Loss_test: 0.01\n",
      "Epoch: 207 Loss: 0.02, Loss_test: 0.01\n",
      "Epoch: 208 Loss: 0.04, Loss_test: 0.02\n",
      "Epoch: 209 Loss: 0.02, Loss_test: 0.02\n",
      "=> result saved!\n",
      "Epoch: 210 Loss: 0.04, Loss_test: 0.02\n",
      "Epoch: 211 Loss: 0.05, Loss_test: 0.02\n",
      "Epoch: 212 Loss: 0.03, Loss_test: 0.02\n",
      "Epoch: 213 Loss: 0.04, Loss_test: 0.02\n",
      "Epoch: 214 Loss: 0.01, Loss_test: 0.01\n",
      "Epoch: 215 Loss: 0.02, Loss_test: 0.01\n",
      "Epoch: 216 Loss: 0.02, Loss_test: 0.01\n",
      "Epoch: 217 Loss: 0.03, Loss_test: 0.01\n",
      "Epoch: 218 Loss: 0.04, Loss_test: 0.02\n",
      "Epoch: 219 Loss: 0.02, Loss_test: 0.01\n",
      "=> result saved!\n",
      "Epoch: 220 Loss: 0.02, Loss_test: 0.01\n",
      "Epoch: 221 Loss: 0.02, Loss_test: 0.02\n",
      "Epoch: 222 Loss: 0.02, Loss_test: 0.02\n",
      "Epoch: 223 Loss: 0.02, Loss_test: 0.01\n",
      "Epoch: 224 Loss: 0.02, Loss_test: 0.02\n",
      "Epoch: 225 Loss: 0.03, Loss_test: 0.01\n",
      "Epoch: 226 Loss: 0.03, Loss_test: 0.01\n",
      "Epoch: 227 Loss: 0.01, Loss_test: 0.01\n",
      "Epoch: 228 Loss: 0.04, Loss_test: 0.01\n",
      "Epoch: 229 Loss: 0.05, Loss_test: 0.01\n",
      "=> result saved!\n",
      "Epoch: 230 Loss: 0.02, Loss_test: 0.01\n",
      "Epoch: 231 Loss: 0.03, Loss_test: 0.01\n",
      "Epoch: 232 Loss: 0.02, Loss_test: 0.01\n",
      "Epoch: 233 Loss: 0.04, Loss_test: 0.01\n",
      "Epoch: 234 Loss: 0.01, Loss_test: 0.01\n",
      "Epoch: 235 Loss: 0.02, Loss_test: 0.01\n",
      "Epoch: 236 Loss: 0.08, Loss_test: 0.01\n",
      "Epoch: 237 Loss: 0.02, Loss_test: 0.01\n",
      "Epoch: 238 Loss: 0.02, Loss_test: 0.01\n",
      "Epoch: 239 Loss: 0.01, Loss_test: 0.01\n",
      "=> result saved!\n",
      "Epoch: 240 Loss: 0.02, Loss_test: 0.01\n",
      "Epoch: 241 Loss: 0.02, Loss_test: 0.01\n",
      "Epoch: 242 Loss: 0.02, Loss_test: 0.01\n",
      "Epoch: 243 Loss: 0.03, Loss_test: 0.01\n",
      "Epoch: 244 Loss: 0.02, Loss_test: 0.01\n",
      "Epoch: 245 Loss: 0.04, Loss_test: 0.01\n",
      "Epoch: 246 Loss: 0.01, Loss_test: 0.01\n",
      "Epoch: 247 Loss: 0.03, Loss_test: 0.01\n",
      "Epoch: 248 Loss: 0.02, Loss_test: 0.01\n",
      "Epoch: 249 Loss: 0.01, Loss_test: 0.01\n",
      "=> result saved!\n",
      "Epoch: 250 Loss: 0.02, Loss_test: 0.01\n",
      "Epoch: 251 Loss: 0.02, Loss_test: 0.01\n",
      "Epoch: 252 Loss: 0.02, Loss_test: 0.01\n",
      "Epoch: 253 Loss: 0.02, Loss_test: 0.01\n",
      "Epoch: 254 Loss: 0.01, Loss_test: 0.01\n",
      "Epoch: 255 Loss: 0.01, Loss_test: 0.01\n",
      "Epoch: 256 Loss: 0.02, Loss_test: 0.01\n",
      "Epoch: 257 Loss: 0.01, Loss_test: 0.01\n",
      "Epoch: 258 Loss: 0.08, Loss_test: 0.01\n",
      "Epoch: 259 Loss: 0.02, Loss_test: 0.01\n",
      "=> result saved!\n",
      "Epoch: 260 Loss: 0.02, Loss_test: 0.01\n",
      "Epoch: 261 Loss: 0.02, Loss_test: 0.01\n",
      "Epoch: 262 Loss: 0.02, Loss_test: 0.01\n",
      "Epoch: 263 Loss: 0.02, Loss_test: 0.01\n",
      "Epoch: 264 Loss: 0.01, Loss_test: 0.01\n",
      "Epoch: 265 Loss: 0.03, Loss_test: 0.01\n",
      "Epoch: 266 Loss: 0.01, Loss_test: 0.01\n",
      "Epoch: 267 Loss: 0.02, Loss_test: 0.01\n",
      "Epoch: 268 Loss: 0.02, Loss_test: 0.01\n",
      "Epoch: 269 Loss: 0.02, Loss_test: 0.01\n",
      "=> result saved!\n",
      "Epoch: 270 Loss: 0.03, Loss_test: 0.01\n",
      "Epoch: 271 Loss: 0.02, Loss_test: 0.01\n",
      "Epoch: 272 Loss: 0.04, Loss_test: 0.01\n",
      "Epoch: 273 Loss: 0.04, Loss_test: 0.01\n",
      "Epoch: 274 Loss: 0.05, Loss_test: 0.01\n",
      "Epoch: 275 Loss: 0.01, Loss_test: 0.01\n",
      "Epoch: 276 Loss: 0.01, Loss_test: 0.01\n",
      "Epoch: 277 Loss: 0.02, Loss_test: 0.01\n",
      "Epoch: 278 Loss: 0.02, Loss_test: 0.01\n",
      "Epoch: 279 Loss: 0.02, Loss_test: 0.01\n",
      "=> result saved!\n",
      "Epoch: 280 Loss: 0.02, Loss_test: 0.01\n",
      "Epoch: 281 Loss: 0.02, Loss_test: 0.01\n",
      "Epoch: 282 Loss: 0.01, Loss_test: 0.01\n",
      "Epoch: 283 Loss: 0.02, Loss_test: 0.01\n",
      "Epoch: 284 Loss: 0.03, Loss_test: 0.01\n",
      "Epoch: 285 Loss: 0.00, Loss_test: 0.01\n",
      "Epoch: 286 Loss: 0.08, Loss_test: 0.01\n",
      "Epoch: 287 Loss: 0.01, Loss_test: 0.01\n",
      "Epoch: 288 Loss: 0.02, Loss_test: 0.01\n",
      "Epoch: 289 Loss: 0.01, Loss_test: 0.01\n",
      "=> result saved!\n",
      "Epoch: 290 Loss: 0.02, Loss_test: 0.01\n",
      "Epoch: 291 Loss: 0.02, Loss_test: 0.01\n",
      "Epoch: 292 Loss: 0.02, Loss_test: 0.01\n",
      "Epoch: 293 Loss: 0.03, Loss_test: 0.01\n",
      "Epoch: 294 Loss: 0.03, Loss_test: 0.01\n",
      "Epoch: 295 Loss: 0.02, Loss_test: 0.01\n",
      "Epoch: 296 Loss: 0.02, Loss_test: 0.01\n",
      "Epoch: 297 Loss: 0.01, Loss_test: 0.01\n",
      "Epoch: 298 Loss: 0.02, Loss_test: 0.01\n",
      "Epoch: 299 Loss: 0.02, Loss_test: 0.01\n",
      "=> result saved!\n",
      "Epoch: 300 Loss: 0.01, Loss_test: 0.01\n",
      "Epoch: 301 Loss: 0.02, Loss_test: 0.01\n",
      "Epoch: 302 Loss: 0.01, Loss_test: 0.01\n"
     ]
    },
    {
     "name": "stdout",
     "output_type": "stream",
     "text": [
      "Epoch: 303 Loss: 0.03, Loss_test: 0.01\n",
      "Epoch: 304 Loss: 0.03, Loss_test: 0.01\n",
      "Epoch: 305 Loss: 0.03, Loss_test: 0.01\n",
      "Epoch: 306 Loss: 0.01, Loss_test: 0.01\n",
      "Epoch: 307 Loss: 0.01, Loss_test: 0.01\n",
      "Epoch: 308 Loss: 0.01, Loss_test: 0.01\n",
      "Epoch: 309 Loss: 0.02, Loss_test: 0.01\n",
      "=> result saved!\n",
      "Epoch: 310 Loss: 0.02, Loss_test: 0.01\n",
      "Epoch: 311 Loss: 0.01, Loss_test: 0.01\n",
      "Epoch: 312 Loss: 0.01, Loss_test: 0.01\n",
      "Epoch: 313 Loss: 0.03, Loss_test: 0.01\n",
      "Epoch: 314 Loss: 0.01, Loss_test: 0.01\n",
      "Epoch: 315 Loss: 0.01, Loss_test: 0.01\n",
      "Epoch: 316 Loss: 0.01, Loss_test: 0.01\n",
      "Epoch: 317 Loss: 0.01, Loss_test: 0.01\n",
      "Epoch: 318 Loss: 0.01, Loss_test: 0.01\n",
      "Epoch: 319 Loss: 0.02, Loss_test: 0.01\n",
      "=> result saved!\n",
      "Epoch: 320 Loss: 0.01, Loss_test: 0.01\n",
      "Epoch: 321 Loss: 0.02, Loss_test: 0.01\n",
      "Epoch: 322 Loss: 0.01, Loss_test: 0.01\n",
      "Epoch: 323 Loss: 0.02, Loss_test: 0.01\n",
      "Epoch: 324 Loss: 0.01, Loss_test: 0.01\n",
      "Epoch: 325 Loss: 0.01, Loss_test: 0.01\n",
      "Epoch: 326 Loss: 0.03, Loss_test: 0.01\n",
      "Epoch: 327 Loss: 0.01, Loss_test: 0.01\n",
      "Epoch: 328 Loss: 0.06, Loss_test: 0.01\n",
      "Epoch: 329 Loss: 0.01, Loss_test: 0.01\n",
      "=> result saved!\n",
      "Epoch: 330 Loss: 0.01, Loss_test: 0.01\n",
      "Epoch: 331 Loss: 0.01, Loss_test: 0.01\n",
      "Epoch: 332 Loss: 0.02, Loss_test: 0.01\n",
      "Epoch: 333 Loss: 0.02, Loss_test: 0.01\n",
      "Epoch: 334 Loss: 0.01, Loss_test: 0.01\n",
      "Epoch: 335 Loss: 0.03, Loss_test: 0.01\n",
      "Epoch: 336 Loss: 0.04, Loss_test: 0.01\n",
      "Epoch: 337 Loss: 0.02, Loss_test: 0.01\n",
      "Epoch: 338 Loss: 0.03, Loss_test: 0.01\n",
      "Epoch: 339 Loss: 0.01, Loss_test: 0.01\n",
      "=> result saved!\n",
      "Epoch: 340 Loss: 0.02, Loss_test: 0.01\n",
      "Epoch: 341 Loss: 0.02, Loss_test: 0.01\n",
      "Epoch: 342 Loss: 0.01, Loss_test: 0.01\n",
      "Epoch: 343 Loss: 0.01, Loss_test: 0.01\n",
      "Epoch: 344 Loss: 0.03, Loss_test: 0.01\n",
      "Epoch: 345 Loss: 0.02, Loss_test: 0.01\n",
      "Epoch: 346 Loss: 0.02, Loss_test: 0.01\n",
      "Epoch: 347 Loss: 0.01, Loss_test: 0.01\n",
      "Epoch: 348 Loss: 0.02, Loss_test: 0.01\n",
      "Epoch: 349 Loss: 0.01, Loss_test: 0.01\n",
      "=> result saved!\n",
      "Epoch: 350 Loss: 0.01, Loss_test: 0.01\n",
      "Epoch: 351 Loss: 0.02, Loss_test: 0.01\n",
      "Epoch: 352 Loss: 0.03, Loss_test: 0.01\n",
      "Epoch: 353 Loss: 0.01, Loss_test: 0.01\n",
      "Epoch: 354 Loss: 0.02, Loss_test: 0.01\n",
      "Epoch: 355 Loss: 0.02, Loss_test: 0.01\n",
      "Epoch: 356 Loss: 0.01, Loss_test: 0.01\n",
      "Epoch: 357 Loss: 0.01, Loss_test: 0.01\n",
      "Epoch: 358 Loss: 0.02, Loss_test: 0.01\n",
      "Epoch: 359 Loss: 0.01, Loss_test: 0.01\n",
      "=> result saved!\n",
      "Epoch: 360 Loss: 0.01, Loss_test: 0.01\n",
      "Epoch: 361 Loss: 0.03, Loss_test: 0.01\n",
      "Epoch: 362 Loss: 0.01, Loss_test: 0.01\n",
      "Epoch: 363 Loss: 0.02, Loss_test: 0.01\n",
      "Epoch: 364 Loss: 0.02, Loss_test: 0.01\n",
      "Epoch: 365 Loss: 0.01, Loss_test: 0.01\n",
      "Epoch: 366 Loss: 0.01, Loss_test: 0.01\n",
      "Epoch: 367 Loss: 0.01, Loss_test: 0.01\n",
      "Epoch: 368 Loss: 0.02, Loss_test: 0.01\n",
      "Epoch: 369 Loss: 0.02, Loss_test: 0.01\n",
      "=> result saved!\n",
      "Epoch: 370 Loss: 0.01, Loss_test: 0.01\n",
      "Epoch: 371 Loss: 0.01, Loss_test: 0.01\n",
      "Epoch: 372 Loss: 0.01, Loss_test: 0.01\n",
      "Epoch: 373 Loss: 0.01, Loss_test: 0.01\n",
      "Epoch: 374 Loss: 0.01, Loss_test: 0.01\n",
      "Epoch: 375 Loss: 0.02, Loss_test: 0.01\n",
      "Epoch: 376 Loss: 0.01, Loss_test: 0.01\n",
      "Epoch: 377 Loss: 0.01, Loss_test: 0.01\n",
      "Epoch: 378 Loss: 0.01, Loss_test: 0.01\n",
      "Epoch: 379 Loss: 0.01, Loss_test: 0.01\n",
      "=> result saved!\n",
      "Epoch: 380 Loss: 0.01, Loss_test: 0.01\n",
      "Epoch: 381 Loss: 0.01, Loss_test: 0.01\n",
      "Epoch: 382 Loss: 0.01, Loss_test: 0.01\n",
      "Epoch: 383 Loss: 0.01, Loss_test: 0.01\n",
      "Epoch: 384 Loss: 0.02, Loss_test: 0.01\n",
      "Epoch: 385 Loss: 0.01, Loss_test: 0.01\n",
      "Epoch: 386 Loss: 0.02, Loss_test: 0.01\n",
      "Epoch: 387 Loss: 0.01, Loss_test: 0.01\n",
      "Epoch: 388 Loss: 0.01, Loss_test: 0.01\n",
      "Epoch: 389 Loss: 0.02, Loss_test: 0.01\n",
      "=> result saved!\n",
      "Epoch: 390 Loss: 0.02, Loss_test: 0.01\n",
      "Epoch: 391 Loss: 0.01, Loss_test: 0.01\n",
      "Epoch: 392 Loss: 0.02, Loss_test: 0.01\n",
      "Epoch: 393 Loss: 0.02, Loss_test: 0.01\n",
      "Epoch: 394 Loss: 0.01, Loss_test: 0.01\n",
      "Epoch: 395 Loss: 0.01, Loss_test: 0.01\n",
      "Epoch: 396 Loss: 0.01, Loss_test: 0.01\n",
      "Epoch: 397 Loss: 0.03, Loss_test: 0.01\n",
      "Epoch: 398 Loss: 0.01, Loss_test: 0.01\n",
      "Epoch: 399 Loss: 0.01, Loss_test: 0.01\n",
      "=> result saved!\n",
      "Epoch: 400 Loss: 0.01, Loss_test: 0.01\n",
      "Epoch: 401 Loss: 0.00, Loss_test: 0.01\n",
      "Epoch: 402 Loss: 0.01, Loss_test: 0.01\n",
      "Epoch: 403 Loss: 0.01, Loss_test: 0.01\n",
      "Epoch: 404 Loss: 0.02, Loss_test: 0.01\n",
      "Epoch: 405 Loss: 0.02, Loss_test: 0.01\n",
      "Epoch: 406 Loss: 0.01, Loss_test: 0.01\n",
      "Epoch: 407 Loss: 0.01, Loss_test: 0.01\n",
      "Epoch: 408 Loss: 0.02, Loss_test: 0.01\n",
      "Epoch: 409 Loss: 0.01, Loss_test: 0.01\n",
      "=> result saved!\n",
      "Epoch: 410 Loss: 0.03, Loss_test: 0.00\n",
      "Epoch: 411 Loss: 0.01, Loss_test: 0.00\n",
      "Epoch: 412 Loss: 0.01, Loss_test: 0.01\n",
      "Epoch: 413 Loss: 0.02, Loss_test: 0.00\n",
      "Epoch: 414 Loss: 0.02, Loss_test: 0.00\n",
      "Epoch: 415 Loss: 0.02, Loss_test: 0.01\n",
      "Epoch: 416 Loss: 0.02, Loss_test: 0.01\n",
      "Epoch: 417 Loss: 0.01, Loss_test: 0.01\n",
      "Epoch: 418 Loss: 0.01, Loss_test: 0.01\n",
      "Epoch: 419 Loss: 0.02, Loss_test: 0.01\n",
      "=> result saved!\n",
      "Epoch: 420 Loss: 0.01, Loss_test: 0.01\n",
      "Epoch: 421 Loss: 0.01, Loss_test: 0.01\n",
      "Epoch: 422 Loss: 0.00, Loss_test: 0.01\n",
      "Epoch: 423 Loss: 0.02, Loss_test: 0.01\n",
      "Epoch: 424 Loss: 0.00, Loss_test: 0.01\n",
      "Epoch: 425 Loss: 0.01, Loss_test: 0.01\n",
      "Epoch: 426 Loss: 0.01, Loss_test: 0.00\n",
      "Epoch: 427 Loss: 0.02, Loss_test: 0.01\n",
      "Epoch: 428 Loss: 0.03, Loss_test: 0.01\n",
      "Epoch: 429 Loss: 0.01, Loss_test: 0.01\n",
      "=> result saved!\n",
      "Epoch: 430 Loss: 0.01, Loss_test: 0.01\n",
      "Epoch: 431 Loss: 0.01, Loss_test: 0.01\n",
      "Epoch: 432 Loss: 0.01, Loss_test: 0.01\n",
      "Epoch: 433 Loss: 0.00, Loss_test: 0.01\n",
      "Epoch: 434 Loss: 0.01, Loss_test: 0.01\n",
      "Epoch: 435 Loss: 0.00, Loss_test: 0.01\n",
      "Epoch: 436 Loss: 0.01, Loss_test: 0.01\n",
      "Epoch: 437 Loss: 0.01, Loss_test: 0.01\n",
      "Epoch: 438 Loss: 0.01, Loss_test: 0.01\n",
      "Epoch: 439 Loss: 0.02, Loss_test: 0.01\n",
      "=> result saved!\n",
      "Epoch: 440 Loss: 0.02, Loss_test: 0.00\n",
      "Epoch: 441 Loss: 0.01, Loss_test: 0.01\n",
      "Epoch: 442 Loss: 0.01, Loss_test: 0.01\n",
      "Epoch: 443 Loss: 0.01, Loss_test: 0.01\n",
      "Epoch: 444 Loss: 0.01, Loss_test: 0.00\n",
      "Epoch: 445 Loss: 0.01, Loss_test: 0.01\n",
      "Epoch: 446 Loss: 0.01, Loss_test: 0.01\n",
      "Epoch: 447 Loss: 0.02, Loss_test: 0.01\n",
      "Epoch: 448 Loss: 0.01, Loss_test: 0.01\n",
      "Epoch: 449 Loss: 0.01, Loss_test: 0.00\n",
      "=> result saved!\n",
      "Epoch: 450 Loss: 0.01, Loss_test: 0.01\n",
      "Epoch: 451 Loss: 0.01, Loss_test: 0.01\n",
      "Epoch: 452 Loss: 0.03, Loss_test: 0.01\n",
      "Epoch: 453 Loss: 0.01, Loss_test: 0.01\n",
      "Epoch: 454 Loss: 0.01, Loss_test: 0.01\n",
      "Epoch: 455 Loss: 0.01, Loss_test: 0.01\n",
      "Epoch: 456 Loss: 0.01, Loss_test: 0.01\n",
      "Epoch: 457 Loss: 0.01, Loss_test: 0.01\n",
      "Epoch: 458 Loss: 0.01, Loss_test: 0.01\n",
      "Epoch: 459 Loss: 0.02, Loss_test: 0.01\n",
      "=> result saved!\n",
      "Epoch: 460 Loss: 0.02, Loss_test: 0.01\n",
      "Epoch: 461 Loss: 0.01, Loss_test: 0.01\n",
      "Epoch: 462 Loss: 0.02, Loss_test: 0.01\n",
      "Epoch: 463 Loss: 0.01, Loss_test: 0.01\n",
      "Epoch: 464 Loss: 0.01, Loss_test: 0.01\n",
      "Epoch: 465 Loss: 0.01, Loss_test: 0.01\n",
      "Epoch: 466 Loss: 0.01, Loss_test: 0.01\n",
      "Epoch: 467 Loss: 0.01, Loss_test: 0.01\n",
      "Epoch: 468 Loss: 0.00, Loss_test: 0.01\n",
      "Epoch: 469 Loss: 0.02, Loss_test: 0.00\n",
      "=> result saved!\n",
      "Epoch: 470 Loss: 0.02, Loss_test: 0.00\n",
      "Epoch: 471 Loss: 0.02, Loss_test: 0.00\n",
      "Epoch: 472 Loss: 0.03, Loss_test: 0.00\n",
      "Epoch: 473 Loss: 0.01, Loss_test: 0.01\n",
      "Epoch: 474 Loss: 0.01, Loss_test: 0.00\n",
      "Epoch: 475 Loss: 0.01, Loss_test: 0.01\n",
      "Epoch: 476 Loss: 0.02, Loss_test: 0.00\n",
      "Epoch: 477 Loss: 0.03, Loss_test: 0.01\n",
      "Epoch: 478 Loss: 0.02, Loss_test: 0.00\n",
      "Epoch: 479 Loss: 0.01, Loss_test: 0.00\n",
      "=> result saved!\n",
      "Epoch: 480 Loss: 0.01, Loss_test: 0.00\n",
      "Epoch: 481 Loss: 0.01, Loss_test: 0.00\n",
      "Epoch: 482 Loss: 0.02, Loss_test: 0.00\n",
      "Epoch: 483 Loss: 0.03, Loss_test: 0.01\n",
      "Epoch: 484 Loss: 0.01, Loss_test: 0.01\n",
      "Epoch: 485 Loss: 0.02, Loss_test: 0.01\n",
      "Epoch: 486 Loss: 0.01, Loss_test: 0.01\n",
      "Epoch: 487 Loss: 0.01, Loss_test: 0.00\n",
      "Epoch: 488 Loss: 0.01, Loss_test: 0.00\n",
      "Epoch: 489 Loss: 0.01, Loss_test: 0.01\n",
      "=> result saved!\n",
      "Epoch: 490 Loss: 0.01, Loss_test: 0.01\n",
      "Epoch: 491 Loss: 0.01, Loss_test: 0.01\n",
      "Epoch: 492 Loss: 0.01, Loss_test: 0.01\n",
      "Epoch: 493 Loss: 0.02, Loss_test: 0.00\n",
      "Epoch: 494 Loss: 0.01, Loss_test: 0.01\n",
      "Epoch: 495 Loss: 0.02, Loss_test: 0.00\n",
      "Epoch: 496 Loss: 0.01, Loss_test: 0.00\n",
      "Epoch: 497 Loss: 0.02, Loss_test: 0.00\n",
      "Epoch: 498 Loss: 0.02, Loss_test: 0.00\n",
      "Epoch: 499 Loss: 0.01, Loss_test: 0.00\n",
      "=> result saved!\n",
      "Epoch: 500 Loss: 0.02, Loss_test: 0.00\n",
      "Epoch: 501 Loss: 0.01, Loss_test: 0.00\n",
      "Epoch: 502 Loss: 0.01, Loss_test: 0.00\n",
      "Epoch: 503 Loss: 0.02, Loss_test: 0.00\n",
      "Epoch: 504 Loss: 0.02, Loss_test: 0.00\n"
     ]
    },
    {
     "name": "stdout",
     "output_type": "stream",
     "text": [
      "Epoch: 505 Loss: 0.02, Loss_test: 0.00\n",
      "Epoch: 506 Loss: 0.01, Loss_test: 0.00\n",
      "Epoch: 507 Loss: 0.01, Loss_test: 0.00\n",
      "Epoch: 508 Loss: 0.02, Loss_test: 0.00\n",
      "Epoch: 509 Loss: 0.01, Loss_test: 0.00\n",
      "=> result saved!\n",
      "Epoch: 510 Loss: 0.01, Loss_test: 0.00\n",
      "Epoch: 511 Loss: 0.01, Loss_test: 0.00\n",
      "Epoch: 512 Loss: 0.00, Loss_test: 0.00\n",
      "Epoch: 513 Loss: 0.01, Loss_test: 0.00\n",
      "Epoch: 514 Loss: 0.02, Loss_test: 0.00\n",
      "Epoch: 515 Loss: 0.01, Loss_test: 0.00\n",
      "Epoch: 516 Loss: 0.02, Loss_test: 0.00\n",
      "Epoch: 517 Loss: 0.01, Loss_test: 0.00\n",
      "Epoch: 518 Loss: 0.00, Loss_test: 0.00\n",
      "Epoch: 519 Loss: 0.01, Loss_test: 0.00\n",
      "=> result saved!\n",
      "Epoch: 520 Loss: 0.00, Loss_test: 0.00\n",
      "Epoch: 521 Loss: 0.01, Loss_test: 0.00\n",
      "Epoch: 522 Loss: 0.01, Loss_test: 0.00\n",
      "Epoch: 523 Loss: 0.01, Loss_test: 0.00\n",
      "Epoch: 524 Loss: 0.01, Loss_test: 0.00\n",
      "Epoch: 525 Loss: 0.02, Loss_test: 0.00\n",
      "Epoch: 526 Loss: 0.00, Loss_test: 0.00\n",
      "Epoch: 527 Loss: 0.01, Loss_test: 0.00\n",
      "Epoch: 528 Loss: 0.02, Loss_test: 0.00\n",
      "Epoch: 529 Loss: 0.00, Loss_test: 0.01\n",
      "=> result saved!\n",
      "Epoch: 530 Loss: 0.01, Loss_test: 0.01\n",
      "Epoch: 531 Loss: 0.01, Loss_test: 0.00\n",
      "Epoch: 532 Loss: 0.00, Loss_test: 0.00\n",
      "Epoch: 533 Loss: 0.01, Loss_test: 0.00\n",
      "Epoch: 534 Loss: 0.01, Loss_test: 0.00\n",
      "Epoch: 535 Loss: 0.01, Loss_test: 0.00\n",
      "Epoch: 536 Loss: 0.01, Loss_test: 0.00\n",
      "Epoch: 537 Loss: 0.01, Loss_test: 0.00\n",
      "Epoch: 538 Loss: 0.01, Loss_test: 0.00\n",
      "Epoch: 539 Loss: 0.01, Loss_test: 0.00\n",
      "=> result saved!\n",
      "Epoch: 540 Loss: 0.02, Loss_test: 0.00\n",
      "Epoch: 541 Loss: 0.02, Loss_test: 0.00\n",
      "Epoch: 542 Loss: 0.01, Loss_test: 0.00\n",
      "Epoch: 543 Loss: 0.00, Loss_test: 0.00\n",
      "Epoch: 544 Loss: 0.01, Loss_test: 0.00\n",
      "Epoch: 545 Loss: 0.01, Loss_test: 0.00\n",
      "Epoch: 546 Loss: 0.00, Loss_test: 0.00\n",
      "Epoch: 547 Loss: 0.01, Loss_test: 0.00\n",
      "Epoch: 548 Loss: 0.01, Loss_test: 0.00\n",
      "Epoch: 549 Loss: 0.02, Loss_test: 0.00\n",
      "=> result saved!\n",
      "Epoch: 550 Loss: 0.01, Loss_test: 0.00\n",
      "Epoch: 551 Loss: 0.01, Loss_test: 0.00\n",
      "Epoch: 552 Loss: 0.02, Loss_test: 0.00\n",
      "Epoch: 553 Loss: 0.00, Loss_test: 0.00\n",
      "Epoch: 554 Loss: 0.01, Loss_test: 0.00\n",
      "Epoch: 555 Loss: 0.01, Loss_test: 0.00\n",
      "Epoch: 556 Loss: 0.01, Loss_test: 0.00\n",
      "Epoch: 557 Loss: 0.01, Loss_test: 0.00\n",
      "Epoch: 558 Loss: 0.01, Loss_test: 0.00\n",
      "Epoch: 559 Loss: 0.02, Loss_test: 0.00\n",
      "=> result saved!\n",
      "Epoch: 560 Loss: 0.01, Loss_test: 0.00\n",
      "Epoch: 561 Loss: 0.01, Loss_test: 0.00\n",
      "Epoch: 562 Loss: 0.02, Loss_test: 0.00\n",
      "Epoch: 563 Loss: 0.02, Loss_test: 0.00\n",
      "Epoch: 564 Loss: 0.01, Loss_test: 0.00\n",
      "Epoch: 565 Loss: 0.01, Loss_test: 0.00\n",
      "Epoch: 566 Loss: 0.01, Loss_test: 0.00\n",
      "Epoch: 567 Loss: 0.01, Loss_test: 0.00\n",
      "Epoch: 568 Loss: 0.01, Loss_test: 0.00\n",
      "Epoch: 569 Loss: 0.01, Loss_test: 0.00\n",
      "=> result saved!\n",
      "Epoch: 570 Loss: 0.01, Loss_test: 0.00\n",
      "Epoch: 571 Loss: 0.00, Loss_test: 0.00\n",
      "Epoch: 572 Loss: 0.02, Loss_test: 0.00\n",
      "Epoch: 573 Loss: 0.01, Loss_test: 0.00\n",
      "Epoch: 574 Loss: 0.01, Loss_test: 0.00\n",
      "Epoch: 575 Loss: 0.01, Loss_test: 0.00\n",
      "Epoch: 576 Loss: 0.00, Loss_test: 0.00\n",
      "Epoch: 577 Loss: 0.01, Loss_test: 0.00\n",
      "Epoch: 578 Loss: 0.01, Loss_test: 0.00\n",
      "Epoch: 579 Loss: 0.01, Loss_test: 0.00\n",
      "=> result saved!\n",
      "Epoch: 580 Loss: 0.01, Loss_test: 0.00\n",
      "Epoch: 581 Loss: 0.00, Loss_test: 0.00\n",
      "Epoch: 582 Loss: 0.01, Loss_test: 0.00\n",
      "Epoch: 583 Loss: 0.01, Loss_test: 0.00\n",
      "Epoch: 584 Loss: 0.02, Loss_test: 0.00\n",
      "Epoch: 585 Loss: 0.01, Loss_test: 0.00\n",
      "Epoch: 586 Loss: 0.02, Loss_test: 0.00\n",
      "Epoch: 587 Loss: 0.01, Loss_test: 0.00\n",
      "Epoch: 588 Loss: 0.01, Loss_test: 0.00\n",
      "Epoch: 589 Loss: 0.01, Loss_test: 0.00\n",
      "=> result saved!\n",
      "Epoch: 590 Loss: 0.01, Loss_test: 0.00\n",
      "Epoch: 591 Loss: 0.01, Loss_test: 0.00\n",
      "Epoch: 592 Loss: 0.01, Loss_test: 0.00\n",
      "Epoch: 593 Loss: 0.00, Loss_test: 0.00\n",
      "Epoch: 594 Loss: 0.01, Loss_test: 0.00\n",
      "Epoch: 595 Loss: 0.01, Loss_test: 0.00\n",
      "Epoch: 596 Loss: 0.01, Loss_test: 0.00\n",
      "Epoch: 597 Loss: 0.00, Loss_test: 0.00\n",
      "Epoch: 598 Loss: 0.01, Loss_test: 0.00\n",
      "Epoch: 599 Loss: 0.01, Loss_test: 0.00\n",
      "=> result saved!\n",
      "Epoch: 600 Loss: 0.01, Loss_test: 0.00\n",
      "Epoch: 601 Loss: 0.01, Loss_test: 0.00\n",
      "Epoch: 602 Loss: 0.01, Loss_test: 0.00\n",
      "Epoch: 603 Loss: 0.01, Loss_test: 0.00\n",
      "Epoch: 604 Loss: 0.01, Loss_test: 0.00\n",
      "Epoch: 605 Loss: 0.01, Loss_test: 0.00\n",
      "Epoch: 606 Loss: 0.01, Loss_test: 0.00\n",
      "Epoch: 607 Loss: 0.01, Loss_test: 0.00\n",
      "Epoch: 608 Loss: 0.01, Loss_test: 0.00\n",
      "Epoch: 609 Loss: 0.01, Loss_test: 0.00\n",
      "=> result saved!\n",
      "Epoch: 610 Loss: 0.01, Loss_test: 0.00\n",
      "Epoch: 611 Loss: 0.02, Loss_test: 0.00\n",
      "Epoch: 612 Loss: 0.01, Loss_test: 0.00\n",
      "Epoch: 613 Loss: 0.00, Loss_test: 0.00\n",
      "Epoch: 614 Loss: 0.01, Loss_test: 0.00\n",
      "Epoch: 615 Loss: 0.01, Loss_test: 0.00\n",
      "Epoch: 616 Loss: 0.01, Loss_test: 0.00\n",
      "Epoch: 617 Loss: 0.01, Loss_test: 0.00\n",
      "Epoch: 618 Loss: 0.01, Loss_test: 0.00\n",
      "Epoch: 619 Loss: 0.01, Loss_test: 0.00\n",
      "=> result saved!\n",
      "Epoch: 620 Loss: 0.02, Loss_test: 0.00\n",
      "Epoch: 621 Loss: 0.00, Loss_test: 0.00\n",
      "Epoch: 622 Loss: 0.01, Loss_test: 0.00\n",
      "Epoch: 623 Loss: 0.02, Loss_test: 0.00\n",
      "Epoch: 624 Loss: 0.00, Loss_test: 0.00\n",
      "Epoch: 625 Loss: 0.01, Loss_test: 0.00\n",
      "Epoch: 626 Loss: 0.02, Loss_test: 0.00\n",
      "Epoch: 627 Loss: 0.01, Loss_test: 0.00\n",
      "Epoch: 628 Loss: 0.01, Loss_test: 0.00\n",
      "Epoch: 629 Loss: 0.01, Loss_test: 0.00\n",
      "=> result saved!\n",
      "Epoch: 630 Loss: 0.01, Loss_test: 0.00\n",
      "Epoch: 631 Loss: 0.01, Loss_test: 0.00\n",
      "Epoch: 632 Loss: 0.01, Loss_test: 0.00\n",
      "Epoch: 633 Loss: 0.01, Loss_test: 0.00\n",
      "Epoch: 634 Loss: 0.01, Loss_test: 0.00\n",
      "Epoch: 635 Loss: 0.00, Loss_test: 0.00\n",
      "Epoch: 636 Loss: 0.01, Loss_test: 0.00\n",
      "Epoch: 637 Loss: 0.02, Loss_test: 0.00\n",
      "Epoch: 638 Loss: 0.01, Loss_test: 0.00\n",
      "Epoch: 639 Loss: 0.02, Loss_test: 0.00\n",
      "=> result saved!\n",
      "Epoch: 640 Loss: 0.01, Loss_test: 0.00\n",
      "Epoch: 641 Loss: 0.00, Loss_test: 0.00\n",
      "Epoch: 642 Loss: 0.01, Loss_test: 0.00\n",
      "Epoch: 643 Loss: 0.01, Loss_test: 0.00\n",
      "Epoch: 644 Loss: 0.01, Loss_test: 0.00\n",
      "Epoch: 645 Loss: 0.01, Loss_test: 0.00\n",
      "Epoch: 646 Loss: 0.00, Loss_test: 0.00\n",
      "Epoch: 647 Loss: 0.00, Loss_test: 0.00\n",
      "Epoch: 648 Loss: 0.01, Loss_test: 0.00\n",
      "Epoch: 649 Loss: 0.01, Loss_test: 0.00\n",
      "=> result saved!\n",
      "Epoch: 650 Loss: 0.01, Loss_test: 0.00\n",
      "Epoch: 651 Loss: 0.02, Loss_test: 0.00\n",
      "Epoch: 652 Loss: 0.01, Loss_test: 0.00\n",
      "Epoch: 653 Loss: 0.00, Loss_test: 0.00\n",
      "Epoch: 654 Loss: 0.01, Loss_test: 0.00\n",
      "Epoch: 655 Loss: 0.01, Loss_test: 0.00\n",
      "Epoch: 656 Loss: 0.01, Loss_test: 0.00\n",
      "Epoch: 657 Loss: 0.02, Loss_test: 0.00\n",
      "Epoch: 658 Loss: 0.01, Loss_test: 0.00\n",
      "Epoch: 659 Loss: 0.01, Loss_test: 0.00\n",
      "=> result saved!\n",
      "Epoch: 660 Loss: 0.00, Loss_test: 0.00\n",
      "Epoch: 661 Loss: 0.00, Loss_test: 0.00\n",
      "Epoch: 662 Loss: 0.02, Loss_test: 0.00\n",
      "Epoch: 663 Loss: 0.01, Loss_test: 0.00\n",
      "Epoch: 664 Loss: 0.02, Loss_test: 0.00\n",
      "Epoch: 665 Loss: 0.00, Loss_test: 0.00\n",
      "Epoch: 666 Loss: 0.02, Loss_test: 0.00\n",
      "Epoch: 667 Loss: 0.01, Loss_test: 0.00\n",
      "Epoch: 668 Loss: 0.02, Loss_test: 0.00\n",
      "Epoch: 669 Loss: 0.01, Loss_test: 0.00\n",
      "=> result saved!\n",
      "Epoch: 670 Loss: 0.01, Loss_test: 0.00\n",
      "Epoch: 671 Loss: 0.01, Loss_test: 0.00\n",
      "Epoch: 672 Loss: 0.02, Loss_test: 0.00\n",
      "Epoch: 673 Loss: 0.01, Loss_test: 0.00\n",
      "Epoch: 674 Loss: 0.01, Loss_test: 0.00\n",
      "Epoch: 675 Loss: 0.01, Loss_test: 0.00\n",
      "Epoch: 676 Loss: 0.01, Loss_test: 0.00\n",
      "Epoch: 677 Loss: 0.02, Loss_test: 0.00\n",
      "Epoch: 678 Loss: 0.01, Loss_test: 0.00\n",
      "Epoch: 679 Loss: 0.01, Loss_test: 0.00\n",
      "=> result saved!\n",
      "Epoch: 680 Loss: 0.01, Loss_test: 0.00\n",
      "Epoch: 681 Loss: 0.01, Loss_test: 0.00\n",
      "Epoch: 682 Loss: 0.01, Loss_test: 0.00\n",
      "Epoch: 683 Loss: 0.01, Loss_test: 0.00\n",
      "Epoch: 684 Loss: 0.01, Loss_test: 0.00\n",
      "Epoch: 685 Loss: 0.01, Loss_test: 0.00\n",
      "Epoch: 686 Loss: 0.01, Loss_test: 0.00\n",
      "Epoch: 687 Loss: 0.01, Loss_test: 0.00\n",
      "Epoch: 688 Loss: 0.01, Loss_test: 0.00\n",
      "Epoch: 689 Loss: 0.00, Loss_test: 0.00\n",
      "=> result saved!\n",
      "Epoch: 690 Loss: 0.01, Loss_test: 0.00\n",
      "Epoch: 691 Loss: 0.01, Loss_test: 0.00\n",
      "Epoch: 692 Loss: 0.01, Loss_test: 0.00\n",
      "Epoch: 693 Loss: 0.01, Loss_test: 0.00\n",
      "Epoch: 694 Loss: 0.02, Loss_test: 0.00\n",
      "Epoch: 695 Loss: 0.00, Loss_test: 0.00\n",
      "Epoch: 696 Loss: 0.01, Loss_test: 0.00\n",
      "Epoch: 697 Loss: 0.00, Loss_test: 0.00\n",
      "Epoch: 698 Loss: 0.01, Loss_test: 0.00\n",
      "Epoch: 699 Loss: 0.01, Loss_test: 0.00\n",
      "=> result saved!\n",
      "Epoch: 700 Loss: 0.01, Loss_test: 0.00\n",
      "Epoch: 701 Loss: 0.02, Loss_test: 0.00\n",
      "Epoch: 702 Loss: 0.01, Loss_test: 0.00\n",
      "Epoch: 703 Loss: 0.01, Loss_test: 0.00\n",
      "Epoch: 704 Loss: 0.01, Loss_test: 0.00\n",
      "Epoch: 705 Loss: 0.00, Loss_test: 0.00\n",
      "Epoch: 706 Loss: 0.01, Loss_test: 0.00\n"
     ]
    },
    {
     "name": "stdout",
     "output_type": "stream",
     "text": [
      "Epoch: 707 Loss: 0.00, Loss_test: 0.00\n",
      "Epoch: 708 Loss: 0.01, Loss_test: 0.00\n",
      "Epoch: 709 Loss: 0.01, Loss_test: 0.00\n",
      "=> result saved!\n",
      "Epoch: 710 Loss: 0.00, Loss_test: 0.00\n",
      "Epoch: 711 Loss: 0.01, Loss_test: 0.00\n",
      "Epoch: 712 Loss: 0.00, Loss_test: 0.00\n",
      "Epoch: 713 Loss: 0.01, Loss_test: 0.00\n",
      "Epoch: 714 Loss: 0.04, Loss_test: 0.00\n",
      "Epoch: 715 Loss: 0.01, Loss_test: 0.00\n",
      "Epoch: 716 Loss: 0.01, Loss_test: 0.00\n",
      "Epoch: 717 Loss: 0.01, Loss_test: 0.00\n",
      "Epoch: 718 Loss: 0.01, Loss_test: 0.00\n",
      "Epoch: 719 Loss: 0.01, Loss_test: 0.00\n",
      "=> result saved!\n",
      "Epoch: 720 Loss: 0.01, Loss_test: 0.00\n",
      "Epoch: 721 Loss: 0.01, Loss_test: 0.00\n",
      "Epoch: 722 Loss: 0.02, Loss_test: 0.00\n",
      "Epoch: 723 Loss: 0.00, Loss_test: 0.00\n",
      "Epoch: 724 Loss: 0.01, Loss_test: 0.00\n",
      "Epoch: 725 Loss: 0.00, Loss_test: 0.00\n",
      "Epoch: 726 Loss: 0.00, Loss_test: 0.00\n",
      "Epoch: 727 Loss: 0.01, Loss_test: 0.00\n",
      "Epoch: 728 Loss: 0.02, Loss_test: 0.00\n",
      "Epoch: 729 Loss: 0.01, Loss_test: 0.00\n",
      "=> result saved!\n",
      "Epoch: 730 Loss: 0.00, Loss_test: 0.00\n",
      "Epoch: 731 Loss: 0.01, Loss_test: 0.00\n",
      "Epoch: 732 Loss: 0.01, Loss_test: 0.00\n",
      "Epoch: 733 Loss: 0.00, Loss_test: 0.00\n",
      "Epoch: 734 Loss: 0.00, Loss_test: 0.00\n",
      "Epoch: 735 Loss: 0.01, Loss_test: 0.00\n",
      "Epoch: 736 Loss: 0.01, Loss_test: 0.00\n",
      "Epoch: 737 Loss: 0.01, Loss_test: 0.00\n",
      "Epoch: 738 Loss: 0.00, Loss_test: 0.00\n",
      "Epoch: 739 Loss: 0.01, Loss_test: 0.00\n",
      "=> result saved!\n",
      "Epoch: 740 Loss: 0.01, Loss_test: 0.00\n",
      "Epoch: 741 Loss: 0.00, Loss_test: 0.00\n",
      "Epoch: 742 Loss: 0.00, Loss_test: 0.00\n",
      "Epoch: 743 Loss: 0.01, Loss_test: 0.00\n",
      "Epoch: 744 Loss: 0.01, Loss_test: 0.00\n",
      "Epoch: 745 Loss: 0.01, Loss_test: 0.00\n",
      "Epoch: 746 Loss: 0.01, Loss_test: 0.00\n",
      "Epoch: 747 Loss: 0.01, Loss_test: 0.00\n",
      "Epoch: 748 Loss: 0.02, Loss_test: 0.00\n",
      "Epoch: 749 Loss: 0.01, Loss_test: 0.00\n",
      "=> result saved!\n",
      "Epoch: 750 Loss: 0.01, Loss_test: 0.00\n",
      "Epoch: 751 Loss: 0.01, Loss_test: 0.00\n",
      "Epoch: 752 Loss: 0.01, Loss_test: 0.00\n",
      "Epoch: 753 Loss: 0.00, Loss_test: 0.00\n",
      "Epoch: 754 Loss: 0.01, Loss_test: 0.00\n",
      "Epoch: 755 Loss: 0.01, Loss_test: 0.00\n",
      "Epoch: 756 Loss: 0.01, Loss_test: 0.00\n",
      "Epoch: 757 Loss: 0.02, Loss_test: 0.00\n",
      "Epoch: 758 Loss: 0.01, Loss_test: 0.00\n",
      "Epoch: 759 Loss: 0.02, Loss_test: 0.00\n",
      "=> result saved!\n",
      "Epoch: 760 Loss: 0.00, Loss_test: 0.00\n",
      "Epoch: 761 Loss: 0.00, Loss_test: 0.00\n",
      "Epoch: 762 Loss: 0.01, Loss_test: 0.00\n",
      "Epoch: 763 Loss: 0.01, Loss_test: 0.00\n",
      "Epoch: 764 Loss: 0.00, Loss_test: 0.00\n",
      "Epoch: 765 Loss: 0.01, Loss_test: 0.00\n",
      "Epoch: 766 Loss: 0.01, Loss_test: 0.00\n",
      "Epoch: 767 Loss: 0.01, Loss_test: 0.00\n",
      "Epoch: 768 Loss: 0.00, Loss_test: 0.00\n",
      "Epoch: 769 Loss: 0.00, Loss_test: 0.00\n",
      "=> result saved!\n",
      "Epoch: 770 Loss: 0.01, Loss_test: 0.00\n",
      "Epoch: 771 Loss: 0.01, Loss_test: 0.00\n",
      "Epoch: 772 Loss: 0.01, Loss_test: 0.00\n",
      "Epoch: 773 Loss: 0.01, Loss_test: 0.00\n",
      "Epoch: 774 Loss: 0.01, Loss_test: 0.00\n",
      "Epoch: 775 Loss: 0.00, Loss_test: 0.00\n",
      "Epoch: 776 Loss: 0.00, Loss_test: 0.00\n",
      "Epoch: 777 Loss: 0.01, Loss_test: 0.00\n",
      "Epoch: 778 Loss: 0.00, Loss_test: 0.00\n",
      "Epoch: 779 Loss: 0.00, Loss_test: 0.00\n",
      "=> result saved!\n",
      "Epoch: 780 Loss: 0.01, Loss_test: 0.00\n",
      "Epoch: 781 Loss: 0.02, Loss_test: 0.00\n",
      "Epoch: 782 Loss: 0.00, Loss_test: 0.00\n",
      "Epoch: 783 Loss: 0.00, Loss_test: 0.00\n",
      "Epoch: 784 Loss: 0.01, Loss_test: 0.00\n",
      "Epoch: 785 Loss: 0.01, Loss_test: 0.00\n",
      "Epoch: 786 Loss: 0.01, Loss_test: 0.00\n",
      "Epoch: 787 Loss: 0.01, Loss_test: 0.00\n",
      "Epoch: 788 Loss: 0.01, Loss_test: 0.00\n",
      "Epoch: 789 Loss: 0.02, Loss_test: 0.00\n",
      "=> result saved!\n",
      "Epoch: 790 Loss: 0.01, Loss_test: 0.00\n",
      "Epoch: 791 Loss: 0.01, Loss_test: 0.00\n",
      "Epoch: 792 Loss: 0.00, Loss_test: 0.00\n",
      "Epoch: 793 Loss: 0.00, Loss_test: 0.00\n",
      "Epoch: 794 Loss: 0.01, Loss_test: 0.00\n",
      "Epoch: 795 Loss: 0.01, Loss_test: 0.00\n",
      "Epoch: 796 Loss: 0.02, Loss_test: 0.00\n",
      "Epoch: 797 Loss: 0.01, Loss_test: 0.00\n",
      "Epoch: 798 Loss: 0.01, Loss_test: 0.00\n",
      "Epoch: 799 Loss: 0.01, Loss_test: 0.00\n",
      "=> result saved!\n",
      "Epoch: 800 Loss: 0.01, Loss_test: 0.00\n",
      "Epoch: 801 Loss: 0.01, Loss_test: 0.00\n",
      "Epoch: 802 Loss: 0.02, Loss_test: 0.00\n",
      "Epoch: 803 Loss: 0.01, Loss_test: 0.00\n",
      "Epoch: 804 Loss: 0.01, Loss_test: 0.00\n",
      "Epoch: 805 Loss: 0.00, Loss_test: 0.00\n",
      "Epoch: 806 Loss: 0.00, Loss_test: 0.00\n",
      "Epoch: 807 Loss: 0.01, Loss_test: 0.00\n",
      "Epoch: 808 Loss: 0.00, Loss_test: 0.00\n",
      "Epoch: 809 Loss: 0.00, Loss_test: 0.00\n",
      "=> result saved!\n",
      "Epoch: 810 Loss: 0.01, Loss_test: 0.00\n",
      "Epoch: 811 Loss: 0.02, Loss_test: 0.00\n",
      "Epoch: 812 Loss: 0.01, Loss_test: 0.00\n",
      "Epoch: 813 Loss: 0.01, Loss_test: 0.00\n",
      "Epoch: 814 Loss: 0.00, Loss_test: 0.00\n",
      "Epoch: 815 Loss: 0.01, Loss_test: 0.00\n",
      "Epoch: 816 Loss: 0.00, Loss_test: 0.00\n",
      "Epoch: 817 Loss: 0.00, Loss_test: 0.00\n",
      "Epoch: 818 Loss: 0.01, Loss_test: 0.00\n",
      "Epoch: 819 Loss: 0.01, Loss_test: 0.00\n",
      "=> result saved!\n",
      "Epoch: 820 Loss: 0.01, Loss_test: 0.00\n",
      "Epoch: 821 Loss: 0.00, Loss_test: 0.00\n",
      "Epoch: 822 Loss: 0.00, Loss_test: 0.00\n",
      "Epoch: 823 Loss: 0.00, Loss_test: 0.00\n",
      "Epoch: 824 Loss: 0.01, Loss_test: 0.00\n",
      "Epoch: 825 Loss: 0.01, Loss_test: 0.00\n",
      "Epoch: 826 Loss: 0.01, Loss_test: 0.00\n",
      "Epoch: 827 Loss: 0.01, Loss_test: 0.00\n",
      "Epoch: 828 Loss: 0.00, Loss_test: 0.00\n",
      "Epoch: 829 Loss: 0.00, Loss_test: 0.00\n",
      "=> result saved!\n",
      "Epoch: 830 Loss: 0.01, Loss_test: 0.00\n",
      "Epoch: 831 Loss: 0.02, Loss_test: 0.00\n",
      "Epoch: 832 Loss: 0.01, Loss_test: 0.00\n",
      "Epoch: 833 Loss: 0.00, Loss_test: 0.00\n",
      "Epoch: 834 Loss: 0.02, Loss_test: 0.00\n",
      "Epoch: 835 Loss: 0.01, Loss_test: 0.00\n",
      "Epoch: 836 Loss: 0.01, Loss_test: 0.00\n",
      "Epoch: 837 Loss: 0.00, Loss_test: 0.00\n",
      "Epoch: 838 Loss: 0.00, Loss_test: 0.00\n",
      "Epoch: 839 Loss: 0.00, Loss_test: 0.00\n",
      "=> result saved!\n",
      "Epoch: 840 Loss: 0.00, Loss_test: 0.00\n",
      "Epoch: 841 Loss: 0.01, Loss_test: 0.00\n",
      "Epoch: 842 Loss: 0.01, Loss_test: 0.00\n",
      "Epoch: 843 Loss: 0.00, Loss_test: 0.00\n",
      "Epoch: 844 Loss: 0.02, Loss_test: 0.00\n",
      "Epoch: 845 Loss: 0.00, Loss_test: 0.00\n",
      "Epoch: 846 Loss: 0.00, Loss_test: 0.00\n",
      "Epoch: 847 Loss: 0.00, Loss_test: 0.00\n",
      "Epoch: 848 Loss: 0.01, Loss_test: 0.00\n",
      "Epoch: 849 Loss: 0.00, Loss_test: 0.00\n",
      "=> result saved!\n",
      "Epoch: 850 Loss: 0.00, Loss_test: 0.00\n",
      "Epoch: 851 Loss: 0.00, Loss_test: 0.00\n",
      "Epoch: 852 Loss: 0.01, Loss_test: 0.00\n",
      "Epoch: 853 Loss: 0.00, Loss_test: 0.00\n",
      "Epoch: 854 Loss: 0.01, Loss_test: 0.00\n",
      "Epoch: 855 Loss: 0.00, Loss_test: 0.00\n",
      "Epoch: 856 Loss: 0.01, Loss_test: 0.00\n",
      "Epoch: 857 Loss: 0.00, Loss_test: 0.00\n",
      "Epoch: 858 Loss: 0.01, Loss_test: 0.00\n",
      "Epoch: 859 Loss: 0.01, Loss_test: 0.00\n",
      "=> result saved!\n",
      "Epoch: 860 Loss: 0.00, Loss_test: 0.00\n",
      "Epoch: 861 Loss: 0.01, Loss_test: 0.00\n",
      "Epoch: 862 Loss: 0.01, Loss_test: 0.00\n",
      "Epoch: 863 Loss: 0.00, Loss_test: 0.00\n",
      "Epoch: 864 Loss: 0.00, Loss_test: 0.00\n",
      "Epoch: 865 Loss: 0.00, Loss_test: 0.00\n",
      "Epoch: 866 Loss: 0.00, Loss_test: 0.00\n",
      "Epoch: 867 Loss: 0.00, Loss_test: 0.00\n",
      "Epoch: 868 Loss: 0.01, Loss_test: 0.00\n",
      "Epoch: 869 Loss: 0.00, Loss_test: 0.00\n",
      "=> result saved!\n",
      "Epoch: 870 Loss: 0.01, Loss_test: 0.00\n",
      "Epoch: 871 Loss: 0.01, Loss_test: 0.00\n",
      "Epoch: 872 Loss: 0.00, Loss_test: 0.00\n",
      "Epoch: 873 Loss: 0.01, Loss_test: 0.00\n",
      "Epoch: 874 Loss: 0.01, Loss_test: 0.00\n",
      "Epoch: 875 Loss: 0.01, Loss_test: 0.00\n",
      "Epoch: 876 Loss: 0.00, Loss_test: 0.00\n",
      "Epoch: 877 Loss: 0.00, Loss_test: 0.00\n",
      "Epoch: 878 Loss: 0.01, Loss_test: 0.00\n",
      "Epoch: 879 Loss: 0.00, Loss_test: 0.00\n",
      "=> result saved!\n",
      "Epoch: 880 Loss: 0.00, Loss_test: 0.00\n",
      "Epoch: 881 Loss: 0.01, Loss_test: 0.00\n",
      "Epoch: 882 Loss: 0.01, Loss_test: 0.00\n",
      "Epoch: 883 Loss: 0.01, Loss_test: 0.00\n",
      "Epoch: 884 Loss: 0.02, Loss_test: 0.00\n",
      "Epoch: 885 Loss: 0.01, Loss_test: 0.00\n",
      "Epoch: 886 Loss: 0.00, Loss_test: 0.00\n",
      "Epoch: 887 Loss: 0.01, Loss_test: 0.00\n",
      "Epoch: 888 Loss: 0.00, Loss_test: 0.00\n",
      "Epoch: 889 Loss: 0.01, Loss_test: 0.00\n",
      "=> result saved!\n",
      "Epoch: 890 Loss: 0.00, Loss_test: 0.00\n",
      "Epoch: 891 Loss: 0.00, Loss_test: 0.00\n",
      "Epoch: 892 Loss: 0.01, Loss_test: 0.00\n",
      "Epoch: 893 Loss: 0.00, Loss_test: 0.00\n",
      "Epoch: 894 Loss: 0.00, Loss_test: 0.00\n",
      "Epoch: 895 Loss: 0.01, Loss_test: 0.00\n",
      "Epoch: 896 Loss: 0.01, Loss_test: 0.00\n",
      "Epoch: 897 Loss: 0.01, Loss_test: 0.00\n",
      "Epoch: 898 Loss: 0.00, Loss_test: 0.00\n",
      "Epoch: 899 Loss: 0.01, Loss_test: 0.00\n",
      "=> result saved!\n",
      "Epoch: 900 Loss: 0.01, Loss_test: 0.00\n"
     ]
    }
   ],
   "source": [
    "end_train = epochs - limit_train\n",
    "for epoch in range(limit_train, end_train):\n",
    "    batch_triplet_train, \\\n",
    "        train_input_sample, train_sim = batch_iterator(baseline, retrieval, model, baseline.train_data, \n",
    "                                                       baseline.dup_sets_train, bug_train_ids, \n",
    "                                                           batch_size, 1, issues_by_buckets, TRIPLET_HARD=False)\n",
    "    train_batch = [train_input_sample['title']['token'], train_input_sample['title']['segment'], \n",
    "                   train_input_sample['description']['token'], train_input_sample['description']['segment'],\n",
    "                   train_input_sample['info'], train_sim]\n",
    "    \n",
    "\n",
    "    h = model.train_on_batch(x=train_batch, y=train_sim)\n",
    "    h_validation = model.test_on_batch(x=validation_sample, y=valid_sim)\n",
    "    \n",
    "    # save results\n",
    "    result['train'].append([h])\n",
    "    result['test'].append([h_validation])\n",
    "    \n",
    "    if( (epoch+1) % 10 == 0 or (epoch+1 == end_train )):\n",
    "        save_loss(result)\n",
    "    \n",
    "    print(\"Epoch: {} Loss: {:.2f}, Loss_test: {:.2f}\".format(epoch+1, h, h_validation))"
   ]
  },
  {
   "cell_type": "code",
   "execution_count": 47,
   "metadata": {},
   "outputs": [
    {
     "data": {
      "text/plain": [
       "(900, 900)"
      ]
     },
     "execution_count": 47,
     "metadata": {},
     "output_type": "execute_result"
    }
   ],
   "source": [
    "len(result['train']), len(result['test'])"
   ]
  },
  {
   "cell_type": "code",
   "execution_count": 48,
   "metadata": {},
   "outputs": [],
   "source": [
    "encoded = model.get_layer('merge_features_in')\n",
    "output = encoded.output\n",
    "inputs = similarity_model.inputs[:-1]\n",
    "encoded_anchor = Model(inputs = inputs, outputs = output, name = 'Similarity_Model')"
   ]
  },
  {
   "cell_type": "code",
   "execution_count": 49,
   "metadata": {},
   "outputs": [
    {
     "data": {
      "text/plain": [
       "'bert_preprocessing_deepTL_1000_feature1000epochs_64batch(openoffice)'"
      ]
     },
     "execution_count": 49,
     "metadata": {},
     "output_type": "execute_result"
    }
   ],
   "source": [
    "SAVE_PATH.replace('@number_of_epochs@', str(epochs))"
   ]
  },
  {
   "cell_type": "code",
   "execution_count": 50,
   "metadata": {},
   "outputs": [
    {
     "name": "stdout",
     "output_type": "stream",
     "text": [
      "Saved model 'modelos/model_bert_preprocessing_deepTL_1000_feature_1000epochs_64batch(openoffice).h5' to disk\n"
     ]
    },
    {
     "data": {
      "text/plain": [
       "'Model saved'"
      ]
     },
     "execution_count": 50,
     "metadata": {},
     "output_type": "execute_result"
    }
   ],
   "source": [
    "experiment.save_model(model, SAVE_PATH.replace('@number_of_epochs@', str(epochs)))\n",
    "experiment.save_model(encoded_anchor, SAVE_PATH_FEATURE.replace('@number_of_epochs@', str(epochs)), verbose=1)\n",
    "\"Model saved\""
   ]
  },
  {
   "cell_type": "code",
   "execution_count": 51,
   "metadata": {},
   "outputs": [
    {
     "data": {
      "application/vnd.jupyter.widget-view+json": {
       "model_id": "d8f09ed671794d58aacb3ffc9a7e5e5f",
       "version_major": 2,
       "version_minor": 0
      },
      "text/plain": [
       "HBox(children=(IntProgress(value=0, max=8265), HTML(value='')))"
      ]
     },
     "metadata": {},
     "output_type": "display_data"
    },
    {
     "name": "stdout",
     "output_type": "stream",
     "text": [
      "\n"
     ]
    },
    {
     "data": {
      "application/vnd.jupyter.widget-view+json": {
       "model_id": "15de3401726a4e3782df4dbcc7a9206f",
       "version_major": 2,
       "version_minor": 0
      },
      "text/plain": [
       "HBox(children=(IntProgress(value=0, max=11757), HTML(value='')))"
      ]
     },
     "metadata": {},
     "output_type": "display_data"
    },
    {
     "name": "stdout",
     "output_type": "stream",
     "text": [
      "\n"
     ]
    },
    {
     "data": {
      "application/vnd.jupyter.widget-view+json": {
       "model_id": "998097fdbce249f3b01cc27e99f87bce",
       "version_major": 2,
       "version_minor": 0
      },
      "text/plain": [
       "HBox(children=(IntProgress(value=0, max=12837), HTML(value='')))"
      ]
     },
     "metadata": {},
     "output_type": "display_data"
    },
    {
     "name": "stdout",
     "output_type": "stream",
     "text": [
      "\n"
     ]
    },
    {
     "data": {
      "application/vnd.jupyter.widget-view+json": {
       "model_id": "ac575768ef7b4f7faa75ff60eb26cd86",
       "version_major": 2,
       "version_minor": 0
      },
      "text/plain": [
       "HBox(children=(IntProgress(value=1, bar_style='info', max=1), HTML(value='')))"
      ]
     },
     "metadata": {},
     "output_type": "display_data"
    },
    {
     "name": "stdout",
     "output_type": "stream",
     "text": [
      "\n"
     ]
    },
    {
     "data": {
      "application/vnd.jupyter.widget-view+json": {
       "model_id": "437a6ec3992646b09881e53fb058fcf5",
       "version_major": 2,
       "version_minor": 0
      },
      "text/plain": [
       "HBox(children=(IntProgress(value=1, bar_style='info', max=1), HTML(value='')))"
      ]
     },
     "metadata": {},
     "output_type": "display_data"
    },
    {
     "name": "stdout",
     "output_type": "stream",
     "text": [
      "\n"
     ]
    },
    {
     "data": {
      "application/vnd.jupyter.widget-view+json": {
       "model_id": "a8c8d3313c7a4aa9bc63fbdab26ead85",
       "version_major": 2,
       "version_minor": 0
      },
      "text/plain": [
       "HBox(children=(IntProgress(value=1, bar_style='info', max=1), HTML(value='')))"
      ]
     },
     "metadata": {},
     "output_type": "display_data"
    },
    {
     "name": "stdout",
     "output_type": "stream",
     "text": [
      "\n"
     ]
    },
    {
     "data": {
      "application/vnd.jupyter.widget-view+json": {
       "model_id": "b3e947370f8b42f3ad9aab8e00639106",
       "version_major": 2,
       "version_minor": 0
      },
      "text/plain": [
       "HBox(children=(IntProgress(value=0, max=11757), HTML(value='')))"
      ]
     },
     "metadata": {},
     "output_type": "display_data"
    },
    {
     "name": "stdout",
     "output_type": "stream",
     "text": [
      "\n",
      "Epoch: 900 Loss: 0.01, Loss_test: 0.00, recall@25: 0.66\n"
     ]
    }
   ],
   "source": [
    "recall, exported_rank, debug = experiment.evaluate_validation_test(retrieval, 1, encoded_anchor, issues_by_buckets, \n",
    "                                                               bug_train_ids, method='bert')\n",
    "print(\"Epoch: {} Loss: {:.2f}, Loss_test: {:.2f}, recall@25: {:.2f}\".format(epoch+1, h, h_validation, recall))"
   ]
  },
  {
   "cell_type": "code",
   "execution_count": 52,
   "metadata": {},
   "outputs": [
    {
     "data": {
      "text/plain": [
       "0.66"
      ]
     },
     "execution_count": 52,
     "metadata": {},
     "output_type": "execute_result"
    }
   ],
   "source": [
    "recall"
   ]
  },
  {
   "cell_type": "code",
   "execution_count": 53,
   "metadata": {},
   "outputs": [
    {
     "data": {
      "text/plain": [
       "['98306:88871,50853,33630,90791|88871:0.6989353001117706,42169:0.6945495307445526,33257:0.6943211257457733,69738:0.6926285326480865,85708:0.686054915189743,52149:0.6835945248603821,85766:0.6826655864715576,64215:0.682452529668808,34754:0.6819010674953461,54812:0.6812411844730377,61075:0.6792391836643219,95954:0.6788847744464874,85098:0.6770849823951721,43048:0.6732473373413086,49047:0.6730431318283081,64391:0.6726735234260559,45548:0.6726596057415009,57003:0.6710462272167206,58811:0.6693163812160492,84938:0.6682612001895905,43589:0.6675132513046265,99507:0.6673316657543182,37509:0.666868656873703,75781:0.6666372716426849,48855:0.6663009226322174,113585:0.6660912334918976,55794:0.665748804807663,41139:0.6651560068130493,29075:0.6648722290992737',\n",
       " '32771:32490,33548,32560,33879,32699|33506:0.7244063317775726,9917:0.7180111110210419,39209:0.7102480828762054,12918:0.7066433429718018,17409:0.7064438462257385,12726:0.7056494355201721,4516:0.7055988013744354,71665:0.7042095363140106,86473:0.7033155262470245,6970:0.7030635476112366,13469:0.7028512060642242,31667:0.7013916373252869,32699:0.700722724199295,19554:0.6998997628688812,8837:0.6988593637943268,5515:0.6986887156963348,12557:0.6964591145515442,18495:0.6960271000862122,6176:0.6925859451293945,5245:0.6924315392971039,19220:0.6922729909420013,16905:0.6921285092830658,19149:0.6920187175273895,67340:0.6917984485626221,5885:0.691113144159317,7354:0.6903804838657379,5080:0.6894313097000122,113147:0.6887453198432922,82685:0.6886380612850189',\n",
       " '32772:22694,36970,39820,34488,33298,36760,34911|4420:0.6757253408432007,2963:0.6736945807933807,9420:0.6729684174060822,8144:0.6698095500469208,12867:0.6691673099994659,91855:0.6680703163146973,19111:0.665770024061203,15688:0.6640928983688354,89200:0.663686990737915,107778:0.6626764833927155,12419:0.6626668274402618,3745:0.662523090839386,17286:0.6616218388080597,113219:0.6614377498626709,12911:0.6596037447452545,34766:0.6582338213920593,5362:0.6577000021934509,12705:0.6568101048469543,23926:0.6544939577579498,46909:0.6540831327438354,92270:0.6538698375225067,81542:0.6538236141204834,35727:0.6531133949756622,49076:0.6526126861572266,11777:0.6525478959083557,111642:0.6517699658870697,54567:0.6516798734664917,32277:0.6516709923744202,15661:0.6515883803367615',\n",
       " '32776:30241,33762,31134,33183|33183:0.720641702413559,23347:0.7126694917678833,31134:0.7119779884815216,26324:0.710159957408905,39439:0.7019107043743134,7929:0.6909480392932892,12369:0.6849661767482758,19687:0.6838169395923615,1685:0.683208554983139,17401:0.6828006207942963,7058:0.6811234354972839,3074:0.6808703541755676,7721:0.6805418133735657,9072:0.6783416867256165,74532:0.6766358315944672,1569:0.6765851974487305,9275:0.6765066683292389,28013:0.6751169562339783,89694:0.6745390295982361,76090:0.6724027693271637,84131:0.6705066859722137,18008:0.670119047164917,1605:0.6697730720043182,50232:0.66816645860672,5121:0.6675884425640106,31775:0.6671059727668762,18009:0.6669166088104248,12899:0.6661960482597351,93092:0.6658894717693329',\n",
       " '65545:55967|64932:0.7246274352073669,80295:0.6699934005737305,58901:0.6585319638252258,78767:0.657698780298233,61537:0.6490774750709534,54452:0.6385932266712189,78512:0.6382289826869965,67853:0.6319146454334259,86812:0.6315423846244812,21388:0.6301524043083191,77664:0.630119651556015,16108:0.6293767094612122,33413:0.6283397972583771,21473:0.6265649795532227,73843:0.6262347996234894,65088:0.6257841289043427,31876:0.620110273361206,39927:0.6188475787639618,39914:0.6177836060523987,112693:0.6173008680343628,44053:0.617294579744339,82001:0.6161943972110748,82002:0.6161943972110748,81998:0.6161943972110748,82000:0.6161943972110748,78528:0.6152454614639282,40983:0.6152379512786865,67329:0.6145631968975067,99711:0.6130631864070892',\n",
       " '65549:26122,62365,3411,74204,94365|13699:0.7393178045749664,100529:0.733154684305191,76037:0.7217887043952942,4826:0.7187570631504059,62538:0.7156257033348083,90074:0.7094843089580536,3997:0.7081505358219147,43459:0.707177072763443,102028:0.7069410979747772,53250:0.705788791179657,23970:0.7052862048149109,61177:0.7026572823524475,69921:0.701719343662262,22995:0.700886607170105,114835:0.7006007134914398,96937:0.6999115943908691,77177:0.6997090280056,52845:0.6986673176288605,42876:0.6980522572994232,40336:0.6977766454219818,71685:0.6968267858028412,366:0.6967985928058624,104163:0.6966412365436554,44072:0.6948725283145905,34563:0.6944595575332642,83610:0.6942662000656128,21652:0.6941430270671844,21749:0.6939777731895447,76422:0.6938478350639343',\n",
       " '98318:98570|99728:0.6940995156764984,24145:0.6841040551662445,115182:0.6800495982170105,74329:0.6799499988555908,52861:0.6772847771644592,100003:0.6768487691879272,83456:0.674138605594635,33626:0.6731147766113281,79354:0.6728423535823822,79352:0.6728423535823822,79353:0.6728423535823822,20045:0.6727532148361206,65690:0.6721038818359375,41984:0.6715272068977356,58174:0.6714134514331818,46767:0.6709611415863037,17877:0.6708202064037323,39257:0.6706934869289398,66941:0.6691983044147491,67009:0.6688171029090881,62353:0.6686687767505646,44073:0.6681583523750305,115318:0.6677147746086121,92427:0.6676404774188995,17770:0.6672142446041107,45791:0.6655988395214081,100320:0.6646504998207092,54133:0.6638238430023193,50282:0.6637626886367798',\n",
       " '98319:107242,102941|112435:0.7359978258609772,107242:0.7248128652572632,102941:0.7208521068096161,83180:0.7169438302516937,88591:0.7161642611026764,84384:0.7158344984054565,68033:0.7135706543922424,93147:0.7043484449386597,102028:0.7023513913154602,90071:0.7021794319152832,23970:0.701579213142395,37791:0.6998612880706787,80225:0.6987692713737488,99814:0.6984753906726837,61150:0.697103887796402,109879:0.6955989599227905,102529:0.6953149437904358,61177:0.6946410536766052,89427:0.6935573816299438,39526:0.691447526216507,10845:0.6903057396411896,40336:0.6898870468139648,82194:0.689267486333847,5086:0.6892274618148804,22993:0.688859760761261,74014:0.6879342794418335,75933:0.686614453792572,75392:0.6857786476612091,36426:0.6839285790920258',\n",
       " '18:100,271|100:0.6701749861240387,6937:0.6622191071510315,59399:0.6585127413272858,6477:0.6489306092262268,7303:0.6461827754974365,15325:0.6450252532958984,63192:0.6438062191009521,21196:0.6412664353847504,2148:0.6391134858131409,580:0.6350602805614471,78883:0.6344169974327087,75007:0.6328670978546143,271:0.6297590136528015,33531:0.6290035247802734,83513:0.6266900897026062,7852:0.6241911351680756,5404:0.6240234971046448,22478:0.6237064599990845,82229:0.6227725446224213,44218:0.6216771006584167,10540:0.6216495037078857,23840:0.6210052371025085,111603:0.6188044250011444,24914:0.6187484860420227,73887:0.6178081333637238,16864:0.6152054369449615,17864:0.6150203943252563,73159:0.6147787868976593,613:0.6135995090007782',\n",
       " '32788:31681,32789,31726|32789:1.0,112850:0.6866731941699982,40105:0.6809862554073334,114339:0.6799367368221283,29469:0.6764560043811798,101633:0.6725951135158539,101632:0.67125004529953,23836:0.6707085371017456,48966:0.670130729675293,36392:0.6699361503124237,83272:0.669493556022644,86342:0.6678535342216492,39153:0.66755610704422,43781:0.6654943823814392,32543:0.6651179790496826,31458:0.6637413501739502,88799:0.6624455749988556,83436:0.6613155901432037,66389:0.6605611741542816,63058:0.660275787115097,41120:0.6592985987663269,66891:0.6579594612121582,75100:0.6577486097812653,3443:0.6577123999595642,94325:0.6572102010250092,33702:0.6569308042526245,71938:0.6555046737194061,54772:0.6554453074932098,32215:0.6553495824337006',\n",
       " '32789:31681,32788,31726|32788:1.0,112850:0.6866731941699982,40105:0.6809862554073334,114339:0.6799367368221283,29469:0.6764560043811798,101633:0.6725951135158539,101632:0.67125004529953,23836:0.6707085371017456,48966:0.670130729675293,36392:0.6699361503124237,83272:0.669493556022644,86342:0.6678535342216492,39153:0.66755610704422,43781:0.6654943823814392,32543:0.6651179790496826,31458:0.6637413501739502,88799:0.6624455749988556,83436:0.6613155901432037,66389:0.6605611741542816,63058:0.660275787115097,41120:0.6592985987663269,66891:0.6579594612121582,75100:0.6577486097812653,3443:0.6577123999595642,94325:0.6572102010250092,33702:0.6569308042526245,71938:0.6555046737194061,54772:0.6554453074932098,32215:0.6553495824337006',\n",
       " '65561:27520,50753,21280,85187,51168,35298,83046,27630,81041,46738,46739,46740,103094,48951,55995,76895|55995:0.7430640161037445,22719:0.7212880551815033,35298:0.7157496809959412,81041:0.7148604989051819,36479:0.7052416205406189,60285:0.7041579186916351,5399:0.7018224000930786,79995:0.6993050277233124,83046:0.6970608532428741,27630:0.6968930661678314,83586:0.6910448968410492,21217:0.6906682252883911,17090:0.6902126371860504,27520:0.6894073188304901,88482:0.6873099505901337,27794:0.684543788433075,6348:0.6842234432697296,21773:0.68404221534729,10162:0.6838063299655914,39911:0.6834141314029694,94024:0.6832159161567688,33436:0.6829472184181213,33437:0.6829472184181213,11481:0.6825343072414398,12313:0.6814310550689697,95132:0.6805001795291901,85187:0.6800931990146637,95936:0.680035799741745,76861:0.6778216361999512',\n",
       " '27:59,92|18118:0.7135416269302368,51824:0.7095038592815399,51722:0.7081514894962311,8836:0.7079419791698456,22906:0.7070696949958801,33041:0.6991981267929077,17357:0.6977356672286987,10646:0.6968031227588654,4471:0.6947411596775055,17638:0.6939166188240051,97313:0.6937657296657562,4631:0.6915884912014008,36177:0.6904035806655884,3359:0.6900964379310608,9864:0.6891563832759857,76457:0.6887823641300201,4688:0.6887761950492859,8444:0.6869699060916901,14439:0.686677873134613,51446:0.6863026320934296,91423:0.6854220032691956,59:0.6853846907615662,17737:0.6853803098201752,7917:0.6853509545326233,51937:0.6848306655883789,51595:0.6845939457416534,88021:0.6829040050506592,32766:0.6818530559539795,52538:0.6818031072616577',\n",
       " '32:42944,6342,3207,18886,32905,54854,54855,67697,4756,23861,18648,58138,40286|12148:0.7122474908828735,14260:0.699934333562851,41252:0.683744341135025,2542:0.681466668844223,81060:0.68008753657341,15203:0.6762062311172485,2022:0.6758498549461365,40658:0.6736309230327606,20337:0.6725725829601288,24990:0.6722216308116913,63112:0.666657567024231,57861:0.6665361523628235,21160:0.6641519963741302,38826:0.6635933220386505,78556:0.6626701056957245,61123:0.6620078980922699,84774:0.6612776219844818,116656:0.660551130771637,18620:0.6600875556468964,98173:0.6598571836948395,46655:0.6586174368858337,54800:0.6586060523986816,4946:0.6582411825656891,11768:0.6573303043842316,1705:0.6571440994739532,83285:0.6567300260066986,4677:0.656589150428772,36629:0.6560875773429871,56830:0.6559837758541107',\n",
       " '32813:33041|12788:0.69289430975914,27874:0.6872511208057404,18844:0.6791602671146393,17306:0.6788039803504944,91394:0.6786451935768127,104421:0.6780925989151001,1218:0.6778371334075928,13824:0.6778051257133484,33041:0.6777129173278809,9864:0.6752760112285614,16981:0.6746803224086761,51859:0.6737004816532135,30410:0.6734307110309601,8444:0.6731293201446533,17095:0.6720866858959198,960:0.6719771921634674,22906:0.6719176471233368,32766:0.6715333163738251,32618:0.670933723449707,17243:0.6702520549297333,16984:0.6694794297218323,11574:0.6691926717758179,17357:0.6672244966030121,19339:0.6660245656967163,36197:0.6653084754943848,91350:0.6648113131523132,7416:0.6647247076034546,1732:0.6642113924026489,10107:0.6642084121704102',\n",
       " '32814:37274,38852,37357|34161:0.7094154953956604,70316:0.6685465574264526,70317:0.6685465574264526,54444:0.6639601290225983,54724:0.6625249981880188,25253:0.6574711501598358,113633:0.6569440364837646,50729:0.655981719493866,55909:0.6543450355529785,27027:0.654051274061203,40013:0.653140664100647,31658:0.6527539193630219,14282:0.6527193486690521,110653:0.6520977914333344,97715:0.6494416296482086,38098:0.6478858292102814,66713:0.6475019156932831,42053:0.6474297642707825,67105:0.6472622156143188,32398:0.6467572152614594,67859:0.6458219885826111,35079:0.6457967162132263,16800:0.6453182995319366,16108:0.64312344789505,18099:0.6424489617347717,77664:0.6417649388313293,62224:0.6415228843688965,65429:0.6411355137825012,14994:0.6407181620597839',\n",
       " '32815:32033,31362,31874,33062,31550|18619:0.7170316874980927,44095:0.6963313817977905,48194:0.6950209736824036,41469:0.6933762431144714,61607:0.6894624531269073,52560:0.688971608877182,52382:0.6868503987789154,42167:0.6852549612522125,36629:0.6835527718067169,60882:0.6831783056259155,45885:0.6830495297908783,32215:0.6816870868206024,24223:0.6773105561733246,39967:0.6772487163543701,46724:0.6763045191764832,43780:0.67384272813797,39543:0.6731541454792023,21747:0.672636866569519,58041:0.6721428036689758,56506:0.6720624566078186,3965:0.6719718873500824,70577:0.6710066497325897,41587:0.6695804297924042,41080:0.66873499751091,23081:0.668418288230896,23082:0.668418288230896,41605:0.6675715148448944,105054:0.6668696999549866,1705:0.6666077971458435',\n",
       " '65586:71849,67371,67476,83252,88157,67642,71099,69789,81630|33626:0.7160186469554901,54993:0.7118361592292786,45074:0.6847888231277466,87558:0.6832232177257538,87320:0.6788464486598969,19615:0.6737553179264069,87663:0.668230414390564,41566:0.6680189967155457,58456:0.6669044494628906,1814:0.6664845943450928,25792:0.6655500531196594,20657:0.6636373996734619,63920:0.6630956828594208,49657:0.6597726345062256,38440:0.6578920185565948,57163:0.6574636697769165,80935:0.6571052074432373,16449:0.6567379236221313,41300:0.6566081047058105,69302:0.6563587188720703,48820:0.6562036573886871,46533:0.6558714210987091,72142:0.6555473506450653,36795:0.6545626819133759,36773:0.6511823236942291,66193:0.6509536504745483,52550:0.6505056321620941,20326:0.6505014002323151,4535:0.650487869977951',\n",
       " '51:52|52:0.930169366300106,65954:0.7117956578731537,28408:0.7086659371852875,82336:0.7041024565696716,31330:0.7027662098407745,82242:0.6980286538600922,25375:0.6940925419330597,66782:0.68893963098526,1423:0.6858000457286835,13343:0.6849193871021271,22867:0.6840066313743591,23641:0.6823229193687439,65953:0.6810630261898041,23362:0.6648995280265808,1408:0.656751811504364,60041:0.6567058563232422,3710:0.654962420463562,89143:0.6499012112617493,66032:0.6468247175216675,229:0.6372302174568176,115335:0.6327933371067047,71850:0.6293238401412964,46199:0.6277571320533752,58952:0.6259647309780121,54858:0.6175727844238281,56813:0.6129468679428101,39439:0.6118129789829254,107778:0.6117278635501862,58862:0.6117050051689148',\n",
       " '52:51|51:0.930169366300106,65954:0.7161023020744324,82336:0.7124001085758209,28408:0.7113465666770935,82242:0.7011896967887878,31330:0.6988714933395386,66782:0.697923868894577,25375:0.6952095031738281,1423:0.6924655735492706,22867:0.6879828870296478,65953:0.6867801547050476,23641:0.6818070709705353,13343:0.6784730553627014,23362:0.6614969670772552,1408:0.660142332315445,60041:0.6594377160072327,3710:0.6575813889503479,89143:0.6496611833572388,66032:0.6423090696334839,71850:0.6379801630973816,229:0.6371033191680908,58952:0.6330220401287079,115335:0.6312681436538696,46199:0.6310688257217407,23742:0.6192799508571625,54858:0.618469774723053,58862:0.617066353559494,58687:0.6156080365180969,56045:0.6148250699043274']"
      ]
     },
     "execution_count": 53,
     "metadata": {},
     "output_type": "execute_result"
    }
   ],
   "source": [
    "exported_rank[:20]"
   ]
  },
  {
   "cell_type": "markdown",
   "metadata": {},
   "source": [
    "### Retrieval evaluation"
   ]
  },
  {
   "cell_type": "code",
   "execution_count": 54,
   "metadata": {},
   "outputs": [
    {
     "name": "stdout",
     "output_type": "stream",
     "text": [
      "Total of queries: 8265\n"
     ]
    }
   ],
   "source": [
    "print(\"Total of queries:\", len(retrieval.test))"
   ]
  },
  {
   "cell_type": "markdown",
   "metadata": {},
   "source": [
    "#### Getting the model trained"
   ]
  },
  {
   "cell_type": "code",
   "execution_count": 55,
   "metadata": {},
   "outputs": [
    {
     "data": {
      "text/plain": [
       "'bert_preprocessing_deepTL_1000_feature_1000epochs_64batch(openoffice)'"
      ]
     },
     "execution_count": 55,
     "metadata": {},
     "output_type": "execute_result"
    }
   ],
   "source": [
    "SAVE_PATH_FEATURE.replace('@number_of_epochs@', str(epochs))"
   ]
  },
  {
   "cell_type": "code",
   "execution_count": 56,
   "metadata": {},
   "outputs": [
    {
     "name": "stdout",
     "output_type": "stream",
     "text": [
      "__________________________________________________________________________________________________\n",
      "Layer (type)                    Output Shape         Param #     Connected to                     \n",
      "==================================================================================================\n",
      "info_in (InputLayer)            (None, 738)          0                                            \n",
      "__________________________________________________________________________________________________\n",
      "title_token_in (InputLayer)     (None, 20)           0                                            \n",
      "__________________________________________________________________________________________________\n",
      "title_segment_in (InputLayer)   (None, 20)           0                                            \n",
      "__________________________________________________________________________________________________\n",
      "desc_token_in (InputLayer)      (None, 20)           0                                            \n",
      "__________________________________________________________________________________________________\n",
      "desc_segment_in (InputLayer)    (None, 20)           0                                            \n",
      "__________________________________________________________________________________________________\n",
      "FeatureMlpGenerationModel (Mode (None, 300)          221700      info_in[0][0]                    \n",
      "__________________________________________________________________________________________________\n",
      "FeatureBERTGenerationModelTitle (None, 300)          80577436    title_token_in[0][0]             \n",
      "                                                                 title_segment_in[0][0]           \n",
      "__________________________________________________________________________________________________\n",
      "FeatureBERTGenerationModelDescr (None, 300)          80577436    desc_token_in[0][0]              \n",
      "                                                                 desc_segment_in[0][0]            \n",
      "__________________________________________________________________________________________________\n",
      "merge_features_in (Concatenate) (None, 900)          0           FeatureMlpGenerationModel[1][0]  \n",
      "                                                                 FeatureBERTGenerationModelTitle[1\n",
      "                                                                 FeatureBERTGenerationModelDescrip\n",
      "==================================================================================================\n",
      "Total params: 161,376,572\n",
      "Trainable params: 904,396\n",
      "Non-trainable params: 160,472,176\n",
      "__________________________________________________________________________________________________\n"
     ]
    }
   ],
   "source": [
    "encoded_anchor.summary()"
   ]
  },
  {
   "cell_type": "code",
   "execution_count": 57,
   "metadata": {},
   "outputs": [
    {
     "data": {
      "text/plain": [
       "11757"
      ]
     },
     "execution_count": 57,
     "metadata": {},
     "output_type": "execute_result"
    }
   ],
   "source": [
    "len(exported_rank)"
   ]
  },
  {
   "cell_type": "code",
   "execution_count": 58,
   "metadata": {},
   "outputs": [
    {
     "data": {
      "text/plain": [
       "'data/processed/openoffice/bert/exported_rank_deepTL_1000.txt'"
      ]
     },
     "execution_count": 58,
     "metadata": {},
     "output_type": "execute_result"
    }
   ],
   "source": [
    "EXPORT_RANK_PATH = os.path.join(DIR, 'exported_rank_{}.txt'.format(METHOD))\n",
    "EXPORT_RANK_PATH"
   ]
  },
  {
   "cell_type": "code",
   "execution_count": 59,
   "metadata": {},
   "outputs": [],
   "source": [
    "with open(EXPORT_RANK_PATH, 'w') as file_out:\n",
    "    for row in exported_rank:\n",
    "        file_out.write(row + \"\\n\")"
   ]
  },
  {
   "cell_type": "code",
   "execution_count": 60,
   "metadata": {},
   "outputs": [
    {
     "data": {
      "text/plain": [
       "{'1 - recall_at_5': 0.54,\n",
       " '2 - recall_at_10': 0.59,\n",
       " '3 - recall_at_15': 0.62,\n",
       " '4 - recall_at_20': 0.65,\n",
       " '5 - recall_at_25': 0.66}"
      ]
     },
     "execution_count": 60,
     "metadata": {},
     "output_type": "execute_result"
    }
   ],
   "source": [
    "report = experiment.evaluation.evaluate(EXPORT_RANK_PATH)\n",
    "report"
   ]
  },
  {
   "cell_type": "markdown",
   "metadata": {},
   "source": [
    "#### Some ideas to visualizate"
   ]
  },
  {
   "cell_type": "markdown",
   "metadata": {},
   "source": [
    "- https://towardsdatascience.com/building-a-recommendation-system-using-neural-network-embeddings-1ef92e5c80c9"
   ]
  }
 ],
 "metadata": {
  "accelerator": "GPU",
  "colab": {
   "collapsed_sections": [],
   "name": "[baseline] Bug triage with Deep Learning.ipynb",
   "provenance": [],
   "toc_visible": true,
   "version": "0.3.2"
  },
  "kernelspec": {
   "display_name": "Python 3",
   "language": "python",
   "name": "python3"
  },
  "language_info": {
   "codemirror_mode": {
    "name": "ipython",
    "version": 3
   },
   "file_extension": ".py",
   "mimetype": "text/x-python",
   "name": "python",
   "nbconvert_exporter": "python",
   "pygments_lexer": "ipython3",
   "version": "3.5.2"
  }
 },
 "nbformat": 4,
 "nbformat_minor": 1
}
