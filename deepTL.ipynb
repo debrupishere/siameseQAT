{
 "cells": [
  {
   "cell_type": "markdown",
   "metadata": {
    "colab_type": "text",
    "id": "PtdA1qs_UQP1"
   },
   "source": [
    "# Propose BERT siamese with triplet"
   ]
  },
  {
   "cell_type": "code",
   "execution_count": 1,
   "metadata": {},
   "outputs": [
    {
     "name": "stderr",
     "output_type": "stream",
     "text": [
      "Using TensorFlow backend.\n"
     ]
    }
   ],
   "source": [
    "# import tensorflow as tf\n",
    "import keras\n",
    "# from tensorflow.python import keras\n",
    "import os"
   ]
  },
  {
   "cell_type": "code",
   "execution_count": 2,
   "metadata": {},
   "outputs": [],
   "source": [
    "# import tensorflow as tf\n",
    "# import tensorflow.keras.backend as K_tf\n",
    "\n",
    "# sess = K_tf.get_session()\n",
    "# uninitialized_variables = set([i.decode('ascii') for i in sess.run(tf.report_uninitialized_variables())])\n",
    "# init_op = tf.variables_initializer(\n",
    "#     [v for v in tf.global_variables() if v.name.split(':')[0] in uninitialized_variables]\n",
    "# )\n",
    "# sess.run(init_op)"
   ]
  },
  {
   "cell_type": "code",
   "execution_count": 3,
   "metadata": {
    "colab": {},
    "colab_type": "code",
    "id": "qnSCLmiomFE1"
   },
   "outputs": [],
   "source": [
    "from __future__ import print_function, division"
   ]
  },
  {
   "cell_type": "code",
   "execution_count": 4,
   "metadata": {
    "colab": {},
    "colab_type": "code",
    "id": "OIha-SERnD72"
   },
   "outputs": [],
   "source": [
    "import re\n",
    "import numpy as np\n",
    "import pandas as pd\n",
    "\n",
    "import os\n",
    "from tqdm import tqdm_notebook as tqdm\n",
    "import matplotlib.pyplot as plt\n",
    "import sys\n",
    "from annoy import AnnoyIndex\n",
    "nb_dir = os.path.split(os.getcwd())[0]\n",
    "if nb_dir not in sys.path:\n",
    "    sys.path.append(nb_dir)\n",
    "    \n",
    "%matplotlib inline"
   ]
  },
  {
   "cell_type": "code",
   "execution_count": 5,
   "metadata": {
    "colab": {
     "base_uri": "https://localhost:8080/",
     "height": 34
    },
    "colab_type": "code",
    "id": "c57gQiuAnJAe",
    "outputId": "9eaf2d3f-619a-492d-f40b-6ba2c48426fa"
   },
   "outputs": [],
   "source": [
    "from keras.layers import Conv1D, Input, Add, Activation, Dropout, Embedding, MaxPooling1D, \\\n",
    "    GlobalMaxPool1D, Flatten, Dense, Concatenate, BatchNormalization\n",
    "from keras.models import Sequential, Model\n",
    "from keras.regularizers import l2\n",
    "from keras.initializers import TruncatedNormal\n",
    "from keras import optimizers"
   ]
  },
  {
   "cell_type": "code",
   "execution_count": 6,
   "metadata": {},
   "outputs": [],
   "source": [
    "from methods.baseline import Baseline\n",
    "from methods.experiments import Experiment\n",
    "from methods.evaluation import Evaluation\n",
    "from methods.retrieval import Retrieval"
   ]
  },
  {
   "cell_type": "markdown",
   "metadata": {
    "colab_type": "text",
    "id": "3VUZ6oG1gb91"
   },
   "source": [
    "## Auxiliary methods"
   ]
  },
  {
   "cell_type": "markdown",
   "metadata": {
    "colab_type": "text",
    "id": "8uQou7m2-bFO"
   },
   "source": [
    "## Configurações Globais"
   ]
  },
  {
   "cell_type": "code",
   "execution_count": 7,
   "metadata": {
    "colab": {},
    "colab_type": "code",
    "id": "G-Kn3x_K-aZj"
   },
   "outputs": [],
   "source": [
    "MAX_SEQUENCE_LENGTH_T = 20 # 20\n",
    "MAX_SEQUENCE_LENGTH_D = 20 # 80\n",
    "EMBEDDING_DIM = 300\n",
    "MAX_NB_WORDS = 20000\n",
    "\n",
    "'''\n",
    "    Configuration\n",
    "'''\n",
    "epochs = 1000\n",
    "best_loss = 1\n",
    "best_epoch = 0\n",
    "verbose = 0\n",
    "loss = 1"
   ]
  },
  {
   "cell_type": "markdown",
   "metadata": {},
   "source": [
    "### Parse bugs preproprecessed"
   ]
  },
  {
   "cell_type": "code",
   "execution_count": 8,
   "metadata": {},
   "outputs": [],
   "source": [
    "# Domain to use\n",
    "DOMAIN = 'netbeans'\n",
    "METHOD = 'propose_bert_triplet_{}'.format(epochs)\n",
    "# Dataset paths\n",
    "DIR = 'data/processed/{}'.format(DOMAIN)\n",
    "DIR_PAIRS = 'data/normalized/{}'.format(DOMAIN)\n",
    "DATASET = os.path.join('data/normalized/{}'.format(DOMAIN), '{}.csv'.format(DOMAIN))\n",
    "# Path embeddings\n",
    "EMBED_DIR='data/embed'\n",
    "# Save model\n",
    "SAVE_PATH = '{}_feature@number_of_epochs@epochs_64batch({})'.format(METHOD, DOMAIN)\n",
    "SAVE_PATH_FEATURE = '{}_feature_@number_of_epochs@epochs_64batch({})'.format(METHOD, DOMAIN)\n",
    "\n",
    "# Extract CORPUs\n",
    "EXTRACT_CORPUS = False"
   ]
  },
  {
   "cell_type": "code",
   "execution_count": 9,
   "metadata": {},
   "outputs": [],
   "source": [
    "baseline = Baseline(DIR, DATASET, MAX_SEQUENCE_LENGTH_T, MAX_SEQUENCE_LENGTH_D)\n",
    "evaluation = Evaluation(verbose=0)\n",
    "retrieval = Retrieval()\n",
    "experiment = Experiment(baseline, evaluation)"
   ]
  },
  {
   "cell_type": "code",
   "execution_count": 10,
   "metadata": {},
   "outputs": [
    {
     "name": "stdout",
     "output_type": "stream",
     "text": [
      "Creating the buckets...\n"
     ]
    },
    {
     "data": {
      "application/vnd.jupyter.widget-view+json": {
       "model_id": "ad0a72eadef140cb98e5d43b2253f8e9",
       "version_major": 2,
       "version_minor": 0
      },
      "text/plain": [
       "HBox(children=(IntProgress(value=0, max=180483), HTML(value='')))"
      ]
     },
     "metadata": {},
     "output_type": "display_data"
    },
    {
     "name": "stdout",
     "output_type": "stream",
     "text": [
      "\n"
     ]
    },
    {
     "data": {
      "application/vnd.jupyter.widget-view+json": {
       "model_id": "9881507d5f4047c8ba1b418af2e7cd44",
       "version_major": 2,
       "version_minor": 0
      },
      "text/plain": [
       "HBox(children=(IntProgress(value=0, max=36232), HTML(value='')))"
      ]
     },
     "metadata": {},
     "output_type": "display_data"
    },
    {
     "name": "stdout",
     "output_type": "stream",
     "text": [
      "\n"
     ]
    }
   ],
   "source": [
    "experiment.set_retrieval(retrieval, baseline, DOMAIN)"
   ]
  },
  {
   "cell_type": "markdown",
   "metadata": {},
   "source": [
    "#### Loading bug ids in memory"
   ]
  },
  {
   "cell_type": "code",
   "execution_count": 11,
   "metadata": {
    "scrolled": true
   },
   "outputs": [
    {
     "name": "stdout",
     "output_type": "stream",
     "text": [
      "Reading bug ids\n"
     ]
    },
    {
     "data": {
      "text/plain": [
       "216715"
      ]
     },
     "execution_count": 11,
     "metadata": {},
     "output_type": "execute_result"
    }
   ],
   "source": [
    "experiment.load_ids()\n",
    "len(baseline.bug_ids)"
   ]
  },
  {
   "cell_type": "markdown",
   "metadata": {
    "colab_type": "text",
    "id": "vqzt5EKzqzcI"
   },
   "source": [
    "#### Dicionário de títulos e descrições"
   ]
  },
  {
   "cell_type": "code",
   "execution_count": 12,
   "metadata": {
    "scrolled": true
   },
   "outputs": [],
   "source": [
    "# !wget -q https://storage.googleapis.com/bert_models/2018_10_18/uncased_L-12_H-768_A-12.zip\n",
    "# !unzip -o uncased_L-12_H-768_A-12.zip"
   ]
  },
  {
   "cell_type": "code",
   "execution_count": 13,
   "metadata": {},
   "outputs": [],
   "source": [
    "import os\n",
    "\n",
    "pretrained_path = 'uncased_L-12_H-768_A-12'\n",
    "config_path = os.path.join(pretrained_path, 'bert_config.json')\n",
    "model_path = os.path.join(pretrained_path, 'bert_model.ckpt')\n",
    "vocab_path = os.path.join(pretrained_path, 'vocab.txt')"
   ]
  },
  {
   "cell_type": "code",
   "execution_count": 14,
   "metadata": {},
   "outputs": [],
   "source": [
    "from keras_bert import load_vocabulary\n",
    "\n",
    "token_dict = load_vocabulary(vocab_path)"
   ]
  },
  {
   "cell_type": "code",
   "execution_count": 15,
   "metadata": {
    "scrolled": true
   },
   "outputs": [
    {
     "data": {
      "text/plain": [
       "'Total vocabulary: 30522'"
      ]
     },
     "execution_count": 15,
     "metadata": {},
     "output_type": "execute_result"
    }
   ],
   "source": [
    "\"Total vocabulary: {}\".format(len(token_dict))"
   ]
  },
  {
   "cell_type": "code",
   "execution_count": 16,
   "metadata": {
    "scrolled": true
   },
   "outputs": [
    {
     "data": {
      "application/vnd.jupyter.widget-view+json": {
       "model_id": "26f879e8d9dc4ac58943b861ef863f96",
       "version_major": 2,
       "version_minor": 0
      },
      "text/plain": [
       "HBox(children=(IntProgress(value=0, max=216715), HTML(value='')))"
      ]
     },
     "metadata": {},
     "output_type": "display_data"
    },
    {
     "name": "stdout",
     "output_type": "stream",
     "text": [
      "\n"
     ]
    },
    {
     "data": {
      "application/vnd.jupyter.widget-view+json": {
       "model_id": "964ad16af01849febaa9f72ec3bceca9",
       "version_major": 2,
       "version_minor": 0
      },
      "text/plain": [
       "HBox(children=(IntProgress(value=1, bar_style='info', max=1), HTML(value='')))"
      ]
     },
     "metadata": {},
     "output_type": "display_data"
    },
    {
     "name": "stdout",
     "output_type": "stream",
     "text": [
      "\n",
      "CPU times: user 16.6 s, sys: 2.14 s, total: 18.8 s\n",
      "Wall time: 18.8 s\n"
     ]
    }
   ],
   "source": [
    "%%time\n",
    "\n",
    "experiment.load_bugs()\n",
    "len(baseline.sentence_dict)"
   ]
  },
  {
   "cell_type": "markdown",
   "metadata": {},
   "source": [
    "#### Hashing bugs by buckets"
   ]
  },
  {
   "cell_type": "code",
   "execution_count": 17,
   "metadata": {},
   "outputs": [
    {
     "data": {
      "application/vnd.jupyter.widget-view+json": {
       "model_id": "cca1d7330db142968025b8e674bcd62c",
       "version_major": 2,
       "version_minor": 0
      },
      "text/plain": [
       "HBox(children=(IntProgress(value=0, max=181971), HTML(value='')))"
      ]
     },
     "metadata": {},
     "output_type": "display_data"
    },
    {
     "name": "stdout",
     "output_type": "stream",
     "text": [
      "\n"
     ]
    }
   ],
   "source": [
    "issues_by_buckets = experiment.get_buckets_for_bugs()"
   ]
  },
  {
   "cell_type": "markdown",
   "metadata": {
    "colab_type": "text",
    "id": "a6Obtop6UIVD"
   },
   "source": [
    "#### Prepare the train and test"
   ]
  },
  {
   "cell_type": "code",
   "execution_count": 18,
   "metadata": {
    "colab": {},
    "colab_type": "code",
    "id": "vvyMGBD4IhB-",
    "scrolled": true
   },
   "outputs": [
    {
     "name": "stdout",
     "output_type": "stream",
     "text": [
      "Reading train data\n",
      "Reading bug ids\n",
      "CPU times: user 2min 34s, sys: 28.3 ms, total: 2min 34s\n",
      "Wall time: 2min 34s\n"
     ]
    }
   ],
   "source": [
    "%%time\n",
    "\n",
    "experiment.prepare_dataset(issues_by_buckets, path_train='train_chronological', path_test='test_chronological')\n",
    "# Read and create the test queries duplicates\n",
    "retrieval.create_queries()"
   ]
  },
  {
   "cell_type": "markdown",
   "metadata": {},
   "source": [
    "#### Recovery bug ids from train"
   ]
  },
  {
   "cell_type": "code",
   "execution_count": 19,
   "metadata": {},
   "outputs": [],
   "source": [
    "bug_train_ids = experiment.get_train_ids(baseline.train_data)"
   ]
  },
  {
   "cell_type": "markdown",
   "metadata": {},
   "source": [
    "#### Display a random bug"
   ]
  },
  {
   "cell_type": "code",
   "execution_count": 20,
   "metadata": {
    "scrolled": true
   },
   "outputs": [
    {
     "data": {
      "text/plain": [
       "{'bug_severity': '0\\n',\n",
       " 'bug_status': '1\\n',\n",
       " 'component': '470\\n',\n",
       " 'creation_ts': '2005-04-21 01:37:00 +0000',\n",
       " 'delta_ts': '2008-12-22 22:47:29 +0000',\n",
       " 'description': '[CLS] copy of issue info : xp with default color scheme arguably not a shows ##top ##per but really reflects on the product quality . new car with a dent kind of thing . see attachment . [SEP]',\n",
       " 'description_bert': '[CLS] copy of issue info : xp with default color scheme arguably not a shows ##top ##per but really reflects on the product quality . new car with a dent kind of thing . see attachment . [SEP]',\n",
       " 'description_word': array([  101,  6100,  1997,  3277, 18558,  1024, 26726,  2007, 12398,\n",
       "         3609,  5679, 15835,  2025,  1037,  3065, 14399,  4842,  2021,\n",
       "         2428, 11138]),\n",
       " 'description_word_bert': [101,\n",
       "  6100,\n",
       "  1997,\n",
       "  3277,\n",
       "  18558,\n",
       "  1024,\n",
       "  26726,\n",
       "  2007,\n",
       "  12398,\n",
       "  3609,\n",
       "  5679,\n",
       "  15835,\n",
       "  2025,\n",
       "  1037,\n",
       "  3065,\n",
       "  14399,\n",
       "  4842,\n",
       "  2021,\n",
       "  2428,\n",
       "  11138,\n",
       "  2006,\n",
       "  1996,\n",
       "  4031,\n",
       "  3737,\n",
       "  1012,\n",
       "  2047,\n",
       "  2482,\n",
       "  2007,\n",
       "  1037,\n",
       "  21418,\n",
       "  2785,\n",
       "  1997,\n",
       "  2518,\n",
       "  1012,\n",
       "  2156,\n",
       "  14449,\n",
       "  1012,\n",
       "  102,\n",
       "  0,\n",
       "  0,\n",
       "  0,\n",
       "  0,\n",
       "  0,\n",
       "  0,\n",
       "  0,\n",
       "  0,\n",
       "  0,\n",
       "  0,\n",
       "  0,\n",
       "  0,\n",
       "  0,\n",
       "  0,\n",
       "  0,\n",
       "  0,\n",
       "  0,\n",
       "  0,\n",
       "  0,\n",
       "  0,\n",
       "  0,\n",
       "  0,\n",
       "  0,\n",
       "  0,\n",
       "  0,\n",
       "  0,\n",
       "  0,\n",
       "  0,\n",
       "  0,\n",
       "  0,\n",
       "  0,\n",
       "  0,\n",
       "  0,\n",
       "  0,\n",
       "  0,\n",
       "  0,\n",
       "  0,\n",
       "  0,\n",
       "  0,\n",
       "  0,\n",
       "  0,\n",
       "  0,\n",
       "  0,\n",
       "  0,\n",
       "  0,\n",
       "  0,\n",
       "  0,\n",
       "  0,\n",
       "  0,\n",
       "  0,\n",
       "  0,\n",
       "  0,\n",
       "  0,\n",
       "  0,\n",
       "  0,\n",
       "  0,\n",
       "  0,\n",
       "  0,\n",
       "  0,\n",
       "  0,\n",
       "  0,\n",
       "  0,\n",
       "  0,\n",
       "  0,\n",
       "  0,\n",
       "  0,\n",
       "  0,\n",
       "  0,\n",
       "  0,\n",
       "  0,\n",
       "  0,\n",
       "  0,\n",
       "  0,\n",
       "  0,\n",
       "  0,\n",
       "  0,\n",
       "  0,\n",
       "  0,\n",
       "  0,\n",
       "  0,\n",
       "  0,\n",
       "  0,\n",
       "  0,\n",
       "  0,\n",
       "  0,\n",
       "  0,\n",
       "  0,\n",
       "  0,\n",
       "  0,\n",
       "  0,\n",
       "  0,\n",
       "  0,\n",
       "  0,\n",
       "  0,\n",
       "  0,\n",
       "  0,\n",
       "  0,\n",
       "  0,\n",
       "  0,\n",
       "  0,\n",
       "  0,\n",
       "  0,\n",
       "  0,\n",
       "  0,\n",
       "  0,\n",
       "  0,\n",
       "  0,\n",
       "  0,\n",
       "  0,\n",
       "  0,\n",
       "  0,\n",
       "  0],\n",
       " 'dup_id': '57476',\n",
       " 'issue_id': 58137,\n",
       " 'priority': '3\\n',\n",
       " 'product': '5\\n',\n",
       " 'resolution': 'DUPLICATE',\n",
       " 'textual_word': array([  101,  3479,  1998,  4895, 14876,  7874,  2098,  3609,  1006,\n",
       "         1999, 10566,  3193,  1007,  2003,  2205,  2844,   102,     0,\n",
       "            0,     0,   101,  6100,  1997,  3277, 18558,  1024, 26726,\n",
       "         2007, 12398,  3609,  5679, 15835,  2025,  1037,  3065, 14399,\n",
       "         4842,  2021,  2428, 11138]),\n",
       " 'title': '[CLS] selected and un ##fo ##cus ##ed color ( in explorer view ) is too strong [SEP]',\n",
       " 'title_bert': '[CLS] selected and un ##fo ##cus ##ed color ( in explorer view ) is too strong [SEP]',\n",
       " 'title_word': array([  101,  3479,  1998,  4895, 14876,  7874,  2098,  3609,  1006,\n",
       "         1999, 10566,  3193,  1007,  2003,  2205,  2844,   102,     0,\n",
       "            0,     0]),\n",
       " 'title_word_bert': [101,\n",
       "  3479,\n",
       "  1998,\n",
       "  4895,\n",
       "  14876,\n",
       "  7874,\n",
       "  2098,\n",
       "  3609,\n",
       "  1006,\n",
       "  1999,\n",
       "  10566,\n",
       "  3193,\n",
       "  1007,\n",
       "  2003,\n",
       "  2205,\n",
       "  2844,\n",
       "  102,\n",
       "  0,\n",
       "  0,\n",
       "  0,\n",
       "  0,\n",
       "  0,\n",
       "  0,\n",
       "  0,\n",
       "  0,\n",
       "  0,\n",
       "  0,\n",
       "  0,\n",
       "  0,\n",
       "  0,\n",
       "  0,\n",
       "  0,\n",
       "  0,\n",
       "  0,\n",
       "  0,\n",
       "  0,\n",
       "  0,\n",
       "  0,\n",
       "  0,\n",
       "  0,\n",
       "  0,\n",
       "  0,\n",
       "  0,\n",
       "  0,\n",
       "  0,\n",
       "  0,\n",
       "  0,\n",
       "  0,\n",
       "  0,\n",
       "  0],\n",
       " 'version': '4\\n'}"
      ]
     },
     "execution_count": 20,
     "metadata": {},
     "output_type": "execute_result"
    }
   ],
   "source": [
    "idx = np.random.choice(baseline.bug_ids, 1)[0]\n",
    "baseline.bug_set[idx]"
   ]
  },
  {
   "cell_type": "markdown",
   "metadata": {},
   "source": [
    "### Generating the batch test"
   ]
  },
  {
   "cell_type": "code",
   "execution_count": 21,
   "metadata": {},
   "outputs": [
    {
     "data": {
      "text/plain": [
       "('Train ', 30600)"
      ]
     },
     "execution_count": 21,
     "metadata": {},
     "output_type": "execute_result"
    }
   ],
   "source": [
    "\"Train \", len(baseline.dup_sets_train)"
   ]
  },
  {
   "cell_type": "code",
   "execution_count": 22,
   "metadata": {},
   "outputs": [
    {
     "data": {
      "text/plain": [
       "'Indexed all train'"
      ]
     },
     "execution_count": 22,
     "metadata": {},
     "output_type": "execute_result"
    }
   ],
   "source": [
    "bug_idx = bug_train_ids[0]\n",
    "vector = baseline.bug_set[bug_idx]['textual_word']\n",
    "annoy_train = AnnoyIndex(vector.shape[0])\n",
    "for bug_id in bug_train_ids:\n",
    "    annoy_train.add_item(bug_id, baseline.bug_set[bug_id]['textual_word'])\n",
    "annoy_train.build(10) # 10 trees\n",
    "\"Indexed all train\""
   ]
  },
  {
   "cell_type": "markdown",
   "metadata": {},
   "source": [
    "### Train ids"
   ]
  },
  {
   "cell_type": "code",
   "execution_count": 23,
   "metadata": {},
   "outputs": [],
   "source": [
    "bug_train_ids = experiment.get_train_ids(baseline.train_data)"
   ]
  },
  {
   "cell_type": "code",
   "execution_count": 24,
   "metadata": {
    "colab": {
     "base_uri": "https://localhost:8080/",
     "height": 51
    },
    "colab_type": "code",
    "id": "PA5CIhgz7odW",
    "outputId": "ae98fdec-1d54-4b1f-ee0e-4c5633802a18",
    "scrolled": true
   },
   "outputs": [
    {
     "name": "stdout",
     "output_type": "stream",
     "text": [
      "CPU times: user 54.8 ms, sys: 0 ns, total: 54.8 ms\n",
      "Wall time: 54.3 ms\n"
     ]
    }
   ],
   "source": [
    "%%time\n",
    "\n",
    "batch_size = 64\n",
    "batch_size_test = 128\n",
    "\n",
    "# we want a constant validation group to have a frame of reference for model performance\n",
    "batch_triplets_valid, valid_input_sample, valid_input_pos, valid_input_neg, valid_sim = experiment.batch_iterator_bert(None, \n",
    "                                                                                                                  baseline.train_data, \n",
    "                                                                                                                  baseline.dup_sets_train,\n",
    "                                                                                                                  bug_train_ids,\n",
    "                                                                                                                  batch_size_test, 1, \n",
    "                                                                                                                  issues_by_buckets)\n",
    "\n",
    "# Categorical columns\n",
    "number_of_columns_info = valid_input_sample['info'].shape[1]\n",
    "# Max sequence title\n",
    "MAX_SEQUENCE_LENGTH_T = valid_input_sample['title']['token'].shape[1]\n",
    "MAX_SEQUENCE_LENGTH_D = valid_input_sample['description']['token'].shape[1]"
   ]
  },
  {
   "cell_type": "code",
   "execution_count": 25,
   "metadata": {},
   "outputs": [
    {
     "data": {
      "text/plain": [
       "((128, 20), (128, 20), (128, 544), (128,))"
      ]
     },
     "execution_count": 25,
     "metadata": {},
     "output_type": "execute_result"
    }
   ],
   "source": [
    "valid_input_sample['title']['token'].shape, valid_input_sample['description']['token'].shape, \\\n",
    "    valid_input_sample['info'].shape, valid_sim.shape"
   ]
  },
  {
   "cell_type": "markdown",
   "metadata": {
    "colab_type": "text",
    "id": "24mY22BGnkqp"
   },
   "source": [
    "### Validar entrada"
   ]
  },
  {
   "cell_type": "code",
   "execution_count": 26,
   "metadata": {
    "colab": {
     "base_uri": "https://localhost:8080/",
     "height": 796
    },
    "colab_type": "code",
    "id": "OhTbr3a5nmrh",
    "outputId": "a2d73e0f-e9ce-4d12-a5c8-f0008d2402d0",
    "scrolled": true
   },
   "outputs": [],
   "source": [
    "# %%time \n",
    "\n",
    "# baseline.display_batch(baseline.train_data, baseline.dup_sets_train, bug_train_ids, 5, batch_iterator, issues_by_buckets)"
   ]
  },
  {
   "cell_type": "markdown",
   "metadata": {},
   "source": [
    "## Experiment"
   ]
  },
  {
   "cell_type": "markdown",
   "metadata": {
    "colab_type": "text",
    "id": "Lev5Y7oaFQBd"
   },
   "source": [
    "## Propose\n",
    "\n",
    "https://github.com/tqtg/DuplicateBugFinder"
   ]
  },
  {
   "cell_type": "code",
   "execution_count": 27,
   "metadata": {},
   "outputs": [],
   "source": [
    "from keras.initializers import RandomUniform, RandomNormal, Ones"
   ]
  },
  {
   "cell_type": "markdown",
   "metadata": {},
   "source": [
    "### BERT\n",
    "\n",
    "https://github.com/CyberZHG/keras-bert"
   ]
  },
  {
   "cell_type": "code",
   "execution_count": 28,
   "metadata": {},
   "outputs": [],
   "source": [
    "from keras_bert import load_trained_model_from_checkpoint\n",
    "from keras_bert import compile_model, get_model\n",
    "from keras.layers import GlobalAveragePooling1D\n",
    "\n",
    "def bert_model(MAX_SEQUENCE_LENGTH, name):\n",
    "    layer_num = 8\n",
    "#     model = load_trained_model_from_checkpoint(\n",
    "#             config_path,\n",
    "#             model_path,\n",
    "#             training=True,\n",
    "#             trainable=True,\n",
    "#             seq_len=MAX_SEQUENCE_LENGTH,\n",
    "#     )\n",
    "    model = load_trained_model_from_checkpoint(\n",
    "        config_path,\n",
    "        model_path,\n",
    "        training=False,\n",
    "        use_adapter=True,\n",
    "        seq_len=MAX_SEQUENCE_LENGTH,\n",
    "        trainable=['Encoder-{}-MultiHeadSelfAttention-Adapter'.format(i + 1) for i in range(12-layer_num, 13)] +\n",
    "        ['Encoder-{}-FeedForward-Adapter'.format(i + 1) for i in range(12-layer_num, 13)] +\n",
    "        ['Encoder-{}-MultiHeadSelfAttention-Norm'.format(i + 1) for i in range(12-layer_num, 13)] +\n",
    "        ['Encoder-{}-FeedForward-Norm'.format(i + 1) for i in range(layer_num)],\n",
    "    )\n",
    "#     model = get_model(\n",
    "#         token_num=len(token_dict),\n",
    "#         head_num=10,\n",
    "#         transformer_num=layer_num,\n",
    "#         embed_dim=100,\n",
    "#         feed_forward_dim=100,\n",
    "#         seq_len=MAX_SEQUENCE_LENGTH,\n",
    "#         pos_num=MAX_SEQUENCE_LENGTH,\n",
    "#         dropout_rate=0.05,\n",
    "#     )\n",
    "    compile_model(model)\n",
    "    inputs = model.inputs[:2]\n",
    "    outputs = model.get_layer('Encoder-{}-FeedForward-Norm'.format(layer_num)).output\n",
    "    #outputs = model.get_layer('Extract').output\n",
    "    outputs = GlobalAveragePooling1D()(outputs)\n",
    "#     outputs = Dense(300, activation='tanh')(outputs)\n",
    "    \n",
    "    model = Model(inputs, outputs, name='FeatureBERTGenerationModel{}'.format(name))\n",
    "    \n",
    "    return model"
   ]
  },
  {
   "cell_type": "markdown",
   "metadata": {},
   "source": [
    "### MLP"
   ]
  },
  {
   "cell_type": "code",
   "execution_count": 29,
   "metadata": {},
   "outputs": [],
   "source": [
    "def mlp_model(input_size):\n",
    "    info_input = Input(shape=(input_size, ), name='Feature_BugInput')\n",
    "    input_size = 300\n",
    "    \n",
    "    layer = Dense(input_size, activation='tanh')(info_input)\n",
    "    \n",
    "    #layer = GRU(100, activation='tanh')(layer)\n",
    "    \n",
    "    mlp_feature_model = Model(inputs=[info_input], outputs=[layer], name = 'FeatureMlpGenerationModel')\n",
    "    \n",
    "    return mlp_feature_model"
   ]
  },
  {
   "cell_type": "markdown",
   "metadata": {
    "colab_type": "text",
    "id": "TEedCg5AaTf2"
   },
   "source": [
    "### Siamese model"
   ]
  },
  {
   "cell_type": "code",
   "execution_count": 30,
   "metadata": {
    "colab": {
     "base_uri": "https://localhost:8080/",
     "height": 561
    },
    "colab_type": "code",
    "id": "VWBkSIYVaXyP",
    "outputId": "ed2a3d37-b8ec-4960-ef45-2909a87c8fa5"
   },
   "outputs": [],
   "source": [
    "from keras import backend as K\n",
    "\n",
    "'''\n",
    "    Some loss ideas\n",
    "    hinge loss Kullback-Leibler\n",
    "    https://stackoverflow.com/questions/53581298/custom-combined-hinge-kb-divergence-loss-function-in-siamese-net-fails-to-genera\n",
    "'''\n",
    "\n",
    "def normalize(x, axis):\n",
    "    norm = K.sqrt(K.sum(K.square(x), axis=axis, keepdims=False))\n",
    "    return x, K.maximum(norm, K.epsilon())\n",
    "    \n",
    "# https://github.com/keras-team/keras/issues/3031\n",
    "# https://github.com/keras-team/keras/issues/8335\n",
    "def cosine_distance(inputs):\n",
    "    x, y = inputs\n",
    "    x, x_norm = normalize(x, axis=-1)\n",
    "    y, y_norm = normalize(y, axis=-1)\n",
    "    distance = K.sum( x * y, axis=-1) / (x_norm * y_norm)\n",
    "    distance = (distance + K.constant(1)) / K.constant(2)\n",
    "    # Distance goes from 0 to 2 in theory, but from 0 to 1 if x and y are both\n",
    "    # positive (which is the case after ReLU activation).\n",
    "    return K.mean(distance, axis=-1, keepdims=False)\n",
    "\n",
    "def euclidean_distance(vects):\n",
    "    x, y = vects\n",
    "    distance = K.sqrt(K.maximum(K.sum(K.square(x - y), axis=1, keepdims=True), K.epsilon()))\n",
    "    # Normalize https://stats.stackexchange.com/questions/53068/euclidean-distance-score-and-similarity\n",
    "    distance = K.constant(1) / (K.constant(1) + distance)\n",
    "    return K.mean(distance, keepdims=False)\n",
    "    #return K.mean(distance, axis=-1, keepdims=False)\n",
    "\n",
    "# https://jdhao.github.io/2017/03/13/some_loss_and_explanations/\n",
    "def triplet_loss(y_true, y_pred):\n",
    "    margin = K.constant(1.0)\n",
    "    pos = y_pred[0]\n",
    "    neg = y_pred[1]\n",
    "    return K.mean(K.maximum(0.0, pos - neg + margin))\n",
    "\n",
    "def custom_margin_loss(y_true, y_pred):\n",
    "    margin = K.constant(1.0)\n",
    "    pos = y_pred[0]\n",
    "    neg = y_pred[1]\n",
    "    return K.mean(K.maximum(0.0, margin - pos + neg), keepdims=False)\n",
    "\n",
    "# https://www.kaggle.com/c/quora-question-pairs/discussion/33631\n",
    "# https://www.researchgate.net/figure/Illustration-of-triplet-loss-contrastive-loss-for-negative-samples-and-binomial_fig2_322060548\n",
    "def contrastive_loss(y_true, y_pred):\n",
    "    '''Contrastive loss from Hadsell-et-al.'06\n",
    "    http://yann.lecun.com/exdb/publis/pdf/hadsell-chopra-lecun-06.pdf\n",
    "    '''\n",
    "    pos = y_pred[0]\n",
    "    neg = y_pred[1]\n",
    "    margin = 1\n",
    "    return K.mean(pos * K.square(neg) +\n",
    "                  (1 - pos) * K.square(K.maximum(margin - neg, 0)))\n",
    "\n",
    "def pos_distance(y_true, y_pred):\n",
    "    return y_pred[0]\n",
    "\n",
    "def neg_distance(y_true, y_pred):\n",
    "    return y_pred[1]\n",
    "\n",
    "def stack_tensors(vects):\n",
    "    return K.stack(vects, axis=-1)"
   ]
  },
  {
   "cell_type": "markdown",
   "metadata": {},
   "source": [
    "### Propose"
   ]
  },
  {
   "cell_type": "code",
   "execution_count": 31,
   "metadata": {},
   "outputs": [],
   "source": [
    "from keras.layers import concatenate, Add, Lambda, Average, Maximum, Subtract, Average, AveragePooling1D, GlobalAveragePooling1D\n",
    "from keras.optimizers import Adam, Nadam\n",
    "\n",
    "def siamese_model(title_feature_model, desc_feature_model, categorical_feature_model, sequence_length_info, \n",
    "                  sequence_length_t, sequence_length_d, name):\n",
    "    \n",
    "    # Title\n",
    "    bug_t_token = Input(shape = (sequence_length_t, ), name = 'title_token_{}'.format(name))\n",
    "    bug_t_segment = Input(shape = (sequence_length_t, ), name = 'title_segment_{}'.format(name))\n",
    "    # Description\n",
    "    bug_d_token = Input(shape = (sequence_length_d, ), name = 'desc_token_{}'.format(name))\n",
    "    bug_d_segment = Input(shape = (sequence_length_d, ), name = 'desc_segment_{}'.format(name))\n",
    "    # Categorical\n",
    "    bug_i = Input(shape = (sequence_length_info, ), name = 'info_{}'.format(name))\n",
    "    \n",
    "    bug_t_feat = title_feature_model([bug_t_token, bug_t_segment])\n",
    "    bug_d_feat = desc_feature_model([bug_d_token, bug_d_segment])\n",
    "    bug_i_feat = categorical_feature_model(bug_i)\n",
    "    \n",
    "    #bug_feature_output = Add(name = 'merge_features_{}'.format(name))([bug_i_feat, bug_t_feat, bug_d_feat])\n",
    "    bug_feature_output = concatenate([bug_i_feat, bug_t_feat, bug_d_feat], name = 'merge_features_{}'.format(name))\n",
    "    \n",
    "    bug_feature_model = Model(inputs=[bug_t_token, bug_t_segment, bug_d_token, bug_d_segment, bug_i], outputs=[bug_feature_output], name = 'merge_features_{}'.format(name))\n",
    "    \n",
    "    return bug_feature_model"
   ]
  },
  {
   "cell_type": "code",
   "execution_count": 32,
   "metadata": {},
   "outputs": [],
   "source": [
    "from keras.layers import Average\n",
    "from keras_radam import RAdam\n",
    "from keras_bert import AdamWarmup, calc_train_steps\n",
    "\n",
    "def max_margin_objective(encoded_anchor, encoded_positive, encoded_negative, \n",
    "                         NUMBER_OF_INSTANCES, BATCH_SIZE, EPOCHS, decay_lr=1):\n",
    "    \n",
    "    inputs = np.concatenate([encoded_anchor.input, encoded_positive.input, encoded_negative.input], -1).tolist()\n",
    "    \n",
    "    encoded_anchor = encoded_anchor.output\n",
    "    encoded_positive = encoded_positive.output\n",
    "    encoded_negative = encoded_negative.output\n",
    "    \n",
    "    # Distance bugs\n",
    "    positive_d = Lambda(cosine_distance, name='pos_cosine_distance', output_shape=[1])([encoded_anchor, encoded_positive])\n",
    "    negative_d = Lambda(cosine_distance, name='neg_cosine_distance', output_shape=[1])([encoded_anchor, encoded_negative])\n",
    "\n",
    "    # Loss function only works with a single output\n",
    "    output = Lambda(\n",
    "        lambda vects: stack_tensors(vects),\n",
    "        name='stack-distances-bug',\n",
    "        output_shape=(2, 1)\n",
    "    )([positive_d, negative_d])\n",
    "    \n",
    "    #output_avg_master = Average()([output_master, output_master_pos, output_master_neg])\n",
    "    #output = Average()([output_bug, output_avg_master])\n",
    "    #loss = MarginLoss()(output)\n",
    "\n",
    "    similarity_model = Model(inputs = inputs, outputs = [output], name = 'Similarity_Model')\n",
    "\n",
    "    # setup the optimization process \n",
    "    similarity_model.compile(optimizer='adam', loss=custom_margin_loss, \n",
    "                                 metrics=[pos_distance, neg_distance])\n",
    "\n",
    "    return similarity_model"
   ]
  },
  {
   "cell_type": "code",
   "execution_count": null,
   "metadata": {
    "scrolled": true
   },
   "outputs": [
    {
     "name": "stdout",
     "output_type": "stream",
     "text": [
      "Batch size  64\n",
      "__________________________________________________________________________________________________\n",
      "Layer (type)                    Output Shape         Param #     Connected to                     \n",
      "==================================================================================================\n",
      "info_in (InputLayer)            (None, 544)          0                                            \n",
      "__________________________________________________________________________________________________\n",
      "title_token_in (InputLayer)     (None, 20)           0                                            \n",
      "__________________________________________________________________________________________________\n",
      "title_segment_in (InputLayer)   (None, 20)           0                                            \n",
      "__________________________________________________________________________________________________\n",
      "desc_token_in (InputLayer)      (None, 20)           0                                            \n",
      "__________________________________________________________________________________________________\n",
      "desc_segment_in (InputLayer)    (None, 20)           0                                            \n",
      "__________________________________________________________________________________________________\n",
      "info_pos (InputLayer)           (None, 544)          0                                            \n",
      "__________________________________________________________________________________________________\n",
      "title_token_pos (InputLayer)    (None, 20)           0                                            \n",
      "__________________________________________________________________________________________________\n",
      "title_segment_pos (InputLayer)  (None, 20)           0                                            \n",
      "__________________________________________________________________________________________________\n",
      "desc_token_pos (InputLayer)     (None, 20)           0                                            \n",
      "__________________________________________________________________________________________________\n",
      "desc_segment_pos (InputLayer)   (None, 20)           0                                            \n",
      "__________________________________________________________________________________________________\n",
      "info_neg (InputLayer)           (None, 544)          0                                            \n",
      "__________________________________________________________________________________________________\n",
      "title_token_neg (InputLayer)    (None, 20)           0                                            \n",
      "__________________________________________________________________________________________________\n",
      "title_segment_neg (InputLayer)  (None, 20)           0                                            \n",
      "__________________________________________________________________________________________________\n",
      "desc_token_neg (InputLayer)     (None, 20)           0                                            \n",
      "__________________________________________________________________________________________________\n",
      "desc_segment_neg (InputLayer)   (None, 20)           0                                            \n",
      "__________________________________________________________________________________________________\n",
      "FeatureMlpGenerationModel (Mode (None, 300)          163500      info_in[0][0]                    \n",
      "                                                                 info_pos[0][0]                   \n",
      "                                                                 info_neg[0][0]                   \n",
      "__________________________________________________________________________________________________\n",
      "FeatureBERTGenerationModelTitle (None, 768)          80346736    title_token_in[0][0]             \n",
      "                                                                 title_segment_in[0][0]           \n",
      "                                                                 title_token_pos[0][0]            \n",
      "                                                                 title_segment_pos[0][0]          \n",
      "                                                                 title_token_neg[0][0]            \n",
      "                                                                 title_segment_neg[0][0]          \n",
      "__________________________________________________________________________________________________\n",
      "FeatureBERTGenerationModelDescr (None, 768)          80346736    desc_token_in[0][0]              \n",
      "                                                                 desc_segment_in[0][0]            \n",
      "                                                                 desc_token_pos[0][0]             \n",
      "                                                                 desc_segment_pos[0][0]           \n",
      "                                                                 desc_token_neg[0][0]             \n",
      "                                                                 desc_segment_neg[0][0]           \n",
      "__________________________________________________________________________________________________\n",
      "merge_features_in (Concatenate) (None, 1836)         0           FeatureMlpGenerationModel[1][0]  \n",
      "                                                                 FeatureBERTGenerationModelTitle[1\n",
      "                                                                 FeatureBERTGenerationModelDescrip\n",
      "__________________________________________________________________________________________________\n",
      "merge_features_pos (Concatenate (None, 1836)         0           FeatureMlpGenerationModel[2][0]  \n",
      "                                                                 FeatureBERTGenerationModelTitle[2\n",
      "                                                                 FeatureBERTGenerationModelDescrip\n",
      "__________________________________________________________________________________________________\n",
      "merge_features_neg (Concatenate (None, 1836)         0           FeatureMlpGenerationModel[3][0]  \n",
      "                                                                 FeatureBERTGenerationModelTitle[3\n",
      "                                                                 FeatureBERTGenerationModelDescrip\n",
      "__________________________________________________________________________________________________\n",
      "pos_cosine_distance (Lambda)    (None, 1)            0           merge_features_in[0][0]          \n",
      "                                                                 merge_features_pos[0][0]         \n",
      "__________________________________________________________________________________________________\n",
      "neg_cosine_distance (Lambda)    (None, 1)            0           merge_features_in[0][0]          \n",
      "                                                                 merge_features_neg[0][0]         \n",
      "__________________________________________________________________________________________________\n",
      "stack-distances-bug (Lambda)    (None, 2, 1)         0           pos_cosine_distance[0][0]        \n",
      "                                                                 neg_cosine_distance[0][0]        \n",
      "==================================================================================================\n",
      "Total params: 160,856,972\n",
      "Trainable params: 384,796\n",
      "Non-trainable params: 160,472,176\n",
      "__________________________________________________________________________________________________\n",
      "Epoch: 1 Loss: 1.03, pos_cosine: 0.89, neg_cosine: 0.93\n",
      "Epoch: 2 Loss: 1.03, pos_cosine: 0.90, neg_cosine: 0.93\n",
      "Epoch: 3 Loss: 1.03, pos_cosine: 0.90, neg_cosine: 0.93\n",
      "Epoch: 4 Loss: 1.02, pos_cosine: 0.91, neg_cosine: 0.94\n",
      "Epoch: 5 Loss: 1.02, pos_cosine: 0.92, neg_cosine: 0.95\n",
      "Epoch: 6 Loss: 1.02, pos_cosine: 0.93, neg_cosine: 0.95\n",
      "Epoch: 7 Loss: 1.02, pos_cosine: 0.93, neg_cosine: 0.95\n",
      "Epoch: 8 Loss: 1.02, pos_cosine: 0.93, neg_cosine: 0.95\n",
      "Epoch: 9 Loss: 1.01, pos_cosine: 0.94, neg_cosine: 0.96\n",
      "Epoch: 10 Loss: 1.02, pos_cosine: 0.94, neg_cosine: 0.96\n",
      "Epoch: 11 Loss: 1.01, pos_cosine: 0.95, neg_cosine: 0.96\n",
      "Epoch: 12 Loss: 1.01, pos_cosine: 0.95, neg_cosine: 0.96\n",
      "Epoch: 15 Loss: 1.01, pos_cosine: 0.97, neg_cosine: 0.97\n",
      "Epoch: 16 Loss: 1.01, pos_cosine: 0.97, neg_cosine: 0.98\n",
      "Epoch: 17 Loss: 1.01, pos_cosine: 0.97, neg_cosine: 0.98\n",
      "Epoch: 18 Loss: 1.01, pos_cosine: 0.97, neg_cosine: 0.98\n"
     ]
    },
    {
     "name": "stdout",
     "output_type": "stream",
     "text": [
      "Epoch: 19 Loss: 1.00, pos_cosine: 0.98, neg_cosine: 0.98\n",
      "Epoch: 20 Loss: 1.00, pos_cosine: 0.98, neg_cosine: 0.98\n",
      "Epoch: 21 Loss: 1.01, pos_cosine: 0.98, neg_cosine: 0.98\n",
      "Epoch: 22 Loss: 1.00, pos_cosine: 0.98, neg_cosine: 0.99\n",
      "Epoch: 23 Loss: 1.00, pos_cosine: 0.98, neg_cosine: 0.99\n",
      "Epoch: 24 Loss: 1.00, pos_cosine: 0.98, neg_cosine: 0.99\n",
      "Epoch: 25 Loss: 1.00, pos_cosine: 0.99, neg_cosine: 0.99\n",
      "Epoch: 26 Loss: 1.00, pos_cosine: 0.99, neg_cosine: 0.99\n",
      "Epoch: 27 Loss: 1.00, pos_cosine: 0.99, neg_cosine: 0.99\n",
      "Epoch: 28 Loss: 1.00, pos_cosine: 0.99, neg_cosine: 0.99\n",
      "Epoch: 29 Loss: 1.00, pos_cosine: 0.99, neg_cosine: 0.99\n",
      "Epoch: 30 Loss: 1.00, pos_cosine: 0.99, neg_cosine: 0.99\n",
      "Epoch: 31 Loss: 1.00, pos_cosine: 0.99, neg_cosine: 0.99\n",
      "Epoch: 32 Loss: 1.00, pos_cosine: 0.99, neg_cosine: 0.99\n",
      "Epoch: 33 Loss: 1.00, pos_cosine: 0.99, neg_cosine: 0.99\n",
      "Epoch: 34 Loss: 1.00, pos_cosine: 0.99, neg_cosine: 0.99\n",
      "Epoch: 35 Loss: 1.00, pos_cosine: 0.99, neg_cosine: 0.99\n",
      "Epoch: 36 Loss: 1.00, pos_cosine: 0.99, neg_cosine: 0.99\n",
      "Epoch: 37 Loss: 1.00, pos_cosine: 0.99, neg_cosine: 1.00\n",
      "Epoch: 38 Loss: 1.00, pos_cosine: 1.00, neg_cosine: 1.00\n",
      "Epoch: 39 Loss: 1.00, pos_cosine: 1.00, neg_cosine: 1.00\n",
      "Epoch: 40 Loss: 1.00, pos_cosine: 1.00, neg_cosine: 1.00\n",
      "Epoch: 41 Loss: 1.00, pos_cosine: 1.00, neg_cosine: 1.00\n",
      "Epoch: 42 Loss: 1.00, pos_cosine: 1.00, neg_cosine: 1.00\n",
      "Epoch: 43 Loss: 1.00, pos_cosine: 1.00, neg_cosine: 1.00\n",
      "Epoch: 44 Loss: 1.00, pos_cosine: 1.00, neg_cosine: 1.00\n",
      "Epoch: 45 Loss: 1.00, pos_cosine: 1.00, neg_cosine: 1.00\n",
      "Epoch: 46 Loss: 1.00, pos_cosine: 1.00, neg_cosine: 1.00\n",
      "Epoch: 47 Loss: 1.00, pos_cosine: 1.00, neg_cosine: 1.00\n",
      "Epoch: 48 Loss: 1.00, pos_cosine: 1.00, neg_cosine: 1.00\n",
      "Epoch: 49 Loss: 1.00, pos_cosine: 1.00, neg_cosine: 1.00\n",
      "Epoch: 50 Loss: 1.00, pos_cosine: 1.00, neg_cosine: 1.00\n",
      "Epoch: 51 Loss: 1.00, pos_cosine: 1.00, neg_cosine: 1.00\n",
      "Epoch: 52 Loss: 1.00, pos_cosine: 1.00, neg_cosine: 1.00\n",
      "Epoch: 53 Loss: 1.00, pos_cosine: 1.00, neg_cosine: 1.00\n",
      "Epoch: 54 Loss: 1.00, pos_cosine: 1.00, neg_cosine: 1.00\n",
      "Epoch: 55 Loss: 1.00, pos_cosine: 1.00, neg_cosine: 1.00\n",
      "Epoch: 56 Loss: 1.00, pos_cosine: 1.00, neg_cosine: 1.00\n",
      "Epoch: 57 Loss: 1.00, pos_cosine: 1.00, neg_cosine: 1.00\n",
      "Epoch: 58 Loss: 1.00, pos_cosine: 1.00, neg_cosine: 1.00\n",
      "Epoch: 59 Loss: 1.00, pos_cosine: 1.00, neg_cosine: 1.00\n",
      "Epoch: 60 Loss: 1.00, pos_cosine: 1.00, neg_cosine: 1.00\n",
      "Epoch: 61 Loss: 1.00, pos_cosine: 1.00, neg_cosine: 1.00\n",
      "Epoch: 62 Loss: 1.00, pos_cosine: 1.00, neg_cosine: 1.00\n",
      "Epoch: 63 Loss: 1.00, pos_cosine: 1.00, neg_cosine: 1.00\n",
      "Epoch: 64 Loss: 1.00, pos_cosine: 1.00, neg_cosine: 1.00\n",
      "Epoch: 65 Loss: 1.00, pos_cosine: 1.00, neg_cosine: 1.00\n",
      "Epoch: 66 Loss: 1.00, pos_cosine: 1.00, neg_cosine: 1.00\n",
      "Epoch: 67 Loss: 1.00, pos_cosine: 1.00, neg_cosine: 1.00\n",
      "Epoch: 68 Loss: 1.00, pos_cosine: 1.00, neg_cosine: 1.00\n",
      "Epoch: 69 Loss: 1.00, pos_cosine: 1.00, neg_cosine: 1.00\n",
      "Epoch: 70 Loss: 1.00, pos_cosine: 1.00, neg_cosine: 1.00\n",
      "Epoch: 71 Loss: 1.00, pos_cosine: 1.00, neg_cosine: 1.00\n",
      "Epoch: 72 Loss: 1.00, pos_cosine: 1.00, neg_cosine: 1.00\n",
      "Epoch: 73 Loss: 1.00, pos_cosine: 1.00, neg_cosine: 1.00\n",
      "Epoch: 74 Loss: 1.00, pos_cosine: 1.00, neg_cosine: 1.00\n",
      "Epoch: 75 Loss: 1.00, pos_cosine: 1.00, neg_cosine: 1.00\n",
      "Epoch: 76 Loss: 1.00, pos_cosine: 1.00, neg_cosine: 1.00\n",
      "Epoch: 77 Loss: 1.00, pos_cosine: 1.00, neg_cosine: 1.00\n",
      "Epoch: 78 Loss: 1.00, pos_cosine: 1.00, neg_cosine: 1.00\n",
      "Epoch: 79 Loss: 1.00, pos_cosine: 1.00, neg_cosine: 1.00\n",
      "Epoch: 80 Loss: 1.00, pos_cosine: 1.00, neg_cosine: 1.00\n",
      "Epoch: 81 Loss: 1.00, pos_cosine: 1.00, neg_cosine: 1.00\n",
      "Epoch: 82 Loss: 1.00, pos_cosine: 1.00, neg_cosine: 1.00\n",
      "Epoch: 83 Loss: 1.00, pos_cosine: 1.00, neg_cosine: 1.00\n",
      "Epoch: 84 Loss: 1.00, pos_cosine: 1.00, neg_cosine: 1.00\n",
      "Epoch: 85 Loss: 1.00, pos_cosine: 1.00, neg_cosine: 1.00\n",
      "Epoch: 86 Loss: 1.00, pos_cosine: 1.00, neg_cosine: 1.00\n",
      "Epoch: 87 Loss: 1.00, pos_cosine: 1.00, neg_cosine: 1.00\n",
      "Epoch: 88 Loss: 1.00, pos_cosine: 1.00, neg_cosine: 1.00\n",
      "Epoch: 89 Loss: 1.00, pos_cosine: 1.00, neg_cosine: 1.00\n",
      "Epoch: 90 Loss: 1.00, pos_cosine: 1.00, neg_cosine: 1.00\n",
      "Epoch: 91 Loss: 1.00, pos_cosine: 1.00, neg_cosine: 1.00\n",
      "Epoch: 92 Loss: 1.00, pos_cosine: 1.00, neg_cosine: 1.00\n",
      "Epoch: 93 Loss: 1.00, pos_cosine: 1.00, neg_cosine: 1.00\n",
      "Epoch: 94 Loss: 1.00, pos_cosine: 1.00, neg_cosine: 1.00\n",
      "Epoch: 95 Loss: 1.00, pos_cosine: 1.00, neg_cosine: 1.00\n",
      "Epoch: 96 Loss: 1.00, pos_cosine: 1.00, neg_cosine: 1.00\n",
      "Epoch: 97 Loss: 1.00, pos_cosine: 1.00, neg_cosine: 1.00\n",
      "Epoch: 98 Loss: 1.00, pos_cosine: 1.00, neg_cosine: 1.00\n",
      "Epoch: 99 Loss: 1.00, pos_cosine: 1.00, neg_cosine: 1.00\n",
      "Epoch: 100 Loss: 1.00, pos_cosine: 1.00, neg_cosine: 1.00\n",
      "Epoch: 101 Loss: 1.00, pos_cosine: 1.00, neg_cosine: 1.00\n",
      "Epoch: 102 Loss: 1.00, pos_cosine: 1.00, neg_cosine: 1.00\n",
      "Epoch: 103 Loss: 1.00, pos_cosine: 1.00, neg_cosine: 1.00\n",
      "Epoch: 104 Loss: 1.00, pos_cosine: 1.00, neg_cosine: 1.00\n",
      "Epoch: 105 Loss: 1.00, pos_cosine: 1.00, neg_cosine: 1.00\n",
      "Epoch: 106 Loss: 1.00, pos_cosine: 1.00, neg_cosine: 1.00\n",
      "Epoch: 107 Loss: 1.00, pos_cosine: 1.00, neg_cosine: 1.00\n",
      "Epoch: 108 Loss: 1.00, pos_cosine: 1.00, neg_cosine: 1.00\n",
      "Epoch: 109 Loss: 1.00, pos_cosine: 1.00, neg_cosine: 1.00\n",
      "Epoch: 110 Loss: 1.00, pos_cosine: 1.00, neg_cosine: 1.00\n",
      "Epoch: 111 Loss: 1.00, pos_cosine: 1.00, neg_cosine: 1.00\n",
      "Epoch: 112 Loss: 1.00, pos_cosine: 1.00, neg_cosine: 1.00\n",
      "Epoch: 113 Loss: 1.00, pos_cosine: 1.00, neg_cosine: 1.00\n",
      "Epoch: 114 Loss: 1.00, pos_cosine: 1.00, neg_cosine: 1.00\n",
      "Epoch: 115 Loss: 1.00, pos_cosine: 1.00, neg_cosine: 1.00\n",
      "Epoch: 116 Loss: 1.00, pos_cosine: 1.00, neg_cosine: 1.00\n",
      "Epoch: 117 Loss: 1.00, pos_cosine: 1.00, neg_cosine: 1.00\n",
      "Epoch: 118 Loss: 1.00, pos_cosine: 1.00, neg_cosine: 1.00\n",
      "Epoch: 119 Loss: 1.00, pos_cosine: 1.00, neg_cosine: 1.00\n",
      "Epoch: 120 Loss: 1.00, pos_cosine: 1.00, neg_cosine: 1.00\n",
      "Epoch: 121 Loss: 1.00, pos_cosine: 1.00, neg_cosine: 1.00\n",
      "Epoch: 122 Loss: 1.00, pos_cosine: 1.00, neg_cosine: 1.00\n",
      "Epoch: 123 Loss: 1.00, pos_cosine: 1.00, neg_cosine: 1.00\n",
      "Epoch: 124 Loss: 1.00, pos_cosine: 1.00, neg_cosine: 1.00\n",
      "Epoch: 125 Loss: 1.00, pos_cosine: 1.00, neg_cosine: 1.00\n",
      "Epoch: 126 Loss: 1.00, pos_cosine: 1.00, neg_cosine: 1.00\n",
      "Epoch: 127 Loss: 1.00, pos_cosine: 1.00, neg_cosine: 1.00\n",
      "Epoch: 128 Loss: 1.00, pos_cosine: 1.00, neg_cosine: 1.00\n",
      "Epoch: 129 Loss: 1.00, pos_cosine: 1.00, neg_cosine: 1.00\n",
      "Epoch: 130 Loss: 1.00, pos_cosine: 1.00, neg_cosine: 1.00\n",
      "Epoch: 131 Loss: 1.00, pos_cosine: 1.00, neg_cosine: 1.00\n",
      "Epoch: 132 Loss: 1.00, pos_cosine: 1.00, neg_cosine: 1.00\n",
      "Epoch: 133 Loss: 1.00, pos_cosine: 1.00, neg_cosine: 1.00\n",
      "Epoch: 134 Loss: 1.00, pos_cosine: 1.00, neg_cosine: 1.00\n",
      "Epoch: 135 Loss: 1.00, pos_cosine: 1.00, neg_cosine: 1.00\n",
      "Epoch: 136 Loss: 1.00, pos_cosine: 1.00, neg_cosine: 1.00\n",
      "Epoch: 137 Loss: 1.00, pos_cosine: 1.00, neg_cosine: 1.00\n",
      "Epoch: 138 Loss: 1.00, pos_cosine: 1.00, neg_cosine: 1.00\n",
      "Epoch: 139 Loss: 1.00, pos_cosine: 1.00, neg_cosine: 1.00\n",
      "Epoch: 140 Loss: 1.00, pos_cosine: 1.00, neg_cosine: 1.00\n",
      "Epoch: 141 Loss: 1.00, pos_cosine: 1.00, neg_cosine: 1.00\n",
      "Epoch: 142 Loss: 1.00, pos_cosine: 1.00, neg_cosine: 1.00\n",
      "Epoch: 143 Loss: 1.00, pos_cosine: 1.00, neg_cosine: 1.00\n",
      "Epoch: 144 Loss: 1.00, pos_cosine: 1.00, neg_cosine: 1.00\n",
      "Epoch: 145 Loss: 1.00, pos_cosine: 1.00, neg_cosine: 1.00\n",
      "Epoch: 146 Loss: 1.00, pos_cosine: 1.00, neg_cosine: 1.00\n",
      "Epoch: 147 Loss: 1.00, pos_cosine: 1.00, neg_cosine: 1.00\n",
      "Epoch: 148 Loss: 1.00, pos_cosine: 1.00, neg_cosine: 1.00\n",
      "Epoch: 149 Loss: 1.00, pos_cosine: 1.00, neg_cosine: 1.00\n",
      "Epoch: 150 Loss: 1.00, pos_cosine: 1.00, neg_cosine: 1.00\n",
      "Epoch: 151 Loss: 1.00, pos_cosine: 1.00, neg_cosine: 1.00\n",
      "Epoch: 152 Loss: 1.00, pos_cosine: 1.00, neg_cosine: 1.00\n",
      "Epoch: 153 Loss: 1.00, pos_cosine: 1.00, neg_cosine: 1.00\n",
      "Epoch: 154 Loss: 1.00, pos_cosine: 1.00, neg_cosine: 1.00\n",
      "Epoch: 155 Loss: 1.00, pos_cosine: 1.00, neg_cosine: 1.00\n",
      "Epoch: 156 Loss: 1.00, pos_cosine: 1.00, neg_cosine: 1.00\n",
      "Epoch: 157 Loss: 1.00, pos_cosine: 1.00, neg_cosine: 1.00\n",
      "Epoch: 158 Loss: 1.00, pos_cosine: 1.00, neg_cosine: 1.00\n",
      "Epoch: 159 Loss: 1.00, pos_cosine: 1.00, neg_cosine: 1.00\n",
      "Epoch: 160 Loss: 1.00, pos_cosine: 1.00, neg_cosine: 1.00\n",
      "Epoch: 161 Loss: 1.00, pos_cosine: 1.00, neg_cosine: 1.00\n"
     ]
    },
    {
     "name": "stdout",
     "output_type": "stream",
     "text": [
      "Epoch: 162 Loss: 1.00, pos_cosine: 1.00, neg_cosine: 1.00\n",
      "Epoch: 163 Loss: 1.00, pos_cosine: 1.00, neg_cosine: 1.00\n",
      "Epoch: 164 Loss: 1.00, pos_cosine: 1.00, neg_cosine: 1.00\n",
      "Epoch: 165 Loss: 1.00, pos_cosine: 1.00, neg_cosine: 1.00\n",
      "Epoch: 166 Loss: 1.00, pos_cosine: 1.00, neg_cosine: 1.00\n",
      "Epoch: 167 Loss: 1.00, pos_cosine: 1.00, neg_cosine: 1.00\n",
      "Epoch: 168 Loss: 1.00, pos_cosine: 1.00, neg_cosine: 1.00\n",
      "Epoch: 169 Loss: 1.00, pos_cosine: 1.00, neg_cosine: 1.00\n",
      "Epoch: 170 Loss: 1.00, pos_cosine: 1.00, neg_cosine: 1.00\n",
      "Epoch: 171 Loss: 1.00, pos_cosine: 1.00, neg_cosine: 1.00\n",
      "Epoch: 172 Loss: 1.00, pos_cosine: 1.00, neg_cosine: 1.00\n",
      "Epoch: 173 Loss: 1.00, pos_cosine: 1.00, neg_cosine: 1.00\n",
      "Epoch: 174 Loss: 1.00, pos_cosine: 1.00, neg_cosine: 1.00\n",
      "Epoch: 175 Loss: 1.00, pos_cosine: 1.00, neg_cosine: 1.00\n",
      "Epoch: 176 Loss: 1.00, pos_cosine: 1.00, neg_cosine: 1.00\n",
      "Epoch: 177 Loss: 1.00, pos_cosine: 1.00, neg_cosine: 1.00\n",
      "Epoch: 178 Loss: 1.00, pos_cosine: 1.00, neg_cosine: 1.00\n",
      "Epoch: 179 Loss: 1.00, pos_cosine: 1.00, neg_cosine: 1.00\n",
      "Epoch: 180 Loss: 1.00, pos_cosine: 1.00, neg_cosine: 1.00\n",
      "Epoch: 181 Loss: 1.00, pos_cosine: 1.00, neg_cosine: 1.00\n",
      "Epoch: 182 Loss: 1.00, pos_cosine: 1.00, neg_cosine: 1.00\n",
      "Epoch: 183 Loss: 1.00, pos_cosine: 1.00, neg_cosine: 1.00\n",
      "Epoch: 184 Loss: 1.00, pos_cosine: 1.00, neg_cosine: 1.00\n",
      "Epoch: 185 Loss: 1.00, pos_cosine: 1.00, neg_cosine: 1.00\n",
      "Epoch: 186 Loss: 1.00, pos_cosine: 1.00, neg_cosine: 1.00\n",
      "Epoch: 187 Loss: 1.00, pos_cosine: 1.00, neg_cosine: 1.00\n",
      "Epoch: 188 Loss: 1.00, pos_cosine: 1.00, neg_cosine: 1.00\n",
      "Epoch: 189 Loss: 1.00, pos_cosine: 1.00, neg_cosine: 1.00\n",
      "Epoch: 190 Loss: 1.00, pos_cosine: 1.00, neg_cosine: 1.00\n",
      "Epoch: 191 Loss: 1.00, pos_cosine: 1.00, neg_cosine: 1.00\n",
      "Epoch: 192 Loss: 1.00, pos_cosine: 1.00, neg_cosine: 1.00\n",
      "Epoch: 193 Loss: 1.00, pos_cosine: 1.00, neg_cosine: 1.00\n",
      "Epoch: 194 Loss: 1.00, pos_cosine: 1.00, neg_cosine: 1.00\n",
      "Epoch: 195 Loss: 1.00, pos_cosine: 1.00, neg_cosine: 1.00\n",
      "Epoch: 196 Loss: 1.00, pos_cosine: 1.00, neg_cosine: 1.00\n",
      "Epoch: 197 Loss: 1.00, pos_cosine: 1.00, neg_cosine: 1.00\n",
      "Epoch: 198 Loss: 1.00, pos_cosine: 1.00, neg_cosine: 1.00\n",
      "Epoch: 199 Loss: 1.00, pos_cosine: 1.00, neg_cosine: 1.00\n",
      "Epoch: 200 Loss: 1.00, pos_cosine: 1.00, neg_cosine: 1.00\n",
      "Epoch: 201 Loss: 1.00, pos_cosine: 1.00, neg_cosine: 1.00\n",
      "Epoch: 202 Loss: 1.00, pos_cosine: 1.00, neg_cosine: 1.00\n",
      "Epoch: 203 Loss: 1.00, pos_cosine: 1.00, neg_cosine: 1.00\n",
      "Epoch: 204 Loss: 1.00, pos_cosine: 1.00, neg_cosine: 1.00\n",
      "Epoch: 205 Loss: 1.00, pos_cosine: 1.00, neg_cosine: 1.00\n",
      "Epoch: 206 Loss: 1.00, pos_cosine: 1.00, neg_cosine: 1.00\n",
      "Epoch: 207 Loss: 1.00, pos_cosine: 1.00, neg_cosine: 1.00\n",
      "Epoch: 208 Loss: 1.00, pos_cosine: 1.00, neg_cosine: 1.00\n",
      "Epoch: 209 Loss: 1.00, pos_cosine: 1.00, neg_cosine: 1.00\n",
      "Epoch: 210 Loss: 1.00, pos_cosine: 1.00, neg_cosine: 1.00\n",
      "Epoch: 211 Loss: 1.00, pos_cosine: 1.00, neg_cosine: 1.00\n",
      "Epoch: 212 Loss: 1.00, pos_cosine: 1.00, neg_cosine: 1.00\n",
      "Epoch: 213 Loss: 1.00, pos_cosine: 1.00, neg_cosine: 1.00\n",
      "Epoch: 214 Loss: 1.00, pos_cosine: 1.00, neg_cosine: 1.00\n",
      "Epoch: 215 Loss: 1.00, pos_cosine: 1.00, neg_cosine: 1.00\n",
      "Epoch: 216 Loss: 1.00, pos_cosine: 1.00, neg_cosine: 1.00\n",
      "Epoch: 217 Loss: 1.00, pos_cosine: 1.00, neg_cosine: 1.00\n",
      "Epoch: 218 Loss: 1.00, pos_cosine: 1.00, neg_cosine: 1.00\n",
      "Epoch: 219 Loss: 1.00, pos_cosine: 1.00, neg_cosine: 1.00\n",
      "Epoch: 220 Loss: 1.00, pos_cosine: 1.00, neg_cosine: 1.00\n",
      "Epoch: 221 Loss: 1.00, pos_cosine: 1.00, neg_cosine: 1.00\n",
      "Epoch: 222 Loss: 1.00, pos_cosine: 1.00, neg_cosine: 1.00\n",
      "Epoch: 223 Loss: 1.00, pos_cosine: 1.00, neg_cosine: 1.00\n",
      "Epoch: 224 Loss: 1.00, pos_cosine: 1.00, neg_cosine: 1.00\n",
      "Epoch: 225 Loss: 1.00, pos_cosine: 1.00, neg_cosine: 1.00\n",
      "Epoch: 226 Loss: 1.00, pos_cosine: 1.00, neg_cosine: 1.00\n",
      "Epoch: 227 Loss: 1.00, pos_cosine: 1.00, neg_cosine: 1.00\n",
      "Epoch: 228 Loss: 1.00, pos_cosine: 1.00, neg_cosine: 1.00\n",
      "Epoch: 229 Loss: 1.00, pos_cosine: 1.00, neg_cosine: 1.00\n",
      "Epoch: 230 Loss: 1.00, pos_cosine: 1.00, neg_cosine: 1.00\n",
      "Epoch: 231 Loss: 1.00, pos_cosine: 1.00, neg_cosine: 1.00\n",
      "Epoch: 232 Loss: 1.00, pos_cosine: 1.00, neg_cosine: 1.00\n",
      "Epoch: 233 Loss: 1.00, pos_cosine: 1.00, neg_cosine: 1.00\n",
      "Epoch: 234 Loss: 1.00, pos_cosine: 1.00, neg_cosine: 1.00\n",
      "Epoch: 235 Loss: 1.00, pos_cosine: 1.00, neg_cosine: 1.00\n",
      "Epoch: 236 Loss: 1.00, pos_cosine: 1.00, neg_cosine: 1.00\n",
      "Epoch: 237 Loss: 1.00, pos_cosine: 1.00, neg_cosine: 1.00\n",
      "Epoch: 238 Loss: 1.00, pos_cosine: 1.00, neg_cosine: 1.00\n",
      "Epoch: 239 Loss: 1.00, pos_cosine: 1.00, neg_cosine: 1.00\n",
      "Epoch: 240 Loss: 1.00, pos_cosine: 1.00, neg_cosine: 1.00\n",
      "Epoch: 241 Loss: 1.00, pos_cosine: 1.00, neg_cosine: 1.00\n",
      "Epoch: 242 Loss: 1.00, pos_cosine: 1.00, neg_cosine: 1.00\n",
      "Epoch: 243 Loss: 1.00, pos_cosine: 1.00, neg_cosine: 1.00\n",
      "Epoch: 244 Loss: 1.00, pos_cosine: 1.00, neg_cosine: 1.00\n",
      "Epoch: 245 Loss: 1.00, pos_cosine: 1.00, neg_cosine: 1.00\n",
      "Epoch: 246 Loss: 1.00, pos_cosine: 1.00, neg_cosine: 1.00\n",
      "Epoch: 247 Loss: 1.00, pos_cosine: 1.00, neg_cosine: 1.00\n",
      "Epoch: 248 Loss: 1.00, pos_cosine: 1.00, neg_cosine: 1.00\n",
      "Epoch: 249 Loss: 1.00, pos_cosine: 1.00, neg_cosine: 1.00\n",
      "Epoch: 250 Loss: 1.00, pos_cosine: 1.00, neg_cosine: 1.00\n",
      "Epoch: 251 Loss: 1.00, pos_cosine: 1.00, neg_cosine: 1.00\n",
      "Epoch: 252 Loss: 1.00, pos_cosine: 1.00, neg_cosine: 1.00\n",
      "Epoch: 253 Loss: 1.00, pos_cosine: 1.00, neg_cosine: 1.00\n",
      "Epoch: 254 Loss: 1.00, pos_cosine: 1.00, neg_cosine: 1.00\n",
      "Epoch: 255 Loss: 1.00, pos_cosine: 1.00, neg_cosine: 1.00\n",
      "Epoch: 256 Loss: 1.00, pos_cosine: 1.00, neg_cosine: 1.00\n",
      "Epoch: 257 Loss: 1.00, pos_cosine: 1.00, neg_cosine: 1.00\n",
      "Epoch: 258 Loss: 1.00, pos_cosine: 1.00, neg_cosine: 1.00\n",
      "Epoch: 259 Loss: 1.00, pos_cosine: 1.00, neg_cosine: 1.00\n",
      "Epoch: 260 Loss: 1.00, pos_cosine: 1.00, neg_cosine: 1.00\n",
      "Epoch: 261 Loss: 1.00, pos_cosine: 1.00, neg_cosine: 1.00\n",
      "Epoch: 262 Loss: 1.00, pos_cosine: 1.00, neg_cosine: 1.00\n",
      "Epoch: 263 Loss: 1.00, pos_cosine: 1.00, neg_cosine: 1.00\n",
      "Epoch: 264 Loss: 1.00, pos_cosine: 1.00, neg_cosine: 1.00\n",
      "Epoch: 265 Loss: 1.00, pos_cosine: 1.00, neg_cosine: 1.00\n",
      "Epoch: 266 Loss: 1.00, pos_cosine: 1.00, neg_cosine: 1.00\n",
      "Epoch: 267 Loss: 1.00, pos_cosine: 1.00, neg_cosine: 1.00\n",
      "Epoch: 268 Loss: 1.00, pos_cosine: 1.00, neg_cosine: 0.99\n",
      "Epoch: 269 Loss: 1.00, pos_cosine: 1.00, neg_cosine: 0.99\n",
      "Epoch: 270 Loss: 1.00, pos_cosine: 1.00, neg_cosine: 0.99\n",
      "Epoch: 271 Loss: 1.00, pos_cosine: 0.99, neg_cosine: 0.99\n",
      "Epoch: 272 Loss: 1.00, pos_cosine: 0.99, neg_cosine: 0.99\n",
      "Epoch: 273 Loss: 1.00, pos_cosine: 0.99, neg_cosine: 0.99\n",
      "Epoch: 274 Loss: 1.00, pos_cosine: 0.99, neg_cosine: 0.99\n",
      "Epoch: 275 Loss: 1.00, pos_cosine: 0.99, neg_cosine: 0.99\n",
      "Epoch: 276 Loss: 1.00, pos_cosine: 0.99, neg_cosine: 0.99\n",
      "Epoch: 277 Loss: 1.00, pos_cosine: 0.99, neg_cosine: 0.99\n",
      "Epoch: 278 Loss: 1.00, pos_cosine: 0.99, neg_cosine: 0.99\n",
      "Epoch: 279 Loss: 1.00, pos_cosine: 0.99, neg_cosine: 0.99\n",
      "Epoch: 280 Loss: 1.00, pos_cosine: 0.99, neg_cosine: 0.99\n",
      "Epoch: 281 Loss: 1.00, pos_cosine: 0.99, neg_cosine: 0.99\n",
      "Epoch: 282 Loss: 1.00, pos_cosine: 0.99, neg_cosine: 0.99\n",
      "Epoch: 283 Loss: 1.00, pos_cosine: 0.99, neg_cosine: 0.99\n",
      "Epoch: 284 Loss: 1.00, pos_cosine: 0.99, neg_cosine: 0.99\n",
      "Epoch: 285 Loss: 1.00, pos_cosine: 0.99, neg_cosine: 0.99\n",
      "Epoch: 286 Loss: 1.00, pos_cosine: 0.99, neg_cosine: 0.99\n",
      "Epoch: 287 Loss: 1.00, pos_cosine: 0.99, neg_cosine: 0.99\n",
      "Epoch: 288 Loss: 1.00, pos_cosine: 0.99, neg_cosine: 0.99\n",
      "Epoch: 289 Loss: 1.00, pos_cosine: 0.99, neg_cosine: 0.99\n",
      "Epoch: 290 Loss: 1.00, pos_cosine: 0.99, neg_cosine: 0.99\n",
      "Epoch: 291 Loss: 1.00, pos_cosine: 0.99, neg_cosine: 0.99\n",
      "Epoch: 292 Loss: 1.00, pos_cosine: 0.99, neg_cosine: 0.99\n",
      "Epoch: 293 Loss: 1.00, pos_cosine: 0.99, neg_cosine: 0.99\n",
      "Epoch: 294 Loss: 1.00, pos_cosine: 0.99, neg_cosine: 0.99\n",
      "Epoch: 295 Loss: 1.00, pos_cosine: 0.99, neg_cosine: 0.99\n",
      "Epoch: 296 Loss: 1.00, pos_cosine: 0.99, neg_cosine: 0.99\n",
      "Epoch: 297 Loss: 1.00, pos_cosine: 0.99, neg_cosine: 0.99\n",
      "Epoch: 298 Loss: 1.00, pos_cosine: 0.99, neg_cosine: 0.99\n",
      "Epoch: 299 Loss: 1.00, pos_cosine: 0.99, neg_cosine: 0.99\n",
      "Epoch: 300 Loss: 1.00, pos_cosine: 0.99, neg_cosine: 0.99\n",
      "Epoch: 301 Loss: 1.00, pos_cosine: 0.99, neg_cosine: 0.99\n",
      "Epoch: 302 Loss: 1.00, pos_cosine: 0.99, neg_cosine: 0.99\n",
      "Epoch: 303 Loss: 1.00, pos_cosine: 0.99, neg_cosine: 0.99\n"
     ]
    },
    {
     "name": "stdout",
     "output_type": "stream",
     "text": [
      "Epoch: 304 Loss: 1.00, pos_cosine: 0.99, neg_cosine: 0.99\n",
      "Epoch: 305 Loss: 1.00, pos_cosine: 0.99, neg_cosine: 0.98\n",
      "Epoch: 306 Loss: 1.00, pos_cosine: 0.98, neg_cosine: 0.98\n",
      "Epoch: 307 Loss: 1.00, pos_cosine: 0.98, neg_cosine: 0.98\n",
      "Epoch: 308 Loss: 1.00, pos_cosine: 0.98, neg_cosine: 0.98\n",
      "Epoch: 309 Loss: 1.00, pos_cosine: 0.98, neg_cosine: 0.98\n",
      "Epoch: 310 Loss: 1.00, pos_cosine: 0.97, neg_cosine: 0.97\n",
      "Epoch: 311 Loss: 1.00, pos_cosine: 0.97, neg_cosine: 0.98\n",
      "Epoch: 312 Loss: 1.00, pos_cosine: 0.98, neg_cosine: 0.98\n",
      "Epoch: 313 Loss: 1.00, pos_cosine: 0.98, neg_cosine: 0.98\n",
      "Epoch: 314 Loss: 1.00, pos_cosine: 0.99, neg_cosine: 0.99\n",
      "Epoch: 315 Loss: 1.00, pos_cosine: 0.99, neg_cosine: 0.99\n",
      "Epoch: 316 Loss: 1.00, pos_cosine: 0.99, neg_cosine: 0.99\n",
      "Epoch: 317 Loss: 1.00, pos_cosine: 0.99, neg_cosine: 0.99\n",
      "Epoch: 318 Loss: 1.00, pos_cosine: 0.99, neg_cosine: 0.99\n",
      "Epoch: 319 Loss: 1.00, pos_cosine: 0.99, neg_cosine: 0.99\n",
      "Epoch: 320 Loss: 1.00, pos_cosine: 0.99, neg_cosine: 0.99\n",
      "Epoch: 321 Loss: 1.00, pos_cosine: 0.99, neg_cosine: 0.99\n",
      "Epoch: 322 Loss: 1.00, pos_cosine: 0.99, neg_cosine: 0.98\n",
      "Epoch: 323 Loss: 1.00, pos_cosine: 0.98, neg_cosine: 0.98\n",
      "Epoch: 324 Loss: 1.00, pos_cosine: 0.98, neg_cosine: 0.98\n",
      "Epoch: 325 Loss: 1.00, pos_cosine: 0.98, neg_cosine: 0.98\n",
      "Epoch: 326 Loss: 1.00, pos_cosine: 0.98, neg_cosine: 0.98\n",
      "Epoch: 327 Loss: 1.00, pos_cosine: 0.98, neg_cosine: 0.98\n",
      "Epoch: 328 Loss: 1.00, pos_cosine: 0.98, neg_cosine: 0.98\n",
      "Epoch: 329 Loss: 1.00, pos_cosine: 0.98, neg_cosine: 0.98\n",
      "Epoch: 330 Loss: 1.00, pos_cosine: 0.98, neg_cosine: 0.98\n",
      "Epoch: 331 Loss: 1.00, pos_cosine: 0.98, neg_cosine: 0.97\n",
      "Epoch: 332 Loss: 1.00, pos_cosine: 0.98, neg_cosine: 0.97\n",
      "Epoch: 333 Loss: 1.00, pos_cosine: 0.97, neg_cosine: 0.97\n",
      "Epoch: 334 Loss: 1.00, pos_cosine: 0.97, neg_cosine: 0.97\n",
      "Epoch: 335 Loss: 1.00, pos_cosine: 0.97, neg_cosine: 0.97\n",
      "Epoch: 336 Loss: 1.00, pos_cosine: 0.97, neg_cosine: 0.97\n",
      "Epoch: 337 Loss: 1.00, pos_cosine: 0.97, neg_cosine: 0.97\n",
      "Epoch: 338 Loss: 1.00, pos_cosine: 0.98, neg_cosine: 0.97\n",
      "Epoch: 339 Loss: 1.00, pos_cosine: 0.97, neg_cosine: 0.97\n",
      "Epoch: 340 Loss: 1.00, pos_cosine: 0.97, neg_cosine: 0.97\n",
      "Epoch: 341 Loss: 1.00, pos_cosine: 0.97, neg_cosine: 0.97\n",
      "Epoch: 342 Loss: 1.00, pos_cosine: 0.97, neg_cosine: 0.97\n",
      "Epoch: 343 Loss: 1.00, pos_cosine: 0.97, neg_cosine: 0.97\n",
      "Epoch: 344 Loss: 1.00, pos_cosine: 0.97, neg_cosine: 0.97\n",
      "Epoch: 345 Loss: 1.00, pos_cosine: 0.97, neg_cosine: 0.97\n",
      "Epoch: 346 Loss: 1.00, pos_cosine: 0.97, neg_cosine: 0.97\n",
      "Epoch: 347 Loss: 1.00, pos_cosine: 0.97, neg_cosine: 0.97\n",
      "Epoch: 348 Loss: 1.00, pos_cosine: 0.97, neg_cosine: 0.97\n",
      "Epoch: 349 Loss: 0.99, pos_cosine: 0.97, neg_cosine: 0.96\n",
      "Epoch: 350 Loss: 1.00, pos_cosine: 0.96, neg_cosine: 0.96\n",
      "Epoch: 351 Loss: 1.00, pos_cosine: 0.96, neg_cosine: 0.95\n",
      "Epoch: 352 Loss: 1.00, pos_cosine: 0.95, neg_cosine: 0.95\n",
      "Epoch: 353 Loss: 0.99, pos_cosine: 0.96, neg_cosine: 0.95\n",
      "Epoch: 354 Loss: 0.99, pos_cosine: 0.96, neg_cosine: 0.95\n",
      "Epoch: 355 Loss: 1.00, pos_cosine: 0.96, neg_cosine: 0.95\n",
      "Epoch: 356 Loss: 0.99, pos_cosine: 0.96, neg_cosine: 0.95\n",
      "Epoch: 357 Loss: 1.00, pos_cosine: 0.96, neg_cosine: 0.96\n",
      "Epoch: 358 Loss: 1.00, pos_cosine: 0.96, neg_cosine: 0.96\n",
      "Epoch: 359 Loss: 1.00, pos_cosine: 0.96, neg_cosine: 0.95\n",
      "Epoch: 360 Loss: 0.99, pos_cosine: 0.96, neg_cosine: 0.95\n",
      "Epoch: 361 Loss: 1.00, pos_cosine: 0.95, neg_cosine: 0.95\n",
      "Epoch: 362 Loss: 0.99, pos_cosine: 0.95, neg_cosine: 0.94\n",
      "Epoch: 363 Loss: 0.99, pos_cosine: 0.94, neg_cosine: 0.93\n",
      "Epoch: 364 Loss: 1.00, pos_cosine: 0.93, neg_cosine: 0.93\n",
      "Epoch: 365 Loss: 0.99, pos_cosine: 0.93, neg_cosine: 0.93\n",
      "Epoch: 366 Loss: 0.99, pos_cosine: 0.94, neg_cosine: 0.93\n",
      "Epoch: 367 Loss: 0.99, pos_cosine: 0.94, neg_cosine: 0.93\n",
      "Epoch: 368 Loss: 0.99, pos_cosine: 0.94, neg_cosine: 0.93\n",
      "Epoch: 369 Loss: 0.99, pos_cosine: 0.93, neg_cosine: 0.93\n",
      "Epoch: 370 Loss: 1.00, pos_cosine: 0.93, neg_cosine: 0.93\n",
      "Epoch: 371 Loss: 0.99, pos_cosine: 0.94, neg_cosine: 0.92\n",
      "Epoch: 372 Loss: 0.99, pos_cosine: 0.93, neg_cosine: 0.92\n",
      "Epoch: 373 Loss: 0.99, pos_cosine: 0.93, neg_cosine: 0.91\n",
      "Epoch: 374 Loss: 0.99, pos_cosine: 0.92, neg_cosine: 0.92\n",
      "Epoch: 375 Loss: 1.00, pos_cosine: 0.91, neg_cosine: 0.91\n",
      "Epoch: 376 Loss: 1.00, pos_cosine: 0.91, neg_cosine: 0.91\n",
      "Epoch: 377 Loss: 0.99, pos_cosine: 0.91, neg_cosine: 0.91\n",
      "Epoch: 378 Loss: 1.00, pos_cosine: 0.91, neg_cosine: 0.91\n",
      "Epoch: 379 Loss: 0.99, pos_cosine: 0.92, neg_cosine: 0.90\n",
      "Epoch: 380 Loss: 1.00, pos_cosine: 0.92, neg_cosine: 0.91\n",
      "Epoch: 381 Loss: 0.98, pos_cosine: 0.92, neg_cosine: 0.91\n",
      "Epoch: 382 Loss: 1.00, pos_cosine: 0.91, neg_cosine: 0.90\n",
      "Epoch: 383 Loss: 1.00, pos_cosine: 0.90, neg_cosine: 0.90\n",
      "Epoch: 384 Loss: 0.99, pos_cosine: 0.90, neg_cosine: 0.90\n",
      "Epoch: 385 Loss: 0.99, pos_cosine: 0.91, neg_cosine: 0.90\n",
      "Epoch: 386 Loss: 1.00, pos_cosine: 0.89, neg_cosine: 0.89\n",
      "Epoch: 387 Loss: 0.99, pos_cosine: 0.90, neg_cosine: 0.89\n",
      "Epoch: 388 Loss: 1.00, pos_cosine: 0.89, neg_cosine: 0.89\n",
      "Epoch: 389 Loss: 0.99, pos_cosine: 0.90, neg_cosine: 0.88\n",
      "Epoch: 390 Loss: 0.98, pos_cosine: 0.90, neg_cosine: 0.88\n",
      "Epoch: 391 Loss: 0.98, pos_cosine: 0.91, neg_cosine: 0.89\n",
      "Epoch: 392 Loss: 0.99, pos_cosine: 0.90, neg_cosine: 0.89\n",
      "Epoch: 393 Loss: 0.98, pos_cosine: 0.89, neg_cosine: 0.88\n",
      "Epoch: 394 Loss: 0.98, pos_cosine: 0.89, neg_cosine: 0.87\n",
      "Epoch: 395 Loss: 0.99, pos_cosine: 0.87, neg_cosine: 0.86\n",
      "Epoch: 396 Loss: 0.97, pos_cosine: 0.88, neg_cosine: 0.85\n",
      "Epoch: 397 Loss: 0.98, pos_cosine: 0.86, neg_cosine: 0.84\n",
      "Epoch: 398 Loss: 0.98, pos_cosine: 0.85, neg_cosine: 0.83\n",
      "Epoch: 399 Loss: 0.98, pos_cosine: 0.86, neg_cosine: 0.84\n",
      "Epoch: 400 Loss: 0.98, pos_cosine: 0.86, neg_cosine: 0.84\n",
      "Epoch: 401 Loss: 0.97, pos_cosine: 0.85, neg_cosine: 0.82\n",
      "Epoch: 402 Loss: 0.98, pos_cosine: 0.84, neg_cosine: 0.82\n",
      "Epoch: 403 Loss: 0.98, pos_cosine: 0.85, neg_cosine: 0.83\n",
      "Epoch: 404 Loss: 0.99, pos_cosine: 0.83, neg_cosine: 0.82\n",
      "Epoch: 405 Loss: 0.98, pos_cosine: 0.85, neg_cosine: 0.83\n",
      "Epoch: 406 Loss: 0.96, pos_cosine: 0.86, neg_cosine: 0.82\n",
      "Epoch: 407 Loss: 0.97, pos_cosine: 0.85, neg_cosine: 0.82\n",
      "Epoch: 408 Loss: 0.98, pos_cosine: 0.84, neg_cosine: 0.81\n",
      "Epoch: 409 Loss: 0.96, pos_cosine: 0.83, neg_cosine: 0.80\n",
      "Epoch: 410 Loss: 0.97, pos_cosine: 0.82, neg_cosine: 0.79\n",
      "Epoch: 411 Loss: 0.98, pos_cosine: 0.81, neg_cosine: 0.79\n",
      "Epoch: 412 Loss: 0.97, pos_cosine: 0.81, neg_cosine: 0.79\n",
      "Epoch: 413 Loss: 0.97, pos_cosine: 0.81, neg_cosine: 0.78\n",
      "Epoch: 414 Loss: 0.98, pos_cosine: 0.81, neg_cosine: 0.79\n",
      "Epoch: 415 Loss: 0.97, pos_cosine: 0.82, neg_cosine: 0.78\n",
      "Epoch: 416 Loss: 0.96, pos_cosine: 0.81, neg_cosine: 0.77\n",
      "Epoch: 417 Loss: 0.97, pos_cosine: 0.80, neg_cosine: 0.77\n",
      "Epoch: 418 Loss: 0.99, pos_cosine: 0.80, neg_cosine: 0.79\n",
      "Epoch: 419 Loss: 0.95, pos_cosine: 0.83, neg_cosine: 0.78\n",
      "Epoch: 420 Loss: 0.98, pos_cosine: 0.81, neg_cosine: 0.79\n",
      "Epoch: 421 Loss: 0.98, pos_cosine: 0.82, neg_cosine: 0.80\n",
      "Epoch: 422 Loss: 0.97, pos_cosine: 0.81, neg_cosine: 0.79\n",
      "Epoch: 423 Loss: 0.97, pos_cosine: 0.82, neg_cosine: 0.79\n",
      "Epoch: 424 Loss: 0.96, pos_cosine: 0.81, neg_cosine: 0.77\n",
      "Epoch: 425 Loss: 0.96, pos_cosine: 0.80, neg_cosine: 0.76\n",
      "Epoch: 426 Loss: 0.97, pos_cosine: 0.81, neg_cosine: 0.78\n",
      "Epoch: 427 Loss: 0.98, pos_cosine: 0.80, neg_cosine: 0.78\n",
      "Epoch: 428 Loss: 1.00, pos_cosine: 0.79, neg_cosine: 0.79\n",
      "Epoch: 429 Loss: 0.96, pos_cosine: 0.82, neg_cosine: 0.78\n",
      "Epoch: 430 Loss: 0.98, pos_cosine: 0.80, neg_cosine: 0.78\n",
      "Epoch: 431 Loss: 0.95, pos_cosine: 0.81, neg_cosine: 0.76\n",
      "Epoch: 432 Loss: 0.97, pos_cosine: 0.80, neg_cosine: 0.77\n",
      "Epoch: 433 Loss: 0.96, pos_cosine: 0.81, neg_cosine: 0.77\n",
      "Epoch: 434 Loss: 0.96, pos_cosine: 0.80, neg_cosine: 0.76\n",
      "Epoch: 435 Loss: 0.97, pos_cosine: 0.79, neg_cosine: 0.77\n",
      "Epoch: 436 Loss: 0.98, pos_cosine: 0.78, neg_cosine: 0.76\n",
      "Epoch: 437 Loss: 0.97, pos_cosine: 0.79, neg_cosine: 0.77\n",
      "Epoch: 438 Loss: 0.98, pos_cosine: 0.79, neg_cosine: 0.76\n",
      "Epoch: 439 Loss: 0.97, pos_cosine: 0.81, neg_cosine: 0.78\n",
      "Epoch: 440 Loss: 0.96, pos_cosine: 0.81, neg_cosine: 0.76\n",
      "Epoch: 441 Loss: 0.97, pos_cosine: 0.78, neg_cosine: 0.75\n",
      "Epoch: 442 Loss: 0.97, pos_cosine: 0.80, neg_cosine: 0.76\n",
      "Epoch: 443 Loss: 0.98, pos_cosine: 0.78, neg_cosine: 0.76\n",
      "Epoch: 444 Loss: 0.94, pos_cosine: 0.81, neg_cosine: 0.75\n",
      "Epoch: 445 Loss: 0.93, pos_cosine: 0.81, neg_cosine: 0.74\n"
     ]
    },
    {
     "name": "stdout",
     "output_type": "stream",
     "text": [
      "Epoch: 446 Loss: 0.96, pos_cosine: 0.78, neg_cosine: 0.75\n",
      "Epoch: 447 Loss: 0.95, pos_cosine: 0.80, neg_cosine: 0.75\n",
      "Epoch: 448 Loss: 0.94, pos_cosine: 0.82, neg_cosine: 0.76\n",
      "Epoch: 449 Loss: 0.97, pos_cosine: 0.79, neg_cosine: 0.75\n",
      "Epoch: 450 Loss: 0.97, pos_cosine: 0.79, neg_cosine: 0.76\n",
      "Epoch: 451 Loss: 0.97, pos_cosine: 0.79, neg_cosine: 0.75\n",
      "Epoch: 452 Loss: 0.98, pos_cosine: 0.79, neg_cosine: 0.77\n",
      "Epoch: 453 Loss: 0.96, pos_cosine: 0.80, neg_cosine: 0.76\n",
      "Epoch: 454 Loss: 0.98, pos_cosine: 0.76, neg_cosine: 0.74\n",
      "Epoch: 455 Loss: 0.97, pos_cosine: 0.79, neg_cosine: 0.75\n",
      "Epoch: 456 Loss: 0.95, pos_cosine: 0.80, neg_cosine: 0.75\n",
      "Epoch: 457 Loss: 0.95, pos_cosine: 0.79, neg_cosine: 0.74\n",
      "Epoch: 458 Loss: 0.96, pos_cosine: 0.78, neg_cosine: 0.74\n",
      "Epoch: 459 Loss: 0.97, pos_cosine: 0.78, neg_cosine: 0.75\n",
      "Epoch: 460 Loss: 0.97, pos_cosine: 0.78, neg_cosine: 0.75\n",
      "Epoch: 461 Loss: 0.97, pos_cosine: 0.79, neg_cosine: 0.76\n",
      "Epoch: 462 Loss: 0.96, pos_cosine: 0.78, neg_cosine: 0.74\n",
      "Epoch: 463 Loss: 0.96, pos_cosine: 0.79, neg_cosine: 0.75\n",
      "Epoch: 464 Loss: 0.97, pos_cosine: 0.79, neg_cosine: 0.76\n",
      "Epoch: 465 Loss: 0.99, pos_cosine: 0.78, neg_cosine: 0.76\n",
      "Epoch: 466 Loss: 0.94, pos_cosine: 0.80, neg_cosine: 0.74\n",
      "Epoch: 467 Loss: 0.96, pos_cosine: 0.78, neg_cosine: 0.74\n",
      "Epoch: 468 Loss: 0.98, pos_cosine: 0.77, neg_cosine: 0.75\n",
      "Epoch: 469 Loss: 0.96, pos_cosine: 0.78, neg_cosine: 0.73\n",
      "Epoch: 470 Loss: 0.95, pos_cosine: 0.78, neg_cosine: 0.73\n",
      "Epoch: 471 Loss: 0.98, pos_cosine: 0.78, neg_cosine: 0.76\n",
      "Epoch: 472 Loss: 0.97, pos_cosine: 0.79, neg_cosine: 0.75\n",
      "Epoch: 473 Loss: 0.96, pos_cosine: 0.80, neg_cosine: 0.76\n",
      "Epoch: 474 Loss: 0.96, pos_cosine: 0.80, neg_cosine: 0.76\n",
      "Epoch: 475 Loss: 0.95, pos_cosine: 0.79, neg_cosine: 0.74\n",
      "Epoch: 476 Loss: 0.95, pos_cosine: 0.80, neg_cosine: 0.75\n",
      "Epoch: 477 Loss: 0.94, pos_cosine: 0.78, neg_cosine: 0.73\n",
      "Epoch: 478 Loss: 0.98, pos_cosine: 0.78, neg_cosine: 0.76\n",
      "Epoch: 479 Loss: 0.96, pos_cosine: 0.78, neg_cosine: 0.74\n",
      "Epoch: 480 Loss: 0.97, pos_cosine: 0.76, neg_cosine: 0.73\n",
      "Epoch: 481 Loss: 0.94, pos_cosine: 0.80, neg_cosine: 0.73\n",
      "Epoch: 482 Loss: 1.00, pos_cosine: 0.77, neg_cosine: 0.77\n",
      "Epoch: 483 Loss: 0.97, pos_cosine: 0.79, neg_cosine: 0.76\n",
      "Epoch: 484 Loss: 0.96, pos_cosine: 0.80, neg_cosine: 0.76\n",
      "Epoch: 485 Loss: 0.95, pos_cosine: 0.80, neg_cosine: 0.75\n",
      "Epoch: 486 Loss: 0.97, pos_cosine: 0.77, neg_cosine: 0.75\n",
      "Epoch: 487 Loss: 0.97, pos_cosine: 0.78, neg_cosine: 0.75\n",
      "Epoch: 488 Loss: 0.97, pos_cosine: 0.79, neg_cosine: 0.76\n",
      "Epoch: 489 Loss: 0.98, pos_cosine: 0.78, neg_cosine: 0.76\n",
      "Epoch: 490 Loss: 0.97, pos_cosine: 0.78, neg_cosine: 0.75\n",
      "Epoch: 491 Loss: 0.93, pos_cosine: 0.80, neg_cosine: 0.73\n",
      "Epoch: 492 Loss: 0.97, pos_cosine: 0.78, neg_cosine: 0.75\n",
      "Epoch: 493 Loss: 0.94, pos_cosine: 0.79, neg_cosine: 0.73\n",
      "Epoch: 494 Loss: 0.97, pos_cosine: 0.79, neg_cosine: 0.76\n",
      "Epoch: 495 Loss: 0.96, pos_cosine: 0.79, neg_cosine: 0.75\n",
      "Epoch: 496 Loss: 0.93, pos_cosine: 0.82, neg_cosine: 0.75\n",
      "Epoch: 497 Loss: 0.97, pos_cosine: 0.80, neg_cosine: 0.76\n",
      "Epoch: 498 Loss: 0.97, pos_cosine: 0.79, neg_cosine: 0.76\n",
      "Epoch: 499 Loss: 0.95, pos_cosine: 0.80, neg_cosine: 0.75\n",
      "Epoch: 500 Loss: 0.97, pos_cosine: 0.78, neg_cosine: 0.75\n",
      "Epoch: 501 Loss: 0.95, pos_cosine: 0.79, neg_cosine: 0.75\n",
      "Epoch: 502 Loss: 0.96, pos_cosine: 0.78, neg_cosine: 0.73\n",
      "Epoch: 503 Loss: 0.97, pos_cosine: 0.78, neg_cosine: 0.74\n",
      "Epoch: 504 Loss: 0.96, pos_cosine: 0.80, neg_cosine: 0.75\n",
      "Epoch: 505 Loss: 0.92, pos_cosine: 0.80, neg_cosine: 0.72\n",
      "Epoch: 506 Loss: 0.98, pos_cosine: 0.77, neg_cosine: 0.75\n",
      "Epoch: 507 Loss: 0.97, pos_cosine: 0.79, neg_cosine: 0.76\n",
      "Epoch: 508 Loss: 0.96, pos_cosine: 0.79, neg_cosine: 0.75\n",
      "Epoch: 509 Loss: 0.95, pos_cosine: 0.80, neg_cosine: 0.74\n",
      "Epoch: 510 Loss: 0.97, pos_cosine: 0.79, neg_cosine: 0.76\n",
      "Epoch: 511 Loss: 0.98, pos_cosine: 0.78, neg_cosine: 0.76\n",
      "Epoch: 512 Loss: 0.95, pos_cosine: 0.77, neg_cosine: 0.72\n",
      "Epoch: 513 Loss: 0.95, pos_cosine: 0.79, neg_cosine: 0.74\n",
      "Epoch: 514 Loss: 0.95, pos_cosine: 0.79, neg_cosine: 0.74\n",
      "Epoch: 515 Loss: 0.96, pos_cosine: 0.77, neg_cosine: 0.74\n",
      "Epoch: 516 Loss: 0.95, pos_cosine: 0.79, neg_cosine: 0.74\n",
      "Epoch: 517 Loss: 0.95, pos_cosine: 0.79, neg_cosine: 0.74\n",
      "Epoch: 518 Loss: 0.96, pos_cosine: 0.78, neg_cosine: 0.74\n",
      "Epoch: 519 Loss: 0.97, pos_cosine: 0.76, neg_cosine: 0.73\n",
      "Epoch: 520 Loss: 0.94, pos_cosine: 0.79, neg_cosine: 0.73\n",
      "Epoch: 521 Loss: 0.94, pos_cosine: 0.79, neg_cosine: 0.73\n",
      "Epoch: 522 Loss: 0.95, pos_cosine: 0.81, neg_cosine: 0.75\n",
      "Epoch: 523 Loss: 0.93, pos_cosine: 0.79, neg_cosine: 0.72\n",
      "Epoch: 524 Loss: 0.93, pos_cosine: 0.79, neg_cosine: 0.72\n",
      "Epoch: 525 Loss: 0.96, pos_cosine: 0.79, neg_cosine: 0.75\n",
      "Epoch: 526 Loss: 0.98, pos_cosine: 0.75, neg_cosine: 0.73\n",
      "Epoch: 527 Loss: 0.93, pos_cosine: 0.78, neg_cosine: 0.71\n",
      "Epoch: 528 Loss: 0.97, pos_cosine: 0.76, neg_cosine: 0.74\n",
      "Epoch: 529 Loss: 0.98, pos_cosine: 0.75, neg_cosine: 0.73\n",
      "Epoch: 530 Loss: 0.95, pos_cosine: 0.77, neg_cosine: 0.73\n",
      "Epoch: 531 Loss: 0.93, pos_cosine: 0.79, neg_cosine: 0.72\n",
      "Epoch: 532 Loss: 0.93, pos_cosine: 0.80, neg_cosine: 0.73\n",
      "Epoch: 533 Loss: 0.95, pos_cosine: 0.79, neg_cosine: 0.75\n",
      "Epoch: 534 Loss: 0.95, pos_cosine: 0.78, neg_cosine: 0.73\n",
      "Epoch: 535 Loss: 0.93, pos_cosine: 0.81, neg_cosine: 0.73\n",
      "Epoch: 536 Loss: 0.96, pos_cosine: 0.81, neg_cosine: 0.76\n",
      "Epoch: 537 Loss: 0.95, pos_cosine: 0.78, neg_cosine: 0.73\n",
      "Epoch: 538 Loss: 0.96, pos_cosine: 0.78, neg_cosine: 0.74\n",
      "Epoch: 539 Loss: 0.96, pos_cosine: 0.79, neg_cosine: 0.75\n",
      "Epoch: 540 Loss: 0.91, pos_cosine: 0.81, neg_cosine: 0.73\n",
      "Epoch: 541 Loss: 0.94, pos_cosine: 0.79, neg_cosine: 0.72\n",
      "Epoch: 542 Loss: 0.94, pos_cosine: 0.80, neg_cosine: 0.73\n",
      "Epoch: 543 Loss: 0.94, pos_cosine: 0.77, neg_cosine: 0.72\n",
      "Epoch: 544 Loss: 0.93, pos_cosine: 0.78, neg_cosine: 0.71\n",
      "Epoch: 545 Loss: 0.96, pos_cosine: 0.79, neg_cosine: 0.75\n",
      "Epoch: 546 Loss: 0.94, pos_cosine: 0.79, neg_cosine: 0.74\n",
      "Epoch: 547 Loss: 0.93, pos_cosine: 0.80, neg_cosine: 0.73\n",
      "Epoch: 548 Loss: 0.92, pos_cosine: 0.79, neg_cosine: 0.71\n",
      "Epoch: 549 Loss: 0.95, pos_cosine: 0.78, neg_cosine: 0.73\n",
      "Epoch: 550 Loss: 0.95, pos_cosine: 0.78, neg_cosine: 0.73\n",
      "Epoch: 551 Loss: 0.95, pos_cosine: 0.78, neg_cosine: 0.74\n",
      "Epoch: 552 Loss: 0.94, pos_cosine: 0.77, neg_cosine: 0.71\n",
      "Epoch: 553 Loss: 0.98, pos_cosine: 0.77, neg_cosine: 0.75\n",
      "Epoch: 554 Loss: 0.96, pos_cosine: 0.76, neg_cosine: 0.73\n",
      "Epoch: 555 Loss: 0.95, pos_cosine: 0.79, neg_cosine: 0.73\n",
      "Epoch: 556 Loss: 0.94, pos_cosine: 0.79, neg_cosine: 0.74\n",
      "Epoch: 557 Loss: 0.93, pos_cosine: 0.79, neg_cosine: 0.72\n",
      "Epoch: 558 Loss: 0.94, pos_cosine: 0.79, neg_cosine: 0.73\n",
      "Epoch: 559 Loss: 0.96, pos_cosine: 0.77, neg_cosine: 0.73\n",
      "Epoch: 560 Loss: 0.92, pos_cosine: 0.81, neg_cosine: 0.73\n",
      "Epoch: 561 Loss: 0.96, pos_cosine: 0.77, neg_cosine: 0.73\n",
      "Epoch: 562 Loss: 0.96, pos_cosine: 0.79, neg_cosine: 0.75\n",
      "Epoch: 563 Loss: 0.97, pos_cosine: 0.77, neg_cosine: 0.74\n",
      "Epoch: 564 Loss: 0.94, pos_cosine: 0.80, neg_cosine: 0.74\n",
      "Epoch: 565 Loss: 0.97, pos_cosine: 0.75, neg_cosine: 0.73\n",
      "Epoch: 566 Loss: 0.98, pos_cosine: 0.76, neg_cosine: 0.74\n",
      "Epoch: 567 Loss: 0.95, pos_cosine: 0.78, neg_cosine: 0.73\n",
      "Epoch: 568 Loss: 0.94, pos_cosine: 0.79, neg_cosine: 0.73\n",
      "Epoch: 569 Loss: 0.96, pos_cosine: 0.77, neg_cosine: 0.73\n",
      "Epoch: 570 Loss: 0.93, pos_cosine: 0.80, neg_cosine: 0.73\n",
      "Epoch: 571 Loss: 0.97, pos_cosine: 0.76, neg_cosine: 0.73\n",
      "Epoch: 572 Loss: 0.96, pos_cosine: 0.77, neg_cosine: 0.73\n",
      "Epoch: 573 Loss: 0.95, pos_cosine: 0.78, neg_cosine: 0.73\n",
      "Epoch: 574 Loss: 0.95, pos_cosine: 0.78, neg_cosine: 0.73\n",
      "Epoch: 575 Loss: 0.96, pos_cosine: 0.79, neg_cosine: 0.75\n",
      "Epoch: 576 Loss: 0.96, pos_cosine: 0.77, neg_cosine: 0.72\n",
      "Epoch: 577 Loss: 1.00, pos_cosine: 0.74, neg_cosine: 0.74\n",
      "Epoch: 578 Loss: 0.97, pos_cosine: 0.76, neg_cosine: 0.73\n",
      "Epoch: 579 Loss: 0.94, pos_cosine: 0.78, neg_cosine: 0.72\n",
      "Epoch: 580 Loss: 0.95, pos_cosine: 0.77, neg_cosine: 0.72\n",
      "Epoch: 581 Loss: 0.93, pos_cosine: 0.78, neg_cosine: 0.71\n",
      "Epoch: 582 Loss: 0.97, pos_cosine: 0.75, neg_cosine: 0.72\n",
      "Epoch: 583 Loss: 0.95, pos_cosine: 0.78, neg_cosine: 0.73\n",
      "Epoch: 584 Loss: 0.93, pos_cosine: 0.78, neg_cosine: 0.71\n",
      "Epoch: 585 Loss: 0.93, pos_cosine: 0.80, neg_cosine: 0.73\n",
      "Epoch: 586 Loss: 0.95, pos_cosine: 0.78, neg_cosine: 0.74\n",
      "Epoch: 587 Loss: 0.94, pos_cosine: 0.79, neg_cosine: 0.73\n"
     ]
    },
    {
     "name": "stdout",
     "output_type": "stream",
     "text": [
      "Epoch: 588 Loss: 0.92, pos_cosine: 0.81, neg_cosine: 0.74\n",
      "Epoch: 589 Loss: 0.97, pos_cosine: 0.78, neg_cosine: 0.75\n",
      "Epoch: 590 Loss: 0.95, pos_cosine: 0.77, neg_cosine: 0.72\n",
      "Epoch: 591 Loss: 0.93, pos_cosine: 0.78, neg_cosine: 0.71\n",
      "Epoch: 592 Loss: 0.95, pos_cosine: 0.77, neg_cosine: 0.72\n",
      "Epoch: 593 Loss: 0.99, pos_cosine: 0.76, neg_cosine: 0.75\n",
      "Epoch: 594 Loss: 0.95, pos_cosine: 0.79, neg_cosine: 0.75\n",
      "Epoch: 595 Loss: 0.96, pos_cosine: 0.76, neg_cosine: 0.71\n",
      "Epoch: 596 Loss: 0.94, pos_cosine: 0.78, neg_cosine: 0.73\n",
      "Epoch: 597 Loss: 0.94, pos_cosine: 0.79, neg_cosine: 0.73\n",
      "Epoch: 598 Loss: 0.93, pos_cosine: 0.81, neg_cosine: 0.74\n",
      "Epoch: 599 Loss: 0.97, pos_cosine: 0.76, neg_cosine: 0.74\n",
      "Epoch: 600 Loss: 0.93, pos_cosine: 0.80, neg_cosine: 0.73\n",
      "Epoch: 601 Loss: 0.97, pos_cosine: 0.77, neg_cosine: 0.74\n",
      "Epoch: 602 Loss: 0.95, pos_cosine: 0.78, neg_cosine: 0.72\n",
      "Epoch: 603 Loss: 0.94, pos_cosine: 0.77, neg_cosine: 0.71\n",
      "Epoch: 604 Loss: 0.93, pos_cosine: 0.80, neg_cosine: 0.73\n",
      "Epoch: 605 Loss: 0.94, pos_cosine: 0.79, neg_cosine: 0.73\n",
      "Epoch: 606 Loss: 0.96, pos_cosine: 0.78, neg_cosine: 0.74\n",
      "Epoch: 607 Loss: 0.96, pos_cosine: 0.79, neg_cosine: 0.75\n",
      "Epoch: 608 Loss: 0.98, pos_cosine: 0.77, neg_cosine: 0.74\n",
      "Epoch: 609 Loss: 0.99, pos_cosine: 0.76, neg_cosine: 0.76\n",
      "Epoch: 610 Loss: 0.94, pos_cosine: 0.80, neg_cosine: 0.74\n",
      "Epoch: 611 Loss: 0.99, pos_cosine: 0.77, neg_cosine: 0.76\n",
      "Epoch: 612 Loss: 0.94, pos_cosine: 0.79, neg_cosine: 0.74\n",
      "Epoch: 613 Loss: 0.93, pos_cosine: 0.80, neg_cosine: 0.73\n",
      "Epoch: 614 Loss: 0.95, pos_cosine: 0.78, neg_cosine: 0.73\n",
      "Epoch: 615 Loss: 0.94, pos_cosine: 0.82, neg_cosine: 0.75\n",
      "Epoch: 616 Loss: 0.94, pos_cosine: 0.79, neg_cosine: 0.73\n",
      "Epoch: 617 Loss: 0.94, pos_cosine: 0.78, neg_cosine: 0.72\n",
      "Epoch: 618 Loss: 0.97, pos_cosine: 0.77, neg_cosine: 0.73\n",
      "Epoch: 619 Loss: 0.96, pos_cosine: 0.78, neg_cosine: 0.74\n",
      "Epoch: 620 Loss: 0.93, pos_cosine: 0.79, neg_cosine: 0.72\n",
      "Epoch: 621 Loss: 0.94, pos_cosine: 0.80, neg_cosine: 0.75\n",
      "Epoch: 622 Loss: 0.95, pos_cosine: 0.79, neg_cosine: 0.74\n",
      "Epoch: 623 Loss: 0.92, pos_cosine: 0.81, neg_cosine: 0.73\n",
      "Epoch: 624 Loss: 0.98, pos_cosine: 0.76, neg_cosine: 0.74\n",
      "Epoch: 625 Loss: 0.93, pos_cosine: 0.81, neg_cosine: 0.74\n",
      "Epoch: 626 Loss: 0.95, pos_cosine: 0.79, neg_cosine: 0.75\n",
      "Epoch: 627 Loss: 0.96, pos_cosine: 0.80, neg_cosine: 0.76\n",
      "Epoch: 628 Loss: 0.90, pos_cosine: 0.84, neg_cosine: 0.74\n",
      "Epoch: 629 Loss: 0.95, pos_cosine: 0.81, neg_cosine: 0.76\n",
      "Epoch: 630 Loss: 0.90, pos_cosine: 0.81, neg_cosine: 0.71\n",
      "Epoch: 631 Loss: 0.97, pos_cosine: 0.78, neg_cosine: 0.75\n",
      "Epoch: 632 Loss: 0.94, pos_cosine: 0.80, neg_cosine: 0.74\n",
      "Epoch: 633 Loss: 0.93, pos_cosine: 0.79, neg_cosine: 0.73\n",
      "Epoch: 634 Loss: 0.98, pos_cosine: 0.76, neg_cosine: 0.74\n",
      "Epoch: 635 Loss: 0.95, pos_cosine: 0.77, neg_cosine: 0.72\n",
      "Epoch: 636 Loss: 0.95, pos_cosine: 0.77, neg_cosine: 0.72\n",
      "Epoch: 637 Loss: 0.94, pos_cosine: 0.78, neg_cosine: 0.71\n",
      "Epoch: 638 Loss: 0.95, pos_cosine: 0.76, neg_cosine: 0.72\n",
      "Epoch: 639 Loss: 0.96, pos_cosine: 0.78, neg_cosine: 0.73\n",
      "Epoch: 640 Loss: 0.94, pos_cosine: 0.78, neg_cosine: 0.72\n",
      "Epoch: 641 Loss: 0.96, pos_cosine: 0.77, neg_cosine: 0.74\n",
      "Epoch: 642 Loss: 0.96, pos_cosine: 0.80, neg_cosine: 0.76\n",
      "Epoch: 643 Loss: 0.92, pos_cosine: 0.84, neg_cosine: 0.76\n",
      "Epoch: 644 Loss: 0.98, pos_cosine: 0.79, neg_cosine: 0.76\n",
      "Epoch: 645 Loss: 0.94, pos_cosine: 0.80, neg_cosine: 0.75\n",
      "Epoch: 646 Loss: 0.92, pos_cosine: 0.83, neg_cosine: 0.75\n",
      "Epoch: 647 Loss: 0.93, pos_cosine: 0.79, neg_cosine: 0.73\n",
      "Epoch: 648 Loss: 0.99, pos_cosine: 0.76, neg_cosine: 0.75\n",
      "Epoch: 649 Loss: 0.94, pos_cosine: 0.79, neg_cosine: 0.73\n",
      "Epoch: 650 Loss: 0.98, pos_cosine: 0.78, neg_cosine: 0.76\n",
      "Epoch: 651 Loss: 0.94, pos_cosine: 0.78, neg_cosine: 0.71\n",
      "Epoch: 652 Loss: 0.95, pos_cosine: 0.78, neg_cosine: 0.73\n",
      "Epoch: 653 Loss: 0.92, pos_cosine: 0.81, neg_cosine: 0.74\n",
      "Epoch: 654 Loss: 0.92, pos_cosine: 0.79, neg_cosine: 0.72\n",
      "Epoch: 655 Loss: 0.91, pos_cosine: 0.79, neg_cosine: 0.70\n",
      "Epoch: 656 Loss: 0.93, pos_cosine: 0.79, neg_cosine: 0.72\n",
      "Epoch: 657 Loss: 0.93, pos_cosine: 0.80, neg_cosine: 0.73\n",
      "Epoch: 658 Loss: 0.96, pos_cosine: 0.81, neg_cosine: 0.77\n",
      "Epoch: 659 Loss: 0.95, pos_cosine: 0.81, neg_cosine: 0.75\n",
      "Epoch: 660 Loss: 0.95, pos_cosine: 0.79, neg_cosine: 0.75\n",
      "Epoch: 661 Loss: 0.97, pos_cosine: 0.77, neg_cosine: 0.74\n",
      "Epoch: 662 Loss: 0.95, pos_cosine: 0.78, neg_cosine: 0.73\n",
      "Epoch: 663 Loss: 0.95, pos_cosine: 0.77, neg_cosine: 0.72\n",
      "Epoch: 664 Loss: 0.92, pos_cosine: 0.80, neg_cosine: 0.72\n",
      "Epoch: 665 Loss: 0.95, pos_cosine: 0.78, neg_cosine: 0.73\n",
      "Epoch: 666 Loss: 0.94, pos_cosine: 0.79, neg_cosine: 0.73\n",
      "Epoch: 667 Loss: 0.97, pos_cosine: 0.77, neg_cosine: 0.73\n",
      "Epoch: 668 Loss: 0.94, pos_cosine: 0.78, neg_cosine: 0.72\n",
      "Epoch: 669 Loss: 0.92, pos_cosine: 0.79, neg_cosine: 0.71\n",
      "Epoch: 670 Loss: 0.93, pos_cosine: 0.81, neg_cosine: 0.74\n",
      "Epoch: 671 Loss: 0.95, pos_cosine: 0.78, neg_cosine: 0.73\n",
      "Epoch: 672 Loss: 0.97, pos_cosine: 0.77, neg_cosine: 0.74\n",
      "Epoch: 673 Loss: 0.94, pos_cosine: 0.80, neg_cosine: 0.73\n",
      "Epoch: 674 Loss: 0.92, pos_cosine: 0.80, neg_cosine: 0.72\n",
      "Epoch: 675 Loss: 0.95, pos_cosine: 0.77, neg_cosine: 0.71\n",
      "Epoch: 676 Loss: 0.95, pos_cosine: 0.79, neg_cosine: 0.74\n",
      "Epoch: 677 Loss: 0.93, pos_cosine: 0.79, neg_cosine: 0.72\n",
      "Epoch: 678 Loss: 0.92, pos_cosine: 0.78, neg_cosine: 0.71\n",
      "Epoch: 679 Loss: 0.94, pos_cosine: 0.77, neg_cosine: 0.71\n",
      "Epoch: 680 Loss: 0.97, pos_cosine: 0.77, neg_cosine: 0.74\n",
      "Epoch: 681 Loss: 0.94, pos_cosine: 0.77, neg_cosine: 0.71\n",
      "Epoch: 682 Loss: 0.96, pos_cosine: 0.79, neg_cosine: 0.74\n",
      "Epoch: 683 Loss: 0.93, pos_cosine: 0.80, neg_cosine: 0.73\n",
      "Epoch: 684 Loss: 0.97, pos_cosine: 0.78, neg_cosine: 0.75\n",
      "Epoch: 685 Loss: 0.93, pos_cosine: 0.79, neg_cosine: 0.72\n",
      "Epoch: 686 Loss: 0.96, pos_cosine: 0.78, neg_cosine: 0.74\n",
      "Epoch: 687 Loss: 0.95, pos_cosine: 0.77, neg_cosine: 0.72\n",
      "Epoch: 688 Loss: 0.98, pos_cosine: 0.76, neg_cosine: 0.74\n",
      "Epoch: 689 Loss: 0.93, pos_cosine: 0.79, neg_cosine: 0.73\n",
      "Epoch: 690 Loss: 0.96, pos_cosine: 0.79, neg_cosine: 0.74\n",
      "Epoch: 691 Loss: 0.94, pos_cosine: 0.79, neg_cosine: 0.73\n",
      "Epoch: 692 Loss: 0.95, pos_cosine: 0.79, neg_cosine: 0.74\n",
      "Epoch: 693 Loss: 0.93, pos_cosine: 0.80, neg_cosine: 0.73\n",
      "Epoch: 694 Loss: 0.96, pos_cosine: 0.77, neg_cosine: 0.73\n",
      "Epoch: 695 Loss: 0.96, pos_cosine: 0.79, neg_cosine: 0.74\n",
      "Epoch: 696 Loss: 0.96, pos_cosine: 0.77, neg_cosine: 0.73\n",
      "Epoch: 697 Loss: 0.97, pos_cosine: 0.77, neg_cosine: 0.74\n",
      "Epoch: 698 Loss: 0.93, pos_cosine: 0.78, neg_cosine: 0.72\n",
      "Epoch: 699 Loss: 0.97, pos_cosine: 0.76, neg_cosine: 0.74\n",
      "Epoch: 700 Loss: 0.92, pos_cosine: 0.80, neg_cosine: 0.72\n",
      "Epoch: 701 Loss: 0.96, pos_cosine: 0.77, neg_cosine: 0.74\n",
      "Epoch: 702 Loss: 0.97, pos_cosine: 0.78, neg_cosine: 0.76\n",
      "Epoch: 703 Loss: 0.92, pos_cosine: 0.81, neg_cosine: 0.73\n",
      "Epoch: 704 Loss: 0.91, pos_cosine: 0.81, neg_cosine: 0.73\n",
      "Epoch: 705 Loss: 0.95, pos_cosine: 0.80, neg_cosine: 0.75\n",
      "Epoch: 706 Loss: 0.92, pos_cosine: 0.82, neg_cosine: 0.74\n",
      "Epoch: 707 Loss: 0.95, pos_cosine: 0.79, neg_cosine: 0.74\n",
      "Epoch: 708 Loss: 0.97, pos_cosine: 0.78, neg_cosine: 0.76\n",
      "Epoch: 709 Loss: 0.92, pos_cosine: 0.79, neg_cosine: 0.71\n",
      "Epoch: 710 Loss: 0.96, pos_cosine: 0.76, neg_cosine: 0.72\n",
      "Epoch: 711 Loss: 0.94, pos_cosine: 0.78, neg_cosine: 0.72\n",
      "Epoch: 712 Loss: 0.97, pos_cosine: 0.78, neg_cosine: 0.74\n",
      "Epoch: 713 Loss: 0.94, pos_cosine: 0.79, neg_cosine: 0.74\n",
      "Epoch: 714 Loss: 0.94, pos_cosine: 0.79, neg_cosine: 0.73\n",
      "Epoch: 715 Loss: 0.94, pos_cosine: 0.79, neg_cosine: 0.73\n",
      "Epoch: 716 Loss: 0.92, pos_cosine: 0.79, neg_cosine: 0.72\n",
      "Epoch: 717 Loss: 0.94, pos_cosine: 0.77, neg_cosine: 0.71\n",
      "Epoch: 718 Loss: 0.97, pos_cosine: 0.77, neg_cosine: 0.74\n",
      "Epoch: 719 Loss: 0.95, pos_cosine: 0.77, neg_cosine: 0.72\n",
      "Epoch: 720 Loss: 0.94, pos_cosine: 0.78, neg_cosine: 0.72\n"
     ]
    }
   ],
   "source": [
    "%%time\n",
    "import os\n",
    "\n",
    "print(\"Batch size \", batch_size)\n",
    "\n",
    "# Inspired on https://'pastebin.com/TaGFdcBA\n",
    "keras.backend.clear_session()\n",
    "\n",
    "# Feature models\n",
    "'''\n",
    "    cnn_dilated_model\n",
    "    arcii_model\n",
    "    cnn_model\n",
    "    lstm_model\n",
    "    bilstm_model\n",
    "'''\n",
    "# title_feature_model = bilstm_model(title_embedding_layer, MAX_SEQUENCE_LENGTH_T)\n",
    "title_feature_model = bert_model(MAX_SEQUENCE_LENGTH_T, 'Title')\n",
    "desc_feature_model = bert_model(MAX_SEQUENCE_LENGTH_D, 'Description')\n",
    "#desc_feature_model = cnn_model(desc_embedding_layer, MAX_SEQUENCE_LENGTH_D)\n",
    "categorical_feature_model = mlp_model(number_of_columns_info)\n",
    "\n",
    "# Similarity model\n",
    "encoded_anchor = siamese_model(title_feature_model, desc_feature_model, categorical_feature_model, \n",
    "                                     number_of_columns_info, MAX_SEQUENCE_LENGTH_T, MAX_SEQUENCE_LENGTH_D, 'in')\n",
    "encoded_positive = siamese_model(title_feature_model, desc_feature_model, categorical_feature_model, \n",
    "                                     number_of_columns_info, MAX_SEQUENCE_LENGTH_T, MAX_SEQUENCE_LENGTH_D, 'pos')\n",
    "encoded_negative = siamese_model(title_feature_model, desc_feature_model, categorical_feature_model, \n",
    "                                     number_of_columns_info, MAX_SEQUENCE_LENGTH_T, MAX_SEQUENCE_LENGTH_D, 'neg')\n",
    "\n",
    "\n",
    "NUMBER_OF_INSTANCES = len(baseline.dup_sets_train)\n",
    "BATCH_SIZE = batch_size\n",
    "EPOCHS = epochs\n",
    "\n",
    "similarity_model = max_margin_objective(encoded_anchor, encoded_positive, encoded_negative, \n",
    "                                            NUMBER_OF_INSTANCES, BATCH_SIZE, EPOCHS, decay_lr=1)\n",
    "\n",
    "# cnn_feature_model.summary()\n",
    "# lstm_feature_model.summary()\n",
    "similarity_model.summary()\n",
    "\n",
    "'''\n",
    "    Experiment\n",
    "'''\n",
    "for epoch in range(epochs):\n",
    "    batch_triplet_train, \\\n",
    "        train_input_sample, train_input_pos, train_input_neg, train_sim = experiment.batch_iterator_bert(encoded_anchor, baseline.train_data, baseline.dup_sets_train, bug_train_ids, \n",
    "                                       batch_size, 1, issues_by_buckets)\n",
    "    \n",
    "    train_batch = [train_input_sample['title']['token'], train_input_sample['title']['segment'], train_input_sample['description']['token'], train_input_sample['description']['segment'], train_input_sample['info'],\n",
    "                   train_input_pos['title']['token'], train_input_pos['title']['segment'], train_input_pos['description']['token'], train_input_pos['description']['segment'], train_input_pos['info'], \n",
    "                   train_input_neg['title']['token'], train_input_neg['title']['segment'], train_input_neg['description']['token'], train_input_neg['description']['segment'], train_input_neg['info']]\n",
    "    \n",
    "#     if epoch == 10:\n",
    "#         similarity_model = max_margin_objective(encoded_anchor, encoded_positive, encoded_negative, decay_lr=0.1)\n",
    "    \n",
    "    h = similarity_model.train_on_batch(x=train_batch, y=train_sim)\n",
    "    \n",
    "    if (epoch+1 == epochs): #(epoch > 1 and epoch % 10 == 0) or (epoch+1 == epochs):\n",
    "        recall, _, debug = experiment.evaluate_validation_test(retrieval, verbose, encoded_anchor, issues_by_buckets, \n",
    "                                                               bug_train_ids, method='bert')\n",
    "        print(\"Epoch: {} Loss: {:.2f}, pos_cosine: {:.2f}, neg_cosine: {:.2f}, recall@25: {:.2f}\".format(epoch+1,\n",
    "                                                                                                         h[0],\n",
    "                                                                                                         h[1], h[2], recall))\n",
    "    else:\n",
    "        print(\"Epoch: {} Loss: {:.2f}, pos_cosine: {:.2f}, neg_cosine: {:.2f}\".format(epoch+1,\n",
    "                                                                                                         h[0],\n",
    "                                                                                                         h[1],\n",
    "                                                                                                         h[2]))\n",
    "    loss = h[0]\n",
    "    \n",
    "    if loss < best_loss:\n",
    "        best_loss = loss\n",
    "        best_epoch = epoch+1\n",
    "\n",
    "experiment.save_model(similarity_model, SAVE_PATH.replace('@number_of_epochs@', str(epochs)))\n",
    "experiment.save_model(encoded_anchor, SAVE_PATH_FEATURE.replace('@number_of_epochs@', str(epochs)), verbose=1)\n",
    "print('Best_epoch={}, Best_loss={:.2f}s, Recall@25={:.2f}'.format(best_epoch, best_loss, recall))"
   ]
  },
  {
   "cell_type": "code",
   "execution_count": null,
   "metadata": {},
   "outputs": [],
   "source": [
    "recall"
   ]
  },
  {
   "cell_type": "code",
   "execution_count": null,
   "metadata": {
    "scrolled": true
   },
   "outputs": [],
   "source": [
    "_[:20]"
   ]
  },
  {
   "cell_type": "code",
   "execution_count": null,
   "metadata": {},
   "outputs": [],
   "source": [
    "# recall, exported_rank, debug = experiment.evaluate_validation_test(experiment, retrieval, verbose, \n",
    "#                                                         encoded_anchor, issues_by_buckets, evaluate_validation_test)\n",
    "# test_vectorized, queries_test_vectorized, annoy, X_test, distance_test, indices_test = debug\n",
    "# \"recall@25 last epoch:\", recall"
   ]
  },
  {
   "cell_type": "markdown",
   "metadata": {},
   "source": [
    "### Retrieval evaluation"
   ]
  },
  {
   "cell_type": "code",
   "execution_count": null,
   "metadata": {},
   "outputs": [],
   "source": [
    "print(\"Total of queries:\", len(retrieval.test))"
   ]
  },
  {
   "cell_type": "markdown",
   "metadata": {},
   "source": [
    "#### Getting the model trained"
   ]
  },
  {
   "cell_type": "code",
   "execution_count": null,
   "metadata": {},
   "outputs": [],
   "source": [
    "SAVE_PATH_FEATURE.replace('@number_of_epochs@', str(epochs))"
   ]
  },
  {
   "cell_type": "code",
   "execution_count": null,
   "metadata": {},
   "outputs": [],
   "source": [
    "model = encoded_anchor\n",
    "# model = experiment.get_model_vectorizer(path=SAVE_PATH_FEATURE.replace('@number_of_epochs@', str(epochs)))"
   ]
  },
  {
   "cell_type": "code",
   "execution_count": null,
   "metadata": {},
   "outputs": [],
   "source": [
    "model.summary()"
   ]
  },
  {
   "cell_type": "code",
   "execution_count": null,
   "metadata": {},
   "outputs": [],
   "source": [
    "recall, exported_rank, debug = experiment.evaluate_validation_test(retrieval, 0, model, issues_by_buckets, \n",
    "                                                                   bug_train_ids, method='bert')"
   ]
  },
  {
   "cell_type": "code",
   "execution_count": null,
   "metadata": {},
   "outputs": [],
   "source": [
    "EXPORT_RANK_PATH = os.path.join(DIR, 'exported_rank_{}.txt'.format(METHOD))\n",
    "EXPORT_RANK_PATH"
   ]
  },
  {
   "cell_type": "code",
   "execution_count": null,
   "metadata": {},
   "outputs": [],
   "source": [
    "with open(EXPORT_RANK_PATH, 'w') as file_out:\n",
    "    for row in exported_rank:\n",
    "        file_out.write(row + \"\\n\")"
   ]
  },
  {
   "cell_type": "code",
   "execution_count": null,
   "metadata": {},
   "outputs": [],
   "source": [
    "report = experiment.evaluation.evaluate(EXPORT_RANK_PATH)\n",
    "report"
   ]
  }
 ],
 "metadata": {
  "accelerator": "GPU",
  "colab": {
   "collapsed_sections": [],
   "name": "[baseline] Bug triage with Deep Learning.ipynb",
   "provenance": [],
   "toc_visible": true,
   "version": "0.3.2"
  },
  "kernelspec": {
   "display_name": "Python 3",
   "language": "python",
   "name": "python3"
  },
  "language_info": {
   "codemirror_mode": {
    "name": "ipython",
    "version": 3
   },
   "file_extension": ".py",
   "mimetype": "text/x-python",
   "name": "python",
   "nbconvert_exporter": "python",
   "pygments_lexer": "ipython3",
   "version": "3.5.2"
  }
 },
 "nbformat": 4,
 "nbformat_minor": 1
}
