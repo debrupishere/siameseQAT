{
 "cells": [
  {
   "cell_type": "markdown",
   "metadata": {},
   "source": [
    "# Result"
   ]
  },
  {
   "cell_type": "code",
   "execution_count": 10,
   "metadata": {},
   "outputs": [],
   "source": [
    "import os\n",
    "import numpy as np\n",
    "import pandas as pd\n",
    "import matplotlib.pyplot as plt\n",
    "\n",
    "import sys\n",
    "nb_dir = os.path.split(os.getcwd())[0]\n",
    "if nb_dir not in sys.path:\n",
    "    sys.path.append(nb_dir)\n",
    "\n",
    "%matplotlib inline"
   ]
  },
  {
   "cell_type": "code",
   "execution_count": 2,
   "metadata": {},
   "outputs": [],
   "source": [
    "from methods.evaluation import Evaluation"
   ]
  },
  {
   "cell_type": "code",
   "execution_count": 3,
   "metadata": {},
   "outputs": [],
   "source": [
    "# Domain to use\n",
    "DOMAIN = 'eclipse'\n",
    "# Dataset paths\n",
    "DIR = 'data/processed/{}'.format(DOMAIN)"
   ]
  },
  {
   "cell_type": "code",
   "execution_count": 87,
   "metadata": {},
   "outputs": [
    {
     "name": "stdout",
     "output_type": "stream",
     "text": [
      "data/processed/eclipse/exported_rank_doc2vec.txt\n",
      "data/processed/eclipse/exported_rank_fasttext.txt\n"
     ]
    }
   ],
   "source": [
    "recall = []\n",
    "df = pd.DataFrame(columns=['method', 'recall', 'index'])\n",
    "methods, recall_index = [], []\n",
    "for method in ['_doc2vec', '_fasttext']:\n",
    "    evaluation = Evaluation(0)\n",
    "    path = os.path.join(DIR, 'exported_rank{}.txt'.format(method))\n",
    "    print(path)\n",
    "    report = evaluation.evaluate(path)\n",
    "    recall.append(report['1 - recall_at_5'])\n",
    "    recall.append(report['2 - recall_at_10'])\n",
    "    recall.append(report['3 - recall_at_15'])\n",
    "    recall.append(report['4 - recall_at_20'])\n",
    "    recall.append(report['5 - recall_at_25'])\n",
    "    methods += [method] * 5\n",
    "    recall_index += [5, 10, 15, 20, 25]\n",
    "\n",
    "df['recall'] = recall\n",
    "df['index'] = recall_index\n",
    "\n",
    "#df = df.set_index('index')\n",
    "\n",
    "df['method'] = methods"
   ]
  },
  {
   "cell_type": "code",
   "execution_count": 91,
   "metadata": {},
   "outputs": [
    {
     "data": {
      "image/png": "[encoded data removed]",
      "text/plain": [
       "<Figure size 432x288 with 1 Axes>"
      ]
     },
     "metadata": {
      "needs_background": "light"
     },
     "output_type": "display_data"
    }
   ],
   "source": [
    "methods = df['method'].unique()\n",
    "for method in methods:\n",
    "    if ax:\n",
    "        ax = df[df['method'] == method].plot(x='index', y='recall', label=method.replace('_', ''), ax=ax)\n",
    "    else:\n",
    "        ax = df[df['method'] == method].plot(x='index', y='recall', label=method.replace('_', ''))\n",
    "if ax:\n",
    "    ax.set_title('{} dataset'.format(DOMAIN))\n",
    "ax = None"
   ]
  }
 ],
 "metadata": {
  "kernelspec": {
   "display_name": "Python 3",
   "language": "python",
   "name": "python3"
  },
  "language_info": {
   "codemirror_mode": {
    "name": "ipython",
    "version": 3
   },
   "file_extension": ".py",
   "mimetype": "text/x-python",
   "name": "python",
   "nbconvert_exporter": "python",
   "pygments_lexer": "ipython3",
   "version": "3.5.2"
  }
 },
 "nbformat": 4,
 "nbformat_minor": 2
}
