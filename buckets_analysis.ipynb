{
 "cells": [
  {
   "cell_type": "markdown",
   "metadata": {},
   "source": [
    "### Ploting buckets after training"
   ]
  },
  {
   "cell_type": "code",
   "execution_count": 38,
   "metadata": {},
   "outputs": [],
   "source": [
    "import re\n",
    "import numpy as np\n",
    "import pandas as pd\n",
    "\n",
    "import os\n",
    "from tqdm import tqdm_notebook as tqdm\n",
    "import matplotlib.pyplot as plt\n",
    "import sys\n",
    "from annoy import AnnoyIndex\n",
    "nb_dir = os.path.split(os.getcwd())[0]\n",
    "if nb_dir not in sys.path:\n",
    "    sys.path.append(nb_dir)\n",
    "\n",
    "import seaborn as sns\n",
    "\n",
    "from keras.layers import Concatenate, Add, Lambda, merge, Average\n",
    "\n",
    "%matplotlib inline"
   ]
  },
  {
   "cell_type": "code",
   "execution_count": 39,
   "metadata": {},
   "outputs": [],
   "source": [
    "from methods.baseline import Baseline\n",
    "from methods.experiments import Experiment\n",
    "from methods.evaluation import Evaluation\n",
    "from methods.retrieval import Retrieval"
   ]
  },
  {
   "cell_type": "code",
   "execution_count": 40,
   "metadata": {},
   "outputs": [],
   "source": [
    "MAX_SEQUENCE_LENGTH_T = 20 # 100\n",
    "MAX_SEQUENCE_LENGTH_D = 20 # 500\n",
    "EMBEDDING_DIM = 300\n",
    "MAX_NB_WORDS = 20000"
   ]
  },
  {
   "cell_type": "code",
   "execution_count": 41,
   "metadata": {},
   "outputs": [],
   "source": [
    "# Domain to use\n",
    "DOMAIN = 'openoffice'\n",
    "'''\n",
    "    deepQL_topics_\n",
    "    deepTL_topics_\n",
    "    deepTL_\n",
    "    baseline_\n",
    "'''\n",
    "METHOD = 'deepQL_topics_'\n",
    "EMBEDDING_METHOD = 'bert-topic'\n",
    "PREPROCESSING = 'bert'\n",
    "# Dataset paths\n",
    "DIR = 'data/processed/{}/{}'.format(DOMAIN, PREPROCESSING)\n",
    "DIR_PAIRS = 'data/normalized/{}'.format(DOMAIN)\n",
    "DATASET = os.path.join('data/normalized/{}'.format(DOMAIN), '{}.csv'.format(DOMAIN))\n",
    "# Glove embeddings\n",
    "GLOVE_DIR='data/embed'\n",
    "# Save model\n",
    "SAVE_PATH = '{}@number_of_epochs@_feature@number_of_epochs@epochs_64batch({})'.format(METHOD, DOMAIN)\n",
    "SAVE_PATH_FEATURE_1_EPOCH = '{}_preprocessing_{}1_feature_1epochs_64batch({})'.format(PREPROCESSING, METHOD,  DOMAIN)\n",
    "SAVE_PATH_FEATURE = '{}_preprocessing_{}@number_of_epochs@_feature_@number_of_epochs@epochs_64batch({})'.format(PREPROCESSING, METHOD, DOMAIN)\n",
    "\n",
    "# Extract CORPUs\n",
    "EXTRACT_CORPUS = False"
   ]
  },
  {
   "cell_type": "code",
   "execution_count": 42,
   "metadata": {},
   "outputs": [],
   "source": [
    "import os\n",
    "\n",
    "pretrained_path = 'uncased_L-12_H-768_A-12'\n",
    "config_path = os.path.join(pretrained_path, 'bert_config.json')\n",
    "model_path = os.path.join(pretrained_path, 'bert_model.ckpt')\n",
    "vocab_path = os.path.join(pretrained_path, 'vocab.txt')"
   ]
  },
  {
   "cell_type": "code",
   "execution_count": 43,
   "metadata": {},
   "outputs": [],
   "source": [
    "from keras_bert import load_vocabulary\n",
    "\n",
    "token_dict = load_vocabulary(vocab_path)"
   ]
  },
  {
   "cell_type": "code",
   "execution_count": 44,
   "metadata": {},
   "outputs": [
    {
     "data": {
      "text/plain": [
       "'Total vocabulary: 30522'"
      ]
     },
     "execution_count": 44,
     "metadata": {},
     "output_type": "execute_result"
    }
   ],
   "source": [
    "\"Total vocabulary: {}\".format(len(token_dict))"
   ]
  },
  {
   "cell_type": "code",
   "execution_count": 45,
   "metadata": {},
   "outputs": [],
   "source": [
    "baseline = Baseline(DOMAIN, DIR, DATASET, MAX_SEQUENCE_LENGTH_T, MAX_SEQUENCE_LENGTH_D, token_dict['[CLS]'], token_dict['[SEP]'])\n",
    "evaluation = Evaluation(verbose=0)\n",
    "retrieval = Retrieval()\n",
    "experiment = Experiment(baseline, evaluation)"
   ]
  },
  {
   "cell_type": "code",
   "execution_count": 46,
   "metadata": {},
   "outputs": [],
   "source": [
    "experiment.set_retrieval(retrieval, baseline, DOMAIN)"
   ]
  },
  {
   "cell_type": "code",
   "execution_count": 47,
   "metadata": {},
   "outputs": [
    {
     "name": "stdout",
     "output_type": "stream",
     "text": [
      "Reading bug ids\n"
     ]
    },
    {
     "data": {
      "text/plain": [
       "98070"
      ]
     },
     "execution_count": 47,
     "metadata": {},
     "output_type": "execute_result"
    }
   ],
   "source": [
    "experiment.load_ids()\n",
    "len(baseline.bug_ids)"
   ]
  },
  {
   "cell_type": "code",
   "execution_count": 48,
   "metadata": {
    "scrolled": true
   },
   "outputs": [
    {
     "data": {
      "application/vnd.jupyter.widget-view+json": {
       "model_id": "ef70198903d4479e8ce20a7a18ab65bb",
       "version_major": 2,
       "version_minor": 0
      },
      "text/plain": [
       "HBox(children=(IntProgress(value=0, max=98070), HTML(value='')))"
      ]
     },
     "metadata": {},
     "output_type": "display_data"
    },
    {
     "name": "stdout",
     "output_type": "stream",
     "text": [
      "\n"
     ]
    },
    {
     "data": {
      "application/vnd.jupyter.widget-view+json": {
       "model_id": "ab16bad9f04840efb3afddd2667d8457",
       "version_major": 2,
       "version_minor": 0
      },
      "text/plain": [
       "HBox(children=(IntProgress(value=1, bar_style='info', max=1), HTML(value='')))"
      ]
     },
     "metadata": {},
     "output_type": "display_data"
    },
    {
     "name": "stdout",
     "output_type": "stream",
     "text": [
      "\n",
      "CPU times: user 17.9 s, sys: 975 ms, total: 18.9 s\n",
      "Wall time: 20.9 s\n"
     ]
    }
   ],
   "source": [
    "%%time\n",
    "\n",
    "experiment.load_bugs()\n",
    "len(baseline.sentence_dict)"
   ]
  },
  {
   "cell_type": "code",
   "execution_count": 49,
   "metadata": {},
   "outputs": [
    {
     "data": {
      "application/vnd.jupyter.widget-view+json": {
       "model_id": "fcecda79902444109af7d3104307faf3",
       "version_major": 2,
       "version_minor": 0
      },
      "text/plain": [
       "HBox(children=(IntProgress(value=0, max=98070), HTML(value='')))"
      ]
     },
     "metadata": {},
     "output_type": "display_data"
    },
    {
     "name": "stdout",
     "output_type": "stream",
     "text": [
      "\n"
     ]
    }
   ],
   "source": [
    "issues_by_buckets = experiment.get_buckets_for_bugs()"
   ]
  },
  {
   "cell_type": "code",
   "execution_count": 50,
   "metadata": {},
   "outputs": [
    {
     "name": "stdout",
     "output_type": "stream",
     "text": [
      "CPU times: user 4.14 s, sys: 46.1 ms, total: 4.18 s\n",
      "Wall time: 4.54 s\n"
     ]
    }
   ],
   "source": [
    "%%time\n",
    "\n",
    "experiment.prepare_dataset(issues_by_buckets, path_train='train_chronological', path_test='test_chronological')\n",
    "# Read and create the test queries duplicates\n",
    "experiment.set_retrieval(retrieval, baseline, DOMAIN)"
   ]
  },
  {
   "cell_type": "code",
   "execution_count": 51,
   "metadata": {},
   "outputs": [],
   "source": [
    "bug_train_ids = experiment.get_train_ids(baseline.train_data)"
   ]
  },
  {
   "cell_type": "code",
   "execution_count": 52,
   "metadata": {},
   "outputs": [],
   "source": [
    "from sklearn.manifold import TSNE\n",
    "import random\n",
    "\n",
    "def plot_2d(test_labels, tsne_features, categories, colors=None, name=''):\n",
    "    test_labels = np.asarray(test_labels)\n",
    "#     test_labels = np.sort(test_labels)\n",
    "    if colors is None:\n",
    "        colors = [(random.uniform(.25, .75), random.uniform(.5, .75), random.uniform(.5, .75)) for i in enumerate(test_labels)]\n",
    "    plt.figure(figsize=(10, 10))\n",
    "    categories = np.asarray(categories)\n",
    "    ind = categories.argsort()[::-1]\n",
    "    categories = categories[ind]\n",
    "    for c_color, c_label in zip(colors, categories):\n",
    "        plt.scatter(tsne_features[np.where(test_labels == c_label), 0],\n",
    "                    tsne_features[np.where(test_labels == c_label), 1],\n",
    "                    marker='o',\n",
    "                    color=c_color,\n",
    "                    linewidth='1',\n",
    "                    alpha=0.9,\n",
    "                    label=c_label)\n",
    "    plt.xlabel('Dimension 1')\n",
    "    plt.ylabel('Dimension 2')\n",
    "    plt.title('t-SNE on Buckets')\n",
    "    plt.legend(categories, loc='upper center', bbox_to_anchor=(0.5, -0.05), prop={'size': 22})\n",
    "    plt.savefig('resultados/{}.png'.format(name), bbox_inches=\"tight\")\n",
    "    plt.show(block=False)\n",
    "    if colors is not None:\n",
    "        return colors\n",
    "\n",
    "def create_features(x_test_features):\n",
    "#     tsne_obj = TSNE(n_components=2,\n",
    "#                             init='pca',\n",
    "#                             random_state=101,\n",
    "#                             method='barnes_hut',\n",
    "#                             n_iter=500,\n",
    "#                             verbose=0)\n",
    "    tsne_obj = TSNE(n_components=2, verbose=1, perplexity=40, n_iter=300)\n",
    "    tsne_features = tsne_obj.fit_transform(x_test_features)\n",
    "    return tsne_features"
   ]
  },
  {
   "cell_type": "markdown",
   "metadata": {},
   "source": [
    "### Model 1000"
   ]
  },
  {
   "cell_type": "code",
   "execution_count": 53,
   "metadata": {},
   "outputs": [
    {
     "data": {
      "text/plain": [
       "'modelos/model_bert_preprocessing_deepQL_topics_1000_feature_1000epochs_64batch(openoffice).h5'"
      ]
     },
     "execution_count": 53,
     "metadata": {},
     "output_type": "execute_result"
    }
   ],
   "source": [
    "'modelos/model_' + SAVE_PATH_FEATURE.replace('@number_of_epochs@', '1000') + '.h5'"
   ]
  },
  {
   "cell_type": "code",
   "execution_count": 54,
   "metadata": {
    "scrolled": true
   },
   "outputs": [
    {
     "name": "stderr",
     "output_type": "stream",
     "text": [
      "/usr/local/lib/python3.5/dist-packages/keras/engine/saving.py:292: UserWarning: No training configuration found in save file: the model was *not* compiled. Compile it manually.\n",
      "  warnings.warn('No training configuration found in save file: '\n"
     ]
    }
   ],
   "source": [
    "import os\n",
    "from keras.models import load_model\n",
    "import keras.backend as K\n",
    "from keras_bert import get_custom_objects\n",
    "\n",
    "os.environ['CUDA_VISIBLE_DEVICES'] = '-1'\n",
    "model = load_model('modelos/model_' + SAVE_PATH_FEATURE.replace('@number_of_epochs@', '1000') + '.h5', custom_objects=get_custom_objects())"
   ]
  },
  {
   "cell_type": "markdown",
   "metadata": {},
   "source": [
    "### Model 1"
   ]
  },
  {
   "cell_type": "code",
   "execution_count": 55,
   "metadata": {},
   "outputs": [
    {
     "data": {
      "text/plain": [
       "'modelos/model_bert_preprocessing_deepQL_topics_1_feature_1epochs_64batch(openoffice).h5'"
      ]
     },
     "execution_count": 55,
     "metadata": {},
     "output_type": "execute_result"
    }
   ],
   "source": [
    "'modelos/model_' + SAVE_PATH_FEATURE_1_EPOCH + '.h5'"
   ]
  },
  {
   "cell_type": "code",
   "execution_count": 56,
   "metadata": {},
   "outputs": [
    {
     "name": "stderr",
     "output_type": "stream",
     "text": [
      "/usr/local/lib/python3.5/dist-packages/keras/engine/saving.py:292: UserWarning: No training configuration found in save file: the model was *not* compiled. Compile it manually.\n",
      "  warnings.warn('No training configuration found in save file: '\n"
     ]
    }
   ],
   "source": [
    "try:\n",
    "    model_1_epoch = load_model('modelos/model_' + SAVE_PATH_FEATURE_1_EPOCH + '.h5', custom_objects=get_custom_objects())\n",
    "except:\n",
    "    model_1_epoch = None"
   ]
  },
  {
   "cell_type": "code",
   "execution_count": 57,
   "metadata": {},
   "outputs": [],
   "source": [
    "buckets_2_dups = [bucket for bucket in retrieval.buckets if len(retrieval.buckets[bucket]) == 2]\n",
    "buckets_biggest_2_dups = [bucket for bucket in retrieval.buckets if len(retrieval.buckets[bucket]) > 2]\n",
    "buckets_3_dups = [bucket for bucket in retrieval.buckets if len(retrieval.buckets[bucket]) == 3]\n",
    "buckets_5_dups = [bucket for bucket in retrieval.buckets if len(retrieval.buckets[bucket]) == 5]\n",
    "buckets_between_5_and_10_dups = [bucket for bucket in retrieval.buckets if len(retrieval.buckets[bucket]) > 5 and len(retrieval.buckets[bucket]) <= 10]\n",
    "buckets_biggest_10_dups = [bucket for bucket in retrieval.buckets if len(retrieval.buckets[bucket]) > 10]"
   ]
  },
  {
   "cell_type": "code",
   "execution_count": 58,
   "metadata": {
    "scrolled": false
   },
   "outputs": [
    {
     "data": {
      "text/plain": [
       "(12549, 8824, 3327, 1325, 2868, 3285)"
      ]
     },
     "execution_count": 58,
     "metadata": {},
     "output_type": "execute_result"
    }
   ],
   "source": [
    "len(buckets_biggest_2_dups), len(buckets_2_dups), len(buckets_3_dups), len(buckets_5_dups), len(buckets_between_5_and_10_dups), len(buckets_biggest_10_dups)"
   ]
  },
  {
   "cell_type": "code",
   "execution_count": 109,
   "metadata": {},
   "outputs": [],
   "source": [
    "import numpy as np\n",
    "from keras import layers\n",
    "\n",
    "def create_tsne_vector(model, method='bert'):\n",
    "    test_features = []\n",
    "    title_data, title_data_seg, desc_data, desc_data_seg, info_data, topic_data = [], [], [], [], [], []\n",
    "    categories = []\n",
    "    bug_ids = []\n",
    "    bucket_labels = set()\n",
    "    \n",
    "    config = model.get_config()\n",
    "    if method == 'keras':\n",
    "        max_vocab = config['layers'][4]['config']['layers'][1]['config']['input_dim']\n",
    "    if method == 'dwen':\n",
    "        max_vocab = 1\n",
    "\n",
    "    for row  in bucket_dups_selected:\n",
    "        bug_id, bucket_id = row\n",
    "        # bucket and dups\n",
    "        if bug_id not in baseline.bug_set: continue\n",
    "        if bug_id in retrieval.buckets:\n",
    "            label = 'duplicate_of_{}'.format(bucket_id)\n",
    "            categories.append(label)\n",
    "            bucket_labels.add(label)\n",
    "        else:\n",
    "            dup_label = 'duplicate_of_{}'.format(bucket_id)\n",
    "            categories.append(dup_label)\n",
    "            bucket_labels.add(dup_label)\n",
    "        bug = baseline.bug_set[bug_id]\n",
    "        bug_ids.append(bug_id)\n",
    "        \n",
    "        if method == 'keras' or method == 'dwen':\n",
    "            title_data.append([ max_vocab - 1 if v > max_vocab else v for v in bug['title_token']])\n",
    "        else:\n",
    "            title_data.append(bug['title_token'])\n",
    "        title_data_seg.append( [int(v > 0) for v in bug['title_token']] )\n",
    "        \n",
    "        if method == 'keras' or method == 'dwen':\n",
    "            desc_data.append([ max_vocab - 1 if v > max_vocab else v for v in bug['description_token']])\n",
    "        else:\n",
    "            desc_data.append(bug['description_token'])\n",
    "        desc_data_seg.append( [int(v > 0) for v in bug['description_token']] )\n",
    "        info_data.append(experiment.retrieval.get_info(bug))\n",
    "        if('topics' in bug):\n",
    "            topic_data.append(bug['topics'])\n",
    "    bucket_labels = list(bucket_labels)\n",
    "    \n",
    "    if method == 'keras':\n",
    "        test_features = model.predict([ np.array(title_data), np.array(desc_data), np.array(info_data) ])\n",
    "    if method == 'bert':\n",
    "        test_features = model.predict([ np.array(title_data), np.array(title_data_seg), \n",
    "                                   np.array(desc_data), np.array(desc_data_seg), \n",
    "                                   np.array(info_data) ])\n",
    "    elif method == 'bert-topic':\n",
    "        test_features = model.predict([ np.array(title_data), np.array(title_data_seg), \n",
    "                                   np.array(desc_data), np.array(desc_data_seg), \n",
    "                                   np.array(info_data), np.array(topic_data) ])\n",
    "    elif method == 'dwen':\n",
    "        test_features = model.predict([ np.array(title_data), np.array(desc_data) ])\n",
    "    \n",
    "    return bucket_labels, test_features, categories, bug_ids"
   ]
  },
  {
   "cell_type": "markdown",
   "metadata": {},
   "source": [
    "### Select random buckets"
   ]
  },
  {
   "cell_type": "code",
   "execution_count": 60,
   "metadata": {},
   "outputs": [],
   "source": [
    "# selected_buckets = [ 47708, 228156, 132573, 132662, 207563]\n",
    "# [226761, 211165,  60740, 172436, 160273]\n",
    "# [146677, 118038, 207060, 236101,  35870] - best\n",
    "# [ 47708, 228156, 132573, 132662, 207563] - best\n",
    "# selected_buckets = np.random.choice(buckets_biggest_10_dups, 5)\n",
    "if(DOMAIN == 'openoffice'):\n",
    "    # [119525, 1601, 37793, 103839, 16268]\n",
    "    # [  8695,  16832,  56298,  57154, 122962]\n",
    "    # [14818, 63708,  7182,  9966,  5767] bad to DeepTL\n",
    "    # [89649, 5684,  28471,  19477,  100934] good for DeepQL_topics\n",
    "    selected_buckets = [89649, 5684,  28471,  19477,  100934]\n",
    "elif(DOMAIN == 'netbeans'):\n",
    "    selected_buckets = [158328, 73960, 14803, 212061, 123467]\n",
    "elif(DOMAIN == 'eclipse'):\n",
    "    # [33419, 31790, 63825, 35846, 19128]\n",
    "    # [ 49170,  45216,  42804,   9509, 116401] bad to DeepTL and DeepQL\n",
    "    # good to DeepQL\n",
    "    # [157282,  66298,  44798, 301724,  99245]\n",
    "    # bad to DeepTl\n",
    "    # [240875,  23302, 127290,  94029, 108976]\n",
    "    # good to deepTL\n",
    "    # [106159, 211868, 293881, 164259,  22883] \n",
    "    # [360214, 186520, 114434, 111044, 398480]\n",
    "    selected_buckets = [240875,  23302, 127290,  94029, 108976]"
   ]
  },
  {
   "cell_type": "code",
   "execution_count": 61,
   "metadata": {},
   "outputs": [],
   "source": [
    "# selected_buckets = np.random.choice(buckets_biggest_10_dups, 5)"
   ]
  },
  {
   "cell_type": "code",
   "execution_count": 62,
   "metadata": {},
   "outputs": [
    {
     "data": {
      "text/plain": [
       "'openoffice'"
      ]
     },
     "execution_count": 62,
     "metadata": {},
     "output_type": "execute_result"
    }
   ],
   "source": [
    "DOMAIN"
   ]
  },
  {
   "cell_type": "code",
   "execution_count": 63,
   "metadata": {
    "scrolled": true
   },
   "outputs": [
    {
     "data": {
      "text/plain": [
       "[89649, 5684, 28471, 19477, 100934]"
      ]
     },
     "execution_count": 63,
     "metadata": {},
     "output_type": "execute_result"
    }
   ],
   "source": [
    "selected_buckets"
   ]
  },
  {
   "cell_type": "markdown",
   "metadata": {},
   "source": [
    "### Eclipse\n",
    "#### [ 34940,   6749, 264112,  19771,  63692]"
   ]
  },
  {
   "cell_type": "markdown",
   "metadata": {},
   "source": [
    "### NetBeans\n",
    "#### [158328,  73960,  14803, 212061, 123467]"
   ]
  },
  {
   "cell_type": "markdown",
   "metadata": {},
   "source": [
    "### Open Office\n",
    "\n",
    "##### [119525,   1601,  37793, 103839,  16268]"
   ]
  },
  {
   "cell_type": "code",
   "execution_count": 64,
   "metadata": {
    "scrolled": true
   },
   "outputs": [
    {
     "data": {
      "text/plain": [
       "[89649, 5684, 28471, 19477, 100934]"
      ]
     },
     "execution_count": 64,
     "metadata": {},
     "output_type": "execute_result"
    }
   ],
   "source": [
    "selected_buckets"
   ]
  },
  {
   "cell_type": "code",
   "execution_count": 65,
   "metadata": {},
   "outputs": [],
   "source": [
    "bucket_dups_selected = []\n",
    "for bucket in selected_buckets:\n",
    "    bucket_dups_selected += [(bug_id, bucket) for bug_id in retrieval.buckets[bucket]]"
   ]
  },
  {
   "cell_type": "markdown",
   "metadata": {},
   "source": [
    "### Model trained with 1 epoch"
   ]
  },
  {
   "cell_type": "code",
   "execution_count": 110,
   "metadata": {},
   "outputs": [],
   "source": [
    "try:\n",
    "    bucket_labels_1epoch, test_features_1epoch, categories_1epoch, _ = create_tsne_vector(model_1_epoch, method=EMBEDDING_METHOD)\n",
    "except:\n",
    "    pass"
   ]
  },
  {
   "cell_type": "markdown",
   "metadata": {},
   "source": [
    "### Select random buckets"
   ]
  },
  {
   "cell_type": "code",
   "execution_count": 111,
   "metadata": {},
   "outputs": [],
   "source": [
    "bucket_labels, test_features, categories, bug_ids = create_tsne_vector(model, method=EMBEDDING_METHOD)"
   ]
  },
  {
   "cell_type": "markdown",
   "metadata": {},
   "source": [
    "### Visualizing bucket space\n",
    "\n",
    "Plota um conjunto de duplicados pintando o mestre de uma cor e os seus duplicados de outra"
   ]
  },
  {
   "cell_type": "code",
   "execution_count": 68,
   "metadata": {},
   "outputs": [],
   "source": [
    "# colors = [(0.9, 0, 0), (0, 0.9, 0), (0, 0, 0.9), (0.99, 0.9, 0), (0.9, 0.4, 0)]\n",
    "colors = sns.color_palette(\"Set1\", n_colors=len(selected_buckets)) "
   ]
  },
  {
   "cell_type": "markdown",
   "metadata": {},
   "source": [
    "### 1 epoch"
   ]
  },
  {
   "cell_type": "code",
   "execution_count": 69,
   "metadata": {},
   "outputs": [],
   "source": [
    "try:\n",
    "    test_features_1epoch.shape, len(categories_1epoch), len(bucket_labels_1epoch)\n",
    "except:\n",
    "    pass"
   ]
  },
  {
   "cell_type": "code",
   "execution_count": 70,
   "metadata": {
    "scrolled": false
   },
   "outputs": [
    {
     "name": "stdout",
     "output_type": "stream",
     "text": [
      "[t-SNE] Computing 121 nearest neighbors...\n",
      "[t-SNE] Indexed 129 samples in 0.000s...\n",
      "[t-SNE] Computed neighbors for 129 samples in 0.002s...\n",
      "[t-SNE] Computed conditional probabilities for sample 129 / 129\n",
      "[t-SNE] Mean sigma: 1.750254\n",
      "[t-SNE] KL divergence after 250 iterations with early exaggeration: 60.370106\n",
      "[t-SNE] Error after 300 iterations: 1.037175\n"
     ]
    },
    {
     "data": {
      "image/png": "[encoded data removed]",
      "text/plain": [
       "<Figure size 720x720 with 1 Axes>"
      ]
     },
     "metadata": {
      "needs_background": "light"
     },
     "output_type": "display_data"
    }
   ],
   "source": [
    "try:\n",
    "    tsne_features_1epoch = create_features(test_features_1epoch)\n",
    "\n",
    "    colors = plot_2d(categories_1epoch, tsne_features_1epoch, bucket_labels_1epoch, colors=colors, name='buckets_{}_{}1_epoch.png'.format(DOMAIN, METHOD))\n",
    "except:\n",
    "    pass"
   ]
  },
  {
   "cell_type": "markdown",
   "metadata": {},
   "source": [
    "### 1000 epochs"
   ]
  },
  {
   "cell_type": "code",
   "execution_count": 71,
   "metadata": {
    "scrolled": false
   },
   "outputs": [
    {
     "data": {
      "text/plain": [
       "((129, 1200), 129, 5)"
      ]
     },
     "execution_count": 71,
     "metadata": {},
     "output_type": "execute_result"
    }
   ],
   "source": [
    "test_features.shape, len(categories), len(bucket_labels)"
   ]
  },
  {
   "cell_type": "code",
   "execution_count": 72,
   "metadata": {
    "scrolled": false
   },
   "outputs": [
    {
     "name": "stdout",
     "output_type": "stream",
     "text": [
      "[t-SNE] Computing 121 nearest neighbors...\n",
      "[t-SNE] Indexed 129 samples in 0.000s...\n",
      "[t-SNE] Computed neighbors for 129 samples in 0.002s...\n",
      "[t-SNE] Computed conditional probabilities for sample 129 / 129\n",
      "[t-SNE] Mean sigma: 2.931000\n",
      "[t-SNE] KL divergence after 250 iterations with early exaggeration: 56.377548\n",
      "[t-SNE] Error after 300 iterations: 0.473841\n"
     ]
    },
    {
     "data": {
      "image/png": "[encoded data removed]",
      "text/plain": [
       "<Figure size 720x720 with 1 Axes>"
      ]
     },
     "metadata": {
      "needs_background": "light"
     },
     "output_type": "display_data"
    }
   ],
   "source": [
    "tsne_features = create_features(test_features)\n",
    "\n",
    "_ = plot_2d(categories, tsne_features, bucket_labels, colors=colors, name='buckets_{}_{}1000_epoch.png'.format(DOMAIN, METHOD))"
   ]
  },
  {
   "cell_type": "code",
   "execution_count": 193,
   "metadata": {},
   "outputs": [],
   "source": [
    "from IPython.display import Markdown, display\n",
    "def printmd(string):\n",
    "    display(Markdown(string))\n",
    "    \n",
    "def display_outlier_contents(outlier_bug_ids):\n",
    "    for bug in outlier_bug_ids:\n",
    "        bug_outlier = df[df['bug_id'] == bug]\n",
    "\n",
    "        printmd(\"#####################################\")\n",
    "        printmd(\"**Bug ID**: {}\".format(bug_outlier['bug_id'].values[0]))\n",
    "        printmd(\"**Bug status**: {}\".format(bug_outlier['bug_status'].values[0]))\n",
    "        printmd(\"**Component**: {}\".format(bug_outlier['component'].values[0]))\n",
    "        printmd(\"**Product**: {}\".format(bug_outlier['product'].values[0]))\n",
    "        printmd(\"**Resolution**: {}\".format(bug_outlier['resolution'].values[0]))\n",
    "        printmd(\"**Title**: {}\".format(bug_outlier['short_desc'].values[0]))\n",
    "        printmd(\"**Description**: {}\".format(bug_outlier['description'].values[0]))"
   ]
  },
  {
   "cell_type": "code",
   "execution_count": 164,
   "metadata": {},
   "outputs": [],
   "source": [
    "df = pd.read_csv(DATASET)"
   ]
  },
  {
   "cell_type": "markdown",
   "metadata": {},
   "source": [
    "### Duplicate of 5684"
   ]
  },
  {
   "cell_type": "code",
   "execution_count": 240,
   "metadata": {},
   "outputs": [],
   "source": [
    "bucket_outlier = 5684\n",
    "outlier_x = tsne_features[np.where(np.asarray(categories) == 'duplicate_of_{}'.format(bucket_outlier)), 0]\n",
    "outlier_y = tsne_features[np.where(np.asarray(categories) == 'duplicate_of_{}'.format(bucket_outlier)), 1]\n",
    "outlier_x = outlier_x[0]\n",
    "outlier_y = outlier_y[0]\n",
    "index = np.where(outlier_y  > -5) # np.logical_and"
   ]
  },
  {
   "cell_type": "code",
   "execution_count": 241,
   "metadata": {},
   "outputs": [],
   "source": [
    "outlier_x = outlier_x[np.where(outlier_x  > 7.5)]\n",
    "outlier_y = outlier_y[np.where(outlier_y  > -5)]"
   ]
  },
  {
   "cell_type": "code",
   "execution_count": 242,
   "metadata": {},
   "outputs": [
    {
     "data": {
      "text/plain": [
       "array([ 5684, 89346, 90157, 89163])"
      ]
     },
     "execution_count": 242,
     "metadata": {},
     "output_type": "execute_result"
    }
   ],
   "source": [
    "outlier_bug_ids = np.asarray(bug_ids)[index]\n",
    "outlier_bug_ids = np.insert(outlier_bug_ids, 0, bucket_outlier)\n",
    "outlier_bug_ids"
   ]
  },
  {
   "cell_type": "markdown",
   "metadata": {},
   "source": [
    "### Visualizing without outliers"
   ]
  },
  {
   "cell_type": "code",
   "execution_count": 243,
   "metadata": {},
   "outputs": [
    {
     "data": {
      "text/markdown": [
       "#####################################"
      ],
      "text/plain": [
       "<IPython.core.display.Markdown object>"
      ]
     },
     "metadata": {},
     "output_type": "display_data"
    },
    {
     "data": {
      "text/markdown": [
       "**Bug ID**: 5632"
      ],
      "text/plain": [
       "<IPython.core.display.Markdown object>"
      ]
     },
     "metadata": {},
     "output_type": "display_data"
    },
    {
     "data": {
      "text/markdown": [
       "**Bug status**: CLOSED"
      ],
      "text/plain": [
       "<IPython.core.display.Markdown object>"
      ]
     },
     "metadata": {},
     "output_type": "display_data"
    },
    {
     "data": {
      "text/markdown": [
       "**Component**: code"
      ],
      "text/plain": [
       "<IPython.core.display.Markdown object>"
      ]
     },
     "metadata": {},
     "output_type": "display_data"
    },
    {
     "data": {
      "text/markdown": [
       "**Product**: Writer"
      ],
      "text/plain": [
       "<IPython.core.display.Markdown object>"
      ]
     },
     "metadata": {},
     "output_type": "display_data"
    },
    {
     "data": {
      "text/markdown": [
       "**Resolution**: DUPLICATE"
      ],
      "text/plain": [
       "<IPython.core.display.Markdown object>"
      ]
     },
     "metadata": {},
     "output_type": "display_data"
    },
    {
     "data": {
      "text/markdown": [
       "**Title**: Exit on first time entry"
      ],
      "text/plain": [
       "<IPython.core.display.Markdown object>"
      ]
     },
     "metadata": {},
     "output_type": "display_data"
    },
    {
     "data": {
      "text/markdown": [
       "**Description**: A strange problem. When I first start Open Office it starts, displays the\n",
       "default document and then immediately exits (n key presses or mouse clicks are\n",
       "needed). I then start it again with the same mouse press and it starts ok. Any\n",
       "ideas?"
      ],
      "text/plain": [
       "<IPython.core.display.Markdown object>"
      ]
     },
     "metadata": {},
     "output_type": "display_data"
    },
    {
     "data": {
      "text/markdown": [
       "#####################################"
      ],
      "text/plain": [
       "<IPython.core.display.Markdown object>"
      ]
     },
     "metadata": {},
     "output_type": "display_data"
    },
    {
     "data": {
      "text/markdown": [
       "**Bug ID**: 4808"
      ],
      "text/plain": [
       "<IPython.core.display.Markdown object>"
      ]
     },
     "metadata": {},
     "output_type": "display_data"
    },
    {
     "data": {
      "text/markdown": [
       "**Bug status**: CLOSED"
      ],
      "text/plain": [
       "<IPython.core.display.Markdown object>"
      ]
     },
     "metadata": {},
     "output_type": "display_data"
    },
    {
     "data": {
      "text/markdown": [
       "**Component**: code"
      ],
      "text/plain": [
       "<IPython.core.display.Markdown object>"
      ]
     },
     "metadata": {},
     "output_type": "display_data"
    },
    {
     "data": {
      "text/markdown": [
       "**Product**: Writer"
      ],
      "text/plain": [
       "<IPython.core.display.Markdown object>"
      ]
     },
     "metadata": {},
     "output_type": "display_data"
    },
    {
     "data": {
      "text/markdown": [
       "**Resolution**: DUPLICATE"
      ],
      "text/plain": [
       "<IPython.core.display.Markdown object>"
      ]
     },
     "metadata": {},
     "output_type": "display_data"
    },
    {
     "data": {
      "text/markdown": [
       "**Title**: OOo Writer starts and collapse"
      ],
      "text/plain": [
       "<IPython.core.display.Markdown object>"
      ]
     },
     "metadata": {},
     "output_type": "display_data"
    },
    {
     "data": {
      "text/markdown": [
       "**Description**: Hi,\n",
       "\n",
       "When I launch OOo Writer I get the usual blank page but, a few seconds after,\n",
       "the application disappear.\n",
       "(and nothing related to OO when i try a ps -eaf)\n",
       "\n",
       "if I insert very rapidly a few carriage return or open a file OOo writer \"stays\"\n",
       "on screen and seems to behave well\n",
       "\n",
       "??\n",
       "\n",
       "mainboard MSI KT3 Ultra + AMD ATHLON 1700+\n",
       "Mandrake 8.2 (Xfree86 3.3.6 + Gnome 1.4)\n",
       "OOo writer from the OO website"
      ],
      "text/plain": [
       "<IPython.core.display.Markdown object>"
      ]
     },
     "metadata": {},
     "output_type": "display_data"
    },
    {
     "data": {
      "text/markdown": [
       "#####################################"
      ],
      "text/plain": [
       "<IPython.core.display.Markdown object>"
      ]
     },
     "metadata": {},
     "output_type": "display_data"
    },
    {
     "data": {
      "text/markdown": [
       "**Bug ID**: 4236"
      ],
      "text/plain": [
       "<IPython.core.display.Markdown object>"
      ]
     },
     "metadata": {},
     "output_type": "display_data"
    },
    {
     "data": {
      "text/markdown": [
       "**Bug status**: CLOSED"
      ],
      "text/plain": [
       "<IPython.core.display.Markdown object>"
      ]
     },
     "metadata": {},
     "output_type": "display_data"
    },
    {
     "data": {
      "text/markdown": [
       "**Component**: code"
      ],
      "text/plain": [
       "<IPython.core.display.Markdown object>"
      ]
     },
     "metadata": {},
     "output_type": "display_data"
    },
    {
     "data": {
      "text/markdown": [
       "**Product**: General"
      ],
      "text/plain": [
       "<IPython.core.display.Markdown object>"
      ]
     },
     "metadata": {},
     "output_type": "display_data"
    },
    {
     "data": {
      "text/markdown": [
       "**Resolution**: DUPLICATE"
      ],
      "text/plain": [
       "<IPython.core.display.Markdown object>"
      ]
     },
     "metadata": {},
     "output_type": "display_data"
    },
    {
     "data": {
      "text/markdown": [
       "**Title**: OpenOffice 641D is crashing spontaneously on AMD K6-2 systems"
      ],
      "text/plain": [
       "<IPython.core.display.Markdown object>"
      ]
     },
     "metadata": {},
     "output_type": "display_data"
    },
    {
     "data": {
      "text/markdown": [
       "**Description**: I really have no idea if framework/code is the proper component/subcomponent\n",
       "for this, but whenever I'm running 641D on an up2date Red Hat Linux 7.2 system\n",
       "using an AMD K6-2/400 MHz system, OpenOffice is crashing reproducably. The\n",
       "same program works as expected on Intel Pentium III/700Mhz and Intel Pentium\n",
       "II/366MHz. The installation was done via './setup -net' first, followed by\n",
       "the user specific install. The AMD systems have 96 MB RAM.\n",
       "\n",
       "Could it be, that the binaries have been compiled with i686 optimization/code\n",
       "generation on? This will not work on such AMD CPUs.\n",
       "\n",
       "FWIW, 641C worked without any problems on all my systems."
      ],
      "text/plain": [
       "<IPython.core.display.Markdown object>"
      ]
     },
     "metadata": {},
     "output_type": "display_data"
    },
    {
     "data": {
      "text/markdown": [
       "#####################################"
      ],
      "text/plain": [
       "<IPython.core.display.Markdown object>"
      ]
     },
     "metadata": {},
     "output_type": "display_data"
    },
    {
     "data": {
      "text/markdown": [
       "**Bug ID**: 6924"
      ],
      "text/plain": [
       "<IPython.core.display.Markdown object>"
      ]
     },
     "metadata": {},
     "output_type": "display_data"
    },
    {
     "data": {
      "text/markdown": [
       "**Bug status**: CLOSED"
      ],
      "text/plain": [
       "<IPython.core.display.Markdown object>"
      ]
     },
     "metadata": {},
     "output_type": "display_data"
    },
    {
     "data": {
      "text/markdown": [
       "**Component**: code"
      ],
      "text/plain": [
       "<IPython.core.display.Markdown object>"
      ]
     },
     "metadata": {},
     "output_type": "display_data"
    },
    {
     "data": {
      "text/markdown": [
       "**Product**: Installation"
      ],
      "text/plain": [
       "<IPython.core.display.Markdown object>"
      ]
     },
     "metadata": {},
     "output_type": "display_data"
    },
    {
     "data": {
      "text/markdown": [
       "**Resolution**: DUPLICATE"
      ],
      "text/plain": [
       "<IPython.core.display.Markdown object>"
      ]
     },
     "metadata": {},
     "output_type": "display_data"
    },
    {
     "data": {
      "text/markdown": [
       "**Title**: Open Office Writer and Calc seems to start and then close"
      ],
      "text/plain": [
       "<IPython.core.display.Markdown object>"
      ]
     },
     "metadata": {},
     "output_type": "display_data"
    },
    {
     "data": {
      "text/markdown": [
       "**Description**: When starting Open Office Writer or Calc, the openoffice logo appears, the next\n",
       "window frame is drawn, and then it abruptly closes.\n",
       "To access writer or calc documents, I had to open Math or Impress and then click\n",
       "on Open.\n",
       "OpenOffice seems able to run, but fail to start Writer and/or Calc.\n",
       "This strange behavior appeared abruptly 3 weeks after normal use.\n",
       "\n",
       "OpenOffice is on an intel-i686 Red Hat Linux 7.3 machine."
      ],
      "text/plain": [
       "<IPython.core.display.Markdown object>"
      ]
     },
     "metadata": {},
     "output_type": "display_data"
    },
    {
     "data": {
      "text/markdown": [
       "#####################################"
      ],
      "text/plain": [
       "<IPython.core.display.Markdown object>"
      ]
     },
     "metadata": {},
     "output_type": "display_data"
    },
    {
     "data": {
      "text/markdown": [
       "**Bug ID**: 4494"
      ],
      "text/plain": [
       "<IPython.core.display.Markdown object>"
      ]
     },
     "metadata": {},
     "output_type": "display_data"
    },
    {
     "data": {
      "text/markdown": [
       "**Bug status**: CLOSED"
      ],
      "text/plain": [
       "<IPython.core.display.Markdown object>"
      ]
     },
     "metadata": {},
     "output_type": "display_data"
    },
    {
     "data": {
      "text/markdown": [
       "**Component**: code"
      ],
      "text/plain": [
       "<IPython.core.display.Markdown object>"
      ]
     },
     "metadata": {},
     "output_type": "display_data"
    },
    {
     "data": {
      "text/markdown": [
       "**Product**: gsl"
      ],
      "text/plain": [
       "<IPython.core.display.Markdown object>"
      ]
     },
     "metadata": {},
     "output_type": "display_data"
    },
    {
     "data": {
      "text/markdown": [
       "**Resolution**: FIXED"
      ],
      "text/plain": [
       "<IPython.core.display.Markdown object>"
      ]
     },
     "metadata": {},
     "output_type": "display_data"
    },
    {
     "data": {
      "text/markdown": [
       "**Title**: All Apps exit after start"
      ],
      "text/plain": [
       "<IPython.core.display.Markdown object>"
      ]
     },
     "metadata": {},
     "output_type": "display_data"
    },
    {
     "data": {
      "text/markdown": [
       "**Description**: I installed V1.0.0 on my linux box (kernel 2.2.19/2.4.19-pre6).\n",
       "The Installer says everything went OK, but I cant start any of\n",
       "the Apps.\n",
       "\n",
       "What happens is that a short time after start i see the main window\n",
       "of the app started, but it will exit immediately. there is no core file of\n",
       "any log entry indicating a problem, so i really dont know what to make out\n",
       "of this, but it looks bad :-("
      ],
      "text/plain": [
       "<IPython.core.display.Markdown object>"
      ]
     },
     "metadata": {},
     "output_type": "display_data"
    },
    {
     "data": {
      "text/markdown": [
       "#####################################"
      ],
      "text/plain": [
       "<IPython.core.display.Markdown object>"
      ]
     },
     "metadata": {},
     "output_type": "display_data"
    },
    {
     "data": {
      "text/markdown": [
       "**Bug ID**: 10768"
      ],
      "text/plain": [
       "<IPython.core.display.Markdown object>"
      ]
     },
     "metadata": {},
     "output_type": "display_data"
    },
    {
     "data": {
      "text/markdown": [
       "**Bug status**: CLOSED"
      ],
      "text/plain": [
       "<IPython.core.display.Markdown object>"
      ]
     },
     "metadata": {},
     "output_type": "display_data"
    },
    {
     "data": {
      "text/markdown": [
       "**Component**: code"
      ],
      "text/plain": [
       "<IPython.core.display.Markdown object>"
      ]
     },
     "metadata": {},
     "output_type": "display_data"
    },
    {
     "data": {
      "text/markdown": [
       "**Product**: Installation"
      ],
      "text/plain": [
       "<IPython.core.display.Markdown object>"
      ]
     },
     "metadata": {},
     "output_type": "display_data"
    },
    {
     "data": {
      "text/markdown": [
       "**Resolution**: DUPLICATE"
      ],
      "text/plain": [
       "<IPython.core.display.Markdown object>"
      ]
     },
     "metadata": {},
     "output_type": "display_data"
    },
    {
     "data": {
      "text/markdown": [
       "**Title**: program breaks on startup"
      ],
      "text/plain": [
       "<IPython.core.display.Markdown object>"
      ]
     },
     "metadata": {},
     "output_type": "display_data"
    },
    {
     "data": {
      "text/markdown": [
       "**Description**: I reported some time ago -sorry I lost the reference- that when I run open\n",
       "office for the third time after installation, it crashes mysteriously. \n",
       "Abit more information:\n",
       "On Windows it runs fine.\n",
       "On Linux, RH 7.3 it crashes.\n",
       "\n",
       "I have since found that this only happens with the Gnome GUI. It works fine with\n",
       "KDE. \n",
       "This means that the \"Gnome integration\" in the set up program is probably faulty.\n",
       "However on the old (max 200MHz) machines that I work on, Gnome is significanly\n",
       "faster.\n",
       "\n",
       "I am keen to get this working properly, as I run a voluteer project in Swaziland\n",
       " to revive abandoned PCs for schools, and am dependant on open source sotware."
      ],
      "text/plain": [
       "<IPython.core.display.Markdown object>"
      ]
     },
     "metadata": {},
     "output_type": "display_data"
    },
    {
     "data": {
      "text/markdown": [
       "#####################################"
      ],
      "text/plain": [
       "<IPython.core.display.Markdown object>"
      ]
     },
     "metadata": {},
     "output_type": "display_data"
    },
    {
     "data": {
      "text/markdown": [
       "**Bug ID**: 5522"
      ],
      "text/plain": [
       "<IPython.core.display.Markdown object>"
      ]
     },
     "metadata": {},
     "output_type": "display_data"
    },
    {
     "data": {
      "text/markdown": [
       "**Bug status**: CLOSED"
      ],
      "text/plain": [
       "<IPython.core.display.Markdown object>"
      ]
     },
     "metadata": {},
     "output_type": "display_data"
    },
    {
     "data": {
      "text/markdown": [
       "**Component**: code"
      ],
      "text/plain": [
       "<IPython.core.display.Markdown object>"
      ]
     },
     "metadata": {},
     "output_type": "display_data"
    },
    {
     "data": {
      "text/markdown": [
       "**Product**: Writer"
      ],
      "text/plain": [
       "<IPython.core.display.Markdown object>"
      ]
     },
     "metadata": {},
     "output_type": "display_data"
    },
    {
     "data": {
      "text/markdown": [
       "**Resolution**: DUPLICATE"
      ],
      "text/plain": [
       "<IPython.core.display.Markdown object>"
      ]
     },
     "metadata": {},
     "output_type": "display_data"
    },
    {
     "data": {
      "text/markdown": [
       "**Title**: Open Office crashes"
      ],
      "text/plain": [
       "<IPython.core.display.Markdown object>"
      ]
     },
     "metadata": {},
     "output_type": "display_data"
    },
    {
     "data": {
      "text/markdown": [
       "**Description**: I am running Red Hat 7.3 with Ximian updates, and a Ximian install of OpenOffice\n",
       "1.0. I also have \n",
       "When I launch swriter from the command line, it flashes on the screen, then\n",
       "disappears.\n",
       "There is no core file, no errors to stderr (displayed on the xterm), no messages\n",
       "to /var/log/message, nor can I find any log files in the OpenOffice directory.\n",
       "\n",
       "I used to run the last OpenOffice beta, when I ran Red Hat v7.2, with no problems."
      ],
      "text/plain": [
       "<IPython.core.display.Markdown object>"
      ]
     },
     "metadata": {},
     "output_type": "display_data"
    },
    {
     "data": {
      "text/markdown": [
       "#####################################"
      ],
      "text/plain": [
       "<IPython.core.display.Markdown object>"
      ]
     },
     "metadata": {},
     "output_type": "display_data"
    },
    {
     "data": {
      "text/markdown": [
       "**Bug ID**: 6291"
      ],
      "text/plain": [
       "<IPython.core.display.Markdown object>"
      ]
     },
     "metadata": {},
     "output_type": "display_data"
    },
    {
     "data": {
      "text/markdown": [
       "**Bug status**: CLOSED"
      ],
      "text/plain": [
       "<IPython.core.display.Markdown object>"
      ]
     },
     "metadata": {},
     "output_type": "display_data"
    },
    {
     "data": {
      "text/markdown": [
       "**Component**: code"
      ],
      "text/plain": [
       "<IPython.core.display.Markdown object>"
      ]
     },
     "metadata": {},
     "output_type": "display_data"
    },
    {
     "data": {
      "text/markdown": [
       "**Product**: General"
      ],
      "text/plain": [
       "<IPython.core.display.Markdown object>"
      ]
     },
     "metadata": {},
     "output_type": "display_data"
    },
    {
     "data": {
      "text/markdown": [
       "**Resolution**: DUPLICATE"
      ],
      "text/plain": [
       "<IPython.core.display.Markdown object>"
      ]
     },
     "metadata": {},
     "output_type": "display_data"
    },
    {
     "data": {
      "text/markdown": [
       "**Title**: This environment var. SESSION_MANAGER crashes OpenOffice.org"
      ],
      "text/plain": [
       "<IPython.core.display.Markdown object>"
      ]
     },
     "metadata": {},
     "output_type": "display_data"
    },
    {
     "data": {
      "text/markdown": [
       "**Description**: Hi! This only happens on a RedHat 7.3 Laptop class installation.\n",
       "Really appreciate if any one can have a look. Thank you!"
      ],
      "text/plain": [
       "<IPython.core.display.Markdown object>"
      ]
     },
     "metadata": {},
     "output_type": "display_data"
    },
    {
     "data": {
      "text/markdown": [
       "#####################################"
      ],
      "text/plain": [
       "<IPython.core.display.Markdown object>"
      ]
     },
     "metadata": {},
     "output_type": "display_data"
    },
    {
     "data": {
      "text/markdown": [
       "**Bug ID**: 10451"
      ],
      "text/plain": [
       "<IPython.core.display.Markdown object>"
      ]
     },
     "metadata": {},
     "output_type": "display_data"
    },
    {
     "data": {
      "text/markdown": [
       "**Bug status**: CLOSED"
      ],
      "text/plain": [
       "<IPython.core.display.Markdown object>"
      ]
     },
     "metadata": {},
     "output_type": "display_data"
    },
    {
     "data": {
      "text/markdown": [
       "**Component**: code"
      ],
      "text/plain": [
       "<IPython.core.display.Markdown object>"
      ]
     },
     "metadata": {},
     "output_type": "display_data"
    },
    {
     "data": {
      "text/markdown": [
       "**Product**: ui"
      ],
      "text/plain": [
       "<IPython.core.display.Markdown object>"
      ]
     },
     "metadata": {},
     "output_type": "display_data"
    },
    {
     "data": {
      "text/markdown": [
       "**Resolution**: DUPLICATE"
      ],
      "text/plain": [
       "<IPython.core.display.Markdown object>"
      ]
     },
     "metadata": {},
     "output_type": "display_data"
    },
    {
     "data": {
      "text/markdown": [
       "**Title**: soffice closes just after beeing opened du to a ~/.ICEauthority file."
      ],
      "text/plain": [
       "<IPython.core.display.Markdown object>"
      ]
     },
     "metadata": {},
     "output_type": "display_data"
    },
    {
     "data": {
      "text/markdown": [
       "**Description**: Hi,\n",
       "\n",
       "[Context]\n",
       "\n",
       "I had a working installation of OpenOffice, and installed new fonts as root.\n",
       "From this moment, the application stopped to work for a particular user.\n",
       "\n",
       "[Bug]\n",
       "\n",
       "When I launch soffice or swriter, I get the welcome screen, and the application\n",
       "opens as usual, but closes just before I should get the hand on it. (The window\n",
       "closes, and the application quits.)\n",
       "\n",
       "[Fix]\n",
       "\n",
       "I managed to fix the problem by removing the ~/.ICEauthority file for this user.\n",
       "\n",
       "From that moment, the application worked nicely. If I put the original file\n",
       "back, the broken behavior comes back.\n",
       "\n",
       "I played a little with strace and diff :\n",
       "\n",
       "chezmoi:~> strace swriter > & /tmp/soffice-good.log\n",
       "chezmoi:~> mv /tmp/carole.bak/.ICEauthority . # restoring the .ICEauthority file.\n",
       "chezmoi:~> strace swriter > & /tmp/soffice.log\n",
       "chezmoi:~> du -sh /tmp/soffice-good.log /tmp/soffice.log \n",
       "15M     /tmp/soffice-good.log\n",
       "17M     /tmp/soffice.log\n",
       "chezmoi:~> diff /tmp/soffice-good.log /tmp/soffice.log > /tmp/soffice.diff \n",
       "chezmoi:~> du -sh /tmp/soffice.diff \n",
       "31M     /tmp/soffice.diff\n",
       "\n",
       "\n",
       "A portion of the diff file may be interesting (This is where the files begin to\n",
       "differ really, and the reason why I suspected the .ICEauthority file.\n",
       "\n",
       "2031,2039c2031,2081\n",
       "< access(\"/home/carole/.ICEauthority\", R_OK) = -1 ENOENT (No such file or directory)\n",
       "< write(5, \"\\0\\2\\1\\0\\4\\0\\0\\0\\0\\0\\0\\0\\0\\0\\0\\0\\3\\0MIT\\0\\0\\0\\3\\0001.0\"..., 40) = 40\n",
       "< read(5, \"\\0\\0\\4\\0\\16\\0\\0\\0\", 8)         = 8\n",
       "< read(5, \"\\2\\1\\0\\0\\2\\0\\0\\0\", 8)          = 8\n",
       "< read(5, \"a\\0None of the authentication pro\"..., 104) = 104\n",
       "< close(5)                                = 0\n",
       "< write(4, \"\\2\\0\\4\\0002\\0\\0\\0\\0\\10\\0\\0\\0\\0\\10\\0\\1\\30\\v\\0\\1\\0 \\0032\"..., 84) = 84\n",
       "< read(4, \"\\20i\\n\\0002\\0\\0\\0\\1\\0 \\3\\0\\0\\0\\0\\20\\0\\20\\0\\0\\0\\0\\0\\0\\0\"..., 32) = 32\n",
       "< read(4, \"\\1\\r\\v\\0\\0\\0\\0\\0\\352\\0\\0\\0\\0\\0\\0\\0\\0\\0\\0\\0\\0\\0\\0\\0\\0\\0\"..., 32) = 32\n",
       "---\n",
       "> access(\"/home/carole/.ICEauthority\", R_OK) = 0\n",
       "> brk(0x808a000)                          = 0x808a000\n",
       "> open(\"/home/carole/.ICEauthority\", O_RDONLY) = 6\n",
       "> fstat64(6, {st_mode=S_IFREG|0600, st_size=1445, ...}) = 0\n",
       "> old_mmap(NULL, 4096, PROT_READ|PROT_WRITE, MAP_PRIVATE|MAP_ANONYMOUS, -1, 0) =\n",
       "0x40d5c000\n",
       "> read(6, \"\\0\\3ICE\\0\\0\\0!local/chezmoi:/tmp/.ICE\"..., 4096) = 1445\n",
       "> read(6, \"\", 4096)                       = 0\n",
       "> close(6)                                = 0\n",
       "> munmap(0x40d5c000, 4096)                = 0\n",
       "> write(5, \"\\0\\2\\1\\1\\6\\0\\0\\0\\0\\0\\0\\0\\0\\0\\0\\0\\3\\0MIT\\0\\0\\0\\3\\0001.0\"..., 56) = 56\n",
       "> read(5, \"\\0\\3\\0@\\1\\0\\0\\0\", 8)           = 8\n",
       "> read(5, \"\\0\\0\\0\\0\\0\\0\\0\\0\", 8)          = 8\n",
       "> access(\"/home/carole/.ICEauthority\", R_OK) = 0\n",
       "> open(\"/home/carole/.ICEauthority\", O_RDONLY) = 6\n",
       "> fstat64(6, {st_mode=S_IFREG|0600, st_size=1445, ...}) = 0\n",
       "> old_mmap(NULL, 4096, PROT_READ|PROT_WRITE, MAP_PRIVATE|MAP_ANONYMOUS, -1, 0) =\n",
       "0x40d5c000\n",
       "> read(6, \"\\0\\3ICE\\0\\0\\0!local/chezmoi:/tmp/.ICE\"..., 4096) = 1445\n",
       "> close(6)                                = 0\n",
       "> munmap(0x40d5c000, 4096)                = 0\n",
       "> write(5, \"\\0\\4\\1\\1\\3\\0\\0\\0\\20\\0\\0\\0\\0\\0\\0\\0\\277?\\\\o\\3,\\201\\0067\\21\"..., 32) = 32\n",
       "> read(5, \"\\0\\6\\0@\\2\\0\\0\\0\", 8)           = 8\n",
       "> read(5, \"\\3\\0MIT\\0\\0\\0\\3\\0001.0\\0\\0\\0\", 16) = 16\n",
       "> access(\"/home/carole/.ICEauthority\", R_OK) = 0\n",
       "> open(\"/home/carole/.ICEauthority\", O_RDONLY) = 6\n",
       "> fstat64(6, {st_mode=S_IFREG|0600, st_size=1445, ...}) = 0\n",
       "> old_mmap(NULL, 4096, PROT_READ|PROT_WRITE, MAP_PRIVATE|MAP_ANONYMOUS, -1, 0) =\n",
       "0x40d5c000\n",
       "> read(6, \"\\0\\3ICE\\0\\0\\0!local/chezmoi:/tmp/.ICE\"..., 4096) = 1445\n",
       "> read(6, \"\", 4096)                       = 0\n",
       "> close(6)                                = 0\n",
       "> munmap(0x40d5c000, 4096)                = 0\n",
       "> write(5, \"\\0\\7\\1\\0\\7\\0\\0\\0\\1\\1\\0\\0\\0\\0\\0\\0\\4\\0XSMP\\201\\6\\3\\0MIT\\335\"..., 64) = 64\n",
       "> read(5, \"\\0\\3\\0@\\1\\0\\0\\0\", 8)           = 8\n",
       "> read(5, \"\\0\\0MIT\\0\\0\\0\", 8)             = 8\n",
       "> access(\"/home/carole/.ICEauthority\", R_OK) = 0\n",
       "> open(\"/home/carole/.ICEauthority\", O_RDONLY) = 6\n",
       "> fstat64(6, {st_mode=S_IFREG|0600, st_size=1445, ...}) = 0\n",
       "> old_mmap(NULL, 4096, PROT_READ|PROT_WRITE, MAP_PRIVATE|MAP_ANONYMOUS, -1, 0) =\n",
       "0x40d5c000\n",
       "> read(6, \"\\0\\3ICE\\0\\0\\0!local/chezmoi:/tmp/.ICE\"..., 4096) = 1445\n",
       "> close(6)                                = 0\n",
       "> munmap(0x40d5c000, 4096)                = 0\n",
       "> write(5, \"\\0\\4\\1\\0\\3\\0\\0\\0\\20\\0\\0\\0\\0\\0\\0\\0\\277?\\\\o\\3,\\201\\0067\\21\"..., 32) = 32\n",
       "> read(5, \"\\0\\10\\0\\1\\3\\0\\0\\0\", 8)         = 8\n",
       "> read(5, \"\\7\\0GnomeSM\\0001.\\7\\0001.4.0.6\\0\\0\\0\", 24) = 24\n",
       "> write(5, \"\\1\\1\\1\\0\\1\\0\\0\\0\\0\\0\\0\\0\\0\\0\\0\\0\", 16) = 16\n",
       "> read(5, \"\\1\\2\\0\\1\\6\\0\\0\\0\", 8)          = 8\n",
       "> read(5, \"%\\0\\0\\00011c0a80101000104169407000000\"..., 48) = 48\n",
       "> write(4, \"\\2\\0\\4\\0002\\0\\0\\0\\0\\10\\0\\0\\0\\0\\10\\0\\1\\30\\v\\0\\1\\0 \\0032\"..., 80) = 80\n",
       "> read(4, \"\\20\\272\\n\\0002\\0\\0\\0\\1\\0 \\3\\0\\0\\0\\0\\20\\0\\20\\0\\0\\0\\0\\0\\0\"..., 32) = 32\n",
       "> read(4, \"\\1\\325\\v\\0\\0\\0\\0\\0\\361\\0\\0\\0\\0\\0\\0\\0\\0\\0\\0\\0\\0\\0\\0\\0\\0\"..., 32) = 32\n",
       "> write(4, \"\\22\\0\\20\\0\\1\\0 \\3\\361\\0\\0\\0\\37\\0\\0\\0\\10\\30\\v\\0%\\0\\0\\000\"..., 88) = 88\n",
       "> read(4, \"\\1\\325\\r\\0\\0\\0\\0\\0\\352\\0\\0\\0\\0\\0\\0\\0\\0\\0\\0\\0\\0\\0\\0\\0\\0\"..., 32) = 32\n",
       "\n",
       "\n",
       "The way the application quits when the bug occurs is given by the end of the\n",
       "diff file :\n",
       "\n",
       "267076,267079c311954,311957\n",
       "< munmap(0x44ab9000, 274432)              = 0\n",
       "< close(20)                               = 0\n",
       "< munmap(0x44a32000, 274432)              = 0\n",
       "< gettimeofday({1041694054, 87061}, NULL) = 0\n",
       "---\n",
       "> munmap(0x44a72000, 274432)              = 0\n",
       "> gettimeofday({1041694140, 507661}, NULL) = 0\n",
       "> gettimeofday({1041694140, 512536}, NULL) = 0\n",
       "> gettimeofday({1041694140, 513746}, NULL) = 0\n",
       "267083c311961\n",
       "< close(9)                                = 0\n",
       "---\n",
       "> close(10)                               = 0\n",
       "267087,267089c311965,311967\n",
       "< close(6)                                = 0\n",
       "< gettimeofday({1041694054, 100060}, NULL) = 0\n",
       "< gettimeofday({1041694054, 100431}, NULL) = 0\n",
       "---\n",
       "> close(7)                                = 0\n",
       "> gettimeofday({1041694140, 589984}, NULL) = 0\n",
       "> gettimeofday({1041694140, 590352}, NULL) = 0\n",
       "267093,267096c311971,311974\n",
       "< close(5)                                = 0\n",
       "< kill(16038, SIGRTMIN)                   = 0\n",
       "< kill(16038, SIGRTMIN)                   = 0\n",
       "< gettimeofday({1041694054, 102937}, NULL) = 0\n",
       "---\n",
       "> close(6)                                = 0\n",
       "> kill(16082, SIGRTMIN)                   = 0\n",
       "> kill(16082, SIGRTMIN)                   = 0\n",
       "> gettimeofday({1041694140, 592837}, NULL) = 0\n",
       "267106,267108c311984,311986\n",
       "< kill(16039, SIGRTMIN)                   = 0\n",
       "< shutdown(10, 2 /* send and receive */)  = 0\n",
       "< close(10)                               = 0\n",
       "---\n",
       "> kill(16083, SIGRTMIN)                   = 0\n",
       "> shutdown(11, 2 /* send and receive */)  = 0\n",
       "> close(11)                               = 0\n",
       "267128,267129c312006,312007\n",
       "< close(16)                               = 0\n",
       "< close(19)                               = 0\n",
       "---\n",
       "> close(17)                               = 0\n",
       "> close(20)                               = 0\n",
       "\n",
       "And the end of the log file of the buggy behavior :\n",
       "\n",
       "082, SIGRTMIN)                   = 0\n",
       "kill(16082, SIGRTMIN)                   = 0\n",
       "gettimeofday({1041694140, 592837}, NULL) = 0\n",
       "access(\"/tmp\", W_OK)                    = 0\n",
       "socket(PF_UNIX, SOCK_STREAM, 0)         = 5\n",
       "fcntl64(5, F_GETFD)                     = 0\n",
       "fcntl64(5, F_SETFD, FD_CLOEXEC)         = 0\n",
       "access(\"/tmp/OSL_PIPE_1003_SingleOfficeIPC_-1247862714\", F_OK) = 0\n",
       "connect(5, {sin_family=AF_UNIX,\n",
       "path=\"/tmp/OSL_PIPE_1003_SingleOfficeIPC_-1247862714\"}, 110) = 0\n",
       "send(5, \"InternalIPC::TerminateThread\", 28, 0) = 28\n",
       "shutdown(5, 2 /* send and receive */)   = 0\n",
       "close(5)                                = 0\n",
       "kill(16083, SIGRTMIN)                   = 0\n",
       "shutdown(11, 2 /* send and receive */)  = 0\n",
       "close(11)                               = 0\n",
       "unlink(\"/tmp/OSL_PIPE_1003_SingleOfficeIPC_-1247862714\") = 0\n",
       "rt_sigaction(SIGXFSZ, {SIG_DFL}, NULL, 8) = 0\n",
       "rt_sigaction(SIGXCPU, {SIG_DFL}, NULL, 8) = 0\n",
       "rt_sigaction(SIGVTALRM, {SIG_DFL}, NULL, 8) = 0\n",
       "rt_sigaction(SIGIO, {SIG_DFL}, NULL, 8) = 0\n",
       "rt_sigaction(SIGURG, {SIG_DFL}, NULL, 8) = 0\n",
       "rt_sigaction(SIGWINCH, {SIG_DFL}, NULL, 8) = 0\n",
       "rt_sigaction(SIGPWR, {SIG_DFL}, NULL, 8) = 0\n",
       "rt_sigaction(SIGTERM, {SIG_DFL}, NULL, 8) = 0\n",
       "rt_sigaction(SIGALRM, {SIG_DFL}, NULL, 8) = 0\n",
       "rt_sigaction(SIGPIPE, {SIG_DFL}, NULL, 8) = 0\n",
       "rt_sigaction(SIGSEGV, {SIG_DFL}, NULL, 8) = 0\n",
       "rt_sigaction(SIGBUS, {SIG_DFL}, NULL, 8) = 0\n",
       "rt_sigaction(SIGFPE, {SIG_DFL}, NULL, 8) = 0\n",
       "rt_sigaction(SIGABRT, {SIG_DFL}, NULL, 8) = 0\n",
       "rt_sigaction(SIGTRAP, {SIG_DFL}, NULL, 8) = 0\n",
       "rt_sigaction(SIGQUIT, {SIG_DFL}, NULL, 8) = 0\n",
       "rt_sigaction(SIGINT, {SIG_DFL}, NULL, 8) = 0\n",
       "rt_sigaction(SIGHUP, {SIG_DFL}, NULL, 8) = 0\n",
       "close(17)                               = 0\n",
       "close(20)                               = 0\n",
       "_exit(0)                                = ?\n",
       "\n",
       "\n",
       "\n",
       "(I have a slow connection, so, posting the whole file is not possible)\n",
       "\n",
       "\n",
       "Find the ~/.ICEauthority as attachement.\n",
       "\n",
       "Another information of potential interest is that when the ~/.ICEauthority is\n",
       "present, (so, when the bug is here), the log file is bigger (about 2Mb more)\n",
       "each time. (For example, 19Mb the first time, then 22Mb, ...)\n",
       "\n",
       "I noticed that the only file modified in the ~/OpenOffice.org directory is the\n",
       "file ~/OpenOffice.org1.0/user/psprint/pspfontcache, which grows at each\n",
       "execution. (with diff -r)\n",
       "\n",
       "Hope this helps !\n",
       "\n",
       "   Matthieu"
      ],
      "text/plain": [
       "<IPython.core.display.Markdown object>"
      ]
     },
     "metadata": {},
     "output_type": "display_data"
    },
    {
     "data": {
      "text/markdown": [
       "#####################################"
      ],
      "text/plain": [
       "<IPython.core.display.Markdown object>"
      ]
     },
     "metadata": {},
     "output_type": "display_data"
    },
    {
     "data": {
      "text/markdown": [
       "**Bug ID**: 12506"
      ],
      "text/plain": [
       "<IPython.core.display.Markdown object>"
      ]
     },
     "metadata": {},
     "output_type": "display_data"
    },
    {
     "data": {
      "text/markdown": [
       "**Bug status**: CLOSED"
      ],
      "text/plain": [
       "<IPython.core.display.Markdown object>"
      ]
     },
     "metadata": {},
     "output_type": "display_data"
    },
    {
     "data": {
      "text/markdown": [
       "**Component**: code"
      ],
      "text/plain": [
       "<IPython.core.display.Markdown object>"
      ]
     },
     "metadata": {},
     "output_type": "display_data"
    },
    {
     "data": {
      "text/markdown": [
       "**Product**: ui"
      ],
      "text/plain": [
       "<IPython.core.display.Markdown object>"
      ]
     },
     "metadata": {},
     "output_type": "display_data"
    },
    {
     "data": {
      "text/markdown": [
       "**Resolution**: DUPLICATE"
      ],
      "text/plain": [
       "<IPython.core.display.Markdown object>"
      ]
     },
     "metadata": {},
     "output_type": "display_data"
    },
    {
     "data": {
      "text/markdown": [
       "**Title**: Problems loading OO due to full CPU load."
      ],
      "text/plain": [
       "<IPython.core.display.Markdown object>"
      ]
     },
     "metadata": {},
     "output_type": "display_data"
    },
    {
     "data": {
      "text/markdown": [
       "**Description**: At full CPU load (default priority level for running program), loading of OO\n",
       "hangs and crashes. If renice +19 is issued OO loads as usual. \n",
       "Red Hat release 7.3 kernel 2.4.18"
      ],
      "text/plain": [
       "<IPython.core.display.Markdown object>"
      ]
     },
     "metadata": {},
     "output_type": "display_data"
    },
    {
     "data": {
      "text/markdown": [
       "#####################################"
      ],
      "text/plain": [
       "<IPython.core.display.Markdown object>"
      ]
     },
     "metadata": {},
     "output_type": "display_data"
    },
    {
     "data": {
      "text/markdown": [
       "**Bug ID**: 4827"
      ],
      "text/plain": [
       "<IPython.core.display.Markdown object>"
      ]
     },
     "metadata": {},
     "output_type": "display_data"
    },
    {
     "data": {
      "text/markdown": [
       "**Bug status**: CLOSED"
      ],
      "text/plain": [
       "<IPython.core.display.Markdown object>"
      ]
     },
     "metadata": {},
     "output_type": "display_data"
    },
    {
     "data": {
      "text/markdown": [
       "**Component**: ui"
      ],
      "text/plain": [
       "<IPython.core.display.Markdown object>"
      ]
     },
     "metadata": {},
     "output_type": "display_data"
    },
    {
     "data": {
      "text/markdown": [
       "**Product**: Writer"
      ],
      "text/plain": [
       "<IPython.core.display.Markdown object>"
      ]
     },
     "metadata": {},
     "output_type": "display_data"
    },
    {
     "data": {
      "text/markdown": [
       "**Resolution**: DUPLICATE"
      ],
      "text/plain": [
       "<IPython.core.display.Markdown object>"
      ]
     },
     "metadata": {},
     "output_type": "display_data"
    },
    {
     "data": {
      "text/markdown": [
       "**Title**: Any OpenOffice component (Writer, Calc, etc...) closes as soon as it starts."
      ],
      "text/plain": [
       "<IPython.core.display.Markdown object>"
      ]
     },
     "metadata": {},
     "output_type": "display_data"
    },
    {
     "data": {
      "text/markdown": [
       "**Description**: I tried running OpenOffice through various methods: a GNOME shortcut, with or without the \n",
       "'private:factory/swriter', etc. and as well, the command-line.  I get no error messages, no \n",
       "segfaults, nothing.  About 2 seconds after the new writer document or calc spreadsheet \n",
       "appears, OpenOffice simply quits.  I experienced this on both RedHat 7.2 and 7.3 (the latter a \n",
       "fresh installation).  Did a ./setup -net straight from the tarball, deleted my old OpenOffice config \n",
       "files (like .sversionrc and .user60.rdb, as well as .openoffice -- custom local install path), then \n",
       "did a network install (via /usr/openoffice/program/soffice) to create the user-specific config files.\n",
       "\n",
       "What frustrates me is sometimes it works, sometimes it doesn't.  I've tried various techniques to \n",
       "try and get this bugger reproducable (moving the mouse, leaving everything alone, switching to \n",
       "another window during load) and simply can't isolate the problem.\n",
       "\n",
       "Also had this problem with the very last build before the 1.0.0 release.  It may be a dupe, but \n",
       "the search page looks more like a tax form than a query, so I wasn't able to find anything \n",
       "related to this already submitted.\n",
       "\n",
       "Pentium II-350-ECC, Red Hat 7.3 (fresh install), 2 gig Maxtor IDE (Primary Master), 2.5 gig \n",
       "Quantum Fireball (Secondary Master), el cheap-o CD burner with SCSI emulation (Secondary \n",
       "Slave), 256MB RAM, 256MB swap (plenty of RAM free at the time), old Diamond Viper V550 \n",
       "2xAGP 8MB TNT (tried it with and without nVidia's proprietary drivers), IMPS/2 mouse \n",
       "(Intellimouse explorer)...  Running GNOME 1.4 (default RH73 install).  Will watch the thread for \n",
       "more info req's."
      ],
      "text/plain": [
       "<IPython.core.display.Markdown object>"
      ]
     },
     "metadata": {},
     "output_type": "display_data"
    },
    {
     "data": {
      "text/markdown": [
       "#####################################"
      ],
      "text/plain": [
       "<IPython.core.display.Markdown object>"
      ]
     },
     "metadata": {},
     "output_type": "display_data"
    },
    {
     "data": {
      "text/markdown": [
       "**Bug ID**: 7012"
      ],
      "text/plain": [
       "<IPython.core.display.Markdown object>"
      ]
     },
     "metadata": {},
     "output_type": "display_data"
    },
    {
     "data": {
      "text/markdown": [
       "**Bug status**: CLOSED"
      ],
      "text/plain": [
       "<IPython.core.display.Markdown object>"
      ]
     },
     "metadata": {},
     "output_type": "display_data"
    },
    {
     "data": {
      "text/markdown": [
       "**Component**: code"
      ],
      "text/plain": [
       "<IPython.core.display.Markdown object>"
      ]
     },
     "metadata": {},
     "output_type": "display_data"
    },
    {
     "data": {
      "text/markdown": [
       "**Product**: porting"
      ],
      "text/plain": [
       "<IPython.core.display.Markdown object>"
      ]
     },
     "metadata": {},
     "output_type": "display_data"
    },
    {
     "data": {
      "text/markdown": [
       "**Resolution**: DUPLICATE"
      ],
      "text/plain": [
       "<IPython.core.display.Markdown object>"
      ]
     },
     "metadata": {},
     "output_type": "display_data"
    },
    {
     "data": {
      "text/markdown": [
       "**Title**: Crash upon startup"
      ],
      "text/plain": [
       "<IPython.core.display.Markdown object>"
      ]
     },
     "metadata": {},
     "output_type": "display_data"
    },
    {
     "data": {
      "text/markdown": [
       "**Description**: After every reboot, when I run OpenOffice as user, the window frame is\n",
       "displayed, but the application terminates after a few seconds, without filling\n",
       "in the window (I can see everything thru it). When I run the program as root\n",
       "first and then as user, everything is fine until the next reboot. I don't see\n",
       "any directories or files with wrong permissions and I tried copying the system\n",
       "libdb-3.2.so over the one that comes with OpenOffice, but  that doesn't change\n",
       "anything.\n",
       "I don't know how I can find out what might cause it to crash."
      ],
      "text/plain": [
       "<IPython.core.display.Markdown object>"
      ]
     },
     "metadata": {},
     "output_type": "display_data"
    },
    {
     "data": {
      "text/markdown": [
       "#####################################"
      ],
      "text/plain": [
       "<IPython.core.display.Markdown object>"
      ]
     },
     "metadata": {},
     "output_type": "display_data"
    },
    {
     "data": {
      "text/markdown": [
       "**Bug ID**: 4709"
      ],
      "text/plain": [
       "<IPython.core.display.Markdown object>"
      ]
     },
     "metadata": {},
     "output_type": "display_data"
    },
    {
     "data": {
      "text/markdown": [
       "**Bug status**: CLOSED"
      ],
      "text/plain": [
       "<IPython.core.display.Markdown object>"
      ]
     },
     "metadata": {},
     "output_type": "display_data"
    },
    {
     "data": {
      "text/markdown": [
       "**Component**: code"
      ],
      "text/plain": [
       "<IPython.core.display.Markdown object>"
      ]
     },
     "metadata": {},
     "output_type": "display_data"
    },
    {
     "data": {
      "text/markdown": [
       "**Product**: Writer"
      ],
      "text/plain": [
       "<IPython.core.display.Markdown object>"
      ]
     },
     "metadata": {},
     "output_type": "display_data"
    },
    {
     "data": {
      "text/markdown": [
       "**Resolution**: DUPLICATE"
      ],
      "text/plain": [
       "<IPython.core.display.Markdown object>"
      ]
     },
     "metadata": {},
     "output_type": "display_data"
    },
    {
     "data": {
      "text/markdown": [
       "**Title**: When starting the first time in a session, Writer crashes seconds after starting."
      ],
      "text/plain": [
       "<IPython.core.display.Markdown object>"
      ]
     },
     "metadata": {},
     "output_type": "display_data"
    },
    {
     "data": {
      "text/markdown": [
       "**Description**: This happens EVERY TIME, when starting as a normal user. Debian Linux, GNOME\n",
       "1.2, XFree 4.1. Starting also takes quite a while on my Celeron 466 MHz/384 MB.\n",
       "\n",
       "When I restart OOo Writer directly after the crash it will run and work fine.\n",
       "\n",
       "I have tried as root and it worked without crashing. But I didn't try that\n",
       "often, because usually I don't do office work as root.\n",
       "\n",
       "I have read Issue#: 4430, Issue#:  4470 and seen the remark about this problem\n",
       "with the de_CH dictionary but this problem occurs, too, if de_CH is not present."
      ],
      "text/plain": [
       "<IPython.core.display.Markdown object>"
      ]
     },
     "metadata": {},
     "output_type": "display_data"
    },
    {
     "data": {
      "text/markdown": [
       "#####################################"
      ],
      "text/plain": [
       "<IPython.core.display.Markdown object>"
      ]
     },
     "metadata": {},
     "output_type": "display_data"
    },
    {
     "data": {
      "text/markdown": [
       "**Bug ID**: 5926"
      ],
      "text/plain": [
       "<IPython.core.display.Markdown object>"
      ]
     },
     "metadata": {},
     "output_type": "display_data"
    },
    {
     "data": {
      "text/markdown": [
       "**Bug status**: CLOSED"
      ],
      "text/plain": [
       "<IPython.core.display.Markdown object>"
      ]
     },
     "metadata": {},
     "output_type": "display_data"
    },
    {
     "data": {
      "text/markdown": [
       "**Component**: code"
      ],
      "text/plain": [
       "<IPython.core.display.Markdown object>"
      ]
     },
     "metadata": {},
     "output_type": "display_data"
    },
    {
     "data": {
      "text/markdown": [
       "**Product**: Writer"
      ],
      "text/plain": [
       "<IPython.core.display.Markdown object>"
      ]
     },
     "metadata": {},
     "output_type": "display_data"
    },
    {
     "data": {
      "text/markdown": [
       "**Resolution**: DUPLICATE"
      ],
      "text/plain": [
       "<IPython.core.display.Markdown object>"
      ]
     },
     "metadata": {},
     "output_type": "display_data"
    },
    {
     "data": {
      "text/markdown": [
       "**Title**: Open Office writer starts only after a second or third invocation"
      ],
      "text/plain": [
       "<IPython.core.display.Markdown object>"
      ]
     },
     "metadata": {},
     "output_type": "display_data"
    },
    {
     "data": {
      "text/markdown": [
       "**Description**: When I start Open Office Writer on my home machine (Athlon 850/256 MB RAM) it\n",
       "starts only after the second trial. After the first press of the appropriate\n",
       "icon the Writer's window appears and gets closed immediately, before the cursor\n",
       "starts to blink. On my office machine (Athlon 650/128MB RAM) it works similarly,\n",
       "but usually it starts after the third trial. Additionally this efect depends on\n",
       "the amount of time between the consecutive trials (the two trials on my home\n",
       "machine, or three trials on my office machine must be performed very quickly one\n",
       "after another, otherwise the Open Office Writer does not start at all).\n",
       " It seems that it may be a timeout problem when initializing different threads\n",
       "of the application?"
      ],
      "text/plain": [
       "<IPython.core.display.Markdown object>"
      ]
     },
     "metadata": {},
     "output_type": "display_data"
    },
    {
     "data": {
      "text/markdown": [
       "#####################################"
      ],
      "text/plain": [
       "<IPython.core.display.Markdown object>"
      ]
     },
     "metadata": {},
     "output_type": "display_data"
    },
    {
     "data": {
      "text/markdown": [
       "**Bug ID**: 5799"
      ],
      "text/plain": [
       "<IPython.core.display.Markdown object>"
      ]
     },
     "metadata": {},
     "output_type": "display_data"
    },
    {
     "data": {
      "text/markdown": [
       "**Bug status**: CLOSED"
      ],
      "text/plain": [
       "<IPython.core.display.Markdown object>"
      ]
     },
     "metadata": {},
     "output_type": "display_data"
    },
    {
     "data": {
      "text/markdown": [
       "**Component**: ui"
      ],
      "text/plain": [
       "<IPython.core.display.Markdown object>"
      ]
     },
     "metadata": {},
     "output_type": "display_data"
    },
    {
     "data": {
      "text/markdown": [
       "**Product**: ui"
      ],
      "text/plain": [
       "<IPython.core.display.Markdown object>"
      ]
     },
     "metadata": {},
     "output_type": "display_data"
    },
    {
     "data": {
      "text/markdown": [
       "**Resolution**: DUPLICATE"
      ],
      "text/plain": [
       "<IPython.core.display.Markdown object>"
      ]
     },
     "metadata": {},
     "output_type": "display_data"
    },
    {
     "data": {
      "text/markdown": [
       "**Title**: openoffice.org fails to startup on first try on redhat 7.3 linux"
      ],
      "text/plain": [
       "<IPython.core.display.Markdown object>"
      ]
     },
     "metadata": {},
     "output_type": "display_data"
    },
    {
     "data": {
      "text/markdown": [
       "**Description**: Every time I try to start any OOo program on a fresh booted system (pentium 233 MMX, 96 meg ram), It comes up all the way and immediatly \n",
       "shuts down without any errors. If I retry it usually succeeds (sometimes takes a couple of attempts). Once its up and running, It appears to be \n",
       "fine. This does not happen on a faster redhat 7.3 system (866 P3 w/512 megs ram), I have duplicated this on 2 different systems with the only \n",
       "common thread is the Redhat 7.3 and Pentium 233 MMX."
      ],
      "text/plain": [
       "<IPython.core.display.Markdown object>"
      ]
     },
     "metadata": {},
     "output_type": "display_data"
    },
    {
     "data": {
      "text/markdown": [
       "#####################################"
      ],
      "text/plain": [
       "<IPython.core.display.Markdown object>"
      ]
     },
     "metadata": {},
     "output_type": "display_data"
    },
    {
     "data": {
      "text/markdown": [
       "**Bug ID**: 4200"
      ],
      "text/plain": [
       "<IPython.core.display.Markdown object>"
      ]
     },
     "metadata": {},
     "output_type": "display_data"
    },
    {
     "data": {
      "text/markdown": [
       "**Bug status**: CLOSED"
      ],
      "text/plain": [
       "<IPython.core.display.Markdown object>"
      ]
     },
     "metadata": {},
     "output_type": "display_data"
    },
    {
     "data": {
      "text/markdown": [
       "**Component**: api"
      ],
      "text/plain": [
       "<IPython.core.display.Markdown object>"
      ]
     },
     "metadata": {},
     "output_type": "display_data"
    },
    {
     "data": {
      "text/markdown": [
       "**Product**: App Dev"
      ],
      "text/plain": [
       "<IPython.core.display.Markdown object>"
      ]
     },
     "metadata": {},
     "output_type": "display_data"
    },
    {
     "data": {
      "text/markdown": [
       "**Resolution**: DUPLICATE"
      ],
      "text/plain": [
       "<IPython.core.display.Markdown object>"
      ]
     },
     "metadata": {},
     "output_type": "display_data"
    },
    {
     "data": {
      "text/markdown": [
       "**Title**: Openoffice crashes after opening in Ximian"
      ],
      "text/plain": [
       "<IPython.core.display.Markdown object>"
      ]
     },
     "metadata": {},
     "output_type": "display_data"
    },
    {
     "data": {
      "text/markdown": [
       "**Description**: Hi, I have OpenOffice installed on a Mandrake 8.1 Linux PC.  It worked fine for \n",
       "a few days, but since I've installed the Ximian Gnome desktop, it will open, \n",
       "then crash as soon as you click any part of the screen or try to insert any \n",
       "text.  Do you know of any issues with Ximian or Gnome?  I'm also querying their \n",
       "web sites.\n",
       "\n",
       "Thanks,\n",
       "\n",
       "-j"
      ],
      "text/plain": [
       "<IPython.core.display.Markdown object>"
      ]
     },
     "metadata": {},
     "output_type": "display_data"
    },
    {
     "data": {
      "text/markdown": [
       "#####################################"
      ],
      "text/plain": [
       "<IPython.core.display.Markdown object>"
      ]
     },
     "metadata": {},
     "output_type": "display_data"
    },
    {
     "data": {
      "text/markdown": [
       "**Bug ID**: 6633"
      ],
      "text/plain": [
       "<IPython.core.display.Markdown object>"
      ]
     },
     "metadata": {},
     "output_type": "display_data"
    },
    {
     "data": {
      "text/markdown": [
       "**Bug status**: CLOSED"
      ],
      "text/plain": [
       "<IPython.core.display.Markdown object>"
      ]
     },
     "metadata": {},
     "output_type": "display_data"
    },
    {
     "data": {
      "text/markdown": [
       "**Component**: ui"
      ],
      "text/plain": [
       "<IPython.core.display.Markdown object>"
      ]
     },
     "metadata": {},
     "output_type": "display_data"
    },
    {
     "data": {
      "text/markdown": [
       "**Product**: Writer"
      ],
      "text/plain": [
       "<IPython.core.display.Markdown object>"
      ]
     },
     "metadata": {},
     "output_type": "display_data"
    },
    {
     "data": {
      "text/markdown": [
       "**Resolution**: DUPLICATE"
      ],
      "text/plain": [
       "<IPython.core.display.Markdown object>"
      ]
     },
     "metadata": {},
     "output_type": "display_data"
    },
    {
     "data": {
      "text/markdown": [
       "**Title**: SESSION_MANAGER environment variable"
      ],
      "text/plain": [
       "<IPython.core.display.Markdown object>"
      ]
     },
     "metadata": {},
     "output_type": "display_data"
    },
    {
     "data": {
      "text/markdown": [
       "**Description**: I use Gnome on my machine.\n",
       "Whenever I am trying to run soffice while the environment variable \n",
       "SESSION_MANAGER has some particular value soffice exits before the loading is\n",
       "completed.\n",
       "Nevertheless, if I run simpress first and only then swriter, it goes smoothly."
      ],
      "text/plain": [
       "<IPython.core.display.Markdown object>"
      ]
     },
     "metadata": {},
     "output_type": "display_data"
    },
    {
     "data": {
      "text/markdown": [
       "#####################################"
      ],
      "text/plain": [
       "<IPython.core.display.Markdown object>"
      ]
     },
     "metadata": {},
     "output_type": "display_data"
    },
    {
     "data": {
      "text/markdown": [
       "**Bug ID**: 5099"
      ],
      "text/plain": [
       "<IPython.core.display.Markdown object>"
      ]
     },
     "metadata": {},
     "output_type": "display_data"
    },
    {
     "data": {
      "text/markdown": [
       "**Bug status**: CLOSED"
      ],
      "text/plain": [
       "<IPython.core.display.Markdown object>"
      ]
     },
     "metadata": {},
     "output_type": "display_data"
    },
    {
     "data": {
      "text/markdown": [
       "**Component**: code"
      ],
      "text/plain": [
       "<IPython.core.display.Markdown object>"
      ]
     },
     "metadata": {},
     "output_type": "display_data"
    },
    {
     "data": {
      "text/markdown": [
       "**Product**: ui"
      ],
      "text/plain": [
       "<IPython.core.display.Markdown object>"
      ]
     },
     "metadata": {},
     "output_type": "display_data"
    },
    {
     "data": {
      "text/markdown": [
       "**Resolution**: DUPLICATE"
      ],
      "text/plain": [
       "<IPython.core.display.Markdown object>"
      ]
     },
     "metadata": {},
     "output_type": "display_data"
    },
    {
     "data": {
      "text/markdown": [
       "**Title**: openoffice crashes at open"
      ],
      "text/plain": [
       "<IPython.core.display.Markdown object>"
      ]
     },
     "metadata": {},
     "output_type": "display_data"
    },
    {
     "data": {
      "text/markdown": [
       "**Description**: I have noticed the problem on several installs of openoffice. Environment details:\n",
       "- verified on Linux 2.2.19 and 2.4.18\n",
       "- Gnome desktop\n",
       "- verified on PCs PIII 700 256mb RAM, PII 500 64mb RAM, PIII 500 512mb RAM\n",
       "- verified in 641d and apparently 1.0.0\n",
       "\n",
       "Problem:\n",
       "- When OOo started from a Gnome menu or panel, application starts up, shows the\n",
       "component selected (swriter/scalc...) pauses for a second and then disappears -\n",
       "crashes. Since started from menu no error is displayed.\n",
       "- When restarted immediately after this crash the component will in 80% cases\n",
       "stay open and allow to be used. However, if there is a longer wait (5-10s)\n",
       "between the first crash and the second attempt to open from a menu, it will\n",
       "crash again.\n",
       "- If Mozilla is open OOo will not stay open no matter what or how many attempts\n",
       "are made to open it.\n",
       "- However, when the component is started from a terminal typing exactly the same\n",
       "command as used in the menu it will start and stay open without problems,\n",
       "regardless of whether Mozilla is open or not.\n",
       "- Also, if the components are started from Nautilus with file association they\n",
       "will present the same problems as above.\n",
       "- But if the components are started from OpenOffice QuickStarter applet these\n",
       "problems will not show up.\n",
       "\n",
       "This has been verified on several platform and kernel combinations with the same\n",
       "results. I have personally verified it on 641d, however, have heard several user\n",
       "reports that 1.0.0 has the same problem.\n",
       "\n",
       "Thanks... and keep up the good work!"
      ],
      "text/plain": [
       "<IPython.core.display.Markdown object>"
      ]
     },
     "metadata": {},
     "output_type": "display_data"
    },
    {
     "data": {
      "text/markdown": [
       "#####################################"
      ],
      "text/plain": [
       "<IPython.core.display.Markdown object>"
      ]
     },
     "metadata": {},
     "output_type": "display_data"
    },
    {
     "data": {
      "text/markdown": [
       "**Bug ID**: 7917"
      ],
      "text/plain": [
       "<IPython.core.display.Markdown object>"
      ]
     },
     "metadata": {},
     "output_type": "display_data"
    },
    {
     "data": {
      "text/markdown": [
       "**Bug status**: CLOSED"
      ],
      "text/plain": [
       "<IPython.core.display.Markdown object>"
      ]
     },
     "metadata": {},
     "output_type": "display_data"
    },
    {
     "data": {
      "text/markdown": [
       "**Component**: ui"
      ],
      "text/plain": [
       "<IPython.core.display.Markdown object>"
      ]
     },
     "metadata": {},
     "output_type": "display_data"
    },
    {
     "data": {
      "text/markdown": [
       "**Product**: Installation"
      ],
      "text/plain": [
       "<IPython.core.display.Markdown object>"
      ]
     },
     "metadata": {},
     "output_type": "display_data"
    },
    {
     "data": {
      "text/markdown": [
       "**Resolution**: DUPLICATE"
      ],
      "text/plain": [
       "<IPython.core.display.Markdown object>"
      ]
     },
     "metadata": {},
     "output_type": "display_data"
    },
    {
     "data": {
      "text/markdown": [
       "**Title**: Root succeeds, user fails"
      ],
      "text/plain": [
       "<IPython.core.display.Markdown object>"
      ]
     },
     "metadata": {},
     "output_type": "display_data"
    },
    {
     "data": {
      "text/markdown": [
       "**Description**: OpenOffice 1.0.1 (downloaded tarball), RedHat 7.3 Intel workstation install,\n",
       "nothing special modified.\n",
       "\n",
       "I successfully did a network install as root, then successfully did workstation\n",
       "installs as both root and a regular user. root is able to run soffice\n",
       "successfully; the normal user is not. When the normal user runs soffice the logo\n",
       "appears, disk grinds for a while, logo disappears, border of a window is drawn\n",
       "but never filled in, then the window disappears and the message \"Aborted\" is\n",
       "printed on the terminal window.\n",
       "\n",
       "There are a few twists to this story: The regular user is initially able to run\n",
       "the swriter program successfully immediately after the workstation install;\n",
       "however, after he logs out of X and logs in again he is no longer able to run\n",
       "swriter; it fails with the \"Aborted\" message just like soffice. The regular user\n",
       "is never able to run the soffice program successfully.\n",
       "\n",
       "I found 2 tips in the newsgroups: 1) Verify all fonts are valid; 2) check for\n",
       "write permission on all OpenOffice files in the regular user directory. Red Hat\n",
       "7.3 uses xfs; initially it was complaining about some erroneous font paths, but\n",
       "I removed them with chkfontpath and now xfs emits no errors. Also I did chmod -R\n",
       "ug+rw OpenOffice.org1.0.1/* in the regular user directory, which should\n",
       "guarantee write access to all OpenOffice files (I also did this for the\n",
       ".sversionrc file).  Neither of these suggestions helped anything.\n",
       "\n",
       "I still have the problem of the \"Aborted\" message when running soffice (and\n",
       "swriter) as the regular user. What is going on? Help!"
      ],
      "text/plain": [
       "<IPython.core.display.Markdown object>"
      ]
     },
     "metadata": {},
     "output_type": "display_data"
    },
    {
     "data": {
      "text/markdown": [
       "#####################################"
      ],
      "text/plain": [
       "<IPython.core.display.Markdown object>"
      ]
     },
     "metadata": {},
     "output_type": "display_data"
    },
    {
     "data": {
      "text/markdown": [
       "**Bug ID**: 5684"
      ],
      "text/plain": [
       "<IPython.core.display.Markdown object>"
      ]
     },
     "metadata": {},
     "output_type": "display_data"
    },
    {
     "data": {
      "text/markdown": [
       "**Bug status**: CLOSED"
      ],
      "text/plain": [
       "<IPython.core.display.Markdown object>"
      ]
     },
     "metadata": {},
     "output_type": "display_data"
    },
    {
     "data": {
      "text/markdown": [
       "**Component**: ui"
      ],
      "text/plain": [
       "<IPython.core.display.Markdown object>"
      ]
     },
     "metadata": {},
     "output_type": "display_data"
    },
    {
     "data": {
      "text/markdown": [
       "**Product**: ui"
      ],
      "text/plain": [
       "<IPython.core.display.Markdown object>"
      ]
     },
     "metadata": {},
     "output_type": "display_data"
    },
    {
     "data": {
      "text/markdown": [
       "**Resolution**: DUPLICATE"
      ],
      "text/plain": [
       "<IPython.core.display.Markdown object>"
      ]
     },
     "metadata": {},
     "output_type": "display_data"
    },
    {
     "data": {
      "text/markdown": [
       "**Title**: OpenOffice tries to close on startup"
      ],
      "text/plain": [
       "<IPython.core.display.Markdown object>"
      ]
     },
     "metadata": {},
     "output_type": "display_data"
    },
    {
     "data": {
      "text/markdown": [
       "**Description**: Howdy;\n",
       "\n",
       "I've got a peculiar issue with both OpenOffice and StarOffice (1.0 and 6.0\n",
       "respectively).  This makes me think that it's an environment issue.\n",
       "\n",
       "Initially, I thought this was logo related (reference\n",
       "http://www.openoffice.org/servlets/ReadMsg?msgId=329389&listName=users) but it\n",
       "turns out I'd been hitting the crack pipe a bit too hard (it's not logo related,\n",
       "it was a flaw in my methodology).\n",
       "\n",
       "What appears to be the case is that *Office is trying to start up, and then it\n",
       "tries to close (presumably with some sort of File, Close).  This is evidenced by\n",
       "it starting whatever application you want, and then immediately closing it.\n",
       "\n",
       "This is irrespective of whether it's a new or previous document.\n",
       "\n",
       "The way to hack around this issue is to be very quick with the key strokes.  On\n",
       "startup, if you can get in there and enter some data into the application, it\n",
       "will ask you if you want to Save/Discard/Cancel.  If you say Cancel, then it\n",
       "continues on happily, and you can open/save/whatever to your heart's content.\n",
       "\n",
       "I now believe I know why this is occuring; it appears to be a conflict in\n",
       "xscreensaver.  I'm running:\n",
       "\n",
       "$ dpkg --list xscreensaver\\*\n",
       "Desired=Unknown/Install/Remove/Purge/Hold\n",
       "| Status=Not/Installed/Config-files/Unpacked/Failed-config/Half-installed\n",
       "|/ Err?=(none)/Hold/Reinst-required/X=both-problems (Status,Err: uppercase=bad)\n",
       "||/ Name           Version        Description\n",
       "+++-==============-==============-============================================\n",
       "ii  xscreensaver   3.34-3         Automatic screensaver for X\n",
       "ii  xscreensaver-g 3.34-3         GL(Mesa) screenhacks for xscreensaver\n",
       "ii  xscreensaver-g 3.34-3         GNOME binaries for xscreensaver\n",
       "\n",
       "If I kill the daemon, then I can start *Office just fine.\n",
       "\n",
       "I am going to file a bug on xscreensaver for this as well, and reference this\n",
       "project issue.  I've got a workaround, so it's hardly major or urgent, just damn\n",
       "annoying :)\n",
       "\n",
       "Cheers\n",
       "\n",
       "Richard"
      ],
      "text/plain": [
       "<IPython.core.display.Markdown object>"
      ]
     },
     "metadata": {},
     "output_type": "display_data"
    },
    {
     "data": {
      "text/markdown": [
       "#####################################"
      ],
      "text/plain": [
       "<IPython.core.display.Markdown object>"
      ]
     },
     "metadata": {},
     "output_type": "display_data"
    },
    {
     "data": {
      "text/markdown": [
       "**Bug ID**: 4470"
      ],
      "text/plain": [
       "<IPython.core.display.Markdown object>"
      ]
     },
     "metadata": {},
     "output_type": "display_data"
    },
    {
     "data": {
      "text/markdown": [
       "**Bug status**: CLOSED"
      ],
      "text/plain": [
       "<IPython.core.display.Markdown object>"
      ]
     },
     "metadata": {},
     "output_type": "display_data"
    },
    {
     "data": {
      "text/markdown": [
       "**Component**: code"
      ],
      "text/plain": [
       "<IPython.core.display.Markdown object>"
      ]
     },
     "metadata": {},
     "output_type": "display_data"
    },
    {
     "data": {
      "text/markdown": [
       "**Product**: Writer"
      ],
      "text/plain": [
       "<IPython.core.display.Markdown object>"
      ]
     },
     "metadata": {},
     "output_type": "display_data"
    },
    {
     "data": {
      "text/markdown": [
       "**Resolution**: DUPLICATE"
      ],
      "text/plain": [
       "<IPython.core.display.Markdown object>"
      ]
     },
     "metadata": {},
     "output_type": "display_data"
    },
    {
     "data": {
      "text/markdown": [
       "**Title**: crash using gnome 1.4"
      ],
      "text/plain": [
       "<IPython.core.display.Markdown object>"
      ]
     },
     "metadata": {},
     "output_type": "display_data"
    },
    {
     "data": {
      "text/markdown": [
       "**Description**: When I start OO as a normal user, there always appears the import address book\n",
       "dialog and the OO-mainwindow crashes in background. When I then press any button\n",
       "in the dialog, it also crashes with an \"unrecoverable error\" message and soffice\n",
       "returns to the console-prompt.\n",
       "\n",
       "As root user, OO seems to act as normal."
      ],
      "text/plain": [
       "<IPython.core.display.Markdown object>"
      ]
     },
     "metadata": {},
     "output_type": "display_data"
    },
    {
     "data": {
      "text/markdown": [
       "#####################################"
      ],
      "text/plain": [
       "<IPython.core.display.Markdown object>"
      ]
     },
     "metadata": {},
     "output_type": "display_data"
    },
    {
     "data": {
      "text/markdown": [
       "**Bug ID**: 7416"
      ],
      "text/plain": [
       "<IPython.core.display.Markdown object>"
      ]
     },
     "metadata": {},
     "output_type": "display_data"
    },
    {
     "data": {
      "text/markdown": [
       "**Bug status**: CLOSED"
      ],
      "text/plain": [
       "<IPython.core.display.Markdown object>"
      ]
     },
     "metadata": {},
     "output_type": "display_data"
    },
    {
     "data": {
      "text/markdown": [
       "**Component**: ui"
      ],
      "text/plain": [
       "<IPython.core.display.Markdown object>"
      ]
     },
     "metadata": {},
     "output_type": "display_data"
    },
    {
     "data": {
      "text/markdown": [
       "**Product**: Installation"
      ],
      "text/plain": [
       "<IPython.core.display.Markdown object>"
      ]
     },
     "metadata": {},
     "output_type": "display_data"
    },
    {
     "data": {
      "text/markdown": [
       "**Resolution**: DUPLICATE"
      ],
      "text/plain": [
       "<IPython.core.display.Markdown object>"
      ]
     },
     "metadata": {},
     "output_type": "display_data"
    },
    {
     "data": {
      "text/markdown": [
       "**Title**: soffice exits without any diagnostic message"
      ],
      "text/plain": [
       "<IPython.core.display.Markdown object>"
      ]
     },
     "metadata": {},
     "output_type": "display_data"
    },
    {
     "data": {
      "text/markdown": [
       "**Description**: A while ago I installed openoffice.org 1.0.1. (Multiuser installation). The\n",
       "post-installation setup had some anomalies (reported separately) but I was\n",
       "subsequently able to use openoffice.org's spreadsheet.\n",
       "But today, I type ./soffice from the OpenOffice.org1.0.1 directory, and the\n",
       "OpenOffice splash bitmap appears, but then it just quits without trace. No\n",
       "diagnostics, nothing - at least not in the xterm session I started it from.\n",
       "\n",
       "My installation is on Debain Linux Woody (the official release installed from CDs).\n",
       "\n",
       "This problem obviously makes OpenOffice.org unusable."
      ],
      "text/plain": [
       "<IPython.core.display.Markdown object>"
      ]
     },
     "metadata": {},
     "output_type": "display_data"
    },
    {
     "data": {
      "text/markdown": [
       "#####################################"
      ],
      "text/plain": [
       "<IPython.core.display.Markdown object>"
      ]
     },
     "metadata": {},
     "output_type": "display_data"
    },
    {
     "data": {
      "text/markdown": [
       "**Bug ID**: 5945"
      ],
      "text/plain": [
       "<IPython.core.display.Markdown object>"
      ]
     },
     "metadata": {},
     "output_type": "display_data"
    },
    {
     "data": {
      "text/markdown": [
       "**Bug status**: CLOSED"
      ],
      "text/plain": [
       "<IPython.core.display.Markdown object>"
      ]
     },
     "metadata": {},
     "output_type": "display_data"
    },
    {
     "data": {
      "text/markdown": [
       "**Component**: code"
      ],
      "text/plain": [
       "<IPython.core.display.Markdown object>"
      ]
     },
     "metadata": {},
     "output_type": "display_data"
    },
    {
     "data": {
      "text/markdown": [
       "**Product**: Writer"
      ],
      "text/plain": [
       "<IPython.core.display.Markdown object>"
      ]
     },
     "metadata": {},
     "output_type": "display_data"
    },
    {
     "data": {
      "text/markdown": [
       "**Resolution**: DUPLICATE"
      ],
      "text/plain": [
       "<IPython.core.display.Markdown object>"
      ]
     },
     "metadata": {},
     "output_type": "display_data"
    },
    {
     "data": {
      "text/markdown": [
       "**Title**: Open Office crashes silently on startup"
      ],
      "text/plain": [
       "<IPython.core.display.Markdown object>"
      ]
     },
     "metadata": {},
     "output_type": "display_data"
    },
    {
     "data": {
      "text/markdown": [
       "**Description**: when starting openoffice, it will crash silently if left alone for a couple of\n",
       "seconds. if Ctl-O is pressed (open file) it stays open without crashing.\n",
       "\n",
       "the output when run in a terminal is...\n",
       "\n",
       "# /usr/local/openoffice1.0$ ./soffice \n",
       "sh: /usr/sbin/lpc: No such file or directory\n",
       "sh: lpc: command not found\n",
       "sh: lpstat: command not found\n",
       "\n",
       "\n",
       ".. and then the program crashes (i dont have a printer so i dont have lpd\n",
       "installed). If I restart it again, it sometimes stays up. On the third restart &\n",
       "subsequent restarts, it stays up & doesnt crash.\n",
       "\n",
       "Im using Debian Woody on a toshiba laptop x86 PIII, 128MB ram X, 4.1.0.1\n",
       "OpenOffice 1.0.0"
      ],
      "text/plain": [
       "<IPython.core.display.Markdown object>"
      ]
     },
     "metadata": {},
     "output_type": "display_data"
    }
   ],
   "source": [
    "buckets = retrieval.buckets\n",
    "outliers_bucket = buckets[bucket_outlier]\n",
    "outliers_bucket = outliers_bucket - set(outlier_bug_ids[1:])\n",
    "\n",
    "display_outlier_contents(outliers_bucket)"
   ]
  },
  {
   "cell_type": "markdown",
   "metadata": {},
   "source": [
    "### Outliers"
   ]
  },
  {
   "cell_type": "code",
   "execution_count": 244,
   "metadata": {},
   "outputs": [
    {
     "data": {
      "text/markdown": [
       "#####################################"
      ],
      "text/plain": [
       "<IPython.core.display.Markdown object>"
      ]
     },
     "metadata": {},
     "output_type": "display_data"
    },
    {
     "data": {
      "text/markdown": [
       "**Bug ID**: 5684"
      ],
      "text/plain": [
       "<IPython.core.display.Markdown object>"
      ]
     },
     "metadata": {},
     "output_type": "display_data"
    },
    {
     "data": {
      "text/markdown": [
       "**Bug status**: CLOSED"
      ],
      "text/plain": [
       "<IPython.core.display.Markdown object>"
      ]
     },
     "metadata": {},
     "output_type": "display_data"
    },
    {
     "data": {
      "text/markdown": [
       "**Component**: ui"
      ],
      "text/plain": [
       "<IPython.core.display.Markdown object>"
      ]
     },
     "metadata": {},
     "output_type": "display_data"
    },
    {
     "data": {
      "text/markdown": [
       "**Product**: ui"
      ],
      "text/plain": [
       "<IPython.core.display.Markdown object>"
      ]
     },
     "metadata": {},
     "output_type": "display_data"
    },
    {
     "data": {
      "text/markdown": [
       "**Resolution**: DUPLICATE"
      ],
      "text/plain": [
       "<IPython.core.display.Markdown object>"
      ]
     },
     "metadata": {},
     "output_type": "display_data"
    },
    {
     "data": {
      "text/markdown": [
       "**Title**: OpenOffice tries to close on startup"
      ],
      "text/plain": [
       "<IPython.core.display.Markdown object>"
      ]
     },
     "metadata": {},
     "output_type": "display_data"
    },
    {
     "data": {
      "text/markdown": [
       "**Description**: Howdy;\n",
       "\n",
       "I've got a peculiar issue with both OpenOffice and StarOffice (1.0 and 6.0\n",
       "respectively).  This makes me think that it's an environment issue.\n",
       "\n",
       "Initially, I thought this was logo related (reference\n",
       "http://www.openoffice.org/servlets/ReadMsg?msgId=329389&listName=users) but it\n",
       "turns out I'd been hitting the crack pipe a bit too hard (it's not logo related,\n",
       "it was a flaw in my methodology).\n",
       "\n",
       "What appears to be the case is that *Office is trying to start up, and then it\n",
       "tries to close (presumably with some sort of File, Close).  This is evidenced by\n",
       "it starting whatever application you want, and then immediately closing it.\n",
       "\n",
       "This is irrespective of whether it's a new or previous document.\n",
       "\n",
       "The way to hack around this issue is to be very quick with the key strokes.  On\n",
       "startup, if you can get in there and enter some data into the application, it\n",
       "will ask you if you want to Save/Discard/Cancel.  If you say Cancel, then it\n",
       "continues on happily, and you can open/save/whatever to your heart's content.\n",
       "\n",
       "I now believe I know why this is occuring; it appears to be a conflict in\n",
       "xscreensaver.  I'm running:\n",
       "\n",
       "$ dpkg --list xscreensaver\\*\n",
       "Desired=Unknown/Install/Remove/Purge/Hold\n",
       "| Status=Not/Installed/Config-files/Unpacked/Failed-config/Half-installed\n",
       "|/ Err?=(none)/Hold/Reinst-required/X=both-problems (Status,Err: uppercase=bad)\n",
       "||/ Name           Version        Description\n",
       "+++-==============-==============-============================================\n",
       "ii  xscreensaver   3.34-3         Automatic screensaver for X\n",
       "ii  xscreensaver-g 3.34-3         GL(Mesa) screenhacks for xscreensaver\n",
       "ii  xscreensaver-g 3.34-3         GNOME binaries for xscreensaver\n",
       "\n",
       "If I kill the daemon, then I can start *Office just fine.\n",
       "\n",
       "I am going to file a bug on xscreensaver for this as well, and reference this\n",
       "project issue.  I've got a workaround, so it's hardly major or urgent, just damn\n",
       "annoying :)\n",
       "\n",
       "Cheers\n",
       "\n",
       "Richard"
      ],
      "text/plain": [
       "<IPython.core.display.Markdown object>"
      ]
     },
     "metadata": {},
     "output_type": "display_data"
    },
    {
     "data": {
      "text/markdown": [
       "#####################################"
      ],
      "text/plain": [
       "<IPython.core.display.Markdown object>"
      ]
     },
     "metadata": {},
     "output_type": "display_data"
    },
    {
     "data": {
      "text/markdown": [
       "**Bug ID**: 89346"
      ],
      "text/plain": [
       "<IPython.core.display.Markdown object>"
      ]
     },
     "metadata": {},
     "output_type": "display_data"
    },
    {
     "data": {
      "text/markdown": [
       "**Bug status**: CLOSED"
      ],
      "text/plain": [
       "<IPython.core.display.Markdown object>"
      ]
     },
     "metadata": {},
     "output_type": "display_data"
    },
    {
     "data": {
      "text/markdown": [
       "**Component**: code"
      ],
      "text/plain": [
       "<IPython.core.display.Markdown object>"
      ]
     },
     "metadata": {},
     "output_type": "display_data"
    },
    {
     "data": {
      "text/markdown": [
       "**Product**: Installation"
      ],
      "text/plain": [
       "<IPython.core.display.Markdown object>"
      ]
     },
     "metadata": {},
     "output_type": "display_data"
    },
    {
     "data": {
      "text/markdown": [
       "**Resolution**: DUPLICATE"
      ],
      "text/plain": [
       "<IPython.core.display.Markdown object>"
      ]
     },
     "metadata": {},
     "output_type": "display_data"
    },
    {
     "data": {
      "text/markdown": [
       "**Title**: odt file type not associated"
      ],
      "text/plain": [
       "<IPython.core.display.Markdown object>"
      ]
     },
     "metadata": {},
     "output_type": "display_data"
    },
    {
     "data": {
      "text/markdown": [
       "**Description**: When installing 3.0 beta for Windows, the file type .odt is not associated with\n",
       "open office.  So, when double clicking on these files, one gets the standard\n",
       "Windows dialog asking what application to run."
      ],
      "text/plain": [
       "<IPython.core.display.Markdown object>"
      ]
     },
     "metadata": {},
     "output_type": "display_data"
    },
    {
     "data": {
      "text/markdown": [
       "#####################################"
      ],
      "text/plain": [
       "<IPython.core.display.Markdown object>"
      ]
     },
     "metadata": {},
     "output_type": "display_data"
    },
    {
     "data": {
      "text/markdown": [
       "**Bug ID**: 90157"
      ],
      "text/plain": [
       "<IPython.core.display.Markdown object>"
      ]
     },
     "metadata": {},
     "output_type": "display_data"
    },
    {
     "data": {
      "text/markdown": [
       "**Bug status**: CLOSED"
      ],
      "text/plain": [
       "<IPython.core.display.Markdown object>"
      ]
     },
     "metadata": {},
     "output_type": "display_data"
    },
    {
     "data": {
      "text/markdown": [
       "**Component**: ui"
      ],
      "text/plain": [
       "<IPython.core.display.Markdown object>"
      ]
     },
     "metadata": {},
     "output_type": "display_data"
    },
    {
     "data": {
      "text/markdown": [
       "**Product**: Installation"
      ],
      "text/plain": [
       "<IPython.core.display.Markdown object>"
      ]
     },
     "metadata": {},
     "output_type": "display_data"
    },
    {
     "data": {
      "text/markdown": [
       "**Resolution**: DUPLICATE"
      ],
      "text/plain": [
       "<IPython.core.display.Markdown object>"
      ]
     },
     "metadata": {},
     "output_type": "display_data"
    },
    {
     "data": {
      "text/markdown": [
       "**Title**: Not assigned extensions"
      ],
      "text/plain": [
       "<IPython.core.display.Markdown object>"
      ]
     },
     "metadata": {},
     "output_type": "display_data"
    },
    {
     "data": {
      "text/markdown": [
       "**Description**: Installation program of OpenOffice 3.0 Beta does not assign extensions. I must\n",
       "do it manually, otherwise it is not possible to open documents by double-click."
      ],
      "text/plain": [
       "<IPython.core.display.Markdown object>"
      ]
     },
     "metadata": {},
     "output_type": "display_data"
    },
    {
     "data": {
      "text/markdown": [
       "#####################################"
      ],
      "text/plain": [
       "<IPython.core.display.Markdown object>"
      ]
     },
     "metadata": {},
     "output_type": "display_data"
    },
    {
     "data": {
      "text/markdown": [
       "**Bug ID**: 89163"
      ],
      "text/plain": [
       "<IPython.core.display.Markdown object>"
      ]
     },
     "metadata": {},
     "output_type": "display_data"
    },
    {
     "data": {
      "text/markdown": [
       "**Bug status**: CLOSED"
      ],
      "text/plain": [
       "<IPython.core.display.Markdown object>"
      ]
     },
     "metadata": {},
     "output_type": "display_data"
    },
    {
     "data": {
      "text/markdown": [
       "**Component**: code"
      ],
      "text/plain": [
       "<IPython.core.display.Markdown object>"
      ]
     },
     "metadata": {},
     "output_type": "display_data"
    },
    {
     "data": {
      "text/markdown": [
       "**Product**: Installation"
      ],
      "text/plain": [
       "<IPython.core.display.Markdown object>"
      ]
     },
     "metadata": {},
     "output_type": "display_data"
    },
    {
     "data": {
      "text/markdown": [
       "**Resolution**: DUPLICATE"
      ],
      "text/plain": [
       "<IPython.core.display.Markdown object>"
      ]
     },
     "metadata": {},
     "output_type": "display_data"
    },
    {
     "data": {
      "text/markdown": [
       "**Title**: file-extensions and -types are not registered in Windows upon insatllation"
      ],
      "text/plain": [
       "<IPython.core.display.Markdown object>"
      ]
     },
     "metadata": {},
     "output_type": "display_data"
    },
    {
     "data": {
      "text/markdown": [
       "**Description**: On my (german) Windows XP SP3 there are no file-types registered for\n",
       "OO-Documents. I did not recognize that Behaviour with older developer versions\n",
       "of OO3"
      ],
      "text/plain": [
       "<IPython.core.display.Markdown object>"
      ]
     },
     "metadata": {},
     "output_type": "display_data"
    }
   ],
   "source": [
    "display_outlier_contents(outlier_bug_ids)"
   ]
  },
  {
   "cell_type": "markdown",
   "metadata": {},
   "source": [
    "### Duplicate of 100934"
   ]
  },
  {
   "cell_type": "code",
   "execution_count": 222,
   "metadata": {},
   "outputs": [],
   "source": [
    "bucket_outlier = 100934\n",
    "outlier_x = tsne_features[np.where(np.asarray(categories) == 'duplicate_of_{}'.format(bucket_outlier)), 0]\n",
    "outlier_y = tsne_features[np.where(np.asarray(categories) == 'duplicate_of_{}'.format(bucket_outlier)), 1]\n",
    "index = np.where(np.asarray(outlier_y[0])  < 0)"
   ]
  },
  {
   "cell_type": "code",
   "execution_count": 143,
   "metadata": {},
   "outputs": [],
   "source": [
    "outlier_x = outlier_x[0][np.where(np.asarray(outlier_x[0])  > 7.5)]\n",
    "outlier_y = outlier_y[0][np.where(np.asarray(outlier_y[0])  < 0)]"
   ]
  },
  {
   "cell_type": "code",
   "execution_count": 159,
   "metadata": {},
   "outputs": [
    {
     "data": {
      "text/plain": [
       "array([100934,  91415,  90056])"
      ]
     },
     "execution_count": 159,
     "metadata": {},
     "output_type": "execute_result"
    }
   ],
   "source": [
    "outlier_bug_ids = np.asarray(bug_ids)[index]\n",
    "outlier_bug_ids = np.insert(outlier_bug_ids, 0, bucket_outlier)\n",
    "outlier_bug_ids"
   ]
  },
  {
   "cell_type": "markdown",
   "metadata": {},
   "source": [
    "### Visualizing group without outliers"
   ]
  },
  {
   "cell_type": "code",
   "execution_count": 194,
   "metadata": {},
   "outputs": [
    {
     "data": {
      "text/markdown": [
       "#####################################"
      ],
      "text/plain": [
       "<IPython.core.display.Markdown object>"
      ]
     },
     "metadata": {},
     "output_type": "display_data"
    },
    {
     "data": {
      "text/markdown": [
       "**Bug ID**: 99200"
      ],
      "text/plain": [
       "<IPython.core.display.Markdown object>"
      ]
     },
     "metadata": {},
     "output_type": "display_data"
    },
    {
     "data": {
      "text/markdown": [
       "**Bug status**: CLOSED"
      ],
      "text/plain": [
       "<IPython.core.display.Markdown object>"
      ]
     },
     "metadata": {},
     "output_type": "display_data"
    },
    {
     "data": {
      "text/markdown": [
       "**Component**: save-export"
      ],
      "text/plain": [
       "<IPython.core.display.Markdown object>"
      ]
     },
     "metadata": {},
     "output_type": "display_data"
    },
    {
     "data": {
      "text/markdown": [
       "**Product**: Writer"
      ],
      "text/plain": [
       "<IPython.core.display.Markdown object>"
      ]
     },
     "metadata": {},
     "output_type": "display_data"
    },
    {
     "data": {
      "text/markdown": [
       "**Resolution**: DUPLICATE"
      ],
      "text/plain": [
       "<IPython.core.display.Markdown object>"
      ]
     },
     "metadata": {},
     "output_type": "display_data"
    },
    {
     "data": {
      "text/markdown": [
       "**Title**: Errors in saved DOC files"
      ],
      "text/plain": [
       "<IPython.core.display.Markdown object>"
      ]
     },
     "metadata": {},
     "output_type": "display_data"
    },
    {
     "data": {
      "text/markdown": [
       "**Description**: OOO 3.0.1 Italian on Windows XP SP3.\n",
       "\n",
       "1) I open a DOC file. Everything is fine.\n",
       "2) I save the file without any change suing the same DOC file but different name.\n",
       "3) I open the new DOC file. Contents is chaotic.\n",
       "\n",
       "On these files, I was working with OOO 3.0 without problems."
      ],
      "text/plain": [
       "<IPython.core.display.Markdown object>"
      ]
     },
     "metadata": {},
     "output_type": "display_data"
    },
    {
     "data": {
      "text/markdown": [
       "#####################################"
      ],
      "text/plain": [
       "<IPython.core.display.Markdown object>"
      ]
     },
     "metadata": {},
     "output_type": "display_data"
    },
    {
     "data": {
      "text/markdown": [
       "**Bug ID**: 100161"
      ],
      "text/plain": [
       "<IPython.core.display.Markdown object>"
      ]
     },
     "metadata": {},
     "output_type": "display_data"
    },
    {
     "data": {
      "text/markdown": [
       "**Bug status**: CLOSED"
      ],
      "text/plain": [
       "<IPython.core.display.Markdown object>"
      ]
     },
     "metadata": {},
     "output_type": "display_data"
    },
    {
     "data": {
      "text/markdown": [
       "**Component**: save-export"
      ],
      "text/plain": [
       "<IPython.core.display.Markdown object>"
      ]
     },
     "metadata": {},
     "output_type": "display_data"
    },
    {
     "data": {
      "text/markdown": [
       "**Product**: Writer"
      ],
      "text/plain": [
       "<IPython.core.display.Markdown object>"
      ]
     },
     "metadata": {},
     "output_type": "display_data"
    },
    {
     "data": {
      "text/markdown": [
       "**Resolution**: DUPLICATE"
      ],
      "text/plain": [
       "<IPython.core.display.Markdown object>"
      ]
     },
     "metadata": {},
     "output_type": "display_data"
    },
    {
     "data": {
      "text/markdown": [
       "**Title**: File saved as M.Word 97/2000/XP (.doc) corrupted"
      ],
      "text/plain": [
       "<IPython.core.display.Markdown object>"
      ]
     },
     "metadata": {},
     "output_type": "display_data"
    },
    {
     "data": {
      "text/markdown": [
       "**Description**: The file came to me as a one page .doc form (NOT .dot) and included 3 tables. \n",
       "After completing I saved it back as Word 97/200/XP.  The resulting file does not\n",
       "open in Word 2000 and when opened in OO Writer the second and third tables are\n",
       "missing and replaced by a lot of space forcing the final text on to the next page.\n",
       "\n",
       "I have the file available for analysis if desired."
      ],
      "text/plain": [
       "<IPython.core.display.Markdown object>"
      ]
     },
     "metadata": {},
     "output_type": "display_data"
    },
    {
     "data": {
      "text/markdown": [
       "#####################################"
      ],
      "text/plain": [
       "<IPython.core.display.Markdown object>"
      ]
     },
     "metadata": {},
     "output_type": "display_data"
    },
    {
     "data": {
      "text/markdown": [
       "**Bug ID**: 100545"
      ],
      "text/plain": [
       "<IPython.core.display.Markdown object>"
      ]
     },
     "metadata": {},
     "output_type": "display_data"
    },
    {
     "data": {
      "text/markdown": [
       "**Bug status**: CLOSED"
      ],
      "text/plain": [
       "<IPython.core.display.Markdown object>"
      ]
     },
     "metadata": {},
     "output_type": "display_data"
    },
    {
     "data": {
      "text/markdown": [
       "**Component**: formatting"
      ],
      "text/plain": [
       "<IPython.core.display.Markdown object>"
      ]
     },
     "metadata": {},
     "output_type": "display_data"
    },
    {
     "data": {
      "text/markdown": [
       "**Product**: Writer"
      ],
      "text/plain": [
       "<IPython.core.display.Markdown object>"
      ]
     },
     "metadata": {},
     "output_type": "display_data"
    },
    {
     "data": {
      "text/markdown": [
       "**Resolution**: DUPLICATE"
      ],
      "text/plain": [
       "<IPython.core.display.Markdown object>"
      ]
     },
     "metadata": {},
     "output_type": "display_data"
    },
    {
     "data": {
      "text/markdown": [
       "**Title**: WW8: certain cell border in complex table is missing after import"
      ],
      "text/plain": [
       "<IPython.core.display.Markdown object>"
      ]
     },
     "metadata": {},
     "output_type": "display_data"
    },
    {
     "data": {
      "text/markdown": [
       "**Description**: When I download the NIH biosketchsample.doc from the NIH website\n",
       "(grants.nih.gov/grants/funding/phs398/biosketchsample.doc) and then try to open\n",
       "it in openoffice 3.0.1 (OOO300m15) build 9379, the table at the top of page 1\n",
       "does not display properly.\n",
       "\n",
       "It may have something to do with copying the file, since it sometimes seems to\n",
       "open properly the first time but once I have tried to save it, even if no\n",
       "changes were made, it does  not display the table at the top of page 1.\n",
       "\n",
       "I am running openoffice on a ubuntu intrepid linux system on a PC.\n",
       "\n",
       "Thanks.\n",
       "E.J. Neafsey"
      ],
      "text/plain": [
       "<IPython.core.display.Markdown object>"
      ]
     },
     "metadata": {},
     "output_type": "display_data"
    },
    {
     "data": {
      "text/markdown": [
       "#####################################"
      ],
      "text/plain": [
       "<IPython.core.display.Markdown object>"
      ]
     },
     "metadata": {},
     "output_type": "display_data"
    },
    {
     "data": {
      "text/markdown": [
       "**Bug ID**: 99334"
      ],
      "text/plain": [
       "<IPython.core.display.Markdown object>"
      ]
     },
     "metadata": {},
     "output_type": "display_data"
    },
    {
     "data": {
      "text/markdown": [
       "**Bug status**: CLOSED"
      ],
      "text/plain": [
       "<IPython.core.display.Markdown object>"
      ]
     },
     "metadata": {},
     "output_type": "display_data"
    },
    {
     "data": {
      "text/markdown": [
       "**Component**: save-export"
      ],
      "text/plain": [
       "<IPython.core.display.Markdown object>"
      ]
     },
     "metadata": {},
     "output_type": "display_data"
    },
    {
     "data": {
      "text/markdown": [
       "**Product**: Writer"
      ],
      "text/plain": [
       "<IPython.core.display.Markdown object>"
      ]
     },
     "metadata": {},
     "output_type": "display_data"
    },
    {
     "data": {
      "text/markdown": [
       "**Resolution**: DUPLICATE"
      ],
      "text/plain": [
       "<IPython.core.display.Markdown object>"
      ]
     },
     "metadata": {},
     "output_type": "display_data"
    },
    {
     "data": {
      "text/markdown": [
       "**Title**: WW8: Table column width wrong after save as .doc file..."
      ],
      "text/plain": [
       "<IPython.core.display.Markdown object>"
      ]
     },
     "metadata": {},
     "output_type": "display_data"
    },
    {
     "data": {
      "text/markdown": [
       "**Description**: Summary:\n",
       "\n",
       "Saving a table with alignment \"Manual\" or \"From Left\" to Microsoft Word \n",
       "97/200/XP format seems to save the columns widths wrong.\n",
       "\n",
       "Details:\n",
       "\n",
       "I created a new Text document via OOo 3.0.1.\n",
       "I inserted a table with 2 rows and 2 columns, and entered some text into both\n",
       "columns of the first row.\n",
       "I changed the table alignment from Automatic to Manual by dragging the left\n",
       "edge to the right a bit, the right edge to the left a bit, and dragging the \n",
       "middle divider to the exact position I wanted it.\n",
       "I then saved the file in Microsoft Word 97/200/XP format and exited OOo.\n",
       "\n",
       "When I re-opened the file in OOo 3.0.1, the column widths had changed.\n",
       "When I look at the Table properties, I see that the alignment is now \n",
       "\"From Left\", not \"Manual\".\n",
       "\n",
       "The problem definitely occurs during the save, not during the re-open. Opening\n",
       "the file in Microsoft Word 2003 instead of OOo shows that the column width is\n",
       "also wrong there.\n",
       "\n",
       "When I re-open the file in OOo 3.0.1 and drag the columns to the desired width\n",
       "again, and then check the Table properties, I see that the alignment is still\n",
       "\"From Left\", not \"Manual\". Saving in Microsoft Word 97/200/XP format and\n",
       "re-loading shows the column widths once again changed from what I specified.\n",
       "\n",
       "Doing the same experiment with regular ODT format instead of MS Office format\n",
       "works fine. The column widths are preserved and the alignment remains \"Manual\".\n",
       "\n",
       "My small test file is at:\n",
       "     http://bristle.com/OpenOffice/Bugs/3.0.1/OOo301ColumnWidthBug.doc\n",
       "\n",
       "BTW, keep up the good work! I am new to OOo and hoping to entirely abandon\n",
       "MS Office. I'll be moving from Windows XP to Mac OS X Leopard shortly, and\n",
       "hope to not buy MS Office ever again.\n",
       "\n",
       "--Fred\n",
       "---------------------------------------------------------------------\n",
       "Fred Stluka -- mailto:fred@bristle.com -- http://bristle.com/~fred/\n",
       "Bristle Software, Inc -- http://bristle.com -- Glad to be of service!\n",
       "---------------------------------------------------------------------"
      ],
      "text/plain": [
       "<IPython.core.display.Markdown object>"
      ]
     },
     "metadata": {},
     "output_type": "display_data"
    },
    {
     "data": {
      "text/markdown": [
       "#####################################"
      ],
      "text/plain": [
       "<IPython.core.display.Markdown object>"
      ]
     },
     "metadata": {},
     "output_type": "display_data"
    },
    {
     "data": {
      "text/markdown": [
       "**Bug ID**: 100934"
      ],
      "text/plain": [
       "<IPython.core.display.Markdown object>"
      ]
     },
     "metadata": {},
     "output_type": "display_data"
    },
    {
     "data": {
      "text/markdown": [
       "**Bug status**: CLOSED"
      ],
      "text/plain": [
       "<IPython.core.display.Markdown object>"
      ]
     },
     "metadata": {},
     "output_type": "display_data"
    },
    {
     "data": {
      "text/markdown": [
       "**Component**: save-export"
      ],
      "text/plain": [
       "<IPython.core.display.Markdown object>"
      ]
     },
     "metadata": {},
     "output_type": "display_data"
    },
    {
     "data": {
      "text/markdown": [
       "**Product**: Writer"
      ],
      "text/plain": [
       "<IPython.core.display.Markdown object>"
      ]
     },
     "metadata": {},
     "output_type": "display_data"
    },
    {
     "data": {
      "text/markdown": [
       "**Resolution**: DUPLICATE"
      ],
      "text/plain": [
       "<IPython.core.display.Markdown object>"
      ]
     },
     "metadata": {},
     "output_type": "display_data"
    },
    {
     "data": {
      "text/markdown": [
       "**Title**: tables lost when saving in word 97 format"
      ],
      "text/plain": [
       "<IPython.core.display.Markdown object>"
      ]
     },
     "metadata": {},
     "output_type": "display_data"
    },
    {
     "data": {
      "text/markdown": [
       "**Description**: when saving the attached document as a word 97 file (.doc) the tables (arrays)\n",
       "are lost. This also happens with other documents including formatted tables\n",
       "(letterheads aso). This bug is a regression, since it was not present in version\n",
       "3.0.0 (to which I returned)"
      ],
      "text/plain": [
       "<IPython.core.display.Markdown object>"
      ]
     },
     "metadata": {},
     "output_type": "display_data"
    },
    {
     "data": {
      "text/markdown": [
       "#####################################"
      ],
      "text/plain": [
       "<IPython.core.display.Markdown object>"
      ]
     },
     "metadata": {},
     "output_type": "display_data"
    },
    {
     "data": {
      "text/markdown": [
       "**Bug ID**: 99719"
      ],
      "text/plain": [
       "<IPython.core.display.Markdown object>"
      ]
     },
     "metadata": {},
     "output_type": "display_data"
    },
    {
     "data": {
      "text/markdown": [
       "**Bug status**: CLOSED"
      ],
      "text/plain": [
       "<IPython.core.display.Markdown object>"
      ]
     },
     "metadata": {},
     "output_type": "display_data"
    },
    {
     "data": {
      "text/markdown": [
       "**Component**: save-export"
      ],
      "text/plain": [
       "<IPython.core.display.Markdown object>"
      ]
     },
     "metadata": {},
     "output_type": "display_data"
    },
    {
     "data": {
      "text/markdown": [
       "**Product**: Writer"
      ],
      "text/plain": [
       "<IPython.core.display.Markdown object>"
      ]
     },
     "metadata": {},
     "output_type": "display_data"
    },
    {
     "data": {
      "text/markdown": [
       "**Resolution**: DUPLICATE"
      ],
      "text/plain": [
       "<IPython.core.display.Markdown object>"
      ]
     },
     "metadata": {},
     "output_type": "display_data"
    },
    {
     "data": {
      "text/markdown": [
       "**Title**: Word97 .doc export deletes tables from text"
      ],
      "text/plain": [
       "<IPython.core.display.Markdown object>"
      ]
     },
     "metadata": {},
     "output_type": "display_data"
    },
    {
     "data": {
      "text/markdown": [
       "**Description**: Saving a document with tables as Word97 .doc deletes the table from the text. This happened while \n",
       "editing a Word file received from a customer and resulted in data loss.\n",
       "\n",
       "Importing and displaying the tables works fine, saving as .odt also preserves the tables, but saving as .doc \n",
       "deletes them (there is only white space left where the tables were previously located).\n",
       "\n",
       "To reproduce, open the attached file \"tableloss.odt\" (whose text has been anonymised as it contained \n",
       "sensitive information) and save as Word97 .doc and reopen in Word or OOo: All your tables and their \n",
       "content are lost! (Opening the .odt with NeoOffice 2.2.5 and saving as .doc behaves correctly, BTW)"
      ],
      "text/plain": [
       "<IPython.core.display.Markdown object>"
      ]
     },
     "metadata": {},
     "output_type": "display_data"
    },
    {
     "data": {
      "text/markdown": [
       "#####################################"
      ],
      "text/plain": [
       "<IPython.core.display.Markdown object>"
      ]
     },
     "metadata": {},
     "output_type": "display_data"
    },
    {
     "data": {
      "text/markdown": [
       "**Bug ID**: 99024"
      ],
      "text/plain": [
       "<IPython.core.display.Markdown object>"
      ]
     },
     "metadata": {},
     "output_type": "display_data"
    },
    {
     "data": {
      "text/markdown": [
       "**Bug status**: CLOSED"
      ],
      "text/plain": [
       "<IPython.core.display.Markdown object>"
      ]
     },
     "metadata": {},
     "output_type": "display_data"
    },
    {
     "data": {
      "text/markdown": [
       "**Component**: save-export"
      ],
      "text/plain": [
       "<IPython.core.display.Markdown object>"
      ]
     },
     "metadata": {},
     "output_type": "display_data"
    },
    {
     "data": {
      "text/markdown": [
       "**Product**: Writer"
      ],
      "text/plain": [
       "<IPython.core.display.Markdown object>"
      ]
     },
     "metadata": {},
     "output_type": "display_data"
    },
    {
     "data": {
      "text/markdown": [
       "**Resolution**: FIXED"
      ],
      "text/plain": [
       "<IPython.core.display.Markdown object>"
      ]
     },
     "metadata": {},
     "output_type": "display_data"
    },
    {
     "data": {
      "text/markdown": [
       "**Title**: WW8: table with center alignment disappears when exported"
      ],
      "text/plain": [
       "<IPython.core.display.Markdown object>"
      ]
     },
     "metadata": {},
     "output_type": "display_data"
    },
    {
     "data": {
      "text/markdown": [
       "**Description**: Hi\n",
       "\n",
       "My configuration : OOo 3.0.1 FR under Ubuntu 8.04.\n",
       "Step to reproduce :\n",
       "\n",
       "1/ open new text document ;\n",
       "2/ insert a table, for example 2 rows and 3 columns ;\n",
       "3/ menu Table > Table properties > Tab Table\n",
       "4/ choose Alignment Center and click Ok ;\n",
       "5/ save the file as odt\n",
       "6/ menu File > Save as and choose file format MS-Word 97/2000/XP (.doc)\n",
       "7/ close the file .doc\n",
       "8/ reopen the doc file with OOo 3.0.1 => the table has disappeared \n",
       "\n",
       "In fact the table exists (you can see it from navigator) but has wrong\n",
       "characteristics : \n",
       "- alignment is from left\n",
       "- width is 34 cm\n",
       "- spacing right is -136,53 cm\n",
       "- there is only one column\n",
       "\n",
       "If I open the doc file with Ms-Word Viever 2003 the table is not visible.\n",
       "\n",
       "Several users confirmed this issue on other OS (XP, MacOS, Linux)\n",
       "\n",
       "Same steps do crash DEV300_m40 when exporting as doc file but it's known issue\n",
       "(http://www.openoffice.org/issues/show_bug.cgi?id=98465).\n",
       "\n",
       "Regards\n",
       "JBF"
      ],
      "text/plain": [
       "<IPython.core.display.Markdown object>"
      ]
     },
     "metadata": {},
     "output_type": "display_data"
    },
    {
     "data": {
      "text/markdown": [
       "#####################################"
      ],
      "text/plain": [
       "<IPython.core.display.Markdown object>"
      ]
     },
     "metadata": {},
     "output_type": "display_data"
    },
    {
     "data": {
      "text/markdown": [
       "**Bug ID**: 100435"
      ],
      "text/plain": [
       "<IPython.core.display.Markdown object>"
      ]
     },
     "metadata": {},
     "output_type": "display_data"
    },
    {
     "data": {
      "text/markdown": [
       "**Bug status**: CLOSED"
      ],
      "text/plain": [
       "<IPython.core.display.Markdown object>"
      ]
     },
     "metadata": {},
     "output_type": "display_data"
    },
    {
     "data": {
      "text/markdown": [
       "**Component**: save-export"
      ],
      "text/plain": [
       "<IPython.core.display.Markdown object>"
      ]
     },
     "metadata": {},
     "output_type": "display_data"
    },
    {
     "data": {
      "text/markdown": [
       "**Product**: Writer"
      ],
      "text/plain": [
       "<IPython.core.display.Markdown object>"
      ]
     },
     "metadata": {},
     "output_type": "display_data"
    },
    {
     "data": {
      "text/markdown": [
       "**Resolution**: DUPLICATE"
      ],
      "text/plain": [
       "<IPython.core.display.Markdown object>"
      ]
     },
     "metadata": {},
     "output_type": "display_data"
    },
    {
     "data": {
      "text/markdown": [
       "**Title**: odt table output as doc table disappears"
      ],
      "text/plain": [
       "<IPython.core.display.Markdown object>"
      ]
     },
     "metadata": {},
     "output_type": "display_data"
    },
    {
     "data": {
      "text/markdown": [
       "**Description**: From the Ubuntu bug report:\n",
       "\"\n",
       "Creating a Table and saving the file as odt works fine. When I then save it as a\n",
       "doc file, the table is always corrupted. Usually column width changes.\n",
       "--\n",
       "I tried this process again and I think I have narrowed it down. I made a simple\n",
       "table in odt and successively edited/saved/closed it as a doc. Each time adding\n",
       "colors, bullets, rows etc. 7 times in all. All was okay. On the 8th time I\n",
       "centered the table (Using Table Properties) - when I re-opened , it had\n",
       "disappear altogether. See attached doc. This may help narrow down the issue.\n",
       "--\n",
       "I've messed about a bit with this. Any table that has been created and\n",
       "then moved (using Table properties) and then saved in OO as a doc;\n",
       "closed it and open it, the table has disappeared. Pretty serious bug I\n",
       "would think.\n",
       "\"\n",
       "\n",
       "input file:\n",
       "http://launchpadlibrarian.net/22933018/Table%20Test.odt\n",
       "\n",
       "output file:\n",
       "http://launchpadlibrarian.net/22932990/Table%20Test.doc\n",
       "\n",
       "simple output file:\n",
       "http://launchpadlibrarian.net/22933353/simple%20table.doc\n",
       "\n",
       "Verified on official OOo 3.0.1"
      ],
      "text/plain": [
       "<IPython.core.display.Markdown object>"
      ]
     },
     "metadata": {},
     "output_type": "display_data"
    },
    {
     "data": {
      "text/markdown": [
       "#####################################"
      ],
      "text/plain": [
       "<IPython.core.display.Markdown object>"
      ]
     },
     "metadata": {},
     "output_type": "display_data"
    },
    {
     "data": {
      "text/markdown": [
       "**Bug ID**: 101205"
      ],
      "text/plain": [
       "<IPython.core.display.Markdown object>"
      ]
     },
     "metadata": {},
     "output_type": "display_data"
    },
    {
     "data": {
      "text/markdown": [
       "**Bug status**: CLOSED"
      ],
      "text/plain": [
       "<IPython.core.display.Markdown object>"
      ]
     },
     "metadata": {},
     "output_type": "display_data"
    },
    {
     "data": {
      "text/markdown": [
       "**Component**: formatting"
      ],
      "text/plain": [
       "<IPython.core.display.Markdown object>"
      ]
     },
     "metadata": {},
     "output_type": "display_data"
    },
    {
     "data": {
      "text/markdown": [
       "**Product**: Writer"
      ],
      "text/plain": [
       "<IPython.core.display.Markdown object>"
      ]
     },
     "metadata": {},
     "output_type": "display_data"
    },
    {
     "data": {
      "text/markdown": [
       "**Resolution**: DUPLICATE"
      ],
      "text/plain": [
       "<IPython.core.display.Markdown object>"
      ]
     },
     "metadata": {},
     "output_type": "display_data"
    },
    {
     "data": {
      "text/markdown": [
       "**Title**: WW8: bug formatting in MS Word format"
      ],
      "text/plain": [
       "<IPython.core.display.Markdown object>"
      ]
     },
     "metadata": {},
     "output_type": "display_data"
    },
    {
     "data": {
      "text/markdown": [
       "**Description**: When using MS Word file storage with a array 2 columns at least half size large\n",
       "of the page. When centering it, saving the file in \".doc\" and closing\n",
       "OpenOffice, afterwaerd reoppening it, the array formatting is broken."
      ],
      "text/plain": [
       "<IPython.core.display.Markdown object>"
      ]
     },
     "metadata": {},
     "output_type": "display_data"
    },
    {
     "data": {
      "text/markdown": [
       "#####################################"
      ],
      "text/plain": [
       "<IPython.core.display.Markdown object>"
      ]
     },
     "metadata": {},
     "output_type": "display_data"
    },
    {
     "data": {
      "text/markdown": [
       "**Bug ID**: 104021"
      ],
      "text/plain": [
       "<IPython.core.display.Markdown object>"
      ]
     },
     "metadata": {},
     "output_type": "display_data"
    },
    {
     "data": {
      "text/markdown": [
       "**Bug status**: CLOSED"
      ],
      "text/plain": [
       "<IPython.core.display.Markdown object>"
      ]
     },
     "metadata": {},
     "output_type": "display_data"
    },
    {
     "data": {
      "text/markdown": [
       "**Component**: viewing"
      ],
      "text/plain": [
       "<IPython.core.display.Markdown object>"
      ]
     },
     "metadata": {},
     "output_type": "display_data"
    },
    {
     "data": {
      "text/markdown": [
       "**Product**: Writer"
      ],
      "text/plain": [
       "<IPython.core.display.Markdown object>"
      ]
     },
     "metadata": {},
     "output_type": "display_data"
    },
    {
     "data": {
      "text/markdown": [
       "**Resolution**: DUPLICATE"
      ],
      "text/plain": [
       "<IPython.core.display.Markdown object>"
      ]
     },
     "metadata": {},
     "output_type": "display_data"
    },
    {
     "data": {
      "text/markdown": [
       "**Title**: OpenOffice 2.4 can't read tables in doc format made by OOo 3+"
      ],
      "text/plain": [
       "<IPython.core.display.Markdown object>"
      ]
     },
     "metadata": {},
     "output_type": "display_data"
    },
    {
     "data": {
      "text/markdown": [
       "**Description**: You can see the borders of the table, so it's there. But there is no text inside it.\n",
       "\n",
       "It made me upgrade the whole office to 3.1, but woopsie, there comes the bug\n",
       "with NO TABLES being shown. And there is still no upgrade for it, so I\n",
       "downgraded to OOo 2.4, but the people that run OOo 3+ keep spitting out bad\n",
       "tables w/o text.\n",
       "\n",
       "Soo. What to do."
      ],
      "text/plain": [
       "<IPython.core.display.Markdown object>"
      ]
     },
     "metadata": {},
     "output_type": "display_data"
    },
    {
     "data": {
      "text/markdown": [
       "#####################################"
      ],
      "text/plain": [
       "<IPython.core.display.Markdown object>"
      ]
     },
     "metadata": {},
     "output_type": "display_data"
    },
    {
     "data": {
      "text/markdown": [
       "**Bug ID**: 99289"
      ],
      "text/plain": [
       "<IPython.core.display.Markdown object>"
      ]
     },
     "metadata": {},
     "output_type": "display_data"
    },
    {
     "data": {
      "text/markdown": [
       "**Bug status**: CLOSED"
      ],
      "text/plain": [
       "<IPython.core.display.Markdown object>"
      ]
     },
     "metadata": {},
     "output_type": "display_data"
    },
    {
     "data": {
      "text/markdown": [
       "**Component**: formatting"
      ],
      "text/plain": [
       "<IPython.core.display.Markdown object>"
      ]
     },
     "metadata": {},
     "output_type": "display_data"
    },
    {
     "data": {
      "text/markdown": [
       "**Product**: Writer"
      ],
      "text/plain": [
       "<IPython.core.display.Markdown object>"
      ]
     },
     "metadata": {},
     "output_type": "display_data"
    },
    {
     "data": {
      "text/markdown": [
       "**Resolution**: DUPLICATE"
      ],
      "text/plain": [
       "<IPython.core.display.Markdown object>"
      ]
     },
     "metadata": {},
     "output_type": "display_data"
    },
    {
     "data": {
      "text/markdown": [
       "**Title**: Wrong table formating in Word 97/2000/XP file format"
      ],
      "text/plain": [
       "<IPython.core.display.Markdown object>"
      ]
     },
     "metadata": {},
     "output_type": "display_data"
    },
    {
     "data": {
      "text/markdown": [
       "**Description**: I attached document which has been created in MS Word 2003. There are two pages\n",
       "and a table which is located on the second one. When I open this document in Ooo\n",
       "Writer, change any text and save it with DOC extension (i.e. in Word 2003\n",
       "format), the table change formating. It is moved to the right border of the page\n",
       "and the column with is changed. That's why the table does not displays."
      ],
      "text/plain": [
       "<IPython.core.display.Markdown object>"
      ]
     },
     "metadata": {},
     "output_type": "display_data"
    },
    {
     "data": {
      "text/markdown": [
       "#####################################"
      ],
      "text/plain": [
       "<IPython.core.display.Markdown object>"
      ]
     },
     "metadata": {},
     "output_type": "display_data"
    },
    {
     "data": {
      "text/markdown": [
       "**Bug ID**: 106395"
      ],
      "text/plain": [
       "<IPython.core.display.Markdown object>"
      ]
     },
     "metadata": {},
     "output_type": "display_data"
    },
    {
     "data": {
      "text/markdown": [
       "**Bug status**: CLOSED"
      ],
      "text/plain": [
       "<IPython.core.display.Markdown object>"
      ]
     },
     "metadata": {},
     "output_type": "display_data"
    },
    {
     "data": {
      "text/markdown": [
       "**Component**: viewing"
      ],
      "text/plain": [
       "<IPython.core.display.Markdown object>"
      ]
     },
     "metadata": {},
     "output_type": "display_data"
    },
    {
     "data": {
      "text/markdown": [
       "**Product**: Writer"
      ],
      "text/plain": [
       "<IPython.core.display.Markdown object>"
      ]
     },
     "metadata": {},
     "output_type": "display_data"
    },
    {
     "data": {
      "text/markdown": [
       "**Resolution**: DUPLICATE"
      ],
      "text/plain": [
       "<IPython.core.display.Markdown object>"
      ]
     },
     "metadata": {},
     "output_type": "display_data"
    },
    {
     "data": {
      "text/markdown": [
       "**Title**: WW8: Table missing"
      ],
      "text/plain": [
       "<IPython.core.display.Markdown object>"
      ]
     },
     "metadata": {},
     "output_type": "display_data"
    },
    {
     "data": {
      "text/markdown": [
       "**Description**: I've been working with my resume which has a table in it for some time and now a\n",
       "recent update to OOo has made the table disappear. I'm certain the table was in\n",
       "there because there's a giant blank place where it used to be. I also checked an\n",
       "old version that I sent to a potential employer and the table is missing in that\n",
       "version as well. The document was created in Word 2003, then updated in OOo\n",
       "Writer in which I exported to doc format. \n",
       "\n",
       "I have a backup of the table but I would like to know if this is a bug that I\n",
       "should be concerned about.\n",
       "\n",
       "Thank you."
      ],
      "text/plain": [
       "<IPython.core.display.Markdown object>"
      ]
     },
     "metadata": {},
     "output_type": "display_data"
    },
    {
     "data": {
      "text/markdown": [
       "#####################################"
      ],
      "text/plain": [
       "<IPython.core.display.Markdown object>"
      ]
     },
     "metadata": {},
     "output_type": "display_data"
    },
    {
     "data": {
      "text/markdown": [
       "**Bug ID**: 101211"
      ],
      "text/plain": [
       "<IPython.core.display.Markdown object>"
      ]
     },
     "metadata": {},
     "output_type": "display_data"
    },
    {
     "data": {
      "text/markdown": [
       "**Bug status**: CLOSED"
      ],
      "text/plain": [
       "<IPython.core.display.Markdown object>"
      ]
     },
     "metadata": {},
     "output_type": "display_data"
    },
    {
     "data": {
      "text/markdown": [
       "**Component**: save-export"
      ],
      "text/plain": [
       "<IPython.core.display.Markdown object>"
      ]
     },
     "metadata": {},
     "output_type": "display_data"
    },
    {
     "data": {
      "text/markdown": [
       "**Product**: Writer"
      ],
      "text/plain": [
       "<IPython.core.display.Markdown object>"
      ]
     },
     "metadata": {},
     "output_type": "display_data"
    },
    {
     "data": {
      "text/markdown": [
       "**Resolution**: DUPLICATE"
      ],
      "text/plain": [
       "<IPython.core.display.Markdown object>"
      ]
     },
     "metadata": {},
     "output_type": "display_data"
    },
    {
     "data": {
      "text/markdown": [
       "**Title**: WW8: compatibility problem Ms_word_2k Ooo"
      ],
      "text/plain": [
       "<IPython.core.display.Markdown object>"
      ]
     },
     "metadata": {},
     "output_type": "display_data"
    },
    {
     "data": {
      "text/markdown": [
       "**Description**: hy all,\n",
       "with version 3.x have introduced a lot of new things, but some errors too, like \n",
       "mine. Using normaly Ms Office and Openoffice too, i have made a doc, as it is \n",
       "quite a problem to make it with openoffice, it is named (bla bla \n",
       "bla_word_2000.doc => attachement). i can open it with both programms. When i \n",
       "open it with openoffice and save it in odt, it works again. when i open it in \n",
       "openoffice and make some changes and save it in .doc again then i can't opening \n",
       "in word_2k again. and reopening in openoffice a lot of things are lost. I \n",
       "remember that in version 2.x it works, but now it don't works.\n",
       "take a look and if somebody has time please solve it.\n",
       "greetings"
      ],
      "text/plain": [
       "<IPython.core.display.Markdown object>"
      ]
     },
     "metadata": {},
     "output_type": "display_data"
    },
    {
     "data": {
      "text/markdown": [
       "#####################################"
      ],
      "text/plain": [
       "<IPython.core.display.Markdown object>"
      ]
     },
     "metadata": {},
     "output_type": "display_data"
    },
    {
     "data": {
      "text/markdown": [
       "**Bug ID**: 99613"
      ],
      "text/plain": [
       "<IPython.core.display.Markdown object>"
      ]
     },
     "metadata": {},
     "output_type": "display_data"
    },
    {
     "data": {
      "text/markdown": [
       "**Bug status**: CLOSED"
      ],
      "text/plain": [
       "<IPython.core.display.Markdown object>"
      ]
     },
     "metadata": {},
     "output_type": "display_data"
    },
    {
     "data": {
      "text/markdown": [
       "**Component**: save-export"
      ],
      "text/plain": [
       "<IPython.core.display.Markdown object>"
      ]
     },
     "metadata": {},
     "output_type": "display_data"
    },
    {
     "data": {
      "text/markdown": [
       "**Product**: Writer"
      ],
      "text/plain": [
       "<IPython.core.display.Markdown object>"
      ]
     },
     "metadata": {},
     "output_type": "display_data"
    },
    {
     "data": {
      "text/markdown": [
       "**Resolution**: DUPLICATE"
      ],
      "text/plain": [
       "<IPython.core.display.Markdown object>"
      ]
     },
     "metadata": {},
     "output_type": "display_data"
    },
    {
     "data": {
      "text/markdown": [
       "**Title**: Messed up document when saved in MS Word format"
      ],
      "text/plain": [
       "<IPython.core.display.Markdown object>"
      ]
     },
     "metadata": {},
     "output_type": "display_data"
    },
    {
     "data": {
      "text/markdown": [
       "**Description**: Mandriva 2008.1, used Czech official RPMs (for both 2.4.1 and 3.0.1).\n",
       "\n",
       "I'd like to point this out as possible regression, as in OO 2.4.1 everything\n",
       "works fine.\n",
       "\n",
       "Might be related to issue 99451.\n",
       "\n",
       "Demonstration:\n",
       "(well, at least on my PC :)\n",
       "\n",
       "1a) Let's open an original document with OO 3.0.1 (DOC, saved by OO 2.4.1).\n",
       "1b) Let's open an original document with OO 3.0.1 (ODF, saved by OO 2.4.1).\n",
       "2)  Everything looks OK.\n",
       "3)  Save it as DOC (MS Word 97/2000).\n",
       "4)  Now open saved files in OO 3.0.1.\n",
       "5a) Document is messed up (most tables gone, a lot more pages...).\n",
       "5b) OO crashes.\n",
       "6)  Now open these files in OO 2.4.1.\n",
       "7)  Both are messed up, no crash."
      ],
      "text/plain": [
       "<IPython.core.display.Markdown object>"
      ]
     },
     "metadata": {},
     "output_type": "display_data"
    },
    {
     "data": {
      "text/markdown": [
       "#####################################"
      ],
      "text/plain": [
       "<IPython.core.display.Markdown object>"
      ]
     },
     "metadata": {},
     "output_type": "display_data"
    },
    {
     "data": {
      "text/markdown": [
       "**Bug ID**: 99625"
      ],
      "text/plain": [
       "<IPython.core.display.Markdown object>"
      ]
     },
     "metadata": {},
     "output_type": "display_data"
    },
    {
     "data": {
      "text/markdown": [
       "**Bug status**: CLOSED"
      ],
      "text/plain": [
       "<IPython.core.display.Markdown object>"
      ]
     },
     "metadata": {},
     "output_type": "display_data"
    },
    {
     "data": {
      "text/markdown": [
       "**Component**: formatting"
      ],
      "text/plain": [
       "<IPython.core.display.Markdown object>"
      ]
     },
     "metadata": {},
     "output_type": "display_data"
    },
    {
     "data": {
      "text/markdown": [
       "**Product**: Writer"
      ],
      "text/plain": [
       "<IPython.core.display.Markdown object>"
      ]
     },
     "metadata": {},
     "output_type": "display_data"
    },
    {
     "data": {
      "text/markdown": [
       "**Resolution**: DUPLICATE"
      ],
      "text/plain": [
       "<IPython.core.display.Markdown object>"
      ]
     },
     "metadata": {},
     "output_type": "display_data"
    },
    {
     "data": {
      "text/markdown": [
       "**Title**: Table resize itself if the table offset from the page margin in .doc format when reopen"
      ],
      "text/plain": [
       "<IPython.core.display.Markdown object>"
      ]
     },
     "metadata": {},
     "output_type": "display_data"
    },
    {
     "data": {
      "text/markdown": [
       "**Description**: if save in .doc format, if the table is not in-line with the page margin, then\n",
       "at next re-open the doc file, the table will resize itself."
      ],
      "text/plain": [
       "<IPython.core.display.Markdown object>"
      ]
     },
     "metadata": {},
     "output_type": "display_data"
    },
    {
     "data": {
      "text/markdown": [
       "#####################################"
      ],
      "text/plain": [
       "<IPython.core.display.Markdown object>"
      ]
     },
     "metadata": {},
     "output_type": "display_data"
    },
    {
     "data": {
      "text/markdown": [
       "**Bug ID**: 99757"
      ],
      "text/plain": [
       "<IPython.core.display.Markdown object>"
      ]
     },
     "metadata": {},
     "output_type": "display_data"
    },
    {
     "data": {
      "text/markdown": [
       "**Bug status**: CLOSED"
      ],
      "text/plain": [
       "<IPython.core.display.Markdown object>"
      ]
     },
     "metadata": {},
     "output_type": "display_data"
    },
    {
     "data": {
      "text/markdown": [
       "**Component**: save-export"
      ],
      "text/plain": [
       "<IPython.core.display.Markdown object>"
      ]
     },
     "metadata": {},
     "output_type": "display_data"
    },
    {
     "data": {
      "text/markdown": [
       "**Product**: Writer"
      ],
      "text/plain": [
       "<IPython.core.display.Markdown object>"
      ]
     },
     "metadata": {},
     "output_type": "display_data"
    },
    {
     "data": {
      "text/markdown": [
       "**Resolution**: DUPLICATE"
      ],
      "text/plain": [
       "<IPython.core.display.Markdown object>"
      ]
     },
     "metadata": {},
     "output_type": "display_data"
    },
    {
     "data": {
      "text/markdown": [
       "**Title**: .doc formatting corrupted on save"
      ],
      "text/plain": [
       "<IPython.core.display.Markdown object>"
      ]
     },
     "metadata": {},
     "output_type": "display_data"
    },
    {
     "data": {
      "text/markdown": [
       "**Description**: See attached .doc file. Simply opening and saving this 3 page file results in a\n",
       "file that is 6 pages long for no apparent reason.\n",
       "\n",
       "I also did the following test:\n",
       "- open original .doc file. (formatting OK)\n",
       "- save-as .odt\n",
       "- close file\n",
       "- open .odt version. (formatting OK)\n",
       "- save-as .doc format\n",
       "- close file\n",
       "- open .doc version  (formatting broken)\n",
       "\n",
       "So I am quite confident the .doc export is wrecking the formatting."
      ],
      "text/plain": [
       "<IPython.core.display.Markdown object>"
      ]
     },
     "metadata": {},
     "output_type": "display_data"
    },
    {
     "data": {
      "text/markdown": [
       "#####################################"
      ],
      "text/plain": [
       "<IPython.core.display.Markdown object>"
      ]
     },
     "metadata": {},
     "output_type": "display_data"
    },
    {
     "data": {
      "text/markdown": [
       "**Bug ID**: 100342"
      ],
      "text/plain": [
       "<IPython.core.display.Markdown object>"
      ]
     },
     "metadata": {},
     "output_type": "display_data"
    },
    {
     "data": {
      "text/markdown": [
       "**Bug status**: CLOSED"
      ],
      "text/plain": [
       "<IPython.core.display.Markdown object>"
      ]
     },
     "metadata": {},
     "output_type": "display_data"
    },
    {
     "data": {
      "text/markdown": [
       "**Component**: save-export"
      ],
      "text/plain": [
       "<IPython.core.display.Markdown object>"
      ]
     },
     "metadata": {},
     "output_type": "display_data"
    },
    {
     "data": {
      "text/markdown": [
       "**Product**: Writer"
      ],
      "text/plain": [
       "<IPython.core.display.Markdown object>"
      ]
     },
     "metadata": {},
     "output_type": "display_data"
    },
    {
     "data": {
      "text/markdown": [
       "**Resolution**: DUPLICATE"
      ],
      "text/plain": [
       "<IPython.core.display.Markdown object>"
      ]
     },
     "metadata": {},
     "output_type": "display_data"
    },
    {
     "data": {
      "text/markdown": [
       "**Title**: when saving as \".doc\" all tables with their contentys are lost"
      ],
      "text/plain": [
       "<IPython.core.display.Markdown object>"
      ]
     },
     "metadata": {},
     "output_type": "display_data"
    },
    {
     "data": {
      "text/markdown": [
       "**Description**: The issue emerged after I worked several hours on a .doc document originally\n",
       "written with microsoft office. After saving the document I observed that I've\n",
       "lost all the tables with my work.\n",
       "Trying to reproduce the bug I've found that If I save from .doc to .odt I can\n",
       "preserve the tables, but again trying to save from .odt to .doc I lost all of them.\n",
       "I attache a .odt document with some tables which will get lost if you try to\n",
       "save it as .doc. \n",
       "I've also observed that if you put the alignment of tables to automatic (in the\n",
       ".odt) strangely the problem doesn't appear."
      ],
      "text/plain": [
       "<IPython.core.display.Markdown object>"
      ]
     },
     "metadata": {},
     "output_type": "display_data"
    },
    {
     "data": {
      "text/markdown": [
       "#####################################"
      ],
      "text/plain": [
       "<IPython.core.display.Markdown object>"
      ]
     },
     "metadata": {},
     "output_type": "display_data"
    },
    {
     "data": {
      "text/markdown": [
       "**Bug ID**: 100091"
      ],
      "text/plain": [
       "<IPython.core.display.Markdown object>"
      ]
     },
     "metadata": {},
     "output_type": "display_data"
    },
    {
     "data": {
      "text/markdown": [
       "**Bug status**: CLOSED"
      ],
      "text/plain": [
       "<IPython.core.display.Markdown object>"
      ]
     },
     "metadata": {},
     "output_type": "display_data"
    },
    {
     "data": {
      "text/markdown": [
       "**Component**: save-export"
      ],
      "text/plain": [
       "<IPython.core.display.Markdown object>"
      ]
     },
     "metadata": {},
     "output_type": "display_data"
    },
    {
     "data": {
      "text/markdown": [
       "**Product**: Writer"
      ],
      "text/plain": [
       "<IPython.core.display.Markdown object>"
      ]
     },
     "metadata": {},
     "output_type": "display_data"
    },
    {
     "data": {
      "text/markdown": [
       "**Resolution**: DUPLICATE"
      ],
      "text/plain": [
       "<IPython.core.display.Markdown object>"
      ]
     },
     "metadata": {},
     "output_type": "display_data"
    },
    {
     "data": {
      "text/markdown": [
       "**Title**: Saving Microsoft Word document loses table"
      ],
      "text/plain": [
       "<IPython.core.display.Markdown object>"
      ]
     },
     "metadata": {},
     "output_type": "display_data"
    },
    {
     "data": {
      "text/markdown": [
       "**Description**: NB this applies to version 3.0.2 but I couldn't see that option in the version\n",
       "field. I have reverted back to 3.0.1 and have not been able to reproduce so the\n",
       "problem appears to have been introduced with 3.0.2.\n",
       "\n",
       "Steps to reproduce:\n",
       "\n",
       "1) Open my sample Microsoft Word document in Writer.\n",
       "2) Verify table appears.\n",
       "3) Click File->Save As-> MS Word 97 Format, perhaps to your desktop.\n",
       "4) Open newly saved file with Writer.\n",
       "\n",
       "Expected result:\n",
       "\n",
       "* Newly displayed file in step 4 shows the table in step 2.\n",
       "\n",
       "Actual result:\n",
       "\n",
       "* Newly displayed file does not show table from step 2."
      ],
      "text/plain": [
       "<IPython.core.display.Markdown object>"
      ]
     },
     "metadata": {},
     "output_type": "display_data"
    }
   ],
   "source": [
    "buckets = retrieval.buckets\n",
    "outliers_bucket = buckets[bucket_outlier]\n",
    "outliers_bucket = outliers_bucket - set(outlier_bug_ids[1:])\n",
    "\n",
    "display_outlier_contents(outliers_bucket)"
   ]
  },
  {
   "cell_type": "markdown",
   "metadata": {},
   "source": [
    "### Outliers"
   ]
  },
  {
   "cell_type": "code",
   "execution_count": 195,
   "metadata": {},
   "outputs": [
    {
     "data": {
      "text/markdown": [
       "#####################################"
      ],
      "text/plain": [
       "<IPython.core.display.Markdown object>"
      ]
     },
     "metadata": {},
     "output_type": "display_data"
    },
    {
     "data": {
      "text/markdown": [
       "**Bug ID**: 100934"
      ],
      "text/plain": [
       "<IPython.core.display.Markdown object>"
      ]
     },
     "metadata": {},
     "output_type": "display_data"
    },
    {
     "data": {
      "text/markdown": [
       "**Bug status**: CLOSED"
      ],
      "text/plain": [
       "<IPython.core.display.Markdown object>"
      ]
     },
     "metadata": {},
     "output_type": "display_data"
    },
    {
     "data": {
      "text/markdown": [
       "**Component**: save-export"
      ],
      "text/plain": [
       "<IPython.core.display.Markdown object>"
      ]
     },
     "metadata": {},
     "output_type": "display_data"
    },
    {
     "data": {
      "text/markdown": [
       "**Product**: Writer"
      ],
      "text/plain": [
       "<IPython.core.display.Markdown object>"
      ]
     },
     "metadata": {},
     "output_type": "display_data"
    },
    {
     "data": {
      "text/markdown": [
       "**Resolution**: DUPLICATE"
      ],
      "text/plain": [
       "<IPython.core.display.Markdown object>"
      ]
     },
     "metadata": {},
     "output_type": "display_data"
    },
    {
     "data": {
      "text/markdown": [
       "**Title**: tables lost when saving in word 97 format"
      ],
      "text/plain": [
       "<IPython.core.display.Markdown object>"
      ]
     },
     "metadata": {},
     "output_type": "display_data"
    },
    {
     "data": {
      "text/markdown": [
       "**Description**: when saving the attached document as a word 97 file (.doc) the tables (arrays)\n",
       "are lost. This also happens with other documents including formatted tables\n",
       "(letterheads aso). This bug is a regression, since it was not present in version\n",
       "3.0.0 (to which I returned)"
      ],
      "text/plain": [
       "<IPython.core.display.Markdown object>"
      ]
     },
     "metadata": {},
     "output_type": "display_data"
    },
    {
     "data": {
      "text/markdown": [
       "#####################################"
      ],
      "text/plain": [
       "<IPython.core.display.Markdown object>"
      ]
     },
     "metadata": {},
     "output_type": "display_data"
    },
    {
     "data": {
      "text/markdown": [
       "**Bug ID**: 91415"
      ],
      "text/plain": [
       "<IPython.core.display.Markdown object>"
      ]
     },
     "metadata": {},
     "output_type": "display_data"
    },
    {
     "data": {
      "text/markdown": [
       "**Bug status**: CLOSED"
      ],
      "text/plain": [
       "<IPython.core.display.Markdown object>"
      ]
     },
     "metadata": {},
     "output_type": "display_data"
    },
    {
     "data": {
      "text/markdown": [
       "**Component**: ui"
      ],
      "text/plain": [
       "<IPython.core.display.Markdown object>"
      ]
     },
     "metadata": {},
     "output_type": "display_data"
    },
    {
     "data": {
      "text/markdown": [
       "**Product**: Installation"
      ],
      "text/plain": [
       "<IPython.core.display.Markdown object>"
      ]
     },
     "metadata": {},
     "output_type": "display_data"
    },
    {
     "data": {
      "text/markdown": [
       "**Resolution**: DUPLICATE"
      ],
      "text/plain": [
       "<IPython.core.display.Markdown object>"
      ]
     },
     "metadata": {},
     "output_type": "display_data"
    },
    {
     "data": {
      "text/markdown": [
       "**Title**: [Trad Chinese installer] Cannot assign .doc, .xls and .ppt filename"
      ],
      "text/plain": [
       "<IPython.core.display.Markdown object>"
      ]
     },
     "metadata": {},
     "output_type": "display_data"
    },
    {
     "data": {
      "text/markdown": [
       "**Description**: In the Trad Chinese 3.0 beta installer,\n",
       "even if the boxes about associating MS office filename extensions were ticked,\n",
       "these extensions did not assigned to Ooo automatically.\n",
       "\n",
       "I'm using Windows XP SP2, running CPU \"Intel(R) 2140 @ 1.6 GHz\""
      ],
      "text/plain": [
       "<IPython.core.display.Markdown object>"
      ]
     },
     "metadata": {},
     "output_type": "display_data"
    },
    {
     "data": {
      "text/markdown": [
       "#####################################"
      ],
      "text/plain": [
       "<IPython.core.display.Markdown object>"
      ]
     },
     "metadata": {},
     "output_type": "display_data"
    },
    {
     "data": {
      "text/markdown": [
       "**Bug ID**: 90056"
      ],
      "text/plain": [
       "<IPython.core.display.Markdown object>"
      ]
     },
     "metadata": {},
     "output_type": "display_data"
    },
    {
     "data": {
      "text/markdown": [
       "**Bug status**: CLOSED"
      ],
      "text/plain": [
       "<IPython.core.display.Markdown object>"
      ]
     },
     "metadata": {},
     "output_type": "display_data"
    },
    {
     "data": {
      "text/markdown": [
       "**Component**: ui"
      ],
      "text/plain": [
       "<IPython.core.display.Markdown object>"
      ]
     },
     "metadata": {},
     "output_type": "display_data"
    },
    {
     "data": {
      "text/markdown": [
       "**Product**: General"
      ],
      "text/plain": [
       "<IPython.core.display.Markdown object>"
      ]
     },
     "metadata": {},
     "output_type": "display_data"
    },
    {
     "data": {
      "text/markdown": [
       "**Resolution**: DUPLICATE"
      ],
      "text/plain": [
       "<IPython.core.display.Markdown object>"
      ]
     },
     "metadata": {},
     "output_type": "display_data"
    },
    {
     "data": {
      "text/markdown": [
       "**Title**: File-associations missing/corrupted after installation"
      ],
      "text/plain": [
       "<IPython.core.display.Markdown object>"
      ]
     },
     "metadata": {},
     "output_type": "display_data"
    },
    {
     "data": {
      "text/markdown": [
       "**Description**: Platform: MS Windows XP professional (SP3)\n",
       "Language: German\n",
       "Package: OOo_3.0.0beta_20080429_Win32Intel_install_wJRE_de.exe\n",
       "\n",
       "After installing OOo 3 Beta no files are assigned to OOo even though it is\n",
       "chosen during installation to assign MS-documents to OOo.\n",
       "\n",
       "Having OOo 2.x installed, associations to MS-documents are re-assigned to\n",
       "MS-standard when choosing assignment to OOo 3 during installation. OOo-documents\n",
       "are still assigned to the previously installed OOo version."
      ],
      "text/plain": [
       "<IPython.core.display.Markdown object>"
      ]
     },
     "metadata": {},
     "output_type": "display_data"
    }
   ],
   "source": [
    "display_outlier_contents(outlier_bug_ids)"
   ]
  },
  {
   "cell_type": "markdown",
   "metadata": {},
   "source": [
    "## Topic latent space"
   ]
  },
  {
   "cell_type": "code",
   "execution_count": null,
   "metadata": {},
   "outputs": [],
   "source": [
    "if('deepQL_topics' in METHOD):\n",
    "    topic_size = K.int_shape(model_1_epoch.get_layer('topics_in').output)[1]\n",
    "    print(\"Total of topics \", topic_size)"
   ]
  },
  {
   "cell_type": "code",
   "execution_count": null,
   "metadata": {
    "scrolled": true
   },
   "outputs": [],
   "source": [
    "bugs = experiment.baseline.get_bug_set()\n",
    "print(\"Total of bugs\", len(bugs))"
   ]
  },
  {
   "cell_type": "markdown",
   "metadata": {},
   "source": [
    "#### Group bugs by topics"
   ]
  },
  {
   "cell_type": "code",
   "execution_count": null,
   "metadata": {},
   "outputs": [],
   "source": [
    "if('deepQL_topics' in METHOD):\n",
    "    bugs_by_topic = dict( (t, []) for t in range(topic_size) )\n",
    "    for bug_id in bugs:\n",
    "        bug = bugs[bug_id]\n",
    "        bugs_by_topic[bug['topic']].append(bug_id)\n",
    "    print(\"Topics {}\".format(len(bugs_by_topic)))"
   ]
  },
  {
   "cell_type": "markdown",
   "metadata": {},
   "source": [
    "#### Selecting random bugs for each topic"
   ]
  },
  {
   "cell_type": "code",
   "execution_count": null,
   "metadata": {},
   "outputs": [],
   "source": [
    "bugs_topics_selected = []\n",
    "if('deepQL_topics' in METHOD):\n",
    "    number_of_bugs_select = 50\n",
    "    for t in range(topic_size):\n",
    "        sample = np.random.choice(bugs_by_topic[t], number_of_bugs_select)\n",
    "        sample_labeled = [ (bug_id, bugs[bug_id]['topic']) for bug_id in sample ]\n",
    "        bugs_topics_selected += sample_labeled"
   ]
  },
  {
   "cell_type": "code",
   "execution_count": null,
   "metadata": {},
   "outputs": [],
   "source": [
    "def create_tsne_vector_bert_topics(model, method='bert'):\n",
    "    test_features = []\n",
    "    title_data, title_data_seg, desc_data, desc_data_seg, info_data, topic_data = [], [], [], [], [], []\n",
    "    categories = []\n",
    "    topic_labels = set()\n",
    "\n",
    "    for row  in bugs_topics_selected:\n",
    "        bug_id, topic = row\n",
    "        # bucket and dups\n",
    "        if bug_id in retrieval.buckets:\n",
    "            label = 'topic_{}'.format(topic)\n",
    "            categories.append(label)\n",
    "            topic_labels.add(topic)\n",
    "\n",
    "        bug = baseline.bug_set[bug_id]\n",
    "        \n",
    "        title_data.append(bug['title_token'])    \n",
    "        title_data_seg.append( [int(v > 0) for v in bug['title_token']] )\n",
    "        desc_data.append(bug['description_token'])\n",
    "        desc_data_seg.append( [int(v > 0) for v in bug['description_token']] )\n",
    "        info_data.append(experiment.retrieval.get_info(bug))\n",
    "        if('topics' in bug):\n",
    "            topic_data.append(bug['topics'])\n",
    "    topic_labels = [ \"topic_{}\".format(l) for l in list(topic_labels) ]\n",
    "    \n",
    "    test_features = model.predict([ np.array(title_data), np.array(title_data_seg), \n",
    "                                   np.array(desc_data), np.array(desc_data_seg), \n",
    "                                   np.array(info_data), np.array(topic_data) ])\n",
    "    \n",
    "    return topic_labels, test_features, categories"
   ]
  },
  {
   "cell_type": "code",
   "execution_count": null,
   "metadata": {},
   "outputs": [],
   "source": [
    "def create_tsne_vector_bert(model, feat='title', method='bert'):\n",
    "    test_features = []\n",
    "    title_data, title_data_seg, desc_data, desc_data_seg, info_data, topic_data = [], [], [], [], [], []\n",
    "    categories = []\n",
    "    topic_labels = set()\n",
    "    bug_ids = []\n",
    "\n",
    "    for row  in bugs_topics_selected:\n",
    "        bug_id, topic = row\n",
    "        # bucket and dups\n",
    "        if bug_id in retrieval.buckets:\n",
    "            label = 'topic_{}'.format(topic)\n",
    "            categories.append(label)\n",
    "            topic_labels.add(topic)\n",
    "\n",
    "        bug = baseline.bug_set[bug_id]\n",
    "        \n",
    "        title_data.append(bug['title_token'])    \n",
    "        title_data_seg.append( [int(v > 0) for v in bug['title_token']] )\n",
    "        desc_data.append(bug['description_token'])\n",
    "        desc_data_seg.append( [int(v > 0) for v in bug['description_token']] )\n",
    "        \n",
    "    topic_labels = [ \"topic_{}\".format(l) for l in list(topic_labels) ]\n",
    "    \n",
    "    if(feat == 'title'):\n",
    "        test_features = model.predict([ np.array(title_data), np.array(title_data_seg) ])\n",
    "    else:\n",
    "        test_features = model.predict([ np.array(desc_data), np.array(desc_data_seg) ])\n",
    "    \n",
    "    return topic_labels, test_features, categories"
   ]
  },
  {
   "cell_type": "code",
   "execution_count": null,
   "metadata": {},
   "outputs": [],
   "source": [
    "def create_tsne_vector_topics(model, method='bert'):\n",
    "    test_features = []\n",
    "    title_data, title_data_seg, desc_data, desc_data_seg, info_data, topic_data = [], [], [], [], [], []\n",
    "    categories = []\n",
    "    topic_labels = set()\n",
    "\n",
    "    for row  in bugs_topics_selected:\n",
    "        bug_id, topic = row\n",
    "        # bucket and dups\n",
    "        if bug_id in retrieval.buckets:\n",
    "            label = 'topic_{}'.format(topic)\n",
    "            categories.append(label)\n",
    "            topic_labels.add(topic)\n",
    "\n",
    "        bug = baseline.bug_set[bug_id]\n",
    "        \n",
    "        if('topics' in bug):\n",
    "            topic_data.append(bug['topics'])\n",
    "    topic_labels = [ \"topic_{}\".format(l) for l in list(topic_labels) ]\n",
    "    \n",
    "\n",
    "    test_features = model.predict([ topic_data ])\n",
    "    \n",
    "    return topic_labels, test_features, categories"
   ]
  },
  {
   "cell_type": "code",
   "execution_count": null,
   "metadata": {},
   "outputs": [],
   "source": [
    "if('deepQL_topics' in METHOD):\n",
    "    colors_topics = sns.color_palette(\"hls\", n_colors=topic_size) "
   ]
  },
  {
   "cell_type": "markdown",
   "metadata": {},
   "source": [
    "### Topics (LDA)"
   ]
  },
  {
   "cell_type": "code",
   "execution_count": null,
   "metadata": {},
   "outputs": [],
   "source": [
    "model.summary()"
   ]
  },
  {
   "cell_type": "code",
   "execution_count": null,
   "metadata": {},
   "outputs": [],
   "source": [
    "if('deepQL_topics' in METHOD):\n",
    "    topic_model = model.get_layer('FeatureTopicMlpGenerationModel')\n",
    "    topic_labels, test_features, categories = create_tsne_vector_topics(topic_model, method=EMBEDDING_METHOD)\n",
    "\n",
    "    tsne_features = create_features(test_features)"
   ]
  },
  {
   "cell_type": "code",
   "execution_count": null,
   "metadata": {},
   "outputs": [],
   "source": [
    "if('deepQL_topics' in METHOD):\n",
    "    colors = plot_2d(categories, tsne_features, topic_labels, \\\n",
    "                     colors=colors_topics, name='topics_{}_{}_1000_epoch.png'.format(DOMAIN, METHOD))"
   ]
  },
  {
   "cell_type": "markdown",
   "metadata": {},
   "source": [
    "### Topics for 1000 epochs BERT in Title"
   ]
  },
  {
   "cell_type": "code",
   "execution_count": null,
   "metadata": {
    "scrolled": true
   },
   "outputs": [],
   "source": [
    "if('deepQL_topics' in METHOD):\n",
    "    bert_t_model = model.get_layer('FeatureBERTGenerationModelTitle')\n",
    "    topic_labels, test_features, categories = create_tsne_vector_bert(bert_t_model, feat='title', method=EMBEDDING_METHOD)\n",
    "\n",
    "    tsne_features = create_features(test_features)"
   ]
  },
  {
   "cell_type": "code",
   "execution_count": null,
   "metadata": {},
   "outputs": [],
   "source": [
    "if('deepQL_topics' in METHOD):\n",
    "    colors = plot_2d(categories, tsne_features, topic_labels, \\\n",
    "deepQL_topics_colors=colors_topics, name='bert_title_{}_{}_1000_epoch.png'.format(DOMAIN, METHOD))"
   ]
  },
  {
   "cell_type": "markdown",
   "metadata": {},
   "source": [
    "### Topics for 1000 epochs BERT in Desc"
   ]
  },
  {
   "cell_type": "code",
   "execution_count": null,
   "metadata": {},
   "outputs": [],
   "source": [
    "if('deepQL_topics' in METHOD):\n",
    "    bert_d_model = model.get_layer('FeatureBERTGenerationModelDescription')\n",
    "    topic_labels, test_features, categories = create_tsne_vector_bert(bert_d_model, feat='desc', method=EMBEDDING_METHOD)\n",
    "\n",
    "    tsne_features = create_features(test_features)"
   ]
  },
  {
   "cell_type": "code",
   "execution_count": null,
   "metadata": {},
   "outputs": [],
   "source": [
    "if('deepQL_topics' in METHOD):\n",
    "    colors = plot_2d(categories, tsne_features, topic_labels, \\\n",
    "                     colors=colors_topics, name='bert_desc_{}_{}_1000_epoch.png'.format(DOMAIN, METHOD))"
   ]
  }
 ],
 "metadata": {
  "kernelspec": {
   "display_name": "Python 3",
   "language": "python",
   "name": "python3"
  },
  "language_info": {
   "codemirror_mode": {
    "name": "ipython",
    "version": 3
   },
   "file_extension": ".py",
   "mimetype": "text/x-python",
   "name": "python",
   "nbconvert_exporter": "python",
   "pygments_lexer": "ipython3",
   "version": "3.5.2"
  }
 },
 "nbformat": 4,
 "nbformat_minor": 2
}
