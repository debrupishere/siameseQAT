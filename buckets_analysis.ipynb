{
 "cells": [
  {
   "cell_type": "code",
   "execution_count": 1,
   "metadata": {
    "scrolled": true
   },
   "outputs": [
    {
     "name": "stderr",
     "output_type": "stream",
     "text": [
      "Using TensorFlow backend.\n"
     ]
    }
   ],
   "source": [
    "import keras\n",
    "import re\n",
    "import numpy as np\n",
    "import pandas as pd\n",
    "\n",
    "import os\n",
    "from tqdm import tqdm_notebook as tqdm\n",
    "import matplotlib.pyplot as plt\n",
    "import sys\n",
    "nb_dir = os.path.split(os.getcwd())[0]\n",
    "if nb_dir not in sys.path:\n",
    "    sys.path.append(nb_dir)\n",
    "    \n",
    "%matplotlib inline"
   ]
  },
  {
   "cell_type": "code",
   "execution_count": 2,
   "metadata": {},
   "outputs": [],
   "source": [
    "DOMAIN = 'eclipse'\n",
    "DIR = 'data/processed/{}'.format(DOMAIN)\n",
    "DATASET = os.path.join('data/normalized/{}'.format(DOMAIN), '{}.csv'.format(DOMAIN))\n",
    "DIR_PAIRS = 'data/normalized/{}'.format(DOMAIN)"
   ]
  },
  {
   "cell_type": "code",
   "execution_count": 3,
   "metadata": {},
   "outputs": [],
   "source": [
    "df_train_pair = pd.read_csv(os.path.join(DIR_PAIRS, 'eclipse_pairs.csv'))\n",
    "df = pd.read_csv(os.path.join(DIR_PAIRS, 'eclipse.csv'))"
   ]
  },
  {
   "cell_type": "code",
   "execution_count": 4,
   "metadata": {},
   "outputs": [],
   "source": [
    "def create_bucket(data):\n",
    "    print(\"Creating the buckets...\")\n",
    "    buckets = {}\n",
    "    # Reading the buckets\n",
    "    df_buckets = data[data['dup_id'] == '[]']\n",
    "    loop = tqdm(total=df_buckets.shape[0])\n",
    "    for row in df_buckets.iterrows():\n",
    "        name = row[1]['bug_id']\n",
    "        buckets[name] = set()\n",
    "        buckets[name].add(name)\n",
    "        loop.update(1)\n",
    "    loop.close()\n",
    "    # Fill the buckets\n",
    "    df_duplicates = data[data['dup_id'] != '[]']\n",
    "    loop = tqdm(total=df_duplicates.shape[0])\n",
    "    for row_bug_id, row_dup_id in df_duplicates[['bug_id', 'dup_id']].values:\n",
    "        bucket_name = int(row_dup_id)\n",
    "        dup_id = row_bug_id\n",
    "        while bucket_name not in buckets:\n",
    "            query = df_duplicates[df_duplicates['bug_id'] == bucket_name]\n",
    "            bucket_name = int(query['dup_id'])\n",
    "        buckets[bucket_name].add(dup_id)\n",
    "        loop.update(1)\n",
    "    loop.close()\n",
    "    return buckets"
   ]
  },
  {
   "cell_type": "code",
   "execution_count": 5,
   "metadata": {},
   "outputs": [
    {
     "name": "stdout",
     "output_type": "stream",
     "text": [
      "Creating the buckets...\n"
     ]
    },
    {
     "data": {
      "application/vnd.jupyter.widget-view+json": {
       "model_id": "66b74d1f72044a87b7d8656f12c02663",
       "version_major": 2,
       "version_minor": 0
      },
      "text/plain": [
       "HBox(children=(IntProgress(value=0, max=322339), HTML(value='')))"
      ]
     },
     "metadata": {},
     "output_type": "display_data"
    },
    {
     "name": "stdout",
     "output_type": "stream",
     "text": [
      "\n"
     ]
    },
    {
     "data": {
      "application/vnd.jupyter.widget-view+json": {
       "model_id": "6ae770b589774a928a22a17b8dc70db7",
       "version_major": 2,
       "version_minor": 0
      },
      "text/plain": [
       "HBox(children=(IntProgress(value=0, max=39545), HTML(value='')))"
      ]
     },
     "metadata": {},
     "output_type": "display_data"
    },
    {
     "name": "stdout",
     "output_type": "stream",
     "text": [
      "\n"
     ]
    }
   ],
   "source": [
    "buckets = create_bucket(df)"
   ]
  },
  {
   "cell_type": "code",
   "execution_count": 6,
   "metadata": {},
   "outputs": [
    {
     "data": {
      "application/vnd.jupyter.widget-view+json": {
       "model_id": "d2db1cc99b4e4368bd212bf6ac21deb9",
       "version_major": 2,
       "version_minor": 0
      },
      "text/plain": [
       "HBox(children=(IntProgress(value=0, max=321536), HTML(value='')))"
      ]
     },
     "metadata": {},
     "output_type": "display_data"
    },
    {
     "name": "stdout",
     "output_type": "stream",
     "text": [
      "\n"
     ]
    }
   ],
   "source": [
    "issues_by_buckets = {}\n",
    "for bucket in tqdm(buckets):\n",
    "    issues_by_buckets[bucket] = bucket\n",
    "    for issue in np.array(buckets[bucket]).tolist():\n",
    "        issues_by_buckets[issue] = bucket"
   ]
  },
  {
   "cell_type": "code",
   "execution_count": 7,
   "metadata": {},
   "outputs": [],
   "source": [
    "buckets_at_least_2_dups = [bucket for bucket in buckets if len(buckets[bucket]) > 1]\n",
    "buckets_alone = [bucket for bucket in buckets if len(buckets[bucket]) <= 1]"
   ]
  },
  {
   "cell_type": "code",
   "execution_count": 8,
   "metadata": {},
   "outputs": [
    {
     "name": "stdout",
     "output_type": "stream",
     "text": [
      "buckets_at_least_2_dups: 24414\n",
      "buckets_alone: 297122\n"
     ]
    }
   ],
   "source": [
    "print(\"buckets_at_least_2_dups:\", len(buckets_at_least_2_dups))\n",
    "print(\"buckets_alone:\", len(buckets_alone))"
   ]
  },
  {
   "cell_type": "code",
   "execution_count": 9,
   "metadata": {},
   "outputs": [
    {
     "data": {
      "text/plain": [
       "(214181, {214181})"
      ]
     },
     "execution_count": 9,
     "metadata": {},
     "output_type": "execute_result"
    }
   ],
   "source": [
    "issues_by_buckets[214181], buckets[issues_by_buckets[214181]]"
   ]
  },
  {
   "cell_type": "markdown",
   "metadata": {},
   "source": [
    "#### Example 1"
   ]
  },
  {
   "cell_type": "code",
   "execution_count": 10,
   "metadata": {},
   "outputs": [
    {
     "data": {
      "text/plain": [
       "{210304, 214411, 216663, 216725, 218239}"
      ]
     },
     "execution_count": 10,
     "metadata": {},
     "output_type": "execute_result"
    }
   ],
   "source": [
    "buckets[210304]"
   ]
  },
  {
   "cell_type": "code",
   "execution_count": 11,
   "metadata": {},
   "outputs": [
    {
     "data": {
      "text/html": [
       "<div>\n",
       "<style scoped>\n",
       "    .dataframe tbody tr th:only-of-type {\n",
       "        vertical-align: middle;\n",
       "    }\n",
       "\n",
       "    .dataframe tbody tr th {\n",
       "        vertical-align: top;\n",
       "    }\n",
       "\n",
       "    .dataframe thead th {\n",
       "        text-align: right;\n",
       "    }\n",
       "</style>\n",
       "<table border=\"1\" class=\"dataframe\">\n",
       "  <thead>\n",
       "    <tr style=\"text-align: right;\">\n",
       "      <th></th>\n",
       "      <th>bug_id</th>\n",
       "      <th>bug_severity</th>\n",
       "      <th>bug_status</th>\n",
       "      <th>component</th>\n",
       "      <th>creation_ts</th>\n",
       "      <th>delta_ts</th>\n",
       "      <th>description</th>\n",
       "      <th>dup_id</th>\n",
       "      <th>priority</th>\n",
       "      <th>product</th>\n",
       "      <th>resolution</th>\n",
       "      <th>short_desc</th>\n",
       "      <th>version</th>\n",
       "    </tr>\n",
       "  </thead>\n",
       "  <tbody>\n",
       "    <tr>\n",
       "      <th>194060</th>\n",
       "      <td>210304</td>\n",
       "      <td>normal</td>\n",
       "      <td>VERIFIED</td>\n",
       "      <td>IDE</td>\n",
       "      <td>2007-11-19 16:31:00 -0500</td>\n",
       "      <td>2008-02-07 16:11:08 -0500</td>\n",
       "      <td>+++ This bug was initially created as a clone ...</td>\n",
       "      <td>[]</td>\n",
       "      <td>P3</td>\n",
       "      <td>Platform</td>\n",
       "      <td>FIXED</td>\n",
       "      <td>[Navigator] resourceFilters incorrectly read f...</td>\n",
       "      <td>3.3.1</td>\n",
       "    </tr>\n",
       "    <tr>\n",
       "      <th>197893</th>\n",
       "      <td>214411</td>\n",
       "      <td>normal</td>\n",
       "      <td>RESOLVED</td>\n",
       "      <td>IDE</td>\n",
       "      <td>2008-01-04 17:47:00 -0500</td>\n",
       "      <td>2009-10-01 09:36:04 -0400</td>\n",
       "      <td>I just started using Eclipse version 3.3.1.1 (...</td>\n",
       "      <td>210304</td>\n",
       "      <td>P3</td>\n",
       "      <td>Platform</td>\n",
       "      <td>DUPLICATE</td>\n",
       "      <td>ResourceNavigator filters appear to be totally...</td>\n",
       "      <td>3.3.1</td>\n",
       "    </tr>\n",
       "    <tr>\n",
       "      <th>197894</th>\n",
       "      <td>214411</td>\n",
       "      <td>normal</td>\n",
       "      <td>RESOLVED</td>\n",
       "      <td>IDE</td>\n",
       "      <td>2008-01-04 17:47:00 -0500</td>\n",
       "      <td>2009-10-01 09:36:04 -0400</td>\n",
       "      <td>I just started using Eclipse version 3.3.1.1 (...</td>\n",
       "      <td>[]</td>\n",
       "      <td>P3</td>\n",
       "      <td>Platform</td>\n",
       "      <td>NDUPLICATE</td>\n",
       "      <td>ResourceNavigator filters appear to be totally...</td>\n",
       "      <td>3.3.1</td>\n",
       "    </tr>\n",
       "    <tr>\n",
       "      <th>200426</th>\n",
       "      <td>216663</td>\n",
       "      <td>normal</td>\n",
       "      <td>RESOLVED</td>\n",
       "      <td>IDE</td>\n",
       "      <td>2008-01-25 20:49:00 -0500</td>\n",
       "      <td>2009-10-01 09:36:04 -0400</td>\n",
       "      <td>Build ID: M20071023-1652\\n\\nSteps To Reproduce...</td>\n",
       "      <td>210304</td>\n",
       "      <td>P3</td>\n",
       "      <td>Platform</td>\n",
       "      <td>DUPLICATE</td>\n",
       "      <td>Navigator Filters dialog is empty</td>\n",
       "      <td>3.3.1</td>\n",
       "    </tr>\n",
       "    <tr>\n",
       "      <th>200472</th>\n",
       "      <td>216725</td>\n",
       "      <td>normal</td>\n",
       "      <td>RESOLVED</td>\n",
       "      <td>IDE</td>\n",
       "      <td>2008-01-28 04:06:00 -0500</td>\n",
       "      <td>2009-10-01 09:36:04 -0400</td>\n",
       "      <td>Build ID: M20071023-1652\\n\\nSteps To Reproduce...</td>\n",
       "      <td>210304</td>\n",
       "      <td>P3</td>\n",
       "      <td>Platform</td>\n",
       "      <td>DUPLICATE</td>\n",
       "      <td>resourceFilters extension point doesn't work</td>\n",
       "      <td>3.3.1</td>\n",
       "    </tr>\n",
       "    <tr>\n",
       "      <th>201797</th>\n",
       "      <td>218239</td>\n",
       "      <td>normal</td>\n",
       "      <td>RESOLVED</td>\n",
       "      <td>UI</td>\n",
       "      <td>2008-02-07 14:54:00 -0500</td>\n",
       "      <td>2008-02-07 16:11:08 -0500</td>\n",
       "      <td>Build ID: M20071023-1652\\n\\nSteps To Reproduce...</td>\n",
       "      <td>210304</td>\n",
       "      <td>P3</td>\n",
       "      <td>Platform</td>\n",
       "      <td>DUPLICATE</td>\n",
       "      <td>[Navigator View]  Filters dialog is empty when...</td>\n",
       "      <td>3.3.1</td>\n",
       "    </tr>\n",
       "  </tbody>\n",
       "</table>\n",
       "</div>"
      ],
      "text/plain": [
       "        bug_id bug_severity bug_status component                creation_ts  \\\n",
       "194060  210304       normal   VERIFIED       IDE  2007-11-19 16:31:00 -0500   \n",
       "197893  214411       normal   RESOLVED       IDE  2008-01-04 17:47:00 -0500   \n",
       "197894  214411       normal   RESOLVED       IDE  2008-01-04 17:47:00 -0500   \n",
       "200426  216663       normal   RESOLVED       IDE  2008-01-25 20:49:00 -0500   \n",
       "200472  216725       normal   RESOLVED       IDE  2008-01-28 04:06:00 -0500   \n",
       "201797  218239       normal   RESOLVED        UI  2008-02-07 14:54:00 -0500   \n",
       "\n",
       "                         delta_ts  \\\n",
       "194060  2008-02-07 16:11:08 -0500   \n",
       "197893  2009-10-01 09:36:04 -0400   \n",
       "197894  2009-10-01 09:36:04 -0400   \n",
       "200426  2009-10-01 09:36:04 -0400   \n",
       "200472  2009-10-01 09:36:04 -0400   \n",
       "201797  2008-02-07 16:11:08 -0500   \n",
       "\n",
       "                                              description  dup_id priority  \\\n",
       "194060  +++ This bug was initially created as a clone ...      []       P3   \n",
       "197893  I just started using Eclipse version 3.3.1.1 (...  210304       P3   \n",
       "197894  I just started using Eclipse version 3.3.1.1 (...      []       P3   \n",
       "200426  Build ID: M20071023-1652\\n\\nSteps To Reproduce...  210304       P3   \n",
       "200472  Build ID: M20071023-1652\\n\\nSteps To Reproduce...  210304       P3   \n",
       "201797  Build ID: M20071023-1652\\n\\nSteps To Reproduce...  210304       P3   \n",
       "\n",
       "         product  resolution  \\\n",
       "194060  Platform       FIXED   \n",
       "197893  Platform   DUPLICATE   \n",
       "197894  Platform  NDUPLICATE   \n",
       "200426  Platform   DUPLICATE   \n",
       "200472  Platform   DUPLICATE   \n",
       "201797  Platform   DUPLICATE   \n",
       "\n",
       "                                               short_desc version  \n",
       "194060  [Navigator] resourceFilters incorrectly read f...   3.3.1  \n",
       "197893  ResourceNavigator filters appear to be totally...   3.3.1  \n",
       "197894  ResourceNavigator filters appear to be totally...   3.3.1  \n",
       "200426                  Navigator Filters dialog is empty   3.3.1  \n",
       "200472       resourceFilters extension point doesn't work   3.3.1  \n",
       "201797  [Navigator View]  Filters dialog is empty when...   3.3.1  "
      ]
     },
     "execution_count": 11,
     "metadata": {},
     "output_type": "execute_result"
    }
   ],
   "source": [
    "df[df['bug_id'].isin([214411, 210304, 216725, 216725, 216663, 218239])]"
   ]
  },
  {
   "cell_type": "markdown",
   "metadata": {},
   "source": [
    "#### Example 2"
   ]
  },
  {
   "cell_type": "code",
   "execution_count": 12,
   "metadata": {},
   "outputs": [
    {
     "data": {
      "text/plain": [
       "{119056, 119285, 119619, 119712, 119845, 120183}"
      ]
     },
     "execution_count": 12,
     "metadata": {},
     "output_type": "execute_result"
    }
   ],
   "source": [
    "buckets[119056]"
   ]
  },
  {
   "cell_type": "code",
   "execution_count": 13,
   "metadata": {},
   "outputs": [
    {
     "data": {
      "text/html": [
       "<div>\n",
       "<style scoped>\n",
       "    .dataframe tbody tr th:only-of-type {\n",
       "        vertical-align: middle;\n",
       "    }\n",
       "\n",
       "    .dataframe tbody tr th {\n",
       "        vertical-align: top;\n",
       "    }\n",
       "\n",
       "    .dataframe thead th {\n",
       "        text-align: right;\n",
       "    }\n",
       "</style>\n",
       "<table border=\"1\" class=\"dataframe\">\n",
       "  <thead>\n",
       "    <tr style=\"text-align: right;\">\n",
       "      <th></th>\n",
       "      <th>bug_id</th>\n",
       "      <th>bug_severity</th>\n",
       "      <th>bug_status</th>\n",
       "      <th>component</th>\n",
       "      <th>creation_ts</th>\n",
       "      <th>delta_ts</th>\n",
       "      <th>description</th>\n",
       "      <th>dup_id</th>\n",
       "      <th>priority</th>\n",
       "      <th>product</th>\n",
       "      <th>resolution</th>\n",
       "      <th>short_desc</th>\n",
       "      <th>version</th>\n",
       "    </tr>\n",
       "  </thead>\n",
       "  <tbody>\n",
       "    <tr>\n",
       "      <th>112218</th>\n",
       "      <td>119056</td>\n",
       "      <td>normal</td>\n",
       "      <td>VERIFIED</td>\n",
       "      <td>CVS</td>\n",
       "      <td>2005-12-02 11:50:00 -0500</td>\n",
       "      <td>2005-12-13 15:13:37 -0500</td>\n",
       "      <td>I20051130-1215\\n\\nWhen comparing, tagging or r...</td>\n",
       "      <td>[]</td>\n",
       "      <td>P3</td>\n",
       "      <td>Platform</td>\n",
       "      <td>FIXED</td>\n",
       "      <td>Duplicate entries in compare/replace with bran...</td>\n",
       "      <td>3.2</td>\n",
       "    </tr>\n",
       "    <tr>\n",
       "      <th>112425</th>\n",
       "      <td>119285</td>\n",
       "      <td>normal</td>\n",
       "      <td>RESOLVED</td>\n",
       "      <td>Team</td>\n",
       "      <td>2005-12-05 13:38:00 -0500</td>\n",
       "      <td>2005-12-07 15:12:06 -0500</td>\n",
       "      <td>I20051130-1215\\n*I have a java class in my wor...</td>\n",
       "      <td>119056</td>\n",
       "      <td>P3</td>\n",
       "      <td>Platform</td>\n",
       "      <td>DUPLICATE</td>\n",
       "      <td>Replace with uncommitted changes dialog shows ...</td>\n",
       "      <td>3.2</td>\n",
       "    </tr>\n",
       "    <tr>\n",
       "      <th>112736</th>\n",
       "      <td>119619</td>\n",
       "      <td>normal</td>\n",
       "      <td>RESOLVED</td>\n",
       "      <td>Team</td>\n",
       "      <td>2005-12-07 07:30:00 -0500</td>\n",
       "      <td>2005-12-09 09:07:33 -0500</td>\n",
       "      <td>I20051206\\n\\n1. Check out a Java project from ...</td>\n",
       "      <td>119056</td>\n",
       "      <td>P3</td>\n",
       "      <td>Platform</td>\n",
       "      <td>DUPLICATE</td>\n",
       "      <td>Replace with latest propose the same .java fil...</td>\n",
       "      <td>3.1</td>\n",
       "    </tr>\n",
       "    <tr>\n",
       "      <th>112812</th>\n",
       "      <td>119712</td>\n",
       "      <td>normal</td>\n",
       "      <td>RESOLVED</td>\n",
       "      <td>Team</td>\n",
       "      <td>2005-12-07 14:26:00 -0500</td>\n",
       "      <td>2005-12-07 15:12:06 -0500</td>\n",
       "      <td>Build: I-20051206 (and even the one from the w...</td>\n",
       "      <td>119285</td>\n",
       "      <td>P3</td>\n",
       "      <td>Platform</td>\n",
       "      <td>DUPLICATE</td>\n",
       "      <td>seeing double</td>\n",
       "      <td>3.1</td>\n",
       "    </tr>\n",
       "    <tr>\n",
       "      <th>112941</th>\n",
       "      <td>119845</td>\n",
       "      <td>normal</td>\n",
       "      <td>RESOLVED</td>\n",
       "      <td>Team</td>\n",
       "      <td>2005-12-08 07:01:00 -0500</td>\n",
       "      <td>2005-12-08 10:13:29 -0500</td>\n",
       "      <td>Take a project with some local changes you wan...</td>\n",
       "      <td>119056</td>\n",
       "      <td>P3</td>\n",
       "      <td>Platform</td>\n",
       "      <td>DUPLICATE</td>\n",
       "      <td>Replace with dialog shows projects multiple times</td>\n",
       "      <td>3.2</td>\n",
       "    </tr>\n",
       "    <tr>\n",
       "      <th>113259</th>\n",
       "      <td>120183</td>\n",
       "      <td>normal</td>\n",
       "      <td>RESOLVED</td>\n",
       "      <td>Team</td>\n",
       "      <td>2005-12-09 16:39:00 -0500</td>\n",
       "      <td>2005-12-09 16:52:38 -0500</td>\n",
       "      <td>See attached screenshot.\\n\\nThe dialog title i...</td>\n",
       "      <td>119056</td>\n",
       "      <td>P3</td>\n",
       "      <td>Platform</td>\n",
       "      <td>DUPLICATE</td>\n",
       "      <td>Duplicate entries in \"Replace with uncommitted...</td>\n",
       "      <td>3.2</td>\n",
       "    </tr>\n",
       "  </tbody>\n",
       "</table>\n",
       "</div>"
      ],
      "text/plain": [
       "        bug_id bug_severity bug_status component                creation_ts  \\\n",
       "112218  119056       normal   VERIFIED       CVS  2005-12-02 11:50:00 -0500   \n",
       "112425  119285       normal   RESOLVED      Team  2005-12-05 13:38:00 -0500   \n",
       "112736  119619       normal   RESOLVED      Team  2005-12-07 07:30:00 -0500   \n",
       "112812  119712       normal   RESOLVED      Team  2005-12-07 14:26:00 -0500   \n",
       "112941  119845       normal   RESOLVED      Team  2005-12-08 07:01:00 -0500   \n",
       "113259  120183       normal   RESOLVED      Team  2005-12-09 16:39:00 -0500   \n",
       "\n",
       "                         delta_ts  \\\n",
       "112218  2005-12-13 15:13:37 -0500   \n",
       "112425  2005-12-07 15:12:06 -0500   \n",
       "112736  2005-12-09 09:07:33 -0500   \n",
       "112812  2005-12-07 15:12:06 -0500   \n",
       "112941  2005-12-08 10:13:29 -0500   \n",
       "113259  2005-12-09 16:52:38 -0500   \n",
       "\n",
       "                                              description  dup_id priority  \\\n",
       "112218  I20051130-1215\\n\\nWhen comparing, tagging or r...      []       P3   \n",
       "112425  I20051130-1215\\n*I have a java class in my wor...  119056       P3   \n",
       "112736  I20051206\\n\\n1. Check out a Java project from ...  119056       P3   \n",
       "112812  Build: I-20051206 (and even the one from the w...  119285       P3   \n",
       "112941  Take a project with some local changes you wan...  119056       P3   \n",
       "113259  See attached screenshot.\\n\\nThe dialog title i...  119056       P3   \n",
       "\n",
       "         product resolution  \\\n",
       "112218  Platform      FIXED   \n",
       "112425  Platform  DUPLICATE   \n",
       "112736  Platform  DUPLICATE   \n",
       "112812  Platform  DUPLICATE   \n",
       "112941  Platform  DUPLICATE   \n",
       "113259  Platform  DUPLICATE   \n",
       "\n",
       "                                               short_desc version  \n",
       "112218  Duplicate entries in compare/replace with bran...     3.2  \n",
       "112425  Replace with uncommitted changes dialog shows ...     3.2  \n",
       "112736  Replace with latest propose the same .java fil...     3.1  \n",
       "112812                                      seeing double     3.1  \n",
       "112941  Replace with dialog shows projects multiple times     3.2  \n",
       "113259  Duplicate entries in \"Replace with uncommitted...     3.2  "
      ]
     },
     "execution_count": 13,
     "metadata": {},
     "output_type": "execute_result"
    }
   ],
   "source": [
    "df[df['bug_id'].isin(buckets[119056])]"
   ]
  },
  {
   "cell_type": "markdown",
   "metadata": {},
   "source": [
    "#### Example 3"
   ]
  },
  {
   "cell_type": "code",
   "execution_count": 14,
   "metadata": {},
   "outputs": [
    {
     "data": {
      "text/plain": [
       "{213528, 214971, 288347}"
      ]
     },
     "execution_count": 14,
     "metadata": {},
     "output_type": "execute_result"
    }
   ],
   "source": [
    "buckets[288347]"
   ]
  },
  {
   "cell_type": "code",
   "execution_count": 15,
   "metadata": {},
   "outputs": [
    {
     "data": {
      "text/html": [
       "<div>\n",
       "<style scoped>\n",
       "    .dataframe tbody tr th:only-of-type {\n",
       "        vertical-align: middle;\n",
       "    }\n",
       "\n",
       "    .dataframe tbody tr th {\n",
       "        vertical-align: top;\n",
       "    }\n",
       "\n",
       "    .dataframe thead th {\n",
       "        text-align: right;\n",
       "    }\n",
       "</style>\n",
       "<table border=\"1\" class=\"dataframe\">\n",
       "  <thead>\n",
       "    <tr style=\"text-align: right;\">\n",
       "      <th></th>\n",
       "      <th>bug_id</th>\n",
       "      <th>bug_severity</th>\n",
       "      <th>bug_status</th>\n",
       "      <th>component</th>\n",
       "      <th>creation_ts</th>\n",
       "      <th>delta_ts</th>\n",
       "      <th>description</th>\n",
       "      <th>dup_id</th>\n",
       "      <th>priority</th>\n",
       "      <th>product</th>\n",
       "      <th>resolution</th>\n",
       "      <th>short_desc</th>\n",
       "      <th>version</th>\n",
       "    </tr>\n",
       "  </thead>\n",
       "  <tbody>\n",
       "    <tr>\n",
       "      <th>196816</th>\n",
       "      <td>213528</td>\n",
       "      <td>enhancement</td>\n",
       "      <td>RESOLVED</td>\n",
       "      <td>Jira</td>\n",
       "      <td>2007-12-19 15:58:00 -0500</td>\n",
       "      <td>2009-09-02 18:37:37 -0400</td>\n",
       "      <td>-- Created from Comment --\\nURL: https://bugs....</td>\n",
       "      <td>288347</td>\n",
       "      <td>P2</td>\n",
       "      <td>Mylyn</td>\n",
       "      <td>DUPLICATE</td>\n",
       "      <td>only submit comment if none of the attributes ...</td>\n",
       "      <td>unspecified</td>\n",
       "    </tr>\n",
       "    <tr>\n",
       "      <th>198879</th>\n",
       "      <td>214971</td>\n",
       "      <td>normal</td>\n",
       "      <td>RESOLVED</td>\n",
       "      <td>Jira</td>\n",
       "      <td>2008-01-10 17:52:00 -0500</td>\n",
       "      <td>2009-09-17 19:45:23 -0400</td>\n",
       "      <td>Is unable to reassign a tasks through the acti...</td>\n",
       "      <td>288347</td>\n",
       "      <td>P3</td>\n",
       "      <td>Mylyn</td>\n",
       "      <td>DUPLICATE</td>\n",
       "      <td>unable to reassign tasks if no permissions to ...</td>\n",
       "      <td>2.2</td>\n",
       "    </tr>\n",
       "    <tr>\n",
       "      <th>198880</th>\n",
       "      <td>214971</td>\n",
       "      <td>normal</td>\n",
       "      <td>RESOLVED</td>\n",
       "      <td>Jira</td>\n",
       "      <td>2008-01-10 17:52:00 -0500</td>\n",
       "      <td>2009-09-17 19:45:23 -0400</td>\n",
       "      <td>Is unable to reassign a tasks through the acti...</td>\n",
       "      <td>[]</td>\n",
       "      <td>P3</td>\n",
       "      <td>Mylyn</td>\n",
       "      <td>NDUPLICATE</td>\n",
       "      <td>unable to reassign tasks if no permissions to ...</td>\n",
       "      <td>2.2</td>\n",
       "    </tr>\n",
       "    <tr>\n",
       "      <th>260795</th>\n",
       "      <td>288347</td>\n",
       "      <td>enhancement</td>\n",
       "      <td>RESOLVED</td>\n",
       "      <td>Jira</td>\n",
       "      <td>2009-09-02 08:19:00 -0400</td>\n",
       "      <td>2009-09-24 05:37:43 -0400</td>\n",
       "      <td>User-Agent:       Mozilla/5.0 (Macintosh; U; I...</td>\n",
       "      <td>[]</td>\n",
       "      <td>P2</td>\n",
       "      <td>Mylyn</td>\n",
       "      <td>FIXED</td>\n",
       "      <td>only update comment or reassign if this is the...</td>\n",
       "      <td>3.2</td>\n",
       "    </tr>\n",
       "  </tbody>\n",
       "</table>\n",
       "</div>"
      ],
      "text/plain": [
       "        bug_id bug_severity bug_status component                creation_ts  \\\n",
       "196816  213528  enhancement   RESOLVED      Jira  2007-12-19 15:58:00 -0500   \n",
       "198879  214971       normal   RESOLVED      Jira  2008-01-10 17:52:00 -0500   \n",
       "198880  214971       normal   RESOLVED      Jira  2008-01-10 17:52:00 -0500   \n",
       "260795  288347  enhancement   RESOLVED      Jira  2009-09-02 08:19:00 -0400   \n",
       "\n",
       "                         delta_ts  \\\n",
       "196816  2009-09-02 18:37:37 -0400   \n",
       "198879  2009-09-17 19:45:23 -0400   \n",
       "198880  2009-09-17 19:45:23 -0400   \n",
       "260795  2009-09-24 05:37:43 -0400   \n",
       "\n",
       "                                              description  dup_id priority  \\\n",
       "196816  -- Created from Comment --\\nURL: https://bugs....  288347       P2   \n",
       "198879  Is unable to reassign a tasks through the acti...  288347       P3   \n",
       "198880  Is unable to reassign a tasks through the acti...      []       P3   \n",
       "260795  User-Agent:       Mozilla/5.0 (Macintosh; U; I...      []       P2   \n",
       "\n",
       "       product  resolution                                         short_desc  \\\n",
       "196816   Mylyn   DUPLICATE  only submit comment if none of the attributes ...   \n",
       "198879   Mylyn   DUPLICATE  unable to reassign tasks if no permissions to ...   \n",
       "198880   Mylyn  NDUPLICATE  unable to reassign tasks if no permissions to ...   \n",
       "260795   Mylyn       FIXED  only update comment or reassign if this is the...   \n",
       "\n",
       "            version  \n",
       "196816  unspecified  \n",
       "198879          2.2  \n",
       "198880          2.2  \n",
       "260795          3.2  "
      ]
     },
     "execution_count": 15,
     "metadata": {},
     "output_type": "execute_result"
    }
   ],
   "source": [
    "df[df['bug_id'].isin([214971, 288347, 213528])]"
   ]
  },
  {
   "cell_type": "markdown",
   "metadata": {},
   "source": [
    "### Ploting buckets after training"
   ]
  },
  {
   "cell_type": "code",
   "execution_count": 16,
   "metadata": {},
   "outputs": [],
   "source": [
    "import re\n",
    "import numpy as np\n",
    "import pandas as pd\n",
    "\n",
    "import os\n",
    "from tqdm import tqdm_notebook as tqdm\n",
    "import matplotlib.pyplot as plt\n",
    "import sys\n",
    "from annoy import AnnoyIndex\n",
    "nb_dir = os.path.split(os.getcwd())[0]\n",
    "if nb_dir not in sys.path:\n",
    "    sys.path.append(nb_dir)\n",
    "    \n",
    "%matplotlib inline"
   ]
  },
  {
   "cell_type": "code",
   "execution_count": 17,
   "metadata": {},
   "outputs": [],
   "source": [
    "from methods.baseline import Baseline\n",
    "from methods.experiments import Experiment\n",
    "from methods.evaluation import Evaluation\n",
    "from methods.retrieval import Retrieval"
   ]
  },
  {
   "cell_type": "code",
   "execution_count": 18,
   "metadata": {},
   "outputs": [],
   "source": [
    "MAX_SEQUENCE_LENGTH_T = 100 # 100\n",
    "MAX_SEQUENCE_LENGTH_D = 500 # 500\n",
    "EMBEDDING_DIM = 300\n",
    "MAX_NB_WORDS = 20000"
   ]
  },
  {
   "cell_type": "code",
   "execution_count": 34,
   "metadata": {},
   "outputs": [],
   "source": [
    "# Domain to use\n",
    "DOMAIN = 'netbeans'\n",
    "METHOD = 'propose_master_triplet_loss'\n",
    "# Dataset paths\n",
    "DIR = 'data/processed/{}'.format(DOMAIN)\n",
    "DIR_PAIRS = 'data/normalized/{}'.format(DOMAIN)\n",
    "DATASET = os.path.join('data/normalized/{}'.format(DOMAIN), '{}.csv'.format(DOMAIN))\n",
    "# Glove embeddings\n",
    "GLOVE_DIR='data/embed'\n",
    "# Save model\n",
    "SAVE_PATH = '{}_feature@number_of_epochs@epochs_64batch({})'.format(METHOD, DOMAIN)\n",
    "SAVE_PATH_FEATURE_1_EPOCH = '{}_feature_1epochs_64batch({})'.format(METHOD, DOMAIN)\n",
    "SAVE_PATH_FEATURE = '{}_feature_@number_of_epochs@epochs_64batch({})'.format(METHOD, DOMAIN)\n",
    "\n",
    "# Extract CORPUs\n",
    "EXTRACT_CORPUS = False"
   ]
  },
  {
   "cell_type": "code",
   "execution_count": 20,
   "metadata": {},
   "outputs": [],
   "source": [
    "baseline = Baseline(DIR, DATASET, MAX_SEQUENCE_LENGTH_T, MAX_SEQUENCE_LENGTH_D)\n",
    "evaluation = Evaluation(verbose=0)\n",
    "retrieval = Retrieval()\n",
    "experiment = Experiment(baseline, evaluation)"
   ]
  },
  {
   "cell_type": "code",
   "execution_count": 21,
   "metadata": {},
   "outputs": [
    {
     "name": "stdout",
     "output_type": "stream",
     "text": [
      "Creating the buckets...\n"
     ]
    },
    {
     "data": {
      "application/vnd.jupyter.widget-view+json": {
       "model_id": "4585fadc1cb341e592731fcbd6c281f7",
       "version_major": 2,
       "version_minor": 0
      },
      "text/plain": [
       "HBox(children=(IntProgress(value=0, max=180483), HTML(value='')))"
      ]
     },
     "metadata": {},
     "output_type": "display_data"
    },
    {
     "name": "stdout",
     "output_type": "stream",
     "text": [
      "\n"
     ]
    },
    {
     "data": {
      "application/vnd.jupyter.widget-view+json": {
       "model_id": "91426a32c84d4ad394cd3e13e27f4253",
       "version_major": 2,
       "version_minor": 0
      },
      "text/plain": [
       "HBox(children=(IntProgress(value=0, max=36232), HTML(value='')))"
      ]
     },
     "metadata": {},
     "output_type": "display_data"
    },
    {
     "name": "stdout",
     "output_type": "stream",
     "text": [
      "\n"
     ]
    }
   ],
   "source": [
    "experiment.set_retrieval(retrieval, baseline, DOMAIN)"
   ]
  },
  {
   "cell_type": "code",
   "execution_count": 22,
   "metadata": {},
   "outputs": [
    {
     "name": "stdout",
     "output_type": "stream",
     "text": [
      "Reading bug ids\n"
     ]
    },
    {
     "data": {
      "text/plain": [
       "216715"
      ]
     },
     "execution_count": 22,
     "metadata": {},
     "output_type": "execute_result"
    }
   ],
   "source": [
    "experiment.load_ids()\n",
    "len(baseline.bug_ids)"
   ]
  },
  {
   "cell_type": "code",
   "execution_count": 23,
   "metadata": {},
   "outputs": [
    {
     "data": {
      "application/vnd.jupyter.widget-view+json": {
       "model_id": "a5e007d7157041c7847d51a788e4df0e",
       "version_major": 2,
       "version_minor": 0
      },
      "text/plain": [
       "HBox(children=(IntProgress(value=0, max=216715), HTML(value='')))"
      ]
     },
     "metadata": {},
     "output_type": "display_data"
    },
    {
     "name": "stdout",
     "output_type": "stream",
     "text": [
      "\n"
     ]
    },
    {
     "data": {
      "application/vnd.jupyter.widget-view+json": {
       "model_id": "fb98ab37814f4f47a8d9b0fb81b0b1fc",
       "version_major": 2,
       "version_minor": 0
      },
      "text/plain": [
       "HBox(children=(IntProgress(value=1, bar_style='info', max=1), HTML(value='')))"
      ]
     },
     "metadata": {},
     "output_type": "display_data"
    },
    {
     "name": "stdout",
     "output_type": "stream",
     "text": [
      "\n",
      "CPU times: user 1min 24s, sys: 2.4 s, total: 1min 26s\n",
      "Wall time: 1min 25s\n"
     ]
    }
   ],
   "source": [
    "%%time\n",
    "\n",
    "experiment.load_bugs()\n",
    "len(baseline.sentence_dict)"
   ]
  },
  {
   "cell_type": "code",
   "execution_count": 24,
   "metadata": {},
   "outputs": [
    {
     "data": {
      "application/vnd.jupyter.widget-view+json": {
       "model_id": "17272fe54dd443db8c0672e09851a4cf",
       "version_major": 2,
       "version_minor": 0
      },
      "text/plain": [
       "HBox(children=(IntProgress(value=0, max=181971), HTML(value='')))"
      ]
     },
     "metadata": {},
     "output_type": "display_data"
    },
    {
     "name": "stdout",
     "output_type": "stream",
     "text": [
      "\n"
     ]
    }
   ],
   "source": [
    "issues_by_buckets = experiment.get_buckets_for_bugs()"
   ]
  },
  {
   "cell_type": "code",
   "execution_count": 25,
   "metadata": {},
   "outputs": [
    {
     "name": "stdout",
     "output_type": "stream",
     "text": [
      "Reading train data\n",
      "Reading bug ids\n",
      "CPU times: user 2min 39s, sys: 7.09 ms, total: 2min 39s\n",
      "Wall time: 2min 39s\n"
     ]
    }
   ],
   "source": [
    "%%time\n",
    "\n",
    "experiment.prepare_dataset(issues_by_buckets, path_train='train_chronological', path_test='test_chronological')\n",
    "# Read and create the test queries duplicates\n",
    "retrieval.create_queries()"
   ]
  },
  {
   "cell_type": "code",
   "execution_count": 26,
   "metadata": {},
   "outputs": [],
   "source": [
    "bug_train_ids = experiment.get_train_ids(baseline.train_data)"
   ]
  },
  {
   "cell_type": "code",
   "execution_count": 233,
   "metadata": {},
   "outputs": [],
   "source": [
    "from sklearn.manifold import TSNE\n",
    "import random\n",
    "\n",
    "def plot_2d(test_labels, tsne_features, categories, colors=None):\n",
    "    if colors == None:\n",
    "        colors = [(random.uniform(.25, .75), random.uniform(.5, 1), random.uniform(.25, .75)) for i in enumerate(test_labels)]\n",
    "    plt.figure(figsize=(10, 10))\n",
    "    test_labels = np.asarray(test_labels)\n",
    "    for c_color, c_label in zip(colors, categories):\n",
    "        plt.scatter(tsne_features[np.where(test_labels == c_label), 0],\n",
    "                    tsne_features[np.where(test_labels == c_label), 1],\n",
    "                    marker='o',\n",
    "                    color=c_color,\n",
    "                    linewidth='1',\n",
    "                    alpha=0.8,\n",
    "                    label=c_label)\n",
    "    plt.xlabel('Dimension 1')\n",
    "    plt.ylabel('Dimension 2')\n",
    "    plt.title('t-SNE on Buckets')\n",
    "    plt.legend(loc='best')\n",
    "    #plt.savefig('clothes-dist.png')\n",
    "    plt.show(block=False)\n",
    "    if colors != None:\n",
    "        return colors\n",
    "\n",
    "def create_features(x_test_features):\n",
    "    tsne_obj = TSNE(n_components=2,\n",
    "                            init='pca',\n",
    "                            random_state=101,\n",
    "                            method='barnes_hut',\n",
    "                            n_iter=500,\n",
    "                            verbose=0)\n",
    "    tsne_features = tsne_obj.fit_transform(x_test_features)\n",
    "    return tsne_features"
   ]
  },
  {
   "cell_type": "code",
   "execution_count": 35,
   "metadata": {},
   "outputs": [
    {
     "name": "stderr",
     "output_type": "stream",
     "text": [
      "/usr/local/lib/python3.5/dist-packages/keras/engine/saving.py:292: UserWarning: No training configuration found in save file: the model was *not* compiled. Compile it manually.\n",
      "  warnings.warn('No training configuration found in save file: '\n"
     ]
    }
   ],
   "source": [
    "import os\n",
    "os.environ['CUDA_VISIBLE_DEVICES'] = '-1'\n",
    "model = experiment.get_model_vectorizer(path=SAVE_PATH_FEATURE.replace('@number_of_epochs@', '100'))"
   ]
  },
  {
   "cell_type": "code",
   "execution_count": 38,
   "metadata": {},
   "outputs": [
    {
     "name": "stderr",
     "output_type": "stream",
     "text": [
      "/usr/local/lib/python3.5/dist-packages/keras/engine/saving.py:292: UserWarning: No training configuration found in save file: the model was *not* compiled. Compile it manually.\n",
      "  warnings.warn('No training configuration found in save file: '\n"
     ]
    }
   ],
   "source": [
    "model_1_epoch = experiment.get_model_vectorizer(path=SAVE_PATH_FEATURE_1_EPOCH)"
   ]
  },
  {
   "cell_type": "code",
   "execution_count": 39,
   "metadata": {},
   "outputs": [],
   "source": [
    "buckets_2_dups = [bucket for bucket in retrieval.buckets if len(retrieval.buckets[bucket]) == 2]\n",
    "buckets_biggest_2_dups = [bucket for bucket in retrieval.buckets if len(retrieval.buckets[bucket]) > 2]\n",
    "buckets_3_dups = [bucket for bucket in retrieval.buckets if len(retrieval.buckets[bucket]) == 3]\n",
    "buckets_5_dups = [bucket for bucket in retrieval.buckets if len(retrieval.buckets[bucket]) == 5]\n",
    "buckets_between_5_and_10_dups = [bucket for bucket in retrieval.buckets if len(retrieval.buckets[bucket]) > 5 and len(retrieval.buckets[bucket]) <= 10]\n",
    "buckets_biggest_10_dups = [bucket for bucket in retrieval.buckets if len(retrieval.buckets[bucket]) > 10]"
   ]
  },
  {
   "cell_type": "code",
   "execution_count": 40,
   "metadata": {
    "scrolled": false
   },
   "outputs": [
    {
     "data": {
      "text/plain": [
       "(13589, 3411, 628, 897, 228)"
      ]
     },
     "execution_count": 40,
     "metadata": {},
     "output_type": "execute_result"
    }
   ],
   "source": [
    "len(buckets_2_dups), len(buckets_3_dups), len(buckets_5_dups), len(buckets_between_5_and_10_dups), len(buckets_biggest_10_dups)"
   ]
  },
  {
   "cell_type": "code",
   "execution_count": 109,
   "metadata": {},
   "outputs": [],
   "source": [
    "import numpy as np\n",
    "\n",
    "def create_tsne_vector(model):\n",
    "    test_features = []\n",
    "    title_data, desc_data, info_data = [], [], []\n",
    "    categories = []\n",
    "    bucket_labels = set()\n",
    "\n",
    "    for row  in bucket_dups_selected:\n",
    "        bug_id, bucket_id = row\n",
    "        # bucket and dups\n",
    "        if bug_id not in baseline.bug_set: continue\n",
    "        if bug_id in retrieval.buckets:\n",
    "            label = 'duplicado_de_{}'.format(bucket_id)\n",
    "            categories.append(label)\n",
    "            bucket_labels.add(label)\n",
    "        else:\n",
    "            dup_label = 'duplicado_de_{}'.format(bucket_id)\n",
    "            categories.append(dup_label)\n",
    "            bucket_labels.add(dup_label)\n",
    "        bug = baseline.bug_set[bug_id]\n",
    "        title_data.append(bug['title_word'])\n",
    "        desc_data.append(bug['description_word'])\n",
    "        info_data.append(experiment.retrieval.get_info(bug))\n",
    "\n",
    "    bucket_labels = list(bucket_labels)    \n",
    "    test_features = model.predict([ np.array(title_data), np.array(desc_data), np.array(info_data) ])\n",
    "    return bucket_labels, test_features, categories"
   ]
  },
  {
   "cell_type": "markdown",
   "metadata": {},
   "source": [
    "### Select random buckets"
   ]
  },
  {
   "cell_type": "code",
   "execution_count": 234,
   "metadata": {},
   "outputs": [],
   "source": [
    "selected_buckets = [ 47708, 228156, 132573, 132662, 207563]\n",
    "# [226761, 211165,  60740, 172436, 160273]\n",
    "# [146677, 118038, 207060, 236101,  35870] - best\n",
    "# [ 47708, 228156, 132573, 132662, 207563] - best\n",
    "# selected_buckets = np.random.choice(buckets_biggest_10_dups, 5)"
   ]
  },
  {
   "cell_type": "code",
   "execution_count": 235,
   "metadata": {},
   "outputs": [
    {
     "data": {
      "text/plain": [
       "[47708, 228156, 132573, 132662, 207563]"
      ]
     },
     "execution_count": 235,
     "metadata": {},
     "output_type": "execute_result"
    }
   ],
   "source": [
    "selected_buckets"
   ]
  },
  {
   "cell_type": "code",
   "execution_count": 236,
   "metadata": {},
   "outputs": [],
   "source": [
    "bucket_dups_selected = []\n",
    "for bucket in selected_buckets:\n",
    "    bucket_dups_selected += [(bug_id, bucket) for bug_id in retrieval.buckets[bucket]]"
   ]
  },
  {
   "cell_type": "markdown",
   "metadata": {},
   "source": [
    "### Model trained with 1 epoch"
   ]
  },
  {
   "cell_type": "code",
   "execution_count": 237,
   "metadata": {},
   "outputs": [],
   "source": [
    "bucket_labels_1epoch, test_features_1epoch, categories_1epoch = create_tsne_vector(model_1_epoch)"
   ]
  },
  {
   "cell_type": "markdown",
   "metadata": {},
   "source": [
    "### Select random buckets"
   ]
  },
  {
   "cell_type": "code",
   "execution_count": 238,
   "metadata": {},
   "outputs": [],
   "source": [
    "bucket_labels, test_features, categories = create_tsne_vector(model)"
   ]
  },
  {
   "cell_type": "markdown",
   "metadata": {},
   "source": [
    "### Visualizing bucket space\n",
    "\n",
    "Plota um conjunto de duplicados pintando o mestre de uma cor e os seus duplicados de outra"
   ]
  },
  {
   "cell_type": "markdown",
   "metadata": {},
   "source": [
    "### 1 epoch"
   ]
  },
  {
   "cell_type": "code",
   "execution_count": 239,
   "metadata": {},
   "outputs": [
    {
     "data": {
      "text/plain": [
       "((98, 900), 98, 5)"
      ]
     },
     "execution_count": 239,
     "metadata": {},
     "output_type": "execute_result"
    }
   ],
   "source": [
    "test_features_1epoch.shape, len(categories_1epoch), len(bucket_labels_1epoch)"
   ]
  },
  {
   "cell_type": "code",
   "execution_count": 240,
   "metadata": {},
   "outputs": [
    {
     "data": {
      "image/png": "[encoded data removed]",
      "text/plain": [
       "<Figure size 720x720 with 1 Axes>"
      ]
     },
     "metadata": {
      "needs_background": "light"
     },
     "output_type": "display_data"
    }
   ],
   "source": [
    "tsne_features_1epoch = create_features(test_features_1epoch)\n",
    "\n",
    "colors = plot_2d(categories_1epoch, tsne_features_1epoch, bucket_labels_1epoch)"
   ]
  },
  {
   "cell_type": "markdown",
   "metadata": {},
   "source": [
    "### 100 epochs"
   ]
  },
  {
   "cell_type": "code",
   "execution_count": 241,
   "metadata": {
    "scrolled": false
   },
   "outputs": [
    {
     "data": {
      "text/plain": [
       "((98, 900), 98, 5)"
      ]
     },
     "execution_count": 241,
     "metadata": {},
     "output_type": "execute_result"
    }
   ],
   "source": [
    "test_features.shape, len(categories), len(bucket_labels)"
   ]
  },
  {
   "cell_type": "code",
   "execution_count": 242,
   "metadata": {
    "scrolled": false
   },
   "outputs": [
    {
     "data": {
      "image/png": "[encoded data removed]",
      "text/plain": [
       "<Figure size 720x720 with 1 Axes>"
      ]
     },
     "metadata": {
      "needs_background": "light"
     },
     "output_type": "display_data"
    }
   ],
   "source": [
    "tsne_features = create_features(test_features)\n",
    "\n",
    "_ = plot_2d(categories, tsne_features, bucket_labels, colors)"
   ]
  }
 ],
 "metadata": {
  "kernelspec": {
   "display_name": "Python 3",
   "language": "python",
   "name": "python3"
  },
  "language_info": {
   "codemirror_mode": {
    "name": "ipython",
    "version": 3
   },
   "file_extension": ".py",
   "mimetype": "text/x-python",
   "name": "python",
   "nbconvert_exporter": "python",
   "pygments_lexer": "ipython3",
   "version": "3.5.2"
  }
 },
 "nbformat": 4,
 "nbformat_minor": 2
}
