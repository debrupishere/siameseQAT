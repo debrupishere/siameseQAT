{
 "cells": [
  {
   "cell_type": "markdown",
   "metadata": {},
   "source": [
    "### Ploting buckets after training"
   ]
  },
  {
   "cell_type": "code",
   "execution_count": 1,
   "metadata": {},
   "outputs": [
    {
     "name": "stderr",
     "output_type": "stream",
     "text": [
      "Using TensorFlow backend.\n"
     ]
    }
   ],
   "source": [
    "import re\n",
    "import numpy as np\n",
    "import pandas as pd\n",
    "\n",
    "import os\n",
    "from tqdm import tqdm_notebook as tqdm\n",
    "import matplotlib.pyplot as plt\n",
    "import sys\n",
    "from annoy import AnnoyIndex\n",
    "nb_dir = os.path.split(os.getcwd())[0]\n",
    "if nb_dir not in sys.path:\n",
    "    sys.path.append(nb_dir)\n",
    "\n",
    "import seaborn as sns\n",
    "\n",
    "from keras.layers import Concatenate, Add, Lambda, merge, Average\n",
    "\n",
    "%matplotlib inline"
   ]
  },
  {
   "cell_type": "code",
   "execution_count": 2,
   "metadata": {},
   "outputs": [],
   "source": [
    "from methods.baseline import Baseline\n",
    "from methods.experiments import Experiment\n",
    "from methods.evaluation import Evaluation\n",
    "from methods.retrieval import Retrieval"
   ]
  },
  {
   "cell_type": "code",
   "execution_count": 3,
   "metadata": {},
   "outputs": [],
   "source": [
    "MAX_SEQUENCE_LENGTH_T = 20 # 100\n",
    "MAX_SEQUENCE_LENGTH_D = 20 # 500\n",
    "EMBEDDING_DIM = 300\n",
    "MAX_NB_WORDS = 20000"
   ]
  },
  {
   "cell_type": "code",
   "execution_count": 4,
   "metadata": {},
   "outputs": [],
   "source": [
    "# Domain to use\n",
    "DOMAIN = 'eclipse'\n",
    "'''\n",
    "    deepQL_topics_\n",
    "    deepTL_\n",
    "    baseline_\n",
    "'''\n",
    "METHOD = 'baseline_'\n",
    "EMBEDDING_METHOD = 'keras'\n",
    "PREPROCESSING = 'bert'\n",
    "# Dataset paths\n",
    "DIR = 'data/processed/{}/{}'.format(DOMAIN, PREPROCESSING)\n",
    "DIR_PAIRS = 'data/normalized/{}'.format(DOMAIN)\n",
    "DATASET = os.path.join('data/normalized/{}'.format(DOMAIN), '{}.csv'.format(DOMAIN))\n",
    "# Glove embeddings\n",
    "GLOVE_DIR='data/embed'\n",
    "# Save model\n",
    "SAVE_PATH = '{}@number_of_epochs@_feature@number_of_epochs@epochs_64batch({})'.format(METHOD, DOMAIN)\n",
    "SAVE_PATH_FEATURE_1_EPOCH = '{}_preprocessing_{}1_feature_1epochs_64batch({})'.format(PREPROCESSING, METHOD,  DOMAIN)\n",
    "SAVE_PATH_FEATURE = '{}_preprocessing_{}@number_of_epochs@_feature_@number_of_epochs@epochs_64batch({})'.format(PREPROCESSING, METHOD, DOMAIN)\n",
    "\n",
    "# Extract CORPUs\n",
    "EXTRACT_CORPUS = False"
   ]
  },
  {
   "cell_type": "code",
   "execution_count": 5,
   "metadata": {},
   "outputs": [],
   "source": [
    "import os\n",
    "\n",
    "pretrained_path = 'uncased_L-12_H-768_A-12'\n",
    "config_path = os.path.join(pretrained_path, 'bert_config.json')\n",
    "model_path = os.path.join(pretrained_path, 'bert_model.ckpt')\n",
    "vocab_path = os.path.join(pretrained_path, 'vocab.txt')"
   ]
  },
  {
   "cell_type": "code",
   "execution_count": 6,
   "metadata": {},
   "outputs": [],
   "source": [
    "from keras_bert import load_vocabulary\n",
    "\n",
    "token_dict = load_vocabulary(vocab_path)"
   ]
  },
  {
   "cell_type": "code",
   "execution_count": 7,
   "metadata": {},
   "outputs": [
    {
     "data": {
      "text/plain": [
       "'Total vocabulary: 30522'"
      ]
     },
     "execution_count": 7,
     "metadata": {},
     "output_type": "execute_result"
    }
   ],
   "source": [
    "\"Total vocabulary: {}\".format(len(token_dict))"
   ]
  },
  {
   "cell_type": "code",
   "execution_count": 8,
   "metadata": {},
   "outputs": [],
   "source": [
    "baseline = Baseline(DOMAIN, DIR, DATASET, MAX_SEQUENCE_LENGTH_T, MAX_SEQUENCE_LENGTH_D, token_dict['[CLS]'], token_dict['[SEP]'])\n",
    "evaluation = Evaluation(verbose=0)\n",
    "retrieval = Retrieval()\n",
    "experiment = Experiment(baseline, evaluation)"
   ]
  },
  {
   "cell_type": "code",
   "execution_count": 9,
   "metadata": {},
   "outputs": [],
   "source": [
    "experiment.set_retrieval(retrieval, baseline, DOMAIN)"
   ]
  },
  {
   "cell_type": "code",
   "execution_count": 10,
   "metadata": {},
   "outputs": [
    {
     "name": "stdout",
     "output_type": "stream",
     "text": [
      "Reading bug ids\n"
     ]
    },
    {
     "data": {
      "text/plain": [
       "361006"
      ]
     },
     "execution_count": 10,
     "metadata": {},
     "output_type": "execute_result"
    }
   ],
   "source": [
    "experiment.load_ids()\n",
    "len(baseline.bug_ids)"
   ]
  },
  {
   "cell_type": "code",
   "execution_count": 11,
   "metadata": {
    "scrolled": true
   },
   "outputs": [
    {
     "data": {
      "application/vnd.jupyter.widget-view+json": {
       "model_id": "f42c9e8c50dd4d99b1a9b706a8624373",
       "version_major": 2,
       "version_minor": 0
      },
      "text/plain": [
       "HBox(children=(IntProgress(value=0, max=361006), HTML(value='')))"
      ]
     },
     "metadata": {},
     "output_type": "display_data"
    },
    {
     "name": "stdout",
     "output_type": "stream",
     "text": [
      "\n"
     ]
    },
    {
     "data": {
      "application/vnd.jupyter.widget-view+json": {
       "model_id": "e012412f442a43b6a1c784d1d4efbe87",
       "version_major": 2,
       "version_minor": 0
      },
      "text/plain": [
       "HBox(children=(IntProgress(value=1, bar_style='info', max=1), HTML(value='')))"
      ]
     },
     "metadata": {},
     "output_type": "display_data"
    },
    {
     "name": "stdout",
     "output_type": "stream",
     "text": [
      "\n",
      "CPU times: user 1min 6s, sys: 4.76 s, total: 1min 11s\n",
      "Wall time: 1min 17s\n"
     ]
    }
   ],
   "source": [
    "%%time\n",
    "\n",
    "experiment.load_bugs()\n",
    "len(baseline.sentence_dict)"
   ]
  },
  {
   "cell_type": "code",
   "execution_count": 12,
   "metadata": {},
   "outputs": [
    {
     "data": {
      "application/vnd.jupyter.widget-view+json": {
       "model_id": "6de9fbb45cb344908ed869d7ff83ad40",
       "version_major": 2,
       "version_minor": 0
      },
      "text/plain": [
       "HBox(children=(IntProgress(value=0, max=361006), HTML(value='')))"
      ]
     },
     "metadata": {},
     "output_type": "display_data"
    },
    {
     "name": "stdout",
     "output_type": "stream",
     "text": [
      "\n"
     ]
    }
   ],
   "source": [
    "issues_by_buckets = experiment.get_buckets_for_bugs()"
   ]
  },
  {
   "cell_type": "code",
   "execution_count": 13,
   "metadata": {},
   "outputs": [
    {
     "name": "stdout",
     "output_type": "stream",
     "text": [
      "CPU times: user 5.17 s, sys: 76.3 ms, total: 5.25 s\n",
      "Wall time: 5.49 s\n"
     ]
    }
   ],
   "source": [
    "%%time\n",
    "\n",
    "experiment.prepare_dataset(issues_by_buckets, path_train='train_chronological', path_test='test_chronological')\n",
    "# Read and create the test queries duplicates\n",
    "experiment.set_retrieval(retrieval, baseline, DOMAIN)"
   ]
  },
  {
   "cell_type": "code",
   "execution_count": 14,
   "metadata": {},
   "outputs": [],
   "source": [
    "bug_train_ids = experiment.get_train_ids(baseline.train_data)"
   ]
  },
  {
   "cell_type": "code",
   "execution_count": 15,
   "metadata": {},
   "outputs": [],
   "source": [
    "from sklearn.manifold import TSNE\n",
    "import random\n",
    "\n",
    "def plot_2d(test_labels, tsne_features, categories, colors=None, name=''):\n",
    "    test_labels = np.asarray(test_labels)\n",
    "#     test_labels = np.sort(test_labels)\n",
    "    if colors is None:\n",
    "        colors = [(random.uniform(.25, .75), random.uniform(.5, .75), random.uniform(.5, .75)) for i in enumerate(test_labels)]\n",
    "    plt.figure(figsize=(10, 10))\n",
    "    categories = np.asarray(categories)\n",
    "    ind = categories.argsort()[::-1]\n",
    "    categories = categories[ind]\n",
    "    for c_color, c_label in zip(colors, categories):\n",
    "        plt.scatter(tsne_features[np.where(test_labels == c_label), 0],\n",
    "                    tsne_features[np.where(test_labels == c_label), 1],\n",
    "                    marker='o',\n",
    "                    color=c_color,\n",
    "                    linewidth='1',\n",
    "                    alpha=0.9,\n",
    "                    label=c_label)\n",
    "    plt.xlabel('Dimension 1')\n",
    "    plt.ylabel('Dimension 2')\n",
    "    plt.title('t-SNE on Buckets')\n",
    "    plt.legend(categories, loc='upper center', bbox_to_anchor=(0.5, -0.05), prop={'size': 22})\n",
    "    plt.savefig('resultados/{}.png'.format(name), bbox_inches=\"tight\")\n",
    "    plt.show(block=False)\n",
    "    if colors is not None:\n",
    "        return colors\n",
    "\n",
    "def create_features(x_test_features):\n",
    "#     tsne_obj = TSNE(n_components=2,\n",
    "#                             init='pca',\n",
    "#                             random_state=101,\n",
    "#                             method='barnes_hut',\n",
    "#                             n_iter=500,\n",
    "#                             verbose=0)\n",
    "    tsne_obj = TSNE(n_components=2, verbose=1, perplexity=40, n_iter=300)\n",
    "    tsne_features = tsne_obj.fit_transform(x_test_features)\n",
    "    return tsne_features"
   ]
  },
  {
   "cell_type": "markdown",
   "metadata": {},
   "source": [
    "### Model 1000"
   ]
  },
  {
   "cell_type": "code",
   "execution_count": 16,
   "metadata": {},
   "outputs": [
    {
     "data": {
      "text/plain": [
       "'modelos/model_bert_preprocessing_baseline_1000_feature_1000epochs_64batch(eclipse).h5'"
      ]
     },
     "execution_count": 16,
     "metadata": {},
     "output_type": "execute_result"
    }
   ],
   "source": [
    "'modelos/model_' + SAVE_PATH_FEATURE.replace('@number_of_epochs@', '1000') + '.h5'"
   ]
  },
  {
   "cell_type": "code",
   "execution_count": 17,
   "metadata": {
    "scrolled": true
   },
   "outputs": [
    {
     "name": "stdout",
     "output_type": "stream",
     "text": [
      "WARNING:tensorflow:From /usr/local/lib/python3.5/dist-packages/keras/backend/tensorflow_backend.py:517: The name tf.placeholder is deprecated. Please use tf.compat.v1.placeholder instead.\n",
      "\n",
      "WARNING:tensorflow:From /usr/local/lib/python3.5/dist-packages/keras/backend/tensorflow_backend.py:4138: The name tf.random_uniform is deprecated. Please use tf.random.uniform instead.\n",
      "\n",
      "WARNING:tensorflow:From /usr/local/lib/python3.5/dist-packages/keras/backend/tensorflow_backend.py:74: The name tf.get_default_graph is deprecated. Please use tf.compat.v1.get_default_graph instead.\n",
      "\n",
      "WARNING:tensorflow:From /usr/local/lib/python3.5/dist-packages/keras/backend/tensorflow_backend.py:3976: The name tf.nn.max_pool is deprecated. Please use tf.nn.max_pool2d instead.\n",
      "\n",
      "WARNING:tensorflow:From /usr/local/lib/python3.5/dist-packages/keras/backend/tensorflow_backend.py:174: The name tf.get_default_session is deprecated. Please use tf.compat.v1.get_default_session instead.\n",
      "\n",
      "WARNING:tensorflow:From /usr/local/lib/python3.5/dist-packages/keras/backend/tensorflow_backend.py:181: The name tf.ConfigProto is deprecated. Please use tf.compat.v1.ConfigProto instead.\n",
      "\n",
      "WARNING:tensorflow:From /usr/local/lib/python3.5/dist-packages/keras/backend/tensorflow_backend.py:186: The name tf.Session is deprecated. Please use tf.compat.v1.Session instead.\n",
      "\n",
      "WARNING:tensorflow:From /usr/local/lib/python3.5/dist-packages/keras/backend/tensorflow_backend.py:190: The name tf.global_variables is deprecated. Please use tf.compat.v1.global_variables instead.\n",
      "\n",
      "WARNING:tensorflow:From /usr/local/lib/python3.5/dist-packages/keras/backend/tensorflow_backend.py:199: The name tf.is_variable_initialized is deprecated. Please use tf.compat.v1.is_variable_initialized instead.\n",
      "\n",
      "WARNING:tensorflow:From /usr/local/lib/python3.5/dist-packages/keras/backend/tensorflow_backend.py:206: The name tf.variables_initializer is deprecated. Please use tf.compat.v1.variables_initializer instead.\n",
      "\n"
     ]
    },
    {
     "name": "stderr",
     "output_type": "stream",
     "text": [
      "/usr/local/lib/python3.5/dist-packages/keras/engine/saving.py:292: UserWarning: No training configuration found in save file: the model was *not* compiled. Compile it manually.\n",
      "  warnings.warn('No training configuration found in save file: '\n"
     ]
    }
   ],
   "source": [
    "import os\n",
    "from keras.models import load_model\n",
    "import keras.backend as K\n",
    "from keras_bert import get_custom_objects\n",
    "\n",
    "os.environ['CUDA_VISIBLE_DEVICES'] = '-1'\n",
    "model = load_model('modelos/model_' + SAVE_PATH_FEATURE.replace('@number_of_epochs@', '1000') + '.h5', custom_objects=get_custom_objects())"
   ]
  },
  {
   "cell_type": "markdown",
   "metadata": {},
   "source": [
    "### Model 1"
   ]
  },
  {
   "cell_type": "code",
   "execution_count": 18,
   "metadata": {},
   "outputs": [
    {
     "data": {
      "text/plain": [
       "'modelos/model_bert_preprocessing_baseline_1_feature_1epochs_64batch(eclipse).h5'"
      ]
     },
     "execution_count": 18,
     "metadata": {},
     "output_type": "execute_result"
    }
   ],
   "source": [
    "'modelos/model_' + SAVE_PATH_FEATURE_1_EPOCH + '.h5'"
   ]
  },
  {
   "cell_type": "code",
   "execution_count": 19,
   "metadata": {},
   "outputs": [
    {
     "name": "stderr",
     "output_type": "stream",
     "text": [
      "/usr/local/lib/python3.5/dist-packages/keras/engine/saving.py:292: UserWarning: No training configuration found in save file: the model was *not* compiled. Compile it manually.\n",
      "  warnings.warn('No training configuration found in save file: '\n"
     ]
    }
   ],
   "source": [
    "model_1_epoch = load_model('modelos/model_' + SAVE_PATH_FEATURE_1_EPOCH + '.h5', custom_objects=get_custom_objects())"
   ]
  },
  {
   "cell_type": "code",
   "execution_count": 20,
   "metadata": {},
   "outputs": [],
   "source": [
    "buckets_2_dups = [bucket for bucket in retrieval.buckets if len(retrieval.buckets[bucket]) == 2]\n",
    "buckets_biggest_2_dups = [bucket for bucket in retrieval.buckets if len(retrieval.buckets[bucket]) > 2]\n",
    "buckets_3_dups = [bucket for bucket in retrieval.buckets if len(retrieval.buckets[bucket]) == 3]\n",
    "buckets_5_dups = [bucket for bucket in retrieval.buckets if len(retrieval.buckets[bucket]) == 5]\n",
    "buckets_between_5_and_10_dups = [bucket for bucket in retrieval.buckets if len(retrieval.buckets[bucket]) > 5 and len(retrieval.buckets[bucket]) <= 10]\n",
    "buckets_biggest_10_dups = [bucket for bucket in retrieval.buckets if len(retrieval.buckets[bucket]) > 10]"
   ]
  },
  {
   "cell_type": "code",
   "execution_count": 21,
   "metadata": {
    "scrolled": false
   },
   "outputs": [
    {
     "data": {
      "text/plain": [
       "(28834, 35102, 11592, 3185, 5683, 2850)"
      ]
     },
     "execution_count": 21,
     "metadata": {},
     "output_type": "execute_result"
    }
   ],
   "source": [
    "len(buckets_biggest_2_dups), len(buckets_2_dups), len(buckets_3_dups), len(buckets_5_dups), len(buckets_between_5_and_10_dups), len(buckets_biggest_10_dups)"
   ]
  },
  {
   "cell_type": "code",
   "execution_count": 22,
   "metadata": {},
   "outputs": [],
   "source": [
    "import numpy as np\n",
    "from keras import layers\n",
    "\n",
    "def create_tsne_vector(model, method='bert'):\n",
    "    test_features = []\n",
    "    title_data, title_data_seg, desc_data, desc_data_seg, info_data, topic_data = [], [], [], [], [], []\n",
    "    categories = []\n",
    "    bucket_labels = set()\n",
    "    \n",
    "    config = model.get_config()\n",
    "    if method == 'keras':\n",
    "        max_vocab = config['layers'][4]['config']['layers'][1]['config']['input_dim']\n",
    "    if method == 'dwen':\n",
    "        max_vocab = 1\n",
    "\n",
    "    for row  in bucket_dups_selected:\n",
    "        bug_id, bucket_id = row\n",
    "        # bucket and dups\n",
    "        if bug_id not in baseline.bug_set: continue\n",
    "        if bug_id in retrieval.buckets:\n",
    "            label = 'duplicate_of_{}'.format(bucket_id)\n",
    "            categories.append(label)\n",
    "            bucket_labels.add(label)\n",
    "        else:\n",
    "            dup_label = 'duplicate_of_{}'.format(bucket_id)\n",
    "            categories.append(dup_label)\n",
    "            bucket_labels.add(dup_label)\n",
    "        bug = baseline.bug_set[bug_id]\n",
    "        \n",
    "        if method == 'keras' or method == 'dwen':\n",
    "            title_data.append([ max_vocab - 1 if v > max_vocab else v for v in bug['title_token']])\n",
    "        else:\n",
    "            title_data.append(bug['title_token'])\n",
    "        title_data_seg.append( [int(v > 0) for v in bug['title_token']] )\n",
    "        \n",
    "        if method == 'keras' or method == 'dwen':\n",
    "            desc_data.append([ max_vocab - 1 if v > max_vocab else v for v in bug['description_token']])\n",
    "        else:\n",
    "            desc_data.append(bug['description_token'])\n",
    "        desc_data_seg.append( [int(v > 0) for v in bug['description_token']] )\n",
    "        info_data.append(experiment.retrieval.get_info(bug))\n",
    "        if('topics' in bug):\n",
    "            topic_data.append(bug['topics'])\n",
    "    bucket_labels = list(bucket_labels)\n",
    "    \n",
    "    if method == 'keras':\n",
    "        test_features = model.predict([ np.array(title_data), np.array(desc_data), np.array(info_data) ])\n",
    "    if method == 'bert':\n",
    "        test_features = model.predict([ np.array(title_data), np.array(title_data_seg), \n",
    "                                   np.array(desc_data), np.array(desc_data_seg), \n",
    "                                   np.array(info_data) ])\n",
    "    elif method == 'bert-topic':\n",
    "        test_features = model.predict([ np.array(title_data), np.array(title_data_seg), \n",
    "                                   np.array(desc_data), np.array(desc_data_seg), \n",
    "                                   np.array(info_data), np.array(topic_data) ])\n",
    "    elif method == 'dwen':\n",
    "        test_features = model.predict([ np.array(title_data), np.array(desc_data) ])\n",
    "    \n",
    "    return bucket_labels, test_features, categories"
   ]
  },
  {
   "cell_type": "markdown",
   "metadata": {},
   "source": [
    "### Select random buckets"
   ]
  },
  {
   "cell_type": "code",
   "execution_count": 23,
   "metadata": {},
   "outputs": [],
   "source": [
    "# selected_buckets = [ 47708, 228156, 132573, 132662, 207563]\n",
    "# [226761, 211165,  60740, 172436, 160273]\n",
    "# [146677, 118038, 207060, 236101,  35870] - best\n",
    "# [ 47708, 228156, 132573, 132662, 207563] - best\n",
    "# selected_buckets = np.random.choice(buckets_biggest_10_dups, 5)\n",
    "if(DOMAIN == 'openoffice'):\n",
    "    # [119525, 1601, 37793, 103839, 16268]\n",
    "    # [  8695,  16832,  56298,  57154, 122962]\n",
    "    # [14818, 63708,  7182,  9966,  5767] bad to DeepTL\n",
    "    # [89649, 5684,  28471,  19477,  100934] good for DeepQL_topics\n",
    "    selected_buckets = [89649, 5684,  28471,  19477,  100934]\n",
    "elif(DOMAIN == 'netbeans'):\n",
    "    selected_buckets = [158328, 73960, 14803, 212061, 123467]\n",
    "elif(DOMAIN == 'eclipse'):\n",
    "    # [33419, 31790, 63825, 35846, 19128]\n",
    "    # [ 49170,  45216,  42804,   9509, 116401] bad to DeepTL and DeepQL\n",
    "    # good to DeepQL\n",
    "    # [157282,  66298,  44798, 301724,  99245]\n",
    "    # bad to DeepTl\n",
    "    # [240875,  23302, 127290,  94029, 108976]\n",
    "    # good to deepTL\n",
    "    # [106159, 211868, 293881, 164259,  22883] \n",
    "    # [360214, 186520, 114434, 111044, 398480]\n",
    "    selected_buckets = [240875,  23302, 127290,  94029, 108976]"
   ]
  },
  {
   "cell_type": "code",
   "execution_count": 24,
   "metadata": {},
   "outputs": [],
   "source": [
    "# selected_buckets = np.random.choice(buckets_biggest_10_dups, 5)"
   ]
  },
  {
   "cell_type": "code",
   "execution_count": 25,
   "metadata": {},
   "outputs": [
    {
     "data": {
      "text/plain": [
       "'eclipse'"
      ]
     },
     "execution_count": 25,
     "metadata": {},
     "output_type": "execute_result"
    }
   ],
   "source": [
    "DOMAIN"
   ]
  },
  {
   "cell_type": "code",
   "execution_count": 26,
   "metadata": {
    "scrolled": true
   },
   "outputs": [
    {
     "data": {
      "text/plain": [
       "[240875, 23302, 127290, 94029, 108976]"
      ]
     },
     "execution_count": 26,
     "metadata": {},
     "output_type": "execute_result"
    }
   ],
   "source": [
    "selected_buckets"
   ]
  },
  {
   "cell_type": "markdown",
   "metadata": {},
   "source": [
    "### Eclipse\n",
    "#### [ 34940,   6749, 264112,  19771,  63692]"
   ]
  },
  {
   "cell_type": "markdown",
   "metadata": {},
   "source": [
    "### NetBeans\n",
    "#### [158328,  73960,  14803, 212061, 123467]"
   ]
  },
  {
   "cell_type": "markdown",
   "metadata": {},
   "source": [
    "### Open Office\n",
    "\n",
    "##### [119525,   1601,  37793, 103839,  16268]"
   ]
  },
  {
   "cell_type": "code",
   "execution_count": 27,
   "metadata": {
    "scrolled": true
   },
   "outputs": [
    {
     "data": {
      "text/plain": [
       "[240875, 23302, 127290, 94029, 108976]"
      ]
     },
     "execution_count": 27,
     "metadata": {},
     "output_type": "execute_result"
    }
   ],
   "source": [
    "selected_buckets"
   ]
  },
  {
   "cell_type": "code",
   "execution_count": 28,
   "metadata": {},
   "outputs": [],
   "source": [
    "bucket_dups_selected = []\n",
    "for bucket in selected_buckets:\n",
    "    bucket_dups_selected += [(bug_id, bucket) for bug_id in retrieval.buckets[bucket]]"
   ]
  },
  {
   "cell_type": "markdown",
   "metadata": {},
   "source": [
    "### Model trained with 1 epoch"
   ]
  },
  {
   "cell_type": "code",
   "execution_count": 29,
   "metadata": {},
   "outputs": [],
   "source": [
    "bucket_labels_1epoch, test_features_1epoch, categories_1epoch = create_tsne_vector(model_1_epoch, method=EMBEDDING_METHOD)"
   ]
  },
  {
   "cell_type": "markdown",
   "metadata": {},
   "source": [
    "### Select random buckets"
   ]
  },
  {
   "cell_type": "code",
   "execution_count": 30,
   "metadata": {},
   "outputs": [],
   "source": [
    "bucket_labels, test_features, categories = create_tsne_vector(model, method=EMBEDDING_METHOD)"
   ]
  },
  {
   "cell_type": "markdown",
   "metadata": {},
   "source": [
    "### Visualizing bucket space\n",
    "\n",
    "Plota um conjunto de duplicados pintando o mestre de uma cor e os seus duplicados de outra"
   ]
  },
  {
   "cell_type": "code",
   "execution_count": 31,
   "metadata": {},
   "outputs": [],
   "source": [
    "# colors = [(0.9, 0, 0), (0, 0.9, 0), (0, 0, 0.9), (0.99, 0.9, 0), (0.9, 0.4, 0)]\n",
    "colors = sns.color_palette(\"Set1\", n_colors=len(selected_buckets)) "
   ]
  },
  {
   "cell_type": "markdown",
   "metadata": {},
   "source": [
    "### 1 epoch"
   ]
  },
  {
   "cell_type": "code",
   "execution_count": 32,
   "metadata": {},
   "outputs": [
    {
     "data": {
      "text/plain": [
       "['duplicate_of_94029',\n",
       " 'duplicate_of_23302',\n",
       " 'duplicate_of_240875',\n",
       " 'duplicate_of_108976',\n",
       " 'duplicate_of_127290']"
      ]
     },
     "execution_count": 32,
     "metadata": {},
     "output_type": "execute_result"
    }
   ],
   "source": [
    "bucket_labels_1epoch"
   ]
  },
  {
   "cell_type": "code",
   "execution_count": 33,
   "metadata": {},
   "outputs": [
    {
     "data": {
      "text/plain": [
       "((82, 900), 82, 5)"
      ]
     },
     "execution_count": 33,
     "metadata": {},
     "output_type": "execute_result"
    }
   ],
   "source": [
    "test_features_1epoch.shape, len(categories_1epoch), len(bucket_labels_1epoch)"
   ]
  },
  {
   "cell_type": "code",
   "execution_count": 34,
   "metadata": {
    "scrolled": false
   },
   "outputs": [
    {
     "name": "stdout",
     "output_type": "stream",
     "text": [
      "[t-SNE] Computing 81 nearest neighbors...\n",
      "[t-SNE] Indexed 82 samples in 0.000s...\n",
      "[t-SNE] Computed neighbors for 82 samples in 0.001s...\n",
      "[t-SNE] Computed conditional probabilities for sample 82 / 82\n",
      "[t-SNE] Mean sigma: 1.008167\n",
      "[t-SNE] KL divergence after 250 iterations with early exaggeration: 49.851749\n",
      "[t-SNE] Error after 300 iterations: 0.666887\n"
     ]
    },
    {
     "data": {
      "image/png": "[encoded data removed]",
      "text/plain": [
       "<Figure size 720x720 with 1 Axes>"
      ]
     },
     "metadata": {
      "needs_background": "light"
     },
     "output_type": "display_data"
    }
   ],
   "source": [
    "tsne_features_1epoch = create_features(test_features_1epoch)\n",
    "\n",
    "colors = plot_2d(categories_1epoch, tsne_features_1epoch, bucket_labels_1epoch, colors=colors, name='buckets_{}_{}1_epoch.png'.format(DOMAIN, METHOD))"
   ]
  },
  {
   "cell_type": "markdown",
   "metadata": {},
   "source": [
    "### 1000 epochs"
   ]
  },
  {
   "cell_type": "code",
   "execution_count": 35,
   "metadata": {
    "scrolled": false
   },
   "outputs": [
    {
     "data": {
      "text/plain": [
       "((82, 900), 82, 5)"
      ]
     },
     "execution_count": 35,
     "metadata": {},
     "output_type": "execute_result"
    }
   ],
   "source": [
    "test_features.shape, len(categories), len(bucket_labels)"
   ]
  },
  {
   "cell_type": "code",
   "execution_count": 36,
   "metadata": {
    "scrolled": false
   },
   "outputs": [
    {
     "name": "stdout",
     "output_type": "stream",
     "text": [
      "[t-SNE] Computing 81 nearest neighbors...\n",
      "[t-SNE] Indexed 82 samples in 0.000s...\n",
      "[t-SNE] Computed neighbors for 82 samples in 0.001s...\n",
      "[t-SNE] Computed conditional probabilities for sample 82 / 82\n",
      "[t-SNE] Mean sigma: 2.789657\n",
      "[t-SNE] KL divergence after 250 iterations with early exaggeration: 50.836201\n",
      "[t-SNE] Error after 300 iterations: 0.660059\n"
     ]
    },
    {
     "data": {
      "image/png": "[encoded data removed]",
      "text/plain": [
       "<Figure size 720x720 with 1 Axes>"
      ]
     },
     "metadata": {
      "needs_background": "light"
     },
     "output_type": "display_data"
    }
   ],
   "source": [
    "tsne_features = create_features(test_features)\n",
    "\n",
    "_ = plot_2d(categories, tsne_features, bucket_labels, colors=colors, name='buckets_{}_{}1000_epoch.png'.format(DOMAIN, METHOD))"
   ]
  },
  {
   "cell_type": "markdown",
   "metadata": {},
   "source": [
    "## Topic latent space"
   ]
  },
  {
   "cell_type": "code",
   "execution_count": 37,
   "metadata": {},
   "outputs": [],
   "source": [
    "if('deepQL_topics' in METHOD):\n",
    "    topic_size = K.int_shape(model_1_epoch.get_layer('topics_in').output)[1]\n",
    "    print(\"Total of topics \", topic_size)"
   ]
  },
  {
   "cell_type": "code",
   "execution_count": 38,
   "metadata": {
    "scrolled": true
   },
   "outputs": [
    {
     "name": "stdout",
     "output_type": "stream",
     "text": [
      "Total of bugs 361006\n"
     ]
    }
   ],
   "source": [
    "bugs = experiment.baseline.get_bug_set()\n",
    "print(\"Total of bugs\", len(bugs))"
   ]
  },
  {
   "cell_type": "markdown",
   "metadata": {},
   "source": [
    "#### Group bugs by topics"
   ]
  },
  {
   "cell_type": "code",
   "execution_count": 39,
   "metadata": {},
   "outputs": [],
   "source": [
    "if('deepQL_topics' in METHOD):\n",
    "    bugs_by_topic = dict( (t, []) for t in range(topic_size) )\n",
    "    for bug_id in bugs:\n",
    "        bug = bugs[bug_id]\n",
    "        bugs_by_topic[bug['topic']].append(bug_id)\n",
    "    print(\"Topics {}\".format(len(bugs_by_topic)))"
   ]
  },
  {
   "cell_type": "markdown",
   "metadata": {},
   "source": [
    "#### Selecting random bugs for each topic"
   ]
  },
  {
   "cell_type": "code",
   "execution_count": 40,
   "metadata": {},
   "outputs": [],
   "source": [
    "bugs_topics_selected = []\n",
    "if('deepQL_topics' in METHOD):\n",
    "    number_of_bugs_select = 50\n",
    "    for t in range(topic_size):\n",
    "        sample = np.random.choice(bugs_by_topic[t], number_of_bugs_select)\n",
    "        sample_labeled = [ (bug_id, bugs[bug_id]['topic']) for bug_id in sample ]\n",
    "        bugs_topics_selected += sample_labeled"
   ]
  },
  {
   "cell_type": "code",
   "execution_count": 41,
   "metadata": {},
   "outputs": [],
   "source": [
    "def create_tsne_vector_bert_topics(model, method='bert'):\n",
    "    test_features = []\n",
    "    title_data, title_data_seg, desc_data, desc_data_seg, info_data, topic_data = [], [], [], [], [], []\n",
    "    categories = []\n",
    "    topic_labels = set()\n",
    "\n",
    "    for row  in bugs_topics_selected:\n",
    "        bug_id, topic = row\n",
    "        # bucket and dups\n",
    "        if bug_id in retrieval.buckets:\n",
    "            label = 'topic_{}'.format(topic)\n",
    "            categories.append(label)\n",
    "            topic_labels.add(topic)\n",
    "\n",
    "        bug = baseline.bug_set[bug_id]\n",
    "        \n",
    "        title_data.append(bug['title_token'])    \n",
    "        title_data_seg.append( [int(v > 0) for v in bug['title_token']] )\n",
    "        desc_data.append(bug['description_token'])\n",
    "        desc_data_seg.append( [int(v > 0) for v in bug['description_token']] )\n",
    "        info_data.append(experiment.retrieval.get_info(bug))\n",
    "        if('topics' in bug):\n",
    "            topic_data.append(bug['topics'])\n",
    "    topic_labels = [ \"topic_{}\".format(l) for l in list(topic_labels) ]\n",
    "    \n",
    "    test_features = model.predict([ np.array(title_data), np.array(title_data_seg), \n",
    "                                   np.array(desc_data), np.array(desc_data_seg), \n",
    "                                   np.array(info_data), np.array(topic_data) ])\n",
    "    \n",
    "    return topic_labels, test_features, categories"
   ]
  },
  {
   "cell_type": "code",
   "execution_count": 42,
   "metadata": {},
   "outputs": [],
   "source": [
    "def create_tsne_vector_bert(model, feat='title', method='bert'):\n",
    "    test_features = []\n",
    "    title_data, title_data_seg, desc_data, desc_data_seg, info_data, topic_data = [], [], [], [], [], []\n",
    "    categories = []\n",
    "    topic_labels = set()\n",
    "\n",
    "    for row  in bugs_topics_selected:\n",
    "        bug_id, topic = row\n",
    "        # bucket and dups\n",
    "        if bug_id in retrieval.buckets:\n",
    "            label = 'topic_{}'.format(topic)\n",
    "            categories.append(label)\n",
    "            topic_labels.add(topic)\n",
    "\n",
    "        bug = baseline.bug_set[bug_id]\n",
    "        \n",
    "        title_data.append(bug['title_token'])    \n",
    "        title_data_seg.append( [int(v > 0) for v in bug['title_token']] )\n",
    "        desc_data.append(bug['description_token'])\n",
    "        desc_data_seg.append( [int(v > 0) for v in bug['description_token']] )\n",
    "        \n",
    "    topic_labels = [ \"topic_{}\".format(l) for l in list(topic_labels) ]\n",
    "    \n",
    "    if(feat == 'title'):\n",
    "        test_features = model.predict([ np.array(title_data), np.array(title_data_seg) ])\n",
    "    else:\n",
    "        test_features = model.predict([ np.array(desc_data), np.array(desc_data_seg) ])\n",
    "    \n",
    "    return topic_labels, test_features, categories"
   ]
  },
  {
   "cell_type": "code",
   "execution_count": 43,
   "metadata": {},
   "outputs": [],
   "source": [
    "def create_tsne_vector_topics(model, method='bert'):\n",
    "    test_features = []\n",
    "    title_data, title_data_seg, desc_data, desc_data_seg, info_data, topic_data = [], [], [], [], [], []\n",
    "    categories = []\n",
    "    topic_labels = set()\n",
    "\n",
    "    for row  in bugs_topics_selected:\n",
    "        bug_id, topic = row\n",
    "        # bucket and dups\n",
    "        if bug_id in retrieval.buckets:\n",
    "            label = 'topic_{}'.format(topic)\n",
    "            categories.append(label)\n",
    "            topic_labels.add(topic)\n",
    "\n",
    "        bug = baseline.bug_set[bug_id]\n",
    "        \n",
    "        if('topics' in bug):\n",
    "            topic_data.append(bug['topics'])\n",
    "    topic_labels = [ \"topic_{}\".format(l) for l in list(topic_labels) ]\n",
    "    \n",
    "\n",
    "    test_features = model.predict([ topic_data ])\n",
    "    \n",
    "    return topic_labels, test_features, categories"
   ]
  },
  {
   "cell_type": "code",
   "execution_count": 44,
   "metadata": {},
   "outputs": [],
   "source": [
    "if('deepQL_topics' in METHOD):\n",
    "    colors_topics = sns.color_palette(\"hls\", n_colors=topic_size) "
   ]
  },
  {
   "cell_type": "markdown",
   "metadata": {},
   "source": [
    "### Topics (LDA)"
   ]
  },
  {
   "cell_type": "code",
   "execution_count": 45,
   "metadata": {},
   "outputs": [
    {
     "name": "stdout",
     "output_type": "stream",
     "text": [
      "__________________________________________________________________________________________________\n",
      "Layer (type)                    Output Shape         Param #     Connected to                     \n",
      "==================================================================================================\n",
      "info_in (InputLayer)            (None, 1682)         0                                            \n",
      "__________________________________________________________________________________________________\n",
      "title_in (InputLayer)           (None, 20)           0                                            \n",
      "__________________________________________________________________________________________________\n",
      "desc_in (InputLayer)            (None, 20)           0                                            \n",
      "__________________________________________________________________________________________________\n",
      "FeatureMlpGenerationModel (Mode (None, 300)          504900      info_in[0][0]                    \n",
      "__________________________________________________________________________________________________\n",
      "FeatureLstmGenerationModel (Mod (None, 300)          581804100   title_in[0][0]                   \n",
      "__________________________________________________________________________________________________\n",
      "FeatureCNNGenerationModel (Mode (None, 300)          581850792   desc_in[0][0]                    \n",
      "__________________________________________________________________________________________________\n",
      "merge_features_in (Concatenate) (None, 900)          0           FeatureMlpGenerationModel[1][0]  \n",
      "                                                                 FeatureLstmGenerationModel[1][0] \n",
      "                                                                 FeatureCNNGenerationModel[1][0]  \n",
      "==================================================================================================\n",
      "Total params: 1,164,159,792\n",
      "Trainable params: 958,392\n",
      "Non-trainable params: 1,163,201,400\n",
      "__________________________________________________________________________________________________\n"
     ]
    }
   ],
   "source": [
    "model.summary()"
   ]
  },
  {
   "cell_type": "code",
   "execution_count": 46,
   "metadata": {},
   "outputs": [],
   "source": [
    "if('deepQL_topics' in METHOD):\n",
    "    topic_model = model.get_layer('FeatureTopicMlpGenerationModel')\n",
    "    topic_labels, test_features, categories = create_tsne_vector_topics(topic_model, method=EMBEDDING_METHOD)\n",
    "\n",
    "    tsne_features = create_features(test_features)"
   ]
  },
  {
   "cell_type": "code",
   "execution_count": 47,
   "metadata": {},
   "outputs": [],
   "source": [
    "if('deepQL_topics' in METHOD):\n",
    "    colors = plot_2d(categories, tsne_features, topic_labels, \\\n",
    "                     colors=colors_topics, name='topics_{}_{}_1000_epoch.png'.format(DOMAIN, METHOD))"
   ]
  },
  {
   "cell_type": "markdown",
   "metadata": {},
   "source": [
    "### Topics for 1000 epochs BERT in Title"
   ]
  },
  {
   "cell_type": "code",
   "execution_count": 48,
   "metadata": {
    "scrolled": true
   },
   "outputs": [],
   "source": [
    "if('deepQL_topics' in METHOD):\n",
    "    bert_t_model = model.get_layer('FeatureBERTGenerationModelTitle')\n",
    "    topic_labels, test_features, categories = create_tsne_vector_bert(bert_t_model, feat='title', method=EMBEDDING_METHOD)\n",
    "\n",
    "    tsne_features = create_features(test_features)"
   ]
  },
  {
   "cell_type": "code",
   "execution_count": 49,
   "metadata": {},
   "outputs": [],
   "source": [
    "if('deepQL_topics' in METHOD):\n",
    "    colors = plot_2d(categories, tsne_features, topic_labels, \\\n",
    "deepQL_topics_colors=colors_topics, name='bert_title_{}_{}_1000_epoch.png'.format(DOMAIN, METHOD))"
   ]
  },
  {
   "cell_type": "markdown",
   "metadata": {},
   "source": [
    "### Topics for 1000 epochs BERT in Desc"
   ]
  },
  {
   "cell_type": "code",
   "execution_count": 50,
   "metadata": {},
   "outputs": [],
   "source": [
    "if('deepQL_topics' in METHOD):\n",
    "    bert_d_model = model.get_layer('FeatureBERTGenerationModelDescription')\n",
    "    topic_labels, test_features, categories = create_tsne_vector_bert(bert_d_model, feat='desc', method=EMBEDDING_METHOD)\n",
    "\n",
    "    tsne_features = create_features(test_features)"
   ]
  },
  {
   "cell_type": "code",
   "execution_count": 51,
   "metadata": {},
   "outputs": [],
   "source": [
    "if('deepQL_topics' in METHOD):\n",
    "    colors = plot_2d(categories, tsne_features, topic_labels, \\\n",
    "                     colors=colors_topics, name='bert_desc_{}_{}_1000_epoch.png'.format(DOMAIN, METHOD))"
   ]
  }
 ],
 "metadata": {
  "kernelspec": {
   "display_name": "Python 3",
   "language": "python",
   "name": "python3"
  },
  "language_info": {
   "codemirror_mode": {
    "name": "ipython",
    "version": 3
   },
   "file_extension": ".py",
   "mimetype": "text/x-python",
   "name": "python",
   "nbconvert_exporter": "python",
   "pygments_lexer": "ipython3",
   "version": "3.5.2"
  }
 },
 "nbformat": 4,
 "nbformat_minor": 2
}
