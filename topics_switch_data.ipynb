{
 "cells": [
  {
   "cell_type": "markdown",
   "metadata": {},
   "source": [
    "# Switch topics preprocessed\n",
    "\n",
    "- https://medium.com/@yanlinc/how-to-build-a-lda-topic-model-using-from-text-601cdcbfd3a6"
   ]
  },
  {
   "cell_type": "code",
   "execution_count": 1,
   "metadata": {},
   "outputs": [
    {
     "name": "stderr",
     "output_type": "stream",
     "text": [
      "Using TensorFlow backend.\n"
     ]
    }
   ],
   "source": [
    "# from __future__ import print_function, division\n",
    "import re\n",
    "import numpy as np\n",
    "import pandas as pd\n",
    "\n",
    "import os\n",
    "from tqdm import tqdm_notebook as tqdm\n",
    "import matplotlib.pyplot as plt\n",
    "import sys\n",
    "nb_dir = os.path.split(os.getcwd())[0]\n",
    "if nb_dir not in sys.path:\n",
    "    sys.path.append(nb_dir)\n",
    "\n",
    "from methods.baseline import Baseline\n",
    "from methods.experiments import Experiment\n",
    "from methods.evaluation import Evaluation\n",
    "from methods.retrieval import Retrieval\n",
    "\n",
    "import random\n",
    "\n",
    "import _pickle as pickle\n",
    "\n",
    "from keras_bert import Tokenizer\n",
    "from keras_bert import load_vocabulary\n",
    "\n",
    "import re, nltk, spacy, gensim\n",
    "# Sklearn\n",
    "from sklearn.decomposition import LatentDirichletAllocation, TruncatedSVD\n",
    "from sklearn.feature_extraction.text import CountVectorizer, TfidfVectorizer\n",
    "from sklearn.model_selection import GridSearchCV\n",
    "from pprint import pprint\n",
    "# Plotting tools\n",
    "import pyLDAvis\n",
    "import pyLDAvis.sklearn\n",
    "\n",
    "from sklearn.manifold import TSNE\n",
    "import time\n",
    "import seaborn as sns\n",
    "\n",
    "    \n",
    "# %matplotlib inline"
   ]
  },
  {
   "cell_type": "code",
   "execution_count": 2,
   "metadata": {},
   "outputs": [
    {
     "name": "stdout",
     "output_type": "stream",
     "text": [
      "env: base=openoffice\n"
     ]
    }
   ],
   "source": [
    "%env base openoffice"
   ]
  },
  {
   "cell_type": "code",
   "execution_count": 3,
   "metadata": {},
   "outputs": [
    {
     "name": "stdout",
     "output_type": "stream",
     "text": [
      "env: JOBLIB_TEMP_FOLDER=/hd/tmp\n"
     ]
    }
   ],
   "source": [
    "# https://stackoverflow.com/questions/40115043/no-space-left-on-device-error-while-fitting-sklearn-model\n",
    "%env JOBLIB_TEMP_FOLDER=/hd/tmp"
   ]
  },
  {
   "cell_type": "code",
   "execution_count": 4,
   "metadata": {},
   "outputs": [],
   "source": [
    "MAX_SEQUENCE_LENGTH_T = 20 # 100\n",
    "MAX_SEQUENCE_LENGTH_D = 20 # 500\n",
    "EMBEDDING_DIM = 300\n",
    "MAX_NB_WORDS = 20000\n",
    "SELECT_TOPICS = '30'"
   ]
  },
  {
   "cell_type": "code",
   "execution_count": 5,
   "metadata": {},
   "outputs": [],
   "source": [
    "# Domain to use\n",
    "DOMAIN = os.environ['base']\n",
    "PREPROCESSING = 'bert'\n",
    "TOKEN = 'bert'\n",
    "# Dataset paths\n",
    "DIR = 'data/processed/{}/{}'.format(DOMAIN, PREPROCESSING)\n",
    "DATASET = 'data/normalized/{}/{}.csv'.format(DOMAIN, DOMAIN)"
   ]
  },
  {
   "cell_type": "code",
   "execution_count": 6,
   "metadata": {},
   "outputs": [],
   "source": [
    "df = pd.read_csv(DATASET)"
   ]
  },
  {
   "cell_type": "code",
   "execution_count": 7,
   "metadata": {},
   "outputs": [
    {
     "data": {
      "text/html": [
       "<div>\n",
       "<style scoped>\n",
       "    .dataframe tbody tr th:only-of-type {\n",
       "        vertical-align: middle;\n",
       "    }\n",
       "\n",
       "    .dataframe tbody tr th {\n",
       "        vertical-align: top;\n",
       "    }\n",
       "\n",
       "    .dataframe thead th {\n",
       "        text-align: right;\n",
       "    }\n",
       "</style>\n",
       "<table border=\"1\" class=\"dataframe\">\n",
       "  <thead>\n",
       "    <tr style=\"text-align: right;\">\n",
       "      <th></th>\n",
       "      <th>bug_id</th>\n",
       "      <th>bug_severity</th>\n",
       "      <th>bug_status</th>\n",
       "      <th>component</th>\n",
       "      <th>creation_ts</th>\n",
       "      <th>delta_ts</th>\n",
       "      <th>description</th>\n",
       "      <th>dup_id</th>\n",
       "      <th>priority</th>\n",
       "      <th>product</th>\n",
       "      <th>resolution</th>\n",
       "      <th>short_desc</th>\n",
       "      <th>version</th>\n",
       "    </tr>\n",
       "  </thead>\n",
       "  <tbody>\n",
       "    <tr>\n",
       "      <th>0</th>\n",
       "      <td>14</td>\n",
       "      <td>trivial</td>\n",
       "      <td>CLOSED</td>\n",
       "      <td>Website general issues</td>\n",
       "      <td>2000-10-17 19:40:00 +0000</td>\n",
       "      <td>2006-02-07 22:23:55 +0000</td>\n",
       "      <td>it would be nice if the combination of OpenOff...</td>\n",
       "      <td>[]</td>\n",
       "      <td>P3</td>\n",
       "      <td>Infrastructure</td>\n",
       "      <td>FIXED</td>\n",
       "      <td>openoffice.org issuezillla URL's display a hor...</td>\n",
       "      <td>current</td>\n",
       "    </tr>\n",
       "    <tr>\n",
       "      <th>1</th>\n",
       "      <td>15</td>\n",
       "      <td>trivial</td>\n",
       "      <td>CLOSED</td>\n",
       "      <td>Bugzilla</td>\n",
       "      <td>2000-10-19 11:49:00 +0000</td>\n",
       "      <td>2003-12-27 10:23:17 +0000</td>\n",
       "      <td>this task is just a test\\nthis task is just at...</td>\n",
       "      <td>[]</td>\n",
       "      <td>P5</td>\n",
       "      <td>Infrastructure</td>\n",
       "      <td>FIXED</td>\n",
       "      <td>test task</td>\n",
       "      <td>current</td>\n",
       "    </tr>\n",
       "    <tr>\n",
       "      <th>2</th>\n",
       "      <td>16</td>\n",
       "      <td>trivial</td>\n",
       "      <td>CLOSED</td>\n",
       "      <td>_openoffice.org administrative interface (obso...</td>\n",
       "      <td>2000-10-20 15:06:00 +0000</td>\n",
       "      <td>2003-12-06 14:52:32 +0000</td>\n",
       "      <td>Using the ADMIN link on the main page leads to...</td>\n",
       "      <td>[]</td>\n",
       "      <td>P1</td>\n",
       "      <td>Infrastructure</td>\n",
       "      <td>FIXED</td>\n",
       "      <td>Administrative Interface not available</td>\n",
       "      <td>current</td>\n",
       "    </tr>\n",
       "    <tr>\n",
       "      <th>3</th>\n",
       "      <td>17</td>\n",
       "      <td>trivial</td>\n",
       "      <td>CLOSED</td>\n",
       "      <td>_openoffice.org CVS (obsolete)</td>\n",
       "      <td>2000-10-20 18:46:00 +0000</td>\n",
       "      <td>2003-12-06 14:52:32 +0000</td>\n",
       "      <td>Entered into Issuezilla for tracking purposes....</td>\n",
       "      <td>[]</td>\n",
       "      <td>P3</td>\n",
       "      <td>Infrastructure</td>\n",
       "      <td>FIXED</td>\n",
       "      <td>update modules file.</td>\n",
       "      <td>current</td>\n",
       "    </tr>\n",
       "    <tr>\n",
       "      <th>4</th>\n",
       "      <td>19</td>\n",
       "      <td>trivial</td>\n",
       "      <td>CLOSED</td>\n",
       "      <td>definition</td>\n",
       "      <td>2000-10-20 22:54:00 +0000</td>\n",
       "      <td>2007-09-22 22:15:55 +0000</td>\n",
       "      <td>&lt;text:quo-vadis&gt;&lt;/text:quo-vadis&gt;\\n   &lt;text:er...</td>\n",
       "      <td>[]</td>\n",
       "      <td>P2</td>\n",
       "      <td>xml</td>\n",
       "      <td>FIXED</td>\n",
       "      <td>text:quo-vadis, text:ergo-sum</td>\n",
       "      <td>605</td>\n",
       "    </tr>\n",
       "  </tbody>\n",
       "</table>\n",
       "</div>"
      ],
      "text/plain": [
       "   bug_id bug_severity bug_status  \\\n",
       "0      14      trivial     CLOSED   \n",
       "1      15      trivial     CLOSED   \n",
       "2      16      trivial     CLOSED   \n",
       "3      17      trivial     CLOSED   \n",
       "4      19      trivial     CLOSED   \n",
       "\n",
       "                                           component  \\\n",
       "0                             Website general issues   \n",
       "1                                           Bugzilla   \n",
       "2  _openoffice.org administrative interface (obso...   \n",
       "3                     _openoffice.org CVS (obsolete)   \n",
       "4                                         definition   \n",
       "\n",
       "                 creation_ts                   delta_ts  \\\n",
       "0  2000-10-17 19:40:00 +0000  2006-02-07 22:23:55 +0000   \n",
       "1  2000-10-19 11:49:00 +0000  2003-12-27 10:23:17 +0000   \n",
       "2  2000-10-20 15:06:00 +0000  2003-12-06 14:52:32 +0000   \n",
       "3  2000-10-20 18:46:00 +0000  2003-12-06 14:52:32 +0000   \n",
       "4  2000-10-20 22:54:00 +0000  2007-09-22 22:15:55 +0000   \n",
       "\n",
       "                                         description dup_id priority  \\\n",
       "0  it would be nice if the combination of OpenOff...     []       P3   \n",
       "1  this task is just a test\\nthis task is just at...     []       P5   \n",
       "2  Using the ADMIN link on the main page leads to...     []       P1   \n",
       "3  Entered into Issuezilla for tracking purposes....     []       P3   \n",
       "4  <text:quo-vadis></text:quo-vadis>\\n   <text:er...     []       P2   \n",
       "\n",
       "          product resolution  \\\n",
       "0  Infrastructure      FIXED   \n",
       "1  Infrastructure      FIXED   \n",
       "2  Infrastructure      FIXED   \n",
       "3  Infrastructure      FIXED   \n",
       "4             xml      FIXED   \n",
       "\n",
       "                                          short_desc  version  \n",
       "0  openoffice.org issuezillla URL's display a hor...  current  \n",
       "1                                          test task  current  \n",
       "2             Administrative Interface not available  current  \n",
       "3                               update modules file.  current  \n",
       "4                      text:quo-vadis, text:ergo-sum      605  "
      ]
     },
     "execution_count": 7,
     "metadata": {},
     "output_type": "execute_result"
    }
   ],
   "source": [
    "df.head()"
   ]
  },
  {
   "cell_type": "code",
   "execution_count": 8,
   "metadata": {},
   "outputs": [
    {
     "name": "stderr",
     "output_type": "stream",
     "text": [
      "/usr/local/lib/python3.5/dist-packages/pandas/core/indexing.py:362: SettingWithCopyWarning: \n",
      "A value is trying to be set on a copy of a slice from a DataFrame.\n",
      "Try using .loc[row_indexer,col_indexer] = value instead\n",
      "\n",
      "See the caveats in the documentation: http://pandas.pydata.org/pandas-docs/stable/indexing.html#indexing-view-versus-copy\n",
      "  self.obj[key] = _infer_fill_value(value)\n",
      "/usr/local/lib/python3.5/dist-packages/pandas/core/indexing.py:543: SettingWithCopyWarning: \n",
      "A value is trying to be set on a copy of a slice from a DataFrame.\n",
      "Try using .loc[row_indexer,col_indexer] = value instead\n",
      "\n",
      "See the caveats in the documentation: http://pandas.pydata.org/pandas-docs/stable/indexing.html#indexing-view-versus-copy\n",
      "  self.obj[item] = s\n"
     ]
    },
    {
     "data": {
      "text/html": [
       "<div>\n",
       "<style scoped>\n",
       "    .dataframe tbody tr th:only-of-type {\n",
       "        vertical-align: middle;\n",
       "    }\n",
       "\n",
       "    .dataframe tbody tr th {\n",
       "        vertical-align: top;\n",
       "    }\n",
       "\n",
       "    .dataframe thead th {\n",
       "        text-align: right;\n",
       "    }\n",
       "</style>\n",
       "<table border=\"1\" class=\"dataframe\">\n",
       "  <thead>\n",
       "    <tr style=\"text-align: right;\">\n",
       "      <th></th>\n",
       "      <th>bug_id</th>\n",
       "      <th>short_desc</th>\n",
       "      <th>description</th>\n",
       "      <th>text</th>\n",
       "    </tr>\n",
       "  </thead>\n",
       "  <tbody>\n",
       "    <tr>\n",
       "      <th>0</th>\n",
       "      <td>14</td>\n",
       "      <td>openoffice.org issuezillla URL's display a hor...</td>\n",
       "      <td>it would be nice if the combination of OpenOff...</td>\n",
       "      <td>openoffice.org issuezillla URL's display a hor...</td>\n",
       "    </tr>\n",
       "    <tr>\n",
       "      <th>1</th>\n",
       "      <td>15</td>\n",
       "      <td>test task</td>\n",
       "      <td>this task is just a test\\nthis task is just at...</td>\n",
       "      <td>test task. this task is just a test\\nthis task...</td>\n",
       "    </tr>\n",
       "    <tr>\n",
       "      <th>2</th>\n",
       "      <td>16</td>\n",
       "      <td>Administrative Interface not available</td>\n",
       "      <td>Using the ADMIN link on the main page leads to...</td>\n",
       "      <td>Administrative Interface not available. Using ...</td>\n",
       "    </tr>\n",
       "    <tr>\n",
       "      <th>3</th>\n",
       "      <td>17</td>\n",
       "      <td>update modules file.</td>\n",
       "      <td>Entered into Issuezilla for tracking purposes....</td>\n",
       "      <td>update modules file.. Entered into Issuezilla ...</td>\n",
       "    </tr>\n",
       "    <tr>\n",
       "      <th>4</th>\n",
       "      <td>19</td>\n",
       "      <td>text:quo-vadis, text:ergo-sum</td>\n",
       "      <td>&lt;text:quo-vadis&gt;&lt;/text:quo-vadis&gt;\\n   &lt;text:er...</td>\n",
       "      <td>text:quo-vadis, text:ergo-sum. &lt;text:quo-vadis...</td>\n",
       "    </tr>\n",
       "  </tbody>\n",
       "</table>\n",
       "</div>"
      ],
      "text/plain": [
       "   bug_id                                         short_desc  \\\n",
       "0      14  openoffice.org issuezillla URL's display a hor...   \n",
       "1      15                                          test task   \n",
       "2      16             Administrative Interface not available   \n",
       "3      17                               update modules file.   \n",
       "4      19                      text:quo-vadis, text:ergo-sum   \n",
       "\n",
       "                                         description  \\\n",
       "0  it would be nice if the combination of OpenOff...   \n",
       "1  this task is just a test\\nthis task is just at...   \n",
       "2  Using the ADMIN link on the main page leads to...   \n",
       "3  Entered into Issuezilla for tracking purposes....   \n",
       "4  <text:quo-vadis></text:quo-vadis>\\n   <text:er...   \n",
       "\n",
       "                                                text  \n",
       "0  openoffice.org issuezillla URL's display a hor...  \n",
       "1  test task. this task is just a test\\nthis task...  \n",
       "2  Administrative Interface not available. Using ...  \n",
       "3  update modules file.. Entered into Issuezilla ...  \n",
       "4  text:quo-vadis, text:ergo-sum. <text:quo-vadis...  "
      ]
     },
     "execution_count": 8,
     "metadata": {},
     "output_type": "execute_result"
    }
   ],
   "source": [
    "df_textual = df[['bug_id', 'short_desc', 'description']]\n",
    "df_textual.loc[:, 'text'] = df['short_desc'] + \". \" + df['description']\n",
    "df_textual.head()"
   ]
  },
  {
   "cell_type": "code",
   "execution_count": 9,
   "metadata": {},
   "outputs": [],
   "source": [
    "data = df_textual['text'].values"
   ]
  },
  {
   "cell_type": "code",
   "execution_count": 10,
   "metadata": {},
   "outputs": [
    {
     "name": "stdout",
     "output_type": "stream",
     "text": [
      "Total of data  72234\n"
     ]
    }
   ],
   "source": [
    "print(\"Total of data \", len(data))"
   ]
  },
  {
   "cell_type": "code",
   "execution_count": 11,
   "metadata": {
    "scrolled": true
   },
   "outputs": [
    {
     "data": {
      "text/plain": [
       "array(['openoffice.org issuezillla URL\\'s display a horribly ugly heading gif.. it would be nice if the combination of OpenOffice.org gif and \"IssueZilla:\" \\ntext could be artfully combined with better matching alignment, color and font.\\nI tried playing with vertical alignment and it didn\\'t help. \\nIt seemed bogus to spend much time trying to align the OOo gif with the text\\nsince it would still look bad anyways in some other browser.\\n\\nI\\'m hoping to get some graphics assistance to make this look better.\\n\\nNote, see http://www.openoffice.org/issues/editparams.cgi \\'bannerhtml\\'\\nand \\'blurbhtml\\' parameters for where this information is set. It\\'s not like we\\ncan\\'t easily set the HTML different, so anybody has a suggestion for',\n",
       "       'test task. this task is just a test\\nthis task is just athis task is just a test\\n test\\nathisathistthis task is just a test\\nthis task is just athis task is just a test\\n testthis task is justhis task is just a test\\nthis task is just athis task is just a test\\n test\\nathisathist a test\\nthis task is just athis task is just a test\\n test\\nathisathis\\nathisathishis task is just a test\\nthis task is just thisthis task is just a test\\nthis task is just athis task is just a test\\n test\\nathisathis task is just a test\\nthis task is just athis task is just a test\\n testthis task is just a test\\nthis task is just athis task is just a test\\n test\\nathisathis\\nathisathisathis task is just a test\\n testthis task is just a test\\nthis task is just athis task is just a test\\n test\\nathisathis\\nathisathis',\n",
       "       'Administrative Interface not available. Using the ADMIN link on the main page leads to a connection error to \\nwww.openoffice.org:8080',\n",
       "       ...,\n",
       "       'Add \"AOO 4.0.1 Might not work with MAC\" to release notes. Due to several comments in and \"Bug 123681 - UNRESPONSIVE WARNING WINDOW, PROGRAM CAN NOT EXPORT TO RESCUE DATA, ONLY FORCE QUIT WILL CLOSE \" and new \"Bug 119006 - Restore windows problem on Mac OS X\" there is some evidence that AOO does not work at all for MAC. That should be mentioned in release notes (and may be on download page).\\n\\nSo please add one of above mentioned bugs to \"Known Issues\"!.',\n",
       "       \"CRASH when insert 'Vertical Text' box. Created attachment 82189\\nstopworking.jpg\\n\\nBuild Info: AOO410m1(Build:9750)  -  Rev. 1548193\\n\\nStepï¼š\\t\\n1.Launch AOO and New a spreadsheet\\n2.Insert a text box from Toolbars(Vertical text)and click text box\\n\\nIssue:\\nOpenoffice stop working ,refer stopworking.jpg\",\n",
       "       'CRASH when Insert row. Created attachment 82193\\nThree page spreadsheet, no formulas. Calc crashes on Insert Row.\\n\\nThis appears to be a duplicate of bug 123166.\\n\\nI am reporting it to provide:\\n- problem signature\\n- sample file.\\n\\nIt is a serious issue, as it altogether prevents further work.\\n\\n\\n\\n1. Application crashes when attempting to Insert a row (Alt-I, R).\\n   Cannot send an error report: \\n   after recovery, the application immedidately reopens the file.\\n\\n2. The attached vastly simplified ods file has 3 sheets.\\n   The problem occurs in sheets 1 and 2. Sheet 3 is OK.\\n\\n3. The problem was not apparent previously.\\n   It now seen in the attached spreadsheet, as well as previously OK backups.\\n   I cannot determine what (if anything) was changed.\\n\\n4. It occurred with calc v4.0, and persists after upgrading to v4.01\\n\\n5. As a result, cannot work with OO calc.\\n\\n\\n\\nProblem signature:\\n  Problem Event Name:\\tBEX\\n  Application Name:\\tsoffice.bin\\n  Application Version:\\t4.0.9714.500\\n  Application Timestamp:\\t5237a093\\n  Fault Module Name:\\tMSVCR90.dll\\n  Fault Module Version:\\t9.0.30729.6161\\n  Fault Module Timestamp:\\t4dace5b9\\n  Exception Offset:\\t0006ccd5\\n  Exception Code:\\tc0000417\\n  Exception Data:\\t00000000\\n  OS Version:\\t6.1.7601.2.1.0.768.3\\n  Locale ID:\\t1033\\n  Additional Information 1:\\tb4c9\\n  Additional Information 2:\\tb4c9465fad6f056550b89cc131b0df95\\n  Additional Information 3:\\tb7a3\\n  Additional Information 4:\\tb7a3a025cf632215aefd69fad1b4d839'],\n",
       "      dtype=object)"
      ]
     },
     "execution_count": 11,
     "metadata": {},
     "output_type": "execute_result"
    }
   ],
   "source": [
    "data[:-2]"
   ]
  },
  {
   "cell_type": "markdown",
   "metadata": {},
   "source": [
    "## Bert tokens"
   ]
  },
  {
   "cell_type": "code",
   "execution_count": 13,
   "metadata": {},
   "outputs": [],
   "source": [
    "pretrained_path = 'uncased_L-12_H-768_A-12'\n",
    "config_path = os.path.join(pretrained_path, 'bert_config.json')\n",
    "model_path = os.path.join(pretrained_path, 'bert_model.ckpt')\n",
    "vocab_path = os.path.join(pretrained_path, 'vocab.txt')\n",
    "token_dict = load_vocabulary(vocab_path)\n",
    "tokenizer = Tokenizer(token_dict)"
   ]
  },
  {
   "cell_type": "markdown",
   "metadata": {},
   "source": [
    "### Load bugs"
   ]
  },
  {
   "cell_type": "code",
   "execution_count": 14,
   "metadata": {},
   "outputs": [],
   "source": [
    "baseline = Baseline(DOMAIN, DIR, DATASET, MAX_SEQUENCE_LENGTH_T, MAX_SEQUENCE_LENGTH_D,\n",
    "                   token_dict['[CLS]'], token_dict['[SEP]'])\n",
    "evaluation = Evaluation(verbose=0)\n",
    "retrieval = Retrieval()\n",
    "experiment = Experiment(baseline, evaluation)"
   ]
  },
  {
   "cell_type": "code",
   "execution_count": 15,
   "metadata": {},
   "outputs": [],
   "source": [
    "experiment.set_retrieval(retrieval, baseline, DOMAIN)"
   ]
  },
  {
   "cell_type": "code",
   "execution_count": 16,
   "metadata": {},
   "outputs": [
    {
     "name": "stdout",
     "output_type": "stream",
     "text": [
      "Reading bug ids\n"
     ]
    },
    {
     "data": {
      "text/plain": [
       "98070"
      ]
     },
     "execution_count": 16,
     "metadata": {},
     "output_type": "execute_result"
    }
   ],
   "source": [
    "experiment.load_ids()\n",
    "len(baseline.bug_ids)"
   ]
  },
  {
   "cell_type": "code",
   "execution_count": 17,
   "metadata": {},
   "outputs": [
    {
     "data": {
      "application/vnd.jupyter.widget-view+json": {
       "model_id": "ed0796c3cf5a45edba00425711d0a190",
       "version_major": 2,
       "version_minor": 0
      },
      "text/plain": [
       "HBox(children=(IntProgress(value=0, max=98070), HTML(value='')))"
      ]
     },
     "metadata": {},
     "output_type": "display_data"
    },
    {
     "name": "stdout",
     "output_type": "stream",
     "text": [
      "\n"
     ]
    },
    {
     "data": {
      "application/vnd.jupyter.widget-view+json": {
       "model_id": "2c628b38f07d43d4baf85b6cc1d80e7f",
       "version_major": 2,
       "version_minor": 0
      },
      "text/plain": [
       "HBox(children=(IntProgress(value=1, bar_style='info', max=1), HTML(value='')))"
      ]
     },
     "metadata": {},
     "output_type": "display_data"
    },
    {
     "name": "stdout",
     "output_type": "stream",
     "text": [
      "\n",
      "CPU times: user 10.9 s, sys: 1.27 s, total: 12.2 s\n",
      "Wall time: 12.6 s\n"
     ]
    }
   ],
   "source": [
    "%%time\n",
    "\n",
    "experiment.load_bugs(TOKEN)\n",
    "len(baseline.sentence_dict)"
   ]
  },
  {
   "cell_type": "code",
   "execution_count": 18,
   "metadata": {},
   "outputs": [
    {
     "data": {
      "application/vnd.jupyter.widget-view+json": {
       "model_id": "c4405ee38a0a4e8ead5b55ea4248153a",
       "version_major": 2,
       "version_minor": 0
      },
      "text/plain": [
       "HBox(children=(IntProgress(value=0, max=98070), HTML(value='')))"
      ]
     },
     "metadata": {},
     "output_type": "display_data"
    },
    {
     "name": "stdout",
     "output_type": "stream",
     "text": [
      "\n"
     ]
    }
   ],
   "source": [
    "ids = []\n",
    "data = []\n",
    "for bug_id in tqdm(baseline.bug_set):\n",
    "    bug = baseline.bug_set[bug_id]\n",
    "    ids.append(bug_id)\n",
    "    title = bug['title']\n",
    "    desc = bug['description']\n",
    "    data.append(\"{}\\n{}\\n\".format(title, desc))"
   ]
  },
  {
   "cell_type": "markdown",
   "metadata": {},
   "source": [
    "## Switch topics for each bug"
   ]
  },
  {
   "cell_type": "code",
   "execution_count": 23,
   "metadata": {
    "scrolled": true
   },
   "outputs": [
    {
     "data": {
      "application/vnd.jupyter.widget-view+json": {
       "model_id": "279d5791f8414586a9239728ccf2cfe0",
       "version_major": 2,
       "version_minor": 0
      },
      "text/plain": [
       "HBox(children=(IntProgress(value=0, max=98070), HTML(value='')))"
      ]
     },
     "metadata": {},
     "output_type": "display_data"
    },
    {
     "name": "stdout",
     "output_type": "stream",
     "text": [
      "\n"
     ]
    }
   ],
   "source": [
    "for i in tqdm(range(len(ids))):\n",
    "    filename = 'bugs/{}.pkl'.format(ids[i])\n",
    "    try:\n",
    "        with open(os.path.join(DIR, filename), 'rb') as f:\n",
    "            bug = pickle.load(f)\n",
    "            \n",
    "            # If exist preliminar topics, then rename to remain old sizes\n",
    "            if 'topics' in bug:\n",
    "                size_of_topic = len(bug['topics'])\n",
    "                old_topic_name = 'topics_{}'.format(size_of_topic)\n",
    "                old_topic_label_name = 'topic_{}'.format(size_of_topic)\n",
    "                old_topic_index_name = 'topic_index_{}'.format(size_of_topic)\n",
    "                bug[old_topic_name] = bug['topics']\n",
    "                bug[old_topic_label_name] = bug['topic']\n",
    "                bug[old_topic_index_name] = bug['topic_index']\n",
    "            \n",
    "            # Update bugs with topics\n",
    "            if 'topics_{}'.format(SELECT_TOPICS) in bug:\n",
    "                bug['topics'] = bug['topics_{}'.format(SELECT_TOPICS)]\n",
    "                bug['topic'] = bug['topic_{}'.format(SELECT_TOPICS)]\n",
    "                bug['topic_index'] = bug['topic_index_{}'.format(SELECT_TOPICS)]\n",
    "    except:\n",
    "        bug = {}\n",
    "    if('topic' not in bug):\n",
    "        print(\"Bug of index {} was not saved\".format(i))\n",
    "        continue\n",
    "    bug_dir = os.path.join(DIR, 'bugs')\n",
    "    with open(os.path.join(bug_dir, str(ids[i]) + '.pkl'), 'wb') as f:\n",
    "        pickle.dump(bug, f)"
   ]
  },
  {
   "cell_type": "code",
   "execution_count": 24,
   "metadata": {},
   "outputs": [
    {
     "name": "stdout",
     "output_type": "stream",
     "text": [
      "{'priority': '4\\n', 'topic': 20, 'topic_30': 20, 'issue_id': 13, 'delta_ts': '2003-12-06 14:52:32 +0000', 'resolution': 'NOT_AN_ISSUE', 'version': '50\\n', 'title_segment': [0, 0, 0, 0, 0, 0, 0, 0, 0, 0, 0, 0, 0, 0, 0, 0, 0, 0, 0, 0, 0, 0, 0, 0, 0, 0, 0, 0, 0, 0, 0, 0, 0, 0, 0, 0, 0, 0, 0, 0, 0, 0, 0, 0, 0, 0, 0, 0, 0, 0], 'bug_status': '1\\n', 'topic_index_30': 19, 'dup_id': '[]', 'topic_50': 33, 'topics_50': array([0.  , 0.  , 0.  , 0.  , 0.  , 0.  , 0.  , 0.  , 0.  , 0.  , 0.  ,\n",
      "       0.  , 0.  , 0.  , 0.  , 0.  , 0.  , 0.  , 0.  , 0.12, 0.  , 0.  ,\n",
      "       0.  , 0.  , 0.16, 0.15, 0.  , 0.  , 0.  , 0.  , 0.  , 0.15, 0.  ,\n",
      "       0.17, 0.  , 0.  , 0.  , 0.  , 0.  , 0.  , 0.  , 0.  , 0.  , 0.  ,\n",
      "       0.  , 0.  , 0.  , 0.  , 0.  , 0.13]), 'bug_severity': '2\\n', 'title_token': [101, 3231, 11829, 1024, 3526, 3609, 2003, 3308, 102, 0, 0, 0, 0, 0, 0, 0, 0, 0, 0, 0, 0, 0, 0, 0, 0, 0, 0, 0, 0, 0, 0, 0, 0, 0, 0, 0, 0, 0, 0, 0, 0, 0, 0, 0, 0, 0, 0, 0, 0, 0], 'title': '[CLS] test bug : cell color is wrong [SEP]', 'component': '69\\n', 'topic_index_50': 32, 'topics_30': array([0.  , 0.  , 0.  , 0.  , 0.  , 0.  , 0.  , 0.  , 0.17, 0.  , 0.  ,\n",
      "       0.  , 0.13, 0.  , 0.16, 0.  , 0.  , 0.  , 0.  , 0.  , 0.27, 0.  ,\n",
      "       0.  , 0.  , 0.16, 0.  , 0.  , 0.  , 0.  , 0.  ]), 'creation_ts': '2000-10-16 18:33:00 +0000', 'description_segment': [0, 0, 0, 0, 0, 0, 0, 0, 0, 0, 0, 0, 0, 0, 0, 0, 0, 0, 0, 0, 0, 0, 0, 0, 0, 0, 0, 0, 0, 0, 0, 0, 0, 0, 0, 0, 0, 0, 0, 0, 0, 0, 0, 0, 0, 0, 0, 0, 0, 0, 0, 0, 0, 0, 0, 0, 0, 0, 0, 0, 0, 0, 0, 0, 0, 0, 0, 0, 0, 0, 0, 0, 0, 0, 0, 0, 0, 0, 0, 0, 0, 0, 0, 0, 0, 0, 0, 0, 0, 0, 0, 0, 0, 0, 0, 0, 0, 0, 0, 0, 0, 0, 0, 0, 0, 0, 0, 0, 0, 0, 0, 0, 0, 0, 0, 0, 0, 0, 0, 0, 0, 0, 0, 0, 0, 0, 0, 0, 0, 0, 0, 0, 0, 0, 0, 0, 0, 0, 0, 0, 0, 0, 0, 0, 0, 0, 0, 0, 0, 0], 'topic_index': 19, 'product': '5\\n', 'description': '[CLS] i need to see if this works , sorry . [SEP]', 'topics': array([0.  , 0.  , 0.  , 0.  , 0.  , 0.  , 0.  , 0.  , 0.17, 0.  , 0.  ,\n",
      "       0.  , 0.13, 0.  , 0.16, 0.  , 0.  , 0.  , 0.  , 0.  , 0.27, 0.  ,\n",
      "       0.  , 0.  , 0.16, 0.  , 0.  , 0.  , 0.  , 0.  ]), 'description_token': [101, 1045, 2342, 2000, 2156, 2065, 2023, 2573, 1010, 3374, 1012, 102, 0, 0, 0, 0, 0, 0, 0, 0, 0, 0, 0, 0, 0, 0, 0, 0, 0, 0, 0, 0, 0, 0, 0, 0, 0, 0, 0, 0, 0, 0, 0, 0, 0, 0, 0, 0, 0, 0, 0, 0, 0, 0, 0, 0, 0, 0, 0, 0, 0, 0, 0, 0, 0, 0, 0, 0, 0, 0, 0, 0, 0, 0, 0, 0, 0, 0, 0, 0, 0, 0, 0, 0, 0, 0, 0, 0, 0, 0, 0, 0, 0, 0, 0, 0, 0, 0, 0, 0, 0, 0, 0, 0, 0, 0, 0, 0, 0, 0, 0, 0, 0, 0, 0, 0, 0, 0, 0, 0, 0, 0, 0, 0, 0, 0, 0, 0, 0, 0, 0, 0, 0, 0, 0, 0, 0, 0, 0, 0, 0, 0, 0, 0, 0, 0, 0, 0, 0, 0]}\n"
     ]
    }
   ],
   "source": [
    "filename = 'bugs/{}.pkl'.format(ids[0])\n",
    "with open(os.path.join(DIR, filename), 'rb') as f:\n",
    "    print(pickle.load(f))"
   ]
  }
 ],
 "metadata": {
  "kernelspec": {
   "display_name": "Python 3",
   "language": "python",
   "name": "python3"
  },
  "language_info": {
   "codemirror_mode": {
    "name": "ipython",
    "version": 3
   },
   "file_extension": ".py",
   "mimetype": "text/x-python",
   "name": "python",
   "nbconvert_exporter": "python",
   "pygments_lexer": "ipython3",
   "version": "3.5.2"
  }
 },
 "nbformat": 4,
 "nbformat_minor": 2
}
