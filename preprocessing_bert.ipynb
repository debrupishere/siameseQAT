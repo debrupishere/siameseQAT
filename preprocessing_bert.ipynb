{
 "cells": [
  {
   "cell_type": "markdown",
   "metadata": {},
   "source": [
    "## Preprocessing"
   ]
  },
  {
   "cell_type": "code",
   "execution_count": 4,
   "metadata": {},
   "outputs": [],
   "source": [
    "import os\n",
    "\n",
    "# Domain to use\n",
    "DOMAIN = 'eclipse'\n",
    "\n",
    "DATASET = os.path.join('data/normalized/{}'.format(DOMAIN), '{}.csv'.format(DOMAIN))"
   ]
  },
  {
   "cell_type": "code",
   "execution_count": 5,
   "metadata": {},
   "outputs": [],
   "source": [
    "import os\n",
    "\n",
    "pretrained_path = 'uncased_L-12_H-768_A-12'\n",
    "config_path = os.path.join(pretrained_path, 'bert_config.json')\n",
    "model_path = os.path.join(pretrained_path, 'bert_model.ckpt')\n",
    "vocab_path = os.path.join(pretrained_path, 'vocab.txt')"
   ]
  },
  {
   "cell_type": "code",
   "execution_count": 34,
   "metadata": {},
   "outputs": [],
   "source": [
    "from keras_bert import load_vocabulary\n",
    "\n",
    "token_dict = load_vocabulary(vocab_path)"
   ]
  },
  {
   "cell_type": "code",
   "execution_count": 35,
   "metadata": {},
   "outputs": [
    {
     "data": {
      "text/plain": [
       "'Total vocabulary: 30522'"
      ]
     },
     "execution_count": 35,
     "metadata": {},
     "output_type": "execute_result"
    }
   ],
   "source": [
    "\"Total vocabulary: {}\".format(len(token_dict))"
   ]
  },
  {
   "cell_type": "code",
   "execution_count": 9,
   "metadata": {},
   "outputs": [],
   "source": [
    "import pandas as pd"
   ]
  },
  {
   "cell_type": "code",
   "execution_count": 10,
   "metadata": {},
   "outputs": [],
   "source": [
    "df_train = pd.read_csv('{}'.format(DATASET))"
   ]
  },
  {
   "cell_type": "code",
   "execution_count": 11,
   "metadata": {},
   "outputs": [
    {
     "data": {
      "text/html": [
       "<div>\n",
       "<style scoped>\n",
       "    .dataframe tbody tr th:only-of-type {\n",
       "        vertical-align: middle;\n",
       "    }\n",
       "\n",
       "    .dataframe tbody tr th {\n",
       "        vertical-align: top;\n",
       "    }\n",
       "\n",
       "    .dataframe thead th {\n",
       "        text-align: right;\n",
       "    }\n",
       "</style>\n",
       "<table border=\"1\" class=\"dataframe\">\n",
       "  <thead>\n",
       "    <tr style=\"text-align: right;\">\n",
       "      <th></th>\n",
       "      <th>bug_id</th>\n",
       "      <th>bug_severity</th>\n",
       "      <th>bug_status</th>\n",
       "      <th>component</th>\n",
       "      <th>creation_ts</th>\n",
       "      <th>delta_ts</th>\n",
       "      <th>description</th>\n",
       "      <th>dup_id</th>\n",
       "      <th>priority</th>\n",
       "      <th>product</th>\n",
       "      <th>resolution</th>\n",
       "      <th>short_desc</th>\n",
       "      <th>version</th>\n",
       "    </tr>\n",
       "  </thead>\n",
       "  <tbody>\n",
       "    <tr>\n",
       "      <th>0</th>\n",
       "      <td>3</td>\n",
       "      <td>normal</td>\n",
       "      <td>RESOLVED</td>\n",
       "      <td>Team</td>\n",
       "      <td>2001-10-10 21:34:00 -0400</td>\n",
       "      <td>2010-05-07 10:28:53 -0400</td>\n",
       "      <td>KM (10/2/2001 5:55:18 PM)\\n\\tThis PR about the...</td>\n",
       "      <td>[]</td>\n",
       "      <td>P5</td>\n",
       "      <td>Platform</td>\n",
       "      <td>FIXED</td>\n",
       "      <td>Sync does not indicate deletion (1GIEN83)</td>\n",
       "      <td>2.0</td>\n",
       "    </tr>\n",
       "    <tr>\n",
       "      <th>1</th>\n",
       "      <td>11</td>\n",
       "      <td>normal</td>\n",
       "      <td>RESOLVED</td>\n",
       "      <td>Team</td>\n",
       "      <td>2001-10-10 21:34:00 -0400</td>\n",
       "      <td>2001-10-23 23:39:22 -0400</td>\n",
       "      <td>Jean-Michel (08/02/2001 1:38:48 PM)\\n\\nThe ISh...</td>\n",
       "      <td>[]</td>\n",
       "      <td>P3</td>\n",
       "      <td>Platform</td>\n",
       "      <td>WONTFIX</td>\n",
       "      <td>API: ISharingManager::load mapping vcm project...</td>\n",
       "      <td>2.0</td>\n",
       "    </tr>\n",
       "    <tr>\n",
       "      <th>2</th>\n",
       "      <td>13</td>\n",
       "      <td>normal</td>\n",
       "      <td>VERIFIED</td>\n",
       "      <td>Team</td>\n",
       "      <td>2001-10-10 21:34:00 -0400</td>\n",
       "      <td>2001-10-29 16:51:09 -0500</td>\n",
       "      <td>Would it make sense to have a (the?) project's...</td>\n",
       "      <td>[]</td>\n",
       "      <td>P3</td>\n",
       "      <td>Platform</td>\n",
       "      <td>FIXED</td>\n",
       "      <td>CC Discussion: local versioning (1GAT3PL)</td>\n",
       "      <td>2.0</td>\n",
       "    </tr>\n",
       "    <tr>\n",
       "      <th>3</th>\n",
       "      <td>12</td>\n",
       "      <td>normal</td>\n",
       "      <td>RESOLVED</td>\n",
       "      <td>Team</td>\n",
       "      <td>2001-10-10 21:34:00 -0400</td>\n",
       "      <td>2001-10-23 23:39:24 -0400</td>\n",
       "      <td>Currently every new resource added to a shared...</td>\n",
       "      <td>[]</td>\n",
       "      <td>P3</td>\n",
       "      <td>Platform</td>\n",
       "      <td>WONTFIX</td>\n",
       "      <td>Manage/unmanage support and policies (1GALAEG)</td>\n",
       "      <td>2.0</td>\n",
       "    </tr>\n",
       "    <tr>\n",
       "      <th>4</th>\n",
       "      <td>10</td>\n",
       "      <td>normal</td>\n",
       "      <td>VERIFIED</td>\n",
       "      <td>Team</td>\n",
       "      <td>2001-10-10 21:34:00 -0400</td>\n",
       "      <td>2008-10-10 18:47:42 -0400</td>\n",
       "      <td>There seems to be a need for a VCM Event notif...</td>\n",
       "      <td>[]</td>\n",
       "      <td>P3</td>\n",
       "      <td>Platform</td>\n",
       "      <td>FIXED</td>\n",
       "      <td>API - VCM event notification (1G8G6RR)</td>\n",
       "      <td>2.0</td>\n",
       "    </tr>\n",
       "  </tbody>\n",
       "</table>\n",
       "</div>"
      ],
      "text/plain": [
       "   bug_id bug_severity bug_status component                creation_ts  \\\n",
       "0       3       normal   RESOLVED      Team  2001-10-10 21:34:00 -0400   \n",
       "1      11       normal   RESOLVED      Team  2001-10-10 21:34:00 -0400   \n",
       "2      13       normal   VERIFIED      Team  2001-10-10 21:34:00 -0400   \n",
       "3      12       normal   RESOLVED      Team  2001-10-10 21:34:00 -0400   \n",
       "4      10       normal   VERIFIED      Team  2001-10-10 21:34:00 -0400   \n",
       "\n",
       "                    delta_ts  \\\n",
       "0  2010-05-07 10:28:53 -0400   \n",
       "1  2001-10-23 23:39:22 -0400   \n",
       "2  2001-10-29 16:51:09 -0500   \n",
       "3  2001-10-23 23:39:24 -0400   \n",
       "4  2008-10-10 18:47:42 -0400   \n",
       "\n",
       "                                         description dup_id priority  \\\n",
       "0  KM (10/2/2001 5:55:18 PM)\\n\\tThis PR about the...     []       P5   \n",
       "1  Jean-Michel (08/02/2001 1:38:48 PM)\\n\\nThe ISh...     []       P3   \n",
       "2  Would it make sense to have a (the?) project's...     []       P3   \n",
       "3  Currently every new resource added to a shared...     []       P3   \n",
       "4  There seems to be a need for a VCM Event notif...     []       P3   \n",
       "\n",
       "    product resolution                                         short_desc  \\\n",
       "0  Platform      FIXED          Sync does not indicate deletion (1GIEN83)   \n",
       "1  Platform    WONTFIX  API: ISharingManager::load mapping vcm project...   \n",
       "2  Platform      FIXED          CC Discussion: local versioning (1GAT3PL)   \n",
       "3  Platform    WONTFIX     Manage/unmanage support and policies (1GALAEG)   \n",
       "4  Platform      FIXED             API - VCM event notification (1G8G6RR)   \n",
       "\n",
       "  version  \n",
       "0     2.0  \n",
       "1     2.0  \n",
       "2     2.0  \n",
       "3     2.0  \n",
       "4     2.0  "
      ]
     },
     "execution_count": 11,
     "metadata": {},
     "output_type": "execute_result"
    }
   ],
   "source": [
    "df_train.head()"
   ]
  },
  {
   "cell_type": "code",
   "execution_count": 13,
   "metadata": {},
   "outputs": [
    {
     "data": {
      "text/plain": [
       "361884"
      ]
     },
     "execution_count": 13,
     "metadata": {},
     "output_type": "execute_result"
    }
   ],
   "source": [
    "bug_ids = df_train['bug_id'].values\n",
    "\n",
    "len(bug_ids)"
   ]
  },
  {
   "cell_type": "code",
   "execution_count": 25,
   "metadata": {},
   "outputs": [
    {
     "data": {
      "text/plain": [
       "{'description': \"In the call graph's tree view, we should use the same icons as the CDT does in its outline view.  If a node has special attributes, we should annotate the icon somehow (I'm thinking like an outgoing change on a CVS or SVN file).\",\n",
       " 'title': '[callgraph] Use same function icons (with overlay?) as CDT'}"
      ]
     },
     "execution_count": 25,
     "metadata": {},
     "output_type": "execute_result"
    }
   ],
   "source": [
    "import numpy as np\n",
    "idx = np.random.choice(bug_ids, 1)[0]\n",
    "bug_df = df_train[df_train['bug_id'] == idx]\n",
    "\n",
    "bug = {\n",
    "    'description' : bug_df['description'].values[0],\n",
    "    'title' : bug_df['short_desc'].values[0]\n",
    "}\n",
    "\n",
    "bug"
   ]
  },
  {
   "cell_type": "code",
   "execution_count": 26,
   "metadata": {},
   "outputs": [],
   "source": [
    "MAX_SEQUENCE_LENGTH_T = 20 # 40\n",
    "MAX_SEQUENCE_LENGTH_D = 100 # 200"
   ]
  },
  {
   "cell_type": "code",
   "execution_count": 28,
   "metadata": {},
   "outputs": [
    {
     "name": "stderr",
     "output_type": "stream",
     "text": [
      "Using TensorFlow backend.\n"
     ]
    }
   ],
   "source": [
    "from keras_bert import Tokenizer\n",
    "tokenizer = Tokenizer(token_dict)"
   ]
  },
  {
   "cell_type": "code",
   "execution_count": 41,
   "metadata": {},
   "outputs": [
    {
     "data": {
      "text/plain": [
       "('Title ', '[callgraph] Use same function icons (with overlay?) as CDT')"
      ]
     },
     "execution_count": 41,
     "metadata": {},
     "output_type": "execute_result"
    }
   ],
   "source": [
    "\"Title \", bug['title']"
   ]
  },
  {
   "cell_type": "code",
   "execution_count": 56,
   "metadata": {
    "scrolled": true
   },
   "outputs": [
    {
     "data": {
      "text/plain": [
       "['[CLS]',\n",
       " '[',\n",
       " 'call',\n",
       " '##graph',\n",
       " ']',\n",
       " 'use',\n",
       " 'same',\n",
       " 'function',\n",
       " 'icons',\n",
       " '(',\n",
       " 'with',\n",
       " 'over',\n",
       " '##lay',\n",
       " '?',\n",
       " ')',\n",
       " 'as',\n",
       " 'cd',\n",
       " '##t',\n",
       " '[SEP]']"
      ]
     },
     "execution_count": 56,
     "metadata": {},
     "output_type": "execute_result"
    }
   ],
   "source": [
    "text = tokenizer.tokenize(bug['title'])\n",
    "text"
   ]
  },
  {
   "cell_type": "code",
   "execution_count": 70,
   "metadata": {},
   "outputs": [],
   "source": [
    "ids, segments = tokenizer.encode(bug['title'], max_len=MAX_SEQUENCE_LENGTH_T)"
   ]
  },
  {
   "cell_type": "code",
   "execution_count": 71,
   "metadata": {},
   "outputs": [
    {
     "data": {
      "text/plain": [
       "[101,\n",
       " 1031,\n",
       " 2655,\n",
       " 14413,\n",
       " 1033,\n",
       " 2224,\n",
       " 2168,\n",
       " 3853,\n",
       " 18407,\n",
       " 1006,\n",
       " 2007,\n",
       " 2058,\n",
       " 8485,\n",
       " 1029,\n",
       " 1007,\n",
       " 2004,\n",
       " 3729,\n",
       " 2102,\n",
       " 102,\n",
       " 0]"
      ]
     },
     "execution_count": 71,
     "metadata": {},
     "output_type": "execute_result"
    }
   ],
   "source": [
    "ids"
   ]
  },
  {
   "cell_type": "code",
   "execution_count": 72,
   "metadata": {},
   "outputs": [
    {
     "data": {
      "text/plain": [
       "['[',\n",
       " 'call',\n",
       " '##graph',\n",
       " ']',\n",
       " 'use',\n",
       " 'same',\n",
       " 'function',\n",
       " 'icons',\n",
       " '(',\n",
       " 'with',\n",
       " 'over',\n",
       " '##lay',\n",
       " '?',\n",
       " ')',\n",
       " 'as',\n",
       " 'cd',\n",
       " '##t']"
      ]
     },
     "execution_count": 72,
     "metadata": {},
     "output_type": "execute_result"
    }
   ],
   "source": [
    "tokenizer.decode(ids)"
   ]
  }
 ],
 "metadata": {
  "kernelspec": {
   "display_name": "Python 3",
   "language": "python",
   "name": "python3"
  },
  "language_info": {
   "codemirror_mode": {
    "name": "ipython",
    "version": 3
   },
   "file_extension": ".py",
   "mimetype": "text/x-python",
   "name": "python",
   "nbconvert_exporter": "python",
   "pygments_lexer": "ipython3",
   "version": "3.5.2"
  }
 },
 "nbformat": 4,
 "nbformat_minor": 2
}
