{
 "cells": [
  {
   "cell_type": "markdown",
   "metadata": {},
   "source": [
    "## Paper\n",
    "\n",
    "https://arxiv.org/pdf/1812.07627.pdf"
   ]
  },
  {
   "cell_type": "markdown",
   "metadata": {},
   "source": [
    "## Repository\n",
    "\n",
    "https://github.com/kiankd/corel2019"
   ]
  },
  {
   "cell_type": "markdown",
   "metadata": {},
   "source": [
    "## Silhouette Loss\n",
    "\n",
    "https://platform.ai/blog/page/11/the-silhouette-loss-function-metric-learning-with-a-cluster-validity-index/"
   ]
  },
  {
   "cell_type": "code",
   "execution_count": 2,
   "metadata": {},
   "outputs": [
    {
     "name": "stdout",
     "output_type": "stream",
     "text": [
      "WARNING:tensorflow:From /usr/local/lib/python3.5/dist-packages/tensorflow_core/python/compat/v2_compat.py:68: disable_resource_variables (from tensorflow.python.ops.variable_scope) is deprecated and will be removed in a future version.\n",
      "Instructions for updating:\n",
      "non-resource variables are not supported in the long term\n"
     ]
    }
   ],
   "source": [
    "import tensorflow.compat.v1 as tf\n",
    "tf.disable_v2_behavior()"
   ]
  },
  {
   "cell_type": "code",
   "execution_count": 54,
   "metadata": {},
   "outputs": [],
   "source": [
    "# Helper functions for dealing with AR Loss\n",
    "def get_armask(shape, labels):\n",
    "    if labels.dtype != tf.int32:\n",
    "        raise Exception(\"Labels must be a LongTensor with dtype=int32!\")\n",
    "\n",
    "    mask = tf.zeros(shape)\n",
    "    arr = tf.range(0, shape[0], 1.0)\n",
    "\n",
    "    # want to maximize similarity to the correct classes, so this is negative.\n",
    "    mask = mask -1.\n",
    "    return mask\n",
    "\n",
    "def arloss(attraction_tensor, repulsion_tensor, lam):\n",
    "    # combine up everything to accumulate across the entire batch\n",
    "    loss_attraction = tf.reduce_sum(attraction_tensor)\n",
    "    loss_repulsion = tf.reduce_sum(repulsion_tensor)\n",
    "    arloss = (lam * loss_attraction) + ((1. - lam) * loss_repulsion)\n",
    "    return arloss / tf.cast(attraction_tensor.shape[0], 'float32')"
   ]
  },
  {
   "cell_type": "code",
   "execution_count": 35,
   "metadata": {},
   "outputs": [],
   "source": [
    "# Gaussian-COREL combined loss function\n",
    "def GaussianARLoss(inputs):\n",
    "\n",
    "    labels = inputs[:, :1]\n",
    "    labels = tf.cast(labels, dtype='int32')\n",
    "    embeddings =  tf.cast(inputs[:, 1:], dtype='float32')\n",
    "    lam=0.5\n",
    "    mask = get_armask(embeddings.shape, labels)\n",
    "\n",
    "    # in this case, use standard LogSoftmax, without AR.\n",
    "    if lam == 0.5:\n",
    "        softmax_predictions = tf.nn.log_softmax(embeddings, axis=1)\n",
    "        loss_tensor = mask * softmax_predictions\n",
    "        return tf.reduce_mean(loss_tensor)\n",
    "\n",
    "    # otherwise, do it in the slightly less numerically stable way.\n",
    "    attraction_tensor = mask * predictions * self.lam\n",
    "    repulsion_tensor = tf.exp(predictions)\n",
    "    repulsion_tensor = tf.log(tf.reduce_sum(repulsion_tensor, axis=1) + 1e-10) * (1. - lam)\n",
    "    return arloss(attraction_tensor, repulsion_tensor, lam)"
   ]
  },
  {
   "cell_type": "markdown",
   "metadata": {},
   "source": [
    "### Gausian-COREL loss"
   ]
  },
  {
   "cell_type": "code",
   "execution_count": 55,
   "metadata": {},
   "outputs": [
    {
     "data": {
      "text/plain": [
       "0.9009327"
      ]
     },
     "execution_count": 55,
     "metadata": {},
     "output_type": "execute_result"
    }
   ],
   "source": [
    "v = tf.constant([[1.0, 2.0, 2.0], [2.0, 3.0, 4.0], [1.0, 1.5, 2.0], \n",
    "                 [1.0, 1.0, 2.0], [3.0, 1.0, 4.0], [3.0, 1.0, 2.0]]) # [2, 3.0, 4.0] [1, 1.0, 2.0]\n",
    "tl_loss = GaussianARLoss(v)\n",
    "sess=tf.Session() \n",
    "sess.run(tl_loss)"
   ]
  },
  {
   "cell_type": "markdown",
   "metadata": {},
   "source": [
    "### Cosine-COREL loss"
   ]
  },
  {
   "cell_type": "code",
   "execution_count": 52,
   "metadata": {},
   "outputs": [],
   "source": [
    "def CosineARLoss(inputs):\n",
    "    labels = inputs[:, :1]\n",
    "    labels = tf.cast(labels, dtype='int32')\n",
    "    embeddings =  tf.cast(inputs[:, 1:], dtype='float32')\n",
    "    lam=0.5\n",
    "    \n",
    "    mask = get_armask(embeddings.shape, labels)\n",
    "\n",
    "    # make the attractor and repulsor, mask them!\n",
    "    attraction_tensor = mask * embeddings\n",
    "    repulsion_tensor = (mask + 1.0) * embeddings\n",
    "\n",
    "    # now, apply the special cosine-COREL rules, taking the argmax and squaring the repulsion\n",
    "    repulsion_tensor = tf.reduce_max(repulsion_tensor, axis=1)\n",
    "    repulsion_tensor = repulsion_tensor ** 2\n",
    "\n",
    "    return arloss(attraction_tensor, repulsion_tensor, lam)"
   ]
  },
  {
   "cell_type": "code",
   "execution_count": 53,
   "metadata": {},
   "outputs": [
    {
     "data": {
      "text/plain": [
       "-2.125"
      ]
     },
     "execution_count": 53,
     "metadata": {},
     "output_type": "execute_result"
    }
   ],
   "source": [
    "v = tf.constant([[1.0, 2.0, 2.0], [2.0, 3.0, 4.0], [1.0, 1.5, 2.0], \n",
    "                 [1.0, 1.0, 2.0], [3.0, 1.0, 4.0], [3.0, 1.0, 2.0]]) # [2, 3.0, 4.0] [1, 1.0, 2.0]\n",
    "tl_loss = CosineARLoss(v)\n",
    "sess=tf.Session() \n",
    "sess.run(tl_loss)"
   ]
  }
 ],
 "metadata": {
  "kernelspec": {
   "display_name": "Python 3",
   "language": "python",
   "name": "python3"
  },
  "language_info": {
   "codemirror_mode": {
    "name": "ipython",
    "version": 3
   },
   "file_extension": ".py",
   "mimetype": "text/x-python",
   "name": "python",
   "nbconvert_exporter": "python",
   "pygments_lexer": "ipython3",
   "version": "3.5.2"
  }
 },
 "nbformat": 4,
 "nbformat_minor": 2
}
