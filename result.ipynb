{
 "cells": [
  {
   "cell_type": "markdown",
   "metadata": {},
   "source": [
    "# Result"
   ]
  },
  {
   "cell_type": "code",
   "execution_count": 1,
   "metadata": {},
   "outputs": [],
   "source": [
    "import os\n",
    "import numpy as np\n",
    "import pandas as pd\n",
    "import matplotlib.pyplot as plt\n",
    "\n",
    "import sys\n",
    "nb_dir = os.path.split(os.getcwd())[0]\n",
    "if nb_dir not in sys.path:\n",
    "    sys.path.append(nb_dir)\n",
    "\n",
    "%matplotlib inline"
   ]
  },
  {
   "cell_type": "code",
   "execution_count": 2,
   "metadata": {},
   "outputs": [],
   "source": [
    "from methods.evaluation import Evaluation, EvaluationPrecision, EvaluationRecall, EvaluationFscore"
   ]
  },
  {
   "cell_type": "code",
   "execution_count": 3,
   "metadata": {},
   "outputs": [],
   "source": [
    "domains = ['eclipse', 'netbeans', 'openoffice', 'firefox'] # '' \n",
    "PREPROCESSING = 'bert'\n",
    "methods = { \n",
    "            '20' : ['baseline_20', 'baseline_dwen_20', \n",
    "               'deepTL_20', 'DWEN_QL_20', #'propose_centroid_bert_triplet_20', \n",
    "                    'deepQL_weights_20', 'DMS_QL_20', #'deepQL_20',\n",
    "                    'deepCL_20', 'fasttext_20'], # 'baseline_triplet_hard_20'\n",
    "            '100' : ['baseline_100', 'baseline_dwen_100', #'deepQL_100',\n",
    "               'deepTL_100', 'DWEN_QL_100', 'deepQL_weights_100', 'DMS_QL_100',\n",
    "                     'deepCL_100', 'fasttext_100'], # 'baseline_triplet_hard_100' 'propose_centroid_bert_triplet_100'\n",
    "           # 'propose_100', 'propose_bert_100', 'propose_softmax_100', 'propose_master_triplet_loss_100'\n",
    "           '1000' : ['baseline_1000', 'baseline_dwen_1000', #'deepQL_1000',\n",
    "               'deepTL_1000', 'DWEN_QL_1000', 'deepQL_weights_1000', 'DMS_QL_1000',\n",
    "                     'deepCL_1000', 'fasttext_1000'] # 'baseline_triplet_hard_1000' 'propose_centroid_bert_triplet_1000'\n",
    "           #  'propose_bert_1000', 'propose_1000', 'propose_softmax_1000', 'propose_master_triplet_loss_1000'\n",
    "          }\n",
    "authors = { \n",
    "            'baseline_triplet_hard_20' : '(Hard) Deshmukh et al. (2017)',\n",
    "            'baseline_triplet_hard_100' : '(Hard) Deshmukh et al. (2017)',\n",
    "            'baseline_triplet_hard_1000' : '(Hard) Deshmukh et al. (2017)',\n",
    "            'baseline_20': 'DMS', # Deshmukh et al. (2017) \n",
    "            'baseline_100': 'DMS', \n",
    "           'baseline_1000': 'DMS', \n",
    "           'baseline_dwen_20': 'DWEN', # Budhiraja et al. (2018)\n",
    "            'baseline_dwen_100': 'DWEN',\n",
    "           'baseline_dwen_1000': 'DWEN',\n",
    "           'propose_20': 'P-TL-MLP+CNN+BiLSTM+Residual',\n",
    "           'propose_100': 'P-TL-MLP+CNN+BiLSTM+Residual',\n",
    "           'propose_1000': 'P-TL-MLP+CNN+BiLSTM+Residual',\n",
    "           'propose_softmax_100': 'P-TL-Softmax',\n",
    "           'propose_softmax_1000': 'P-TL-Softmax',\n",
    "           'propose_master_triplet_loss_100': 'P-QL-MLP+CNN+BiLSTM+Residual',\n",
    "           'propose_master_triplet_loss_1000': 'P-QL-MLP+CNN+BiLSTM+Residual',\n",
    "           'propose_bert_20' : 'P-QL-MLP+BERT',\n",
    "           'propose_bert_100' : 'P-QL-MLP+BERT',\n",
    "           'propose_bert_1000' : 'P-QL-MLP+BERT',\n",
    "           'deepTL_20' : 'DeepTL', # P-Propose, Triplet Loss-TL\n",
    "           'deepTL_100' : 'DeepTL', # P-Propose, Triplet Loss-TL\n",
    "           'deepTL_1000' : 'DeepTL',\n",
    "           'propose_centroid_bert_triplet_20' : \"P-TLC-MLP+BERT\",\n",
    "           'propose_centroid_bert_triplet_100' : \"P-TLC-MLP+BERT\",\n",
    "           'propose_centroid_bert_triplet_1000' : \"P-TLC-MLP+BERT\",\n",
    "           'DWEN_QL_20' : 'DWEN_QL',\n",
    "           'DWEN_QL_100' : 'DWEN_QL',\n",
    "           'DWEN_QL_1000' : 'DWEN_QL',\n",
    "            'deepQL_weights_20' : 'DeepQL_Weights',\n",
    "            'deepQL_weights_100' : 'DeepQL_Weights',\n",
    "            'deepQL_weights_1000' : 'DeepQL_Weights',\n",
    "            'DMS_QL_20' : 'DMS_QL',\n",
    "            'DMS_QL_100' : 'DMS_QL',\n",
    "            'DMS_QL_1000' : 'DMS_QL',\n",
    "            'deepQL_20' : 'DeepQL',\n",
    "            'deepQL_100' : 'DeepQL',\n",
    "            'deepQL_1000' : 'DeepQL',\n",
    "           'deepCL_20': 'DeepCL',\n",
    "           'deepCL_100': 'DeepCL',\n",
    "           'deepCL_1000': 'DeepCL',\n",
    "           'fasttext_20': 'FastText',\n",
    "            'fasttext_100': 'FastText',\n",
    "           'fasttext_1000': 'FastText'\n",
    "          }\n",
    "markers = {\n",
    "            'propose_centroid_bert_triplet_20' : \"4\",\n",
    "           'propose_centroid_bert_triplet_100' : \"4\",\n",
    "           'propose_centroid_bert_triplet_1000' : \"4\",\n",
    "           'baseline_triplet_hard_20' : '3',\n",
    "            'baseline_triplet_hard_100' : '3',\n",
    "           'baseline_triplet_hard_1000' : '3',\n",
    "           'baseline_20': '.', \n",
    "           'baseline_100': '.', \n",
    "           'baseline_1000': '.', \n",
    "           'baseline_dwen_20': '^',\n",
    "           'baseline_dwen_100': '^',\n",
    "           'baseline_dwen_1000': '^',\n",
    "           'propose_20': '8',\n",
    "           'propose_100': '8',\n",
    "           'propose_1000': '8',\n",
    "           'propose_softmax_20': '1',\n",
    "           'propose_softmax_100': '1',\n",
    "           'propose_softmax_1000': '1',\n",
    "           'propose_master_triplet_loss_20': 'p',\n",
    "           'propose_master_triplet_loss_100': 'p',\n",
    "           'propose_master_triplet_loss_1000': 'p',\n",
    "           'propose_bert_20' : 's',\n",
    "           'propose_bert_100' : 's',\n",
    "           'propose_bert_1000' : 's',\n",
    "           'deepTL_20' : 'D', # P-Propose, Triplet Loss-TL\n",
    "           'deepTL_100' : 'D', # P-Propose, Triplet Loss-TL\n",
    "           'deepTL_1000' : 'D',\n",
    "           'DWEN_QL_20' : '4',\n",
    "           'DWEN_QL_100' : '4',\n",
    "           'DWEN_QL_1000' : '4',\n",
    "            'deepQL_20' : '*',\n",
    "            'deepQL_100' : '*',\n",
    "            'deepQL_1000' : '*',\n",
    "            'deepQL_weights_20' : '3',\n",
    "            'deepQL_weights_100' : '3',\n",
    "            'deepQL_weights_1000' : '3',\n",
    "            'DMS_QL_20' : '4',\n",
    "            'DMS_QL_100' : '4',\n",
    "            'DMS_QL_1000' : '4',\n",
    "            'deepCL_100': '3',\n",
    "           'deepCL_1000': '3',\n",
    "           'fasttext_100': '4',\n",
    "           'fasttext_1000': '4'\n",
    "}"
   ]
  },
  {
   "cell_type": "markdown",
   "metadata": {},
   "source": [
    "### Retrieval "
   ]
  },
  {
   "cell_type": "code",
   "execution_count": 4,
   "metadata": {
    "scrolled": true
   },
   "outputs": [],
   "source": [
    "def evaluate_rank(evaluation, method, domain, epoch, aproach, recall, recall_index, epochs, datasets, symbols, path):\n",
    "    #evaluation = Evaluation(0)\n",
    "    try:\n",
    "        if(path != ''):\n",
    "            report = evaluation.evaluate(path)\n",
    "        else:\n",
    "            report = evaluation\n",
    "        recall.append(report['1 - recall_at_5'])\n",
    "        recall.append(report['2 - recall_at_10'])\n",
    "        recall.append(report['3 - recall_at_15'])\n",
    "        recall.append(report['4 - recall_at_20'])\n",
    "        recall.append(report['5 - recall_at_25'])\n",
    "        aproach += [authors[method]] * 5\n",
    "        symbols += [markers[method]] * 5\n",
    "        datasets += [domain] * 5\n",
    "        epochs += [epoch] * 5\n",
    "        recall_index += [5, 10, 15, 20, 25]\n",
    "        print(path)\n",
    "        return report\n",
    "    except Exception as e:\n",
    "        print(e)\n",
    "        print(\"Does not exist result for: {}\".format(path))\n",
    "        return\n",
    "def create_dataframe(rank):\n",
    "    recall = [] # recall binary\n",
    "    recall_classic = [] # recall with groundtruth\n",
    "    precision = []\n",
    "    fscore = []\n",
    "    fscore_classic = []\n",
    "    aproach, recall_index, datasets, epochs, symbols = [], [], [], [], []\n",
    "    df = pd.DataFrame(columns=['recall', 'precision', 'f_score', 'top@k', 'method', 'domain', 'epoch', 'symbol'])\n",
    "\n",
    "    for epoch in ['20', '100', '1000']:\n",
    "        for domain in domains:\n",
    "            # Domain to use\n",
    "            DOMAIN = domain\n",
    "            # Dataset paths\n",
    "            DIR = 'data/processed/{}/{}'.format(DOMAIN, PREPROCESSING)\n",
    "            for method in methods[epoch]:\n",
    "                path = os.path.join(DIR, '{}_{}.txt'.format(rank, method))\n",
    "                report_recall = evaluate_rank(Evaluation(0), method, domain, epoch, aproach, recall, recall_index, epochs, datasets, symbols, path)\n",
    "                report_precision = evaluate_rank(EvaluationPrecision(0), method, domain, epoch, [], precision, [], [], [], [], path)\n",
    "#                 report_recall_classic = evaluate_rank(EvaluationRecall(0), epoch, domain, recall_classic, [], path)\n",
    "                if(report_precision != None and report_recall != None):\n",
    "                    report_fscore = evaluate_rank(EvaluationFscore().evaluate(report_precision, report_recall), method, domain, epoch, [], fscore, [], [], [], [], '')\n",
    "    \n",
    "    df['recall'] = recall\n",
    "    df['precision'] = precision\n",
    "    df['f_score'] = fscore\n",
    "    df['top@k'] = recall_index\n",
    "    df['method'] = aproach\n",
    "    df['domain'] = datasets\n",
    "    df['epoch'] = epochs\n",
    "    df['symbol'] = symbols\n",
    "    return df"
   ]
  },
  {
   "cell_type": "code",
   "execution_count": null,
   "metadata": {
    "scrolled": true
   },
   "outputs": [
    {
     "name": "stdout",
     "output_type": "stream",
     "text": [
      "[Errno 2] No such file or directory: 'data/processed/eclipse/bert/exported_rank_baseline_20.txt'\n",
      "Does not exist result for: data/processed/eclipse/bert/exported_rank_baseline_20.txt\n",
      "[Errno 2] No such file or directory: 'data/processed/eclipse/bert/exported_rank_baseline_20.txt'\n",
      "Does not exist result for: data/processed/eclipse/bert/exported_rank_baseline_20.txt\n",
      "[Errno 2] No such file or directory: 'data/processed/eclipse/bert/exported_rank_baseline_dwen_20.txt'\n",
      "Does not exist result for: data/processed/eclipse/bert/exported_rank_baseline_dwen_20.txt\n",
      "[Errno 2] No such file or directory: 'data/processed/eclipse/bert/exported_rank_baseline_dwen_20.txt'\n",
      "Does not exist result for: data/processed/eclipse/bert/exported_rank_baseline_dwen_20.txt\n",
      "[Errno 2] No such file or directory: 'data/processed/eclipse/bert/exported_rank_deepTL_20.txt'\n",
      "Does not exist result for: data/processed/eclipse/bert/exported_rank_deepTL_20.txt\n",
      "[Errno 2] No such file or directory: 'data/processed/eclipse/bert/exported_rank_deepTL_20.txt'\n",
      "Does not exist result for: data/processed/eclipse/bert/exported_rank_deepTL_20.txt\n",
      "[Errno 2] No such file or directory: 'data/processed/eclipse/bert/exported_rank_DWEN_QL_20.txt'\n",
      "Does not exist result for: data/processed/eclipse/bert/exported_rank_DWEN_QL_20.txt\n",
      "[Errno 2] No such file or directory: 'data/processed/eclipse/bert/exported_rank_DWEN_QL_20.txt'\n",
      "Does not exist result for: data/processed/eclipse/bert/exported_rank_DWEN_QL_20.txt\n",
      "[Errno 2] No such file or directory: 'data/processed/eclipse/bert/exported_rank_deepQL_weights_20.txt'\n",
      "Does not exist result for: data/processed/eclipse/bert/exported_rank_deepQL_weights_20.txt\n",
      "[Errno 2] No such file or directory: 'data/processed/eclipse/bert/exported_rank_deepQL_weights_20.txt'\n",
      "Does not exist result for: data/processed/eclipse/bert/exported_rank_deepQL_weights_20.txt\n",
      "[Errno 2] No such file or directory: 'data/processed/eclipse/bert/exported_rank_DMS_QL_20.txt'\n",
      "Does not exist result for: data/processed/eclipse/bert/exported_rank_DMS_QL_20.txt\n",
      "[Errno 2] No such file or directory: 'data/processed/eclipse/bert/exported_rank_DMS_QL_20.txt'\n",
      "Does not exist result for: data/processed/eclipse/bert/exported_rank_DMS_QL_20.txt\n",
      "[Errno 2] No such file or directory: 'data/processed/eclipse/bert/exported_rank_deepCL_20.txt'\n",
      "Does not exist result for: data/processed/eclipse/bert/exported_rank_deepCL_20.txt\n",
      "[Errno 2] No such file or directory: 'data/processed/eclipse/bert/exported_rank_deepCL_20.txt'\n",
      "Does not exist result for: data/processed/eclipse/bert/exported_rank_deepCL_20.txt\n",
      "[Errno 2] No such file or directory: 'data/processed/eclipse/bert/exported_rank_fasttext_20.txt'\n",
      "Does not exist result for: data/processed/eclipse/bert/exported_rank_fasttext_20.txt\n",
      "[Errno 2] No such file or directory: 'data/processed/eclipse/bert/exported_rank_fasttext_20.txt'\n",
      "Does not exist result for: data/processed/eclipse/bert/exported_rank_fasttext_20.txt\n",
      "[Errno 2] No such file or directory: 'data/processed/netbeans/bert/exported_rank_baseline_20.txt'\n",
      "Does not exist result for: data/processed/netbeans/bert/exported_rank_baseline_20.txt\n",
      "[Errno 2] No such file or directory: 'data/processed/netbeans/bert/exported_rank_baseline_20.txt'\n",
      "Does not exist result for: data/processed/netbeans/bert/exported_rank_baseline_20.txt\n",
      "[Errno 2] No such file or directory: 'data/processed/netbeans/bert/exported_rank_baseline_dwen_20.txt'\n",
      "Does not exist result for: data/processed/netbeans/bert/exported_rank_baseline_dwen_20.txt\n",
      "[Errno 2] No such file or directory: 'data/processed/netbeans/bert/exported_rank_baseline_dwen_20.txt'\n",
      "Does not exist result for: data/processed/netbeans/bert/exported_rank_baseline_dwen_20.txt\n",
      "[Errno 2] No such file or directory: 'data/processed/netbeans/bert/exported_rank_deepTL_20.txt'\n",
      "Does not exist result for: data/processed/netbeans/bert/exported_rank_deepTL_20.txt\n",
      "[Errno 2] No such file or directory: 'data/processed/netbeans/bert/exported_rank_deepTL_20.txt'\n",
      "Does not exist result for: data/processed/netbeans/bert/exported_rank_deepTL_20.txt\n",
      "[Errno 2] No such file or directory: 'data/processed/netbeans/bert/exported_rank_DWEN_QL_20.txt'\n",
      "Does not exist result for: data/processed/netbeans/bert/exported_rank_DWEN_QL_20.txt\n",
      "[Errno 2] No such file or directory: 'data/processed/netbeans/bert/exported_rank_DWEN_QL_20.txt'\n",
      "Does not exist result for: data/processed/netbeans/bert/exported_rank_DWEN_QL_20.txt\n",
      "[Errno 2] No such file or directory: 'data/processed/netbeans/bert/exported_rank_deepQL_weights_20.txt'\n",
      "Does not exist result for: data/processed/netbeans/bert/exported_rank_deepQL_weights_20.txt\n",
      "[Errno 2] No such file or directory: 'data/processed/netbeans/bert/exported_rank_deepQL_weights_20.txt'\n",
      "Does not exist result for: data/processed/netbeans/bert/exported_rank_deepQL_weights_20.txt\n",
      "[Errno 2] No such file or directory: 'data/processed/netbeans/bert/exported_rank_DMS_QL_20.txt'\n",
      "Does not exist result for: data/processed/netbeans/bert/exported_rank_DMS_QL_20.txt\n",
      "[Errno 2] No such file or directory: 'data/processed/netbeans/bert/exported_rank_DMS_QL_20.txt'\n",
      "Does not exist result for: data/processed/netbeans/bert/exported_rank_DMS_QL_20.txt\n",
      "[Errno 2] No such file or directory: 'data/processed/netbeans/bert/exported_rank_deepCL_20.txt'\n",
      "Does not exist result for: data/processed/netbeans/bert/exported_rank_deepCL_20.txt\n",
      "[Errno 2] No such file or directory: 'data/processed/netbeans/bert/exported_rank_deepCL_20.txt'\n",
      "Does not exist result for: data/processed/netbeans/bert/exported_rank_deepCL_20.txt\n",
      "[Errno 2] No such file or directory: 'data/processed/netbeans/bert/exported_rank_fasttext_20.txt'\n",
      "Does not exist result for: data/processed/netbeans/bert/exported_rank_fasttext_20.txt\n",
      "[Errno 2] No such file or directory: 'data/processed/netbeans/bert/exported_rank_fasttext_20.txt'\n",
      "Does not exist result for: data/processed/netbeans/bert/exported_rank_fasttext_20.txt\n",
      "[Errno 2] No such file or directory: 'data/processed/openoffice/bert/exported_rank_baseline_20.txt'\n",
      "Does not exist result for: data/processed/openoffice/bert/exported_rank_baseline_20.txt\n",
      "[Errno 2] No such file or directory: 'data/processed/openoffice/bert/exported_rank_baseline_20.txt'\n",
      "Does not exist result for: data/processed/openoffice/bert/exported_rank_baseline_20.txt\n",
      "[Errno 2] No such file or directory: 'data/processed/openoffice/bert/exported_rank_baseline_dwen_20.txt'\n",
      "Does not exist result for: data/processed/openoffice/bert/exported_rank_baseline_dwen_20.txt\n",
      "[Errno 2] No such file or directory: 'data/processed/openoffice/bert/exported_rank_baseline_dwen_20.txt'\n",
      "Does not exist result for: data/processed/openoffice/bert/exported_rank_baseline_dwen_20.txt\n",
      "[Errno 2] No such file or directory: 'data/processed/openoffice/bert/exported_rank_deepTL_20.txt'\n",
      "Does not exist result for: data/processed/openoffice/bert/exported_rank_deepTL_20.txt\n",
      "[Errno 2] No such file or directory: 'data/processed/openoffice/bert/exported_rank_deepTL_20.txt'\n",
      "Does not exist result for: data/processed/openoffice/bert/exported_rank_deepTL_20.txt\n",
      "[Errno 2] No such file or directory: 'data/processed/openoffice/bert/exported_rank_DWEN_QL_20.txt'\n",
      "Does not exist result for: data/processed/openoffice/bert/exported_rank_DWEN_QL_20.txt\n",
      "[Errno 2] No such file or directory: 'data/processed/openoffice/bert/exported_rank_DWEN_QL_20.txt'\n",
      "Does not exist result for: data/processed/openoffice/bert/exported_rank_DWEN_QL_20.txt\n",
      "[Errno 2] No such file or directory: 'data/processed/openoffice/bert/exported_rank_deepQL_weights_20.txt'\n",
      "Does not exist result for: data/processed/openoffice/bert/exported_rank_deepQL_weights_20.txt\n",
      "[Errno 2] No such file or directory: 'data/processed/openoffice/bert/exported_rank_deepQL_weights_20.txt'\n",
      "Does not exist result for: data/processed/openoffice/bert/exported_rank_deepQL_weights_20.txt\n",
      "[Errno 2] No such file or directory: 'data/processed/openoffice/bert/exported_rank_DMS_QL_20.txt'\n",
      "Does not exist result for: data/processed/openoffice/bert/exported_rank_DMS_QL_20.txt\n",
      "[Errno 2] No such file or directory: 'data/processed/openoffice/bert/exported_rank_DMS_QL_20.txt'\n",
      "Does not exist result for: data/processed/openoffice/bert/exported_rank_DMS_QL_20.txt\n",
      "[Errno 2] No such file or directory: 'data/processed/openoffice/bert/exported_rank_deepCL_20.txt'\n",
      "Does not exist result for: data/processed/openoffice/bert/exported_rank_deepCL_20.txt\n",
      "[Errno 2] No such file or directory: 'data/processed/openoffice/bert/exported_rank_deepCL_20.txt'\n",
      "Does not exist result for: data/processed/openoffice/bert/exported_rank_deepCL_20.txt\n",
      "[Errno 2] No such file or directory: 'data/processed/openoffice/bert/exported_rank_fasttext_20.txt'\n",
      "Does not exist result for: data/processed/openoffice/bert/exported_rank_fasttext_20.txt\n",
      "[Errno 2] No such file or directory: 'data/processed/openoffice/bert/exported_rank_fasttext_20.txt'\n",
      "Does not exist result for: data/processed/openoffice/bert/exported_rank_fasttext_20.txt\n",
      "[Errno 2] No such file or directory: 'data/processed/firefox/bert/exported_rank_baseline_20.txt'\n",
      "Does not exist result for: data/processed/firefox/bert/exported_rank_baseline_20.txt\n",
      "[Errno 2] No such file or directory: 'data/processed/firefox/bert/exported_rank_baseline_20.txt'\n",
      "Does not exist result for: data/processed/firefox/bert/exported_rank_baseline_20.txt\n",
      "[Errno 2] No such file or directory: 'data/processed/firefox/bert/exported_rank_baseline_dwen_20.txt'\n",
      "Does not exist result for: data/processed/firefox/bert/exported_rank_baseline_dwen_20.txt\n",
      "[Errno 2] No such file or directory: 'data/processed/firefox/bert/exported_rank_baseline_dwen_20.txt'\n",
      "Does not exist result for: data/processed/firefox/bert/exported_rank_baseline_dwen_20.txt\n",
      "[Errno 2] No such file or directory: 'data/processed/firefox/bert/exported_rank_deepTL_20.txt'\n",
      "Does not exist result for: data/processed/firefox/bert/exported_rank_deepTL_20.txt\n",
      "[Errno 2] No such file or directory: 'data/processed/firefox/bert/exported_rank_deepTL_20.txt'\n",
      "Does not exist result for: data/processed/firefox/bert/exported_rank_deepTL_20.txt\n",
      "[Errno 2] No such file or directory: 'data/processed/firefox/bert/exported_rank_DWEN_QL_20.txt'\n",
      "Does not exist result for: data/processed/firefox/bert/exported_rank_DWEN_QL_20.txt\n",
      "[Errno 2] No such file or directory: 'data/processed/firefox/bert/exported_rank_DWEN_QL_20.txt'\n",
      "Does not exist result for: data/processed/firefox/bert/exported_rank_DWEN_QL_20.txt\n",
      "[Errno 2] No such file or directory: 'data/processed/firefox/bert/exported_rank_deepQL_weights_20.txt'\n",
      "Does not exist result for: data/processed/firefox/bert/exported_rank_deepQL_weights_20.txt\n",
      "[Errno 2] No such file or directory: 'data/processed/firefox/bert/exported_rank_deepQL_weights_20.txt'\n",
      "Does not exist result for: data/processed/firefox/bert/exported_rank_deepQL_weights_20.txt\n",
      "[Errno 2] No such file or directory: 'data/processed/firefox/bert/exported_rank_DMS_QL_20.txt'\n",
      "Does not exist result for: data/processed/firefox/bert/exported_rank_DMS_QL_20.txt\n",
      "[Errno 2] No such file or directory: 'data/processed/firefox/bert/exported_rank_DMS_QL_20.txt'\n",
      "Does not exist result for: data/processed/firefox/bert/exported_rank_DMS_QL_20.txt\n",
      "[Errno 2] No such file or directory: 'data/processed/firefox/bert/exported_rank_deepCL_20.txt'\n",
      "Does not exist result for: data/processed/firefox/bert/exported_rank_deepCL_20.txt\n",
      "[Errno 2] No such file or directory: 'data/processed/firefox/bert/exported_rank_deepCL_20.txt'\n",
      "Does not exist result for: data/processed/firefox/bert/exported_rank_deepCL_20.txt\n",
      "[Errno 2] No such file or directory: 'data/processed/firefox/bert/exported_rank_fasttext_20.txt'\n",
      "Does not exist result for: data/processed/firefox/bert/exported_rank_fasttext_20.txt\n",
      "[Errno 2] No such file or directory: 'data/processed/firefox/bert/exported_rank_fasttext_20.txt'\n",
      "Does not exist result for: data/processed/firefox/bert/exported_rank_fasttext_20.txt\n"
     ]
    },
    {
     "name": "stdout",
     "output_type": "stream",
     "text": [
      "data/processed/eclipse/bert/exported_rank_baseline_100.txt\n",
      "data/processed/eclipse/bert/exported_rank_baseline_100.txt\n",
      "\n",
      "[Errno 2] No such file or directory: 'data/processed/eclipse/bert/exported_rank_baseline_dwen_100.txt'\n",
      "Does not exist result for: data/processed/eclipse/bert/exported_rank_baseline_dwen_100.txt\n",
      "[Errno 2] No such file or directory: 'data/processed/eclipse/bert/exported_rank_baseline_dwen_100.txt'\n",
      "Does not exist result for: data/processed/eclipse/bert/exported_rank_baseline_dwen_100.txt\n",
      "data/processed/eclipse/bert/exported_rank_deepTL_100.txt\n",
      "data/processed/eclipse/bert/exported_rank_deepTL_100.txt\n",
      "\n",
      "[Errno 2] No such file or directory: 'data/processed/eclipse/bert/exported_rank_DWEN_QL_100.txt'\n",
      "Does not exist result for: data/processed/eclipse/bert/exported_rank_DWEN_QL_100.txt\n",
      "[Errno 2] No such file or directory: 'data/processed/eclipse/bert/exported_rank_DWEN_QL_100.txt'\n",
      "Does not exist result for: data/processed/eclipse/bert/exported_rank_DWEN_QL_100.txt\n",
      "data/processed/eclipse/bert/exported_rank_deepQL_weights_100.txt\n",
      "data/processed/eclipse/bert/exported_rank_deepQL_weights_100.txt\n",
      "\n",
      "[Errno 2] No such file or directory: 'data/processed/eclipse/bert/exported_rank_DMS_QL_100.txt'\n",
      "Does not exist result for: data/processed/eclipse/bert/exported_rank_DMS_QL_100.txt\n",
      "[Errno 2] No such file or directory: 'data/processed/eclipse/bert/exported_rank_DMS_QL_100.txt'\n",
      "Does not exist result for: data/processed/eclipse/bert/exported_rank_DMS_QL_100.txt\n",
      "[Errno 2] No such file or directory: 'data/processed/eclipse/bert/exported_rank_deepCL_100.txt'\n",
      "Does not exist result for: data/processed/eclipse/bert/exported_rank_deepCL_100.txt\n",
      "[Errno 2] No such file or directory: 'data/processed/eclipse/bert/exported_rank_deepCL_100.txt'\n",
      "Does not exist result for: data/processed/eclipse/bert/exported_rank_deepCL_100.txt\n",
      "[Errno 2] No such file or directory: 'data/processed/eclipse/bert/exported_rank_fasttext_100.txt'\n",
      "Does not exist result for: data/processed/eclipse/bert/exported_rank_fasttext_100.txt\n",
      "[Errno 2] No such file or directory: 'data/processed/eclipse/bert/exported_rank_fasttext_100.txt'\n",
      "Does not exist result for: data/processed/eclipse/bert/exported_rank_fasttext_100.txt\n",
      "data/processed/netbeans/bert/exported_rank_baseline_100.txt\n",
      "data/processed/netbeans/bert/exported_rank_baseline_100.txt\n",
      "\n",
      "[Errno 2] No such file or directory: 'data/processed/netbeans/bert/exported_rank_baseline_dwen_100.txt'\n",
      "Does not exist result for: data/processed/netbeans/bert/exported_rank_baseline_dwen_100.txt\n",
      "[Errno 2] No such file or directory: 'data/processed/netbeans/bert/exported_rank_baseline_dwen_100.txt'\n",
      "Does not exist result for: data/processed/netbeans/bert/exported_rank_baseline_dwen_100.txt\n",
      "data/processed/netbeans/bert/exported_rank_deepTL_100.txt\n",
      "data/processed/netbeans/bert/exported_rank_deepTL_100.txt\n",
      "\n",
      "[Errno 2] No such file or directory: 'data/processed/netbeans/bert/exported_rank_DWEN_QL_100.txt'\n",
      "Does not exist result for: data/processed/netbeans/bert/exported_rank_DWEN_QL_100.txt\n",
      "[Errno 2] No such file or directory: 'data/processed/netbeans/bert/exported_rank_DWEN_QL_100.txt'\n",
      "Does not exist result for: data/processed/netbeans/bert/exported_rank_DWEN_QL_100.txt\n"
     ]
    }
   ],
   "source": [
    "df = create_dataframe('exported_rank')\n",
    "df_master = create_dataframe('exported_rank_master')"
   ]
  },
  {
   "cell_type": "markdown",
   "metadata": {},
   "source": [
    "### Markers\n",
    "\n",
    "https://matplotlib.org/3.1.1/api/markers_api.html"
   ]
  },
  {
   "cell_type": "markdown",
   "metadata": {},
   "source": [
    "# Duplicate Test"
   ]
  },
  {
   "cell_type": "markdown",
   "metadata": {},
   "source": [
    "## 100 epochs"
   ]
  },
  {
   "cell_type": "code",
   "execution_count": null,
   "metadata": {},
   "outputs": [],
   "source": [
    "df_100 = df[df['epoch'] == '100']"
   ]
  },
  {
   "cell_type": "code",
   "execution_count": null,
   "metadata": {
    "scrolled": false
   },
   "outputs": [],
   "source": [
    "import matplotlib.ticker as mticker\n",
    "\n",
    "MEDIUM_SIZE = 16\n",
    "SMALL_SIZE = 14\n",
    "\n",
    "plt.rc('font', size=SMALL_SIZE)\n",
    "plt.rc('axes', labelsize=MEDIUM_SIZE)    # fontsize of the x and y labels\n",
    "plt.rc('xtick', labelsize=MEDIUM_SIZE)    # fontsize of the tick labels\n",
    "plt.rc('ytick', labelsize=MEDIUM_SIZE)    # fontsize of the tick labels\n",
    "\n",
    "#plt.rc('legend', fontsize=SMALL_SIZE)    # legend fontsize\n",
    "#plt.rc('figure', titlesize=BIGGER_SIZE)  # fontsize of the figure title\n",
    "\n",
    "def build_100_epochs(metric):\n",
    "    # equivalent but more general\n",
    "    fig, axes = plt.subplots(nrows=1, ncols=len(domains), figsize=(22, 5))\n",
    "\n",
    "    for index, domain in enumerate(domains):\n",
    "        aproachs = df_100['method'].unique()\n",
    "        for method in aproachs:\n",
    "            experiment = df_100[(df_100['method'] == method) & (df_100['domain'] == domain)]\n",
    "            if experiment.shape[0] > 0:\n",
    "                experiment.plot(x='top@k', y=metric, label=method, ax=axes[index], \n",
    "                                marker=experiment['symbol'].values[0], markersize=12)\n",
    "\n",
    "        axes[index].set_ylabel('{} Rate'.format(metric))\n",
    "        axes[index].set_xlabel('K')\n",
    "        text = axes[index].set_title('{}'.format(domain))\n",
    "        lgd = axes[index].legend(loc='upper center', bbox_to_anchor=(0.5, -0.18))\n",
    "        formatter = mticker.ScalarFormatter()\n",
    "        axes[index].xaxis.set_major_formatter(formatter)\n",
    "        axes[index].xaxis.set_major_locator(mticker.FixedLocator([5, 10, 15, 20, 25]))\n",
    "        axes[index].grid(True, axis='y', alpha=.5)\n",
    "\n",
    "    fig.savefig('retrieval_100.png', bbox_inches=\"tight\")"
   ]
  },
  {
   "cell_type": "code",
   "execution_count": null,
   "metadata": {},
   "outputs": [],
   "source": [
    "build_100_epochs('recall')"
   ]
  },
  {
   "cell_type": "code",
   "execution_count": null,
   "metadata": {
    "scrolled": true
   },
   "outputs": [],
   "source": [
    "df_100"
   ]
  },
  {
   "cell_type": "markdown",
   "metadata": {},
   "source": [
    "## 1000 epochs"
   ]
  },
  {
   "cell_type": "code",
   "execution_count": null,
   "metadata": {},
   "outputs": [],
   "source": [
    "df_1000 = df[df['epoch'] == '1000']"
   ]
  },
  {
   "cell_type": "code",
   "execution_count": null,
   "metadata": {},
   "outputs": [],
   "source": [
    "import matplotlib.ticker as mticker\n",
    "\n",
    "MEDIUM_SIZE = 16\n",
    "SMALL_SIZE = 14\n",
    "\n",
    "plt.rc('font', size=SMALL_SIZE)\n",
    "plt.rc('axes', labelsize=MEDIUM_SIZE)    # fontsize of the x and y labels\n",
    "plt.rc('xtick', labelsize=MEDIUM_SIZE)    # fontsize of the tick labels\n",
    "plt.rc('ytick', labelsize=MEDIUM_SIZE)    # fontsize of the tick labels\n",
    "\n",
    "#plt.rc('legend', fontsize=SMALL_SIZE)    # legend fontsize\n",
    "#plt.rc('figure', titlesize=BIGGER_SIZE)  # fontsize of the figure title\n",
    "def build_1000_epochs(metric):\n",
    "    # equivalent but more general\n",
    "    fig, axes = plt.subplots(nrows=1, ncols=len(domains), figsize=(22, 5))\n",
    "\n",
    "    for index, domain in enumerate(domains):\n",
    "        aproachs = df['method'].unique()\n",
    "        for method in aproachs:\n",
    "            experiment = df_1000[(df_1000['method'] == method) & (df_1000['domain'] == domain)]\n",
    "            if experiment.shape[0] > 0:\n",
    "                experiment.plot(x='top@k', y=metric, label=method, ax=axes[index], \n",
    "                                marker=experiment['symbol'].values[0], markersize=12)\n",
    "\n",
    "        axes[index].set_ylabel('{} Rate'.format(metric))\n",
    "        axes[index].set_xlabel('K')\n",
    "        text = axes[index].set_title('{}'.format(domain))\n",
    "        lgd = axes[index].legend(loc='upper center', bbox_to_anchor=(0.5, -0.18))\n",
    "        formatter = mticker.ScalarFormatter()\n",
    "        axes[index].xaxis.set_major_formatter(formatter)\n",
    "        axes[index].xaxis.set_major_locator(mticker.FixedLocator([5, 10, 15, 20, 25]))\n",
    "        axes[index].grid(True, axis='y', alpha=.5)\n",
    "\n",
    "    fig.savefig('retrieval_1000.png', bbox_inches=\"tight\")"
   ]
  },
  {
   "cell_type": "code",
   "execution_count": null,
   "metadata": {},
   "outputs": [],
   "source": [
    "build_1000_epochs('recall')"
   ]
  },
  {
   "cell_type": "code",
   "execution_count": null,
   "metadata": {
    "scrolled": true
   },
   "outputs": [],
   "source": [
    "df_1000"
   ]
  },
  {
   "cell_type": "code",
   "execution_count": null,
   "metadata": {},
   "outputs": [],
   "source": [
    "import _pickle as pickle\n",
    "\n",
    "def load_loss(method, base):\n",
    "    loss_dir = 'data/processed/{}/{}'.format(base, 'bert')\n",
    "    loss_dir = os.path.join(loss_dir,'{}_log.pkl'.format(method))\n",
    "\n",
    "    with open(loss_dir, 'rb') as f:\n",
    "        loss = pickle.load(f)\n",
    "    return loss"
   ]
  },
  {
   "cell_type": "code",
   "execution_count": null,
   "metadata": {},
   "outputs": [],
   "source": [
    " def validation_loss(loss, val_loss):\n",
    "        plt.plot(loss, label='loss')\n",
    "        plt.plot(val_loss, label='val_loss')\n",
    "        plt.title('model loss')\n",
    "        plt.ylabel('loss')\n",
    "        plt.xlabel('epoch')\n",
    "        plt.legend(['train', 'test'], loc='upper left')\n",
    "        plt.show()\n",
    "        \n",
    "def validation_loss_grid(loss, val_loss, name, lines, col, index):\n",
    "        ax = plt.subplot(lines, col, index)\n",
    "        plt.plot(loss, label='loss')\n",
    "        plt.plot(val_loss, label='val_loss')\n",
    "        plt.title(name)\n",
    "        plt.ylabel('loss')\n",
    "        plt.xlabel('epoch')\n",
    "        plt.legend(['train', 'test'], loc='upper left')\n",
    "        plt.grid(True)\n",
    "        return ax"
   ]
  },
  {
   "cell_type": "code",
   "execution_count": null,
   "metadata": {},
   "outputs": [],
   "source": [
    "def plot_loss(base, epochs, limit_epochs=1000):\n",
    "\n",
    "    fig, axes = plt.subplots(nrows=n_rows, ncols=n_cols, figsize=(22, 20))\n",
    "\n",
    "    index_grid = 1\n",
    "    for row, model in enumerate(['deepQL_weights_{}'.format(epochs),\n",
    "                                 'deepCL_{}'.format(epochs),\n",
    "                                 'baseline_{}'.format(epochs),\n",
    "                                 'DMS_QL_{}'.format(epochs), \n",
    "                                 'DWEN_QL_{}'.format(epochs),\n",
    "                                'deepTL_{}'.format(epochs)]):\n",
    "        try:\n",
    "            ql_loss = load_loss(model, base)\n",
    "            for _, (loss_name, index) in enumerate(zip(['loss', 'TL', 'TL_pos', 'TL_neg', 'TL_centroid'], [0, 5, 6, 7, 8])):\n",
    "                try:\n",
    "                    train = [r[index] for r in ql_loss['train']][:limit_epochs]\n",
    "                    test = [r[index] for r in ql_loss['test']][:limit_epochs]\n",
    "                    ax_r = validation_loss_grid(train, test, loss_name, n_rows, n_cols, index_grid)\n",
    "                    if(index_grid == 1 or (index_grid % n_cols == 1)):\n",
    "                        ax = ax_r\n",
    "                except: pass\n",
    "                index_grid+=1\n",
    "            \n",
    "            plt.text(0, 1.5, model,\n",
    "                 horizontalalignment='center',\n",
    "                 verticalalignment='center',\n",
    "                 transform=ax.transAxes,\n",
    "                 fontsize=20)\n",
    "        except:\n",
    "            pass\n",
    "\n",
    "\n",
    "    plt.subplots_adjust(hspace=1.25,\n",
    "                        wspace=0.35)\n",
    "    plt.show()"
   ]
  },
  {
   "cell_type": "code",
   "execution_count": null,
   "metadata": {},
   "outputs": [],
   "source": [
    "n_rows = 5\n",
    "n_cols = 5\n",
    "limit_epochs = 200\n",
    "epochs = 1000"
   ]
  },
  {
   "cell_type": "markdown",
   "metadata": {},
   "source": [
    "### Eclipse "
   ]
  },
  {
   "cell_type": "code",
   "execution_count": null,
   "metadata": {},
   "outputs": [],
   "source": [
    "plot_loss('eclipse', 100, limit_epochs=100)"
   ]
  },
  {
   "cell_type": "code",
   "execution_count": null,
   "metadata": {},
   "outputs": [],
   "source": [
    "plot_loss('eclipse', 1000)"
   ]
  },
  {
   "cell_type": "markdown",
   "metadata": {},
   "source": [
    "### Netbeans"
   ]
  },
  {
   "cell_type": "code",
   "execution_count": null,
   "metadata": {},
   "outputs": [],
   "source": [
    "plot_loss('netbeans', 100, limit_epochs=100)"
   ]
  },
  {
   "cell_type": "code",
   "execution_count": null,
   "metadata": {},
   "outputs": [],
   "source": [
    "plot_loss('netbeans', epochs)"
   ]
  },
  {
   "cell_type": "markdown",
   "metadata": {},
   "source": [
    "### Open Office"
   ]
  },
  {
   "cell_type": "code",
   "execution_count": null,
   "metadata": {},
   "outputs": [],
   "source": [
    "plot_loss('openoffice', 100, limit_epochs=100)"
   ]
  },
  {
   "cell_type": "code",
   "execution_count": null,
   "metadata": {},
   "outputs": [],
   "source": [
    "plot_loss('openoffice', 1000)"
   ]
  },
  {
   "cell_type": "markdown",
   "metadata": {},
   "source": [
    "### Firefox"
   ]
  },
  {
   "cell_type": "code",
   "execution_count": null,
   "metadata": {},
   "outputs": [],
   "source": [
    "plot_loss('firefox', 100, limit_epochs=100)"
   ]
  },
  {
   "cell_type": "code",
   "execution_count": null,
   "metadata": {},
   "outputs": [],
   "source": [
    "plot_loss('firefox', 1000, limit_epochs=1000)"
   ]
  },
  {
   "cell_type": "markdown",
   "metadata": {},
   "source": [
    "### How TL is the most important during the learning?\n",
    "\n",
    "Count how many time a model choiced a loss as the most important loss."
   ]
  },
  {
   "cell_type": "code",
   "execution_count": null,
   "metadata": {},
   "outputs": [],
   "source": [
    "'''\n",
    "    deepQL_weights_1000\n",
    "    DMS_QL_1000\n",
    "    DWEN_QL_1000\n",
    "    DeepTL_100\n",
    "'''\n",
    "ql_loss = load_loss('deepTL_1000', 'eclipse')"
   ]
  },
  {
   "cell_type": "code",
   "execution_count": null,
   "metadata": {},
   "outputs": [],
   "source": [
    "len(ql_loss['train'])"
   ]
  },
  {
   "cell_type": "markdown",
   "metadata": {},
   "source": [
    "#### Triplet Loss with weights"
   ]
  },
  {
   "cell_type": "code",
   "execution_count": null,
   "metadata": {},
   "outputs": [],
   "source": [
    "ql_loss['train']"
   ]
  },
  {
   "cell_type": "code",
   "execution_count": null,
   "metadata": {},
   "outputs": [],
   "source": [
    "train = [r for r in ql_loss['train']]\n",
    "test = [r for r in ql_loss['test']]\n",
    "validation_loss(train, test)"
   ]
  },
  {
   "cell_type": "markdown",
   "metadata": {},
   "source": [
    "#### Triplet loss"
   ]
  },
  {
   "cell_type": "code",
   "execution_count": null,
   "metadata": {},
   "outputs": [],
   "source": [
    "train = [r[5] for r in ql_loss['train']][:limit_epochs]\n",
    "test = [r[5] for r in ql_loss['test']][:limit_epochs]\n",
    "\n",
    "validation_loss(train, test)"
   ]
  },
  {
   "cell_type": "markdown",
   "metadata": {},
   "source": [
    "#### Triplet loss pos"
   ]
  },
  {
   "cell_type": "code",
   "execution_count": null,
   "metadata": {},
   "outputs": [],
   "source": [
    "train = [r[6] for r in ql_loss['train']]\n",
    "test = [r[6] for r in ql_loss['test']]\n",
    "\n",
    "validation_loss(train, test)"
   ]
  },
  {
   "cell_type": "markdown",
   "metadata": {},
   "source": [
    "#### Triplet loss neg"
   ]
  },
  {
   "cell_type": "code",
   "execution_count": null,
   "metadata": {},
   "outputs": [],
   "source": [
    "train = [r[7] for r in ql_loss['train']]\n",
    "test = [r[7] for r in ql_loss['test']]\n",
    "\n",
    "validation_loss(train, test)"
   ]
  },
  {
   "cell_type": "markdown",
   "metadata": {},
   "source": [
    "#### Triplet loss centroids"
   ]
  },
  {
   "cell_type": "code",
   "execution_count": null,
   "metadata": {},
   "outputs": [],
   "source": [
    "train = [r[8] for r in ql_loss['train']]\n",
    "test = [r[8] for r in ql_loss['test']]\n",
    "\n",
    "validation_loss(train, test)"
   ]
  },
  {
   "cell_type": "markdown",
   "metadata": {},
   "source": [
    "### Classification"
   ]
  },
  {
   "cell_type": "code",
   "execution_count": null,
   "metadata": {
    "scrolled": true
   },
   "outputs": [],
   "source": [
    "import _pickle as pickle\n",
    "\n",
    "rows = []\n",
    "\n",
    "for epoch in ['100', '1000']:\n",
    "    for domain in domains:\n",
    "        # Dataset paths\n",
    "        DIR = 'data/processed/{}/{}/'.format(domain, PREPROCESSING)\n",
    "\n",
    "        for method in methods[epoch]:\n",
    "            path = os.path.join(DIR, 'classification_{}.pkl'.format(method))\n",
    "\n",
    "            try:\n",
    "                with open(path, 'rb') as f:\n",
    "                    result = pickle.load(f)\n",
    "\n",
    "                print(path)\n",
    "\n",
    "                rows.append({ 'autor': authors[result['method']], 'acurácia' : result['acc_test'], 'roc/auc' : result['roc_test'],  \n",
    "                             'domain' : domain })\n",
    "            except:\n",
    "                print(\"Does not exist result for: {}\".format(path))\n",
    "                pass\n",
    "    \n",
    "df_cls = pd.DataFrame(data=rows, columns=['autor', 'acurácia', 'roc/auc', 'domain'])"
   ]
  },
  {
   "cell_type": "code",
   "execution_count": null,
   "metadata": {},
   "outputs": [],
   "source": [
    "fig, axes = plt.subplots(nrows=len(domains), ncols=2, figsize=(15, 15))\n",
    "\n",
    "for row, domain in enumerate(domains): \n",
    "    plt.text(1.15, 1.08, domain,\n",
    "         horizontalalignment='center',\n",
    "         fontsize=20,\n",
    "         transform = axes[row, 0].transAxes)\n",
    "    ax = df_cls[df_cls['domain'] == domain].set_index('autor')[['acurácia']].plot.barh(ax=axes[row, 0])\n",
    "    #ax.set_title(domain)\n",
    "    ax = df_cls[df_cls['domain'] == domain].set_index('autor')[['roc/auc']].plot.barh(ax=axes[row, 1], color='g')\n",
    "    ax.get_yaxis().set_visible(False)\n",
    "    #ax.set_title(domain)\n",
    "    \n",
    "plt.subplots_adjust(hspace=0.55,\n",
    "                    wspace=0.35)"
   ]
  }
 ],
 "metadata": {
  "kernelspec": {
   "display_name": "Python 3",
   "language": "python",
   "name": "python3"
  },
  "language_info": {
   "codemirror_mode": {
    "name": "ipython",
    "version": 3
   },
   "file_extension": ".py",
   "mimetype": "text/x-python",
   "name": "python",
   "nbconvert_exporter": "python",
   "pygments_lexer": "ipython3",
   "version": "3.5.2"
  }
 },
 "nbformat": 4,
 "nbformat_minor": 2
}
