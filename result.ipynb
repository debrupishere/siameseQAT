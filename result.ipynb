{
 "cells": [
  {
   "cell_type": "markdown",
   "metadata": {},
   "source": [
    "# Result"
   ]
  },
  {
   "cell_type": "code",
   "execution_count": 1,
   "metadata": {},
   "outputs": [],
   "source": [
    "import os\n",
    "import numpy as np\n",
    "import pandas as pd\n",
    "import matplotlib.pyplot as plt\n",
    "\n",
    "import sys\n",
    "nb_dir = os.path.split(os.getcwd())[0]\n",
    "if nb_dir not in sys.path:\n",
    "    sys.path.append(nb_dir)\n",
    "\n",
    "%matplotlib inline"
   ]
  },
  {
   "cell_type": "code",
   "execution_count": 2,
   "metadata": {},
   "outputs": [],
   "source": [
    "from methods.evaluation import Evaluation"
   ]
  },
  {
   "cell_type": "code",
   "execution_count": 3,
   "metadata": {},
   "outputs": [],
   "source": [
    "# Domain to use\n",
    "DOMAIN = 'eclipse'\n",
    "# Dataset paths\n",
    "DIR = 'data/processed/{}'.format(DOMAIN)"
   ]
  },
  {
   "cell_type": "code",
   "execution_count": 15,
   "metadata": {},
   "outputs": [
    {
     "name": "stdout",
     "output_type": "stream",
     "text": [
      "data/processed/eclipse/exported_rank_baseline.txt\n",
      "data/processed/eclipse/exported_rank_doc2vec.txt\n",
      "data/processed/eclipse/exported_rank_fasttext.txt\n"
     ]
    }
   ],
   "source": [
    "recall = []\n",
    "df = pd.DataFrame(columns=['method', 'acc', 'recall@k'])\n",
    "methods, recall_index = [], []\n",
    "for method in ['baseline', 'doc2vec', 'fasttext']:\n",
    "    evaluation = Evaluation(0)\n",
    "    path = os.path.join(DIR, 'exported_rank_{}.txt'.format(method))\n",
    "    print(path)\n",
    "    report = evaluation.evaluate(path)\n",
    "    recall.append(report['1 - recall_at_5'])\n",
    "    recall.append(report['2 - recall_at_10'])\n",
    "    recall.append(report['3 - recall_at_15'])\n",
    "    recall.append(report['4 - recall_at_20'])\n",
    "    recall.append(report['5 - recall_at_25'])\n",
    "    methods += [method] * 5\n",
    "    recall_index += [5, 10, 15, 20, 25]\n",
    "\n",
    "df['acc'] = recall\n",
    "df['recall@k'] = recall_index\n",
    "\n",
    "df['method'] = methods"
   ]
  },
  {
   "cell_type": "code",
   "execution_count": 16,
   "metadata": {},
   "outputs": [
    {
     "data": {
      "image/png": "[encoded data removed]",
      "text/plain": [
       "<Figure size 432x288 with 1 Axes>"
      ]
     },
     "metadata": {
      "needs_background": "light"
     },
     "output_type": "display_data"
    }
   ],
   "source": [
    "import matplotlib.ticker as mticker\n",
    "\n",
    "methods = df['method'].unique()\n",
    "ax = None\n",
    "for method in methods:\n",
    "    if ax:\n",
    "        ax = df[df['method'] == method].plot(x='recall@k', y='acc', label=method, ax=ax)\n",
    "    else:\n",
    "        ax = df[df['method'] == method].plot(x='recall@k', y='acc', label=method)\n",
    "if ax:\n",
    "    ax.set_title('{} dataset'.format(DOMAIN))\n",
    "    formatter = mticker.ScalarFormatter()\n",
    "    ax.xaxis.set_major_formatter(formatter)\n",
    "    ax.xaxis.set_major_locator(mticker.FixedLocator([5, 10, 15, 20, 25]))\n",
    "ax = None"
   ]
  }
 ],
 "metadata": {
  "kernelspec": {
   "display_name": "Python 3",
   "language": "python",
   "name": "python3"
  },
  "language_info": {
   "codemirror_mode": {
    "name": "ipython",
    "version": 3
   },
   "file_extension": ".py",
   "mimetype": "text/x-python",
   "name": "python",
   "nbconvert_exporter": "python",
   "pygments_lexer": "ipython3",
   "version": "3.5.2"
  }
 },
 "nbformat": 4,
 "nbformat_minor": 2
}
