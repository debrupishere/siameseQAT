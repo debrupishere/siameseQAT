{
 "cells": [
  {
   "cell_type": "code",
   "execution_count": 1,
   "metadata": {},
   "outputs": [],
   "source": [
    "import re\n",
    "import numpy as np\n",
    "import pandas as pd\n",
    "\n",
    "import os\n",
    "from tqdm import tqdm\n",
    "import matplotlib.pyplot as plt\n",
    "import sys\n",
    "nb_dir = os.path.split(os.getcwd())[0]\n",
    "if nb_dir not in sys.path:\n",
    "    sys.path.append(nb_dir)\n",
    "    \n",
    "%matplotlib inline"
   ]
  },
  {
   "cell_type": "code",
   "execution_count": 2,
   "metadata": {},
   "outputs": [
    {
     "name": "stderr",
     "output_type": "stream",
     "text": [
      "Using TensorFlow backend.\n"
     ]
    }
   ],
   "source": [
    "from methods.baseline import Baseline\n",
    "from methods.experiments import Experiment\n",
    "from methods.evaluation import Evaluation\n",
    "from methods.retrieval import Retrieval"
   ]
  },
  {
   "cell_type": "code",
   "execution_count": 3,
   "metadata": {},
   "outputs": [],
   "source": [
    "MAX_SEQUENCE_LENGTH_T = 20 # 40\n",
    "MAX_SEQUENCE_LENGTH_D = 200 # 200\n",
    "EMBEDDING_DIM = 300\n",
    "MAX_NB_WORDS = 2000"
   ]
  },
  {
   "cell_type": "code",
   "execution_count": 4,
   "metadata": {},
   "outputs": [],
   "source": [
    "# Domain to use\n",
    "DOMAIN = 'eclipse'\n",
    "# Dataset paths\n",
    "DIR = 'data/processed/{}'.format(DOMAIN)\n",
    "DIR_PAIRS = 'data/normalized/{}'.format(DOMAIN)\n",
    "DATASET = os.path.join('data/normalized/{}'.format(DOMAIN), '{}.csv'.format(DOMAIN))"
   ]
  },
  {
   "cell_type": "code",
   "execution_count": 5,
   "metadata": {},
   "outputs": [],
   "source": [
    "baseline = Baseline(DIR, DATASET, MAX_SEQUENCE_LENGTH_T, MAX_SEQUENCE_LENGTH_D)\n",
    "evaluation = Evaluation(verbose=0)\n",
    "retrieval = Retrieval()\n",
    "experiment = Experiment(baseline, evaluation)"
   ]
  },
  {
   "cell_type": "code",
   "execution_count": 6,
   "metadata": {},
   "outputs": [
    {
     "name": "stdout",
     "output_type": "stream",
     "text": [
      "Creating the buckets...\n"
     ]
    },
    {
     "data": {
      "application/vnd.jupyter.widget-view+json": {
       "model_id": "0024ed1be58f40968e102d5c5e0645c5",
       "version_major": 2,
       "version_minor": 0
      },
      "text/plain": [
       "HBox(children=(IntProgress(value=0, max=322339), HTML(value='')))"
      ]
     },
     "metadata": {},
     "output_type": "display_data"
    },
    {
     "name": "stdout",
     "output_type": "stream",
     "text": [
      "\n"
     ]
    },
    {
     "data": {
      "application/vnd.jupyter.widget-view+json": {
       "model_id": "43fd7736431e4715910579b82b0d4ab7",
       "version_major": 2,
       "version_minor": 0
      },
      "text/plain": [
       "HBox(children=(IntProgress(value=0, max=39545), HTML(value='')))"
      ]
     },
     "metadata": {},
     "output_type": "display_data"
    },
    {
     "name": "stdout",
     "output_type": "stream",
     "text": [
      "\n"
     ]
    }
   ],
   "source": [
    "experiment.set_retrieval(retrieval, baseline, DOMAIN)"
   ]
  },
  {
   "cell_type": "code",
   "execution_count": 7,
   "metadata": {},
   "outputs": [
    {
     "name": "stdout",
     "output_type": "stream",
     "text": [
      "Reading bug ids\n"
     ]
    }
   ],
   "source": [
    "experiment.load_ids()"
   ]
  },
  {
   "cell_type": "code",
   "execution_count": 8,
   "metadata": {},
   "outputs": [
    {
     "data": {
      "text/plain": [
       "361006"
      ]
     },
     "execution_count": 8,
     "metadata": {},
     "output_type": "execute_result"
    }
   ],
   "source": [
    "len(baseline.bug_ids)"
   ]
  },
  {
   "cell_type": "code",
   "execution_count": 9,
   "metadata": {},
   "outputs": [
    {
     "data": {
      "application/vnd.jupyter.widget-view+json": {
       "model_id": "0e13297d67b7466794d7531d92216bbb",
       "version_major": 2,
       "version_minor": 0
      },
      "text/plain": [
       "HBox(children=(IntProgress(value=0, max=361006), HTML(value='')))"
      ]
     },
     "metadata": {},
     "output_type": "display_data"
    },
    {
     "name": "stdout",
     "output_type": "stream",
     "text": [
      "\n"
     ]
    },
    {
     "data": {
      "application/vnd.jupyter.widget-view+json": {
       "model_id": "11f03eb92c85428a882f65c4bc9820e0",
       "version_major": 2,
       "version_minor": 0
      },
      "text/plain": [
       "HBox(children=(IntProgress(value=1, bar_style='info', max=1), HTML(value='')))"
      ]
     },
     "metadata": {},
     "output_type": "display_data"
    },
    {
     "name": "stdout",
     "output_type": "stream",
     "text": [
      "\n"
     ]
    }
   ],
   "source": [
    "experiment.load_bugs()"
   ]
  },
  {
   "cell_type": "code",
   "execution_count": 10,
   "metadata": {},
   "outputs": [
    {
     "data": {
      "application/vnd.jupyter.widget-view+json": {
       "model_id": "3570624ac2c643ff9deedacef4b7e1c3",
       "version_major": 2,
       "version_minor": 0
      },
      "text/plain": [
       "HBox(children=(IntProgress(value=0, max=321536), HTML(value='')))"
      ]
     },
     "metadata": {},
     "output_type": "display_data"
    },
    {
     "name": "stdout",
     "output_type": "stream",
     "text": [
      "\n"
     ]
    }
   ],
   "source": [
    "issues_by_buckets = experiment.get_buckets_for_bugs()"
   ]
  },
  {
   "cell_type": "code",
   "execution_count": 11,
   "metadata": {},
   "outputs": [
    {
     "name": "stdout",
     "output_type": "stream",
     "text": [
      "Reading train data\n",
      "Reading bug ids\n",
      "CPU times: user 5min 15s, sys: 92.6 ms, total: 5min 15s\n",
      "Wall time: 5min 22s\n"
     ]
    }
   ],
   "source": [
    "%%time\n",
    "\n",
    "experiment.prepare_dataset(issues_by_buckets, path_train='train_chronological', path_test='test_chronological')"
   ]
  },
  {
   "cell_type": "code",
   "execution_count": 12,
   "metadata": {},
   "outputs": [],
   "source": [
    "df = pd.read_csv(DATASET)"
   ]
  },
  {
   "cell_type": "code",
   "execution_count": 13,
   "metadata": {},
   "outputs": [
    {
     "data": {
      "text/plain": [
       "array([['cant run new \"Eclipse Application\" run configuration with plugins from workspace',\n",
       "        'Build ID: I20081211-1908\\n\\nSteps To Reproduce:\\n1. Create plugin projects\\n2. Create a new \"Eclipse Application\" with workspaces plugins\\n3. Run it\\n\\n\\nMore information:\\nWith cocoa x86-64 version configured to use mac os x jre 1.6 (in Info.plist).\\nI have some plugin projects in my workspace.\\nHere is the crash report :\\nProcess:         eclipse [1741]\\nPath:            /eclipses/versions/eclipse-3.5M4/Eclipse.app/Contents/MacOS/eclipse\\nIdentifier:      org.eclipse.eclipse\\nVersion:         3.4 (3.4)\\nCode Type:       X86-64 (Native)\\nParent Process:  launchd [139]\\n\\nDate/Time:       2009-01-09 18:33:43.735 +0100\\nOS Version:      Mac OS X 10.5.6 (9G55)\\nReport Version:  6\\n\\nException Type:  EXC_BAD_ACCESS (SIGSEGV)\\nException Codes: KERN_INVALID_ADDRESS at 0x0000000000000000\\nCrashed Thread:  7\\n\\nApplication Specific Information:\\n\\nJava information:\\n Exception type: Bus Error (0xa) at pc=0x0000000111b25767\\n\\n Java VM: Java HotSpot(TM) 64-Bit Server VM (1.6.0_07-b06-57 mixed mode macosx-amd64)\\n\\nCurrent thread (0x0000000112843800):  JavaThread \"CompilerThread1\" daemon [_thread_in_native, id=1177579520, stack(0x0000000146207000,0x0000000146307000)]\\nStack: [0x0000000146207000,0x0000000146307000]\\n\\nCurrent CompileTask:\\nC2:815      org.eclipse.core.internal.dtree.DataTreeNode.forwardDeltaWith([Lorg/eclipse/core/internal/dtree/AbstractDataTreeNode;[Lorg/eclipse/core/internal/dtree/AbstractDataTreeNode;Lorg/eclipse/core/internal/dtree/IComparator;)[Lorg/eclipse/core/internal/dtree/AbstractDataTreeNode; (469 bytes)\\n\\n\\nJava Threads: ( => current thread )\\n  0x0000000112f36000 JavaThread \"Worker-9\" [_thread_blocked, id=1199513600, stack(0x00000001476f2000,0x00000001477f2000)]\\n  0x0000000112ee0800 JavaThread \"Worker-7\" [_thread_in_vm, id=1300357120, stack(0x000000014d71e000,0x000000014d81e000)]\\n  0x0000000112881000 JavaThread \"Worker-2\" [_thread_blocked, id=1307496448, stack(0x000000014dded000,0x000000014deed000)]\\n  0x0000000112c40000 JavaThread \"org.eclipse.jdt.internal.ui.text.JavaReconciler\" daemon [_thread_blocked, id=1415667712, stack(0x0000000154516000,0x0000000154616000)]\\n  0x0000000112b49000 JavaThread \"Java indexing\" daemon [_thread_blocked, id=1404731392, stack(0x0000000153aa8000,0x0000000153ba8000)]\\n  0x0000000112b2b800 JavaThread \"Bundle File Closer\" daemon [_thread_blocked, id=1374699520, stack(0x0000000151e04000,0x0000000151f04000)]\\n  0x00000001128d0800 JavaThread \"Framework Event Dispatcher\" daemon [_thread_blocked, id=1226199040, stack(0x0000000149065000,0x0000000149165000)]\\n  0x00000001128ca000 JavaThread \"Start Level Event Dispatcher\" daemon [_thread_blocked, id=1206927360, stack(0x0000000147e04000,0x0000000147f04000)]\\n  0x00000001128c5000 JavaThread \"State Data Manager\" daemon [_thread_blocked, id=1205866496, stack(0x0000000147d01000,0x0000000147e01000)]\\n  0x0000000112844800 JavaThread \"Low Memory Detector\" daemon [_thread_blocked, id=1178640384, stack(0x000000014630a000,0x000000014640a000)]\\n=>0x0000000112843800 JavaThread \"CompilerThread1\" daemon [_thread_in_native, id=1177579520, stack(0x0000000146207000,0x0000000146307000)]\\n  0x0000000112841800 JavaThread \"CompilerThread0\" daemon [_thread_blocked, id=1176518656, stack(0x0000000146104000,0x0000000146204000)]\\n  0x0000000112841000 JavaThread \"Signal Dispatcher\" daemon [_thread_blocked, id=1175457792, stack(0x0000000146001000,0x0000000146101000)]\\n  0x0000000112829800 JavaThread \"Finalizer\" daemon [_thread_blocked, id=309846016, stack(0x000000011267e000,0x000000011277e000)]\\n  0x0000000112828800 JavaThread \"Reference Handler\" daemon [_thread_blocked, id=308727808, stack(0x000000011256d000,0x000000011266d000)]\\n  0x0000000112801000 JavaThread \"main\" [_thread_in_native, id=1882396448, stack(0x00007fff5f400000,0x00007fff5fc00000)]\\nOther Threads:\\n  0x0000000112820800 VMThread [stack: 0x000000011246a000,0x000000011256a000] [id=307666944]\\n  0x0000000112846000 WatcherThread [stack: 0x000000014640d000,0x000000014650d000] [id=1179701248]\\n\\nVM state:not at safepoint (normal execution)\\nVM Mutex/Monitor currently owned by a thread: None\\n\\nHeap\\n def new generation   total 41472K, used 19713K [0x0000000116000000, 0x0000000118e40000, 0x0000000120aa0000)\\n  eden space 35584K,  55% used [0x0000000116000000, 0x00000001173405e8, 0x00000001182c0000)\\n  from space 5888K,   0% used [0x0000000118880000, 0x0000000118880000, 0x0000000118e40000)\\n  to   space 5888K,   0% used [0x00000001182c0000, 0x00000001182c0000, 0x0000000118880000)\\n tenured generation   total 94568K, used 56036K [0x0000000120aa0000, 0x00000001266fa000, 0x0000000136000000)\\n   the space 94568K,  59% used [0x0000000120aa0000, 0x00000001241593f0, 0x0000000124159400, 0x00000001266fa000)\\n compacting perm gen  total 65984K, used 65780K [0x0000000136000000, 0x000000013a070000, 0x0000000146000000)\\n   the space 65984K,  99% used [0x0000000136000000, 0x000000013a03d3d8, 0x000000013a03d400, 0x000000013a070000)\\nNo shared spaces configured.\\n\\nVirtual Machine Arguments:\\nJVM Args: -Xdock:icon=../Resources/Eclipse.icns -XstartOnFirstThread -Xms128m -Xmx512m -XX:MaxPermSize=256m -Dorg.eclipse.swt.internal.carbon.smallFonts \\nJava Command: <unknown>\\nLauncher Type: generic\\nPhysical Memory: Page Size = 4k, Total = 2048M, Free = 1735M\\n\\n\\nThread 0:\\n0   libSystem.B.dylib             \\t0x00007fff829d4d36 mach_msg_trap + 10\\n1   libSystem.B.dylib             \\t0x00007fff829dc373 mach_msg + 59\\n2   com.apple.CoreFoundation      \\t0x00007fff825e4c4f CFRunLoopRunSpecific + 1631\\n3   com.apple.Foundation          \\t0x00007fff83227446 -[NSRunLoop(NSRunLoop) runMode:beforeDate:] + 214\\n4   libswt-pi-cocoa-3525.jnilib   \\t0x0000000149502931 Java_org_eclipse_swt_internal_cocoa_OS_objc_1msgSend_1bool__JJJJ + 58\\n5   ???                           \\t0x000000011300e878 0 + 4613793912\\n6   ???                           \\t0x0000000113003162 0 + 4613747042\\n7   ???                           \\t0x0000000113003162 0 + 4613747042\\n8   ???                           \\t0x0000000113003162 0 + 4613747042\\n9   ???                           \\t0x0000000113002f3a 0 + 4613746490\\n10  ???                           \\t0x0000000113002f3a 0 + 4613746490\\n11  ???                           \\t0x000000011300304e 0 + 4613746766\\n12  ???                           \\t0x000000011300304e 0 + 4613746766\\n13  ???                           \\t0x0000000113003414 0 + 4613747732\\n14  ???                           \\t0x0000000113002f3a 0 + 4613746490\\n15  ???                           \\t0x000000011300304e 0 + 4613746766\\n16  ???                           \\t0x000000011300304e 0 + 4613746766\\n17  ???                           \\t0x000000011300356d 0 + 4613748077\\n18  ???                           \\t0x000000011300356d 0 + 4613748077\\n19  ???                           \\t0x0000000113003093 0 + 4613746835\\n20  ???                           \\t0x0000000113003093 0 + 4613746835\\n21  ???                           \\t0x0000000113003093 0 + 4613746835\\n22  ???                           \\t0x00000001130003ea 0 + 4613735402\\n23  libjvm.dylib                  \\t0x0000000111aa7fa2 JVM_Lseek + 242498\\n24  libjvm.dylib                  \\t0x0000000111aa7c09 JVM_Lseek + 241577\\n25  libjvm.dylib                  \\t0x0000000111aa7be8 JVM_Lseek + 241544\\n26  libjvm.dylib                  \\t0x0000000111acab4d JVM_NewInstanceFromConstructor + 1933\\n27  libjvm.dylib                  \\t0x0000000111bdf141 JVM_InvokeMethod + 1521\\n28  libjvm.dylib                  \\t0x0000000111bded40 JVM_InvokeMethod + 496\\n29  ???                           \\t0x000000011300e878 0 + 4613793912\\n30  ???                           \\t0x0000000113003093 0 + 4613746835\\n31  ???                           \\t0x0000000113003093 0 + 4613746835\\n32  ???                           \\t0x000000011300356d 0 + 4613748077\\n33  ???                           \\t0x0000000113003093 0 + 4613746835\\n34  ???                           \\t0x0000000113002f3a 0 + 4613746490\\n35  ???                           \\t0x0000000113002f3a 0 + 4613746490\\n36  ???                           \\t0x00000001130003ea 0 + 4613735402\\n37  libjvm.dylib                  \\t0x0000000111aa7fa2 JVM_Lseek + 242498\\n38  libjvm.dylib                  \\t0x0000000111aa7c09 JVM_Lseek + 241577\\n39  libjvm.dylib                  \\t0x0000000111aa7be8 JVM_Lseek + 241544\\n40  libjvm.dylib                  \\t0x0000000111ac2b11 JVM_MonitorWait + 17249\\n41  libjvm.dylib                  \\t0x0000000111c00fae JVM_EnableCompiler + 117950\\n42  eclipse_1201.so               \\t0x0000000100047eac startJavaJNI + 1888\\n43  eclipse_1201.so               \\t0x0000000100046dad startJavaVM + 134\\n44  eclipse_1201.so               \\t0x0000000100045f7a run + 4537\\n45  org.eclipse.eclipse           \\t0x0000000100001c0d original_main + 1679\\n46  org.eclipse.eclipse           \\t0x00000001000021e5 main + 1236\\n47  org.eclipse.eclipse           \\t0x00000001000013d4 start + 52\\n\\nThread 1:\\n0   libSystem.B.dylib             \\t0x00007fff829d4d36 mach_msg_trap + 10\\n1   libSystem.B.dylib             \\t0x00007fff829dc373 mach_msg + 59\\n2   libSystem.B.dylib             \\t0x00007fff82a420b0 mach_msg_server + 436\\n3   libjvm.dylib                  \\t0x00000001119d376d JNI_CreateJavaVM_Impl + 53277\\n4   libjvm.dylib                  \\t0x00000001119d3375 JNI_CreateJavaVM_Impl + 52261\\n5   libjvm.dylib                  \\t0x00000001119d2e1c JNI_CreateJavaVM_Impl + 50892\\n6   libSystem.B.dylib             \\t0x00007fff82a02dcb _pthread_start + 316\\n7   libSystem.B.dylib             \\t0x00007fff82a02c8d thread_start + 13\\n\\nThread 2:\\n0   libSystem.B.dylib             \\t0x00007fff829d4d36 mach_msg_trap + 10\\n1   libSystem.B.dylib             \\t0x00007fff829dc373 mach_msg + 59\\n2   libjvm.dylib                  \\t0x00000001119d2ef6 JNI_CreateJavaVM_Impl + 51110\\n3   libjvm.dylib                  \\t0x00000001119d2cef JNI_CreateJavaVM_Impl + 50591\\n4   libjvm.dylib                  \\t0x0000000111aa652f JVM_Lseek + 235727\\n5   libjvm.dylib                  \\t0x0000000111aa62df JVM_Lseek + 235135\\n6   libjvm.dylib                  \\t0x00000001119d2e1c JNI_CreateJavaVM_Impl + 50892\\n7   libSystem.B.dylib             \\t0x00007fff82a02dcb _pthread_start + 316\\n8   libSystem.B.dylib             \\t0x00007fff82a02c8d thread_start + 13\\n\\nThread 3:\\n0   libSystem.B.dylib             \\t0x00007fff829d4d36 mach_msg_trap + 10\\n1   libSystem.B.dylib             \\t0x00007fff829dc373 mach_msg + 59\\n2   libjvm.dylib                  \\t0x00000001119d3002 JNI_CreateJavaVM_Impl + 51378\\n3   libjvm.dylib                  \\t0x0000000111ac105b JVM_MonitorWait + 10411\\n4   libjvm.dylib                  \\t0x0000000111ac01ff JVM_MonitorWait + 6735\\n5   libjvm.dylib                  \\t0x0000000111abec3b JVM_MonitorWait + 1163\\n6   libjvm.dylib                  \\t0x0000000111abe93f JVM_MonitorWait + 399\\n7   ???                           \\t0x000000011300e878 0 + 4613793912\\n8   ???                           \\t0x0000000113002f3a 0 + 4613746490\\n9   ???                           \\t0x0000000113002f3a 0 + 4613746490\\n10  ???                           \\t0x00000001130003ea 0 + 4613735402\\n11  libjvm.dylib                  \\t0x0000000111aa7fa2 JVM_Lseek + 242498\\n12  libjvm.dylib                  \\t0x0000000111aa7c09 JVM_Lseek + 241577\\n13  libjvm.dylib                  \\t0x0000000111abe066 JVM_InternString + 2166\\n14  libjvm.dylib                  \\t0x0000000111abdf2b JVM_InternString + 1851\\n15  libjvm.dylib                  \\t0x0000000111abde7a JVM_InternString + 1674\\n16  libjvm.dylib                  \\t0x0000000111abdda0 JVM_InternString + 1456\\n17  libjvm.dylib                  \\t0x0000000111abd79e JVM_StartThread + 1726\\n18  libjvm.dylib                  \\t0x00000001119d2e1c JNI_CreateJavaVM_Impl + 50892\\n19  libSystem.B.dylib             \\t0x00007fff82a02dcb _pthread_start + 316\\n20  libSystem.B.dylib             \\t0x00007fff82a02c8d thread_start + 13\\n\\nThread 4:\\n0   libSystem.B.dylib             \\t0x00007fff829d4d36 mach_msg_trap + 10\\n1   libSystem.B.dylib             \\t0x00007fff829dc373 mach_msg + 59\\n2   libjvm.dylib                  \\t0x00000001119d3002 JNI_CreateJavaVM_Impl + 51378\\n3   libjvm.dylib                  \\t0x0000000111ac105b JVM_MonitorWait + 10411\\n4   libjvm.dylib                  \\t0x0000000111ac01ff JVM_MonitorWait + 6735\\n5   libjvm.dylib                  \\t0x0000000111abec3b JVM_MonitorWait + 1163\\n6   libjvm.dylib                  \\t0x0000000111abe93f JVM_MonitorWait + 399\\n7   ???                           \\t0x000000011300e878 0 + 4613793912\\n8   ???                           \\t0x0000000113002f3a 0 + 4613746490\\n9   ???                           \\t0x0000000113003093 0 + 4613746835\\n10  ???                           \\t0x0000000113003093 0 + 4613746835\\n11  ???                           \\t0x00000001130003ea 0 + 4613735402\\n12  libjvm.dylib                  \\t0x0000000111aa7fa2 JVM_Lseek + 242498\\n13  libjvm.dylib                  \\t0x0000000111aa7c09 JVM_Lseek + 241577\\n14  libjvm.dylib                  \\t0x0000000111abe066 JVM_InternString + 2166\\n15  libjvm.dylib                  \\t0x0000000111abdf2b JVM_InternString + 1851\\n16  libjvm.dylib                  \\t0x0000000111abde7a JVM_InternString + 1674\\n17  libjvm.dylib                  \\t0x0000000111abdda0 JVM_InternString + 1456\\n18  libjvm.dylib                  \\t0x0000000111abd79e JVM_StartThread + 1726\\n19  libjvm.dylib                  \\t0x00000001119d2e1c JNI_CreateJavaVM_Impl + 50892\\n20  libSystem.B.dylib             \\t0x00007fff82a02dcb _pthread_start + 316\\n21  libSystem.B.dylib             \\t0x00007fff82a02c8d thread_start + 13\\n\\nThread 5:\\n0   libSystem.B.dylib             \\t0x00007fff829d4d72 semaphore_wait_trap + 10\\n1   libjvm.dylib                  \\t0x0000000111ad7bdb JVM_IsPrimitiveClass + 12139\\n2   libjvm.dylib                  \\t0x0000000111ad75b5 JVM_IsPrimitiveClass + 10565\\n3   libjvm.dylib                  \\t0x0000000111abdda0 JVM_InternString + 1456\\n4   libjvm.dylib                  \\t0x0000000111abd79e JVM_StartThread + 1726\\n5   libjvm.dylib                  \\t0x00000001119d2e1c JNI_CreateJavaVM_Impl + 50892\\n6   libSystem.B.dylib             \\t0x00007fff82a02dcb _pthread_start + 316\\n7   libSystem.B.dylib             \\t0x00007fff82a02c8d thread_start + 13\\n\\nThread 6:\\n0   libSystem.B.dylib             \\t0x00007fff829d4d36 mach_msg_trap + 10\\n1   libSystem.B.dylib             \\t0x00007fff829dc373 mach_msg + 59\\n2   libjvm.dylib                  \\t0x00000001119d3002 JNI_CreateJavaVM_Impl + 51378\\n3   libjvm.dylib                  \\t0x00000001119d2bce JNI_CreateJavaVM_Impl + 50302\\n4   libjvm.dylib                  \\t0x0000000111ade470 JVM_FindLoadedClass + 2928\\n5   libjvm.dylib                  \\t0x0000000111ad8af5 JVM_IsPrimitiveClass + 16005\\n6   libjvm.dylib                  \\t0x0000000111ad8819 JVM_IsPrimitiveClass + 15273\\n7   libjvm.dylib                  \\t0x0000000111abdda0 JVM_InternString + 1456\\n8   libjvm.dylib                  \\t0x0000000111abd79e JVM_StartThread + 1726\\n9   libjvm.dylib                  \\t0x00000001119d2e1c JNI_CreateJavaVM_Impl + 50892\\n10  libSystem.B.dylib             \\t0x00007fff82a02dcb _pthread_start + 316\\n11  libSystem.B.dylib             \\t0x00007fff82a02c8d thread_start + 13\\n\\nThread 7 Crashed:\\n0   libjvm.dylib                  \\t0x0000000111b25767 JVM_Available + 68743\\n1   libjvm.dylib                  \\t0x0000000111b24797 JVM_Available + 64695\\n2   libjvm.dylib                  \\t0x0000000111af7d00 JVM_Read + 1888\\n3   libjvm.dylib                  \\t0x0000000111d1d1d8 JVM_Yield + 585032\\n4   libjvm.dylib                  \\t0x0000000111b3eac9 JVM_IsInterrupted + 8553\\n5   libjvm.dylib                  \\t0x0000000111ae6079 JVM_Close + 17657\\n6   libjvm.dylib                  \\t0x0000000111ae47b7 JVM_Close + 11319\\n7   libjvm.dylib                  \\t0x0000000111ad8a31 JVM_IsPrimitiveClass + 15809\\n8   libjvm.dylib                  \\t0x0000000111ad8819 JVM_IsPrimitiveClass + 15273\\n9   libjvm.dylib                  \\t0x0000000111abdda0 JVM_InternString + 1456\\n10  libjvm.dylib                  \\t0x0000000111abd79e JVM_StartThread + 1726\\n11  libjvm.dylib                  \\t0x00000001119d2e1c JNI_CreateJavaVM_Impl + 50892\\n12  libSystem.B.dylib             \\t0x00007fff82a02dcb _pthread_start + 316\\n13  libSystem.B.dylib             \\t0x00007fff82a02c8d thread_start + 13\\n\\nThread 8:\\n0   libSystem.B.dylib             \\t0x00007fff829d4d36 mach_msg_trap + 10\\n1   libSystem.B.dylib             \\t0x00007fff829dc373 mach_msg + 59\\n2   libjvm.dylib                  \\t0x00000001119d3002 JNI_CreateJavaVM_Impl + 51378\\n3   libjvm.dylib                  \\t0x00000001119d2cef JNI_CreateJavaVM_Impl + 50591\\n4   libjvm.dylib                  \\t0x0000000111adaec8 JVM_IsPrimitiveClass + 25176\\n5   libjvm.dylib                  \\t0x0000000111abdda0 JVM_InternString + 1456\\n6   libjvm.dylib                  \\t0x0000000111abd79e JVM_StartThread + 1726\\n7   libjvm.dylib                  \\t0x00000001119d2e1c JNI_CreateJavaVM_Impl + 50892\\n8   libSystem.B.dylib             \\t0x00007fff82a02dcb _pthread_start + 316\\n9   libSystem.B.dylib             \\t0x00007fff82a02c8d thread_start + 13\\n\\nThread 9:\\n0   libSystem.B.dylib             \\t0x00007fff829d4d36 mach_msg_trap + 10\\n1   libSystem.B.dylib             \\t0x00007fff829dc373 mach_msg + 59\\n2   libjvm.dylib                  \\t0x00000001119d2ef6 JNI_CreateJavaVM_Impl + 51110\\n3   libjvm.dylib                  \\t0x0000000111adcbb5 JVM_IsPrimitiveClass + 32581\\n4   libjvm.dylib                  \\t0x0000000111adc70a JVM_IsPrimitiveClass + 31386\\n5   libjvm.dylib                  \\t0x00000001119d2e1c JNI_CreateJavaVM_Impl + 50892\\n6   libSystem.B.dylib             \\t0x00007fff82a02dcb _pthread_start + 316\\n7   libSystem.B.dylib             \\t0x00007fff82a02c8d thread_start + 13\\n\\nThread 10:\\n0   libSystem.B.dylib             \\t0x00007fff829d4d36 mach_msg_trap + 10\\n1   libSystem.B.dylib             \\t0x00007fff829dc373 mach_msg + 59\\n2   libjvm.dylib                  \\t0x00000001119d2ef6 JNI_CreateJavaVM_Impl + 51110\\n3   libjvm.dylib                  \\t0x0000000111adca9e JVM_IsPrimitiveClass + 32302\\n4   libjvm.dylib                  \\t0x0000000111c24b12 JVM_Sleep + 754\\n5   ???                           \\t0x000000011300e878 0 + 4613793912\\n6   ???                           \\t0x0000000113002f3a 0 + 4613746490\\n7   ???                           \\t0x0000000113003414 0 + 4613747732\\n8   ???                           \\t0x00000001130003ea 0 + 4613735402\\n9   libjvm.dylib                  \\t0x0000000111aa7fa2 JVM_Lseek + 242498\\n10  libjvm.dylib                  \\t0x0000000111aa7c09 JVM_Lseek + 241577\\n11  libjvm.dylib                  \\t0x0000000111abe066 JVM_InternString + 2166\\n12  libjvm.dylib                  \\t0x0000000111abdf2b JVM_InternString + 1851\\n13  libjvm.dylib                  \\t0x0000000111abde7a JVM_InternString + 1674\\n14  libjvm.dylib                  \\t0x0000000111abdda0 JVM_InternString + 1456\\n15  libjvm.dylib                  \\t0x0000000111abd79e JVM_StartThread + 1726\\n16  libjvm.dylib                  \\t0x00000001119d2e1c JNI_CreateJavaVM_Impl + 50892\\n17  libSystem.B.dylib             \\t0x00007fff82a02dcb _pthread_start + 316\\n18  libSystem.B.dylib             \\t0x00007fff82a02c8d thread_start + 13\\n\\nThread 11:\\n0   libSystem.B.dylib             \\t0x00007fff829d4d36 mach_msg_trap + 10\\n1   libSystem.B.dylib             \\t0x00007fff829dc373 mach_msg + 59\\n2   libjvm.dylib                  \\t0x00000001119d3002 JNI_CreateJavaVM_Impl + 51378\\n3   libjvm.dylib                  \\t0x0000000111ac105b JVM_MonitorWait + 10411\\n4   libjvm.dylib                  \\t0x0000000111ac01ff JVM_MonitorWait + 6735\\n5   libjvm.dylib                  \\t0x0000000111abec3b JVM_MonitorWait + 1163\\n6   libjvm.dylib                  \\t0x0000000111abe93f JVM_MonitorWait + 399\\n7   ???                           \\t0x000000011300e878 0 + 4613793912\\n8   ???                           \\t0x0000000113002f3a 0 + 4613746490\\n9   ???                           \\t0x0000000113002f3a 0 + 4613746490\\n10  ???                           \\t0x0000000113003093 0 + 4613746835\\n11  ???                           \\t0x00000001130003ea 0 + 4613735402\\n12  libjvm.dylib                  \\t0x0000000111aa7fa2 JVM_Lseek + 242498\\n13  libjvm.dylib                  \\t0x0000000111aa7c09 JVM_Lseek + 241577\\n14  libjvm.dylib                  \\t0x0000000111abe066 JVM_InternString + 2166\\n15  libjvm.dylib                  \\t0x0000000111abdf2b JVM_InternString + 1851\\n16  libjvm.dylib                  \\t0x0000000111abde7a JVM_InternString + 1674\\n17  libjvm.dylib                  \\t0x0000000111abdda0 JVM_InternString + 1456\\n18  libjvm.dylib                  \\t0x0000000111abd79e JVM_StartThread + 1726\\n19  libjvm.dylib                  \\t0x00000001119d2e1c JNI_CreateJavaVM_Impl + 50892\\n20  libSystem.B.dylib             \\t0x00007fff82a02dcb _pthread_start + 316\\n21  libSystem.B.dylib             \\t0x00007fff82a02c8d thread_start + 13\\n\\nThread 12:\\n0   libSystem.B.dylib             \\t0x00007fff829d4d36 mach_msg_trap + 10\\n1   libSystem.B.dylib             \\t0x00007fff829dc373 mach_msg + 59\\n2   libjvm.dylib                  \\t0x00000001119d3002 JNI_CreateJavaVM_Impl + 51378\\n3   libjvm.dylib                  \\t0x0000000111ac105b JVM_MonitorWait + 10411\\n4   libjvm.dylib                  \\t0x0000000111ac01ff JVM_MonitorWait + 6735\\n5   libjvm.dylib                  \\t0x0000000111abec3b JVM_MonitorWait + 1163\\n6   libjvm.dylib                  \\t0x0000000111abe93f JVM_MonitorWait + 399\\n7   ???                           \\t0x000000011300e878 0 + 4613793912\\n8   ???                           \\t0x0000000113002f3a 0 + 4613746490\\n9   ???                           \\t0x0000000113002f3a 0 + 4613746490\\n10  ???                           \\t0x0000000113003093 0 + 4613746835\\n11  ???                           \\t0x00000001130003ea 0 + 4613735402\\n12  libjvm.dylib                  \\t0x0000000111aa7fa2 JVM_Lseek + 242498\\n13  libjvm.dylib                  \\t0x0000000111aa7c09 JVM_Lseek + 241577\\n14  libjvm.dylib                  \\t0x0000000111abe066 JVM_InternString + 2166\\n15  libjvm.dylib                  \\t0x0000000111abdf2b JVM_InternString + 1851\\n16  libjvm.dylib                  \\t0x0000000111abde7a JVM_InternString + 1674\\n17  libjvm.dylib                  \\t0x0000000111abdda0 JVM_InternString + 1456\\n18  libjvm.dylib                  \\t0x0000000111abd79e JVM_StartThread + 1726\\n19  libjvm.dylib                  \\t0x00000001119d2e1c JNI_CreateJavaVM_Impl + 50892\\n20  libSystem.B.dylib             \\t0x00007fff82a02dcb _pthread_start + 316\\n21  libSystem.B.dylib             \\t0x00007fff82a02c8d thread_start + 13\\n\\nThread 13:\\n0   libSystem.B.dylib             \\t0x00007fff829d4d36 mach_msg_trap + 10\\n1   libSystem.B.dylib             \\t0x00007fff829dc373 mach_msg + 59\\n2   libjvm.dylib                  \\t0x00000001119d3002 JNI_CreateJavaVM_Impl + 51378\\n3   libjvm.dylib                  \\t0x0000000111ac105b JVM_MonitorWait + 10411\\n4   libjvm.dylib                  \\t0x0000000111ac01ff JVM_MonitorWait + 6735\\n5   libjvm.dylib                  \\t0x0000000111abec3b JVM_MonitorWait + 1163\\n6   libjvm.dylib                  \\t0x0000000111abe93f JVM_MonitorWait + 399\\n7   ???                           \\t0x000000011300e878 0 + 4613793912\\n8   ???                           \\t0x0000000113002f3a 0 + 4613746490\\n9   ???                           \\t0x0000000113002f3a 0 + 4613746490\\n10  ???                           \\t0x0000000113003093 0 + 4613746835\\n11  ???                           \\t0x00000001130003ea 0 + 4613735402\\n12  libjvm.dylib                  \\t0x0000000111aa7fa2 JVM_Lseek + 242498\\n13  libjvm.dylib                  \\t0x0000000111aa7c09 JVM_Lseek + 241577\\n14  libjvm.dylib                  \\t0x0000000111abe066 JVM_InternString + 2166\\n15  libjvm.dylib                  \\t0x0000000111abdf2b JVM_InternString + 1851\\n16  libjvm.dylib                  \\t0x0000000111abde7a JVM_InternString + 1674\\n17  libjvm.dylib                  \\t0x0000000111abdda0 JVM_InternString + 1456\\n18  libjvm.dylib                  \\t0x0000000111abd79e JVM_StartThread + 1726\\n19  libjvm.dylib                  \\t0x00000001119d2e1c JNI_CreateJavaVM_Impl + 50892\\n20  libSystem.B.dylib             \\t0x00007fff82a02dcb _pthread_start + 316\\n21  libSystem.B.dylib             \\t0x00007fff82a02c8d thread_start + 13\\n\\nThread 14:\\n0   libSystem.B.dylib             \\t0x00007fff829d4d36 mach_msg_trap + 10\\n1   libSystem.B.dylib             \\t0x00007fff829dc373 mach_msg + 59\\n2   libjvm.dylib                  \\t0x00000001119d3002 JNI_CreateJavaVM_Impl + 51378\\n3   libjvm.dylib                  \\t0x0000000111ac105b JVM_MonitorWait + 10411\\n4   libjvm.dylib                  \\t0x0000000111ac01ff JVM_MonitorWait + 6735\\n5   libjvm.dylib                  \\t0x0000000111abec3b JVM_MonitorWait + 1163\\n6   libjvm.dylib                  \\t0x0000000111abe93f JVM_MonitorWait + 399\\n7   ???                           \\t0x000000011300e878 0 + 4613793912\\n8   ???                           \\t0x0000000113002f3a 0 + 4613746490\\n9   ???                           \\t0x0000000113002f3a 0 + 4613746490\\n10  ???                           \\t0x0000000113003414 0 + 4613747732\\n11  ???                           \\t0x00000001130003ea 0 + 4613735402\\n12  libjvm.dylib                  \\t0x0000000111aa7fa2 JVM_Lseek + 242498\\n13  libjvm.dylib                  \\t0x0000000111aa7c09 JVM_Lseek + 241577\\n14  libjvm.dylib                  \\t0x0000000111abe066 JVM_InternString + 2166\\n15  libjvm.dylib                  \\t0x0000000111abdf2b JVM_InternString + 1851\\n16  libjvm.dylib                  \\t0x0000000111abde7a JVM_InternString + 1674\\n17  libjvm.dylib                  \\t0x0000000111abdda0 JVM_InternString + 1456\\n18  libjvm.dylib                  \\t0x0000000111abd79e JVM_StartThread + 1726\\n19  libjvm.dylib                  \\t0x00000001119d2e1c JNI_CreateJavaVM_Impl + 50892\\n20  libSystem.B.dylib             \\t0x00007fff82a02dcb _pthread_start + 316\\n21  libSystem.B.dylib             \\t0x00007fff82a02c8d thread_start + 13\\n\\nThread 15:\\n0   libSystem.B.dylib             \\t0x00007fff829d4d36 mach_msg_trap + 10\\n1   libSystem.B.dylib             \\t0x00007fff829dc373 mach_msg + 59\\n2   libjvm.dylib                  \\t0x00000001119d2ef6 JNI_CreateJavaVM_Impl + 51110\\n3   libjvm.dylib                  \\t0x0000000111bdd183 JVM_GetLastErrorString + 14979\\n4   libjvm.dylib                  \\t0x0000000111abfeec JVM_MonitorWait + 5948\\n5   libjvm.dylib                  \\t0x0000000111abec3b JVM_MonitorWait + 1163\\n6   libjvm.dylib                  \\t0x0000000111abe93f JVM_MonitorWait + 399\\n7   ???                           \\t0x000000011300e878 0 + 4613793912\\n8   ???                           \\t0x0000000113002f3a 0 + 4613746490\\n9   ???                           \\t0x00000001130003ea 0 + 4613735402\\n10  libjvm.dylib                  \\t0x0000000111aa7fa2 JVM_Lseek + 242498\\n11  libjvm.dylib                  \\t0x0000000111aa7c09 JVM_Lseek + 241577\\n12  libjvm.dylib                  \\t0x0000000111abe066 JVM_InternString + 2166\\n13  libjvm.dylib                  \\t0x0000000111abdf2b JVM_InternString + 1851\\n14  libjvm.dylib                  \\t0x0000000111abde7a JVM_InternString + 1674\\n15  libjvm.dylib                  \\t0x0000000111abdda0 JVM_InternString + 1456\\n16  libjvm.dylib                  \\t0x0000000111abd79e JVM_StartThread + 1726\\n17  libjvm.dylib                  \\t0x00000001119d2e1c JNI_CreateJavaVM_Impl + 50892\\n18  libSystem.B.dylib             \\t0x00007fff82a02dcb _pthread_start + 316\\n19  libSystem.B.dylib             \\t0x00007fff82a02c8d thread_start + 13\\n\\nThread 16:\\n0   libSystem.B.dylib             \\t0x00007fff829d4d36 mach_msg_trap + 10\\n1   libSystem.B.dylib             \\t0x00007fff829dc373 mach_msg + 59\\n2   libjvm.dylib                  \\t0x00000001119d2ef6 JNI_CreateJavaVM_Impl + 51110\\n3   libjvm.dylib                  \\t0x0000000111bdd183 JVM_GetLastErrorString + 14979\\n4   libjvm.dylib                  \\t0x0000000111abfeec JVM_MonitorWait + 5948\\n5   libjvm.dylib                  \\t0x0000000111abec3b JVM_MonitorWait + 1163\\n6   libjvm.dylib                  \\t0x0000000111abe93f JVM_MonitorWait + 399\\n7   ???                           \\t0x000000011300e878 0 + 4613793912\\n8   ???                           \\t0x0000000113002f3a 0 + 4613746490\\n9   ???                           \\t0x0000000113002f3a 0 + 4613746490\\n10  ???                           \\t0x0000000113003093 0 + 4613746835\\n11  ???                           \\t0x00000001130003ea 0 + 4613735402\\n12  libjvm.dylib                  \\t0x0000000111aa7fa2 JVM_Lseek + 242498\\n13  libjvm.dylib                  \\t0x0000000111aa7c09 JVM_Lseek + 241577\\n14  libjvm.dylib                  \\t0x0000000111abe066 JVM_InternString + 2166\\n15  libjvm.dylib                  \\t0x0000000111abdf2b JVM_InternString + 1851\\n16  libjvm.dylib                  \\t0x0000000111abde7a JVM_InternString + 1674\\n17  libjvm.dylib                  \\t0x0000000111abdda0 JVM_InternString + 1456\\n18  libjvm.dylib                  \\t0x0000000111abd79e JVM_StartThread + 1726\\n19  libjvm.dylib                  \\t0x00000001119d2e1c JNI_CreateJavaVM_Impl + 50892\\n20  libSystem.B.dylib             \\t0x00007fff82a02dcb _pthread_start + 316\\n21  libSystem.B.dylib             \\t0x00007fff82a02c8d thread_start + 13\\n\\nThread 17:\\n0   libSystem.B.dylib             \\t0x00007fff829dbd02 __semwait_signal + 10\\n1   com.apple.QuartzCore          \\t0x00007fff838be7fd fe_fragment_thread + 54\\n2   libSystem.B.dylib             \\t0x00007fff82a02dcb _pthread_start + 316\\n3   libSystem.B.dylib             \\t0x00007fff82a02c8d thread_start + 13\\n\\nThread 18:\\n0   ???                           \\t0x0000000113018c90 0 + 4613835920\\n1   ???                           \\t0x0000000113003162 0 + 4613747042\\n2   ???                           \\t0x0000000113003528 0 + 4613748008\\n3   ???                           \\t0x0000000113003093 0 + 4613746835\\n4   ???                           \\t0x0000000113003093 0 + 4613746835\\n5   ???                           \\t0x0000000113003093 0 + 4613746835\\n6   ???                           \\t0x0000000113003093 0 + 4613746835\\n7   ???                           \\t0x0000000113003093 0 + 4613746835\\n8   ???                           \\t0x0000000113003093 0 + 4613746835\\n9   ???                           \\t0x0000000113003093 0 + 4613746835\\n10  ???                           \\t0x0000000113003093 0 + 4613746835\\n11  ???                           \\t0x0000000113003093 0 + 4613746835\\n12  ???                           \\t0x0000000113003093 0 + 4613746835\\n13  ???                           \\t0x0000000113003093 0 + 4613746835\\n14  ???                           \\t0x0000000113003093 0 + 4613746835\\n15  ???                           \\t0x0000000113003093 0 + 4613746835\\n16  ???                           \\t0x0000000113003093 0 + 4613746835\\n17  ???                           \\t0x0000000113003093 0 + 4613746835\\n18  ???                           \\t0x0000000113003093 0 + 4613746835\\n19  ???                           \\t0x0000000113003093 0 + 4613746835\\n20  ???                           \\t0x0000000113003093 0 + 4613746835\\n21  ???                           \\t0x0000000113003093 0 + 4613746835\\n22  ???                           \\t0x0000000113003093 0 + 4613746835\\n23  ???                           \\t0x0000000113003093 0 + 4613746835\\n24  ???                           \\t0x0000000113003093 0 + 4613746835\\n25  ???                           \\t0x0000000113003093 0 + 4613746835\\n26  ???                           \\t0x0000000113003162 0 + 4613747042\\n27  ???                           \\t0x0000000113002f3a 0 + 4613746490\\n28  ???                           \\t0x0000000113002f3a 0 + 4613746490\\n29  ???                           \\t0x0000000113003414 0 + 4613747732\\n30  ???                           \\t0x0000000113002f3a 0 + 4613746490\\n31  ???                           \\t0x0000000113002f3a 0 + 4613746490\\n32  ???                           \\t0x0000000113003093 0 + 4613746835\\n33  ???                           \\t0x0000000113003093 0 + 4613746835\\n34  ???                           \\t0x0000000113003414 0 + 4613747732\\n35  ???                           \\t0x0000000113002f3a 0 + 4613746490\\n36  ???                           \\t0x0000000113002f3a 0 + 4613746490\\n37  ???                           \\t0x0000000113002f3a 0 + 4613746490\\n38  ???                           \\t0x0000000113003414 0 + 4613747732\\n39  ???                           \\t0x0000000113002f3a 0 + 4613746490\\n40  ???                           \\t0x000000011300363c 0 + 4613748284\\n41  ???                           \\t0x0000000113003093 0 + 4613746835\\n42  ???                           \\t0x000000011300356d 0 + 4613748077\\n43  ???                           \\t0x0000000113003093 0 + 4613746835\\n44  ???                           \\t0x0000000113003093 0 + 4613746835\\n45  ???                           \\t0x00000001130003ea 0 + 4613735402\\n46  libjvm.dylib                  \\t0x0000000111aa7fa2 JVM_Lseek + 242498\\n47  libjvm.dylib                  \\t0x0000000111aa7c09 JVM_Lseek + 241577\\n48  libjvm.dylib                  \\t0x0000000111abe066 JVM_InternString + 2166\\n49  libjvm.dylib                  \\t0x0000000111abdf2b JVM_InternString + 1851\\n50  libjvm.dylib                  \\t0x0000000111abde7a JVM_InternString + 1674\\n51  libjvm.dylib                  \\t0x0000000111abdda0 JVM_InternString + 1456\\n52  libjvm.dylib                  \\t0x0000000111abd79e JVM_StartThread + 1726\\n53  libjvm.dylib                  \\t0x00000001119d2e1c JNI_CreateJavaVM_Impl + 50892\\n54  libSystem.B.dylib             \\t0x00007fff82a02dcb _pthread_start + 316\\n55  libSystem.B.dylib             \\t0x00007fff82a02c8d thread_start + 13\\n\\nThread 19:\\n0   libSystem.B.dylib             \\t0x00007fff829d4d36 mach_msg_trap + 10\\n1   libSystem.B.dylib             \\t0x00007fff829dc373 mach_msg + 59\\n2   libjvm.dylib                  \\t0x00000001119d2ef6 JNI_CreateJavaVM_Impl + 51110\\n3   libjvm.dylib                  \\t0x0000000111bdd183 JVM_GetLastErrorString + 14979\\n4   libjvm.dylib                  \\t0x0000000111abfeec JVM_MonitorWait + 5948\\n5   libjvm.dylib                  \\t0x0000000111abec3b JVM_MonitorWait + 1163\\n6   libjvm.dylib                  \\t0x0000000111abe93f JVM_MonitorWait + 399\\n7   ???                           \\t0x000000011300e878 0 + 4613793912\\n8   ???                           \\t0x0000000113002f3a 0 + 4613746490\\n9   ???                           \\t0x0000000113002f3a 0 + 4613746490\\n10  ???                           \\t0x0000000113003093 0 + 4613746835\\n11  ???                           \\t0x00000001130003ea 0 + 4613735402\\n12  libjvm.dylib                  \\t0x0000000111aa7fa2 JVM_Lseek + 242498\\n13  libjvm.dylib                  \\t0x0000000111aa7c09 JVM_Lseek + 241577\\n14  libjvm.dylib                  \\t0x0000000111abe066 JVM_InternString + 2166\\n15  libjvm.dylib                  \\t0x0000000111abdf2b JVM_InternString + 1851\\n16  libjvm.dylib                  \\t0x0000000111abde7a JVM_InternString + 1674\\n17  libjvm.dylib                  \\t0x0000000111abdda0 JVM_InternString + 1456\\n18  libjvm.dylib                  \\t0x0000000111abd79e JVM_StartThread + 1726\\n19  libjvm.dylib                  \\t0x00000001119d2e1c JNI_CreateJavaVM_Impl + 50892\\n20  libSystem.B.dylib             \\t0x00007fff82a02dcb _pthread_start + 316\\n21  libSystem.B.dylib             \\t0x00007fff82a02c8d thread_start + 13\\n\\nThread 7 crashed with X86 Thread State (64-bit):\\n  rax: 0x00000000ffffffff  rbx: 0x000000014c51f500  rcx: 0x000000014c4183d0  rdx: 0x000000014c418300\\n  rdi: 0x000000014c51f500  rsi: 0x0000000146305528  rbp: 0x0000000146303da0  rsp: 0x0000000146303d20\\n   r8: 0x0000000000000001   r9: 0x0000000000000001  r10: 0x0000000000001002  r11: 0x000000014c50e010\\n  r12: 0x000000014c51f4c8  r13: 0x0000000000000000  r14: 0x0000000112461860  r15: 0x0000000000000008\\n  rip: 0x0000000111b25767  rfl: 0x0000000000010246  cr2: 0x0000000000000000\\n\\nBinary Images:\\n       0x100000000 -        0x100003fff +org.eclipse.eclipse 3.4 (3.4) /eclipses/versions/eclipse-3.5M4/Eclipse.app/Contents/MacOS/eclipse\\n       0x100043000 -        0x10004afff +eclipse_1201.so ??? (???) /eclipses/versions/eclipse-3.5M4/plugins/org.eclipse.equinox.launcher.cocoa.macosx.x86_64_1.0.0.v20081125-1800/eclipse_1201.so\\n       0x10006f000 -        0x100077ffd  com.apple.JavaVM 12.2.0 (12.2.0) <2b178e8d4bbcc0aa427c2f3f71bb2fcb> /System/Library/Frameworks/JavaVM.framework/JavaVM\\n       0x10008c000 -        0x100094ff0  libverify.dylib ??? (???) <56eac95084cb86cd1339a721b1353182> /System/Library/Frameworks/JavaVM.framework/Versions/1.6.0/Libraries/libverify.dylib\\n       0x10009a000 -        0x1000a3ffb  JavaNativeFoundation ??? (???) <68ca6409dc49542301edda1e0744ac69> /System/Library/Frameworks/JavaVM.framework/Versions/A/Frameworks/JavaNativeFoundation.framework/Versions/A/JavaNativeFoundation\\n       0x1000af000 -        0x1000cefef  libjava.jnilib ??? (???) <f79709f13f7ec4714da3523c186d3559> /System/Library/Frameworks/JavaVM.framework/Versions/1.6.0/Libraries/libjava.jnilib\\n       0x1000df000 -        0x1000ecffb  libzip.jnilib ??? (???) <5b6dce7c9a1f25aa5dff1a633c9dc342> /System/Library/Frameworks/JavaVM.framework/Versions/1.6.0/Libraries/libzip.jnilib\\n       0x1119c5000 -        0x112071ff3  libjvm.dylib ??? (???) <b4e589b92bb0e0a97b6dde1bf5bffd24> /System/Library/Frameworks/JavaVM.framework/Versions/1.6/Libraries/libjvm.dylib\\n       0x14689c000 -        0x1468a0fff  libnio.jnilib ??? (???) <c540e5e3c72dc64ad7ec17a77e817bc8> /System/Library/Frameworks/JavaVM.framework/Versions/1.6.0/Libraries/libnio.jnilib\\n       0x1469bc000 -        0x1469c8ffb  libnet.jnilib ??? (???) <b3668d73679b1cdcf70252d0d44a4d0a> /System/Library/Frameworks/JavaVM.framework/Versions/1.6.0/Libraries/libnet.jnilib\\n       0x14744c000 -        0x14763bfff  com.apple.RawCamera.bundle 2.0.12 (421) <eb0cf704dcb732da9f7c19a8fca6a4ea> /System/Library/CoreServices/RawCamera.bundle/Contents/MacOS/RawCamera\\n       0x1491ab000 -        0x1491e4fff +libswt-cocoa-3525.jnilib ??? (???) /eclipses/versions/eclipse-3.5M4/configuration/org.eclipse.osgi/bundles/138/1/.cp/libswt-cocoa-3525.jnilib\\n       0x1491f8000 -        0x1492cdffd  com.apple.WebKit 5525.27 (5525.27.1) <5d1c9d09cca229accf566e29d1d8b5d2> /System/Library/Frameworks/WebKit.framework/Versions/A/WebKit\\n       0x149398000 -        0x149481fe7  com.apple.JavaScriptCore 5525.26 (5525.26.2) <cccd2372718bc4cdb72686db68e9fa30> /System/Library/Frameworks/JavaScriptCore.framework/Versions/A/JavaScriptCore\\n       0x1494f7000 -        0x14950cfff +libswt-pi-cocoa-3525.jnilib ??? (???) /eclipses/versions/eclipse-3.5M4/configuration/org.eclipse.osgi/bundles/138/1/.cp/libswt-pi-cocoa-3525.jnilib\\n       0x14b5f2000 -        0x14bdd2fff  com.apple.WebCore 5525.26 (5525.26.6) <5cca5872a15476573df5d2a7b7bfc022> /System/Library/Frameworks/WebKit.framework/Versions/A/Frameworks/WebCore.framework/Versions/A/WebCore\\n       0x14c2e8000 -        0x14c2e9fff  ATSHI.dylib ??? (???) /System/Library/Frameworks/ApplicationServices.framework/Versions/A/Frameworks/ATS.framework/Versions/A/Resources/ATSHI.dylib\\n       0x14c653000 -        0x14c66afef  libJapaneseConverter.dylib ??? (???) <da08e90985481dff8abf56cee3805d6b> /System/Library/CoreServices/Encodings/libJapaneseConverter.dylib\\n       0x14cfa9000 -        0x14cfaefff  libCGXCoreImage.A.dylib ??? (???) <088d8452d3799d77f56d574b9a290b1b> /System/Library/Frameworks/ApplicationServices.framework/Versions/A/Frameworks/CoreGraphics.framework/Versions/A/Resources/libCGXCoreImage.A.dylib\\n    0x7fff5fc00000 -     0x7fff5fc2e643  dyld 97.1 (???) <b40847f1ce1ba2ed13837aeccbf19284> /usr/lib/dyld\\n    0x7fff80003000 -     0x7fff80014fff  com.apple.speech.synthesis.framework 3.7.1 (3.7.1) <e9ccc1684978793903989e662271178a> /System/Library/Frameworks/ApplicationServices.framework/Versions/A/Frameworks/SpeechSynthesis.framework/Versions/A/SpeechSynthesis\\n    0x7fff80015000 -     0x7fff80078fef  libGLU.dylib ??? (???) /System/Library/Frameworks/OpenGL.framework/Versions/A/Libraries/libGLU.dylib\\n    0x7fff80079000 -     0x7fff8010afff  com.apple.SearchKit 1.2.1 (1.2.1) <b1dd764b90911b4ed5e6b4d7544765d1> /System/Library/Frameworks/CoreServices.framework/Versions/A/Frameworks/SearchKit.framework/Versions/A/SearchKit\\n    0x7fff8010b000 -     0x7fff8010bfff  com.apple.Carbon 136 (136) <5ea8571917277141ad0af3741211c3fa> /System/Library/Frameworks/Carbon.framework/Versions/A/Carbon\\n    0x7fff80198000 -     0x7fff801d5ff7  com.apple.SystemConfiguration 1.9.2 (1.9.2) <5af02fa92da5a73aec8d4e137d47b40a> /System/Library/Frameworks/SystemConfiguration.framework/Versions/A/SystemConfiguration\\n    0x7fff801d6000 -     0x7fff801d6ff8  com.apple.Cocoa 6.5 (???) <2431b586687b3f3fa9da37defe5879cc> /System/Library/Frameworks/Cocoa.framework/Versions/A/Cocoa\\n    0x7fff801d7000 -     0x7fff80209ff7  libauto.dylib ??? (???) <5876c3364307b49c40b42bc60eef886e> /usr/lib/libauto.dylib\\n    0x7fff8020a000 -     0x7fff80210fff  com.apple.DiskArbitration 2.2.1 (2.2.1) <cab52e39ef8dde5003d9029c99d4c264> /System/Library/Frameworks/DiskArbitration.framework/Versions/A/DiskArbitration\\n    0x7fff80211000 -     0x7fff80213ff7  libffi.dylib ??? (???) <dc89a0cfa89fa40bd5e67ac301a9ba2a> /usr/lib/libffi.dylib\\n    0x7fff80214000 -     0x7fff80236fff  libJPEG.dylib ??? (???) <935c308a10955996b8b29f896b29a5ac> /System/Library/Frameworks/ApplicationServices.framework/Versions/A/Frameworks/ImageIO.framework/Versions/A/Resources/libJPEG.dylib\\n    0x7fff80237000 -     0x7fff80373fe9  com.apple.ImageIO.framework 2.0.4 (2.0.4) <b98b3a32b849b4d1625dcbc16e80b2a3> /System/Library/Frameworks/ApplicationServices.framework/Versions/A/Frameworks/ImageIO.framework/Versions/A/ImageIO\\n    0x7fff80374000 -     0x7fff80409ffb  com.apple.LaunchServices 290.3 (290.3) <56544e16c5192d2ce72df772901fcaef> /System/Library/Frameworks/CoreServices.framework/Versions/A/Frameworks/LaunchServices.framework/Versions/A/LaunchServices\\n    0x7fff8040a000 -     0x7fff80413fff  libCGATS.A.dylib ??? (???) <722a0bbd58740d46739008e881010631> /System/Library/Frameworks/ApplicationServices.framework/Versions/A/Frameworks/CoreGraphics.framework/Versions/A/Resources/libCGATS.A.dylib\\n    0x7fff80414000 -     0x7fff80417ffb  com.apple.help 1.1 (36) <4c8c537817ac6888cf01adfc4c099d9a> /System/Library/Frameworks/Carbon.framework/Versions/A/Frameworks/Help.framework/Versions/A/Help\\n    0x7fff80418000 -     0x7fff80468fe7  com.apple.Metadata 10.5.2 (398.25) <f6820e35383510a4998973b43b529bf5> /System/Library/Frameworks/CoreServices.framework/Versions/A/Frameworks/Metadata.framework/Versions/A/Metadata\\n    0x7fff80469000 -     0x7fff80c26fef  libBLAS.dylib ??? (???) /System/Library/Frameworks/Accelerate.framework/Versions/A/Frameworks/vecLib.framework/Versions/A/libBLAS.dylib\\n    0x7fff80c27000 -     0x7fff80c29ff9  libRadiance.dylib ??? (???) <497dd2f328b5a53a797c612a12596c30> /System/Library/Frameworks/ApplicationServices.framework/Versions/A/Frameworks/ImageIO.framework/Versions/A/Resources/libRadiance.dylib\\n    0x7fff80c2a000 -     0x7fff80c44fff  com.apple.openscripting 1.2.8 (???) <596b93f97bc5fc39cde49e329e027f60> /System/Library/Frameworks/Carbon.framework/Versions/A/Frameworks/OpenScripting.framework/Versions/A/OpenScripting\\n    0x7fff80c45000 -     0x7fff80d10fef  com.apple.ColorSync 4.5.1 (4.5.1) /System/Library/Frameworks/ApplicationServices.framework/Versions/A/Frameworks/ColorSync.framework/Versions/A/ColorSync\\n    0x7fff80d11000 -     0x7fff812ddfff  com.apple.CoreGraphics 1.407.2 (???) <436dbc70f8c9b29b3beb1d2de220acf2> /System/Library/Frameworks/ApplicationServices.framework/Versions/A/Frameworks/CoreGraphics.framework/Versions/A/CoreGraphics\\n    0x7fff812de000 -     0x7fff812fcfff  libPng.dylib ??? (???) <6db55d038207e17e442456f106d139e9> /System/Library/Frameworks/ApplicationServices.framework/Versions/A/Frameworks/ImageIO.framework/Versions/A/Resources/libPng.dylib\\n    0x7fff812fd000 -     0x7fff813b0fef  com.apple.DesktopServices 1.4.7 (1.4.7) <d3d96d7dee4d1b6afa53e77e7393cf5f> /System/Library/PrivateFrameworks/DesktopServicesPriv.framework/Versions/A/DesktopServicesPriv\\n    0x7fff813b1000 -     0x7fff81478fec  com.apple.CFNetwork 422.11 (422.11) <570ca46de3b907cb1c8e33fc62f562b4> /System/Library/Frameworks/CoreServices.framework/Versions/A/Frameworks/CFNetwork.framework/Versions/A/CFNetwork\\n    0x7fff81479000 -     0x7fff814a9fff  com.apple.shortcut 1 (1.0) <7ac2070a5ce839e2cac1d3cca41765e2> /System/Library/PrivateFrameworks/Shortcut.framework/Versions/A/Shortcut\\n    0x7fff814aa000 -     0x7fff814e5fff  com.apple.AE 402.2 (402.2) <fa22a10b3080f9e89ee77a5aeb7c517a> /System/Library/Frameworks/CoreServices.framework/Versions/A/Frameworks/AE.framework/Versions/A/AE\\n    0x7fff814e6000 -     0x7fff81503fef  com.apple.CoreVideo 1.5.1 (1.5.1) <d668a9d7dbb4812bc18a05ea273a051d> /System/Library/Frameworks/CoreVideo.framework/Versions/A/CoreVideo\\n    0x7fff81504000 -     0x7fff8157eff3  com.apple.CoreText 2.0.3 (???) <8271a459596bf7639f0d07f80ab87bb8> /System/Library/Frameworks/ApplicationServices.framework/Versions/A/Frameworks/CoreText.framework/Versions/A/CoreText\\n    0x7fff8157f000 -     0x7fff81785ff3  com.apple.security 5.0.4 (34102) <47c559b17c1f51998e7a981d0fbec4c8> /System/Library/Frameworks/Security.framework/Versions/A/Security\\n    0x7fff81786000 -     0x7fff81786ffd  com.apple.Accelerate.vecLib 3.4.2 (vecLib 3.4.2) /System/Library/Frameworks/Accelerate.framework/Versions/A/Frameworks/vecLib.framework/Versions/A/vecLib\\n    0x7fff81787000 -     0x7fff81795ff9  com.apple.helpdata 1.0.1 (14.2) /System/Library/PrivateFrameworks/HelpData.framework/Versions/A/HelpData\\n    0x7fff81796000 -     0x7fff81a7dfeb  com.apple.HIToolbox 1.5.4 (???) <ab04555ca43169811a68efdc6dc02e6b> /System/Library/Frameworks/Carbon.framework/Versions/A/Frameworks/HIToolbox.framework/Versions/A/HIToolbox\\n    0x7fff81a7e000 -     0x7fff81ad3fe3  com.apple.HIServices 1.7.0 (???) <6bef766448d67adb91901b432629ea0f> /System/Library/Frameworks/ApplicationServices.framework/Versions/A/Frameworks/HIServices.framework/Versions/A/HIServices\\n    0x7fff81ad4000 -     0x7fff81af5fff  libresolv.9.dylib ??? (???) <6308a734b9f4e78ecd6d2b2959c70f50> /usr/lib/libresolv.9.dylib\\n    0x7fff81af6000 -     0x7fff81afafff  libGIF.dylib ??? (???) <ca8f280ebd37bfd1ba3266b91ea0051c> /System/Library/Frameworks/ApplicationServices.framework/Versions/A/Frameworks/ImageIO.framework/Versions/A/Resources/libGIF.dylib\\n    0x7fff81afb000 -     0x7fff81b0cffd  libz.1.dylib ??? (???) <adb739c51df0f32aa0edd5565cee1c98> /usr/lib/libz.1.dylib\\n    0x7fff81b0d000 -     0x7fff81ec5fff  libLAPACK.dylib ??? (???) /System/Library/Frameworks/Accelerate.framework/Versions/A/Frameworks/vecLib.framework/Versions/A/libLAPACK.dylib\\n    0x7fff81ec6000 -     0x7fff81f8afe2  com.apple.vImage 3.0 (3.0) /System/Library/Frameworks/Accelerate.framework/Versions/A/Frameworks/vImage.framework/Versions/A/vImage\\n    0x7fff81f8b000 -     0x7fff8203bfef  com.apple.CoreServices.OSServices 226.5 (226.5) <06a0d68243adbb431e99c5b69ce9bbdb> /System/Library/Frameworks/CoreServices.framework/Versions/A/Frameworks/OSServices.framework/Versions/A/OSServices\\n    0x7fff8203c000 -     0x7fff8207ffef  com.apple.QD 3.11.54 (???) <10249a802d395c949385596625c2aa6c> /System/Library/Frameworks/ApplicationServices.framework/Versions/A/Frameworks/QD.framework/Versions/A/QD\\n    0x7fff82080000 -     0x7fff82096ff9  com.apple.ImageCapture 5.0.1 (5.0.1) /System/Library/Frameworks/Carbon.framework/Versions/A/Frameworks/ImageCapture.framework/Versions/A/ImageCapture\\n    0x7fff82097000 -     0x7fff820d4fe7  com.apple.coreui 1.2 (62) /System/Library/PrivateFrameworks/CoreUI.framework/Versions/A/CoreUI\\n    0x7fff820d5000 -     0x7fff820dafff  com.apple.CommonPanels 1.2.4 (85) <564fc0c6c53a00d1a7bf8a94545beffa> /System/Library/Frameworks/Carbon.framework/Versions/A/Frameworks/CommonPanels.framework/Versions/A/CommonPanels\\n    0x7fff820db000 -     0x7fff820eafe7  com.apple.opengl 1.5.9 (1.5.9) <bc7427f25ccba6ff7cca8c0b09dd059c> /System/Library/Frameworks/OpenGL.framework/Versions/A/OpenGL\\n    0x7fff820eb000 -     0x7fff82172fef  com.apple.audio.CoreAudio 3.1.1 (3.1.1) <9c1714647fd7515c900362ad2ac76874> /System/Library/Frameworks/CoreAudio.framework/Versions/A/CoreAudio\\n    0x7fff82173000 -     0x7fff82175fff  com.apple.NavigationServices 3.5.2 (163) <0cde9279f40ad2455a1a818ef6c8099f> /System/Library/Frameworks/Carbon.framework/Versions/A/Frameworks/NavigationServices.framework/Versions/A/NavigationServices\\n    0x7fff82176000 -     0x7fff82176ffd  com.apple.Accelerate 1.4.2 (Accelerate 1.4.2) /System/Library/Frameworks/Accelerate.framework/Versions/A/Accelerate\\n    0x7fff82177000 -     0x7fff8227afeb  com.apple.CoreData 100.1 (186) <62d520cb69a6bb514e4d99281813f129> /System/Library/Frameworks/CoreData.framework/Versions/A/CoreData\\n    0x7fff8227b000 -     0x7fff8227efff  com.apple.securityhi 3.0 (30817) <c32f395be61b69637d916f48295696ca> /System/Library/Frameworks/Carbon.framework/Versions/A/Frameworks/SecurityHI.framework/Versions/A/SecurityHI\\n    0x7fff8227f000 -     0x7fff8257afe3  com.apple.CoreServices.CarbonCore 786.10 (786.10) <2ac701edf3ca98a86ae9d5f733200b40> /System/Library/Frameworks/CoreServices.framework/Versions/A/Frameworks/CarbonCore.framework/Versions/A/CarbonCore\\n    0x7fff8257b000 -     0x7fff826b2fff  com.apple.CoreFoundation 6.5.5 (476.17) <51930d43c7c2d8fb24148cbfc05bba0f> /System/Library/Frameworks/CoreFoundation.framework/Versions/A/CoreFoundation\\n    0x7fff826b3000 -     0x7fff826ddfff  libcups.2.dylib ??? (???) <b3f33c729d09b9d8ded503f57d2246ce> /usr/lib/libcups.2.dylib\\n    0x7fff826de000 -     0x7fff826ecfff  libCSync.A.dylib ??? (???) <61f6cc104b3e9b77cd583635a3a9a5cf> /System/Library/Frameworks/ApplicationServices.framework/Versions/A/Frameworks/CoreGraphics.framework/Versions/A/Resources/libCSync.A.dylib\\n    0x7fff826ed000 -     0x7fff82714fff  libxslt.1.dylib ??? (???) <d22e666fc41249d9a0a2fe4a8f46437d> /usr/lib/libxslt.1.dylib\\n    0x7fff82715000 -     0x7fff82858ffb  com.apple.audio.toolbox.AudioToolbox 1.5.2 (1.5.2) /System/Library/Frameworks/AudioToolbox.framework/Versions/A/AudioToolbox\\n    0x7fff82859000 -     0x7fff8289efef  libRIP.A.dylib ??? (???) <8c818d7fd3dc57839ac48caf107ff4c0> /System/Library/Frameworks/ApplicationServices.framework/Versions/A/Frameworks/CoreGraphics.framework/Versions/A/Resources/libRIP.A.dylib\\n    0x7fff8289f000 -     0x7fff8295dfff  edu.mit.Kerberos 6.0.12 (6.0.12) <c151ff3077083648f3cd3e727c1ac7aa> /System/Library/Frameworks/Kerberos.framework/Versions/A/Kerberos\\n    0x7fff8295e000 -     0x7fff8295effb  com.apple.installserver.framework 1.0 (8) /System/Library/PrivateFrameworks/InstallServer.framework/Versions/A/InstallServer\\n    0x7fff8295f000 -     0x7fff829d3fe7  libstdc++.6.dylib ??? (???) <e53abb5051fc1a623459b7c58ca05d24> /usr/lib/libstdc++.6.dylib\\n    0x7fff829d4000 -     0x7fff82b5fffb  libSystem.B.dylib ??? (???) <cc365f568976948c6aeae0a0a931cb93> /usr/lib/libSystem.B.dylib\\n    0x7fff82b60000 -     0x7fff82b9cff7  libGLImage.dylib ??? (???) <02258bcdbe8defdb254acc077a81dd9b> /System/Library/Frameworks/OpenGL.framework/Versions/A/Libraries/libGLImage.dylib\\n    0x7fff82b9d000 -     0x7fff82bddfef  com.apple.framework.IOKit 1.5.1 (???) <17e6707127a60c5e2d7a9bd2b7bf2db0> /System/Library/Frameworks/IOKit.framework/Versions/A/IOKit\\n    0x7fff82bde000 -     0x7fff830fefc6  libGLProgrammability.dylib ??? (???) <c0b0ce17b94ac62ab466731a54d5856b> /System/Library/Frameworks/OpenGL.framework/Versions/A/Libraries/libGLProgrammability.dylib\\n    0x7fff830ff000 -     0x7fff83187fe7  libsqlite3.0.dylib ??? (???) <4c5570911c0c5b5bbc839d169c42e77b> /usr/lib/libsqlite3.0.dylib\\n    0x7fff83188000 -     0x7fff831cbfef  libTIFF.dylib ??? (???) <7d206cd6bd78db8b39bbf7e275ea37e2> /System/Library/Frameworks/ApplicationServices.framework/Versions/A/Frameworks/ImageIO.framework/Versions/A/Resources/libTIFF.dylib\\n    0x7fff831cc000 -     0x7fff831e6fff  libvDSP.dylib ??? (???) /System/Library/Frameworks/Accelerate.framework/Versions/A/Frameworks/vecLib.framework/Versions/A/libvDSP.dylib\\n    0x7fff831e7000 -     0x7fff831e9fff  com.apple.print.framework.Print 218.0.2 (220.1) <8ae6f6dc02839b1ab2ebad34a5574ad6> /System/Library/Frameworks/Carbon.framework/Versions/A/Frameworks/Print.framework/Versions/A/Print\\n    0x7fff831ea000 -     0x7fff83485fe3  com.apple.Foundation 6.5.7 (677.22) <8134977fcc57198a53dc494b60592980> /System/Library/Frameworks/Foundation.framework/Versions/C/Foundation\\n    0x7fff83486000 -     0x7fff83490fff  com.apple.speech.recognition.framework 3.7.24 (3.7.24) <3780e10cf1c574c73098426b9f3b91bf> /System/Library/Frameworks/Carbon.framework/Versions/A/Frameworks/SpeechRecognition.framework/Versions/A/SpeechRecognition\\n    0x7fff83491000 -     0x7fff8349dff1  libgcc_s.1.dylib ??? (???) <568895f7479fefc4796748a618c6ec9f> /usr/lib/libgcc_s.1.dylib\\n    0x7fff8349e000 -     0x7fff8353efe3  com.apple.ApplicationServices.ATS 3.4 (???) <47cf09bf78935889f17f1b6b09badf0d> /System/Library/Frameworks/ApplicationServices.framework/Versions/A/Frameworks/ATS.framework/Versions/A/ATS\\n    0x7fff8353f000 -     0x7fff835aeff9  com.apple.print.framework.PrintCore 5.5.3 (245.3) <2a1172060533e5c6454398061ef21099> /System/Library/Frameworks/ApplicationServices.framework/Versions/A/Frameworks/PrintCore.framework/Versions/A/PrintCore\\n    0x7fff835af000 -     0x7fff835c3ff7  libGL.dylib ??? (???) /System/Library/Frameworks/OpenGL.framework/Versions/A/Libraries/libGL.dylib\\n    0x7fff835c4000 -     0x7fff835c4ffd  com.apple.vecLib 3.4.2 (vecLib 3.4.2) /System/Library/Frameworks/vecLib.framework/Versions/A/vecLib\\n    0x7fff835c5000 -     0x7fff83733fff  libicucore.A.dylib ??? (???) <374ddaf141bf88dba00ab9058f2dbad6> /usr/lib/libicucore.A.dylib\\n    0x7fff83734000 -     0x7fff83734ff8  com.apple.ApplicationServices 34 (34) <71fa30df5b60e756224f1dc853592585> /System/Library/Frameworks/ApplicationServices.framework/Versions/A/ApplicationServices\\n    0x7fff83735000 -     0x7fff837d0fe7  com.apple.ink.framework 101.3 (86) <087a78fda9b86c898cd33fdcbc927699> /System/Library/Frameworks/Carbon.framework/Versions/A/Frameworks/Ink.framework/Versions/A/Ink\\n    0x7fff837d1000 -     0x7fff83bb1fef  com.apple.QuartzCore 1.5.7 (1.5.7) <cbcec87916a52fa48a46437b93e366c5> /System/Library/Frameworks/QuartzCore.framework/Versions/A/QuartzCore\\n    0x7fff83bb2000 -     0x7fff83bb3ff3  com.apple.audio.units.AudioUnit 1.5 (1.5) /System/Library/Frameworks/AudioUnit.framework/Versions/A/AudioUnit\\n    0x7fff83bb4000 -     0x7fff83bb8fff  libmathCommon.A.dylib ??? (???) /usr/lib/system/libmathCommon.A.dylib\\n    0x7fff83bb9000 -     0x7fff844e1fff  com.apple.AppKit 6.5.6 (949.43) <a411fba218896f0fc2ed390efa87cd6a> /System/Library/Frameworks/AppKit.framework/Versions/C/AppKit\\n    0x7fff844e2000 -     0x7fff845d6fff  libobjc.A.dylib ??? (???) <905d8d0d398f0c920dd6791acd6a8e11> /usr/lib/libobjc.A.dylib\\n    0x7fff845d7000 -     0x7fff846b8fff  libcrypto.0.9.7.dylib ??? (???) <1a4b66ea501f8a532680bc9ea9dd3749> /usr/lib/libcrypto.0.9.7.dylib\\n    0x7fff846b9000 -     0x7fff8472ffef  libvMisc.dylib ??? (???) /System/Library/Frameworks/Accelerate.framework/Versions/A/Frameworks/vecLib.framework/Versions/A/libvMisc.dylib\\n    0x7fff84730000 -     0x7fff84748fff  com.apple.DictionaryServices 1.0.0 (1.0.0) <0a5c79542cfecfe148558dd5d033aaa1> /System/Library/Frameworks/CoreServices.framework/Versions/A/Frameworks/DictionaryServices.framework/Versions/A/DictionaryServices\\n    0x7fff84749000 -     0x7fff8483efff  libxml2.2.dylib ??? (???) <8226d1180354f493954c5fa1fc0e1154> /usr/lib/libxml2.2.dylib\\n    0x7fff8483f000 -     0x7fff8483fffa  com.apple.CoreServices 32 (32) <beac1b7266aaf0da184cd5925910217e> /System/Library/Frameworks/CoreServices.framework/Versions/A/CoreServices\\n    0x7fff84840000 -     0x7fff84848ffa  libbsm.dylib ??? (???) <e4eaac0d1d83b90c308d2ee2ab957cc5> /usr/lib/libbsm.dylib\\n    0x7fffffe00000 -     0x7fffffe01780  libSystem.B.dylib ??? (???) /usr/lib/libSystem.B.dylib\\n0xfffffffffffec000 - 0xfffffffffffeffff  libobjc.A.dylib ??? (???) /usr/lib/libobjc.A.dylib']],\n",
       "      dtype=object)"
      ]
     },
     "execution_count": 13,
     "metadata": {},
     "output_type": "execute_result"
    }
   ],
   "source": [
    "'''\n",
    "    Good examples\n",
    "    Bugs = 60, 214092, 260566\n",
    "''' \n",
    "\n",
    "df[df['bug_id'] == 260566][['short_desc', 'description']].values"
   ]
  },
  {
   "cell_type": "code",
   "execution_count": 14,
   "metadata": {},
   "outputs": [
    {
     "name": "stderr",
     "output_type": "stream",
     "text": [
      "[nltk_data] Downloading package stopwords to /root/nltk_data...\n",
      "[nltk_data]   Package stopwords is already up-to-date!\n",
      "[nltk_data] Downloading package punkt to /root/nltk_data...\n",
      "[nltk_data]   Package punkt is already up-to-date!\n"
     ]
    }
   ],
   "source": [
    "import nltk\n",
    "from nltk.tokenize import RegexpTokenizer\n",
    "from nltk.corpus import stopwords\n",
    "\n",
    "nltk.download('stopwords')\n",
    "nltk.download('punkt')\n",
    "stop_words = set(stopwords.words('english'))"
   ]
  },
  {
   "cell_type": "markdown",
   "metadata": {},
   "source": [
    "## NER \n",
    "\n",
    "Reference: http://minerandodados.com.br/index.php/2018/07/03/named-entity-recognition-como-isso-funciona/"
   ]
  },
  {
   "cell_type": "code",
   "execution_count": 15,
   "metadata": {
    "scrolled": true
   },
   "outputs": [
    {
     "name": "stdout",
     "output_type": "stream",
     "text": [
      "Requirement already satisfied: en_core_web_lg==2.1.0 from https://github.com/explosion/spacy-models/releases/download/en_core_web_lg-2.1.0/en_core_web_lg-2.1.0.tar.gz#egg=en_core_web_lg==2.1.0 in /usr/local/lib/python3.5/dist-packages (2.1.0)\n",
      "\u001b[38;5;2m[+] Download and installation successful\u001b[0m\n",
      "You can now load the model via spacy.load('en_core_web_lg')\n"
     ]
    }
   ],
   "source": [
    "!python -m spacy download en_core_web_lg"
   ]
  },
  {
   "cell_type": "code",
   "execution_count": 16,
   "metadata": {},
   "outputs": [],
   "source": [
    "###### import spacy\n",
    "import spacy\n",
    "import numpy as np\n",
    "from spacy import displacy"
   ]
  },
  {
   "cell_type": "code",
   "execution_count": 76,
   "metadata": {},
   "outputs": [],
   "source": [
    "import re\n",
    "import nltk\n",
    "from contractions import contractions_dict\n",
    "\n",
    "# Example\n",
    "# https://medium.com/@pemagrg/pre-processing-text-in-python-ad13ea544dae\n",
    "\n",
    "ENTITY_ENUM = {\n",
    "    '': 'unknown',\n",
    "    'PERSON': 'person',\n",
    "    'NORP': 'nationality',\n",
    "    'FAC': 'facility',\n",
    "    'ORG': 'organization',\n",
    "    'GPE': 'country',\n",
    "    'LOC': 'location',\n",
    "    'PRODUCT': 'product',\n",
    "    'EVENT': 'event',\n",
    "    'WORK_OF_ART': 'artwork',\n",
    "    'LANGUAGE': 'language',\n",
    "    'DATE': 'date',\n",
    "    'TIME': 'time',\n",
    "    # 'PERCENT': 'percent',\n",
    "    # 'MONEY': 'money',\n",
    "    # 'QUANTITY': 'quantity',\n",
    "    # 'ORDINAL': 'ordinal',\n",
    "    # 'CARDINAL': 'cardinal',\n",
    "    'PERCENT': 'number',\n",
    "    'MONEY': 'number',\n",
    "    'QUANTITY': 'number',\n",
    "    'ORDINAL': 'number',\n",
    "    'CARDINAL': 'number',\n",
    "    'LAW': 'law'\n",
    "}\n",
    "\n",
    "# Keyboards\n",
    "keyboards = [u'ctrl', u'CTRL', u'CTRL\\+TAB', u'ctrl\\+tab', u'ESC', u'Esc', u'esc', u'crtl \\+ space', \n",
    "             u'CTRL \\+ SPACE', u'CTRL + Space', u'CTRL\\-C', u'CTRL\\-V', u'ctrl\\-c', u'ctrl\\-v', u'Ctrl-z', u'Ctrl - z',\n",
    "            u'CTRL-z', u'Ctrl+z', u'ctrl-z', u'ctrl+z', u'CTRL - z', u'Ctrl + z', u'CTRL+z', u'CTRL+Z', u'CTRL + Z',\n",
    "            u'CTRL- Z']\n",
    "for i in range(0, 13):\n",
    "    # Ctrl+number\n",
    "    keyboards.append(u'CTRL\\+{}'.format(i))\n",
    "    keyboards.append(u'Ctrl\\+{}'.format(i))\n",
    "    keyboards.append(u'ctrl\\+{}'.format(i))\n",
    "    keyboards.append(u'CTRL \\+ {}'.format(i))\n",
    "    keyboards.append(u'Ctrl \\+ {}'.format(i))\n",
    "    keyboards.append(u'ctrl \\+ {}'.format(i))\n",
    "    keyboards.append(u'CTRL\\-{}'.format(i))\n",
    "    keyboards.append(u'Ctrl\\-{}'.format(i))\n",
    "    keyboards.append(u'ctrl\\-{}'.format(i))\n",
    "    # F+number\n",
    "    keyboards.append(u'F{}'.format(i))\n",
    "    keyboards.append(u'f{}'.format(i))\n",
    "    \n",
    "def expand_contractions(text, contractions_dict):\n",
    "    contractions_pattern = re.compile('({})'.format('|'.join(contractions_dict.keys())),\n",
    "                                      flags=re.IGNORECASE | re.DOTALL)\n",
    "    re.compile('({})'.format('|'.join(contractions_dict.keys())),\n",
    "                                      flags=re.IGNORECASE | re.DOTALL)\n",
    "    def expand_match(contraction):\n",
    "            match = contraction.group(0)\n",
    "            first_char = match[0]\n",
    "            expanded_contraction = contractions_dict.get(match) \\\n",
    "                if contractions_dict.get(match) \\\n",
    "                else contractions_dict.get(match.lower())\n",
    "            expanded_contraction = expanded_contraction\n",
    "            return expanded_contraction\n",
    "    \n",
    "    expanded_text = contractions_pattern.sub(expand_match, text)\n",
    "    expanded_text = re.sub(\"'\", \"\", expanded_text)\n",
    "    return expanded_text\n",
    "    \n",
    "def func_name_tokenize(text):\n",
    "    s = []\n",
    "    for i, c in enumerate(text):\n",
    "      if c.isupper() and i > 0 and text[i-1].islower():\n",
    "        s.append(' ')\n",
    "      s.append(c)\n",
    "    return ''.join(s).strip()\n",
    "\n",
    "def ner_replace(corpus, text, allow_ner):\n",
    "    ents, start_char, end_char = [], [], []\n",
    "    \n",
    "    ents = [ENTITY_ENUM[row.label_] if row.label_ in ENTITY_ENUM else row.label_ for row in corpus.ents]\n",
    "    starts_char = np.array([row.start_char for row in corpus.ents])\n",
    "    ends_char = np.array([row.end_char for row in corpus.ents])\n",
    "    \n",
    "    for index, ent, start_pos, end_pos in zip(range(len(ents)), ents, starts_char, ends_char):\n",
    "        if ent.lower() in allow_ner:\n",
    "            replaced = \" {} \".format(ent.lower())\n",
    "            text = text[:start_pos] + replaced + text[end_pos:]\n",
    "            diff_replaced = len(replaced) - len(text[start_pos:end_pos])\n",
    "            if diff_replaced > 0: # push\n",
    "                starts_char[index+1:] += diff_replaced\n",
    "                ends_char[index+1:] += diff_replaced\n",
    "            elif diff_replaced < 0: # pull\n",
    "                starts_char[index+1:] -= (diff_replaced * -1)\n",
    "                ends_char[index+1:] -= (diff_replaced * -1)\n",
    "    return text\n",
    "\n",
    "def normalize_text(corpus, text, allow_ner=None, ner=None):\n",
    "    # Bug links\n",
    "    text = re.sub(r'(https://bugs.eclipse.org/bugs/show_bug\\.cgi\\?id\\=)[0-9]{1,}', 'bug id', str(text)) # extension file\n",
    "    text = re.sub(r'(bug|Bug) (#|)[0-9]{1,}', 'bug id', text) # bug id\n",
    "    \n",
    "    text = re.sub(r'(build|Build|Build Identifier|build identifier)( #|#| | |: |:| :| I| i)[0-9]{1,}', 'build id ', text) # build id\n",
    "    text = re.sub(r'(npe|NPE)', 'null pointer exception', text) # npe to null pointer exception\n",
    "    text = re.sub(r'(vm|VM)', 'virtual machine', text) # VM to Virtual Machine\n",
    "    text = re.sub(r'[0-9]{1,} (min|minutes|minute|m)', 'x time', text) # [0-9] min\n",
    "    # Extension files\n",
    "    text = re.sub(r'(WAR|zip|ZIP)', 'extension file', text) # extension file\n",
    "    text = re.sub(r'.(zip|txt|java|js|html|php|pdf|exe|doc|jar|xml)', ' extension file', text) # extension file\n",
    "    # Keyboards\n",
    "    text = re.sub(r'('+('|'.join(keyboards))+')', 'keyboard', text) # key board\n",
    "    # Contraction\n",
    "    text=expand_contractions(text,contractions_dict)\n",
    "    #text = re.sub(r'(doesn\\'t)', 'does not', text) # does not \n",
    "    #text = re.sub(r'\\w{2,}(.java)', 'code class', str(text)) # .java class files\n",
    "\n",
    "    # NER processing\n",
    "    text = text[:100000] # limit of spacy lib\n",
    "    if ner != None:\n",
    "        corpus = ner(text)\n",
    "    text = ner_replace(corpus, text, allow_ner)\n",
    "\n",
    "    tokens = re.compile(r'[\\W_]+', re.UNICODE).split(text)\n",
    "    text = ' '.join([func_name_tokenize(token) for token in tokens])\n",
    "    #     text = ' '.join(tokens)\n",
    "    \n",
    "    text = re.sub(r'\\d+((\\s\\d+)+)?', 'number', text)\n",
    "    text = [word.lower() for word in nltk.word_tokenize(text)]\n",
    "    text = ' '.join([word for word in text]).encode('utf-8')\n",
    "    return text, corpus"
   ]
  },
  {
   "cell_type": "code",
   "execution_count": 18,
   "metadata": {},
   "outputs": [],
   "source": [
    "ner = spacy.load('en_core_web_lg')"
   ]
  },
  {
   "cell_type": "code",
   "execution_count": 19,
   "metadata": {},
   "outputs": [
    {
     "name": "stdout",
     "output_type": "stream",
     "text": [
      "ID= 82448\n"
     ]
    },
    {
     "data": {
      "text/html": [
       "<div class=\"entities\" style=\"line-height: 2.5; direction: ltr\">\n",
       "<mark class=\"entity\" style=\"background: #7aecec; padding: 0.45em 0.6em; margin: 0 0.25em; line-height: 1; border-radius: 0.35em; box-decoration-break: clone; -webkit-box-decoration-break: clone\">\n",
       "    Internal\n",
       "    <span style=\"font-size: 0.8em; font-weight: bold; line-height: 1; border-radius: 0.35em; text-transform: uppercase; vertical-align: middle; margin-left: 0.5rem\">ORG</span>\n",
       "</mark>\n",
       " compiler error</br>java.lang.NullPointerException</br></br>\tat org.eclipse.jdt.internal.compiler.ast.Annotation.resolveType</br>(Annotation.java:204)</br></br>\tat \n",
       "<mark class=\"entity\" style=\"background: #e4e7d2; padding: 0.45em 0.6em; margin: 0 0.25em; line-height: 1; border-radius: 0.35em; box-decoration-break: clone; -webkit-box-decoration-break: clone\">\n",
       "    org.eclipse.jdt.internal.compiler.ast.ASTNode.resolveAnnotations\n",
       "\n",
       "    <span style=\"font-size: 0.8em; font-weight: bold; line-height: 1; border-radius: 0.35em; text-transform: uppercase; vertical-align: middle; margin-left: 0.5rem\">MONEY</span>\n",
       "</mark>\n",
       "(ASTNode.java:398)</br></br>\tat </br>org.eclipse.jdt.internal.compiler.ast.AbstractMethodDeclaration.resolve</br>(AbstractMethodDeclaration.java:388)</br></br>\tat org.eclipse.jdt.internal.compiler.ast.TypeDeclaration.resolve</br>(TypeDeclaration.java:1014)</br></br>\tat org.eclipse.jdt.internal.compiler.ast.TypeDeclaration.resolve</br>(TypeDeclaration.java:1063)</br></br>\tat </br>org.eclipse.jdt.internal.compiler.ast.CompilationUnitDeclaration.resolve</br>(CompilationUnitDeclaration.java:280)</br></br>\tat \n",
       "<mark class=\"entity\" style=\"background: #7aecec; padding: 0.45em 0.6em; margin: 0 0.25em; line-height: 1; border-radius: 0.35em; box-decoration-break: clone; -webkit-box-decoration-break: clone\">\n",
       "    org.eclipse.jdt.internal.compiler.Compiler.process(Compiler.java:510\n",
       "    <span style=\"font-size: 0.8em; font-weight: bold; line-height: 1; border-radius: 0.35em; text-transform: uppercase; vertical-align: middle; margin-left: 0.5rem\">ORG</span>\n",
       "</mark>\n",
       ")</br></br>\tat org.eclipse.jdt.internal.compiler.Compiler.compile(Compiler.java:335)</br></br>\tat org.eclipse.jdt.internal.core.builder.AbstractImageBuilder.compile</br>(AbstractImageBuilder.java:215)</br></br>\tat org.eclipse.jdt.internal.core.builder.AbstractImageBuilder.compile</br>(AbstractImageBuilder.java:165)</br></br>\tat org.eclipse.jdt.internal.core.builder.BatchImageBuilder.build</br>(BatchImageBuilder.java:49)</br></br>\tat org.eclipse.jdt.internal.core.builder.JavaBuilder.buildAll</br>(JavaBuilder.java:212)</br></br>\tat org.eclipse.jdt.internal.core.builder.JavaBuilder.build</br>(JavaBuilder.java:135)</br></br>\tat org.eclipse.core.internal.events.BuildManager$2.run</br>(BuildManager.java:574)</br></br>\tat org.eclipse.core.internal.runtime.InternalPlatform.run</br>(InternalPlatform.java:1044)</br></br>\tat org.eclipse.core.runtime.Platform.run(Platform.java:747)</br></br>\tat \n",
       "<mark class=\"entity\" style=\"background: #7aecec; padding: 0.45em 0.6em; margin: 0 0.25em; line-height: 1; border-radius: 0.35em; box-decoration-break: clone; -webkit-box-decoration-break: clone\">\n",
       "    org.eclipse.core.internal.events.BuildManager.basicBuild\n",
       "    <span style=\"font-size: 0.8em; font-weight: bold; line-height: 1; border-radius: 0.35em; text-transform: uppercase; vertical-align: middle; margin-left: 0.5rem\">ORG</span>\n",
       "</mark>\n",
       "</br>(BuildManager.java:158)</br></br>\tat \n",
       "<mark class=\"entity\" style=\"background: #7aecec; padding: 0.45em 0.6em; margin: 0 0.25em; line-height: 1; border-radius: 0.35em; box-decoration-break: clone; -webkit-box-decoration-break: clone\">\n",
       "    org.eclipse.core.internal.events.BuildManager.basicBuild\n",
       "    <span style=\"font-size: 0.8em; font-weight: bold; line-height: 1; border-radius: 0.35em; text-transform: uppercase; vertical-align: middle; margin-left: 0.5rem\">ORG</span>\n",
       "</mark>\n",
       "</br>(BuildManager.java:192)</br></br>\tat org.eclipse.core.internal.events.BuildManager$1.run</br>(BuildManager.java:221)</br></br>\tat org.eclipse.core.internal.runtime.InternalPlatform.run</br>(InternalPlatform.java:1044)</br></br>\tat org.eclipse.core.runtime.Platform.run(Platform.java:747)</br></br>\tat \n",
       "<mark class=\"entity\" style=\"background: #bfeeb7; padding: 0.45em 0.6em; margin: 0 0.25em; line-height: 1; border-radius: 0.35em; box-decoration-break: clone; -webkit-box-decoration-break: clone\">\n",
       "    org.eclipse.core.internal.events.BuildManager.basicBuild\n",
       "\n",
       "    <span style=\"font-size: 0.8em; font-weight: bold; line-height: 1; border-radius: 0.35em; text-transform: uppercase; vertical-align: middle; margin-left: 0.5rem\">PRODUCT</span>\n",
       "</mark>\n",
       "(BuildManager.java:224)</br></br>\tat \n",
       "<mark class=\"entity\" style=\"background: #e4e7d2; padding: 0.45em 0.6em; margin: 0 0.25em; line-height: 1; border-radius: 0.35em; box-decoration-break: clone; -webkit-box-decoration-break: clone\">\n",
       "    org.eclipse.core.internal.events.BuildManager.basicBuildLoop\n",
       "\n",
       "    <span style=\"font-size: 0.8em; font-weight: bold; line-height: 1; border-radius: 0.35em; text-transform: uppercase; vertical-align: middle; margin-left: 0.5rem\">MONEY</span>\n",
       "</mark>\n",
       "(BuildManager.java:243)\n",
       "\n",
       "\tat org.eclipse.core.internal.events.BuildManager.build\n",
       "(BuildManager.java:272)\n",
       "\n",
       "\tat org.eclipse.core.internal.events.AutoBuildJob.doBuild\n",
       "(AutoBuildJob.java:142)\n",
       "\n",
       "\tat org.eclipse.core.internal.events.AutoBuildJob.run\n",
       "(AutoBuildJob.java:203)\n",
       "\n",
       "\tat org.eclipse.core.internal.jobs.Worker.run(Worker.java:66)</div>"
      ],
      "text/plain": [
       "<IPython.core.display.HTML object>"
      ]
     },
     "metadata": {},
     "output_type": "display_data"
    },
    {
     "name": "stdout",
     "output_type": "stream",
     "text": [
      "###########################################################################################\n",
      "(b'internal compiler error java lang null pointer exception at org eclipse jdt internal compiler ast annotation resolve type annotation extension file at org eclipse jdt internal compiler ast astnode resolve annotations astnode extension file at org eclipse jdt internal compiler ast abstract methodaration resolve abstract methodaration extension file at org eclipse jdt internal compiler ast typearation resolve typearation extension file at org eclipse jdt internal compiler ast typearation resolve typearation extension file at org eclipse jdt internal compiler ast compilation unitaration resolve compilation unitaration extension file at org eclipse jdt internal compiler compiler process compiler extension file at org eclipse jdt internal compiler compiler compile compiler extension file at org eclipse jdt internal core builder abstract image builder compile abstract image builder extension file at org eclipse jdt internal core builder abstract image builder compile abstract image builder extension file at org eclipse jdt internal core builder batch image builder build batch image builder extension file at org eclipse jdt internal core builder java builder build all java builder extension file at org eclipse jdt internal core builder java builder build java builder extension file at org eclipse core internal events build manager run build manager extension file at org eclipse core internal runtime internal platform run internal platform extension file at org eclipse core runtime platform run platform extension file at org eclipse core internal events build manager basic build build manager extension file at org eclipse core internal events build manager basic build build manager extension file at org eclipse core internal events build manager run build manager extension file at org eclipse core internal runtime internal platform run internal platform extension file at org eclipse core runtime platform run platform extension file at org eclipse core internal events build manager basic build build manager extension file at org eclipse core internal events build manager basic build loop build manager extension file at org eclipse core internal events build manager build build manager extension file at org eclipse core internal events auto build job do build auto build job extension file at org eclipse core internal events auto build job run auto build job extension file at org eclipse core internal jobs worker run worker extension file', Internal compiler error\n",
      "java.lang.NullPointerException\n",
      "\n",
      "\tat org.eclipse.jdt.internal.compiler.ast.Annotation.resolveType\n",
      "(Annotation.java:204)\n",
      "\n",
      "\tat org.eclipse.jdt.internal.compiler.ast.ASTNode.resolveAnnotations\n",
      "(ASTNode.java:398)\n",
      "\n",
      "\tat \n",
      "org.eclipse.jdt.internal.compiler.ast.AbstractMethodDeclaration.resolve\n",
      "(AbstractMethodDeclaration.java:388)\n",
      "\n",
      "\tat org.eclipse.jdt.internal.compiler.ast.TypeDeclaration.resolve\n",
      "(TypeDeclaration.java:1014)\n",
      "\n",
      "\tat org.eclipse.jdt.internal.compiler.ast.TypeDeclaration.resolve\n",
      "(TypeDeclaration.java:1063)\n",
      "\n",
      "\tat \n",
      "org.eclipse.jdt.internal.compiler.ast.CompilationUnitDeclaration.resolve\n",
      "(CompilationUnitDeclaration.java:280)\n",
      "\n",
      "\tat org.eclipse.jdt.internal.compiler.Compiler.process(Compiler.java:510)\n",
      "\n",
      "\tat org.eclipse.jdt.internal.compiler.Compiler.compile(Compiler.java:335)\n",
      "\n",
      "\tat org.eclipse.jdt.internal.core.builder.AbstractImageBuilder.compile\n",
      "(AbstractImageBuilder.java:215)\n",
      "\n",
      "\tat org.eclipse.jdt.internal.core.builder.AbstractImageBuilder.compile\n",
      "(AbstractImageBuilder.java:165)\n",
      "\n",
      "\tat org.eclipse.jdt.internal.core.builder.BatchImageBuilder.build\n",
      "(BatchImageBuilder.java:49)\n",
      "\n",
      "\tat org.eclipse.jdt.internal.core.builder.JavaBuilder.buildAll\n",
      "(JavaBuilder.java:212)\n",
      "\n",
      "\tat org.eclipse.jdt.internal.core.builder.JavaBuilder.build\n",
      "(JavaBuilder.java:135)\n",
      "\n",
      "\tat org.eclipse.core.internal.events.BuildManager$2.run\n",
      "(BuildManager.java:574)\n",
      "\n",
      "\tat org.eclipse.core.internal.runtime.InternalPlatform.run\n",
      "(InternalPlatform.java:1044)\n",
      "\n",
      "\tat org.eclipse.core.runtime.Platform.run(Platform.java:747)\n",
      "\n",
      "\tat org.eclipse.core.internal.events.BuildManager.basicBuild\n",
      "(BuildManager.java:158)\n",
      "\n",
      "\tat org.eclipse.core.internal.events.BuildManager.basicBuild\n",
      "(BuildManager.java:192)\n",
      "\n",
      "\tat org.eclipse.core.internal.events.BuildManager$1.run\n",
      "(BuildManager.java:221)\n",
      "\n",
      "\tat org.eclipse.core.internal.runtime.InternalPlatform.run\n",
      "(InternalPlatform.java:1044)\n",
      "\n",
      "\tat org.eclipse.core.runtime.Platform.run(Platform.java:747)\n",
      "\n",
      "\tat org.eclipse.core.internal.events.BuildManager.basicBuild\n",
      "(BuildManager.java:224)\n",
      "\n",
      "\tat org.eclipse.core.internal.events.BuildManager.basicBuildLoop\n",
      "(BuildManager.java:243)\n",
      "\n",
      "\tat org.eclipse.core.internal.events.BuildManager.build\n",
      "(BuildManager.java:272)\n",
      "\n",
      "\tat org.eclipse.core.internal.events.AutoBuildJob.doBuild\n",
      "(AutoBuildJob.java:142)\n",
      "\n",
      "\tat org.eclipse.core.internal.events.AutoBuildJob.run\n",
      "(AutoBuildJob.java:203)\n",
      "\n",
      "\tat org.eclipse.core.internal.jobs.Worker.run(Worker.java:66))\n",
      "###########################################################################################\n",
      "internal compiler error java lang null pointer exception at org eclipse jdt internal compiler ast annotation resolve type annotation extension file at org eclipse jdt internal compiler ast astnode resolve annotations astnode extension file at org eclipse jdt internal compiler ast abstract methodaration resolve abstract methodaration extension file at number typearation extension file at number typearation extension file at org eclipse jdt internal compiler ast compilation unitaration resolve compilation unitaration extension file at org eclipse jdt internal compiler compiler process compiler extension file at org eclipse jdt internal compiler compiler compile compiler extension file at org eclipse jdt internal core builder abstract image builder compile abstract image builder extension file at org eclipse jdt internal core builder abstract image builder compile abstract image builder extension file at org eclipse jdt internal core builder batch image builder build batch image builder extension file at org eclipse jdt internal core builder java builder build all java builder extension file at org eclipse jdt internal core builder java builder build java builder extension file at org eclipse core internal events build manager run build manager extension file at org eclipse core internal runtime internal platform run internal platform extension file at org eclipse core runtime platform run platform extension date at product build manager extension file at org eclipse core internal events build manager basic build build manager extension file at org eclipse core internal events build manager run build manager extension file at org eclipse core internal runtime internal platform run internal platform extension file at org eclipse core runtime platform run platform extension date at product build manager extension file at org eclipse core internal events build manager basic build loop build manager extension file at org eclipse core internal events build manager build build manager extension file at org eclipse core internal events auto build job do build auto build job extension file at org eclipse core internal events auto build job run auto build job extension file at org eclipse core internal jobs worker run worker extension file\n"
     ]
    }
   ],
   "source": [
    "#idx = 3 # 37\n",
    "'''\n",
    "    ID with stack stacktrace\n",
    "    94184, 331595\n",
    "'''\n",
    "#idx = np.random.choice(list(baseline.bug_set), 1)[0]\n",
    "idx = 82448\n",
    "\n",
    "print(\"ID=\", idx)\n",
    "\n",
    "\"\"\"\n",
    "Some issues with bug in the description: 40, 41, 42, 43, 44\n",
    "\"\"\"\n",
    "\n",
    "sentence = df[df['bug_id'] == idx]['description'].values[0]\n",
    "#sentence2 = baseline.bug_set[baseline.bug_ids[idx]]['description']\n",
    "\n",
    "texto = ner(sentence)\n",
    "texto2 = normalize_text(texto, sentence, list(ENTITY_ENUM))\n",
    "\n",
    "displacy.render(texto, style='ent', jupyter=True)\n",
    "print(\"###########################################################################################\")\n",
    "print(texto2)\n",
    "print(\"###########################################################################################\")\n",
    "print(baseline.bug_set[idx]['description'])"
   ]
  },
  {
   "cell_type": "markdown",
   "metadata": {},
   "source": [
    "## Optimizing NER\n",
    "\n",
    "https://pypi.org/project/excelcy/"
   ]
  },
  {
   "cell_type": "markdown",
   "metadata": {},
   "source": [
    "## Some bug ids example\n",
    "\n",
    "Eclipse\n",
    "\n",
    "- numerical \n",
    "    - 61364\n",
    "- http link\n",
    "    - 267713\n",
    "- stack trace\n",
    "    - 368109, 35801, 367500, 253193, 281806, 352726, 317126, 277559\n",
    "- steps\n",
    "    - 327983, 49639, 197215, 187705, 30351, 6747\n",
    "- bug id\n",
    "    - 404690, 348357, 26121, 293159\n",
    "- build id\n",
    "    - 5516, 301002\n",
    "- Entidades que dizem a mesma coisa (NPE = Null Pointer Exception)\n",
    "    - 120679\n",
    "- Keyboard examples\n",
    "    - 203041, 5081\n",
    "- Extension files\n",
    "    - 380627"
   ]
  },
  {
   "cell_type": "code",
   "execution_count": 21,
   "metadata": {},
   "outputs": [],
   "source": [
    "# Dates\n",
    "dates = []\n",
    "for year in range(2000, 2012):\n",
    "    for month in ['Jan', 'Feb', 'Mar', 'Apr', 'May', 'Jun', 'Jul', 'Aug', 'Oct', 'Nov', 'Dec']:\n",
    "        for day in range(32):\n",
    "            dates.append( u'{} {}, {}'.format(day, month, year))"
   ]
  },
  {
   "cell_type": "code",
   "execution_count": 37,
   "metadata": {},
   "outputs": [],
   "source": [
    "steps = []\n",
    "for i in range(15):\n",
    "    steps.append(u'{}. '.format(i))\n",
    "    steps.append(u'({}) '.format(i))\n",
    "    steps.append(u'{}) '.format(i))"
   ]
  },
  {
   "cell_type": "code",
   "execution_count": 67,
   "metadata": {},
   "outputs": [],
   "source": [
    "import spacy\n",
    "from spacy.matcher import PhraseMatcher\n",
    "from spacy.tokens import Span\n",
    "\n",
    "# Solution from https://github.com/explosion/spaCy/issues/3608\n",
    "class EntityMatcher(object):\n",
    "    #name = \"entity_matcher\"\n",
    "\n",
    "    def __init__(self, name, nlp, terms, label):\n",
    "        self.name = name\n",
    "        patterns = [nlp.make_doc(text) for text in terms]\n",
    "        self.matcher = PhraseMatcher(nlp.vocab)\n",
    "        self.matcher.add(label, None, *patterns)\n",
    "\n",
    "    def __call__(self, doc):\n",
    "        matches = self.matcher(doc)\n",
    "        seen_tokens = set()\n",
    "        new_entities = []\n",
    "        entities = doc.ents\n",
    "        for match_id, start, end in matches:\n",
    "        #    span = Span(doc, start, end, label=match_id)\n",
    "        #    doc.ents = list(doc.ents) + [span]\n",
    "            # check for end - 1 here because boundaries are inclusive\n",
    "            if start not in seen_tokens and end - 1 not in seen_tokens:\n",
    "                new_entities.append(Span(doc, start, end, label=match_id))\n",
    "                entities = [\n",
    "                    e for e in entities if not (e.start < end and e.end > start)\n",
    "                ]\n",
    "                seen_tokens.update(range(start, end))\n",
    "\n",
    "        doc.ents = tuple(entities) + tuple(new_entities)\n",
    "        return doc\n",
    "\n",
    "nlp = spacy.load('en_core_web_lg')\n",
    "\n",
    "'''\n",
    "Organization\n",
    "(u'Oracle Corporation', u'Oracle', u'Mozilla', u'Google', u'IBM', u'An IBM')\n",
    "Product\n",
    "(u'MacOS', u'MacOS X', u'MacOS x', u'Mac OS X', u'Redhat Linux', u'RedHat Enterprise',\n",
    "               u'Linux', u'Windows XP', u'Java Virtual Machine', \n",
    "               u'VM', u'BIRT', u'Birt Web project', u'Birt', u'Birt Charting', u'JIRA', u'linux',\n",
    "               u'CDT', u'JREs', u'JRE', u'jre', u'Windows NT', u'SWT', u'CVS', u'Fedora Core',\n",
    "              u'Tomcat', u'Axis', u'Red Hat', u'GTK'),\n",
    "Component\n",
    "(u'JDK', u'JDT', u'AJNature', u'JavaBuilder', u'AJBuilder', u'OclInvalid', u'Aerogear', \n",
    "u'JSP', u'JGit', u'SDK', u'JEE', u'EPP', u'JEE EPP', u'Widget'),\n",
    "'''\n",
    "\n",
    "list_terms = [dates,\n",
    "              (u'API', u\"The Javadoc\", u\"the Javadoc\", u\"C++\", u'c++', u'C/C++', u'XML', u'xml',\n",
    "               u'CSS', u'css', u'SQL', u'sql',\n",
    "               u'HTML5', u'HTTP', u'html', u'http', u'html5' u'html 5', 'HTML', u'HTML 5'),\n",
    "              (u'MacOS', u'MacOS X', u'MacOS x', u'Mac OS X', u'Redhat Linux', u'RedHat Enterprise',\n",
    "               u'Linux', u'Windows XP', u'WindowsXP', u'Windows NT', u'Fedora Core', u'Red Hat'),\n",
    "              steps\n",
    "             ]\n",
    "list_labels = ['DATE', \"LANGUAGE\", \"PRODUCT\", \"STEP INDEX\"]\n",
    "\n",
    "allow_ner = ['person', 'time', 'number']\n",
    "\n",
    "allow_ner += [ent.lower() for ent in list_labels]\n",
    "\n",
    "for terms, label in zip(list_terms, list_labels):\n",
    "    entity_matcher = EntityMatcher(label, nlp, terms, label)\n",
    "    nlp.add_pipe(entity_matcher, after='ner')"
   ]
  },
  {
   "cell_type": "code",
   "execution_count": 80,
   "metadata": {},
   "outputs": [
    {
     "name": "stdout",
     "output_type": "stream",
     "text": [
      "ID= 192280\n",
      "###########################################################################################\n"
     ]
    },
    {
     "data": {
      "text/html": [
       "<div class=\"entities\" style=\"line-height: 2.5; direction: ltr\">Driver:  \n",
       "<mark class=\"entity\" style=\"background: #7aecec; padding: 0.45em 0.6em; margin: 0 0.25em; line-height: 1; border-radius: 0.35em; box-decoration-break: clone; -webkit-box-decoration-break: clone\">\n",
       "    WTP\n",
       "    <span style=\"font-size: 0.8em; font-weight: bold; line-height: 1; border-radius: 0.35em; text-transform: uppercase; vertical-align: middle; margin-left: 0.5rem\">ORG</span>\n",
       "</mark>\n",
       " 2.0 RC2</br></br>Create an Axis2 client scenario with this URL:</br>http://www.xmethods.net/sd/2001/CurrencyExchangeService.wsdl</br></br>resulted in the following error:</br></br>Exception occurred while code generation for \n",
       "<mark class=\"entity\" style=\"background: #7aecec; padding: 0.45em 0.6em; margin: 0 0.25em; line-height: 1; border-radius: 0.35em; box-decoration-break: clone; -webkit-box-decoration-break: clone\">\n",
       "    WSDL\n",
       "    <span style=\"font-size: 0.8em; font-weight: bold; line-height: 1; border-radius: 0.35em; text-transform: uppercase; vertical-align: middle; margin-left: 0.5rem\">ORG</span>\n",
       "</mark>\n",
       " null</br>    extension file.lang.reflect.InvocationTargetException</br>    at \n",
       "<mark class=\"entity\" style=\"background: #7aecec; padding: 0.45em 0.6em; margin: 0 0.25em; line-height: 1; border-radius: 0.35em; box-decoration-break: clone; -webkit-box-decoration-break: clone\">\n",
       "    sun.reflect.NativeMethodAccessorImpl.invoke0(Native Method\n",
       "    <span style=\"font-size: 0.8em; font-weight: bold; line-height: 1; border-radius: 0.35em; text-transform: uppercase; vertical-align: middle; margin-left: 0.5rem\">ORG</span>\n",
       "</mark>\n",
       ")</br>    at sun.reflect.NativeMethodAccessorImpl.invoke(NativeMethodAccessorImpl extension file:64)</br>    at sun.reflect.DelegatingMethodAccessorImpl.invoke(DelegatingMethodAccessorImpl extension file:43)</br>    at extension file.lang.reflect.Method.invoke(Method extension file:615)</br>    at \n",
       "<mark class=\"entity\" style=\"background: #7aecec; padding: 0.45em 0.6em; margin: 0 0.25em; line-height: 1; border-radius: 0.35em; box-decoration-break: clone; -webkit-box-decoration-break: clone\">\n",
       "    org.eclipse\n",
       "    <span style=\"font-size: 0.8em; font-weight: bold; line-height: 1; border-radius: 0.35em; text-transform: uppercase; vertical-align: middle; margin-left: 0.5rem\">ORG</span>\n",
       "</mark>\n",
       " extension \n",
       "<mark class=\"entity\" style=\"background: #7aecec; padding: 0.45em 0.6em; margin: 0 0.25em; line-height: 1; border-radius: 0.35em; box-decoration-break: clone; -webkit-box-decoration-break: clone\">\n",
       "    filet.ws.axis2.consumption.core.utils.WSDL2JavaGenerator.getAxisService(WSDL2JavaGenerator\n",
       "    <span style=\"font-size: 0.8em; font-weight: bold; line-height: 1; border-radius: 0.35em; text-transform: uppercase; vertical-align: middle; margin-left: 0.5rem\">ORG</span>\n",
       "</mark>\n",
       " extension file:379)</br>    at \n",
       "<mark class=\"entity\" style=\"background: #7aecec; padding: 0.45em 0.6em; margin: 0 0.25em; line-height: 1; border-radius: 0.35em; box-decoration-break: clone; -webkit-box-decoration-break: clone\">\n",
       "    org.eclipse\n",
       "    <span style=\"font-size: 0.8em; font-weight: bold; line-height: 1; border-radius: 0.35em; text-transform: uppercase; vertical-align: middle; margin-left: 0.5rem\">ORG</span>\n",
       "</mark>\n",
       " extension filet.ws.axis2.consumption.core.command.Axis2ClientCodegenCommand extension filecute(Axis2ClientCodegenCommand extension file:89)</br></br>Heres the console log:</br></br>SEVERE: org.apache.axis2.dkeyboardription.WSDL11ToAxisServiceBuilder$WSDLProcessingException: Encoded use is not supported</br>java.lang.reflect.InvocationTargetException</br>\tat \n",
       "<mark class=\"entity\" style=\"background: #7aecec; padding: 0.45em 0.6em; margin: 0 0.25em; line-height: 1; border-radius: 0.35em; box-decoration-break: clone; -webkit-box-decoration-break: clone\">\n",
       "    sun.reflect.NativeMethodAccessorImpl.invoke0(Native Method\n",
       "    <span style=\"font-size: 0.8em; font-weight: bold; line-height: 1; border-radius: 0.35em; text-transform: uppercase; vertical-align: middle; margin-left: 0.5rem\">ORG</span>\n",
       "</mark>\n",
       ")</br>\tat sun.reflect.NativeMethodAccessorImpl.invoke(NativeMethodAccessorImpl extension file:64)</br>\tat sun.reflect.DelegatingMethodAccessorImpl.invoke(DelegatingMethodAccessorImpl extension file:43)</br>\tat extension file.lang.reflect.Method.invoke(Method extension file:615)</br>\tat \n",
       "<mark class=\"entity\" style=\"background: #7aecec; padding: 0.45em 0.6em; margin: 0 0.25em; line-height: 1; border-radius: 0.35em; box-decoration-break: clone; -webkit-box-decoration-break: clone\">\n",
       "    org.eclipse\n",
       "    <span style=\"font-size: 0.8em; font-weight: bold; line-height: 1; border-radius: 0.35em; text-transform: uppercase; vertical-align: middle; margin-left: 0.5rem\">ORG</span>\n",
       "</mark>\n",
       " extension \n",
       "<mark class=\"entity\" style=\"background: #7aecec; padding: 0.45em 0.6em; margin: 0 0.25em; line-height: 1; border-radius: 0.35em; box-decoration-break: clone; -webkit-box-decoration-break: clone\">\n",
       "    filet.ws.axis2.consumption.core.utils.WSDL2JavaGenerator.getAxisService(WSDL2JavaGenerator\n",
       "    <span style=\"font-size: 0.8em; font-weight: bold; line-height: 1; border-radius: 0.35em; text-transform: uppercase; vertical-align: middle; margin-left: 0.5rem\">ORG</span>\n",
       "</mark>\n",
       " extension file:379)</br>\tat \n",
       "<mark class=\"entity\" style=\"background: #7aecec; padding: 0.45em 0.6em; margin: 0 0.25em; line-height: 1; border-radius: 0.35em; box-decoration-break: clone; -webkit-box-decoration-break: clone\">\n",
       "    org.eclipse\n",
       "    <span style=\"font-size: 0.8em; font-weight: bold; line-height: 1; border-radius: 0.35em; text-transform: uppercase; vertical-align: middle; margin-left: 0.5rem\">ORG</span>\n",
       "</mark>\n",
       " extension \n",
       "<mark class=\"entity\" style=\"background: #7aecec; padding: 0.45em 0.6em; margin: 0 0.25em; line-height: 1; border-radius: 0.35em; box-decoration-break: clone; -webkit-box-decoration-break: clone\">\n",
       "    filet.ws.axis2.creation.core.command.Axis2WSDL2JavaCommand\n",
       "    <span style=\"font-size: 0.8em; font-weight: bold; line-height: 1; border-radius: 0.35em; text-transform: uppercase; vertical-align: middle; margin-left: 0.5rem\">ORG</span>\n",
       "</mark>\n",
       " extension filecute(Axis2WSDL2JavaCommand extension file:75)</br>\tat org.eclipse.wst.command.internal.env.core.fragment.CommandFragmentEngine.runCommand(CommandFragmentEngine extension file:418)</br>\tat \n",
       "<mark class=\"entity\" style=\"background: #feca74; padding: 0.45em 0.6em; margin: 0 0.25em; line-height: 1; border-radius: 0.35em; box-decoration-break: clone; -webkit-box-decoration-break: clone\">\n",
       "    org.eclipse.wst.command.internal.env.core.fragment.CommandFragmentEngine.visitTop(CommandFragmentEngine\n",
       "    <span style=\"font-size: 0.8em; font-weight: bold; line-height: 1; border-radius: 0.35em; text-transform: uppercase; vertical-align: middle; margin-left: 0.5rem\">GPE</span>\n",
       "</mark>\n",
       " extension file:358)</br>\tat org.eclipse.wst.command.internal.env.core.fragment.CommandFragmentEngine.moveForwardToNextStop(CommandFragmentEngine extension file:253)</br>\tat org.eclipse.wst.command.internal.env.ui.widgets.SimpleCommandEngineManager$5.run(SimpleCommandEngineManager extension file:252)</br>\tat org.eclipse.jface.operation.ModalContext.runInCurrentThread(ModalContext extension file:369)</br>\tat org.eclipse.jface.operation.ModalContext.run(ModalContext extension file:313)</br>\tat org.eclipse.jface.wizard.WizardDialog.run(WizardDialog extension file:934)</br>\tat org.eclipse.wst.command.internal.env.ui.widgets.SimpleCommandEngineManager.runForwardToNextStop(SimpleCommandEngineManager extension file:222)</br>\tat org.eclipse.wst.command.internal.env.ui.widgets.WizardPageManager.runForwardToNextStop(WizardPageManager extension file:96)</br>\tat org.eclipse.wst.command.internal.env.ui.widgets.WizardPageManager.getNextPage(WizardPageManager extension file:147)</br>\tat org.eclipse.wst.command.internal.env.ui.widgets.SimpleWizardPage.getNextPage(SimpleWizardPage extension file:136)</br>\tat org.eclipse.jface.wizard.WizardDialog.nextPressed(WizardDialog extension file:813)</br>\tat org.eclipse.jface.wizard.WizardDialog.buttonPressed(WizardDialog extension file:369)</br>\tat org.eclipse.jface.dialogs.Dialog$2.widgetSelected(Dialog extension file:616)</br>\tat org.eclipse.swt.widgets.TypedListener.handleEvent(TypedListener extension file:227)</br>\tat org.eclipse.swt.widgets.EventTable.sendEvent(EventTable extension file:66)</br>\tat org.eclipse.swt.widgets.Widget.sendEvent(Widget extension file:938)</br>\tat \n",
       "<mark class=\"entity\" style=\"background: #7aecec; padding: 0.45em 0.6em; margin: 0 0.25em; line-height: 1; border-radius: 0.35em; box-decoration-break: clone; -webkit-box-decoration-break: clone\">\n",
       "    org.eclipse.swt.widgets.Display.runDeferredEvents(Display\n",
       "    <span style=\"font-size: 0.8em; font-weight: bold; line-height: 1; border-radius: 0.35em; text-transform: uppercase; vertical-align: middle; margin-left: 0.5rem\">ORG</span>\n",
       "</mark>\n",
       " extension file:3682)</br>\tat org.eclipse.swt.widgets.Display.readAndDispatch(Display extension file:3293)</br>\tat org.eclipse.jface.window.Window.runEventLoop(Window extension file:820)</br>\tat org.eclipse.jface.window.Window.open(Window extension file:796)</br>\tat org.eclipse.ui.actions.NewWizardAction.run(NewWizardAction extension file:182)</br>\tat org.eclipse.ui.actions.NewWizardDropDownAction.run(NewWizardDropDownAction extension file:174)</br>\tat org.eclipse.jface.action.Action.runWithEvent(Action extension file:498)</br>\tat org.eclipse.jface.action.ActionContributionItem.handleWidgetSelection(ActionContributionItem extension file:545)</br>\tat org.eclipse.jface.action.ActionContributionItem.access$2(ActionContributionItem extension file:490)</br>\tat org.eclipse.jface.action.ActionContributionItem$6.handleEvent(ActionContributionItem extension file:443)</br>\tat org.eclipse.swt.widgets.EventTable.sendEvent(EventTable extension file:66)</br>\tat org.eclipse.swt.widgets.Widget.sendEvent(Widget extension file:938)</br>\tat \n",
       "<mark class=\"entity\" style=\"background: #7aecec; padding: 0.45em 0.6em; margin: 0 0.25em; line-height: 1; border-radius: 0.35em; box-decoration-break: clone; -webkit-box-decoration-break: clone\">\n",
       "    org.eclipse.swt.widgets.Display.runDeferredEvents(Display\n",
       "    <span style=\"font-size: 0.8em; font-weight: bold; line-height: 1; border-radius: 0.35em; text-transform: uppercase; vertical-align: middle; margin-left: 0.5rem\">ORG</span>\n",
       "</mark>\n",
       " extension file:3682)</br>\tat org.eclipse.swt.widgets.Display.readAndDispatch(Display extension file:3293)</br>\tat org.eclipse.ui.internal.Workbench.runEventLoop(Workbench extension file:2389)</br>\tat org.eclipse.ui.internal.Workbench.runUI(Workbench extension file:2353)</br>\tat org.eclipse.ui.internal.Workbench.access$4(Workbench extension file:2219)</br>\tat org.eclipse.ui.internal.Workbench$4.run(Workbench extension file:466)</br>\tat org.eclipse.core.databinding.observable.Realm.runWithDefault(Realm extension file:289)</br>\tat org.eclipse.ui.internal.Workbench.createAndRunWorkbench(Workbench extension file:461)</br>\tat org.eclipse.ui.PlatformUI.createAndRunWorkbench(PlatformUI extension file:149)</br>\tat org.eclipse.ui.internal.ide.application.IDEApplication.start(IDEApplication extension file:106)</br>\tat org.eclipse.equinox.internal.app.EclipseAppHandle.run(EclipseAppHandle extension file:153)</br>\tat org.eclipse.core.runtime.internal.adaptor.EclipseAppLauncher.runApplication(EclipseAppLauncher extension file:106)</br>\tat org.eclipse.core.runtime.internal.adaptor.EclipseAppLauncher.start(EclipseAppLauncher extension file:76)</br>\tat org.eclipse.core.runtime.adaptor.EclipseStarter.run(EclipseStarter extension file:363)</br>\tat org.eclipse.core.runtime.adaptor.EclipseStarter.run(EclipseStarter extension file:176)</br>\tat sun.reflect.NativeMethodAccessorImpl.invoke0(Native Method)</br>\tat sun.reflect.NativeMethodAccessorImpl.invoke(NativeMethodAccessorImpl extension file:64)</br>\tat sun.reflect.DelegatingMethodAccessorImpl.invoke(DelegatingMethodAccessorImpl extension file:43)</br>\tat extension file.lang.reflect.Method.invoke(Method extension file:615)</br>\tat org.eclipse.equinox.launcher.Main.invokeFramework(Main extension file:504)</br>\tat org.eclipse.equinox.launcher.Main.basicRun(Main extension file:443)</br>\tat org.eclipse.equinox.launcher.Main.run(Main extension file:1169)</br>\tat org.eclipse.equinox.launcher.Main.main(Main extension file:1144)</br>Caused by: \n",
       "<mark class=\"entity\" style=\"background: #e4e7d2; padding: 0.45em 0.6em; margin: 0 0.25em; line-height: 1; border-radius: 0.35em; box-decoration-break: clone; -webkit-box-decoration-break: clone\">\n",
       "    org.apache.axis2.AxisFault\n",
       "    <span style=\"font-size: 0.8em; font-weight: bold; line-height: 1; border-radius: 0.35em; text-transform: uppercase; vertical-align: middle; margin-left: 0.5rem\">CARDINAL</span>\n",
       "</mark>\n",
       ": Encoded use is not supported</br>\tat \n",
       "<mark class=\"entity\" style=\"background: #feca74; padding: 0.45em 0.6em; margin: 0 0.25em; line-height: 1; border-radius: 0.35em; box-decoration-break: clone; -webkit-box-decoration-break: clone\">\n",
       "    org.apache.axis2.dkeyboardription.WSDL11ToAxisServiceBuilder.populateService(WSDL11ToAxisServiceBuilder\n",
       "    <span style=\"font-size: 0.8em; font-weight: bold; line-height: 1; border-radius: 0.35em; text-transform: uppercase; vertical-align: middle; margin-left: 0.5rem\">GPE</span>\n",
       "</mark>\n",
       " extension file:298)</br>\t... x timeore</br>Caused by: org.apache.axis2.dkeyboardription.WSDL11ToAxisServiceBuilder$WSDLProcessingException: Encoded use is not supported</br>\tat org.apache.axis2.dkeyboardription.WSDL11ToAxisServiceBuilder.getPartsListFromSoapBody(WSDL11ToAxisServiceBuilder extension file:1543)</br>\tat org.apache.axis2.dkeyboardription.WSDL11ToAxisServiceBuilder.createSchemaForPorttype(WSDL11ToAxisServiceBuilder extension file:1294)</br>\tat \n",
       "<mark class=\"entity\" style=\"background: #feca74; padding: 0.45em 0.6em; margin: 0 0.25em; line-height: 1; border-radius: 0.35em; box-decoration-break: clone; -webkit-box-decoration-break: clone\">\n",
       "    org.apache.axis2.dkeyboardription.WSDL11ToAxisServiceBuilder.generateWrapperSchema(WSDL11ToAxisServiceBuilder\n",
       "    <span style=\"font-size: 0.8em; font-weight: bold; line-height: 1; border-radius: 0.35em; text-transform: uppercase; vertical-align: middle; margin-left: 0.5rem\">GPE</span>\n",
       "</mark>\n",
       " extension file:1198)</br>\tat \n",
       "<mark class=\"entity\" style=\"background: #7aecec; padding: 0.45em 0.6em; margin: 0 0.25em; line-height: 1; border-radius: 0.35em; box-decoration-break: clone; -webkit-box-decoration-break: clone\">\n",
       "    org.apache.axis2.dkeyboardription.WSDL11ToAxisServiceBuilder.populateService(WSDL11ToAxisServiceBuilder\n",
       "    <span style=\"font-size: 0.8em; font-weight: bold; line-height: 1; border-radius: 0.35em; text-transform: uppercase; vertical-align: middle; margin-left: 0.5rem\">ORG</span>\n",
       "</mark>\n",
       " extension file:252)\n",
       "\t... x timeore\n",
       "\n",
       "Same problem with Axis2 skeleton.</div>"
      ],
      "text/plain": [
       "<IPython.core.display.HTML object>"
      ]
     },
     "metadata": {},
     "output_type": "display_data"
    },
    {
     "name": "stdout",
     "output_type": "stream",
     "text": [
      "###########################################################################################\n",
      "b'driver wtp number rcnumber create an axisnumber client scenario with this url http www xmethods net sd number currency exchange service wsdl resulted in the following error exception occurred while code generation for wsdl null extension file lang reflect invocation target exception at sun reflect native method accessor impl invokenumber native method at sun reflect native method accessor impl invoke native method accessor impl extension file number at sun reflect delegating method accessor impl invoke delegating method accessor impl extension file number at extension file lang reflect method invoke method extension file number at org eclipse extension filet ws axisnumber consumption core utils wsdlnumberjava generator get axis service wsdlnumberjava generator extension file number at org eclipse extension filet ws axisnumber consumption core command axisnumberclient codegen command extension filecute axisnumberclient codegen command extension file number heres the console log severe org apache axisnumber dkeyboardription wsdlnumberto axis service builder wsdlprocessing exception encoded use is not supported java lang reflect invocation target exception at sun reflect native method accessor impl invokenumber native method at sun reflect native method accessor impl invoke native method accessor impl extension file number at sun reflect delegating method accessor impl invoke delegating method accessor impl extension file number at extension file lang reflect method invoke method extension file number at org eclipse extension filet ws axisnumber consumption core utils wsdlnumberjava generator get axis service wsdlnumberjava generator extension file number at org eclipse extension filet ws axisnumber creation core command axisnumberwsdlnumberjava command extension filecute axisnumberwsdlnumberjava command extension file number at org eclipse wst command internal env core fragment command fragment engine run command command fragment engine extension file number at org eclipse wst command internal env core fragment command fragment engine visit top command fragment engine extension file number at org eclipse wst command internal env core fragment command fragment engine move forward to next stop command fragment engine extension file number at org eclipse wst command internal env ui widgets simple command engine manager number run simple command engine manager extension file number at org eclipse jface operation modal context run in current thread modal context extension file number at org eclipse jface operation modal context run modal context extension file number at org eclipse jface wizard wizard dialog run wizard dialog extension file number at org eclipse wst command internal env ui widgets simple command engine manager run forward to next stop simple command engine manager extension file number at org eclipse wst command internal env ui widgets wizard page manager run forward to next stop wizard page manager extension file number at org eclipse wst command internal env ui widgets wizard page manager get next page wizard page manager extension file number at org eclipse wst command internal env ui widgets simple wizard page get next page simple wizard page extension file number at org eclipse jface wizard wizard dialog next pressed wizard dialog extension file number at org eclipse jface wizard wizard dialog button pressed wizard dialog extension file number at org eclipse jface dialogs dialog number widget selected dialog extension file number at org eclipse swt widgets typed listener handle event typed listener extension file number at org eclipse swt widgets event table send event event table extension file number at org eclipse swt widgets widget send event widget extension file number at org eclipse swt widgets display run deferred events display extension file number at org eclipse swt widgets display read and dispatch display extension file number at org eclipse jface window window run event loop window extension file number at org eclipse jface window window open window extension file number at org eclipse ui actions new wizard action run new wizard action extension file number at org eclipse ui actions new wizard drop down action run new wizard drop down action extension file number at org eclipse jface action action run with event action extension file number at org eclipse jface action action contribution item handle widget selection action contribution item extension file number at org eclipse jface action action contribution item access number action contribution item extension file number at org eclipse jface action action contribution item number handle event action contribution item extension file number at org eclipse swt widgets event table send event event table extension file number at org eclipse swt widgets widget send event widget extension file number at org eclipse swt widgets display run deferred events display extension file number at org eclipse swt widgets display read and dispatch display extension file number at org eclipse ui internal workbench run event loop workbench extension file number at org eclipse ui internal workbench run ui workbench extension file number at org eclipse ui internal workbench access number workbench extension file number at org eclipse ui internal workbench number run workbench extension file number at org eclipse core databinding observable realm run with default realm extension file number at org eclipse ui internal workbench create and run workbench workbench extension file number at org eclipse ui platform ui create and run workbench platform ui extension file number at org eclipse ui internal ide application ideapplication start ideapplication extension file number at org eclipse equinox internal app eclipse app handle run eclipse app handle extension file number at org eclipse core runtime internal adaptor eclipse app launcher run application eclipse app launcher extension file number at org eclipse core runtime internal adaptor eclipse app launcher start eclipse app launcher extension file number at org eclipse core runtime adaptor eclipse starter run eclipse starter extension file number at org eclipse core runtime adaptor eclipse starter run eclipse starter extension file number at sun reflect native method accessor impl invokenumber native method at sun reflect native method accessor impl invoke native method accessor impl extension file number at sun reflect delegating method accessor impl invoke delegating method accessor impl extension file number at extension file lang reflect method invoke method extension file number at org eclipse equinox launcher main invoke framework main extension file number at org eclipse equinox launcher main basic run main extension file number at org eclipse equinox launcher main run main extension file number at org eclipse equinox launcher main main main extension file number caused by number encoded use is not supported at org apache axisnumber dkeyboardription wsdlnumberto axis service builder populate service wsdlnumberto axis service builder extension file number x timeore caused by org apache axisnumber dkeyboardription wsdlnumberto axis service builder wsdlprocessing exception encoded use is not supported at org apache axisnumber dkeyboardription wsdlnumberto axis service builder get parts list from soap body wsdlnumberto axis service builder extension file number at org apache axisnumber dkeyboardription wsdlnumberto axis service builder create schema for porttype wsdlnumberto axis service builder extension file number at org apache axisnumber dkeyboardription wsdlnumberto axis service builder generate wrapper schema wsdlnumberto axis service builder extension file number at org apache axisnumber dkeyboardription wsdlnumberto axis service builder populate service wsdlnumberto axis service builder extension file number x timeore same problem with axisnumber skeleton'\n",
      "###########################################################################################\n",
      "driver wtp rc create an axis client scenario with this url http www xmethods net sd currency exchange service wsdl resulted in the following error exception occurred while code generation for wsdl null extension file lang reflect invocation target exception at sun reflect native method accessor impl invoke native method at sun reflect native method accessor impl invoke native method accessor impl extension file at sun reflect delegating method accessor impl invoke delegating method accessor impl extension file at extension file lang reflect method invoke method extension file at org eclipse extension filet ws axis consumption core utils wsdl java generator get axis service wsdl java generator extension file at org eclipse extension filet ws axis consumption core command axis client codegen command execute axis client codegen command extension file heres the console log severe org apache axis dkeyboardription wsdl to axis service builder wsdlprocessing exception encoded use is not supported java lang reflect invocation target exception at sun reflect native method accessor impl invoke native method at sun reflect native method accessor impl invoke native method accessor impl extension file at sun reflect delegating method accessor impl invoke delegating method accessor impl extension file at extension file lang reflect method invoke method extension file at org eclipse extension filet ws axis consumption core utils wsdl java generator get axis service wsdl java generator extension file at org eclipse extension filet ws axis creation core command axis wsdl java command execute axis wsdl java command extension file at org eclipse wst command internal env core fragment command fragment engine run command command fragment engine extension file at org eclipse wst command internal env core fragment command fragment engine visit top command fragment engine extension file at org eclipse wst command internal env core fragment command fragment engine move forward to next stop command fragment engine extension file at org eclipse wst command internal env ui widgets simple command engine manager run simple command engine manager extension file at org eclipse jface operation modal context run in current thread modal context extension file at org eclipse jface operation modal context run modal context extension file at org eclipse jface wizard wizard dialog run wizard dialog extension file at org eclipse wst command internal env ui widgets simple command engine manager run forward to next stop simple command engine manager extension file at org eclipse wst command internal env ui widgets wizard page manager run forward to next stop wizard page manager extension file at org eclipse wst command internal env ui widgets wizard page manager get next page wizard page manager extension file at org eclipse wst command internal env ui widgets simple wizard page get next page simple wizard page extension file at org eclipse jface wizard wizard dialog next pressed wizard dialog extension file at org eclipse jface wizard wizard dialog button pressed wizard dialog extension file at org eclipse jface dialogs dialog widget selected dialog extension file at org eclipse swt widgets typed listener handle event typed listener extension file at org eclipse swt widgets event table send event event table extension file at org eclipse swt widgets widget send event widget extension file at org eclipse swt widgets display run deferred events display extension file at org eclipse swt widgets display read and dispatch display extension file at org eclipse jface window window run event loop window extension file at org eclipse jface window window open window extension file at org eclipse ui actions new wizard action run new wizard action extension file at org eclipse ui actions new wizard drop down action run new wizard drop down action extension file at org eclipse jface action action run with event action extension file at org eclipse jface action action contribution item handle widget selection action contribution item extension file at org eclipse jface action action contribution item access action contribution item extension file at org eclipse jface action action contribution item handle event action contribution item extension file at org eclipse swt widgets event table send event event table extension file at org eclipse swt widgets widget send event widget extension file at org eclipse swt widgets display run deferred events display extension file at org eclipse swt widgets display read and dispatch display extension file at org eclipse ui internal workbench run event loop workbench extension file at org eclipse ui internal workbench run ui workbench extension file at org eclipse ui internal workbench access workbench extension file at org eclipse ui internal workbench run workbench extension file at org eclipse core databinding observable realm run with default realm extension file at org eclipse ui internal workbench create and run workbench workbench extension file at org eclipse ui platform ui create and run workbench platform ui extension file at org eclipse ui internal ide application ideapplication start ideapplication extension file at org eclipse equinox internal app eclipse app handle run eclipse app handle extension file at org eclipse core runtime internal adaptor eclipse app launcher run application eclipse app launcher extension file at org eclipse core runtime internal adaptor eclipse app launcher start eclipse app launcher extension file at org eclipse core runtime adaptor eclipse starter run eclipse starter extension file at org eclipse core runtime adaptor eclipse starter run eclipse starter extension file at sun reflect native method accessor impl invoke native method at sun reflect native method accessor impl invoke native method accessor impl extension file at sun reflect delegating method accessor impl invoke delegating method accessor impl extension file at extension file lang reflect method invoke method extension file at org eclipse equinox launcher main invoke framework main extension file at org eclipse equinox launcher main basic run main extension file at org eclipse equinox launcher main run main extension file at org eclipse equinox launcher main main main extension file caused by number encoded use is not supported at org apache axis dkeyboardription wsdl to axis service builder populate service wsdl to axis service builder extension file x timeore caused by org apache axis dkeyboardription wsdl to axis service builder wsdlprocessing exception encoded use is not supported at org apache axis dkeyboardription wsdl to axis service builder get parts list from soap body wsdl to axis service builder extension file at org apache axis dkeyboardription wsdl to axis service builder create schema for porttype wsdl to axis service builder extension file at org apache axis dkeyboardription wsdl to axis service builder generate wrapper schema wsdl to axis service builder extension file at org apache axis dkeyboardription wsdl to axis service builder populate service wsdl to axis service builder extension file x timeore same problem with axis skeleton\n"
     ]
    }
   ],
   "source": [
    "import numpy as np\n",
    "from spacy import displacy\n",
    "\n",
    "#idx = 3 # 37\n",
    "'''\n",
    "    ID with stack stacktrace\n",
    "    94184, 331595\n",
    "'''\n",
    "idx = np.random.choice(list(baseline.bug_set), 1)[0]\n",
    "# idx = 208547 # 327983, 49639, 197215, 187705, 30351\n",
    "\n",
    "print(\"ID=\", idx)\n",
    "\n",
    "\"\"\"\n",
    "Some issues with bug in the description: 40, 41, 42, 43, 44\n",
    "\"\"\"\n",
    "\n",
    "sentence = df[df['bug_id'] == idx]['description'].values[0]\n",
    "#sentence2 = baseline.bug_set[baseline.bug_ids[idx]]['description']\n",
    "\n",
    "#texto = nlp(sentence)\n",
    "texto2, texto2_ner = normalize_text(None, sentence, allow_ner=allow_ner, ner=nlp)\n",
    "#print(sentence)\n",
    "print(\"###########################################################################################\")\n",
    "displacy.render(texto2_ner, style='ent', jupyter=True)\n",
    "print(\"###########################################################################################\")\n",
    "print(texto2)\n",
    "print(\"###########################################################################################\")\n",
    "print(baseline.bug_set[idx]['description'])"
   ]
  }
 ],
 "metadata": {
  "kernelspec": {
   "display_name": "Python 3",
   "language": "python",
   "name": "python3"
  },
  "language_info": {
   "codemirror_mode": {
    "name": "ipython",
    "version": 3
   },
   "file_extension": ".py",
   "mimetype": "text/x-python",
   "name": "python",
   "nbconvert_exporter": "python",
   "pygments_lexer": "ipython3",
   "version": "3.5.2"
  }
 },
 "nbformat": 4,
 "nbformat_minor": 2
}
