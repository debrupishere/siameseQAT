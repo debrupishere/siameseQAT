{
 "cells": [
  {
   "cell_type": "code",
   "execution_count": 1,
   "metadata": {},
   "outputs": [
    {
     "name": "stderr",
     "output_type": "stream",
     "text": [
      "Using TensorFlow backend.\n"
     ]
    }
   ],
   "source": [
    "import keras\n",
    "import re\n",
    "import numpy as np\n",
    "import pandas as pd\n",
    "\n",
    "import os\n",
    "from tqdm import tqdm_notebook as tqdm\n",
    "import matplotlib.pyplot as plt\n",
    "import sys\n",
    "nb_dir = os.path.split(os.getcwd())[0]\n",
    "if nb_dir not in sys.path:\n",
    "    sys.path.append(nb_dir)\n",
    "    \n",
    "# %matplotlib inline\n",
    "\n",
    "from methods.baseline import Baseline\n",
    "from methods.experiments import Experiment\n",
    "from methods.evaluation import Evaluation\n",
    "from methods.retrieval import Retrieval\n",
    "\n",
    "import keras.backend as K\n",
    "from keras_bert import load_vocabulary\n",
    "from keras.utils import to_categorical\n",
    "from sklearn.preprocessing import LabelEncoder\n",
    "from sklearn.metrics import accuracy_score\n",
    "from sklearn.metrics import roc_auc_score\n",
    "import matplotlib.pyplot as plt\n",
    "import _pickle as pickle\n",
    "import random"
   ]
  },
  {
   "cell_type": "code",
   "execution_count": 2,
   "metadata": {},
   "outputs": [
    {
     "name": "stdout",
     "output_type": "stream",
     "text": [
      "env: epochs=1000\n",
      "env: base=netbeans\n",
      "env: method=deepQL_topics_trainable\n"
     ]
    }
   ],
   "source": [
    "%env epochs 1000\n",
    "%env base netbeans\n",
    "%env method deepQL_topics_trainable"
   ]
  },
  {
   "cell_type": "code",
   "execution_count": 3,
   "metadata": {},
   "outputs": [],
   "source": [
    "EMBEDDING_DIM = 300\n",
    "MAX_NB_WORDS = 2000\n",
    "epochs = int(os.environ['epochs'])"
   ]
  },
  {
   "cell_type": "code",
   "execution_count": 4,
   "metadata": {},
   "outputs": [],
   "source": [
    "DOMAIN = os.environ['base']\n",
    "TOKEN = 'bert'\n",
    "PREPROCESSING = 'bert'\n",
    "DATASET = os.path.join('data/normalized/{}'.format(DOMAIN), '{}.csv'.format(DOMAIN))\n",
    "DIR = 'data/processed/{}/{}'.format(DOMAIN, PREPROCESSING)\n",
    "TRAIN_PATH = os.path.join(DIR, 'train_chronological.txt')\n",
    "TEST_PATH = os.path.join(DIR, 'test_chronological.txt')"
   ]
  },
  {
   "cell_type": "code",
   "execution_count": 5,
   "metadata": {},
   "outputs": [],
   "source": [
    "pretrained_path = 'uncased_L-12_H-768_A-12'\n",
    "config_path = os.path.join(pretrained_path, 'bert_config.json')\n",
    "model_path = os.path.join(pretrained_path, 'bert_model.ckpt')\n",
    "vocab_path = os.path.join(pretrained_path, 'vocab.txt')"
   ]
  },
  {
   "cell_type": "code",
   "execution_count": 6,
   "metadata": {},
   "outputs": [],
   "source": [
    "token_dict = load_vocabulary(vocab_path)"
   ]
  },
  {
   "cell_type": "code",
   "execution_count": 7,
   "metadata": {},
   "outputs": [],
   "source": [
    "MAX_SEQUENCE_LENGTH_T = 100\n",
    "MAX_SEQUENCE_LENGTH_D = 100"
   ]
  },
  {
   "cell_type": "code",
   "execution_count": 8,
   "metadata": {},
   "outputs": [],
   "source": [
    "baseline = Baseline(DOMAIN, DIR, DATASET, MAX_SEQUENCE_LENGTH_T, MAX_SEQUENCE_LENGTH_D, \n",
    "                    token_dict['[CLS]'], token_dict['[SEP]'])\n",
    "evaluation = Evaluation(verbose=0)\n",
    "retrieval = Retrieval()\n",
    "experiment = Experiment(baseline, evaluation)"
   ]
  },
  {
   "cell_type": "code",
   "execution_count": 9,
   "metadata": {},
   "outputs": [],
   "source": [
    "experiment.set_retrieval(retrieval, baseline, DOMAIN)"
   ]
  },
  {
   "cell_type": "code",
   "execution_count": 10,
   "metadata": {},
   "outputs": [
    {
     "data": {
      "application/vnd.jupyter.widget-view+json": {
       "model_id": "0e50e478cdd2477298a10029e0764ca3",
       "version_major": 2,
       "version_minor": 0
      },
      "text/plain": [
       "HBox(children=(IntProgress(value=0, max=181971), HTML(value='')))"
      ]
     },
     "metadata": {},
     "output_type": "display_data"
    },
    {
     "name": "stdout",
     "output_type": "stream",
     "text": [
      "\n"
     ]
    }
   ],
   "source": [
    "issues_by_buckets = experiment.get_buckets_for_bugs()"
   ]
  },
  {
   "cell_type": "markdown",
   "metadata": {},
   "source": [
    "### Create split based on clusters "
   ]
  },
  {
   "cell_type": "code",
   "execution_count": 11,
   "metadata": {},
   "outputs": [
    {
     "name": "stdout",
     "output_type": "stream",
     "text": [
      "Number of groups 181971\n"
     ]
    }
   ],
   "source": [
    "print(\"Number of groups {}\".format(len(retrieval.buckets)))"
   ]
  },
  {
   "cell_type": "code",
   "execution_count": 12,
   "metadata": {},
   "outputs": [],
   "source": [
    "buckets = retrieval.buckets"
   ]
  },
  {
   "cell_type": "code",
   "execution_count": 13,
   "metadata": {},
   "outputs": [
    {
     "name": "stdout",
     "output_type": "stream",
     "text": [
      "Duplicate groups in train: 163773\n",
      "Duplicate groups in test: 18198\n"
     ]
    }
   ],
   "source": [
    "SPLIT_SIZE_TRAIN = 0.9\n",
    "list_of_buckets = list(buckets.keys())\n",
    "random.shuffle(list_of_buckets)\n",
    "SPLIT_SIZE = int(len(list_of_buckets) * SPLIT_SIZE_TRAIN)\n",
    "train_buckets = list_of_buckets[:SPLIT_SIZE]\n",
    "test_buckets = list_of_buckets[SPLIT_SIZE:]\n",
    "\n",
    "print(\"Duplicate groups in train: {}\".format(len(train_buckets)))\n",
    "print(\"Duplicate groups in test: {}\".format(len(test_buckets)))"
   ]
  },
  {
   "cell_type": "code",
   "execution_count": 14,
   "metadata": {
    "scrolled": true
   },
   "outputs": [
    {
     "data": {
      "text/plain": [
       "{'test': {'bucket_size': {1: 16283,\n",
       "   2: 1303,\n",
       "   3: 312,\n",
       "   4: 120,\n",
       "   5: 57,\n",
       "   6: 46,\n",
       "   7: 21,\n",
       "   8: 11,\n",
       "   9: 14,\n",
       "   10: 5,\n",
       "   11: 7,\n",
       "   12: 2,\n",
       "   13: 1,\n",
       "   14: 2,\n",
       "   15: 3,\n",
       "   16: 1,\n",
       "   17: 2,\n",
       "   18: 2,\n",
       "   19: 2,\n",
       "   25: 1,\n",
       "   26: 1,\n",
       "   36: 1,\n",
       "   41: 1}},\n",
       " 'train': {'bucket_size': {1: 146638,\n",
       "   2: 11493,\n",
       "   3: 2938,\n",
       "   4: 1178,\n",
       "   5: 548,\n",
       "   6: 324,\n",
       "   7: 186,\n",
       "   8: 110,\n",
       "   9: 105,\n",
       "   10: 53,\n",
       "   11: 35,\n",
       "   12: 26,\n",
       "   13: 29,\n",
       "   14: 18,\n",
       "   15: 17,\n",
       "   16: 3,\n",
       "   17: 8,\n",
       "   18: 10,\n",
       "   19: 8,\n",
       "   20: 2,\n",
       "   21: 6,\n",
       "   22: 4,\n",
       "   23: 4,\n",
       "   25: 3,\n",
       "   26: 1,\n",
       "   27: 1,\n",
       "   28: 1,\n",
       "   29: 2,\n",
       "   30: 2,\n",
       "   31: 3,\n",
       "   32: 1,\n",
       "   33: 3,\n",
       "   36: 1,\n",
       "   37: 1,\n",
       "   38: 1,\n",
       "   40: 1,\n",
       "   41: 1,\n",
       "   42: 2,\n",
       "   43: 1,\n",
       "   44: 1,\n",
       "   45: 1,\n",
       "   49: 1,\n",
       "   54: 1,\n",
       "   56: 1}}}"
      ]
     },
     "execution_count": 14,
     "metadata": {},
     "output_type": "execute_result"
    }
   ],
   "source": [
    "bucket_stats = { 'train' : { 'bucket_size' : {} }, 'test' : { 'bucket_size' : {} } }\n",
    "    \n",
    "def count_bucket_size(split, split_bucket):\n",
    "    for bucket_id in split_bucket:\n",
    "        bucket_size = len(buckets[bucket_id])\n",
    "        if bucket_size in bucket_stats[split]['bucket_size']:\n",
    "            bucket_stats[split]['bucket_size'][bucket_size] += 1\n",
    "        else:\n",
    "            bucket_stats[split]['bucket_size'][bucket_size] = 1\n",
    "\n",
    "count_bucket_size('train', train_buckets)\n",
    "count_bucket_size('test', test_buckets)\n",
    "\n",
    "bucket_stats"
   ]
  },
  {
   "cell_type": "code",
   "execution_count": 15,
   "metadata": {
    "scrolled": true
   },
   "outputs": [
    {
     "name": "stdout",
     "output_type": "stream",
     "text": [
      "Train pair size 87532\n",
      "Test pair size 9904\n",
      "******* IDS ***********\n",
      "Train ids size 175064\n",
      "Test ids size 19808\n",
      "Train and test with equal instances 0\n"
     ]
    }
   ],
   "source": [
    "train_dups = []\n",
    "test_dups = []\n",
    "train_ids = []\n",
    "test_ids = []\n",
    "\n",
    "def create_pairs(name, set_buckets, pair_dups, ids):\n",
    "    for bucket_id in set_buckets:\n",
    "        bucket = list(buckets[bucket_id])\n",
    "        for i, bug_id in enumerate(bucket):\n",
    "            for dup_id in bucket[i+1:]:\n",
    "                pair_dups.append([bug_id, dup_id])\n",
    "                ids.append(bug_id)\n",
    "                ids.append(dup_id)\n",
    "                \n",
    "create_pairs(\"train\", train_buckets, train_dups, train_ids)\n",
    "create_pairs(\"test\", test_buckets, test_dups, test_ids)\n",
    "\n",
    "print(\"Train pair size {}\".format(len(train_dups)))\n",
    "print(\"Test pair size {}\".format(len(test_dups)))\n",
    "print(\"******* IDS ***********\")\n",
    "print(\"Train ids size {}\".format(len(train_ids)))\n",
    "print(\"Test ids size {}\".format(len(test_ids)))\n",
    "print(\"Train and test with equal instances {}\".format(len(set(train_ids) & set(test_ids))))"
   ]
  },
  {
   "cell_type": "code",
   "execution_count": 16,
   "metadata": {},
   "outputs": [
    {
     "data": {
      "text/plain": [
       "set()"
      ]
     },
     "execution_count": 16,
     "metadata": {},
     "output_type": "execute_result"
    }
   ],
   "source": [
    "set(train_ids) & set(test_ids)"
   ]
  },
  {
   "cell_type": "code",
   "execution_count": 17,
   "metadata": {},
   "outputs": [
    {
     "data": {
      "text/plain": [
       "[[103384, 90017],\n",
       " [55428, 57796],\n",
       " [55428, 52229],\n",
       " [55428, 59307],\n",
       " [55428, 52696],\n",
       " [55428, 39449],\n",
       " [55428, 53307],\n",
       " [57796, 52229],\n",
       " [57796, 59307],\n",
       " [57796, 52696],\n",
       " [57796, 39449],\n",
       " [57796, 53307],\n",
       " [52229, 59307],\n",
       " [52229, 52696],\n",
       " [52229, 39449],\n",
       " [52229, 53307],\n",
       " [59307, 52696],\n",
       " [59307, 39449],\n",
       " [59307, 53307],\n",
       " [52696, 39449]]"
      ]
     },
     "execution_count": 17,
     "metadata": {},
     "output_type": "execute_result"
    }
   ],
   "source": [
    "train_dups[:20]"
   ]
  },
  {
   "cell_type": "code",
   "execution_count": 18,
   "metadata": {},
   "outputs": [
    {
     "data": {
      "text/plain": [
       "[[61739, 60341],\n",
       " [62217, 62171],\n",
       " [179665, 171610],\n",
       " [122522, 124522],\n",
       " [25881, 32026],\n",
       " [25881, 27569],\n",
       " [32026, 27569],\n",
       " [59515, 49646],\n",
       " [148344, 148047],\n",
       " [49112, 48345],\n",
       " [118539, 118541],\n",
       " [33225, 28703],\n",
       " [105526, 105335],\n",
       " [124492, 121470],\n",
       " [159016, 187495],\n",
       " [107396, 61767],\n",
       " [107396, 90412],\n",
       " [107396, 143408],\n",
       " [107396, 117114],\n",
       " [107396, 60540]]"
      ]
     },
     "execution_count": 18,
     "metadata": {},
     "output_type": "execute_result"
    }
   ],
   "source": [
    "test_dups[:20]"
   ]
  },
  {
   "cell_type": "markdown",
   "metadata": {},
   "source": [
    "## Logs"
   ]
  },
  {
   "cell_type": "markdown",
   "metadata": {},
   "source": [
    "## Eclipse\n",
    "- Number of groups 295713\n",
    "- Duplicate groups in train: 266141\n",
    "- Duplicate groups in test: 29572\n",
    "\n",
    "```\n",
    "{'test': {'bucket_size': {1: 27249,\n",
    "   2: 1638,\n",
    "   3: 402,\n",
    "   4: 126,\n",
    "   5: 56,\n",
    "   6: 39,\n",
    "   7: 17,\n",
    "   8: 7,\n",
    "   9: 11,\n",
    "   10: 9,\n",
    "   11: 2,\n",
    "   12: 3,\n",
    "   13: 2,\n",
    "   14: 2,\n",
    "   15: 3,\n",
    "   16: 1,\n",
    "   17: 1,\n",
    "   21: 1,\n",
    "   23: 1,\n",
    "   30: 1,\n",
    "   35: 1}},\n",
    " 'train': {'bucket_size': {1: 244652,\n",
    "   2: 15432,\n",
    "   3: 3380,\n",
    "   4: 1237,\n",
    "   5: 574,\n",
    "   6: 312,\n",
    "   7: 167,\n",
    "   8: 103,\n",
    "   9: 78,\n",
    "   10: 47,\n",
    "   11: 39,\n",
    "   12: 18,\n",
    "   13: 23,\n",
    "   14: 21,\n",
    "   15: 9,\n",
    "   16: 6,\n",
    "   17: 10,\n",
    "   18: 4,\n",
    "   19: 3,\n",
    "   20: 1,\n",
    "   21: 4,\n",
    "   22: 1,\n",
    "   23: 3,\n",
    "   24: 3,\n",
    "   25: 1,\n",
    "   26: 3,\n",
    "   28: 1,\n",
    "   29: 1,\n",
    "   30: 2,\n",
    "   33: 1,\n",
    "   34: 1,\n",
    "   40: 1,\n",
    "   42: 1,\n",
    "   45: 1,\n",
    "   50: 1}}}\n",
    "```\n",
    "\n",
    "- Train pair size 76638\n",
    "- Test pair size 8809\n",
    "- ******* IDS ***********\n",
    "- Train ids size 153276\n",
    "- Test ids size 17618\n",
    "- Train and test with equal instances 0\n",
    "- ******* Retrieval ********\n",
    "- Tested in 6163 groups queries\n",
    "\n",
    "## Netbeans\n",
    "\n",
    "- Number of groups 181971\n",
    "- Duplicate groups in train: 163773\n",
    "- Duplicate groups in test: 18198\n",
    "\n",
    "```\n",
    "{'test': {'bucket_size': {1: 16283,\n",
    "   2: 1303,\n",
    "   3: 312,\n",
    "   4: 120,\n",
    "   5: 57,\n",
    "   6: 46,\n",
    "   7: 21,\n",
    "   8: 11,\n",
    "   9: 14,\n",
    "   10: 5,\n",
    "   11: 7,\n",
    "   12: 2,\n",
    "   13: 1,\n",
    "   14: 2,\n",
    "   15: 3,\n",
    "   16: 1,\n",
    "   17: 2,\n",
    "   18: 2,\n",
    "   19: 2,\n",
    "   25: 1,\n",
    "   26: 1,\n",
    "   36: 1,\n",
    "   41: 1}},\n",
    " 'train': {'bucket_size': {1: 146638,\n",
    "   2: 11493,\n",
    "   3: 2938,\n",
    "   4: 1178,\n",
    "   5: 548,\n",
    "   6: 324,\n",
    "   7: 186,\n",
    "   8: 110,\n",
    "   9: 105,\n",
    "   10: 53,\n",
    "   11: 35,\n",
    "   12: 26,\n",
    "   13: 29,\n",
    "   14: 18,\n",
    "   15: 17,\n",
    "   16: 3,\n",
    "   17: 8,\n",
    "   18: 10,\n",
    "   19: 8,\n",
    "   20: 2,\n",
    "   21: 6,\n",
    "   22: 4,\n",
    "   23: 4,\n",
    "   25: 3,\n",
    "   26: 1,\n",
    "   27: 1,\n",
    "   28: 1,\n",
    "   29: 2,\n",
    "   30: 2,\n",
    "   31: 3,\n",
    "   32: 1,\n",
    "   33: 3,\n",
    "   36: 1,\n",
    "   37: 1,\n",
    "   38: 1,\n",
    "   40: 1,\n",
    "   41: 1,\n",
    "   42: 2,\n",
    "   43: 1,\n",
    "   44: 1,\n",
    "   45: 1,\n",
    "   49: 1,\n",
    "   54: 1,\n",
    "   56: 1}}}\n",
    "```\n",
    "- Train pair size 87532\n",
    "- Test pair size 9904\n",
    "- ******* IDS ***********\n",
    "- Train ids size 175064\n",
    "- Test ids size 19808\n",
    "- Train and test with equal instances 0\n",
    "- ******* Retrieval ********\n",
    "- Tested in 5433 groups queries\n",
    "\n",
    "## Open Office\n",
    "- Number of groups 58572\n",
    "- Duplicate groups in train: 52714\n",
    "- Duplicate groups in test: 5858\n",
    "\n",
    "```\n",
    "    {'test': {'bucket_size': {1: 5228,\n",
    "   2: 419,\n",
    "   3: 86,\n",
    "   4: 45,\n",
    "   5: 26,\n",
    "   6: 12,\n",
    "   7: 11,\n",
    "   8: 9,\n",
    "   9: 4,\n",
    "   10: 3,\n",
    "   11: 3,\n",
    "   12: 3,\n",
    "   13: 1,\n",
    "   14: 2,\n",
    "   15: 2,\n",
    "   16: 2,\n",
    "   18: 1,\n",
    "   39: 1}},\n",
    " 'train': {'bucket_size': {1: 47212,\n",
    "   2: 3457,\n",
    "   3: 925,\n",
    "   4: 373,\n",
    "   5: 228,\n",
    "   6: 138,\n",
    "   7: 84,\n",
    "   8: 60,\n",
    "   9: 44,\n",
    "   10: 22,\n",
    "   11: 26,\n",
    "   12: 21,\n",
    "   13: 19,\n",
    "   14: 18,\n",
    "   15: 12,\n",
    "   16: 13,\n",
    "   17: 7,\n",
    "   18: 4,\n",
    "   19: 5,\n",
    "   20: 5,\n",
    "   21: 6,\n",
    "   22: 3,\n",
    "   23: 3,\n",
    "   24: 4,\n",
    "   25: 3,\n",
    "   26: 2,\n",
    "   27: 1,\n",
    "   28: 2,\n",
    "   29: 3,\n",
    "   30: 1,\n",
    "   31: 1,\n",
    "   32: 3,\n",
    "   34: 1,\n",
    "   35: 1,\n",
    "   36: 3,\n",
    "   39: 1,\n",
    "   47: 1,\n",
    "   55: 1,\n",
    "   99: 1}}}\n",
    "```\n",
    "\n",
    "- Train pair size 52246\n",
    "- Test pair size 4116\n",
    "- ******* IDS ***********\n",
    "- Train ids size 104492\n",
    "- Test ids size 8232\n",
    "- Train and test with equal instances 0\n",
    "- ******* Retrieval ********\n",
    "- Tested in 1922 groups queries"
   ]
  },
  {
   "cell_type": "markdown",
   "metadata": {},
   "source": [
    "### Save train pairs"
   ]
  },
  {
   "cell_type": "code",
   "execution_count": 19,
   "metadata": {},
   "outputs": [
    {
     "data": {
      "text/plain": [
       "'data/processed/netbeans/bert/train_chronological.txt'"
      ]
     },
     "execution_count": 19,
     "metadata": {},
     "output_type": "execute_result"
    }
   ],
   "source": [
    "TRAIN_PATH"
   ]
  },
  {
   "cell_type": "code",
   "execution_count": 20,
   "metadata": {},
   "outputs": [],
   "source": [
    "with open(TRAIN_PATH, 'w') as f:\n",
    "    for pair in train_dups:\n",
    "        f.write(\"{} {}\\n\".format(pair[0], pair[1]))"
   ]
  },
  {
   "cell_type": "markdown",
   "metadata": {},
   "source": [
    "### Save test pairs"
   ]
  },
  {
   "cell_type": "code",
   "execution_count": 21,
   "metadata": {},
   "outputs": [
    {
     "data": {
      "text/plain": [
       "'data/processed/netbeans/bert/test_chronological.txt'"
      ]
     },
     "execution_count": 21,
     "metadata": {},
     "output_type": "execute_result"
    }
   ],
   "source": [
    "TEST_PATH"
   ]
  },
  {
   "cell_type": "code",
   "execution_count": 22,
   "metadata": {},
   "outputs": [],
   "source": [
    "test_data = {}\n",
    "for pair in test_dups:\n",
    "    bug1 = int(pair[0])\n",
    "    bug2 = int(pair[1])\n",
    "    \n",
    "    bucket = issues_by_buckets[bug1]\n",
    "        \n",
    "    if bucket not in test_data:\n",
    "        test_data[bucket] = set()\n",
    "        \n",
    "    test_data[bucket].add(bug1)\n",
    "    test_data[bucket].add(bug2)\n",
    "with open(TEST_PATH, 'w') as f:\n",
    "    for bug in test_data.keys():\n",
    "        f.write(\"{}\\n\".format(' '.join([str(x) for x in test_data[bug]])))"
   ]
  }
 ],
 "metadata": {
  "kernelspec": {
   "display_name": "Python 3",
   "language": "python",
   "name": "python3"
  },
  "language_info": {
   "codemirror_mode": {
    "name": "ipython",
    "version": 3
   },
   "file_extension": ".py",
   "mimetype": "text/x-python",
   "name": "python",
   "nbconvert_exporter": "python",
   "pygments_lexer": "ipython3",
   "version": "3.5.2"
  }
 },
 "nbformat": 4,
 "nbformat_minor": 2
}
