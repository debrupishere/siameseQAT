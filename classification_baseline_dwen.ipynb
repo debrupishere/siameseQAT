{
 "cells": [
  {
   "cell_type": "markdown",
   "metadata": {},
   "source": [
    "## Classification using siamese model"
   ]
  },
  {
   "cell_type": "code",
   "execution_count": 1,
   "metadata": {},
   "outputs": [
    {
     "name": "stderr",
     "output_type": "stream",
     "text": [
      "Using TensorFlow backend.\n"
     ]
    }
   ],
   "source": [
    "import keras"
   ]
  },
  {
   "cell_type": "code",
   "execution_count": 2,
   "metadata": {},
   "outputs": [],
   "source": [
    "import re\n",
    "import numpy as np\n",
    "import pandas as pd\n",
    "\n",
    "import os\n",
    "from tqdm import tqdm_notebook as tqdm\n",
    "import matplotlib.pyplot as plt\n",
    "import sys\n",
    "nb_dir = os.path.split(os.getcwd())[0]\n",
    "if nb_dir not in sys.path:\n",
    "    sys.path.append(nb_dir)\n",
    "    \n",
    "%matplotlib inline"
   ]
  },
  {
   "cell_type": "code",
   "execution_count": 3,
   "metadata": {},
   "outputs": [],
   "source": [
    "from methods.baseline import Baseline\n",
    "from methods.experiments import Experiment\n",
    "from methods.evaluation import Evaluation\n",
    "from methods.retrieval import Retrieval"
   ]
  },
  {
   "cell_type": "code",
   "execution_count": 4,
   "metadata": {},
   "outputs": [],
   "source": [
    "from keras.layers import Conv1D, Input, Add, Activation, Dropout, Embedding, MaxPooling1D, GlobalMaxPool1D, Flatten, Dense, Concatenate, BatchNormalization\n",
    "from keras.models import Model"
   ]
  },
  {
   "cell_type": "markdown",
   "metadata": {},
   "source": [
    "## Configurações Globais"
   ]
  },
  {
   "cell_type": "code",
   "execution_count": 5,
   "metadata": {},
   "outputs": [],
   "source": [
    "EMBEDDING_DIM = 300\n",
    "MAX_NB_WORDS = 2000"
   ]
  },
  {
   "cell_type": "code",
   "execution_count": 6,
   "metadata": {},
   "outputs": [],
   "source": [
    "DOMAIN = 'eclipse'\n",
    "METHOD = 'baseline_dwen'\n",
    "DIR = 'data/processed/{}'.format(DOMAIN)\n",
    "DATASET = os.path.join('data/normalized/{}'.format(DOMAIN), '{}.csv'.format(DOMAIN))\n",
    "DIR_PAIRS = 'data/normalized/{}'.format(DOMAIN)\n",
    "SAVE_PATH = '{}_classification({})'.format(METHOD, DOMAIN)\n",
    "PRETRAINED_MODEL = 'modelos/model_{}_feature_100epochs_64batch({}).h5'.format(METHOD, DOMAIN)"
   ]
  },
  {
   "cell_type": "code",
   "execution_count": 7,
   "metadata": {
    "scrolled": true
   },
   "outputs": [
    {
     "name": "stderr",
     "output_type": "stream",
     "text": [
      "/usr/local/lib/python3.5/dist-packages/keras/engine/saving.py:292: UserWarning: No training configuration found in save file: the model was *not* compiled. Compile it manually.\n",
      "  warnings.warn('No training configuration found in save file: '\n"
     ]
    }
   ],
   "source": [
    "import keras\n",
    "from keras.models import Model\n",
    "from keras.layers import Input\n",
    "from keras.models import load_model\n",
    "import keras.backend as K\n",
    "\n",
    "K.clear_session()\n",
    "\n",
    "\"\"\"\n",
    "    A lista de modelos estar disponível no diretorio /modelos\n",
    "        name:\n",
    "            - model_baseline_{X}epoch_{Y}steps_({dataset}).h5\n",
    "            - model_baseline_{X}epoch_{Y}steps_({dataset}).json\n",
    "    \n",
    "        Informações adicionais:\n",
    "            {X} - total de épocas treinada. Ex: 100, 1000\n",
    "            {Y} - total de steps validados no treino. Ex: 10, 16\n",
    "            {dataset} - Nome da base testada. Ex: Eclipse, Netbeans, OpenOffice\n",
    "\"\"\"\n",
    "similarity_model = load_model(PRETRAINED_MODEL)"
   ]
  },
  {
   "cell_type": "code",
   "execution_count": 8,
   "metadata": {},
   "outputs": [
    {
     "data": {
      "text/plain": [
       "(20, 100)"
      ]
     },
     "execution_count": 8,
     "metadata": {},
     "output_type": "execute_result"
    }
   ],
   "source": [
    "import keras.backend as K\n",
    "\n",
    "MAX_SEQUENCE_LENGTH_T = K.int_shape(similarity_model.input[0])[1]\n",
    "MAX_SEQUENCE_LENGTH_D = K.int_shape(similarity_model.input[1])[1]\n",
    "\n",
    "MAX_SEQUENCE_LENGTH_T, MAX_SEQUENCE_LENGTH_D"
   ]
  },
  {
   "cell_type": "code",
   "execution_count": 9,
   "metadata": {},
   "outputs": [],
   "source": [
    "baseline = Baseline(DIR, DATASET, MAX_SEQUENCE_LENGTH_T, MAX_SEQUENCE_LENGTH_D)\n",
    "evaluation = Evaluation(verbose=0)\n",
    "retrieval = Retrieval()\n",
    "experiment = Experiment(baseline, evaluation)"
   ]
  },
  {
   "cell_type": "code",
   "execution_count": 10,
   "metadata": {},
   "outputs": [
    {
     "data": {
      "text/plain": [
       "{'bug_severity': 7,\n",
       " 'bug_status': 3,\n",
       " 'component': 927,\n",
       " 'priority': 5,\n",
       " 'product': 189,\n",
       " 'version': 551}"
      ]
     },
     "execution_count": 10,
     "metadata": {},
     "output_type": "execute_result"
    }
   ],
   "source": [
    "baseline.info_dict"
   ]
  },
  {
   "cell_type": "code",
   "execution_count": 11,
   "metadata": {},
   "outputs": [
    {
     "name": "stdout",
     "output_type": "stream",
     "text": [
      "Creating the buckets...\n"
     ]
    },
    {
     "data": {
      "application/vnd.jupyter.widget-view+json": {
       "model_id": "f41261176afe42afb5e85e6077b55e9d",
       "version_major": 2,
       "version_minor": 0
      },
      "text/plain": [
       "HBox(children=(IntProgress(value=0, max=321483), HTML(value='')))"
      ]
     },
     "metadata": {},
     "output_type": "display_data"
    },
    {
     "name": "stdout",
     "output_type": "stream",
     "text": [
      "\n"
     ]
    },
    {
     "data": {
      "application/vnd.jupyter.widget-view+json": {
       "model_id": "aa2c9f3f2c334477ae8c0bd2ce17bf60",
       "version_major": 2,
       "version_minor": 0
      },
      "text/plain": [
       "HBox(children=(IntProgress(value=0, max=39523), HTML(value='')))"
      ]
     },
     "metadata": {},
     "output_type": "display_data"
    },
    {
     "name": "stdout",
     "output_type": "stream",
     "text": [
      "\n"
     ]
    }
   ],
   "source": [
    "experiment.set_retrieval(retrieval, baseline, DOMAIN)"
   ]
  },
  {
   "cell_type": "markdown",
   "metadata": {},
   "source": [
    "#### Loading bug ids in memory"
   ]
  },
  {
   "cell_type": "code",
   "execution_count": 12,
   "metadata": {},
   "outputs": [
    {
     "name": "stdout",
     "output_type": "stream",
     "text": [
      "Reading bug ids\n"
     ]
    },
    {
     "data": {
      "text/plain": [
       "361006"
      ]
     },
     "execution_count": 12,
     "metadata": {},
     "output_type": "execute_result"
    }
   ],
   "source": [
    "experiment.load_ids()\n",
    "len(baseline.bug_ids)"
   ]
  },
  {
   "cell_type": "markdown",
   "metadata": {},
   "source": [
    "#### Loading train bugs"
   ]
  },
  {
   "cell_type": "code",
   "execution_count": 13,
   "metadata": {},
   "outputs": [
    {
     "data": {
      "application/vnd.jupyter.widget-view+json": {
       "model_id": "0223650e90a341efbe0644d1b74ddf31",
       "version_major": 2,
       "version_minor": 0
      },
      "text/plain": [
       "HBox(children=(IntProgress(value=0, max=361006), HTML(value='')))"
      ]
     },
     "metadata": {},
     "output_type": "display_data"
    },
    {
     "name": "stdout",
     "output_type": "stream",
     "text": [
      "\n"
     ]
    },
    {
     "data": {
      "application/vnd.jupyter.widget-view+json": {
       "model_id": "9bea45bc04594c02989056e56bd1e788",
       "version_major": 2,
       "version_minor": 0
      },
      "text/plain": [
       "HBox(children=(IntProgress(value=1, bar_style='info', max=1), HTML(value='')))"
      ]
     },
     "metadata": {},
     "output_type": "display_data"
    },
    {
     "name": "stdout",
     "output_type": "stream",
     "text": [
      "\n",
      "CPU times: user 45.9 s, sys: 2.78 s, total: 48.7 s\n",
      "Wall time: 48.6 s\n"
     ]
    }
   ],
   "source": [
    "%%time\n",
    "\n",
    "experiment.load_bugs()"
   ]
  },
  {
   "cell_type": "code",
   "execution_count": 14,
   "metadata": {},
   "outputs": [
    {
     "data": {
      "application/vnd.jupyter.widget-view+json": {
       "model_id": "3a13d0ebffac4d9ca999864db799a429",
       "version_major": 2,
       "version_minor": 0
      },
      "text/plain": [
       "HBox(children=(IntProgress(value=0, max=321483), HTML(value='')))"
      ]
     },
     "metadata": {},
     "output_type": "display_data"
    },
    {
     "name": "stdout",
     "output_type": "stream",
     "text": [
      "\n",
      "Reading train data\n",
      "Reading bug ids\n",
      "CPU times: user 2min 49s, sys: 98.7 ms, total: 2min 49s\n",
      "Wall time: 2min 49s\n"
     ]
    }
   ],
   "source": [
    "%%time\n",
    "issues_by_buckets = experiment.get_buckets_for_bugs()\n",
    "experiment.prepare_dataset(issues_by_buckets, path_train='train_chronological', path_test='test_chronological')"
   ]
  },
  {
   "cell_type": "code",
   "execution_count": 15,
   "metadata": {},
   "outputs": [
    {
     "name": "stdout",
     "output_type": "stream",
     "text": [
      "CPU times: user 23.1 ms, sys: 0 ns, total: 23.1 ms\n",
      "Wall time: 22.7 ms\n"
     ]
    }
   ],
   "source": [
    "%%time\n",
    "\n",
    "bug_train_ids = experiment.get_train_ids(baseline.train_data)\n",
    "len(bug_train_ids)"
   ]
  },
  {
   "cell_type": "code",
   "execution_count": 16,
   "metadata": {},
   "outputs": [
    {
     "name": "stdout",
     "output_type": "stream",
     "text": [
      "Reading test data for classification\n",
      "CPU times: user 23.8 s, sys: 4.11 ms, total: 23.8 s\n",
      "Wall time: 23.8 s\n"
     ]
    }
   ],
   "source": [
    "%%time\n",
    "\n",
    "baseline.test_data, baseline.dup_sets_test = experiment.read_test_data_classification(DIR, baseline.bug_set, \n",
    "                                                                                      bug_train_ids, \n",
    "                                                                                      path='test_chronological')"
   ]
  },
  {
   "cell_type": "markdown",
   "metadata": {},
   "source": [
    "## Siamese  model"
   ]
  },
  {
   "cell_type": "code",
   "execution_count": 17,
   "metadata": {},
   "outputs": [],
   "source": [
    "# Freeze weights\n",
    "for layer in similarity_model.layers:\n",
    "    layer.trainable = False"
   ]
  },
  {
   "cell_type": "code",
   "execution_count": 18,
   "metadata": {},
   "outputs": [
    {
     "name": "stdout",
     "output_type": "stream",
     "text": [
      "__________________________________________________________________________________________________\n",
      "Layer (type)                    Output Shape         Param #     Connected to                     \n",
      "==================================================================================================\n",
      "title_a (InputLayer)            (None, 20)           0                                            \n",
      "__________________________________________________________________________________________________\n",
      "desc_a (InputLayer)             (None, 100)          0                                            \n",
      "__________________________________________________________________________________________________\n",
      "title_b (InputLayer)            (None, 20)           0                                            \n",
      "__________________________________________________________________________________________________\n",
      "desc_b (InputLayer)             (None, 100)          0                                            \n",
      "__________________________________________________________________________________________________\n",
      "embedding_layer_title (Embeddin (None, 20, 300)      52171200    title_a[0][0]                    \n",
      "                                                                 title_b[0][0]                    \n",
      "__________________________________________________________________________________________________\n",
      "embedding_layer_desc (Embedding (None, 100, 300)     52171200    desc_a[0][0]                     \n",
      "                                                                 desc_b[0][0]                     \n",
      "__________________________________________________________________________________________________\n",
      "global_average_pooling1d_1 (Glo (None, 300)          0           embedding_layer_title[1][0]      \n",
      "                                                                 embedding_layer_title[2][0]      \n",
      "__________________________________________________________________________________________________\n",
      "global_average_pooling1d_2 (Glo (None, 300)          0           embedding_layer_desc[1][0]       \n",
      "                                                                 embedding_layer_desc[2][0]       \n",
      "__________________________________________________________________________________________________\n",
      "merge_features_dwen_a (Average) (None, 300)          0           global_average_pooling1d_1[1][0] \n",
      "                                                                 global_average_pooling1d_2[1][0] \n",
      "                                                                 global_average_pooling1d_1[2][0] \n",
      "                                                                 global_average_pooling1d_2[2][0] \n",
      "__________________________________________________________________________________________________\n",
      "bugs (Concatenate)              (None, 600)          0           merge_features_dwen_a[1][0]      \n",
      "                                                                 merge_features_dwen_a[2][0]      \n",
      "__________________________________________________________________________________________________\n",
      "dense_1 (Dense)                 (None, 128)          76928       bugs[0][0]                       \n",
      "__________________________________________________________________________________________________\n",
      "dropout_1 (Dropout)             (None, 128)          0           dense_1[0][0]                    \n",
      "__________________________________________________________________________________________________\n",
      "activation_1 (Activation)       (None, 128)          0           dropout_1[0][0]                  \n",
      "__________________________________________________________________________________________________\n",
      "dense_2 (Dense)                 (None, 128)          16512       activation_1[0][0]               \n",
      "__________________________________________________________________________________________________\n",
      "dropout_2 (Dropout)             (None, 128)          0           dense_2[0][0]                    \n",
      "__________________________________________________________________________________________________\n",
      "activation_2 (Activation)       (None, 128)          0           dropout_2[0][0]                  \n",
      "__________________________________________________________________________________________________\n",
      "output (Dense)                  (None, 2)            258         activation_2[0][0]               \n",
      "==================================================================================================\n",
      "Total params: 104,436,098\n",
      "Trainable params: 93,698\n",
      "Non-trainable params: 104,342,400\n",
      "__________________________________________________________________________________________________\n"
     ]
    }
   ],
   "source": [
    "from keras.layers import concatenate, Dropout, Add\n",
    "\n",
    "bug_t_a_input = Input(shape = (MAX_SEQUENCE_LENGTH_T, ), name = 'title_a')\n",
    "bug_t_b_input = Input(shape = (MAX_SEQUENCE_LENGTH_T, ), name = 'title_b')\n",
    "\n",
    "bug_d_a_input = Input(shape = (MAX_SEQUENCE_LENGTH_D, ), name = 'desc_a')\n",
    "bug_d_b_input = Input(shape = (MAX_SEQUENCE_LENGTH_D, ), name = 'desc_b')\n",
    "    \n",
    "title_embed = similarity_model.get_layer('embedding_layer_title')\n",
    "desc_embed = similarity_model.get_layer('embedding_layer_desc')\n",
    "title_encoder = similarity_model.get_layer('global_average_pooling1d_1')\n",
    "desc_encoder = similarity_model.get_layer('global_average_pooling1d_2')\n",
    "\n",
    "# Bug A\n",
    "bug_t_a_embed = title_embed(bug_t_a_input)\n",
    "bug_d_a_embed = desc_embed(bug_d_a_input)\n",
    "# Bug B\n",
    "bug_t_b_embed = title_embed(bug_t_b_input)\n",
    "bug_d_b_embed = desc_embed(bug_d_b_input)\n",
    "\n",
    "# Bug A\n",
    "bug_t_a = title_encoder(bug_t_a_embed)\n",
    "bug_d_a = desc_encoder(bug_d_a_embed)\n",
    "# Bug B\n",
    "bug_t_b = title_encoder(bug_t_b_embed)\n",
    "bug_d_b = desc_encoder(bug_d_b_embed)\n",
    "\n",
    "model = similarity_model.get_layer('merge_features_dwen_a')\n",
    "\n",
    "bug_a = model([bug_t_a, bug_d_a])\n",
    "bug_b = model([bug_t_b, bug_d_b])\n",
    "\n",
    "x = concatenate([bug_a, bug_b], name='bugs') # \n",
    "\n",
    "for _ in range(2):\n",
    "    x = Dense(128)(x)\n",
    "    x = Dropout(0.75)(x)\n",
    "    x = Activation('tanh')(x)\n",
    "    # x = BatchNormalization()(x)\n",
    "\n",
    "output = Dense(2, activation = 'softmax', name = 'output')(x)\n",
    "\n",
    "model_clf = Model(inputs=[bug_t_a_input, bug_t_b_input, bug_d_a_input, bug_d_b_input], outputs=[output])\n",
    "\n",
    "#adam = keras.optimizers.Adam(lr=0.005, beta_1=0.9, beta_2=0.999, epsilon=None, decay=0.1, amsgrad=False)\n",
    "\n",
    "model_clf.compile(optimizer='adam', loss='binary_crossentropy', metrics = ['accuracy'])\n",
    "model_clf.summary()"
   ]
  },
  {
   "cell_type": "code",
   "execution_count": 19,
   "metadata": {},
   "outputs": [],
   "source": [
    "bug_train_ids = experiment.get_train_ids(baseline.train_data)"
   ]
  },
  {
   "cell_type": "code",
   "execution_count": 20,
   "metadata": {},
   "outputs": [],
   "source": [
    "bug_test_ids = experiment.get_train_ids(baseline.test_data)"
   ]
  },
  {
   "cell_type": "code",
   "execution_count": 21,
   "metadata": {},
   "outputs": [],
   "source": [
    "from keras.utils import to_categorical\n",
    "from sklearn.preprocessing import LabelEncoder\n",
    "\n",
    "def batch_classification(train, dup_sets, batch_size, n_neg, bug_ids):\n",
    "    encoder = LabelEncoder()\n",
    "    batch_size_normalized = batch_size // 2\n",
    "    batch_triplet, input_sample, input_pos, input_neg, sim = baseline.batch_iterator(train, dup_sets, bug_ids, \n",
    "                                                                                     batch_size_normalized, n_neg)\n",
    "    \n",
    "    pos = np.full((1, batch_size_normalized), 1)\n",
    "    neg = np.full((1, batch_size_normalized), 0)\n",
    "    sim = np.concatenate([pos, neg], -1)[0]\n",
    "    \n",
    "    sim = encoder.fit_transform(sim)\n",
    "    sim = to_categorical(sim)\n",
    "\n",
    "    title_a = np.concatenate([input_sample['title'], input_sample['title']])\n",
    "    title_b = np.concatenate([input_pos['title'], input_neg['title']])\n",
    "    desc_a = np.concatenate([input_sample['description'], input_sample['description']])\n",
    "    desc_b = np.concatenate([input_pos['description'], input_neg['description']])\n",
    "    info_a = np.concatenate([input_sample['info'], input_sample['info']])\n",
    "    info_b = np.concatenate([input_pos['info'], input_neg['info']])\n",
    "    \n",
    "    return title_a, title_b, desc_a, desc_b, info_a, info_b, sim\n",
    "\n",
    "def batch_classification_siamese(train, dup_sets, batch_size, n_neg, bug_ids):\n",
    "    while True:\n",
    "        title_a, title_b, desc_a, desc_b, info_a, info_b, sim = batch_classification(train, dup_sets, batch_size, \n",
    "                                                                                     n_neg, bug_ids)\n",
    "        \n",
    "        yield ({ 'title_a' : title_a, 'title_b': title_b, \n",
    "        'desc_a' : desc_a, 'desc_b' : desc_b, 'info_a' : info_a, 'info_b' : info_b }, sim)"
   ]
  },
  {
   "cell_type": "code",
   "execution_count": 22,
   "metadata": {},
   "outputs": [],
   "source": [
    "title_a, title_b, desc_a, desc_b, info_a, info_b, sim = batch_classification(baseline.train_data, \n",
    "                                                                             baseline.dup_sets_train,\n",
    "                                                                             512, 1, bug_train_ids)\n",
    "test_validation = ({ 'title_a' : title_a, 'title_b': title_b, \n",
    "        'desc_a' : desc_a, 'desc_b' : desc_b, 'info_a' : info_a, 'info_b' : info_b }, sim)"
   ]
  },
  {
   "cell_type": "code",
   "execution_count": 23,
   "metadata": {
    "scrolled": true
   },
   "outputs": [
    {
     "name": "stdout",
     "output_type": "stream",
     "text": [
      "Epoch 1/100\n",
      "10/10 [==============================] - 1s 103ms/step - loss: 0.7379 - acc: 0.5093 - val_loss: 0.7003 - val_acc: 0.5000\n",
      "Epoch 2/100\n",
      "10/10 [==============================] - 1s 75ms/step - loss: 0.7397 - acc: 0.4959 - val_loss: 0.6922 - val_acc: 0.5039\n",
      "Epoch 3/100\n",
      "10/10 [==============================] - 1s 81ms/step - loss: 0.7285 - acc: 0.5133 - val_loss: 0.6970 - val_acc: 0.5234\n",
      "Epoch 4/100\n",
      "10/10 [==============================] - 1s 82ms/step - loss: 0.7277 - acc: 0.5040 - val_loss: 0.6940 - val_acc: 0.5059\n",
      "Epoch 5/100\n",
      "10/10 [==============================] - 1s 78ms/step - loss: 0.7181 - acc: 0.5057 - val_loss: 0.6969 - val_acc: 0.5156\n",
      "Epoch 6/100\n",
      "10/10 [==============================] - 1s 84ms/step - loss: 0.7205 - acc: 0.4983 - val_loss: 0.6916 - val_acc: 0.5078\n",
      "Epoch 7/100\n",
      "10/10 [==============================] - 1s 85ms/step - loss: 0.7090 - acc: 0.5119 - val_loss: 0.6946 - val_acc: 0.5312\n",
      "Epoch 8/100\n",
      "10/10 [==============================] - 1s 82ms/step - loss: 0.7131 - acc: 0.5012 - val_loss: 0.6933 - val_acc: 0.5098\n",
      "Epoch 9/100\n",
      "10/10 [==============================] - 1s 81ms/step - loss: 0.7114 - acc: 0.4956 - val_loss: 0.6937 - val_acc: 0.5195\n",
      "Epoch 10/100\n",
      "10/10 [==============================] - 1s 89ms/step - loss: 0.7093 - acc: 0.5067 - val_loss: 0.6928 - val_acc: 0.5156\n",
      "Epoch 11/100\n",
      "10/10 [==============================] - 1s 85ms/step - loss: 0.7005 - acc: 0.5170 - val_loss: 0.6926 - val_acc: 0.5176\n",
      "Epoch 12/100\n",
      "10/10 [==============================] - 1s 81ms/step - loss: 0.7046 - acc: 0.5042 - val_loss: 0.6918 - val_acc: 0.5156\n",
      "Epoch 13/100\n",
      "10/10 [==============================] - 1s 88ms/step - loss: 0.6990 - acc: 0.5169 - val_loss: 0.6914 - val_acc: 0.4883\n",
      "Epoch 14/100\n",
      "10/10 [==============================] - 1s 81ms/step - loss: 0.6975 - acc: 0.5128 - val_loss: 0.6913 - val_acc: 0.5176\n",
      "Epoch 15/100\n",
      "10/10 [==============================] - 1s 84ms/step - loss: 0.6960 - acc: 0.5177 - val_loss: 0.6915 - val_acc: 0.5176\n",
      "Epoch 16/100\n",
      "10/10 [==============================] - 1s 89ms/step - loss: 0.6960 - acc: 0.5148 - val_loss: 0.6917 - val_acc: 0.5195\n",
      "Epoch 17/100\n",
      "10/10 [==============================] - 1s 79ms/step - loss: 0.6981 - acc: 0.5029 - val_loss: 0.6917 - val_acc: 0.4961\n",
      "Epoch 18/100\n",
      "10/10 [==============================] - 1s 86ms/step - loss: 0.6948 - acc: 0.5141 - val_loss: 0.6911 - val_acc: 0.5020\n",
      "Epoch 19/100\n",
      "10/10 [==============================] - 1s 89ms/step - loss: 0.6940 - acc: 0.5190 - val_loss: 0.6913 - val_acc: 0.5195\n",
      "Epoch 20/100\n",
      "10/10 [==============================] - 1s 89ms/step - loss: 0.6943 - acc: 0.5174 - val_loss: 0.6911 - val_acc: 0.5156\n",
      "Epoch 21/100\n",
      "10/10 [==============================] - 1s 87ms/step - loss: 0.6920 - acc: 0.5246 - val_loss: 0.6913 - val_acc: 0.4844\n",
      "Epoch 22/100\n",
      "10/10 [==============================] - 1s 79ms/step - loss: 0.6916 - acc: 0.5236 - val_loss: 0.6924 - val_acc: 0.5156\n",
      "Epoch 23/100\n",
      "10/10 [==============================] - 1s 86ms/step - loss: 0.6930 - acc: 0.5246 - val_loss: 0.6919 - val_acc: 0.5176\n",
      "Epoch 24/100\n",
      "10/10 [==============================] - 1s 88ms/step - loss: 0.6923 - acc: 0.5185 - val_loss: 0.6920 - val_acc: 0.5156\n",
      "Epoch 25/100\n",
      "10/10 [==============================] - 1s 87ms/step - loss: 0.6914 - acc: 0.5235 - val_loss: 0.6915 - val_acc: 0.4902\n",
      "Epoch 26/100\n",
      "10/10 [==============================] - 1s 85ms/step - loss: 0.6918 - acc: 0.5229 - val_loss: 0.6930 - val_acc: 0.5098\n",
      "Epoch 27/100\n",
      "10/10 [==============================] - 1s 89ms/step - loss: 0.6886 - acc: 0.5419 - val_loss: 0.6947 - val_acc: 0.5234\n",
      "Epoch 28/100\n",
      "10/10 [==============================] - 1s 83ms/step - loss: 0.6894 - acc: 0.5386 - val_loss: 0.6923 - val_acc: 0.5273\n",
      "Epoch 29/100\n",
      "10/10 [==============================] - 1s 88ms/step - loss: 0.6908 - acc: 0.5346 - val_loss: 0.6922 - val_acc: 0.5078\n",
      "Epoch 30/100\n",
      "10/10 [==============================] - 1s 81ms/step - loss: 0.6902 - acc: 0.5377 - val_loss: 0.6963 - val_acc: 0.5215\n",
      "Epoch 31/100\n",
      "10/10 [==============================] - 1s 85ms/step - loss: 0.6907 - acc: 0.5304 - val_loss: 0.6968 - val_acc: 0.5332\n",
      "Epoch 32/100\n",
      "10/10 [==============================] - 1s 82ms/step - loss: 0.6900 - acc: 0.5365 - val_loss: 0.6943 - val_acc: 0.5332\n",
      "Epoch 33/100\n",
      "10/10 [==============================] - 1s 86ms/step - loss: 0.6903 - acc: 0.5316 - val_loss: 0.6926 - val_acc: 0.5352\n",
      "Epoch 34/100\n",
      "10/10 [==============================] - 1s 81ms/step - loss: 0.6873 - acc: 0.5411 - val_loss: 0.6957 - val_acc: 0.5430\n",
      "Epoch 35/100\n",
      "10/10 [==============================] - 1s 85ms/step - loss: 0.6877 - acc: 0.5446 - val_loss: 0.6937 - val_acc: 0.5352\n",
      "Epoch 36/100\n",
      "10/10 [==============================] - 1s 79ms/step - loss: 0.6887 - acc: 0.5332 - val_loss: 0.6995 - val_acc: 0.5293\n",
      "Epoch 37/100\n",
      "10/10 [==============================] - 1s 81ms/step - loss: 0.6883 - acc: 0.5422 - val_loss: 0.7003 - val_acc: 0.5293\n",
      "Epoch 38/100\n",
      "10/10 [==============================] - 1s 82ms/step - loss: 0.6880 - acc: 0.5411 - val_loss: 0.6974 - val_acc: 0.5352\n",
      "Epoch 39/100\n",
      "10/10 [==============================] - 1s 79ms/step - loss: 0.6893 - acc: 0.5330 - val_loss: 0.6928 - val_acc: 0.5273\n",
      "Epoch 40/100\n",
      "10/10 [==============================] - 1s 87ms/step - loss: 0.6859 - acc: 0.5523 - val_loss: 0.7002 - val_acc: 0.5352\n",
      "Epoch 41/100\n",
      "10/10 [==============================] - 1s 80ms/step - loss: 0.6885 - acc: 0.5405 - val_loss: 0.6954 - val_acc: 0.5273\n",
      "Epoch 42/100\n",
      "10/10 [==============================] - 1s 80ms/step - loss: 0.6864 - acc: 0.5479 - val_loss: 0.7009 - val_acc: 0.5254\n",
      "Epoch 43/100\n",
      "10/10 [==============================] - 1s 91ms/step - loss: 0.6874 - acc: 0.5483 - val_loss: 0.6996 - val_acc: 0.5312\n",
      "Epoch 44/100\n",
      "10/10 [==============================] - 1s 92ms/step - loss: 0.6875 - acc: 0.5451 - val_loss: 0.7003 - val_acc: 0.5293\n",
      "Epoch 45/100\n",
      "10/10 [==============================] - 1s 78ms/step - loss: 0.6866 - acc: 0.5476 - val_loss: 0.7144 - val_acc: 0.5254\n",
      "Epoch 46/100\n",
      "10/10 [==============================] - 1s 84ms/step - loss: 0.6852 - acc: 0.5549 - val_loss: 0.7071 - val_acc: 0.5332\n",
      "Epoch 47/100\n",
      "10/10 [==============================] - 1s 86ms/step - loss: 0.6855 - acc: 0.5535 - val_loss: 0.7078 - val_acc: 0.5332\n",
      "Epoch 48/100\n",
      "10/10 [==============================] - 1s 89ms/step - loss: 0.6872 - acc: 0.5468 - val_loss: 0.7066 - val_acc: 0.5293\n",
      "Epoch 49/100\n",
      "10/10 [==============================] - 1s 83ms/step - loss: 0.6850 - acc: 0.5570 - val_loss: 0.7099 - val_acc: 0.5371\n",
      "Epoch 50/100\n",
      "10/10 [==============================] - 1s 85ms/step - loss: 0.6864 - acc: 0.5506 - val_loss: 0.7087 - val_acc: 0.5332\n",
      "Epoch 51/100\n",
      "10/10 [==============================] - 1s 86ms/step - loss: 0.6860 - acc: 0.5503 - val_loss: 0.7156 - val_acc: 0.5332\n",
      "Epoch 52/100\n",
      "10/10 [==============================] - 1s 76ms/step - loss: 0.6863 - acc: 0.5469 - val_loss: 0.7125 - val_acc: 0.5371\n",
      "Epoch 53/100\n",
      "10/10 [==============================] - 1s 76ms/step - loss: 0.6856 - acc: 0.5521 - val_loss: 0.7205 - val_acc: 0.5332\n",
      "Epoch 54/100\n",
      "10/10 [==============================] - 1s 85ms/step - loss: 0.6856 - acc: 0.5514 - val_loss: 0.7162 - val_acc: 0.5332\n",
      "Epoch 55/100\n",
      "10/10 [==============================] - 1s 88ms/step - loss: 0.6867 - acc: 0.5451 - val_loss: 0.7238 - val_acc: 0.5312\n",
      "Epoch 56/100\n",
      "10/10 [==============================] - 1s 82ms/step - loss: 0.6861 - acc: 0.5497 - val_loss: 0.7132 - val_acc: 0.5352\n",
      "Epoch 57/100\n",
      "10/10 [==============================] - 1s 85ms/step - loss: 0.6844 - acc: 0.5517 - val_loss: 0.7274 - val_acc: 0.5332\n",
      "Epoch 58/100\n",
      "10/10 [==============================] - 1s 90ms/step - loss: 0.6833 - acc: 0.5589 - val_loss: 0.7292 - val_acc: 0.5391\n",
      "Epoch 59/100\n",
      "10/10 [==============================] - 1s 86ms/step - loss: 0.6836 - acc: 0.5612 - val_loss: 0.7112 - val_acc: 0.5293\n",
      "Epoch 60/100\n",
      "10/10 [==============================] - 1s 88ms/step - loss: 0.6823 - acc: 0.5614 - val_loss: 0.7355 - val_acc: 0.5312\n",
      "Epoch 61/100\n",
      "10/10 [==============================] - 1s 82ms/step - loss: 0.6847 - acc: 0.5582 - val_loss: 0.7288 - val_acc: 0.5391\n",
      "Epoch 62/100\n"
     ]
    },
    {
     "name": "stdout",
     "output_type": "stream",
     "text": [
      "10/10 [==============================] - 1s 86ms/step - loss: 0.6847 - acc: 0.5520 - val_loss: 0.7211 - val_acc: 0.5332\n",
      "Epoch 63/100\n",
      "10/10 [==============================] - 1s 85ms/step - loss: 0.6862 - acc: 0.5493 - val_loss: 0.7109 - val_acc: 0.5312\n",
      "Epoch 64/100\n",
      "10/10 [==============================] - 1s 83ms/step - loss: 0.6867 - acc: 0.5483 - val_loss: 0.7135 - val_acc: 0.5234\n",
      "Epoch 65/100\n",
      "10/10 [==============================] - 1s 94ms/step - loss: 0.6838 - acc: 0.5571 - val_loss: 0.7142 - val_acc: 0.5293\n",
      "Epoch 66/100\n",
      "10/10 [==============================] - 1s 86ms/step - loss: 0.6818 - acc: 0.5692 - val_loss: 0.7188 - val_acc: 0.5410\n",
      "Epoch 67/100\n",
      "10/10 [==============================] - 1s 84ms/step - loss: 0.6838 - acc: 0.5589 - val_loss: 0.7234 - val_acc: 0.5469\n",
      "Epoch 68/100\n",
      "10/10 [==============================] - 1s 81ms/step - loss: 0.6835 - acc: 0.5599 - val_loss: 0.7187 - val_acc: 0.5410\n",
      "Epoch 69/100\n",
      "10/10 [==============================] - 1s 79ms/step - loss: 0.6840 - acc: 0.5538 - val_loss: 0.7297 - val_acc: 0.5449\n",
      "Epoch 70/100\n",
      "10/10 [==============================] - 1s 85ms/step - loss: 0.6820 - acc: 0.5638 - val_loss: 0.7039 - val_acc: 0.5469\n",
      "Epoch 71/100\n",
      "10/10 [==============================] - 1s 79ms/step - loss: 0.6850 - acc: 0.5561 - val_loss: 0.7242 - val_acc: 0.5410\n",
      "Epoch 72/100\n",
      "10/10 [==============================] - 1s 90ms/step - loss: 0.6807 - acc: 0.5666 - val_loss: 0.7175 - val_acc: 0.5410\n",
      "Epoch 73/100\n",
      "10/10 [==============================] - 1s 89ms/step - loss: 0.6804 - acc: 0.5724 - val_loss: 0.7224 - val_acc: 0.5410\n",
      "Epoch 74/100\n",
      "10/10 [==============================] - 1s 82ms/step - loss: 0.6807 - acc: 0.5648 - val_loss: 0.7320 - val_acc: 0.5410\n",
      "Epoch 75/100\n",
      "10/10 [==============================] - 1s 82ms/step - loss: 0.6818 - acc: 0.5619 - val_loss: 0.7259 - val_acc: 0.5430\n",
      "Epoch 76/100\n",
      "10/10 [==============================] - 1s 90ms/step - loss: 0.6828 - acc: 0.5581 - val_loss: 0.7190 - val_acc: 0.5391\n",
      "Epoch 77/100\n",
      "10/10 [==============================] - 1s 81ms/step - loss: 0.6816 - acc: 0.5640 - val_loss: 0.7364 - val_acc: 0.5352\n",
      "Epoch 78/100\n",
      "10/10 [==============================] - 1s 87ms/step - loss: 0.6790 - acc: 0.5677 - val_loss: 0.7130 - val_acc: 0.5488\n",
      "Epoch 79/100\n",
      "10/10 [==============================] - 1s 82ms/step - loss: 0.6838 - acc: 0.5561 - val_loss: 0.7294 - val_acc: 0.5430\n",
      "Epoch 80/100\n",
      "10/10 [==============================] - 1s 77ms/step - loss: 0.6812 - acc: 0.5618 - val_loss: 0.7147 - val_acc: 0.5449\n",
      "Epoch 81/100\n",
      "10/10 [==============================] - 1s 78ms/step - loss: 0.6790 - acc: 0.5698 - val_loss: 0.7239 - val_acc: 0.5410\n",
      "Epoch 82/100\n",
      "10/10 [==============================] - 1s 83ms/step - loss: 0.6833 - acc: 0.5559 - val_loss: 0.7248 - val_acc: 0.5371\n",
      "Epoch 83/100\n",
      "10/10 [==============================] - 1s 80ms/step - loss: 0.6780 - acc: 0.5727 - val_loss: 0.7393 - val_acc: 0.5391\n",
      "Epoch 84/100\n",
      "10/10 [==============================] - 1s 87ms/step - loss: 0.6777 - acc: 0.5733 - val_loss: 0.7348 - val_acc: 0.5352\n",
      "Epoch 85/100\n",
      "10/10 [==============================] - 1s 82ms/step - loss: 0.6795 - acc: 0.5659 - val_loss: 0.7410 - val_acc: 0.5371\n",
      "Epoch 86/100\n",
      "10/10 [==============================] - 1s 87ms/step - loss: 0.6790 - acc: 0.5674 - val_loss: 0.7426 - val_acc: 0.5508\n",
      "Epoch 87/100\n",
      "10/10 [==============================] - 1s 83ms/step - loss: 0.6773 - acc: 0.5725 - val_loss: 0.7299 - val_acc: 0.5410\n",
      "Epoch 88/100\n",
      "10/10 [==============================] - 1s 81ms/step - loss: 0.6748 - acc: 0.5777 - val_loss: 0.7466 - val_acc: 0.5527\n",
      "Epoch 89/100\n",
      "10/10 [==============================] - 1s 81ms/step - loss: 0.6756 - acc: 0.5759 - val_loss: 0.7221 - val_acc: 0.5527\n",
      "Epoch 90/100\n",
      "10/10 [==============================] - 1s 81ms/step - loss: 0.6769 - acc: 0.5728 - val_loss: 0.7417 - val_acc: 0.5547\n",
      "Epoch 91/100\n",
      "10/10 [==============================] - 1s 80ms/step - loss: 0.6757 - acc: 0.5716 - val_loss: 0.7291 - val_acc: 0.5645\n",
      "Epoch 92/100\n",
      "10/10 [==============================] - 1s 82ms/step - loss: 0.6769 - acc: 0.5697 - val_loss: 0.7344 - val_acc: 0.5684\n",
      "Epoch 93/100\n",
      "10/10 [==============================] - 1s 91ms/step - loss: 0.6726 - acc: 0.5776 - val_loss: 0.7568 - val_acc: 0.5469\n",
      "Epoch 94/100\n",
      "10/10 [==============================] - 1s 83ms/step - loss: 0.6722 - acc: 0.5841 - val_loss: 0.7147 - val_acc: 0.5605\n",
      "Epoch 95/100\n",
      "10/10 [==============================] - 1s 81ms/step - loss: 0.6772 - acc: 0.5692 - val_loss: 0.7593 - val_acc: 0.5469\n",
      "Epoch 96/100\n",
      "10/10 [==============================] - 1s 86ms/step - loss: 0.6729 - acc: 0.5833 - val_loss: 0.7268 - val_acc: 0.5586\n",
      "Epoch 97/100\n",
      "10/10 [==============================] - 1s 84ms/step - loss: 0.6748 - acc: 0.5750 - val_loss: 0.7715 - val_acc: 0.5449\n",
      "Epoch 98/100\n",
      "10/10 [==============================] - 1s 86ms/step - loss: 0.6774 - acc: 0.5741 - val_loss: 0.7236 - val_acc: 0.5625\n",
      "Epoch 99/100\n",
      "10/10 [==============================] - 1s 79ms/step - loss: 0.6754 - acc: 0.5795 - val_loss: 0.7704 - val_acc: 0.5469\n",
      "Epoch 100/100\n",
      "10/10 [==============================] - 1s 88ms/step - loss: 0.6725 - acc: 0.5821 - val_loss: 0.7578 - val_acc: 0.5566\n",
      "CPU times: user 1min 29s, sys: 1.44 s, total: 1min 31s\n",
      "Wall time: 1min 24s\n"
     ]
    }
   ],
   "source": [
    "%%time\n",
    "\n",
    "early = keras.callbacks.EarlyStopping(monitor='val_loss', patience=15, verbose=1, mode='auto')\n",
    "\n",
    "h_clf = model_clf.fit_generator(batch_classification_siamese(baseline.train_data, baseline.dup_sets_train, 1024, \n",
    "                                                             1, bug_train_ids), \n",
    "                               steps_per_epoch = 10,\n",
    "                               validation_data=test_validation,\n",
    "                                             epochs = 100,\n",
    "#                                              callbacks=[early],\n",
    "                                             verbose = True) "
   ]
  },
  {
   "cell_type": "code",
   "execution_count": 24,
   "metadata": {
    "scrolled": false
   },
   "outputs": [
    {
     "data": {
      "image/png": "[encoded data removed]",
      "text/plain": [
       "<Figure size 432x288 with 1 Axes>"
      ]
     },
     "metadata": {
      "needs_background": "light"
     },
     "output_type": "display_data"
    },
    {
     "data": {
      "image/png": "[encoded data removed]",
      "text/plain": [
       "<Figure size 432x288 with 1 Axes>"
      ]
     },
     "metadata": {
      "needs_background": "light"
     },
     "output_type": "display_data"
    }
   ],
   "source": [
    "Baseline.validation_accuracy_loss(h_clf)"
   ]
  },
  {
   "cell_type": "markdown",
   "metadata": {},
   "source": [
    "### Accuracy"
   ]
  },
  {
   "cell_type": "code",
   "execution_count": 25,
   "metadata": {},
   "outputs": [],
   "source": [
    "result = { }"
   ]
  },
  {
   "cell_type": "markdown",
   "metadata": {},
   "source": [
    "#### train"
   ]
  },
  {
   "cell_type": "code",
   "execution_count": 26,
   "metadata": {},
   "outputs": [
    {
     "data": {
      "text/plain": [
       "0.541015625"
      ]
     },
     "execution_count": 26,
     "metadata": {},
     "output_type": "execute_result"
    }
   ],
   "source": [
    "from sklearn.metrics import accuracy_score\n",
    "\n",
    "title_a, title_b, desc_a, desc_b, info_a, info_b, sim = batch_classification(baseline.train_data, \n",
    "                                                                             baseline.dup_sets_train, 512, 1, \n",
    "                                                                             bug_train_ids)\n",
    "\n",
    "y_true = sim\n",
    "y_scores = model_clf.predict([title_a, title_b, desc_a, desc_b])\n",
    "\n",
    "def normalize(row):\n",
    "    return [1 if(r > 0.5) else 0 for r in row]\n",
    "\n",
    "y_scores = list(map(normalize, y_scores))\n",
    "# y_scores\n",
    "def decode_ohe(row):\n",
    "    return 0 if(row[0] == 1) else 1\n",
    "y_scores = [ decode_ohe(r) for r in y_scores ]\n",
    "y_true = [ decode_ohe(r) for r in y_true ]\n",
    "acc_train = accuracy_score(y_true, y_scores)\n",
    "acc_train"
   ]
  },
  {
   "cell_type": "markdown",
   "metadata": {},
   "source": [
    "#### test"
   ]
  },
  {
   "cell_type": "code",
   "execution_count": 27,
   "metadata": {},
   "outputs": [
    {
     "data": {
      "text/plain": [
       "0.571551724137931"
      ]
     },
     "execution_count": 27,
     "metadata": {},
     "output_type": "execute_result"
    }
   ],
   "source": [
    "from sklearn.metrics import accuracy_score\n",
    "\n",
    "number_of_pairs = len(baseline.test_data)\n",
    "\n",
    "title_a, title_b, desc_a, desc_b, info_a, info_b, sim = batch_classification(baseline.test_data, \n",
    "                                                                             baseline.dup_sets_test, \n",
    "                                                                             number_of_pairs, 1, bug_test_ids)\n",
    "\n",
    "y_true = sim\n",
    "y_scores = model_clf.predict([title_a, title_b, desc_a, desc_b])\n",
    "\n",
    "def normalize(row):\n",
    "    return [1 if(r > 0.5) else 0 for r in row]\n",
    "\n",
    "y_scores = list(map(normalize, y_scores))\n",
    "# y_scores\n",
    "def decode_ohe(row):\n",
    "    return 0 if(row[0] == 1) else 1\n",
    "y_scores = [ decode_ohe(r) for r in y_scores ]\n",
    "y_true = [ decode_ohe(r) for r in y_true ]\n",
    "acc_test = accuracy_score(y_true, y_scores)\n",
    "acc_test"
   ]
  },
  {
   "cell_type": "markdown",
   "metadata": {},
   "source": [
    "### Roc AUC/SCORE"
   ]
  },
  {
   "cell_type": "markdown",
   "metadata": {},
   "source": [
    "#### train"
   ]
  },
  {
   "cell_type": "code",
   "execution_count": 28,
   "metadata": {},
   "outputs": [
    {
     "data": {
      "text/plain": [
       "0.6168212890625"
      ]
     },
     "execution_count": 28,
     "metadata": {},
     "output_type": "execute_result"
    }
   ],
   "source": [
    "from sklearn.metrics import roc_auc_score\n",
    "\n",
    "title_a, title_b, desc_a, desc_b, info_a, info_b, sim = batch_classification(baseline.train_data, \n",
    "                                                                             baseline.dup_sets_train, 512, 1, bug_train_ids)\n",
    "\n",
    "y_true = sim\n",
    "y_scores = model_clf.predict([title_a, title_b, desc_a, desc_b])\n",
    "\n",
    "roc_train = roc_auc_score(y_true, y_scores)\n",
    "roc_train"
   ]
  },
  {
   "cell_type": "markdown",
   "metadata": {},
   "source": [
    "#### test"
   ]
  },
  {
   "cell_type": "code",
   "execution_count": 29,
   "metadata": {},
   "outputs": [
    {
     "data": {
      "text/plain": [
       "0.8115508416319858"
      ]
     },
     "execution_count": 29,
     "metadata": {},
     "output_type": "execute_result"
    }
   ],
   "source": [
    "from sklearn.metrics import roc_auc_score\n",
    "\n",
    "number_of_pairs = len(baseline.test_data)\n",
    "\n",
    "title_a, title_b, desc_a, desc_b, info_a, info_b, sim = batch_classification(baseline.test_data, \n",
    "                                                                             baseline.dup_sets_test, \n",
    "                                                                             number_of_pairs, 1, bug_test_ids)\n",
    "\n",
    "y_true = sim\n",
    "y_scores = model_clf.predict([title_a, title_b, desc_a, desc_b])\n",
    "\n",
    "roc_test = roc_auc_score(y_true, y_scores)\n",
    "roc_test"
   ]
  },
  {
   "cell_type": "markdown",
   "metadata": {},
   "source": [
    "#### Save the model"
   ]
  },
  {
   "cell_type": "code",
   "execution_count": 30,
   "metadata": {},
   "outputs": [],
   "source": [
    "experiment.save_model(model_clf, SAVE_PATH)"
   ]
  },
  {
   "cell_type": "markdown",
   "metadata": {},
   "source": [
    "#### Saving the accuracy and roc/auc"
   ]
  },
  {
   "cell_type": "code",
   "execution_count": 31,
   "metadata": {},
   "outputs": [
    {
     "name": "stdout",
     "output_type": "stream",
     "text": [
      "All saved.\n"
     ]
    }
   ],
   "source": [
    "import _pickle as pickle\n",
    "\n",
    "CLASSIFICATION_PATH = 'classification_{}.pkl'.format(METHOD)\n",
    "\n",
    "def save_result(result):\n",
    "    result = {\n",
    "        'acc_train' : acc_train,\n",
    "        'acc_test' : acc_test,\n",
    "        'roc_train' : roc_train,\n",
    "        'roc_test' : roc_test,\n",
    "        'method' : METHOD\n",
    "    }\n",
    "\n",
    "    with open(os.path.join(DIR, CLASSIFICATION_PATH), 'wb') as f:\n",
    "        pickle.dump(result, f)\n",
    "\n",
    "try:\n",
    "    with open(os.path.join(DIR, CLASSIFICATION_PATH), 'rb') as f:\n",
    "        result = pickle.load(f)\n",
    "    save_result(result)\n",
    "except:\n",
    "    save_result(result)\n",
    "    \n",
    "print(\"All saved.\")"
   ]
  }
 ],
 "metadata": {
  "kernelspec": {
   "display_name": "Python 3",
   "language": "python",
   "name": "python3"
  },
  "language_info": {
   "codemirror_mode": {
    "name": "ipython",
    "version": 3
   },
   "file_extension": ".py",
   "mimetype": "text/x-python",
   "name": "python",
   "nbconvert_exporter": "python",
   "pygments_lexer": "ipython3",
   "version": "3.5.2"
  }
 },
 "nbformat": 4,
 "nbformat_minor": 2
}
