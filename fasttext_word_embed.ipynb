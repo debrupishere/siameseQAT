{
 "cells": [
  {
   "cell_type": "markdown",
   "metadata": {},
   "source": [
    "# FastText pretrained in the dataset\n",
    "\n",
    "https://github.com/facebookresearch/fastText"
   ]
  },
  {
   "cell_type": "code",
   "execution_count": 1,
   "metadata": {},
   "outputs": [],
   "source": [
    "import fasttext\n",
    "import re\n",
    "import numpy as np\n",
    "import pandas as pd\n",
    "\n",
    "import os\n",
    "from tqdm import tqdm_notebook as tqdm\n",
    "import matplotlib.pyplot as plt\n",
    "import sys\n",
    "nb_dir = os.path.split(os.getcwd())[0]\n",
    "if nb_dir not in sys.path:\n",
    "    sys.path.append(nb_dir)\n",
    "    \n",
    "%matplotlib inline"
   ]
  },
  {
   "cell_type": "code",
   "execution_count": 2,
   "metadata": {},
   "outputs": [
    {
     "name": "stderr",
     "output_type": "stream",
     "text": [
      "Using TensorFlow backend.\n"
     ]
    }
   ],
   "source": [
    "from methods.baseline import Baseline"
   ]
  },
  {
   "cell_type": "code",
   "execution_count": 3,
   "metadata": {},
   "outputs": [],
   "source": [
    "MAX_SEQUENCE_LENGTH_T = 100 # 40\n",
    "MAX_SEQUENCE_LENGTH_D = 500 # 200\n",
    "EMBEDDING_DIM = 300\n",
    "MAX_NB_WORDS = 2000"
   ]
  },
  {
   "cell_type": "code",
   "execution_count": 4,
   "metadata": {},
   "outputs": [],
   "source": [
    "# Domain to use\n",
    "DOMAIN = 'eclipse'\n",
    "# Dataset paths\n",
    "DIR = 'data/processed/{}'.format(DOMAIN)\n",
    "DIR_PAIRS = 'data/normalized/{}'.format(DOMAIN)\n",
    "DATASET = os.path.join('data/normalized/{}'.format(DOMAIN), '{}.csv'.format(DOMAIN))"
   ]
  },
  {
   "cell_type": "code",
   "execution_count": 5,
   "metadata": {},
   "outputs": [],
   "source": [
    "baseline = Baseline(DIR, DATASET, MAX_SEQUENCE_LENGTH_T, MAX_SEQUENCE_LENGTH_D)"
   ]
  },
  {
   "cell_type": "code",
   "execution_count": 6,
   "metadata": {},
   "outputs": [
    {
     "name": "stdout",
     "output_type": "stream",
     "text": [
      "Reading bug ids\n"
     ]
    },
    {
     "data": {
      "text/plain": [
       "361006"
      ]
     },
     "execution_count": 6,
     "metadata": {},
     "output_type": "execute_result"
    }
   ],
   "source": [
    "baseline.load_ids(DIR)\n",
    "len(baseline.bug_ids)"
   ]
  },
  {
   "cell_type": "code",
   "execution_count": 7,
   "metadata": {},
   "outputs": [],
   "source": [
    "def data_padding(data, max_seq_length):\n",
    "    seq_lengths = [len(seq) for seq in data]\n",
    "    seq_lengths.append(6)\n",
    "    max_seq_length = min(max(seq_lengths), max_seq_length)\n",
    "    padded_data = np.zeros(shape=[len(data), max_seq_length])\n",
    "    for i, seq in enumerate(data):\n",
    "        seq = seq[:max_seq_length]\n",
    "        for j, token in enumerate(seq):\n",
    "            padded_data[i, j] = int(token)\n",
    "    return padded_data.astype(np.int)"
   ]
  },
  {
   "cell_type": "code",
   "execution_count": 8,
   "metadata": {},
   "outputs": [],
   "source": [
    "import _pickle as pickle\n",
    "\n",
    "def load_bugs(baseline):   \n",
    "    removed = []\n",
    "    baseline.corpus = []\n",
    "    baseline.sentence_dict = {}\n",
    "    baseline.bug_set = {}\n",
    "    title_padding, desc_padding = [], []\n",
    "    for bug_id in tqdm(baseline.bug_ids):\n",
    "        try:\n",
    "            bug = pickle.load(open(os.path.join(baseline.DIR, 'bugs', '{}.pkl'.format(bug_id)), 'rb'))\n",
    "            title_padding.append(bug['title_word'])\n",
    "            desc_padding.append(bug['description_word'])\n",
    "            baseline.bug_set[bug_id] = bug\n",
    "            #break\n",
    "        except:\n",
    "            removed.append(bug_id)\n",
    "    \n",
    "    if len(removed) > 0:\n",
    "        for x in removed:\n",
    "            baseline.bug_ids.remove(x)\n",
    "        baseline.removed = removed\n",
    "        print(\"{} were removed. To see the list call self.removed\".format(len(removed)))"
   ]
  },
  {
   "cell_type": "code",
   "execution_count": 9,
   "metadata": {},
   "outputs": [
    {
     "data": {
      "application/vnd.jupyter.widget-view+json": {
       "model_id": "5d8cf7e22e044783bb16bfd021bfda55",
       "version_major": 2,
       "version_minor": 0
      },
      "text/plain": [
       "HBox(children=(IntProgress(value=0, max=361006), HTML(value='')))"
      ]
     },
     "metadata": {},
     "output_type": "display_data"
    },
    {
     "name": "stdout",
     "output_type": "stream",
     "text": [
      "\n",
      "CPU times: user 11.7 s, sys: 3.05 s, total: 14.8 s\n",
      "Wall time: 15.1 s\n"
     ]
    }
   ],
   "source": [
    "%%time\n",
    "\n",
    "load_bugs(baseline)"
   ]
  },
  {
   "cell_type": "markdown",
   "metadata": {},
   "source": [
    "### Read the corpus from bugs"
   ]
  },
  {
   "cell_type": "code",
   "execution_count": 10,
   "metadata": {},
   "outputs": [],
   "source": [
    "lines_title = [baseline.bug_set[bug_id]['title'] for bug_id in baseline.bug_ids]\n",
    "lines_desc = [baseline.bug_set[bug_id]['description'] for bug_id in baseline.bug_ids]\n",
    "\n",
    "lines = []\n",
    "for title, desc in zip(lines_title, lines_desc):\n",
    "    lines.append(title)\n",
    "    lines.append(desc)"
   ]
  },
  {
   "cell_type": "code",
   "execution_count": 11,
   "metadata": {},
   "outputs": [
    {
     "data": {
      "text/plain": [
       "722012"
      ]
     },
     "execution_count": 11,
     "metadata": {},
     "output_type": "execute_result"
    }
   ],
   "source": [
    "len(lines)"
   ]
  },
  {
   "cell_type": "markdown",
   "metadata": {},
   "source": [
    "#### Export corpus "
   ]
  },
  {
   "cell_type": "code",
   "execution_count": 12,
   "metadata": {},
   "outputs": [
    {
     "name": "stdout",
     "output_type": "stream",
     "text": [
      "data/processed/eclipse/corpus_fasttext.txt\n"
     ]
    }
   ],
   "source": [
    "EXPORT_PATH = os.path.join(DIR, 'corpus_fasttext.txt')\n",
    "print(EXPORT_PATH)\n",
    "with open(EXPORT_PATH, 'w') as f:\n",
    "    for row in lines:\n",
    "        f.write(\"{}\\n\".format(str(row).encode(\"utf-8\")))"
   ]
  },
  {
   "cell_type": "markdown",
   "metadata": {},
   "source": [
    "## Fasttext embedding"
   ]
  },
  {
   "cell_type": "code",
   "execution_count": 13,
   "metadata": {
    "scrolled": false
   },
   "outputs": [
    {
     "name": "stdout",
     "output_type": "stream",
     "text": [
      "CPU times: user 6h 17min 25s, sys: 11.1 s, total: 6h 17min 36s\n",
      "Wall time: 54min 22s\n"
     ]
    }
   ],
   "source": [
    "%%time\n",
    "\n",
    "import os\n",
    "\n",
    "cpu = os.cpu_count() - 1\n",
    "\n",
    "# Skipgram model :\n",
    "model = fasttext.train_unsupervised(EXPORT_PATH, \n",
    "                                    model='cbow', \n",
    "                                    minCount=1,\n",
    "                                    neg=10,\n",
    "                                    wordNgrams=3,\n",
    "                                    epoch=15, \n",
    "                                    dim=300, \n",
    "                                    loss='hs', \n",
    "                                    thread=cpu, \n",
    "                                    verbose=2)"
   ]
  },
  {
   "cell_type": "markdown",
   "metadata": {},
   "source": [
    "### Save dataset vocabulary embedding"
   ]
  },
  {
   "cell_type": "code",
   "execution_count": 14,
   "metadata": {},
   "outputs": [],
   "source": [
    "import _pickle as pickle"
   ]
  },
  {
   "cell_type": "code",
   "execution_count": 15,
   "metadata": {},
   "outputs": [],
   "source": [
    "vocab_embed = {}\n",
    "for word in model.words:\n",
    "    vocab_embed[word] = model[word]\n",
    "    \n",
    "with open(os.path.join(baseline.DIR, 'vocab_embed_fasttext.pkl'), 'wb') as f:\n",
    "      pickle.dump(vocab_embed, f)"
   ]
  },
  {
   "cell_type": "code",
   "execution_count": 16,
   "metadata": {
    "scrolled": true
   },
   "outputs": [
    {
     "data": {
      "text/plain": [
       "array([ 2.27798879e-01, -3.70379865e-01, -1.78365380e-01,  5.32969192e-04,\n",
       "       -3.62686247e-01,  3.92668277e-01, -4.49969381e-01,  1.07493997e-01,\n",
       "        3.36375624e-01,  6.80377245e-01,  6.21302068e-01, -5.13689995e-01,\n",
       "       -1.99582204e-01, -3.69280457e-01, -2.76777446e-01, -2.62730718e-01,\n",
       "       -5.77495933e-01,  2.54344255e-01, -6.67263389e-01, -1.20380837e-02,\n",
       "        4.69201386e-01, -2.46804208e-01,  2.85313725e-01,  1.06585130e-01,\n",
       "        1.60871550e-01,  2.79145628e-01,  2.87379533e-01,  1.08026102e-01,\n",
       "       -2.74197608e-01, -4.26531672e-01,  1.68908224e-01,  5.90773761e-01,\n",
       "       -5.90794861e-01, -2.46319219e-01,  8.95781219e-02, -2.30665982e-01,\n",
       "        4.25390720e-01, -1.52377427e-01,  4.07322735e-01,  7.29261994e-01,\n",
       "        9.86797094e-01, -4.78519171e-01, -4.54688251e-01,  2.71126270e-01,\n",
       "        1.91265941e-01, -8.22717607e-01, -2.86309514e-02, -1.43695042e-01,\n",
       "       -1.92290708e-01,  5.70440650e-01, -6.63588867e-02,  1.01262629e+00,\n",
       "        1.05394864e+00, -5.95885590e-02, -1.95656776e-01,  2.17840433e-01,\n",
       "       -4.23851281e-01, -3.84649411e-02,  2.53167022e-02, -2.46623829e-01,\n",
       "        1.06056154e-01, -2.16884777e-01,  3.13374877e-01, -8.45500529e-02,\n",
       "        5.72060756e-02, -2.04830095e-01,  5.60615718e-01,  9.57738757e-02,\n",
       "        4.13034298e-02, -2.26539537e-01,  8.95153284e-02,  2.22756147e-01,\n",
       "       -2.79726952e-01,  4.38854843e-02, -1.91505738e-02, -4.53260005e-01,\n",
       "       -2.19997510e-01,  2.10022375e-01, -1.41355932e-01, -2.87524670e-01,\n",
       "        2.53983200e-01,  7.31580079e-01, -2.30656877e-01,  2.61793554e-01,\n",
       "       -2.16056541e-01,  2.56325185e-01,  9.28142220e-02,  3.70094687e-01,\n",
       "       -7.20831752e-01,  6.84019402e-02,  4.26569134e-02,  4.33199368e-02,\n",
       "       -2.52592683e-01,  1.17652729e-01, -2.20622674e-01, -7.42264748e-01,\n",
       "       -3.88859749e-01,  6.53573722e-02,  2.53473669e-01,  3.63418162e-01,\n",
       "        1.30986542e-01,  3.27144265e-01,  4.67330873e-01, -1.70649692e-01,\n",
       "        2.04160526e-01,  2.07175985e-01, -5.03944695e-01,  2.46307001e-01,\n",
       "        1.60367206e-01,  1.66579023e-01,  4.16920841e-01, -3.94996643e-01,\n",
       "       -3.36468637e-01, -3.77906680e-01,  4.43813086e-01,  2.81174362e-01,\n",
       "        3.06905985e-01, -4.64463830e-01,  1.02585815e-01,  8.87522474e-02,\n",
       "       -1.46014765e-01,  5.57304084e-01,  1.65043980e-01,  6.99711382e-01,\n",
       "       -5.20178378e-01, -1.43953636e-01,  2.93227434e-01, -3.61250252e-01,\n",
       "       -1.45246880e-02, -1.12019457e-01, -8.49516034e-01, -6.12469792e-01,\n",
       "       -1.77176837e-02, -3.88111502e-01,  1.27388611e-01, -5.21724634e-02,\n",
       "       -1.62726585e-02, -3.72916684e-02, -4.00021344e-01, -2.51235276e-01,\n",
       "       -2.34027326e-01, -9.20706093e-02,  3.29038888e-01, -4.39109266e-01,\n",
       "        3.99870723e-01,  3.13202679e-01,  2.43621215e-01, -4.92346764e-01,\n",
       "        6.79469585e-01,  4.91292000e-01,  3.26375276e-01, -5.99875972e-02,\n",
       "       -2.72699296e-01, -3.40091646e-01,  8.12993705e-01,  5.40390551e-01,\n",
       "       -6.61853313e-01,  2.05652744e-01,  4.08372641e-01, -4.57334630e-02,\n",
       "       -5.44360697e-01, -2.53094167e-01, -3.73567879e-01, -4.10960674e-01,\n",
       "        2.31244504e-01, -1.87748492e-01, -2.06221506e-01, -1.34140387e-01,\n",
       "       -5.69805741e-01, -3.13923419e-01, -7.16877222e-01,  8.53187025e-01,\n",
       "       -3.37292030e-02,  3.26889217e-01, -3.87131035e-01, -4.84455079e-01,\n",
       "       -2.95543998e-01, -1.69730708e-01, -1.91740558e-01, -2.88270950e-01,\n",
       "        5.10499537e-01, -3.05713471e-02, -4.21849549e-01,  7.26408437e-02,\n",
       "        7.90435076e-02, -1.69524863e-01,  5.30555129e-01, -2.00922135e-02,\n",
       "        6.82845563e-02,  8.45216289e-02, -3.37326914e-01, -3.02030474e-01,\n",
       "        3.26854497e-01,  8.02155912e-01, -4.48397286e-02, -5.77583432e-01,\n",
       "       -4.67547834e-01, -3.61080229e-01,  2.40218475e-01,  1.98009208e-01,\n",
       "        5.77665865e-01, -1.82025596e-01, -2.76689380e-01,  1.35902062e-01,\n",
       "       -3.49822432e-01,  8.49588737e-02,  1.99992597e-01, -1.22781312e-02,\n",
       "        2.10152388e-01,  3.08951229e-01,  1.18377939e-01, -2.80694187e-01,\n",
       "        1.77285075e-01,  1.24771297e-01, -8.29024091e-02, -4.47472870e-01,\n",
       "        1.96834491e-03, -7.11571395e-01, -3.13146293e-01, -1.39061272e-01,\n",
       "       -4.17373180e-01,  2.50721574e-01,  1.89768616e-02,  1.97889388e-01,\n",
       "       -4.08421457e-02,  1.72335938e-01, -6.66893870e-02,  2.78830975e-01,\n",
       "        3.09358805e-01,  4.05071348e-01,  3.94646563e-02,  1.09773658e-01,\n",
       "       -4.98855144e-01,  3.77327144e-01,  1.74806118e-01, -5.22472560e-01,\n",
       "       -1.82953149e-01,  4.39672871e-03, -5.42998135e-01,  2.40179881e-01,\n",
       "        2.17401341e-01,  5.49304545e-01, -2.02659026e-01, -4.27792594e-02,\n",
       "        3.68708193e-01, -8.27549174e-02,  6.35766923e-01,  1.02895327e-01,\n",
       "        9.02631208e-02, -3.35057169e-01,  4.01723295e-01, -7.65776262e-02,\n",
       "       -3.16547938e-02,  2.46033669e-01,  2.20117241e-01, -2.63967842e-01,\n",
       "       -6.80518970e-02, -5.13210893e-01,  1.38664946e-01, -6.84923112e-01,\n",
       "        2.30920017e-02,  2.08447859e-01,  1.51082769e-01, -7.97758639e-01,\n",
       "       -2.03418639e-02,  3.59905474e-02, -5.96525609e-01,  4.64357674e-01,\n",
       "        7.63486475e-02,  1.08470814e-02,  4.44780678e-01, -2.37235650e-01,\n",
       "       -1.00267446e+00,  4.15666163e-01, -1.24120817e-01,  3.62954922e-02,\n",
       "        1.52473658e-01,  1.93701722e-02,  1.94337845e-01,  1.45870969e-01,\n",
       "       -1.10855147e-01,  2.95846611e-01, -5.43410778e-02,  4.62949336e-01,\n",
       "        3.71628881e-01, -2.16809884e-02,  3.52419496e-01, -2.43158769e-02,\n",
       "        3.35423589e-01,  5.44635057e-01,  5.80738604e-01, -2.97017604e-01,\n",
       "       -9.04432591e-03, -4.01935801e-02,  2.90117729e-02, -3.08004161e-03,\n",
       "        3.82344902e-01, -1.78354923e-02, -2.14540735e-01, -2.41971388e-02],\n",
       "      dtype=float32)"
      ]
     },
     "execution_count": 16,
     "metadata": {},
     "output_type": "execute_result"
    }
   ],
   "source": [
    "vocab_embed['eclipse']"
   ]
  }
 ],
 "metadata": {
  "kernelspec": {
   "display_name": "Python 3",
   "language": "python",
   "name": "python3"
  },
  "language_info": {
   "codemirror_mode": {
    "name": "ipython",
    "version": 3
   },
   "file_extension": ".py",
   "mimetype": "text/x-python",
   "name": "python",
   "nbconvert_exporter": "python",
   "pygments_lexer": "ipython3",
   "version": "3.5.2"
  }
 },
 "nbformat": 4,
 "nbformat_minor": 2
}
