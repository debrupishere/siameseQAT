{
 "cells": [
  {
   "cell_type": "markdown",
   "metadata": {},
   "source": [
    "# FastText pretrained in the dataset\n",
    "\n",
    "https://github.com/facebookresearch/fastText"
   ]
  },
  {
   "cell_type": "code",
   "execution_count": 1,
   "metadata": {},
   "outputs": [],
   "source": [
    "import fasttext\n",
    "import re\n",
    "import numpy as np\n",
    "import pandas as pd\n",
    "\n",
    "import os\n",
    "from tqdm import tqdm_notebook as tqdm\n",
    "import matplotlib.pyplot as plt\n",
    "import sys\n",
    "nb_dir = os.path.split(os.getcwd())[0]\n",
    "if nb_dir not in sys.path:\n",
    "    sys.path.append(nb_dir)\n",
    "    \n",
    "%matplotlib inline"
   ]
  },
  {
   "cell_type": "code",
   "execution_count": 2,
   "metadata": {},
   "outputs": [
    {
     "name": "stderr",
     "output_type": "stream",
     "text": [
      "Using TensorFlow backend.\n"
     ]
    }
   ],
   "source": [
    "from methods.baseline import Baseline"
   ]
  },
  {
   "cell_type": "code",
   "execution_count": 3,
   "metadata": {},
   "outputs": [],
   "source": [
    "MAX_SEQUENCE_LENGTH_T = 100 # 40\n",
    "MAX_SEQUENCE_LENGTH_D = 500 # 200\n",
    "EMBEDDING_DIM = 300\n",
    "MAX_NB_WORDS = 2000"
   ]
  },
  {
   "cell_type": "code",
   "execution_count": 4,
   "metadata": {},
   "outputs": [],
   "source": [
    "# Domain to use\n",
    "DOMAIN = 'eclipse'\n",
    "# Dataset paths\n",
    "DIR = 'data/processed/{}'.format(DOMAIN)\n",
    "DIR_PAIRS = 'data/normalized/{}'.format(DOMAIN)\n",
    "DATASET = os.path.join('data/normalized/{}'.format(DOMAIN), '{}.csv'.format(DOMAIN))"
   ]
  },
  {
   "cell_type": "code",
   "execution_count": 5,
   "metadata": {},
   "outputs": [],
   "source": [
    "baseline = Baseline(DIR, DATASET, MAX_SEQUENCE_LENGTH_T, MAX_SEQUENCE_LENGTH_D)"
   ]
  },
  {
   "cell_type": "code",
   "execution_count": 6,
   "metadata": {},
   "outputs": [
    {
     "name": "stdout",
     "output_type": "stream",
     "text": [
      "Reading bug ids\n"
     ]
    },
    {
     "data": {
      "text/plain": [
       "212512"
      ]
     },
     "execution_count": 6,
     "metadata": {},
     "output_type": "execute_result"
    }
   ],
   "source": [
    "baseline.load_ids(DIR)\n",
    "len(baseline.bug_ids)"
   ]
  },
  {
   "cell_type": "code",
   "execution_count": 7,
   "metadata": {},
   "outputs": [],
   "source": [
    "def data_padding(data, max_seq_length):\n",
    "    seq_lengths = [len(seq) for seq in data]\n",
    "    seq_lengths.append(6)\n",
    "    max_seq_length = min(max(seq_lengths), max_seq_length)\n",
    "    padded_data = np.zeros(shape=[len(data), max_seq_length])\n",
    "    for i, seq in enumerate(data):\n",
    "        seq = seq[:max_seq_length]\n",
    "        for j, token in enumerate(seq):\n",
    "            padded_data[i, j] = int(token)\n",
    "    return padded_data.astype(np.int)"
   ]
  },
  {
   "cell_type": "code",
   "execution_count": 8,
   "metadata": {},
   "outputs": [],
   "source": [
    "import _pickle as pickle\n",
    "\n",
    "def load_bugs(baseline):   \n",
    "    removed = []\n",
    "    baseline.corpus = []\n",
    "    baseline.sentence_dict = {}\n",
    "    baseline.bug_set = {}\n",
    "    title_padding, desc_padding = [], []\n",
    "    for bug_id in tqdm(baseline.bug_ids):\n",
    "        try:\n",
    "            bug = pickle.load(open(os.path.join(baseline.DIR, 'bugs', '{}.pkl'.format(bug_id)), 'rb'))\n",
    "            title_padding.append(bug['title_word'])\n",
    "            desc_padding.append(bug['description_word'])\n",
    "            baseline.bug_set[bug_id] = bug\n",
    "            #break\n",
    "        except:\n",
    "            removed.append(bug_id)\n",
    "    \n",
    "    if len(removed) > 0:\n",
    "        for x in removed:\n",
    "            baseline.bug_ids.remove(x)\n",
    "        baseline.removed = removed\n",
    "        print(\"{} were removed. To see the list call self.removed\".format(len(removed)))"
   ]
  },
  {
   "cell_type": "code",
   "execution_count": 9,
   "metadata": {},
   "outputs": [
    {
     "data": {
      "application/vnd.jupyter.widget-view+json": {
       "model_id": "f3e0bef9bc054fca967e46731503ae55",
       "version_major": 2,
       "version_minor": 0
      },
      "text/plain": [
       "HBox(children=(IntProgress(value=0, max=212512), HTML(value='')))"
      ]
     },
     "metadata": {},
     "output_type": "display_data"
    },
    {
     "name": "stdout",
     "output_type": "stream",
     "text": [
      "\n",
      "CPU times: user 6.62 s, sys: 1.31 s, total: 7.93 s\n",
      "Wall time: 7.92 s\n"
     ]
    }
   ],
   "source": [
    "%%time\n",
    "\n",
    "load_bugs(baseline)"
   ]
  },
  {
   "cell_type": "markdown",
   "metadata": {},
   "source": [
    "### Read the corpus from bugs"
   ]
  },
  {
   "cell_type": "code",
   "execution_count": 10,
   "metadata": {},
   "outputs": [],
   "source": [
    "lines_title = [baseline.bug_set[bug_id]['title'] for bug_id in baseline.bug_ids]\n",
    "lines_desc = [baseline.bug_set[bug_id]['description'] for bug_id in baseline.bug_ids]\n",
    "\n",
    "lines = []\n",
    "for title, desc in zip(lines_title, lines_desc):\n",
    "    lines.append(title)\n",
    "    lines.append(desc)"
   ]
  },
  {
   "cell_type": "code",
   "execution_count": 11,
   "metadata": {},
   "outputs": [
    {
     "data": {
      "text/plain": [
       "425024"
      ]
     },
     "execution_count": 11,
     "metadata": {},
     "output_type": "execute_result"
    }
   ],
   "source": [
    "len(lines)"
   ]
  },
  {
   "cell_type": "markdown",
   "metadata": {},
   "source": [
    "#### Export corpus "
   ]
  },
  {
   "cell_type": "code",
   "execution_count": 12,
   "metadata": {},
   "outputs": [
    {
     "name": "stdout",
     "output_type": "stream",
     "text": [
      "data/processed/eclipse/corpus_fasttext.txt\n"
     ]
    }
   ],
   "source": [
    "EXPORT_PATH = os.path.join(DIR, 'corpus_fasttext.txt')\n",
    "print(EXPORT_PATH)\n",
    "with open(EXPORT_PATH, 'w') as f:\n",
    "    for row in lines:\n",
    "        f.write(\"{}\\n\".format(str(row).encode(\"utf-8\")))"
   ]
  },
  {
   "cell_type": "markdown",
   "metadata": {},
   "source": [
    "## Fasttext embedding"
   ]
  },
  {
   "cell_type": "code",
   "execution_count": 13,
   "metadata": {
    "scrolled": false
   },
   "outputs": [],
   "source": [
    "%%time\n",
    "\n",
    "import os\n",
    "\n",
    "cpu = os.cpu_count() - 1\n",
    "\n",
    "# Skipgram model :\n",
    "model = fasttext.train_unsupervised(EXPORT_PATH, \n",
    "                                    model='cbow', \n",
    "                                    minCount=1,\n",
    "                                    neg=10,\n",
    "                                    wordNgrams=1,\n",
    "                                    epoch=15, \n",
    "                                    dim=300, \n",
    "                                    loss='hs', \n",
    "                                    thread=cpu, \n",
    "                                    verbose=2)"
   ]
  },
  {
   "cell_type": "markdown",
   "metadata": {},
   "source": [
    "### Save dataset vocabulary embedding"
   ]
  },
  {
   "cell_type": "code",
   "execution_count": 14,
   "metadata": {},
   "outputs": [],
   "source": [
    "import _pickle as pickle"
   ]
  },
  {
   "cell_type": "code",
   "execution_count": 15,
   "metadata": {},
   "outputs": [],
   "source": [
    "vocab_embed = {}\n",
    "for word in model.words:\n",
    "    vocab_embed[word] = model[word]\n",
    "    \n",
    "with open(os.path.join(baseline.DIR, 'vocab_embed_fasttext.pkl'), 'wb') as f:\n",
    "      pickle.dump(vocab_embed, f)"
   ]
  },
  {
   "cell_type": "code",
   "execution_count": 22,
   "metadata": {},
   "outputs": [
    {
     "data": {
      "text/plain": [
       "array([ 0.00175972,  0.02722351, -0.01460259, -0.02026979, -0.01797591,\n",
       "        0.05911409,  0.0319526 ,  0.02416203,  0.00084752,  0.0302299 ,\n",
       "        0.03696913, -0.00107778,  0.04835556, -0.00819601, -0.01121616,\n",
       "       -0.03569226, -0.08328871,  0.04925559,  0.00762468,  0.04186817,\n",
       "        0.05689619, -0.03952855, -0.04416988,  0.02871136,  0.0231767 ,\n",
       "       -0.06488574,  0.11846077,  0.00388976,  0.04012141, -0.00241362,\n",
       "        0.0097272 ,  0.00541798, -0.03951032,  0.03909737,  0.01908095,\n",
       "       -0.01078507,  0.00778152,  0.02252823,  0.03085625, -0.03297628,\n",
       "       -0.00321536,  0.023133  ,  0.05466954, -0.01693534,  0.02910661,\n",
       "       -0.05485218,  0.03256058,  0.01006469, -0.01969906, -0.02642566,\n",
       "       -0.01864357, -0.03623489,  0.04043628, -0.05952513,  0.11100627,\n",
       "        0.00285595,  0.04999549, -0.04425278,  0.01423279,  0.01518322,\n",
       "       -0.01133189,  0.03238859,  0.06133053, -0.10155558, -0.03357397,\n",
       "        0.06344308, -0.01000919,  0.0115397 ,  0.09718227, -0.00470858,\n",
       "       -0.031486  , -0.10842854, -0.09280047,  0.00217814, -0.01098039,\n",
       "        0.00905922, -0.0545225 , -0.03303323, -0.01378478, -0.00845746,\n",
       "        0.01693296, -0.00973985, -0.01026102, -0.02464726,  0.03401099,\n",
       "        0.0093718 ,  0.04231653,  0.0169438 , -0.03700265,  0.04485611,\n",
       "       -0.003546  ,  0.01674804, -0.0223331 , -0.05844092,  0.01564413,\n",
       "        0.0007774 , -0.02775506,  0.007057  , -0.00209893, -0.03466797,\n",
       "        0.05639224, -0.01356158,  0.03943989,  0.02516123, -0.04082116,\n",
       "        0.00112626, -0.04229425,  0.00034374,  0.00543648,  0.03515146,\n",
       "       -0.0549861 ,  0.01634889,  0.06197633,  0.09859441, -0.01937382,\n",
       "        0.03064479,  0.01861668,  0.03360334, -0.08858321,  0.04719092,\n",
       "        0.03157222, -0.00389306,  0.02419418, -0.02081961,  0.02223249,\n",
       "        0.02594406, -0.07891323,  0.0743629 ,  0.00576108, -0.07180334,\n",
       "       -0.0239255 , -0.02041101, -0.00027993, -0.03317817, -0.02271822,\n",
       "        0.04631412, -0.06259643, -0.05260221,  0.02633698, -0.01017509,\n",
       "       -0.02036789, -0.00518748, -0.01398616, -0.00769584, -0.12825733,\n",
       "        0.02754988, -0.02516701,  0.00569342, -0.06804468,  0.07353345,\n",
       "       -0.02335414, -0.04434933, -0.04184713,  0.07131217,  0.01892022,\n",
       "       -0.08154342, -0.02960644,  0.02169328, -0.06443007, -0.00591877,\n",
       "       -0.06973116, -0.03706706, -0.01166911, -0.08948267,  0.01016041,\n",
       "        0.09210538, -0.00364246, -0.02637824, -0.02131225, -0.02099544,\n",
       "       -0.05713366, -0.03179547,  0.11289994,  0.05059495, -0.01733699,\n",
       "        0.12095508,  0.0595856 ,  0.02765568, -0.0504632 ,  0.04133206,\n",
       "       -0.07188132, -0.03623866,  0.01971022, -0.00814593, -0.03267949,\n",
       "       -0.00489129, -0.0396706 ,  0.1173473 ,  0.03002323, -0.03111134,\n",
       "        0.03531373,  0.05479274,  0.00314124,  0.00853481,  0.12274206,\n",
       "       -0.03778033,  0.00088384,  0.0001287 ,  0.03610018,  0.03177644,\n",
       "       -0.0187905 ,  0.04489894,  0.02766805,  0.00549958,  0.00053111,\n",
       "       -0.01471243,  0.01701123,  0.03666051,  0.00662745,  0.00193042,\n",
       "        0.01097233,  0.00784059, -0.02404747,  0.01330242, -0.01594923,\n",
       "       -0.02211974, -0.00903179,  0.00509658, -0.02216166,  0.07759921,\n",
       "       -0.02708317,  0.02430389,  0.05052593,  0.08869195,  0.038962  ,\n",
       "       -0.02721244,  0.00939242, -0.05700025,  0.00983316,  0.01725343,\n",
       "       -0.02386555,  0.04784767,  0.05433287,  0.00432536, -0.00734066,\n",
       "       -0.06344149,  0.04894914, -0.05064487, -0.0134601 , -0.00869316,\n",
       "        0.02629202, -0.07725944, -0.01583479, -0.0019046 , -0.04449075,\n",
       "       -0.01009764, -0.04740462, -0.05377972, -0.06457154,  0.01624734,\n",
       "       -0.04401593,  0.04179822,  0.00572886, -0.05830935,  0.00568397,\n",
       "       -0.03279793, -0.05140493, -0.05528019,  0.0553907 ,  0.07728253,\n",
       "       -0.0534208 , -0.02456009, -0.06377946,  0.02039895,  0.01920066,\n",
       "       -0.02458613, -0.03665653, -0.01826772, -0.01217012,  0.01217866,\n",
       "       -0.04055322,  0.02064717, -0.04690369, -0.01448737, -0.08265521,\n",
       "       -0.00931757, -0.03772697,  0.03928625,  0.05604994,  0.05222872,\n",
       "       -0.09347827,  0.01253685,  0.0178781 ,  0.03066816,  0.07894072,\n",
       "       -0.00278315, -0.02966005, -0.0226278 ,  0.07547995, -0.03818414,\n",
       "        0.01605608, -0.02612134,  0.03500918, -0.03718294,  0.04683155,\n",
       "        0.01381421,  0.02555076,  0.04490203, -0.00739178, -0.0281687 ],\n",
       "      dtype=float32)"
      ]
     },
     "execution_count": 22,
     "metadata": {},
     "output_type": "execute_result"
    }
   ],
   "source": [
    "model.get_sentence_vector('test vector')"
   ]
  },
  {
   "cell_type": "code",
   "execution_count": 16,
   "metadata": {
    "scrolled": true
   },
   "outputs": [
    {
     "data": {
      "text/plain": [
       "array([-0.2817357 ,  0.07263922, -0.23383522, -0.27178627, -0.46044028,\n",
       "        0.09930528, -0.08266941, -0.3414438 , -0.12172007, -0.02020703,\n",
       "        0.04272586,  0.12412646, -0.23061396, -0.02389326, -0.25645465,\n",
       "        0.51635754,  0.60051656, -0.5477507 , -0.03928194, -0.4381328 ,\n",
       "       -0.14773576,  0.6296185 , -0.28304514, -0.4619913 ,  0.11263881,\n",
       "       -0.19993496, -0.09578929,  0.17086042, -0.08002959, -0.0577875 ,\n",
       "       -0.14353517,  0.20513104, -0.14546664,  0.41664863, -0.00909067,\n",
       "       -0.44577545, -0.05814071,  0.48839086,  0.4224951 , -0.12613736,\n",
       "       -0.0060224 , -0.01784417,  0.31477505,  0.13123685, -0.24293622,\n",
       "       -0.84600616,  0.12673122, -0.09047916, -0.35037407, -0.22508188,\n",
       "        0.05803216,  0.29191056,  0.0483678 , -0.00171087,  0.01306592,\n",
       "        0.53967595,  0.23050229, -0.17401344,  0.20859607, -0.03752097,\n",
       "        0.31133562,  0.13282089,  0.46954548,  0.12900744,  0.4844747 ,\n",
       "        0.27863738, -0.58140314, -0.47631353, -0.3390309 ,  0.37011847,\n",
       "        0.06259958,  0.42400655, -0.59492016,  0.02927768, -0.4019078 ,\n",
       "       -0.43182856,  0.21696344, -0.07283764, -0.25094733, -0.32498777,\n",
       "       -0.21088555, -0.5641257 , -0.02848157,  0.0815656 ,  0.39596936,\n",
       "        0.22983758, -0.6574259 , -0.24754633,  0.19779629, -0.3001002 ,\n",
       "       -0.44938096, -0.10361663,  0.07242753, -0.07827032, -0.09680026,\n",
       "       -0.06451807, -0.17641431,  0.37886882,  0.5107873 , -0.454022  ,\n",
       "       -0.07690384, -0.26426622, -0.2551827 ,  0.5579863 , -0.39561304,\n",
       "       -0.0855445 ,  0.35959128,  0.1863968 ,  0.07137583,  0.1859563 ,\n",
       "       -0.28197446,  0.21533202, -0.03263751, -0.5088701 , -0.44876862,\n",
       "       -0.5271546 ,  0.19425264, -0.32930923,  0.02037901,  0.28991732,\n",
       "       -0.1250602 , -0.2036307 , -0.29058933, -0.02172455,  0.02371489,\n",
       "        0.09344663,  0.40693507, -0.32593507, -0.09060606, -0.45800298,\n",
       "       -0.40493762,  0.11744904,  0.23665248,  0.07845701,  0.2837692 ,\n",
       "       -0.3169985 , -0.09325308,  0.34146887,  0.7006732 ,  0.0338586 ,\n",
       "       -0.17518832,  0.01358859,  0.17280707,  0.20891845, -0.2515533 ,\n",
       "       -0.34128436,  0.23724407, -0.31985325,  0.11901066, -0.06789101,\n",
       "        0.40657848, -0.09945694, -0.05374305,  0.13175888,  0.40402567,\n",
       "        0.11669408,  0.0453754 , -0.13795887, -0.6709555 ,  0.2553254 ,\n",
       "       -0.1233112 , -0.72027165, -0.42846075, -0.20435312,  0.04346139,\n",
       "       -0.0538317 ,  0.06617036, -0.17329115, -0.2848324 , -0.22601655,\n",
       "        0.2264311 , -0.44130766, -0.26384836, -0.1433228 ,  0.42046615,\n",
       "       -0.08110073, -0.3502431 , -0.10777899,  0.3327309 , -0.03852627,\n",
       "        0.00472492, -0.52995497, -0.63230324,  0.5415753 ,  0.18237637,\n",
       "       -0.28810665,  0.22834109, -0.30350074,  0.21152182,  0.22037114,\n",
       "       -0.19328438,  0.08515007,  0.05133495, -0.45989776,  0.58451295,\n",
       "       -0.2713043 , -0.05450296,  0.5544922 , -0.18689193, -0.64744675,\n",
       "        0.12694746, -0.6583944 ,  0.12931547, -0.04323117,  0.3644157 ,\n",
       "       -0.620568  ,  0.31139243,  0.0544165 , -0.14920467,  0.07348126,\n",
       "       -0.6437927 , -0.31532633, -0.09049174,  0.0576781 , -0.6038351 ,\n",
       "       -0.24774662,  0.0955971 , -0.39848867, -0.7718527 , -0.09055916,\n",
       "        0.00743399, -0.11781345,  0.30156916, -0.5155152 ,  0.0101473 ,\n",
       "       -0.08062354,  0.20636122,  0.24786073,  0.5175292 , -0.05967503,\n",
       "        0.0740207 , -0.02140278,  0.16762133,  0.10547049, -0.5415272 ,\n",
       "        0.05083651, -0.0840232 , -0.3087829 , -0.09339608,  0.25149804,\n",
       "       -0.35404998, -0.18289143,  0.40608847,  0.25293285, -0.41374025,\n",
       "       -0.01275417, -0.4693781 ,  0.6915346 , -0.18047829,  0.49641976,\n",
       "        0.05933462, -0.12679985, -0.5556545 , -0.19581716,  0.03849013,\n",
       "        0.00928635,  0.04591894, -0.38693467,  0.52908266, -0.7488958 ,\n",
       "        0.20596121, -0.28409603, -0.20367573,  0.20664568,  0.00705121,\n",
       "        0.02502533, -0.09906425,  0.38392466, -0.06341874,  0.08139101,\n",
       "       -0.05988539,  0.18889788, -0.6135759 , -0.15115924, -0.00181578,\n",
       "        0.19440208,  0.08440941, -0.1709472 ,  0.5099431 ,  0.34249082,\n",
       "        0.12730253, -0.5817372 , -0.5615013 , -0.23252533, -0.26105544,\n",
       "       -0.24284612, -0.18929209, -0.18083751,  0.16290928, -0.06307603,\n",
       "        0.26045924, -0.4486229 ,  0.04829513,  0.58260506, -0.14791583,\n",
       "        0.4262911 , -0.01516583,  0.1804764 , -0.01635414,  0.31427068],\n",
       "      dtype=float32)"
      ]
     },
     "execution_count": 16,
     "metadata": {},
     "output_type": "execute_result"
    }
   ],
   "source": [
    "vocab_embed['eclipse']"
   ]
  }
 ],
 "metadata": {
  "kernelspec": {
   "display_name": "Python 3",
   "language": "python",
   "name": "python3"
  },
  "language_info": {
   "codemirror_mode": {
    "name": "ipython",
    "version": 3
   },
   "file_extension": ".py",
   "mimetype": "text/x-python",
   "name": "python",
   "nbconvert_exporter": "python",
   "pygments_lexer": "ipython3",
   "version": "3.5.2"
  }
 },
 "nbformat": 4,
 "nbformat_minor": 2
}
