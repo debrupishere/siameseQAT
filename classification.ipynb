{
 "cells": [
  {
   "cell_type": "markdown",
   "metadata": {},
   "source": [
    "## Classification using siamese model"
   ]
  },
  {
   "cell_type": "code",
   "execution_count": 1,
   "metadata": {},
   "outputs": [
    {
     "name": "stderr",
     "output_type": "stream",
     "text": [
      "Using TensorFlow backend.\n"
     ]
    }
   ],
   "source": [
    "import keras"
   ]
  },
  {
   "cell_type": "code",
   "execution_count": 2,
   "metadata": {},
   "outputs": [],
   "source": [
    "import re\n",
    "import numpy as np\n",
    "import pandas as pd\n",
    "\n",
    "import os\n",
    "from tqdm import tqdm\n",
    "import matplotlib.pyplot as plt\n",
    "import sys\n",
    "nb_dir = os.path.split(os.getcwd())[0]\n",
    "if nb_dir not in sys.path:\n",
    "    sys.path.append(nb_dir)\n",
    "    \n",
    "%matplotlib inline"
   ]
  },
  {
   "cell_type": "code",
   "execution_count": 3,
   "metadata": {},
   "outputs": [],
   "source": [
    "from methods.baseline import Baseline"
   ]
  },
  {
   "cell_type": "code",
   "execution_count": 4,
   "metadata": {},
   "outputs": [],
   "source": [
    "from keras.layers import Conv1D, Input, Add, Activation, Dropout, Embedding, MaxPooling1D, GlobalMaxPool1D, Flatten, Dense, Concatenate, BatchNormalization\n",
    "from keras.models import Model"
   ]
  },
  {
   "cell_type": "markdown",
   "metadata": {},
   "source": [
    "## Configurações Globais"
   ]
  },
  {
   "cell_type": "code",
   "execution_count": 5,
   "metadata": {},
   "outputs": [],
   "source": [
    "MAX_SEQUENCE_LENGTH_T = 20 # 40\n",
    "MAX_SEQUENCE_LENGTH_D = 200 # 200\n",
    "MAX_SEQUENCE_LENGTH_I = 1682\n",
    "EMBEDDING_DIM = 300\n",
    "MAX_NB_WORDS = 2000"
   ]
  },
  {
   "cell_type": "code",
   "execution_count": 6,
   "metadata": {},
   "outputs": [],
   "source": [
    "DIR = 'data/processed/eclipse'\n",
    "DATASET = os.path.join('data/normalized/eclipse', 'eclipse.csv')\n",
    "DIR_PAIRS = 'data/normalized/eclipse'"
   ]
  },
  {
   "cell_type": "code",
   "execution_count": 7,
   "metadata": {},
   "outputs": [],
   "source": [
    "baseline = Baseline(DIR, DATASET, MAX_SEQUENCE_LENGTH_T, MAX_SEQUENCE_LENGTH_D)"
   ]
  },
  {
   "cell_type": "code",
   "execution_count": 8,
   "metadata": {},
   "outputs": [
    {
     "data": {
      "text/plain": [
       "{'bug_severity': 7,\n",
       " 'bug_status': 3,\n",
       " 'component': 927,\n",
       " 'priority': 5,\n",
       " 'product': 189,\n",
       " 'version': 551}"
      ]
     },
     "execution_count": 8,
     "metadata": {},
     "output_type": "execute_result"
    }
   ],
   "source": [
    "baseline.info_dict"
   ]
  },
  {
   "cell_type": "code",
   "execution_count": 9,
   "metadata": {
    "scrolled": true
   },
   "outputs": [
    {
     "name": "stdout",
     "output_type": "stream",
     "text": [
      "Loaded model from disk\n"
     ]
    }
   ],
   "source": [
    "\"\"\"\n",
    "    A lista de modelos estar disponível no diretorio /modelos\n",
    "        name:\n",
    "            - model_baseline_{X}epoch_{Y}steps_({dataset}).h5\n",
    "            - model_baseline_{X}epoch_{Y}steps_({dataset}).json\n",
    "    \n",
    "        Informações adicionais:\n",
    "            {X} - total de épocas treinada. Ex: 100, 1000\n",
    "            {Y} - total de steps validados no treino. Ex: 10, 16\n",
    "            {dataset} - Nome da base testada. Ex: Eclipse, Netbeans, OpenOffice\n",
    "\"\"\"\n",
    "name = 'baseline_1000epoch_10steps_1024batch(eclipse)'\n",
    "\n",
    "similarity_model = Baseline.load_model('', name, {'l2_normalize' : Baseline.l2_normalize})"
   ]
  },
  {
   "cell_type": "markdown",
   "metadata": {},
   "source": [
    "#### Loading bug ids in memory"
   ]
  },
  {
   "cell_type": "code",
   "execution_count": 10,
   "metadata": {},
   "outputs": [],
   "source": [
    "baseline.load_ids(DIR)"
   ]
  },
  {
   "cell_type": "markdown",
   "metadata": {},
   "source": [
    "#### Generating tiple of batches"
   ]
  },
  {
   "cell_type": "code",
   "execution_count": 11,
   "metadata": {},
   "outputs": [
    {
     "name": "stdout",
     "output_type": "stream",
     "text": [
      "Reading train data\n",
      "Reading the test...\n"
     ]
    },
    {
     "name": "stderr",
     "output_type": "stream",
     "text": [
      "12798it [00:00, 67424.71it/s]"
     ]
    },
    {
     "name": "stdout",
     "output_type": "stream",
     "text": [
      "Reading test data\n",
      "CPU times: user 444 ms, sys: 9.02 ms, total: 453 ms\n",
      "Wall time: 448 ms\n"
     ]
    },
    {
     "name": "stderr",
     "output_type": "stream",
     "text": [
      "\n"
     ]
    }
   ],
   "source": [
    "%%time\n",
    "\n",
    "baseline.prepare_dataset()"
   ]
  },
  {
   "cell_type": "markdown",
   "metadata": {},
   "source": [
    "#### Loading train bugs"
   ]
  },
  {
   "cell_type": "code",
   "execution_count": 12,
   "metadata": {},
   "outputs": [
    {
     "name": "stderr",
     "output_type": "stream",
     "text": [
      "100%|██████████| 212512/212512 [00:10<00:00, 20464.40it/s]\n"
     ]
    }
   ],
   "source": [
    "baseline.load_bugs()"
   ]
  },
  {
   "cell_type": "markdown",
   "metadata": {},
   "source": [
    "## Siamese  model"
   ]
  },
  {
   "cell_type": "code",
   "execution_count": 13,
   "metadata": {},
   "outputs": [],
   "source": [
    "## Freeze weights\n",
    "# for layer in similarity_model.layers:\n",
    "#     layer.trainable = False"
   ]
  },
  {
   "cell_type": "code",
   "execution_count": 14,
   "metadata": {},
   "outputs": [
    {
     "name": "stdout",
     "output_type": "stream",
     "text": [
      "__________________________________________________________________________________________________\n",
      "Layer (type)                    Output Shape         Param #     Connected to                     \n",
      "==================================================================================================\n",
      "info_a (InputLayer)             (None, 1682)         0                                            \n",
      "__________________________________________________________________________________________________\n",
      "title_a (InputLayer)            (None, 20)           0                                            \n",
      "__________________________________________________________________________________________________\n",
      "desc_a (InputLayer)             (None, 200)          0                                            \n",
      "__________________________________________________________________________________________________\n",
      "info_b (InputLayer)             (None, 1682)         0                                            \n",
      "__________________________________________________________________________________________________\n",
      "title_b (InputLayer)            (None, 20)           0                                            \n",
      "__________________________________________________________________________________________________\n",
      "desc_b (InputLayer)             (None, 200)          0                                            \n",
      "__________________________________________________________________________________________________\n",
      "FeatureMlpGenerationModel (Mode (None, 256)          4471853     info_a[0][0]                     \n",
      "                                                                 info_b[0][0]                     \n",
      "__________________________________________________________________________________________________\n",
      "FeatureLstmGenerationModel (Mod (None, 50)           38628600    title_a[0][0]                    \n",
      "                                                                 title_b[0][0]                    \n",
      "__________________________________________________________________________________________________\n",
      "FeatureCNNGenerationModel (Mode (None, 256)          39047944    desc_a[0][0]                     \n",
      "                                                                 desc_b[0][0]                     \n",
      "__________________________________________________________________________________________________\n",
      "merge_features_in (Concatenate) (None, 562)          0           FeatureMlpGenerationModel[4][0]  \n",
      "                                                                 FeatureLstmGenerationModel[4][0] \n",
      "                                                                 FeatureCNNGenerationModel[4][0]  \n",
      "                                                                 FeatureMlpGenerationModel[5][0]  \n",
      "                                                                 FeatureLstmGenerationModel[5][0] \n",
      "                                                                 FeatureCNNGenerationModel[5][0]  \n",
      "__________________________________________________________________________________________________\n",
      "bugs (Concatenate)              (None, 1124)         0           merge_features_in[1][0]          \n",
      "                                                                 merge_features_in[2][0]          \n",
      "__________________________________________________________________________________________________\n",
      "dense_1 (Dense)                 (None, 256)          288000      bugs[0][0]                       \n",
      "__________________________________________________________________________________________________\n",
      "activation_1 (Activation)       (None, 256)          0           dense_1[0][0]                    \n",
      "__________________________________________________________________________________________________\n",
      "batch_normalization_1 (BatchNor (None, 256)          1024        activation_1[0][0]               \n",
      "__________________________________________________________________________________________________\n",
      "dense_2 (Dense)                 (None, 256)          65792       batch_normalization_1[0][0]      \n",
      "__________________________________________________________________________________________________\n",
      "activation_2 (Activation)       (None, 256)          0           dense_2[0][0]                    \n",
      "__________________________________________________________________________________________________\n",
      "batch_normalization_2 (BatchNor (None, 256)          1024        activation_2[0][0]               \n",
      "__________________________________________________________________________________________________\n",
      "output (Dense)                  (None, 2)            514         batch_normalization_2[0][0]      \n",
      "==================================================================================================\n",
      "Total params: 82,504,751\n",
      "Trainable params: 5,522,281\n",
      "Non-trainable params: 76,982,470\n",
      "__________________________________________________________________________________________________\n"
     ]
    }
   ],
   "source": [
    "from keras.layers import concatenate, Dropout, Add\n",
    "\n",
    "bug_t_a = Input(shape = (MAX_SEQUENCE_LENGTH_T, ), name = 'title_a')\n",
    "bug_t_b = Input(shape = (MAX_SEQUENCE_LENGTH_T, ), name = 'title_b')\n",
    "\n",
    "bug_d_a = Input(shape = (MAX_SEQUENCE_LENGTH_D, ), name = 'desc_a')\n",
    "bug_d_b = Input(shape = (MAX_SEQUENCE_LENGTH_D, ), name = 'desc_b')\n",
    "\n",
    "bug_i_a = Input(shape = (MAX_SEQUENCE_LENGTH_I, ), name = 'info_a')\n",
    "bug_i_b = Input(shape = (MAX_SEQUENCE_LENGTH_I, ), name = 'info_b')\n",
    "\n",
    "title_encoder = similarity_model.get_layer('FeatureLstmGenerationModel')\n",
    "desc_encoder = similarity_model.get_layer('FeatureCNNGenerationModel')\n",
    "info_encoder = similarity_model.get_layer('FeatureMlpGenerationModel')\n",
    "\n",
    "model = similarity_model.get_layer('merge_features_in')\n",
    "\n",
    "# Bug A\n",
    "bugt_t_a = title_encoder(bug_t_a)\n",
    "bugt_d_a = desc_encoder(bug_d_a)\n",
    "bugt_i_a = info_encoder(bug_i_a)\n",
    "# Bug B\n",
    "bugt_t_b = title_encoder(bug_t_b)\n",
    "bugt_d_b = desc_encoder(bug_d_b)\n",
    "bugt_i_b = info_encoder(bug_i_b)\n",
    "\n",
    "bug_a = model([bugt_i_a, bugt_t_a, bugt_d_a])\n",
    "bug_b = model([bugt_i_b, bugt_t_b, bugt_d_b])\n",
    "\n",
    "x = concatenate([bug_a, bug_b], name='bugs') # \n",
    "\n",
    "for _ in range(2):\n",
    "    x = Dense(256)(x)\n",
    "    #x = Dropout(0.25)(x)\n",
    "    x = Activation('tanh')(x)\n",
    "    x = BatchNormalization()(x)\n",
    "\n",
    "output = Dense(2, activation = 'softmax', name = 'output')(x)\n",
    "\n",
    "model_clf = Model(inputs=[bug_t_a, bug_t_b, bug_d_a, bug_d_b, bug_i_a, bug_i_b], outputs=[output])\n",
    "\n",
    "#adam = keras.optimizers.Adam(lr=0.005, beta_1=0.9, beta_2=0.999, epsilon=None, decay=0.1, amsgrad=False)\n",
    "\n",
    "model_clf.compile(optimizer='adam', loss='binary_crossentropy', metrics = ['accuracy'])\n",
    "model_clf.summary()"
   ]
  },
  {
   "cell_type": "code",
   "execution_count": 15,
   "metadata": {},
   "outputs": [],
   "source": [
    "from keras.utils import to_categorical\n",
    "from sklearn.preprocessing import LabelEncoder\n",
    "\n",
    "def batch_classification(train, dup_sets, batch_size, n_neg):\n",
    "    encoder = LabelEncoder()\n",
    "    batch_size_normalized = batch_size // 2\n",
    "    input_sample, input_pos, input_neg, sim = baseline.batch_iterator(train, dup_sets, batch_size_normalized, n_neg)\n",
    "    \n",
    "    pos = np.full((1, batch_size_normalized), 1)\n",
    "    neg = np.full((1, batch_size_normalized), 0)\n",
    "    sim = np.concatenate([pos, neg], -1)[0]\n",
    "    \n",
    "    sim = encoder.fit_transform(sim)\n",
    "    sim = to_categorical(sim)\n",
    "\n",
    "    title_a = np.concatenate([input_sample['title'], input_sample['title']])\n",
    "    title_b = np.concatenate([input_pos['title'], input_neg['title']])\n",
    "    desc_a = np.concatenate([input_sample['description'], input_sample['description']])\n",
    "    desc_b = np.concatenate([input_pos['description'], input_neg['description']])\n",
    "    info_a = np.concatenate([input_sample['info'], input_sample['info']])\n",
    "    info_b = np.concatenate([input_pos['info'], input_neg['info']])\n",
    "    \n",
    "    return title_a, title_b, desc_a, desc_b, info_a, info_b, sim\n",
    "\n",
    "def batch_classification_siamese(train, dup_sets, batch_size, n_neg):\n",
    "    while True:\n",
    "        title_a, title_b, desc_a, desc_b, info_a, info_b, sim = batch_classification(train, dup_sets, batch_size, n_neg)\n",
    "        \n",
    "        yield ({ 'title_a' : title_a, 'title_b': title_b, \n",
    "        'desc_a' : desc_a, 'desc_b' : desc_b, 'info_a' : info_a, 'info_b' : info_b }, sim)"
   ]
  },
  {
   "cell_type": "code",
   "execution_count": 16,
   "metadata": {},
   "outputs": [],
   "source": [
    "title_a, title_b, desc_a, desc_b, info_a, info_b, sim = batch_classification(baseline.train_data, \n",
    "                                                                             baseline.dup_sets_train,\n",
    "                                                                             512, 1)\n",
    "test_validation = ({ 'title_a' : title_a, 'title_b': title_b, \n",
    "        'desc_a' : desc_a, 'desc_b' : desc_b, 'info_a' : info_a, 'info_b' : info_b }, sim)"
   ]
  },
  {
   "cell_type": "code",
   "execution_count": 17,
   "metadata": {
    "scrolled": true
   },
   "outputs": [
    {
     "name": "stdout",
     "output_type": "stream",
     "text": [
      "Epoch 1/100\n",
      "10/10 [==============================] - 8s 795ms/step - loss: 1.0467 - acc: 0.5644 - val_loss: 1.6467 - val_acc: 0.5000\n",
      "Epoch 2/100\n",
      "10/10 [==============================] - 3s 334ms/step - loss: 0.6658 - acc: 0.6369 - val_loss: 0.7212 - val_acc: 0.5000\n",
      "Epoch 3/100\n",
      "10/10 [==============================] - 3s 322ms/step - loss: 0.6173 - acc: 0.6753 - val_loss: 0.6941 - val_acc: 0.5000\n",
      "Epoch 4/100\n",
      "10/10 [==============================] - 3s 327ms/step - loss: 0.5955 - acc: 0.6842 - val_loss: 0.7204 - val_acc: 0.5000\n",
      "Epoch 5/100\n",
      "10/10 [==============================] - 3s 321ms/step - loss: 0.6065 - acc: 0.6749 - val_loss: 0.7115 - val_acc: 0.5000\n",
      "Epoch 6/100\n",
      "10/10 [==============================] - 3s 340ms/step - loss: 0.5959 - acc: 0.6889 - val_loss: 0.6987 - val_acc: 0.5000\n",
      "Epoch 7/100\n",
      "10/10 [==============================] - 3s 321ms/step - loss: 0.5939 - acc: 0.6844 - val_loss: 0.7223 - val_acc: 0.5000\n",
      "Epoch 8/100\n",
      "10/10 [==============================] - 3s 329ms/step - loss: 0.5958 - acc: 0.6859 - val_loss: 0.7795 - val_acc: 0.5000\n",
      "Epoch 9/100\n",
      "10/10 [==============================] - 3s 330ms/step - loss: 0.5910 - acc: 0.6934 - val_loss: 0.7781 - val_acc: 0.5000\n",
      "Epoch 10/100\n",
      "10/10 [==============================] - 3s 329ms/step - loss: 0.5825 - acc: 0.6949 - val_loss: 0.7131 - val_acc: 0.5000\n",
      "Epoch 11/100\n",
      "10/10 [==============================] - 3s 330ms/step - loss: 0.5855 - acc: 0.6903 - val_loss: 0.6266 - val_acc: 0.6074\n",
      "Epoch 12/100\n",
      "10/10 [==============================] - 3s 335ms/step - loss: 0.5735 - acc: 0.6936 - val_loss: 0.6191 - val_acc: 0.6680\n",
      "Epoch 13/100\n",
      "10/10 [==============================] - 3s 332ms/step - loss: 0.5679 - acc: 0.6939 - val_loss: 0.6283 - val_acc: 0.6582\n",
      "Epoch 14/100\n",
      "10/10 [==============================] - 3s 334ms/step - loss: 0.5604 - acc: 0.6993 - val_loss: 0.6202 - val_acc: 0.6797\n",
      "Epoch 15/100\n",
      "10/10 [==============================] - 3s 332ms/step - loss: 0.5584 - acc: 0.7068 - val_loss: 0.6336 - val_acc: 0.6738\n",
      "Epoch 16/100\n",
      "10/10 [==============================] - 3s 323ms/step - loss: 0.5591 - acc: 0.7042 - val_loss: 0.6102 - val_acc: 0.6953\n",
      "Epoch 17/100\n",
      "10/10 [==============================] - 3s 338ms/step - loss: 0.5490 - acc: 0.7117 - val_loss: 0.6050 - val_acc: 0.6719\n",
      "Epoch 18/100\n",
      "10/10 [==============================] - 3s 326ms/step - loss: 0.5591 - acc: 0.7001 - val_loss: 0.6259 - val_acc: 0.6133\n",
      "Epoch 19/100\n",
      "10/10 [==============================] - 3s 334ms/step - loss: 0.5494 - acc: 0.7090 - val_loss: 0.6207 - val_acc: 0.6738\n",
      "Epoch 20/100\n",
      "10/10 [==============================] - 3s 327ms/step - loss: 0.5453 - acc: 0.7127 - val_loss: 0.6505 - val_acc: 0.6074\n",
      "Epoch 21/100\n",
      "10/10 [==============================] - 3s 333ms/step - loss: 0.5449 - acc: 0.7104 - val_loss: 0.6693 - val_acc: 0.6035\n",
      "Epoch 22/100\n",
      "10/10 [==============================] - 3s 326ms/step - loss: 0.5419 - acc: 0.7168 - val_loss: 0.6427 - val_acc: 0.6113\n",
      "Epoch 23/100\n",
      "10/10 [==============================] - 3s 324ms/step - loss: 0.5305 - acc: 0.7254 - val_loss: 0.6403 - val_acc: 0.6016\n",
      "Epoch 24/100\n",
      "10/10 [==============================] - 3s 331ms/step - loss: 0.5297 - acc: 0.7266 - val_loss: 0.6034 - val_acc: 0.6152\n",
      "Epoch 25/100\n",
      "10/10 [==============================] - 3s 328ms/step - loss: 0.5365 - acc: 0.7235 - val_loss: 0.6667 - val_acc: 0.6113\n",
      "Epoch 26/100\n",
      "10/10 [==============================] - 3s 334ms/step - loss: 0.5123 - acc: 0.7430 - val_loss: 0.5983 - val_acc: 0.7031\n",
      "Epoch 27/100\n",
      "10/10 [==============================] - 3s 337ms/step - loss: 0.5173 - acc: 0.7362 - val_loss: 0.6106 - val_acc: 0.6230\n",
      "Epoch 28/100\n",
      "10/10 [==============================] - 3s 334ms/step - loss: 0.5059 - acc: 0.7440 - val_loss: 0.5520 - val_acc: 0.6855\n",
      "Epoch 29/100\n",
      "10/10 [==============================] - 3s 326ms/step - loss: 0.4843 - acc: 0.7627 - val_loss: 0.6041 - val_acc: 0.6172\n",
      "Epoch 30/100\n",
      "10/10 [==============================] - 3s 325ms/step - loss: 0.4656 - acc: 0.7757 - val_loss: 0.5711 - val_acc: 0.6816\n",
      "Epoch 31/100\n",
      "10/10 [==============================] - 3s 331ms/step - loss: 0.4627 - acc: 0.7765 - val_loss: 0.5742 - val_acc: 0.6797\n",
      "Epoch 32/100\n",
      "10/10 [==============================] - 3s 321ms/step - loss: 0.4680 - acc: 0.7773 - val_loss: 0.6463 - val_acc: 0.6250\n",
      "Epoch 33/100\n",
      "10/10 [==============================] - 3s 325ms/step - loss: 0.4506 - acc: 0.7870 - val_loss: 0.5112 - val_acc: 0.7520\n",
      "Epoch 34/100\n",
      "10/10 [==============================] - 3s 338ms/step - loss: 0.4521 - acc: 0.7886 - val_loss: 0.5608 - val_acc: 0.6914\n",
      "Epoch 35/100\n",
      "10/10 [==============================] - 3s 341ms/step - loss: 0.4434 - acc: 0.7951 - val_loss: 0.4886 - val_acc: 0.7598\n",
      "Epoch 36/100\n",
      "10/10 [==============================] - 3s 328ms/step - loss: 0.4227 - acc: 0.8020 - val_loss: 0.6048 - val_acc: 0.6523\n",
      "Epoch 37/100\n",
      "10/10 [==============================] - 3s 331ms/step - loss: 0.4422 - acc: 0.7944 - val_loss: 0.4604 - val_acc: 0.7598\n",
      "Epoch 38/100\n",
      "10/10 [==============================] - 3s 338ms/step - loss: 0.4329 - acc: 0.7957 - val_loss: 0.5105 - val_acc: 0.7402\n",
      "Epoch 39/100\n",
      "10/10 [==============================] - 3s 318ms/step - loss: 0.4252 - acc: 0.8014 - val_loss: 0.5033 - val_acc: 0.7402\n",
      "Epoch 40/100\n",
      "10/10 [==============================] - 3s 327ms/step - loss: 0.4268 - acc: 0.8026 - val_loss: 0.4948 - val_acc: 0.7461\n",
      "Epoch 41/100\n",
      "10/10 [==============================] - 3s 329ms/step - loss: 0.4230 - acc: 0.8033 - val_loss: 0.5231 - val_acc: 0.7285\n",
      "Epoch 42/100\n",
      "10/10 [==============================] - 3s 336ms/step - loss: 0.4120 - acc: 0.8111 - val_loss: 0.4565 - val_acc: 0.7832\n",
      "Epoch 43/100\n",
      "10/10 [==============================] - 3s 326ms/step - loss: 0.4064 - acc: 0.8154 - val_loss: 0.4737 - val_acc: 0.7617\n",
      "Epoch 44/100\n",
      "10/10 [==============================] - 3s 325ms/step - loss: 0.4069 - acc: 0.8146 - val_loss: 0.4515 - val_acc: 0.7793\n",
      "Epoch 45/100\n",
      "10/10 [==============================] - 3s 336ms/step - loss: 0.3988 - acc: 0.8193 - val_loss: 0.5013 - val_acc: 0.7500\n",
      "Epoch 46/100\n",
      "10/10 [==============================] - 3s 338ms/step - loss: 0.3904 - acc: 0.8240 - val_loss: 0.4976 - val_acc: 0.7402\n",
      "Epoch 47/100\n",
      "10/10 [==============================] - 3s 323ms/step - loss: 0.3875 - acc: 0.8251 - val_loss: 0.4695 - val_acc: 0.7734\n",
      "Epoch 48/100\n",
      "10/10 [==============================] - 3s 327ms/step - loss: 0.3876 - acc: 0.8291 - val_loss: 0.5074 - val_acc: 0.7422\n",
      "Epoch 49/100\n",
      "10/10 [==============================] - 3s 330ms/step - loss: 0.3896 - acc: 0.8280 - val_loss: 0.4953 - val_acc: 0.7559\n",
      "Epoch 50/100\n",
      "10/10 [==============================] - 3s 331ms/step - loss: 0.3755 - acc: 0.8315 - val_loss: 0.5020 - val_acc: 0.7266\n",
      "Epoch 51/100\n",
      "10/10 [==============================] - 3s 331ms/step - loss: 0.3916 - acc: 0.8243 - val_loss: 0.5052 - val_acc: 0.7480\n",
      "Epoch 52/100\n",
      "10/10 [==============================] - 3s 341ms/step - loss: 0.3833 - acc: 0.8288 - val_loss: 0.4481 - val_acc: 0.7832\n",
      "Epoch 53/100\n",
      "10/10 [==============================] - 3s 327ms/step - loss: 0.3872 - acc: 0.8287 - val_loss: 0.4801 - val_acc: 0.7520\n",
      "Epoch 54/100\n",
      "10/10 [==============================] - 3s 332ms/step - loss: 0.3771 - acc: 0.8376 - val_loss: 0.4492 - val_acc: 0.7871\n",
      "Epoch 55/100\n",
      "10/10 [==============================] - 3s 323ms/step - loss: 0.3543 - acc: 0.8468 - val_loss: 0.4287 - val_acc: 0.7930\n",
      "Epoch 56/100\n",
      "10/10 [==============================] - 3s 336ms/step - loss: 0.3745 - acc: 0.8343 - val_loss: 0.4520 - val_acc: 0.7812\n",
      "Epoch 57/100\n",
      "10/10 [==============================] - 3s 331ms/step - loss: 0.3611 - acc: 0.8449 - val_loss: 0.5048 - val_acc: 0.7461\n",
      "Epoch 58/100\n",
      "10/10 [==============================] - 3s 335ms/step - loss: 0.3666 - acc: 0.8436 - val_loss: 0.4842 - val_acc: 0.7695\n",
      "Epoch 59/100\n",
      "10/10 [==============================] - 3s 329ms/step - loss: 0.3559 - acc: 0.8459 - val_loss: 0.4909 - val_acc: 0.7422\n",
      "Epoch 60/100\n",
      "10/10 [==============================] - 3s 335ms/step - loss: 0.3689 - acc: 0.8392 - val_loss: 0.5092 - val_acc: 0.7246\n",
      "Epoch 61/100\n",
      "10/10 [==============================] - 3s 327ms/step - loss: 0.3561 - acc: 0.8479 - val_loss: 0.5020 - val_acc: 0.7324\n",
      "Epoch 62/100\n"
     ]
    },
    {
     "name": "stdout",
     "output_type": "stream",
     "text": [
      "10/10 [==============================] - 3s 328ms/step - loss: 0.3612 - acc: 0.8418 - val_loss: 0.4539 - val_acc: 0.7734\n",
      "Epoch 63/100\n",
      "10/10 [==============================] - 3s 336ms/step - loss: 0.3526 - acc: 0.8490 - val_loss: 0.4542 - val_acc: 0.7949\n",
      "Epoch 64/100\n",
      "10/10 [==============================] - 3s 331ms/step - loss: 0.3601 - acc: 0.8451 - val_loss: 0.4373 - val_acc: 0.7988\n",
      "Epoch 65/100\n",
      "10/10 [==============================] - 3s 337ms/step - loss: 0.3590 - acc: 0.8467 - val_loss: 0.4225 - val_acc: 0.7910\n",
      "Epoch 66/100\n",
      "10/10 [==============================] - 3s 326ms/step - loss: 0.3564 - acc: 0.8463 - val_loss: 0.4310 - val_acc: 0.7949\n",
      "Epoch 67/100\n",
      "10/10 [==============================] - 3s 340ms/step - loss: 0.3393 - acc: 0.8573 - val_loss: 0.4702 - val_acc: 0.7734\n",
      "Epoch 68/100\n",
      "10/10 [==============================] - 3s 326ms/step - loss: 0.3420 - acc: 0.8549 - val_loss: 0.4523 - val_acc: 0.7949\n",
      "Epoch 69/100\n",
      "10/10 [==============================] - 3s 319ms/step - loss: 0.3573 - acc: 0.8477 - val_loss: 0.4564 - val_acc: 0.7715\n",
      "Epoch 70/100\n",
      "10/10 [==============================] - 3s 333ms/step - loss: 0.3426 - acc: 0.8524 - val_loss: 0.4803 - val_acc: 0.7559\n",
      "Epoch 71/100\n",
      "10/10 [==============================] - 3s 325ms/step - loss: 0.3411 - acc: 0.8541 - val_loss: 0.5617 - val_acc: 0.7070\n",
      "Epoch 72/100\n",
      "10/10 [==============================] - 3s 333ms/step - loss: 0.3435 - acc: 0.8552 - val_loss: 0.5513 - val_acc: 0.7383\n",
      "Epoch 73/100\n",
      "10/10 [==============================] - 3s 335ms/step - loss: 0.3361 - acc: 0.8599 - val_loss: 0.4693 - val_acc: 0.7676\n",
      "Epoch 74/100\n",
      "10/10 [==============================] - 3s 328ms/step - loss: 0.3453 - acc: 0.8539 - val_loss: 0.4837 - val_acc: 0.7617\n",
      "Epoch 75/100\n",
      "10/10 [==============================] - 3s 336ms/step - loss: 0.3435 - acc: 0.8544 - val_loss: 0.4877 - val_acc: 0.7754\n",
      "Epoch 00075: early stopping\n",
      "CPU times: user 4min 40s, sys: 1min 11s, total: 5min 52s\n",
      "Wall time: 4min 15s\n"
     ]
    }
   ],
   "source": [
    "%%time\n",
    "\n",
    "early = keras.callbacks.EarlyStopping(monitor='val_loss', patience=10, verbose=1, mode='auto')\n",
    "\n",
    "h_clf = model_clf.fit_generator(batch_classification_siamese(baseline.train_data, baseline.dup_sets_train, 1024, 1), \n",
    "                               steps_per_epoch = 10,\n",
    "                               validation_data=test_validation,\n",
    "                                             epochs = 100,\n",
    "                                             callbacks=[early],\n",
    "                                             verbose = True) "
   ]
  },
  {
   "cell_type": "code",
   "execution_count": 22,
   "metadata": {
    "scrolled": false
   },
   "outputs": [
    {
     "data": {
      "image/png": "[encoded data removed]",
      "text/plain": [
       "<Figure size 432x288 with 1 Axes>"
      ]
     },
     "metadata": {
      "needs_background": "light"
     },
     "output_type": "display_data"
    },
    {
     "data": {
      "image/png": "[encoded data removed]",
      "text/plain": [
       "<Figure size 432x288 with 1 Axes>"
      ]
     },
     "metadata": {
      "needs_background": "light"
     },
     "output_type": "display_data"
    }
   ],
   "source": [
    "Baseline.validation_accuracy_loss(h_clf)"
   ]
  },
  {
   "cell_type": "markdown",
   "metadata": {},
   "source": [
    "### Roc AUC/SCORE"
   ]
  },
  {
   "cell_type": "markdown",
   "metadata": {},
   "source": [
    "#### train"
   ]
  },
  {
   "cell_type": "code",
   "execution_count": 31,
   "metadata": {},
   "outputs": [
    {
     "data": {
      "text/plain": [
       "0.9009246826171875"
      ]
     },
     "execution_count": 31,
     "metadata": {},
     "output_type": "execute_result"
    }
   ],
   "source": [
    "from sklearn.metrics import roc_auc_score\n",
    "\n",
    "title_a, title_b, desc_a, desc_b, info_a, info_b, sim = batch_classification(baseline.train_data, \n",
    "                                                                             baseline.dup_sets_train, 512, 1)\n",
    "\n",
    "y_true = sim\n",
    "y_scores = model_clf.predict([title_a, title_b, desc_a, desc_b, info_a, info_b])\n",
    "\n",
    "roc_auc_score(y_true, y_scores)"
   ]
  },
  {
   "cell_type": "markdown",
   "metadata": {},
   "source": [
    "#### test"
   ]
  },
  {
   "cell_type": "code",
   "execution_count": 37,
   "metadata": {},
   "outputs": [
    {
     "data": {
      "text/plain": [
       "0.90496826171875"
      ]
     },
     "execution_count": 37,
     "metadata": {},
     "output_type": "execute_result"
    }
   ],
   "source": [
    "from sklearn.metrics import roc_auc_score\n",
    "\n",
    "title_a, title_b, desc_a, desc_b, info_a, info_b, sim = batch_classification(baseline.test_data, \n",
    "                                                                             baseline.dup_sets_test, 512, 1)\n",
    "\n",
    "y_true = sim\n",
    "y_scores = model_clf.predict([title_a, title_b, desc_a, desc_b, info_a, info_b])\n",
    "\n",
    "roc_auc_score(y_true, y_scores)"
   ]
  },
  {
   "cell_type": "code",
   "execution_count": 38,
   "metadata": {},
   "outputs": [
    {
     "name": "stdout",
     "output_type": "stream",
     "text": [
      "Saved model to disk\n"
     ]
    }
   ],
   "source": [
    "name = 'baseline_classification_100epoch_10steps(eclipse)'\n",
    "Baseline.save_model('', model_clf, name)"
   ]
  }
 ],
 "metadata": {
  "kernelspec": {
   "display_name": "Python 3",
   "language": "python",
   "name": "python3"
  },
  "language_info": {
   "codemirror_mode": {
    "name": "ipython",
    "version": 3
   },
   "file_extension": ".py",
   "mimetype": "text/x-python",
   "name": "python",
   "nbconvert_exporter": "python",
   "pygments_lexer": "ipython3",
   "version": "3.5.2"
  }
 },
 "nbformat": 4,
 "nbformat_minor": 2
}
