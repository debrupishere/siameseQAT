{
 "cells": [
  {
   "cell_type": "markdown",
   "metadata": {},
   "source": [
    "## Classification using Siamese Model"
   ]
  },
  {
   "cell_type": "code",
   "execution_count": 1,
   "metadata": {},
   "outputs": [
    {
     "name": "stderr",
     "output_type": "stream",
     "text": [
      "C:\\Users\\Thiago\\Anaconda3\\lib\\site-packages\\h5py\\__init__.py:36: FutureWarning: Conversion of the second argument of issubdtype from `float` to `np.floating` is deprecated. In future, it will be treated as `np.float64 == np.dtype(float).type`.\n",
      "  from ._conv import register_converters as _register_converters\n",
      "Using TensorFlow backend.\n"
     ]
    }
   ],
   "source": [
    "import keras\n",
    "from tensorflow.contrib.tensorboard.plugins import projector"
   ]
  },
  {
   "cell_type": "code",
   "execution_count": 2,
   "metadata": {},
   "outputs": [],
   "source": [
    "import re\n",
    "import numpy as np\n",
    "import pandas as pd\n",
    "\n",
    "import os\n",
    "from tqdm import tqdm\n",
    "import matplotlib.pyplot as plt\n",
    "import sys\n",
    "nb_dir = os.path.split(os.getcwd())[0]\n",
    "if nb_dir not in sys.path:\n",
    "    sys.path.append(nb_dir)\n",
    "    \n",
    "%matplotlib inline"
   ]
  },
  {
   "cell_type": "code",
   "execution_count": 3,
   "metadata": {},
   "outputs": [],
   "source": [
    "from methods.baseline import Baseline"
   ]
  },
  {
   "cell_type": "code",
   "execution_count": 4,
   "metadata": {},
   "outputs": [],
   "source": [
    "from keras.layers import Conv1D, Input, Add, Activation, Dropout, Embedding, MaxPooling1D, GlobalMaxPool1D, Flatten, Dense, Concatenate, BatchNormalization\n",
    "from keras.models import Model"
   ]
  },
  {
   "cell_type": "markdown",
   "metadata": {},
   "source": [
    "## Configurações Globais"
   ]
  },
  {
   "cell_type": "code",
   "execution_count": 5,
   "metadata": {},
   "outputs": [],
   "source": [
    "MAX_SEQUENCE_LENGTH_T = 100 # 40\n",
    "MAX_SEQUENCE_LENGTH_D = 100 # 200\n",
    "EMBEDDING_DIM = 300\n",
    "MAX_NB_WORDS = 2000"
   ]
  },
  {
   "cell_type": "code",
   "execution_count": 12,
   "metadata": {},
   "outputs": [],
   "source": [
    "DIR = 'data/processed/eclipse'\n",
    "DIR_PAIRS = 'data/normalized/eclipse'"
   ]
  },
  {
   "cell_type": "code",
   "execution_count": 13,
   "metadata": {},
   "outputs": [],
   "source": [
    "baseline = Baseline(DIR, MAX_SEQUENCE_LENGTH_T, MAX_SEQUENCE_LENGTH_D)"
   ]
  },
  {
   "cell_type": "code",
   "execution_count": 6,
   "metadata": {
    "scrolled": true
   },
   "outputs": [
    {
     "name": "stdout",
     "output_type": "stream",
     "text": [
      "Loaded model from disk\n"
     ]
    }
   ],
   "source": [
    "name = 'baseline_1000epoch_10steps_512batch(eclipse)'\n",
    "similarity_model = Baseline.load_model('', name, {'l2_normalize' : Baseline.l2_normalize})"
   ]
  },
  {
   "cell_type": "markdown",
   "metadata": {},
   "source": [
    "#### Loading bug ids in memory"
   ]
  },
  {
   "cell_type": "code",
   "execution_count": 15,
   "metadata": {},
   "outputs": [],
   "source": [
    "baseline.load_ids(DIR)"
   ]
  },
  {
   "cell_type": "markdown",
   "metadata": {},
   "source": [
    "#### Generating tiple of batches"
   ]
  },
  {
   "cell_type": "code",
   "execution_count": 16,
   "metadata": {},
   "outputs": [
    {
     "name": "stdout",
     "output_type": "stream",
     "text": [
      "Reading train data\n",
      "Wall time: 1.34 s\n"
     ]
    }
   ],
   "source": [
    "%%time\n",
    "\n",
    "bug_dir = os.path.join(DIR)\n",
    "baseline.prepare_dataset(bug_dir)"
   ]
  },
  {
   "cell_type": "code",
   "execution_count": 17,
   "metadata": {},
   "outputs": [
    {
     "name": "stderr",
     "output_type": "stream",
     "text": [
      "100%|█████████████████████████████████| 212512/212512 [20:59<00:00, 168.76it/s]\n"
     ]
    }
   ],
   "source": [
    "baseline.load_bugs()"
   ]
  },
  {
   "cell_type": "markdown",
   "metadata": {},
   "source": [
    "## Siamese  model"
   ]
  },
  {
   "cell_type": "code",
   "execution_count": 7,
   "metadata": {},
   "outputs": [],
   "source": [
    "## Freeze weights\n",
    "for layer in similarity_model.layers:\n",
    "    layer.trainable = False"
   ]
  },
  {
   "cell_type": "code",
   "execution_count": 10,
   "metadata": {},
   "outputs": [
    {
     "name": "stdout",
     "output_type": "stream",
     "text": [
      "__________________________________________________________________________________________________\n",
      "Layer (type)                    Output Shape         Param #     Connected to                     \n",
      "==================================================================================================\n",
      "title_a (InputLayer)            (None, 100)          0                                            \n",
      "__________________________________________________________________________________________________\n",
      "desc_a (InputLayer)             (None, 100)          0                                            \n",
      "__________________________________________________________________________________________________\n",
      "title_b (InputLayer)            (None, 100)          0                                            \n",
      "__________________________________________________________________________________________________\n",
      "desc_b (InputLayer)             (None, 100)          0                                            \n",
      "__________________________________________________________________________________________________\n",
      "FeatureLstmGenerationModel (Mod (None, 100)          46533700    title_a[0][0]                    \n",
      "                                                                 title_b[0][0]                    \n",
      "__________________________________________________________________________________________________\n",
      "FeatureCNNGenerationModel (Mode (None, 64)           46334404    desc_a[0][0]                     \n",
      "                                                                 desc_b[0][0]                     \n",
      "__________________________________________________________________________________________________\n",
      "bug_a (Concatenate)             (None, 164)          0           FeatureLstmGenerationModel[8][0] \n",
      "                                                                 FeatureCNNGenerationModel[8][0]  \n",
      "__________________________________________________________________________________________________\n",
      "bug_b (Concatenate)             (None, 164)          0           FeatureLstmGenerationModel[9][0] \n",
      "                                                                 FeatureCNNGenerationModel[9][0]  \n",
      "__________________________________________________________________________________________________\n",
      "bugs (Concatenate)              (None, 328)          0           bug_a[0][0]                      \n",
      "                                                                 bug_b[0][0]                      \n",
      "__________________________________________________________________________________________________\n",
      "output (Dense)                  (None, 2)            658         bugs[0][0]                       \n",
      "==================================================================================================\n",
      "Total params: 92,868,762\n",
      "Trainable params: 658\n",
      "Non-trainable params: 92,868,104\n",
      "__________________________________________________________________________________________________\n"
     ]
    }
   ],
   "source": [
    "from keras.layers import concatenate\n",
    "\n",
    "bug_t_a = Input(shape = (MAX_SEQUENCE_LENGTH_T, ), name = 'title_a')\n",
    "bug_t_b = Input(shape = (MAX_SEQUENCE_LENGTH_T, ), name = 'title_b')\n",
    "\n",
    "bug_d_a = Input(shape = (MAX_SEQUENCE_LENGTH_D, ), name = 'desc_a')\n",
    "bug_d_b = Input(shape = (MAX_SEQUENCE_LENGTH_D, ), name = 'desc_b')\n",
    "\n",
    "title_encoder = similarity_model.get_layer('FeatureLstmGenerationModel')\n",
    "desc_encoder = similarity_model.get_layer('FeatureCNNGenerationModel')\n",
    "\n",
    "# model = similarity_model.get_layer('merge_features_in')\n",
    "\n",
    "bugt_t_a = title_encoder(bug_t_a)\n",
    "bugt_d_a = desc_encoder(bug_d_a)\n",
    "\n",
    "bugt_t_b = title_encoder(bug_t_b)\n",
    "bugt_d_b = desc_encoder(bug_d_b)\n",
    "\n",
    "bug_a = concatenate([bugt_t_a, bugt_d_a], name = 'bug_a')\n",
    "bug_b = concatenate([bugt_t_b, bugt_d_b], name = 'bug_b')\n",
    "\n",
    "x = concatenate([bug_a, bug_b], name='bugs')\n",
    "#x = Dense(64, activation = 'relu')(x)\n",
    "#x = Dense(32, activation = 'relu')(x)\n",
    "output = Dense(2, activation = 'softmax', name = 'output')(x)\n",
    "\n",
    "model_clf = Model(inputs=[bug_t_a, bug_t_b, bug_d_a, bug_d_b], outputs=[output])\n",
    "\n",
    "model_clf.compile(optimizer='adam', loss='categorical_crossentropy', metrics = ['accuracy'])\n",
    "model_clf.summary()"
   ]
  },
  {
   "cell_type": "code",
   "execution_count": 42,
   "metadata": {},
   "outputs": [],
   "source": [
    "from keras.utils import to_categorical\n",
    "from sklearn.preprocessing import LabelEncoder\n",
    "\n",
    "def batch_classification(data, batch_size, n_neg):\n",
    "    encoder = LabelEncoder()\n",
    "    batch_size_normalized = batch_size // 2\n",
    "    input_sample, input_pos, input_neg, sim = baseline.batch_iterator(data, batch_size_normalized, n_neg)\n",
    "    \n",
    "    pos = np.full((1, batch_size_normalized), 1)\n",
    "    neg = np.full((1, batch_size_normalized), 0)\n",
    "    sim = np.concatenate([pos, neg], -1)[0]\n",
    "    \n",
    "    sim = encoder.fit_transform(sim)\n",
    "    sim = to_categorical(sim)\n",
    "\n",
    "    title_a = np.concatenate([input_sample['title'], input_sample['title']])\n",
    "    title_b = np.concatenate([input_pos['title'], input_neg['title']])\n",
    "    desc_a = np.concatenate([input_sample['description'], input_sample['description']])\n",
    "    desc_b = np.concatenate([input_pos['description'], input_neg['description']])\n",
    "    \n",
    "    return title_a, title_b, desc_a, desc_b, sim\n",
    "\n",
    "def batch_classification_siamese(data, batch_size, n_neg):\n",
    "    while True:\n",
    "        title_a, title_b, desc_a, desc_b, sim = batch_classification(data, batch_size, n_neg)\n",
    "        \n",
    "        yield ({ 'title_a' : title_a, 'title_b': title_b, \n",
    "        'desc_a' : desc_a, 'desc_b' : desc_b }, sim)"
   ]
  },
  {
   "cell_type": "code",
   "execution_count": 43,
   "metadata": {},
   "outputs": [],
   "source": [
    "title_a, title_b, desc_a, desc_b, sim = batch_classification(bug_dir, 512, 1)\n",
    "test_validation = ({ 'title_a' : title_a, 'title_b': title_b, \n",
    "        'desc_a' : desc_a, 'desc_b' : desc_b }, sim)"
   ]
  },
  {
   "cell_type": "code",
   "execution_count": 44,
   "metadata": {},
   "outputs": [
    {
     "name": "stdout",
     "output_type": "stream",
     "text": [
      "Epoch 1/100\n",
      "10/10 [==============================] - ETA: 4:17 - loss: 0.8699 - acc: 0.531 - ETA: 2:28 - loss: 0.8251 - acc: 0.541 - ETA: 1:48 - loss: 0.7925 - acc: 0.549 - ETA: 1:22 - loss: 0.7787 - acc: 0.543 - ETA: 1:03 - loss: 0.7642 - acc: 0.543 - ETA: 45s - loss: 0.7548 - acc: 0.546 - ETA: 31s - loss: 0.7494 - acc: 0.54 - ETA: 19s - loss: 0.7478 - acc: 0.53 - ETA: 9s - loss: 0.7470 - acc: 0.5330 - 91s 9s/step - loss: 0.7445 - acc: 0.5311\n",
      "Epoch 2/100\n",
      "10/10 [==============================] - ETA: 42s - loss: 0.7147 - acc: 0.51 - ETA: 50s - loss: 0.7089 - acc: 0.53 - ETA: 39s - loss: 0.7064 - acc: 0.53 - ETA: 32s - loss: 0.7000 - acc: 0.54 - ETA: 29s - loss: 0.6981 - acc: 0.54 - ETA: 22s - loss: 0.6951 - acc: 0.55 - ETA: 16s - loss: 0.6929 - acc: 0.56 - ETA: 10s - loss: 0.6946 - acc: 0.55 - ETA: 5s - loss: 0.6924 - acc: 0.5653 - 54s 5s/step - loss: 0.6920 - acc: 0.5660\n",
      "Epoch 3/100\n",
      "10/10 [==============================] - ETA: 39s - loss: 0.6964 - acc: 0.57 - ETA: 34s - loss: 0.6828 - acc: 0.59 - ETA: 30s - loss: 0.6771 - acc: 0.59 - ETA: 25s - loss: 0.6746 - acc: 0.60 - ETA: 21s - loss: 0.6753 - acc: 0.60 - ETA: 17s - loss: 0.6746 - acc: 0.60 - ETA: 12s - loss: 0.6776 - acc: 0.60 - ETA: 8s - loss: 0.6759 - acc: 0.6013 - ETA: 4s - loss: 0.6775 - acc: 0.595 - 42s 4s/step - loss: 0.6764 - acc: 0.5963\n",
      "Epoch 4/100\n",
      "10/10 [==============================] - ETA: 1:05 - loss: 0.6875 - acc: 0.568 - ETA: 45s - loss: 0.6705 - acc: 0.594 - ETA: 36s - loss: 0.6664 - acc: 0.59 - ETA: 29s - loss: 0.6690 - acc: 0.59 - ETA: 23s - loss: 0.6694 - acc: 0.59 - ETA: 18s - loss: 0.6674 - acc: 0.59 - ETA: 13s - loss: 0.6681 - acc: 0.59 - ETA: 9s - loss: 0.6698 - acc: 0.5911 - ETA: 4s - loss: 0.6709 - acc: 0.590 - 45s 4s/step - loss: 0.6702 - acc: 0.5904\n",
      "Epoch 5/100\n",
      "10/10 [==============================] - ETA: 37s - loss: 0.6679 - acc: 0.58 - ETA: 35s - loss: 0.6734 - acc: 0.58 - ETA: 31s - loss: 0.6709 - acc: 0.60 - ETA: 26s - loss: 0.6685 - acc: 0.60 - ETA: 22s - loss: 0.6722 - acc: 0.60 - ETA: 17s - loss: 0.6726 - acc: 0.60 - ETA: 13s - loss: 0.6738 - acc: 0.60 - ETA: 8s - loss: 0.6745 - acc: 0.6021 - ETA: 4s - loss: 0.6733 - acc: 0.600 - 44s 4s/step - loss: 0.6751 - acc: 0.5969\n",
      "Epoch 6/100\n",
      "10/10 [==============================] - ETA: 38s - loss: 0.6809 - acc: 0.59 - ETA: 34s - loss: 0.6728 - acc: 0.60 - ETA: 29s - loss: 0.6725 - acc: 0.59 - ETA: 25s - loss: 0.6723 - acc: 0.59 - ETA: 21s - loss: 0.6713 - acc: 0.59 - ETA: 16s - loss: 0.6730 - acc: 0.59 - ETA: 12s - loss: 0.6724 - acc: 0.59 - ETA: 8s - loss: 0.6726 - acc: 0.5969 - ETA: 4s - loss: 0.6721 - acc: 0.596 - 42s 4s/step - loss: 0.6719 - acc: 0.5971\n",
      "Epoch 7/100\n",
      "10/10 [==============================] - ETA: 38s - loss: 0.6735 - acc: 0.58 - ETA: 33s - loss: 0.6684 - acc: 0.60 - ETA: 28s - loss: 0.6682 - acc: 0.60 - ETA: 24s - loss: 0.6697 - acc: 0.59 - ETA: 20s - loss: 0.6714 - acc: 0.59 - ETA: 16s - loss: 0.6717 - acc: 0.59 - ETA: 12s - loss: 0.6728 - acc: 0.59 - ETA: 8s - loss: 0.6738 - acc: 0.5964 - ETA: 4s - loss: 0.6750 - acc: 0.594 - 43s 4s/step - loss: 0.6754 - acc: 0.5953\n",
      "Epoch 8/100\n",
      "10/10 [==============================] - ETA: 46s - loss: 0.6806 - acc: 0.57 - ETA: 40s - loss: 0.6792 - acc: 0.57 - ETA: 34s - loss: 0.6741 - acc: 0.58 - ETA: 29s - loss: 0.6732 - acc: 0.59 - ETA: 24s - loss: 0.6728 - acc: 0.59 - ETA: 19s - loss: 0.6715 - acc: 0.60 - ETA: 14s - loss: 0.6701 - acc: 0.60 - ETA: 9s - loss: 0.6701 - acc: 0.6042 - ETA: 4s - loss: 0.6677 - acc: 0.606 - 47s 5s/step - loss: 0.6671 - acc: 0.6057\n",
      "Epoch 9/100\n",
      "10/10 [==============================] - ETA: 40s - loss: 0.6725 - acc: 0.60 - ETA: 36s - loss: 0.6664 - acc: 0.60 - ETA: 32s - loss: 0.6650 - acc: 0.61 - ETA: 28s - loss: 0.6654 - acc: 0.60 - ETA: 23s - loss: 0.6640 - acc: 0.60 - ETA: 18s - loss: 0.6645 - acc: 0.60 - ETA: 14s - loss: 0.6681 - acc: 0.60 - ETA: 9s - loss: 0.6674 - acc: 0.6052 - ETA: 4s - loss: 0.6665 - acc: 0.606 - 47s 5s/step - loss: 0.6690 - acc: 0.6000\n",
      "Epoch 10/100\n",
      "10/10 [==============================] - ETA: 41s - loss: 0.6701 - acc: 0.57 - ETA: 36s - loss: 0.6775 - acc: 0.57 - ETA: 31s - loss: 0.6814 - acc: 0.57 - ETA: 27s - loss: 0.6755 - acc: 0.58 - ETA: 22s - loss: 0.6762 - acc: 0.58 - ETA: 18s - loss: 0.6726 - acc: 0.59 - ETA: 13s - loss: 0.6713 - acc: 0.59 - ETA: 9s - loss: 0.6716 - acc: 0.5930 - ETA: 4s - loss: 0.6724 - acc: 0.590 - 45s 5s/step - loss: 0.6720 - acc: 0.5941\n",
      "Epoch 11/100\n",
      "10/10 [==============================] - ETA: 40s - loss: 0.6832 - acc: 0.57 - ETA: 35s - loss: 0.6762 - acc: 0.59 - ETA: 31s - loss: 0.6753 - acc: 0.59 - ETA: 27s - loss: 0.6722 - acc: 0.59 - ETA: 23s - loss: 0.6724 - acc: 0.59 - ETA: 18s - loss: 0.6690 - acc: 0.60 - ETA: 13s - loss: 0.6688 - acc: 0.60 - ETA: 9s - loss: 0.6709 - acc: 0.6057 - ETA: 4s - loss: 0.6695 - acc: 0.604 - 45s 4s/step - loss: 0.6696 - acc: 0.6053\n",
      "Epoch 12/100\n",
      "10/10 [==============================] - ETA: 41s - loss: 0.6657 - acc: 0.61 - ETA: 36s - loss: 0.6707 - acc: 0.59 - ETA: 31s - loss: 0.6694 - acc: 0.60 - ETA: 27s - loss: 0.6686 - acc: 0.61 - ETA: 22s - loss: 0.6685 - acc: 0.60 - ETA: 18s - loss: 0.6699 - acc: 0.60 - ETA: 13s - loss: 0.6697 - acc: 0.60 - ETA: 8s - loss: 0.6666 - acc: 0.6108 - ETA: 4s - loss: 0.6682 - acc: 0.607 - 44s 4s/step - loss: 0.6688 - acc: 0.6057\n",
      "Epoch 13/100\n",
      " 3/10 [========>.....................] - ETA: 44s - loss: 0.6721 - acc: 0.56 - ETA: 39s - loss: 0.6706 - acc: 0.58 - ETA: 34s - loss: 0.6740 - acc: 0.5788"
     ]
    },
    {
     "ename": "KeyboardInterrupt",
     "evalue": "",
     "output_type": "error",
     "traceback": [
      "\u001b[1;31m---------------------------------------------------------------------------\u001b[0m",
      "\u001b[1;31mKeyboardInterrupt\u001b[0m                         Traceback (most recent call last)",
      "\u001b[1;32m<timed exec>\u001b[0m in \u001b[0;36m<module>\u001b[1;34m()\u001b[0m\n",
      "\u001b[1;32m~\\Anaconda3\\lib\\site-packages\\keras\\legacy\\interfaces.py\u001b[0m in \u001b[0;36mwrapper\u001b[1;34m(*args, **kwargs)\u001b[0m\n\u001b[0;32m     89\u001b[0m                 warnings.warn('Update your `' + object_name + '` call to the ' +\n\u001b[0;32m     90\u001b[0m                               'Keras 2 API: ' + signature, stacklevel=2)\n\u001b[1;32m---> 91\u001b[1;33m             \u001b[1;32mreturn\u001b[0m \u001b[0mfunc\u001b[0m\u001b[1;33m(\u001b[0m\u001b[1;33m*\u001b[0m\u001b[0margs\u001b[0m\u001b[1;33m,\u001b[0m \u001b[1;33m**\u001b[0m\u001b[0mkwargs\u001b[0m\u001b[1;33m)\u001b[0m\u001b[1;33m\u001b[0m\u001b[0m\n\u001b[0m\u001b[0;32m     92\u001b[0m         \u001b[0mwrapper\u001b[0m\u001b[1;33m.\u001b[0m\u001b[0m_original_function\u001b[0m \u001b[1;33m=\u001b[0m \u001b[0mfunc\u001b[0m\u001b[1;33m\u001b[0m\u001b[0m\n\u001b[0;32m     93\u001b[0m         \u001b[1;32mreturn\u001b[0m \u001b[0mwrapper\u001b[0m\u001b[1;33m\u001b[0m\u001b[0m\n",
      "\u001b[1;32m~\\Anaconda3\\lib\\site-packages\\keras\\engine\\training.py\u001b[0m in \u001b[0;36mfit_generator\u001b[1;34m(self, generator, steps_per_epoch, epochs, verbose, callbacks, validation_data, validation_steps, class_weight, max_queue_size, workers, use_multiprocessing, shuffle, initial_epoch)\u001b[0m\n\u001b[0;32m   1416\u001b[0m             \u001b[0muse_multiprocessing\u001b[0m\u001b[1;33m=\u001b[0m\u001b[0muse_multiprocessing\u001b[0m\u001b[1;33m,\u001b[0m\u001b[1;33m\u001b[0m\u001b[0m\n\u001b[0;32m   1417\u001b[0m             \u001b[0mshuffle\u001b[0m\u001b[1;33m=\u001b[0m\u001b[0mshuffle\u001b[0m\u001b[1;33m,\u001b[0m\u001b[1;33m\u001b[0m\u001b[0m\n\u001b[1;32m-> 1418\u001b[1;33m             initial_epoch=initial_epoch)\n\u001b[0m\u001b[0;32m   1419\u001b[0m \u001b[1;33m\u001b[0m\u001b[0m\n\u001b[0;32m   1420\u001b[0m     \u001b[1;33m@\u001b[0m\u001b[0minterfaces\u001b[0m\u001b[1;33m.\u001b[0m\u001b[0mlegacy_generator_methods_support\u001b[0m\u001b[1;33m\u001b[0m\u001b[0m\n",
      "\u001b[1;32m~\\Anaconda3\\lib\\site-packages\\keras\\engine\\training_generator.py\u001b[0m in \u001b[0;36mfit_generator\u001b[1;34m(model, generator, steps_per_epoch, epochs, verbose, callbacks, validation_data, validation_steps, class_weight, max_queue_size, workers, use_multiprocessing, shuffle, initial_epoch)\u001b[0m\n\u001b[0;32m    215\u001b[0m                 outs = model.train_on_batch(x, y,\n\u001b[0;32m    216\u001b[0m                                             \u001b[0msample_weight\u001b[0m\u001b[1;33m=\u001b[0m\u001b[0msample_weight\u001b[0m\u001b[1;33m,\u001b[0m\u001b[1;33m\u001b[0m\u001b[0m\n\u001b[1;32m--> 217\u001b[1;33m                                             class_weight=class_weight)\n\u001b[0m\u001b[0;32m    218\u001b[0m \u001b[1;33m\u001b[0m\u001b[0m\n\u001b[0;32m    219\u001b[0m                 \u001b[0mouts\u001b[0m \u001b[1;33m=\u001b[0m \u001b[0mto_list\u001b[0m\u001b[1;33m(\u001b[0m\u001b[0mouts\u001b[0m\u001b[1;33m)\u001b[0m\u001b[1;33m\u001b[0m\u001b[0m\n",
      "\u001b[1;32m~\\Anaconda3\\lib\\site-packages\\keras\\engine\\training.py\u001b[0m in \u001b[0;36mtrain_on_batch\u001b[1;34m(self, x, y, sample_weight, class_weight)\u001b[0m\n\u001b[0;32m   1215\u001b[0m             \u001b[0mins\u001b[0m \u001b[1;33m=\u001b[0m \u001b[0mx\u001b[0m \u001b[1;33m+\u001b[0m \u001b[0my\u001b[0m \u001b[1;33m+\u001b[0m \u001b[0msample_weights\u001b[0m\u001b[1;33m\u001b[0m\u001b[0m\n\u001b[0;32m   1216\u001b[0m         \u001b[0mself\u001b[0m\u001b[1;33m.\u001b[0m\u001b[0m_make_train_function\u001b[0m\u001b[1;33m(\u001b[0m\u001b[1;33m)\u001b[0m\u001b[1;33m\u001b[0m\u001b[0m\n\u001b[1;32m-> 1217\u001b[1;33m         \u001b[0moutputs\u001b[0m \u001b[1;33m=\u001b[0m \u001b[0mself\u001b[0m\u001b[1;33m.\u001b[0m\u001b[0mtrain_function\u001b[0m\u001b[1;33m(\u001b[0m\u001b[0mins\u001b[0m\u001b[1;33m)\u001b[0m\u001b[1;33m\u001b[0m\u001b[0m\n\u001b[0m\u001b[0;32m   1218\u001b[0m         \u001b[1;32mreturn\u001b[0m \u001b[0munpack_singleton\u001b[0m\u001b[1;33m(\u001b[0m\u001b[0moutputs\u001b[0m\u001b[1;33m)\u001b[0m\u001b[1;33m\u001b[0m\u001b[0m\n\u001b[0;32m   1219\u001b[0m \u001b[1;33m\u001b[0m\u001b[0m\n",
      "\u001b[1;32m~\\Anaconda3\\lib\\site-packages\\keras\\backend\\tensorflow_backend.py\u001b[0m in \u001b[0;36m__call__\u001b[1;34m(self, inputs)\u001b[0m\n\u001b[0;32m   2713\u001b[0m                 \u001b[1;32mreturn\u001b[0m \u001b[0mself\u001b[0m\u001b[1;33m.\u001b[0m\u001b[0m_legacy_call\u001b[0m\u001b[1;33m(\u001b[0m\u001b[0minputs\u001b[0m\u001b[1;33m)\u001b[0m\u001b[1;33m\u001b[0m\u001b[0m\n\u001b[0;32m   2714\u001b[0m \u001b[1;33m\u001b[0m\u001b[0m\n\u001b[1;32m-> 2715\u001b[1;33m             \u001b[1;32mreturn\u001b[0m \u001b[0mself\u001b[0m\u001b[1;33m.\u001b[0m\u001b[0m_call\u001b[0m\u001b[1;33m(\u001b[0m\u001b[0minputs\u001b[0m\u001b[1;33m)\u001b[0m\u001b[1;33m\u001b[0m\u001b[0m\n\u001b[0m\u001b[0;32m   2716\u001b[0m         \u001b[1;32melse\u001b[0m\u001b[1;33m:\u001b[0m\u001b[1;33m\u001b[0m\u001b[0m\n\u001b[0;32m   2717\u001b[0m             \u001b[1;32mif\u001b[0m \u001b[0mpy_any\u001b[0m\u001b[1;33m(\u001b[0m\u001b[0mis_tensor\u001b[0m\u001b[1;33m(\u001b[0m\u001b[0mx\u001b[0m\u001b[1;33m)\u001b[0m \u001b[1;32mfor\u001b[0m \u001b[0mx\u001b[0m \u001b[1;32min\u001b[0m \u001b[0minputs\u001b[0m\u001b[1;33m)\u001b[0m\u001b[1;33m:\u001b[0m\u001b[1;33m\u001b[0m\u001b[0m\n",
      "\u001b[1;32m~\\Anaconda3\\lib\\site-packages\\keras\\backend\\tensorflow_backend.py\u001b[0m in \u001b[0;36m_call\u001b[1;34m(self, inputs)\u001b[0m\n\u001b[0;32m   2673\u001b[0m             \u001b[0mfetched\u001b[0m \u001b[1;33m=\u001b[0m \u001b[0mself\u001b[0m\u001b[1;33m.\u001b[0m\u001b[0m_callable_fn\u001b[0m\u001b[1;33m(\u001b[0m\u001b[1;33m*\u001b[0m\u001b[0marray_vals\u001b[0m\u001b[1;33m,\u001b[0m \u001b[0mrun_metadata\u001b[0m\u001b[1;33m=\u001b[0m\u001b[0mself\u001b[0m\u001b[1;33m.\u001b[0m\u001b[0mrun_metadata\u001b[0m\u001b[1;33m)\u001b[0m\u001b[1;33m\u001b[0m\u001b[0m\n\u001b[0;32m   2674\u001b[0m         \u001b[1;32melse\u001b[0m\u001b[1;33m:\u001b[0m\u001b[1;33m\u001b[0m\u001b[0m\n\u001b[1;32m-> 2675\u001b[1;33m             \u001b[0mfetched\u001b[0m \u001b[1;33m=\u001b[0m \u001b[0mself\u001b[0m\u001b[1;33m.\u001b[0m\u001b[0m_callable_fn\u001b[0m\u001b[1;33m(\u001b[0m\u001b[1;33m*\u001b[0m\u001b[0marray_vals\u001b[0m\u001b[1;33m)\u001b[0m\u001b[1;33m\u001b[0m\u001b[0m\n\u001b[0m\u001b[0;32m   2676\u001b[0m         \u001b[1;32mreturn\u001b[0m \u001b[0mfetched\u001b[0m\u001b[1;33m[\u001b[0m\u001b[1;33m:\u001b[0m\u001b[0mlen\u001b[0m\u001b[1;33m(\u001b[0m\u001b[0mself\u001b[0m\u001b[1;33m.\u001b[0m\u001b[0moutputs\u001b[0m\u001b[1;33m)\u001b[0m\u001b[1;33m]\u001b[0m\u001b[1;33m\u001b[0m\u001b[0m\n\u001b[0;32m   2677\u001b[0m \u001b[1;33m\u001b[0m\u001b[0m\n",
      "\u001b[1;32m~\\Anaconda3\\lib\\site-packages\\tensorflow\\python\\client\\session.py\u001b[0m in \u001b[0;36m__call__\u001b[1;34m(self, *args, **kwargs)\u001b[0m\n\u001b[0;32m   1437\u001b[0m           ret = tf_session.TF_SessionRunCallable(\n\u001b[0;32m   1438\u001b[0m               \u001b[0mself\u001b[0m\u001b[1;33m.\u001b[0m\u001b[0m_session\u001b[0m\u001b[1;33m.\u001b[0m\u001b[0m_session\u001b[0m\u001b[1;33m,\u001b[0m \u001b[0mself\u001b[0m\u001b[1;33m.\u001b[0m\u001b[0m_handle\u001b[0m\u001b[1;33m,\u001b[0m \u001b[0margs\u001b[0m\u001b[1;33m,\u001b[0m \u001b[0mstatus\u001b[0m\u001b[1;33m,\u001b[0m\u001b[1;33m\u001b[0m\u001b[0m\n\u001b[1;32m-> 1439\u001b[1;33m               run_metadata_ptr)\n\u001b[0m\u001b[0;32m   1440\u001b[0m         \u001b[1;32mif\u001b[0m \u001b[0mrun_metadata\u001b[0m\u001b[1;33m:\u001b[0m\u001b[1;33m\u001b[0m\u001b[0m\n\u001b[0;32m   1441\u001b[0m           \u001b[0mproto_data\u001b[0m \u001b[1;33m=\u001b[0m \u001b[0mtf_session\u001b[0m\u001b[1;33m.\u001b[0m\u001b[0mTF_GetBuffer\u001b[0m\u001b[1;33m(\u001b[0m\u001b[0mrun_metadata_ptr\u001b[0m\u001b[1;33m)\u001b[0m\u001b[1;33m\u001b[0m\u001b[0m\n",
      "\u001b[1;31mKeyboardInterrupt\u001b[0m: "
     ]
    }
   ],
   "source": [
    "%%time\n",
    "\n",
    "from keras.utils import to_categorical\n",
    "from sklearn.preprocessing import LabelEncoder\n",
    "\n",
    "h_clf = model_clf.fit_generator(batch_classification_siamese(bug_dir, 512, 1), \n",
    "                               steps_per_epoch = 10,\n",
    "                               validation_data=test_validation, # \n",
    "                                             epochs = 100,\n",
    "                                             verbose = True) # callbacks=[early]"
   ]
  },
  {
   "cell_type": "code",
   "execution_count": null,
   "metadata": {},
   "outputs": [],
   "source": [
    "Baseline.validation_accuracy_loss(h_clf)"
   ]
  },
  {
   "cell_type": "code",
   "execution_count": null,
   "metadata": {},
   "outputs": [],
   "source": [
    "name = 'baseline_classification_100epoch_16steps(eclipse)'\n",
    "save_model(similarity_model, name)\n",
    "save_result(h, name)"
   ]
  }
 ],
 "metadata": {
  "kernelspec": {
   "display_name": "Python 3",
   "language": "python",
   "name": "python3"
  },
  "language_info": {
   "codemirror_mode": {
    "name": "ipython",
    "version": 3
   },
   "file_extension": ".py",
   "mimetype": "text/x-python",
   "name": "python",
   "nbconvert_exporter": "python",
   "pygments_lexer": "ipython3",
   "version": "3.6.5"
  }
 },
 "nbformat": 4,
 "nbformat_minor": 2
}
