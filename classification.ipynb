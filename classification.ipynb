{
 "cells": [
  {
   "cell_type": "markdown",
   "metadata": {},
   "source": [
    "## Classification using siamese model"
   ]
  },
  {
   "cell_type": "code",
   "execution_count": 2,
   "metadata": {},
   "outputs": [],
   "source": [
    "import keras"
   ]
  },
  {
   "cell_type": "code",
   "execution_count": 3,
   "metadata": {},
   "outputs": [],
   "source": [
    "import re\n",
    "import numpy as np\n",
    "import pandas as pd\n",
    "\n",
    "import os\n",
    "from tqdm import tqdm_notebook as tqdm\n",
    "import matplotlib.pyplot as plt\n",
    "import sys\n",
    "nb_dir = os.path.split(os.getcwd())[0]\n",
    "if nb_dir not in sys.path:\n",
    "    sys.path.append(nb_dir)\n",
    "    \n",
    "%matplotlib inline"
   ]
  },
  {
   "cell_type": "code",
   "execution_count": 4,
   "metadata": {},
   "outputs": [],
   "source": [
    "from methods.baseline import Baseline"
   ]
  },
  {
   "cell_type": "code",
   "execution_count": 5,
   "metadata": {},
   "outputs": [],
   "source": [
    "from keras.layers import Conv1D, Input, Add, Activation, Dropout, Embedding, MaxPooling1D, GlobalMaxPool1D, Flatten, Dense, Concatenate, BatchNormalization\n",
    "from keras.models import Model"
   ]
  },
  {
   "cell_type": "markdown",
   "metadata": {},
   "source": [
    "## Configurações Globais"
   ]
  },
  {
   "cell_type": "code",
   "execution_count": 6,
   "metadata": {},
   "outputs": [],
   "source": [
    "MAX_SEQUENCE_LENGTH_T = 100 # 40\n",
    "MAX_SEQUENCE_LENGTH_D = 500 # 200\n",
    "MAX_SEQUENCE_LENGTH_I = 738 # eclipse=1682, openoffice=738\n",
    "EMBEDDING_DIM = 300\n",
    "MAX_NB_WORDS = 2000"
   ]
  },
  {
   "cell_type": "code",
   "execution_count": 7,
   "metadata": {},
   "outputs": [],
   "source": [
    "DOMAIN = 'openoffice'\n",
    "DIR = 'data/processed/{}'.format(DOMAIN)\n",
    "DATASET = os.path.join('data/normalized/{}'.format(DOMAIN), '{}.csv'.format(DOMAIN))\n",
    "DIR_PAIRS = 'data/normalized/{}'.format(DOMAIN)\n",
    "SAVE_PATH = 'baseline_classification_100epoch_10steps({})'.format(DOMAIN)\n",
    "PRETRAINED_MODEL = 'modelos/model_baseline_100epochs_64batch({}).h5'.format(DOMAIN)"
   ]
  },
  {
   "cell_type": "code",
   "execution_count": 8,
   "metadata": {},
   "outputs": [],
   "source": [
    "baseline = Baseline(DIR, DATASET, MAX_SEQUENCE_LENGTH_T, MAX_SEQUENCE_LENGTH_D)"
   ]
  },
  {
   "cell_type": "code",
   "execution_count": 9,
   "metadata": {},
   "outputs": [
    {
     "data": {
      "text/plain": [
       "{'bug_severity': 6,\n",
       " 'bug_status': 3,\n",
       " 'component': 144,\n",
       " 'priority': 5,\n",
       " 'product': 41,\n",
       " 'version': 539}"
      ]
     },
     "execution_count": 9,
     "metadata": {},
     "output_type": "execute_result"
    }
   ],
   "source": [
    "baseline.info_dict"
   ]
  },
  {
   "cell_type": "code",
   "execution_count": null,
   "metadata": {
    "scrolled": true
   },
   "outputs": [],
   "source": [
    "import keras\n",
    "from keras.models import Model\n",
    "from keras.layers import Input\n",
    "from keras.models import load_model\n",
    "\n",
    "\"\"\"\n",
    "    A lista de modelos estar disponível no diretorio /modelos\n",
    "        name:\n",
    "            - model_baseline_{X}epoch_{Y}steps_({dataset}).h5\n",
    "            - model_baseline_{X}epoch_{Y}steps_({dataset}).json\n",
    "    \n",
    "        Informações adicionais:\n",
    "            {X} - total de épocas treinada. Ex: 100, 1000\n",
    "            {Y} - total de steps validados no treino. Ex: 10, 16\n",
    "            {dataset} - Nome da base testada. Ex: Eclipse, Netbeans, OpenOffice\n",
    "\"\"\"\n",
    "similarity_model = load_model(PRETRAINED_MODEL, {'l2_normalize' : Baseline.l2_normalize, \n",
    "                                     'margin_loss' : Baseline.margin_loss,\n",
    "                                    'pos_distance' : Baseline.pos_distance,\n",
    "                                    'neg_distance' : Baseline.neg_distance,\n",
    "                                    'stack_tensors': Baseline.stack_tensors})"
   ]
  },
  {
   "cell_type": "markdown",
   "metadata": {},
   "source": [
    "#### Loading bug ids in memory"
   ]
  },
  {
   "cell_type": "code",
   "execution_count": 10,
   "metadata": {},
   "outputs": [],
   "source": [
    "baseline.load_ids(DIR)"
   ]
  },
  {
   "cell_type": "markdown",
   "metadata": {},
   "source": [
    "#### Generating tiple of batches"
   ]
  },
  {
   "cell_type": "code",
   "execution_count": 11,
   "metadata": {},
   "outputs": [
    {
     "name": "stdout",
     "output_type": "stream",
     "text": [
      "Reading train data\n",
      "Reading the test...\n"
     ]
    },
    {
     "data": {
      "application/vnd.jupyter.widget-view+json": {
       "model_id": "0557fd56b99a43af840cb62d85300713",
       "version_major": 2,
       "version_minor": 0
      },
      "text/plain": [
       "HBox(children=(IntProgress(value=1, bar_style='info', max=1), HTML(value='')))"
      ]
     },
     "metadata": {},
     "output_type": "display_data"
    },
    {
     "name": "stdout",
     "output_type": "stream",
     "text": [
      "\n",
      "Reading test data\n",
      "CPU times: user 269 ms, sys: 12.1 ms, total: 281 ms\n",
      "Wall time: 270 ms\n"
     ]
    }
   ],
   "source": [
    "%%time\n",
    "\n",
    "baseline.prepare_dataset()"
   ]
  },
  {
   "cell_type": "markdown",
   "metadata": {},
   "source": [
    "#### Loading train bugs"
   ]
  },
  {
   "cell_type": "code",
   "execution_count": 12,
   "metadata": {},
   "outputs": [
    {
     "data": {
      "application/vnd.jupyter.widget-view+json": {
       "model_id": "4b7ce5be512649408140960c39b0c504",
       "version_major": 2,
       "version_minor": 0
      },
      "text/plain": [
       "HBox(children=(IntProgress(value=0, max=59733), HTML(value='')))"
      ]
     },
     "metadata": {},
     "output_type": "display_data"
    },
    {
     "name": "stdout",
     "output_type": "stream",
     "text": [
      "\n"
     ]
    }
   ],
   "source": [
    "baseline.load_bugs()"
   ]
  },
  {
   "cell_type": "markdown",
   "metadata": {},
   "source": [
    "## Siamese  model"
   ]
  },
  {
   "cell_type": "code",
   "execution_count": 13,
   "metadata": {},
   "outputs": [],
   "source": [
    "# Freeze weights\n",
    "for layer in similarity_model.layers:\n",
    "    layer.trainable = False"
   ]
  },
  {
   "cell_type": "code",
   "execution_count": 14,
   "metadata": {},
   "outputs": [
    {
     "name": "stdout",
     "output_type": "stream",
     "text": [
      "__________________________________________________________________________________________________\n",
      "Layer (type)                    Output Shape         Param #     Connected to                     \n",
      "==================================================================================================\n",
      "info_a (InputLayer)             (None, 738)          0                                            \n",
      "__________________________________________________________________________________________________\n",
      "title_a (InputLayer)            (None, 100)          0                                            \n",
      "__________________________________________________________________________________________________\n",
      "desc_a (InputLayer)             (None, 500)          0                                            \n",
      "__________________________________________________________________________________________________\n",
      "info_b (InputLayer)             (None, 738)          0                                            \n",
      "__________________________________________________________________________________________________\n",
      "title_b (InputLayer)            (None, 100)          0                                            \n",
      "__________________________________________________________________________________________________\n",
      "desc_b (InputLayer)             (None, 500)          0                                            \n",
      "__________________________________________________________________________________________________\n",
      "FeatureMlpGenerationModel (Mode (None, 100)          73900       info_a[0][0]                     \n",
      "                                                                 info_b[0][0]                     \n",
      "__________________________________________________________________________________________________\n",
      "FeatureLstmGenerationModel (Mod (None, 100)          6144900     title_a[0][0]                    \n",
      "                                                                 title_b[0][0]                    \n",
      "__________________________________________________________________________________________________\n",
      "FeatureCNNGenerationModel (Mode (None, 100)          8719692     desc_a[0][0]                     \n",
      "                                                                 desc_b[0][0]                     \n",
      "__________________________________________________________________________________________________\n",
      "merge_features_in (Add)         (None, 100)          0           FeatureMlpGenerationModel[4][0]  \n",
      "                                                                 FeatureLstmGenerationModel[4][0] \n",
      "                                                                 FeatureCNNGenerationModel[4][0]  \n",
      "                                                                 FeatureMlpGenerationModel[5][0]  \n",
      "                                                                 FeatureLstmGenerationModel[5][0] \n",
      "                                                                 FeatureCNNGenerationModel[5][0]  \n",
      "__________________________________________________________________________________________________\n",
      "bugs (Concatenate)              (None, 200)          0           merge_features_in[1][0]          \n",
      "                                                                 merge_features_in[2][0]          \n",
      "__________________________________________________________________________________________________\n",
      "dense_1 (Dense)                 (None, 512)          102912      bugs[0][0]                       \n",
      "__________________________________________________________________________________________________\n",
      "activation_1 (Activation)       (None, 512)          0           dense_1[0][0]                    \n",
      "__________________________________________________________________________________________________\n",
      "batch_normalization_1 (BatchNor (None, 512)          2048        activation_1[0][0]               \n",
      "__________________________________________________________________________________________________\n",
      "dense_2 (Dense)                 (None, 512)          262656      batch_normalization_1[0][0]      \n",
      "__________________________________________________________________________________________________\n",
      "activation_2 (Activation)       (None, 512)          0           dense_2[0][0]                    \n",
      "__________________________________________________________________________________________________\n",
      "batch_normalization_2 (BatchNor (None, 512)          2048        activation_2[0][0]               \n",
      "__________________________________________________________________________________________________\n",
      "output (Dense)                  (None, 2)            1026        batch_normalization_2[0][0]      \n",
      "==================================================================================================\n",
      "Total params: 15,309,182\n",
      "Trainable params: 368,642\n",
      "Non-trainable params: 14,940,540\n",
      "__________________________________________________________________________________________________\n"
     ]
    }
   ],
   "source": [
    "from keras.layers import concatenate, Dropout, Add\n",
    "\n",
    "bug_t_a = Input(shape = (MAX_SEQUENCE_LENGTH_T, ), name = 'title_a')\n",
    "bug_t_b = Input(shape = (MAX_SEQUENCE_LENGTH_T, ), name = 'title_b')\n",
    "\n",
    "bug_d_a = Input(shape = (MAX_SEQUENCE_LENGTH_D, ), name = 'desc_a')\n",
    "bug_d_b = Input(shape = (MAX_SEQUENCE_LENGTH_D, ), name = 'desc_b')\n",
    "\n",
    "bug_i_a = Input(shape = (MAX_SEQUENCE_LENGTH_I, ), name = 'info_a')\n",
    "bug_i_b = Input(shape = (MAX_SEQUENCE_LENGTH_I, ), name = 'info_b')\n",
    "\n",
    "title_encoder = similarity_model.get_layer('FeatureLstmGenerationModel')\n",
    "desc_encoder = similarity_model.get_layer('FeatureCNNGenerationModel')\n",
    "info_encoder = similarity_model.get_layer('FeatureMlpGenerationModel')\n",
    "\n",
    "model = similarity_model.get_layer('merge_features_in')\n",
    "\n",
    "# Bug A\n",
    "bugt_t_a = title_encoder(bug_t_a)\n",
    "bugt_d_a = desc_encoder(bug_d_a)\n",
    "bugt_i_a = info_encoder(bug_i_a)\n",
    "# Bug B\n",
    "bugt_t_b = title_encoder(bug_t_b)\n",
    "bugt_d_b = desc_encoder(bug_d_b)\n",
    "bugt_i_b = info_encoder(bug_i_b)\n",
    "\n",
    "bug_a = model([bugt_i_a, bugt_t_a, bugt_d_a])\n",
    "bug_b = model([bugt_i_b, bugt_t_b, bugt_d_b])\n",
    "\n",
    "x = concatenate([bug_a, bug_b], name='bugs') # \n",
    "\n",
    "for _ in range(2):\n",
    "    x = Dense(512)(x)\n",
    "#     x = Dropout(0.5)(x)\n",
    "    x = Activation('relu')(x)\n",
    "    x = BatchNormalization()(x)\n",
    "\n",
    "output = Dense(2, activation = 'softmax', name = 'output')(x)\n",
    "\n",
    "model_clf = Model(inputs=[bug_t_a, bug_t_b, bug_d_a, bug_d_b, bug_i_a, bug_i_b], outputs=[output])\n",
    "\n",
    "#adam = keras.optimizers.Adam(lr=0.005, beta_1=0.9, beta_2=0.999, epsilon=None, decay=0.1, amsgrad=False)\n",
    "\n",
    "model_clf.compile(optimizer='adam', loss='binary_crossentropy', metrics = ['accuracy'])\n",
    "model_clf.summary()"
   ]
  },
  {
   "cell_type": "code",
   "execution_count": 15,
   "metadata": {},
   "outputs": [],
   "source": [
    "from keras.utils import to_categorical\n",
    "from sklearn.preprocessing import LabelEncoder\n",
    "\n",
    "def batch_classification(train, dup_sets, batch_size, n_neg):\n",
    "    encoder = LabelEncoder()\n",
    "    batch_size_normalized = batch_size // 2\n",
    "    batch_triplet, input_sample, input_pos, input_neg, sim = baseline.batch_iterator(train, dup_sets, batch_size_normalized, n_neg)\n",
    "    \n",
    "    pos = np.full((1, batch_size_normalized), 1)\n",
    "    neg = np.full((1, batch_size_normalized), 0)\n",
    "    sim = np.concatenate([pos, neg], -1)[0]\n",
    "    \n",
    "    sim = encoder.fit_transform(sim)\n",
    "    sim = to_categorical(sim)\n",
    "\n",
    "    title_a = np.concatenate([input_sample['title'], input_sample['title']])\n",
    "    title_b = np.concatenate([input_pos['title'], input_neg['title']])\n",
    "    desc_a = np.concatenate([input_sample['description'], input_sample['description']])\n",
    "    desc_b = np.concatenate([input_pos['description'], input_neg['description']])\n",
    "    info_a = np.concatenate([input_sample['info'], input_sample['info']])\n",
    "    info_b = np.concatenate([input_pos['info'], input_neg['info']])\n",
    "    \n",
    "    return title_a, title_b, desc_a, desc_b, info_a, info_b, sim\n",
    "\n",
    "def batch_classification_siamese(train, dup_sets, batch_size, n_neg):\n",
    "    while True:\n",
    "        title_a, title_b, desc_a, desc_b, info_a, info_b, sim = batch_classification(train, dup_sets, batch_size, n_neg)\n",
    "        \n",
    "        yield ({ 'title_a' : title_a, 'title_b': title_b, \n",
    "        'desc_a' : desc_a, 'desc_b' : desc_b, 'info_a' : info_a, 'info_b' : info_b }, sim)"
   ]
  },
  {
   "cell_type": "code",
   "execution_count": 16,
   "metadata": {},
   "outputs": [],
   "source": [
    "title_a, title_b, desc_a, desc_b, info_a, info_b, sim = batch_classification(baseline.train_data, \n",
    "                                                                             baseline.dup_sets_train,\n",
    "                                                                             512, 1)\n",
    "test_validation = ({ 'title_a' : title_a, 'title_b': title_b, \n",
    "        'desc_a' : desc_a, 'desc_b' : desc_b, 'info_a' : info_a, 'info_b' : info_b }, sim)"
   ]
  },
  {
   "cell_type": "code",
   "execution_count": 17,
   "metadata": {
    "scrolled": true
   },
   "outputs": [
    {
     "name": "stdout",
     "output_type": "stream",
     "text": [
      "Epoch 1/100\n",
      "10/10 [==============================] - 5s 511ms/step - loss: 0.6234 - acc: 0.7480 - val_loss: 0.3802 - val_acc: 0.8496\n",
      "Epoch 2/100\n",
      "10/10 [==============================] - 3s 339ms/step - loss: 0.4155 - acc: 0.8116 - val_loss: 0.4303 - val_acc: 0.8359\n",
      "Epoch 3/100\n",
      "10/10 [==============================] - 3s 320ms/step - loss: 0.3769 - acc: 0.8377 - val_loss: 0.3504 - val_acc: 0.8516\n",
      "Epoch 4/100\n",
      "10/10 [==============================] - 3s 315ms/step - loss: 0.3670 - acc: 0.8393 - val_loss: 0.2864 - val_acc: 0.8828\n",
      "Epoch 5/100\n",
      "10/10 [==============================] - 4s 356ms/step - loss: 0.3589 - acc: 0.8383 - val_loss: 0.2977 - val_acc: 0.8828\n",
      "Epoch 6/100\n",
      "10/10 [==============================] - 3s 343ms/step - loss: 0.3252 - acc: 0.8640 - val_loss: 0.2806 - val_acc: 0.8887\n",
      "Epoch 7/100\n",
      "10/10 [==============================] - 3s 348ms/step - loss: 0.3201 - acc: 0.8620 - val_loss: 0.2768 - val_acc: 0.8887\n",
      "Epoch 8/100\n",
      "10/10 [==============================] - 3s 327ms/step - loss: 0.3228 - acc: 0.8652 - val_loss: 0.2634 - val_acc: 0.8906\n",
      "Epoch 9/100\n",
      "10/10 [==============================] - 3s 340ms/step - loss: 0.3247 - acc: 0.8594 - val_loss: 0.2931 - val_acc: 0.8828\n",
      "Epoch 10/100\n",
      "10/10 [==============================] - 3s 324ms/step - loss: 0.3140 - acc: 0.8637 - val_loss: 0.2503 - val_acc: 0.9004\n",
      "Epoch 11/100\n",
      "10/10 [==============================] - 3s 331ms/step - loss: 0.3084 - acc: 0.8715 - val_loss: 0.2703 - val_acc: 0.8984\n",
      "Epoch 12/100\n",
      "10/10 [==============================] - 3s 345ms/step - loss: 0.3089 - acc: 0.8711 - val_loss: 0.2558 - val_acc: 0.9023\n",
      "Epoch 13/100\n",
      "10/10 [==============================] - 3s 333ms/step - loss: 0.2969 - acc: 0.8718 - val_loss: 0.2640 - val_acc: 0.9062\n",
      "Epoch 14/100\n",
      "10/10 [==============================] - 3s 316ms/step - loss: 0.3016 - acc: 0.8750 - val_loss: 0.2828 - val_acc: 0.8730\n",
      "Epoch 15/100\n",
      "10/10 [==============================] - 4s 365ms/step - loss: 0.2918 - acc: 0.8753 - val_loss: 0.2907 - val_acc: 0.8730\n",
      "Epoch 16/100\n",
      "10/10 [==============================] - 4s 370ms/step - loss: 0.3004 - acc: 0.8725 - val_loss: 0.2638 - val_acc: 0.8965\n",
      "Epoch 17/100\n",
      "10/10 [==============================] - 4s 357ms/step - loss: 0.3033 - acc: 0.8694 - val_loss: 0.2390 - val_acc: 0.8945\n",
      "Epoch 18/100\n",
      "10/10 [==============================] - 3s 319ms/step - loss: 0.2848 - acc: 0.8781 - val_loss: 0.2383 - val_acc: 0.9023\n",
      "Epoch 19/100\n",
      "10/10 [==============================] - 3s 336ms/step - loss: 0.2879 - acc: 0.8799 - val_loss: 0.2356 - val_acc: 0.9023\n",
      "Epoch 20/100\n",
      "10/10 [==============================] - 3s 339ms/step - loss: 0.2832 - acc: 0.8822 - val_loss: 0.2587 - val_acc: 0.9004\n",
      "Epoch 21/100\n",
      "10/10 [==============================] - 4s 367ms/step - loss: 0.2827 - acc: 0.8806 - val_loss: 0.2230 - val_acc: 0.9102\n",
      "Epoch 22/100\n",
      "10/10 [==============================] - 3s 343ms/step - loss: 0.2875 - acc: 0.8775 - val_loss: 0.2580 - val_acc: 0.8984\n",
      "Epoch 23/100\n",
      "10/10 [==============================] - 4s 374ms/step - loss: 0.2806 - acc: 0.8822 - val_loss: 0.2377 - val_acc: 0.8965\n",
      "Epoch 24/100\n",
      "10/10 [==============================] - 3s 323ms/step - loss: 0.2789 - acc: 0.8858 - val_loss: 0.2282 - val_acc: 0.9141\n",
      "Epoch 25/100\n",
      "10/10 [==============================] - 3s 346ms/step - loss: 0.2680 - acc: 0.8872 - val_loss: 0.2307 - val_acc: 0.9082\n",
      "Epoch 26/100\n",
      "10/10 [==============================] - 3s 301ms/step - loss: 0.2691 - acc: 0.8873 - val_loss: 0.2260 - val_acc: 0.9199\n",
      "Epoch 27/100\n",
      "10/10 [==============================] - 3s 344ms/step - loss: 0.2735 - acc: 0.8888 - val_loss: 0.2143 - val_acc: 0.9160\n",
      "Epoch 28/100\n",
      "10/10 [==============================] - 3s 331ms/step - loss: 0.2602 - acc: 0.8925 - val_loss: 0.2123 - val_acc: 0.9180\n",
      "Epoch 29/100\n",
      "10/10 [==============================] - 3s 338ms/step - loss: 0.2683 - acc: 0.8890 - val_loss: 0.2419 - val_acc: 0.9160\n",
      "Epoch 30/100\n",
      "10/10 [==============================] - 3s 296ms/step - loss: 0.2665 - acc: 0.8889 - val_loss: 0.2296 - val_acc: 0.9043\n",
      "Epoch 31/100\n",
      "10/10 [==============================] - 3s 338ms/step - loss: 0.2594 - acc: 0.8956 - val_loss: 0.2030 - val_acc: 0.9238\n",
      "Epoch 32/100\n",
      "10/10 [==============================] - 3s 320ms/step - loss: 0.2717 - acc: 0.8869 - val_loss: 0.2692 - val_acc: 0.8809\n",
      "Epoch 33/100\n",
      "10/10 [==============================] - 3s 321ms/step - loss: 0.2774 - acc: 0.8826 - val_loss: 0.2270 - val_acc: 0.9160\n",
      "Epoch 34/100\n",
      "10/10 [==============================] - 3s 336ms/step - loss: 0.2733 - acc: 0.8819 - val_loss: 0.2465 - val_acc: 0.9062\n",
      "Epoch 35/100\n",
      "10/10 [==============================] - 4s 352ms/step - loss: 0.2546 - acc: 0.8968 - val_loss: 0.2009 - val_acc: 0.9258\n",
      "Epoch 36/100\n",
      "10/10 [==============================] - 4s 384ms/step - loss: 0.2581 - acc: 0.8934 - val_loss: 0.2003 - val_acc: 0.9199\n",
      "Epoch 37/100\n",
      "10/10 [==============================] - 3s 341ms/step - loss: 0.2456 - acc: 0.8977 - val_loss: 0.2132 - val_acc: 0.9219\n",
      "Epoch 38/100\n",
      "10/10 [==============================] - 3s 342ms/step - loss: 0.2562 - acc: 0.8978 - val_loss: 0.2159 - val_acc: 0.9160\n",
      "Epoch 39/100\n",
      "10/10 [==============================] - 3s 332ms/step - loss: 0.2621 - acc: 0.8936 - val_loss: 0.2434 - val_acc: 0.8926\n",
      "Epoch 40/100\n",
      "10/10 [==============================] - 4s 371ms/step - loss: 0.2555 - acc: 0.8935 - val_loss: 0.2117 - val_acc: 0.9121\n",
      "Epoch 41/100\n",
      "10/10 [==============================] - 3s 327ms/step - loss: 0.2581 - acc: 0.8953 - val_loss: 0.2207 - val_acc: 0.9102\n",
      "Epoch 42/100\n",
      "10/10 [==============================] - 3s 326ms/step - loss: 0.2561 - acc: 0.8936 - val_loss: 0.2028 - val_acc: 0.9160\n",
      "Epoch 43/100\n",
      "10/10 [==============================] - 4s 412ms/step - loss: 0.2555 - acc: 0.8940 - val_loss: 0.1962 - val_acc: 0.9277\n",
      "Epoch 44/100\n",
      "10/10 [==============================] - 3s 340ms/step - loss: 0.2563 - acc: 0.8951 - val_loss: 0.2216 - val_acc: 0.9238\n",
      "Epoch 45/100\n",
      "10/10 [==============================] - 4s 387ms/step - loss: 0.2441 - acc: 0.8994 - val_loss: 0.1970 - val_acc: 0.9336\n",
      "Epoch 46/100\n",
      "10/10 [==============================] - 3s 349ms/step - loss: 0.2479 - acc: 0.8988 - val_loss: 0.2173 - val_acc: 0.9062\n",
      "Epoch 47/100\n",
      "10/10 [==============================] - 3s 321ms/step - loss: 0.2596 - acc: 0.8959 - val_loss: 0.2359 - val_acc: 0.9043\n",
      "Epoch 48/100\n",
      "10/10 [==============================] - 3s 319ms/step - loss: 0.2535 - acc: 0.8975 - val_loss: 0.1995 - val_acc: 0.9082\n",
      "Epoch 49/100\n",
      "10/10 [==============================] - 4s 362ms/step - loss: 0.2467 - acc: 0.8994 - val_loss: 0.2006 - val_acc: 0.9141\n",
      "Epoch 50/100\n",
      "10/10 [==============================] - 4s 394ms/step - loss: 0.2349 - acc: 0.9058 - val_loss: 0.2000 - val_acc: 0.9180\n",
      "Epoch 51/100\n",
      "10/10 [==============================] - 4s 360ms/step - loss: 0.2414 - acc: 0.9021 - val_loss: 0.1965 - val_acc: 0.9199\n",
      "Epoch 52/100\n",
      "10/10 [==============================] - 4s 387ms/step - loss: 0.2575 - acc: 0.8963 - val_loss: 0.2163 - val_acc: 0.9062\n",
      "Epoch 53/100\n",
      "10/10 [==============================] - 3s 344ms/step - loss: 0.2434 - acc: 0.9037 - val_loss: 0.1946 - val_acc: 0.9238\n",
      "Epoch 54/100\n",
      "10/10 [==============================] - 4s 398ms/step - loss: 0.2399 - acc: 0.9020 - val_loss: 0.1981 - val_acc: 0.9258\n",
      "Epoch 55/100\n",
      "10/10 [==============================] - 3s 328ms/step - loss: 0.2450 - acc: 0.9006 - val_loss: 0.2243 - val_acc: 0.9082\n",
      "Epoch 56/100\n",
      "10/10 [==============================] - 3s 305ms/step - loss: 0.2453 - acc: 0.8983 - val_loss: 0.2064 - val_acc: 0.9160\n",
      "Epoch 57/100\n",
      "10/10 [==============================] - 3s 314ms/step - loss: 0.2330 - acc: 0.9081 - val_loss: 0.2248 - val_acc: 0.9023\n",
      "Epoch 58/100\n",
      "10/10 [==============================] - 3s 324ms/step - loss: 0.2433 - acc: 0.9018 - val_loss: 0.1803 - val_acc: 0.9258\n",
      "Epoch 59/100\n",
      "10/10 [==============================] - 3s 322ms/step - loss: 0.2371 - acc: 0.9029 - val_loss: 0.2340 - val_acc: 0.8984\n",
      "Epoch 60/100\n",
      "10/10 [==============================] - 3s 336ms/step - loss: 0.2369 - acc: 0.9042 - val_loss: 0.2191 - val_acc: 0.9160\n",
      "Epoch 61/100\n",
      "10/10 [==============================] - 3s 343ms/step - loss: 0.2331 - acc: 0.9056 - val_loss: 0.1818 - val_acc: 0.9316\n",
      "Epoch 62/100\n",
      "10/10 [==============================] - 4s 378ms/step - loss: 0.2279 - acc: 0.9064 - val_loss: 0.1893 - val_acc: 0.9277\n",
      "Epoch 63/100\n",
      "10/10 [==============================] - 3s 304ms/step - loss: 0.2330 - acc: 0.9066 - val_loss: 0.1786 - val_acc: 0.9316\n",
      "Epoch 64/100\n",
      "10/10 [==============================] - 3s 333ms/step - loss: 0.2314 - acc: 0.9065 - val_loss: 0.2031 - val_acc: 0.9102\n",
      "Epoch 65/100\n",
      "10/10 [==============================] - 4s 374ms/step - loss: 0.2420 - acc: 0.9047 - val_loss: 0.1976 - val_acc: 0.9141\n",
      "Epoch 66/100\n",
      "10/10 [==============================] - 3s 338ms/step - loss: 0.2303 - acc: 0.9075 - val_loss: 0.1915 - val_acc: 0.9180\n",
      "Epoch 67/100\n",
      "10/10 [==============================] - 4s 380ms/step - loss: 0.2338 - acc: 0.9061 - val_loss: 0.1758 - val_acc: 0.9258\n",
      "Epoch 68/100\n",
      "10/10 [==============================] - 3s 318ms/step - loss: 0.2276 - acc: 0.9073 - val_loss: 0.1774 - val_acc: 0.9258\n",
      "Epoch 69/100\n",
      "10/10 [==============================] - 3s 335ms/step - loss: 0.2284 - acc: 0.9082 - val_loss: 0.2180 - val_acc: 0.9141\n",
      "Epoch 70/100\n",
      "10/10 [==============================] - 3s 318ms/step - loss: 0.2385 - acc: 0.9047 - val_loss: 0.1757 - val_acc: 0.9336\n",
      "Epoch 71/100\n",
      "10/10 [==============================] - 3s 344ms/step - loss: 0.2330 - acc: 0.9063 - val_loss: 0.1836 - val_acc: 0.9297\n",
      "Epoch 72/100\n",
      "10/10 [==============================] - 4s 376ms/step - loss: 0.2267 - acc: 0.9090 - val_loss: 0.1801 - val_acc: 0.9336\n",
      "Epoch 73/100\n",
      "10/10 [==============================] - 4s 353ms/step - loss: 0.2329 - acc: 0.9053 - val_loss: 0.1815 - val_acc: 0.9277\n",
      "Epoch 74/100\n",
      "10/10 [==============================] - 4s 414ms/step - loss: 0.2278 - acc: 0.9109 - val_loss: 0.1779 - val_acc: 0.9297\n",
      "Epoch 75/100\n",
      "10/10 [==============================] - 3s 329ms/step - loss: 0.2363 - acc: 0.9038 - val_loss: 0.1837 - val_acc: 0.9238\n",
      "Epoch 76/100\n",
      "10/10 [==============================] - 4s 353ms/step - loss: 0.2223 - acc: 0.9126 - val_loss: 0.1782 - val_acc: 0.9277\n",
      "Epoch 77/100\n",
      "10/10 [==============================] - 3s 324ms/step - loss: 0.2251 - acc: 0.9108 - val_loss: 0.1881 - val_acc: 0.9277\n",
      "Epoch 78/100\n",
      "10/10 [==============================] - 3s 300ms/step - loss: 0.2199 - acc: 0.9133 - val_loss: 0.2014 - val_acc: 0.9102\n",
      "Epoch 79/100\n",
      "10/10 [==============================] - 3s 313ms/step - loss: 0.2252 - acc: 0.9070 - val_loss: 0.1802 - val_acc: 0.9297\n",
      "Epoch 80/100\n",
      "10/10 [==============================] - 3s 341ms/step - loss: 0.2265 - acc: 0.9105 - val_loss: 0.1625 - val_acc: 0.9355\n",
      "Epoch 81/100\n",
      "10/10 [==============================] - 4s 372ms/step - loss: 0.2257 - acc: 0.9100 - val_loss: 0.1661 - val_acc: 0.9355\n",
      "Epoch 82/100\n",
      "10/10 [==============================] - 3s 316ms/step - loss: 0.2229 - acc: 0.9103 - val_loss: 0.1658 - val_acc: 0.9297\n",
      "Epoch 83/100\n",
      "10/10 [==============================] - 4s 362ms/step - loss: 0.2249 - acc: 0.9116 - val_loss: 0.1608 - val_acc: 0.9316\n",
      "Epoch 84/100\n",
      "10/10 [==============================] - 3s 339ms/step - loss: 0.2166 - acc: 0.9136 - val_loss: 0.1775 - val_acc: 0.9238\n",
      "Epoch 85/100\n",
      "10/10 [==============================] - 3s 339ms/step - loss: 0.2172 - acc: 0.9136 - val_loss: 0.1667 - val_acc: 0.9375\n",
      "Epoch 86/100\n",
      "10/10 [==============================] - 4s 357ms/step - loss: 0.2229 - acc: 0.9094 - val_loss: 0.1885 - val_acc: 0.9199\n",
      "Epoch 87/100\n",
      "10/10 [==============================] - 4s 352ms/step - loss: 0.2219 - acc: 0.9109 - val_loss: 0.1782 - val_acc: 0.9277\n",
      "Epoch 88/100\n",
      "10/10 [==============================] - 3s 320ms/step - loss: 0.2137 - acc: 0.9143 - val_loss: 0.1814 - val_acc: 0.9238\n",
      "Epoch 89/100\n",
      "10/10 [==============================] - 3s 294ms/step - loss: 0.2122 - acc: 0.9178 - val_loss: 0.1891 - val_acc: 0.9277\n",
      "Epoch 90/100\n",
      "10/10 [==============================] - 4s 361ms/step - loss: 0.2191 - acc: 0.9143 - val_loss: 0.1767 - val_acc: 0.9336\n",
      "Epoch 91/100\n",
      "10/10 [==============================] - 3s 305ms/step - loss: 0.2186 - acc: 0.9143 - val_loss: 0.1786 - val_acc: 0.9277\n",
      "Epoch 92/100\n",
      "10/10 [==============================] - 4s 402ms/step - loss: 0.2128 - acc: 0.9146 - val_loss: 0.1860 - val_acc: 0.9316\n",
      "Epoch 93/100\n",
      "10/10 [==============================] - 3s 300ms/step - loss: 0.2068 - acc: 0.9185 - val_loss: 0.1598 - val_acc: 0.9414\n",
      "Epoch 94/100\n",
      "10/10 [==============================] - 4s 353ms/step - loss: 0.2204 - acc: 0.9128 - val_loss: 0.1712 - val_acc: 0.9316\n",
      "Epoch 95/100\n",
      "10/10 [==============================] - 4s 362ms/step - loss: 0.2255 - acc: 0.9051 - val_loss: 0.1751 - val_acc: 0.9258\n",
      "Epoch 96/100\n",
      "10/10 [==============================] - 3s 343ms/step - loss: 0.2193 - acc: 0.9133 - val_loss: 0.1886 - val_acc: 0.9199\n",
      "Epoch 97/100\n",
      "10/10 [==============================] - 3s 301ms/step - loss: 0.2135 - acc: 0.9172 - val_loss: 0.1881 - val_acc: 0.9180\n",
      "Epoch 98/100\n",
      "10/10 [==============================] - 3s 293ms/step - loss: 0.2211 - acc: 0.9104 - val_loss: 0.1839 - val_acc: 0.9258\n",
      "Epoch 99/100\n",
      "10/10 [==============================] - 4s 364ms/step - loss: 0.2091 - acc: 0.9177 - val_loss: 0.1693 - val_acc: 0.9316\n",
      "Epoch 100/100\n",
      "10/10 [==============================] - 3s 312ms/step - loss: 0.2094 - acc: 0.9196 - val_loss: 0.1747 - val_acc: 0.9199\n",
      "CPU times: user 10min 28s, sys: 2min 10s, total: 12min 38s\n",
      "Wall time: 5min 43s\n"
     ]
    }
   ],
   "source": [
    "%%time\n",
    "\n",
    "early = keras.callbacks.EarlyStopping(monitor='val_loss', patience=15, verbose=1, mode='auto')\n",
    "\n",
    "h_clf = model_clf.fit_generator(batch_classification_siamese(baseline.train_data, baseline.dup_sets_train, 1024, 1), \n",
    "                               steps_per_epoch = 10,\n",
    "                               validation_data=test_validation,\n",
    "                                             epochs = 100,\n",
    "#                                              callbacks=[early],\n",
    "                                             verbose = True) "
   ]
  },
  {
   "cell_type": "code",
   "execution_count": 18,
   "metadata": {
    "scrolled": false
   },
   "outputs": [
    {
     "data": {
      "image/png": "[encoded data removed]",
      "text/plain": [
       "<Figure size 432x288 with 1 Axes>"
      ]
     },
     "metadata": {
      "needs_background": "light"
     },
     "output_type": "display_data"
    },
    {
     "data": {
      "image/png": "[encoded data removed]",
      "text/plain": [
       "<Figure size 432x288 with 1 Axes>"
      ]
     },
     "metadata": {
      "needs_background": "light"
     },
     "output_type": "display_data"
    }
   ],
   "source": [
    "Baseline.validation_accuracy_loss(h_clf)"
   ]
  },
  {
   "cell_type": "markdown",
   "metadata": {},
   "source": [
    "### Accuracy"
   ]
  },
  {
   "cell_type": "markdown",
   "metadata": {},
   "source": [
    "#### train"
   ]
  },
  {
   "cell_type": "code",
   "execution_count": 19,
   "metadata": {},
   "outputs": [
    {
     "data": {
      "text/plain": [
       "0.90234375"
      ]
     },
     "execution_count": 19,
     "metadata": {},
     "output_type": "execute_result"
    }
   ],
   "source": [
    "from sklearn.metrics import accuracy_score\n",
    "\n",
    "title_a, title_b, desc_a, desc_b, info_a, info_b, sim = batch_classification(baseline.train_data, \n",
    "                                                                             baseline.dup_sets_train, 512, 1)\n",
    "\n",
    "y_true = sim\n",
    "y_scores = model_clf.predict([title_a, title_b, desc_a, desc_b, info_a, info_b])\n",
    "\n",
    "def normalize(row):\n",
    "    return [1 if(r > 0.5) else 0 for r in row]\n",
    "\n",
    "y_scores = list(map(normalize, y_scores))\n",
    "# y_scores\n",
    "def decode_ohe(row):\n",
    "    return 0 if(row[0] == 1) else 1\n",
    "y_scores = [ decode_ohe(r) for r in y_scores ]\n",
    "y_true = [ decode_ohe(r) for r in y_true ]\n",
    "accuracy_score(y_true, y_scores)"
   ]
  },
  {
   "cell_type": "markdown",
   "metadata": {},
   "source": [
    "#### test"
   ]
  },
  {
   "cell_type": "code",
   "execution_count": 20,
   "metadata": {},
   "outputs": [
    {
     "data": {
      "text/plain": [
       "0.90625"
      ]
     },
     "execution_count": 20,
     "metadata": {},
     "output_type": "execute_result"
    }
   ],
   "source": [
    "from sklearn.metrics import accuracy_score\n",
    "\n",
    "title_a, title_b, desc_a, desc_b, info_a, info_b, sim = batch_classification(baseline.test_data, \n",
    "                                                                             baseline.dup_sets_test, 512, 1)\n",
    "\n",
    "y_true = sim\n",
    "y_scores = model_clf.predict([title_a, title_b, desc_a, desc_b, info_a, info_b])\n",
    "\n",
    "def normalize(row):\n",
    "    return [1 if(r > 0.5) else 0 for r in row]\n",
    "\n",
    "y_scores = list(map(normalize, y_scores))\n",
    "# y_scores\n",
    "def decode_ohe(row):\n",
    "    return 0 if(row[0] == 1) else 1\n",
    "y_scores = [ decode_ohe(r) for r in y_scores ]\n",
    "y_true = [ decode_ohe(r) for r in y_true ]\n",
    "accuracy_score(y_true, y_scores)"
   ]
  },
  {
   "cell_type": "markdown",
   "metadata": {},
   "source": [
    "### Roc AUC/SCORE"
   ]
  },
  {
   "cell_type": "markdown",
   "metadata": {},
   "source": [
    "#### train"
   ]
  },
  {
   "cell_type": "code",
   "execution_count": 21,
   "metadata": {},
   "outputs": [
    {
     "data": {
      "text/plain": [
       "0.9659271240234375"
      ]
     },
     "execution_count": 21,
     "metadata": {},
     "output_type": "execute_result"
    }
   ],
   "source": [
    "from sklearn.metrics import roc_auc_score\n",
    "\n",
    "title_a, title_b, desc_a, desc_b, info_a, info_b, sim = batch_classification(baseline.train_data, \n",
    "                                                                             baseline.dup_sets_train, 512, 1)\n",
    "\n",
    "y_true = sim\n",
    "y_scores = model_clf.predict([title_a, title_b, desc_a, desc_b, info_a, info_b])\n",
    "\n",
    "roc_auc_score(y_true, y_scores)"
   ]
  },
  {
   "cell_type": "markdown",
   "metadata": {},
   "source": [
    "#### test"
   ]
  },
  {
   "cell_type": "code",
   "execution_count": 22,
   "metadata": {},
   "outputs": [
    {
     "data": {
      "text/plain": [
       "0.9437255859375"
      ]
     },
     "execution_count": 22,
     "metadata": {},
     "output_type": "execute_result"
    }
   ],
   "source": [
    "from sklearn.metrics import roc_auc_score\n",
    "\n",
    "title_a, title_b, desc_a, desc_b, info_a, info_b, sim = batch_classification(baseline.test_data, \n",
    "                                                                             baseline.dup_sets_test, 512, 1)\n",
    "\n",
    "y_true = sim\n",
    "y_scores = model_clf.predict([title_a, title_b, desc_a, desc_b, info_a, info_b])\n",
    "\n",
    "roc_auc_score(y_true, y_scores)"
   ]
  },
  {
   "cell_type": "markdown",
   "metadata": {},
   "source": [
    "#### Save the model"
   ]
  },
  {
   "cell_type": "code",
   "execution_count": 23,
   "metadata": {},
   "outputs": [],
   "source": [
    "def save_model(model, name):\n",
    "    m_dir = os.path.join('modelos')\n",
    "    if not os.path.exists(m_dir):\n",
    "        os.mkdir(m_dir)\n",
    "    model.save(os.path.join(m_dir, \"model_{}.h5\".format(name)))\n",
    "    print(\"Saved model to disk\")"
   ]
  },
  {
   "cell_type": "code",
   "execution_count": 24,
   "metadata": {},
   "outputs": [
    {
     "name": "stdout",
     "output_type": "stream",
     "text": [
      "Saved model to disk\n"
     ]
    }
   ],
   "source": [
    "save_model(model_clf, SAVE_PATH)"
   ]
  }
 ],
 "metadata": {
  "kernelspec": {
   "display_name": "Python 3",
   "language": "python",
   "name": "python3"
  },
  "language_info": {
   "codemirror_mode": {
    "name": "ipython",
    "version": 3
   },
   "file_extension": ".py",
   "mimetype": "text/x-python",
   "name": "python",
   "nbconvert_exporter": "python",
   "pygments_lexer": "ipython3",
   "version": "3.5.2"
  }
 },
 "nbformat": 4,
 "nbformat_minor": 2
}
