{
 "cells": [
  {
   "cell_type": "markdown",
   "metadata": {
    "colab_type": "text",
    "id": "PtdA1qs_UQP1"
   },
   "source": [
    "# DeepTL with topics\n",
    "\n",
    "\n",
    "https://github.com/AdrianUng/keras-triplet-loss-mnist/blob/master/Triplet_loss_KERAS_semi_hard_from_TF.ipynb"
   ]
  },
  {
   "cell_type": "code",
   "execution_count": 1,
   "metadata": {},
   "outputs": [
    {
     "name": "stderr",
     "output_type": "stream",
     "text": [
      "Using TensorFlow backend.\n"
     ]
    }
   ],
   "source": [
    "# from __future__ import print_function, division\n",
    "import keras\n",
    "import re\n",
    "import numpy as np\n",
    "import pandas as pd\n",
    "\n",
    "import os\n",
    "from tqdm import tqdm_notebook as tqdm\n",
    "import matplotlib.pyplot as plt\n",
    "import sys\n",
    "from annoy import AnnoyIndex\n",
    "nb_dir = os.path.split(os.getcwd())[0]\n",
    "if nb_dir not in sys.path:\n",
    "    sys.path.append(nb_dir)\n",
    "    \n",
    "from keras.layers import Conv1D, Input, Add, Activation, Dropout, Embedding, MaxPooling1D, \\\n",
    "    GlobalMaxPool1D, Flatten, Dense, Concatenate, BatchNormalization\n",
    "from keras.models import Sequential, Model\n",
    "from keras.regularizers import l2\n",
    "from keras.initializers import TruncatedNormal\n",
    "from keras.layers.advanced_activations import LeakyReLU, ELU\n",
    "from keras import optimizers\n",
    "\n",
    "from methods.baseline import Baseline\n",
    "from methods.experiments import Experiment\n",
    "from methods.evaluation import Evaluation\n",
    "from methods.retrieval import Retrieval\n",
    "\n",
    "from keras_bert import load_vocabulary\n",
    "import random\n",
    "\n",
    "from keras_bert import load_trained_model_from_checkpoint\n",
    "from keras_bert import compile_model, get_model\n",
    "from keras.layers import GlobalAveragePooling1D\n",
    "\n",
    "## required for semi-hard triplet loss:\n",
    "from tensorflow.python.ops import array_ops\n",
    "from tensorflow.python.ops import math_ops\n",
    "from tensorflow.python.framework import dtypes\n",
    "import tensorflow as tf\n",
    "\n",
    "from keras.layers import concatenate, Add, Lambda, merge, Average, Maximum\n",
    "from keras.optimizers import Adam, Nadam\n",
    "import _pickle as pickle\n",
    "    \n",
    "# %matplotlib inline"
   ]
  },
  {
   "cell_type": "code",
   "execution_count": 2,
   "metadata": {},
   "outputs": [
    {
     "name": "stdout",
     "output_type": "stream",
     "text": [
      "env: epochs=1000\n",
      "env: base=openoffice\n"
     ]
    }
   ],
   "source": [
    "%env epochs 1000\n",
    "%env base openoffice"
   ]
  },
  {
   "cell_type": "markdown",
   "metadata": {
    "colab_type": "text",
    "id": "8uQou7m2-bFO"
   },
   "source": [
    "## Configurações Globais"
   ]
  },
  {
   "cell_type": "code",
   "execution_count": 3,
   "metadata": {
    "colab": {},
    "colab_type": "code",
    "id": "G-Kn3x_K-aZj"
   },
   "outputs": [],
   "source": [
    "MAX_SEQUENCE_LENGTH_T = 100 # 100\n",
    "MAX_SEQUENCE_LENGTH_D = 100 # 500\n",
    "EMBEDDING_DIM = 300\n",
    "MAX_NB_WORDS = 20000\n",
    "TOPIC_SEQUENCE = 30 # Number of topics considered\n",
    "'''\n",
    "    Configuration\n",
    "'''\n",
    "epochs = int(os.environ['epochs'])\n",
    "freeze_train = .1\n",
    "best_loss = 1\n",
    "best_epoch = 0\n",
    "verbose = 0\n",
    "loss = 1"
   ]
  },
  {
   "cell_type": "markdown",
   "metadata": {},
   "source": [
    "### Parse bugs preproprecessed"
   ]
  },
  {
   "cell_type": "code",
   "execution_count": 4,
   "metadata": {},
   "outputs": [],
   "source": [
    "# Domain to use\n",
    "DOMAIN = os.environ['base']\n",
    "METHOD = 'deepTL_topics_{}'.format(epochs)\n",
    "PREPROCESSING = 'bert'\n",
    "TOKEN = 'bert'\n",
    "# Dataset paths\n",
    "DIR = 'data/processed/{}/{}'.format(DOMAIN, PREPROCESSING)\n",
    "DIR_PAIRS = 'data/normalized/{}'.format(DOMAIN)\n",
    "DATASET = os.path.join('data/normalized/{}'.format(DOMAIN), '{}.csv'.format(DOMAIN))\n",
    "# Glove embeddings\n",
    "GLOVE_DIR='data/embed'\n",
    "# Save model\n",
    "SAVE_PATH = '{}_preprocessing_{}_feature@number_of_epochs@epochs_64batch({})'.format(PREPROCESSING, METHOD, DOMAIN)\n",
    "SAVE_PATH_FEATURE = '{}_preprocessing_{}_feature_@number_of_epochs@epochs_64batch({})'.format(PREPROCESSING, METHOD, DOMAIN)\n",
    "\n",
    "# Extract CORPUs\n",
    "EXTRACT_CORPUS = False"
   ]
  },
  {
   "cell_type": "code",
   "execution_count": 5,
   "metadata": {},
   "outputs": [
    {
     "name": "stdout",
     "output_type": "stream",
     "text": [
      "*********\n",
      "deepTL_topics_1000 for 1000 epochs in openoffice\n",
      "*********\n"
     ]
    }
   ],
   "source": [
    "print(\"*********\")\n",
    "print(\"{} for {} epochs in {}\".format(METHOD, epochs, DOMAIN))\n",
    "print(\"*********\")"
   ]
  },
  {
   "cell_type": "code",
   "execution_count": 6,
   "metadata": {},
   "outputs": [],
   "source": [
    "pretrained_path = 'uncased_L-12_H-768_A-12'\n",
    "config_path = os.path.join(pretrained_path, 'bert_config.json')\n",
    "model_path = os.path.join(pretrained_path, 'bert_model.ckpt')\n",
    "vocab_path = os.path.join(pretrained_path, 'vocab.txt')"
   ]
  },
  {
   "cell_type": "code",
   "execution_count": 7,
   "metadata": {},
   "outputs": [],
   "source": [
    "token_dict = load_vocabulary(vocab_path)"
   ]
  },
  {
   "cell_type": "code",
   "execution_count": 8,
   "metadata": {},
   "outputs": [],
   "source": [
    "baseline = Baseline(DOMAIN, DIR, DATASET, MAX_SEQUENCE_LENGTH_T, MAX_SEQUENCE_LENGTH_D,\n",
    "                   token_dict['[CLS]'], token_dict['[SEP]'])\n",
    "evaluation = Evaluation(verbose=0)\n",
    "retrieval = Retrieval()\n",
    "experiment = Experiment(baseline, evaluation)"
   ]
  },
  {
   "cell_type": "code",
   "execution_count": 9,
   "metadata": {
    "scrolled": true
   },
   "outputs": [],
   "source": [
    "experiment.set_retrieval(retrieval, baseline, DOMAIN)"
   ]
  },
  {
   "cell_type": "markdown",
   "metadata": {},
   "source": [
    "#### Loading bug ids in memory"
   ]
  },
  {
   "cell_type": "code",
   "execution_count": 10,
   "metadata": {
    "scrolled": true
   },
   "outputs": [
    {
     "name": "stdout",
     "output_type": "stream",
     "text": [
      "Reading bug ids\n"
     ]
    },
    {
     "data": {
      "text/plain": [
       "98070"
      ]
     },
     "execution_count": 10,
     "metadata": {},
     "output_type": "execute_result"
    }
   ],
   "source": [
    "experiment.load_ids()\n",
    "len(baseline.bug_ids)"
   ]
  },
  {
   "cell_type": "markdown",
   "metadata": {
    "colab_type": "text",
    "id": "vqzt5EKzqzcI"
   },
   "source": [
    "#### Dicionário de títulos e descrições"
   ]
  },
  {
   "cell_type": "code",
   "execution_count": 11,
   "metadata": {
    "scrolled": true
   },
   "outputs": [
    {
     "data": {
      "application/vnd.jupyter.widget-view+json": {
       "model_id": "ca07bc4ddf4c4f3baf54c7267b20cf58",
       "version_major": 2,
       "version_minor": 0
      },
      "text/plain": [
       "HBox(children=(IntProgress(value=0, max=98070), HTML(value='')))"
      ]
     },
     "metadata": {},
     "output_type": "display_data"
    },
    {
     "name": "stdout",
     "output_type": "stream",
     "text": [
      "\n"
     ]
    },
    {
     "data": {
      "application/vnd.jupyter.widget-view+json": {
       "model_id": "c3e065328c6342b381696aed5cb696a9",
       "version_major": 2,
       "version_minor": 0
      },
      "text/plain": [
       "HBox(children=(IntProgress(value=1, bar_style='info', max=1), HTML(value='')))"
      ]
     },
     "metadata": {},
     "output_type": "display_data"
    },
    {
     "name": "stdout",
     "output_type": "stream",
     "text": [
      "\n",
      "CPU times: user 22.7 s, sys: 1.6 s, total: 24.3 s\n",
      "Wall time: 23.9 s\n"
     ]
    }
   ],
   "source": [
    "%%time\n",
    "\n",
    "experiment.load_bugs(TOKEN)\n",
    "len(baseline.sentence_dict)"
   ]
  },
  {
   "cell_type": "markdown",
   "metadata": {},
   "source": [
    "#### Hashing bugs by buckets"
   ]
  },
  {
   "cell_type": "code",
   "execution_count": 12,
   "metadata": {
    "scrolled": false
   },
   "outputs": [
    {
     "data": {
      "application/vnd.jupyter.widget-view+json": {
       "model_id": "8dd2b272dd3e42c4837fce622c493827",
       "version_major": 2,
       "version_minor": 0
      },
      "text/plain": [
       "HBox(children=(IntProgress(value=0, max=58572), HTML(value='')))"
      ]
     },
     "metadata": {},
     "output_type": "display_data"
    },
    {
     "name": "stdout",
     "output_type": "stream",
     "text": [
      "\n"
     ]
    }
   ],
   "source": [
    "issues_by_buckets = experiment.get_buckets_for_bugs()"
   ]
  },
  {
   "cell_type": "markdown",
   "metadata": {},
   "source": [
    "#### Prepare the train and test"
   ]
  },
  {
   "cell_type": "code",
   "execution_count": 13,
   "metadata": {},
   "outputs": [],
   "source": [
    "# path_train='train_chronological', path_test='test_chronological'\n",
    "experiment.prepare_dataset(issues_by_buckets, path_train='train_chronological', path_test='test_chronological')\n",
    "# Read and create the test queries duplicates\n",
    "retrieval.create_queries()"
   ]
  },
  {
   "cell_type": "code",
   "execution_count": 14,
   "metadata": {},
   "outputs": [
    {
     "data": {
      "text/plain": [
       "[[7499, 14267],\n",
       " [7499, 14451],\n",
       " [7499, 14335],\n",
       " [14267, 14451],\n",
       " [14267, 14335],\n",
       " [14451, 14335],\n",
       " [109857, 109858],\n",
       " [55321, 45346],\n",
       " [55321, 25797],\n",
       " [55321, 39359]]"
      ]
     },
     "execution_count": 14,
     "metadata": {},
     "output_type": "execute_result"
    }
   ],
   "source": [
    "baseline.train_data[:10]"
   ]
  },
  {
   "cell_type": "markdown",
   "metadata": {},
   "source": [
    "#### Recovery bug ids from train"
   ]
  },
  {
   "cell_type": "code",
   "execution_count": 15,
   "metadata": {},
   "outputs": [],
   "source": [
    "bug_train_ids = experiment.get_train_ids(baseline.train_data)"
   ]
  },
  {
   "cell_type": "markdown",
   "metadata": {},
   "source": [
    "### Export the corpus train"
   ]
  },
  {
   "cell_type": "code",
   "execution_count": 16,
   "metadata": {},
   "outputs": [],
   "source": [
    "if EXTRACT_CORPUS:\n",
    "    corpus = []\n",
    "    export_file = open(os.path.join(DIR, 'corpus_train.txt'), 'w')\n",
    "    for bug_id in tqdm(baseline.bug_set):\n",
    "        bug = baseline.bug_set[bug_id]\n",
    "        title = bug['title']\n",
    "        desc = bug['description']\n",
    "        export_file.write(\"{}\\n{}\\n\".format(title, desc))\n",
    "    export_file.close()"
   ]
  },
  {
   "cell_type": "markdown",
   "metadata": {
    "colab_type": "text",
    "id": "a6Obtop6UIVD"
   },
   "source": [
    "# Generating tiple of batches"
   ]
  },
  {
   "cell_type": "code",
   "execution_count": 17,
   "metadata": {
    "scrolled": true
   },
   "outputs": [
    {
     "data": {
      "text/plain": [
       "{'bug_severity': '2\\n',\n",
       " 'bug_status': '1\\n',\n",
       " 'component': '69\\n',\n",
       " 'creation_ts': '2005-02-09 15:04:00 +0000',\n",
       " 'delta_ts': '2006-05-31 14:29:06 +0000',\n",
       " 'description': \"[CLS] hey , you don ' t want to release o ##oo w ##hit ##ho ##ut * any * po ##ssi ##bl ##ility to use any address ##book of linux pi ##m - applications , do you ? thunder ##bird is still not working , it ' s time to . . . . this is a * must have * in a office - application nowadays ! [SEP]\",\n",
       " 'description_segment': [0,\n",
       "  0,\n",
       "  0,\n",
       "  0,\n",
       "  0,\n",
       "  0,\n",
       "  0,\n",
       "  0,\n",
       "  0,\n",
       "  0,\n",
       "  0,\n",
       "  0,\n",
       "  0,\n",
       "  0,\n",
       "  0,\n",
       "  0,\n",
       "  0,\n",
       "  0,\n",
       "  0,\n",
       "  0,\n",
       "  0,\n",
       "  0,\n",
       "  0,\n",
       "  0,\n",
       "  0,\n",
       "  0,\n",
       "  0,\n",
       "  0,\n",
       "  0,\n",
       "  0,\n",
       "  0,\n",
       "  0,\n",
       "  0,\n",
       "  0,\n",
       "  0,\n",
       "  0,\n",
       "  0,\n",
       "  0,\n",
       "  0,\n",
       "  0,\n",
       "  0,\n",
       "  0,\n",
       "  0,\n",
       "  0,\n",
       "  0,\n",
       "  0,\n",
       "  0,\n",
       "  0,\n",
       "  0,\n",
       "  0,\n",
       "  0,\n",
       "  0,\n",
       "  0,\n",
       "  0,\n",
       "  0,\n",
       "  0,\n",
       "  0,\n",
       "  0,\n",
       "  0,\n",
       "  0,\n",
       "  0,\n",
       "  0,\n",
       "  0,\n",
       "  0,\n",
       "  0,\n",
       "  0,\n",
       "  0,\n",
       "  0,\n",
       "  0,\n",
       "  0,\n",
       "  0,\n",
       "  0,\n",
       "  0,\n",
       "  0,\n",
       "  0,\n",
       "  0,\n",
       "  0,\n",
       "  0,\n",
       "  0,\n",
       "  0,\n",
       "  0,\n",
       "  0,\n",
       "  0,\n",
       "  0,\n",
       "  0,\n",
       "  0,\n",
       "  0,\n",
       "  0,\n",
       "  0,\n",
       "  0,\n",
       "  0,\n",
       "  0,\n",
       "  0,\n",
       "  0,\n",
       "  0,\n",
       "  0,\n",
       "  0,\n",
       "  0,\n",
       "  0,\n",
       "  0,\n",
       "  0,\n",
       "  0,\n",
       "  0,\n",
       "  0,\n",
       "  0,\n",
       "  0,\n",
       "  0,\n",
       "  0,\n",
       "  0,\n",
       "  0,\n",
       "  0,\n",
       "  0,\n",
       "  0,\n",
       "  0,\n",
       "  0,\n",
       "  0,\n",
       "  0,\n",
       "  0,\n",
       "  0,\n",
       "  0,\n",
       "  0,\n",
       "  0,\n",
       "  0,\n",
       "  0,\n",
       "  0,\n",
       "  0,\n",
       "  0,\n",
       "  0,\n",
       "  0,\n",
       "  0,\n",
       "  0,\n",
       "  0,\n",
       "  0,\n",
       "  0,\n",
       "  0,\n",
       "  0,\n",
       "  0,\n",
       "  0,\n",
       "  0,\n",
       "  0,\n",
       "  0,\n",
       "  0,\n",
       "  0,\n",
       "  0,\n",
       "  0,\n",
       "  0,\n",
       "  0,\n",
       "  0,\n",
       "  0,\n",
       "  0],\n",
       " 'description_token': array([  101,  4931,  1010,  2017,  2123,  1005,  1056,  2215,  2000,\n",
       "         2713,  1051,  9541,  1059, 16584,  6806,  4904,  1008,  2151,\n",
       "         1008, 13433, 18719, 16558, 15148,  2000,  2224,  2151,  4769,\n",
       "         8654,  1997, 11603, 14255,  2213,  1011,  5097,  1010,  2079,\n",
       "         2017,  1029,  8505,  9001,  2003,  2145,  2025,  2551,  1010,\n",
       "         2009,  1005,  1055,  2051,  2000,  1012,  1012,  1012,  1012,\n",
       "         2023,  2003,  1037,  1008,  2442,  2031,  1008,  1999,  1037,\n",
       "         2436,  1011,  4646, 13367,   999,     0,     0,     0,     0,\n",
       "            0,     0,     0,     0,     0,     0,     0,     0,     0,\n",
       "            0,     0,     0,     0,     0,     0,     0,     0,     0,\n",
       "            0,     0,     0,     0,     0,     0,     0,     0,     0,\n",
       "          102]),\n",
       " 'dup_id': '20088',\n",
       " 'issue_id': 42341,\n",
       " 'priority': '1\\n',\n",
       " 'product': '23\\n',\n",
       " 'resolution': 'DUPLICATE',\n",
       " 'textual_token': array([  101,  8505,  9001,  4769,  1011,  2338,     0,     0,     0,\n",
       "            0,     0,     0,     0,     0,     0,     0,     0,     0,\n",
       "            0,     0,     0,     0,     0,     0,     0,     0,     0,\n",
       "            0,     0,     0,     0,     0,     0,     0,     0,     0,\n",
       "            0,     0,     0,     0,     0,     0,     0,     0,     0,\n",
       "            0,     0,     0,     0,     0,     0,     0,     0,     0,\n",
       "            0,     0,     0,     0,     0,     0,     0,     0,     0,\n",
       "            0,     0,     0,     0,     0,     0,     0,     0,     0,\n",
       "            0,     0,     0,     0,     0,     0,     0,     0,     0,\n",
       "            0,     0,     0,     0,     0,     0,     0,     0,     0,\n",
       "            0,     0,     0,     0,     0,     0,     0,     0,     0,\n",
       "          102,   101,  4931,  1010,  2017,  2123,  1005,  1056,  2215,\n",
       "         2000,  2713,  1051,  9541,  1059, 16584,  6806,  4904,  1008,\n",
       "         2151,  1008, 13433, 18719, 16558, 15148,  2000,  2224,  2151,\n",
       "         4769,  8654,  1997, 11603, 14255,  2213,  1011,  5097,  1010,\n",
       "         2079,  2017,  1029,  8505,  9001,  2003,  2145,  2025,  2551,\n",
       "         1010,  2009,  1005,  1055,  2051,  2000,  1012,  1012,  1012,\n",
       "         1012,  2023,  2003,  1037,  1008,  2442,  2031,  1008,  1999,\n",
       "         1037,  2436,  1011,  4646, 13367,   999,     0,     0,     0,\n",
       "            0,     0,     0,     0,     0,     0,     0,     0,     0,\n",
       "            0,     0,     0,     0,     0,     0,     0,     0,     0,\n",
       "            0,     0,     0,     0,     0,     0,     0,     0,     0,\n",
       "            0,   102]),\n",
       " 'title': '[CLS] thunder ##bird address - book [SEP]',\n",
       " 'title_segment': [0,\n",
       "  0,\n",
       "  0,\n",
       "  0,\n",
       "  0,\n",
       "  0,\n",
       "  0,\n",
       "  0,\n",
       "  0,\n",
       "  0,\n",
       "  0,\n",
       "  0,\n",
       "  0,\n",
       "  0,\n",
       "  0,\n",
       "  0,\n",
       "  0,\n",
       "  0,\n",
       "  0,\n",
       "  0,\n",
       "  0,\n",
       "  0,\n",
       "  0,\n",
       "  0,\n",
       "  0,\n",
       "  0,\n",
       "  0,\n",
       "  0,\n",
       "  0,\n",
       "  0,\n",
       "  0,\n",
       "  0,\n",
       "  0,\n",
       "  0,\n",
       "  0,\n",
       "  0,\n",
       "  0,\n",
       "  0,\n",
       "  0,\n",
       "  0,\n",
       "  0,\n",
       "  0,\n",
       "  0,\n",
       "  0,\n",
       "  0,\n",
       "  0,\n",
       "  0,\n",
       "  0,\n",
       "  0,\n",
       "  0],\n",
       " 'title_token': array([ 101, 8505, 9001, 4769, 1011, 2338,    0,    0,    0,    0,    0,\n",
       "           0,    0,    0,    0,    0,    0,    0,    0,    0,    0,    0,\n",
       "           0,    0,    0,    0,    0,    0,    0,    0,    0,    0,    0,\n",
       "           0,    0,    0,    0,    0,    0,    0,    0,    0,    0,    0,\n",
       "           0,    0,    0,    0,    0,    0,    0,    0,    0,    0,    0,\n",
       "           0,    0,    0,    0,    0,    0,    0,    0,    0,    0,    0,\n",
       "           0,    0,    0,    0,    0,    0,    0,    0,    0,    0,    0,\n",
       "           0,    0,    0,    0,    0,    0,    0,    0,    0,    0,    0,\n",
       "           0,    0,    0,    0,    0,    0,    0,    0,    0,    0,    0,\n",
       "         102]),\n",
       " 'topic': 17,\n",
       " 'topic_30': 17,\n",
       " 'topic_50': 38,\n",
       " 'topic_index': 16,\n",
       " 'topic_index_30': 16,\n",
       " 'topic_index_50': 37,\n",
       " 'topics': array([0.05, 0.  , 0.  , 0.  , 0.  , 0.  , 0.  , 0.  , 0.  , 0.  , 0.  ,\n",
       "        0.  , 0.  , 0.  , 0.  , 0.  , 0.  , 0.46, 0.  , 0.  , 0.  , 0.  ,\n",
       "        0.  , 0.  , 0.  , 0.31, 0.  , 0.  , 0.13, 0.  ]),\n",
       " 'topics_30': array([0.05, 0.  , 0.  , 0.  , 0.  , 0.  , 0.  , 0.  , 0.  , 0.  , 0.  ,\n",
       "        0.  , 0.  , 0.  , 0.  , 0.  , 0.  , 0.46, 0.  , 0.  , 0.  , 0.  ,\n",
       "        0.  , 0.  , 0.  , 0.31, 0.  , 0.  , 0.13, 0.  ]),\n",
       " 'topics_50': array([0.  , 0.  , 0.  , 0.  , 0.2 , 0.  , 0.  , 0.  , 0.  , 0.1 , 0.  ,\n",
       "        0.03, 0.  , 0.  , 0.  , 0.  , 0.  , 0.  , 0.  , 0.07, 0.  , 0.  ,\n",
       "        0.  , 0.  , 0.  , 0.  , 0.  , 0.  , 0.  , 0.  , 0.  , 0.  , 0.  ,\n",
       "        0.  , 0.  , 0.  , 0.  , 0.  , 0.28, 0.  , 0.  , 0.  , 0.13, 0.  ,\n",
       "        0.  , 0.13, 0.  , 0.  , 0.  , 0.  ]),\n",
       " 'version': '477\\n'}"
      ]
     },
     "execution_count": 17,
     "metadata": {},
     "output_type": "execute_result"
    }
   ],
   "source": [
    "idx = np.random.choice(baseline.bug_ids, 1)[0]\n",
    "baseline.bug_set[idx]"
   ]
  },
  {
   "cell_type": "markdown",
   "metadata": {},
   "source": [
    "### Generating the batch test"
   ]
  },
  {
   "cell_type": "code",
   "execution_count": 18,
   "metadata": {},
   "outputs": [
    {
     "data": {
      "text/plain": [
       "('Train ', 5502)"
      ]
     },
     "execution_count": 18,
     "metadata": {},
     "output_type": "execute_result"
    }
   ],
   "source": [
    "\"Train \", len(baseline.dup_sets_train)"
   ]
  },
  {
   "cell_type": "code",
   "execution_count": 19,
   "metadata": {},
   "outputs": [],
   "source": [
    "# data - path\n",
    "# batch_size - 128\n",
    "# n_neg - 1\n",
    "def batch_iterator(self, retrieval, model, data, dup_sets, bug_ids, \n",
    "                   batch_size, n_neg, issues_by_buckets, TRIPLET_HARD=False, FLOATING_PADDING=False):\n",
    "    # global train_data\n",
    "    # global self.dup_sets\n",
    "    # global self.bug_ids\n",
    "    # global self.bug_set\n",
    "\n",
    "    random.shuffle(data)\n",
    "\n",
    "    batch_features = {'title' : [], 'desc' : [], 'info' : [], 'topics' : []}\n",
    "    n_train = len(data)\n",
    "\n",
    "    batch_triplets, batch_bugs_anchor, batch_bugs_pos, batch_bugs_neg, batch_bugs = [], [], [], [], []\n",
    "\n",
    "    all_bugs = bug_ids #list(issues_by_buckets.keys())\n",
    "    buckets = retrieval.buckets\n",
    "\n",
    "    for offset in range(batch_size):\n",
    "        anchor, pos = data[offset][0], data[offset][1]\n",
    "        batch_bugs_anchor.append(anchor)\n",
    "        batch_bugs_pos.append(pos)\n",
    "        batch_bugs.append(anchor)\n",
    "        batch_bugs.append(pos)\n",
    "        #batch_bugs += dup_sets[anchor]\n",
    "\n",
    "    for anchor, pos in zip(batch_bugs_anchor, batch_bugs_pos):\n",
    "        while True:\n",
    "            neg = self.get_neg_bug(anchor, buckets[issues_by_buckets[anchor]], issues_by_buckets, all_bugs)\n",
    "            bug_anchor = self.bug_set[anchor]\n",
    "            bug_pos = self.bug_set[pos]\n",
    "            if neg not in self.bug_set:\n",
    "                continue\n",
    "            batch_bugs.append(neg)\n",
    "            batch_bugs_neg.append(neg)\n",
    "            bug_neg = self.bug_set[neg]\n",
    "            break\n",
    "        \n",
    "        # triplet bug and master\n",
    "        batch_triplets.append([anchor, pos, neg])\n",
    "    \n",
    "    random.shuffle(batch_bugs)\n",
    "    title_ids = np.full((len(batch_bugs), MAX_SEQUENCE_LENGTH_T), 0)\n",
    "    description_ids = np.full((len(batch_bugs), MAX_SEQUENCE_LENGTH_D), 0)\n",
    "    for i, bug_id in enumerate(batch_bugs):\n",
    "        bug = self.bug_set[bug_id]\n",
    "        self.read_batch_bugs(batch_features, bug, index=i, title_ids=title_ids, description_ids=description_ids)\n",
    "\n",
    "    batch_features['title'] = { 'token' : np.array(batch_features['title']), 'segment' : title_ids }\n",
    "    batch_features['desc'] = { 'token' : np.array(batch_features['desc']), 'segment' : description_ids }\n",
    "    batch_features['info'] = np.array(batch_features['info'])\n",
    "    batch_features['topics'] = np.array(batch_features['topics'])\n",
    "    \n",
    "    sim = np.asarray([issues_by_buckets[bug_id] for bug_id in batch_bugs])\n",
    "\n",
    "    input_sample = {}\n",
    "\n",
    "    input_sample = { 'title' : batch_features['title'], \n",
    "                        'description' : batch_features['desc'], \n",
    "                            'info' : batch_features['info'],\n",
    "                            'topics' : batch_features['topics'] }\n",
    "\n",
    "    return batch_triplets, input_sample, sim #sim"
   ]
  },
  {
   "cell_type": "code",
   "execution_count": 20,
   "metadata": {
    "colab": {
     "base_uri": "https://localhost:8080/",
     "height": 51
    },
    "colab_type": "code",
    "id": "PA5CIhgz7odW",
    "outputId": "ae98fdec-1d54-4b1f-ee0e-4c5633802a18",
    "scrolled": true
   },
   "outputs": [],
   "source": [
    "# %%time\n",
    "\n",
    "batch_size = 64\n",
    "batch_size_test = 128\n",
    "\n",
    "bug_test_ids = experiment.get_test_ids(baseline.test_data)\n",
    "\n",
    "# we want a constant validation group to have a frame of reference for model performance\n",
    "batch_triplets_valid, valid_input_sample, valid_sim = batch_iterator(baseline, retrieval, None, \n",
    "                                                                                      baseline.test_data, \n",
    "                                                                                      baseline.dup_sets_test,\n",
    "                                                                                      bug_test_ids,\n",
    "                                                                                      batch_size_test, 1,\n",
    "                                                                                      issues_by_buckets)\n",
    "\n",
    "validation_sample = [valid_input_sample['title']['token'], valid_input_sample['title']['segment'], \n",
    "                   valid_input_sample['description']['token'], valid_input_sample['description']['segment'],\n",
    "                   valid_input_sample['info'], valid_input_sample['topics'], valid_sim]\n",
    "\n",
    "# Categorical columns\n",
    "number_of_columns_info = valid_input_sample['info'].shape[1]\n",
    "# Max sequence title\n",
    "MAX_SEQUENCE_LENGTH_T = valid_input_sample['title']['token'].shape[1]\n",
    "MAX_SEQUENCE_LENGTH_D = valid_input_sample['description']['token'].shape[1]"
   ]
  },
  {
   "cell_type": "code",
   "execution_count": 21,
   "metadata": {},
   "outputs": [
    {
     "data": {
      "text/plain": [
       "((384, 100), (384, 100), (384, 100), (384, 100), (384, 738), (384, 30), (384,))"
      ]
     },
     "execution_count": 21,
     "metadata": {},
     "output_type": "execute_result"
    }
   ],
   "source": [
    "valid_input_sample['title']['token'].shape, \\\n",
    "valid_input_sample['description']['token'].shape, \\\n",
    "valid_input_sample['title']['segment'].shape, \\\n",
    "valid_input_sample['description']['segment'].shape, \\\n",
    "valid_input_sample['info'].shape, valid_input_sample['topics'].shape, \\\n",
    "valid_sim.shape"
   ]
  },
  {
   "cell_type": "markdown",
   "metadata": {
    "colab_type": "text",
    "id": "24mY22BGnkqp"
   },
   "source": [
    "### Validar entrada"
   ]
  },
  {
   "cell_type": "code",
   "execution_count": 22,
   "metadata": {
    "colab": {
     "base_uri": "https://localhost:8080/",
     "height": 796
    },
    "colab_type": "code",
    "id": "OhTbr3a5nmrh",
    "outputId": "a2d73e0f-e9ce-4d12-a5c8-f0008d2402d0",
    "scrolled": true
   },
   "outputs": [],
   "source": [
    "# %%time \n",
    "\n",
    "#baseline.display_batch(baseline.train_data, baseline.dup_sets_train, bug_train_ids, 5)"
   ]
  },
  {
   "cell_type": "code",
   "execution_count": 23,
   "metadata": {},
   "outputs": [
    {
     "data": {
      "text/plain": [
       "('Test ', 4116)"
      ]
     },
     "execution_count": 23,
     "metadata": {},
     "output_type": "execute_result"
    }
   ],
   "source": [
    "\"Test \", len(baseline.test_data)"
   ]
  },
  {
   "cell_type": "markdown",
   "metadata": {
    "colab_type": "text",
    "id": "XPrsLs4Kg4Pa"
   },
   "source": [
    "## Pre-trained embeddings\n",
    "\n",
    "Loading pretrained word vectors"
   ]
  },
  {
   "cell_type": "markdown",
   "metadata": {
    "colab_type": "text",
    "id": "6p9eE5TWoH7p"
   },
   "source": [
    "### Glove"
   ]
  },
  {
   "cell_type": "code",
   "execution_count": 24,
   "metadata": {},
   "outputs": [
    {
     "name": "stdout",
     "output_type": "stream",
     "text": [
      "vocabulary loaded\n"
     ]
    }
   ],
   "source": [
    "vocab = baseline.load_vocabulary(os.path.join(DIR, 'vocab_embed.pkl'))\n",
    "#print(np.random.choice(vocab, 10))\n",
    "# for token in vocab:\n",
    "#     print(token)"
   ]
  },
  {
   "cell_type": "code",
   "execution_count": 25,
   "metadata": {},
   "outputs": [
    {
     "data": {
      "text/plain": [
       "'Total vocabulary: 20031'"
      ]
     },
     "execution_count": 25,
     "metadata": {},
     "output_type": "execute_result"
    }
   ],
   "source": [
    "\"Total vocabulary: {}\".format(len(vocab))"
   ]
  },
  {
   "cell_type": "markdown",
   "metadata": {},
   "source": [
    "## Experiment"
   ]
  },
  {
   "cell_type": "markdown",
   "metadata": {
    "colab_type": "text",
    "id": "Lev5Y7oaFQBd"
   },
   "source": [
    "## Towards Accurate Duplicate Bug Retrieval Using Deep Learning Techniques\n",
    "\n",
    "https://github.com/tqtg/DuplicateBugFinder"
   ]
  },
  {
   "cell_type": "markdown",
   "metadata": {
    "colab_type": "text",
    "id": "sI074wU4Y13y"
   },
   "source": [
    "### BERT"
   ]
  },
  {
   "cell_type": "code",
   "execution_count": 26,
   "metadata": {
    "colab": {
     "base_uri": "https://localhost:8080/",
     "height": 493
    },
    "colab_type": "code",
    "id": "h6YJU9GtFTyq",
    "outputId": "f85cf105-1fd6-491d-d969-7e6936f32739",
    "scrolled": false
   },
   "outputs": [],
   "source": [
    "def bert_model(MAX_SEQUENCE_LENGTH, name):\n",
    "    layer_num = 8\n",
    "\n",
    "    model = load_trained_model_from_checkpoint(\n",
    "        config_path,\n",
    "        model_path,\n",
    "        training=True,\n",
    "        use_adapter=True,\n",
    "        seq_len=MAX_SEQUENCE_LENGTH,\n",
    "        trainable=['Encoder-{}-MultiHeadSelfAttention-Adapter'.format(i + 1) for i in range(12-layer_num, 13)] +\n",
    "        ['Encoder-{}-FeedForward-Adapter'.format(i + 1) for i in range(12-layer_num, 13)] +\n",
    "        ['Encoder-{}-MultiHeadSelfAttention-Norm'.format(i + 1) for i in range(12-layer_num, 13)] +\n",
    "        ['Encoder-{}-FeedForward-Norm'.format(i + 1) for i in range(layer_num)],\n",
    "    )\n",
    "\n",
    "    compile_model(model)\n",
    "    inputs = model.inputs[:2]\n",
    "    layers = ['Encoder-{}-MultiHeadSelfAttention-Adapter', 'Encoder-{}-FeedForward-Adapter', \n",
    "     'Encoder-{}-MultiHeadSelfAttention-Norm', 'Encoder-{}-FeedForward-Norm']\n",
    "    outputs = []\n",
    "    for i in range(1, 13):\n",
    "        outputs += [ model.get_layer(layer.format(layer_num)).output for layer in layers ]\n",
    "    outputs = Average()(outputs)\n",
    "    #outputs = model.get_layer('Extract').output\n",
    "    outputs = GlobalAveragePooling1D()(outputs)\n",
    "    outputs = Dense(300, activation='tanh')(outputs)\n",
    "    \n",
    "    model = Model(inputs, outputs, name='FeatureBERTGenerationModel{}'.format(name))\n",
    "    \n",
    "    return model"
   ]
  },
  {
   "cell_type": "markdown",
   "metadata": {},
   "source": [
    "### MLP"
   ]
  },
  {
   "cell_type": "code",
   "execution_count": 27,
   "metadata": {},
   "outputs": [],
   "source": [
    "def mlp_model(input_size):\n",
    "    info_input = Input(shape=(input_size, ), name='Feature_BugInput')\n",
    "    input_size = 300\n",
    "    \n",
    "    for units in [64, 32]:\n",
    "        layer = Dense(units, activation='tanh', kernel_initializer='random_uniform')(info_input)\n",
    "    \n",
    "    layer = Dense(input_size, activation='tanh')(info_input)\n",
    "    \n",
    "    mlp_feature_model = Model(inputs=[info_input], outputs=[layer], name = 'FeatureMlpGenerationModel')\n",
    "    \n",
    "    return mlp_feature_model"
   ]
  },
  {
   "cell_type": "markdown",
   "metadata": {},
   "source": [
    "### Single MLP"
   ]
  },
  {
   "cell_type": "code",
   "execution_count": 28,
   "metadata": {},
   "outputs": [],
   "source": [
    "def topic_model(input_size):\n",
    "    info_input = Input(shape=(input_size, ), name='FeatureTopic_BugInput')\n",
    "    input_size = 300\n",
    "    \n",
    "    layer = Dense(input_size, activation='tanh')(info_input)\n",
    "    \n",
    "    mlp_feature_model = Model(inputs=[info_input], outputs=[layer], name = 'FeatureTopicMlpGenerationModel')\n",
    "    \n",
    "    return mlp_feature_model"
   ]
  },
  {
   "cell_type": "markdown",
   "metadata": {
    "colab_type": "text",
    "id": "TEedCg5AaTf2"
   },
   "source": [
    "### Siamese model"
   ]
  },
  {
   "cell_type": "code",
   "execution_count": 29,
   "metadata": {},
   "outputs": [],
   "source": [
    "def pairwise_distance(feature, squared=False):\n",
    "    \"\"\"Computes the pairwise distance matrix with numerical stability.\n",
    "\n",
    "    output[i, j] = || feature[i, :] - feature[j, :] ||_2\n",
    "\n",
    "    Args:\n",
    "      feature: 2-D Tensor of size [number of data, feature dimension].\n",
    "      squared: Boolean, whether or not to square the pairwise distances.\n",
    "\n",
    "    Returns:\n",
    "      pairwise_distances: 2-D Tensor of size [number of data, number of data].\n",
    "    \"\"\"\n",
    "    pairwise_distances_squared = math_ops.add(\n",
    "        math_ops.reduce_sum(math_ops.square(feature), axis=[1], keepdims=True),\n",
    "        math_ops.reduce_sum(\n",
    "            math_ops.square(array_ops.transpose(feature)),\n",
    "            axis=[0],\n",
    "            keepdims=True)) - 2.0 * math_ops.matmul(feature,\n",
    "                                                    array_ops.transpose(feature))\n",
    "\n",
    "    # Deal with numerical inaccuracies. Set small negatives to zero.\n",
    "    pairwise_distances_squared = math_ops.maximum(pairwise_distances_squared, 0.0)\n",
    "    # Get the mask where the zero distances are at.\n",
    "    error_mask = math_ops.less_equal(pairwise_distances_squared, 0.0)\n",
    "\n",
    "    # Optionally take the sqrt.\n",
    "    if squared:\n",
    "        pairwise_distances = pairwise_distances_squared\n",
    "    else:\n",
    "        pairwise_distances = math_ops.sqrt(\n",
    "            pairwise_distances_squared + math_ops.to_float(error_mask) * 1e-16)\n",
    "\n",
    "    # Undo conditionally adding 1e-16.\n",
    "    pairwise_distances = math_ops.multiply(\n",
    "        pairwise_distances, math_ops.to_float(math_ops.logical_not(error_mask)))\n",
    "\n",
    "    num_data = array_ops.shape(feature)[0]\n",
    "    # Explicitly set diagonals to zero.\n",
    "    mask_offdiagonals = array_ops.ones_like(pairwise_distances) - array_ops.diag(\n",
    "        array_ops.ones([num_data]))\n",
    "    pairwise_distances = math_ops.multiply(pairwise_distances, mask_offdiagonals)\n",
    "    return pairwise_distances\n",
    "\n",
    "def masked_maximum(data, mask, dim=1):\n",
    "    \"\"\"Computes the axis wise maximum over chosen elements.\n",
    "\n",
    "    Args:\n",
    "      data: 2-D float `Tensor` of size [n, m].\n",
    "      mask: 2-D Boolean `Tensor` of size [n, m].\n",
    "      dim: The dimension over which to compute the maximum.\n",
    "\n",
    "    Returns:\n",
    "      masked_maximums: N-D `Tensor`.\n",
    "        The maximized dimension is of size 1 after the operation.\n",
    "    \"\"\"\n",
    "    axis_minimums = math_ops.reduce_min(data, dim, keepdims=True)\n",
    "    masked_maximums = math_ops.reduce_max(\n",
    "        math_ops.multiply(data - axis_minimums, mask), dim,\n",
    "        keepdims=True) + axis_minimums\n",
    "    return masked_maximums\n",
    "\n",
    "def masked_minimum(data, mask, dim=1):\n",
    "    \"\"\"Computes the axis wise minimum over chosen elements.\n",
    "\n",
    "    Args:\n",
    "      data: 2-D float `Tensor` of size [n, m].\n",
    "      mask: 2-D Boolean `Tensor` of size [n, m].\n",
    "      dim: The dimension over which to compute the minimum.\n",
    "\n",
    "    Returns:\n",
    "      masked_minimums: N-D `Tensor`.\n",
    "        The minimized dimension is of size 1 after the operation.\n",
    "    \"\"\"\n",
    "    axis_maximums = math_ops.reduce_max(data, dim, keepdims=True)\n",
    "    masked_minimums = math_ops.reduce_min(\n",
    "        math_ops.multiply(data - axis_maximums, mask), dim,\n",
    "        keepdims=True) + axis_maximums\n",
    "    return masked_minimums"
   ]
  },
  {
   "cell_type": "code",
   "execution_count": 30,
   "metadata": {},
   "outputs": [],
   "source": [
    "def quintet_loss(y_true, y_pred):\n",
    "    return triplet_loss(y_pred)\n",
    "\n",
    "def triplet_loss(vects):\n",
    "    #del y_true\n",
    "    margin = 1.\n",
    "    labels = vects[:, :1]\n",
    " \n",
    "    labels = tf.cast(labels, dtype='int32')\n",
    "\n",
    "    embeddings = vects[:, 1:]\n",
    "\n",
    "    ### Code from Tensorflow function [tf.contrib.losses.metric_learning.triplet_semihard_loss] starts here:\n",
    "    \n",
    "    # Reshape [batch_size] label tensor to a [batch_size, 1] label tensor.\n",
    "    # lshape=array_ops.shape(labels)\n",
    "    # assert lshape.shape == 1\n",
    "    # labels = array_ops.reshape(labels, [lshape[0], 1])\n",
    "\n",
    "    # Build pairwise squared distance matrix.\n",
    "    pdist_matrix = pairwise_distance(embeddings, squared=True)\n",
    "    # Build pairwise binary adjacency matrix.\n",
    "    adjacency = math_ops.equal(labels, array_ops.transpose(labels))\n",
    "    # Invert so we can select negatives only.\n",
    "    adjacency_not = math_ops.logical_not(adjacency)\n",
    "\n",
    "    # global batch_size  \n",
    "    batch_size = array_ops.size(labels) # was 'array_ops.size(labels)'\n",
    "\n",
    "    # Compute the mask.\n",
    "    pdist_matrix_tile = array_ops.tile(pdist_matrix, [batch_size, 1])\n",
    "    mask = math_ops.logical_and(\n",
    "        array_ops.tile(adjacency_not, [batch_size, 1]),\n",
    "        math_ops.greater(\n",
    "            pdist_matrix_tile, array_ops.reshape(\n",
    "                array_ops.transpose(pdist_matrix), [-1, 1])))\n",
    "    mask_final = array_ops.reshape(\n",
    "        math_ops.greater(\n",
    "            math_ops.reduce_sum(\n",
    "                math_ops.cast(mask, dtype=dtypes.float32), 1, keepdims=True),\n",
    "            0.0), [batch_size, batch_size])\n",
    "    mask_final = array_ops.transpose(mask_final)\n",
    "\n",
    "    adjacency_not = math_ops.cast(adjacency_not, dtype=dtypes.float32)\n",
    "    mask = math_ops.cast(mask, dtype=dtypes.float32)\n",
    "\n",
    "    # negatives_outside: smallest D_an where D_an > D_ap.\n",
    "    negatives_outside = array_ops.reshape(\n",
    "        masked_minimum(pdist_matrix_tile, mask), [batch_size, batch_size])\n",
    "    negatives_outside = array_ops.transpose(negatives_outside)\n",
    "\n",
    "    # negatives_inside: largest D_an.\n",
    "    negatives_inside = array_ops.tile(\n",
    "        masked_maximum(pdist_matrix, adjacency_not), [1, batch_size])\n",
    "    semi_hard_negatives = array_ops.where(\n",
    "        mask_final, negatives_outside, negatives_inside)\n",
    "\n",
    "    loss_mat = math_ops.add(margin, pdist_matrix - semi_hard_negatives)\n",
    "\n",
    "    mask_positives = math_ops.cast(\n",
    "        adjacency, dtype=dtypes.float32) - array_ops.diag(\n",
    "        array_ops.ones([batch_size]))\n",
    "\n",
    "    # In lifted-struct, the authors multiply 0.5 for upper triangular\n",
    "    #   in semihard, they take all positive pairs except the diagonal.\n",
    "    num_positives = math_ops.reduce_sum(mask_positives)\n",
    "\n",
    "    semi_hard_triplet_loss_distance = math_ops.truediv(\n",
    "        math_ops.reduce_sum(\n",
    "            math_ops.maximum(\n",
    "                math_ops.multiply(loss_mat, mask_positives), 0.0)),\n",
    "        num_positives,\n",
    "        name='triplet_semihard_loss')\n",
    "    \n",
    "    ### Code from Tensorflow function semi-hard triplet loss ENDS here.\n",
    "    return semi_hard_triplet_loss_distance"
   ]
  },
  {
   "cell_type": "code",
   "execution_count": 31,
   "metadata": {},
   "outputs": [],
   "source": [
    "def siamese_model(title_feature_model, desc_feature_model, categorical_feature_model, topic_feature_model, sequence_length_info, \n",
    "                  sequence_length_t, sequence_length_d, sequence_length_topics, name):\n",
    "  \n",
    "    # Title\n",
    "    bug_t_token = Input(shape = (sequence_length_t, ), name = 'title_token_{}'.format(name))\n",
    "    bug_t_segment = Input(shape = (sequence_length_t, ), name = 'title_segment_{}'.format(name))\n",
    "    # Description\n",
    "    bug_d_token = Input(shape = (sequence_length_d, ), name = 'desc_token_{}'.format(name))\n",
    "    bug_d_segment = Input(shape = (sequence_length_d, ), name = 'desc_segment_{}'.format(name))\n",
    "    # Categorical\n",
    "    bug_i = Input(shape = (sequence_length_info, ), name = 'info_{}'.format(name))\n",
    "    # Topics\n",
    "    bug_topics = Input(shape = (sequence_length_topics, ), name='topics_{}'.format(name))\n",
    "    \n",
    "    bug_t_feat = title_feature_model([bug_t_token, bug_t_segment])\n",
    "    bug_d_feat = desc_feature_model([bug_d_token, bug_d_segment])\n",
    "    bug_i_feat = categorical_feature_model(bug_i)\n",
    "    bug_topics_feat = topic_feature_model(bug_topics)\n",
    "    \n",
    "    #bug_feature_output = Add(name = 'merge_features_{}'.format(name))([bug_i_feat, bug_t_feat, bug_d_feat])\n",
    "    bug_feature_output = concatenate([bug_i_feat, bug_t_feat, bug_d_feat, bug_topics_feat], name = 'merge_features_{}'.format(name))\n",
    "    \n",
    "    bug_feature_model = Model(inputs=[bug_t_token, bug_t_segment, bug_d_token, bug_d_segment, bug_i, bug_topics], outputs=[bug_feature_output], name = 'merge_features_{}'.format(name))\n",
    "    \n",
    "    return bug_feature_model"
   ]
  },
  {
   "cell_type": "code",
   "execution_count": 32,
   "metadata": {},
   "outputs": [],
   "source": [
    "def max_margin_objective(encoded_anchor, decay_lr=1):\n",
    "    \n",
    "    input_labels = Input(shape=(1,), name='input_label')    # input layer for labels\n",
    "    inputs = np.concatenate([encoded_anchor.input, [input_labels]], -1).tolist()\n",
    "    \n",
    "    encoded_anchor = encoded_anchor.output\n",
    "    \n",
    "    output = concatenate([input_labels, encoded_anchor])  # concatenating the labels + embeddings\n",
    "    \n",
    "    similarity_model = Model(inputs = inputs, outputs = output, name = 'Similarity_Model')\n",
    "\n",
    "    #optimizer = Nadam(lr=1e-3, beta_1=0.9, beta_2=0.999, epsilon=K.epsilon(), schedule_decay=0.01)\n",
    "    # optimizer = Adam(lr=1e-3 * decay_lr, beta_1=0.9, beta_2=0.999, epsilon=None, decay=0.0, amsgrad=True)\n",
    "    \n",
    "    # setup the optimization process \n",
    "    similarity_model.compile(optimizer='adam', loss=quintet_loss) \n",
    "    # metrics=[pos_distance, neg_distance, custom_margin_loss]\n",
    "\n",
    "    return similarity_model"
   ]
  },
  {
   "cell_type": "code",
   "execution_count": 33,
   "metadata": {},
   "outputs": [],
   "source": [
    "def save_loss(result):\n",
    "    with open(os.path.join(DIR,'{}_log.pkl'.format(METHOD)), 'wb') as f:\n",
    "        pickle.dump(result, f)\n",
    "    print(\"=> result saved!\")"
   ]
  },
  {
   "cell_type": "code",
   "execution_count": 34,
   "metadata": {},
   "outputs": [],
   "source": [
    "# Domain to use\n",
    "limit_train = int(epochs * freeze_train) # 10% de 1000 , 100 epocas\n",
    "METHOD = 'deepTL_topics_{}'.format(limit_train)\n",
    "SAVE_PATH = '{}_preprocessing_{}_feature@number_of_epochs@epochs_64batch({})'.format(PREPROCESSING, METHOD, DOMAIN)\n",
    "SAVE_PATH_FEATURE = '{}_preprocessing_{}_feature_@number_of_epochs@epochs_64batch({})'.format(PREPROCESSING, METHOD, DOMAIN)"
   ]
  },
  {
   "cell_type": "code",
   "execution_count": 35,
   "metadata": {
    "scrolled": true
   },
   "outputs": [
    {
     "name": "stdout",
     "output_type": "stream",
     "text": [
      "WARNING:tensorflow:From /usr/local/lib/python3.5/dist-packages/keras/backend/tensorflow_backend.py:95: The name tf.reset_default_graph is deprecated. Please use tf.compat.v1.reset_default_graph instead.\n",
      "\n",
      "WARNING:tensorflow:From /usr/local/lib/python3.5/dist-packages/keras/backend/tensorflow_backend.py:98: The name tf.placeholder_with_default is deprecated. Please use tf.compat.v1.placeholder_with_default instead.\n",
      "\n",
      "WARNING:tensorflow:From /usr/local/lib/python3.5/dist-packages/keras/backend/tensorflow_backend.py:102: The name tf.get_default_graph is deprecated. Please use tf.compat.v1.get_default_graph instead.\n",
      "\n",
      "WARNING:tensorflow:From /usr/local/lib/python3.5/dist-packages/keras/backend/tensorflow_backend.py:517: The name tf.placeholder is deprecated. Please use tf.compat.v1.placeholder instead.\n",
      "\n",
      "WARNING:tensorflow:From /usr/local/lib/python3.5/dist-packages/keras/backend/tensorflow_backend.py:4138: The name tf.random_uniform is deprecated. Please use tf.random.uniform instead.\n",
      "\n",
      "WARNING:tensorflow:From /usr/local/lib/python3.5/dist-packages/keras/backend/tensorflow_backend.py:3445: calling dropout (from tensorflow.python.ops.nn_ops) with keep_prob is deprecated and will be removed in a future version.\n",
      "Instructions for updating:\n",
      "Please use `rate` instead of `keep_prob`. Rate should be set to `rate = 1 - keep_prob`.\n",
      "WARNING:tensorflow:From /usr/local/lib/python3.5/dist-packages/keras/backend/tensorflow_backend.py:4185: The name tf.truncated_normal is deprecated. Please use tf.random.truncated_normal instead.\n",
      "\n",
      "WARNING:tensorflow:From /usr/local/lib/python3.5/dist-packages/keras/backend/tensorflow_backend.py:174: The name tf.get_default_session is deprecated. Please use tf.compat.v1.get_default_session instead.\n",
      "\n",
      "WARNING:tensorflow:From /usr/local/lib/python3.5/dist-packages/keras/backend/tensorflow_backend.py:181: The name tf.ConfigProto is deprecated. Please use tf.compat.v1.ConfigProto instead.\n",
      "\n",
      "WARNING:tensorflow:From /usr/local/lib/python3.5/dist-packages/keras/backend/tensorflow_backend.py:186: The name tf.Session is deprecated. Please use tf.compat.v1.Session instead.\n",
      "\n",
      "WARNING:tensorflow:From /usr/local/lib/python3.5/dist-packages/keras/backend/tensorflow_backend.py:190: The name tf.global_variables is deprecated. Please use tf.compat.v1.global_variables instead.\n",
      "\n",
      "WARNING:tensorflow:From /usr/local/lib/python3.5/dist-packages/keras/backend/tensorflow_backend.py:199: The name tf.is_variable_initialized is deprecated. Please use tf.compat.v1.is_variable_initialized instead.\n",
      "\n",
      "WARNING:tensorflow:From /usr/local/lib/python3.5/dist-packages/keras/backend/tensorflow_backend.py:206: The name tf.variables_initializer is deprecated. Please use tf.compat.v1.variables_initializer instead.\n",
      "\n",
      "WARNING:tensorflow:From /usr/local/lib/python3.5/dist-packages/keras/optimizers.py:790: The name tf.train.Optimizer is deprecated. Please use tf.compat.v1.train.Optimizer instead.\n",
      "\n",
      "WARNING:tensorflow:From /usr/local/lib/python3.5/dist-packages/keras/backend/tensorflow_backend.py:3341: The name tf.log is deprecated. Please use tf.math.log instead.\n",
      "\n",
      "WARNING:tensorflow:From <ipython-input-29-cd325db98846>:35: to_float (from tensorflow.python.ops.math_ops) is deprecated and will be removed in a future version.\n",
      "Instructions for updating:\n",
      "Use `tf.cast` instead.\n",
      "WARNING:tensorflow:From <ipython-input-30-fac84d1514a8>:56: where (from tensorflow.python.ops.array_ops) is deprecated and will be removed in a future version.\n",
      "Instructions for updating:\n",
      "Use tf.where in 2.0, which has the same broadcast rule as np.where\n",
      "__________________________________________________________________________________________________\n",
      "Layer (type)                    Output Shape         Param #     Connected to                     \n",
      "==================================================================================================\n",
      "info_in (InputLayer)            (None, 738)          0                                            \n",
      "__________________________________________________________________________________________________\n",
      "title_token_in (InputLayer)     (None, 100)          0                                            \n",
      "__________________________________________________________________________________________________\n",
      "title_segment_in (InputLayer)   (None, 100)          0                                            \n",
      "__________________________________________________________________________________________________\n",
      "desc_token_in (InputLayer)      (None, 100)          0                                            \n",
      "__________________________________________________________________________________________________\n",
      "desc_segment_in (InputLayer)    (None, 100)          0                                            \n",
      "__________________________________________________________________________________________________\n",
      "topics_in (InputLayer)          (None, 30)           0                                            \n",
      "__________________________________________________________________________________________________\n",
      "FeatureMlpGenerationModel (Mode (None, 300)          221700      info_in[0][0]                    \n",
      "__________________________________________________________________________________________________\n",
      "FeatureBERTGenerationModelTitle (None, 300)          80638876    title_token_in[0][0]             \n",
      "                                                                 title_segment_in[0][0]           \n",
      "__________________________________________________________________________________________________\n",
      "FeatureBERTGenerationModelDescr (None, 300)          80638876    desc_token_in[0][0]              \n",
      "                                                                 desc_segment_in[0][0]            \n",
      "__________________________________________________________________________________________________\n",
      "FeatureTopicMlpGenerationModel  (None, 300)          9300        topics_in[0][0]                  \n",
      "__________________________________________________________________________________________________\n",
      "input_label (InputLayer)        (None, 1)            0                                            \n",
      "__________________________________________________________________________________________________\n",
      "merge_features_in (Concatenate) (None, 1200)         0           FeatureMlpGenerationModel[1][0]  \n",
      "                                                                 FeatureBERTGenerationModelTitle[1\n",
      "                                                                 FeatureBERTGenerationModelDescrip\n",
      "                                                                 FeatureTopicMlpGenerationModel[1]\n",
      "__________________________________________________________________________________________________\n",
      "concatenate_1 (Concatenate)     (None, 1201)         0           input_label[0][0]                \n",
      "                                                                 merge_features_in[0][0]          \n",
      "==================================================================================================\n",
      "Total params: 161,508,752\n",
      "Trainable params: 913,696\n",
      "Non-trainable params: 160,595,056\n",
      "__________________________________________________________________________________________________\n",
      "Total of  100\n",
      "WARNING:tensorflow:From /usr/local/lib/python3.5/dist-packages/keras/backend/tensorflow_backend.py:986: The name tf.assign_add is deprecated. Please use tf.compat.v1.assign_add instead.\n",
      "\n",
      "WARNING:tensorflow:From /usr/local/lib/python3.5/dist-packages/keras/backend/tensorflow_backend.py:973: The name tf.assign is deprecated. Please use tf.compat.v1.assign instead.\n",
      "\n",
      "Epoch: 1 Loss: 0.81, Loss_test: 0.76\n",
      "Epoch: 2 Loss: 0.75, Loss_test: 0.75\n",
      "Epoch: 3 Loss: 0.82, Loss_test: 0.74\n",
      "Epoch: 4 Loss: 0.68, Loss_test: 0.74\n",
      "Epoch: 5 Loss: 0.70, Loss_test: 0.74\n",
      "Epoch: 6 Loss: 0.68, Loss_test: 0.73\n",
      "Epoch: 7 Loss: 0.70, Loss_test: 0.73\n",
      "Epoch: 8 Loss: 0.63, Loss_test: 0.73\n",
      "Epoch: 9 Loss: 0.63, Loss_test: 0.72\n",
      "=> result saved!\n",
      "Epoch: 10 Loss: 0.60, Loss_test: 0.71\n",
      "Epoch: 11 Loss: 0.65, Loss_test: 0.71\n",
      "Epoch: 12 Loss: 0.59, Loss_test: 0.70\n",
      "Epoch: 13 Loss: 0.52, Loss_test: 0.69\n",
      "Epoch: 14 Loss: 0.39, Loss_test: 0.69\n",
      "Epoch: 15 Loss: 0.53, Loss_test: 0.68\n",
      "Epoch: 16 Loss: 0.57, Loss_test: 0.68\n",
      "Epoch: 17 Loss: 0.60, Loss_test: 0.67\n"
     ]
    },
    {
     "name": "stdout",
     "output_type": "stream",
     "text": [
      "Epoch: 18 Loss: 0.52, Loss_test: 0.67\n",
      "Epoch: 19 Loss: 0.41, Loss_test: 0.66\n",
      "=> result saved!\n",
      "Epoch: 20 Loss: 0.45, Loss_test: 0.66\n",
      "Epoch: 21 Loss: 0.43, Loss_test: 0.66\n",
      "Epoch: 22 Loss: 0.40, Loss_test: 0.66\n",
      "Epoch: 23 Loss: 0.48, Loss_test: 0.66\n",
      "Epoch: 24 Loss: 0.43, Loss_test: 0.66\n",
      "Epoch: 25 Loss: 0.47, Loss_test: 0.65\n",
      "Epoch: 26 Loss: 0.36, Loss_test: 0.64\n",
      "Epoch: 27 Loss: 0.29, Loss_test: 0.64\n",
      "Epoch: 28 Loss: 0.48, Loss_test: 0.64\n",
      "Epoch: 29 Loss: 0.40, Loss_test: 0.63\n",
      "=> result saved!\n",
      "Epoch: 30 Loss: 0.44, Loss_test: 0.63\n",
      "Epoch: 31 Loss: 0.36, Loss_test: 0.63\n",
      "Epoch: 32 Loss: 0.30, Loss_test: 0.63\n",
      "Epoch: 33 Loss: 0.28, Loss_test: 0.62\n",
      "Epoch: 34 Loss: 0.34, Loss_test: 0.62\n",
      "Epoch: 35 Loss: 0.41, Loss_test: 0.62\n",
      "Epoch: 36 Loss: 0.34, Loss_test: 0.61\n",
      "Epoch: 37 Loss: 0.15, Loss_test: 0.62\n",
      "Epoch: 38 Loss: 0.41, Loss_test: 0.61\n",
      "Epoch: 39 Loss: 0.33, Loss_test: 0.61\n",
      "=> result saved!\n",
      "Epoch: 40 Loss: 0.21, Loss_test: 0.62\n",
      "Epoch: 41 Loss: 0.16, Loss_test: 0.62\n",
      "Epoch: 42 Loss: 0.17, Loss_test: 0.62\n",
      "Epoch: 43 Loss: 0.32, Loss_test: 0.62\n",
      "Epoch: 44 Loss: 0.30, Loss_test: 0.61\n",
      "Epoch: 45 Loss: 0.18, Loss_test: 0.61\n",
      "Epoch: 46 Loss: 0.28, Loss_test: 0.61\n",
      "Epoch: 47 Loss: 0.15, Loss_test: 0.61\n",
      "Epoch: 48 Loss: 0.20, Loss_test: 0.61\n",
      "Epoch: 49 Loss: 0.24, Loss_test: 0.60\n",
      "=> result saved!\n",
      "Epoch: 50 Loss: 0.29, Loss_test: 0.59\n",
      "Epoch: 51 Loss: 0.30, Loss_test: 0.58\n",
      "Epoch: 52 Loss: 0.22, Loss_test: 0.58\n",
      "Epoch: 53 Loss: 0.12, Loss_test: 0.57\n",
      "Epoch: 54 Loss: 0.33, Loss_test: 0.56\n",
      "Epoch: 55 Loss: 0.34, Loss_test: 0.56\n",
      "Epoch: 56 Loss: 0.24, Loss_test: 0.56\n",
      "Epoch: 57 Loss: 0.17, Loss_test: 0.55\n",
      "Epoch: 58 Loss: 0.23, Loss_test: 0.54\n",
      "Epoch: 59 Loss: 0.23, Loss_test: 0.55\n",
      "=> result saved!\n",
      "Epoch: 60 Loss: 0.18, Loss_test: 0.55\n",
      "Epoch: 61 Loss: 0.14, Loss_test: 0.54\n",
      "Epoch: 62 Loss: 0.16, Loss_test: 0.55\n",
      "Epoch: 63 Loss: 0.20, Loss_test: 0.56\n",
      "Epoch: 64 Loss: 0.29, Loss_test: 0.56\n",
      "Epoch: 65 Loss: 0.17, Loss_test: 0.55\n",
      "Epoch: 66 Loss: 0.34, Loss_test: 0.56\n",
      "Epoch: 67 Loss: 0.10, Loss_test: 0.56\n",
      "Epoch: 68 Loss: 0.19, Loss_test: 0.55\n",
      "Epoch: 69 Loss: 0.14, Loss_test: 0.54\n",
      "=> result saved!\n",
      "Epoch: 70 Loss: 0.17, Loss_test: 0.54\n",
      "Epoch: 71 Loss: 0.20, Loss_test: 0.53\n",
      "Epoch: 72 Loss: 0.09, Loss_test: 0.53\n",
      "Epoch: 73 Loss: 0.29, Loss_test: 0.52\n",
      "Epoch: 74 Loss: 0.18, Loss_test: 0.53\n",
      "Epoch: 75 Loss: 0.32, Loss_test: 0.52\n",
      "Epoch: 76 Loss: 0.21, Loss_test: 0.51\n",
      "Epoch: 77 Loss: 0.24, Loss_test: 0.52\n",
      "Epoch: 78 Loss: 0.23, Loss_test: 0.52\n",
      "Epoch: 79 Loss: 0.22, Loss_test: 0.51\n",
      "=> result saved!\n",
      "Epoch: 80 Loss: 0.29, Loss_test: 0.52\n",
      "Epoch: 81 Loss: 0.19, Loss_test: 0.52\n",
      "Epoch: 82 Loss: 0.19, Loss_test: 0.53\n",
      "Epoch: 83 Loss: 0.17, Loss_test: 0.53\n",
      "Epoch: 84 Loss: 0.19, Loss_test: 0.53\n",
      "Epoch: 85 Loss: 0.10, Loss_test: 0.53\n",
      "Epoch: 86 Loss: 0.11, Loss_test: 0.54\n",
      "Epoch: 87 Loss: 0.09, Loss_test: 0.54\n",
      "Epoch: 88 Loss: 0.17, Loss_test: 0.54\n",
      "Epoch: 89 Loss: 0.17, Loss_test: 0.55\n",
      "=> result saved!\n",
      "Epoch: 90 Loss: 0.14, Loss_test: 0.54\n",
      "Epoch: 91 Loss: 0.17, Loss_test: 0.54\n",
      "Epoch: 92 Loss: 0.28, Loss_test: 0.54\n",
      "Epoch: 93 Loss: 0.20, Loss_test: 0.54\n",
      "Epoch: 94 Loss: 0.18, Loss_test: 0.53\n",
      "Epoch: 95 Loss: 0.12, Loss_test: 0.53\n",
      "Epoch: 96 Loss: 0.15, Loss_test: 0.53\n",
      "Epoch: 97 Loss: 0.13, Loss_test: 0.53\n",
      "Epoch: 98 Loss: 0.15, Loss_test: 0.52\n",
      "Epoch: 99 Loss: 0.11, Loss_test: 0.52\n",
      "=> result saved!\n",
      "Epoch: 100 Loss: 0.12, Loss_test: 0.52, recall@25: 0.80\n",
      "Best_epoch=87, Best_loss=0.09, Recall@25=0.80\n"
     ]
    }
   ],
   "source": [
    "# %%time\n",
    "\n",
    "# Inspired on https://'pastebin.com/TaGFdcBA\n",
    "# TODO: https://stackoverflow.com/questions/49941903/keras-compute-cosine-distance-between-two-flattened-outputs\n",
    "keras.backend.clear_session()\n",
    "\n",
    "# Clear GPU memory\n",
    "# from numba import cuda\n",
    "# cuda.select_device(0)\n",
    "# cuda.close()\n",
    "\n",
    "# Feature models\n",
    "'''\n",
    "    cnn_model\n",
    "    lstm_model\n",
    "    mlp_model\n",
    "'''\n",
    "title_feature_model = bert_model(MAX_SEQUENCE_LENGTH_T, 'Title')\n",
    "desc_feature_model = bert_model(MAX_SEQUENCE_LENGTH_D, 'Description')\n",
    "categorical_feature_model = mlp_model(number_of_columns_info)\n",
    "topic_feature_model = topic_model(TOPIC_SEQUENCE)\n",
    "\n",
    "# Similarity model\n",
    "encoded_anchor = siamese_model(title_feature_model, desc_feature_model, categorical_feature_model, topic_feature_model,\n",
    "                                     number_of_columns_info, MAX_SEQUENCE_LENGTH_T, MAX_SEQUENCE_LENGTH_D, TOPIC_SEQUENCE, 'in')\n",
    "\n",
    "similarity_model = max_margin_objective(encoded_anchor, decay_lr=1)\n",
    "\n",
    "# cnn_feature_model.summary()\n",
    "# lstm_feature_model.summary()\n",
    "similarity_model.summary()\n",
    "\n",
    "'''\n",
    "    Experiment\n",
    "'''\n",
    "result = { 'train' : [], 'test' : [] }\n",
    "print(\"Total of \", limit_train)\n",
    "for epoch in range(limit_train):\n",
    "    batch_triplet_train, \\\n",
    "        train_input_sample, train_sim = batch_iterator(baseline, retrieval, encoded_anchor, baseline.train_data, \n",
    "                                                       baseline.dup_sets_train, bug_train_ids, \n",
    "                                                           batch_size, 1, issues_by_buckets, TRIPLET_HARD=False)\n",
    "    train_batch = [train_input_sample['title']['token'], train_input_sample['title']['segment'], \n",
    "                   train_input_sample['description']['token'], train_input_sample['description']['segment'],\n",
    "                   train_input_sample['info'], train_input_sample['topics'], train_sim]\n",
    "    \n",
    "#     if epoch == 10:\n",
    "#         similarity_model = max_margin_objective(encoded_anchor, encoded_positive, encoded_negative, decay_lr=0.1)\n",
    "    \n",
    "    h = similarity_model.train_on_batch(x=train_batch, y=train_sim)\n",
    "    h_validation = similarity_model.test_on_batch(x=validation_sample, y=valid_sim)\n",
    "    \n",
    "    # save results\n",
    "    result['train'].append([h])\n",
    "    result['test'].append([h_validation])\n",
    "    \n",
    "    if( (epoch+1) % 10 == 0 or (epoch+1 == limit_train) ):\n",
    "        save_loss(result)\n",
    "    \n",
    "    if (epoch+1 == limit_train): #(epoch > 1 and epoch % 10 == 0) or (epoch+1 == epochs):\n",
    "        recall, exported_rank, debug = experiment.evaluate_validation_test(retrieval, verbose, encoded_anchor, issues_by_buckets, \n",
    "                                                               bug_train_ids, method='bert-topic')\n",
    "        print(\"Epoch: {} Loss: {:.2f}, Loss_test: {:.2f}, recall@25: {:.2f}\".format(epoch+1, h, h_validation, recall))\n",
    "    else:\n",
    "        print(\"Epoch: {} Loss: {:.2f}, Loss_test: {:.2f}\".format(epoch+1, h, h_validation))\n",
    "    loss = h\n",
    "    \n",
    "    if loss < best_loss:\n",
    "        best_loss = loss\n",
    "        best_epoch = epoch+1\n",
    "\n",
    "#experiment.save_model(similarity_model, SAVE_PATH.replace('@number_of_epochs@', str(epochs)))\n",
    "#experiment.save_model(encoded_anchor, SAVE_PATH_FEATURE.replace('@number_of_epochs@', str(epochs)), verbose=1)\n",
    "print('Best_epoch={}, Best_loss={:.2f}, Recall@25={:.2f}'.format(best_epoch, best_loss, recall))"
   ]
  },
  {
   "cell_type": "code",
   "execution_count": 36,
   "metadata": {},
   "outputs": [
    {
     "name": "stdout",
     "output_type": "stream",
     "text": [
      "data/processed/openoffice/bert/exported_rank_deepTL_topics_100.txt\n"
     ]
    }
   ],
   "source": [
    "EXPORT_RANK_PATH = os.path.join(DIR, 'exported_rank_{}.txt'.format(METHOD))\n",
    "print(EXPORT_RANK_PATH)"
   ]
  },
  {
   "cell_type": "code",
   "execution_count": 37,
   "metadata": {},
   "outputs": [],
   "source": [
    "with open(EXPORT_RANK_PATH, 'w') as file_out:\n",
    "    for row in exported_rank:\n",
    "        file_out.write(row + \"\\n\")"
   ]
  },
  {
   "cell_type": "code",
   "execution_count": 38,
   "metadata": {},
   "outputs": [
    {
     "name": "stdout",
     "output_type": "stream",
     "text": [
      "Saved model 'modelos/model_bert_preprocessing_deepTL_topics_100_feature_100epochs_64batch(openoffice).h5' to disk\n"
     ]
    }
   ],
   "source": [
    "experiment.save_model(similarity_model, SAVE_PATH.replace('@number_of_epochs@', str(limit_train)))\n",
    "experiment.save_model(encoded_anchor, SAVE_PATH_FEATURE.replace('@number_of_epochs@', str(limit_train)), verbose=1)"
   ]
  },
  {
   "cell_type": "code",
   "execution_count": 39,
   "metadata": {},
   "outputs": [
    {
     "data": {
      "text/plain": [
       "(100, 100)"
      ]
     },
     "execution_count": 39,
     "metadata": {},
     "output_type": "execute_result"
    }
   ],
   "source": [
    "len(result['train']), len(result['test'])"
   ]
  },
  {
   "cell_type": "code",
   "execution_count": 40,
   "metadata": {},
   "outputs": [
    {
     "name": "stdout",
     "output_type": "stream",
     "text": [
      "__________________________________________________________________________________________________\n",
      "Layer (type)                    Output Shape         Param #     Connected to                     \n",
      "==================================================================================================\n",
      "info_in (InputLayer)            (None, 738)          0                                            \n",
      "__________________________________________________________________________________________________\n",
      "title_token_in (InputLayer)     (None, 100)          0                                            \n",
      "__________________________________________________________________________________________________\n",
      "title_segment_in (InputLayer)   (None, 100)          0                                            \n",
      "__________________________________________________________________________________________________\n",
      "desc_token_in (InputLayer)      (None, 100)          0                                            \n",
      "__________________________________________________________________________________________________\n",
      "desc_segment_in (InputLayer)    (None, 100)          0                                            \n",
      "__________________________________________________________________________________________________\n",
      "topics_in (InputLayer)          (None, 30)           0                                            \n",
      "__________________________________________________________________________________________________\n",
      "FeatureMlpGenerationModel (Mode (None, 300)          221700      info_in[0][0]                    \n",
      "__________________________________________________________________________________________________\n",
      "FeatureBERTGenerationModelTitle (None, 300)          80638876    title_token_in[0][0]             \n",
      "                                                                 title_segment_in[0][0]           \n",
      "__________________________________________________________________________________________________\n",
      "FeatureBERTGenerationModelDescr (None, 300)          80638876    desc_token_in[0][0]              \n",
      "                                                                 desc_segment_in[0][0]            \n",
      "__________________________________________________________________________________________________\n",
      "FeatureTopicMlpGenerationModel  (None, 300)          9300        topics_in[0][0]                  \n",
      "__________________________________________________________________________________________________\n",
      "input_label (InputLayer)        (None, 1)            0                                            \n",
      "__________________________________________________________________________________________________\n",
      "merge_features_in (Concatenate) (None, 1200)         0           FeatureMlpGenerationModel[1][0]  \n",
      "                                                                 FeatureBERTGenerationModelTitle[1\n",
      "                                                                 FeatureBERTGenerationModelDescrip\n",
      "                                                                 FeatureTopicMlpGenerationModel[1]\n",
      "__________________________________________________________________________________________________\n",
      "concatenate_1 (Concatenate)     (None, 1201)         0           input_label[0][0]                \n",
      "                                                                 merge_features_in[0][0]          \n",
      "==================================================================================================\n",
      "Total params: 161,508,752\n",
      "Trainable params: 913,696\n",
      "Non-trainable params: 160,595,056\n",
      "__________________________________________________________________________________________________\n"
     ]
    }
   ],
   "source": [
    "model = similarity_model.get_layer('concatenate_1')\n",
    "output = model.output\n",
    "inputs = similarity_model.inputs\n",
    "model = Model(inputs = inputs, outputs = output, name = 'Similarity_Model')\n",
    "\n",
    "# setup the optimization process \n",
    "model.compile(optimizer='adam', loss=quintet_loss)\n",
    "model.summary()"
   ]
  },
  {
   "cell_type": "code",
   "execution_count": 41,
   "metadata": {},
   "outputs": [],
   "source": [
    "# Domain to use\n",
    "METHOD = 'deepTL_topics_{}'.format(epochs)\n",
    "SAVE_PATH = '{}_preprocessing_{}_feature@number_of_epochs@epochs_64batch({})'.format(PREPROCESSING, METHOD, DOMAIN)\n",
    "SAVE_PATH_FEATURE = '{}_preprocessing_{}_feature_@number_of_epochs@epochs_64batch({})'.format(PREPROCESSING, METHOD, DOMAIN)"
   ]
  },
  {
   "cell_type": "code",
   "execution_count": null,
   "metadata": {
    "scrolled": true
   },
   "outputs": [
    {
     "name": "stdout",
     "output_type": "stream",
     "text": [
      "Epoch: 101 Loss: 0.17, Loss_test: 0.52\n",
      "Epoch: 102 Loss: 0.13, Loss_test: 0.52\n",
      "Epoch: 103 Loss: 0.16, Loss_test: 0.53\n",
      "Epoch: 104 Loss: 0.19, Loss_test: 0.55\n",
      "Epoch: 105 Loss: 0.17, Loss_test: 0.55\n",
      "Epoch: 106 Loss: 0.20, Loss_test: 0.54\n",
      "Epoch: 107 Loss: 0.17, Loss_test: 0.54\n",
      "Epoch: 108 Loss: 0.24, Loss_test: 0.54\n",
      "Epoch: 109 Loss: 0.14, Loss_test: 0.53\n",
      "=> result saved!\n",
      "Epoch: 110 Loss: 0.10, Loss_test: 0.52\n",
      "Epoch: 111 Loss: 0.14, Loss_test: 0.50\n",
      "Epoch: 112 Loss: 0.15, Loss_test: 0.50\n",
      "Epoch: 113 Loss: 0.21, Loss_test: 0.49\n",
      "Epoch: 114 Loss: 0.24, Loss_test: 0.48\n",
      "Epoch: 115 Loss: 0.20, Loss_test: 0.47\n",
      "Epoch: 116 Loss: 0.21, Loss_test: 0.47\n",
      "Epoch: 117 Loss: 0.13, Loss_test: 0.46\n",
      "Epoch: 118 Loss: 0.12, Loss_test: 0.46\n",
      "Epoch: 119 Loss: 0.21, Loss_test: 0.45\n",
      "=> result saved!\n",
      "Epoch: 120 Loss: 0.18, Loss_test: 0.45\n",
      "Epoch: 121 Loss: 0.15, Loss_test: 0.45\n",
      "Epoch: 122 Loss: 0.27, Loss_test: 0.45\n",
      "Epoch: 123 Loss: 0.21, Loss_test: 0.45\n",
      "Epoch: 124 Loss: 0.17, Loss_test: 0.45\n",
      "Epoch: 125 Loss: 0.13, Loss_test: 0.44\n",
      "Epoch: 126 Loss: 0.12, Loss_test: 0.44\n",
      "Epoch: 127 Loss: 0.16, Loss_test: 0.45\n",
      "Epoch: 128 Loss: 0.12, Loss_test: 0.45\n",
      "Epoch: 129 Loss: 0.19, Loss_test: 0.45\n",
      "=> result saved!\n",
      "Epoch: 130 Loss: 0.08, Loss_test: 0.46\n",
      "Epoch: 131 Loss: 0.13, Loss_test: 0.46\n",
      "Epoch: 132 Loss: 0.33, Loss_test: 0.46\n",
      "Epoch: 133 Loss: 0.15, Loss_test: 0.46\n",
      "Epoch: 134 Loss: 0.19, Loss_test: 0.47\n",
      "Epoch: 135 Loss: 0.17, Loss_test: 0.47\n",
      "Epoch: 136 Loss: 0.11, Loss_test: 0.47\n",
      "Epoch: 137 Loss: 0.14, Loss_test: 0.47\n",
      "Epoch: 138 Loss: 0.13, Loss_test: 0.46\n",
      "Epoch: 139 Loss: 0.21, Loss_test: 0.46\n",
      "=> result saved!\n",
      "Epoch: 140 Loss: 0.09, Loss_test: 0.47\n",
      "Epoch: 141 Loss: 0.10, Loss_test: 0.47\n",
      "Epoch: 142 Loss: 0.11, Loss_test: 0.47\n",
      "Epoch: 143 Loss: 0.15, Loss_test: 0.47\n",
      "Epoch: 144 Loss: 0.10, Loss_test: 0.47\n",
      "Epoch: 145 Loss: 0.18, Loss_test: 0.47\n",
      "Epoch: 146 Loss: 0.12, Loss_test: 0.47\n",
      "Epoch: 147 Loss: 0.13, Loss_test: 0.48\n",
      "Epoch: 148 Loss: 0.10, Loss_test: 0.50\n",
      "Epoch: 149 Loss: 0.20, Loss_test: 0.50\n",
      "=> result saved!\n",
      "Epoch: 150 Loss: 0.13, Loss_test: 0.50\n",
      "Epoch: 151 Loss: 0.14, Loss_test: 0.50\n",
      "Epoch: 152 Loss: 0.07, Loss_test: 0.51\n",
      "Epoch: 153 Loss: 0.14, Loss_test: 0.51\n",
      "Epoch: 154 Loss: 0.17, Loss_test: 0.50\n",
      "Epoch: 155 Loss: 0.25, Loss_test: 0.50\n",
      "Epoch: 156 Loss: 0.08, Loss_test: 0.51\n",
      "Epoch: 157 Loss: 0.18, Loss_test: 0.51\n",
      "Epoch: 158 Loss: 0.12, Loss_test: 0.51\n",
      "Epoch: 159 Loss: 0.09, Loss_test: 0.51\n",
      "=> result saved!\n",
      "Epoch: 160 Loss: 0.07, Loss_test: 0.50\n",
      "Epoch: 161 Loss: 0.14, Loss_test: 0.49\n",
      "Epoch: 162 Loss: 0.11, Loss_test: 0.49\n",
      "Epoch: 163 Loss: 0.12, Loss_test: 0.50\n",
      "Epoch: 164 Loss: 0.19, Loss_test: 0.49\n",
      "Epoch: 165 Loss: 0.07, Loss_test: 0.49\n",
      "Epoch: 166 Loss: 0.07, Loss_test: 0.48\n",
      "Epoch: 167 Loss: 0.17, Loss_test: 0.47\n",
      "Epoch: 168 Loss: 0.23, Loss_test: 0.46\n",
      "Epoch: 169 Loss: 0.14, Loss_test: 0.46\n",
      "=> result saved!\n",
      "Epoch: 170 Loss: 0.06, Loss_test: 0.46\n",
      "Epoch: 171 Loss: 0.11, Loss_test: 0.45\n",
      "Epoch: 172 Loss: 0.09, Loss_test: 0.45\n",
      "Epoch: 173 Loss: 0.14, Loss_test: 0.44\n",
      "Epoch: 174 Loss: 0.10, Loss_test: 0.44\n",
      "Epoch: 175 Loss: 0.14, Loss_test: 0.44\n",
      "Epoch: 176 Loss: 0.10, Loss_test: 0.44\n",
      "Epoch: 177 Loss: 0.10, Loss_test: 0.44\n",
      "Epoch: 178 Loss: 0.08, Loss_test: 0.44\n",
      "Epoch: 179 Loss: 0.22, Loss_test: 0.45\n",
      "=> result saved!\n",
      "Epoch: 180 Loss: 0.04, Loss_test: 0.44\n",
      "Epoch: 181 Loss: 0.11, Loss_test: 0.45\n",
      "Epoch: 182 Loss: 0.09, Loss_test: 0.45\n",
      "Epoch: 183 Loss: 0.09, Loss_test: 0.45\n",
      "Epoch: 184 Loss: 0.12, Loss_test: 0.44\n",
      "Epoch: 185 Loss: 0.12, Loss_test: 0.44\n",
      "Epoch: 186 Loss: 0.17, Loss_test: 0.44\n",
      "Epoch: 187 Loss: 0.05, Loss_test: 0.44\n",
      "Epoch: 188 Loss: 0.13, Loss_test: 0.43\n",
      "Epoch: 189 Loss: 0.09, Loss_test: 0.43\n",
      "=> result saved!\n",
      "Epoch: 190 Loss: 0.08, Loss_test: 0.44\n",
      "Epoch: 191 Loss: 0.11, Loss_test: 0.44\n",
      "Epoch: 192 Loss: 0.12, Loss_test: 0.44\n",
      "Epoch: 193 Loss: 0.08, Loss_test: 0.44\n",
      "Epoch: 194 Loss: 0.10, Loss_test: 0.44\n",
      "Epoch: 195 Loss: 0.09, Loss_test: 0.44\n",
      "Epoch: 196 Loss: 0.10, Loss_test: 0.43\n",
      "Epoch: 197 Loss: 0.06, Loss_test: 0.43\n",
      "Epoch: 198 Loss: 0.11, Loss_test: 0.43\n",
      "Epoch: 199 Loss: 0.12, Loss_test: 0.42\n",
      "=> result saved!\n",
      "Epoch: 200 Loss: 0.08, Loss_test: 0.43\n",
      "Epoch: 201 Loss: 0.03, Loss_test: 0.43\n",
      "Epoch: 202 Loss: 0.11, Loss_test: 0.43\n",
      "Epoch: 203 Loss: 0.10, Loss_test: 0.43\n",
      "Epoch: 204 Loss: 0.08, Loss_test: 0.44\n",
      "Epoch: 205 Loss: 0.12, Loss_test: 0.45\n",
      "Epoch: 206 Loss: 0.06, Loss_test: 0.45\n",
      "Epoch: 207 Loss: 0.05, Loss_test: 0.46\n",
      "Epoch: 208 Loss: 0.10, Loss_test: 0.45\n",
      "Epoch: 209 Loss: 0.07, Loss_test: 0.45\n",
      "=> result saved!\n",
      "Epoch: 210 Loss: 0.14, Loss_test: 0.45\n",
      "Epoch: 211 Loss: 0.16, Loss_test: 0.45\n",
      "Epoch: 212 Loss: 0.09, Loss_test: 0.44\n",
      "Epoch: 213 Loss: 0.10, Loss_test: 0.44\n",
      "Epoch: 214 Loss: 0.13, Loss_test: 0.44\n",
      "Epoch: 215 Loss: 0.08, Loss_test: 0.43\n",
      "Epoch: 216 Loss: 0.11, Loss_test: 0.43\n",
      "Epoch: 217 Loss: 0.19, Loss_test: 0.44\n",
      "Epoch: 218 Loss: 0.09, Loss_test: 0.45\n",
      "Epoch: 219 Loss: 0.07, Loss_test: 0.44\n",
      "=> result saved!\n",
      "Epoch: 220 Loss: 0.09, Loss_test: 0.44\n",
      "Epoch: 221 Loss: 0.12, Loss_test: 0.43\n",
      "Epoch: 222 Loss: 0.04, Loss_test: 0.44\n",
      "Epoch: 223 Loss: 0.09, Loss_test: 0.44\n",
      "Epoch: 224 Loss: 0.16, Loss_test: 0.43\n",
      "Epoch: 225 Loss: 0.10, Loss_test: 0.43\n",
      "Epoch: 226 Loss: 0.11, Loss_test: 0.44\n",
      "Epoch: 227 Loss: 0.06, Loss_test: 0.43\n",
      "Epoch: 228 Loss: 0.08, Loss_test: 0.44\n",
      "Epoch: 229 Loss: 0.05, Loss_test: 0.44\n",
      "=> result saved!\n",
      "Epoch: 230 Loss: 0.03, Loss_test: 0.45\n",
      "Epoch: 231 Loss: 0.10, Loss_test: 0.45\n",
      "Epoch: 232 Loss: 0.14, Loss_test: 0.45\n",
      "Epoch: 233 Loss: 0.07, Loss_test: 0.44\n",
      "Epoch: 234 Loss: 0.12, Loss_test: 0.44\n",
      "Epoch: 235 Loss: 0.11, Loss_test: 0.43\n",
      "Epoch: 236 Loss: 0.05, Loss_test: 0.43\n",
      "Epoch: 237 Loss: 0.08, Loss_test: 0.43\n",
      "Epoch: 238 Loss: 0.04, Loss_test: 0.42\n",
      "Epoch: 239 Loss: 0.05, Loss_test: 0.42\n",
      "=> result saved!\n",
      "Epoch: 240 Loss: 0.14, Loss_test: 0.42\n",
      "Epoch: 241 Loss: 0.05, Loss_test: 0.42\n",
      "Epoch: 242 Loss: 0.08, Loss_test: 0.42\n",
      "Epoch: 243 Loss: 0.09, Loss_test: 0.42\n",
      "Epoch: 244 Loss: 0.07, Loss_test: 0.42\n",
      "Epoch: 245 Loss: 0.08, Loss_test: 0.41\n",
      "Epoch: 246 Loss: 0.06, Loss_test: 0.41\n",
      "Epoch: 247 Loss: 0.03, Loss_test: 0.41\n",
      "Epoch: 248 Loss: 0.16, Loss_test: 0.40\n",
      "Epoch: 249 Loss: 0.12, Loss_test: 0.39\n",
      "=> result saved!\n",
      "Epoch: 250 Loss: 0.06, Loss_test: 0.40\n",
      "Epoch: 251 Loss: 0.05, Loss_test: 0.41\n",
      "Epoch: 252 Loss: 0.06, Loss_test: 0.40\n",
      "Epoch: 253 Loss: 0.05, Loss_test: 0.40\n",
      "Epoch: 254 Loss: 0.10, Loss_test: 0.41\n",
      "Epoch: 255 Loss: 0.04, Loss_test: 0.41\n",
      "Epoch: 256 Loss: 0.07, Loss_test: 0.41\n",
      "Epoch: 257 Loss: 0.11, Loss_test: 0.42\n",
      "Epoch: 258 Loss: 0.09, Loss_test: 0.42\n",
      "Epoch: 259 Loss: 0.09, Loss_test: 0.42\n",
      "=> result saved!\n",
      "Epoch: 260 Loss: 0.07, Loss_test: 0.43\n",
      "Epoch: 261 Loss: 0.10, Loss_test: 0.43\n",
      "Epoch: 262 Loss: 0.05, Loss_test: 0.44\n",
      "Epoch: 263 Loss: 0.05, Loss_test: 0.44\n",
      "Epoch: 264 Loss: 0.11, Loss_test: 0.45\n",
      "Epoch: 265 Loss: 0.09, Loss_test: 0.44\n",
      "Epoch: 266 Loss: 0.06, Loss_test: 0.44\n",
      "Epoch: 267 Loss: 0.09, Loss_test: 0.44\n",
      "Epoch: 268 Loss: 0.09, Loss_test: 0.43\n",
      "Epoch: 269 Loss: 0.11, Loss_test: 0.43\n",
      "=> result saved!\n",
      "Epoch: 270 Loss: 0.06, Loss_test: 0.43\n",
      "Epoch: 271 Loss: 0.06, Loss_test: 0.43\n",
      "Epoch: 272 Loss: 0.14, Loss_test: 0.43\n",
      "Epoch: 273 Loss: 0.04, Loss_test: 0.43\n",
      "Epoch: 274 Loss: 0.07, Loss_test: 0.43\n",
      "Epoch: 275 Loss: 0.11, Loss_test: 0.43\n",
      "Epoch: 276 Loss: 0.07, Loss_test: 0.42\n",
      "Epoch: 277 Loss: 0.05, Loss_test: 0.42\n",
      "Epoch: 278 Loss: 0.12, Loss_test: 0.41\n",
      "Epoch: 279 Loss: 0.13, Loss_test: 0.41\n",
      "=> result saved!\n",
      "Epoch: 280 Loss: 0.09, Loss_test: 0.42\n",
      "Epoch: 281 Loss: 0.09, Loss_test: 0.42\n",
      "Epoch: 282 Loss: 0.06, Loss_test: 0.42\n",
      "Epoch: 283 Loss: 0.04, Loss_test: 0.42\n",
      "Epoch: 284 Loss: 0.11, Loss_test: 0.43\n",
      "Epoch: 285 Loss: 0.06, Loss_test: 0.42\n",
      "Epoch: 286 Loss: 0.07, Loss_test: 0.43\n",
      "Epoch: 287 Loss: 0.13, Loss_test: 0.42\n",
      "Epoch: 288 Loss: 0.08, Loss_test: 0.42\n",
      "Epoch: 289 Loss: 0.08, Loss_test: 0.43\n",
      "=> result saved!\n",
      "Epoch: 290 Loss: 0.09, Loss_test: 0.44\n",
      "Epoch: 291 Loss: 0.06, Loss_test: 0.44\n",
      "Epoch: 292 Loss: 0.06, Loss_test: 0.44\n",
      "Epoch: 293 Loss: 0.04, Loss_test: 0.44\n",
      "Epoch: 294 Loss: 0.12, Loss_test: 0.46\n",
      "Epoch: 295 Loss: 0.05, Loss_test: 0.45\n",
      "Epoch: 296 Loss: 0.07, Loss_test: 0.46\n",
      "Epoch: 297 Loss: 0.08, Loss_test: 0.46\n",
      "Epoch: 298 Loss: 0.16, Loss_test: 0.45\n",
      "Epoch: 299 Loss: 0.10, Loss_test: 0.44\n",
      "=> result saved!\n",
      "Epoch: 300 Loss: 0.07, Loss_test: 0.45\n",
      "Epoch: 301 Loss: 0.06, Loss_test: 0.44\n",
      "Epoch: 302 Loss: 0.06, Loss_test: 0.44\n"
     ]
    },
    {
     "name": "stdout",
     "output_type": "stream",
     "text": [
      "Epoch: 303 Loss: 0.07, Loss_test: 0.44\n",
      "Epoch: 304 Loss: 0.04, Loss_test: 0.44\n",
      "Epoch: 305 Loss: 0.05, Loss_test: 0.43\n",
      "Epoch: 306 Loss: 0.06, Loss_test: 0.44\n",
      "Epoch: 307 Loss: 0.04, Loss_test: 0.44\n",
      "Epoch: 308 Loss: 0.13, Loss_test: 0.43\n",
      "Epoch: 309 Loss: 0.06, Loss_test: 0.42\n",
      "=> result saved!\n",
      "Epoch: 310 Loss: 0.07, Loss_test: 0.42\n",
      "Epoch: 311 Loss: 0.08, Loss_test: 0.42\n",
      "Epoch: 312 Loss: 0.06, Loss_test: 0.41\n",
      "Epoch: 313 Loss: 0.03, Loss_test: 0.42\n",
      "Epoch: 314 Loss: 0.05, Loss_test: 0.41\n",
      "Epoch: 315 Loss: 0.07, Loss_test: 0.41\n",
      "Epoch: 316 Loss: 0.06, Loss_test: 0.41\n",
      "Epoch: 317 Loss: 0.12, Loss_test: 0.41\n",
      "Epoch: 318 Loss: 0.07, Loss_test: 0.41\n",
      "Epoch: 319 Loss: 0.05, Loss_test: 0.41\n",
      "=> result saved!\n",
      "Epoch: 320 Loss: 0.05, Loss_test: 0.42\n",
      "Epoch: 321 Loss: 0.05, Loss_test: 0.41\n",
      "Epoch: 322 Loss: 0.02, Loss_test: 0.40\n",
      "Epoch: 323 Loss: 0.09, Loss_test: 0.41\n",
      "Epoch: 324 Loss: 0.04, Loss_test: 0.42\n",
      "Epoch: 325 Loss: 0.12, Loss_test: 0.41\n",
      "Epoch: 326 Loss: 0.11, Loss_test: 0.40\n",
      "Epoch: 327 Loss: 0.09, Loss_test: 0.40\n",
      "Epoch: 328 Loss: 0.06, Loss_test: 0.41\n",
      "Epoch: 329 Loss: 0.09, Loss_test: 0.41\n",
      "=> result saved!\n",
      "Epoch: 330 Loss: 0.14, Loss_test: 0.42\n",
      "Epoch: 331 Loss: 0.08, Loss_test: 0.42\n",
      "Epoch: 332 Loss: 0.11, Loss_test: 0.43\n",
      "Epoch: 333 Loss: 0.08, Loss_test: 0.43\n",
      "Epoch: 334 Loss: 0.07, Loss_test: 0.42\n",
      "Epoch: 335 Loss: 0.11, Loss_test: 0.42\n",
      "Epoch: 336 Loss: 0.09, Loss_test: 0.41\n",
      "Epoch: 337 Loss: 0.16, Loss_test: 0.40\n",
      "Epoch: 338 Loss: 0.11, Loss_test: 0.39\n",
      "Epoch: 339 Loss: 0.03, Loss_test: 0.37\n",
      "=> result saved!\n",
      "Epoch: 340 Loss: 0.09, Loss_test: 0.38\n",
      "Epoch: 341 Loss: 0.10, Loss_test: 0.38\n",
      "Epoch: 342 Loss: 0.07, Loss_test: 0.37\n",
      "Epoch: 343 Loss: 0.03, Loss_test: 0.38\n",
      "Epoch: 344 Loss: 0.07, Loss_test: 0.38\n",
      "Epoch: 345 Loss: 0.05, Loss_test: 0.37\n",
      "Epoch: 346 Loss: 0.05, Loss_test: 0.37\n",
      "Epoch: 347 Loss: 0.05, Loss_test: 0.37\n",
      "Epoch: 348 Loss: 0.07, Loss_test: 0.38\n",
      "Epoch: 349 Loss: 0.14, Loss_test: 0.38\n",
      "=> result saved!\n",
      "Epoch: 350 Loss: 0.05, Loss_test: 0.37\n",
      "Epoch: 351 Loss: 0.06, Loss_test: 0.37\n",
      "Epoch: 352 Loss: 0.05, Loss_test: 0.37\n",
      "Epoch: 353 Loss: 0.06, Loss_test: 0.36\n",
      "Epoch: 354 Loss: 0.06, Loss_test: 0.37\n",
      "Epoch: 355 Loss: 0.05, Loss_test: 0.37\n",
      "Epoch: 356 Loss: 0.05, Loss_test: 0.36\n",
      "Epoch: 357 Loss: 0.06, Loss_test: 0.36\n",
      "Epoch: 358 Loss: 0.06, Loss_test: 0.36\n",
      "Epoch: 359 Loss: 0.04, Loss_test: 0.35\n",
      "=> result saved!\n",
      "Epoch: 360 Loss: 0.06, Loss_test: 0.35\n",
      "Epoch: 361 Loss: 0.07, Loss_test: 0.35\n",
      "Epoch: 362 Loss: 0.08, Loss_test: 0.35\n",
      "Epoch: 363 Loss: 0.09, Loss_test: 0.35\n",
      "Epoch: 364 Loss: 0.09, Loss_test: 0.35\n",
      "Epoch: 365 Loss: 0.02, Loss_test: 0.35\n",
      "Epoch: 366 Loss: 0.05, Loss_test: 0.35\n",
      "Epoch: 367 Loss: 0.06, Loss_test: 0.35\n",
      "Epoch: 368 Loss: 0.04, Loss_test: 0.35\n",
      "Epoch: 369 Loss: 0.07, Loss_test: 0.36\n",
      "=> result saved!\n",
      "Epoch: 370 Loss: 0.08, Loss_test: 0.38\n",
      "Epoch: 371 Loss: 0.08, Loss_test: 0.38\n",
      "Epoch: 372 Loss: 0.04, Loss_test: 0.39\n",
      "Epoch: 373 Loss: 0.07, Loss_test: 0.39\n",
      "Epoch: 374 Loss: 0.06, Loss_test: 0.38\n",
      "Epoch: 375 Loss: 0.07, Loss_test: 0.38\n",
      "Epoch: 376 Loss: 0.06, Loss_test: 0.39\n",
      "Epoch: 377 Loss: 0.06, Loss_test: 0.39\n",
      "Epoch: 378 Loss: 0.07, Loss_test: 0.39\n",
      "Epoch: 379 Loss: 0.06, Loss_test: 0.40\n",
      "=> result saved!\n",
      "Epoch: 380 Loss: 0.04, Loss_test: 0.39\n",
      "Epoch: 381 Loss: 0.06, Loss_test: 0.40\n",
      "Epoch: 382 Loss: 0.04, Loss_test: 0.40\n",
      "Epoch: 383 Loss: 0.11, Loss_test: 0.39\n",
      "Epoch: 384 Loss: 0.05, Loss_test: 0.39\n",
      "Epoch: 385 Loss: 0.04, Loss_test: 0.39\n",
      "Epoch: 386 Loss: 0.08, Loss_test: 0.40\n",
      "Epoch: 387 Loss: 0.08, Loss_test: 0.40\n",
      "Epoch: 388 Loss: 0.06, Loss_test: 0.39\n",
      "Epoch: 389 Loss: 0.04, Loss_test: 0.39\n",
      "=> result saved!\n",
      "Epoch: 390 Loss: 0.04, Loss_test: 0.39\n",
      "Epoch: 391 Loss: 0.07, Loss_test: 0.39\n",
      "Epoch: 392 Loss: 0.04, Loss_test: 0.40\n",
      "Epoch: 393 Loss: 0.03, Loss_test: 0.40\n",
      "Epoch: 394 Loss: 0.07, Loss_test: 0.40\n",
      "Epoch: 395 Loss: 0.05, Loss_test: 0.39\n",
      "Epoch: 396 Loss: 0.10, Loss_test: 0.39\n",
      "Epoch: 397 Loss: 0.07, Loss_test: 0.39\n",
      "Epoch: 398 Loss: 0.06, Loss_test: 0.38\n",
      "Epoch: 399 Loss: 0.02, Loss_test: 0.38\n",
      "=> result saved!\n",
      "Epoch: 400 Loss: 0.06, Loss_test: 0.39\n",
      "Epoch: 401 Loss: 0.05, Loss_test: 0.38\n",
      "Epoch: 402 Loss: 0.09, Loss_test: 0.39\n",
      "Epoch: 403 Loss: 0.05, Loss_test: 0.39\n",
      "Epoch: 404 Loss: 0.06, Loss_test: 0.39\n",
      "Epoch: 405 Loss: 0.10, Loss_test: 0.39\n",
      "Epoch: 406 Loss: 0.05, Loss_test: 0.39\n",
      "Epoch: 407 Loss: 0.07, Loss_test: 0.39\n",
      "Epoch: 408 Loss: 0.04, Loss_test: 0.39\n",
      "Epoch: 409 Loss: 0.07, Loss_test: 0.40\n",
      "=> result saved!\n",
      "Epoch: 410 Loss: 0.05, Loss_test: 0.39\n",
      "Epoch: 411 Loss: 0.04, Loss_test: 0.39\n",
      "Epoch: 412 Loss: 0.06, Loss_test: 0.39\n",
      "Epoch: 413 Loss: 0.08, Loss_test: 0.39\n",
      "Epoch: 414 Loss: 0.03, Loss_test: 0.39\n",
      "Epoch: 415 Loss: 0.07, Loss_test: 0.38\n",
      "Epoch: 416 Loss: 0.06, Loss_test: 0.38\n",
      "Epoch: 417 Loss: 0.06, Loss_test: 0.38\n",
      "Epoch: 418 Loss: 0.08, Loss_test: 0.39\n",
      "Epoch: 419 Loss: 0.04, Loss_test: 0.38\n",
      "=> result saved!\n",
      "Epoch: 420 Loss: 0.05, Loss_test: 0.38\n",
      "Epoch: 421 Loss: 0.06, Loss_test: 0.37\n",
      "Epoch: 422 Loss: 0.11, Loss_test: 0.38\n",
      "Epoch: 423 Loss: 0.04, Loss_test: 0.38\n",
      "Epoch: 424 Loss: 0.08, Loss_test: 0.38\n",
      "Epoch: 425 Loss: 0.05, Loss_test: 0.38\n",
      "Epoch: 428 Loss: 0.07, Loss_test: 0.38\n",
      "Epoch: 429 Loss: 0.02, Loss_test: 0.38\n",
      "=> result saved!\n",
      "Epoch: 430 Loss: 0.04, Loss_test: 0.38\n",
      "Epoch: 431 Loss: 0.09, Loss_test: 0.39\n",
      "Epoch: 432 Loss: 0.07, Loss_test: 0.39\n"
     ]
    }
   ],
   "source": [
    "end_train = epochs - limit_train\n",
    "for epoch in range(limit_train, end_train):\n",
    "    batch_triplet_train, \\\n",
    "        train_input_sample, train_sim = batch_iterator(baseline, retrieval, model, baseline.train_data, \n",
    "                                                       baseline.dup_sets_train, bug_train_ids, \n",
    "                                                           batch_size, 1, issues_by_buckets, TRIPLET_HARD=False)\n",
    "    train_batch = [train_input_sample['title']['token'], train_input_sample['title']['segment'], \n",
    "                   train_input_sample['description']['token'], train_input_sample['description']['segment'],\n",
    "                   train_input_sample['info'], train_input_sample['topics'], train_sim]\n",
    "    \n",
    "\n",
    "    h = model.train_on_batch(x=train_batch, y=train_sim)\n",
    "    h_validation = model.test_on_batch(x=validation_sample, y=valid_sim)\n",
    "    \n",
    "    # save results\n",
    "    result['train'].append([h])\n",
    "    result['test'].append([h_validation])\n",
    "    \n",
    "    if( (epoch+1) % 10 == 0 or (epoch+1 == end_train )):\n",
    "        save_loss(result)\n",
    "    \n",
    "    print(\"Epoch: {} Loss: {:.2f}, Loss_test: {:.2f}\".format(epoch+1, h, h_validation))"
   ]
  },
  {
   "cell_type": "code",
   "execution_count": null,
   "metadata": {},
   "outputs": [],
   "source": [
    "len(result['train']), len(result['test'])"
   ]
  },
  {
   "cell_type": "code",
   "execution_count": null,
   "metadata": {},
   "outputs": [],
   "source": [
    "encoded = model.get_layer('merge_features_in')\n",
    "output = encoded.output\n",
    "inputs = similarity_model.inputs[:-1]\n",
    "encoded_anchor = Model(inputs = inputs, outputs = output, name = 'Similarity_Model')"
   ]
  },
  {
   "cell_type": "code",
   "execution_count": null,
   "metadata": {},
   "outputs": [],
   "source": [
    "print(SAVE_PATH.replace('@number_of_epochs@', str(epochs)))"
   ]
  },
  {
   "cell_type": "code",
   "execution_count": null,
   "metadata": {},
   "outputs": [],
   "source": [
    "experiment.save_model(model, SAVE_PATH.replace('@number_of_epochs@', str(epochs)))\n",
    "experiment.save_model(encoded_anchor, SAVE_PATH_FEATURE.replace('@number_of_epochs@', str(epochs)), verbose=1)\n",
    "\"Model saved\""
   ]
  },
  {
   "cell_type": "code",
   "execution_count": null,
   "metadata": {},
   "outputs": [],
   "source": [
    "recall, exported_rank, debug = experiment.evaluate_validation_test(retrieval, 1, encoded_anchor, issues_by_buckets, \n",
    "                                                               bug_train_ids, method='bert-topic')\n",
    "print(\"Epoch: {} Loss: {:.2f}, Loss_test: {:.2f}, recall@25: {:.2f}\".format(epoch+1, h, h_validation, recall))"
   ]
  },
  {
   "cell_type": "code",
   "execution_count": null,
   "metadata": {},
   "outputs": [],
   "source": [
    "print(\"Recall\", recall)"
   ]
  },
  {
   "cell_type": "code",
   "execution_count": null,
   "metadata": {},
   "outputs": [],
   "source": [
    "exported_rank[:20]"
   ]
  },
  {
   "cell_type": "markdown",
   "metadata": {},
   "source": [
    "### Retrieval evaluation"
   ]
  },
  {
   "cell_type": "code",
   "execution_count": null,
   "metadata": {},
   "outputs": [],
   "source": [
    "print(\"Total of queries:\", len(retrieval.test))"
   ]
  },
  {
   "cell_type": "markdown",
   "metadata": {},
   "source": [
    "#### Getting the model trained"
   ]
  },
  {
   "cell_type": "code",
   "execution_count": null,
   "metadata": {},
   "outputs": [],
   "source": [
    "print(SAVE_PATH_FEATURE.replace('@number_of_epochs@', str(epochs)))"
   ]
  },
  {
   "cell_type": "code",
   "execution_count": null,
   "metadata": {},
   "outputs": [],
   "source": [
    "encoded_anchor.summary()"
   ]
  },
  {
   "cell_type": "code",
   "execution_count": null,
   "metadata": {},
   "outputs": [],
   "source": [
    "len(exported_rank)"
   ]
  },
  {
   "cell_type": "code",
   "execution_count": null,
   "metadata": {},
   "outputs": [],
   "source": [
    "EXPORT_RANK_PATH = os.path.join(DIR, 'exported_rank_{}.txt'.format(METHOD))\n",
    "print(EXPORT_RANK_PATH)"
   ]
  },
  {
   "cell_type": "code",
   "execution_count": null,
   "metadata": {},
   "outputs": [],
   "source": [
    "with open(EXPORT_RANK_PATH, 'w') as file_out:\n",
    "    for row in exported_rank:\n",
    "        file_out.write(row + \"\\n\")"
   ]
  },
  {
   "cell_type": "code",
   "execution_count": null,
   "metadata": {},
   "outputs": [],
   "source": [
    "report = experiment.evaluation.evaluate(EXPORT_RANK_PATH)\n",
    "print(report)"
   ]
  },
  {
   "cell_type": "markdown",
   "metadata": {},
   "source": [
    "#### Some ideas to visualizate"
   ]
  },
  {
   "cell_type": "markdown",
   "metadata": {},
   "source": [
    "- https://towardsdatascience.com/building-a-recommendation-system-using-neural-network-embeddings-1ef92e5c80c9"
   ]
  }
 ],
 "metadata": {
  "accelerator": "GPU",
  "colab": {
   "collapsed_sections": [],
   "name": "[baseline] Bug triage with Deep Learning.ipynb",
   "provenance": [],
   "toc_visible": true,
   "version": "0.3.2"
  },
  "kernelspec": {
   "display_name": "Python 3",
   "language": "python",
   "name": "python3"
  },
  "language_info": {
   "codemirror_mode": {
    "name": "ipython",
    "version": 3
   },
   "file_extension": ".py",
   "mimetype": "text/x-python",
   "name": "python",
   "nbconvert_exporter": "python",
   "pygments_lexer": "ipython3",
   "version": "3.5.2"
  }
 },
 "nbformat": 4,
 "nbformat_minor": 1
}
