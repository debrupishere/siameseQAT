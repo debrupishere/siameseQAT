{
 "cells": [
  {
   "cell_type": "markdown",
   "metadata": {},
   "source": [
    "## Classification using siamese model propose"
   ]
  },
  {
   "cell_type": "code",
   "execution_count": 1,
   "metadata": {},
   "outputs": [
    {
     "name": "stderr",
     "output_type": "stream",
     "text": [
      "Using TensorFlow backend.\n"
     ]
    }
   ],
   "source": [
    "import keras"
   ]
  },
  {
   "cell_type": "code",
   "execution_count": 2,
   "metadata": {},
   "outputs": [],
   "source": [
    "import re\n",
    "import numpy as np\n",
    "import pandas as pd\n",
    "\n",
    "import os\n",
    "from tqdm import tqdm_notebook as tqdm\n",
    "import matplotlib.pyplot as plt\n",
    "import sys\n",
    "nb_dir = os.path.split(os.getcwd())[0]\n",
    "if nb_dir not in sys.path:\n",
    "    sys.path.append(nb_dir)\n",
    "    \n",
    "%matplotlib inline"
   ]
  },
  {
   "cell_type": "code",
   "execution_count": 3,
   "metadata": {},
   "outputs": [],
   "source": [
    "from methods.baseline import Baseline\n",
    "from methods.experiments import Experiment\n",
    "from methods.evaluation import Evaluation\n",
    "from methods.retrieval import Retrieval"
   ]
  },
  {
   "cell_type": "code",
   "execution_count": 4,
   "metadata": {},
   "outputs": [],
   "source": [
    "from keras.layers import Conv1D, Input, Add, Activation, Dropout, Embedding, MaxPooling1D, GlobalMaxPool1D, Flatten, Dense, Concatenate, BatchNormalization\n",
    "from keras.models import Model"
   ]
  },
  {
   "cell_type": "markdown",
   "metadata": {},
   "source": [
    "## Configurações Globais"
   ]
  },
  {
   "cell_type": "code",
   "execution_count": 5,
   "metadata": {},
   "outputs": [],
   "source": [
    "EMBEDDING_DIM = 300\n",
    "MAX_NB_WORDS = 2000"
   ]
  },
  {
   "cell_type": "code",
   "execution_count": 6,
   "metadata": {},
   "outputs": [],
   "source": [
    "DOMAIN = 'openoffice'\n",
    "METHOD = 'propose_master_triplet_loss'\n",
    "DIR = 'data/processed/{}'.format(DOMAIN)\n",
    "DATASET = os.path.join('data/normalized/{}'.format(DOMAIN), '{}.csv'.format(DOMAIN))\n",
    "DIR_PAIRS = 'data/normalized/{}'.format(DOMAIN)\n",
    "SAVE_PATH = '{}_classification({})'.format(METHOD, DOMAIN)\n",
    "PRETRAINED_MODEL = 'modelos/model_{}_feature_100epochs_64batch({}).h5'.format(METHOD, DOMAIN)"
   ]
  },
  {
   "cell_type": "code",
   "execution_count": 7,
   "metadata": {},
   "outputs": [
    {
     "data": {
      "text/plain": [
       "'modelos/model_propose_master_triplet_loss_feature_100epochs_64batch(openoffice).h5'"
      ]
     },
     "execution_count": 7,
     "metadata": {},
     "output_type": "execute_result"
    }
   ],
   "source": [
    "PRETRAINED_MODEL"
   ]
  },
  {
   "cell_type": "code",
   "execution_count": 8,
   "metadata": {
    "scrolled": true
   },
   "outputs": [
    {
     "name": "stderr",
     "output_type": "stream",
     "text": [
      "/usr/local/lib/python3.5/dist-packages/keras/engine/saving.py:292: UserWarning: No training configuration found in save file: the model was *not* compiled. Compile it manually.\n",
      "  warnings.warn('No training configuration found in save file: '\n"
     ]
    }
   ],
   "source": [
    "import keras\n",
    "from keras.models import Model\n",
    "from keras.layers import Input\n",
    "from keras.models import load_model\n",
    "import keras.backend as K\n",
    "\n",
    "K.clear_session()\n",
    "\n",
    "\"\"\"\n",
    "    A lista de modelos estar disponível no diretorio /modelos\n",
    "        name:\n",
    "            - model_baseline_{X}epoch_{Y}steps_({dataset}).h5\n",
    "            - model_baseline_{X}epoch_{Y}steps_({dataset}).json\n",
    "    \n",
    "        Informações adicionais:\n",
    "            {X} - total de épocas treinada. Ex: 100, 1000\n",
    "            {Y} - total de steps validados no treino. Ex: 10, 16\n",
    "            {dataset} - Nome da base testada. Ex: Eclipse, Netbeans, OpenOffice\n",
    "\"\"\"\n",
    "similarity_model = load_model(PRETRAINED_MODEL)"
   ]
  },
  {
   "cell_type": "code",
   "execution_count": 9,
   "metadata": {},
   "outputs": [
    {
     "data": {
      "text/plain": [
       "(100, 500, 729)"
      ]
     },
     "execution_count": 9,
     "metadata": {},
     "output_type": "execute_result"
    }
   ],
   "source": [
    "import keras.backend as K\n",
    "\n",
    "MAX_SEQUENCE_LENGTH_T = K.int_shape(similarity_model.input[0])[1]\n",
    "MAX_SEQUENCE_LENGTH_D = K.int_shape(similarity_model.input[1])[1]\n",
    "MAX_SEQUENCE_LENGTH_I = K.int_shape(similarity_model.input[2])[1]\n",
    "\n",
    "MAX_SEQUENCE_LENGTH_T, MAX_SEQUENCE_LENGTH_D, MAX_SEQUENCE_LENGTH_I"
   ]
  },
  {
   "cell_type": "code",
   "execution_count": 10,
   "metadata": {},
   "outputs": [],
   "source": [
    "baseline = Baseline(DIR, DATASET, MAX_SEQUENCE_LENGTH_T, MAX_SEQUENCE_LENGTH_D)\n",
    "evaluation = Evaluation(verbose=0)\n",
    "retrieval = Retrieval()\n",
    "experiment = Experiment(baseline, evaluation)"
   ]
  },
  {
   "cell_type": "code",
   "execution_count": 11,
   "metadata": {},
   "outputs": [
    {
     "data": {
      "text/plain": [
       "{'bug_severity': 6,\n",
       " 'bug_status': 3,\n",
       " 'component': 137,\n",
       " 'priority': 5,\n",
       " 'product': 41,\n",
       " 'version': 537}"
      ]
     },
     "execution_count": 11,
     "metadata": {},
     "output_type": "execute_result"
    }
   ],
   "source": [
    "baseline.info_dict"
   ]
  },
  {
   "cell_type": "code",
   "execution_count": 12,
   "metadata": {},
   "outputs": [
    {
     "name": "stdout",
     "output_type": "stream",
     "text": [
      "Creating the buckets...\n"
     ]
    },
    {
     "data": {
      "application/vnd.jupyter.widget-view+json": {
       "model_id": "28c1bc0c66b84275932ff9227079e13b",
       "version_major": 2,
       "version_minor": 0
      },
      "text/plain": [
       "HBox(children=(IntProgress(value=0, max=57667), HTML(value='')))"
      ]
     },
     "metadata": {},
     "output_type": "display_data"
    },
    {
     "name": "stdout",
     "output_type": "stream",
     "text": [
      "\n"
     ]
    },
    {
     "data": {
      "application/vnd.jupyter.widget-view+json": {
       "model_id": "188ed80e322547f8ba3b3f2eca5a6197",
       "version_major": 2,
       "version_minor": 0
      },
      "text/plain": [
       "HBox(children=(IntProgress(value=0, max=14567), HTML(value='')))"
      ]
     },
     "metadata": {},
     "output_type": "display_data"
    },
    {
     "name": "stdout",
     "output_type": "stream",
     "text": [
      "\n"
     ]
    }
   ],
   "source": [
    "experiment.set_retrieval(retrieval, baseline, DOMAIN)"
   ]
  },
  {
   "cell_type": "markdown",
   "metadata": {},
   "source": [
    "#### Loading bug ids in memory"
   ]
  },
  {
   "cell_type": "code",
   "execution_count": 13,
   "metadata": {},
   "outputs": [
    {
     "name": "stdout",
     "output_type": "stream",
     "text": [
      "Reading bug ids\n"
     ]
    },
    {
     "data": {
      "text/plain": [
       "72234"
      ]
     },
     "execution_count": 13,
     "metadata": {},
     "output_type": "execute_result"
    }
   ],
   "source": [
    "experiment.load_ids()\n",
    "len(baseline.bug_ids)"
   ]
  },
  {
   "cell_type": "markdown",
   "metadata": {},
   "source": [
    "#### Loading train bugs"
   ]
  },
  {
   "cell_type": "code",
   "execution_count": 14,
   "metadata": {},
   "outputs": [
    {
     "data": {
      "application/vnd.jupyter.widget-view+json": {
       "model_id": "ca2fe981c6934c70ba9694253c29bb69",
       "version_major": 2,
       "version_minor": 0
      },
      "text/plain": [
       "HBox(children=(IntProgress(value=0, max=72234), HTML(value='')))"
      ]
     },
     "metadata": {},
     "output_type": "display_data"
    },
    {
     "name": "stdout",
     "output_type": "stream",
     "text": [
      "\n"
     ]
    },
    {
     "data": {
      "application/vnd.jupyter.widget-view+json": {
       "model_id": "5286be13cd1849a0a08ce95ac1f68474",
       "version_major": 2,
       "version_minor": 0
      },
      "text/plain": [
       "HBox(children=(IntProgress(value=1, bar_style='info', max=1), HTML(value='')))"
      ]
     },
     "metadata": {},
     "output_type": "display_data"
    },
    {
     "name": "stdout",
     "output_type": "stream",
     "text": [
      "\n",
      "CPU times: user 27.4 s, sys: 1.11 s, total: 28.6 s\n",
      "Wall time: 27.9 s\n"
     ]
    }
   ],
   "source": [
    "%%time\n",
    "\n",
    "experiment.load_bugs()"
   ]
  },
  {
   "cell_type": "code",
   "execution_count": 15,
   "metadata": {},
   "outputs": [
    {
     "data": {
      "application/vnd.jupyter.widget-view+json": {
       "model_id": "ba5c4960354c4da1ad8673dd9b690d72",
       "version_major": 2,
       "version_minor": 0
      },
      "text/plain": [
       "HBox(children=(IntProgress(value=0, max=58572), HTML(value='')))"
      ]
     },
     "metadata": {},
     "output_type": "display_data"
    },
    {
     "name": "stdout",
     "output_type": "stream",
     "text": [
      "\n",
      "Reading train data\n",
      "Reading bug ids\n",
      "CPU times: user 19.6 s, sys: 0 ns, total: 19.6 s\n",
      "Wall time: 19.6 s\n"
     ]
    }
   ],
   "source": [
    "%%time\n",
    "issues_by_buckets = experiment.get_buckets_for_bugs()\n",
    "experiment.prepare_dataset(issues_by_buckets, path_train='train_chronological', path_test='test_chronological')"
   ]
  },
  {
   "cell_type": "code",
   "execution_count": 16,
   "metadata": {},
   "outputs": [
    {
     "name": "stdout",
     "output_type": "stream",
     "text": [
      "CPU times: user 8.03 ms, sys: 0 ns, total: 8.03 ms\n",
      "Wall time: 8.02 ms\n"
     ]
    }
   ],
   "source": [
    "%%time\n",
    "\n",
    "bug_train_ids = experiment.get_train_ids(baseline.train_data)\n",
    "len(bug_train_ids)"
   ]
  },
  {
   "cell_type": "code",
   "execution_count": 18,
   "metadata": {},
   "outputs": [
    {
     "name": "stdout",
     "output_type": "stream",
     "text": [
      "Reading test data for classification\n",
      "CPU times: user 4.97 s, sys: 0 ns, total: 4.97 s\n",
      "Wall time: 4.97 s\n"
     ]
    }
   ],
   "source": [
    "%%time\n",
    "\n",
    "baseline.test_data, baseline.dup_sets_test = experiment.read_test_data_classification(DIR, baseline.bug_set, bug_train_ids)"
   ]
  },
  {
   "cell_type": "code",
   "execution_count": 29,
   "metadata": {},
   "outputs": [],
   "source": [
    "bug_test_ids = experiment.get_test_ids(baseline.test_data)"
   ]
  },
  {
   "cell_type": "markdown",
   "metadata": {},
   "source": [
    "## Siamese  model"
   ]
  },
  {
   "cell_type": "code",
   "execution_count": 19,
   "metadata": {},
   "outputs": [],
   "source": [
    "# Freeze weights\n",
    "for layer in similarity_model.layers:\n",
    "    layer.trainable = False"
   ]
  },
  {
   "cell_type": "code",
   "execution_count": 20,
   "metadata": {},
   "outputs": [
    {
     "name": "stdout",
     "output_type": "stream",
     "text": [
      "__________________________________________________________________________________________________\n",
      "Layer (type)                    Output Shape         Param #     Connected to                     \n",
      "==================================================================================================\n",
      "info_a (InputLayer)             (None, 729)          0                                            \n",
      "__________________________________________________________________________________________________\n",
      "title_a (InputLayer)            (None, 100)          0                                            \n",
      "__________________________________________________________________________________________________\n",
      "desc_a (InputLayer)             (None, 500)          0                                            \n",
      "__________________________________________________________________________________________________\n",
      "info_b (InputLayer)             (None, 729)          0                                            \n",
      "__________________________________________________________________________________________________\n",
      "title_b (InputLayer)            (None, 100)          0                                            \n",
      "__________________________________________________________________________________________________\n",
      "desc_b (InputLayer)             (None, 500)          0                                            \n",
      "__________________________________________________________________________________________________\n",
      "FeatureMlpGenerationModel (Mode (None, 300)          219000      info_a[0][0]                     \n",
      "                                                                 info_b[0][0]                     \n",
      "__________________________________________________________________________________________________\n",
      "FeatureLstmGenerationModel (Mod (None, 300)          23110051    title_a[0][0]                    \n",
      "                                                                 title_b[0][0]                    \n",
      "__________________________________________________________________________________________________\n",
      "FeatureCNNGenerationModel (Mode (None, 300)          23239392    desc_a[0][0]                     \n",
      "                                                                 desc_b[0][0]                     \n",
      "__________________________________________________________________________________________________\n",
      "merge_features_in (Concatenate) (None, 900)          0           FeatureMlpGenerationModel[2][0]  \n",
      "                                                                 FeatureLstmGenerationModel[2][0] \n",
      "                                                                 FeatureCNNGenerationModel[2][0]  \n",
      "                                                                 FeatureMlpGenerationModel[3][0]  \n",
      "                                                                 FeatureLstmGenerationModel[3][0] \n",
      "                                                                 FeatureCNNGenerationModel[3][0]  \n",
      "__________________________________________________________________________________________________\n",
      "bugs (Concatenate)              (None, 1800)         0           merge_features_in[1][0]          \n",
      "                                                                 merge_features_in[2][0]          \n",
      "__________________________________________________________________________________________________\n",
      "dense_1 (Dense)                 (None, 128)          230528      bugs[0][0]                       \n",
      "__________________________________________________________________________________________________\n",
      "activation_1 (Activation)       (None, 128)          0           dense_1[0][0]                    \n",
      "__________________________________________________________________________________________________\n",
      "batch_normalization_1 (BatchNor (None, 128)          512         activation_1[0][0]               \n",
      "__________________________________________________________________________________________________\n",
      "dense_2 (Dense)                 (None, 128)          16512       batch_normalization_1[0][0]      \n",
      "__________________________________________________________________________________________________\n",
      "activation_2 (Activation)       (None, 128)          0           dense_2[0][0]                    \n",
      "__________________________________________________________________________________________________\n",
      "batch_normalization_2 (BatchNor (None, 128)          512         activation_2[0][0]               \n",
      "__________________________________________________________________________________________________\n",
      "output (Dense)                  (None, 2)            258         batch_normalization_2[0][0]      \n",
      "==================================================================================================\n",
      "Total params: 46,816,765\n",
      "Trainable params: 247,810\n",
      "Non-trainable params: 46,568,955\n",
      "__________________________________________________________________________________________________\n"
     ]
    }
   ],
   "source": [
    "from keras.layers import concatenate, Dropout, Add, Flatten\n",
    "\n",
    "bug_t_a = Input(shape = (MAX_SEQUENCE_LENGTH_T, ), name = 'title_a')\n",
    "bug_t_b = Input(shape = (MAX_SEQUENCE_LENGTH_T, ), name = 'title_b')\n",
    "\n",
    "bug_d_a = Input(shape = (MAX_SEQUENCE_LENGTH_D, ), name = 'desc_a')\n",
    "bug_d_b = Input(shape = (MAX_SEQUENCE_LENGTH_D, ), name = 'desc_b')\n",
    "\n",
    "bug_i_a = Input(shape = (MAX_SEQUENCE_LENGTH_I, ), name = 'info_a')\n",
    "bug_i_b = Input(shape = (MAX_SEQUENCE_LENGTH_I, ), name = 'info_b')\n",
    "\n",
    "title_encoder = similarity_model.get_layer('FeatureLstmGenerationModel')\n",
    "desc_encoder = similarity_model.get_layer('FeatureCNNGenerationModel')\n",
    "info_encoder = similarity_model.get_layer('FeatureMlpGenerationModel')\n",
    "\n",
    "model = similarity_model.get_layer('merge_features_in')\n",
    "\n",
    "# Bug A\n",
    "bugt_t_a = title_encoder(bug_t_a)\n",
    "bugt_d_a = desc_encoder(bug_d_a)\n",
    "bugt_i_a = info_encoder(bug_i_a)\n",
    "# Bug B\n",
    "bugt_t_b = title_encoder(bug_t_b)\n",
    "bugt_d_b = desc_encoder(bug_d_b)\n",
    "bugt_i_b = info_encoder(bug_i_b)\n",
    "\n",
    "bug_a = model([bugt_i_a, bugt_t_a, bugt_d_a])\n",
    "bug_b = model([bugt_i_b, bugt_t_b, bugt_d_b])\n",
    "\n",
    "x = concatenate([bug_a, bug_b], name='bugs') # \n",
    "\n",
    "for _ in range(2):\n",
    "    x = Dense(128)(x)\n",
    "#     x = Dropout(0.5)(x)\n",
    "    x = Activation('relu')(x)\n",
    "    x = BatchNormalization()(x)\n",
    "\n",
    "output = Dense(2, activation = 'softmax', name = 'output')(x)\n",
    "\n",
    "model_clf = Model(inputs=[bug_t_a, bug_t_b, bug_d_a, bug_d_b, bug_i_a, bug_i_b], outputs=[output])\n",
    "\n",
    "#adam = keras.optimizers.Adam(lr=0.005, beta_1=0.9, beta_2=0.999, epsilon=None, decay=0.1, amsgrad=False)\n",
    "\n",
    "model_clf.compile(optimizer='adam', loss='binary_crossentropy', metrics = ['accuracy'])\n",
    "model_clf.summary()"
   ]
  },
  {
   "cell_type": "code",
   "execution_count": 21,
   "metadata": {},
   "outputs": [],
   "source": [
    "from keras.utils import to_categorical\n",
    "from sklearn.preprocessing import LabelEncoder\n",
    "\n",
    "def batch_classification(train, dup_sets, bug_train_ids, batch_size, n_neg):\n",
    "    encoder = LabelEncoder()\n",
    "    batch_size_normalized = batch_size // 2\n",
    "    batch_triplet, input_sample, input_pos, input_neg, sim = baseline.batch_iterator(train, dup_sets, \n",
    "                                                                                     bug_train_ids,\n",
    "                                                                                     batch_size_normalized, n_neg)\n",
    "    \n",
    "    pos = np.full((1, batch_size_normalized), 1)\n",
    "    neg = np.full((1, batch_size_normalized), 0)\n",
    "    sim = np.concatenate([pos, neg], -1)[0]\n",
    "    \n",
    "    sim = encoder.fit_transform(sim)\n",
    "    sim = to_categorical(sim)\n",
    "\n",
    "    title_a = np.concatenate([input_sample['title'], input_sample['title']])\n",
    "    title_b = np.concatenate([input_pos['title'], input_neg['title']])\n",
    "    desc_a = np.concatenate([input_sample['description'], input_sample['description']])\n",
    "    desc_b = np.concatenate([input_pos['description'], input_neg['description']])\n",
    "    info_a = np.concatenate([input_sample['info'], input_sample['info']])\n",
    "    info_b = np.concatenate([input_pos['info'], input_neg['info']])\n",
    "    \n",
    "    return title_a, title_b, desc_a, desc_b, info_a, info_b, sim\n",
    "\n",
    "def batch_classification_siamese(train, dup_sets, bug_ids, batch_size, n_neg):\n",
    "    while True:\n",
    "        title_a, title_b, desc_a, desc_b, info_a, info_b, sim = batch_classification(train, dup_sets, \n",
    "                                                                                     bug_ids, batch_size, n_neg)\n",
    "        \n",
    "        yield ({ 'title_a' : title_a, 'title_b': title_b, \n",
    "        'desc_a' : desc_a, 'desc_b' : desc_b, 'info_a' : info_a, 'info_b' : info_b }, sim)"
   ]
  },
  {
   "cell_type": "code",
   "execution_count": 22,
   "metadata": {},
   "outputs": [],
   "source": [
    "title_a, title_b, desc_a, desc_b, info_a, info_b, sim = batch_classification(baseline.train_data, \n",
    "                                                                             baseline.dup_sets_train,\n",
    "                                                                             bug_train_ids, 512, 1)\n",
    "test_validation = ({ 'title_a' : title_a, 'title_b': title_b, \n",
    "        'desc_a' : desc_a, 'desc_b' : desc_b, 'info_a' : info_a, 'info_b' : info_b }, sim)"
   ]
  },
  {
   "cell_type": "code",
   "execution_count": 23,
   "metadata": {
    "scrolled": true
   },
   "outputs": [
    {
     "name": "stdout",
     "output_type": "stream",
     "text": [
      "Epoch 1/100\n",
      "10/10 [==============================] - 5s 488ms/step - loss: 0.6478 - acc: 0.7069 - val_loss: 0.5111 - val_acc: 0.7930\n",
      "Epoch 2/100\n",
      "10/10 [==============================] - 3s 273ms/step - loss: 0.4860 - acc: 0.7777 - val_loss: 0.4344 - val_acc: 0.8047\n",
      "Epoch 3/100\n",
      "10/10 [==============================] - 3s 269ms/step - loss: 0.4386 - acc: 0.8067 - val_loss: 0.4121 - val_acc: 0.8320\n",
      "Epoch 4/100\n",
      "10/10 [==============================] - 3s 264ms/step - loss: 0.4234 - acc: 0.8105 - val_loss: 0.3791 - val_acc: 0.8438\n",
      "Epoch 5/100\n",
      "10/10 [==============================] - 3s 276ms/step - loss: 0.4147 - acc: 0.8094 - val_loss: 0.3646 - val_acc: 0.8535\n",
      "Epoch 6/100\n",
      "10/10 [==============================] - 3s 272ms/step - loss: 0.4097 - acc: 0.8148 - val_loss: 0.3542 - val_acc: 0.8496\n",
      "Epoch 7/100\n",
      "10/10 [==============================] - 3s 269ms/step - loss: 0.3979 - acc: 0.8252 - val_loss: 0.3506 - val_acc: 0.8594\n",
      "Epoch 8/100\n",
      "10/10 [==============================] - 3s 262ms/step - loss: 0.3981 - acc: 0.8243 - val_loss: 0.3386 - val_acc: 0.8730\n",
      "Epoch 9/100\n",
      "10/10 [==============================] - 3s 264ms/step - loss: 0.3834 - acc: 0.8291 - val_loss: 0.3307 - val_acc: 0.8750\n",
      "Epoch 10/100\n",
      "10/10 [==============================] - 3s 272ms/step - loss: 0.3667 - acc: 0.8398 - val_loss: 0.3248 - val_acc: 0.8516\n",
      "Epoch 11/100\n",
      "10/10 [==============================] - 3s 272ms/step - loss: 0.3750 - acc: 0.8360 - val_loss: 0.3150 - val_acc: 0.8691\n",
      "Epoch 12/100\n",
      "10/10 [==============================] - 3s 272ms/step - loss: 0.3693 - acc: 0.8380 - val_loss: 0.3155 - val_acc: 0.8711\n",
      "Epoch 13/100\n",
      "10/10 [==============================] - 3s 267ms/step - loss: 0.3668 - acc: 0.8407 - val_loss: 0.3371 - val_acc: 0.8574\n",
      "Epoch 14/100\n",
      "10/10 [==============================] - 3s 270ms/step - loss: 0.3738 - acc: 0.8367 - val_loss: 0.3009 - val_acc: 0.8730\n",
      "Epoch 15/100\n",
      "10/10 [==============================] - 3s 273ms/step - loss: 0.3758 - acc: 0.8322 - val_loss: 0.3149 - val_acc: 0.8750\n",
      "Epoch 16/100\n",
      "10/10 [==============================] - 3s 265ms/step - loss: 0.3641 - acc: 0.8428 - val_loss: 0.3236 - val_acc: 0.8691\n",
      "Epoch 17/100\n",
      "10/10 [==============================] - 3s 272ms/step - loss: 0.3526 - acc: 0.8503 - val_loss: 0.3163 - val_acc: 0.8730\n",
      "Epoch 18/100\n",
      "10/10 [==============================] - 3s 266ms/step - loss: 0.3484 - acc: 0.8503 - val_loss: 0.3050 - val_acc: 0.8867\n",
      "Epoch 19/100\n",
      "10/10 [==============================] - 3s 282ms/step - loss: 0.3518 - acc: 0.8477 - val_loss: 0.3058 - val_acc: 0.8789\n",
      "Epoch 20/100\n",
      "10/10 [==============================] - 3s 259ms/step - loss: 0.3493 - acc: 0.8518 - val_loss: 0.2948 - val_acc: 0.8887\n",
      "Epoch 21/100\n",
      "10/10 [==============================] - 3s 268ms/step - loss: 0.3424 - acc: 0.8493 - val_loss: 0.3032 - val_acc: 0.8867\n",
      "Epoch 22/100\n",
      "10/10 [==============================] - 3s 258ms/step - loss: 0.3325 - acc: 0.8602 - val_loss: 0.2962 - val_acc: 0.8672\n",
      "Epoch 23/100\n",
      "10/10 [==============================] - 3s 279ms/step - loss: 0.3383 - acc: 0.8562 - val_loss: 0.2944 - val_acc: 0.8770\n",
      "Epoch 24/100\n",
      "10/10 [==============================] - 3s 273ms/step - loss: 0.3304 - acc: 0.8596 - val_loss: 0.3064 - val_acc: 0.8613\n",
      "Epoch 25/100\n",
      "10/10 [==============================] - 3s 264ms/step - loss: 0.3316 - acc: 0.8625 - val_loss: 0.3265 - val_acc: 0.8496\n",
      "Epoch 26/100\n",
      "10/10 [==============================] - 3s 267ms/step - loss: 0.3262 - acc: 0.8648 - val_loss: 0.3109 - val_acc: 0.8789\n",
      "Epoch 27/100\n",
      "10/10 [==============================] - 3s 268ms/step - loss: 0.3277 - acc: 0.8605 - val_loss: 0.3121 - val_acc: 0.8574\n",
      "Epoch 28/100\n",
      "10/10 [==============================] - 3s 260ms/step - loss: 0.3307 - acc: 0.8556 - val_loss: 0.3094 - val_acc: 0.8730\n",
      "Epoch 29/100\n",
      "10/10 [==============================] - 3s 272ms/step - loss: 0.3285 - acc: 0.8629 - val_loss: 0.2956 - val_acc: 0.8770\n",
      "Epoch 30/100\n",
      "10/10 [==============================] - 3s 268ms/step - loss: 0.3284 - acc: 0.8600 - val_loss: 0.3001 - val_acc: 0.8809\n",
      "Epoch 31/100\n",
      "10/10 [==============================] - 3s 276ms/step - loss: 0.3192 - acc: 0.8678 - val_loss: 0.2881 - val_acc: 0.8770\n",
      "Epoch 32/100\n",
      "10/10 [==============================] - 3s 261ms/step - loss: 0.3265 - acc: 0.8624 - val_loss: 0.2782 - val_acc: 0.8906\n",
      "Epoch 33/100\n",
      "10/10 [==============================] - 3s 264ms/step - loss: 0.3255 - acc: 0.8626 - val_loss: 0.3051 - val_acc: 0.8789\n",
      "Epoch 34/100\n",
      "10/10 [==============================] - 3s 293ms/step - loss: 0.3118 - acc: 0.8695 - val_loss: 0.2887 - val_acc: 0.8770\n",
      "Epoch 35/100\n",
      "10/10 [==============================] - 3s 273ms/step - loss: 0.3165 - acc: 0.8697 - val_loss: 0.2926 - val_acc: 0.8711\n",
      "Epoch 36/100\n",
      "10/10 [==============================] - 3s 266ms/step - loss: 0.3009 - acc: 0.8740 - val_loss: 0.2870 - val_acc: 0.8945\n",
      "Epoch 37/100\n",
      "10/10 [==============================] - 3s 275ms/step - loss: 0.3162 - acc: 0.8712 - val_loss: 0.2756 - val_acc: 0.8887\n",
      "Epoch 38/100\n",
      "10/10 [==============================] - 3s 271ms/step - loss: 0.3100 - acc: 0.8716 - val_loss: 0.2734 - val_acc: 0.9043\n",
      "Epoch 39/100\n",
      "10/10 [==============================] - 3s 279ms/step - loss: 0.3049 - acc: 0.8756 - val_loss: 0.2807 - val_acc: 0.8906\n",
      "Epoch 40/100\n",
      "10/10 [==============================] - 3s 270ms/step - loss: 0.3087 - acc: 0.8741 - val_loss: 0.2817 - val_acc: 0.8926\n",
      "Epoch 41/100\n",
      "10/10 [==============================] - 3s 270ms/step - loss: 0.3047 - acc: 0.8727 - val_loss: 0.2878 - val_acc: 0.8848\n",
      "Epoch 42/100\n",
      "10/10 [==============================] - 3s 255ms/step - loss: 0.3027 - acc: 0.8715 - val_loss: 0.2745 - val_acc: 0.8906\n",
      "Epoch 43/100\n",
      "10/10 [==============================] - 3s 264ms/step - loss: 0.3004 - acc: 0.8756 - val_loss: 0.2817 - val_acc: 0.8887\n",
      "Epoch 44/100\n",
      "10/10 [==============================] - 3s 266ms/step - loss: 0.3040 - acc: 0.8729 - val_loss: 0.2679 - val_acc: 0.8965\n",
      "Epoch 45/100\n",
      "10/10 [==============================] - 3s 281ms/step - loss: 0.3103 - acc: 0.8701 - val_loss: 0.2769 - val_acc: 0.8926\n",
      "Epoch 46/100\n",
      "10/10 [==============================] - 3s 274ms/step - loss: 0.2984 - acc: 0.8764 - val_loss: 0.2807 - val_acc: 0.8867\n",
      "Epoch 47/100\n",
      "10/10 [==============================] - 3s 267ms/step - loss: 0.2953 - acc: 0.8809 - val_loss: 0.2697 - val_acc: 0.8945\n",
      "Epoch 48/100\n",
      "10/10 [==============================] - 3s 272ms/step - loss: 0.3012 - acc: 0.8736 - val_loss: 0.2899 - val_acc: 0.8906\n",
      "Epoch 49/100\n",
      "10/10 [==============================] - 3s 272ms/step - loss: 0.2867 - acc: 0.8843 - val_loss: 0.2568 - val_acc: 0.8945\n",
      "Epoch 50/100\n",
      "10/10 [==============================] - 3s 270ms/step - loss: 0.2993 - acc: 0.8750 - val_loss: 0.2712 - val_acc: 0.8867\n",
      "Epoch 51/100\n",
      "10/10 [==============================] - 3s 277ms/step - loss: 0.2900 - acc: 0.8787 - val_loss: 0.2603 - val_acc: 0.8906\n",
      "Epoch 52/100\n",
      "10/10 [==============================] - 3s 269ms/step - loss: 0.2976 - acc: 0.8774 - val_loss: 0.2680 - val_acc: 0.8926\n",
      "Epoch 53/100\n",
      "10/10 [==============================] - 3s 275ms/step - loss: 0.2918 - acc: 0.8809 - val_loss: 0.2544 - val_acc: 0.8984\n",
      "Epoch 54/100\n",
      "10/10 [==============================] - 3s 262ms/step - loss: 0.2972 - acc: 0.8780 - val_loss: 0.2587 - val_acc: 0.9004\n",
      "Epoch 55/100\n",
      "10/10 [==============================] - 3s 267ms/step - loss: 0.2818 - acc: 0.8826 - val_loss: 0.2650 - val_acc: 0.8848\n",
      "Epoch 56/100\n",
      "10/10 [==============================] - 3s 256ms/step - loss: 0.2888 - acc: 0.8777 - val_loss: 0.2754 - val_acc: 0.8945\n",
      "Epoch 57/100\n",
      "10/10 [==============================] - 3s 277ms/step - loss: 0.2821 - acc: 0.8803 - val_loss: 0.2717 - val_acc: 0.8965\n",
      "Epoch 58/100\n",
      "10/10 [==============================] - 3s 277ms/step - loss: 0.2934 - acc: 0.8788 - val_loss: 0.2381 - val_acc: 0.9199\n",
      "Epoch 59/100\n",
      "10/10 [==============================] - 3s 269ms/step - loss: 0.2813 - acc: 0.8872 - val_loss: 0.2654 - val_acc: 0.8965\n",
      "Epoch 60/100\n",
      "10/10 [==============================] - 3s 270ms/step - loss: 0.2858 - acc: 0.8847 - val_loss: 0.2535 - val_acc: 0.9043\n",
      "Epoch 61/100\n",
      "10/10 [==============================] - 3s 277ms/step - loss: 0.2845 - acc: 0.8817 - val_loss: 0.2394 - val_acc: 0.9023\n",
      "Epoch 62/100\n",
      "10/10 [==============================] - 3s 270ms/step - loss: 0.2916 - acc: 0.8792 - val_loss: 0.2396 - val_acc: 0.9062\n",
      "Epoch 63/100\n",
      "10/10 [==============================] - 3s 270ms/step - loss: 0.2922 - acc: 0.8795 - val_loss: 0.2371 - val_acc: 0.9180\n",
      "Epoch 64/100\n",
      "10/10 [==============================] - 3s 282ms/step - loss: 0.2937 - acc: 0.8810 - val_loss: 0.2542 - val_acc: 0.9043\n",
      "Epoch 65/100\n",
      "10/10 [==============================] - 3s 267ms/step - loss: 0.2738 - acc: 0.8874 - val_loss: 0.2474 - val_acc: 0.9023\n",
      "Epoch 66/100\n",
      "10/10 [==============================] - 3s 276ms/step - loss: 0.2805 - acc: 0.8897 - val_loss: 0.2431 - val_acc: 0.9062\n",
      "Epoch 67/100\n",
      "10/10 [==============================] - 3s 256ms/step - loss: 0.2863 - acc: 0.8841 - val_loss: 0.2557 - val_acc: 0.8848\n",
      "Epoch 68/100\n",
      "10/10 [==============================] - 3s 269ms/step - loss: 0.2721 - acc: 0.8913 - val_loss: 0.2562 - val_acc: 0.8887\n",
      "Epoch 69/100\n",
      "10/10 [==============================] - 3s 270ms/step - loss: 0.2810 - acc: 0.8850 - val_loss: 0.2575 - val_acc: 0.8906\n",
      "Epoch 70/100\n",
      "10/10 [==============================] - 3s 273ms/step - loss: 0.2842 - acc: 0.8870 - val_loss: 0.2467 - val_acc: 0.9160\n",
      "Epoch 71/100\n",
      "10/10 [==============================] - 3s 285ms/step - loss: 0.2758 - acc: 0.8886 - val_loss: 0.2506 - val_acc: 0.9023\n",
      "Epoch 72/100\n",
      "10/10 [==============================] - 3s 267ms/step - loss: 0.2719 - acc: 0.8877 - val_loss: 0.2549 - val_acc: 0.9004\n",
      "Epoch 73/100\n",
      "10/10 [==============================] - 3s 277ms/step - loss: 0.2693 - acc: 0.8910 - val_loss: 0.2469 - val_acc: 0.9141\n",
      "Epoch 74/100\n",
      "10/10 [==============================] - 3s 275ms/step - loss: 0.2756 - acc: 0.8861 - val_loss: 0.2247 - val_acc: 0.9277\n",
      "Epoch 75/100\n",
      "10/10 [==============================] - 3s 276ms/step - loss: 0.2735 - acc: 0.8861 - val_loss: 0.2505 - val_acc: 0.9062\n",
      "Epoch 76/100\n",
      "10/10 [==============================] - 3s 272ms/step - loss: 0.2606 - acc: 0.8977 - val_loss: 0.2314 - val_acc: 0.9121\n",
      "Epoch 77/100\n",
      "10/10 [==============================] - 3s 270ms/step - loss: 0.2692 - acc: 0.8936 - val_loss: 0.2404 - val_acc: 0.9160\n",
      "Epoch 78/100\n",
      "10/10 [==============================] - 3s 280ms/step - loss: 0.2629 - acc: 0.8942 - val_loss: 0.2415 - val_acc: 0.9062\n",
      "Epoch 79/100\n",
      "10/10 [==============================] - 3s 272ms/step - loss: 0.2645 - acc: 0.8918 - val_loss: 0.2371 - val_acc: 0.8984\n",
      "Epoch 80/100\n",
      "10/10 [==============================] - 3s 273ms/step - loss: 0.2669 - acc: 0.8916 - val_loss: 0.2286 - val_acc: 0.9160\n",
      "Epoch 81/100\n",
      "10/10 [==============================] - 3s 276ms/step - loss: 0.2629 - acc: 0.8949 - val_loss: 0.2675 - val_acc: 0.9062\n",
      "Epoch 82/100\n",
      "10/10 [==============================] - 3s 271ms/step - loss: 0.2747 - acc: 0.8916 - val_loss: 0.2420 - val_acc: 0.9121\n",
      "Epoch 83/100\n",
      "10/10 [==============================] - 3s 273ms/step - loss: 0.2697 - acc: 0.8911 - val_loss: 0.2490 - val_acc: 0.9160\n",
      "Epoch 84/100\n",
      "10/10 [==============================] - 3s 280ms/step - loss: 0.2657 - acc: 0.8939 - val_loss: 0.2600 - val_acc: 0.9180\n",
      "Epoch 85/100\n",
      "10/10 [==============================] - 3s 259ms/step - loss: 0.2654 - acc: 0.8942 - val_loss: 0.2269 - val_acc: 0.9258\n",
      "Epoch 86/100\n",
      "10/10 [==============================] - 3s 267ms/step - loss: 0.2715 - acc: 0.8907 - val_loss: 0.2311 - val_acc: 0.9258\n",
      "Epoch 87/100\n",
      "10/10 [==============================] - 3s 263ms/step - loss: 0.2642 - acc: 0.8930 - val_loss: 0.2537 - val_acc: 0.9043\n",
      "Epoch 88/100\n",
      "10/10 [==============================] - 3s 264ms/step - loss: 0.2608 - acc: 0.8967 - val_loss: 0.2530 - val_acc: 0.8984\n",
      "Epoch 89/100\n",
      "10/10 [==============================] - 3s 273ms/step - loss: 0.2616 - acc: 0.8980 - val_loss: 0.2412 - val_acc: 0.9102\n",
      "Epoch 90/100\n",
      "10/10 [==============================] - 3s 266ms/step - loss: 0.2734 - acc: 0.8906 - val_loss: 0.2477 - val_acc: 0.9141\n",
      "Epoch 91/100\n",
      "10/10 [==============================] - 3s 260ms/step - loss: 0.2680 - acc: 0.8930 - val_loss: 0.2419 - val_acc: 0.9004\n",
      "Epoch 92/100\n",
      "10/10 [==============================] - 3s 276ms/step - loss: 0.2575 - acc: 0.8971 - val_loss: 0.2288 - val_acc: 0.9180\n",
      "Epoch 93/100\n",
      "10/10 [==============================] - 3s 270ms/step - loss: 0.2597 - acc: 0.8958 - val_loss: 0.2358 - val_acc: 0.9180\n",
      "Epoch 94/100\n",
      "10/10 [==============================] - 3s 263ms/step - loss: 0.2635 - acc: 0.8940 - val_loss: 0.2361 - val_acc: 0.9160\n",
      "Epoch 95/100\n",
      "10/10 [==============================] - 3s 275ms/step - loss: 0.2602 - acc: 0.8937 - val_loss: 0.2390 - val_acc: 0.9121\n",
      "Epoch 96/100\n",
      "10/10 [==============================] - 3s 274ms/step - loss: 0.2626 - acc: 0.8978 - val_loss: 0.2566 - val_acc: 0.9062\n",
      "Epoch 97/100\n",
      "10/10 [==============================] - 3s 266ms/step - loss: 0.2635 - acc: 0.8959 - val_loss: 0.2216 - val_acc: 0.9336\n",
      "Epoch 98/100\n",
      "10/10 [==============================] - 3s 267ms/step - loss: 0.2691 - acc: 0.8928 - val_loss: 0.2289 - val_acc: 0.9160\n",
      "Epoch 99/100\n",
      "10/10 [==============================] - 3s 273ms/step - loss: 0.2514 - acc: 0.8984 - val_loss: 0.2287 - val_acc: 0.9160\n",
      "Epoch 100/100\n",
      "10/10 [==============================] - 3s 273ms/step - loss: 0.2549 - acc: 0.8999 - val_loss: 0.2265 - val_acc: 0.9121\n",
      "CPU times: user 7min 20s, sys: 1min 12s, total: 8min 32s\n",
      "Wall time: 4min 32s\n"
     ]
    }
   ],
   "source": [
    "%%time\n",
    "\n",
    "early = keras.callbacks.EarlyStopping(monitor='val_loss', patience=15, verbose=1, mode='auto')\n",
    "\n",
    "h_clf = model_clf.fit_generator(batch_classification_siamese(baseline.train_data, baseline.dup_sets_train, \n",
    "                                                             bug_train_ids, 1024, 1), \n",
    "                               steps_per_epoch = 10,\n",
    "                               validation_data=test_validation,\n",
    "                                             epochs = 100,\n",
    "#                                              callbacks=[early],\n",
    "                                             verbose = True) "
   ]
  },
  {
   "cell_type": "code",
   "execution_count": 24,
   "metadata": {
    "scrolled": false
   },
   "outputs": [
    {
     "data": {
      "image/png": "[encoded data removed]",
      "text/plain": [
       "<Figure size 432x288 with 1 Axes>"
      ]
     },
     "metadata": {
      "needs_background": "light"
     },
     "output_type": "display_data"
    },
    {
     "data": {
      "image/png": "[encoded data removed]",
      "text/plain": [
       "<Figure size 432x288 with 1 Axes>"
      ]
     },
     "metadata": {
      "needs_background": "light"
     },
     "output_type": "display_data"
    }
   ],
   "source": [
    "Baseline.validation_accuracy_loss(h_clf)"
   ]
  },
  {
   "cell_type": "markdown",
   "metadata": {},
   "source": [
    "### Accuracy"
   ]
  },
  {
   "cell_type": "code",
   "execution_count": 25,
   "metadata": {},
   "outputs": [],
   "source": [
    "result = { }"
   ]
  },
  {
   "cell_type": "markdown",
   "metadata": {},
   "source": [
    "#### train"
   ]
  },
  {
   "cell_type": "code",
   "execution_count": 26,
   "metadata": {},
   "outputs": [
    {
     "data": {
      "text/plain": [
       "0.857421875"
      ]
     },
     "execution_count": 26,
     "metadata": {},
     "output_type": "execute_result"
    }
   ],
   "source": [
    "from sklearn.metrics import accuracy_score\n",
    "\n",
    "title_a, title_b, desc_a, desc_b, info_a, info_b, sim = batch_classification(baseline.train_data, \n",
    "                                                                             baseline.dup_sets_train, bug_train_ids,  512, 1)\n",
    "\n",
    "y_true = sim\n",
    "y_scores = model_clf.predict([title_a, title_b, desc_a, desc_b, info_a, info_b])\n",
    "\n",
    "def normalize(row):\n",
    "    return [1 if(r > 0.5) else 0 for r in row]\n",
    "\n",
    "y_scores = list(map(normalize, y_scores))\n",
    "# y_scores\n",
    "def decode_ohe(row):\n",
    "    return 0 if(row[0] == 1) else 1\n",
    "y_scores = [ decode_ohe(r) for r in y_scores ]\n",
    "y_true = [ decode_ohe(r) for r in y_true ]\n",
    "acc_train = accuracy_score(y_true, y_scores)\n",
    "acc_train"
   ]
  },
  {
   "cell_type": "markdown",
   "metadata": {},
   "source": [
    "#### test"
   ]
  },
  {
   "cell_type": "code",
   "execution_count": 31,
   "metadata": {},
   "outputs": [
    {
     "data": {
      "text/plain": [
       "0.9039735099337748"
      ]
     },
     "execution_count": 31,
     "metadata": {},
     "output_type": "execute_result"
    }
   ],
   "source": [
    "from sklearn.metrics import accuracy_score\n",
    "\n",
    "number_of_pairs = len(baseline.test_data)\n",
    "\n",
    "title_a, title_b, desc_a, desc_b, info_a, info_b, sim = batch_classification(baseline.test_data, \n",
    "                                                                             baseline.dup_sets_test, \n",
    "                                                                             bug_test_ids, number_of_pairs, 1)\n",
    "\n",
    "y_true = sim\n",
    "y_scores = model_clf.predict([title_a, title_b, desc_a, desc_b, info_a, info_b])\n",
    "\n",
    "def normalize(row):\n",
    "    return [1 if(r > 0.5) else 0 for r in row]\n",
    "\n",
    "y_scores = list(map(normalize, y_scores))\n",
    "# y_scores\n",
    "def decode_ohe(row):\n",
    "    return 0 if(row[0] == 1) else 1\n",
    "y_scores = [ decode_ohe(r) for r in y_scores ]\n",
    "y_true = [ decode_ohe(r) for r in y_true ]\n",
    "acc_test = accuracy_score(y_true, y_scores)\n",
    "acc_test"
   ]
  },
  {
   "cell_type": "markdown",
   "metadata": {},
   "source": [
    "### Roc AUC/SCORE"
   ]
  },
  {
   "cell_type": "markdown",
   "metadata": {},
   "source": [
    "#### train"
   ]
  },
  {
   "cell_type": "code",
   "execution_count": 32,
   "metadata": {},
   "outputs": [
    {
     "data": {
      "text/plain": [
       "0.9334259033203125"
      ]
     },
     "execution_count": 32,
     "metadata": {},
     "output_type": "execute_result"
    }
   ],
   "source": [
    "from sklearn.metrics import roc_auc_score\n",
    "\n",
    "title_a, title_b, desc_a, desc_b, info_a, info_b, sim = batch_classification(baseline.train_data, \n",
    "                                                                             baseline.dup_sets_train, \n",
    "                                                                             bug_train_ids, 512, 1)\n",
    "\n",
    "y_true = sim\n",
    "y_scores = model_clf.predict([title_a, title_b, desc_a, desc_b, info_a, info_b])\n",
    "\n",
    "roc_train = roc_auc_score(y_true, y_scores)\n",
    "roc_train"
   ]
  },
  {
   "cell_type": "markdown",
   "metadata": {},
   "source": [
    "#### test"
   ]
  },
  {
   "cell_type": "code",
   "execution_count": 33,
   "metadata": {},
   "outputs": [
    {
     "data": {
      "text/plain": [
       "0.9817661506074296"
      ]
     },
     "execution_count": 33,
     "metadata": {},
     "output_type": "execute_result"
    }
   ],
   "source": [
    "from sklearn.metrics import roc_auc_score\n",
    "\n",
    "number_of_pairs = len(baseline.test_data)\n",
    "\n",
    "title_a, title_b, desc_a, desc_b, info_a, info_b, sim = batch_classification(baseline.test_data, \n",
    "                                                                             baseline.dup_sets_test,\n",
    "                                                                             bug_test_ids, number_of_pairs, 1)\n",
    "\n",
    "y_true = sim\n",
    "y_scores = model_clf.predict([title_a, title_b, desc_a, desc_b, info_a, info_b])\n",
    "\n",
    "roc_test = roc_auc_score(y_true, y_scores)\n",
    "roc_test"
   ]
  },
  {
   "cell_type": "markdown",
   "metadata": {},
   "source": [
    "#### Save the model"
   ]
  },
  {
   "cell_type": "code",
   "execution_count": 34,
   "metadata": {},
   "outputs": [],
   "source": [
    "experiment.save_model(model_clf, SAVE_PATH)"
   ]
  },
  {
   "cell_type": "markdown",
   "metadata": {},
   "source": [
    "#### Saving the accuracy and roc/auc"
   ]
  },
  {
   "cell_type": "code",
   "execution_count": 35,
   "metadata": {},
   "outputs": [
    {
     "name": "stdout",
     "output_type": "stream",
     "text": [
      "All saved.\n"
     ]
    }
   ],
   "source": [
    "import _pickle as pickle\n",
    "\n",
    "CLASSIFICATION_PATH = 'classification_{}.pkl'.format(METHOD)\n",
    "\n",
    "def save_result(result):\n",
    "    result = {\n",
    "        'acc_train' : acc_train,\n",
    "        'acc_test' : acc_test,\n",
    "        'roc_train' : roc_train,\n",
    "        'roc_test' : roc_test,\n",
    "        'method' : METHOD\n",
    "    }\n",
    "\n",
    "    with open(os.path.join(DIR, CLASSIFICATION_PATH), 'wb') as f:\n",
    "        pickle.dump(result, f)\n",
    "\n",
    "try:\n",
    "    with open(os.path.join(DIR, CLASSIFICATION_PATH), 'rb') as f:\n",
    "        result = pickle.load(f)\n",
    "    save_result(result)\n",
    "except:\n",
    "    save_result(result)\n",
    "    \n",
    "print(\"All saved.\")"
   ]
  }
 ],
 "metadata": {
  "kernelspec": {
   "display_name": "Python 3",
   "language": "python",
   "name": "python3"
  },
  "language_info": {
   "codemirror_mode": {
    "name": "ipython",
    "version": 3
   },
   "file_extension": ".py",
   "mimetype": "text/x-python",
   "name": "python",
   "nbconvert_exporter": "python",
   "pygments_lexer": "ipython3",
   "version": "3.5.2"
  }
 },
 "nbformat": 4,
 "nbformat_minor": 2
}
